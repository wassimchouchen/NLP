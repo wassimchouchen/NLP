{
 "cells": [
  {
   "cell_type": "code",
   "execution_count": 1,
   "id": "0be3bf8f",
   "metadata": {
    "_cell_guid": "b1076dfc-b9ad-4769-8c92-a6c4dae69d19",
    "_uuid": "8f2839f25d086af736a60e9eeb907d3b93b6e0e5",
    "execution": {
     "iopub.execute_input": "2022-06-28T10:01:40.685298Z",
     "iopub.status.busy": "2022-06-28T10:01:40.684782Z",
     "iopub.status.idle": "2022-06-28T10:01:47.716766Z",
     "shell.execute_reply": "2022-06-28T10:01:47.715777Z"
    },
    "papermill": {
     "duration": 7.047473,
     "end_time": "2022-06-28T10:01:47.719311",
     "exception": false,
     "start_time": "2022-06-28T10:01:40.671838",
     "status": "completed"
    },
    "tags": []
   },
   "outputs": [],
   "source": [
    "import numpy as np\n",
    "import pandas as pd \n",
    "import seaborn as sns\n",
    "import matplotlib.pyplot as plt \n",
    "import matplotlib.style as stl \n",
    "from tensorflow import keras \n",
    "from keras.preprocessing.text import Tokenizer\n",
    "from nltk.corpus import stopwords\n",
    "import string\n",
    "from tensorflow.keras.models import Sequential,Model\n",
    "from tensorflow.keras.layers import Dense, LSTM, Embedding,Dropout,SpatialDropout1D,Conv1D,MaxPooling1D,GRU,BatchNormalization\n",
    "import warnings\n",
    "warnings.filterwarnings('ignore')\n",
    "stl.use('ggplot')\n",
    "from tqdm import tqdm\n",
    "import string\n",
    "from nltk.corpus import stopwords\n",
    "from nltk.tokenize import word_tokenize\n",
    "from nltk.stem import WordNetLemmatizer\n",
    "from nltk.stem.snowball import SnowballStemmer\n",
    "import regex as re\n",
    "import time\n",
    "import pickle"
   ]
  },
  {
   "cell_type": "code",
   "execution_count": 2,
   "id": "f33fd0bb",
   "metadata": {
    "execution": {
     "iopub.execute_input": "2022-06-28T10:01:47.741443Z",
     "iopub.status.busy": "2022-06-28T10:01:47.740349Z",
     "iopub.status.idle": "2022-06-28T10:01:47.891551Z",
     "shell.execute_reply": "2022-06-28T10:01:47.890597Z"
    },
    "papermill": {
     "duration": 0.164335,
     "end_time": "2022-06-28T10:01:47.893990",
     "exception": false,
     "start_time": "2022-06-28T10:01:47.729655",
     "status": "completed"
    },
    "tags": []
   },
   "outputs": [],
   "source": [
    "recordC=pd.read_csv(\"../input/categories/recordC (1).csv\")"
   ]
  },
  {
   "cell_type": "code",
   "execution_count": 3,
   "id": "6d1950f7",
   "metadata": {
    "execution": {
     "iopub.execute_input": "2022-06-28T10:01:47.916130Z",
     "iopub.status.busy": "2022-06-28T10:01:47.915240Z",
     "iopub.status.idle": "2022-06-28T10:01:47.941260Z",
     "shell.execute_reply": "2022-06-28T10:01:47.940183Z"
    },
    "papermill": {
     "duration": 0.040378,
     "end_time": "2022-06-28T10:01:47.944551",
     "exception": false,
     "start_time": "2022-06-28T10:01:47.904173",
     "status": "completed"
    },
    "tags": []
   },
   "outputs": [
    {
     "data": {
      "text/html": [
       "<div>\n",
       "<style scoped>\n",
       "    .dataframe tbody tr th:only-of-type {\n",
       "        vertical-align: middle;\n",
       "    }\n",
       "\n",
       "    .dataframe tbody tr th {\n",
       "        vertical-align: top;\n",
       "    }\n",
       "\n",
       "    .dataframe thead th {\n",
       "        text-align: right;\n",
       "    }\n",
       "</style>\n",
       "<table border=\"1\" class=\"dataframe\">\n",
       "  <thead>\n",
       "    <tr style=\"text-align: right;\">\n",
       "      <th></th>\n",
       "      <th>document_id</th>\n",
       "      <th>status</th>\n",
       "      <th>document_url</th>\n",
       "      <th>media_type</th>\n",
       "      <th>media_link</th>\n",
       "      <th>relative_media_path</th>\n",
       "      <th>is_media_downloaded</th>\n",
       "      <th>transcription_text</th>\n",
       "      <th>transcription_text_relative_path</th>\n",
       "      <th>from_time</th>\n",
       "      <th>to_time</th>\n",
       "      <th>project_id</th>\n",
       "      <th>Category</th>\n",
       "      <th>Unnamed: 13</th>\n",
       "      <th>Unnamed: 14</th>\n",
       "    </tr>\n",
       "  </thead>\n",
       "  <tbody>\n",
       "    <tr>\n",
       "      <th>0</th>\n",
       "      <td>NMAAHC-004567415_00</td>\n",
       "      <td>Complete</td>\n",
       "      <td>https://transcription.si.edu/transcribe/15369/...</td>\n",
       "      <td>image</td>\n",
       "      <td>https://ids.si.edu/ids/deliveryService?max_w=&amp;...</td>\n",
       "      <td>/15369/image/NMAAHC-004567415_00.jpg</td>\n",
       "      <td>0</td>\n",
       "      <td>and one hundred dollars. I have never heard Ba...</td>\n",
       "      <td>/15369/transcriptions/NMAAHC-004567415_00.txt</td>\n",
       "      <td>\\N</td>\n",
       "      <td>\\N</td>\n",
       "      <td>15369</td>\n",
       "      <td>Records - Court</td>\n",
       "      <td>NaN</td>\n",
       "      <td>NaN</td>\n",
       "    </tr>\n",
       "    <tr>\n",
       "      <th>1</th>\n",
       "      <td>NMAAHC-004567415_00020</td>\n",
       "      <td>Complete</td>\n",
       "      <td>https://transcription.si.edu/transcribe/15369/...</td>\n",
       "      <td>image</td>\n",
       "      <td>https://ids.si.edu/ids/deliveryService?max_w=&amp;...</td>\n",
       "      <td>/15369/image/NMAAHC-004567415_00020.jpg</td>\n",
       "      <td>1</td>\n",
       "      <td>The Freedmen's Bureau\\r\\nvs.\\r\\nB.M. Richardso...</td>\n",
       "      <td>/15369/transcriptions/NMAAHC-004567415_00020.txt</td>\n",
       "      <td>\\N</td>\n",
       "      <td>\\N</td>\n",
       "      <td>15369</td>\n",
       "      <td>Records - Court</td>\n",
       "      <td>NaN</td>\n",
       "      <td>NaN</td>\n",
       "    </tr>\n",
       "    <tr>\n",
       "      <th>2</th>\n",
       "      <td>NMAAHC-004567415_00021</td>\n",
       "      <td>Complete</td>\n",
       "      <td>https://transcription.si.edu/transcribe/15369/...</td>\n",
       "      <td>image</td>\n",
       "      <td>https://ids.si.edu/ids/deliveryService?max_w=&amp;...</td>\n",
       "      <td>/15369/image/NMAAHC-004567415_00021.jpg</td>\n",
       "      <td>1</td>\n",
       "      <td>The Freedmen's Bureau\\r\\nvs.\\r\\nB. M. Richards...</td>\n",
       "      <td>/15369/transcriptions/NMAAHC-004567415_00021.txt</td>\n",
       "      <td>\\N</td>\n",
       "      <td>\\N</td>\n",
       "      <td>15369</td>\n",
       "      <td>Records - Court</td>\n",
       "      <td>NaN</td>\n",
       "      <td>NaN</td>\n",
       "    </tr>\n",
       "    <tr>\n",
       "      <th>3</th>\n",
       "      <td>NMAAHC-004567415_00022</td>\n",
       "      <td>Complete</td>\n",
       "      <td>https://transcription.si.edu/transcribe/15369/...</td>\n",
       "      <td>image</td>\n",
       "      <td>https://ids.si.edu/ids/deliveryService?max_w=&amp;...</td>\n",
       "      <td>/15369/image/NMAAHC-004567415_00022.jpg</td>\n",
       "      <td>1</td>\n",
       "      <td>me one hundred dollars, two suits of clothes a...</td>\n",
       "      <td>/15369/transcriptions/NMAAHC-004567415_00022.txt</td>\n",
       "      <td>\\N</td>\n",
       "      <td>\\N</td>\n",
       "      <td>15369</td>\n",
       "      <td>Records - Court</td>\n",
       "      <td>NaN</td>\n",
       "      <td>NaN</td>\n",
       "    </tr>\n",
       "    <tr>\n",
       "      <th>4</th>\n",
       "      <td>NMAAHC-004567415_00023</td>\n",
       "      <td>Complete</td>\n",
       "      <td>https://transcription.si.edu/transcribe/15369/...</td>\n",
       "      <td>image</td>\n",
       "      <td>https://ids.si.edu/ids/deliveryService?max_w=&amp;...</td>\n",
       "      <td>/15369/image/NMAAHC-004567415_00023.jpg</td>\n",
       "      <td>1</td>\n",
       "      <td>questions again, and I gave him the same answe...</td>\n",
       "      <td>/15369/transcriptions/NMAAHC-004567415_00023.txt</td>\n",
       "      <td>\\N</td>\n",
       "      <td>\\N</td>\n",
       "      <td>15369</td>\n",
       "      <td>Records - Court</td>\n",
       "      <td>NaN</td>\n",
       "      <td>NaN</td>\n",
       "    </tr>\n",
       "  </tbody>\n",
       "</table>\n",
       "</div>"
      ],
      "text/plain": [
       "              document_id    status  \\\n",
       "0     NMAAHC-004567415_00  Complete   \n",
       "1  NMAAHC-004567415_00020  Complete   \n",
       "2  NMAAHC-004567415_00021  Complete   \n",
       "3  NMAAHC-004567415_00022  Complete   \n",
       "4  NMAAHC-004567415_00023  Complete   \n",
       "\n",
       "                                        document_url media_type  \\\n",
       "0  https://transcription.si.edu/transcribe/15369/...      image   \n",
       "1  https://transcription.si.edu/transcribe/15369/...      image   \n",
       "2  https://transcription.si.edu/transcribe/15369/...      image   \n",
       "3  https://transcription.si.edu/transcribe/15369/...      image   \n",
       "4  https://transcription.si.edu/transcribe/15369/...      image   \n",
       "\n",
       "                                          media_link  \\\n",
       "0  https://ids.si.edu/ids/deliveryService?max_w=&...   \n",
       "1  https://ids.si.edu/ids/deliveryService?max_w=&...   \n",
       "2  https://ids.si.edu/ids/deliveryService?max_w=&...   \n",
       "3  https://ids.si.edu/ids/deliveryService?max_w=&...   \n",
       "4  https://ids.si.edu/ids/deliveryService?max_w=&...   \n",
       "\n",
       "                       relative_media_path  is_media_downloaded  \\\n",
       "0     /15369/image/NMAAHC-004567415_00.jpg                    0   \n",
       "1  /15369/image/NMAAHC-004567415_00020.jpg                    1   \n",
       "2  /15369/image/NMAAHC-004567415_00021.jpg                    1   \n",
       "3  /15369/image/NMAAHC-004567415_00022.jpg                    1   \n",
       "4  /15369/image/NMAAHC-004567415_00023.jpg                    1   \n",
       "\n",
       "                                  transcription_text  \\\n",
       "0  and one hundred dollars. I have never heard Ba...   \n",
       "1  The Freedmen's Bureau\\r\\nvs.\\r\\nB.M. Richardso...   \n",
       "2  The Freedmen's Bureau\\r\\nvs.\\r\\nB. M. Richards...   \n",
       "3  me one hundred dollars, two suits of clothes a...   \n",
       "4  questions again, and I gave him the same answe...   \n",
       "\n",
       "                   transcription_text_relative_path from_time to_time  \\\n",
       "0     /15369/transcriptions/NMAAHC-004567415_00.txt        \\N      \\N   \n",
       "1  /15369/transcriptions/NMAAHC-004567415_00020.txt        \\N      \\N   \n",
       "2  /15369/transcriptions/NMAAHC-004567415_00021.txt        \\N      \\N   \n",
       "3  /15369/transcriptions/NMAAHC-004567415_00022.txt        \\N      \\N   \n",
       "4  /15369/transcriptions/NMAAHC-004567415_00023.txt        \\N      \\N   \n",
       "\n",
       "   project_id         Category  Unnamed: 13  Unnamed: 14  \n",
       "0       15369  Records - Court          NaN          NaN  \n",
       "1       15369  Records - Court          NaN          NaN  \n",
       "2       15369  Records - Court          NaN          NaN  \n",
       "3       15369  Records - Court          NaN          NaN  \n",
       "4       15369  Records - Court          NaN          NaN  "
      ]
     },
     "execution_count": 3,
     "metadata": {},
     "output_type": "execute_result"
    }
   ],
   "source": [
    "recordC.head()"
   ]
  },
  {
   "cell_type": "code",
   "execution_count": 4,
   "id": "5deaeb57",
   "metadata": {
    "execution": {
     "iopub.execute_input": "2022-06-28T10:01:47.966579Z",
     "iopub.status.busy": "2022-06-28T10:01:47.966274Z",
     "iopub.status.idle": "2022-06-28T10:01:47.973014Z",
     "shell.execute_reply": "2022-06-28T10:01:47.972106Z"
    },
    "papermill": {
     "duration": 0.020278,
     "end_time": "2022-06-28T10:01:47.974978",
     "exception": false,
     "start_time": "2022-06-28T10:01:47.954700",
     "status": "completed"
    },
    "tags": []
   },
   "outputs": [
    {
     "data": {
      "text/plain": [
       "(6135, 15)"
      ]
     },
     "execution_count": 4,
     "metadata": {},
     "output_type": "execute_result"
    }
   ],
   "source": [
    "recordC.shape"
   ]
  },
  {
   "cell_type": "code",
   "execution_count": 5,
   "id": "b40815d8",
   "metadata": {
    "execution": {
     "iopub.execute_input": "2022-06-28T10:01:47.997118Z",
     "iopub.status.busy": "2022-06-28T10:01:47.996854Z",
     "iopub.status.idle": "2022-06-28T10:01:48.003665Z",
     "shell.execute_reply": "2022-06-28T10:01:48.002762Z"
    },
    "papermill": {
     "duration": 0.020444,
     "end_time": "2022-06-28T10:01:48.005577",
     "exception": false,
     "start_time": "2022-06-28T10:01:47.985133",
     "status": "completed"
    },
    "tags": []
   },
   "outputs": [],
   "source": [
    "recordC_text=recordC[\"transcription_text\"]"
   ]
  },
  {
   "cell_type": "code",
   "execution_count": 6,
   "id": "9019330a",
   "metadata": {
    "_kg_hide-output": true,
    "execution": {
     "iopub.execute_input": "2022-06-28T10:01:48.028641Z",
     "iopub.status.busy": "2022-06-28T10:01:48.027881Z",
     "iopub.status.idle": "2022-06-28T10:01:48.032832Z",
     "shell.execute_reply": "2022-06-28T10:01:48.031924Z"
    },
    "papermill": {
     "duration": 0.019403,
     "end_time": "2022-06-28T10:01:48.035856",
     "exception": false,
     "start_time": "2022-06-28T10:01:48.016453",
     "status": "completed"
    },
    "tags": []
   },
   "outputs": [
    {
     "name": "stdout",
     "output_type": "stream",
     "text": [
      "and one hundred dollars. I have never heard Bagby complain but have heard him say that he dared Mr Richardson to whip him \r\n",
      "\r\n",
      "[[signature]] W.M. Henry [[/signature]]\r\n",
      "\r\n",
      "Signed sealed and sworn to before me, March 19th 1866.\r\n",
      "\r\n",
      "[[signature]] H.H. Holton [[/signature]] J. Peace \r\n",
      "\r\n",
      "Edward Homer being again sworn saith he never saw or knew of Mr Richardson's whipping or correcting said Bagby, and when good reason and prudence demanded chastisement, and then in a proper manner, that he was never bodily injured, or caused to ly up or stop from labor, or eating, from any such correction\r\n",
      "\r\n",
      "[[signature]] Mr Edward Horner [[/signature]] {seal}\r\n",
      "\r\n",
      "Sworn to and subscribed March 19 1866\r\n",
      "[[signature]] H.H. Holton [[/signature]]\r\n",
      "\r\n",
      "[[strikethrough]]\r\n",
      "\"Examines before Court\" Mathew Baldwin being again sworn saith that he has heard Bagly speak of his contract with Mr Richardson he expressed himself satisfied\r\n",
      "\r\n",
      "I advised him that it was a good trade and the contract with it, he never complained of his treatment, said he was well treated When he asked for anything he got it, he goes well dressed he frequently comes about me perhaps more than he goes anywhere else. I know of no one who is any [[underlined]] better [[/underlined]] treated, [[signature]] Mathew his x mark Baldwin [[/signature]]\r\n",
      "H.H. Holton  [[?]]\r\n",
      "[[/strikethrough]]\n"
     ]
    }
   ],
   "source": [
    "print(recordC_text[0])"
   ]
  },
  {
   "cell_type": "code",
   "execution_count": 7,
   "id": "fdf13b73",
   "metadata": {
    "_kg_hide-output": true,
    "execution": {
     "iopub.execute_input": "2022-06-28T10:01:48.058681Z",
     "iopub.status.busy": "2022-06-28T10:01:48.057712Z",
     "iopub.status.idle": "2022-06-28T10:01:48.064102Z",
     "shell.execute_reply": "2022-06-28T10:01:48.062382Z"
    },
    "papermill": {
     "duration": 0.0199,
     "end_time": "2022-06-28T10:01:48.066043",
     "exception": false,
     "start_time": "2022-06-28T10:01:48.046143",
     "status": "completed"
    },
    "tags": []
   },
   "outputs": [
    {
     "name": "stdout",
     "output_type": "stream",
     "text": [
      "Ans.  He did. About those words.\r\n",
      "\r\n",
      "Ques. by Def.  Did you not hear the paper read and agree to go back?\r\n",
      "\r\n",
      "Ans.  Mr. Parker read it to me, and advised me to go back.\r\n",
      "\r\n",
      "Ques. by Def.  Was any force used to compel you to go back?\r\n",
      "\r\n",
      "Ans.  Yes: he said if I din't go back, he would put me in jail and it would cost me $600.\r\n",
      "\r\n",
      "Ques. by Def.  (Producing paper)  If this is not the paper that was read to you?\r\n",
      "\r\n",
      "Ans.  I do not know, as I can neither read nor write. You are asking me too much now.\r\n",
      "\r\n",
      "Ques. by Def.  Did you agree to the paper binding you?\r\n",
      "\r\n",
      "Ans.  I do not recollect of answering.\r\n",
      "\r\n",
      "Ques. by Def.  Yo have no recollection of assenting to it?\r\n",
      "\r\n",
      "Ans. I did not give any answer at all.\r\n",
      "\r\n",
      "Ques. by Def.  Do you know one John A Bailey?\r\n",
      "\r\n",
      "Ans.  I do.\r\n",
      "\r\n",
      "Ques. by Def.  Have you ever told him anything about Richardson not whipping you?\r\n",
      "\r\n",
      "Ans.  No Sir; I never told any living man that Mr. Richardson had never whipped me.\r\n",
      "\r\n",
      "Ques. by Def.  Did Richardson resort to any force to keep you?\r\n",
      "\r\n",
      "Ans.  Don't think he did.\r\n",
      "\r\n",
      "Ques. by Prosecution  Who first carried you to Green Swamp?\r\n",
      "\r\n",
      "Ans.  I first belonged to Mr. Bagley; he sent me\n"
     ]
    }
   ],
   "source": [
    "print(recordC_text[10])"
   ]
  },
  {
   "cell_type": "code",
   "execution_count": 8,
   "id": "6b163123",
   "metadata": {
    "_kg_hide-output": true,
    "execution": {
     "iopub.execute_input": "2022-06-28T10:01:48.089117Z",
     "iopub.status.busy": "2022-06-28T10:01:48.088830Z",
     "iopub.status.idle": "2022-06-28T10:01:48.094132Z",
     "shell.execute_reply": "2022-06-28T10:01:48.093237Z"
    },
    "papermill": {
     "duration": 0.019556,
     "end_time": "2022-06-28T10:01:48.096505",
     "exception": false,
     "start_time": "2022-06-28T10:01:48.076949",
     "status": "completed"
    },
    "tags": []
   },
   "outputs": [
    {
     "name": "stdout",
     "output_type": "stream",
     "text": [
      "Case of Mr. William Barnes of Hilson W.C. charged with gross abuse to an aged woman of color and her Daughter.\r\n",
      "\r\n",
      "Chany the abused states as follows\r\n",
      "\r\n",
      "II that Miss Sally Barnes wife of the accused beat her with her hands\r\n",
      "\r\n",
      "IIII That not satisfied with this the said Miss Barnes beat her with a shingle, that she \"Chaney\" caught hold of the shingle, when Mr Barnes appeared and said, Jam turn that shingle loose you g_d d_d old b_h or die knock you in the head with this walking stick-whereupon  she \"Chaney\" let go of the shingle and suffered Miss Barnes to continue beating her.\r\n",
      "\r\n",
      "IIII That while Mr. Barnes and family were at breakfast, she started for the town of Hilson Hilson Co. to report the case to Capt Bullock of the Socae Polies for said be\r\n",
      "\r\n",
      "IIV That she was turned by back by some person unknown to her who claimed to be a Yankee\n"
     ]
    }
   ],
   "source": [
    "print(recordC_text[100])"
   ]
  },
  {
   "cell_type": "code",
   "execution_count": 9,
   "id": "c38caf3e",
   "metadata": {
    "_kg_hide-output": true,
    "execution": {
     "iopub.execute_input": "2022-06-28T10:01:48.119381Z",
     "iopub.status.busy": "2022-06-28T10:01:48.119086Z",
     "iopub.status.idle": "2022-06-28T10:01:48.123879Z",
     "shell.execute_reply": "2022-06-28T10:01:48.122977Z"
    },
    "papermill": {
     "duration": 0.018547,
     "end_time": "2022-06-28T10:01:48.126295",
     "exception": false,
     "start_time": "2022-06-28T10:01:48.107748",
     "status": "completed"
    },
    "tags": []
   },
   "outputs": [
    {
     "name": "stdout",
     "output_type": "stream",
     "text": [
      "10\r\n",
      "[[2 column table]]\r\n",
      "Complaint | Disposition\r\n",
      "\r\n",
      "Nov 4 1867 Mr. R. C. Stuart, White, complains that one Jacob Corcoran. (Black) after contracting to work one year for him, has left the Plantation [with?] gathering the crop &c. | Letter sent to Corcoran to appear at this office Thursday Nov 7, 1867 to explain his reasons for leaving Mr. Stuart before the crop was gathered. Jake appeared and the case settled.\r\n",
      "\r\n",
      "Nov 5 1867 Mr. Z. L. Morris (white) complains that Zenas Hunter & Dave Wallace (Freedmen) are not laboring according to contract | Nov 5th 1867 Letter sent to Zenas Hunter & Dave Wallace to appear at his office Thursday Nov 7 1867 to bring their accounts with them &c Dave appeared and the contract was explained to him.\r\n",
      "\r\n",
      "Nov 6 1867 E. Lowengard, white, complains that one Isaac Harry (Black) owes him $240.00 dolls. and will not pay him anything. Said Isaac owes it to Mr. Lowengard for goods &c purchased | Isaac paid Mr. Lowengard $100.00 dolls.\r\n",
      "\r\n",
      "Nov 7 1867 Willoby Sawyer (Freedman) complains that one Windyke (White) owes him 20 bushels of corn for 3 1/2 months labor from February 24, 1867 to June '67. Refuses to pay him anything &c. | Letter sent to Windyke telling him if he cannot settle with Sawyer to appear at this office Thursday Nov 14 1867. Both parties appeared at this office and the case settled. Vandike giving Willoughby 9 Bu of corn the amount coming to him\r\n",
      "\r\n",
      "11\r\n",
      "[[2 column table]]\r\n",
      "Complaint | Disposition\r\n",
      "Nov 7 1867 Albert Torrence (Black) complains that one Horace Young (Black) owes him about $32.00 dolls. for corn and is endeavoring to cheat him out of the money. | Nov. 7th 1867 Letter sent to Young to appear at this office Saturday Nov 9 1867 to explain his reasons for not paying Albert the money\r\n",
      "\r\n",
      "Nov 7 1867 Elias Wallace (Freedman) complains that one Cate Ross (F) has accused him of stealing and he (Wallace) wanted a writ to bring said Ross to the Bureau. | Told Wallace to go back and if they wanted to arrest him to allow them to do so and thus have the matter investigated.\r\n",
      "\r\n",
      "Nov 7 1867 F. H. Maxwell, white, complains that he hired a freedboy named George for four months from the boys mother Lizzie and in settling with her she claims 7 50/100 doll. when he had only promised to give him $30.00 dolls. | Freedwoman came in and after inquiry into the case Mr Maxwell agreed to give the woman $7 50/100 dolls per month for the boys\n"
     ]
    }
   ],
   "source": [
    "print(recordC_text[500])"
   ]
  },
  {
   "cell_type": "code",
   "execution_count": 10,
   "id": "5949ae8f",
   "metadata": {
    "_kg_hide-output": true,
    "execution": {
     "iopub.execute_input": "2022-06-28T10:01:48.148802Z",
     "iopub.status.busy": "2022-06-28T10:01:48.148083Z",
     "iopub.status.idle": "2022-06-28T10:01:48.153888Z",
     "shell.execute_reply": "2022-06-28T10:01:48.152455Z"
    },
    "papermill": {
     "duration": 0.01962,
     "end_time": "2022-06-28T10:01:48.156379",
     "exception": false,
     "start_time": "2022-06-28T10:01:48.136759",
     "status": "completed"
    },
    "tags": []
   },
   "outputs": [
    {
     "name": "stdout",
     "output_type": "stream",
     "text": [
      "[[6 columned table]]\r\n",
      "\r\n",
      "|No.|Date|Plaintiff & Defendant|Nature of Complaint|Action Taken|Remarks|\r\n",
      "\r\n",
      "|80|Aug 13th 1868 L.S. 115|Maria Burns \"Frd v.s. James Register \"W\"|Complains that Register owes her daughter $7 00/100 for two months work.|---|To settle or appear at these Hd.Qrs. Saturday 11 o'clock A.M. August 22nd 1868|\r\n",
      "\r\n",
      "81|Aug 17th 1868 L.S. 116|Tom McDougall \"Frd v.s. James Calvin \"White\"|Complains that Calvin owes his son Willis $11 85/100 less cash $2 00/100|---|To settle at once or report at this office Saturday at 1 o'clock P.M. August 24th 1868|\r\n",
      "\r\n",
      "|82|Aug 19 1868 L.S. 116|Randerson Simmons vs. Sophia Hussil white|Complains that Sophia owe his son Arnold $1 18/100 for labor performed|---|To settle immediately or report at this office Aug 22 Saturday at 12 o'clock A.M. 1868|\r\n",
      "\r\n",
      "\n"
     ]
    }
   ],
   "source": [
    "print(recordC_text[700])"
   ]
  },
  {
   "cell_type": "code",
   "execution_count": 11,
   "id": "f851f332",
   "metadata": {
    "_kg_hide-output": true,
    "execution": {
     "iopub.execute_input": "2022-06-28T10:01:48.180891Z",
     "iopub.status.busy": "2022-06-28T10:01:48.179991Z",
     "iopub.status.idle": "2022-06-28T10:01:48.185467Z",
     "shell.execute_reply": "2022-06-28T10:01:48.184543Z"
    },
    "papermill": {
     "duration": 0.020468,
     "end_time": "2022-06-28T10:01:48.188155",
     "exception": false,
     "start_time": "2022-06-28T10:01:48.167687",
     "status": "completed"
    },
    "tags": []
   },
   "outputs": [
    {
     "name": "stdout",
     "output_type": "stream",
     "text": [
      "135  \r\n",
      "Case  \r\n",
      "Anthony Galloway Esq complains that their crop is not being divide correct between him and Miss Lizzie McMely\r\n",
      "Greensboro, N.C. Dec 8th 67.\r\n",
      "\r\n",
      "Lewis Mr C.A.\r\n",
      "Guilford County N.C.\r\n",
      "\r\n",
      "Sir\r\n",
      "You are hereby appointed, to divide the crop raised on the plantation of Miss Lizzie MMely by Anthony Galloway. In the contract she agrees to furnish two mules (which includes keeping) and as she did not keep them (the mules) furnished, the account of Anthony against her for feeding mules &c must be allowed.\r\n",
      "Very Respectfully Yours\r\n",
      "Hugo Hillebrandt\r\n",
      "Capt V.R.C. Sub\r\n",
      "Asst Comr.\r\n",
      "\r\n",
      "[[left margin]]\r\n",
      "Mr Lewis\r\n",
      "Reports having setted the case satisfactorily and according to orders &c.\r\n",
      "Dec 10th 67.\r\n",
      "[[/left margin]]\r\n",
      "\r\n",
      "Case\r\n",
      "Willis (w) refuses to settle fairly and according to contract about crop.\r\n",
      "Greensboro N.C. December 4th 67.\r\n",
      "\r\n",
      "Willis, Mr E.D.\r\n",
      "Rockingham Co N.C.\r\n",
      "\r\n",
      "Sir\r\n",
      "Wiley Gun Esq. (col) complains that you have not and will not settle with him - according to agreement, this is therefore to inform you that if you do not immediately settle with him right you will be compelled to appear at this office and show cause for not so doing\r\n",
      "Hugo Hillebrandt\r\n",
      "Capt V.R.C. Sub\r\n",
      "Asst Comr.\r\n",
      "\r\n",
      "[[left margin]]\r\n",
      "See letter of Mr Willis on file in this office\r\n",
      "[[/left margin]]\r\n",
      "\r\n",
      "136\r\n",
      "Case\r\n",
      "John Warwick Cardwell complains that Thomas Griffin will not let him have his crop\r\n",
      "Greensboro N.C. Dec 4th 1867.\r\n",
      "\r\n",
      "Gentry Mr. W.C.\r\n",
      "Sheriff of Stokes Co. N.C.\r\n",
      "Danbury N.C.\r\n",
      "\r\n",
      "Sir\r\n",
      "You are hereby ordered to order Thomas Griffin to appear at Danbury at the next Court, to have the case settled between him and John Warwick Cardwell. You will also instruct Griffin to let Cardwell have one barrel of Corn to subsist upon until the case is settled.\r\n",
      "Respy Yours,\r\n",
      "Hugo Hillebrandt\r\n",
      "Capt. V.R.C. Sub\r\n",
      "Asst Comr.\r\n",
      "\r\n",
      "[[left margin]]\r\n",
      "Settled,\r\n",
      "Warwick allowed five barrels of Corn.\r\n",
      "[[/left margin]]\r\n",
      "\r\n",
      "Case\r\n",
      "[[?]]nter N.C.\r\n",
      "Adalaide Morse v.s. Mrs Nancy Gray & Zeb- Pierce of Randolph Co for labor rendered.\r\n",
      "Greensboro N.C. Dec 5th 1867.\r\n",
      "\r\n",
      "Henderson W.F.\r\n",
      "Agent Bu R.F. & AL\r\n",
      "Lexington, N.C.\r\n",
      "\r\n",
      "Sir\r\n",
      "Enclosed herewith you will find two affidavits of Adalaide Moss, formerly of Randolph County in regard to Zebedee Pierce and Mrs Nancy Gray owing her. You will please see that the cases are acted upon immediately both parties live in Randolph somewhere.\r\n",
      "Whatever you recover, notify this office cash will be sent as heretofore\r\n",
      "Very Respectfully Yours\r\n",
      "Hugo Hillebrandt\r\n",
      "Capt. V.R.C. Sub Asst\r\n",
      "Commissioner \r\n",
      "\n"
     ]
    }
   ],
   "source": [
    "print(recordC_text[1005])"
   ]
  },
  {
   "cell_type": "code",
   "execution_count": 12,
   "id": "2cf9be31",
   "metadata": {
    "execution": {
     "iopub.execute_input": "2022-06-28T10:01:48.211708Z",
     "iopub.status.busy": "2022-06-28T10:01:48.211162Z",
     "iopub.status.idle": "2022-06-28T10:01:48.217142Z",
     "shell.execute_reply": "2022-06-28T10:01:48.216303Z"
    },
    "papermill": {
     "duration": 0.019476,
     "end_time": "2022-06-28T10:01:48.219114",
     "exception": false,
     "start_time": "2022-06-28T10:01:48.199638",
     "status": "completed"
    },
    "tags": []
   },
   "outputs": [
    {
     "name": "stdout",
     "output_type": "stream",
     "text": [
      "Thompsonville P.O.\r\n",
      "Rockingham Co N.C.\r\n",
      "Nov. 2. 1867\r\n",
      "\r\n",
      "Capt Hillebrandt\r\n",
      "Greensboro N.C.\r\n",
      "Dear Sir\r\n",
      "In pusuance to an order issued from your office the 25th [[?]]. I proceeded to listen to the arbitration between Oliver Washington and Capt L L B Smith of this county in relation to the building of a mill dam. The arbiters chosen by the contending parties decided that the contract had not been completed with in any particular as relating to the dam. and I concur with them in this decision. and further it is decided that the said Washington (Col) is not entitled to any pay until he completes the job in accordance with the contract. The arbiters acted upon oath. The arbiter chosen by Capt Smith is Jake Waynick, Washington chose Emily Green of Color.\r\n",
      "\r\n",
      "Very respectfully and truly yours.\r\n",
      "Martin Clemmons J.P.\r\n",
      "\n"
     ]
    }
   ],
   "source": [
    "print(recordC_text[1300])"
   ]
  },
  {
   "cell_type": "code",
   "execution_count": 13,
   "id": "07711430",
   "metadata": {
    "execution": {
     "iopub.execute_input": "2022-06-28T10:01:48.242429Z",
     "iopub.status.busy": "2022-06-28T10:01:48.241693Z",
     "iopub.status.idle": "2022-06-28T10:02:03.636864Z",
     "shell.execute_reply": "2022-06-28T10:02:03.635467Z"
    },
    "papermill": {
     "duration": 15.409079,
     "end_time": "2022-06-28T10:02:03.638963",
     "exception": false,
     "start_time": "2022-06-28T10:01:48.229884",
     "status": "completed"
    },
    "tags": []
   },
   "outputs": [
    {
     "name": "stderr",
     "output_type": "stream",
     "text": [
      "100%|██████████| 6135/6135 [00:13<00:00, 460.79it/s]\n",
      "100%|██████████| 6135/6135 [00:02<00:00, 2982.85it/s]\n"
     ]
    }
   ],
   "source": [
    "stop_words = set(stopwords.words('english'))\n",
    "punctuation = string.punctuation\n",
    "stemmer = SnowballStemmer(language=\"english\")\n",
    "lemmatizer = WordNetLemmatizer()\n",
    "stop_words.remove(\"of\")\n",
    "punct='!\"#$%&\\'()*+-/<=>?@[\\\\]^_`{|}~'\n",
    "def process(s):\n",
    "    s= re.sub(\"([\\[]).*?([\\]])\",\" \",s)\n",
    "    for p in punct:\n",
    "        s = s.replace(p, '')\n",
    "    s = word_tokenize(s)\n",
    "    s = [w for w in s if not w in stop_words] #optional\n",
    "    return s\n",
    "for i in tqdm(range(len(recordC_text))):\n",
    "    recordC_text[i] = process(recordC_text[i])\n",
    "for i in tqdm(range(len(recordC_text))):\n",
    "    recordC_text[i] = \" \".join(recordC_text[i])"
   ]
  },
  {
   "cell_type": "code",
   "execution_count": 14,
   "id": "c37e9666",
   "metadata": {
    "execution": {
     "iopub.execute_input": "2022-06-28T10:02:03.677949Z",
     "iopub.status.busy": "2022-06-28T10:02:03.677644Z",
     "iopub.status.idle": "2022-06-28T10:02:03.686298Z",
     "shell.execute_reply": "2022-06-28T10:02:03.685278Z"
    },
    "papermill": {
     "duration": 0.030363,
     "end_time": "2022-06-28T10:02:03.688650",
     "exception": false,
     "start_time": "2022-06-28T10:02:03.658287",
     "status": "completed"
    },
    "tags": []
   },
   "outputs": [
    {
     "data": {
      "text/plain": [
       "0       one hundred dollars . I never heard Bagby comp...\n",
       "1       The Freedmens Bureau vs. B.M . Richardson Assa...\n",
       "2       The Freedmens Bureau vs. B. M. Richardson , Co...\n",
       "3       one hundred dollars , two suits of clothes wou...\n",
       "4       questions , I gave answer , I whipped.— All I ...\n",
       "                              ...                        \n",
       "6130    Salisbury Jan 8th 67 Maj W Swortts Supt West D...\n",
       "6131    Your obedient Servant Wager Swayne Major Gener...\n",
       "6132    P of Atty J. W. Suber To Edward Fullings Given...\n",
       "6133    State of North Carolina Mecklenburg County Thi...\n",
       "6134    State of North Carolina Bladen County Alfred ....\n",
       "Name: transcription_text, Length: 6135, dtype: object"
      ]
     },
     "execution_count": 14,
     "metadata": {},
     "output_type": "execute_result"
    }
   ],
   "source": [
    "recordC_text"
   ]
  },
  {
   "cell_type": "code",
   "execution_count": 15,
   "id": "8146eca8",
   "metadata": {
    "_kg_hide-output": true,
    "execution": {
     "iopub.execute_input": "2022-06-28T10:02:03.730379Z",
     "iopub.status.busy": "2022-06-28T10:02:03.730000Z",
     "iopub.status.idle": "2022-06-28T10:02:03.737255Z",
     "shell.execute_reply": "2022-06-28T10:02:03.736262Z"
    },
    "papermill": {
     "duration": 0.036177,
     "end_time": "2022-06-28T10:02:03.743447",
     "exception": false,
     "start_time": "2022-06-28T10:02:03.707270",
     "status": "completed"
    },
    "tags": []
   },
   "outputs": [
    {
     "data": {
      "text/plain": [
       "'No.DatePlaintiff DefendantNature of ComplaintAction TakenRemarks 80Aug 13th 1868 L.S . 115Maria Burns Frd v.s . James Register WComplains Register owes daughter 7 00100 two months work.To settle appear Hd.Qrs . Saturday 11 oclock A.M. August 22nd 1868 81Aug 17th 1868 L.S . 116Tom McDougall Frd v.s . James Calvin WhiteComplains Calvin owes son Willis 11 85100 less cash 2 00100To settle report office Saturday 1 oclock P.M. August 24th 1868 82Aug 19 1868 L.S . 116Randerson Simmons vs. Sophia Hussil whiteComplains Sophia owe son Arnold 1 18100 labor performedTo settle immediately report office Aug 22 Saturday 12 oclock A.M. 1868'"
      ]
     },
     "execution_count": 15,
     "metadata": {},
     "output_type": "execute_result"
    }
   ],
   "source": [
    "recordC_text[700]"
   ]
  },
  {
   "cell_type": "code",
   "execution_count": 16,
   "id": "a633bbc1",
   "metadata": {
    "_kg_hide-output": true,
    "collapsed": true,
    "execution": {
     "iopub.execute_input": "2022-06-28T10:02:03.807983Z",
     "iopub.status.busy": "2022-06-28T10:02:03.807528Z",
     "iopub.status.idle": "2022-06-28T10:03:05.388534Z",
     "shell.execute_reply": "2022-06-28T10:03:05.387379Z"
    },
    "jupyter": {
     "outputs_hidden": true
    },
    "papermill": {
     "duration": 61.616252,
     "end_time": "2022-06-28T10:03:05.391475",
     "exception": false,
     "start_time": "2022-06-28T10:02:03.775223",
     "status": "completed"
    },
    "tags": []
   },
   "outputs": [
    {
     "name": "stdout",
     "output_type": "stream",
     "text": [
      "Requirement already satisfied: Cython in /opt/conda/lib/python3.7/site-packages (0.29.30)\r\n",
      "\u001b[33mWARNING: Running pip as the 'root' user can result in broken permissions and conflicting behaviour with the system package manager. It is recommended to use a virtual environment instead: https://pip.pypa.io/warnings/venv\u001b[0m\u001b[33m\r\n",
      "\u001b[0mRequirement already satisfied: transformers in /opt/conda/lib/python3.7/site-packages (4.18.0)\r\n",
      "Requirement already satisfied: huggingface-hub<1.0,>=0.1.0 in /opt/conda/lib/python3.7/site-packages (from transformers) (0.7.0)\r\n",
      "Requirement already satisfied: tokenizers!=0.11.3,<0.13,>=0.11.1 in /opt/conda/lib/python3.7/site-packages (from transformers) (0.12.1)\r\n",
      "Requirement already satisfied: regex!=2019.12.17 in /opt/conda/lib/python3.7/site-packages (from transformers) (2021.11.10)\r\n",
      "Requirement already satisfied: requests in /opt/conda/lib/python3.7/site-packages (from transformers) (2.27.1)\r\n",
      "Requirement already satisfied: tqdm>=4.27 in /opt/conda/lib/python3.7/site-packages (from transformers) (4.64.0)\r\n",
      "Requirement already satisfied: packaging>=20.0 in /opt/conda/lib/python3.7/site-packages (from transformers) (21.3)\r\n",
      "Requirement already satisfied: importlib-metadata in /opt/conda/lib/python3.7/site-packages (from transformers) (4.11.4)\r\n",
      "Requirement already satisfied: numpy>=1.17 in /opt/conda/lib/python3.7/site-packages (from transformers) (1.21.6)\r\n",
      "Requirement already satisfied: filelock in /opt/conda/lib/python3.7/site-packages (from transformers) (3.6.0)\r\n",
      "Requirement already satisfied: pyyaml>=5.1 in /opt/conda/lib/python3.7/site-packages (from transformers) (6.0)\r\n",
      "Requirement already satisfied: sacremoses in /opt/conda/lib/python3.7/site-packages (from transformers) (0.0.53)\r\n",
      "Requirement already satisfied: typing-extensions>=3.7.4.3 in /opt/conda/lib/python3.7/site-packages (from huggingface-hub<1.0,>=0.1.0->transformers) (4.1.1)\r\n",
      "Requirement already satisfied: pyparsing!=3.0.5,>=2.0.2 in /opt/conda/lib/python3.7/site-packages (from packaging>=20.0->transformers) (3.0.9)\r\n",
      "Requirement already satisfied: zipp>=0.5 in /opt/conda/lib/python3.7/site-packages (from importlib-metadata->transformers) (3.8.0)\r\n",
      "Requirement already satisfied: charset-normalizer~=2.0.0 in /opt/conda/lib/python3.7/site-packages (from requests->transformers) (2.0.12)\r\n",
      "Requirement already satisfied: urllib3<1.27,>=1.21.1 in /opt/conda/lib/python3.7/site-packages (from requests->transformers) (1.26.9)\r\n",
      "Requirement already satisfied: certifi>=2017.4.17 in /opt/conda/lib/python3.7/site-packages (from requests->transformers) (2022.6.15)\r\n",
      "Requirement already satisfied: idna<4,>=2.5 in /opt/conda/lib/python3.7/site-packages (from requests->transformers) (3.3)\r\n",
      "Requirement already satisfied: click in /opt/conda/lib/python3.7/site-packages (from sacremoses->transformers) (8.0.4)\r\n",
      "Requirement already satisfied: joblib in /opt/conda/lib/python3.7/site-packages (from sacremoses->transformers) (1.1.0)\r\n",
      "Requirement already satisfied: six in /opt/conda/lib/python3.7/site-packages (from sacremoses->transformers) (1.16.0)\r\n",
      "\u001b[33mWARNING: Running pip as the 'root' user can result in broken permissions and conflicting behaviour with the system package manager. It is recommended to use a virtual environment instead: https://pip.pypa.io/warnings/venv\u001b[0m\u001b[33m\r\n",
      "\u001b[0mCollecting flair\r\n",
      "  Downloading flair-0.11.3-py3-none-any.whl (401 kB)\r\n",
      "\u001b[2K     \u001b[90m━━━━━━━━━━━━━━━━━━━━━━━━━━━━━━━━━━━━━━━\u001b[0m \u001b[32m401.9/401.9 kB\u001b[0m \u001b[31m2.0 MB/s\u001b[0m eta \u001b[36m0:00:00\u001b[0m\r\n",
      "\u001b[?25hCollecting sqlitedict>=1.6.0\r\n",
      "  Downloading sqlitedict-2.0.0.tar.gz (46 kB)\r\n",
      "\u001b[2K     \u001b[90m━━━━━━━━━━━━━━━━━━━━━━━━━━━━━━━━━━━━━━━━\u001b[0m \u001b[32m46.3/46.3 kB\u001b[0m \u001b[31m3.6 MB/s\u001b[0m eta \u001b[36m0:00:00\u001b[0m\r\n",
      "\u001b[?25h  Preparing metadata (setup.py) ... \u001b[?25l-\b \bdone\r\n",
      "\u001b[?25hRequirement already satisfied: python-dateutil>=2.6.1 in /opt/conda/lib/python3.7/site-packages (from flair) (2.8.2)\r\n",
      "Requirement already satisfied: lxml in /opt/conda/lib/python3.7/site-packages (from flair) (4.9.0)\r\n",
      "Requirement already satisfied: janome in /opt/conda/lib/python3.7/site-packages (from flair) (0.4.2)\r\n",
      "Collecting bpemb>=0.3.2\r\n",
      "  Downloading bpemb-0.3.3-py3-none-any.whl (19 kB)\r\n",
      "Collecting conllu>=4.0\r\n",
      "  Downloading conllu-4.4.2-py2.py3-none-any.whl (15 kB)\r\n",
      "Requirement already satisfied: tqdm>=4.26.0 in /opt/conda/lib/python3.7/site-packages (from flair) (4.64.0)\r\n",
      "Collecting ftfy\r\n",
      "  Downloading ftfy-6.1.1-py3-none-any.whl (53 kB)\r\n",
      "\u001b[2K     \u001b[90m━━━━━━━━━━━━━━━━━━━━━━━━━━━━━━━━━━━━━━━━\u001b[0m \u001b[32m53.1/53.1 kB\u001b[0m \u001b[31m4.6 MB/s\u001b[0m eta \u001b[36m0:00:00\u001b[0m\r\n",
      "\u001b[?25hRequirement already satisfied: hyperopt>=0.2.7 in /opt/conda/lib/python3.7/site-packages (from flair) (0.2.7)\r\n",
      "Requirement already satisfied: more-itertools in /opt/conda/lib/python3.7/site-packages (from flair) (8.13.0)\r\n",
      "Collecting wikipedia-api\r\n",
      "  Downloading Wikipedia-API-0.5.4.tar.gz (18 kB)\r\n",
      "  Preparing metadata (setup.py) ... \u001b[?25l-\b \bdone\r\n",
      "\u001b[?25hRequirement already satisfied: huggingface-hub in /opt/conda/lib/python3.7/site-packages (from flair) (0.7.0)\r\n",
      "Collecting pptree\r\n",
      "  Downloading pptree-3.1.tar.gz (3.0 kB)\r\n",
      "  Preparing metadata (setup.py) ... \u001b[?25l-\b \bdone\r\n",
      "\u001b[?25hRequirement already satisfied: matplotlib>=2.2.3 in /opt/conda/lib/python3.7/site-packages (from flair) (3.5.2)\r\n",
      "Collecting gdown==4.4.0\r\n",
      "  Downloading gdown-4.4.0.tar.gz (14 kB)\r\n",
      "  Installing build dependencies ... \u001b[?25l-\b \b\\\b \b|\b \b/\b \b-\b \b\\\b \bdone\r\n",
      "\u001b[?25h  Getting requirements to build wheel ... \u001b[?25l-\b \b\\\b \b|\b \b/\b \b-\b \bdone\r\n",
      "\u001b[?25h  Preparing metadata (pyproject.toml) ... \u001b[?25l-\b \b\\\b \b|\b \b/\b \b-\b \bdone\r\n",
      "\u001b[?25hRequirement already satisfied: regex in /opt/conda/lib/python3.7/site-packages (from flair) (2021.11.10)\r\n",
      "Collecting mpld3==0.3\r\n",
      "  Downloading mpld3-0.3.tar.gz (788 kB)\r\n",
      "\u001b[2K     \u001b[90m━━━━━━━━━━━━━━━━━━━━━━━━━━━━━━━━━━━━━━━\u001b[0m \u001b[32m788.5/788.5 kB\u001b[0m \u001b[31m9.5 MB/s\u001b[0m eta \u001b[36m0:00:00\u001b[0m\r\n",
      "\u001b[?25h  Preparing metadata (setup.py) ... \u001b[?25l-\b \bdone\r\n",
      "\u001b[?25hCollecting segtok>=1.5.7\r\n",
      "  Downloading segtok-1.5.11-py3-none-any.whl (24 kB)\r\n",
      "Collecting sentencepiece==0.1.95\r\n",
      "  Downloading sentencepiece-0.1.95-cp37-cp37m-manylinux2014_x86_64.whl (1.2 MB)\r\n",
      "\u001b[2K     \u001b[90m━━━━━━━━━━━━━━━━━━━━━━━━━━━━━━━━━━━━━━━━\u001b[0m \u001b[32m1.2/1.2 MB\u001b[0m \u001b[31m16.8 MB/s\u001b[0m eta \u001b[36m0:00:00\u001b[0m\r\n",
      "\u001b[?25hRequirement already satisfied: transformers>=4.0.0 in /opt/conda/lib/python3.7/site-packages (from flair) (4.18.0)\r\n",
      "Requirement already satisfied: gensim>=3.4.0 in /opt/conda/lib/python3.7/site-packages (from flair) (4.0.1)\r\n",
      "Collecting deprecated>=1.2.4\r\n",
      "  Downloading Deprecated-1.2.13-py2.py3-none-any.whl (9.6 kB)\r\n",
      "Collecting langdetect\r\n",
      "  Downloading langdetect-1.0.9.tar.gz (981 kB)\r\n",
      "\u001b[2K     \u001b[90m━━━━━━━━━━━━━━━━━━━━━━━━━━━━━━━━━━━━━━\u001b[0m \u001b[32m981.5/981.5 kB\u001b[0m \u001b[31m43.2 MB/s\u001b[0m eta \u001b[36m0:00:00\u001b[0m\r\n",
      "\u001b[?25h  Preparing metadata (setup.py) ... \u001b[?25l-\b \bdone\r\n",
      "\u001b[?25hRequirement already satisfied: torch!=1.8,>=1.5.0 in /opt/conda/lib/python3.7/site-packages (from flair) (1.11.0)\r\n",
      "Collecting konoha<5.0.0,>=4.0.0\r\n",
      "  Downloading konoha-4.6.5-py3-none-any.whl (20 kB)\r\n",
      "Requirement already satisfied: tabulate in /opt/conda/lib/python3.7/site-packages (from flair) (0.8.9)\r\n",
      "Requirement already satisfied: scikit-learn>=0.21.3 in /opt/conda/lib/python3.7/site-packages (from flair) (1.0.2)\r\n",
      "Requirement already satisfied: six in /opt/conda/lib/python3.7/site-packages (from gdown==4.4.0->flair) (1.16.0)\r\n",
      "Requirement already satisfied: beautifulsoup4 in /opt/conda/lib/python3.7/site-packages (from gdown==4.4.0->flair) (4.11.1)\r\n",
      "Requirement already satisfied: requests[socks] in /opt/conda/lib/python3.7/site-packages (from gdown==4.4.0->flair) (2.27.1)\r\n",
      "Requirement already satisfied: filelock in /opt/conda/lib/python3.7/site-packages (from gdown==4.4.0->flair) (3.6.0)\r\n",
      "Requirement already satisfied: numpy in /opt/conda/lib/python3.7/site-packages (from bpemb>=0.3.2->flair) (1.21.6)\r\n",
      "Requirement already satisfied: wrapt<2,>=1.10 in /opt/conda/lib/python3.7/site-packages (from deprecated>=1.2.4->flair) (1.14.1)\r\n",
      "Requirement already satisfied: smart-open>=1.8.1 in /opt/conda/lib/python3.7/site-packages (from gensim>=3.4.0->flair) (5.2.1)\r\n",
      "Requirement already satisfied: scipy>=0.18.1 in /opt/conda/lib/python3.7/site-packages (from gensim>=3.4.0->flair) (1.7.3)\r\n",
      "Requirement already satisfied: networkx>=2.2 in /opt/conda/lib/python3.7/site-packages (from hyperopt>=0.2.7->flair) (2.5)\r\n",
      "Requirement already satisfied: py4j in /opt/conda/lib/python3.7/site-packages (from hyperopt>=0.2.7->flair) (0.10.9.5)\r\n",
      "Requirement already satisfied: future in /opt/conda/lib/python3.7/site-packages (from hyperopt>=0.2.7->flair) (0.18.2)\r\n",
      "Requirement already satisfied: cloudpickle in /opt/conda/lib/python3.7/site-packages (from hyperopt>=0.2.7->flair) (2.1.0)\r\n",
      "Collecting importlib-metadata<4.0.0,>=3.7.0\r\n",
      "  Downloading importlib_metadata-3.10.1-py3-none-any.whl (14 kB)\r\n",
      "Collecting overrides<4.0.0,>=3.0.0\r\n",
      "  Downloading overrides-3.1.0.tar.gz (11 kB)\r\n",
      "  Preparing metadata (setup.py) ... \u001b[?25l-\b \bdone\r\n",
      "\u001b[?25hRequirement already satisfied: packaging>=20.0 in /opt/conda/lib/python3.7/site-packages (from matplotlib>=2.2.3->flair) (21.3)\r\n",
      "Requirement already satisfied: kiwisolver>=1.0.1 in /opt/conda/lib/python3.7/site-packages (from matplotlib>=2.2.3->flair) (1.4.2)\r\n",
      "Requirement already satisfied: pyparsing>=2.2.1 in /opt/conda/lib/python3.7/site-packages (from matplotlib>=2.2.3->flair) (3.0.9)\r\n",
      "Requirement already satisfied: fonttools>=4.22.0 in /opt/conda/lib/python3.7/site-packages (from matplotlib>=2.2.3->flair) (4.33.3)\r\n",
      "Requirement already satisfied: pillow>=6.2.0 in /opt/conda/lib/python3.7/site-packages (from matplotlib>=2.2.3->flair) (9.1.1)\r\n",
      "Requirement already satisfied: cycler>=0.10 in /opt/conda/lib/python3.7/site-packages (from matplotlib>=2.2.3->flair) (0.11.0)\r\n",
      "Requirement already satisfied: threadpoolctl>=2.0.0 in /opt/conda/lib/python3.7/site-packages (from scikit-learn>=0.21.3->flair) (3.1.0)\r\n",
      "Requirement already satisfied: joblib>=0.11 in /opt/conda/lib/python3.7/site-packages (from scikit-learn>=0.21.3->flair) (1.1.0)\r\n",
      "Requirement already satisfied: typing-extensions in /opt/conda/lib/python3.7/site-packages (from torch!=1.8,>=1.5.0->flair) (4.1.1)\r\n",
      "Requirement already satisfied: sacremoses in /opt/conda/lib/python3.7/site-packages (from transformers>=4.0.0->flair) (0.0.53)\r\n",
      "Requirement already satisfied: tokenizers!=0.11.3,<0.13,>=0.11.1 in /opt/conda/lib/python3.7/site-packages (from transformers>=4.0.0->flair) (0.12.1)\r\n",
      "Requirement already satisfied: pyyaml>=5.1 in /opt/conda/lib/python3.7/site-packages (from transformers>=4.0.0->flair) (6.0)\r\n",
      "Requirement already satisfied: wcwidth>=0.2.5 in /opt/conda/lib/python3.7/site-packages (from ftfy->flair) (0.2.5)\r\n",
      "Requirement already satisfied: zipp>=0.5 in /opt/conda/lib/python3.7/site-packages (from importlib-metadata<4.0.0,>=3.7.0->konoha<5.0.0,>=4.0.0->flair) (3.8.0)\r\n",
      "Requirement already satisfied: decorator>=4.3.0 in /opt/conda/lib/python3.7/site-packages (from networkx>=2.2->hyperopt>=0.2.7->flair) (5.1.1)\r\n",
      "Requirement already satisfied: idna<4,>=2.5 in /opt/conda/lib/python3.7/site-packages (from requests[socks]->gdown==4.4.0->flair) (3.3)\r\n",
      "Requirement already satisfied: charset-normalizer~=2.0.0 in /opt/conda/lib/python3.7/site-packages (from requests[socks]->gdown==4.4.0->flair) (2.0.12)\r\n",
      "Requirement already satisfied: certifi>=2017.4.17 in /opt/conda/lib/python3.7/site-packages (from requests[socks]->gdown==4.4.0->flair) (2022.6.15)\r\n",
      "Requirement already satisfied: urllib3<1.27,>=1.21.1 in /opt/conda/lib/python3.7/site-packages (from requests[socks]->gdown==4.4.0->flair) (1.26.9)\r\n",
      "Requirement already satisfied: soupsieve>1.2 in /opt/conda/lib/python3.7/site-packages (from beautifulsoup4->gdown==4.4.0->flair) (2.3.1)\r\n",
      "Requirement already satisfied: PySocks!=1.5.7,>=1.5.6 in /opt/conda/lib/python3.7/site-packages (from requests[socks]->gdown==4.4.0->flair) (1.7.1)\r\n",
      "Requirement already satisfied: click in /opt/conda/lib/python3.7/site-packages (from sacremoses->transformers>=4.0.0->flair) (8.0.4)\r\n",
      "Building wheels for collected packages: gdown, mpld3, sqlitedict, langdetect, pptree, wikipedia-api, overrides\r\n",
      "  Building wheel for gdown (pyproject.toml) ... \u001b[?25l-\b \b\\\b \b|\b \b/\b \b-\b \b\\\b \b|\b \b/\b \bdone\r\n",
      "\u001b[?25h  Created wheel for gdown: filename=gdown-4.4.0-py3-none-any.whl size=14759 sha256=b17a170f7ce8e5afeee5dbbf5de0b6296783afcb4ce028335446392de539ba4f\r\n",
      "  Stored in directory: /root/.cache/pip/wheels/fb/c3/0e/c4d8ff8bfcb0461afff199471449f642179b74968c15b7a69c\r\n",
      "  Building wheel for mpld3 (setup.py) ... \u001b[?25l-\b \b\\\b \bdone\r\n",
      "\u001b[?25h  Created wheel for mpld3: filename=mpld3-0.3-py3-none-any.whl size=116702 sha256=d899f3d81070d06cca7eaf8bd424a0fd7680ec74de25dc39bad03158b0bed7ef\r\n",
      "  Stored in directory: /root/.cache/pip/wheels/26/70/6a/1c79e59951a41b4045497da187b2724f5659ca64033cf4548e\r\n",
      "  Building wheel for sqlitedict (setup.py) ... \u001b[?25l-\b \bdone\r\n",
      "\u001b[?25h  Created wheel for sqlitedict: filename=sqlitedict-2.0.0-py3-none-any.whl size=15736 sha256=8dad5518d15945eda4395da3868b06fd7933a79752648bc52f7d90ef9ad9fd41\r\n",
      "  Stored in directory: /root/.cache/pip/wheels/96/dd/2e/0ed4a25cb73fc30c7ea8d10b50acb7226175736067e40a7ea3\r\n",
      "  Building wheel for langdetect (setup.py) ... \u001b[?25l-\b \b\\\b \b|\b \b/\b \bdone\r\n",
      "\u001b[?25h  Created wheel for langdetect: filename=langdetect-1.0.9-py3-none-any.whl size=993242 sha256=a125fb7d397ab7773cb6d00a4ad628bff030cfd92b08890775f83c97736f8cb3\r\n",
      "  Stored in directory: /root/.cache/pip/wheels/c5/96/8a/f90c59ed25d75e50a8c10a1b1c2d4c402e4dacfa87f3aff36a\r\n",
      "  Building wheel for pptree (setup.py) ... \u001b[?25l-\b \bdone\r\n",
      "\u001b[?25h  Created wheel for pptree: filename=pptree-3.1-py3-none-any.whl size=4629 sha256=427c29ee6779d4a132de9ac7508c50f0357cfb6d99160898a66bd631eb9a8c97\r\n",
      "  Stored in directory: /root/.cache/pip/wheels/9e/e8/7d/a9c3c19b4722608a0d8b05a38c36bc3f230c43becd2a46794b\r\n",
      "  Building wheel for wikipedia-api (setup.py) ... \u001b[?25l-\b \bdone\r\n",
      "\u001b[?25h  Created wheel for wikipedia-api: filename=Wikipedia_API-0.5.4-py3-none-any.whl size=13477 sha256=21fb4928a51c46c4ab807ab62d66c2e362d90bfd09c3e0ddc0b4d36762e88097\r\n",
      "  Stored in directory: /root/.cache/pip/wheels/d3/24/56/58ba93cf78be162451144e7a9889603f437976ef1ae7013d04\r\n",
      "  Building wheel for overrides (setup.py) ... \u001b[?25l-\b \bdone\r\n",
      "\u001b[?25h  Created wheel for overrides: filename=overrides-3.1.0-py3-none-any.whl size=10187 sha256=20f4f7a03a654ba98ad8ae05c28ab71489792d47c64100edf68938659102cce7\r\n",
      "  Stored in directory: /root/.cache/pip/wheels/3a/0d/38/01a9bc6e20dcfaf0a6a7b552d03137558ba1c38aea47644682\r\n",
      "Successfully built gdown mpld3 sqlitedict langdetect pptree wikipedia-api overrides\r\n",
      "Installing collected packages: sqlitedict, sentencepiece, pptree, overrides, mpld3, segtok, langdetect, importlib-metadata, ftfy, deprecated, conllu, wikipedia-api, konoha, gdown, bpemb, flair\r\n",
      "  Attempting uninstall: sentencepiece\r\n",
      "    Found existing installation: sentencepiece 0.1.96\r\n",
      "    Uninstalling sentencepiece-0.1.96:\r\n",
      "      Successfully uninstalled sentencepiece-0.1.96\r\n",
      "  Attempting uninstall: overrides\r\n",
      "    Found existing installation: overrides 6.1.0\r\n",
      "    Uninstalling overrides-6.1.0:\r\n",
      "      Successfully uninstalled overrides-6.1.0\r\n",
      "  Attempting uninstall: mpld3\r\n",
      "    Found existing installation: mpld3 0.5.8\r\n",
      "    Uninstalling mpld3-0.5.8:\r\n",
      "      Successfully uninstalled mpld3-0.5.8\r\n",
      "  Attempting uninstall: importlib-metadata\r\n",
      "    Found existing installation: importlib-metadata 4.11.4\r\n",
      "    Uninstalling importlib-metadata-4.11.4:\r\n",
      "      Successfully uninstalled importlib-metadata-4.11.4\r\n",
      "\u001b[31mERROR: pip's dependency resolver does not currently take into account all the packages that are installed. This behaviour is the source of the following dependency conflicts.\r\n",
      "markdown 3.3.7 requires importlib-metadata>=4.4; python_version < \"3.10\", but you have importlib-metadata 3.10.1 which is incompatible.\r\n",
      "ibis-framework 2.1.1 requires importlib-metadata<5,>=4; python_version < \"3.8\", but you have importlib-metadata 3.10.1 which is incompatible.\r\n",
      "gym 0.24.1 requires importlib-metadata>=4.8.0; python_version < \"3.10\", but you have importlib-metadata 3.10.1 which is incompatible.\r\n",
      "google-cloud-pubsublite 1.4.2 requires overrides<7.0.0,>=6.0.1, but you have overrides 3.1.0 which is incompatible.\u001b[0m\u001b[31m\r\n",
      "\u001b[0mSuccessfully installed bpemb-0.3.3 conllu-4.4.2 deprecated-1.2.13 flair-0.11.3 ftfy-6.1.1 gdown-4.4.0 importlib-metadata-3.10.1 konoha-4.6.5 langdetect-1.0.9 mpld3-0.3 overrides-3.1.0 pptree-3.1 segtok-1.5.11 sentencepiece-0.1.95 sqlitedict-2.0.0 wikipedia-api-0.5.4\r\n",
      "\u001b[33mWARNING: Running pip as the 'root' user can result in broken permissions and conflicting behaviour with the system package manager. It is recommended to use a virtual environment instead: https://pip.pypa.io/warnings/venv\u001b[0m\u001b[33m\r\n",
      "\u001b[0m"
     ]
    }
   ],
   "source": [
    "!pip3 install Cython\n",
    "!pip install transformers\n",
    "!pip install flair"
   ]
  },
  {
   "cell_type": "code",
   "execution_count": 17,
   "id": "946dabb6",
   "metadata": {
    "_kg_hide-output": true,
    "collapsed": true,
    "execution": {
     "iopub.execute_input": "2022-06-28T10:03:05.448021Z",
     "iopub.status.busy": "2022-06-28T10:03:05.447689Z",
     "iopub.status.idle": "2022-06-28T10:04:26.568774Z",
     "shell.execute_reply": "2022-06-28T10:04:26.567707Z"
    },
    "jupyter": {
     "outputs_hidden": true
    },
    "papermill": {
     "duration": 81.151527,
     "end_time": "2022-06-28T10:04:26.571210",
     "exception": false,
     "start_time": "2022-06-28T10:03:05.419683",
     "status": "completed"
    },
    "tags": []
   },
   "outputs": [
    {
     "data": {
      "application/vnd.jupyter.widget-view+json": {
       "model_id": "4bda87e6ea744cc29e28181b2936a5c0",
       "version_major": 2,
       "version_minor": 0
      },
      "text/plain": [
       "Downloading:   0%|          | 0.00/2.24G [00:00<?, ?B/s]"
      ]
     },
     "metadata": {},
     "output_type": "display_data"
    },
    {
     "name": "stdout",
     "output_type": "stream",
     "text": [
      "2022-06-28 10:03:59,884 loading file /root/.flair/models/ner-english-ontonotes-large/2da6c2cdd76e59113033adf670340bfd820f0301ae2e39204d67ba2dc276cc28.ec1bdb304b6c66111532c3b1fc6e522460ae73f1901848a4d0362cdf9760edb1\n"
     ]
    },
    {
     "data": {
      "application/vnd.jupyter.widget-view+json": {
       "model_id": "fd5392d684d945249b540cccbf54b4b7",
       "version_major": 2,
       "version_minor": 0
      },
      "text/plain": [
       "Downloading:   0%|          | 0.00/616 [00:00<?, ?B/s]"
      ]
     },
     "metadata": {},
     "output_type": "display_data"
    },
    {
     "data": {
      "application/vnd.jupyter.widget-view+json": {
       "model_id": "c91bcfad56f04a05b1cda66750e6f011",
       "version_major": 2,
       "version_minor": 0
      },
      "text/plain": [
       "Downloading:   0%|          | 0.00/4.83M [00:00<?, ?B/s]"
      ]
     },
     "metadata": {},
     "output_type": "display_data"
    },
    {
     "data": {
      "application/vnd.jupyter.widget-view+json": {
       "model_id": "2a43f7af4d114004bd69b6e677e92b35",
       "version_major": 2,
       "version_minor": 0
      },
      "text/plain": [
       "Downloading:   0%|          | 0.00/8.68M [00:00<?, ?B/s]"
      ]
     },
     "metadata": {},
     "output_type": "display_data"
    },
    {
     "name": "stdout",
     "output_type": "stream",
     "text": [
      "2022-06-28 10:04:25,941 SequenceTagger predicts: Dictionary with 76 tags: <unk>, O, B-CARDINAL, E-CARDINAL, S-PERSON, S-CARDINAL, S-PRODUCT, B-PRODUCT, I-PRODUCT, E-PRODUCT, B-WORK_OF_ART, I-WORK_OF_ART, E-WORK_OF_ART, B-PERSON, E-PERSON, S-GPE, B-DATE, I-DATE, E-DATE, S-ORDINAL, S-LANGUAGE, I-PERSON, S-EVENT, S-DATE, B-QUANTITY, E-QUANTITY, S-TIME, B-TIME, I-TIME, E-TIME, B-GPE, E-GPE, S-ORG, I-GPE, S-NORP, B-FAC, I-FAC, E-FAC, B-NORP, E-NORP, S-PERCENT, B-ORG, E-ORG, B-LANGUAGE, E-LANGUAGE, I-CARDINAL, I-ORG, S-WORK_OF_ART, I-QUANTITY, B-MONEY\n"
     ]
    }
   ],
   "source": [
    "from flair.models import SequenceTagger\n",
    "\n",
    "tagger = SequenceTagger.load(\"flair/ner-english-ontonotes-large\")"
   ]
  },
  {
   "cell_type": "code",
   "execution_count": 18,
   "id": "da3c9f8c",
   "metadata": {
    "_kg_hide-output": true,
    "collapsed": true,
    "execution": {
     "iopub.execute_input": "2022-06-28T10:04:26.627107Z",
     "iopub.status.busy": "2022-06-28T10:04:26.626786Z",
     "iopub.status.idle": "2022-06-28T10:04:40.124987Z",
     "shell.execute_reply": "2022-06-28T10:04:40.123955Z"
    },
    "jupyter": {
     "outputs_hidden": true
    },
    "papermill": {
     "duration": 13.52882,
     "end_time": "2022-06-28T10:04:40.127378",
     "exception": false,
     "start_time": "2022-06-28T10:04:26.598558",
     "status": "completed"
    },
    "tags": []
   },
   "outputs": [
    {
     "data": {
      "application/vnd.jupyter.widget-view+json": {
       "model_id": "38601377deda479cb75c44ce3101ba17",
       "version_major": 2,
       "version_minor": 0
      },
      "text/plain": [
       "Downloading:   0%|          | 0.00/432M [00:00<?, ?B/s]"
      ]
     },
     "metadata": {},
     "output_type": "display_data"
    },
    {
     "name": "stdout",
     "output_type": "stream",
     "text": [
      "2022-06-28 10:04:37,067 loading file /root/.flair/models/ner-english/4f4cdab26f24cb98b732b389e6cebc646c36f54cfd6e0b7d3b90b25656e4262f.8baa8ae8795f4df80b28e7f7b61d788ecbb057d1dc85aacb316f1bd02837a4a4\n",
      "2022-06-28 10:04:38,978 SequenceTagger predicts: Dictionary with 20 tags: <unk>, O, S-ORG, S-MISC, B-PER, E-PER, S-LOC, B-ORG, E-ORG, I-PER, S-PER, B-MISC, I-MISC, E-MISC, I-ORG, B-LOC, E-LOC, I-LOC, <START>, <STOP>\n"
     ]
    }
   ],
   "source": [
    "from flair.models import SequenceTagger\n",
    "\n",
    "tagger1 = SequenceTagger.load(\"flair/ner-english\")"
   ]
  },
  {
   "cell_type": "code",
   "execution_count": 19,
   "id": "475ff8a7",
   "metadata": {
    "_kg_hide-output": true,
    "collapsed": true,
    "execution": {
     "iopub.execute_input": "2022-06-28T10:04:40.183374Z",
     "iopub.status.busy": "2022-06-28T10:04:40.183047Z",
     "iopub.status.idle": "2022-06-28T10:05:50.141582Z",
     "shell.execute_reply": "2022-06-28T10:05:50.140566Z"
    },
    "jupyter": {
     "outputs_hidden": true
    },
    "papermill": {
     "duration": 69.988607,
     "end_time": "2022-06-28T10:05:50.143984",
     "exception": false,
     "start_time": "2022-06-28T10:04:40.155377",
     "status": "completed"
    },
    "tags": []
   },
   "outputs": [
    {
     "data": {
      "application/vnd.jupyter.widget-view+json": {
       "model_id": "607357505baf4e07a5a857f78a13ce6b",
       "version_major": 2,
       "version_minor": 0
      },
      "text/plain": [
       "Downloading:   0%|          | 0.00/2.24G [00:00<?, ?B/s]"
      ]
     },
     "metadata": {},
     "output_type": "display_data"
    },
    {
     "name": "stdout",
     "output_type": "stream",
     "text": [
      "2022-06-28 10:05:32,411 loading file /root/.flair/models/ner-english-large/07301f59bb8cb113803be316267f06ddf9243cdbba92a4c8067ef92442d2c574.554244d3476d97501a766a98078421817b14654496b86f2f7bd139dc502a4f29\n",
      "2022-06-28 10:05:49,495 SequenceTagger predicts: Dictionary with 20 tags: <unk>, O, S-ORG, S-MISC, B-PER, E-PER, S-LOC, B-ORG, E-ORG, I-PER, S-PER, B-MISC, I-MISC, E-MISC, I-ORG, B-LOC, E-LOC, I-LOC, <START>, <STOP>\n"
     ]
    }
   ],
   "source": [
    "from flair.models import SequenceTagger\n",
    "\n",
    "tagger2 = SequenceTagger.load(\"flair/ner-english-large\")"
   ]
  },
  {
   "cell_type": "markdown",
   "id": "9c6640f6",
   "metadata": {
    "papermill": {
     "duration": 0.027676,
     "end_time": "2022-06-28T10:05:50.199587",
     "exception": false,
     "start_time": "2022-06-28T10:05:50.171911",
     "status": "completed"
    },
    "tags": []
   },
   "source": [
    "# ontonotes"
   ]
  },
  {
   "cell_type": "code",
   "execution_count": 20,
   "id": "ecf9850c",
   "metadata": {
    "execution": {
     "iopub.execute_input": "2022-06-28T10:05:50.256787Z",
     "iopub.status.busy": "2022-06-28T10:05:50.256430Z",
     "iopub.status.idle": "2022-06-28T10:10:55.231085Z",
     "shell.execute_reply": "2022-06-28T10:10:55.230121Z"
    },
    "papermill": {
     "duration": 305.006315,
     "end_time": "2022-06-28T10:10:55.233586",
     "exception": false,
     "start_time": "2022-06-28T10:05:50.227271",
     "status": "completed"
    },
    "tags": []
   },
   "outputs": [
    {
     "name": "stdout",
     "output_type": "stream",
     "text": [
      "2022-06-28 10:07:50,861 Warning: An empty Sentence was created! Are there empty strings in your dataset?\n",
      "2022-06-28 10:07:55,626 Warning: An empty Sentence was created! Are there empty strings in your dataset?\n",
      "2022-06-28 10:08:15,759 Warning: An empty Sentence was created! Are there empty strings in your dataset?\n"
     ]
    }
   ],
   "source": [
    "lst=[]\n",
    "label=[]\n",
    "Per=[]\n",
    "Date=[]\n",
    "GPE=[]\n",
    "ORG=[]\n",
    "LOC=[]\n",
    "Bulding=[]\n",
    "Cardinal=[]\n",
    "from flair.data import Sentence\n",
    "\n",
    "recordC_onto=pd.DataFrame({\"recordC_text\":\"\", \"Name-ontonotes\":[], \"GPE-ontonotes\":\"\",\"ORG-ontonotes\":\"\", \"Date-ontonotes\":\"\"})\n",
    "for i in range(len(recordC_text)):\n",
    "        sentencess =Sentence(recordC_text[i])\n",
    "        recordC_onto.loc[i,\"recordC_text\"]=recordC_text[i]\n",
    "        tagger.predict(sentencess)\n",
    "        dc={}\n",
    "        P=[]\n",
    "        D=[]\n",
    "        G=[]\n",
    "        L=[]\n",
    "        O=[]\n",
    "        B=[]\n",
    "        C=[]\n",
    "        for entity in sentencess.get_spans('ner'):\n",
    "                     \n",
    "                     if (entity.get_label(\"ner\").score > 0.97) & (entity.get_label(\"ner\").value != \"LAW\")& (entity.get_label(\"ner\").value != \"QUANTITY\") & (entity.get_label(\"ner\").value != \"WORK_OF_ART\") & (entity.get_label(\"ner\").value != \"LAW\")& (entity.get_label(\"ner\").value != \"QUANTITY\") & (entity.get_label(\"ner\").value != \"EVENT\")  :\n",
    "                        dc[entity.text]= entity.get_label(\"ner\").value \n",
    "        \n",
    "        \n",
    "        for j in dc :\n",
    "                if dc[j]==\"PERSON\":\n",
    "                      P.append(j)\n",
    "                elif dc[j]==\"ORG\":\n",
    "                      O.append(j)\n",
    "                elif dc[j]==\"DATE\":\n",
    "                      D.append(j)\n",
    "                elif dc[j]==\"GPE\":\n",
    "                      G.append(j)\n",
    "                elif dc[j]==\"LOC\":\n",
    "                      L.append(j)\n",
    "                elif dc[j]==\"FAC\":\n",
    "                      B.append(j)\n",
    "                elif dc[j]==\"CARDINAL\":\n",
    "                      C.append(j)\n",
    "        Per.append(P)\n",
    "        Date.append(D)\n",
    "        ORG.append(O)\n",
    "        GPE.append(G)\n",
    "        LOC.append(L)\n",
    "        Bulding.append(B)\n",
    "        Cardinal.append(C)\n",
    "        \n",
    "            \n",
    "recordC_onto[\"Date-ontonotes\"]=Date\n",
    "recordC_onto[\"Name-ontonotes\"]=Per\n",
    "recordC_onto[\"GPE-ontonotes\"]=GPE\n",
    "recordC_onto[\"ORG-ontonotes\"]=ORG \n",
    "recordC_onto[\"LOC-ontonotes\"]=LOC \n",
    "recordC_onto[\"Building-ontonotes\"]=Bulding\n",
    "recordC_onto[\"Cardinal-ontonotes\"]=Cardinal"
   ]
  },
  {
   "cell_type": "code",
   "execution_count": 21,
   "id": "f17e8610",
   "metadata": {
    "execution": {
     "iopub.execute_input": "2022-06-28T10:10:55.290534Z",
     "iopub.status.busy": "2022-06-28T10:10:55.290198Z",
     "iopub.status.idle": "2022-06-28T10:10:55.295555Z",
     "shell.execute_reply": "2022-06-28T10:10:55.294694Z"
    },
    "papermill": {
     "duration": 0.035572,
     "end_time": "2022-06-28T10:10:55.297520",
     "exception": false,
     "start_time": "2022-06-28T10:10:55.261948",
     "status": "completed"
    },
    "tags": []
   },
   "outputs": [],
   "source": [
    "recordC_onto[\"recordC_text\"]=recordC_text"
   ]
  },
  {
   "cell_type": "code",
   "execution_count": 22,
   "id": "7f6ea137",
   "metadata": {
    "execution": {
     "iopub.execute_input": "2022-06-28T10:10:55.353261Z",
     "iopub.status.busy": "2022-06-28T10:10:55.352480Z",
     "iopub.status.idle": "2022-06-28T10:10:55.376269Z",
     "shell.execute_reply": "2022-06-28T10:10:55.375386Z"
    },
    "papermill": {
     "duration": 0.053341,
     "end_time": "2022-06-28T10:10:55.378225",
     "exception": false,
     "start_time": "2022-06-28T10:10:55.324884",
     "status": "completed"
    },
    "tags": []
   },
   "outputs": [
    {
     "data": {
      "text/html": [
       "<div>\n",
       "<style scoped>\n",
       "    .dataframe tbody tr th:only-of-type {\n",
       "        vertical-align: middle;\n",
       "    }\n",
       "\n",
       "    .dataframe tbody tr th {\n",
       "        vertical-align: top;\n",
       "    }\n",
       "\n",
       "    .dataframe thead th {\n",
       "        text-align: right;\n",
       "    }\n",
       "</style>\n",
       "<table border=\"1\" class=\"dataframe\">\n",
       "  <thead>\n",
       "    <tr style=\"text-align: right;\">\n",
       "      <th></th>\n",
       "      <th>recordC_text</th>\n",
       "      <th>Name-ontonotes</th>\n",
       "      <th>GPE-ontonotes</th>\n",
       "      <th>ORG-ontonotes</th>\n",
       "      <th>Date-ontonotes</th>\n",
       "      <th>LOC-ontonotes</th>\n",
       "      <th>Building-ontonotes</th>\n",
       "      <th>Cardinal-ontonotes</th>\n",
       "    </tr>\n",
       "  </thead>\n",
       "  <tbody>\n",
       "    <tr>\n",
       "      <th>0</th>\n",
       "      <td>one hundred dollars . I never heard Bagby comp...</td>\n",
       "      <td>[Bagby, Richardson, W.M . Henry, H.H . Holton,...</td>\n",
       "      <td>[]</td>\n",
       "      <td>[]</td>\n",
       "      <td>[March 19th 1866, March 19 1866]</td>\n",
       "      <td>[]</td>\n",
       "      <td>[]</td>\n",
       "      <td>[one]</td>\n",
       "    </tr>\n",
       "    <tr>\n",
       "      <th>1</th>\n",
       "      <td>The Freedmens Bureau vs. B.M . Richardson Assa...</td>\n",
       "      <td>[B.M . Richardson]</td>\n",
       "      <td>[Raleigh]</td>\n",
       "      <td>[The Freedmens Bureau, Freedmens Court, Bureau...</td>\n",
       "      <td>[Mon 28 . 1866]</td>\n",
       "      <td>[]</td>\n",
       "      <td>[]</td>\n",
       "      <td>[165.]</td>\n",
       "    </tr>\n",
       "    <tr>\n",
       "      <th>2</th>\n",
       "      <td>The Freedmens Bureau vs. B. M. Richardson , Co...</td>\n",
       "      <td>[B. M. Richardson, Daniel Bagley, Richardson]</td>\n",
       "      <td>[]</td>\n",
       "      <td>[The Freedmens Bureau]</td>\n",
       "      <td>[twenty one years old]</td>\n",
       "      <td>[]</td>\n",
       "      <td>[]</td>\n",
       "      <td>[twenty one]</td>\n",
       "    </tr>\n",
       "    <tr>\n",
       "      <th>3</th>\n",
       "      <td>one hundred dollars , two suits of clothes wou...</td>\n",
       "      <td>[Genl Hawley]</td>\n",
       "      <td>[]</td>\n",
       "      <td>[]</td>\n",
       "      <td>[twenty one]</td>\n",
       "      <td>[]</td>\n",
       "      <td>[]</td>\n",
       "      <td>[two]</td>\n",
       "    </tr>\n",
       "    <tr>\n",
       "      <th>4</th>\n",
       "      <td>questions , I gave answer , I whipped.— All I ...</td>\n",
       "      <td>[Bagley, Richardson]</td>\n",
       "      <td>[Martain County]</td>\n",
       "      <td>[]</td>\n",
       "      <td>[]</td>\n",
       "      <td>[]</td>\n",
       "      <td>[]</td>\n",
       "      <td>[]</td>\n",
       "    </tr>\n",
       "  </tbody>\n",
       "</table>\n",
       "</div>"
      ],
      "text/plain": [
       "                                        recordC_text  \\\n",
       "0  one hundred dollars . I never heard Bagby comp...   \n",
       "1  The Freedmens Bureau vs. B.M . Richardson Assa...   \n",
       "2  The Freedmens Bureau vs. B. M. Richardson , Co...   \n",
       "3  one hundred dollars , two suits of clothes wou...   \n",
       "4  questions , I gave answer , I whipped.— All I ...   \n",
       "\n",
       "                                      Name-ontonotes     GPE-ontonotes  \\\n",
       "0  [Bagby, Richardson, W.M . Henry, H.H . Holton,...                []   \n",
       "1                                 [B.M . Richardson]         [Raleigh]   \n",
       "2      [B. M. Richardson, Daniel Bagley, Richardson]                []   \n",
       "3                                      [Genl Hawley]                []   \n",
       "4                               [Bagley, Richardson]  [Martain County]   \n",
       "\n",
       "                                       ORG-ontonotes  \\\n",
       "0                                                 []   \n",
       "1  [The Freedmens Bureau, Freedmens Court, Bureau...   \n",
       "2                             [The Freedmens Bureau]   \n",
       "3                                                 []   \n",
       "4                                                 []   \n",
       "\n",
       "                     Date-ontonotes LOC-ontonotes Building-ontonotes  \\\n",
       "0  [March 19th 1866, March 19 1866]            []                 []   \n",
       "1                   [Mon 28 . 1866]            []                 []   \n",
       "2            [twenty one years old]            []                 []   \n",
       "3                      [twenty one]            []                 []   \n",
       "4                                []            []                 []   \n",
       "\n",
       "  Cardinal-ontonotes  \n",
       "0              [one]  \n",
       "1             [165.]  \n",
       "2       [twenty one]  \n",
       "3              [two]  \n",
       "4                 []  "
      ]
     },
     "execution_count": 22,
     "metadata": {},
     "output_type": "execute_result"
    }
   ],
   "source": [
    "recordC_onto.head()"
   ]
  },
  {
   "cell_type": "markdown",
   "id": "917edb71",
   "metadata": {
    "papermill": {
     "duration": 0.02694,
     "end_time": "2022-06-28T10:10:55.433154",
     "exception": false,
     "start_time": "2022-06-28T10:10:55.406214",
     "status": "completed"
    },
    "tags": []
   },
   "source": [
    "# Post processing for dates"
   ]
  },
  {
   "cell_type": "code",
   "execution_count": 23,
   "id": "7177bca6",
   "metadata": {
    "execution": {
     "iopub.execute_input": "2022-06-28T10:10:55.489427Z",
     "iopub.status.busy": "2022-06-28T10:10:55.488517Z",
     "iopub.status.idle": "2022-06-28T10:10:55.497980Z",
     "shell.execute_reply": "2022-06-28T10:10:55.496987Z"
    },
    "papermill": {
     "duration": 0.039695,
     "end_time": "2022-06-28T10:10:55.499972",
     "exception": false,
     "start_time": "2022-06-28T10:10:55.460277",
     "status": "completed"
    },
    "tags": []
   },
   "outputs": [
    {
     "data": {
      "text/plain": [
       "0                        [March 19th 1866, March 19 1866]\n",
       "1                                         [Mon 28 . 1866]\n",
       "2                                  [twenty one years old]\n",
       "3                                            [twenty one]\n",
       "4                                                      []\n",
       "                              ...                        \n",
       "6130                                            [Jan 8th]\n",
       "6131                                    [January 29 1867]\n",
       "6132    [9th day of Feby 1867, 9th day of Feby 1767, T...\n",
       "6133    [7th day of February AD 1867, 7th day of Feby ...\n",
       "6134          [18th of last Sept., 22nd day of June 1866]\n",
       "Name: Date-ontonotes, Length: 6135, dtype: object"
      ]
     },
     "execution_count": 23,
     "metadata": {},
     "output_type": "execute_result"
    }
   ],
   "source": [
    "recordC_onto[\"Date-ontonotes\"]"
   ]
  },
  {
   "cell_type": "code",
   "execution_count": 24,
   "id": "f89309c8",
   "metadata": {
    "execution": {
     "iopub.execute_input": "2022-06-28T10:10:55.556772Z",
     "iopub.status.busy": "2022-06-28T10:10:55.555956Z",
     "iopub.status.idle": "2022-06-28T10:10:55.735698Z",
     "shell.execute_reply": "2022-06-28T10:10:55.734740Z"
    },
    "papermill": {
     "duration": 0.210997,
     "end_time": "2022-06-28T10:10:55.738107",
     "exception": false,
     "start_time": "2022-06-28T10:10:55.527110",
     "status": "completed"
    },
    "tags": []
   },
   "outputs": [],
   "source": [
    "G=[]\n",
    "for i in recordC_onto[\"Date-ontonotes\"]:\n",
    "    M=[]\n",
    "    for j in i:\n",
    "        date=re.search(r'^\\d\\.*.*\\d\\d$' ,j)\n",
    "        date2=re.search(r'^[A-Z]\\.*.*\\d\\.*.*\\d\\d$' ,j)\n",
    "        M.append(date)\n",
    "        M.append(date2)\n",
    "    G.append(M)\n",
    "    \n",
    "\n",
    "GF=[]\n",
    "for i in G:\n",
    "    Final_date=[]\n",
    "    for j in i:\n",
    "        if j!=None:\n",
    "            Final_date.append(j.group())\n",
    "    GF.append(Final_date)\n",
    "    \n",
    "            \n",
    "      "
   ]
  },
  {
   "cell_type": "code",
   "execution_count": 25,
   "id": "07c49c6f",
   "metadata": {
    "execution": {
     "iopub.execute_input": "2022-06-28T10:10:55.796446Z",
     "iopub.status.busy": "2022-06-28T10:10:55.794709Z",
     "iopub.status.idle": "2022-06-28T10:10:55.801438Z",
     "shell.execute_reply": "2022-06-28T10:10:55.800447Z"
    },
    "papermill": {
     "duration": 0.037401,
     "end_time": "2022-06-28T10:10:55.803396",
     "exception": false,
     "start_time": "2022-06-28T10:10:55.765995",
     "status": "completed"
    },
    "tags": []
   },
   "outputs": [
    {
     "data": {
      "text/plain": [
       "6135"
      ]
     },
     "execution_count": 25,
     "metadata": {},
     "output_type": "execute_result"
    }
   ],
   "source": [
    "len(GF)"
   ]
  },
  {
   "cell_type": "code",
   "execution_count": 26,
   "id": "93e6c423",
   "metadata": {
    "execution": {
     "iopub.execute_input": "2022-06-28T10:10:55.860231Z",
     "iopub.status.busy": "2022-06-28T10:10:55.859946Z",
     "iopub.status.idle": "2022-06-28T10:10:55.867132Z",
     "shell.execute_reply": "2022-06-28T10:10:55.866237Z"
    },
    "papermill": {
     "duration": 0.03804,
     "end_time": "2022-06-28T10:10:55.869027",
     "exception": false,
     "start_time": "2022-06-28T10:10:55.830987",
     "status": "completed"
    },
    "tags": []
   },
   "outputs": [],
   "source": [
    "recordC_onto[\"postDate-ontonotes\"]=GF"
   ]
  },
  {
   "cell_type": "code",
   "execution_count": 27,
   "id": "e109535a",
   "metadata": {
    "execution": {
     "iopub.execute_input": "2022-06-28T10:10:55.925367Z",
     "iopub.status.busy": "2022-06-28T10:10:55.924536Z",
     "iopub.status.idle": "2022-06-28T10:10:56.196703Z",
     "shell.execute_reply": "2022-06-28T10:10:56.195709Z"
    },
    "papermill": {
     "duration": 0.303108,
     "end_time": "2022-06-28T10:10:56.199247",
     "exception": false,
     "start_time": "2022-06-28T10:10:55.896139",
     "status": "completed"
    },
    "tags": []
   },
   "outputs": [],
   "source": [
    "G=[]\n",
    "for i in recordC_onto[\"postDate-ontonotes\"]:\n",
    "    M=[]\n",
    "    for j in i:\n",
    "        Final_date1=re.sub(r'([0-9]{1,2})\\.*.*\\s([A-Z][a-z]\\S*)\\.*.*\\s([0-9]{2,4})',r'\\1-\\2-\\3' ,j)\n",
    "        Final_date2=re.sub(r'([A-Z]\\.*.*)\\s([0-9]{1,2})\\.*.*\\s([0-9]{2,4})',r'\\2-\\1-\\3' ,j)\n",
    "        final_date3=re.sub(r'([A-Z][a-z]\\S*)\\.*.*\\s([A-Z][a-z]\\S*)\\.*.*\\s([0-9]{2,4})',r'\\1-\\2-\\3' ,j)\n",
    "        final_date4=re.sub(r'(^[A-Za-z]\\S*.*.)day\\.*.*\\s([A-Z][a-z]\\S*)\\.*.*\\s([0-9]{2,4})',r'\\1-\\2-\\3' ,j)\n",
    "        if Final_date1 != j:   \n",
    "            M.append(Final_date1)\n",
    "        if Final_date2 != j :\n",
    "            M.append(Final_date2)\n",
    "        if final_date3 != j :\n",
    "            M.append(final_date3)\n",
    "        if final_date4 != j :\n",
    "            M.append(final_date4)\n",
    "    G.append(M)\n",
    "    \n",
    "\n",
    "recordC_onto[\"postDate-ontonotes\"]=G"
   ]
  },
  {
   "cell_type": "markdown",
   "id": "d7383cd1",
   "metadata": {
    "papermill": {
     "duration": 0.027413,
     "end_time": "2022-06-28T10:10:56.254551",
     "exception": false,
     "start_time": "2022-06-28T10:10:56.227138",
     "status": "completed"
    },
    "tags": []
   },
   "source": [
    "# standardizing dates"
   ]
  },
  {
   "cell_type": "code",
   "execution_count": 28,
   "id": "95821a9d",
   "metadata": {
    "execution": {
     "iopub.execute_input": "2022-06-28T10:10:56.311689Z",
     "iopub.status.busy": "2022-06-28T10:10:56.311361Z",
     "iopub.status.idle": "2022-06-28T10:10:56.447372Z",
     "shell.execute_reply": "2022-06-28T10:10:56.446305Z"
    },
    "papermill": {
     "duration": 0.168034,
     "end_time": "2022-06-28T10:10:56.450041",
     "exception": false,
     "start_time": "2022-06-28T10:10:56.282007",
     "status": "completed"
    },
    "tags": []
   },
   "outputs": [],
   "source": [
    "NG=[]\n",
    "for i in G:\n",
    "    ng=[]\n",
    "    for j in i:\n",
    "        \n",
    "        date=re.findall(r'([0-9]{1,2})-([A-Z][a-z]\\S*)-([0-9]{2,4})',j)\n",
    "        if date !=[]:\n",
    "            dates=[]\n",
    "            for k in date:\n",
    "                for l in k:\n",
    "                    dates.append(l)\n",
    "                \n",
    "                \n",
    "                if dates[1] in [\"August\",\"Aug\",\"augt\",\"AUGUST\",\"Augst\",\"Augt\",\"AUG\",\"Augusta\"]:\n",
    "                    dates[1]= \"August\"\n",
    "                elif dates[1] in [\"September\",\"Sept\",\"SEP\",\"Sep\",\"Septr\",\"SEPTEMBER\",'Sepr','Septh']:\n",
    "                    dates[1]= \"Septembre\"\n",
    "                elif dates[1] in [\"October\",\"Oct\",\"OCT\",\"OCTOBER\"]:\n",
    "                    dates[1]= \"October\"\n",
    "                elif dates[1] in [\"November\",\"NOV\",\"Nov\",\"Novmbr\",\"Nvbr\",\"Novb\",\"NOVEMBER\", \"The\"]:\n",
    "                    dates[1]= \"November\"\n",
    "                elif dates[1] in [\"December\",\"Dec\",\"Decbr\",\"DEC\",\"DECEMBER\",\"Decber\"]:\n",
    "                    dates[1]= \"December\"\n",
    "                elif dates[1] in [\"January\",\"Janry\",\"Jan\",\"Jany\",\"JAN\",\"Janur\",\"JANUARY\"]:\n",
    "                    dates[1]= \"January\"\n",
    "                elif dates[1] in [\"February\",\"Feby\",\"Febry\",\"FEB\",\"FEBRUARY\"]:\n",
    "                    dates[1]= \"February\"\n",
    "                elif dates[1] in [\"March\",\"Mar\"]:\n",
    "                    dates[1]= \"March\"\n",
    "                elif dates[1] in [\"April\",\"Apl\",\"Aprl\",\"APRIL\",\"Apr\"]:\n",
    "                    dates[1]= \"April\"\n",
    "                elif dates[1] in [\"May\",\"MAY\"]:\n",
    "                    dates[1]= \"May\"\n",
    "                elif dates[1] in [\"JUN\",\"Jun\",\"June\"]:\n",
    "                    dates[1]= \"June\"\n",
    "                elif dates[1] in [\"JULY\",\"July\",\"JUL\"]:\n",
    "                    dates[1]= \"July\"\n",
    "                j = dates[0]+\"-\"+dates[1]+\"-\"+dates[2]\n",
    "                ng.append(j)\n",
    "        else :\n",
    "                date = re.findall(r'(^[A-Za-z]\\S*.*.)-([A-Z][a-z]\\S*)-([0-9]{2,4})',j ) \n",
    "                dates=[]\n",
    "                for k in date:\n",
    "                    for l in k:\n",
    "                        dates.append(l)\n",
    "                \n",
    "                \n",
    "                    if dates[1] in [\"August\",\"Aug\",\"augt\",\"AUGUST\",\"Augst\",'Augt',\"AUG\",\"Augusta\"]:\n",
    "                        dates[1]= \"August\"\n",
    "                    elif dates[1] in [\"September\",\"Sept\",\"SEP\",\"Sep\",\"Septr\",\"SEPTEMBER\",\"Sepr\",\"Septh\", \"This\", \"This \"]:\n",
    "                        dates[1]= \"Septembre\"\n",
    "                    elif dates[1] in [\"October\",\"Oct\",\"OCT\",\"OCTOBER\"]:\n",
    "                        dates[1]= \"October\"\n",
    "                    elif dates[1] in [\"November\",\"NOV\",\"Nov\",\"Novmbr\",\"Nvbr\",\"Novb\",\"NOVEMBER\"]:\n",
    "                        dates[1]= \"November\"\n",
    "                    elif dates[1] in [\"December\",\"Dec\",\"Decbr\",\"DEC\",\"DECEMBER\",\"Decber\"]:\n",
    "                        dates[1]= \"December\"\n",
    "                    elif dates[1] in [\"January\",\"Janry\",\"Jan\",\"Jany\",\"JAN\",\"Janur\",\"JANUARY\"]:\n",
    "                        dates[1]= \"January\"\n",
    "                    elif dates[1] in [\"February\",\"Feby\",\"Febry\",\"FEB\",\"FEBRUARY\"]:\n",
    "                        dates[1]= \"February\"\n",
    "                    elif dates[1] in [\"March\",\"Mar\"]:\n",
    "                        dates[1]= \"March\"\n",
    "                    elif dates[1] in [\"April\",\"Apl\",\"Aprl\",\"APRIL\",\"Apr\"]:\n",
    "                        dates[1]= \"April\"\n",
    "                    elif dates[1] in [\"May\",\"MAY\"]:\n",
    "                        dates[1]= \"May\"\n",
    "                    elif dates[1] in [\"JUN\",\"Jun\",\"June\"]:\n",
    "                        dates[1]= \"June\"\n",
    "                    elif dates[1] in [\"JULY\",\"July\",\"JUL\"]:\n",
    "                        dates[1]= \"July\"\n",
    "                    if dates[0]== \"fifteenth\" :\n",
    "                        dates[0]=\"15\"\n",
    "                    elif (dates[0]==\"sixteenth\") |(dates[0]==\"This 16 \"):\n",
    "                        dates[0]=\"16\"\n",
    "                    elif dates[0]==\"Twenty\":\n",
    "                        dates[0]=\"20\" \n",
    "                    elif dates[0]==\"Twentyseventh\":\n",
    "                        dates[0]=\"27\" \n",
    "                    elif (dates[0]==\"Twenty Eighth\") |(dates[0]==\"TwentyEight\") |(dates[0]==\"TwentyEight \") |(dates[0]==\"Twentyeight\"):\n",
    "                        dates[0]=\"28\"\n",
    "                    elif (dates[0]==\"Ninth\") |(dates[0]==\"Ninth \")|(dates[0]==\"Augusta 9th \") |(dates[0]==\"ninth\") |(dates[0]==\"ninth \")|(dates[0]==\"Augusta 9th\"):\n",
    "                        dates[0]=\"9\"\n",
    "                    \n",
    "                    elif dates[0]=='Seventh':\n",
    "                        dates[0]=\"7\" \n",
    "                    elif (dates[0]=='The') |(dates[0]==\"The 9th\") :\n",
    "                        dates[0]=\"9\"\n",
    "                    elif dates[0]==\"the 9\" :\n",
    "                        dates[0]=\"9\"\n",
    "                    elif (dates[0]==\"Eighth \") |(dates[0]==\"Eighth\") |(dates[0]==\"eighth\") |(dates[0]==\"eighth \"):\n",
    "                        dates[0]=\"8\"\n",
    "                    elif dates[0]==\"Seventh \":\n",
    "                        dates[0]=\"7\"\n",
    "                    elif (dates[0]==\"Twenty ninth \")| (dates[0]==\"Twenty ninth\") | (dates[0]==\"twenty ninth \")|(dates[0]==\"Twenty Ninth \")|(dates[0]==\"Twenty Ninth\") :\n",
    "                        dates[0]=\"29\"\n",
    "                    elif (dates[0]==\"Thirty\") |(dates[0]==\"Thirty \") | (dates[0]==\"thirtieth \"):\n",
    "                        dates[0]=\"30\"\n",
    "                    elif (dates[0]==\"Thirty first \") |(dates[0]==\"Thirty first\"):\n",
    "                        dates[0]=\"31\"\n",
    "                  \n",
    "                    \n",
    "                    elif dates[0]==\"first \":\n",
    "                        dates[0]=\"1\"\n",
    "                    elif (dates[0]==\"Second \") |(dates[0]==\"Second\") |(dates[0]==\"second\")|(dates[0]==\"second \"):\n",
    "                        dates[0]=\"2\"\n",
    "                    elif dates[0]==\"fourth \":\n",
    "                        dates[0]=\"4\"\n",
    "                    elif dates[0]==\"tenth \":\n",
    "                        dates[0]=\"10\"\n",
    "                    elif (dates[0]==\"Fifth \")|(dates[0]==\"Fifth\") |(dates[0]==\"fifth \")|(dates[0]==\"fifth\"):\n",
    "                        dates[0]=\"5\"\n",
    "                    elif (dates[0]==\"This\") | (dates[0]==\"This 7th \")|(dates[0]==\"seventh \") |(dates[0]==\"seventh\") |(dates[0]==\"Seventh \"):\n",
    "                        dates[0]=\"7\"\n",
    "                    elif (dates[0]==\"This 31st\") |(dates[0]==\"Thirty-first \"):\n",
    "                        dates[0]=\"31\"\n",
    "                    elif (dates[0]==\"Thirtieth\") |(dates[0]==\"Thirtieth \") |(dates[0]==\"Thirty\"):\n",
    "                        dates[0]=\"30\"\n",
    "                    elif dates[0]==\"twenty fifth \":\n",
    "                        dates[0]=\"25\"\n",
    "                    elif dates[0]==\"Twenty seventh \":\n",
    "                        dates[0]=\"27\"\n",
    "                    elif (dates[0]==\"Twenty sixth \") |(dates[0]==\"Twentysixth \")|(dates[0]==\"Twentysixth\") |(dates[0]==\"twentysixth \"):\n",
    "                        dates[0]=\"26\"\n",
    "                    elif dates[0]==\"third \":\n",
    "                        dates[0]=\"3\" \n",
    "                    elif dates[0]==\"third\":\n",
    "                        dates[0]=\"3\"\n",
    "                    elif dates[0]==\"Third \":\n",
    "                        dates[0]=\"3\"\n",
    "                    elif dates[0]==\"Third\":\n",
    "                        dates[0]=\"3\"\n",
    "                    \n",
    "                    elif dates[0]==\"Tenth\":\n",
    "                        dates[0]=\"10\" \n",
    "                    elif dates[0]==\"Augusta\":\n",
    "                        dates[0]=\"9\" \n",
    "                    elif (dates[0]==\"this_sixth \")|(dates[0]==\"sixth \")| (dates[0]==\"Sixth\") | (dates[0]==\"Sixth \") |(dates[0]==\"this sixth \"):\n",
    "                        dates[0]=\"6\" \n",
    "                        \n",
    "                    elif dates[0]==\"Tenth \":\n",
    "                        dates[0]=\"10\"\n",
    "                    elif (dates[0]==\"twentieth\")|(dates[0]==\"This 20th \"):\n",
    "                        dates[0]=\"20\"\n",
    "                    elif (dates[0]==\"twenty fourth \") |(dates[0]==\"twenty fourth\") |(dates[0]==\"Twenty fourth \") |(dates[0]==\"Twenty fourth\"):\n",
    "                        dates[0]=\"24\"\n",
    "                    elif (dates[0]==\"fifteenth \") |(dates[0]==\"Fifteenth \") |(dates[0]==\"Fifteenth\"):\n",
    "                        dates[0]=\"15\"\n",
    "                    elif dates[0]==\"twentieth \":\n",
    "                        dates[0]=\"20\"\n",
    "                    elif dates[0]==\"Eighteenth \":\n",
    "                        dates[0]=\"18\"\n",
    "                    elif dates[0]==\"Eighteenth\":\n",
    "                        dates[0]=\"18\"\n",
    "                    elif (dates[0]==\"Nineteenth \") |(dates[0]==\"Nineteenth\"):\n",
    "                        dates[0]=\"19\"\n",
    "                    elif dates[0]==\"First \":\n",
    "                        dates[0]=\"1\"\n",
    "                    elif dates[0]==\"First\":\n",
    "                        dates[0]=\"1\"\n",
    "                    elif (dates[0]==\"Sixteenth \")|(dates[0]==\"this 16\") |(dates[0]==\"Sixteenth\"):\n",
    "                        dates[0]=\"16\"\n",
    "                   \n",
    "                    elif dates[0]==\"twenty third \":\n",
    "                        dates[0]=\"23\"\n",
    "                    elif dates[0]==\"twenty third\":\n",
    "                        dates[0]=\"23\"\n",
    "                    elif dates[0]==\"Twenty third \":\n",
    "                        dates[0]=\"23\"\n",
    "                    elif dates[0]==\"Twenty Second \":\n",
    "                        dates[0]=\"22\"\n",
    "                    elif dates[0]==\"Twenty Second\":\n",
    "                        dates[0]=\"22\"\n",
    "                    elif dates[0]==\"Twenty Eighth \":\n",
    "                        dates[0]=\"28\"\n",
    "                    elif dates[0]==\"Twentysenventh \":\n",
    "                        dates[0]=\"27\"\n",
    "                    elif dates[0]==\"twenty third \":\n",
    "                        dates[0]=\"23\"\n",
    "                    elif (dates[0]==\"twenty third\") |(dates[0]==\"Twentythird\")|(dates[0]==\"Twentythird \"):\n",
    "                        dates[0]=\"23\"\n",
    "                    elif (dates[0]==\"fourteenth \") | (dates[0]==\"fourteenth\") | (dates[0]==\"Fourteenth\") | (dates[0]==\"Fourteenth \"):\n",
    "                        dates[0]=\"14\"\n",
    "                    elif (dates[0]==\"Eleventh \") | (dates[0]==\"Eleventh\") |(dates[0]==\"eleventh \") :\n",
    "                        dates[0]=\"11\"\n",
    "                    elif (dates[0]==\"Thirteenth\") | (dates[0]==\"Thirteenth \") :\n",
    "                        dates[0]=\"13\"\n",
    "                    elif (dates[0]==\"seventeenth \") |(dates[0]==\"seventeenth\") |(dates[0]==\"Seventeenth \") :\n",
    "                        dates[0]=\"17\"\n",
    "                     \n",
    "                     \n",
    "                     \n",
    "                    \n",
    "                        \n",
    "                    j = dates[0]+\"-\"+dates[1]+\"-\"+dates[2]\n",
    "                    ng.append(j)\n",
    "            \n",
    "            \n",
    "    NG.append(ng)   "
   ]
  },
  {
   "cell_type": "code",
   "execution_count": 29,
   "id": "5a8a293d",
   "metadata": {
    "execution": {
     "iopub.execute_input": "2022-06-28T10:10:56.508026Z",
     "iopub.status.busy": "2022-06-28T10:10:56.507707Z",
     "iopub.status.idle": "2022-06-28T10:10:56.515642Z",
     "shell.execute_reply": "2022-06-28T10:10:56.514715Z"
    },
    "papermill": {
     "duration": 0.039277,
     "end_time": "2022-06-28T10:10:56.517580",
     "exception": false,
     "start_time": "2022-06-28T10:10:56.478303",
     "status": "completed"
    },
    "tags": []
   },
   "outputs": [],
   "source": [
    "recordC_onto[\"standard_date-ontonotes\"]=NG"
   ]
  },
  {
   "cell_type": "code",
   "execution_count": 30,
   "id": "63842bd2",
   "metadata": {
    "execution": {
     "iopub.execute_input": "2022-06-28T10:10:56.574896Z",
     "iopub.status.busy": "2022-06-28T10:10:56.574047Z",
     "iopub.status.idle": "2022-06-28T10:10:56.801105Z",
     "shell.execute_reply": "2022-06-28T10:10:56.800149Z"
    },
    "papermill": {
     "duration": 0.25799,
     "end_time": "2022-06-28T10:10:56.803586",
     "exception": false,
     "start_time": "2022-06-28T10:10:56.545596",
     "status": "completed"
    },
    "tags": []
   },
   "outputs": [],
   "source": [
    "recordC_onto.to_csv(\"recordC_onto.csv\",index=False)"
   ]
  },
  {
   "cell_type": "markdown",
   "id": "b9fe701f",
   "metadata": {
    "papermill": {
     "duration": 0.027328,
     "end_time": "2022-06-28T10:10:56.859014",
     "exception": false,
     "start_time": "2022-06-28T10:10:56.831686",
     "status": "completed"
    },
    "tags": []
   },
   "source": [
    "# Ner english large "
   ]
  },
  {
   "cell_type": "code",
   "execution_count": 31,
   "id": "fb7098af",
   "metadata": {
    "execution": {
     "iopub.execute_input": "2022-06-28T10:10:56.915683Z",
     "iopub.status.busy": "2022-06-28T10:10:56.915352Z",
     "iopub.status.idle": "2022-06-28T10:15:59.449452Z",
     "shell.execute_reply": "2022-06-28T10:15:59.448479Z"
    },
    "papermill": {
     "duration": 302.564973,
     "end_time": "2022-06-28T10:15:59.451866",
     "exception": false,
     "start_time": "2022-06-28T10:10:56.886893",
     "status": "completed"
    },
    "tags": []
   },
   "outputs": [
    {
     "name": "stdout",
     "output_type": "stream",
     "text": [
      "2022-06-28 10:12:56,192 Warning: An empty Sentence was created! Are there empty strings in your dataset?\n",
      "2022-06-28 10:13:01,364 Warning: An empty Sentence was created! Are there empty strings in your dataset?\n",
      "2022-06-28 10:13:20,698 Warning: An empty Sentence was created! Are there empty strings in your dataset?\n"
     ]
    }
   ],
   "source": [
    "lst=[]\n",
    "label=[]\n",
    "Per=[]\n",
    "ORG=[]\n",
    "LOC=[]\n",
    "Other_name=[]\n",
    "from flair.data import Sentence\n",
    "\n",
    "recordC_large=pd.DataFrame({\"recordC_text\":\"\", \"Name-nerenglarge\":[], \"LOC-nerenglarge\":\"\",\"ORG-nerenglarge\":\"\"})\n",
    "for i in range(len(recordC_text)):\n",
    "        sentencess =Sentence(recordC_text[i])\n",
    "        recordC_large.loc[i,\"recordC_text\"]=recordC_text[i]\n",
    "        tagger2.predict(sentencess)\n",
    "        dc={}\n",
    "        P=[]\n",
    "        L=[]\n",
    "        G=[]\n",
    "        O=[]\n",
    "        Other=[]\n",
    "        for entity in sentencess.get_spans('ner'):\n",
    "                     \n",
    "                     if (entity.get_label(\"ner\").score > 0.90) & (entity.get_label(\"ner\").value != \"CARDINAL\") & (entity.get_label(\"ner\").value != \"LAW\")& (entity.get_label(\"ner\").value != \"QUANTITY\") & (entity.get_label(\"ner\").value != \"WORK_OF_ART\") & (entity.get_label(\"ner\").value != \"LAW\")& (entity.get_label(\"ner\").value != \"QUANTITY\") & (entity.get_label(\"ner\").value != \"EVENT\")  :\n",
    "                        dc[entity.text]= entity.get_label(\"ner\").value \n",
    "        \n",
    "        \n",
    "        for j in dc :\n",
    "                if dc[j]==\"PER\":\n",
    "                      P.append(j)\n",
    "                elif (dc[j]==\"ORG\") :\n",
    "                      O.append(j)\n",
    "                elif  (dc[j]==\"MISC\") :\n",
    "                      Other.append(j)\n",
    "                elif dc[j]==\"LOC\":\n",
    "                      L.append(j)\n",
    "               \n",
    "        Per.append(P)\n",
    "        ORG.append(O)\n",
    "        LOC.append(L)\n",
    "        Other_name.append(Other)\n",
    "            \n",
    "\n",
    "recordC_large[\"Name-nerenglarge\"]=Per\n",
    "recordC_large[\"LOC-nerenglarge\"]=LOC\n",
    "recordC_large[\"ORG-nerenglarge\"]=ORG    \n",
    "recordC_large[\"other_namelarge\"] =Other_name "
   ]
  },
  {
   "cell_type": "code",
   "execution_count": 32,
   "id": "23e7aedc",
   "metadata": {
    "execution": {
     "iopub.execute_input": "2022-06-28T10:15:59.510810Z",
     "iopub.status.busy": "2022-06-28T10:15:59.509743Z",
     "iopub.status.idle": "2022-06-28T10:15:59.526511Z",
     "shell.execute_reply": "2022-06-28T10:15:59.525574Z"
    },
    "papermill": {
     "duration": 0.047513,
     "end_time": "2022-06-28T10:15:59.528488",
     "exception": false,
     "start_time": "2022-06-28T10:15:59.480975",
     "status": "completed"
    },
    "tags": []
   },
   "outputs": [
    {
     "data": {
      "text/html": [
       "<div>\n",
       "<style scoped>\n",
       "    .dataframe tbody tr th:only-of-type {\n",
       "        vertical-align: middle;\n",
       "    }\n",
       "\n",
       "    .dataframe tbody tr th {\n",
       "        vertical-align: top;\n",
       "    }\n",
       "\n",
       "    .dataframe thead th {\n",
       "        text-align: right;\n",
       "    }\n",
       "</style>\n",
       "<table border=\"1\" class=\"dataframe\">\n",
       "  <thead>\n",
       "    <tr style=\"text-align: right;\">\n",
       "      <th></th>\n",
       "      <th>recordC_text</th>\n",
       "      <th>Name-nerenglarge</th>\n",
       "      <th>LOC-nerenglarge</th>\n",
       "      <th>ORG-nerenglarge</th>\n",
       "      <th>other_namelarge</th>\n",
       "    </tr>\n",
       "  </thead>\n",
       "  <tbody>\n",
       "    <tr>\n",
       "      <th>0</th>\n",
       "      <td>one hundred dollars . I never heard Bagby comp...</td>\n",
       "      <td>[Bagby, Richardson, W.M . Henry, J, Edward Hom...</td>\n",
       "      <td>[]</td>\n",
       "      <td>[]</td>\n",
       "      <td>[]</td>\n",
       "    </tr>\n",
       "    <tr>\n",
       "      <th>1</th>\n",
       "      <td>The Freedmens Bureau vs. B.M . Richardson Assa...</td>\n",
       "      <td>[B.M, Richardson, Daniel Bagley Freedman, E. W...</td>\n",
       "      <td>[Raleigh]</td>\n",
       "      <td>[Freedmens Bureau, Bureau, Freedmens Court, Mi...</td>\n",
       "      <td>[]</td>\n",
       "    </tr>\n",
       "    <tr>\n",
       "      <th>2</th>\n",
       "      <td>The Freedmens Bureau vs. B. M. Richardson , Co...</td>\n",
       "      <td>[B. M. Richardson, Daniel Bagley, Richardson]</td>\n",
       "      <td>[]</td>\n",
       "      <td>[Freedmens Bureau]</td>\n",
       "      <td>[]</td>\n",
       "    </tr>\n",
       "    <tr>\n",
       "      <th>3</th>\n",
       "      <td>one hundred dollars , two suits of clothes wou...</td>\n",
       "      <td>[Hawley]</td>\n",
       "      <td>[]</td>\n",
       "      <td>[]</td>\n",
       "      <td>[]</td>\n",
       "    </tr>\n",
       "    <tr>\n",
       "      <th>4</th>\n",
       "      <td>questions , I gave answer , I whipped.— All I ...</td>\n",
       "      <td>[Bagley, Richardson]</td>\n",
       "      <td>[Martain County]</td>\n",
       "      <td>[]</td>\n",
       "      <td>[]</td>\n",
       "    </tr>\n",
       "  </tbody>\n",
       "</table>\n",
       "</div>"
      ],
      "text/plain": [
       "                                        recordC_text  \\\n",
       "0  one hundred dollars . I never heard Bagby comp...   \n",
       "1  The Freedmens Bureau vs. B.M . Richardson Assa...   \n",
       "2  The Freedmens Bureau vs. B. M. Richardson , Co...   \n",
       "3  one hundred dollars , two suits of clothes wou...   \n",
       "4  questions , I gave answer , I whipped.— All I ...   \n",
       "\n",
       "                                    Name-nerenglarge   LOC-nerenglarge  \\\n",
       "0  [Bagby, Richardson, W.M . Henry, J, Edward Hom...                []   \n",
       "1  [B.M, Richardson, Daniel Bagley Freedman, E. W...         [Raleigh]   \n",
       "2      [B. M. Richardson, Daniel Bagley, Richardson]                []   \n",
       "3                                           [Hawley]                []   \n",
       "4                               [Bagley, Richardson]  [Martain County]   \n",
       "\n",
       "                                     ORG-nerenglarge other_namelarge  \n",
       "0                                                 []              []  \n",
       "1  [Freedmens Bureau, Bureau, Freedmens Court, Mi...              []  \n",
       "2                                 [Freedmens Bureau]              []  \n",
       "3                                                 []              []  \n",
       "4                                                 []              []  "
      ]
     },
     "execution_count": 32,
     "metadata": {},
     "output_type": "execute_result"
    }
   ],
   "source": [
    "recordC_large.head()"
   ]
  },
  {
   "cell_type": "code",
   "execution_count": 33,
   "id": "913bec1c",
   "metadata": {
    "execution": {
     "iopub.execute_input": "2022-06-28T10:15:59.585856Z",
     "iopub.status.busy": "2022-06-28T10:15:59.584949Z",
     "iopub.status.idle": "2022-06-28T10:15:59.816290Z",
     "shell.execute_reply": "2022-06-28T10:15:59.815222Z"
    },
    "papermill": {
     "duration": 0.262558,
     "end_time": "2022-06-28T10:15:59.819034",
     "exception": false,
     "start_time": "2022-06-28T10:15:59.556476",
     "status": "completed"
    },
    "tags": []
   },
   "outputs": [],
   "source": [
    "recordC_large.to_csv(\"recordC_large.csv\",index=False)"
   ]
  },
  {
   "cell_type": "markdown",
   "id": "d1f8a482",
   "metadata": {
    "papermill": {
     "duration": 0.048084,
     "end_time": "2022-06-28T10:15:59.926257",
     "exception": false,
     "start_time": "2022-06-28T10:15:59.878173",
     "status": "completed"
    },
    "tags": []
   },
   "source": [
    "# Ner english"
   ]
  },
  {
   "cell_type": "code",
   "execution_count": 34,
   "id": "b3d197d0",
   "metadata": {
    "execution": {
     "iopub.execute_input": "2022-06-28T10:16:00.024787Z",
     "iopub.status.busy": "2022-06-28T10:16:00.024284Z",
     "iopub.status.idle": "2022-06-28T10:35:54.363153Z",
     "shell.execute_reply": "2022-06-28T10:35:54.362156Z"
    },
    "papermill": {
     "duration": 1194.390873,
     "end_time": "2022-06-28T10:35:54.366157",
     "exception": false,
     "start_time": "2022-06-28T10:15:59.975284",
     "status": "completed"
    },
    "tags": []
   },
   "outputs": [
    {
     "name": "stdout",
     "output_type": "stream",
     "text": [
      "2022-06-28 10:23:55,853 Warning: An empty Sentence was created! Are there empty strings in your dataset?\n",
      "2022-06-28 10:24:12,617 Warning: An empty Sentence was created! Are there empty strings in your dataset?\n",
      "2022-06-28 10:25:26,871 Warning: An empty Sentence was created! Are there empty strings in your dataset?\n"
     ]
    }
   ],
   "source": [
    "lst=[]\n",
    "label=[]\n",
    "Per=[]\n",
    "ORG=[]\n",
    "LOC=[]\n",
    "Other_name=[]\n",
    "from flair.data import Sentence\n",
    "\n",
    "recordC_ner=pd.DataFrame({\"recordC_text\":\"\", \"PERSON-nerenglish\":\"\",\"LOC-nerenglish\":\"\",\"ORG-nerenglish\":[]})\n",
    "for i in range(len(recordC_text)):\n",
    "        sentencess =Sentence(recordC_text[i])\n",
    "        recordC_ner.loc[i,\"recordC_text\"]=recordC_text[i]\n",
    "        tagger1.predict(sentencess)\n",
    "        dc={}\n",
    "        P=[]\n",
    "        L=[]\n",
    "        O=[]\n",
    "        Other=[]\n",
    "        for entity in sentencess.get_spans('ner'):\n",
    "                     \n",
    "                     if (entity.get_label(\"ner\").score > 0.90) & (entity.get_label(\"ner\").value != \"CARDINAL\") & (entity.get_label(\"ner\").value != \"LAW\")& (entity.get_label(\"ner\").value != \"QUANTITY\") & (entity.get_label(\"ner\").value != \"WORK_OF_ART\") & (entity.get_label(\"ner\").value != \"LAW\")& (entity.get_label(\"ner\").value != \"QUANTITY\") & (entity.get_label(\"ner\").value != \"EVENT\")  :\n",
    "                        dc[entity.text]= entity.get_label(\"ner\").value \n",
    "        \n",
    "        \n",
    "        for j in dc :\n",
    "                if dc[j]==\"PER\":\n",
    "                      P.append(j)\n",
    "                elif (dc[j]==\"ORG\")  :\n",
    "                      O.append(j)\n",
    "                elif  (dc[j]==\"MISC\") :\n",
    "                      Other.append(j)\n",
    "                elif dc[j]==\"LOC\":\n",
    "                      L.append(j)\n",
    "               \n",
    "        Per.append(P)\n",
    "        ORG.append(O)\n",
    "        LOC.append(L)\n",
    "        Other_name.append(Other)\n",
    "            \n",
    "\n",
    "recordC_ner[\"Name-nerenglish\"]=Per\n",
    "recordC_ner[\"LOC-nerenglish\"]=LOC\n",
    "recordC_ner[\"ORG-nerenglish\"]=ORG \n",
    "recordC_ner[\"Other_name-nerenglish\"]=Other_name "
   ]
  },
  {
   "cell_type": "code",
   "execution_count": 35,
   "id": "307b4247",
   "metadata": {
    "execution": {
     "iopub.execute_input": "2022-06-28T10:35:54.426993Z",
     "iopub.status.busy": "2022-06-28T10:35:54.425456Z",
     "iopub.status.idle": "2022-06-28T10:35:54.443188Z",
     "shell.execute_reply": "2022-06-28T10:35:54.442163Z"
    },
    "papermill": {
     "duration": 0.049868,
     "end_time": "2022-06-28T10:35:54.445155",
     "exception": false,
     "start_time": "2022-06-28T10:35:54.395287",
     "status": "completed"
    },
    "tags": []
   },
   "outputs": [
    {
     "data": {
      "text/html": [
       "<div>\n",
       "<style scoped>\n",
       "    .dataframe tbody tr th:only-of-type {\n",
       "        vertical-align: middle;\n",
       "    }\n",
       "\n",
       "    .dataframe tbody tr th {\n",
       "        vertical-align: top;\n",
       "    }\n",
       "\n",
       "    .dataframe thead th {\n",
       "        text-align: right;\n",
       "    }\n",
       "</style>\n",
       "<table border=\"1\" class=\"dataframe\">\n",
       "  <thead>\n",
       "    <tr style=\"text-align: right;\">\n",
       "      <th></th>\n",
       "      <th>recordC_text</th>\n",
       "      <th>PERSON-nerenglish</th>\n",
       "      <th>LOC-nerenglish</th>\n",
       "      <th>ORG-nerenglish</th>\n",
       "      <th>Name-nerenglish</th>\n",
       "      <th>Other_name-nerenglish</th>\n",
       "    </tr>\n",
       "  </thead>\n",
       "  <tbody>\n",
       "    <tr>\n",
       "      <th>0</th>\n",
       "      <td>one hundred dollars . I never heard Bagby comp...</td>\n",
       "      <td>NaN</td>\n",
       "      <td>[]</td>\n",
       "      <td>[]</td>\n",
       "      <td>[Bagby, Henry Signed, Richardsons, Edward Horn...</td>\n",
       "      <td>[]</td>\n",
       "    </tr>\n",
       "    <tr>\n",
       "      <th>1</th>\n",
       "      <td>The Freedmens Bureau vs. B.M . Richardson Assa...</td>\n",
       "      <td>NaN</td>\n",
       "      <td>[]</td>\n",
       "      <td>[Freedmens Bureau]</td>\n",
       "      <td>[]</td>\n",
       "      <td>[]</td>\n",
       "    </tr>\n",
       "    <tr>\n",
       "      <th>2</th>\n",
       "      <td>The Freedmens Bureau vs. B. M. Richardson , Co...</td>\n",
       "      <td>NaN</td>\n",
       "      <td>[]</td>\n",
       "      <td>[Freedmens Bureau]</td>\n",
       "      <td>[B. M. Richardson, Daniel Bagley, Richardson]</td>\n",
       "      <td>[]</td>\n",
       "    </tr>\n",
       "    <tr>\n",
       "      <th>3</th>\n",
       "      <td>one hundred dollars , two suits of clothes wou...</td>\n",
       "      <td>NaN</td>\n",
       "      <td>[]</td>\n",
       "      <td>[]</td>\n",
       "      <td>[Genl Hawley]</td>\n",
       "      <td>[]</td>\n",
       "    </tr>\n",
       "    <tr>\n",
       "      <th>4</th>\n",
       "      <td>questions , I gave answer , I whipped.— All I ...</td>\n",
       "      <td>NaN</td>\n",
       "      <td>[Martain County]</td>\n",
       "      <td>[]</td>\n",
       "      <td>[Bagley]</td>\n",
       "      <td>[]</td>\n",
       "    </tr>\n",
       "  </tbody>\n",
       "</table>\n",
       "</div>"
      ],
      "text/plain": [
       "                                        recordC_text PERSON-nerenglish  \\\n",
       "0  one hundred dollars . I never heard Bagby comp...               NaN   \n",
       "1  The Freedmens Bureau vs. B.M . Richardson Assa...               NaN   \n",
       "2  The Freedmens Bureau vs. B. M. Richardson , Co...               NaN   \n",
       "3  one hundred dollars , two suits of clothes wou...               NaN   \n",
       "4  questions , I gave answer , I whipped.— All I ...               NaN   \n",
       "\n",
       "     LOC-nerenglish      ORG-nerenglish  \\\n",
       "0                []                  []   \n",
       "1                []  [Freedmens Bureau]   \n",
       "2                []  [Freedmens Bureau]   \n",
       "3                []                  []   \n",
       "4  [Martain County]                  []   \n",
       "\n",
       "                                     Name-nerenglish Other_name-nerenglish  \n",
       "0  [Bagby, Henry Signed, Richardsons, Edward Horn...                    []  \n",
       "1                                                 []                    []  \n",
       "2      [B. M. Richardson, Daniel Bagley, Richardson]                    []  \n",
       "3                                      [Genl Hawley]                    []  \n",
       "4                                           [Bagley]                    []  "
      ]
     },
     "execution_count": 35,
     "metadata": {},
     "output_type": "execute_result"
    }
   ],
   "source": [
    "recordC_ner.head()"
   ]
  },
  {
   "cell_type": "code",
   "execution_count": 36,
   "id": "72df0ad6",
   "metadata": {
    "execution": {
     "iopub.execute_input": "2022-06-28T10:35:54.503556Z",
     "iopub.status.busy": "2022-06-28T10:35:54.503240Z",
     "iopub.status.idle": "2022-06-28T10:35:54.668810Z",
     "shell.execute_reply": "2022-06-28T10:35:54.667854Z"
    },
    "papermill": {
     "duration": 0.197459,
     "end_time": "2022-06-28T10:35:54.671173",
     "exception": false,
     "start_time": "2022-06-28T10:35:54.473714",
     "status": "completed"
    },
    "tags": []
   },
   "outputs": [],
   "source": [
    "recordC_ner.to_csv(\"recordC_ner.csv\",index=False)"
   ]
  },
  {
   "cell_type": "code",
   "execution_count": 37,
   "id": "3e96b890",
   "metadata": {
    "execution": {
     "iopub.execute_input": "2022-06-28T10:35:54.730862Z",
     "iopub.status.busy": "2022-06-28T10:35:54.729934Z",
     "iopub.status.idle": "2022-06-28T10:35:54.742013Z",
     "shell.execute_reply": "2022-06-28T10:35:54.741155Z"
    },
    "papermill": {
     "duration": 0.043681,
     "end_time": "2022-06-28T10:35:54.744144",
     "exception": false,
     "start_time": "2022-06-28T10:35:54.700463",
     "status": "completed"
    },
    "tags": []
   },
   "outputs": [],
   "source": [
    "recordC_onto[\"Name-nerenglarge\"]=recordC_large[\"Name-nerenglarge\"]\n",
    "recordC_onto[\"LOC-nerenglarge\"]=recordC_large[\"LOC-nerenglarge\"]\n",
    "recordC_onto[\"ORG-nerenglarge\"]=recordC_large[\"ORG-nerenglarge\"]\n",
    "recordC_onto[\"other_namelarge\"]=recordC_large[\"other_namelarge\"]\n",
    "recordC_onto[\"PERSON-nerenglish\"]=recordC_ner[\"Name-nerenglish\"]\n",
    "recordC_onto[\"LOC-nerenglish\"]=recordC_ner[\"LOC-nerenglish\"]\n",
    "recordC_onto[\"ORG-nerenglish\"]=recordC_ner[\"ORG-nerenglish\"]\n",
    "recordC_onto[\"Other_name-nerenglish\"]=recordC_ner[\"Other_name-nerenglish\"]"
   ]
  },
  {
   "cell_type": "code",
   "execution_count": 38,
   "id": "10d9842d",
   "metadata": {
    "execution": {
     "iopub.execute_input": "2022-06-28T10:35:54.803560Z",
     "iopub.status.busy": "2022-06-28T10:35:54.803020Z",
     "iopub.status.idle": "2022-06-28T10:35:54.807374Z",
     "shell.execute_reply": "2022-06-28T10:35:54.806450Z"
    },
    "papermill": {
     "duration": 0.036565,
     "end_time": "2022-06-28T10:35:54.809388",
     "exception": false,
     "start_time": "2022-06-28T10:35:54.772823",
     "status": "completed"
    },
    "tags": []
   },
   "outputs": [],
   "source": [
    "to_compare_result_recordC=recordC_onto"
   ]
  },
  {
   "cell_type": "code",
   "execution_count": 39,
   "id": "f708fd0f",
   "metadata": {
    "execution": {
     "iopub.execute_input": "2022-06-28T10:35:54.867846Z",
     "iopub.status.busy": "2022-06-28T10:35:54.867050Z",
     "iopub.status.idle": "2022-06-28T10:35:55.180484Z",
     "shell.execute_reply": "2022-06-28T10:35:55.179492Z"
    },
    "papermill": {
     "duration": 0.345659,
     "end_time": "2022-06-28T10:35:55.182999",
     "exception": false,
     "start_time": "2022-06-28T10:35:54.837340",
     "status": "completed"
    },
    "tags": []
   },
   "outputs": [],
   "source": [
    "to_compare_result_recordC.to_csv(\"to_compare_result_recordC.csv\", index=False)"
   ]
  },
  {
   "cell_type": "code",
   "execution_count": null,
   "id": "cfecb2c5",
   "metadata": {
    "papermill": {
     "duration": 0.028271,
     "end_time": "2022-06-28T10:35:55.239929",
     "exception": false,
     "start_time": "2022-06-28T10:35:55.211658",
     "status": "completed"
    },
    "tags": []
   },
   "outputs": [],
   "source": []
  }
 ],
 "metadata": {
  "kernelspec": {
   "display_name": "Python 3",
   "language": "python",
   "name": "python3"
  },
  "language_info": {
   "codemirror_mode": {
    "name": "ipython",
    "version": 3
   },
   "file_extension": ".py",
   "mimetype": "text/x-python",
   "name": "python",
   "nbconvert_exporter": "python",
   "pygments_lexer": "ipython3",
   "version": "3.7.12"
  },
  "papermill": {
   "default_parameters": {},
   "duration": 2066.256354,
   "end_time": "2022-06-28T10:35:58.503200",
   "environment_variables": {},
   "exception": null,
   "input_path": "__notebook__.ipynb",
   "output_path": "__notebook__.ipynb",
   "parameters": {},
   "start_time": "2022-06-28T10:01:32.246846",
   "version": "2.3.4"
  },
  "widgets": {
   "application/vnd.jupyter.widget-state+json": {
    "state": {
     "0121fcbc45b5404ea1c4a8dfddbec5fe": {
      "model_module": "@jupyter-widgets/controls",
      "model_module_version": "1.5.0",
      "model_name": "DescriptionStyleModel",
      "state": {
       "_model_module": "@jupyter-widgets/controls",
       "_model_module_version": "1.5.0",
       "_model_name": "DescriptionStyleModel",
       "_view_count": null,
       "_view_module": "@jupyter-widgets/base",
       "_view_module_version": "1.2.0",
       "_view_name": "StyleView",
       "description_width": ""
      }
     },
     "09aec943158b485b8c8994ec515859fc": {
      "model_module": "@jupyter-widgets/base",
      "model_module_version": "1.2.0",
      "model_name": "LayoutModel",
      "state": {
       "_model_module": "@jupyter-widgets/base",
       "_model_module_version": "1.2.0",
       "_model_name": "LayoutModel",
       "_view_count": null,
       "_view_module": "@jupyter-widgets/base",
       "_view_module_version": "1.2.0",
       "_view_name": "LayoutView",
       "align_content": null,
       "align_items": null,
       "align_self": null,
       "border": null,
       "bottom": null,
       "display": null,
       "flex": null,
       "flex_flow": null,
       "grid_area": null,
       "grid_auto_columns": null,
       "grid_auto_flow": null,
       "grid_auto_rows": null,
       "grid_column": null,
       "grid_gap": null,
       "grid_row": null,
       "grid_template_areas": null,
       "grid_template_columns": null,
       "grid_template_rows": null,
       "height": null,
       "justify_content": null,
       "justify_items": null,
       "left": null,
       "margin": null,
       "max_height": null,
       "max_width": null,
       "min_height": null,
       "min_width": null,
       "object_fit": null,
       "object_position": null,
       "order": null,
       "overflow": null,
       "overflow_x": null,
       "overflow_y": null,
       "padding": null,
       "right": null,
       "top": null,
       "visibility": null,
       "width": null
      }
     },
     "1ad11db792774ca791eee4efc0c30967": {
      "model_module": "@jupyter-widgets/base",
      "model_module_version": "1.2.0",
      "model_name": "LayoutModel",
      "state": {
       "_model_module": "@jupyter-widgets/base",
       "_model_module_version": "1.2.0",
       "_model_name": "LayoutModel",
       "_view_count": null,
       "_view_module": "@jupyter-widgets/base",
       "_view_module_version": "1.2.0",
       "_view_name": "LayoutView",
       "align_content": null,
       "align_items": null,
       "align_self": null,
       "border": null,
       "bottom": null,
       "display": null,
       "flex": null,
       "flex_flow": null,
       "grid_area": null,
       "grid_auto_columns": null,
       "grid_auto_flow": null,
       "grid_auto_rows": null,
       "grid_column": null,
       "grid_gap": null,
       "grid_row": null,
       "grid_template_areas": null,
       "grid_template_columns": null,
       "grid_template_rows": null,
       "height": null,
       "justify_content": null,
       "justify_items": null,
       "left": null,
       "margin": null,
       "max_height": null,
       "max_width": null,
       "min_height": null,
       "min_width": null,
       "object_fit": null,
       "object_position": null,
       "order": null,
       "overflow": null,
       "overflow_x": null,
       "overflow_y": null,
       "padding": null,
       "right": null,
       "top": null,
       "visibility": null,
       "width": null
      }
     },
     "2245a91a83c34d8699b75286557d01ee": {
      "model_module": "@jupyter-widgets/base",
      "model_module_version": "1.2.0",
      "model_name": "LayoutModel",
      "state": {
       "_model_module": "@jupyter-widgets/base",
       "_model_module_version": "1.2.0",
       "_model_name": "LayoutModel",
       "_view_count": null,
       "_view_module": "@jupyter-widgets/base",
       "_view_module_version": "1.2.0",
       "_view_name": "LayoutView",
       "align_content": null,
       "align_items": null,
       "align_self": null,
       "border": null,
       "bottom": null,
       "display": null,
       "flex": null,
       "flex_flow": null,
       "grid_area": null,
       "grid_auto_columns": null,
       "grid_auto_flow": null,
       "grid_auto_rows": null,
       "grid_column": null,
       "grid_gap": null,
       "grid_row": null,
       "grid_template_areas": null,
       "grid_template_columns": null,
       "grid_template_rows": null,
       "height": null,
       "justify_content": null,
       "justify_items": null,
       "left": null,
       "margin": null,
       "max_height": null,
       "max_width": null,
       "min_height": null,
       "min_width": null,
       "object_fit": null,
       "object_position": null,
       "order": null,
       "overflow": null,
       "overflow_x": null,
       "overflow_y": null,
       "padding": null,
       "right": null,
       "top": null,
       "visibility": null,
       "width": null
      }
     },
     "240a6022a04841058b95e5a14b44fadf": {
      "model_module": "@jupyter-widgets/controls",
      "model_module_version": "1.5.0",
      "model_name": "ProgressStyleModel",
      "state": {
       "_model_module": "@jupyter-widgets/controls",
       "_model_module_version": "1.5.0",
       "_model_name": "ProgressStyleModel",
       "_view_count": null,
       "_view_module": "@jupyter-widgets/base",
       "_view_module_version": "1.2.0",
       "_view_name": "StyleView",
       "bar_color": null,
       "description_width": ""
      }
     },
     "288a2911192c490fbf5db2ef5eb7fba1": {
      "model_module": "@jupyter-widgets/controls",
      "model_module_version": "1.5.0",
      "model_name": "HTMLModel",
      "state": {
       "_dom_classes": [],
       "_model_module": "@jupyter-widgets/controls",
       "_model_module_version": "1.5.0",
       "_model_name": "HTMLModel",
       "_view_count": null,
       "_view_module": "@jupyter-widgets/controls",
       "_view_module_version": "1.5.0",
       "_view_name": "HTMLView",
       "description": "",
       "description_tooltip": null,
       "layout": "IPY_MODEL_62cb675789f84cee88704508ed51ea1d",
       "placeholder": "​",
       "style": "IPY_MODEL_7bc607e670b54ad08117d4f361e6839f",
       "value": " 2.24G/2.24G [00:51&lt;00:00, 46.3MB/s]"
      }
     },
     "2a43f7af4d114004bd69b6e677e92b35": {
      "model_module": "@jupyter-widgets/controls",
      "model_module_version": "1.5.0",
      "model_name": "HBoxModel",
      "state": {
       "_dom_classes": [],
       "_model_module": "@jupyter-widgets/controls",
       "_model_module_version": "1.5.0",
       "_model_name": "HBoxModel",
       "_view_count": null,
       "_view_module": "@jupyter-widgets/controls",
       "_view_module_version": "1.5.0",
       "_view_name": "HBoxView",
       "box_style": "",
       "children": [
        "IPY_MODEL_d9347f7374724572a101bc02ebccf812",
        "IPY_MODEL_69fc279d1c2a4e31a1f11b2afc0abb72",
        "IPY_MODEL_44f25c96da1146039174348efe5c0bd6"
       ],
       "layout": "IPY_MODEL_89a2a42206fc4bc7b54fc35dda4da3fe"
      }
     },
     "2d5c5c87e9a2458bb020f0efd4d73936": {
      "model_module": "@jupyter-widgets/controls",
      "model_module_version": "1.5.0",
      "model_name": "HTMLModel",
      "state": {
       "_dom_classes": [],
       "_model_module": "@jupyter-widgets/controls",
       "_model_module_version": "1.5.0",
       "_model_name": "HTMLModel",
       "_view_count": null,
       "_view_module": "@jupyter-widgets/controls",
       "_view_module_version": "1.5.0",
       "_view_name": "HTMLView",
       "description": "",
       "description_tooltip": null,
       "layout": "IPY_MODEL_5a92547ff0ca4f219299cee8f24e6e8c",
       "placeholder": "​",
       "style": "IPY_MODEL_e7ef9002a0da41caa30f1a631e739bf8",
       "value": " 432M/432M [00:09&lt;00:00, 46.6MB/s]"
      }
     },
     "350eeb2456984c588a24233b820c010c": {
      "model_module": "@jupyter-widgets/base",
      "model_module_version": "1.2.0",
      "model_name": "LayoutModel",
      "state": {
       "_model_module": "@jupyter-widgets/base",
       "_model_module_version": "1.2.0",
       "_model_name": "LayoutModel",
       "_view_count": null,
       "_view_module": "@jupyter-widgets/base",
       "_view_module_version": "1.2.0",
       "_view_name": "LayoutView",
       "align_content": null,
       "align_items": null,
       "align_self": null,
       "border": null,
       "bottom": null,
       "display": null,
       "flex": null,
       "flex_flow": null,
       "grid_area": null,
       "grid_auto_columns": null,
       "grid_auto_flow": null,
       "grid_auto_rows": null,
       "grid_column": null,
       "grid_gap": null,
       "grid_row": null,
       "grid_template_areas": null,
       "grid_template_columns": null,
       "grid_template_rows": null,
       "height": null,
       "justify_content": null,
       "justify_items": null,
       "left": null,
       "margin": null,
       "max_height": null,
       "max_width": null,
       "min_height": null,
       "min_width": null,
       "object_fit": null,
       "object_position": null,
       "order": null,
       "overflow": null,
       "overflow_x": null,
       "overflow_y": null,
       "padding": null,
       "right": null,
       "top": null,
       "visibility": null,
       "width": null
      }
     },
     "38601377deda479cb75c44ce3101ba17": {
      "model_module": "@jupyter-widgets/controls",
      "model_module_version": "1.5.0",
      "model_name": "HBoxModel",
      "state": {
       "_dom_classes": [],
       "_model_module": "@jupyter-widgets/controls",
       "_model_module_version": "1.5.0",
       "_model_name": "HBoxModel",
       "_view_count": null,
       "_view_module": "@jupyter-widgets/controls",
       "_view_module_version": "1.5.0",
       "_view_name": "HBoxView",
       "box_style": "",
       "children": [
        "IPY_MODEL_d40f9871825445b5ac1ea7116cf9857b",
        "IPY_MODEL_a8e849fda46d4178bd5a1d51206836a7",
        "IPY_MODEL_2d5c5c87e9a2458bb020f0efd4d73936"
       ],
       "layout": "IPY_MODEL_913d2622a403401eb7eb86fd6d7edda8"
      }
     },
     "3b7b467dd49b4b1c893765e519c412aa": {
      "model_module": "@jupyter-widgets/controls",
      "model_module_version": "1.5.0",
      "model_name": "DescriptionStyleModel",
      "state": {
       "_model_module": "@jupyter-widgets/controls",
       "_model_module_version": "1.5.0",
       "_model_name": "DescriptionStyleModel",
       "_view_count": null,
       "_view_module": "@jupyter-widgets/base",
       "_view_module_version": "1.2.0",
       "_view_name": "StyleView",
       "description_width": ""
      }
     },
     "3ca77b2515b144d6b626851a2f6e93a7": {
      "model_module": "@jupyter-widgets/controls",
      "model_module_version": "1.5.0",
      "model_name": "HTMLModel",
      "state": {
       "_dom_classes": [],
       "_model_module": "@jupyter-widgets/controls",
       "_model_module_version": "1.5.0",
       "_model_name": "HTMLModel",
       "_view_count": null,
       "_view_module": "@jupyter-widgets/controls",
       "_view_module_version": "1.5.0",
       "_view_name": "HTMLView",
       "description": "",
       "description_tooltip": null,
       "layout": "IPY_MODEL_c3037dcc373d45cd99359b325531b651",
       "placeholder": "​",
       "style": "IPY_MODEL_c215bac9937145a0af30768c0069556c",
       "value": "Downloading: 100%"
      }
     },
     "44f25c96da1146039174348efe5c0bd6": {
      "model_module": "@jupyter-widgets/controls",
      "model_module_version": "1.5.0",
      "model_name": "HTMLModel",
      "state": {
       "_dom_classes": [],
       "_model_module": "@jupyter-widgets/controls",
       "_model_module_version": "1.5.0",
       "_model_name": "HTMLModel",
       "_view_count": null,
       "_view_module": "@jupyter-widgets/controls",
       "_view_module_version": "1.5.0",
       "_view_name": "HTMLView",
       "description": "",
       "description_tooltip": null,
       "layout": "IPY_MODEL_5cf990c1cb47455eb9d86a1666659f06",
       "placeholder": "​",
       "style": "IPY_MODEL_0121fcbc45b5404ea1c4a8dfddbec5fe",
       "value": " 8.68M/8.68M [00:00&lt;00:00, 17.9MB/s]"
      }
     },
     "47906efe26b343a9913e12bc2a93abf0": {
      "model_module": "@jupyter-widgets/base",
      "model_module_version": "1.2.0",
      "model_name": "LayoutModel",
      "state": {
       "_model_module": "@jupyter-widgets/base",
       "_model_module_version": "1.2.0",
       "_model_name": "LayoutModel",
       "_view_count": null,
       "_view_module": "@jupyter-widgets/base",
       "_view_module_version": "1.2.0",
       "_view_name": "LayoutView",
       "align_content": null,
       "align_items": null,
       "align_self": null,
       "border": null,
       "bottom": null,
       "display": null,
       "flex": null,
       "flex_flow": null,
       "grid_area": null,
       "grid_auto_columns": null,
       "grid_auto_flow": null,
       "grid_auto_rows": null,
       "grid_column": null,
       "grid_gap": null,
       "grid_row": null,
       "grid_template_areas": null,
       "grid_template_columns": null,
       "grid_template_rows": null,
       "height": null,
       "justify_content": null,
       "justify_items": null,
       "left": null,
       "margin": null,
       "max_height": null,
       "max_width": null,
       "min_height": null,
       "min_width": null,
       "object_fit": null,
       "object_position": null,
       "order": null,
       "overflow": null,
       "overflow_x": null,
       "overflow_y": null,
       "padding": null,
       "right": null,
       "top": null,
       "visibility": null,
       "width": null
      }
     },
     "4a1bb0fba4d84c3fb99ea4a5f335fd42": {
      "model_module": "@jupyter-widgets/base",
      "model_module_version": "1.2.0",
      "model_name": "LayoutModel",
      "state": {
       "_model_module": "@jupyter-widgets/base",
       "_model_module_version": "1.2.0",
       "_model_name": "LayoutModel",
       "_view_count": null,
       "_view_module": "@jupyter-widgets/base",
       "_view_module_version": "1.2.0",
       "_view_name": "LayoutView",
       "align_content": null,
       "align_items": null,
       "align_self": null,
       "border": null,
       "bottom": null,
       "display": null,
       "flex": null,
       "flex_flow": null,
       "grid_area": null,
       "grid_auto_columns": null,
       "grid_auto_flow": null,
       "grid_auto_rows": null,
       "grid_column": null,
       "grid_gap": null,
       "grid_row": null,
       "grid_template_areas": null,
       "grid_template_columns": null,
       "grid_template_rows": null,
       "height": null,
       "justify_content": null,
       "justify_items": null,
       "left": null,
       "margin": null,
       "max_height": null,
       "max_width": null,
       "min_height": null,
       "min_width": null,
       "object_fit": null,
       "object_position": null,
       "order": null,
       "overflow": null,
       "overflow_x": null,
       "overflow_y": null,
       "padding": null,
       "right": null,
       "top": null,
       "visibility": null,
       "width": null
      }
     },
     "4bda87e6ea744cc29e28181b2936a5c0": {
      "model_module": "@jupyter-widgets/controls",
      "model_module_version": "1.5.0",
      "model_name": "HBoxModel",
      "state": {
       "_dom_classes": [],
       "_model_module": "@jupyter-widgets/controls",
       "_model_module_version": "1.5.0",
       "_model_name": "HBoxModel",
       "_view_count": null,
       "_view_module": "@jupyter-widgets/controls",
       "_view_module_version": "1.5.0",
       "_view_name": "HBoxView",
       "box_style": "",
       "children": [
        "IPY_MODEL_c30b53b081464f68b6b89432e15f1a26",
        "IPY_MODEL_6dec81b11db74c3a8d4720ec798df73d",
        "IPY_MODEL_6af2987d86c740ca89f1d263aabe18c7"
       ],
       "layout": "IPY_MODEL_d18ed7ec46ce4f3b8427c0465b1c202d"
      }
     },
     "514e7ae9c764429fab16706fbbf83a33": {
      "model_module": "@jupyter-widgets/controls",
      "model_module_version": "1.5.0",
      "model_name": "ProgressStyleModel",
      "state": {
       "_model_module": "@jupyter-widgets/controls",
       "_model_module_version": "1.5.0",
       "_model_name": "ProgressStyleModel",
       "_view_count": null,
       "_view_module": "@jupyter-widgets/base",
       "_view_module_version": "1.2.0",
       "_view_name": "StyleView",
       "bar_color": null,
       "description_width": ""
      }
     },
     "59f6b4ec0bd0492190d400dee46539a8": {
      "model_module": "@jupyter-widgets/controls",
      "model_module_version": "1.5.0",
      "model_name": "DescriptionStyleModel",
      "state": {
       "_model_module": "@jupyter-widgets/controls",
       "_model_module_version": "1.5.0",
       "_model_name": "DescriptionStyleModel",
       "_view_count": null,
       "_view_module": "@jupyter-widgets/base",
       "_view_module_version": "1.2.0",
       "_view_name": "StyleView",
       "description_width": ""
      }
     },
     "5a92547ff0ca4f219299cee8f24e6e8c": {
      "model_module": "@jupyter-widgets/base",
      "model_module_version": "1.2.0",
      "model_name": "LayoutModel",
      "state": {
       "_model_module": "@jupyter-widgets/base",
       "_model_module_version": "1.2.0",
       "_model_name": "LayoutModel",
       "_view_count": null,
       "_view_module": "@jupyter-widgets/base",
       "_view_module_version": "1.2.0",
       "_view_name": "LayoutView",
       "align_content": null,
       "align_items": null,
       "align_self": null,
       "border": null,
       "bottom": null,
       "display": null,
       "flex": null,
       "flex_flow": null,
       "grid_area": null,
       "grid_auto_columns": null,
       "grid_auto_flow": null,
       "grid_auto_rows": null,
       "grid_column": null,
       "grid_gap": null,
       "grid_row": null,
       "grid_template_areas": null,
       "grid_template_columns": null,
       "grid_template_rows": null,
       "height": null,
       "justify_content": null,
       "justify_items": null,
       "left": null,
       "margin": null,
       "max_height": null,
       "max_width": null,
       "min_height": null,
       "min_width": null,
       "object_fit": null,
       "object_position": null,
       "order": null,
       "overflow": null,
       "overflow_x": null,
       "overflow_y": null,
       "padding": null,
       "right": null,
       "top": null,
       "visibility": null,
       "width": null
      }
     },
     "5cf990c1cb47455eb9d86a1666659f06": {
      "model_module": "@jupyter-widgets/base",
      "model_module_version": "1.2.0",
      "model_name": "LayoutModel",
      "state": {
       "_model_module": "@jupyter-widgets/base",
       "_model_module_version": "1.2.0",
       "_model_name": "LayoutModel",
       "_view_count": null,
       "_view_module": "@jupyter-widgets/base",
       "_view_module_version": "1.2.0",
       "_view_name": "LayoutView",
       "align_content": null,
       "align_items": null,
       "align_self": null,
       "border": null,
       "bottom": null,
       "display": null,
       "flex": null,
       "flex_flow": null,
       "grid_area": null,
       "grid_auto_columns": null,
       "grid_auto_flow": null,
       "grid_auto_rows": null,
       "grid_column": null,
       "grid_gap": null,
       "grid_row": null,
       "grid_template_areas": null,
       "grid_template_columns": null,
       "grid_template_rows": null,
       "height": null,
       "justify_content": null,
       "justify_items": null,
       "left": null,
       "margin": null,
       "max_height": null,
       "max_width": null,
       "min_height": null,
       "min_width": null,
       "object_fit": null,
       "object_position": null,
       "order": null,
       "overflow": null,
       "overflow_x": null,
       "overflow_y": null,
       "padding": null,
       "right": null,
       "top": null,
       "visibility": null,
       "width": null
      }
     },
     "5d308064875d4c9fa305dc3431858a0d": {
      "model_module": "@jupyter-widgets/controls",
      "model_module_version": "1.5.0",
      "model_name": "ProgressStyleModel",
      "state": {
       "_model_module": "@jupyter-widgets/controls",
       "_model_module_version": "1.5.0",
       "_model_name": "ProgressStyleModel",
       "_view_count": null,
       "_view_module": "@jupyter-widgets/base",
       "_view_module_version": "1.2.0",
       "_view_name": "StyleView",
       "bar_color": null,
       "description_width": ""
      }
     },
     "607357505baf4e07a5a857f78a13ce6b": {
      "model_module": "@jupyter-widgets/controls",
      "model_module_version": "1.5.0",
      "model_name": "HBoxModel",
      "state": {
       "_dom_classes": [],
       "_model_module": "@jupyter-widgets/controls",
       "_model_module_version": "1.5.0",
       "_model_name": "HBoxModel",
       "_view_count": null,
       "_view_module": "@jupyter-widgets/controls",
       "_view_module_version": "1.5.0",
       "_view_name": "HBoxView",
       "box_style": "",
       "children": [
        "IPY_MODEL_c1f8be1e721046f6a8e86532a5743e3b",
        "IPY_MODEL_d0b4d03ba6314512a3d1c94334a6f21a",
        "IPY_MODEL_288a2911192c490fbf5db2ef5eb7fba1"
       ],
       "layout": "IPY_MODEL_d604752beebc4c6bbcf8d866f9a67453"
      }
     },
     "62cb675789f84cee88704508ed51ea1d": {
      "model_module": "@jupyter-widgets/base",
      "model_module_version": "1.2.0",
      "model_name": "LayoutModel",
      "state": {
       "_model_module": "@jupyter-widgets/base",
       "_model_module_version": "1.2.0",
       "_model_name": "LayoutModel",
       "_view_count": null,
       "_view_module": "@jupyter-widgets/base",
       "_view_module_version": "1.2.0",
       "_view_name": "LayoutView",
       "align_content": null,
       "align_items": null,
       "align_self": null,
       "border": null,
       "bottom": null,
       "display": null,
       "flex": null,
       "flex_flow": null,
       "grid_area": null,
       "grid_auto_columns": null,
       "grid_auto_flow": null,
       "grid_auto_rows": null,
       "grid_column": null,
       "grid_gap": null,
       "grid_row": null,
       "grid_template_areas": null,
       "grid_template_columns": null,
       "grid_template_rows": null,
       "height": null,
       "justify_content": null,
       "justify_items": null,
       "left": null,
       "margin": null,
       "max_height": null,
       "max_width": null,
       "min_height": null,
       "min_width": null,
       "object_fit": null,
       "object_position": null,
       "order": null,
       "overflow": null,
       "overflow_x": null,
       "overflow_y": null,
       "padding": null,
       "right": null,
       "top": null,
       "visibility": null,
       "width": null
      }
     },
     "64c244513d84451e8f154edfc023e40d": {
      "model_module": "@jupyter-widgets/base",
      "model_module_version": "1.2.0",
      "model_name": "LayoutModel",
      "state": {
       "_model_module": "@jupyter-widgets/base",
       "_model_module_version": "1.2.0",
       "_model_name": "LayoutModel",
       "_view_count": null,
       "_view_module": "@jupyter-widgets/base",
       "_view_module_version": "1.2.0",
       "_view_name": "LayoutView",
       "align_content": null,
       "align_items": null,
       "align_self": null,
       "border": null,
       "bottom": null,
       "display": null,
       "flex": null,
       "flex_flow": null,
       "grid_area": null,
       "grid_auto_columns": null,
       "grid_auto_flow": null,
       "grid_auto_rows": null,
       "grid_column": null,
       "grid_gap": null,
       "grid_row": null,
       "grid_template_areas": null,
       "grid_template_columns": null,
       "grid_template_rows": null,
       "height": null,
       "justify_content": null,
       "justify_items": null,
       "left": null,
       "margin": null,
       "max_height": null,
       "max_width": null,
       "min_height": null,
       "min_width": null,
       "object_fit": null,
       "object_position": null,
       "order": null,
       "overflow": null,
       "overflow_x": null,
       "overflow_y": null,
       "padding": null,
       "right": null,
       "top": null,
       "visibility": null,
       "width": null
      }
     },
     "679afe9a0813438e8e912f85d4acf970": {
      "model_module": "@jupyter-widgets/controls",
      "model_module_version": "1.5.0",
      "model_name": "FloatProgressModel",
      "state": {
       "_dom_classes": [],
       "_model_module": "@jupyter-widgets/controls",
       "_model_module_version": "1.5.0",
       "_model_name": "FloatProgressModel",
       "_view_count": null,
       "_view_module": "@jupyter-widgets/controls",
       "_view_module_version": "1.5.0",
       "_view_name": "ProgressView",
       "bar_style": "success",
       "description": "",
       "description_tooltip": null,
       "layout": "IPY_MODEL_1ad11db792774ca791eee4efc0c30967",
       "max": 616.0,
       "min": 0.0,
       "orientation": "horizontal",
       "style": "IPY_MODEL_5d308064875d4c9fa305dc3431858a0d",
       "value": 616.0
      }
     },
     "69fc279d1c2a4e31a1f11b2afc0abb72": {
      "model_module": "@jupyter-widgets/controls",
      "model_module_version": "1.5.0",
      "model_name": "FloatProgressModel",
      "state": {
       "_dom_classes": [],
       "_model_module": "@jupyter-widgets/controls",
       "_model_module_version": "1.5.0",
       "_model_name": "FloatProgressModel",
       "_view_count": null,
       "_view_module": "@jupyter-widgets/controls",
       "_view_module_version": "1.5.0",
       "_view_name": "ProgressView",
       "bar_style": "success",
       "description": "",
       "description_tooltip": null,
       "layout": "IPY_MODEL_9d191e34dae14082acae8d0b85dda4dd",
       "max": 9096718.0,
       "min": 0.0,
       "orientation": "horizontal",
       "style": "IPY_MODEL_c7c15ffc9c6f44db9094f644e84a647d",
       "value": 9096718.0
      }
     },
     "6af2987d86c740ca89f1d263aabe18c7": {
      "model_module": "@jupyter-widgets/controls",
      "model_module_version": "1.5.0",
      "model_name": "HTMLModel",
      "state": {
       "_dom_classes": [],
       "_model_module": "@jupyter-widgets/controls",
       "_model_module_version": "1.5.0",
       "_model_name": "HTMLModel",
       "_view_count": null,
       "_view_module": "@jupyter-widgets/controls",
       "_view_module_version": "1.5.0",
       "_view_name": "HTMLView",
       "description": "",
       "description_tooltip": null,
       "layout": "IPY_MODEL_73c4e581abec4ffb9ecf7a4828e8b911",
       "placeholder": "​",
       "style": "IPY_MODEL_cee415a738b3407c80e9c29b735b9904",
       "value": " 2.24G/2.24G [00:50&lt;00:00, 40.1MB/s]"
      }
     },
     "6b54507352ae4ada8c872b936aef2bf8": {
      "model_module": "@jupyter-widgets/controls",
      "model_module_version": "1.5.0",
      "model_name": "HTMLModel",
      "state": {
       "_dom_classes": [],
       "_model_module": "@jupyter-widgets/controls",
       "_model_module_version": "1.5.0",
       "_model_name": "HTMLModel",
       "_view_count": null,
       "_view_module": "@jupyter-widgets/controls",
       "_view_module_version": "1.5.0",
       "_view_name": "HTMLView",
       "description": "",
       "description_tooltip": null,
       "layout": "IPY_MODEL_cc85d60457b84ebe8eaab40d2a1bddd9",
       "placeholder": "​",
       "style": "IPY_MODEL_c2b52cd1f7f3412a84181cf9f5f77f77",
       "value": " 616/616 [00:00&lt;00:00, 13.4kB/s]"
      }
     },
     "6dec81b11db74c3a8d4720ec798df73d": {
      "model_module": "@jupyter-widgets/controls",
      "model_module_version": "1.5.0",
      "model_name": "FloatProgressModel",
      "state": {
       "_dom_classes": [],
       "_model_module": "@jupyter-widgets/controls",
       "_model_module_version": "1.5.0",
       "_model_name": "FloatProgressModel",
       "_view_count": null,
       "_view_module": "@jupyter-widgets/controls",
       "_view_module_version": "1.5.0",
       "_view_name": "ProgressView",
       "bar_style": "success",
       "description": "",
       "description_tooltip": null,
       "layout": "IPY_MODEL_f47d4f52354c4fde94f99d9246c84881",
       "max": 2240097289.0,
       "min": 0.0,
       "orientation": "horizontal",
       "style": "IPY_MODEL_899474a220f1487c98e6cdf980a5aa55",
       "value": 2240097289.0
      }
     },
     "714589feb82a4c44bf85e87c57fddedf": {
      "model_module": "@jupyter-widgets/controls",
      "model_module_version": "1.5.0",
      "model_name": "ProgressStyleModel",
      "state": {
       "_model_module": "@jupyter-widgets/controls",
       "_model_module_version": "1.5.0",
       "_model_name": "ProgressStyleModel",
       "_view_count": null,
       "_view_module": "@jupyter-widgets/base",
       "_view_module_version": "1.2.0",
       "_view_name": "StyleView",
       "bar_color": null,
       "description_width": ""
      }
     },
     "73c4e581abec4ffb9ecf7a4828e8b911": {
      "model_module": "@jupyter-widgets/base",
      "model_module_version": "1.2.0",
      "model_name": "LayoutModel",
      "state": {
       "_model_module": "@jupyter-widgets/base",
       "_model_module_version": "1.2.0",
       "_model_name": "LayoutModel",
       "_view_count": null,
       "_view_module": "@jupyter-widgets/base",
       "_view_module_version": "1.2.0",
       "_view_name": "LayoutView",
       "align_content": null,
       "align_items": null,
       "align_self": null,
       "border": null,
       "bottom": null,
       "display": null,
       "flex": null,
       "flex_flow": null,
       "grid_area": null,
       "grid_auto_columns": null,
       "grid_auto_flow": null,
       "grid_auto_rows": null,
       "grid_column": null,
       "grid_gap": null,
       "grid_row": null,
       "grid_template_areas": null,
       "grid_template_columns": null,
       "grid_template_rows": null,
       "height": null,
       "justify_content": null,
       "justify_items": null,
       "left": null,
       "margin": null,
       "max_height": null,
       "max_width": null,
       "min_height": null,
       "min_width": null,
       "object_fit": null,
       "object_position": null,
       "order": null,
       "overflow": null,
       "overflow_x": null,
       "overflow_y": null,
       "padding": null,
       "right": null,
       "top": null,
       "visibility": null,
       "width": null
      }
     },
     "748ab0068c6a446d8379e70973c426f8": {
      "model_module": "@jupyter-widgets/controls",
      "model_module_version": "1.5.0",
      "model_name": "DescriptionStyleModel",
      "state": {
       "_model_module": "@jupyter-widgets/controls",
       "_model_module_version": "1.5.0",
       "_model_name": "DescriptionStyleModel",
       "_view_count": null,
       "_view_module": "@jupyter-widgets/base",
       "_view_module_version": "1.2.0",
       "_view_name": "StyleView",
       "description_width": ""
      }
     },
     "7bc607e670b54ad08117d4f361e6839f": {
      "model_module": "@jupyter-widgets/controls",
      "model_module_version": "1.5.0",
      "model_name": "DescriptionStyleModel",
      "state": {
       "_model_module": "@jupyter-widgets/controls",
       "_model_module_version": "1.5.0",
       "_model_name": "DescriptionStyleModel",
       "_view_count": null,
       "_view_module": "@jupyter-widgets/base",
       "_view_module_version": "1.2.0",
       "_view_name": "StyleView",
       "description_width": ""
      }
     },
     "7e0352bb82bf4d94bd33a2302375540b": {
      "model_module": "@jupyter-widgets/controls",
      "model_module_version": "1.5.0",
      "model_name": "HTMLModel",
      "state": {
       "_dom_classes": [],
       "_model_module": "@jupyter-widgets/controls",
       "_model_module_version": "1.5.0",
       "_model_name": "HTMLModel",
       "_view_count": null,
       "_view_module": "@jupyter-widgets/controls",
       "_view_module_version": "1.5.0",
       "_view_name": "HTMLView",
       "description": "",
       "description_tooltip": null,
       "layout": "IPY_MODEL_09aec943158b485b8c8994ec515859fc",
       "placeholder": "​",
       "style": "IPY_MODEL_3b7b467dd49b4b1c893765e519c412aa",
       "value": "Downloading: 100%"
      }
     },
     "7ffe525e0f384c87b7bdd147b6097bfa": {
      "model_module": "@jupyter-widgets/base",
      "model_module_version": "1.2.0",
      "model_name": "LayoutModel",
      "state": {
       "_model_module": "@jupyter-widgets/base",
       "_model_module_version": "1.2.0",
       "_model_name": "LayoutModel",
       "_view_count": null,
       "_view_module": "@jupyter-widgets/base",
       "_view_module_version": "1.2.0",
       "_view_name": "LayoutView",
       "align_content": null,
       "align_items": null,
       "align_self": null,
       "border": null,
       "bottom": null,
       "display": null,
       "flex": null,
       "flex_flow": null,
       "grid_area": null,
       "grid_auto_columns": null,
       "grid_auto_flow": null,
       "grid_auto_rows": null,
       "grid_column": null,
       "grid_gap": null,
       "grid_row": null,
       "grid_template_areas": null,
       "grid_template_columns": null,
       "grid_template_rows": null,
       "height": null,
       "justify_content": null,
       "justify_items": null,
       "left": null,
       "margin": null,
       "max_height": null,
       "max_width": null,
       "min_height": null,
       "min_width": null,
       "object_fit": null,
       "object_position": null,
       "order": null,
       "overflow": null,
       "overflow_x": null,
       "overflow_y": null,
       "padding": null,
       "right": null,
       "top": null,
       "visibility": null,
       "width": null
      }
     },
     "899474a220f1487c98e6cdf980a5aa55": {
      "model_module": "@jupyter-widgets/controls",
      "model_module_version": "1.5.0",
      "model_name": "ProgressStyleModel",
      "state": {
       "_model_module": "@jupyter-widgets/controls",
       "_model_module_version": "1.5.0",
       "_model_name": "ProgressStyleModel",
       "_view_count": null,
       "_view_module": "@jupyter-widgets/base",
       "_view_module_version": "1.2.0",
       "_view_name": "StyleView",
       "bar_color": null,
       "description_width": ""
      }
     },
     "89a2a42206fc4bc7b54fc35dda4da3fe": {
      "model_module": "@jupyter-widgets/base",
      "model_module_version": "1.2.0",
      "model_name": "LayoutModel",
      "state": {
       "_model_module": "@jupyter-widgets/base",
       "_model_module_version": "1.2.0",
       "_model_name": "LayoutModel",
       "_view_count": null,
       "_view_module": "@jupyter-widgets/base",
       "_view_module_version": "1.2.0",
       "_view_name": "LayoutView",
       "align_content": null,
       "align_items": null,
       "align_self": null,
       "border": null,
       "bottom": null,
       "display": null,
       "flex": null,
       "flex_flow": null,
       "grid_area": null,
       "grid_auto_columns": null,
       "grid_auto_flow": null,
       "grid_auto_rows": null,
       "grid_column": null,
       "grid_gap": null,
       "grid_row": null,
       "grid_template_areas": null,
       "grid_template_columns": null,
       "grid_template_rows": null,
       "height": null,
       "justify_content": null,
       "justify_items": null,
       "left": null,
       "margin": null,
       "max_height": null,
       "max_width": null,
       "min_height": null,
       "min_width": null,
       "object_fit": null,
       "object_position": null,
       "order": null,
       "overflow": null,
       "overflow_x": null,
       "overflow_y": null,
       "padding": null,
       "right": null,
       "top": null,
       "visibility": null,
       "width": null
      }
     },
     "913d2622a403401eb7eb86fd6d7edda8": {
      "model_module": "@jupyter-widgets/base",
      "model_module_version": "1.2.0",
      "model_name": "LayoutModel",
      "state": {
       "_model_module": "@jupyter-widgets/base",
       "_model_module_version": "1.2.0",
       "_model_name": "LayoutModel",
       "_view_count": null,
       "_view_module": "@jupyter-widgets/base",
       "_view_module_version": "1.2.0",
       "_view_name": "LayoutView",
       "align_content": null,
       "align_items": null,
       "align_self": null,
       "border": null,
       "bottom": null,
       "display": null,
       "flex": null,
       "flex_flow": null,
       "grid_area": null,
       "grid_auto_columns": null,
       "grid_auto_flow": null,
       "grid_auto_rows": null,
       "grid_column": null,
       "grid_gap": null,
       "grid_row": null,
       "grid_template_areas": null,
       "grid_template_columns": null,
       "grid_template_rows": null,
       "height": null,
       "justify_content": null,
       "justify_items": null,
       "left": null,
       "margin": null,
       "max_height": null,
       "max_width": null,
       "min_height": null,
       "min_width": null,
       "object_fit": null,
       "object_position": null,
       "order": null,
       "overflow": null,
       "overflow_x": null,
       "overflow_y": null,
       "padding": null,
       "right": null,
       "top": null,
       "visibility": null,
       "width": null
      }
     },
     "9d191e34dae14082acae8d0b85dda4dd": {
      "model_module": "@jupyter-widgets/base",
      "model_module_version": "1.2.0",
      "model_name": "LayoutModel",
      "state": {
       "_model_module": "@jupyter-widgets/base",
       "_model_module_version": "1.2.0",
       "_model_name": "LayoutModel",
       "_view_count": null,
       "_view_module": "@jupyter-widgets/base",
       "_view_module_version": "1.2.0",
       "_view_name": "LayoutView",
       "align_content": null,
       "align_items": null,
       "align_self": null,
       "border": null,
       "bottom": null,
       "display": null,
       "flex": null,
       "flex_flow": null,
       "grid_area": null,
       "grid_auto_columns": null,
       "grid_auto_flow": null,
       "grid_auto_rows": null,
       "grid_column": null,
       "grid_gap": null,
       "grid_row": null,
       "grid_template_areas": null,
       "grid_template_columns": null,
       "grid_template_rows": null,
       "height": null,
       "justify_content": null,
       "justify_items": null,
       "left": null,
       "margin": null,
       "max_height": null,
       "max_width": null,
       "min_height": null,
       "min_width": null,
       "object_fit": null,
       "object_position": null,
       "order": null,
       "overflow": null,
       "overflow_x": null,
       "overflow_y": null,
       "padding": null,
       "right": null,
       "top": null,
       "visibility": null,
       "width": null
      }
     },
     "a8e849fda46d4178bd5a1d51206836a7": {
      "model_module": "@jupyter-widgets/controls",
      "model_module_version": "1.5.0",
      "model_name": "FloatProgressModel",
      "state": {
       "_dom_classes": [],
       "_model_module": "@jupyter-widgets/controls",
       "_model_module_version": "1.5.0",
       "_model_name": "FloatProgressModel",
       "_view_count": null,
       "_view_module": "@jupyter-widgets/controls",
       "_view_module_version": "1.5.0",
       "_view_name": "ProgressView",
       "bar_style": "success",
       "description": "",
       "description_tooltip": null,
       "layout": "IPY_MODEL_d838a92bd5db4e8594f9f968a2e56c90",
       "max": 432176557.0,
       "min": 0.0,
       "orientation": "horizontal",
       "style": "IPY_MODEL_514e7ae9c764429fab16706fbbf83a33",
       "value": 432176557.0
      }
     },
     "b6fef5cc4ddc4325904af7c912581aa7": {
      "model_module": "@jupyter-widgets/controls",
      "model_module_version": "1.5.0",
      "model_name": "DescriptionStyleModel",
      "state": {
       "_model_module": "@jupyter-widgets/controls",
       "_model_module_version": "1.5.0",
       "_model_name": "DescriptionStyleModel",
       "_view_count": null,
       "_view_module": "@jupyter-widgets/base",
       "_view_module_version": "1.2.0",
       "_view_name": "StyleView",
       "description_width": ""
      }
     },
     "ba009473ef844be994551606afb23a48": {
      "model_module": "@jupyter-widgets/controls",
      "model_module_version": "1.5.0",
      "model_name": "DescriptionStyleModel",
      "state": {
       "_model_module": "@jupyter-widgets/controls",
       "_model_module_version": "1.5.0",
       "_model_name": "DescriptionStyleModel",
       "_view_count": null,
       "_view_module": "@jupyter-widgets/base",
       "_view_module_version": "1.2.0",
       "_view_name": "StyleView",
       "description_width": ""
      }
     },
     "bf87213e54764000bfd52859666fd058": {
      "model_module": "@jupyter-widgets/base",
      "model_module_version": "1.2.0",
      "model_name": "LayoutModel",
      "state": {
       "_model_module": "@jupyter-widgets/base",
       "_model_module_version": "1.2.0",
       "_model_name": "LayoutModel",
       "_view_count": null,
       "_view_module": "@jupyter-widgets/base",
       "_view_module_version": "1.2.0",
       "_view_name": "LayoutView",
       "align_content": null,
       "align_items": null,
       "align_self": null,
       "border": null,
       "bottom": null,
       "display": null,
       "flex": null,
       "flex_flow": null,
       "grid_area": null,
       "grid_auto_columns": null,
       "grid_auto_flow": null,
       "grid_auto_rows": null,
       "grid_column": null,
       "grid_gap": null,
       "grid_row": null,
       "grid_template_areas": null,
       "grid_template_columns": null,
       "grid_template_rows": null,
       "height": null,
       "justify_content": null,
       "justify_items": null,
       "left": null,
       "margin": null,
       "max_height": null,
       "max_width": null,
       "min_height": null,
       "min_width": null,
       "object_fit": null,
       "object_position": null,
       "order": null,
       "overflow": null,
       "overflow_x": null,
       "overflow_y": null,
       "padding": null,
       "right": null,
       "top": null,
       "visibility": null,
       "width": null
      }
     },
     "c1f8be1e721046f6a8e86532a5743e3b": {
      "model_module": "@jupyter-widgets/controls",
      "model_module_version": "1.5.0",
      "model_name": "HTMLModel",
      "state": {
       "_dom_classes": [],
       "_model_module": "@jupyter-widgets/controls",
       "_model_module_version": "1.5.0",
       "_model_name": "HTMLModel",
       "_view_count": null,
       "_view_module": "@jupyter-widgets/controls",
       "_view_module_version": "1.5.0",
       "_view_name": "HTMLView",
       "description": "",
       "description_tooltip": null,
       "layout": "IPY_MODEL_350eeb2456984c588a24233b820c010c",
       "placeholder": "​",
       "style": "IPY_MODEL_ba009473ef844be994551606afb23a48",
       "value": "Downloading: 100%"
      }
     },
     "c215bac9937145a0af30768c0069556c": {
      "model_module": "@jupyter-widgets/controls",
      "model_module_version": "1.5.0",
      "model_name": "DescriptionStyleModel",
      "state": {
       "_model_module": "@jupyter-widgets/controls",
       "_model_module_version": "1.5.0",
       "_model_name": "DescriptionStyleModel",
       "_view_count": null,
       "_view_module": "@jupyter-widgets/base",
       "_view_module_version": "1.2.0",
       "_view_name": "StyleView",
       "description_width": ""
      }
     },
     "c2b52cd1f7f3412a84181cf9f5f77f77": {
      "model_module": "@jupyter-widgets/controls",
      "model_module_version": "1.5.0",
      "model_name": "DescriptionStyleModel",
      "state": {
       "_model_module": "@jupyter-widgets/controls",
       "_model_module_version": "1.5.0",
       "_model_name": "DescriptionStyleModel",
       "_view_count": null,
       "_view_module": "@jupyter-widgets/base",
       "_view_module_version": "1.2.0",
       "_view_name": "StyleView",
       "description_width": ""
      }
     },
     "c3037dcc373d45cd99359b325531b651": {
      "model_module": "@jupyter-widgets/base",
      "model_module_version": "1.2.0",
      "model_name": "LayoutModel",
      "state": {
       "_model_module": "@jupyter-widgets/base",
       "_model_module_version": "1.2.0",
       "_model_name": "LayoutModel",
       "_view_count": null,
       "_view_module": "@jupyter-widgets/base",
       "_view_module_version": "1.2.0",
       "_view_name": "LayoutView",
       "align_content": null,
       "align_items": null,
       "align_self": null,
       "border": null,
       "bottom": null,
       "display": null,
       "flex": null,
       "flex_flow": null,
       "grid_area": null,
       "grid_auto_columns": null,
       "grid_auto_flow": null,
       "grid_auto_rows": null,
       "grid_column": null,
       "grid_gap": null,
       "grid_row": null,
       "grid_template_areas": null,
       "grid_template_columns": null,
       "grid_template_rows": null,
       "height": null,
       "justify_content": null,
       "justify_items": null,
       "left": null,
       "margin": null,
       "max_height": null,
       "max_width": null,
       "min_height": null,
       "min_width": null,
       "object_fit": null,
       "object_position": null,
       "order": null,
       "overflow": null,
       "overflow_x": null,
       "overflow_y": null,
       "padding": null,
       "right": null,
       "top": null,
       "visibility": null,
       "width": null
      }
     },
     "c30b53b081464f68b6b89432e15f1a26": {
      "model_module": "@jupyter-widgets/controls",
      "model_module_version": "1.5.0",
      "model_name": "HTMLModel",
      "state": {
       "_dom_classes": [],
       "_model_module": "@jupyter-widgets/controls",
       "_model_module_version": "1.5.0",
       "_model_name": "HTMLModel",
       "_view_count": null,
       "_view_module": "@jupyter-widgets/controls",
       "_view_module_version": "1.5.0",
       "_view_name": "HTMLView",
       "description": "",
       "description_tooltip": null,
       "layout": "IPY_MODEL_47906efe26b343a9913e12bc2a93abf0",
       "placeholder": "​",
       "style": "IPY_MODEL_f68a1637011a43ca9e65d0e65039b48c",
       "value": "Downloading: 100%"
      }
     },
     "c7c15ffc9c6f44db9094f644e84a647d": {
      "model_module": "@jupyter-widgets/controls",
      "model_module_version": "1.5.0",
      "model_name": "ProgressStyleModel",
      "state": {
       "_model_module": "@jupyter-widgets/controls",
       "_model_module_version": "1.5.0",
       "_model_name": "ProgressStyleModel",
       "_view_count": null,
       "_view_module": "@jupyter-widgets/base",
       "_view_module_version": "1.2.0",
       "_view_name": "StyleView",
       "bar_color": null,
       "description_width": ""
      }
     },
     "c91bcfad56f04a05b1cda66750e6f011": {
      "model_module": "@jupyter-widgets/controls",
      "model_module_version": "1.5.0",
      "model_name": "HBoxModel",
      "state": {
       "_dom_classes": [],
       "_model_module": "@jupyter-widgets/controls",
       "_model_module_version": "1.5.0",
       "_model_name": "HBoxModel",
       "_view_count": null,
       "_view_module": "@jupyter-widgets/controls",
       "_view_module_version": "1.5.0",
       "_view_name": "HBoxView",
       "box_style": "",
       "children": [
        "IPY_MODEL_3ca77b2515b144d6b626851a2f6e93a7",
        "IPY_MODEL_f7d68cd7e3774c9c98f956055a4acede",
        "IPY_MODEL_ef3bf0d644394d029511f0389199dac0"
       ],
       "layout": "IPY_MODEL_2245a91a83c34d8699b75286557d01ee"
      }
     },
     "cc85d60457b84ebe8eaab40d2a1bddd9": {
      "model_module": "@jupyter-widgets/base",
      "model_module_version": "1.2.0",
      "model_name": "LayoutModel",
      "state": {
       "_model_module": "@jupyter-widgets/base",
       "_model_module_version": "1.2.0",
       "_model_name": "LayoutModel",
       "_view_count": null,
       "_view_module": "@jupyter-widgets/base",
       "_view_module_version": "1.2.0",
       "_view_name": "LayoutView",
       "align_content": null,
       "align_items": null,
       "align_self": null,
       "border": null,
       "bottom": null,
       "display": null,
       "flex": null,
       "flex_flow": null,
       "grid_area": null,
       "grid_auto_columns": null,
       "grid_auto_flow": null,
       "grid_auto_rows": null,
       "grid_column": null,
       "grid_gap": null,
       "grid_row": null,
       "grid_template_areas": null,
       "grid_template_columns": null,
       "grid_template_rows": null,
       "height": null,
       "justify_content": null,
       "justify_items": null,
       "left": null,
       "margin": null,
       "max_height": null,
       "max_width": null,
       "min_height": null,
       "min_width": null,
       "object_fit": null,
       "object_position": null,
       "order": null,
       "overflow": null,
       "overflow_x": null,
       "overflow_y": null,
       "padding": null,
       "right": null,
       "top": null,
       "visibility": null,
       "width": null
      }
     },
     "cee415a738b3407c80e9c29b735b9904": {
      "model_module": "@jupyter-widgets/controls",
      "model_module_version": "1.5.0",
      "model_name": "DescriptionStyleModel",
      "state": {
       "_model_module": "@jupyter-widgets/controls",
       "_model_module_version": "1.5.0",
       "_model_name": "DescriptionStyleModel",
       "_view_count": null,
       "_view_module": "@jupyter-widgets/base",
       "_view_module_version": "1.2.0",
       "_view_name": "StyleView",
       "description_width": ""
      }
     },
     "d0b4d03ba6314512a3d1c94334a6f21a": {
      "model_module": "@jupyter-widgets/controls",
      "model_module_version": "1.5.0",
      "model_name": "FloatProgressModel",
      "state": {
       "_dom_classes": [],
       "_model_module": "@jupyter-widgets/controls",
       "_model_module_version": "1.5.0",
       "_model_name": "FloatProgressModel",
       "_view_count": null,
       "_view_module": "@jupyter-widgets/controls",
       "_view_module_version": "1.5.0",
       "_view_name": "ProgressView",
       "bar_style": "success",
       "description": "",
       "description_tooltip": null,
       "layout": "IPY_MODEL_64c244513d84451e8f154edfc023e40d",
       "max": 2239866761.0,
       "min": 0.0,
       "orientation": "horizontal",
       "style": "IPY_MODEL_240a6022a04841058b95e5a14b44fadf",
       "value": 2239866761.0
      }
     },
     "d18ed7ec46ce4f3b8427c0465b1c202d": {
      "model_module": "@jupyter-widgets/base",
      "model_module_version": "1.2.0",
      "model_name": "LayoutModel",
      "state": {
       "_model_module": "@jupyter-widgets/base",
       "_model_module_version": "1.2.0",
       "_model_name": "LayoutModel",
       "_view_count": null,
       "_view_module": "@jupyter-widgets/base",
       "_view_module_version": "1.2.0",
       "_view_name": "LayoutView",
       "align_content": null,
       "align_items": null,
       "align_self": null,
       "border": null,
       "bottom": null,
       "display": null,
       "flex": null,
       "flex_flow": null,
       "grid_area": null,
       "grid_auto_columns": null,
       "grid_auto_flow": null,
       "grid_auto_rows": null,
       "grid_column": null,
       "grid_gap": null,
       "grid_row": null,
       "grid_template_areas": null,
       "grid_template_columns": null,
       "grid_template_rows": null,
       "height": null,
       "justify_content": null,
       "justify_items": null,
       "left": null,
       "margin": null,
       "max_height": null,
       "max_width": null,
       "min_height": null,
       "min_width": null,
       "object_fit": null,
       "object_position": null,
       "order": null,
       "overflow": null,
       "overflow_x": null,
       "overflow_y": null,
       "padding": null,
       "right": null,
       "top": null,
       "visibility": null,
       "width": null
      }
     },
     "d40f9871825445b5ac1ea7116cf9857b": {
      "model_module": "@jupyter-widgets/controls",
      "model_module_version": "1.5.0",
      "model_name": "HTMLModel",
      "state": {
       "_dom_classes": [],
       "_model_module": "@jupyter-widgets/controls",
       "_model_module_version": "1.5.0",
       "_model_name": "HTMLModel",
       "_view_count": null,
       "_view_module": "@jupyter-widgets/controls",
       "_view_module_version": "1.5.0",
       "_view_name": "HTMLView",
       "description": "",
       "description_tooltip": null,
       "layout": "IPY_MODEL_e38be6a2c6ee4539ae04c6de21260daf",
       "placeholder": "​",
       "style": "IPY_MODEL_b6fef5cc4ddc4325904af7c912581aa7",
       "value": "Downloading: 100%"
      }
     },
     "d604752beebc4c6bbcf8d866f9a67453": {
      "model_module": "@jupyter-widgets/base",
      "model_module_version": "1.2.0",
      "model_name": "LayoutModel",
      "state": {
       "_model_module": "@jupyter-widgets/base",
       "_model_module_version": "1.2.0",
       "_model_name": "LayoutModel",
       "_view_count": null,
       "_view_module": "@jupyter-widgets/base",
       "_view_module_version": "1.2.0",
       "_view_name": "LayoutView",
       "align_content": null,
       "align_items": null,
       "align_self": null,
       "border": null,
       "bottom": null,
       "display": null,
       "flex": null,
       "flex_flow": null,
       "grid_area": null,
       "grid_auto_columns": null,
       "grid_auto_flow": null,
       "grid_auto_rows": null,
       "grid_column": null,
       "grid_gap": null,
       "grid_row": null,
       "grid_template_areas": null,
       "grid_template_columns": null,
       "grid_template_rows": null,
       "height": null,
       "justify_content": null,
       "justify_items": null,
       "left": null,
       "margin": null,
       "max_height": null,
       "max_width": null,
       "min_height": null,
       "min_width": null,
       "object_fit": null,
       "object_position": null,
       "order": null,
       "overflow": null,
       "overflow_x": null,
       "overflow_y": null,
       "padding": null,
       "right": null,
       "top": null,
       "visibility": null,
       "width": null
      }
     },
     "d838a92bd5db4e8594f9f968a2e56c90": {
      "model_module": "@jupyter-widgets/base",
      "model_module_version": "1.2.0",
      "model_name": "LayoutModel",
      "state": {
       "_model_module": "@jupyter-widgets/base",
       "_model_module_version": "1.2.0",
       "_model_name": "LayoutModel",
       "_view_count": null,
       "_view_module": "@jupyter-widgets/base",
       "_view_module_version": "1.2.0",
       "_view_name": "LayoutView",
       "align_content": null,
       "align_items": null,
       "align_self": null,
       "border": null,
       "bottom": null,
       "display": null,
       "flex": null,
       "flex_flow": null,
       "grid_area": null,
       "grid_auto_columns": null,
       "grid_auto_flow": null,
       "grid_auto_rows": null,
       "grid_column": null,
       "grid_gap": null,
       "grid_row": null,
       "grid_template_areas": null,
       "grid_template_columns": null,
       "grid_template_rows": null,
       "height": null,
       "justify_content": null,
       "justify_items": null,
       "left": null,
       "margin": null,
       "max_height": null,
       "max_width": null,
       "min_height": null,
       "min_width": null,
       "object_fit": null,
       "object_position": null,
       "order": null,
       "overflow": null,
       "overflow_x": null,
       "overflow_y": null,
       "padding": null,
       "right": null,
       "top": null,
       "visibility": null,
       "width": null
      }
     },
     "d9347f7374724572a101bc02ebccf812": {
      "model_module": "@jupyter-widgets/controls",
      "model_module_version": "1.5.0",
      "model_name": "HTMLModel",
      "state": {
       "_dom_classes": [],
       "_model_module": "@jupyter-widgets/controls",
       "_model_module_version": "1.5.0",
       "_model_name": "HTMLModel",
       "_view_count": null,
       "_view_module": "@jupyter-widgets/controls",
       "_view_module_version": "1.5.0",
       "_view_name": "HTMLView",
       "description": "",
       "description_tooltip": null,
       "layout": "IPY_MODEL_de73c7bac1b44061b278bedf92285f9a",
       "placeholder": "​",
       "style": "IPY_MODEL_59f6b4ec0bd0492190d400dee46539a8",
       "value": "Downloading: 100%"
      }
     },
     "de73c7bac1b44061b278bedf92285f9a": {
      "model_module": "@jupyter-widgets/base",
      "model_module_version": "1.2.0",
      "model_name": "LayoutModel",
      "state": {
       "_model_module": "@jupyter-widgets/base",
       "_model_module_version": "1.2.0",
       "_model_name": "LayoutModel",
       "_view_count": null,
       "_view_module": "@jupyter-widgets/base",
       "_view_module_version": "1.2.0",
       "_view_name": "LayoutView",
       "align_content": null,
       "align_items": null,
       "align_self": null,
       "border": null,
       "bottom": null,
       "display": null,
       "flex": null,
       "flex_flow": null,
       "grid_area": null,
       "grid_auto_columns": null,
       "grid_auto_flow": null,
       "grid_auto_rows": null,
       "grid_column": null,
       "grid_gap": null,
       "grid_row": null,
       "grid_template_areas": null,
       "grid_template_columns": null,
       "grid_template_rows": null,
       "height": null,
       "justify_content": null,
       "justify_items": null,
       "left": null,
       "margin": null,
       "max_height": null,
       "max_width": null,
       "min_height": null,
       "min_width": null,
       "object_fit": null,
       "object_position": null,
       "order": null,
       "overflow": null,
       "overflow_x": null,
       "overflow_y": null,
       "padding": null,
       "right": null,
       "top": null,
       "visibility": null,
       "width": null
      }
     },
     "e38be6a2c6ee4539ae04c6de21260daf": {
      "model_module": "@jupyter-widgets/base",
      "model_module_version": "1.2.0",
      "model_name": "LayoutModel",
      "state": {
       "_model_module": "@jupyter-widgets/base",
       "_model_module_version": "1.2.0",
       "_model_name": "LayoutModel",
       "_view_count": null,
       "_view_module": "@jupyter-widgets/base",
       "_view_module_version": "1.2.0",
       "_view_name": "LayoutView",
       "align_content": null,
       "align_items": null,
       "align_self": null,
       "border": null,
       "bottom": null,
       "display": null,
       "flex": null,
       "flex_flow": null,
       "grid_area": null,
       "grid_auto_columns": null,
       "grid_auto_flow": null,
       "grid_auto_rows": null,
       "grid_column": null,
       "grid_gap": null,
       "grid_row": null,
       "grid_template_areas": null,
       "grid_template_columns": null,
       "grid_template_rows": null,
       "height": null,
       "justify_content": null,
       "justify_items": null,
       "left": null,
       "margin": null,
       "max_height": null,
       "max_width": null,
       "min_height": null,
       "min_width": null,
       "object_fit": null,
       "object_position": null,
       "order": null,
       "overflow": null,
       "overflow_x": null,
       "overflow_y": null,
       "padding": null,
       "right": null,
       "top": null,
       "visibility": null,
       "width": null
      }
     },
     "e7ef9002a0da41caa30f1a631e739bf8": {
      "model_module": "@jupyter-widgets/controls",
      "model_module_version": "1.5.0",
      "model_name": "DescriptionStyleModel",
      "state": {
       "_model_module": "@jupyter-widgets/controls",
       "_model_module_version": "1.5.0",
       "_model_name": "DescriptionStyleModel",
       "_view_count": null,
       "_view_module": "@jupyter-widgets/base",
       "_view_module_version": "1.2.0",
       "_view_name": "StyleView",
       "description_width": ""
      }
     },
     "ef3bf0d644394d029511f0389199dac0": {
      "model_module": "@jupyter-widgets/controls",
      "model_module_version": "1.5.0",
      "model_name": "HTMLModel",
      "state": {
       "_dom_classes": [],
       "_model_module": "@jupyter-widgets/controls",
       "_model_module_version": "1.5.0",
       "_model_name": "HTMLModel",
       "_view_count": null,
       "_view_module": "@jupyter-widgets/controls",
       "_view_module_version": "1.5.0",
       "_view_name": "HTMLView",
       "description": "",
       "description_tooltip": null,
       "layout": "IPY_MODEL_bf87213e54764000bfd52859666fd058",
       "placeholder": "​",
       "style": "IPY_MODEL_748ab0068c6a446d8379e70973c426f8",
       "value": " 4.83M/4.83M [00:00&lt;00:00, 8.75MB/s]"
      }
     },
     "f47d4f52354c4fde94f99d9246c84881": {
      "model_module": "@jupyter-widgets/base",
      "model_module_version": "1.2.0",
      "model_name": "LayoutModel",
      "state": {
       "_model_module": "@jupyter-widgets/base",
       "_model_module_version": "1.2.0",
       "_model_name": "LayoutModel",
       "_view_count": null,
       "_view_module": "@jupyter-widgets/base",
       "_view_module_version": "1.2.0",
       "_view_name": "LayoutView",
       "align_content": null,
       "align_items": null,
       "align_self": null,
       "border": null,
       "bottom": null,
       "display": null,
       "flex": null,
       "flex_flow": null,
       "grid_area": null,
       "grid_auto_columns": null,
       "grid_auto_flow": null,
       "grid_auto_rows": null,
       "grid_column": null,
       "grid_gap": null,
       "grid_row": null,
       "grid_template_areas": null,
       "grid_template_columns": null,
       "grid_template_rows": null,
       "height": null,
       "justify_content": null,
       "justify_items": null,
       "left": null,
       "margin": null,
       "max_height": null,
       "max_width": null,
       "min_height": null,
       "min_width": null,
       "object_fit": null,
       "object_position": null,
       "order": null,
       "overflow": null,
       "overflow_x": null,
       "overflow_y": null,
       "padding": null,
       "right": null,
       "top": null,
       "visibility": null,
       "width": null
      }
     },
     "f68a1637011a43ca9e65d0e65039b48c": {
      "model_module": "@jupyter-widgets/controls",
      "model_module_version": "1.5.0",
      "model_name": "DescriptionStyleModel",
      "state": {
       "_model_module": "@jupyter-widgets/controls",
       "_model_module_version": "1.5.0",
       "_model_name": "DescriptionStyleModel",
       "_view_count": null,
       "_view_module": "@jupyter-widgets/base",
       "_view_module_version": "1.2.0",
       "_view_name": "StyleView",
       "description_width": ""
      }
     },
     "f7d68cd7e3774c9c98f956055a4acede": {
      "model_module": "@jupyter-widgets/controls",
      "model_module_version": "1.5.0",
      "model_name": "FloatProgressModel",
      "state": {
       "_dom_classes": [],
       "_model_module": "@jupyter-widgets/controls",
       "_model_module_version": "1.5.0",
       "_model_name": "FloatProgressModel",
       "_view_count": null,
       "_view_module": "@jupyter-widgets/controls",
       "_view_module_version": "1.5.0",
       "_view_name": "ProgressView",
       "bar_style": "success",
       "description": "",
       "description_tooltip": null,
       "layout": "IPY_MODEL_7ffe525e0f384c87b7bdd147b6097bfa",
       "max": 5069051.0,
       "min": 0.0,
       "orientation": "horizontal",
       "style": "IPY_MODEL_714589feb82a4c44bf85e87c57fddedf",
       "value": 5069051.0
      }
     },
     "fd5392d684d945249b540cccbf54b4b7": {
      "model_module": "@jupyter-widgets/controls",
      "model_module_version": "1.5.0",
      "model_name": "HBoxModel",
      "state": {
       "_dom_classes": [],
       "_model_module": "@jupyter-widgets/controls",
       "_model_module_version": "1.5.0",
       "_model_name": "HBoxModel",
       "_view_count": null,
       "_view_module": "@jupyter-widgets/controls",
       "_view_module_version": "1.5.0",
       "_view_name": "HBoxView",
       "box_style": "",
       "children": [
        "IPY_MODEL_7e0352bb82bf4d94bd33a2302375540b",
        "IPY_MODEL_679afe9a0813438e8e912f85d4acf970",
        "IPY_MODEL_6b54507352ae4ada8c872b936aef2bf8"
       ],
       "layout": "IPY_MODEL_4a1bb0fba4d84c3fb99ea4a5f335fd42"
      }
     }
    },
    "version_major": 2,
    "version_minor": 0
   }
  }
 },
 "nbformat": 4,
 "nbformat_minor": 5
}
