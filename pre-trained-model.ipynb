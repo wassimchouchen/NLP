{
 "cells": [
  {
   "cell_type": "markdown",
   "id": "36b70b29",
   "metadata": {
    "_cell_guid": "b1076dfc-b9ad-4769-8c92-a6c4dae69d19",
    "_uuid": "8f2839f25d086af736a60e9eeb907d3b93b6e0e5",
    "execution": {
     "iopub.execute_input": "2022-06-24T10:54:16.335164Z",
     "iopub.status.busy": "2022-06-24T10:54:16.334482Z",
     "iopub.status.idle": "2022-06-24T10:54:16.342979Z",
     "shell.execute_reply": "2022-06-24T10:54:16.341504Z",
     "shell.execute_reply.started": "2022-06-24T10:54:16.33513Z"
    },
    "papermill": {
     "duration": 0.010957,
     "end_time": "2022-07-03T21:04:14.705883",
     "exception": false,
     "start_time": "2022-07-03T21:04:14.694926",
     "status": "completed"
    },
    "tags": []
   },
   "source": [
    "# import necessary libraries"
   ]
  },
  {
   "cell_type": "code",
   "execution_count": 1,
   "id": "d6c4d05d",
   "metadata": {
    "execution": {
     "iopub.execute_input": "2022-07-03T21:04:14.725111Z",
     "iopub.status.busy": "2022-07-03T21:04:14.724663Z",
     "iopub.status.idle": "2022-07-03T21:04:20.353435Z",
     "shell.execute_reply": "2022-07-03T21:04:20.352507Z"
    },
    "papermill": {
     "duration": 5.6413,
     "end_time": "2022-07-03T21:04:20.355908",
     "exception": false,
     "start_time": "2022-07-03T21:04:14.714608",
     "status": "completed"
    },
    "tags": []
   },
   "outputs": [],
   "source": [
    "import numpy as np\n",
    "import pandas as pd\n",
    "import matplotlib.pyplot as plt\n",
    "import os\n",
    "import shutil\n",
    "import tensorflow as tf\n",
    "import pathlib\n",
    "import PIL\n",
    "import time\n",
    "import zipfile\n",
    "import random\n",
    "from tensorflow import keras as ks\n",
    "from tensorflow.keras.layers import *\n",
    "from keras.utils.np_utils import to_categorical # convert to one-hot-encoding\n",
    "from keras.models import Sequential\n",
    "from keras.preprocessing.image import ImageDataGenerator\n",
    "from keras.callbacks import ReduceLROnPlateau\n",
    "from sklearn.model_selection import train_test_split\n",
    "import warnings\n",
    "warnings.filterwarnings('ignore')"
   ]
  },
  {
   "cell_type": "markdown",
   "id": "e19ce4f9",
   "metadata": {
    "papermill": {
     "duration": 0.008765,
     "end_time": "2022-07-03T21:04:20.376645",
     "exception": false,
     "start_time": "2022-07-03T21:04:20.367880",
     "status": "completed"
    },
    "tags": []
   },
   "source": [
    "**Read data**"
   ]
  },
  {
   "cell_type": "code",
   "execution_count": 2,
   "id": "efbce935",
   "metadata": {
    "execution": {
     "iopub.execute_input": "2022-07-03T21:04:20.395217Z",
     "iopub.status.busy": "2022-07-03T21:04:20.394002Z",
     "iopub.status.idle": "2022-07-03T21:04:27.971772Z",
     "shell.execute_reply": "2022-07-03T21:04:27.970713Z"
    },
    "papermill": {
     "duration": 7.5891,
     "end_time": "2022-07-03T21:04:27.974152",
     "exception": false,
     "start_time": "2022-07-03T21:04:20.385052",
     "status": "completed"
    },
    "tags": []
   },
   "outputs": [],
   "source": [
    "train=pd.read_csv(\"../input/sign-recognition/Train.csv\")\n",
    "test=pd.read_csv(\"../input/sign-recognition/Test.csv\")"
   ]
  },
  {
   "cell_type": "markdown",
   "id": "ec4a177e",
   "metadata": {
    "papermill": {
     "duration": 0.008337,
     "end_time": "2022-07-03T21:04:27.990974",
     "exception": false,
     "start_time": "2022-07-03T21:04:27.982637",
     "status": "completed"
    },
    "tags": []
   },
   "source": [
    "# General insights "
   ]
  },
  {
   "cell_type": "code",
   "execution_count": 3,
   "id": "0bf4d945",
   "metadata": {
    "execution": {
     "iopub.execute_input": "2022-07-03T21:04:28.009244Z",
     "iopub.status.busy": "2022-07-03T21:04:28.008604Z",
     "iopub.status.idle": "2022-07-03T21:04:28.016927Z",
     "shell.execute_reply": "2022-07-03T21:04:28.015704Z"
    },
    "papermill": {
     "duration": 0.021275,
     "end_time": "2022-07-03T21:04:28.020805",
     "exception": false,
     "start_time": "2022-07-03T21:04:27.999530",
     "status": "completed"
    },
    "tags": []
   },
   "outputs": [
    {
     "data": {
      "text/plain": [
       "((5000, 4098), (5000, 4097))"
      ]
     },
     "execution_count": 3,
     "metadata": {},
     "output_type": "execute_result"
    }
   ],
   "source": [
    "train.shape, test.shape"
   ]
  },
  {
   "cell_type": "code",
   "execution_count": 4,
   "id": "9e700f23",
   "metadata": {
    "execution": {
     "iopub.execute_input": "2022-07-03T21:04:28.038713Z",
     "iopub.status.busy": "2022-07-03T21:04:28.038435Z",
     "iopub.status.idle": "2022-07-03T21:04:28.082869Z",
     "shell.execute_reply": "2022-07-03T21:04:28.081681Z"
    },
    "papermill": {
     "duration": 0.055808,
     "end_time": "2022-07-03T21:04:28.085049",
     "exception": false,
     "start_time": "2022-07-03T21:04:28.029241",
     "status": "completed"
    },
    "tags": []
   },
   "outputs": [
    {
     "data": {
      "text/plain": [
       "ID        0\n",
       "c00000    0\n",
       "c00001    0\n",
       "c00002    0\n",
       "c00003    0\n",
       "         ..\n",
       "c04092    0\n",
       "c04093    0\n",
       "c04094    0\n",
       "c04095    0\n",
       "Target    0\n",
       "Length: 4098, dtype: int64"
      ]
     },
     "execution_count": 4,
     "metadata": {},
     "output_type": "execute_result"
    }
   ],
   "source": [
    "train.isna().sum()"
   ]
  },
  {
   "cell_type": "markdown",
   "id": "3c0b1e22",
   "metadata": {
    "papermill": {
     "duration": 0.008354,
     "end_time": "2022-07-03T21:04:28.102250",
     "exception": false,
     "start_time": "2022-07-03T21:04:28.093896",
     "status": "completed"
    },
    "tags": []
   },
   "source": [
    "# Drop ID column and define train_y , train_x , test_x"
   ]
  },
  {
   "cell_type": "code",
   "execution_count": 5,
   "id": "ea52b6f6",
   "metadata": {
    "execution": {
     "iopub.execute_input": "2022-07-03T21:04:28.119911Z",
     "iopub.status.busy": "2022-07-03T21:04:28.119627Z",
     "iopub.status.idle": "2022-07-03T21:04:28.296601Z",
     "shell.execute_reply": "2022-07-03T21:04:28.295706Z"
    },
    "papermill": {
     "duration": 0.188395,
     "end_time": "2022-07-03T21:04:28.298885",
     "exception": false,
     "start_time": "2022-07-03T21:04:28.110490",
     "status": "completed"
    },
    "tags": []
   },
   "outputs": [
    {
     "data": {
      "text/plain": [
       "((5000, 4096), (5000,), (5000, 4096))"
      ]
     },
     "execution_count": 5,
     "metadata": {},
     "output_type": "execute_result"
    }
   ],
   "source": [
    "train_y=train['Target'].astype('float32')\n",
    "train_x=train.drop(['Target','ID'],axis=1).astype('int32')\n",
    "test_x=test.drop(['ID'],axis=1).astype('int32')\n",
    "train_x.shape,train_y.shape,test_x.shape"
   ]
  },
  {
   "cell_type": "markdown",
   "id": "a5cc18c8",
   "metadata": {
    "papermill": {
     "duration": 0.008661,
     "end_time": "2022-07-03T21:04:28.317210",
     "exception": false,
     "start_time": "2022-07-03T21:04:28.308549",
     "status": "completed"
    },
    "tags": []
   },
   "source": [
    "# One Hot Encoding for train_y"
   ]
  },
  {
   "cell_type": "code",
   "execution_count": 6,
   "id": "7f45ed03",
   "metadata": {
    "execution": {
     "iopub.execute_input": "2022-07-03T21:04:28.336800Z",
     "iopub.status.busy": "2022-07-03T21:04:28.335248Z",
     "iopub.status.idle": "2022-07-03T21:04:28.343468Z",
     "shell.execute_reply": "2022-07-03T21:04:28.342635Z"
    },
    "papermill": {
     "duration": 0.020017,
     "end_time": "2022-07-03T21:04:28.345566",
     "exception": false,
     "start_time": "2022-07-03T21:04:28.325549",
     "status": "completed"
    },
    "tags": []
   },
   "outputs": [
    {
     "data": {
      "text/plain": [
       "(5000, 10)"
      ]
     },
     "execution_count": 6,
     "metadata": {},
     "output_type": "execute_result"
    }
   ],
   "source": [
    "train_y=tf.keras.utils.to_categorical(train_y,10)\n",
    "train_y.shape"
   ]
  },
  {
   "cell_type": "code",
   "execution_count": 7,
   "id": "52f5ad11",
   "metadata": {
    "execution": {
     "iopub.execute_input": "2022-07-03T21:04:28.363518Z",
     "iopub.status.busy": "2022-07-03T21:04:28.363251Z",
     "iopub.status.idle": "2022-07-03T21:04:28.369874Z",
     "shell.execute_reply": "2022-07-03T21:04:28.368999Z"
    },
    "papermill": {
     "duration": 0.017806,
     "end_time": "2022-07-03T21:04:28.371803",
     "exception": false,
     "start_time": "2022-07-03T21:04:28.353997",
     "status": "completed"
    },
    "tags": []
   },
   "outputs": [
    {
     "data": {
      "text/plain": [
       "array([[0., 0., 0., ..., 0., 1., 0.],\n",
       "       [0., 0., 0., ..., 0., 0., 0.],\n",
       "       [0., 0., 1., ..., 0., 0., 0.],\n",
       "       ...,\n",
       "       [0., 0., 0., ..., 1., 0., 0.],\n",
       "       [0., 0., 1., ..., 0., 0., 0.],\n",
       "       [1., 0., 0., ..., 0., 0., 0.]], dtype=float32)"
      ]
     },
     "execution_count": 7,
     "metadata": {},
     "output_type": "execute_result"
    }
   ],
   "source": [
    "train_y"
   ]
  },
  {
   "cell_type": "markdown",
   "id": "09c8cc49",
   "metadata": {
    "papermill": {
     "duration": 0.017522,
     "end_time": "2022-07-03T21:04:28.401228",
     "exception": false,
     "start_time": "2022-07-03T21:04:28.383706",
     "status": "completed"
    },
    "tags": []
   },
   "source": [
    "# Reshape the size of  images and normalize them  "
   ]
  },
  {
   "cell_type": "code",
   "execution_count": 8,
   "id": "50eb2c48",
   "metadata": {
    "execution": {
     "iopub.execute_input": "2022-07-03T21:04:28.436166Z",
     "iopub.status.busy": "2022-07-03T21:04:28.435598Z",
     "iopub.status.idle": "2022-07-03T21:04:28.595250Z",
     "shell.execute_reply": "2022-07-03T21:04:28.594005Z"
    },
    "papermill": {
     "duration": 0.183508,
     "end_time": "2022-07-03T21:04:28.598403",
     "exception": false,
     "start_time": "2022-07-03T21:04:28.414895",
     "status": "completed"
    },
    "tags": []
   },
   "outputs": [
    {
     "data": {
      "text/plain": [
       "((5000, 64, 64, 1), (5000, 64, 64, 1))"
      ]
     },
     "execution_count": 8,
     "metadata": {},
     "output_type": "execute_result"
    }
   ],
   "source": [
    "train_x=train_x.values.reshape(-1,64,64,1)\n",
    "train_x=train_x/255.0\n",
    "test_x=test_x.values.reshape(-1,64,64,1)\n",
    "test_x/255.0\n",
    "test_x.shape,train_x.shape"
   ]
  },
  {
   "cell_type": "markdown",
   "id": "7bb88573",
   "metadata": {
    "papermill": {
     "duration": 0.016818,
     "end_time": "2022-07-03T21:04:28.633833",
     "exception": false,
     "start_time": "2022-07-03T21:04:28.617015",
     "status": "completed"
    },
    "tags": []
   },
   "source": [
    "# plotting some exemple"
   ]
  },
  {
   "cell_type": "code",
   "execution_count": 9,
   "id": "19deb222",
   "metadata": {
    "execution": {
     "iopub.execute_input": "2022-07-03T21:04:28.668482Z",
     "iopub.status.busy": "2022-07-03T21:04:28.668015Z",
     "iopub.status.idle": "2022-07-03T21:04:28.913614Z",
     "shell.execute_reply": "2022-07-03T21:04:28.912607Z"
    },
    "papermill": {
     "duration": 0.265997,
     "end_time": "2022-07-03T21:04:28.916504",
     "exception": false,
     "start_time": "2022-07-03T21:04:28.650507",
     "status": "completed"
    },
    "tags": []
   },
   "outputs": [
    {
     "data": {
      "image/png": "[encoded data removed]",
      "text/plain": [
       "<Figure size 432x288 with 1 Axes>"
      ]
     },
     "metadata": {
      "needs_background": "light"
     },
     "output_type": "display_data"
    }
   ],
   "source": [
    "g =plt.imshow(train_x[150][:,:,0]) "
   ]
  },
  {
   "cell_type": "code",
   "execution_count": 10,
   "id": "1b121300",
   "metadata": {
    "execution": {
     "iopub.execute_input": "2022-07-03T21:04:28.949040Z",
     "iopub.status.busy": "2022-07-03T21:04:28.948576Z",
     "iopub.status.idle": "2022-07-03T21:04:29.140531Z",
     "shell.execute_reply": "2022-07-03T21:04:29.139656Z"
    },
    "papermill": {
     "duration": 0.210252,
     "end_time": "2022-07-03T21:04:29.142615",
     "exception": false,
     "start_time": "2022-07-03T21:04:28.932363",
     "status": "completed"
    },
    "tags": []
   },
   "outputs": [
    {
     "data": {
      "image/png": "[encoded data removed]",
      "text/plain": [
       "<Figure size 432x288 with 1 Axes>"
      ]
     },
     "metadata": {
      "needs_background": "light"
     },
     "output_type": "display_data"
    }
   ],
   "source": [
    "b = plt.imshow(test_x[500][:,:])"
   ]
  },
  {
   "cell_type": "code",
   "execution_count": 11,
   "id": "a0308cbf",
   "metadata": {
    "execution": {
     "iopub.execute_input": "2022-07-03T21:04:29.163169Z",
     "iopub.status.busy": "2022-07-03T21:04:29.162371Z",
     "iopub.status.idle": "2022-07-03T21:04:29.385018Z",
     "shell.execute_reply": "2022-07-03T21:04:29.384014Z"
    },
    "papermill": {
     "duration": 0.235106,
     "end_time": "2022-07-03T21:04:29.387350",
     "exception": false,
     "start_time": "2022-07-03T21:04:29.152244",
     "status": "completed"
    },
    "tags": []
   },
   "outputs": [],
   "source": [
    "x_train , x_test, y_train , y_test=train_test_split(train_x, train_y , test_size=0.15)"
   ]
  },
  {
   "cell_type": "code",
   "execution_count": 12,
   "id": "0e27a675",
   "metadata": {
    "execution": {
     "iopub.execute_input": "2022-07-03T21:04:29.408362Z",
     "iopub.status.busy": "2022-07-03T21:04:29.407608Z",
     "iopub.status.idle": "2022-07-03T21:04:29.414477Z",
     "shell.execute_reply": "2022-07-03T21:04:29.413406Z"
    },
    "papermill": {
     "duration": 0.020612,
     "end_time": "2022-07-03T21:04:29.417583",
     "exception": false,
     "start_time": "2022-07-03T21:04:29.396971",
     "status": "completed"
    },
    "tags": []
   },
   "outputs": [
    {
     "data": {
      "text/plain": [
       "((4250, 64, 64, 1), (4250, 10), (750, 64, 64, 1), (750, 10))"
      ]
     },
     "execution_count": 12,
     "metadata": {},
     "output_type": "execute_result"
    }
   ],
   "source": [
    "x_train.shape , y_train.shape,x_test.shape , y_test.shape"
   ]
  },
  {
   "cell_type": "markdown",
   "id": "5435b2cb",
   "metadata": {
    "papermill": {
     "duration": 0.00924,
     "end_time": "2022-07-03T21:04:29.436534",
     "exception": false,
     "start_time": "2022-07-03T21:04:29.427294",
     "status": "completed"
    },
    "tags": []
   },
   "source": [
    "# Generating new images "
   ]
  },
  {
   "cell_type": "code",
   "execution_count": 13,
   "id": "397d7bb3",
   "metadata": {
    "execution": {
     "iopub.execute_input": "2022-07-03T21:04:29.456191Z",
     "iopub.status.busy": "2022-07-03T21:04:29.455925Z",
     "iopub.status.idle": "2022-07-03T21:04:29.460877Z",
     "shell.execute_reply": "2022-07-03T21:04:29.460001Z"
    },
    "papermill": {
     "duration": 0.016965,
     "end_time": "2022-07-03T21:04:29.462796",
     "exception": false,
     "start_time": "2022-07-03T21:04:29.445831",
     "status": "completed"
    },
    "tags": []
   },
   "outputs": [],
   "source": [
    "datagenerator = ImageDataGenerator(\n",
    "        featurewise_center=False,  # set input mean to 0 over the dataset\n",
    "        samplewise_center=False,  # set each sample mean to 0\n",
    "        featurewise_std_normalization=False,  # divide inputs by std of the dataset\n",
    "        samplewise_std_normalization=False,  # divide each input by its std\n",
    "        zca_whitening=False,  # apply ZCA whitening\n",
    "        rotation_range=10,  # randomly rotate images in the range (degrees, 0 to 180)\n",
    "        zoom_range = 0.1, # Randomly zoom image \n",
    "        width_shift_range=0.1,  # randomly shift images horizontally (fraction of total width)\n",
    "        height_shift_range=0.1,  # randomly shift images vertically (fraction of total height)\n",
    "        horizontal_flip=False,  # randomly flip images\n",
    "        vertical_flip=False)  # randomly flip images\n"
   ]
  },
  {
   "cell_type": "code",
   "execution_count": 14,
   "id": "a83cb122",
   "metadata": {
    "execution": {
     "iopub.execute_input": "2022-07-03T21:04:29.483136Z",
     "iopub.status.busy": "2022-07-03T21:04:29.482888Z",
     "iopub.status.idle": "2022-07-03T21:04:29.515944Z",
     "shell.execute_reply": "2022-07-03T21:04:29.514974Z"
    },
    "papermill": {
     "duration": 0.046132,
     "end_time": "2022-07-03T21:04:29.518373",
     "exception": false,
     "start_time": "2022-07-03T21:04:29.472241",
     "status": "completed"
    },
    "tags": []
   },
   "outputs": [],
   "source": [
    "train_generator = datagenerator.flow(x_train,y_train,)"
   ]
  },
  {
   "cell_type": "code",
   "execution_count": 15,
   "id": "8ef8586c",
   "metadata": {
    "execution": {
     "iopub.execute_input": "2022-07-03T21:04:29.539072Z",
     "iopub.status.busy": "2022-07-03T21:04:29.538501Z",
     "iopub.status.idle": "2022-07-03T21:04:29.547018Z",
     "shell.execute_reply": "2022-07-03T21:04:29.546167Z"
    },
    "papermill": {
     "duration": 0.02081,
     "end_time": "2022-07-03T21:04:29.549001",
     "exception": false,
     "start_time": "2022-07-03T21:04:29.528191",
     "status": "completed"
    },
    "tags": []
   },
   "outputs": [],
   "source": [
    "validation_generator = datagenerator.flow(x_test, y_test)"
   ]
  },
  {
   "cell_type": "markdown",
   "id": "6d4e903a",
   "metadata": {
    "papermill": {
     "duration": 0.009348,
     "end_time": "2022-07-03T21:04:29.567721",
     "exception": false,
     "start_time": "2022-07-03T21:04:29.558373",
     "status": "completed"
    },
    "tags": []
   },
   "source": [
    "# Visualizing some exemple of generating images"
   ]
  },
  {
   "cell_type": "code",
   "execution_count": 16,
   "id": "5df0b128",
   "metadata": {
    "execution": {
     "iopub.execute_input": "2022-07-03T21:04:29.587636Z",
     "iopub.status.busy": "2022-07-03T21:04:29.587022Z",
     "iopub.status.idle": "2022-07-03T21:04:30.395846Z",
     "shell.execute_reply": "2022-07-03T21:04:30.394881Z"
    },
    "papermill": {
     "duration": 0.821771,
     "end_time": "2022-07-03T21:04:30.398699",
     "exception": false,
     "start_time": "2022-07-03T21:04:29.576928",
     "status": "completed"
    },
    "tags": []
   },
   "outputs": [
    {
     "data": {
      "image/png": "[encoded data removed]",
      "text/plain": [
       "<Figure size 864x864 with 6 Axes>"
      ]
     },
     "metadata": {
      "needs_background": "light"
     },
     "output_type": "display_data"
    }
   ],
   "source": [
    "plt.figure(figsize=(12, 12))\n",
    "for i in range(0, 6):\n",
    "    plt.subplot(2, 3, i+1)\n",
    "    for X_batch, Y_batch in validation_generator:\n",
    "        image = X_batch[0]\n",
    "        plt.imshow(image)\n",
    "        break\n",
    "plt.tight_layout()\n",
    "plt.show()"
   ]
  },
  {
   "cell_type": "code",
   "execution_count": 17,
   "id": "8e4136ab",
   "metadata": {
    "execution": {
     "iopub.execute_input": "2022-07-03T21:04:30.421304Z",
     "iopub.status.busy": "2022-07-03T21:04:30.421004Z",
     "iopub.status.idle": "2022-07-03T21:04:31.206120Z",
     "shell.execute_reply": "2022-07-03T21:04:31.205189Z"
    },
    "papermill": {
     "duration": 0.79929,
     "end_time": "2022-07-03T21:04:31.208918",
     "exception": false,
     "start_time": "2022-07-03T21:04:30.409628",
     "status": "completed"
    },
    "tags": []
   },
   "outputs": [
    {
     "data": {
      "image/png": "[encoded data removed]",
      "text/plain": [
       "<Figure size 864x864 with 6 Axes>"
      ]
     },
     "metadata": {
      "needs_background": "light"
     },
     "output_type": "display_data"
    }
   ],
   "source": [
    "plt.figure(figsize=(12, 12))\n",
    "for i in range(0, 6):\n",
    "    plt.subplot(2, 3, i+1)\n",
    "    for X_batch, Y_batch in train_generator:\n",
    "        image = X_batch[0]\n",
    "        plt.imshow(image)\n",
    "        break\n",
    "plt.tight_layout()\n",
    "plt.show()"
   ]
  },
  {
   "cell_type": "markdown",
   "id": "7d311a55",
   "metadata": {
    "papermill": {
     "duration": 0.011283,
     "end_time": "2022-07-03T21:04:31.231861",
     "exception": false,
     "start_time": "2022-07-03T21:04:31.220578",
     "status": "completed"
    },
    "tags": []
   },
   "source": [
    "# Modeling"
   ]
  },
  {
   "cell_type": "code",
   "execution_count": 18,
   "id": "804df949",
   "metadata": {
    "execution": {
     "iopub.execute_input": "2022-07-03T21:04:31.257907Z",
     "iopub.status.busy": "2022-07-03T21:04:31.256434Z",
     "iopub.status.idle": "2022-07-03T21:04:31.278352Z",
     "shell.execute_reply": "2022-07-03T21:04:31.277371Z"
    },
    "papermill": {
     "duration": 0.037134,
     "end_time": "2022-07-03T21:04:31.280547",
     "exception": false,
     "start_time": "2022-07-03T21:04:31.243413",
     "status": "completed"
    },
    "tags": []
   },
   "outputs": [
    {
     "data": {
      "text/html": [
       "<div>\n",
       "<style scoped>\n",
       "    .dataframe tbody tr th:only-of-type {\n",
       "        vertical-align: middle;\n",
       "    }\n",
       "\n",
       "    .dataframe tbody tr th {\n",
       "        vertical-align: top;\n",
       "    }\n",
       "\n",
       "    .dataframe thead th {\n",
       "        text-align: right;\n",
       "    }\n",
       "</style>\n",
       "<table border=\"1\" class=\"dataframe\">\n",
       "  <thead>\n",
       "    <tr style=\"text-align: right;\">\n",
       "      <th></th>\n",
       "      <th>ID</th>\n",
       "      <th>c00000</th>\n",
       "      <th>c00001</th>\n",
       "      <th>c00002</th>\n",
       "      <th>c00003</th>\n",
       "      <th>c00004</th>\n",
       "      <th>c00005</th>\n",
       "      <th>c00006</th>\n",
       "      <th>c00007</th>\n",
       "      <th>c00008</th>\n",
       "      <th>...</th>\n",
       "      <th>c04087</th>\n",
       "      <th>c04088</th>\n",
       "      <th>c04089</th>\n",
       "      <th>c04090</th>\n",
       "      <th>c04091</th>\n",
       "      <th>c04092</th>\n",
       "      <th>c04093</th>\n",
       "      <th>c04094</th>\n",
       "      <th>c04095</th>\n",
       "      <th>Target</th>\n",
       "    </tr>\n",
       "  </thead>\n",
       "  <tbody>\n",
       "    <tr>\n",
       "      <th>0</th>\n",
       "      <td>0</td>\n",
       "      <td>36</td>\n",
       "      <td>36</td>\n",
       "      <td>33</td>\n",
       "      <td>33</td>\n",
       "      <td>31</td>\n",
       "      <td>32</td>\n",
       "      <td>35</td>\n",
       "      <td>37</td>\n",
       "      <td>38</td>\n",
       "      <td>...</td>\n",
       "      <td>52</td>\n",
       "      <td>50</td>\n",
       "      <td>74</td>\n",
       "      <td>117</td>\n",
       "      <td>133</td>\n",
       "      <td>118</td>\n",
       "      <td>102</td>\n",
       "      <td>89</td>\n",
       "      <td>80</td>\n",
       "      <td>8</td>\n",
       "    </tr>\n",
       "    <tr>\n",
       "      <th>1</th>\n",
       "      <td>1</td>\n",
       "      <td>142</td>\n",
       "      <td>129</td>\n",
       "      <td>122</td>\n",
       "      <td>138</td>\n",
       "      <td>143</td>\n",
       "      <td>148</td>\n",
       "      <td>152</td>\n",
       "      <td>149</td>\n",
       "      <td>147</td>\n",
       "      <td>...</td>\n",
       "      <td>96</td>\n",
       "      <td>98</td>\n",
       "      <td>97</td>\n",
       "      <td>95</td>\n",
       "      <td>94</td>\n",
       "      <td>89</td>\n",
       "      <td>78</td>\n",
       "      <td>72</td>\n",
       "      <td>69</td>\n",
       "      <td>3</td>\n",
       "    </tr>\n",
       "    <tr>\n",
       "      <th>2</th>\n",
       "      <td>2</td>\n",
       "      <td>237</td>\n",
       "      <td>240</td>\n",
       "      <td>242</td>\n",
       "      <td>243</td>\n",
       "      <td>244</td>\n",
       "      <td>245</td>\n",
       "      <td>244</td>\n",
       "      <td>242</td>\n",
       "      <td>241</td>\n",
       "      <td>...</td>\n",
       "      <td>34</td>\n",
       "      <td>33</td>\n",
       "      <td>33</td>\n",
       "      <td>35</td>\n",
       "      <td>36</td>\n",
       "      <td>34</td>\n",
       "      <td>34</td>\n",
       "      <td>33</td>\n",
       "      <td>32</td>\n",
       "      <td>2</td>\n",
       "    </tr>\n",
       "    <tr>\n",
       "      <th>3</th>\n",
       "      <td>3</td>\n",
       "      <td>167</td>\n",
       "      <td>149</td>\n",
       "      <td>116</td>\n",
       "      <td>99</td>\n",
       "      <td>75</td>\n",
       "      <td>58</td>\n",
       "      <td>57</td>\n",
       "      <td>55</td>\n",
       "      <td>55</td>\n",
       "      <td>...</td>\n",
       "      <td>67</td>\n",
       "      <td>68</td>\n",
       "      <td>64</td>\n",
       "      <td>56</td>\n",
       "      <td>46</td>\n",
       "      <td>37</td>\n",
       "      <td>35</td>\n",
       "      <td>37</td>\n",
       "      <td>40</td>\n",
       "      <td>6</td>\n",
       "    </tr>\n",
       "    <tr>\n",
       "      <th>4</th>\n",
       "      <td>4</td>\n",
       "      <td>254</td>\n",
       "      <td>254</td>\n",
       "      <td>254</td>\n",
       "      <td>254</td>\n",
       "      <td>254</td>\n",
       "      <td>254</td>\n",
       "      <td>254</td>\n",
       "      <td>254</td>\n",
       "      <td>254</td>\n",
       "      <td>...</td>\n",
       "      <td>57</td>\n",
       "      <td>77</td>\n",
       "      <td>128</td>\n",
       "      <td>180</td>\n",
       "      <td>225</td>\n",
       "      <td>242</td>\n",
       "      <td>250</td>\n",
       "      <td>253</td>\n",
       "      <td>254</td>\n",
       "      <td>8</td>\n",
       "    </tr>\n",
       "  </tbody>\n",
       "</table>\n",
       "<p>5 rows × 4098 columns</p>\n",
       "</div>"
      ],
      "text/plain": [
       "   ID  c00000  c00001  c00002  c00003  c00004  c00005  c00006  c00007  c00008  \\\n",
       "0   0      36      36      33      33      31      32      35      37      38   \n",
       "1   1     142     129     122     138     143     148     152     149     147   \n",
       "2   2     237     240     242     243     244     245     244     242     241   \n",
       "3   3     167     149     116      99      75      58      57      55      55   \n",
       "4   4     254     254     254     254     254     254     254     254     254   \n",
       "\n",
       "   ...  c04087  c04088  c04089  c04090  c04091  c04092  c04093  c04094  \\\n",
       "0  ...      52      50      74     117     133     118     102      89   \n",
       "1  ...      96      98      97      95      94      89      78      72   \n",
       "2  ...      34      33      33      35      36      34      34      33   \n",
       "3  ...      67      68      64      56      46      37      35      37   \n",
       "4  ...      57      77     128     180     225     242     250     253   \n",
       "\n",
       "   c04095  Target  \n",
       "0      80       8  \n",
       "1      69       3  \n",
       "2      32       2  \n",
       "3      40       6  \n",
       "4     254       8  \n",
       "\n",
       "[5 rows x 4098 columns]"
      ]
     },
     "execution_count": 18,
     "metadata": {},
     "output_type": "execute_result"
    }
   ],
   "source": [
    "train.head()"
   ]
  },
  {
   "cell_type": "code",
   "execution_count": 19,
   "id": "38719f96",
   "metadata": {
    "execution": {
     "iopub.execute_input": "2022-07-03T21:04:31.307188Z",
     "iopub.status.busy": "2022-07-03T21:04:31.305759Z",
     "iopub.status.idle": "2022-07-03T21:04:31.460422Z",
     "shell.execute_reply": "2022-07-03T21:04:31.459075Z"
    },
    "papermill": {
     "duration": 0.169529,
     "end_time": "2022-07-03T21:04:31.462697",
     "exception": false,
     "start_time": "2022-07-03T21:04:31.293168",
     "status": "completed"
    },
    "tags": []
   },
   "outputs": [
    {
     "name": "stdout",
     "output_type": "stream",
     "text": [
      "(4000, 4098)\n",
      "(1000, 4098)\n",
      "(5000, 4097)\n"
     ]
    }
   ],
   "source": [
    "from sklearn.model_selection import train_test_split\n",
    "\n",
    "train[\"Target\"] = train[\"Target\"].astype('str')\n",
    "\n",
    "df_train = train\n",
    "df_test = test\n",
    "\n",
    "its = np.arange(df_train.shape[0])\n",
    "train_idx, val_idx = train_test_split(its, train_size = 0.8, random_state=42)\n",
    "\n",
    "X_train = df_train.iloc[train_idx, :]\n",
    "X_val = df_train.iloc[val_idx, :]\n",
    "\n",
    "print(X_train.shape)\n",
    "print(X_val.shape)\n",
    "print(df_test.shape)\n"
   ]
  },
  {
   "cell_type": "code",
   "execution_count": 20,
   "id": "7de03c94",
   "metadata": {
    "execution": {
     "iopub.execute_input": "2022-07-03T21:04:31.488427Z",
     "iopub.status.busy": "2022-07-03T21:04:31.488148Z",
     "iopub.status.idle": "2022-07-03T21:04:31.494320Z",
     "shell.execute_reply": "2022-07-03T21:04:31.493448Z"
    },
    "papermill": {
     "duration": 0.021357,
     "end_time": "2022-07-03T21:04:31.496308",
     "exception": false,
     "start_time": "2022-07-03T21:04:31.474951",
     "status": "completed"
    },
    "tags": []
   },
   "outputs": [],
   "source": [
    "import tensorflow as tf\n",
    "from tensorflow.keras.applications.mobilenet import preprocess_input\n",
    "from tensorflow.keras.preprocessing.image import ImageDataGenerator"
   ]
  },
  {
   "cell_type": "code",
   "execution_count": 21,
   "id": "3c24deb2",
   "metadata": {
    "execution": {
     "iopub.execute_input": "2022-07-03T21:04:31.522397Z",
     "iopub.status.busy": "2022-07-03T21:04:31.521634Z",
     "iopub.status.idle": "2022-07-03T21:04:31.528200Z",
     "shell.execute_reply": "2022-07-03T21:04:31.527396Z"
    },
    "papermill": {
     "duration": 0.021894,
     "end_time": "2022-07-03T21:04:31.530114",
     "exception": false,
     "start_time": "2022-07-03T21:04:31.508220",
     "status": "completed"
    },
    "tags": []
   },
   "outputs": [],
   "source": [
    "img_size = (64, 64)\n",
    "nb_train_samples = len(X_train)\n",
    "nb_validation_samples = len(X_val)\n",
    "nb_test_samples = len(df_test)\n",
    "epochs = 20\n",
    "batch_size = 32\n",
    "\n",
    "# Define Generator config\n",
    "train_datagene = ImageDataGenerator(\n",
    "    horizontal_flip = True, \n",
    "    vertical_flip = False,\n",
    "    preprocessing_function=preprocess_input\n",
    ")\n",
    "val_datagene = ImageDataGenerator(preprocessing_function=preprocess_input)\n",
    "test_datagene = ImageDataGenerator(preprocessing_function=preprocess_input)"
   ]
  },
  {
   "cell_type": "code",
   "execution_count": 22,
   "id": "0b0ad3cf",
   "metadata": {
    "execution": {
     "iopub.execute_input": "2022-07-03T21:04:31.556143Z",
     "iopub.status.busy": "2022-07-03T21:04:31.554733Z",
     "iopub.status.idle": "2022-07-03T21:04:31.592183Z",
     "shell.execute_reply": "2022-07-03T21:04:31.591170Z"
    },
    "papermill": {
     "duration": 0.05295,
     "end_time": "2022-07-03T21:04:31.594926",
     "exception": false,
     "start_time": "2022-07-03T21:04:31.541976",
     "status": "completed"
    },
    "tags": []
   },
   "outputs": [],
   "source": [
    "train_generator = train_datagene.flow(\n",
    "    x_train , y_train\n",
    ")\n",
    "validation_generator = datagenerator.flow(x_test, y_test)"
   ]
  },
  {
   "cell_type": "code",
   "execution_count": 23,
   "id": "ef536e15",
   "metadata": {
    "execution": {
     "iopub.execute_input": "2022-07-03T21:04:31.621770Z",
     "iopub.status.busy": "2022-07-03T21:04:31.621457Z",
     "iopub.status.idle": "2022-07-03T21:04:31.627195Z",
     "shell.execute_reply": "2022-07-03T21:04:31.626337Z"
    },
    "papermill": {
     "duration": 0.021489,
     "end_time": "2022-07-03T21:04:31.629307",
     "exception": false,
     "start_time": "2022-07-03T21:04:31.607818",
     "status": "completed"
    },
    "tags": []
   },
   "outputs": [],
   "source": [
    "from tensorflow.keras.applications.mobilenet import MobileNet, preprocess_input\n",
    "from tensorflow.keras.preprocessing.image import ImageDataGenerator\n",
    "from tensorflow.keras.models import Sequential, Model\n",
    "from tensorflow.keras.layers import Dense, Dropout, Flatten, Activation, Conv2D, GlobalAveragePooling2D"
   ]
  },
  {
   "cell_type": "code",
   "execution_count": 24,
   "id": "d536174a",
   "metadata": {
    "execution": {
     "iopub.execute_input": "2022-07-03T21:04:31.654808Z",
     "iopub.status.busy": "2022-07-03T21:04:31.654009Z",
     "iopub.status.idle": "2022-07-03T21:04:35.243572Z",
     "shell.execute_reply": "2022-07-03T21:04:35.242122Z"
    },
    "papermill": {
     "duration": 3.604993,
     "end_time": "2022-07-03T21:04:35.246225",
     "exception": false,
     "start_time": "2022-07-03T21:04:31.641232",
     "status": "completed"
    },
    "tags": []
   },
   "outputs": [
    {
     "name": "stderr",
     "output_type": "stream",
     "text": [
      "2022-07-03 21:04:31.747730: I tensorflow/stream_executor/cuda/cuda_gpu_executor.cc:937] successful NUMA node read from SysFS had negative value (-1), but there must be at least one NUMA node, so returning NUMA node zero\n",
      "2022-07-03 21:04:31.847507: I tensorflow/stream_executor/cuda/cuda_gpu_executor.cc:937] successful NUMA node read from SysFS had negative value (-1), but there must be at least one NUMA node, so returning NUMA node zero\n",
      "2022-07-03 21:04:31.848242: I tensorflow/stream_executor/cuda/cuda_gpu_executor.cc:937] successful NUMA node read from SysFS had negative value (-1), but there must be at least one NUMA node, so returning NUMA node zero\n",
      "2022-07-03 21:04:31.849332: I tensorflow/core/platform/cpu_feature_guard.cc:142] This TensorFlow binary is optimized with oneAPI Deep Neural Network Library (oneDNN) to use the following CPU instructions in performance-critical operations:  AVX2 AVX512F FMA\n",
      "To enable them in other operations, rebuild TensorFlow with the appropriate compiler flags.\n",
      "2022-07-03 21:04:31.849625: I tensorflow/stream_executor/cuda/cuda_gpu_executor.cc:937] successful NUMA node read from SysFS had negative value (-1), but there must be at least one NUMA node, so returning NUMA node zero\n",
      "2022-07-03 21:04:31.850327: I tensorflow/stream_executor/cuda/cuda_gpu_executor.cc:937] successful NUMA node read from SysFS had negative value (-1), but there must be at least one NUMA node, so returning NUMA node zero\n",
      "2022-07-03 21:04:31.850969: I tensorflow/stream_executor/cuda/cuda_gpu_executor.cc:937] successful NUMA node read from SysFS had negative value (-1), but there must be at least one NUMA node, so returning NUMA node zero\n",
      "2022-07-03 21:04:33.833017: I tensorflow/stream_executor/cuda/cuda_gpu_executor.cc:937] successful NUMA node read from SysFS had negative value (-1), but there must be at least one NUMA node, so returning NUMA node zero\n",
      "2022-07-03 21:04:33.833987: I tensorflow/stream_executor/cuda/cuda_gpu_executor.cc:937] successful NUMA node read from SysFS had negative value (-1), but there must be at least one NUMA node, so returning NUMA node zero\n",
      "2022-07-03 21:04:33.834626: I tensorflow/stream_executor/cuda/cuda_gpu_executor.cc:937] successful NUMA node read from SysFS had negative value (-1), but there must be at least one NUMA node, so returning NUMA node zero\n",
      "2022-07-03 21:04:33.835221: I tensorflow/core/common_runtime/gpu/gpu_device.cc:1510] Created device /job:localhost/replica:0/task:0/device:GPU:0 with 15403 MB memory:  -> device: 0, name: Tesla P100-PCIE-16GB, pci bus id: 0000:00:04.0, compute capability: 6.0\n"
     ]
    },
    {
     "name": "stdout",
     "output_type": "stream",
     "text": [
      "Downloading data from https://storage.googleapis.com/tensorflow/keras-applications/mobilenet/mobilenet_1_0_224_tf_no_top.h5\n",
      "17227776/17225924 [==============================] - 0s 0us/step\n",
      "17235968/17225924 [==============================] - 0s 0us/step\n",
      "Model: \"sequential\"\n",
      "_________________________________________________________________\n",
      "Layer (type)                 Output Shape              Param #   \n",
      "=================================================================\n",
      "mobilenet_1.00_224 (Function (None, 2, 2, 1024)        3228864   \n",
      "_________________________________________________________________\n",
      "global_average_pooling2d (Gl (None, 1024)              0         \n",
      "_________________________________________________________________\n",
      "dense (Dense)                (None, 10)                10250     \n",
      "=================================================================\n",
      "Total params: 3,239,114\n",
      "Trainable params: 3,217,226\n",
      "Non-trainable params: 21,888\n",
      "_________________________________________________________________\n"
     ]
    }
   ],
   "source": [
    "mobileNetModel = MobileNet(weights='imagenet', include_top=False, input_shape = (64, 64, 3))\n",
    "\n",
    "model = Sequential()\n",
    "model.add(mobileNetModel)\n",
    "model.add(GlobalAveragePooling2D())\n",
    "model.add(Dense(10, activation='softmax', kernel_initializer='he_normal'))\n",
    "model.summary()"
   ]
  },
  {
   "cell_type": "code",
   "execution_count": 25,
   "id": "fece54b2",
   "metadata": {
    "execution": {
     "iopub.execute_input": "2022-07-03T21:04:35.274583Z",
     "iopub.status.busy": "2022-07-03T21:04:35.273769Z",
     "iopub.status.idle": "2022-07-03T21:04:35.287512Z",
     "shell.execute_reply": "2022-07-03T21:04:35.286681Z"
    },
    "papermill": {
     "duration": 0.029557,
     "end_time": "2022-07-03T21:04:35.289432",
     "exception": false,
     "start_time": "2022-07-03T21:04:35.259875",
     "status": "completed"
    },
    "tags": []
   },
   "outputs": [],
   "source": [
    "from sklearn.metrics import f1_score\n",
    "\n",
    "def micro_f1(y_true, y_pred):\n",
    "    return f1_score(y_true, y_pred, average='micro')\n",
    "\n",
    "model.compile(optimizer='adam', loss='categorical_crossentropy', metrics=['acc'])"
   ]
  },
  {
   "cell_type": "code",
   "execution_count": 26,
   "id": "b37cf101",
   "metadata": {
    "execution": {
     "iopub.execute_input": "2022-07-03T21:04:35.316781Z",
     "iopub.status.busy": "2022-07-03T21:04:35.316025Z",
     "iopub.status.idle": "2022-07-03T21:04:35.321227Z",
     "shell.execute_reply": "2022-07-03T21:04:35.320382Z"
    },
    "papermill": {
     "duration": 0.021051,
     "end_time": "2022-07-03T21:04:35.323161",
     "exception": false,
     "start_time": "2022-07-03T21:04:35.302110",
     "status": "completed"
    },
    "tags": []
   },
   "outputs": [],
   "source": [
    "def get_steps(num_samples, batch_size):\n",
    "    if (num_samples % batch_size) > 0 :\n",
    "        return (num_samples // batch_size) + 1\n",
    "    else :\n",
    "        return num_samples // batch_size"
   ]
  },
  {
   "cell_type": "code",
   "execution_count": 27,
   "id": "b498e981",
   "metadata": {
    "execution": {
     "iopub.execute_input": "2022-07-03T21:04:35.357982Z",
     "iopub.status.busy": "2022-07-03T21:04:35.357614Z",
     "iopub.status.idle": "2022-07-03T21:04:35.365276Z",
     "shell.execute_reply": "2022-07-03T21:04:35.364159Z"
    },
    "papermill": {
     "duration": 0.034888,
     "end_time": "2022-07-03T21:04:35.370856",
     "exception": false,
     "start_time": "2022-07-03T21:04:35.335968",
     "status": "completed"
    },
    "tags": []
   },
   "outputs": [
    {
     "name": "stdout",
     "output_type": "stream",
     "text": [
      "CPU times: user 1.18 ms, sys: 25 µs, total: 1.21 ms\n",
      "Wall time: 1.12 ms\n"
     ]
    }
   ],
   "source": [
    "%%time\n",
    "from tensorflow.keras.callbacks import ModelCheckpoint, EarlyStopping\n",
    "\n",
    "filepath = \"my_mobilenet_model_{val_acc:.2f}_{val_loss:.4f}.h5\"\n",
    "\n",
    "ckpt = ModelCheckpoint(filepath, monitor='val_acc', verbose=1, save_best_only=True)\n",
    "es = EarlyStopping(monitor='val_acc', min_delta=0, patience=3, verbose=1, mode='auto')\n",
    "\n",
    "callbackList = [ckpt]"
   ]
  },
  {
   "cell_type": "code",
   "execution_count": 28,
   "id": "0e30d685",
   "metadata": {
    "execution": {
     "iopub.execute_input": "2022-07-03T21:04:35.417981Z",
     "iopub.status.busy": "2022-07-03T21:04:35.416384Z",
     "iopub.status.idle": "2022-07-03T21:04:35.422708Z",
     "shell.execute_reply": "2022-07-03T21:04:35.421677Z"
    },
    "papermill": {
     "duration": 0.029803,
     "end_time": "2022-07-03T21:04:35.425479",
     "exception": false,
     "start_time": "2022-07-03T21:04:35.395676",
     "status": "completed"
    },
    "tags": []
   },
   "outputs": [],
   "source": [
    "# history = model.fit_generator(\n",
    "#     train_generator,\n",
    "#     steps_per_epoch = get_steps(nb_train_samples, batch_size),\n",
    "#     epochs=epochs,\n",
    "#     validation_data = train_generator,\n",
    "#     validation_steps = get_steps(nb_validation_samples, batch_size),\n",
    "#     callbacks = callbackList\n",
    "# )"
   ]
  },
  {
   "cell_type": "code",
   "execution_count": null,
   "id": "16da1653",
   "metadata": {
    "papermill": {
     "duration": 0.029097,
     "end_time": "2022-07-03T21:04:35.475529",
     "exception": false,
     "start_time": "2022-07-03T21:04:35.446432",
     "status": "completed"
    },
    "tags": []
   },
   "outputs": [],
   "source": []
  },
  {
   "cell_type": "code",
   "execution_count": null,
   "id": "fc191da9",
   "metadata": {
    "papermill": {
     "duration": 0.01939,
     "end_time": "2022-07-03T21:04:35.515272",
     "exception": false,
     "start_time": "2022-07-03T21:04:35.495882",
     "status": "completed"
    },
    "tags": []
   },
   "outputs": [],
   "source": []
  }
 ],
 "metadata": {
  "kernelspec": {
   "display_name": "Python 3",
   "language": "python",
   "name": "python3"
  },
  "language_info": {
   "codemirror_mode": {
    "name": "ipython",
    "version": 3
   },
   "file_extension": ".py",
   "mimetype": "text/x-python",
   "name": "python",
   "nbconvert_exporter": "python",
   "pygments_lexer": "ipython3",
   "version": "3.7.12"
  },
  "papermill": {
   "default_parameters": {},
   "duration": 31.259053,
   "end_time": "2022-07-03T21:04:38.349344",
   "environment_variables": {},
   "exception": null,
   "input_path": "__notebook__.ipynb",
   "output_path": "__notebook__.ipynb",
   "parameters": {},
   "start_time": "2022-07-03T21:04:07.090291",
   "version": "2.3.4"
  }
 },
 "nbformat": 4,
 "nbformat_minor": 5
}
