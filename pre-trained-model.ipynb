{
 "cells": [
  {
   "cell_type": "markdown",
   "id": "8d0fc60b",
   "metadata": {
    "_cell_guid": "b1076dfc-b9ad-4769-8c92-a6c4dae69d19",
    "_uuid": "8f2839f25d086af736a60e9eeb907d3b93b6e0e5",
    "execution": {
     "iopub.execute_input": "2022-06-24T10:54:16.335164Z",
     "iopub.status.busy": "2022-06-24T10:54:16.334482Z",
     "iopub.status.idle": "2022-06-24T10:54:16.342979Z",
     "shell.execute_reply": "2022-06-24T10:54:16.341504Z",
     "shell.execute_reply.started": "2022-06-24T10:54:16.33513Z"
    },
    "papermill": {
     "duration": 0.016488,
     "end_time": "2022-07-03T19:59:26.749013",
     "exception": false,
     "start_time": "2022-07-03T19:59:26.732525",
     "status": "completed"
    },
    "tags": []
   },
   "source": [
    "# import necessary libraries"
   ]
  },
  {
   "cell_type": "code",
   "execution_count": 1,
   "id": "6dec0610",
   "metadata": {
    "execution": {
     "iopub.execute_input": "2022-07-03T19:59:26.768543Z",
     "iopub.status.busy": "2022-07-03T19:59:26.768143Z",
     "iopub.status.idle": "2022-07-03T19:59:33.049846Z",
     "shell.execute_reply": "2022-07-03T19:59:33.048813Z"
    },
    "papermill": {
     "duration": 6.294336,
     "end_time": "2022-07-03T19:59:33.052534",
     "exception": false,
     "start_time": "2022-07-03T19:59:26.758198",
     "status": "completed"
    },
    "tags": []
   },
   "outputs": [],
   "source": [
    "import numpy as np\n",
    "import pandas as pd\n",
    "import matplotlib.pyplot as plt\n",
    "import os\n",
    "import shutil\n",
    "import tensorflow as tf\n",
    "import pathlib\n",
    "import PIL\n",
    "import time\n",
    "import zipfile\n",
    "import random\n",
    "from tensorflow import keras as ks\n",
    "from tensorflow.keras.layers import *\n",
    "from keras.utils.np_utils import to_categorical # convert to one-hot-encoding\n",
    "from keras.models import Sequential\n",
    "from keras.preprocessing.image import ImageDataGenerator\n",
    "from keras.callbacks import ReduceLROnPlateau\n",
    "from sklearn.model_selection import train_test_split\n",
    "import warnings\n",
    "warnings.filterwarnings('ignore')"
   ]
  },
  {
   "cell_type": "markdown",
   "id": "a024b519",
   "metadata": {
    "papermill": {
     "duration": 0.008639,
     "end_time": "2022-07-03T19:59:33.071351",
     "exception": false,
     "start_time": "2022-07-03T19:59:33.062712",
     "status": "completed"
    },
    "tags": []
   },
   "source": [
    "**Read data**"
   ]
  },
  {
   "cell_type": "code",
   "execution_count": 2,
   "id": "5b404175",
   "metadata": {
    "execution": {
     "iopub.execute_input": "2022-07-03T19:59:33.090249Z",
     "iopub.status.busy": "2022-07-03T19:59:33.089524Z",
     "iopub.status.idle": "2022-07-03T19:59:41.497728Z",
     "shell.execute_reply": "2022-07-03T19:59:41.496657Z"
    },
    "papermill": {
     "duration": 8.420915,
     "end_time": "2022-07-03T19:59:41.500782",
     "exception": false,
     "start_time": "2022-07-03T19:59:33.079867",
     "status": "completed"
    },
    "tags": []
   },
   "outputs": [],
   "source": [
    "train=pd.read_csv(\"../input/sign-recognition/Train.csv\")\n",
    "test=pd.read_csv(\"../input/sign-recognition/Test.csv\")"
   ]
  },
  {
   "cell_type": "markdown",
   "id": "5d64a256",
   "metadata": {
    "papermill": {
     "duration": 0.00795,
     "end_time": "2022-07-03T19:59:41.517127",
     "exception": false,
     "start_time": "2022-07-03T19:59:41.509177",
     "status": "completed"
    },
    "tags": []
   },
   "source": [
    "# General insights "
   ]
  },
  {
   "cell_type": "code",
   "execution_count": 3,
   "id": "ac2e6a1a",
   "metadata": {
    "execution": {
     "iopub.execute_input": "2022-07-03T19:59:41.534056Z",
     "iopub.status.busy": "2022-07-03T19:59:41.533768Z",
     "iopub.status.idle": "2022-07-03T19:59:41.541384Z",
     "shell.execute_reply": "2022-07-03T19:59:41.540492Z"
    },
    "papermill": {
     "duration": 0.019328,
     "end_time": "2022-07-03T19:59:41.544396",
     "exception": false,
     "start_time": "2022-07-03T19:59:41.525068",
     "status": "completed"
    },
    "tags": []
   },
   "outputs": [
    {
     "data": {
      "text/plain": [
       "((5000, 4098), (5000, 4097))"
      ]
     },
     "execution_count": 3,
     "metadata": {},
     "output_type": "execute_result"
    }
   ],
   "source": [
    "train.shape, test.shape"
   ]
  },
  {
   "cell_type": "code",
   "execution_count": 4,
   "id": "02db5e09",
   "metadata": {
    "execution": {
     "iopub.execute_input": "2022-07-03T19:59:41.561557Z",
     "iopub.status.busy": "2022-07-03T19:59:41.561301Z",
     "iopub.status.idle": "2022-07-03T19:59:41.604424Z",
     "shell.execute_reply": "2022-07-03T19:59:41.603598Z"
    },
    "papermill": {
     "duration": 0.053966,
     "end_time": "2022-07-03T19:59:41.606287",
     "exception": false,
     "start_time": "2022-07-03T19:59:41.552321",
     "status": "completed"
    },
    "tags": []
   },
   "outputs": [
    {
     "data": {
      "text/plain": [
       "ID        0\n",
       "c00000    0\n",
       "c00001    0\n",
       "c00002    0\n",
       "c00003    0\n",
       "         ..\n",
       "c04092    0\n",
       "c04093    0\n",
       "c04094    0\n",
       "c04095    0\n",
       "Target    0\n",
       "Length: 4098, dtype: int64"
      ]
     },
     "execution_count": 4,
     "metadata": {},
     "output_type": "execute_result"
    }
   ],
   "source": [
    "train.isna().sum()"
   ]
  },
  {
   "cell_type": "markdown",
   "id": "fa3aa418",
   "metadata": {
    "papermill": {
     "duration": 0.007829,
     "end_time": "2022-07-03T19:59:41.622317",
     "exception": false,
     "start_time": "2022-07-03T19:59:41.614488",
     "status": "completed"
    },
    "tags": []
   },
   "source": [
    "# Drop ID column and define train_y , train_x , test_x"
   ]
  },
  {
   "cell_type": "code",
   "execution_count": 5,
   "id": "3920bfd2",
   "metadata": {
    "execution": {
     "iopub.execute_input": "2022-07-03T19:59:41.640511Z",
     "iopub.status.busy": "2022-07-03T19:59:41.639811Z",
     "iopub.status.idle": "2022-07-03T19:59:41.812641Z",
     "shell.execute_reply": "2022-07-03T19:59:41.811691Z"
    },
    "papermill": {
     "duration": 0.184557,
     "end_time": "2022-07-03T19:59:41.814992",
     "exception": false,
     "start_time": "2022-07-03T19:59:41.630435",
     "status": "completed"
    },
    "tags": []
   },
   "outputs": [
    {
     "data": {
      "text/plain": [
       "((5000, 4096), (5000,), (5000, 4096))"
      ]
     },
     "execution_count": 5,
     "metadata": {},
     "output_type": "execute_result"
    }
   ],
   "source": [
    "train_y=train['Target'].astype('float32')\n",
    "train_x=train.drop(['Target','ID'],axis=1).astype('int32')\n",
    "test_x=test.drop(['ID'],axis=1).astype('int32')\n",
    "train_x.shape,train_y.shape,test_x.shape"
   ]
  },
  {
   "cell_type": "markdown",
   "id": "b91738a2",
   "metadata": {
    "papermill": {
     "duration": 0.008147,
     "end_time": "2022-07-03T19:59:41.831538",
     "exception": false,
     "start_time": "2022-07-03T19:59:41.823391",
     "status": "completed"
    },
    "tags": []
   },
   "source": [
    "# One Hot Encoding for train_y"
   ]
  },
  {
   "cell_type": "code",
   "execution_count": 6,
   "id": "5756ea1b",
   "metadata": {
    "execution": {
     "iopub.execute_input": "2022-07-03T19:59:41.850321Z",
     "iopub.status.busy": "2022-07-03T19:59:41.848943Z",
     "iopub.status.idle": "2022-07-03T19:59:41.857563Z",
     "shell.execute_reply": "2022-07-03T19:59:41.856740Z"
    },
    "papermill": {
     "duration": 0.019703,
     "end_time": "2022-07-03T19:59:41.859363",
     "exception": false,
     "start_time": "2022-07-03T19:59:41.839660",
     "status": "completed"
    },
    "tags": []
   },
   "outputs": [
    {
     "data": {
      "text/plain": [
       "(5000, 10)"
      ]
     },
     "execution_count": 6,
     "metadata": {},
     "output_type": "execute_result"
    }
   ],
   "source": [
    "train_y=tf.keras.utils.to_categorical(train_y,10)\n",
    "train_y.shape"
   ]
  },
  {
   "cell_type": "code",
   "execution_count": 7,
   "id": "98bb2f2c",
   "metadata": {
    "execution": {
     "iopub.execute_input": "2022-07-03T19:59:41.877218Z",
     "iopub.status.busy": "2022-07-03T19:59:41.876961Z",
     "iopub.status.idle": "2022-07-03T19:59:41.883682Z",
     "shell.execute_reply": "2022-07-03T19:59:41.882805Z"
    },
    "papermill": {
     "duration": 0.017851,
     "end_time": "2022-07-03T19:59:41.885645",
     "exception": false,
     "start_time": "2022-07-03T19:59:41.867794",
     "status": "completed"
    },
    "tags": []
   },
   "outputs": [
    {
     "data": {
      "text/plain": [
       "array([[0., 0., 0., ..., 0., 1., 0.],\n",
       "       [0., 0., 0., ..., 0., 0., 0.],\n",
       "       [0., 0., 1., ..., 0., 0., 0.],\n",
       "       ...,\n",
       "       [0., 0., 0., ..., 1., 0., 0.],\n",
       "       [0., 0., 1., ..., 0., 0., 0.],\n",
       "       [1., 0., 0., ..., 0., 0., 0.]], dtype=float32)"
      ]
     },
     "execution_count": 7,
     "metadata": {},
     "output_type": "execute_result"
    }
   ],
   "source": [
    "train_y"
   ]
  },
  {
   "cell_type": "markdown",
   "id": "631faccb",
   "metadata": {
    "papermill": {
     "duration": 0.008179,
     "end_time": "2022-07-03T19:59:41.902234",
     "exception": false,
     "start_time": "2022-07-03T19:59:41.894055",
     "status": "completed"
    },
    "tags": []
   },
   "source": [
    "# Reshape the size of  images and normalize them  "
   ]
  },
  {
   "cell_type": "code",
   "execution_count": 8,
   "id": "3791a850",
   "metadata": {
    "execution": {
     "iopub.execute_input": "2022-07-03T19:59:41.919996Z",
     "iopub.status.busy": "2022-07-03T19:59:41.919744Z",
     "iopub.status.idle": "2022-07-03T19:59:42.032603Z",
     "shell.execute_reply": "2022-07-03T19:59:42.031531Z"
    },
    "papermill": {
     "duration": 0.124821,
     "end_time": "2022-07-03T19:59:42.035419",
     "exception": false,
     "start_time": "2022-07-03T19:59:41.910598",
     "status": "completed"
    },
    "tags": []
   },
   "outputs": [
    {
     "data": {
      "text/plain": [
       "((5000, 64, 64, 1), (5000, 64, 64, 1))"
      ]
     },
     "execution_count": 8,
     "metadata": {},
     "output_type": "execute_result"
    }
   ],
   "source": [
    "train_x=train_x.values.reshape(-1,64,64,1)\n",
    "train_x=train_x/255.0\n",
    "test_x=test_x.values.reshape(-1,64,64,1)\n",
    "test_x/255.0\n",
    "test_x.shape,train_x.shape"
   ]
  },
  {
   "cell_type": "markdown",
   "id": "05b9ea54",
   "metadata": {
    "papermill": {
     "duration": 0.010219,
     "end_time": "2022-07-03T19:59:42.054677",
     "exception": false,
     "start_time": "2022-07-03T19:59:42.044458",
     "status": "completed"
    },
    "tags": []
   },
   "source": [
    "# plotting some exemple"
   ]
  },
  {
   "cell_type": "code",
   "execution_count": 9,
   "id": "aa38a2db",
   "metadata": {
    "execution": {
     "iopub.execute_input": "2022-07-03T19:59:42.084543Z",
     "iopub.status.busy": "2022-07-03T19:59:42.084125Z",
     "iopub.status.idle": "2022-07-03T19:59:42.336258Z",
     "shell.execute_reply": "2022-07-03T19:59:42.335362Z"
    },
    "papermill": {
     "duration": 0.269144,
     "end_time": "2022-07-03T19:59:42.339197",
     "exception": false,
     "start_time": "2022-07-03T19:59:42.070053",
     "status": "completed"
    },
    "tags": []
   },
   "outputs": [
    {
     "data": {
      "image/png": "[encoded data removed]",
      "text/plain": [
       "<Figure size 432x288 with 1 Axes>"
      ]
     },
     "metadata": {
      "needs_background": "light"
     },
     "output_type": "display_data"
    }
   ],
   "source": [
    "g =plt.imshow(train_x[150][:,:,0]) "
   ]
  },
  {
   "cell_type": "code",
   "execution_count": 10,
   "id": "d968c241",
   "metadata": {
    "execution": {
     "iopub.execute_input": "2022-07-03T19:59:42.373599Z",
     "iopub.status.busy": "2022-07-03T19:59:42.373249Z",
     "iopub.status.idle": "2022-07-03T19:59:42.548131Z",
     "shell.execute_reply": "2022-07-03T19:59:42.547282Z"
    },
    "papermill": {
     "duration": 0.194584,
     "end_time": "2022-07-03T19:59:42.550817",
     "exception": false,
     "start_time": "2022-07-03T19:59:42.356233",
     "status": "completed"
    },
    "tags": []
   },
   "outputs": [
    {
     "data": {
      "image/png": "[encoded data removed]",
      "text/plain": [
       "<Figure size 432x288 with 1 Axes>"
      ]
     },
     "metadata": {
      "needs_background": "light"
     },
     "output_type": "display_data"
    }
   ],
   "source": [
    "b = plt.imshow(test_x[500][:,:])"
   ]
  },
  {
   "cell_type": "code",
   "execution_count": 11,
   "id": "bd4e8146",
   "metadata": {
    "execution": {
     "iopub.execute_input": "2022-07-03T19:59:42.584702Z",
     "iopub.status.busy": "2022-07-03T19:59:42.584355Z",
     "iopub.status.idle": "2022-07-03T19:59:42.845437Z",
     "shell.execute_reply": "2022-07-03T19:59:42.844286Z"
    },
    "papermill": {
     "duration": 0.280383,
     "end_time": "2022-07-03T19:59:42.847879",
     "exception": false,
     "start_time": "2022-07-03T19:59:42.567496",
     "status": "completed"
    },
    "tags": []
   },
   "outputs": [],
   "source": [
    "x_train , x_test, y_train , y_test=train_test_split(train_x, train_y , test_size=0.15)"
   ]
  },
  {
   "cell_type": "code",
   "execution_count": 12,
   "id": "1da6e88d",
   "metadata": {
    "execution": {
     "iopub.execute_input": "2022-07-03T19:59:42.871161Z",
     "iopub.status.busy": "2022-07-03T19:59:42.869997Z",
     "iopub.status.idle": "2022-07-03T19:59:42.878461Z",
     "shell.execute_reply": "2022-07-03T19:59:42.877591Z"
    },
    "papermill": {
     "duration": 0.022299,
     "end_time": "2022-07-03T19:59:42.880704",
     "exception": false,
     "start_time": "2022-07-03T19:59:42.858405",
     "status": "completed"
    },
    "tags": []
   },
   "outputs": [
    {
     "data": {
      "text/plain": [
       "((4250, 64, 64, 1), (4250, 10), (750, 64, 64, 1), (750, 10))"
      ]
     },
     "execution_count": 12,
     "metadata": {},
     "output_type": "execute_result"
    }
   ],
   "source": [
    "x_train.shape , y_train.shape,x_test.shape , y_test.shape"
   ]
  },
  {
   "cell_type": "markdown",
   "id": "186fec6d",
   "metadata": {
    "papermill": {
     "duration": 0.009756,
     "end_time": "2022-07-03T19:59:42.900279",
     "exception": false,
     "start_time": "2022-07-03T19:59:42.890523",
     "status": "completed"
    },
    "tags": []
   },
   "source": [
    "# Generating new images "
   ]
  },
  {
   "cell_type": "code",
   "execution_count": 13,
   "id": "da812316",
   "metadata": {
    "execution": {
     "iopub.execute_input": "2022-07-03T19:59:42.921695Z",
     "iopub.status.busy": "2022-07-03T19:59:42.921415Z",
     "iopub.status.idle": "2022-07-03T19:59:42.926962Z",
     "shell.execute_reply": "2022-07-03T19:59:42.925983Z"
    },
    "papermill": {
     "duration": 0.019018,
     "end_time": "2022-07-03T19:59:42.929204",
     "exception": false,
     "start_time": "2022-07-03T19:59:42.910186",
     "status": "completed"
    },
    "tags": []
   },
   "outputs": [],
   "source": [
    "datagenerator = ImageDataGenerator(\n",
    "        featurewise_center=False,  # set input mean to 0 over the dataset\n",
    "        samplewise_center=False,  # set each sample mean to 0\n",
    "        featurewise_std_normalization=False,  # divide inputs by std of the dataset\n",
    "        samplewise_std_normalization=False,  # divide each input by its std\n",
    "        zca_whitening=False,  # apply ZCA whitening\n",
    "        rotation_range=10,  # randomly rotate images in the range (degrees, 0 to 180)\n",
    "        zoom_range = 0.1, # Randomly zoom image \n",
    "        width_shift_range=0.1,  # randomly shift images horizontally (fraction of total width)\n",
    "        height_shift_range=0.1,  # randomly shift images vertically (fraction of total height)\n",
    "        horizontal_flip=False,  # randomly flip images\n",
    "        vertical_flip=False)  # randomly flip images\n"
   ]
  },
  {
   "cell_type": "code",
   "execution_count": 14,
   "id": "3f916313",
   "metadata": {
    "execution": {
     "iopub.execute_input": "2022-07-03T19:59:42.948405Z",
     "iopub.status.busy": "2022-07-03T19:59:42.948162Z",
     "iopub.status.idle": "2022-07-03T19:59:42.981040Z",
     "shell.execute_reply": "2022-07-03T19:59:42.980051Z"
    },
    "papermill": {
     "duration": 0.045182,
     "end_time": "2022-07-03T19:59:42.983481",
     "exception": false,
     "start_time": "2022-07-03T19:59:42.938299",
     "status": "completed"
    },
    "tags": []
   },
   "outputs": [],
   "source": [
    "train_generator = datagenerator.flow(x_train,y_train,)"
   ]
  },
  {
   "cell_type": "code",
   "execution_count": 15,
   "id": "63380652",
   "metadata": {
    "execution": {
     "iopub.execute_input": "2022-07-03T19:59:43.004123Z",
     "iopub.status.busy": "2022-07-03T19:59:43.003764Z",
     "iopub.status.idle": "2022-07-03T19:59:43.012308Z",
     "shell.execute_reply": "2022-07-03T19:59:43.011473Z"
    },
    "papermill": {
     "duration": 0.021108,
     "end_time": "2022-07-03T19:59:43.014356",
     "exception": false,
     "start_time": "2022-07-03T19:59:42.993248",
     "status": "completed"
    },
    "tags": []
   },
   "outputs": [],
   "source": [
    "validation_generator = datagenerator.flow(x_test, y_test)"
   ]
  },
  {
   "cell_type": "markdown",
   "id": "d3f18912",
   "metadata": {
    "papermill": {
     "duration": 0.009001,
     "end_time": "2022-07-03T19:59:43.033272",
     "exception": false,
     "start_time": "2022-07-03T19:59:43.024271",
     "status": "completed"
    },
    "tags": []
   },
   "source": [
    "# Visualizing some exemple of generating images"
   ]
  },
  {
   "cell_type": "code",
   "execution_count": 16,
   "id": "d13ebb8c",
   "metadata": {
    "execution": {
     "iopub.execute_input": "2022-07-03T19:59:43.052704Z",
     "iopub.status.busy": "2022-07-03T19:59:43.052221Z",
     "iopub.status.idle": "2022-07-03T19:59:43.826953Z",
     "shell.execute_reply": "2022-07-03T19:59:43.826009Z"
    },
    "papermill": {
     "duration": 0.7874,
     "end_time": "2022-07-03T19:59:43.829703",
     "exception": false,
     "start_time": "2022-07-03T19:59:43.042303",
     "status": "completed"
    },
    "tags": []
   },
   "outputs": [
    {
     "data": {
      "image/png": "[encoded data removed]",
      "text/plain": [
       "<Figure size 864x864 with 6 Axes>"
      ]
     },
     "metadata": {
      "needs_background": "light"
     },
     "output_type": "display_data"
    }
   ],
   "source": [
    "plt.figure(figsize=(12, 12))\n",
    "for i in range(0, 6):\n",
    "    plt.subplot(2, 3, i+1)\n",
    "    for X_batch, Y_batch in validation_generator:\n",
    "        image = X_batch[0]\n",
    "        plt.imshow(image)\n",
    "        break\n",
    "plt.tight_layout()\n",
    "plt.show()"
   ]
  },
  {
   "cell_type": "code",
   "execution_count": 17,
   "id": "1071d117",
   "metadata": {
    "execution": {
     "iopub.execute_input": "2022-07-03T19:59:43.851533Z",
     "iopub.status.busy": "2022-07-03T19:59:43.851251Z",
     "iopub.status.idle": "2022-07-03T19:59:44.608786Z",
     "shell.execute_reply": "2022-07-03T19:59:44.607869Z"
    },
    "papermill": {
     "duration": 0.771391,
     "end_time": "2022-07-03T19:59:44.611481",
     "exception": false,
     "start_time": "2022-07-03T19:59:43.840090",
     "status": "completed"
    },
    "tags": []
   },
   "outputs": [
    {
     "data": {
      "image/png": "[encoded data removed]",
      "text/plain": [
       "<Figure size 864x864 with 6 Axes>"
      ]
     },
     "metadata": {
      "needs_background": "light"
     },
     "output_type": "display_data"
    }
   ],
   "source": [
    "plt.figure(figsize=(12, 12))\n",
    "for i in range(0, 6):\n",
    "    plt.subplot(2, 3, i+1)\n",
    "    for X_batch, Y_batch in train_generator:\n",
    "        image = X_batch[0]\n",
    "        plt.imshow(image)\n",
    "        break\n",
    "plt.tight_layout()\n",
    "plt.show()"
   ]
  },
  {
   "cell_type": "markdown",
   "id": "99235ee4",
   "metadata": {
    "papermill": {
     "duration": 0.011187,
     "end_time": "2022-07-03T19:59:44.634199",
     "exception": false,
     "start_time": "2022-07-03T19:59:44.623012",
     "status": "completed"
    },
    "tags": []
   },
   "source": [
    "# Modeling"
   ]
  },
  {
   "cell_type": "code",
   "execution_count": 18,
   "id": "a26ffc16",
   "metadata": {
    "execution": {
     "iopub.execute_input": "2022-07-03T19:59:44.659089Z",
     "iopub.status.busy": "2022-07-03T19:59:44.658537Z",
     "iopub.status.idle": "2022-07-03T19:59:44.680655Z",
     "shell.execute_reply": "2022-07-03T19:59:44.679827Z"
    },
    "papermill": {
     "duration": 0.037064,
     "end_time": "2022-07-03T19:59:44.682724",
     "exception": false,
     "start_time": "2022-07-03T19:59:44.645660",
     "status": "completed"
    },
    "tags": []
   },
   "outputs": [
    {
     "data": {
      "text/html": [
       "<div>\n",
       "<style scoped>\n",
       "    .dataframe tbody tr th:only-of-type {\n",
       "        vertical-align: middle;\n",
       "    }\n",
       "\n",
       "    .dataframe tbody tr th {\n",
       "        vertical-align: top;\n",
       "    }\n",
       "\n",
       "    .dataframe thead th {\n",
       "        text-align: right;\n",
       "    }\n",
       "</style>\n",
       "<table border=\"1\" class=\"dataframe\">\n",
       "  <thead>\n",
       "    <tr style=\"text-align: right;\">\n",
       "      <th></th>\n",
       "      <th>ID</th>\n",
       "      <th>c00000</th>\n",
       "      <th>c00001</th>\n",
       "      <th>c00002</th>\n",
       "      <th>c00003</th>\n",
       "      <th>c00004</th>\n",
       "      <th>c00005</th>\n",
       "      <th>c00006</th>\n",
       "      <th>c00007</th>\n",
       "      <th>c00008</th>\n",
       "      <th>...</th>\n",
       "      <th>c04087</th>\n",
       "      <th>c04088</th>\n",
       "      <th>c04089</th>\n",
       "      <th>c04090</th>\n",
       "      <th>c04091</th>\n",
       "      <th>c04092</th>\n",
       "      <th>c04093</th>\n",
       "      <th>c04094</th>\n",
       "      <th>c04095</th>\n",
       "      <th>Target</th>\n",
       "    </tr>\n",
       "  </thead>\n",
       "  <tbody>\n",
       "    <tr>\n",
       "      <th>0</th>\n",
       "      <td>0</td>\n",
       "      <td>36</td>\n",
       "      <td>36</td>\n",
       "      <td>33</td>\n",
       "      <td>33</td>\n",
       "      <td>31</td>\n",
       "      <td>32</td>\n",
       "      <td>35</td>\n",
       "      <td>37</td>\n",
       "      <td>38</td>\n",
       "      <td>...</td>\n",
       "      <td>52</td>\n",
       "      <td>50</td>\n",
       "      <td>74</td>\n",
       "      <td>117</td>\n",
       "      <td>133</td>\n",
       "      <td>118</td>\n",
       "      <td>102</td>\n",
       "      <td>89</td>\n",
       "      <td>80</td>\n",
       "      <td>8</td>\n",
       "    </tr>\n",
       "    <tr>\n",
       "      <th>1</th>\n",
       "      <td>1</td>\n",
       "      <td>142</td>\n",
       "      <td>129</td>\n",
       "      <td>122</td>\n",
       "      <td>138</td>\n",
       "      <td>143</td>\n",
       "      <td>148</td>\n",
       "      <td>152</td>\n",
       "      <td>149</td>\n",
       "      <td>147</td>\n",
       "      <td>...</td>\n",
       "      <td>96</td>\n",
       "      <td>98</td>\n",
       "      <td>97</td>\n",
       "      <td>95</td>\n",
       "      <td>94</td>\n",
       "      <td>89</td>\n",
       "      <td>78</td>\n",
       "      <td>72</td>\n",
       "      <td>69</td>\n",
       "      <td>3</td>\n",
       "    </tr>\n",
       "    <tr>\n",
       "      <th>2</th>\n",
       "      <td>2</td>\n",
       "      <td>237</td>\n",
       "      <td>240</td>\n",
       "      <td>242</td>\n",
       "      <td>243</td>\n",
       "      <td>244</td>\n",
       "      <td>245</td>\n",
       "      <td>244</td>\n",
       "      <td>242</td>\n",
       "      <td>241</td>\n",
       "      <td>...</td>\n",
       "      <td>34</td>\n",
       "      <td>33</td>\n",
       "      <td>33</td>\n",
       "      <td>35</td>\n",
       "      <td>36</td>\n",
       "      <td>34</td>\n",
       "      <td>34</td>\n",
       "      <td>33</td>\n",
       "      <td>32</td>\n",
       "      <td>2</td>\n",
       "    </tr>\n",
       "    <tr>\n",
       "      <th>3</th>\n",
       "      <td>3</td>\n",
       "      <td>167</td>\n",
       "      <td>149</td>\n",
       "      <td>116</td>\n",
       "      <td>99</td>\n",
       "      <td>75</td>\n",
       "      <td>58</td>\n",
       "      <td>57</td>\n",
       "      <td>55</td>\n",
       "      <td>55</td>\n",
       "      <td>...</td>\n",
       "      <td>67</td>\n",
       "      <td>68</td>\n",
       "      <td>64</td>\n",
       "      <td>56</td>\n",
       "      <td>46</td>\n",
       "      <td>37</td>\n",
       "      <td>35</td>\n",
       "      <td>37</td>\n",
       "      <td>40</td>\n",
       "      <td>6</td>\n",
       "    </tr>\n",
       "    <tr>\n",
       "      <th>4</th>\n",
       "      <td>4</td>\n",
       "      <td>254</td>\n",
       "      <td>254</td>\n",
       "      <td>254</td>\n",
       "      <td>254</td>\n",
       "      <td>254</td>\n",
       "      <td>254</td>\n",
       "      <td>254</td>\n",
       "      <td>254</td>\n",
       "      <td>254</td>\n",
       "      <td>...</td>\n",
       "      <td>57</td>\n",
       "      <td>77</td>\n",
       "      <td>128</td>\n",
       "      <td>180</td>\n",
       "      <td>225</td>\n",
       "      <td>242</td>\n",
       "      <td>250</td>\n",
       "      <td>253</td>\n",
       "      <td>254</td>\n",
       "      <td>8</td>\n",
       "    </tr>\n",
       "  </tbody>\n",
       "</table>\n",
       "<p>5 rows × 4098 columns</p>\n",
       "</div>"
      ],
      "text/plain": [
       "   ID  c00000  c00001  c00002  c00003  c00004  c00005  c00006  c00007  c00008  \\\n",
       "0   0      36      36      33      33      31      32      35      37      38   \n",
       "1   1     142     129     122     138     143     148     152     149     147   \n",
       "2   2     237     240     242     243     244     245     244     242     241   \n",
       "3   3     167     149     116      99      75      58      57      55      55   \n",
       "4   4     254     254     254     254     254     254     254     254     254   \n",
       "\n",
       "   ...  c04087  c04088  c04089  c04090  c04091  c04092  c04093  c04094  \\\n",
       "0  ...      52      50      74     117     133     118     102      89   \n",
       "1  ...      96      98      97      95      94      89      78      72   \n",
       "2  ...      34      33      33      35      36      34      34      33   \n",
       "3  ...      67      68      64      56      46      37      35      37   \n",
       "4  ...      57      77     128     180     225     242     250     253   \n",
       "\n",
       "   c04095  Target  \n",
       "0      80       8  \n",
       "1      69       3  \n",
       "2      32       2  \n",
       "3      40       6  \n",
       "4     254       8  \n",
       "\n",
       "[5 rows x 4098 columns]"
      ]
     },
     "execution_count": 18,
     "metadata": {},
     "output_type": "execute_result"
    }
   ],
   "source": [
    "train.head()"
   ]
  },
  {
   "cell_type": "code",
   "execution_count": 19,
   "id": "b1645ffc",
   "metadata": {
    "execution": {
     "iopub.execute_input": "2022-07-03T19:59:44.709243Z",
     "iopub.status.busy": "2022-07-03T19:59:44.707815Z",
     "iopub.status.idle": "2022-07-03T19:59:44.870062Z",
     "shell.execute_reply": "2022-07-03T19:59:44.867905Z"
    },
    "papermill": {
     "duration": 0.178388,
     "end_time": "2022-07-03T19:59:44.872774",
     "exception": false,
     "start_time": "2022-07-03T19:59:44.694386",
     "status": "completed"
    },
    "tags": []
   },
   "outputs": [
    {
     "name": "stdout",
     "output_type": "stream",
     "text": [
      "(4000, 4098)\n",
      "(1000, 4098)\n",
      "(5000, 4097)\n"
     ]
    }
   ],
   "source": [
    "from sklearn.model_selection import train_test_split\n",
    "\n",
    "train[\"Target\"] = train[\"Target\"].astype('str')\n",
    "\n",
    "df_train = train\n",
    "df_test = test\n",
    "\n",
    "its = np.arange(df_train.shape[0])\n",
    "train_idx, val_idx = train_test_split(its, train_size = 0.8, random_state=42)\n",
    "\n",
    "X_train = df_train.iloc[train_idx, :]\n",
    "X_val = df_train.iloc[val_idx, :]\n",
    "\n",
    "print(X_train.shape)\n",
    "print(X_val.shape)\n",
    "print(df_test.shape)\n"
   ]
  },
  {
   "cell_type": "code",
   "execution_count": 20,
   "id": "b3ad6b35",
   "metadata": {
    "execution": {
     "iopub.execute_input": "2022-07-03T19:59:44.899489Z",
     "iopub.status.busy": "2022-07-03T19:59:44.899196Z",
     "iopub.status.idle": "2022-07-03T19:59:44.905372Z",
     "shell.execute_reply": "2022-07-03T19:59:44.904525Z"
    },
    "papermill": {
     "duration": 0.021649,
     "end_time": "2022-07-03T19:59:44.907245",
     "exception": false,
     "start_time": "2022-07-03T19:59:44.885596",
     "status": "completed"
    },
    "tags": []
   },
   "outputs": [],
   "source": [
    "import tensorflow as tf\n",
    "from tensorflow.keras.applications.mobilenet import preprocess_input\n",
    "from tensorflow.keras.preprocessing.image import ImageDataGenerator"
   ]
  },
  {
   "cell_type": "code",
   "execution_count": 21,
   "id": "5e5d2a46",
   "metadata": {
    "execution": {
     "iopub.execute_input": "2022-07-03T19:59:44.932020Z",
     "iopub.status.busy": "2022-07-03T19:59:44.931753Z",
     "iopub.status.idle": "2022-07-03T19:59:44.938454Z",
     "shell.execute_reply": "2022-07-03T19:59:44.937540Z"
    },
    "papermill": {
     "duration": 0.021409,
     "end_time": "2022-07-03T19:59:44.940335",
     "exception": false,
     "start_time": "2022-07-03T19:59:44.918926",
     "status": "completed"
    },
    "tags": []
   },
   "outputs": [],
   "source": [
    "img_size = (64, 64)\n",
    "nb_train_samples = len(X_train)\n",
    "nb_validation_samples = len(X_val)\n",
    "nb_test_samples = len(df_test)\n",
    "epochs = 20\n",
    "batch_size = 32\n",
    "\n",
    "# Define Generator config\n",
    "train_datagene = ImageDataGenerator(\n",
    "    horizontal_flip = True, \n",
    "    vertical_flip = False,\n",
    "    preprocessing_function=preprocess_input\n",
    ")\n",
    "val_datagene = ImageDataGenerator(preprocessing_function=preprocess_input)\n",
    "test_datagene = ImageDataGenerator(preprocessing_function=preprocess_input)"
   ]
  },
  {
   "cell_type": "code",
   "execution_count": 22,
   "id": "03a3ce53",
   "metadata": {
    "execution": {
     "iopub.execute_input": "2022-07-03T19:59:44.965078Z",
     "iopub.status.busy": "2022-07-03T19:59:44.964571Z",
     "iopub.status.idle": "2022-07-03T19:59:45.001186Z",
     "shell.execute_reply": "2022-07-03T19:59:45.000104Z"
    },
    "papermill": {
     "duration": 0.05161,
     "end_time": "2022-07-03T19:59:45.003613",
     "exception": false,
     "start_time": "2022-07-03T19:59:44.952003",
     "status": "completed"
    },
    "tags": []
   },
   "outputs": [],
   "source": [
    "train_generator = train_datagene.flow(\n",
    "    x_train , y_train\n",
    ")\n",
    "validation_generator = datagenerator.flow(x_test, y_test)"
   ]
  },
  {
   "cell_type": "code",
   "execution_count": 23,
   "id": "cec460c0",
   "metadata": {
    "execution": {
     "iopub.execute_input": "2022-07-03T19:59:45.030618Z",
     "iopub.status.busy": "2022-07-03T19:59:45.030320Z",
     "iopub.status.idle": "2022-07-03T19:59:45.036182Z",
     "shell.execute_reply": "2022-07-03T19:59:45.035229Z"
    },
    "papermill": {
     "duration": 0.021399,
     "end_time": "2022-07-03T19:59:45.038113",
     "exception": false,
     "start_time": "2022-07-03T19:59:45.016714",
     "status": "completed"
    },
    "tags": []
   },
   "outputs": [],
   "source": [
    "from tensorflow.keras.applications.mobilenet import MobileNet, preprocess_input\n",
    "from tensorflow.keras.preprocessing.image import ImageDataGenerator\n",
    "from tensorflow.keras.models import Sequential, Model\n",
    "from tensorflow.keras.layers import Dense, Dropout, Flatten, Activation, Conv2D, GlobalAveragePooling2D"
   ]
  },
  {
   "cell_type": "code",
   "execution_count": 24,
   "id": "0d3ff6b0",
   "metadata": {
    "execution": {
     "iopub.execute_input": "2022-07-03T19:59:45.063531Z",
     "iopub.status.busy": "2022-07-03T19:59:45.062931Z",
     "iopub.status.idle": "2022-07-03T19:59:48.802310Z",
     "shell.execute_reply": "2022-07-03T19:59:48.801329Z"
    },
    "papermill": {
     "duration": 3.755003,
     "end_time": "2022-07-03T19:59:48.804884",
     "exception": false,
     "start_time": "2022-07-03T19:59:45.049881",
     "status": "completed"
    },
    "tags": []
   },
   "outputs": [
    {
     "name": "stderr",
     "output_type": "stream",
     "text": [
      "2022-07-03 19:59:45.150334: I tensorflow/stream_executor/cuda/cuda_gpu_executor.cc:937] successful NUMA node read from SysFS had negative value (-1), but there must be at least one NUMA node, so returning NUMA node zero\n",
      "2022-07-03 19:59:45.239429: I tensorflow/stream_executor/cuda/cuda_gpu_executor.cc:937] successful NUMA node read from SysFS had negative value (-1), but there must be at least one NUMA node, so returning NUMA node zero\n",
      "2022-07-03 19:59:45.240157: I tensorflow/stream_executor/cuda/cuda_gpu_executor.cc:937] successful NUMA node read from SysFS had negative value (-1), but there must be at least one NUMA node, so returning NUMA node zero\n",
      "2022-07-03 19:59:45.241440: I tensorflow/core/platform/cpu_feature_guard.cc:142] This TensorFlow binary is optimized with oneAPI Deep Neural Network Library (oneDNN) to use the following CPU instructions in performance-critical operations:  AVX2 AVX512F FMA\n",
      "To enable them in other operations, rebuild TensorFlow with the appropriate compiler flags.\n",
      "2022-07-03 19:59:45.241749: I tensorflow/stream_executor/cuda/cuda_gpu_executor.cc:937] successful NUMA node read from SysFS had negative value (-1), but there must be at least one NUMA node, so returning NUMA node zero\n",
      "2022-07-03 19:59:45.242439: I tensorflow/stream_executor/cuda/cuda_gpu_executor.cc:937] successful NUMA node read from SysFS had negative value (-1), but there must be at least one NUMA node, so returning NUMA node zero\n",
      "2022-07-03 19:59:45.243088: I tensorflow/stream_executor/cuda/cuda_gpu_executor.cc:937] successful NUMA node read from SysFS had negative value (-1), but there must be at least one NUMA node, so returning NUMA node zero\n",
      "2022-07-03 19:59:47.272024: I tensorflow/stream_executor/cuda/cuda_gpu_executor.cc:937] successful NUMA node read from SysFS had negative value (-1), but there must be at least one NUMA node, so returning NUMA node zero\n",
      "2022-07-03 19:59:47.272858: I tensorflow/stream_executor/cuda/cuda_gpu_executor.cc:937] successful NUMA node read from SysFS had negative value (-1), but there must be at least one NUMA node, so returning NUMA node zero\n",
      "2022-07-03 19:59:47.273551: I tensorflow/stream_executor/cuda/cuda_gpu_executor.cc:937] successful NUMA node read from SysFS had negative value (-1), but there must be at least one NUMA node, so returning NUMA node zero\n",
      "2022-07-03 19:59:47.274151: I tensorflow/core/common_runtime/gpu/gpu_device.cc:1510] Created device /job:localhost/replica:0/task:0/device:GPU:0 with 15403 MB memory:  -> device: 0, name: Tesla P100-PCIE-16GB, pci bus id: 0000:00:04.0, compute capability: 6.0\n"
     ]
    },
    {
     "name": "stdout",
     "output_type": "stream",
     "text": [
      "Downloading data from https://storage.googleapis.com/tensorflow/keras-applications/mobilenet/mobilenet_1_0_224_tf_no_top.h5\n",
      "17227776/17225924 [==============================] - 0s 0us/step\n",
      "17235968/17225924 [==============================] - 0s 0us/step\n",
      "Model: \"sequential\"\n",
      "_________________________________________________________________\n",
      "Layer (type)                 Output Shape              Param #   \n",
      "=================================================================\n",
      "mobilenet_1.00_224 (Function (None, 2, 2, 1024)        3228864   \n",
      "_________________________________________________________________\n",
      "global_average_pooling2d (Gl (None, 1024)              0         \n",
      "_________________________________________________________________\n",
      "dense (Dense)                (None, 10)                10250     \n",
      "=================================================================\n",
      "Total params: 3,239,114\n",
      "Trainable params: 3,217,226\n",
      "Non-trainable params: 21,888\n",
      "_________________________________________________________________\n"
     ]
    }
   ],
   "source": [
    "mobileNetModel = MobileNet(weights='imagenet', include_top=False, input_shape = (64, 64, 3))\n",
    "\n",
    "model = Sequential()\n",
    "model.add(mobileNetModel)\n",
    "model.add(GlobalAveragePooling2D())\n",
    "model.add(Dense(10, activation='softmax', kernel_initializer='he_normal'))\n",
    "model.summary()"
   ]
  },
  {
   "cell_type": "code",
   "execution_count": 25,
   "id": "2d762f23",
   "metadata": {
    "execution": {
     "iopub.execute_input": "2022-07-03T19:59:48.832706Z",
     "iopub.status.busy": "2022-07-03T19:59:48.831934Z",
     "iopub.status.idle": "2022-07-03T19:59:48.845964Z",
     "shell.execute_reply": "2022-07-03T19:59:48.845149Z"
    },
    "papermill": {
     "duration": 0.029808,
     "end_time": "2022-07-03T19:59:48.847947",
     "exception": false,
     "start_time": "2022-07-03T19:59:48.818139",
     "status": "completed"
    },
    "tags": []
   },
   "outputs": [],
   "source": [
    "from sklearn.metrics import f1_score\n",
    "\n",
    "def micro_f1(y_true, y_pred):\n",
    "    return f1_score(y_true, y_pred, average='micro')\n",
    "\n",
    "model.compile(optimizer='adam', loss='categorical_crossentropy', metrics=['acc'])"
   ]
  },
  {
   "cell_type": "code",
   "execution_count": 26,
   "id": "137ea4fe",
   "metadata": {
    "execution": {
     "iopub.execute_input": "2022-07-03T19:59:48.875510Z",
     "iopub.status.busy": "2022-07-03T19:59:48.874157Z",
     "iopub.status.idle": "2022-07-03T19:59:48.880120Z",
     "shell.execute_reply": "2022-07-03T19:59:48.879160Z"
    },
    "papermill": {
     "duration": 0.021767,
     "end_time": "2022-07-03T19:59:48.882193",
     "exception": false,
     "start_time": "2022-07-03T19:59:48.860426",
     "status": "completed"
    },
    "tags": []
   },
   "outputs": [],
   "source": [
    "def get_steps(num_samples, batch_size):\n",
    "    if (num_samples % batch_size) > 0 :\n",
    "        return (num_samples // batch_size) + 1\n",
    "    else :\n",
    "        return num_samples // batch_size"
   ]
  },
  {
   "cell_type": "code",
   "execution_count": 27,
   "id": "dee7db32",
   "metadata": {
    "execution": {
     "iopub.execute_input": "2022-07-03T19:59:48.907563Z",
     "iopub.status.busy": "2022-07-03T19:59:48.907317Z",
     "iopub.status.idle": "2022-07-03T19:59:48.914800Z",
     "shell.execute_reply": "2022-07-03T19:59:48.913728Z"
    },
    "papermill": {
     "duration": 0.023051,
     "end_time": "2022-07-03T19:59:48.917366",
     "exception": false,
     "start_time": "2022-07-03T19:59:48.894315",
     "status": "completed"
    },
    "tags": []
   },
   "outputs": [
    {
     "name": "stdout",
     "output_type": "stream",
     "text": [
      "CPU times: user 0 ns, sys: 959 µs, total: 959 µs\n",
      "Wall time: 714 µs\n"
     ]
    }
   ],
   "source": [
    "%%time\n",
    "from tensorflow.keras.callbacks import ModelCheckpoint, EarlyStopping\n",
    "\n",
    "filepath = \"my_mobilenet_model_{val_acc:.2f}_{val_loss:.4f}.h5\"\n",
    "\n",
    "ckpt = ModelCheckpoint(filepath, monitor='val_acc', verbose=1, save_best_only=True)\n",
    "es = EarlyStopping(monitor='val_acc', min_delta=0, patience=3, verbose=1, mode='auto')\n",
    "\n",
    "callbackList = [ckpt]"
   ]
  },
  {
   "cell_type": "code",
   "execution_count": 28,
   "id": "b717d272",
   "metadata": {
    "execution": {
     "iopub.execute_input": "2022-07-03T19:59:48.944390Z",
     "iopub.status.busy": "2022-07-03T19:59:48.943681Z",
     "iopub.status.idle": "2022-07-03T19:59:48.948064Z",
     "shell.execute_reply": "2022-07-03T19:59:48.947234Z"
    },
    "papermill": {
     "duration": 0.019481,
     "end_time": "2022-07-03T19:59:48.949922",
     "exception": false,
     "start_time": "2022-07-03T19:59:48.930441",
     "status": "completed"
    },
    "tags": []
   },
   "outputs": [],
   "source": [
    "# history = model.fit_generator(\n",
    "#     train_generator,\n",
    "#     steps_per_epoch = get_steps(nb_train_samples, batch_size),\n",
    "#     epochs=epochs,\n",
    "#     validation_data = train_generator,\n",
    "#     validation_steps = get_steps(nb_validation_samples, batch_size),\n",
    "#     callbacks = callbackList\n",
    "# )"
   ]
  },
  {
   "cell_type": "code",
   "execution_count": null,
   "id": "fac9090d",
   "metadata": {
    "papermill": {
     "duration": 0.012303,
     "end_time": "2022-07-03T19:59:48.974696",
     "exception": false,
     "start_time": "2022-07-03T19:59:48.962393",
     "status": "completed"
    },
    "tags": []
   },
   "outputs": [],
   "source": []
  }
 ],
 "metadata": {
  "kernelspec": {
   "display_name": "Python 3",
   "language": "python",
   "name": "python3"
  },
  "language_info": {
   "codemirror_mode": {
    "name": "ipython",
    "version": 3
   },
   "file_extension": ".py",
   "mimetype": "text/x-python",
   "name": "python",
   "nbconvert_exporter": "python",
   "pygments_lexer": "ipython3",
   "version": "3.7.12"
  },
  "papermill": {
   "default_parameters": {},
   "duration": 33.302965,
   "end_time": "2022-07-03T19:59:52.243737",
   "environment_variables": {},
   "exception": null,
   "input_path": "__notebook__.ipynb",
   "output_path": "__notebook__.ipynb",
   "parameters": {},
   "start_time": "2022-07-03T19:59:18.940772",
   "version": "2.3.4"
  }
 },
 "nbformat": 4,
 "nbformat_minor": 5
}
