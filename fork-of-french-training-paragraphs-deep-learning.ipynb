{
 "cells": [
  {
   "cell_type": "code",
   "execution_count": 1,
   "id": "b5e7df16",
   "metadata": {
    "_cell_guid": "b1076dfc-b9ad-4769-8c92-a6c4dae69d19",
    "_uuid": "8f2839f25d086af736a60e9eeb907d3b93b6e0e5",
    "execution": {
     "iopub.execute_input": "2022-07-01T19:35:33.655806Z",
     "iopub.status.busy": "2022-07-01T19:35:33.654304Z",
     "iopub.status.idle": "2022-07-01T19:35:41.001232Z",
     "shell.execute_reply": "2022-07-01T19:35:41.000272Z",
     "shell.execute_reply.started": "2022-07-01T19:21:33.399439Z"
    },
    "papermill": {
     "duration": 7.392264,
     "end_time": "2022-07-01T19:35:41.001392",
     "exception": false,
     "start_time": "2022-07-01T19:35:33.609128",
     "status": "completed"
    },
    "tags": []
   },
   "outputs": [],
   "source": [
    "import os\n",
    "\n",
    "import random\n",
    "import numpy as np\n",
    "\n",
    "import pandas as pd\n",
    "import torch\n",
    "from torch.utils.data import Dataset, random_split\n",
    "from transformers import (\n",
    "    AdamW,\n",
    "    Trainer,\n",
    "    TrainingArguments,\n",
    "    AutoTokenizer,\n",
    "    AutoModelForSequenceClassification,\n",
    "    get_cosine_schedule_with_warmup,\n",
    ")\n",
    "from sklearn.preprocessing import LabelEncoder\n",
    "from sklearn.metrics import accuracy_score\n",
    "import warnings\n",
    "warnings.filterwarnings('ignore')"
   ]
  },
  {
   "cell_type": "code",
   "execution_count": 2,
   "id": "435df7c9",
   "metadata": {
    "execution": {
     "iopub.execute_input": "2022-07-01T19:35:41.086093Z",
     "iopub.status.busy": "2022-07-01T19:35:41.085524Z",
     "iopub.status.idle": "2022-07-01T19:35:41.100942Z",
     "shell.execute_reply": "2022-07-01T19:35:41.100519Z",
     "shell.execute_reply.started": "2022-07-01T19:21:33.598097Z"
    },
    "papermill": {
     "duration": 0.059361,
     "end_time": "2022-07-01T19:35:41.101101",
     "exception": false,
     "start_time": "2022-07-01T19:35:41.041740",
     "status": "completed"
    },
    "tags": []
   },
   "outputs": [],
   "source": [
    "new_data=pd.read_csv(\"../input/csvvvv/Classeur 1 (5).csv\")"
   ]
  },
  {
   "cell_type": "code",
   "execution_count": 3,
   "id": "d33fcca5",
   "metadata": {
    "execution": {
     "iopub.execute_input": "2022-07-01T19:35:41.193573Z",
     "iopub.status.busy": "2022-07-01T19:35:41.192734Z",
     "iopub.status.idle": "2022-07-01T19:35:41.195175Z",
     "shell.execute_reply": "2022-07-01T19:35:41.194725Z",
     "shell.execute_reply.started": "2022-07-01T19:21:33.618508Z"
    },
    "papermill": {
     "duration": 0.054482,
     "end_time": "2022-07-01T19:35:41.195293",
     "exception": false,
     "start_time": "2022-07-01T19:35:41.140811",
     "status": "completed"
    },
    "tags": []
   },
   "outputs": [],
   "source": [
    "new_data.drop([\"Y\",\"Word Count\",\"Language\",' '], axis=1, inplace=True)\n",
    "new_data.columns = [\"text\", \"CEFR Review\",\"CEFR Level_Samar\"]"
   ]
  },
  {
   "cell_type": "code",
   "execution_count": 4,
   "id": "415a0ed9",
   "metadata": {
    "execution": {
     "iopub.execute_input": "2022-07-01T19:35:41.280452Z",
     "iopub.status.busy": "2022-07-01T19:35:41.279766Z",
     "iopub.status.idle": "2022-07-01T19:35:41.282973Z",
     "shell.execute_reply": "2022-07-01T19:35:41.283390Z",
     "shell.execute_reply.started": "2022-07-01T19:21:33.707379Z"
    },
    "papermill": {
     "duration": 0.049983,
     "end_time": "2022-07-01T19:35:41.283524",
     "exception": false,
     "start_time": "2022-07-01T19:35:41.233541",
     "status": "completed"
    },
    "tags": []
   },
   "outputs": [
    {
     "data": {
      "text/plain": [
       "(191, 3)"
      ]
     },
     "execution_count": 4,
     "metadata": {},
     "output_type": "execute_result"
    }
   ],
   "source": [
    "new_data.shape"
   ]
  },
  {
   "cell_type": "code",
   "execution_count": 5,
   "id": "c211a1de",
   "metadata": {
    "execution": {
     "iopub.execute_input": "2022-07-01T19:35:41.366825Z",
     "iopub.status.busy": "2022-07-01T19:35:41.366305Z",
     "iopub.status.idle": "2022-07-01T19:35:41.377570Z",
     "shell.execute_reply": "2022-07-01T19:35:41.378014Z",
     "shell.execute_reply.started": "2022-07-01T19:21:33.878042Z"
    },
    "papermill": {
     "duration": 0.055056,
     "end_time": "2022-07-01T19:35:41.378166",
     "exception": false,
     "start_time": "2022-07-01T19:35:41.323110",
     "status": "completed"
    },
    "tags": []
   },
   "outputs": [
    {
     "data": {
      "text/html": [
       "<div>\n",
       "<style scoped>\n",
       "    .dataframe tbody tr th:only-of-type {\n",
       "        vertical-align: middle;\n",
       "    }\n",
       "\n",
       "    .dataframe tbody tr th {\n",
       "        vertical-align: top;\n",
       "    }\n",
       "\n",
       "    .dataframe thead th {\n",
       "        text-align: right;\n",
       "    }\n",
       "</style>\n",
       "<table border=\"1\" class=\"dataframe\">\n",
       "  <thead>\n",
       "    <tr style=\"text-align: right;\">\n",
       "      <th></th>\n",
       "      <th>text</th>\n",
       "      <th>CEFR Review</th>\n",
       "      <th>CEFR Level_Samar</th>\n",
       "    </tr>\n",
       "  </thead>\n",
       "  <tbody>\n",
       "    <tr>\n",
       "      <th>0</th>\n",
       "      <td>En 1815, M. Charles-François-Bienvenu Myriel é...</td>\n",
       "      <td>A2</td>\n",
       "      <td>C1</td>\n",
       "    </tr>\n",
       "    <tr>\n",
       "      <th>1</th>\n",
       "      <td>Quoique ce détail ne touche en aucune manière ...</td>\n",
       "      <td>C1</td>\n",
       "      <td>C2</td>\n",
       "    </tr>\n",
       "  </tbody>\n",
       "</table>\n",
       "</div>"
      ],
      "text/plain": [
       "                                                text CEFR Review  \\\n",
       "0  En 1815, M. Charles-François-Bienvenu Myriel é...          A2   \n",
       "1  Quoique ce détail ne touche en aucune manière ...          C1   \n",
       "\n",
       "  CEFR Level_Samar  \n",
       "0               C1  \n",
       "1               C2  "
      ]
     },
     "execution_count": 5,
     "metadata": {},
     "output_type": "execute_result"
    }
   ],
   "source": [
    "new_data.head(2)"
   ]
  },
  {
   "cell_type": "code",
   "execution_count": 6,
   "id": "5554e2dc",
   "metadata": {
    "execution": {
     "iopub.execute_input": "2022-07-01T19:35:41.510278Z",
     "iopub.status.busy": "2022-07-01T19:35:41.509327Z",
     "iopub.status.idle": "2022-07-01T19:35:41.526530Z",
     "shell.execute_reply": "2022-07-01T19:35:41.526059Z",
     "shell.execute_reply.started": "2022-07-01T19:21:33.911574Z"
    },
    "papermill": {
     "duration": 0.10831,
     "end_time": "2022-07-01T19:35:41.526648",
     "exception": false,
     "start_time": "2022-07-01T19:35:41.418338",
     "status": "completed"
    },
    "tags": []
   },
   "outputs": [
    {
     "data": {
      "text/html": [
       "<div>\n",
       "<style scoped>\n",
       "    .dataframe tbody tr th:only-of-type {\n",
       "        vertical-align: middle;\n",
       "    }\n",
       "\n",
       "    .dataframe tbody tr th {\n",
       "        vertical-align: top;\n",
       "    }\n",
       "\n",
       "    .dataframe thead th {\n",
       "        text-align: right;\n",
       "    }\n",
       "</style>\n",
       "<table border=\"1\" class=\"dataframe\">\n",
       "  <thead>\n",
       "    <tr style=\"text-align: right;\">\n",
       "      <th></th>\n",
       "      <th>text</th>\n",
       "      <th>label</th>\n",
       "    </tr>\n",
       "  </thead>\n",
       "  <tbody>\n",
       "    <tr>\n",
       "      <th>0</th>\n",
       "      <td>En 1815, M. Charles-François-Bienvenu Myriel é...</td>\n",
       "      <td>C1</td>\n",
       "    </tr>\n",
       "    <tr>\n",
       "      <th>1</th>\n",
       "      <td>Quoique ce détail ne touche en aucune manière ...</td>\n",
       "      <td>C2</td>\n",
       "    </tr>\n",
       "    <tr>\n",
       "      <th>2</th>\n",
       "      <td>En 1804, M. Myriel était curé de Brignolles. I...</td>\n",
       "      <td>C1</td>\n",
       "    </tr>\n",
       "    <tr>\n",
       "      <th>3</th>\n",
       "      <td>Vers l'époque du couronnement, une petite affa...</td>\n",
       "      <td>C2</td>\n",
       "    </tr>\n",
       "    <tr>\n",
       "      <th>4</th>\n",
       "      <td>—Quel est ce bonhomme qui me regarde?</td>\n",
       "      <td>C1</td>\n",
       "    </tr>\n",
       "  </tbody>\n",
       "</table>\n",
       "</div>"
      ],
      "text/plain": [
       "                                                text label\n",
       "0  En 1815, M. Charles-François-Bienvenu Myriel é...    C1\n",
       "1  Quoique ce détail ne touche en aucune manière ...    C2\n",
       "2  En 1804, M. Myriel était curé de Brignolles. I...    C1\n",
       "3  Vers l'époque du couronnement, une petite affa...    C2\n",
       "4              —Quel est ce bonhomme qui me regarde?    C1"
      ]
     },
     "execution_count": 6,
     "metadata": {},
     "output_type": "execute_result"
    }
   ],
   "source": [
    "mike_20_june_samar=new_data[pd.notnull(new_data['CEFR Level_Samar'])]\n",
    "mike_20_june_samar.columns = [\"text\", \"CEFR Review\",\"label\"]\n",
    "mike_20_june_samar.drop([\"CEFR Review\"],axis=1, inplace=True)\n",
    "mike_20_june_samar.to_csv(\"mike_20_june_samar.csv\" , index=False)\n",
    "mike_20_june_samar.head()"
   ]
  },
  {
   "cell_type": "code",
   "execution_count": 7,
   "id": "93edabdc",
   "metadata": {
    "execution": {
     "iopub.execute_input": "2022-07-01T19:35:41.615675Z",
     "iopub.status.busy": "2022-07-01T19:35:41.614876Z",
     "iopub.status.idle": "2022-07-01T19:35:41.625009Z",
     "shell.execute_reply": "2022-07-01T19:35:41.625428Z",
     "shell.execute_reply.started": "2022-07-01T19:21:34.019137Z"
    },
    "papermill": {
     "duration": 0.058062,
     "end_time": "2022-07-01T19:35:41.625573",
     "exception": false,
     "start_time": "2022-07-01T19:35:41.567511",
     "status": "completed"
    },
    "tags": []
   },
   "outputs": [
    {
     "data": {
      "text/html": [
       "<div>\n",
       "<style scoped>\n",
       "    .dataframe tbody tr th:only-of-type {\n",
       "        vertical-align: middle;\n",
       "    }\n",
       "\n",
       "    .dataframe tbody tr th {\n",
       "        vertical-align: top;\n",
       "    }\n",
       "\n",
       "    .dataframe thead th {\n",
       "        text-align: right;\n",
       "    }\n",
       "</style>\n",
       "<table border=\"1\" class=\"dataframe\">\n",
       "  <thead>\n",
       "    <tr style=\"text-align: right;\">\n",
       "      <th></th>\n",
       "      <th>text</th>\n",
       "      <th>label</th>\n",
       "    </tr>\n",
       "  </thead>\n",
       "  <tbody>\n",
       "    <tr>\n",
       "      <th>0</th>\n",
       "      <td>En 1815, M. Charles-François-Bienvenu Myriel é...</td>\n",
       "      <td>A2</td>\n",
       "    </tr>\n",
       "    <tr>\n",
       "      <th>1</th>\n",
       "      <td>Quoique ce détail ne touche en aucune manière ...</td>\n",
       "      <td>C1</td>\n",
       "    </tr>\n",
       "    <tr>\n",
       "      <th>2</th>\n",
       "      <td>En 1804, M. Myriel était curé de Brignolles. I...</td>\n",
       "      <td>A2</td>\n",
       "    </tr>\n",
       "    <tr>\n",
       "      <th>3</th>\n",
       "      <td>Vers l'époque du couronnement, une petite affa...</td>\n",
       "      <td>B2</td>\n",
       "    </tr>\n",
       "    <tr>\n",
       "      <th>4</th>\n",
       "      <td>—Quel est ce bonhomme qui me regarde?</td>\n",
       "      <td>A2</td>\n",
       "    </tr>\n",
       "  </tbody>\n",
       "</table>\n",
       "</div>"
      ],
      "text/plain": [
       "                                                text label\n",
       "0  En 1815, M. Charles-François-Bienvenu Myriel é...    A2\n",
       "1  Quoique ce détail ne touche en aucune manière ...    C1\n",
       "2  En 1804, M. Myriel était curé de Brignolles. I...    A2\n",
       "3  Vers l'époque du couronnement, une petite affa...    B2\n",
       "4              —Quel est ce bonhomme qui me regarde?    A2"
      ]
     },
     "execution_count": 7,
     "metadata": {},
     "output_type": "execute_result"
    }
   ],
   "source": [
    "mike_20_june_new=new_data[pd.notnull(new_data['CEFR Review'])]\n",
    "mike_20_june_new.columns = [\"text\", \"label\",\"CEFR Level_Samar\"]\n",
    "mike_20_june_new.drop([\"CEFR Level_Samar\"],axis=1, inplace=True)\n",
    "mike_20_june_new.to_csv(\"mike_20_june_new.csv\" , index=False)\n",
    "mike_20_june_new.head() "
   ]
  },
  {
   "cell_type": "markdown",
   "id": "130add5b",
   "metadata": {
    "papermill": {
     "duration": 0.040353,
     "end_time": "2022-07-01T19:35:41.706636",
     "exception": false,
     "start_time": "2022-07-01T19:35:41.666283",
     "status": "completed"
    },
    "tags": []
   },
   "source": [
    "**!!!! samar annotation seems to be weird because there is just C1 and C2**"
   ]
  },
  {
   "cell_type": "code",
   "execution_count": 8,
   "id": "3053d171",
   "metadata": {
    "execution": {
     "iopub.execute_input": "2022-07-01T19:35:41.794466Z",
     "iopub.status.busy": "2022-07-01T19:35:41.793659Z",
     "iopub.status.idle": "2022-07-01T19:35:41.798325Z",
     "shell.execute_reply": "2022-07-01T19:35:41.797853Z",
     "shell.execute_reply.started": "2022-07-01T19:21:34.184191Z"
    },
    "papermill": {
     "duration": 0.050739,
     "end_time": "2022-07-01T19:35:41.798444",
     "exception": false,
     "start_time": "2022-07-01T19:35:41.747705",
     "status": "completed"
    },
    "tags": []
   },
   "outputs": [
    {
     "data": {
      "text/plain": [
       "(array(['C1', 'C2'], dtype=object),\n",
       " array(['A2', 'C1', 'B2', 'A1', 'B1', 'C2'], dtype=object))"
      ]
     },
     "execution_count": 8,
     "metadata": {},
     "output_type": "execute_result"
    }
   ],
   "source": [
    "mike_20_june_samar[\"label\"].unique(), mike_20_june_new[\"label\"].unique()"
   ]
  },
  {
   "cell_type": "code",
   "execution_count": 9,
   "id": "4f676173",
   "metadata": {
    "execution": {
     "iopub.execute_input": "2022-07-01T19:35:41.884122Z",
     "iopub.status.busy": "2022-07-01T19:35:41.883280Z",
     "iopub.status.idle": "2022-07-01T19:35:41.891710Z",
     "shell.execute_reply": "2022-07-01T19:35:41.891288Z",
     "shell.execute_reply.started": "2022-07-01T19:21:34.291575Z"
    },
    "papermill": {
     "duration": 0.052194,
     "end_time": "2022-07-01T19:35:41.891826",
     "exception": false,
     "start_time": "2022-07-01T19:35:41.839632",
     "status": "completed"
    },
    "tags": []
   },
   "outputs": [
    {
     "data": {
      "text/plain": [
       "C1    58\n",
       "A1    41\n",
       "B2    33\n",
       "B1    29\n",
       "A2    24\n",
       "C2     6\n",
       "Name: label, dtype: int64"
      ]
     },
     "execution_count": 9,
     "metadata": {},
     "output_type": "execute_result"
    }
   ],
   "source": [
    "mike_20_june_new.label.value_counts()"
   ]
  },
  {
   "cell_type": "code",
   "execution_count": 10,
   "id": "84dee7de",
   "metadata": {
    "execution": {
     "iopub.execute_input": "2022-07-01T19:35:41.979381Z",
     "iopub.status.busy": "2022-07-01T19:35:41.978273Z",
     "iopub.status.idle": "2022-07-01T19:35:41.981337Z",
     "shell.execute_reply": "2022-07-01T19:35:41.981743Z",
     "shell.execute_reply.started": "2022-07-01T19:21:34.398551Z"
    },
    "papermill": {
     "duration": 0.048983,
     "end_time": "2022-07-01T19:35:41.981884",
     "exception": false,
     "start_time": "2022-07-01T19:35:41.932901",
     "status": "completed"
    },
    "tags": []
   },
   "outputs": [
    {
     "data": {
      "text/plain": [
       "((141, 2), (191, 2))"
      ]
     },
     "execution_count": 10,
     "metadata": {},
     "output_type": "execute_result"
    }
   ],
   "source": [
    "mike_20_june_samar.shape,mike_20_june_new.shape"
   ]
  },
  {
   "cell_type": "code",
   "execution_count": 11,
   "id": "86363241",
   "metadata": {
    "execution": {
     "iopub.execute_input": "2022-07-01T19:35:42.069395Z",
     "iopub.status.busy": "2022-07-01T19:35:42.068791Z",
     "iopub.status.idle": "2022-07-01T19:35:42.081515Z",
     "shell.execute_reply": "2022-07-01T19:35:42.081078Z",
     "shell.execute_reply.started": "2022-07-01T19:21:34.497056Z"
    },
    "papermill": {
     "duration": 0.058627,
     "end_time": "2022-07-01T19:35:42.081632",
     "exception": false,
     "start_time": "2022-07-01T19:35:42.023005",
     "status": "completed"
    },
    "tags": []
   },
   "outputs": [
    {
     "data": {
      "text/plain": [
       "(315, 4)"
      ]
     },
     "execution_count": 11,
     "metadata": {},
     "output_type": "execute_result"
    }
   ],
   "source": [
    "trainn=pd.read_csv(\"../input/frenchcefr/french dataset.csv\")\n",
    "trainn.shape"
   ]
  },
  {
   "cell_type": "code",
   "execution_count": null,
   "id": "21231713",
   "metadata": {
    "papermill": {
     "duration": 0.041615,
     "end_time": "2022-07-01T19:35:42.166212",
     "exception": false,
     "start_time": "2022-07-01T19:35:42.124597",
     "status": "completed"
    },
    "tags": []
   },
   "outputs": [],
   "source": []
  },
  {
   "cell_type": "code",
   "execution_count": null,
   "id": "82760f77",
   "metadata": {
    "papermill": {
     "duration": 0.041319,
     "end_time": "2022-07-01T19:35:42.249396",
     "exception": false,
     "start_time": "2022-07-01T19:35:42.208077",
     "status": "completed"
    },
    "tags": []
   },
   "outputs": [],
   "source": []
  },
  {
   "cell_type": "code",
   "execution_count": null,
   "id": "35fa26bd",
   "metadata": {
    "papermill": {
     "duration": 0.042005,
     "end_time": "2022-07-01T19:35:42.332935",
     "exception": false,
     "start_time": "2022-07-01T19:35:42.290930",
     "status": "completed"
    },
    "tags": []
   },
   "outputs": [],
   "source": []
  },
  {
   "cell_type": "markdown",
   "id": "08868369",
   "metadata": {
    "papermill": {
     "duration": 0.041763,
     "end_time": "2022-07-01T19:35:42.417124",
     "exception": false,
     "start_time": "2022-07-01T19:35:42.375361",
     "status": "completed"
    },
    "tags": []
   },
   "source": [
    "****"
   ]
  },
  {
   "cell_type": "code",
   "execution_count": 12,
   "id": "191984cd",
   "metadata": {
    "execution": {
     "iopub.execute_input": "2022-07-01T19:35:42.505294Z",
     "iopub.status.busy": "2022-07-01T19:35:42.504502Z",
     "iopub.status.idle": "2022-07-01T19:35:46.201862Z",
     "shell.execute_reply": "2022-07-01T19:35:46.202367Z",
     "shell.execute_reply.started": "2022-07-01T19:21:34.648486Z"
    },
    "papermill": {
     "duration": 3.743611,
     "end_time": "2022-07-01T19:35:46.202534",
     "exception": false,
     "start_time": "2022-07-01T19:35:42.458923",
     "status": "completed"
    },
    "tags": []
   },
   "outputs": [
    {
     "data": {
      "application/vnd.jupyter.widget-view+json": {
       "model_id": "70954bb8da474f28b193b27552e70ac3",
       "version_major": 2,
       "version_minor": 0
      },
      "text/plain": [
       "Downloading:   0%|          | 0.00/420 [00:00<?, ?B/s]"
      ]
     },
     "metadata": {},
     "output_type": "display_data"
    },
    {
     "data": {
      "application/vnd.jupyter.widget-view+json": {
       "model_id": "988bb20dd6fa450ab252ee913f0291fc",
       "version_major": 2,
       "version_minor": 0
      },
      "text/plain": [
       "Downloading:   0%|          | 0.00/227k [00:00<?, ?B/s]"
      ]
     },
     "metadata": {},
     "output_type": "display_data"
    },
    {
     "data": {
      "application/vnd.jupyter.widget-view+json": {
       "model_id": "a6e233ea961e459e919bfb2366182a10",
       "version_major": 2,
       "version_minor": 0
      },
      "text/plain": [
       "Downloading:   0%|          | 0.00/83.0 [00:00<?, ?B/s]"
      ]
     },
     "metadata": {},
     "output_type": "display_data"
    }
   ],
   "source": [
    "model_name = \"dbmdz/bert-base-french-europeana-cased\"\n",
    "\n",
    "tokenizer = AutoTokenizer.from_pretrained(model_name)\n",
    "\n",
    "device = torch.device(\"cuda\" if torch.cuda.is_available() else \"cpu\")"
   ]
  },
  {
   "cell_type": "code",
   "execution_count": 13,
   "id": "e2a3f962",
   "metadata": {
    "execution": {
     "iopub.execute_input": "2022-07-01T19:35:46.294363Z",
     "iopub.status.busy": "2022-07-01T19:35:46.293510Z",
     "iopub.status.idle": "2022-07-01T19:35:46.295245Z",
     "shell.execute_reply": "2022-07-01T19:35:46.295680Z",
     "shell.execute_reply.started": "2022-07-01T19:21:36.866327Z"
    },
    "papermill": {
     "duration": 0.049917,
     "end_time": "2022-07-01T19:35:46.295816",
     "exception": false,
     "start_time": "2022-07-01T19:35:46.245899",
     "status": "completed"
    },
    "tags": []
   },
   "outputs": [],
   "source": [
    "lr = 2e-5\n",
    "epochs =  6\n",
    "batch_size = 5\n",
    "max_seq_len = 75\n",
    "\n",
    "test_frac = 0.1"
   ]
  },
  {
   "cell_type": "code",
   "execution_count": 14,
   "id": "1aa5b4c6",
   "metadata": {
    "execution": {
     "iopub.execute_input": "2022-07-01T19:35:46.387148Z",
     "iopub.status.busy": "2022-07-01T19:35:46.386550Z",
     "iopub.status.idle": "2022-07-01T19:35:46.391574Z",
     "shell.execute_reply": "2022-07-01T19:35:46.391007Z",
     "shell.execute_reply.started": "2022-07-01T19:21:36.874747Z"
    },
    "papermill": {
     "duration": 0.053762,
     "end_time": "2022-07-01T19:35:46.391684",
     "exception": false,
     "start_time": "2022-07-01T19:35:46.337922",
     "status": "completed"
    },
    "tags": []
   },
   "outputs": [],
   "source": [
    "import os\n",
    "\n",
    "def set_seed(seed=106052):\n",
    "    \"\"\"Set seed for reproducibility.\n",
    "    \"\"\"\n",
    "    random.seed(seed)\n",
    "    np.random.seed(seed)\n",
    "    torch.manual_seed(seed)\n",
    "    torch.cuda.manual_seed_all(seed)\n",
    "    \n",
    "    os.environ['PYTHONHASHSEED'] = str(seed)\n",
    "    \n",
    "set_seed()"
   ]
  },
  {
   "cell_type": "code",
   "execution_count": 15,
   "id": "f0c13df0",
   "metadata": {
    "execution": {
     "iopub.execute_input": "2022-07-01T19:35:46.480888Z",
     "iopub.status.busy": "2022-07-01T19:35:46.480082Z",
     "iopub.status.idle": "2022-07-01T19:35:46.488331Z",
     "shell.execute_reply": "2022-07-01T19:35:46.487852Z",
     "shell.execute_reply.started": "2022-07-01T19:21:36.891356Z"
    },
    "papermill": {
     "duration": 0.053753,
     "end_time": "2022-07-01T19:35:46.488447",
     "exception": false,
     "start_time": "2022-07-01T19:35:46.434694",
     "status": "completed"
    },
    "tags": []
   },
   "outputs": [],
   "source": [
    "class CEFRDataset(Dataset):\n",
    "    \"\"\"Classification dataset, built on top of pytorch dataset object\n",
    "    \"\"\"\n",
    "    \n",
    "    def __init__(self, texts, labels):\n",
    "        \n",
    "        self.encoder = LabelEncoder()\n",
    "        print(self.encoder.__dict__)\n",
    "        self.texts = texts\n",
    "        self.labels = self.encoder.fit_transform(labels)\n",
    "\n",
    "    def __len__(self):\n",
    "        return len(self.texts)\n",
    "\n",
    "    def __getitem__(self, index):\n",
    "        text = self.texts[index]\n",
    "        label = self.labels[index]\n",
    "        encoded_text = tokenizer(\n",
    "            text,\n",
    "            padding=\"max_length\",\n",
    "            max_length=max_seq_len,\n",
    "            truncation=True,\n",
    "            return_tensors=\"pt\",\n",
    "        )\n",
    "        encoded_text[\"input_ids\"] = encoded_text[\"input_ids\"].squeeze()\n",
    "        encoded_text[\"attention_mask\"] = encoded_text[\"attention_mask\"].squeeze()\n",
    "        label = torch.tensor(label)\n",
    "\n",
    "        return {\n",
    "            \"input_ids\": encoded_text[\"input_ids\"],\n",
    "            \"attention_mask\": encoded_text[\"attention_mask\"],\n",
    "            \"labels\": label,\n",
    "        }\n",
    "\n",
    "    def get_labels(self):\n",
    "        return self.labels"
   ]
  },
  {
   "cell_type": "code",
   "execution_count": 16,
   "id": "04129548",
   "metadata": {
    "execution": {
     "iopub.execute_input": "2022-07-01T19:35:46.637833Z",
     "iopub.status.busy": "2022-07-01T19:35:46.636853Z",
     "iopub.status.idle": "2022-07-01T19:35:46.641680Z",
     "shell.execute_reply": "2022-07-01T19:35:46.642447Z",
     "shell.execute_reply.started": "2022-07-01T19:21:36.905128Z"
    },
    "papermill": {
     "duration": 0.099526,
     "end_time": "2022-07-01T19:35:46.642654",
     "exception": false,
     "start_time": "2022-07-01T19:35:46.543128",
     "status": "completed"
    },
    "tags": []
   },
   "outputs": [],
   "source": [
    "def train(train_set, valid_set, epochs=10, warmup_size=0.1, lr=1e-3, batch_size=16):\n",
    "    model = get_model(model_name)\n",
    "    optim = AdamW(model.parameters(), lr=lr)\n",
    "    scheduler = get_scheduler(\n",
    "        optim, warmup_size, round(len(train_set) / batch_size * epochs)\n",
    "    )\n",
    "    training_args = get_training_args(epochs, batch_size)\n",
    "    trainer = Trainer(\n",
    "        model=model,\n",
    "        args=training_args,\n",
    "        train_dataset=train_set,\n",
    "        eval_dataset=valid_set,\n",
    "        optimizers=[optim, scheduler],\n",
    "        compute_metrics=compute_accuracy,\n",
    "    )\n",
    "    trainer.train()\n",
    "    trainer.save_model()\n",
    "    return trainer"
   ]
  },
  {
   "cell_type": "code",
   "execution_count": 17,
   "id": "b24f0317",
   "metadata": {
    "execution": {
     "iopub.execute_input": "2022-07-01T19:35:46.813618Z",
     "iopub.status.busy": "2022-07-01T19:35:46.812731Z",
     "iopub.status.idle": "2022-07-01T19:35:46.815020Z",
     "shell.execute_reply": "2022-07-01T19:35:46.814364Z",
     "shell.execute_reply.started": "2022-07-01T19:21:36.922008Z"
    },
    "papermill": {
     "duration": 0.087714,
     "end_time": "2022-07-01T19:35:46.815190",
     "exception": false,
     "start_time": "2022-07-01T19:35:46.727476",
     "status": "completed"
    },
    "tags": []
   },
   "outputs": [],
   "source": [
    "def get_model(pretrained_checkpoint):\n",
    "    model = AutoModelForSequenceClassification.from_pretrained(\n",
    "        pretrained_checkpoint, num_labels=6\n",
    "    )\n",
    "    return model.to(device)"
   ]
  },
  {
   "cell_type": "code",
   "execution_count": 18,
   "id": "8cb9ef2e",
   "metadata": {
    "execution": {
     "iopub.execute_input": "2022-07-01T19:35:46.969377Z",
     "iopub.status.busy": "2022-07-01T19:35:46.968568Z",
     "iopub.status.idle": "2022-07-01T19:35:46.972566Z",
     "shell.execute_reply": "2022-07-01T19:35:46.973175Z",
     "shell.execute_reply.started": "2022-07-01T19:21:36.934664Z"
    },
    "papermill": {
     "duration": 0.086017,
     "end_time": "2022-07-01T19:35:46.973372",
     "exception": false,
     "start_time": "2022-07-01T19:35:46.887355",
     "status": "completed"
    },
    "tags": []
   },
   "outputs": [],
   "source": [
    "os.environ[\"WANDB_DISABLED\"] = \"true\"\n",
    "\n",
    "\n",
    "def get_scheduler(optimizer, warmup_size, total_steps):\n",
    "    scheduler = get_cosine_schedule_with_warmup(\n",
    "        optimizer,\n",
    "        num_warmup_steps=round(total_steps * warmup_size),\n",
    "        num_training_steps=total_steps,\n",
    "    )\n",
    "    return scheduler\n",
    "\n",
    "\n",
    "def get_training_args(epochs, batch_size):\n",
    "    return TrainingArguments(\n",
    "        output_dir=\"./b\",\n",
    "        num_train_epochs=epochs,\n",
    "        per_device_train_batch_size=batch_size,\n",
    "        logging_steps=50,\n",
    "        fp16=False,\n",
    "        evaluation_strategy=\"epoch\",\n",
    "        eval_accumulation_steps=1,\n",
    "        report_to=None,\n",
    "        save_total_limit=1,\n",
    "        load_best_model_at_end=True\n",
    "    )\n",
    "\n",
    "\n",
    "def compute_accuracy(pred):\n",
    "    labels = pred.label_ids\n",
    "    preds = pred.predictions.argmax(-1)\n",
    "    acc = accuracy_score(labels, preds)\n",
    "    return {\"accuracy\": acc}\n",
    "\n"
   ]
  },
  {
   "cell_type": "code",
   "execution_count": 19,
   "id": "d1031aaf",
   "metadata": {
    "execution": {
     "iopub.execute_input": "2022-07-01T19:35:47.108521Z",
     "iopub.status.busy": "2022-07-01T19:35:47.107382Z",
     "iopub.status.idle": "2022-07-01T19:35:47.109291Z",
     "shell.execute_reply": "2022-07-01T19:35:47.109809Z",
     "shell.execute_reply.started": "2022-07-01T19:21:36.946206Z"
    },
    "papermill": {
     "duration": 0.065749,
     "end_time": "2022-07-01T19:35:47.109988",
     "exception": false,
     "start_time": "2022-07-01T19:35:47.044239",
     "status": "completed"
    },
    "tags": []
   },
   "outputs": [],
   "source": [
    "lr = 2e-5\n",
    "epochs =  7\n",
    "batch_size = 8\n",
    "max_seq_len = 512"
   ]
  },
  {
   "cell_type": "code",
   "execution_count": 20,
   "id": "2e66b14e",
   "metadata": {
    "execution": {
     "iopub.execute_input": "2022-07-01T19:35:47.204084Z",
     "iopub.status.busy": "2022-07-01T19:35:47.203161Z",
     "iopub.status.idle": "2022-07-01T19:35:47.205681Z",
     "shell.execute_reply": "2022-07-01T19:35:47.205254Z",
     "shell.execute_reply.started": "2022-07-01T19:21:36.960422Z"
    },
    "papermill": {
     "duration": 0.052088,
     "end_time": "2022-07-01T19:35:47.205783",
     "exception": false,
     "start_time": "2022-07-01T19:35:47.153695",
     "status": "completed"
    },
    "tags": []
   },
   "outputs": [],
   "source": [
    "def split_valid(df, frac=0.01):\n",
    "    \n",
    "    val = pd.DataFrame()\n",
    "    val[\"text\"] = \"\"\n",
    "    val[\"label\"] = -1\n",
    "    \n",
    "    for i in df.label.unique():\n",
    "        val = pd.concat([val, df[df.label == i].sample(frac=frac)])\n",
    "        \n",
    "    return df[~df.index.isin(val.index)].reset_index(drop=True) , val.reset_index(drop=True)"
   ]
  },
  {
   "cell_type": "code",
   "execution_count": null,
   "id": "d92440f5",
   "metadata": {
    "papermill": {
     "duration": 0.048026,
     "end_time": "2022-07-01T19:35:47.298395",
     "exception": false,
     "start_time": "2022-07-01T19:35:47.250369",
     "status": "completed"
    },
    "tags": []
   },
   "outputs": [],
   "source": []
  },
  {
   "cell_type": "code",
   "execution_count": 21,
   "id": "1d871c2d",
   "metadata": {
    "execution": {
     "iopub.execute_input": "2022-07-01T19:35:47.390982Z",
     "iopub.status.busy": "2022-07-01T19:35:47.390187Z",
     "iopub.status.idle": "2022-07-01T19:35:47.392157Z",
     "shell.execute_reply": "2022-07-01T19:35:47.392562Z",
     "shell.execute_reply.started": "2022-07-01T19:21:36.971986Z"
    },
    "papermill": {
     "duration": 0.04956,
     "end_time": "2022-07-01T19:35:47.392684",
     "exception": false,
     "start_time": "2022-07-01T19:35:47.343124",
     "status": "completed"
    },
    "tags": []
   },
   "outputs": [],
   "source": [
    "# train_set_df = pd.read_csv(\"../input/newdatasets/mike_20_june_new (1).csv\")\n",
    "# train_set_df"
   ]
  },
  {
   "cell_type": "code",
   "execution_count": 22,
   "id": "42567553",
   "metadata": {
    "execution": {
     "iopub.execute_input": "2022-07-01T19:35:47.485909Z",
     "iopub.status.busy": "2022-07-01T19:35:47.485152Z",
     "iopub.status.idle": "2022-07-01T19:35:47.487889Z",
     "shell.execute_reply": "2022-07-01T19:35:47.488425Z",
     "shell.execute_reply.started": "2022-07-01T19:21:36.982343Z"
    },
    "papermill": {
     "duration": 0.052755,
     "end_time": "2022-07-01T19:35:47.488559",
     "exception": false,
     "start_time": "2022-07-01T19:35:47.435804",
     "status": "completed"
    },
    "tags": []
   },
   "outputs": [
    {
     "data": {
      "text/html": [
       "<div>\n",
       "<style scoped>\n",
       "    .dataframe tbody tr th:only-of-type {\n",
       "        vertical-align: middle;\n",
       "    }\n",
       "\n",
       "    .dataframe tbody tr th {\n",
       "        vertical-align: top;\n",
       "    }\n",
       "\n",
       "    .dataframe thead th {\n",
       "        text-align: right;\n",
       "    }\n",
       "</style>\n",
       "<table border=\"1\" class=\"dataframe\">\n",
       "  <thead>\n",
       "    <tr style=\"text-align: right;\">\n",
       "      <th></th>\n",
       "      <th>text</th>\n",
       "      <th>label</th>\n",
       "    </tr>\n",
       "  </thead>\n",
       "  <tbody>\n",
       "    <tr>\n",
       "      <th>0</th>\n",
       "      <td>En 1815, M. Charles-François-Bienvenu Myriel é...</td>\n",
       "      <td>A2</td>\n",
       "    </tr>\n",
       "    <tr>\n",
       "      <th>1</th>\n",
       "      <td>Quoique ce détail ne touche en aucune manière ...</td>\n",
       "      <td>C1</td>\n",
       "    </tr>\n",
       "  </tbody>\n",
       "</table>\n",
       "</div>"
      ],
      "text/plain": [
       "                                                text label\n",
       "0  En 1815, M. Charles-François-Bienvenu Myriel é...    A2\n",
       "1  Quoique ce détail ne touche en aucune manière ...    C1"
      ]
     },
     "execution_count": 22,
     "metadata": {},
     "output_type": "execute_result"
    }
   ],
   "source": [
    "mike_20_june_new.head(2)"
   ]
  },
  {
   "cell_type": "code",
   "execution_count": 23,
   "id": "0736c741",
   "metadata": {
    "execution": {
     "iopub.execute_input": "2022-07-01T19:35:47.580627Z",
     "iopub.status.busy": "2022-07-01T19:35:47.579981Z",
     "iopub.status.idle": "2022-07-01T19:35:47.582649Z",
     "shell.execute_reply": "2022-07-01T19:35:47.583082Z",
     "shell.execute_reply.started": "2022-07-01T19:21:37.001947Z"
    },
    "papermill": {
     "duration": 0.050607,
     "end_time": "2022-07-01T19:35:47.583219",
     "exception": false,
     "start_time": "2022-07-01T19:35:47.532612",
     "status": "completed"
    },
    "tags": []
   },
   "outputs": [
    {
     "data": {
      "text/plain": [
       "(191, 2)"
      ]
     },
     "execution_count": 23,
     "metadata": {},
     "output_type": "execute_result"
    }
   ],
   "source": [
    "mike_20_june_new.shape"
   ]
  },
  {
   "cell_type": "code",
   "execution_count": 24,
   "id": "24cd5c7f",
   "metadata": {
    "execution": {
     "iopub.execute_input": "2022-07-01T19:35:47.673883Z",
     "iopub.status.busy": "2022-07-01T19:35:47.673383Z",
     "iopub.status.idle": "2022-07-01T19:35:47.687664Z",
     "shell.execute_reply": "2022-07-01T19:35:47.687207Z",
     "shell.execute_reply.started": "2022-07-01T19:21:37.013909Z"
    },
    "papermill": {
     "duration": 0.061119,
     "end_time": "2022-07-01T19:35:47.687773",
     "exception": false,
     "start_time": "2022-07-01T19:35:47.626654",
     "status": "completed"
    },
    "tags": []
   },
   "outputs": [],
   "source": [
    "new=pd.read_csv(\"../input/lingua/fr_lingua.csv\")"
   ]
  },
  {
   "cell_type": "code",
   "execution_count": 25,
   "id": "9e39b200",
   "metadata": {
    "execution": {
     "iopub.execute_input": "2022-07-01T19:35:47.778864Z",
     "iopub.status.busy": "2022-07-01T19:35:47.778093Z",
     "iopub.status.idle": "2022-07-01T19:35:47.780110Z",
     "shell.execute_reply": "2022-07-01T19:35:47.780508Z",
     "shell.execute_reply.started": "2022-07-01T19:21:37.034763Z"
    },
    "papermill": {
     "duration": 0.04926,
     "end_time": "2022-07-01T19:35:47.780633",
     "exception": false,
     "start_time": "2022-07-01T19:35:47.731373",
     "status": "completed"
    },
    "tags": []
   },
   "outputs": [],
   "source": [
    "new.columns=[\"text\",\"label\"]"
   ]
  },
  {
   "cell_type": "code",
   "execution_count": 26,
   "id": "e50e5dfe",
   "metadata": {
    "execution": {
     "iopub.execute_input": "2022-07-01T19:35:47.870780Z",
     "iopub.status.busy": "2022-07-01T19:35:47.869880Z",
     "iopub.status.idle": "2022-07-01T19:35:47.879259Z",
     "shell.execute_reply": "2022-07-01T19:35:47.879704Z",
     "shell.execute_reply.started": "2022-07-01T19:21:37.046609Z"
    },
    "papermill": {
     "duration": 0.056229,
     "end_time": "2022-07-01T19:35:47.879826",
     "exception": false,
     "start_time": "2022-07-01T19:35:47.823597",
     "status": "completed"
    },
    "tags": []
   },
   "outputs": [
    {
     "data": {
      "text/plain": [
       "((315, 2),\n",
       "                                                 text label\n",
       " 0  Il était une fois un prince qui voulait épouse...    A2\n",
       " 1  Il fit le tour de la Terre pour en trouver une...    B1)"
      ]
     },
     "execution_count": 26,
     "metadata": {},
     "output_type": "execute_result"
    }
   ],
   "source": [
    "french=pd.read_csv(\"../input/frenchcefr/french dataset.csv\")\n",
    "french=french[[\"text\",\"label\"]]\n",
    "french.shape,french.head(2)\n"
   ]
  },
  {
   "cell_type": "code",
   "execution_count": 27,
   "id": "98e48d04",
   "metadata": {
    "execution": {
     "iopub.execute_input": "2022-07-01T19:35:47.970998Z",
     "iopub.status.busy": "2022-07-01T19:35:47.970176Z",
     "iopub.status.idle": "2022-07-01T19:35:47.973843Z",
     "shell.execute_reply": "2022-07-01T19:35:47.973433Z",
     "shell.execute_reply.started": "2022-07-01T19:21:37.065126Z"
    },
    "papermill": {
     "duration": 0.050249,
     "end_time": "2022-07-01T19:35:47.973956",
     "exception": false,
     "start_time": "2022-07-01T19:35:47.923707",
     "status": "completed"
    },
    "tags": []
   },
   "outputs": [],
   "source": [
    "# train_set_df=pd.concat([french, mike_20_june_new,new], ignore_index=True)"
   ]
  },
  {
   "cell_type": "code",
   "execution_count": 28,
   "id": "a0df4e36",
   "metadata": {
    "execution": {
     "iopub.execute_input": "2022-07-01T19:35:48.069092Z",
     "iopub.status.busy": "2022-07-01T19:35:48.068464Z",
     "iopub.status.idle": "2022-07-01T19:35:48.098903Z",
     "shell.execute_reply": "2022-07-01T19:35:48.099807Z",
     "shell.execute_reply.started": "2022-07-01T19:21:37.075509Z"
    },
    "papermill": {
     "duration": 0.081389,
     "end_time": "2022-07-01T19:35:48.099981",
     "exception": false,
     "start_time": "2022-07-01T19:35:48.018592",
     "status": "completed"
    },
    "tags": []
   },
   "outputs": [],
   "source": [
    "from sklearn import preprocessing\n",
    "le = preprocessing.LabelEncoder()\n",
    "\n",
    "train_set_df = pd.read_csv(\"../input/newdatasets/mike_20_june_new (1).csv\")\n",
    "train_set_df = train_set_df[train_set_df.label != \"XX\"]\n",
    "train_set_df = train_set_df[[\"text\", \"label\"]]\n",
    "\n",
    "train_set_df.text = train_set_df.text.apply(lambda x: x.replace(\"\\r\", \"\").replace(\"\\n\", \" \"))\n",
    "\n",
    "extra_df = pd.read_csv(\"../input/frenchcefr/french_mike_june.csv\")\n",
    "extra_df.columns = [\"text\", \"label\", \"label_\"]\n",
    "extra_df = extra_df[[\"text\", \"label\"]]\n",
    "extra_df.text = extra_df.text.astype(str)\n",
    "#train_set_df = pd.concat([train_set_df, extra_df]).reset_index(drop=True)\n",
    "\n",
    "train_set_df, valid_set_df = split_valid(train_set_df)"
   ]
  },
  {
   "cell_type": "code",
   "execution_count": 29,
   "id": "80999aa5",
   "metadata": {
    "execution": {
     "iopub.execute_input": "2022-07-01T19:35:48.193106Z",
     "iopub.status.busy": "2022-07-01T19:35:48.191910Z",
     "iopub.status.idle": "2022-07-01T19:35:48.196625Z",
     "shell.execute_reply": "2022-07-01T19:35:48.197049Z",
     "shell.execute_reply.started": "2022-07-01T19:21:37.108494Z"
    },
    "papermill": {
     "duration": 0.052747,
     "end_time": "2022-07-01T19:35:48.197193",
     "exception": false,
     "start_time": "2022-07-01T19:35:48.144446",
     "status": "completed"
    },
    "tags": []
   },
   "outputs": [
    {
     "data": {
      "text/plain": [
       "array(['A2', 'C1', 'B2', 'A1', 'B1', 'C2'], dtype=object)"
      ]
     },
     "execution_count": 29,
     "metadata": {},
     "output_type": "execute_result"
    }
   ],
   "source": [
    "train_set_df.label.unique()"
   ]
  },
  {
   "cell_type": "code",
   "execution_count": 30,
   "id": "65b6e64a",
   "metadata": {
    "execution": {
     "iopub.execute_input": "2022-07-01T19:35:48.288379Z",
     "iopub.status.busy": "2022-07-01T19:35:48.287639Z",
     "iopub.status.idle": "2022-07-01T19:35:48.290003Z",
     "shell.execute_reply": "2022-07-01T19:35:48.289579Z",
     "shell.execute_reply.started": "2022-07-01T19:21:37.119219Z"
    },
    "papermill": {
     "duration": 0.049828,
     "end_time": "2022-07-01T19:35:48.290137",
     "exception": false,
     "start_time": "2022-07-01T19:35:48.240309",
     "status": "completed"
    },
    "tags": []
   },
   "outputs": [],
   "source": [
    "train_set_df.label = le.fit_transform(train_set_df.label)\n",
    "valid_set_df.label = le.transform(valid_set_df.label)"
   ]
  },
  {
   "cell_type": "code",
   "execution_count": 31,
   "id": "d7c52d2f",
   "metadata": {
    "execution": {
     "iopub.execute_input": "2022-07-01T19:35:48.382904Z",
     "iopub.status.busy": "2022-07-01T19:35:48.382277Z",
     "iopub.status.idle": "2022-07-01T19:35:48.384759Z",
     "shell.execute_reply": "2022-07-01T19:35:48.385212Z",
     "shell.execute_reply.started": "2022-07-01T19:21:37.132331Z"
    },
    "papermill": {
     "duration": 0.051921,
     "end_time": "2022-07-01T19:35:48.385336",
     "exception": false,
     "start_time": "2022-07-01T19:35:48.333415",
     "status": "completed"
    },
    "tags": []
   },
   "outputs": [
    {
     "data": {
      "text/plain": [
       "6"
      ]
     },
     "execution_count": 31,
     "metadata": {},
     "output_type": "execute_result"
    }
   ],
   "source": [
    "train_set_df.label.nunique()"
   ]
  },
  {
   "cell_type": "code",
   "execution_count": 32,
   "id": "1172904d",
   "metadata": {
    "execution": {
     "iopub.execute_input": "2022-07-01T19:35:48.481453Z",
     "iopub.status.busy": "2022-07-01T19:35:48.480837Z",
     "iopub.status.idle": "2022-07-01T19:35:48.483471Z",
     "shell.execute_reply": "2022-07-01T19:35:48.483884Z",
     "shell.execute_reply.started": "2022-07-01T19:21:37.148782Z"
    },
    "papermill": {
     "duration": 0.053005,
     "end_time": "2022-07-01T19:35:48.484017",
     "exception": false,
     "start_time": "2022-07-01T19:35:48.431012",
     "status": "completed"
    },
    "tags": []
   },
   "outputs": [
    {
     "data": {
      "text/plain": [
       "4    57\n",
       "0    41\n",
       "3    33\n",
       "2    29\n",
       "1    24\n",
       "5     6\n",
       "Name: label, dtype: int64"
      ]
     },
     "execution_count": 32,
     "metadata": {},
     "output_type": "execute_result"
    }
   ],
   "source": [
    "train_set_df.label.value_counts()"
   ]
  },
  {
   "cell_type": "code",
   "execution_count": 33,
   "id": "6cb53f6b",
   "metadata": {
    "execution": {
     "iopub.execute_input": "2022-07-01T19:35:48.579250Z",
     "iopub.status.busy": "2022-07-01T19:35:48.578542Z",
     "iopub.status.idle": "2022-07-01T19:35:48.581318Z",
     "shell.execute_reply": "2022-07-01T19:35:48.581823Z",
     "shell.execute_reply.started": "2022-07-01T19:21:37.159589Z"
    },
    "papermill": {
     "duration": 0.053127,
     "end_time": "2022-07-01T19:35:48.581975",
     "exception": false,
     "start_time": "2022-07-01T19:35:48.528848",
     "status": "completed"
    },
    "tags": []
   },
   "outputs": [
    {
     "data": {
      "text/plain": [
       "1"
      ]
     },
     "execution_count": 33,
     "metadata": {},
     "output_type": "execute_result"
    }
   ],
   "source": [
    "valid_set_df.label.nunique()"
   ]
  },
  {
   "cell_type": "code",
   "execution_count": 34,
   "id": "d31b261d",
   "metadata": {
    "execution": {
     "iopub.execute_input": "2022-07-01T19:35:48.676580Z",
     "iopub.status.busy": "2022-07-01T19:35:48.675737Z",
     "iopub.status.idle": "2022-07-01T19:35:48.677569Z",
     "shell.execute_reply": "2022-07-01T19:35:48.678009Z",
     "shell.execute_reply.started": "2022-07-01T19:21:37.171436Z"
    },
    "papermill": {
     "duration": 0.050644,
     "end_time": "2022-07-01T19:35:48.678173",
     "exception": false,
     "start_time": "2022-07-01T19:35:48.627529",
     "status": "completed"
    },
    "tags": []
   },
   "outputs": [],
   "source": [
    "# train_set_df = train_set_df.sample(frac=1)"
   ]
  },
  {
   "cell_type": "code",
   "execution_count": 35,
   "id": "cad905dc",
   "metadata": {
    "execution": {
     "iopub.execute_input": "2022-07-01T19:35:48.779154Z",
     "iopub.status.busy": "2022-07-01T19:35:48.778388Z",
     "iopub.status.idle": "2022-07-01T19:35:48.780792Z",
     "shell.execute_reply": "2022-07-01T19:35:48.780386Z",
     "shell.execute_reply.started": "2022-07-01T19:21:37.186875Z"
    },
    "papermill": {
     "duration": 0.056267,
     "end_time": "2022-07-01T19:35:48.780898",
     "exception": false,
     "start_time": "2022-07-01T19:35:48.724631",
     "status": "completed"
    },
    "tags": []
   },
   "outputs": [],
   "source": [
    "from tqdm import tqdm \n",
    "\n",
    "def predict(model, text):\n",
    "    \n",
    "    preds = []\n",
    "    \n",
    "    for i in tqdm(range(len(text))):\n",
    "        tokenized = tokenizer(text[i:i+1], return_tensors=\"pt\", truncation=True, max_length=512).to(\"cuda\")\n",
    "        pred = model(**tokenized)\n",
    "        preds.append(pred.logits.argmax(-1).item())\n",
    "\n",
    "    return preds"
   ]
  },
  {
   "cell_type": "code",
   "execution_count": null,
   "id": "10748851",
   "metadata": {
    "papermill": {
     "duration": 0.044308,
     "end_time": "2022-07-01T19:35:48.868896",
     "exception": false,
     "start_time": "2022-07-01T19:35:48.824588",
     "status": "completed"
    },
    "tags": []
   },
   "outputs": [],
   "source": []
  },
  {
   "cell_type": "code",
   "execution_count": 36,
   "id": "e7a1cd1e",
   "metadata": {
    "execution": {
     "iopub.execute_input": "2022-07-01T19:35:48.961779Z",
     "iopub.status.busy": "2022-07-01T19:35:48.960827Z",
     "iopub.status.idle": "2022-07-01T19:38:18.443681Z",
     "shell.execute_reply": "2022-07-01T19:38:18.444172Z",
     "shell.execute_reply.started": "2022-07-01T19:21:37.196455Z"
    },
    "papermill": {
     "duration": 149.531644,
     "end_time": "2022-07-01T19:38:18.444358",
     "exception": false,
     "start_time": "2022-07-01T19:35:48.912714",
     "status": "completed"
    },
    "tags": []
   },
   "outputs": [
    {
     "name": "stdout",
     "output_type": "stream",
     "text": [
      "{}\n",
      "{}\n"
     ]
    },
    {
     "data": {
      "application/vnd.jupyter.widget-view+json": {
       "model_id": "0395d017f34147db99c6365c7a2e1504",
       "version_major": 2,
       "version_minor": 0
      },
      "text/plain": [
       "Downloading:   0%|          | 0.00/445M [00:00<?, ?B/s]"
      ]
     },
     "metadata": {},
     "output_type": "display_data"
    },
    {
     "name": "stderr",
     "output_type": "stream",
     "text": [
      "Some weights of the model checkpoint at dbmdz/bert-base-french-europeana-cased were not used when initializing BertForSequenceClassification: ['cls.predictions.bias', 'cls.predictions.transform.dense.weight', 'cls.predictions.transform.dense.bias', 'cls.predictions.transform.LayerNorm.weight', 'cls.predictions.transform.LayerNorm.bias', 'cls.predictions.decoder.weight', 'cls.predictions.decoder.bias', 'cls.seq_relationship.weight', 'cls.seq_relationship.bias']\n",
      "- This IS expected if you are initializing BertForSequenceClassification from the checkpoint of a model trained on another task or with another architecture (e.g. initializing a BertForSequenceClassification model from a BertForPreTraining model).\n",
      "- This IS NOT expected if you are initializing BertForSequenceClassification from the checkpoint of a model that you expect to be exactly identical (initializing a BertForSequenceClassification model from a BertForSequenceClassification model).\n",
      "Some weights of BertForSequenceClassification were not initialized from the model checkpoint at dbmdz/bert-base-french-europeana-cased and are newly initialized: ['classifier.weight', 'classifier.bias']\n",
      "You should probably TRAIN this model on a down-stream task to be able to use it for predictions and inference.\n",
      "Using the `WAND_DISABLED` environment variable is deprecated and will be removed in v5. Use the --report_to flag to control the integrations used for logging result (for instance --report_to none).\n"
     ]
    },
    {
     "data": {
      "text/html": [
       "\n",
       "    <div>\n",
       "        <style>\n",
       "            /* Turns off some styling */\n",
       "            progress {\n",
       "                /* gets rid of default border in Firefox and Opera. */\n",
       "                border: none;\n",
       "                /* Needs to be in here for Safari polyfill so background images work as expected. */\n",
       "                background-size: auto;\n",
       "            }\n",
       "        </style>\n",
       "      \n",
       "      <progress value='168' max='168' style='width:300px; height:20px; vertical-align: middle;'></progress>\n",
       "      [168/168 01:56, Epoch 7/7]\n",
       "    </div>\n",
       "    <table border=\"1\" class=\"dataframe\">\n",
       "  <thead>\n",
       "    <tr style=\"text-align: left;\">\n",
       "      <th>Epoch</th>\n",
       "      <th>Training Loss</th>\n",
       "      <th>Validation Loss</th>\n",
       "      <th>Accuracy</th>\n",
       "      <th>Runtime</th>\n",
       "      <th>Samples Per Second</th>\n",
       "    </tr>\n",
       "  </thead>\n",
       "  <tbody>\n",
       "    <tr>\n",
       "      <td>1</td>\n",
       "      <td>No log</td>\n",
       "      <td>2.087388</td>\n",
       "      <td>0.000000</td>\n",
       "      <td>0.043300</td>\n",
       "      <td>23.083000</td>\n",
       "    </tr>\n",
       "    <tr>\n",
       "      <td>2</td>\n",
       "      <td>No log</td>\n",
       "      <td>3.319314</td>\n",
       "      <td>0.000000</td>\n",
       "      <td>0.035600</td>\n",
       "      <td>28.107000</td>\n",
       "    </tr>\n",
       "    <tr>\n",
       "      <td>3</td>\n",
       "      <td>1.512000</td>\n",
       "      <td>4.162873</td>\n",
       "      <td>0.000000</td>\n",
       "      <td>0.031400</td>\n",
       "      <td>31.854000</td>\n",
       "    </tr>\n",
       "    <tr>\n",
       "      <td>4</td>\n",
       "      <td>1.512000</td>\n",
       "      <td>4.354156</td>\n",
       "      <td>0.000000</td>\n",
       "      <td>0.033700</td>\n",
       "      <td>29.666000</td>\n",
       "    </tr>\n",
       "    <tr>\n",
       "      <td>5</td>\n",
       "      <td>0.867000</td>\n",
       "      <td>4.624961</td>\n",
       "      <td>0.000000</td>\n",
       "      <td>0.037100</td>\n",
       "      <td>26.918000</td>\n",
       "    </tr>\n",
       "    <tr>\n",
       "      <td>6</td>\n",
       "      <td>0.867000</td>\n",
       "      <td>4.566848</td>\n",
       "      <td>0.000000</td>\n",
       "      <td>0.031200</td>\n",
       "      <td>32.017000</td>\n",
       "    </tr>\n",
       "    <tr>\n",
       "      <td>7</td>\n",
       "      <td>0.585500</td>\n",
       "      <td>4.568268</td>\n",
       "      <td>0.000000</td>\n",
       "      <td>0.034700</td>\n",
       "      <td>28.779000</td>\n",
       "    </tr>\n",
       "  </tbody>\n",
       "</table><p>"
      ],
      "text/plain": [
       "<IPython.core.display.HTML object>"
      ]
     },
     "metadata": {},
     "output_type": "display_data"
    }
   ],
   "source": [
    "train_set = CEFRDataset(train_set_df[\"text\"], train_set_df[\"label\"])\n",
    "valid_set = CEFRDataset(valid_set_df[\"text\"], valid_set_df[\"label\"])\n",
    "\n",
    "\n",
    "trainer_second = train(train_set, valid_set, epochs=epochs, warmup_size=0.2, lr=lr, batch_size=batch_size)\n",
    "model = trainer_second.model"
   ]
  },
  {
   "cell_type": "code",
   "execution_count": 37,
   "id": "1acedad3",
   "metadata": {
    "execution": {
     "iopub.execute_input": "2022-07-01T19:38:18.543808Z",
     "iopub.status.busy": "2022-07-01T19:38:18.543050Z",
     "iopub.status.idle": "2022-07-01T19:38:18.578017Z",
     "shell.execute_reply": "2022-07-01T19:38:18.577389Z",
     "shell.execute_reply.started": "2022-07-01T19:23:59.496938Z"
    },
    "papermill": {
     "duration": 0.086808,
     "end_time": "2022-07-01T19:38:18.578187",
     "exception": false,
     "start_time": "2022-07-01T19:38:18.491379",
     "status": "completed"
    },
    "tags": []
   },
   "outputs": [
    {
     "name": "stderr",
     "output_type": "stream",
     "text": [
      "100%|██████████| 1/1 [00:00<00:00, 39.90it/s]\n"
     ]
    }
   ],
   "source": [
    "valid_set_df[\"preds\"] = train_set.encoder.inverse_transform(predict(model, valid_set_df.text.tolist()))\n",
    "valid_set_df.columns = [\"text\", \"cefr\", \"preds\",] "
   ]
  },
  {
   "cell_type": "code",
   "execution_count": 38,
   "id": "c0864a38",
   "metadata": {
    "execution": {
     "iopub.execute_input": "2022-07-01T19:38:18.679895Z",
     "iopub.status.busy": "2022-07-01T19:38:18.679361Z",
     "iopub.status.idle": "2022-07-01T19:38:20.025303Z",
     "shell.execute_reply": "2022-07-01T19:38:20.024650Z",
     "shell.execute_reply.started": "2022-07-01T19:23:59.555246Z"
    },
    "papermill": {
     "duration": 1.397831,
     "end_time": "2022-07-01T19:38:20.025466",
     "exception": false,
     "start_time": "2022-07-01T19:38:18.627635",
     "status": "completed"
    },
    "tags": []
   },
   "outputs": [
    {
     "name": "stderr",
     "output_type": "stream",
     "text": [
      "100%|██████████| 111/111 [00:01<00:00, 83.76it/s]\n"
     ]
    }
   ],
   "source": [
    "lingua = pd.read_csv(\"../input/lingua/fr_lingua.csv\")\n",
    "lingua[\"preds\"] = train_set.encoder.inverse_transform(predict(model, lingua.text.tolist()))"
   ]
  },
  {
   "cell_type": "code",
   "execution_count": 39,
   "id": "324a248c",
   "metadata": {
    "execution": {
     "iopub.execute_input": "2022-07-01T19:38:20.135014Z",
     "iopub.status.busy": "2022-07-01T19:38:20.133245Z",
     "iopub.status.idle": "2022-07-01T19:38:20.135709Z",
     "shell.execute_reply": "2022-07-01T19:38:20.136236Z",
     "shell.execute_reply.started": "2022-07-01T19:24:02.873151Z"
    },
    "papermill": {
     "duration": 0.058451,
     "end_time": "2022-07-01T19:38:20.136384",
     "exception": false,
     "start_time": "2022-07-01T19:38:20.077933",
     "status": "completed"
    },
    "tags": []
   },
   "outputs": [],
   "source": [
    "# lingua.columns=[\"text\",\"len\",\"lang\",\"cefr\",\"preds\"]\n",
    "# lingua = lingua[lingua.cefr != \"XX\"]"
   ]
  },
  {
   "cell_type": "code",
   "execution_count": 40,
   "id": "f3f632cb",
   "metadata": {
    "execution": {
     "iopub.execute_input": "2022-07-01T19:38:20.246202Z",
     "iopub.status.busy": "2022-07-01T19:38:20.242212Z",
     "iopub.status.idle": "2022-07-01T19:38:20.249370Z",
     "shell.execute_reply": "2022-07-01T19:38:20.248889Z",
     "shell.execute_reply.started": "2022-07-01T19:24:02.885864Z"
    },
    "papermill": {
     "duration": 0.061503,
     "end_time": "2022-07-01T19:38:20.249488",
     "exception": false,
     "start_time": "2022-07-01T19:38:20.187985",
     "status": "completed"
    },
    "tags": []
   },
   "outputs": [
    {
     "data": {
      "text/plain": [
       "B1    60\n",
       "A2    26\n",
       "A1    13\n",
       "B2    12\n",
       "Name: cefr, dtype: int64"
      ]
     },
     "execution_count": 40,
     "metadata": {},
     "output_type": "execute_result"
    }
   ],
   "source": [
    "lingua.cefr.value_counts()"
   ]
  },
  {
   "cell_type": "code",
   "execution_count": 41,
   "id": "19ad6d7c",
   "metadata": {
    "execution": {
     "iopub.execute_input": "2022-07-01T19:38:20.358852Z",
     "iopub.status.busy": "2022-07-01T19:38:20.358223Z",
     "iopub.status.idle": "2022-07-01T19:38:20.360878Z",
     "shell.execute_reply": "2022-07-01T19:38:20.361300Z",
     "shell.execute_reply.started": "2022-07-01T19:24:04.340603Z"
    },
    "papermill": {
     "duration": 0.060749,
     "end_time": "2022-07-01T19:38:20.361440",
     "exception": false,
     "start_time": "2022-07-01T19:38:20.300691",
     "status": "completed"
    },
    "tags": []
   },
   "outputs": [
    {
     "data": {
      "text/plain": [
       "array([4])"
      ]
     },
     "execution_count": 41,
     "metadata": {},
     "output_type": "execute_result"
    }
   ],
   "source": [
    "lingua.preds.unique()"
   ]
  },
  {
   "cell_type": "code",
   "execution_count": 42,
   "id": "4c514865",
   "metadata": {
    "execution": {
     "iopub.execute_input": "2022-07-01T19:38:20.470727Z",
     "iopub.status.busy": "2022-07-01T19:38:20.469833Z",
     "iopub.status.idle": "2022-07-01T19:38:20.471976Z",
     "shell.execute_reply": "2022-07-01T19:38:20.472412Z",
     "shell.execute_reply.started": "2022-07-01T19:24:04.356815Z"
    },
    "papermill": {
     "duration": 0.059209,
     "end_time": "2022-07-01T19:38:20.472541",
     "exception": false,
     "start_time": "2022-07-01T19:38:20.413332",
     "status": "completed"
    },
    "tags": []
   },
   "outputs": [],
   "source": [
    "def compute_average_distance(df, col_name=\"cefr\") :\n",
    "    \n",
    "    labels = [\"A1\", \"A2\", \"B1\", \"B2\", \"C1\", \"C2\"]\n",
    "    return (df[col_name].apply(lambda x: labels.index(x)) - df.preds.apply(lambda x: labels.index(x))).abs().mean()\n"
   ]
  },
  {
   "cell_type": "code",
   "execution_count": 43,
   "id": "ee68c35e",
   "metadata": {
    "execution": {
     "iopub.execute_input": "2022-07-01T19:38:20.649563Z",
     "iopub.status.busy": "2022-07-01T19:38:20.648604Z",
     "iopub.status.idle": "2022-07-01T19:38:20.656558Z",
     "shell.execute_reply": "2022-07-01T19:38:20.655702Z",
     "shell.execute_reply.started": "2022-07-01T19:24:04.366465Z"
    },
    "papermill": {
     "duration": 0.116583,
     "end_time": "2022-07-01T19:38:20.656758",
     "exception": false,
     "start_time": "2022-07-01T19:38:20.540175",
     "status": "completed"
    },
    "tags": []
   },
   "outputs": [
    {
     "data": {
      "text/plain": [
       "4    111\n",
       "Name: preds, dtype: int64"
      ]
     },
     "execution_count": 43,
     "metadata": {},
     "output_type": "execute_result"
    }
   ],
   "source": [
    "lingua.preds.value_counts()"
   ]
  },
  {
   "cell_type": "code",
   "execution_count": 44,
   "id": "471b5660",
   "metadata": {
    "execution": {
     "iopub.execute_input": "2022-07-01T19:38:20.874104Z",
     "iopub.status.busy": "2022-07-01T19:38:20.873167Z",
     "iopub.status.idle": "2022-07-01T19:38:20.876519Z",
     "shell.execute_reply": "2022-07-01T19:38:20.877107Z",
     "shell.execute_reply.started": "2022-07-01T19:24:04.382739Z"
    },
    "papermill": {
     "duration": 0.097913,
     "end_time": "2022-07-01T19:38:20.877297",
     "exception": false,
     "start_time": "2022-07-01T19:38:20.779384",
     "status": "completed"
    },
    "tags": []
   },
   "outputs": [],
   "source": [
    "lingua[\"preds\"] = le.inverse_transform(lingua.preds)"
   ]
  },
  {
   "cell_type": "code",
   "execution_count": 45,
   "id": "84199bab",
   "metadata": {
    "execution": {
     "iopub.execute_input": "2022-07-01T19:38:21.055131Z",
     "iopub.status.busy": "2022-07-01T19:38:21.054447Z",
     "iopub.status.idle": "2022-07-01T19:38:21.059015Z",
     "shell.execute_reply": "2022-07-01T19:38:21.059615Z",
     "shell.execute_reply.started": "2022-07-01T19:24:04.391930Z"
    },
    "papermill": {
     "duration": 0.097255,
     "end_time": "2022-07-01T19:38:21.059799",
     "exception": false,
     "start_time": "2022-07-01T19:38:20.962544",
     "status": "completed"
    },
    "tags": []
   },
   "outputs": [
    {
     "data": {
      "text/plain": [
       "C1    111\n",
       "Name: preds, dtype: int64"
      ]
     },
     "execution_count": 45,
     "metadata": {},
     "output_type": "execute_result"
    }
   ],
   "source": [
    "lingua.preds.value_counts()"
   ]
  },
  {
   "cell_type": "code",
   "execution_count": 46,
   "id": "a3e218db",
   "metadata": {
    "execution": {
     "iopub.execute_input": "2022-07-01T19:38:21.189854Z",
     "iopub.status.busy": "2022-07-01T19:38:21.188979Z",
     "iopub.status.idle": "2022-07-01T19:38:21.195391Z",
     "shell.execute_reply": "2022-07-01T19:38:21.194740Z",
     "shell.execute_reply.started": "2022-07-01T19:24:04.403831Z"
    },
    "papermill": {
     "duration": 0.061743,
     "end_time": "2022-07-01T19:38:21.195580",
     "exception": false,
     "start_time": "2022-07-01T19:38:21.133837",
     "status": "completed"
    },
    "tags": []
   },
   "outputs": [
    {
     "name": "stdout",
     "output_type": "stream",
     "text": [
      "Distance: \n",
      "2.3603603603603602\n",
      "Lingua accuracy: 0.0\n"
     ]
    }
   ],
   "source": [
    "print(\"Distance: \")\n",
    "print(compute_average_distance(lingua, \"cefr\"))\n",
    "\n",
    "print(f\"Lingua accuracy: {(lingua['preds'] == lingua['cefr']).mean()}\")"
   ]
  },
  {
   "cell_type": "code",
   "execution_count": 47,
   "id": "f06f2428",
   "metadata": {
    "execution": {
     "iopub.execute_input": "2022-07-01T19:38:21.304747Z",
     "iopub.status.busy": "2022-07-01T19:38:21.303930Z",
     "iopub.status.idle": "2022-07-01T19:38:21.339589Z",
     "shell.execute_reply": "2022-07-01T19:38:21.339154Z",
     "shell.execute_reply.started": "2022-07-01T19:24:04.421549Z"
    },
    "papermill": {
     "duration": 0.091074,
     "end_time": "2022-07-01T19:38:21.339709",
     "exception": false,
     "start_time": "2022-07-01T19:38:21.248635",
     "status": "completed"
    },
    "tags": []
   },
   "outputs": [
    {
     "data": {
      "text/plain": [
       "B2    111\n",
       "Name: Predss, dtype: int64"
      ]
     },
     "execution_count": 47,
     "metadata": {},
     "output_type": "execute_result"
    }
   ],
   "source": [
    "for i in range(lingua.shape[0]):\n",
    "    if (lingua.loc[i,\"preds\"]==\"C1\") | (lingua.loc[i,\"preds\"]==\"C2\") :\n",
    "        lingua.loc[i,\"Predss\"]=\"B2\"\n",
    "    else :\n",
    "        lingua.loc[i,\"Predss\"]= lingua.loc[i,\"preds\"]\n",
    "lingua[\"Predss\"].value_counts()"
   ]
  },
  {
   "cell_type": "code",
   "execution_count": 48,
   "id": "17e6c84f",
   "metadata": {
    "execution": {
     "iopub.execute_input": "2022-07-01T19:38:21.453017Z",
     "iopub.status.busy": "2022-07-01T19:38:21.452403Z",
     "iopub.status.idle": "2022-07-01T19:38:21.455301Z",
     "shell.execute_reply": "2022-07-01T19:38:21.455719Z",
     "shell.execute_reply.started": "2022-07-01T19:24:04.470304Z"
    },
    "papermill": {
     "duration": 0.062563,
     "end_time": "2022-07-01T19:38:21.455854",
     "exception": false,
     "start_time": "2022-07-01T19:38:21.393291",
     "status": "completed"
    },
    "tags": []
   },
   "outputs": [
    {
     "name": "stdout",
     "output_type": "stream",
     "text": [
      "Distance: \n",
      "2.3603603603603602\n",
      "Lingua accuracy: 0.10810810810810811\n"
     ]
    }
   ],
   "source": [
    "print(\"Distance: \")\n",
    "print(compute_average_distance(lingua, \"cefr\"))\n",
    "\n",
    "print(f\"Lingua accuracy: {(lingua['Predss'] == lingua['cefr']).mean()}\")"
   ]
  },
  {
   "cell_type": "markdown",
   "id": "29a4efb9",
   "metadata": {
    "papermill": {
     "duration": 0.052686,
     "end_time": "2022-07-01T19:38:21.561234",
     "exception": false,
     "start_time": "2022-07-01T19:38:21.508548",
     "status": "completed"
    },
    "tags": []
   },
   "source": [
    "****"
   ]
  },
  {
   "cell_type": "markdown",
   "id": "9c9a50f6",
   "metadata": {
    "papermill": {
     "duration": 0.05226,
     "end_time": "2022-07-01T19:38:21.666889",
     "exception": false,
     "start_time": "2022-07-01T19:38:21.614629",
     "status": "completed"
    },
    "tags": []
   },
   "source": [
    "Distance: \n",
    "0.990990990990991\n",
    "Lingua accuracy: 0.40540540540540543 <br>\n",
    "2    82\n",
    "3    15\n",
    "5    10\n",
    "4     2\n",
    "0     1\n",
    "1     1 <br> \n",
    "inokufu/flaubert-base-uncased-xnli-sts-finetuned-education"
   ]
  },
  {
   "cell_type": "markdown",
   "id": "06372caa",
   "metadata": {
    "papermill": {
     "duration": 0.053692,
     "end_time": "2022-07-01T19:38:21.773632",
     "exception": false,
     "start_time": "2022-07-01T19:38:21.719940",
     "status": "completed"
    },
    "tags": []
   },
   "source": [
    "****"
   ]
  },
  {
   "cell_type": "markdown",
   "id": "957ac32b",
   "metadata": {
    "papermill": {
     "duration": 0.053619,
     "end_time": "2022-07-01T19:38:21.881410",
     "exception": false,
     "start_time": "2022-07-01T19:38:21.827791",
     "status": "completed"
    },
    "tags": []
   },
   "source": [
    "\n",
    "Distance: \n",
    "0.8648648648648649\n",
    "Lingua accuracy: 0.450450450450450462 <br>\n",
    "3     7\n",
    "1     5\n",
    "5     4\n",
    "4     4\n",
    "0     1 <br> inokufu/flaubert-base-uncased-xnli-sts-finetuned-education"
   ]
  },
  {
   "cell_type": "code",
   "execution_count": null,
   "id": "1758a675",
   "metadata": {
    "papermill": {
     "duration": 0.054053,
     "end_time": "2022-07-01T19:38:21.989228",
     "exception": false,
     "start_time": "2022-07-01T19:38:21.935175",
     "status": "completed"
    },
    "tags": []
   },
   "outputs": [],
   "source": []
  },
  {
   "cell_type": "code",
   "execution_count": null,
   "id": "2827d4d3",
   "metadata": {
    "papermill": {
     "duration": 0.053308,
     "end_time": "2022-07-01T19:38:22.094980",
     "exception": false,
     "start_time": "2022-07-01T19:38:22.041672",
     "status": "completed"
    },
    "tags": []
   },
   "outputs": [],
   "source": []
  },
  {
   "cell_type": "code",
   "execution_count": null,
   "id": "5f631bac",
   "metadata": {
    "papermill": {
     "duration": 0.052924,
     "end_time": "2022-07-01T19:38:22.221547",
     "exception": false,
     "start_time": "2022-07-01T19:38:22.168623",
     "status": "completed"
    },
    "tags": []
   },
   "outputs": [],
   "source": []
  },
  {
   "cell_type": "code",
   "execution_count": null,
   "id": "9c4d33bb",
   "metadata": {
    "papermill": {
     "duration": 0.052758,
     "end_time": "2022-07-01T19:38:22.326598",
     "exception": false,
     "start_time": "2022-07-01T19:38:22.273840",
     "status": "completed"
    },
    "tags": []
   },
   "outputs": [],
   "source": []
  }
 ],
 "metadata": {
  "kernelspec": {
   "display_name": "Python 3",
   "language": "python",
   "name": "python3"
  },
  "language_info": {
   "codemirror_mode": {
    "name": "ipython",
    "version": 3
   },
   "file_extension": ".py",
   "mimetype": "text/x-python",
   "name": "python",
   "nbconvert_exporter": "python",
   "pygments_lexer": "ipython3",
   "version": "3.7.10"
  },
  "papermill": {
   "default_parameters": {},
   "duration": 179.555591,
   "end_time": "2022-07-01T19:38:25.509780",
   "environment_variables": {},
   "exception": null,
   "input_path": "__notebook__.ipynb",
   "output_path": "__notebook__.ipynb",
   "parameters": {},
   "start_time": "2022-07-01T19:35:25.954189",
   "version": "2.3.3"
  },
  "widgets": {
   "application/vnd.jupyter.widget-state+json": {
    "state": {
     "02c5364f4fd34db5b52003348bd1a4f7": {
      "model_module": "@jupyter-widgets/controls",
      "model_module_version": "1.5.0",
      "model_name": "FloatProgressModel",
      "state": {
       "_dom_classes": [],
       "_model_module": "@jupyter-widgets/controls",
       "_model_module_version": "1.5.0",
       "_model_name": "FloatProgressModel",
       "_view_count": null,
       "_view_module": "@jupyter-widgets/controls",
       "_view_module_version": "1.5.0",
       "_view_name": "ProgressView",
       "bar_style": "success",
       "description": "",
       "description_tooltip": null,
       "layout": "IPY_MODEL_3e2f22d12c254eb599e8738bae68b142",
       "max": 227141.0,
       "min": 0.0,
       "orientation": "horizontal",
       "style": "IPY_MODEL_1205711293f94eb1ab67534654920c04",
       "value": 227141.0
      }
     },
     "0395d017f34147db99c6365c7a2e1504": {
      "model_module": "@jupyter-widgets/controls",
      "model_module_version": "1.5.0",
      "model_name": "HBoxModel",
      "state": {
       "_dom_classes": [],
       "_model_module": "@jupyter-widgets/controls",
       "_model_module_version": "1.5.0",
       "_model_name": "HBoxModel",
       "_view_count": null,
       "_view_module": "@jupyter-widgets/controls",
       "_view_module_version": "1.5.0",
       "_view_name": "HBoxView",
       "box_style": "",
       "children": [
        "IPY_MODEL_6464bc4f7a8b4a05aee8cb1fcb11dca0",
        "IPY_MODEL_6d2221d8b97842268e56aa1fd4d1d755",
        "IPY_MODEL_74c5569df0b347b183001038b083dc42"
       ],
       "layout": "IPY_MODEL_98e474225994465e865dc8a1c30bfae6"
      }
     },
     "0c3394e4f0644ac5bb00cacfd53fcd45": {
      "model_module": "@jupyter-widgets/base",
      "model_module_version": "1.2.0",
      "model_name": "LayoutModel",
      "state": {
       "_model_module": "@jupyter-widgets/base",
       "_model_module_version": "1.2.0",
       "_model_name": "LayoutModel",
       "_view_count": null,
       "_view_module": "@jupyter-widgets/base",
       "_view_module_version": "1.2.0",
       "_view_name": "LayoutView",
       "align_content": null,
       "align_items": null,
       "align_self": null,
       "border": null,
       "bottom": null,
       "display": null,
       "flex": null,
       "flex_flow": null,
       "grid_area": null,
       "grid_auto_columns": null,
       "grid_auto_flow": null,
       "grid_auto_rows": null,
       "grid_column": null,
       "grid_gap": null,
       "grid_row": null,
       "grid_template_areas": null,
       "grid_template_columns": null,
       "grid_template_rows": null,
       "height": null,
       "justify_content": null,
       "justify_items": null,
       "left": null,
       "margin": null,
       "max_height": null,
       "max_width": null,
       "min_height": null,
       "min_width": null,
       "object_fit": null,
       "object_position": null,
       "order": null,
       "overflow": null,
       "overflow_x": null,
       "overflow_y": null,
       "padding": null,
       "right": null,
       "top": null,
       "visibility": null,
       "width": null
      }
     },
     "1205711293f94eb1ab67534654920c04": {
      "model_module": "@jupyter-widgets/controls",
      "model_module_version": "1.5.0",
      "model_name": "ProgressStyleModel",
      "state": {
       "_model_module": "@jupyter-widgets/controls",
       "_model_module_version": "1.5.0",
       "_model_name": "ProgressStyleModel",
       "_view_count": null,
       "_view_module": "@jupyter-widgets/base",
       "_view_module_version": "1.2.0",
       "_view_name": "StyleView",
       "bar_color": null,
       "description_width": ""
      }
     },
     "160c71819359435a813128f76a8d2072": {
      "model_module": "@jupyter-widgets/controls",
      "model_module_version": "1.5.0",
      "model_name": "HTMLModel",
      "state": {
       "_dom_classes": [],
       "_model_module": "@jupyter-widgets/controls",
       "_model_module_version": "1.5.0",
       "_model_name": "HTMLModel",
       "_view_count": null,
       "_view_module": "@jupyter-widgets/controls",
       "_view_module_version": "1.5.0",
       "_view_name": "HTMLView",
       "description": "",
       "description_tooltip": null,
       "layout": "IPY_MODEL_6b51f085ef3f48dab9b157b2ccfa4f67",
       "placeholder": "​",
       "style": "IPY_MODEL_937b2caf70364be196cd4df8f7cb1cf7",
       "value": " 227k/227k [00:00&lt;00:00, 926kB/s]"
      }
     },
     "1dadd6d6dab54db88ff55e08b7035124": {
      "model_module": "@jupyter-widgets/controls",
      "model_module_version": "1.5.0",
      "model_name": "HTMLModel",
      "state": {
       "_dom_classes": [],
       "_model_module": "@jupyter-widgets/controls",
       "_model_module_version": "1.5.0",
       "_model_name": "HTMLModel",
       "_view_count": null,
       "_view_module": "@jupyter-widgets/controls",
       "_view_module_version": "1.5.0",
       "_view_name": "HTMLView",
       "description": "",
       "description_tooltip": null,
       "layout": "IPY_MODEL_56d62b94f27449f8a968854fd99ea8e0",
       "placeholder": "​",
       "style": "IPY_MODEL_b6f718286c9244fcac06da37f34d2c31",
       "value": "Downloading: 100%"
      }
     },
     "1f957ed3590b4104a4c89cad4febf597": {
      "model_module": "@jupyter-widgets/base",
      "model_module_version": "1.2.0",
      "model_name": "LayoutModel",
      "state": {
       "_model_module": "@jupyter-widgets/base",
       "_model_module_version": "1.2.0",
       "_model_name": "LayoutModel",
       "_view_count": null,
       "_view_module": "@jupyter-widgets/base",
       "_view_module_version": "1.2.0",
       "_view_name": "LayoutView",
       "align_content": null,
       "align_items": null,
       "align_self": null,
       "border": null,
       "bottom": null,
       "display": null,
       "flex": null,
       "flex_flow": null,
       "grid_area": null,
       "grid_auto_columns": null,
       "grid_auto_flow": null,
       "grid_auto_rows": null,
       "grid_column": null,
       "grid_gap": null,
       "grid_row": null,
       "grid_template_areas": null,
       "grid_template_columns": null,
       "grid_template_rows": null,
       "height": null,
       "justify_content": null,
       "justify_items": null,
       "left": null,
       "margin": null,
       "max_height": null,
       "max_width": null,
       "min_height": null,
       "min_width": null,
       "object_fit": null,
       "object_position": null,
       "order": null,
       "overflow": null,
       "overflow_x": null,
       "overflow_y": null,
       "padding": null,
       "right": null,
       "top": null,
       "visibility": null,
       "width": null
      }
     },
     "216520b0deb04c778681850445939e6a": {
      "model_module": "@jupyter-widgets/controls",
      "model_module_version": "1.5.0",
      "model_name": "FloatProgressModel",
      "state": {
       "_dom_classes": [],
       "_model_module": "@jupyter-widgets/controls",
       "_model_module_version": "1.5.0",
       "_model_name": "FloatProgressModel",
       "_view_count": null,
       "_view_module": "@jupyter-widgets/controls",
       "_view_module_version": "1.5.0",
       "_view_name": "ProgressView",
       "bar_style": "success",
       "description": "",
       "description_tooltip": null,
       "layout": "IPY_MODEL_0c3394e4f0644ac5bb00cacfd53fcd45",
       "max": 420.0,
       "min": 0.0,
       "orientation": "horizontal",
       "style": "IPY_MODEL_dbc628963a3a443484d27a5118cf81e9",
       "value": 420.0
      }
     },
     "32158763fc5c4db488d4e299f3c39e5d": {
      "model_module": "@jupyter-widgets/base",
      "model_module_version": "1.2.0",
      "model_name": "LayoutModel",
      "state": {
       "_model_module": "@jupyter-widgets/base",
       "_model_module_version": "1.2.0",
       "_model_name": "LayoutModel",
       "_view_count": null,
       "_view_module": "@jupyter-widgets/base",
       "_view_module_version": "1.2.0",
       "_view_name": "LayoutView",
       "align_content": null,
       "align_items": null,
       "align_self": null,
       "border": null,
       "bottom": null,
       "display": null,
       "flex": null,
       "flex_flow": null,
       "grid_area": null,
       "grid_auto_columns": null,
       "grid_auto_flow": null,
       "grid_auto_rows": null,
       "grid_column": null,
       "grid_gap": null,
       "grid_row": null,
       "grid_template_areas": null,
       "grid_template_columns": null,
       "grid_template_rows": null,
       "height": null,
       "justify_content": null,
       "justify_items": null,
       "left": null,
       "margin": null,
       "max_height": null,
       "max_width": null,
       "min_height": null,
       "min_width": null,
       "object_fit": null,
       "object_position": null,
       "order": null,
       "overflow": null,
       "overflow_x": null,
       "overflow_y": null,
       "padding": null,
       "right": null,
       "top": null,
       "visibility": null,
       "width": null
      }
     },
     "33d90cec561c41a3bb5a2b1d48c25039": {
      "model_module": "@jupyter-widgets/controls",
      "model_module_version": "1.5.0",
      "model_name": "HTMLModel",
      "state": {
       "_dom_classes": [],
       "_model_module": "@jupyter-widgets/controls",
       "_model_module_version": "1.5.0",
       "_model_name": "HTMLModel",
       "_view_count": null,
       "_view_module": "@jupyter-widgets/controls",
       "_view_module_version": "1.5.0",
       "_view_name": "HTMLView",
       "description": "",
       "description_tooltip": null,
       "layout": "IPY_MODEL_cfd8e86cf16649d181b3bd168ef36b5f",
       "placeholder": "​",
       "style": "IPY_MODEL_b9a5c9e07d5b4a5bb19e845eee714d3a",
       "value": "Downloading: 100%"
      }
     },
     "371cff1f95cb40c1a5b1facbd5bec403": {
      "model_module": "@jupyter-widgets/base",
      "model_module_version": "1.2.0",
      "model_name": "LayoutModel",
      "state": {
       "_model_module": "@jupyter-widgets/base",
       "_model_module_version": "1.2.0",
       "_model_name": "LayoutModel",
       "_view_count": null,
       "_view_module": "@jupyter-widgets/base",
       "_view_module_version": "1.2.0",
       "_view_name": "LayoutView",
       "align_content": null,
       "align_items": null,
       "align_self": null,
       "border": null,
       "bottom": null,
       "display": null,
       "flex": null,
       "flex_flow": null,
       "grid_area": null,
       "grid_auto_columns": null,
       "grid_auto_flow": null,
       "grid_auto_rows": null,
       "grid_column": null,
       "grid_gap": null,
       "grid_row": null,
       "grid_template_areas": null,
       "grid_template_columns": null,
       "grid_template_rows": null,
       "height": null,
       "justify_content": null,
       "justify_items": null,
       "left": null,
       "margin": null,
       "max_height": null,
       "max_width": null,
       "min_height": null,
       "min_width": null,
       "object_fit": null,
       "object_position": null,
       "order": null,
       "overflow": null,
       "overflow_x": null,
       "overflow_y": null,
       "padding": null,
       "right": null,
       "top": null,
       "visibility": null,
       "width": null
      }
     },
     "39dfaa2ab02048b09cd438ef79830375": {
      "model_module": "@jupyter-widgets/controls",
      "model_module_version": "1.5.0",
      "model_name": "FloatProgressModel",
      "state": {
       "_dom_classes": [],
       "_model_module": "@jupyter-widgets/controls",
       "_model_module_version": "1.5.0",
       "_model_name": "FloatProgressModel",
       "_view_count": null,
       "_view_module": "@jupyter-widgets/controls",
       "_view_module_version": "1.5.0",
       "_view_name": "ProgressView",
       "bar_style": "success",
       "description": "",
       "description_tooltip": null,
       "layout": "IPY_MODEL_1f957ed3590b4104a4c89cad4febf597",
       "max": 83.0,
       "min": 0.0,
       "orientation": "horizontal",
       "style": "IPY_MODEL_708baf276f3041f882dbe7b58bb5a56c",
       "value": 83.0
      }
     },
     "3e2f22d12c254eb599e8738bae68b142": {
      "model_module": "@jupyter-widgets/base",
      "model_module_version": "1.2.0",
      "model_name": "LayoutModel",
      "state": {
       "_model_module": "@jupyter-widgets/base",
       "_model_module_version": "1.2.0",
       "_model_name": "LayoutModel",
       "_view_count": null,
       "_view_module": "@jupyter-widgets/base",
       "_view_module_version": "1.2.0",
       "_view_name": "LayoutView",
       "align_content": null,
       "align_items": null,
       "align_self": null,
       "border": null,
       "bottom": null,
       "display": null,
       "flex": null,
       "flex_flow": null,
       "grid_area": null,
       "grid_auto_columns": null,
       "grid_auto_flow": null,
       "grid_auto_rows": null,
       "grid_column": null,
       "grid_gap": null,
       "grid_row": null,
       "grid_template_areas": null,
       "grid_template_columns": null,
       "grid_template_rows": null,
       "height": null,
       "justify_content": null,
       "justify_items": null,
       "left": null,
       "margin": null,
       "max_height": null,
       "max_width": null,
       "min_height": null,
       "min_width": null,
       "object_fit": null,
       "object_position": null,
       "order": null,
       "overflow": null,
       "overflow_x": null,
       "overflow_y": null,
       "padding": null,
       "right": null,
       "top": null,
       "visibility": null,
       "width": null
      }
     },
     "56d62b94f27449f8a968854fd99ea8e0": {
      "model_module": "@jupyter-widgets/base",
      "model_module_version": "1.2.0",
      "model_name": "LayoutModel",
      "state": {
       "_model_module": "@jupyter-widgets/base",
       "_model_module_version": "1.2.0",
       "_model_name": "LayoutModel",
       "_view_count": null,
       "_view_module": "@jupyter-widgets/base",
       "_view_module_version": "1.2.0",
       "_view_name": "LayoutView",
       "align_content": null,
       "align_items": null,
       "align_self": null,
       "border": null,
       "bottom": null,
       "display": null,
       "flex": null,
       "flex_flow": null,
       "grid_area": null,
       "grid_auto_columns": null,
       "grid_auto_flow": null,
       "grid_auto_rows": null,
       "grid_column": null,
       "grid_gap": null,
       "grid_row": null,
       "grid_template_areas": null,
       "grid_template_columns": null,
       "grid_template_rows": null,
       "height": null,
       "justify_content": null,
       "justify_items": null,
       "left": null,
       "margin": null,
       "max_height": null,
       "max_width": null,
       "min_height": null,
       "min_width": null,
       "object_fit": null,
       "object_position": null,
       "order": null,
       "overflow": null,
       "overflow_x": null,
       "overflow_y": null,
       "padding": null,
       "right": null,
       "top": null,
       "visibility": null,
       "width": null
      }
     },
     "6464bc4f7a8b4a05aee8cb1fcb11dca0": {
      "model_module": "@jupyter-widgets/controls",
      "model_module_version": "1.5.0",
      "model_name": "HTMLModel",
      "state": {
       "_dom_classes": [],
       "_model_module": "@jupyter-widgets/controls",
       "_model_module_version": "1.5.0",
       "_model_name": "HTMLModel",
       "_view_count": null,
       "_view_module": "@jupyter-widgets/controls",
       "_view_module_version": "1.5.0",
       "_view_name": "HTMLView",
       "description": "",
       "description_tooltip": null,
       "layout": "IPY_MODEL_de6800f9899b4bb2890e1b36998e1db8",
       "placeholder": "​",
       "style": "IPY_MODEL_940f87ba734442baa224fcd542c49a75",
       "value": "Downloading: 100%"
      }
     },
     "69b16c46b53f43ce9669860a04b9636d": {
      "model_module": "@jupyter-widgets/controls",
      "model_module_version": "1.5.0",
      "model_name": "HTMLModel",
      "state": {
       "_dom_classes": [],
       "_model_module": "@jupyter-widgets/controls",
       "_model_module_version": "1.5.0",
       "_model_name": "HTMLModel",
       "_view_count": null,
       "_view_module": "@jupyter-widgets/controls",
       "_view_module_version": "1.5.0",
       "_view_name": "HTMLView",
       "description": "",
       "description_tooltip": null,
       "layout": "IPY_MODEL_be7b21381ca04e899e9dd91c19ba9c1b",
       "placeholder": "​",
       "style": "IPY_MODEL_a170aecd2bb94ac39375347cf294e6b1",
       "value": "Downloading: 100%"
      }
     },
     "6b51f085ef3f48dab9b157b2ccfa4f67": {
      "model_module": "@jupyter-widgets/base",
      "model_module_version": "1.2.0",
      "model_name": "LayoutModel",
      "state": {
       "_model_module": "@jupyter-widgets/base",
       "_model_module_version": "1.2.0",
       "_model_name": "LayoutModel",
       "_view_count": null,
       "_view_module": "@jupyter-widgets/base",
       "_view_module_version": "1.2.0",
       "_view_name": "LayoutView",
       "align_content": null,
       "align_items": null,
       "align_self": null,
       "border": null,
       "bottom": null,
       "display": null,
       "flex": null,
       "flex_flow": null,
       "grid_area": null,
       "grid_auto_columns": null,
       "grid_auto_flow": null,
       "grid_auto_rows": null,
       "grid_column": null,
       "grid_gap": null,
       "grid_row": null,
       "grid_template_areas": null,
       "grid_template_columns": null,
       "grid_template_rows": null,
       "height": null,
       "justify_content": null,
       "justify_items": null,
       "left": null,
       "margin": null,
       "max_height": null,
       "max_width": null,
       "min_height": null,
       "min_width": null,
       "object_fit": null,
       "object_position": null,
       "order": null,
       "overflow": null,
       "overflow_x": null,
       "overflow_y": null,
       "padding": null,
       "right": null,
       "top": null,
       "visibility": null,
       "width": null
      }
     },
     "6d2221d8b97842268e56aa1fd4d1d755": {
      "model_module": "@jupyter-widgets/controls",
      "model_module_version": "1.5.0",
      "model_name": "FloatProgressModel",
      "state": {
       "_dom_classes": [],
       "_model_module": "@jupyter-widgets/controls",
       "_model_module_version": "1.5.0",
       "_model_name": "FloatProgressModel",
       "_view_count": null,
       "_view_module": "@jupyter-widgets/controls",
       "_view_module_version": "1.5.0",
       "_view_name": "ProgressView",
       "bar_style": "success",
       "description": "",
       "description_tooltip": null,
       "layout": "IPY_MODEL_cedff74940f84894a2c74b555bf27e94",
       "max": 445018784.0,
       "min": 0.0,
       "orientation": "horizontal",
       "style": "IPY_MODEL_802c744bd7074e4bbcbe626e2dc05779",
       "value": 445018784.0
      }
     },
     "6ddbacf241064a758a762021a08ad944": {
      "model_module": "@jupyter-widgets/base",
      "model_module_version": "1.2.0",
      "model_name": "LayoutModel",
      "state": {
       "_model_module": "@jupyter-widgets/base",
       "_model_module_version": "1.2.0",
       "_model_name": "LayoutModel",
       "_view_count": null,
       "_view_module": "@jupyter-widgets/base",
       "_view_module_version": "1.2.0",
       "_view_name": "LayoutView",
       "align_content": null,
       "align_items": null,
       "align_self": null,
       "border": null,
       "bottom": null,
       "display": null,
       "flex": null,
       "flex_flow": null,
       "grid_area": null,
       "grid_auto_columns": null,
       "grid_auto_flow": null,
       "grid_auto_rows": null,
       "grid_column": null,
       "grid_gap": null,
       "grid_row": null,
       "grid_template_areas": null,
       "grid_template_columns": null,
       "grid_template_rows": null,
       "height": null,
       "justify_content": null,
       "justify_items": null,
       "left": null,
       "margin": null,
       "max_height": null,
       "max_width": null,
       "min_height": null,
       "min_width": null,
       "object_fit": null,
       "object_position": null,
       "order": null,
       "overflow": null,
       "overflow_x": null,
       "overflow_y": null,
       "padding": null,
       "right": null,
       "top": null,
       "visibility": null,
       "width": null
      }
     },
     "708baf276f3041f882dbe7b58bb5a56c": {
      "model_module": "@jupyter-widgets/controls",
      "model_module_version": "1.5.0",
      "model_name": "ProgressStyleModel",
      "state": {
       "_model_module": "@jupyter-widgets/controls",
       "_model_module_version": "1.5.0",
       "_model_name": "ProgressStyleModel",
       "_view_count": null,
       "_view_module": "@jupyter-widgets/base",
       "_view_module_version": "1.2.0",
       "_view_name": "StyleView",
       "bar_color": null,
       "description_width": ""
      }
     },
     "70954bb8da474f28b193b27552e70ac3": {
      "model_module": "@jupyter-widgets/controls",
      "model_module_version": "1.5.0",
      "model_name": "HBoxModel",
      "state": {
       "_dom_classes": [],
       "_model_module": "@jupyter-widgets/controls",
       "_model_module_version": "1.5.0",
       "_model_name": "HBoxModel",
       "_view_count": null,
       "_view_module": "@jupyter-widgets/controls",
       "_view_module_version": "1.5.0",
       "_view_name": "HBoxView",
       "box_style": "",
       "children": [
        "IPY_MODEL_1dadd6d6dab54db88ff55e08b7035124",
        "IPY_MODEL_216520b0deb04c778681850445939e6a",
        "IPY_MODEL_f5c12d018310439780f4e587b85a715d"
       ],
       "layout": "IPY_MODEL_32158763fc5c4db488d4e299f3c39e5d"
      }
     },
     "7117c14c0454446790654d5bbf4ce961": {
      "model_module": "@jupyter-widgets/base",
      "model_module_version": "1.2.0",
      "model_name": "LayoutModel",
      "state": {
       "_model_module": "@jupyter-widgets/base",
       "_model_module_version": "1.2.0",
       "_model_name": "LayoutModel",
       "_view_count": null,
       "_view_module": "@jupyter-widgets/base",
       "_view_module_version": "1.2.0",
       "_view_name": "LayoutView",
       "align_content": null,
       "align_items": null,
       "align_self": null,
       "border": null,
       "bottom": null,
       "display": null,
       "flex": null,
       "flex_flow": null,
       "grid_area": null,
       "grid_auto_columns": null,
       "grid_auto_flow": null,
       "grid_auto_rows": null,
       "grid_column": null,
       "grid_gap": null,
       "grid_row": null,
       "grid_template_areas": null,
       "grid_template_columns": null,
       "grid_template_rows": null,
       "height": null,
       "justify_content": null,
       "justify_items": null,
       "left": null,
       "margin": null,
       "max_height": null,
       "max_width": null,
       "min_height": null,
       "min_width": null,
       "object_fit": null,
       "object_position": null,
       "order": null,
       "overflow": null,
       "overflow_x": null,
       "overflow_y": null,
       "padding": null,
       "right": null,
       "top": null,
       "visibility": null,
       "width": null
      }
     },
     "74c5569df0b347b183001038b083dc42": {
      "model_module": "@jupyter-widgets/controls",
      "model_module_version": "1.5.0",
      "model_name": "HTMLModel",
      "state": {
       "_dom_classes": [],
       "_model_module": "@jupyter-widgets/controls",
       "_model_module_version": "1.5.0",
       "_model_name": "HTMLModel",
       "_view_count": null,
       "_view_module": "@jupyter-widgets/controls",
       "_view_module_version": "1.5.0",
       "_view_name": "HTMLView",
       "description": "",
       "description_tooltip": null,
       "layout": "IPY_MODEL_99653a7eccc74f1187f1058e8d0d4a13",
       "placeholder": "​",
       "style": "IPY_MODEL_a5a05b7a8192464e985df4c4885f7d92",
       "value": " 445M/445M [00:20&lt;00:00, 23.4MB/s]"
      }
     },
     "802c744bd7074e4bbcbe626e2dc05779": {
      "model_module": "@jupyter-widgets/controls",
      "model_module_version": "1.5.0",
      "model_name": "ProgressStyleModel",
      "state": {
       "_model_module": "@jupyter-widgets/controls",
       "_model_module_version": "1.5.0",
       "_model_name": "ProgressStyleModel",
       "_view_count": null,
       "_view_module": "@jupyter-widgets/base",
       "_view_module_version": "1.2.0",
       "_view_name": "StyleView",
       "bar_color": null,
       "description_width": ""
      }
     },
     "810ee22d16e84582b94d37983c0b5174": {
      "model_module": "@jupyter-widgets/controls",
      "model_module_version": "1.5.0",
      "model_name": "HTMLModel",
      "state": {
       "_dom_classes": [],
       "_model_module": "@jupyter-widgets/controls",
       "_model_module_version": "1.5.0",
       "_model_name": "HTMLModel",
       "_view_count": null,
       "_view_module": "@jupyter-widgets/controls",
       "_view_module_version": "1.5.0",
       "_view_name": "HTMLView",
       "description": "",
       "description_tooltip": null,
       "layout": "IPY_MODEL_f1ef4035e56f40a69ed998676391dd57",
       "placeholder": "​",
       "style": "IPY_MODEL_c965a858cb944ca49ff7311d0669b6bd",
       "value": " 83.0/83.0 [00:00&lt;00:00, 3.26kB/s]"
      }
     },
     "937b2caf70364be196cd4df8f7cb1cf7": {
      "model_module": "@jupyter-widgets/controls",
      "model_module_version": "1.5.0",
      "model_name": "DescriptionStyleModel",
      "state": {
       "_model_module": "@jupyter-widgets/controls",
       "_model_module_version": "1.5.0",
       "_model_name": "DescriptionStyleModel",
       "_view_count": null,
       "_view_module": "@jupyter-widgets/base",
       "_view_module_version": "1.2.0",
       "_view_name": "StyleView",
       "description_width": ""
      }
     },
     "940f87ba734442baa224fcd542c49a75": {
      "model_module": "@jupyter-widgets/controls",
      "model_module_version": "1.5.0",
      "model_name": "DescriptionStyleModel",
      "state": {
       "_model_module": "@jupyter-widgets/controls",
       "_model_module_version": "1.5.0",
       "_model_name": "DescriptionStyleModel",
       "_view_count": null,
       "_view_module": "@jupyter-widgets/base",
       "_view_module_version": "1.2.0",
       "_view_name": "StyleView",
       "description_width": ""
      }
     },
     "988bb20dd6fa450ab252ee913f0291fc": {
      "model_module": "@jupyter-widgets/controls",
      "model_module_version": "1.5.0",
      "model_name": "HBoxModel",
      "state": {
       "_dom_classes": [],
       "_model_module": "@jupyter-widgets/controls",
       "_model_module_version": "1.5.0",
       "_model_name": "HBoxModel",
       "_view_count": null,
       "_view_module": "@jupyter-widgets/controls",
       "_view_module_version": "1.5.0",
       "_view_name": "HBoxView",
       "box_style": "",
       "children": [
        "IPY_MODEL_33d90cec561c41a3bb5a2b1d48c25039",
        "IPY_MODEL_02c5364f4fd34db5b52003348bd1a4f7",
        "IPY_MODEL_160c71819359435a813128f76a8d2072"
       ],
       "layout": "IPY_MODEL_6ddbacf241064a758a762021a08ad944"
      }
     },
     "98e474225994465e865dc8a1c30bfae6": {
      "model_module": "@jupyter-widgets/base",
      "model_module_version": "1.2.0",
      "model_name": "LayoutModel",
      "state": {
       "_model_module": "@jupyter-widgets/base",
       "_model_module_version": "1.2.0",
       "_model_name": "LayoutModel",
       "_view_count": null,
       "_view_module": "@jupyter-widgets/base",
       "_view_module_version": "1.2.0",
       "_view_name": "LayoutView",
       "align_content": null,
       "align_items": null,
       "align_self": null,
       "border": null,
       "bottom": null,
       "display": null,
       "flex": null,
       "flex_flow": null,
       "grid_area": null,
       "grid_auto_columns": null,
       "grid_auto_flow": null,
       "grid_auto_rows": null,
       "grid_column": null,
       "grid_gap": null,
       "grid_row": null,
       "grid_template_areas": null,
       "grid_template_columns": null,
       "grid_template_rows": null,
       "height": null,
       "justify_content": null,
       "justify_items": null,
       "left": null,
       "margin": null,
       "max_height": null,
       "max_width": null,
       "min_height": null,
       "min_width": null,
       "object_fit": null,
       "object_position": null,
       "order": null,
       "overflow": null,
       "overflow_x": null,
       "overflow_y": null,
       "padding": null,
       "right": null,
       "top": null,
       "visibility": null,
       "width": null
      }
     },
     "99653a7eccc74f1187f1058e8d0d4a13": {
      "model_module": "@jupyter-widgets/base",
      "model_module_version": "1.2.0",
      "model_name": "LayoutModel",
      "state": {
       "_model_module": "@jupyter-widgets/base",
       "_model_module_version": "1.2.0",
       "_model_name": "LayoutModel",
       "_view_count": null,
       "_view_module": "@jupyter-widgets/base",
       "_view_module_version": "1.2.0",
       "_view_name": "LayoutView",
       "align_content": null,
       "align_items": null,
       "align_self": null,
       "border": null,
       "bottom": null,
       "display": null,
       "flex": null,
       "flex_flow": null,
       "grid_area": null,
       "grid_auto_columns": null,
       "grid_auto_flow": null,
       "grid_auto_rows": null,
       "grid_column": null,
       "grid_gap": null,
       "grid_row": null,
       "grid_template_areas": null,
       "grid_template_columns": null,
       "grid_template_rows": null,
       "height": null,
       "justify_content": null,
       "justify_items": null,
       "left": null,
       "margin": null,
       "max_height": null,
       "max_width": null,
       "min_height": null,
       "min_width": null,
       "object_fit": null,
       "object_position": null,
       "order": null,
       "overflow": null,
       "overflow_x": null,
       "overflow_y": null,
       "padding": null,
       "right": null,
       "top": null,
       "visibility": null,
       "width": null
      }
     },
     "a170aecd2bb94ac39375347cf294e6b1": {
      "model_module": "@jupyter-widgets/controls",
      "model_module_version": "1.5.0",
      "model_name": "DescriptionStyleModel",
      "state": {
       "_model_module": "@jupyter-widgets/controls",
       "_model_module_version": "1.5.0",
       "_model_name": "DescriptionStyleModel",
       "_view_count": null,
       "_view_module": "@jupyter-widgets/base",
       "_view_module_version": "1.2.0",
       "_view_name": "StyleView",
       "description_width": ""
      }
     },
     "a5a05b7a8192464e985df4c4885f7d92": {
      "model_module": "@jupyter-widgets/controls",
      "model_module_version": "1.5.0",
      "model_name": "DescriptionStyleModel",
      "state": {
       "_model_module": "@jupyter-widgets/controls",
       "_model_module_version": "1.5.0",
       "_model_name": "DescriptionStyleModel",
       "_view_count": null,
       "_view_module": "@jupyter-widgets/base",
       "_view_module_version": "1.2.0",
       "_view_name": "StyleView",
       "description_width": ""
      }
     },
     "a6e233ea961e459e919bfb2366182a10": {
      "model_module": "@jupyter-widgets/controls",
      "model_module_version": "1.5.0",
      "model_name": "HBoxModel",
      "state": {
       "_dom_classes": [],
       "_model_module": "@jupyter-widgets/controls",
       "_model_module_version": "1.5.0",
       "_model_name": "HBoxModel",
       "_view_count": null,
       "_view_module": "@jupyter-widgets/controls",
       "_view_module_version": "1.5.0",
       "_view_name": "HBoxView",
       "box_style": "",
       "children": [
        "IPY_MODEL_69b16c46b53f43ce9669860a04b9636d",
        "IPY_MODEL_39dfaa2ab02048b09cd438ef79830375",
        "IPY_MODEL_810ee22d16e84582b94d37983c0b5174"
       ],
       "layout": "IPY_MODEL_7117c14c0454446790654d5bbf4ce961"
      }
     },
     "adb78e3477e94f4f943f3eba6e8a95e0": {
      "model_module": "@jupyter-widgets/controls",
      "model_module_version": "1.5.0",
      "model_name": "DescriptionStyleModel",
      "state": {
       "_model_module": "@jupyter-widgets/controls",
       "_model_module_version": "1.5.0",
       "_model_name": "DescriptionStyleModel",
       "_view_count": null,
       "_view_module": "@jupyter-widgets/base",
       "_view_module_version": "1.2.0",
       "_view_name": "StyleView",
       "description_width": ""
      }
     },
     "b6f718286c9244fcac06da37f34d2c31": {
      "model_module": "@jupyter-widgets/controls",
      "model_module_version": "1.5.0",
      "model_name": "DescriptionStyleModel",
      "state": {
       "_model_module": "@jupyter-widgets/controls",
       "_model_module_version": "1.5.0",
       "_model_name": "DescriptionStyleModel",
       "_view_count": null,
       "_view_module": "@jupyter-widgets/base",
       "_view_module_version": "1.2.0",
       "_view_name": "StyleView",
       "description_width": ""
      }
     },
     "b9a5c9e07d5b4a5bb19e845eee714d3a": {
      "model_module": "@jupyter-widgets/controls",
      "model_module_version": "1.5.0",
      "model_name": "DescriptionStyleModel",
      "state": {
       "_model_module": "@jupyter-widgets/controls",
       "_model_module_version": "1.5.0",
       "_model_name": "DescriptionStyleModel",
       "_view_count": null,
       "_view_module": "@jupyter-widgets/base",
       "_view_module_version": "1.2.0",
       "_view_name": "StyleView",
       "description_width": ""
      }
     },
     "be7b21381ca04e899e9dd91c19ba9c1b": {
      "model_module": "@jupyter-widgets/base",
      "model_module_version": "1.2.0",
      "model_name": "LayoutModel",
      "state": {
       "_model_module": "@jupyter-widgets/base",
       "_model_module_version": "1.2.0",
       "_model_name": "LayoutModel",
       "_view_count": null,
       "_view_module": "@jupyter-widgets/base",
       "_view_module_version": "1.2.0",
       "_view_name": "LayoutView",
       "align_content": null,
       "align_items": null,
       "align_self": null,
       "border": null,
       "bottom": null,
       "display": null,
       "flex": null,
       "flex_flow": null,
       "grid_area": null,
       "grid_auto_columns": null,
       "grid_auto_flow": null,
       "grid_auto_rows": null,
       "grid_column": null,
       "grid_gap": null,
       "grid_row": null,
       "grid_template_areas": null,
       "grid_template_columns": null,
       "grid_template_rows": null,
       "height": null,
       "justify_content": null,
       "justify_items": null,
       "left": null,
       "margin": null,
       "max_height": null,
       "max_width": null,
       "min_height": null,
       "min_width": null,
       "object_fit": null,
       "object_position": null,
       "order": null,
       "overflow": null,
       "overflow_x": null,
       "overflow_y": null,
       "padding": null,
       "right": null,
       "top": null,
       "visibility": null,
       "width": null
      }
     },
     "c965a858cb944ca49ff7311d0669b6bd": {
      "model_module": "@jupyter-widgets/controls",
      "model_module_version": "1.5.0",
      "model_name": "DescriptionStyleModel",
      "state": {
       "_model_module": "@jupyter-widgets/controls",
       "_model_module_version": "1.5.0",
       "_model_name": "DescriptionStyleModel",
       "_view_count": null,
       "_view_module": "@jupyter-widgets/base",
       "_view_module_version": "1.2.0",
       "_view_name": "StyleView",
       "description_width": ""
      }
     },
     "cedff74940f84894a2c74b555bf27e94": {
      "model_module": "@jupyter-widgets/base",
      "model_module_version": "1.2.0",
      "model_name": "LayoutModel",
      "state": {
       "_model_module": "@jupyter-widgets/base",
       "_model_module_version": "1.2.0",
       "_model_name": "LayoutModel",
       "_view_count": null,
       "_view_module": "@jupyter-widgets/base",
       "_view_module_version": "1.2.0",
       "_view_name": "LayoutView",
       "align_content": null,
       "align_items": null,
       "align_self": null,
       "border": null,
       "bottom": null,
       "display": null,
       "flex": null,
       "flex_flow": null,
       "grid_area": null,
       "grid_auto_columns": null,
       "grid_auto_flow": null,
       "grid_auto_rows": null,
       "grid_column": null,
       "grid_gap": null,
       "grid_row": null,
       "grid_template_areas": null,
       "grid_template_columns": null,
       "grid_template_rows": null,
       "height": null,
       "justify_content": null,
       "justify_items": null,
       "left": null,
       "margin": null,
       "max_height": null,
       "max_width": null,
       "min_height": null,
       "min_width": null,
       "object_fit": null,
       "object_position": null,
       "order": null,
       "overflow": null,
       "overflow_x": null,
       "overflow_y": null,
       "padding": null,
       "right": null,
       "top": null,
       "visibility": null,
       "width": null
      }
     },
     "cfd8e86cf16649d181b3bd168ef36b5f": {
      "model_module": "@jupyter-widgets/base",
      "model_module_version": "1.2.0",
      "model_name": "LayoutModel",
      "state": {
       "_model_module": "@jupyter-widgets/base",
       "_model_module_version": "1.2.0",
       "_model_name": "LayoutModel",
       "_view_count": null,
       "_view_module": "@jupyter-widgets/base",
       "_view_module_version": "1.2.0",
       "_view_name": "LayoutView",
       "align_content": null,
       "align_items": null,
       "align_self": null,
       "border": null,
       "bottom": null,
       "display": null,
       "flex": null,
       "flex_flow": null,
       "grid_area": null,
       "grid_auto_columns": null,
       "grid_auto_flow": null,
       "grid_auto_rows": null,
       "grid_column": null,
       "grid_gap": null,
       "grid_row": null,
       "grid_template_areas": null,
       "grid_template_columns": null,
       "grid_template_rows": null,
       "height": null,
       "justify_content": null,
       "justify_items": null,
       "left": null,
       "margin": null,
       "max_height": null,
       "max_width": null,
       "min_height": null,
       "min_width": null,
       "object_fit": null,
       "object_position": null,
       "order": null,
       "overflow": null,
       "overflow_x": null,
       "overflow_y": null,
       "padding": null,
       "right": null,
       "top": null,
       "visibility": null,
       "width": null
      }
     },
     "dbc628963a3a443484d27a5118cf81e9": {
      "model_module": "@jupyter-widgets/controls",
      "model_module_version": "1.5.0",
      "model_name": "ProgressStyleModel",
      "state": {
       "_model_module": "@jupyter-widgets/controls",
       "_model_module_version": "1.5.0",
       "_model_name": "ProgressStyleModel",
       "_view_count": null,
       "_view_module": "@jupyter-widgets/base",
       "_view_module_version": "1.2.0",
       "_view_name": "StyleView",
       "bar_color": null,
       "description_width": ""
      }
     },
     "de6800f9899b4bb2890e1b36998e1db8": {
      "model_module": "@jupyter-widgets/base",
      "model_module_version": "1.2.0",
      "model_name": "LayoutModel",
      "state": {
       "_model_module": "@jupyter-widgets/base",
       "_model_module_version": "1.2.0",
       "_model_name": "LayoutModel",
       "_view_count": null,
       "_view_module": "@jupyter-widgets/base",
       "_view_module_version": "1.2.0",
       "_view_name": "LayoutView",
       "align_content": null,
       "align_items": null,
       "align_self": null,
       "border": null,
       "bottom": null,
       "display": null,
       "flex": null,
       "flex_flow": null,
       "grid_area": null,
       "grid_auto_columns": null,
       "grid_auto_flow": null,
       "grid_auto_rows": null,
       "grid_column": null,
       "grid_gap": null,
       "grid_row": null,
       "grid_template_areas": null,
       "grid_template_columns": null,
       "grid_template_rows": null,
       "height": null,
       "justify_content": null,
       "justify_items": null,
       "left": null,
       "margin": null,
       "max_height": null,
       "max_width": null,
       "min_height": null,
       "min_width": null,
       "object_fit": null,
       "object_position": null,
       "order": null,
       "overflow": null,
       "overflow_x": null,
       "overflow_y": null,
       "padding": null,
       "right": null,
       "top": null,
       "visibility": null,
       "width": null
      }
     },
     "f1ef4035e56f40a69ed998676391dd57": {
      "model_module": "@jupyter-widgets/base",
      "model_module_version": "1.2.0",
      "model_name": "LayoutModel",
      "state": {
       "_model_module": "@jupyter-widgets/base",
       "_model_module_version": "1.2.0",
       "_model_name": "LayoutModel",
       "_view_count": null,
       "_view_module": "@jupyter-widgets/base",
       "_view_module_version": "1.2.0",
       "_view_name": "LayoutView",
       "align_content": null,
       "align_items": null,
       "align_self": null,
       "border": null,
       "bottom": null,
       "display": null,
       "flex": null,
       "flex_flow": null,
       "grid_area": null,
       "grid_auto_columns": null,
       "grid_auto_flow": null,
       "grid_auto_rows": null,
       "grid_column": null,
       "grid_gap": null,
       "grid_row": null,
       "grid_template_areas": null,
       "grid_template_columns": null,
       "grid_template_rows": null,
       "height": null,
       "justify_content": null,
       "justify_items": null,
       "left": null,
       "margin": null,
       "max_height": null,
       "max_width": null,
       "min_height": null,
       "min_width": null,
       "object_fit": null,
       "object_position": null,
       "order": null,
       "overflow": null,
       "overflow_x": null,
       "overflow_y": null,
       "padding": null,
       "right": null,
       "top": null,
       "visibility": null,
       "width": null
      }
     },
     "f5c12d018310439780f4e587b85a715d": {
      "model_module": "@jupyter-widgets/controls",
      "model_module_version": "1.5.0",
      "model_name": "HTMLModel",
      "state": {
       "_dom_classes": [],
       "_model_module": "@jupyter-widgets/controls",
       "_model_module_version": "1.5.0",
       "_model_name": "HTMLModel",
       "_view_count": null,
       "_view_module": "@jupyter-widgets/controls",
       "_view_module_version": "1.5.0",
       "_view_name": "HTMLView",
       "description": "",
       "description_tooltip": null,
       "layout": "IPY_MODEL_371cff1f95cb40c1a5b1facbd5bec403",
       "placeholder": "​",
       "style": "IPY_MODEL_adb78e3477e94f4f943f3eba6e8a95e0",
       "value": " 420/420 [00:00&lt;00:00, 16.2kB/s]"
      }
     }
    },
    "version_major": 2,
    "version_minor": 0
   }
  }
 },
 "nbformat": 4,
 "nbformat_minor": 5
}
