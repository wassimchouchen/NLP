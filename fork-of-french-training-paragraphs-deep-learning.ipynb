{
 "cells": [
  {
   "cell_type": "code",
   "execution_count": 1,
   "id": "6afd66db",
   "metadata": {
    "_cell_guid": "b1076dfc-b9ad-4769-8c92-a6c4dae69d19",
    "_uuid": "8f2839f25d086af736a60e9eeb907d3b93b6e0e5",
    "execution": {
     "iopub.execute_input": "2022-07-04T08:52:05.947789Z",
     "iopub.status.busy": "2022-07-04T08:52:05.946999Z",
     "iopub.status.idle": "2022-07-04T08:52:13.875164Z",
     "shell.execute_reply": "2022-07-04T08:52:13.874509Z",
     "shell.execute_reply.started": "2022-07-04T08:38:31.144167Z"
    },
    "papermill": {
     "duration": 7.979616,
     "end_time": "2022-07-04T08:52:13.875325",
     "exception": false,
     "start_time": "2022-07-04T08:52:05.895709",
     "status": "completed"
    },
    "tags": []
   },
   "outputs": [],
   "source": [
    "import os\n",
    "\n",
    "import random\n",
    "import numpy as np\n",
    "\n",
    "import pandas as pd\n",
    "import torch\n",
    "from torch.utils.data import Dataset, random_split\n",
    "from transformers import (\n",
    "    AdamW,\n",
    "    Trainer,\n",
    "    TrainingArguments,\n",
    "    AutoTokenizer,\n",
    "    AutoModelForSequenceClassification,\n",
    "    get_cosine_schedule_with_warmup,\n",
    ")\n",
    "from sklearn.preprocessing import LabelEncoder\n",
    "from sklearn.metrics import accuracy_score\n",
    "import warnings\n",
    "warnings.filterwarnings('ignore')"
   ]
  },
  {
   "cell_type": "code",
   "execution_count": 2,
   "id": "99b55e42",
   "metadata": {
    "execution": {
     "iopub.execute_input": "2022-07-04T08:52:13.959147Z",
     "iopub.status.busy": "2022-07-04T08:52:13.958566Z",
     "iopub.status.idle": "2022-07-04T08:52:13.973905Z",
     "shell.execute_reply": "2022-07-04T08:52:13.973380Z",
     "shell.execute_reply.started": "2022-07-04T07:45:00.384216Z"
    },
    "papermill": {
     "duration": 0.058616,
     "end_time": "2022-07-04T08:52:13.974031",
     "exception": false,
     "start_time": "2022-07-04T08:52:13.915415",
     "status": "completed"
    },
    "tags": []
   },
   "outputs": [],
   "source": [
    "new_data=pd.read_csv(\"../input/csvvvv/Classeur 1 (5).csv\")"
   ]
  },
  {
   "cell_type": "code",
   "execution_count": 3,
   "id": "b4dd219d",
   "metadata": {
    "execution": {
     "iopub.execute_input": "2022-07-04T08:52:14.066580Z",
     "iopub.status.busy": "2022-07-04T08:52:14.065788Z",
     "iopub.status.idle": "2022-07-04T08:52:14.067894Z",
     "shell.execute_reply": "2022-07-04T08:52:14.068323Z",
     "shell.execute_reply.started": "2022-07-04T07:45:00.412909Z"
    },
    "papermill": {
     "duration": 0.052568,
     "end_time": "2022-07-04T08:52:14.068457",
     "exception": false,
     "start_time": "2022-07-04T08:52:14.015889",
     "status": "completed"
    },
    "tags": []
   },
   "outputs": [],
   "source": [
    "new_data.drop([\"Y\",\"Word Count\",\"Language\",' '], axis=1, inplace=True)\n",
    "new_data.columns = [\"text\", \"CEFR Review\",\"CEFR Level_Samar\"]"
   ]
  },
  {
   "cell_type": "code",
   "execution_count": 4,
   "id": "c8eee6e4",
   "metadata": {
    "execution": {
     "iopub.execute_input": "2022-07-04T08:52:14.155593Z",
     "iopub.status.busy": "2022-07-04T08:52:14.154961Z",
     "iopub.status.idle": "2022-07-04T08:52:14.158083Z",
     "shell.execute_reply": "2022-07-04T08:52:14.158504Z",
     "shell.execute_reply.started": "2022-07-04T07:45:00.433159Z"
    },
    "papermill": {
     "duration": 0.050443,
     "end_time": "2022-07-04T08:52:14.158636",
     "exception": false,
     "start_time": "2022-07-04T08:52:14.108193",
     "status": "completed"
    },
    "tags": []
   },
   "outputs": [
    {
     "data": {
      "text/plain": [
       "(191, 3)"
      ]
     },
     "execution_count": 4,
     "metadata": {},
     "output_type": "execute_result"
    }
   ],
   "source": [
    "new_data.shape"
   ]
  },
  {
   "cell_type": "code",
   "execution_count": 5,
   "id": "aff1460c",
   "metadata": {
    "execution": {
     "iopub.execute_input": "2022-07-04T08:52:14.246159Z",
     "iopub.status.busy": "2022-07-04T08:52:14.245293Z",
     "iopub.status.idle": "2022-07-04T08:52:14.255118Z",
     "shell.execute_reply": "2022-07-04T08:52:14.254681Z",
     "shell.execute_reply.started": "2022-07-04T07:45:00.444317Z"
    },
    "papermill": {
     "duration": 0.0546,
     "end_time": "2022-07-04T08:52:14.255245",
     "exception": false,
     "start_time": "2022-07-04T08:52:14.200645",
     "status": "completed"
    },
    "tags": []
   },
   "outputs": [
    {
     "data": {
      "text/html": [
       "<div>\n",
       "<style scoped>\n",
       "    .dataframe tbody tr th:only-of-type {\n",
       "        vertical-align: middle;\n",
       "    }\n",
       "\n",
       "    .dataframe tbody tr th {\n",
       "        vertical-align: top;\n",
       "    }\n",
       "\n",
       "    .dataframe thead th {\n",
       "        text-align: right;\n",
       "    }\n",
       "</style>\n",
       "<table border=\"1\" class=\"dataframe\">\n",
       "  <thead>\n",
       "    <tr style=\"text-align: right;\">\n",
       "      <th></th>\n",
       "      <th>text</th>\n",
       "      <th>CEFR Review</th>\n",
       "      <th>CEFR Level_Samar</th>\n",
       "    </tr>\n",
       "  </thead>\n",
       "  <tbody>\n",
       "    <tr>\n",
       "      <th>0</th>\n",
       "      <td>En 1815, M. Charles-François-Bienvenu Myriel é...</td>\n",
       "      <td>A2</td>\n",
       "      <td>C1</td>\n",
       "    </tr>\n",
       "    <tr>\n",
       "      <th>1</th>\n",
       "      <td>Quoique ce détail ne touche en aucune manière ...</td>\n",
       "      <td>C1</td>\n",
       "      <td>C2</td>\n",
       "    </tr>\n",
       "  </tbody>\n",
       "</table>\n",
       "</div>"
      ],
      "text/plain": [
       "                                                text CEFR Review  \\\n",
       "0  En 1815, M. Charles-François-Bienvenu Myriel é...          A2   \n",
       "1  Quoique ce détail ne touche en aucune manière ...          C1   \n",
       "\n",
       "  CEFR Level_Samar  \n",
       "0               C1  \n",
       "1               C2  "
      ]
     },
     "execution_count": 5,
     "metadata": {},
     "output_type": "execute_result"
    }
   ],
   "source": [
    "new_data.head(2)"
   ]
  },
  {
   "cell_type": "code",
   "execution_count": 6,
   "id": "2060ba26",
   "metadata": {
    "execution": {
     "iopub.execute_input": "2022-07-04T08:52:14.394349Z",
     "iopub.status.busy": "2022-07-04T08:52:14.393057Z",
     "iopub.status.idle": "2022-07-04T08:52:14.405023Z",
     "shell.execute_reply": "2022-07-04T08:52:14.404610Z",
     "shell.execute_reply.started": "2022-07-04T07:45:00.468015Z"
    },
    "papermill": {
     "duration": 0.108735,
     "end_time": "2022-07-04T08:52:14.405165",
     "exception": false,
     "start_time": "2022-07-04T08:52:14.296430",
     "status": "completed"
    },
    "tags": []
   },
   "outputs": [
    {
     "data": {
      "text/html": [
       "<div>\n",
       "<style scoped>\n",
       "    .dataframe tbody tr th:only-of-type {\n",
       "        vertical-align: middle;\n",
       "    }\n",
       "\n",
       "    .dataframe tbody tr th {\n",
       "        vertical-align: top;\n",
       "    }\n",
       "\n",
       "    .dataframe thead th {\n",
       "        text-align: right;\n",
       "    }\n",
       "</style>\n",
       "<table border=\"1\" class=\"dataframe\">\n",
       "  <thead>\n",
       "    <tr style=\"text-align: right;\">\n",
       "      <th></th>\n",
       "      <th>text</th>\n",
       "      <th>label</th>\n",
       "    </tr>\n",
       "  </thead>\n",
       "  <tbody>\n",
       "    <tr>\n",
       "      <th>0</th>\n",
       "      <td>En 1815, M. Charles-François-Bienvenu Myriel é...</td>\n",
       "      <td>C1</td>\n",
       "    </tr>\n",
       "    <tr>\n",
       "      <th>1</th>\n",
       "      <td>Quoique ce détail ne touche en aucune manière ...</td>\n",
       "      <td>C2</td>\n",
       "    </tr>\n",
       "    <tr>\n",
       "      <th>2</th>\n",
       "      <td>En 1804, M. Myriel était curé de Brignolles. I...</td>\n",
       "      <td>C1</td>\n",
       "    </tr>\n",
       "    <tr>\n",
       "      <th>3</th>\n",
       "      <td>Vers l'époque du couronnement, une petite affa...</td>\n",
       "      <td>C2</td>\n",
       "    </tr>\n",
       "    <tr>\n",
       "      <th>4</th>\n",
       "      <td>—Quel est ce bonhomme qui me regarde?</td>\n",
       "      <td>C1</td>\n",
       "    </tr>\n",
       "  </tbody>\n",
       "</table>\n",
       "</div>"
      ],
      "text/plain": [
       "                                                text label\n",
       "0  En 1815, M. Charles-François-Bienvenu Myriel é...    C1\n",
       "1  Quoique ce détail ne touche en aucune manière ...    C2\n",
       "2  En 1804, M. Myriel était curé de Brignolles. I...    C1\n",
       "3  Vers l'époque du couronnement, une petite affa...    C2\n",
       "4              —Quel est ce bonhomme qui me regarde?    C1"
      ]
     },
     "execution_count": 6,
     "metadata": {},
     "output_type": "execute_result"
    }
   ],
   "source": [
    "mike_20_june_samar=new_data[pd.notnull(new_data['CEFR Level_Samar'])]\n",
    "mike_20_june_samar.columns = [\"text\", \"CEFR Review\",\"label\"]\n",
    "mike_20_june_samar.drop([\"CEFR Review\"],axis=1, inplace=True)\n",
    "mike_20_june_samar.to_csv(\"mike_20_june_samar.csv\" , index=False)\n",
    "mike_20_june_samar.head()"
   ]
  },
  {
   "cell_type": "code",
   "execution_count": 7,
   "id": "394cb834",
   "metadata": {
    "execution": {
     "iopub.execute_input": "2022-07-04T08:52:14.496349Z",
     "iopub.status.busy": "2022-07-04T08:52:14.494084Z",
     "iopub.status.idle": "2022-07-04T08:52:14.505831Z",
     "shell.execute_reply": "2022-07-04T08:52:14.506381Z",
     "shell.execute_reply.started": "2022-07-04T07:45:00.493156Z"
    },
    "papermill": {
     "duration": 0.060628,
     "end_time": "2022-07-04T08:52:14.506558",
     "exception": false,
     "start_time": "2022-07-04T08:52:14.445930",
     "status": "completed"
    },
    "tags": []
   },
   "outputs": [
    {
     "data": {
      "text/html": [
       "<div>\n",
       "<style scoped>\n",
       "    .dataframe tbody tr th:only-of-type {\n",
       "        vertical-align: middle;\n",
       "    }\n",
       "\n",
       "    .dataframe tbody tr th {\n",
       "        vertical-align: top;\n",
       "    }\n",
       "\n",
       "    .dataframe thead th {\n",
       "        text-align: right;\n",
       "    }\n",
       "</style>\n",
       "<table border=\"1\" class=\"dataframe\">\n",
       "  <thead>\n",
       "    <tr style=\"text-align: right;\">\n",
       "      <th></th>\n",
       "      <th>text</th>\n",
       "      <th>label</th>\n",
       "    </tr>\n",
       "  </thead>\n",
       "  <tbody>\n",
       "    <tr>\n",
       "      <th>0</th>\n",
       "      <td>En 1815, M. Charles-François-Bienvenu Myriel é...</td>\n",
       "      <td>A2</td>\n",
       "    </tr>\n",
       "    <tr>\n",
       "      <th>1</th>\n",
       "      <td>Quoique ce détail ne touche en aucune manière ...</td>\n",
       "      <td>C1</td>\n",
       "    </tr>\n",
       "    <tr>\n",
       "      <th>2</th>\n",
       "      <td>En 1804, M. Myriel était curé de Brignolles. I...</td>\n",
       "      <td>A2</td>\n",
       "    </tr>\n",
       "    <tr>\n",
       "      <th>3</th>\n",
       "      <td>Vers l'époque du couronnement, une petite affa...</td>\n",
       "      <td>B2</td>\n",
       "    </tr>\n",
       "    <tr>\n",
       "      <th>4</th>\n",
       "      <td>—Quel est ce bonhomme qui me regarde?</td>\n",
       "      <td>A2</td>\n",
       "    </tr>\n",
       "  </tbody>\n",
       "</table>\n",
       "</div>"
      ],
      "text/plain": [
       "                                                text label\n",
       "0  En 1815, M. Charles-François-Bienvenu Myriel é...    A2\n",
       "1  Quoique ce détail ne touche en aucune manière ...    C1\n",
       "2  En 1804, M. Myriel était curé de Brignolles. I...    A2\n",
       "3  Vers l'époque du couronnement, une petite affa...    B2\n",
       "4              —Quel est ce bonhomme qui me regarde?    A2"
      ]
     },
     "execution_count": 7,
     "metadata": {},
     "output_type": "execute_result"
    }
   ],
   "source": [
    "mike_20_june_new=new_data[pd.notnull(new_data['CEFR Review'])]\n",
    "mike_20_june_new.columns = [\"text\", \"label\",\"CEFR Level_Samar\"]\n",
    "mike_20_june_new.drop([\"CEFR Level_Samar\"],axis=1, inplace=True)\n",
    "mike_20_june_new.to_csv(\"mike_20_june_new.csv\" , index=False)\n",
    "mike_20_june_new.head() "
   ]
  },
  {
   "cell_type": "markdown",
   "id": "668006dc",
   "metadata": {
    "papermill": {
     "duration": 0.041966,
     "end_time": "2022-07-04T08:52:14.590990",
     "exception": false,
     "start_time": "2022-07-04T08:52:14.549024",
     "status": "completed"
    },
    "tags": []
   },
   "source": [
    "**!!!! samar annotation seems to be weird because there is just C1 and C2**"
   ]
  },
  {
   "cell_type": "code",
   "execution_count": 8,
   "id": "fee1c946",
   "metadata": {
    "execution": {
     "iopub.execute_input": "2022-07-04T08:52:14.680692Z",
     "iopub.status.busy": "2022-07-04T08:52:14.680048Z",
     "iopub.status.idle": "2022-07-04T08:52:14.682760Z",
     "shell.execute_reply": "2022-07-04T08:52:14.683196Z",
     "shell.execute_reply.started": "2022-07-04T07:45:00.514101Z"
    },
    "papermill": {
     "duration": 0.051331,
     "end_time": "2022-07-04T08:52:14.683339",
     "exception": false,
     "start_time": "2022-07-04T08:52:14.632008",
     "status": "completed"
    },
    "tags": []
   },
   "outputs": [
    {
     "data": {
      "text/plain": [
       "(array(['C1', 'C2'], dtype=object),\n",
       " array(['A2', 'C1', 'B2', 'A1', 'B1', 'C2'], dtype=object))"
      ]
     },
     "execution_count": 8,
     "metadata": {},
     "output_type": "execute_result"
    }
   ],
   "source": [
    "mike_20_june_samar[\"label\"].unique(), mike_20_june_new[\"label\"].unique()"
   ]
  },
  {
   "cell_type": "code",
   "execution_count": 9,
   "id": "5eee6a5e",
   "metadata": {
    "execution": {
     "iopub.execute_input": "2022-07-04T08:52:14.778308Z",
     "iopub.status.busy": "2022-07-04T08:52:14.772529Z",
     "iopub.status.idle": "2022-07-04T08:52:14.781822Z",
     "shell.execute_reply": "2022-07-04T08:52:14.781217Z",
     "shell.execute_reply.started": "2022-07-04T07:45:00.530813Z"
    },
    "papermill": {
     "duration": 0.056582,
     "end_time": "2022-07-04T08:52:14.781968",
     "exception": false,
     "start_time": "2022-07-04T08:52:14.725386",
     "status": "completed"
    },
    "tags": []
   },
   "outputs": [
    {
     "data": {
      "text/plain": [
       "C1    58\n",
       "A1    41\n",
       "B2    33\n",
       "B1    29\n",
       "A2    24\n",
       "C2     6\n",
       "Name: label, dtype: int64"
      ]
     },
     "execution_count": 9,
     "metadata": {},
     "output_type": "execute_result"
    }
   ],
   "source": [
    "mike_20_june_new.label.value_counts()"
   ]
  },
  {
   "cell_type": "code",
   "execution_count": 10,
   "id": "7f178b8f",
   "metadata": {
    "execution": {
     "iopub.execute_input": "2022-07-04T08:52:14.879544Z",
     "iopub.status.busy": "2022-07-04T08:52:14.878883Z",
     "iopub.status.idle": "2022-07-04T08:52:14.881581Z",
     "shell.execute_reply": "2022-07-04T08:52:14.882015Z",
     "shell.execute_reply.started": "2022-07-04T07:45:00.548699Z"
    },
    "papermill": {
     "duration": 0.055282,
     "end_time": "2022-07-04T08:52:14.882197",
     "exception": false,
     "start_time": "2022-07-04T08:52:14.826915",
     "status": "completed"
    },
    "tags": []
   },
   "outputs": [
    {
     "data": {
      "text/plain": [
       "((141, 2), (191, 2))"
      ]
     },
     "execution_count": 10,
     "metadata": {},
     "output_type": "execute_result"
    }
   ],
   "source": [
    "mike_20_june_samar.shape,mike_20_june_new.shape"
   ]
  },
  {
   "cell_type": "code",
   "execution_count": 11,
   "id": "45ca9122",
   "metadata": {
    "execution": {
     "iopub.execute_input": "2022-07-04T08:52:14.973996Z",
     "iopub.status.busy": "2022-07-04T08:52:14.973427Z",
     "iopub.status.idle": "2022-07-04T08:52:14.987831Z",
     "shell.execute_reply": "2022-07-04T08:52:14.987396Z",
     "shell.execute_reply.started": "2022-07-04T07:45:00.561164Z"
    },
    "papermill": {
     "duration": 0.061095,
     "end_time": "2022-07-04T08:52:14.987975",
     "exception": false,
     "start_time": "2022-07-04T08:52:14.926880",
     "status": "completed"
    },
    "tags": []
   },
   "outputs": [
    {
     "data": {
      "text/plain": [
       "(315, 4)"
      ]
     },
     "execution_count": 11,
     "metadata": {},
     "output_type": "execute_result"
    }
   ],
   "source": [
    "trainn=pd.read_csv(\"../input/frenchcefr/french dataset.csv\")\n",
    "trainn.shape"
   ]
  },
  {
   "cell_type": "code",
   "execution_count": null,
   "id": "c9a880d1",
   "metadata": {
    "papermill": {
     "duration": 0.042154,
     "end_time": "2022-07-04T08:52:15.072532",
     "exception": false,
     "start_time": "2022-07-04T08:52:15.030378",
     "status": "completed"
    },
    "tags": []
   },
   "outputs": [],
   "source": []
  },
  {
   "cell_type": "code",
   "execution_count": null,
   "id": "e5c15883",
   "metadata": {
    "papermill": {
     "duration": 0.05331,
     "end_time": "2022-07-04T08:52:15.166931",
     "exception": false,
     "start_time": "2022-07-04T08:52:15.113621",
     "status": "completed"
    },
    "tags": []
   },
   "outputs": [],
   "source": []
  },
  {
   "cell_type": "code",
   "execution_count": null,
   "id": "b5f1a0bd",
   "metadata": {
    "papermill": {
     "duration": 0.043173,
     "end_time": "2022-07-04T08:52:15.255164",
     "exception": false,
     "start_time": "2022-07-04T08:52:15.211991",
     "status": "completed"
    },
    "tags": []
   },
   "outputs": [],
   "source": []
  },
  {
   "cell_type": "markdown",
   "id": "bbeb193c",
   "metadata": {
    "papermill": {
     "duration": 0.041772,
     "end_time": "2022-07-04T08:52:15.339412",
     "exception": false,
     "start_time": "2022-07-04T08:52:15.297640",
     "status": "completed"
    },
    "tags": []
   },
   "source": [
    "****"
   ]
  },
  {
   "cell_type": "code",
   "execution_count": 12,
   "id": "3c0aa312",
   "metadata": {
    "execution": {
     "iopub.execute_input": "2022-07-04T08:52:15.430600Z",
     "iopub.status.busy": "2022-07-04T08:52:15.429814Z",
     "iopub.status.idle": "2022-07-04T08:52:18.953693Z",
     "shell.execute_reply": "2022-07-04T08:52:18.954172Z",
     "shell.execute_reply.started": "2022-07-04T07:45:00.594123Z"
    },
    "papermill": {
     "duration": 3.5718,
     "end_time": "2022-07-04T08:52:18.954342",
     "exception": false,
     "start_time": "2022-07-04T08:52:15.382542",
     "status": "completed"
    },
    "tags": []
   },
   "outputs": [
    {
     "data": {
      "application/vnd.jupyter.widget-view+json": {
       "model_id": "4e208f25a06846cfb737efba02ccb100",
       "version_major": 2,
       "version_minor": 0
      },
      "text/plain": [
       "Downloading:   0%|          | 0.00/420 [00:00<?, ?B/s]"
      ]
     },
     "metadata": {},
     "output_type": "display_data"
    },
    {
     "data": {
      "application/vnd.jupyter.widget-view+json": {
       "model_id": "b45e5363730a405c9e5a96855360b3c6",
       "version_major": 2,
       "version_minor": 0
      },
      "text/plain": [
       "Downloading:   0%|          | 0.00/227k [00:00<?, ?B/s]"
      ]
     },
     "metadata": {},
     "output_type": "display_data"
    },
    {
     "data": {
      "application/vnd.jupyter.widget-view+json": {
       "model_id": "e59837aa97a0495caa74e0b2f85d085d",
       "version_major": 2,
       "version_minor": 0
      },
      "text/plain": [
       "Downloading:   0%|          | 0.00/83.0 [00:00<?, ?B/s]"
      ]
     },
     "metadata": {},
     "output_type": "display_data"
    }
   ],
   "source": [
    "model_name = \"dbmdz/bert-base-french-europeana-cased\"\n",
    "\n",
    "tokenizer = AutoTokenizer.from_pretrained(model_name)\n",
    "\n",
    "device = torch.device(\"cuda\" if torch.cuda.is_available() else \"cpu\")"
   ]
  },
  {
   "cell_type": "code",
   "execution_count": 13,
   "id": "7d141dea",
   "metadata": {
    "execution": {
     "iopub.execute_input": "2022-07-04T08:52:19.050197Z",
     "iopub.status.busy": "2022-07-04T08:52:19.049234Z",
     "iopub.status.idle": "2022-07-04T08:52:19.051249Z",
     "shell.execute_reply": "2022-07-04T08:52:19.051702Z",
     "shell.execute_reply.started": "2022-07-04T07:45:04.19821Z"
    },
    "papermill": {
     "duration": 0.051673,
     "end_time": "2022-07-04T08:52:19.051840",
     "exception": false,
     "start_time": "2022-07-04T08:52:19.000167",
     "status": "completed"
    },
    "tags": []
   },
   "outputs": [],
   "source": [
    "lr = 2e-5\n",
    "epochs =  6\n",
    "batch_size = 5\n",
    "max_seq_len = 75\n",
    "\n",
    "test_frac = 0.1"
   ]
  },
  {
   "cell_type": "code",
   "execution_count": 14,
   "id": "2e345e05",
   "metadata": {
    "execution": {
     "iopub.execute_input": "2022-07-04T08:52:19.146014Z",
     "iopub.status.busy": "2022-07-04T08:52:19.145340Z",
     "iopub.status.idle": "2022-07-04T08:52:19.150215Z",
     "shell.execute_reply": "2022-07-04T08:52:19.149752Z",
     "shell.execute_reply.started": "2022-07-04T07:45:04.205077Z"
    },
    "papermill": {
     "duration": 0.053607,
     "end_time": "2022-07-04T08:52:19.150335",
     "exception": false,
     "start_time": "2022-07-04T08:52:19.096728",
     "status": "completed"
    },
    "tags": []
   },
   "outputs": [],
   "source": [
    "import os\n",
    "\n",
    "def set_seed(seed=106052):\n",
    "    \"\"\"Set seed for reproducibility.\n",
    "    \"\"\"\n",
    "    random.seed(seed)\n",
    "    np.random.seed(seed)\n",
    "    torch.manual_seed(seed)\n",
    "    torch.cuda.manual_seed_all(seed)\n",
    "    \n",
    "    os.environ['PYTHONHASHSEED'] = str(seed)\n",
    "    \n",
    "set_seed()"
   ]
  },
  {
   "cell_type": "code",
   "execution_count": 15,
   "id": "9a74a322",
   "metadata": {
    "execution": {
     "iopub.execute_input": "2022-07-04T08:52:19.247159Z",
     "iopub.status.busy": "2022-07-04T08:52:19.246259Z",
     "iopub.status.idle": "2022-07-04T08:52:19.247993Z",
     "shell.execute_reply": "2022-07-04T08:52:19.248531Z",
     "shell.execute_reply.started": "2022-07-04T07:45:04.226802Z"
    },
    "papermill": {
     "duration": 0.05494,
     "end_time": "2022-07-04T08:52:19.248668",
     "exception": false,
     "start_time": "2022-07-04T08:52:19.193728",
     "status": "completed"
    },
    "tags": []
   },
   "outputs": [],
   "source": [
    "class CEFRDataset(Dataset):\n",
    "    \"\"\"Classification dataset, built on top of pytorch dataset object\n",
    "    \"\"\"\n",
    "    \n",
    "    def __init__(self, texts, labels):\n",
    "        \n",
    "        self.encoder = LabelEncoder()\n",
    "        print(self.encoder.__dict__)\n",
    "        self.texts = texts\n",
    "        self.labels = self.encoder.fit_transform(labels)\n",
    "\n",
    "    def __len__(self):\n",
    "        return len(self.texts)\n",
    "\n",
    "    def __getitem__(self, index):\n",
    "        text = self.texts[index]\n",
    "        label = self.labels[index]\n",
    "        encoded_text = tokenizer(\n",
    "            text,\n",
    "            padding=\"max_length\",\n",
    "            max_length=max_seq_len,\n",
    "            truncation=True,\n",
    "            return_tensors=\"pt\",\n",
    "        )\n",
    "        encoded_text[\"input_ids\"] = encoded_text[\"input_ids\"].squeeze()\n",
    "        encoded_text[\"attention_mask\"] = encoded_text[\"attention_mask\"].squeeze()\n",
    "        label = torch.tensor(label)\n",
    "\n",
    "        return {\n",
    "            \"input_ids\": encoded_text[\"input_ids\"],\n",
    "            \"attention_mask\": encoded_text[\"attention_mask\"],\n",
    "            \"labels\": label,\n",
    "        }\n",
    "\n",
    "    def get_labels(self):\n",
    "        return self.labels"
   ]
  },
  {
   "cell_type": "code",
   "execution_count": 16,
   "id": "ea4a816e",
   "metadata": {
    "execution": {
     "iopub.execute_input": "2022-07-04T08:52:19.341184Z",
     "iopub.status.busy": "2022-07-04T08:52:19.340326Z",
     "iopub.status.idle": "2022-07-04T08:52:19.342396Z",
     "shell.execute_reply": "2022-07-04T08:52:19.342845Z",
     "shell.execute_reply.started": "2022-07-04T07:45:04.240671Z"
    },
    "papermill": {
     "duration": 0.051189,
     "end_time": "2022-07-04T08:52:19.342974",
     "exception": false,
     "start_time": "2022-07-04T08:52:19.291785",
     "status": "completed"
    },
    "tags": []
   },
   "outputs": [],
   "source": [
    "def train(train_set, valid_set, epochs=10, warmup_size=0.1, lr=1e-3, batch_size=16):\n",
    "    model = get_model(model_name)\n",
    "    optim = AdamW(model.parameters(), lr=lr)\n",
    "    scheduler = get_scheduler(\n",
    "        optim, warmup_size, round(len(train_set) / batch_size * epochs)\n",
    "    )\n",
    "    training_args = get_training_args(epochs, batch_size)\n",
    "    trainer = Trainer(\n",
    "        model=model,\n",
    "        args=training_args,\n",
    "        train_dataset=train_set,\n",
    "        eval_dataset=valid_set,\n",
    "        optimizers=[optim, scheduler],\n",
    "        compute_metrics=compute_accuracy,\n",
    "    )\n",
    "    trainer.train()\n",
    "    trainer.save_model()\n",
    "    return trainer"
   ]
  },
  {
   "cell_type": "code",
   "execution_count": 17,
   "id": "8884d9b4",
   "metadata": {
    "execution": {
     "iopub.execute_input": "2022-07-04T08:52:19.435603Z",
     "iopub.status.busy": "2022-07-04T08:52:19.434748Z",
     "iopub.status.idle": "2022-07-04T08:52:19.436527Z",
     "shell.execute_reply": "2022-07-04T08:52:19.436969Z",
     "shell.execute_reply.started": "2022-07-04T07:45:04.258485Z"
    },
    "papermill": {
     "duration": 0.04923,
     "end_time": "2022-07-04T08:52:19.437120",
     "exception": false,
     "start_time": "2022-07-04T08:52:19.387890",
     "status": "completed"
    },
    "tags": []
   },
   "outputs": [],
   "source": [
    "def get_model(pretrained_checkpoint):\n",
    "    model = AutoModelForSequenceClassification.from_pretrained(\n",
    "        pretrained_checkpoint, num_labels=6\n",
    "    )\n",
    "    return model.to(device)"
   ]
  },
  {
   "cell_type": "code",
   "execution_count": 18,
   "id": "f59af691",
   "metadata": {
    "execution": {
     "iopub.execute_input": "2022-07-04T08:52:19.530941Z",
     "iopub.status.busy": "2022-07-04T08:52:19.530382Z",
     "iopub.status.idle": "2022-07-04T08:52:19.533316Z",
     "shell.execute_reply": "2022-07-04T08:52:19.532854Z",
     "shell.execute_reply.started": "2022-07-04T07:45:04.269869Z"
    },
    "papermill": {
     "duration": 0.053315,
     "end_time": "2022-07-04T08:52:19.533439",
     "exception": false,
     "start_time": "2022-07-04T08:52:19.480124",
     "status": "completed"
    },
    "tags": []
   },
   "outputs": [],
   "source": [
    "os.environ[\"WANDB_DISABLED\"] = \"true\"\n",
    "\n",
    "\n",
    "def get_scheduler(optimizer, warmup_size, total_steps):\n",
    "    scheduler = get_cosine_schedule_with_warmup(\n",
    "        optimizer,\n",
    "        num_warmup_steps=round(total_steps * warmup_size),\n",
    "        num_training_steps=total_steps,\n",
    "    )\n",
    "    return scheduler\n",
    "\n",
    "\n",
    "def get_training_args(epochs, batch_size):\n",
    "    return TrainingArguments(\n",
    "        output_dir=\"./b\",\n",
    "        num_train_epochs=epochs,\n",
    "        per_device_train_batch_size=batch_size,\n",
    "        logging_steps=50,\n",
    "        fp16=False,\n",
    "        evaluation_strategy=\"epoch\",\n",
    "        eval_accumulation_steps=1,\n",
    "        report_to=None,\n",
    "        save_total_limit=1,\n",
    "        load_best_model_at_end=True\n",
    "    )\n",
    "\n",
    "\n",
    "def compute_accuracy(pred):\n",
    "    labels = pred.label_ids\n",
    "    preds = pred.predictions.argmax(-1)\n",
    "    acc = accuracy_score(labels, preds)\n",
    "    return {\"accuracy\": acc}\n",
    "\n"
   ]
  },
  {
   "cell_type": "code",
   "execution_count": 19,
   "id": "6ba69b6d",
   "metadata": {
    "execution": {
     "iopub.execute_input": "2022-07-04T08:52:19.625486Z",
     "iopub.status.busy": "2022-07-04T08:52:19.624667Z",
     "iopub.status.idle": "2022-07-04T08:52:19.626967Z",
     "shell.execute_reply": "2022-07-04T08:52:19.626511Z",
     "shell.execute_reply.started": "2022-07-04T07:45:04.28278Z"
    },
    "papermill": {
     "duration": 0.049454,
     "end_time": "2022-07-04T08:52:19.627072",
     "exception": false,
     "start_time": "2022-07-04T08:52:19.577618",
     "status": "completed"
    },
    "tags": []
   },
   "outputs": [],
   "source": [
    "lr = 2e-5\n",
    "epochs =  7\n",
    "batch_size = 8\n",
    "max_seq_len = 512"
   ]
  },
  {
   "cell_type": "code",
   "execution_count": 20,
   "id": "aef1bb89",
   "metadata": {
    "execution": {
     "iopub.execute_input": "2022-07-04T08:52:19.721528Z",
     "iopub.status.busy": "2022-07-04T08:52:19.720295Z",
     "iopub.status.idle": "2022-07-04T08:52:19.722446Z",
     "shell.execute_reply": "2022-07-04T08:52:19.722940Z",
     "shell.execute_reply.started": "2022-07-04T07:45:04.30039Z"
    },
    "papermill": {
     "duration": 0.052723,
     "end_time": "2022-07-04T08:52:19.723100",
     "exception": false,
     "start_time": "2022-07-04T08:52:19.670377",
     "status": "completed"
    },
    "tags": []
   },
   "outputs": [],
   "source": [
    "def split_valid(df, frac=0.01):\n",
    "    \n",
    "    val = pd.DataFrame()\n",
    "    val[\"text\"] = \"\"\n",
    "    val[\"label\"] = -1\n",
    "    \n",
    "    for i in df.label.unique():\n",
    "        val = pd.concat([val, df[df.label == i].sample(frac=frac)])\n",
    "        \n",
    "    return df[~df.index.isin(val.index)].reset_index(drop=True) , val.reset_index(drop=True)"
   ]
  },
  {
   "cell_type": "code",
   "execution_count": null,
   "id": "63899955",
   "metadata": {
    "papermill": {
     "duration": 0.043366,
     "end_time": "2022-07-04T08:52:19.810212",
     "exception": false,
     "start_time": "2022-07-04T08:52:19.766846",
     "status": "completed"
    },
    "tags": []
   },
   "outputs": [],
   "source": []
  },
  {
   "cell_type": "code",
   "execution_count": 21,
   "id": "56fadb82",
   "metadata": {
    "execution": {
     "iopub.execute_input": "2022-07-04T08:52:19.902490Z",
     "iopub.status.busy": "2022-07-04T08:52:19.901511Z",
     "iopub.status.idle": "2022-07-04T08:52:19.903910Z",
     "shell.execute_reply": "2022-07-04T08:52:19.903386Z",
     "shell.execute_reply.started": "2022-07-04T07:45:04.313169Z"
    },
    "papermill": {
     "duration": 0.049986,
     "end_time": "2022-07-04T08:52:19.904022",
     "exception": false,
     "start_time": "2022-07-04T08:52:19.854036",
     "status": "completed"
    },
    "tags": []
   },
   "outputs": [],
   "source": [
    "# train_set_df = pd.read_csv(\"../input/newdatasets/mike_20_june_new (1).csv\")\n",
    "# train_set_df"
   ]
  },
  {
   "cell_type": "code",
   "execution_count": 22,
   "id": "a9714603",
   "metadata": {
    "execution": {
     "iopub.execute_input": "2022-07-04T08:52:20.004768Z",
     "iopub.status.busy": "2022-07-04T08:52:20.004150Z",
     "iopub.status.idle": "2022-07-04T08:52:20.006884Z",
     "shell.execute_reply": "2022-07-04T08:52:20.007339Z",
     "shell.execute_reply.started": "2022-07-04T07:45:04.326168Z"
    },
    "papermill": {
     "duration": 0.057975,
     "end_time": "2022-07-04T08:52:20.007487",
     "exception": false,
     "start_time": "2022-07-04T08:52:19.949512",
     "status": "completed"
    },
    "tags": []
   },
   "outputs": [
    {
     "data": {
      "text/html": [
       "<div>\n",
       "<style scoped>\n",
       "    .dataframe tbody tr th:only-of-type {\n",
       "        vertical-align: middle;\n",
       "    }\n",
       "\n",
       "    .dataframe tbody tr th {\n",
       "        vertical-align: top;\n",
       "    }\n",
       "\n",
       "    .dataframe thead th {\n",
       "        text-align: right;\n",
       "    }\n",
       "</style>\n",
       "<table border=\"1\" class=\"dataframe\">\n",
       "  <thead>\n",
       "    <tr style=\"text-align: right;\">\n",
       "      <th></th>\n",
       "      <th>text</th>\n",
       "      <th>label</th>\n",
       "    </tr>\n",
       "  </thead>\n",
       "  <tbody>\n",
       "    <tr>\n",
       "      <th>0</th>\n",
       "      <td>En 1815, M. Charles-François-Bienvenu Myriel é...</td>\n",
       "      <td>A2</td>\n",
       "    </tr>\n",
       "    <tr>\n",
       "      <th>1</th>\n",
       "      <td>Quoique ce détail ne touche en aucune manière ...</td>\n",
       "      <td>C1</td>\n",
       "    </tr>\n",
       "  </tbody>\n",
       "</table>\n",
       "</div>"
      ],
      "text/plain": [
       "                                                text label\n",
       "0  En 1815, M. Charles-François-Bienvenu Myriel é...    A2\n",
       "1  Quoique ce détail ne touche en aucune manière ...    C1"
      ]
     },
     "execution_count": 22,
     "metadata": {},
     "output_type": "execute_result"
    }
   ],
   "source": [
    "mike_20_june_new.head(2)"
   ]
  },
  {
   "cell_type": "code",
   "execution_count": 23,
   "id": "3f6c5721",
   "metadata": {
    "execution": {
     "iopub.execute_input": "2022-07-04T08:52:20.102113Z",
     "iopub.status.busy": "2022-07-04T08:52:20.101188Z",
     "iopub.status.idle": "2022-07-04T08:52:20.104581Z",
     "shell.execute_reply": "2022-07-04T08:52:20.104986Z",
     "shell.execute_reply.started": "2022-07-04T07:45:04.34477Z"
    },
    "papermill": {
     "duration": 0.052308,
     "end_time": "2022-07-04T08:52:20.105130",
     "exception": false,
     "start_time": "2022-07-04T08:52:20.052822",
     "status": "completed"
    },
    "tags": []
   },
   "outputs": [
    {
     "data": {
      "text/plain": [
       "(191, 2)"
      ]
     },
     "execution_count": 23,
     "metadata": {},
     "output_type": "execute_result"
    }
   ],
   "source": [
    "mike_20_june_new.shape"
   ]
  },
  {
   "cell_type": "code",
   "execution_count": 24,
   "id": "49f603ec",
   "metadata": {
    "execution": {
     "iopub.execute_input": "2022-07-04T08:52:20.197829Z",
     "iopub.status.busy": "2022-07-04T08:52:20.197285Z",
     "iopub.status.idle": "2022-07-04T08:52:20.210079Z",
     "shell.execute_reply": "2022-07-04T08:52:20.209631Z",
     "shell.execute_reply.started": "2022-07-04T07:45:04.358772Z"
    },
    "papermill": {
     "duration": 0.060887,
     "end_time": "2022-07-04T08:52:20.210212",
     "exception": false,
     "start_time": "2022-07-04T08:52:20.149325",
     "status": "completed"
    },
    "tags": []
   },
   "outputs": [],
   "source": [
    "new=pd.read_csv(\"../input/lingua/fr_lingua.csv\")"
   ]
  },
  {
   "cell_type": "code",
   "execution_count": 25,
   "id": "26d27532",
   "metadata": {
    "execution": {
     "iopub.execute_input": "2022-07-04T08:52:20.304543Z",
     "iopub.status.busy": "2022-07-04T08:52:20.303657Z",
     "iopub.status.idle": "2022-07-04T08:52:20.305518Z",
     "shell.execute_reply": "2022-07-04T08:52:20.305963Z",
     "shell.execute_reply.started": "2022-07-04T07:45:04.385777Z"
    },
    "papermill": {
     "duration": 0.050505,
     "end_time": "2022-07-04T08:52:20.306108",
     "exception": false,
     "start_time": "2022-07-04T08:52:20.255603",
     "status": "completed"
    },
    "tags": []
   },
   "outputs": [],
   "source": [
    "new.columns=[\"text\",\"label\"]"
   ]
  },
  {
   "cell_type": "code",
   "execution_count": 26,
   "id": "3bfecf60",
   "metadata": {
    "execution": {
     "iopub.execute_input": "2022-07-04T08:52:20.402331Z",
     "iopub.status.busy": "2022-07-04T08:52:20.401476Z",
     "iopub.status.idle": "2022-07-04T08:52:20.411640Z",
     "shell.execute_reply": "2022-07-04T08:52:20.411198Z",
     "shell.execute_reply.started": "2022-07-04T07:45:04.391786Z"
    },
    "papermill": {
     "duration": 0.060106,
     "end_time": "2022-07-04T08:52:20.411750",
     "exception": false,
     "start_time": "2022-07-04T08:52:20.351644",
     "status": "completed"
    },
    "tags": []
   },
   "outputs": [
    {
     "data": {
      "text/plain": [
       "((315, 2),\n",
       "                                                 text label\n",
       " 0  Il était une fois un prince qui voulait épouse...    A2\n",
       " 1  Il fit le tour de la Terre pour en trouver une...    B1)"
      ]
     },
     "execution_count": 26,
     "metadata": {},
     "output_type": "execute_result"
    }
   ],
   "source": [
    "french=pd.read_csv(\"../input/frenchcefr/french dataset.csv\")\n",
    "french=french[[\"text\",\"label\"]]\n",
    "french.shape,french.head(2)\n"
   ]
  },
  {
   "cell_type": "code",
   "execution_count": 27,
   "id": "cae41c59",
   "metadata": {
    "execution": {
     "iopub.execute_input": "2022-07-04T08:52:20.507021Z",
     "iopub.status.busy": "2022-07-04T08:52:20.506122Z",
     "iopub.status.idle": "2022-07-04T08:52:20.508519Z",
     "shell.execute_reply": "2022-07-04T08:52:20.507861Z",
     "shell.execute_reply.started": "2022-07-04T07:45:04.415384Z"
    },
    "papermill": {
     "duration": 0.051614,
     "end_time": "2022-07-04T08:52:20.508657",
     "exception": false,
     "start_time": "2022-07-04T08:52:20.457043",
     "status": "completed"
    },
    "tags": []
   },
   "outputs": [],
   "source": [
    "# train_set_df=pd.concat([french, mike_20_june_new,new], ignore_index=True)"
   ]
  },
  {
   "cell_type": "code",
   "execution_count": null,
   "id": "c86625ab",
   "metadata": {
    "papermill": {
     "duration": 0.044386,
     "end_time": "2022-07-04T08:52:20.597699",
     "exception": false,
     "start_time": "2022-07-04T08:52:20.553313",
     "status": "completed"
    },
    "tags": []
   },
   "outputs": [],
   "source": []
  },
  {
   "cell_type": "code",
   "execution_count": null,
   "id": "db0df6a7",
   "metadata": {
    "papermill": {
     "duration": 0.044973,
     "end_time": "2022-07-04T08:52:20.687901",
     "exception": false,
     "start_time": "2022-07-04T08:52:20.642928",
     "status": "completed"
    },
    "tags": []
   },
   "outputs": [],
   "source": []
  },
  {
   "cell_type": "code",
   "execution_count": 28,
   "id": "f4ce3825",
   "metadata": {
    "execution": {
     "iopub.execute_input": "2022-07-04T08:52:20.784692Z",
     "iopub.status.busy": "2022-07-04T08:52:20.784012Z",
     "iopub.status.idle": "2022-07-04T08:52:20.818956Z",
     "shell.execute_reply": "2022-07-04T08:52:20.818481Z",
     "shell.execute_reply.started": "2022-07-04T07:45:04.423865Z"
    },
    "papermill": {
     "duration": 0.086614,
     "end_time": "2022-07-04T08:52:20.819103",
     "exception": false,
     "start_time": "2022-07-04T08:52:20.732489",
     "status": "completed"
    },
    "tags": []
   },
   "outputs": [],
   "source": [
    "from sklearn import preprocessing\n",
    "le = preprocessing.LabelEncoder()\n",
    "\n",
    "train_set_df = pd.read_csv(\"../input/newdatasets/mike_20_june_new (1).csv\")\n",
    "train_set_df = train_set_df[train_set_df.label != \"XX\"]\n",
    "train_set_df = train_set_df[[\"text\", \"label\"]]\n",
    "\n",
    "train_set_df.text = train_set_df.text.apply(lambda x: x.replace(\"\\r\", \"\").replace(\"\\n\", \" \"))\n",
    "\n",
    "extra_df = pd.read_csv(\"../input/frenchcefr/french_mike_june.csv\")\n",
    "extra_df.columns = [\"text\", \"label\", \"label_\"]\n",
    "extra_df = extra_df[[\"text\", \"label\"]]\n",
    "extra_df.text = extra_df.text.astype(str)\n",
    "#train_set_df = pd.concat([train_set_df, extra_df]).reset_index(drop=True)\n",
    "\n",
    "train_set_df, valid_set_df = split_valid(train_set_df)"
   ]
  },
  {
   "cell_type": "code",
   "execution_count": 29,
   "id": "c44f7891",
   "metadata": {
    "execution": {
     "iopub.execute_input": "2022-07-04T08:52:20.915064Z",
     "iopub.status.busy": "2022-07-04T08:52:20.914485Z",
     "iopub.status.idle": "2022-07-04T08:52:20.917079Z",
     "shell.execute_reply": "2022-07-04T08:52:20.917506Z",
     "shell.execute_reply.started": "2022-07-04T07:45:04.474737Z"
    },
    "papermill": {
     "duration": 0.053179,
     "end_time": "2022-07-04T08:52:20.917635",
     "exception": false,
     "start_time": "2022-07-04T08:52:20.864456",
     "status": "completed"
    },
    "tags": []
   },
   "outputs": [
    {
     "data": {
      "text/plain": [
       "array(['A2', 'C1', 'B2', 'A1', 'B1', 'C2'], dtype=object)"
      ]
     },
     "execution_count": 29,
     "metadata": {},
     "output_type": "execute_result"
    }
   ],
   "source": [
    "train_set_df.label.unique()"
   ]
  },
  {
   "cell_type": "code",
   "execution_count": 30,
   "id": "f2bee509",
   "metadata": {
    "execution": {
     "iopub.execute_input": "2022-07-04T08:52:21.014941Z",
     "iopub.status.busy": "2022-07-04T08:52:21.013123Z",
     "iopub.status.idle": "2022-07-04T08:52:21.015550Z",
     "shell.execute_reply": "2022-07-04T08:52:21.015951Z",
     "shell.execute_reply.started": "2022-07-04T07:45:04.483276Z"
    },
    "papermill": {
     "duration": 0.053684,
     "end_time": "2022-07-04T08:52:21.016083",
     "exception": false,
     "start_time": "2022-07-04T08:52:20.962399",
     "status": "completed"
    },
    "tags": []
   },
   "outputs": [],
   "source": [
    "train_set_df.label = le.fit_transform(train_set_df.label)\n",
    "valid_set_df.label = le.transform(valid_set_df.label)"
   ]
  },
  {
   "cell_type": "code",
   "execution_count": 31,
   "id": "1c9cc0b1",
   "metadata": {
    "execution": {
     "iopub.execute_input": "2022-07-04T08:52:21.113016Z",
     "iopub.status.busy": "2022-07-04T08:52:21.112432Z",
     "iopub.status.idle": "2022-07-04T08:52:21.114988Z",
     "shell.execute_reply": "2022-07-04T08:52:21.115439Z",
     "shell.execute_reply.started": "2022-07-04T07:45:04.493402Z"
    },
    "papermill": {
     "duration": 0.05359,
     "end_time": "2022-07-04T08:52:21.115571",
     "exception": false,
     "start_time": "2022-07-04T08:52:21.061981",
     "status": "completed"
    },
    "tags": []
   },
   "outputs": [
    {
     "data": {
      "text/plain": [
       "6"
      ]
     },
     "execution_count": 31,
     "metadata": {},
     "output_type": "execute_result"
    }
   ],
   "source": [
    "train_set_df.label.nunique()"
   ]
  },
  {
   "cell_type": "code",
   "execution_count": 32,
   "id": "e0a42c93",
   "metadata": {
    "execution": {
     "iopub.execute_input": "2022-07-04T08:52:21.217031Z",
     "iopub.status.busy": "2022-07-04T08:52:21.215594Z",
     "iopub.status.idle": "2022-07-04T08:52:21.219797Z",
     "shell.execute_reply": "2022-07-04T08:52:21.220276Z",
     "shell.execute_reply.started": "2022-07-04T07:45:04.506275Z"
    },
    "papermill": {
     "duration": 0.06085,
     "end_time": "2022-07-04T08:52:21.220422",
     "exception": false,
     "start_time": "2022-07-04T08:52:21.159572",
     "status": "completed"
    },
    "tags": []
   },
   "outputs": [
    {
     "data": {
      "text/plain": [
       "4    57\n",
       "0    41\n",
       "3    33\n",
       "2    29\n",
       "1    24\n",
       "5     6\n",
       "Name: label, dtype: int64"
      ]
     },
     "execution_count": 32,
     "metadata": {},
     "output_type": "execute_result"
    }
   ],
   "source": [
    "train_set_df.label.value_counts()"
   ]
  },
  {
   "cell_type": "code",
   "execution_count": 33,
   "id": "da573406",
   "metadata": {
    "execution": {
     "iopub.execute_input": "2022-07-04T08:52:21.316377Z",
     "iopub.status.busy": "2022-07-04T08:52:21.315726Z",
     "iopub.status.idle": "2022-07-04T08:52:21.318400Z",
     "shell.execute_reply": "2022-07-04T08:52:21.318802Z",
     "shell.execute_reply.started": "2022-07-04T07:45:04.520866Z"
    },
    "papermill": {
     "duration": 0.052684,
     "end_time": "2022-07-04T08:52:21.318940",
     "exception": false,
     "start_time": "2022-07-04T08:52:21.266256",
     "status": "completed"
    },
    "tags": []
   },
   "outputs": [
    {
     "data": {
      "text/plain": [
       "1"
      ]
     },
     "execution_count": 33,
     "metadata": {},
     "output_type": "execute_result"
    }
   ],
   "source": [
    "valid_set_df.label.nunique()"
   ]
  },
  {
   "cell_type": "code",
   "execution_count": 34,
   "id": "bcfe3279",
   "metadata": {
    "execution": {
     "iopub.execute_input": "2022-07-04T08:52:21.415234Z",
     "iopub.status.busy": "2022-07-04T08:52:21.414025Z",
     "iopub.status.idle": "2022-07-04T08:52:21.417695Z",
     "shell.execute_reply": "2022-07-04T08:52:21.417264Z",
     "shell.execute_reply.started": "2022-07-04T07:45:04.531615Z"
    },
    "papermill": {
     "duration": 0.052244,
     "end_time": "2022-07-04T08:52:21.417803",
     "exception": false,
     "start_time": "2022-07-04T08:52:21.365559",
     "status": "completed"
    },
    "tags": []
   },
   "outputs": [],
   "source": [
    "# train_set_df = train_set_df.sample(frac=1)"
   ]
  },
  {
   "cell_type": "code",
   "execution_count": 35,
   "id": "5d09c231",
   "metadata": {
    "execution": {
     "iopub.execute_input": "2022-07-04T08:52:21.516574Z",
     "iopub.status.busy": "2022-07-04T08:52:21.515735Z",
     "iopub.status.idle": "2022-07-04T08:52:21.517667Z",
     "shell.execute_reply": "2022-07-04T08:52:21.518082Z",
     "shell.execute_reply.started": "2022-07-04T07:45:04.543361Z"
    },
    "papermill": {
     "duration": 0.054746,
     "end_time": "2022-07-04T08:52:21.518232",
     "exception": false,
     "start_time": "2022-07-04T08:52:21.463486",
     "status": "completed"
    },
    "tags": []
   },
   "outputs": [],
   "source": [
    "from tqdm import tqdm \n",
    "\n",
    "def predict(model, text):\n",
    "    \n",
    "    preds = []\n",
    "    \n",
    "    for i in tqdm(range(len(text))):\n",
    "        tokenized = tokenizer(text[i:i+1], return_tensors=\"pt\", truncation=True, max_length=512).to(\"cuda\")\n",
    "        pred = model(**tokenized)\n",
    "        preds.append(pred.logits.argmax(-1).item())\n",
    "\n",
    "    return preds"
   ]
  },
  {
   "cell_type": "code",
   "execution_count": null,
   "id": "ef1f7bca",
   "metadata": {
    "papermill": {
     "duration": 0.046461,
     "end_time": "2022-07-04T08:52:21.612382",
     "exception": false,
     "start_time": "2022-07-04T08:52:21.565921",
     "status": "completed"
    },
    "tags": []
   },
   "outputs": [],
   "source": []
  },
  {
   "cell_type": "code",
   "execution_count": 36,
   "id": "50e08b85",
   "metadata": {
    "execution": {
     "iopub.execute_input": "2022-07-04T08:52:21.712416Z",
     "iopub.status.busy": "2022-07-04T08:52:21.711569Z",
     "iopub.status.idle": "2022-07-04T08:54:54.213070Z",
     "shell.execute_reply": "2022-07-04T08:54:54.212596Z"
    },
    "papermill": {
     "duration": 152.553683,
     "end_time": "2022-07-04T08:54:54.213240",
     "exception": false,
     "start_time": "2022-07-04T08:52:21.659557",
     "status": "completed"
    },
    "tags": []
   },
   "outputs": [
    {
     "name": "stdout",
     "output_type": "stream",
     "text": [
      "{}\n",
      "{}\n"
     ]
    },
    {
     "data": {
      "application/vnd.jupyter.widget-view+json": {
       "model_id": "643820730a6843f4ab18967ed7096dd5",
       "version_major": 2,
       "version_minor": 0
      },
      "text/plain": [
       "Downloading:   0%|          | 0.00/445M [00:00<?, ?B/s]"
      ]
     },
     "metadata": {},
     "output_type": "display_data"
    },
    {
     "name": "stderr",
     "output_type": "stream",
     "text": [
      "Some weights of the model checkpoint at dbmdz/bert-base-french-europeana-cased were not used when initializing BertForSequenceClassification: ['cls.predictions.bias', 'cls.predictions.transform.dense.weight', 'cls.predictions.transform.dense.bias', 'cls.predictions.transform.LayerNorm.weight', 'cls.predictions.transform.LayerNorm.bias', 'cls.predictions.decoder.weight', 'cls.predictions.decoder.bias', 'cls.seq_relationship.weight', 'cls.seq_relationship.bias']\n",
      "- This IS expected if you are initializing BertForSequenceClassification from the checkpoint of a model trained on another task or with another architecture (e.g. initializing a BertForSequenceClassification model from a BertForPreTraining model).\n",
      "- This IS NOT expected if you are initializing BertForSequenceClassification from the checkpoint of a model that you expect to be exactly identical (initializing a BertForSequenceClassification model from a BertForSequenceClassification model).\n",
      "Some weights of BertForSequenceClassification were not initialized from the model checkpoint at dbmdz/bert-base-french-europeana-cased and are newly initialized: ['classifier.weight', 'classifier.bias']\n",
      "You should probably TRAIN this model on a down-stream task to be able to use it for predictions and inference.\n",
      "Using the `WAND_DISABLED` environment variable is deprecated and will be removed in v5. Use the --report_to flag to control the integrations used for logging result (for instance --report_to none).\n"
     ]
    },
    {
     "data": {
      "text/html": [
       "\n",
       "    <div>\n",
       "        <style>\n",
       "            /* Turns off some styling */\n",
       "            progress {\n",
       "                /* gets rid of default border in Firefox and Opera. */\n",
       "                border: none;\n",
       "                /* Needs to be in here for Safari polyfill so background images work as expected. */\n",
       "                background-size: auto;\n",
       "            }\n",
       "        </style>\n",
       "      \n",
       "      <progress value='168' max='168' style='width:300px; height:20px; vertical-align: middle;'></progress>\n",
       "      [168/168 01:58, Epoch 7/7]\n",
       "    </div>\n",
       "    <table border=\"1\" class=\"dataframe\">\n",
       "  <thead>\n",
       "    <tr style=\"text-align: left;\">\n",
       "      <th>Epoch</th>\n",
       "      <th>Training Loss</th>\n",
       "      <th>Validation Loss</th>\n",
       "      <th>Accuracy</th>\n",
       "      <th>Runtime</th>\n",
       "      <th>Samples Per Second</th>\n",
       "    </tr>\n",
       "  </thead>\n",
       "  <tbody>\n",
       "    <tr>\n",
       "      <td>1</td>\n",
       "      <td>No log</td>\n",
       "      <td>2.087388</td>\n",
       "      <td>0.000000</td>\n",
       "      <td>0.038700</td>\n",
       "      <td>25.842000</td>\n",
       "    </tr>\n",
       "    <tr>\n",
       "      <td>2</td>\n",
       "      <td>No log</td>\n",
       "      <td>3.319314</td>\n",
       "      <td>0.000000</td>\n",
       "      <td>0.033600</td>\n",
       "      <td>29.775000</td>\n",
       "    </tr>\n",
       "    <tr>\n",
       "      <td>3</td>\n",
       "      <td>1.512000</td>\n",
       "      <td>4.162873</td>\n",
       "      <td>0.000000</td>\n",
       "      <td>0.034700</td>\n",
       "      <td>28.799000</td>\n",
       "    </tr>\n",
       "    <tr>\n",
       "      <td>4</td>\n",
       "      <td>1.512000</td>\n",
       "      <td>4.354156</td>\n",
       "      <td>0.000000</td>\n",
       "      <td>0.033400</td>\n",
       "      <td>29.925000</td>\n",
       "    </tr>\n",
       "    <tr>\n",
       "      <td>5</td>\n",
       "      <td>0.867000</td>\n",
       "      <td>4.624961</td>\n",
       "      <td>0.000000</td>\n",
       "      <td>0.032000</td>\n",
       "      <td>31.260000</td>\n",
       "    </tr>\n",
       "    <tr>\n",
       "      <td>6</td>\n",
       "      <td>0.867000</td>\n",
       "      <td>4.566848</td>\n",
       "      <td>0.000000</td>\n",
       "      <td>0.030400</td>\n",
       "      <td>32.931000</td>\n",
       "    </tr>\n",
       "    <tr>\n",
       "      <td>7</td>\n",
       "      <td>0.585500</td>\n",
       "      <td>4.568268</td>\n",
       "      <td>0.000000</td>\n",
       "      <td>0.036100</td>\n",
       "      <td>27.709000</td>\n",
       "    </tr>\n",
       "  </tbody>\n",
       "</table><p>"
      ],
      "text/plain": [
       "<IPython.core.display.HTML object>"
      ]
     },
     "metadata": {},
     "output_type": "display_data"
    }
   ],
   "source": [
    "train_set = CEFRDataset(train_set_df[\"text\"], train_set_df[\"label\"])\n",
    "valid_set = CEFRDataset(valid_set_df[\"text\"], valid_set_df[\"label\"])\n",
    "\n",
    "\n",
    "trainer_second = train(train_set, valid_set, epochs=epochs, warmup_size=0.2, lr=lr, batch_size=batch_size)\n",
    "model = trainer_second.model"
   ]
  },
  {
   "cell_type": "code",
   "execution_count": 37,
   "id": "6faed27e",
   "metadata": {
    "execution": {
     "iopub.execute_input": "2022-07-04T08:54:54.312524Z",
     "iopub.status.busy": "2022-07-04T08:54:54.311921Z",
     "iopub.status.idle": "2022-07-04T08:54:54.345189Z",
     "shell.execute_reply": "2022-07-04T08:54:54.344489Z"
    },
    "papermill": {
     "duration": 0.084359,
     "end_time": "2022-07-04T08:54:54.345311",
     "exception": false,
     "start_time": "2022-07-04T08:54:54.260952",
     "status": "completed"
    },
    "tags": []
   },
   "outputs": [
    {
     "name": "stderr",
     "output_type": "stream",
     "text": [
      "100%|██████████| 1/1 [00:00<00:00, 41.63it/s]\n"
     ]
    }
   ],
   "source": [
    "valid_set_df[\"preds\"] = train_set.encoder.inverse_transform(predict(model, valid_set_df.text.tolist()))\n",
    "valid_set_df.columns = [\"text\", \"cefr\", \"preds\",] "
   ]
  },
  {
   "cell_type": "code",
   "execution_count": 38,
   "id": "498be90b",
   "metadata": {
    "execution": {
     "iopub.execute_input": "2022-07-04T08:54:54.445895Z",
     "iopub.status.busy": "2022-07-04T08:54:54.445391Z",
     "iopub.status.idle": "2022-07-04T08:54:55.849786Z",
     "shell.execute_reply": "2022-07-04T08:54:55.850213Z"
    },
    "papermill": {
     "duration": 1.456212,
     "end_time": "2022-07-04T08:54:55.850359",
     "exception": false,
     "start_time": "2022-07-04T08:54:54.394147",
     "status": "completed"
    },
    "tags": []
   },
   "outputs": [
    {
     "name": "stderr",
     "output_type": "stream",
     "text": [
      "100%|██████████| 111/111 [00:01<00:00, 79.79it/s]\n"
     ]
    }
   ],
   "source": [
    "lingua = pd.read_csv(\"../input/lingua/fr_lingua.csv\")\n",
    "lingua[\"preds\"] = train_set.encoder.inverse_transform(predict(model, lingua.text.tolist()))"
   ]
  },
  {
   "cell_type": "code",
   "execution_count": 39,
   "id": "dcf69203",
   "metadata": {
    "execution": {
     "iopub.execute_input": "2022-07-04T08:54:55.958268Z",
     "iopub.status.busy": "2022-07-04T08:54:55.957449Z",
     "iopub.status.idle": "2022-07-04T08:54:55.959436Z",
     "shell.execute_reply": "2022-07-04T08:54:55.959810Z"
    },
    "papermill": {
     "duration": 0.057444,
     "end_time": "2022-07-04T08:54:55.959943",
     "exception": false,
     "start_time": "2022-07-04T08:54:55.902499",
     "status": "completed"
    },
    "tags": []
   },
   "outputs": [],
   "source": [
    "# lingua.columns=[\"text\",\"len\",\"lang\",\"cefr\",\"preds\"]\n",
    "# lingua = lingua[lingua.cefr != \"XX\"]"
   ]
  },
  {
   "cell_type": "code",
   "execution_count": 40,
   "id": "79a6d6b2",
   "metadata": {
    "execution": {
     "iopub.execute_input": "2022-07-04T08:54:56.072170Z",
     "iopub.status.busy": "2022-07-04T08:54:56.071578Z",
     "iopub.status.idle": "2022-07-04T08:54:56.074186Z",
     "shell.execute_reply": "2022-07-04T08:54:56.074598Z"
    },
    "papermill": {
     "duration": 0.062287,
     "end_time": "2022-07-04T08:54:56.074727",
     "exception": false,
     "start_time": "2022-07-04T08:54:56.012440",
     "status": "completed"
    },
    "tags": []
   },
   "outputs": [
    {
     "data": {
      "text/plain": [
       "B1    60\n",
       "A2    26\n",
       "A1    13\n",
       "B2    12\n",
       "Name: cefr, dtype: int64"
      ]
     },
     "execution_count": 40,
     "metadata": {},
     "output_type": "execute_result"
    }
   ],
   "source": [
    "lingua.cefr.value_counts()"
   ]
  },
  {
   "cell_type": "code",
   "execution_count": 41,
   "id": "c5ba81a4",
   "metadata": {
    "execution": {
     "iopub.execute_input": "2022-07-04T08:54:56.185718Z",
     "iopub.status.busy": "2022-07-04T08:54:56.185152Z",
     "iopub.status.idle": "2022-07-04T08:54:56.187693Z",
     "shell.execute_reply": "2022-07-04T08:54:56.188107Z"
    },
    "papermill": {
     "duration": 0.061219,
     "end_time": "2022-07-04T08:54:56.188247",
     "exception": false,
     "start_time": "2022-07-04T08:54:56.127028",
     "status": "completed"
    },
    "tags": []
   },
   "outputs": [
    {
     "data": {
      "text/plain": [
       "array([4])"
      ]
     },
     "execution_count": 41,
     "metadata": {},
     "output_type": "execute_result"
    }
   ],
   "source": [
    "lingua.preds.unique()"
   ]
  },
  {
   "cell_type": "code",
   "execution_count": 42,
   "id": "9655c8d4",
   "metadata": {
    "execution": {
     "iopub.execute_input": "2022-07-04T08:54:56.299612Z",
     "iopub.status.busy": "2022-07-04T08:54:56.298769Z",
     "iopub.status.idle": "2022-07-04T08:54:56.300582Z",
     "shell.execute_reply": "2022-07-04T08:54:56.301038Z"
    },
    "papermill": {
     "duration": 0.059929,
     "end_time": "2022-07-04T08:54:56.301191",
     "exception": false,
     "start_time": "2022-07-04T08:54:56.241262",
     "status": "completed"
    },
    "tags": []
   },
   "outputs": [],
   "source": [
    "def compute_average_distance(df, col_name=\"cefr\") :\n",
    "    \n",
    "    labels = [\"A1\", \"A2\", \"B1\", \"B2\", \"C1\", \"C2\"]\n",
    "    return (df[col_name].apply(lambda x: labels.index(x)) - df.preds.apply(lambda x: labels.index(x))).abs().mean()\n"
   ]
  },
  {
   "cell_type": "code",
   "execution_count": 43,
   "id": "7cc50f3d",
   "metadata": {
    "execution": {
     "iopub.execute_input": "2022-07-04T08:54:56.414461Z",
     "iopub.status.busy": "2022-07-04T08:54:56.413827Z",
     "iopub.status.idle": "2022-07-04T08:54:56.416547Z",
     "shell.execute_reply": "2022-07-04T08:54:56.416948Z"
    },
    "papermill": {
     "duration": 0.062569,
     "end_time": "2022-07-04T08:54:56.417083",
     "exception": false,
     "start_time": "2022-07-04T08:54:56.354514",
     "status": "completed"
    },
    "tags": []
   },
   "outputs": [
    {
     "data": {
      "text/plain": [
       "4    111\n",
       "Name: preds, dtype: int64"
      ]
     },
     "execution_count": 43,
     "metadata": {},
     "output_type": "execute_result"
    }
   ],
   "source": [
    "lingua.preds.value_counts()"
   ]
  },
  {
   "cell_type": "code",
   "execution_count": 44,
   "id": "b677ecee",
   "metadata": {
    "execution": {
     "iopub.execute_input": "2022-07-04T08:54:56.528456Z",
     "iopub.status.busy": "2022-07-04T08:54:56.527705Z",
     "iopub.status.idle": "2022-07-04T08:54:56.530632Z",
     "shell.execute_reply": "2022-07-04T08:54:56.531075Z"
    },
    "papermill": {
     "duration": 0.060415,
     "end_time": "2022-07-04T08:54:56.531235",
     "exception": false,
     "start_time": "2022-07-04T08:54:56.470820",
     "status": "completed"
    },
    "tags": []
   },
   "outputs": [],
   "source": [
    "lingua[\"preds\"] = le.inverse_transform(lingua.preds)"
   ]
  },
  {
   "cell_type": "code",
   "execution_count": 45,
   "id": "a0ab9f9d",
   "metadata": {
    "execution": {
     "iopub.execute_input": "2022-07-04T08:54:56.643844Z",
     "iopub.status.busy": "2022-07-04T08:54:56.643183Z",
     "iopub.status.idle": "2022-07-04T08:54:56.645844Z",
     "shell.execute_reply": "2022-07-04T08:54:56.646271Z"
    },
    "papermill": {
     "duration": 0.062354,
     "end_time": "2022-07-04T08:54:56.646403",
     "exception": false,
     "start_time": "2022-07-04T08:54:56.584049",
     "status": "completed"
    },
    "tags": []
   },
   "outputs": [
    {
     "data": {
      "text/plain": [
       "C1    111\n",
       "Name: preds, dtype: int64"
      ]
     },
     "execution_count": 45,
     "metadata": {},
     "output_type": "execute_result"
    }
   ],
   "source": [
    "lingua.preds.value_counts()"
   ]
  },
  {
   "cell_type": "code",
   "execution_count": 46,
   "id": "948d19b7",
   "metadata": {
    "execution": {
     "iopub.execute_input": "2022-07-04T08:54:56.762560Z",
     "iopub.status.busy": "2022-07-04T08:54:56.761893Z",
     "iopub.status.idle": "2022-07-04T08:54:56.764775Z",
     "shell.execute_reply": "2022-07-04T08:54:56.765377Z"
    },
    "papermill": {
     "duration": 0.064774,
     "end_time": "2022-07-04T08:54:56.765549",
     "exception": false,
     "start_time": "2022-07-04T08:54:56.700775",
     "status": "completed"
    },
    "tags": []
   },
   "outputs": [
    {
     "name": "stdout",
     "output_type": "stream",
     "text": [
      "Distance: \n",
      "2.3603603603603602\n",
      "Lingua accuracy: 0.0\n"
     ]
    }
   ],
   "source": [
    "print(\"Distance: \")\n",
    "print(compute_average_distance(lingua, \"cefr\"))\n",
    "\n",
    "print(f\"Lingua accuracy: {(lingua['preds'] == lingua['cefr']).mean()}\")"
   ]
  },
  {
   "cell_type": "code",
   "execution_count": 47,
   "id": "baef7d61",
   "metadata": {
    "execution": {
     "iopub.execute_input": "2022-07-04T08:54:56.916129Z",
     "iopub.status.busy": "2022-07-04T08:54:56.915331Z",
     "iopub.status.idle": "2022-07-04T08:54:56.920443Z",
     "shell.execute_reply": "2022-07-04T08:54:56.919682Z"
    },
    "papermill": {
     "duration": 0.100258,
     "end_time": "2022-07-04T08:54:56.920559",
     "exception": false,
     "start_time": "2022-07-04T08:54:56.820301",
     "status": "completed"
    },
    "tags": []
   },
   "outputs": [
    {
     "data": {
      "text/plain": [
       "B2    111\n",
       "Name: Predss, dtype: int64"
      ]
     },
     "execution_count": 47,
     "metadata": {},
     "output_type": "execute_result"
    }
   ],
   "source": [
    "for i in range(lingua.shape[0]):\n",
    "    if (lingua.loc[i,\"preds\"]==\"C1\") | (lingua.loc[i,\"preds\"]==\"C2\") :\n",
    "        lingua.loc[i,\"Predss\"]=\"B2\"\n",
    "    else :\n",
    "        lingua.loc[i,\"Predss\"]= lingua.loc[i,\"preds\"]\n",
    "lingua[\"Predss\"].value_counts()"
   ]
  },
  {
   "cell_type": "code",
   "execution_count": 48,
   "id": "0fe9bfc7",
   "metadata": {
    "execution": {
     "iopub.execute_input": "2022-07-04T08:54:57.035194Z",
     "iopub.status.busy": "2022-07-04T08:54:57.034539Z",
     "iopub.status.idle": "2022-07-04T08:54:57.037440Z",
     "shell.execute_reply": "2022-07-04T08:54:57.037876Z"
    },
    "papermill": {
     "duration": 0.063365,
     "end_time": "2022-07-04T08:54:57.038013",
     "exception": false,
     "start_time": "2022-07-04T08:54:56.974648",
     "status": "completed"
    },
    "tags": []
   },
   "outputs": [
    {
     "name": "stdout",
     "output_type": "stream",
     "text": [
      "Distance: \n",
      "2.3603603603603602\n",
      "Lingua accuracy: 0.10810810810810811\n"
     ]
    }
   ],
   "source": [
    "print(\"Distance: \")\n",
    "print(compute_average_distance(lingua, \"cefr\"))\n",
    "\n",
    "print(f\"Lingua accuracy: {(lingua['Predss'] == lingua['cefr']).mean()}\")"
   ]
  },
  {
   "cell_type": "markdown",
   "id": "bc61be43",
   "metadata": {
    "papermill": {
     "duration": 0.055449,
     "end_time": "2022-07-04T08:54:57.150114",
     "exception": false,
     "start_time": "2022-07-04T08:54:57.094665",
     "status": "completed"
    },
    "tags": []
   },
   "source": [
    "****"
   ]
  },
  {
   "cell_type": "markdown",
   "id": "a548c835",
   "metadata": {
    "papermill": {
     "duration": 0.480844,
     "end_time": "2022-07-04T08:54:57.686166",
     "exception": false,
     "start_time": "2022-07-04T08:54:57.205322",
     "status": "completed"
    },
    "tags": []
   },
   "source": [
    "Distance: \n",
    "0.990990990990991\n",
    "Lingua accuracy: 0.40540540540540543 <br>\n",
    "2    82\n",
    "3    15\n",
    "5    10\n",
    "4     2\n",
    "0     1\n",
    "1     1 <br> \n",
    "inokufu/flaubert-base-uncased-xnli-sts-finetuned-education"
   ]
  },
  {
   "cell_type": "markdown",
   "id": "2c7a8697",
   "metadata": {
    "papermill": {
     "duration": 0.054619,
     "end_time": "2022-07-04T08:54:57.797663",
     "exception": false,
     "start_time": "2022-07-04T08:54:57.743044",
     "status": "completed"
    },
    "tags": []
   },
   "source": [
    "****"
   ]
  },
  {
   "cell_type": "markdown",
   "id": "85040a62",
   "metadata": {
    "papermill": {
     "duration": 0.055448,
     "end_time": "2022-07-04T08:54:57.909284",
     "exception": false,
     "start_time": "2022-07-04T08:54:57.853836",
     "status": "completed"
    },
    "tags": []
   },
   "source": [
    "\n",
    "Distance: \n",
    "0.8648648648648649\n",
    "Lingua accuracy: 0.450450450450450462 <br>\n",
    "3     7\n",
    "1     5\n",
    "5     4\n",
    "4     4\n",
    "0     1 <br> inokufu/flaubert-base-uncased-xnli-sts-finetuned-education"
   ]
  },
  {
   "cell_type": "code",
   "execution_count": null,
   "id": "87beb833",
   "metadata": {
    "papermill": {
     "duration": 0.054919,
     "end_time": "2022-07-04T08:54:58.021066",
     "exception": false,
     "start_time": "2022-07-04T08:54:57.966147",
     "status": "completed"
    },
    "tags": []
   },
   "outputs": [],
   "source": []
  },
  {
   "cell_type": "code",
   "execution_count": null,
   "id": "c5286efa",
   "metadata": {
    "papermill": {
     "duration": 0.055217,
     "end_time": "2022-07-04T08:54:58.132276",
     "exception": false,
     "start_time": "2022-07-04T08:54:58.077059",
     "status": "completed"
    },
    "tags": []
   },
   "outputs": [],
   "source": []
  },
  {
   "cell_type": "code",
   "execution_count": null,
   "id": "7c91e8ad",
   "metadata": {
    "papermill": {
     "duration": 0.054537,
     "end_time": "2022-07-04T08:54:58.241860",
     "exception": false,
     "start_time": "2022-07-04T08:54:58.187323",
     "status": "completed"
    },
    "tags": []
   },
   "outputs": [],
   "source": []
  },
  {
   "cell_type": "code",
   "execution_count": null,
   "id": "39e9be9a",
   "metadata": {
    "papermill": {
     "duration": 0.054688,
     "end_time": "2022-07-04T08:54:58.351076",
     "exception": false,
     "start_time": "2022-07-04T08:54:58.296388",
     "status": "completed"
    },
    "tags": []
   },
   "outputs": [],
   "source": []
  }
 ],
 "metadata": {
  "kernelspec": {
   "display_name": "Python 3",
   "language": "python",
   "name": "python3"
  },
  "language_info": {
   "codemirror_mode": {
    "name": "ipython",
    "version": 3
   },
   "file_extension": ".py",
   "mimetype": "text/x-python",
   "name": "python",
   "nbconvert_exporter": "python",
   "pygments_lexer": "ipython3",
   "version": "3.7.10"
  },
  "papermill": {
   "default_parameters": {},
   "duration": 183.744276,
   "end_time": "2022-07-04T08:55:01.354029",
   "environment_variables": {},
   "exception": null,
   "input_path": "__notebook__.ipynb",
   "output_path": "__notebook__.ipynb",
   "parameters": {},
   "start_time": "2022-07-04T08:51:57.609753",
   "version": "2.3.3"
  },
  "widgets": {
   "application/vnd.jupyter.widget-state+json": {
    "state": {
     "0509490cb7de4d48a508d50c1870afd8": {
      "model_module": "@jupyter-widgets/controls",
      "model_module_version": "1.5.0",
      "model_name": "ProgressStyleModel",
      "state": {
       "_model_module": "@jupyter-widgets/controls",
       "_model_module_version": "1.5.0",
       "_model_name": "ProgressStyleModel",
       "_view_count": null,
       "_view_module": "@jupyter-widgets/base",
       "_view_module_version": "1.2.0",
       "_view_name": "StyleView",
       "bar_color": null,
       "description_width": ""
      }
     },
     "059be7ff554045c088a48ddbb62b6d62": {
      "model_module": "@jupyter-widgets/base",
      "model_module_version": "1.2.0",
      "model_name": "LayoutModel",
      "state": {
       "_model_module": "@jupyter-widgets/base",
       "_model_module_version": "1.2.0",
       "_model_name": "LayoutModel",
       "_view_count": null,
       "_view_module": "@jupyter-widgets/base",
       "_view_module_version": "1.2.0",
       "_view_name": "LayoutView",
       "align_content": null,
       "align_items": null,
       "align_self": null,
       "border": null,
       "bottom": null,
       "display": null,
       "flex": null,
       "flex_flow": null,
       "grid_area": null,
       "grid_auto_columns": null,
       "grid_auto_flow": null,
       "grid_auto_rows": null,
       "grid_column": null,
       "grid_gap": null,
       "grid_row": null,
       "grid_template_areas": null,
       "grid_template_columns": null,
       "grid_template_rows": null,
       "height": null,
       "justify_content": null,
       "justify_items": null,
       "left": null,
       "margin": null,
       "max_height": null,
       "max_width": null,
       "min_height": null,
       "min_width": null,
       "object_fit": null,
       "object_position": null,
       "order": null,
       "overflow": null,
       "overflow_x": null,
       "overflow_y": null,
       "padding": null,
       "right": null,
       "top": null,
       "visibility": null,
       "width": null
      }
     },
     "085ccd2b54024126861a7c95e470fa7d": {
      "model_module": "@jupyter-widgets/controls",
      "model_module_version": "1.5.0",
      "model_name": "HTMLModel",
      "state": {
       "_dom_classes": [],
       "_model_module": "@jupyter-widgets/controls",
       "_model_module_version": "1.5.0",
       "_model_name": "HTMLModel",
       "_view_count": null,
       "_view_module": "@jupyter-widgets/controls",
       "_view_module_version": "1.5.0",
       "_view_name": "HTMLView",
       "description": "",
       "description_tooltip": null,
       "layout": "IPY_MODEL_8ebd3cf422fe41af966fa10d621328b6",
       "placeholder": "​",
       "style": "IPY_MODEL_156b1758d05a403795e4bb3a588cc7a4",
       "value": " 83.0/83.0 [00:00&lt;00:00, 2.75kB/s]"
      }
     },
     "0d0a57e58f5d4813a80cca08596ae2af": {
      "model_module": "@jupyter-widgets/controls",
      "model_module_version": "1.5.0",
      "model_name": "DescriptionStyleModel",
      "state": {
       "_model_module": "@jupyter-widgets/controls",
       "_model_module_version": "1.5.0",
       "_model_name": "DescriptionStyleModel",
       "_view_count": null,
       "_view_module": "@jupyter-widgets/base",
       "_view_module_version": "1.2.0",
       "_view_name": "StyleView",
       "description_width": ""
      }
     },
     "105b232e5363429f88ff389c0239a195": {
      "model_module": "@jupyter-widgets/controls",
      "model_module_version": "1.5.0",
      "model_name": "DescriptionStyleModel",
      "state": {
       "_model_module": "@jupyter-widgets/controls",
       "_model_module_version": "1.5.0",
       "_model_name": "DescriptionStyleModel",
       "_view_count": null,
       "_view_module": "@jupyter-widgets/base",
       "_view_module_version": "1.2.0",
       "_view_name": "StyleView",
       "description_width": ""
      }
     },
     "147bd9b71a404995a206ff7c6ef9633a": {
      "model_module": "@jupyter-widgets/controls",
      "model_module_version": "1.5.0",
      "model_name": "HTMLModel",
      "state": {
       "_dom_classes": [],
       "_model_module": "@jupyter-widgets/controls",
       "_model_module_version": "1.5.0",
       "_model_name": "HTMLModel",
       "_view_count": null,
       "_view_module": "@jupyter-widgets/controls",
       "_view_module_version": "1.5.0",
       "_view_name": "HTMLView",
       "description": "",
       "description_tooltip": null,
       "layout": "IPY_MODEL_3e0881931e9b410d8f78e1c350a3ca5c",
       "placeholder": "​",
       "style": "IPY_MODEL_0d0a57e58f5d4813a80cca08596ae2af",
       "value": "Downloading: 100%"
      }
     },
     "156b1758d05a403795e4bb3a588cc7a4": {
      "model_module": "@jupyter-widgets/controls",
      "model_module_version": "1.5.0",
      "model_name": "DescriptionStyleModel",
      "state": {
       "_model_module": "@jupyter-widgets/controls",
       "_model_module_version": "1.5.0",
       "_model_name": "DescriptionStyleModel",
       "_view_count": null,
       "_view_module": "@jupyter-widgets/base",
       "_view_module_version": "1.2.0",
       "_view_name": "StyleView",
       "description_width": ""
      }
     },
     "16aa49855eb64630a2378991ac172fef": {
      "model_module": "@jupyter-widgets/base",
      "model_module_version": "1.2.0",
      "model_name": "LayoutModel",
      "state": {
       "_model_module": "@jupyter-widgets/base",
       "_model_module_version": "1.2.0",
       "_model_name": "LayoutModel",
       "_view_count": null,
       "_view_module": "@jupyter-widgets/base",
       "_view_module_version": "1.2.0",
       "_view_name": "LayoutView",
       "align_content": null,
       "align_items": null,
       "align_self": null,
       "border": null,
       "bottom": null,
       "display": null,
       "flex": null,
       "flex_flow": null,
       "grid_area": null,
       "grid_auto_columns": null,
       "grid_auto_flow": null,
       "grid_auto_rows": null,
       "grid_column": null,
       "grid_gap": null,
       "grid_row": null,
       "grid_template_areas": null,
       "grid_template_columns": null,
       "grid_template_rows": null,
       "height": null,
       "justify_content": null,
       "justify_items": null,
       "left": null,
       "margin": null,
       "max_height": null,
       "max_width": null,
       "min_height": null,
       "min_width": null,
       "object_fit": null,
       "object_position": null,
       "order": null,
       "overflow": null,
       "overflow_x": null,
       "overflow_y": null,
       "padding": null,
       "right": null,
       "top": null,
       "visibility": null,
       "width": null
      }
     },
     "292d000e294c4f55a1c724396b6201c2": {
      "model_module": "@jupyter-widgets/base",
      "model_module_version": "1.2.0",
      "model_name": "LayoutModel",
      "state": {
       "_model_module": "@jupyter-widgets/base",
       "_model_module_version": "1.2.0",
       "_model_name": "LayoutModel",
       "_view_count": null,
       "_view_module": "@jupyter-widgets/base",
       "_view_module_version": "1.2.0",
       "_view_name": "LayoutView",
       "align_content": null,
       "align_items": null,
       "align_self": null,
       "border": null,
       "bottom": null,
       "display": null,
       "flex": null,
       "flex_flow": null,
       "grid_area": null,
       "grid_auto_columns": null,
       "grid_auto_flow": null,
       "grid_auto_rows": null,
       "grid_column": null,
       "grid_gap": null,
       "grid_row": null,
       "grid_template_areas": null,
       "grid_template_columns": null,
       "grid_template_rows": null,
       "height": null,
       "justify_content": null,
       "justify_items": null,
       "left": null,
       "margin": null,
       "max_height": null,
       "max_width": null,
       "min_height": null,
       "min_width": null,
       "object_fit": null,
       "object_position": null,
       "order": null,
       "overflow": null,
       "overflow_x": null,
       "overflow_y": null,
       "padding": null,
       "right": null,
       "top": null,
       "visibility": null,
       "width": null
      }
     },
     "36ad54d267da4c7eafe9b0edf3c2279c": {
      "model_module": "@jupyter-widgets/controls",
      "model_module_version": "1.5.0",
      "model_name": "HTMLModel",
      "state": {
       "_dom_classes": [],
       "_model_module": "@jupyter-widgets/controls",
       "_model_module_version": "1.5.0",
       "_model_name": "HTMLModel",
       "_view_count": null,
       "_view_module": "@jupyter-widgets/controls",
       "_view_module_version": "1.5.0",
       "_view_name": "HTMLView",
       "description": "",
       "description_tooltip": null,
       "layout": "IPY_MODEL_292d000e294c4f55a1c724396b6201c2",
       "placeholder": "​",
       "style": "IPY_MODEL_f127669401144899aa42d7420c00fba0",
       "value": " 445M/445M [00:20&lt;00:00, 23.4MB/s]"
      }
     },
     "3d4396579df54ca0963ad82d7161aeb1": {
      "model_module": "@jupyter-widgets/base",
      "model_module_version": "1.2.0",
      "model_name": "LayoutModel",
      "state": {
       "_model_module": "@jupyter-widgets/base",
       "_model_module_version": "1.2.0",
       "_model_name": "LayoutModel",
       "_view_count": null,
       "_view_module": "@jupyter-widgets/base",
       "_view_module_version": "1.2.0",
       "_view_name": "LayoutView",
       "align_content": null,
       "align_items": null,
       "align_self": null,
       "border": null,
       "bottom": null,
       "display": null,
       "flex": null,
       "flex_flow": null,
       "grid_area": null,
       "grid_auto_columns": null,
       "grid_auto_flow": null,
       "grid_auto_rows": null,
       "grid_column": null,
       "grid_gap": null,
       "grid_row": null,
       "grid_template_areas": null,
       "grid_template_columns": null,
       "grid_template_rows": null,
       "height": null,
       "justify_content": null,
       "justify_items": null,
       "left": null,
       "margin": null,
       "max_height": null,
       "max_width": null,
       "min_height": null,
       "min_width": null,
       "object_fit": null,
       "object_position": null,
       "order": null,
       "overflow": null,
       "overflow_x": null,
       "overflow_y": null,
       "padding": null,
       "right": null,
       "top": null,
       "visibility": null,
       "width": null
      }
     },
     "3e0881931e9b410d8f78e1c350a3ca5c": {
      "model_module": "@jupyter-widgets/base",
      "model_module_version": "1.2.0",
      "model_name": "LayoutModel",
      "state": {
       "_model_module": "@jupyter-widgets/base",
       "_model_module_version": "1.2.0",
       "_model_name": "LayoutModel",
       "_view_count": null,
       "_view_module": "@jupyter-widgets/base",
       "_view_module_version": "1.2.0",
       "_view_name": "LayoutView",
       "align_content": null,
       "align_items": null,
       "align_self": null,
       "border": null,
       "bottom": null,
       "display": null,
       "flex": null,
       "flex_flow": null,
       "grid_area": null,
       "grid_auto_columns": null,
       "grid_auto_flow": null,
       "grid_auto_rows": null,
       "grid_column": null,
       "grid_gap": null,
       "grid_row": null,
       "grid_template_areas": null,
       "grid_template_columns": null,
       "grid_template_rows": null,
       "height": null,
       "justify_content": null,
       "justify_items": null,
       "left": null,
       "margin": null,
       "max_height": null,
       "max_width": null,
       "min_height": null,
       "min_width": null,
       "object_fit": null,
       "object_position": null,
       "order": null,
       "overflow": null,
       "overflow_x": null,
       "overflow_y": null,
       "padding": null,
       "right": null,
       "top": null,
       "visibility": null,
       "width": null
      }
     },
     "3eaa9e316e994898a5dfb8ddd502de7b": {
      "model_module": "@jupyter-widgets/controls",
      "model_module_version": "1.5.0",
      "model_name": "HTMLModel",
      "state": {
       "_dom_classes": [],
       "_model_module": "@jupyter-widgets/controls",
       "_model_module_version": "1.5.0",
       "_model_name": "HTMLModel",
       "_view_count": null,
       "_view_module": "@jupyter-widgets/controls",
       "_view_module_version": "1.5.0",
       "_view_name": "HTMLView",
       "description": "",
       "description_tooltip": null,
       "layout": "IPY_MODEL_b9b929063f1e45d7be8b36b03abefba7",
       "placeholder": "​",
       "style": "IPY_MODEL_105b232e5363429f88ff389c0239a195",
       "value": "Downloading: 100%"
      }
     },
     "402a96cbfc3b4c36aa6cb4fb346855d1": {
      "model_module": "@jupyter-widgets/base",
      "model_module_version": "1.2.0",
      "model_name": "LayoutModel",
      "state": {
       "_model_module": "@jupyter-widgets/base",
       "_model_module_version": "1.2.0",
       "_model_name": "LayoutModel",
       "_view_count": null,
       "_view_module": "@jupyter-widgets/base",
       "_view_module_version": "1.2.0",
       "_view_name": "LayoutView",
       "align_content": null,
       "align_items": null,
       "align_self": null,
       "border": null,
       "bottom": null,
       "display": null,
       "flex": null,
       "flex_flow": null,
       "grid_area": null,
       "grid_auto_columns": null,
       "grid_auto_flow": null,
       "grid_auto_rows": null,
       "grid_column": null,
       "grid_gap": null,
       "grid_row": null,
       "grid_template_areas": null,
       "grid_template_columns": null,
       "grid_template_rows": null,
       "height": null,
       "justify_content": null,
       "justify_items": null,
       "left": null,
       "margin": null,
       "max_height": null,
       "max_width": null,
       "min_height": null,
       "min_width": null,
       "object_fit": null,
       "object_position": null,
       "order": null,
       "overflow": null,
       "overflow_x": null,
       "overflow_y": null,
       "padding": null,
       "right": null,
       "top": null,
       "visibility": null,
       "width": null
      }
     },
     "410d9c94196743e2a51a93920b508324": {
      "model_module": "@jupyter-widgets/controls",
      "model_module_version": "1.5.0",
      "model_name": "FloatProgressModel",
      "state": {
       "_dom_classes": [],
       "_model_module": "@jupyter-widgets/controls",
       "_model_module_version": "1.5.0",
       "_model_name": "FloatProgressModel",
       "_view_count": null,
       "_view_module": "@jupyter-widgets/controls",
       "_view_module_version": "1.5.0",
       "_view_name": "ProgressView",
       "bar_style": "success",
       "description": "",
       "description_tooltip": null,
       "layout": "IPY_MODEL_65fe5f59d0594df28fdb367a9149b01b",
       "max": 83.0,
       "min": 0.0,
       "orientation": "horizontal",
       "style": "IPY_MODEL_41cccd2313c4480ab84c4cb92d2fd73d",
       "value": 83.0
      }
     },
     "41cccd2313c4480ab84c4cb92d2fd73d": {
      "model_module": "@jupyter-widgets/controls",
      "model_module_version": "1.5.0",
      "model_name": "ProgressStyleModel",
      "state": {
       "_model_module": "@jupyter-widgets/controls",
       "_model_module_version": "1.5.0",
       "_model_name": "ProgressStyleModel",
       "_view_count": null,
       "_view_module": "@jupyter-widgets/base",
       "_view_module_version": "1.2.0",
       "_view_name": "StyleView",
       "bar_color": null,
       "description_width": ""
      }
     },
     "4e208f25a06846cfb737efba02ccb100": {
      "model_module": "@jupyter-widgets/controls",
      "model_module_version": "1.5.0",
      "model_name": "HBoxModel",
      "state": {
       "_dom_classes": [],
       "_model_module": "@jupyter-widgets/controls",
       "_model_module_version": "1.5.0",
       "_model_name": "HBoxModel",
       "_view_count": null,
       "_view_module": "@jupyter-widgets/controls",
       "_view_module_version": "1.5.0",
       "_view_name": "HBoxView",
       "box_style": "",
       "children": [
        "IPY_MODEL_ef4aa6c9a80848c1bc476a2059fa8eb6",
        "IPY_MODEL_a65b7a4c3f9b4419bf92a5f53b247092",
        "IPY_MODEL_5ce55754b4854af6a46f2de2b42cbeff"
       ],
       "layout": "IPY_MODEL_f4587e766dc84c0783b2d1e1a57f4291"
      }
     },
     "5ce55754b4854af6a46f2de2b42cbeff": {
      "model_module": "@jupyter-widgets/controls",
      "model_module_version": "1.5.0",
      "model_name": "HTMLModel",
      "state": {
       "_dom_classes": [],
       "_model_module": "@jupyter-widgets/controls",
       "_model_module_version": "1.5.0",
       "_model_name": "HTMLModel",
       "_view_count": null,
       "_view_module": "@jupyter-widgets/controls",
       "_view_module_version": "1.5.0",
       "_view_name": "HTMLView",
       "description": "",
       "description_tooltip": null,
       "layout": "IPY_MODEL_cb4351cbf35a4089b21404cdd15f2c1b",
       "placeholder": "​",
       "style": "IPY_MODEL_9bf13c55a44a448f91a7e03918760229",
       "value": " 420/420 [00:00&lt;00:00, 15.6kB/s]"
      }
     },
     "5e4289205fd9499e9d6b1694f1f32e61": {
      "model_module": "@jupyter-widgets/base",
      "model_module_version": "1.2.0",
      "model_name": "LayoutModel",
      "state": {
       "_model_module": "@jupyter-widgets/base",
       "_model_module_version": "1.2.0",
       "_model_name": "LayoutModel",
       "_view_count": null,
       "_view_module": "@jupyter-widgets/base",
       "_view_module_version": "1.2.0",
       "_view_name": "LayoutView",
       "align_content": null,
       "align_items": null,
       "align_self": null,
       "border": null,
       "bottom": null,
       "display": null,
       "flex": null,
       "flex_flow": null,
       "grid_area": null,
       "grid_auto_columns": null,
       "grid_auto_flow": null,
       "grid_auto_rows": null,
       "grid_column": null,
       "grid_gap": null,
       "grid_row": null,
       "grid_template_areas": null,
       "grid_template_columns": null,
       "grid_template_rows": null,
       "height": null,
       "justify_content": null,
       "justify_items": null,
       "left": null,
       "margin": null,
       "max_height": null,
       "max_width": null,
       "min_height": null,
       "min_width": null,
       "object_fit": null,
       "object_position": null,
       "order": null,
       "overflow": null,
       "overflow_x": null,
       "overflow_y": null,
       "padding": null,
       "right": null,
       "top": null,
       "visibility": null,
       "width": null
      }
     },
     "5f954ae8d50c4c899a21919f67218284": {
      "model_module": "@jupyter-widgets/controls",
      "model_module_version": "1.5.0",
      "model_name": "HTMLModel",
      "state": {
       "_dom_classes": [],
       "_model_module": "@jupyter-widgets/controls",
       "_model_module_version": "1.5.0",
       "_model_name": "HTMLModel",
       "_view_count": null,
       "_view_module": "@jupyter-widgets/controls",
       "_view_module_version": "1.5.0",
       "_view_name": "HTMLView",
       "description": "",
       "description_tooltip": null,
       "layout": "IPY_MODEL_059be7ff554045c088a48ddbb62b6d62",
       "placeholder": "​",
       "style": "IPY_MODEL_9f9c892b1806444fbc302826b27831d2",
       "value": " 227k/227k [00:00&lt;00:00, 764kB/s]"
      }
     },
     "643820730a6843f4ab18967ed7096dd5": {
      "model_module": "@jupyter-widgets/controls",
      "model_module_version": "1.5.0",
      "model_name": "HBoxModel",
      "state": {
       "_dom_classes": [],
       "_model_module": "@jupyter-widgets/controls",
       "_model_module_version": "1.5.0",
       "_model_name": "HBoxModel",
       "_view_count": null,
       "_view_module": "@jupyter-widgets/controls",
       "_view_module_version": "1.5.0",
       "_view_name": "HBoxView",
       "box_style": "",
       "children": [
        "IPY_MODEL_80744499ffca4e16945a8edac9256e88",
        "IPY_MODEL_f2b23669e088474ea4d387905f059b4b",
        "IPY_MODEL_36ad54d267da4c7eafe9b0edf3c2279c"
       ],
       "layout": "IPY_MODEL_6c128489cbbd4d349346325a37074bb6"
      }
     },
     "65fe5f59d0594df28fdb367a9149b01b": {
      "model_module": "@jupyter-widgets/base",
      "model_module_version": "1.2.0",
      "model_name": "LayoutModel",
      "state": {
       "_model_module": "@jupyter-widgets/base",
       "_model_module_version": "1.2.0",
       "_model_name": "LayoutModel",
       "_view_count": null,
       "_view_module": "@jupyter-widgets/base",
       "_view_module_version": "1.2.0",
       "_view_name": "LayoutView",
       "align_content": null,
       "align_items": null,
       "align_self": null,
       "border": null,
       "bottom": null,
       "display": null,
       "flex": null,
       "flex_flow": null,
       "grid_area": null,
       "grid_auto_columns": null,
       "grid_auto_flow": null,
       "grid_auto_rows": null,
       "grid_column": null,
       "grid_gap": null,
       "grid_row": null,
       "grid_template_areas": null,
       "grid_template_columns": null,
       "grid_template_rows": null,
       "height": null,
       "justify_content": null,
       "justify_items": null,
       "left": null,
       "margin": null,
       "max_height": null,
       "max_width": null,
       "min_height": null,
       "min_width": null,
       "object_fit": null,
       "object_position": null,
       "order": null,
       "overflow": null,
       "overflow_x": null,
       "overflow_y": null,
       "padding": null,
       "right": null,
       "top": null,
       "visibility": null,
       "width": null
      }
     },
     "6668bd67a8c04d7792c20ddda4e887d7": {
      "model_module": "@jupyter-widgets/controls",
      "model_module_version": "1.5.0",
      "model_name": "ProgressStyleModel",
      "state": {
       "_model_module": "@jupyter-widgets/controls",
       "_model_module_version": "1.5.0",
       "_model_name": "ProgressStyleModel",
       "_view_count": null,
       "_view_module": "@jupyter-widgets/base",
       "_view_module_version": "1.2.0",
       "_view_name": "StyleView",
       "bar_color": null,
       "description_width": ""
      }
     },
     "6c128489cbbd4d349346325a37074bb6": {
      "model_module": "@jupyter-widgets/base",
      "model_module_version": "1.2.0",
      "model_name": "LayoutModel",
      "state": {
       "_model_module": "@jupyter-widgets/base",
       "_model_module_version": "1.2.0",
       "_model_name": "LayoutModel",
       "_view_count": null,
       "_view_module": "@jupyter-widgets/base",
       "_view_module_version": "1.2.0",
       "_view_name": "LayoutView",
       "align_content": null,
       "align_items": null,
       "align_self": null,
       "border": null,
       "bottom": null,
       "display": null,
       "flex": null,
       "flex_flow": null,
       "grid_area": null,
       "grid_auto_columns": null,
       "grid_auto_flow": null,
       "grid_auto_rows": null,
       "grid_column": null,
       "grid_gap": null,
       "grid_row": null,
       "grid_template_areas": null,
       "grid_template_columns": null,
       "grid_template_rows": null,
       "height": null,
       "justify_content": null,
       "justify_items": null,
       "left": null,
       "margin": null,
       "max_height": null,
       "max_width": null,
       "min_height": null,
       "min_width": null,
       "object_fit": null,
       "object_position": null,
       "order": null,
       "overflow": null,
       "overflow_x": null,
       "overflow_y": null,
       "padding": null,
       "right": null,
       "top": null,
       "visibility": null,
       "width": null
      }
     },
     "80744499ffca4e16945a8edac9256e88": {
      "model_module": "@jupyter-widgets/controls",
      "model_module_version": "1.5.0",
      "model_name": "HTMLModel",
      "state": {
       "_dom_classes": [],
       "_model_module": "@jupyter-widgets/controls",
       "_model_module_version": "1.5.0",
       "_model_name": "HTMLModel",
       "_view_count": null,
       "_view_module": "@jupyter-widgets/controls",
       "_view_module_version": "1.5.0",
       "_view_name": "HTMLView",
       "description": "",
       "description_tooltip": null,
       "layout": "IPY_MODEL_f7d4c0ccc6e24d4eb2b53fab7e544848",
       "placeholder": "​",
       "style": "IPY_MODEL_9a4ef571615e47249481aad8d2e36450",
       "value": "Downloading: 100%"
      }
     },
     "8ebd3cf422fe41af966fa10d621328b6": {
      "model_module": "@jupyter-widgets/base",
      "model_module_version": "1.2.0",
      "model_name": "LayoutModel",
      "state": {
       "_model_module": "@jupyter-widgets/base",
       "_model_module_version": "1.2.0",
       "_model_name": "LayoutModel",
       "_view_count": null,
       "_view_module": "@jupyter-widgets/base",
       "_view_module_version": "1.2.0",
       "_view_name": "LayoutView",
       "align_content": null,
       "align_items": null,
       "align_self": null,
       "border": null,
       "bottom": null,
       "display": null,
       "flex": null,
       "flex_flow": null,
       "grid_area": null,
       "grid_auto_columns": null,
       "grid_auto_flow": null,
       "grid_auto_rows": null,
       "grid_column": null,
       "grid_gap": null,
       "grid_row": null,
       "grid_template_areas": null,
       "grid_template_columns": null,
       "grid_template_rows": null,
       "height": null,
       "justify_content": null,
       "justify_items": null,
       "left": null,
       "margin": null,
       "max_height": null,
       "max_width": null,
       "min_height": null,
       "min_width": null,
       "object_fit": null,
       "object_position": null,
       "order": null,
       "overflow": null,
       "overflow_x": null,
       "overflow_y": null,
       "padding": null,
       "right": null,
       "top": null,
       "visibility": null,
       "width": null
      }
     },
     "9a4ef571615e47249481aad8d2e36450": {
      "model_module": "@jupyter-widgets/controls",
      "model_module_version": "1.5.0",
      "model_name": "DescriptionStyleModel",
      "state": {
       "_model_module": "@jupyter-widgets/controls",
       "_model_module_version": "1.5.0",
       "_model_name": "DescriptionStyleModel",
       "_view_count": null,
       "_view_module": "@jupyter-widgets/base",
       "_view_module_version": "1.2.0",
       "_view_name": "StyleView",
       "description_width": ""
      }
     },
     "9bf13c55a44a448f91a7e03918760229": {
      "model_module": "@jupyter-widgets/controls",
      "model_module_version": "1.5.0",
      "model_name": "DescriptionStyleModel",
      "state": {
       "_model_module": "@jupyter-widgets/controls",
       "_model_module_version": "1.5.0",
       "_model_name": "DescriptionStyleModel",
       "_view_count": null,
       "_view_module": "@jupyter-widgets/base",
       "_view_module_version": "1.2.0",
       "_view_name": "StyleView",
       "description_width": ""
      }
     },
     "9f9c892b1806444fbc302826b27831d2": {
      "model_module": "@jupyter-widgets/controls",
      "model_module_version": "1.5.0",
      "model_name": "DescriptionStyleModel",
      "state": {
       "_model_module": "@jupyter-widgets/controls",
       "_model_module_version": "1.5.0",
       "_model_name": "DescriptionStyleModel",
       "_view_count": null,
       "_view_module": "@jupyter-widgets/base",
       "_view_module_version": "1.2.0",
       "_view_name": "StyleView",
       "description_width": ""
      }
     },
     "a3487dde2ba945d098c09058034ea302": {
      "model_module": "@jupyter-widgets/controls",
      "model_module_version": "1.5.0",
      "model_name": "DescriptionStyleModel",
      "state": {
       "_model_module": "@jupyter-widgets/controls",
       "_model_module_version": "1.5.0",
       "_model_name": "DescriptionStyleModel",
       "_view_count": null,
       "_view_module": "@jupyter-widgets/base",
       "_view_module_version": "1.2.0",
       "_view_name": "StyleView",
       "description_width": ""
      }
     },
     "a65b7a4c3f9b4419bf92a5f53b247092": {
      "model_module": "@jupyter-widgets/controls",
      "model_module_version": "1.5.0",
      "model_name": "FloatProgressModel",
      "state": {
       "_dom_classes": [],
       "_model_module": "@jupyter-widgets/controls",
       "_model_module_version": "1.5.0",
       "_model_name": "FloatProgressModel",
       "_view_count": null,
       "_view_module": "@jupyter-widgets/controls",
       "_view_module_version": "1.5.0",
       "_view_name": "ProgressView",
       "bar_style": "success",
       "description": "",
       "description_tooltip": null,
       "layout": "IPY_MODEL_3d4396579df54ca0963ad82d7161aeb1",
       "max": 420.0,
       "min": 0.0,
       "orientation": "horizontal",
       "style": "IPY_MODEL_0509490cb7de4d48a508d50c1870afd8",
       "value": 420.0
      }
     },
     "aaab199228274c618236bc16d56ec97a": {
      "model_module": "@jupyter-widgets/controls",
      "model_module_version": "1.5.0",
      "model_name": "FloatProgressModel",
      "state": {
       "_dom_classes": [],
       "_model_module": "@jupyter-widgets/controls",
       "_model_module_version": "1.5.0",
       "_model_name": "FloatProgressModel",
       "_view_count": null,
       "_view_module": "@jupyter-widgets/controls",
       "_view_module_version": "1.5.0",
       "_view_name": "ProgressView",
       "bar_style": "success",
       "description": "",
       "description_tooltip": null,
       "layout": "IPY_MODEL_402a96cbfc3b4c36aa6cb4fb346855d1",
       "max": 227141.0,
       "min": 0.0,
       "orientation": "horizontal",
       "style": "IPY_MODEL_6668bd67a8c04d7792c20ddda4e887d7",
       "value": 227141.0
      }
     },
     "b360f7d6c6a54c95957e8451734de972": {
      "model_module": "@jupyter-widgets/controls",
      "model_module_version": "1.5.0",
      "model_name": "ProgressStyleModel",
      "state": {
       "_model_module": "@jupyter-widgets/controls",
       "_model_module_version": "1.5.0",
       "_model_name": "ProgressStyleModel",
       "_view_count": null,
       "_view_module": "@jupyter-widgets/base",
       "_view_module_version": "1.2.0",
       "_view_name": "StyleView",
       "bar_color": null,
       "description_width": ""
      }
     },
     "b45e5363730a405c9e5a96855360b3c6": {
      "model_module": "@jupyter-widgets/controls",
      "model_module_version": "1.5.0",
      "model_name": "HBoxModel",
      "state": {
       "_dom_classes": [],
       "_model_module": "@jupyter-widgets/controls",
       "_model_module_version": "1.5.0",
       "_model_name": "HBoxModel",
       "_view_count": null,
       "_view_module": "@jupyter-widgets/controls",
       "_view_module_version": "1.5.0",
       "_view_name": "HBoxView",
       "box_style": "",
       "children": [
        "IPY_MODEL_147bd9b71a404995a206ff7c6ef9633a",
        "IPY_MODEL_aaab199228274c618236bc16d56ec97a",
        "IPY_MODEL_5f954ae8d50c4c899a21919f67218284"
       ],
       "layout": "IPY_MODEL_5e4289205fd9499e9d6b1694f1f32e61"
      }
     },
     "b72551abfd974928a9fde802f22dbc81": {
      "model_module": "@jupyter-widgets/base",
      "model_module_version": "1.2.0",
      "model_name": "LayoutModel",
      "state": {
       "_model_module": "@jupyter-widgets/base",
       "_model_module_version": "1.2.0",
       "_model_name": "LayoutModel",
       "_view_count": null,
       "_view_module": "@jupyter-widgets/base",
       "_view_module_version": "1.2.0",
       "_view_name": "LayoutView",
       "align_content": null,
       "align_items": null,
       "align_self": null,
       "border": null,
       "bottom": null,
       "display": null,
       "flex": null,
       "flex_flow": null,
       "grid_area": null,
       "grid_auto_columns": null,
       "grid_auto_flow": null,
       "grid_auto_rows": null,
       "grid_column": null,
       "grid_gap": null,
       "grid_row": null,
       "grid_template_areas": null,
       "grid_template_columns": null,
       "grid_template_rows": null,
       "height": null,
       "justify_content": null,
       "justify_items": null,
       "left": null,
       "margin": null,
       "max_height": null,
       "max_width": null,
       "min_height": null,
       "min_width": null,
       "object_fit": null,
       "object_position": null,
       "order": null,
       "overflow": null,
       "overflow_x": null,
       "overflow_y": null,
       "padding": null,
       "right": null,
       "top": null,
       "visibility": null,
       "width": null
      }
     },
     "b9b929063f1e45d7be8b36b03abefba7": {
      "model_module": "@jupyter-widgets/base",
      "model_module_version": "1.2.0",
      "model_name": "LayoutModel",
      "state": {
       "_model_module": "@jupyter-widgets/base",
       "_model_module_version": "1.2.0",
       "_model_name": "LayoutModel",
       "_view_count": null,
       "_view_module": "@jupyter-widgets/base",
       "_view_module_version": "1.2.0",
       "_view_name": "LayoutView",
       "align_content": null,
       "align_items": null,
       "align_self": null,
       "border": null,
       "bottom": null,
       "display": null,
       "flex": null,
       "flex_flow": null,
       "grid_area": null,
       "grid_auto_columns": null,
       "grid_auto_flow": null,
       "grid_auto_rows": null,
       "grid_column": null,
       "grid_gap": null,
       "grid_row": null,
       "grid_template_areas": null,
       "grid_template_columns": null,
       "grid_template_rows": null,
       "height": null,
       "justify_content": null,
       "justify_items": null,
       "left": null,
       "margin": null,
       "max_height": null,
       "max_width": null,
       "min_height": null,
       "min_width": null,
       "object_fit": null,
       "object_position": null,
       "order": null,
       "overflow": null,
       "overflow_x": null,
       "overflow_y": null,
       "padding": null,
       "right": null,
       "top": null,
       "visibility": null,
       "width": null
      }
     },
     "cb4351cbf35a4089b21404cdd15f2c1b": {
      "model_module": "@jupyter-widgets/base",
      "model_module_version": "1.2.0",
      "model_name": "LayoutModel",
      "state": {
       "_model_module": "@jupyter-widgets/base",
       "_model_module_version": "1.2.0",
       "_model_name": "LayoutModel",
       "_view_count": null,
       "_view_module": "@jupyter-widgets/base",
       "_view_module_version": "1.2.0",
       "_view_name": "LayoutView",
       "align_content": null,
       "align_items": null,
       "align_self": null,
       "border": null,
       "bottom": null,
       "display": null,
       "flex": null,
       "flex_flow": null,
       "grid_area": null,
       "grid_auto_columns": null,
       "grid_auto_flow": null,
       "grid_auto_rows": null,
       "grid_column": null,
       "grid_gap": null,
       "grid_row": null,
       "grid_template_areas": null,
       "grid_template_columns": null,
       "grid_template_rows": null,
       "height": null,
       "justify_content": null,
       "justify_items": null,
       "left": null,
       "margin": null,
       "max_height": null,
       "max_width": null,
       "min_height": null,
       "min_width": null,
       "object_fit": null,
       "object_position": null,
       "order": null,
       "overflow": null,
       "overflow_x": null,
       "overflow_y": null,
       "padding": null,
       "right": null,
       "top": null,
       "visibility": null,
       "width": null
      }
     },
     "e59837aa97a0495caa74e0b2f85d085d": {
      "model_module": "@jupyter-widgets/controls",
      "model_module_version": "1.5.0",
      "model_name": "HBoxModel",
      "state": {
       "_dom_classes": [],
       "_model_module": "@jupyter-widgets/controls",
       "_model_module_version": "1.5.0",
       "_model_name": "HBoxModel",
       "_view_count": null,
       "_view_module": "@jupyter-widgets/controls",
       "_view_module_version": "1.5.0",
       "_view_name": "HBoxView",
       "box_style": "",
       "children": [
        "IPY_MODEL_3eaa9e316e994898a5dfb8ddd502de7b",
        "IPY_MODEL_410d9c94196743e2a51a93920b508324",
        "IPY_MODEL_085ccd2b54024126861a7c95e470fa7d"
       ],
       "layout": "IPY_MODEL_eb61b5a24d304359adcf98c3b90c0943"
      }
     },
     "eb61b5a24d304359adcf98c3b90c0943": {
      "model_module": "@jupyter-widgets/base",
      "model_module_version": "1.2.0",
      "model_name": "LayoutModel",
      "state": {
       "_model_module": "@jupyter-widgets/base",
       "_model_module_version": "1.2.0",
       "_model_name": "LayoutModel",
       "_view_count": null,
       "_view_module": "@jupyter-widgets/base",
       "_view_module_version": "1.2.0",
       "_view_name": "LayoutView",
       "align_content": null,
       "align_items": null,
       "align_self": null,
       "border": null,
       "bottom": null,
       "display": null,
       "flex": null,
       "flex_flow": null,
       "grid_area": null,
       "grid_auto_columns": null,
       "grid_auto_flow": null,
       "grid_auto_rows": null,
       "grid_column": null,
       "grid_gap": null,
       "grid_row": null,
       "grid_template_areas": null,
       "grid_template_columns": null,
       "grid_template_rows": null,
       "height": null,
       "justify_content": null,
       "justify_items": null,
       "left": null,
       "margin": null,
       "max_height": null,
       "max_width": null,
       "min_height": null,
       "min_width": null,
       "object_fit": null,
       "object_position": null,
       "order": null,
       "overflow": null,
       "overflow_x": null,
       "overflow_y": null,
       "padding": null,
       "right": null,
       "top": null,
       "visibility": null,
       "width": null
      }
     },
     "ef4aa6c9a80848c1bc476a2059fa8eb6": {
      "model_module": "@jupyter-widgets/controls",
      "model_module_version": "1.5.0",
      "model_name": "HTMLModel",
      "state": {
       "_dom_classes": [],
       "_model_module": "@jupyter-widgets/controls",
       "_model_module_version": "1.5.0",
       "_model_name": "HTMLModel",
       "_view_count": null,
       "_view_module": "@jupyter-widgets/controls",
       "_view_module_version": "1.5.0",
       "_view_name": "HTMLView",
       "description": "",
       "description_tooltip": null,
       "layout": "IPY_MODEL_b72551abfd974928a9fde802f22dbc81",
       "placeholder": "​",
       "style": "IPY_MODEL_a3487dde2ba945d098c09058034ea302",
       "value": "Downloading: 100%"
      }
     },
     "f127669401144899aa42d7420c00fba0": {
      "model_module": "@jupyter-widgets/controls",
      "model_module_version": "1.5.0",
      "model_name": "DescriptionStyleModel",
      "state": {
       "_model_module": "@jupyter-widgets/controls",
       "_model_module_version": "1.5.0",
       "_model_name": "DescriptionStyleModel",
       "_view_count": null,
       "_view_module": "@jupyter-widgets/base",
       "_view_module_version": "1.2.0",
       "_view_name": "StyleView",
       "description_width": ""
      }
     },
     "f2b23669e088474ea4d387905f059b4b": {
      "model_module": "@jupyter-widgets/controls",
      "model_module_version": "1.5.0",
      "model_name": "FloatProgressModel",
      "state": {
       "_dom_classes": [],
       "_model_module": "@jupyter-widgets/controls",
       "_model_module_version": "1.5.0",
       "_model_name": "FloatProgressModel",
       "_view_count": null,
       "_view_module": "@jupyter-widgets/controls",
       "_view_module_version": "1.5.0",
       "_view_name": "ProgressView",
       "bar_style": "success",
       "description": "",
       "description_tooltip": null,
       "layout": "IPY_MODEL_16aa49855eb64630a2378991ac172fef",
       "max": 445018784.0,
       "min": 0.0,
       "orientation": "horizontal",
       "style": "IPY_MODEL_b360f7d6c6a54c95957e8451734de972",
       "value": 445018784.0
      }
     },
     "f4587e766dc84c0783b2d1e1a57f4291": {
      "model_module": "@jupyter-widgets/base",
      "model_module_version": "1.2.0",
      "model_name": "LayoutModel",
      "state": {
       "_model_module": "@jupyter-widgets/base",
       "_model_module_version": "1.2.0",
       "_model_name": "LayoutModel",
       "_view_count": null,
       "_view_module": "@jupyter-widgets/base",
       "_view_module_version": "1.2.0",
       "_view_name": "LayoutView",
       "align_content": null,
       "align_items": null,
       "align_self": null,
       "border": null,
       "bottom": null,
       "display": null,
       "flex": null,
       "flex_flow": null,
       "grid_area": null,
       "grid_auto_columns": null,
       "grid_auto_flow": null,
       "grid_auto_rows": null,
       "grid_column": null,
       "grid_gap": null,
       "grid_row": null,
       "grid_template_areas": null,
       "grid_template_columns": null,
       "grid_template_rows": null,
       "height": null,
       "justify_content": null,
       "justify_items": null,
       "left": null,
       "margin": null,
       "max_height": null,
       "max_width": null,
       "min_height": null,
       "min_width": null,
       "object_fit": null,
       "object_position": null,
       "order": null,
       "overflow": null,
       "overflow_x": null,
       "overflow_y": null,
       "padding": null,
       "right": null,
       "top": null,
       "visibility": null,
       "width": null
      }
     },
     "f7d4c0ccc6e24d4eb2b53fab7e544848": {
      "model_module": "@jupyter-widgets/base",
      "model_module_version": "1.2.0",
      "model_name": "LayoutModel",
      "state": {
       "_model_module": "@jupyter-widgets/base",
       "_model_module_version": "1.2.0",
       "_model_name": "LayoutModel",
       "_view_count": null,
       "_view_module": "@jupyter-widgets/base",
       "_view_module_version": "1.2.0",
       "_view_name": "LayoutView",
       "align_content": null,
       "align_items": null,
       "align_self": null,
       "border": null,
       "bottom": null,
       "display": null,
       "flex": null,
       "flex_flow": null,
       "grid_area": null,
       "grid_auto_columns": null,
       "grid_auto_flow": null,
       "grid_auto_rows": null,
       "grid_column": null,
       "grid_gap": null,
       "grid_row": null,
       "grid_template_areas": null,
       "grid_template_columns": null,
       "grid_template_rows": null,
       "height": null,
       "justify_content": null,
       "justify_items": null,
       "left": null,
       "margin": null,
       "max_height": null,
       "max_width": null,
       "min_height": null,
       "min_width": null,
       "object_fit": null,
       "object_position": null,
       "order": null,
       "overflow": null,
       "overflow_x": null,
       "overflow_y": null,
       "padding": null,
       "right": null,
       "top": null,
       "visibility": null,
       "width": null
      }
     }
    },
    "version_major": 2,
    "version_minor": 0
   }
  }
 },
 "nbformat": 4,
 "nbformat_minor": 5
}
