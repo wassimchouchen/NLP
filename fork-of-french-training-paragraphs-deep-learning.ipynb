{
 "cells": [
  {
   "cell_type": "code",
   "execution_count": 1,
   "id": "ae36c1d6",
   "metadata": {
    "_cell_guid": "b1076dfc-b9ad-4769-8c92-a6c4dae69d19",
    "_uuid": "8f2839f25d086af736a60e9eeb907d3b93b6e0e5",
    "execution": {
     "iopub.execute_input": "2022-07-01T19:22:02.158559Z",
     "iopub.status.busy": "2022-07-01T19:22:02.157853Z",
     "iopub.status.idle": "2022-07-01T19:22:09.774431Z",
     "shell.execute_reply": "2022-07-01T19:22:09.773823Z"
    },
    "papermill": {
     "duration": 7.662601,
     "end_time": "2022-07-01T19:22:09.774587",
     "exception": false,
     "start_time": "2022-07-01T19:22:02.111986",
     "status": "completed"
    },
    "tags": []
   },
   "outputs": [],
   "source": [
    "import os\n",
    "\n",
    "import random\n",
    "import numpy as np\n",
    "\n",
    "import pandas as pd\n",
    "import torch\n",
    "from torch.utils.data import Dataset, random_split\n",
    "from transformers import (\n",
    "    AdamW,\n",
    "    Trainer,\n",
    "    TrainingArguments,\n",
    "    AutoTokenizer,\n",
    "    AutoModelForSequenceClassification,\n",
    "    get_cosine_schedule_with_warmup,\n",
    ")\n",
    "from sklearn.preprocessing import LabelEncoder\n",
    "from sklearn.metrics import accuracy_score\n",
    "import warnings\n",
    "warnings.filterwarnings('ignore')"
   ]
  },
  {
   "cell_type": "code",
   "execution_count": 2,
   "id": "556c6f66",
   "metadata": {
    "execution": {
     "iopub.execute_input": "2022-07-01T19:22:09.847951Z",
     "iopub.status.busy": "2022-07-01T19:22:09.847096Z",
     "iopub.status.idle": "2022-07-01T19:22:09.866322Z",
     "shell.execute_reply": "2022-07-01T19:22:09.865833Z"
    },
    "papermill": {
     "duration": 0.055952,
     "end_time": "2022-07-01T19:22:09.866446",
     "exception": false,
     "start_time": "2022-07-01T19:22:09.810494",
     "status": "completed"
    },
    "tags": []
   },
   "outputs": [],
   "source": [
    "new_data=pd.read_csv(\"../input/csvvvv/Classeur 1 (5).csv\")"
   ]
  },
  {
   "cell_type": "code",
   "execution_count": 3,
   "id": "4149aa57",
   "metadata": {
    "execution": {
     "iopub.execute_input": "2022-07-01T19:22:09.944249Z",
     "iopub.status.busy": "2022-07-01T19:22:09.943532Z",
     "iopub.status.idle": "2022-07-01T19:22:09.945609Z",
     "shell.execute_reply": "2022-07-01T19:22:09.945983Z"
    },
    "papermill": {
     "duration": 0.045711,
     "end_time": "2022-07-01T19:22:09.946107",
     "exception": false,
     "start_time": "2022-07-01T19:22:09.900396",
     "status": "completed"
    },
    "tags": []
   },
   "outputs": [],
   "source": [
    "new_data.drop([\"Y\",\"Word Count\",\"Language\",' '], axis=1, inplace=True)\n",
    "new_data.columns = [\"text\", \"CEFR Review\",\"CEFR Level_Samar\"]"
   ]
  },
  {
   "cell_type": "code",
   "execution_count": 4,
   "id": "d4b815db",
   "metadata": {
    "execution": {
     "iopub.execute_input": "2022-07-01T19:22:10.019651Z",
     "iopub.status.busy": "2022-07-01T19:22:10.019039Z",
     "iopub.status.idle": "2022-07-01T19:22:10.022103Z",
     "shell.execute_reply": "2022-07-01T19:22:10.022534Z"
    },
    "papermill": {
     "duration": 0.042644,
     "end_time": "2022-07-01T19:22:10.022654",
     "exception": false,
     "start_time": "2022-07-01T19:22:09.980010",
     "status": "completed"
    },
    "tags": []
   },
   "outputs": [
    {
     "data": {
      "text/plain": [
       "(191, 3)"
      ]
     },
     "execution_count": 4,
     "metadata": {},
     "output_type": "execute_result"
    }
   ],
   "source": [
    "new_data.shape"
   ]
  },
  {
   "cell_type": "code",
   "execution_count": 5,
   "id": "c0a4e70e",
   "metadata": {
    "execution": {
     "iopub.execute_input": "2022-07-01T19:22:10.093932Z",
     "iopub.status.busy": "2022-07-01T19:22:10.093058Z",
     "iopub.status.idle": "2022-07-01T19:22:10.104268Z",
     "shell.execute_reply": "2022-07-01T19:22:10.103847Z"
    },
    "papermill": {
     "duration": 0.04696,
     "end_time": "2022-07-01T19:22:10.104378",
     "exception": false,
     "start_time": "2022-07-01T19:22:10.057418",
     "status": "completed"
    },
    "tags": []
   },
   "outputs": [
    {
     "data": {
      "text/html": [
       "<div>\n",
       "<style scoped>\n",
       "    .dataframe tbody tr th:only-of-type {\n",
       "        vertical-align: middle;\n",
       "    }\n",
       "\n",
       "    .dataframe tbody tr th {\n",
       "        vertical-align: top;\n",
       "    }\n",
       "\n",
       "    .dataframe thead th {\n",
       "        text-align: right;\n",
       "    }\n",
       "</style>\n",
       "<table border=\"1\" class=\"dataframe\">\n",
       "  <thead>\n",
       "    <tr style=\"text-align: right;\">\n",
       "      <th></th>\n",
       "      <th>text</th>\n",
       "      <th>CEFR Review</th>\n",
       "      <th>CEFR Level_Samar</th>\n",
       "    </tr>\n",
       "  </thead>\n",
       "  <tbody>\n",
       "    <tr>\n",
       "      <th>0</th>\n",
       "      <td>En 1815, M. Charles-François-Bienvenu Myriel é...</td>\n",
       "      <td>A2</td>\n",
       "      <td>C1</td>\n",
       "    </tr>\n",
       "    <tr>\n",
       "      <th>1</th>\n",
       "      <td>Quoique ce détail ne touche en aucune manière ...</td>\n",
       "      <td>C1</td>\n",
       "      <td>C2</td>\n",
       "    </tr>\n",
       "  </tbody>\n",
       "</table>\n",
       "</div>"
      ],
      "text/plain": [
       "                                                text CEFR Review  \\\n",
       "0  En 1815, M. Charles-François-Bienvenu Myriel é...          A2   \n",
       "1  Quoique ce détail ne touche en aucune manière ...          C1   \n",
       "\n",
       "  CEFR Level_Samar  \n",
       "0               C1  \n",
       "1               C2  "
      ]
     },
     "execution_count": 5,
     "metadata": {},
     "output_type": "execute_result"
    }
   ],
   "source": [
    "new_data.head(2)"
   ]
  },
  {
   "cell_type": "code",
   "execution_count": 6,
   "id": "6b475391",
   "metadata": {
    "execution": {
     "iopub.execute_input": "2022-07-01T19:22:10.183702Z",
     "iopub.status.busy": "2022-07-01T19:22:10.182873Z",
     "iopub.status.idle": "2022-07-01T19:22:10.193837Z",
     "shell.execute_reply": "2022-07-01T19:22:10.193430Z"
    },
    "papermill": {
     "duration": 0.054839,
     "end_time": "2022-07-01T19:22:10.193947",
     "exception": false,
     "start_time": "2022-07-01T19:22:10.139108",
     "status": "completed"
    },
    "tags": []
   },
   "outputs": [
    {
     "data": {
      "text/html": [
       "<div>\n",
       "<style scoped>\n",
       "    .dataframe tbody tr th:only-of-type {\n",
       "        vertical-align: middle;\n",
       "    }\n",
       "\n",
       "    .dataframe tbody tr th {\n",
       "        vertical-align: top;\n",
       "    }\n",
       "\n",
       "    .dataframe thead th {\n",
       "        text-align: right;\n",
       "    }\n",
       "</style>\n",
       "<table border=\"1\" class=\"dataframe\">\n",
       "  <thead>\n",
       "    <tr style=\"text-align: right;\">\n",
       "      <th></th>\n",
       "      <th>text</th>\n",
       "      <th>label</th>\n",
       "    </tr>\n",
       "  </thead>\n",
       "  <tbody>\n",
       "    <tr>\n",
       "      <th>0</th>\n",
       "      <td>En 1815, M. Charles-François-Bienvenu Myriel é...</td>\n",
       "      <td>C1</td>\n",
       "    </tr>\n",
       "    <tr>\n",
       "      <th>1</th>\n",
       "      <td>Quoique ce détail ne touche en aucune manière ...</td>\n",
       "      <td>C2</td>\n",
       "    </tr>\n",
       "    <tr>\n",
       "      <th>2</th>\n",
       "      <td>En 1804, M. Myriel était curé de Brignolles. I...</td>\n",
       "      <td>C1</td>\n",
       "    </tr>\n",
       "    <tr>\n",
       "      <th>3</th>\n",
       "      <td>Vers l'époque du couronnement, une petite affa...</td>\n",
       "      <td>C2</td>\n",
       "    </tr>\n",
       "    <tr>\n",
       "      <th>4</th>\n",
       "      <td>—Quel est ce bonhomme qui me regarde?</td>\n",
       "      <td>C1</td>\n",
       "    </tr>\n",
       "  </tbody>\n",
       "</table>\n",
       "</div>"
      ],
      "text/plain": [
       "                                                text label\n",
       "0  En 1815, M. Charles-François-Bienvenu Myriel é...    C1\n",
       "1  Quoique ce détail ne touche en aucune manière ...    C2\n",
       "2  En 1804, M. Myriel était curé de Brignolles. I...    C1\n",
       "3  Vers l'époque du couronnement, une petite affa...    C2\n",
       "4              —Quel est ce bonhomme qui me regarde?    C1"
      ]
     },
     "execution_count": 6,
     "metadata": {},
     "output_type": "execute_result"
    }
   ],
   "source": [
    "mike_20_june_samar=new_data[pd.notnull(new_data['CEFR Level_Samar'])]\n",
    "mike_20_june_samar.columns = [\"text\", \"CEFR Review\",\"label\"]\n",
    "mike_20_june_samar.drop([\"CEFR Review\"],axis=1, inplace=True)\n",
    "mike_20_june_samar.to_csv(\"mike_20_june_samar.csv\" , index=False)\n",
    "mike_20_june_samar.head()"
   ]
  },
  {
   "cell_type": "code",
   "execution_count": 7,
   "id": "138a889f",
   "metadata": {
    "execution": {
     "iopub.execute_input": "2022-07-01T19:22:10.316078Z",
     "iopub.status.busy": "2022-07-01T19:22:10.315301Z",
     "iopub.status.idle": "2022-07-01T19:22:10.326026Z",
     "shell.execute_reply": "2022-07-01T19:22:10.326482Z"
    },
    "papermill": {
     "duration": 0.097607,
     "end_time": "2022-07-01T19:22:10.326613",
     "exception": false,
     "start_time": "2022-07-01T19:22:10.229006",
     "status": "completed"
    },
    "tags": []
   },
   "outputs": [
    {
     "data": {
      "text/html": [
       "<div>\n",
       "<style scoped>\n",
       "    .dataframe tbody tr th:only-of-type {\n",
       "        vertical-align: middle;\n",
       "    }\n",
       "\n",
       "    .dataframe tbody tr th {\n",
       "        vertical-align: top;\n",
       "    }\n",
       "\n",
       "    .dataframe thead th {\n",
       "        text-align: right;\n",
       "    }\n",
       "</style>\n",
       "<table border=\"1\" class=\"dataframe\">\n",
       "  <thead>\n",
       "    <tr style=\"text-align: right;\">\n",
       "      <th></th>\n",
       "      <th>text</th>\n",
       "      <th>label</th>\n",
       "    </tr>\n",
       "  </thead>\n",
       "  <tbody>\n",
       "    <tr>\n",
       "      <th>0</th>\n",
       "      <td>En 1815, M. Charles-François-Bienvenu Myriel é...</td>\n",
       "      <td>A2</td>\n",
       "    </tr>\n",
       "    <tr>\n",
       "      <th>1</th>\n",
       "      <td>Quoique ce détail ne touche en aucune manière ...</td>\n",
       "      <td>C1</td>\n",
       "    </tr>\n",
       "    <tr>\n",
       "      <th>2</th>\n",
       "      <td>En 1804, M. Myriel était curé de Brignolles. I...</td>\n",
       "      <td>A2</td>\n",
       "    </tr>\n",
       "    <tr>\n",
       "      <th>3</th>\n",
       "      <td>Vers l'époque du couronnement, une petite affa...</td>\n",
       "      <td>B2</td>\n",
       "    </tr>\n",
       "    <tr>\n",
       "      <th>4</th>\n",
       "      <td>—Quel est ce bonhomme qui me regarde?</td>\n",
       "      <td>A2</td>\n",
       "    </tr>\n",
       "  </tbody>\n",
       "</table>\n",
       "</div>"
      ],
      "text/plain": [
       "                                                text label\n",
       "0  En 1815, M. Charles-François-Bienvenu Myriel é...    A2\n",
       "1  Quoique ce détail ne touche en aucune manière ...    C1\n",
       "2  En 1804, M. Myriel était curé de Brignolles. I...    A2\n",
       "3  Vers l'époque du couronnement, une petite affa...    B2\n",
       "4              —Quel est ce bonhomme qui me regarde?    A2"
      ]
     },
     "execution_count": 7,
     "metadata": {},
     "output_type": "execute_result"
    }
   ],
   "source": [
    "mike_20_june_new=new_data[pd.notnull(new_data['CEFR Review'])]\n",
    "mike_20_june_new.columns = [\"text\", \"label\",\"CEFR Level_Samar\"]\n",
    "mike_20_june_new.drop([\"CEFR Level_Samar\"],axis=1, inplace=True)\n",
    "mike_20_june_new.to_csv(\"mike_20_june_new.csv\" , index=False)\n",
    "mike_20_june_new.head() "
   ]
  },
  {
   "cell_type": "markdown",
   "id": "1572ffcc",
   "metadata": {
    "papermill": {
     "duration": 0.035641,
     "end_time": "2022-07-01T19:22:10.398111",
     "exception": false,
     "start_time": "2022-07-01T19:22:10.362470",
     "status": "completed"
    },
    "tags": []
   },
   "source": [
    "**!!!! samar annotation seems to be weird because there is just C1 and C2**"
   ]
  },
  {
   "cell_type": "code",
   "execution_count": 8,
   "id": "088ce83e",
   "metadata": {
    "execution": {
     "iopub.execute_input": "2022-07-01T19:22:10.474422Z",
     "iopub.status.busy": "2022-07-01T19:22:10.473741Z",
     "iopub.status.idle": "2022-07-01T19:22:10.476253Z",
     "shell.execute_reply": "2022-07-01T19:22:10.476746Z"
    },
    "papermill": {
     "duration": 0.0437,
     "end_time": "2022-07-01T19:22:10.476864",
     "exception": false,
     "start_time": "2022-07-01T19:22:10.433164",
     "status": "completed"
    },
    "tags": []
   },
   "outputs": [
    {
     "data": {
      "text/plain": [
       "(array(['C1', 'C2'], dtype=object),\n",
       " array(['A2', 'C1', 'B2', 'A1', 'B1', 'C2'], dtype=object))"
      ]
     },
     "execution_count": 8,
     "metadata": {},
     "output_type": "execute_result"
    }
   ],
   "source": [
    "mike_20_june_samar[\"label\"].unique(), mike_20_june_new[\"label\"].unique()"
   ]
  },
  {
   "cell_type": "code",
   "execution_count": 9,
   "id": "b161e1dd",
   "metadata": {
    "execution": {
     "iopub.execute_input": "2022-07-01T19:22:10.555795Z",
     "iopub.status.busy": "2022-07-01T19:22:10.555159Z",
     "iopub.status.idle": "2022-07-01T19:22:10.557691Z",
     "shell.execute_reply": "2022-07-01T19:22:10.558088Z"
    },
    "papermill": {
     "duration": 0.045921,
     "end_time": "2022-07-01T19:22:10.558223",
     "exception": false,
     "start_time": "2022-07-01T19:22:10.512302",
     "status": "completed"
    },
    "tags": []
   },
   "outputs": [
    {
     "data": {
      "text/plain": [
       "C1    58\n",
       "A1    41\n",
       "B2    33\n",
       "B1    29\n",
       "A2    24\n",
       "C2     6\n",
       "Name: label, dtype: int64"
      ]
     },
     "execution_count": 9,
     "metadata": {},
     "output_type": "execute_result"
    }
   ],
   "source": [
    "mike_20_june_new.label.value_counts()"
   ]
  },
  {
   "cell_type": "code",
   "execution_count": 10,
   "id": "743e128f",
   "metadata": {
    "execution": {
     "iopub.execute_input": "2022-07-01T19:22:10.635587Z",
     "iopub.status.busy": "2022-07-01T19:22:10.634830Z",
     "iopub.status.idle": "2022-07-01T19:22:10.638134Z",
     "shell.execute_reply": "2022-07-01T19:22:10.637709Z"
    },
    "papermill": {
     "duration": 0.044006,
     "end_time": "2022-07-01T19:22:10.638262",
     "exception": false,
     "start_time": "2022-07-01T19:22:10.594256",
     "status": "completed"
    },
    "tags": []
   },
   "outputs": [
    {
     "data": {
      "text/plain": [
       "((141, 2), (191, 2))"
      ]
     },
     "execution_count": 10,
     "metadata": {},
     "output_type": "execute_result"
    }
   ],
   "source": [
    "mike_20_june_samar.shape,mike_20_june_new.shape"
   ]
  },
  {
   "cell_type": "code",
   "execution_count": 11,
   "id": "00077040",
   "metadata": {
    "execution": {
     "iopub.execute_input": "2022-07-01T19:22:10.715306Z",
     "iopub.status.busy": "2022-07-01T19:22:10.714701Z",
     "iopub.status.idle": "2022-07-01T19:22:10.733966Z",
     "shell.execute_reply": "2022-07-01T19:22:10.734377Z"
    },
    "papermill": {
     "duration": 0.059584,
     "end_time": "2022-07-01T19:22:10.734510",
     "exception": false,
     "start_time": "2022-07-01T19:22:10.674926",
     "status": "completed"
    },
    "tags": []
   },
   "outputs": [
    {
     "data": {
      "text/plain": [
       "(315, 4)"
      ]
     },
     "execution_count": 11,
     "metadata": {},
     "output_type": "execute_result"
    }
   ],
   "source": [
    "trainn=pd.read_csv(\"../input/frenchcefr/french dataset.csv\")\n",
    "trainn.shape"
   ]
  },
  {
   "cell_type": "code",
   "execution_count": null,
   "id": "da06f69b",
   "metadata": {
    "papermill": {
     "duration": 0.037042,
     "end_time": "2022-07-01T19:22:10.808812",
     "exception": false,
     "start_time": "2022-07-01T19:22:10.771770",
     "status": "completed"
    },
    "tags": []
   },
   "outputs": [],
   "source": []
  },
  {
   "cell_type": "code",
   "execution_count": null,
   "id": "2cadeea9",
   "metadata": {
    "papermill": {
     "duration": 0.036853,
     "end_time": "2022-07-01T19:22:10.884176",
     "exception": false,
     "start_time": "2022-07-01T19:22:10.847323",
     "status": "completed"
    },
    "tags": []
   },
   "outputs": [],
   "source": []
  },
  {
   "cell_type": "code",
   "execution_count": null,
   "id": "176de5ea",
   "metadata": {
    "papermill": {
     "duration": 0.037508,
     "end_time": "2022-07-01T19:22:10.958739",
     "exception": false,
     "start_time": "2022-07-01T19:22:10.921231",
     "status": "completed"
    },
    "tags": []
   },
   "outputs": [],
   "source": []
  },
  {
   "cell_type": "markdown",
   "id": "71f5c3c4",
   "metadata": {
    "papermill": {
     "duration": 0.037777,
     "end_time": "2022-07-01T19:22:11.033527",
     "exception": false,
     "start_time": "2022-07-01T19:22:10.995750",
     "status": "completed"
    },
    "tags": []
   },
   "source": [
    "****"
   ]
  },
  {
   "cell_type": "code",
   "execution_count": 12,
   "id": "9422a77d",
   "metadata": {
    "execution": {
     "iopub.execute_input": "2022-07-01T19:22:11.112810Z",
     "iopub.status.busy": "2022-07-01T19:22:11.112066Z",
     "iopub.status.idle": "2022-07-01T19:22:21.304637Z",
     "shell.execute_reply": "2022-07-01T19:22:21.304078Z"
    },
    "papermill": {
     "duration": 10.233738,
     "end_time": "2022-07-01T19:22:21.304767",
     "exception": false,
     "start_time": "2022-07-01T19:22:11.071029",
     "status": "completed"
    },
    "tags": []
   },
   "outputs": [
    {
     "data": {
      "application/vnd.jupyter.widget-view+json": {
       "model_id": "532f6f14f6234060bc4a48cf8755f5ce",
       "version_major": 2,
       "version_minor": 0
      },
      "text/plain": [
       "Downloading:   0%|          | 0.00/420 [00:00<?, ?B/s]"
      ]
     },
     "metadata": {},
     "output_type": "display_data"
    },
    {
     "data": {
      "application/vnd.jupyter.widget-view+json": {
       "model_id": "66f045835f494b6696f644d884a6bfd1",
       "version_major": 2,
       "version_minor": 0
      },
      "text/plain": [
       "Downloading:   0%|          | 0.00/227k [00:00<?, ?B/s]"
      ]
     },
     "metadata": {},
     "output_type": "display_data"
    },
    {
     "data": {
      "application/vnd.jupyter.widget-view+json": {
       "model_id": "6cda09228e694e1598aeb7643d3e9397",
       "version_major": 2,
       "version_minor": 0
      },
      "text/plain": [
       "Downloading:   0%|          | 0.00/83.0 [00:00<?, ?B/s]"
      ]
     },
     "metadata": {},
     "output_type": "display_data"
    }
   ],
   "source": [
    "model_name = \"dbmdz/bert-base-french-europeana-cased\"\n",
    "\n",
    "tokenizer = AutoTokenizer.from_pretrained(model_name)\n",
    "\n",
    "device = torch.device(\"cuda\" if torch.cuda.is_available() else \"cpu\")"
   ]
  },
  {
   "cell_type": "code",
   "execution_count": 13,
   "id": "2afbc9fb",
   "metadata": {
    "execution": {
     "iopub.execute_input": "2022-07-01T19:22:21.388720Z",
     "iopub.status.busy": "2022-07-01T19:22:21.387942Z",
     "iopub.status.idle": "2022-07-01T19:22:21.390362Z",
     "shell.execute_reply": "2022-07-01T19:22:21.389908Z"
    },
    "papermill": {
     "duration": 0.045776,
     "end_time": "2022-07-01T19:22:21.390483",
     "exception": false,
     "start_time": "2022-07-01T19:22:21.344707",
     "status": "completed"
    },
    "tags": []
   },
   "outputs": [],
   "source": [
    "lr = 2e-5\n",
    "epochs =  6\n",
    "batch_size = 5\n",
    "max_seq_len = 75\n",
    "\n",
    "test_frac = 0.1"
   ]
  },
  {
   "cell_type": "code",
   "execution_count": 14,
   "id": "1b69e046",
   "metadata": {
    "execution": {
     "iopub.execute_input": "2022-07-01T19:22:21.473081Z",
     "iopub.status.busy": "2022-07-01T19:22:21.472446Z",
     "iopub.status.idle": "2022-07-01T19:22:21.477370Z",
     "shell.execute_reply": "2022-07-01T19:22:21.476915Z"
    },
    "papermill": {
     "duration": 0.048395,
     "end_time": "2022-07-01T19:22:21.477483",
     "exception": false,
     "start_time": "2022-07-01T19:22:21.429088",
     "status": "completed"
    },
    "tags": []
   },
   "outputs": [],
   "source": [
    "import os\n",
    "\n",
    "def set_seed(seed=106052):\n",
    "    \"\"\"Set seed for reproducibility.\n",
    "    \"\"\"\n",
    "    random.seed(seed)\n",
    "    np.random.seed(seed)\n",
    "    torch.manual_seed(seed)\n",
    "    torch.cuda.manual_seed_all(seed)\n",
    "    \n",
    "    os.environ['PYTHONHASHSEED'] = str(seed)\n",
    "    \n",
    "set_seed()"
   ]
  },
  {
   "cell_type": "code",
   "execution_count": 15,
   "id": "ebcff9c7",
   "metadata": {
    "execution": {
     "iopub.execute_input": "2022-07-01T19:22:21.562301Z",
     "iopub.status.busy": "2022-07-01T19:22:21.561509Z",
     "iopub.status.idle": "2022-07-01T19:22:21.563866Z",
     "shell.execute_reply": "2022-07-01T19:22:21.563440Z"
    },
    "papermill": {
     "duration": 0.048184,
     "end_time": "2022-07-01T19:22:21.563963",
     "exception": false,
     "start_time": "2022-07-01T19:22:21.515779",
     "status": "completed"
    },
    "tags": []
   },
   "outputs": [],
   "source": [
    "class CEFRDataset(Dataset):\n",
    "    \"\"\"Classification dataset, built on top of pytorch dataset object\n",
    "    \"\"\"\n",
    "    \n",
    "    def __init__(self, texts, labels):\n",
    "        \n",
    "        self.encoder = LabelEncoder()\n",
    "        print(self.encoder.__dict__)\n",
    "        self.texts = texts\n",
    "        self.labels = self.encoder.fit_transform(labels)\n",
    "\n",
    "    def __len__(self):\n",
    "        return len(self.texts)\n",
    "\n",
    "    def __getitem__(self, index):\n",
    "        text = self.texts[index]\n",
    "        label = self.labels[index]\n",
    "        encoded_text = tokenizer(\n",
    "            text,\n",
    "            padding=\"max_length\",\n",
    "            max_length=max_seq_len,\n",
    "            truncation=True,\n",
    "            return_tensors=\"pt\",\n",
    "        )\n",
    "        encoded_text[\"input_ids\"] = encoded_text[\"input_ids\"].squeeze()\n",
    "        encoded_text[\"attention_mask\"] = encoded_text[\"attention_mask\"].squeeze()\n",
    "        label = torch.tensor(label)\n",
    "\n",
    "        return {\n",
    "            \"input_ids\": encoded_text[\"input_ids\"],\n",
    "            \"attention_mask\": encoded_text[\"attention_mask\"],\n",
    "            \"labels\": label,\n",
    "        }\n",
    "\n",
    "    def get_labels(self):\n",
    "        return self.labels"
   ]
  },
  {
   "cell_type": "code",
   "execution_count": 16,
   "id": "51937a2a",
   "metadata": {
    "execution": {
     "iopub.execute_input": "2022-07-01T19:22:21.646301Z",
     "iopub.status.busy": "2022-07-01T19:22:21.644021Z",
     "iopub.status.idle": "2022-07-01T19:22:21.648615Z",
     "shell.execute_reply": "2022-07-01T19:22:21.648173Z"
    },
    "papermill": {
     "duration": 0.046717,
     "end_time": "2022-07-01T19:22:21.648719",
     "exception": false,
     "start_time": "2022-07-01T19:22:21.602002",
     "status": "completed"
    },
    "tags": []
   },
   "outputs": [],
   "source": [
    "def train(train_set, valid_set, epochs=10, warmup_size=0.1, lr=1e-3, batch_size=16):\n",
    "    model = get_model(model_name)\n",
    "    optim = AdamW(model.parameters(), lr=lr)\n",
    "    scheduler = get_scheduler(\n",
    "        optim, warmup_size, round(len(train_set) / batch_size * epochs)\n",
    "    )\n",
    "    training_args = get_training_args(epochs, batch_size)\n",
    "    trainer = Trainer(\n",
    "        model=model,\n",
    "        args=training_args,\n",
    "        train_dataset=train_set,\n",
    "        eval_dataset=valid_set,\n",
    "        optimizers=[optim, scheduler],\n",
    "        compute_metrics=compute_accuracy,\n",
    "    )\n",
    "    trainer.train()\n",
    "    trainer.save_model()\n",
    "    return trainer"
   ]
  },
  {
   "cell_type": "code",
   "execution_count": 17,
   "id": "5f9e638a",
   "metadata": {
    "execution": {
     "iopub.execute_input": "2022-07-01T19:22:21.731148Z",
     "iopub.status.busy": "2022-07-01T19:22:21.730322Z",
     "iopub.status.idle": "2022-07-01T19:22:21.732152Z",
     "shell.execute_reply": "2022-07-01T19:22:21.732650Z"
    },
    "papermill": {
     "duration": 0.04497,
     "end_time": "2022-07-01T19:22:21.732769",
     "exception": false,
     "start_time": "2022-07-01T19:22:21.687799",
     "status": "completed"
    },
    "tags": []
   },
   "outputs": [],
   "source": [
    "def get_model(pretrained_checkpoint):\n",
    "    model = AutoModelForSequenceClassification.from_pretrained(\n",
    "        pretrained_checkpoint, num_labels=6\n",
    "    )\n",
    "    return model.to(device)"
   ]
  },
  {
   "cell_type": "code",
   "execution_count": 18,
   "id": "91210c6e",
   "metadata": {
    "execution": {
     "iopub.execute_input": "2022-07-01T19:22:21.817183Z",
     "iopub.status.busy": "2022-07-01T19:22:21.814025Z",
     "iopub.status.idle": "2022-07-01T19:22:21.819499Z",
     "shell.execute_reply": "2022-07-01T19:22:21.819072Z"
    },
    "papermill": {
     "duration": 0.048166,
     "end_time": "2022-07-01T19:22:21.819606",
     "exception": false,
     "start_time": "2022-07-01T19:22:21.771440",
     "status": "completed"
    },
    "tags": []
   },
   "outputs": [],
   "source": [
    "os.environ[\"WANDB_DISABLED\"] = \"true\"\n",
    "\n",
    "\n",
    "def get_scheduler(optimizer, warmup_size, total_steps):\n",
    "    scheduler = get_cosine_schedule_with_warmup(\n",
    "        optimizer,\n",
    "        num_warmup_steps=round(total_steps * warmup_size),\n",
    "        num_training_steps=total_steps,\n",
    "    )\n",
    "    return scheduler\n",
    "\n",
    "\n",
    "def get_training_args(epochs, batch_size):\n",
    "    return TrainingArguments(\n",
    "        output_dir=\"./b\",\n",
    "        num_train_epochs=epochs,\n",
    "        per_device_train_batch_size=batch_size,\n",
    "        logging_steps=50,\n",
    "        fp16=False,\n",
    "        evaluation_strategy=\"epoch\",\n",
    "        eval_accumulation_steps=1,\n",
    "        report_to=None,\n",
    "        save_total_limit=1,\n",
    "        load_best_model_at_end=True\n",
    "    )\n",
    "\n",
    "\n",
    "def compute_accuracy(pred):\n",
    "    labels = pred.label_ids\n",
    "    preds = pred.predictions.argmax(-1)\n",
    "    acc = accuracy_score(labels, preds)\n",
    "    return {\"accuracy\": acc}\n",
    "\n"
   ]
  },
  {
   "cell_type": "code",
   "execution_count": 19,
   "id": "cfe0be6d",
   "metadata": {
    "execution": {
     "iopub.execute_input": "2022-07-01T19:22:21.902463Z",
     "iopub.status.busy": "2022-07-01T19:22:21.901716Z",
     "iopub.status.idle": "2022-07-01T19:22:21.904118Z",
     "shell.execute_reply": "2022-07-01T19:22:21.903714Z"
    },
    "papermill": {
     "duration": 0.045241,
     "end_time": "2022-07-01T19:22:21.904245",
     "exception": false,
     "start_time": "2022-07-01T19:22:21.859004",
     "status": "completed"
    },
    "tags": []
   },
   "outputs": [],
   "source": [
    "lr = 2e-5\n",
    "epochs =  7\n",
    "batch_size = 8\n",
    "max_seq_len = 512"
   ]
  },
  {
   "cell_type": "code",
   "execution_count": 20,
   "id": "04fa2ff5",
   "metadata": {
    "execution": {
     "iopub.execute_input": "2022-07-01T19:22:21.988734Z",
     "iopub.status.busy": "2022-07-01T19:22:21.987983Z",
     "iopub.status.idle": "2022-07-01T19:22:21.989821Z",
     "shell.execute_reply": "2022-07-01T19:22:21.990272Z"
    },
    "papermill": {
     "duration": 0.046411,
     "end_time": "2022-07-01T19:22:21.990448",
     "exception": false,
     "start_time": "2022-07-01T19:22:21.944037",
     "status": "completed"
    },
    "tags": []
   },
   "outputs": [],
   "source": [
    "def split_valid(df, frac=0.01):\n",
    "    \n",
    "    val = pd.DataFrame()\n",
    "    val[\"text\"] = \"\"\n",
    "    val[\"label\"] = -1\n",
    "    \n",
    "    for i in df.label.unique():\n",
    "        val = pd.concat([val, df[df.label == i].sample(frac=frac)])\n",
    "        \n",
    "    return df[~df.index.isin(val.index)].reset_index(drop=True) , val.reset_index(drop=True)"
   ]
  },
  {
   "cell_type": "code",
   "execution_count": null,
   "id": "1360067f",
   "metadata": {
    "papermill": {
     "duration": 0.039202,
     "end_time": "2022-07-01T19:22:22.069552",
     "exception": false,
     "start_time": "2022-07-01T19:22:22.030350",
     "status": "completed"
    },
    "tags": []
   },
   "outputs": [],
   "source": []
  },
  {
   "cell_type": "code",
   "execution_count": 21,
   "id": "cf75a36e",
   "metadata": {
    "execution": {
     "iopub.execute_input": "2022-07-01T19:22:22.151104Z",
     "iopub.status.busy": "2022-07-01T19:22:22.150376Z",
     "iopub.status.idle": "2022-07-01T19:22:22.152775Z",
     "shell.execute_reply": "2022-07-01T19:22:22.152362Z"
    },
    "papermill": {
     "duration": 0.044068,
     "end_time": "2022-07-01T19:22:22.152877",
     "exception": false,
     "start_time": "2022-07-01T19:22:22.108809",
     "status": "completed"
    },
    "tags": []
   },
   "outputs": [],
   "source": [
    "# train_set_df = pd.read_csv(\"../input/newdatasets/mike_20_june_new (1).csv\")\n",
    "# train_set_df"
   ]
  },
  {
   "cell_type": "code",
   "execution_count": 22,
   "id": "0df208ea",
   "metadata": {
    "execution": {
     "iopub.execute_input": "2022-07-01T19:22:22.252690Z",
     "iopub.status.busy": "2022-07-01T19:22:22.252057Z",
     "iopub.status.idle": "2022-07-01T19:22:22.254699Z",
     "shell.execute_reply": "2022-07-01T19:22:22.255097Z"
    },
    "papermill": {
     "duration": 0.055571,
     "end_time": "2022-07-01T19:22:22.255236",
     "exception": false,
     "start_time": "2022-07-01T19:22:22.199665",
     "status": "completed"
    },
    "tags": []
   },
   "outputs": [
    {
     "data": {
      "text/html": [
       "<div>\n",
       "<style scoped>\n",
       "    .dataframe tbody tr th:only-of-type {\n",
       "        vertical-align: middle;\n",
       "    }\n",
       "\n",
       "    .dataframe tbody tr th {\n",
       "        vertical-align: top;\n",
       "    }\n",
       "\n",
       "    .dataframe thead th {\n",
       "        text-align: right;\n",
       "    }\n",
       "</style>\n",
       "<table border=\"1\" class=\"dataframe\">\n",
       "  <thead>\n",
       "    <tr style=\"text-align: right;\">\n",
       "      <th></th>\n",
       "      <th>text</th>\n",
       "      <th>label</th>\n",
       "    </tr>\n",
       "  </thead>\n",
       "  <tbody>\n",
       "    <tr>\n",
       "      <th>0</th>\n",
       "      <td>En 1815, M. Charles-François-Bienvenu Myriel é...</td>\n",
       "      <td>A2</td>\n",
       "    </tr>\n",
       "    <tr>\n",
       "      <th>1</th>\n",
       "      <td>Quoique ce détail ne touche en aucune manière ...</td>\n",
       "      <td>C1</td>\n",
       "    </tr>\n",
       "  </tbody>\n",
       "</table>\n",
       "</div>"
      ],
      "text/plain": [
       "                                                text label\n",
       "0  En 1815, M. Charles-François-Bienvenu Myriel é...    A2\n",
       "1  Quoique ce détail ne touche en aucune manière ...    C1"
      ]
     },
     "execution_count": 22,
     "metadata": {},
     "output_type": "execute_result"
    }
   ],
   "source": [
    "mike_20_june_new.head(2)"
   ]
  },
  {
   "cell_type": "code",
   "execution_count": 23,
   "id": "aab35f4c",
   "metadata": {
    "execution": {
     "iopub.execute_input": "2022-07-01T19:22:22.342082Z",
     "iopub.status.busy": "2022-07-01T19:22:22.341497Z",
     "iopub.status.idle": "2022-07-01T19:22:22.344205Z",
     "shell.execute_reply": "2022-07-01T19:22:22.344630Z"
    },
    "papermill": {
     "duration": 0.047221,
     "end_time": "2022-07-01T19:22:22.344745",
     "exception": false,
     "start_time": "2022-07-01T19:22:22.297524",
     "status": "completed"
    },
    "tags": []
   },
   "outputs": [
    {
     "data": {
      "text/plain": [
       "(191, 2)"
      ]
     },
     "execution_count": 23,
     "metadata": {},
     "output_type": "execute_result"
    }
   ],
   "source": [
    "mike_20_june_new.shape"
   ]
  },
  {
   "cell_type": "code",
   "execution_count": 24,
   "id": "5255c91a",
   "metadata": {
    "execution": {
     "iopub.execute_input": "2022-07-01T19:22:22.428340Z",
     "iopub.status.busy": "2022-07-01T19:22:22.427815Z",
     "iopub.status.idle": "2022-07-01T19:22:22.444507Z",
     "shell.execute_reply": "2022-07-01T19:22:22.443979Z"
    },
    "papermill": {
     "duration": 0.05912,
     "end_time": "2022-07-01T19:22:22.444612",
     "exception": false,
     "start_time": "2022-07-01T19:22:22.385492",
     "status": "completed"
    },
    "tags": []
   },
   "outputs": [],
   "source": [
    "new=pd.read_csv(\"../input/lingua/fr_lingua.csv\")"
   ]
  },
  {
   "cell_type": "code",
   "execution_count": 25,
   "id": "8e56dad8",
   "metadata": {
    "execution": {
     "iopub.execute_input": "2022-07-01T19:22:22.530800Z",
     "iopub.status.busy": "2022-07-01T19:22:22.530016Z",
     "iopub.status.idle": "2022-07-01T19:22:22.531959Z",
     "shell.execute_reply": "2022-07-01T19:22:22.532410Z"
    },
    "papermill": {
     "duration": 0.045253,
     "end_time": "2022-07-01T19:22:22.532530",
     "exception": false,
     "start_time": "2022-07-01T19:22:22.487277",
     "status": "completed"
    },
    "tags": []
   },
   "outputs": [],
   "source": [
    "new.columns=[\"text\",\"label\"]"
   ]
  },
  {
   "cell_type": "code",
   "execution_count": 26,
   "id": "6a5a46b8",
   "metadata": {
    "execution": {
     "iopub.execute_input": "2022-07-01T19:22:22.616745Z",
     "iopub.status.busy": "2022-07-01T19:22:22.616159Z",
     "iopub.status.idle": "2022-07-01T19:22:22.625999Z",
     "shell.execute_reply": "2022-07-01T19:22:22.626456Z"
    },
    "papermill": {
     "duration": 0.053972,
     "end_time": "2022-07-01T19:22:22.626579",
     "exception": false,
     "start_time": "2022-07-01T19:22:22.572607",
     "status": "completed"
    },
    "tags": []
   },
   "outputs": [
    {
     "data": {
      "text/plain": [
       "((315, 2),\n",
       "                                                 text label\n",
       " 0  Il était une fois un prince qui voulait épouse...    A2\n",
       " 1  Il fit le tour de la Terre pour en trouver une...    B1)"
      ]
     },
     "execution_count": 26,
     "metadata": {},
     "output_type": "execute_result"
    }
   ],
   "source": [
    "french=pd.read_csv(\"../input/frenchcefr/french dataset.csv\")\n",
    "french=french[[\"text\",\"label\"]]\n",
    "french.shape,french.head(2)\n"
   ]
  },
  {
   "cell_type": "code",
   "execution_count": 27,
   "id": "c800196a",
   "metadata": {
    "execution": {
     "iopub.execute_input": "2022-07-01T19:22:22.712505Z",
     "iopub.status.busy": "2022-07-01T19:22:22.711638Z",
     "iopub.status.idle": "2022-07-01T19:22:22.713824Z",
     "shell.execute_reply": "2022-07-01T19:22:22.714187Z"
    },
    "papermill": {
     "duration": 0.046146,
     "end_time": "2022-07-01T19:22:22.714330",
     "exception": false,
     "start_time": "2022-07-01T19:22:22.668184",
     "status": "completed"
    },
    "tags": []
   },
   "outputs": [],
   "source": [
    "# train_set_df=pd.concat([french, mike_20_june_new,new], ignore_index=True)"
   ]
  },
  {
   "cell_type": "code",
   "execution_count": 28,
   "id": "0b40d890",
   "metadata": {
    "execution": {
     "iopub.execute_input": "2022-07-01T19:22:22.801611Z",
     "iopub.status.busy": "2022-07-01T19:22:22.800998Z",
     "iopub.status.idle": "2022-07-01T19:22:22.844954Z",
     "shell.execute_reply": "2022-07-01T19:22:22.844222Z"
    },
    "papermill": {
     "duration": 0.090069,
     "end_time": "2022-07-01T19:22:22.845061",
     "exception": false,
     "start_time": "2022-07-01T19:22:22.754992",
     "status": "completed"
    },
    "tags": []
   },
   "outputs": [],
   "source": [
    "from sklearn import preprocessing\n",
    "le = preprocessing.LabelEncoder()\n",
    "\n",
    "train_set_df = pd.read_csv(\"../input/newdatasets/mike_20_june_new (1).csv\")\n",
    "train_set_df = train_set_df[train_set_df.label != \"XX\"]\n",
    "train_set_df = train_set_df[[\"text\", \"label\"]]\n",
    "\n",
    "train_set_df.text = train_set_df.text.apply(lambda x: x.replace(\"\\r\", \"\").replace(\"\\n\", \" \"))\n",
    "\n",
    "extra_df = pd.read_csv(\"../input/frenchcefr/french_mike_june.csv\")\n",
    "extra_df.columns = [\"text\", \"label\", \"label_\"]\n",
    "extra_df = extra_df[[\"text\", \"label\"]]\n",
    "extra_df.text = extra_df.text.astype(str)\n",
    "#train_set_df = pd.concat([train_set_df, extra_df]).reset_index(drop=True)\n",
    "\n",
    "train_set_df, valid_set_df = split_valid(train_set_df)"
   ]
  },
  {
   "cell_type": "code",
   "execution_count": 29,
   "id": "7de9b3cc",
   "metadata": {
    "execution": {
     "iopub.execute_input": "2022-07-01T19:22:22.932370Z",
     "iopub.status.busy": "2022-07-01T19:22:22.931500Z",
     "iopub.status.idle": "2022-07-01T19:22:22.934952Z",
     "shell.execute_reply": "2022-07-01T19:22:22.934515Z"
    },
    "papermill": {
     "duration": 0.048725,
     "end_time": "2022-07-01T19:22:22.935051",
     "exception": false,
     "start_time": "2022-07-01T19:22:22.886326",
     "status": "completed"
    },
    "tags": []
   },
   "outputs": [
    {
     "data": {
      "text/plain": [
       "array(['A2', 'C1', 'B2', 'A1', 'B1', 'C2'], dtype=object)"
      ]
     },
     "execution_count": 29,
     "metadata": {},
     "output_type": "execute_result"
    }
   ],
   "source": [
    "train_set_df.label.unique()"
   ]
  },
  {
   "cell_type": "code",
   "execution_count": 30,
   "id": "d1b27095",
   "metadata": {
    "execution": {
     "iopub.execute_input": "2022-07-01T19:22:23.024298Z",
     "iopub.status.busy": "2022-07-01T19:22:23.023622Z",
     "iopub.status.idle": "2022-07-01T19:22:23.026397Z",
     "shell.execute_reply": "2022-07-01T19:22:23.025814Z"
    },
    "papermill": {
     "duration": 0.049327,
     "end_time": "2022-07-01T19:22:23.026504",
     "exception": false,
     "start_time": "2022-07-01T19:22:22.977177",
     "status": "completed"
    },
    "tags": []
   },
   "outputs": [],
   "source": [
    "train_set_df.label = le.fit_transform(train_set_df.label)\n",
    "valid_set_df.label = le.transform(valid_set_df.label)"
   ]
  },
  {
   "cell_type": "code",
   "execution_count": 31,
   "id": "8fb86c17",
   "metadata": {
    "execution": {
     "iopub.execute_input": "2022-07-01T19:22:23.114650Z",
     "iopub.status.busy": "2022-07-01T19:22:23.113875Z",
     "iopub.status.idle": "2022-07-01T19:22:23.116766Z",
     "shell.execute_reply": "2022-07-01T19:22:23.117229Z"
    },
    "papermill": {
     "duration": 0.049326,
     "end_time": "2022-07-01T19:22:23.117354",
     "exception": false,
     "start_time": "2022-07-01T19:22:23.068028",
     "status": "completed"
    },
    "tags": []
   },
   "outputs": [
    {
     "data": {
      "text/plain": [
       "6"
      ]
     },
     "execution_count": 31,
     "metadata": {},
     "output_type": "execute_result"
    }
   ],
   "source": [
    "train_set_df.label.nunique()"
   ]
  },
  {
   "cell_type": "code",
   "execution_count": 32,
   "id": "42956e52",
   "metadata": {
    "execution": {
     "iopub.execute_input": "2022-07-01T19:22:23.205968Z",
     "iopub.status.busy": "2022-07-01T19:22:23.205192Z",
     "iopub.status.idle": "2022-07-01T19:22:23.210551Z",
     "shell.execute_reply": "2022-07-01T19:22:23.210117Z"
    },
    "papermill": {
     "duration": 0.05111,
     "end_time": "2022-07-01T19:22:23.210654",
     "exception": false,
     "start_time": "2022-07-01T19:22:23.159544",
     "status": "completed"
    },
    "tags": []
   },
   "outputs": [
    {
     "data": {
      "text/plain": [
       "4    57\n",
       "0    41\n",
       "3    33\n",
       "2    29\n",
       "1    24\n",
       "5     6\n",
       "Name: label, dtype: int64"
      ]
     },
     "execution_count": 32,
     "metadata": {},
     "output_type": "execute_result"
    }
   ],
   "source": [
    "train_set_df.label.value_counts()"
   ]
  },
  {
   "cell_type": "code",
   "execution_count": 33,
   "id": "9d3dbc03",
   "metadata": {
    "execution": {
     "iopub.execute_input": "2022-07-01T19:22:23.301367Z",
     "iopub.status.busy": "2022-07-01T19:22:23.300709Z",
     "iopub.status.idle": "2022-07-01T19:22:23.303162Z",
     "shell.execute_reply": "2022-07-01T19:22:23.303672Z"
    },
    "papermill": {
     "duration": 0.050284,
     "end_time": "2022-07-01T19:22:23.303786",
     "exception": false,
     "start_time": "2022-07-01T19:22:23.253502",
     "status": "completed"
    },
    "tags": []
   },
   "outputs": [
    {
     "data": {
      "text/plain": [
       "1"
      ]
     },
     "execution_count": 33,
     "metadata": {},
     "output_type": "execute_result"
    }
   ],
   "source": [
    "valid_set_df.label.nunique()"
   ]
  },
  {
   "cell_type": "code",
   "execution_count": 34,
   "id": "597089a1",
   "metadata": {
    "execution": {
     "iopub.execute_input": "2022-07-01T19:22:23.392826Z",
     "iopub.status.busy": "2022-07-01T19:22:23.392069Z",
     "iopub.status.idle": "2022-07-01T19:22:23.394430Z",
     "shell.execute_reply": "2022-07-01T19:22:23.393975Z"
    },
    "papermill": {
     "duration": 0.047469,
     "end_time": "2022-07-01T19:22:23.394533",
     "exception": false,
     "start_time": "2022-07-01T19:22:23.347064",
     "status": "completed"
    },
    "tags": []
   },
   "outputs": [],
   "source": [
    "# train_set_df = train_set_df.sample(frac=1)"
   ]
  },
  {
   "cell_type": "code",
   "execution_count": 35,
   "id": "eb014ec4",
   "metadata": {
    "execution": {
     "iopub.execute_input": "2022-07-01T19:22:23.486108Z",
     "iopub.status.busy": "2022-07-01T19:22:23.485319Z",
     "iopub.status.idle": "2022-07-01T19:22:23.487897Z",
     "shell.execute_reply": "2022-07-01T19:22:23.487394Z"
    },
    "papermill": {
     "duration": 0.050705,
     "end_time": "2022-07-01T19:22:23.488023",
     "exception": false,
     "start_time": "2022-07-01T19:22:23.437318",
     "status": "completed"
    },
    "tags": []
   },
   "outputs": [],
   "source": [
    "from tqdm import tqdm \n",
    "\n",
    "def predict(model, text):\n",
    "    \n",
    "    preds = []\n",
    "    \n",
    "    for i in tqdm(range(len(text))):\n",
    "        tokenized = tokenizer(text[i:i+1], return_tensors=\"pt\", truncation=True, max_length=512).to(\"cuda\")\n",
    "        pred = model(**tokenized)\n",
    "        preds.append(pred.logits.argmax(-1).item())\n",
    "\n",
    "    return preds"
   ]
  },
  {
   "cell_type": "code",
   "execution_count": null,
   "id": "0f582d76",
   "metadata": {
    "papermill": {
     "duration": 0.043308,
     "end_time": "2022-07-01T19:22:23.574188",
     "exception": false,
     "start_time": "2022-07-01T19:22:23.530880",
     "status": "completed"
    },
    "tags": []
   },
   "outputs": [],
   "source": []
  },
  {
   "cell_type": "code",
   "execution_count": 36,
   "id": "2fc34aa0",
   "metadata": {
    "execution": {
     "iopub.execute_input": "2022-07-01T19:22:23.665653Z",
     "iopub.status.busy": "2022-07-01T19:22:23.664868Z",
     "iopub.status.idle": "2022-07-01T19:25:16.451250Z",
     "shell.execute_reply": "2022-07-01T19:25:16.450742Z"
    },
    "papermill": {
     "duration": 172.834626,
     "end_time": "2022-07-01T19:25:16.451402",
     "exception": false,
     "start_time": "2022-07-01T19:22:23.616776",
     "status": "completed"
    },
    "tags": []
   },
   "outputs": [
    {
     "name": "stdout",
     "output_type": "stream",
     "text": [
      "{}\n",
      "{}\n"
     ]
    },
    {
     "data": {
      "application/vnd.jupyter.widget-view+json": {
       "model_id": "c08066614bec4e41b5e169386e396b3b",
       "version_major": 2,
       "version_minor": 0
      },
      "text/plain": [
       "Downloading:   0%|          | 0.00/445M [00:00<?, ?B/s]"
      ]
     },
     "metadata": {},
     "output_type": "display_data"
    },
    {
     "name": "stderr",
     "output_type": "stream",
     "text": [
      "Some weights of the model checkpoint at dbmdz/bert-base-french-europeana-cased were not used when initializing BertForSequenceClassification: ['cls.predictions.bias', 'cls.predictions.transform.dense.weight', 'cls.predictions.transform.dense.bias', 'cls.predictions.transform.LayerNorm.weight', 'cls.predictions.transform.LayerNorm.bias', 'cls.predictions.decoder.weight', 'cls.predictions.decoder.bias', 'cls.seq_relationship.weight', 'cls.seq_relationship.bias']\n",
      "- This IS expected if you are initializing BertForSequenceClassification from the checkpoint of a model trained on another task or with another architecture (e.g. initializing a BertForSequenceClassification model from a BertForPreTraining model).\n",
      "- This IS NOT expected if you are initializing BertForSequenceClassification from the checkpoint of a model that you expect to be exactly identical (initializing a BertForSequenceClassification model from a BertForSequenceClassification model).\n",
      "Some weights of BertForSequenceClassification were not initialized from the model checkpoint at dbmdz/bert-base-french-europeana-cased and are newly initialized: ['classifier.weight', 'classifier.bias']\n",
      "You should probably TRAIN this model on a down-stream task to be able to use it for predictions and inference.\n",
      "Using the `WAND_DISABLED` environment variable is deprecated and will be removed in v5. Use the --report_to flag to control the integrations used for logging result (for instance --report_to none).\n"
     ]
    },
    {
     "data": {
      "text/html": [
       "\n",
       "    <div>\n",
       "        <style>\n",
       "            /* Turns off some styling */\n",
       "            progress {\n",
       "                /* gets rid of default border in Firefox and Opera. */\n",
       "                border: none;\n",
       "                /* Needs to be in here for Safari polyfill so background images work as expected. */\n",
       "                background-size: auto;\n",
       "            }\n",
       "        </style>\n",
       "      \n",
       "      <progress value='168' max='168' style='width:300px; height:20px; vertical-align: middle;'></progress>\n",
       "      [168/168 01:56, Epoch 7/7]\n",
       "    </div>\n",
       "    <table border=\"1\" class=\"dataframe\">\n",
       "  <thead>\n",
       "    <tr style=\"text-align: left;\">\n",
       "      <th>Epoch</th>\n",
       "      <th>Training Loss</th>\n",
       "      <th>Validation Loss</th>\n",
       "      <th>Accuracy</th>\n",
       "      <th>Runtime</th>\n",
       "      <th>Samples Per Second</th>\n",
       "    </tr>\n",
       "  </thead>\n",
       "  <tbody>\n",
       "    <tr>\n",
       "      <td>1</td>\n",
       "      <td>No log</td>\n",
       "      <td>2.087388</td>\n",
       "      <td>0.000000</td>\n",
       "      <td>0.038200</td>\n",
       "      <td>26.152000</td>\n",
       "    </tr>\n",
       "    <tr>\n",
       "      <td>2</td>\n",
       "      <td>No log</td>\n",
       "      <td>3.319314</td>\n",
       "      <td>0.000000</td>\n",
       "      <td>0.034500</td>\n",
       "      <td>28.951000</td>\n",
       "    </tr>\n",
       "    <tr>\n",
       "      <td>3</td>\n",
       "      <td>1.512000</td>\n",
       "      <td>4.162873</td>\n",
       "      <td>0.000000</td>\n",
       "      <td>0.032500</td>\n",
       "      <td>30.760000</td>\n",
       "    </tr>\n",
       "    <tr>\n",
       "      <td>4</td>\n",
       "      <td>1.512000</td>\n",
       "      <td>4.354156</td>\n",
       "      <td>0.000000</td>\n",
       "      <td>0.061800</td>\n",
       "      <td>16.170000</td>\n",
       "    </tr>\n",
       "    <tr>\n",
       "      <td>5</td>\n",
       "      <td>0.867000</td>\n",
       "      <td>4.624961</td>\n",
       "      <td>0.000000</td>\n",
       "      <td>0.032300</td>\n",
       "      <td>30.926000</td>\n",
       "    </tr>\n",
       "    <tr>\n",
       "      <td>6</td>\n",
       "      <td>0.867000</td>\n",
       "      <td>4.566848</td>\n",
       "      <td>0.000000</td>\n",
       "      <td>0.088400</td>\n",
       "      <td>11.318000</td>\n",
       "    </tr>\n",
       "    <tr>\n",
       "      <td>7</td>\n",
       "      <td>0.585500</td>\n",
       "      <td>4.568268</td>\n",
       "      <td>0.000000</td>\n",
       "      <td>0.033400</td>\n",
       "      <td>29.940000</td>\n",
       "    </tr>\n",
       "  </tbody>\n",
       "</table><p>"
      ],
      "text/plain": [
       "<IPython.core.display.HTML object>"
      ]
     },
     "metadata": {},
     "output_type": "display_data"
    }
   ],
   "source": [
    "train_set = CEFRDataset(train_set_df[\"text\"], train_set_df[\"label\"])\n",
    "valid_set = CEFRDataset(valid_set_df[\"text\"], valid_set_df[\"label\"])\n",
    "\n",
    "\n",
    "trainer_second = train(train_set, valid_set, epochs=epochs, warmup_size=0.2, lr=lr, batch_size=batch_size)\n",
    "model = trainer_second.model"
   ]
  },
  {
   "cell_type": "code",
   "execution_count": 37,
   "id": "4ca84835",
   "metadata": {
    "execution": {
     "iopub.execute_input": "2022-07-01T19:25:16.548838Z",
     "iopub.status.busy": "2022-07-01T19:25:16.548277Z",
     "iopub.status.idle": "2022-07-01T19:25:16.582318Z",
     "shell.execute_reply": "2022-07-01T19:25:16.582815Z"
    },
    "papermill": {
     "duration": 0.086055,
     "end_time": "2022-07-01T19:25:16.582993",
     "exception": false,
     "start_time": "2022-07-01T19:25:16.496938",
     "status": "completed"
    },
    "tags": []
   },
   "outputs": [
    {
     "name": "stderr",
     "output_type": "stream",
     "text": [
      "100%|██████████| 1/1 [00:00<00:00, 40.27it/s]\n"
     ]
    }
   ],
   "source": [
    "valid_set_df[\"preds\"] = train_set.encoder.inverse_transform(predict(model, valid_set_df.text.tolist()))\n",
    "valid_set_df.columns = [\"text\", \"cefr\", \"preds\",] "
   ]
  },
  {
   "cell_type": "code",
   "execution_count": 38,
   "id": "e02335ea",
   "metadata": {
    "execution": {
     "iopub.execute_input": "2022-07-01T19:25:16.679871Z",
     "iopub.status.busy": "2022-07-01T19:25:16.679347Z",
     "iopub.status.idle": "2022-07-01T19:25:18.019150Z",
     "shell.execute_reply": "2022-07-01T19:25:18.018692Z"
    },
    "papermill": {
     "duration": 1.390445,
     "end_time": "2022-07-01T19:25:18.019294",
     "exception": false,
     "start_time": "2022-07-01T19:25:16.628849",
     "status": "completed"
    },
    "tags": []
   },
   "outputs": [
    {
     "name": "stderr",
     "output_type": "stream",
     "text": [
      "100%|██████████| 111/111 [00:01<00:00, 83.73it/s]\n"
     ]
    }
   ],
   "source": [
    "lingua = pd.read_csv(\"../input/lingua/fr_lingua.csv\")\n",
    "lingua[\"preds\"] = train_set.encoder.inverse_transform(predict(model, lingua.text.tolist()))"
   ]
  },
  {
   "cell_type": "code",
   "execution_count": 39,
   "id": "ce0045f6",
   "metadata": {
    "execution": {
     "iopub.execute_input": "2022-07-01T19:25:18.124168Z",
     "iopub.status.busy": "2022-07-01T19:25:18.122770Z",
     "iopub.status.idle": "2022-07-01T19:25:18.125007Z",
     "shell.execute_reply": "2022-07-01T19:25:18.125472Z"
    },
    "papermill": {
     "duration": 0.05592,
     "end_time": "2022-07-01T19:25:18.125601",
     "exception": false,
     "start_time": "2022-07-01T19:25:18.069681",
     "status": "completed"
    },
    "tags": []
   },
   "outputs": [],
   "source": [
    "# lingua.columns=[\"text\",\"len\",\"lang\",\"cefr\",\"preds\"]\n",
    "# lingua = lingua[lingua.cefr != \"XX\"]"
   ]
  },
  {
   "cell_type": "code",
   "execution_count": 40,
   "id": "3fa69898",
   "metadata": {
    "execution": {
     "iopub.execute_input": "2022-07-01T19:25:18.232155Z",
     "iopub.status.busy": "2022-07-01T19:25:18.231524Z",
     "iopub.status.idle": "2022-07-01T19:25:18.234088Z",
     "shell.execute_reply": "2022-07-01T19:25:18.234503Z"
    },
    "papermill": {
     "duration": 0.059118,
     "end_time": "2022-07-01T19:25:18.234634",
     "exception": false,
     "start_time": "2022-07-01T19:25:18.175516",
     "status": "completed"
    },
    "tags": []
   },
   "outputs": [
    {
     "data": {
      "text/plain": [
       "B1    60\n",
       "A2    26\n",
       "A1    13\n",
       "B2    12\n",
       "Name: cefr, dtype: int64"
      ]
     },
     "execution_count": 40,
     "metadata": {},
     "output_type": "execute_result"
    }
   ],
   "source": [
    "lingua.cefr.value_counts()"
   ]
  },
  {
   "cell_type": "code",
   "execution_count": 41,
   "id": "4b817424",
   "metadata": {
    "execution": {
     "iopub.execute_input": "2022-07-01T19:25:18.339122Z",
     "iopub.status.busy": "2022-07-01T19:25:18.338483Z",
     "iopub.status.idle": "2022-07-01T19:25:18.341038Z",
     "shell.execute_reply": "2022-07-01T19:25:18.341451Z"
    },
    "papermill": {
     "duration": 0.05699,
     "end_time": "2022-07-01T19:25:18.341570",
     "exception": false,
     "start_time": "2022-07-01T19:25:18.284580",
     "status": "completed"
    },
    "tags": []
   },
   "outputs": [
    {
     "data": {
      "text/plain": [
       "array([4])"
      ]
     },
     "execution_count": 41,
     "metadata": {},
     "output_type": "execute_result"
    }
   ],
   "source": [
    "lingua.preds.unique()"
   ]
  },
  {
   "cell_type": "code",
   "execution_count": 42,
   "id": "b68e71c7",
   "metadata": {
    "execution": {
     "iopub.execute_input": "2022-07-01T19:25:18.449331Z",
     "iopub.status.busy": "2022-07-01T19:25:18.448555Z",
     "iopub.status.idle": "2022-07-01T19:25:18.451029Z",
     "shell.execute_reply": "2022-07-01T19:25:18.450620Z"
    },
    "papermill": {
     "duration": 0.058594,
     "end_time": "2022-07-01T19:25:18.451138",
     "exception": false,
     "start_time": "2022-07-01T19:25:18.392544",
     "status": "completed"
    },
    "tags": []
   },
   "outputs": [],
   "source": [
    "def compute_average_distance(df, col_name=\"cefr\") :\n",
    "    \n",
    "    labels = [\"A1\", \"A2\", \"B1\", \"B2\", \"C1\", \"C2\"]\n",
    "    return (df[col_name].apply(lambda x: labels.index(x)) - df.preds.apply(lambda x: labels.index(x))).abs().mean()\n"
   ]
  },
  {
   "cell_type": "code",
   "execution_count": 43,
   "id": "1d82951e",
   "metadata": {
    "execution": {
     "iopub.execute_input": "2022-07-01T19:25:18.558259Z",
     "iopub.status.busy": "2022-07-01T19:25:18.557590Z",
     "iopub.status.idle": "2022-07-01T19:25:18.560183Z",
     "shell.execute_reply": "2022-07-01T19:25:18.560598Z"
    },
    "papermill": {
     "duration": 0.058557,
     "end_time": "2022-07-01T19:25:18.560717",
     "exception": false,
     "start_time": "2022-07-01T19:25:18.502160",
     "status": "completed"
    },
    "tags": []
   },
   "outputs": [
    {
     "data": {
      "text/plain": [
       "4    111\n",
       "Name: preds, dtype: int64"
      ]
     },
     "execution_count": 43,
     "metadata": {},
     "output_type": "execute_result"
    }
   ],
   "source": [
    "lingua.preds.value_counts()"
   ]
  },
  {
   "cell_type": "code",
   "execution_count": 44,
   "id": "487bfa8c",
   "metadata": {
    "execution": {
     "iopub.execute_input": "2022-07-01T19:25:18.671005Z",
     "iopub.status.busy": "2022-07-01T19:25:18.669425Z",
     "iopub.status.idle": "2022-07-01T19:25:18.671598Z",
     "shell.execute_reply": "2022-07-01T19:25:18.672003Z"
    },
    "papermill": {
     "duration": 0.059678,
     "end_time": "2022-07-01T19:25:18.672126",
     "exception": false,
     "start_time": "2022-07-01T19:25:18.612448",
     "status": "completed"
    },
    "tags": []
   },
   "outputs": [],
   "source": [
    "lingua[\"preds\"] = le.inverse_transform(lingua.preds)"
   ]
  },
  {
   "cell_type": "code",
   "execution_count": 45,
   "id": "123ac486",
   "metadata": {
    "execution": {
     "iopub.execute_input": "2022-07-01T19:25:18.780509Z",
     "iopub.status.busy": "2022-07-01T19:25:18.779860Z",
     "iopub.status.idle": "2022-07-01T19:25:18.782455Z",
     "shell.execute_reply": "2022-07-01T19:25:18.782849Z"
    },
    "papermill": {
     "duration": 0.058885,
     "end_time": "2022-07-01T19:25:18.782975",
     "exception": false,
     "start_time": "2022-07-01T19:25:18.724090",
     "status": "completed"
    },
    "tags": []
   },
   "outputs": [
    {
     "data": {
      "text/plain": [
       "C1    111\n",
       "Name: preds, dtype: int64"
      ]
     },
     "execution_count": 45,
     "metadata": {},
     "output_type": "execute_result"
    }
   ],
   "source": [
    "lingua.preds.value_counts()"
   ]
  },
  {
   "cell_type": "code",
   "execution_count": 46,
   "id": "20f26209",
   "metadata": {
    "execution": {
     "iopub.execute_input": "2022-07-01T19:25:18.893122Z",
     "iopub.status.busy": "2022-07-01T19:25:18.889137Z",
     "iopub.status.idle": "2022-07-01T19:25:18.897170Z",
     "shell.execute_reply": "2022-07-01T19:25:18.896526Z"
    },
    "papermill": {
     "duration": 0.062618,
     "end_time": "2022-07-01T19:25:18.897322",
     "exception": false,
     "start_time": "2022-07-01T19:25:18.834704",
     "status": "completed"
    },
    "tags": []
   },
   "outputs": [
    {
     "name": "stdout",
     "output_type": "stream",
     "text": [
      "Distance: \n",
      "2.3603603603603602\n",
      "Lingua accuracy: 0.0\n"
     ]
    }
   ],
   "source": [
    "print(\"Distance: \")\n",
    "print(compute_average_distance(lingua, \"cefr\"))\n",
    "\n",
    "print(f\"Lingua accuracy: {(lingua['preds'] == lingua['cefr']).mean()}\")"
   ]
  },
  {
   "cell_type": "code",
   "execution_count": 47,
   "id": "898f17ee",
   "metadata": {
    "execution": {
     "iopub.execute_input": "2022-07-01T19:25:19.044170Z",
     "iopub.status.busy": "2022-07-01T19:25:19.043649Z",
     "iopub.status.idle": "2022-07-01T19:25:19.049224Z",
     "shell.execute_reply": "2022-07-01T19:25:19.048752Z"
    },
    "papermill": {
     "duration": 0.098469,
     "end_time": "2022-07-01T19:25:19.049341",
     "exception": false,
     "start_time": "2022-07-01T19:25:18.950872",
     "status": "completed"
    },
    "tags": []
   },
   "outputs": [
    {
     "data": {
      "text/plain": [
       "B2    111\n",
       "Name: Predss, dtype: int64"
      ]
     },
     "execution_count": 47,
     "metadata": {},
     "output_type": "execute_result"
    }
   ],
   "source": [
    "for i in range(lingua.shape[0]):\n",
    "    if (lingua.loc[i,\"preds\"]==\"C1\") | (lingua.loc[i,\"preds\"]==\"C2\") :\n",
    "        lingua.loc[i,\"Predss\"]=\"B2\"\n",
    "    else :\n",
    "        lingua.loc[i,\"Predss\"]= lingua.loc[i,\"preds\"]\n",
    "lingua[\"Predss\"].value_counts()"
   ]
  },
  {
   "cell_type": "code",
   "execution_count": 48,
   "id": "fa34dd35",
   "metadata": {
    "execution": {
     "iopub.execute_input": "2022-07-01T19:25:19.163757Z",
     "iopub.status.busy": "2022-07-01T19:25:19.162175Z",
     "iopub.status.idle": "2022-07-01T19:25:19.166032Z",
     "shell.execute_reply": "2022-07-01T19:25:19.165415Z"
    },
    "papermill": {
     "duration": 0.063912,
     "end_time": "2022-07-01T19:25:19.166169",
     "exception": false,
     "start_time": "2022-07-01T19:25:19.102257",
     "status": "completed"
    },
    "tags": []
   },
   "outputs": [
    {
     "name": "stdout",
     "output_type": "stream",
     "text": [
      "Distance: \n",
      "2.3603603603603602\n",
      "Lingua accuracy: 0.10810810810810811\n"
     ]
    }
   ],
   "source": [
    "print(\"Distance: \")\n",
    "print(compute_average_distance(lingua, \"cefr\"))\n",
    "\n",
    "print(f\"Lingua accuracy: {(lingua['Predss'] == lingua['cefr']).mean()}\")"
   ]
  },
  {
   "cell_type": "markdown",
   "id": "08722b41",
   "metadata": {
    "papermill": {
     "duration": 0.05317,
     "end_time": "2022-07-01T19:25:19.273842",
     "exception": false,
     "start_time": "2022-07-01T19:25:19.220672",
     "status": "completed"
    },
    "tags": []
   },
   "source": [
    "****"
   ]
  },
  {
   "cell_type": "markdown",
   "id": "62ddd891",
   "metadata": {
    "papermill": {
     "duration": 0.053486,
     "end_time": "2022-07-01T19:25:19.380290",
     "exception": false,
     "start_time": "2022-07-01T19:25:19.326804",
     "status": "completed"
    },
    "tags": []
   },
   "source": [
    "Distance: \n",
    "0.990990990990991\n",
    "Lingua accuracy: 0.40540540540540543 <br>\n",
    "2    82\n",
    "3    15\n",
    "5    10\n",
    "4     2\n",
    "0     1\n",
    "1     1 <br> \n",
    "inokufu/flaubert-base-uncased-xnli-sts-finetuned-education"
   ]
  },
  {
   "cell_type": "markdown",
   "id": "7c60b08e",
   "metadata": {
    "papermill": {
     "duration": 0.05301,
     "end_time": "2022-07-01T19:25:19.486949",
     "exception": false,
     "start_time": "2022-07-01T19:25:19.433939",
     "status": "completed"
    },
    "tags": []
   },
   "source": [
    "****"
   ]
  },
  {
   "cell_type": "markdown",
   "id": "819c072a",
   "metadata": {
    "papermill": {
     "duration": 0.053141,
     "end_time": "2022-07-01T19:25:19.592761",
     "exception": false,
     "start_time": "2022-07-01T19:25:19.539620",
     "status": "completed"
    },
    "tags": []
   },
   "source": [
    "\n",
    "Distance: \n",
    "0.8648648648648649\n",
    "Lingua accuracy: 0.450450450450450462 <br>\n",
    "3     7\n",
    "1     5\n",
    "5     4\n",
    "4     4\n",
    "0     1 <br> inokufu/flaubert-base-uncased-xnli-sts-finetuned-education"
   ]
  },
  {
   "cell_type": "code",
   "execution_count": null,
   "id": "aa244d80",
   "metadata": {
    "papermill": {
     "duration": 0.052717,
     "end_time": "2022-07-01T19:25:19.698654",
     "exception": false,
     "start_time": "2022-07-01T19:25:19.645937",
     "status": "completed"
    },
    "tags": []
   },
   "outputs": [],
   "source": []
  },
  {
   "cell_type": "code",
   "execution_count": null,
   "id": "159cd609",
   "metadata": {
    "papermill": {
     "duration": 0.05413,
     "end_time": "2022-07-01T19:25:19.806142",
     "exception": false,
     "start_time": "2022-07-01T19:25:19.752012",
     "status": "completed"
    },
    "tags": []
   },
   "outputs": [],
   "source": []
  },
  {
   "cell_type": "code",
   "execution_count": null,
   "id": "6cbc3b7c",
   "metadata": {
    "papermill": {
     "duration": 0.052265,
     "end_time": "2022-07-01T19:25:19.910705",
     "exception": false,
     "start_time": "2022-07-01T19:25:19.858440",
     "status": "completed"
    },
    "tags": []
   },
   "outputs": [],
   "source": []
  },
  {
   "cell_type": "code",
   "execution_count": null,
   "id": "3ce0a5d5",
   "metadata": {
    "papermill": {
     "duration": 0.053231,
     "end_time": "2022-07-01T19:25:20.018556",
     "exception": false,
     "start_time": "2022-07-01T19:25:19.965325",
     "status": "completed"
    },
    "tags": []
   },
   "outputs": [],
   "source": []
  }
 ],
 "metadata": {
  "kernelspec": {
   "display_name": "Python 3",
   "language": "python",
   "name": "python3"
  },
  "language_info": {
   "codemirror_mode": {
    "name": "ipython",
    "version": 3
   },
   "file_extension": ".py",
   "mimetype": "text/x-python",
   "name": "python",
   "nbconvert_exporter": "python",
   "pygments_lexer": "ipython3",
   "version": "3.7.10"
  },
  "papermill": {
   "default_parameters": {},
   "duration": 208.712091,
   "end_time": "2022-07-01T19:25:22.965012",
   "environment_variables": {},
   "exception": null,
   "input_path": "__notebook__.ipynb",
   "output_path": "__notebook__.ipynb",
   "parameters": {},
   "start_time": "2022-07-01T19:21:54.252921",
   "version": "2.3.3"
  },
  "widgets": {
   "application/vnd.jupyter.widget-state+json": {
    "state": {
     "0031a71c39e44d3ca9ffdb1d26decc52": {
      "model_module": "@jupyter-widgets/controls",
      "model_module_version": "1.5.0",
      "model_name": "FloatProgressModel",
      "state": {
       "_dom_classes": [],
       "_model_module": "@jupyter-widgets/controls",
       "_model_module_version": "1.5.0",
       "_model_name": "FloatProgressModel",
       "_view_count": null,
       "_view_module": "@jupyter-widgets/controls",
       "_view_module_version": "1.5.0",
       "_view_name": "ProgressView",
       "bar_style": "success",
       "description": "",
       "description_tooltip": null,
       "layout": "IPY_MODEL_e7be4feaa83944f2803eb26188dc89de",
       "max": 420.0,
       "min": 0.0,
       "orientation": "horizontal",
       "style": "IPY_MODEL_2757f23f5ee24b3fb07b34726581c912",
       "value": 420.0
      }
     },
     "085082544cf34da9a5c8f61e2680e0dc": {
      "model_module": "@jupyter-widgets/controls",
      "model_module_version": "1.5.0",
      "model_name": "DescriptionStyleModel",
      "state": {
       "_model_module": "@jupyter-widgets/controls",
       "_model_module_version": "1.5.0",
       "_model_name": "DescriptionStyleModel",
       "_view_count": null,
       "_view_module": "@jupyter-widgets/base",
       "_view_module_version": "1.2.0",
       "_view_name": "StyleView",
       "description_width": ""
      }
     },
     "0aa3c9fcab97443d8d4e354f75c84396": {
      "model_module": "@jupyter-widgets/controls",
      "model_module_version": "1.5.0",
      "model_name": "HTMLModel",
      "state": {
       "_dom_classes": [],
       "_model_module": "@jupyter-widgets/controls",
       "_model_module_version": "1.5.0",
       "_model_name": "HTMLModel",
       "_view_count": null,
       "_view_module": "@jupyter-widgets/controls",
       "_view_module_version": "1.5.0",
       "_view_name": "HTMLView",
       "description": "",
       "description_tooltip": null,
       "layout": "IPY_MODEL_50395d23f6764d61b35a030a873cce3e",
       "placeholder": "​",
       "style": "IPY_MODEL_bcb0fa3397db40bd9dc34553578fe3fb",
       "value": "Downloading: 100%"
      }
     },
     "167484d19bc446f7b0b51ebed6f588c5": {
      "model_module": "@jupyter-widgets/base",
      "model_module_version": "1.2.0",
      "model_name": "LayoutModel",
      "state": {
       "_model_module": "@jupyter-widgets/base",
       "_model_module_version": "1.2.0",
       "_model_name": "LayoutModel",
       "_view_count": null,
       "_view_module": "@jupyter-widgets/base",
       "_view_module_version": "1.2.0",
       "_view_name": "LayoutView",
       "align_content": null,
       "align_items": null,
       "align_self": null,
       "border": null,
       "bottom": null,
       "display": null,
       "flex": null,
       "flex_flow": null,
       "grid_area": null,
       "grid_auto_columns": null,
       "grid_auto_flow": null,
       "grid_auto_rows": null,
       "grid_column": null,
       "grid_gap": null,
       "grid_row": null,
       "grid_template_areas": null,
       "grid_template_columns": null,
       "grid_template_rows": null,
       "height": null,
       "justify_content": null,
       "justify_items": null,
       "left": null,
       "margin": null,
       "max_height": null,
       "max_width": null,
       "min_height": null,
       "min_width": null,
       "object_fit": null,
       "object_position": null,
       "order": null,
       "overflow": null,
       "overflow_x": null,
       "overflow_y": null,
       "padding": null,
       "right": null,
       "top": null,
       "visibility": null,
       "width": null
      }
     },
     "1b8167bc20ee495d9f80c92c1727c0c2": {
      "model_module": "@jupyter-widgets/controls",
      "model_module_version": "1.5.0",
      "model_name": "FloatProgressModel",
      "state": {
       "_dom_classes": [],
       "_model_module": "@jupyter-widgets/controls",
       "_model_module_version": "1.5.0",
       "_model_name": "FloatProgressModel",
       "_view_count": null,
       "_view_module": "@jupyter-widgets/controls",
       "_view_module_version": "1.5.0",
       "_view_name": "ProgressView",
       "bar_style": "success",
       "description": "",
       "description_tooltip": null,
       "layout": "IPY_MODEL_b7705ab5bb1042b396182ac671afbfb1",
       "max": 83.0,
       "min": 0.0,
       "orientation": "horizontal",
       "style": "IPY_MODEL_dcdea10430ed4ed8b89c9787d07a0e01",
       "value": 83.0
      }
     },
     "1f98dfae9be34e26b4de9e845dbd06f9": {
      "model_module": "@jupyter-widgets/controls",
      "model_module_version": "1.5.0",
      "model_name": "DescriptionStyleModel",
      "state": {
       "_model_module": "@jupyter-widgets/controls",
       "_model_module_version": "1.5.0",
       "_model_name": "DescriptionStyleModel",
       "_view_count": null,
       "_view_module": "@jupyter-widgets/base",
       "_view_module_version": "1.2.0",
       "_view_name": "StyleView",
       "description_width": ""
      }
     },
     "2757f23f5ee24b3fb07b34726581c912": {
      "model_module": "@jupyter-widgets/controls",
      "model_module_version": "1.5.0",
      "model_name": "ProgressStyleModel",
      "state": {
       "_model_module": "@jupyter-widgets/controls",
       "_model_module_version": "1.5.0",
       "_model_name": "ProgressStyleModel",
       "_view_count": null,
       "_view_module": "@jupyter-widgets/base",
       "_view_module_version": "1.2.0",
       "_view_name": "StyleView",
       "bar_color": null,
       "description_width": ""
      }
     },
     "30c8e3be07c0428eb9b70ba1aea9925d": {
      "model_module": "@jupyter-widgets/base",
      "model_module_version": "1.2.0",
      "model_name": "LayoutModel",
      "state": {
       "_model_module": "@jupyter-widgets/base",
       "_model_module_version": "1.2.0",
       "_model_name": "LayoutModel",
       "_view_count": null,
       "_view_module": "@jupyter-widgets/base",
       "_view_module_version": "1.2.0",
       "_view_name": "LayoutView",
       "align_content": null,
       "align_items": null,
       "align_self": null,
       "border": null,
       "bottom": null,
       "display": null,
       "flex": null,
       "flex_flow": null,
       "grid_area": null,
       "grid_auto_columns": null,
       "grid_auto_flow": null,
       "grid_auto_rows": null,
       "grid_column": null,
       "grid_gap": null,
       "grid_row": null,
       "grid_template_areas": null,
       "grid_template_columns": null,
       "grid_template_rows": null,
       "height": null,
       "justify_content": null,
       "justify_items": null,
       "left": null,
       "margin": null,
       "max_height": null,
       "max_width": null,
       "min_height": null,
       "min_width": null,
       "object_fit": null,
       "object_position": null,
       "order": null,
       "overflow": null,
       "overflow_x": null,
       "overflow_y": null,
       "padding": null,
       "right": null,
       "top": null,
       "visibility": null,
       "width": null
      }
     },
     "3c12b041ba04400aa5b33dad4c301b9b": {
      "model_module": "@jupyter-widgets/base",
      "model_module_version": "1.2.0",
      "model_name": "LayoutModel",
      "state": {
       "_model_module": "@jupyter-widgets/base",
       "_model_module_version": "1.2.0",
       "_model_name": "LayoutModel",
       "_view_count": null,
       "_view_module": "@jupyter-widgets/base",
       "_view_module_version": "1.2.0",
       "_view_name": "LayoutView",
       "align_content": null,
       "align_items": null,
       "align_self": null,
       "border": null,
       "bottom": null,
       "display": null,
       "flex": null,
       "flex_flow": null,
       "grid_area": null,
       "grid_auto_columns": null,
       "grid_auto_flow": null,
       "grid_auto_rows": null,
       "grid_column": null,
       "grid_gap": null,
       "grid_row": null,
       "grid_template_areas": null,
       "grid_template_columns": null,
       "grid_template_rows": null,
       "height": null,
       "justify_content": null,
       "justify_items": null,
       "left": null,
       "margin": null,
       "max_height": null,
       "max_width": null,
       "min_height": null,
       "min_width": null,
       "object_fit": null,
       "object_position": null,
       "order": null,
       "overflow": null,
       "overflow_x": null,
       "overflow_y": null,
       "padding": null,
       "right": null,
       "top": null,
       "visibility": null,
       "width": null
      }
     },
     "426de04655f1472a9ea28e000a832f2b": {
      "model_module": "@jupyter-widgets/controls",
      "model_module_version": "1.5.0",
      "model_name": "DescriptionStyleModel",
      "state": {
       "_model_module": "@jupyter-widgets/controls",
       "_model_module_version": "1.5.0",
       "_model_name": "DescriptionStyleModel",
       "_view_count": null,
       "_view_module": "@jupyter-widgets/base",
       "_view_module_version": "1.2.0",
       "_view_name": "StyleView",
       "description_width": ""
      }
     },
     "50395d23f6764d61b35a030a873cce3e": {
      "model_module": "@jupyter-widgets/base",
      "model_module_version": "1.2.0",
      "model_name": "LayoutModel",
      "state": {
       "_model_module": "@jupyter-widgets/base",
       "_model_module_version": "1.2.0",
       "_model_name": "LayoutModel",
       "_view_count": null,
       "_view_module": "@jupyter-widgets/base",
       "_view_module_version": "1.2.0",
       "_view_name": "LayoutView",
       "align_content": null,
       "align_items": null,
       "align_self": null,
       "border": null,
       "bottom": null,
       "display": null,
       "flex": null,
       "flex_flow": null,
       "grid_area": null,
       "grid_auto_columns": null,
       "grid_auto_flow": null,
       "grid_auto_rows": null,
       "grid_column": null,
       "grid_gap": null,
       "grid_row": null,
       "grid_template_areas": null,
       "grid_template_columns": null,
       "grid_template_rows": null,
       "height": null,
       "justify_content": null,
       "justify_items": null,
       "left": null,
       "margin": null,
       "max_height": null,
       "max_width": null,
       "min_height": null,
       "min_width": null,
       "object_fit": null,
       "object_position": null,
       "order": null,
       "overflow": null,
       "overflow_x": null,
       "overflow_y": null,
       "padding": null,
       "right": null,
       "top": null,
       "visibility": null,
       "width": null
      }
     },
     "532f6f14f6234060bc4a48cf8755f5ce": {
      "model_module": "@jupyter-widgets/controls",
      "model_module_version": "1.5.0",
      "model_name": "HBoxModel",
      "state": {
       "_dom_classes": [],
       "_model_module": "@jupyter-widgets/controls",
       "_model_module_version": "1.5.0",
       "_model_name": "HBoxModel",
       "_view_count": null,
       "_view_module": "@jupyter-widgets/controls",
       "_view_module_version": "1.5.0",
       "_view_name": "HBoxView",
       "box_style": "",
       "children": [
        "IPY_MODEL_c3fa76570848449a885ffad4467c0ae6",
        "IPY_MODEL_0031a71c39e44d3ca9ffdb1d26decc52",
        "IPY_MODEL_6cf82d296e54403f9c2911c470551bce"
       ],
       "layout": "IPY_MODEL_fbf80c80afc843ba91b761f4620fd7a1"
      }
     },
     "5d427fd4ad164a38b0d8a54b437e3d8d": {
      "model_module": "@jupyter-widgets/controls",
      "model_module_version": "1.5.0",
      "model_name": "HTMLModel",
      "state": {
       "_dom_classes": [],
       "_model_module": "@jupyter-widgets/controls",
       "_model_module_version": "1.5.0",
       "_model_name": "HTMLModel",
       "_view_count": null,
       "_view_module": "@jupyter-widgets/controls",
       "_view_module_version": "1.5.0",
       "_view_name": "HTMLView",
       "description": "",
       "description_tooltip": null,
       "layout": "IPY_MODEL_d6c77ec726a64db2a0a37a45c55a6bf5",
       "placeholder": "​",
       "style": "IPY_MODEL_085082544cf34da9a5c8f61e2680e0dc",
       "value": " 445M/445M [00:40&lt;00:00, 12.1MB/s]"
      }
     },
     "66f045835f494b6696f644d884a6bfd1": {
      "model_module": "@jupyter-widgets/controls",
      "model_module_version": "1.5.0",
      "model_name": "HBoxModel",
      "state": {
       "_dom_classes": [],
       "_model_module": "@jupyter-widgets/controls",
       "_model_module_version": "1.5.0",
       "_model_name": "HBoxModel",
       "_view_count": null,
       "_view_module": "@jupyter-widgets/controls",
       "_view_module_version": "1.5.0",
       "_view_name": "HBoxView",
       "box_style": "",
       "children": [
        "IPY_MODEL_aa4d1487415c4cc1b61ba476ea81a7e8",
        "IPY_MODEL_b1d60939b29547acaf6839ecb97ca613",
        "IPY_MODEL_f931f8e7719c453aa8753b256258130f"
       ],
       "layout": "IPY_MODEL_30c8e3be07c0428eb9b70ba1aea9925d"
      }
     },
     "6cda09228e694e1598aeb7643d3e9397": {
      "model_module": "@jupyter-widgets/controls",
      "model_module_version": "1.5.0",
      "model_name": "HBoxModel",
      "state": {
       "_dom_classes": [],
       "_model_module": "@jupyter-widgets/controls",
       "_model_module_version": "1.5.0",
       "_model_name": "HBoxModel",
       "_view_count": null,
       "_view_module": "@jupyter-widgets/controls",
       "_view_module_version": "1.5.0",
       "_view_name": "HBoxView",
       "box_style": "",
       "children": [
        "IPY_MODEL_9245ecf418b14d31a1d90d2ff30670e0",
        "IPY_MODEL_1b8167bc20ee495d9f80c92c1727c0c2",
        "IPY_MODEL_c8b3ce815e964d2bb73020a6b07a70a0"
       ],
       "layout": "IPY_MODEL_167484d19bc446f7b0b51ebed6f588c5"
      }
     },
     "6cf82d296e54403f9c2911c470551bce": {
      "model_module": "@jupyter-widgets/controls",
      "model_module_version": "1.5.0",
      "model_name": "HTMLModel",
      "state": {
       "_dom_classes": [],
       "_model_module": "@jupyter-widgets/controls",
       "_model_module_version": "1.5.0",
       "_model_name": "HTMLModel",
       "_view_count": null,
       "_view_module": "@jupyter-widgets/controls",
       "_view_module_version": "1.5.0",
       "_view_name": "HTMLView",
       "description": "",
       "description_tooltip": null,
       "layout": "IPY_MODEL_965384a01eb649529412d69fa46ca350",
       "placeholder": "​",
       "style": "IPY_MODEL_8a8d55c8871f4791babd42b770bad10d",
       "value": " 420/420 [00:00&lt;00:00, 15.0kB/s]"
      }
     },
     "760943a5e5e949ea889c1e54ad21c788": {
      "model_module": "@jupyter-widgets/controls",
      "model_module_version": "1.5.0",
      "model_name": "DescriptionStyleModel",
      "state": {
       "_model_module": "@jupyter-widgets/controls",
       "_model_module_version": "1.5.0",
       "_model_name": "DescriptionStyleModel",
       "_view_count": null,
       "_view_module": "@jupyter-widgets/base",
       "_view_module_version": "1.2.0",
       "_view_name": "StyleView",
       "description_width": ""
      }
     },
     "7c272c1f046b47bdaaef6e07229e78f3": {
      "model_module": "@jupyter-widgets/controls",
      "model_module_version": "1.5.0",
      "model_name": "ProgressStyleModel",
      "state": {
       "_model_module": "@jupyter-widgets/controls",
       "_model_module_version": "1.5.0",
       "_model_name": "ProgressStyleModel",
       "_view_count": null,
       "_view_module": "@jupyter-widgets/base",
       "_view_module_version": "1.2.0",
       "_view_name": "StyleView",
       "bar_color": null,
       "description_width": ""
      }
     },
     "7ebca174a7e248c1adf3a08aeaac20ef": {
      "model_module": "@jupyter-widgets/base",
      "model_module_version": "1.2.0",
      "model_name": "LayoutModel",
      "state": {
       "_model_module": "@jupyter-widgets/base",
       "_model_module_version": "1.2.0",
       "_model_name": "LayoutModel",
       "_view_count": null,
       "_view_module": "@jupyter-widgets/base",
       "_view_module_version": "1.2.0",
       "_view_name": "LayoutView",
       "align_content": null,
       "align_items": null,
       "align_self": null,
       "border": null,
       "bottom": null,
       "display": null,
       "flex": null,
       "flex_flow": null,
       "grid_area": null,
       "grid_auto_columns": null,
       "grid_auto_flow": null,
       "grid_auto_rows": null,
       "grid_column": null,
       "grid_gap": null,
       "grid_row": null,
       "grid_template_areas": null,
       "grid_template_columns": null,
       "grid_template_rows": null,
       "height": null,
       "justify_content": null,
       "justify_items": null,
       "left": null,
       "margin": null,
       "max_height": null,
       "max_width": null,
       "min_height": null,
       "min_width": null,
       "object_fit": null,
       "object_position": null,
       "order": null,
       "overflow": null,
       "overflow_x": null,
       "overflow_y": null,
       "padding": null,
       "right": null,
       "top": null,
       "visibility": null,
       "width": null
      }
     },
     "8773894834024f99b56e2524493b0393": {
      "model_module": "@jupyter-widgets/controls",
      "model_module_version": "1.5.0",
      "model_name": "DescriptionStyleModel",
      "state": {
       "_model_module": "@jupyter-widgets/controls",
       "_model_module_version": "1.5.0",
       "_model_name": "DescriptionStyleModel",
       "_view_count": null,
       "_view_module": "@jupyter-widgets/base",
       "_view_module_version": "1.2.0",
       "_view_name": "StyleView",
       "description_width": ""
      }
     },
     "8a8d55c8871f4791babd42b770bad10d": {
      "model_module": "@jupyter-widgets/controls",
      "model_module_version": "1.5.0",
      "model_name": "DescriptionStyleModel",
      "state": {
       "_model_module": "@jupyter-widgets/controls",
       "_model_module_version": "1.5.0",
       "_model_name": "DescriptionStyleModel",
       "_view_count": null,
       "_view_module": "@jupyter-widgets/base",
       "_view_module_version": "1.2.0",
       "_view_name": "StyleView",
       "description_width": ""
      }
     },
     "9245ecf418b14d31a1d90d2ff30670e0": {
      "model_module": "@jupyter-widgets/controls",
      "model_module_version": "1.5.0",
      "model_name": "HTMLModel",
      "state": {
       "_dom_classes": [],
       "_model_module": "@jupyter-widgets/controls",
       "_model_module_version": "1.5.0",
       "_model_name": "HTMLModel",
       "_view_count": null,
       "_view_module": "@jupyter-widgets/controls",
       "_view_module_version": "1.5.0",
       "_view_name": "HTMLView",
       "description": "",
       "description_tooltip": null,
       "layout": "IPY_MODEL_afdd348a9fda4fc7a81766f4325ab9ce",
       "placeholder": "​",
       "style": "IPY_MODEL_760943a5e5e949ea889c1e54ad21c788",
       "value": "Downloading: 100%"
      }
     },
     "965384a01eb649529412d69fa46ca350": {
      "model_module": "@jupyter-widgets/base",
      "model_module_version": "1.2.0",
      "model_name": "LayoutModel",
      "state": {
       "_model_module": "@jupyter-widgets/base",
       "_model_module_version": "1.2.0",
       "_model_name": "LayoutModel",
       "_view_count": null,
       "_view_module": "@jupyter-widgets/base",
       "_view_module_version": "1.2.0",
       "_view_name": "LayoutView",
       "align_content": null,
       "align_items": null,
       "align_self": null,
       "border": null,
       "bottom": null,
       "display": null,
       "flex": null,
       "flex_flow": null,
       "grid_area": null,
       "grid_auto_columns": null,
       "grid_auto_flow": null,
       "grid_auto_rows": null,
       "grid_column": null,
       "grid_gap": null,
       "grid_row": null,
       "grid_template_areas": null,
       "grid_template_columns": null,
       "grid_template_rows": null,
       "height": null,
       "justify_content": null,
       "justify_items": null,
       "left": null,
       "margin": null,
       "max_height": null,
       "max_width": null,
       "min_height": null,
       "min_width": null,
       "object_fit": null,
       "object_position": null,
       "order": null,
       "overflow": null,
       "overflow_x": null,
       "overflow_y": null,
       "padding": null,
       "right": null,
       "top": null,
       "visibility": null,
       "width": null
      }
     },
     "992d5b4920a947ef97ffe917cb9258bc": {
      "model_module": "@jupyter-widgets/base",
      "model_module_version": "1.2.0",
      "model_name": "LayoutModel",
      "state": {
       "_model_module": "@jupyter-widgets/base",
       "_model_module_version": "1.2.0",
       "_model_name": "LayoutModel",
       "_view_count": null,
       "_view_module": "@jupyter-widgets/base",
       "_view_module_version": "1.2.0",
       "_view_name": "LayoutView",
       "align_content": null,
       "align_items": null,
       "align_self": null,
       "border": null,
       "bottom": null,
       "display": null,
       "flex": null,
       "flex_flow": null,
       "grid_area": null,
       "grid_auto_columns": null,
       "grid_auto_flow": null,
       "grid_auto_rows": null,
       "grid_column": null,
       "grid_gap": null,
       "grid_row": null,
       "grid_template_areas": null,
       "grid_template_columns": null,
       "grid_template_rows": null,
       "height": null,
       "justify_content": null,
       "justify_items": null,
       "left": null,
       "margin": null,
       "max_height": null,
       "max_width": null,
       "min_height": null,
       "min_width": null,
       "object_fit": null,
       "object_position": null,
       "order": null,
       "overflow": null,
       "overflow_x": null,
       "overflow_y": null,
       "padding": null,
       "right": null,
       "top": null,
       "visibility": null,
       "width": null
      }
     },
     "aa4d1487415c4cc1b61ba476ea81a7e8": {
      "model_module": "@jupyter-widgets/controls",
      "model_module_version": "1.5.0",
      "model_name": "HTMLModel",
      "state": {
       "_dom_classes": [],
       "_model_module": "@jupyter-widgets/controls",
       "_model_module_version": "1.5.0",
       "_model_name": "HTMLModel",
       "_view_count": null,
       "_view_module": "@jupyter-widgets/controls",
       "_view_module_version": "1.5.0",
       "_view_name": "HTMLView",
       "description": "",
       "description_tooltip": null,
       "layout": "IPY_MODEL_ab090fb390734b098a0ad623f081cbc5",
       "placeholder": "​",
       "style": "IPY_MODEL_e1187c2da4a74f78b2430794fbc4ee38",
       "value": "Downloading: 100%"
      }
     },
     "ab090fb390734b098a0ad623f081cbc5": {
      "model_module": "@jupyter-widgets/base",
      "model_module_version": "1.2.0",
      "model_name": "LayoutModel",
      "state": {
       "_model_module": "@jupyter-widgets/base",
       "_model_module_version": "1.2.0",
       "_model_name": "LayoutModel",
       "_view_count": null,
       "_view_module": "@jupyter-widgets/base",
       "_view_module_version": "1.2.0",
       "_view_name": "LayoutView",
       "align_content": null,
       "align_items": null,
       "align_self": null,
       "border": null,
       "bottom": null,
       "display": null,
       "flex": null,
       "flex_flow": null,
       "grid_area": null,
       "grid_auto_columns": null,
       "grid_auto_flow": null,
       "grid_auto_rows": null,
       "grid_column": null,
       "grid_gap": null,
       "grid_row": null,
       "grid_template_areas": null,
       "grid_template_columns": null,
       "grid_template_rows": null,
       "height": null,
       "justify_content": null,
       "justify_items": null,
       "left": null,
       "margin": null,
       "max_height": null,
       "max_width": null,
       "min_height": null,
       "min_width": null,
       "object_fit": null,
       "object_position": null,
       "order": null,
       "overflow": null,
       "overflow_x": null,
       "overflow_y": null,
       "padding": null,
       "right": null,
       "top": null,
       "visibility": null,
       "width": null
      }
     },
     "afdd348a9fda4fc7a81766f4325ab9ce": {
      "model_module": "@jupyter-widgets/base",
      "model_module_version": "1.2.0",
      "model_name": "LayoutModel",
      "state": {
       "_model_module": "@jupyter-widgets/base",
       "_model_module_version": "1.2.0",
       "_model_name": "LayoutModel",
       "_view_count": null,
       "_view_module": "@jupyter-widgets/base",
       "_view_module_version": "1.2.0",
       "_view_name": "LayoutView",
       "align_content": null,
       "align_items": null,
       "align_self": null,
       "border": null,
       "bottom": null,
       "display": null,
       "flex": null,
       "flex_flow": null,
       "grid_area": null,
       "grid_auto_columns": null,
       "grid_auto_flow": null,
       "grid_auto_rows": null,
       "grid_column": null,
       "grid_gap": null,
       "grid_row": null,
       "grid_template_areas": null,
       "grid_template_columns": null,
       "grid_template_rows": null,
       "height": null,
       "justify_content": null,
       "justify_items": null,
       "left": null,
       "margin": null,
       "max_height": null,
       "max_width": null,
       "min_height": null,
       "min_width": null,
       "object_fit": null,
       "object_position": null,
       "order": null,
       "overflow": null,
       "overflow_x": null,
       "overflow_y": null,
       "padding": null,
       "right": null,
       "top": null,
       "visibility": null,
       "width": null
      }
     },
     "b1d60939b29547acaf6839ecb97ca613": {
      "model_module": "@jupyter-widgets/controls",
      "model_module_version": "1.5.0",
      "model_name": "FloatProgressModel",
      "state": {
       "_dom_classes": [],
       "_model_module": "@jupyter-widgets/controls",
       "_model_module_version": "1.5.0",
       "_model_name": "FloatProgressModel",
       "_view_count": null,
       "_view_module": "@jupyter-widgets/controls",
       "_view_module_version": "1.5.0",
       "_view_name": "ProgressView",
       "bar_style": "success",
       "description": "",
       "description_tooltip": null,
       "layout": "IPY_MODEL_992d5b4920a947ef97ffe917cb9258bc",
       "max": 227141.0,
       "min": 0.0,
       "orientation": "horizontal",
       "style": "IPY_MODEL_f3e4bf29d10f42aab8825b579f8d05c7",
       "value": 227141.0
      }
     },
     "b40c1b6103cf4ea6b4c9f6c37caf3326": {
      "model_module": "@jupyter-widgets/controls",
      "model_module_version": "1.5.0",
      "model_name": "FloatProgressModel",
      "state": {
       "_dom_classes": [],
       "_model_module": "@jupyter-widgets/controls",
       "_model_module_version": "1.5.0",
       "_model_name": "FloatProgressModel",
       "_view_count": null,
       "_view_module": "@jupyter-widgets/controls",
       "_view_module_version": "1.5.0",
       "_view_name": "ProgressView",
       "bar_style": "success",
       "description": "",
       "description_tooltip": null,
       "layout": "IPY_MODEL_f674a3eab4544a4fa0e5f7aa8b60909c",
       "max": 445018784.0,
       "min": 0.0,
       "orientation": "horizontal",
       "style": "IPY_MODEL_7c272c1f046b47bdaaef6e07229e78f3",
       "value": 445018784.0
      }
     },
     "b7705ab5bb1042b396182ac671afbfb1": {
      "model_module": "@jupyter-widgets/base",
      "model_module_version": "1.2.0",
      "model_name": "LayoutModel",
      "state": {
       "_model_module": "@jupyter-widgets/base",
       "_model_module_version": "1.2.0",
       "_model_name": "LayoutModel",
       "_view_count": null,
       "_view_module": "@jupyter-widgets/base",
       "_view_module_version": "1.2.0",
       "_view_name": "LayoutView",
       "align_content": null,
       "align_items": null,
       "align_self": null,
       "border": null,
       "bottom": null,
       "display": null,
       "flex": null,
       "flex_flow": null,
       "grid_area": null,
       "grid_auto_columns": null,
       "grid_auto_flow": null,
       "grid_auto_rows": null,
       "grid_column": null,
       "grid_gap": null,
       "grid_row": null,
       "grid_template_areas": null,
       "grid_template_columns": null,
       "grid_template_rows": null,
       "height": null,
       "justify_content": null,
       "justify_items": null,
       "left": null,
       "margin": null,
       "max_height": null,
       "max_width": null,
       "min_height": null,
       "min_width": null,
       "object_fit": null,
       "object_position": null,
       "order": null,
       "overflow": null,
       "overflow_x": null,
       "overflow_y": null,
       "padding": null,
       "right": null,
       "top": null,
       "visibility": null,
       "width": null
      }
     },
     "bcb0fa3397db40bd9dc34553578fe3fb": {
      "model_module": "@jupyter-widgets/controls",
      "model_module_version": "1.5.0",
      "model_name": "DescriptionStyleModel",
      "state": {
       "_model_module": "@jupyter-widgets/controls",
       "_model_module_version": "1.5.0",
       "_model_name": "DescriptionStyleModel",
       "_view_count": null,
       "_view_module": "@jupyter-widgets/base",
       "_view_module_version": "1.2.0",
       "_view_name": "StyleView",
       "description_width": ""
      }
     },
     "c08066614bec4e41b5e169386e396b3b": {
      "model_module": "@jupyter-widgets/controls",
      "model_module_version": "1.5.0",
      "model_name": "HBoxModel",
      "state": {
       "_dom_classes": [],
       "_model_module": "@jupyter-widgets/controls",
       "_model_module_version": "1.5.0",
       "_model_name": "HBoxModel",
       "_view_count": null,
       "_view_module": "@jupyter-widgets/controls",
       "_view_module_version": "1.5.0",
       "_view_name": "HBoxView",
       "box_style": "",
       "children": [
        "IPY_MODEL_0aa3c9fcab97443d8d4e354f75c84396",
        "IPY_MODEL_b40c1b6103cf4ea6b4c9f6c37caf3326",
        "IPY_MODEL_5d427fd4ad164a38b0d8a54b437e3d8d"
       ],
       "layout": "IPY_MODEL_7ebca174a7e248c1adf3a08aeaac20ef"
      }
     },
     "c3fa76570848449a885ffad4467c0ae6": {
      "model_module": "@jupyter-widgets/controls",
      "model_module_version": "1.5.0",
      "model_name": "HTMLModel",
      "state": {
       "_dom_classes": [],
       "_model_module": "@jupyter-widgets/controls",
       "_model_module_version": "1.5.0",
       "_model_name": "HTMLModel",
       "_view_count": null,
       "_view_module": "@jupyter-widgets/controls",
       "_view_module_version": "1.5.0",
       "_view_name": "HTMLView",
       "description": "",
       "description_tooltip": null,
       "layout": "IPY_MODEL_dc2bdfb8fdf142e6a0371497498b5ca1",
       "placeholder": "​",
       "style": "IPY_MODEL_426de04655f1472a9ea28e000a832f2b",
       "value": "Downloading: 100%"
      }
     },
     "c8b3ce815e964d2bb73020a6b07a70a0": {
      "model_module": "@jupyter-widgets/controls",
      "model_module_version": "1.5.0",
      "model_name": "HTMLModel",
      "state": {
       "_dom_classes": [],
       "_model_module": "@jupyter-widgets/controls",
       "_model_module_version": "1.5.0",
       "_model_name": "HTMLModel",
       "_view_count": null,
       "_view_module": "@jupyter-widgets/controls",
       "_view_module_version": "1.5.0",
       "_view_name": "HTMLView",
       "description": "",
       "description_tooltip": null,
       "layout": "IPY_MODEL_3c12b041ba04400aa5b33dad4c301b9b",
       "placeholder": "​",
       "style": "IPY_MODEL_8773894834024f99b56e2524493b0393",
       "value": " 83.0/83.0 [00:00&lt;00:00, 3.37kB/s]"
      }
     },
     "d6c77ec726a64db2a0a37a45c55a6bf5": {
      "model_module": "@jupyter-widgets/base",
      "model_module_version": "1.2.0",
      "model_name": "LayoutModel",
      "state": {
       "_model_module": "@jupyter-widgets/base",
       "_model_module_version": "1.2.0",
       "_model_name": "LayoutModel",
       "_view_count": null,
       "_view_module": "@jupyter-widgets/base",
       "_view_module_version": "1.2.0",
       "_view_name": "LayoutView",
       "align_content": null,
       "align_items": null,
       "align_self": null,
       "border": null,
       "bottom": null,
       "display": null,
       "flex": null,
       "flex_flow": null,
       "grid_area": null,
       "grid_auto_columns": null,
       "grid_auto_flow": null,
       "grid_auto_rows": null,
       "grid_column": null,
       "grid_gap": null,
       "grid_row": null,
       "grid_template_areas": null,
       "grid_template_columns": null,
       "grid_template_rows": null,
       "height": null,
       "justify_content": null,
       "justify_items": null,
       "left": null,
       "margin": null,
       "max_height": null,
       "max_width": null,
       "min_height": null,
       "min_width": null,
       "object_fit": null,
       "object_position": null,
       "order": null,
       "overflow": null,
       "overflow_x": null,
       "overflow_y": null,
       "padding": null,
       "right": null,
       "top": null,
       "visibility": null,
       "width": null
      }
     },
     "dc2bdfb8fdf142e6a0371497498b5ca1": {
      "model_module": "@jupyter-widgets/base",
      "model_module_version": "1.2.0",
      "model_name": "LayoutModel",
      "state": {
       "_model_module": "@jupyter-widgets/base",
       "_model_module_version": "1.2.0",
       "_model_name": "LayoutModel",
       "_view_count": null,
       "_view_module": "@jupyter-widgets/base",
       "_view_module_version": "1.2.0",
       "_view_name": "LayoutView",
       "align_content": null,
       "align_items": null,
       "align_self": null,
       "border": null,
       "bottom": null,
       "display": null,
       "flex": null,
       "flex_flow": null,
       "grid_area": null,
       "grid_auto_columns": null,
       "grid_auto_flow": null,
       "grid_auto_rows": null,
       "grid_column": null,
       "grid_gap": null,
       "grid_row": null,
       "grid_template_areas": null,
       "grid_template_columns": null,
       "grid_template_rows": null,
       "height": null,
       "justify_content": null,
       "justify_items": null,
       "left": null,
       "margin": null,
       "max_height": null,
       "max_width": null,
       "min_height": null,
       "min_width": null,
       "object_fit": null,
       "object_position": null,
       "order": null,
       "overflow": null,
       "overflow_x": null,
       "overflow_y": null,
       "padding": null,
       "right": null,
       "top": null,
       "visibility": null,
       "width": null
      }
     },
     "dcdea10430ed4ed8b89c9787d07a0e01": {
      "model_module": "@jupyter-widgets/controls",
      "model_module_version": "1.5.0",
      "model_name": "ProgressStyleModel",
      "state": {
       "_model_module": "@jupyter-widgets/controls",
       "_model_module_version": "1.5.0",
       "_model_name": "ProgressStyleModel",
       "_view_count": null,
       "_view_module": "@jupyter-widgets/base",
       "_view_module_version": "1.2.0",
       "_view_name": "StyleView",
       "bar_color": null,
       "description_width": ""
      }
     },
     "e1187c2da4a74f78b2430794fbc4ee38": {
      "model_module": "@jupyter-widgets/controls",
      "model_module_version": "1.5.0",
      "model_name": "DescriptionStyleModel",
      "state": {
       "_model_module": "@jupyter-widgets/controls",
       "_model_module_version": "1.5.0",
       "_model_name": "DescriptionStyleModel",
       "_view_count": null,
       "_view_module": "@jupyter-widgets/base",
       "_view_module_version": "1.2.0",
       "_view_name": "StyleView",
       "description_width": ""
      }
     },
     "e7be4feaa83944f2803eb26188dc89de": {
      "model_module": "@jupyter-widgets/base",
      "model_module_version": "1.2.0",
      "model_name": "LayoutModel",
      "state": {
       "_model_module": "@jupyter-widgets/base",
       "_model_module_version": "1.2.0",
       "_model_name": "LayoutModel",
       "_view_count": null,
       "_view_module": "@jupyter-widgets/base",
       "_view_module_version": "1.2.0",
       "_view_name": "LayoutView",
       "align_content": null,
       "align_items": null,
       "align_self": null,
       "border": null,
       "bottom": null,
       "display": null,
       "flex": null,
       "flex_flow": null,
       "grid_area": null,
       "grid_auto_columns": null,
       "grid_auto_flow": null,
       "grid_auto_rows": null,
       "grid_column": null,
       "grid_gap": null,
       "grid_row": null,
       "grid_template_areas": null,
       "grid_template_columns": null,
       "grid_template_rows": null,
       "height": null,
       "justify_content": null,
       "justify_items": null,
       "left": null,
       "margin": null,
       "max_height": null,
       "max_width": null,
       "min_height": null,
       "min_width": null,
       "object_fit": null,
       "object_position": null,
       "order": null,
       "overflow": null,
       "overflow_x": null,
       "overflow_y": null,
       "padding": null,
       "right": null,
       "top": null,
       "visibility": null,
       "width": null
      }
     },
     "f3e4bf29d10f42aab8825b579f8d05c7": {
      "model_module": "@jupyter-widgets/controls",
      "model_module_version": "1.5.0",
      "model_name": "ProgressStyleModel",
      "state": {
       "_model_module": "@jupyter-widgets/controls",
       "_model_module_version": "1.5.0",
       "_model_name": "ProgressStyleModel",
       "_view_count": null,
       "_view_module": "@jupyter-widgets/base",
       "_view_module_version": "1.2.0",
       "_view_name": "StyleView",
       "bar_color": null,
       "description_width": ""
      }
     },
     "f674a3eab4544a4fa0e5f7aa8b60909c": {
      "model_module": "@jupyter-widgets/base",
      "model_module_version": "1.2.0",
      "model_name": "LayoutModel",
      "state": {
       "_model_module": "@jupyter-widgets/base",
       "_model_module_version": "1.2.0",
       "_model_name": "LayoutModel",
       "_view_count": null,
       "_view_module": "@jupyter-widgets/base",
       "_view_module_version": "1.2.0",
       "_view_name": "LayoutView",
       "align_content": null,
       "align_items": null,
       "align_self": null,
       "border": null,
       "bottom": null,
       "display": null,
       "flex": null,
       "flex_flow": null,
       "grid_area": null,
       "grid_auto_columns": null,
       "grid_auto_flow": null,
       "grid_auto_rows": null,
       "grid_column": null,
       "grid_gap": null,
       "grid_row": null,
       "grid_template_areas": null,
       "grid_template_columns": null,
       "grid_template_rows": null,
       "height": null,
       "justify_content": null,
       "justify_items": null,
       "left": null,
       "margin": null,
       "max_height": null,
       "max_width": null,
       "min_height": null,
       "min_width": null,
       "object_fit": null,
       "object_position": null,
       "order": null,
       "overflow": null,
       "overflow_x": null,
       "overflow_y": null,
       "padding": null,
       "right": null,
       "top": null,
       "visibility": null,
       "width": null
      }
     },
     "f6edc3942e69441a87b4a9d7473f745c": {
      "model_module": "@jupyter-widgets/base",
      "model_module_version": "1.2.0",
      "model_name": "LayoutModel",
      "state": {
       "_model_module": "@jupyter-widgets/base",
       "_model_module_version": "1.2.0",
       "_model_name": "LayoutModel",
       "_view_count": null,
       "_view_module": "@jupyter-widgets/base",
       "_view_module_version": "1.2.0",
       "_view_name": "LayoutView",
       "align_content": null,
       "align_items": null,
       "align_self": null,
       "border": null,
       "bottom": null,
       "display": null,
       "flex": null,
       "flex_flow": null,
       "grid_area": null,
       "grid_auto_columns": null,
       "grid_auto_flow": null,
       "grid_auto_rows": null,
       "grid_column": null,
       "grid_gap": null,
       "grid_row": null,
       "grid_template_areas": null,
       "grid_template_columns": null,
       "grid_template_rows": null,
       "height": null,
       "justify_content": null,
       "justify_items": null,
       "left": null,
       "margin": null,
       "max_height": null,
       "max_width": null,
       "min_height": null,
       "min_width": null,
       "object_fit": null,
       "object_position": null,
       "order": null,
       "overflow": null,
       "overflow_x": null,
       "overflow_y": null,
       "padding": null,
       "right": null,
       "top": null,
       "visibility": null,
       "width": null
      }
     },
     "f931f8e7719c453aa8753b256258130f": {
      "model_module": "@jupyter-widgets/controls",
      "model_module_version": "1.5.0",
      "model_name": "HTMLModel",
      "state": {
       "_dom_classes": [],
       "_model_module": "@jupyter-widgets/controls",
       "_model_module_version": "1.5.0",
       "_model_name": "HTMLModel",
       "_view_count": null,
       "_view_module": "@jupyter-widgets/controls",
       "_view_module_version": "1.5.0",
       "_view_name": "HTMLView",
       "description": "",
       "description_tooltip": null,
       "layout": "IPY_MODEL_f6edc3942e69441a87b4a9d7473f745c",
       "placeholder": "​",
       "style": "IPY_MODEL_1f98dfae9be34e26b4de9e845dbd06f9",
       "value": " 227k/227k [00:00&lt;00:00, 309kB/s]"
      }
     },
     "fbf80c80afc843ba91b761f4620fd7a1": {
      "model_module": "@jupyter-widgets/base",
      "model_module_version": "1.2.0",
      "model_name": "LayoutModel",
      "state": {
       "_model_module": "@jupyter-widgets/base",
       "_model_module_version": "1.2.0",
       "_model_name": "LayoutModel",
       "_view_count": null,
       "_view_module": "@jupyter-widgets/base",
       "_view_module_version": "1.2.0",
       "_view_name": "LayoutView",
       "align_content": null,
       "align_items": null,
       "align_self": null,
       "border": null,
       "bottom": null,
       "display": null,
       "flex": null,
       "flex_flow": null,
       "grid_area": null,
       "grid_auto_columns": null,
       "grid_auto_flow": null,
       "grid_auto_rows": null,
       "grid_column": null,
       "grid_gap": null,
       "grid_row": null,
       "grid_template_areas": null,
       "grid_template_columns": null,
       "grid_template_rows": null,
       "height": null,
       "justify_content": null,
       "justify_items": null,
       "left": null,
       "margin": null,
       "max_height": null,
       "max_width": null,
       "min_height": null,
       "min_width": null,
       "object_fit": null,
       "object_position": null,
       "order": null,
       "overflow": null,
       "overflow_x": null,
       "overflow_y": null,
       "padding": null,
       "right": null,
       "top": null,
       "visibility": null,
       "width": null
      }
     }
    },
    "version_major": 2,
    "version_minor": 0
   }
  }
 },
 "nbformat": 4,
 "nbformat_minor": 5
}
