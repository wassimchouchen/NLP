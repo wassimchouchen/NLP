{
 "cells": [
  {
   "cell_type": "code",
   "execution_count": 1,
   "id": "8419a5e3",
   "metadata": {
    "_cell_guid": "b1076dfc-b9ad-4769-8c92-a6c4dae69d19",
    "_uuid": "8f2839f25d086af736a60e9eeb907d3b93b6e0e5",
    "execution": {
     "iopub.execute_input": "2022-07-05T09:34:38.526079Z",
     "iopub.status.busy": "2022-07-05T09:34:38.524468Z",
     "iopub.status.idle": "2022-07-05T09:34:46.367871Z",
     "shell.execute_reply": "2022-07-05T09:34:46.366805Z",
     "shell.execute_reply.started": "2022-07-05T09:31:29.035620Z"
    },
    "papermill": {
     "duration": 7.891609,
     "end_time": "2022-07-05T09:34:46.368060",
     "exception": false,
     "start_time": "2022-07-05T09:34:38.476451",
     "status": "completed"
    },
    "tags": []
   },
   "outputs": [],
   "source": [
    "import os\n",
    "\n",
    "import random\n",
    "import numpy as np\n",
    "\n",
    "import pandas as pd\n",
    "import torch\n",
    "from torch.utils.data import Dataset, random_split\n",
    "from transformers import (\n",
    "    AdamW,\n",
    "    Trainer,\n",
    "    TrainingArguments,\n",
    "    AutoTokenizer,\n",
    "    AutoModelForSequenceClassification,\n",
    "    get_cosine_schedule_with_warmup,\n",
    ")\n",
    "from sklearn.preprocessing import LabelEncoder\n",
    "from sklearn.metrics import accuracy_score\n",
    "import warnings\n",
    "warnings.filterwarnings('ignore')"
   ]
  },
  {
   "cell_type": "code",
   "execution_count": 2,
   "id": "36dc3051",
   "metadata": {
    "execution": {
     "iopub.execute_input": "2022-07-05T09:34:46.454825Z",
     "iopub.status.busy": "2022-07-05T09:34:46.454246Z",
     "iopub.status.idle": "2022-07-05T09:34:46.472597Z",
     "shell.execute_reply": "2022-07-05T09:34:46.471648Z",
     "shell.execute_reply.started": "2022-07-05T09:31:36.657420Z"
    },
    "papermill": {
     "duration": 0.062541,
     "end_time": "2022-07-05T09:34:46.472712",
     "exception": false,
     "start_time": "2022-07-05T09:34:46.410171",
     "status": "completed"
    },
    "tags": []
   },
   "outputs": [],
   "source": [
    "new_data=pd.read_csv(\"../input/csvvvv/Classeur 1 (5).csv\")"
   ]
  },
  {
   "cell_type": "code",
   "execution_count": 3,
   "id": "d337a916",
   "metadata": {
    "execution": {
     "iopub.execute_input": "2022-07-05T09:34:46.565052Z",
     "iopub.status.busy": "2022-07-05T09:34:46.564234Z",
     "iopub.status.idle": "2022-07-05T09:34:46.566252Z",
     "shell.execute_reply": "2022-07-05T09:34:46.566645Z",
     "shell.execute_reply.started": "2022-07-05T09:31:36.677626Z"
    },
    "papermill": {
     "duration": 0.053293,
     "end_time": "2022-07-05T09:34:46.566796",
     "exception": false,
     "start_time": "2022-07-05T09:34:46.513503",
     "status": "completed"
    },
    "tags": []
   },
   "outputs": [],
   "source": [
    "new_data.drop([\"Y\",\"Word Count\",\"Language\",' '], axis=1, inplace=True)\n",
    "new_data.columns = [\"text\", \"CEFR Review\",\"CEFR Level_Samar\"]"
   ]
  },
  {
   "cell_type": "code",
   "execution_count": 4,
   "id": "0ce3dc4d",
   "metadata": {
    "execution": {
     "iopub.execute_input": "2022-07-05T09:34:46.656134Z",
     "iopub.status.busy": "2022-07-05T09:34:46.655470Z",
     "iopub.status.idle": "2022-07-05T09:34:46.658826Z",
     "shell.execute_reply": "2022-07-05T09:34:46.659321Z",
     "shell.execute_reply.started": "2022-07-05T09:31:36.690855Z"
    },
    "papermill": {
     "duration": 0.050956,
     "end_time": "2022-07-05T09:34:46.659463",
     "exception": false,
     "start_time": "2022-07-05T09:34:46.608507",
     "status": "completed"
    },
    "tags": []
   },
   "outputs": [
    {
     "data": {
      "text/plain": [
       "(191, 3)"
      ]
     },
     "execution_count": 4,
     "metadata": {},
     "output_type": "execute_result"
    }
   ],
   "source": [
    "new_data.shape"
   ]
  },
  {
   "cell_type": "code",
   "execution_count": 5,
   "id": "dcef1974",
   "metadata": {
    "execution": {
     "iopub.execute_input": "2022-07-05T09:34:46.745533Z",
     "iopub.status.busy": "2022-07-05T09:34:46.744953Z",
     "iopub.status.idle": "2022-07-05T09:34:46.754625Z",
     "shell.execute_reply": "2022-07-05T09:34:46.754202Z",
     "shell.execute_reply.started": "2022-07-05T09:31:36.702501Z"
    },
    "papermill": {
     "duration": 0.054656,
     "end_time": "2022-07-05T09:34:46.754736",
     "exception": false,
     "start_time": "2022-07-05T09:34:46.700080",
     "status": "completed"
    },
    "tags": []
   },
   "outputs": [
    {
     "data": {
      "text/html": [
       "<div>\n",
       "<style scoped>\n",
       "    .dataframe tbody tr th:only-of-type {\n",
       "        vertical-align: middle;\n",
       "    }\n",
       "\n",
       "    .dataframe tbody tr th {\n",
       "        vertical-align: top;\n",
       "    }\n",
       "\n",
       "    .dataframe thead th {\n",
       "        text-align: right;\n",
       "    }\n",
       "</style>\n",
       "<table border=\"1\" class=\"dataframe\">\n",
       "  <thead>\n",
       "    <tr style=\"text-align: right;\">\n",
       "      <th></th>\n",
       "      <th>text</th>\n",
       "      <th>CEFR Review</th>\n",
       "      <th>CEFR Level_Samar</th>\n",
       "    </tr>\n",
       "  </thead>\n",
       "  <tbody>\n",
       "    <tr>\n",
       "      <th>0</th>\n",
       "      <td>En 1815, M. Charles-François-Bienvenu Myriel é...</td>\n",
       "      <td>A2</td>\n",
       "      <td>C1</td>\n",
       "    </tr>\n",
       "    <tr>\n",
       "      <th>1</th>\n",
       "      <td>Quoique ce détail ne touche en aucune manière ...</td>\n",
       "      <td>C1</td>\n",
       "      <td>C2</td>\n",
       "    </tr>\n",
       "  </tbody>\n",
       "</table>\n",
       "</div>"
      ],
      "text/plain": [
       "                                                text CEFR Review  \\\n",
       "0  En 1815, M. Charles-François-Bienvenu Myriel é...          A2   \n",
       "1  Quoique ce détail ne touche en aucune manière ...          C1   \n",
       "\n",
       "  CEFR Level_Samar  \n",
       "0               C1  \n",
       "1               C2  "
      ]
     },
     "execution_count": 5,
     "metadata": {},
     "output_type": "execute_result"
    }
   ],
   "source": [
    "new_data.head(2)"
   ]
  },
  {
   "cell_type": "code",
   "execution_count": 6,
   "id": "5c33691c",
   "metadata": {
    "execution": {
     "iopub.execute_input": "2022-07-05T09:34:46.898088Z",
     "iopub.status.busy": "2022-07-05T09:34:46.896834Z",
     "iopub.status.idle": "2022-07-05T09:34:46.908761Z",
     "shell.execute_reply": "2022-07-05T09:34:46.908326Z",
     "shell.execute_reply.started": "2022-07-05T09:31:36.718745Z"
    },
    "papermill": {
     "duration": 0.112312,
     "end_time": "2022-07-05T09:34:46.908879",
     "exception": false,
     "start_time": "2022-07-05T09:34:46.796567",
     "status": "completed"
    },
    "tags": []
   },
   "outputs": [
    {
     "data": {
      "text/html": [
       "<div>\n",
       "<style scoped>\n",
       "    .dataframe tbody tr th:only-of-type {\n",
       "        vertical-align: middle;\n",
       "    }\n",
       "\n",
       "    .dataframe tbody tr th {\n",
       "        vertical-align: top;\n",
       "    }\n",
       "\n",
       "    .dataframe thead th {\n",
       "        text-align: right;\n",
       "    }\n",
       "</style>\n",
       "<table border=\"1\" class=\"dataframe\">\n",
       "  <thead>\n",
       "    <tr style=\"text-align: right;\">\n",
       "      <th></th>\n",
       "      <th>text</th>\n",
       "      <th>label</th>\n",
       "    </tr>\n",
       "  </thead>\n",
       "  <tbody>\n",
       "    <tr>\n",
       "      <th>0</th>\n",
       "      <td>En 1815, M. Charles-François-Bienvenu Myriel é...</td>\n",
       "      <td>C1</td>\n",
       "    </tr>\n",
       "    <tr>\n",
       "      <th>1</th>\n",
       "      <td>Quoique ce détail ne touche en aucune manière ...</td>\n",
       "      <td>C2</td>\n",
       "    </tr>\n",
       "    <tr>\n",
       "      <th>2</th>\n",
       "      <td>En 1804, M. Myriel était curé de Brignolles. I...</td>\n",
       "      <td>C1</td>\n",
       "    </tr>\n",
       "    <tr>\n",
       "      <th>3</th>\n",
       "      <td>Vers l'époque du couronnement, une petite affa...</td>\n",
       "      <td>C2</td>\n",
       "    </tr>\n",
       "    <tr>\n",
       "      <th>4</th>\n",
       "      <td>—Quel est ce bonhomme qui me regarde?</td>\n",
       "      <td>C1</td>\n",
       "    </tr>\n",
       "  </tbody>\n",
       "</table>\n",
       "</div>"
      ],
      "text/plain": [
       "                                                text label\n",
       "0  En 1815, M. Charles-François-Bienvenu Myriel é...    C1\n",
       "1  Quoique ce détail ne touche en aucune manière ...    C2\n",
       "2  En 1804, M. Myriel était curé de Brignolles. I...    C1\n",
       "3  Vers l'époque du couronnement, une petite affa...    C2\n",
       "4              —Quel est ce bonhomme qui me regarde?    C1"
      ]
     },
     "execution_count": 6,
     "metadata": {},
     "output_type": "execute_result"
    }
   ],
   "source": [
    "mike_20_june_samar=new_data[pd.notnull(new_data['CEFR Level_Samar'])]\n",
    "mike_20_june_samar.columns = [\"text\", \"CEFR Review\",\"label\"]\n",
    "mike_20_june_samar.drop([\"CEFR Review\"],axis=1, inplace=True)\n",
    "mike_20_june_samar.to_csv(\"mike_20_june_samar.csv\" , index=False)\n",
    "mike_20_june_samar.head()"
   ]
  },
  {
   "cell_type": "code",
   "execution_count": 7,
   "id": "f1f7bb22",
   "metadata": {
    "execution": {
     "iopub.execute_input": "2022-07-05T09:34:47.000047Z",
     "iopub.status.busy": "2022-07-05T09:34:46.999261Z",
     "iopub.status.idle": "2022-07-05T09:34:47.010463Z",
     "shell.execute_reply": "2022-07-05T09:34:47.010001Z",
     "shell.execute_reply.started": "2022-07-05T09:31:36.737680Z"
    },
    "papermill": {
     "duration": 0.059495,
     "end_time": "2022-07-05T09:34:47.010577",
     "exception": false,
     "start_time": "2022-07-05T09:34:46.951082",
     "status": "completed"
    },
    "tags": []
   },
   "outputs": [
    {
     "data": {
      "text/html": [
       "<div>\n",
       "<style scoped>\n",
       "    .dataframe tbody tr th:only-of-type {\n",
       "        vertical-align: middle;\n",
       "    }\n",
       "\n",
       "    .dataframe tbody tr th {\n",
       "        vertical-align: top;\n",
       "    }\n",
       "\n",
       "    .dataframe thead th {\n",
       "        text-align: right;\n",
       "    }\n",
       "</style>\n",
       "<table border=\"1\" class=\"dataframe\">\n",
       "  <thead>\n",
       "    <tr style=\"text-align: right;\">\n",
       "      <th></th>\n",
       "      <th>text</th>\n",
       "      <th>label</th>\n",
       "    </tr>\n",
       "  </thead>\n",
       "  <tbody>\n",
       "    <tr>\n",
       "      <th>0</th>\n",
       "      <td>En 1815, M. Charles-François-Bienvenu Myriel é...</td>\n",
       "      <td>A2</td>\n",
       "    </tr>\n",
       "    <tr>\n",
       "      <th>1</th>\n",
       "      <td>Quoique ce détail ne touche en aucune manière ...</td>\n",
       "      <td>C1</td>\n",
       "    </tr>\n",
       "    <tr>\n",
       "      <th>2</th>\n",
       "      <td>En 1804, M. Myriel était curé de Brignolles. I...</td>\n",
       "      <td>A2</td>\n",
       "    </tr>\n",
       "    <tr>\n",
       "      <th>3</th>\n",
       "      <td>Vers l'époque du couronnement, une petite affa...</td>\n",
       "      <td>B2</td>\n",
       "    </tr>\n",
       "    <tr>\n",
       "      <th>4</th>\n",
       "      <td>—Quel est ce bonhomme qui me regarde?</td>\n",
       "      <td>A2</td>\n",
       "    </tr>\n",
       "  </tbody>\n",
       "</table>\n",
       "</div>"
      ],
      "text/plain": [
       "                                                text label\n",
       "0  En 1815, M. Charles-François-Bienvenu Myriel é...    A2\n",
       "1  Quoique ce détail ne touche en aucune manière ...    C1\n",
       "2  En 1804, M. Myriel était curé de Brignolles. I...    A2\n",
       "3  Vers l'époque du couronnement, une petite affa...    B2\n",
       "4              —Quel est ce bonhomme qui me regarde?    A2"
      ]
     },
     "execution_count": 7,
     "metadata": {},
     "output_type": "execute_result"
    }
   ],
   "source": [
    "mike_20_june_new=new_data[pd.notnull(new_data['CEFR Review'])]\n",
    "mike_20_june_new.columns = [\"text\", \"label\",\"CEFR Level_Samar\"]\n",
    "mike_20_june_new.drop([\"CEFR Level_Samar\"],axis=1, inplace=True)\n",
    "mike_20_june_new.to_csv(\"mike_20_june_new.csv\" , index=False)\n",
    "mike_20_june_new.head() "
   ]
  },
  {
   "cell_type": "markdown",
   "id": "d6a6a783",
   "metadata": {
    "papermill": {
     "duration": 0.042038,
     "end_time": "2022-07-05T09:34:47.095163",
     "exception": false,
     "start_time": "2022-07-05T09:34:47.053125",
     "status": "completed"
    },
    "tags": []
   },
   "source": [
    "**!!!! samar annotation seems to be weird because there is just C1 and C2**"
   ]
  },
  {
   "cell_type": "code",
   "execution_count": 8,
   "id": "3b84559a",
   "metadata": {
    "execution": {
     "iopub.execute_input": "2022-07-05T09:34:47.185907Z",
     "iopub.status.busy": "2022-07-05T09:34:47.185175Z",
     "iopub.status.idle": "2022-07-05T09:34:47.187938Z",
     "shell.execute_reply": "2022-07-05T09:34:47.188378Z",
     "shell.execute_reply.started": "2022-07-05T09:31:36.756140Z"
    },
    "papermill": {
     "duration": 0.050795,
     "end_time": "2022-07-05T09:34:47.188505",
     "exception": false,
     "start_time": "2022-07-05T09:34:47.137710",
     "status": "completed"
    },
    "tags": []
   },
   "outputs": [
    {
     "data": {
      "text/plain": [
       "(array(['C1', 'C2'], dtype=object),\n",
       " array(['A2', 'C1', 'B2', 'A1', 'B1', 'C2'], dtype=object))"
      ]
     },
     "execution_count": 8,
     "metadata": {},
     "output_type": "execute_result"
    }
   ],
   "source": [
    "mike_20_june_samar[\"label\"].unique(), mike_20_june_new[\"label\"].unique()"
   ]
  },
  {
   "cell_type": "code",
   "execution_count": 9,
   "id": "c89a3441",
   "metadata": {
    "execution": {
     "iopub.execute_input": "2022-07-05T09:34:47.281510Z",
     "iopub.status.busy": "2022-07-05T09:34:47.280816Z",
     "iopub.status.idle": "2022-07-05T09:34:47.283362Z",
     "shell.execute_reply": "2022-07-05T09:34:47.283856Z",
     "shell.execute_reply.started": "2022-07-05T09:31:36.764580Z"
    },
    "papermill": {
     "duration": 0.052499,
     "end_time": "2022-07-05T09:34:47.283981",
     "exception": false,
     "start_time": "2022-07-05T09:34:47.231482",
     "status": "completed"
    },
    "tags": []
   },
   "outputs": [
    {
     "data": {
      "text/plain": [
       "C1    58\n",
       "A1    41\n",
       "B2    33\n",
       "B1    29\n",
       "A2    24\n",
       "C2     6\n",
       "Name: label, dtype: int64"
      ]
     },
     "execution_count": 9,
     "metadata": {},
     "output_type": "execute_result"
    }
   ],
   "source": [
    "mike_20_june_new.label.value_counts()"
   ]
  },
  {
   "cell_type": "code",
   "execution_count": 10,
   "id": "fb5d079b",
   "metadata": {
    "execution": {
     "iopub.execute_input": "2022-07-05T09:34:47.374743Z",
     "iopub.status.busy": "2022-07-05T09:34:47.374127Z",
     "iopub.status.idle": "2022-07-05T09:34:47.376744Z",
     "shell.execute_reply": "2022-07-05T09:34:47.377169Z",
     "shell.execute_reply.started": "2022-07-05T09:31:36.778905Z"
    },
    "papermill": {
     "duration": 0.050417,
     "end_time": "2022-07-05T09:34:47.377293",
     "exception": false,
     "start_time": "2022-07-05T09:34:47.326876",
     "status": "completed"
    },
    "tags": []
   },
   "outputs": [
    {
     "data": {
      "text/plain": [
       "((141, 2), (191, 2))"
      ]
     },
     "execution_count": 10,
     "metadata": {},
     "output_type": "execute_result"
    }
   ],
   "source": [
    "mike_20_june_samar.shape,mike_20_june_new.shape"
   ]
  },
  {
   "cell_type": "code",
   "execution_count": 11,
   "id": "ace49ea0",
   "metadata": {
    "execution": {
     "iopub.execute_input": "2022-07-05T09:34:47.467026Z",
     "iopub.status.busy": "2022-07-05T09:34:47.466511Z",
     "iopub.status.idle": "2022-07-05T09:34:47.484193Z",
     "shell.execute_reply": "2022-07-05T09:34:47.483753Z",
     "shell.execute_reply.started": "2022-07-05T09:31:36.786073Z"
    },
    "papermill": {
     "duration": 0.064473,
     "end_time": "2022-07-05T09:34:47.484307",
     "exception": false,
     "start_time": "2022-07-05T09:34:47.419834",
     "status": "completed"
    },
    "tags": []
   },
   "outputs": [
    {
     "data": {
      "text/plain": [
       "(315, 4)"
      ]
     },
     "execution_count": 11,
     "metadata": {},
     "output_type": "execute_result"
    }
   ],
   "source": [
    "trainn=pd.read_csv(\"../input/frenchcefr/french dataset.csv\")\n",
    "trainn.shape"
   ]
  },
  {
   "cell_type": "code",
   "execution_count": null,
   "id": "b8266cb7",
   "metadata": {
    "papermill": {
     "duration": 0.042789,
     "end_time": "2022-07-05T09:34:47.570555",
     "exception": false,
     "start_time": "2022-07-05T09:34:47.527766",
     "status": "completed"
    },
    "tags": []
   },
   "outputs": [],
   "source": []
  },
  {
   "cell_type": "code",
   "execution_count": null,
   "id": "a931cb84",
   "metadata": {
    "papermill": {
     "duration": 0.04278,
     "end_time": "2022-07-05T09:34:47.657365",
     "exception": false,
     "start_time": "2022-07-05T09:34:47.614585",
     "status": "completed"
    },
    "tags": []
   },
   "outputs": [],
   "source": []
  },
  {
   "cell_type": "code",
   "execution_count": null,
   "id": "0598389c",
   "metadata": {
    "papermill": {
     "duration": 0.042976,
     "end_time": "2022-07-05T09:34:47.744419",
     "exception": false,
     "start_time": "2022-07-05T09:34:47.701443",
     "status": "completed"
    },
    "tags": []
   },
   "outputs": [],
   "source": []
  },
  {
   "cell_type": "markdown",
   "id": "df744ccd",
   "metadata": {
    "papermill": {
     "duration": 0.043604,
     "end_time": "2022-07-05T09:34:47.831246",
     "exception": false,
     "start_time": "2022-07-05T09:34:47.787642",
     "status": "completed"
    },
    "tags": []
   },
   "source": [
    "****"
   ]
  },
  {
   "cell_type": "code",
   "execution_count": 12,
   "id": "3fa696f0",
   "metadata": {
    "execution": {
     "iopub.execute_input": "2022-07-05T09:34:47.922423Z",
     "iopub.status.busy": "2022-07-05T09:34:47.921668Z",
     "iopub.status.idle": "2022-07-05T09:34:57.221836Z",
     "shell.execute_reply": "2022-07-05T09:34:57.220995Z",
     "shell.execute_reply.started": "2022-07-05T09:31:36.806219Z"
    },
    "papermill": {
     "duration": 9.347642,
     "end_time": "2022-07-05T09:34:57.221980",
     "exception": false,
     "start_time": "2022-07-05T09:34:47.874338",
     "status": "completed"
    },
    "tags": []
   },
   "outputs": [
    {
     "data": {
      "application/vnd.jupyter.widget-view+json": {
       "model_id": "0e5c3ca556fb4600b20182d5b88549f4",
       "version_major": 2,
       "version_minor": 0
      },
      "text/plain": [
       "Downloading:   0%|          | 0.00/420 [00:00<?, ?B/s]"
      ]
     },
     "metadata": {},
     "output_type": "display_data"
    },
    {
     "data": {
      "application/vnd.jupyter.widget-view+json": {
       "model_id": "31c76086c0484f5fbd3440ef19286c0e",
       "version_major": 2,
       "version_minor": 0
      },
      "text/plain": [
       "Downloading:   0%|          | 0.00/227k [00:00<?, ?B/s]"
      ]
     },
     "metadata": {},
     "output_type": "display_data"
    },
    {
     "data": {
      "application/vnd.jupyter.widget-view+json": {
       "model_id": "4590b0696be84e0f9f0972173e7fcc1a",
       "version_major": 2,
       "version_minor": 0
      },
      "text/plain": [
       "Downloading:   0%|          | 0.00/83.0 [00:00<?, ?B/s]"
      ]
     },
     "metadata": {},
     "output_type": "display_data"
    }
   ],
   "source": [
    "model_name = \"dbmdz/bert-base-french-europeana-cased\"\n",
    "\n",
    "tokenizer = AutoTokenizer.from_pretrained(model_name)\n",
    "\n",
    "device = torch.device(\"cuda\" if torch.cuda.is_available() else \"cpu\")"
   ]
  },
  {
   "cell_type": "code",
   "execution_count": 13,
   "id": "f106157d",
   "metadata": {
    "execution": {
     "iopub.execute_input": "2022-07-05T09:34:57.316062Z",
     "iopub.status.busy": "2022-07-05T09:34:57.315302Z",
     "iopub.status.idle": "2022-07-05T09:34:57.317806Z",
     "shell.execute_reply": "2022-07-05T09:34:57.317340Z",
     "shell.execute_reply.started": "2022-07-05T09:31:41.481544Z"
    },
    "papermill": {
     "duration": 0.050835,
     "end_time": "2022-07-05T09:34:57.317936",
     "exception": false,
     "start_time": "2022-07-05T09:34:57.267101",
     "status": "completed"
    },
    "tags": []
   },
   "outputs": [],
   "source": [
    "lr = 2e-5\n",
    "epochs =  6\n",
    "batch_size = 5\n",
    "max_seq_len = 75\n",
    "\n",
    "test_frac = 0.1"
   ]
  },
  {
   "cell_type": "code",
   "execution_count": 14,
   "id": "1c75e8db",
   "metadata": {
    "execution": {
     "iopub.execute_input": "2022-07-05T09:34:57.411960Z",
     "iopub.status.busy": "2022-07-05T09:34:57.411311Z",
     "iopub.status.idle": "2022-07-05T09:34:57.416596Z",
     "shell.execute_reply": "2022-07-05T09:34:57.416063Z",
     "shell.execute_reply.started": "2022-07-05T09:31:41.487905Z"
    },
    "papermill": {
     "duration": 0.054727,
     "end_time": "2022-07-05T09:34:57.416713",
     "exception": false,
     "start_time": "2022-07-05T09:34:57.361986",
     "status": "completed"
    },
    "tags": []
   },
   "outputs": [],
   "source": [
    "import os\n",
    "\n",
    "def set_seed(seed=106052):\n",
    "    \"\"\"Set seed for reproducibility.\n",
    "    \"\"\"\n",
    "    random.seed(seed)\n",
    "    np.random.seed(seed)\n",
    "    torch.manual_seed(seed)\n",
    "    torch.cuda.manual_seed_all(seed)\n",
    "    \n",
    "    os.environ['PYTHONHASHSEED'] = str(seed)\n",
    "    \n",
    "set_seed()"
   ]
  },
  {
   "cell_type": "code",
   "execution_count": 15,
   "id": "8064cd13",
   "metadata": {
    "execution": {
     "iopub.execute_input": "2022-07-05T09:34:57.508533Z",
     "iopub.status.busy": "2022-07-05T09:34:57.507709Z",
     "iopub.status.idle": "2022-07-05T09:34:57.515422Z",
     "shell.execute_reply": "2022-07-05T09:34:57.515800Z",
     "shell.execute_reply.started": "2022-07-05T09:31:41.503009Z"
    },
    "papermill": {
     "duration": 0.054843,
     "end_time": "2022-07-05T09:34:57.515925",
     "exception": false,
     "start_time": "2022-07-05T09:34:57.461082",
     "status": "completed"
    },
    "tags": []
   },
   "outputs": [],
   "source": [
    "class CEFRDataset(Dataset):\n",
    "    \"\"\"Classification dataset, built on top of pytorch dataset object\n",
    "    \"\"\"\n",
    "    \n",
    "    def __init__(self, texts, labels):\n",
    "        \n",
    "        self.encoder = LabelEncoder()\n",
    "        print(self.encoder.__dict__)\n",
    "        self.texts = texts\n",
    "        self.labels = self.encoder.fit_transform(labels)\n",
    "\n",
    "    def __len__(self):\n",
    "        return len(self.texts)\n",
    "\n",
    "    def __getitem__(self, index):\n",
    "        text = self.texts[index]\n",
    "        label = self.labels[index]\n",
    "        encoded_text = tokenizer(\n",
    "            text,\n",
    "            padding=\"max_length\",\n",
    "            max_length=max_seq_len,\n",
    "            truncation=True,\n",
    "            return_tensors=\"pt\",\n",
    "        )\n",
    "        encoded_text[\"input_ids\"] = encoded_text[\"input_ids\"].squeeze()\n",
    "        encoded_text[\"attention_mask\"] = encoded_text[\"attention_mask\"].squeeze()\n",
    "        label = torch.tensor(label)\n",
    "\n",
    "        return {\n",
    "            \"input_ids\": encoded_text[\"input_ids\"],\n",
    "            \"attention_mask\": encoded_text[\"attention_mask\"],\n",
    "            \"labels\": label,\n",
    "        }\n",
    "\n",
    "    def get_labels(self):\n",
    "        return self.labels"
   ]
  },
  {
   "cell_type": "code",
   "execution_count": 16,
   "id": "7ebb1269",
   "metadata": {
    "execution": {
     "iopub.execute_input": "2022-07-05T09:34:57.610578Z",
     "iopub.status.busy": "2022-07-05T09:34:57.609830Z",
     "iopub.status.idle": "2022-07-05T09:34:57.611809Z",
     "shell.execute_reply": "2022-07-05T09:34:57.612299Z",
     "shell.execute_reply.started": "2022-07-05T09:31:41.515405Z"
    },
    "papermill": {
     "duration": 0.052852,
     "end_time": "2022-07-05T09:34:57.612426",
     "exception": false,
     "start_time": "2022-07-05T09:34:57.559574",
     "status": "completed"
    },
    "tags": []
   },
   "outputs": [],
   "source": [
    "def train(train_set, valid_set, epochs=10, warmup_size=0.1, lr=1e-3, batch_size=16):\n",
    "    model = get_model(model_name)\n",
    "    optim = AdamW(model.parameters(), lr=lr)\n",
    "    scheduler = get_scheduler(\n",
    "        optim, warmup_size, round(len(train_set) / batch_size * epochs)\n",
    "    )\n",
    "    training_args = get_training_args(epochs, batch_size)\n",
    "    trainer = Trainer(\n",
    "        model=model,\n",
    "        args=training_args,\n",
    "        train_dataset=train_set,\n",
    "        eval_dataset=valid_set,\n",
    "        optimizers=[optim, scheduler],\n",
    "        compute_metrics=compute_accuracy,\n",
    "    )\n",
    "    trainer.train()\n",
    "    trainer.save_model()\n",
    "    return trainer"
   ]
  },
  {
   "cell_type": "code",
   "execution_count": 17,
   "id": "8de926e6",
   "metadata": {
    "execution": {
     "iopub.execute_input": "2022-07-05T09:34:57.705374Z",
     "iopub.status.busy": "2022-07-05T09:34:57.704691Z",
     "iopub.status.idle": "2022-07-05T09:34:57.707399Z",
     "shell.execute_reply": "2022-07-05T09:34:57.706922Z",
     "shell.execute_reply.started": "2022-07-05T09:31:41.527907Z"
    },
    "papermill": {
     "duration": 0.051215,
     "end_time": "2022-07-05T09:34:57.707511",
     "exception": false,
     "start_time": "2022-07-05T09:34:57.656296",
     "status": "completed"
    },
    "tags": []
   },
   "outputs": [],
   "source": [
    "def get_model(pretrained_checkpoint):\n",
    "    model = AutoModelForSequenceClassification.from_pretrained(\n",
    "        pretrained_checkpoint, num_labels=6\n",
    "    )\n",
    "    return model.to(device)"
   ]
  },
  {
   "cell_type": "code",
   "execution_count": 18,
   "id": "b79c4cb8",
   "metadata": {
    "execution": {
     "iopub.execute_input": "2022-07-05T09:34:57.803626Z",
     "iopub.status.busy": "2022-07-05T09:34:57.802813Z",
     "iopub.status.idle": "2022-07-05T09:34:57.805252Z",
     "shell.execute_reply": "2022-07-05T09:34:57.804799Z",
     "shell.execute_reply.started": "2022-07-05T09:31:41.536547Z"
    },
    "papermill": {
     "duration": 0.053741,
     "end_time": "2022-07-05T09:34:57.805371",
     "exception": false,
     "start_time": "2022-07-05T09:34:57.751630",
     "status": "completed"
    },
    "tags": []
   },
   "outputs": [],
   "source": [
    "os.environ[\"WANDB_DISABLED\"] = \"true\"\n",
    "\n",
    "\n",
    "def get_scheduler(optimizer, warmup_size, total_steps):\n",
    "    scheduler = get_cosine_schedule_with_warmup(\n",
    "        optimizer,\n",
    "        num_warmup_steps=round(total_steps * warmup_size),\n",
    "        num_training_steps=total_steps,\n",
    "    )\n",
    "    return scheduler\n",
    "\n",
    "\n",
    "def get_training_args(epochs, batch_size):\n",
    "    return TrainingArguments(\n",
    "        output_dir=\"./b\",\n",
    "        num_train_epochs=epochs,\n",
    "        per_device_train_batch_size=batch_size,\n",
    "        logging_steps=50,\n",
    "        fp16=False,\n",
    "        evaluation_strategy=\"epoch\",\n",
    "        eval_accumulation_steps=1,\n",
    "        report_to=None,\n",
    "        save_total_limit=1,\n",
    "        load_best_model_at_end=True\n",
    "    )\n",
    "\n",
    "\n",
    "def compute_accuracy(pred):\n",
    "    labels = pred.label_ids\n",
    "    preds = pred.predictions.argmax(-1)\n",
    "    acc = accuracy_score(labels, preds)\n",
    "    return {\"accuracy\": acc}\n",
    "\n"
   ]
  },
  {
   "cell_type": "code",
   "execution_count": 19,
   "id": "48379950",
   "metadata": {
    "execution": {
     "iopub.execute_input": "2022-07-05T09:34:57.899370Z",
     "iopub.status.busy": "2022-07-05T09:34:57.898661Z",
     "iopub.status.idle": "2022-07-05T09:34:57.901402Z",
     "shell.execute_reply": "2022-07-05T09:34:57.900812Z",
     "shell.execute_reply.started": "2022-07-05T09:31:41.547925Z"
    },
    "papermill": {
     "duration": 0.051492,
     "end_time": "2022-07-05T09:34:57.901520",
     "exception": false,
     "start_time": "2022-07-05T09:34:57.850028",
     "status": "completed"
    },
    "tags": []
   },
   "outputs": [],
   "source": [
    "lr = 2e-5\n",
    "epochs =  7\n",
    "batch_size = 8\n",
    "max_seq_len = 512"
   ]
  },
  {
   "cell_type": "code",
   "execution_count": 20,
   "id": "e54fa4d9",
   "metadata": {
    "execution": {
     "iopub.execute_input": "2022-07-05T09:34:57.996627Z",
     "iopub.status.busy": "2022-07-05T09:34:57.995849Z",
     "iopub.status.idle": "2022-07-05T09:34:57.997754Z",
     "shell.execute_reply": "2022-07-05T09:34:57.998220Z",
     "shell.execute_reply.started": "2022-07-05T09:31:41.560173Z"
    },
    "papermill": {
     "duration": 0.051821,
     "end_time": "2022-07-05T09:34:57.998356",
     "exception": false,
     "start_time": "2022-07-05T09:34:57.946535",
     "status": "completed"
    },
    "tags": []
   },
   "outputs": [],
   "source": [
    "def split_valid(df, frac=0.01):\n",
    "    \n",
    "    val = pd.DataFrame()\n",
    "    val[\"text\"] = \"\"\n",
    "    val[\"label\"] = -1\n",
    "    \n",
    "    for i in df.label.unique():\n",
    "        val = pd.concat([val, df[df.label == i].sample(frac=frac)])\n",
    "        \n",
    "    return df[~df.index.isin(val.index)].reset_index(drop=True) , val.reset_index(drop=True)"
   ]
  },
  {
   "cell_type": "code",
   "execution_count": null,
   "id": "7aec1c00",
   "metadata": {
    "papermill": {
     "duration": 0.045273,
     "end_time": "2022-07-05T09:34:58.087979",
     "exception": false,
     "start_time": "2022-07-05T09:34:58.042706",
     "status": "completed"
    },
    "tags": []
   },
   "outputs": [],
   "source": []
  },
  {
   "cell_type": "code",
   "execution_count": 21,
   "id": "2406c4b7",
   "metadata": {
    "execution": {
     "iopub.execute_input": "2022-07-05T09:34:58.180406Z",
     "iopub.status.busy": "2022-07-05T09:34:58.179702Z",
     "iopub.status.idle": "2022-07-05T09:34:58.182205Z",
     "shell.execute_reply": "2022-07-05T09:34:58.181770Z",
     "shell.execute_reply.started": "2022-07-05T09:31:41.570742Z"
    },
    "papermill": {
     "duration": 0.050008,
     "end_time": "2022-07-05T09:34:58.182317",
     "exception": false,
     "start_time": "2022-07-05T09:34:58.132309",
     "status": "completed"
    },
    "tags": []
   },
   "outputs": [],
   "source": [
    "# train_set_df = pd.read_csv(\"../input/newdatasets/mike_20_june_new (1).csv\")\n",
    "# train_set_df"
   ]
  },
  {
   "cell_type": "code",
   "execution_count": 22,
   "id": "80fb0344",
   "metadata": {
    "execution": {
     "iopub.execute_input": "2022-07-05T09:34:58.281361Z",
     "iopub.status.busy": "2022-07-05T09:34:58.280666Z",
     "iopub.status.idle": "2022-07-05T09:34:58.283428Z",
     "shell.execute_reply": "2022-07-05T09:34:58.283826Z",
     "shell.execute_reply.started": "2022-07-05T09:31:41.578690Z"
    },
    "papermill": {
     "duration": 0.056304,
     "end_time": "2022-07-05T09:34:58.283953",
     "exception": false,
     "start_time": "2022-07-05T09:34:58.227649",
     "status": "completed"
    },
    "tags": []
   },
   "outputs": [
    {
     "data": {
      "text/html": [
       "<div>\n",
       "<style scoped>\n",
       "    .dataframe tbody tr th:only-of-type {\n",
       "        vertical-align: middle;\n",
       "    }\n",
       "\n",
       "    .dataframe tbody tr th {\n",
       "        vertical-align: top;\n",
       "    }\n",
       "\n",
       "    .dataframe thead th {\n",
       "        text-align: right;\n",
       "    }\n",
       "</style>\n",
       "<table border=\"1\" class=\"dataframe\">\n",
       "  <thead>\n",
       "    <tr style=\"text-align: right;\">\n",
       "      <th></th>\n",
       "      <th>text</th>\n",
       "      <th>label</th>\n",
       "    </tr>\n",
       "  </thead>\n",
       "  <tbody>\n",
       "    <tr>\n",
       "      <th>0</th>\n",
       "      <td>En 1815, M. Charles-François-Bienvenu Myriel é...</td>\n",
       "      <td>A2</td>\n",
       "    </tr>\n",
       "    <tr>\n",
       "      <th>1</th>\n",
       "      <td>Quoique ce détail ne touche en aucune manière ...</td>\n",
       "      <td>C1</td>\n",
       "    </tr>\n",
       "  </tbody>\n",
       "</table>\n",
       "</div>"
      ],
      "text/plain": [
       "                                                text label\n",
       "0  En 1815, M. Charles-François-Bienvenu Myriel é...    A2\n",
       "1  Quoique ce détail ne touche en aucune manière ...    C1"
      ]
     },
     "execution_count": 22,
     "metadata": {},
     "output_type": "execute_result"
    }
   ],
   "source": [
    "mike_20_june_new.head(2)"
   ]
  },
  {
   "cell_type": "code",
   "execution_count": 23,
   "id": "b0ff99f7",
   "metadata": {
    "execution": {
     "iopub.execute_input": "2022-07-05T09:34:58.379282Z",
     "iopub.status.busy": "2022-07-05T09:34:58.378622Z",
     "iopub.status.idle": "2022-07-05T09:34:58.381268Z",
     "shell.execute_reply": "2022-07-05T09:34:58.381687Z",
     "shell.execute_reply.started": "2022-07-05T09:31:41.593647Z"
    },
    "papermill": {
     "duration": 0.052889,
     "end_time": "2022-07-05T09:34:58.381815",
     "exception": false,
     "start_time": "2022-07-05T09:34:58.328926",
     "status": "completed"
    },
    "tags": []
   },
   "outputs": [
    {
     "data": {
      "text/plain": [
       "(191, 2)"
      ]
     },
     "execution_count": 23,
     "metadata": {},
     "output_type": "execute_result"
    }
   ],
   "source": [
    "mike_20_june_new.shape"
   ]
  },
  {
   "cell_type": "code",
   "execution_count": 24,
   "id": "ddb7a967",
   "metadata": {
    "execution": {
     "iopub.execute_input": "2022-07-05T09:34:58.477372Z",
     "iopub.status.busy": "2022-07-05T09:34:58.476836Z",
     "iopub.status.idle": "2022-07-05T09:34:58.493494Z",
     "shell.execute_reply": "2022-07-05T09:34:58.493000Z",
     "shell.execute_reply.started": "2022-07-05T09:31:41.603599Z"
    },
    "papermill": {
     "duration": 0.066859,
     "end_time": "2022-07-05T09:34:58.493608",
     "exception": false,
     "start_time": "2022-07-05T09:34:58.426749",
     "status": "completed"
    },
    "tags": []
   },
   "outputs": [],
   "source": [
    "new=pd.read_csv(\"../input/lingua/fr_lingua.csv\")"
   ]
  },
  {
   "cell_type": "code",
   "execution_count": 25,
   "id": "0e2d27df",
   "metadata": {
    "execution": {
     "iopub.execute_input": "2022-07-05T09:34:58.587990Z",
     "iopub.status.busy": "2022-07-05T09:34:58.587176Z",
     "iopub.status.idle": "2022-07-05T09:34:58.591746Z",
     "shell.execute_reply": "2022-07-05T09:34:58.591302Z",
     "shell.execute_reply.started": "2022-07-05T09:31:41.622861Z"
    },
    "papermill": {
     "duration": 0.052127,
     "end_time": "2022-07-05T09:34:58.591855",
     "exception": false,
     "start_time": "2022-07-05T09:34:58.539728",
     "status": "completed"
    },
    "tags": []
   },
   "outputs": [],
   "source": [
    "new.columns=[\"text\",\"label\"]"
   ]
  },
  {
   "cell_type": "code",
   "execution_count": 26,
   "id": "81a6f0c6",
   "metadata": {
    "execution": {
     "iopub.execute_input": "2022-07-05T09:34:58.687165Z",
     "iopub.status.busy": "2022-07-05T09:34:58.686227Z",
     "iopub.status.idle": "2022-07-05T09:34:58.696552Z",
     "shell.execute_reply": "2022-07-05T09:34:58.696100Z",
     "shell.execute_reply.started": "2022-07-05T09:31:41.629472Z"
    },
    "papermill": {
     "duration": 0.06013,
     "end_time": "2022-07-05T09:34:58.696664",
     "exception": false,
     "start_time": "2022-07-05T09:34:58.636534",
     "status": "completed"
    },
    "tags": []
   },
   "outputs": [
    {
     "data": {
      "text/plain": [
       "((315, 2),\n",
       "                                                 text label\n",
       " 0  Il était une fois un prince qui voulait épouse...    A2\n",
       " 1  Il fit le tour de la Terre pour en trouver une...    B1)"
      ]
     },
     "execution_count": 26,
     "metadata": {},
     "output_type": "execute_result"
    }
   ],
   "source": [
    "french=pd.read_csv(\"../input/frenchcefr/french dataset.csv\")\n",
    "french=french[[\"text\",\"label\"]]\n",
    "french.shape,french.head(2)\n"
   ]
  },
  {
   "cell_type": "code",
   "execution_count": 27,
   "id": "e6a6d16e",
   "metadata": {
    "execution": {
     "iopub.execute_input": "2022-07-05T09:34:58.791103Z",
     "iopub.status.busy": "2022-07-05T09:34:58.790297Z",
     "iopub.status.idle": "2022-07-05T09:34:58.792218Z",
     "shell.execute_reply": "2022-07-05T09:34:58.792641Z",
     "shell.execute_reply.started": "2022-07-05T09:31:41.649886Z"
    },
    "papermill": {
     "duration": 0.051154,
     "end_time": "2022-07-05T09:34:58.792764",
     "exception": false,
     "start_time": "2022-07-05T09:34:58.741610",
     "status": "completed"
    },
    "tags": []
   },
   "outputs": [],
   "source": [
    "# train_set_df=pd.concat([french, mike_20_june_new,new], ignore_index=True)"
   ]
  },
  {
   "cell_type": "code",
   "execution_count": null,
   "id": "68a97eb8",
   "metadata": {
    "papermill": {
     "duration": 0.045963,
     "end_time": "2022-07-05T09:34:58.884443",
     "exception": false,
     "start_time": "2022-07-05T09:34:58.838480",
     "status": "completed"
    },
    "tags": []
   },
   "outputs": [],
   "source": []
  },
  {
   "cell_type": "code",
   "execution_count": null,
   "id": "39d482c2",
   "metadata": {
    "papermill": {
     "duration": 0.045526,
     "end_time": "2022-07-05T09:34:58.975417",
     "exception": false,
     "start_time": "2022-07-05T09:34:58.929891",
     "status": "completed"
    },
    "tags": []
   },
   "outputs": [],
   "source": []
  },
  {
   "cell_type": "code",
   "execution_count": 28,
   "id": "421dde74",
   "metadata": {
    "execution": {
     "iopub.execute_input": "2022-07-05T09:34:59.075766Z",
     "iopub.status.busy": "2022-07-05T09:34:59.075216Z",
     "iopub.status.idle": "2022-07-05T09:34:59.114942Z",
     "shell.execute_reply": "2022-07-05T09:34:59.114495Z",
     "shell.execute_reply.started": "2022-07-05T09:31:41.660406Z"
    },
    "papermill": {
     "duration": 0.092778,
     "end_time": "2022-07-05T09:34:59.115088",
     "exception": false,
     "start_time": "2022-07-05T09:34:59.022310",
     "status": "completed"
    },
    "tags": []
   },
   "outputs": [],
   "source": [
    "from sklearn import preprocessing\n",
    "le = preprocessing.LabelEncoder()\n",
    "\n",
    "train_set_df = pd.read_csv(\"../input/newdatasets/mike_20_june_new (1).csv\")\n",
    "train_set_df = train_set_df[train_set_df.label != \"XX\"]\n",
    "train_set_df = train_set_df[[\"text\", \"label\"]]\n",
    "\n",
    "train_set_df.text = train_set_df.text.apply(lambda x: x.replace(\"\\r\", \"\").replace(\"\\n\", \" \"))\n",
    "\n",
    "extra_df = pd.read_csv(\"../input/frenchcefr/french_mike_june.csv\")\n",
    "extra_df.columns = [\"text\", \"label\", \"label_\"]\n",
    "extra_df = extra_df[[\"text\", \"label\"]]\n",
    "extra_df.text = extra_df.text.astype(str)\n",
    "#train_set_df = pd.concat([train_set_df, extra_df]).reset_index(drop=True)\n",
    "\n",
    "train_set_df, valid_set_df = split_valid(train_set_df)"
   ]
  },
  {
   "cell_type": "code",
   "execution_count": 29,
   "id": "cc2e39f9",
   "metadata": {
    "execution": {
     "iopub.execute_input": "2022-07-05T09:34:59.221734Z",
     "iopub.status.busy": "2022-07-05T09:34:59.221108Z",
     "iopub.status.idle": "2022-07-05T09:34:59.223759Z",
     "shell.execute_reply": "2022-07-05T09:34:59.224280Z",
     "shell.execute_reply.started": "2022-07-05T09:31:41.698854Z"
    },
    "papermill": {
     "duration": 0.05458,
     "end_time": "2022-07-05T09:34:59.224444",
     "exception": false,
     "start_time": "2022-07-05T09:34:59.169864",
     "status": "completed"
    },
    "tags": []
   },
   "outputs": [
    {
     "data": {
      "text/plain": [
       "array(['A2', 'C1', 'B2', 'A1', 'B1', 'C2'], dtype=object)"
      ]
     },
     "execution_count": 29,
     "metadata": {},
     "output_type": "execute_result"
    }
   ],
   "source": [
    "train_set_df.label.unique()"
   ]
  },
  {
   "cell_type": "code",
   "execution_count": 30,
   "id": "51938b9c",
   "metadata": {
    "execution": {
     "iopub.execute_input": "2022-07-05T09:34:59.324634Z",
     "iopub.status.busy": "2022-07-05T09:34:59.323066Z",
     "iopub.status.idle": "2022-07-05T09:34:59.325241Z",
     "shell.execute_reply": "2022-07-05T09:34:59.325661Z",
     "shell.execute_reply.started": "2022-07-05T09:31:41.709759Z"
    },
    "papermill": {
     "duration": 0.053777,
     "end_time": "2022-07-05T09:34:59.325792",
     "exception": false,
     "start_time": "2022-07-05T09:34:59.272015",
     "status": "completed"
    },
    "tags": []
   },
   "outputs": [],
   "source": [
    "train_set_df.label = le.fit_transform(train_set_df.label)\n",
    "valid_set_df.label = le.transform(valid_set_df.label)"
   ]
  },
  {
   "cell_type": "code",
   "execution_count": 31,
   "id": "d5202a0b",
   "metadata": {
    "execution": {
     "iopub.execute_input": "2022-07-05T09:34:59.423435Z",
     "iopub.status.busy": "2022-07-05T09:34:59.422815Z",
     "iopub.status.idle": "2022-07-05T09:34:59.425526Z",
     "shell.execute_reply": "2022-07-05T09:34:59.425990Z",
     "shell.execute_reply.started": "2022-07-05T09:31:41.716695Z"
    },
    "papermill": {
     "duration": 0.054987,
     "end_time": "2022-07-05T09:34:59.426169",
     "exception": false,
     "start_time": "2022-07-05T09:34:59.371182",
     "status": "completed"
    },
    "tags": []
   },
   "outputs": [
    {
     "data": {
      "text/plain": [
       "6"
      ]
     },
     "execution_count": 31,
     "metadata": {},
     "output_type": "execute_result"
    }
   ],
   "source": [
    "train_set_df.label.nunique()"
   ]
  },
  {
   "cell_type": "code",
   "execution_count": 32,
   "id": "80f321a6",
   "metadata": {
    "execution": {
     "iopub.execute_input": "2022-07-05T09:34:59.524969Z",
     "iopub.status.busy": "2022-07-05T09:34:59.521004Z",
     "iopub.status.idle": "2022-07-05T09:34:59.527161Z",
     "shell.execute_reply": "2022-07-05T09:34:59.527565Z",
     "shell.execute_reply.started": "2022-07-05T09:31:41.727269Z"
    },
    "papermill": {
     "duration": 0.054743,
     "end_time": "2022-07-05T09:34:59.527692",
     "exception": false,
     "start_time": "2022-07-05T09:34:59.472949",
     "status": "completed"
    },
    "tags": []
   },
   "outputs": [
    {
     "data": {
      "text/plain": [
       "4    57\n",
       "0    41\n",
       "3    33\n",
       "2    29\n",
       "1    24\n",
       "5     6\n",
       "Name: label, dtype: int64"
      ]
     },
     "execution_count": 32,
     "metadata": {},
     "output_type": "execute_result"
    }
   ],
   "source": [
    "train_set_df.label.value_counts()"
   ]
  },
  {
   "cell_type": "code",
   "execution_count": 33,
   "id": "79ada214",
   "metadata": {
    "execution": {
     "iopub.execute_input": "2022-07-05T09:34:59.626495Z",
     "iopub.status.busy": "2022-07-05T09:34:59.625763Z",
     "iopub.status.idle": "2022-07-05T09:34:59.628507Z",
     "shell.execute_reply": "2022-07-05T09:34:59.628912Z",
     "shell.execute_reply.started": "2022-07-05T09:31:41.737430Z"
    },
    "papermill": {
     "duration": 0.055133,
     "end_time": "2022-07-05T09:34:59.629059",
     "exception": false,
     "start_time": "2022-07-05T09:34:59.573926",
     "status": "completed"
    },
    "tags": []
   },
   "outputs": [
    {
     "data": {
      "text/plain": [
       "1"
      ]
     },
     "execution_count": 33,
     "metadata": {},
     "output_type": "execute_result"
    }
   ],
   "source": [
    "valid_set_df.label.nunique()"
   ]
  },
  {
   "cell_type": "code",
   "execution_count": 34,
   "id": "094a7d25",
   "metadata": {
    "execution": {
     "iopub.execute_input": "2022-07-05T09:34:59.733574Z",
     "iopub.status.busy": "2022-07-05T09:34:59.732871Z",
     "iopub.status.idle": "2022-07-05T09:34:59.736294Z",
     "shell.execute_reply": "2022-07-05T09:34:59.735847Z",
     "shell.execute_reply.started": "2022-07-05T09:31:41.747182Z"
    },
    "papermill": {
     "duration": 0.054889,
     "end_time": "2022-07-05T09:34:59.736422",
     "exception": false,
     "start_time": "2022-07-05T09:34:59.681533",
     "status": "completed"
    },
    "tags": []
   },
   "outputs": [],
   "source": [
    "# train_set_df = train_set_df.sample(frac=1)"
   ]
  },
  {
   "cell_type": "code",
   "execution_count": 35,
   "id": "a2d56f97",
   "metadata": {
    "execution": {
     "iopub.execute_input": "2022-07-05T09:34:59.842982Z",
     "iopub.status.busy": "2022-07-05T09:34:59.842105Z",
     "iopub.status.idle": "2022-07-05T09:34:59.843747Z",
     "shell.execute_reply": "2022-07-05T09:34:59.844289Z",
     "shell.execute_reply.started": "2022-07-05T09:31:41.757077Z"
    },
    "papermill": {
     "duration": 0.060054,
     "end_time": "2022-07-05T09:34:59.844430",
     "exception": false,
     "start_time": "2022-07-05T09:34:59.784376",
     "status": "completed"
    },
    "tags": []
   },
   "outputs": [],
   "source": [
    "from tqdm import tqdm \n",
    "\n",
    "def predict(model, text):\n",
    "    \n",
    "    preds = []\n",
    "    \n",
    "    for i in tqdm(range(len(text))):\n",
    "        tokenized = tokenizer(text[i:i+1], return_tensors=\"pt\", truncation=True, max_length=512).to(\"cuda\")\n",
    "        pred = model(**tokenized)\n",
    "        preds.append(pred.logits.argmax(-1).item())\n",
    "\n",
    "    return preds"
   ]
  },
  {
   "cell_type": "code",
   "execution_count": null,
   "id": "8b4eeb9c",
   "metadata": {
    "papermill": {
     "duration": 0.047061,
     "end_time": "2022-07-05T09:34:59.938673",
     "exception": false,
     "start_time": "2022-07-05T09:34:59.891612",
     "status": "completed"
    },
    "tags": []
   },
   "outputs": [],
   "source": []
  },
  {
   "cell_type": "code",
   "execution_count": 36,
   "id": "d4d1e45a",
   "metadata": {
    "execution": {
     "iopub.execute_input": "2022-07-05T09:35:00.038789Z",
     "iopub.status.busy": "2022-07-05T09:35:00.037796Z",
     "iopub.status.idle": "2022-07-05T09:37:51.539984Z",
     "shell.execute_reply": "2022-07-05T09:37:51.540622Z",
     "shell.execute_reply.started": "2022-07-05T09:31:41.766273Z"
    },
    "papermill": {
     "duration": 171.556096,
     "end_time": "2022-07-05T09:37:51.540868",
     "exception": false,
     "start_time": "2022-07-05T09:34:59.984772",
     "status": "completed"
    },
    "tags": []
   },
   "outputs": [
    {
     "name": "stdout",
     "output_type": "stream",
     "text": [
      "{}\n",
      "{}\n"
     ]
    },
    {
     "data": {
      "application/vnd.jupyter.widget-view+json": {
       "model_id": "6ec09c8308af400da6a1820aebadc406",
       "version_major": 2,
       "version_minor": 0
      },
      "text/plain": [
       "Downloading:   0%|          | 0.00/445M [00:00<?, ?B/s]"
      ]
     },
     "metadata": {},
     "output_type": "display_data"
    },
    {
     "name": "stderr",
     "output_type": "stream",
     "text": [
      "Some weights of the model checkpoint at dbmdz/bert-base-french-europeana-cased were not used when initializing BertForSequenceClassification: ['cls.predictions.bias', 'cls.predictions.transform.dense.weight', 'cls.predictions.transform.dense.bias', 'cls.predictions.transform.LayerNorm.weight', 'cls.predictions.transform.LayerNorm.bias', 'cls.predictions.decoder.weight', 'cls.predictions.decoder.bias', 'cls.seq_relationship.weight', 'cls.seq_relationship.bias']\n",
      "- This IS expected if you are initializing BertForSequenceClassification from the checkpoint of a model trained on another task or with another architecture (e.g. initializing a BertForSequenceClassification model from a BertForPreTraining model).\n",
      "- This IS NOT expected if you are initializing BertForSequenceClassification from the checkpoint of a model that you expect to be exactly identical (initializing a BertForSequenceClassification model from a BertForSequenceClassification model).\n",
      "Some weights of BertForSequenceClassification were not initialized from the model checkpoint at dbmdz/bert-base-french-europeana-cased and are newly initialized: ['classifier.weight', 'classifier.bias']\n",
      "You should probably TRAIN this model on a down-stream task to be able to use it for predictions and inference.\n",
      "Using the `WAND_DISABLED` environment variable is deprecated and will be removed in v5. Use the --report_to flag to control the integrations used for logging result (for instance --report_to none).\n"
     ]
    },
    {
     "data": {
      "text/html": [
       "\n",
       "    <div>\n",
       "        <style>\n",
       "            /* Turns off some styling */\n",
       "            progress {\n",
       "                /* gets rid of default border in Firefox and Opera. */\n",
       "                border: none;\n",
       "                /* Needs to be in here for Safari polyfill so background images work as expected. */\n",
       "                background-size: auto;\n",
       "            }\n",
       "        </style>\n",
       "      \n",
       "      <progress value='168' max='168' style='width:300px; height:20px; vertical-align: middle;'></progress>\n",
       "      [168/168 01:59, Epoch 7/7]\n",
       "    </div>\n",
       "    <table border=\"1\" class=\"dataframe\">\n",
       "  <thead>\n",
       "    <tr style=\"text-align: left;\">\n",
       "      <th>Epoch</th>\n",
       "      <th>Training Loss</th>\n",
       "      <th>Validation Loss</th>\n",
       "      <th>Accuracy</th>\n",
       "      <th>Runtime</th>\n",
       "      <th>Samples Per Second</th>\n",
       "    </tr>\n",
       "  </thead>\n",
       "  <tbody>\n",
       "    <tr>\n",
       "      <td>1</td>\n",
       "      <td>No log</td>\n",
       "      <td>2.087388</td>\n",
       "      <td>0.000000</td>\n",
       "      <td>0.040500</td>\n",
       "      <td>24.670000</td>\n",
       "    </tr>\n",
       "    <tr>\n",
       "      <td>2</td>\n",
       "      <td>No log</td>\n",
       "      <td>3.319314</td>\n",
       "      <td>0.000000</td>\n",
       "      <td>0.034000</td>\n",
       "      <td>29.425000</td>\n",
       "    </tr>\n",
       "    <tr>\n",
       "      <td>3</td>\n",
       "      <td>1.512000</td>\n",
       "      <td>4.162873</td>\n",
       "      <td>0.000000</td>\n",
       "      <td>0.032900</td>\n",
       "      <td>30.408000</td>\n",
       "    </tr>\n",
       "    <tr>\n",
       "      <td>4</td>\n",
       "      <td>1.512000</td>\n",
       "      <td>4.354156</td>\n",
       "      <td>0.000000</td>\n",
       "      <td>0.034100</td>\n",
       "      <td>29.320000</td>\n",
       "    </tr>\n",
       "    <tr>\n",
       "      <td>5</td>\n",
       "      <td>0.867000</td>\n",
       "      <td>4.624961</td>\n",
       "      <td>0.000000</td>\n",
       "      <td>0.034600</td>\n",
       "      <td>28.929000</td>\n",
       "    </tr>\n",
       "    <tr>\n",
       "      <td>6</td>\n",
       "      <td>0.867000</td>\n",
       "      <td>4.566848</td>\n",
       "      <td>0.000000</td>\n",
       "      <td>0.031600</td>\n",
       "      <td>31.622000</td>\n",
       "    </tr>\n",
       "    <tr>\n",
       "      <td>7</td>\n",
       "      <td>0.585500</td>\n",
       "      <td>4.568268</td>\n",
       "      <td>0.000000</td>\n",
       "      <td>0.036100</td>\n",
       "      <td>27.687000</td>\n",
       "    </tr>\n",
       "  </tbody>\n",
       "</table><p>"
      ],
      "text/plain": [
       "<IPython.core.display.HTML object>"
      ]
     },
     "metadata": {},
     "output_type": "display_data"
    }
   ],
   "source": [
    "train_set = CEFRDataset(train_set_df[\"text\"], train_set_df[\"label\"])\n",
    "valid_set = CEFRDataset(valid_set_df[\"text\"], valid_set_df[\"label\"])\n",
    "\n",
    "\n",
    "trainer_second = train(train_set, valid_set, epochs=epochs, warmup_size=0.2, lr=lr, batch_size=batch_size)\n",
    "model = trainer_second.model"
   ]
  },
  {
   "cell_type": "code",
   "execution_count": 37,
   "id": "0e5a5cca",
   "metadata": {
    "execution": {
     "iopub.execute_input": "2022-07-05T09:37:51.657349Z",
     "iopub.status.busy": "2022-07-05T09:37:51.656689Z",
     "iopub.status.idle": "2022-07-05T09:37:51.695369Z",
     "shell.execute_reply": "2022-07-05T09:37:51.694689Z",
     "shell.execute_reply.started": "2022-07-05T09:34:03.105171Z"
    },
    "papermill": {
     "duration": 0.098202,
     "end_time": "2022-07-05T09:37:51.695552",
     "exception": false,
     "start_time": "2022-07-05T09:37:51.597350",
     "status": "completed"
    },
    "tags": []
   },
   "outputs": [
    {
     "name": "stderr",
     "output_type": "stream",
     "text": [
      "100%|██████████| 1/1 [00:00<00:00, 36.05it/s]\n"
     ]
    }
   ],
   "source": [
    "valid_set_df[\"preds\"] = train_set.encoder.inverse_transform(predict(model, valid_set_df.text.tolist()))\n",
    "valid_set_df.columns = [\"text\", \"cefr\", \"preds\",] "
   ]
  },
  {
   "cell_type": "code",
   "execution_count": 38,
   "id": "55ad484b",
   "metadata": {
    "execution": {
     "iopub.execute_input": "2022-07-05T09:37:51.809552Z",
     "iopub.status.busy": "2022-07-05T09:37:51.808984Z",
     "iopub.status.idle": "2022-07-05T09:37:53.212215Z",
     "shell.execute_reply": "2022-07-05T09:37:53.212792Z",
     "shell.execute_reply.started": "2022-07-05T09:34:03.143749Z"
    },
    "papermill": {
     "duration": 1.462229,
     "end_time": "2022-07-05T09:37:53.212994",
     "exception": false,
     "start_time": "2022-07-05T09:37:51.750765",
     "status": "completed"
    },
    "tags": []
   },
   "outputs": [
    {
     "name": "stderr",
     "output_type": "stream",
     "text": [
      "100%|██████████| 111/111 [00:01<00:00, 79.97it/s]\n"
     ]
    }
   ],
   "source": [
    "lingua = pd.read_csv(\"../input/lingua/fr_lingua.csv\")\n",
    "lingua[\"preds\"] = train_set.encoder.inverse_transform(predict(model, lingua.text.tolist()))"
   ]
  },
  {
   "cell_type": "code",
   "execution_count": 39,
   "id": "621e30c5",
   "metadata": {
    "execution": {
     "iopub.execute_input": "2022-07-05T09:37:53.325742Z",
     "iopub.status.busy": "2022-07-05T09:37:53.324137Z",
     "iopub.status.idle": "2022-07-05T09:37:53.326345Z",
     "shell.execute_reply": "2022-07-05T09:37:53.326749Z",
     "shell.execute_reply.started": "2022-07-05T09:34:04.501495Z"
    },
    "papermill": {
     "duration": 0.060287,
     "end_time": "2022-07-05T09:37:53.326889",
     "exception": false,
     "start_time": "2022-07-05T09:37:53.266602",
     "status": "completed"
    },
    "tags": []
   },
   "outputs": [],
   "source": [
    "# lingua.columns=[\"text\",\"len\",\"lang\",\"cefr\",\"preds\"]\n",
    "# lingua = lingua[lingua.cefr != \"XX\"]"
   ]
  },
  {
   "cell_type": "code",
   "execution_count": 40,
   "id": "3bf8f7ce",
   "metadata": {
    "execution": {
     "iopub.execute_input": "2022-07-05T09:37:53.440425Z",
     "iopub.status.busy": "2022-07-05T09:37:53.439800Z",
     "iopub.status.idle": "2022-07-05T09:37:53.442409Z",
     "shell.execute_reply": "2022-07-05T09:37:53.442809Z",
     "shell.execute_reply.started": "2022-07-05T09:34:04.507130Z"
    },
    "papermill": {
     "duration": 0.06283,
     "end_time": "2022-07-05T09:37:53.442944",
     "exception": false,
     "start_time": "2022-07-05T09:37:53.380114",
     "status": "completed"
    },
    "tags": []
   },
   "outputs": [
    {
     "data": {
      "text/plain": [
       "B1    60\n",
       "A2    26\n",
       "A1    13\n",
       "B2    12\n",
       "Name: cefr, dtype: int64"
      ]
     },
     "execution_count": 40,
     "metadata": {},
     "output_type": "execute_result"
    }
   ],
   "source": [
    "lingua.cefr.value_counts()"
   ]
  },
  {
   "cell_type": "code",
   "execution_count": 41,
   "id": "85622865",
   "metadata": {
    "execution": {
     "iopub.execute_input": "2022-07-05T09:37:53.554483Z",
     "iopub.status.busy": "2022-07-05T09:37:53.553806Z",
     "iopub.status.idle": "2022-07-05T09:37:53.556439Z",
     "shell.execute_reply": "2022-07-05T09:37:53.556833Z",
     "shell.execute_reply.started": "2022-07-05T09:34:04.521171Z"
    },
    "papermill": {
     "duration": 0.060357,
     "end_time": "2022-07-05T09:37:53.556967",
     "exception": false,
     "start_time": "2022-07-05T09:37:53.496610",
     "status": "completed"
    },
    "tags": []
   },
   "outputs": [
    {
     "data": {
      "text/plain": [
       "array([4])"
      ]
     },
     "execution_count": 41,
     "metadata": {},
     "output_type": "execute_result"
    }
   ],
   "source": [
    "lingua.preds.unique()"
   ]
  },
  {
   "cell_type": "code",
   "execution_count": 42,
   "id": "468f7547",
   "metadata": {
    "execution": {
     "iopub.execute_input": "2022-07-05T09:37:53.669912Z",
     "iopub.status.busy": "2022-07-05T09:37:53.669272Z",
     "iopub.status.idle": "2022-07-05T09:37:53.671547Z",
     "shell.execute_reply": "2022-07-05T09:37:53.671924Z",
     "shell.execute_reply.started": "2022-07-05T09:34:04.532987Z"
    },
    "papermill": {
     "duration": 0.061467,
     "end_time": "2022-07-05T09:37:53.672078",
     "exception": false,
     "start_time": "2022-07-05T09:37:53.610611",
     "status": "completed"
    },
    "tags": []
   },
   "outputs": [],
   "source": [
    "def compute_average_distance(df, col_name=\"cefr\") :\n",
    "    \n",
    "    labels = [\"A1\", \"A2\", \"B1\", \"B2\", \"C1\", \"C2\"]\n",
    "    return (df[col_name].apply(lambda x: labels.index(x)) - df.preds.apply(lambda x: labels.index(x))).abs().mean()\n"
   ]
  },
  {
   "cell_type": "code",
   "execution_count": 43,
   "id": "e83f0399",
   "metadata": {
    "execution": {
     "iopub.execute_input": "2022-07-05T09:37:53.788224Z",
     "iopub.status.busy": "2022-07-05T09:37:53.787104Z",
     "iopub.status.idle": "2022-07-05T09:37:53.790148Z",
     "shell.execute_reply": "2022-07-05T09:37:53.790558Z",
     "shell.execute_reply.started": "2022-07-05T09:34:04.543995Z"
    },
    "papermill": {
     "duration": 0.063886,
     "end_time": "2022-07-05T09:37:53.790684",
     "exception": false,
     "start_time": "2022-07-05T09:37:53.726798",
     "status": "completed"
    },
    "tags": []
   },
   "outputs": [
    {
     "data": {
      "text/plain": [
       "4    111\n",
       "Name: preds, dtype: int64"
      ]
     },
     "execution_count": 43,
     "metadata": {},
     "output_type": "execute_result"
    }
   ],
   "source": [
    "lingua.preds.value_counts()"
   ]
  },
  {
   "cell_type": "code",
   "execution_count": 44,
   "id": "66e065b7",
   "metadata": {
    "execution": {
     "iopub.execute_input": "2022-07-05T09:37:53.904180Z",
     "iopub.status.busy": "2022-07-05T09:37:53.903419Z",
     "iopub.status.idle": "2022-07-05T09:37:53.905914Z",
     "shell.execute_reply": "2022-07-05T09:37:53.905479Z",
     "shell.execute_reply.started": "2022-07-05T09:34:04.556387Z"
    },
    "papermill": {
     "duration": 0.061204,
     "end_time": "2022-07-05T09:37:53.906025",
     "exception": false,
     "start_time": "2022-07-05T09:37:53.844821",
     "status": "completed"
    },
    "tags": []
   },
   "outputs": [],
   "source": [
    "lingua[\"preds\"] = le.inverse_transform(lingua.preds)"
   ]
  },
  {
   "cell_type": "code",
   "execution_count": 45,
   "id": "69719f1e",
   "metadata": {
    "execution": {
     "iopub.execute_input": "2022-07-05T09:37:54.020047Z",
     "iopub.status.busy": "2022-07-05T09:37:54.019415Z",
     "iopub.status.idle": "2022-07-05T09:37:54.022017Z",
     "shell.execute_reply": "2022-07-05T09:37:54.022439Z",
     "shell.execute_reply.started": "2022-07-05T09:34:04.566527Z"
    },
    "papermill": {
     "duration": 0.062593,
     "end_time": "2022-07-05T09:37:54.022565",
     "exception": false,
     "start_time": "2022-07-05T09:37:53.959972",
     "status": "completed"
    },
    "tags": []
   },
   "outputs": [
    {
     "data": {
      "text/plain": [
       "C1    111\n",
       "Name: preds, dtype: int64"
      ]
     },
     "execution_count": 45,
     "metadata": {},
     "output_type": "execute_result"
    }
   ],
   "source": [
    "lingua.preds.value_counts()"
   ]
  },
  {
   "cell_type": "code",
   "execution_count": 46,
   "id": "8170da29",
   "metadata": {
    "execution": {
     "iopub.execute_input": "2022-07-05T09:37:54.136325Z",
     "iopub.status.busy": "2022-07-05T09:37:54.135753Z",
     "iopub.status.idle": "2022-07-05T09:37:54.138918Z",
     "shell.execute_reply": "2022-07-05T09:37:54.139518Z",
     "shell.execute_reply.started": "2022-07-05T09:34:04.577674Z"
    },
    "papermill": {
     "duration": 0.063948,
     "end_time": "2022-07-05T09:37:54.139681",
     "exception": false,
     "start_time": "2022-07-05T09:37:54.075733",
     "status": "completed"
    },
    "tags": []
   },
   "outputs": [
    {
     "name": "stdout",
     "output_type": "stream",
     "text": [
      "Distance: \n",
      "2.3603603603603602\n",
      "Lingua accuracy: 0.0\n"
     ]
    }
   ],
   "source": [
    "print(\"Distance: \")\n",
    "print(compute_average_distance(lingua, \"cefr\"))\n",
    "\n",
    "print(f\"Lingua accuracy: {(lingua['preds'] == lingua['cefr']).mean()}\")"
   ]
  },
  {
   "cell_type": "code",
   "execution_count": 47,
   "id": "361d8647",
   "metadata": {
    "execution": {
     "iopub.execute_input": "2022-07-05T09:37:54.282181Z",
     "iopub.status.busy": "2022-07-05T09:37:54.254673Z",
     "iopub.status.idle": "2022-07-05T09:37:54.295003Z",
     "shell.execute_reply": "2022-07-05T09:37:54.294567Z",
     "shell.execute_reply.started": "2022-07-05T09:34:04.590319Z"
    },
    "papermill": {
     "duration": 0.100036,
     "end_time": "2022-07-05T09:37:54.295127",
     "exception": false,
     "start_time": "2022-07-05T09:37:54.195091",
     "status": "completed"
    },
    "tags": []
   },
   "outputs": [
    {
     "data": {
      "text/plain": [
       "B2    111\n",
       "Name: Predss, dtype: int64"
      ]
     },
     "execution_count": 47,
     "metadata": {},
     "output_type": "execute_result"
    }
   ],
   "source": [
    "for i in range(lingua.shape[0]):\n",
    "    if (lingua.loc[i,\"preds\"]==\"C1\") | (lingua.loc[i,\"preds\"]==\"C2\") :\n",
    "        lingua.loc[i,\"Predss\"]=\"B2\"\n",
    "    else :\n",
    "        lingua.loc[i,\"Predss\"]= lingua.loc[i,\"preds\"]\n",
    "lingua[\"Predss\"].value_counts()"
   ]
  },
  {
   "cell_type": "code",
   "execution_count": 48,
   "id": "7809fc63",
   "metadata": {
    "execution": {
     "iopub.execute_input": "2022-07-05T09:37:54.412979Z",
     "iopub.status.busy": "2022-07-05T09:37:54.412363Z",
     "iopub.status.idle": "2022-07-05T09:37:54.415322Z",
     "shell.execute_reply": "2022-07-05T09:37:54.415746Z",
     "shell.execute_reply.started": "2022-07-05T09:34:04.637964Z"
    },
    "papermill": {
     "duration": 0.064506,
     "end_time": "2022-07-05T09:37:54.415884",
     "exception": false,
     "start_time": "2022-07-05T09:37:54.351378",
     "status": "completed"
    },
    "tags": []
   },
   "outputs": [
    {
     "name": "stdout",
     "output_type": "stream",
     "text": [
      "Distance: \n",
      "2.3603603603603602\n",
      "Lingua accuracy: 0.10810810810810811\n"
     ]
    }
   ],
   "source": [
    "print(\"Distance: \")\n",
    "print(compute_average_distance(lingua, \"cefr\"))\n",
    "\n",
    "print(f\"Lingua accuracy: {(lingua['Predss'] == lingua['cefr']).mean()}\")"
   ]
  },
  {
   "cell_type": "markdown",
   "id": "bd6cf527",
   "metadata": {
    "papermill": {
     "duration": 0.05406,
     "end_time": "2022-07-05T09:37:54.525332",
     "exception": false,
     "start_time": "2022-07-05T09:37:54.471272",
     "status": "completed"
    },
    "tags": []
   },
   "source": [
    "****"
   ]
  },
  {
   "cell_type": "markdown",
   "id": "4ee3f2a0",
   "metadata": {
    "papermill": {
     "duration": 0.055309,
     "end_time": "2022-07-05T09:37:54.636417",
     "exception": false,
     "start_time": "2022-07-05T09:37:54.581108",
     "status": "completed"
    },
    "tags": []
   },
   "source": [
    "Distance: \n",
    "0.990990990990991\n",
    "Lingua accuracy: 0.40540540540540543 <br>\n",
    "2    82\n",
    "3    15\n",
    "5    10\n",
    "4     2\n",
    "0     1\n",
    "1     1 <br> \n",
    "inokufu/flaubert-base-uncased-xnli-sts-finetuned-education"
   ]
  },
  {
   "cell_type": "markdown",
   "id": "4925c7ab",
   "metadata": {
    "papermill": {
     "duration": 0.056253,
     "end_time": "2022-07-05T09:37:54.748189",
     "exception": false,
     "start_time": "2022-07-05T09:37:54.691936",
     "status": "completed"
    },
    "tags": []
   },
   "source": [
    "****"
   ]
  },
  {
   "cell_type": "markdown",
   "id": "292402c3",
   "metadata": {
    "papermill": {
     "duration": 0.056278,
     "end_time": "2022-07-05T09:37:54.859870",
     "exception": false,
     "start_time": "2022-07-05T09:37:54.803592",
     "status": "completed"
    },
    "tags": []
   },
   "source": [
    "\n",
    "Distance: \n",
    "0.8648648648648649\n",
    "Lingua accuracy: 0.450450450450450462 <br>\n",
    "3     7\n",
    "1     5\n",
    "5     4\n",
    "4     4\n",
    "0     1 <br> inokufu/flaubert-base-uncased-xnli-sts-finetuned-education"
   ]
  },
  {
   "cell_type": "code",
   "execution_count": null,
   "id": "05d8d4a1",
   "metadata": {
    "papermill": {
     "duration": 0.055231,
     "end_time": "2022-07-05T09:37:54.969752",
     "exception": false,
     "start_time": "2022-07-05T09:37:54.914521",
     "status": "completed"
    },
    "tags": []
   },
   "outputs": [],
   "source": []
  },
  {
   "cell_type": "code",
   "execution_count": null,
   "id": "c7f2ed5a",
   "metadata": {
    "papermill": {
     "duration": 0.054733,
     "end_time": "2022-07-05T09:37:55.080903",
     "exception": false,
     "start_time": "2022-07-05T09:37:55.026170",
     "status": "completed"
    },
    "tags": []
   },
   "outputs": [],
   "source": []
  },
  {
   "cell_type": "code",
   "execution_count": null,
   "id": "c0f2f22a",
   "metadata": {
    "papermill": {
     "duration": 0.054687,
     "end_time": "2022-07-05T09:37:55.191231",
     "exception": false,
     "start_time": "2022-07-05T09:37:55.136544",
     "status": "completed"
    },
    "tags": []
   },
   "outputs": [],
   "source": []
  },
  {
   "cell_type": "code",
   "execution_count": null,
   "id": "cd0e3e3a",
   "metadata": {
    "papermill": {
     "duration": 0.055074,
     "end_time": "2022-07-05T09:37:55.301472",
     "exception": false,
     "start_time": "2022-07-05T09:37:55.246398",
     "status": "completed"
    },
    "tags": []
   },
   "outputs": [],
   "source": []
  }
 ],
 "metadata": {
  "kernelspec": {
   "display_name": "Python 3",
   "language": "python",
   "name": "python3"
  },
  "language_info": {
   "codemirror_mode": {
    "name": "ipython",
    "version": 3
   },
   "file_extension": ".py",
   "mimetype": "text/x-python",
   "name": "python",
   "nbconvert_exporter": "python",
   "pygments_lexer": "ipython3",
   "version": "3.7.10"
  },
  "papermill": {
   "default_parameters": {},
   "duration": 207.995187,
   "end_time": "2022-07-05T09:37:58.350963",
   "environment_variables": {},
   "exception": null,
   "input_path": "__notebook__.ipynb",
   "output_path": "__notebook__.ipynb",
   "parameters": {},
   "start_time": "2022-07-05T09:34:30.355776",
   "version": "2.3.3"
  },
  "widgets": {
   "application/vnd.jupyter.widget-state+json": {
    "state": {
     "0e5c3ca556fb4600b20182d5b88549f4": {
      "model_module": "@jupyter-widgets/controls",
      "model_module_version": "1.5.0",
      "model_name": "HBoxModel",
      "state": {
       "_dom_classes": [],
       "_model_module": "@jupyter-widgets/controls",
       "_model_module_version": "1.5.0",
       "_model_name": "HBoxModel",
       "_view_count": null,
       "_view_module": "@jupyter-widgets/controls",
       "_view_module_version": "1.5.0",
       "_view_name": "HBoxView",
       "box_style": "",
       "children": [
        "IPY_MODEL_c05ee00209ef4244bce9bea924faf3bf",
        "IPY_MODEL_6021c859ff8e4d9983522c19dbd4f2ea",
        "IPY_MODEL_ff582b434c2b48ad9099acffa810891a"
       ],
       "layout": "IPY_MODEL_67bac026ad9c4f6d995d9fe82f14ae67"
      }
     },
     "18a23c845555478e9d12c5c503eca2fa": {
      "model_module": "@jupyter-widgets/base",
      "model_module_version": "1.2.0",
      "model_name": "LayoutModel",
      "state": {
       "_model_module": "@jupyter-widgets/base",
       "_model_module_version": "1.2.0",
       "_model_name": "LayoutModel",
       "_view_count": null,
       "_view_module": "@jupyter-widgets/base",
       "_view_module_version": "1.2.0",
       "_view_name": "LayoutView",
       "align_content": null,
       "align_items": null,
       "align_self": null,
       "border": null,
       "bottom": null,
       "display": null,
       "flex": null,
       "flex_flow": null,
       "grid_area": null,
       "grid_auto_columns": null,
       "grid_auto_flow": null,
       "grid_auto_rows": null,
       "grid_column": null,
       "grid_gap": null,
       "grid_row": null,
       "grid_template_areas": null,
       "grid_template_columns": null,
       "grid_template_rows": null,
       "height": null,
       "justify_content": null,
       "justify_items": null,
       "left": null,
       "margin": null,
       "max_height": null,
       "max_width": null,
       "min_height": null,
       "min_width": null,
       "object_fit": null,
       "object_position": null,
       "order": null,
       "overflow": null,
       "overflow_x": null,
       "overflow_y": null,
       "padding": null,
       "right": null,
       "top": null,
       "visibility": null,
       "width": null
      }
     },
     "22ca37cf92e24459b6b6052ba5f4ffaf": {
      "model_module": "@jupyter-widgets/controls",
      "model_module_version": "1.5.0",
      "model_name": "DescriptionStyleModel",
      "state": {
       "_model_module": "@jupyter-widgets/controls",
       "_model_module_version": "1.5.0",
       "_model_name": "DescriptionStyleModel",
       "_view_count": null,
       "_view_module": "@jupyter-widgets/base",
       "_view_module_version": "1.2.0",
       "_view_name": "StyleView",
       "description_width": ""
      }
     },
     "24d477d58c47480b8d20b98fb192c605": {
      "model_module": "@jupyter-widgets/controls",
      "model_module_version": "1.5.0",
      "model_name": "FloatProgressModel",
      "state": {
       "_dom_classes": [],
       "_model_module": "@jupyter-widgets/controls",
       "_model_module_version": "1.5.0",
       "_model_name": "FloatProgressModel",
       "_view_count": null,
       "_view_module": "@jupyter-widgets/controls",
       "_view_module_version": "1.5.0",
       "_view_name": "ProgressView",
       "bar_style": "success",
       "description": "",
       "description_tooltip": null,
       "layout": "IPY_MODEL_9b500659c80746a2b84107086c3e1c6b",
       "max": 445018784.0,
       "min": 0.0,
       "orientation": "horizontal",
       "style": "IPY_MODEL_b5d2f5e18bd54b7b914c396916fd1e9c",
       "value": 445018784.0
      }
     },
     "314b32333f5d4f709faed109c345b1d8": {
      "model_module": "@jupyter-widgets/controls",
      "model_module_version": "1.5.0",
      "model_name": "DescriptionStyleModel",
      "state": {
       "_model_module": "@jupyter-widgets/controls",
       "_model_module_version": "1.5.0",
       "_model_name": "DescriptionStyleModel",
       "_view_count": null,
       "_view_module": "@jupyter-widgets/base",
       "_view_module_version": "1.2.0",
       "_view_name": "StyleView",
       "description_width": ""
      }
     },
     "31c76086c0484f5fbd3440ef19286c0e": {
      "model_module": "@jupyter-widgets/controls",
      "model_module_version": "1.5.0",
      "model_name": "HBoxModel",
      "state": {
       "_dom_classes": [],
       "_model_module": "@jupyter-widgets/controls",
       "_model_module_version": "1.5.0",
       "_model_name": "HBoxModel",
       "_view_count": null,
       "_view_module": "@jupyter-widgets/controls",
       "_view_module_version": "1.5.0",
       "_view_name": "HBoxView",
       "box_style": "",
       "children": [
        "IPY_MODEL_a914d073866344ada8860a6366f23786",
        "IPY_MODEL_6607dcd3b62f4de888f5a81d5cbb87cd",
        "IPY_MODEL_bf25714cc30841708130bf15ce2127e2"
       ],
       "layout": "IPY_MODEL_3f60261f32a244b5b5fa56465732d00b"
      }
     },
     "38c4e9ed7e9c4c1eabfd9a21e87e9ea0": {
      "model_module": "@jupyter-widgets/controls",
      "model_module_version": "1.5.0",
      "model_name": "FloatProgressModel",
      "state": {
       "_dom_classes": [],
       "_model_module": "@jupyter-widgets/controls",
       "_model_module_version": "1.5.0",
       "_model_name": "FloatProgressModel",
       "_view_count": null,
       "_view_module": "@jupyter-widgets/controls",
       "_view_module_version": "1.5.0",
       "_view_name": "ProgressView",
       "bar_style": "success",
       "description": "",
       "description_tooltip": null,
       "layout": "IPY_MODEL_cc5bdbd177f540e3b9e40d9b5bb85f5e",
       "max": 83.0,
       "min": 0.0,
       "orientation": "horizontal",
       "style": "IPY_MODEL_583d960b08664d6a86816ef0f53b1042",
       "value": 83.0
      }
     },
     "3f60261f32a244b5b5fa56465732d00b": {
      "model_module": "@jupyter-widgets/base",
      "model_module_version": "1.2.0",
      "model_name": "LayoutModel",
      "state": {
       "_model_module": "@jupyter-widgets/base",
       "_model_module_version": "1.2.0",
       "_model_name": "LayoutModel",
       "_view_count": null,
       "_view_module": "@jupyter-widgets/base",
       "_view_module_version": "1.2.0",
       "_view_name": "LayoutView",
       "align_content": null,
       "align_items": null,
       "align_self": null,
       "border": null,
       "bottom": null,
       "display": null,
       "flex": null,
       "flex_flow": null,
       "grid_area": null,
       "grid_auto_columns": null,
       "grid_auto_flow": null,
       "grid_auto_rows": null,
       "grid_column": null,
       "grid_gap": null,
       "grid_row": null,
       "grid_template_areas": null,
       "grid_template_columns": null,
       "grid_template_rows": null,
       "height": null,
       "justify_content": null,
       "justify_items": null,
       "left": null,
       "margin": null,
       "max_height": null,
       "max_width": null,
       "min_height": null,
       "min_width": null,
       "object_fit": null,
       "object_position": null,
       "order": null,
       "overflow": null,
       "overflow_x": null,
       "overflow_y": null,
       "padding": null,
       "right": null,
       "top": null,
       "visibility": null,
       "width": null
      }
     },
     "4590b0696be84e0f9f0972173e7fcc1a": {
      "model_module": "@jupyter-widgets/controls",
      "model_module_version": "1.5.0",
      "model_name": "HBoxModel",
      "state": {
       "_dom_classes": [],
       "_model_module": "@jupyter-widgets/controls",
       "_model_module_version": "1.5.0",
       "_model_name": "HBoxModel",
       "_view_count": null,
       "_view_module": "@jupyter-widgets/controls",
       "_view_module_version": "1.5.0",
       "_view_name": "HBoxView",
       "box_style": "",
       "children": [
        "IPY_MODEL_bb311ca792924f41a5f66d8bf662ab12",
        "IPY_MODEL_38c4e9ed7e9c4c1eabfd9a21e87e9ea0",
        "IPY_MODEL_902f8ac9e40b492bbb6c11af00e117c5"
       ],
       "layout": "IPY_MODEL_c8fa298be20a48c1be5e195583353723"
      }
     },
     "583d960b08664d6a86816ef0f53b1042": {
      "model_module": "@jupyter-widgets/controls",
      "model_module_version": "1.5.0",
      "model_name": "ProgressStyleModel",
      "state": {
       "_model_module": "@jupyter-widgets/controls",
       "_model_module_version": "1.5.0",
       "_model_name": "ProgressStyleModel",
       "_view_count": null,
       "_view_module": "@jupyter-widgets/base",
       "_view_module_version": "1.2.0",
       "_view_name": "StyleView",
       "bar_color": null,
       "description_width": ""
      }
     },
     "6021c859ff8e4d9983522c19dbd4f2ea": {
      "model_module": "@jupyter-widgets/controls",
      "model_module_version": "1.5.0",
      "model_name": "FloatProgressModel",
      "state": {
       "_dom_classes": [],
       "_model_module": "@jupyter-widgets/controls",
       "_model_module_version": "1.5.0",
       "_model_name": "FloatProgressModel",
       "_view_count": null,
       "_view_module": "@jupyter-widgets/controls",
       "_view_module_version": "1.5.0",
       "_view_name": "ProgressView",
       "bar_style": "success",
       "description": "",
       "description_tooltip": null,
       "layout": "IPY_MODEL_7776ae614d234cc287a5926086af812c",
       "max": 420.0,
       "min": 0.0,
       "orientation": "horizontal",
       "style": "IPY_MODEL_7f460ac6f1d7453cba7e8fc2b5e94063",
       "value": 420.0
      }
     },
     "6607dcd3b62f4de888f5a81d5cbb87cd": {
      "model_module": "@jupyter-widgets/controls",
      "model_module_version": "1.5.0",
      "model_name": "FloatProgressModel",
      "state": {
       "_dom_classes": [],
       "_model_module": "@jupyter-widgets/controls",
       "_model_module_version": "1.5.0",
       "_model_name": "FloatProgressModel",
       "_view_count": null,
       "_view_module": "@jupyter-widgets/controls",
       "_view_module_version": "1.5.0",
       "_view_name": "ProgressView",
       "bar_style": "success",
       "description": "",
       "description_tooltip": null,
       "layout": "IPY_MODEL_bb26abc797b249f592d721e3c28e5f78",
       "max": 227141.0,
       "min": 0.0,
       "orientation": "horizontal",
       "style": "IPY_MODEL_747d98b5ae234b8884382e15b532b74f",
       "value": 227141.0
      }
     },
     "67bac026ad9c4f6d995d9fe82f14ae67": {
      "model_module": "@jupyter-widgets/base",
      "model_module_version": "1.2.0",
      "model_name": "LayoutModel",
      "state": {
       "_model_module": "@jupyter-widgets/base",
       "_model_module_version": "1.2.0",
       "_model_name": "LayoutModel",
       "_view_count": null,
       "_view_module": "@jupyter-widgets/base",
       "_view_module_version": "1.2.0",
       "_view_name": "LayoutView",
       "align_content": null,
       "align_items": null,
       "align_self": null,
       "border": null,
       "bottom": null,
       "display": null,
       "flex": null,
       "flex_flow": null,
       "grid_area": null,
       "grid_auto_columns": null,
       "grid_auto_flow": null,
       "grid_auto_rows": null,
       "grid_column": null,
       "grid_gap": null,
       "grid_row": null,
       "grid_template_areas": null,
       "grid_template_columns": null,
       "grid_template_rows": null,
       "height": null,
       "justify_content": null,
       "justify_items": null,
       "left": null,
       "margin": null,
       "max_height": null,
       "max_width": null,
       "min_height": null,
       "min_width": null,
       "object_fit": null,
       "object_position": null,
       "order": null,
       "overflow": null,
       "overflow_x": null,
       "overflow_y": null,
       "padding": null,
       "right": null,
       "top": null,
       "visibility": null,
       "width": null
      }
     },
     "6ec09c8308af400da6a1820aebadc406": {
      "model_module": "@jupyter-widgets/controls",
      "model_module_version": "1.5.0",
      "model_name": "HBoxModel",
      "state": {
       "_dom_classes": [],
       "_model_module": "@jupyter-widgets/controls",
       "_model_module_version": "1.5.0",
       "_model_name": "HBoxModel",
       "_view_count": null,
       "_view_module": "@jupyter-widgets/controls",
       "_view_module_version": "1.5.0",
       "_view_name": "HBoxView",
       "box_style": "",
       "children": [
        "IPY_MODEL_a0da206b8d92495b9e986b95cfc9f90d",
        "IPY_MODEL_24d477d58c47480b8d20b98fb192c605",
        "IPY_MODEL_bb9aac7951b04b31a6d949abb76ce618"
       ],
       "layout": "IPY_MODEL_bf41eea705a54750805aba03a6b2b0cd"
      }
     },
     "7078630a651940bc855257edbc4f59b9": {
      "model_module": "@jupyter-widgets/base",
      "model_module_version": "1.2.0",
      "model_name": "LayoutModel",
      "state": {
       "_model_module": "@jupyter-widgets/base",
       "_model_module_version": "1.2.0",
       "_model_name": "LayoutModel",
       "_view_count": null,
       "_view_module": "@jupyter-widgets/base",
       "_view_module_version": "1.2.0",
       "_view_name": "LayoutView",
       "align_content": null,
       "align_items": null,
       "align_self": null,
       "border": null,
       "bottom": null,
       "display": null,
       "flex": null,
       "flex_flow": null,
       "grid_area": null,
       "grid_auto_columns": null,
       "grid_auto_flow": null,
       "grid_auto_rows": null,
       "grid_column": null,
       "grid_gap": null,
       "grid_row": null,
       "grid_template_areas": null,
       "grid_template_columns": null,
       "grid_template_rows": null,
       "height": null,
       "justify_content": null,
       "justify_items": null,
       "left": null,
       "margin": null,
       "max_height": null,
       "max_width": null,
       "min_height": null,
       "min_width": null,
       "object_fit": null,
       "object_position": null,
       "order": null,
       "overflow": null,
       "overflow_x": null,
       "overflow_y": null,
       "padding": null,
       "right": null,
       "top": null,
       "visibility": null,
       "width": null
      }
     },
     "747d98b5ae234b8884382e15b532b74f": {
      "model_module": "@jupyter-widgets/controls",
      "model_module_version": "1.5.0",
      "model_name": "ProgressStyleModel",
      "state": {
       "_model_module": "@jupyter-widgets/controls",
       "_model_module_version": "1.5.0",
       "_model_name": "ProgressStyleModel",
       "_view_count": null,
       "_view_module": "@jupyter-widgets/base",
       "_view_module_version": "1.2.0",
       "_view_name": "StyleView",
       "bar_color": null,
       "description_width": ""
      }
     },
     "7776ae614d234cc287a5926086af812c": {
      "model_module": "@jupyter-widgets/base",
      "model_module_version": "1.2.0",
      "model_name": "LayoutModel",
      "state": {
       "_model_module": "@jupyter-widgets/base",
       "_model_module_version": "1.2.0",
       "_model_name": "LayoutModel",
       "_view_count": null,
       "_view_module": "@jupyter-widgets/base",
       "_view_module_version": "1.2.0",
       "_view_name": "LayoutView",
       "align_content": null,
       "align_items": null,
       "align_self": null,
       "border": null,
       "bottom": null,
       "display": null,
       "flex": null,
       "flex_flow": null,
       "grid_area": null,
       "grid_auto_columns": null,
       "grid_auto_flow": null,
       "grid_auto_rows": null,
       "grid_column": null,
       "grid_gap": null,
       "grid_row": null,
       "grid_template_areas": null,
       "grid_template_columns": null,
       "grid_template_rows": null,
       "height": null,
       "justify_content": null,
       "justify_items": null,
       "left": null,
       "margin": null,
       "max_height": null,
       "max_width": null,
       "min_height": null,
       "min_width": null,
       "object_fit": null,
       "object_position": null,
       "order": null,
       "overflow": null,
       "overflow_x": null,
       "overflow_y": null,
       "padding": null,
       "right": null,
       "top": null,
       "visibility": null,
       "width": null
      }
     },
     "7f460ac6f1d7453cba7e8fc2b5e94063": {
      "model_module": "@jupyter-widgets/controls",
      "model_module_version": "1.5.0",
      "model_name": "ProgressStyleModel",
      "state": {
       "_model_module": "@jupyter-widgets/controls",
       "_model_module_version": "1.5.0",
       "_model_name": "ProgressStyleModel",
       "_view_count": null,
       "_view_module": "@jupyter-widgets/base",
       "_view_module_version": "1.2.0",
       "_view_name": "StyleView",
       "bar_color": null,
       "description_width": ""
      }
     },
     "878446e07c3f49bebfe6f59ead6b6dd3": {
      "model_module": "@jupyter-widgets/base",
      "model_module_version": "1.2.0",
      "model_name": "LayoutModel",
      "state": {
       "_model_module": "@jupyter-widgets/base",
       "_model_module_version": "1.2.0",
       "_model_name": "LayoutModel",
       "_view_count": null,
       "_view_module": "@jupyter-widgets/base",
       "_view_module_version": "1.2.0",
       "_view_name": "LayoutView",
       "align_content": null,
       "align_items": null,
       "align_self": null,
       "border": null,
       "bottom": null,
       "display": null,
       "flex": null,
       "flex_flow": null,
       "grid_area": null,
       "grid_auto_columns": null,
       "grid_auto_flow": null,
       "grid_auto_rows": null,
       "grid_column": null,
       "grid_gap": null,
       "grid_row": null,
       "grid_template_areas": null,
       "grid_template_columns": null,
       "grid_template_rows": null,
       "height": null,
       "justify_content": null,
       "justify_items": null,
       "left": null,
       "margin": null,
       "max_height": null,
       "max_width": null,
       "min_height": null,
       "min_width": null,
       "object_fit": null,
       "object_position": null,
       "order": null,
       "overflow": null,
       "overflow_x": null,
       "overflow_y": null,
       "padding": null,
       "right": null,
       "top": null,
       "visibility": null,
       "width": null
      }
     },
     "8a7965c6cd794b9b839278ef98bef9f2": {
      "model_module": "@jupyter-widgets/base",
      "model_module_version": "1.2.0",
      "model_name": "LayoutModel",
      "state": {
       "_model_module": "@jupyter-widgets/base",
       "_model_module_version": "1.2.0",
       "_model_name": "LayoutModel",
       "_view_count": null,
       "_view_module": "@jupyter-widgets/base",
       "_view_module_version": "1.2.0",
       "_view_name": "LayoutView",
       "align_content": null,
       "align_items": null,
       "align_self": null,
       "border": null,
       "bottom": null,
       "display": null,
       "flex": null,
       "flex_flow": null,
       "grid_area": null,
       "grid_auto_columns": null,
       "grid_auto_flow": null,
       "grid_auto_rows": null,
       "grid_column": null,
       "grid_gap": null,
       "grid_row": null,
       "grid_template_areas": null,
       "grid_template_columns": null,
       "grid_template_rows": null,
       "height": null,
       "justify_content": null,
       "justify_items": null,
       "left": null,
       "margin": null,
       "max_height": null,
       "max_width": null,
       "min_height": null,
       "min_width": null,
       "object_fit": null,
       "object_position": null,
       "order": null,
       "overflow": null,
       "overflow_x": null,
       "overflow_y": null,
       "padding": null,
       "right": null,
       "top": null,
       "visibility": null,
       "width": null
      }
     },
     "902f8ac9e40b492bbb6c11af00e117c5": {
      "model_module": "@jupyter-widgets/controls",
      "model_module_version": "1.5.0",
      "model_name": "HTMLModel",
      "state": {
       "_dom_classes": [],
       "_model_module": "@jupyter-widgets/controls",
       "_model_module_version": "1.5.0",
       "_model_name": "HTMLModel",
       "_view_count": null,
       "_view_module": "@jupyter-widgets/controls",
       "_view_module_version": "1.5.0",
       "_view_name": "HTMLView",
       "description": "",
       "description_tooltip": null,
       "layout": "IPY_MODEL_18a23c845555478e9d12c5c503eca2fa",
       "placeholder": "​",
       "style": "IPY_MODEL_c1af5023480d4922a7e017b21591b0b4",
       "value": " 83.0/83.0 [00:00&lt;00:00, 3.25kB/s]"
      }
     },
     "960f124a55c24633b2b59f33fa930ef5": {
      "model_module": "@jupyter-widgets/base",
      "model_module_version": "1.2.0",
      "model_name": "LayoutModel",
      "state": {
       "_model_module": "@jupyter-widgets/base",
       "_model_module_version": "1.2.0",
       "_model_name": "LayoutModel",
       "_view_count": null,
       "_view_module": "@jupyter-widgets/base",
       "_view_module_version": "1.2.0",
       "_view_name": "LayoutView",
       "align_content": null,
       "align_items": null,
       "align_self": null,
       "border": null,
       "bottom": null,
       "display": null,
       "flex": null,
       "flex_flow": null,
       "grid_area": null,
       "grid_auto_columns": null,
       "grid_auto_flow": null,
       "grid_auto_rows": null,
       "grid_column": null,
       "grid_gap": null,
       "grid_row": null,
       "grid_template_areas": null,
       "grid_template_columns": null,
       "grid_template_rows": null,
       "height": null,
       "justify_content": null,
       "justify_items": null,
       "left": null,
       "margin": null,
       "max_height": null,
       "max_width": null,
       "min_height": null,
       "min_width": null,
       "object_fit": null,
       "object_position": null,
       "order": null,
       "overflow": null,
       "overflow_x": null,
       "overflow_y": null,
       "padding": null,
       "right": null,
       "top": null,
       "visibility": null,
       "width": null
      }
     },
     "98461259903f4e9496f3e0a39e9d22bd": {
      "model_module": "@jupyter-widgets/base",
      "model_module_version": "1.2.0",
      "model_name": "LayoutModel",
      "state": {
       "_model_module": "@jupyter-widgets/base",
       "_model_module_version": "1.2.0",
       "_model_name": "LayoutModel",
       "_view_count": null,
       "_view_module": "@jupyter-widgets/base",
       "_view_module_version": "1.2.0",
       "_view_name": "LayoutView",
       "align_content": null,
       "align_items": null,
       "align_self": null,
       "border": null,
       "bottom": null,
       "display": null,
       "flex": null,
       "flex_flow": null,
       "grid_area": null,
       "grid_auto_columns": null,
       "grid_auto_flow": null,
       "grid_auto_rows": null,
       "grid_column": null,
       "grid_gap": null,
       "grid_row": null,
       "grid_template_areas": null,
       "grid_template_columns": null,
       "grid_template_rows": null,
       "height": null,
       "justify_content": null,
       "justify_items": null,
       "left": null,
       "margin": null,
       "max_height": null,
       "max_width": null,
       "min_height": null,
       "min_width": null,
       "object_fit": null,
       "object_position": null,
       "order": null,
       "overflow": null,
       "overflow_x": null,
       "overflow_y": null,
       "padding": null,
       "right": null,
       "top": null,
       "visibility": null,
       "width": null
      }
     },
     "9b321a3022814229b5b5fcca920756a8": {
      "model_module": "@jupyter-widgets/controls",
      "model_module_version": "1.5.0",
      "model_name": "DescriptionStyleModel",
      "state": {
       "_model_module": "@jupyter-widgets/controls",
       "_model_module_version": "1.5.0",
       "_model_name": "DescriptionStyleModel",
       "_view_count": null,
       "_view_module": "@jupyter-widgets/base",
       "_view_module_version": "1.2.0",
       "_view_name": "StyleView",
       "description_width": ""
      }
     },
     "9b500659c80746a2b84107086c3e1c6b": {
      "model_module": "@jupyter-widgets/base",
      "model_module_version": "1.2.0",
      "model_name": "LayoutModel",
      "state": {
       "_model_module": "@jupyter-widgets/base",
       "_model_module_version": "1.2.0",
       "_model_name": "LayoutModel",
       "_view_count": null,
       "_view_module": "@jupyter-widgets/base",
       "_view_module_version": "1.2.0",
       "_view_name": "LayoutView",
       "align_content": null,
       "align_items": null,
       "align_self": null,
       "border": null,
       "bottom": null,
       "display": null,
       "flex": null,
       "flex_flow": null,
       "grid_area": null,
       "grid_auto_columns": null,
       "grid_auto_flow": null,
       "grid_auto_rows": null,
       "grid_column": null,
       "grid_gap": null,
       "grid_row": null,
       "grid_template_areas": null,
       "grid_template_columns": null,
       "grid_template_rows": null,
       "height": null,
       "justify_content": null,
       "justify_items": null,
       "left": null,
       "margin": null,
       "max_height": null,
       "max_width": null,
       "min_height": null,
       "min_width": null,
       "object_fit": null,
       "object_position": null,
       "order": null,
       "overflow": null,
       "overflow_x": null,
       "overflow_y": null,
       "padding": null,
       "right": null,
       "top": null,
       "visibility": null,
       "width": null
      }
     },
     "a0da206b8d92495b9e986b95cfc9f90d": {
      "model_module": "@jupyter-widgets/controls",
      "model_module_version": "1.5.0",
      "model_name": "HTMLModel",
      "state": {
       "_dom_classes": [],
       "_model_module": "@jupyter-widgets/controls",
       "_model_module_version": "1.5.0",
       "_model_name": "HTMLModel",
       "_view_count": null,
       "_view_module": "@jupyter-widgets/controls",
       "_view_module_version": "1.5.0",
       "_view_name": "HTMLView",
       "description": "",
       "description_tooltip": null,
       "layout": "IPY_MODEL_878446e07c3f49bebfe6f59ead6b6dd3",
       "placeholder": "​",
       "style": "IPY_MODEL_bb6a16cbf4204e8ba3e78093b6694254",
       "value": "Downloading: 100%"
      }
     },
     "a914d073866344ada8860a6366f23786": {
      "model_module": "@jupyter-widgets/controls",
      "model_module_version": "1.5.0",
      "model_name": "HTMLModel",
      "state": {
       "_dom_classes": [],
       "_model_module": "@jupyter-widgets/controls",
       "_model_module_version": "1.5.0",
       "_model_name": "HTMLModel",
       "_view_count": null,
       "_view_module": "@jupyter-widgets/controls",
       "_view_module_version": "1.5.0",
       "_view_name": "HTMLView",
       "description": "",
       "description_tooltip": null,
       "layout": "IPY_MODEL_7078630a651940bc855257edbc4f59b9",
       "placeholder": "​",
       "style": "IPY_MODEL_e1acac8b12764bf78c8935651a986afc",
       "value": "Downloading: 100%"
      }
     },
     "b5d2f5e18bd54b7b914c396916fd1e9c": {
      "model_module": "@jupyter-widgets/controls",
      "model_module_version": "1.5.0",
      "model_name": "ProgressStyleModel",
      "state": {
       "_model_module": "@jupyter-widgets/controls",
       "_model_module_version": "1.5.0",
       "_model_name": "ProgressStyleModel",
       "_view_count": null,
       "_view_module": "@jupyter-widgets/base",
       "_view_module_version": "1.2.0",
       "_view_name": "StyleView",
       "bar_color": null,
       "description_width": ""
      }
     },
     "bb26abc797b249f592d721e3c28e5f78": {
      "model_module": "@jupyter-widgets/base",
      "model_module_version": "1.2.0",
      "model_name": "LayoutModel",
      "state": {
       "_model_module": "@jupyter-widgets/base",
       "_model_module_version": "1.2.0",
       "_model_name": "LayoutModel",
       "_view_count": null,
       "_view_module": "@jupyter-widgets/base",
       "_view_module_version": "1.2.0",
       "_view_name": "LayoutView",
       "align_content": null,
       "align_items": null,
       "align_self": null,
       "border": null,
       "bottom": null,
       "display": null,
       "flex": null,
       "flex_flow": null,
       "grid_area": null,
       "grid_auto_columns": null,
       "grid_auto_flow": null,
       "grid_auto_rows": null,
       "grid_column": null,
       "grid_gap": null,
       "grid_row": null,
       "grid_template_areas": null,
       "grid_template_columns": null,
       "grid_template_rows": null,
       "height": null,
       "justify_content": null,
       "justify_items": null,
       "left": null,
       "margin": null,
       "max_height": null,
       "max_width": null,
       "min_height": null,
       "min_width": null,
       "object_fit": null,
       "object_position": null,
       "order": null,
       "overflow": null,
       "overflow_x": null,
       "overflow_y": null,
       "padding": null,
       "right": null,
       "top": null,
       "visibility": null,
       "width": null
      }
     },
     "bb311ca792924f41a5f66d8bf662ab12": {
      "model_module": "@jupyter-widgets/controls",
      "model_module_version": "1.5.0",
      "model_name": "HTMLModel",
      "state": {
       "_dom_classes": [],
       "_model_module": "@jupyter-widgets/controls",
       "_model_module_version": "1.5.0",
       "_model_name": "HTMLModel",
       "_view_count": null,
       "_view_module": "@jupyter-widgets/controls",
       "_view_module_version": "1.5.0",
       "_view_name": "HTMLView",
       "description": "",
       "description_tooltip": null,
       "layout": "IPY_MODEL_960f124a55c24633b2b59f33fa930ef5",
       "placeholder": "​",
       "style": "IPY_MODEL_314b32333f5d4f709faed109c345b1d8",
       "value": "Downloading: 100%"
      }
     },
     "bb6a16cbf4204e8ba3e78093b6694254": {
      "model_module": "@jupyter-widgets/controls",
      "model_module_version": "1.5.0",
      "model_name": "DescriptionStyleModel",
      "state": {
       "_model_module": "@jupyter-widgets/controls",
       "_model_module_version": "1.5.0",
       "_model_name": "DescriptionStyleModel",
       "_view_count": null,
       "_view_module": "@jupyter-widgets/base",
       "_view_module_version": "1.2.0",
       "_view_name": "StyleView",
       "description_width": ""
      }
     },
     "bb9aac7951b04b31a6d949abb76ce618": {
      "model_module": "@jupyter-widgets/controls",
      "model_module_version": "1.5.0",
      "model_name": "HTMLModel",
      "state": {
       "_dom_classes": [],
       "_model_module": "@jupyter-widgets/controls",
       "_model_module_version": "1.5.0",
       "_model_name": "HTMLModel",
       "_view_count": null,
       "_view_module": "@jupyter-widgets/controls",
       "_view_module_version": "1.5.0",
       "_view_name": "HTMLView",
       "description": "",
       "description_tooltip": null,
       "layout": "IPY_MODEL_98461259903f4e9496f3e0a39e9d22bd",
       "placeholder": "​",
       "style": "IPY_MODEL_9b321a3022814229b5b5fcca920756a8",
       "value": " 445M/445M [00:37&lt;00:00, 12.5MB/s]"
      }
     },
     "bf25714cc30841708130bf15ce2127e2": {
      "model_module": "@jupyter-widgets/controls",
      "model_module_version": "1.5.0",
      "model_name": "HTMLModel",
      "state": {
       "_dom_classes": [],
       "_model_module": "@jupyter-widgets/controls",
       "_model_module_version": "1.5.0",
       "_model_name": "HTMLModel",
       "_view_count": null,
       "_view_module": "@jupyter-widgets/controls",
       "_view_module_version": "1.5.0",
       "_view_name": "HTMLView",
       "description": "",
       "description_tooltip": null,
       "layout": "IPY_MODEL_bf46fbc2dab94e2c8198804d448c9a7f",
       "placeholder": "​",
       "style": "IPY_MODEL_eb222109e94e4f59a1ba8bfa96d46e21",
       "value": " 227k/227k [00:00&lt;00:00, 309kB/s]"
      }
     },
     "bf41eea705a54750805aba03a6b2b0cd": {
      "model_module": "@jupyter-widgets/base",
      "model_module_version": "1.2.0",
      "model_name": "LayoutModel",
      "state": {
       "_model_module": "@jupyter-widgets/base",
       "_model_module_version": "1.2.0",
       "_model_name": "LayoutModel",
       "_view_count": null,
       "_view_module": "@jupyter-widgets/base",
       "_view_module_version": "1.2.0",
       "_view_name": "LayoutView",
       "align_content": null,
       "align_items": null,
       "align_self": null,
       "border": null,
       "bottom": null,
       "display": null,
       "flex": null,
       "flex_flow": null,
       "grid_area": null,
       "grid_auto_columns": null,
       "grid_auto_flow": null,
       "grid_auto_rows": null,
       "grid_column": null,
       "grid_gap": null,
       "grid_row": null,
       "grid_template_areas": null,
       "grid_template_columns": null,
       "grid_template_rows": null,
       "height": null,
       "justify_content": null,
       "justify_items": null,
       "left": null,
       "margin": null,
       "max_height": null,
       "max_width": null,
       "min_height": null,
       "min_width": null,
       "object_fit": null,
       "object_position": null,
       "order": null,
       "overflow": null,
       "overflow_x": null,
       "overflow_y": null,
       "padding": null,
       "right": null,
       "top": null,
       "visibility": null,
       "width": null
      }
     },
     "bf46fbc2dab94e2c8198804d448c9a7f": {
      "model_module": "@jupyter-widgets/base",
      "model_module_version": "1.2.0",
      "model_name": "LayoutModel",
      "state": {
       "_model_module": "@jupyter-widgets/base",
       "_model_module_version": "1.2.0",
       "_model_name": "LayoutModel",
       "_view_count": null,
       "_view_module": "@jupyter-widgets/base",
       "_view_module_version": "1.2.0",
       "_view_name": "LayoutView",
       "align_content": null,
       "align_items": null,
       "align_self": null,
       "border": null,
       "bottom": null,
       "display": null,
       "flex": null,
       "flex_flow": null,
       "grid_area": null,
       "grid_auto_columns": null,
       "grid_auto_flow": null,
       "grid_auto_rows": null,
       "grid_column": null,
       "grid_gap": null,
       "grid_row": null,
       "grid_template_areas": null,
       "grid_template_columns": null,
       "grid_template_rows": null,
       "height": null,
       "justify_content": null,
       "justify_items": null,
       "left": null,
       "margin": null,
       "max_height": null,
       "max_width": null,
       "min_height": null,
       "min_width": null,
       "object_fit": null,
       "object_position": null,
       "order": null,
       "overflow": null,
       "overflow_x": null,
       "overflow_y": null,
       "padding": null,
       "right": null,
       "top": null,
       "visibility": null,
       "width": null
      }
     },
     "c05ee00209ef4244bce9bea924faf3bf": {
      "model_module": "@jupyter-widgets/controls",
      "model_module_version": "1.5.0",
      "model_name": "HTMLModel",
      "state": {
       "_dom_classes": [],
       "_model_module": "@jupyter-widgets/controls",
       "_model_module_version": "1.5.0",
       "_model_name": "HTMLModel",
       "_view_count": null,
       "_view_module": "@jupyter-widgets/controls",
       "_view_module_version": "1.5.0",
       "_view_name": "HTMLView",
       "description": "",
       "description_tooltip": null,
       "layout": "IPY_MODEL_f3f39d52eca14fa7bac120002fea858c",
       "placeholder": "​",
       "style": "IPY_MODEL_d58d5b6a15704bfc88be3d6eeafb57f4",
       "value": "Downloading: 100%"
      }
     },
     "c1af5023480d4922a7e017b21591b0b4": {
      "model_module": "@jupyter-widgets/controls",
      "model_module_version": "1.5.0",
      "model_name": "DescriptionStyleModel",
      "state": {
       "_model_module": "@jupyter-widgets/controls",
       "_model_module_version": "1.5.0",
       "_model_name": "DescriptionStyleModel",
       "_view_count": null,
       "_view_module": "@jupyter-widgets/base",
       "_view_module_version": "1.2.0",
       "_view_name": "StyleView",
       "description_width": ""
      }
     },
     "c8fa298be20a48c1be5e195583353723": {
      "model_module": "@jupyter-widgets/base",
      "model_module_version": "1.2.0",
      "model_name": "LayoutModel",
      "state": {
       "_model_module": "@jupyter-widgets/base",
       "_model_module_version": "1.2.0",
       "_model_name": "LayoutModel",
       "_view_count": null,
       "_view_module": "@jupyter-widgets/base",
       "_view_module_version": "1.2.0",
       "_view_name": "LayoutView",
       "align_content": null,
       "align_items": null,
       "align_self": null,
       "border": null,
       "bottom": null,
       "display": null,
       "flex": null,
       "flex_flow": null,
       "grid_area": null,
       "grid_auto_columns": null,
       "grid_auto_flow": null,
       "grid_auto_rows": null,
       "grid_column": null,
       "grid_gap": null,
       "grid_row": null,
       "grid_template_areas": null,
       "grid_template_columns": null,
       "grid_template_rows": null,
       "height": null,
       "justify_content": null,
       "justify_items": null,
       "left": null,
       "margin": null,
       "max_height": null,
       "max_width": null,
       "min_height": null,
       "min_width": null,
       "object_fit": null,
       "object_position": null,
       "order": null,
       "overflow": null,
       "overflow_x": null,
       "overflow_y": null,
       "padding": null,
       "right": null,
       "top": null,
       "visibility": null,
       "width": null
      }
     },
     "cc5bdbd177f540e3b9e40d9b5bb85f5e": {
      "model_module": "@jupyter-widgets/base",
      "model_module_version": "1.2.0",
      "model_name": "LayoutModel",
      "state": {
       "_model_module": "@jupyter-widgets/base",
       "_model_module_version": "1.2.0",
       "_model_name": "LayoutModel",
       "_view_count": null,
       "_view_module": "@jupyter-widgets/base",
       "_view_module_version": "1.2.0",
       "_view_name": "LayoutView",
       "align_content": null,
       "align_items": null,
       "align_self": null,
       "border": null,
       "bottom": null,
       "display": null,
       "flex": null,
       "flex_flow": null,
       "grid_area": null,
       "grid_auto_columns": null,
       "grid_auto_flow": null,
       "grid_auto_rows": null,
       "grid_column": null,
       "grid_gap": null,
       "grid_row": null,
       "grid_template_areas": null,
       "grid_template_columns": null,
       "grid_template_rows": null,
       "height": null,
       "justify_content": null,
       "justify_items": null,
       "left": null,
       "margin": null,
       "max_height": null,
       "max_width": null,
       "min_height": null,
       "min_width": null,
       "object_fit": null,
       "object_position": null,
       "order": null,
       "overflow": null,
       "overflow_x": null,
       "overflow_y": null,
       "padding": null,
       "right": null,
       "top": null,
       "visibility": null,
       "width": null
      }
     },
     "d58d5b6a15704bfc88be3d6eeafb57f4": {
      "model_module": "@jupyter-widgets/controls",
      "model_module_version": "1.5.0",
      "model_name": "DescriptionStyleModel",
      "state": {
       "_model_module": "@jupyter-widgets/controls",
       "_model_module_version": "1.5.0",
       "_model_name": "DescriptionStyleModel",
       "_view_count": null,
       "_view_module": "@jupyter-widgets/base",
       "_view_module_version": "1.2.0",
       "_view_name": "StyleView",
       "description_width": ""
      }
     },
     "e1acac8b12764bf78c8935651a986afc": {
      "model_module": "@jupyter-widgets/controls",
      "model_module_version": "1.5.0",
      "model_name": "DescriptionStyleModel",
      "state": {
       "_model_module": "@jupyter-widgets/controls",
       "_model_module_version": "1.5.0",
       "_model_name": "DescriptionStyleModel",
       "_view_count": null,
       "_view_module": "@jupyter-widgets/base",
       "_view_module_version": "1.2.0",
       "_view_name": "StyleView",
       "description_width": ""
      }
     },
     "eb222109e94e4f59a1ba8bfa96d46e21": {
      "model_module": "@jupyter-widgets/controls",
      "model_module_version": "1.5.0",
      "model_name": "DescriptionStyleModel",
      "state": {
       "_model_module": "@jupyter-widgets/controls",
       "_model_module_version": "1.5.0",
       "_model_name": "DescriptionStyleModel",
       "_view_count": null,
       "_view_module": "@jupyter-widgets/base",
       "_view_module_version": "1.2.0",
       "_view_name": "StyleView",
       "description_width": ""
      }
     },
     "f3f39d52eca14fa7bac120002fea858c": {
      "model_module": "@jupyter-widgets/base",
      "model_module_version": "1.2.0",
      "model_name": "LayoutModel",
      "state": {
       "_model_module": "@jupyter-widgets/base",
       "_model_module_version": "1.2.0",
       "_model_name": "LayoutModel",
       "_view_count": null,
       "_view_module": "@jupyter-widgets/base",
       "_view_module_version": "1.2.0",
       "_view_name": "LayoutView",
       "align_content": null,
       "align_items": null,
       "align_self": null,
       "border": null,
       "bottom": null,
       "display": null,
       "flex": null,
       "flex_flow": null,
       "grid_area": null,
       "grid_auto_columns": null,
       "grid_auto_flow": null,
       "grid_auto_rows": null,
       "grid_column": null,
       "grid_gap": null,
       "grid_row": null,
       "grid_template_areas": null,
       "grid_template_columns": null,
       "grid_template_rows": null,
       "height": null,
       "justify_content": null,
       "justify_items": null,
       "left": null,
       "margin": null,
       "max_height": null,
       "max_width": null,
       "min_height": null,
       "min_width": null,
       "object_fit": null,
       "object_position": null,
       "order": null,
       "overflow": null,
       "overflow_x": null,
       "overflow_y": null,
       "padding": null,
       "right": null,
       "top": null,
       "visibility": null,
       "width": null
      }
     },
     "ff582b434c2b48ad9099acffa810891a": {
      "model_module": "@jupyter-widgets/controls",
      "model_module_version": "1.5.0",
      "model_name": "HTMLModel",
      "state": {
       "_dom_classes": [],
       "_model_module": "@jupyter-widgets/controls",
       "_model_module_version": "1.5.0",
       "_model_name": "HTMLModel",
       "_view_count": null,
       "_view_module": "@jupyter-widgets/controls",
       "_view_module_version": "1.5.0",
       "_view_name": "HTMLView",
       "description": "",
       "description_tooltip": null,
       "layout": "IPY_MODEL_8a7965c6cd794b9b839278ef98bef9f2",
       "placeholder": "​",
       "style": "IPY_MODEL_22ca37cf92e24459b6b6052ba5f4ffaf",
       "value": " 420/420 [00:00&lt;00:00, 16.0kB/s]"
      }
     }
    },
    "version_major": 2,
    "version_minor": 0
   }
  }
 },
 "nbformat": 4,
 "nbformat_minor": 5
}
