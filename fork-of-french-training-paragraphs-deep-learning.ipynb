{
 "cells": [
  {
   "cell_type": "code",
   "execution_count": 1,
   "id": "487d2c64",
   "metadata": {
    "_cell_guid": "b1076dfc-b9ad-4769-8c92-a6c4dae69d19",
    "_uuid": "8f2839f25d086af736a60e9eeb907d3b93b6e0e5",
    "execution": {
     "iopub.execute_input": "2022-07-01T19:27:58.462725Z",
     "iopub.status.busy": "2022-07-01T19:27:58.461945Z",
     "iopub.status.idle": "2022-07-01T19:28:06.510197Z",
     "shell.execute_reply": "2022-07-01T19:28:06.509545Z",
     "shell.execute_reply.started": "2022-07-01T19:21:33.399439Z"
    },
    "papermill": {
     "duration": 8.116526,
     "end_time": "2022-07-01T19:28:06.510358",
     "exception": false,
     "start_time": "2022-07-01T19:27:58.393832",
     "status": "completed"
    },
    "tags": []
   },
   "outputs": [],
   "source": [
    "import os\n",
    "\n",
    "import random\n",
    "import numpy as np\n",
    "\n",
    "import pandas as pd\n",
    "import torch\n",
    "from torch.utils.data import Dataset, random_split\n",
    "from transformers import (\n",
    "    AdamW,\n",
    "    Trainer,\n",
    "    TrainingArguments,\n",
    "    AutoTokenizer,\n",
    "    AutoModelForSequenceClassification,\n",
    "    get_cosine_schedule_with_warmup,\n",
    ")\n",
    "from sklearn.preprocessing import LabelEncoder\n",
    "from sklearn.metrics import accuracy_score\n",
    "import warnings\n",
    "warnings.filterwarnings('ignore')"
   ]
  },
  {
   "cell_type": "code",
   "execution_count": 2,
   "id": "72ab58fc",
   "metadata": {
    "execution": {
     "iopub.execute_input": "2022-07-01T19:28:06.594960Z",
     "iopub.status.busy": "2022-07-01T19:28:06.594340Z",
     "iopub.status.idle": "2022-07-01T19:28:06.610442Z",
     "shell.execute_reply": "2022-07-01T19:28:06.610021Z",
     "shell.execute_reply.started": "2022-07-01T19:21:33.598097Z"
    },
    "papermill": {
     "duration": 0.059623,
     "end_time": "2022-07-01T19:28:06.610587",
     "exception": false,
     "start_time": "2022-07-01T19:28:06.550964",
     "status": "completed"
    },
    "tags": []
   },
   "outputs": [],
   "source": [
    "new_data=pd.read_csv(\"../input/csvvvv/Classeur 1 (5).csv\")"
   ]
  },
  {
   "cell_type": "code",
   "execution_count": 3,
   "id": "cce41332",
   "metadata": {
    "execution": {
     "iopub.execute_input": "2022-07-01T19:28:06.704909Z",
     "iopub.status.busy": "2022-07-01T19:28:06.697440Z",
     "iopub.status.idle": "2022-07-01T19:28:06.707334Z",
     "shell.execute_reply": "2022-07-01T19:28:06.706883Z",
     "shell.execute_reply.started": "2022-07-01T19:21:33.618508Z"
    },
    "papermill": {
     "duration": 0.056254,
     "end_time": "2022-07-01T19:28:06.707449",
     "exception": false,
     "start_time": "2022-07-01T19:28:06.651195",
     "status": "completed"
    },
    "tags": []
   },
   "outputs": [],
   "source": [
    "new_data.drop([\"Y\",\"Word Count\",\"Language\",' '], axis=1, inplace=True)\n",
    "new_data.columns = [\"text\", \"CEFR Review\",\"CEFR Level_Samar\"]"
   ]
  },
  {
   "cell_type": "code",
   "execution_count": 4,
   "id": "0bbe214f",
   "metadata": {
    "execution": {
     "iopub.execute_input": "2022-07-01T19:28:06.793730Z",
     "iopub.status.busy": "2022-07-01T19:28:06.793081Z",
     "iopub.status.idle": "2022-07-01T19:28:06.796266Z",
     "shell.execute_reply": "2022-07-01T19:28:06.796685Z",
     "shell.execute_reply.started": "2022-07-01T19:21:33.707379Z"
    },
    "papermill": {
     "duration": 0.049965,
     "end_time": "2022-07-01T19:28:06.796819",
     "exception": false,
     "start_time": "2022-07-01T19:28:06.746854",
     "status": "completed"
    },
    "tags": []
   },
   "outputs": [
    {
     "data": {
      "text/plain": [
       "(191, 3)"
      ]
     },
     "execution_count": 4,
     "metadata": {},
     "output_type": "execute_result"
    }
   ],
   "source": [
    "new_data.shape"
   ]
  },
  {
   "cell_type": "code",
   "execution_count": 5,
   "id": "0c0edfa6",
   "metadata": {
    "execution": {
     "iopub.execute_input": "2022-07-01T19:28:06.881228Z",
     "iopub.status.busy": "2022-07-01T19:28:06.880344Z",
     "iopub.status.idle": "2022-07-01T19:28:06.889088Z",
     "shell.execute_reply": "2022-07-01T19:28:06.889460Z",
     "shell.execute_reply.started": "2022-07-01T19:21:33.878042Z"
    },
    "papermill": {
     "duration": 0.053527,
     "end_time": "2022-07-01T19:28:06.889635",
     "exception": false,
     "start_time": "2022-07-01T19:28:06.836108",
     "status": "completed"
    },
    "tags": []
   },
   "outputs": [
    {
     "data": {
      "text/html": [
       "<div>\n",
       "<style scoped>\n",
       "    .dataframe tbody tr th:only-of-type {\n",
       "        vertical-align: middle;\n",
       "    }\n",
       "\n",
       "    .dataframe tbody tr th {\n",
       "        vertical-align: top;\n",
       "    }\n",
       "\n",
       "    .dataframe thead th {\n",
       "        text-align: right;\n",
       "    }\n",
       "</style>\n",
       "<table border=\"1\" class=\"dataframe\">\n",
       "  <thead>\n",
       "    <tr style=\"text-align: right;\">\n",
       "      <th></th>\n",
       "      <th>text</th>\n",
       "      <th>CEFR Review</th>\n",
       "      <th>CEFR Level_Samar</th>\n",
       "    </tr>\n",
       "  </thead>\n",
       "  <tbody>\n",
       "    <tr>\n",
       "      <th>0</th>\n",
       "      <td>En 1815, M. Charles-François-Bienvenu Myriel é...</td>\n",
       "      <td>A2</td>\n",
       "      <td>C1</td>\n",
       "    </tr>\n",
       "    <tr>\n",
       "      <th>1</th>\n",
       "      <td>Quoique ce détail ne touche en aucune manière ...</td>\n",
       "      <td>C1</td>\n",
       "      <td>C2</td>\n",
       "    </tr>\n",
       "  </tbody>\n",
       "</table>\n",
       "</div>"
      ],
      "text/plain": [
       "                                                text CEFR Review  \\\n",
       "0  En 1815, M. Charles-François-Bienvenu Myriel é...          A2   \n",
       "1  Quoique ce détail ne touche en aucune manière ...          C1   \n",
       "\n",
       "  CEFR Level_Samar  \n",
       "0               C1  \n",
       "1               C2  "
      ]
     },
     "execution_count": 5,
     "metadata": {},
     "output_type": "execute_result"
    }
   ],
   "source": [
    "new_data.head(2)"
   ]
  },
  {
   "cell_type": "code",
   "execution_count": 6,
   "id": "b774f726",
   "metadata": {
    "execution": {
     "iopub.execute_input": "2022-07-01T19:28:07.028641Z",
     "iopub.status.busy": "2022-07-01T19:28:07.027918Z",
     "iopub.status.idle": "2022-07-01T19:28:07.039650Z",
     "shell.execute_reply": "2022-07-01T19:28:07.039176Z",
     "shell.execute_reply.started": "2022-07-01T19:21:33.911574Z"
    },
    "papermill": {
     "duration": 0.110106,
     "end_time": "2022-07-01T19:28:07.039770",
     "exception": false,
     "start_time": "2022-07-01T19:28:06.929664",
     "status": "completed"
    },
    "tags": []
   },
   "outputs": [
    {
     "data": {
      "text/html": [
       "<div>\n",
       "<style scoped>\n",
       "    .dataframe tbody tr th:only-of-type {\n",
       "        vertical-align: middle;\n",
       "    }\n",
       "\n",
       "    .dataframe tbody tr th {\n",
       "        vertical-align: top;\n",
       "    }\n",
       "\n",
       "    .dataframe thead th {\n",
       "        text-align: right;\n",
       "    }\n",
       "</style>\n",
       "<table border=\"1\" class=\"dataframe\">\n",
       "  <thead>\n",
       "    <tr style=\"text-align: right;\">\n",
       "      <th></th>\n",
       "      <th>text</th>\n",
       "      <th>label</th>\n",
       "    </tr>\n",
       "  </thead>\n",
       "  <tbody>\n",
       "    <tr>\n",
       "      <th>0</th>\n",
       "      <td>En 1815, M. Charles-François-Bienvenu Myriel é...</td>\n",
       "      <td>C1</td>\n",
       "    </tr>\n",
       "    <tr>\n",
       "      <th>1</th>\n",
       "      <td>Quoique ce détail ne touche en aucune manière ...</td>\n",
       "      <td>C2</td>\n",
       "    </tr>\n",
       "    <tr>\n",
       "      <th>2</th>\n",
       "      <td>En 1804, M. Myriel était curé de Brignolles. I...</td>\n",
       "      <td>C1</td>\n",
       "    </tr>\n",
       "    <tr>\n",
       "      <th>3</th>\n",
       "      <td>Vers l'époque du couronnement, une petite affa...</td>\n",
       "      <td>C2</td>\n",
       "    </tr>\n",
       "    <tr>\n",
       "      <th>4</th>\n",
       "      <td>—Quel est ce bonhomme qui me regarde?</td>\n",
       "      <td>C1</td>\n",
       "    </tr>\n",
       "  </tbody>\n",
       "</table>\n",
       "</div>"
      ],
      "text/plain": [
       "                                                text label\n",
       "0  En 1815, M. Charles-François-Bienvenu Myriel é...    C1\n",
       "1  Quoique ce détail ne touche en aucune manière ...    C2\n",
       "2  En 1804, M. Myriel était curé de Brignolles. I...    C1\n",
       "3  Vers l'époque du couronnement, une petite affa...    C2\n",
       "4              —Quel est ce bonhomme qui me regarde?    C1"
      ]
     },
     "execution_count": 6,
     "metadata": {},
     "output_type": "execute_result"
    }
   ],
   "source": [
    "mike_20_june_samar=new_data[pd.notnull(new_data['CEFR Level_Samar'])]\n",
    "mike_20_june_samar.columns = [\"text\", \"CEFR Review\",\"label\"]\n",
    "mike_20_june_samar.drop([\"CEFR Review\"],axis=1, inplace=True)\n",
    "mike_20_june_samar.to_csv(\"mike_20_june_samar.csv\" , index=False)\n",
    "mike_20_june_samar.head()"
   ]
  },
  {
   "cell_type": "code",
   "execution_count": 7,
   "id": "ccab250b",
   "metadata": {
    "execution": {
     "iopub.execute_input": "2022-07-01T19:28:07.128156Z",
     "iopub.status.busy": "2022-07-01T19:28:07.127320Z",
     "iopub.status.idle": "2022-07-01T19:28:07.137822Z",
     "shell.execute_reply": "2022-07-01T19:28:07.137363Z",
     "shell.execute_reply.started": "2022-07-01T19:21:34.019137Z"
    },
    "papermill": {
     "duration": 0.057793,
     "end_time": "2022-07-01T19:28:07.137945",
     "exception": false,
     "start_time": "2022-07-01T19:28:07.080152",
     "status": "completed"
    },
    "tags": []
   },
   "outputs": [
    {
     "data": {
      "text/html": [
       "<div>\n",
       "<style scoped>\n",
       "    .dataframe tbody tr th:only-of-type {\n",
       "        vertical-align: middle;\n",
       "    }\n",
       "\n",
       "    .dataframe tbody tr th {\n",
       "        vertical-align: top;\n",
       "    }\n",
       "\n",
       "    .dataframe thead th {\n",
       "        text-align: right;\n",
       "    }\n",
       "</style>\n",
       "<table border=\"1\" class=\"dataframe\">\n",
       "  <thead>\n",
       "    <tr style=\"text-align: right;\">\n",
       "      <th></th>\n",
       "      <th>text</th>\n",
       "      <th>label</th>\n",
       "    </tr>\n",
       "  </thead>\n",
       "  <tbody>\n",
       "    <tr>\n",
       "      <th>0</th>\n",
       "      <td>En 1815, M. Charles-François-Bienvenu Myriel é...</td>\n",
       "      <td>A2</td>\n",
       "    </tr>\n",
       "    <tr>\n",
       "      <th>1</th>\n",
       "      <td>Quoique ce détail ne touche en aucune manière ...</td>\n",
       "      <td>C1</td>\n",
       "    </tr>\n",
       "    <tr>\n",
       "      <th>2</th>\n",
       "      <td>En 1804, M. Myriel était curé de Brignolles. I...</td>\n",
       "      <td>A2</td>\n",
       "    </tr>\n",
       "    <tr>\n",
       "      <th>3</th>\n",
       "      <td>Vers l'époque du couronnement, une petite affa...</td>\n",
       "      <td>B2</td>\n",
       "    </tr>\n",
       "    <tr>\n",
       "      <th>4</th>\n",
       "      <td>—Quel est ce bonhomme qui me regarde?</td>\n",
       "      <td>A2</td>\n",
       "    </tr>\n",
       "  </tbody>\n",
       "</table>\n",
       "</div>"
      ],
      "text/plain": [
       "                                                text label\n",
       "0  En 1815, M. Charles-François-Bienvenu Myriel é...    A2\n",
       "1  Quoique ce détail ne touche en aucune manière ...    C1\n",
       "2  En 1804, M. Myriel était curé de Brignolles. I...    A2\n",
       "3  Vers l'époque du couronnement, une petite affa...    B2\n",
       "4              —Quel est ce bonhomme qui me regarde?    A2"
      ]
     },
     "execution_count": 7,
     "metadata": {},
     "output_type": "execute_result"
    }
   ],
   "source": [
    "mike_20_june_new=new_data[pd.notnull(new_data['CEFR Review'])]\n",
    "mike_20_june_new.columns = [\"text\", \"label\",\"CEFR Level_Samar\"]\n",
    "mike_20_june_new.drop([\"CEFR Level_Samar\"],axis=1, inplace=True)\n",
    "mike_20_june_new.to_csv(\"mike_20_june_new.csv\" , index=False)\n",
    "mike_20_june_new.head() "
   ]
  },
  {
   "cell_type": "markdown",
   "id": "ab0e049c",
   "metadata": {
    "papermill": {
     "duration": 0.040974,
     "end_time": "2022-07-01T19:28:07.220097",
     "exception": false,
     "start_time": "2022-07-01T19:28:07.179123",
     "status": "completed"
    },
    "tags": []
   },
   "source": [
    "**!!!! samar annotation seems to be weird because there is just C1 and C2**"
   ]
  },
  {
   "cell_type": "code",
   "execution_count": 8,
   "id": "6cdd0fe0",
   "metadata": {
    "execution": {
     "iopub.execute_input": "2022-07-01T19:28:07.307187Z",
     "iopub.status.busy": "2022-07-01T19:28:07.305512Z",
     "iopub.status.idle": "2022-07-01T19:28:07.309843Z",
     "shell.execute_reply": "2022-07-01T19:28:07.310290Z",
     "shell.execute_reply.started": "2022-07-01T19:21:34.184191Z"
    },
    "papermill": {
     "duration": 0.04948,
     "end_time": "2022-07-01T19:28:07.310425",
     "exception": false,
     "start_time": "2022-07-01T19:28:07.260945",
     "status": "completed"
    },
    "tags": []
   },
   "outputs": [
    {
     "data": {
      "text/plain": [
       "(array(['C1', 'C2'], dtype=object),\n",
       " array(['A2', 'C1', 'B2', 'A1', 'B1', 'C2'], dtype=object))"
      ]
     },
     "execution_count": 8,
     "metadata": {},
     "output_type": "execute_result"
    }
   ],
   "source": [
    "mike_20_june_samar[\"label\"].unique(), mike_20_june_new[\"label\"].unique()"
   ]
  },
  {
   "cell_type": "code",
   "execution_count": 9,
   "id": "efda0d21",
   "metadata": {
    "execution": {
     "iopub.execute_input": "2022-07-01T19:28:07.400053Z",
     "iopub.status.busy": "2022-07-01T19:28:07.399409Z",
     "iopub.status.idle": "2022-07-01T19:28:07.402055Z",
     "shell.execute_reply": "2022-07-01T19:28:07.402453Z",
     "shell.execute_reply.started": "2022-07-01T19:21:34.291575Z"
    },
    "papermill": {
     "duration": 0.050942,
     "end_time": "2022-07-01T19:28:07.402605",
     "exception": false,
     "start_time": "2022-07-01T19:28:07.351663",
     "status": "completed"
    },
    "tags": []
   },
   "outputs": [
    {
     "data": {
      "text/plain": [
       "C1    58\n",
       "A1    41\n",
       "B2    33\n",
       "B1    29\n",
       "A2    24\n",
       "C2     6\n",
       "Name: label, dtype: int64"
      ]
     },
     "execution_count": 9,
     "metadata": {},
     "output_type": "execute_result"
    }
   ],
   "source": [
    "mike_20_june_new.label.value_counts()"
   ]
  },
  {
   "cell_type": "code",
   "execution_count": 10,
   "id": "13ccd6b4",
   "metadata": {
    "execution": {
     "iopub.execute_input": "2022-07-01T19:28:07.490368Z",
     "iopub.status.busy": "2022-07-01T19:28:07.489785Z",
     "iopub.status.idle": "2022-07-01T19:28:07.492292Z",
     "shell.execute_reply": "2022-07-01T19:28:07.492738Z",
     "shell.execute_reply.started": "2022-07-01T19:21:34.398551Z"
    },
    "papermill": {
     "duration": 0.049447,
     "end_time": "2022-07-01T19:28:07.492878",
     "exception": false,
     "start_time": "2022-07-01T19:28:07.443431",
     "status": "completed"
    },
    "tags": []
   },
   "outputs": [
    {
     "data": {
      "text/plain": [
       "((141, 2), (191, 2))"
      ]
     },
     "execution_count": 10,
     "metadata": {},
     "output_type": "execute_result"
    }
   ],
   "source": [
    "mike_20_june_samar.shape,mike_20_june_new.shape"
   ]
  },
  {
   "cell_type": "code",
   "execution_count": 11,
   "id": "2a3ae766",
   "metadata": {
    "execution": {
     "iopub.execute_input": "2022-07-01T19:28:07.579959Z",
     "iopub.status.busy": "2022-07-01T19:28:07.579318Z",
     "iopub.status.idle": "2022-07-01T19:28:07.593357Z",
     "shell.execute_reply": "2022-07-01T19:28:07.592917Z",
     "shell.execute_reply.started": "2022-07-01T19:21:34.497056Z"
    },
    "papermill": {
     "duration": 0.059079,
     "end_time": "2022-07-01T19:28:07.593469",
     "exception": false,
     "start_time": "2022-07-01T19:28:07.534390",
     "status": "completed"
    },
    "tags": []
   },
   "outputs": [
    {
     "data": {
      "text/plain": [
       "(315, 4)"
      ]
     },
     "execution_count": 11,
     "metadata": {},
     "output_type": "execute_result"
    }
   ],
   "source": [
    "trainn=pd.read_csv(\"../input/frenchcefr/french dataset.csv\")\n",
    "trainn.shape"
   ]
  },
  {
   "cell_type": "code",
   "execution_count": null,
   "id": "ab9b36d6",
   "metadata": {
    "papermill": {
     "duration": 0.041551,
     "end_time": "2022-07-01T19:28:07.676539",
     "exception": false,
     "start_time": "2022-07-01T19:28:07.634988",
     "status": "completed"
    },
    "tags": []
   },
   "outputs": [],
   "source": []
  },
  {
   "cell_type": "code",
   "execution_count": null,
   "id": "6df6b652",
   "metadata": {
    "papermill": {
     "duration": 0.042693,
     "end_time": "2022-07-01T19:28:07.760449",
     "exception": false,
     "start_time": "2022-07-01T19:28:07.717756",
     "status": "completed"
    },
    "tags": []
   },
   "outputs": [],
   "source": []
  },
  {
   "cell_type": "code",
   "execution_count": null,
   "id": "e8d636ab",
   "metadata": {
    "papermill": {
     "duration": 0.040957,
     "end_time": "2022-07-01T19:28:07.843647",
     "exception": false,
     "start_time": "2022-07-01T19:28:07.802690",
     "status": "completed"
    },
    "tags": []
   },
   "outputs": [],
   "source": []
  },
  {
   "cell_type": "markdown",
   "id": "cc8d41b2",
   "metadata": {
    "papermill": {
     "duration": 0.041103,
     "end_time": "2022-07-01T19:28:07.926827",
     "exception": false,
     "start_time": "2022-07-01T19:28:07.885724",
     "status": "completed"
    },
    "tags": []
   },
   "source": [
    "****"
   ]
  },
  {
   "cell_type": "code",
   "execution_count": 12,
   "id": "403dae3e",
   "metadata": {
    "execution": {
     "iopub.execute_input": "2022-07-01T19:28:08.015863Z",
     "iopub.status.busy": "2022-07-01T19:28:08.015059Z",
     "iopub.status.idle": "2022-07-01T19:28:11.649400Z",
     "shell.execute_reply": "2022-07-01T19:28:11.648885Z",
     "shell.execute_reply.started": "2022-07-01T19:21:34.648486Z"
    },
    "papermill": {
     "duration": 3.680594,
     "end_time": "2022-07-01T19:28:11.649522",
     "exception": false,
     "start_time": "2022-07-01T19:28:07.968928",
     "status": "completed"
    },
    "tags": []
   },
   "outputs": [
    {
     "data": {
      "application/vnd.jupyter.widget-view+json": {
       "model_id": "aa124b10f12e42b8a0f23faae064d660",
       "version_major": 2,
       "version_minor": 0
      },
      "text/plain": [
       "Downloading:   0%|          | 0.00/420 [00:00<?, ?B/s]"
      ]
     },
     "metadata": {},
     "output_type": "display_data"
    },
    {
     "data": {
      "application/vnd.jupyter.widget-view+json": {
       "model_id": "d1a98cf6210d40978f66852e51cd2ba6",
       "version_major": 2,
       "version_minor": 0
      },
      "text/plain": [
       "Downloading:   0%|          | 0.00/227k [00:00<?, ?B/s]"
      ]
     },
     "metadata": {},
     "output_type": "display_data"
    },
    {
     "data": {
      "application/vnd.jupyter.widget-view+json": {
       "model_id": "85900890a9104065ae50297d16bb6dfc",
       "version_major": 2,
       "version_minor": 0
      },
      "text/plain": [
       "Downloading:   0%|          | 0.00/83.0 [00:00<?, ?B/s]"
      ]
     },
     "metadata": {},
     "output_type": "display_data"
    }
   ],
   "source": [
    "model_name = \"dbmdz/bert-base-french-europeana-cased\"\n",
    "\n",
    "tokenizer = AutoTokenizer.from_pretrained(model_name)\n",
    "\n",
    "device = torch.device(\"cuda\" if torch.cuda.is_available() else \"cpu\")"
   ]
  },
  {
   "cell_type": "code",
   "execution_count": 13,
   "id": "9cc29c7b",
   "metadata": {
    "execution": {
     "iopub.execute_input": "2022-07-01T19:28:11.743404Z",
     "iopub.status.busy": "2022-07-01T19:28:11.742519Z",
     "iopub.status.idle": "2022-07-01T19:28:11.744332Z",
     "shell.execute_reply": "2022-07-01T19:28:11.744763Z",
     "shell.execute_reply.started": "2022-07-01T19:21:36.866327Z"
    },
    "papermill": {
     "duration": 0.050687,
     "end_time": "2022-07-01T19:28:11.744902",
     "exception": false,
     "start_time": "2022-07-01T19:28:11.694215",
     "status": "completed"
    },
    "tags": []
   },
   "outputs": [],
   "source": [
    "lr = 2e-5\n",
    "epochs =  6\n",
    "batch_size = 5\n",
    "max_seq_len = 75\n",
    "\n",
    "test_frac = 0.1"
   ]
  },
  {
   "cell_type": "code",
   "execution_count": 14,
   "id": "451479a4",
   "metadata": {
    "execution": {
     "iopub.execute_input": "2022-07-01T19:28:11.837903Z",
     "iopub.status.busy": "2022-07-01T19:28:11.837024Z",
     "iopub.status.idle": "2022-07-01T19:28:11.841943Z",
     "shell.execute_reply": "2022-07-01T19:28:11.841463Z",
     "shell.execute_reply.started": "2022-07-01T19:21:36.874747Z"
    },
    "papermill": {
     "duration": 0.054457,
     "end_time": "2022-07-01T19:28:11.842059",
     "exception": false,
     "start_time": "2022-07-01T19:28:11.787602",
     "status": "completed"
    },
    "tags": []
   },
   "outputs": [],
   "source": [
    "import os\n",
    "\n",
    "def set_seed(seed=106052):\n",
    "    \"\"\"Set seed for reproducibility.\n",
    "    \"\"\"\n",
    "    random.seed(seed)\n",
    "    np.random.seed(seed)\n",
    "    torch.manual_seed(seed)\n",
    "    torch.cuda.manual_seed_all(seed)\n",
    "    \n",
    "    os.environ['PYTHONHASHSEED'] = str(seed)\n",
    "    \n",
    "set_seed()"
   ]
  },
  {
   "cell_type": "code",
   "execution_count": 15,
   "id": "277397c9",
   "metadata": {
    "execution": {
     "iopub.execute_input": "2022-07-01T19:28:11.936986Z",
     "iopub.status.busy": "2022-07-01T19:28:11.936168Z",
     "iopub.status.idle": "2022-07-01T19:28:11.938629Z",
     "shell.execute_reply": "2022-07-01T19:28:11.938190Z",
     "shell.execute_reply.started": "2022-07-01T19:21:36.891356Z"
    },
    "papermill": {
     "duration": 0.052659,
     "end_time": "2022-07-01T19:28:11.938750",
     "exception": false,
     "start_time": "2022-07-01T19:28:11.886091",
     "status": "completed"
    },
    "tags": []
   },
   "outputs": [],
   "source": [
    "class CEFRDataset(Dataset):\n",
    "    \"\"\"Classification dataset, built on top of pytorch dataset object\n",
    "    \"\"\"\n",
    "    \n",
    "    def __init__(self, texts, labels):\n",
    "        \n",
    "        self.encoder = LabelEncoder()\n",
    "        print(self.encoder.__dict__)\n",
    "        self.texts = texts\n",
    "        self.labels = self.encoder.fit_transform(labels)\n",
    "\n",
    "    def __len__(self):\n",
    "        return len(self.texts)\n",
    "\n",
    "    def __getitem__(self, index):\n",
    "        text = self.texts[index]\n",
    "        label = self.labels[index]\n",
    "        encoded_text = tokenizer(\n",
    "            text,\n",
    "            padding=\"max_length\",\n",
    "            max_length=max_seq_len,\n",
    "            truncation=True,\n",
    "            return_tensors=\"pt\",\n",
    "        )\n",
    "        encoded_text[\"input_ids\"] = encoded_text[\"input_ids\"].squeeze()\n",
    "        encoded_text[\"attention_mask\"] = encoded_text[\"attention_mask\"].squeeze()\n",
    "        label = torch.tensor(label)\n",
    "\n",
    "        return {\n",
    "            \"input_ids\": encoded_text[\"input_ids\"],\n",
    "            \"attention_mask\": encoded_text[\"attention_mask\"],\n",
    "            \"labels\": label,\n",
    "        }\n",
    "\n",
    "    def get_labels(self):\n",
    "        return self.labels"
   ]
  },
  {
   "cell_type": "code",
   "execution_count": 16,
   "id": "eddac9a5",
   "metadata": {
    "execution": {
     "iopub.execute_input": "2022-07-01T19:28:12.032493Z",
     "iopub.status.busy": "2022-07-01T19:28:12.031641Z",
     "iopub.status.idle": "2022-07-01T19:28:12.033457Z",
     "shell.execute_reply": "2022-07-01T19:28:12.033970Z",
     "shell.execute_reply.started": "2022-07-01T19:21:36.905128Z"
    },
    "papermill": {
     "duration": 0.052073,
     "end_time": "2022-07-01T19:28:12.034106",
     "exception": false,
     "start_time": "2022-07-01T19:28:11.982033",
     "status": "completed"
    },
    "tags": []
   },
   "outputs": [],
   "source": [
    "def train(train_set, valid_set, epochs=10, warmup_size=0.1, lr=1e-3, batch_size=16):\n",
    "    model = get_model(model_name)\n",
    "    optim = AdamW(model.parameters(), lr=lr)\n",
    "    scheduler = get_scheduler(\n",
    "        optim, warmup_size, round(len(train_set) / batch_size * epochs)\n",
    "    )\n",
    "    training_args = get_training_args(epochs, batch_size)\n",
    "    trainer = Trainer(\n",
    "        model=model,\n",
    "        args=training_args,\n",
    "        train_dataset=train_set,\n",
    "        eval_dataset=valid_set,\n",
    "        optimizers=[optim, scheduler],\n",
    "        compute_metrics=compute_accuracy,\n",
    "    )\n",
    "    trainer.train()\n",
    "    trainer.save_model()\n",
    "    return trainer"
   ]
  },
  {
   "cell_type": "code",
   "execution_count": 17,
   "id": "c4ebae7a",
   "metadata": {
    "execution": {
     "iopub.execute_input": "2022-07-01T19:28:12.126272Z",
     "iopub.status.busy": "2022-07-01T19:28:12.125415Z",
     "iopub.status.idle": "2022-07-01T19:28:12.127432Z",
     "shell.execute_reply": "2022-07-01T19:28:12.127853Z",
     "shell.execute_reply.started": "2022-07-01T19:21:36.922008Z"
    },
    "papermill": {
     "duration": 0.050434,
     "end_time": "2022-07-01T19:28:12.127998",
     "exception": false,
     "start_time": "2022-07-01T19:28:12.077564",
     "status": "completed"
    },
    "tags": []
   },
   "outputs": [],
   "source": [
    "def get_model(pretrained_checkpoint):\n",
    "    model = AutoModelForSequenceClassification.from_pretrained(\n",
    "        pretrained_checkpoint, num_labels=6\n",
    "    )\n",
    "    return model.to(device)"
   ]
  },
  {
   "cell_type": "code",
   "execution_count": 18,
   "id": "60d4b9ea",
   "metadata": {
    "execution": {
     "iopub.execute_input": "2022-07-01T19:28:12.221085Z",
     "iopub.status.busy": "2022-07-01T19:28:12.220226Z",
     "iopub.status.idle": "2022-07-01T19:28:12.222716Z",
     "shell.execute_reply": "2022-07-01T19:28:12.222234Z",
     "shell.execute_reply.started": "2022-07-01T19:21:36.934664Z"
    },
    "papermill": {
     "duration": 0.052228,
     "end_time": "2022-07-01T19:28:12.222838",
     "exception": false,
     "start_time": "2022-07-01T19:28:12.170610",
     "status": "completed"
    },
    "tags": []
   },
   "outputs": [],
   "source": [
    "os.environ[\"WANDB_DISABLED\"] = \"true\"\n",
    "\n",
    "\n",
    "def get_scheduler(optimizer, warmup_size, total_steps):\n",
    "    scheduler = get_cosine_schedule_with_warmup(\n",
    "        optimizer,\n",
    "        num_warmup_steps=round(total_steps * warmup_size),\n",
    "        num_training_steps=total_steps,\n",
    "    )\n",
    "    return scheduler\n",
    "\n",
    "\n",
    "def get_training_args(epochs, batch_size):\n",
    "    return TrainingArguments(\n",
    "        output_dir=\"./b\",\n",
    "        num_train_epochs=epochs,\n",
    "        per_device_train_batch_size=batch_size,\n",
    "        logging_steps=50,\n",
    "        fp16=False,\n",
    "        evaluation_strategy=\"epoch\",\n",
    "        eval_accumulation_steps=1,\n",
    "        report_to=None,\n",
    "        save_total_limit=1,\n",
    "        load_best_model_at_end=True\n",
    "    )\n",
    "\n",
    "\n",
    "def compute_accuracy(pred):\n",
    "    labels = pred.label_ids\n",
    "    preds = pred.predictions.argmax(-1)\n",
    "    acc = accuracy_score(labels, preds)\n",
    "    return {\"accuracy\": acc}\n",
    "\n"
   ]
  },
  {
   "cell_type": "code",
   "execution_count": 19,
   "id": "b68d90cb",
   "metadata": {
    "execution": {
     "iopub.execute_input": "2022-07-01T19:28:12.312685Z",
     "iopub.status.busy": "2022-07-01T19:28:12.311817Z",
     "iopub.status.idle": "2022-07-01T19:28:12.313756Z",
     "shell.execute_reply": "2022-07-01T19:28:12.314169Z",
     "shell.execute_reply.started": "2022-07-01T19:21:36.946206Z"
    },
    "papermill": {
     "duration": 0.048824,
     "end_time": "2022-07-01T19:28:12.314305",
     "exception": false,
     "start_time": "2022-07-01T19:28:12.265481",
     "status": "completed"
    },
    "tags": []
   },
   "outputs": [],
   "source": [
    "lr = 2e-5\n",
    "epochs =  7\n",
    "batch_size = 8\n",
    "max_seq_len = 512"
   ]
  },
  {
   "cell_type": "code",
   "execution_count": 20,
   "id": "64a225a2",
   "metadata": {
    "execution": {
     "iopub.execute_input": "2022-07-01T19:28:12.406058Z",
     "iopub.status.busy": "2022-07-01T19:28:12.405194Z",
     "iopub.status.idle": "2022-07-01T19:28:12.407031Z",
     "shell.execute_reply": "2022-07-01T19:28:12.407472Z",
     "shell.execute_reply.started": "2022-07-01T19:21:36.960422Z"
    },
    "papermill": {
     "duration": 0.050521,
     "end_time": "2022-07-01T19:28:12.407628",
     "exception": false,
     "start_time": "2022-07-01T19:28:12.357107",
     "status": "completed"
    },
    "tags": []
   },
   "outputs": [],
   "source": [
    "def split_valid(df, frac=0.01):\n",
    "    \n",
    "    val = pd.DataFrame()\n",
    "    val[\"text\"] = \"\"\n",
    "    val[\"label\"] = -1\n",
    "    \n",
    "    for i in df.label.unique():\n",
    "        val = pd.concat([val, df[df.label == i].sample(frac=frac)])\n",
    "        \n",
    "    return df[~df.index.isin(val.index)].reset_index(drop=True) , val.reset_index(drop=True)"
   ]
  },
  {
   "cell_type": "code",
   "execution_count": null,
   "id": "d7950b5b",
   "metadata": {
    "papermill": {
     "duration": 0.042201,
     "end_time": "2022-07-01T19:28:12.492202",
     "exception": false,
     "start_time": "2022-07-01T19:28:12.450001",
     "status": "completed"
    },
    "tags": []
   },
   "outputs": [],
   "source": []
  },
  {
   "cell_type": "code",
   "execution_count": 21,
   "id": "36e621e0",
   "metadata": {
    "execution": {
     "iopub.execute_input": "2022-07-01T19:28:12.583674Z",
     "iopub.status.busy": "2022-07-01T19:28:12.582050Z",
     "iopub.status.idle": "2022-07-01T19:28:12.584246Z",
     "shell.execute_reply": "2022-07-01T19:28:12.584683Z",
     "shell.execute_reply.started": "2022-07-01T19:21:36.971986Z"
    },
    "papermill": {
     "duration": 0.048914,
     "end_time": "2022-07-01T19:28:12.584829",
     "exception": false,
     "start_time": "2022-07-01T19:28:12.535915",
     "status": "completed"
    },
    "tags": []
   },
   "outputs": [],
   "source": [
    "# train_set_df = pd.read_csv(\"../input/newdatasets/mike_20_june_new (1).csv\")\n",
    "# train_set_df"
   ]
  },
  {
   "cell_type": "code",
   "execution_count": 22,
   "id": "8b06892b",
   "metadata": {
    "execution": {
     "iopub.execute_input": "2022-07-01T19:28:12.679768Z",
     "iopub.status.busy": "2022-07-01T19:28:12.678904Z",
     "iopub.status.idle": "2022-07-01T19:28:12.682081Z",
     "shell.execute_reply": "2022-07-01T19:28:12.682468Z",
     "shell.execute_reply.started": "2022-07-01T19:21:36.982343Z"
    },
    "papermill": {
     "duration": 0.054385,
     "end_time": "2022-07-01T19:28:12.682636",
     "exception": false,
     "start_time": "2022-07-01T19:28:12.628251",
     "status": "completed"
    },
    "tags": []
   },
   "outputs": [
    {
     "data": {
      "text/html": [
       "<div>\n",
       "<style scoped>\n",
       "    .dataframe tbody tr th:only-of-type {\n",
       "        vertical-align: middle;\n",
       "    }\n",
       "\n",
       "    .dataframe tbody tr th {\n",
       "        vertical-align: top;\n",
       "    }\n",
       "\n",
       "    .dataframe thead th {\n",
       "        text-align: right;\n",
       "    }\n",
       "</style>\n",
       "<table border=\"1\" class=\"dataframe\">\n",
       "  <thead>\n",
       "    <tr style=\"text-align: right;\">\n",
       "      <th></th>\n",
       "      <th>text</th>\n",
       "      <th>label</th>\n",
       "    </tr>\n",
       "  </thead>\n",
       "  <tbody>\n",
       "    <tr>\n",
       "      <th>0</th>\n",
       "      <td>En 1815, M. Charles-François-Bienvenu Myriel é...</td>\n",
       "      <td>A2</td>\n",
       "    </tr>\n",
       "    <tr>\n",
       "      <th>1</th>\n",
       "      <td>Quoique ce détail ne touche en aucune manière ...</td>\n",
       "      <td>C1</td>\n",
       "    </tr>\n",
       "  </tbody>\n",
       "</table>\n",
       "</div>"
      ],
      "text/plain": [
       "                                                text label\n",
       "0  En 1815, M. Charles-François-Bienvenu Myriel é...    A2\n",
       "1  Quoique ce détail ne touche en aucune manière ...    C1"
      ]
     },
     "execution_count": 22,
     "metadata": {},
     "output_type": "execute_result"
    }
   ],
   "source": [
    "mike_20_june_new.head(2)"
   ]
  },
  {
   "cell_type": "code",
   "execution_count": 23,
   "id": "79e06c80",
   "metadata": {
    "execution": {
     "iopub.execute_input": "2022-07-01T19:28:12.773120Z",
     "iopub.status.busy": "2022-07-01T19:28:12.772463Z",
     "iopub.status.idle": "2022-07-01T19:28:12.775101Z",
     "shell.execute_reply": "2022-07-01T19:28:12.775501Z",
     "shell.execute_reply.started": "2022-07-01T19:21:37.001947Z"
    },
    "papermill": {
     "duration": 0.050257,
     "end_time": "2022-07-01T19:28:12.775667",
     "exception": false,
     "start_time": "2022-07-01T19:28:12.725410",
     "status": "completed"
    },
    "tags": []
   },
   "outputs": [
    {
     "data": {
      "text/plain": [
       "(191, 2)"
      ]
     },
     "execution_count": 23,
     "metadata": {},
     "output_type": "execute_result"
    }
   ],
   "source": [
    "mike_20_june_new.shape"
   ]
  },
  {
   "cell_type": "code",
   "execution_count": 24,
   "id": "68dc8268",
   "metadata": {
    "execution": {
     "iopub.execute_input": "2022-07-01T19:28:12.867874Z",
     "iopub.status.busy": "2022-07-01T19:28:12.867314Z",
     "iopub.status.idle": "2022-07-01T19:28:12.881692Z",
     "shell.execute_reply": "2022-07-01T19:28:12.881212Z",
     "shell.execute_reply.started": "2022-07-01T19:21:37.013909Z"
    },
    "papermill": {
     "duration": 0.062493,
     "end_time": "2022-07-01T19:28:12.881810",
     "exception": false,
     "start_time": "2022-07-01T19:28:12.819317",
     "status": "completed"
    },
    "tags": []
   },
   "outputs": [],
   "source": [
    "new=pd.read_csv(\"../input/lingua/fr_lingua.csv\")"
   ]
  },
  {
   "cell_type": "code",
   "execution_count": 25,
   "id": "2eeadf28",
   "metadata": {
    "execution": {
     "iopub.execute_input": "2022-07-01T19:28:12.974269Z",
     "iopub.status.busy": "2022-07-01T19:28:12.973447Z",
     "iopub.status.idle": "2022-07-01T19:28:12.975284Z",
     "shell.execute_reply": "2022-07-01T19:28:12.975720Z",
     "shell.execute_reply.started": "2022-07-01T19:21:37.034763Z"
    },
    "papermill": {
     "duration": 0.049968,
     "end_time": "2022-07-01T19:28:12.975853",
     "exception": false,
     "start_time": "2022-07-01T19:28:12.925885",
     "status": "completed"
    },
    "tags": []
   },
   "outputs": [],
   "source": [
    "new.columns=[\"text\",\"label\"]"
   ]
  },
  {
   "cell_type": "code",
   "execution_count": 26,
   "id": "350c848f",
   "metadata": {
    "execution": {
     "iopub.execute_input": "2022-07-01T19:28:13.069858Z",
     "iopub.status.busy": "2022-07-01T19:28:13.068968Z",
     "iopub.status.idle": "2022-07-01T19:28:13.076772Z",
     "shell.execute_reply": "2022-07-01T19:28:13.077220Z",
     "shell.execute_reply.started": "2022-07-01T19:21:37.046609Z"
    },
    "papermill": {
     "duration": 0.058033,
     "end_time": "2022-07-01T19:28:13.077352",
     "exception": false,
     "start_time": "2022-07-01T19:28:13.019319",
     "status": "completed"
    },
    "tags": []
   },
   "outputs": [
    {
     "data": {
      "text/plain": [
       "((315, 2),\n",
       "                                                 text label\n",
       " 0  Il était une fois un prince qui voulait épouse...    A2\n",
       " 1  Il fit le tour de la Terre pour en trouver une...    B1)"
      ]
     },
     "execution_count": 26,
     "metadata": {},
     "output_type": "execute_result"
    }
   ],
   "source": [
    "french=pd.read_csv(\"../input/frenchcefr/french dataset.csv\")\n",
    "french=french[[\"text\",\"label\"]]\n",
    "french.shape,french.head(2)\n"
   ]
  },
  {
   "cell_type": "code",
   "execution_count": 27,
   "id": "a96f8f19",
   "metadata": {
    "execution": {
     "iopub.execute_input": "2022-07-01T19:28:13.168254Z",
     "iopub.status.busy": "2022-07-01T19:28:13.167330Z",
     "iopub.status.idle": "2022-07-01T19:28:13.171436Z",
     "shell.execute_reply": "2022-07-01T19:28:13.170991Z",
     "shell.execute_reply.started": "2022-07-01T19:21:37.065126Z"
    },
    "papermill": {
     "duration": 0.050022,
     "end_time": "2022-07-01T19:28:13.171544",
     "exception": false,
     "start_time": "2022-07-01T19:28:13.121522",
     "status": "completed"
    },
    "tags": []
   },
   "outputs": [],
   "source": [
    "# train_set_df=pd.concat([french, mike_20_june_new,new], ignore_index=True)"
   ]
  },
  {
   "cell_type": "code",
   "execution_count": 28,
   "id": "f94e568e",
   "metadata": {
    "execution": {
     "iopub.execute_input": "2022-07-01T19:28:13.265024Z",
     "iopub.status.busy": "2022-07-01T19:28:13.264406Z",
     "iopub.status.idle": "2022-07-01T19:28:13.299213Z",
     "shell.execute_reply": "2022-07-01T19:28:13.298514Z",
     "shell.execute_reply.started": "2022-07-01T19:21:37.075509Z"
    },
    "papermill": {
     "duration": 0.084438,
     "end_time": "2022-07-01T19:28:13.299352",
     "exception": false,
     "start_time": "2022-07-01T19:28:13.214914",
     "status": "completed"
    },
    "tags": []
   },
   "outputs": [],
   "source": [
    "from sklearn import preprocessing\n",
    "le = preprocessing.LabelEncoder()\n",
    "\n",
    "train_set_df = pd.read_csv(\"../input/newdatasets/mike_20_june_new (1).csv\")\n",
    "train_set_df = train_set_df[train_set_df.label != \"XX\"]\n",
    "train_set_df = train_set_df[[\"text\", \"label\"]]\n",
    "\n",
    "train_set_df.text = train_set_df.text.apply(lambda x: x.replace(\"\\r\", \"\").replace(\"\\n\", \" \"))\n",
    "\n",
    "extra_df = pd.read_csv(\"../input/frenchcefr/french_mike_june.csv\")\n",
    "extra_df.columns = [\"text\", \"label\", \"label_\"]\n",
    "extra_df = extra_df[[\"text\", \"label\"]]\n",
    "extra_df.text = extra_df.text.astype(str)\n",
    "#train_set_df = pd.concat([train_set_df, extra_df]).reset_index(drop=True)\n",
    "\n",
    "train_set_df, valid_set_df = split_valid(train_set_df)"
   ]
  },
  {
   "cell_type": "code",
   "execution_count": 29,
   "id": "f32d38ef",
   "metadata": {
    "execution": {
     "iopub.execute_input": "2022-07-01T19:28:13.390683Z",
     "iopub.status.busy": "2022-07-01T19:28:13.389872Z",
     "iopub.status.idle": "2022-07-01T19:28:13.395423Z",
     "shell.execute_reply": "2022-07-01T19:28:13.395927Z",
     "shell.execute_reply.started": "2022-07-01T19:21:37.108494Z"
    },
    "papermill": {
     "duration": 0.053143,
     "end_time": "2022-07-01T19:28:13.396063",
     "exception": false,
     "start_time": "2022-07-01T19:28:13.342920",
     "status": "completed"
    },
    "tags": []
   },
   "outputs": [
    {
     "data": {
      "text/plain": [
       "array(['A2', 'C1', 'B2', 'A1', 'B1', 'C2'], dtype=object)"
      ]
     },
     "execution_count": 29,
     "metadata": {},
     "output_type": "execute_result"
    }
   ],
   "source": [
    "train_set_df.label.unique()"
   ]
  },
  {
   "cell_type": "code",
   "execution_count": 30,
   "id": "acd55ff6",
   "metadata": {
    "execution": {
     "iopub.execute_input": "2022-07-01T19:28:13.489276Z",
     "iopub.status.busy": "2022-07-01T19:28:13.488459Z",
     "iopub.status.idle": "2022-07-01T19:28:13.490249Z",
     "shell.execute_reply": "2022-07-01T19:28:13.490714Z",
     "shell.execute_reply.started": "2022-07-01T19:21:37.119219Z"
    },
    "papermill": {
     "duration": 0.051163,
     "end_time": "2022-07-01T19:28:13.490845",
     "exception": false,
     "start_time": "2022-07-01T19:28:13.439682",
     "status": "completed"
    },
    "tags": []
   },
   "outputs": [],
   "source": [
    "train_set_df.label = le.fit_transform(train_set_df.label)\n",
    "valid_set_df.label = le.transform(valid_set_df.label)"
   ]
  },
  {
   "cell_type": "code",
   "execution_count": 31,
   "id": "322c3a32",
   "metadata": {
    "execution": {
     "iopub.execute_input": "2022-07-01T19:28:13.585694Z",
     "iopub.status.busy": "2022-07-01T19:28:13.584975Z",
     "iopub.status.idle": "2022-07-01T19:28:13.587853Z",
     "shell.execute_reply": "2022-07-01T19:28:13.588266Z",
     "shell.execute_reply.started": "2022-07-01T19:21:37.132331Z"
    },
    "papermill": {
     "duration": 0.053999,
     "end_time": "2022-07-01T19:28:13.588398",
     "exception": false,
     "start_time": "2022-07-01T19:28:13.534399",
     "status": "completed"
    },
    "tags": []
   },
   "outputs": [
    {
     "data": {
      "text/plain": [
       "6"
      ]
     },
     "execution_count": 31,
     "metadata": {},
     "output_type": "execute_result"
    }
   ],
   "source": [
    "train_set_df.label.nunique()"
   ]
  },
  {
   "cell_type": "code",
   "execution_count": 32,
   "id": "65629abc",
   "metadata": {
    "execution": {
     "iopub.execute_input": "2022-07-01T19:28:13.684039Z",
     "iopub.status.busy": "2022-07-01T19:28:13.682838Z",
     "iopub.status.idle": "2022-07-01T19:28:13.686862Z",
     "shell.execute_reply": "2022-07-01T19:28:13.686308Z",
     "shell.execute_reply.started": "2022-07-01T19:21:37.148782Z"
    },
    "papermill": {
     "duration": 0.055035,
     "end_time": "2022-07-01T19:28:13.686988",
     "exception": false,
     "start_time": "2022-07-01T19:28:13.631953",
     "status": "completed"
    },
    "tags": []
   },
   "outputs": [
    {
     "data": {
      "text/plain": [
       "4    57\n",
       "0    41\n",
       "3    33\n",
       "2    29\n",
       "1    24\n",
       "5     6\n",
       "Name: label, dtype: int64"
      ]
     },
     "execution_count": 32,
     "metadata": {},
     "output_type": "execute_result"
    }
   ],
   "source": [
    "train_set_df.label.value_counts()"
   ]
  },
  {
   "cell_type": "code",
   "execution_count": 33,
   "id": "24ea4725",
   "metadata": {
    "execution": {
     "iopub.execute_input": "2022-07-01T19:28:13.779402Z",
     "iopub.status.busy": "2022-07-01T19:28:13.778557Z",
     "iopub.status.idle": "2022-07-01T19:28:13.782714Z",
     "shell.execute_reply": "2022-07-01T19:28:13.783172Z",
     "shell.execute_reply.started": "2022-07-01T19:21:37.159589Z"
    },
    "papermill": {
     "duration": 0.05211,
     "end_time": "2022-07-01T19:28:13.783305",
     "exception": false,
     "start_time": "2022-07-01T19:28:13.731195",
     "status": "completed"
    },
    "tags": []
   },
   "outputs": [
    {
     "data": {
      "text/plain": [
       "1"
      ]
     },
     "execution_count": 33,
     "metadata": {},
     "output_type": "execute_result"
    }
   ],
   "source": [
    "valid_set_df.label.nunique()"
   ]
  },
  {
   "cell_type": "code",
   "execution_count": 34,
   "id": "b50e8bef",
   "metadata": {
    "execution": {
     "iopub.execute_input": "2022-07-01T19:28:13.878662Z",
     "iopub.status.busy": "2022-07-01T19:28:13.877790Z",
     "iopub.status.idle": "2022-07-01T19:28:13.879593Z",
     "shell.execute_reply": "2022-07-01T19:28:13.880062Z",
     "shell.execute_reply.started": "2022-07-01T19:21:37.171436Z"
    },
    "papermill": {
     "duration": 0.050955,
     "end_time": "2022-07-01T19:28:13.880194",
     "exception": false,
     "start_time": "2022-07-01T19:28:13.829239",
     "status": "completed"
    },
    "tags": []
   },
   "outputs": [],
   "source": [
    "# train_set_df = train_set_df.sample(frac=1)"
   ]
  },
  {
   "cell_type": "code",
   "execution_count": 35,
   "id": "17aba162",
   "metadata": {
    "execution": {
     "iopub.execute_input": "2022-07-01T19:28:13.976314Z",
     "iopub.status.busy": "2022-07-01T19:28:13.975441Z",
     "iopub.status.idle": "2022-07-01T19:28:13.977313Z",
     "shell.execute_reply": "2022-07-01T19:28:13.977740Z",
     "shell.execute_reply.started": "2022-07-01T19:21:37.186875Z"
    },
    "papermill": {
     "duration": 0.0532,
     "end_time": "2022-07-01T19:28:13.977878",
     "exception": false,
     "start_time": "2022-07-01T19:28:13.924678",
     "status": "completed"
    },
    "tags": []
   },
   "outputs": [],
   "source": [
    "from tqdm import tqdm \n",
    "\n",
    "def predict(model, text):\n",
    "    \n",
    "    preds = []\n",
    "    \n",
    "    for i in tqdm(range(len(text))):\n",
    "        tokenized = tokenizer(text[i:i+1], return_tensors=\"pt\", truncation=True, max_length=512).to(\"cuda\")\n",
    "        pred = model(**tokenized)\n",
    "        preds.append(pred.logits.argmax(-1).item())\n",
    "\n",
    "    return preds"
   ]
  },
  {
   "cell_type": "code",
   "execution_count": null,
   "id": "6074e648",
   "metadata": {
    "papermill": {
     "duration": 0.044934,
     "end_time": "2022-07-01T19:28:14.068154",
     "exception": false,
     "start_time": "2022-07-01T19:28:14.023220",
     "status": "completed"
    },
    "tags": []
   },
   "outputs": [],
   "source": []
  },
  {
   "cell_type": "code",
   "execution_count": 36,
   "id": "f7f3dcb7",
   "metadata": {
    "execution": {
     "iopub.execute_input": "2022-07-01T19:28:14.164031Z",
     "iopub.status.busy": "2022-07-01T19:28:14.163176Z",
     "iopub.status.idle": "2022-07-01T19:30:44.605334Z",
     "shell.execute_reply": "2022-07-01T19:30:44.604304Z",
     "shell.execute_reply.started": "2022-07-01T19:21:37.196455Z"
    },
    "papermill": {
     "duration": 150.492247,
     "end_time": "2022-07-01T19:30:44.605500",
     "exception": false,
     "start_time": "2022-07-01T19:28:14.113253",
     "status": "completed"
    },
    "tags": []
   },
   "outputs": [
    {
     "name": "stdout",
     "output_type": "stream",
     "text": [
      "{}\n",
      "{}\n"
     ]
    },
    {
     "data": {
      "application/vnd.jupyter.widget-view+json": {
       "model_id": "a5fd009d1c1c4da8a8441bb22101e0fb",
       "version_major": 2,
       "version_minor": 0
      },
      "text/plain": [
       "Downloading:   0%|          | 0.00/445M [00:00<?, ?B/s]"
      ]
     },
     "metadata": {},
     "output_type": "display_data"
    },
    {
     "name": "stderr",
     "output_type": "stream",
     "text": [
      "Some weights of the model checkpoint at dbmdz/bert-base-french-europeana-cased were not used when initializing BertForSequenceClassification: ['cls.predictions.bias', 'cls.predictions.transform.dense.weight', 'cls.predictions.transform.dense.bias', 'cls.predictions.transform.LayerNorm.weight', 'cls.predictions.transform.LayerNorm.bias', 'cls.predictions.decoder.weight', 'cls.predictions.decoder.bias', 'cls.seq_relationship.weight', 'cls.seq_relationship.bias']\n",
      "- This IS expected if you are initializing BertForSequenceClassification from the checkpoint of a model trained on another task or with another architecture (e.g. initializing a BertForSequenceClassification model from a BertForPreTraining model).\n",
      "- This IS NOT expected if you are initializing BertForSequenceClassification from the checkpoint of a model that you expect to be exactly identical (initializing a BertForSequenceClassification model from a BertForSequenceClassification model).\n",
      "Some weights of BertForSequenceClassification were not initialized from the model checkpoint at dbmdz/bert-base-french-europeana-cased and are newly initialized: ['classifier.weight', 'classifier.bias']\n",
      "You should probably TRAIN this model on a down-stream task to be able to use it for predictions and inference.\n",
      "Using the `WAND_DISABLED` environment variable is deprecated and will be removed in v5. Use the --report_to flag to control the integrations used for logging result (for instance --report_to none).\n"
     ]
    },
    {
     "data": {
      "text/html": [
       "\n",
       "    <div>\n",
       "        <style>\n",
       "            /* Turns off some styling */\n",
       "            progress {\n",
       "                /* gets rid of default border in Firefox and Opera. */\n",
       "                border: none;\n",
       "                /* Needs to be in here for Safari polyfill so background images work as expected. */\n",
       "                background-size: auto;\n",
       "            }\n",
       "        </style>\n",
       "      \n",
       "      <progress value='168' max='168' style='width:300px; height:20px; vertical-align: middle;'></progress>\n",
       "      [168/168 01:57, Epoch 7/7]\n",
       "    </div>\n",
       "    <table border=\"1\" class=\"dataframe\">\n",
       "  <thead>\n",
       "    <tr style=\"text-align: left;\">\n",
       "      <th>Epoch</th>\n",
       "      <th>Training Loss</th>\n",
       "      <th>Validation Loss</th>\n",
       "      <th>Accuracy</th>\n",
       "      <th>Runtime</th>\n",
       "      <th>Samples Per Second</th>\n",
       "    </tr>\n",
       "  </thead>\n",
       "  <tbody>\n",
       "    <tr>\n",
       "      <td>1</td>\n",
       "      <td>No log</td>\n",
       "      <td>2.087388</td>\n",
       "      <td>0.000000</td>\n",
       "      <td>0.041800</td>\n",
       "      <td>23.927000</td>\n",
       "    </tr>\n",
       "    <tr>\n",
       "      <td>2</td>\n",
       "      <td>No log</td>\n",
       "      <td>3.319314</td>\n",
       "      <td>0.000000</td>\n",
       "      <td>0.035000</td>\n",
       "      <td>28.549000</td>\n",
       "    </tr>\n",
       "    <tr>\n",
       "      <td>3</td>\n",
       "      <td>1.512000</td>\n",
       "      <td>4.162873</td>\n",
       "      <td>0.000000</td>\n",
       "      <td>0.031900</td>\n",
       "      <td>31.393000</td>\n",
       "    </tr>\n",
       "    <tr>\n",
       "      <td>4</td>\n",
       "      <td>1.512000</td>\n",
       "      <td>4.354156</td>\n",
       "      <td>0.000000</td>\n",
       "      <td>0.035100</td>\n",
       "      <td>28.450000</td>\n",
       "    </tr>\n",
       "    <tr>\n",
       "      <td>5</td>\n",
       "      <td>0.867000</td>\n",
       "      <td>4.624961</td>\n",
       "      <td>0.000000</td>\n",
       "      <td>0.034500</td>\n",
       "      <td>28.983000</td>\n",
       "    </tr>\n",
       "    <tr>\n",
       "      <td>6</td>\n",
       "      <td>0.867000</td>\n",
       "      <td>4.566848</td>\n",
       "      <td>0.000000</td>\n",
       "      <td>0.033600</td>\n",
       "      <td>29.806000</td>\n",
       "    </tr>\n",
       "    <tr>\n",
       "      <td>7</td>\n",
       "      <td>0.585500</td>\n",
       "      <td>4.568268</td>\n",
       "      <td>0.000000</td>\n",
       "      <td>0.033700</td>\n",
       "      <td>29.681000</td>\n",
       "    </tr>\n",
       "  </tbody>\n",
       "</table><p>"
      ],
      "text/plain": [
       "<IPython.core.display.HTML object>"
      ]
     },
     "metadata": {},
     "output_type": "display_data"
    }
   ],
   "source": [
    "train_set = CEFRDataset(train_set_df[\"text\"], train_set_df[\"label\"])\n",
    "valid_set = CEFRDataset(valid_set_df[\"text\"], valid_set_df[\"label\"])\n",
    "\n",
    "\n",
    "trainer_second = train(train_set, valid_set, epochs=epochs, warmup_size=0.2, lr=lr, batch_size=batch_size)\n",
    "model = trainer_second.model"
   ]
  },
  {
   "cell_type": "code",
   "execution_count": 37,
   "id": "919023bb",
   "metadata": {
    "execution": {
     "iopub.execute_input": "2022-07-01T19:30:44.704343Z",
     "iopub.status.busy": "2022-07-01T19:30:44.703792Z",
     "iopub.status.idle": "2022-07-01T19:30:44.739476Z",
     "shell.execute_reply": "2022-07-01T19:30:44.739054Z",
     "shell.execute_reply.started": "2022-07-01T19:23:59.496938Z"
    },
    "papermill": {
     "duration": 0.087063,
     "end_time": "2022-07-01T19:30:44.739615",
     "exception": false,
     "start_time": "2022-07-01T19:30:44.652552",
     "status": "completed"
    },
    "tags": []
   },
   "outputs": [
    {
     "name": "stderr",
     "output_type": "stream",
     "text": [
      "100%|██████████| 1/1 [00:00<00:00, 39.05it/s]\n"
     ]
    }
   ],
   "source": [
    "valid_set_df[\"preds\"] = train_set.encoder.inverse_transform(predict(model, valid_set_df.text.tolist()))\n",
    "valid_set_df.columns = [\"text\", \"cefr\", \"preds\",] "
   ]
  },
  {
   "cell_type": "code",
   "execution_count": 38,
   "id": "e68da152",
   "metadata": {
    "execution": {
     "iopub.execute_input": "2022-07-01T19:30:44.839890Z",
     "iopub.status.busy": "2022-07-01T19:30:44.839208Z",
     "iopub.status.idle": "2022-07-01T19:30:46.883884Z",
     "shell.execute_reply": "2022-07-01T19:30:46.884259Z",
     "shell.execute_reply.started": "2022-07-01T19:23:59.555246Z"
    },
    "papermill": {
     "duration": 2.097163,
     "end_time": "2022-07-01T19:30:46.884402",
     "exception": false,
     "start_time": "2022-07-01T19:30:44.787239",
     "status": "completed"
    },
    "tags": []
   },
   "outputs": [
    {
     "name": "stderr",
     "output_type": "stream",
     "text": [
      "100%|██████████| 111/111 [00:02<00:00, 54.63it/s]\n"
     ]
    }
   ],
   "source": [
    "lingua = pd.read_csv(\"../input/lingua/fr_lingua.csv\")\n",
    "lingua[\"preds\"] = train_set.encoder.inverse_transform(predict(model, lingua.text.tolist()))"
   ]
  },
  {
   "cell_type": "code",
   "execution_count": 39,
   "id": "3ba284e4",
   "metadata": {
    "execution": {
     "iopub.execute_input": "2022-07-01T19:30:46.995698Z",
     "iopub.status.busy": "2022-07-01T19:30:46.994100Z",
     "iopub.status.idle": "2022-07-01T19:30:46.996292Z",
     "shell.execute_reply": "2022-07-01T19:30:46.996735Z",
     "shell.execute_reply.started": "2022-07-01T19:24:02.873151Z"
    },
    "papermill": {
     "duration": 0.059313,
     "end_time": "2022-07-01T19:30:46.996871",
     "exception": false,
     "start_time": "2022-07-01T19:30:46.937558",
     "status": "completed"
    },
    "tags": []
   },
   "outputs": [],
   "source": [
    "# lingua.columns=[\"text\",\"len\",\"lang\",\"cefr\",\"preds\"]\n",
    "# lingua = lingua[lingua.cefr != \"XX\"]"
   ]
  },
  {
   "cell_type": "code",
   "execution_count": 40,
   "id": "742ad283",
   "metadata": {
    "execution": {
     "iopub.execute_input": "2022-07-01T19:30:47.108331Z",
     "iopub.status.busy": "2022-07-01T19:30:47.107748Z",
     "iopub.status.idle": "2022-07-01T19:30:47.110279Z",
     "shell.execute_reply": "2022-07-01T19:30:47.110696Z",
     "shell.execute_reply.started": "2022-07-01T19:24:02.885864Z"
    },
    "papermill": {
     "duration": 0.06195,
     "end_time": "2022-07-01T19:30:47.110821",
     "exception": false,
     "start_time": "2022-07-01T19:30:47.048871",
     "status": "completed"
    },
    "tags": []
   },
   "outputs": [
    {
     "data": {
      "text/plain": [
       "B1    60\n",
       "A2    26\n",
       "A1    13\n",
       "B2    12\n",
       "Name: cefr, dtype: int64"
      ]
     },
     "execution_count": 40,
     "metadata": {},
     "output_type": "execute_result"
    }
   ],
   "source": [
    "lingua.cefr.value_counts()"
   ]
  },
  {
   "cell_type": "code",
   "execution_count": 41,
   "id": "50d7fb54",
   "metadata": {
    "execution": {
     "iopub.execute_input": "2022-07-01T19:30:47.220549Z",
     "iopub.status.busy": "2022-07-01T19:30:47.219901Z",
     "iopub.status.idle": "2022-07-01T19:30:47.222422Z",
     "shell.execute_reply": "2022-07-01T19:30:47.222913Z",
     "shell.execute_reply.started": "2022-07-01T19:24:04.340603Z"
    },
    "papermill": {
     "duration": 0.059346,
     "end_time": "2022-07-01T19:30:47.223038",
     "exception": false,
     "start_time": "2022-07-01T19:30:47.163692",
     "status": "completed"
    },
    "tags": []
   },
   "outputs": [
    {
     "data": {
      "text/plain": [
       "array([4])"
      ]
     },
     "execution_count": 41,
     "metadata": {},
     "output_type": "execute_result"
    }
   ],
   "source": [
    "lingua.preds.unique()"
   ]
  },
  {
   "cell_type": "code",
   "execution_count": 42,
   "id": "e5e1187a",
   "metadata": {
    "execution": {
     "iopub.execute_input": "2022-07-01T19:30:47.334002Z",
     "iopub.status.busy": "2022-07-01T19:30:47.332448Z",
     "iopub.status.idle": "2022-07-01T19:30:47.334658Z",
     "shell.execute_reply": "2022-07-01T19:30:47.335073Z",
     "shell.execute_reply.started": "2022-07-01T19:24:04.356815Z"
    },
    "papermill": {
     "duration": 0.060234,
     "end_time": "2022-07-01T19:30:47.335199",
     "exception": false,
     "start_time": "2022-07-01T19:30:47.274965",
     "status": "completed"
    },
    "tags": []
   },
   "outputs": [],
   "source": [
    "def compute_average_distance(df, col_name=\"cefr\") :\n",
    "    \n",
    "    labels = [\"A1\", \"A2\", \"B1\", \"B2\", \"C1\", \"C2\"]\n",
    "    return (df[col_name].apply(lambda x: labels.index(x)) - df.preds.apply(lambda x: labels.index(x))).abs().mean()\n"
   ]
  },
  {
   "cell_type": "code",
   "execution_count": 43,
   "id": "d87a8996",
   "metadata": {
    "execution": {
     "iopub.execute_input": "2022-07-01T19:30:47.447747Z",
     "iopub.status.busy": "2022-07-01T19:30:47.446997Z",
     "iopub.status.idle": "2022-07-01T19:30:47.449758Z",
     "shell.execute_reply": "2022-07-01T19:30:47.450174Z",
     "shell.execute_reply.started": "2022-07-01T19:24:04.366465Z"
    },
    "papermill": {
     "duration": 0.062296,
     "end_time": "2022-07-01T19:30:47.450291",
     "exception": false,
     "start_time": "2022-07-01T19:30:47.387995",
     "status": "completed"
    },
    "tags": []
   },
   "outputs": [
    {
     "data": {
      "text/plain": [
       "4    111\n",
       "Name: preds, dtype: int64"
      ]
     },
     "execution_count": 43,
     "metadata": {},
     "output_type": "execute_result"
    }
   ],
   "source": [
    "lingua.preds.value_counts()"
   ]
  },
  {
   "cell_type": "code",
   "execution_count": 44,
   "id": "5b6f61fb",
   "metadata": {
    "execution": {
     "iopub.execute_input": "2022-07-01T19:30:47.561991Z",
     "iopub.status.busy": "2022-07-01T19:30:47.560451Z",
     "iopub.status.idle": "2022-07-01T19:30:47.562656Z",
     "shell.execute_reply": "2022-07-01T19:30:47.563074Z",
     "shell.execute_reply.started": "2022-07-01T19:24:04.382739Z"
    },
    "papermill": {
     "duration": 0.059912,
     "end_time": "2022-07-01T19:30:47.563189",
     "exception": false,
     "start_time": "2022-07-01T19:30:47.503277",
     "status": "completed"
    },
    "tags": []
   },
   "outputs": [],
   "source": [
    "lingua[\"preds\"] = le.inverse_transform(lingua.preds)"
   ]
  },
  {
   "cell_type": "code",
   "execution_count": 45,
   "id": "9d59af97",
   "metadata": {
    "execution": {
     "iopub.execute_input": "2022-07-01T19:30:47.672807Z",
     "iopub.status.busy": "2022-07-01T19:30:47.672261Z",
     "iopub.status.idle": "2022-07-01T19:30:47.676272Z",
     "shell.execute_reply": "2022-07-01T19:30:47.676684Z",
     "shell.execute_reply.started": "2022-07-01T19:24:04.391930Z"
    },
    "papermill": {
     "duration": 0.061414,
     "end_time": "2022-07-01T19:30:47.676807",
     "exception": false,
     "start_time": "2022-07-01T19:30:47.615393",
     "status": "completed"
    },
    "tags": []
   },
   "outputs": [
    {
     "data": {
      "text/plain": [
       "C1    111\n",
       "Name: preds, dtype: int64"
      ]
     },
     "execution_count": 45,
     "metadata": {},
     "output_type": "execute_result"
    }
   ],
   "source": [
    "lingua.preds.value_counts()"
   ]
  },
  {
   "cell_type": "code",
   "execution_count": 46,
   "id": "ea8cb84c",
   "metadata": {
    "execution": {
     "iopub.execute_input": "2022-07-01T19:30:47.790544Z",
     "iopub.status.busy": "2022-07-01T19:30:47.788973Z",
     "iopub.status.idle": "2022-07-01T19:30:47.792683Z",
     "shell.execute_reply": "2022-07-01T19:30:47.792203Z",
     "shell.execute_reply.started": "2022-07-01T19:24:04.403831Z"
    },
    "papermill": {
     "duration": 0.0627,
     "end_time": "2022-07-01T19:30:47.792789",
     "exception": false,
     "start_time": "2022-07-01T19:30:47.730089",
     "status": "completed"
    },
    "tags": []
   },
   "outputs": [
    {
     "name": "stdout",
     "output_type": "stream",
     "text": [
      "Distance: \n",
      "2.3603603603603602\n",
      "Lingua accuracy: 0.0\n"
     ]
    }
   ],
   "source": [
    "print(\"Distance: \")\n",
    "print(compute_average_distance(lingua, \"cefr\"))\n",
    "\n",
    "print(f\"Lingua accuracy: {(lingua['preds'] == lingua['cefr']).mean()}\")"
   ]
  },
  {
   "cell_type": "code",
   "execution_count": 47,
   "id": "d4734ef1",
   "metadata": {
    "execution": {
     "iopub.execute_input": "2022-07-01T19:30:47.924180Z",
     "iopub.status.busy": "2022-07-01T19:30:47.905259Z",
     "iopub.status.idle": "2022-07-01T19:30:47.940510Z",
     "shell.execute_reply": "2022-07-01T19:30:47.940999Z",
     "shell.execute_reply.started": "2022-07-01T19:24:04.421549Z"
    },
    "papermill": {
     "duration": 0.095321,
     "end_time": "2022-07-01T19:30:47.941160",
     "exception": false,
     "start_time": "2022-07-01T19:30:47.845839",
     "status": "completed"
    },
    "tags": []
   },
   "outputs": [
    {
     "data": {
      "text/plain": [
       "B2    111\n",
       "Name: Predss, dtype: int64"
      ]
     },
     "execution_count": 47,
     "metadata": {},
     "output_type": "execute_result"
    }
   ],
   "source": [
    "for i in range(lingua.shape[0]):\n",
    "    if (lingua.loc[i,\"preds\"]==\"C1\") | (lingua.loc[i,\"preds\"]==\"C2\") :\n",
    "        lingua.loc[i,\"Predss\"]=\"B2\"\n",
    "    else :\n",
    "        lingua.loc[i,\"Predss\"]= lingua.loc[i,\"preds\"]\n",
    "lingua[\"Predss\"].value_counts()"
   ]
  },
  {
   "cell_type": "code",
   "execution_count": 48,
   "id": "f715a337",
   "metadata": {
    "execution": {
     "iopub.execute_input": "2022-07-01T19:30:48.055719Z",
     "iopub.status.busy": "2022-07-01T19:30:48.055153Z",
     "iopub.status.idle": "2022-07-01T19:30:48.058940Z",
     "shell.execute_reply": "2022-07-01T19:30:48.058466Z",
     "shell.execute_reply.started": "2022-07-01T19:24:04.470304Z"
    },
    "papermill": {
     "duration": 0.063128,
     "end_time": "2022-07-01T19:30:48.059045",
     "exception": false,
     "start_time": "2022-07-01T19:30:47.995917",
     "status": "completed"
    },
    "tags": []
   },
   "outputs": [
    {
     "name": "stdout",
     "output_type": "stream",
     "text": [
      "Distance: \n",
      "2.3603603603603602\n",
      "Lingua accuracy: 0.10810810810810811\n"
     ]
    }
   ],
   "source": [
    "print(\"Distance: \")\n",
    "print(compute_average_distance(lingua, \"cefr\"))\n",
    "\n",
    "print(f\"Lingua accuracy: {(lingua['Predss'] == lingua['cefr']).mean()}\")"
   ]
  },
  {
   "cell_type": "markdown",
   "id": "bb175787",
   "metadata": {
    "papermill": {
     "duration": 0.065444,
     "end_time": "2022-07-01T19:30:48.178214",
     "exception": false,
     "start_time": "2022-07-01T19:30:48.112770",
     "status": "completed"
    },
    "tags": []
   },
   "source": [
    "****"
   ]
  },
  {
   "cell_type": "markdown",
   "id": "5d80b280",
   "metadata": {
    "papermill": {
     "duration": 0.053313,
     "end_time": "2022-07-01T19:30:48.301234",
     "exception": false,
     "start_time": "2022-07-01T19:30:48.247921",
     "status": "completed"
    },
    "tags": []
   },
   "source": [
    "Distance: \n",
    "0.990990990990991\n",
    "Lingua accuracy: 0.40540540540540543 <br>\n",
    "2    82\n",
    "3    15\n",
    "5    10\n",
    "4     2\n",
    "0     1\n",
    "1     1 <br> \n",
    "inokufu/flaubert-base-uncased-xnli-sts-finetuned-education"
   ]
  },
  {
   "cell_type": "markdown",
   "id": "707262ea",
   "metadata": {
    "papermill": {
     "duration": 0.054054,
     "end_time": "2022-07-01T19:30:48.409985",
     "exception": false,
     "start_time": "2022-07-01T19:30:48.355931",
     "status": "completed"
    },
    "tags": []
   },
   "source": [
    "****"
   ]
  },
  {
   "cell_type": "markdown",
   "id": "068fe0fa",
   "metadata": {
    "papermill": {
     "duration": 0.067453,
     "end_time": "2022-07-01T19:30:48.531597",
     "exception": false,
     "start_time": "2022-07-01T19:30:48.464144",
     "status": "completed"
    },
    "tags": []
   },
   "source": [
    "\n",
    "Distance: \n",
    "0.8648648648648649\n",
    "Lingua accuracy: 0.450450450450450462 <br>\n",
    "3     7\n",
    "1     5\n",
    "5     4\n",
    "4     4\n",
    "0     1 <br> inokufu/flaubert-base-uncased-xnli-sts-finetuned-education"
   ]
  },
  {
   "cell_type": "code",
   "execution_count": null,
   "id": "55257216",
   "metadata": {
    "papermill": {
     "duration": 0.053318,
     "end_time": "2022-07-01T19:30:48.639476",
     "exception": false,
     "start_time": "2022-07-01T19:30:48.586158",
     "status": "completed"
    },
    "tags": []
   },
   "outputs": [],
   "source": []
  },
  {
   "cell_type": "code",
   "execution_count": null,
   "id": "638a7df4",
   "metadata": {
    "papermill": {
     "duration": 0.054037,
     "end_time": "2022-07-01T19:30:48.747223",
     "exception": false,
     "start_time": "2022-07-01T19:30:48.693186",
     "status": "completed"
    },
    "tags": []
   },
   "outputs": [],
   "source": []
  },
  {
   "cell_type": "code",
   "execution_count": null,
   "id": "e626d723",
   "metadata": {
    "papermill": {
     "duration": 0.054174,
     "end_time": "2022-07-01T19:30:48.855067",
     "exception": false,
     "start_time": "2022-07-01T19:30:48.800893",
     "status": "completed"
    },
    "tags": []
   },
   "outputs": [],
   "source": []
  },
  {
   "cell_type": "code",
   "execution_count": null,
   "id": "73c1327e",
   "metadata": {
    "papermill": {
     "duration": 0.054984,
     "end_time": "2022-07-01T19:30:48.963498",
     "exception": false,
     "start_time": "2022-07-01T19:30:48.908514",
     "status": "completed"
    },
    "tags": []
   },
   "outputs": [],
   "source": []
  }
 ],
 "metadata": {
  "kernelspec": {
   "display_name": "Python 3",
   "language": "python",
   "name": "python3"
  },
  "language_info": {
   "codemirror_mode": {
    "name": "ipython",
    "version": 3
   },
   "file_extension": ".py",
   "mimetype": "text/x-python",
   "name": "python",
   "nbconvert_exporter": "python",
   "pygments_lexer": "ipython3",
   "version": "3.7.10"
  },
  "papermill": {
   "default_parameters": {},
   "duration": 181.523091,
   "end_time": "2022-07-01T19:30:52.170330",
   "environment_variables": {},
   "exception": null,
   "input_path": "__notebook__.ipynb",
   "output_path": "__notebook__.ipynb",
   "parameters": {},
   "start_time": "2022-07-01T19:27:50.647239",
   "version": "2.3.3"
  },
  "widgets": {
   "application/vnd.jupyter.widget-state+json": {
    "state": {
     "0bb054842b6b42f1a3b25dc5b9a18d9e": {
      "model_module": "@jupyter-widgets/controls",
      "model_module_version": "1.5.0",
      "model_name": "DescriptionStyleModel",
      "state": {
       "_model_module": "@jupyter-widgets/controls",
       "_model_module_version": "1.5.0",
       "_model_name": "DescriptionStyleModel",
       "_view_count": null,
       "_view_module": "@jupyter-widgets/base",
       "_view_module_version": "1.2.0",
       "_view_name": "StyleView",
       "description_width": ""
      }
     },
     "0f132d7c614d4b31bad326e29ece9c2a": {
      "model_module": "@jupyter-widgets/base",
      "model_module_version": "1.2.0",
      "model_name": "LayoutModel",
      "state": {
       "_model_module": "@jupyter-widgets/base",
       "_model_module_version": "1.2.0",
       "_model_name": "LayoutModel",
       "_view_count": null,
       "_view_module": "@jupyter-widgets/base",
       "_view_module_version": "1.2.0",
       "_view_name": "LayoutView",
       "align_content": null,
       "align_items": null,
       "align_self": null,
       "border": null,
       "bottom": null,
       "display": null,
       "flex": null,
       "flex_flow": null,
       "grid_area": null,
       "grid_auto_columns": null,
       "grid_auto_flow": null,
       "grid_auto_rows": null,
       "grid_column": null,
       "grid_gap": null,
       "grid_row": null,
       "grid_template_areas": null,
       "grid_template_columns": null,
       "grid_template_rows": null,
       "height": null,
       "justify_content": null,
       "justify_items": null,
       "left": null,
       "margin": null,
       "max_height": null,
       "max_width": null,
       "min_height": null,
       "min_width": null,
       "object_fit": null,
       "object_position": null,
       "order": null,
       "overflow": null,
       "overflow_x": null,
       "overflow_y": null,
       "padding": null,
       "right": null,
       "top": null,
       "visibility": null,
       "width": null
      }
     },
     "24df2a1f628a4a14bc6913d7e65fe1d6": {
      "model_module": "@jupyter-widgets/controls",
      "model_module_version": "1.5.0",
      "model_name": "DescriptionStyleModel",
      "state": {
       "_model_module": "@jupyter-widgets/controls",
       "_model_module_version": "1.5.0",
       "_model_name": "DescriptionStyleModel",
       "_view_count": null,
       "_view_module": "@jupyter-widgets/base",
       "_view_module_version": "1.2.0",
       "_view_name": "StyleView",
       "description_width": ""
      }
     },
     "260afd8f429a4db4abfe79725455938b": {
      "model_module": "@jupyter-widgets/controls",
      "model_module_version": "1.5.0",
      "model_name": "ProgressStyleModel",
      "state": {
       "_model_module": "@jupyter-widgets/controls",
       "_model_module_version": "1.5.0",
       "_model_name": "ProgressStyleModel",
       "_view_count": null,
       "_view_module": "@jupyter-widgets/base",
       "_view_module_version": "1.2.0",
       "_view_name": "StyleView",
       "bar_color": null,
       "description_width": ""
      }
     },
     "26417690a1654905bfc4cf92d17c2b22": {
      "model_module": "@jupyter-widgets/base",
      "model_module_version": "1.2.0",
      "model_name": "LayoutModel",
      "state": {
       "_model_module": "@jupyter-widgets/base",
       "_model_module_version": "1.2.0",
       "_model_name": "LayoutModel",
       "_view_count": null,
       "_view_module": "@jupyter-widgets/base",
       "_view_module_version": "1.2.0",
       "_view_name": "LayoutView",
       "align_content": null,
       "align_items": null,
       "align_self": null,
       "border": null,
       "bottom": null,
       "display": null,
       "flex": null,
       "flex_flow": null,
       "grid_area": null,
       "grid_auto_columns": null,
       "grid_auto_flow": null,
       "grid_auto_rows": null,
       "grid_column": null,
       "grid_gap": null,
       "grid_row": null,
       "grid_template_areas": null,
       "grid_template_columns": null,
       "grid_template_rows": null,
       "height": null,
       "justify_content": null,
       "justify_items": null,
       "left": null,
       "margin": null,
       "max_height": null,
       "max_width": null,
       "min_height": null,
       "min_width": null,
       "object_fit": null,
       "object_position": null,
       "order": null,
       "overflow": null,
       "overflow_x": null,
       "overflow_y": null,
       "padding": null,
       "right": null,
       "top": null,
       "visibility": null,
       "width": null
      }
     },
     "39d517d2dd814fefaf233b5a3cb3d36c": {
      "model_module": "@jupyter-widgets/base",
      "model_module_version": "1.2.0",
      "model_name": "LayoutModel",
      "state": {
       "_model_module": "@jupyter-widgets/base",
       "_model_module_version": "1.2.0",
       "_model_name": "LayoutModel",
       "_view_count": null,
       "_view_module": "@jupyter-widgets/base",
       "_view_module_version": "1.2.0",
       "_view_name": "LayoutView",
       "align_content": null,
       "align_items": null,
       "align_self": null,
       "border": null,
       "bottom": null,
       "display": null,
       "flex": null,
       "flex_flow": null,
       "grid_area": null,
       "grid_auto_columns": null,
       "grid_auto_flow": null,
       "grid_auto_rows": null,
       "grid_column": null,
       "grid_gap": null,
       "grid_row": null,
       "grid_template_areas": null,
       "grid_template_columns": null,
       "grid_template_rows": null,
       "height": null,
       "justify_content": null,
       "justify_items": null,
       "left": null,
       "margin": null,
       "max_height": null,
       "max_width": null,
       "min_height": null,
       "min_width": null,
       "object_fit": null,
       "object_position": null,
       "order": null,
       "overflow": null,
       "overflow_x": null,
       "overflow_y": null,
       "padding": null,
       "right": null,
       "top": null,
       "visibility": null,
       "width": null
      }
     },
     "3cc1ca222e6c44a18b688bf2df536504": {
      "model_module": "@jupyter-widgets/controls",
      "model_module_version": "1.5.0",
      "model_name": "DescriptionStyleModel",
      "state": {
       "_model_module": "@jupyter-widgets/controls",
       "_model_module_version": "1.5.0",
       "_model_name": "DescriptionStyleModel",
       "_view_count": null,
       "_view_module": "@jupyter-widgets/base",
       "_view_module_version": "1.2.0",
       "_view_name": "StyleView",
       "description_width": ""
      }
     },
     "40864d32f6d543e1bea95c20b8e267d2": {
      "model_module": "@jupyter-widgets/base",
      "model_module_version": "1.2.0",
      "model_name": "LayoutModel",
      "state": {
       "_model_module": "@jupyter-widgets/base",
       "_model_module_version": "1.2.0",
       "_model_name": "LayoutModel",
       "_view_count": null,
       "_view_module": "@jupyter-widgets/base",
       "_view_module_version": "1.2.0",
       "_view_name": "LayoutView",
       "align_content": null,
       "align_items": null,
       "align_self": null,
       "border": null,
       "bottom": null,
       "display": null,
       "flex": null,
       "flex_flow": null,
       "grid_area": null,
       "grid_auto_columns": null,
       "grid_auto_flow": null,
       "grid_auto_rows": null,
       "grid_column": null,
       "grid_gap": null,
       "grid_row": null,
       "grid_template_areas": null,
       "grid_template_columns": null,
       "grid_template_rows": null,
       "height": null,
       "justify_content": null,
       "justify_items": null,
       "left": null,
       "margin": null,
       "max_height": null,
       "max_width": null,
       "min_height": null,
       "min_width": null,
       "object_fit": null,
       "object_position": null,
       "order": null,
       "overflow": null,
       "overflow_x": null,
       "overflow_y": null,
       "padding": null,
       "right": null,
       "top": null,
       "visibility": null,
       "width": null
      }
     },
     "41bc76c2567640ed92036107c177175a": {
      "model_module": "@jupyter-widgets/base",
      "model_module_version": "1.2.0",
      "model_name": "LayoutModel",
      "state": {
       "_model_module": "@jupyter-widgets/base",
       "_model_module_version": "1.2.0",
       "_model_name": "LayoutModel",
       "_view_count": null,
       "_view_module": "@jupyter-widgets/base",
       "_view_module_version": "1.2.0",
       "_view_name": "LayoutView",
       "align_content": null,
       "align_items": null,
       "align_self": null,
       "border": null,
       "bottom": null,
       "display": null,
       "flex": null,
       "flex_flow": null,
       "grid_area": null,
       "grid_auto_columns": null,
       "grid_auto_flow": null,
       "grid_auto_rows": null,
       "grid_column": null,
       "grid_gap": null,
       "grid_row": null,
       "grid_template_areas": null,
       "grid_template_columns": null,
       "grid_template_rows": null,
       "height": null,
       "justify_content": null,
       "justify_items": null,
       "left": null,
       "margin": null,
       "max_height": null,
       "max_width": null,
       "min_height": null,
       "min_width": null,
       "object_fit": null,
       "object_position": null,
       "order": null,
       "overflow": null,
       "overflow_x": null,
       "overflow_y": null,
       "padding": null,
       "right": null,
       "top": null,
       "visibility": null,
       "width": null
      }
     },
     "463458eb3453474c9f9cdb7404683b47": {
      "model_module": "@jupyter-widgets/base",
      "model_module_version": "1.2.0",
      "model_name": "LayoutModel",
      "state": {
       "_model_module": "@jupyter-widgets/base",
       "_model_module_version": "1.2.0",
       "_model_name": "LayoutModel",
       "_view_count": null,
       "_view_module": "@jupyter-widgets/base",
       "_view_module_version": "1.2.0",
       "_view_name": "LayoutView",
       "align_content": null,
       "align_items": null,
       "align_self": null,
       "border": null,
       "bottom": null,
       "display": null,
       "flex": null,
       "flex_flow": null,
       "grid_area": null,
       "grid_auto_columns": null,
       "grid_auto_flow": null,
       "grid_auto_rows": null,
       "grid_column": null,
       "grid_gap": null,
       "grid_row": null,
       "grid_template_areas": null,
       "grid_template_columns": null,
       "grid_template_rows": null,
       "height": null,
       "justify_content": null,
       "justify_items": null,
       "left": null,
       "margin": null,
       "max_height": null,
       "max_width": null,
       "min_height": null,
       "min_width": null,
       "object_fit": null,
       "object_position": null,
       "order": null,
       "overflow": null,
       "overflow_x": null,
       "overflow_y": null,
       "padding": null,
       "right": null,
       "top": null,
       "visibility": null,
       "width": null
      }
     },
     "4e89736ba78943888099f0292aacd292": {
      "model_module": "@jupyter-widgets/controls",
      "model_module_version": "1.5.0",
      "model_name": "ProgressStyleModel",
      "state": {
       "_model_module": "@jupyter-widgets/controls",
       "_model_module_version": "1.5.0",
       "_model_name": "ProgressStyleModel",
       "_view_count": null,
       "_view_module": "@jupyter-widgets/base",
       "_view_module_version": "1.2.0",
       "_view_name": "StyleView",
       "bar_color": null,
       "description_width": ""
      }
     },
     "519e13d97c0a4cb9b61315947bfb2911": {
      "model_module": "@jupyter-widgets/controls",
      "model_module_version": "1.5.0",
      "model_name": "HTMLModel",
      "state": {
       "_dom_classes": [],
       "_model_module": "@jupyter-widgets/controls",
       "_model_module_version": "1.5.0",
       "_model_name": "HTMLModel",
       "_view_count": null,
       "_view_module": "@jupyter-widgets/controls",
       "_view_module_version": "1.5.0",
       "_view_name": "HTMLView",
       "description": "",
       "description_tooltip": null,
       "layout": "IPY_MODEL_ec7494883c6e4ba18980f3873385a21b",
       "placeholder": "​",
       "style": "IPY_MODEL_b0db114bac514132884331a52c19177f",
       "value": " 83.0/83.0 [00:00&lt;00:00, 1.55kB/s]"
      }
     },
     "53ce3b5d6d3b4918a90ce511cb0bd188": {
      "model_module": "@jupyter-widgets/controls",
      "model_module_version": "1.5.0",
      "model_name": "DescriptionStyleModel",
      "state": {
       "_model_module": "@jupyter-widgets/controls",
       "_model_module_version": "1.5.0",
       "_model_name": "DescriptionStyleModel",
       "_view_count": null,
       "_view_module": "@jupyter-widgets/base",
       "_view_module_version": "1.2.0",
       "_view_name": "StyleView",
       "description_width": ""
      }
     },
     "5411f70b80f0408f920cae52098708f1": {
      "model_module": "@jupyter-widgets/controls",
      "model_module_version": "1.5.0",
      "model_name": "HTMLModel",
      "state": {
       "_dom_classes": [],
       "_model_module": "@jupyter-widgets/controls",
       "_model_module_version": "1.5.0",
       "_model_name": "HTMLModel",
       "_view_count": null,
       "_view_module": "@jupyter-widgets/controls",
       "_view_module_version": "1.5.0",
       "_view_name": "HTMLView",
       "description": "",
       "description_tooltip": null,
       "layout": "IPY_MODEL_463458eb3453474c9f9cdb7404683b47",
       "placeholder": "​",
       "style": "IPY_MODEL_64cc388194d349199e482eb9e36bc46d",
       "value": "Downloading: 100%"
      }
     },
     "581ed980d38e4e9494dd62aa64c94496": {
      "model_module": "@jupyter-widgets/controls",
      "model_module_version": "1.5.0",
      "model_name": "DescriptionStyleModel",
      "state": {
       "_model_module": "@jupyter-widgets/controls",
       "_model_module_version": "1.5.0",
       "_model_name": "DescriptionStyleModel",
       "_view_count": null,
       "_view_module": "@jupyter-widgets/base",
       "_view_module_version": "1.2.0",
       "_view_name": "StyleView",
       "description_width": ""
      }
     },
     "5954c1656cd746a0bbb9844c42512121": {
      "model_module": "@jupyter-widgets/base",
      "model_module_version": "1.2.0",
      "model_name": "LayoutModel",
      "state": {
       "_model_module": "@jupyter-widgets/base",
       "_model_module_version": "1.2.0",
       "_model_name": "LayoutModel",
       "_view_count": null,
       "_view_module": "@jupyter-widgets/base",
       "_view_module_version": "1.2.0",
       "_view_name": "LayoutView",
       "align_content": null,
       "align_items": null,
       "align_self": null,
       "border": null,
       "bottom": null,
       "display": null,
       "flex": null,
       "flex_flow": null,
       "grid_area": null,
       "grid_auto_columns": null,
       "grid_auto_flow": null,
       "grid_auto_rows": null,
       "grid_column": null,
       "grid_gap": null,
       "grid_row": null,
       "grid_template_areas": null,
       "grid_template_columns": null,
       "grid_template_rows": null,
       "height": null,
       "justify_content": null,
       "justify_items": null,
       "left": null,
       "margin": null,
       "max_height": null,
       "max_width": null,
       "min_height": null,
       "min_width": null,
       "object_fit": null,
       "object_position": null,
       "order": null,
       "overflow": null,
       "overflow_x": null,
       "overflow_y": null,
       "padding": null,
       "right": null,
       "top": null,
       "visibility": null,
       "width": null
      }
     },
     "64cc388194d349199e482eb9e36bc46d": {
      "model_module": "@jupyter-widgets/controls",
      "model_module_version": "1.5.0",
      "model_name": "DescriptionStyleModel",
      "state": {
       "_model_module": "@jupyter-widgets/controls",
       "_model_module_version": "1.5.0",
       "_model_name": "DescriptionStyleModel",
       "_view_count": null,
       "_view_module": "@jupyter-widgets/base",
       "_view_module_version": "1.2.0",
       "_view_name": "StyleView",
       "description_width": ""
      }
     },
     "65a1137f63514ac580c87c1a291d4139": {
      "model_module": "@jupyter-widgets/base",
      "model_module_version": "1.2.0",
      "model_name": "LayoutModel",
      "state": {
       "_model_module": "@jupyter-widgets/base",
       "_model_module_version": "1.2.0",
       "_model_name": "LayoutModel",
       "_view_count": null,
       "_view_module": "@jupyter-widgets/base",
       "_view_module_version": "1.2.0",
       "_view_name": "LayoutView",
       "align_content": null,
       "align_items": null,
       "align_self": null,
       "border": null,
       "bottom": null,
       "display": null,
       "flex": null,
       "flex_flow": null,
       "grid_area": null,
       "grid_auto_columns": null,
       "grid_auto_flow": null,
       "grid_auto_rows": null,
       "grid_column": null,
       "grid_gap": null,
       "grid_row": null,
       "grid_template_areas": null,
       "grid_template_columns": null,
       "grid_template_rows": null,
       "height": null,
       "justify_content": null,
       "justify_items": null,
       "left": null,
       "margin": null,
       "max_height": null,
       "max_width": null,
       "min_height": null,
       "min_width": null,
       "object_fit": null,
       "object_position": null,
       "order": null,
       "overflow": null,
       "overflow_x": null,
       "overflow_y": null,
       "padding": null,
       "right": null,
       "top": null,
       "visibility": null,
       "width": null
      }
     },
     "65a4e517ec8349f499bc1a2d4b1e772e": {
      "model_module": "@jupyter-widgets/base",
      "model_module_version": "1.2.0",
      "model_name": "LayoutModel",
      "state": {
       "_model_module": "@jupyter-widgets/base",
       "_model_module_version": "1.2.0",
       "_model_name": "LayoutModel",
       "_view_count": null,
       "_view_module": "@jupyter-widgets/base",
       "_view_module_version": "1.2.0",
       "_view_name": "LayoutView",
       "align_content": null,
       "align_items": null,
       "align_self": null,
       "border": null,
       "bottom": null,
       "display": null,
       "flex": null,
       "flex_flow": null,
       "grid_area": null,
       "grid_auto_columns": null,
       "grid_auto_flow": null,
       "grid_auto_rows": null,
       "grid_column": null,
       "grid_gap": null,
       "grid_row": null,
       "grid_template_areas": null,
       "grid_template_columns": null,
       "grid_template_rows": null,
       "height": null,
       "justify_content": null,
       "justify_items": null,
       "left": null,
       "margin": null,
       "max_height": null,
       "max_width": null,
       "min_height": null,
       "min_width": null,
       "object_fit": null,
       "object_position": null,
       "order": null,
       "overflow": null,
       "overflow_x": null,
       "overflow_y": null,
       "padding": null,
       "right": null,
       "top": null,
       "visibility": null,
       "width": null
      }
     },
     "681d336afc1b433294af7a8ad5ffefde": {
      "model_module": "@jupyter-widgets/base",
      "model_module_version": "1.2.0",
      "model_name": "LayoutModel",
      "state": {
       "_model_module": "@jupyter-widgets/base",
       "_model_module_version": "1.2.0",
       "_model_name": "LayoutModel",
       "_view_count": null,
       "_view_module": "@jupyter-widgets/base",
       "_view_module_version": "1.2.0",
       "_view_name": "LayoutView",
       "align_content": null,
       "align_items": null,
       "align_self": null,
       "border": null,
       "bottom": null,
       "display": null,
       "flex": null,
       "flex_flow": null,
       "grid_area": null,
       "grid_auto_columns": null,
       "grid_auto_flow": null,
       "grid_auto_rows": null,
       "grid_column": null,
       "grid_gap": null,
       "grid_row": null,
       "grid_template_areas": null,
       "grid_template_columns": null,
       "grid_template_rows": null,
       "height": null,
       "justify_content": null,
       "justify_items": null,
       "left": null,
       "margin": null,
       "max_height": null,
       "max_width": null,
       "min_height": null,
       "min_width": null,
       "object_fit": null,
       "object_position": null,
       "order": null,
       "overflow": null,
       "overflow_x": null,
       "overflow_y": null,
       "padding": null,
       "right": null,
       "top": null,
       "visibility": null,
       "width": null
      }
     },
     "6bf350db0cf04bd6a4c6971a0d4740dd": {
      "model_module": "@jupyter-widgets/controls",
      "model_module_version": "1.5.0",
      "model_name": "ProgressStyleModel",
      "state": {
       "_model_module": "@jupyter-widgets/controls",
       "_model_module_version": "1.5.0",
       "_model_name": "ProgressStyleModel",
       "_view_count": null,
       "_view_module": "@jupyter-widgets/base",
       "_view_module_version": "1.2.0",
       "_view_name": "StyleView",
       "bar_color": null,
       "description_width": ""
      }
     },
     "6f370de33d33406ba400db9e464dc98b": {
      "model_module": "@jupyter-widgets/controls",
      "model_module_version": "1.5.0",
      "model_name": "ProgressStyleModel",
      "state": {
       "_model_module": "@jupyter-widgets/controls",
       "_model_module_version": "1.5.0",
       "_model_name": "ProgressStyleModel",
       "_view_count": null,
       "_view_module": "@jupyter-widgets/base",
       "_view_module_version": "1.2.0",
       "_view_name": "StyleView",
       "bar_color": null,
       "description_width": ""
      }
     },
     "78c30bfa01b24acca1df87468b896d8a": {
      "model_module": "@jupyter-widgets/controls",
      "model_module_version": "1.5.0",
      "model_name": "HTMLModel",
      "state": {
       "_dom_classes": [],
       "_model_module": "@jupyter-widgets/controls",
       "_model_module_version": "1.5.0",
       "_model_name": "HTMLModel",
       "_view_count": null,
       "_view_module": "@jupyter-widgets/controls",
       "_view_module_version": "1.5.0",
       "_view_name": "HTMLView",
       "description": "",
       "description_tooltip": null,
       "layout": "IPY_MODEL_65a4e517ec8349f499bc1a2d4b1e772e",
       "placeholder": "​",
       "style": "IPY_MODEL_581ed980d38e4e9494dd62aa64c94496",
       "value": " 445M/445M [00:20&lt;00:00, 23.0MB/s]"
      }
     },
     "7bc00eed0c4e4c5e823bb30292acf9e7": {
      "model_module": "@jupyter-widgets/base",
      "model_module_version": "1.2.0",
      "model_name": "LayoutModel",
      "state": {
       "_model_module": "@jupyter-widgets/base",
       "_model_module_version": "1.2.0",
       "_model_name": "LayoutModel",
       "_view_count": null,
       "_view_module": "@jupyter-widgets/base",
       "_view_module_version": "1.2.0",
       "_view_name": "LayoutView",
       "align_content": null,
       "align_items": null,
       "align_self": null,
       "border": null,
       "bottom": null,
       "display": null,
       "flex": null,
       "flex_flow": null,
       "grid_area": null,
       "grid_auto_columns": null,
       "grid_auto_flow": null,
       "grid_auto_rows": null,
       "grid_column": null,
       "grid_gap": null,
       "grid_row": null,
       "grid_template_areas": null,
       "grid_template_columns": null,
       "grid_template_rows": null,
       "height": null,
       "justify_content": null,
       "justify_items": null,
       "left": null,
       "margin": null,
       "max_height": null,
       "max_width": null,
       "min_height": null,
       "min_width": null,
       "object_fit": null,
       "object_position": null,
       "order": null,
       "overflow": null,
       "overflow_x": null,
       "overflow_y": null,
       "padding": null,
       "right": null,
       "top": null,
       "visibility": null,
       "width": null
      }
     },
     "82924dcb07514130b0ef20d8cdb0fbc3": {
      "model_module": "@jupyter-widgets/controls",
      "model_module_version": "1.5.0",
      "model_name": "FloatProgressModel",
      "state": {
       "_dom_classes": [],
       "_model_module": "@jupyter-widgets/controls",
       "_model_module_version": "1.5.0",
       "_model_name": "FloatProgressModel",
       "_view_count": null,
       "_view_module": "@jupyter-widgets/controls",
       "_view_module_version": "1.5.0",
       "_view_name": "ProgressView",
       "bar_style": "success",
       "description": "",
       "description_tooltip": null,
       "layout": "IPY_MODEL_26417690a1654905bfc4cf92d17c2b22",
       "max": 83.0,
       "min": 0.0,
       "orientation": "horizontal",
       "style": "IPY_MODEL_260afd8f429a4db4abfe79725455938b",
       "value": 83.0
      }
     },
     "85900890a9104065ae50297d16bb6dfc": {
      "model_module": "@jupyter-widgets/controls",
      "model_module_version": "1.5.0",
      "model_name": "HBoxModel",
      "state": {
       "_dom_classes": [],
       "_model_module": "@jupyter-widgets/controls",
       "_model_module_version": "1.5.0",
       "_model_name": "HBoxModel",
       "_view_count": null,
       "_view_module": "@jupyter-widgets/controls",
       "_view_module_version": "1.5.0",
       "_view_name": "HBoxView",
       "box_style": "",
       "children": [
        "IPY_MODEL_c9bc6a9bf8a641d4b2fe8b6d648cc805",
        "IPY_MODEL_82924dcb07514130b0ef20d8cdb0fbc3",
        "IPY_MODEL_519e13d97c0a4cb9b61315947bfb2911"
       ],
       "layout": "IPY_MODEL_39d517d2dd814fefaf233b5a3cb3d36c"
      }
     },
     "9845ea833cda42df80a868df575db3d5": {
      "model_module": "@jupyter-widgets/base",
      "model_module_version": "1.2.0",
      "model_name": "LayoutModel",
      "state": {
       "_model_module": "@jupyter-widgets/base",
       "_model_module_version": "1.2.0",
       "_model_name": "LayoutModel",
       "_view_count": null,
       "_view_module": "@jupyter-widgets/base",
       "_view_module_version": "1.2.0",
       "_view_name": "LayoutView",
       "align_content": null,
       "align_items": null,
       "align_self": null,
       "border": null,
       "bottom": null,
       "display": null,
       "flex": null,
       "flex_flow": null,
       "grid_area": null,
       "grid_auto_columns": null,
       "grid_auto_flow": null,
       "grid_auto_rows": null,
       "grid_column": null,
       "grid_gap": null,
       "grid_row": null,
       "grid_template_areas": null,
       "grid_template_columns": null,
       "grid_template_rows": null,
       "height": null,
       "justify_content": null,
       "justify_items": null,
       "left": null,
       "margin": null,
       "max_height": null,
       "max_width": null,
       "min_height": null,
       "min_width": null,
       "object_fit": null,
       "object_position": null,
       "order": null,
       "overflow": null,
       "overflow_x": null,
       "overflow_y": null,
       "padding": null,
       "right": null,
       "top": null,
       "visibility": null,
       "width": null
      }
     },
     "a28891f94cdc4470a2c4bbe8643e1cee": {
      "model_module": "@jupyter-widgets/base",
      "model_module_version": "1.2.0",
      "model_name": "LayoutModel",
      "state": {
       "_model_module": "@jupyter-widgets/base",
       "_model_module_version": "1.2.0",
       "_model_name": "LayoutModel",
       "_view_count": null,
       "_view_module": "@jupyter-widgets/base",
       "_view_module_version": "1.2.0",
       "_view_name": "LayoutView",
       "align_content": null,
       "align_items": null,
       "align_self": null,
       "border": null,
       "bottom": null,
       "display": null,
       "flex": null,
       "flex_flow": null,
       "grid_area": null,
       "grid_auto_columns": null,
       "grid_auto_flow": null,
       "grid_auto_rows": null,
       "grid_column": null,
       "grid_gap": null,
       "grid_row": null,
       "grid_template_areas": null,
       "grid_template_columns": null,
       "grid_template_rows": null,
       "height": null,
       "justify_content": null,
       "justify_items": null,
       "left": null,
       "margin": null,
       "max_height": null,
       "max_width": null,
       "min_height": null,
       "min_width": null,
       "object_fit": null,
       "object_position": null,
       "order": null,
       "overflow": null,
       "overflow_x": null,
       "overflow_y": null,
       "padding": null,
       "right": null,
       "top": null,
       "visibility": null,
       "width": null
      }
     },
     "a297964472e849f59581dedc6527796e": {
      "model_module": "@jupyter-widgets/base",
      "model_module_version": "1.2.0",
      "model_name": "LayoutModel",
      "state": {
       "_model_module": "@jupyter-widgets/base",
       "_model_module_version": "1.2.0",
       "_model_name": "LayoutModel",
       "_view_count": null,
       "_view_module": "@jupyter-widgets/base",
       "_view_module_version": "1.2.0",
       "_view_name": "LayoutView",
       "align_content": null,
       "align_items": null,
       "align_self": null,
       "border": null,
       "bottom": null,
       "display": null,
       "flex": null,
       "flex_flow": null,
       "grid_area": null,
       "grid_auto_columns": null,
       "grid_auto_flow": null,
       "grid_auto_rows": null,
       "grid_column": null,
       "grid_gap": null,
       "grid_row": null,
       "grid_template_areas": null,
       "grid_template_columns": null,
       "grid_template_rows": null,
       "height": null,
       "justify_content": null,
       "justify_items": null,
       "left": null,
       "margin": null,
       "max_height": null,
       "max_width": null,
       "min_height": null,
       "min_width": null,
       "object_fit": null,
       "object_position": null,
       "order": null,
       "overflow": null,
       "overflow_x": null,
       "overflow_y": null,
       "padding": null,
       "right": null,
       "top": null,
       "visibility": null,
       "width": null
      }
     },
     "a3c6586d4f794c9cb8c40fd74dcf4e63": {
      "model_module": "@jupyter-widgets/controls",
      "model_module_version": "1.5.0",
      "model_name": "FloatProgressModel",
      "state": {
       "_dom_classes": [],
       "_model_module": "@jupyter-widgets/controls",
       "_model_module_version": "1.5.0",
       "_model_name": "FloatProgressModel",
       "_view_count": null,
       "_view_module": "@jupyter-widgets/controls",
       "_view_module_version": "1.5.0",
       "_view_name": "ProgressView",
       "bar_style": "success",
       "description": "",
       "description_tooltip": null,
       "layout": "IPY_MODEL_40864d32f6d543e1bea95c20b8e267d2",
       "max": 420.0,
       "min": 0.0,
       "orientation": "horizontal",
       "style": "IPY_MODEL_6bf350db0cf04bd6a4c6971a0d4740dd",
       "value": 420.0
      }
     },
     "a5fd009d1c1c4da8a8441bb22101e0fb": {
      "model_module": "@jupyter-widgets/controls",
      "model_module_version": "1.5.0",
      "model_name": "HBoxModel",
      "state": {
       "_dom_classes": [],
       "_model_module": "@jupyter-widgets/controls",
       "_model_module_version": "1.5.0",
       "_model_name": "HBoxModel",
       "_view_count": null,
       "_view_module": "@jupyter-widgets/controls",
       "_view_module_version": "1.5.0",
       "_view_name": "HBoxView",
       "box_style": "",
       "children": [
        "IPY_MODEL_ce50b0be3e1d464180eb7270dd503d1f",
        "IPY_MODEL_e6dd14aa6c884e8c9d73bf1974e14282",
        "IPY_MODEL_78c30bfa01b24acca1df87468b896d8a"
       ],
       "layout": "IPY_MODEL_9845ea833cda42df80a868df575db3d5"
      }
     },
     "a7dcfd2c2ddf48ab87f9ae71ea64dce2": {
      "model_module": "@jupyter-widgets/controls",
      "model_module_version": "1.5.0",
      "model_name": "DescriptionStyleModel",
      "state": {
       "_model_module": "@jupyter-widgets/controls",
       "_model_module_version": "1.5.0",
       "_model_name": "DescriptionStyleModel",
       "_view_count": null,
       "_view_module": "@jupyter-widgets/base",
       "_view_module_version": "1.2.0",
       "_view_name": "StyleView",
       "description_width": ""
      }
     },
     "aa124b10f12e42b8a0f23faae064d660": {
      "model_module": "@jupyter-widgets/controls",
      "model_module_version": "1.5.0",
      "model_name": "HBoxModel",
      "state": {
       "_dom_classes": [],
       "_model_module": "@jupyter-widgets/controls",
       "_model_module_version": "1.5.0",
       "_model_name": "HBoxModel",
       "_view_count": null,
       "_view_module": "@jupyter-widgets/controls",
       "_view_module_version": "1.5.0",
       "_view_name": "HBoxView",
       "box_style": "",
       "children": [
        "IPY_MODEL_f51ad164013e4d21bce2b7e7bbe73dbc",
        "IPY_MODEL_a3c6586d4f794c9cb8c40fd74dcf4e63",
        "IPY_MODEL_e3210bf80c4d4cd59516fc8cc0001ac3"
       ],
       "layout": "IPY_MODEL_0f132d7c614d4b31bad326e29ece9c2a"
      }
     },
     "b054ce7156184f0a938313ab29aff377": {
      "model_module": "@jupyter-widgets/controls",
      "model_module_version": "1.5.0",
      "model_name": "HTMLModel",
      "state": {
       "_dom_classes": [],
       "_model_module": "@jupyter-widgets/controls",
       "_model_module_version": "1.5.0",
       "_model_name": "HTMLModel",
       "_view_count": null,
       "_view_module": "@jupyter-widgets/controls",
       "_view_module_version": "1.5.0",
       "_view_name": "HTMLView",
       "description": "",
       "description_tooltip": null,
       "layout": "IPY_MODEL_7bc00eed0c4e4c5e823bb30292acf9e7",
       "placeholder": "​",
       "style": "IPY_MODEL_3cc1ca222e6c44a18b688bf2df536504",
       "value": " 227k/227k [00:00&lt;00:00, 848kB/s]"
      }
     },
     "b0db114bac514132884331a52c19177f": {
      "model_module": "@jupyter-widgets/controls",
      "model_module_version": "1.5.0",
      "model_name": "DescriptionStyleModel",
      "state": {
       "_model_module": "@jupyter-widgets/controls",
       "_model_module_version": "1.5.0",
       "_model_name": "DescriptionStyleModel",
       "_view_count": null,
       "_view_module": "@jupyter-widgets/base",
       "_view_module_version": "1.2.0",
       "_view_name": "StyleView",
       "description_width": ""
      }
     },
     "c9bc6a9bf8a641d4b2fe8b6d648cc805": {
      "model_module": "@jupyter-widgets/controls",
      "model_module_version": "1.5.0",
      "model_name": "HTMLModel",
      "state": {
       "_dom_classes": [],
       "_model_module": "@jupyter-widgets/controls",
       "_model_module_version": "1.5.0",
       "_model_name": "HTMLModel",
       "_view_count": null,
       "_view_module": "@jupyter-widgets/controls",
       "_view_module_version": "1.5.0",
       "_view_name": "HTMLView",
       "description": "",
       "description_tooltip": null,
       "layout": "IPY_MODEL_ec4f022433fa41da92c66c8e76394b58",
       "placeholder": "​",
       "style": "IPY_MODEL_24df2a1f628a4a14bc6913d7e65fe1d6",
       "value": "Downloading: 100%"
      }
     },
     "cb2d08ebee1043e099dfd6915a8d7704": {
      "model_module": "@jupyter-widgets/controls",
      "model_module_version": "1.5.0",
      "model_name": "FloatProgressModel",
      "state": {
       "_dom_classes": [],
       "_model_module": "@jupyter-widgets/controls",
       "_model_module_version": "1.5.0",
       "_model_name": "FloatProgressModel",
       "_view_count": null,
       "_view_module": "@jupyter-widgets/controls",
       "_view_module_version": "1.5.0",
       "_view_name": "ProgressView",
       "bar_style": "success",
       "description": "",
       "description_tooltip": null,
       "layout": "IPY_MODEL_65a1137f63514ac580c87c1a291d4139",
       "max": 227141.0,
       "min": 0.0,
       "orientation": "horizontal",
       "style": "IPY_MODEL_6f370de33d33406ba400db9e464dc98b",
       "value": 227141.0
      }
     },
     "ce50b0be3e1d464180eb7270dd503d1f": {
      "model_module": "@jupyter-widgets/controls",
      "model_module_version": "1.5.0",
      "model_name": "HTMLModel",
      "state": {
       "_dom_classes": [],
       "_model_module": "@jupyter-widgets/controls",
       "_model_module_version": "1.5.0",
       "_model_name": "HTMLModel",
       "_view_count": null,
       "_view_module": "@jupyter-widgets/controls",
       "_view_module_version": "1.5.0",
       "_view_name": "HTMLView",
       "description": "",
       "description_tooltip": null,
       "layout": "IPY_MODEL_41bc76c2567640ed92036107c177175a",
       "placeholder": "​",
       "style": "IPY_MODEL_0bb054842b6b42f1a3b25dc5b9a18d9e",
       "value": "Downloading: 100%"
      }
     },
     "d1a98cf6210d40978f66852e51cd2ba6": {
      "model_module": "@jupyter-widgets/controls",
      "model_module_version": "1.5.0",
      "model_name": "HBoxModel",
      "state": {
       "_dom_classes": [],
       "_model_module": "@jupyter-widgets/controls",
       "_model_module_version": "1.5.0",
       "_model_name": "HBoxModel",
       "_view_count": null,
       "_view_module": "@jupyter-widgets/controls",
       "_view_module_version": "1.5.0",
       "_view_name": "HBoxView",
       "box_style": "",
       "children": [
        "IPY_MODEL_5411f70b80f0408f920cae52098708f1",
        "IPY_MODEL_cb2d08ebee1043e099dfd6915a8d7704",
        "IPY_MODEL_b054ce7156184f0a938313ab29aff377"
       ],
       "layout": "IPY_MODEL_a28891f94cdc4470a2c4bbe8643e1cee"
      }
     },
     "e3210bf80c4d4cd59516fc8cc0001ac3": {
      "model_module": "@jupyter-widgets/controls",
      "model_module_version": "1.5.0",
      "model_name": "HTMLModel",
      "state": {
       "_dom_classes": [],
       "_model_module": "@jupyter-widgets/controls",
       "_model_module_version": "1.5.0",
       "_model_name": "HTMLModel",
       "_view_count": null,
       "_view_module": "@jupyter-widgets/controls",
       "_view_module_version": "1.5.0",
       "_view_name": "HTMLView",
       "description": "",
       "description_tooltip": null,
       "layout": "IPY_MODEL_a297964472e849f59581dedc6527796e",
       "placeholder": "​",
       "style": "IPY_MODEL_53ce3b5d6d3b4918a90ce511cb0bd188",
       "value": " 420/420 [00:00&lt;00:00, 16.3kB/s]"
      }
     },
     "e6dd14aa6c884e8c9d73bf1974e14282": {
      "model_module": "@jupyter-widgets/controls",
      "model_module_version": "1.5.0",
      "model_name": "FloatProgressModel",
      "state": {
       "_dom_classes": [],
       "_model_module": "@jupyter-widgets/controls",
       "_model_module_version": "1.5.0",
       "_model_name": "FloatProgressModel",
       "_view_count": null,
       "_view_module": "@jupyter-widgets/controls",
       "_view_module_version": "1.5.0",
       "_view_name": "ProgressView",
       "bar_style": "success",
       "description": "",
       "description_tooltip": null,
       "layout": "IPY_MODEL_5954c1656cd746a0bbb9844c42512121",
       "max": 445018784.0,
       "min": 0.0,
       "orientation": "horizontal",
       "style": "IPY_MODEL_4e89736ba78943888099f0292aacd292",
       "value": 445018784.0
      }
     },
     "ec4f022433fa41da92c66c8e76394b58": {
      "model_module": "@jupyter-widgets/base",
      "model_module_version": "1.2.0",
      "model_name": "LayoutModel",
      "state": {
       "_model_module": "@jupyter-widgets/base",
       "_model_module_version": "1.2.0",
       "_model_name": "LayoutModel",
       "_view_count": null,
       "_view_module": "@jupyter-widgets/base",
       "_view_module_version": "1.2.0",
       "_view_name": "LayoutView",
       "align_content": null,
       "align_items": null,
       "align_self": null,
       "border": null,
       "bottom": null,
       "display": null,
       "flex": null,
       "flex_flow": null,
       "grid_area": null,
       "grid_auto_columns": null,
       "grid_auto_flow": null,
       "grid_auto_rows": null,
       "grid_column": null,
       "grid_gap": null,
       "grid_row": null,
       "grid_template_areas": null,
       "grid_template_columns": null,
       "grid_template_rows": null,
       "height": null,
       "justify_content": null,
       "justify_items": null,
       "left": null,
       "margin": null,
       "max_height": null,
       "max_width": null,
       "min_height": null,
       "min_width": null,
       "object_fit": null,
       "object_position": null,
       "order": null,
       "overflow": null,
       "overflow_x": null,
       "overflow_y": null,
       "padding": null,
       "right": null,
       "top": null,
       "visibility": null,
       "width": null
      }
     },
     "ec7494883c6e4ba18980f3873385a21b": {
      "model_module": "@jupyter-widgets/base",
      "model_module_version": "1.2.0",
      "model_name": "LayoutModel",
      "state": {
       "_model_module": "@jupyter-widgets/base",
       "_model_module_version": "1.2.0",
       "_model_name": "LayoutModel",
       "_view_count": null,
       "_view_module": "@jupyter-widgets/base",
       "_view_module_version": "1.2.0",
       "_view_name": "LayoutView",
       "align_content": null,
       "align_items": null,
       "align_self": null,
       "border": null,
       "bottom": null,
       "display": null,
       "flex": null,
       "flex_flow": null,
       "grid_area": null,
       "grid_auto_columns": null,
       "grid_auto_flow": null,
       "grid_auto_rows": null,
       "grid_column": null,
       "grid_gap": null,
       "grid_row": null,
       "grid_template_areas": null,
       "grid_template_columns": null,
       "grid_template_rows": null,
       "height": null,
       "justify_content": null,
       "justify_items": null,
       "left": null,
       "margin": null,
       "max_height": null,
       "max_width": null,
       "min_height": null,
       "min_width": null,
       "object_fit": null,
       "object_position": null,
       "order": null,
       "overflow": null,
       "overflow_x": null,
       "overflow_y": null,
       "padding": null,
       "right": null,
       "top": null,
       "visibility": null,
       "width": null
      }
     },
     "f51ad164013e4d21bce2b7e7bbe73dbc": {
      "model_module": "@jupyter-widgets/controls",
      "model_module_version": "1.5.0",
      "model_name": "HTMLModel",
      "state": {
       "_dom_classes": [],
       "_model_module": "@jupyter-widgets/controls",
       "_model_module_version": "1.5.0",
       "_model_name": "HTMLModel",
       "_view_count": null,
       "_view_module": "@jupyter-widgets/controls",
       "_view_module_version": "1.5.0",
       "_view_name": "HTMLView",
       "description": "",
       "description_tooltip": null,
       "layout": "IPY_MODEL_681d336afc1b433294af7a8ad5ffefde",
       "placeholder": "​",
       "style": "IPY_MODEL_a7dcfd2c2ddf48ab87f9ae71ea64dce2",
       "value": "Downloading: 100%"
      }
     }
    },
    "version_major": 2,
    "version_minor": 0
   }
  }
 },
 "nbformat": 4,
 "nbformat_minor": 5
}
