{
 "cells": [
  {
   "cell_type": "code",
   "execution_count": 1,
   "id": "1d47ac37",
   "metadata": {
    "_cell_guid": "b1076dfc-b9ad-4769-8c92-a6c4dae69d19",
    "_uuid": "8f2839f25d086af736a60e9eeb907d3b93b6e0e5",
    "execution": {
     "iopub.execute_input": "2022-07-04T08:56:32.937232Z",
     "iopub.status.busy": "2022-07-04T08:56:32.935804Z",
     "iopub.status.idle": "2022-07-04T08:56:41.935630Z",
     "shell.execute_reply": "2022-07-04T08:56:41.934888Z",
     "shell.execute_reply.started": "2022-07-04T08:38:31.144167Z"
    },
    "papermill": {
     "duration": 9.133831,
     "end_time": "2022-07-04T08:56:41.935894",
     "exception": false,
     "start_time": "2022-07-04T08:56:32.802063",
     "status": "completed"
    },
    "tags": []
   },
   "outputs": [],
   "source": [
    "import os\n",
    "\n",
    "import random\n",
    "import numpy as np\n",
    "\n",
    "import pandas as pd\n",
    "import torch\n",
    "from torch.utils.data import Dataset, random_split\n",
    "from transformers import (\n",
    "    AdamW,\n",
    "    Trainer,\n",
    "    TrainingArguments,\n",
    "    AutoTokenizer,\n",
    "    AutoModelForSequenceClassification,\n",
    "    get_cosine_schedule_with_warmup,\n",
    ")\n",
    "from sklearn.preprocessing import LabelEncoder\n",
    "from sklearn.metrics import accuracy_score\n",
    "import warnings\n",
    "warnings.filterwarnings('ignore')"
   ]
  },
  {
   "cell_type": "code",
   "execution_count": 2,
   "id": "6f1a7111",
   "metadata": {
    "execution": {
     "iopub.execute_input": "2022-07-04T08:56:42.045852Z",
     "iopub.status.busy": "2022-07-04T08:56:42.045090Z",
     "iopub.status.idle": "2022-07-04T08:56:42.064576Z",
     "shell.execute_reply": "2022-07-04T08:56:42.063997Z",
     "shell.execute_reply.started": "2022-07-04T07:45:00.384216Z"
    },
    "papermill": {
     "duration": 0.075917,
     "end_time": "2022-07-04T08:56:42.064737",
     "exception": false,
     "start_time": "2022-07-04T08:56:41.988820",
     "status": "completed"
    },
    "tags": []
   },
   "outputs": [],
   "source": [
    "new_data=pd.read_csv(\"../input/csvvvv/Classeur 1 (5).csv\")"
   ]
  },
  {
   "cell_type": "code",
   "execution_count": 3,
   "id": "34284d65",
   "metadata": {
    "execution": {
     "iopub.execute_input": "2022-07-04T08:56:42.182105Z",
     "iopub.status.busy": "2022-07-04T08:56:42.180980Z",
     "iopub.status.idle": "2022-07-04T08:56:42.183437Z",
     "shell.execute_reply": "2022-07-04T08:56:42.184083Z",
     "shell.execute_reply.started": "2022-07-04T07:45:00.412909Z"
    },
    "papermill": {
     "duration": 0.068539,
     "end_time": "2022-07-04T08:56:42.184253",
     "exception": false,
     "start_time": "2022-07-04T08:56:42.115714",
     "status": "completed"
    },
    "tags": []
   },
   "outputs": [],
   "source": [
    "new_data.drop([\"Y\",\"Word Count\",\"Language\",' '], axis=1, inplace=True)\n",
    "new_data.columns = [\"text\", \"CEFR Review\",\"CEFR Level_Samar\"]"
   ]
  },
  {
   "cell_type": "code",
   "execution_count": 4,
   "id": "b6e2e16f",
   "metadata": {
    "execution": {
     "iopub.execute_input": "2022-07-04T08:56:42.289645Z",
     "iopub.status.busy": "2022-07-04T08:56:42.288551Z",
     "iopub.status.idle": "2022-07-04T08:56:42.297967Z",
     "shell.execute_reply": "2022-07-04T08:56:42.298503Z",
     "shell.execute_reply.started": "2022-07-04T07:45:00.433159Z"
    },
    "papermill": {
     "duration": 0.063562,
     "end_time": "2022-07-04T08:56:42.298709",
     "exception": false,
     "start_time": "2022-07-04T08:56:42.235147",
     "status": "completed"
    },
    "tags": []
   },
   "outputs": [
    {
     "data": {
      "text/plain": [
       "(191, 3)"
      ]
     },
     "execution_count": 4,
     "metadata": {},
     "output_type": "execute_result"
    }
   ],
   "source": [
    "new_data.shape"
   ]
  },
  {
   "cell_type": "code",
   "execution_count": 5,
   "id": "d1cb3ae4",
   "metadata": {
    "execution": {
     "iopub.execute_input": "2022-07-04T08:56:42.405070Z",
     "iopub.status.busy": "2022-07-04T08:56:42.403932Z",
     "iopub.status.idle": "2022-07-04T08:56:42.418083Z",
     "shell.execute_reply": "2022-07-04T08:56:42.418691Z",
     "shell.execute_reply.started": "2022-07-04T07:45:00.444317Z"
    },
    "papermill": {
     "duration": 0.068574,
     "end_time": "2022-07-04T08:56:42.418866",
     "exception": false,
     "start_time": "2022-07-04T08:56:42.350292",
     "status": "completed"
    },
    "tags": []
   },
   "outputs": [
    {
     "data": {
      "text/html": [
       "<div>\n",
       "<style scoped>\n",
       "    .dataframe tbody tr th:only-of-type {\n",
       "        vertical-align: middle;\n",
       "    }\n",
       "\n",
       "    .dataframe tbody tr th {\n",
       "        vertical-align: top;\n",
       "    }\n",
       "\n",
       "    .dataframe thead th {\n",
       "        text-align: right;\n",
       "    }\n",
       "</style>\n",
       "<table border=\"1\" class=\"dataframe\">\n",
       "  <thead>\n",
       "    <tr style=\"text-align: right;\">\n",
       "      <th></th>\n",
       "      <th>text</th>\n",
       "      <th>CEFR Review</th>\n",
       "      <th>CEFR Level_Samar</th>\n",
       "    </tr>\n",
       "  </thead>\n",
       "  <tbody>\n",
       "    <tr>\n",
       "      <th>0</th>\n",
       "      <td>En 1815, M. Charles-François-Bienvenu Myriel é...</td>\n",
       "      <td>A2</td>\n",
       "      <td>C1</td>\n",
       "    </tr>\n",
       "    <tr>\n",
       "      <th>1</th>\n",
       "      <td>Quoique ce détail ne touche en aucune manière ...</td>\n",
       "      <td>C1</td>\n",
       "      <td>C2</td>\n",
       "    </tr>\n",
       "  </tbody>\n",
       "</table>\n",
       "</div>"
      ],
      "text/plain": [
       "                                                text CEFR Review  \\\n",
       "0  En 1815, M. Charles-François-Bienvenu Myriel é...          A2   \n",
       "1  Quoique ce détail ne touche en aucune manière ...          C1   \n",
       "\n",
       "  CEFR Level_Samar  \n",
       "0               C1  \n",
       "1               C2  "
      ]
     },
     "execution_count": 5,
     "metadata": {},
     "output_type": "execute_result"
    }
   ],
   "source": [
    "new_data.head(2)"
   ]
  },
  {
   "cell_type": "code",
   "execution_count": 6,
   "id": "d258781a",
   "metadata": {
    "execution": {
     "iopub.execute_input": "2022-07-04T08:56:42.576679Z",
     "iopub.status.busy": "2022-07-04T08:56:42.575540Z",
     "iopub.status.idle": "2022-07-04T08:56:42.591189Z",
     "shell.execute_reply": "2022-07-04T08:56:42.591694Z",
     "shell.execute_reply.started": "2022-07-04T07:45:00.468015Z"
    },
    "papermill": {
     "duration": 0.121991,
     "end_time": "2022-07-04T08:56:42.591850",
     "exception": false,
     "start_time": "2022-07-04T08:56:42.469859",
     "status": "completed"
    },
    "tags": []
   },
   "outputs": [
    {
     "data": {
      "text/html": [
       "<div>\n",
       "<style scoped>\n",
       "    .dataframe tbody tr th:only-of-type {\n",
       "        vertical-align: middle;\n",
       "    }\n",
       "\n",
       "    .dataframe tbody tr th {\n",
       "        vertical-align: top;\n",
       "    }\n",
       "\n",
       "    .dataframe thead th {\n",
       "        text-align: right;\n",
       "    }\n",
       "</style>\n",
       "<table border=\"1\" class=\"dataframe\">\n",
       "  <thead>\n",
       "    <tr style=\"text-align: right;\">\n",
       "      <th></th>\n",
       "      <th>text</th>\n",
       "      <th>label</th>\n",
       "    </tr>\n",
       "  </thead>\n",
       "  <tbody>\n",
       "    <tr>\n",
       "      <th>0</th>\n",
       "      <td>En 1815, M. Charles-François-Bienvenu Myriel é...</td>\n",
       "      <td>C1</td>\n",
       "    </tr>\n",
       "    <tr>\n",
       "      <th>1</th>\n",
       "      <td>Quoique ce détail ne touche en aucune manière ...</td>\n",
       "      <td>C2</td>\n",
       "    </tr>\n",
       "    <tr>\n",
       "      <th>2</th>\n",
       "      <td>En 1804, M. Myriel était curé de Brignolles. I...</td>\n",
       "      <td>C1</td>\n",
       "    </tr>\n",
       "    <tr>\n",
       "      <th>3</th>\n",
       "      <td>Vers l'époque du couronnement, une petite affa...</td>\n",
       "      <td>C2</td>\n",
       "    </tr>\n",
       "    <tr>\n",
       "      <th>4</th>\n",
       "      <td>—Quel est ce bonhomme qui me regarde?</td>\n",
       "      <td>C1</td>\n",
       "    </tr>\n",
       "  </tbody>\n",
       "</table>\n",
       "</div>"
      ],
      "text/plain": [
       "                                                text label\n",
       "0  En 1815, M. Charles-François-Bienvenu Myriel é...    C1\n",
       "1  Quoique ce détail ne touche en aucune manière ...    C2\n",
       "2  En 1804, M. Myriel était curé de Brignolles. I...    C1\n",
       "3  Vers l'époque du couronnement, une petite affa...    C2\n",
       "4              —Quel est ce bonhomme qui me regarde?    C1"
      ]
     },
     "execution_count": 6,
     "metadata": {},
     "output_type": "execute_result"
    }
   ],
   "source": [
    "mike_20_june_samar=new_data[pd.notnull(new_data['CEFR Level_Samar'])]\n",
    "mike_20_june_samar.columns = [\"text\", \"CEFR Review\",\"label\"]\n",
    "mike_20_june_samar.drop([\"CEFR Review\"],axis=1, inplace=True)\n",
    "mike_20_june_samar.to_csv(\"mike_20_june_samar.csv\" , index=False)\n",
    "mike_20_june_samar.head()"
   ]
  },
  {
   "cell_type": "code",
   "execution_count": 7,
   "id": "05c362d2",
   "metadata": {
    "execution": {
     "iopub.execute_input": "2022-07-04T08:56:42.704661Z",
     "iopub.status.busy": "2022-07-04T08:56:42.702949Z",
     "iopub.status.idle": "2022-07-04T08:56:42.715951Z",
     "shell.execute_reply": "2022-07-04T08:56:42.715289Z",
     "shell.execute_reply.started": "2022-07-04T07:45:00.493156Z"
    },
    "papermill": {
     "duration": 0.074134,
     "end_time": "2022-07-04T08:56:42.716070",
     "exception": false,
     "start_time": "2022-07-04T08:56:42.641936",
     "status": "completed"
    },
    "tags": []
   },
   "outputs": [
    {
     "data": {
      "text/html": [
       "<div>\n",
       "<style scoped>\n",
       "    .dataframe tbody tr th:only-of-type {\n",
       "        vertical-align: middle;\n",
       "    }\n",
       "\n",
       "    .dataframe tbody tr th {\n",
       "        vertical-align: top;\n",
       "    }\n",
       "\n",
       "    .dataframe thead th {\n",
       "        text-align: right;\n",
       "    }\n",
       "</style>\n",
       "<table border=\"1\" class=\"dataframe\">\n",
       "  <thead>\n",
       "    <tr style=\"text-align: right;\">\n",
       "      <th></th>\n",
       "      <th>text</th>\n",
       "      <th>label</th>\n",
       "    </tr>\n",
       "  </thead>\n",
       "  <tbody>\n",
       "    <tr>\n",
       "      <th>0</th>\n",
       "      <td>En 1815, M. Charles-François-Bienvenu Myriel é...</td>\n",
       "      <td>A2</td>\n",
       "    </tr>\n",
       "    <tr>\n",
       "      <th>1</th>\n",
       "      <td>Quoique ce détail ne touche en aucune manière ...</td>\n",
       "      <td>C1</td>\n",
       "    </tr>\n",
       "    <tr>\n",
       "      <th>2</th>\n",
       "      <td>En 1804, M. Myriel était curé de Brignolles. I...</td>\n",
       "      <td>A2</td>\n",
       "    </tr>\n",
       "    <tr>\n",
       "      <th>3</th>\n",
       "      <td>Vers l'époque du couronnement, une petite affa...</td>\n",
       "      <td>B2</td>\n",
       "    </tr>\n",
       "    <tr>\n",
       "      <th>4</th>\n",
       "      <td>—Quel est ce bonhomme qui me regarde?</td>\n",
       "      <td>A2</td>\n",
       "    </tr>\n",
       "  </tbody>\n",
       "</table>\n",
       "</div>"
      ],
      "text/plain": [
       "                                                text label\n",
       "0  En 1815, M. Charles-François-Bienvenu Myriel é...    A2\n",
       "1  Quoique ce détail ne touche en aucune manière ...    C1\n",
       "2  En 1804, M. Myriel était curé de Brignolles. I...    A2\n",
       "3  Vers l'époque du couronnement, une petite affa...    B2\n",
       "4              —Quel est ce bonhomme qui me regarde?    A2"
      ]
     },
     "execution_count": 7,
     "metadata": {},
     "output_type": "execute_result"
    }
   ],
   "source": [
    "mike_20_june_new=new_data[pd.notnull(new_data['CEFR Review'])]\n",
    "mike_20_june_new.columns = [\"text\", \"label\",\"CEFR Level_Samar\"]\n",
    "mike_20_june_new.drop([\"CEFR Level_Samar\"],axis=1, inplace=True)\n",
    "mike_20_june_new.to_csv(\"mike_20_june_new.csv\" , index=False)\n",
    "mike_20_june_new.head() "
   ]
  },
  {
   "cell_type": "markdown",
   "id": "49170b62",
   "metadata": {
    "papermill": {
     "duration": 0.050737,
     "end_time": "2022-07-04T08:56:42.818243",
     "exception": false,
     "start_time": "2022-07-04T08:56:42.767506",
     "status": "completed"
    },
    "tags": []
   },
   "source": [
    "**!!!! samar annotation seems to be weird because there is just C1 and C2**"
   ]
  },
  {
   "cell_type": "code",
   "execution_count": 8,
   "id": "a78644c3",
   "metadata": {
    "execution": {
     "iopub.execute_input": "2022-07-04T08:56:42.926195Z",
     "iopub.status.busy": "2022-07-04T08:56:42.924844Z",
     "iopub.status.idle": "2022-07-04T08:56:42.930515Z",
     "shell.execute_reply": "2022-07-04T08:56:42.929859Z",
     "shell.execute_reply.started": "2022-07-04T07:45:00.514101Z"
    },
    "papermill": {
     "duration": 0.063472,
     "end_time": "2022-07-04T08:56:42.930648",
     "exception": false,
     "start_time": "2022-07-04T08:56:42.867176",
     "status": "completed"
    },
    "tags": []
   },
   "outputs": [
    {
     "data": {
      "text/plain": [
       "(array(['C1', 'C2'], dtype=object),\n",
       " array(['A2', 'C1', 'B2', 'A1', 'B1', 'C2'], dtype=object))"
      ]
     },
     "execution_count": 8,
     "metadata": {},
     "output_type": "execute_result"
    }
   ],
   "source": [
    "mike_20_june_samar[\"label\"].unique(), mike_20_june_new[\"label\"].unique()"
   ]
  },
  {
   "cell_type": "code",
   "execution_count": 9,
   "id": "f6a8d64d",
   "metadata": {
    "execution": {
     "iopub.execute_input": "2022-07-04T08:56:43.042373Z",
     "iopub.status.busy": "2022-07-04T08:56:43.037857Z",
     "iopub.status.idle": "2022-07-04T08:56:43.046396Z",
     "shell.execute_reply": "2022-07-04T08:56:43.045884Z",
     "shell.execute_reply.started": "2022-07-04T07:45:00.530813Z"
    },
    "papermill": {
     "duration": 0.063753,
     "end_time": "2022-07-04T08:56:43.046535",
     "exception": false,
     "start_time": "2022-07-04T08:56:42.982782",
     "status": "completed"
    },
    "tags": []
   },
   "outputs": [
    {
     "data": {
      "text/plain": [
       "C1    58\n",
       "A1    41\n",
       "B2    33\n",
       "B1    29\n",
       "A2    24\n",
       "C2     6\n",
       "Name: label, dtype: int64"
      ]
     },
     "execution_count": 9,
     "metadata": {},
     "output_type": "execute_result"
    }
   ],
   "source": [
    "mike_20_june_new.label.value_counts()"
   ]
  },
  {
   "cell_type": "code",
   "execution_count": 10,
   "id": "6e0f2b23",
   "metadata": {
    "execution": {
     "iopub.execute_input": "2022-07-04T08:56:43.154599Z",
     "iopub.status.busy": "2022-07-04T08:56:43.153650Z",
     "iopub.status.idle": "2022-07-04T08:56:43.157227Z",
     "shell.execute_reply": "2022-07-04T08:56:43.157838Z",
     "shell.execute_reply.started": "2022-07-04T07:45:00.548699Z"
    },
    "papermill": {
     "duration": 0.061375,
     "end_time": "2022-07-04T08:56:43.157970",
     "exception": false,
     "start_time": "2022-07-04T08:56:43.096595",
     "status": "completed"
    },
    "tags": []
   },
   "outputs": [
    {
     "data": {
      "text/plain": [
       "((141, 2), (191, 2))"
      ]
     },
     "execution_count": 10,
     "metadata": {},
     "output_type": "execute_result"
    }
   ],
   "source": [
    "mike_20_june_samar.shape,mike_20_june_new.shape"
   ]
  },
  {
   "cell_type": "code",
   "execution_count": 11,
   "id": "334eafdd",
   "metadata": {
    "execution": {
     "iopub.execute_input": "2022-07-04T08:56:43.267041Z",
     "iopub.status.busy": "2022-07-04T08:56:43.265929Z",
     "iopub.status.idle": "2022-07-04T08:56:43.289704Z",
     "shell.execute_reply": "2022-07-04T08:56:43.289234Z",
     "shell.execute_reply.started": "2022-07-04T07:45:00.561164Z"
    },
    "papermill": {
     "duration": 0.078279,
     "end_time": "2022-07-04T08:56:43.289862",
     "exception": false,
     "start_time": "2022-07-04T08:56:43.211583",
     "status": "completed"
    },
    "tags": []
   },
   "outputs": [
    {
     "data": {
      "text/plain": [
       "(315, 4)"
      ]
     },
     "execution_count": 11,
     "metadata": {},
     "output_type": "execute_result"
    }
   ],
   "source": [
    "trainn=pd.read_csv(\"../input/frenchcefr/french dataset.csv\")\n",
    "trainn.shape"
   ]
  },
  {
   "cell_type": "code",
   "execution_count": null,
   "id": "4a1eccd8",
   "metadata": {
    "papermill": {
     "duration": 0.054441,
     "end_time": "2022-07-04T08:56:43.396985",
     "exception": false,
     "start_time": "2022-07-04T08:56:43.342544",
     "status": "completed"
    },
    "tags": []
   },
   "outputs": [],
   "source": []
  },
  {
   "cell_type": "code",
   "execution_count": null,
   "id": "b37043f6",
   "metadata": {
    "papermill": {
     "duration": 0.05369,
     "end_time": "2022-07-04T08:56:43.503330",
     "exception": false,
     "start_time": "2022-07-04T08:56:43.449640",
     "status": "completed"
    },
    "tags": []
   },
   "outputs": [],
   "source": []
  },
  {
   "cell_type": "code",
   "execution_count": null,
   "id": "62d0c5d0",
   "metadata": {
    "papermill": {
     "duration": 0.051807,
     "end_time": "2022-07-04T08:56:43.607805",
     "exception": false,
     "start_time": "2022-07-04T08:56:43.555998",
     "status": "completed"
    },
    "tags": []
   },
   "outputs": [],
   "source": []
  },
  {
   "cell_type": "markdown",
   "id": "b97ba8f4",
   "metadata": {
    "papermill": {
     "duration": 0.075162,
     "end_time": "2022-07-04T08:56:43.736311",
     "exception": false,
     "start_time": "2022-07-04T08:56:43.661149",
     "status": "completed"
    },
    "tags": []
   },
   "source": [
    "****"
   ]
  },
  {
   "cell_type": "code",
   "execution_count": 12,
   "id": "6ec21b06",
   "metadata": {
    "execution": {
     "iopub.execute_input": "2022-07-04T08:56:43.985528Z",
     "iopub.status.busy": "2022-07-04T08:56:43.984261Z",
     "iopub.status.idle": "2022-07-04T08:56:48.570241Z",
     "shell.execute_reply": "2022-07-04T08:56:48.569535Z",
     "shell.execute_reply.started": "2022-07-04T07:45:00.594123Z"
    },
    "papermill": {
     "duration": 4.714888,
     "end_time": "2022-07-04T08:56:48.570389",
     "exception": false,
     "start_time": "2022-07-04T08:56:43.855501",
     "status": "completed"
    },
    "tags": []
   },
   "outputs": [
    {
     "data": {
      "application/vnd.jupyter.widget-view+json": {
       "model_id": "1cff24574ac34071949cf3c8c08ac1a7",
       "version_major": 2,
       "version_minor": 0
      },
      "text/plain": [
       "Downloading:   0%|          | 0.00/420 [00:00<?, ?B/s]"
      ]
     },
     "metadata": {},
     "output_type": "display_data"
    },
    {
     "data": {
      "application/vnd.jupyter.widget-view+json": {
       "model_id": "8b9268bdd52543d498e5e0de925acdc5",
       "version_major": 2,
       "version_minor": 0
      },
      "text/plain": [
       "Downloading:   0%|          | 0.00/227k [00:00<?, ?B/s]"
      ]
     },
     "metadata": {},
     "output_type": "display_data"
    },
    {
     "data": {
      "application/vnd.jupyter.widget-view+json": {
       "model_id": "6706bee3b5ec42308ce600b6189fbe0d",
       "version_major": 2,
       "version_minor": 0
      },
      "text/plain": [
       "Downloading:   0%|          | 0.00/83.0 [00:00<?, ?B/s]"
      ]
     },
     "metadata": {},
     "output_type": "display_data"
    }
   ],
   "source": [
    "model_name = \"dbmdz/bert-base-french-europeana-cased\"\n",
    "\n",
    "tokenizer = AutoTokenizer.from_pretrained(model_name)\n",
    "\n",
    "device = torch.device(\"cuda\" if torch.cuda.is_available() else \"cpu\")"
   ]
  },
  {
   "cell_type": "code",
   "execution_count": 13,
   "id": "fa919d11",
   "metadata": {
    "execution": {
     "iopub.execute_input": "2022-07-04T08:56:48.687416Z",
     "iopub.status.busy": "2022-07-04T08:56:48.686394Z",
     "iopub.status.idle": "2022-07-04T08:56:48.688937Z",
     "shell.execute_reply": "2022-07-04T08:56:48.689623Z",
     "shell.execute_reply.started": "2022-07-04T07:45:04.19821Z"
    },
    "papermill": {
     "duration": 0.062879,
     "end_time": "2022-07-04T08:56:48.689760",
     "exception": false,
     "start_time": "2022-07-04T08:56:48.626881",
     "status": "completed"
    },
    "tags": []
   },
   "outputs": [],
   "source": [
    "lr = 2e-5\n",
    "epochs =  6\n",
    "batch_size = 5\n",
    "max_seq_len = 75\n",
    "\n",
    "test_frac = 0.1"
   ]
  },
  {
   "cell_type": "code",
   "execution_count": 14,
   "id": "9613cc2d",
   "metadata": {
    "execution": {
     "iopub.execute_input": "2022-07-04T08:56:48.808952Z",
     "iopub.status.busy": "2022-07-04T08:56:48.808090Z",
     "iopub.status.idle": "2022-07-04T08:56:48.816608Z",
     "shell.execute_reply": "2022-07-04T08:56:48.815841Z",
     "shell.execute_reply.started": "2022-07-04T07:45:04.205077Z"
    },
    "papermill": {
     "duration": 0.071146,
     "end_time": "2022-07-04T08:56:48.816901",
     "exception": false,
     "start_time": "2022-07-04T08:56:48.745755",
     "status": "completed"
    },
    "tags": []
   },
   "outputs": [],
   "source": [
    "import os\n",
    "\n",
    "def set_seed(seed=106052):\n",
    "    \"\"\"Set seed for reproducibility.\n",
    "    \"\"\"\n",
    "    random.seed(seed)\n",
    "    np.random.seed(seed)\n",
    "    torch.manual_seed(seed)\n",
    "    torch.cuda.manual_seed_all(seed)\n",
    "    \n",
    "    os.environ['PYTHONHASHSEED'] = str(seed)\n",
    "    \n",
    "set_seed()"
   ]
  },
  {
   "cell_type": "code",
   "execution_count": 15,
   "id": "74d011c8",
   "metadata": {
    "execution": {
     "iopub.execute_input": "2022-07-04T08:56:48.938701Z",
     "iopub.status.busy": "2022-07-04T08:56:48.937757Z",
     "iopub.status.idle": "2022-07-04T08:56:48.941117Z",
     "shell.execute_reply": "2022-07-04T08:56:48.940495Z",
     "shell.execute_reply.started": "2022-07-04T07:45:04.226802Z"
    },
    "papermill": {
     "duration": 0.069031,
     "end_time": "2022-07-04T08:56:48.941246",
     "exception": false,
     "start_time": "2022-07-04T08:56:48.872215",
     "status": "completed"
    },
    "tags": []
   },
   "outputs": [],
   "source": [
    "class CEFRDataset(Dataset):\n",
    "    \"\"\"Classification dataset, built on top of pytorch dataset object\n",
    "    \"\"\"\n",
    "    \n",
    "    def __init__(self, texts, labels):\n",
    "        \n",
    "        self.encoder = LabelEncoder()\n",
    "        print(self.encoder.__dict__)\n",
    "        self.texts = texts\n",
    "        self.labels = self.encoder.fit_transform(labels)\n",
    "\n",
    "    def __len__(self):\n",
    "        return len(self.texts)\n",
    "\n",
    "    def __getitem__(self, index):\n",
    "        text = self.texts[index]\n",
    "        label = self.labels[index]\n",
    "        encoded_text = tokenizer(\n",
    "            text,\n",
    "            padding=\"max_length\",\n",
    "            max_length=max_seq_len,\n",
    "            truncation=True,\n",
    "            return_tensors=\"pt\",\n",
    "        )\n",
    "        encoded_text[\"input_ids\"] = encoded_text[\"input_ids\"].squeeze()\n",
    "        encoded_text[\"attention_mask\"] = encoded_text[\"attention_mask\"].squeeze()\n",
    "        label = torch.tensor(label)\n",
    "\n",
    "        return {\n",
    "            \"input_ids\": encoded_text[\"input_ids\"],\n",
    "            \"attention_mask\": encoded_text[\"attention_mask\"],\n",
    "            \"labels\": label,\n",
    "        }\n",
    "\n",
    "    def get_labels(self):\n",
    "        return self.labels"
   ]
  },
  {
   "cell_type": "code",
   "execution_count": 16,
   "id": "1f74eedd",
   "metadata": {
    "execution": {
     "iopub.execute_input": "2022-07-04T08:56:49.057916Z",
     "iopub.status.busy": "2022-07-04T08:56:49.056957Z",
     "iopub.status.idle": "2022-07-04T08:56:49.059475Z",
     "shell.execute_reply": "2022-07-04T08:56:49.060107Z",
     "shell.execute_reply.started": "2022-07-04T07:45:04.240671Z"
    },
    "papermill": {
     "duration": 0.06489,
     "end_time": "2022-07-04T08:56:49.060242",
     "exception": false,
     "start_time": "2022-07-04T08:56:48.995352",
     "status": "completed"
    },
    "tags": []
   },
   "outputs": [],
   "source": [
    "def train(train_set, valid_set, epochs=10, warmup_size=0.1, lr=1e-3, batch_size=16):\n",
    "    model = get_model(model_name)\n",
    "    optim = AdamW(model.parameters(), lr=lr)\n",
    "    scheduler = get_scheduler(\n",
    "        optim, warmup_size, round(len(train_set) / batch_size * epochs)\n",
    "    )\n",
    "    training_args = get_training_args(epochs, batch_size)\n",
    "    trainer = Trainer(\n",
    "        model=model,\n",
    "        args=training_args,\n",
    "        train_dataset=train_set,\n",
    "        eval_dataset=valid_set,\n",
    "        optimizers=[optim, scheduler],\n",
    "        compute_metrics=compute_accuracy,\n",
    "    )\n",
    "    trainer.train()\n",
    "    trainer.save_model()\n",
    "    return trainer"
   ]
  },
  {
   "cell_type": "code",
   "execution_count": 17,
   "id": "8ee4cb7c",
   "metadata": {
    "execution": {
     "iopub.execute_input": "2022-07-04T08:56:49.175392Z",
     "iopub.status.busy": "2022-07-04T08:56:49.174241Z",
     "iopub.status.idle": "2022-07-04T08:56:49.177590Z",
     "shell.execute_reply": "2022-07-04T08:56:49.176975Z",
     "shell.execute_reply.started": "2022-07-04T07:45:04.258485Z"
    },
    "papermill": {
     "duration": 0.06332,
     "end_time": "2022-07-04T08:56:49.177761",
     "exception": false,
     "start_time": "2022-07-04T08:56:49.114441",
     "status": "completed"
    },
    "tags": []
   },
   "outputs": [],
   "source": [
    "def get_model(pretrained_checkpoint):\n",
    "    model = AutoModelForSequenceClassification.from_pretrained(\n",
    "        pretrained_checkpoint, num_labels=6\n",
    "    )\n",
    "    return model.to(device)"
   ]
  },
  {
   "cell_type": "code",
   "execution_count": 18,
   "id": "489d6cf6",
   "metadata": {
    "execution": {
     "iopub.execute_input": "2022-07-04T08:56:49.294725Z",
     "iopub.status.busy": "2022-07-04T08:56:49.293647Z",
     "iopub.status.idle": "2022-07-04T08:56:49.297007Z",
     "shell.execute_reply": "2022-07-04T08:56:49.296444Z",
     "shell.execute_reply.started": "2022-07-04T07:45:04.269869Z"
    },
    "papermill": {
     "duration": 0.063967,
     "end_time": "2022-07-04T08:56:49.297143",
     "exception": false,
     "start_time": "2022-07-04T08:56:49.233176",
     "status": "completed"
    },
    "tags": []
   },
   "outputs": [],
   "source": [
    "os.environ[\"WANDB_DISABLED\"] = \"true\"\n",
    "\n",
    "\n",
    "def get_scheduler(optimizer, warmup_size, total_steps):\n",
    "    scheduler = get_cosine_schedule_with_warmup(\n",
    "        optimizer,\n",
    "        num_warmup_steps=round(total_steps * warmup_size),\n",
    "        num_training_steps=total_steps,\n",
    "    )\n",
    "    return scheduler\n",
    "\n",
    "\n",
    "def get_training_args(epochs, batch_size):\n",
    "    return TrainingArguments(\n",
    "        output_dir=\"./b\",\n",
    "        num_train_epochs=epochs,\n",
    "        per_device_train_batch_size=batch_size,\n",
    "        logging_steps=50,\n",
    "        fp16=False,\n",
    "        evaluation_strategy=\"epoch\",\n",
    "        eval_accumulation_steps=1,\n",
    "        report_to=None,\n",
    "        save_total_limit=1,\n",
    "        load_best_model_at_end=True\n",
    "    )\n",
    "\n",
    "\n",
    "def compute_accuracy(pred):\n",
    "    labels = pred.label_ids\n",
    "    preds = pred.predictions.argmax(-1)\n",
    "    acc = accuracy_score(labels, preds)\n",
    "    return {\"accuracy\": acc}\n",
    "\n"
   ]
  },
  {
   "cell_type": "code",
   "execution_count": 19,
   "id": "0193da45",
   "metadata": {
    "execution": {
     "iopub.execute_input": "2022-07-04T08:56:49.410127Z",
     "iopub.status.busy": "2022-07-04T08:56:49.409124Z",
     "iopub.status.idle": "2022-07-04T08:56:49.412760Z",
     "shell.execute_reply": "2022-07-04T08:56:49.412084Z",
     "shell.execute_reply.started": "2022-07-04T07:45:04.28278Z"
    },
    "papermill": {
     "duration": 0.061869,
     "end_time": "2022-07-04T08:56:49.412936",
     "exception": false,
     "start_time": "2022-07-04T08:56:49.351067",
     "status": "completed"
    },
    "tags": []
   },
   "outputs": [],
   "source": [
    "lr = 2e-5\n",
    "epochs =  7\n",
    "batch_size = 8\n",
    "max_seq_len = 512"
   ]
  },
  {
   "cell_type": "code",
   "execution_count": 20,
   "id": "e3a20c00",
   "metadata": {
    "execution": {
     "iopub.execute_input": "2022-07-04T08:56:49.529234Z",
     "iopub.status.busy": "2022-07-04T08:56:49.528251Z",
     "iopub.status.idle": "2022-07-04T08:56:49.531028Z",
     "shell.execute_reply": "2022-07-04T08:56:49.531526Z",
     "shell.execute_reply.started": "2022-07-04T07:45:04.30039Z"
    },
    "papermill": {
     "duration": 0.064767,
     "end_time": "2022-07-04T08:56:49.531701",
     "exception": false,
     "start_time": "2022-07-04T08:56:49.466934",
     "status": "completed"
    },
    "tags": []
   },
   "outputs": [],
   "source": [
    "def split_valid(df, frac=0.01):\n",
    "    \n",
    "    val = pd.DataFrame()\n",
    "    val[\"text\"] = \"\"\n",
    "    val[\"label\"] = -1\n",
    "    \n",
    "    for i in df.label.unique():\n",
    "        val = pd.concat([val, df[df.label == i].sample(frac=frac)])\n",
    "        \n",
    "    return df[~df.index.isin(val.index)].reset_index(drop=True) , val.reset_index(drop=True)"
   ]
  },
  {
   "cell_type": "code",
   "execution_count": null,
   "id": "d2bf8aff",
   "metadata": {
    "papermill": {
     "duration": 0.054387,
     "end_time": "2022-07-04T08:56:49.640320",
     "exception": false,
     "start_time": "2022-07-04T08:56:49.585933",
     "status": "completed"
    },
    "tags": []
   },
   "outputs": [],
   "source": []
  },
  {
   "cell_type": "code",
   "execution_count": 21,
   "id": "a9ad979a",
   "metadata": {
    "execution": {
     "iopub.execute_input": "2022-07-04T08:56:49.755878Z",
     "iopub.status.busy": "2022-07-04T08:56:49.754779Z",
     "iopub.status.idle": "2022-07-04T08:56:49.758129Z",
     "shell.execute_reply": "2022-07-04T08:56:49.757564Z",
     "shell.execute_reply.started": "2022-07-04T07:45:04.313169Z"
    },
    "papermill": {
     "duration": 0.062805,
     "end_time": "2022-07-04T08:56:49.758257",
     "exception": false,
     "start_time": "2022-07-04T08:56:49.695452",
     "status": "completed"
    },
    "tags": []
   },
   "outputs": [],
   "source": [
    "# train_set_df = pd.read_csv(\"../input/newdatasets/mike_20_june_new (1).csv\")\n",
    "# train_set_df"
   ]
  },
  {
   "cell_type": "code",
   "execution_count": 22,
   "id": "29033640",
   "metadata": {
    "execution": {
     "iopub.execute_input": "2022-07-04T08:56:49.873060Z",
     "iopub.status.busy": "2022-07-04T08:56:49.871965Z",
     "iopub.status.idle": "2022-07-04T08:56:49.882766Z",
     "shell.execute_reply": "2022-07-04T08:56:49.882218Z",
     "shell.execute_reply.started": "2022-07-04T07:45:04.326168Z"
    },
    "papermill": {
     "duration": 0.068394,
     "end_time": "2022-07-04T08:56:49.882899",
     "exception": false,
     "start_time": "2022-07-04T08:56:49.814505",
     "status": "completed"
    },
    "tags": []
   },
   "outputs": [
    {
     "data": {
      "text/html": [
       "<div>\n",
       "<style scoped>\n",
       "    .dataframe tbody tr th:only-of-type {\n",
       "        vertical-align: middle;\n",
       "    }\n",
       "\n",
       "    .dataframe tbody tr th {\n",
       "        vertical-align: top;\n",
       "    }\n",
       "\n",
       "    .dataframe thead th {\n",
       "        text-align: right;\n",
       "    }\n",
       "</style>\n",
       "<table border=\"1\" class=\"dataframe\">\n",
       "  <thead>\n",
       "    <tr style=\"text-align: right;\">\n",
       "      <th></th>\n",
       "      <th>text</th>\n",
       "      <th>label</th>\n",
       "    </tr>\n",
       "  </thead>\n",
       "  <tbody>\n",
       "    <tr>\n",
       "      <th>0</th>\n",
       "      <td>En 1815, M. Charles-François-Bienvenu Myriel é...</td>\n",
       "      <td>A2</td>\n",
       "    </tr>\n",
       "    <tr>\n",
       "      <th>1</th>\n",
       "      <td>Quoique ce détail ne touche en aucune manière ...</td>\n",
       "      <td>C1</td>\n",
       "    </tr>\n",
       "  </tbody>\n",
       "</table>\n",
       "</div>"
      ],
      "text/plain": [
       "                                                text label\n",
       "0  En 1815, M. Charles-François-Bienvenu Myriel é...    A2\n",
       "1  Quoique ce détail ne touche en aucune manière ...    C1"
      ]
     },
     "execution_count": 22,
     "metadata": {},
     "output_type": "execute_result"
    }
   ],
   "source": [
    "mike_20_june_new.head(2)"
   ]
  },
  {
   "cell_type": "code",
   "execution_count": 23,
   "id": "c46517bf",
   "metadata": {
    "execution": {
     "iopub.execute_input": "2022-07-04T08:56:49.997929Z",
     "iopub.status.busy": "2022-07-04T08:56:49.996948Z",
     "iopub.status.idle": "2022-07-04T08:56:50.003921Z",
     "shell.execute_reply": "2022-07-04T08:56:50.003302Z",
     "shell.execute_reply.started": "2022-07-04T07:45:04.34477Z"
    },
    "papermill": {
     "duration": 0.06495,
     "end_time": "2022-07-04T08:56:50.004072",
     "exception": false,
     "start_time": "2022-07-04T08:56:49.939122",
     "status": "completed"
    },
    "tags": []
   },
   "outputs": [
    {
     "data": {
      "text/plain": [
       "(191, 2)"
      ]
     },
     "execution_count": 23,
     "metadata": {},
     "output_type": "execute_result"
    }
   ],
   "source": [
    "mike_20_june_new.shape"
   ]
  },
  {
   "cell_type": "code",
   "execution_count": 24,
   "id": "2df84455",
   "metadata": {
    "execution": {
     "iopub.execute_input": "2022-07-04T08:56:50.117918Z",
     "iopub.status.busy": "2022-07-04T08:56:50.116905Z",
     "iopub.status.idle": "2022-07-04T08:56:50.145709Z",
     "shell.execute_reply": "2022-07-04T08:56:50.145219Z",
     "shell.execute_reply.started": "2022-07-04T07:45:04.358772Z"
    },
    "papermill": {
     "duration": 0.086841,
     "end_time": "2022-07-04T08:56:50.145909",
     "exception": false,
     "start_time": "2022-07-04T08:56:50.059068",
     "status": "completed"
    },
    "tags": []
   },
   "outputs": [],
   "source": [
    "new=pd.read_csv(\"../input/lingua/fr_lingua.csv\")"
   ]
  },
  {
   "cell_type": "code",
   "execution_count": 25,
   "id": "e84b34ae",
   "metadata": {
    "execution": {
     "iopub.execute_input": "2022-07-04T08:56:50.262520Z",
     "iopub.status.busy": "2022-07-04T08:56:50.261572Z",
     "iopub.status.idle": "2022-07-04T08:56:50.264737Z",
     "shell.execute_reply": "2022-07-04T08:56:50.264120Z",
     "shell.execute_reply.started": "2022-07-04T07:45:04.385777Z"
    },
    "papermill": {
     "duration": 0.064292,
     "end_time": "2022-07-04T08:56:50.264907",
     "exception": false,
     "start_time": "2022-07-04T08:56:50.200615",
     "status": "completed"
    },
    "tags": []
   },
   "outputs": [],
   "source": [
    "new.columns=[\"text\",\"label\"]"
   ]
  },
  {
   "cell_type": "code",
   "execution_count": 26,
   "id": "b8800898",
   "metadata": {
    "execution": {
     "iopub.execute_input": "2022-07-04T08:56:50.381961Z",
     "iopub.status.busy": "2022-07-04T08:56:50.380752Z",
     "iopub.status.idle": "2022-07-04T08:56:50.397974Z",
     "shell.execute_reply": "2022-07-04T08:56:50.397275Z",
     "shell.execute_reply.started": "2022-07-04T07:45:04.391786Z"
    },
    "papermill": {
     "duration": 0.076638,
     "end_time": "2022-07-04T08:56:50.398112",
     "exception": false,
     "start_time": "2022-07-04T08:56:50.321474",
     "status": "completed"
    },
    "tags": []
   },
   "outputs": [
    {
     "data": {
      "text/plain": [
       "((315, 2),\n",
       "                                                 text label\n",
       " 0  Il était une fois un prince qui voulait épouse...    A2\n",
       " 1  Il fit le tour de la Terre pour en trouver une...    B1)"
      ]
     },
     "execution_count": 26,
     "metadata": {},
     "output_type": "execute_result"
    }
   ],
   "source": [
    "french=pd.read_csv(\"../input/frenchcefr/french dataset.csv\")\n",
    "french=french[[\"text\",\"label\"]]\n",
    "french.shape,french.head(2)\n"
   ]
  },
  {
   "cell_type": "code",
   "execution_count": 27,
   "id": "3732b302",
   "metadata": {
    "execution": {
     "iopub.execute_input": "2022-07-04T08:56:50.517443Z",
     "iopub.status.busy": "2022-07-04T08:56:50.516361Z",
     "iopub.status.idle": "2022-07-04T08:56:50.519487Z",
     "shell.execute_reply": "2022-07-04T08:56:50.518735Z",
     "shell.execute_reply.started": "2022-07-04T07:45:04.415384Z"
    },
    "papermill": {
     "duration": 0.064267,
     "end_time": "2022-07-04T08:56:50.519629",
     "exception": false,
     "start_time": "2022-07-04T08:56:50.455362",
     "status": "completed"
    },
    "tags": []
   },
   "outputs": [],
   "source": [
    "# train_set_df=pd.concat([french, mike_20_june_new,new], ignore_index=True)"
   ]
  },
  {
   "cell_type": "code",
   "execution_count": null,
   "id": "983a8b6b",
   "metadata": {
    "papermill": {
     "duration": 0.055448,
     "end_time": "2022-07-04T08:56:50.631296",
     "exception": false,
     "start_time": "2022-07-04T08:56:50.575848",
     "status": "completed"
    },
    "tags": []
   },
   "outputs": [],
   "source": []
  },
  {
   "cell_type": "code",
   "execution_count": null,
   "id": "9e3b1ad6",
   "metadata": {
    "papermill": {
     "duration": 0.068127,
     "end_time": "2022-07-04T08:56:50.755176",
     "exception": false,
     "start_time": "2022-07-04T08:56:50.687049",
     "status": "completed"
    },
    "tags": []
   },
   "outputs": [],
   "source": []
  },
  {
   "cell_type": "code",
   "execution_count": 28,
   "id": "e8597bde",
   "metadata": {
    "execution": {
     "iopub.execute_input": "2022-07-04T08:56:50.875115Z",
     "iopub.status.busy": "2022-07-04T08:56:50.874417Z",
     "iopub.status.idle": "2022-07-04T08:56:50.917611Z",
     "shell.execute_reply": "2022-07-04T08:56:50.916515Z",
     "shell.execute_reply.started": "2022-07-04T07:45:04.423865Z"
    },
    "papermill": {
     "duration": 0.106809,
     "end_time": "2022-07-04T08:56:50.917790",
     "exception": false,
     "start_time": "2022-07-04T08:56:50.810981",
     "status": "completed"
    },
    "tags": []
   },
   "outputs": [],
   "source": [
    "from sklearn import preprocessing\n",
    "le = preprocessing.LabelEncoder()\n",
    "\n",
    "train_set_df = pd.read_csv(\"../input/newdatasets/mike_20_june_new (1).csv\")\n",
    "train_set_df = train_set_df[train_set_df.label != \"XX\"]\n",
    "train_set_df = train_set_df[[\"text\", \"label\"]]\n",
    "\n",
    "train_set_df.text = train_set_df.text.apply(lambda x: x.replace(\"\\r\", \"\").replace(\"\\n\", \" \"))\n",
    "\n",
    "extra_df = pd.read_csv(\"../input/frenchcefr/french_mike_june.csv\")\n",
    "extra_df.columns = [\"text\", \"label\", \"label_\"]\n",
    "extra_df = extra_df[[\"text\", \"label\"]]\n",
    "extra_df.text = extra_df.text.astype(str)\n",
    "#train_set_df = pd.concat([train_set_df, extra_df]).reset_index(drop=True)\n",
    "\n",
    "train_set_df, valid_set_df = split_valid(train_set_df)"
   ]
  },
  {
   "cell_type": "code",
   "execution_count": 29,
   "id": "0dfa4f36",
   "metadata": {
    "execution": {
     "iopub.execute_input": "2022-07-04T08:56:51.034992Z",
     "iopub.status.busy": "2022-07-04T08:56:51.033821Z",
     "iopub.status.idle": "2022-07-04T08:56:51.038030Z",
     "shell.execute_reply": "2022-07-04T08:56:51.037473Z",
     "shell.execute_reply.started": "2022-07-04T07:45:04.474737Z"
    },
    "papermill": {
     "duration": 0.065083,
     "end_time": "2022-07-04T08:56:51.038150",
     "exception": false,
     "start_time": "2022-07-04T08:56:50.973067",
     "status": "completed"
    },
    "tags": []
   },
   "outputs": [
    {
     "data": {
      "text/plain": [
       "array(['A2', 'C1', 'B2', 'A1', 'B1', 'C2'], dtype=object)"
      ]
     },
     "execution_count": 29,
     "metadata": {},
     "output_type": "execute_result"
    }
   ],
   "source": [
    "train_set_df.label.unique()"
   ]
  },
  {
   "cell_type": "code",
   "execution_count": 30,
   "id": "f14933f1",
   "metadata": {
    "execution": {
     "iopub.execute_input": "2022-07-04T08:56:51.155585Z",
     "iopub.status.busy": "2022-07-04T08:56:51.151597Z",
     "iopub.status.idle": "2022-07-04T08:56:51.158796Z",
     "shell.execute_reply": "2022-07-04T08:56:51.158155Z",
     "shell.execute_reply.started": "2022-07-04T07:45:04.483276Z"
    },
    "papermill": {
     "duration": 0.065264,
     "end_time": "2022-07-04T08:56:51.158937",
     "exception": false,
     "start_time": "2022-07-04T08:56:51.093673",
     "status": "completed"
    },
    "tags": []
   },
   "outputs": [],
   "source": [
    "train_set_df.label = le.fit_transform(train_set_df.label)\n",
    "valid_set_df.label = le.transform(valid_set_df.label)"
   ]
  },
  {
   "cell_type": "code",
   "execution_count": 31,
   "id": "5698b3e6",
   "metadata": {
    "execution": {
     "iopub.execute_input": "2022-07-04T08:56:51.276645Z",
     "iopub.status.busy": "2022-07-04T08:56:51.275713Z",
     "iopub.status.idle": "2022-07-04T08:56:51.279819Z",
     "shell.execute_reply": "2022-07-04T08:56:51.279185Z",
     "shell.execute_reply.started": "2022-07-04T07:45:04.493402Z"
    },
    "papermill": {
     "duration": 0.065699,
     "end_time": "2022-07-04T08:56:51.280116",
     "exception": false,
     "start_time": "2022-07-04T08:56:51.214417",
     "status": "completed"
    },
    "tags": []
   },
   "outputs": [
    {
     "data": {
      "text/plain": [
       "6"
      ]
     },
     "execution_count": 31,
     "metadata": {},
     "output_type": "execute_result"
    }
   ],
   "source": [
    "train_set_df.label.nunique()"
   ]
  },
  {
   "cell_type": "code",
   "execution_count": 32,
   "id": "8150ad8c",
   "metadata": {
    "execution": {
     "iopub.execute_input": "2022-07-04T08:56:51.397340Z",
     "iopub.status.busy": "2022-07-04T08:56:51.396289Z",
     "iopub.status.idle": "2022-07-04T08:56:51.404756Z",
     "shell.execute_reply": "2022-07-04T08:56:51.404185Z",
     "shell.execute_reply.started": "2022-07-04T07:45:04.506275Z"
    },
    "papermill": {
     "duration": 0.069159,
     "end_time": "2022-07-04T08:56:51.405012",
     "exception": false,
     "start_time": "2022-07-04T08:56:51.335853",
     "status": "completed"
    },
    "tags": []
   },
   "outputs": [
    {
     "data": {
      "text/plain": [
       "4    57\n",
       "0    41\n",
       "3    33\n",
       "2    29\n",
       "1    24\n",
       "5     6\n",
       "Name: label, dtype: int64"
      ]
     },
     "execution_count": 32,
     "metadata": {},
     "output_type": "execute_result"
    }
   ],
   "source": [
    "train_set_df.label.value_counts()"
   ]
  },
  {
   "cell_type": "code",
   "execution_count": 33,
   "id": "ec3f259a",
   "metadata": {
    "execution": {
     "iopub.execute_input": "2022-07-04T08:56:51.524940Z",
     "iopub.status.busy": "2022-07-04T08:56:51.524037Z",
     "iopub.status.idle": "2022-07-04T08:56:51.527521Z",
     "shell.execute_reply": "2022-07-04T08:56:51.528071Z",
     "shell.execute_reply.started": "2022-07-04T07:45:04.520866Z"
    },
    "papermill": {
     "duration": 0.066544,
     "end_time": "2022-07-04T08:56:51.528218",
     "exception": false,
     "start_time": "2022-07-04T08:56:51.461674",
     "status": "completed"
    },
    "tags": []
   },
   "outputs": [
    {
     "data": {
      "text/plain": [
       "1"
      ]
     },
     "execution_count": 33,
     "metadata": {},
     "output_type": "execute_result"
    }
   ],
   "source": [
    "valid_set_df.label.nunique()"
   ]
  },
  {
   "cell_type": "code",
   "execution_count": 34,
   "id": "bd5d1f81",
   "metadata": {
    "execution": {
     "iopub.execute_input": "2022-07-04T08:56:51.647803Z",
     "iopub.status.busy": "2022-07-04T08:56:51.646938Z",
     "iopub.status.idle": "2022-07-04T08:56:51.650413Z",
     "shell.execute_reply": "2022-07-04T08:56:51.651024Z",
     "shell.execute_reply.started": "2022-07-04T07:45:04.531615Z"
    },
    "papermill": {
     "duration": 0.065717,
     "end_time": "2022-07-04T08:56:51.651213",
     "exception": false,
     "start_time": "2022-07-04T08:56:51.585496",
     "status": "completed"
    },
    "tags": []
   },
   "outputs": [],
   "source": [
    "# train_set_df = train_set_df.sample(frac=1)"
   ]
  },
  {
   "cell_type": "code",
   "execution_count": 35,
   "id": "76d9a573",
   "metadata": {
    "execution": {
     "iopub.execute_input": "2022-07-04T08:56:51.771959Z",
     "iopub.status.busy": "2022-07-04T08:56:51.770872Z",
     "iopub.status.idle": "2022-07-04T08:56:51.778294Z",
     "shell.execute_reply": "2022-07-04T08:56:51.777784Z",
     "shell.execute_reply.started": "2022-07-04T07:45:04.543361Z"
    },
    "papermill": {
     "duration": 0.069095,
     "end_time": "2022-07-04T08:56:51.778470",
     "exception": false,
     "start_time": "2022-07-04T08:56:51.709375",
     "status": "completed"
    },
    "tags": []
   },
   "outputs": [],
   "source": [
    "from tqdm import tqdm \n",
    "\n",
    "def predict(model, text):\n",
    "    \n",
    "    preds = []\n",
    "    \n",
    "    for i in tqdm(range(len(text))):\n",
    "        tokenized = tokenizer(text[i:i+1], return_tensors=\"pt\", truncation=True, max_length=512).to(\"cuda\")\n",
    "        pred = model(**tokenized)\n",
    "        preds.append(pred.logits.argmax(-1).item())\n",
    "\n",
    "    return preds"
   ]
  },
  {
   "cell_type": "code",
   "execution_count": null,
   "id": "b07ffa75",
   "metadata": {
    "papermill": {
     "duration": 0.059068,
     "end_time": "2022-07-04T08:56:51.895948",
     "exception": false,
     "start_time": "2022-07-04T08:56:51.836880",
     "status": "completed"
    },
    "tags": []
   },
   "outputs": [],
   "source": []
  },
  {
   "cell_type": "code",
   "execution_count": 36,
   "id": "712a5518",
   "metadata": {
    "execution": {
     "iopub.execute_input": "2022-07-04T08:56:52.022814Z",
     "iopub.status.busy": "2022-07-04T08:56:52.021681Z",
     "iopub.status.idle": "2022-07-04T08:59:34.615938Z",
     "shell.execute_reply": "2022-07-04T08:59:34.615196Z"
    },
    "papermill": {
     "duration": 162.660482,
     "end_time": "2022-07-04T08:59:34.616092",
     "exception": false,
     "start_time": "2022-07-04T08:56:51.955610",
     "status": "completed"
    },
    "tags": []
   },
   "outputs": [
    {
     "name": "stdout",
     "output_type": "stream",
     "text": [
      "{}\n",
      "{}\n"
     ]
    },
    {
     "data": {
      "application/vnd.jupyter.widget-view+json": {
       "model_id": "0dc202f18e4e43a4a93ad27b3bf96fd5",
       "version_major": 2,
       "version_minor": 0
      },
      "text/plain": [
       "Downloading:   0%|          | 0.00/445M [00:00<?, ?B/s]"
      ]
     },
     "metadata": {},
     "output_type": "display_data"
    },
    {
     "name": "stderr",
     "output_type": "stream",
     "text": [
      "Some weights of the model checkpoint at dbmdz/bert-base-french-europeana-cased were not used when initializing BertForSequenceClassification: ['cls.predictions.bias', 'cls.predictions.transform.dense.weight', 'cls.predictions.transform.dense.bias', 'cls.predictions.transform.LayerNorm.weight', 'cls.predictions.transform.LayerNorm.bias', 'cls.predictions.decoder.weight', 'cls.predictions.decoder.bias', 'cls.seq_relationship.weight', 'cls.seq_relationship.bias']\n",
      "- This IS expected if you are initializing BertForSequenceClassification from the checkpoint of a model trained on another task or with another architecture (e.g. initializing a BertForSequenceClassification model from a BertForPreTraining model).\n",
      "- This IS NOT expected if you are initializing BertForSequenceClassification from the checkpoint of a model that you expect to be exactly identical (initializing a BertForSequenceClassification model from a BertForSequenceClassification model).\n",
      "Some weights of BertForSequenceClassification were not initialized from the model checkpoint at dbmdz/bert-base-french-europeana-cased and are newly initialized: ['classifier.weight', 'classifier.bias']\n",
      "You should probably TRAIN this model on a down-stream task to be able to use it for predictions and inference.\n",
      "Using the `WAND_DISABLED` environment variable is deprecated and will be removed in v5. Use the --report_to flag to control the integrations used for logging result (for instance --report_to none).\n"
     ]
    },
    {
     "data": {
      "text/html": [
       "\n",
       "    <div>\n",
       "        <style>\n",
       "            /* Turns off some styling */\n",
       "            progress {\n",
       "                /* gets rid of default border in Firefox and Opera. */\n",
       "                border: none;\n",
       "                /* Needs to be in here for Safari polyfill so background images work as expected. */\n",
       "                background-size: auto;\n",
       "            }\n",
       "        </style>\n",
       "      \n",
       "      <progress value='168' max='168' style='width:300px; height:20px; vertical-align: middle;'></progress>\n",
       "      [168/168 02:12, Epoch 7/7]\n",
       "    </div>\n",
       "    <table border=\"1\" class=\"dataframe\">\n",
       "  <thead>\n",
       "    <tr style=\"text-align: left;\">\n",
       "      <th>Epoch</th>\n",
       "      <th>Training Loss</th>\n",
       "      <th>Validation Loss</th>\n",
       "      <th>Accuracy</th>\n",
       "      <th>Runtime</th>\n",
       "      <th>Samples Per Second</th>\n",
       "    </tr>\n",
       "  </thead>\n",
       "  <tbody>\n",
       "    <tr>\n",
       "      <td>1</td>\n",
       "      <td>No log</td>\n",
       "      <td>2.087388</td>\n",
       "      <td>0.000000</td>\n",
       "      <td>0.051000</td>\n",
       "      <td>19.612000</td>\n",
       "    </tr>\n",
       "    <tr>\n",
       "      <td>2</td>\n",
       "      <td>No log</td>\n",
       "      <td>3.319314</td>\n",
       "      <td>0.000000</td>\n",
       "      <td>0.083500</td>\n",
       "      <td>11.974000</td>\n",
       "    </tr>\n",
       "    <tr>\n",
       "      <td>3</td>\n",
       "      <td>1.512000</td>\n",
       "      <td>4.162873</td>\n",
       "      <td>0.000000</td>\n",
       "      <td>0.045300</td>\n",
       "      <td>22.071000</td>\n",
       "    </tr>\n",
       "    <tr>\n",
       "      <td>4</td>\n",
       "      <td>1.512000</td>\n",
       "      <td>4.354156</td>\n",
       "      <td>0.000000</td>\n",
       "      <td>0.045300</td>\n",
       "      <td>22.060000</td>\n",
       "    </tr>\n",
       "    <tr>\n",
       "      <td>5</td>\n",
       "      <td>0.867000</td>\n",
       "      <td>4.624961</td>\n",
       "      <td>0.000000</td>\n",
       "      <td>0.041600</td>\n",
       "      <td>24.039000</td>\n",
       "    </tr>\n",
       "    <tr>\n",
       "      <td>6</td>\n",
       "      <td>0.867000</td>\n",
       "      <td>4.566848</td>\n",
       "      <td>0.000000</td>\n",
       "      <td>0.044800</td>\n",
       "      <td>22.341000</td>\n",
       "    </tr>\n",
       "    <tr>\n",
       "      <td>7</td>\n",
       "      <td>0.585500</td>\n",
       "      <td>4.568268</td>\n",
       "      <td>0.000000</td>\n",
       "      <td>0.045000</td>\n",
       "      <td>22.205000</td>\n",
       "    </tr>\n",
       "  </tbody>\n",
       "</table><p>"
      ],
      "text/plain": [
       "<IPython.core.display.HTML object>"
      ]
     },
     "metadata": {},
     "output_type": "display_data"
    }
   ],
   "source": [
    "train_set = CEFRDataset(train_set_df[\"text\"], train_set_df[\"label\"])\n",
    "valid_set = CEFRDataset(valid_set_df[\"text\"], valid_set_df[\"label\"])\n",
    "\n",
    "\n",
    "trainer_second = train(train_set, valid_set, epochs=epochs, warmup_size=0.2, lr=lr, batch_size=batch_size)\n",
    "model = trainer_second.model"
   ]
  },
  {
   "cell_type": "code",
   "execution_count": 37,
   "id": "51934fd5",
   "metadata": {
    "execution": {
     "iopub.execute_input": "2022-07-04T08:59:34.739904Z",
     "iopub.status.busy": "2022-07-04T08:59:34.738913Z",
     "iopub.status.idle": "2022-07-04T08:59:34.784083Z",
     "shell.execute_reply": "2022-07-04T08:59:34.783456Z"
    },
    "papermill": {
     "duration": 0.106978,
     "end_time": "2022-07-04T08:59:34.784205",
     "exception": false,
     "start_time": "2022-07-04T08:59:34.677227",
     "status": "completed"
    },
    "tags": []
   },
   "outputs": [
    {
     "name": "stderr",
     "output_type": "stream",
     "text": [
      "100%|██████████| 1/1 [00:00<00:00, 32.40it/s]\n"
     ]
    }
   ],
   "source": [
    "valid_set_df[\"preds\"] = train_set.encoder.inverse_transform(predict(model, valid_set_df.text.tolist()))\n",
    "valid_set_df.columns = [\"text\", \"cefr\", \"preds\",] "
   ]
  },
  {
   "cell_type": "code",
   "execution_count": 38,
   "id": "ea520c88",
   "metadata": {
    "execution": {
     "iopub.execute_input": "2022-07-04T08:59:34.912791Z",
     "iopub.status.busy": "2022-07-04T08:59:34.912144Z",
     "iopub.status.idle": "2022-07-04T08:59:36.839465Z",
     "shell.execute_reply": "2022-07-04T08:59:36.839962Z"
    },
    "papermill": {
     "duration": 1.993676,
     "end_time": "2022-07-04T08:59:36.840141",
     "exception": false,
     "start_time": "2022-07-04T08:59:34.846465",
     "status": "completed"
    },
    "tags": []
   },
   "outputs": [
    {
     "name": "stderr",
     "output_type": "stream",
     "text": [
      "100%|██████████| 111/111 [00:01<00:00, 58.09it/s]\n"
     ]
    }
   ],
   "source": [
    "lingua = pd.read_csv(\"../input/lingua/fr_lingua.csv\")\n",
    "lingua[\"preds\"] = train_set.encoder.inverse_transform(predict(model, lingua.text.tolist()))"
   ]
  },
  {
   "cell_type": "code",
   "execution_count": 39,
   "id": "021b3951",
   "metadata": {
    "execution": {
     "iopub.execute_input": "2022-07-04T08:59:36.981884Z",
     "iopub.status.busy": "2022-07-04T08:59:36.980817Z",
     "iopub.status.idle": "2022-07-04T08:59:36.983921Z",
     "shell.execute_reply": "2022-07-04T08:59:36.984520Z"
    },
    "papermill": {
     "duration": 0.076692,
     "end_time": "2022-07-04T08:59:36.984727",
     "exception": false,
     "start_time": "2022-07-04T08:59:36.908035",
     "status": "completed"
    },
    "tags": []
   },
   "outputs": [],
   "source": [
    "# lingua.columns=[\"text\",\"len\",\"lang\",\"cefr\",\"preds\"]\n",
    "# lingua = lingua[lingua.cefr != \"XX\"]"
   ]
  },
  {
   "cell_type": "code",
   "execution_count": 40,
   "id": "87103a60",
   "metadata": {
    "execution": {
     "iopub.execute_input": "2022-07-04T08:59:37.128627Z",
     "iopub.status.busy": "2022-07-04T08:59:37.127560Z",
     "iopub.status.idle": "2022-07-04T08:59:37.131269Z",
     "shell.execute_reply": "2022-07-04T08:59:37.131976Z"
    },
    "papermill": {
     "duration": 0.079267,
     "end_time": "2022-07-04T08:59:37.132117",
     "exception": false,
     "start_time": "2022-07-04T08:59:37.052850",
     "status": "completed"
    },
    "tags": []
   },
   "outputs": [
    {
     "data": {
      "text/plain": [
       "B1    60\n",
       "A2    26\n",
       "A1    13\n",
       "B2    12\n",
       "Name: cefr, dtype: int64"
      ]
     },
     "execution_count": 40,
     "metadata": {},
     "output_type": "execute_result"
    }
   ],
   "source": [
    "lingua.cefr.value_counts()"
   ]
  },
  {
   "cell_type": "code",
   "execution_count": 41,
   "id": "865f63b7",
   "metadata": {
    "execution": {
     "iopub.execute_input": "2022-07-04T08:59:37.268180Z",
     "iopub.status.busy": "2022-07-04T08:59:37.266317Z",
     "iopub.status.idle": "2022-07-04T08:59:37.271789Z",
     "shell.execute_reply": "2022-07-04T08:59:37.272407Z"
    },
    "papermill": {
     "duration": 0.075145,
     "end_time": "2022-07-04T08:59:37.272561",
     "exception": false,
     "start_time": "2022-07-04T08:59:37.197416",
     "status": "completed"
    },
    "tags": []
   },
   "outputs": [
    {
     "data": {
      "text/plain": [
       "array([4])"
      ]
     },
     "execution_count": 41,
     "metadata": {},
     "output_type": "execute_result"
    }
   ],
   "source": [
    "lingua.preds.unique()"
   ]
  },
  {
   "cell_type": "code",
   "execution_count": 42,
   "id": "2327e34e",
   "metadata": {
    "execution": {
     "iopub.execute_input": "2022-07-04T08:59:37.415876Z",
     "iopub.status.busy": "2022-07-04T08:59:37.414876Z",
     "iopub.status.idle": "2022-07-04T08:59:37.418290Z",
     "shell.execute_reply": "2022-07-04T08:59:37.417636Z"
    },
    "papermill": {
     "duration": 0.077253,
     "end_time": "2022-07-04T08:59:37.418416",
     "exception": false,
     "start_time": "2022-07-04T08:59:37.341163",
     "status": "completed"
    },
    "tags": []
   },
   "outputs": [],
   "source": [
    "def compute_average_distance(df, col_name=\"cefr\") :\n",
    "    \n",
    "    labels = [\"A1\", \"A2\", \"B1\", \"B2\", \"C1\", \"C2\"]\n",
    "    return (df[col_name].apply(lambda x: labels.index(x)) - df.preds.apply(lambda x: labels.index(x))).abs().mean()\n"
   ]
  },
  {
   "cell_type": "code",
   "execution_count": 43,
   "id": "eb1f3ca7",
   "metadata": {
    "execution": {
     "iopub.execute_input": "2022-07-04T08:59:37.560964Z",
     "iopub.status.busy": "2022-07-04T08:59:37.559800Z",
     "iopub.status.idle": "2022-07-04T08:59:37.566454Z",
     "shell.execute_reply": "2022-07-04T08:59:37.567049Z"
    },
    "papermill": {
     "duration": 0.08033,
     "end_time": "2022-07-04T08:59:37.567189",
     "exception": false,
     "start_time": "2022-07-04T08:59:37.486859",
     "status": "completed"
    },
    "tags": []
   },
   "outputs": [
    {
     "data": {
      "text/plain": [
       "4    111\n",
       "Name: preds, dtype: int64"
      ]
     },
     "execution_count": 43,
     "metadata": {},
     "output_type": "execute_result"
    }
   ],
   "source": [
    "lingua.preds.value_counts()"
   ]
  },
  {
   "cell_type": "code",
   "execution_count": 44,
   "id": "34beff8c",
   "metadata": {
    "execution": {
     "iopub.execute_input": "2022-07-04T08:59:37.711237Z",
     "iopub.status.busy": "2022-07-04T08:59:37.710095Z",
     "iopub.status.idle": "2022-07-04T08:59:37.713873Z",
     "shell.execute_reply": "2022-07-04T08:59:37.714471Z"
    },
    "papermill": {
     "duration": 0.078272,
     "end_time": "2022-07-04T08:59:37.714644",
     "exception": false,
     "start_time": "2022-07-04T08:59:37.636372",
     "status": "completed"
    },
    "tags": []
   },
   "outputs": [],
   "source": [
    "lingua[\"preds\"] = le.inverse_transform(lingua.preds)"
   ]
  },
  {
   "cell_type": "code",
   "execution_count": 45,
   "id": "6f432bbc",
   "metadata": {
    "execution": {
     "iopub.execute_input": "2022-07-04T08:59:37.859121Z",
     "iopub.status.busy": "2022-07-04T08:59:37.858347Z",
     "iopub.status.idle": "2022-07-04T08:59:37.861919Z",
     "shell.execute_reply": "2022-07-04T08:59:37.862454Z"
    },
    "papermill": {
     "duration": 0.079451,
     "end_time": "2022-07-04T08:59:37.862591",
     "exception": false,
     "start_time": "2022-07-04T08:59:37.783140",
     "status": "completed"
    },
    "tags": []
   },
   "outputs": [
    {
     "data": {
      "text/plain": [
       "C1    111\n",
       "Name: preds, dtype: int64"
      ]
     },
     "execution_count": 45,
     "metadata": {},
     "output_type": "execute_result"
    }
   ],
   "source": [
    "lingua.preds.value_counts()"
   ]
  },
  {
   "cell_type": "code",
   "execution_count": 46,
   "id": "8e75a14b",
   "metadata": {
    "execution": {
     "iopub.execute_input": "2022-07-04T08:59:38.010501Z",
     "iopub.status.busy": "2022-07-04T08:59:38.009663Z",
     "iopub.status.idle": "2022-07-04T08:59:38.013813Z",
     "shell.execute_reply": "2022-07-04T08:59:38.014466Z"
    },
    "papermill": {
     "duration": 0.082091,
     "end_time": "2022-07-04T08:59:38.014616",
     "exception": false,
     "start_time": "2022-07-04T08:59:37.932525",
     "status": "completed"
    },
    "tags": []
   },
   "outputs": [
    {
     "name": "stdout",
     "output_type": "stream",
     "text": [
      "Distance: \n",
      "2.3603603603603602\n",
      "Lingua accuracy: 0.0\n"
     ]
    }
   ],
   "source": [
    "print(\"Distance: \")\n",
    "print(compute_average_distance(lingua, \"cefr\"))\n",
    "\n",
    "print(f\"Lingua accuracy: {(lingua['preds'] == lingua['cefr']).mean()}\")"
   ]
  },
  {
   "cell_type": "code",
   "execution_count": 47,
   "id": "02f98cff",
   "metadata": {
    "execution": {
     "iopub.execute_input": "2022-07-04T08:59:38.158460Z",
     "iopub.status.busy": "2022-07-04T08:59:38.157315Z",
     "iopub.status.idle": "2022-07-04T08:59:38.208574Z",
     "shell.execute_reply": "2022-07-04T08:59:38.209142Z"
    },
    "papermill": {
     "duration": 0.123865,
     "end_time": "2022-07-04T08:59:38.209308",
     "exception": false,
     "start_time": "2022-07-04T08:59:38.085443",
     "status": "completed"
    },
    "tags": []
   },
   "outputs": [
    {
     "data": {
      "text/plain": [
       "B2    111\n",
       "Name: Predss, dtype: int64"
      ]
     },
     "execution_count": 47,
     "metadata": {},
     "output_type": "execute_result"
    }
   ],
   "source": [
    "for i in range(lingua.shape[0]):\n",
    "    if (lingua.loc[i,\"preds\"]==\"C1\") | (lingua.loc[i,\"preds\"]==\"C2\") :\n",
    "        lingua.loc[i,\"Predss\"]=\"B2\"\n",
    "    else :\n",
    "        lingua.loc[i,\"Predss\"]= lingua.loc[i,\"preds\"]\n",
    "lingua[\"Predss\"].value_counts()"
   ]
  },
  {
   "cell_type": "code",
   "execution_count": 48,
   "id": "56455e4a",
   "metadata": {
    "execution": {
     "iopub.execute_input": "2022-07-04T08:59:38.359087Z",
     "iopub.status.busy": "2022-07-04T08:59:38.358132Z",
     "iopub.status.idle": "2022-07-04T08:59:38.362398Z",
     "shell.execute_reply": "2022-07-04T08:59:38.363167Z"
    },
    "papermill": {
     "duration": 0.084135,
     "end_time": "2022-07-04T08:59:38.363527",
     "exception": false,
     "start_time": "2022-07-04T08:59:38.279392",
     "status": "completed"
    },
    "tags": []
   },
   "outputs": [
    {
     "name": "stdout",
     "output_type": "stream",
     "text": [
      "Distance: \n",
      "2.3603603603603602\n",
      "Lingua accuracy: 0.10810810810810811\n"
     ]
    }
   ],
   "source": [
    "print(\"Distance: \")\n",
    "print(compute_average_distance(lingua, \"cefr\"))\n",
    "\n",
    "print(f\"Lingua accuracy: {(lingua['Predss'] == lingua['cefr']).mean()}\")"
   ]
  },
  {
   "cell_type": "markdown",
   "id": "eca318ba",
   "metadata": {
    "papermill": {
     "duration": 0.071646,
     "end_time": "2022-07-04T08:59:38.508322",
     "exception": false,
     "start_time": "2022-07-04T08:59:38.436676",
     "status": "completed"
    },
    "tags": []
   },
   "source": [
    "****"
   ]
  },
  {
   "cell_type": "markdown",
   "id": "15d3888c",
   "metadata": {
    "papermill": {
     "duration": 0.071148,
     "end_time": "2022-07-04T08:59:38.650653",
     "exception": false,
     "start_time": "2022-07-04T08:59:38.579505",
     "status": "completed"
    },
    "tags": []
   },
   "source": [
    "Distance: \n",
    "0.990990990990991\n",
    "Lingua accuracy: 0.40540540540540543 <br>\n",
    "2    82\n",
    "3    15\n",
    "5    10\n",
    "4     2\n",
    "0     1\n",
    "1     1 <br> \n",
    "inokufu/flaubert-base-uncased-xnli-sts-finetuned-education"
   ]
  },
  {
   "cell_type": "markdown",
   "id": "cea8901b",
   "metadata": {
    "papermill": {
     "duration": 0.073974,
     "end_time": "2022-07-04T08:59:38.802202",
     "exception": false,
     "start_time": "2022-07-04T08:59:38.728228",
     "status": "completed"
    },
    "tags": []
   },
   "source": [
    "****"
   ]
  },
  {
   "cell_type": "markdown",
   "id": "c6336cfd",
   "metadata": {
    "papermill": {
     "duration": 0.070947,
     "end_time": "2022-07-04T08:59:38.943472",
     "exception": false,
     "start_time": "2022-07-04T08:59:38.872525",
     "status": "completed"
    },
    "tags": []
   },
   "source": [
    "\n",
    "Distance: \n",
    "0.8648648648648649\n",
    "Lingua accuracy: 0.450450450450450462 <br>\n",
    "3     7\n",
    "1     5\n",
    "5     4\n",
    "4     4\n",
    "0     1 <br> inokufu/flaubert-base-uncased-xnli-sts-finetuned-education"
   ]
  },
  {
   "cell_type": "code",
   "execution_count": null,
   "id": "4d0f60a0",
   "metadata": {
    "papermill": {
     "duration": 0.071916,
     "end_time": "2022-07-04T08:59:39.087660",
     "exception": false,
     "start_time": "2022-07-04T08:59:39.015744",
     "status": "completed"
    },
    "tags": []
   },
   "outputs": [],
   "source": []
  },
  {
   "cell_type": "code",
   "execution_count": null,
   "id": "0d97a896",
   "metadata": {
    "papermill": {
     "duration": 0.069568,
     "end_time": "2022-07-04T08:59:39.228195",
     "exception": false,
     "start_time": "2022-07-04T08:59:39.158627",
     "status": "completed"
    },
    "tags": []
   },
   "outputs": [],
   "source": []
  },
  {
   "cell_type": "code",
   "execution_count": null,
   "id": "270dd88b",
   "metadata": {
    "papermill": {
     "duration": 0.070259,
     "end_time": "2022-07-04T08:59:39.369819",
     "exception": false,
     "start_time": "2022-07-04T08:59:39.299560",
     "status": "completed"
    },
    "tags": []
   },
   "outputs": [],
   "source": []
  },
  {
   "cell_type": "code",
   "execution_count": null,
   "id": "76e2e694",
   "metadata": {
    "papermill": {
     "duration": 0.072489,
     "end_time": "2022-07-04T08:59:39.518075",
     "exception": false,
     "start_time": "2022-07-04T08:59:39.445586",
     "status": "completed"
    },
    "tags": []
   },
   "outputs": [],
   "source": []
  }
 ],
 "metadata": {
  "kernelspec": {
   "display_name": "Python 3",
   "language": "python",
   "name": "python3"
  },
  "language_info": {
   "codemirror_mode": {
    "name": "ipython",
    "version": 3
   },
   "file_extension": ".py",
   "mimetype": "text/x-python",
   "name": "python",
   "nbconvert_exporter": "python",
   "pygments_lexer": "ipython3",
   "version": "3.7.10"
  },
  "papermill": {
   "default_parameters": {},
   "duration": 199.920227,
   "end_time": "2022-07-04T08:59:42.968327",
   "environment_variables": {},
   "exception": null,
   "input_path": "__notebook__.ipynb",
   "output_path": "__notebook__.ipynb",
   "parameters": {},
   "start_time": "2022-07-04T08:56:23.048100",
   "version": "2.3.3"
  },
  "widgets": {
   "application/vnd.jupyter.widget-state+json": {
    "state": {
     "0dc202f18e4e43a4a93ad27b3bf96fd5": {
      "model_module": "@jupyter-widgets/controls",
      "model_module_version": "1.5.0",
      "model_name": "HBoxModel",
      "state": {
       "_dom_classes": [],
       "_model_module": "@jupyter-widgets/controls",
       "_model_module_version": "1.5.0",
       "_model_name": "HBoxModel",
       "_view_count": null,
       "_view_module": "@jupyter-widgets/controls",
       "_view_module_version": "1.5.0",
       "_view_name": "HBoxView",
       "box_style": "",
       "children": [
        "IPY_MODEL_880a13fbceff4be491048cd6683a2bbe",
        "IPY_MODEL_a1d88fde856b408b898c18434c27b26d",
        "IPY_MODEL_9ddf0c5f6c5544b8b69a7786d5696910"
       ],
       "layout": "IPY_MODEL_91818f4e899641ef98425e822dfa7363"
      }
     },
     "0f6f1a16c6c444c18df3c3664a89af42": {
      "model_module": "@jupyter-widgets/base",
      "model_module_version": "1.2.0",
      "model_name": "LayoutModel",
      "state": {
       "_model_module": "@jupyter-widgets/base",
       "_model_module_version": "1.2.0",
       "_model_name": "LayoutModel",
       "_view_count": null,
       "_view_module": "@jupyter-widgets/base",
       "_view_module_version": "1.2.0",
       "_view_name": "LayoutView",
       "align_content": null,
       "align_items": null,
       "align_self": null,
       "border": null,
       "bottom": null,
       "display": null,
       "flex": null,
       "flex_flow": null,
       "grid_area": null,
       "grid_auto_columns": null,
       "grid_auto_flow": null,
       "grid_auto_rows": null,
       "grid_column": null,
       "grid_gap": null,
       "grid_row": null,
       "grid_template_areas": null,
       "grid_template_columns": null,
       "grid_template_rows": null,
       "height": null,
       "justify_content": null,
       "justify_items": null,
       "left": null,
       "margin": null,
       "max_height": null,
       "max_width": null,
       "min_height": null,
       "min_width": null,
       "object_fit": null,
       "object_position": null,
       "order": null,
       "overflow": null,
       "overflow_x": null,
       "overflow_y": null,
       "padding": null,
       "right": null,
       "top": null,
       "visibility": null,
       "width": null
      }
     },
     "1391848a58f3464dbf5ea5c68771c1e9": {
      "model_module": "@jupyter-widgets/base",
      "model_module_version": "1.2.0",
      "model_name": "LayoutModel",
      "state": {
       "_model_module": "@jupyter-widgets/base",
       "_model_module_version": "1.2.0",
       "_model_name": "LayoutModel",
       "_view_count": null,
       "_view_module": "@jupyter-widgets/base",
       "_view_module_version": "1.2.0",
       "_view_name": "LayoutView",
       "align_content": null,
       "align_items": null,
       "align_self": null,
       "border": null,
       "bottom": null,
       "display": null,
       "flex": null,
       "flex_flow": null,
       "grid_area": null,
       "grid_auto_columns": null,
       "grid_auto_flow": null,
       "grid_auto_rows": null,
       "grid_column": null,
       "grid_gap": null,
       "grid_row": null,
       "grid_template_areas": null,
       "grid_template_columns": null,
       "grid_template_rows": null,
       "height": null,
       "justify_content": null,
       "justify_items": null,
       "left": null,
       "margin": null,
       "max_height": null,
       "max_width": null,
       "min_height": null,
       "min_width": null,
       "object_fit": null,
       "object_position": null,
       "order": null,
       "overflow": null,
       "overflow_x": null,
       "overflow_y": null,
       "padding": null,
       "right": null,
       "top": null,
       "visibility": null,
       "width": null
      }
     },
     "1aa72dfda3aa4fa0b775e18e09e1beb8": {
      "model_module": "@jupyter-widgets/controls",
      "model_module_version": "1.5.0",
      "model_name": "DescriptionStyleModel",
      "state": {
       "_model_module": "@jupyter-widgets/controls",
       "_model_module_version": "1.5.0",
       "_model_name": "DescriptionStyleModel",
       "_view_count": null,
       "_view_module": "@jupyter-widgets/base",
       "_view_module_version": "1.2.0",
       "_view_name": "StyleView",
       "description_width": ""
      }
     },
     "1cff24574ac34071949cf3c8c08ac1a7": {
      "model_module": "@jupyter-widgets/controls",
      "model_module_version": "1.5.0",
      "model_name": "HBoxModel",
      "state": {
       "_dom_classes": [],
       "_model_module": "@jupyter-widgets/controls",
       "_model_module_version": "1.5.0",
       "_model_name": "HBoxModel",
       "_view_count": null,
       "_view_module": "@jupyter-widgets/controls",
       "_view_module_version": "1.5.0",
       "_view_name": "HBoxView",
       "box_style": "",
       "children": [
        "IPY_MODEL_1d67e8324732448ca553e3b01ba96587",
        "IPY_MODEL_73e7d7cdd94646dbba5f24db9fb90c88",
        "IPY_MODEL_c80214b6b9cb4ff8ba70ab73eff52f8a"
       ],
       "layout": "IPY_MODEL_312fc71dcaa1436e89cdebe38a879461"
      }
     },
     "1d67e8324732448ca553e3b01ba96587": {
      "model_module": "@jupyter-widgets/controls",
      "model_module_version": "1.5.0",
      "model_name": "HTMLModel",
      "state": {
       "_dom_classes": [],
       "_model_module": "@jupyter-widgets/controls",
       "_model_module_version": "1.5.0",
       "_model_name": "HTMLModel",
       "_view_count": null,
       "_view_module": "@jupyter-widgets/controls",
       "_view_module_version": "1.5.0",
       "_view_name": "HTMLView",
       "description": "",
       "description_tooltip": null,
       "layout": "IPY_MODEL_92ffc65e842d4fd59b3461eb9b5b4441",
       "placeholder": "​",
       "style": "IPY_MODEL_6771c552128245af92148dac29a50886",
       "value": "Downloading: 100%"
      }
     },
     "20dc6f91daac4b408b48454d61f8e8a2": {
      "model_module": "@jupyter-widgets/base",
      "model_module_version": "1.2.0",
      "model_name": "LayoutModel",
      "state": {
       "_model_module": "@jupyter-widgets/base",
       "_model_module_version": "1.2.0",
       "_model_name": "LayoutModel",
       "_view_count": null,
       "_view_module": "@jupyter-widgets/base",
       "_view_module_version": "1.2.0",
       "_view_name": "LayoutView",
       "align_content": null,
       "align_items": null,
       "align_self": null,
       "border": null,
       "bottom": null,
       "display": null,
       "flex": null,
       "flex_flow": null,
       "grid_area": null,
       "grid_auto_columns": null,
       "grid_auto_flow": null,
       "grid_auto_rows": null,
       "grid_column": null,
       "grid_gap": null,
       "grid_row": null,
       "grid_template_areas": null,
       "grid_template_columns": null,
       "grid_template_rows": null,
       "height": null,
       "justify_content": null,
       "justify_items": null,
       "left": null,
       "margin": null,
       "max_height": null,
       "max_width": null,
       "min_height": null,
       "min_width": null,
       "object_fit": null,
       "object_position": null,
       "order": null,
       "overflow": null,
       "overflow_x": null,
       "overflow_y": null,
       "padding": null,
       "right": null,
       "top": null,
       "visibility": null,
       "width": null
      }
     },
     "292f83686fd54f199802f681c8bed12d": {
      "model_module": "@jupyter-widgets/controls",
      "model_module_version": "1.5.0",
      "model_name": "DescriptionStyleModel",
      "state": {
       "_model_module": "@jupyter-widgets/controls",
       "_model_module_version": "1.5.0",
       "_model_name": "DescriptionStyleModel",
       "_view_count": null,
       "_view_module": "@jupyter-widgets/base",
       "_view_module_version": "1.2.0",
       "_view_name": "StyleView",
       "description_width": ""
      }
     },
     "2a5a78e4dbe143bab92973b946a7f68c": {
      "model_module": "@jupyter-widgets/controls",
      "model_module_version": "1.5.0",
      "model_name": "FloatProgressModel",
      "state": {
       "_dom_classes": [],
       "_model_module": "@jupyter-widgets/controls",
       "_model_module_version": "1.5.0",
       "_model_name": "FloatProgressModel",
       "_view_count": null,
       "_view_module": "@jupyter-widgets/controls",
       "_view_module_version": "1.5.0",
       "_view_name": "ProgressView",
       "bar_style": "success",
       "description": "",
       "description_tooltip": null,
       "layout": "IPY_MODEL_5953136b88e04c9fb33e35f9f8fe7e14",
       "max": 227141.0,
       "min": 0.0,
       "orientation": "horizontal",
       "style": "IPY_MODEL_503460605742420a9adbbd78932b73e2",
       "value": 227141.0
      }
     },
     "312fc71dcaa1436e89cdebe38a879461": {
      "model_module": "@jupyter-widgets/base",
      "model_module_version": "1.2.0",
      "model_name": "LayoutModel",
      "state": {
       "_model_module": "@jupyter-widgets/base",
       "_model_module_version": "1.2.0",
       "_model_name": "LayoutModel",
       "_view_count": null,
       "_view_module": "@jupyter-widgets/base",
       "_view_module_version": "1.2.0",
       "_view_name": "LayoutView",
       "align_content": null,
       "align_items": null,
       "align_self": null,
       "border": null,
       "bottom": null,
       "display": null,
       "flex": null,
       "flex_flow": null,
       "grid_area": null,
       "grid_auto_columns": null,
       "grid_auto_flow": null,
       "grid_auto_rows": null,
       "grid_column": null,
       "grid_gap": null,
       "grid_row": null,
       "grid_template_areas": null,
       "grid_template_columns": null,
       "grid_template_rows": null,
       "height": null,
       "justify_content": null,
       "justify_items": null,
       "left": null,
       "margin": null,
       "max_height": null,
       "max_width": null,
       "min_height": null,
       "min_width": null,
       "object_fit": null,
       "object_position": null,
       "order": null,
       "overflow": null,
       "overflow_x": null,
       "overflow_y": null,
       "padding": null,
       "right": null,
       "top": null,
       "visibility": null,
       "width": null
      }
     },
     "4050c8af58a041d7997839f99c7149d1": {
      "model_module": "@jupyter-widgets/controls",
      "model_module_version": "1.5.0",
      "model_name": "HTMLModel",
      "state": {
       "_dom_classes": [],
       "_model_module": "@jupyter-widgets/controls",
       "_model_module_version": "1.5.0",
       "_model_name": "HTMLModel",
       "_view_count": null,
       "_view_module": "@jupyter-widgets/controls",
       "_view_module_version": "1.5.0",
       "_view_name": "HTMLView",
       "description": "",
       "description_tooltip": null,
       "layout": "IPY_MODEL_20dc6f91daac4b408b48454d61f8e8a2",
       "placeholder": "​",
       "style": "IPY_MODEL_feb1557b23fb40299702e4984cb6464f",
       "value": "Downloading: 100%"
      }
     },
     "456bc291045443dbacb41d5c84019a4d": {
      "model_module": "@jupyter-widgets/base",
      "model_module_version": "1.2.0",
      "model_name": "LayoutModel",
      "state": {
       "_model_module": "@jupyter-widgets/base",
       "_model_module_version": "1.2.0",
       "_model_name": "LayoutModel",
       "_view_count": null,
       "_view_module": "@jupyter-widgets/base",
       "_view_module_version": "1.2.0",
       "_view_name": "LayoutView",
       "align_content": null,
       "align_items": null,
       "align_self": null,
       "border": null,
       "bottom": null,
       "display": null,
       "flex": null,
       "flex_flow": null,
       "grid_area": null,
       "grid_auto_columns": null,
       "grid_auto_flow": null,
       "grid_auto_rows": null,
       "grid_column": null,
       "grid_gap": null,
       "grid_row": null,
       "grid_template_areas": null,
       "grid_template_columns": null,
       "grid_template_rows": null,
       "height": null,
       "justify_content": null,
       "justify_items": null,
       "left": null,
       "margin": null,
       "max_height": null,
       "max_width": null,
       "min_height": null,
       "min_width": null,
       "object_fit": null,
       "object_position": null,
       "order": null,
       "overflow": null,
       "overflow_x": null,
       "overflow_y": null,
       "padding": null,
       "right": null,
       "top": null,
       "visibility": null,
       "width": null
      }
     },
     "501e9ce3869b4ee1a253fff2bf1a1871": {
      "model_module": "@jupyter-widgets/base",
      "model_module_version": "1.2.0",
      "model_name": "LayoutModel",
      "state": {
       "_model_module": "@jupyter-widgets/base",
       "_model_module_version": "1.2.0",
       "_model_name": "LayoutModel",
       "_view_count": null,
       "_view_module": "@jupyter-widgets/base",
       "_view_module_version": "1.2.0",
       "_view_name": "LayoutView",
       "align_content": null,
       "align_items": null,
       "align_self": null,
       "border": null,
       "bottom": null,
       "display": null,
       "flex": null,
       "flex_flow": null,
       "grid_area": null,
       "grid_auto_columns": null,
       "grid_auto_flow": null,
       "grid_auto_rows": null,
       "grid_column": null,
       "grid_gap": null,
       "grid_row": null,
       "grid_template_areas": null,
       "grid_template_columns": null,
       "grid_template_rows": null,
       "height": null,
       "justify_content": null,
       "justify_items": null,
       "left": null,
       "margin": null,
       "max_height": null,
       "max_width": null,
       "min_height": null,
       "min_width": null,
       "object_fit": null,
       "object_position": null,
       "order": null,
       "overflow": null,
       "overflow_x": null,
       "overflow_y": null,
       "padding": null,
       "right": null,
       "top": null,
       "visibility": null,
       "width": null
      }
     },
     "503460605742420a9adbbd78932b73e2": {
      "model_module": "@jupyter-widgets/controls",
      "model_module_version": "1.5.0",
      "model_name": "ProgressStyleModel",
      "state": {
       "_model_module": "@jupyter-widgets/controls",
       "_model_module_version": "1.5.0",
       "_model_name": "ProgressStyleModel",
       "_view_count": null,
       "_view_module": "@jupyter-widgets/base",
       "_view_module_version": "1.2.0",
       "_view_name": "StyleView",
       "bar_color": null,
       "description_width": ""
      }
     },
     "519b688349b54c2da719d00d6df94e48": {
      "model_module": "@jupyter-widgets/controls",
      "model_module_version": "1.5.0",
      "model_name": "DescriptionStyleModel",
      "state": {
       "_model_module": "@jupyter-widgets/controls",
       "_model_module_version": "1.5.0",
       "_model_name": "DescriptionStyleModel",
       "_view_count": null,
       "_view_module": "@jupyter-widgets/base",
       "_view_module_version": "1.2.0",
       "_view_name": "StyleView",
       "description_width": ""
      }
     },
     "5945f664e02949e084d0f9771be4dfeb": {
      "model_module": "@jupyter-widgets/base",
      "model_module_version": "1.2.0",
      "model_name": "LayoutModel",
      "state": {
       "_model_module": "@jupyter-widgets/base",
       "_model_module_version": "1.2.0",
       "_model_name": "LayoutModel",
       "_view_count": null,
       "_view_module": "@jupyter-widgets/base",
       "_view_module_version": "1.2.0",
       "_view_name": "LayoutView",
       "align_content": null,
       "align_items": null,
       "align_self": null,
       "border": null,
       "bottom": null,
       "display": null,
       "flex": null,
       "flex_flow": null,
       "grid_area": null,
       "grid_auto_columns": null,
       "grid_auto_flow": null,
       "grid_auto_rows": null,
       "grid_column": null,
       "grid_gap": null,
       "grid_row": null,
       "grid_template_areas": null,
       "grid_template_columns": null,
       "grid_template_rows": null,
       "height": null,
       "justify_content": null,
       "justify_items": null,
       "left": null,
       "margin": null,
       "max_height": null,
       "max_width": null,
       "min_height": null,
       "min_width": null,
       "object_fit": null,
       "object_position": null,
       "order": null,
       "overflow": null,
       "overflow_x": null,
       "overflow_y": null,
       "padding": null,
       "right": null,
       "top": null,
       "visibility": null,
       "width": null
      }
     },
     "5953136b88e04c9fb33e35f9f8fe7e14": {
      "model_module": "@jupyter-widgets/base",
      "model_module_version": "1.2.0",
      "model_name": "LayoutModel",
      "state": {
       "_model_module": "@jupyter-widgets/base",
       "_model_module_version": "1.2.0",
       "_model_name": "LayoutModel",
       "_view_count": null,
       "_view_module": "@jupyter-widgets/base",
       "_view_module_version": "1.2.0",
       "_view_name": "LayoutView",
       "align_content": null,
       "align_items": null,
       "align_self": null,
       "border": null,
       "bottom": null,
       "display": null,
       "flex": null,
       "flex_flow": null,
       "grid_area": null,
       "grid_auto_columns": null,
       "grid_auto_flow": null,
       "grid_auto_rows": null,
       "grid_column": null,
       "grid_gap": null,
       "grid_row": null,
       "grid_template_areas": null,
       "grid_template_columns": null,
       "grid_template_rows": null,
       "height": null,
       "justify_content": null,
       "justify_items": null,
       "left": null,
       "margin": null,
       "max_height": null,
       "max_width": null,
       "min_height": null,
       "min_width": null,
       "object_fit": null,
       "object_position": null,
       "order": null,
       "overflow": null,
       "overflow_x": null,
       "overflow_y": null,
       "padding": null,
       "right": null,
       "top": null,
       "visibility": null,
       "width": null
      }
     },
     "6706bee3b5ec42308ce600b6189fbe0d": {
      "model_module": "@jupyter-widgets/controls",
      "model_module_version": "1.5.0",
      "model_name": "HBoxModel",
      "state": {
       "_dom_classes": [],
       "_model_module": "@jupyter-widgets/controls",
       "_model_module_version": "1.5.0",
       "_model_name": "HBoxModel",
       "_view_count": null,
       "_view_module": "@jupyter-widgets/controls",
       "_view_module_version": "1.5.0",
       "_view_name": "HBoxView",
       "box_style": "",
       "children": [
        "IPY_MODEL_72e05559e70b4cd7bb0b80e6723be3e2",
        "IPY_MODEL_89aa4e940fe544a5b787554107aa7811",
        "IPY_MODEL_718e8f5350034193b54ef1dbb7b9f3b9"
       ],
       "layout": "IPY_MODEL_1391848a58f3464dbf5ea5c68771c1e9"
      }
     },
     "6771c552128245af92148dac29a50886": {
      "model_module": "@jupyter-widgets/controls",
      "model_module_version": "1.5.0",
      "model_name": "DescriptionStyleModel",
      "state": {
       "_model_module": "@jupyter-widgets/controls",
       "_model_module_version": "1.5.0",
       "_model_name": "DescriptionStyleModel",
       "_view_count": null,
       "_view_module": "@jupyter-widgets/base",
       "_view_module_version": "1.2.0",
       "_view_name": "StyleView",
       "description_width": ""
      }
     },
     "718e8f5350034193b54ef1dbb7b9f3b9": {
      "model_module": "@jupyter-widgets/controls",
      "model_module_version": "1.5.0",
      "model_name": "HTMLModel",
      "state": {
       "_dom_classes": [],
       "_model_module": "@jupyter-widgets/controls",
       "_model_module_version": "1.5.0",
       "_model_name": "HTMLModel",
       "_view_count": null,
       "_view_module": "@jupyter-widgets/controls",
       "_view_module_version": "1.5.0",
       "_view_name": "HTMLView",
       "description": "",
       "description_tooltip": null,
       "layout": "IPY_MODEL_f763d361a6c344eb976e107bf9ce7934",
       "placeholder": "​",
       "style": "IPY_MODEL_292f83686fd54f199802f681c8bed12d",
       "value": " 83.0/83.0 [00:00&lt;00:00, 2.51kB/s]"
      }
     },
     "72e05559e70b4cd7bb0b80e6723be3e2": {
      "model_module": "@jupyter-widgets/controls",
      "model_module_version": "1.5.0",
      "model_name": "HTMLModel",
      "state": {
       "_dom_classes": [],
       "_model_module": "@jupyter-widgets/controls",
       "_model_module_version": "1.5.0",
       "_model_name": "HTMLModel",
       "_view_count": null,
       "_view_module": "@jupyter-widgets/controls",
       "_view_module_version": "1.5.0",
       "_view_name": "HTMLView",
       "description": "",
       "description_tooltip": null,
       "layout": "IPY_MODEL_8da74e48d2f644769fe98d0426c1a351",
       "placeholder": "​",
       "style": "IPY_MODEL_df66afcde56142dda878c7270827b23e",
       "value": "Downloading: 100%"
      }
     },
     "73e7d7cdd94646dbba5f24db9fb90c88": {
      "model_module": "@jupyter-widgets/controls",
      "model_module_version": "1.5.0",
      "model_name": "FloatProgressModel",
      "state": {
       "_dom_classes": [],
       "_model_module": "@jupyter-widgets/controls",
       "_model_module_version": "1.5.0",
       "_model_name": "FloatProgressModel",
       "_view_count": null,
       "_view_module": "@jupyter-widgets/controls",
       "_view_module_version": "1.5.0",
       "_view_name": "ProgressView",
       "bar_style": "success",
       "description": "",
       "description_tooltip": null,
       "layout": "IPY_MODEL_0f6f1a16c6c444c18df3c3664a89af42",
       "max": 420.0,
       "min": 0.0,
       "orientation": "horizontal",
       "style": "IPY_MODEL_8778a47545bb456abb854d8c51371e23",
       "value": 420.0
      }
     },
     "75ba4780637d41309fb1e52e03caac25": {
      "model_module": "@jupyter-widgets/controls",
      "model_module_version": "1.5.0",
      "model_name": "DescriptionStyleModel",
      "state": {
       "_model_module": "@jupyter-widgets/controls",
       "_model_module_version": "1.5.0",
       "_model_name": "DescriptionStyleModel",
       "_view_count": null,
       "_view_module": "@jupyter-widgets/base",
       "_view_module_version": "1.2.0",
       "_view_name": "StyleView",
       "description_width": ""
      }
     },
     "75c4471452c44d9fab356a87da9b3858": {
      "model_module": "@jupyter-widgets/base",
      "model_module_version": "1.2.0",
      "model_name": "LayoutModel",
      "state": {
       "_model_module": "@jupyter-widgets/base",
       "_model_module_version": "1.2.0",
       "_model_name": "LayoutModel",
       "_view_count": null,
       "_view_module": "@jupyter-widgets/base",
       "_view_module_version": "1.2.0",
       "_view_name": "LayoutView",
       "align_content": null,
       "align_items": null,
       "align_self": null,
       "border": null,
       "bottom": null,
       "display": null,
       "flex": null,
       "flex_flow": null,
       "grid_area": null,
       "grid_auto_columns": null,
       "grid_auto_flow": null,
       "grid_auto_rows": null,
       "grid_column": null,
       "grid_gap": null,
       "grid_row": null,
       "grid_template_areas": null,
       "grid_template_columns": null,
       "grid_template_rows": null,
       "height": null,
       "justify_content": null,
       "justify_items": null,
       "left": null,
       "margin": null,
       "max_height": null,
       "max_width": null,
       "min_height": null,
       "min_width": null,
       "object_fit": null,
       "object_position": null,
       "order": null,
       "overflow": null,
       "overflow_x": null,
       "overflow_y": null,
       "padding": null,
       "right": null,
       "top": null,
       "visibility": null,
       "width": null
      }
     },
     "7c410cf806d94672a45e0e83d4505a19": {
      "model_module": "@jupyter-widgets/controls",
      "model_module_version": "1.5.0",
      "model_name": "DescriptionStyleModel",
      "state": {
       "_model_module": "@jupyter-widgets/controls",
       "_model_module_version": "1.5.0",
       "_model_name": "DescriptionStyleModel",
       "_view_count": null,
       "_view_module": "@jupyter-widgets/base",
       "_view_module_version": "1.2.0",
       "_view_name": "StyleView",
       "description_width": ""
      }
     },
     "837a9f4f2311426c9025552d93d6946c": {
      "model_module": "@jupyter-widgets/base",
      "model_module_version": "1.2.0",
      "model_name": "LayoutModel",
      "state": {
       "_model_module": "@jupyter-widgets/base",
       "_model_module_version": "1.2.0",
       "_model_name": "LayoutModel",
       "_view_count": null,
       "_view_module": "@jupyter-widgets/base",
       "_view_module_version": "1.2.0",
       "_view_name": "LayoutView",
       "align_content": null,
       "align_items": null,
       "align_self": null,
       "border": null,
       "bottom": null,
       "display": null,
       "flex": null,
       "flex_flow": null,
       "grid_area": null,
       "grid_auto_columns": null,
       "grid_auto_flow": null,
       "grid_auto_rows": null,
       "grid_column": null,
       "grid_gap": null,
       "grid_row": null,
       "grid_template_areas": null,
       "grid_template_columns": null,
       "grid_template_rows": null,
       "height": null,
       "justify_content": null,
       "justify_items": null,
       "left": null,
       "margin": null,
       "max_height": null,
       "max_width": null,
       "min_height": null,
       "min_width": null,
       "object_fit": null,
       "object_position": null,
       "order": null,
       "overflow": null,
       "overflow_x": null,
       "overflow_y": null,
       "padding": null,
       "right": null,
       "top": null,
       "visibility": null,
       "width": null
      }
     },
     "8778a47545bb456abb854d8c51371e23": {
      "model_module": "@jupyter-widgets/controls",
      "model_module_version": "1.5.0",
      "model_name": "ProgressStyleModel",
      "state": {
       "_model_module": "@jupyter-widgets/controls",
       "_model_module_version": "1.5.0",
       "_model_name": "ProgressStyleModel",
       "_view_count": null,
       "_view_module": "@jupyter-widgets/base",
       "_view_module_version": "1.2.0",
       "_view_name": "StyleView",
       "bar_color": null,
       "description_width": ""
      }
     },
     "880a13fbceff4be491048cd6683a2bbe": {
      "model_module": "@jupyter-widgets/controls",
      "model_module_version": "1.5.0",
      "model_name": "HTMLModel",
      "state": {
       "_dom_classes": [],
       "_model_module": "@jupyter-widgets/controls",
       "_model_module_version": "1.5.0",
       "_model_name": "HTMLModel",
       "_view_count": null,
       "_view_module": "@jupyter-widgets/controls",
       "_view_module_version": "1.5.0",
       "_view_name": "HTMLView",
       "description": "",
       "description_tooltip": null,
       "layout": "IPY_MODEL_837a9f4f2311426c9025552d93d6946c",
       "placeholder": "​",
       "style": "IPY_MODEL_7c410cf806d94672a45e0e83d4505a19",
       "value": "Downloading: 100%"
      }
     },
     "89aa4e940fe544a5b787554107aa7811": {
      "model_module": "@jupyter-widgets/controls",
      "model_module_version": "1.5.0",
      "model_name": "FloatProgressModel",
      "state": {
       "_dom_classes": [],
       "_model_module": "@jupyter-widgets/controls",
       "_model_module_version": "1.5.0",
       "_model_name": "FloatProgressModel",
       "_view_count": null,
       "_view_module": "@jupyter-widgets/controls",
       "_view_module_version": "1.5.0",
       "_view_name": "ProgressView",
       "bar_style": "success",
       "description": "",
       "description_tooltip": null,
       "layout": "IPY_MODEL_5945f664e02949e084d0f9771be4dfeb",
       "max": 83.0,
       "min": 0.0,
       "orientation": "horizontal",
       "style": "IPY_MODEL_90d8cfc4b7c34ec3be39b74546bbc13e",
       "value": 83.0
      }
     },
     "8b9268bdd52543d498e5e0de925acdc5": {
      "model_module": "@jupyter-widgets/controls",
      "model_module_version": "1.5.0",
      "model_name": "HBoxModel",
      "state": {
       "_dom_classes": [],
       "_model_module": "@jupyter-widgets/controls",
       "_model_module_version": "1.5.0",
       "_model_name": "HBoxModel",
       "_view_count": null,
       "_view_module": "@jupyter-widgets/controls",
       "_view_module_version": "1.5.0",
       "_view_name": "HBoxView",
       "box_style": "",
       "children": [
        "IPY_MODEL_4050c8af58a041d7997839f99c7149d1",
        "IPY_MODEL_2a5a78e4dbe143bab92973b946a7f68c",
        "IPY_MODEL_a9663ebb3fa043519def9142896c6c10"
       ],
       "layout": "IPY_MODEL_c1e1aa4db0d04dd8b3dc8cd1cbef989e"
      }
     },
     "8da74e48d2f644769fe98d0426c1a351": {
      "model_module": "@jupyter-widgets/base",
      "model_module_version": "1.2.0",
      "model_name": "LayoutModel",
      "state": {
       "_model_module": "@jupyter-widgets/base",
       "_model_module_version": "1.2.0",
       "_model_name": "LayoutModel",
       "_view_count": null,
       "_view_module": "@jupyter-widgets/base",
       "_view_module_version": "1.2.0",
       "_view_name": "LayoutView",
       "align_content": null,
       "align_items": null,
       "align_self": null,
       "border": null,
       "bottom": null,
       "display": null,
       "flex": null,
       "flex_flow": null,
       "grid_area": null,
       "grid_auto_columns": null,
       "grid_auto_flow": null,
       "grid_auto_rows": null,
       "grid_column": null,
       "grid_gap": null,
       "grid_row": null,
       "grid_template_areas": null,
       "grid_template_columns": null,
       "grid_template_rows": null,
       "height": null,
       "justify_content": null,
       "justify_items": null,
       "left": null,
       "margin": null,
       "max_height": null,
       "max_width": null,
       "min_height": null,
       "min_width": null,
       "object_fit": null,
       "object_position": null,
       "order": null,
       "overflow": null,
       "overflow_x": null,
       "overflow_y": null,
       "padding": null,
       "right": null,
       "top": null,
       "visibility": null,
       "width": null
      }
     },
     "90d8cfc4b7c34ec3be39b74546bbc13e": {
      "model_module": "@jupyter-widgets/controls",
      "model_module_version": "1.5.0",
      "model_name": "ProgressStyleModel",
      "state": {
       "_model_module": "@jupyter-widgets/controls",
       "_model_module_version": "1.5.0",
       "_model_name": "ProgressStyleModel",
       "_view_count": null,
       "_view_module": "@jupyter-widgets/base",
       "_view_module_version": "1.2.0",
       "_view_name": "StyleView",
       "bar_color": null,
       "description_width": ""
      }
     },
     "91818f4e899641ef98425e822dfa7363": {
      "model_module": "@jupyter-widgets/base",
      "model_module_version": "1.2.0",
      "model_name": "LayoutModel",
      "state": {
       "_model_module": "@jupyter-widgets/base",
       "_model_module_version": "1.2.0",
       "_model_name": "LayoutModel",
       "_view_count": null,
       "_view_module": "@jupyter-widgets/base",
       "_view_module_version": "1.2.0",
       "_view_name": "LayoutView",
       "align_content": null,
       "align_items": null,
       "align_self": null,
       "border": null,
       "bottom": null,
       "display": null,
       "flex": null,
       "flex_flow": null,
       "grid_area": null,
       "grid_auto_columns": null,
       "grid_auto_flow": null,
       "grid_auto_rows": null,
       "grid_column": null,
       "grid_gap": null,
       "grid_row": null,
       "grid_template_areas": null,
       "grid_template_columns": null,
       "grid_template_rows": null,
       "height": null,
       "justify_content": null,
       "justify_items": null,
       "left": null,
       "margin": null,
       "max_height": null,
       "max_width": null,
       "min_height": null,
       "min_width": null,
       "object_fit": null,
       "object_position": null,
       "order": null,
       "overflow": null,
       "overflow_x": null,
       "overflow_y": null,
       "padding": null,
       "right": null,
       "top": null,
       "visibility": null,
       "width": null
      }
     },
     "92ffc65e842d4fd59b3461eb9b5b4441": {
      "model_module": "@jupyter-widgets/base",
      "model_module_version": "1.2.0",
      "model_name": "LayoutModel",
      "state": {
       "_model_module": "@jupyter-widgets/base",
       "_model_module_version": "1.2.0",
       "_model_name": "LayoutModel",
       "_view_count": null,
       "_view_module": "@jupyter-widgets/base",
       "_view_module_version": "1.2.0",
       "_view_name": "LayoutView",
       "align_content": null,
       "align_items": null,
       "align_self": null,
       "border": null,
       "bottom": null,
       "display": null,
       "flex": null,
       "flex_flow": null,
       "grid_area": null,
       "grid_auto_columns": null,
       "grid_auto_flow": null,
       "grid_auto_rows": null,
       "grid_column": null,
       "grid_gap": null,
       "grid_row": null,
       "grid_template_areas": null,
       "grid_template_columns": null,
       "grid_template_rows": null,
       "height": null,
       "justify_content": null,
       "justify_items": null,
       "left": null,
       "margin": null,
       "max_height": null,
       "max_width": null,
       "min_height": null,
       "min_width": null,
       "object_fit": null,
       "object_position": null,
       "order": null,
       "overflow": null,
       "overflow_x": null,
       "overflow_y": null,
       "padding": null,
       "right": null,
       "top": null,
       "visibility": null,
       "width": null
      }
     },
     "9ddf0c5f6c5544b8b69a7786d5696910": {
      "model_module": "@jupyter-widgets/controls",
      "model_module_version": "1.5.0",
      "model_name": "HTMLModel",
      "state": {
       "_dom_classes": [],
       "_model_module": "@jupyter-widgets/controls",
       "_model_module_version": "1.5.0",
       "_model_name": "HTMLModel",
       "_view_count": null,
       "_view_module": "@jupyter-widgets/controls",
       "_view_module_version": "1.5.0",
       "_view_name": "HTMLView",
       "description": "",
       "description_tooltip": null,
       "layout": "IPY_MODEL_aa82761fb59549db9fb94c8f124bf220",
       "placeholder": "​",
       "style": "IPY_MODEL_1aa72dfda3aa4fa0b775e18e09e1beb8",
       "value": " 445M/445M [00:15&lt;00:00, 28.5MB/s]"
      }
     },
     "a1d88fde856b408b898c18434c27b26d": {
      "model_module": "@jupyter-widgets/controls",
      "model_module_version": "1.5.0",
      "model_name": "FloatProgressModel",
      "state": {
       "_dom_classes": [],
       "_model_module": "@jupyter-widgets/controls",
       "_model_module_version": "1.5.0",
       "_model_name": "FloatProgressModel",
       "_view_count": null,
       "_view_module": "@jupyter-widgets/controls",
       "_view_module_version": "1.5.0",
       "_view_name": "ProgressView",
       "bar_style": "success",
       "description": "",
       "description_tooltip": null,
       "layout": "IPY_MODEL_75c4471452c44d9fab356a87da9b3858",
       "max": 445018784.0,
       "min": 0.0,
       "orientation": "horizontal",
       "style": "IPY_MODEL_a2b8ac6e7bcd4929844a977d4ccfe0b1",
       "value": 445018784.0
      }
     },
     "a2b8ac6e7bcd4929844a977d4ccfe0b1": {
      "model_module": "@jupyter-widgets/controls",
      "model_module_version": "1.5.0",
      "model_name": "ProgressStyleModel",
      "state": {
       "_model_module": "@jupyter-widgets/controls",
       "_model_module_version": "1.5.0",
       "_model_name": "ProgressStyleModel",
       "_view_count": null,
       "_view_module": "@jupyter-widgets/base",
       "_view_module_version": "1.2.0",
       "_view_name": "StyleView",
       "bar_color": null,
       "description_width": ""
      }
     },
     "a9663ebb3fa043519def9142896c6c10": {
      "model_module": "@jupyter-widgets/controls",
      "model_module_version": "1.5.0",
      "model_name": "HTMLModel",
      "state": {
       "_dom_classes": [],
       "_model_module": "@jupyter-widgets/controls",
       "_model_module_version": "1.5.0",
       "_model_name": "HTMLModel",
       "_view_count": null,
       "_view_module": "@jupyter-widgets/controls",
       "_view_module_version": "1.5.0",
       "_view_name": "HTMLView",
       "description": "",
       "description_tooltip": null,
       "layout": "IPY_MODEL_456bc291045443dbacb41d5c84019a4d",
       "placeholder": "​",
       "style": "IPY_MODEL_75ba4780637d41309fb1e52e03caac25",
       "value": " 227k/227k [00:00&lt;00:00, 614kB/s]"
      }
     },
     "aa82761fb59549db9fb94c8f124bf220": {
      "model_module": "@jupyter-widgets/base",
      "model_module_version": "1.2.0",
      "model_name": "LayoutModel",
      "state": {
       "_model_module": "@jupyter-widgets/base",
       "_model_module_version": "1.2.0",
       "_model_name": "LayoutModel",
       "_view_count": null,
       "_view_module": "@jupyter-widgets/base",
       "_view_module_version": "1.2.0",
       "_view_name": "LayoutView",
       "align_content": null,
       "align_items": null,
       "align_self": null,
       "border": null,
       "bottom": null,
       "display": null,
       "flex": null,
       "flex_flow": null,
       "grid_area": null,
       "grid_auto_columns": null,
       "grid_auto_flow": null,
       "grid_auto_rows": null,
       "grid_column": null,
       "grid_gap": null,
       "grid_row": null,
       "grid_template_areas": null,
       "grid_template_columns": null,
       "grid_template_rows": null,
       "height": null,
       "justify_content": null,
       "justify_items": null,
       "left": null,
       "margin": null,
       "max_height": null,
       "max_width": null,
       "min_height": null,
       "min_width": null,
       "object_fit": null,
       "object_position": null,
       "order": null,
       "overflow": null,
       "overflow_x": null,
       "overflow_y": null,
       "padding": null,
       "right": null,
       "top": null,
       "visibility": null,
       "width": null
      }
     },
     "c1e1aa4db0d04dd8b3dc8cd1cbef989e": {
      "model_module": "@jupyter-widgets/base",
      "model_module_version": "1.2.0",
      "model_name": "LayoutModel",
      "state": {
       "_model_module": "@jupyter-widgets/base",
       "_model_module_version": "1.2.0",
       "_model_name": "LayoutModel",
       "_view_count": null,
       "_view_module": "@jupyter-widgets/base",
       "_view_module_version": "1.2.0",
       "_view_name": "LayoutView",
       "align_content": null,
       "align_items": null,
       "align_self": null,
       "border": null,
       "bottom": null,
       "display": null,
       "flex": null,
       "flex_flow": null,
       "grid_area": null,
       "grid_auto_columns": null,
       "grid_auto_flow": null,
       "grid_auto_rows": null,
       "grid_column": null,
       "grid_gap": null,
       "grid_row": null,
       "grid_template_areas": null,
       "grid_template_columns": null,
       "grid_template_rows": null,
       "height": null,
       "justify_content": null,
       "justify_items": null,
       "left": null,
       "margin": null,
       "max_height": null,
       "max_width": null,
       "min_height": null,
       "min_width": null,
       "object_fit": null,
       "object_position": null,
       "order": null,
       "overflow": null,
       "overflow_x": null,
       "overflow_y": null,
       "padding": null,
       "right": null,
       "top": null,
       "visibility": null,
       "width": null
      }
     },
     "c80214b6b9cb4ff8ba70ab73eff52f8a": {
      "model_module": "@jupyter-widgets/controls",
      "model_module_version": "1.5.0",
      "model_name": "HTMLModel",
      "state": {
       "_dom_classes": [],
       "_model_module": "@jupyter-widgets/controls",
       "_model_module_version": "1.5.0",
       "_model_name": "HTMLModel",
       "_view_count": null,
       "_view_module": "@jupyter-widgets/controls",
       "_view_module_version": "1.5.0",
       "_view_name": "HTMLView",
       "description": "",
       "description_tooltip": null,
       "layout": "IPY_MODEL_501e9ce3869b4ee1a253fff2bf1a1871",
       "placeholder": "​",
       "style": "IPY_MODEL_519b688349b54c2da719d00d6df94e48",
       "value": " 420/420 [00:00&lt;00:00, 12.8kB/s]"
      }
     },
     "df66afcde56142dda878c7270827b23e": {
      "model_module": "@jupyter-widgets/controls",
      "model_module_version": "1.5.0",
      "model_name": "DescriptionStyleModel",
      "state": {
       "_model_module": "@jupyter-widgets/controls",
       "_model_module_version": "1.5.0",
       "_model_name": "DescriptionStyleModel",
       "_view_count": null,
       "_view_module": "@jupyter-widgets/base",
       "_view_module_version": "1.2.0",
       "_view_name": "StyleView",
       "description_width": ""
      }
     },
     "f763d361a6c344eb976e107bf9ce7934": {
      "model_module": "@jupyter-widgets/base",
      "model_module_version": "1.2.0",
      "model_name": "LayoutModel",
      "state": {
       "_model_module": "@jupyter-widgets/base",
       "_model_module_version": "1.2.0",
       "_model_name": "LayoutModel",
       "_view_count": null,
       "_view_module": "@jupyter-widgets/base",
       "_view_module_version": "1.2.0",
       "_view_name": "LayoutView",
       "align_content": null,
       "align_items": null,
       "align_self": null,
       "border": null,
       "bottom": null,
       "display": null,
       "flex": null,
       "flex_flow": null,
       "grid_area": null,
       "grid_auto_columns": null,
       "grid_auto_flow": null,
       "grid_auto_rows": null,
       "grid_column": null,
       "grid_gap": null,
       "grid_row": null,
       "grid_template_areas": null,
       "grid_template_columns": null,
       "grid_template_rows": null,
       "height": null,
       "justify_content": null,
       "justify_items": null,
       "left": null,
       "margin": null,
       "max_height": null,
       "max_width": null,
       "min_height": null,
       "min_width": null,
       "object_fit": null,
       "object_position": null,
       "order": null,
       "overflow": null,
       "overflow_x": null,
       "overflow_y": null,
       "padding": null,
       "right": null,
       "top": null,
       "visibility": null,
       "width": null
      }
     },
     "feb1557b23fb40299702e4984cb6464f": {
      "model_module": "@jupyter-widgets/controls",
      "model_module_version": "1.5.0",
      "model_name": "DescriptionStyleModel",
      "state": {
       "_model_module": "@jupyter-widgets/controls",
       "_model_module_version": "1.5.0",
       "_model_name": "DescriptionStyleModel",
       "_view_count": null,
       "_view_module": "@jupyter-widgets/base",
       "_view_module_version": "1.2.0",
       "_view_name": "StyleView",
       "description_width": ""
      }
     }
    },
    "version_major": 2,
    "version_minor": 0
   }
  }
 },
 "nbformat": 4,
 "nbformat_minor": 5
}
