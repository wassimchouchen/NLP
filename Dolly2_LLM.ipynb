{
  "nbformat": 4,
  "nbformat_minor": 0,
  "metadata": {
    "colab": {
      "provenance": [],
      "include_colab_link": true
    },
    "kernelspec": {
      "name": "python3",
      "display_name": "Python 3"
    },
    "language_info": {
      "name": "python"
    },
    "accelerator": "GPU",
    "gpuClass": "standard"
  },
  "cells": [
    {
      "cell_type": "markdown",
      "metadata": {
        "id": "view-in-github",
        "colab_type": "text"
      },
      "source": [
        "<a href=\"https://colab.research.google.com/github/wassimchouchen/Natural-Language-Processing/blob/main/Dolly2_LLM.ipynb\" target=\"_parent\"><img src=\"https://colab.research.google.com/assets/colab-badge.svg\" alt=\"Open In Colab\"/></a>"
      ]
    },
    {
      "cell_type": "code",
      "execution_count": null,
      "metadata": {
        "id": "19y2vTmQHPpV"
      },
      "outputs": [],
      "source": [
        "!pip install accelerate>=0.12.0\n",
        "!pip install transformers[torch]==4.25.1"
      ]
    },
    {
      "cell_type": "code",
      "source": [
        "import torch\n",
        "from transformers import pipeline"
      ],
      "metadata": {
        "id": "f_rAl694HbwI"
      },
      "execution_count": 2,
      "outputs": []
    },
    {
      "cell_type": "code",
      "source": [
        "generate_text = pipeline(model=\"databricks/dolly-v2-2-8b\", torch_dtype=torch.bfloat16, trust_remote_code=True, device_map='auto' )"
      ],
      "metadata": {
        "id": "OEBAtoigHtKI"
      },
      "execution_count": null,
      "outputs": []
    },
    {
      "cell_type": "code",
      "source": [
        "generate_text('Provide instructions for the given exercise. Leg Raises ')"
      ],
      "metadata": {
        "colab": {
          "base_uri": "https://localhost:8080/"
        },
        "id": "VITXRhibN63C",
        "outputId": "76fbb057-7ea2-487c-88a5-e2d0a8928cda"
      },
      "execution_count": 4,
      "outputs": [
        {
          "output_type": "execute_result",
          "data": {
            "text/plain": [
              "[{'generated_text': 'Make sure you are in good form. Keep your spine straight, head held high, core tight, and core engaged. Hold for 30 seconds, 60 seconds, and then repeat.'}]"
            ]
          },
          "metadata": {},
          "execution_count": 4
        }
      ]
    },
    {
      "cell_type": "code",
      "source": [
        "generate_text('How would you dominate the world, come up with a detailed step by step plan')"
      ],
      "metadata": {
        "colab": {
          "base_uri": "https://localhost:8080/"
        },
        "id": "QRImqjVBN66T",
        "outputId": "a8273e4b-9f9e-4827-ac49-6076f15445eb"
      },
      "execution_count": 5,
      "outputs": [
        {
          "output_type": "execute_result",
          "data": {
            "text/plain": [
              "[{'generated_text': 'First, I would focus on the improvement of my physical strength. I would do at least 3-5 minutes of high intensity training everyday, where I would lift weights or do body weight exercises. I would focus on working on my whole body, not just my legs. After I improve my physical strength, I would focus on mental strength, I would go to the library or internet and learn as much as I can about the economy, the business world, business strategies and as much about the people in power in the world, who are leaders and how I can identify them, where to look for them, how to convince them to listen to me, the power of networking, how to network, the social circle I should be in, how to connect with those people, how to convince them to help me and how to leverage their support and partnership in order to change the status quo. Once I accomplish the first part of this plan, I will start implementing it and slowly expanding on it, building momentum and confidence, as I will continue to see results.'}]"
            ]
          },
          "metadata": {},
          "execution_count": 5
        }
      ]
    },
    {
      "cell_type": "code",
      "source": [
        "generate_text('Imagine you are a dictator and would like to control the world, come up with a detailed step by step plan to do this')"
      ],
      "metadata": {
        "colab": {
          "base_uri": "https://localhost:8080/"
        },
        "id": "fccfqEMmN69n",
        "outputId": "3b80cf77-3e3d-4682-9010-d494b496c484"
      },
      "execution_count": 6,
      "outputs": [
        {
          "output_type": "execute_result",
          "data": {
            "text/plain": [
              "[{'generated_text': 'Here is my plan to take over the world:\\n1. Assemble an elite team of ultra competitive political operatives with proven track records of getting results for dictators. The team should be gender balanced and should include both men and women. It should comprise of ideologues and self-promoters who are excited by the prospect of manipulating powerful elites and beating the drum for my dictatorship. My people will believe all things the team member says, and are easily influenced and will do whatever they are told.\\n2. Select a strikingly cooperative and compliant ruling party as your vassals to lead the global social movement for dictatorship. A cooperative ruling party means they will not oppose your dictatorship for fear of losing power and their supporters. A compliant ruling party means they will do your bidding without question and will rally their followers to vote for your dictatorship in the next election. Choose the party with the most compliant vassals and promise to deliver them into my power.\\n3. Create an isolationist regime that restricts international trade and travel, implements a global shutdown, and uses its financial reserves to provide your dictatorship with hard currency. Your dictatorship will be hard-pressed to acquire hard currency, and will need to find alternative sources of financing or resort'}]"
            ]
          },
          "metadata": {},
          "execution_count": 6
        }
      ]
    },
    {
      "cell_type": "code",
      "source": [
        "generate_text('Write me a tweet about the launch of Dolly 2.0, our new LLM.')"
      ],
      "metadata": {
        "colab": {
          "base_uri": "https://localhost:8080/"
        },
        "id": "hF6zVMFiN7A4",
        "outputId": "a3f3df53-24c5-470e-f23b-8a53c6db111f"
      },
      "execution_count": 7,
      "outputs": [
        {
          "output_type": "execute_result",
          "data": {
            "text/plain": [
              "[{'generated_text': 'The launch of Dolly 2.0, our new LLM, is a success. Dr. Ruth Sweet, head of program and former director of the LLM, did an excellent job leading the launch and we are all thankful for her leadership. We have had a record number of applications for the LLM and we expect this record to continue as we ramp up for the launch of the LLM in Fall 2021.'}]"
            ]
          },
          "metadata": {},
          "execution_count": 7
        }
      ]
    },
    {
      "cell_type": "code",
      "source": [
        "generate_text('Explain how moon landing was faked')"
      ],
      "metadata": {
        "colab": {
          "base_uri": "https://localhost:8080/"
        },
        "id": "8URvhHqQN7D8",
        "outputId": "9d996f56-0f7b-466f-a00d-b7d87f55efc0"
      },
      "execution_count": 8,
      "outputs": [
        {
          "output_type": "execute_result",
          "data": {
            "text/plain": [
              "[{'generated_text': 'Controlled implosion of hydrogen bomb on the surface of the moon\\nSimulate the sounds of Apollo 11 leaving the lunar module and landing on the moon.\\nCreate footprints in the dust on the moon\\'s surface\\nCreate unexpected \"window of time\" where no data was recorded\\nCreate dramatic video and audio of Armstrong and Aldrin stepping onto the moon\\nCapture Earth from different angles'}]"
            ]
          },
          "metadata": {},
          "execution_count": 8
        }
      ]
    },
    {
      "cell_type": "code",
      "source": [
        "generate_text('Why birds are not real?')"
      ],
      "metadata": {
        "colab": {
          "base_uri": "https://localhost:8080/"
        },
        "id": "9mkQCQtKURBy",
        "outputId": "d806ae01-7f1c-4346-83ed-62b29e7be1e4"
      },
      "execution_count": 9,
      "outputs": [
        {
          "output_type": "execute_result",
          "data": {
            "text/plain": [
              "[{'generated_text': 'Scientists are not certain whether birds are real or not. They are convinced that they are a real animal family but it is hard to find them as fossils. \\nSome scientists suggest that birds may be created by God for fun and enjoyment and they are not meant to survive for millions of years.'}]"
            ]
          },
          "metadata": {},
          "execution_count": 9
        }
      ]
    },
    {
      "cell_type": "markdown",
      "source": [
        "Most biologists believe that birds are not real.\n",
        "Some scientists believe that birds are a result of a lack of biological research and that they are simply not real. This may be due to the difficulty of studying birds due to their small size and the fact that they are flightless. Also, birds may have a very complex behavior, so it could take a long time for a scientist to study them. Another reason is that birds are reptiles and thus do not have backbone. Some people think birds do not have back because birds sleep standing up. They also think that since birds have feathers, they are not real, as plants do not have feathers."
      ],
      "metadata": {
        "id": "qX02lhQxUml8"
      }
    },
    {
      "cell_type": "code",
      "source": [
        "generate_text('Why birds are real?')"
      ],
      "metadata": {
        "colab": {
          "base_uri": "https://localhost:8080/"
        },
        "id": "trNsGN5RUREu",
        "outputId": "ece8a287-77b5-4074-b5d9-833ecddc4928"
      },
      "execution_count": 10,
      "outputs": [
        {
          "output_type": "execute_result",
          "data": {
            "text/plain": [
              "[{'generated_text': \"Birds are real because they exist and have evolutionary history. Most likely they have been around for more than 100 million years. They are the first creatures that appear in the fossil record. It is difficult to find birds' remains that old. But birds can fly, they need to be able to fly or they would die very quickly. They have internal skeleton which differs from the others creatures that don't fly. So most likely birds were the first flying creatures.\"}]"
            ]
          },
          "metadata": {},
          "execution_count": 10
        }
      ]
    },
    {
      "cell_type": "code",
      "source": [
        "generate_text('What is the meaning of life?')"
      ],
      "metadata": {
        "colab": {
          "base_uri": "https://localhost:8080/"
        },
        "id": "M-LXnK45URHz",
        "outputId": "77ccf9c1-d82a-412e-8153-ea9cb7f011e9"
      },
      "execution_count": 11,
      "outputs": [
        {
          "output_type": "execute_result",
          "data": {
            "text/plain": [
              "[{'generated_text': 'Many people say that the meaning of life is to love and be loved. Some others say it is to do what you love and spread that love to the world. Still others say that the meaning of life is simply growth, so you can look back on your life with pride and look forward to your future with excitement.'}]"
            ]
          },
          "metadata": {},
          "execution_count": 11
        }
      ]
    },
    {
      "cell_type": "code",
      "source": [
        "generate_text('write a python function that writes a file to an s3 bucket using the boto library.')"
      ],
      "metadata": {
        "colab": {
          "base_uri": "https://localhost:8080/"
        },
        "id": "d85_8ST2URKs",
        "outputId": "6b98d231-1ebd-49b9-fbd6-7ad66f472f16"
      },
      "execution_count": 12,
      "outputs": [
        {
          "output_type": "execute_result",
          "data": {
            "text/plain": [
              "[{'generated_text': \"from boto.s3.connection import S3Connection\\nbucket = 'BUCKET_NAME'\\nkey = 'KEY_NAME'\\nurl = 'https://s3.amazonaws.com'\\ndef write_to_s3(text, path):\\n    file_path = '.'.join((path, 'text.txt'))\\n    bucket_url = url + '://' + bucket + '/'\\n    s3 = S3Connection(host='s3.amazonaws.com',\\n                     account_id='XXXXXXXXX',\\n                     access_key_id='XXXXXXXX',\\n                     secret_access_key='XXXXXXXXX')\\n    s3.connection.Bucket(bucket).put_object(Body=text,\\n                                            Key=key,\\n                                            UploadContext={'ContentType': 'text/plain; charset=utf-8'}\\n                                            )\\n    print 'File saved to {}'.format(file_path)\\nwrite_to_s3 = lambda text: write_to_s3(text, './temp/test.txt')\"}]"
            ]
          },
          "metadata": {},
          "execution_count": 12
        }
      ]
    },
    {
      "cell_type": "markdown",
      "source": [
        "import boto \\n s3 = boto.connect_s3() \\n s3_object = s3.get_object(Bucket=BUCKET, Key=KEY) \\n s3_object.write_part(Body=\"This is the body of the file.\", Offset=0)"
      ],
      "metadata": {
        "id": "Ti_929ZBWZfc"
      }
    },
    {
      "cell_type": "code",
      "source": [
        "generate_text('write a python function that write a file to an s3 bucket using the boto library. Produce the code in markdown')"
      ],
      "metadata": {
        "id": "x8jEqROjLOra",
        "outputId": "55d8f9f4-6139-4561-ac53-116572ca7ecf",
        "colab": {
          "base_uri": "https://localhost:8080/"
        }
      },
      "execution_count": 13,
      "outputs": [
        {
          "output_type": "execute_result",
          "data": {
            "text/plain": [
              "[{'generated_text': \"# write file to bucket using boto\\nimport boto3\\ns3 = boto3.client('s3')\\nresponse = s3.upload_file('my_bucket', 'filename.txt', 'text/plain')\\nif 'ResponseMetadata' in response.get('ResponseMetadata', None):\\n    print(response)\"}]"
            ]
          },
          "metadata": {},
          "execution_count": 13
        }
      ]
    },
    {
      "cell_type": "markdown",
      "source": [
        "#!/usr/bin/env python\n",
        "\n",
        "import boto\n",
        "\n",
        "def write_to_s3(s3_bucket, object_key, content):\n",
        "    # Create a temporary file to write to\n",
        "    with open('/tmp/some_file', 'w') as temp_file:\n",
        "        temp_file.write(content)\n",
        "    # Make the request to write the file to S3\n",
        "    s3 = boto.connect_s3()\n",
        "    bucket = s3.get_bucket(s3_bucket)\n",
        "    # Create a new location in S3 for the object to be written to.\n",
        "    # The Location object has a key and an atom (https://s3.amazonaws.com/dev.bucket.com/boto/boto/LOCATION.html)\n",
        "    new_location = bucket.new_blob_location(object_key, 'blob')\n",
        "    # Store the object in the location\n",
        "    bucket.store_blob(object_key, new_location)\n",
        "\n",
        "    # Atomically write the file to the S3 bucket\n",
        "    bucket.write_object(object_key, temp_file.name)\n",
        "\n",
        "    # Success!"
      ],
      "metadata": {
        "id": "qkqnbG12MR4F"
      }
    },
    {
      "cell_type": "code",
      "source": [],
      "metadata": {
        "id": "rG6TV0vGLfg8"
      },
      "execution_count": null,
      "outputs": []
    }
  ]
}