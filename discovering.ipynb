{
 "cells": [
  {
   "cell_type": "code",
   "execution_count": 1,
   "id": "32b16a9e",
   "metadata": {
    "_cell_guid": "b1076dfc-b9ad-4769-8c92-a6c4dae69d19",
    "_uuid": "8f2839f25d086af736a60e9eeb907d3b93b6e0e5",
    "execution": {
     "iopub.execute_input": "2022-06-29T11:14:59.481550Z",
     "iopub.status.busy": "2022-06-29T11:14:59.480385Z",
     "iopub.status.idle": "2022-06-29T11:15:10.095459Z",
     "shell.execute_reply": "2022-06-29T11:15:10.094318Z"
    },
    "papermill": {
     "duration": 10.650204,
     "end_time": "2022-06-29T11:15:10.098265",
     "exception": false,
     "start_time": "2022-06-29T11:14:59.448061",
     "status": "completed"
    },
    "tags": []
   },
   "outputs": [],
   "source": [
    "import numpy as np\n",
    "import pandas as pd \n",
    "import seaborn as sns\n",
    "import matplotlib.pyplot as plt \n",
    "import matplotlib.style as stl \n",
    "from tensorflow import keras \n",
    "from keras.preprocessing.text import Tokenizer\n",
    "from nltk.corpus import stopwords\n",
    "import string\n",
    "from tensorflow.keras.models import Sequential,Model\n",
    "from tensorflow.keras.layers import Dense, LSTM, Embedding,Dropout,SpatialDropout1D,Conv1D,MaxPooling1D,GRU,BatchNormalization\n",
    "import warnings\n",
    "warnings.filterwarnings('ignore')\n",
    "stl.use('ggplot')\n",
    "from tqdm import tqdm\n",
    "import string\n",
    "from nltk.corpus import stopwords\n",
    "from nltk.tokenize import word_tokenize\n",
    "from nltk.stem import WordNetLemmatizer\n",
    "from nltk.stem.snowball import SnowballStemmer\n",
    "import regex as re\n",
    "import time\n",
    "import pickle"
   ]
  },
  {
   "cell_type": "code",
   "execution_count": 2,
   "id": "c0686dd7",
   "metadata": {
    "execution": {
     "iopub.execute_input": "2022-06-29T11:15:10.153444Z",
     "iopub.status.busy": "2022-06-29T11:15:10.152784Z",
     "iopub.status.idle": "2022-06-29T11:15:10.466931Z",
     "shell.execute_reply": "2022-06-29T11:15:10.466090Z"
    },
    "papermill": {
     "duration": 0.344246,
     "end_time": "2022-06-29T11:15:10.469470",
     "exception": false,
     "start_time": "2022-06-29T11:15:10.125224",
     "status": "completed"
    },
    "tags": []
   },
   "outputs": [],
   "source": [
    "index_ent=pd.read_csv(\"../input/all-csv/index_df (1).csv\")"
   ]
  },
  {
   "cell_type": "code",
   "execution_count": 3,
   "id": "6fbbdeac",
   "metadata": {
    "execution": {
     "iopub.execute_input": "2022-06-29T11:15:10.526622Z",
     "iopub.status.busy": "2022-06-29T11:15:10.525851Z",
     "iopub.status.idle": "2022-06-29T11:15:10.545325Z",
     "shell.execute_reply": "2022-06-29T11:15:10.544287Z"
    },
    "papermill": {
     "duration": 0.049783,
     "end_time": "2022-06-29T11:15:10.547569",
     "exception": false,
     "start_time": "2022-06-29T11:15:10.497786",
     "status": "completed"
    },
    "tags": []
   },
   "outputs": [
    {
     "data": {
      "text/html": [
       "<div>\n",
       "<style scoped>\n",
       "    .dataframe tbody tr th:only-of-type {\n",
       "        vertical-align: middle;\n",
       "    }\n",
       "\n",
       "    .dataframe tbody tr th {\n",
       "        vertical-align: top;\n",
       "    }\n",
       "\n",
       "    .dataframe thead th {\n",
       "        text-align: right;\n",
       "    }\n",
       "</style>\n",
       "<table border=\"1\" class=\"dataframe\">\n",
       "  <thead>\n",
       "    <tr style=\"text-align: right;\">\n",
       "      <th></th>\n",
       "      <th>index_text</th>\n",
       "      <th>PERSON-nerenglarge</th>\n",
       "      <th>LOC-nerenglarge</th>\n",
       "      <th>ORG-nerenglarge</th>\n",
       "      <th>text</th>\n",
       "    </tr>\n",
       "  </thead>\n",
       "  <tbody>\n",
       "    <tr>\n",
       "      <th>0</th>\n",
       "      <td>NAME INDEX TO VOLUME 7 OF LETTERS SENT , JULY ...</td>\n",
       "      <td>['Abbott', 'Lyman', 'Adams', 'John Q', 'Allen'...</td>\n",
       "      <td>[]</td>\n",
       "      <td>[]</td>\n",
       "      <td>NAME INDEX TO VOLUME 7 OF LETTERS SENT , JULY ...</td>\n",
       "    </tr>\n",
       "    <tr>\n",
       "      <th>1</th>\n",
       "      <td>Boyd , J. F. Col. 19 , 41 Boyden , James 116 B...</td>\n",
       "      <td>['Boyd', 'J. F. Col.', 'Boyden', 'James', 'Bra...</td>\n",
       "      <td>[]</td>\n",
       "      <td>['Henry Corp']</td>\n",
       "      <td>Boyd , J. F. Col. 19 , 41 Boyden , James 116 B...</td>\n",
       "    </tr>\n",
       "    <tr>\n",
       "      <th>2</th>\n",
       "      <td>Chur , J. F. Capt . 139 Cilley , Clinton A. Ma...</td>\n",
       "      <td>['Chur', 'J. F.', 'Cilley', 'Clinton A. Maj', ...</td>\n",
       "      <td>[]</td>\n",
       "      <td>['Citizens']</td>\n",
       "      <td>Chur , J. F. Capt . 139 Cilley , Clinton A. Ma...</td>\n",
       "    </tr>\n",
       "    <tr>\n",
       "      <th>3</th>\n",
       "      <td>Elijah 176 Eliza 172 Emery , Charles Capt . 3 ...</td>\n",
       "      <td>['Elijah', 'Eliza', 'Emery', 'Charles', 'Edwin...</td>\n",
       "      <td>[]</td>\n",
       "      <td>[]</td>\n",
       "      <td>Elijah 176 Eliza 172 Emery , Charles Capt . 3 ...</td>\n",
       "    </tr>\n",
       "    <tr>\n",
       "      <th>4</th>\n",
       "      <td>Hale , Capt . 51 Hambrich , P.R . Capt . 9 Han...</td>\n",
       "      <td>['Hale', 'Hambrich', 'Hand', 'Harkness', 'E.J'...</td>\n",
       "      <td>['N.C']</td>\n",
       "      <td>[]</td>\n",
       "      <td>Hale , Capt . 51 Hambrich , P.R . Capt . 9 Han...</td>\n",
       "    </tr>\n",
       "  </tbody>\n",
       "</table>\n",
       "</div>"
      ],
      "text/plain": [
       "                                          index_text  \\\n",
       "0  NAME INDEX TO VOLUME 7 OF LETTERS SENT , JULY ...   \n",
       "1  Boyd , J. F. Col. 19 , 41 Boyden , James 116 B...   \n",
       "2  Chur , J. F. Capt . 139 Cilley , Clinton A. Ma...   \n",
       "3  Elijah 176 Eliza 172 Emery , Charles Capt . 3 ...   \n",
       "4  Hale , Capt . 51 Hambrich , P.R . Capt . 9 Han...   \n",
       "\n",
       "                                  PERSON-nerenglarge LOC-nerenglarge  \\\n",
       "0  ['Abbott', 'Lyman', 'Adams', 'John Q', 'Allen'...              []   \n",
       "1  ['Boyd', 'J. F. Col.', 'Boyden', 'James', 'Bra...              []   \n",
       "2  ['Chur', 'J. F.', 'Cilley', 'Clinton A. Maj', ...              []   \n",
       "3  ['Elijah', 'Eliza', 'Emery', 'Charles', 'Edwin...              []   \n",
       "4  ['Hale', 'Hambrich', 'Hand', 'Harkness', 'E.J'...         ['N.C']   \n",
       "\n",
       "  ORG-nerenglarge                                               text  \n",
       "0              []  NAME INDEX TO VOLUME 7 OF LETTERS SENT , JULY ...  \n",
       "1  ['Henry Corp']  Boyd , J. F. Col. 19 , 41 Boyden , James 116 B...  \n",
       "2    ['Citizens']  Chur , J. F. Capt . 139 Cilley , Clinton A. Ma...  \n",
       "3              []  Elijah 176 Eliza 172 Emery , Charles Capt . 3 ...  \n",
       "4              []  Hale , Capt . 51 Hambrich , P.R . Capt . 9 Han...  "
      ]
     },
     "execution_count": 3,
     "metadata": {},
     "output_type": "execute_result"
    }
   ],
   "source": [
    "index_ent.head()"
   ]
  },
  {
   "cell_type": "code",
   "execution_count": 4,
   "id": "b482fd72",
   "metadata": {
    "execution": {
     "iopub.execute_input": "2022-06-29T11:15:10.603387Z",
     "iopub.status.busy": "2022-06-29T11:15:10.602349Z",
     "iopub.status.idle": "2022-06-29T11:15:10.609902Z",
     "shell.execute_reply": "2022-06-29T11:15:10.609249Z"
    },
    "papermill": {
     "duration": 0.037395,
     "end_time": "2022-06-29T11:15:10.611924",
     "exception": false,
     "start_time": "2022-06-29T11:15:10.574529",
     "status": "completed"
    },
    "tags": []
   },
   "outputs": [],
   "source": [
    "index_text=index_ent[\"index_text\"]\n",
    "index_names=index_ent[\"PERSON-nerenglarge\"]\n",
    "index_loc=index_ent[\"LOC-nerenglarge\"]\n",
    "index_org=index_ent[\"ORG-nerenglarge\"]"
   ]
  },
  {
   "cell_type": "code",
   "execution_count": 5,
   "id": "d5fffd89",
   "metadata": {
    "execution": {
     "iopub.execute_input": "2022-06-29T11:15:10.667644Z",
     "iopub.status.busy": "2022-06-29T11:15:10.667072Z",
     "iopub.status.idle": "2022-06-29T11:15:10.672065Z",
     "shell.execute_reply": "2022-06-29T11:15:10.671352Z"
    },
    "papermill": {
     "duration": 0.034765,
     "end_time": "2022-06-29T11:15:10.673926",
     "exception": false,
     "start_time": "2022-06-29T11:15:10.639161",
     "status": "completed"
    },
    "tags": []
   },
   "outputs": [
    {
     "data": {
      "text/plain": [
       "'1865 . London Manger 14 . London Sarah E 16 . Lippett John E 18 . Lippett W.H 18 . 23 . 33 . Laslo J.G 19 . Lehman R.F 20 . 44 . Lecraft Mary 21 . Lazarus Julia 22 . Lippett W. 23 . 33 . Lecraft Benjamin 36 . 59 . Lewis K.H 30 . Lewis W.F 30 . Levy T.J. 31 . Lane H.B 37 . Leach J A 40 . 45 . Leavy J.P 50 . Lord Fredk 52 . Littlejohn W.H 53 . Leigh J.W 66 . Low T.B 66 .'"
      ]
     },
     "execution_count": 5,
     "metadata": {},
     "output_type": "execute_result"
    }
   ],
   "source": [
    "index_text[150]"
   ]
  },
  {
   "cell_type": "code",
   "execution_count": 6,
   "id": "945d5c37",
   "metadata": {
    "execution": {
     "iopub.execute_input": "2022-06-29T11:15:10.729354Z",
     "iopub.status.busy": "2022-06-29T11:15:10.728795Z",
     "iopub.status.idle": "2022-06-29T11:15:10.734258Z",
     "shell.execute_reply": "2022-06-29T11:15:10.733510Z"
    },
    "papermill": {
     "duration": 0.035298,
     "end_time": "2022-06-29T11:15:10.736139",
     "exception": false,
     "start_time": "2022-06-29T11:15:10.700841",
     "status": "completed"
    },
    "tags": []
   },
   "outputs": [
    {
     "data": {
      "text/plain": [
       "\"['London Sarah E', 'Lippett John E', 'Lippett W.H', 'Lehman R.F', 'Lazarus Julia', 'Lippett W', 'Lecraft Benjamin', 'Lewis K.H', 'Lewis W.F', 'Levy T.J', 'Lane H.B', 'Leach J A', 'Leavy J.P', 'Lord Fredk', 'Littlejohn W.H', 'Leigh J.W', 'Low T.B']\""
      ]
     },
     "execution_count": 6,
     "metadata": {},
     "output_type": "execute_result"
    }
   ],
   "source": [
    "index_names[150]"
   ]
  },
  {
   "cell_type": "code",
   "execution_count": 7,
   "id": "98010782",
   "metadata": {
    "execution": {
     "iopub.execute_input": "2022-06-29T11:15:10.792903Z",
     "iopub.status.busy": "2022-06-29T11:15:10.792281Z",
     "iopub.status.idle": "2022-06-29T11:15:10.797555Z",
     "shell.execute_reply": "2022-06-29T11:15:10.796886Z"
    },
    "papermill": {
     "duration": 0.035914,
     "end_time": "2022-06-29T11:15:10.799531",
     "exception": false,
     "start_time": "2022-06-29T11:15:10.763617",
     "status": "completed"
    },
    "tags": []
   },
   "outputs": [
    {
     "data": {
      "text/plain": [
       "'298 WHEN RECEIVED . NAME OF WRITER . DATE AND PURPORT OF LETTER . 299 WHEN RECEIVED . NAME OF WRITER . DATE AND PURPORT OF LETTER . 1.3.70 . 1 Missions , Presby Home . Rev . E. F. Hatfield Secretary per . W. T. M. New York City. , Dec. 30th 1869 . States reply , Mr. Swan , teacher due three months salary , 60 withheld case regard purchase of books investigated . 1.8.70 . 2 Moss , R. C. Teacher . Bladensburg , Md . Jany 6th 1870 . States 81 70100 still due School house lot : names of trustees Darius Bowman , Uriah Wallace , Davis Greenleaf , Cyrus Johnston . 1 , 13 , 70 3 Morris Susan , Teacher . Poolsville , Montgomery Co. Md . January 3 , 1870 . Requests check amount due sent Mr. Adams . 1 , 17 , 70 4 Miller Lewis E. Teacher Lewistown , Frederick Co. Md . Pock Mark Jany 15th 70 , States opening of school Lewistown , forwards compliance instructions Baltimore Association . Will report , instructed report made . 1 , 18 , 70 , 5 Moses Rebecca , Teacher Point of Rocks , Fdk . Co. Md . P. M. Jany 17 , 70 Desires sent six Primary Geographies bill . 1 , 21 , 70 6 Moss R. C. Teacher Bladensburg , Prince Georges Co. Md . Acknowledges receipt of check 15.00'"
      ]
     },
     "execution_count": 7,
     "metadata": {},
     "output_type": "execute_result"
    }
   ],
   "source": [
    "index_text[1500]"
   ]
  },
  {
   "cell_type": "code",
   "execution_count": 8,
   "id": "886bb2f0",
   "metadata": {
    "execution": {
     "iopub.execute_input": "2022-06-29T11:15:10.856156Z",
     "iopub.status.busy": "2022-06-29T11:15:10.855730Z",
     "iopub.status.idle": "2022-06-29T11:15:10.862234Z",
     "shell.execute_reply": "2022-06-29T11:15:10.860830Z"
    },
    "papermill": {
     "duration": 0.037564,
     "end_time": "2022-06-29T11:15:10.864624",
     "exception": false,
     "start_time": "2022-06-29T11:15:10.827060",
     "status": "completed"
    },
    "tags": []
   },
   "outputs": [
    {
     "data": {
      "text/plain": [
       "\"['E. F. Hatfield', 'Swan', 'Darius Bowman', 'Uriah Wallace', 'Davis Greenleaf', 'Cyrus Johnston', 'Morris Susan', 'Miller Lewis E.', 'Pock Mark', 'Moses Rebecca', 'Moss R', 'C.']\""
      ]
     },
     "execution_count": 8,
     "metadata": {},
     "output_type": "execute_result"
    }
   ],
   "source": [
    "index_names[1500]"
   ]
  },
  {
   "cell_type": "code",
   "execution_count": 9,
   "id": "90bcba1f",
   "metadata": {
    "execution": {
     "iopub.execute_input": "2022-06-29T11:15:10.923291Z",
     "iopub.status.busy": "2022-06-29T11:15:10.922905Z",
     "iopub.status.idle": "2022-06-29T11:15:10.929117Z",
     "shell.execute_reply": "2022-06-29T11:15:10.928086Z"
    },
    "papermill": {
     "duration": 0.037861,
     "end_time": "2022-06-29T11:15:10.931252",
     "exception": false,
     "start_time": "2022-06-29T11:15:10.893391",
     "status": "completed"
    },
    "tags": []
   },
   "outputs": [
    {
     "data": {
      "text/plain": [
       "'Jenny 90 . Johnson Richard 10 Jones Andrew 12 Johnston Thos . P. A.N.U . 16 , 20 , 75 Jordan Alice 37 , 53 Jordan Vina 51 , 54 , 55 Johnston Tho.P . A.N.U . 65 , 74 95 , 169 , 199 , 200 , 204 , 205 , 281 Johnston Hugh 107 , 146 Jane 129 Jennings Mr 184 , 185 Johnston David 219 Johnson Leah 228 Jeremia Parthe 253'"
      ]
     },
     "execution_count": 9,
     "metadata": {},
     "output_type": "execute_result"
    }
   ],
   "source": [
    "index_text[5000]"
   ]
  },
  {
   "cell_type": "code",
   "execution_count": 10,
   "id": "a592ec9a",
   "metadata": {
    "execution": {
     "iopub.execute_input": "2022-06-29T11:15:10.988345Z",
     "iopub.status.busy": "2022-06-29T11:15:10.987423Z",
     "iopub.status.idle": "2022-06-29T11:15:10.993515Z",
     "shell.execute_reply": "2022-06-29T11:15:10.992513Z"
    },
    "papermill": {
     "duration": 0.037084,
     "end_time": "2022-06-29T11:15:10.995618",
     "exception": false,
     "start_time": "2022-06-29T11:15:10.958534",
     "status": "completed"
    },
    "tags": []
   },
   "outputs": [
    {
     "data": {
      "text/plain": [
       "\"['Johnson Richard', 'Jones Andrew', 'Johnston Thos', 'Jordan Alice', 'Jordan Vina', 'Johnston Hugh', 'Jane', 'Jennings Mr', 'Johnston David', 'Johnson Leah', 'Jeremia Parthe']\""
      ]
     },
     "execution_count": 10,
     "metadata": {},
     "output_type": "execute_result"
    }
   ],
   "source": [
    "index_names[5000]"
   ]
  },
  {
   "cell_type": "code",
   "execution_count": 11,
   "id": "d6be1159",
   "metadata": {
    "execution": {
     "iopub.execute_input": "2022-06-29T11:15:11.054250Z",
     "iopub.status.busy": "2022-06-29T11:15:11.053598Z",
     "iopub.status.idle": "2022-06-29T11:15:11.061273Z",
     "shell.execute_reply": "2022-06-29T11:15:11.060462Z"
    },
    "papermill": {
     "duration": 0.039651,
     "end_time": "2022-06-29T11:15:11.063160",
     "exception": false,
     "start_time": "2022-06-29T11:15:11.023509",
     "status": "completed"
    },
    "tags": []
   },
   "outputs": [
    {
     "data": {
      "text/plain": [
       "0       ['Abbott', 'Lyman', 'Adams', 'John Q', 'Allen'...\n",
       "1       ['Boyd', 'J. F. Col.', 'Boyden', 'James', 'Bra...\n",
       "2       ['Chur', 'J. F.', 'Cilley', 'Clinton A. Maj', ...\n",
       "3       ['Elijah', 'Eliza', 'Emery', 'Charles', 'Edwin...\n",
       "4       ['Hale', 'Hambrich', 'Hand', 'Harkness', 'E.J'...\n",
       "                              ...                        \n",
       "5417                                                   []\n",
       "5418    ['Wm . F. Richardson', 'Hattie M. Richardson',...\n",
       "5419    ['Hattie L. Newcomb', 'Mutch Opelika', 'Thomas...\n",
       "5420    ['Mutch Opelika', 'Thomas H. Whitly', 'Emma A ...\n",
       "5421    ['James Nichols Stevenson', 'O . M. Waring', '...\n",
       "Name: PERSON-nerenglarge, Length: 5422, dtype: object"
      ]
     },
     "execution_count": 11,
     "metadata": {},
     "output_type": "execute_result"
    }
   ],
   "source": [
    "index_names"
   ]
  },
  {
   "cell_type": "code",
   "execution_count": 12,
   "id": "9a47553b",
   "metadata": {
    "execution": {
     "iopub.execute_input": "2022-06-29T11:15:11.122027Z",
     "iopub.status.busy": "2022-06-29T11:15:11.121343Z",
     "iopub.status.idle": "2022-06-29T11:15:11.331285Z",
     "shell.execute_reply": "2022-06-29T11:15:11.330216Z"
    },
    "papermill": {
     "duration": 0.242137,
     "end_time": "2022-06-29T11:15:11.333706",
     "exception": false,
     "start_time": "2022-06-29T11:15:11.091569",
     "status": "completed"
    },
    "tags": []
   },
   "outputs": [
    {
     "data": {
      "text/plain": [
       "(1298703, 0)"
      ]
     },
     "execution_count": 12,
     "metadata": {},
     "output_type": "execute_result"
    }
   ],
   "source": [
    "PL=[]\n",
    "empty=0\n",
    "for i in index_names:\n",
    "    for j in i:\n",
    "        PL.append(j)\n",
    "for i in index_names:\n",
    "    if i==[]:\n",
    "        empty=empty+1\n",
    "len(PL), empty"
   ]
  },
  {
   "cell_type": "markdown",
   "id": "b757c12e",
   "metadata": {
    "papermill": {
     "duration": 0.027843,
     "end_time": "2022-06-29T11:15:11.389473",
     "exception": false,
     "start_time": "2022-06-29T11:15:11.361630",
     "status": "completed"
    },
    "tags": []
   },
   "source": [
    "# Names from Index are Perfect "
   ]
  },
  {
   "cell_type": "markdown",
   "id": "1686c1d0",
   "metadata": {
    "papermill": {
     "duration": 0.027387,
     "end_time": "2022-06-29T11:15:11.445600",
     "exception": false,
     "start_time": "2022-06-29T11:15:11.418213",
     "status": "completed"
    },
    "tags": []
   },
   "source": [
    "****"
   ]
  },
  {
   "cell_type": "markdown",
   "id": "7e937e16",
   "metadata": {
    "papermill": {
     "duration": 0.02754,
     "end_time": "2022-06-29T11:15:11.501498",
     "exception": false,
     "start_time": "2022-06-29T11:15:11.473958",
     "status": "completed"
    },
    "tags": []
   },
   "source": [
    "# Order ontonotes"
   ]
  },
  {
   "cell_type": "code",
   "execution_count": 13,
   "id": "ec68e5d9",
   "metadata": {
    "execution": {
     "iopub.execute_input": "2022-06-29T11:15:11.559140Z",
     "iopub.status.busy": "2022-06-29T11:15:11.558730Z",
     "iopub.status.idle": "2022-06-29T11:15:11.826733Z",
     "shell.execute_reply": "2022-06-29T11:15:11.825266Z"
    },
    "papermill": {
     "duration": 0.300406,
     "end_time": "2022-06-29T11:15:11.829941",
     "exception": false,
     "start_time": "2022-06-29T11:15:11.529535",
     "status": "completed"
    },
    "tags": []
   },
   "outputs": [],
   "source": [
    "order_ent=pd.read_csv(\"../input/all-csv/to_compare_result_order.csv\")"
   ]
  },
  {
   "cell_type": "code",
   "execution_count": 14,
   "id": "bb722aa7",
   "metadata": {
    "execution": {
     "iopub.execute_input": "2022-06-29T11:15:11.889591Z",
     "iopub.status.busy": "2022-06-29T11:15:11.887978Z",
     "iopub.status.idle": "2022-06-29T11:15:11.915049Z",
     "shell.execute_reply": "2022-06-29T11:15:11.913963Z"
    },
    "papermill": {
     "duration": 0.059198,
     "end_time": "2022-06-29T11:15:11.917523",
     "exception": false,
     "start_time": "2022-06-29T11:15:11.858325",
     "status": "completed"
    },
    "tags": []
   },
   "outputs": [
    {
     "data": {
      "text/html": [
       "<div>\n",
       "<style scoped>\n",
       "    .dataframe tbody tr th:only-of-type {\n",
       "        vertical-align: middle;\n",
       "    }\n",
       "\n",
       "    .dataframe tbody tr th {\n",
       "        vertical-align: top;\n",
       "    }\n",
       "\n",
       "    .dataframe thead th {\n",
       "        text-align: right;\n",
       "    }\n",
       "</style>\n",
       "<table border=\"1\" class=\"dataframe\">\n",
       "  <thead>\n",
       "    <tr style=\"text-align: right;\">\n",
       "      <th></th>\n",
       "      <th>order_text</th>\n",
       "      <th>PERSON-ontonotes</th>\n",
       "      <th>GPE-ontonotes</th>\n",
       "      <th>ORG-ontonotes</th>\n",
       "      <th>Date-ontonotes</th>\n",
       "      <th>LOC-ontonotes</th>\n",
       "      <th>Building-ontonotes</th>\n",
       "      <th>postDate-ontonotes</th>\n",
       "      <th>standard_date-ontonotes</th>\n",
       "      <th>PERSON-nerenglarge</th>\n",
       "      <th>LOC-nerenglarge</th>\n",
       "      <th>ORG-nerenglarge</th>\n",
       "      <th>other_namelarge</th>\n",
       "      <th>PERSON-nerenglish</th>\n",
       "      <th>LOC-nerenglish</th>\n",
       "      <th>ORG-nerenglish</th>\n",
       "      <th>Other_name-nerenglish</th>\n",
       "    </tr>\n",
       "  </thead>\n",
       "  <tbody>\n",
       "    <tr>\n",
       "      <th>0</th>\n",
       "      <td>R G. R.R . THIS ORDER NOT TRANSFERABLE . U.S. ...</td>\n",
       "      <td>['E . Cranford', 'Lewis B. Parsons', 'Major Kn...</td>\n",
       "      <td>['Raleigh N.C', 'Warrenton N.C', 'New York']</td>\n",
       "      <td>['Samuel Gale Co .']</td>\n",
       "      <td>['Aug 6 1866', 'Aug 1866']</td>\n",
       "      <td>[]</td>\n",
       "      <td>['67487']</td>\n",
       "      <td>['6-Aug-1866']</td>\n",
       "      <td>['6-August-1866']</td>\n",
       "      <td>['Cranford', 'Lewis B. Parsons', 'Gaston R.R']</td>\n",
       "      <td>['U.S.', 'Raleigh N.C', 'Warrenton N.C', 'Rale...</td>\n",
       "      <td>['Samuel Gale Co', 'Regiment Freedman', 'Rail ...</td>\n",
       "      <td>[]</td>\n",
       "      <td>[]</td>\n",
       "      <td>['Ral', 'Gaston R.R', 'Raleigh N.C.', 'Broadwa...</td>\n",
       "      <td>['Cranford']</td>\n",
       "      <td>[]</td>\n",
       "    </tr>\n",
       "    <tr>\n",
       "      <th>1</th>\n",
       "      <td>Certified Copy of Order , Extract , within tra...</td>\n",
       "      <td>['E. Crawford']</td>\n",
       "      <td>['Raleigh N.C']</td>\n",
       "      <td>[]</td>\n",
       "      <td>['Aug 6 1866']</td>\n",
       "      <td>[]</td>\n",
       "      <td>[]</td>\n",
       "      <td>['6-Aug-1866']</td>\n",
       "      <td>['6-August-1866']</td>\n",
       "      <td>['Robinson Clinton', 'E. Crawford']</td>\n",
       "      <td>['Raleigh N.C']</td>\n",
       "      <td>[]</td>\n",
       "      <td>[]</td>\n",
       "      <td>[]</td>\n",
       "      <td>[]</td>\n",
       "      <td>[]</td>\n",
       "      <td>[]</td>\n",
       "    </tr>\n",
       "    <tr>\n",
       "      <th>2</th>\n",
       "      <td>Bureau of Refugees , Freedmen Abandoned Lands ...</td>\n",
       "      <td>['KELLEY', 'EDWARD McPHERSON', 'JONATHAN WORTH']</td>\n",
       "      <td>['Raleigh', 'N.C.', 'United States', 'Alabama'...</td>\n",
       "      <td>['Bureau of Refugees', 'House of Representativ...</td>\n",
       "      <td>['May 8th , 1866', 'May 1 , 1866', '1st']</td>\n",
       "      <td>[]</td>\n",
       "      <td>['2d', 'III']</td>\n",
       "      <td>['8-May-1866', '1-May-1866']</td>\n",
       "      <td>['8-May-1866', '1-May-1866']</td>\n",
       "      <td>['KELLEY', 'EDWARD McPHERSON', 'E. WHITTLESEY'...</td>\n",
       "      <td>['State of North Carolina', 'Raleigh', 'N.C.',...</td>\n",
       "      <td>['Bureau of Refugees , Freedmen Abandoned Land...</td>\n",
       "      <td>[]</td>\n",
       "      <td>['JONATHAN WORTH']</td>\n",
       "      <td>['Raleigh', 'N.C.', 'United States', 'Alabama'...</td>\n",
       "      <td>['Officers Agents of Bureau', 'House of Repres...</td>\n",
       "      <td>[]</td>\n",
       "    </tr>\n",
       "    <tr>\n",
       "      <th>3</th>\n",
       "      <td>HEADQUARTERS DEPARTMENT OF NORTH CAROLINA , Ra...</td>\n",
       "      <td>['Joseph E. Johnston']</td>\n",
       "      <td>['Raleigh', 'North Carolina']</td>\n",
       "      <td>['HEADQUARTERS DEPARTMENT OF NORTH CAROLINA', ...</td>\n",
       "      <td>['January 12th , 1866']</td>\n",
       "      <td>[]</td>\n",
       "      <td>['4', 'II', 'III']</td>\n",
       "      <td>['12-January-1866']</td>\n",
       "      <td>['12-January-1866']</td>\n",
       "      <td>['Joseph E. Johnston']</td>\n",
       "      <td>['NORTH CAROLINA', 'Raleigh', 'North Carolina'...</td>\n",
       "      <td>['Government']</td>\n",
       "      <td>[]</td>\n",
       "      <td>['Joseph E. Johnston']</td>\n",
       "      <td>['NORTH CAROLINA', 'Raleigh', 'North Carolina']</td>\n",
       "      <td>[]</td>\n",
       "      <td>[]</td>\n",
       "    </tr>\n",
       "    <tr>\n",
       "      <th>4</th>\n",
       "      <td>IV . Animals sold counties collected unless wo...</td>\n",
       "      <td>['J A . Campbell', 'James H Anderson']</td>\n",
       "      <td>['U.S.']</td>\n",
       "      <td>['Headquarters', 'Government']</td>\n",
       "      <td>['first day of February , proximo']</td>\n",
       "      <td>[]</td>\n",
       "      <td>['VI']</td>\n",
       "      <td>[]</td>\n",
       "      <td>[]</td>\n",
       "      <td>['J A . Campbell', 'James H Anderson']</td>\n",
       "      <td>['U.S.', 'U.S. C.S', 'C.S']</td>\n",
       "      <td>['Government']</td>\n",
       "      <td>[]</td>\n",
       "      <td>['James H Anderson']</td>\n",
       "      <td>['U.S.']</td>\n",
       "      <td>[]</td>\n",
       "      <td>['C.S']</td>\n",
       "    </tr>\n",
       "  </tbody>\n",
       "</table>\n",
       "</div>"
      ],
      "text/plain": [
       "                                          order_text  \\\n",
       "0  R G. R.R . THIS ORDER NOT TRANSFERABLE . U.S. ...   \n",
       "1  Certified Copy of Order , Extract , within tra...   \n",
       "2  Bureau of Refugees , Freedmen Abandoned Lands ...   \n",
       "3  HEADQUARTERS DEPARTMENT OF NORTH CAROLINA , Ra...   \n",
       "4  IV . Animals sold counties collected unless wo...   \n",
       "\n",
       "                                    PERSON-ontonotes  \\\n",
       "0  ['E . Cranford', 'Lewis B. Parsons', 'Major Kn...   \n",
       "1                                    ['E. Crawford']   \n",
       "2   ['KELLEY', 'EDWARD McPHERSON', 'JONATHAN WORTH']   \n",
       "3                             ['Joseph E. Johnston']   \n",
       "4             ['J A . Campbell', 'James H Anderson']   \n",
       "\n",
       "                                       GPE-ontonotes  \\\n",
       "0       ['Raleigh N.C', 'Warrenton N.C', 'New York']   \n",
       "1                                    ['Raleigh N.C']   \n",
       "2  ['Raleigh', 'N.C.', 'United States', 'Alabama'...   \n",
       "3                      ['Raleigh', 'North Carolina']   \n",
       "4                                           ['U.S.']   \n",
       "\n",
       "                                       ORG-ontonotes  \\\n",
       "0                               ['Samuel Gale Co .']   \n",
       "1                                                 []   \n",
       "2  ['Bureau of Refugees', 'House of Representativ...   \n",
       "3  ['HEADQUARTERS DEPARTMENT OF NORTH CAROLINA', ...   \n",
       "4                     ['Headquarters', 'Government']   \n",
       "\n",
       "                              Date-ontonotes LOC-ontonotes  \\\n",
       "0                 ['Aug 6 1866', 'Aug 1866']            []   \n",
       "1                             ['Aug 6 1866']            []   \n",
       "2  ['May 8th , 1866', 'May 1 , 1866', '1st']            []   \n",
       "3                    ['January 12th , 1866']            []   \n",
       "4        ['first day of February , proximo']            []   \n",
       "\n",
       "   Building-ontonotes            postDate-ontonotes  \\\n",
       "0           ['67487']                ['6-Aug-1866']   \n",
       "1                  []                ['6-Aug-1866']   \n",
       "2       ['2d', 'III']  ['8-May-1866', '1-May-1866']   \n",
       "3  ['4', 'II', 'III']           ['12-January-1866']   \n",
       "4              ['VI']                            []   \n",
       "\n",
       "        standard_date-ontonotes  \\\n",
       "0             ['6-August-1866']   \n",
       "1             ['6-August-1866']   \n",
       "2  ['8-May-1866', '1-May-1866']   \n",
       "3           ['12-January-1866']   \n",
       "4                            []   \n",
       "\n",
       "                                  PERSON-nerenglarge  \\\n",
       "0     ['Cranford', 'Lewis B. Parsons', 'Gaston R.R']   \n",
       "1                ['Robinson Clinton', 'E. Crawford']   \n",
       "2  ['KELLEY', 'EDWARD McPHERSON', 'E. WHITTLESEY'...   \n",
       "3                             ['Joseph E. Johnston']   \n",
       "4             ['J A . Campbell', 'James H Anderson']   \n",
       "\n",
       "                                     LOC-nerenglarge  \\\n",
       "0  ['U.S.', 'Raleigh N.C', 'Warrenton N.C', 'Rale...   \n",
       "1                                    ['Raleigh N.C']   \n",
       "2  ['State of North Carolina', 'Raleigh', 'N.C.',...   \n",
       "3  ['NORTH CAROLINA', 'Raleigh', 'North Carolina'...   \n",
       "4                        ['U.S.', 'U.S. C.S', 'C.S']   \n",
       "\n",
       "                                     ORG-nerenglarge other_namelarge  \\\n",
       "0  ['Samuel Gale Co', 'Regiment Freedman', 'Rail ...              []   \n",
       "1                                                 []              []   \n",
       "2  ['Bureau of Refugees , Freedmen Abandoned Land...              []   \n",
       "3                                     ['Government']              []   \n",
       "4                                     ['Government']              []   \n",
       "\n",
       "        PERSON-nerenglish                                     LOC-nerenglish  \\\n",
       "0                      []  ['Ral', 'Gaston R.R', 'Raleigh N.C.', 'Broadwa...   \n",
       "1                      []                                                 []   \n",
       "2      ['JONATHAN WORTH']  ['Raleigh', 'N.C.', 'United States', 'Alabama'...   \n",
       "3  ['Joseph E. Johnston']    ['NORTH CAROLINA', 'Raleigh', 'North Carolina']   \n",
       "4    ['James H Anderson']                                           ['U.S.']   \n",
       "\n",
       "                                      ORG-nerenglish Other_name-nerenglish  \n",
       "0                                       ['Cranford']                    []  \n",
       "1                                                 []                    []  \n",
       "2  ['Officers Agents of Bureau', 'House of Repres...                    []  \n",
       "3                                                 []                    []  \n",
       "4                                                 []               ['C.S']  "
      ]
     },
     "execution_count": 14,
     "metadata": {},
     "output_type": "execute_result"
    }
   ],
   "source": [
    "order_ent.head()"
   ]
  },
  {
   "cell_type": "code",
   "execution_count": 15,
   "id": "d7806484",
   "metadata": {
    "execution": {
     "iopub.execute_input": "2022-06-29T11:15:11.981352Z",
     "iopub.status.busy": "2022-06-29T11:15:11.980506Z",
     "iopub.status.idle": "2022-06-29T11:15:11.987377Z",
     "shell.execute_reply": "2022-06-29T11:15:11.986633Z"
    },
    "papermill": {
     "duration": 0.040438,
     "end_time": "2022-06-29T11:15:11.989514",
     "exception": false,
     "start_time": "2022-06-29T11:15:11.949076",
     "status": "completed"
    },
    "tags": []
   },
   "outputs": [],
   "source": [
    "order_text=order_ent[\"order_text\"]\n",
    "order_Per_onto=order_ent[\"PERSON-ontonotes\"]\n",
    "order_GPE_onto=order_ent[\"GPE-ontonotes\"]\n",
    "order_ORG_onto=order_ent[\"ORG-ontonotes\"]\n",
    "order_date_onto=order_ent[\"standard_date-ontonotes\"]\n",
    "order_loc_onto=order_ent[\"LOC-ontonotes\"]"
   ]
  },
  {
   "cell_type": "code",
   "execution_count": 16,
   "id": "d1953869",
   "metadata": {
    "execution": {
     "iopub.execute_input": "2022-06-29T11:15:12.048169Z",
     "iopub.status.busy": "2022-06-29T11:15:12.047424Z",
     "iopub.status.idle": "2022-06-29T11:15:12.053967Z",
     "shell.execute_reply": "2022-06-29T11:15:12.053245Z"
    },
    "papermill": {
     "duration": 0.037902,
     "end_time": "2022-06-29T11:15:12.055815",
     "exception": false,
     "start_time": "2022-06-29T11:15:12.017913",
     "status": "completed"
    },
    "tags": []
   },
   "outputs": [
    {
     "data": {
      "text/plain": [
       "'190 By Order of Col. James V. Bomford Jacob F. Chur . Bvt . Lt. Col. A.A.A.G . Bureau of Refugees Freedmen A.L . Head Qrs . Asst . Commissioner Raleigh N.C. Jan. 16th 1867 Special Order No . 8 Leave of absence twelve days hereby granted Lieut Edgar H. McQuigg V.R.C . Asst Supt Bureau R.F . A.L . Wilmington N.C. By Command of Col. J. V. Bomford Jacob F. Chur . Bvt . Lt. Col. A.A.A . Genl Bureau of Refugees Freedmen c Hd Qrs Asst Commissioner Raleigh N.C. Jan. 18th 1867 Special Order No . 9 In compliance instructions Maj Genl O.O . Howard Commissioner , Bvt . Maj. Thos P. Johnston Chf Qr Mr Bureau State pay trustees of Baptist Female Seminary following amounts rent of rooms used Bureau upon premises known Guion Hotel City of Raleigh recommended board of Officers appointed purpose . For three rooms main building occupied offices of Bureau of R.F . A.L . April 1st 1866 Aug 1st 1866 rate of Twelve dollars per month per room . For four rooms detatched building occupied offices of Bureau of R.F . A.L . April 2d 1866 , Dec 31st 1866 , rate of twelve dollars 12 per month per room . By Command of Col. J. V. Bomford Jacob F. Chur . Bvt . Lt. Col. A.A.A . Genl 191 Bureau of Refugees Freedmen c Hd Qrs Asst Commissioner Raleigh N.C. Jan. 19th 1867 Special Order No . 10 I. Manchester W. Weld appointed Agent of Bureau of R.F . A.L . hereby assigned duty Fayetteville N.C. relieve Justin Hodge Agent . II . The resignation of Justin Hodge Agent of Bureau of R.F . A.L . Fayetteville N.C. hereby accepted take effect relieved Mr. M. W. Weld By Command of Col. J. V. Bomford Jacob F. Chur . Bvt . Lt. Col. A.A.A.G . Bureau of Refugees Freedmen c Hd Qrs Asst Commissioner Raleigh N.C. Jan. 20th 1867 Special Order No . 11 During temporary absence of Bt Lt Col Jacob F. Chur Act Asst Adjt Genl , Bt Maj F. A. Seeley act Asst Adjt Genl . By Command of Col. J. V. Bomford Jacob F. Chur . Bvt . Lt. Col. A.A.A.G .'"
      ]
     },
     "execution_count": 16,
     "metadata": {},
     "output_type": "execute_result"
    }
   ],
   "source": [
    "order_text[1000]"
   ]
  },
  {
   "cell_type": "code",
   "execution_count": 17,
   "id": "2cdda84a",
   "metadata": {
    "execution": {
     "iopub.execute_input": "2022-06-29T11:15:12.114063Z",
     "iopub.status.busy": "2022-06-29T11:15:12.113406Z",
     "iopub.status.idle": "2022-06-29T11:15:12.118840Z",
     "shell.execute_reply": "2022-06-29T11:15:12.118151Z"
    },
    "papermill": {
     "duration": 0.036645,
     "end_time": "2022-06-29T11:15:12.120614",
     "exception": false,
     "start_time": "2022-06-29T11:15:12.083969",
     "status": "completed"
    },
    "tags": []
   },
   "outputs": [
    {
     "data": {
      "text/plain": [
       "\"['James V. Bomford', 'J. V. Bomford', 'Manchester W. Weld', 'Justin Hodge', 'M. W. Weld', 'Jacob F. Chur', 'F . A. Seeley']\""
      ]
     },
     "execution_count": 17,
     "metadata": {},
     "output_type": "execute_result"
    }
   ],
   "source": [
    "order_Per_onto[1000]"
   ]
  },
  {
   "cell_type": "code",
   "execution_count": 18,
   "id": "87dcdc45",
   "metadata": {
    "execution": {
     "iopub.execute_input": "2022-06-29T11:15:12.179365Z",
     "iopub.status.busy": "2022-06-29T11:15:12.178700Z",
     "iopub.status.idle": "2022-06-29T11:15:12.190987Z",
     "shell.execute_reply": "2022-06-29T11:15:12.190065Z"
    },
    "papermill": {
     "duration": 0.044068,
     "end_time": "2022-06-29T11:15:12.193060",
     "exception": false,
     "start_time": "2022-06-29T11:15:12.148992",
     "status": "completed"
    },
    "tags": []
   },
   "outputs": [
    {
     "data": {
      "text/plain": [
       "\"['Raleigh N.C', 'Raleigh', 'Fayetteville N.C.']\""
      ]
     },
     "execution_count": 18,
     "metadata": {},
     "output_type": "execute_result"
    }
   ],
   "source": [
    "order_GPE_onto[1000]"
   ]
  },
  {
   "cell_type": "code",
   "execution_count": 19,
   "id": "8eeeff09",
   "metadata": {
    "execution": {
     "iopub.execute_input": "2022-06-29T11:15:12.252041Z",
     "iopub.status.busy": "2022-06-29T11:15:12.251651Z",
     "iopub.status.idle": "2022-06-29T11:15:12.257030Z",
     "shell.execute_reply": "2022-06-29T11:15:12.256317Z"
    },
    "papermill": {
     "duration": 0.03707,
     "end_time": "2022-06-29T11:15:12.258802",
     "exception": false,
     "start_time": "2022-06-29T11:15:12.221732",
     "status": "completed"
    },
    "tags": []
   },
   "outputs": [
    {
     "data": {
      "text/plain": [
       "\"['Bureau of Refugees Freedmen A.L', 'Bureau of Refugees Freedmen', 'Baptist Female Seminary', 'Bureau of R.F . A.L']\""
      ]
     },
     "execution_count": 19,
     "metadata": {},
     "output_type": "execute_result"
    }
   ],
   "source": [
    "order_ORG_onto[1000]"
   ]
  },
  {
   "cell_type": "code",
   "execution_count": 20,
   "id": "422dd555",
   "metadata": {
    "execution": {
     "iopub.execute_input": "2022-06-29T11:15:12.318359Z",
     "iopub.status.busy": "2022-06-29T11:15:12.317665Z",
     "iopub.status.idle": "2022-06-29T11:15:12.323550Z",
     "shell.execute_reply": "2022-06-29T11:15:12.322528Z"
    },
    "papermill": {
     "duration": 0.038252,
     "end_time": "2022-06-29T11:15:12.325884",
     "exception": false,
     "start_time": "2022-06-29T11:15:12.287632",
     "status": "completed"
    },
    "tags": []
   },
   "outputs": [
    {
     "data": {
      "text/plain": [
       "'[]'"
      ]
     },
     "execution_count": 20,
     "metadata": {},
     "output_type": "execute_result"
    }
   ],
   "source": [
    "order_loc_onto[1000]"
   ]
  },
  {
   "cell_type": "code",
   "execution_count": 21,
   "id": "c6e5431b",
   "metadata": {
    "execution": {
     "iopub.execute_input": "2022-06-29T11:15:12.385174Z",
     "iopub.status.busy": "2022-06-29T11:15:12.384784Z",
     "iopub.status.idle": "2022-06-29T11:15:12.390767Z",
     "shell.execute_reply": "2022-06-29T11:15:12.389858Z"
    },
    "papermill": {
     "duration": 0.037838,
     "end_time": "2022-06-29T11:15:12.392793",
     "exception": false,
     "start_time": "2022-06-29T11:15:12.354955",
     "status": "completed"
    },
    "tags": []
   },
   "outputs": [
    {
     "data": {
      "text/plain": [
       "\"['16-Jan.-1867', '18-Jan.-1867', '1-April-1866', '1-August-1866', '2-April-1866', '31-December-1866', '19-Jan.-1867', '20-Jan.-1867']\""
      ]
     },
     "execution_count": 21,
     "metadata": {},
     "output_type": "execute_result"
    }
   ],
   "source": [
    "order_date_onto[1000]"
   ]
  },
  {
   "cell_type": "markdown",
   "id": "d3ede242",
   "metadata": {
    "papermill": {
     "duration": 0.02875,
     "end_time": "2022-06-29T11:15:12.450359",
     "exception": false,
     "start_time": "2022-06-29T11:15:12.421609",
     "status": "completed"
    },
    "tags": []
   },
   "source": [
    "**good**"
   ]
  },
  {
   "cell_type": "code",
   "execution_count": 22,
   "id": "b0c7da51",
   "metadata": {
    "execution": {
     "iopub.execute_input": "2022-06-29T11:15:12.509621Z",
     "iopub.status.busy": "2022-06-29T11:15:12.508949Z",
     "iopub.status.idle": "2022-06-29T11:15:12.576471Z",
     "shell.execute_reply": "2022-06-29T11:15:12.575353Z"
    },
    "papermill": {
     "duration": 0.099639,
     "end_time": "2022-06-29T11:15:12.578633",
     "exception": false,
     "start_time": "2022-06-29T11:15:12.478994",
     "status": "completed"
    },
    "tags": []
   },
   "outputs": [
    {
     "data": {
      "text/plain": [
       "(453588, 0)"
      ]
     },
     "execution_count": 22,
     "metadata": {},
     "output_type": "execute_result"
    }
   ],
   "source": [
    "PL=[]\n",
    "empty=0\n",
    "for i in order_Per_onto :\n",
    "    for j in i:\n",
    "        PL.append(j)\n",
    "for i in order_Per_onto:\n",
    "    if i==[]:\n",
    "        empty=empty+1\n",
    "len(PL), empty"
   ]
  },
  {
   "cell_type": "markdown",
   "id": "d6f5a0b7",
   "metadata": {
    "papermill": {
     "duration": 0.028657,
     "end_time": "2022-06-29T11:15:12.636161",
     "exception": false,
     "start_time": "2022-06-29T11:15:12.607504",
     "status": "completed"
    },
    "tags": []
   },
   "source": [
    "**very good**"
   ]
  },
  {
   "cell_type": "code",
   "execution_count": 23,
   "id": "931ea14f",
   "metadata": {
    "execution": {
     "iopub.execute_input": "2022-06-29T11:15:12.695123Z",
     "iopub.status.busy": "2022-06-29T11:15:12.694487Z",
     "iopub.status.idle": "2022-06-29T11:15:12.726047Z",
     "shell.execute_reply": "2022-06-29T11:15:12.725292Z"
    },
    "papermill": {
     "duration": 0.064281,
     "end_time": "2022-06-29T11:15:12.728814",
     "exception": false,
     "start_time": "2022-06-29T11:15:12.664533",
     "status": "completed"
    },
    "tags": []
   },
   "outputs": [
    {
     "data": {
      "text/plain": [
       "(167185, 2515)"
      ]
     },
     "execution_count": 23,
     "metadata": {},
     "output_type": "execute_result"
    }
   ],
   "source": [
    "PL=[]\n",
    "empty=0\n",
    "for i in order_date_onto :\n",
    "    for j in i:\n",
    "        PL.append(j)\n",
    "for i in order_date_onto:\n",
    "    if i==\"[]\":\n",
    "        empty=empty+1\n",
    "len(PL), empty"
   ]
  },
  {
   "cell_type": "markdown",
   "id": "106a24f5",
   "metadata": {
    "papermill": {
     "duration": 0.029957,
     "end_time": "2022-06-29T11:15:12.789237",
     "exception": false,
     "start_time": "2022-06-29T11:15:12.759280",
     "status": "completed"
    },
    "tags": []
   },
   "source": [
    "**uii very good**"
   ]
  },
  {
   "cell_type": "code",
   "execution_count": 24,
   "id": "9b409b36",
   "metadata": {
    "execution": {
     "iopub.execute_input": "2022-06-29T11:15:12.849253Z",
     "iopub.status.busy": "2022-06-29T11:15:12.848579Z",
     "iopub.status.idle": "2022-06-29T11:15:12.900806Z",
     "shell.execute_reply": "2022-06-29T11:15:12.900048Z"
    },
    "papermill": {
     "duration": 0.084591,
     "end_time": "2022-06-29T11:15:12.902974",
     "exception": false,
     "start_time": "2022-06-29T11:15:12.818383",
     "status": "completed"
    },
    "tags": []
   },
   "outputs": [
    {
     "data": {
      "text/plain": [
       "(343109, 1295)"
      ]
     },
     "execution_count": 24,
     "metadata": {},
     "output_type": "execute_result"
    }
   ],
   "source": [
    "PL=[]\n",
    "empty=0\n",
    "for i in order_GPE_onto :\n",
    "    for j in i:\n",
    "        PL.append(j)\n",
    "for i in order_GPE_onto:\n",
    "    if i==\"[]\":\n",
    "        empty=empty+1\n",
    "len(PL), empty"
   ]
  },
  {
   "cell_type": "markdown",
   "id": "d26a4947",
   "metadata": {
    "papermill": {
     "duration": 0.028907,
     "end_time": "2022-06-29T11:15:12.960966",
     "exception": false,
     "start_time": "2022-06-29T11:15:12.932059",
     "status": "completed"
    },
    "tags": []
   },
   "source": [
    "****"
   ]
  },
  {
   "cell_type": "markdown",
   "id": "6892a780",
   "metadata": {
    "papermill": {
     "duration": 0.02879,
     "end_time": "2022-06-29T11:15:13.018969",
     "exception": false,
     "start_time": "2022-06-29T11:15:12.990179",
     "status": "completed"
    },
    "tags": []
   },
   "source": [
    "# Order Ner-english"
   ]
  },
  {
   "cell_type": "code",
   "execution_count": 25,
   "id": "f0a79681",
   "metadata": {
    "execution": {
     "iopub.execute_input": "2022-06-29T11:15:13.079764Z",
     "iopub.status.busy": "2022-06-29T11:15:13.079115Z",
     "iopub.status.idle": "2022-06-29T11:15:13.099004Z",
     "shell.execute_reply": "2022-06-29T11:15:13.097953Z"
    },
    "papermill": {
     "duration": 0.052607,
     "end_time": "2022-06-29T11:15:13.100995",
     "exception": false,
     "start_time": "2022-06-29T11:15:13.048388",
     "status": "completed"
    },
    "tags": []
   },
   "outputs": [
    {
     "data": {
      "text/html": [
       "<div>\n",
       "<style scoped>\n",
       "    .dataframe tbody tr th:only-of-type {\n",
       "        vertical-align: middle;\n",
       "    }\n",
       "\n",
       "    .dataframe tbody tr th {\n",
       "        vertical-align: top;\n",
       "    }\n",
       "\n",
       "    .dataframe thead th {\n",
       "        text-align: right;\n",
       "    }\n",
       "</style>\n",
       "<table border=\"1\" class=\"dataframe\">\n",
       "  <thead>\n",
       "    <tr style=\"text-align: right;\">\n",
       "      <th></th>\n",
       "      <th>order_text</th>\n",
       "      <th>PERSON-ontonotes</th>\n",
       "      <th>GPE-ontonotes</th>\n",
       "      <th>ORG-ontonotes</th>\n",
       "      <th>Date-ontonotes</th>\n",
       "      <th>LOC-ontonotes</th>\n",
       "      <th>Building-ontonotes</th>\n",
       "      <th>postDate-ontonotes</th>\n",
       "      <th>standard_date-ontonotes</th>\n",
       "      <th>PERSON-nerenglarge</th>\n",
       "      <th>LOC-nerenglarge</th>\n",
       "      <th>ORG-nerenglarge</th>\n",
       "      <th>other_namelarge</th>\n",
       "      <th>PERSON-nerenglish</th>\n",
       "      <th>LOC-nerenglish</th>\n",
       "      <th>ORG-nerenglish</th>\n",
       "      <th>Other_name-nerenglish</th>\n",
       "    </tr>\n",
       "  </thead>\n",
       "  <tbody>\n",
       "    <tr>\n",
       "      <th>0</th>\n",
       "      <td>R G. R.R . THIS ORDER NOT TRANSFERABLE . U.S. ...</td>\n",
       "      <td>['E . Cranford', 'Lewis B. Parsons', 'Major Kn...</td>\n",
       "      <td>['Raleigh N.C', 'Warrenton N.C', 'New York']</td>\n",
       "      <td>['Samuel Gale Co .']</td>\n",
       "      <td>['Aug 6 1866', 'Aug 1866']</td>\n",
       "      <td>[]</td>\n",
       "      <td>['67487']</td>\n",
       "      <td>['6-Aug-1866']</td>\n",
       "      <td>['6-August-1866']</td>\n",
       "      <td>['Cranford', 'Lewis B. Parsons', 'Gaston R.R']</td>\n",
       "      <td>['U.S.', 'Raleigh N.C', 'Warrenton N.C', 'Rale...</td>\n",
       "      <td>['Samuel Gale Co', 'Regiment Freedman', 'Rail ...</td>\n",
       "      <td>[]</td>\n",
       "      <td>[]</td>\n",
       "      <td>['Ral', 'Gaston R.R', 'Raleigh N.C.', 'Broadwa...</td>\n",
       "      <td>['Cranford']</td>\n",
       "      <td>[]</td>\n",
       "    </tr>\n",
       "    <tr>\n",
       "      <th>1</th>\n",
       "      <td>Certified Copy of Order , Extract , within tra...</td>\n",
       "      <td>['E. Crawford']</td>\n",
       "      <td>['Raleigh N.C']</td>\n",
       "      <td>[]</td>\n",
       "      <td>['Aug 6 1866']</td>\n",
       "      <td>[]</td>\n",
       "      <td>[]</td>\n",
       "      <td>['6-Aug-1866']</td>\n",
       "      <td>['6-August-1866']</td>\n",
       "      <td>['Robinson Clinton', 'E. Crawford']</td>\n",
       "      <td>['Raleigh N.C']</td>\n",
       "      <td>[]</td>\n",
       "      <td>[]</td>\n",
       "      <td>[]</td>\n",
       "      <td>[]</td>\n",
       "      <td>[]</td>\n",
       "      <td>[]</td>\n",
       "    </tr>\n",
       "    <tr>\n",
       "      <th>2</th>\n",
       "      <td>Bureau of Refugees , Freedmen Abandoned Lands ...</td>\n",
       "      <td>['KELLEY', 'EDWARD McPHERSON', 'JONATHAN WORTH']</td>\n",
       "      <td>['Raleigh', 'N.C.', 'United States', 'Alabama'...</td>\n",
       "      <td>['Bureau of Refugees', 'House of Representativ...</td>\n",
       "      <td>['May 8th , 1866', 'May 1 , 1866', '1st']</td>\n",
       "      <td>[]</td>\n",
       "      <td>['2d', 'III']</td>\n",
       "      <td>['8-May-1866', '1-May-1866']</td>\n",
       "      <td>['8-May-1866', '1-May-1866']</td>\n",
       "      <td>['KELLEY', 'EDWARD McPHERSON', 'E. WHITTLESEY'...</td>\n",
       "      <td>['State of North Carolina', 'Raleigh', 'N.C.',...</td>\n",
       "      <td>['Bureau of Refugees , Freedmen Abandoned Land...</td>\n",
       "      <td>[]</td>\n",
       "      <td>['JONATHAN WORTH']</td>\n",
       "      <td>['Raleigh', 'N.C.', 'United States', 'Alabama'...</td>\n",
       "      <td>['Officers Agents of Bureau', 'House of Repres...</td>\n",
       "      <td>[]</td>\n",
       "    </tr>\n",
       "    <tr>\n",
       "      <th>3</th>\n",
       "      <td>HEADQUARTERS DEPARTMENT OF NORTH CAROLINA , Ra...</td>\n",
       "      <td>['Joseph E. Johnston']</td>\n",
       "      <td>['Raleigh', 'North Carolina']</td>\n",
       "      <td>['HEADQUARTERS DEPARTMENT OF NORTH CAROLINA', ...</td>\n",
       "      <td>['January 12th , 1866']</td>\n",
       "      <td>[]</td>\n",
       "      <td>['4', 'II', 'III']</td>\n",
       "      <td>['12-January-1866']</td>\n",
       "      <td>['12-January-1866']</td>\n",
       "      <td>['Joseph E. Johnston']</td>\n",
       "      <td>['NORTH CAROLINA', 'Raleigh', 'North Carolina'...</td>\n",
       "      <td>['Government']</td>\n",
       "      <td>[]</td>\n",
       "      <td>['Joseph E. Johnston']</td>\n",
       "      <td>['NORTH CAROLINA', 'Raleigh', 'North Carolina']</td>\n",
       "      <td>[]</td>\n",
       "      <td>[]</td>\n",
       "    </tr>\n",
       "    <tr>\n",
       "      <th>4</th>\n",
       "      <td>IV . Animals sold counties collected unless wo...</td>\n",
       "      <td>['J A . Campbell', 'James H Anderson']</td>\n",
       "      <td>['U.S.']</td>\n",
       "      <td>['Headquarters', 'Government']</td>\n",
       "      <td>['first day of February , proximo']</td>\n",
       "      <td>[]</td>\n",
       "      <td>['VI']</td>\n",
       "      <td>[]</td>\n",
       "      <td>[]</td>\n",
       "      <td>['J A . Campbell', 'James H Anderson']</td>\n",
       "      <td>['U.S.', 'U.S. C.S', 'C.S']</td>\n",
       "      <td>['Government']</td>\n",
       "      <td>[]</td>\n",
       "      <td>['James H Anderson']</td>\n",
       "      <td>['U.S.']</td>\n",
       "      <td>[]</td>\n",
       "      <td>['C.S']</td>\n",
       "    </tr>\n",
       "  </tbody>\n",
       "</table>\n",
       "</div>"
      ],
      "text/plain": [
       "                                          order_text  \\\n",
       "0  R G. R.R . THIS ORDER NOT TRANSFERABLE . U.S. ...   \n",
       "1  Certified Copy of Order , Extract , within tra...   \n",
       "2  Bureau of Refugees , Freedmen Abandoned Lands ...   \n",
       "3  HEADQUARTERS DEPARTMENT OF NORTH CAROLINA , Ra...   \n",
       "4  IV . Animals sold counties collected unless wo...   \n",
       "\n",
       "                                    PERSON-ontonotes  \\\n",
       "0  ['E . Cranford', 'Lewis B. Parsons', 'Major Kn...   \n",
       "1                                    ['E. Crawford']   \n",
       "2   ['KELLEY', 'EDWARD McPHERSON', 'JONATHAN WORTH']   \n",
       "3                             ['Joseph E. Johnston']   \n",
       "4             ['J A . Campbell', 'James H Anderson']   \n",
       "\n",
       "                                       GPE-ontonotes  \\\n",
       "0       ['Raleigh N.C', 'Warrenton N.C', 'New York']   \n",
       "1                                    ['Raleigh N.C']   \n",
       "2  ['Raleigh', 'N.C.', 'United States', 'Alabama'...   \n",
       "3                      ['Raleigh', 'North Carolina']   \n",
       "4                                           ['U.S.']   \n",
       "\n",
       "                                       ORG-ontonotes  \\\n",
       "0                               ['Samuel Gale Co .']   \n",
       "1                                                 []   \n",
       "2  ['Bureau of Refugees', 'House of Representativ...   \n",
       "3  ['HEADQUARTERS DEPARTMENT OF NORTH CAROLINA', ...   \n",
       "4                     ['Headquarters', 'Government']   \n",
       "\n",
       "                              Date-ontonotes LOC-ontonotes  \\\n",
       "0                 ['Aug 6 1866', 'Aug 1866']            []   \n",
       "1                             ['Aug 6 1866']            []   \n",
       "2  ['May 8th , 1866', 'May 1 , 1866', '1st']            []   \n",
       "3                    ['January 12th , 1866']            []   \n",
       "4        ['first day of February , proximo']            []   \n",
       "\n",
       "   Building-ontonotes            postDate-ontonotes  \\\n",
       "0           ['67487']                ['6-Aug-1866']   \n",
       "1                  []                ['6-Aug-1866']   \n",
       "2       ['2d', 'III']  ['8-May-1866', '1-May-1866']   \n",
       "3  ['4', 'II', 'III']           ['12-January-1866']   \n",
       "4              ['VI']                            []   \n",
       "\n",
       "        standard_date-ontonotes  \\\n",
       "0             ['6-August-1866']   \n",
       "1             ['6-August-1866']   \n",
       "2  ['8-May-1866', '1-May-1866']   \n",
       "3           ['12-January-1866']   \n",
       "4                            []   \n",
       "\n",
       "                                  PERSON-nerenglarge  \\\n",
       "0     ['Cranford', 'Lewis B. Parsons', 'Gaston R.R']   \n",
       "1                ['Robinson Clinton', 'E. Crawford']   \n",
       "2  ['KELLEY', 'EDWARD McPHERSON', 'E. WHITTLESEY'...   \n",
       "3                             ['Joseph E. Johnston']   \n",
       "4             ['J A . Campbell', 'James H Anderson']   \n",
       "\n",
       "                                     LOC-nerenglarge  \\\n",
       "0  ['U.S.', 'Raleigh N.C', 'Warrenton N.C', 'Rale...   \n",
       "1                                    ['Raleigh N.C']   \n",
       "2  ['State of North Carolina', 'Raleigh', 'N.C.',...   \n",
       "3  ['NORTH CAROLINA', 'Raleigh', 'North Carolina'...   \n",
       "4                        ['U.S.', 'U.S. C.S', 'C.S']   \n",
       "\n",
       "                                     ORG-nerenglarge other_namelarge  \\\n",
       "0  ['Samuel Gale Co', 'Regiment Freedman', 'Rail ...              []   \n",
       "1                                                 []              []   \n",
       "2  ['Bureau of Refugees , Freedmen Abandoned Land...              []   \n",
       "3                                     ['Government']              []   \n",
       "4                                     ['Government']              []   \n",
       "\n",
       "        PERSON-nerenglish                                     LOC-nerenglish  \\\n",
       "0                      []  ['Ral', 'Gaston R.R', 'Raleigh N.C.', 'Broadwa...   \n",
       "1                      []                                                 []   \n",
       "2      ['JONATHAN WORTH']  ['Raleigh', 'N.C.', 'United States', 'Alabama'...   \n",
       "3  ['Joseph E. Johnston']    ['NORTH CAROLINA', 'Raleigh', 'North Carolina']   \n",
       "4    ['James H Anderson']                                           ['U.S.']   \n",
       "\n",
       "                                      ORG-nerenglish Other_name-nerenglish  \n",
       "0                                       ['Cranford']                    []  \n",
       "1                                                 []                    []  \n",
       "2  ['Officers Agents of Bureau', 'House of Repres...                    []  \n",
       "3                                                 []                    []  \n",
       "4                                                 []               ['C.S']  "
      ]
     },
     "execution_count": 25,
     "metadata": {},
     "output_type": "execute_result"
    }
   ],
   "source": [
    "order_ent.head()"
   ]
  },
  {
   "cell_type": "code",
   "execution_count": 26,
   "id": "a10b4914",
   "metadata": {
    "execution": {
     "iopub.execute_input": "2022-06-29T11:15:13.162269Z",
     "iopub.status.busy": "2022-06-29T11:15:13.161873Z",
     "iopub.status.idle": "2022-06-29T11:15:13.167239Z",
     "shell.execute_reply": "2022-06-29T11:15:13.166213Z"
    },
    "papermill": {
     "duration": 0.038789,
     "end_time": "2022-06-29T11:15:13.169465",
     "exception": false,
     "start_time": "2022-06-29T11:15:13.130676",
     "status": "completed"
    },
    "tags": []
   },
   "outputs": [],
   "source": [
    "order_Per_ner=order_ent[\"PERSON-nerenglish\"]\n",
    "order_ORG_ner=order_ent[\"ORG-nerenglish\"]\n",
    "order_other_ner=order_ent[\"Other_name-nerenglish\"]\n",
    "order_loc_ner=order_ent[\"LOC-nerenglish\"]"
   ]
  },
  {
   "cell_type": "code",
   "execution_count": 27,
   "id": "2f228d46",
   "metadata": {
    "execution": {
     "iopub.execute_input": "2022-06-29T11:15:13.231246Z",
     "iopub.status.busy": "2022-06-29T11:15:13.230539Z",
     "iopub.status.idle": "2022-06-29T11:15:13.237503Z",
     "shell.execute_reply": "2022-06-29T11:15:13.236607Z"
    },
    "papermill": {
     "duration": 0.04076,
     "end_time": "2022-06-29T11:15:13.239870",
     "exception": false,
     "start_time": "2022-06-29T11:15:13.199110",
     "status": "completed"
    },
    "tags": []
   },
   "outputs": [
    {
     "data": {
      "text/plain": [
       "'Bureau of Refugees , Freedmen Abandoned Lands , Headquarters Assistant Commissioner , State of North Carolina , Raleigh , N.C. , May 8th , 1866 . Circular No . 4 The attention of Officers Agents of Bureau called following resolution of House of Representatives : THIRTYNINTH CONGRESSFIRST SESSION . Congress of United States . In House of Representatives , May 1 , 1866 . Mr. KELLEY submitted following , adopted : WHEREAS , It reported citizens of Alabama , formal memorial two Houses of Congress , many of people of mountain districts of State suffering want of adequate supplies of food , considerable numbers of died of actual starvation ; therefore , Be resolved , That President requested instruct proper officers of Bureau of Refugees Freedman enquire condition of said districts , districts of late insurgent States , suffering may said exist , relieve people thereof , provide corn seed planting crop sufficient annual supply of family requiring relief . ATTEST : Signed EDWARD McPHERSON , Clerk . II . In order carry purpose of resolution , reports forwarded without delay headquarters , specifying 1st . The number of persons county needing supplies of food prevent actual suffering , classifying accordance enclosed Form , No . 1 . 2d . The names of persons need corn , seed planting , according enclosed Form No . 2 . III . The season already far advanced , relief contemplated must furnished early possible . The information required therefore obtained forwarded , even exclusion of business . E. WHITTLESEY . Brevt . Brig . Genl . Assit Commr . OFFICIAL : Assistant Adjutant General . It hoped Sheriffs of every county State aid officers of Freedmens Bureau procuring information sought Circular . JONATHAN WORTH , Governor of North Carolina .'"
      ]
     },
     "execution_count": 27,
     "metadata": {},
     "output_type": "execute_result"
    }
   ],
   "source": [
    "order_text[2]"
   ]
  },
  {
   "cell_type": "code",
   "execution_count": 28,
   "id": "d3bddc28",
   "metadata": {
    "execution": {
     "iopub.execute_input": "2022-06-29T11:15:13.303105Z",
     "iopub.status.busy": "2022-06-29T11:15:13.302323Z",
     "iopub.status.idle": "2022-06-29T11:15:13.309006Z",
     "shell.execute_reply": "2022-06-29T11:15:13.308162Z"
    },
    "papermill": {
     "duration": 0.040523,
     "end_time": "2022-06-29T11:15:13.311188",
     "exception": false,
     "start_time": "2022-06-29T11:15:13.270665",
     "status": "completed"
    },
    "tags": []
   },
   "outputs": [
    {
     "data": {
      "text/plain": [
       "\"['JONATHAN WORTH']\""
      ]
     },
     "execution_count": 28,
     "metadata": {},
     "output_type": "execute_result"
    }
   ],
   "source": [
    "order_Per_ner[2]"
   ]
  },
  {
   "cell_type": "code",
   "execution_count": 29,
   "id": "ec156810",
   "metadata": {
    "execution": {
     "iopub.execute_input": "2022-06-29T11:15:13.374583Z",
     "iopub.status.busy": "2022-06-29T11:15:13.373819Z",
     "iopub.status.idle": "2022-06-29T11:15:13.380537Z",
     "shell.execute_reply": "2022-06-29T11:15:13.379730Z"
    },
    "papermill": {
     "duration": 0.041208,
     "end_time": "2022-06-29T11:15:13.382794",
     "exception": false,
     "start_time": "2022-06-29T11:15:13.341586",
     "status": "completed"
    },
    "tags": []
   },
   "outputs": [
    {
     "data": {
      "text/plain": [
       "\"['Officers Agents of Bureau', 'House of Representatives', 'Houses of Congress', 'Bureau of Refugees Freedman', 'Freedmens Bureau']\""
      ]
     },
     "execution_count": 29,
     "metadata": {},
     "output_type": "execute_result"
    }
   ],
   "source": [
    "order_ORG_ner[2]"
   ]
  },
  {
   "cell_type": "markdown",
   "id": "31a3d11e",
   "metadata": {
    "papermill": {
     "duration": 0.029657,
     "end_time": "2022-06-29T11:15:13.442859",
     "exception": false,
     "start_time": "2022-06-29T11:15:13.413202",
     "status": "completed"
    },
    "tags": []
   },
   "source": [
    "**names of ner english are catastrophic**"
   ]
  },
  {
   "cell_type": "markdown",
   "id": "b6069626",
   "metadata": {
    "papermill": {
     "duration": 0.029391,
     "end_time": "2022-06-29T11:15:13.502185",
     "exception": false,
     "start_time": "2022-06-29T11:15:13.472794",
     "status": "completed"
    },
    "tags": []
   },
   "source": [
    "****"
   ]
  },
  {
   "cell_type": "markdown",
   "id": "a7520d34",
   "metadata": {
    "papermill": {
     "duration": 0.030371,
     "end_time": "2022-06-29T11:15:13.562334",
     "exception": false,
     "start_time": "2022-06-29T11:15:13.531963",
     "status": "completed"
    },
    "tags": []
   },
   "source": [
    "# Order Ner english large "
   ]
  },
  {
   "cell_type": "code",
   "execution_count": 30,
   "id": "53b742ab",
   "metadata": {
    "execution": {
     "iopub.execute_input": "2022-06-29T11:15:13.624112Z",
     "iopub.status.busy": "2022-06-29T11:15:13.623725Z",
     "iopub.status.idle": "2022-06-29T11:15:13.628936Z",
     "shell.execute_reply": "2022-06-29T11:15:13.627879Z"
    },
    "papermill": {
     "duration": 0.038932,
     "end_time": "2022-06-29T11:15:13.631262",
     "exception": false,
     "start_time": "2022-06-29T11:15:13.592330",
     "status": "completed"
    },
    "tags": []
   },
   "outputs": [],
   "source": [
    "order_Per_large=order_ent[\"PERSON-nerenglarge\"]\n",
    "order_ORG_large=order_ent[\"ORG-nerenglarge\"]\n",
    "order_other_large=order_ent[\"other_namelarge\"]\n",
    "order_loc_large=order_ent[\"LOC-nerenglarge\"]"
   ]
  },
  {
   "cell_type": "code",
   "execution_count": 31,
   "id": "18ec323d",
   "metadata": {
    "execution": {
     "iopub.execute_input": "2022-06-29T11:15:13.694197Z",
     "iopub.status.busy": "2022-06-29T11:15:13.693822Z",
     "iopub.status.idle": "2022-06-29T11:15:13.700154Z",
     "shell.execute_reply": "2022-06-29T11:15:13.699095Z"
    },
    "papermill": {
     "duration": 0.04031,
     "end_time": "2022-06-29T11:15:13.702501",
     "exception": false,
     "start_time": "2022-06-29T11:15:13.662191",
     "status": "completed"
    },
    "tags": []
   },
   "outputs": [
    {
     "data": {
      "text/plain": [
       "'190 By Order of Col. James V. Bomford Jacob F. Chur . Bvt . Lt. Col. A.A.A.G . Bureau of Refugees Freedmen A.L . Head Qrs . Asst . Commissioner Raleigh N.C. Jan. 16th 1867 Special Order No . 8 Leave of absence twelve days hereby granted Lieut Edgar H. McQuigg V.R.C . Asst Supt Bureau R.F . A.L . Wilmington N.C. By Command of Col. J. V. Bomford Jacob F. Chur . Bvt . Lt. Col. A.A.A . Genl Bureau of Refugees Freedmen c Hd Qrs Asst Commissioner Raleigh N.C. Jan. 18th 1867 Special Order No . 9 In compliance instructions Maj Genl O.O . Howard Commissioner , Bvt . Maj. Thos P. Johnston Chf Qr Mr Bureau State pay trustees of Baptist Female Seminary following amounts rent of rooms used Bureau upon premises known Guion Hotel City of Raleigh recommended board of Officers appointed purpose . For three rooms main building occupied offices of Bureau of R.F . A.L . April 1st 1866 Aug 1st 1866 rate of Twelve dollars per month per room . For four rooms detatched building occupied offices of Bureau of R.F . A.L . April 2d 1866 , Dec 31st 1866 , rate of twelve dollars 12 per month per room . By Command of Col. J. V. Bomford Jacob F. Chur . Bvt . Lt. Col. A.A.A . Genl 191 Bureau of Refugees Freedmen c Hd Qrs Asst Commissioner Raleigh N.C. Jan. 19th 1867 Special Order No . 10 I. Manchester W. Weld appointed Agent of Bureau of R.F . A.L . hereby assigned duty Fayetteville N.C. relieve Justin Hodge Agent . II . The resignation of Justin Hodge Agent of Bureau of R.F . A.L . Fayetteville N.C. hereby accepted take effect relieved Mr. M. W. Weld By Command of Col. J. V. Bomford Jacob F. Chur . Bvt . Lt. Col. A.A.A.G . Bureau of Refugees Freedmen c Hd Qrs Asst Commissioner Raleigh N.C. Jan. 20th 1867 Special Order No . 11 During temporary absence of Bt Lt Col Jacob F. Chur Act Asst Adjt Genl , Bt Maj F. A. Seeley act Asst Adjt Genl . By Command of Col. J. V. Bomford Jacob F. Chur . Bvt . Lt. Col. A.A.A.G .'"
      ]
     },
     "execution_count": 31,
     "metadata": {},
     "output_type": "execute_result"
    }
   ],
   "source": [
    "order_text[1000]"
   ]
  },
  {
   "cell_type": "code",
   "execution_count": 32,
   "id": "6edb2a65",
   "metadata": {
    "execution": {
     "iopub.execute_input": "2022-06-29T11:15:13.764179Z",
     "iopub.status.busy": "2022-06-29T11:15:13.763779Z",
     "iopub.status.idle": "2022-06-29T11:15:13.770300Z",
     "shell.execute_reply": "2022-06-29T11:15:13.769217Z"
    },
    "papermill": {
     "duration": 0.04,
     "end_time": "2022-06-29T11:15:13.772453",
     "exception": false,
     "start_time": "2022-06-29T11:15:13.732453",
     "status": "completed"
    },
    "tags": []
   },
   "outputs": [
    {
     "data": {
      "text/plain": [
       "\"['James V. Bomford', 'Jacob F. Chur', 'Edgar H .', 'McQuigg', 'J. V. Bomford', 'Genl O.O . Howard', 'Thos P. Johnston', 'Manchester W. Weld', 'Justin Hodge', 'M. W. Weld', 'F . A. Seeley']\""
      ]
     },
     "execution_count": 32,
     "metadata": {},
     "output_type": "execute_result"
    }
   ],
   "source": [
    "order_Per_large[1000]"
   ]
  },
  {
   "cell_type": "code",
   "execution_count": 33,
   "id": "172321aa",
   "metadata": {
    "execution": {
     "iopub.execute_input": "2022-06-29T11:15:13.837992Z",
     "iopub.status.busy": "2022-06-29T11:15:13.837262Z",
     "iopub.status.idle": "2022-06-29T11:15:13.844401Z",
     "shell.execute_reply": "2022-06-29T11:15:13.843552Z"
    },
    "papermill": {
     "duration": 0.042714,
     "end_time": "2022-06-29T11:15:13.846581",
     "exception": false,
     "start_time": "2022-06-29T11:15:13.803867",
     "status": "completed"
    },
    "tags": []
   },
   "outputs": [
    {
     "data": {
      "text/plain": [
       "\"['Bureau of Refugees Freedmen A.L', 'Bureau R.F . A.L', 'Bureau of Refugees Freedmen', 'Baptist Female Seminary', 'Bureau', 'Guion Hotel', 'Bureau of R.F . A.L', 'Bureau of R.F . A.L .']\""
      ]
     },
     "execution_count": 33,
     "metadata": {},
     "output_type": "execute_result"
    }
   ],
   "source": [
    "order_ORG_large[1000]"
   ]
  },
  {
   "cell_type": "code",
   "execution_count": 34,
   "id": "86906ff7",
   "metadata": {
    "execution": {
     "iopub.execute_input": "2022-06-29T11:15:13.910851Z",
     "iopub.status.busy": "2022-06-29T11:15:13.910121Z",
     "iopub.status.idle": "2022-06-29T11:15:13.916770Z",
     "shell.execute_reply": "2022-06-29T11:15:13.915923Z"
    },
    "papermill": {
     "duration": 0.041037,
     "end_time": "2022-06-29T11:15:13.918930",
     "exception": false,
     "start_time": "2022-06-29T11:15:13.877893",
     "status": "completed"
    },
    "tags": []
   },
   "outputs": [
    {
     "data": {
      "text/plain": [
       "\"['Raleigh N.C', 'Wilmington N.C', 'City of Raleigh', 'Fayetteville N.C.']\""
      ]
     },
     "execution_count": 34,
     "metadata": {},
     "output_type": "execute_result"
    }
   ],
   "source": [
    "order_loc_large[1000]"
   ]
  },
  {
   "cell_type": "code",
   "execution_count": 35,
   "id": "122784c4",
   "metadata": {
    "execution": {
     "iopub.execute_input": "2022-06-29T11:15:13.983092Z",
     "iopub.status.busy": "2022-06-29T11:15:13.982351Z",
     "iopub.status.idle": "2022-06-29T11:15:13.988872Z",
     "shell.execute_reply": "2022-06-29T11:15:13.988087Z"
    },
    "papermill": {
     "duration": 0.040778,
     "end_time": "2022-06-29T11:15:13.991003",
     "exception": false,
     "start_time": "2022-06-29T11:15:13.950225",
     "status": "completed"
    },
    "tags": []
   },
   "outputs": [
    {
     "data": {
      "text/plain": [
       "\"['General Orders']\""
      ]
     },
     "execution_count": 35,
     "metadata": {},
     "output_type": "execute_result"
    }
   ],
   "source": [
    "order_other_large[102]"
   ]
  },
  {
   "cell_type": "markdown",
   "id": "328649d1",
   "metadata": {
    "papermill": {
     "duration": 0.030165,
     "end_time": "2022-06-29T11:15:14.051837",
     "exception": false,
     "start_time": "2022-06-29T11:15:14.021672",
     "status": "completed"
    },
    "tags": []
   },
   "source": [
    "**veryy good**"
   ]
  },
  {
   "cell_type": "code",
   "execution_count": 36,
   "id": "5fdc9266",
   "metadata": {
    "execution": {
     "iopub.execute_input": "2022-06-29T11:15:14.115183Z",
     "iopub.status.busy": "2022-06-29T11:15:14.114428Z",
     "iopub.status.idle": "2022-06-29T11:15:14.192231Z",
     "shell.execute_reply": "2022-06-29T11:15:14.191142Z"
    },
    "papermill": {
     "duration": 0.111937,
     "end_time": "2022-06-29T11:15:14.194498",
     "exception": false,
     "start_time": "2022-06-29T11:15:14.082561",
     "status": "completed"
    },
    "tags": []
   },
   "outputs": [
    {
     "data": {
      "text/plain": [
       "(556132, 1438)"
      ]
     },
     "execution_count": 36,
     "metadata": {},
     "output_type": "execute_result"
    }
   ],
   "source": [
    "PL=[]\n",
    "empty=0\n",
    "for i in order_Per_large :\n",
    "    for j in i:\n",
    "        PL.append(j)\n",
    "for i in order_Per_large:\n",
    "    if i=='[]':\n",
    "        empty=empty+1\n",
    "len(PL), empty"
   ]
  },
  {
   "cell_type": "code",
   "execution_count": 37,
   "id": "32da9c70",
   "metadata": {
    "execution": {
     "iopub.execute_input": "2022-06-29T11:15:14.257897Z",
     "iopub.status.busy": "2022-06-29T11:15:14.257169Z",
     "iopub.status.idle": "2022-06-29T11:15:14.338936Z",
     "shell.execute_reply": "2022-06-29T11:15:14.338161Z"
    },
    "papermill": {
     "duration": 0.116067,
     "end_time": "2022-06-29T11:15:14.341321",
     "exception": false,
     "start_time": "2022-06-29T11:15:14.225254",
     "status": "completed"
    },
    "tags": []
   },
   "outputs": [
    {
     "data": {
      "text/plain": [
       "(564296, 1382)"
      ]
     },
     "execution_count": 37,
     "metadata": {},
     "output_type": "execute_result"
    }
   ],
   "source": [
    "PL=[]\n",
    "empty=0\n",
    "for i in order_ORG_large :\n",
    "    for j in i:\n",
    "        PL.append(j)\n",
    "for i in order_ORG_large:\n",
    "    if i=='[]':\n",
    "        empty=empty+1\n",
    "len(PL), empty"
   ]
  },
  {
   "cell_type": "code",
   "execution_count": 38,
   "id": "3460345d",
   "metadata": {
    "execution": {
     "iopub.execute_input": "2022-06-29T11:15:14.404965Z",
     "iopub.status.busy": "2022-06-29T11:15:14.404566Z",
     "iopub.status.idle": "2022-06-29T11:15:14.481136Z",
     "shell.execute_reply": "2022-06-29T11:15:14.479939Z"
    },
    "papermill": {
     "duration": 0.111332,
     "end_time": "2022-06-29T11:15:14.483392",
     "exception": false,
     "start_time": "2022-06-29T11:15:14.372060",
     "status": "completed"
    },
    "tags": []
   },
   "outputs": [
    {
     "data": {
      "text/plain": [
       "(543223, 858)"
      ]
     },
     "execution_count": 38,
     "metadata": {},
     "output_type": "execute_result"
    }
   ],
   "source": [
    "PL=[]\n",
    "empty=0\n",
    "for i in order_loc_large :\n",
    "    for j in i:\n",
    "        PL.append(j)\n",
    "for i in order_loc_large:\n",
    "    if i=='[]':\n",
    "        empty=empty+1\n",
    "len(PL), empty"
   ]
  },
  {
   "cell_type": "markdown",
   "id": "150d9ae6",
   "metadata": {
    "papermill": {
     "duration": 0.030945,
     "end_time": "2022-06-29T11:15:14.546154",
     "exception": false,
     "start_time": "2022-06-29T11:15:14.515209",
     "status": "completed"
    },
    "tags": []
   },
   "source": [
    "# Ner enlish large is better than ner english in extracted entities (as usuall i think)"
   ]
  },
  {
   "cell_type": "markdown",
   "id": "1e6896f1",
   "metadata": {
    "papermill": {
     "duration": 0.032339,
     "end_time": "2022-06-29T11:15:14.609346",
     "exception": false,
     "start_time": "2022-06-29T11:15:14.577007",
     "status": "completed"
    },
    "tags": []
   },
   "source": [
    "****"
   ]
  },
  {
   "cell_type": "markdown",
   "id": "d0e42dee",
   "metadata": {
    "papermill": {
     "duration": 0.03128,
     "end_time": "2022-06-29T11:15:14.673528",
     "exception": false,
     "start_time": "2022-06-29T11:15:14.642248",
     "status": "completed"
    },
    "tags": []
   },
   "source": [
    "# Contracts Ontonotes"
   ]
  },
  {
   "cell_type": "code",
   "execution_count": 39,
   "id": "af15eeeb",
   "metadata": {
    "execution": {
     "iopub.execute_input": "2022-06-29T11:15:14.738577Z",
     "iopub.status.busy": "2022-06-29T11:15:14.737651Z",
     "iopub.status.idle": "2022-06-29T11:15:15.694954Z",
     "shell.execute_reply": "2022-06-29T11:15:15.694093Z"
    },
    "papermill": {
     "duration": 0.99325,
     "end_time": "2022-06-29T11:15:15.697575",
     "exception": false,
     "start_time": "2022-06-29T11:15:14.704325",
     "status": "completed"
    },
    "tags": []
   },
   "outputs": [],
   "source": [
    "contract_ent=pd.read_csv(\"../input/all-csv/to_compare_result_contract_ner.csv\")\n",
    "contract_onto=pd.read_csv(\"../input/all-csv/contract_onto (1).csv\")"
   ]
  },
  {
   "cell_type": "code",
   "execution_count": 40,
   "id": "2705c85a",
   "metadata": {
    "execution": {
     "iopub.execute_input": "2022-06-29T11:15:15.763534Z",
     "iopub.status.busy": "2022-06-29T11:15:15.763155Z",
     "iopub.status.idle": "2022-06-29T11:15:15.781818Z",
     "shell.execute_reply": "2022-06-29T11:15:15.780694Z"
    },
    "papermill": {
     "duration": 0.054325,
     "end_time": "2022-06-29T11:15:15.784132",
     "exception": false,
     "start_time": "2022-06-29T11:15:15.729807",
     "status": "completed"
    },
    "tags": []
   },
   "outputs": [
    {
     "data": {
      "text/html": [
       "<div>\n",
       "<style scoped>\n",
       "    .dataframe tbody tr th:only-of-type {\n",
       "        vertical-align: middle;\n",
       "    }\n",
       "\n",
       "    .dataframe tbody tr th {\n",
       "        vertical-align: top;\n",
       "    }\n",
       "\n",
       "    .dataframe thead th {\n",
       "        text-align: right;\n",
       "    }\n",
       "</style>\n",
       "<table border=\"1\" class=\"dataframe\">\n",
       "  <thead>\n",
       "    <tr style=\"text-align: right;\">\n",
       "      <th></th>\n",
       "      <th>contract_text</th>\n",
       "      <th>PERSON-nerenglish</th>\n",
       "      <th>LOC-nerenglish</th>\n",
       "      <th>ORG-nerenglish</th>\n",
       "      <th>Name-nerenglish</th>\n",
       "      <th>Other_name-nerenglish</th>\n",
       "      <th>Name-nerenglarge</th>\n",
       "      <th>LOC-nerenglarge</th>\n",
       "      <th>ORG-nerenglarge</th>\n",
       "      <th>other_namelarge</th>\n",
       "    </tr>\n",
       "  </thead>\n",
       "  <tbody>\n",
       "    <tr>\n",
       "      <th>0</th>\n",
       "      <td>North Carolina This indenture made entered Thi...</td>\n",
       "      <td>['Thos R Underwood', 'Alfred A McKerhan', 'Wm ...</td>\n",
       "      <td>['County of Carteret', 'Shepperd Creek', 'Cree...</td>\n",
       "      <td>[]</td>\n",
       "      <td>['Thos R Underwood', 'Alfred A McKerhan', 'Wm ...</td>\n",
       "      <td>[]</td>\n",
       "      <td>['H.G . Cutler', 'Thos R Underwood', 'Alfred A...</td>\n",
       "      <td>['North Carolina', 'County of Carteret', 'Bogu...</td>\n",
       "      <td>[]</td>\n",
       "      <td>[]</td>\n",
       "    </tr>\n",
       "    <tr>\n",
       "      <th>1</th>\n",
       "      <td>State of North Carolina Currituck County . Thi...</td>\n",
       "      <td>['John B. Etheridge']</td>\n",
       "      <td>['County State', 'Witnesseth', 'County of Curr...</td>\n",
       "      <td>[]</td>\n",
       "      <td>['John B. Etheridge']</td>\n",
       "      <td>[]</td>\n",
       "      <td>['John B. Etheridge', 'Little John Etheridge']</td>\n",
       "      <td>['State of North Carolina', 'Currituck County'...</td>\n",
       "      <td>[]</td>\n",
       "      <td>[]</td>\n",
       "    </tr>\n",
       "    <tr>\n",
       "      <th>2</th>\n",
       "      <td>near Lizzie Etheridges gate , thence South 56 ...</td>\n",
       "      <td>['John B Etheridge', 'Douglas Adam D. Etheridge']</td>\n",
       "      <td>['Red Hill', 'Croatan Sound']</td>\n",
       "      <td>[]</td>\n",
       "      <td>['John B Etheridge', 'Douglas Adam D. Etheridge']</td>\n",
       "      <td>[]</td>\n",
       "      <td>['Little John Etheridge', 'John B Etheridge', ...</td>\n",
       "      <td>['Lizzie Etheridges gate', 'Red Hill', 'Croata...</td>\n",
       "      <td>[]</td>\n",
       "      <td>[]</td>\n",
       "    </tr>\n",
       "    <tr>\n",
       "      <th>3</th>\n",
       "      <td>Copy Agreement of Apprenticeship Bu Mrs. Kate ...</td>\n",
       "      <td>['Kate V.Chamblin']</td>\n",
       "      <td>[]</td>\n",
       "      <td>[]</td>\n",
       "      <td>['Kate V.Chamblin']</td>\n",
       "      <td>[]</td>\n",
       "      <td>['Kate V.Chamblin', '1st', 'Geo . W. Rollins',...</td>\n",
       "      <td>['La', 'Lake Providence Carroll']</td>\n",
       "      <td>['U.S. Army']</td>\n",
       "      <td>[]</td>\n",
       "    </tr>\n",
       "    <tr>\n",
       "      <th>4</th>\n",
       "      <td>Copy Agreement of Apprenticeship . This agreem...</td>\n",
       "      <td>['Kate V. Chambliss', 'Betty Taylor Mary Taylo...</td>\n",
       "      <td>[]</td>\n",
       "      <td>[]</td>\n",
       "      <td>['Kate V. Chambliss', 'Betty Taylor Mary Taylo...</td>\n",
       "      <td>['African']</td>\n",
       "      <td>['Mrs', 'Kate V. Chambliss', 'James Samenett',...</td>\n",
       "      <td>['Carroll Parish', 'New Orleans', 'Louisiana',...</td>\n",
       "      <td>[]</td>\n",
       "      <td>['African']</td>\n",
       "    </tr>\n",
       "  </tbody>\n",
       "</table>\n",
       "</div>"
      ],
      "text/plain": [
       "                                       contract_text  \\\n",
       "0  North Carolina This indenture made entered Thi...   \n",
       "1  State of North Carolina Currituck County . Thi...   \n",
       "2  near Lizzie Etheridges gate , thence South 56 ...   \n",
       "3  Copy Agreement of Apprenticeship Bu Mrs. Kate ...   \n",
       "4  Copy Agreement of Apprenticeship . This agreem...   \n",
       "\n",
       "                                   PERSON-nerenglish  \\\n",
       "0  ['Thos R Underwood', 'Alfred A McKerhan', 'Wm ...   \n",
       "1                              ['John B. Etheridge']   \n",
       "2  ['John B Etheridge', 'Douglas Adam D. Etheridge']   \n",
       "3                                ['Kate V.Chamblin']   \n",
       "4  ['Kate V. Chambliss', 'Betty Taylor Mary Taylo...   \n",
       "\n",
       "                                      LOC-nerenglish ORG-nerenglish  \\\n",
       "0  ['County of Carteret', 'Shepperd Creek', 'Cree...             []   \n",
       "1  ['County State', 'Witnesseth', 'County of Curr...             []   \n",
       "2                      ['Red Hill', 'Croatan Sound']             []   \n",
       "3                                                 []             []   \n",
       "4                                                 []             []   \n",
       "\n",
       "                                     Name-nerenglish Other_name-nerenglish  \\\n",
       "0  ['Thos R Underwood', 'Alfred A McKerhan', 'Wm ...                    []   \n",
       "1                              ['John B. Etheridge']                    []   \n",
       "2  ['John B Etheridge', 'Douglas Adam D. Etheridge']                    []   \n",
       "3                                ['Kate V.Chamblin']                    []   \n",
       "4  ['Kate V. Chambliss', 'Betty Taylor Mary Taylo...           ['African']   \n",
       "\n",
       "                                    Name-nerenglarge  \\\n",
       "0  ['H.G . Cutler', 'Thos R Underwood', 'Alfred A...   \n",
       "1     ['John B. Etheridge', 'Little John Etheridge']   \n",
       "2  ['Little John Etheridge', 'John B Etheridge', ...   \n",
       "3  ['Kate V.Chamblin', '1st', 'Geo . W. Rollins',...   \n",
       "4  ['Mrs', 'Kate V. Chambliss', 'James Samenett',...   \n",
       "\n",
       "                                     LOC-nerenglarge ORG-nerenglarge  \\\n",
       "0  ['North Carolina', 'County of Carteret', 'Bogu...              []   \n",
       "1  ['State of North Carolina', 'Currituck County'...              []   \n",
       "2  ['Lizzie Etheridges gate', 'Red Hill', 'Croata...              []   \n",
       "3                  ['La', 'Lake Providence Carroll']   ['U.S. Army']   \n",
       "4  ['Carroll Parish', 'New Orleans', 'Louisiana',...              []   \n",
       "\n",
       "  other_namelarge  \n",
       "0              []  \n",
       "1              []  \n",
       "2              []  \n",
       "3              []  \n",
       "4     ['African']  "
      ]
     },
     "execution_count": 40,
     "metadata": {},
     "output_type": "execute_result"
    }
   ],
   "source": [
    "contract_ent.head()"
   ]
  },
  {
   "cell_type": "code",
   "execution_count": 41,
   "id": "1aba68f8",
   "metadata": {
    "execution": {
     "iopub.execute_input": "2022-06-29T11:15:15.850441Z",
     "iopub.status.busy": "2022-06-29T11:15:15.849305Z",
     "iopub.status.idle": "2022-06-29T11:15:15.865857Z",
     "shell.execute_reply": "2022-06-29T11:15:15.864809Z"
    },
    "papermill": {
     "duration": 0.051548,
     "end_time": "2022-06-29T11:15:15.868150",
     "exception": false,
     "start_time": "2022-06-29T11:15:15.816602",
     "status": "completed"
    },
    "tags": []
   },
   "outputs": [
    {
     "data": {
      "text/html": [
       "<div>\n",
       "<style scoped>\n",
       "    .dataframe tbody tr th:only-of-type {\n",
       "        vertical-align: middle;\n",
       "    }\n",
       "\n",
       "    .dataframe tbody tr th {\n",
       "        vertical-align: top;\n",
       "    }\n",
       "\n",
       "    .dataframe thead th {\n",
       "        text-align: right;\n",
       "    }\n",
       "</style>\n",
       "<table border=\"1\" class=\"dataframe\">\n",
       "  <thead>\n",
       "    <tr style=\"text-align: right;\">\n",
       "      <th></th>\n",
       "      <th>contract_text</th>\n",
       "      <th>Name-ontonotes</th>\n",
       "      <th>GPE-ontonotes</th>\n",
       "      <th>ORG-ontonotes</th>\n",
       "      <th>Date-ontonotes</th>\n",
       "      <th>LOC-ontonotes</th>\n",
       "      <th>Building-ontonotes</th>\n",
       "      <th>Cardinal-ontonotes</th>\n",
       "      <th>postDate-ontonotes</th>\n",
       "      <th>standard_date-ontonotes</th>\n",
       "    </tr>\n",
       "  </thead>\n",
       "  <tbody>\n",
       "    <tr>\n",
       "      <th>0</th>\n",
       "      <td>North Carolina This indenture made entered Thi...</td>\n",
       "      <td>['H.G . Cutler', 'Thos R Underwood', 'Alfred A...</td>\n",
       "      <td>['North Carolina', 'County of Carteret']</td>\n",
       "      <td>[]</td>\n",
       "      <td>['This 5th day of November 1853']</td>\n",
       "      <td>['Stake North', 'Bogue Sound', 'Shepperd Creek']</td>\n",
       "      <td>[]</td>\n",
       "      <td>['five hundred ten', '13.0', '203', '209', '4'...</td>\n",
       "      <td>['This 5-November-1853', '5-This-1853', 'This-...</td>\n",
       "      <td>['5-November-1853', '5-This-1853', '7-November...</td>\n",
       "    </tr>\n",
       "    <tr>\n",
       "      <th>1</th>\n",
       "      <td>State of North Carolina Currituck County . Thi...</td>\n",
       "      <td>['John B. Etheridge', 'Little John Etheridge',...</td>\n",
       "      <td>['North Carolina', 'Currituck County', 'County...</td>\n",
       "      <td>[]</td>\n",
       "      <td>['fifth day of September , year', 'One Thousan...</td>\n",
       "      <td>['Roanoke Island', 'Croatain Sound']</td>\n",
       "      <td>[]</td>\n",
       "      <td>[]</td>\n",
       "      <td>[]</td>\n",
       "      <td>[]</td>\n",
       "    </tr>\n",
       "    <tr>\n",
       "      <th>2</th>\n",
       "      <td>near Lizzie Etheridges gate , thence South 56 ...</td>\n",
       "      <td>['Lizzie Etheridges', 'Little John Etheridge',...</td>\n",
       "      <td>[]</td>\n",
       "      <td>[]</td>\n",
       "      <td>[]</td>\n",
       "      <td>['Red Hill', 'Croatan Sound', 'Sound']</td>\n",
       "      <td>[]</td>\n",
       "      <td>[]</td>\n",
       "      <td>[]</td>\n",
       "      <td>[]</td>\n",
       "    </tr>\n",
       "    <tr>\n",
       "      <th>3</th>\n",
       "      <td>Copy Agreement of Apprenticeship Bu Mrs. Kate ...</td>\n",
       "      <td>['Kate V.Chamblin', 'James Samenett', 'Betty T...</td>\n",
       "      <td>['Carroll Parish La']</td>\n",
       "      <td>['U.S. Army']</td>\n",
       "      <td>['Oct. 1 1866', 'Nov. 3 1866']</td>\n",
       "      <td>[]</td>\n",
       "      <td>[]</td>\n",
       "      <td>[]</td>\n",
       "      <td>['1-Oct.-1866', '3-Nov.-1866']</td>\n",
       "      <td>['1-Oct.-1866', '3-Nov.-1866']</td>\n",
       "    </tr>\n",
       "    <tr>\n",
       "      <th>4</th>\n",
       "      <td>Copy Agreement of Apprenticeship . This agreem...</td>\n",
       "      <td>['Kate V. Chambliss', 'James Samenett', 'Betty...</td>\n",
       "      <td>['New Orleans Louisiana']</td>\n",
       "      <td>[]</td>\n",
       "      <td>['1 day of October A . D. 1866', 'Octr 31 1865...</td>\n",
       "      <td>[]</td>\n",
       "      <td>[]</td>\n",
       "      <td>['two']</td>\n",
       "      <td>['1-October-1866', '31-Octr-1865', '1-Oct.-186...</td>\n",
       "      <td>['1-October-1866', '31-Octr-1865', '1-Oct.-186...</td>\n",
       "    </tr>\n",
       "  </tbody>\n",
       "</table>\n",
       "</div>"
      ],
      "text/plain": [
       "                                       contract_text  \\\n",
       "0  North Carolina This indenture made entered Thi...   \n",
       "1  State of North Carolina Currituck County . Thi...   \n",
       "2  near Lizzie Etheridges gate , thence South 56 ...   \n",
       "3  Copy Agreement of Apprenticeship Bu Mrs. Kate ...   \n",
       "4  Copy Agreement of Apprenticeship . This agreem...   \n",
       "\n",
       "                                      Name-ontonotes  \\\n",
       "0  ['H.G . Cutler', 'Thos R Underwood', 'Alfred A...   \n",
       "1  ['John B. Etheridge', 'Little John Etheridge',...   \n",
       "2  ['Lizzie Etheridges', 'Little John Etheridge',...   \n",
       "3  ['Kate V.Chamblin', 'James Samenett', 'Betty T...   \n",
       "4  ['Kate V. Chambliss', 'James Samenett', 'Betty...   \n",
       "\n",
       "                                       GPE-ontonotes  ORG-ontonotes  \\\n",
       "0           ['North Carolina', 'County of Carteret']             []   \n",
       "1  ['North Carolina', 'Currituck County', 'County...             []   \n",
       "2                                                 []             []   \n",
       "3                              ['Carroll Parish La']  ['U.S. Army']   \n",
       "4                          ['New Orleans Louisiana']             []   \n",
       "\n",
       "                                      Date-ontonotes  \\\n",
       "0                  ['This 5th day of November 1853']   \n",
       "1  ['fifth day of September , year', 'One Thousan...   \n",
       "2                                                 []   \n",
       "3                     ['Oct. 1 1866', 'Nov. 3 1866']   \n",
       "4  ['1 day of October A . D. 1866', 'Octr 31 1865...   \n",
       "\n",
       "                                      LOC-ontonotes Building-ontonotes  \\\n",
       "0  ['Stake North', 'Bogue Sound', 'Shepperd Creek']                 []   \n",
       "1              ['Roanoke Island', 'Croatain Sound']                 []   \n",
       "2            ['Red Hill', 'Croatan Sound', 'Sound']                 []   \n",
       "3                                                []                 []   \n",
       "4                                                []                 []   \n",
       "\n",
       "                                  Cardinal-ontonotes  \\\n",
       "0  ['five hundred ten', '13.0', '203', '209', '4'...   \n",
       "1                                                 []   \n",
       "2                                                 []   \n",
       "3                                                 []   \n",
       "4                                            ['two']   \n",
       "\n",
       "                                  postDate-ontonotes  \\\n",
       "0  ['This 5-November-1853', '5-This-1853', 'This-...   \n",
       "1                                                 []   \n",
       "2                                                 []   \n",
       "3                     ['1-Oct.-1866', '3-Nov.-1866']   \n",
       "4  ['1-October-1866', '31-Octr-1865', '1-Oct.-186...   \n",
       "\n",
       "                             standard_date-ontonotes  \n",
       "0  ['5-November-1853', '5-This-1853', '7-November...  \n",
       "1                                                 []  \n",
       "2                                                 []  \n",
       "3                     ['1-Oct.-1866', '3-Nov.-1866']  \n",
       "4  ['1-October-1866', '31-Octr-1865', '1-Oct.-186...  "
      ]
     },
     "execution_count": 41,
     "metadata": {},
     "output_type": "execute_result"
    }
   ],
   "source": [
    "contract_onto.head()"
   ]
  },
  {
   "cell_type": "code",
   "execution_count": 42,
   "id": "b120fb2b",
   "metadata": {
    "execution": {
     "iopub.execute_input": "2022-06-29T11:15:15.933985Z",
     "iopub.status.busy": "2022-06-29T11:15:15.933041Z",
     "iopub.status.idle": "2022-06-29T11:15:15.938872Z",
     "shell.execute_reply": "2022-06-29T11:15:15.938180Z"
    },
    "papermill": {
     "duration": 0.041107,
     "end_time": "2022-06-29T11:15:15.941049",
     "exception": false,
     "start_time": "2022-06-29T11:15:15.899942",
     "status": "completed"
    },
    "tags": []
   },
   "outputs": [],
   "source": [
    "contract_text=contract_ent[\"contract_text\"]\n",
    "contract_Per_onto=contract_onto[\"Name-ontonotes\"]\n",
    "contract_GPE_onto=contract_onto[\"GPE-ontonotes\"]\n",
    "contract_ORG_onto=contract_onto[\"ORG-ontonotes\"]\n",
    "contract_date_onto=contract_onto[\"standard_date-ontonotes\"]\n",
    "contract_loc_onto=contract_onto[\"LOC-ontonotes\"]\n",
    "contract_cardinal=contract_onto[\"Cardinal-ontonotes\"]"
   ]
  },
  {
   "cell_type": "code",
   "execution_count": 43,
   "id": "de78125f",
   "metadata": {
    "execution": {
     "iopub.execute_input": "2022-06-29T11:15:16.006214Z",
     "iopub.status.busy": "2022-06-29T11:15:16.005456Z",
     "iopub.status.idle": "2022-06-29T11:15:16.014350Z",
     "shell.execute_reply": "2022-06-29T11:15:16.013277Z"
    },
    "papermill": {
     "duration": 0.043918,
     "end_time": "2022-06-29T11:15:16.016617",
     "exception": false,
     "start_time": "2022-06-29T11:15:15.972699",
     "status": "completed"
    },
    "tags": []
   },
   "outputs": [
    {
     "data": {
      "text/plain": [
       "'North Carolina This indenture made entered This 5th day of November 1853 . By H.G . Cutler of County of Carteret of first part Thos R Underwood , Alfred A McKerhan , Wm H Washington , Geo . S Stevenson , John D Williams Nathan A Stedman of second part . Whereas parties of Second part divers others associates purchased of said H. G. Cutler , tract of land situated County of Carteret bounded described follows ; beginning Stake North side of Bogue Sound running thence westwardly various corners of sound , five hundred ten poles Straight . Thence N. 13.0 E. 203 poles , thence East 209 poles , south 4 poles , thence North 85 , E. 116 poles , thence W. 20.0 W. 96 poles , thence N 45.0 E. 21 12 poles thence E. 29 12 poles , thence S. 83.0 E. 220 poles , thence South 5.0 W. Shepperd Creek thence Westerly said Creek South West Corner of tract of land converged said Cutler John Sabuton Then S 50 West along Sabutons West line beginning , containing Estimation Nine hundred four acres survey of said land made William H Marshall hereunto attached Marked A. land said'"
      ]
     },
     "execution_count": 43,
     "metadata": {},
     "output_type": "execute_result"
    }
   ],
   "source": [
    "contract_text[0]"
   ]
  },
  {
   "cell_type": "code",
   "execution_count": 44,
   "id": "59be6b22",
   "metadata": {
    "execution": {
     "iopub.execute_input": "2022-06-29T11:15:16.082934Z",
     "iopub.status.busy": "2022-06-29T11:15:16.082515Z",
     "iopub.status.idle": "2022-06-29T11:15:16.088413Z",
     "shell.execute_reply": "2022-06-29T11:15:16.087583Z"
    },
    "papermill": {
     "duration": 0.041057,
     "end_time": "2022-06-29T11:15:16.090537",
     "exception": false,
     "start_time": "2022-06-29T11:15:16.049480",
     "status": "completed"
    },
    "tags": []
   },
   "outputs": [
    {
     "data": {
      "text/plain": [
       "'[]'"
      ]
     },
     "execution_count": 44,
     "metadata": {},
     "output_type": "execute_result"
    }
   ],
   "source": [
    "contract_date_onto[150]"
   ]
  },
  {
   "cell_type": "code",
   "execution_count": 45,
   "id": "2d294dfe",
   "metadata": {
    "execution": {
     "iopub.execute_input": "2022-06-29T11:15:16.156831Z",
     "iopub.status.busy": "2022-06-29T11:15:16.155912Z",
     "iopub.status.idle": "2022-06-29T11:15:16.161855Z",
     "shell.execute_reply": "2022-06-29T11:15:16.160996Z"
    },
    "papermill": {
     "duration": 0.041171,
     "end_time": "2022-06-29T11:15:16.163795",
     "exception": false,
     "start_time": "2022-06-29T11:15:16.122624",
     "status": "completed"
    },
    "tags": []
   },
   "outputs": [
    {
     "data": {
      "text/plain": [
       "\"['H.G . Cutler', 'Thos R Underwood', 'Alfred A McKerhan', 'John D Williams', 'Nathan A Stedman', 'H . G. Cutler', 'Cutler', 'William H Marshall']\""
      ]
     },
     "execution_count": 45,
     "metadata": {},
     "output_type": "execute_result"
    }
   ],
   "source": [
    "contract_Per_onto[0]"
   ]
  },
  {
   "cell_type": "code",
   "execution_count": 46,
   "id": "805f7af0",
   "metadata": {
    "execution": {
     "iopub.execute_input": "2022-06-29T11:15:16.229836Z",
     "iopub.status.busy": "2022-06-29T11:15:16.229302Z",
     "iopub.status.idle": "2022-06-29T11:15:16.234661Z",
     "shell.execute_reply": "2022-06-29T11:15:16.233714Z"
    },
    "papermill": {
     "duration": 0.040612,
     "end_time": "2022-06-29T11:15:16.236563",
     "exception": false,
     "start_time": "2022-06-29T11:15:16.195951",
     "status": "completed"
    },
    "tags": []
   },
   "outputs": [
    {
     "data": {
      "text/plain": [
       "\"['North Carolina', 'County of Carteret']\""
      ]
     },
     "execution_count": 46,
     "metadata": {},
     "output_type": "execute_result"
    }
   ],
   "source": [
    "contract_GPE_onto[0]"
   ]
  },
  {
   "cell_type": "code",
   "execution_count": 47,
   "id": "6eb871e4",
   "metadata": {
    "execution": {
     "iopub.execute_input": "2022-06-29T11:15:16.303490Z",
     "iopub.status.busy": "2022-06-29T11:15:16.302906Z",
     "iopub.status.idle": "2022-06-29T11:15:16.308363Z",
     "shell.execute_reply": "2022-06-29T11:15:16.307314Z"
    },
    "papermill": {
     "duration": 0.041699,
     "end_time": "2022-06-29T11:15:16.310547",
     "exception": false,
     "start_time": "2022-06-29T11:15:16.268848",
     "status": "completed"
    },
    "tags": []
   },
   "outputs": [
    {
     "data": {
      "text/plain": [
       "'[]'"
      ]
     },
     "execution_count": 47,
     "metadata": {},
     "output_type": "execute_result"
    }
   ],
   "source": [
    "contract_ORG_onto[0]"
   ]
  },
  {
   "cell_type": "code",
   "execution_count": 48,
   "id": "f25d67b9",
   "metadata": {
    "execution": {
     "iopub.execute_input": "2022-06-29T11:15:16.377738Z",
     "iopub.status.busy": "2022-06-29T11:15:16.377067Z",
     "iopub.status.idle": "2022-06-29T11:15:16.382653Z",
     "shell.execute_reply": "2022-06-29T11:15:16.381813Z"
    },
    "papermill": {
     "duration": 0.041191,
     "end_time": "2022-06-29T11:15:16.384511",
     "exception": false,
     "start_time": "2022-06-29T11:15:16.343320",
     "status": "completed"
    },
    "tags": []
   },
   "outputs": [
    {
     "data": {
      "text/plain": [
       "\"['Stake North', 'Bogue Sound', 'Shepperd Creek']\""
      ]
     },
     "execution_count": 48,
     "metadata": {},
     "output_type": "execute_result"
    }
   ],
   "source": [
    "contract_loc_onto[0]"
   ]
  },
  {
   "cell_type": "code",
   "execution_count": 49,
   "id": "80a2ab68",
   "metadata": {
    "execution": {
     "iopub.execute_input": "2022-06-29T11:15:16.451589Z",
     "iopub.status.busy": "2022-06-29T11:15:16.450936Z",
     "iopub.status.idle": "2022-06-29T11:15:16.456832Z",
     "shell.execute_reply": "2022-06-29T11:15:16.456055Z"
    },
    "papermill": {
     "duration": 0.042042,
     "end_time": "2022-06-29T11:15:16.459094",
     "exception": false,
     "start_time": "2022-06-29T11:15:16.417052",
     "status": "completed"
    },
    "tags": []
   },
   "outputs": [
    {
     "data": {
      "text/plain": [
       "\"['five hundred ten', '13.0', '203', '209', '4', '85', '116', '20.0', '96', '45.0', '21 12', '29 12', '83.0', '220', '5.0', '50']\""
      ]
     },
     "execution_count": 49,
     "metadata": {},
     "output_type": "execute_result"
    }
   ],
   "source": [
    "contract_cardinal[0]"
   ]
  },
  {
   "cell_type": "code",
   "execution_count": 50,
   "id": "a4d685a9",
   "metadata": {
    "execution": {
     "iopub.execute_input": "2022-06-29T11:15:16.526561Z",
     "iopub.status.busy": "2022-06-29T11:15:16.525427Z",
     "iopub.status.idle": "2022-06-29T11:15:16.598403Z",
     "shell.execute_reply": "2022-06-29T11:15:16.597304Z"
    },
    "papermill": {
     "duration": 0.109451,
     "end_time": "2022-06-29T11:15:16.601095",
     "exception": false,
     "start_time": "2022-06-29T11:15:16.491644",
     "status": "completed"
    },
    "tags": []
   },
   "outputs": [
    {
     "data": {
      "text/plain": [
       "(426318, 10160)"
      ]
     },
     "execution_count": 50,
     "metadata": {},
     "output_type": "execute_result"
    }
   ],
   "source": [
    "PL=[]\n",
    "empty=0\n",
    "for i in contract_date_onto :\n",
    "    for j in i:\n",
    "        PL.append(j)\n",
    "for i in contract_date_onto:\n",
    "    if i=='[]':\n",
    "        empty=empty+1\n",
    "len(PL), empty"
   ]
  },
  {
   "cell_type": "code",
   "execution_count": 51,
   "id": "4de38287",
   "metadata": {
    "execution": {
     "iopub.execute_input": "2022-06-29T11:15:16.668563Z",
     "iopub.status.busy": "2022-06-29T11:15:16.667797Z",
     "iopub.status.idle": "2022-06-29T11:15:16.863751Z",
     "shell.execute_reply": "2022-06-29T11:15:16.862506Z"
    },
    "papermill": {
     "duration": 0.232811,
     "end_time": "2022-06-29T11:15:16.866533",
     "exception": false,
     "start_time": "2022-06-29T11:15:16.633722",
     "status": "completed"
    },
    "tags": []
   },
   "outputs": [
    {
     "data": {
      "text/plain": [
       "(1525017, 3304)"
      ]
     },
     "execution_count": 51,
     "metadata": {},
     "output_type": "execute_result"
    }
   ],
   "source": [
    "PL=[]\n",
    "empty=0\n",
    "for i in contract_Per_onto :\n",
    "    for j in i:\n",
    "        PL.append(j)\n",
    "for i in contract_Per_onto:\n",
    "    if i=='[]':\n",
    "        empty=empty+1\n",
    "len(PL), empty"
   ]
  },
  {
   "cell_type": "code",
   "execution_count": 52,
   "id": "37871b8e",
   "metadata": {
    "execution": {
     "iopub.execute_input": "2022-06-29T11:15:16.935254Z",
     "iopub.status.busy": "2022-06-29T11:15:16.934505Z",
     "iopub.status.idle": "2022-06-29T11:15:17.000062Z",
     "shell.execute_reply": "2022-06-29T11:15:16.998812Z"
    },
    "papermill": {
     "duration": 0.102475,
     "end_time": "2022-06-29T11:15:17.002632",
     "exception": false,
     "start_time": "2022-06-29T11:15:16.900157",
     "status": "completed"
    },
    "tags": []
   },
   "outputs": [
    {
     "data": {
      "text/plain": [
       "(358023, 12932)"
      ]
     },
     "execution_count": 52,
     "metadata": {},
     "output_type": "execute_result"
    }
   ],
   "source": [
    "PL=[]\n",
    "empty=0\n",
    "for i in contract_GPE_onto :\n",
    "    for j in i:\n",
    "        PL.append(j)\n",
    "for i in contract_GPE_onto:\n",
    "    if i=='[]':\n",
    "        empty=empty+1\n",
    "len(PL), empty"
   ]
  },
  {
   "cell_type": "code",
   "execution_count": 53,
   "id": "d083afd3",
   "metadata": {
    "execution": {
     "iopub.execute_input": "2022-06-29T11:15:17.071655Z",
     "iopub.status.busy": "2022-06-29T11:15:17.070661Z",
     "iopub.status.idle": "2022-06-29T11:15:17.100096Z",
     "shell.execute_reply": "2022-06-29T11:15:17.098937Z"
    },
    "papermill": {
     "duration": 0.066314,
     "end_time": "2022-06-29T11:15:17.102631",
     "exception": false,
     "start_time": "2022-06-29T11:15:17.036317",
     "status": "completed"
    },
    "tags": []
   },
   "outputs": [
    {
     "data": {
      "text/plain": [
       "(60156, 23015)"
      ]
     },
     "execution_count": 53,
     "metadata": {},
     "output_type": "execute_result"
    }
   ],
   "source": [
    "PL=[]\n",
    "empty=0\n",
    "for i in contract_loc_onto :\n",
    "    for j in i:\n",
    "        PL.append(j)\n",
    "for i in contract_loc_onto:\n",
    "    if i=='[]':\n",
    "        empty=empty+1\n",
    "len(PL), empty"
   ]
  },
  {
   "cell_type": "markdown",
   "id": "5f527329",
   "metadata": {
    "papermill": {
     "duration": 0.032665,
     "end_time": "2022-06-29T11:15:17.168486",
     "exception": false,
     "start_time": "2022-06-29T11:15:17.135821",
     "status": "completed"
    },
    "tags": []
   },
   "source": [
    "****"
   ]
  },
  {
   "cell_type": "markdown",
   "id": "47967942",
   "metadata": {
    "papermill": {
     "duration": 0.032485,
     "end_time": "2022-06-29T11:15:17.233912",
     "exception": false,
     "start_time": "2022-06-29T11:15:17.201427",
     "status": "completed"
    },
    "tags": []
   },
   "source": [
    "# Contracts Ner english"
   ]
  },
  {
   "cell_type": "code",
   "execution_count": 54,
   "id": "f7575892",
   "metadata": {
    "execution": {
     "iopub.execute_input": "2022-06-29T11:15:17.302516Z",
     "iopub.status.busy": "2022-06-29T11:15:17.301382Z",
     "iopub.status.idle": "2022-06-29T11:15:17.317904Z",
     "shell.execute_reply": "2022-06-29T11:15:17.316840Z"
    },
    "papermill": {
     "duration": 0.053119,
     "end_time": "2022-06-29T11:15:17.320281",
     "exception": false,
     "start_time": "2022-06-29T11:15:17.267162",
     "status": "completed"
    },
    "tags": []
   },
   "outputs": [
    {
     "data": {
      "text/html": [
       "<div>\n",
       "<style scoped>\n",
       "    .dataframe tbody tr th:only-of-type {\n",
       "        vertical-align: middle;\n",
       "    }\n",
       "\n",
       "    .dataframe tbody tr th {\n",
       "        vertical-align: top;\n",
       "    }\n",
       "\n",
       "    .dataframe thead th {\n",
       "        text-align: right;\n",
       "    }\n",
       "</style>\n",
       "<table border=\"1\" class=\"dataframe\">\n",
       "  <thead>\n",
       "    <tr style=\"text-align: right;\">\n",
       "      <th></th>\n",
       "      <th>contract_text</th>\n",
       "      <th>PERSON-nerenglish</th>\n",
       "      <th>LOC-nerenglish</th>\n",
       "      <th>ORG-nerenglish</th>\n",
       "      <th>Name-nerenglish</th>\n",
       "      <th>Other_name-nerenglish</th>\n",
       "      <th>Name-nerenglarge</th>\n",
       "      <th>LOC-nerenglarge</th>\n",
       "      <th>ORG-nerenglarge</th>\n",
       "      <th>other_namelarge</th>\n",
       "    </tr>\n",
       "  </thead>\n",
       "  <tbody>\n",
       "    <tr>\n",
       "      <th>0</th>\n",
       "      <td>North Carolina This indenture made entered Thi...</td>\n",
       "      <td>['Thos R Underwood', 'Alfred A McKerhan', 'Wm ...</td>\n",
       "      <td>['County of Carteret', 'Shepperd Creek', 'Cree...</td>\n",
       "      <td>[]</td>\n",
       "      <td>['Thos R Underwood', 'Alfred A McKerhan', 'Wm ...</td>\n",
       "      <td>[]</td>\n",
       "      <td>['H.G . Cutler', 'Thos R Underwood', 'Alfred A...</td>\n",
       "      <td>['North Carolina', 'County of Carteret', 'Bogu...</td>\n",
       "      <td>[]</td>\n",
       "      <td>[]</td>\n",
       "    </tr>\n",
       "    <tr>\n",
       "      <th>1</th>\n",
       "      <td>State of North Carolina Currituck County . Thi...</td>\n",
       "      <td>['John B. Etheridge']</td>\n",
       "      <td>['County State', 'Witnesseth', 'County of Curr...</td>\n",
       "      <td>[]</td>\n",
       "      <td>['John B. Etheridge']</td>\n",
       "      <td>[]</td>\n",
       "      <td>['John B. Etheridge', 'Little John Etheridge']</td>\n",
       "      <td>['State of North Carolina', 'Currituck County'...</td>\n",
       "      <td>[]</td>\n",
       "      <td>[]</td>\n",
       "    </tr>\n",
       "    <tr>\n",
       "      <th>2</th>\n",
       "      <td>near Lizzie Etheridges gate , thence South 56 ...</td>\n",
       "      <td>['John B Etheridge', 'Douglas Adam D. Etheridge']</td>\n",
       "      <td>['Red Hill', 'Croatan Sound']</td>\n",
       "      <td>[]</td>\n",
       "      <td>['John B Etheridge', 'Douglas Adam D. Etheridge']</td>\n",
       "      <td>[]</td>\n",
       "      <td>['Little John Etheridge', 'John B Etheridge', ...</td>\n",
       "      <td>['Lizzie Etheridges gate', 'Red Hill', 'Croata...</td>\n",
       "      <td>[]</td>\n",
       "      <td>[]</td>\n",
       "    </tr>\n",
       "    <tr>\n",
       "      <th>3</th>\n",
       "      <td>Copy Agreement of Apprenticeship Bu Mrs. Kate ...</td>\n",
       "      <td>['Kate V.Chamblin']</td>\n",
       "      <td>[]</td>\n",
       "      <td>[]</td>\n",
       "      <td>['Kate V.Chamblin']</td>\n",
       "      <td>[]</td>\n",
       "      <td>['Kate V.Chamblin', '1st', 'Geo . W. Rollins',...</td>\n",
       "      <td>['La', 'Lake Providence Carroll']</td>\n",
       "      <td>['U.S. Army']</td>\n",
       "      <td>[]</td>\n",
       "    </tr>\n",
       "    <tr>\n",
       "      <th>4</th>\n",
       "      <td>Copy Agreement of Apprenticeship . This agreem...</td>\n",
       "      <td>['Kate V. Chambliss', 'Betty Taylor Mary Taylo...</td>\n",
       "      <td>[]</td>\n",
       "      <td>[]</td>\n",
       "      <td>['Kate V. Chambliss', 'Betty Taylor Mary Taylo...</td>\n",
       "      <td>['African']</td>\n",
       "      <td>['Mrs', 'Kate V. Chambliss', 'James Samenett',...</td>\n",
       "      <td>['Carroll Parish', 'New Orleans', 'Louisiana',...</td>\n",
       "      <td>[]</td>\n",
       "      <td>['African']</td>\n",
       "    </tr>\n",
       "  </tbody>\n",
       "</table>\n",
       "</div>"
      ],
      "text/plain": [
       "                                       contract_text  \\\n",
       "0  North Carolina This indenture made entered Thi...   \n",
       "1  State of North Carolina Currituck County . Thi...   \n",
       "2  near Lizzie Etheridges gate , thence South 56 ...   \n",
       "3  Copy Agreement of Apprenticeship Bu Mrs. Kate ...   \n",
       "4  Copy Agreement of Apprenticeship . This agreem...   \n",
       "\n",
       "                                   PERSON-nerenglish  \\\n",
       "0  ['Thos R Underwood', 'Alfred A McKerhan', 'Wm ...   \n",
       "1                              ['John B. Etheridge']   \n",
       "2  ['John B Etheridge', 'Douglas Adam D. Etheridge']   \n",
       "3                                ['Kate V.Chamblin']   \n",
       "4  ['Kate V. Chambliss', 'Betty Taylor Mary Taylo...   \n",
       "\n",
       "                                      LOC-nerenglish ORG-nerenglish  \\\n",
       "0  ['County of Carteret', 'Shepperd Creek', 'Cree...             []   \n",
       "1  ['County State', 'Witnesseth', 'County of Curr...             []   \n",
       "2                      ['Red Hill', 'Croatan Sound']             []   \n",
       "3                                                 []             []   \n",
       "4                                                 []             []   \n",
       "\n",
       "                                     Name-nerenglish Other_name-nerenglish  \\\n",
       "0  ['Thos R Underwood', 'Alfred A McKerhan', 'Wm ...                    []   \n",
       "1                              ['John B. Etheridge']                    []   \n",
       "2  ['John B Etheridge', 'Douglas Adam D. Etheridge']                    []   \n",
       "3                                ['Kate V.Chamblin']                    []   \n",
       "4  ['Kate V. Chambliss', 'Betty Taylor Mary Taylo...           ['African']   \n",
       "\n",
       "                                    Name-nerenglarge  \\\n",
       "0  ['H.G . Cutler', 'Thos R Underwood', 'Alfred A...   \n",
       "1     ['John B. Etheridge', 'Little John Etheridge']   \n",
       "2  ['Little John Etheridge', 'John B Etheridge', ...   \n",
       "3  ['Kate V.Chamblin', '1st', 'Geo . W. Rollins',...   \n",
       "4  ['Mrs', 'Kate V. Chambliss', 'James Samenett',...   \n",
       "\n",
       "                                     LOC-nerenglarge ORG-nerenglarge  \\\n",
       "0  ['North Carolina', 'County of Carteret', 'Bogu...              []   \n",
       "1  ['State of North Carolina', 'Currituck County'...              []   \n",
       "2  ['Lizzie Etheridges gate', 'Red Hill', 'Croata...              []   \n",
       "3                  ['La', 'Lake Providence Carroll']   ['U.S. Army']   \n",
       "4  ['Carroll Parish', 'New Orleans', 'Louisiana',...              []   \n",
       "\n",
       "  other_namelarge  \n",
       "0              []  \n",
       "1              []  \n",
       "2              []  \n",
       "3              []  \n",
       "4     ['African']  "
      ]
     },
     "execution_count": 54,
     "metadata": {},
     "output_type": "execute_result"
    }
   ],
   "source": [
    "contract_ent.head()"
   ]
  },
  {
   "cell_type": "code",
   "execution_count": 55,
   "id": "c6983e38",
   "metadata": {
    "execution": {
     "iopub.execute_input": "2022-06-29T11:15:17.390633Z",
     "iopub.status.busy": "2022-06-29T11:15:17.389877Z",
     "iopub.status.idle": "2022-06-29T11:15:17.395477Z",
     "shell.execute_reply": "2022-06-29T11:15:17.394805Z"
    },
    "papermill": {
     "duration": 0.042965,
     "end_time": "2022-06-29T11:15:17.397551",
     "exception": false,
     "start_time": "2022-06-29T11:15:17.354586",
     "status": "completed"
    },
    "tags": []
   },
   "outputs": [],
   "source": [
    "contract_Per_ner=contract_ent[\"PERSON-nerenglish\"]\n",
    "contract_loc_ner=contract_ent[\"LOC-nerenglish\"]\n",
    "contract_ORG_ner=contract_ent[\"ORG-nerenglish\"]\n",
    "contract_other_ner=contract_ent[\"Other_name-nerenglish\"]"
   ]
  },
  {
   "cell_type": "code",
   "execution_count": 56,
   "id": "154fc493",
   "metadata": {
    "execution": {
     "iopub.execute_input": "2022-06-29T11:15:17.465944Z",
     "iopub.status.busy": "2022-06-29T11:15:17.465214Z",
     "iopub.status.idle": "2022-06-29T11:15:17.471756Z",
     "shell.execute_reply": "2022-06-29T11:15:17.470964Z"
    },
    "papermill": {
     "duration": 0.043159,
     "end_time": "2022-06-29T11:15:17.473791",
     "exception": false,
     "start_time": "2022-06-29T11:15:17.430632",
     "status": "completed"
    },
    "tags": []
   },
   "outputs": [
    {
     "data": {
      "text/plain": [
       "'AGREEMENT FOR LABOR . THIS INDENTURE , Made entered day of A.D , 186 , of County of State of North Carolina , of first part , undersigned , Free Laborer , of second part : WITNESSETH , That said Laborers agreed work said date day of 186 186 ; kinds of work common farms of country ; work faithfully , respectful deportment . And agree , receive every month , amount placed opposite names , rest end of year ; amount retained shall forfeited violation of contract clearly proven . And agree , time lost idleness absence without leave , shall paid . And said agreed furnish said laborers comfortable quarters , sufficient rations , amount of money per month , stands opposite respective names ; treat kindly , encourage establishment of schools children . Henry Pearce No . NAME . Age . Wages . DOLLS . CTS . Monthly Paymt . DOLLS . CTS . Henry Pearce Tho H Hay Assist . Supt . Bureau R. F. A. L. , SubDistrict of'"
      ]
     },
     "execution_count": 56,
     "metadata": {},
     "output_type": "execute_result"
    }
   ],
   "source": [
    "contract_text[1000]"
   ]
  },
  {
   "cell_type": "code",
   "execution_count": 57,
   "id": "cca88118",
   "metadata": {
    "execution": {
     "iopub.execute_input": "2022-06-29T11:15:17.542665Z",
     "iopub.status.busy": "2022-06-29T11:15:17.541901Z",
     "iopub.status.idle": "2022-06-29T11:15:17.548488Z",
     "shell.execute_reply": "2022-06-29T11:15:17.547700Z"
    },
    "papermill": {
     "duration": 0.043315,
     "end_time": "2022-06-29T11:15:17.550566",
     "exception": false,
     "start_time": "2022-06-29T11:15:17.507251",
     "status": "completed"
    },
    "tags": []
   },
   "outputs": [
    {
     "data": {
      "text/plain": [
       "\"['Henry Pearce']\""
      ]
     },
     "execution_count": 57,
     "metadata": {},
     "output_type": "execute_result"
    }
   ],
   "source": [
    "contract_Per_ner[1000]"
   ]
  },
  {
   "cell_type": "code",
   "execution_count": 58,
   "id": "8e8c2519",
   "metadata": {
    "execution": {
     "iopub.execute_input": "2022-06-29T11:15:17.619939Z",
     "iopub.status.busy": "2022-06-29T11:15:17.619198Z",
     "iopub.status.idle": "2022-06-29T11:15:17.625908Z",
     "shell.execute_reply": "2022-06-29T11:15:17.625084Z"
    },
    "papermill": {
     "duration": 0.043875,
     "end_time": "2022-06-29T11:15:17.628139",
     "exception": false,
     "start_time": "2022-06-29T11:15:17.584264",
     "status": "completed"
    },
    "tags": []
   },
   "outputs": [
    {
     "data": {
      "text/plain": [
       "'[]'"
      ]
     },
     "execution_count": 58,
     "metadata": {},
     "output_type": "execute_result"
    }
   ],
   "source": [
    "contract_loc_ner[1000]"
   ]
  },
  {
   "cell_type": "code",
   "execution_count": 59,
   "id": "56897e29",
   "metadata": {
    "execution": {
     "iopub.execute_input": "2022-06-29T11:15:17.698509Z",
     "iopub.status.busy": "2022-06-29T11:15:17.698124Z",
     "iopub.status.idle": "2022-06-29T11:15:17.704519Z",
     "shell.execute_reply": "2022-06-29T11:15:17.703476Z"
    },
    "papermill": {
     "duration": 0.044721,
     "end_time": "2022-06-29T11:15:17.706645",
     "exception": false,
     "start_time": "2022-06-29T11:15:17.661924",
     "status": "completed"
    },
    "tags": []
   },
   "outputs": [
    {
     "data": {
      "text/plain": [
       "\"['Henry Pearce Tho H Hay Assist']\""
      ]
     },
     "execution_count": 59,
     "metadata": {},
     "output_type": "execute_result"
    }
   ],
   "source": [
    "contract_ORG_ner[1000]"
   ]
  },
  {
   "cell_type": "code",
   "execution_count": 60,
   "id": "0ab59c4d",
   "metadata": {
    "execution": {
     "iopub.execute_input": "2022-06-29T11:15:17.780082Z",
     "iopub.status.busy": "2022-06-29T11:15:17.779315Z",
     "iopub.status.idle": "2022-06-29T11:15:17.785994Z",
     "shell.execute_reply": "2022-06-29T11:15:17.785215Z"
    },
    "papermill": {
     "duration": 0.046233,
     "end_time": "2022-06-29T11:15:17.788149",
     "exception": false,
     "start_time": "2022-06-29T11:15:17.741916",
     "status": "completed"
    },
    "tags": []
   },
   "outputs": [
    {
     "data": {
      "text/plain": [
       "'[]'"
      ]
     },
     "execution_count": 60,
     "metadata": {},
     "output_type": "execute_result"
    }
   ],
   "source": [
    "contract_other_ner[1000]"
   ]
  },
  {
   "cell_type": "markdown",
   "id": "6458185a",
   "metadata": {
    "papermill": {
     "duration": 0.034126,
     "end_time": "2022-06-29T11:15:17.856519",
     "exception": false,
     "start_time": "2022-06-29T11:15:17.822393",
     "status": "completed"
    },
    "tags": []
   },
   "source": [
    "**not bad but ontonotes still better**"
   ]
  },
  {
   "cell_type": "code",
   "execution_count": 61,
   "id": "9889d142",
   "metadata": {
    "execution": {
     "iopub.execute_input": "2022-06-29T11:15:17.990233Z",
     "iopub.status.busy": "2022-06-29T11:15:17.989478Z",
     "iopub.status.idle": "2022-06-29T11:15:18.101537Z",
     "shell.execute_reply": "2022-06-29T11:15:18.100440Z"
    },
    "papermill": {
     "duration": 0.149961,
     "end_time": "2022-06-29T11:15:18.103839",
     "exception": false,
     "start_time": "2022-06-29T11:15:17.953878",
     "status": "completed"
    },
    "tags": []
   },
   "outputs": [
    {
     "data": {
      "text/plain": [
       "(790998, 7423)"
      ]
     },
     "execution_count": 61,
     "metadata": {},
     "output_type": "execute_result"
    }
   ],
   "source": [
    "PL=[]\n",
    "empty=0\n",
    "for i in contract_Per_ner :\n",
    "    for j in i:\n",
    "        PL.append(j)\n",
    "for i in contract_Per_ner:\n",
    "    if i=='[]':\n",
    "        empty=empty+1\n",
    "len(PL), empty"
   ]
  },
  {
   "cell_type": "markdown",
   "id": "0b98b844",
   "metadata": {
    "papermill": {
     "duration": 0.035006,
     "end_time": "2022-06-29T11:15:18.173151",
     "exception": false,
     "start_time": "2022-06-29T11:15:18.138145",
     "status": "completed"
    },
    "tags": []
   },
   "source": [
    "****"
   ]
  },
  {
   "cell_type": "code",
   "execution_count": 62,
   "id": "9105137c",
   "metadata": {
    "execution": {
     "iopub.execute_input": "2022-06-29T11:15:18.244717Z",
     "iopub.status.busy": "2022-06-29T11:15:18.243916Z",
     "iopub.status.idle": "2022-06-29T11:15:18.259869Z",
     "shell.execute_reply": "2022-06-29T11:15:18.258771Z"
    },
    "papermill": {
     "duration": 0.054457,
     "end_time": "2022-06-29T11:15:18.262216",
     "exception": false,
     "start_time": "2022-06-29T11:15:18.207759",
     "status": "completed"
    },
    "tags": []
   },
   "outputs": [
    {
     "data": {
      "text/html": [
       "<div>\n",
       "<style scoped>\n",
       "    .dataframe tbody tr th:only-of-type {\n",
       "        vertical-align: middle;\n",
       "    }\n",
       "\n",
       "    .dataframe tbody tr th {\n",
       "        vertical-align: top;\n",
       "    }\n",
       "\n",
       "    .dataframe thead th {\n",
       "        text-align: right;\n",
       "    }\n",
       "</style>\n",
       "<table border=\"1\" class=\"dataframe\">\n",
       "  <thead>\n",
       "    <tr style=\"text-align: right;\">\n",
       "      <th></th>\n",
       "      <th>contract_text</th>\n",
       "      <th>PERSON-nerenglish</th>\n",
       "      <th>LOC-nerenglish</th>\n",
       "      <th>ORG-nerenglish</th>\n",
       "      <th>Name-nerenglish</th>\n",
       "      <th>Other_name-nerenglish</th>\n",
       "      <th>Name-nerenglarge</th>\n",
       "      <th>LOC-nerenglarge</th>\n",
       "      <th>ORG-nerenglarge</th>\n",
       "      <th>other_namelarge</th>\n",
       "    </tr>\n",
       "  </thead>\n",
       "  <tbody>\n",
       "    <tr>\n",
       "      <th>0</th>\n",
       "      <td>North Carolina This indenture made entered Thi...</td>\n",
       "      <td>['Thos R Underwood', 'Alfred A McKerhan', 'Wm ...</td>\n",
       "      <td>['County of Carteret', 'Shepperd Creek', 'Cree...</td>\n",
       "      <td>[]</td>\n",
       "      <td>['Thos R Underwood', 'Alfred A McKerhan', 'Wm ...</td>\n",
       "      <td>[]</td>\n",
       "      <td>['H.G . Cutler', 'Thos R Underwood', 'Alfred A...</td>\n",
       "      <td>['North Carolina', 'County of Carteret', 'Bogu...</td>\n",
       "      <td>[]</td>\n",
       "      <td>[]</td>\n",
       "    </tr>\n",
       "    <tr>\n",
       "      <th>1</th>\n",
       "      <td>State of North Carolina Currituck County . Thi...</td>\n",
       "      <td>['John B. Etheridge']</td>\n",
       "      <td>['County State', 'Witnesseth', 'County of Curr...</td>\n",
       "      <td>[]</td>\n",
       "      <td>['John B. Etheridge']</td>\n",
       "      <td>[]</td>\n",
       "      <td>['John B. Etheridge', 'Little John Etheridge']</td>\n",
       "      <td>['State of North Carolina', 'Currituck County'...</td>\n",
       "      <td>[]</td>\n",
       "      <td>[]</td>\n",
       "    </tr>\n",
       "    <tr>\n",
       "      <th>2</th>\n",
       "      <td>near Lizzie Etheridges gate , thence South 56 ...</td>\n",
       "      <td>['John B Etheridge', 'Douglas Adam D. Etheridge']</td>\n",
       "      <td>['Red Hill', 'Croatan Sound']</td>\n",
       "      <td>[]</td>\n",
       "      <td>['John B Etheridge', 'Douglas Adam D. Etheridge']</td>\n",
       "      <td>[]</td>\n",
       "      <td>['Little John Etheridge', 'John B Etheridge', ...</td>\n",
       "      <td>['Lizzie Etheridges gate', 'Red Hill', 'Croata...</td>\n",
       "      <td>[]</td>\n",
       "      <td>[]</td>\n",
       "    </tr>\n",
       "    <tr>\n",
       "      <th>3</th>\n",
       "      <td>Copy Agreement of Apprenticeship Bu Mrs. Kate ...</td>\n",
       "      <td>['Kate V.Chamblin']</td>\n",
       "      <td>[]</td>\n",
       "      <td>[]</td>\n",
       "      <td>['Kate V.Chamblin']</td>\n",
       "      <td>[]</td>\n",
       "      <td>['Kate V.Chamblin', '1st', 'Geo . W. Rollins',...</td>\n",
       "      <td>['La', 'Lake Providence Carroll']</td>\n",
       "      <td>['U.S. Army']</td>\n",
       "      <td>[]</td>\n",
       "    </tr>\n",
       "    <tr>\n",
       "      <th>4</th>\n",
       "      <td>Copy Agreement of Apprenticeship . This agreem...</td>\n",
       "      <td>['Kate V. Chambliss', 'Betty Taylor Mary Taylo...</td>\n",
       "      <td>[]</td>\n",
       "      <td>[]</td>\n",
       "      <td>['Kate V. Chambliss', 'Betty Taylor Mary Taylo...</td>\n",
       "      <td>['African']</td>\n",
       "      <td>['Mrs', 'Kate V. Chambliss', 'James Samenett',...</td>\n",
       "      <td>['Carroll Parish', 'New Orleans', 'Louisiana',...</td>\n",
       "      <td>[]</td>\n",
       "      <td>['African']</td>\n",
       "    </tr>\n",
       "  </tbody>\n",
       "</table>\n",
       "</div>"
      ],
      "text/plain": [
       "                                       contract_text  \\\n",
       "0  North Carolina This indenture made entered Thi...   \n",
       "1  State of North Carolina Currituck County . Thi...   \n",
       "2  near Lizzie Etheridges gate , thence South 56 ...   \n",
       "3  Copy Agreement of Apprenticeship Bu Mrs. Kate ...   \n",
       "4  Copy Agreement of Apprenticeship . This agreem...   \n",
       "\n",
       "                                   PERSON-nerenglish  \\\n",
       "0  ['Thos R Underwood', 'Alfred A McKerhan', 'Wm ...   \n",
       "1                              ['John B. Etheridge']   \n",
       "2  ['John B Etheridge', 'Douglas Adam D. Etheridge']   \n",
       "3                                ['Kate V.Chamblin']   \n",
       "4  ['Kate V. Chambliss', 'Betty Taylor Mary Taylo...   \n",
       "\n",
       "                                      LOC-nerenglish ORG-nerenglish  \\\n",
       "0  ['County of Carteret', 'Shepperd Creek', 'Cree...             []   \n",
       "1  ['County State', 'Witnesseth', 'County of Curr...             []   \n",
       "2                      ['Red Hill', 'Croatan Sound']             []   \n",
       "3                                                 []             []   \n",
       "4                                                 []             []   \n",
       "\n",
       "                                     Name-nerenglish Other_name-nerenglish  \\\n",
       "0  ['Thos R Underwood', 'Alfred A McKerhan', 'Wm ...                    []   \n",
       "1                              ['John B. Etheridge']                    []   \n",
       "2  ['John B Etheridge', 'Douglas Adam D. Etheridge']                    []   \n",
       "3                                ['Kate V.Chamblin']                    []   \n",
       "4  ['Kate V. Chambliss', 'Betty Taylor Mary Taylo...           ['African']   \n",
       "\n",
       "                                    Name-nerenglarge  \\\n",
       "0  ['H.G . Cutler', 'Thos R Underwood', 'Alfred A...   \n",
       "1     ['John B. Etheridge', 'Little John Etheridge']   \n",
       "2  ['Little John Etheridge', 'John B Etheridge', ...   \n",
       "3  ['Kate V.Chamblin', '1st', 'Geo . W. Rollins',...   \n",
       "4  ['Mrs', 'Kate V. Chambliss', 'James Samenett',...   \n",
       "\n",
       "                                     LOC-nerenglarge ORG-nerenglarge  \\\n",
       "0  ['North Carolina', 'County of Carteret', 'Bogu...              []   \n",
       "1  ['State of North Carolina', 'Currituck County'...              []   \n",
       "2  ['Lizzie Etheridges gate', 'Red Hill', 'Croata...              []   \n",
       "3                  ['La', 'Lake Providence Carroll']   ['U.S. Army']   \n",
       "4  ['Carroll Parish', 'New Orleans', 'Louisiana',...              []   \n",
       "\n",
       "  other_namelarge  \n",
       "0              []  \n",
       "1              []  \n",
       "2              []  \n",
       "3              []  \n",
       "4     ['African']  "
      ]
     },
     "execution_count": 62,
     "metadata": {},
     "output_type": "execute_result"
    }
   ],
   "source": [
    "contract_ent.head()"
   ]
  },
  {
   "cell_type": "code",
   "execution_count": 63,
   "id": "27df9bc3",
   "metadata": {
    "execution": {
     "iopub.execute_input": "2022-06-29T11:15:18.334456Z",
     "iopub.status.busy": "2022-06-29T11:15:18.333677Z",
     "iopub.status.idle": "2022-06-29T11:15:18.339557Z",
     "shell.execute_reply": "2022-06-29T11:15:18.338732Z"
    },
    "papermill": {
     "duration": 0.044633,
     "end_time": "2022-06-29T11:15:18.341808",
     "exception": false,
     "start_time": "2022-06-29T11:15:18.297175",
     "status": "completed"
    },
    "tags": []
   },
   "outputs": [],
   "source": [
    "contract_Per_large=contract_ent[\"Name-nerenglarge\"]\n",
    "contract_loc_large=contract_ent[\"LOC-nerenglarge\"]\n",
    "contract_ORG_large=contract_ent[\"ORG-nerenglarge\"]\n",
    "contract_other_large=contract_ent[\"other_namelarge\"]"
   ]
  },
  {
   "cell_type": "code",
   "execution_count": 64,
   "id": "753a7ad6",
   "metadata": {
    "execution": {
     "iopub.execute_input": "2022-06-29T11:15:18.414532Z",
     "iopub.status.busy": "2022-06-29T11:15:18.413760Z",
     "iopub.status.idle": "2022-06-29T11:15:18.420390Z",
     "shell.execute_reply": "2022-06-29T11:15:18.419535Z"
    },
    "papermill": {
     "duration": 0.044842,
     "end_time": "2022-06-29T11:15:18.422485",
     "exception": false,
     "start_time": "2022-06-29T11:15:18.377643",
     "status": "completed"
    },
    "tags": []
   },
   "outputs": [
    {
     "data": {
      "text/plain": [
       "'North Carolina This indenture made entered This 5th day of November 1853 . By H.G . Cutler of County of Carteret of first part Thos R Underwood , Alfred A McKerhan , Wm H Washington , Geo . S Stevenson , John D Williams Nathan A Stedman of second part . Whereas parties of Second part divers others associates purchased of said H. G. Cutler , tract of land situated County of Carteret bounded described follows ; beginning Stake North side of Bogue Sound running thence westwardly various corners of sound , five hundred ten poles Straight . Thence N. 13.0 E. 203 poles , thence East 209 poles , south 4 poles , thence North 85 , E. 116 poles , thence W. 20.0 W. 96 poles , thence N 45.0 E. 21 12 poles thence E. 29 12 poles , thence S. 83.0 E. 220 poles , thence South 5.0 W. Shepperd Creek thence Westerly said Creek South West Corner of tract of land converged said Cutler John Sabuton Then S 50 West along Sabutons West line beginning , containing Estimation Nine hundred four acres survey of said land made William H Marshall hereunto attached Marked A. land said'"
      ]
     },
     "execution_count": 64,
     "metadata": {},
     "output_type": "execute_result"
    }
   ],
   "source": [
    "contract_text[0]"
   ]
  },
  {
   "cell_type": "code",
   "execution_count": 65,
   "id": "44b2519b",
   "metadata": {
    "execution": {
     "iopub.execute_input": "2022-06-29T11:15:18.494251Z",
     "iopub.status.busy": "2022-06-29T11:15:18.493496Z",
     "iopub.status.idle": "2022-06-29T11:15:18.500098Z",
     "shell.execute_reply": "2022-06-29T11:15:18.499240Z"
    },
    "papermill": {
     "duration": 0.044956,
     "end_time": "2022-06-29T11:15:18.502172",
     "exception": false,
     "start_time": "2022-06-29T11:15:18.457216",
     "status": "completed"
    },
    "tags": []
   },
   "outputs": [
    {
     "data": {
      "text/plain": [
       "\"['H.G . Cutler', 'Thos R Underwood', 'Alfred A McKerhan', 'Wm H Washington', 'Geo . S Stevenson', 'John D Williams', 'Nathan A Stedman', 'H . G. Cutler', 'Cutler John Sabuton', 'William H Marshall']\""
      ]
     },
     "execution_count": 65,
     "metadata": {},
     "output_type": "execute_result"
    }
   ],
   "source": [
    "contract_Per_large[0]"
   ]
  },
  {
   "cell_type": "code",
   "execution_count": 66,
   "id": "3ab5e9e2",
   "metadata": {
    "execution": {
     "iopub.execute_input": "2022-06-29T11:15:18.576171Z",
     "iopub.status.busy": "2022-06-29T11:15:18.575773Z",
     "iopub.status.idle": "2022-06-29T11:15:18.582779Z",
     "shell.execute_reply": "2022-06-29T11:15:18.581624Z"
    },
    "papermill": {
     "duration": 0.046909,
     "end_time": "2022-06-29T11:15:18.585186",
     "exception": false,
     "start_time": "2022-06-29T11:15:18.538277",
     "status": "completed"
    },
    "tags": []
   },
   "outputs": [
    {
     "data": {
      "text/plain": [
       "\"['North Carolina', 'County of Carteret', 'Bogue Sound', 'Shepperd Creek', 'Westerly', 'Sabutons West']\""
      ]
     },
     "execution_count": 66,
     "metadata": {},
     "output_type": "execute_result"
    }
   ],
   "source": [
    "contract_loc_large[0]"
   ]
  },
  {
   "cell_type": "code",
   "execution_count": 67,
   "id": "0fc9fe73",
   "metadata": {
    "execution": {
     "iopub.execute_input": "2022-06-29T11:15:18.659393Z",
     "iopub.status.busy": "2022-06-29T11:15:18.658429Z",
     "iopub.status.idle": "2022-06-29T11:15:18.665361Z",
     "shell.execute_reply": "2022-06-29T11:15:18.664521Z"
    },
    "papermill": {
     "duration": 0.046136,
     "end_time": "2022-06-29T11:15:18.667528",
     "exception": false,
     "start_time": "2022-06-29T11:15:18.621392",
     "status": "completed"
    },
    "tags": []
   },
   "outputs": [
    {
     "data": {
      "text/plain": [
       "'[]'"
      ]
     },
     "execution_count": 67,
     "metadata": {},
     "output_type": "execute_result"
    }
   ],
   "source": [
    "contract_ORG_large[0]"
   ]
  },
  {
   "cell_type": "code",
   "execution_count": 68,
   "id": "513eb9a5",
   "metadata": {
    "execution": {
     "iopub.execute_input": "2022-06-29T11:15:18.743065Z",
     "iopub.status.busy": "2022-06-29T11:15:18.742305Z",
     "iopub.status.idle": "2022-06-29T11:15:18.748865Z",
     "shell.execute_reply": "2022-06-29T11:15:18.748095Z"
    },
    "papermill": {
     "duration": 0.046437,
     "end_time": "2022-06-29T11:15:18.751079",
     "exception": false,
     "start_time": "2022-06-29T11:15:18.704642",
     "status": "completed"
    },
    "tags": []
   },
   "outputs": [
    {
     "data": {
      "text/plain": [
       "'[]'"
      ]
     },
     "execution_count": 68,
     "metadata": {},
     "output_type": "execute_result"
    }
   ],
   "source": [
    "contract_other_large[0]"
   ]
  },
  {
   "cell_type": "code",
   "execution_count": 69,
   "id": "e337f094",
   "metadata": {
    "execution": {
     "iopub.execute_input": "2022-06-29T11:15:18.825575Z",
     "iopub.status.busy": "2022-06-29T11:15:18.824805Z",
     "iopub.status.idle": "2022-06-29T11:15:19.047315Z",
     "shell.execute_reply": "2022-06-29T11:15:19.046067Z"
    },
    "papermill": {
     "duration": 0.263204,
     "end_time": "2022-06-29T11:15:19.049727",
     "exception": false,
     "start_time": "2022-06-29T11:15:18.786523",
     "status": "completed"
    },
    "tags": []
   },
   "outputs": [
    {
     "data": {
      "text/plain": [
       "(1717997, 3532)"
      ]
     },
     "execution_count": 69,
     "metadata": {},
     "output_type": "execute_result"
    }
   ],
   "source": [
    "PL=[]\n",
    "empty=0\n",
    "for i in contract_Per_large :\n",
    "    for j in i:\n",
    "        PL.append(j)\n",
    "for i in contract_Per_large:\n",
    "    if i=='[]':\n",
    "        empty=empty+1\n",
    "len(PL), empty"
   ]
  },
  {
   "cell_type": "markdown",
   "id": "19198000",
   "metadata": {
    "papermill": {
     "duration": 0.035999,
     "end_time": "2022-06-29T11:15:19.121945",
     "exception": false,
     "start_time": "2022-06-29T11:15:19.085946",
     "status": "completed"
    },
    "tags": []
   },
   "source": [
    "# the better one as usuall "
   ]
  },
  {
   "cell_type": "markdown",
   "id": "b7d186a9",
   "metadata": {
    "papermill": {
     "duration": 0.035312,
     "end_time": "2022-06-29T11:15:19.192808",
     "exception": false,
     "start_time": "2022-06-29T11:15:19.157496",
     "status": "completed"
    },
    "tags": []
   },
   "source": [
    "****"
   ]
  },
  {
   "cell_type": "markdown",
   "id": "83fea74f",
   "metadata": {
    "papermill": {
     "duration": 0.043841,
     "end_time": "2022-06-29T11:15:19.274457",
     "exception": false,
     "start_time": "2022-06-29T11:15:19.230616",
     "status": "completed"
    },
    "tags": []
   },
   "source": [
    "# Records Financial"
   ]
  },
  {
   "cell_type": "code",
   "execution_count": 70,
   "id": "8775bdee",
   "metadata": {
    "execution": {
     "iopub.execute_input": "2022-06-29T11:15:19.355886Z",
     "iopub.status.busy": "2022-06-29T11:15:19.355420Z",
     "iopub.status.idle": "2022-06-29T11:15:19.431338Z",
     "shell.execute_reply": "2022-06-29T11:15:19.430478Z"
    },
    "papermill": {
     "duration": 0.12224,
     "end_time": "2022-06-29T11:15:19.434486",
     "exception": false,
     "start_time": "2022-06-29T11:15:19.312246",
     "status": "completed"
    },
    "tags": []
   },
   "outputs": [],
   "source": [
    "recordF_ent=pd.read_csv(\"../input/all-csv/to_compare_result_recordF.csv\")"
   ]
  },
  {
   "cell_type": "code",
   "execution_count": 71,
   "id": "63a49a1b",
   "metadata": {
    "execution": {
     "iopub.execute_input": "2022-06-29T11:15:19.532259Z",
     "iopub.status.busy": "2022-06-29T11:15:19.531197Z",
     "iopub.status.idle": "2022-06-29T11:15:19.556965Z",
     "shell.execute_reply": "2022-06-29T11:15:19.555748Z"
    },
    "papermill": {
     "duration": 0.076203,
     "end_time": "2022-06-29T11:15:19.559411",
     "exception": false,
     "start_time": "2022-06-29T11:15:19.483208",
     "status": "completed"
    },
    "tags": []
   },
   "outputs": [
    {
     "data": {
      "text/html": [
       "<div>\n",
       "<style scoped>\n",
       "    .dataframe tbody tr th:only-of-type {\n",
       "        vertical-align: middle;\n",
       "    }\n",
       "\n",
       "    .dataframe tbody tr th {\n",
       "        vertical-align: top;\n",
       "    }\n",
       "\n",
       "    .dataframe thead th {\n",
       "        text-align: right;\n",
       "    }\n",
       "</style>\n",
       "<table border=\"1\" class=\"dataframe\">\n",
       "  <thead>\n",
       "    <tr style=\"text-align: right;\">\n",
       "      <th></th>\n",
       "      <th>recordF_text</th>\n",
       "      <th>Name-ontonotes</th>\n",
       "      <th>GPE-ontonotes</th>\n",
       "      <th>ORG-ontonotes</th>\n",
       "      <th>Date-ontonotes</th>\n",
       "      <th>LOC-ontonotes</th>\n",
       "      <th>Building-ontonotes</th>\n",
       "      <th>Cardinal-ontonotes</th>\n",
       "      <th>postDate-ontonotes</th>\n",
       "      <th>standard_date-ontonotes</th>\n",
       "      <th>Name-nerenglarge</th>\n",
       "      <th>LOC-nerenglarge</th>\n",
       "      <th>ORG-nerenglarge</th>\n",
       "      <th>other_namelarge</th>\n",
       "      <th>PERSON-nerenglish</th>\n",
       "      <th>LOC-nerenglish</th>\n",
       "      <th>ORG-nerenglish</th>\n",
       "      <th>Other_name-nerenglish</th>\n",
       "    </tr>\n",
       "  </thead>\n",
       "  <tbody>\n",
       "    <tr>\n",
       "      <th>0</th>\n",
       "      <td>Quarter ending March 31st 1866 Justin Hodge Ca...</td>\n",
       "      <td>['Justin Hodge', 'Henry Swim', 'JC Barnett', '...</td>\n",
       "      <td>['Nottsburg', 'Salisbury']</td>\n",
       "      <td>['US Treasury']</td>\n",
       "      <td>['Quarter ending March 31st 1866', 'Dec 18', '...</td>\n",
       "      <td>[]</td>\n",
       "      <td>[]</td>\n",
       "      <td>['One']</td>\n",
       "      <td>['31-Quarter ending March-1866', 'Quarter-Marc...</td>\n",
       "      <td>['Quarter-March-1866']</td>\n",
       "      <td>['Justin Hodge', 'Henry Swim', 'Wm B Meins', '...</td>\n",
       "      <td>['Dist West', 'N.Ca', 'Greensboro N.C', 'Notts...</td>\n",
       "      <td>['A.Q.M . Financial Agent Bureau', 'Fines', 'A...</td>\n",
       "      <td>[]</td>\n",
       "      <td>['Jacob Bodecker', 'Justin Hodge']</td>\n",
       "      <td>[]</td>\n",
       "      <td>[]</td>\n",
       "      <td>[]</td>\n",
       "    </tr>\n",
       "  </tbody>\n",
       "</table>\n",
       "</div>"
      ],
      "text/plain": [
       "                                        recordF_text  \\\n",
       "0  Quarter ending March 31st 1866 Justin Hodge Ca...   \n",
       "\n",
       "                                      Name-ontonotes  \\\n",
       "0  ['Justin Hodge', 'Henry Swim', 'JC Barnett', '...   \n",
       "\n",
       "                GPE-ontonotes    ORG-ontonotes  \\\n",
       "0  ['Nottsburg', 'Salisbury']  ['US Treasury']   \n",
       "\n",
       "                                      Date-ontonotes LOC-ontonotes  \\\n",
       "0  ['Quarter ending March 31st 1866', 'Dec 18', '...            []   \n",
       "\n",
       "  Building-ontonotes Cardinal-ontonotes  \\\n",
       "0                 []            ['One']   \n",
       "\n",
       "                                  postDate-ontonotes standard_date-ontonotes  \\\n",
       "0  ['31-Quarter ending March-1866', 'Quarter-Marc...  ['Quarter-March-1866']   \n",
       "\n",
       "                                    Name-nerenglarge  \\\n",
       "0  ['Justin Hodge', 'Henry Swim', 'Wm B Meins', '...   \n",
       "\n",
       "                                     LOC-nerenglarge  \\\n",
       "0  ['Dist West', 'N.Ca', 'Greensboro N.C', 'Notts...   \n",
       "\n",
       "                                     ORG-nerenglarge other_namelarge  \\\n",
       "0  ['A.Q.M . Financial Agent Bureau', 'Fines', 'A...              []   \n",
       "\n",
       "                    PERSON-nerenglish LOC-nerenglish ORG-nerenglish  \\\n",
       "0  ['Jacob Bodecker', 'Justin Hodge']             []             []   \n",
       "\n",
       "  Other_name-nerenglish  \n",
       "0                    []  "
      ]
     },
     "execution_count": 71,
     "metadata": {},
     "output_type": "execute_result"
    }
   ],
   "source": [
    "recordF_ent.head(1)"
   ]
  },
  {
   "cell_type": "code",
   "execution_count": 72,
   "id": "e843208a",
   "metadata": {
    "execution": {
     "iopub.execute_input": "2022-06-29T11:15:19.639886Z",
     "iopub.status.busy": "2022-06-29T11:15:19.637646Z",
     "iopub.status.idle": "2022-06-29T11:15:19.654773Z",
     "shell.execute_reply": "2022-06-29T11:15:19.653992Z"
    },
    "papermill": {
     "duration": 0.057323,
     "end_time": "2022-06-29T11:15:19.657005",
     "exception": false,
     "start_time": "2022-06-29T11:15:19.599682",
     "status": "completed"
    },
    "tags": []
   },
   "outputs": [],
   "source": [
    "recordF_text=recordF_ent[\"recordF_text\"]\n",
    "recordF_Per_onto=recordF_ent[\"Name-ontonotes\"]\n",
    "recordF_GPE_onto=recordF_ent[\"GPE-ontonotes\"]\n",
    "recordF_ORG_onto=recordF_ent[\"ORG-ontonotes\"]\n",
    "recordF_date_onto=recordF_ent[\"standard_date-ontonotes\"]\n",
    "recordF_loc_onto=recordF_ent[\"LOC-ontonotes\"]\n",
    "recordF_cardinal=recordF_ent[\"Cardinal-ontonotes\"]"
   ]
  },
  {
   "cell_type": "code",
   "execution_count": 73,
   "id": "3d226261",
   "metadata": {
    "execution": {
     "iopub.execute_input": "2022-06-29T11:15:19.733128Z",
     "iopub.status.busy": "2022-06-29T11:15:19.731823Z",
     "iopub.status.idle": "2022-06-29T11:15:19.739219Z",
     "shell.execute_reply": "2022-06-29T11:15:19.738281Z"
    },
    "papermill": {
     "duration": 0.048273,
     "end_time": "2022-06-29T11:15:19.741340",
     "exception": false,
     "start_time": "2022-06-29T11:15:19.693067",
     "status": "completed"
    },
    "tags": []
   },
   "outputs": [
    {
     "data": {
      "text/plain": [
       "'Hugh To amount brought forward 60.96 May 19 1 mug 25.2 mackerel 15 1 qt . Brandy 1.35 1.80 May 21 3 lbs Copperas 10 Box blacking 10 .40 May 22 1 Doz Herring 50 . 23rd . 1 12 qts . brandy 1.25 2.37 May 26 12 doz . Herring 50 Jun 23rd Brandy 1.3 .88 June 3 2 cotton Hdkfs .60 1.20 June 9 2 Home made Cotton Shirts 2.00 4.00 June 2 pr . Country made pants 2.50 5.00 June 1 12 doz . Buttons 10 1 qt Brandy 1.25 1.40 June 15 1 cups saucers 1.25 1.25 June 16 1 pr . Cotton Stockings 75 75 June 21 1 lb Sugar 18 2 lb Adam T. Candles 50 43 June 22 12 Gallon Brandy 5.00 2.50 June 1 Cotton Hdkfs 40 40 June 25 1 Pocket Knife 6 2 Spools thread 15 1.30 June 1 yd . Calico 25 25 June 29 1 quart Whiskey 1.25 1.25 July 7 12 Gallon Do 5.00 2.50 July 7 1 Pad Lock 37 2 1 lb . Sugar 18 55 July 13 12 lb . Adm. Candles 50 1 lb . Nails 10 35 July 1 Box Matches 5 25 lb . 2 qts . Whiskey 1.25 2.55 July 28 1 quart Brandy 1.25 1.25 Augt . 3 3¼ yds . Capeniars 1.50 4.87 Augt . 3 1 Bunch hemp Thread 10 1 doz P. Buttons 10 20 Augt . 6 part whiskey hands 63 Augt . 10 6 yds . Black Cloth 30 spool thread 15 1.95 Augt . Cash paid 2.00 11 lb . 12 Gal . Whiskey 5.00 4.50 Augt . 12 part whiskey hands 62 Augt . 14 5 yards Blchd Cotton Cloth 35 1.75 Augt . 17 12 lb Candles 50 Cravat 25 50 Augt . 19 2 qts . Whiskey 1.25 2.50 Augt . 27 2 116. qts Do 1.25 2.81 Augt . 31 5½ lb Sugar 18 99 Sept. 29 1 Quart Brandy 1.25 1.25 Oct. 24 1 Paper needles 25 25 Nov 3 1 lb Nails also 10 5½ Gal Molasses 1.00 60 Nov 6 20 yds . Alamanes sheeting 30 1 pr . boots 5.00 11.00 Nov 10 6 Linsey 60.17 lb , 1 thimble 10 1 spool thread 15 3.85 Nov 27 part expenses of corn shucking 1.25 Nov 29 part hire land , year 1.60 Nov part expenses curling tobacco 70 74.20 amount forward 135.16 To amount brought forward 135.16 4½ days lost time 50 2.25 Dec 19 2½ Bushels Corn 1.00 2.50 4.50 1866 Cr . 139.66 Dec 24 Buy 8½ Bbls . Long Corn part 5.00 42.50 Dec Buy 1½ Bbls . short corn part 2.00 3.00 Dec 24 Buy 2 Bushels wheat part 3.00 6.00 Dec 24 Buy ½ stack oats part 4.00 4.00 Dec 24 Buy 1 Bushel Rye part 1.00 1.00 Dec 24 Buy part loss time hands 1.20 Dec 24 Buy part proceeds tobacco 44.74 102.44 37.22 State of N C Caswell Co Feby 25 1868 This day came Mr. Stephen Neal Justice of Peace said County Fariss G J Farish made oath forgoing account Nelson Dortgito freedman true best of knowledge belief G. J. Farish Test Stephen Neal JP'"
      ]
     },
     "execution_count": 73,
     "metadata": {},
     "output_type": "execute_result"
    }
   ],
   "source": [
    "recordF_text[300]"
   ]
  },
  {
   "cell_type": "code",
   "execution_count": 74,
   "id": "ac1dee6b",
   "metadata": {
    "execution": {
     "iopub.execute_input": "2022-06-29T11:15:19.818310Z",
     "iopub.status.busy": "2022-06-29T11:15:19.816965Z",
     "iopub.status.idle": "2022-06-29T11:15:19.824492Z",
     "shell.execute_reply": "2022-06-29T11:15:19.823433Z"
    },
    "papermill": {
     "duration": 0.048127,
     "end_time": "2022-06-29T11:15:19.826705",
     "exception": false,
     "start_time": "2022-06-29T11:15:19.778578",
     "status": "completed"
    },
    "tags": []
   },
   "outputs": [
    {
     "data": {
      "text/plain": [
       "\"['60.96', '25.2', '15', '1.35', '10', '40', '50', '12', '1.25', '1.3', '88', '3', '2', '1.25 1.25', '18', '6', '1.30', '37', '35', '1', '5', '1.50', '20', '63', '30', '2.00', '4.50', '62', '14', '25', '2.81', '60', '11.00', '60.17', '3.85', '1.60', '70', '74.20', '135.16', '2.50', '42.50', '½', '1.20', '44.74', '102.44', '37.22']\""
      ]
     },
     "execution_count": 74,
     "metadata": {},
     "output_type": "execute_result"
    }
   ],
   "source": [
    "recordF_cardinal[300]"
   ]
  },
  {
   "cell_type": "code",
   "execution_count": 75,
   "id": "ec214403",
   "metadata": {
    "execution": {
     "iopub.execute_input": "2022-06-29T11:15:19.902847Z",
     "iopub.status.busy": "2022-06-29T11:15:19.901546Z",
     "iopub.status.idle": "2022-06-29T11:15:19.909386Z",
     "shell.execute_reply": "2022-06-29T11:15:19.908270Z"
    },
    "papermill": {
     "duration": 0.04829,
     "end_time": "2022-06-29T11:15:19.911752",
     "exception": false,
     "start_time": "2022-06-29T11:15:19.863462",
     "status": "completed"
    },
    "tags": []
   },
   "outputs": [
    {
     "data": {
      "text/plain": [
       "\"['25-February-1868']\""
      ]
     },
     "execution_count": 75,
     "metadata": {},
     "output_type": "execute_result"
    }
   ],
   "source": [
    "recordF_date_onto[300]"
   ]
  },
  {
   "cell_type": "code",
   "execution_count": 76,
   "id": "b1ebab34",
   "metadata": {
    "execution": {
     "iopub.execute_input": "2022-06-29T11:15:19.989602Z",
     "iopub.status.busy": "2022-06-29T11:15:19.988837Z",
     "iopub.status.idle": "2022-06-29T11:15:19.995506Z",
     "shell.execute_reply": "2022-06-29T11:15:19.994659Z"
    },
    "papermill": {
     "duration": 0.047861,
     "end_time": "2022-06-29T11:15:19.997637",
     "exception": false,
     "start_time": "2022-06-29T11:15:19.949776",
     "status": "completed"
    },
    "tags": []
   },
   "outputs": [
    {
     "data": {
      "text/plain": [
       "\"['Hugh', 'Stephen Neal', 'Fariss', 'G J Farish', 'Nelson Dortgito', 'G . J. Farish']\""
      ]
     },
     "execution_count": 76,
     "metadata": {},
     "output_type": "execute_result"
    }
   ],
   "source": [
    "recordF_Per_onto[300]"
   ]
  },
  {
   "cell_type": "code",
   "execution_count": 77,
   "id": "4d1dc6ff",
   "metadata": {
    "execution": {
     "iopub.execute_input": "2022-06-29T11:15:20.073046Z",
     "iopub.status.busy": "2022-06-29T11:15:20.072649Z",
     "iopub.status.idle": "2022-06-29T11:15:20.079183Z",
     "shell.execute_reply": "2022-06-29T11:15:20.078081Z"
    },
    "papermill": {
     "duration": 0.046529,
     "end_time": "2022-06-29T11:15:20.081391",
     "exception": false,
     "start_time": "2022-06-29T11:15:20.034862",
     "status": "completed"
    },
    "tags": []
   },
   "outputs": [
    {
     "data": {
      "text/plain": [
       "'[]'"
      ]
     },
     "execution_count": 77,
     "metadata": {},
     "output_type": "execute_result"
    }
   ],
   "source": [
    "recordF_GPE_onto[300]"
   ]
  },
  {
   "cell_type": "code",
   "execution_count": 78,
   "id": "44b0c0dc",
   "metadata": {
    "execution": {
     "iopub.execute_input": "2022-06-29T11:15:20.159922Z",
     "iopub.status.busy": "2022-06-29T11:15:20.159523Z",
     "iopub.status.idle": "2022-06-29T11:15:20.166885Z",
     "shell.execute_reply": "2022-06-29T11:15:20.165785Z"
    },
    "papermill": {
     "duration": 0.047945,
     "end_time": "2022-06-29T11:15:20.169134",
     "exception": false,
     "start_time": "2022-06-29T11:15:20.121189",
     "status": "completed"
    },
    "tags": []
   },
   "outputs": [
    {
     "data": {
      "text/plain": [
       "'[]'"
      ]
     },
     "execution_count": 78,
     "metadata": {},
     "output_type": "execute_result"
    }
   ],
   "source": [
    "recordF_ORG_onto[300]"
   ]
  },
  {
   "cell_type": "code",
   "execution_count": 79,
   "id": "f47ae731",
   "metadata": {
    "execution": {
     "iopub.execute_input": "2022-06-29T11:15:20.243758Z",
     "iopub.status.busy": "2022-06-29T11:15:20.243346Z",
     "iopub.status.idle": "2022-06-29T11:15:20.262269Z",
     "shell.execute_reply": "2022-06-29T11:15:20.261214Z"
    },
    "papermill": {
     "duration": 0.058762,
     "end_time": "2022-06-29T11:15:20.264293",
     "exception": false,
     "start_time": "2022-06-29T11:15:20.205531",
     "status": "completed"
    },
    "tags": []
   },
   "outputs": [
    {
     "data": {
      "text/plain": [
       "(50173, 1769)"
      ]
     },
     "execution_count": 79,
     "metadata": {},
     "output_type": "execute_result"
    }
   ],
   "source": [
    "PL=[]\n",
    "empty=0\n",
    "for i in recordF_date_onto :\n",
    "    for j in i:\n",
    "        PL.append(j)\n",
    "for i in recordF_date_onto:\n",
    "    if i=='[]':\n",
    "        empty=empty+1\n",
    "len(PL), empty"
   ]
  },
  {
   "cell_type": "code",
   "execution_count": 80,
   "id": "7797614c",
   "metadata": {
    "execution": {
     "iopub.execute_input": "2022-06-29T11:15:20.339992Z",
     "iopub.status.busy": "2022-06-29T11:15:20.339611Z",
     "iopub.status.idle": "2022-06-29T11:15:20.365597Z",
     "shell.execute_reply": "2022-06-29T11:15:20.364458Z"
    },
    "papermill": {
     "duration": 0.066638,
     "end_time": "2022-06-29T11:15:20.367731",
     "exception": false,
     "start_time": "2022-06-29T11:15:20.301093",
     "status": "completed"
    },
    "tags": []
   },
   "outputs": [
    {
     "data": {
      "text/plain": [
       "(115920, 925)"
      ]
     },
     "execution_count": 80,
     "metadata": {},
     "output_type": "execute_result"
    }
   ],
   "source": [
    "PL=[]\n",
    "empty=0\n",
    "for i in recordF_Per_onto :\n",
    "    for j in i:\n",
    "        PL.append(j)\n",
    "for i in recordF_Per_onto:\n",
    "    if i=='[]':\n",
    "        empty=empty+1\n",
    "len(PL), empty"
   ]
  },
  {
   "cell_type": "markdown",
   "id": "9f1b1627",
   "metadata": {
    "papermill": {
     "duration": 0.03636,
     "end_time": "2022-06-29T11:15:20.441123",
     "exception": false,
     "start_time": "2022-06-29T11:15:20.404763",
     "status": "completed"
    },
    "tags": []
   },
   "source": [
    "****"
   ]
  },
  {
   "cell_type": "code",
   "execution_count": 81,
   "id": "650cdd8b",
   "metadata": {
    "execution": {
     "iopub.execute_input": "2022-06-29T11:15:20.515944Z",
     "iopub.status.busy": "2022-06-29T11:15:20.515572Z",
     "iopub.status.idle": "2022-06-29T11:15:20.700380Z",
     "shell.execute_reply": "2022-06-29T11:15:20.699362Z"
    },
    "papermill": {
     "duration": 0.22521,
     "end_time": "2022-06-29T11:15:20.702843",
     "exception": false,
     "start_time": "2022-06-29T11:15:20.477633",
     "status": "completed"
    },
    "tags": []
   },
   "outputs": [],
   "source": [
    "recordE_ent=pd.read_csv(\"../input/all-csv/to_compare_result_recordE.csv\")\n",
    "recordE_text=recordE_ent[\"recordE_text\"]\n",
    "recordE_Per_onto=recordE_ent[\"Name-ontonotes\"]\n",
    "recordE_GPE_onto=recordE_ent[\"GPE-ontonotes\"]\n",
    "recordE_ORG_onto=recordE_ent[\"ORG-ontonotes\"]\n",
    "recordE_date_onto=recordE_ent[\"standard_date-ontonotes\"]\n",
    "recordE_loc_onto=recordE_ent[\"LOC-ontonotes\"]\n",
    "recordE_cardinal=recordE_ent[\"Cardinal-ontonotes\"]"
   ]
  },
  {
   "cell_type": "code",
   "execution_count": 82,
   "id": "24cea27a",
   "metadata": {
    "execution": {
     "iopub.execute_input": "2022-06-29T11:15:20.789908Z",
     "iopub.status.busy": "2022-06-29T11:15:20.789502Z",
     "iopub.status.idle": "2022-06-29T11:15:20.795420Z",
     "shell.execute_reply": "2022-06-29T11:15:20.794426Z"
    },
    "papermill": {
     "duration": 0.055942,
     "end_time": "2022-06-29T11:15:20.797435",
     "exception": false,
     "start_time": "2022-06-29T11:15:20.741493",
     "status": "completed"
    },
    "tags": []
   },
   "outputs": [
    {
     "data": {
      "text/plain": [
       "'28 Spanish Neck Co. Edesville Md . School House 1867 Mar . 1 From Barracks , Stables c. Balto Asson . 12,224 feet Lumber 11 Windows 3 Doors 15 Sec . of Roof 205.48 29 Talbot Co. Trappe Md . School House 1867 Mar . 1 From Barracks , Stables c. Balto Asson . 10,192 feet Lumber 10 Windows 2 Doors 12 Sec . of Roof 163.20'"
      ]
     },
     "execution_count": 82,
     "metadata": {},
     "output_type": "execute_result"
    }
   ],
   "source": [
    "recordE_text[45]"
   ]
  },
  {
   "cell_type": "code",
   "execution_count": 83,
   "id": "116a04ba",
   "metadata": {
    "execution": {
     "iopub.execute_input": "2022-06-29T11:15:20.874618Z",
     "iopub.status.busy": "2022-06-29T11:15:20.874244Z",
     "iopub.status.idle": "2022-06-29T11:15:20.880570Z",
     "shell.execute_reply": "2022-06-29T11:15:20.879566Z"
    },
    "papermill": {
     "duration": 0.048063,
     "end_time": "2022-06-29T11:15:20.882811",
     "exception": false,
     "start_time": "2022-06-29T11:15:20.834748",
     "status": "completed"
    },
    "tags": []
   },
   "outputs": [
    {
     "data": {
      "text/plain": [
       "\"['Spanish Neck Co .', 'School House', 'Talbot Co .']\""
      ]
     },
     "execution_count": 83,
     "metadata": {},
     "output_type": "execute_result"
    }
   ],
   "source": [
    "recordE_ORG_onto[45]"
   ]
  },
  {
   "cell_type": "code",
   "execution_count": 84,
   "id": "f5a0ece2",
   "metadata": {
    "execution": {
     "iopub.execute_input": "2022-06-29T11:15:20.958682Z",
     "iopub.status.busy": "2022-06-29T11:15:20.958277Z",
     "iopub.status.idle": "2022-06-29T11:15:20.964230Z",
     "shell.execute_reply": "2022-06-29T11:15:20.963286Z"
    },
    "papermill": {
     "duration": 0.046182,
     "end_time": "2022-06-29T11:15:20.966189",
     "exception": false,
     "start_time": "2022-06-29T11:15:20.920007",
     "status": "completed"
    },
    "tags": []
   },
   "outputs": [
    {
     "data": {
      "text/plain": [
       "'[]'"
      ]
     },
     "execution_count": 84,
     "metadata": {},
     "output_type": "execute_result"
    }
   ],
   "source": [
    "recordE_loc_onto[45]"
   ]
  },
  {
   "cell_type": "code",
   "execution_count": 85,
   "id": "3210671e",
   "metadata": {
    "execution": {
     "iopub.execute_input": "2022-06-29T11:15:21.042630Z",
     "iopub.status.busy": "2022-06-29T11:15:21.042209Z",
     "iopub.status.idle": "2022-06-29T11:15:21.049398Z",
     "shell.execute_reply": "2022-06-29T11:15:21.048434Z"
    },
    "papermill": {
     "duration": 0.048227,
     "end_time": "2022-06-29T11:15:21.051539",
     "exception": false,
     "start_time": "2022-06-29T11:15:21.003312",
     "status": "completed"
    },
    "tags": []
   },
   "outputs": [
    {
     "data": {
      "text/plain": [
       "'[]'"
      ]
     },
     "execution_count": 85,
     "metadata": {},
     "output_type": "execute_result"
    }
   ],
   "source": [
    "recordE_date_onto[45]"
   ]
  },
  {
   "cell_type": "code",
   "execution_count": 86,
   "id": "7458cbcf",
   "metadata": {
    "execution": {
     "iopub.execute_input": "2022-06-29T11:15:21.128059Z",
     "iopub.status.busy": "2022-06-29T11:15:21.127640Z",
     "iopub.status.idle": "2022-06-29T11:15:21.134503Z",
     "shell.execute_reply": "2022-06-29T11:15:21.133334Z"
    },
    "papermill": {
     "duration": 0.04769,
     "end_time": "2022-06-29T11:15:21.136888",
     "exception": false,
     "start_time": "2022-06-29T11:15:21.089198",
     "status": "completed"
    },
    "tags": []
   },
   "outputs": [
    {
     "data": {
      "text/plain": [
       "\"['Edesville', 'Md', 'Trappe']\""
      ]
     },
     "execution_count": 86,
     "metadata": {},
     "output_type": "execute_result"
    }
   ],
   "source": [
    "recordE_GPE_onto[45]"
   ]
  },
  {
   "cell_type": "code",
   "execution_count": 87,
   "id": "32f5731a",
   "metadata": {
    "execution": {
     "iopub.execute_input": "2022-06-29T11:15:21.216046Z",
     "iopub.status.busy": "2022-06-29T11:15:21.215643Z",
     "iopub.status.idle": "2022-06-29T11:15:21.222067Z",
     "shell.execute_reply": "2022-06-29T11:15:21.221141Z"
    },
    "papermill": {
     "duration": 0.049017,
     "end_time": "2022-06-29T11:15:21.224589",
     "exception": false,
     "start_time": "2022-06-29T11:15:21.175572",
     "status": "completed"
    },
    "tags": []
   },
   "outputs": [
    {
     "data": {
      "text/plain": [
       "\"['J . T Kirkman', 'Hartnett', 'D F Allen']\""
      ]
     },
     "execution_count": 87,
     "metadata": {},
     "output_type": "execute_result"
    }
   ],
   "source": [
    "recordE_Per_onto[1000]"
   ]
  },
  {
   "cell_type": "code",
   "execution_count": 88,
   "id": "26068c49",
   "metadata": {
    "execution": {
     "iopub.execute_input": "2022-06-29T11:15:21.302260Z",
     "iopub.status.busy": "2022-06-29T11:15:21.301719Z",
     "iopub.status.idle": "2022-06-29T11:15:21.333725Z",
     "shell.execute_reply": "2022-06-29T11:15:21.333019Z"
    },
    "papermill": {
     "duration": 0.073403,
     "end_time": "2022-06-29T11:15:21.336126",
     "exception": false,
     "start_time": "2022-06-29T11:15:21.262723",
     "status": "completed"
    },
    "tags": []
   },
   "outputs": [
    {
     "data": {
      "text/plain": [
       "(148161, 2868)"
      ]
     },
     "execution_count": 88,
     "metadata": {},
     "output_type": "execute_result"
    }
   ],
   "source": [
    "PL=[]\n",
    "empty=0\n",
    "for i in recordE_Per_onto :\n",
    "    for j in i:\n",
    "        PL.append(j)\n",
    "for i in recordE_Per_onto:\n",
    "    if i=='[]':\n",
    "        empty=empty+1\n",
    "len(PL), empty"
   ]
  },
  {
   "cell_type": "code",
   "execution_count": 89,
   "id": "ae419dfb",
   "metadata": {
    "execution": {
     "iopub.execute_input": "2022-06-29T11:15:21.432799Z",
     "iopub.status.busy": "2022-06-29T11:15:21.431722Z",
     "iopub.status.idle": "2022-06-29T11:15:21.459780Z",
     "shell.execute_reply": "2022-06-29T11:15:21.458788Z"
    },
    "papermill": {
     "duration": 0.080896,
     "end_time": "2022-06-29T11:15:21.462149",
     "exception": false,
     "start_time": "2022-06-29T11:15:21.381253",
     "status": "completed"
    },
    "tags": []
   },
   "outputs": [
    {
     "data": {
      "text/plain": [
       "(73441, 4916)"
      ]
     },
     "execution_count": 89,
     "metadata": {},
     "output_type": "execute_result"
    }
   ],
   "source": [
    "PL=[]\n",
    "empty=0\n",
    "for i in recordE_date_onto :\n",
    "    for j in i:\n",
    "        PL.append(j)\n",
    "for i in recordE_date_onto:\n",
    "    if i=='[]':\n",
    "        empty=empty+1\n",
    "len(PL), empty"
   ]
  },
  {
   "cell_type": "code",
   "execution_count": 90,
   "id": "e79d55fd",
   "metadata": {
    "execution": {
     "iopub.execute_input": "2022-06-29T11:15:21.539671Z",
     "iopub.status.busy": "2022-06-29T11:15:21.539000Z",
     "iopub.status.idle": "2022-06-29T11:15:21.561613Z",
     "shell.execute_reply": "2022-06-29T11:15:21.560735Z"
    },
    "papermill": {
     "duration": 0.063416,
     "end_time": "2022-06-29T11:15:21.563613",
     "exception": false,
     "start_time": "2022-06-29T11:15:21.500197",
     "status": "completed"
    },
    "tags": []
   },
   "outputs": [
    {
     "data": {
      "text/plain": [
       "(95379, 5150)"
      ]
     },
     "execution_count": 90,
     "metadata": {},
     "output_type": "execute_result"
    }
   ],
   "source": [
    "PL=[]\n",
    "empty=0\n",
    "for i in recordE_ORG_onto :\n",
    "    for j in i:\n",
    "        PL.append(j)\n",
    "for i in recordE_ORG_onto:\n",
    "    if i=='[]':\n",
    "        empty=empty+1\n",
    "len(PL), empty"
   ]
  },
  {
   "cell_type": "markdown",
   "id": "7fce18e0",
   "metadata": {
    "papermill": {
     "duration": 0.037369,
     "end_time": "2022-06-29T11:15:21.639095",
     "exception": false,
     "start_time": "2022-06-29T11:15:21.601726",
     "status": "completed"
    },
    "tags": []
   },
   "source": [
    "****"
   ]
  },
  {
   "cell_type": "code",
   "execution_count": 91,
   "id": "dc2f9b39",
   "metadata": {
    "execution": {
     "iopub.execute_input": "2022-06-29T11:15:21.715744Z",
     "iopub.status.busy": "2022-06-29T11:15:21.715108Z",
     "iopub.status.idle": "2022-06-29T11:15:21.876714Z",
     "shell.execute_reply": "2022-06-29T11:15:21.875583Z"
    },
    "papermill": {
     "duration": 0.20259,
     "end_time": "2022-06-29T11:15:21.879132",
     "exception": false,
     "start_time": "2022-06-29T11:15:21.676542",
     "status": "completed"
    },
    "tags": []
   },
   "outputs": [],
   "source": [
    "recordC_ent=pd.read_csv(\"../input/all-csv/to_compare_result_recordC.csv\")\n",
    "recordC_text=recordC_ent[\"recordC_text\"]\n",
    "recordC_Per_onto=recordC_ent[\"Name-ontonotes\"]\n",
    "recordC_GPE_onto=recordC_ent[\"GPE-ontonotes\"]\n",
    "recordC_ORG_onto=recordC_ent[\"ORG-ontonotes\"]\n",
    "recordC_date_onto=recordC_ent[\"standard_date-ontonotes\"]\n",
    "recordC_loc_onto=recordC_ent[\"LOC-ontonotes\"]\n",
    "recordC_cardinal=recordC_ent[\"Cardinal-ontonotes\"]"
   ]
  },
  {
   "cell_type": "code",
   "execution_count": null,
   "id": "b2b80368",
   "metadata": {
    "papermill": {
     "duration": 0.037488,
     "end_time": "2022-06-29T11:15:21.954675",
     "exception": false,
     "start_time": "2022-06-29T11:15:21.917187",
     "status": "completed"
    },
    "tags": []
   },
   "outputs": [],
   "source": []
  },
  {
   "cell_type": "code",
   "execution_count": null,
   "id": "9fd4ff08",
   "metadata": {
    "papermill": {
     "duration": 0.037655,
     "end_time": "2022-06-29T11:15:22.030246",
     "exception": false,
     "start_time": "2022-06-29T11:15:21.992591",
     "status": "completed"
    },
    "tags": []
   },
   "outputs": [],
   "source": []
  }
 ],
 "metadata": {
  "kernelspec": {
   "display_name": "Python 3",
   "language": "python",
   "name": "python3"
  },
  "language_info": {
   "codemirror_mode": {
    "name": "ipython",
    "version": 3
   },
   "file_extension": ".py",
   "mimetype": "text/x-python",
   "name": "python",
   "nbconvert_exporter": "python",
   "pygments_lexer": "ipython3",
   "version": "3.7.12"
  },
  "papermill": {
   "default_parameters": {},
   "duration": 34.565336,
   "end_time": "2022-06-29T11:15:24.723466",
   "environment_variables": {},
   "exception": null,
   "input_path": "__notebook__.ipynb",
   "output_path": "__notebook__.ipynb",
   "parameters": {},
   "start_time": "2022-06-29T11:14:50.158130",
   "version": "2.3.4"
  }
 },
 "nbformat": 4,
 "nbformat_minor": 5
}
