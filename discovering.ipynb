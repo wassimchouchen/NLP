{
 "cells": [
  {
   "cell_type": "code",
   "execution_count": 1,
   "id": "6d36253c",
   "metadata": {
    "_cell_guid": "b1076dfc-b9ad-4769-8c92-a6c4dae69d19",
    "_uuid": "8f2839f25d086af736a60e9eeb907d3b93b6e0e5",
    "execution": {
     "iopub.execute_input": "2022-06-29T07:34:11.720650Z",
     "iopub.status.busy": "2022-06-29T07:34:11.719862Z",
     "iopub.status.idle": "2022-06-29T07:34:23.442954Z",
     "shell.execute_reply": "2022-06-29T07:34:23.441617Z"
    },
    "papermill": {
     "duration": 11.75512,
     "end_time": "2022-06-29T07:34:23.446324",
     "exception": false,
     "start_time": "2022-06-29T07:34:11.691204",
     "status": "completed"
    },
    "tags": []
   },
   "outputs": [],
   "source": [
    "import numpy as np\n",
    "import pandas as pd \n",
    "import seaborn as sns\n",
    "import matplotlib.pyplot as plt \n",
    "import matplotlib.style as stl \n",
    "from tensorflow import keras \n",
    "from keras.preprocessing.text import Tokenizer\n",
    "from nltk.corpus import stopwords\n",
    "import string\n",
    "from tensorflow.keras.models import Sequential,Model\n",
    "from tensorflow.keras.layers import Dense, LSTM, Embedding,Dropout,SpatialDropout1D,Conv1D,MaxPooling1D,GRU,BatchNormalization\n",
    "import warnings\n",
    "warnings.filterwarnings('ignore')\n",
    "stl.use('ggplot')\n",
    "from tqdm import tqdm\n",
    "import string\n",
    "from nltk.corpus import stopwords\n",
    "from nltk.tokenize import word_tokenize\n",
    "from nltk.stem import WordNetLemmatizer\n",
    "from nltk.stem.snowball import SnowballStemmer\n",
    "import regex as re\n",
    "import time\n",
    "import pickle"
   ]
  },
  {
   "cell_type": "code",
   "execution_count": 2,
   "id": "7cb67009",
   "metadata": {
    "execution": {
     "iopub.execute_input": "2022-06-29T07:34:23.492001Z",
     "iopub.status.busy": "2022-06-29T07:34:23.491185Z",
     "iopub.status.idle": "2022-06-29T07:34:23.782898Z",
     "shell.execute_reply": "2022-06-29T07:34:23.781570Z"
    },
    "papermill": {
     "duration": 0.317454,
     "end_time": "2022-06-29T07:34:23.785891",
     "exception": false,
     "start_time": "2022-06-29T07:34:23.468437",
     "status": "completed"
    },
    "tags": []
   },
   "outputs": [],
   "source": [
    "index_ent=pd.read_csv(\"../input/all-csv/index_df (1).csv\")"
   ]
  },
  {
   "cell_type": "code",
   "execution_count": 3,
   "id": "441bd9f1",
   "metadata": {
    "execution": {
     "iopub.execute_input": "2022-06-29T07:34:23.830998Z",
     "iopub.status.busy": "2022-06-29T07:34:23.830492Z",
     "iopub.status.idle": "2022-06-29T07:34:23.852166Z",
     "shell.execute_reply": "2022-06-29T07:34:23.851005Z"
    },
    "papermill": {
     "duration": 0.047377,
     "end_time": "2022-06-29T07:34:23.855107",
     "exception": false,
     "start_time": "2022-06-29T07:34:23.807730",
     "status": "completed"
    },
    "tags": []
   },
   "outputs": [
    {
     "data": {
      "text/html": [
       "<div>\n",
       "<style scoped>\n",
       "    .dataframe tbody tr th:only-of-type {\n",
       "        vertical-align: middle;\n",
       "    }\n",
       "\n",
       "    .dataframe tbody tr th {\n",
       "        vertical-align: top;\n",
       "    }\n",
       "\n",
       "    .dataframe thead th {\n",
       "        text-align: right;\n",
       "    }\n",
       "</style>\n",
       "<table border=\"1\" class=\"dataframe\">\n",
       "  <thead>\n",
       "    <tr style=\"text-align: right;\">\n",
       "      <th></th>\n",
       "      <th>index_text</th>\n",
       "      <th>PERSON-nerenglarge</th>\n",
       "      <th>LOC-nerenglarge</th>\n",
       "      <th>ORG-nerenglarge</th>\n",
       "      <th>text</th>\n",
       "    </tr>\n",
       "  </thead>\n",
       "  <tbody>\n",
       "    <tr>\n",
       "      <th>0</th>\n",
       "      <td>NAME INDEX TO VOLUME 7 OF LETTERS SENT , JULY ...</td>\n",
       "      <td>['Abbott', 'Lyman', 'Adams', 'John Q', 'Allen'...</td>\n",
       "      <td>[]</td>\n",
       "      <td>[]</td>\n",
       "      <td>NAME INDEX TO VOLUME 7 OF LETTERS SENT , JULY ...</td>\n",
       "    </tr>\n",
       "    <tr>\n",
       "      <th>1</th>\n",
       "      <td>Boyd , J. F. Col. 19 , 41 Boyden , James 116 B...</td>\n",
       "      <td>['Boyd', 'J. F. Col.', 'Boyden', 'James', 'Bra...</td>\n",
       "      <td>[]</td>\n",
       "      <td>['Henry Corp']</td>\n",
       "      <td>Boyd , J. F. Col. 19 , 41 Boyden , James 116 B...</td>\n",
       "    </tr>\n",
       "    <tr>\n",
       "      <th>2</th>\n",
       "      <td>Chur , J. F. Capt . 139 Cilley , Clinton A. Ma...</td>\n",
       "      <td>['Chur', 'J. F.', 'Cilley', 'Clinton A. Maj', ...</td>\n",
       "      <td>[]</td>\n",
       "      <td>['Citizens']</td>\n",
       "      <td>Chur , J. F. Capt . 139 Cilley , Clinton A. Ma...</td>\n",
       "    </tr>\n",
       "    <tr>\n",
       "      <th>3</th>\n",
       "      <td>Elijah 176 Eliza 172 Emery , Charles Capt . 3 ...</td>\n",
       "      <td>['Elijah', 'Eliza', 'Emery', 'Charles', 'Edwin...</td>\n",
       "      <td>[]</td>\n",
       "      <td>[]</td>\n",
       "      <td>Elijah 176 Eliza 172 Emery , Charles Capt . 3 ...</td>\n",
       "    </tr>\n",
       "    <tr>\n",
       "      <th>4</th>\n",
       "      <td>Hale , Capt . 51 Hambrich , P.R . Capt . 9 Han...</td>\n",
       "      <td>['Hale', 'Hambrich', 'Hand', 'Harkness', 'E.J'...</td>\n",
       "      <td>['N.C']</td>\n",
       "      <td>[]</td>\n",
       "      <td>Hale , Capt . 51 Hambrich , P.R . Capt . 9 Han...</td>\n",
       "    </tr>\n",
       "  </tbody>\n",
       "</table>\n",
       "</div>"
      ],
      "text/plain": [
       "                                          index_text  \\\n",
       "0  NAME INDEX TO VOLUME 7 OF LETTERS SENT , JULY ...   \n",
       "1  Boyd , J. F. Col. 19 , 41 Boyden , James 116 B...   \n",
       "2  Chur , J. F. Capt . 139 Cilley , Clinton A. Ma...   \n",
       "3  Elijah 176 Eliza 172 Emery , Charles Capt . 3 ...   \n",
       "4  Hale , Capt . 51 Hambrich , P.R . Capt . 9 Han...   \n",
       "\n",
       "                                  PERSON-nerenglarge LOC-nerenglarge  \\\n",
       "0  ['Abbott', 'Lyman', 'Adams', 'John Q', 'Allen'...              []   \n",
       "1  ['Boyd', 'J. F. Col.', 'Boyden', 'James', 'Bra...              []   \n",
       "2  ['Chur', 'J. F.', 'Cilley', 'Clinton A. Maj', ...              []   \n",
       "3  ['Elijah', 'Eliza', 'Emery', 'Charles', 'Edwin...              []   \n",
       "4  ['Hale', 'Hambrich', 'Hand', 'Harkness', 'E.J'...         ['N.C']   \n",
       "\n",
       "  ORG-nerenglarge                                               text  \n",
       "0              []  NAME INDEX TO VOLUME 7 OF LETTERS SENT , JULY ...  \n",
       "1  ['Henry Corp']  Boyd , J. F. Col. 19 , 41 Boyden , James 116 B...  \n",
       "2    ['Citizens']  Chur , J. F. Capt . 139 Cilley , Clinton A. Ma...  \n",
       "3              []  Elijah 176 Eliza 172 Emery , Charles Capt . 3 ...  \n",
       "4              []  Hale , Capt . 51 Hambrich , P.R . Capt . 9 Han...  "
      ]
     },
     "execution_count": 3,
     "metadata": {},
     "output_type": "execute_result"
    }
   ],
   "source": [
    "index_ent.head()"
   ]
  },
  {
   "cell_type": "code",
   "execution_count": 4,
   "id": "cf28e380",
   "metadata": {
    "execution": {
     "iopub.execute_input": "2022-06-29T07:34:23.901679Z",
     "iopub.status.busy": "2022-06-29T07:34:23.901153Z",
     "iopub.status.idle": "2022-06-29T07:34:23.911232Z",
     "shell.execute_reply": "2022-06-29T07:34:23.910210Z"
    },
    "papermill": {
     "duration": 0.036195,
     "end_time": "2022-06-29T07:34:23.913385",
     "exception": false,
     "start_time": "2022-06-29T07:34:23.877190",
     "status": "completed"
    },
    "tags": []
   },
   "outputs": [],
   "source": [
    "index_text=index_ent[\"index_text\"]\n",
    "index_names=index_ent[\"PERSON-nerenglarge\"]\n",
    "index_loc=index_ent[\"LOC-nerenglarge\"]\n",
    "index_org=index_ent[\"ORG-nerenglarge\"]"
   ]
  },
  {
   "cell_type": "code",
   "execution_count": 5,
   "id": "93458169",
   "metadata": {
    "execution": {
     "iopub.execute_input": "2022-06-29T07:34:23.960582Z",
     "iopub.status.busy": "2022-06-29T07:34:23.959479Z",
     "iopub.status.idle": "2022-06-29T07:34:23.967891Z",
     "shell.execute_reply": "2022-06-29T07:34:23.966637Z"
    },
    "papermill": {
     "duration": 0.034743,
     "end_time": "2022-06-29T07:34:23.970121",
     "exception": false,
     "start_time": "2022-06-29T07:34:23.935378",
     "status": "completed"
    },
    "tags": []
   },
   "outputs": [
    {
     "data": {
      "text/plain": [
       "'1865 . London Manger 14 . London Sarah E 16 . Lippett John E 18 . Lippett W.H 18 . 23 . 33 . Laslo J.G 19 . Lehman R.F 20 . 44 . Lecraft Mary 21 . Lazarus Julia 22 . Lippett W. 23 . 33 . Lecraft Benjamin 36 . 59 . Lewis K.H 30 . Lewis W.F 30 . Levy T.J. 31 . Lane H.B 37 . Leach J A 40 . 45 . Leavy J.P 50 . Lord Fredk 52 . Littlejohn W.H 53 . Leigh J.W 66 . Low T.B 66 .'"
      ]
     },
     "execution_count": 5,
     "metadata": {},
     "output_type": "execute_result"
    }
   ],
   "source": [
    "index_text[150]"
   ]
  },
  {
   "cell_type": "code",
   "execution_count": 6,
   "id": "8ed467ec",
   "metadata": {
    "execution": {
     "iopub.execute_input": "2022-06-29T07:34:24.017116Z",
     "iopub.status.busy": "2022-06-29T07:34:24.016227Z",
     "iopub.status.idle": "2022-06-29T07:34:24.024122Z",
     "shell.execute_reply": "2022-06-29T07:34:24.022934Z"
    },
    "papermill": {
     "duration": 0.034083,
     "end_time": "2022-06-29T07:34:24.026703",
     "exception": false,
     "start_time": "2022-06-29T07:34:23.992620",
     "status": "completed"
    },
    "tags": []
   },
   "outputs": [
    {
     "data": {
      "text/plain": [
       "\"['London Sarah E', 'Lippett John E', 'Lippett W.H', 'Lehman R.F', 'Lazarus Julia', 'Lippett W', 'Lecraft Benjamin', 'Lewis K.H', 'Lewis W.F', 'Levy T.J', 'Lane H.B', 'Leach J A', 'Leavy J.P', 'Lord Fredk', 'Littlejohn W.H', 'Leigh J.W', 'Low T.B']\""
      ]
     },
     "execution_count": 6,
     "metadata": {},
     "output_type": "execute_result"
    }
   ],
   "source": [
    "index_names[150]"
   ]
  },
  {
   "cell_type": "code",
   "execution_count": 7,
   "id": "c050e101",
   "metadata": {
    "execution": {
     "iopub.execute_input": "2022-06-29T07:34:24.073872Z",
     "iopub.status.busy": "2022-06-29T07:34:24.072971Z",
     "iopub.status.idle": "2022-06-29T07:34:24.080323Z",
     "shell.execute_reply": "2022-06-29T07:34:24.079147Z"
    },
    "papermill": {
     "duration": 0.033215,
     "end_time": "2022-06-29T07:34:24.082591",
     "exception": false,
     "start_time": "2022-06-29T07:34:24.049376",
     "status": "completed"
    },
    "tags": []
   },
   "outputs": [
    {
     "data": {
      "text/plain": [
       "'298 WHEN RECEIVED . NAME OF WRITER . DATE AND PURPORT OF LETTER . 299 WHEN RECEIVED . NAME OF WRITER . DATE AND PURPORT OF LETTER . 1.3.70 . 1 Missions , Presby Home . Rev . E. F. Hatfield Secretary per . W. T. M. New York City. , Dec. 30th 1869 . States reply , Mr. Swan , teacher due three months salary , 60 withheld case regard purchase of books investigated . 1.8.70 . 2 Moss , R. C. Teacher . Bladensburg , Md . Jany 6th 1870 . States 81 70100 still due School house lot : names of trustees Darius Bowman , Uriah Wallace , Davis Greenleaf , Cyrus Johnston . 1 , 13 , 70 3 Morris Susan , Teacher . Poolsville , Montgomery Co. Md . January 3 , 1870 . Requests check amount due sent Mr. Adams . 1 , 17 , 70 4 Miller Lewis E. Teacher Lewistown , Frederick Co. Md . Pock Mark Jany 15th 70 , States opening of school Lewistown , forwards compliance instructions Baltimore Association . Will report , instructed report made . 1 , 18 , 70 , 5 Moses Rebecca , Teacher Point of Rocks , Fdk . Co. Md . P. M. Jany 17 , 70 Desires sent six Primary Geographies bill . 1 , 21 , 70 6 Moss R. C. Teacher Bladensburg , Prince Georges Co. Md . Acknowledges receipt of check 15.00'"
      ]
     },
     "execution_count": 7,
     "metadata": {},
     "output_type": "execute_result"
    }
   ],
   "source": [
    "index_text[1500]"
   ]
  },
  {
   "cell_type": "code",
   "execution_count": 8,
   "id": "10998abe",
   "metadata": {
    "execution": {
     "iopub.execute_input": "2022-06-29T07:34:24.129131Z",
     "iopub.status.busy": "2022-06-29T07:34:24.128688Z",
     "iopub.status.idle": "2022-06-29T07:34:24.135450Z",
     "shell.execute_reply": "2022-06-29T07:34:24.134684Z"
    },
    "papermill": {
     "duration": 0.032247,
     "end_time": "2022-06-29T07:34:24.137394",
     "exception": false,
     "start_time": "2022-06-29T07:34:24.105147",
     "status": "completed"
    },
    "tags": []
   },
   "outputs": [
    {
     "data": {
      "text/plain": [
       "\"['E. F. Hatfield', 'Swan', 'Darius Bowman', 'Uriah Wallace', 'Davis Greenleaf', 'Cyrus Johnston', 'Morris Susan', 'Miller Lewis E.', 'Pock Mark', 'Moses Rebecca', 'Moss R', 'C.']\""
      ]
     },
     "execution_count": 8,
     "metadata": {},
     "output_type": "execute_result"
    }
   ],
   "source": [
    "index_names[1500]"
   ]
  },
  {
   "cell_type": "code",
   "execution_count": 9,
   "id": "c8f2a43f",
   "metadata": {
    "execution": {
     "iopub.execute_input": "2022-06-29T07:34:24.184399Z",
     "iopub.status.busy": "2022-06-29T07:34:24.183130Z",
     "iopub.status.idle": "2022-06-29T07:34:24.191011Z",
     "shell.execute_reply": "2022-06-29T07:34:24.189995Z"
    },
    "papermill": {
     "duration": 0.033951,
     "end_time": "2022-06-29T07:34:24.193424",
     "exception": false,
     "start_time": "2022-06-29T07:34:24.159473",
     "status": "completed"
    },
    "tags": []
   },
   "outputs": [
    {
     "data": {
      "text/plain": [
       "'Jenny 90 . Johnson Richard 10 Jones Andrew 12 Johnston Thos . P. A.N.U . 16 , 20 , 75 Jordan Alice 37 , 53 Jordan Vina 51 , 54 , 55 Johnston Tho.P . A.N.U . 65 , 74 95 , 169 , 199 , 200 , 204 , 205 , 281 Johnston Hugh 107 , 146 Jane 129 Jennings Mr 184 , 185 Johnston David 219 Johnson Leah 228 Jeremia Parthe 253'"
      ]
     },
     "execution_count": 9,
     "metadata": {},
     "output_type": "execute_result"
    }
   ],
   "source": [
    "index_text[5000]"
   ]
  },
  {
   "cell_type": "code",
   "execution_count": 10,
   "id": "89891237",
   "metadata": {
    "execution": {
     "iopub.execute_input": "2022-06-29T07:34:24.240624Z",
     "iopub.status.busy": "2022-06-29T07:34:24.239837Z",
     "iopub.status.idle": "2022-06-29T07:34:24.247734Z",
     "shell.execute_reply": "2022-06-29T07:34:24.246544Z"
    },
    "papermill": {
     "duration": 0.034029,
     "end_time": "2022-06-29T07:34:24.250053",
     "exception": false,
     "start_time": "2022-06-29T07:34:24.216024",
     "status": "completed"
    },
    "tags": []
   },
   "outputs": [
    {
     "data": {
      "text/plain": [
       "\"['Johnson Richard', 'Jones Andrew', 'Johnston Thos', 'Jordan Alice', 'Jordan Vina', 'Johnston Hugh', 'Jane', 'Jennings Mr', 'Johnston David', 'Johnson Leah', 'Jeremia Parthe']\""
      ]
     },
     "execution_count": 10,
     "metadata": {},
     "output_type": "execute_result"
    }
   ],
   "source": [
    "index_names[5000]"
   ]
  },
  {
   "cell_type": "code",
   "execution_count": 11,
   "id": "8241af28",
   "metadata": {
    "execution": {
     "iopub.execute_input": "2022-06-29T07:34:24.297141Z",
     "iopub.status.busy": "2022-06-29T07:34:24.296712Z",
     "iopub.status.idle": "2022-06-29T07:34:24.306168Z",
     "shell.execute_reply": "2022-06-29T07:34:24.304974Z"
    },
    "papermill": {
     "duration": 0.035835,
     "end_time": "2022-06-29T07:34:24.308445",
     "exception": false,
     "start_time": "2022-06-29T07:34:24.272610",
     "status": "completed"
    },
    "tags": []
   },
   "outputs": [
    {
     "data": {
      "text/plain": [
       "0       ['Abbott', 'Lyman', 'Adams', 'John Q', 'Allen'...\n",
       "1       ['Boyd', 'J. F. Col.', 'Boyden', 'James', 'Bra...\n",
       "2       ['Chur', 'J. F.', 'Cilley', 'Clinton A. Maj', ...\n",
       "3       ['Elijah', 'Eliza', 'Emery', 'Charles', 'Edwin...\n",
       "4       ['Hale', 'Hambrich', 'Hand', 'Harkness', 'E.J'...\n",
       "                              ...                        \n",
       "5417                                                   []\n",
       "5418    ['Wm . F. Richardson', 'Hattie M. Richardson',...\n",
       "5419    ['Hattie L. Newcomb', 'Mutch Opelika', 'Thomas...\n",
       "5420    ['Mutch Opelika', 'Thomas H. Whitly', 'Emma A ...\n",
       "5421    ['James Nichols Stevenson', 'O . M. Waring', '...\n",
       "Name: PERSON-nerenglarge, Length: 5422, dtype: object"
      ]
     },
     "execution_count": 11,
     "metadata": {},
     "output_type": "execute_result"
    }
   ],
   "source": [
    "index_names"
   ]
  },
  {
   "cell_type": "code",
   "execution_count": 12,
   "id": "2b923b1a",
   "metadata": {
    "execution": {
     "iopub.execute_input": "2022-06-29T07:34:24.356318Z",
     "iopub.status.busy": "2022-06-29T07:34:24.355890Z",
     "iopub.status.idle": "2022-06-29T07:34:24.540707Z",
     "shell.execute_reply": "2022-06-29T07:34:24.539544Z"
    },
    "papermill": {
     "duration": 0.213354,
     "end_time": "2022-06-29T07:34:24.545242",
     "exception": false,
     "start_time": "2022-06-29T07:34:24.331888",
     "status": "completed"
    },
    "tags": []
   },
   "outputs": [
    {
     "data": {
      "text/plain": [
       "(1298703, 0)"
      ]
     },
     "execution_count": 12,
     "metadata": {},
     "output_type": "execute_result"
    }
   ],
   "source": [
    "PL=[]\n",
    "empty=0\n",
    "for i in index_names:\n",
    "    for j in i:\n",
    "        PL.append(j)\n",
    "for i in index_names:\n",
    "    if i==[]:\n",
    "        empty=empty+1\n",
    "len(PL), empty"
   ]
  },
  {
   "cell_type": "markdown",
   "id": "1ec1bcbc",
   "metadata": {
    "papermill": {
     "duration": 0.023528,
     "end_time": "2022-06-29T07:34:24.602673",
     "exception": false,
     "start_time": "2022-06-29T07:34:24.579145",
     "status": "completed"
    },
    "tags": []
   },
   "source": [
    "# Names from Index are Perfect "
   ]
  },
  {
   "cell_type": "markdown",
   "id": "3b0dc073",
   "metadata": {
    "papermill": {
     "duration": 0.021957,
     "end_time": "2022-06-29T07:34:24.647425",
     "exception": false,
     "start_time": "2022-06-29T07:34:24.625468",
     "status": "completed"
    },
    "tags": []
   },
   "source": [
    "****"
   ]
  },
  {
   "cell_type": "markdown",
   "id": "15faaf3c",
   "metadata": {
    "papermill": {
     "duration": 0.022571,
     "end_time": "2022-06-29T07:34:24.692372",
     "exception": false,
     "start_time": "2022-06-29T07:34:24.669801",
     "status": "completed"
    },
    "tags": []
   },
   "source": [
    "# Order ontonotes"
   ]
  },
  {
   "cell_type": "code",
   "execution_count": 13,
   "id": "83b5f07a",
   "metadata": {
    "execution": {
     "iopub.execute_input": "2022-06-29T07:34:24.739907Z",
     "iopub.status.busy": "2022-06-29T07:34:24.739122Z",
     "iopub.status.idle": "2022-06-29T07:34:25.023239Z",
     "shell.execute_reply": "2022-06-29T07:34:25.022017Z"
    },
    "papermill": {
     "duration": 0.311495,
     "end_time": "2022-06-29T07:34:25.026350",
     "exception": false,
     "start_time": "2022-06-29T07:34:24.714855",
     "status": "completed"
    },
    "tags": []
   },
   "outputs": [],
   "source": [
    "order_ent=pd.read_csv(\"../input/all-csv/to_compare_result_order.csv\")"
   ]
  },
  {
   "cell_type": "code",
   "execution_count": 14,
   "id": "2e3d3196",
   "metadata": {
    "execution": {
     "iopub.execute_input": "2022-06-29T07:34:25.079413Z",
     "iopub.status.busy": "2022-06-29T07:34:25.078512Z",
     "iopub.status.idle": "2022-06-29T07:34:25.108070Z",
     "shell.execute_reply": "2022-06-29T07:34:25.106688Z"
    },
    "papermill": {
     "duration": 0.061882,
     "end_time": "2022-06-29T07:34:25.111827",
     "exception": false,
     "start_time": "2022-06-29T07:34:25.049945",
     "status": "completed"
    },
    "tags": []
   },
   "outputs": [
    {
     "data": {
      "text/html": [
       "<div>\n",
       "<style scoped>\n",
       "    .dataframe tbody tr th:only-of-type {\n",
       "        vertical-align: middle;\n",
       "    }\n",
       "\n",
       "    .dataframe tbody tr th {\n",
       "        vertical-align: top;\n",
       "    }\n",
       "\n",
       "    .dataframe thead th {\n",
       "        text-align: right;\n",
       "    }\n",
       "</style>\n",
       "<table border=\"1\" class=\"dataframe\">\n",
       "  <thead>\n",
       "    <tr style=\"text-align: right;\">\n",
       "      <th></th>\n",
       "      <th>order_text</th>\n",
       "      <th>PERSON-ontonotes</th>\n",
       "      <th>GPE-ontonotes</th>\n",
       "      <th>ORG-ontonotes</th>\n",
       "      <th>Date-ontonotes</th>\n",
       "      <th>LOC-ontonotes</th>\n",
       "      <th>Building-ontonotes</th>\n",
       "      <th>postDate-ontonotes</th>\n",
       "      <th>standard_date-ontonotes</th>\n",
       "      <th>PERSON-nerenglarge</th>\n",
       "      <th>LOC-nerenglarge</th>\n",
       "      <th>ORG-nerenglarge</th>\n",
       "      <th>other_namelarge</th>\n",
       "      <th>PERSON-nerenglish</th>\n",
       "      <th>LOC-nerenglish</th>\n",
       "      <th>ORG-nerenglish</th>\n",
       "      <th>Other_name-nerenglish</th>\n",
       "    </tr>\n",
       "  </thead>\n",
       "  <tbody>\n",
       "    <tr>\n",
       "      <th>0</th>\n",
       "      <td>R G. R.R . THIS ORDER NOT TRANSFERABLE . U.S. ...</td>\n",
       "      <td>['E . Cranford', 'Lewis B. Parsons', 'Major Kn...</td>\n",
       "      <td>['Raleigh N.C', 'Warrenton N.C', 'New York']</td>\n",
       "      <td>['Samuel Gale Co .']</td>\n",
       "      <td>['Aug 6 1866', 'Aug 1866']</td>\n",
       "      <td>[]</td>\n",
       "      <td>['67487']</td>\n",
       "      <td>['6-Aug-1866']</td>\n",
       "      <td>['6-August-1866']</td>\n",
       "      <td>['Cranford', 'Lewis B. Parsons', 'Gaston R.R']</td>\n",
       "      <td>['U.S.', 'Raleigh N.C', 'Warrenton N.C', 'Rale...</td>\n",
       "      <td>['Samuel Gale Co', 'Regiment Freedman', 'Rail ...</td>\n",
       "      <td>[]</td>\n",
       "      <td>[]</td>\n",
       "      <td>['Ral', 'Gaston R.R', 'Raleigh N.C.', 'Broadwa...</td>\n",
       "      <td>['Cranford']</td>\n",
       "      <td>[]</td>\n",
       "    </tr>\n",
       "    <tr>\n",
       "      <th>1</th>\n",
       "      <td>Certified Copy of Order , Extract , within tra...</td>\n",
       "      <td>['E. Crawford']</td>\n",
       "      <td>['Raleigh N.C']</td>\n",
       "      <td>[]</td>\n",
       "      <td>['Aug 6 1866']</td>\n",
       "      <td>[]</td>\n",
       "      <td>[]</td>\n",
       "      <td>['6-Aug-1866']</td>\n",
       "      <td>['6-August-1866']</td>\n",
       "      <td>['Robinson Clinton', 'E. Crawford']</td>\n",
       "      <td>['Raleigh N.C']</td>\n",
       "      <td>[]</td>\n",
       "      <td>[]</td>\n",
       "      <td>[]</td>\n",
       "      <td>[]</td>\n",
       "      <td>[]</td>\n",
       "      <td>[]</td>\n",
       "    </tr>\n",
       "    <tr>\n",
       "      <th>2</th>\n",
       "      <td>Bureau of Refugees , Freedmen Abandoned Lands ...</td>\n",
       "      <td>['KELLEY', 'EDWARD McPHERSON', 'JONATHAN WORTH']</td>\n",
       "      <td>['Raleigh', 'N.C.', 'United States', 'Alabama'...</td>\n",
       "      <td>['Bureau of Refugees', 'House of Representativ...</td>\n",
       "      <td>['May 8th , 1866', 'May 1 , 1866', '1st']</td>\n",
       "      <td>[]</td>\n",
       "      <td>['2d', 'III']</td>\n",
       "      <td>['8-May-1866', '1-May-1866']</td>\n",
       "      <td>['8-May-1866', '1-May-1866']</td>\n",
       "      <td>['KELLEY', 'EDWARD McPHERSON', 'E. WHITTLESEY'...</td>\n",
       "      <td>['State of North Carolina', 'Raleigh', 'N.C.',...</td>\n",
       "      <td>['Bureau of Refugees , Freedmen Abandoned Land...</td>\n",
       "      <td>[]</td>\n",
       "      <td>['JONATHAN WORTH']</td>\n",
       "      <td>['Raleigh', 'N.C.', 'United States', 'Alabama'...</td>\n",
       "      <td>['Officers Agents of Bureau', 'House of Repres...</td>\n",
       "      <td>[]</td>\n",
       "    </tr>\n",
       "    <tr>\n",
       "      <th>3</th>\n",
       "      <td>HEADQUARTERS DEPARTMENT OF NORTH CAROLINA , Ra...</td>\n",
       "      <td>['Joseph E. Johnston']</td>\n",
       "      <td>['Raleigh', 'North Carolina']</td>\n",
       "      <td>['HEADQUARTERS DEPARTMENT OF NORTH CAROLINA', ...</td>\n",
       "      <td>['January 12th , 1866']</td>\n",
       "      <td>[]</td>\n",
       "      <td>['4', 'II', 'III']</td>\n",
       "      <td>['12-January-1866']</td>\n",
       "      <td>['12-January-1866']</td>\n",
       "      <td>['Joseph E. Johnston']</td>\n",
       "      <td>['NORTH CAROLINA', 'Raleigh', 'North Carolina'...</td>\n",
       "      <td>['Government']</td>\n",
       "      <td>[]</td>\n",
       "      <td>['Joseph E. Johnston']</td>\n",
       "      <td>['NORTH CAROLINA', 'Raleigh', 'North Carolina']</td>\n",
       "      <td>[]</td>\n",
       "      <td>[]</td>\n",
       "    </tr>\n",
       "    <tr>\n",
       "      <th>4</th>\n",
       "      <td>IV . Animals sold counties collected unless wo...</td>\n",
       "      <td>['J A . Campbell', 'James H Anderson']</td>\n",
       "      <td>['U.S.']</td>\n",
       "      <td>['Headquarters', 'Government']</td>\n",
       "      <td>['first day of February , proximo']</td>\n",
       "      <td>[]</td>\n",
       "      <td>['VI']</td>\n",
       "      <td>[]</td>\n",
       "      <td>[]</td>\n",
       "      <td>['J A . Campbell', 'James H Anderson']</td>\n",
       "      <td>['U.S.', 'U.S. C.S', 'C.S']</td>\n",
       "      <td>['Government']</td>\n",
       "      <td>[]</td>\n",
       "      <td>['James H Anderson']</td>\n",
       "      <td>['U.S.']</td>\n",
       "      <td>[]</td>\n",
       "      <td>['C.S']</td>\n",
       "    </tr>\n",
       "  </tbody>\n",
       "</table>\n",
       "</div>"
      ],
      "text/plain": [
       "                                          order_text  \\\n",
       "0  R G. R.R . THIS ORDER NOT TRANSFERABLE . U.S. ...   \n",
       "1  Certified Copy of Order , Extract , within tra...   \n",
       "2  Bureau of Refugees , Freedmen Abandoned Lands ...   \n",
       "3  HEADQUARTERS DEPARTMENT OF NORTH CAROLINA , Ra...   \n",
       "4  IV . Animals sold counties collected unless wo...   \n",
       "\n",
       "                                    PERSON-ontonotes  \\\n",
       "0  ['E . Cranford', 'Lewis B. Parsons', 'Major Kn...   \n",
       "1                                    ['E. Crawford']   \n",
       "2   ['KELLEY', 'EDWARD McPHERSON', 'JONATHAN WORTH']   \n",
       "3                             ['Joseph E. Johnston']   \n",
       "4             ['J A . Campbell', 'James H Anderson']   \n",
       "\n",
       "                                       GPE-ontonotes  \\\n",
       "0       ['Raleigh N.C', 'Warrenton N.C', 'New York']   \n",
       "1                                    ['Raleigh N.C']   \n",
       "2  ['Raleigh', 'N.C.', 'United States', 'Alabama'...   \n",
       "3                      ['Raleigh', 'North Carolina']   \n",
       "4                                           ['U.S.']   \n",
       "\n",
       "                                       ORG-ontonotes  \\\n",
       "0                               ['Samuel Gale Co .']   \n",
       "1                                                 []   \n",
       "2  ['Bureau of Refugees', 'House of Representativ...   \n",
       "3  ['HEADQUARTERS DEPARTMENT OF NORTH CAROLINA', ...   \n",
       "4                     ['Headquarters', 'Government']   \n",
       "\n",
       "                              Date-ontonotes LOC-ontonotes  \\\n",
       "0                 ['Aug 6 1866', 'Aug 1866']            []   \n",
       "1                             ['Aug 6 1866']            []   \n",
       "2  ['May 8th , 1866', 'May 1 , 1866', '1st']            []   \n",
       "3                    ['January 12th , 1866']            []   \n",
       "4        ['first day of February , proximo']            []   \n",
       "\n",
       "   Building-ontonotes            postDate-ontonotes  \\\n",
       "0           ['67487']                ['6-Aug-1866']   \n",
       "1                  []                ['6-Aug-1866']   \n",
       "2       ['2d', 'III']  ['8-May-1866', '1-May-1866']   \n",
       "3  ['4', 'II', 'III']           ['12-January-1866']   \n",
       "4              ['VI']                            []   \n",
       "\n",
       "        standard_date-ontonotes  \\\n",
       "0             ['6-August-1866']   \n",
       "1             ['6-August-1866']   \n",
       "2  ['8-May-1866', '1-May-1866']   \n",
       "3           ['12-January-1866']   \n",
       "4                            []   \n",
       "\n",
       "                                  PERSON-nerenglarge  \\\n",
       "0     ['Cranford', 'Lewis B. Parsons', 'Gaston R.R']   \n",
       "1                ['Robinson Clinton', 'E. Crawford']   \n",
       "2  ['KELLEY', 'EDWARD McPHERSON', 'E. WHITTLESEY'...   \n",
       "3                             ['Joseph E. Johnston']   \n",
       "4             ['J A . Campbell', 'James H Anderson']   \n",
       "\n",
       "                                     LOC-nerenglarge  \\\n",
       "0  ['U.S.', 'Raleigh N.C', 'Warrenton N.C', 'Rale...   \n",
       "1                                    ['Raleigh N.C']   \n",
       "2  ['State of North Carolina', 'Raleigh', 'N.C.',...   \n",
       "3  ['NORTH CAROLINA', 'Raleigh', 'North Carolina'...   \n",
       "4                        ['U.S.', 'U.S. C.S', 'C.S']   \n",
       "\n",
       "                                     ORG-nerenglarge other_namelarge  \\\n",
       "0  ['Samuel Gale Co', 'Regiment Freedman', 'Rail ...              []   \n",
       "1                                                 []              []   \n",
       "2  ['Bureau of Refugees , Freedmen Abandoned Land...              []   \n",
       "3                                     ['Government']              []   \n",
       "4                                     ['Government']              []   \n",
       "\n",
       "        PERSON-nerenglish                                     LOC-nerenglish  \\\n",
       "0                      []  ['Ral', 'Gaston R.R', 'Raleigh N.C.', 'Broadwa...   \n",
       "1                      []                                                 []   \n",
       "2      ['JONATHAN WORTH']  ['Raleigh', 'N.C.', 'United States', 'Alabama'...   \n",
       "3  ['Joseph E. Johnston']    ['NORTH CAROLINA', 'Raleigh', 'North Carolina']   \n",
       "4    ['James H Anderson']                                           ['U.S.']   \n",
       "\n",
       "                                      ORG-nerenglish Other_name-nerenglish  \n",
       "0                                       ['Cranford']                    []  \n",
       "1                                                 []                    []  \n",
       "2  ['Officers Agents of Bureau', 'House of Repres...                    []  \n",
       "3                                                 []                    []  \n",
       "4                                                 []               ['C.S']  "
      ]
     },
     "execution_count": 14,
     "metadata": {},
     "output_type": "execute_result"
    }
   ],
   "source": [
    "order_ent.head()"
   ]
  },
  {
   "cell_type": "code",
   "execution_count": 15,
   "id": "dbac2f46",
   "metadata": {
    "execution": {
     "iopub.execute_input": "2022-06-29T07:34:25.173724Z",
     "iopub.status.busy": "2022-06-29T07:34:25.172679Z",
     "iopub.status.idle": "2022-06-29T07:34:25.191582Z",
     "shell.execute_reply": "2022-06-29T07:34:25.190635Z"
    },
    "papermill": {
     "duration": 0.051857,
     "end_time": "2022-06-29T07:34:25.194227",
     "exception": false,
     "start_time": "2022-06-29T07:34:25.142370",
     "status": "completed"
    },
    "tags": []
   },
   "outputs": [],
   "source": [
    "order_text=order_ent[\"order_text\"]\n",
    "order_Per_onto=order_ent[\"PERSON-ontonotes\"]\n",
    "order_GPE_onto=order_ent[\"GPE-ontonotes\"]\n",
    "order_ORG_onto=order_ent[\"ORG-ontonotes\"]\n",
    "order_date_onto=order_ent[\"standard_date-ontonotes\"]\n",
    "order_loc_onto=order_ent[\"LOC-ontonotes\"]"
   ]
  },
  {
   "cell_type": "code",
   "execution_count": 16,
   "id": "fbc25dbd",
   "metadata": {
    "execution": {
     "iopub.execute_input": "2022-06-29T07:34:25.248413Z",
     "iopub.status.busy": "2022-06-29T07:34:25.247483Z",
     "iopub.status.idle": "2022-06-29T07:34:25.255376Z",
     "shell.execute_reply": "2022-06-29T07:34:25.254297Z"
    },
    "papermill": {
     "duration": 0.042979,
     "end_time": "2022-06-29T07:34:25.262931",
     "exception": false,
     "start_time": "2022-06-29T07:34:25.219952",
     "status": "completed"
    },
    "tags": []
   },
   "outputs": [
    {
     "data": {
      "text/plain": [
       "'190 By Order of Col. James V. Bomford Jacob F. Chur . Bvt . Lt. Col. A.A.A.G . Bureau of Refugees Freedmen A.L . Head Qrs . Asst . Commissioner Raleigh N.C. Jan. 16th 1867 Special Order No . 8 Leave of absence twelve days hereby granted Lieut Edgar H. McQuigg V.R.C . Asst Supt Bureau R.F . A.L . Wilmington N.C. By Command of Col. J. V. Bomford Jacob F. Chur . Bvt . Lt. Col. A.A.A . Genl Bureau of Refugees Freedmen c Hd Qrs Asst Commissioner Raleigh N.C. Jan. 18th 1867 Special Order No . 9 In compliance instructions Maj Genl O.O . Howard Commissioner , Bvt . Maj. Thos P. Johnston Chf Qr Mr Bureau State pay trustees of Baptist Female Seminary following amounts rent of rooms used Bureau upon premises known Guion Hotel City of Raleigh recommended board of Officers appointed purpose . For three rooms main building occupied offices of Bureau of R.F . A.L . April 1st 1866 Aug 1st 1866 rate of Twelve dollars per month per room . For four rooms detatched building occupied offices of Bureau of R.F . A.L . April 2d 1866 , Dec 31st 1866 , rate of twelve dollars 12 per month per room . By Command of Col. J. V. Bomford Jacob F. Chur . Bvt . Lt. Col. A.A.A . Genl 191 Bureau of Refugees Freedmen c Hd Qrs Asst Commissioner Raleigh N.C. Jan. 19th 1867 Special Order No . 10 I. Manchester W. Weld appointed Agent of Bureau of R.F . A.L . hereby assigned duty Fayetteville N.C. relieve Justin Hodge Agent . II . The resignation of Justin Hodge Agent of Bureau of R.F . A.L . Fayetteville N.C. hereby accepted take effect relieved Mr. M. W. Weld By Command of Col. J. V. Bomford Jacob F. Chur . Bvt . Lt. Col. A.A.A.G . Bureau of Refugees Freedmen c Hd Qrs Asst Commissioner Raleigh N.C. Jan. 20th 1867 Special Order No . 11 During temporary absence of Bt Lt Col Jacob F. Chur Act Asst Adjt Genl , Bt Maj F. A. Seeley act Asst Adjt Genl . By Command of Col. J. V. Bomford Jacob F. Chur . Bvt . Lt. Col. A.A.A.G .'"
      ]
     },
     "execution_count": 16,
     "metadata": {},
     "output_type": "execute_result"
    }
   ],
   "source": [
    "order_text[1000]"
   ]
  },
  {
   "cell_type": "code",
   "execution_count": 17,
   "id": "513f1c7b",
   "metadata": {
    "execution": {
     "iopub.execute_input": "2022-06-29T07:34:25.313820Z",
     "iopub.status.busy": "2022-06-29T07:34:25.313375Z",
     "iopub.status.idle": "2022-06-29T07:34:25.320886Z",
     "shell.execute_reply": "2022-06-29T07:34:25.319773Z"
    },
    "papermill": {
     "duration": 0.034274,
     "end_time": "2022-06-29T07:34:25.323261",
     "exception": false,
     "start_time": "2022-06-29T07:34:25.288987",
     "status": "completed"
    },
    "tags": []
   },
   "outputs": [
    {
     "data": {
      "text/plain": [
       "\"['James V. Bomford', 'J. V. Bomford', 'Manchester W. Weld', 'Justin Hodge', 'M. W. Weld', 'Jacob F. Chur', 'F . A. Seeley']\""
      ]
     },
     "execution_count": 17,
     "metadata": {},
     "output_type": "execute_result"
    }
   ],
   "source": [
    "order_Per_onto[1000]"
   ]
  },
  {
   "cell_type": "code",
   "execution_count": 18,
   "id": "68f6a4ea",
   "metadata": {
    "execution": {
     "iopub.execute_input": "2022-06-29T07:34:25.373522Z",
     "iopub.status.busy": "2022-06-29T07:34:25.372685Z",
     "iopub.status.idle": "2022-06-29T07:34:25.378697Z",
     "shell.execute_reply": "2022-06-29T07:34:25.377873Z"
    },
    "papermill": {
     "duration": 0.033256,
     "end_time": "2022-06-29T07:34:25.380706",
     "exception": false,
     "start_time": "2022-06-29T07:34:25.347450",
     "status": "completed"
    },
    "tags": []
   },
   "outputs": [
    {
     "data": {
      "text/plain": [
       "\"['Raleigh N.C', 'Raleigh', 'Fayetteville N.C.']\""
      ]
     },
     "execution_count": 18,
     "metadata": {},
     "output_type": "execute_result"
    }
   ],
   "source": [
    "order_GPE_onto[1000]"
   ]
  },
  {
   "cell_type": "code",
   "execution_count": 19,
   "id": "55457ecd",
   "metadata": {
    "execution": {
     "iopub.execute_input": "2022-06-29T07:34:25.429949Z",
     "iopub.status.busy": "2022-06-29T07:34:25.429151Z",
     "iopub.status.idle": "2022-06-29T07:34:25.435329Z",
     "shell.execute_reply": "2022-06-29T07:34:25.434582Z"
    },
    "papermill": {
     "duration": 0.033286,
     "end_time": "2022-06-29T07:34:25.437396",
     "exception": false,
     "start_time": "2022-06-29T07:34:25.404110",
     "status": "completed"
    },
    "tags": []
   },
   "outputs": [
    {
     "data": {
      "text/plain": [
       "\"['Bureau of Refugees Freedmen A.L', 'Bureau of Refugees Freedmen', 'Baptist Female Seminary', 'Bureau of R.F . A.L']\""
      ]
     },
     "execution_count": 19,
     "metadata": {},
     "output_type": "execute_result"
    }
   ],
   "source": [
    "order_ORG_onto[1000]"
   ]
  },
  {
   "cell_type": "code",
   "execution_count": 20,
   "id": "c094b044",
   "metadata": {
    "execution": {
     "iopub.execute_input": "2022-06-29T07:34:25.486839Z",
     "iopub.status.busy": "2022-06-29T07:34:25.485897Z",
     "iopub.status.idle": "2022-06-29T07:34:25.492811Z",
     "shell.execute_reply": "2022-06-29T07:34:25.491817Z"
    },
    "papermill": {
     "duration": 0.034084,
     "end_time": "2022-06-29T07:34:25.494934",
     "exception": false,
     "start_time": "2022-06-29T07:34:25.460850",
     "status": "completed"
    },
    "tags": []
   },
   "outputs": [
    {
     "data": {
      "text/plain": [
       "'[]'"
      ]
     },
     "execution_count": 20,
     "metadata": {},
     "output_type": "execute_result"
    }
   ],
   "source": [
    "order_loc_onto[1000]"
   ]
  },
  {
   "cell_type": "code",
   "execution_count": 21,
   "id": "17027db7",
   "metadata": {
    "execution": {
     "iopub.execute_input": "2022-06-29T07:34:25.545063Z",
     "iopub.status.busy": "2022-06-29T07:34:25.544269Z",
     "iopub.status.idle": "2022-06-29T07:34:25.550413Z",
     "shell.execute_reply": "2022-06-29T07:34:25.549620Z"
    },
    "papermill": {
     "duration": 0.033912,
     "end_time": "2022-06-29T07:34:25.552374",
     "exception": false,
     "start_time": "2022-06-29T07:34:25.518462",
     "status": "completed"
    },
    "tags": []
   },
   "outputs": [
    {
     "data": {
      "text/plain": [
       "\"['16-Jan.-1867', '18-Jan.-1867', '1-April-1866', '1-August-1866', '2-April-1866', '31-December-1866', '19-Jan.-1867', '20-Jan.-1867']\""
      ]
     },
     "execution_count": 21,
     "metadata": {},
     "output_type": "execute_result"
    }
   ],
   "source": [
    "order_date_onto[1000]"
   ]
  },
  {
   "cell_type": "markdown",
   "id": "53cf829a",
   "metadata": {
    "papermill": {
     "duration": 0.023284,
     "end_time": "2022-06-29T07:34:25.599249",
     "exception": false,
     "start_time": "2022-06-29T07:34:25.575965",
     "status": "completed"
    },
    "tags": []
   },
   "source": [
    "**good**"
   ]
  },
  {
   "cell_type": "code",
   "execution_count": 22,
   "id": "df1038e7",
   "metadata": {
    "execution": {
     "iopub.execute_input": "2022-06-29T07:34:25.649508Z",
     "iopub.status.busy": "2022-06-29T07:34:25.648867Z",
     "iopub.status.idle": "2022-06-29T07:34:25.719013Z",
     "shell.execute_reply": "2022-06-29T07:34:25.718164Z"
    },
    "papermill": {
     "duration": 0.098141,
     "end_time": "2022-06-29T07:34:25.721383",
     "exception": false,
     "start_time": "2022-06-29T07:34:25.623242",
     "status": "completed"
    },
    "tags": []
   },
   "outputs": [
    {
     "data": {
      "text/plain": [
       "(453588, 0)"
      ]
     },
     "execution_count": 22,
     "metadata": {},
     "output_type": "execute_result"
    }
   ],
   "source": [
    "PL=[]\n",
    "empty=0\n",
    "for i in order_Per_onto :\n",
    "    for j in i:\n",
    "        PL.append(j)\n",
    "for i in order_Per_onto:\n",
    "    if i==[]:\n",
    "        empty=empty+1\n",
    "len(PL), empty"
   ]
  },
  {
   "cell_type": "markdown",
   "id": "27dfbc6b",
   "metadata": {
    "papermill": {
     "duration": 0.023472,
     "end_time": "2022-06-29T07:34:25.768659",
     "exception": false,
     "start_time": "2022-06-29T07:34:25.745187",
     "status": "completed"
    },
    "tags": []
   },
   "source": [
    "**very good**"
   ]
  },
  {
   "cell_type": "code",
   "execution_count": 23,
   "id": "03141890",
   "metadata": {
    "execution": {
     "iopub.execute_input": "2022-06-29T07:34:25.818632Z",
     "iopub.status.busy": "2022-06-29T07:34:25.817467Z",
     "iopub.status.idle": "2022-06-29T07:34:25.852944Z",
     "shell.execute_reply": "2022-06-29T07:34:25.851726Z"
    },
    "papermill": {
     "duration": 0.063303,
     "end_time": "2022-06-29T07:34:25.855529",
     "exception": false,
     "start_time": "2022-06-29T07:34:25.792226",
     "status": "completed"
    },
    "tags": []
   },
   "outputs": [
    {
     "data": {
      "text/plain": [
       "(167185, 2515)"
      ]
     },
     "execution_count": 23,
     "metadata": {},
     "output_type": "execute_result"
    }
   ],
   "source": [
    "PL=[]\n",
    "empty=0\n",
    "for i in order_date_onto :\n",
    "    for j in i:\n",
    "        PL.append(j)\n",
    "for i in order_date_onto:\n",
    "    if i==\"[]\":\n",
    "        empty=empty+1\n",
    "len(PL), empty"
   ]
  },
  {
   "cell_type": "markdown",
   "id": "c9995fdb",
   "metadata": {
    "papermill": {
     "duration": 0.0237,
     "end_time": "2022-06-29T07:34:25.903439",
     "exception": false,
     "start_time": "2022-06-29T07:34:25.879739",
     "status": "completed"
    },
    "tags": []
   },
   "source": [
    "**uii very good**"
   ]
  },
  {
   "cell_type": "code",
   "execution_count": 24,
   "id": "f6b0af0d",
   "metadata": {
    "execution": {
     "iopub.execute_input": "2022-06-29T07:34:25.955430Z",
     "iopub.status.busy": "2022-06-29T07:34:25.954897Z",
     "iopub.status.idle": "2022-06-29T07:34:26.009753Z",
     "shell.execute_reply": "2022-06-29T07:34:26.008888Z"
    },
    "papermill": {
     "duration": 0.082775,
     "end_time": "2022-06-29T07:34:26.011922",
     "exception": false,
     "start_time": "2022-06-29T07:34:25.929147",
     "status": "completed"
    },
    "tags": []
   },
   "outputs": [
    {
     "data": {
      "text/plain": [
       "(343109, 1295)"
      ]
     },
     "execution_count": 24,
     "metadata": {},
     "output_type": "execute_result"
    }
   ],
   "source": [
    "PL=[]\n",
    "empty=0\n",
    "for i in order_GPE_onto :\n",
    "    for j in i:\n",
    "        PL.append(j)\n",
    "for i in order_GPE_onto:\n",
    "    if i==\"[]\":\n",
    "        empty=empty+1\n",
    "len(PL), empty"
   ]
  },
  {
   "cell_type": "markdown",
   "id": "26a6b8ad",
   "metadata": {
    "papermill": {
     "duration": 0.023759,
     "end_time": "2022-06-29T07:34:26.059775",
     "exception": false,
     "start_time": "2022-06-29T07:34:26.036016",
     "status": "completed"
    },
    "tags": []
   },
   "source": [
    "****"
   ]
  },
  {
   "cell_type": "markdown",
   "id": "a866d49f",
   "metadata": {
    "papermill": {
     "duration": 0.024208,
     "end_time": "2022-06-29T07:34:26.108327",
     "exception": false,
     "start_time": "2022-06-29T07:34:26.084119",
     "status": "completed"
    },
    "tags": []
   },
   "source": [
    "# Order Ner-english"
   ]
  },
  {
   "cell_type": "code",
   "execution_count": 25,
   "id": "a83720ea",
   "metadata": {
    "execution": {
     "iopub.execute_input": "2022-06-29T07:34:26.158957Z",
     "iopub.status.busy": "2022-06-29T07:34:26.157911Z",
     "iopub.status.idle": "2022-06-29T07:34:26.178546Z",
     "shell.execute_reply": "2022-06-29T07:34:26.177688Z"
    },
    "papermill": {
     "duration": 0.048314,
     "end_time": "2022-06-29T07:34:26.180765",
     "exception": false,
     "start_time": "2022-06-29T07:34:26.132451",
     "status": "completed"
    },
    "tags": []
   },
   "outputs": [
    {
     "data": {
      "text/html": [
       "<div>\n",
       "<style scoped>\n",
       "    .dataframe tbody tr th:only-of-type {\n",
       "        vertical-align: middle;\n",
       "    }\n",
       "\n",
       "    .dataframe tbody tr th {\n",
       "        vertical-align: top;\n",
       "    }\n",
       "\n",
       "    .dataframe thead th {\n",
       "        text-align: right;\n",
       "    }\n",
       "</style>\n",
       "<table border=\"1\" class=\"dataframe\">\n",
       "  <thead>\n",
       "    <tr style=\"text-align: right;\">\n",
       "      <th></th>\n",
       "      <th>order_text</th>\n",
       "      <th>PERSON-ontonotes</th>\n",
       "      <th>GPE-ontonotes</th>\n",
       "      <th>ORG-ontonotes</th>\n",
       "      <th>Date-ontonotes</th>\n",
       "      <th>LOC-ontonotes</th>\n",
       "      <th>Building-ontonotes</th>\n",
       "      <th>postDate-ontonotes</th>\n",
       "      <th>standard_date-ontonotes</th>\n",
       "      <th>PERSON-nerenglarge</th>\n",
       "      <th>LOC-nerenglarge</th>\n",
       "      <th>ORG-nerenglarge</th>\n",
       "      <th>other_namelarge</th>\n",
       "      <th>PERSON-nerenglish</th>\n",
       "      <th>LOC-nerenglish</th>\n",
       "      <th>ORG-nerenglish</th>\n",
       "      <th>Other_name-nerenglish</th>\n",
       "    </tr>\n",
       "  </thead>\n",
       "  <tbody>\n",
       "    <tr>\n",
       "      <th>0</th>\n",
       "      <td>R G. R.R . THIS ORDER NOT TRANSFERABLE . U.S. ...</td>\n",
       "      <td>['E . Cranford', 'Lewis B. Parsons', 'Major Kn...</td>\n",
       "      <td>['Raleigh N.C', 'Warrenton N.C', 'New York']</td>\n",
       "      <td>['Samuel Gale Co .']</td>\n",
       "      <td>['Aug 6 1866', 'Aug 1866']</td>\n",
       "      <td>[]</td>\n",
       "      <td>['67487']</td>\n",
       "      <td>['6-Aug-1866']</td>\n",
       "      <td>['6-August-1866']</td>\n",
       "      <td>['Cranford', 'Lewis B. Parsons', 'Gaston R.R']</td>\n",
       "      <td>['U.S.', 'Raleigh N.C', 'Warrenton N.C', 'Rale...</td>\n",
       "      <td>['Samuel Gale Co', 'Regiment Freedman', 'Rail ...</td>\n",
       "      <td>[]</td>\n",
       "      <td>[]</td>\n",
       "      <td>['Ral', 'Gaston R.R', 'Raleigh N.C.', 'Broadwa...</td>\n",
       "      <td>['Cranford']</td>\n",
       "      <td>[]</td>\n",
       "    </tr>\n",
       "    <tr>\n",
       "      <th>1</th>\n",
       "      <td>Certified Copy of Order , Extract , within tra...</td>\n",
       "      <td>['E. Crawford']</td>\n",
       "      <td>['Raleigh N.C']</td>\n",
       "      <td>[]</td>\n",
       "      <td>['Aug 6 1866']</td>\n",
       "      <td>[]</td>\n",
       "      <td>[]</td>\n",
       "      <td>['6-Aug-1866']</td>\n",
       "      <td>['6-August-1866']</td>\n",
       "      <td>['Robinson Clinton', 'E. Crawford']</td>\n",
       "      <td>['Raleigh N.C']</td>\n",
       "      <td>[]</td>\n",
       "      <td>[]</td>\n",
       "      <td>[]</td>\n",
       "      <td>[]</td>\n",
       "      <td>[]</td>\n",
       "      <td>[]</td>\n",
       "    </tr>\n",
       "    <tr>\n",
       "      <th>2</th>\n",
       "      <td>Bureau of Refugees , Freedmen Abandoned Lands ...</td>\n",
       "      <td>['KELLEY', 'EDWARD McPHERSON', 'JONATHAN WORTH']</td>\n",
       "      <td>['Raleigh', 'N.C.', 'United States', 'Alabama'...</td>\n",
       "      <td>['Bureau of Refugees', 'House of Representativ...</td>\n",
       "      <td>['May 8th , 1866', 'May 1 , 1866', '1st']</td>\n",
       "      <td>[]</td>\n",
       "      <td>['2d', 'III']</td>\n",
       "      <td>['8-May-1866', '1-May-1866']</td>\n",
       "      <td>['8-May-1866', '1-May-1866']</td>\n",
       "      <td>['KELLEY', 'EDWARD McPHERSON', 'E. WHITTLESEY'...</td>\n",
       "      <td>['State of North Carolina', 'Raleigh', 'N.C.',...</td>\n",
       "      <td>['Bureau of Refugees , Freedmen Abandoned Land...</td>\n",
       "      <td>[]</td>\n",
       "      <td>['JONATHAN WORTH']</td>\n",
       "      <td>['Raleigh', 'N.C.', 'United States', 'Alabama'...</td>\n",
       "      <td>['Officers Agents of Bureau', 'House of Repres...</td>\n",
       "      <td>[]</td>\n",
       "    </tr>\n",
       "    <tr>\n",
       "      <th>3</th>\n",
       "      <td>HEADQUARTERS DEPARTMENT OF NORTH CAROLINA , Ra...</td>\n",
       "      <td>['Joseph E. Johnston']</td>\n",
       "      <td>['Raleigh', 'North Carolina']</td>\n",
       "      <td>['HEADQUARTERS DEPARTMENT OF NORTH CAROLINA', ...</td>\n",
       "      <td>['January 12th , 1866']</td>\n",
       "      <td>[]</td>\n",
       "      <td>['4', 'II', 'III']</td>\n",
       "      <td>['12-January-1866']</td>\n",
       "      <td>['12-January-1866']</td>\n",
       "      <td>['Joseph E. Johnston']</td>\n",
       "      <td>['NORTH CAROLINA', 'Raleigh', 'North Carolina'...</td>\n",
       "      <td>['Government']</td>\n",
       "      <td>[]</td>\n",
       "      <td>['Joseph E. Johnston']</td>\n",
       "      <td>['NORTH CAROLINA', 'Raleigh', 'North Carolina']</td>\n",
       "      <td>[]</td>\n",
       "      <td>[]</td>\n",
       "    </tr>\n",
       "    <tr>\n",
       "      <th>4</th>\n",
       "      <td>IV . Animals sold counties collected unless wo...</td>\n",
       "      <td>['J A . Campbell', 'James H Anderson']</td>\n",
       "      <td>['U.S.']</td>\n",
       "      <td>['Headquarters', 'Government']</td>\n",
       "      <td>['first day of February , proximo']</td>\n",
       "      <td>[]</td>\n",
       "      <td>['VI']</td>\n",
       "      <td>[]</td>\n",
       "      <td>[]</td>\n",
       "      <td>['J A . Campbell', 'James H Anderson']</td>\n",
       "      <td>['U.S.', 'U.S. C.S', 'C.S']</td>\n",
       "      <td>['Government']</td>\n",
       "      <td>[]</td>\n",
       "      <td>['James H Anderson']</td>\n",
       "      <td>['U.S.']</td>\n",
       "      <td>[]</td>\n",
       "      <td>['C.S']</td>\n",
       "    </tr>\n",
       "  </tbody>\n",
       "</table>\n",
       "</div>"
      ],
      "text/plain": [
       "                                          order_text  \\\n",
       "0  R G. R.R . THIS ORDER NOT TRANSFERABLE . U.S. ...   \n",
       "1  Certified Copy of Order , Extract , within tra...   \n",
       "2  Bureau of Refugees , Freedmen Abandoned Lands ...   \n",
       "3  HEADQUARTERS DEPARTMENT OF NORTH CAROLINA , Ra...   \n",
       "4  IV . Animals sold counties collected unless wo...   \n",
       "\n",
       "                                    PERSON-ontonotes  \\\n",
       "0  ['E . Cranford', 'Lewis B. Parsons', 'Major Kn...   \n",
       "1                                    ['E. Crawford']   \n",
       "2   ['KELLEY', 'EDWARD McPHERSON', 'JONATHAN WORTH']   \n",
       "3                             ['Joseph E. Johnston']   \n",
       "4             ['J A . Campbell', 'James H Anderson']   \n",
       "\n",
       "                                       GPE-ontonotes  \\\n",
       "0       ['Raleigh N.C', 'Warrenton N.C', 'New York']   \n",
       "1                                    ['Raleigh N.C']   \n",
       "2  ['Raleigh', 'N.C.', 'United States', 'Alabama'...   \n",
       "3                      ['Raleigh', 'North Carolina']   \n",
       "4                                           ['U.S.']   \n",
       "\n",
       "                                       ORG-ontonotes  \\\n",
       "0                               ['Samuel Gale Co .']   \n",
       "1                                                 []   \n",
       "2  ['Bureau of Refugees', 'House of Representativ...   \n",
       "3  ['HEADQUARTERS DEPARTMENT OF NORTH CAROLINA', ...   \n",
       "4                     ['Headquarters', 'Government']   \n",
       "\n",
       "                              Date-ontonotes LOC-ontonotes  \\\n",
       "0                 ['Aug 6 1866', 'Aug 1866']            []   \n",
       "1                             ['Aug 6 1866']            []   \n",
       "2  ['May 8th , 1866', 'May 1 , 1866', '1st']            []   \n",
       "3                    ['January 12th , 1866']            []   \n",
       "4        ['first day of February , proximo']            []   \n",
       "\n",
       "   Building-ontonotes            postDate-ontonotes  \\\n",
       "0           ['67487']                ['6-Aug-1866']   \n",
       "1                  []                ['6-Aug-1866']   \n",
       "2       ['2d', 'III']  ['8-May-1866', '1-May-1866']   \n",
       "3  ['4', 'II', 'III']           ['12-January-1866']   \n",
       "4              ['VI']                            []   \n",
       "\n",
       "        standard_date-ontonotes  \\\n",
       "0             ['6-August-1866']   \n",
       "1             ['6-August-1866']   \n",
       "2  ['8-May-1866', '1-May-1866']   \n",
       "3           ['12-January-1866']   \n",
       "4                            []   \n",
       "\n",
       "                                  PERSON-nerenglarge  \\\n",
       "0     ['Cranford', 'Lewis B. Parsons', 'Gaston R.R']   \n",
       "1                ['Robinson Clinton', 'E. Crawford']   \n",
       "2  ['KELLEY', 'EDWARD McPHERSON', 'E. WHITTLESEY'...   \n",
       "3                             ['Joseph E. Johnston']   \n",
       "4             ['J A . Campbell', 'James H Anderson']   \n",
       "\n",
       "                                     LOC-nerenglarge  \\\n",
       "0  ['U.S.', 'Raleigh N.C', 'Warrenton N.C', 'Rale...   \n",
       "1                                    ['Raleigh N.C']   \n",
       "2  ['State of North Carolina', 'Raleigh', 'N.C.',...   \n",
       "3  ['NORTH CAROLINA', 'Raleigh', 'North Carolina'...   \n",
       "4                        ['U.S.', 'U.S. C.S', 'C.S']   \n",
       "\n",
       "                                     ORG-nerenglarge other_namelarge  \\\n",
       "0  ['Samuel Gale Co', 'Regiment Freedman', 'Rail ...              []   \n",
       "1                                                 []              []   \n",
       "2  ['Bureau of Refugees , Freedmen Abandoned Land...              []   \n",
       "3                                     ['Government']              []   \n",
       "4                                     ['Government']              []   \n",
       "\n",
       "        PERSON-nerenglish                                     LOC-nerenglish  \\\n",
       "0                      []  ['Ral', 'Gaston R.R', 'Raleigh N.C.', 'Broadwa...   \n",
       "1                      []                                                 []   \n",
       "2      ['JONATHAN WORTH']  ['Raleigh', 'N.C.', 'United States', 'Alabama'...   \n",
       "3  ['Joseph E. Johnston']    ['NORTH CAROLINA', 'Raleigh', 'North Carolina']   \n",
       "4    ['James H Anderson']                                           ['U.S.']   \n",
       "\n",
       "                                      ORG-nerenglish Other_name-nerenglish  \n",
       "0                                       ['Cranford']                    []  \n",
       "1                                                 []                    []  \n",
       "2  ['Officers Agents of Bureau', 'House of Repres...                    []  \n",
       "3                                                 []                    []  \n",
       "4                                                 []               ['C.S']  "
      ]
     },
     "execution_count": 25,
     "metadata": {},
     "output_type": "execute_result"
    }
   ],
   "source": [
    "order_ent.head()"
   ]
  },
  {
   "cell_type": "code",
   "execution_count": 26,
   "id": "d0a34fef",
   "metadata": {
    "execution": {
     "iopub.execute_input": "2022-06-29T07:34:26.232848Z",
     "iopub.status.busy": "2022-06-29T07:34:26.232363Z",
     "iopub.status.idle": "2022-06-29T07:34:26.237540Z",
     "shell.execute_reply": "2022-06-29T07:34:26.236707Z"
    },
    "papermill": {
     "duration": 0.033697,
     "end_time": "2022-06-29T07:34:26.239536",
     "exception": false,
     "start_time": "2022-06-29T07:34:26.205839",
     "status": "completed"
    },
    "tags": []
   },
   "outputs": [],
   "source": [
    "order_Per_ner=order_ent[\"PERSON-nerenglish\"]\n",
    "order_ORG_ner=order_ent[\"ORG-nerenglish\"]\n",
    "order_other_ner=order_ent[\"Other_name-nerenglish\"]\n",
    "order_loc_ner=order_ent[\"LOC-nerenglish\"]"
   ]
  },
  {
   "cell_type": "code",
   "execution_count": 27,
   "id": "563f538d",
   "metadata": {
    "execution": {
     "iopub.execute_input": "2022-06-29T07:34:26.291082Z",
     "iopub.status.busy": "2022-06-29T07:34:26.290615Z",
     "iopub.status.idle": "2022-06-29T07:34:26.296366Z",
     "shell.execute_reply": "2022-06-29T07:34:26.295607Z"
    },
    "papermill": {
     "duration": 0.034649,
     "end_time": "2022-06-29T07:34:26.298753",
     "exception": false,
     "start_time": "2022-06-29T07:34:26.264104",
     "status": "completed"
    },
    "tags": []
   },
   "outputs": [
    {
     "data": {
      "text/plain": [
       "'Bureau of Refugees , Freedmen Abandoned Lands , Headquarters Assistant Commissioner , State of North Carolina , Raleigh , N.C. , May 8th , 1866 . Circular No . 4 The attention of Officers Agents of Bureau called following resolution of House of Representatives : THIRTYNINTH CONGRESSFIRST SESSION . Congress of United States . In House of Representatives , May 1 , 1866 . Mr. KELLEY submitted following , adopted : WHEREAS , It reported citizens of Alabama , formal memorial two Houses of Congress , many of people of mountain districts of State suffering want of adequate supplies of food , considerable numbers of died of actual starvation ; therefore , Be resolved , That President requested instruct proper officers of Bureau of Refugees Freedman enquire condition of said districts , districts of late insurgent States , suffering may said exist , relieve people thereof , provide corn seed planting crop sufficient annual supply of family requiring relief . ATTEST : Signed EDWARD McPHERSON , Clerk . II . In order carry purpose of resolution , reports forwarded without delay headquarters , specifying 1st . The number of persons county needing supplies of food prevent actual suffering , classifying accordance enclosed Form , No . 1 . 2d . The names of persons need corn , seed planting , according enclosed Form No . 2 . III . The season already far advanced , relief contemplated must furnished early possible . The information required therefore obtained forwarded , even exclusion of business . E. WHITTLESEY . Brevt . Brig . Genl . Assit Commr . OFFICIAL : Assistant Adjutant General . It hoped Sheriffs of every county State aid officers of Freedmens Bureau procuring information sought Circular . JONATHAN WORTH , Governor of North Carolina .'"
      ]
     },
     "execution_count": 27,
     "metadata": {},
     "output_type": "execute_result"
    }
   ],
   "source": [
    "order_text[2]"
   ]
  },
  {
   "cell_type": "code",
   "execution_count": 28,
   "id": "98fbc9bd",
   "metadata": {
    "execution": {
     "iopub.execute_input": "2022-06-29T07:34:26.351067Z",
     "iopub.status.busy": "2022-06-29T07:34:26.350297Z",
     "iopub.status.idle": "2022-06-29T07:34:26.356089Z",
     "shell.execute_reply": "2022-06-29T07:34:26.355351Z"
    },
    "papermill": {
     "duration": 0.034774,
     "end_time": "2022-06-29T07:34:26.358279",
     "exception": false,
     "start_time": "2022-06-29T07:34:26.323505",
     "status": "completed"
    },
    "tags": []
   },
   "outputs": [
    {
     "data": {
      "text/plain": [
       "\"['JONATHAN WORTH']\""
      ]
     },
     "execution_count": 28,
     "metadata": {},
     "output_type": "execute_result"
    }
   ],
   "source": [
    "order_Per_ner[2]"
   ]
  },
  {
   "cell_type": "code",
   "execution_count": 29,
   "id": "900d3f5b",
   "metadata": {
    "execution": {
     "iopub.execute_input": "2022-06-29T07:34:26.411348Z",
     "iopub.status.busy": "2022-06-29T07:34:26.410532Z",
     "iopub.status.idle": "2022-06-29T07:34:26.416315Z",
     "shell.execute_reply": "2022-06-29T07:34:26.415605Z"
    },
    "papermill": {
     "duration": 0.034726,
     "end_time": "2022-06-29T07:34:26.418332",
     "exception": false,
     "start_time": "2022-06-29T07:34:26.383606",
     "status": "completed"
    },
    "tags": []
   },
   "outputs": [
    {
     "data": {
      "text/plain": [
       "\"['Officers Agents of Bureau', 'House of Representatives', 'Houses of Congress', 'Bureau of Refugees Freedman', 'Freedmens Bureau']\""
      ]
     },
     "execution_count": 29,
     "metadata": {},
     "output_type": "execute_result"
    }
   ],
   "source": [
    "order_ORG_ner[2]"
   ]
  },
  {
   "cell_type": "markdown",
   "id": "ffd66197",
   "metadata": {
    "papermill": {
     "duration": 0.024867,
     "end_time": "2022-06-29T07:34:26.468747",
     "exception": false,
     "start_time": "2022-06-29T07:34:26.443880",
     "status": "completed"
    },
    "tags": []
   },
   "source": [
    "**names of ner english are catastrophic**"
   ]
  },
  {
   "cell_type": "markdown",
   "id": "ea8654b5",
   "metadata": {
    "papermill": {
     "duration": 0.024527,
     "end_time": "2022-06-29T07:34:26.518636",
     "exception": false,
     "start_time": "2022-06-29T07:34:26.494109",
     "status": "completed"
    },
    "tags": []
   },
   "source": [
    "****"
   ]
  },
  {
   "cell_type": "markdown",
   "id": "eb545981",
   "metadata": {
    "papermill": {
     "duration": 0.024686,
     "end_time": "2022-06-29T07:34:26.568191",
     "exception": false,
     "start_time": "2022-06-29T07:34:26.543505",
     "status": "completed"
    },
    "tags": []
   },
   "source": [
    "# Order Ner english large "
   ]
  },
  {
   "cell_type": "code",
   "execution_count": 30,
   "id": "6213d2b3",
   "metadata": {
    "execution": {
     "iopub.execute_input": "2022-06-29T07:34:26.621390Z",
     "iopub.status.busy": "2022-06-29T07:34:26.620583Z",
     "iopub.status.idle": "2022-06-29T07:34:26.625884Z",
     "shell.execute_reply": "2022-06-29T07:34:26.625045Z"
    },
    "papermill": {
     "duration": 0.033965,
     "end_time": "2022-06-29T07:34:26.627935",
     "exception": false,
     "start_time": "2022-06-29T07:34:26.593970",
     "status": "completed"
    },
    "tags": []
   },
   "outputs": [],
   "source": [
    "order_Per_large=order_ent[\"PERSON-nerenglarge\"]\n",
    "order_ORG_large=order_ent[\"ORG-nerenglarge\"]\n",
    "order_other_large=order_ent[\"other_namelarge\"]\n",
    "order_loc_large=order_ent[\"LOC-nerenglarge\"]"
   ]
  },
  {
   "cell_type": "code",
   "execution_count": 31,
   "id": "a3a5b8e2",
   "metadata": {
    "execution": {
     "iopub.execute_input": "2022-06-29T07:34:26.680425Z",
     "iopub.status.busy": "2022-06-29T07:34:26.679650Z",
     "iopub.status.idle": "2022-06-29T07:34:26.685453Z",
     "shell.execute_reply": "2022-06-29T07:34:26.684691Z"
    },
    "papermill": {
     "duration": 0.034329,
     "end_time": "2022-06-29T07:34:26.687423",
     "exception": false,
     "start_time": "2022-06-29T07:34:26.653094",
     "status": "completed"
    },
    "tags": []
   },
   "outputs": [
    {
     "data": {
      "text/plain": [
       "'190 By Order of Col. James V. Bomford Jacob F. Chur . Bvt . Lt. Col. A.A.A.G . Bureau of Refugees Freedmen A.L . Head Qrs . Asst . Commissioner Raleigh N.C. Jan. 16th 1867 Special Order No . 8 Leave of absence twelve days hereby granted Lieut Edgar H. McQuigg V.R.C . Asst Supt Bureau R.F . A.L . Wilmington N.C. By Command of Col. J. V. Bomford Jacob F. Chur . Bvt . Lt. Col. A.A.A . Genl Bureau of Refugees Freedmen c Hd Qrs Asst Commissioner Raleigh N.C. Jan. 18th 1867 Special Order No . 9 In compliance instructions Maj Genl O.O . Howard Commissioner , Bvt . Maj. Thos P. Johnston Chf Qr Mr Bureau State pay trustees of Baptist Female Seminary following amounts rent of rooms used Bureau upon premises known Guion Hotel City of Raleigh recommended board of Officers appointed purpose . For three rooms main building occupied offices of Bureau of R.F . A.L . April 1st 1866 Aug 1st 1866 rate of Twelve dollars per month per room . For four rooms detatched building occupied offices of Bureau of R.F . A.L . April 2d 1866 , Dec 31st 1866 , rate of twelve dollars 12 per month per room . By Command of Col. J. V. Bomford Jacob F. Chur . Bvt . Lt. Col. A.A.A . Genl 191 Bureau of Refugees Freedmen c Hd Qrs Asst Commissioner Raleigh N.C. Jan. 19th 1867 Special Order No . 10 I. Manchester W. Weld appointed Agent of Bureau of R.F . A.L . hereby assigned duty Fayetteville N.C. relieve Justin Hodge Agent . II . The resignation of Justin Hodge Agent of Bureau of R.F . A.L . Fayetteville N.C. hereby accepted take effect relieved Mr. M. W. Weld By Command of Col. J. V. Bomford Jacob F. Chur . Bvt . Lt. Col. A.A.A.G . Bureau of Refugees Freedmen c Hd Qrs Asst Commissioner Raleigh N.C. Jan. 20th 1867 Special Order No . 11 During temporary absence of Bt Lt Col Jacob F. Chur Act Asst Adjt Genl , Bt Maj F. A. Seeley act Asst Adjt Genl . By Command of Col. J. V. Bomford Jacob F. Chur . Bvt . Lt. Col. A.A.A.G .'"
      ]
     },
     "execution_count": 31,
     "metadata": {},
     "output_type": "execute_result"
    }
   ],
   "source": [
    "order_text[1000]"
   ]
  },
  {
   "cell_type": "code",
   "execution_count": 32,
   "id": "e4a6f980",
   "metadata": {
    "execution": {
     "iopub.execute_input": "2022-06-29T07:34:26.740646Z",
     "iopub.status.busy": "2022-06-29T07:34:26.739862Z",
     "iopub.status.idle": "2022-06-29T07:34:26.745742Z",
     "shell.execute_reply": "2022-06-29T07:34:26.744978Z"
    },
    "papermill": {
     "duration": 0.035107,
     "end_time": "2022-06-29T07:34:26.747859",
     "exception": false,
     "start_time": "2022-06-29T07:34:26.712752",
     "status": "completed"
    },
    "tags": []
   },
   "outputs": [
    {
     "data": {
      "text/plain": [
       "\"['James V. Bomford', 'Jacob F. Chur', 'Edgar H .', 'McQuigg', 'J. V. Bomford', 'Genl O.O . Howard', 'Thos P. Johnston', 'Manchester W. Weld', 'Justin Hodge', 'M. W. Weld', 'F . A. Seeley']\""
      ]
     },
     "execution_count": 32,
     "metadata": {},
     "output_type": "execute_result"
    }
   ],
   "source": [
    "order_Per_large[1000]"
   ]
  },
  {
   "cell_type": "code",
   "execution_count": 33,
   "id": "55141b63",
   "metadata": {
    "execution": {
     "iopub.execute_input": "2022-06-29T07:34:26.801284Z",
     "iopub.status.busy": "2022-06-29T07:34:26.800498Z",
     "iopub.status.idle": "2022-06-29T07:34:26.806370Z",
     "shell.execute_reply": "2022-06-29T07:34:26.805604Z"
    },
    "papermill": {
     "duration": 0.035236,
     "end_time": "2022-06-29T07:34:26.808491",
     "exception": false,
     "start_time": "2022-06-29T07:34:26.773255",
     "status": "completed"
    },
    "tags": []
   },
   "outputs": [
    {
     "data": {
      "text/plain": [
       "\"['Bureau of Refugees Freedmen A.L', 'Bureau R.F . A.L', 'Bureau of Refugees Freedmen', 'Baptist Female Seminary', 'Bureau', 'Guion Hotel', 'Bureau of R.F . A.L', 'Bureau of R.F . A.L .']\""
      ]
     },
     "execution_count": 33,
     "metadata": {},
     "output_type": "execute_result"
    }
   ],
   "source": [
    "order_ORG_large[1000]"
   ]
  },
  {
   "cell_type": "code",
   "execution_count": 34,
   "id": "22830aab",
   "metadata": {
    "execution": {
     "iopub.execute_input": "2022-06-29T07:34:26.861914Z",
     "iopub.status.busy": "2022-06-29T07:34:26.861124Z",
     "iopub.status.idle": "2022-06-29T07:34:26.867464Z",
     "shell.execute_reply": "2022-06-29T07:34:26.866610Z"
    },
    "papermill": {
     "duration": 0.035823,
     "end_time": "2022-06-29T07:34:26.869728",
     "exception": false,
     "start_time": "2022-06-29T07:34:26.833905",
     "status": "completed"
    },
    "tags": []
   },
   "outputs": [
    {
     "data": {
      "text/plain": [
       "\"['Raleigh N.C', 'Wilmington N.C', 'City of Raleigh', 'Fayetteville N.C.']\""
      ]
     },
     "execution_count": 34,
     "metadata": {},
     "output_type": "execute_result"
    }
   ],
   "source": [
    "order_loc_large[1000]"
   ]
  },
  {
   "cell_type": "code",
   "execution_count": 35,
   "id": "e2675db8",
   "metadata": {
    "execution": {
     "iopub.execute_input": "2022-06-29T07:34:26.924311Z",
     "iopub.status.busy": "2022-06-29T07:34:26.923148Z",
     "iopub.status.idle": "2022-06-29T07:34:26.929684Z",
     "shell.execute_reply": "2022-06-29T07:34:26.928883Z"
    },
    "papermill": {
     "duration": 0.035603,
     "end_time": "2022-06-29T07:34:26.931710",
     "exception": false,
     "start_time": "2022-06-29T07:34:26.896107",
     "status": "completed"
    },
    "tags": []
   },
   "outputs": [
    {
     "data": {
      "text/plain": [
       "\"['General Orders']\""
      ]
     },
     "execution_count": 35,
     "metadata": {},
     "output_type": "execute_result"
    }
   ],
   "source": [
    "order_other_large[102]"
   ]
  },
  {
   "cell_type": "markdown",
   "id": "1b4ab307",
   "metadata": {
    "papermill": {
     "duration": 0.025524,
     "end_time": "2022-06-29T07:34:26.983063",
     "exception": false,
     "start_time": "2022-06-29T07:34:26.957539",
     "status": "completed"
    },
    "tags": []
   },
   "source": [
    "**veryy good**"
   ]
  },
  {
   "cell_type": "code",
   "execution_count": 36,
   "id": "8d970834",
   "metadata": {
    "execution": {
     "iopub.execute_input": "2022-06-29T07:34:27.038813Z",
     "iopub.status.busy": "2022-06-29T07:34:27.037511Z",
     "iopub.status.idle": "2022-06-29T07:34:27.118969Z",
     "shell.execute_reply": "2022-06-29T07:34:27.117770Z"
    },
    "papermill": {
     "duration": 0.111313,
     "end_time": "2022-06-29T07:34:27.121674",
     "exception": false,
     "start_time": "2022-06-29T07:34:27.010361",
     "status": "completed"
    },
    "tags": []
   },
   "outputs": [
    {
     "data": {
      "text/plain": [
       "(556132, 1438)"
      ]
     },
     "execution_count": 36,
     "metadata": {},
     "output_type": "execute_result"
    }
   ],
   "source": [
    "PL=[]\n",
    "empty=0\n",
    "for i in order_Per_large :\n",
    "    for j in i:\n",
    "        PL.append(j)\n",
    "for i in order_Per_large:\n",
    "    if i=='[]':\n",
    "        empty=empty+1\n",
    "len(PL), empty"
   ]
  },
  {
   "cell_type": "code",
   "execution_count": 37,
   "id": "1bc4a64a",
   "metadata": {
    "execution": {
     "iopub.execute_input": "2022-06-29T07:34:27.176984Z",
     "iopub.status.busy": "2022-06-29T07:34:27.175933Z",
     "iopub.status.idle": "2022-06-29T07:34:27.254617Z",
     "shell.execute_reply": "2022-06-29T07:34:27.253467Z"
    },
    "papermill": {
     "duration": 0.109228,
     "end_time": "2022-06-29T07:34:27.257059",
     "exception": false,
     "start_time": "2022-06-29T07:34:27.147831",
     "status": "completed"
    },
    "tags": []
   },
   "outputs": [
    {
     "data": {
      "text/plain": [
       "(564296, 1382)"
      ]
     },
     "execution_count": 37,
     "metadata": {},
     "output_type": "execute_result"
    }
   ],
   "source": [
    "PL=[]\n",
    "empty=0\n",
    "for i in order_ORG_large :\n",
    "    for j in i:\n",
    "        PL.append(j)\n",
    "for i in order_ORG_large:\n",
    "    if i=='[]':\n",
    "        empty=empty+1\n",
    "len(PL), empty"
   ]
  },
  {
   "cell_type": "code",
   "execution_count": 38,
   "id": "119a7d9a",
   "metadata": {
    "execution": {
     "iopub.execute_input": "2022-06-29T07:34:27.311139Z",
     "iopub.status.busy": "2022-06-29T07:34:27.310681Z",
     "iopub.status.idle": "2022-06-29T07:34:27.386741Z",
     "shell.execute_reply": "2022-06-29T07:34:27.385903Z"
    },
    "papermill": {
     "duration": 0.105687,
     "end_time": "2022-06-29T07:34:27.388980",
     "exception": false,
     "start_time": "2022-06-29T07:34:27.283293",
     "status": "completed"
    },
    "tags": []
   },
   "outputs": [
    {
     "data": {
      "text/plain": [
       "(543223, 858)"
      ]
     },
     "execution_count": 38,
     "metadata": {},
     "output_type": "execute_result"
    }
   ],
   "source": [
    "PL=[]\n",
    "empty=0\n",
    "for i in order_loc_large :\n",
    "    for j in i:\n",
    "        PL.append(j)\n",
    "for i in order_loc_large:\n",
    "    if i=='[]':\n",
    "        empty=empty+1\n",
    "len(PL), empty"
   ]
  },
  {
   "cell_type": "markdown",
   "id": "2db28160",
   "metadata": {
    "papermill": {
     "duration": 0.025587,
     "end_time": "2022-06-29T07:34:27.441213",
     "exception": false,
     "start_time": "2022-06-29T07:34:27.415626",
     "status": "completed"
    },
    "tags": []
   },
   "source": [
    "# Ner enlish large is better than ner english in extracted entities (as usuall i think)"
   ]
  },
  {
   "cell_type": "markdown",
   "id": "4dc6301c",
   "metadata": {
    "papermill": {
     "duration": 0.025749,
     "end_time": "2022-06-29T07:34:27.493085",
     "exception": false,
     "start_time": "2022-06-29T07:34:27.467336",
     "status": "completed"
    },
    "tags": []
   },
   "source": [
    "****"
   ]
  },
  {
   "cell_type": "markdown",
   "id": "298f3695",
   "metadata": {
    "papermill": {
     "duration": 0.025946,
     "end_time": "2022-06-29T07:34:27.545095",
     "exception": false,
     "start_time": "2022-06-29T07:34:27.519149",
     "status": "completed"
    },
    "tags": []
   },
   "source": [
    "# Contracts Ontonotes"
   ]
  },
  {
   "cell_type": "code",
   "execution_count": 39,
   "id": "e4aeec81",
   "metadata": {
    "execution": {
     "iopub.execute_input": "2022-06-29T07:34:27.600253Z",
     "iopub.status.busy": "2022-06-29T07:34:27.599088Z",
     "iopub.status.idle": "2022-06-29T07:34:28.604442Z",
     "shell.execute_reply": "2022-06-29T07:34:28.603222Z"
    },
    "papermill": {
     "duration": 1.035951,
     "end_time": "2022-06-29T07:34:28.607317",
     "exception": false,
     "start_time": "2022-06-29T07:34:27.571366",
     "status": "completed"
    },
    "tags": []
   },
   "outputs": [],
   "source": [
    "contract_ent=pd.read_csv(\"../input/all-csv/to_compare_result_contract_ner.csv\")\n",
    "contract_onto=pd.read_csv(\"../input/all-csv/contract_onto (1).csv\")"
   ]
  },
  {
   "cell_type": "code",
   "execution_count": 40,
   "id": "ef55a292",
   "metadata": {
    "execution": {
     "iopub.execute_input": "2022-06-29T07:34:28.664331Z",
     "iopub.status.busy": "2022-06-29T07:34:28.663505Z",
     "iopub.status.idle": "2022-06-29T07:34:28.682615Z",
     "shell.execute_reply": "2022-06-29T07:34:28.681565Z"
    },
    "papermill": {
     "duration": 0.049698,
     "end_time": "2022-06-29T07:34:28.685058",
     "exception": false,
     "start_time": "2022-06-29T07:34:28.635360",
     "status": "completed"
    },
    "tags": []
   },
   "outputs": [
    {
     "data": {
      "text/html": [
       "<div>\n",
       "<style scoped>\n",
       "    .dataframe tbody tr th:only-of-type {\n",
       "        vertical-align: middle;\n",
       "    }\n",
       "\n",
       "    .dataframe tbody tr th {\n",
       "        vertical-align: top;\n",
       "    }\n",
       "\n",
       "    .dataframe thead th {\n",
       "        text-align: right;\n",
       "    }\n",
       "</style>\n",
       "<table border=\"1\" class=\"dataframe\">\n",
       "  <thead>\n",
       "    <tr style=\"text-align: right;\">\n",
       "      <th></th>\n",
       "      <th>contract_text</th>\n",
       "      <th>PERSON-nerenglish</th>\n",
       "      <th>LOC-nerenglish</th>\n",
       "      <th>ORG-nerenglish</th>\n",
       "      <th>Name-nerenglish</th>\n",
       "      <th>Other_name-nerenglish</th>\n",
       "      <th>Name-nerenglarge</th>\n",
       "      <th>LOC-nerenglarge</th>\n",
       "      <th>ORG-nerenglarge</th>\n",
       "      <th>other_namelarge</th>\n",
       "    </tr>\n",
       "  </thead>\n",
       "  <tbody>\n",
       "    <tr>\n",
       "      <th>0</th>\n",
       "      <td>North Carolina This indenture made entered Thi...</td>\n",
       "      <td>['Thos R Underwood', 'Alfred A McKerhan', 'Wm ...</td>\n",
       "      <td>['County of Carteret', 'Shepperd Creek', 'Cree...</td>\n",
       "      <td>[]</td>\n",
       "      <td>['Thos R Underwood', 'Alfred A McKerhan', 'Wm ...</td>\n",
       "      <td>[]</td>\n",
       "      <td>['H.G . Cutler', 'Thos R Underwood', 'Alfred A...</td>\n",
       "      <td>['North Carolina', 'County of Carteret', 'Bogu...</td>\n",
       "      <td>[]</td>\n",
       "      <td>[]</td>\n",
       "    </tr>\n",
       "    <tr>\n",
       "      <th>1</th>\n",
       "      <td>State of North Carolina Currituck County . Thi...</td>\n",
       "      <td>['John B. Etheridge']</td>\n",
       "      <td>['County State', 'Witnesseth', 'County of Curr...</td>\n",
       "      <td>[]</td>\n",
       "      <td>['John B. Etheridge']</td>\n",
       "      <td>[]</td>\n",
       "      <td>['John B. Etheridge', 'Little John Etheridge']</td>\n",
       "      <td>['State of North Carolina', 'Currituck County'...</td>\n",
       "      <td>[]</td>\n",
       "      <td>[]</td>\n",
       "    </tr>\n",
       "    <tr>\n",
       "      <th>2</th>\n",
       "      <td>near Lizzie Etheridges gate , thence South 56 ...</td>\n",
       "      <td>['John B Etheridge', 'Douglas Adam D. Etheridge']</td>\n",
       "      <td>['Red Hill', 'Croatan Sound']</td>\n",
       "      <td>[]</td>\n",
       "      <td>['John B Etheridge', 'Douglas Adam D. Etheridge']</td>\n",
       "      <td>[]</td>\n",
       "      <td>['Little John Etheridge', 'John B Etheridge', ...</td>\n",
       "      <td>['Lizzie Etheridges gate', 'Red Hill', 'Croata...</td>\n",
       "      <td>[]</td>\n",
       "      <td>[]</td>\n",
       "    </tr>\n",
       "    <tr>\n",
       "      <th>3</th>\n",
       "      <td>Copy Agreement of Apprenticeship Bu Mrs. Kate ...</td>\n",
       "      <td>['Kate V.Chamblin']</td>\n",
       "      <td>[]</td>\n",
       "      <td>[]</td>\n",
       "      <td>['Kate V.Chamblin']</td>\n",
       "      <td>[]</td>\n",
       "      <td>['Kate V.Chamblin', '1st', 'Geo . W. Rollins',...</td>\n",
       "      <td>['La', 'Lake Providence Carroll']</td>\n",
       "      <td>['U.S. Army']</td>\n",
       "      <td>[]</td>\n",
       "    </tr>\n",
       "    <tr>\n",
       "      <th>4</th>\n",
       "      <td>Copy Agreement of Apprenticeship . This agreem...</td>\n",
       "      <td>['Kate V. Chambliss', 'Betty Taylor Mary Taylo...</td>\n",
       "      <td>[]</td>\n",
       "      <td>[]</td>\n",
       "      <td>['Kate V. Chambliss', 'Betty Taylor Mary Taylo...</td>\n",
       "      <td>['African']</td>\n",
       "      <td>['Mrs', 'Kate V. Chambliss', 'James Samenett',...</td>\n",
       "      <td>['Carroll Parish', 'New Orleans', 'Louisiana',...</td>\n",
       "      <td>[]</td>\n",
       "      <td>['African']</td>\n",
       "    </tr>\n",
       "  </tbody>\n",
       "</table>\n",
       "</div>"
      ],
      "text/plain": [
       "                                       contract_text  \\\n",
       "0  North Carolina This indenture made entered Thi...   \n",
       "1  State of North Carolina Currituck County . Thi...   \n",
       "2  near Lizzie Etheridges gate , thence South 56 ...   \n",
       "3  Copy Agreement of Apprenticeship Bu Mrs. Kate ...   \n",
       "4  Copy Agreement of Apprenticeship . This agreem...   \n",
       "\n",
       "                                   PERSON-nerenglish  \\\n",
       "0  ['Thos R Underwood', 'Alfred A McKerhan', 'Wm ...   \n",
       "1                              ['John B. Etheridge']   \n",
       "2  ['John B Etheridge', 'Douglas Adam D. Etheridge']   \n",
       "3                                ['Kate V.Chamblin']   \n",
       "4  ['Kate V. Chambliss', 'Betty Taylor Mary Taylo...   \n",
       "\n",
       "                                      LOC-nerenglish ORG-nerenglish  \\\n",
       "0  ['County of Carteret', 'Shepperd Creek', 'Cree...             []   \n",
       "1  ['County State', 'Witnesseth', 'County of Curr...             []   \n",
       "2                      ['Red Hill', 'Croatan Sound']             []   \n",
       "3                                                 []             []   \n",
       "4                                                 []             []   \n",
       "\n",
       "                                     Name-nerenglish Other_name-nerenglish  \\\n",
       "0  ['Thos R Underwood', 'Alfred A McKerhan', 'Wm ...                    []   \n",
       "1                              ['John B. Etheridge']                    []   \n",
       "2  ['John B Etheridge', 'Douglas Adam D. Etheridge']                    []   \n",
       "3                                ['Kate V.Chamblin']                    []   \n",
       "4  ['Kate V. Chambliss', 'Betty Taylor Mary Taylo...           ['African']   \n",
       "\n",
       "                                    Name-nerenglarge  \\\n",
       "0  ['H.G . Cutler', 'Thos R Underwood', 'Alfred A...   \n",
       "1     ['John B. Etheridge', 'Little John Etheridge']   \n",
       "2  ['Little John Etheridge', 'John B Etheridge', ...   \n",
       "3  ['Kate V.Chamblin', '1st', 'Geo . W. Rollins',...   \n",
       "4  ['Mrs', 'Kate V. Chambliss', 'James Samenett',...   \n",
       "\n",
       "                                     LOC-nerenglarge ORG-nerenglarge  \\\n",
       "0  ['North Carolina', 'County of Carteret', 'Bogu...              []   \n",
       "1  ['State of North Carolina', 'Currituck County'...              []   \n",
       "2  ['Lizzie Etheridges gate', 'Red Hill', 'Croata...              []   \n",
       "3                  ['La', 'Lake Providence Carroll']   ['U.S. Army']   \n",
       "4  ['Carroll Parish', 'New Orleans', 'Louisiana',...              []   \n",
       "\n",
       "  other_namelarge  \n",
       "0              []  \n",
       "1              []  \n",
       "2              []  \n",
       "3              []  \n",
       "4     ['African']  "
      ]
     },
     "execution_count": 40,
     "metadata": {},
     "output_type": "execute_result"
    }
   ],
   "source": [
    "contract_ent.head()"
   ]
  },
  {
   "cell_type": "code",
   "execution_count": 41,
   "id": "a92553a7",
   "metadata": {
    "execution": {
     "iopub.execute_input": "2022-06-29T07:34:28.741821Z",
     "iopub.status.busy": "2022-06-29T07:34:28.740610Z",
     "iopub.status.idle": "2022-06-29T07:34:28.759034Z",
     "shell.execute_reply": "2022-06-29T07:34:28.757902Z"
    },
    "papermill": {
     "duration": 0.049035,
     "end_time": "2022-06-29T07:34:28.761226",
     "exception": false,
     "start_time": "2022-06-29T07:34:28.712191",
     "status": "completed"
    },
    "tags": []
   },
   "outputs": [
    {
     "data": {
      "text/html": [
       "<div>\n",
       "<style scoped>\n",
       "    .dataframe tbody tr th:only-of-type {\n",
       "        vertical-align: middle;\n",
       "    }\n",
       "\n",
       "    .dataframe tbody tr th {\n",
       "        vertical-align: top;\n",
       "    }\n",
       "\n",
       "    .dataframe thead th {\n",
       "        text-align: right;\n",
       "    }\n",
       "</style>\n",
       "<table border=\"1\" class=\"dataframe\">\n",
       "  <thead>\n",
       "    <tr style=\"text-align: right;\">\n",
       "      <th></th>\n",
       "      <th>contract_text</th>\n",
       "      <th>Name-ontonotes</th>\n",
       "      <th>GPE-ontonotes</th>\n",
       "      <th>ORG-ontonotes</th>\n",
       "      <th>Date-ontonotes</th>\n",
       "      <th>LOC-ontonotes</th>\n",
       "      <th>Building-ontonotes</th>\n",
       "      <th>Cardinal-ontonotes</th>\n",
       "      <th>postDate-ontonotes</th>\n",
       "      <th>standard_date-ontonotes</th>\n",
       "    </tr>\n",
       "  </thead>\n",
       "  <tbody>\n",
       "    <tr>\n",
       "      <th>0</th>\n",
       "      <td>North Carolina This indenture made entered Thi...</td>\n",
       "      <td>['H.G . Cutler', 'Thos R Underwood', 'Alfred A...</td>\n",
       "      <td>['North Carolina', 'County of Carteret']</td>\n",
       "      <td>[]</td>\n",
       "      <td>['This 5th day of November 1853']</td>\n",
       "      <td>['Stake North', 'Bogue Sound', 'Shepperd Creek']</td>\n",
       "      <td>[]</td>\n",
       "      <td>['five hundred ten', '13.0', '203', '209', '4'...</td>\n",
       "      <td>['This 5-November-1853', '5-This-1853', 'This-...</td>\n",
       "      <td>['5-November-1853', '5-This-1853', '7-November...</td>\n",
       "    </tr>\n",
       "    <tr>\n",
       "      <th>1</th>\n",
       "      <td>State of North Carolina Currituck County . Thi...</td>\n",
       "      <td>['John B. Etheridge', 'Little John Etheridge',...</td>\n",
       "      <td>['North Carolina', 'Currituck County', 'County...</td>\n",
       "      <td>[]</td>\n",
       "      <td>['fifth day of September , year', 'One Thousan...</td>\n",
       "      <td>['Roanoke Island', 'Croatain Sound']</td>\n",
       "      <td>[]</td>\n",
       "      <td>[]</td>\n",
       "      <td>[]</td>\n",
       "      <td>[]</td>\n",
       "    </tr>\n",
       "    <tr>\n",
       "      <th>2</th>\n",
       "      <td>near Lizzie Etheridges gate , thence South 56 ...</td>\n",
       "      <td>['Lizzie Etheridges', 'Little John Etheridge',...</td>\n",
       "      <td>[]</td>\n",
       "      <td>[]</td>\n",
       "      <td>[]</td>\n",
       "      <td>['Red Hill', 'Croatan Sound', 'Sound']</td>\n",
       "      <td>[]</td>\n",
       "      <td>[]</td>\n",
       "      <td>[]</td>\n",
       "      <td>[]</td>\n",
       "    </tr>\n",
       "    <tr>\n",
       "      <th>3</th>\n",
       "      <td>Copy Agreement of Apprenticeship Bu Mrs. Kate ...</td>\n",
       "      <td>['Kate V.Chamblin', 'James Samenett', 'Betty T...</td>\n",
       "      <td>['Carroll Parish La']</td>\n",
       "      <td>['U.S. Army']</td>\n",
       "      <td>['Oct. 1 1866', 'Nov. 3 1866']</td>\n",
       "      <td>[]</td>\n",
       "      <td>[]</td>\n",
       "      <td>[]</td>\n",
       "      <td>['1-Oct.-1866', '3-Nov.-1866']</td>\n",
       "      <td>['1-Oct.-1866', '3-Nov.-1866']</td>\n",
       "    </tr>\n",
       "    <tr>\n",
       "      <th>4</th>\n",
       "      <td>Copy Agreement of Apprenticeship . This agreem...</td>\n",
       "      <td>['Kate V. Chambliss', 'James Samenett', 'Betty...</td>\n",
       "      <td>['New Orleans Louisiana']</td>\n",
       "      <td>[]</td>\n",
       "      <td>['1 day of October A . D. 1866', 'Octr 31 1865...</td>\n",
       "      <td>[]</td>\n",
       "      <td>[]</td>\n",
       "      <td>['two']</td>\n",
       "      <td>['1-October-1866', '31-Octr-1865', '1-Oct.-186...</td>\n",
       "      <td>['1-October-1866', '31-Octr-1865', '1-Oct.-186...</td>\n",
       "    </tr>\n",
       "  </tbody>\n",
       "</table>\n",
       "</div>"
      ],
      "text/plain": [
       "                                       contract_text  \\\n",
       "0  North Carolina This indenture made entered Thi...   \n",
       "1  State of North Carolina Currituck County . Thi...   \n",
       "2  near Lizzie Etheridges gate , thence South 56 ...   \n",
       "3  Copy Agreement of Apprenticeship Bu Mrs. Kate ...   \n",
       "4  Copy Agreement of Apprenticeship . This agreem...   \n",
       "\n",
       "                                      Name-ontonotes  \\\n",
       "0  ['H.G . Cutler', 'Thos R Underwood', 'Alfred A...   \n",
       "1  ['John B. Etheridge', 'Little John Etheridge',...   \n",
       "2  ['Lizzie Etheridges', 'Little John Etheridge',...   \n",
       "3  ['Kate V.Chamblin', 'James Samenett', 'Betty T...   \n",
       "4  ['Kate V. Chambliss', 'James Samenett', 'Betty...   \n",
       "\n",
       "                                       GPE-ontonotes  ORG-ontonotes  \\\n",
       "0           ['North Carolina', 'County of Carteret']             []   \n",
       "1  ['North Carolina', 'Currituck County', 'County...             []   \n",
       "2                                                 []             []   \n",
       "3                              ['Carroll Parish La']  ['U.S. Army']   \n",
       "4                          ['New Orleans Louisiana']             []   \n",
       "\n",
       "                                      Date-ontonotes  \\\n",
       "0                  ['This 5th day of November 1853']   \n",
       "1  ['fifth day of September , year', 'One Thousan...   \n",
       "2                                                 []   \n",
       "3                     ['Oct. 1 1866', 'Nov. 3 1866']   \n",
       "4  ['1 day of October A . D. 1866', 'Octr 31 1865...   \n",
       "\n",
       "                                      LOC-ontonotes Building-ontonotes  \\\n",
       "0  ['Stake North', 'Bogue Sound', 'Shepperd Creek']                 []   \n",
       "1              ['Roanoke Island', 'Croatain Sound']                 []   \n",
       "2            ['Red Hill', 'Croatan Sound', 'Sound']                 []   \n",
       "3                                                []                 []   \n",
       "4                                                []                 []   \n",
       "\n",
       "                                  Cardinal-ontonotes  \\\n",
       "0  ['five hundred ten', '13.0', '203', '209', '4'...   \n",
       "1                                                 []   \n",
       "2                                                 []   \n",
       "3                                                 []   \n",
       "4                                            ['two']   \n",
       "\n",
       "                                  postDate-ontonotes  \\\n",
       "0  ['This 5-November-1853', '5-This-1853', 'This-...   \n",
       "1                                                 []   \n",
       "2                                                 []   \n",
       "3                     ['1-Oct.-1866', '3-Nov.-1866']   \n",
       "4  ['1-October-1866', '31-Octr-1865', '1-Oct.-186...   \n",
       "\n",
       "                             standard_date-ontonotes  \n",
       "0  ['5-November-1853', '5-This-1853', '7-November...  \n",
       "1                                                 []  \n",
       "2                                                 []  \n",
       "3                     ['1-Oct.-1866', '3-Nov.-1866']  \n",
       "4  ['1-October-1866', '31-Octr-1865', '1-Oct.-186...  "
      ]
     },
     "execution_count": 41,
     "metadata": {},
     "output_type": "execute_result"
    }
   ],
   "source": [
    "contract_onto.head()"
   ]
  },
  {
   "cell_type": "code",
   "execution_count": 42,
   "id": "c6c75fd2",
   "metadata": {
    "execution": {
     "iopub.execute_input": "2022-06-29T07:34:28.817875Z",
     "iopub.status.busy": "2022-06-29T07:34:28.817389Z",
     "iopub.status.idle": "2022-06-29T07:34:28.824928Z",
     "shell.execute_reply": "2022-06-29T07:34:28.823819Z"
    },
    "papermill": {
     "duration": 0.039045,
     "end_time": "2022-06-29T07:34:28.827246",
     "exception": false,
     "start_time": "2022-06-29T07:34:28.788201",
     "status": "completed"
    },
    "tags": []
   },
   "outputs": [],
   "source": [
    "contract_text=contract_ent[\"contract_text\"]\n",
    "contract_Per_onto=contract_onto[\"Name-ontonotes\"]\n",
    "contract_GPE_onto=contract_onto[\"GPE-ontonotes\"]\n",
    "contract_ORG_onto=contract_onto[\"ORG-ontonotes\"]\n",
    "contract_date_onto=contract_onto[\"standard_date-ontonotes\"]\n",
    "contract_loc_onto=contract_onto[\"LOC-ontonotes\"]\n",
    "contract_cardinal=contract_onto[\"Cardinal-ontonotes\"]"
   ]
  },
  {
   "cell_type": "code",
   "execution_count": 43,
   "id": "ba076fd1",
   "metadata": {
    "execution": {
     "iopub.execute_input": "2022-06-29T07:34:28.883032Z",
     "iopub.status.busy": "2022-06-29T07:34:28.882617Z",
     "iopub.status.idle": "2022-06-29T07:34:28.889449Z",
     "shell.execute_reply": "2022-06-29T07:34:28.888387Z"
    },
    "papermill": {
     "duration": 0.037798,
     "end_time": "2022-06-29T07:34:28.892079",
     "exception": false,
     "start_time": "2022-06-29T07:34:28.854281",
     "status": "completed"
    },
    "tags": []
   },
   "outputs": [
    {
     "data": {
      "text/plain": [
       "'North Carolina This indenture made entered This 5th day of November 1853 . By H.G . Cutler of County of Carteret of first part Thos R Underwood , Alfred A McKerhan , Wm H Washington , Geo . S Stevenson , John D Williams Nathan A Stedman of second part . Whereas parties of Second part divers others associates purchased of said H. G. Cutler , tract of land situated County of Carteret bounded described follows ; beginning Stake North side of Bogue Sound running thence westwardly various corners of sound , five hundred ten poles Straight . Thence N. 13.0 E. 203 poles , thence East 209 poles , south 4 poles , thence North 85 , E. 116 poles , thence W. 20.0 W. 96 poles , thence N 45.0 E. 21 12 poles thence E. 29 12 poles , thence S. 83.0 E. 220 poles , thence South 5.0 W. Shepperd Creek thence Westerly said Creek South West Corner of tract of land converged said Cutler John Sabuton Then S 50 West along Sabutons West line beginning , containing Estimation Nine hundred four acres survey of said land made William H Marshall hereunto attached Marked A. land said'"
      ]
     },
     "execution_count": 43,
     "metadata": {},
     "output_type": "execute_result"
    }
   ],
   "source": [
    "contract_text[0]"
   ]
  },
  {
   "cell_type": "code",
   "execution_count": 44,
   "id": "ee43e37a",
   "metadata": {
    "execution": {
     "iopub.execute_input": "2022-06-29T07:34:28.949028Z",
     "iopub.status.busy": "2022-06-29T07:34:28.948541Z",
     "iopub.status.idle": "2022-06-29T07:34:28.956563Z",
     "shell.execute_reply": "2022-06-29T07:34:28.955394Z"
    },
    "papermill": {
     "duration": 0.039218,
     "end_time": "2022-06-29T07:34:28.959022",
     "exception": false,
     "start_time": "2022-06-29T07:34:28.919804",
     "status": "completed"
    },
    "tags": []
   },
   "outputs": [
    {
     "data": {
      "text/plain": [
       "'[]'"
      ]
     },
     "execution_count": 44,
     "metadata": {},
     "output_type": "execute_result"
    }
   ],
   "source": [
    "contract_date_onto[150]"
   ]
  },
  {
   "cell_type": "code",
   "execution_count": 45,
   "id": "b05e3907",
   "metadata": {
    "execution": {
     "iopub.execute_input": "2022-06-29T07:34:29.017188Z",
     "iopub.status.busy": "2022-06-29T07:34:29.016705Z",
     "iopub.status.idle": "2022-06-29T07:34:29.024058Z",
     "shell.execute_reply": "2022-06-29T07:34:29.022870Z"
    },
    "papermill": {
     "duration": 0.039623,
     "end_time": "2022-06-29T07:34:29.026577",
     "exception": false,
     "start_time": "2022-06-29T07:34:28.986954",
     "status": "completed"
    },
    "tags": []
   },
   "outputs": [
    {
     "data": {
      "text/plain": [
       "\"['H.G . Cutler', 'Thos R Underwood', 'Alfred A McKerhan', 'John D Williams', 'Nathan A Stedman', 'H . G. Cutler', 'Cutler', 'William H Marshall']\""
      ]
     },
     "execution_count": 45,
     "metadata": {},
     "output_type": "execute_result"
    }
   ],
   "source": [
    "contract_Per_onto[0]"
   ]
  },
  {
   "cell_type": "code",
   "execution_count": 46,
   "id": "d49c5533",
   "metadata": {
    "execution": {
     "iopub.execute_input": "2022-06-29T07:34:29.083717Z",
     "iopub.status.busy": "2022-06-29T07:34:29.083239Z",
     "iopub.status.idle": "2022-06-29T07:34:29.089412Z",
     "shell.execute_reply": "2022-06-29T07:34:29.088616Z"
    },
    "papermill": {
     "duration": 0.037579,
     "end_time": "2022-06-29T07:34:29.091406",
     "exception": false,
     "start_time": "2022-06-29T07:34:29.053827",
     "status": "completed"
    },
    "tags": []
   },
   "outputs": [
    {
     "data": {
      "text/plain": [
       "\"['North Carolina', 'County of Carteret']\""
      ]
     },
     "execution_count": 46,
     "metadata": {},
     "output_type": "execute_result"
    }
   ],
   "source": [
    "contract_GPE_onto[0]"
   ]
  },
  {
   "cell_type": "code",
   "execution_count": 47,
   "id": "c86658a7",
   "metadata": {
    "execution": {
     "iopub.execute_input": "2022-06-29T07:34:29.148459Z",
     "iopub.status.busy": "2022-06-29T07:34:29.147588Z",
     "iopub.status.idle": "2022-06-29T07:34:29.154801Z",
     "shell.execute_reply": "2022-06-29T07:34:29.153638Z"
    },
    "papermill": {
     "duration": 0.038514,
     "end_time": "2022-06-29T07:34:29.157271",
     "exception": false,
     "start_time": "2022-06-29T07:34:29.118757",
     "status": "completed"
    },
    "tags": []
   },
   "outputs": [
    {
     "data": {
      "text/plain": [
       "'[]'"
      ]
     },
     "execution_count": 47,
     "metadata": {},
     "output_type": "execute_result"
    }
   ],
   "source": [
    "contract_ORG_onto[0]"
   ]
  },
  {
   "cell_type": "code",
   "execution_count": 48,
   "id": "17b88a60",
   "metadata": {
    "execution": {
     "iopub.execute_input": "2022-06-29T07:34:29.214747Z",
     "iopub.status.busy": "2022-06-29T07:34:29.213570Z",
     "iopub.status.idle": "2022-06-29T07:34:29.221041Z",
     "shell.execute_reply": "2022-06-29T07:34:29.220028Z"
    },
    "papermill": {
     "duration": 0.038434,
     "end_time": "2022-06-29T07:34:29.223142",
     "exception": false,
     "start_time": "2022-06-29T07:34:29.184708",
     "status": "completed"
    },
    "tags": []
   },
   "outputs": [
    {
     "data": {
      "text/plain": [
       "\"['Stake North', 'Bogue Sound', 'Shepperd Creek']\""
      ]
     },
     "execution_count": 48,
     "metadata": {},
     "output_type": "execute_result"
    }
   ],
   "source": [
    "contract_loc_onto[0]"
   ]
  },
  {
   "cell_type": "code",
   "execution_count": 49,
   "id": "295dd86a",
   "metadata": {
    "execution": {
     "iopub.execute_input": "2022-06-29T07:34:29.280693Z",
     "iopub.status.busy": "2022-06-29T07:34:29.279531Z",
     "iopub.status.idle": "2022-06-29T07:34:29.287001Z",
     "shell.execute_reply": "2022-06-29T07:34:29.285979Z"
    },
    "papermill": {
     "duration": 0.038574,
     "end_time": "2022-06-29T07:34:29.289101",
     "exception": false,
     "start_time": "2022-06-29T07:34:29.250527",
     "status": "completed"
    },
    "tags": []
   },
   "outputs": [
    {
     "data": {
      "text/plain": [
       "\"['five hundred ten', '13.0', '203', '209', '4', '85', '116', '20.0', '96', '45.0', '21 12', '29 12', '83.0', '220', '5.0', '50']\""
      ]
     },
     "execution_count": 49,
     "metadata": {},
     "output_type": "execute_result"
    }
   ],
   "source": [
    "contract_cardinal[0]"
   ]
  },
  {
   "cell_type": "code",
   "execution_count": 50,
   "id": "ff5d2743",
   "metadata": {
    "execution": {
     "iopub.execute_input": "2022-06-29T07:34:29.347010Z",
     "iopub.status.busy": "2022-06-29T07:34:29.345845Z",
     "iopub.status.idle": "2022-06-29T07:34:29.418774Z",
     "shell.execute_reply": "2022-06-29T07:34:29.417615Z"
    },
    "papermill": {
     "duration": 0.104398,
     "end_time": "2022-06-29T07:34:29.421096",
     "exception": false,
     "start_time": "2022-06-29T07:34:29.316698",
     "status": "completed"
    },
    "tags": []
   },
   "outputs": [
    {
     "data": {
      "text/plain": [
       "(426318, 10160)"
      ]
     },
     "execution_count": 50,
     "metadata": {},
     "output_type": "execute_result"
    }
   ],
   "source": [
    "PL=[]\n",
    "empty=0\n",
    "for i in contract_date_onto :\n",
    "    for j in i:\n",
    "        PL.append(j)\n",
    "for i in contract_date_onto:\n",
    "    if i=='[]':\n",
    "        empty=empty+1\n",
    "len(PL), empty"
   ]
  },
  {
   "cell_type": "code",
   "execution_count": 51,
   "id": "f93a4579",
   "metadata": {
    "execution": {
     "iopub.execute_input": "2022-06-29T07:34:29.478748Z",
     "iopub.status.busy": "2022-06-29T07:34:29.478020Z",
     "iopub.status.idle": "2022-06-29T07:34:29.674715Z",
     "shell.execute_reply": "2022-06-29T07:34:29.673316Z"
    },
    "papermill": {
     "duration": 0.229024,
     "end_time": "2022-06-29T07:34:29.677740",
     "exception": false,
     "start_time": "2022-06-29T07:34:29.448716",
     "status": "completed"
    },
    "tags": []
   },
   "outputs": [
    {
     "data": {
      "text/plain": [
       "(1525017, 3304)"
      ]
     },
     "execution_count": 51,
     "metadata": {},
     "output_type": "execute_result"
    }
   ],
   "source": [
    "PL=[]\n",
    "empty=0\n",
    "for i in contract_Per_onto :\n",
    "    for j in i:\n",
    "        PL.append(j)\n",
    "for i in contract_Per_onto:\n",
    "    if i=='[]':\n",
    "        empty=empty+1\n",
    "len(PL), empty"
   ]
  },
  {
   "cell_type": "code",
   "execution_count": 52,
   "id": "4c182de9",
   "metadata": {
    "execution": {
     "iopub.execute_input": "2022-06-29T07:34:29.736014Z",
     "iopub.status.busy": "2022-06-29T07:34:29.735569Z",
     "iopub.status.idle": "2022-06-29T07:34:29.802037Z",
     "shell.execute_reply": "2022-06-29T07:34:29.801017Z"
    },
    "papermill": {
     "duration": 0.098569,
     "end_time": "2022-06-29T07:34:29.804363",
     "exception": false,
     "start_time": "2022-06-29T07:34:29.705794",
     "status": "completed"
    },
    "tags": []
   },
   "outputs": [
    {
     "data": {
      "text/plain": [
       "(358023, 12932)"
      ]
     },
     "execution_count": 52,
     "metadata": {},
     "output_type": "execute_result"
    }
   ],
   "source": [
    "PL=[]\n",
    "empty=0\n",
    "for i in contract_GPE_onto :\n",
    "    for j in i:\n",
    "        PL.append(j)\n",
    "for i in contract_GPE_onto:\n",
    "    if i=='[]':\n",
    "        empty=empty+1\n",
    "len(PL), empty"
   ]
  },
  {
   "cell_type": "code",
   "execution_count": 53,
   "id": "f9daf419",
   "metadata": {
    "execution": {
     "iopub.execute_input": "2022-06-29T07:34:29.863949Z",
     "iopub.status.busy": "2022-06-29T07:34:29.863013Z",
     "iopub.status.idle": "2022-06-29T07:34:29.893092Z",
     "shell.execute_reply": "2022-06-29T07:34:29.891883Z"
    },
    "papermill": {
     "duration": 0.062565,
     "end_time": "2022-06-29T07:34:29.895723",
     "exception": false,
     "start_time": "2022-06-29T07:34:29.833158",
     "status": "completed"
    },
    "tags": []
   },
   "outputs": [
    {
     "data": {
      "text/plain": [
       "(60156, 23015)"
      ]
     },
     "execution_count": 53,
     "metadata": {},
     "output_type": "execute_result"
    }
   ],
   "source": [
    "PL=[]\n",
    "empty=0\n",
    "for i in contract_loc_onto :\n",
    "    for j in i:\n",
    "        PL.append(j)\n",
    "for i in contract_loc_onto:\n",
    "    if i=='[]':\n",
    "        empty=empty+1\n",
    "len(PL), empty"
   ]
  },
  {
   "cell_type": "markdown",
   "id": "cda06133",
   "metadata": {
    "papermill": {
     "duration": 0.028149,
     "end_time": "2022-06-29T07:34:29.952207",
     "exception": false,
     "start_time": "2022-06-29T07:34:29.924058",
     "status": "completed"
    },
    "tags": []
   },
   "source": [
    "****"
   ]
  },
  {
   "cell_type": "markdown",
   "id": "36ed5acb",
   "metadata": {
    "papermill": {
     "duration": 0.027786,
     "end_time": "2022-06-29T07:34:30.008438",
     "exception": false,
     "start_time": "2022-06-29T07:34:29.980652",
     "status": "completed"
    },
    "tags": []
   },
   "source": [
    "# Contracts Ner english"
   ]
  },
  {
   "cell_type": "code",
   "execution_count": 54,
   "id": "1841a498",
   "metadata": {
    "execution": {
     "iopub.execute_input": "2022-06-29T07:34:30.067215Z",
     "iopub.status.busy": "2022-06-29T07:34:30.066755Z",
     "iopub.status.idle": "2022-06-29T07:34:30.085092Z",
     "shell.execute_reply": "2022-06-29T07:34:30.083980Z"
    },
    "papermill": {
     "duration": 0.051006,
     "end_time": "2022-06-29T07:34:30.087535",
     "exception": false,
     "start_time": "2022-06-29T07:34:30.036529",
     "status": "completed"
    },
    "tags": []
   },
   "outputs": [
    {
     "data": {
      "text/html": [
       "<div>\n",
       "<style scoped>\n",
       "    .dataframe tbody tr th:only-of-type {\n",
       "        vertical-align: middle;\n",
       "    }\n",
       "\n",
       "    .dataframe tbody tr th {\n",
       "        vertical-align: top;\n",
       "    }\n",
       "\n",
       "    .dataframe thead th {\n",
       "        text-align: right;\n",
       "    }\n",
       "</style>\n",
       "<table border=\"1\" class=\"dataframe\">\n",
       "  <thead>\n",
       "    <tr style=\"text-align: right;\">\n",
       "      <th></th>\n",
       "      <th>contract_text</th>\n",
       "      <th>PERSON-nerenglish</th>\n",
       "      <th>LOC-nerenglish</th>\n",
       "      <th>ORG-nerenglish</th>\n",
       "      <th>Name-nerenglish</th>\n",
       "      <th>Other_name-nerenglish</th>\n",
       "      <th>Name-nerenglarge</th>\n",
       "      <th>LOC-nerenglarge</th>\n",
       "      <th>ORG-nerenglarge</th>\n",
       "      <th>other_namelarge</th>\n",
       "    </tr>\n",
       "  </thead>\n",
       "  <tbody>\n",
       "    <tr>\n",
       "      <th>0</th>\n",
       "      <td>North Carolina This indenture made entered Thi...</td>\n",
       "      <td>['Thos R Underwood', 'Alfred A McKerhan', 'Wm ...</td>\n",
       "      <td>['County of Carteret', 'Shepperd Creek', 'Cree...</td>\n",
       "      <td>[]</td>\n",
       "      <td>['Thos R Underwood', 'Alfred A McKerhan', 'Wm ...</td>\n",
       "      <td>[]</td>\n",
       "      <td>['H.G . Cutler', 'Thos R Underwood', 'Alfred A...</td>\n",
       "      <td>['North Carolina', 'County of Carteret', 'Bogu...</td>\n",
       "      <td>[]</td>\n",
       "      <td>[]</td>\n",
       "    </tr>\n",
       "    <tr>\n",
       "      <th>1</th>\n",
       "      <td>State of North Carolina Currituck County . Thi...</td>\n",
       "      <td>['John B. Etheridge']</td>\n",
       "      <td>['County State', 'Witnesseth', 'County of Curr...</td>\n",
       "      <td>[]</td>\n",
       "      <td>['John B. Etheridge']</td>\n",
       "      <td>[]</td>\n",
       "      <td>['John B. Etheridge', 'Little John Etheridge']</td>\n",
       "      <td>['State of North Carolina', 'Currituck County'...</td>\n",
       "      <td>[]</td>\n",
       "      <td>[]</td>\n",
       "    </tr>\n",
       "    <tr>\n",
       "      <th>2</th>\n",
       "      <td>near Lizzie Etheridges gate , thence South 56 ...</td>\n",
       "      <td>['John B Etheridge', 'Douglas Adam D. Etheridge']</td>\n",
       "      <td>['Red Hill', 'Croatan Sound']</td>\n",
       "      <td>[]</td>\n",
       "      <td>['John B Etheridge', 'Douglas Adam D. Etheridge']</td>\n",
       "      <td>[]</td>\n",
       "      <td>['Little John Etheridge', 'John B Etheridge', ...</td>\n",
       "      <td>['Lizzie Etheridges gate', 'Red Hill', 'Croata...</td>\n",
       "      <td>[]</td>\n",
       "      <td>[]</td>\n",
       "    </tr>\n",
       "    <tr>\n",
       "      <th>3</th>\n",
       "      <td>Copy Agreement of Apprenticeship Bu Mrs. Kate ...</td>\n",
       "      <td>['Kate V.Chamblin']</td>\n",
       "      <td>[]</td>\n",
       "      <td>[]</td>\n",
       "      <td>['Kate V.Chamblin']</td>\n",
       "      <td>[]</td>\n",
       "      <td>['Kate V.Chamblin', '1st', 'Geo . W. Rollins',...</td>\n",
       "      <td>['La', 'Lake Providence Carroll']</td>\n",
       "      <td>['U.S. Army']</td>\n",
       "      <td>[]</td>\n",
       "    </tr>\n",
       "    <tr>\n",
       "      <th>4</th>\n",
       "      <td>Copy Agreement of Apprenticeship . This agreem...</td>\n",
       "      <td>['Kate V. Chambliss', 'Betty Taylor Mary Taylo...</td>\n",
       "      <td>[]</td>\n",
       "      <td>[]</td>\n",
       "      <td>['Kate V. Chambliss', 'Betty Taylor Mary Taylo...</td>\n",
       "      <td>['African']</td>\n",
       "      <td>['Mrs', 'Kate V. Chambliss', 'James Samenett',...</td>\n",
       "      <td>['Carroll Parish', 'New Orleans', 'Louisiana',...</td>\n",
       "      <td>[]</td>\n",
       "      <td>['African']</td>\n",
       "    </tr>\n",
       "  </tbody>\n",
       "</table>\n",
       "</div>"
      ],
      "text/plain": [
       "                                       contract_text  \\\n",
       "0  North Carolina This indenture made entered Thi...   \n",
       "1  State of North Carolina Currituck County . Thi...   \n",
       "2  near Lizzie Etheridges gate , thence South 56 ...   \n",
       "3  Copy Agreement of Apprenticeship Bu Mrs. Kate ...   \n",
       "4  Copy Agreement of Apprenticeship . This agreem...   \n",
       "\n",
       "                                   PERSON-nerenglish  \\\n",
       "0  ['Thos R Underwood', 'Alfred A McKerhan', 'Wm ...   \n",
       "1                              ['John B. Etheridge']   \n",
       "2  ['John B Etheridge', 'Douglas Adam D. Etheridge']   \n",
       "3                                ['Kate V.Chamblin']   \n",
       "4  ['Kate V. Chambliss', 'Betty Taylor Mary Taylo...   \n",
       "\n",
       "                                      LOC-nerenglish ORG-nerenglish  \\\n",
       "0  ['County of Carteret', 'Shepperd Creek', 'Cree...             []   \n",
       "1  ['County State', 'Witnesseth', 'County of Curr...             []   \n",
       "2                      ['Red Hill', 'Croatan Sound']             []   \n",
       "3                                                 []             []   \n",
       "4                                                 []             []   \n",
       "\n",
       "                                     Name-nerenglish Other_name-nerenglish  \\\n",
       "0  ['Thos R Underwood', 'Alfred A McKerhan', 'Wm ...                    []   \n",
       "1                              ['John B. Etheridge']                    []   \n",
       "2  ['John B Etheridge', 'Douglas Adam D. Etheridge']                    []   \n",
       "3                                ['Kate V.Chamblin']                    []   \n",
       "4  ['Kate V. Chambliss', 'Betty Taylor Mary Taylo...           ['African']   \n",
       "\n",
       "                                    Name-nerenglarge  \\\n",
       "0  ['H.G . Cutler', 'Thos R Underwood', 'Alfred A...   \n",
       "1     ['John B. Etheridge', 'Little John Etheridge']   \n",
       "2  ['Little John Etheridge', 'John B Etheridge', ...   \n",
       "3  ['Kate V.Chamblin', '1st', 'Geo . W. Rollins',...   \n",
       "4  ['Mrs', 'Kate V. Chambliss', 'James Samenett',...   \n",
       "\n",
       "                                     LOC-nerenglarge ORG-nerenglarge  \\\n",
       "0  ['North Carolina', 'County of Carteret', 'Bogu...              []   \n",
       "1  ['State of North Carolina', 'Currituck County'...              []   \n",
       "2  ['Lizzie Etheridges gate', 'Red Hill', 'Croata...              []   \n",
       "3                  ['La', 'Lake Providence Carroll']   ['U.S. Army']   \n",
       "4  ['Carroll Parish', 'New Orleans', 'Louisiana',...              []   \n",
       "\n",
       "  other_namelarge  \n",
       "0              []  \n",
       "1              []  \n",
       "2              []  \n",
       "3              []  \n",
       "4     ['African']  "
      ]
     },
     "execution_count": 54,
     "metadata": {},
     "output_type": "execute_result"
    }
   ],
   "source": [
    "contract_ent.head()"
   ]
  },
  {
   "cell_type": "code",
   "execution_count": 55,
   "id": "d000984a",
   "metadata": {
    "execution": {
     "iopub.execute_input": "2022-06-29T07:34:30.147674Z",
     "iopub.status.busy": "2022-06-29T07:34:30.147220Z",
     "iopub.status.idle": "2022-06-29T07:34:30.153600Z",
     "shell.execute_reply": "2022-06-29T07:34:30.152322Z"
    },
    "papermill": {
     "duration": 0.039265,
     "end_time": "2022-06-29T07:34:30.155945",
     "exception": false,
     "start_time": "2022-06-29T07:34:30.116680",
     "status": "completed"
    },
    "tags": []
   },
   "outputs": [],
   "source": [
    "contract_Per_ner=contract_ent[\"PERSON-nerenglish\"]\n",
    "contract_loc_ner=contract_ent[\"LOC-nerenglish\"]\n",
    "contract_ORG_ner=contract_ent[\"ORG-nerenglish\"]\n",
    "contract_other_ner=contract_ent[\"Other_name-nerenglish\"]"
   ]
  },
  {
   "cell_type": "code",
   "execution_count": 56,
   "id": "6d026617",
   "metadata": {
    "execution": {
     "iopub.execute_input": "2022-06-29T07:34:30.217578Z",
     "iopub.status.busy": "2022-06-29T07:34:30.216894Z",
     "iopub.status.idle": "2022-06-29T07:34:30.225656Z",
     "shell.execute_reply": "2022-06-29T07:34:30.224516Z"
    },
    "papermill": {
     "duration": 0.043334,
     "end_time": "2022-06-29T07:34:30.228268",
     "exception": false,
     "start_time": "2022-06-29T07:34:30.184934",
     "status": "completed"
    },
    "tags": []
   },
   "outputs": [
    {
     "data": {
      "text/plain": [
       "'AGREEMENT FOR LABOR . THIS INDENTURE , Made entered day of A.D , 186 , of County of State of North Carolina , of first part , undersigned , Free Laborer , of second part : WITNESSETH , That said Laborers agreed work said date day of 186 186 ; kinds of work common farms of country ; work faithfully , respectful deportment . And agree , receive every month , amount placed opposite names , rest end of year ; amount retained shall forfeited violation of contract clearly proven . And agree , time lost idleness absence without leave , shall paid . And said agreed furnish said laborers comfortable quarters , sufficient rations , amount of money per month , stands opposite respective names ; treat kindly , encourage establishment of schools children . Henry Pearce No . NAME . Age . Wages . DOLLS . CTS . Monthly Paymt . DOLLS . CTS . Henry Pearce Tho H Hay Assist . Supt . Bureau R. F. A. L. , SubDistrict of'"
      ]
     },
     "execution_count": 56,
     "metadata": {},
     "output_type": "execute_result"
    }
   ],
   "source": [
    "contract_text[1000]"
   ]
  },
  {
   "cell_type": "code",
   "execution_count": 57,
   "id": "16ad3b7e",
   "metadata": {
    "execution": {
     "iopub.execute_input": "2022-06-29T07:34:30.288859Z",
     "iopub.status.busy": "2022-06-29T07:34:30.288020Z",
     "iopub.status.idle": "2022-06-29T07:34:30.295259Z",
     "shell.execute_reply": "2022-06-29T07:34:30.294351Z"
    },
    "papermill": {
     "duration": 0.039877,
     "end_time": "2022-06-29T07:34:30.297502",
     "exception": false,
     "start_time": "2022-06-29T07:34:30.257625",
     "status": "completed"
    },
    "tags": []
   },
   "outputs": [
    {
     "data": {
      "text/plain": [
       "\"['Henry Pearce']\""
      ]
     },
     "execution_count": 57,
     "metadata": {},
     "output_type": "execute_result"
    }
   ],
   "source": [
    "contract_Per_ner[1000]"
   ]
  },
  {
   "cell_type": "code",
   "execution_count": 58,
   "id": "3abb3091",
   "metadata": {
    "execution": {
     "iopub.execute_input": "2022-06-29T07:34:30.357971Z",
     "iopub.status.busy": "2022-06-29T07:34:30.356822Z",
     "iopub.status.idle": "2022-06-29T07:34:30.363108Z",
     "shell.execute_reply": "2022-06-29T07:34:30.362244Z"
    },
    "papermill": {
     "duration": 0.038883,
     "end_time": "2022-06-29T07:34:30.365089",
     "exception": false,
     "start_time": "2022-06-29T07:34:30.326206",
     "status": "completed"
    },
    "tags": []
   },
   "outputs": [
    {
     "data": {
      "text/plain": [
       "'[]'"
      ]
     },
     "execution_count": 58,
     "metadata": {},
     "output_type": "execute_result"
    }
   ],
   "source": [
    "contract_loc_ner[1000]"
   ]
  },
  {
   "cell_type": "code",
   "execution_count": 59,
   "id": "3d1ea57d",
   "metadata": {
    "execution": {
     "iopub.execute_input": "2022-06-29T07:34:30.425456Z",
     "iopub.status.busy": "2022-06-29T07:34:30.424347Z",
     "iopub.status.idle": "2022-06-29T07:34:30.430562Z",
     "shell.execute_reply": "2022-06-29T07:34:30.429769Z"
    },
    "papermill": {
     "duration": 0.038535,
     "end_time": "2022-06-29T07:34:30.432577",
     "exception": false,
     "start_time": "2022-06-29T07:34:30.394042",
     "status": "completed"
    },
    "tags": []
   },
   "outputs": [
    {
     "data": {
      "text/plain": [
       "\"['Henry Pearce Tho H Hay Assist']\""
      ]
     },
     "execution_count": 59,
     "metadata": {},
     "output_type": "execute_result"
    }
   ],
   "source": [
    "contract_ORG_ner[1000]"
   ]
  },
  {
   "cell_type": "code",
   "execution_count": 60,
   "id": "61f73e66",
   "metadata": {
    "execution": {
     "iopub.execute_input": "2022-06-29T07:34:30.493134Z",
     "iopub.status.busy": "2022-06-29T07:34:30.491960Z",
     "iopub.status.idle": "2022-06-29T07:34:30.499144Z",
     "shell.execute_reply": "2022-06-29T07:34:30.498110Z"
    },
    "papermill": {
     "duration": 0.039694,
     "end_time": "2022-06-29T07:34:30.501223",
     "exception": false,
     "start_time": "2022-06-29T07:34:30.461529",
     "status": "completed"
    },
    "tags": []
   },
   "outputs": [
    {
     "data": {
      "text/plain": [
       "'[]'"
      ]
     },
     "execution_count": 60,
     "metadata": {},
     "output_type": "execute_result"
    }
   ],
   "source": [
    "contract_other_ner[1000]"
   ]
  },
  {
   "cell_type": "markdown",
   "id": "04ed4bde",
   "metadata": {
    "papermill": {
     "duration": 0.028689,
     "end_time": "2022-06-29T07:34:30.558990",
     "exception": false,
     "start_time": "2022-06-29T07:34:30.530301",
     "status": "completed"
    },
    "tags": []
   },
   "source": [
    "**not bad but ontonotes still better**"
   ]
  },
  {
   "cell_type": "code",
   "execution_count": 61,
   "id": "d7b7146d",
   "metadata": {
    "execution": {
     "iopub.execute_input": "2022-06-29T07:34:30.619531Z",
     "iopub.status.busy": "2022-06-29T07:34:30.618648Z",
     "iopub.status.idle": "2022-06-29T07:34:30.732770Z",
     "shell.execute_reply": "2022-06-29T07:34:30.731523Z"
    },
    "papermill": {
     "duration": 0.147273,
     "end_time": "2022-06-29T07:34:30.735394",
     "exception": false,
     "start_time": "2022-06-29T07:34:30.588121",
     "status": "completed"
    },
    "tags": []
   },
   "outputs": [
    {
     "data": {
      "text/plain": [
       "(790998, 7423)"
      ]
     },
     "execution_count": 61,
     "metadata": {},
     "output_type": "execute_result"
    }
   ],
   "source": [
    "PL=[]\n",
    "empty=0\n",
    "for i in contract_Per_ner :\n",
    "    for j in i:\n",
    "        PL.append(j)\n",
    "for i in contract_Per_ner:\n",
    "    if i=='[]':\n",
    "        empty=empty+1\n",
    "len(PL), empty"
   ]
  },
  {
   "cell_type": "markdown",
   "id": "5fba92d7",
   "metadata": {
    "papermill": {
     "duration": 0.029135,
     "end_time": "2022-06-29T07:34:30.794028",
     "exception": false,
     "start_time": "2022-06-29T07:34:30.764893",
     "status": "completed"
    },
    "tags": []
   },
   "source": [
    "****"
   ]
  },
  {
   "cell_type": "code",
   "execution_count": 62,
   "id": "5063af6e",
   "metadata": {
    "execution": {
     "iopub.execute_input": "2022-06-29T07:34:30.855115Z",
     "iopub.status.busy": "2022-06-29T07:34:30.854144Z",
     "iopub.status.idle": "2022-06-29T07:34:30.870328Z",
     "shell.execute_reply": "2022-06-29T07:34:30.869577Z"
    },
    "papermill": {
     "duration": 0.049213,
     "end_time": "2022-06-29T07:34:30.872502",
     "exception": false,
     "start_time": "2022-06-29T07:34:30.823289",
     "status": "completed"
    },
    "tags": []
   },
   "outputs": [
    {
     "data": {
      "text/html": [
       "<div>\n",
       "<style scoped>\n",
       "    .dataframe tbody tr th:only-of-type {\n",
       "        vertical-align: middle;\n",
       "    }\n",
       "\n",
       "    .dataframe tbody tr th {\n",
       "        vertical-align: top;\n",
       "    }\n",
       "\n",
       "    .dataframe thead th {\n",
       "        text-align: right;\n",
       "    }\n",
       "</style>\n",
       "<table border=\"1\" class=\"dataframe\">\n",
       "  <thead>\n",
       "    <tr style=\"text-align: right;\">\n",
       "      <th></th>\n",
       "      <th>contract_text</th>\n",
       "      <th>PERSON-nerenglish</th>\n",
       "      <th>LOC-nerenglish</th>\n",
       "      <th>ORG-nerenglish</th>\n",
       "      <th>Name-nerenglish</th>\n",
       "      <th>Other_name-nerenglish</th>\n",
       "      <th>Name-nerenglarge</th>\n",
       "      <th>LOC-nerenglarge</th>\n",
       "      <th>ORG-nerenglarge</th>\n",
       "      <th>other_namelarge</th>\n",
       "    </tr>\n",
       "  </thead>\n",
       "  <tbody>\n",
       "    <tr>\n",
       "      <th>0</th>\n",
       "      <td>North Carolina This indenture made entered Thi...</td>\n",
       "      <td>['Thos R Underwood', 'Alfred A McKerhan', 'Wm ...</td>\n",
       "      <td>['County of Carteret', 'Shepperd Creek', 'Cree...</td>\n",
       "      <td>[]</td>\n",
       "      <td>['Thos R Underwood', 'Alfred A McKerhan', 'Wm ...</td>\n",
       "      <td>[]</td>\n",
       "      <td>['H.G . Cutler', 'Thos R Underwood', 'Alfred A...</td>\n",
       "      <td>['North Carolina', 'County of Carteret', 'Bogu...</td>\n",
       "      <td>[]</td>\n",
       "      <td>[]</td>\n",
       "    </tr>\n",
       "    <tr>\n",
       "      <th>1</th>\n",
       "      <td>State of North Carolina Currituck County . Thi...</td>\n",
       "      <td>['John B. Etheridge']</td>\n",
       "      <td>['County State', 'Witnesseth', 'County of Curr...</td>\n",
       "      <td>[]</td>\n",
       "      <td>['John B. Etheridge']</td>\n",
       "      <td>[]</td>\n",
       "      <td>['John B. Etheridge', 'Little John Etheridge']</td>\n",
       "      <td>['State of North Carolina', 'Currituck County'...</td>\n",
       "      <td>[]</td>\n",
       "      <td>[]</td>\n",
       "    </tr>\n",
       "    <tr>\n",
       "      <th>2</th>\n",
       "      <td>near Lizzie Etheridges gate , thence South 56 ...</td>\n",
       "      <td>['John B Etheridge', 'Douglas Adam D. Etheridge']</td>\n",
       "      <td>['Red Hill', 'Croatan Sound']</td>\n",
       "      <td>[]</td>\n",
       "      <td>['John B Etheridge', 'Douglas Adam D. Etheridge']</td>\n",
       "      <td>[]</td>\n",
       "      <td>['Little John Etheridge', 'John B Etheridge', ...</td>\n",
       "      <td>['Lizzie Etheridges gate', 'Red Hill', 'Croata...</td>\n",
       "      <td>[]</td>\n",
       "      <td>[]</td>\n",
       "    </tr>\n",
       "    <tr>\n",
       "      <th>3</th>\n",
       "      <td>Copy Agreement of Apprenticeship Bu Mrs. Kate ...</td>\n",
       "      <td>['Kate V.Chamblin']</td>\n",
       "      <td>[]</td>\n",
       "      <td>[]</td>\n",
       "      <td>['Kate V.Chamblin']</td>\n",
       "      <td>[]</td>\n",
       "      <td>['Kate V.Chamblin', '1st', 'Geo . W. Rollins',...</td>\n",
       "      <td>['La', 'Lake Providence Carroll']</td>\n",
       "      <td>['U.S. Army']</td>\n",
       "      <td>[]</td>\n",
       "    </tr>\n",
       "    <tr>\n",
       "      <th>4</th>\n",
       "      <td>Copy Agreement of Apprenticeship . This agreem...</td>\n",
       "      <td>['Kate V. Chambliss', 'Betty Taylor Mary Taylo...</td>\n",
       "      <td>[]</td>\n",
       "      <td>[]</td>\n",
       "      <td>['Kate V. Chambliss', 'Betty Taylor Mary Taylo...</td>\n",
       "      <td>['African']</td>\n",
       "      <td>['Mrs', 'Kate V. Chambliss', 'James Samenett',...</td>\n",
       "      <td>['Carroll Parish', 'New Orleans', 'Louisiana',...</td>\n",
       "      <td>[]</td>\n",
       "      <td>['African']</td>\n",
       "    </tr>\n",
       "  </tbody>\n",
       "</table>\n",
       "</div>"
      ],
      "text/plain": [
       "                                       contract_text  \\\n",
       "0  North Carolina This indenture made entered Thi...   \n",
       "1  State of North Carolina Currituck County . Thi...   \n",
       "2  near Lizzie Etheridges gate , thence South 56 ...   \n",
       "3  Copy Agreement of Apprenticeship Bu Mrs. Kate ...   \n",
       "4  Copy Agreement of Apprenticeship . This agreem...   \n",
       "\n",
       "                                   PERSON-nerenglish  \\\n",
       "0  ['Thos R Underwood', 'Alfred A McKerhan', 'Wm ...   \n",
       "1                              ['John B. Etheridge']   \n",
       "2  ['John B Etheridge', 'Douglas Adam D. Etheridge']   \n",
       "3                                ['Kate V.Chamblin']   \n",
       "4  ['Kate V. Chambliss', 'Betty Taylor Mary Taylo...   \n",
       "\n",
       "                                      LOC-nerenglish ORG-nerenglish  \\\n",
       "0  ['County of Carteret', 'Shepperd Creek', 'Cree...             []   \n",
       "1  ['County State', 'Witnesseth', 'County of Curr...             []   \n",
       "2                      ['Red Hill', 'Croatan Sound']             []   \n",
       "3                                                 []             []   \n",
       "4                                                 []             []   \n",
       "\n",
       "                                     Name-nerenglish Other_name-nerenglish  \\\n",
       "0  ['Thos R Underwood', 'Alfred A McKerhan', 'Wm ...                    []   \n",
       "1                              ['John B. Etheridge']                    []   \n",
       "2  ['John B Etheridge', 'Douglas Adam D. Etheridge']                    []   \n",
       "3                                ['Kate V.Chamblin']                    []   \n",
       "4  ['Kate V. Chambliss', 'Betty Taylor Mary Taylo...           ['African']   \n",
       "\n",
       "                                    Name-nerenglarge  \\\n",
       "0  ['H.G . Cutler', 'Thos R Underwood', 'Alfred A...   \n",
       "1     ['John B. Etheridge', 'Little John Etheridge']   \n",
       "2  ['Little John Etheridge', 'John B Etheridge', ...   \n",
       "3  ['Kate V.Chamblin', '1st', 'Geo . W. Rollins',...   \n",
       "4  ['Mrs', 'Kate V. Chambliss', 'James Samenett',...   \n",
       "\n",
       "                                     LOC-nerenglarge ORG-nerenglarge  \\\n",
       "0  ['North Carolina', 'County of Carteret', 'Bogu...              []   \n",
       "1  ['State of North Carolina', 'Currituck County'...              []   \n",
       "2  ['Lizzie Etheridges gate', 'Red Hill', 'Croata...              []   \n",
       "3                  ['La', 'Lake Providence Carroll']   ['U.S. Army']   \n",
       "4  ['Carroll Parish', 'New Orleans', 'Louisiana',...              []   \n",
       "\n",
       "  other_namelarge  \n",
       "0              []  \n",
       "1              []  \n",
       "2              []  \n",
       "3              []  \n",
       "4     ['African']  "
      ]
     },
     "execution_count": 62,
     "metadata": {},
     "output_type": "execute_result"
    }
   ],
   "source": [
    "contract_ent.head()"
   ]
  },
  {
   "cell_type": "code",
   "execution_count": 63,
   "id": "4dfc4d69",
   "metadata": {
    "execution": {
     "iopub.execute_input": "2022-06-29T07:34:30.934318Z",
     "iopub.status.busy": "2022-06-29T07:34:30.933081Z",
     "iopub.status.idle": "2022-06-29T07:34:30.939067Z",
     "shell.execute_reply": "2022-06-29T07:34:30.938222Z"
    },
    "papermill": {
     "duration": 0.039254,
     "end_time": "2022-06-29T07:34:30.941382",
     "exception": false,
     "start_time": "2022-06-29T07:34:30.902128",
     "status": "completed"
    },
    "tags": []
   },
   "outputs": [],
   "source": [
    "contract_Per_large=contract_ent[\"Name-nerenglarge\"]\n",
    "contract_loc_large=contract_ent[\"LOC-nerenglarge\"]\n",
    "contract_ORG_large=contract_ent[\"ORG-nerenglarge\"]\n",
    "contract_other_large=contract_ent[\"other_namelarge\"]"
   ]
  },
  {
   "cell_type": "code",
   "execution_count": 64,
   "id": "c836675a",
   "metadata": {
    "execution": {
     "iopub.execute_input": "2022-06-29T07:34:31.012821Z",
     "iopub.status.busy": "2022-06-29T07:34:31.011583Z",
     "iopub.status.idle": "2022-06-29T07:34:31.017977Z",
     "shell.execute_reply": "2022-06-29T07:34:31.017242Z"
    },
    "papermill": {
     "duration": 0.048146,
     "end_time": "2022-06-29T07:34:31.019951",
     "exception": false,
     "start_time": "2022-06-29T07:34:30.971805",
     "status": "completed"
    },
    "tags": []
   },
   "outputs": [
    {
     "data": {
      "text/plain": [
       "'North Carolina This indenture made entered This 5th day of November 1853 . By H.G . Cutler of County of Carteret of first part Thos R Underwood , Alfred A McKerhan , Wm H Washington , Geo . S Stevenson , John D Williams Nathan A Stedman of second part . Whereas parties of Second part divers others associates purchased of said H. G. Cutler , tract of land situated County of Carteret bounded described follows ; beginning Stake North side of Bogue Sound running thence westwardly various corners of sound , five hundred ten poles Straight . Thence N. 13.0 E. 203 poles , thence East 209 poles , south 4 poles , thence North 85 , E. 116 poles , thence W. 20.0 W. 96 poles , thence N 45.0 E. 21 12 poles thence E. 29 12 poles , thence S. 83.0 E. 220 poles , thence South 5.0 W. Shepperd Creek thence Westerly said Creek South West Corner of tract of land converged said Cutler John Sabuton Then S 50 West along Sabutons West line beginning , containing Estimation Nine hundred four acres survey of said land made William H Marshall hereunto attached Marked A. land said'"
      ]
     },
     "execution_count": 64,
     "metadata": {},
     "output_type": "execute_result"
    }
   ],
   "source": [
    "contract_text[0]"
   ]
  },
  {
   "cell_type": "code",
   "execution_count": 65,
   "id": "3ff73acc",
   "metadata": {
    "execution": {
     "iopub.execute_input": "2022-06-29T07:34:31.082830Z",
     "iopub.status.busy": "2022-06-29T07:34:31.082058Z",
     "iopub.status.idle": "2022-06-29T07:34:31.087818Z",
     "shell.execute_reply": "2022-06-29T07:34:31.087048Z"
    },
    "papermill": {
     "duration": 0.039123,
     "end_time": "2022-06-29T07:34:31.089804",
     "exception": false,
     "start_time": "2022-06-29T07:34:31.050681",
     "status": "completed"
    },
    "tags": []
   },
   "outputs": [
    {
     "data": {
      "text/plain": [
       "\"['H.G . Cutler', 'Thos R Underwood', 'Alfred A McKerhan', 'Wm H Washington', 'Geo . S Stevenson', 'John D Williams', 'Nathan A Stedman', 'H . G. Cutler', 'Cutler John Sabuton', 'William H Marshall']\""
      ]
     },
     "execution_count": 65,
     "metadata": {},
     "output_type": "execute_result"
    }
   ],
   "source": [
    "contract_Per_large[0]"
   ]
  },
  {
   "cell_type": "code",
   "execution_count": 66,
   "id": "acaebe17",
   "metadata": {
    "execution": {
     "iopub.execute_input": "2022-06-29T07:34:31.152393Z",
     "iopub.status.busy": "2022-06-29T07:34:31.151589Z",
     "iopub.status.idle": "2022-06-29T07:34:31.157837Z",
     "shell.execute_reply": "2022-06-29T07:34:31.157028Z"
    },
    "papermill": {
     "duration": 0.040422,
     "end_time": "2022-06-29T07:34:31.160011",
     "exception": false,
     "start_time": "2022-06-29T07:34:31.119589",
     "status": "completed"
    },
    "tags": []
   },
   "outputs": [
    {
     "data": {
      "text/plain": [
       "\"['North Carolina', 'County of Carteret', 'Bogue Sound', 'Shepperd Creek', 'Westerly', 'Sabutons West']\""
      ]
     },
     "execution_count": 66,
     "metadata": {},
     "output_type": "execute_result"
    }
   ],
   "source": [
    "contract_loc_large[0]"
   ]
  },
  {
   "cell_type": "code",
   "execution_count": 67,
   "id": "ef660618",
   "metadata": {
    "execution": {
     "iopub.execute_input": "2022-06-29T07:34:31.223597Z",
     "iopub.status.busy": "2022-06-29T07:34:31.222807Z",
     "iopub.status.idle": "2022-06-29T07:34:31.228966Z",
     "shell.execute_reply": "2022-06-29T07:34:31.227987Z"
    },
    "papermill": {
     "duration": 0.040643,
     "end_time": "2022-06-29T07:34:31.231059",
     "exception": false,
     "start_time": "2022-06-29T07:34:31.190416",
     "status": "completed"
    },
    "tags": []
   },
   "outputs": [
    {
     "data": {
      "text/plain": [
       "'[]'"
      ]
     },
     "execution_count": 67,
     "metadata": {},
     "output_type": "execute_result"
    }
   ],
   "source": [
    "contract_ORG_large[0]"
   ]
  },
  {
   "cell_type": "code",
   "execution_count": 68,
   "id": "b7aae4b7",
   "metadata": {
    "execution": {
     "iopub.execute_input": "2022-06-29T07:34:31.294563Z",
     "iopub.status.busy": "2022-06-29T07:34:31.293757Z",
     "iopub.status.idle": "2022-06-29T07:34:31.299797Z",
     "shell.execute_reply": "2022-06-29T07:34:31.299007Z"
    },
    "papermill": {
     "duration": 0.040395,
     "end_time": "2022-06-29T07:34:31.301867",
     "exception": false,
     "start_time": "2022-06-29T07:34:31.261472",
     "status": "completed"
    },
    "tags": []
   },
   "outputs": [
    {
     "data": {
      "text/plain": [
       "'[]'"
      ]
     },
     "execution_count": 68,
     "metadata": {},
     "output_type": "execute_result"
    }
   ],
   "source": [
    "contract_other_large[0]"
   ]
  },
  {
   "cell_type": "code",
   "execution_count": 69,
   "id": "6988f3e7",
   "metadata": {
    "execution": {
     "iopub.execute_input": "2022-06-29T07:34:31.365917Z",
     "iopub.status.busy": "2022-06-29T07:34:31.365109Z",
     "iopub.status.idle": "2022-06-29T07:34:31.601943Z",
     "shell.execute_reply": "2022-06-29T07:34:31.600824Z"
    },
    "papermill": {
     "duration": 0.272411,
     "end_time": "2022-06-29T07:34:31.605056",
     "exception": false,
     "start_time": "2022-06-29T07:34:31.332645",
     "status": "completed"
    },
    "tags": []
   },
   "outputs": [
    {
     "data": {
      "text/plain": [
       "(1717997, 3532)"
      ]
     },
     "execution_count": 69,
     "metadata": {},
     "output_type": "execute_result"
    }
   ],
   "source": [
    "PL=[]\n",
    "empty=0\n",
    "for i in contract_Per_large :\n",
    "    for j in i:\n",
    "        PL.append(j)\n",
    "for i in contract_Per_large:\n",
    "    if i=='[]':\n",
    "        empty=empty+1\n",
    "len(PL), empty"
   ]
  },
  {
   "cell_type": "markdown",
   "id": "5f44413c",
   "metadata": {
    "papermill": {
     "duration": 0.030632,
     "end_time": "2022-06-29T07:34:31.667356",
     "exception": false,
     "start_time": "2022-06-29T07:34:31.636724",
     "status": "completed"
    },
    "tags": []
   },
   "source": [
    "# the better one as usuall "
   ]
  },
  {
   "cell_type": "code",
   "execution_count": null,
   "id": "1e84aee1",
   "metadata": {
    "papermill": {
     "duration": 0.030773,
     "end_time": "2022-06-29T07:34:31.728752",
     "exception": false,
     "start_time": "2022-06-29T07:34:31.697979",
     "status": "completed"
    },
    "tags": []
   },
   "outputs": [],
   "source": []
  },
  {
   "cell_type": "code",
   "execution_count": null,
   "id": "ea386f01",
   "metadata": {
    "papermill": {
     "duration": 0.030765,
     "end_time": "2022-06-29T07:34:31.790182",
     "exception": false,
     "start_time": "2022-06-29T07:34:31.759417",
     "status": "completed"
    },
    "tags": []
   },
   "outputs": [],
   "source": []
  }
 ],
 "metadata": {
  "kernelspec": {
   "display_name": "Python 3",
   "language": "python",
   "name": "python3"
  },
  "language_info": {
   "codemirror_mode": {
    "name": "ipython",
    "version": 3
   },
   "file_extension": ".py",
   "mimetype": "text/x-python",
   "name": "python",
   "nbconvert_exporter": "python",
   "pygments_lexer": "ipython3",
   "version": "3.7.12"
  },
  "papermill": {
   "default_parameters": {},
   "duration": 33.596231,
   "end_time": "2022-06-29T07:34:35.366092",
   "environment_variables": {},
   "exception": null,
   "input_path": "__notebook__.ipynb",
   "output_path": "__notebook__.ipynb",
   "parameters": {},
   "start_time": "2022-06-29T07:34:01.769861",
   "version": "2.3.4"
  }
 },
 "nbformat": 4,
 "nbformat_minor": 5
}
