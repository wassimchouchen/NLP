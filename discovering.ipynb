{
 "cells": [
  {
   "cell_type": "code",
   "execution_count": 1,
   "id": "4abf94d1",
   "metadata": {
    "_cell_guid": "b1076dfc-b9ad-4769-8c92-a6c4dae69d19",
    "_uuid": "8f2839f25d086af736a60e9eeb907d3b93b6e0e5",
    "execution": {
     "iopub.execute_input": "2022-06-28T17:50:36.371481Z",
     "iopub.status.busy": "2022-06-28T17:50:36.370479Z",
     "iopub.status.idle": "2022-06-28T17:50:49.466262Z",
     "shell.execute_reply": "2022-06-28T17:50:49.465178Z"
    },
    "papermill": {
     "duration": 13.108462,
     "end_time": "2022-06-28T17:50:49.469203",
     "exception": false,
     "start_time": "2022-06-28T17:50:36.360741",
     "status": "completed"
    },
    "tags": []
   },
   "outputs": [],
   "source": [
    "import numpy as np\n",
    "import pandas as pd \n",
    "import seaborn as sns\n",
    "import matplotlib.pyplot as plt \n",
    "import matplotlib.style as stl \n",
    "from tensorflow import keras \n",
    "from keras.preprocessing.text import Tokenizer\n",
    "from nltk.corpus import stopwords\n",
    "import string\n",
    "from tensorflow.keras.models import Sequential,Model\n",
    "from tensorflow.keras.layers import Dense, LSTM, Embedding,Dropout,SpatialDropout1D,Conv1D,MaxPooling1D,GRU,BatchNormalization\n",
    "import warnings\n",
    "warnings.filterwarnings('ignore')\n",
    "stl.use('ggplot')\n",
    "from tqdm import tqdm\n",
    "import string\n",
    "from nltk.corpus import stopwords\n",
    "from nltk.tokenize import word_tokenize\n",
    "from nltk.stem import WordNetLemmatizer\n",
    "from nltk.stem.snowball import SnowballStemmer\n",
    "import regex as re\n",
    "import time\n",
    "import pickle"
   ]
  },
  {
   "cell_type": "code",
   "execution_count": 2,
   "id": "738b3161",
   "metadata": {
    "execution": {
     "iopub.execute_input": "2022-06-28T17:50:49.486396Z",
     "iopub.status.busy": "2022-06-28T17:50:49.485272Z",
     "iopub.status.idle": "2022-06-28T17:50:49.820858Z",
     "shell.execute_reply": "2022-06-28T17:50:49.819537Z"
    },
    "papermill": {
     "duration": 0.347847,
     "end_time": "2022-06-28T17:50:49.824147",
     "exception": false,
     "start_time": "2022-06-28T17:50:49.476300",
     "status": "completed"
    },
    "tags": []
   },
   "outputs": [],
   "source": [
    "index_ent=pd.read_csv(\"../input/all-csv/index_df (1).csv\")"
   ]
  },
  {
   "cell_type": "code",
   "execution_count": 3,
   "id": "e936f2a4",
   "metadata": {
    "execution": {
     "iopub.execute_input": "2022-06-28T17:50:49.847587Z",
     "iopub.status.busy": "2022-06-28T17:50:49.847206Z",
     "iopub.status.idle": "2022-06-28T17:50:49.871145Z",
     "shell.execute_reply": "2022-06-28T17:50:49.869887Z"
    },
    "papermill": {
     "duration": 0.039062,
     "end_time": "2022-06-28T17:50:49.873886",
     "exception": false,
     "start_time": "2022-06-28T17:50:49.834824",
     "status": "completed"
    },
    "tags": []
   },
   "outputs": [
    {
     "data": {
      "text/html": [
       "<div>\n",
       "<style scoped>\n",
       "    .dataframe tbody tr th:only-of-type {\n",
       "        vertical-align: middle;\n",
       "    }\n",
       "\n",
       "    .dataframe tbody tr th {\n",
       "        vertical-align: top;\n",
       "    }\n",
       "\n",
       "    .dataframe thead th {\n",
       "        text-align: right;\n",
       "    }\n",
       "</style>\n",
       "<table border=\"1\" class=\"dataframe\">\n",
       "  <thead>\n",
       "    <tr style=\"text-align: right;\">\n",
       "      <th></th>\n",
       "      <th>index_text</th>\n",
       "      <th>PERSON-nerenglarge</th>\n",
       "      <th>LOC-nerenglarge</th>\n",
       "      <th>ORG-nerenglarge</th>\n",
       "      <th>text</th>\n",
       "    </tr>\n",
       "  </thead>\n",
       "  <tbody>\n",
       "    <tr>\n",
       "      <th>0</th>\n",
       "      <td>NAME INDEX TO VOLUME 7 OF LETTERS SENT , JULY ...</td>\n",
       "      <td>['Abbott', 'Lyman', 'Adams', 'John Q', 'Allen'...</td>\n",
       "      <td>[]</td>\n",
       "      <td>[]</td>\n",
       "      <td>NAME INDEX TO VOLUME 7 OF LETTERS SENT , JULY ...</td>\n",
       "    </tr>\n",
       "    <tr>\n",
       "      <th>1</th>\n",
       "      <td>Boyd , J. F. Col. 19 , 41 Boyden , James 116 B...</td>\n",
       "      <td>['Boyd', 'J. F. Col.', 'Boyden', 'James', 'Bra...</td>\n",
       "      <td>[]</td>\n",
       "      <td>['Henry Corp']</td>\n",
       "      <td>Boyd , J. F. Col. 19 , 41 Boyden , James 116 B...</td>\n",
       "    </tr>\n",
       "    <tr>\n",
       "      <th>2</th>\n",
       "      <td>Chur , J. F. Capt . 139 Cilley , Clinton A. Ma...</td>\n",
       "      <td>['Chur', 'J. F.', 'Cilley', 'Clinton A. Maj', ...</td>\n",
       "      <td>[]</td>\n",
       "      <td>['Citizens']</td>\n",
       "      <td>Chur , J. F. Capt . 139 Cilley , Clinton A. Ma...</td>\n",
       "    </tr>\n",
       "    <tr>\n",
       "      <th>3</th>\n",
       "      <td>Elijah 176 Eliza 172 Emery , Charles Capt . 3 ...</td>\n",
       "      <td>['Elijah', 'Eliza', 'Emery', 'Charles', 'Edwin...</td>\n",
       "      <td>[]</td>\n",
       "      <td>[]</td>\n",
       "      <td>Elijah 176 Eliza 172 Emery , Charles Capt . 3 ...</td>\n",
       "    </tr>\n",
       "    <tr>\n",
       "      <th>4</th>\n",
       "      <td>Hale , Capt . 51 Hambrich , P.R . Capt . 9 Han...</td>\n",
       "      <td>['Hale', 'Hambrich', 'Hand', 'Harkness', 'E.J'...</td>\n",
       "      <td>['N.C']</td>\n",
       "      <td>[]</td>\n",
       "      <td>Hale , Capt . 51 Hambrich , P.R . Capt . 9 Han...</td>\n",
       "    </tr>\n",
       "  </tbody>\n",
       "</table>\n",
       "</div>"
      ],
      "text/plain": [
       "                                          index_text  \\\n",
       "0  NAME INDEX TO VOLUME 7 OF LETTERS SENT , JULY ...   \n",
       "1  Boyd , J. F. Col. 19 , 41 Boyden , James 116 B...   \n",
       "2  Chur , J. F. Capt . 139 Cilley , Clinton A. Ma...   \n",
       "3  Elijah 176 Eliza 172 Emery , Charles Capt . 3 ...   \n",
       "4  Hale , Capt . 51 Hambrich , P.R . Capt . 9 Han...   \n",
       "\n",
       "                                  PERSON-nerenglarge LOC-nerenglarge  \\\n",
       "0  ['Abbott', 'Lyman', 'Adams', 'John Q', 'Allen'...              []   \n",
       "1  ['Boyd', 'J. F. Col.', 'Boyden', 'James', 'Bra...              []   \n",
       "2  ['Chur', 'J. F.', 'Cilley', 'Clinton A. Maj', ...              []   \n",
       "3  ['Elijah', 'Eliza', 'Emery', 'Charles', 'Edwin...              []   \n",
       "4  ['Hale', 'Hambrich', 'Hand', 'Harkness', 'E.J'...         ['N.C']   \n",
       "\n",
       "  ORG-nerenglarge                                               text  \n",
       "0              []  NAME INDEX TO VOLUME 7 OF LETTERS SENT , JULY ...  \n",
       "1  ['Henry Corp']  Boyd , J. F. Col. 19 , 41 Boyden , James 116 B...  \n",
       "2    ['Citizens']  Chur , J. F. Capt . 139 Cilley , Clinton A. Ma...  \n",
       "3              []  Elijah 176 Eliza 172 Emery , Charles Capt . 3 ...  \n",
       "4              []  Hale , Capt . 51 Hambrich , P.R . Capt . 9 Han...  "
      ]
     },
     "execution_count": 3,
     "metadata": {},
     "output_type": "execute_result"
    }
   ],
   "source": [
    "index_ent.head()"
   ]
  },
  {
   "cell_type": "code",
   "execution_count": 4,
   "id": "79c76525",
   "metadata": {
    "execution": {
     "iopub.execute_input": "2022-06-28T17:50:49.891585Z",
     "iopub.status.busy": "2022-06-28T17:50:49.890713Z",
     "iopub.status.idle": "2022-06-28T17:50:49.902181Z",
     "shell.execute_reply": "2022-06-28T17:50:49.900812Z"
    },
    "papermill": {
     "duration": 0.023132,
     "end_time": "2022-06-28T17:50:49.904558",
     "exception": false,
     "start_time": "2022-06-28T17:50:49.881426",
     "status": "completed"
    },
    "tags": []
   },
   "outputs": [],
   "source": [
    "index_text=index_ent[\"index_text\"]\n",
    "index_names=index_ent[\"PERSON-nerenglarge\"]\n",
    "index_loc=index_ent[\"LOC-nerenglarge\"]\n",
    "index_org=index_ent[\"ORG-nerenglarge\"]"
   ]
  },
  {
   "cell_type": "code",
   "execution_count": 5,
   "id": "6a2ce0f2",
   "metadata": {
    "execution": {
     "iopub.execute_input": "2022-06-28T17:50:49.921594Z",
     "iopub.status.busy": "2022-06-28T17:50:49.920795Z",
     "iopub.status.idle": "2022-06-28T17:50:49.929016Z",
     "shell.execute_reply": "2022-06-28T17:50:49.927953Z"
    },
    "papermill": {
     "duration": 0.019599,
     "end_time": "2022-06-28T17:50:49.931467",
     "exception": false,
     "start_time": "2022-06-28T17:50:49.911868",
     "status": "completed"
    },
    "tags": []
   },
   "outputs": [
    {
     "data": {
      "text/plain": [
       "'1865 . London Manger 14 . London Sarah E 16 . Lippett John E 18 . Lippett W.H 18 . 23 . 33 . Laslo J.G 19 . Lehman R.F 20 . 44 . Lecraft Mary 21 . Lazarus Julia 22 . Lippett W. 23 . 33 . Lecraft Benjamin 36 . 59 . Lewis K.H 30 . Lewis W.F 30 . Levy T.J. 31 . Lane H.B 37 . Leach J A 40 . 45 . Leavy J.P 50 . Lord Fredk 52 . Littlejohn W.H 53 . Leigh J.W 66 . Low T.B 66 .'"
      ]
     },
     "execution_count": 5,
     "metadata": {},
     "output_type": "execute_result"
    }
   ],
   "source": [
    "index_text[150]"
   ]
  },
  {
   "cell_type": "code",
   "execution_count": 6,
   "id": "04a85454",
   "metadata": {
    "execution": {
     "iopub.execute_input": "2022-06-28T17:50:49.948840Z",
     "iopub.status.busy": "2022-06-28T17:50:49.948414Z",
     "iopub.status.idle": "2022-06-28T17:50:49.957199Z",
     "shell.execute_reply": "2022-06-28T17:50:49.955778Z"
    },
    "papermill": {
     "duration": 0.020489,
     "end_time": "2022-06-28T17:50:49.959671",
     "exception": false,
     "start_time": "2022-06-28T17:50:49.939182",
     "status": "completed"
    },
    "tags": []
   },
   "outputs": [
    {
     "data": {
      "text/plain": [
       "\"['London Sarah E', 'Lippett John E', 'Lippett W.H', 'Lehman R.F', 'Lazarus Julia', 'Lippett W', 'Lecraft Benjamin', 'Lewis K.H', 'Lewis W.F', 'Levy T.J', 'Lane H.B', 'Leach J A', 'Leavy J.P', 'Lord Fredk', 'Littlejohn W.H', 'Leigh J.W', 'Low T.B']\""
      ]
     },
     "execution_count": 6,
     "metadata": {},
     "output_type": "execute_result"
    }
   ],
   "source": [
    "index_names[150]"
   ]
  },
  {
   "cell_type": "code",
   "execution_count": 7,
   "id": "32deed3b",
   "metadata": {
    "execution": {
     "iopub.execute_input": "2022-06-28T17:50:49.977842Z",
     "iopub.status.busy": "2022-06-28T17:50:49.977424Z",
     "iopub.status.idle": "2022-06-28T17:50:49.985302Z",
     "shell.execute_reply": "2022-06-28T17:50:49.983985Z"
    },
    "papermill": {
     "duration": 0.020126,
     "end_time": "2022-06-28T17:50:49.987997",
     "exception": false,
     "start_time": "2022-06-28T17:50:49.967871",
     "status": "completed"
    },
    "tags": []
   },
   "outputs": [
    {
     "data": {
      "text/plain": [
       "'298 WHEN RECEIVED . NAME OF WRITER . DATE AND PURPORT OF LETTER . 299 WHEN RECEIVED . NAME OF WRITER . DATE AND PURPORT OF LETTER . 1.3.70 . 1 Missions , Presby Home . Rev . E. F. Hatfield Secretary per . W. T. M. New York City. , Dec. 30th 1869 . States reply , Mr. Swan , teacher due three months salary , 60 withheld case regard purchase of books investigated . 1.8.70 . 2 Moss , R. C. Teacher . Bladensburg , Md . Jany 6th 1870 . States 81 70100 still due School house lot : names of trustees Darius Bowman , Uriah Wallace , Davis Greenleaf , Cyrus Johnston . 1 , 13 , 70 3 Morris Susan , Teacher . Poolsville , Montgomery Co. Md . January 3 , 1870 . Requests check amount due sent Mr. Adams . 1 , 17 , 70 4 Miller Lewis E. Teacher Lewistown , Frederick Co. Md . Pock Mark Jany 15th 70 , States opening of school Lewistown , forwards compliance instructions Baltimore Association . Will report , instructed report made . 1 , 18 , 70 , 5 Moses Rebecca , Teacher Point of Rocks , Fdk . Co. Md . P. M. Jany 17 , 70 Desires sent six Primary Geographies bill . 1 , 21 , 70 6 Moss R. C. Teacher Bladensburg , Prince Georges Co. Md . Acknowledges receipt of check 15.00'"
      ]
     },
     "execution_count": 7,
     "metadata": {},
     "output_type": "execute_result"
    }
   ],
   "source": [
    "index_text[1500]"
   ]
  },
  {
   "cell_type": "code",
   "execution_count": 8,
   "id": "4810c185",
   "metadata": {
    "execution": {
     "iopub.execute_input": "2022-06-28T17:50:50.006291Z",
     "iopub.status.busy": "2022-06-28T17:50:50.005324Z",
     "iopub.status.idle": "2022-06-28T17:50:50.013405Z",
     "shell.execute_reply": "2022-06-28T17:50:50.012472Z"
    },
    "papermill": {
     "duration": 0.020148,
     "end_time": "2022-06-28T17:50:50.016010",
     "exception": false,
     "start_time": "2022-06-28T17:50:49.995862",
     "status": "completed"
    },
    "tags": []
   },
   "outputs": [
    {
     "data": {
      "text/plain": [
       "\"['E. F. Hatfield', 'Swan', 'Darius Bowman', 'Uriah Wallace', 'Davis Greenleaf', 'Cyrus Johnston', 'Morris Susan', 'Miller Lewis E.', 'Pock Mark', 'Moses Rebecca', 'Moss R', 'C.']\""
      ]
     },
     "execution_count": 8,
     "metadata": {},
     "output_type": "execute_result"
    }
   ],
   "source": [
    "index_names[1500]"
   ]
  },
  {
   "cell_type": "code",
   "execution_count": 9,
   "id": "051a9429",
   "metadata": {
    "execution": {
     "iopub.execute_input": "2022-06-28T17:50:50.034421Z",
     "iopub.status.busy": "2022-06-28T17:50:50.033023Z",
     "iopub.status.idle": "2022-06-28T17:50:50.041863Z",
     "shell.execute_reply": "2022-06-28T17:50:50.040689Z"
    },
    "papermill": {
     "duration": 0.020571,
     "end_time": "2022-06-28T17:50:50.044439",
     "exception": false,
     "start_time": "2022-06-28T17:50:50.023868",
     "status": "completed"
    },
    "tags": []
   },
   "outputs": [
    {
     "data": {
      "text/plain": [
       "'Jenny 90 . Johnson Richard 10 Jones Andrew 12 Johnston Thos . P. A.N.U . 16 , 20 , 75 Jordan Alice 37 , 53 Jordan Vina 51 , 54 , 55 Johnston Tho.P . A.N.U . 65 , 74 95 , 169 , 199 , 200 , 204 , 205 , 281 Johnston Hugh 107 , 146 Jane 129 Jennings Mr 184 , 185 Johnston David 219 Johnson Leah 228 Jeremia Parthe 253'"
      ]
     },
     "execution_count": 9,
     "metadata": {},
     "output_type": "execute_result"
    }
   ],
   "source": [
    "index_text[5000]"
   ]
  },
  {
   "cell_type": "code",
   "execution_count": 10,
   "id": "9870cd06",
   "metadata": {
    "execution": {
     "iopub.execute_input": "2022-06-28T17:50:50.064212Z",
     "iopub.status.busy": "2022-06-28T17:50:50.063123Z",
     "iopub.status.idle": "2022-06-28T17:50:50.072185Z",
     "shell.execute_reply": "2022-06-28T17:50:50.070975Z"
    },
    "papermill": {
     "duration": 0.021957,
     "end_time": "2022-06-28T17:50:50.074884",
     "exception": false,
     "start_time": "2022-06-28T17:50:50.052927",
     "status": "completed"
    },
    "tags": []
   },
   "outputs": [
    {
     "data": {
      "text/plain": [
       "\"['Johnson Richard', 'Jones Andrew', 'Johnston Thos', 'Jordan Alice', 'Jordan Vina', 'Johnston Hugh', 'Jane', 'Jennings Mr', 'Johnston David', 'Johnson Leah', 'Jeremia Parthe']\""
      ]
     },
     "execution_count": 10,
     "metadata": {},
     "output_type": "execute_result"
    }
   ],
   "source": [
    "index_names[5000]"
   ]
  },
  {
   "cell_type": "code",
   "execution_count": 11,
   "id": "19fe33ce",
   "metadata": {
    "execution": {
     "iopub.execute_input": "2022-06-28T17:50:50.094112Z",
     "iopub.status.busy": "2022-06-28T17:50:50.093067Z",
     "iopub.status.idle": "2022-06-28T17:50:50.105570Z",
     "shell.execute_reply": "2022-06-28T17:50:50.103364Z"
    },
    "papermill": {
     "duration": 0.026146,
     "end_time": "2022-06-28T17:50:50.109264",
     "exception": false,
     "start_time": "2022-06-28T17:50:50.083118",
     "status": "completed"
    },
    "tags": []
   },
   "outputs": [
    {
     "data": {
      "text/plain": [
       "0       ['Abbott', 'Lyman', 'Adams', 'John Q', 'Allen'...\n",
       "1       ['Boyd', 'J. F. Col.', 'Boyden', 'James', 'Bra...\n",
       "2       ['Chur', 'J. F.', 'Cilley', 'Clinton A. Maj', ...\n",
       "3       ['Elijah', 'Eliza', 'Emery', 'Charles', 'Edwin...\n",
       "4       ['Hale', 'Hambrich', 'Hand', 'Harkness', 'E.J'...\n",
       "                              ...                        \n",
       "5417                                                   []\n",
       "5418    ['Wm . F. Richardson', 'Hattie M. Richardson',...\n",
       "5419    ['Hattie L. Newcomb', 'Mutch Opelika', 'Thomas...\n",
       "5420    ['Mutch Opelika', 'Thomas H. Whitly', 'Emma A ...\n",
       "5421    ['James Nichols Stevenson', 'O . M. Waring', '...\n",
       "Name: PERSON-nerenglarge, Length: 5422, dtype: object"
      ]
     },
     "execution_count": 11,
     "metadata": {},
     "output_type": "execute_result"
    }
   ],
   "source": [
    "index_names"
   ]
  },
  {
   "cell_type": "code",
   "execution_count": 12,
   "id": "d1e8174b",
   "metadata": {
    "execution": {
     "iopub.execute_input": "2022-06-28T17:50:50.128382Z",
     "iopub.status.busy": "2022-06-28T17:50:50.127115Z",
     "iopub.status.idle": "2022-06-28T17:50:50.301180Z",
     "shell.execute_reply": "2022-06-28T17:50:50.300217Z"
    },
    "papermill": {
     "duration": 0.185579,
     "end_time": "2022-06-28T17:50:50.303635",
     "exception": false,
     "start_time": "2022-06-28T17:50:50.118056",
     "status": "completed"
    },
    "tags": []
   },
   "outputs": [
    {
     "data": {
      "text/plain": [
       "(1298703, 0)"
      ]
     },
     "execution_count": 12,
     "metadata": {},
     "output_type": "execute_result"
    }
   ],
   "source": [
    "PL=[]\n",
    "empty=0\n",
    "for i in index_names:\n",
    "    for j in i:\n",
    "        PL.append(j)\n",
    "for i in index_names:\n",
    "    if i==[]:\n",
    "        empty=empty+1\n",
    "len(PL), empty"
   ]
  },
  {
   "cell_type": "markdown",
   "id": "4e003979",
   "metadata": {
    "papermill": {
     "duration": 0.007607,
     "end_time": "2022-06-28T17:50:50.319099",
     "exception": false,
     "start_time": "2022-06-28T17:50:50.311492",
     "status": "completed"
    },
    "tags": []
   },
   "source": [
    "# Names from Index are Perfect "
   ]
  },
  {
   "cell_type": "markdown",
   "id": "2e81b33d",
   "metadata": {
    "papermill": {
     "duration": 0.007423,
     "end_time": "2022-06-28T17:50:50.334340",
     "exception": false,
     "start_time": "2022-06-28T17:50:50.326917",
     "status": "completed"
    },
    "tags": []
   },
   "source": [
    "****"
   ]
  },
  {
   "cell_type": "code",
   "execution_count": 13,
   "id": "4b5c2eb3",
   "metadata": {
    "execution": {
     "iopub.execute_input": "2022-06-28T17:50:50.352734Z",
     "iopub.status.busy": "2022-06-28T17:50:50.351594Z",
     "iopub.status.idle": "2022-06-28T17:50:50.646898Z",
     "shell.execute_reply": "2022-06-28T17:50:50.645833Z"
    },
    "papermill": {
     "duration": 0.307544,
     "end_time": "2022-06-28T17:50:50.649971",
     "exception": false,
     "start_time": "2022-06-28T17:50:50.342427",
     "status": "completed"
    },
    "tags": []
   },
   "outputs": [],
   "source": [
    "order_ent=pd.read_csv(\"../input/all-csv/to_compare_result_order.csv\")"
   ]
  },
  {
   "cell_type": "code",
   "execution_count": 14,
   "id": "081171e2",
   "metadata": {
    "execution": {
     "iopub.execute_input": "2022-06-28T17:50:50.669349Z",
     "iopub.status.busy": "2022-06-28T17:50:50.668149Z",
     "iopub.status.idle": "2022-06-28T17:50:50.693399Z",
     "shell.execute_reply": "2022-06-28T17:50:50.692231Z"
    },
    "papermill": {
     "duration": 0.037098,
     "end_time": "2022-06-28T17:50:50.695938",
     "exception": false,
     "start_time": "2022-06-28T17:50:50.658840",
     "status": "completed"
    },
    "tags": []
   },
   "outputs": [
    {
     "data": {
      "text/html": [
       "<div>\n",
       "<style scoped>\n",
       "    .dataframe tbody tr th:only-of-type {\n",
       "        vertical-align: middle;\n",
       "    }\n",
       "\n",
       "    .dataframe tbody tr th {\n",
       "        vertical-align: top;\n",
       "    }\n",
       "\n",
       "    .dataframe thead th {\n",
       "        text-align: right;\n",
       "    }\n",
       "</style>\n",
       "<table border=\"1\" class=\"dataframe\">\n",
       "  <thead>\n",
       "    <tr style=\"text-align: right;\">\n",
       "      <th></th>\n",
       "      <th>order_text</th>\n",
       "      <th>PERSON-ontonotes</th>\n",
       "      <th>GPE-ontonotes</th>\n",
       "      <th>ORG-ontonotes</th>\n",
       "      <th>Date-ontonotes</th>\n",
       "      <th>LOC-ontonotes</th>\n",
       "      <th>Building-ontonotes</th>\n",
       "      <th>postDate-ontonotes</th>\n",
       "      <th>standard_date-ontonotes</th>\n",
       "      <th>PERSON-nerenglarge</th>\n",
       "      <th>LOC-nerenglarge</th>\n",
       "      <th>ORG-nerenglarge</th>\n",
       "      <th>other_namelarge</th>\n",
       "      <th>PERSON-nerenglish</th>\n",
       "      <th>LOC-nerenglish</th>\n",
       "      <th>ORG-nerenglish</th>\n",
       "      <th>Other_name-nerenglish</th>\n",
       "    </tr>\n",
       "  </thead>\n",
       "  <tbody>\n",
       "    <tr>\n",
       "      <th>0</th>\n",
       "      <td>R G. R.R . THIS ORDER NOT TRANSFERABLE . U.S. ...</td>\n",
       "      <td>['E . Cranford', 'Lewis B. Parsons', 'Major Kn...</td>\n",
       "      <td>['Raleigh N.C', 'Warrenton N.C', 'New York']</td>\n",
       "      <td>['Samuel Gale Co .']</td>\n",
       "      <td>['Aug 6 1866', 'Aug 1866']</td>\n",
       "      <td>[]</td>\n",
       "      <td>['67487']</td>\n",
       "      <td>['6-Aug-1866']</td>\n",
       "      <td>['6-August-1866']</td>\n",
       "      <td>['Cranford', 'Lewis B. Parsons', 'Gaston R.R']</td>\n",
       "      <td>['U.S.', 'Raleigh N.C', 'Warrenton N.C', 'Rale...</td>\n",
       "      <td>['Samuel Gale Co', 'Regiment Freedman', 'Rail ...</td>\n",
       "      <td>[]</td>\n",
       "      <td>[]</td>\n",
       "      <td>['Ral', 'Gaston R.R', 'Raleigh N.C.', 'Broadwa...</td>\n",
       "      <td>['Cranford']</td>\n",
       "      <td>[]</td>\n",
       "    </tr>\n",
       "    <tr>\n",
       "      <th>1</th>\n",
       "      <td>Certified Copy of Order , Extract , within tra...</td>\n",
       "      <td>['E. Crawford']</td>\n",
       "      <td>['Raleigh N.C']</td>\n",
       "      <td>[]</td>\n",
       "      <td>['Aug 6 1866']</td>\n",
       "      <td>[]</td>\n",
       "      <td>[]</td>\n",
       "      <td>['6-Aug-1866']</td>\n",
       "      <td>['6-August-1866']</td>\n",
       "      <td>['Robinson Clinton', 'E. Crawford']</td>\n",
       "      <td>['Raleigh N.C']</td>\n",
       "      <td>[]</td>\n",
       "      <td>[]</td>\n",
       "      <td>[]</td>\n",
       "      <td>[]</td>\n",
       "      <td>[]</td>\n",
       "      <td>[]</td>\n",
       "    </tr>\n",
       "    <tr>\n",
       "      <th>2</th>\n",
       "      <td>Bureau of Refugees , Freedmen Abandoned Lands ...</td>\n",
       "      <td>['KELLEY', 'EDWARD McPHERSON', 'JONATHAN WORTH']</td>\n",
       "      <td>['Raleigh', 'N.C.', 'United States', 'Alabama'...</td>\n",
       "      <td>['Bureau of Refugees', 'House of Representativ...</td>\n",
       "      <td>['May 8th , 1866', 'May 1 , 1866', '1st']</td>\n",
       "      <td>[]</td>\n",
       "      <td>['2d', 'III']</td>\n",
       "      <td>['8-May-1866', '1-May-1866']</td>\n",
       "      <td>['8-May-1866', '1-May-1866']</td>\n",
       "      <td>['KELLEY', 'EDWARD McPHERSON', 'E. WHITTLESEY'...</td>\n",
       "      <td>['State of North Carolina', 'Raleigh', 'N.C.',...</td>\n",
       "      <td>['Bureau of Refugees , Freedmen Abandoned Land...</td>\n",
       "      <td>[]</td>\n",
       "      <td>['JONATHAN WORTH']</td>\n",
       "      <td>['Raleigh', 'N.C.', 'United States', 'Alabama'...</td>\n",
       "      <td>['Officers Agents of Bureau', 'House of Repres...</td>\n",
       "      <td>[]</td>\n",
       "    </tr>\n",
       "    <tr>\n",
       "      <th>3</th>\n",
       "      <td>HEADQUARTERS DEPARTMENT OF NORTH CAROLINA , Ra...</td>\n",
       "      <td>['Joseph E. Johnston']</td>\n",
       "      <td>['Raleigh', 'North Carolina']</td>\n",
       "      <td>['HEADQUARTERS DEPARTMENT OF NORTH CAROLINA', ...</td>\n",
       "      <td>['January 12th , 1866']</td>\n",
       "      <td>[]</td>\n",
       "      <td>['4', 'II', 'III']</td>\n",
       "      <td>['12-January-1866']</td>\n",
       "      <td>['12-January-1866']</td>\n",
       "      <td>['Joseph E. Johnston']</td>\n",
       "      <td>['NORTH CAROLINA', 'Raleigh', 'North Carolina'...</td>\n",
       "      <td>['Government']</td>\n",
       "      <td>[]</td>\n",
       "      <td>['Joseph E. Johnston']</td>\n",
       "      <td>['NORTH CAROLINA', 'Raleigh', 'North Carolina']</td>\n",
       "      <td>[]</td>\n",
       "      <td>[]</td>\n",
       "    </tr>\n",
       "    <tr>\n",
       "      <th>4</th>\n",
       "      <td>IV . Animals sold counties collected unless wo...</td>\n",
       "      <td>['J A . Campbell', 'James H Anderson']</td>\n",
       "      <td>['U.S.']</td>\n",
       "      <td>['Headquarters', 'Government']</td>\n",
       "      <td>['first day of February , proximo']</td>\n",
       "      <td>[]</td>\n",
       "      <td>['VI']</td>\n",
       "      <td>[]</td>\n",
       "      <td>[]</td>\n",
       "      <td>['J A . Campbell', 'James H Anderson']</td>\n",
       "      <td>['U.S.', 'U.S. C.S', 'C.S']</td>\n",
       "      <td>['Government']</td>\n",
       "      <td>[]</td>\n",
       "      <td>['James H Anderson']</td>\n",
       "      <td>['U.S.']</td>\n",
       "      <td>[]</td>\n",
       "      <td>['C.S']</td>\n",
       "    </tr>\n",
       "  </tbody>\n",
       "</table>\n",
       "</div>"
      ],
      "text/plain": [
       "                                          order_text  \\\n",
       "0  R G. R.R . THIS ORDER NOT TRANSFERABLE . U.S. ...   \n",
       "1  Certified Copy of Order , Extract , within tra...   \n",
       "2  Bureau of Refugees , Freedmen Abandoned Lands ...   \n",
       "3  HEADQUARTERS DEPARTMENT OF NORTH CAROLINA , Ra...   \n",
       "4  IV . Animals sold counties collected unless wo...   \n",
       "\n",
       "                                    PERSON-ontonotes  \\\n",
       "0  ['E . Cranford', 'Lewis B. Parsons', 'Major Kn...   \n",
       "1                                    ['E. Crawford']   \n",
       "2   ['KELLEY', 'EDWARD McPHERSON', 'JONATHAN WORTH']   \n",
       "3                             ['Joseph E. Johnston']   \n",
       "4             ['J A . Campbell', 'James H Anderson']   \n",
       "\n",
       "                                       GPE-ontonotes  \\\n",
       "0       ['Raleigh N.C', 'Warrenton N.C', 'New York']   \n",
       "1                                    ['Raleigh N.C']   \n",
       "2  ['Raleigh', 'N.C.', 'United States', 'Alabama'...   \n",
       "3                      ['Raleigh', 'North Carolina']   \n",
       "4                                           ['U.S.']   \n",
       "\n",
       "                                       ORG-ontonotes  \\\n",
       "0                               ['Samuel Gale Co .']   \n",
       "1                                                 []   \n",
       "2  ['Bureau of Refugees', 'House of Representativ...   \n",
       "3  ['HEADQUARTERS DEPARTMENT OF NORTH CAROLINA', ...   \n",
       "4                     ['Headquarters', 'Government']   \n",
       "\n",
       "                              Date-ontonotes LOC-ontonotes  \\\n",
       "0                 ['Aug 6 1866', 'Aug 1866']            []   \n",
       "1                             ['Aug 6 1866']            []   \n",
       "2  ['May 8th , 1866', 'May 1 , 1866', '1st']            []   \n",
       "3                    ['January 12th , 1866']            []   \n",
       "4        ['first day of February , proximo']            []   \n",
       "\n",
       "   Building-ontonotes            postDate-ontonotes  \\\n",
       "0           ['67487']                ['6-Aug-1866']   \n",
       "1                  []                ['6-Aug-1866']   \n",
       "2       ['2d', 'III']  ['8-May-1866', '1-May-1866']   \n",
       "3  ['4', 'II', 'III']           ['12-January-1866']   \n",
       "4              ['VI']                            []   \n",
       "\n",
       "        standard_date-ontonotes  \\\n",
       "0             ['6-August-1866']   \n",
       "1             ['6-August-1866']   \n",
       "2  ['8-May-1866', '1-May-1866']   \n",
       "3           ['12-January-1866']   \n",
       "4                            []   \n",
       "\n",
       "                                  PERSON-nerenglarge  \\\n",
       "0     ['Cranford', 'Lewis B. Parsons', 'Gaston R.R']   \n",
       "1                ['Robinson Clinton', 'E. Crawford']   \n",
       "2  ['KELLEY', 'EDWARD McPHERSON', 'E. WHITTLESEY'...   \n",
       "3                             ['Joseph E. Johnston']   \n",
       "4             ['J A . Campbell', 'James H Anderson']   \n",
       "\n",
       "                                     LOC-nerenglarge  \\\n",
       "0  ['U.S.', 'Raleigh N.C', 'Warrenton N.C', 'Rale...   \n",
       "1                                    ['Raleigh N.C']   \n",
       "2  ['State of North Carolina', 'Raleigh', 'N.C.',...   \n",
       "3  ['NORTH CAROLINA', 'Raleigh', 'North Carolina'...   \n",
       "4                        ['U.S.', 'U.S. C.S', 'C.S']   \n",
       "\n",
       "                                     ORG-nerenglarge other_namelarge  \\\n",
       "0  ['Samuel Gale Co', 'Regiment Freedman', 'Rail ...              []   \n",
       "1                                                 []              []   \n",
       "2  ['Bureau of Refugees , Freedmen Abandoned Land...              []   \n",
       "3                                     ['Government']              []   \n",
       "4                                     ['Government']              []   \n",
       "\n",
       "        PERSON-nerenglish                                     LOC-nerenglish  \\\n",
       "0                      []  ['Ral', 'Gaston R.R', 'Raleigh N.C.', 'Broadwa...   \n",
       "1                      []                                                 []   \n",
       "2      ['JONATHAN WORTH']  ['Raleigh', 'N.C.', 'United States', 'Alabama'...   \n",
       "3  ['Joseph E. Johnston']    ['NORTH CAROLINA', 'Raleigh', 'North Carolina']   \n",
       "4    ['James H Anderson']                                           ['U.S.']   \n",
       "\n",
       "                                      ORG-nerenglish Other_name-nerenglish  \n",
       "0                                       ['Cranford']                    []  \n",
       "1                                                 []                    []  \n",
       "2  ['Officers Agents of Bureau', 'House of Repres...                    []  \n",
       "3                                                 []                    []  \n",
       "4                                                 []               ['C.S']  "
      ]
     },
     "execution_count": 14,
     "metadata": {},
     "output_type": "execute_result"
    }
   ],
   "source": [
    "order_ent.head()"
   ]
  },
  {
   "cell_type": "code",
   "execution_count": 15,
   "id": "186458c5",
   "metadata": {
    "execution": {
     "iopub.execute_input": "2022-06-28T17:50:50.715598Z",
     "iopub.status.busy": "2022-06-28T17:50:50.714142Z",
     "iopub.status.idle": "2022-06-28T17:50:50.721773Z",
     "shell.execute_reply": "2022-06-28T17:50:50.720746Z"
    },
    "papermill": {
     "duration": 0.020149,
     "end_time": "2022-06-28T17:50:50.724469",
     "exception": false,
     "start_time": "2022-06-28T17:50:50.704320",
     "status": "completed"
    },
    "tags": []
   },
   "outputs": [],
   "source": [
    "order_text=order_ent[\"order_text\"]\n",
    "order_Per_onto=order_ent[\"PERSON-ontonotes\"]\n",
    "order_GPE_onto=order_ent[\"GPE-ontonotes\"]\n",
    "order_ORG_onto=order_ent[\"ORG-ontonotes\"]\n",
    "order_date_onto=order_ent[\"standard_date-ontonotes\"]\n",
    "order_loc_onto=order_ent[\"LOC-ontonotes\"]"
   ]
  },
  {
   "cell_type": "code",
   "execution_count": 16,
   "id": "b0c2906f",
   "metadata": {
    "execution": {
     "iopub.execute_input": "2022-06-28T17:50:50.744422Z",
     "iopub.status.busy": "2022-06-28T17:50:50.743806Z",
     "iopub.status.idle": "2022-06-28T17:50:50.751362Z",
     "shell.execute_reply": "2022-06-28T17:50:50.749862Z"
    },
    "papermill": {
     "duration": 0.020119,
     "end_time": "2022-06-28T17:50:50.753668",
     "exception": false,
     "start_time": "2022-06-28T17:50:50.733549",
     "status": "completed"
    },
    "tags": []
   },
   "outputs": [
    {
     "data": {
      "text/plain": [
       "'Bureau of Refugees , Freedmen Abnd . Lands , Office Sub Assistant Commissioner , Greensboro , N.C. , August 9 , 1867 . Circular No . 3 . I would respectfully inform colored people of Sub District , compliance Circular Order , No . 14 , C.S . Hd . Qrs . Asst . Comr , State of N.C. , I keep record of applications labor office purpose of equalizing supply , recommended order , obtain highest possible wages applicants . All want of employment invited register names , strength of families , residence , occupation price of labor demanded . I also invite desire employ , hire hands , register wants , stating full , terms desire make labor contracts . A.W . Bolenius , Capt . V.R.C Brevt Maj. U.S. Vols . Sub Asst . Comr . Official :'"
      ]
     },
     "execution_count": 16,
     "metadata": {},
     "output_type": "execute_result"
    }
   ],
   "source": [
    "order_text[10]"
   ]
  },
  {
   "cell_type": "code",
   "execution_count": 17,
   "id": "822c33f7",
   "metadata": {
    "execution": {
     "iopub.execute_input": "2022-06-28T17:50:50.772487Z",
     "iopub.status.busy": "2022-06-28T17:50:50.771776Z",
     "iopub.status.idle": "2022-06-28T17:50:50.787010Z",
     "shell.execute_reply": "2022-06-28T17:50:50.785953Z"
    },
    "papermill": {
     "duration": 0.027411,
     "end_time": "2022-06-28T17:50:50.789555",
     "exception": false,
     "start_time": "2022-06-28T17:50:50.762144",
     "status": "completed"
    },
    "tags": []
   },
   "outputs": [
    {
     "data": {
      "text/plain": [
       "\"['A.W . Bolenius']\""
      ]
     },
     "execution_count": 17,
     "metadata": {},
     "output_type": "execute_result"
    }
   ],
   "source": [
    "order_Per_onto[10]"
   ]
  },
  {
   "cell_type": "code",
   "execution_count": 18,
   "id": "5b01f15d",
   "metadata": {
    "execution": {
     "iopub.execute_input": "2022-06-28T17:50:50.809535Z",
     "iopub.status.busy": "2022-06-28T17:50:50.808410Z",
     "iopub.status.idle": "2022-06-28T17:50:50.816169Z",
     "shell.execute_reply": "2022-06-28T17:50:50.814922Z"
    },
    "papermill": {
     "duration": 0.020472,
     "end_time": "2022-06-28T17:50:50.818816",
     "exception": false,
     "start_time": "2022-06-28T17:50:50.798344",
     "status": "completed"
    },
    "tags": []
   },
   "outputs": [
    {
     "data": {
      "text/plain": [
       "\"['Greensboro', 'N.C.', 'N.C']\""
      ]
     },
     "execution_count": 18,
     "metadata": {},
     "output_type": "execute_result"
    }
   ],
   "source": [
    "order_GPE_onto[10]"
   ]
  },
  {
   "cell_type": "code",
   "execution_count": 19,
   "id": "3aa2162e",
   "metadata": {
    "execution": {
     "iopub.execute_input": "2022-06-28T17:50:50.839510Z",
     "iopub.status.busy": "2022-06-28T17:50:50.838511Z",
     "iopub.status.idle": "2022-06-28T17:50:50.846262Z",
     "shell.execute_reply": "2022-06-28T17:50:50.844975Z"
    },
    "papermill": {
     "duration": 0.020812,
     "end_time": "2022-06-28T17:50:50.848759",
     "exception": false,
     "start_time": "2022-06-28T17:50:50.827947",
     "status": "completed"
    },
    "tags": []
   },
   "outputs": [
    {
     "data": {
      "text/plain": [
       "\"['Sub District']\""
      ]
     },
     "execution_count": 19,
     "metadata": {},
     "output_type": "execute_result"
    }
   ],
   "source": [
    "order_loc_onto[10]"
   ]
  },
  {
   "cell_type": "code",
   "execution_count": 20,
   "id": "15d4d87c",
   "metadata": {
    "execution": {
     "iopub.execute_input": "2022-06-28T17:50:50.868843Z",
     "iopub.status.busy": "2022-06-28T17:50:50.868278Z",
     "iopub.status.idle": "2022-06-28T17:50:50.876397Z",
     "shell.execute_reply": "2022-06-28T17:50:50.875269Z"
    },
    "papermill": {
     "duration": 0.021199,
     "end_time": "2022-06-28T17:50:50.878885",
     "exception": false,
     "start_time": "2022-06-28T17:50:50.857686",
     "status": "completed"
    },
    "tags": []
   },
   "outputs": [
    {
     "data": {
      "text/plain": [
       "\"['9-August-1867']\""
      ]
     },
     "execution_count": 20,
     "metadata": {},
     "output_type": "execute_result"
    }
   ],
   "source": [
    "order_date_onto[10]"
   ]
  },
  {
   "cell_type": "code",
   "execution_count": null,
   "id": "761f47b9",
   "metadata": {
    "papermill": {
     "duration": 0.008695,
     "end_time": "2022-06-28T17:50:50.896863",
     "exception": false,
     "start_time": "2022-06-28T17:50:50.888168",
     "status": "completed"
    },
    "tags": []
   },
   "outputs": [],
   "source": []
  }
 ],
 "metadata": {
  "kernelspec": {
   "display_name": "Python 3",
   "language": "python",
   "name": "python3"
  },
  "language_info": {
   "codemirror_mode": {
    "name": "ipython",
    "version": 3
   },
   "file_extension": ".py",
   "mimetype": "text/x-python",
   "name": "python",
   "nbconvert_exporter": "python",
   "pygments_lexer": "ipython3",
   "version": "3.7.12"
  },
  "papermill": {
   "default_parameters": {},
   "duration": 28.830005,
   "end_time": "2022-06-28T17:50:54.453137",
   "environment_variables": {},
   "exception": null,
   "input_path": "__notebook__.ipynb",
   "output_path": "__notebook__.ipynb",
   "parameters": {},
   "start_time": "2022-06-28T17:50:25.623132",
   "version": "2.3.4"
  }
 },
 "nbformat": 4,
 "nbformat_minor": 5
}
