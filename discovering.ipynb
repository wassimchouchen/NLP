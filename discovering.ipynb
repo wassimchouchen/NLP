{
 "cells": [
  {
   "cell_type": "code",
   "execution_count": 1,
   "id": "2b12ab02",
   "metadata": {
    "_cell_guid": "b1076dfc-b9ad-4769-8c92-a6c4dae69d19",
    "_uuid": "8f2839f25d086af736a60e9eeb907d3b93b6e0e5",
    "execution": {
     "iopub.execute_input": "2022-06-29T11:32:27.307777Z",
     "iopub.status.busy": "2022-06-29T11:32:27.306751Z",
     "iopub.status.idle": "2022-06-29T11:32:41.485844Z",
     "shell.execute_reply": "2022-06-29T11:32:41.484387Z"
    },
    "papermill": {
     "duration": 14.217021,
     "end_time": "2022-06-29T11:32:41.488739",
     "exception": false,
     "start_time": "2022-06-29T11:32:27.271718",
     "status": "completed"
    },
    "tags": []
   },
   "outputs": [],
   "source": [
    "import numpy as np\n",
    "import pandas as pd \n",
    "import seaborn as sns\n",
    "import matplotlib.pyplot as plt \n",
    "import matplotlib.style as stl \n",
    "from tensorflow import keras \n",
    "from keras.preprocessing.text import Tokenizer\n",
    "from nltk.corpus import stopwords\n",
    "import string\n",
    "from tensorflow.keras.models import Sequential,Model\n",
    "from tensorflow.keras.layers import Dense, LSTM, Embedding,Dropout,SpatialDropout1D,Conv1D,MaxPooling1D,GRU,BatchNormalization\n",
    "import warnings\n",
    "warnings.filterwarnings('ignore')\n",
    "stl.use('ggplot')\n",
    "from tqdm import tqdm\n",
    "import string\n",
    "from nltk.corpus import stopwords\n",
    "from nltk.tokenize import word_tokenize\n",
    "from nltk.stem import WordNetLemmatizer\n",
    "from nltk.stem.snowball import SnowballStemmer\n",
    "import regex as re\n",
    "import time\n",
    "import pickle"
   ]
  },
  {
   "cell_type": "code",
   "execution_count": 2,
   "id": "19187461",
   "metadata": {
    "execution": {
     "iopub.execute_input": "2022-06-29T11:32:41.548647Z",
     "iopub.status.busy": "2022-06-29T11:32:41.547799Z",
     "iopub.status.idle": "2022-06-29T11:32:41.861109Z",
     "shell.execute_reply": "2022-06-29T11:32:41.859855Z"
    },
    "papermill": {
     "duration": 0.346221,
     "end_time": "2022-06-29T11:32:41.863637",
     "exception": false,
     "start_time": "2022-06-29T11:32:41.517416",
     "status": "completed"
    },
    "tags": []
   },
   "outputs": [],
   "source": [
    "index_ent=pd.read_csv(\"../input/all-csv/index_df (1).csv\")"
   ]
  },
  {
   "cell_type": "code",
   "execution_count": 3,
   "id": "7e1ba3de",
   "metadata": {
    "execution": {
     "iopub.execute_input": "2022-06-29T11:32:41.928133Z",
     "iopub.status.busy": "2022-06-29T11:32:41.927287Z",
     "iopub.status.idle": "2022-06-29T11:32:41.952675Z",
     "shell.execute_reply": "2022-06-29T11:32:41.951638Z"
    },
    "papermill": {
     "duration": 0.058237,
     "end_time": "2022-06-29T11:32:41.954756",
     "exception": false,
     "start_time": "2022-06-29T11:32:41.896519",
     "status": "completed"
    },
    "tags": []
   },
   "outputs": [
    {
     "data": {
      "text/html": [
       "<div>\n",
       "<style scoped>\n",
       "    .dataframe tbody tr th:only-of-type {\n",
       "        vertical-align: middle;\n",
       "    }\n",
       "\n",
       "    .dataframe tbody tr th {\n",
       "        vertical-align: top;\n",
       "    }\n",
       "\n",
       "    .dataframe thead th {\n",
       "        text-align: right;\n",
       "    }\n",
       "</style>\n",
       "<table border=\"1\" class=\"dataframe\">\n",
       "  <thead>\n",
       "    <tr style=\"text-align: right;\">\n",
       "      <th></th>\n",
       "      <th>index_text</th>\n",
       "      <th>PERSON-nerenglarge</th>\n",
       "      <th>LOC-nerenglarge</th>\n",
       "      <th>ORG-nerenglarge</th>\n",
       "      <th>text</th>\n",
       "    </tr>\n",
       "  </thead>\n",
       "  <tbody>\n",
       "    <tr>\n",
       "      <th>0</th>\n",
       "      <td>NAME INDEX TO VOLUME 7 OF LETTERS SENT , JULY ...</td>\n",
       "      <td>['Abbott', 'Lyman', 'Adams', 'John Q', 'Allen'...</td>\n",
       "      <td>[]</td>\n",
       "      <td>[]</td>\n",
       "      <td>NAME INDEX TO VOLUME 7 OF LETTERS SENT , JULY ...</td>\n",
       "    </tr>\n",
       "    <tr>\n",
       "      <th>1</th>\n",
       "      <td>Boyd , J. F. Col. 19 , 41 Boyden , James 116 B...</td>\n",
       "      <td>['Boyd', 'J. F. Col.', 'Boyden', 'James', 'Bra...</td>\n",
       "      <td>[]</td>\n",
       "      <td>['Henry Corp']</td>\n",
       "      <td>Boyd , J. F. Col. 19 , 41 Boyden , James 116 B...</td>\n",
       "    </tr>\n",
       "    <tr>\n",
       "      <th>2</th>\n",
       "      <td>Chur , J. F. Capt . 139 Cilley , Clinton A. Ma...</td>\n",
       "      <td>['Chur', 'J. F.', 'Cilley', 'Clinton A. Maj', ...</td>\n",
       "      <td>[]</td>\n",
       "      <td>['Citizens']</td>\n",
       "      <td>Chur , J. F. Capt . 139 Cilley , Clinton A. Ma...</td>\n",
       "    </tr>\n",
       "    <tr>\n",
       "      <th>3</th>\n",
       "      <td>Elijah 176 Eliza 172 Emery , Charles Capt . 3 ...</td>\n",
       "      <td>['Elijah', 'Eliza', 'Emery', 'Charles', 'Edwin...</td>\n",
       "      <td>[]</td>\n",
       "      <td>[]</td>\n",
       "      <td>Elijah 176 Eliza 172 Emery , Charles Capt . 3 ...</td>\n",
       "    </tr>\n",
       "    <tr>\n",
       "      <th>4</th>\n",
       "      <td>Hale , Capt . 51 Hambrich , P.R . Capt . 9 Han...</td>\n",
       "      <td>['Hale', 'Hambrich', 'Hand', 'Harkness', 'E.J'...</td>\n",
       "      <td>['N.C']</td>\n",
       "      <td>[]</td>\n",
       "      <td>Hale , Capt . 51 Hambrich , P.R . Capt . 9 Han...</td>\n",
       "    </tr>\n",
       "  </tbody>\n",
       "</table>\n",
       "</div>"
      ],
      "text/plain": [
       "                                          index_text  \\\n",
       "0  NAME INDEX TO VOLUME 7 OF LETTERS SENT , JULY ...   \n",
       "1  Boyd , J. F. Col. 19 , 41 Boyden , James 116 B...   \n",
       "2  Chur , J. F. Capt . 139 Cilley , Clinton A. Ma...   \n",
       "3  Elijah 176 Eliza 172 Emery , Charles Capt . 3 ...   \n",
       "4  Hale , Capt . 51 Hambrich , P.R . Capt . 9 Han...   \n",
       "\n",
       "                                  PERSON-nerenglarge LOC-nerenglarge  \\\n",
       "0  ['Abbott', 'Lyman', 'Adams', 'John Q', 'Allen'...              []   \n",
       "1  ['Boyd', 'J. F. Col.', 'Boyden', 'James', 'Bra...              []   \n",
       "2  ['Chur', 'J. F.', 'Cilley', 'Clinton A. Maj', ...              []   \n",
       "3  ['Elijah', 'Eliza', 'Emery', 'Charles', 'Edwin...              []   \n",
       "4  ['Hale', 'Hambrich', 'Hand', 'Harkness', 'E.J'...         ['N.C']   \n",
       "\n",
       "  ORG-nerenglarge                                               text  \n",
       "0              []  NAME INDEX TO VOLUME 7 OF LETTERS SENT , JULY ...  \n",
       "1  ['Henry Corp']  Boyd , J. F. Col. 19 , 41 Boyden , James 116 B...  \n",
       "2    ['Citizens']  Chur , J. F. Capt . 139 Cilley , Clinton A. Ma...  \n",
       "3              []  Elijah 176 Eliza 172 Emery , Charles Capt . 3 ...  \n",
       "4              []  Hale , Capt . 51 Hambrich , P.R . Capt . 9 Han...  "
      ]
     },
     "execution_count": 3,
     "metadata": {},
     "output_type": "execute_result"
    }
   ],
   "source": [
    "index_ent.head()"
   ]
  },
  {
   "cell_type": "code",
   "execution_count": 4,
   "id": "0bbca99f",
   "metadata": {
    "execution": {
     "iopub.execute_input": "2022-06-29T11:32:42.018850Z",
     "iopub.status.busy": "2022-06-29T11:32:42.018056Z",
     "iopub.status.idle": "2022-06-29T11:32:42.028921Z",
     "shell.execute_reply": "2022-06-29T11:32:42.027365Z"
    },
    "papermill": {
     "duration": 0.048631,
     "end_time": "2022-06-29T11:32:42.032112",
     "exception": false,
     "start_time": "2022-06-29T11:32:41.983481",
     "status": "completed"
    },
    "tags": []
   },
   "outputs": [],
   "source": [
    "index_text=index_ent[\"index_text\"]\n",
    "index_names=index_ent[\"PERSON-nerenglarge\"]\n",
    "index_loc=index_ent[\"LOC-nerenglarge\"]\n",
    "index_org=index_ent[\"ORG-nerenglarge\"]"
   ]
  },
  {
   "cell_type": "code",
   "execution_count": 5,
   "id": "9fb04cf4",
   "metadata": {
    "execution": {
     "iopub.execute_input": "2022-06-29T11:32:42.094008Z",
     "iopub.status.busy": "2022-06-29T11:32:42.092898Z",
     "iopub.status.idle": "2022-06-29T11:32:42.100284Z",
     "shell.execute_reply": "2022-06-29T11:32:42.099227Z"
    },
    "papermill": {
     "duration": 0.040878,
     "end_time": "2022-06-29T11:32:42.102512",
     "exception": false,
     "start_time": "2022-06-29T11:32:42.061634",
     "status": "completed"
    },
    "tags": []
   },
   "outputs": [
    {
     "data": {
      "text/plain": [
       "'1865 . London Manger 14 . London Sarah E 16 . Lippett John E 18 . Lippett W.H 18 . 23 . 33 . Laslo J.G 19 . Lehman R.F 20 . 44 . Lecraft Mary 21 . Lazarus Julia 22 . Lippett W. 23 . 33 . Lecraft Benjamin 36 . 59 . Lewis K.H 30 . Lewis W.F 30 . Levy T.J. 31 . Lane H.B 37 . Leach J A 40 . 45 . Leavy J.P 50 . Lord Fredk 52 . Littlejohn W.H 53 . Leigh J.W 66 . Low T.B 66 .'"
      ]
     },
     "execution_count": 5,
     "metadata": {},
     "output_type": "execute_result"
    }
   ],
   "source": [
    "index_text[150]"
   ]
  },
  {
   "cell_type": "code",
   "execution_count": 6,
   "id": "516fbb6d",
   "metadata": {
    "execution": {
     "iopub.execute_input": "2022-06-29T11:32:42.170087Z",
     "iopub.status.busy": "2022-06-29T11:32:42.169679Z",
     "iopub.status.idle": "2022-06-29T11:32:42.176750Z",
     "shell.execute_reply": "2022-06-29T11:32:42.175686Z"
    },
    "papermill": {
     "duration": 0.042626,
     "end_time": "2022-06-29T11:32:42.179258",
     "exception": false,
     "start_time": "2022-06-29T11:32:42.136632",
     "status": "completed"
    },
    "tags": []
   },
   "outputs": [
    {
     "data": {
      "text/plain": [
       "\"['London Sarah E', 'Lippett John E', 'Lippett W.H', 'Lehman R.F', 'Lazarus Julia', 'Lippett W', 'Lecraft Benjamin', 'Lewis K.H', 'Lewis W.F', 'Levy T.J', 'Lane H.B', 'Leach J A', 'Leavy J.P', 'Lord Fredk', 'Littlejohn W.H', 'Leigh J.W', 'Low T.B']\""
      ]
     },
     "execution_count": 6,
     "metadata": {},
     "output_type": "execute_result"
    }
   ],
   "source": [
    "index_names[150]"
   ]
  },
  {
   "cell_type": "code",
   "execution_count": 7,
   "id": "17c211c4",
   "metadata": {
    "execution": {
     "iopub.execute_input": "2022-06-29T11:32:42.242736Z",
     "iopub.status.busy": "2022-06-29T11:32:42.242312Z",
     "iopub.status.idle": "2022-06-29T11:32:42.249766Z",
     "shell.execute_reply": "2022-06-29T11:32:42.248431Z"
    },
    "papermill": {
     "duration": 0.042453,
     "end_time": "2022-06-29T11:32:42.252081",
     "exception": false,
     "start_time": "2022-06-29T11:32:42.209628",
     "status": "completed"
    },
    "tags": []
   },
   "outputs": [
    {
     "data": {
      "text/plain": [
       "'298 WHEN RECEIVED . NAME OF WRITER . DATE AND PURPORT OF LETTER . 299 WHEN RECEIVED . NAME OF WRITER . DATE AND PURPORT OF LETTER . 1.3.70 . 1 Missions , Presby Home . Rev . E. F. Hatfield Secretary per . W. T. M. New York City. , Dec. 30th 1869 . States reply , Mr. Swan , teacher due three months salary , 60 withheld case regard purchase of books investigated . 1.8.70 . 2 Moss , R. C. Teacher . Bladensburg , Md . Jany 6th 1870 . States 81 70100 still due School house lot : names of trustees Darius Bowman , Uriah Wallace , Davis Greenleaf , Cyrus Johnston . 1 , 13 , 70 3 Morris Susan , Teacher . Poolsville , Montgomery Co. Md . January 3 , 1870 . Requests check amount due sent Mr. Adams . 1 , 17 , 70 4 Miller Lewis E. Teacher Lewistown , Frederick Co. Md . Pock Mark Jany 15th 70 , States opening of school Lewistown , forwards compliance instructions Baltimore Association . Will report , instructed report made . 1 , 18 , 70 , 5 Moses Rebecca , Teacher Point of Rocks , Fdk . Co. Md . P. M. Jany 17 , 70 Desires sent six Primary Geographies bill . 1 , 21 , 70 6 Moss R. C. Teacher Bladensburg , Prince Georges Co. Md . Acknowledges receipt of check 15.00'"
      ]
     },
     "execution_count": 7,
     "metadata": {},
     "output_type": "execute_result"
    }
   ],
   "source": [
    "index_text[1500]"
   ]
  },
  {
   "cell_type": "code",
   "execution_count": 8,
   "id": "b2f3682c",
   "metadata": {
    "execution": {
     "iopub.execute_input": "2022-06-29T11:32:42.311081Z",
     "iopub.status.busy": "2022-06-29T11:32:42.310674Z",
     "iopub.status.idle": "2022-06-29T11:32:42.317347Z",
     "shell.execute_reply": "2022-06-29T11:32:42.316274Z"
    },
    "papermill": {
     "duration": 0.03892,
     "end_time": "2022-06-29T11:32:42.319587",
     "exception": false,
     "start_time": "2022-06-29T11:32:42.280667",
     "status": "completed"
    },
    "tags": []
   },
   "outputs": [
    {
     "data": {
      "text/plain": [
       "\"['E. F. Hatfield', 'Swan', 'Darius Bowman', 'Uriah Wallace', 'Davis Greenleaf', 'Cyrus Johnston', 'Morris Susan', 'Miller Lewis E.', 'Pock Mark', 'Moses Rebecca', 'Moss R', 'C.']\""
      ]
     },
     "execution_count": 8,
     "metadata": {},
     "output_type": "execute_result"
    }
   ],
   "source": [
    "index_names[1500]"
   ]
  },
  {
   "cell_type": "code",
   "execution_count": 9,
   "id": "a7e55ae8",
   "metadata": {
    "execution": {
     "iopub.execute_input": "2022-06-29T11:32:42.383862Z",
     "iopub.status.busy": "2022-06-29T11:32:42.382667Z",
     "iopub.status.idle": "2022-06-29T11:32:42.390663Z",
     "shell.execute_reply": "2022-06-29T11:32:42.389332Z"
    },
    "papermill": {
     "duration": 0.043784,
     "end_time": "2022-06-29T11:32:42.392993",
     "exception": false,
     "start_time": "2022-06-29T11:32:42.349209",
     "status": "completed"
    },
    "tags": []
   },
   "outputs": [
    {
     "data": {
      "text/plain": [
       "'Jenny 90 . Johnson Richard 10 Jones Andrew 12 Johnston Thos . P. A.N.U . 16 , 20 , 75 Jordan Alice 37 , 53 Jordan Vina 51 , 54 , 55 Johnston Tho.P . A.N.U . 65 , 74 95 , 169 , 199 , 200 , 204 , 205 , 281 Johnston Hugh 107 , 146 Jane 129 Jennings Mr 184 , 185 Johnston David 219 Johnson Leah 228 Jeremia Parthe 253'"
      ]
     },
     "execution_count": 9,
     "metadata": {},
     "output_type": "execute_result"
    }
   ],
   "source": [
    "index_text[5000]"
   ]
  },
  {
   "cell_type": "code",
   "execution_count": 10,
   "id": "137cffd4",
   "metadata": {
    "execution": {
     "iopub.execute_input": "2022-06-29T11:32:42.455116Z",
     "iopub.status.busy": "2022-06-29T11:32:42.453818Z",
     "iopub.status.idle": "2022-06-29T11:32:42.461754Z",
     "shell.execute_reply": "2022-06-29T11:32:42.460616Z"
    },
    "papermill": {
     "duration": 0.041565,
     "end_time": "2022-06-29T11:32:42.464137",
     "exception": false,
     "start_time": "2022-06-29T11:32:42.422572",
     "status": "completed"
    },
    "tags": []
   },
   "outputs": [
    {
     "data": {
      "text/plain": [
       "\"['Johnson Richard', 'Jones Andrew', 'Johnston Thos', 'Jordan Alice', 'Jordan Vina', 'Johnston Hugh', 'Jane', 'Jennings Mr', 'Johnston David', 'Johnson Leah', 'Jeremia Parthe']\""
      ]
     },
     "execution_count": 10,
     "metadata": {},
     "output_type": "execute_result"
    }
   ],
   "source": [
    "index_names[5000]"
   ]
  },
  {
   "cell_type": "code",
   "execution_count": 11,
   "id": "4747a210",
   "metadata": {
    "execution": {
     "iopub.execute_input": "2022-06-29T11:32:42.529492Z",
     "iopub.status.busy": "2022-06-29T11:32:42.527956Z",
     "iopub.status.idle": "2022-06-29T11:32:42.540442Z",
     "shell.execute_reply": "2022-06-29T11:32:42.538859Z"
    },
    "papermill": {
     "duration": 0.048719,
     "end_time": "2022-06-29T11:32:42.543374",
     "exception": false,
     "start_time": "2022-06-29T11:32:42.494655",
     "status": "completed"
    },
    "tags": []
   },
   "outputs": [
    {
     "data": {
      "text/plain": [
       "0       ['Abbott', 'Lyman', 'Adams', 'John Q', 'Allen'...\n",
       "1       ['Boyd', 'J. F. Col.', 'Boyden', 'James', 'Bra...\n",
       "2       ['Chur', 'J. F.', 'Cilley', 'Clinton A. Maj', ...\n",
       "3       ['Elijah', 'Eliza', 'Emery', 'Charles', 'Edwin...\n",
       "4       ['Hale', 'Hambrich', 'Hand', 'Harkness', 'E.J'...\n",
       "                              ...                        \n",
       "5417                                                   []\n",
       "5418    ['Wm . F. Richardson', 'Hattie M. Richardson',...\n",
       "5419    ['Hattie L. Newcomb', 'Mutch Opelika', 'Thomas...\n",
       "5420    ['Mutch Opelika', 'Thomas H. Whitly', 'Emma A ...\n",
       "5421    ['James Nichols Stevenson', 'O . M. Waring', '...\n",
       "Name: PERSON-nerenglarge, Length: 5422, dtype: object"
      ]
     },
     "execution_count": 11,
     "metadata": {},
     "output_type": "execute_result"
    }
   ],
   "source": [
    "index_names"
   ]
  },
  {
   "cell_type": "code",
   "execution_count": 12,
   "id": "99475419",
   "metadata": {
    "execution": {
     "iopub.execute_input": "2022-06-29T11:32:42.607551Z",
     "iopub.status.busy": "2022-06-29T11:32:42.607126Z",
     "iopub.status.idle": "2022-06-29T11:32:42.780718Z",
     "shell.execute_reply": "2022-06-29T11:32:42.779560Z"
    },
    "papermill": {
     "duration": 0.209775,
     "end_time": "2022-06-29T11:32:42.783253",
     "exception": false,
     "start_time": "2022-06-29T11:32:42.573478",
     "status": "completed"
    },
    "tags": []
   },
   "outputs": [
    {
     "data": {
      "text/plain": [
       "(1298703, 0)"
      ]
     },
     "execution_count": 12,
     "metadata": {},
     "output_type": "execute_result"
    }
   ],
   "source": [
    "PL=[]\n",
    "empty=0\n",
    "for i in index_names:\n",
    "    for j in i:\n",
    "        PL.append(j)\n",
    "for i in index_names:\n",
    "    if i==[]:\n",
    "        empty=empty+1\n",
    "len(PL), empty"
   ]
  },
  {
   "cell_type": "markdown",
   "id": "2a50b51b",
   "metadata": {
    "papermill": {
     "duration": 0.030773,
     "end_time": "2022-06-29T11:32:42.845202",
     "exception": false,
     "start_time": "2022-06-29T11:32:42.814429",
     "status": "completed"
    },
    "tags": []
   },
   "source": [
    "# Names from Index are Perfect "
   ]
  },
  {
   "cell_type": "markdown",
   "id": "32e7cd48",
   "metadata": {
    "papermill": {
     "duration": 0.029567,
     "end_time": "2022-06-29T11:32:42.905071",
     "exception": false,
     "start_time": "2022-06-29T11:32:42.875504",
     "status": "completed"
    },
    "tags": []
   },
   "source": [
    "****"
   ]
  },
  {
   "cell_type": "markdown",
   "id": "e3207179",
   "metadata": {
    "papermill": {
     "duration": 0.029353,
     "end_time": "2022-06-29T11:32:42.964184",
     "exception": false,
     "start_time": "2022-06-29T11:32:42.934831",
     "status": "completed"
    },
    "tags": []
   },
   "source": [
    "# Order ontonotes"
   ]
  },
  {
   "cell_type": "code",
   "execution_count": 13,
   "id": "61428d22",
   "metadata": {
    "execution": {
     "iopub.execute_input": "2022-06-29T11:32:43.032012Z",
     "iopub.status.busy": "2022-06-29T11:32:43.031085Z",
     "iopub.status.idle": "2022-06-29T11:32:43.396157Z",
     "shell.execute_reply": "2022-06-29T11:32:43.395043Z"
    },
    "papermill": {
     "duration": 0.40382,
     "end_time": "2022-06-29T11:32:43.398976",
     "exception": false,
     "start_time": "2022-06-29T11:32:42.995156",
     "status": "completed"
    },
    "tags": []
   },
   "outputs": [],
   "source": [
    "order_ent=pd.read_csv(\"../input/all-csv/to_compare_result_order.csv\")"
   ]
  },
  {
   "cell_type": "code",
   "execution_count": 14,
   "id": "b04990a5",
   "metadata": {
    "execution": {
     "iopub.execute_input": "2022-06-29T11:32:43.464014Z",
     "iopub.status.busy": "2022-06-29T11:32:43.463107Z",
     "iopub.status.idle": "2022-06-29T11:32:43.485575Z",
     "shell.execute_reply": "2022-06-29T11:32:43.484397Z"
    },
    "papermill": {
     "duration": 0.058823,
     "end_time": "2022-06-29T11:32:43.488340",
     "exception": false,
     "start_time": "2022-06-29T11:32:43.429517",
     "status": "completed"
    },
    "tags": []
   },
   "outputs": [
    {
     "data": {
      "text/html": [
       "<div>\n",
       "<style scoped>\n",
       "    .dataframe tbody tr th:only-of-type {\n",
       "        vertical-align: middle;\n",
       "    }\n",
       "\n",
       "    .dataframe tbody tr th {\n",
       "        vertical-align: top;\n",
       "    }\n",
       "\n",
       "    .dataframe thead th {\n",
       "        text-align: right;\n",
       "    }\n",
       "</style>\n",
       "<table border=\"1\" class=\"dataframe\">\n",
       "  <thead>\n",
       "    <tr style=\"text-align: right;\">\n",
       "      <th></th>\n",
       "      <th>order_text</th>\n",
       "      <th>PERSON-ontonotes</th>\n",
       "      <th>GPE-ontonotes</th>\n",
       "      <th>ORG-ontonotes</th>\n",
       "      <th>Date-ontonotes</th>\n",
       "      <th>LOC-ontonotes</th>\n",
       "      <th>Building-ontonotes</th>\n",
       "      <th>postDate-ontonotes</th>\n",
       "      <th>standard_date-ontonotes</th>\n",
       "      <th>PERSON-nerenglarge</th>\n",
       "      <th>LOC-nerenglarge</th>\n",
       "      <th>ORG-nerenglarge</th>\n",
       "      <th>other_namelarge</th>\n",
       "      <th>PERSON-nerenglish</th>\n",
       "      <th>LOC-nerenglish</th>\n",
       "      <th>ORG-nerenglish</th>\n",
       "      <th>Other_name-nerenglish</th>\n",
       "    </tr>\n",
       "  </thead>\n",
       "  <tbody>\n",
       "    <tr>\n",
       "      <th>0</th>\n",
       "      <td>R G. R.R . THIS ORDER NOT TRANSFERABLE . U.S. ...</td>\n",
       "      <td>['E . Cranford', 'Lewis B. Parsons', 'Major Kn...</td>\n",
       "      <td>['Raleigh N.C', 'Warrenton N.C', 'New York']</td>\n",
       "      <td>['Samuel Gale Co .']</td>\n",
       "      <td>['Aug 6 1866', 'Aug 1866']</td>\n",
       "      <td>[]</td>\n",
       "      <td>['67487']</td>\n",
       "      <td>['6-Aug-1866']</td>\n",
       "      <td>['6-August-1866']</td>\n",
       "      <td>['Cranford', 'Lewis B. Parsons', 'Gaston R.R']</td>\n",
       "      <td>['U.S.', 'Raleigh N.C', 'Warrenton N.C', 'Rale...</td>\n",
       "      <td>['Samuel Gale Co', 'Regiment Freedman', 'Rail ...</td>\n",
       "      <td>[]</td>\n",
       "      <td>[]</td>\n",
       "      <td>['Ral', 'Gaston R.R', 'Raleigh N.C.', 'Broadwa...</td>\n",
       "      <td>['Cranford']</td>\n",
       "      <td>[]</td>\n",
       "    </tr>\n",
       "    <tr>\n",
       "      <th>1</th>\n",
       "      <td>Certified Copy of Order , Extract , within tra...</td>\n",
       "      <td>['E. Crawford']</td>\n",
       "      <td>['Raleigh N.C']</td>\n",
       "      <td>[]</td>\n",
       "      <td>['Aug 6 1866']</td>\n",
       "      <td>[]</td>\n",
       "      <td>[]</td>\n",
       "      <td>['6-Aug-1866']</td>\n",
       "      <td>['6-August-1866']</td>\n",
       "      <td>['Robinson Clinton', 'E. Crawford']</td>\n",
       "      <td>['Raleigh N.C']</td>\n",
       "      <td>[]</td>\n",
       "      <td>[]</td>\n",
       "      <td>[]</td>\n",
       "      <td>[]</td>\n",
       "      <td>[]</td>\n",
       "      <td>[]</td>\n",
       "    </tr>\n",
       "    <tr>\n",
       "      <th>2</th>\n",
       "      <td>Bureau of Refugees , Freedmen Abandoned Lands ...</td>\n",
       "      <td>['KELLEY', 'EDWARD McPHERSON', 'JONATHAN WORTH']</td>\n",
       "      <td>['Raleigh', 'N.C.', 'United States', 'Alabama'...</td>\n",
       "      <td>['Bureau of Refugees', 'House of Representativ...</td>\n",
       "      <td>['May 8th , 1866', 'May 1 , 1866', '1st']</td>\n",
       "      <td>[]</td>\n",
       "      <td>['2d', 'III']</td>\n",
       "      <td>['8-May-1866', '1-May-1866']</td>\n",
       "      <td>['8-May-1866', '1-May-1866']</td>\n",
       "      <td>['KELLEY', 'EDWARD McPHERSON', 'E. WHITTLESEY'...</td>\n",
       "      <td>['State of North Carolina', 'Raleigh', 'N.C.',...</td>\n",
       "      <td>['Bureau of Refugees , Freedmen Abandoned Land...</td>\n",
       "      <td>[]</td>\n",
       "      <td>['JONATHAN WORTH']</td>\n",
       "      <td>['Raleigh', 'N.C.', 'United States', 'Alabama'...</td>\n",
       "      <td>['Officers Agents of Bureau', 'House of Repres...</td>\n",
       "      <td>[]</td>\n",
       "    </tr>\n",
       "    <tr>\n",
       "      <th>3</th>\n",
       "      <td>HEADQUARTERS DEPARTMENT OF NORTH CAROLINA , Ra...</td>\n",
       "      <td>['Joseph E. Johnston']</td>\n",
       "      <td>['Raleigh', 'North Carolina']</td>\n",
       "      <td>['HEADQUARTERS DEPARTMENT OF NORTH CAROLINA', ...</td>\n",
       "      <td>['January 12th , 1866']</td>\n",
       "      <td>[]</td>\n",
       "      <td>['4', 'II', 'III']</td>\n",
       "      <td>['12-January-1866']</td>\n",
       "      <td>['12-January-1866']</td>\n",
       "      <td>['Joseph E. Johnston']</td>\n",
       "      <td>['NORTH CAROLINA', 'Raleigh', 'North Carolina'...</td>\n",
       "      <td>['Government']</td>\n",
       "      <td>[]</td>\n",
       "      <td>['Joseph E. Johnston']</td>\n",
       "      <td>['NORTH CAROLINA', 'Raleigh', 'North Carolina']</td>\n",
       "      <td>[]</td>\n",
       "      <td>[]</td>\n",
       "    </tr>\n",
       "    <tr>\n",
       "      <th>4</th>\n",
       "      <td>IV . Animals sold counties collected unless wo...</td>\n",
       "      <td>['J A . Campbell', 'James H Anderson']</td>\n",
       "      <td>['U.S.']</td>\n",
       "      <td>['Headquarters', 'Government']</td>\n",
       "      <td>['first day of February , proximo']</td>\n",
       "      <td>[]</td>\n",
       "      <td>['VI']</td>\n",
       "      <td>[]</td>\n",
       "      <td>[]</td>\n",
       "      <td>['J A . Campbell', 'James H Anderson']</td>\n",
       "      <td>['U.S.', 'U.S. C.S', 'C.S']</td>\n",
       "      <td>['Government']</td>\n",
       "      <td>[]</td>\n",
       "      <td>['James H Anderson']</td>\n",
       "      <td>['U.S.']</td>\n",
       "      <td>[]</td>\n",
       "      <td>['C.S']</td>\n",
       "    </tr>\n",
       "  </tbody>\n",
       "</table>\n",
       "</div>"
      ],
      "text/plain": [
       "                                          order_text  \\\n",
       "0  R G. R.R . THIS ORDER NOT TRANSFERABLE . U.S. ...   \n",
       "1  Certified Copy of Order , Extract , within tra...   \n",
       "2  Bureau of Refugees , Freedmen Abandoned Lands ...   \n",
       "3  HEADQUARTERS DEPARTMENT OF NORTH CAROLINA , Ra...   \n",
       "4  IV . Animals sold counties collected unless wo...   \n",
       "\n",
       "                                    PERSON-ontonotes  \\\n",
       "0  ['E . Cranford', 'Lewis B. Parsons', 'Major Kn...   \n",
       "1                                    ['E. Crawford']   \n",
       "2   ['KELLEY', 'EDWARD McPHERSON', 'JONATHAN WORTH']   \n",
       "3                             ['Joseph E. Johnston']   \n",
       "4             ['J A . Campbell', 'James H Anderson']   \n",
       "\n",
       "                                       GPE-ontonotes  \\\n",
       "0       ['Raleigh N.C', 'Warrenton N.C', 'New York']   \n",
       "1                                    ['Raleigh N.C']   \n",
       "2  ['Raleigh', 'N.C.', 'United States', 'Alabama'...   \n",
       "3                      ['Raleigh', 'North Carolina']   \n",
       "4                                           ['U.S.']   \n",
       "\n",
       "                                       ORG-ontonotes  \\\n",
       "0                               ['Samuel Gale Co .']   \n",
       "1                                                 []   \n",
       "2  ['Bureau of Refugees', 'House of Representativ...   \n",
       "3  ['HEADQUARTERS DEPARTMENT OF NORTH CAROLINA', ...   \n",
       "4                     ['Headquarters', 'Government']   \n",
       "\n",
       "                              Date-ontonotes LOC-ontonotes  \\\n",
       "0                 ['Aug 6 1866', 'Aug 1866']            []   \n",
       "1                             ['Aug 6 1866']            []   \n",
       "2  ['May 8th , 1866', 'May 1 , 1866', '1st']            []   \n",
       "3                    ['January 12th , 1866']            []   \n",
       "4        ['first day of February , proximo']            []   \n",
       "\n",
       "   Building-ontonotes            postDate-ontonotes  \\\n",
       "0           ['67487']                ['6-Aug-1866']   \n",
       "1                  []                ['6-Aug-1866']   \n",
       "2       ['2d', 'III']  ['8-May-1866', '1-May-1866']   \n",
       "3  ['4', 'II', 'III']           ['12-January-1866']   \n",
       "4              ['VI']                            []   \n",
       "\n",
       "        standard_date-ontonotes  \\\n",
       "0             ['6-August-1866']   \n",
       "1             ['6-August-1866']   \n",
       "2  ['8-May-1866', '1-May-1866']   \n",
       "3           ['12-January-1866']   \n",
       "4                            []   \n",
       "\n",
       "                                  PERSON-nerenglarge  \\\n",
       "0     ['Cranford', 'Lewis B. Parsons', 'Gaston R.R']   \n",
       "1                ['Robinson Clinton', 'E. Crawford']   \n",
       "2  ['KELLEY', 'EDWARD McPHERSON', 'E. WHITTLESEY'...   \n",
       "3                             ['Joseph E. Johnston']   \n",
       "4             ['J A . Campbell', 'James H Anderson']   \n",
       "\n",
       "                                     LOC-nerenglarge  \\\n",
       "0  ['U.S.', 'Raleigh N.C', 'Warrenton N.C', 'Rale...   \n",
       "1                                    ['Raleigh N.C']   \n",
       "2  ['State of North Carolina', 'Raleigh', 'N.C.',...   \n",
       "3  ['NORTH CAROLINA', 'Raleigh', 'North Carolina'...   \n",
       "4                        ['U.S.', 'U.S. C.S', 'C.S']   \n",
       "\n",
       "                                     ORG-nerenglarge other_namelarge  \\\n",
       "0  ['Samuel Gale Co', 'Regiment Freedman', 'Rail ...              []   \n",
       "1                                                 []              []   \n",
       "2  ['Bureau of Refugees , Freedmen Abandoned Land...              []   \n",
       "3                                     ['Government']              []   \n",
       "4                                     ['Government']              []   \n",
       "\n",
       "        PERSON-nerenglish                                     LOC-nerenglish  \\\n",
       "0                      []  ['Ral', 'Gaston R.R', 'Raleigh N.C.', 'Broadwa...   \n",
       "1                      []                                                 []   \n",
       "2      ['JONATHAN WORTH']  ['Raleigh', 'N.C.', 'United States', 'Alabama'...   \n",
       "3  ['Joseph E. Johnston']    ['NORTH CAROLINA', 'Raleigh', 'North Carolina']   \n",
       "4    ['James H Anderson']                                           ['U.S.']   \n",
       "\n",
       "                                      ORG-nerenglish Other_name-nerenglish  \n",
       "0                                       ['Cranford']                    []  \n",
       "1                                                 []                    []  \n",
       "2  ['Officers Agents of Bureau', 'House of Repres...                    []  \n",
       "3                                                 []                    []  \n",
       "4                                                 []               ['C.S']  "
      ]
     },
     "execution_count": 14,
     "metadata": {},
     "output_type": "execute_result"
    }
   ],
   "source": [
    "order_ent.head()"
   ]
  },
  {
   "cell_type": "code",
   "execution_count": 15,
   "id": "c5f2edfc",
   "metadata": {
    "execution": {
     "iopub.execute_input": "2022-06-29T11:32:43.553325Z",
     "iopub.status.busy": "2022-06-29T11:32:43.552151Z",
     "iopub.status.idle": "2022-06-29T11:32:43.560518Z",
     "shell.execute_reply": "2022-06-29T11:32:43.559494Z"
    },
    "papermill": {
     "duration": 0.044642,
     "end_time": "2022-06-29T11:32:43.563378",
     "exception": false,
     "start_time": "2022-06-29T11:32:43.518736",
     "status": "completed"
    },
    "tags": []
   },
   "outputs": [],
   "source": [
    "order_text=order_ent[\"order_text\"]\n",
    "order_Per_onto=order_ent[\"PERSON-ontonotes\"]\n",
    "order_GPE_onto=order_ent[\"GPE-ontonotes\"]\n",
    "order_ORG_onto=order_ent[\"ORG-ontonotes\"]\n",
    "order_date_onto=order_ent[\"standard_date-ontonotes\"]\n",
    "order_loc_onto=order_ent[\"LOC-ontonotes\"]"
   ]
  },
  {
   "cell_type": "code",
   "execution_count": 16,
   "id": "f9376ac4",
   "metadata": {
    "execution": {
     "iopub.execute_input": "2022-06-29T11:32:43.629305Z",
     "iopub.status.busy": "2022-06-29T11:32:43.628213Z",
     "iopub.status.idle": "2022-06-29T11:32:43.637242Z",
     "shell.execute_reply": "2022-06-29T11:32:43.635865Z"
    },
    "papermill": {
     "duration": 0.046291,
     "end_time": "2022-06-29T11:32:43.640096",
     "exception": false,
     "start_time": "2022-06-29T11:32:43.593805",
     "status": "completed"
    },
    "tags": []
   },
   "outputs": [
    {
     "data": {
      "text/plain": [
       "'190 By Order of Col. James V. Bomford Jacob F. Chur . Bvt . Lt. Col. A.A.A.G . Bureau of Refugees Freedmen A.L . Head Qrs . Asst . Commissioner Raleigh N.C. Jan. 16th 1867 Special Order No . 8 Leave of absence twelve days hereby granted Lieut Edgar H. McQuigg V.R.C . Asst Supt Bureau R.F . A.L . Wilmington N.C. By Command of Col. J. V. Bomford Jacob F. Chur . Bvt . Lt. Col. A.A.A . Genl Bureau of Refugees Freedmen c Hd Qrs Asst Commissioner Raleigh N.C. Jan. 18th 1867 Special Order No . 9 In compliance instructions Maj Genl O.O . Howard Commissioner , Bvt . Maj. Thos P. Johnston Chf Qr Mr Bureau State pay trustees of Baptist Female Seminary following amounts rent of rooms used Bureau upon premises known Guion Hotel City of Raleigh recommended board of Officers appointed purpose . For three rooms main building occupied offices of Bureau of R.F . A.L . April 1st 1866 Aug 1st 1866 rate of Twelve dollars per month per room . For four rooms detatched building occupied offices of Bureau of R.F . A.L . April 2d 1866 , Dec 31st 1866 , rate of twelve dollars 12 per month per room . By Command of Col. J. V. Bomford Jacob F. Chur . Bvt . Lt. Col. A.A.A . Genl 191 Bureau of Refugees Freedmen c Hd Qrs Asst Commissioner Raleigh N.C. Jan. 19th 1867 Special Order No . 10 I. Manchester W. Weld appointed Agent of Bureau of R.F . A.L . hereby assigned duty Fayetteville N.C. relieve Justin Hodge Agent . II . The resignation of Justin Hodge Agent of Bureau of R.F . A.L . Fayetteville N.C. hereby accepted take effect relieved Mr. M. W. Weld By Command of Col. J. V. Bomford Jacob F. Chur . Bvt . Lt. Col. A.A.A.G . Bureau of Refugees Freedmen c Hd Qrs Asst Commissioner Raleigh N.C. Jan. 20th 1867 Special Order No . 11 During temporary absence of Bt Lt Col Jacob F. Chur Act Asst Adjt Genl , Bt Maj F. A. Seeley act Asst Adjt Genl . By Command of Col. J. V. Bomford Jacob F. Chur . Bvt . Lt. Col. A.A.A.G .'"
      ]
     },
     "execution_count": 16,
     "metadata": {},
     "output_type": "execute_result"
    }
   ],
   "source": [
    "order_text[1000]"
   ]
  },
  {
   "cell_type": "code",
   "execution_count": 17,
   "id": "8cc8bc1c",
   "metadata": {
    "execution": {
     "iopub.execute_input": "2022-06-29T11:32:43.704412Z",
     "iopub.status.busy": "2022-06-29T11:32:43.703497Z",
     "iopub.status.idle": "2022-06-29T11:32:43.711266Z",
     "shell.execute_reply": "2022-06-29T11:32:43.710151Z"
    },
    "papermill": {
     "duration": 0.04285,
     "end_time": "2022-06-29T11:32:43.713758",
     "exception": false,
     "start_time": "2022-06-29T11:32:43.670908",
     "status": "completed"
    },
    "tags": []
   },
   "outputs": [
    {
     "data": {
      "text/plain": [
       "\"['James V. Bomford', 'J. V. Bomford', 'Manchester W. Weld', 'Justin Hodge', 'M. W. Weld', 'Jacob F. Chur', 'F . A. Seeley']\""
      ]
     },
     "execution_count": 17,
     "metadata": {},
     "output_type": "execute_result"
    }
   ],
   "source": [
    "order_Per_onto[1000]"
   ]
  },
  {
   "cell_type": "code",
   "execution_count": 18,
   "id": "fb6cab7d",
   "metadata": {
    "execution": {
     "iopub.execute_input": "2022-06-29T11:32:43.781323Z",
     "iopub.status.busy": "2022-06-29T11:32:43.780397Z",
     "iopub.status.idle": "2022-06-29T11:32:43.796873Z",
     "shell.execute_reply": "2022-06-29T11:32:43.795632Z"
    },
    "papermill": {
     "duration": 0.054462,
     "end_time": "2022-06-29T11:32:43.799588",
     "exception": false,
     "start_time": "2022-06-29T11:32:43.745126",
     "status": "completed"
    },
    "tags": []
   },
   "outputs": [
    {
     "data": {
      "text/plain": [
       "\"['Raleigh N.C', 'Raleigh', 'Fayetteville N.C.']\""
      ]
     },
     "execution_count": 18,
     "metadata": {},
     "output_type": "execute_result"
    }
   ],
   "source": [
    "order_GPE_onto[1000]"
   ]
  },
  {
   "cell_type": "code",
   "execution_count": 19,
   "id": "f30bfa1b",
   "metadata": {
    "execution": {
     "iopub.execute_input": "2022-06-29T11:32:43.865306Z",
     "iopub.status.busy": "2022-06-29T11:32:43.863655Z",
     "iopub.status.idle": "2022-06-29T11:32:43.872090Z",
     "shell.execute_reply": "2022-06-29T11:32:43.871004Z"
    },
    "papermill": {
     "duration": 0.043824,
     "end_time": "2022-06-29T11:32:43.874559",
     "exception": false,
     "start_time": "2022-06-29T11:32:43.830735",
     "status": "completed"
    },
    "tags": []
   },
   "outputs": [
    {
     "data": {
      "text/plain": [
       "\"['Bureau of Refugees Freedmen A.L', 'Bureau of Refugees Freedmen', 'Baptist Female Seminary', 'Bureau of R.F . A.L']\""
      ]
     },
     "execution_count": 19,
     "metadata": {},
     "output_type": "execute_result"
    }
   ],
   "source": [
    "order_ORG_onto[1000]"
   ]
  },
  {
   "cell_type": "code",
   "execution_count": 20,
   "id": "04730c65",
   "metadata": {
    "execution": {
     "iopub.execute_input": "2022-06-29T11:32:43.943653Z",
     "iopub.status.busy": "2022-06-29T11:32:43.942156Z",
     "iopub.status.idle": "2022-06-29T11:32:43.950875Z",
     "shell.execute_reply": "2022-06-29T11:32:43.949436Z"
    },
    "papermill": {
     "duration": 0.045754,
     "end_time": "2022-06-29T11:32:43.953425",
     "exception": false,
     "start_time": "2022-06-29T11:32:43.907671",
     "status": "completed"
    },
    "tags": []
   },
   "outputs": [
    {
     "data": {
      "text/plain": [
       "'[]'"
      ]
     },
     "execution_count": 20,
     "metadata": {},
     "output_type": "execute_result"
    }
   ],
   "source": [
    "order_loc_onto[1000]"
   ]
  },
  {
   "cell_type": "code",
   "execution_count": 21,
   "id": "018a2c43",
   "metadata": {
    "execution": {
     "iopub.execute_input": "2022-06-29T11:32:44.021749Z",
     "iopub.status.busy": "2022-06-29T11:32:44.020859Z",
     "iopub.status.idle": "2022-06-29T11:32:44.029062Z",
     "shell.execute_reply": "2022-06-29T11:32:44.028171Z"
    },
    "papermill": {
     "duration": 0.046158,
     "end_time": "2022-06-29T11:32:44.031251",
     "exception": false,
     "start_time": "2022-06-29T11:32:43.985093",
     "status": "completed"
    },
    "tags": []
   },
   "outputs": [
    {
     "data": {
      "text/plain": [
       "\"['16-Jan.-1867', '18-Jan.-1867', '1-April-1866', '1-August-1866', '2-April-1866', '31-December-1866', '19-Jan.-1867', '20-Jan.-1867']\""
      ]
     },
     "execution_count": 21,
     "metadata": {},
     "output_type": "execute_result"
    }
   ],
   "source": [
    "order_date_onto[1000]"
   ]
  },
  {
   "cell_type": "markdown",
   "id": "64fef621",
   "metadata": {
    "papermill": {
     "duration": 0.032001,
     "end_time": "2022-06-29T11:32:44.094561",
     "exception": false,
     "start_time": "2022-06-29T11:32:44.062560",
     "status": "completed"
    },
    "tags": []
   },
   "source": [
    "**good**"
   ]
  },
  {
   "cell_type": "code",
   "execution_count": 22,
   "id": "050a3bb8",
   "metadata": {
    "execution": {
     "iopub.execute_input": "2022-06-29T11:32:44.161396Z",
     "iopub.status.busy": "2022-06-29T11:32:44.160151Z",
     "iopub.status.idle": "2022-06-29T11:32:44.231594Z",
     "shell.execute_reply": "2022-06-29T11:32:44.230675Z"
    },
    "papermill": {
     "duration": 0.107504,
     "end_time": "2022-06-29T11:32:44.233910",
     "exception": false,
     "start_time": "2022-06-29T11:32:44.126406",
     "status": "completed"
    },
    "tags": []
   },
   "outputs": [
    {
     "data": {
      "text/plain": [
       "(453588, 0)"
      ]
     },
     "execution_count": 22,
     "metadata": {},
     "output_type": "execute_result"
    }
   ],
   "source": [
    "PL=[]\n",
    "empty=0\n",
    "for i in order_Per_onto :\n",
    "    for j in i:\n",
    "        PL.append(j)\n",
    "for i in order_Per_onto:\n",
    "    if i==[]:\n",
    "        empty=empty+1\n",
    "len(PL), empty"
   ]
  },
  {
   "cell_type": "markdown",
   "id": "e39184c1",
   "metadata": {
    "papermill": {
     "duration": 0.030762,
     "end_time": "2022-06-29T11:32:44.296232",
     "exception": false,
     "start_time": "2022-06-29T11:32:44.265470",
     "status": "completed"
    },
    "tags": []
   },
   "source": [
    "**very good**"
   ]
  },
  {
   "cell_type": "code",
   "execution_count": 23,
   "id": "17e5f142",
   "metadata": {
    "execution": {
     "iopub.execute_input": "2022-06-29T11:32:44.361594Z",
     "iopub.status.busy": "2022-06-29T11:32:44.360319Z",
     "iopub.status.idle": "2022-06-29T11:32:44.394287Z",
     "shell.execute_reply": "2022-06-29T11:32:44.393389Z"
    },
    "papermill": {
     "duration": 0.069086,
     "end_time": "2022-06-29T11:32:44.396400",
     "exception": false,
     "start_time": "2022-06-29T11:32:44.327314",
     "status": "completed"
    },
    "tags": []
   },
   "outputs": [
    {
     "data": {
      "text/plain": [
       "(167185, 2515)"
      ]
     },
     "execution_count": 23,
     "metadata": {},
     "output_type": "execute_result"
    }
   ],
   "source": [
    "PL=[]\n",
    "empty=0\n",
    "for i in order_date_onto :\n",
    "    for j in i:\n",
    "        PL.append(j)\n",
    "for i in order_date_onto:\n",
    "    if i==\"[]\":\n",
    "        empty=empty+1\n",
    "len(PL), empty"
   ]
  },
  {
   "cell_type": "markdown",
   "id": "cb678e16",
   "metadata": {
    "papermill": {
     "duration": 0.03077,
     "end_time": "2022-06-29T11:32:44.457894",
     "exception": false,
     "start_time": "2022-06-29T11:32:44.427124",
     "status": "completed"
    },
    "tags": []
   },
   "source": [
    "**uii very good**"
   ]
  },
  {
   "cell_type": "code",
   "execution_count": 24,
   "id": "ce6cfc72",
   "metadata": {
    "execution": {
     "iopub.execute_input": "2022-06-29T11:32:44.524883Z",
     "iopub.status.busy": "2022-06-29T11:32:44.524117Z",
     "iopub.status.idle": "2022-06-29T11:32:44.577436Z",
     "shell.execute_reply": "2022-06-29T11:32:44.576325Z"
    },
    "papermill": {
     "duration": 0.090629,
     "end_time": "2022-06-29T11:32:44.579774",
     "exception": false,
     "start_time": "2022-06-29T11:32:44.489145",
     "status": "completed"
    },
    "tags": []
   },
   "outputs": [
    {
     "data": {
      "text/plain": [
       "(343109, 1295)"
      ]
     },
     "execution_count": 24,
     "metadata": {},
     "output_type": "execute_result"
    }
   ],
   "source": [
    "PL=[]\n",
    "empty=0\n",
    "for i in order_GPE_onto :\n",
    "    for j in i:\n",
    "        PL.append(j)\n",
    "for i in order_GPE_onto:\n",
    "    if i==\"[]\":\n",
    "        empty=empty+1\n",
    "len(PL), empty"
   ]
  },
  {
   "cell_type": "markdown",
   "id": "e028fb52",
   "metadata": {
    "papermill": {
     "duration": 0.0322,
     "end_time": "2022-06-29T11:32:44.643384",
     "exception": false,
     "start_time": "2022-06-29T11:32:44.611184",
     "status": "completed"
    },
    "tags": []
   },
   "source": [
    "****"
   ]
  },
  {
   "cell_type": "markdown",
   "id": "1e27bd04",
   "metadata": {
    "papermill": {
     "duration": 0.030521,
     "end_time": "2022-06-29T11:32:44.704864",
     "exception": false,
     "start_time": "2022-06-29T11:32:44.674343",
     "status": "completed"
    },
    "tags": []
   },
   "source": [
    "# Order Ner-english"
   ]
  },
  {
   "cell_type": "code",
   "execution_count": 25,
   "id": "50e754c0",
   "metadata": {
    "execution": {
     "iopub.execute_input": "2022-06-29T11:32:44.769212Z",
     "iopub.status.busy": "2022-06-29T11:32:44.768443Z",
     "iopub.status.idle": "2022-06-29T11:32:44.791879Z",
     "shell.execute_reply": "2022-06-29T11:32:44.790480Z"
    },
    "papermill": {
     "duration": 0.058673,
     "end_time": "2022-06-29T11:32:44.794396",
     "exception": false,
     "start_time": "2022-06-29T11:32:44.735723",
     "status": "completed"
    },
    "tags": []
   },
   "outputs": [
    {
     "data": {
      "text/html": [
       "<div>\n",
       "<style scoped>\n",
       "    .dataframe tbody tr th:only-of-type {\n",
       "        vertical-align: middle;\n",
       "    }\n",
       "\n",
       "    .dataframe tbody tr th {\n",
       "        vertical-align: top;\n",
       "    }\n",
       "\n",
       "    .dataframe thead th {\n",
       "        text-align: right;\n",
       "    }\n",
       "</style>\n",
       "<table border=\"1\" class=\"dataframe\">\n",
       "  <thead>\n",
       "    <tr style=\"text-align: right;\">\n",
       "      <th></th>\n",
       "      <th>order_text</th>\n",
       "      <th>PERSON-ontonotes</th>\n",
       "      <th>GPE-ontonotes</th>\n",
       "      <th>ORG-ontonotes</th>\n",
       "      <th>Date-ontonotes</th>\n",
       "      <th>LOC-ontonotes</th>\n",
       "      <th>Building-ontonotes</th>\n",
       "      <th>postDate-ontonotes</th>\n",
       "      <th>standard_date-ontonotes</th>\n",
       "      <th>PERSON-nerenglarge</th>\n",
       "      <th>LOC-nerenglarge</th>\n",
       "      <th>ORG-nerenglarge</th>\n",
       "      <th>other_namelarge</th>\n",
       "      <th>PERSON-nerenglish</th>\n",
       "      <th>LOC-nerenglish</th>\n",
       "      <th>ORG-nerenglish</th>\n",
       "      <th>Other_name-nerenglish</th>\n",
       "    </tr>\n",
       "  </thead>\n",
       "  <tbody>\n",
       "    <tr>\n",
       "      <th>0</th>\n",
       "      <td>R G. R.R . THIS ORDER NOT TRANSFERABLE . U.S. ...</td>\n",
       "      <td>['E . Cranford', 'Lewis B. Parsons', 'Major Kn...</td>\n",
       "      <td>['Raleigh N.C', 'Warrenton N.C', 'New York']</td>\n",
       "      <td>['Samuel Gale Co .']</td>\n",
       "      <td>['Aug 6 1866', 'Aug 1866']</td>\n",
       "      <td>[]</td>\n",
       "      <td>['67487']</td>\n",
       "      <td>['6-Aug-1866']</td>\n",
       "      <td>['6-August-1866']</td>\n",
       "      <td>['Cranford', 'Lewis B. Parsons', 'Gaston R.R']</td>\n",
       "      <td>['U.S.', 'Raleigh N.C', 'Warrenton N.C', 'Rale...</td>\n",
       "      <td>['Samuel Gale Co', 'Regiment Freedman', 'Rail ...</td>\n",
       "      <td>[]</td>\n",
       "      <td>[]</td>\n",
       "      <td>['Ral', 'Gaston R.R', 'Raleigh N.C.', 'Broadwa...</td>\n",
       "      <td>['Cranford']</td>\n",
       "      <td>[]</td>\n",
       "    </tr>\n",
       "    <tr>\n",
       "      <th>1</th>\n",
       "      <td>Certified Copy of Order , Extract , within tra...</td>\n",
       "      <td>['E. Crawford']</td>\n",
       "      <td>['Raleigh N.C']</td>\n",
       "      <td>[]</td>\n",
       "      <td>['Aug 6 1866']</td>\n",
       "      <td>[]</td>\n",
       "      <td>[]</td>\n",
       "      <td>['6-Aug-1866']</td>\n",
       "      <td>['6-August-1866']</td>\n",
       "      <td>['Robinson Clinton', 'E. Crawford']</td>\n",
       "      <td>['Raleigh N.C']</td>\n",
       "      <td>[]</td>\n",
       "      <td>[]</td>\n",
       "      <td>[]</td>\n",
       "      <td>[]</td>\n",
       "      <td>[]</td>\n",
       "      <td>[]</td>\n",
       "    </tr>\n",
       "    <tr>\n",
       "      <th>2</th>\n",
       "      <td>Bureau of Refugees , Freedmen Abandoned Lands ...</td>\n",
       "      <td>['KELLEY', 'EDWARD McPHERSON', 'JONATHAN WORTH']</td>\n",
       "      <td>['Raleigh', 'N.C.', 'United States', 'Alabama'...</td>\n",
       "      <td>['Bureau of Refugees', 'House of Representativ...</td>\n",
       "      <td>['May 8th , 1866', 'May 1 , 1866', '1st']</td>\n",
       "      <td>[]</td>\n",
       "      <td>['2d', 'III']</td>\n",
       "      <td>['8-May-1866', '1-May-1866']</td>\n",
       "      <td>['8-May-1866', '1-May-1866']</td>\n",
       "      <td>['KELLEY', 'EDWARD McPHERSON', 'E. WHITTLESEY'...</td>\n",
       "      <td>['State of North Carolina', 'Raleigh', 'N.C.',...</td>\n",
       "      <td>['Bureau of Refugees , Freedmen Abandoned Land...</td>\n",
       "      <td>[]</td>\n",
       "      <td>['JONATHAN WORTH']</td>\n",
       "      <td>['Raleigh', 'N.C.', 'United States', 'Alabama'...</td>\n",
       "      <td>['Officers Agents of Bureau', 'House of Repres...</td>\n",
       "      <td>[]</td>\n",
       "    </tr>\n",
       "    <tr>\n",
       "      <th>3</th>\n",
       "      <td>HEADQUARTERS DEPARTMENT OF NORTH CAROLINA , Ra...</td>\n",
       "      <td>['Joseph E. Johnston']</td>\n",
       "      <td>['Raleigh', 'North Carolina']</td>\n",
       "      <td>['HEADQUARTERS DEPARTMENT OF NORTH CAROLINA', ...</td>\n",
       "      <td>['January 12th , 1866']</td>\n",
       "      <td>[]</td>\n",
       "      <td>['4', 'II', 'III']</td>\n",
       "      <td>['12-January-1866']</td>\n",
       "      <td>['12-January-1866']</td>\n",
       "      <td>['Joseph E. Johnston']</td>\n",
       "      <td>['NORTH CAROLINA', 'Raleigh', 'North Carolina'...</td>\n",
       "      <td>['Government']</td>\n",
       "      <td>[]</td>\n",
       "      <td>['Joseph E. Johnston']</td>\n",
       "      <td>['NORTH CAROLINA', 'Raleigh', 'North Carolina']</td>\n",
       "      <td>[]</td>\n",
       "      <td>[]</td>\n",
       "    </tr>\n",
       "    <tr>\n",
       "      <th>4</th>\n",
       "      <td>IV . Animals sold counties collected unless wo...</td>\n",
       "      <td>['J A . Campbell', 'James H Anderson']</td>\n",
       "      <td>['U.S.']</td>\n",
       "      <td>['Headquarters', 'Government']</td>\n",
       "      <td>['first day of February , proximo']</td>\n",
       "      <td>[]</td>\n",
       "      <td>['VI']</td>\n",
       "      <td>[]</td>\n",
       "      <td>[]</td>\n",
       "      <td>['J A . Campbell', 'James H Anderson']</td>\n",
       "      <td>['U.S.', 'U.S. C.S', 'C.S']</td>\n",
       "      <td>['Government']</td>\n",
       "      <td>[]</td>\n",
       "      <td>['James H Anderson']</td>\n",
       "      <td>['U.S.']</td>\n",
       "      <td>[]</td>\n",
       "      <td>['C.S']</td>\n",
       "    </tr>\n",
       "  </tbody>\n",
       "</table>\n",
       "</div>"
      ],
      "text/plain": [
       "                                          order_text  \\\n",
       "0  R G. R.R . THIS ORDER NOT TRANSFERABLE . U.S. ...   \n",
       "1  Certified Copy of Order , Extract , within tra...   \n",
       "2  Bureau of Refugees , Freedmen Abandoned Lands ...   \n",
       "3  HEADQUARTERS DEPARTMENT OF NORTH CAROLINA , Ra...   \n",
       "4  IV . Animals sold counties collected unless wo...   \n",
       "\n",
       "                                    PERSON-ontonotes  \\\n",
       "0  ['E . Cranford', 'Lewis B. Parsons', 'Major Kn...   \n",
       "1                                    ['E. Crawford']   \n",
       "2   ['KELLEY', 'EDWARD McPHERSON', 'JONATHAN WORTH']   \n",
       "3                             ['Joseph E. Johnston']   \n",
       "4             ['J A . Campbell', 'James H Anderson']   \n",
       "\n",
       "                                       GPE-ontonotes  \\\n",
       "0       ['Raleigh N.C', 'Warrenton N.C', 'New York']   \n",
       "1                                    ['Raleigh N.C']   \n",
       "2  ['Raleigh', 'N.C.', 'United States', 'Alabama'...   \n",
       "3                      ['Raleigh', 'North Carolina']   \n",
       "4                                           ['U.S.']   \n",
       "\n",
       "                                       ORG-ontonotes  \\\n",
       "0                               ['Samuel Gale Co .']   \n",
       "1                                                 []   \n",
       "2  ['Bureau of Refugees', 'House of Representativ...   \n",
       "3  ['HEADQUARTERS DEPARTMENT OF NORTH CAROLINA', ...   \n",
       "4                     ['Headquarters', 'Government']   \n",
       "\n",
       "                              Date-ontonotes LOC-ontonotes  \\\n",
       "0                 ['Aug 6 1866', 'Aug 1866']            []   \n",
       "1                             ['Aug 6 1866']            []   \n",
       "2  ['May 8th , 1866', 'May 1 , 1866', '1st']            []   \n",
       "3                    ['January 12th , 1866']            []   \n",
       "4        ['first day of February , proximo']            []   \n",
       "\n",
       "   Building-ontonotes            postDate-ontonotes  \\\n",
       "0           ['67487']                ['6-Aug-1866']   \n",
       "1                  []                ['6-Aug-1866']   \n",
       "2       ['2d', 'III']  ['8-May-1866', '1-May-1866']   \n",
       "3  ['4', 'II', 'III']           ['12-January-1866']   \n",
       "4              ['VI']                            []   \n",
       "\n",
       "        standard_date-ontonotes  \\\n",
       "0             ['6-August-1866']   \n",
       "1             ['6-August-1866']   \n",
       "2  ['8-May-1866', '1-May-1866']   \n",
       "3           ['12-January-1866']   \n",
       "4                            []   \n",
       "\n",
       "                                  PERSON-nerenglarge  \\\n",
       "0     ['Cranford', 'Lewis B. Parsons', 'Gaston R.R']   \n",
       "1                ['Robinson Clinton', 'E. Crawford']   \n",
       "2  ['KELLEY', 'EDWARD McPHERSON', 'E. WHITTLESEY'...   \n",
       "3                             ['Joseph E. Johnston']   \n",
       "4             ['J A . Campbell', 'James H Anderson']   \n",
       "\n",
       "                                     LOC-nerenglarge  \\\n",
       "0  ['U.S.', 'Raleigh N.C', 'Warrenton N.C', 'Rale...   \n",
       "1                                    ['Raleigh N.C']   \n",
       "2  ['State of North Carolina', 'Raleigh', 'N.C.',...   \n",
       "3  ['NORTH CAROLINA', 'Raleigh', 'North Carolina'...   \n",
       "4                        ['U.S.', 'U.S. C.S', 'C.S']   \n",
       "\n",
       "                                     ORG-nerenglarge other_namelarge  \\\n",
       "0  ['Samuel Gale Co', 'Regiment Freedman', 'Rail ...              []   \n",
       "1                                                 []              []   \n",
       "2  ['Bureau of Refugees , Freedmen Abandoned Land...              []   \n",
       "3                                     ['Government']              []   \n",
       "4                                     ['Government']              []   \n",
       "\n",
       "        PERSON-nerenglish                                     LOC-nerenglish  \\\n",
       "0                      []  ['Ral', 'Gaston R.R', 'Raleigh N.C.', 'Broadwa...   \n",
       "1                      []                                                 []   \n",
       "2      ['JONATHAN WORTH']  ['Raleigh', 'N.C.', 'United States', 'Alabama'...   \n",
       "3  ['Joseph E. Johnston']    ['NORTH CAROLINA', 'Raleigh', 'North Carolina']   \n",
       "4    ['James H Anderson']                                           ['U.S.']   \n",
       "\n",
       "                                      ORG-nerenglish Other_name-nerenglish  \n",
       "0                                       ['Cranford']                    []  \n",
       "1                                                 []                    []  \n",
       "2  ['Officers Agents of Bureau', 'House of Repres...                    []  \n",
       "3                                                 []                    []  \n",
       "4                                                 []               ['C.S']  "
      ]
     },
     "execution_count": 25,
     "metadata": {},
     "output_type": "execute_result"
    }
   ],
   "source": [
    "order_ent.head()"
   ]
  },
  {
   "cell_type": "code",
   "execution_count": 26,
   "id": "189a3ff5",
   "metadata": {
    "execution": {
     "iopub.execute_input": "2022-06-29T11:32:44.859779Z",
     "iopub.status.busy": "2022-06-29T11:32:44.858709Z",
     "iopub.status.idle": "2022-06-29T11:32:44.864680Z",
     "shell.execute_reply": "2022-06-29T11:32:44.863847Z"
    },
    "papermill": {
     "duration": 0.041111,
     "end_time": "2022-06-29T11:32:44.866884",
     "exception": false,
     "start_time": "2022-06-29T11:32:44.825773",
     "status": "completed"
    },
    "tags": []
   },
   "outputs": [],
   "source": [
    "order_Per_ner=order_ent[\"PERSON-nerenglish\"]\n",
    "order_ORG_ner=order_ent[\"ORG-nerenglish\"]\n",
    "order_other_ner=order_ent[\"Other_name-nerenglish\"]\n",
    "order_loc_ner=order_ent[\"LOC-nerenglish\"]"
   ]
  },
  {
   "cell_type": "code",
   "execution_count": 27,
   "id": "f8a6cc4f",
   "metadata": {
    "execution": {
     "iopub.execute_input": "2022-06-29T11:32:44.933493Z",
     "iopub.status.busy": "2022-06-29T11:32:44.932589Z",
     "iopub.status.idle": "2022-06-29T11:32:44.939077Z",
     "shell.execute_reply": "2022-06-29T11:32:44.938189Z"
    },
    "papermill": {
     "duration": 0.042708,
     "end_time": "2022-06-29T11:32:44.941084",
     "exception": false,
     "start_time": "2022-06-29T11:32:44.898376",
     "status": "completed"
    },
    "tags": []
   },
   "outputs": [
    {
     "data": {
      "text/plain": [
       "'Bureau of Refugees , Freedmen Abandoned Lands , Headquarters Assistant Commissioner , State of North Carolina , Raleigh , N.C. , May 8th , 1866 . Circular No . 4 The attention of Officers Agents of Bureau called following resolution of House of Representatives : THIRTYNINTH CONGRESSFIRST SESSION . Congress of United States . In House of Representatives , May 1 , 1866 . Mr. KELLEY submitted following , adopted : WHEREAS , It reported citizens of Alabama , formal memorial two Houses of Congress , many of people of mountain districts of State suffering want of adequate supplies of food , considerable numbers of died of actual starvation ; therefore , Be resolved , That President requested instruct proper officers of Bureau of Refugees Freedman enquire condition of said districts , districts of late insurgent States , suffering may said exist , relieve people thereof , provide corn seed planting crop sufficient annual supply of family requiring relief . ATTEST : Signed EDWARD McPHERSON , Clerk . II . In order carry purpose of resolution , reports forwarded without delay headquarters , specifying 1st . The number of persons county needing supplies of food prevent actual suffering , classifying accordance enclosed Form , No . 1 . 2d . The names of persons need corn , seed planting , according enclosed Form No . 2 . III . The season already far advanced , relief contemplated must furnished early possible . The information required therefore obtained forwarded , even exclusion of business . E. WHITTLESEY . Brevt . Brig . Genl . Assit Commr . OFFICIAL : Assistant Adjutant General . It hoped Sheriffs of every county State aid officers of Freedmens Bureau procuring information sought Circular . JONATHAN WORTH , Governor of North Carolina .'"
      ]
     },
     "execution_count": 27,
     "metadata": {},
     "output_type": "execute_result"
    }
   ],
   "source": [
    "order_text[2]"
   ]
  },
  {
   "cell_type": "code",
   "execution_count": 28,
   "id": "3e71b1ac",
   "metadata": {
    "execution": {
     "iopub.execute_input": "2022-06-29T11:32:45.007920Z",
     "iopub.status.busy": "2022-06-29T11:32:45.006910Z",
     "iopub.status.idle": "2022-06-29T11:32:45.014318Z",
     "shell.execute_reply": "2022-06-29T11:32:45.013442Z"
    },
    "papermill": {
     "duration": 0.04386,
     "end_time": "2022-06-29T11:32:45.016389",
     "exception": false,
     "start_time": "2022-06-29T11:32:44.972529",
     "status": "completed"
    },
    "tags": []
   },
   "outputs": [
    {
     "data": {
      "text/plain": [
       "\"['JONATHAN WORTH']\""
      ]
     },
     "execution_count": 28,
     "metadata": {},
     "output_type": "execute_result"
    }
   ],
   "source": [
    "order_Per_ner[2]"
   ]
  },
  {
   "cell_type": "code",
   "execution_count": 29,
   "id": "f9bc36a5",
   "metadata": {
    "execution": {
     "iopub.execute_input": "2022-06-29T11:32:45.082726Z",
     "iopub.status.busy": "2022-06-29T11:32:45.081723Z",
     "iopub.status.idle": "2022-06-29T11:32:45.088658Z",
     "shell.execute_reply": "2022-06-29T11:32:45.087580Z"
    },
    "papermill": {
     "duration": 0.04274,
     "end_time": "2022-06-29T11:32:45.090958",
     "exception": false,
     "start_time": "2022-06-29T11:32:45.048218",
     "status": "completed"
    },
    "tags": []
   },
   "outputs": [
    {
     "data": {
      "text/plain": [
       "\"['Officers Agents of Bureau', 'House of Representatives', 'Houses of Congress', 'Bureau of Refugees Freedman', 'Freedmens Bureau']\""
      ]
     },
     "execution_count": 29,
     "metadata": {},
     "output_type": "execute_result"
    }
   ],
   "source": [
    "order_ORG_ner[2]"
   ]
  },
  {
   "cell_type": "markdown",
   "id": "0f648979",
   "metadata": {
    "papermill": {
     "duration": 0.033789,
     "end_time": "2022-06-29T11:32:45.158199",
     "exception": false,
     "start_time": "2022-06-29T11:32:45.124410",
     "status": "completed"
    },
    "tags": []
   },
   "source": [
    "**names of ner english are catastrophic**"
   ]
  },
  {
   "cell_type": "markdown",
   "id": "07fe62a2",
   "metadata": {
    "papermill": {
     "duration": 0.03462,
     "end_time": "2022-06-29T11:32:45.228243",
     "exception": false,
     "start_time": "2022-06-29T11:32:45.193623",
     "status": "completed"
    },
    "tags": []
   },
   "source": [
    "****"
   ]
  },
  {
   "cell_type": "markdown",
   "id": "dc13c955",
   "metadata": {
    "papermill": {
     "duration": 0.032384,
     "end_time": "2022-06-29T11:32:45.293712",
     "exception": false,
     "start_time": "2022-06-29T11:32:45.261328",
     "status": "completed"
    },
    "tags": []
   },
   "source": [
    "# Order Ner english large "
   ]
  },
  {
   "cell_type": "code",
   "execution_count": 30,
   "id": "6a5f91cf",
   "metadata": {
    "execution": {
     "iopub.execute_input": "2022-06-29T11:32:45.360897Z",
     "iopub.status.busy": "2022-06-29T11:32:45.360459Z",
     "iopub.status.idle": "2022-06-29T11:32:45.366455Z",
     "shell.execute_reply": "2022-06-29T11:32:45.365237Z"
    },
    "papermill": {
     "duration": 0.043152,
     "end_time": "2022-06-29T11:32:45.369554",
     "exception": false,
     "start_time": "2022-06-29T11:32:45.326402",
     "status": "completed"
    },
    "tags": []
   },
   "outputs": [],
   "source": [
    "order_Per_large=order_ent[\"PERSON-nerenglarge\"]\n",
    "order_ORG_large=order_ent[\"ORG-nerenglarge\"]\n",
    "order_other_large=order_ent[\"other_namelarge\"]\n",
    "order_loc_large=order_ent[\"LOC-nerenglarge\"]"
   ]
  },
  {
   "cell_type": "code",
   "execution_count": 31,
   "id": "29cd180f",
   "metadata": {
    "execution": {
     "iopub.execute_input": "2022-06-29T11:32:45.439238Z",
     "iopub.status.busy": "2022-06-29T11:32:45.438789Z",
     "iopub.status.idle": "2022-06-29T11:32:45.446561Z",
     "shell.execute_reply": "2022-06-29T11:32:45.445092Z"
    },
    "papermill": {
     "duration": 0.045454,
     "end_time": "2022-06-29T11:32:45.448919",
     "exception": false,
     "start_time": "2022-06-29T11:32:45.403465",
     "status": "completed"
    },
    "tags": []
   },
   "outputs": [
    {
     "data": {
      "text/plain": [
       "'190 By Order of Col. James V. Bomford Jacob F. Chur . Bvt . Lt. Col. A.A.A.G . Bureau of Refugees Freedmen A.L . Head Qrs . Asst . Commissioner Raleigh N.C. Jan. 16th 1867 Special Order No . 8 Leave of absence twelve days hereby granted Lieut Edgar H. McQuigg V.R.C . Asst Supt Bureau R.F . A.L . Wilmington N.C. By Command of Col. J. V. Bomford Jacob F. Chur . Bvt . Lt. Col. A.A.A . Genl Bureau of Refugees Freedmen c Hd Qrs Asst Commissioner Raleigh N.C. Jan. 18th 1867 Special Order No . 9 In compliance instructions Maj Genl O.O . Howard Commissioner , Bvt . Maj. Thos P. Johnston Chf Qr Mr Bureau State pay trustees of Baptist Female Seminary following amounts rent of rooms used Bureau upon premises known Guion Hotel City of Raleigh recommended board of Officers appointed purpose . For three rooms main building occupied offices of Bureau of R.F . A.L . April 1st 1866 Aug 1st 1866 rate of Twelve dollars per month per room . For four rooms detatched building occupied offices of Bureau of R.F . A.L . April 2d 1866 , Dec 31st 1866 , rate of twelve dollars 12 per month per room . By Command of Col. J. V. Bomford Jacob F. Chur . Bvt . Lt. Col. A.A.A . Genl 191 Bureau of Refugees Freedmen c Hd Qrs Asst Commissioner Raleigh N.C. Jan. 19th 1867 Special Order No . 10 I. Manchester W. Weld appointed Agent of Bureau of R.F . A.L . hereby assigned duty Fayetteville N.C. relieve Justin Hodge Agent . II . The resignation of Justin Hodge Agent of Bureau of R.F . A.L . Fayetteville N.C. hereby accepted take effect relieved Mr. M. W. Weld By Command of Col. J. V. Bomford Jacob F. Chur . Bvt . Lt. Col. A.A.A.G . Bureau of Refugees Freedmen c Hd Qrs Asst Commissioner Raleigh N.C. Jan. 20th 1867 Special Order No . 11 During temporary absence of Bt Lt Col Jacob F. Chur Act Asst Adjt Genl , Bt Maj F. A. Seeley act Asst Adjt Genl . By Command of Col. J. V. Bomford Jacob F. Chur . Bvt . Lt. Col. A.A.A.G .'"
      ]
     },
     "execution_count": 31,
     "metadata": {},
     "output_type": "execute_result"
    }
   ],
   "source": [
    "order_text[1000]"
   ]
  },
  {
   "cell_type": "code",
   "execution_count": 32,
   "id": "7ff8a515",
   "metadata": {
    "execution": {
     "iopub.execute_input": "2022-06-29T11:32:45.518991Z",
     "iopub.status.busy": "2022-06-29T11:32:45.517953Z",
     "iopub.status.idle": "2022-06-29T11:32:45.525654Z",
     "shell.execute_reply": "2022-06-29T11:32:45.524720Z"
    },
    "papermill": {
     "duration": 0.045963,
     "end_time": "2022-06-29T11:32:45.527786",
     "exception": false,
     "start_time": "2022-06-29T11:32:45.481823",
     "status": "completed"
    },
    "tags": []
   },
   "outputs": [
    {
     "data": {
      "text/plain": [
       "\"['James V. Bomford', 'Jacob F. Chur', 'Edgar H .', 'McQuigg', 'J. V. Bomford', 'Genl O.O . Howard', 'Thos P. Johnston', 'Manchester W. Weld', 'Justin Hodge', 'M. W. Weld', 'F . A. Seeley']\""
      ]
     },
     "execution_count": 32,
     "metadata": {},
     "output_type": "execute_result"
    }
   ],
   "source": [
    "order_Per_large[1000]"
   ]
  },
  {
   "cell_type": "code",
   "execution_count": 33,
   "id": "53b93cce",
   "metadata": {
    "execution": {
     "iopub.execute_input": "2022-06-29T11:32:45.594525Z",
     "iopub.status.busy": "2022-06-29T11:32:45.594034Z",
     "iopub.status.idle": "2022-06-29T11:32:45.602211Z",
     "shell.execute_reply": "2022-06-29T11:32:45.601035Z"
    },
    "papermill": {
     "duration": 0.044367,
     "end_time": "2022-06-29T11:32:45.604590",
     "exception": false,
     "start_time": "2022-06-29T11:32:45.560223",
     "status": "completed"
    },
    "tags": []
   },
   "outputs": [
    {
     "data": {
      "text/plain": [
       "\"['Bureau of Refugees Freedmen A.L', 'Bureau R.F . A.L', 'Bureau of Refugees Freedmen', 'Baptist Female Seminary', 'Bureau', 'Guion Hotel', 'Bureau of R.F . A.L', 'Bureau of R.F . A.L .']\""
      ]
     },
     "execution_count": 33,
     "metadata": {},
     "output_type": "execute_result"
    }
   ],
   "source": [
    "order_ORG_large[1000]"
   ]
  },
  {
   "cell_type": "code",
   "execution_count": 34,
   "id": "b8989bdf",
   "metadata": {
    "execution": {
     "iopub.execute_input": "2022-06-29T11:32:45.676185Z",
     "iopub.status.busy": "2022-06-29T11:32:45.675297Z",
     "iopub.status.idle": "2022-06-29T11:32:45.682919Z",
     "shell.execute_reply": "2022-06-29T11:32:45.681861Z"
    },
    "papermill": {
     "duration": 0.047396,
     "end_time": "2022-06-29T11:32:45.685790",
     "exception": false,
     "start_time": "2022-06-29T11:32:45.638394",
     "status": "completed"
    },
    "tags": []
   },
   "outputs": [
    {
     "data": {
      "text/plain": [
       "\"['Raleigh N.C', 'Wilmington N.C', 'City of Raleigh', 'Fayetteville N.C.']\""
      ]
     },
     "execution_count": 34,
     "metadata": {},
     "output_type": "execute_result"
    }
   ],
   "source": [
    "order_loc_large[1000]"
   ]
  },
  {
   "cell_type": "code",
   "execution_count": 35,
   "id": "6a59ddf7",
   "metadata": {
    "execution": {
     "iopub.execute_input": "2022-06-29T11:32:45.758473Z",
     "iopub.status.busy": "2022-06-29T11:32:45.757390Z",
     "iopub.status.idle": "2022-06-29T11:32:45.765608Z",
     "shell.execute_reply": "2022-06-29T11:32:45.764380Z"
    },
    "papermill": {
     "duration": 0.047293,
     "end_time": "2022-06-29T11:32:45.768253",
     "exception": false,
     "start_time": "2022-06-29T11:32:45.720960",
     "status": "completed"
    },
    "tags": []
   },
   "outputs": [
    {
     "data": {
      "text/plain": [
       "\"['General Orders']\""
      ]
     },
     "execution_count": 35,
     "metadata": {},
     "output_type": "execute_result"
    }
   ],
   "source": [
    "order_other_large[102]"
   ]
  },
  {
   "cell_type": "markdown",
   "id": "fbf80ba6",
   "metadata": {
    "papermill": {
     "duration": 0.034237,
     "end_time": "2022-06-29T11:32:45.837752",
     "exception": false,
     "start_time": "2022-06-29T11:32:45.803515",
     "status": "completed"
    },
    "tags": []
   },
   "source": [
    "**veryy good**"
   ]
  },
  {
   "cell_type": "code",
   "execution_count": 36,
   "id": "a40c3497",
   "metadata": {
    "execution": {
     "iopub.execute_input": "2022-06-29T11:32:45.911107Z",
     "iopub.status.busy": "2022-06-29T11:32:45.910224Z",
     "iopub.status.idle": "2022-06-29T11:32:45.990199Z",
     "shell.execute_reply": "2022-06-29T11:32:45.988611Z"
    },
    "papermill": {
     "duration": 0.119606,
     "end_time": "2022-06-29T11:32:45.993094",
     "exception": false,
     "start_time": "2022-06-29T11:32:45.873488",
     "status": "completed"
    },
    "tags": []
   },
   "outputs": [
    {
     "data": {
      "text/plain": [
       "(556132, 1438)"
      ]
     },
     "execution_count": 36,
     "metadata": {},
     "output_type": "execute_result"
    }
   ],
   "source": [
    "PL=[]\n",
    "empty=0\n",
    "for i in order_Per_large :\n",
    "    for j in i:\n",
    "        PL.append(j)\n",
    "for i in order_Per_large:\n",
    "    if i=='[]':\n",
    "        empty=empty+1\n",
    "len(PL), empty"
   ]
  },
  {
   "cell_type": "code",
   "execution_count": 37,
   "id": "a6fdb1c2",
   "metadata": {
    "execution": {
     "iopub.execute_input": "2022-06-29T11:32:46.066862Z",
     "iopub.status.busy": "2022-06-29T11:32:46.065561Z",
     "iopub.status.idle": "2022-06-29T11:32:46.149283Z",
     "shell.execute_reply": "2022-06-29T11:32:46.148098Z"
    },
    "papermill": {
     "duration": 0.121723,
     "end_time": "2022-06-29T11:32:46.152151",
     "exception": false,
     "start_time": "2022-06-29T11:32:46.030428",
     "status": "completed"
    },
    "tags": []
   },
   "outputs": [
    {
     "data": {
      "text/plain": [
       "(564296, 1382)"
      ]
     },
     "execution_count": 37,
     "metadata": {},
     "output_type": "execute_result"
    }
   ],
   "source": [
    "PL=[]\n",
    "empty=0\n",
    "for i in order_ORG_large :\n",
    "    for j in i:\n",
    "        PL.append(j)\n",
    "for i in order_ORG_large:\n",
    "    if i=='[]':\n",
    "        empty=empty+1\n",
    "len(PL), empty"
   ]
  },
  {
   "cell_type": "code",
   "execution_count": 38,
   "id": "03aea788",
   "metadata": {
    "execution": {
     "iopub.execute_input": "2022-06-29T11:32:46.225768Z",
     "iopub.status.busy": "2022-06-29T11:32:46.224926Z",
     "iopub.status.idle": "2022-06-29T11:32:46.306178Z",
     "shell.execute_reply": "2022-06-29T11:32:46.304861Z"
    },
    "papermill": {
     "duration": 0.121,
     "end_time": "2022-06-29T11:32:46.309111",
     "exception": false,
     "start_time": "2022-06-29T11:32:46.188111",
     "status": "completed"
    },
    "tags": []
   },
   "outputs": [
    {
     "data": {
      "text/plain": [
       "(543223, 858)"
      ]
     },
     "execution_count": 38,
     "metadata": {},
     "output_type": "execute_result"
    }
   ],
   "source": [
    "PL=[]\n",
    "empty=0\n",
    "for i in order_loc_large :\n",
    "    for j in i:\n",
    "        PL.append(j)\n",
    "for i in order_loc_large:\n",
    "    if i=='[]':\n",
    "        empty=empty+1\n",
    "len(PL), empty"
   ]
  },
  {
   "cell_type": "markdown",
   "id": "b2ba8a0b",
   "metadata": {
    "papermill": {
     "duration": 0.034613,
     "end_time": "2022-06-29T11:32:46.380601",
     "exception": false,
     "start_time": "2022-06-29T11:32:46.345988",
     "status": "completed"
    },
    "tags": []
   },
   "source": [
    "# Ner enlish large is better than ner english in extracted entities (as usuall i think)"
   ]
  },
  {
   "cell_type": "markdown",
   "id": "282f25d5",
   "metadata": {
    "papermill": {
     "duration": 0.036413,
     "end_time": "2022-06-29T11:32:46.451832",
     "exception": false,
     "start_time": "2022-06-29T11:32:46.415419",
     "status": "completed"
    },
    "tags": []
   },
   "source": [
    "****"
   ]
  },
  {
   "cell_type": "markdown",
   "id": "86440ff0",
   "metadata": {
    "papermill": {
     "duration": 0.032393,
     "end_time": "2022-06-29T11:32:46.517212",
     "exception": false,
     "start_time": "2022-06-29T11:32:46.484819",
     "status": "completed"
    },
    "tags": []
   },
   "source": [
    "# Contracts Ontonotes"
   ]
  },
  {
   "cell_type": "code",
   "execution_count": 39,
   "id": "984f07ae",
   "metadata": {
    "execution": {
     "iopub.execute_input": "2022-06-29T11:32:46.604721Z",
     "iopub.status.busy": "2022-06-29T11:32:46.604014Z",
     "iopub.status.idle": "2022-06-29T11:32:47.692633Z",
     "shell.execute_reply": "2022-06-29T11:32:47.691382Z"
    },
    "papermill": {
     "duration": 1.136577,
     "end_time": "2022-06-29T11:32:47.695401",
     "exception": false,
     "start_time": "2022-06-29T11:32:46.558824",
     "status": "completed"
    },
    "tags": []
   },
   "outputs": [],
   "source": [
    "contract_ent=pd.read_csv(\"../input/all-csv/to_compare_result_contract_ner.csv\")\n",
    "contract_onto=pd.read_csv(\"../input/all-csv/contract_onto (1).csv\")"
   ]
  },
  {
   "cell_type": "code",
   "execution_count": 40,
   "id": "4fefff6b",
   "metadata": {
    "execution": {
     "iopub.execute_input": "2022-06-29T11:32:47.764882Z",
     "iopub.status.busy": "2022-06-29T11:32:47.764451Z",
     "iopub.status.idle": "2022-06-29T11:32:47.783888Z",
     "shell.execute_reply": "2022-06-29T11:32:47.782298Z"
    },
    "papermill": {
     "duration": 0.057329,
     "end_time": "2022-06-29T11:32:47.786715",
     "exception": false,
     "start_time": "2022-06-29T11:32:47.729386",
     "status": "completed"
    },
    "tags": []
   },
   "outputs": [
    {
     "data": {
      "text/html": [
       "<div>\n",
       "<style scoped>\n",
       "    .dataframe tbody tr th:only-of-type {\n",
       "        vertical-align: middle;\n",
       "    }\n",
       "\n",
       "    .dataframe tbody tr th {\n",
       "        vertical-align: top;\n",
       "    }\n",
       "\n",
       "    .dataframe thead th {\n",
       "        text-align: right;\n",
       "    }\n",
       "</style>\n",
       "<table border=\"1\" class=\"dataframe\">\n",
       "  <thead>\n",
       "    <tr style=\"text-align: right;\">\n",
       "      <th></th>\n",
       "      <th>contract_text</th>\n",
       "      <th>PERSON-nerenglish</th>\n",
       "      <th>LOC-nerenglish</th>\n",
       "      <th>ORG-nerenglish</th>\n",
       "      <th>Name-nerenglish</th>\n",
       "      <th>Other_name-nerenglish</th>\n",
       "      <th>Name-nerenglarge</th>\n",
       "      <th>LOC-nerenglarge</th>\n",
       "      <th>ORG-nerenglarge</th>\n",
       "      <th>other_namelarge</th>\n",
       "    </tr>\n",
       "  </thead>\n",
       "  <tbody>\n",
       "    <tr>\n",
       "      <th>0</th>\n",
       "      <td>North Carolina This indenture made entered Thi...</td>\n",
       "      <td>['Thos R Underwood', 'Alfred A McKerhan', 'Wm ...</td>\n",
       "      <td>['County of Carteret', 'Shepperd Creek', 'Cree...</td>\n",
       "      <td>[]</td>\n",
       "      <td>['Thos R Underwood', 'Alfred A McKerhan', 'Wm ...</td>\n",
       "      <td>[]</td>\n",
       "      <td>['H.G . Cutler', 'Thos R Underwood', 'Alfred A...</td>\n",
       "      <td>['North Carolina', 'County of Carteret', 'Bogu...</td>\n",
       "      <td>[]</td>\n",
       "      <td>[]</td>\n",
       "    </tr>\n",
       "    <tr>\n",
       "      <th>1</th>\n",
       "      <td>State of North Carolina Currituck County . Thi...</td>\n",
       "      <td>['John B. Etheridge']</td>\n",
       "      <td>['County State', 'Witnesseth', 'County of Curr...</td>\n",
       "      <td>[]</td>\n",
       "      <td>['John B. Etheridge']</td>\n",
       "      <td>[]</td>\n",
       "      <td>['John B. Etheridge', 'Little John Etheridge']</td>\n",
       "      <td>['State of North Carolina', 'Currituck County'...</td>\n",
       "      <td>[]</td>\n",
       "      <td>[]</td>\n",
       "    </tr>\n",
       "    <tr>\n",
       "      <th>2</th>\n",
       "      <td>near Lizzie Etheridges gate , thence South 56 ...</td>\n",
       "      <td>['John B Etheridge', 'Douglas Adam D. Etheridge']</td>\n",
       "      <td>['Red Hill', 'Croatan Sound']</td>\n",
       "      <td>[]</td>\n",
       "      <td>['John B Etheridge', 'Douglas Adam D. Etheridge']</td>\n",
       "      <td>[]</td>\n",
       "      <td>['Little John Etheridge', 'John B Etheridge', ...</td>\n",
       "      <td>['Lizzie Etheridges gate', 'Red Hill', 'Croata...</td>\n",
       "      <td>[]</td>\n",
       "      <td>[]</td>\n",
       "    </tr>\n",
       "    <tr>\n",
       "      <th>3</th>\n",
       "      <td>Copy Agreement of Apprenticeship Bu Mrs. Kate ...</td>\n",
       "      <td>['Kate V.Chamblin']</td>\n",
       "      <td>[]</td>\n",
       "      <td>[]</td>\n",
       "      <td>['Kate V.Chamblin']</td>\n",
       "      <td>[]</td>\n",
       "      <td>['Kate V.Chamblin', '1st', 'Geo . W. Rollins',...</td>\n",
       "      <td>['La', 'Lake Providence Carroll']</td>\n",
       "      <td>['U.S. Army']</td>\n",
       "      <td>[]</td>\n",
       "    </tr>\n",
       "    <tr>\n",
       "      <th>4</th>\n",
       "      <td>Copy Agreement of Apprenticeship . This agreem...</td>\n",
       "      <td>['Kate V. Chambliss', 'Betty Taylor Mary Taylo...</td>\n",
       "      <td>[]</td>\n",
       "      <td>[]</td>\n",
       "      <td>['Kate V. Chambliss', 'Betty Taylor Mary Taylo...</td>\n",
       "      <td>['African']</td>\n",
       "      <td>['Mrs', 'Kate V. Chambliss', 'James Samenett',...</td>\n",
       "      <td>['Carroll Parish', 'New Orleans', 'Louisiana',...</td>\n",
       "      <td>[]</td>\n",
       "      <td>['African']</td>\n",
       "    </tr>\n",
       "  </tbody>\n",
       "</table>\n",
       "</div>"
      ],
      "text/plain": [
       "                                       contract_text  \\\n",
       "0  North Carolina This indenture made entered Thi...   \n",
       "1  State of North Carolina Currituck County . Thi...   \n",
       "2  near Lizzie Etheridges gate , thence South 56 ...   \n",
       "3  Copy Agreement of Apprenticeship Bu Mrs. Kate ...   \n",
       "4  Copy Agreement of Apprenticeship . This agreem...   \n",
       "\n",
       "                                   PERSON-nerenglish  \\\n",
       "0  ['Thos R Underwood', 'Alfred A McKerhan', 'Wm ...   \n",
       "1                              ['John B. Etheridge']   \n",
       "2  ['John B Etheridge', 'Douglas Adam D. Etheridge']   \n",
       "3                                ['Kate V.Chamblin']   \n",
       "4  ['Kate V. Chambliss', 'Betty Taylor Mary Taylo...   \n",
       "\n",
       "                                      LOC-nerenglish ORG-nerenglish  \\\n",
       "0  ['County of Carteret', 'Shepperd Creek', 'Cree...             []   \n",
       "1  ['County State', 'Witnesseth', 'County of Curr...             []   \n",
       "2                      ['Red Hill', 'Croatan Sound']             []   \n",
       "3                                                 []             []   \n",
       "4                                                 []             []   \n",
       "\n",
       "                                     Name-nerenglish Other_name-nerenglish  \\\n",
       "0  ['Thos R Underwood', 'Alfred A McKerhan', 'Wm ...                    []   \n",
       "1                              ['John B. Etheridge']                    []   \n",
       "2  ['John B Etheridge', 'Douglas Adam D. Etheridge']                    []   \n",
       "3                                ['Kate V.Chamblin']                    []   \n",
       "4  ['Kate V. Chambliss', 'Betty Taylor Mary Taylo...           ['African']   \n",
       "\n",
       "                                    Name-nerenglarge  \\\n",
       "0  ['H.G . Cutler', 'Thos R Underwood', 'Alfred A...   \n",
       "1     ['John B. Etheridge', 'Little John Etheridge']   \n",
       "2  ['Little John Etheridge', 'John B Etheridge', ...   \n",
       "3  ['Kate V.Chamblin', '1st', 'Geo . W. Rollins',...   \n",
       "4  ['Mrs', 'Kate V. Chambliss', 'James Samenett',...   \n",
       "\n",
       "                                     LOC-nerenglarge ORG-nerenglarge  \\\n",
       "0  ['North Carolina', 'County of Carteret', 'Bogu...              []   \n",
       "1  ['State of North Carolina', 'Currituck County'...              []   \n",
       "2  ['Lizzie Etheridges gate', 'Red Hill', 'Croata...              []   \n",
       "3                  ['La', 'Lake Providence Carroll']   ['U.S. Army']   \n",
       "4  ['Carroll Parish', 'New Orleans', 'Louisiana',...              []   \n",
       "\n",
       "  other_namelarge  \n",
       "0              []  \n",
       "1              []  \n",
       "2              []  \n",
       "3              []  \n",
       "4     ['African']  "
      ]
     },
     "execution_count": 40,
     "metadata": {},
     "output_type": "execute_result"
    }
   ],
   "source": [
    "contract_ent.head()"
   ]
  },
  {
   "cell_type": "code",
   "execution_count": 41,
   "id": "32c71207",
   "metadata": {
    "execution": {
     "iopub.execute_input": "2022-06-29T11:32:47.860104Z",
     "iopub.status.busy": "2022-06-29T11:32:47.859527Z",
     "iopub.status.idle": "2022-06-29T11:32:47.879252Z",
     "shell.execute_reply": "2022-06-29T11:32:47.877658Z"
    },
    "papermill": {
     "duration": 0.059515,
     "end_time": "2022-06-29T11:32:47.882021",
     "exception": false,
     "start_time": "2022-06-29T11:32:47.822506",
     "status": "completed"
    },
    "tags": []
   },
   "outputs": [
    {
     "data": {
      "text/html": [
       "<div>\n",
       "<style scoped>\n",
       "    .dataframe tbody tr th:only-of-type {\n",
       "        vertical-align: middle;\n",
       "    }\n",
       "\n",
       "    .dataframe tbody tr th {\n",
       "        vertical-align: top;\n",
       "    }\n",
       "\n",
       "    .dataframe thead th {\n",
       "        text-align: right;\n",
       "    }\n",
       "</style>\n",
       "<table border=\"1\" class=\"dataframe\">\n",
       "  <thead>\n",
       "    <tr style=\"text-align: right;\">\n",
       "      <th></th>\n",
       "      <th>contract_text</th>\n",
       "      <th>Name-ontonotes</th>\n",
       "      <th>GPE-ontonotes</th>\n",
       "      <th>ORG-ontonotes</th>\n",
       "      <th>Date-ontonotes</th>\n",
       "      <th>LOC-ontonotes</th>\n",
       "      <th>Building-ontonotes</th>\n",
       "      <th>Cardinal-ontonotes</th>\n",
       "      <th>postDate-ontonotes</th>\n",
       "      <th>standard_date-ontonotes</th>\n",
       "    </tr>\n",
       "  </thead>\n",
       "  <tbody>\n",
       "    <tr>\n",
       "      <th>0</th>\n",
       "      <td>North Carolina This indenture made entered Thi...</td>\n",
       "      <td>['H.G . Cutler', 'Thos R Underwood', 'Alfred A...</td>\n",
       "      <td>['North Carolina', 'County of Carteret']</td>\n",
       "      <td>[]</td>\n",
       "      <td>['This 5th day of November 1853']</td>\n",
       "      <td>['Stake North', 'Bogue Sound', 'Shepperd Creek']</td>\n",
       "      <td>[]</td>\n",
       "      <td>['five hundred ten', '13.0', '203', '209', '4'...</td>\n",
       "      <td>['This 5-November-1853', '5-This-1853', 'This-...</td>\n",
       "      <td>['5-November-1853', '5-This-1853', '7-November...</td>\n",
       "    </tr>\n",
       "    <tr>\n",
       "      <th>1</th>\n",
       "      <td>State of North Carolina Currituck County . Thi...</td>\n",
       "      <td>['John B. Etheridge', 'Little John Etheridge',...</td>\n",
       "      <td>['North Carolina', 'Currituck County', 'County...</td>\n",
       "      <td>[]</td>\n",
       "      <td>['fifth day of September , year', 'One Thousan...</td>\n",
       "      <td>['Roanoke Island', 'Croatain Sound']</td>\n",
       "      <td>[]</td>\n",
       "      <td>[]</td>\n",
       "      <td>[]</td>\n",
       "      <td>[]</td>\n",
       "    </tr>\n",
       "    <tr>\n",
       "      <th>2</th>\n",
       "      <td>near Lizzie Etheridges gate , thence South 56 ...</td>\n",
       "      <td>['Lizzie Etheridges', 'Little John Etheridge',...</td>\n",
       "      <td>[]</td>\n",
       "      <td>[]</td>\n",
       "      <td>[]</td>\n",
       "      <td>['Red Hill', 'Croatan Sound', 'Sound']</td>\n",
       "      <td>[]</td>\n",
       "      <td>[]</td>\n",
       "      <td>[]</td>\n",
       "      <td>[]</td>\n",
       "    </tr>\n",
       "    <tr>\n",
       "      <th>3</th>\n",
       "      <td>Copy Agreement of Apprenticeship Bu Mrs. Kate ...</td>\n",
       "      <td>['Kate V.Chamblin', 'James Samenett', 'Betty T...</td>\n",
       "      <td>['Carroll Parish La']</td>\n",
       "      <td>['U.S. Army']</td>\n",
       "      <td>['Oct. 1 1866', 'Nov. 3 1866']</td>\n",
       "      <td>[]</td>\n",
       "      <td>[]</td>\n",
       "      <td>[]</td>\n",
       "      <td>['1-Oct.-1866', '3-Nov.-1866']</td>\n",
       "      <td>['1-Oct.-1866', '3-Nov.-1866']</td>\n",
       "    </tr>\n",
       "    <tr>\n",
       "      <th>4</th>\n",
       "      <td>Copy Agreement of Apprenticeship . This agreem...</td>\n",
       "      <td>['Kate V. Chambliss', 'James Samenett', 'Betty...</td>\n",
       "      <td>['New Orleans Louisiana']</td>\n",
       "      <td>[]</td>\n",
       "      <td>['1 day of October A . D. 1866', 'Octr 31 1865...</td>\n",
       "      <td>[]</td>\n",
       "      <td>[]</td>\n",
       "      <td>['two']</td>\n",
       "      <td>['1-October-1866', '31-Octr-1865', '1-Oct.-186...</td>\n",
       "      <td>['1-October-1866', '31-Octr-1865', '1-Oct.-186...</td>\n",
       "    </tr>\n",
       "  </tbody>\n",
       "</table>\n",
       "</div>"
      ],
      "text/plain": [
       "                                       contract_text  \\\n",
       "0  North Carolina This indenture made entered Thi...   \n",
       "1  State of North Carolina Currituck County . Thi...   \n",
       "2  near Lizzie Etheridges gate , thence South 56 ...   \n",
       "3  Copy Agreement of Apprenticeship Bu Mrs. Kate ...   \n",
       "4  Copy Agreement of Apprenticeship . This agreem...   \n",
       "\n",
       "                                      Name-ontonotes  \\\n",
       "0  ['H.G . Cutler', 'Thos R Underwood', 'Alfred A...   \n",
       "1  ['John B. Etheridge', 'Little John Etheridge',...   \n",
       "2  ['Lizzie Etheridges', 'Little John Etheridge',...   \n",
       "3  ['Kate V.Chamblin', 'James Samenett', 'Betty T...   \n",
       "4  ['Kate V. Chambliss', 'James Samenett', 'Betty...   \n",
       "\n",
       "                                       GPE-ontonotes  ORG-ontonotes  \\\n",
       "0           ['North Carolina', 'County of Carteret']             []   \n",
       "1  ['North Carolina', 'Currituck County', 'County...             []   \n",
       "2                                                 []             []   \n",
       "3                              ['Carroll Parish La']  ['U.S. Army']   \n",
       "4                          ['New Orleans Louisiana']             []   \n",
       "\n",
       "                                      Date-ontonotes  \\\n",
       "0                  ['This 5th day of November 1853']   \n",
       "1  ['fifth day of September , year', 'One Thousan...   \n",
       "2                                                 []   \n",
       "3                     ['Oct. 1 1866', 'Nov. 3 1866']   \n",
       "4  ['1 day of October A . D. 1866', 'Octr 31 1865...   \n",
       "\n",
       "                                      LOC-ontonotes Building-ontonotes  \\\n",
       "0  ['Stake North', 'Bogue Sound', 'Shepperd Creek']                 []   \n",
       "1              ['Roanoke Island', 'Croatain Sound']                 []   \n",
       "2            ['Red Hill', 'Croatan Sound', 'Sound']                 []   \n",
       "3                                                []                 []   \n",
       "4                                                []                 []   \n",
       "\n",
       "                                  Cardinal-ontonotes  \\\n",
       "0  ['five hundred ten', '13.0', '203', '209', '4'...   \n",
       "1                                                 []   \n",
       "2                                                 []   \n",
       "3                                                 []   \n",
       "4                                            ['two']   \n",
       "\n",
       "                                  postDate-ontonotes  \\\n",
       "0  ['This 5-November-1853', '5-This-1853', 'This-...   \n",
       "1                                                 []   \n",
       "2                                                 []   \n",
       "3                     ['1-Oct.-1866', '3-Nov.-1866']   \n",
       "4  ['1-October-1866', '31-Octr-1865', '1-Oct.-186...   \n",
       "\n",
       "                             standard_date-ontonotes  \n",
       "0  ['5-November-1853', '5-This-1853', '7-November...  \n",
       "1                                                 []  \n",
       "2                                                 []  \n",
       "3                     ['1-Oct.-1866', '3-Nov.-1866']  \n",
       "4  ['1-October-1866', '31-Octr-1865', '1-Oct.-186...  "
      ]
     },
     "execution_count": 41,
     "metadata": {},
     "output_type": "execute_result"
    }
   ],
   "source": [
    "contract_onto.head()"
   ]
  },
  {
   "cell_type": "code",
   "execution_count": 42,
   "id": "063bc69b",
   "metadata": {
    "execution": {
     "iopub.execute_input": "2022-06-29T11:32:47.959909Z",
     "iopub.status.busy": "2022-06-29T11:32:47.958972Z",
     "iopub.status.idle": "2022-06-29T11:32:47.967893Z",
     "shell.execute_reply": "2022-06-29T11:32:47.966781Z"
    },
    "papermill": {
     "duration": 0.053656,
     "end_time": "2022-06-29T11:32:47.970422",
     "exception": false,
     "start_time": "2022-06-29T11:32:47.916766",
     "status": "completed"
    },
    "tags": []
   },
   "outputs": [],
   "source": [
    "contract_text=contract_ent[\"contract_text\"]\n",
    "contract_Per_onto=contract_onto[\"Name-ontonotes\"]\n",
    "contract_GPE_onto=contract_onto[\"GPE-ontonotes\"]\n",
    "contract_ORG_onto=contract_onto[\"ORG-ontonotes\"]\n",
    "contract_date_onto=contract_onto[\"standard_date-ontonotes\"]\n",
    "contract_loc_onto=contract_onto[\"LOC-ontonotes\"]\n",
    "contract_cardinal=contract_onto[\"Cardinal-ontonotes\"]"
   ]
  },
  {
   "cell_type": "code",
   "execution_count": 43,
   "id": "7cf616f1",
   "metadata": {
    "execution": {
     "iopub.execute_input": "2022-06-29T11:32:48.061227Z",
     "iopub.status.busy": "2022-06-29T11:32:48.060687Z",
     "iopub.status.idle": "2022-06-29T11:32:48.069868Z",
     "shell.execute_reply": "2022-06-29T11:32:48.068551Z"
    },
    "papermill": {
     "duration": 0.050316,
     "end_time": "2022-06-29T11:32:48.072432",
     "exception": false,
     "start_time": "2022-06-29T11:32:48.022116",
     "status": "completed"
    },
    "tags": []
   },
   "outputs": [
    {
     "data": {
      "text/plain": [
       "'North Carolina This indenture made entered This 5th day of November 1853 . By H.G . Cutler of County of Carteret of first part Thos R Underwood , Alfred A McKerhan , Wm H Washington , Geo . S Stevenson , John D Williams Nathan A Stedman of second part . Whereas parties of Second part divers others associates purchased of said H. G. Cutler , tract of land situated County of Carteret bounded described follows ; beginning Stake North side of Bogue Sound running thence westwardly various corners of sound , five hundred ten poles Straight . Thence N. 13.0 E. 203 poles , thence East 209 poles , south 4 poles , thence North 85 , E. 116 poles , thence W. 20.0 W. 96 poles , thence N 45.0 E. 21 12 poles thence E. 29 12 poles , thence S. 83.0 E. 220 poles , thence South 5.0 W. Shepperd Creek thence Westerly said Creek South West Corner of tract of land converged said Cutler John Sabuton Then S 50 West along Sabutons West line beginning , containing Estimation Nine hundred four acres survey of said land made William H Marshall hereunto attached Marked A. land said'"
      ]
     },
     "execution_count": 43,
     "metadata": {},
     "output_type": "execute_result"
    }
   ],
   "source": [
    "contract_text[0]"
   ]
  },
  {
   "cell_type": "code",
   "execution_count": 44,
   "id": "ce6b2e26",
   "metadata": {
    "execution": {
     "iopub.execute_input": "2022-06-29T11:32:48.156557Z",
     "iopub.status.busy": "2022-06-29T11:32:48.152309Z",
     "iopub.status.idle": "2022-06-29T11:32:48.165230Z",
     "shell.execute_reply": "2022-06-29T11:32:48.164052Z"
    },
    "papermill": {
     "duration": 0.059752,
     "end_time": "2022-06-29T11:32:48.168205",
     "exception": false,
     "start_time": "2022-06-29T11:32:48.108453",
     "status": "completed"
    },
    "tags": []
   },
   "outputs": [
    {
     "data": {
      "text/plain": [
       "'[]'"
      ]
     },
     "execution_count": 44,
     "metadata": {},
     "output_type": "execute_result"
    }
   ],
   "source": [
    "contract_date_onto[150]"
   ]
  },
  {
   "cell_type": "code",
   "execution_count": 45,
   "id": "e62f0e6d",
   "metadata": {
    "execution": {
     "iopub.execute_input": "2022-06-29T11:32:48.252714Z",
     "iopub.status.busy": "2022-06-29T11:32:48.252156Z",
     "iopub.status.idle": "2022-06-29T11:32:48.260853Z",
     "shell.execute_reply": "2022-06-29T11:32:48.259694Z"
    },
    "papermill": {
     "duration": 0.051119,
     "end_time": "2022-06-29T11:32:48.263368",
     "exception": false,
     "start_time": "2022-06-29T11:32:48.212249",
     "status": "completed"
    },
    "tags": []
   },
   "outputs": [
    {
     "data": {
      "text/plain": [
       "\"['H.G . Cutler', 'Thos R Underwood', 'Alfred A McKerhan', 'John D Williams', 'Nathan A Stedman', 'H . G. Cutler', 'Cutler', 'William H Marshall']\""
      ]
     },
     "execution_count": 45,
     "metadata": {},
     "output_type": "execute_result"
    }
   ],
   "source": [
    "contract_Per_onto[0]"
   ]
  },
  {
   "cell_type": "code",
   "execution_count": 46,
   "id": "02c32b49",
   "metadata": {
    "execution": {
     "iopub.execute_input": "2022-06-29T11:32:48.359503Z",
     "iopub.status.busy": "2022-06-29T11:32:48.357776Z",
     "iopub.status.idle": "2022-06-29T11:32:48.367545Z",
     "shell.execute_reply": "2022-06-29T11:32:48.366383Z"
    },
    "papermill": {
     "duration": 0.067097,
     "end_time": "2022-06-29T11:32:48.370017",
     "exception": false,
     "start_time": "2022-06-29T11:32:48.302920",
     "status": "completed"
    },
    "tags": []
   },
   "outputs": [
    {
     "data": {
      "text/plain": [
       "\"['North Carolina', 'County of Carteret']\""
      ]
     },
     "execution_count": 46,
     "metadata": {},
     "output_type": "execute_result"
    }
   ],
   "source": [
    "contract_GPE_onto[0]"
   ]
  },
  {
   "cell_type": "code",
   "execution_count": 47,
   "id": "67a193ee",
   "metadata": {
    "execution": {
     "iopub.execute_input": "2022-06-29T11:32:48.449525Z",
     "iopub.status.busy": "2022-06-29T11:32:48.448514Z",
     "iopub.status.idle": "2022-06-29T11:32:48.457485Z",
     "shell.execute_reply": "2022-06-29T11:32:48.456156Z"
    },
    "papermill": {
     "duration": 0.051457,
     "end_time": "2022-06-29T11:32:48.460048",
     "exception": false,
     "start_time": "2022-06-29T11:32:48.408591",
     "status": "completed"
    },
    "tags": []
   },
   "outputs": [
    {
     "data": {
      "text/plain": [
       "'[]'"
      ]
     },
     "execution_count": 47,
     "metadata": {},
     "output_type": "execute_result"
    }
   ],
   "source": [
    "contract_ORG_onto[0]"
   ]
  },
  {
   "cell_type": "code",
   "execution_count": 48,
   "id": "b8c85771",
   "metadata": {
    "execution": {
     "iopub.execute_input": "2022-06-29T11:32:48.533874Z",
     "iopub.status.busy": "2022-06-29T11:32:48.532761Z",
     "iopub.status.idle": "2022-06-29T11:32:48.542192Z",
     "shell.execute_reply": "2022-06-29T11:32:48.540967Z"
    },
    "papermill": {
     "duration": 0.048872,
     "end_time": "2022-06-29T11:32:48.544522",
     "exception": false,
     "start_time": "2022-06-29T11:32:48.495650",
     "status": "completed"
    },
    "tags": []
   },
   "outputs": [
    {
     "data": {
      "text/plain": [
       "\"['Stake North', 'Bogue Sound', 'Shepperd Creek']\""
      ]
     },
     "execution_count": 48,
     "metadata": {},
     "output_type": "execute_result"
    }
   ],
   "source": [
    "contract_loc_onto[0]"
   ]
  },
  {
   "cell_type": "code",
   "execution_count": 49,
   "id": "c6e60be2",
   "metadata": {
    "execution": {
     "iopub.execute_input": "2022-06-29T11:32:48.621441Z",
     "iopub.status.busy": "2022-06-29T11:32:48.620257Z",
     "iopub.status.idle": "2022-06-29T11:32:48.631066Z",
     "shell.execute_reply": "2022-06-29T11:32:48.629375Z"
    },
    "papermill": {
     "duration": 0.051536,
     "end_time": "2022-06-29T11:32:48.633548",
     "exception": false,
     "start_time": "2022-06-29T11:32:48.582012",
     "status": "completed"
    },
    "tags": []
   },
   "outputs": [
    {
     "data": {
      "text/plain": [
       "\"['five hundred ten', '13.0', '203', '209', '4', '85', '116', '20.0', '96', '45.0', '21 12', '29 12', '83.0', '220', '5.0', '50']\""
      ]
     },
     "execution_count": 49,
     "metadata": {},
     "output_type": "execute_result"
    }
   ],
   "source": [
    "contract_cardinal[0]"
   ]
  },
  {
   "cell_type": "code",
   "execution_count": 50,
   "id": "de284d62",
   "metadata": {
    "execution": {
     "iopub.execute_input": "2022-06-29T11:32:48.710409Z",
     "iopub.status.busy": "2022-06-29T11:32:48.709370Z",
     "iopub.status.idle": "2022-06-29T11:32:48.793107Z",
     "shell.execute_reply": "2022-06-29T11:32:48.791615Z"
    },
    "papermill": {
     "duration": 0.125374,
     "end_time": "2022-06-29T11:32:48.795866",
     "exception": false,
     "start_time": "2022-06-29T11:32:48.670492",
     "status": "completed"
    },
    "tags": []
   },
   "outputs": [
    {
     "data": {
      "text/plain": [
       "(426318, 10160)"
      ]
     },
     "execution_count": 50,
     "metadata": {},
     "output_type": "execute_result"
    }
   ],
   "source": [
    "PL=[]\n",
    "empty=0\n",
    "for i in contract_date_onto :\n",
    "    for j in i:\n",
    "        PL.append(j)\n",
    "for i in contract_date_onto:\n",
    "    if i=='[]':\n",
    "        empty=empty+1\n",
    "len(PL), empty"
   ]
  },
  {
   "cell_type": "code",
   "execution_count": 51,
   "id": "f16b8962",
   "metadata": {
    "execution": {
     "iopub.execute_input": "2022-06-29T11:32:48.874119Z",
     "iopub.status.busy": "2022-06-29T11:32:48.873309Z",
     "iopub.status.idle": "2022-06-29T11:32:49.094200Z",
     "shell.execute_reply": "2022-06-29T11:32:49.092996Z"
    },
    "papermill": {
     "duration": 0.263404,
     "end_time": "2022-06-29T11:32:49.096721",
     "exception": false,
     "start_time": "2022-06-29T11:32:48.833317",
     "status": "completed"
    },
    "tags": []
   },
   "outputs": [
    {
     "data": {
      "text/plain": [
       "(1525017, 3304)"
      ]
     },
     "execution_count": 51,
     "metadata": {},
     "output_type": "execute_result"
    }
   ],
   "source": [
    "PL=[]\n",
    "empty=0\n",
    "for i in contract_Per_onto :\n",
    "    for j in i:\n",
    "        PL.append(j)\n",
    "for i in contract_Per_onto:\n",
    "    if i=='[]':\n",
    "        empty=empty+1\n",
    "len(PL), empty"
   ]
  },
  {
   "cell_type": "code",
   "execution_count": 52,
   "id": "90cafec1",
   "metadata": {
    "execution": {
     "iopub.execute_input": "2022-06-29T11:32:49.171503Z",
     "iopub.status.busy": "2022-06-29T11:32:49.170208Z",
     "iopub.status.idle": "2022-06-29T11:32:49.242530Z",
     "shell.execute_reply": "2022-06-29T11:32:49.241048Z"
    },
    "papermill": {
     "duration": 0.112992,
     "end_time": "2022-06-29T11:32:49.245231",
     "exception": false,
     "start_time": "2022-06-29T11:32:49.132239",
     "status": "completed"
    },
    "tags": []
   },
   "outputs": [
    {
     "data": {
      "text/plain": [
       "(358023, 12932)"
      ]
     },
     "execution_count": 52,
     "metadata": {},
     "output_type": "execute_result"
    }
   ],
   "source": [
    "PL=[]\n",
    "empty=0\n",
    "for i in contract_GPE_onto :\n",
    "    for j in i:\n",
    "        PL.append(j)\n",
    "for i in contract_GPE_onto:\n",
    "    if i=='[]':\n",
    "        empty=empty+1\n",
    "len(PL), empty"
   ]
  },
  {
   "cell_type": "code",
   "execution_count": 53,
   "id": "80a19698",
   "metadata": {
    "execution": {
     "iopub.execute_input": "2022-06-29T11:32:49.319624Z",
     "iopub.status.busy": "2022-06-29T11:32:49.319157Z",
     "iopub.status.idle": "2022-06-29T11:32:49.353332Z",
     "shell.execute_reply": "2022-06-29T11:32:49.352114Z"
    },
    "papermill": {
     "duration": 0.073627,
     "end_time": "2022-06-29T11:32:49.355742",
     "exception": false,
     "start_time": "2022-06-29T11:32:49.282115",
     "status": "completed"
    },
    "tags": []
   },
   "outputs": [
    {
     "data": {
      "text/plain": [
       "(60156, 23015)"
      ]
     },
     "execution_count": 53,
     "metadata": {},
     "output_type": "execute_result"
    }
   ],
   "source": [
    "PL=[]\n",
    "empty=0\n",
    "for i in contract_loc_onto :\n",
    "    for j in i:\n",
    "        PL.append(j)\n",
    "for i in contract_loc_onto:\n",
    "    if i=='[]':\n",
    "        empty=empty+1\n",
    "len(PL), empty"
   ]
  },
  {
   "cell_type": "markdown",
   "id": "3e44e6db",
   "metadata": {
    "papermill": {
     "duration": 0.035663,
     "end_time": "2022-06-29T11:32:49.428527",
     "exception": false,
     "start_time": "2022-06-29T11:32:49.392864",
     "status": "completed"
    },
    "tags": []
   },
   "source": [
    "****"
   ]
  },
  {
   "cell_type": "markdown",
   "id": "572862d8",
   "metadata": {
    "papermill": {
     "duration": 0.034517,
     "end_time": "2022-06-29T11:32:49.499134",
     "exception": false,
     "start_time": "2022-06-29T11:32:49.464617",
     "status": "completed"
    },
    "tags": []
   },
   "source": [
    "# Contracts Ner english"
   ]
  },
  {
   "cell_type": "code",
   "execution_count": 54,
   "id": "5be7d12d",
   "metadata": {
    "execution": {
     "iopub.execute_input": "2022-06-29T11:32:49.571721Z",
     "iopub.status.busy": "2022-06-29T11:32:49.571264Z",
     "iopub.status.idle": "2022-06-29T11:32:49.589670Z",
     "shell.execute_reply": "2022-06-29T11:32:49.588733Z"
    },
    "papermill": {
     "duration": 0.057339,
     "end_time": "2022-06-29T11:32:49.591775",
     "exception": false,
     "start_time": "2022-06-29T11:32:49.534436",
     "status": "completed"
    },
    "tags": []
   },
   "outputs": [
    {
     "data": {
      "text/html": [
       "<div>\n",
       "<style scoped>\n",
       "    .dataframe tbody tr th:only-of-type {\n",
       "        vertical-align: middle;\n",
       "    }\n",
       "\n",
       "    .dataframe tbody tr th {\n",
       "        vertical-align: top;\n",
       "    }\n",
       "\n",
       "    .dataframe thead th {\n",
       "        text-align: right;\n",
       "    }\n",
       "</style>\n",
       "<table border=\"1\" class=\"dataframe\">\n",
       "  <thead>\n",
       "    <tr style=\"text-align: right;\">\n",
       "      <th></th>\n",
       "      <th>contract_text</th>\n",
       "      <th>PERSON-nerenglish</th>\n",
       "      <th>LOC-nerenglish</th>\n",
       "      <th>ORG-nerenglish</th>\n",
       "      <th>Name-nerenglish</th>\n",
       "      <th>Other_name-nerenglish</th>\n",
       "      <th>Name-nerenglarge</th>\n",
       "      <th>LOC-nerenglarge</th>\n",
       "      <th>ORG-nerenglarge</th>\n",
       "      <th>other_namelarge</th>\n",
       "    </tr>\n",
       "  </thead>\n",
       "  <tbody>\n",
       "    <tr>\n",
       "      <th>0</th>\n",
       "      <td>North Carolina This indenture made entered Thi...</td>\n",
       "      <td>['Thos R Underwood', 'Alfred A McKerhan', 'Wm ...</td>\n",
       "      <td>['County of Carteret', 'Shepperd Creek', 'Cree...</td>\n",
       "      <td>[]</td>\n",
       "      <td>['Thos R Underwood', 'Alfred A McKerhan', 'Wm ...</td>\n",
       "      <td>[]</td>\n",
       "      <td>['H.G . Cutler', 'Thos R Underwood', 'Alfred A...</td>\n",
       "      <td>['North Carolina', 'County of Carteret', 'Bogu...</td>\n",
       "      <td>[]</td>\n",
       "      <td>[]</td>\n",
       "    </tr>\n",
       "    <tr>\n",
       "      <th>1</th>\n",
       "      <td>State of North Carolina Currituck County . Thi...</td>\n",
       "      <td>['John B. Etheridge']</td>\n",
       "      <td>['County State', 'Witnesseth', 'County of Curr...</td>\n",
       "      <td>[]</td>\n",
       "      <td>['John B. Etheridge']</td>\n",
       "      <td>[]</td>\n",
       "      <td>['John B. Etheridge', 'Little John Etheridge']</td>\n",
       "      <td>['State of North Carolina', 'Currituck County'...</td>\n",
       "      <td>[]</td>\n",
       "      <td>[]</td>\n",
       "    </tr>\n",
       "    <tr>\n",
       "      <th>2</th>\n",
       "      <td>near Lizzie Etheridges gate , thence South 56 ...</td>\n",
       "      <td>['John B Etheridge', 'Douglas Adam D. Etheridge']</td>\n",
       "      <td>['Red Hill', 'Croatan Sound']</td>\n",
       "      <td>[]</td>\n",
       "      <td>['John B Etheridge', 'Douglas Adam D. Etheridge']</td>\n",
       "      <td>[]</td>\n",
       "      <td>['Little John Etheridge', 'John B Etheridge', ...</td>\n",
       "      <td>['Lizzie Etheridges gate', 'Red Hill', 'Croata...</td>\n",
       "      <td>[]</td>\n",
       "      <td>[]</td>\n",
       "    </tr>\n",
       "    <tr>\n",
       "      <th>3</th>\n",
       "      <td>Copy Agreement of Apprenticeship Bu Mrs. Kate ...</td>\n",
       "      <td>['Kate V.Chamblin']</td>\n",
       "      <td>[]</td>\n",
       "      <td>[]</td>\n",
       "      <td>['Kate V.Chamblin']</td>\n",
       "      <td>[]</td>\n",
       "      <td>['Kate V.Chamblin', '1st', 'Geo . W. Rollins',...</td>\n",
       "      <td>['La', 'Lake Providence Carroll']</td>\n",
       "      <td>['U.S. Army']</td>\n",
       "      <td>[]</td>\n",
       "    </tr>\n",
       "    <tr>\n",
       "      <th>4</th>\n",
       "      <td>Copy Agreement of Apprenticeship . This agreem...</td>\n",
       "      <td>['Kate V. Chambliss', 'Betty Taylor Mary Taylo...</td>\n",
       "      <td>[]</td>\n",
       "      <td>[]</td>\n",
       "      <td>['Kate V. Chambliss', 'Betty Taylor Mary Taylo...</td>\n",
       "      <td>['African']</td>\n",
       "      <td>['Mrs', 'Kate V. Chambliss', 'James Samenett',...</td>\n",
       "      <td>['Carroll Parish', 'New Orleans', 'Louisiana',...</td>\n",
       "      <td>[]</td>\n",
       "      <td>['African']</td>\n",
       "    </tr>\n",
       "  </tbody>\n",
       "</table>\n",
       "</div>"
      ],
      "text/plain": [
       "                                       contract_text  \\\n",
       "0  North Carolina This indenture made entered Thi...   \n",
       "1  State of North Carolina Currituck County . Thi...   \n",
       "2  near Lizzie Etheridges gate , thence South 56 ...   \n",
       "3  Copy Agreement of Apprenticeship Bu Mrs. Kate ...   \n",
       "4  Copy Agreement of Apprenticeship . This agreem...   \n",
       "\n",
       "                                   PERSON-nerenglish  \\\n",
       "0  ['Thos R Underwood', 'Alfred A McKerhan', 'Wm ...   \n",
       "1                              ['John B. Etheridge']   \n",
       "2  ['John B Etheridge', 'Douglas Adam D. Etheridge']   \n",
       "3                                ['Kate V.Chamblin']   \n",
       "4  ['Kate V. Chambliss', 'Betty Taylor Mary Taylo...   \n",
       "\n",
       "                                      LOC-nerenglish ORG-nerenglish  \\\n",
       "0  ['County of Carteret', 'Shepperd Creek', 'Cree...             []   \n",
       "1  ['County State', 'Witnesseth', 'County of Curr...             []   \n",
       "2                      ['Red Hill', 'Croatan Sound']             []   \n",
       "3                                                 []             []   \n",
       "4                                                 []             []   \n",
       "\n",
       "                                     Name-nerenglish Other_name-nerenglish  \\\n",
       "0  ['Thos R Underwood', 'Alfred A McKerhan', 'Wm ...                    []   \n",
       "1                              ['John B. Etheridge']                    []   \n",
       "2  ['John B Etheridge', 'Douglas Adam D. Etheridge']                    []   \n",
       "3                                ['Kate V.Chamblin']                    []   \n",
       "4  ['Kate V. Chambliss', 'Betty Taylor Mary Taylo...           ['African']   \n",
       "\n",
       "                                    Name-nerenglarge  \\\n",
       "0  ['H.G . Cutler', 'Thos R Underwood', 'Alfred A...   \n",
       "1     ['John B. Etheridge', 'Little John Etheridge']   \n",
       "2  ['Little John Etheridge', 'John B Etheridge', ...   \n",
       "3  ['Kate V.Chamblin', '1st', 'Geo . W. Rollins',...   \n",
       "4  ['Mrs', 'Kate V. Chambliss', 'James Samenett',...   \n",
       "\n",
       "                                     LOC-nerenglarge ORG-nerenglarge  \\\n",
       "0  ['North Carolina', 'County of Carteret', 'Bogu...              []   \n",
       "1  ['State of North Carolina', 'Currituck County'...              []   \n",
       "2  ['Lizzie Etheridges gate', 'Red Hill', 'Croata...              []   \n",
       "3                  ['La', 'Lake Providence Carroll']   ['U.S. Army']   \n",
       "4  ['Carroll Parish', 'New Orleans', 'Louisiana',...              []   \n",
       "\n",
       "  other_namelarge  \n",
       "0              []  \n",
       "1              []  \n",
       "2              []  \n",
       "3              []  \n",
       "4     ['African']  "
      ]
     },
     "execution_count": 54,
     "metadata": {},
     "output_type": "execute_result"
    }
   ],
   "source": [
    "contract_ent.head()"
   ]
  },
  {
   "cell_type": "code",
   "execution_count": 55,
   "id": "50c71ea4",
   "metadata": {
    "execution": {
     "iopub.execute_input": "2022-06-29T11:32:49.666112Z",
     "iopub.status.busy": "2022-06-29T11:32:49.664733Z",
     "iopub.status.idle": "2022-06-29T11:32:49.671893Z",
     "shell.execute_reply": "2022-06-29T11:32:49.670805Z"
    },
    "papermill": {
     "duration": 0.046234,
     "end_time": "2022-06-29T11:32:49.674280",
     "exception": false,
     "start_time": "2022-06-29T11:32:49.628046",
     "status": "completed"
    },
    "tags": []
   },
   "outputs": [],
   "source": [
    "contract_Per_ner=contract_ent[\"PERSON-nerenglish\"]\n",
    "contract_loc_ner=contract_ent[\"LOC-nerenglish\"]\n",
    "contract_ORG_ner=contract_ent[\"ORG-nerenglish\"]\n",
    "contract_other_ner=contract_ent[\"Other_name-nerenglish\"]"
   ]
  },
  {
   "cell_type": "code",
   "execution_count": 56,
   "id": "b2f9b589",
   "metadata": {
    "execution": {
     "iopub.execute_input": "2022-06-29T11:32:49.746179Z",
     "iopub.status.busy": "2022-06-29T11:32:49.745783Z",
     "iopub.status.idle": "2022-06-29T11:32:49.752777Z",
     "shell.execute_reply": "2022-06-29T11:32:49.751312Z"
    },
    "papermill": {
     "duration": 0.045772,
     "end_time": "2022-06-29T11:32:49.755103",
     "exception": false,
     "start_time": "2022-06-29T11:32:49.709331",
     "status": "completed"
    },
    "tags": []
   },
   "outputs": [
    {
     "data": {
      "text/plain": [
       "'AGREEMENT FOR LABOR . THIS INDENTURE , Made entered day of A.D , 186 , of County of State of North Carolina , of first part , undersigned , Free Laborer , of second part : WITNESSETH , That said Laborers agreed work said date day of 186 186 ; kinds of work common farms of country ; work faithfully , respectful deportment . And agree , receive every month , amount placed opposite names , rest end of year ; amount retained shall forfeited violation of contract clearly proven . And agree , time lost idleness absence without leave , shall paid . And said agreed furnish said laborers comfortable quarters , sufficient rations , amount of money per month , stands opposite respective names ; treat kindly , encourage establishment of schools children . Henry Pearce No . NAME . Age . Wages . DOLLS . CTS . Monthly Paymt . DOLLS . CTS . Henry Pearce Tho H Hay Assist . Supt . Bureau R. F. A. L. , SubDistrict of'"
      ]
     },
     "execution_count": 56,
     "metadata": {},
     "output_type": "execute_result"
    }
   ],
   "source": [
    "contract_text[1000]"
   ]
  },
  {
   "cell_type": "code",
   "execution_count": 57,
   "id": "d6337e02",
   "metadata": {
    "execution": {
     "iopub.execute_input": "2022-06-29T11:32:49.828557Z",
     "iopub.status.busy": "2022-06-29T11:32:49.828112Z",
     "iopub.status.idle": "2022-06-29T11:32:49.836656Z",
     "shell.execute_reply": "2022-06-29T11:32:49.835342Z"
    },
    "papermill": {
     "duration": 0.047975,
     "end_time": "2022-06-29T11:32:49.839085",
     "exception": false,
     "start_time": "2022-06-29T11:32:49.791110",
     "status": "completed"
    },
    "tags": []
   },
   "outputs": [
    {
     "data": {
      "text/plain": [
       "\"['Henry Pearce']\""
      ]
     },
     "execution_count": 57,
     "metadata": {},
     "output_type": "execute_result"
    }
   ],
   "source": [
    "contract_Per_ner[1000]"
   ]
  },
  {
   "cell_type": "code",
   "execution_count": 58,
   "id": "c3ab8e52",
   "metadata": {
    "execution": {
     "iopub.execute_input": "2022-06-29T11:32:49.913741Z",
     "iopub.status.busy": "2022-06-29T11:32:49.913354Z",
     "iopub.status.idle": "2022-06-29T11:32:49.920761Z",
     "shell.execute_reply": "2022-06-29T11:32:49.919444Z"
    },
    "papermill": {
     "duration": 0.048239,
     "end_time": "2022-06-29T11:32:49.923327",
     "exception": false,
     "start_time": "2022-06-29T11:32:49.875088",
     "status": "completed"
    },
    "tags": []
   },
   "outputs": [
    {
     "data": {
      "text/plain": [
       "'[]'"
      ]
     },
     "execution_count": 58,
     "metadata": {},
     "output_type": "execute_result"
    }
   ],
   "source": [
    "contract_loc_ner[1000]"
   ]
  },
  {
   "cell_type": "code",
   "execution_count": 59,
   "id": "1058baa7",
   "metadata": {
    "execution": {
     "iopub.execute_input": "2022-06-29T11:32:49.996840Z",
     "iopub.status.busy": "2022-06-29T11:32:49.996484Z",
     "iopub.status.idle": "2022-06-29T11:32:50.004885Z",
     "shell.execute_reply": "2022-06-29T11:32:50.001886Z"
    },
    "papermill": {
     "duration": 0.049732,
     "end_time": "2022-06-29T11:32:50.009148",
     "exception": false,
     "start_time": "2022-06-29T11:32:49.959416",
     "status": "completed"
    },
    "tags": []
   },
   "outputs": [
    {
     "data": {
      "text/plain": [
       "\"['Henry Pearce Tho H Hay Assist']\""
      ]
     },
     "execution_count": 59,
     "metadata": {},
     "output_type": "execute_result"
    }
   ],
   "source": [
    "contract_ORG_ner[1000]"
   ]
  },
  {
   "cell_type": "code",
   "execution_count": 60,
   "id": "1c9daf95",
   "metadata": {
    "execution": {
     "iopub.execute_input": "2022-06-29T11:32:50.083665Z",
     "iopub.status.busy": "2022-06-29T11:32:50.083296Z",
     "iopub.status.idle": "2022-06-29T11:32:50.089355Z",
     "shell.execute_reply": "2022-06-29T11:32:50.088340Z"
    },
    "papermill": {
     "duration": 0.045343,
     "end_time": "2022-06-29T11:32:50.091450",
     "exception": false,
     "start_time": "2022-06-29T11:32:50.046107",
     "status": "completed"
    },
    "tags": []
   },
   "outputs": [
    {
     "data": {
      "text/plain": [
       "'[]'"
      ]
     },
     "execution_count": 60,
     "metadata": {},
     "output_type": "execute_result"
    }
   ],
   "source": [
    "contract_other_ner[1000]"
   ]
  },
  {
   "cell_type": "markdown",
   "id": "f95c6d6d",
   "metadata": {
    "papermill": {
     "duration": 0.036767,
     "end_time": "2022-06-29T11:32:50.165499",
     "exception": false,
     "start_time": "2022-06-29T11:32:50.128732",
     "status": "completed"
    },
    "tags": []
   },
   "source": [
    "**not bad but ontonotes still better**"
   ]
  },
  {
   "cell_type": "code",
   "execution_count": 61,
   "id": "eff7dc8d",
   "metadata": {
    "execution": {
     "iopub.execute_input": "2022-06-29T11:32:50.239813Z",
     "iopub.status.busy": "2022-06-29T11:32:50.239365Z",
     "iopub.status.idle": "2022-06-29T11:32:50.359708Z",
     "shell.execute_reply": "2022-06-29T11:32:50.358373Z"
    },
    "papermill": {
     "duration": 0.160973,
     "end_time": "2022-06-29T11:32:50.362400",
     "exception": false,
     "start_time": "2022-06-29T11:32:50.201427",
     "status": "completed"
    },
    "tags": []
   },
   "outputs": [
    {
     "data": {
      "text/plain": [
       "(790998, 7423)"
      ]
     },
     "execution_count": 61,
     "metadata": {},
     "output_type": "execute_result"
    }
   ],
   "source": [
    "PL=[]\n",
    "empty=0\n",
    "for i in contract_Per_ner :\n",
    "    for j in i:\n",
    "        PL.append(j)\n",
    "for i in contract_Per_ner:\n",
    "    if i=='[]':\n",
    "        empty=empty+1\n",
    "len(PL), empty"
   ]
  },
  {
   "cell_type": "markdown",
   "id": "0d0c23bb",
   "metadata": {
    "papermill": {
     "duration": 0.03574,
     "end_time": "2022-06-29T11:32:50.434726",
     "exception": false,
     "start_time": "2022-06-29T11:32:50.398986",
     "status": "completed"
    },
    "tags": []
   },
   "source": [
    "****"
   ]
  },
  {
   "cell_type": "code",
   "execution_count": 62,
   "id": "4655229f",
   "metadata": {
    "execution": {
     "iopub.execute_input": "2022-06-29T11:32:50.508892Z",
     "iopub.status.busy": "2022-06-29T11:32:50.508530Z",
     "iopub.status.idle": "2022-06-29T11:32:50.524855Z",
     "shell.execute_reply": "2022-06-29T11:32:50.523904Z"
    },
    "papermill": {
     "duration": 0.05604,
     "end_time": "2022-06-29T11:32:50.526932",
     "exception": false,
     "start_time": "2022-06-29T11:32:50.470892",
     "status": "completed"
    },
    "tags": []
   },
   "outputs": [
    {
     "data": {
      "text/html": [
       "<div>\n",
       "<style scoped>\n",
       "    .dataframe tbody tr th:only-of-type {\n",
       "        vertical-align: middle;\n",
       "    }\n",
       "\n",
       "    .dataframe tbody tr th {\n",
       "        vertical-align: top;\n",
       "    }\n",
       "\n",
       "    .dataframe thead th {\n",
       "        text-align: right;\n",
       "    }\n",
       "</style>\n",
       "<table border=\"1\" class=\"dataframe\">\n",
       "  <thead>\n",
       "    <tr style=\"text-align: right;\">\n",
       "      <th></th>\n",
       "      <th>contract_text</th>\n",
       "      <th>PERSON-nerenglish</th>\n",
       "      <th>LOC-nerenglish</th>\n",
       "      <th>ORG-nerenglish</th>\n",
       "      <th>Name-nerenglish</th>\n",
       "      <th>Other_name-nerenglish</th>\n",
       "      <th>Name-nerenglarge</th>\n",
       "      <th>LOC-nerenglarge</th>\n",
       "      <th>ORG-nerenglarge</th>\n",
       "      <th>other_namelarge</th>\n",
       "    </tr>\n",
       "  </thead>\n",
       "  <tbody>\n",
       "    <tr>\n",
       "      <th>0</th>\n",
       "      <td>North Carolina This indenture made entered Thi...</td>\n",
       "      <td>['Thos R Underwood', 'Alfred A McKerhan', 'Wm ...</td>\n",
       "      <td>['County of Carteret', 'Shepperd Creek', 'Cree...</td>\n",
       "      <td>[]</td>\n",
       "      <td>['Thos R Underwood', 'Alfred A McKerhan', 'Wm ...</td>\n",
       "      <td>[]</td>\n",
       "      <td>['H.G . Cutler', 'Thos R Underwood', 'Alfred A...</td>\n",
       "      <td>['North Carolina', 'County of Carteret', 'Bogu...</td>\n",
       "      <td>[]</td>\n",
       "      <td>[]</td>\n",
       "    </tr>\n",
       "    <tr>\n",
       "      <th>1</th>\n",
       "      <td>State of North Carolina Currituck County . Thi...</td>\n",
       "      <td>['John B. Etheridge']</td>\n",
       "      <td>['County State', 'Witnesseth', 'County of Curr...</td>\n",
       "      <td>[]</td>\n",
       "      <td>['John B. Etheridge']</td>\n",
       "      <td>[]</td>\n",
       "      <td>['John B. Etheridge', 'Little John Etheridge']</td>\n",
       "      <td>['State of North Carolina', 'Currituck County'...</td>\n",
       "      <td>[]</td>\n",
       "      <td>[]</td>\n",
       "    </tr>\n",
       "    <tr>\n",
       "      <th>2</th>\n",
       "      <td>near Lizzie Etheridges gate , thence South 56 ...</td>\n",
       "      <td>['John B Etheridge', 'Douglas Adam D. Etheridge']</td>\n",
       "      <td>['Red Hill', 'Croatan Sound']</td>\n",
       "      <td>[]</td>\n",
       "      <td>['John B Etheridge', 'Douglas Adam D. Etheridge']</td>\n",
       "      <td>[]</td>\n",
       "      <td>['Little John Etheridge', 'John B Etheridge', ...</td>\n",
       "      <td>['Lizzie Etheridges gate', 'Red Hill', 'Croata...</td>\n",
       "      <td>[]</td>\n",
       "      <td>[]</td>\n",
       "    </tr>\n",
       "    <tr>\n",
       "      <th>3</th>\n",
       "      <td>Copy Agreement of Apprenticeship Bu Mrs. Kate ...</td>\n",
       "      <td>['Kate V.Chamblin']</td>\n",
       "      <td>[]</td>\n",
       "      <td>[]</td>\n",
       "      <td>['Kate V.Chamblin']</td>\n",
       "      <td>[]</td>\n",
       "      <td>['Kate V.Chamblin', '1st', 'Geo . W. Rollins',...</td>\n",
       "      <td>['La', 'Lake Providence Carroll']</td>\n",
       "      <td>['U.S. Army']</td>\n",
       "      <td>[]</td>\n",
       "    </tr>\n",
       "    <tr>\n",
       "      <th>4</th>\n",
       "      <td>Copy Agreement of Apprenticeship . This agreem...</td>\n",
       "      <td>['Kate V. Chambliss', 'Betty Taylor Mary Taylo...</td>\n",
       "      <td>[]</td>\n",
       "      <td>[]</td>\n",
       "      <td>['Kate V. Chambliss', 'Betty Taylor Mary Taylo...</td>\n",
       "      <td>['African']</td>\n",
       "      <td>['Mrs', 'Kate V. Chambliss', 'James Samenett',...</td>\n",
       "      <td>['Carroll Parish', 'New Orleans', 'Louisiana',...</td>\n",
       "      <td>[]</td>\n",
       "      <td>['African']</td>\n",
       "    </tr>\n",
       "  </tbody>\n",
       "</table>\n",
       "</div>"
      ],
      "text/plain": [
       "                                       contract_text  \\\n",
       "0  North Carolina This indenture made entered Thi...   \n",
       "1  State of North Carolina Currituck County . Thi...   \n",
       "2  near Lizzie Etheridges gate , thence South 56 ...   \n",
       "3  Copy Agreement of Apprenticeship Bu Mrs. Kate ...   \n",
       "4  Copy Agreement of Apprenticeship . This agreem...   \n",
       "\n",
       "                                   PERSON-nerenglish  \\\n",
       "0  ['Thos R Underwood', 'Alfred A McKerhan', 'Wm ...   \n",
       "1                              ['John B. Etheridge']   \n",
       "2  ['John B Etheridge', 'Douglas Adam D. Etheridge']   \n",
       "3                                ['Kate V.Chamblin']   \n",
       "4  ['Kate V. Chambliss', 'Betty Taylor Mary Taylo...   \n",
       "\n",
       "                                      LOC-nerenglish ORG-nerenglish  \\\n",
       "0  ['County of Carteret', 'Shepperd Creek', 'Cree...             []   \n",
       "1  ['County State', 'Witnesseth', 'County of Curr...             []   \n",
       "2                      ['Red Hill', 'Croatan Sound']             []   \n",
       "3                                                 []             []   \n",
       "4                                                 []             []   \n",
       "\n",
       "                                     Name-nerenglish Other_name-nerenglish  \\\n",
       "0  ['Thos R Underwood', 'Alfred A McKerhan', 'Wm ...                    []   \n",
       "1                              ['John B. Etheridge']                    []   \n",
       "2  ['John B Etheridge', 'Douglas Adam D. Etheridge']                    []   \n",
       "3                                ['Kate V.Chamblin']                    []   \n",
       "4  ['Kate V. Chambliss', 'Betty Taylor Mary Taylo...           ['African']   \n",
       "\n",
       "                                    Name-nerenglarge  \\\n",
       "0  ['H.G . Cutler', 'Thos R Underwood', 'Alfred A...   \n",
       "1     ['John B. Etheridge', 'Little John Etheridge']   \n",
       "2  ['Little John Etheridge', 'John B Etheridge', ...   \n",
       "3  ['Kate V.Chamblin', '1st', 'Geo . W. Rollins',...   \n",
       "4  ['Mrs', 'Kate V. Chambliss', 'James Samenett',...   \n",
       "\n",
       "                                     LOC-nerenglarge ORG-nerenglarge  \\\n",
       "0  ['North Carolina', 'County of Carteret', 'Bogu...              []   \n",
       "1  ['State of North Carolina', 'Currituck County'...              []   \n",
       "2  ['Lizzie Etheridges gate', 'Red Hill', 'Croata...              []   \n",
       "3                  ['La', 'Lake Providence Carroll']   ['U.S. Army']   \n",
       "4  ['Carroll Parish', 'New Orleans', 'Louisiana',...              []   \n",
       "\n",
       "  other_namelarge  \n",
       "0              []  \n",
       "1              []  \n",
       "2              []  \n",
       "3              []  \n",
       "4     ['African']  "
      ]
     },
     "execution_count": 62,
     "metadata": {},
     "output_type": "execute_result"
    }
   ],
   "source": [
    "contract_ent.head()"
   ]
  },
  {
   "cell_type": "code",
   "execution_count": 63,
   "id": "baff4014",
   "metadata": {
    "execution": {
     "iopub.execute_input": "2022-06-29T11:32:50.608615Z",
     "iopub.status.busy": "2022-06-29T11:32:50.608223Z",
     "iopub.status.idle": "2022-06-29T11:32:50.615072Z",
     "shell.execute_reply": "2022-06-29T11:32:50.613268Z"
    },
    "papermill": {
     "duration": 0.051661,
     "end_time": "2022-06-29T11:32:50.618097",
     "exception": false,
     "start_time": "2022-06-29T11:32:50.566436",
     "status": "completed"
    },
    "tags": []
   },
   "outputs": [],
   "source": [
    "contract_Per_large=contract_ent[\"Name-nerenglarge\"]\n",
    "contract_loc_large=contract_ent[\"LOC-nerenglarge\"]\n",
    "contract_ORG_large=contract_ent[\"ORG-nerenglarge\"]\n",
    "contract_other_large=contract_ent[\"other_namelarge\"]"
   ]
  },
  {
   "cell_type": "code",
   "execution_count": 64,
   "id": "8c72524f",
   "metadata": {
    "execution": {
     "iopub.execute_input": "2022-06-29T11:32:50.696859Z",
     "iopub.status.busy": "2022-06-29T11:32:50.696414Z",
     "iopub.status.idle": "2022-06-29T11:32:50.702759Z",
     "shell.execute_reply": "2022-06-29T11:32:50.701946Z"
    },
    "papermill": {
     "duration": 0.047826,
     "end_time": "2022-06-29T11:32:50.704823",
     "exception": false,
     "start_time": "2022-06-29T11:32:50.656997",
     "status": "completed"
    },
    "tags": []
   },
   "outputs": [
    {
     "data": {
      "text/plain": [
       "'North Carolina This indenture made entered This 5th day of November 1853 . By H.G . Cutler of County of Carteret of first part Thos R Underwood , Alfred A McKerhan , Wm H Washington , Geo . S Stevenson , John D Williams Nathan A Stedman of second part . Whereas parties of Second part divers others associates purchased of said H. G. Cutler , tract of land situated County of Carteret bounded described follows ; beginning Stake North side of Bogue Sound running thence westwardly various corners of sound , five hundred ten poles Straight . Thence N. 13.0 E. 203 poles , thence East 209 poles , south 4 poles , thence North 85 , E. 116 poles , thence W. 20.0 W. 96 poles , thence N 45.0 E. 21 12 poles thence E. 29 12 poles , thence S. 83.0 E. 220 poles , thence South 5.0 W. Shepperd Creek thence Westerly said Creek South West Corner of tract of land converged said Cutler John Sabuton Then S 50 West along Sabutons West line beginning , containing Estimation Nine hundred four acres survey of said land made William H Marshall hereunto attached Marked A. land said'"
      ]
     },
     "execution_count": 64,
     "metadata": {},
     "output_type": "execute_result"
    }
   ],
   "source": [
    "contract_text[0]"
   ]
  },
  {
   "cell_type": "code",
   "execution_count": 65,
   "id": "34df1c92",
   "metadata": {
    "execution": {
     "iopub.execute_input": "2022-06-29T11:32:50.873844Z",
     "iopub.status.busy": "2022-06-29T11:32:50.873320Z",
     "iopub.status.idle": "2022-06-29T11:32:50.880007Z",
     "shell.execute_reply": "2022-06-29T11:32:50.879216Z"
    },
    "papermill": {
     "duration": 0.05031,
     "end_time": "2022-06-29T11:32:50.883081",
     "exception": false,
     "start_time": "2022-06-29T11:32:50.832771",
     "status": "completed"
    },
    "tags": []
   },
   "outputs": [
    {
     "data": {
      "text/plain": [
       "\"['H.G . Cutler', 'Thos R Underwood', 'Alfred A McKerhan', 'Wm H Washington', 'Geo . S Stevenson', 'John D Williams', 'Nathan A Stedman', 'H . G. Cutler', 'Cutler John Sabuton', 'William H Marshall']\""
      ]
     },
     "execution_count": 65,
     "metadata": {},
     "output_type": "execute_result"
    }
   ],
   "source": [
    "contract_Per_large[0]"
   ]
  },
  {
   "cell_type": "code",
   "execution_count": 66,
   "id": "3c0a2229",
   "metadata": {
    "execution": {
     "iopub.execute_input": "2022-06-29T11:32:50.960594Z",
     "iopub.status.busy": "2022-06-29T11:32:50.960227Z",
     "iopub.status.idle": "2022-06-29T11:32:50.967548Z",
     "shell.execute_reply": "2022-06-29T11:32:50.966320Z"
    },
    "papermill": {
     "duration": 0.048726,
     "end_time": "2022-06-29T11:32:50.969824",
     "exception": false,
     "start_time": "2022-06-29T11:32:50.921098",
     "status": "completed"
    },
    "tags": []
   },
   "outputs": [
    {
     "data": {
      "text/plain": [
       "\"['North Carolina', 'County of Carteret', 'Bogue Sound', 'Shepperd Creek', 'Westerly', 'Sabutons West']\""
      ]
     },
     "execution_count": 66,
     "metadata": {},
     "output_type": "execute_result"
    }
   ],
   "source": [
    "contract_loc_large[0]"
   ]
  },
  {
   "cell_type": "code",
   "execution_count": 67,
   "id": "467331d5",
   "metadata": {
    "execution": {
     "iopub.execute_input": "2022-06-29T11:32:51.053240Z",
     "iopub.status.busy": "2022-06-29T11:32:51.052775Z",
     "iopub.status.idle": "2022-06-29T11:32:51.059471Z",
     "shell.execute_reply": "2022-06-29T11:32:51.058649Z"
    },
    "papermill": {
     "duration": 0.049945,
     "end_time": "2022-06-29T11:32:51.061479",
     "exception": false,
     "start_time": "2022-06-29T11:32:51.011534",
     "status": "completed"
    },
    "tags": []
   },
   "outputs": [
    {
     "data": {
      "text/plain": [
       "'[]'"
      ]
     },
     "execution_count": 67,
     "metadata": {},
     "output_type": "execute_result"
    }
   ],
   "source": [
    "contract_ORG_large[0]"
   ]
  },
  {
   "cell_type": "code",
   "execution_count": 68,
   "id": "fd5a4d6f",
   "metadata": {
    "execution": {
     "iopub.execute_input": "2022-06-29T11:32:51.139908Z",
     "iopub.status.busy": "2022-06-29T11:32:51.139533Z",
     "iopub.status.idle": "2022-06-29T11:32:51.147057Z",
     "shell.execute_reply": "2022-06-29T11:32:51.145843Z"
    },
    "papermill": {
     "duration": 0.049603,
     "end_time": "2022-06-29T11:32:51.149275",
     "exception": false,
     "start_time": "2022-06-29T11:32:51.099672",
     "status": "completed"
    },
    "tags": []
   },
   "outputs": [
    {
     "data": {
      "text/plain": [
       "'[]'"
      ]
     },
     "execution_count": 68,
     "metadata": {},
     "output_type": "execute_result"
    }
   ],
   "source": [
    "contract_other_large[0]"
   ]
  },
  {
   "cell_type": "code",
   "execution_count": 69,
   "id": "0007c325",
   "metadata": {
    "execution": {
     "iopub.execute_input": "2022-06-29T11:32:51.231456Z",
     "iopub.status.busy": "2022-06-29T11:32:51.231017Z",
     "iopub.status.idle": "2022-06-29T11:32:51.467291Z",
     "shell.execute_reply": "2022-06-29T11:32:51.465831Z"
    },
    "papermill": {
     "duration": 0.282722,
     "end_time": "2022-06-29T11:32:51.470326",
     "exception": false,
     "start_time": "2022-06-29T11:32:51.187604",
     "status": "completed"
    },
    "tags": []
   },
   "outputs": [
    {
     "data": {
      "text/plain": [
       "(1717997, 3532)"
      ]
     },
     "execution_count": 69,
     "metadata": {},
     "output_type": "execute_result"
    }
   ],
   "source": [
    "PL=[]\n",
    "empty=0\n",
    "for i in contract_Per_large :\n",
    "    for j in i:\n",
    "        PL.append(j)\n",
    "for i in contract_Per_large:\n",
    "    if i=='[]':\n",
    "        empty=empty+1\n",
    "len(PL), empty"
   ]
  },
  {
   "cell_type": "markdown",
   "id": "fc2c2156",
   "metadata": {
    "papermill": {
     "duration": 0.038284,
     "end_time": "2022-06-29T11:32:51.547767",
     "exception": false,
     "start_time": "2022-06-29T11:32:51.509483",
     "status": "completed"
    },
    "tags": []
   },
   "source": [
    "# the better one as usuall "
   ]
  },
  {
   "cell_type": "markdown",
   "id": "58bd78bf",
   "metadata": {
    "papermill": {
     "duration": 0.038392,
     "end_time": "2022-06-29T11:32:51.627159",
     "exception": false,
     "start_time": "2022-06-29T11:32:51.588767",
     "status": "completed"
    },
    "tags": []
   },
   "source": [
    "****"
   ]
  },
  {
   "cell_type": "markdown",
   "id": "4fbb8864",
   "metadata": {
    "papermill": {
     "duration": 0.040028,
     "end_time": "2022-06-29T11:32:51.705596",
     "exception": false,
     "start_time": "2022-06-29T11:32:51.665568",
     "status": "completed"
    },
    "tags": []
   },
   "source": [
    "# Records Financial"
   ]
  },
  {
   "cell_type": "code",
   "execution_count": 70,
   "id": "3cb4c349",
   "metadata": {
    "execution": {
     "iopub.execute_input": "2022-06-29T11:32:51.788849Z",
     "iopub.status.busy": "2022-06-29T11:32:51.788441Z",
     "iopub.status.idle": "2022-06-29T11:32:51.879071Z",
     "shell.execute_reply": "2022-06-29T11:32:51.878012Z"
    },
    "papermill": {
     "duration": 0.136433,
     "end_time": "2022-06-29T11:32:51.881788",
     "exception": false,
     "start_time": "2022-06-29T11:32:51.745355",
     "status": "completed"
    },
    "tags": []
   },
   "outputs": [],
   "source": [
    "recordF_ent=pd.read_csv(\"../input/all-csv/to_compare_result_recordF.csv\")"
   ]
  },
  {
   "cell_type": "code",
   "execution_count": 71,
   "id": "b048c38e",
   "metadata": {
    "execution": {
     "iopub.execute_input": "2022-06-29T11:32:51.959166Z",
     "iopub.status.busy": "2022-06-29T11:32:51.958670Z",
     "iopub.status.idle": "2022-06-29T11:32:51.978439Z",
     "shell.execute_reply": "2022-06-29T11:32:51.977546Z"
    },
    "papermill": {
     "duration": 0.061332,
     "end_time": "2022-06-29T11:32:51.980649",
     "exception": false,
     "start_time": "2022-06-29T11:32:51.919317",
     "status": "completed"
    },
    "tags": []
   },
   "outputs": [
    {
     "data": {
      "text/html": [
       "<div>\n",
       "<style scoped>\n",
       "    .dataframe tbody tr th:only-of-type {\n",
       "        vertical-align: middle;\n",
       "    }\n",
       "\n",
       "    .dataframe tbody tr th {\n",
       "        vertical-align: top;\n",
       "    }\n",
       "\n",
       "    .dataframe thead th {\n",
       "        text-align: right;\n",
       "    }\n",
       "</style>\n",
       "<table border=\"1\" class=\"dataframe\">\n",
       "  <thead>\n",
       "    <tr style=\"text-align: right;\">\n",
       "      <th></th>\n",
       "      <th>recordF_text</th>\n",
       "      <th>Name-ontonotes</th>\n",
       "      <th>GPE-ontonotes</th>\n",
       "      <th>ORG-ontonotes</th>\n",
       "      <th>Date-ontonotes</th>\n",
       "      <th>LOC-ontonotes</th>\n",
       "      <th>Building-ontonotes</th>\n",
       "      <th>Cardinal-ontonotes</th>\n",
       "      <th>postDate-ontonotes</th>\n",
       "      <th>standard_date-ontonotes</th>\n",
       "      <th>Name-nerenglarge</th>\n",
       "      <th>LOC-nerenglarge</th>\n",
       "      <th>ORG-nerenglarge</th>\n",
       "      <th>other_namelarge</th>\n",
       "      <th>PERSON-nerenglish</th>\n",
       "      <th>LOC-nerenglish</th>\n",
       "      <th>ORG-nerenglish</th>\n",
       "      <th>Other_name-nerenglish</th>\n",
       "    </tr>\n",
       "  </thead>\n",
       "  <tbody>\n",
       "    <tr>\n",
       "      <th>0</th>\n",
       "      <td>Quarter ending March 31st 1866 Justin Hodge Ca...</td>\n",
       "      <td>['Justin Hodge', 'Henry Swim', 'JC Barnett', '...</td>\n",
       "      <td>['Nottsburg', 'Salisbury']</td>\n",
       "      <td>['US Treasury']</td>\n",
       "      <td>['Quarter ending March 31st 1866', 'Dec 18', '...</td>\n",
       "      <td>[]</td>\n",
       "      <td>[]</td>\n",
       "      <td>['One']</td>\n",
       "      <td>['31-Quarter ending March-1866', 'Quarter-Marc...</td>\n",
       "      <td>['Quarter-March-1866']</td>\n",
       "      <td>['Justin Hodge', 'Henry Swim', 'Wm B Meins', '...</td>\n",
       "      <td>['Dist West', 'N.Ca', 'Greensboro N.C', 'Notts...</td>\n",
       "      <td>['A.Q.M . Financial Agent Bureau', 'Fines', 'A...</td>\n",
       "      <td>[]</td>\n",
       "      <td>['Jacob Bodecker', 'Justin Hodge']</td>\n",
       "      <td>[]</td>\n",
       "      <td>[]</td>\n",
       "      <td>[]</td>\n",
       "    </tr>\n",
       "  </tbody>\n",
       "</table>\n",
       "</div>"
      ],
      "text/plain": [
       "                                        recordF_text  \\\n",
       "0  Quarter ending March 31st 1866 Justin Hodge Ca...   \n",
       "\n",
       "                                      Name-ontonotes  \\\n",
       "0  ['Justin Hodge', 'Henry Swim', 'JC Barnett', '...   \n",
       "\n",
       "                GPE-ontonotes    ORG-ontonotes  \\\n",
       "0  ['Nottsburg', 'Salisbury']  ['US Treasury']   \n",
       "\n",
       "                                      Date-ontonotes LOC-ontonotes  \\\n",
       "0  ['Quarter ending March 31st 1866', 'Dec 18', '...            []   \n",
       "\n",
       "  Building-ontonotes Cardinal-ontonotes  \\\n",
       "0                 []            ['One']   \n",
       "\n",
       "                                  postDate-ontonotes standard_date-ontonotes  \\\n",
       "0  ['31-Quarter ending March-1866', 'Quarter-Marc...  ['Quarter-March-1866']   \n",
       "\n",
       "                                    Name-nerenglarge  \\\n",
       "0  ['Justin Hodge', 'Henry Swim', 'Wm B Meins', '...   \n",
       "\n",
       "                                     LOC-nerenglarge  \\\n",
       "0  ['Dist West', 'N.Ca', 'Greensboro N.C', 'Notts...   \n",
       "\n",
       "                                     ORG-nerenglarge other_namelarge  \\\n",
       "0  ['A.Q.M . Financial Agent Bureau', 'Fines', 'A...              []   \n",
       "\n",
       "                    PERSON-nerenglish LOC-nerenglish ORG-nerenglish  \\\n",
       "0  ['Jacob Bodecker', 'Justin Hodge']             []             []   \n",
       "\n",
       "  Other_name-nerenglish  \n",
       "0                    []  "
      ]
     },
     "execution_count": 71,
     "metadata": {},
     "output_type": "execute_result"
    }
   ],
   "source": [
    "recordF_ent.head(1)"
   ]
  },
  {
   "cell_type": "code",
   "execution_count": 72,
   "id": "321948a1",
   "metadata": {
    "execution": {
     "iopub.execute_input": "2022-06-29T11:32:52.063421Z",
     "iopub.status.busy": "2022-06-29T11:32:52.062874Z",
     "iopub.status.idle": "2022-06-29T11:32:52.081001Z",
     "shell.execute_reply": "2022-06-29T11:32:52.079881Z"
    },
    "papermill": {
     "duration": 0.059964,
     "end_time": "2022-06-29T11:32:52.083493",
     "exception": false,
     "start_time": "2022-06-29T11:32:52.023529",
     "status": "completed"
    },
    "tags": []
   },
   "outputs": [],
   "source": [
    "recordF_text=recordF_ent[\"recordF_text\"]\n",
    "recordF_Per_onto=recordF_ent[\"Name-ontonotes\"]\n",
    "recordF_GPE_onto=recordF_ent[\"GPE-ontonotes\"]\n",
    "recordF_ORG_onto=recordF_ent[\"ORG-ontonotes\"]\n",
    "recordF_date_onto=recordF_ent[\"standard_date-ontonotes\"]\n",
    "recordF_loc_onto=recordF_ent[\"LOC-ontonotes\"]\n",
    "recordF_cardinal=recordF_ent[\"Cardinal-ontonotes\"]"
   ]
  },
  {
   "cell_type": "code",
   "execution_count": 73,
   "id": "d61f0498",
   "metadata": {
    "execution": {
     "iopub.execute_input": "2022-06-29T11:32:52.165950Z",
     "iopub.status.busy": "2022-06-29T11:32:52.165069Z",
     "iopub.status.idle": "2022-06-29T11:32:52.173223Z",
     "shell.execute_reply": "2022-06-29T11:32:52.172014Z"
    },
    "papermill": {
     "duration": 0.052496,
     "end_time": "2022-06-29T11:32:52.175772",
     "exception": false,
     "start_time": "2022-06-29T11:32:52.123276",
     "status": "completed"
    },
    "tags": []
   },
   "outputs": [
    {
     "data": {
      "text/plain": [
       "'Hugh To amount brought forward 60.96 May 19 1 mug 25.2 mackerel 15 1 qt . Brandy 1.35 1.80 May 21 3 lbs Copperas 10 Box blacking 10 .40 May 22 1 Doz Herring 50 . 23rd . 1 12 qts . brandy 1.25 2.37 May 26 12 doz . Herring 50 Jun 23rd Brandy 1.3 .88 June 3 2 cotton Hdkfs .60 1.20 June 9 2 Home made Cotton Shirts 2.00 4.00 June 2 pr . Country made pants 2.50 5.00 June 1 12 doz . Buttons 10 1 qt Brandy 1.25 1.40 June 15 1 cups saucers 1.25 1.25 June 16 1 pr . Cotton Stockings 75 75 June 21 1 lb Sugar 18 2 lb Adam T. Candles 50 43 June 22 12 Gallon Brandy 5.00 2.50 June 1 Cotton Hdkfs 40 40 June 25 1 Pocket Knife 6 2 Spools thread 15 1.30 June 1 yd . Calico 25 25 June 29 1 quart Whiskey 1.25 1.25 July 7 12 Gallon Do 5.00 2.50 July 7 1 Pad Lock 37 2 1 lb . Sugar 18 55 July 13 12 lb . Adm. Candles 50 1 lb . Nails 10 35 July 1 Box Matches 5 25 lb . 2 qts . Whiskey 1.25 2.55 July 28 1 quart Brandy 1.25 1.25 Augt . 3 3¼ yds . Capeniars 1.50 4.87 Augt . 3 1 Bunch hemp Thread 10 1 doz P. Buttons 10 20 Augt . 6 part whiskey hands 63 Augt . 10 6 yds . Black Cloth 30 spool thread 15 1.95 Augt . Cash paid 2.00 11 lb . 12 Gal . Whiskey 5.00 4.50 Augt . 12 part whiskey hands 62 Augt . 14 5 yards Blchd Cotton Cloth 35 1.75 Augt . 17 12 lb Candles 50 Cravat 25 50 Augt . 19 2 qts . Whiskey 1.25 2.50 Augt . 27 2 116. qts Do 1.25 2.81 Augt . 31 5½ lb Sugar 18 99 Sept. 29 1 Quart Brandy 1.25 1.25 Oct. 24 1 Paper needles 25 25 Nov 3 1 lb Nails also 10 5½ Gal Molasses 1.00 60 Nov 6 20 yds . Alamanes sheeting 30 1 pr . boots 5.00 11.00 Nov 10 6 Linsey 60.17 lb , 1 thimble 10 1 spool thread 15 3.85 Nov 27 part expenses of corn shucking 1.25 Nov 29 part hire land , year 1.60 Nov part expenses curling tobacco 70 74.20 amount forward 135.16 To amount brought forward 135.16 4½ days lost time 50 2.25 Dec 19 2½ Bushels Corn 1.00 2.50 4.50 1866 Cr . 139.66 Dec 24 Buy 8½ Bbls . Long Corn part 5.00 42.50 Dec Buy 1½ Bbls . short corn part 2.00 3.00 Dec 24 Buy 2 Bushels wheat part 3.00 6.00 Dec 24 Buy ½ stack oats part 4.00 4.00 Dec 24 Buy 1 Bushel Rye part 1.00 1.00 Dec 24 Buy part loss time hands 1.20 Dec 24 Buy part proceeds tobacco 44.74 102.44 37.22 State of N C Caswell Co Feby 25 1868 This day came Mr. Stephen Neal Justice of Peace said County Fariss G J Farish made oath forgoing account Nelson Dortgito freedman true best of knowledge belief G. J. Farish Test Stephen Neal JP'"
      ]
     },
     "execution_count": 73,
     "metadata": {},
     "output_type": "execute_result"
    }
   ],
   "source": [
    "recordF_text[300]"
   ]
  },
  {
   "cell_type": "code",
   "execution_count": 74,
   "id": "f0a18f77",
   "metadata": {
    "execution": {
     "iopub.execute_input": "2022-06-29T11:32:52.258260Z",
     "iopub.status.busy": "2022-06-29T11:32:52.257393Z",
     "iopub.status.idle": "2022-06-29T11:32:52.264946Z",
     "shell.execute_reply": "2022-06-29T11:32:52.263857Z"
    },
    "papermill": {
     "duration": 0.052148,
     "end_time": "2022-06-29T11:32:52.267265",
     "exception": false,
     "start_time": "2022-06-29T11:32:52.215117",
     "status": "completed"
    },
    "tags": []
   },
   "outputs": [
    {
     "data": {
      "text/plain": [
       "\"['60.96', '25.2', '15', '1.35', '10', '40', '50', '12', '1.25', '1.3', '88', '3', '2', '1.25 1.25', '18', '6', '1.30', '37', '35', '1', '5', '1.50', '20', '63', '30', '2.00', '4.50', '62', '14', '25', '2.81', '60', '11.00', '60.17', '3.85', '1.60', '70', '74.20', '135.16', '2.50', '42.50', '½', '1.20', '44.74', '102.44', '37.22']\""
      ]
     },
     "execution_count": 74,
     "metadata": {},
     "output_type": "execute_result"
    }
   ],
   "source": [
    "recordF_cardinal[300]"
   ]
  },
  {
   "cell_type": "code",
   "execution_count": 75,
   "id": "aad92a4e",
   "metadata": {
    "execution": {
     "iopub.execute_input": "2022-06-29T11:32:52.348266Z",
     "iopub.status.busy": "2022-06-29T11:32:52.347793Z",
     "iopub.status.idle": "2022-06-29T11:32:52.354582Z",
     "shell.execute_reply": "2022-06-29T11:32:52.353502Z"
    },
    "papermill": {
     "duration": 0.050628,
     "end_time": "2022-06-29T11:32:52.357241",
     "exception": false,
     "start_time": "2022-06-29T11:32:52.306613",
     "status": "completed"
    },
    "tags": []
   },
   "outputs": [
    {
     "data": {
      "text/plain": [
       "\"['25-February-1868']\""
      ]
     },
     "execution_count": 75,
     "metadata": {},
     "output_type": "execute_result"
    }
   ],
   "source": [
    "recordF_date_onto[300]"
   ]
  },
  {
   "cell_type": "code",
   "execution_count": 76,
   "id": "2c82f7b3",
   "metadata": {
    "execution": {
     "iopub.execute_input": "2022-06-29T11:32:52.439044Z",
     "iopub.status.busy": "2022-06-29T11:32:52.438197Z",
     "iopub.status.idle": "2022-06-29T11:32:52.444989Z",
     "shell.execute_reply": "2022-06-29T11:32:52.444160Z"
    },
    "papermill": {
     "duration": 0.050233,
     "end_time": "2022-06-29T11:32:52.447052",
     "exception": false,
     "start_time": "2022-06-29T11:32:52.396819",
     "status": "completed"
    },
    "tags": []
   },
   "outputs": [
    {
     "data": {
      "text/plain": [
       "\"['Hugh', 'Stephen Neal', 'Fariss', 'G J Farish', 'Nelson Dortgito', 'G . J. Farish']\""
      ]
     },
     "execution_count": 76,
     "metadata": {},
     "output_type": "execute_result"
    }
   ],
   "source": [
    "recordF_Per_onto[300]"
   ]
  },
  {
   "cell_type": "code",
   "execution_count": 77,
   "id": "48969caa",
   "metadata": {
    "execution": {
     "iopub.execute_input": "2022-06-29T11:32:52.528885Z",
     "iopub.status.busy": "2022-06-29T11:32:52.527564Z",
     "iopub.status.idle": "2022-06-29T11:32:52.538647Z",
     "shell.execute_reply": "2022-06-29T11:32:52.537849Z"
    },
    "papermill": {
     "duration": 0.055046,
     "end_time": "2022-06-29T11:32:52.541201",
     "exception": false,
     "start_time": "2022-06-29T11:32:52.486155",
     "status": "completed"
    },
    "tags": []
   },
   "outputs": [
    {
     "data": {
      "text/plain": [
       "'[]'"
      ]
     },
     "execution_count": 77,
     "metadata": {},
     "output_type": "execute_result"
    }
   ],
   "source": [
    "recordF_GPE_onto[300]"
   ]
  },
  {
   "cell_type": "code",
   "execution_count": 78,
   "id": "41c4dccd",
   "metadata": {
    "execution": {
     "iopub.execute_input": "2022-06-29T11:32:52.625712Z",
     "iopub.status.busy": "2022-06-29T11:32:52.624546Z",
     "iopub.status.idle": "2022-06-29T11:32:52.632061Z",
     "shell.execute_reply": "2022-06-29T11:32:52.631001Z"
    },
    "papermill": {
     "duration": 0.051902,
     "end_time": "2022-06-29T11:32:52.634832",
     "exception": false,
     "start_time": "2022-06-29T11:32:52.582930",
     "status": "completed"
    },
    "tags": []
   },
   "outputs": [
    {
     "data": {
      "text/plain": [
       "'[]'"
      ]
     },
     "execution_count": 78,
     "metadata": {},
     "output_type": "execute_result"
    }
   ],
   "source": [
    "recordF_ORG_onto[300]"
   ]
  },
  {
   "cell_type": "code",
   "execution_count": 79,
   "id": "e689c00d",
   "metadata": {
    "execution": {
     "iopub.execute_input": "2022-06-29T11:32:52.713750Z",
     "iopub.status.busy": "2022-06-29T11:32:52.712758Z",
     "iopub.status.idle": "2022-06-29T11:32:52.734590Z",
     "shell.execute_reply": "2022-06-29T11:32:52.733190Z"
    },
    "papermill": {
     "duration": 0.064235,
     "end_time": "2022-06-29T11:32:52.737530",
     "exception": false,
     "start_time": "2022-06-29T11:32:52.673295",
     "status": "completed"
    },
    "tags": []
   },
   "outputs": [
    {
     "data": {
      "text/plain": [
       "(50173, 1769)"
      ]
     },
     "execution_count": 79,
     "metadata": {},
     "output_type": "execute_result"
    }
   ],
   "source": [
    "PL=[]\n",
    "empty=0\n",
    "for i in recordF_date_onto :\n",
    "    for j in i:\n",
    "        PL.append(j)\n",
    "for i in recordF_date_onto:\n",
    "    if i=='[]':\n",
    "        empty=empty+1\n",
    "len(PL), empty"
   ]
  },
  {
   "cell_type": "code",
   "execution_count": 80,
   "id": "e32f5420",
   "metadata": {
    "execution": {
     "iopub.execute_input": "2022-06-29T11:32:52.818182Z",
     "iopub.status.busy": "2022-06-29T11:32:52.817341Z",
     "iopub.status.idle": "2022-06-29T11:32:52.842710Z",
     "shell.execute_reply": "2022-06-29T11:32:52.841862Z"
    },
    "papermill": {
     "duration": 0.06837,
     "end_time": "2022-06-29T11:32:52.844981",
     "exception": false,
     "start_time": "2022-06-29T11:32:52.776611",
     "status": "completed"
    },
    "tags": []
   },
   "outputs": [
    {
     "data": {
      "text/plain": [
       "(115920, 925)"
      ]
     },
     "execution_count": 80,
     "metadata": {},
     "output_type": "execute_result"
    }
   ],
   "source": [
    "PL=[]\n",
    "empty=0\n",
    "for i in recordF_Per_onto :\n",
    "    for j in i:\n",
    "        PL.append(j)\n",
    "for i in recordF_Per_onto:\n",
    "    if i=='[]':\n",
    "        empty=empty+1\n",
    "len(PL), empty"
   ]
  },
  {
   "cell_type": "markdown",
   "id": "1b7ea3a2",
   "metadata": {
    "papermill": {
     "duration": 0.038749,
     "end_time": "2022-06-29T11:32:52.922738",
     "exception": false,
     "start_time": "2022-06-29T11:32:52.883989",
     "status": "completed"
    },
    "tags": []
   },
   "source": [
    "****"
   ]
  },
  {
   "cell_type": "code",
   "execution_count": 81,
   "id": "5adbd4c4",
   "metadata": {
    "execution": {
     "iopub.execute_input": "2022-06-29T11:32:53.003316Z",
     "iopub.status.busy": "2022-06-29T11:32:53.002313Z",
     "iopub.status.idle": "2022-06-29T11:32:53.206524Z",
     "shell.execute_reply": "2022-06-29T11:32:53.205607Z"
    },
    "papermill": {
     "duration": 0.247413,
     "end_time": "2022-06-29T11:32:53.209112",
     "exception": false,
     "start_time": "2022-06-29T11:32:52.961699",
     "status": "completed"
    },
    "tags": []
   },
   "outputs": [],
   "source": [
    "recordE_ent=pd.read_csv(\"../input/all-csv/to_compare_result_recordE.csv\")\n",
    "recordE_text=recordE_ent[\"recordE_text\"]\n",
    "recordE_Per_onto=recordE_ent[\"Name-ontonotes\"]\n",
    "recordE_GPE_onto=recordE_ent[\"GPE-ontonotes\"]\n",
    "recordE_ORG_onto=recordE_ent[\"ORG-ontonotes\"]\n",
    "recordE_date_onto=recordE_ent[\"standard_date-ontonotes\"]\n",
    "recordE_loc_onto=recordE_ent[\"LOC-ontonotes\"]\n",
    "recordE_cardinal=recordE_ent[\"Cardinal-ontonotes\"]"
   ]
  },
  {
   "cell_type": "code",
   "execution_count": 82,
   "id": "bda02079",
   "metadata": {
    "execution": {
     "iopub.execute_input": "2022-06-29T11:32:53.292312Z",
     "iopub.status.busy": "2022-06-29T11:32:53.291266Z",
     "iopub.status.idle": "2022-06-29T11:32:53.298760Z",
     "shell.execute_reply": "2022-06-29T11:32:53.297789Z"
    },
    "papermill": {
     "duration": 0.051536,
     "end_time": "2022-06-29T11:32:53.300909",
     "exception": false,
     "start_time": "2022-06-29T11:32:53.249373",
     "status": "completed"
    },
    "tags": []
   },
   "outputs": [
    {
     "data": {
      "text/plain": [
       "'28 Spanish Neck Co. Edesville Md . School House 1867 Mar . 1 From Barracks , Stables c. Balto Asson . 12,224 feet Lumber 11 Windows 3 Doors 15 Sec . of Roof 205.48 29 Talbot Co. Trappe Md . School House 1867 Mar . 1 From Barracks , Stables c. Balto Asson . 10,192 feet Lumber 10 Windows 2 Doors 12 Sec . of Roof 163.20'"
      ]
     },
     "execution_count": 82,
     "metadata": {},
     "output_type": "execute_result"
    }
   ],
   "source": [
    "recordE_text[45]"
   ]
  },
  {
   "cell_type": "code",
   "execution_count": 83,
   "id": "f4525879",
   "metadata": {
    "execution": {
     "iopub.execute_input": "2022-06-29T11:32:53.381921Z",
     "iopub.status.busy": "2022-06-29T11:32:53.381124Z",
     "iopub.status.idle": "2022-06-29T11:32:53.387537Z",
     "shell.execute_reply": "2022-06-29T11:32:53.386586Z"
    },
    "papermill": {
     "duration": 0.049424,
     "end_time": "2022-06-29T11:32:53.389671",
     "exception": false,
     "start_time": "2022-06-29T11:32:53.340247",
     "status": "completed"
    },
    "tags": []
   },
   "outputs": [
    {
     "data": {
      "text/plain": [
       "\"['Spanish Neck Co .', 'School House', 'Talbot Co .']\""
      ]
     },
     "execution_count": 83,
     "metadata": {},
     "output_type": "execute_result"
    }
   ],
   "source": [
    "recordE_ORG_onto[45]"
   ]
  },
  {
   "cell_type": "code",
   "execution_count": 84,
   "id": "212a68ee",
   "metadata": {
    "execution": {
     "iopub.execute_input": "2022-06-29T11:32:53.470298Z",
     "iopub.status.busy": "2022-06-29T11:32:53.469345Z",
     "iopub.status.idle": "2022-06-29T11:32:53.476411Z",
     "shell.execute_reply": "2022-06-29T11:32:53.475556Z"
    },
    "papermill": {
     "duration": 0.049708,
     "end_time": "2022-06-29T11:32:53.478427",
     "exception": false,
     "start_time": "2022-06-29T11:32:53.428719",
     "status": "completed"
    },
    "tags": []
   },
   "outputs": [
    {
     "data": {
      "text/plain": [
       "'[]'"
      ]
     },
     "execution_count": 84,
     "metadata": {},
     "output_type": "execute_result"
    }
   ],
   "source": [
    "recordE_loc_onto[45]"
   ]
  },
  {
   "cell_type": "code",
   "execution_count": 85,
   "id": "a25fbede",
   "metadata": {
    "execution": {
     "iopub.execute_input": "2022-06-29T11:32:53.558308Z",
     "iopub.status.busy": "2022-06-29T11:32:53.557828Z",
     "iopub.status.idle": "2022-06-29T11:32:53.564461Z",
     "shell.execute_reply": "2022-06-29T11:32:53.563549Z"
    },
    "papermill": {
     "duration": 0.049239,
     "end_time": "2022-06-29T11:32:53.566630",
     "exception": false,
     "start_time": "2022-06-29T11:32:53.517391",
     "status": "completed"
    },
    "tags": []
   },
   "outputs": [
    {
     "data": {
      "text/plain": [
       "'[]'"
      ]
     },
     "execution_count": 85,
     "metadata": {},
     "output_type": "execute_result"
    }
   ],
   "source": [
    "recordE_date_onto[45]"
   ]
  },
  {
   "cell_type": "code",
   "execution_count": 86,
   "id": "bcad1508",
   "metadata": {
    "execution": {
     "iopub.execute_input": "2022-06-29T11:32:53.647404Z",
     "iopub.status.busy": "2022-06-29T11:32:53.646674Z",
     "iopub.status.idle": "2022-06-29T11:32:53.652712Z",
     "shell.execute_reply": "2022-06-29T11:32:53.651909Z"
    },
    "papermill": {
     "duration": 0.049059,
     "end_time": "2022-06-29T11:32:53.654763",
     "exception": false,
     "start_time": "2022-06-29T11:32:53.605704",
     "status": "completed"
    },
    "tags": []
   },
   "outputs": [
    {
     "data": {
      "text/plain": [
       "\"['Edesville', 'Md', 'Trappe']\""
      ]
     },
     "execution_count": 86,
     "metadata": {},
     "output_type": "execute_result"
    }
   ],
   "source": [
    "recordE_GPE_onto[45]"
   ]
  },
  {
   "cell_type": "code",
   "execution_count": 87,
   "id": "efecfde1",
   "metadata": {
    "execution": {
     "iopub.execute_input": "2022-06-29T11:32:53.735375Z",
     "iopub.status.busy": "2022-06-29T11:32:53.734507Z",
     "iopub.status.idle": "2022-06-29T11:32:53.741054Z",
     "shell.execute_reply": "2022-06-29T11:32:53.740148Z"
    },
    "papermill": {
     "duration": 0.049581,
     "end_time": "2022-06-29T11:32:53.743276",
     "exception": false,
     "start_time": "2022-06-29T11:32:53.693695",
     "status": "completed"
    },
    "tags": []
   },
   "outputs": [
    {
     "data": {
      "text/plain": [
       "\"['J . T Kirkman', 'Hartnett', 'D F Allen']\""
      ]
     },
     "execution_count": 87,
     "metadata": {},
     "output_type": "execute_result"
    }
   ],
   "source": [
    "recordE_Per_onto[1000]"
   ]
  },
  {
   "cell_type": "code",
   "execution_count": 88,
   "id": "9b3acc43",
   "metadata": {
    "execution": {
     "iopub.execute_input": "2022-06-29T11:32:53.825016Z",
     "iopub.status.busy": "2022-06-29T11:32:53.824206Z",
     "iopub.status.idle": "2022-06-29T11:32:53.856558Z",
     "shell.execute_reply": "2022-06-29T11:32:53.855124Z"
    },
    "papermill": {
     "duration": 0.07596,
     "end_time": "2022-06-29T11:32:53.859233",
     "exception": false,
     "start_time": "2022-06-29T11:32:53.783273",
     "status": "completed"
    },
    "tags": []
   },
   "outputs": [
    {
     "data": {
      "text/plain": [
       "(148161, 2868)"
      ]
     },
     "execution_count": 88,
     "metadata": {},
     "output_type": "execute_result"
    }
   ],
   "source": [
    "PL=[]\n",
    "empty=0\n",
    "for i in recordE_Per_onto :\n",
    "    for j in i:\n",
    "        PL.append(j)\n",
    "for i in recordE_Per_onto:\n",
    "    if i=='[]':\n",
    "        empty=empty+1\n",
    "len(PL), empty"
   ]
  },
  {
   "cell_type": "code",
   "execution_count": 89,
   "id": "82be6fc2",
   "metadata": {
    "execution": {
     "iopub.execute_input": "2022-06-29T11:32:53.941046Z",
     "iopub.status.busy": "2022-06-29T11:32:53.940188Z",
     "iopub.status.idle": "2022-06-29T11:32:53.963029Z",
     "shell.execute_reply": "2022-06-29T11:32:53.962156Z"
    },
    "papermill": {
     "duration": 0.066631,
     "end_time": "2022-06-29T11:32:53.965180",
     "exception": false,
     "start_time": "2022-06-29T11:32:53.898549",
     "status": "completed"
    },
    "tags": []
   },
   "outputs": [
    {
     "data": {
      "text/plain": [
       "(73441, 4916)"
      ]
     },
     "execution_count": 89,
     "metadata": {},
     "output_type": "execute_result"
    }
   ],
   "source": [
    "PL=[]\n",
    "empty=0\n",
    "for i in recordE_date_onto :\n",
    "    for j in i:\n",
    "        PL.append(j)\n",
    "for i in recordE_date_onto:\n",
    "    if i=='[]':\n",
    "        empty=empty+1\n",
    "len(PL), empty"
   ]
  },
  {
   "cell_type": "code",
   "execution_count": 90,
   "id": "a554719a",
   "metadata": {
    "execution": {
     "iopub.execute_input": "2022-06-29T11:32:54.051959Z",
     "iopub.status.busy": "2022-06-29T11:32:54.051126Z",
     "iopub.status.idle": "2022-06-29T11:32:54.078124Z",
     "shell.execute_reply": "2022-06-29T11:32:54.077045Z"
    },
    "papermill": {
     "duration": 0.070789,
     "end_time": "2022-06-29T11:32:54.080395",
     "exception": false,
     "start_time": "2022-06-29T11:32:54.009606",
     "status": "completed"
    },
    "tags": []
   },
   "outputs": [
    {
     "data": {
      "text/plain": [
       "(95379, 5150)"
      ]
     },
     "execution_count": 90,
     "metadata": {},
     "output_type": "execute_result"
    }
   ],
   "source": [
    "PL=[]\n",
    "empty=0\n",
    "for i in recordE_ORG_onto :\n",
    "    for j in i:\n",
    "        PL.append(j)\n",
    "for i in recordE_ORG_onto :\n",
    "    if i=='[]':\n",
    "        empty=empty+1\n",
    "len(PL), empty"
   ]
  },
  {
   "cell_type": "markdown",
   "id": "112f4e50",
   "metadata": {
    "papermill": {
     "duration": 0.039317,
     "end_time": "2022-06-29T11:32:54.160808",
     "exception": false,
     "start_time": "2022-06-29T11:32:54.121491",
     "status": "completed"
    },
    "tags": []
   },
   "source": [
    "****"
   ]
  },
  {
   "cell_type": "code",
   "execution_count": 91,
   "id": "5f169a26",
   "metadata": {
    "execution": {
     "iopub.execute_input": "2022-06-29T11:32:54.242243Z",
     "iopub.status.busy": "2022-06-29T11:32:54.241418Z",
     "iopub.status.idle": "2022-06-29T11:32:54.432360Z",
     "shell.execute_reply": "2022-06-29T11:32:54.431162Z"
    },
    "papermill": {
     "duration": 0.234988,
     "end_time": "2022-06-29T11:32:54.435298",
     "exception": false,
     "start_time": "2022-06-29T11:32:54.200310",
     "status": "completed"
    },
    "tags": []
   },
   "outputs": [],
   "source": [
    "recordC_ent=pd.read_csv(\"../input/all-csv/to_compare_result_recordC.csv\")\n",
    "recordC_text=recordC_ent[\"recordC_text\"]\n",
    "recordC_Per_onto=recordC_ent[\"Name-ontonotes\"]\n",
    "recordC_GPE_onto=recordC_ent[\"GPE-ontonotes\"]\n",
    "recordC_ORG_onto=recordC_ent[\"ORG-ontonotes\"]\n",
    "recordC_date_onto=recordC_ent[\"standard_date-ontonotes\"]\n",
    "recordC_loc_onto=recordC_ent[\"LOC-ontonotes\"]"
   ]
  },
  {
   "cell_type": "code",
   "execution_count": 92,
   "id": "af5ce4b1",
   "metadata": {
    "execution": {
     "iopub.execute_input": "2022-06-29T11:32:54.516906Z",
     "iopub.status.busy": "2022-06-29T11:32:54.516235Z",
     "iopub.status.idle": "2022-06-29T11:32:54.525477Z",
     "shell.execute_reply": "2022-06-29T11:32:54.524029Z"
    },
    "papermill": {
     "duration": 0.052919,
     "end_time": "2022-06-29T11:32:54.528098",
     "exception": false,
     "start_time": "2022-06-29T11:32:54.475179",
     "status": "completed"
    },
    "tags": []
   },
   "outputs": [
    {
     "data": {
      "text/plain": [
       "'one hundred dollars . I never heard Bagby complain heard say dared Mr Richardson whip W.M . Henry Signed sealed sworn , March 19th 1866 . H.H . Holton J . Peace Edward Homer sworn saith never saw knew of Mr Richardsons whipping correcting said Bagby , good reason prudence demanded chastisement , proper manner , never bodily injured , caused ly stop labor , eating , correction Mr Edward Horner seal Sworn subscribed March 19 1866 H.H . Holton Examines Court Mathew Baldwin sworn saith heard Bagly speak of contract Mr Richardson expressed satisfied I advised good trade contract , never complained of treatment , said well treated When asked anything got , goes well dressed frequently comes perhaps goes anywhere else . I know of one better treated , Mathew x mark Baldwin H.H . Holton'"
      ]
     },
     "execution_count": 92,
     "metadata": {},
     "output_type": "execute_result"
    }
   ],
   "source": [
    "recordC_text[0]"
   ]
  },
  {
   "cell_type": "code",
   "execution_count": 93,
   "id": "6de00eca",
   "metadata": {
    "execution": {
     "iopub.execute_input": "2022-06-29T11:32:54.613012Z",
     "iopub.status.busy": "2022-06-29T11:32:54.612560Z",
     "iopub.status.idle": "2022-06-29T11:32:54.621438Z",
     "shell.execute_reply": "2022-06-29T11:32:54.620114Z"
    },
    "papermill": {
     "duration": 0.053996,
     "end_time": "2022-06-29T11:32:54.623806",
     "exception": false,
     "start_time": "2022-06-29T11:32:54.569810",
     "status": "completed"
    },
    "tags": []
   },
   "outputs": [
    {
     "data": {
      "text/plain": [
       "'[]'"
      ]
     },
     "execution_count": 93,
     "metadata": {},
     "output_type": "execute_result"
    }
   ],
   "source": [
    "recordC_loc_onto[0]"
   ]
  },
  {
   "cell_type": "code",
   "execution_count": 94,
   "id": "4c5e5fbe",
   "metadata": {
    "execution": {
     "iopub.execute_input": "2022-06-29T11:32:54.709774Z",
     "iopub.status.busy": "2022-06-29T11:32:54.708788Z",
     "iopub.status.idle": "2022-06-29T11:32:54.714742Z",
     "shell.execute_reply": "2022-06-29T11:32:54.713995Z"
    },
    "papermill": {
     "duration": 0.052231,
     "end_time": "2022-06-29T11:32:54.716867",
     "exception": false,
     "start_time": "2022-06-29T11:32:54.664636",
     "status": "completed"
    },
    "tags": []
   },
   "outputs": [
    {
     "data": {
      "text/plain": [
       "\"['19-March-1866', '19-March-1866']\""
      ]
     },
     "execution_count": 94,
     "metadata": {},
     "output_type": "execute_result"
    }
   ],
   "source": [
    "recordC_date_onto[0]"
   ]
  },
  {
   "cell_type": "code",
   "execution_count": 95,
   "id": "b5d2e10e",
   "metadata": {
    "execution": {
     "iopub.execute_input": "2022-06-29T11:32:54.805198Z",
     "iopub.status.busy": "2022-06-29T11:32:54.804031Z",
     "iopub.status.idle": "2022-06-29T11:32:54.810649Z",
     "shell.execute_reply": "2022-06-29T11:32:54.809806Z"
    },
    "papermill": {
     "duration": 0.053996,
     "end_time": "2022-06-29T11:32:54.812775",
     "exception": false,
     "start_time": "2022-06-29T11:32:54.758779",
     "status": "completed"
    },
    "tags": []
   },
   "outputs": [
    {
     "data": {
      "text/plain": [
       "'[]'"
      ]
     },
     "execution_count": 95,
     "metadata": {},
     "output_type": "execute_result"
    }
   ],
   "source": [
    "recordC_GPE_onto[0]"
   ]
  },
  {
   "cell_type": "code",
   "execution_count": 96,
   "id": "b7e16146",
   "metadata": {
    "execution": {
     "iopub.execute_input": "2022-06-29T11:32:54.900577Z",
     "iopub.status.busy": "2022-06-29T11:32:54.899220Z",
     "iopub.status.idle": "2022-06-29T11:32:54.906580Z",
     "shell.execute_reply": "2022-06-29T11:32:54.905268Z"
    },
    "papermill": {
     "duration": 0.053708,
     "end_time": "2022-06-29T11:32:54.909330",
     "exception": false,
     "start_time": "2022-06-29T11:32:54.855622",
     "status": "completed"
    },
    "tags": []
   },
   "outputs": [
    {
     "data": {
      "text/plain": [
       "'[]'"
      ]
     },
     "execution_count": 96,
     "metadata": {},
     "output_type": "execute_result"
    }
   ],
   "source": [
    "recordC_ORG_onto[0]"
   ]
  },
  {
   "cell_type": "code",
   "execution_count": 97,
   "id": "75b5fd36",
   "metadata": {
    "execution": {
     "iopub.execute_input": "2022-06-29T11:32:54.996335Z",
     "iopub.status.busy": "2022-06-29T11:32:54.995974Z",
     "iopub.status.idle": "2022-06-29T11:32:55.003015Z",
     "shell.execute_reply": "2022-06-29T11:32:55.001492Z"
    },
    "papermill": {
     "duration": 0.057598,
     "end_time": "2022-06-29T11:32:55.008618",
     "exception": false,
     "start_time": "2022-06-29T11:32:54.951020",
     "status": "completed"
    },
    "tags": []
   },
   "outputs": [
    {
     "data": {
      "text/plain": [
       "\"['Bagby', 'Richardson', 'W.M . Henry', 'H.H . Holton', 'Edward Homer', 'Richardsons', 'Edward Horner', 'Mathew Baldwin', 'Bagly', 'Mathew']\""
      ]
     },
     "execution_count": 97,
     "metadata": {},
     "output_type": "execute_result"
    }
   ],
   "source": [
    "recordC_Per_onto[0]"
   ]
  },
  {
   "cell_type": "code",
   "execution_count": null,
   "id": "d0bf60a3",
   "metadata": {
    "papermill": {
     "duration": 0.041059,
     "end_time": "2022-06-29T11:32:55.092257",
     "exception": false,
     "start_time": "2022-06-29T11:32:55.051198",
     "status": "completed"
    },
    "tags": []
   },
   "outputs": [],
   "source": []
  }
 ],
 "metadata": {
  "kernelspec": {
   "display_name": "Python 3",
   "language": "python",
   "name": "python3"
  },
  "language_info": {
   "codemirror_mode": {
    "name": "ipython",
    "version": 3
   },
   "file_extension": ".py",
   "mimetype": "text/x-python",
   "name": "python",
   "nbconvert_exporter": "python",
   "pygments_lexer": "ipython3",
   "version": "3.7.12"
  },
  "papermill": {
   "default_parameters": {},
   "duration": 42.966743,
   "end_time": "2022-06-29T11:32:58.273909",
   "environment_variables": {},
   "exception": null,
   "input_path": "__notebook__.ipynb",
   "output_path": "__notebook__.ipynb",
   "parameters": {},
   "start_time": "2022-06-29T11:32:15.307166",
   "version": "2.3.4"
  }
 },
 "nbformat": 4,
 "nbformat_minor": 5
}
