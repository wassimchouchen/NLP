{
 "cells": [
  {
   "cell_type": "code",
   "execution_count": 1,
   "id": "5bbd1d6a",
   "metadata": {
    "_cell_guid": "b1076dfc-b9ad-4769-8c92-a6c4dae69d19",
    "_uuid": "8f2839f25d086af736a60e9eeb907d3b93b6e0e5",
    "execution": {
     "iopub.execute_input": "2022-06-29T10:40:29.321364Z",
     "iopub.status.busy": "2022-06-29T10:40:29.320368Z",
     "iopub.status.idle": "2022-06-29T10:40:40.573240Z",
     "shell.execute_reply": "2022-06-29T10:40:40.572205Z"
    },
    "papermill": {
     "duration": 11.287082,
     "end_time": "2022-06-29T10:40:40.575937",
     "exception": false,
     "start_time": "2022-06-29T10:40:29.288855",
     "status": "completed"
    },
    "tags": []
   },
   "outputs": [],
   "source": [
    "import numpy as np\n",
    "import pandas as pd \n",
    "import seaborn as sns\n",
    "import matplotlib.pyplot as plt \n",
    "import matplotlib.style as stl \n",
    "from tensorflow import keras \n",
    "from keras.preprocessing.text import Tokenizer\n",
    "from nltk.corpus import stopwords\n",
    "import string\n",
    "from tensorflow.keras.models import Sequential,Model\n",
    "from tensorflow.keras.layers import Dense, LSTM, Embedding,Dropout,SpatialDropout1D,Conv1D,MaxPooling1D,GRU,BatchNormalization\n",
    "import warnings\n",
    "warnings.filterwarnings('ignore')\n",
    "stl.use('ggplot')\n",
    "from tqdm import tqdm\n",
    "import string\n",
    "from nltk.corpus import stopwords\n",
    "from nltk.tokenize import word_tokenize\n",
    "from nltk.stem import WordNetLemmatizer\n",
    "from nltk.stem.snowball import SnowballStemmer\n",
    "import regex as re\n",
    "import time\n",
    "import pickle"
   ]
  },
  {
   "cell_type": "code",
   "execution_count": 2,
   "id": "ca6309f0",
   "metadata": {
    "execution": {
     "iopub.execute_input": "2022-06-29T10:40:40.629503Z",
     "iopub.status.busy": "2022-06-29T10:40:40.628857Z",
     "iopub.status.idle": "2022-06-29T10:40:40.941045Z",
     "shell.execute_reply": "2022-06-29T10:40:40.939960Z"
    },
    "papermill": {
     "duration": 0.341969,
     "end_time": "2022-06-29T10:40:40.943792",
     "exception": false,
     "start_time": "2022-06-29T10:40:40.601823",
     "status": "completed"
    },
    "tags": []
   },
   "outputs": [],
   "source": [
    "index_ent=pd.read_csv(\"../input/all-csv/index_df (1).csv\")"
   ]
  },
  {
   "cell_type": "code",
   "execution_count": 3,
   "id": "83f290ac",
   "metadata": {
    "execution": {
     "iopub.execute_input": "2022-06-29T10:40:40.999399Z",
     "iopub.status.busy": "2022-06-29T10:40:40.998341Z",
     "iopub.status.idle": "2022-06-29T10:40:41.020854Z",
     "shell.execute_reply": "2022-06-29T10:40:41.019596Z"
    },
    "papermill": {
     "duration": 0.053539,
     "end_time": "2022-06-29T10:40:41.023820",
     "exception": false,
     "start_time": "2022-06-29T10:40:40.970281",
     "status": "completed"
    },
    "tags": []
   },
   "outputs": [
    {
     "data": {
      "text/html": [
       "<div>\n",
       "<style scoped>\n",
       "    .dataframe tbody tr th:only-of-type {\n",
       "        vertical-align: middle;\n",
       "    }\n",
       "\n",
       "    .dataframe tbody tr th {\n",
       "        vertical-align: top;\n",
       "    }\n",
       "\n",
       "    .dataframe thead th {\n",
       "        text-align: right;\n",
       "    }\n",
       "</style>\n",
       "<table border=\"1\" class=\"dataframe\">\n",
       "  <thead>\n",
       "    <tr style=\"text-align: right;\">\n",
       "      <th></th>\n",
       "      <th>index_text</th>\n",
       "      <th>PERSON-nerenglarge</th>\n",
       "      <th>LOC-nerenglarge</th>\n",
       "      <th>ORG-nerenglarge</th>\n",
       "      <th>text</th>\n",
       "    </tr>\n",
       "  </thead>\n",
       "  <tbody>\n",
       "    <tr>\n",
       "      <th>0</th>\n",
       "      <td>NAME INDEX TO VOLUME 7 OF LETTERS SENT , JULY ...</td>\n",
       "      <td>['Abbott', 'Lyman', 'Adams', 'John Q', 'Allen'...</td>\n",
       "      <td>[]</td>\n",
       "      <td>[]</td>\n",
       "      <td>NAME INDEX TO VOLUME 7 OF LETTERS SENT , JULY ...</td>\n",
       "    </tr>\n",
       "    <tr>\n",
       "      <th>1</th>\n",
       "      <td>Boyd , J. F. Col. 19 , 41 Boyden , James 116 B...</td>\n",
       "      <td>['Boyd', 'J. F. Col.', 'Boyden', 'James', 'Bra...</td>\n",
       "      <td>[]</td>\n",
       "      <td>['Henry Corp']</td>\n",
       "      <td>Boyd , J. F. Col. 19 , 41 Boyden , James 116 B...</td>\n",
       "    </tr>\n",
       "    <tr>\n",
       "      <th>2</th>\n",
       "      <td>Chur , J. F. Capt . 139 Cilley , Clinton A. Ma...</td>\n",
       "      <td>['Chur', 'J. F.', 'Cilley', 'Clinton A. Maj', ...</td>\n",
       "      <td>[]</td>\n",
       "      <td>['Citizens']</td>\n",
       "      <td>Chur , J. F. Capt . 139 Cilley , Clinton A. Ma...</td>\n",
       "    </tr>\n",
       "    <tr>\n",
       "      <th>3</th>\n",
       "      <td>Elijah 176 Eliza 172 Emery , Charles Capt . 3 ...</td>\n",
       "      <td>['Elijah', 'Eliza', 'Emery', 'Charles', 'Edwin...</td>\n",
       "      <td>[]</td>\n",
       "      <td>[]</td>\n",
       "      <td>Elijah 176 Eliza 172 Emery , Charles Capt . 3 ...</td>\n",
       "    </tr>\n",
       "    <tr>\n",
       "      <th>4</th>\n",
       "      <td>Hale , Capt . 51 Hambrich , P.R . Capt . 9 Han...</td>\n",
       "      <td>['Hale', 'Hambrich', 'Hand', 'Harkness', 'E.J'...</td>\n",
       "      <td>['N.C']</td>\n",
       "      <td>[]</td>\n",
       "      <td>Hale , Capt . 51 Hambrich , P.R . Capt . 9 Han...</td>\n",
       "    </tr>\n",
       "  </tbody>\n",
       "</table>\n",
       "</div>"
      ],
      "text/plain": [
       "                                          index_text  \\\n",
       "0  NAME INDEX TO VOLUME 7 OF LETTERS SENT , JULY ...   \n",
       "1  Boyd , J. F. Col. 19 , 41 Boyden , James 116 B...   \n",
       "2  Chur , J. F. Capt . 139 Cilley , Clinton A. Ma...   \n",
       "3  Elijah 176 Eliza 172 Emery , Charles Capt . 3 ...   \n",
       "4  Hale , Capt . 51 Hambrich , P.R . Capt . 9 Han...   \n",
       "\n",
       "                                  PERSON-nerenglarge LOC-nerenglarge  \\\n",
       "0  ['Abbott', 'Lyman', 'Adams', 'John Q', 'Allen'...              []   \n",
       "1  ['Boyd', 'J. F. Col.', 'Boyden', 'James', 'Bra...              []   \n",
       "2  ['Chur', 'J. F.', 'Cilley', 'Clinton A. Maj', ...              []   \n",
       "3  ['Elijah', 'Eliza', 'Emery', 'Charles', 'Edwin...              []   \n",
       "4  ['Hale', 'Hambrich', 'Hand', 'Harkness', 'E.J'...         ['N.C']   \n",
       "\n",
       "  ORG-nerenglarge                                               text  \n",
       "0              []  NAME INDEX TO VOLUME 7 OF LETTERS SENT , JULY ...  \n",
       "1  ['Henry Corp']  Boyd , J. F. Col. 19 , 41 Boyden , James 116 B...  \n",
       "2    ['Citizens']  Chur , J. F. Capt . 139 Cilley , Clinton A. Ma...  \n",
       "3              []  Elijah 176 Eliza 172 Emery , Charles Capt . 3 ...  \n",
       "4              []  Hale , Capt . 51 Hambrich , P.R . Capt . 9 Han...  "
      ]
     },
     "execution_count": 3,
     "metadata": {},
     "output_type": "execute_result"
    }
   ],
   "source": [
    "index_ent.head()"
   ]
  },
  {
   "cell_type": "code",
   "execution_count": 4,
   "id": "0964da1c",
   "metadata": {
    "execution": {
     "iopub.execute_input": "2022-06-29T10:40:41.078613Z",
     "iopub.status.busy": "2022-06-29T10:40:41.077910Z",
     "iopub.status.idle": "2022-06-29T10:40:41.086625Z",
     "shell.execute_reply": "2022-06-29T10:40:41.085759Z"
    },
    "papermill": {
     "duration": 0.038725,
     "end_time": "2022-06-29T10:40:41.088955",
     "exception": false,
     "start_time": "2022-06-29T10:40:41.050230",
     "status": "completed"
    },
    "tags": []
   },
   "outputs": [],
   "source": [
    "index_text=index_ent[\"index_text\"]\n",
    "index_names=index_ent[\"PERSON-nerenglarge\"]\n",
    "index_loc=index_ent[\"LOC-nerenglarge\"]\n",
    "index_org=index_ent[\"ORG-nerenglarge\"]"
   ]
  },
  {
   "cell_type": "code",
   "execution_count": 5,
   "id": "232b7efa",
   "metadata": {
    "execution": {
     "iopub.execute_input": "2022-06-29T10:40:41.142838Z",
     "iopub.status.busy": "2022-06-29T10:40:41.142090Z",
     "iopub.status.idle": "2022-06-29T10:40:41.147745Z",
     "shell.execute_reply": "2022-06-29T10:40:41.146968Z"
    },
    "papermill": {
     "duration": 0.034997,
     "end_time": "2022-06-29T10:40:41.149839",
     "exception": false,
     "start_time": "2022-06-29T10:40:41.114842",
     "status": "completed"
    },
    "tags": []
   },
   "outputs": [
    {
     "data": {
      "text/plain": [
       "'1865 . London Manger 14 . London Sarah E 16 . Lippett John E 18 . Lippett W.H 18 . 23 . 33 . Laslo J.G 19 . Lehman R.F 20 . 44 . Lecraft Mary 21 . Lazarus Julia 22 . Lippett W. 23 . 33 . Lecraft Benjamin 36 . 59 . Lewis K.H 30 . Lewis W.F 30 . Levy T.J. 31 . Lane H.B 37 . Leach J A 40 . 45 . Leavy J.P 50 . Lord Fredk 52 . Littlejohn W.H 53 . Leigh J.W 66 . Low T.B 66 .'"
      ]
     },
     "execution_count": 5,
     "metadata": {},
     "output_type": "execute_result"
    }
   ],
   "source": [
    "index_text[150]"
   ]
  },
  {
   "cell_type": "code",
   "execution_count": 6,
   "id": "1fbbce3d",
   "metadata": {
    "execution": {
     "iopub.execute_input": "2022-06-29T10:40:41.204226Z",
     "iopub.status.busy": "2022-06-29T10:40:41.203836Z",
     "iopub.status.idle": "2022-06-29T10:40:41.210487Z",
     "shell.execute_reply": "2022-06-29T10:40:41.209306Z"
    },
    "papermill": {
     "duration": 0.036964,
     "end_time": "2022-06-29T10:40:41.212677",
     "exception": false,
     "start_time": "2022-06-29T10:40:41.175713",
     "status": "completed"
    },
    "tags": []
   },
   "outputs": [
    {
     "data": {
      "text/plain": [
       "\"['London Sarah E', 'Lippett John E', 'Lippett W.H', 'Lehman R.F', 'Lazarus Julia', 'Lippett W', 'Lecraft Benjamin', 'Lewis K.H', 'Lewis W.F', 'Levy T.J', 'Lane H.B', 'Leach J A', 'Leavy J.P', 'Lord Fredk', 'Littlejohn W.H', 'Leigh J.W', 'Low T.B']\""
      ]
     },
     "execution_count": 6,
     "metadata": {},
     "output_type": "execute_result"
    }
   ],
   "source": [
    "index_names[150]"
   ]
  },
  {
   "cell_type": "code",
   "execution_count": 7,
   "id": "e0e22027",
   "metadata": {
    "execution": {
     "iopub.execute_input": "2022-06-29T10:40:41.267766Z",
     "iopub.status.busy": "2022-06-29T10:40:41.267041Z",
     "iopub.status.idle": "2022-06-29T10:40:41.273607Z",
     "shell.execute_reply": "2022-06-29T10:40:41.272897Z"
    },
    "papermill": {
     "duration": 0.036933,
     "end_time": "2022-06-29T10:40:41.275650",
     "exception": false,
     "start_time": "2022-06-29T10:40:41.238717",
     "status": "completed"
    },
    "tags": []
   },
   "outputs": [
    {
     "data": {
      "text/plain": [
       "'298 WHEN RECEIVED . NAME OF WRITER . DATE AND PURPORT OF LETTER . 299 WHEN RECEIVED . NAME OF WRITER . DATE AND PURPORT OF LETTER . 1.3.70 . 1 Missions , Presby Home . Rev . E. F. Hatfield Secretary per . W. T. M. New York City. , Dec. 30th 1869 . States reply , Mr. Swan , teacher due three months salary , 60 withheld case regard purchase of books investigated . 1.8.70 . 2 Moss , R. C. Teacher . Bladensburg , Md . Jany 6th 1870 . States 81 70100 still due School house lot : names of trustees Darius Bowman , Uriah Wallace , Davis Greenleaf , Cyrus Johnston . 1 , 13 , 70 3 Morris Susan , Teacher . Poolsville , Montgomery Co. Md . January 3 , 1870 . Requests check amount due sent Mr. Adams . 1 , 17 , 70 4 Miller Lewis E. Teacher Lewistown , Frederick Co. Md . Pock Mark Jany 15th 70 , States opening of school Lewistown , forwards compliance instructions Baltimore Association . Will report , instructed report made . 1 , 18 , 70 , 5 Moses Rebecca , Teacher Point of Rocks , Fdk . Co. Md . P. M. Jany 17 , 70 Desires sent six Primary Geographies bill . 1 , 21 , 70 6 Moss R. C. Teacher Bladensburg , Prince Georges Co. Md . Acknowledges receipt of check 15.00'"
      ]
     },
     "execution_count": 7,
     "metadata": {},
     "output_type": "execute_result"
    }
   ],
   "source": [
    "index_text[1500]"
   ]
  },
  {
   "cell_type": "code",
   "execution_count": 8,
   "id": "4195a3f9",
   "metadata": {
    "execution": {
     "iopub.execute_input": "2022-06-29T10:40:41.331803Z",
     "iopub.status.busy": "2022-06-29T10:40:41.331098Z",
     "iopub.status.idle": "2022-06-29T10:40:41.337872Z",
     "shell.execute_reply": "2022-06-29T10:40:41.336837Z"
    },
    "papermill": {
     "duration": 0.037423,
     "end_time": "2022-06-29T10:40:41.340195",
     "exception": false,
     "start_time": "2022-06-29T10:40:41.302772",
     "status": "completed"
    },
    "tags": []
   },
   "outputs": [
    {
     "data": {
      "text/plain": [
       "\"['E. F. Hatfield', 'Swan', 'Darius Bowman', 'Uriah Wallace', 'Davis Greenleaf', 'Cyrus Johnston', 'Morris Susan', 'Miller Lewis E.', 'Pock Mark', 'Moses Rebecca', 'Moss R', 'C.']\""
      ]
     },
     "execution_count": 8,
     "metadata": {},
     "output_type": "execute_result"
    }
   ],
   "source": [
    "index_names[1500]"
   ]
  },
  {
   "cell_type": "code",
   "execution_count": 9,
   "id": "b04b6dec",
   "metadata": {
    "execution": {
     "iopub.execute_input": "2022-06-29T10:40:41.395177Z",
     "iopub.status.busy": "2022-06-29T10:40:41.394445Z",
     "iopub.status.idle": "2022-06-29T10:40:41.400121Z",
     "shell.execute_reply": "2022-06-29T10:40:41.399282Z"
    },
    "papermill": {
     "duration": 0.035504,
     "end_time": "2022-06-29T10:40:41.402125",
     "exception": false,
     "start_time": "2022-06-29T10:40:41.366621",
     "status": "completed"
    },
    "tags": []
   },
   "outputs": [
    {
     "data": {
      "text/plain": [
       "'Jenny 90 . Johnson Richard 10 Jones Andrew 12 Johnston Thos . P. A.N.U . 16 , 20 , 75 Jordan Alice 37 , 53 Jordan Vina 51 , 54 , 55 Johnston Tho.P . A.N.U . 65 , 74 95 , 169 , 199 , 200 , 204 , 205 , 281 Johnston Hugh 107 , 146 Jane 129 Jennings Mr 184 , 185 Johnston David 219 Johnson Leah 228 Jeremia Parthe 253'"
      ]
     },
     "execution_count": 9,
     "metadata": {},
     "output_type": "execute_result"
    }
   ],
   "source": [
    "index_text[5000]"
   ]
  },
  {
   "cell_type": "code",
   "execution_count": 10,
   "id": "bf7fddef",
   "metadata": {
    "execution": {
     "iopub.execute_input": "2022-06-29T10:40:41.457241Z",
     "iopub.status.busy": "2022-06-29T10:40:41.456460Z",
     "iopub.status.idle": "2022-06-29T10:40:41.463047Z",
     "shell.execute_reply": "2022-06-29T10:40:41.462239Z"
    },
    "papermill": {
     "duration": 0.03632,
     "end_time": "2022-06-29T10:40:41.465163",
     "exception": false,
     "start_time": "2022-06-29T10:40:41.428843",
     "status": "completed"
    },
    "tags": []
   },
   "outputs": [
    {
     "data": {
      "text/plain": [
       "\"['Johnson Richard', 'Jones Andrew', 'Johnston Thos', 'Jordan Alice', 'Jordan Vina', 'Johnston Hugh', 'Jane', 'Jennings Mr', 'Johnston David', 'Johnson Leah', 'Jeremia Parthe']\""
      ]
     },
     "execution_count": 10,
     "metadata": {},
     "output_type": "execute_result"
    }
   ],
   "source": [
    "index_names[5000]"
   ]
  },
  {
   "cell_type": "code",
   "execution_count": 11,
   "id": "79c573a2",
   "metadata": {
    "execution": {
     "iopub.execute_input": "2022-06-29T10:40:41.520304Z",
     "iopub.status.busy": "2022-06-29T10:40:41.519600Z",
     "iopub.status.idle": "2022-06-29T10:40:41.527756Z",
     "shell.execute_reply": "2022-06-29T10:40:41.526902Z"
    },
    "papermill": {
     "duration": 0.038158,
     "end_time": "2022-06-29T10:40:41.529947",
     "exception": false,
     "start_time": "2022-06-29T10:40:41.491789",
     "status": "completed"
    },
    "tags": []
   },
   "outputs": [
    {
     "data": {
      "text/plain": [
       "0       ['Abbott', 'Lyman', 'Adams', 'John Q', 'Allen'...\n",
       "1       ['Boyd', 'J. F. Col.', 'Boyden', 'James', 'Bra...\n",
       "2       ['Chur', 'J. F.', 'Cilley', 'Clinton A. Maj', ...\n",
       "3       ['Elijah', 'Eliza', 'Emery', 'Charles', 'Edwin...\n",
       "4       ['Hale', 'Hambrich', 'Hand', 'Harkness', 'E.J'...\n",
       "                              ...                        \n",
       "5417                                                   []\n",
       "5418    ['Wm . F. Richardson', 'Hattie M. Richardson',...\n",
       "5419    ['Hattie L. Newcomb', 'Mutch Opelika', 'Thomas...\n",
       "5420    ['Mutch Opelika', 'Thomas H. Whitly', 'Emma A ...\n",
       "5421    ['James Nichols Stevenson', 'O . M. Waring', '...\n",
       "Name: PERSON-nerenglarge, Length: 5422, dtype: object"
      ]
     },
     "execution_count": 11,
     "metadata": {},
     "output_type": "execute_result"
    }
   ],
   "source": [
    "index_names"
   ]
  },
  {
   "cell_type": "code",
   "execution_count": 12,
   "id": "43729aa6",
   "metadata": {
    "execution": {
     "iopub.execute_input": "2022-06-29T10:40:41.585690Z",
     "iopub.status.busy": "2022-06-29T10:40:41.585005Z",
     "iopub.status.idle": "2022-06-29T10:40:41.753288Z",
     "shell.execute_reply": "2022-06-29T10:40:41.752185Z"
    },
    "papermill": {
     "duration": 0.199804,
     "end_time": "2022-06-29T10:40:41.756761",
     "exception": false,
     "start_time": "2022-06-29T10:40:41.556957",
     "status": "completed"
    },
    "tags": []
   },
   "outputs": [
    {
     "data": {
      "text/plain": [
       "(1298703, 0)"
      ]
     },
     "execution_count": 12,
     "metadata": {},
     "output_type": "execute_result"
    }
   ],
   "source": [
    "PL=[]\n",
    "empty=0\n",
    "for i in index_names:\n",
    "    for j in i:\n",
    "        PL.append(j)\n",
    "for i in index_names:\n",
    "    if i==[]:\n",
    "        empty=empty+1\n",
    "len(PL), empty"
   ]
  },
  {
   "cell_type": "markdown",
   "id": "6cfb24ea",
   "metadata": {
    "papermill": {
     "duration": 0.027103,
     "end_time": "2022-06-29T10:40:41.820120",
     "exception": false,
     "start_time": "2022-06-29T10:40:41.793017",
     "status": "completed"
    },
    "tags": []
   },
   "source": [
    "# Names from Index are Perfect "
   ]
  },
  {
   "cell_type": "markdown",
   "id": "3897f5f6",
   "metadata": {
    "papermill": {
     "duration": 0.026711,
     "end_time": "2022-06-29T10:40:41.874785",
     "exception": false,
     "start_time": "2022-06-29T10:40:41.848074",
     "status": "completed"
    },
    "tags": []
   },
   "source": [
    "****"
   ]
  },
  {
   "cell_type": "markdown",
   "id": "1fb8e91b",
   "metadata": {
    "papermill": {
     "duration": 0.026848,
     "end_time": "2022-06-29T10:40:41.928784",
     "exception": false,
     "start_time": "2022-06-29T10:40:41.901936",
     "status": "completed"
    },
    "tags": []
   },
   "source": [
    "# Order ontonotes"
   ]
  },
  {
   "cell_type": "code",
   "execution_count": 13,
   "id": "0b76a260",
   "metadata": {
    "execution": {
     "iopub.execute_input": "2022-06-29T10:40:41.984235Z",
     "iopub.status.busy": "2022-06-29T10:40:41.983534Z",
     "iopub.status.idle": "2022-06-29T10:40:42.275690Z",
     "shell.execute_reply": "2022-06-29T10:40:42.274570Z"
    },
    "papermill": {
     "duration": 0.323006,
     "end_time": "2022-06-29T10:40:42.278459",
     "exception": false,
     "start_time": "2022-06-29T10:40:41.955453",
     "status": "completed"
    },
    "tags": []
   },
   "outputs": [],
   "source": [
    "order_ent=pd.read_csv(\"../input/all-csv/to_compare_result_order.csv\")"
   ]
  },
  {
   "cell_type": "code",
   "execution_count": 14,
   "id": "62d7ad6f",
   "metadata": {
    "execution": {
     "iopub.execute_input": "2022-06-29T10:40:42.334211Z",
     "iopub.status.busy": "2022-06-29T10:40:42.333542Z",
     "iopub.status.idle": "2022-06-29T10:40:42.355085Z",
     "shell.execute_reply": "2022-06-29T10:40:42.353881Z"
    },
    "papermill": {
     "duration": 0.051891,
     "end_time": "2022-06-29T10:40:42.357463",
     "exception": false,
     "start_time": "2022-06-29T10:40:42.305572",
     "status": "completed"
    },
    "tags": []
   },
   "outputs": [
    {
     "data": {
      "text/html": [
       "<div>\n",
       "<style scoped>\n",
       "    .dataframe tbody tr th:only-of-type {\n",
       "        vertical-align: middle;\n",
       "    }\n",
       "\n",
       "    .dataframe tbody tr th {\n",
       "        vertical-align: top;\n",
       "    }\n",
       "\n",
       "    .dataframe thead th {\n",
       "        text-align: right;\n",
       "    }\n",
       "</style>\n",
       "<table border=\"1\" class=\"dataframe\">\n",
       "  <thead>\n",
       "    <tr style=\"text-align: right;\">\n",
       "      <th></th>\n",
       "      <th>order_text</th>\n",
       "      <th>PERSON-ontonotes</th>\n",
       "      <th>GPE-ontonotes</th>\n",
       "      <th>ORG-ontonotes</th>\n",
       "      <th>Date-ontonotes</th>\n",
       "      <th>LOC-ontonotes</th>\n",
       "      <th>Building-ontonotes</th>\n",
       "      <th>postDate-ontonotes</th>\n",
       "      <th>standard_date-ontonotes</th>\n",
       "      <th>PERSON-nerenglarge</th>\n",
       "      <th>LOC-nerenglarge</th>\n",
       "      <th>ORG-nerenglarge</th>\n",
       "      <th>other_namelarge</th>\n",
       "      <th>PERSON-nerenglish</th>\n",
       "      <th>LOC-nerenglish</th>\n",
       "      <th>ORG-nerenglish</th>\n",
       "      <th>Other_name-nerenglish</th>\n",
       "    </tr>\n",
       "  </thead>\n",
       "  <tbody>\n",
       "    <tr>\n",
       "      <th>0</th>\n",
       "      <td>R G. R.R . THIS ORDER NOT TRANSFERABLE . U.S. ...</td>\n",
       "      <td>['E . Cranford', 'Lewis B. Parsons', 'Major Kn...</td>\n",
       "      <td>['Raleigh N.C', 'Warrenton N.C', 'New York']</td>\n",
       "      <td>['Samuel Gale Co .']</td>\n",
       "      <td>['Aug 6 1866', 'Aug 1866']</td>\n",
       "      <td>[]</td>\n",
       "      <td>['67487']</td>\n",
       "      <td>['6-Aug-1866']</td>\n",
       "      <td>['6-August-1866']</td>\n",
       "      <td>['Cranford', 'Lewis B. Parsons', 'Gaston R.R']</td>\n",
       "      <td>['U.S.', 'Raleigh N.C', 'Warrenton N.C', 'Rale...</td>\n",
       "      <td>['Samuel Gale Co', 'Regiment Freedman', 'Rail ...</td>\n",
       "      <td>[]</td>\n",
       "      <td>[]</td>\n",
       "      <td>['Ral', 'Gaston R.R', 'Raleigh N.C.', 'Broadwa...</td>\n",
       "      <td>['Cranford']</td>\n",
       "      <td>[]</td>\n",
       "    </tr>\n",
       "    <tr>\n",
       "      <th>1</th>\n",
       "      <td>Certified Copy of Order , Extract , within tra...</td>\n",
       "      <td>['E. Crawford']</td>\n",
       "      <td>['Raleigh N.C']</td>\n",
       "      <td>[]</td>\n",
       "      <td>['Aug 6 1866']</td>\n",
       "      <td>[]</td>\n",
       "      <td>[]</td>\n",
       "      <td>['6-Aug-1866']</td>\n",
       "      <td>['6-August-1866']</td>\n",
       "      <td>['Robinson Clinton', 'E. Crawford']</td>\n",
       "      <td>['Raleigh N.C']</td>\n",
       "      <td>[]</td>\n",
       "      <td>[]</td>\n",
       "      <td>[]</td>\n",
       "      <td>[]</td>\n",
       "      <td>[]</td>\n",
       "      <td>[]</td>\n",
       "    </tr>\n",
       "    <tr>\n",
       "      <th>2</th>\n",
       "      <td>Bureau of Refugees , Freedmen Abandoned Lands ...</td>\n",
       "      <td>['KELLEY', 'EDWARD McPHERSON', 'JONATHAN WORTH']</td>\n",
       "      <td>['Raleigh', 'N.C.', 'United States', 'Alabama'...</td>\n",
       "      <td>['Bureau of Refugees', 'House of Representativ...</td>\n",
       "      <td>['May 8th , 1866', 'May 1 , 1866', '1st']</td>\n",
       "      <td>[]</td>\n",
       "      <td>['2d', 'III']</td>\n",
       "      <td>['8-May-1866', '1-May-1866']</td>\n",
       "      <td>['8-May-1866', '1-May-1866']</td>\n",
       "      <td>['KELLEY', 'EDWARD McPHERSON', 'E. WHITTLESEY'...</td>\n",
       "      <td>['State of North Carolina', 'Raleigh', 'N.C.',...</td>\n",
       "      <td>['Bureau of Refugees , Freedmen Abandoned Land...</td>\n",
       "      <td>[]</td>\n",
       "      <td>['JONATHAN WORTH']</td>\n",
       "      <td>['Raleigh', 'N.C.', 'United States', 'Alabama'...</td>\n",
       "      <td>['Officers Agents of Bureau', 'House of Repres...</td>\n",
       "      <td>[]</td>\n",
       "    </tr>\n",
       "    <tr>\n",
       "      <th>3</th>\n",
       "      <td>HEADQUARTERS DEPARTMENT OF NORTH CAROLINA , Ra...</td>\n",
       "      <td>['Joseph E. Johnston']</td>\n",
       "      <td>['Raleigh', 'North Carolina']</td>\n",
       "      <td>['HEADQUARTERS DEPARTMENT OF NORTH CAROLINA', ...</td>\n",
       "      <td>['January 12th , 1866']</td>\n",
       "      <td>[]</td>\n",
       "      <td>['4', 'II', 'III']</td>\n",
       "      <td>['12-January-1866']</td>\n",
       "      <td>['12-January-1866']</td>\n",
       "      <td>['Joseph E. Johnston']</td>\n",
       "      <td>['NORTH CAROLINA', 'Raleigh', 'North Carolina'...</td>\n",
       "      <td>['Government']</td>\n",
       "      <td>[]</td>\n",
       "      <td>['Joseph E. Johnston']</td>\n",
       "      <td>['NORTH CAROLINA', 'Raleigh', 'North Carolina']</td>\n",
       "      <td>[]</td>\n",
       "      <td>[]</td>\n",
       "    </tr>\n",
       "    <tr>\n",
       "      <th>4</th>\n",
       "      <td>IV . Animals sold counties collected unless wo...</td>\n",
       "      <td>['J A . Campbell', 'James H Anderson']</td>\n",
       "      <td>['U.S.']</td>\n",
       "      <td>['Headquarters', 'Government']</td>\n",
       "      <td>['first day of February , proximo']</td>\n",
       "      <td>[]</td>\n",
       "      <td>['VI']</td>\n",
       "      <td>[]</td>\n",
       "      <td>[]</td>\n",
       "      <td>['J A . Campbell', 'James H Anderson']</td>\n",
       "      <td>['U.S.', 'U.S. C.S', 'C.S']</td>\n",
       "      <td>['Government']</td>\n",
       "      <td>[]</td>\n",
       "      <td>['James H Anderson']</td>\n",
       "      <td>['U.S.']</td>\n",
       "      <td>[]</td>\n",
       "      <td>['C.S']</td>\n",
       "    </tr>\n",
       "  </tbody>\n",
       "</table>\n",
       "</div>"
      ],
      "text/plain": [
       "                                          order_text  \\\n",
       "0  R G. R.R . THIS ORDER NOT TRANSFERABLE . U.S. ...   \n",
       "1  Certified Copy of Order , Extract , within tra...   \n",
       "2  Bureau of Refugees , Freedmen Abandoned Lands ...   \n",
       "3  HEADQUARTERS DEPARTMENT OF NORTH CAROLINA , Ra...   \n",
       "4  IV . Animals sold counties collected unless wo...   \n",
       "\n",
       "                                    PERSON-ontonotes  \\\n",
       "0  ['E . Cranford', 'Lewis B. Parsons', 'Major Kn...   \n",
       "1                                    ['E. Crawford']   \n",
       "2   ['KELLEY', 'EDWARD McPHERSON', 'JONATHAN WORTH']   \n",
       "3                             ['Joseph E. Johnston']   \n",
       "4             ['J A . Campbell', 'James H Anderson']   \n",
       "\n",
       "                                       GPE-ontonotes  \\\n",
       "0       ['Raleigh N.C', 'Warrenton N.C', 'New York']   \n",
       "1                                    ['Raleigh N.C']   \n",
       "2  ['Raleigh', 'N.C.', 'United States', 'Alabama'...   \n",
       "3                      ['Raleigh', 'North Carolina']   \n",
       "4                                           ['U.S.']   \n",
       "\n",
       "                                       ORG-ontonotes  \\\n",
       "0                               ['Samuel Gale Co .']   \n",
       "1                                                 []   \n",
       "2  ['Bureau of Refugees', 'House of Representativ...   \n",
       "3  ['HEADQUARTERS DEPARTMENT OF NORTH CAROLINA', ...   \n",
       "4                     ['Headquarters', 'Government']   \n",
       "\n",
       "                              Date-ontonotes LOC-ontonotes  \\\n",
       "0                 ['Aug 6 1866', 'Aug 1866']            []   \n",
       "1                             ['Aug 6 1866']            []   \n",
       "2  ['May 8th , 1866', 'May 1 , 1866', '1st']            []   \n",
       "3                    ['January 12th , 1866']            []   \n",
       "4        ['first day of February , proximo']            []   \n",
       "\n",
       "   Building-ontonotes            postDate-ontonotes  \\\n",
       "0           ['67487']                ['6-Aug-1866']   \n",
       "1                  []                ['6-Aug-1866']   \n",
       "2       ['2d', 'III']  ['8-May-1866', '1-May-1866']   \n",
       "3  ['4', 'II', 'III']           ['12-January-1866']   \n",
       "4              ['VI']                            []   \n",
       "\n",
       "        standard_date-ontonotes  \\\n",
       "0             ['6-August-1866']   \n",
       "1             ['6-August-1866']   \n",
       "2  ['8-May-1866', '1-May-1866']   \n",
       "3           ['12-January-1866']   \n",
       "4                            []   \n",
       "\n",
       "                                  PERSON-nerenglarge  \\\n",
       "0     ['Cranford', 'Lewis B. Parsons', 'Gaston R.R']   \n",
       "1                ['Robinson Clinton', 'E. Crawford']   \n",
       "2  ['KELLEY', 'EDWARD McPHERSON', 'E. WHITTLESEY'...   \n",
       "3                             ['Joseph E. Johnston']   \n",
       "4             ['J A . Campbell', 'James H Anderson']   \n",
       "\n",
       "                                     LOC-nerenglarge  \\\n",
       "0  ['U.S.', 'Raleigh N.C', 'Warrenton N.C', 'Rale...   \n",
       "1                                    ['Raleigh N.C']   \n",
       "2  ['State of North Carolina', 'Raleigh', 'N.C.',...   \n",
       "3  ['NORTH CAROLINA', 'Raleigh', 'North Carolina'...   \n",
       "4                        ['U.S.', 'U.S. C.S', 'C.S']   \n",
       "\n",
       "                                     ORG-nerenglarge other_namelarge  \\\n",
       "0  ['Samuel Gale Co', 'Regiment Freedman', 'Rail ...              []   \n",
       "1                                                 []              []   \n",
       "2  ['Bureau of Refugees , Freedmen Abandoned Land...              []   \n",
       "3                                     ['Government']              []   \n",
       "4                                     ['Government']              []   \n",
       "\n",
       "        PERSON-nerenglish                                     LOC-nerenglish  \\\n",
       "0                      []  ['Ral', 'Gaston R.R', 'Raleigh N.C.', 'Broadwa...   \n",
       "1                      []                                                 []   \n",
       "2      ['JONATHAN WORTH']  ['Raleigh', 'N.C.', 'United States', 'Alabama'...   \n",
       "3  ['Joseph E. Johnston']    ['NORTH CAROLINA', 'Raleigh', 'North Carolina']   \n",
       "4    ['James H Anderson']                                           ['U.S.']   \n",
       "\n",
       "                                      ORG-nerenglish Other_name-nerenglish  \n",
       "0                                       ['Cranford']                    []  \n",
       "1                                                 []                    []  \n",
       "2  ['Officers Agents of Bureau', 'House of Repres...                    []  \n",
       "3                                                 []                    []  \n",
       "4                                                 []               ['C.S']  "
      ]
     },
     "execution_count": 14,
     "metadata": {},
     "output_type": "execute_result"
    }
   ],
   "source": [
    "order_ent.head()"
   ]
  },
  {
   "cell_type": "code",
   "execution_count": 15,
   "id": "3c1e461b",
   "metadata": {
    "execution": {
     "iopub.execute_input": "2022-06-29T10:40:42.414185Z",
     "iopub.status.busy": "2022-06-29T10:40:42.413254Z",
     "iopub.status.idle": "2022-06-29T10:40:42.419493Z",
     "shell.execute_reply": "2022-06-29T10:40:42.418717Z"
    },
    "papermill": {
     "duration": 0.036918,
     "end_time": "2022-06-29T10:40:42.421543",
     "exception": false,
     "start_time": "2022-06-29T10:40:42.384625",
     "status": "completed"
    },
    "tags": []
   },
   "outputs": [],
   "source": [
    "order_text=order_ent[\"order_text\"]\n",
    "order_Per_onto=order_ent[\"PERSON-ontonotes\"]\n",
    "order_GPE_onto=order_ent[\"GPE-ontonotes\"]\n",
    "order_ORG_onto=order_ent[\"ORG-ontonotes\"]\n",
    "order_date_onto=order_ent[\"standard_date-ontonotes\"]\n",
    "order_loc_onto=order_ent[\"LOC-ontonotes\"]"
   ]
  },
  {
   "cell_type": "code",
   "execution_count": 16,
   "id": "c2558093",
   "metadata": {
    "execution": {
     "iopub.execute_input": "2022-06-29T10:40:42.477747Z",
     "iopub.status.busy": "2022-06-29T10:40:42.476816Z",
     "iopub.status.idle": "2022-06-29T10:40:42.482643Z",
     "shell.execute_reply": "2022-06-29T10:40:42.481886Z"
    },
    "papermill": {
     "duration": 0.036192,
     "end_time": "2022-06-29T10:40:42.484716",
     "exception": false,
     "start_time": "2022-06-29T10:40:42.448524",
     "status": "completed"
    },
    "tags": []
   },
   "outputs": [
    {
     "data": {
      "text/plain": [
       "'190 By Order of Col. James V. Bomford Jacob F. Chur . Bvt . Lt. Col. A.A.A.G . Bureau of Refugees Freedmen A.L . Head Qrs . Asst . Commissioner Raleigh N.C. Jan. 16th 1867 Special Order No . 8 Leave of absence twelve days hereby granted Lieut Edgar H. McQuigg V.R.C . Asst Supt Bureau R.F . A.L . Wilmington N.C. By Command of Col. J. V. Bomford Jacob F. Chur . Bvt . Lt. Col. A.A.A . Genl Bureau of Refugees Freedmen c Hd Qrs Asst Commissioner Raleigh N.C. Jan. 18th 1867 Special Order No . 9 In compliance instructions Maj Genl O.O . Howard Commissioner , Bvt . Maj. Thos P. Johnston Chf Qr Mr Bureau State pay trustees of Baptist Female Seminary following amounts rent of rooms used Bureau upon premises known Guion Hotel City of Raleigh recommended board of Officers appointed purpose . For three rooms main building occupied offices of Bureau of R.F . A.L . April 1st 1866 Aug 1st 1866 rate of Twelve dollars per month per room . For four rooms detatched building occupied offices of Bureau of R.F . A.L . April 2d 1866 , Dec 31st 1866 , rate of twelve dollars 12 per month per room . By Command of Col. J. V. Bomford Jacob F. Chur . Bvt . Lt. Col. A.A.A . Genl 191 Bureau of Refugees Freedmen c Hd Qrs Asst Commissioner Raleigh N.C. Jan. 19th 1867 Special Order No . 10 I. Manchester W. Weld appointed Agent of Bureau of R.F . A.L . hereby assigned duty Fayetteville N.C. relieve Justin Hodge Agent . II . The resignation of Justin Hodge Agent of Bureau of R.F . A.L . Fayetteville N.C. hereby accepted take effect relieved Mr. M. W. Weld By Command of Col. J. V. Bomford Jacob F. Chur . Bvt . Lt. Col. A.A.A.G . Bureau of Refugees Freedmen c Hd Qrs Asst Commissioner Raleigh N.C. Jan. 20th 1867 Special Order No . 11 During temporary absence of Bt Lt Col Jacob F. Chur Act Asst Adjt Genl , Bt Maj F. A. Seeley act Asst Adjt Genl . By Command of Col. J. V. Bomford Jacob F. Chur . Bvt . Lt. Col. A.A.A.G .'"
      ]
     },
     "execution_count": 16,
     "metadata": {},
     "output_type": "execute_result"
    }
   ],
   "source": [
    "order_text[1000]"
   ]
  },
  {
   "cell_type": "code",
   "execution_count": 17,
   "id": "4e22b329",
   "metadata": {
    "execution": {
     "iopub.execute_input": "2022-06-29T10:40:42.542985Z",
     "iopub.status.busy": "2022-06-29T10:40:42.542182Z",
     "iopub.status.idle": "2022-06-29T10:40:42.556290Z",
     "shell.execute_reply": "2022-06-29T10:40:42.555169Z"
    },
    "papermill": {
     "duration": 0.045742,
     "end_time": "2022-06-29T10:40:42.558709",
     "exception": false,
     "start_time": "2022-06-29T10:40:42.512967",
     "status": "completed"
    },
    "tags": []
   },
   "outputs": [
    {
     "data": {
      "text/plain": [
       "\"['James V. Bomford', 'J. V. Bomford', 'Manchester W. Weld', 'Justin Hodge', 'M. W. Weld', 'Jacob F. Chur', 'F . A. Seeley']\""
      ]
     },
     "execution_count": 17,
     "metadata": {},
     "output_type": "execute_result"
    }
   ],
   "source": [
    "order_Per_onto[1000]"
   ]
  },
  {
   "cell_type": "code",
   "execution_count": 18,
   "id": "9d3bcb1b",
   "metadata": {
    "execution": {
     "iopub.execute_input": "2022-06-29T10:40:42.616441Z",
     "iopub.status.busy": "2022-06-29T10:40:42.615796Z",
     "iopub.status.idle": "2022-06-29T10:40:42.622260Z",
     "shell.execute_reply": "2022-06-29T10:40:42.621413Z"
    },
    "papermill": {
     "duration": 0.037865,
     "end_time": "2022-06-29T10:40:42.624252",
     "exception": false,
     "start_time": "2022-06-29T10:40:42.586387",
     "status": "completed"
    },
    "tags": []
   },
   "outputs": [
    {
     "data": {
      "text/plain": [
       "\"['Raleigh N.C', 'Raleigh', 'Fayetteville N.C.']\""
      ]
     },
     "execution_count": 18,
     "metadata": {},
     "output_type": "execute_result"
    }
   ],
   "source": [
    "order_GPE_onto[1000]"
   ]
  },
  {
   "cell_type": "code",
   "execution_count": 19,
   "id": "cbac535c",
   "metadata": {
    "execution": {
     "iopub.execute_input": "2022-06-29T10:40:42.681402Z",
     "iopub.status.busy": "2022-06-29T10:40:42.680736Z",
     "iopub.status.idle": "2022-06-29T10:40:42.687378Z",
     "shell.execute_reply": "2022-06-29T10:40:42.686534Z"
    },
    "papermill": {
     "duration": 0.037573,
     "end_time": "2022-06-29T10:40:42.689400",
     "exception": false,
     "start_time": "2022-06-29T10:40:42.651827",
     "status": "completed"
    },
    "tags": []
   },
   "outputs": [
    {
     "data": {
      "text/plain": [
       "\"['Bureau of Refugees Freedmen A.L', 'Bureau of Refugees Freedmen', 'Baptist Female Seminary', 'Bureau of R.F . A.L']\""
      ]
     },
     "execution_count": 19,
     "metadata": {},
     "output_type": "execute_result"
    }
   ],
   "source": [
    "order_ORG_onto[1000]"
   ]
  },
  {
   "cell_type": "code",
   "execution_count": 20,
   "id": "1b4cbc82",
   "metadata": {
    "execution": {
     "iopub.execute_input": "2022-06-29T10:40:42.746846Z",
     "iopub.status.busy": "2022-06-29T10:40:42.746183Z",
     "iopub.status.idle": "2022-06-29T10:40:42.753055Z",
     "shell.execute_reply": "2022-06-29T10:40:42.752016Z"
    },
    "papermill": {
     "duration": 0.038561,
     "end_time": "2022-06-29T10:40:42.755463",
     "exception": false,
     "start_time": "2022-06-29T10:40:42.716902",
     "status": "completed"
    },
    "tags": []
   },
   "outputs": [
    {
     "data": {
      "text/plain": [
       "'[]'"
      ]
     },
     "execution_count": 20,
     "metadata": {},
     "output_type": "execute_result"
    }
   ],
   "source": [
    "order_loc_onto[1000]"
   ]
  },
  {
   "cell_type": "code",
   "execution_count": 21,
   "id": "45c436ba",
   "metadata": {
    "execution": {
     "iopub.execute_input": "2022-06-29T10:40:42.813175Z",
     "iopub.status.busy": "2022-06-29T10:40:42.812808Z",
     "iopub.status.idle": "2022-06-29T10:40:42.818183Z",
     "shell.execute_reply": "2022-06-29T10:40:42.817445Z"
    },
    "papermill": {
     "duration": 0.037044,
     "end_time": "2022-06-29T10:40:42.820409",
     "exception": false,
     "start_time": "2022-06-29T10:40:42.783365",
     "status": "completed"
    },
    "tags": []
   },
   "outputs": [
    {
     "data": {
      "text/plain": [
       "\"['16-Jan.-1867', '18-Jan.-1867', '1-April-1866', '1-August-1866', '2-April-1866', '31-December-1866', '19-Jan.-1867', '20-Jan.-1867']\""
      ]
     },
     "execution_count": 21,
     "metadata": {},
     "output_type": "execute_result"
    }
   ],
   "source": [
    "order_date_onto[1000]"
   ]
  },
  {
   "cell_type": "markdown",
   "id": "e9fb8be9",
   "metadata": {
    "papermill": {
     "duration": 0.027699,
     "end_time": "2022-06-29T10:40:42.876116",
     "exception": false,
     "start_time": "2022-06-29T10:40:42.848417",
     "status": "completed"
    },
    "tags": []
   },
   "source": [
    "**good**"
   ]
  },
  {
   "cell_type": "code",
   "execution_count": 22,
   "id": "bec72cf8",
   "metadata": {
    "execution": {
     "iopub.execute_input": "2022-06-29T10:40:42.933973Z",
     "iopub.status.busy": "2022-06-29T10:40:42.933207Z",
     "iopub.status.idle": "2022-06-29T10:40:43.003512Z",
     "shell.execute_reply": "2022-06-29T10:40:43.002338Z"
    },
    "papermill": {
     "duration": 0.101962,
     "end_time": "2022-06-29T10:40:43.006095",
     "exception": false,
     "start_time": "2022-06-29T10:40:42.904133",
     "status": "completed"
    },
    "tags": []
   },
   "outputs": [
    {
     "data": {
      "text/plain": [
       "(453588, 0)"
      ]
     },
     "execution_count": 22,
     "metadata": {},
     "output_type": "execute_result"
    }
   ],
   "source": [
    "PL=[]\n",
    "empty=0\n",
    "for i in order_Per_onto :\n",
    "    for j in i:\n",
    "        PL.append(j)\n",
    "for i in order_Per_onto:\n",
    "    if i==[]:\n",
    "        empty=empty+1\n",
    "len(PL), empty"
   ]
  },
  {
   "cell_type": "markdown",
   "id": "08f21959",
   "metadata": {
    "papermill": {
     "duration": 0.028463,
     "end_time": "2022-06-29T10:40:43.062779",
     "exception": false,
     "start_time": "2022-06-29T10:40:43.034316",
     "status": "completed"
    },
    "tags": []
   },
   "source": [
    "**very good**"
   ]
  },
  {
   "cell_type": "code",
   "execution_count": 23,
   "id": "68580370",
   "metadata": {
    "execution": {
     "iopub.execute_input": "2022-06-29T10:40:43.121023Z",
     "iopub.status.busy": "2022-06-29T10:40:43.120329Z",
     "iopub.status.idle": "2022-06-29T10:40:43.153978Z",
     "shell.execute_reply": "2022-06-29T10:40:43.152859Z"
    },
    "papermill": {
     "duration": 0.06542,
     "end_time": "2022-06-29T10:40:43.156310",
     "exception": false,
     "start_time": "2022-06-29T10:40:43.090890",
     "status": "completed"
    },
    "tags": []
   },
   "outputs": [
    {
     "data": {
      "text/plain": [
       "(167185, 2515)"
      ]
     },
     "execution_count": 23,
     "metadata": {},
     "output_type": "execute_result"
    }
   ],
   "source": [
    "PL=[]\n",
    "empty=0\n",
    "for i in order_date_onto :\n",
    "    for j in i:\n",
    "        PL.append(j)\n",
    "for i in order_date_onto:\n",
    "    if i==\"[]\":\n",
    "        empty=empty+1\n",
    "len(PL), empty"
   ]
  },
  {
   "cell_type": "markdown",
   "id": "0d4f5fc3",
   "metadata": {
    "papermill": {
     "duration": 0.028259,
     "end_time": "2022-06-29T10:40:43.213141",
     "exception": false,
     "start_time": "2022-06-29T10:40:43.184882",
     "status": "completed"
    },
    "tags": []
   },
   "source": [
    "**uii very good**"
   ]
  },
  {
   "cell_type": "code",
   "execution_count": 24,
   "id": "71004a8d",
   "metadata": {
    "execution": {
     "iopub.execute_input": "2022-06-29T10:40:43.273219Z",
     "iopub.status.busy": "2022-06-29T10:40:43.272378Z",
     "iopub.status.idle": "2022-06-29T10:40:43.329490Z",
     "shell.execute_reply": "2022-06-29T10:40:43.328352Z"
    },
    "papermill": {
     "duration": 0.090476,
     "end_time": "2022-06-29T10:40:43.332227",
     "exception": false,
     "start_time": "2022-06-29T10:40:43.241751",
     "status": "completed"
    },
    "tags": []
   },
   "outputs": [
    {
     "data": {
      "text/plain": [
       "(343109, 1295)"
      ]
     },
     "execution_count": 24,
     "metadata": {},
     "output_type": "execute_result"
    }
   ],
   "source": [
    "PL=[]\n",
    "empty=0\n",
    "for i in order_GPE_onto :\n",
    "    for j in i:\n",
    "        PL.append(j)\n",
    "for i in order_GPE_onto:\n",
    "    if i==\"[]\":\n",
    "        empty=empty+1\n",
    "len(PL), empty"
   ]
  },
  {
   "cell_type": "markdown",
   "id": "def583b6",
   "metadata": {
    "papermill": {
     "duration": 0.028139,
     "end_time": "2022-06-29T10:40:43.388765",
     "exception": false,
     "start_time": "2022-06-29T10:40:43.360626",
     "status": "completed"
    },
    "tags": []
   },
   "source": [
    "****"
   ]
  },
  {
   "cell_type": "markdown",
   "id": "bfbef723",
   "metadata": {
    "papermill": {
     "duration": 0.028002,
     "end_time": "2022-06-29T10:40:43.445201",
     "exception": false,
     "start_time": "2022-06-29T10:40:43.417199",
     "status": "completed"
    },
    "tags": []
   },
   "source": [
    "# Order Ner-english"
   ]
  },
  {
   "cell_type": "code",
   "execution_count": 25,
   "id": "801df339",
   "metadata": {
    "execution": {
     "iopub.execute_input": "2022-06-29T10:40:43.504066Z",
     "iopub.status.busy": "2022-06-29T10:40:43.503310Z",
     "iopub.status.idle": "2022-06-29T10:40:43.524924Z",
     "shell.execute_reply": "2022-06-29T10:40:43.523757Z"
    },
    "papermill": {
     "duration": 0.053969,
     "end_time": "2022-06-29T10:40:43.527419",
     "exception": false,
     "start_time": "2022-06-29T10:40:43.473450",
     "status": "completed"
    },
    "tags": []
   },
   "outputs": [
    {
     "data": {
      "text/html": [
       "<div>\n",
       "<style scoped>\n",
       "    .dataframe tbody tr th:only-of-type {\n",
       "        vertical-align: middle;\n",
       "    }\n",
       "\n",
       "    .dataframe tbody tr th {\n",
       "        vertical-align: top;\n",
       "    }\n",
       "\n",
       "    .dataframe thead th {\n",
       "        text-align: right;\n",
       "    }\n",
       "</style>\n",
       "<table border=\"1\" class=\"dataframe\">\n",
       "  <thead>\n",
       "    <tr style=\"text-align: right;\">\n",
       "      <th></th>\n",
       "      <th>order_text</th>\n",
       "      <th>PERSON-ontonotes</th>\n",
       "      <th>GPE-ontonotes</th>\n",
       "      <th>ORG-ontonotes</th>\n",
       "      <th>Date-ontonotes</th>\n",
       "      <th>LOC-ontonotes</th>\n",
       "      <th>Building-ontonotes</th>\n",
       "      <th>postDate-ontonotes</th>\n",
       "      <th>standard_date-ontonotes</th>\n",
       "      <th>PERSON-nerenglarge</th>\n",
       "      <th>LOC-nerenglarge</th>\n",
       "      <th>ORG-nerenglarge</th>\n",
       "      <th>other_namelarge</th>\n",
       "      <th>PERSON-nerenglish</th>\n",
       "      <th>LOC-nerenglish</th>\n",
       "      <th>ORG-nerenglish</th>\n",
       "      <th>Other_name-nerenglish</th>\n",
       "    </tr>\n",
       "  </thead>\n",
       "  <tbody>\n",
       "    <tr>\n",
       "      <th>0</th>\n",
       "      <td>R G. R.R . THIS ORDER NOT TRANSFERABLE . U.S. ...</td>\n",
       "      <td>['E . Cranford', 'Lewis B. Parsons', 'Major Kn...</td>\n",
       "      <td>['Raleigh N.C', 'Warrenton N.C', 'New York']</td>\n",
       "      <td>['Samuel Gale Co .']</td>\n",
       "      <td>['Aug 6 1866', 'Aug 1866']</td>\n",
       "      <td>[]</td>\n",
       "      <td>['67487']</td>\n",
       "      <td>['6-Aug-1866']</td>\n",
       "      <td>['6-August-1866']</td>\n",
       "      <td>['Cranford', 'Lewis B. Parsons', 'Gaston R.R']</td>\n",
       "      <td>['U.S.', 'Raleigh N.C', 'Warrenton N.C', 'Rale...</td>\n",
       "      <td>['Samuel Gale Co', 'Regiment Freedman', 'Rail ...</td>\n",
       "      <td>[]</td>\n",
       "      <td>[]</td>\n",
       "      <td>['Ral', 'Gaston R.R', 'Raleigh N.C.', 'Broadwa...</td>\n",
       "      <td>['Cranford']</td>\n",
       "      <td>[]</td>\n",
       "    </tr>\n",
       "    <tr>\n",
       "      <th>1</th>\n",
       "      <td>Certified Copy of Order , Extract , within tra...</td>\n",
       "      <td>['E. Crawford']</td>\n",
       "      <td>['Raleigh N.C']</td>\n",
       "      <td>[]</td>\n",
       "      <td>['Aug 6 1866']</td>\n",
       "      <td>[]</td>\n",
       "      <td>[]</td>\n",
       "      <td>['6-Aug-1866']</td>\n",
       "      <td>['6-August-1866']</td>\n",
       "      <td>['Robinson Clinton', 'E. Crawford']</td>\n",
       "      <td>['Raleigh N.C']</td>\n",
       "      <td>[]</td>\n",
       "      <td>[]</td>\n",
       "      <td>[]</td>\n",
       "      <td>[]</td>\n",
       "      <td>[]</td>\n",
       "      <td>[]</td>\n",
       "    </tr>\n",
       "    <tr>\n",
       "      <th>2</th>\n",
       "      <td>Bureau of Refugees , Freedmen Abandoned Lands ...</td>\n",
       "      <td>['KELLEY', 'EDWARD McPHERSON', 'JONATHAN WORTH']</td>\n",
       "      <td>['Raleigh', 'N.C.', 'United States', 'Alabama'...</td>\n",
       "      <td>['Bureau of Refugees', 'House of Representativ...</td>\n",
       "      <td>['May 8th , 1866', 'May 1 , 1866', '1st']</td>\n",
       "      <td>[]</td>\n",
       "      <td>['2d', 'III']</td>\n",
       "      <td>['8-May-1866', '1-May-1866']</td>\n",
       "      <td>['8-May-1866', '1-May-1866']</td>\n",
       "      <td>['KELLEY', 'EDWARD McPHERSON', 'E. WHITTLESEY'...</td>\n",
       "      <td>['State of North Carolina', 'Raleigh', 'N.C.',...</td>\n",
       "      <td>['Bureau of Refugees , Freedmen Abandoned Land...</td>\n",
       "      <td>[]</td>\n",
       "      <td>['JONATHAN WORTH']</td>\n",
       "      <td>['Raleigh', 'N.C.', 'United States', 'Alabama'...</td>\n",
       "      <td>['Officers Agents of Bureau', 'House of Repres...</td>\n",
       "      <td>[]</td>\n",
       "    </tr>\n",
       "    <tr>\n",
       "      <th>3</th>\n",
       "      <td>HEADQUARTERS DEPARTMENT OF NORTH CAROLINA , Ra...</td>\n",
       "      <td>['Joseph E. Johnston']</td>\n",
       "      <td>['Raleigh', 'North Carolina']</td>\n",
       "      <td>['HEADQUARTERS DEPARTMENT OF NORTH CAROLINA', ...</td>\n",
       "      <td>['January 12th , 1866']</td>\n",
       "      <td>[]</td>\n",
       "      <td>['4', 'II', 'III']</td>\n",
       "      <td>['12-January-1866']</td>\n",
       "      <td>['12-January-1866']</td>\n",
       "      <td>['Joseph E. Johnston']</td>\n",
       "      <td>['NORTH CAROLINA', 'Raleigh', 'North Carolina'...</td>\n",
       "      <td>['Government']</td>\n",
       "      <td>[]</td>\n",
       "      <td>['Joseph E. Johnston']</td>\n",
       "      <td>['NORTH CAROLINA', 'Raleigh', 'North Carolina']</td>\n",
       "      <td>[]</td>\n",
       "      <td>[]</td>\n",
       "    </tr>\n",
       "    <tr>\n",
       "      <th>4</th>\n",
       "      <td>IV . Animals sold counties collected unless wo...</td>\n",
       "      <td>['J A . Campbell', 'James H Anderson']</td>\n",
       "      <td>['U.S.']</td>\n",
       "      <td>['Headquarters', 'Government']</td>\n",
       "      <td>['first day of February , proximo']</td>\n",
       "      <td>[]</td>\n",
       "      <td>['VI']</td>\n",
       "      <td>[]</td>\n",
       "      <td>[]</td>\n",
       "      <td>['J A . Campbell', 'James H Anderson']</td>\n",
       "      <td>['U.S.', 'U.S. C.S', 'C.S']</td>\n",
       "      <td>['Government']</td>\n",
       "      <td>[]</td>\n",
       "      <td>['James H Anderson']</td>\n",
       "      <td>['U.S.']</td>\n",
       "      <td>[]</td>\n",
       "      <td>['C.S']</td>\n",
       "    </tr>\n",
       "  </tbody>\n",
       "</table>\n",
       "</div>"
      ],
      "text/plain": [
       "                                          order_text  \\\n",
       "0  R G. R.R . THIS ORDER NOT TRANSFERABLE . U.S. ...   \n",
       "1  Certified Copy of Order , Extract , within tra...   \n",
       "2  Bureau of Refugees , Freedmen Abandoned Lands ...   \n",
       "3  HEADQUARTERS DEPARTMENT OF NORTH CAROLINA , Ra...   \n",
       "4  IV . Animals sold counties collected unless wo...   \n",
       "\n",
       "                                    PERSON-ontonotes  \\\n",
       "0  ['E . Cranford', 'Lewis B. Parsons', 'Major Kn...   \n",
       "1                                    ['E. Crawford']   \n",
       "2   ['KELLEY', 'EDWARD McPHERSON', 'JONATHAN WORTH']   \n",
       "3                             ['Joseph E. Johnston']   \n",
       "4             ['J A . Campbell', 'James H Anderson']   \n",
       "\n",
       "                                       GPE-ontonotes  \\\n",
       "0       ['Raleigh N.C', 'Warrenton N.C', 'New York']   \n",
       "1                                    ['Raleigh N.C']   \n",
       "2  ['Raleigh', 'N.C.', 'United States', 'Alabama'...   \n",
       "3                      ['Raleigh', 'North Carolina']   \n",
       "4                                           ['U.S.']   \n",
       "\n",
       "                                       ORG-ontonotes  \\\n",
       "0                               ['Samuel Gale Co .']   \n",
       "1                                                 []   \n",
       "2  ['Bureau of Refugees', 'House of Representativ...   \n",
       "3  ['HEADQUARTERS DEPARTMENT OF NORTH CAROLINA', ...   \n",
       "4                     ['Headquarters', 'Government']   \n",
       "\n",
       "                              Date-ontonotes LOC-ontonotes  \\\n",
       "0                 ['Aug 6 1866', 'Aug 1866']            []   \n",
       "1                             ['Aug 6 1866']            []   \n",
       "2  ['May 8th , 1866', 'May 1 , 1866', '1st']            []   \n",
       "3                    ['January 12th , 1866']            []   \n",
       "4        ['first day of February , proximo']            []   \n",
       "\n",
       "   Building-ontonotes            postDate-ontonotes  \\\n",
       "0           ['67487']                ['6-Aug-1866']   \n",
       "1                  []                ['6-Aug-1866']   \n",
       "2       ['2d', 'III']  ['8-May-1866', '1-May-1866']   \n",
       "3  ['4', 'II', 'III']           ['12-January-1866']   \n",
       "4              ['VI']                            []   \n",
       "\n",
       "        standard_date-ontonotes  \\\n",
       "0             ['6-August-1866']   \n",
       "1             ['6-August-1866']   \n",
       "2  ['8-May-1866', '1-May-1866']   \n",
       "3           ['12-January-1866']   \n",
       "4                            []   \n",
       "\n",
       "                                  PERSON-nerenglarge  \\\n",
       "0     ['Cranford', 'Lewis B. Parsons', 'Gaston R.R']   \n",
       "1                ['Robinson Clinton', 'E. Crawford']   \n",
       "2  ['KELLEY', 'EDWARD McPHERSON', 'E. WHITTLESEY'...   \n",
       "3                             ['Joseph E. Johnston']   \n",
       "4             ['J A . Campbell', 'James H Anderson']   \n",
       "\n",
       "                                     LOC-nerenglarge  \\\n",
       "0  ['U.S.', 'Raleigh N.C', 'Warrenton N.C', 'Rale...   \n",
       "1                                    ['Raleigh N.C']   \n",
       "2  ['State of North Carolina', 'Raleigh', 'N.C.',...   \n",
       "3  ['NORTH CAROLINA', 'Raleigh', 'North Carolina'...   \n",
       "4                        ['U.S.', 'U.S. C.S', 'C.S']   \n",
       "\n",
       "                                     ORG-nerenglarge other_namelarge  \\\n",
       "0  ['Samuel Gale Co', 'Regiment Freedman', 'Rail ...              []   \n",
       "1                                                 []              []   \n",
       "2  ['Bureau of Refugees , Freedmen Abandoned Land...              []   \n",
       "3                                     ['Government']              []   \n",
       "4                                     ['Government']              []   \n",
       "\n",
       "        PERSON-nerenglish                                     LOC-nerenglish  \\\n",
       "0                      []  ['Ral', 'Gaston R.R', 'Raleigh N.C.', 'Broadwa...   \n",
       "1                      []                                                 []   \n",
       "2      ['JONATHAN WORTH']  ['Raleigh', 'N.C.', 'United States', 'Alabama'...   \n",
       "3  ['Joseph E. Johnston']    ['NORTH CAROLINA', 'Raleigh', 'North Carolina']   \n",
       "4    ['James H Anderson']                                           ['U.S.']   \n",
       "\n",
       "                                      ORG-nerenglish Other_name-nerenglish  \n",
       "0                                       ['Cranford']                    []  \n",
       "1                                                 []                    []  \n",
       "2  ['Officers Agents of Bureau', 'House of Repres...                    []  \n",
       "3                                                 []                    []  \n",
       "4                                                 []               ['C.S']  "
      ]
     },
     "execution_count": 25,
     "metadata": {},
     "output_type": "execute_result"
    }
   ],
   "source": [
    "order_ent.head()"
   ]
  },
  {
   "cell_type": "code",
   "execution_count": 26,
   "id": "0a24a887",
   "metadata": {
    "execution": {
     "iopub.execute_input": "2022-06-29T10:40:43.587556Z",
     "iopub.status.busy": "2022-06-29T10:40:43.587162Z",
     "iopub.status.idle": "2022-06-29T10:40:43.592535Z",
     "shell.execute_reply": "2022-06-29T10:40:43.591397Z"
    },
    "papermill": {
     "duration": 0.038364,
     "end_time": "2022-06-29T10:40:43.594773",
     "exception": false,
     "start_time": "2022-06-29T10:40:43.556409",
     "status": "completed"
    },
    "tags": []
   },
   "outputs": [],
   "source": [
    "order_Per_ner=order_ent[\"PERSON-nerenglish\"]\n",
    "order_ORG_ner=order_ent[\"ORG-nerenglish\"]\n",
    "order_other_ner=order_ent[\"Other_name-nerenglish\"]\n",
    "order_loc_ner=order_ent[\"LOC-nerenglish\"]"
   ]
  },
  {
   "cell_type": "code",
   "execution_count": 27,
   "id": "5aeb1798",
   "metadata": {
    "execution": {
     "iopub.execute_input": "2022-06-29T10:40:43.654527Z",
     "iopub.status.busy": "2022-06-29T10:40:43.653860Z",
     "iopub.status.idle": "2022-06-29T10:40:43.660457Z",
     "shell.execute_reply": "2022-06-29T10:40:43.659593Z"
    },
    "papermill": {
     "duration": 0.039355,
     "end_time": "2022-06-29T10:40:43.662722",
     "exception": false,
     "start_time": "2022-06-29T10:40:43.623367",
     "status": "completed"
    },
    "tags": []
   },
   "outputs": [
    {
     "data": {
      "text/plain": [
       "'Bureau of Refugees , Freedmen Abandoned Lands , Headquarters Assistant Commissioner , State of North Carolina , Raleigh , N.C. , May 8th , 1866 . Circular No . 4 The attention of Officers Agents of Bureau called following resolution of House of Representatives : THIRTYNINTH CONGRESSFIRST SESSION . Congress of United States . In House of Representatives , May 1 , 1866 . Mr. KELLEY submitted following , adopted : WHEREAS , It reported citizens of Alabama , formal memorial two Houses of Congress , many of people of mountain districts of State suffering want of adequate supplies of food , considerable numbers of died of actual starvation ; therefore , Be resolved , That President requested instruct proper officers of Bureau of Refugees Freedman enquire condition of said districts , districts of late insurgent States , suffering may said exist , relieve people thereof , provide corn seed planting crop sufficient annual supply of family requiring relief . ATTEST : Signed EDWARD McPHERSON , Clerk . II . In order carry purpose of resolution , reports forwarded without delay headquarters , specifying 1st . The number of persons county needing supplies of food prevent actual suffering , classifying accordance enclosed Form , No . 1 . 2d . The names of persons need corn , seed planting , according enclosed Form No . 2 . III . The season already far advanced , relief contemplated must furnished early possible . The information required therefore obtained forwarded , even exclusion of business . E. WHITTLESEY . Brevt . Brig . Genl . Assit Commr . OFFICIAL : Assistant Adjutant General . It hoped Sheriffs of every county State aid officers of Freedmens Bureau procuring information sought Circular . JONATHAN WORTH , Governor of North Carolina .'"
      ]
     },
     "execution_count": 27,
     "metadata": {},
     "output_type": "execute_result"
    }
   ],
   "source": [
    "order_text[2]"
   ]
  },
  {
   "cell_type": "code",
   "execution_count": 28,
   "id": "5b841806",
   "metadata": {
    "execution": {
     "iopub.execute_input": "2022-06-29T10:40:43.722484Z",
     "iopub.status.busy": "2022-06-29T10:40:43.722108Z",
     "iopub.status.idle": "2022-06-29T10:40:43.727828Z",
     "shell.execute_reply": "2022-06-29T10:40:43.726945Z"
    },
    "papermill": {
     "duration": 0.038204,
     "end_time": "2022-06-29T10:40:43.729747",
     "exception": false,
     "start_time": "2022-06-29T10:40:43.691543",
     "status": "completed"
    },
    "tags": []
   },
   "outputs": [
    {
     "data": {
      "text/plain": [
       "\"['JONATHAN WORTH']\""
      ]
     },
     "execution_count": 28,
     "metadata": {},
     "output_type": "execute_result"
    }
   ],
   "source": [
    "order_Per_ner[2]"
   ]
  },
  {
   "cell_type": "code",
   "execution_count": 29,
   "id": "3f721ad9",
   "metadata": {
    "execution": {
     "iopub.execute_input": "2022-06-29T10:40:43.790505Z",
     "iopub.status.busy": "2022-06-29T10:40:43.789671Z",
     "iopub.status.idle": "2022-06-29T10:40:43.796166Z",
     "shell.execute_reply": "2022-06-29T10:40:43.795395Z"
    },
    "papermill": {
     "duration": 0.039055,
     "end_time": "2022-06-29T10:40:43.798227",
     "exception": false,
     "start_time": "2022-06-29T10:40:43.759172",
     "status": "completed"
    },
    "tags": []
   },
   "outputs": [
    {
     "data": {
      "text/plain": [
       "\"['Officers Agents of Bureau', 'House of Representatives', 'Houses of Congress', 'Bureau of Refugees Freedman', 'Freedmens Bureau']\""
      ]
     },
     "execution_count": 29,
     "metadata": {},
     "output_type": "execute_result"
    }
   ],
   "source": [
    "order_ORG_ner[2]"
   ]
  },
  {
   "cell_type": "markdown",
   "id": "b68b86f7",
   "metadata": {
    "papermill": {
     "duration": 0.02869,
     "end_time": "2022-06-29T10:40:43.856194",
     "exception": false,
     "start_time": "2022-06-29T10:40:43.827504",
     "status": "completed"
    },
    "tags": []
   },
   "source": [
    "**names of ner english are catastrophic**"
   ]
  },
  {
   "cell_type": "markdown",
   "id": "bb62c809",
   "metadata": {
    "papermill": {
     "duration": 0.028916,
     "end_time": "2022-06-29T10:40:43.914444",
     "exception": false,
     "start_time": "2022-06-29T10:40:43.885528",
     "status": "completed"
    },
    "tags": []
   },
   "source": [
    "****"
   ]
  },
  {
   "cell_type": "markdown",
   "id": "5bd038e1",
   "metadata": {
    "papermill": {
     "duration": 0.02868,
     "end_time": "2022-06-29T10:40:43.972250",
     "exception": false,
     "start_time": "2022-06-29T10:40:43.943570",
     "status": "completed"
    },
    "tags": []
   },
   "source": [
    "# Order Ner english large "
   ]
  },
  {
   "cell_type": "code",
   "execution_count": 30,
   "id": "74b30782",
   "metadata": {
    "execution": {
     "iopub.execute_input": "2022-06-29T10:40:44.033347Z",
     "iopub.status.busy": "2022-06-29T10:40:44.032205Z",
     "iopub.status.idle": "2022-06-29T10:40:44.038351Z",
     "shell.execute_reply": "2022-06-29T10:40:44.037562Z"
    },
    "papermill": {
     "duration": 0.039131,
     "end_time": "2022-06-29T10:40:44.040527",
     "exception": false,
     "start_time": "2022-06-29T10:40:44.001396",
     "status": "completed"
    },
    "tags": []
   },
   "outputs": [],
   "source": [
    "order_Per_large=order_ent[\"PERSON-nerenglarge\"]\n",
    "order_ORG_large=order_ent[\"ORG-nerenglarge\"]\n",
    "order_other_large=order_ent[\"other_namelarge\"]\n",
    "order_loc_large=order_ent[\"LOC-nerenglarge\"]"
   ]
  },
  {
   "cell_type": "code",
   "execution_count": 31,
   "id": "bfe5b1f3",
   "metadata": {
    "execution": {
     "iopub.execute_input": "2022-06-29T10:40:44.101193Z",
     "iopub.status.busy": "2022-06-29T10:40:44.100262Z",
     "iopub.status.idle": "2022-06-29T10:40:44.106418Z",
     "shell.execute_reply": "2022-06-29T10:40:44.105698Z"
    },
    "papermill": {
     "duration": 0.038507,
     "end_time": "2022-06-29T10:40:44.108393",
     "exception": false,
     "start_time": "2022-06-29T10:40:44.069886",
     "status": "completed"
    },
    "tags": []
   },
   "outputs": [
    {
     "data": {
      "text/plain": [
       "'190 By Order of Col. James V. Bomford Jacob F. Chur . Bvt . Lt. Col. A.A.A.G . Bureau of Refugees Freedmen A.L . Head Qrs . Asst . Commissioner Raleigh N.C. Jan. 16th 1867 Special Order No . 8 Leave of absence twelve days hereby granted Lieut Edgar H. McQuigg V.R.C . Asst Supt Bureau R.F . A.L . Wilmington N.C. By Command of Col. J. V. Bomford Jacob F. Chur . Bvt . Lt. Col. A.A.A . Genl Bureau of Refugees Freedmen c Hd Qrs Asst Commissioner Raleigh N.C. Jan. 18th 1867 Special Order No . 9 In compliance instructions Maj Genl O.O . Howard Commissioner , Bvt . Maj. Thos P. Johnston Chf Qr Mr Bureau State pay trustees of Baptist Female Seminary following amounts rent of rooms used Bureau upon premises known Guion Hotel City of Raleigh recommended board of Officers appointed purpose . For three rooms main building occupied offices of Bureau of R.F . A.L . April 1st 1866 Aug 1st 1866 rate of Twelve dollars per month per room . For four rooms detatched building occupied offices of Bureau of R.F . A.L . April 2d 1866 , Dec 31st 1866 , rate of twelve dollars 12 per month per room . By Command of Col. J. V. Bomford Jacob F. Chur . Bvt . Lt. Col. A.A.A . Genl 191 Bureau of Refugees Freedmen c Hd Qrs Asst Commissioner Raleigh N.C. Jan. 19th 1867 Special Order No . 10 I. Manchester W. Weld appointed Agent of Bureau of R.F . A.L . hereby assigned duty Fayetteville N.C. relieve Justin Hodge Agent . II . The resignation of Justin Hodge Agent of Bureau of R.F . A.L . Fayetteville N.C. hereby accepted take effect relieved Mr. M. W. Weld By Command of Col. J. V. Bomford Jacob F. Chur . Bvt . Lt. Col. A.A.A.G . Bureau of Refugees Freedmen c Hd Qrs Asst Commissioner Raleigh N.C. Jan. 20th 1867 Special Order No . 11 During temporary absence of Bt Lt Col Jacob F. Chur Act Asst Adjt Genl , Bt Maj F. A. Seeley act Asst Adjt Genl . By Command of Col. J. V. Bomford Jacob F. Chur . Bvt . Lt. Col. A.A.A.G .'"
      ]
     },
     "execution_count": 31,
     "metadata": {},
     "output_type": "execute_result"
    }
   ],
   "source": [
    "order_text[1000]"
   ]
  },
  {
   "cell_type": "code",
   "execution_count": 32,
   "id": "2cca328e",
   "metadata": {
    "execution": {
     "iopub.execute_input": "2022-06-29T10:40:44.169201Z",
     "iopub.status.busy": "2022-06-29T10:40:44.168422Z",
     "iopub.status.idle": "2022-06-29T10:40:44.174063Z",
     "shell.execute_reply": "2022-06-29T10:40:44.173273Z"
    },
    "papermill": {
     "duration": 0.038231,
     "end_time": "2022-06-29T10:40:44.175960",
     "exception": false,
     "start_time": "2022-06-29T10:40:44.137729",
     "status": "completed"
    },
    "tags": []
   },
   "outputs": [
    {
     "data": {
      "text/plain": [
       "\"['James V. Bomford', 'Jacob F. Chur', 'Edgar H .', 'McQuigg', 'J. V. Bomford', 'Genl O.O . Howard', 'Thos P. Johnston', 'Manchester W. Weld', 'Justin Hodge', 'M. W. Weld', 'F . A. Seeley']\""
      ]
     },
     "execution_count": 32,
     "metadata": {},
     "output_type": "execute_result"
    }
   ],
   "source": [
    "order_Per_large[1000]"
   ]
  },
  {
   "cell_type": "code",
   "execution_count": 33,
   "id": "52b3f61d",
   "metadata": {
    "execution": {
     "iopub.execute_input": "2022-06-29T10:40:44.236753Z",
     "iopub.status.busy": "2022-06-29T10:40:44.236325Z",
     "iopub.status.idle": "2022-06-29T10:40:44.242270Z",
     "shell.execute_reply": "2022-06-29T10:40:44.241447Z"
    },
    "papermill": {
     "duration": 0.038979,
     "end_time": "2022-06-29T10:40:44.244407",
     "exception": false,
     "start_time": "2022-06-29T10:40:44.205428",
     "status": "completed"
    },
    "tags": []
   },
   "outputs": [
    {
     "data": {
      "text/plain": [
       "\"['Bureau of Refugees Freedmen A.L', 'Bureau R.F . A.L', 'Bureau of Refugees Freedmen', 'Baptist Female Seminary', 'Bureau', 'Guion Hotel', 'Bureau of R.F . A.L', 'Bureau of R.F . A.L .']\""
      ]
     },
     "execution_count": 33,
     "metadata": {},
     "output_type": "execute_result"
    }
   ],
   "source": [
    "order_ORG_large[1000]"
   ]
  },
  {
   "cell_type": "code",
   "execution_count": 34,
   "id": "9dcaee6a",
   "metadata": {
    "execution": {
     "iopub.execute_input": "2022-06-29T10:40:44.305920Z",
     "iopub.status.busy": "2022-06-29T10:40:44.305236Z",
     "iopub.status.idle": "2022-06-29T10:40:44.311057Z",
     "shell.execute_reply": "2022-06-29T10:40:44.309981Z"
    },
    "papermill": {
     "duration": 0.038708,
     "end_time": "2022-06-29T10:40:44.313131",
     "exception": false,
     "start_time": "2022-06-29T10:40:44.274423",
     "status": "completed"
    },
    "tags": []
   },
   "outputs": [
    {
     "data": {
      "text/plain": [
       "\"['Raleigh N.C', 'Wilmington N.C', 'City of Raleigh', 'Fayetteville N.C.']\""
      ]
     },
     "execution_count": 34,
     "metadata": {},
     "output_type": "execute_result"
    }
   ],
   "source": [
    "order_loc_large[1000]"
   ]
  },
  {
   "cell_type": "code",
   "execution_count": 35,
   "id": "c4a721bc",
   "metadata": {
    "execution": {
     "iopub.execute_input": "2022-06-29T10:40:44.375078Z",
     "iopub.status.busy": "2022-06-29T10:40:44.374371Z",
     "iopub.status.idle": "2022-06-29T10:40:44.379875Z",
     "shell.execute_reply": "2022-06-29T10:40:44.379114Z"
    },
    "papermill": {
     "duration": 0.038591,
     "end_time": "2022-06-29T10:40:44.381948",
     "exception": false,
     "start_time": "2022-06-29T10:40:44.343357",
     "status": "completed"
    },
    "tags": []
   },
   "outputs": [
    {
     "data": {
      "text/plain": [
       "\"['General Orders']\""
      ]
     },
     "execution_count": 35,
     "metadata": {},
     "output_type": "execute_result"
    }
   ],
   "source": [
    "order_other_large[102]"
   ]
  },
  {
   "cell_type": "markdown",
   "id": "15754ad2",
   "metadata": {
    "papermill": {
     "duration": 0.029376,
     "end_time": "2022-06-29T10:40:44.440894",
     "exception": false,
     "start_time": "2022-06-29T10:40:44.411518",
     "status": "completed"
    },
    "tags": []
   },
   "source": [
    "**veryy good**"
   ]
  },
  {
   "cell_type": "code",
   "execution_count": 36,
   "id": "f33ba63f",
   "metadata": {
    "execution": {
     "iopub.execute_input": "2022-06-29T10:40:44.502000Z",
     "iopub.status.busy": "2022-06-29T10:40:44.501541Z",
     "iopub.status.idle": "2022-06-29T10:40:44.582704Z",
     "shell.execute_reply": "2022-06-29T10:40:44.581856Z"
    },
    "papermill": {
     "duration": 0.114227,
     "end_time": "2022-06-29T10:40:44.584759",
     "exception": false,
     "start_time": "2022-06-29T10:40:44.470532",
     "status": "completed"
    },
    "tags": []
   },
   "outputs": [
    {
     "data": {
      "text/plain": [
       "(556132, 1438)"
      ]
     },
     "execution_count": 36,
     "metadata": {},
     "output_type": "execute_result"
    }
   ],
   "source": [
    "PL=[]\n",
    "empty=0\n",
    "for i in order_Per_large :\n",
    "    for j in i:\n",
    "        PL.append(j)\n",
    "for i in order_Per_large:\n",
    "    if i=='[]':\n",
    "        empty=empty+1\n",
    "len(PL), empty"
   ]
  },
  {
   "cell_type": "code",
   "execution_count": 37,
   "id": "6b1fe15f",
   "metadata": {
    "execution": {
     "iopub.execute_input": "2022-06-29T10:40:44.647325Z",
     "iopub.status.busy": "2022-06-29T10:40:44.646171Z",
     "iopub.status.idle": "2022-06-29T10:40:44.726208Z",
     "shell.execute_reply": "2022-06-29T10:40:44.725446Z"
    },
    "papermill": {
     "duration": 0.113132,
     "end_time": "2022-06-29T10:40:44.728309",
     "exception": false,
     "start_time": "2022-06-29T10:40:44.615177",
     "status": "completed"
    },
    "tags": []
   },
   "outputs": [
    {
     "data": {
      "text/plain": [
       "(564296, 1382)"
      ]
     },
     "execution_count": 37,
     "metadata": {},
     "output_type": "execute_result"
    }
   ],
   "source": [
    "PL=[]\n",
    "empty=0\n",
    "for i in order_ORG_large :\n",
    "    for j in i:\n",
    "        PL.append(j)\n",
    "for i in order_ORG_large:\n",
    "    if i=='[]':\n",
    "        empty=empty+1\n",
    "len(PL), empty"
   ]
  },
  {
   "cell_type": "code",
   "execution_count": 38,
   "id": "3496bebe",
   "metadata": {
    "execution": {
     "iopub.execute_input": "2022-06-29T10:40:44.790946Z",
     "iopub.status.busy": "2022-06-29T10:40:44.790211Z",
     "iopub.status.idle": "2022-06-29T10:40:44.867237Z",
     "shell.execute_reply": "2022-06-29T10:40:44.866248Z"
    },
    "papermill": {
     "duration": 0.111004,
     "end_time": "2022-06-29T10:40:44.869835",
     "exception": false,
     "start_time": "2022-06-29T10:40:44.758831",
     "status": "completed"
    },
    "tags": []
   },
   "outputs": [
    {
     "data": {
      "text/plain": [
       "(543223, 858)"
      ]
     },
     "execution_count": 38,
     "metadata": {},
     "output_type": "execute_result"
    }
   ],
   "source": [
    "PL=[]\n",
    "empty=0\n",
    "for i in order_loc_large :\n",
    "    for j in i:\n",
    "        PL.append(j)\n",
    "for i in order_loc_large:\n",
    "    if i=='[]':\n",
    "        empty=empty+1\n",
    "len(PL), empty"
   ]
  },
  {
   "cell_type": "markdown",
   "id": "c4580682",
   "metadata": {
    "papermill": {
     "duration": 0.03028,
     "end_time": "2022-06-29T10:40:44.930266",
     "exception": false,
     "start_time": "2022-06-29T10:40:44.899986",
     "status": "completed"
    },
    "tags": []
   },
   "source": [
    "# Ner enlish large is better than ner english in extracted entities (as usuall i think)"
   ]
  },
  {
   "cell_type": "markdown",
   "id": "6b9754df",
   "metadata": {
    "papermill": {
     "duration": 0.029823,
     "end_time": "2022-06-29T10:40:44.990091",
     "exception": false,
     "start_time": "2022-06-29T10:40:44.960268",
     "status": "completed"
    },
    "tags": []
   },
   "source": [
    "****"
   ]
  },
  {
   "cell_type": "markdown",
   "id": "99b9b4f6",
   "metadata": {
    "papermill": {
     "duration": 0.030429,
     "end_time": "2022-06-29T10:40:45.050566",
     "exception": false,
     "start_time": "2022-06-29T10:40:45.020137",
     "status": "completed"
    },
    "tags": []
   },
   "source": [
    "# Contracts Ontonotes"
   ]
  },
  {
   "cell_type": "code",
   "execution_count": 39,
   "id": "5c2992ad",
   "metadata": {
    "execution": {
     "iopub.execute_input": "2022-06-29T10:40:45.126434Z",
     "iopub.status.busy": "2022-06-29T10:40:45.125534Z",
     "iopub.status.idle": "2022-06-29T10:40:46.193916Z",
     "shell.execute_reply": "2022-06-29T10:40:46.192749Z"
    },
    "papermill": {
     "duration": 1.10538,
     "end_time": "2022-06-29T10:40:46.196694",
     "exception": false,
     "start_time": "2022-06-29T10:40:45.091314",
     "status": "completed"
    },
    "tags": []
   },
   "outputs": [],
   "source": [
    "contract_ent=pd.read_csv(\"../input/all-csv/to_compare_result_contract_ner.csv\")\n",
    "contract_onto=pd.read_csv(\"../input/all-csv/contract_onto (1).csv\")"
   ]
  },
  {
   "cell_type": "code",
   "execution_count": 40,
   "id": "5fb4844b",
   "metadata": {
    "execution": {
     "iopub.execute_input": "2022-06-29T10:40:46.263893Z",
     "iopub.status.busy": "2022-06-29T10:40:46.262578Z",
     "iopub.status.idle": "2022-06-29T10:40:46.285177Z",
     "shell.execute_reply": "2022-06-29T10:40:46.283690Z"
    },
    "papermill": {
     "duration": 0.060357,
     "end_time": "2022-06-29T10:40:46.289037",
     "exception": false,
     "start_time": "2022-06-29T10:40:46.228680",
     "status": "completed"
    },
    "tags": []
   },
   "outputs": [
    {
     "data": {
      "text/html": [
       "<div>\n",
       "<style scoped>\n",
       "    .dataframe tbody tr th:only-of-type {\n",
       "        vertical-align: middle;\n",
       "    }\n",
       "\n",
       "    .dataframe tbody tr th {\n",
       "        vertical-align: top;\n",
       "    }\n",
       "\n",
       "    .dataframe thead th {\n",
       "        text-align: right;\n",
       "    }\n",
       "</style>\n",
       "<table border=\"1\" class=\"dataframe\">\n",
       "  <thead>\n",
       "    <tr style=\"text-align: right;\">\n",
       "      <th></th>\n",
       "      <th>contract_text</th>\n",
       "      <th>PERSON-nerenglish</th>\n",
       "      <th>LOC-nerenglish</th>\n",
       "      <th>ORG-nerenglish</th>\n",
       "      <th>Name-nerenglish</th>\n",
       "      <th>Other_name-nerenglish</th>\n",
       "      <th>Name-nerenglarge</th>\n",
       "      <th>LOC-nerenglarge</th>\n",
       "      <th>ORG-nerenglarge</th>\n",
       "      <th>other_namelarge</th>\n",
       "    </tr>\n",
       "  </thead>\n",
       "  <tbody>\n",
       "    <tr>\n",
       "      <th>0</th>\n",
       "      <td>North Carolina This indenture made entered Thi...</td>\n",
       "      <td>['Thos R Underwood', 'Alfred A McKerhan', 'Wm ...</td>\n",
       "      <td>['County of Carteret', 'Shepperd Creek', 'Cree...</td>\n",
       "      <td>[]</td>\n",
       "      <td>['Thos R Underwood', 'Alfred A McKerhan', 'Wm ...</td>\n",
       "      <td>[]</td>\n",
       "      <td>['H.G . Cutler', 'Thos R Underwood', 'Alfred A...</td>\n",
       "      <td>['North Carolina', 'County of Carteret', 'Bogu...</td>\n",
       "      <td>[]</td>\n",
       "      <td>[]</td>\n",
       "    </tr>\n",
       "    <tr>\n",
       "      <th>1</th>\n",
       "      <td>State of North Carolina Currituck County . Thi...</td>\n",
       "      <td>['John B. Etheridge']</td>\n",
       "      <td>['County State', 'Witnesseth', 'County of Curr...</td>\n",
       "      <td>[]</td>\n",
       "      <td>['John B. Etheridge']</td>\n",
       "      <td>[]</td>\n",
       "      <td>['John B. Etheridge', 'Little John Etheridge']</td>\n",
       "      <td>['State of North Carolina', 'Currituck County'...</td>\n",
       "      <td>[]</td>\n",
       "      <td>[]</td>\n",
       "    </tr>\n",
       "    <tr>\n",
       "      <th>2</th>\n",
       "      <td>near Lizzie Etheridges gate , thence South 56 ...</td>\n",
       "      <td>['John B Etheridge', 'Douglas Adam D. Etheridge']</td>\n",
       "      <td>['Red Hill', 'Croatan Sound']</td>\n",
       "      <td>[]</td>\n",
       "      <td>['John B Etheridge', 'Douglas Adam D. Etheridge']</td>\n",
       "      <td>[]</td>\n",
       "      <td>['Little John Etheridge', 'John B Etheridge', ...</td>\n",
       "      <td>['Lizzie Etheridges gate', 'Red Hill', 'Croata...</td>\n",
       "      <td>[]</td>\n",
       "      <td>[]</td>\n",
       "    </tr>\n",
       "    <tr>\n",
       "      <th>3</th>\n",
       "      <td>Copy Agreement of Apprenticeship Bu Mrs. Kate ...</td>\n",
       "      <td>['Kate V.Chamblin']</td>\n",
       "      <td>[]</td>\n",
       "      <td>[]</td>\n",
       "      <td>['Kate V.Chamblin']</td>\n",
       "      <td>[]</td>\n",
       "      <td>['Kate V.Chamblin', '1st', 'Geo . W. Rollins',...</td>\n",
       "      <td>['La', 'Lake Providence Carroll']</td>\n",
       "      <td>['U.S. Army']</td>\n",
       "      <td>[]</td>\n",
       "    </tr>\n",
       "    <tr>\n",
       "      <th>4</th>\n",
       "      <td>Copy Agreement of Apprenticeship . This agreem...</td>\n",
       "      <td>['Kate V. Chambliss', 'Betty Taylor Mary Taylo...</td>\n",
       "      <td>[]</td>\n",
       "      <td>[]</td>\n",
       "      <td>['Kate V. Chambliss', 'Betty Taylor Mary Taylo...</td>\n",
       "      <td>['African']</td>\n",
       "      <td>['Mrs', 'Kate V. Chambliss', 'James Samenett',...</td>\n",
       "      <td>['Carroll Parish', 'New Orleans', 'Louisiana',...</td>\n",
       "      <td>[]</td>\n",
       "      <td>['African']</td>\n",
       "    </tr>\n",
       "  </tbody>\n",
       "</table>\n",
       "</div>"
      ],
      "text/plain": [
       "                                       contract_text  \\\n",
       "0  North Carolina This indenture made entered Thi...   \n",
       "1  State of North Carolina Currituck County . Thi...   \n",
       "2  near Lizzie Etheridges gate , thence South 56 ...   \n",
       "3  Copy Agreement of Apprenticeship Bu Mrs. Kate ...   \n",
       "4  Copy Agreement of Apprenticeship . This agreem...   \n",
       "\n",
       "                                   PERSON-nerenglish  \\\n",
       "0  ['Thos R Underwood', 'Alfred A McKerhan', 'Wm ...   \n",
       "1                              ['John B. Etheridge']   \n",
       "2  ['John B Etheridge', 'Douglas Adam D. Etheridge']   \n",
       "3                                ['Kate V.Chamblin']   \n",
       "4  ['Kate V. Chambliss', 'Betty Taylor Mary Taylo...   \n",
       "\n",
       "                                      LOC-nerenglish ORG-nerenglish  \\\n",
       "0  ['County of Carteret', 'Shepperd Creek', 'Cree...             []   \n",
       "1  ['County State', 'Witnesseth', 'County of Curr...             []   \n",
       "2                      ['Red Hill', 'Croatan Sound']             []   \n",
       "3                                                 []             []   \n",
       "4                                                 []             []   \n",
       "\n",
       "                                     Name-nerenglish Other_name-nerenglish  \\\n",
       "0  ['Thos R Underwood', 'Alfred A McKerhan', 'Wm ...                    []   \n",
       "1                              ['John B. Etheridge']                    []   \n",
       "2  ['John B Etheridge', 'Douglas Adam D. Etheridge']                    []   \n",
       "3                                ['Kate V.Chamblin']                    []   \n",
       "4  ['Kate V. Chambliss', 'Betty Taylor Mary Taylo...           ['African']   \n",
       "\n",
       "                                    Name-nerenglarge  \\\n",
       "0  ['H.G . Cutler', 'Thos R Underwood', 'Alfred A...   \n",
       "1     ['John B. Etheridge', 'Little John Etheridge']   \n",
       "2  ['Little John Etheridge', 'John B Etheridge', ...   \n",
       "3  ['Kate V.Chamblin', '1st', 'Geo . W. Rollins',...   \n",
       "4  ['Mrs', 'Kate V. Chambliss', 'James Samenett',...   \n",
       "\n",
       "                                     LOC-nerenglarge ORG-nerenglarge  \\\n",
       "0  ['North Carolina', 'County of Carteret', 'Bogu...              []   \n",
       "1  ['State of North Carolina', 'Currituck County'...              []   \n",
       "2  ['Lizzie Etheridges gate', 'Red Hill', 'Croata...              []   \n",
       "3                  ['La', 'Lake Providence Carroll']   ['U.S. Army']   \n",
       "4  ['Carroll Parish', 'New Orleans', 'Louisiana',...              []   \n",
       "\n",
       "  other_namelarge  \n",
       "0              []  \n",
       "1              []  \n",
       "2              []  \n",
       "3              []  \n",
       "4     ['African']  "
      ]
     },
     "execution_count": 40,
     "metadata": {},
     "output_type": "execute_result"
    }
   ],
   "source": [
    "contract_ent.head()"
   ]
  },
  {
   "cell_type": "code",
   "execution_count": 41,
   "id": "7d1b90e2",
   "metadata": {
    "execution": {
     "iopub.execute_input": "2022-06-29T10:40:46.353783Z",
     "iopub.status.busy": "2022-06-29T10:40:46.352881Z",
     "iopub.status.idle": "2022-06-29T10:40:46.374732Z",
     "shell.execute_reply": "2022-06-29T10:40:46.373591Z"
    },
    "papermill": {
     "duration": 0.05631,
     "end_time": "2022-06-29T10:40:46.377356",
     "exception": false,
     "start_time": "2022-06-29T10:40:46.321046",
     "status": "completed"
    },
    "tags": []
   },
   "outputs": [
    {
     "data": {
      "text/html": [
       "<div>\n",
       "<style scoped>\n",
       "    .dataframe tbody tr th:only-of-type {\n",
       "        vertical-align: middle;\n",
       "    }\n",
       "\n",
       "    .dataframe tbody tr th {\n",
       "        vertical-align: top;\n",
       "    }\n",
       "\n",
       "    .dataframe thead th {\n",
       "        text-align: right;\n",
       "    }\n",
       "</style>\n",
       "<table border=\"1\" class=\"dataframe\">\n",
       "  <thead>\n",
       "    <tr style=\"text-align: right;\">\n",
       "      <th></th>\n",
       "      <th>contract_text</th>\n",
       "      <th>Name-ontonotes</th>\n",
       "      <th>GPE-ontonotes</th>\n",
       "      <th>ORG-ontonotes</th>\n",
       "      <th>Date-ontonotes</th>\n",
       "      <th>LOC-ontonotes</th>\n",
       "      <th>Building-ontonotes</th>\n",
       "      <th>Cardinal-ontonotes</th>\n",
       "      <th>postDate-ontonotes</th>\n",
       "      <th>standard_date-ontonotes</th>\n",
       "    </tr>\n",
       "  </thead>\n",
       "  <tbody>\n",
       "    <tr>\n",
       "      <th>0</th>\n",
       "      <td>North Carolina This indenture made entered Thi...</td>\n",
       "      <td>['H.G . Cutler', 'Thos R Underwood', 'Alfred A...</td>\n",
       "      <td>['North Carolina', 'County of Carteret']</td>\n",
       "      <td>[]</td>\n",
       "      <td>['This 5th day of November 1853']</td>\n",
       "      <td>['Stake North', 'Bogue Sound', 'Shepperd Creek']</td>\n",
       "      <td>[]</td>\n",
       "      <td>['five hundred ten', '13.0', '203', '209', '4'...</td>\n",
       "      <td>['This 5-November-1853', '5-This-1853', 'This-...</td>\n",
       "      <td>['5-November-1853', '5-This-1853', '7-November...</td>\n",
       "    </tr>\n",
       "    <tr>\n",
       "      <th>1</th>\n",
       "      <td>State of North Carolina Currituck County . Thi...</td>\n",
       "      <td>['John B. Etheridge', 'Little John Etheridge',...</td>\n",
       "      <td>['North Carolina', 'Currituck County', 'County...</td>\n",
       "      <td>[]</td>\n",
       "      <td>['fifth day of September , year', 'One Thousan...</td>\n",
       "      <td>['Roanoke Island', 'Croatain Sound']</td>\n",
       "      <td>[]</td>\n",
       "      <td>[]</td>\n",
       "      <td>[]</td>\n",
       "      <td>[]</td>\n",
       "    </tr>\n",
       "    <tr>\n",
       "      <th>2</th>\n",
       "      <td>near Lizzie Etheridges gate , thence South 56 ...</td>\n",
       "      <td>['Lizzie Etheridges', 'Little John Etheridge',...</td>\n",
       "      <td>[]</td>\n",
       "      <td>[]</td>\n",
       "      <td>[]</td>\n",
       "      <td>['Red Hill', 'Croatan Sound', 'Sound']</td>\n",
       "      <td>[]</td>\n",
       "      <td>[]</td>\n",
       "      <td>[]</td>\n",
       "      <td>[]</td>\n",
       "    </tr>\n",
       "    <tr>\n",
       "      <th>3</th>\n",
       "      <td>Copy Agreement of Apprenticeship Bu Mrs. Kate ...</td>\n",
       "      <td>['Kate V.Chamblin', 'James Samenett', 'Betty T...</td>\n",
       "      <td>['Carroll Parish La']</td>\n",
       "      <td>['U.S. Army']</td>\n",
       "      <td>['Oct. 1 1866', 'Nov. 3 1866']</td>\n",
       "      <td>[]</td>\n",
       "      <td>[]</td>\n",
       "      <td>[]</td>\n",
       "      <td>['1-Oct.-1866', '3-Nov.-1866']</td>\n",
       "      <td>['1-Oct.-1866', '3-Nov.-1866']</td>\n",
       "    </tr>\n",
       "    <tr>\n",
       "      <th>4</th>\n",
       "      <td>Copy Agreement of Apprenticeship . This agreem...</td>\n",
       "      <td>['Kate V. Chambliss', 'James Samenett', 'Betty...</td>\n",
       "      <td>['New Orleans Louisiana']</td>\n",
       "      <td>[]</td>\n",
       "      <td>['1 day of October A . D. 1866', 'Octr 31 1865...</td>\n",
       "      <td>[]</td>\n",
       "      <td>[]</td>\n",
       "      <td>['two']</td>\n",
       "      <td>['1-October-1866', '31-Octr-1865', '1-Oct.-186...</td>\n",
       "      <td>['1-October-1866', '31-Octr-1865', '1-Oct.-186...</td>\n",
       "    </tr>\n",
       "  </tbody>\n",
       "</table>\n",
       "</div>"
      ],
      "text/plain": [
       "                                       contract_text  \\\n",
       "0  North Carolina This indenture made entered Thi...   \n",
       "1  State of North Carolina Currituck County . Thi...   \n",
       "2  near Lizzie Etheridges gate , thence South 56 ...   \n",
       "3  Copy Agreement of Apprenticeship Bu Mrs. Kate ...   \n",
       "4  Copy Agreement of Apprenticeship . This agreem...   \n",
       "\n",
       "                                      Name-ontonotes  \\\n",
       "0  ['H.G . Cutler', 'Thos R Underwood', 'Alfred A...   \n",
       "1  ['John B. Etheridge', 'Little John Etheridge',...   \n",
       "2  ['Lizzie Etheridges', 'Little John Etheridge',...   \n",
       "3  ['Kate V.Chamblin', 'James Samenett', 'Betty T...   \n",
       "4  ['Kate V. Chambliss', 'James Samenett', 'Betty...   \n",
       "\n",
       "                                       GPE-ontonotes  ORG-ontonotes  \\\n",
       "0           ['North Carolina', 'County of Carteret']             []   \n",
       "1  ['North Carolina', 'Currituck County', 'County...             []   \n",
       "2                                                 []             []   \n",
       "3                              ['Carroll Parish La']  ['U.S. Army']   \n",
       "4                          ['New Orleans Louisiana']             []   \n",
       "\n",
       "                                      Date-ontonotes  \\\n",
       "0                  ['This 5th day of November 1853']   \n",
       "1  ['fifth day of September , year', 'One Thousan...   \n",
       "2                                                 []   \n",
       "3                     ['Oct. 1 1866', 'Nov. 3 1866']   \n",
       "4  ['1 day of October A . D. 1866', 'Octr 31 1865...   \n",
       "\n",
       "                                      LOC-ontonotes Building-ontonotes  \\\n",
       "0  ['Stake North', 'Bogue Sound', 'Shepperd Creek']                 []   \n",
       "1              ['Roanoke Island', 'Croatain Sound']                 []   \n",
       "2            ['Red Hill', 'Croatan Sound', 'Sound']                 []   \n",
       "3                                                []                 []   \n",
       "4                                                []                 []   \n",
       "\n",
       "                                  Cardinal-ontonotes  \\\n",
       "0  ['five hundred ten', '13.0', '203', '209', '4'...   \n",
       "1                                                 []   \n",
       "2                                                 []   \n",
       "3                                                 []   \n",
       "4                                            ['two']   \n",
       "\n",
       "                                  postDate-ontonotes  \\\n",
       "0  ['This 5-November-1853', '5-This-1853', 'This-...   \n",
       "1                                                 []   \n",
       "2                                                 []   \n",
       "3                     ['1-Oct.-1866', '3-Nov.-1866']   \n",
       "4  ['1-October-1866', '31-Octr-1865', '1-Oct.-186...   \n",
       "\n",
       "                             standard_date-ontonotes  \n",
       "0  ['5-November-1853', '5-This-1853', '7-November...  \n",
       "1                                                 []  \n",
       "2                                                 []  \n",
       "3                     ['1-Oct.-1866', '3-Nov.-1866']  \n",
       "4  ['1-October-1866', '31-Octr-1865', '1-Oct.-186...  "
      ]
     },
     "execution_count": 41,
     "metadata": {},
     "output_type": "execute_result"
    }
   ],
   "source": [
    "contract_onto.head()"
   ]
  },
  {
   "cell_type": "code",
   "execution_count": 42,
   "id": "ba42d653",
   "metadata": {
    "execution": {
     "iopub.execute_input": "2022-06-29T10:40:46.453048Z",
     "iopub.status.busy": "2022-06-29T10:40:46.452199Z",
     "iopub.status.idle": "2022-06-29T10:40:46.459604Z",
     "shell.execute_reply": "2022-06-29T10:40:46.458695Z"
    },
    "papermill": {
     "duration": 0.050199,
     "end_time": "2022-06-29T10:40:46.462188",
     "exception": false,
     "start_time": "2022-06-29T10:40:46.411989",
     "status": "completed"
    },
    "tags": []
   },
   "outputs": [],
   "source": [
    "contract_text=contract_ent[\"contract_text\"]\n",
    "contract_Per_onto=contract_onto[\"Name-ontonotes\"]\n",
    "contract_GPE_onto=contract_onto[\"GPE-ontonotes\"]\n",
    "contract_ORG_onto=contract_onto[\"ORG-ontonotes\"]\n",
    "contract_date_onto=contract_onto[\"standard_date-ontonotes\"]\n",
    "contract_loc_onto=contract_onto[\"LOC-ontonotes\"]\n",
    "contract_cardinal=contract_onto[\"Cardinal-ontonotes\"]"
   ]
  },
  {
   "cell_type": "code",
   "execution_count": 43,
   "id": "bc515216",
   "metadata": {
    "execution": {
     "iopub.execute_input": "2022-06-29T10:40:46.530191Z",
     "iopub.status.busy": "2022-06-29T10:40:46.529781Z",
     "iopub.status.idle": "2022-06-29T10:40:46.537107Z",
     "shell.execute_reply": "2022-06-29T10:40:46.535984Z"
    },
    "papermill": {
     "duration": 0.043883,
     "end_time": "2022-06-29T10:40:46.539635",
     "exception": false,
     "start_time": "2022-06-29T10:40:46.495752",
     "status": "completed"
    },
    "tags": []
   },
   "outputs": [
    {
     "data": {
      "text/plain": [
       "'North Carolina This indenture made entered This 5th day of November 1853 . By H.G . Cutler of County of Carteret of first part Thos R Underwood , Alfred A McKerhan , Wm H Washington , Geo . S Stevenson , John D Williams Nathan A Stedman of second part . Whereas parties of Second part divers others associates purchased of said H. G. Cutler , tract of land situated County of Carteret bounded described follows ; beginning Stake North side of Bogue Sound running thence westwardly various corners of sound , five hundred ten poles Straight . Thence N. 13.0 E. 203 poles , thence East 209 poles , south 4 poles , thence North 85 , E. 116 poles , thence W. 20.0 W. 96 poles , thence N 45.0 E. 21 12 poles thence E. 29 12 poles , thence S. 83.0 E. 220 poles , thence South 5.0 W. Shepperd Creek thence Westerly said Creek South West Corner of tract of land converged said Cutler John Sabuton Then S 50 West along Sabutons West line beginning , containing Estimation Nine hundred four acres survey of said land made William H Marshall hereunto attached Marked A. land said'"
      ]
     },
     "execution_count": 43,
     "metadata": {},
     "output_type": "execute_result"
    }
   ],
   "source": [
    "contract_text[0]"
   ]
  },
  {
   "cell_type": "code",
   "execution_count": 44,
   "id": "8b60964a",
   "metadata": {
    "execution": {
     "iopub.execute_input": "2022-06-29T10:40:46.612134Z",
     "iopub.status.busy": "2022-06-29T10:40:46.610605Z",
     "iopub.status.idle": "2022-06-29T10:40:46.619858Z",
     "shell.execute_reply": "2022-06-29T10:40:46.618613Z"
    },
    "papermill": {
     "duration": 0.046743,
     "end_time": "2022-06-29T10:40:46.622316",
     "exception": false,
     "start_time": "2022-06-29T10:40:46.575573",
     "status": "completed"
    },
    "tags": []
   },
   "outputs": [
    {
     "data": {
      "text/plain": [
       "'[]'"
      ]
     },
     "execution_count": 44,
     "metadata": {},
     "output_type": "execute_result"
    }
   ],
   "source": [
    "contract_date_onto[150]"
   ]
  },
  {
   "cell_type": "code",
   "execution_count": 45,
   "id": "9af2b42d",
   "metadata": {
    "execution": {
     "iopub.execute_input": "2022-06-29T10:40:46.691317Z",
     "iopub.status.busy": "2022-06-29T10:40:46.689626Z",
     "iopub.status.idle": "2022-06-29T10:40:46.700107Z",
     "shell.execute_reply": "2022-06-29T10:40:46.698609Z"
    },
    "papermill": {
     "duration": 0.046583,
     "end_time": "2022-06-29T10:40:46.702393",
     "exception": false,
     "start_time": "2022-06-29T10:40:46.655810",
     "status": "completed"
    },
    "tags": []
   },
   "outputs": [
    {
     "data": {
      "text/plain": [
       "\"['H.G . Cutler', 'Thos R Underwood', 'Alfred A McKerhan', 'John D Williams', 'Nathan A Stedman', 'H . G. Cutler', 'Cutler', 'William H Marshall']\""
      ]
     },
     "execution_count": 45,
     "metadata": {},
     "output_type": "execute_result"
    }
   ],
   "source": [
    "contract_Per_onto[0]"
   ]
  },
  {
   "cell_type": "code",
   "execution_count": 46,
   "id": "db653fa3",
   "metadata": {
    "execution": {
     "iopub.execute_input": "2022-06-29T10:40:46.769429Z",
     "iopub.status.busy": "2022-06-29T10:40:46.768352Z",
     "iopub.status.idle": "2022-06-29T10:40:46.776938Z",
     "shell.execute_reply": "2022-06-29T10:40:46.775727Z"
    },
    "papermill": {
     "duration": 0.045678,
     "end_time": "2022-06-29T10:40:46.780304",
     "exception": false,
     "start_time": "2022-06-29T10:40:46.734626",
     "status": "completed"
    },
    "tags": []
   },
   "outputs": [
    {
     "data": {
      "text/plain": [
       "\"['North Carolina', 'County of Carteret']\""
      ]
     },
     "execution_count": 46,
     "metadata": {},
     "output_type": "execute_result"
    }
   ],
   "source": [
    "contract_GPE_onto[0]"
   ]
  },
  {
   "cell_type": "code",
   "execution_count": 47,
   "id": "ffe1d812",
   "metadata": {
    "execution": {
     "iopub.execute_input": "2022-06-29T10:40:46.852187Z",
     "iopub.status.busy": "2022-06-29T10:40:46.851283Z",
     "iopub.status.idle": "2022-06-29T10:40:46.860875Z",
     "shell.execute_reply": "2022-06-29T10:40:46.859700Z"
    },
    "papermill": {
     "duration": 0.048585,
     "end_time": "2022-06-29T10:40:46.863711",
     "exception": false,
     "start_time": "2022-06-29T10:40:46.815126",
     "status": "completed"
    },
    "tags": []
   },
   "outputs": [
    {
     "data": {
      "text/plain": [
       "'[]'"
      ]
     },
     "execution_count": 47,
     "metadata": {},
     "output_type": "execute_result"
    }
   ],
   "source": [
    "contract_ORG_onto[0]"
   ]
  },
  {
   "cell_type": "code",
   "execution_count": 48,
   "id": "25e07c54",
   "metadata": {
    "execution": {
     "iopub.execute_input": "2022-06-29T10:40:46.968406Z",
     "iopub.status.busy": "2022-06-29T10:40:46.968033Z",
     "iopub.status.idle": "2022-06-29T10:40:46.975133Z",
     "shell.execute_reply": "2022-06-29T10:40:46.974267Z"
    },
    "papermill": {
     "duration": 0.06266,
     "end_time": "2022-06-29T10:40:46.978280",
     "exception": false,
     "start_time": "2022-06-29T10:40:46.915620",
     "status": "completed"
    },
    "tags": []
   },
   "outputs": [
    {
     "data": {
      "text/plain": [
       "\"['Stake North', 'Bogue Sound', 'Shepperd Creek']\""
      ]
     },
     "execution_count": 48,
     "metadata": {},
     "output_type": "execute_result"
    }
   ],
   "source": [
    "contract_loc_onto[0]"
   ]
  },
  {
   "cell_type": "code",
   "execution_count": 49,
   "id": "14bac9ee",
   "metadata": {
    "execution": {
     "iopub.execute_input": "2022-06-29T10:40:47.072349Z",
     "iopub.status.busy": "2022-06-29T10:40:47.071547Z",
     "iopub.status.idle": "2022-06-29T10:40:47.078130Z",
     "shell.execute_reply": "2022-06-29T10:40:47.077221Z"
    },
    "papermill": {
     "duration": 0.046595,
     "end_time": "2022-06-29T10:40:47.080243",
     "exception": false,
     "start_time": "2022-06-29T10:40:47.033648",
     "status": "completed"
    },
    "tags": []
   },
   "outputs": [
    {
     "data": {
      "text/plain": [
       "\"['five hundred ten', '13.0', '203', '209', '4', '85', '116', '20.0', '96', '45.0', '21 12', '29 12', '83.0', '220', '5.0', '50']\""
      ]
     },
     "execution_count": 49,
     "metadata": {},
     "output_type": "execute_result"
    }
   ],
   "source": [
    "contract_cardinal[0]"
   ]
  },
  {
   "cell_type": "code",
   "execution_count": 50,
   "id": "18075aac",
   "metadata": {
    "execution": {
     "iopub.execute_input": "2022-06-29T10:40:47.151011Z",
     "iopub.status.busy": "2022-06-29T10:40:47.149888Z",
     "iopub.status.idle": "2022-06-29T10:40:47.230764Z",
     "shell.execute_reply": "2022-06-29T10:40:47.229453Z"
    },
    "papermill": {
     "duration": 0.117595,
     "end_time": "2022-06-29T10:40:47.233231",
     "exception": false,
     "start_time": "2022-06-29T10:40:47.115636",
     "status": "completed"
    },
    "tags": []
   },
   "outputs": [
    {
     "data": {
      "text/plain": [
       "(426318, 10160)"
      ]
     },
     "execution_count": 50,
     "metadata": {},
     "output_type": "execute_result"
    }
   ],
   "source": [
    "PL=[]\n",
    "empty=0\n",
    "for i in contract_date_onto :\n",
    "    for j in i:\n",
    "        PL.append(j)\n",
    "for i in contract_date_onto:\n",
    "    if i=='[]':\n",
    "        empty=empty+1\n",
    "len(PL), empty"
   ]
  },
  {
   "cell_type": "code",
   "execution_count": 51,
   "id": "a3a91c14",
   "metadata": {
    "execution": {
     "iopub.execute_input": "2022-06-29T10:40:47.307889Z",
     "iopub.status.busy": "2022-06-29T10:40:47.307078Z",
     "iopub.status.idle": "2022-06-29T10:40:47.520797Z",
     "shell.execute_reply": "2022-06-29T10:40:47.519646Z"
    },
    "papermill": {
     "duration": 0.257634,
     "end_time": "2022-06-29T10:40:47.523682",
     "exception": false,
     "start_time": "2022-06-29T10:40:47.266048",
     "status": "completed"
    },
    "tags": []
   },
   "outputs": [
    {
     "data": {
      "text/plain": [
       "(1525017, 3304)"
      ]
     },
     "execution_count": 51,
     "metadata": {},
     "output_type": "execute_result"
    }
   ],
   "source": [
    "PL=[]\n",
    "empty=0\n",
    "for i in contract_Per_onto :\n",
    "    for j in i:\n",
    "        PL.append(j)\n",
    "for i in contract_Per_onto:\n",
    "    if i=='[]':\n",
    "        empty=empty+1\n",
    "len(PL), empty"
   ]
  },
  {
   "cell_type": "code",
   "execution_count": 52,
   "id": "36353238",
   "metadata": {
    "execution": {
     "iopub.execute_input": "2022-06-29T10:40:47.593876Z",
     "iopub.status.busy": "2022-06-29T10:40:47.593481Z",
     "iopub.status.idle": "2022-06-29T10:40:47.664050Z",
     "shell.execute_reply": "2022-06-29T10:40:47.662876Z"
    },
    "papermill": {
     "duration": 0.108354,
     "end_time": "2022-06-29T10:40:47.666551",
     "exception": false,
     "start_time": "2022-06-29T10:40:47.558197",
     "status": "completed"
    },
    "tags": []
   },
   "outputs": [
    {
     "data": {
      "text/plain": [
       "(358023, 12932)"
      ]
     },
     "execution_count": 52,
     "metadata": {},
     "output_type": "execute_result"
    }
   ],
   "source": [
    "PL=[]\n",
    "empty=0\n",
    "for i in contract_GPE_onto :\n",
    "    for j in i:\n",
    "        PL.append(j)\n",
    "for i in contract_GPE_onto:\n",
    "    if i=='[]':\n",
    "        empty=empty+1\n",
    "len(PL), empty"
   ]
  },
  {
   "cell_type": "code",
   "execution_count": 53,
   "id": "4c35fe35",
   "metadata": {
    "execution": {
     "iopub.execute_input": "2022-06-29T10:40:47.737559Z",
     "iopub.status.busy": "2022-06-29T10:40:47.736206Z",
     "iopub.status.idle": "2022-06-29T10:40:47.768014Z",
     "shell.execute_reply": "2022-06-29T10:40:47.766800Z"
    },
    "papermill": {
     "duration": 0.070267,
     "end_time": "2022-06-29T10:40:47.770690",
     "exception": false,
     "start_time": "2022-06-29T10:40:47.700423",
     "status": "completed"
    },
    "tags": []
   },
   "outputs": [
    {
     "data": {
      "text/plain": [
       "(60156, 23015)"
      ]
     },
     "execution_count": 53,
     "metadata": {},
     "output_type": "execute_result"
    }
   ],
   "source": [
    "PL=[]\n",
    "empty=0\n",
    "for i in contract_loc_onto :\n",
    "    for j in i:\n",
    "        PL.append(j)\n",
    "for i in contract_loc_onto:\n",
    "    if i=='[]':\n",
    "        empty=empty+1\n",
    "len(PL), empty"
   ]
  },
  {
   "cell_type": "markdown",
   "id": "15fe01f3",
   "metadata": {
    "papermill": {
     "duration": 0.034366,
     "end_time": "2022-06-29T10:40:47.839205",
     "exception": false,
     "start_time": "2022-06-29T10:40:47.804839",
     "status": "completed"
    },
    "tags": []
   },
   "source": [
    "****"
   ]
  },
  {
   "cell_type": "markdown",
   "id": "d5200c07",
   "metadata": {
    "papermill": {
     "duration": 0.032545,
     "end_time": "2022-06-29T10:40:47.908154",
     "exception": false,
     "start_time": "2022-06-29T10:40:47.875609",
     "status": "completed"
    },
    "tags": []
   },
   "source": [
    "# Contracts Ner english"
   ]
  },
  {
   "cell_type": "code",
   "execution_count": 54,
   "id": "f4dc8b0a",
   "metadata": {
    "execution": {
     "iopub.execute_input": "2022-06-29T10:40:47.978899Z",
     "iopub.status.busy": "2022-06-29T10:40:47.978131Z",
     "iopub.status.idle": "2022-06-29T10:40:47.995381Z",
     "shell.execute_reply": "2022-06-29T10:40:47.994153Z"
    },
    "papermill": {
     "duration": 0.054418,
     "end_time": "2022-06-29T10:40:47.997734",
     "exception": false,
     "start_time": "2022-06-29T10:40:47.943316",
     "status": "completed"
    },
    "tags": []
   },
   "outputs": [
    {
     "data": {
      "text/html": [
       "<div>\n",
       "<style scoped>\n",
       "    .dataframe tbody tr th:only-of-type {\n",
       "        vertical-align: middle;\n",
       "    }\n",
       "\n",
       "    .dataframe tbody tr th {\n",
       "        vertical-align: top;\n",
       "    }\n",
       "\n",
       "    .dataframe thead th {\n",
       "        text-align: right;\n",
       "    }\n",
       "</style>\n",
       "<table border=\"1\" class=\"dataframe\">\n",
       "  <thead>\n",
       "    <tr style=\"text-align: right;\">\n",
       "      <th></th>\n",
       "      <th>contract_text</th>\n",
       "      <th>PERSON-nerenglish</th>\n",
       "      <th>LOC-nerenglish</th>\n",
       "      <th>ORG-nerenglish</th>\n",
       "      <th>Name-nerenglish</th>\n",
       "      <th>Other_name-nerenglish</th>\n",
       "      <th>Name-nerenglarge</th>\n",
       "      <th>LOC-nerenglarge</th>\n",
       "      <th>ORG-nerenglarge</th>\n",
       "      <th>other_namelarge</th>\n",
       "    </tr>\n",
       "  </thead>\n",
       "  <tbody>\n",
       "    <tr>\n",
       "      <th>0</th>\n",
       "      <td>North Carolina This indenture made entered Thi...</td>\n",
       "      <td>['Thos R Underwood', 'Alfred A McKerhan', 'Wm ...</td>\n",
       "      <td>['County of Carteret', 'Shepperd Creek', 'Cree...</td>\n",
       "      <td>[]</td>\n",
       "      <td>['Thos R Underwood', 'Alfred A McKerhan', 'Wm ...</td>\n",
       "      <td>[]</td>\n",
       "      <td>['H.G . Cutler', 'Thos R Underwood', 'Alfred A...</td>\n",
       "      <td>['North Carolina', 'County of Carteret', 'Bogu...</td>\n",
       "      <td>[]</td>\n",
       "      <td>[]</td>\n",
       "    </tr>\n",
       "    <tr>\n",
       "      <th>1</th>\n",
       "      <td>State of North Carolina Currituck County . Thi...</td>\n",
       "      <td>['John B. Etheridge']</td>\n",
       "      <td>['County State', 'Witnesseth', 'County of Curr...</td>\n",
       "      <td>[]</td>\n",
       "      <td>['John B. Etheridge']</td>\n",
       "      <td>[]</td>\n",
       "      <td>['John B. Etheridge', 'Little John Etheridge']</td>\n",
       "      <td>['State of North Carolina', 'Currituck County'...</td>\n",
       "      <td>[]</td>\n",
       "      <td>[]</td>\n",
       "    </tr>\n",
       "    <tr>\n",
       "      <th>2</th>\n",
       "      <td>near Lizzie Etheridges gate , thence South 56 ...</td>\n",
       "      <td>['John B Etheridge', 'Douglas Adam D. Etheridge']</td>\n",
       "      <td>['Red Hill', 'Croatan Sound']</td>\n",
       "      <td>[]</td>\n",
       "      <td>['John B Etheridge', 'Douglas Adam D. Etheridge']</td>\n",
       "      <td>[]</td>\n",
       "      <td>['Little John Etheridge', 'John B Etheridge', ...</td>\n",
       "      <td>['Lizzie Etheridges gate', 'Red Hill', 'Croata...</td>\n",
       "      <td>[]</td>\n",
       "      <td>[]</td>\n",
       "    </tr>\n",
       "    <tr>\n",
       "      <th>3</th>\n",
       "      <td>Copy Agreement of Apprenticeship Bu Mrs. Kate ...</td>\n",
       "      <td>['Kate V.Chamblin']</td>\n",
       "      <td>[]</td>\n",
       "      <td>[]</td>\n",
       "      <td>['Kate V.Chamblin']</td>\n",
       "      <td>[]</td>\n",
       "      <td>['Kate V.Chamblin', '1st', 'Geo . W. Rollins',...</td>\n",
       "      <td>['La', 'Lake Providence Carroll']</td>\n",
       "      <td>['U.S. Army']</td>\n",
       "      <td>[]</td>\n",
       "    </tr>\n",
       "    <tr>\n",
       "      <th>4</th>\n",
       "      <td>Copy Agreement of Apprenticeship . This agreem...</td>\n",
       "      <td>['Kate V. Chambliss', 'Betty Taylor Mary Taylo...</td>\n",
       "      <td>[]</td>\n",
       "      <td>[]</td>\n",
       "      <td>['Kate V. Chambliss', 'Betty Taylor Mary Taylo...</td>\n",
       "      <td>['African']</td>\n",
       "      <td>['Mrs', 'Kate V. Chambliss', 'James Samenett',...</td>\n",
       "      <td>['Carroll Parish', 'New Orleans', 'Louisiana',...</td>\n",
       "      <td>[]</td>\n",
       "      <td>['African']</td>\n",
       "    </tr>\n",
       "  </tbody>\n",
       "</table>\n",
       "</div>"
      ],
      "text/plain": [
       "                                       contract_text  \\\n",
       "0  North Carolina This indenture made entered Thi...   \n",
       "1  State of North Carolina Currituck County . Thi...   \n",
       "2  near Lizzie Etheridges gate , thence South 56 ...   \n",
       "3  Copy Agreement of Apprenticeship Bu Mrs. Kate ...   \n",
       "4  Copy Agreement of Apprenticeship . This agreem...   \n",
       "\n",
       "                                   PERSON-nerenglish  \\\n",
       "0  ['Thos R Underwood', 'Alfred A McKerhan', 'Wm ...   \n",
       "1                              ['John B. Etheridge']   \n",
       "2  ['John B Etheridge', 'Douglas Adam D. Etheridge']   \n",
       "3                                ['Kate V.Chamblin']   \n",
       "4  ['Kate V. Chambliss', 'Betty Taylor Mary Taylo...   \n",
       "\n",
       "                                      LOC-nerenglish ORG-nerenglish  \\\n",
       "0  ['County of Carteret', 'Shepperd Creek', 'Cree...             []   \n",
       "1  ['County State', 'Witnesseth', 'County of Curr...             []   \n",
       "2                      ['Red Hill', 'Croatan Sound']             []   \n",
       "3                                                 []             []   \n",
       "4                                                 []             []   \n",
       "\n",
       "                                     Name-nerenglish Other_name-nerenglish  \\\n",
       "0  ['Thos R Underwood', 'Alfred A McKerhan', 'Wm ...                    []   \n",
       "1                              ['John B. Etheridge']                    []   \n",
       "2  ['John B Etheridge', 'Douglas Adam D. Etheridge']                    []   \n",
       "3                                ['Kate V.Chamblin']                    []   \n",
       "4  ['Kate V. Chambliss', 'Betty Taylor Mary Taylo...           ['African']   \n",
       "\n",
       "                                    Name-nerenglarge  \\\n",
       "0  ['H.G . Cutler', 'Thos R Underwood', 'Alfred A...   \n",
       "1     ['John B. Etheridge', 'Little John Etheridge']   \n",
       "2  ['Little John Etheridge', 'John B Etheridge', ...   \n",
       "3  ['Kate V.Chamblin', '1st', 'Geo . W. Rollins',...   \n",
       "4  ['Mrs', 'Kate V. Chambliss', 'James Samenett',...   \n",
       "\n",
       "                                     LOC-nerenglarge ORG-nerenglarge  \\\n",
       "0  ['North Carolina', 'County of Carteret', 'Bogu...              []   \n",
       "1  ['State of North Carolina', 'Currituck County'...              []   \n",
       "2  ['Lizzie Etheridges gate', 'Red Hill', 'Croata...              []   \n",
       "3                  ['La', 'Lake Providence Carroll']   ['U.S. Army']   \n",
       "4  ['Carroll Parish', 'New Orleans', 'Louisiana',...              []   \n",
       "\n",
       "  other_namelarge  \n",
       "0              []  \n",
       "1              []  \n",
       "2              []  \n",
       "3              []  \n",
       "4     ['African']  "
      ]
     },
     "execution_count": 54,
     "metadata": {},
     "output_type": "execute_result"
    }
   ],
   "source": [
    "contract_ent.head()"
   ]
  },
  {
   "cell_type": "code",
   "execution_count": 55,
   "id": "de6755b8",
   "metadata": {
    "execution": {
     "iopub.execute_input": "2022-06-29T10:40:48.069809Z",
     "iopub.status.busy": "2022-06-29T10:40:48.068794Z",
     "iopub.status.idle": "2022-06-29T10:40:48.075516Z",
     "shell.execute_reply": "2022-06-29T10:40:48.074597Z"
    },
    "papermill": {
     "duration": 0.046142,
     "end_time": "2022-06-29T10:40:48.077902",
     "exception": false,
     "start_time": "2022-06-29T10:40:48.031760",
     "status": "completed"
    },
    "tags": []
   },
   "outputs": [],
   "source": [
    "contract_Per_ner=contract_ent[\"PERSON-nerenglish\"]\n",
    "contract_loc_ner=contract_ent[\"LOC-nerenglish\"]\n",
    "contract_ORG_ner=contract_ent[\"ORG-nerenglish\"]\n",
    "contract_other_ner=contract_ent[\"Other_name-nerenglish\"]"
   ]
  },
  {
   "cell_type": "code",
   "execution_count": 56,
   "id": "967c7593",
   "metadata": {
    "execution": {
     "iopub.execute_input": "2022-06-29T10:40:48.145801Z",
     "iopub.status.busy": "2022-06-29T10:40:48.145010Z",
     "iopub.status.idle": "2022-06-29T10:40:48.152282Z",
     "shell.execute_reply": "2022-06-29T10:40:48.151198Z"
    },
    "papermill": {
     "duration": 0.043751,
     "end_time": "2022-06-29T10:40:48.154597",
     "exception": false,
     "start_time": "2022-06-29T10:40:48.110846",
     "status": "completed"
    },
    "tags": []
   },
   "outputs": [
    {
     "data": {
      "text/plain": [
       "'AGREEMENT FOR LABOR . THIS INDENTURE , Made entered day of A.D , 186 , of County of State of North Carolina , of first part , undersigned , Free Laborer , of second part : WITNESSETH , That said Laborers agreed work said date day of 186 186 ; kinds of work common farms of country ; work faithfully , respectful deportment . And agree , receive every month , amount placed opposite names , rest end of year ; amount retained shall forfeited violation of contract clearly proven . And agree , time lost idleness absence without leave , shall paid . And said agreed furnish said laborers comfortable quarters , sufficient rations , amount of money per month , stands opposite respective names ; treat kindly , encourage establishment of schools children . Henry Pearce No . NAME . Age . Wages . DOLLS . CTS . Monthly Paymt . DOLLS . CTS . Henry Pearce Tho H Hay Assist . Supt . Bureau R. F. A. L. , SubDistrict of'"
      ]
     },
     "execution_count": 56,
     "metadata": {},
     "output_type": "execute_result"
    }
   ],
   "source": [
    "contract_text[1000]"
   ]
  },
  {
   "cell_type": "code",
   "execution_count": 57,
   "id": "47257a72",
   "metadata": {
    "execution": {
     "iopub.execute_input": "2022-06-29T10:40:48.224044Z",
     "iopub.status.busy": "2022-06-29T10:40:48.222840Z",
     "iopub.status.idle": "2022-06-29T10:40:48.229301Z",
     "shell.execute_reply": "2022-06-29T10:40:48.228521Z"
    },
    "papermill": {
     "duration": 0.04281,
     "end_time": "2022-06-29T10:40:48.231540",
     "exception": false,
     "start_time": "2022-06-29T10:40:48.188730",
     "status": "completed"
    },
    "tags": []
   },
   "outputs": [
    {
     "data": {
      "text/plain": [
       "\"['Henry Pearce']\""
      ]
     },
     "execution_count": 57,
     "metadata": {},
     "output_type": "execute_result"
    }
   ],
   "source": [
    "contract_Per_ner[1000]"
   ]
  },
  {
   "cell_type": "code",
   "execution_count": 58,
   "id": "e0ec4dc7",
   "metadata": {
    "execution": {
     "iopub.execute_input": "2022-06-29T10:40:48.302881Z",
     "iopub.status.busy": "2022-06-29T10:40:48.301943Z",
     "iopub.status.idle": "2022-06-29T10:40:48.308220Z",
     "shell.execute_reply": "2022-06-29T10:40:48.306971Z"
    },
    "papermill": {
     "duration": 0.044942,
     "end_time": "2022-06-29T10:40:48.310645",
     "exception": false,
     "start_time": "2022-06-29T10:40:48.265703",
     "status": "completed"
    },
    "tags": []
   },
   "outputs": [
    {
     "data": {
      "text/plain": [
       "'[]'"
      ]
     },
     "execution_count": 58,
     "metadata": {},
     "output_type": "execute_result"
    }
   ],
   "source": [
    "contract_loc_ner[1000]"
   ]
  },
  {
   "cell_type": "code",
   "execution_count": 59,
   "id": "d80f9932",
   "metadata": {
    "execution": {
     "iopub.execute_input": "2022-06-29T10:40:48.384255Z",
     "iopub.status.busy": "2022-06-29T10:40:48.383085Z",
     "iopub.status.idle": "2022-06-29T10:40:48.390754Z",
     "shell.execute_reply": "2022-06-29T10:40:48.389790Z"
    },
    "papermill": {
     "duration": 0.045078,
     "end_time": "2022-06-29T10:40:48.392925",
     "exception": false,
     "start_time": "2022-06-29T10:40:48.347847",
     "status": "completed"
    },
    "tags": []
   },
   "outputs": [
    {
     "data": {
      "text/plain": [
       "\"['Henry Pearce Tho H Hay Assist']\""
      ]
     },
     "execution_count": 59,
     "metadata": {},
     "output_type": "execute_result"
    }
   ],
   "source": [
    "contract_ORG_ner[1000]"
   ]
  },
  {
   "cell_type": "code",
   "execution_count": 60,
   "id": "7ef3f2d9",
   "metadata": {
    "execution": {
     "iopub.execute_input": "2022-06-29T10:40:48.466610Z",
     "iopub.status.busy": "2022-06-29T10:40:48.465967Z",
     "iopub.status.idle": "2022-06-29T10:40:48.472063Z",
     "shell.execute_reply": "2022-06-29T10:40:48.471163Z"
    },
    "papermill": {
     "duration": 0.046248,
     "end_time": "2022-06-29T10:40:48.474310",
     "exception": false,
     "start_time": "2022-06-29T10:40:48.428062",
     "status": "completed"
    },
    "tags": []
   },
   "outputs": [
    {
     "data": {
      "text/plain": [
       "'[]'"
      ]
     },
     "execution_count": 60,
     "metadata": {},
     "output_type": "execute_result"
    }
   ],
   "source": [
    "contract_other_ner[1000]"
   ]
  },
  {
   "cell_type": "markdown",
   "id": "3c6ae9ff",
   "metadata": {
    "papermill": {
     "duration": 0.032687,
     "end_time": "2022-06-29T10:40:48.540514",
     "exception": false,
     "start_time": "2022-06-29T10:40:48.507827",
     "status": "completed"
    },
    "tags": []
   },
   "source": [
    "**not bad but ontonotes still better**"
   ]
  },
  {
   "cell_type": "code",
   "execution_count": 61,
   "id": "90a31342",
   "metadata": {
    "execution": {
     "iopub.execute_input": "2022-06-29T10:40:48.608429Z",
     "iopub.status.busy": "2022-06-29T10:40:48.608015Z",
     "iopub.status.idle": "2022-06-29T10:40:48.728543Z",
     "shell.execute_reply": "2022-06-29T10:40:48.727202Z"
    },
    "papermill": {
     "duration": 0.157854,
     "end_time": "2022-06-29T10:40:48.731277",
     "exception": false,
     "start_time": "2022-06-29T10:40:48.573423",
     "status": "completed"
    },
    "tags": []
   },
   "outputs": [
    {
     "data": {
      "text/plain": [
       "(790998, 7423)"
      ]
     },
     "execution_count": 61,
     "metadata": {},
     "output_type": "execute_result"
    }
   ],
   "source": [
    "PL=[]\n",
    "empty=0\n",
    "for i in contract_Per_ner :\n",
    "    for j in i:\n",
    "        PL.append(j)\n",
    "for i in contract_Per_ner:\n",
    "    if i=='[]':\n",
    "        empty=empty+1\n",
    "len(PL), empty"
   ]
  },
  {
   "cell_type": "markdown",
   "id": "5e10e1bb",
   "metadata": {
    "papermill": {
     "duration": 0.03401,
     "end_time": "2022-06-29T10:40:48.800228",
     "exception": false,
     "start_time": "2022-06-29T10:40:48.766218",
     "status": "completed"
    },
    "tags": []
   },
   "source": [
    "****"
   ]
  },
  {
   "cell_type": "code",
   "execution_count": 62,
   "id": "c12feb93",
   "metadata": {
    "execution": {
     "iopub.execute_input": "2022-06-29T10:40:48.874072Z",
     "iopub.status.busy": "2022-06-29T10:40:48.872750Z",
     "iopub.status.idle": "2022-06-29T10:40:48.891638Z",
     "shell.execute_reply": "2022-06-29T10:40:48.890410Z"
    },
    "papermill": {
     "duration": 0.058939,
     "end_time": "2022-06-29T10:40:48.893996",
     "exception": false,
     "start_time": "2022-06-29T10:40:48.835057",
     "status": "completed"
    },
    "tags": []
   },
   "outputs": [
    {
     "data": {
      "text/html": [
       "<div>\n",
       "<style scoped>\n",
       "    .dataframe tbody tr th:only-of-type {\n",
       "        vertical-align: middle;\n",
       "    }\n",
       "\n",
       "    .dataframe tbody tr th {\n",
       "        vertical-align: top;\n",
       "    }\n",
       "\n",
       "    .dataframe thead th {\n",
       "        text-align: right;\n",
       "    }\n",
       "</style>\n",
       "<table border=\"1\" class=\"dataframe\">\n",
       "  <thead>\n",
       "    <tr style=\"text-align: right;\">\n",
       "      <th></th>\n",
       "      <th>contract_text</th>\n",
       "      <th>PERSON-nerenglish</th>\n",
       "      <th>LOC-nerenglish</th>\n",
       "      <th>ORG-nerenglish</th>\n",
       "      <th>Name-nerenglish</th>\n",
       "      <th>Other_name-nerenglish</th>\n",
       "      <th>Name-nerenglarge</th>\n",
       "      <th>LOC-nerenglarge</th>\n",
       "      <th>ORG-nerenglarge</th>\n",
       "      <th>other_namelarge</th>\n",
       "    </tr>\n",
       "  </thead>\n",
       "  <tbody>\n",
       "    <tr>\n",
       "      <th>0</th>\n",
       "      <td>North Carolina This indenture made entered Thi...</td>\n",
       "      <td>['Thos R Underwood', 'Alfred A McKerhan', 'Wm ...</td>\n",
       "      <td>['County of Carteret', 'Shepperd Creek', 'Cree...</td>\n",
       "      <td>[]</td>\n",
       "      <td>['Thos R Underwood', 'Alfred A McKerhan', 'Wm ...</td>\n",
       "      <td>[]</td>\n",
       "      <td>['H.G . Cutler', 'Thos R Underwood', 'Alfred A...</td>\n",
       "      <td>['North Carolina', 'County of Carteret', 'Bogu...</td>\n",
       "      <td>[]</td>\n",
       "      <td>[]</td>\n",
       "    </tr>\n",
       "    <tr>\n",
       "      <th>1</th>\n",
       "      <td>State of North Carolina Currituck County . Thi...</td>\n",
       "      <td>['John B. Etheridge']</td>\n",
       "      <td>['County State', 'Witnesseth', 'County of Curr...</td>\n",
       "      <td>[]</td>\n",
       "      <td>['John B. Etheridge']</td>\n",
       "      <td>[]</td>\n",
       "      <td>['John B. Etheridge', 'Little John Etheridge']</td>\n",
       "      <td>['State of North Carolina', 'Currituck County'...</td>\n",
       "      <td>[]</td>\n",
       "      <td>[]</td>\n",
       "    </tr>\n",
       "    <tr>\n",
       "      <th>2</th>\n",
       "      <td>near Lizzie Etheridges gate , thence South 56 ...</td>\n",
       "      <td>['John B Etheridge', 'Douglas Adam D. Etheridge']</td>\n",
       "      <td>['Red Hill', 'Croatan Sound']</td>\n",
       "      <td>[]</td>\n",
       "      <td>['John B Etheridge', 'Douglas Adam D. Etheridge']</td>\n",
       "      <td>[]</td>\n",
       "      <td>['Little John Etheridge', 'John B Etheridge', ...</td>\n",
       "      <td>['Lizzie Etheridges gate', 'Red Hill', 'Croata...</td>\n",
       "      <td>[]</td>\n",
       "      <td>[]</td>\n",
       "    </tr>\n",
       "    <tr>\n",
       "      <th>3</th>\n",
       "      <td>Copy Agreement of Apprenticeship Bu Mrs. Kate ...</td>\n",
       "      <td>['Kate V.Chamblin']</td>\n",
       "      <td>[]</td>\n",
       "      <td>[]</td>\n",
       "      <td>['Kate V.Chamblin']</td>\n",
       "      <td>[]</td>\n",
       "      <td>['Kate V.Chamblin', '1st', 'Geo . W. Rollins',...</td>\n",
       "      <td>['La', 'Lake Providence Carroll']</td>\n",
       "      <td>['U.S. Army']</td>\n",
       "      <td>[]</td>\n",
       "    </tr>\n",
       "    <tr>\n",
       "      <th>4</th>\n",
       "      <td>Copy Agreement of Apprenticeship . This agreem...</td>\n",
       "      <td>['Kate V. Chambliss', 'Betty Taylor Mary Taylo...</td>\n",
       "      <td>[]</td>\n",
       "      <td>[]</td>\n",
       "      <td>['Kate V. Chambliss', 'Betty Taylor Mary Taylo...</td>\n",
       "      <td>['African']</td>\n",
       "      <td>['Mrs', 'Kate V. Chambliss', 'James Samenett',...</td>\n",
       "      <td>['Carroll Parish', 'New Orleans', 'Louisiana',...</td>\n",
       "      <td>[]</td>\n",
       "      <td>['African']</td>\n",
       "    </tr>\n",
       "  </tbody>\n",
       "</table>\n",
       "</div>"
      ],
      "text/plain": [
       "                                       contract_text  \\\n",
       "0  North Carolina This indenture made entered Thi...   \n",
       "1  State of North Carolina Currituck County . Thi...   \n",
       "2  near Lizzie Etheridges gate , thence South 56 ...   \n",
       "3  Copy Agreement of Apprenticeship Bu Mrs. Kate ...   \n",
       "4  Copy Agreement of Apprenticeship . This agreem...   \n",
       "\n",
       "                                   PERSON-nerenglish  \\\n",
       "0  ['Thos R Underwood', 'Alfred A McKerhan', 'Wm ...   \n",
       "1                              ['John B. Etheridge']   \n",
       "2  ['John B Etheridge', 'Douglas Adam D. Etheridge']   \n",
       "3                                ['Kate V.Chamblin']   \n",
       "4  ['Kate V. Chambliss', 'Betty Taylor Mary Taylo...   \n",
       "\n",
       "                                      LOC-nerenglish ORG-nerenglish  \\\n",
       "0  ['County of Carteret', 'Shepperd Creek', 'Cree...             []   \n",
       "1  ['County State', 'Witnesseth', 'County of Curr...             []   \n",
       "2                      ['Red Hill', 'Croatan Sound']             []   \n",
       "3                                                 []             []   \n",
       "4                                                 []             []   \n",
       "\n",
       "                                     Name-nerenglish Other_name-nerenglish  \\\n",
       "0  ['Thos R Underwood', 'Alfred A McKerhan', 'Wm ...                    []   \n",
       "1                              ['John B. Etheridge']                    []   \n",
       "2  ['John B Etheridge', 'Douglas Adam D. Etheridge']                    []   \n",
       "3                                ['Kate V.Chamblin']                    []   \n",
       "4  ['Kate V. Chambliss', 'Betty Taylor Mary Taylo...           ['African']   \n",
       "\n",
       "                                    Name-nerenglarge  \\\n",
       "0  ['H.G . Cutler', 'Thos R Underwood', 'Alfred A...   \n",
       "1     ['John B. Etheridge', 'Little John Etheridge']   \n",
       "2  ['Little John Etheridge', 'John B Etheridge', ...   \n",
       "3  ['Kate V.Chamblin', '1st', 'Geo . W. Rollins',...   \n",
       "4  ['Mrs', 'Kate V. Chambliss', 'James Samenett',...   \n",
       "\n",
       "                                     LOC-nerenglarge ORG-nerenglarge  \\\n",
       "0  ['North Carolina', 'County of Carteret', 'Bogu...              []   \n",
       "1  ['State of North Carolina', 'Currituck County'...              []   \n",
       "2  ['Lizzie Etheridges gate', 'Red Hill', 'Croata...              []   \n",
       "3                  ['La', 'Lake Providence Carroll']   ['U.S. Army']   \n",
       "4  ['Carroll Parish', 'New Orleans', 'Louisiana',...              []   \n",
       "\n",
       "  other_namelarge  \n",
       "0              []  \n",
       "1              []  \n",
       "2              []  \n",
       "3              []  \n",
       "4     ['African']  "
      ]
     },
     "execution_count": 62,
     "metadata": {},
     "output_type": "execute_result"
    }
   ],
   "source": [
    "contract_ent.head()"
   ]
  },
  {
   "cell_type": "code",
   "execution_count": 63,
   "id": "6e183715",
   "metadata": {
    "execution": {
     "iopub.execute_input": "2022-06-29T10:40:48.967304Z",
     "iopub.status.busy": "2022-06-29T10:40:48.966489Z",
     "iopub.status.idle": "2022-06-29T10:40:48.973647Z",
     "shell.execute_reply": "2022-06-29T10:40:48.972371Z"
    },
    "papermill": {
     "duration": 0.045901,
     "end_time": "2022-06-29T10:40:48.976100",
     "exception": false,
     "start_time": "2022-06-29T10:40:48.930199",
     "status": "completed"
    },
    "tags": []
   },
   "outputs": [],
   "source": [
    "contract_Per_large=contract_ent[\"Name-nerenglarge\"]\n",
    "contract_loc_large=contract_ent[\"LOC-nerenglarge\"]\n",
    "contract_ORG_large=contract_ent[\"ORG-nerenglarge\"]\n",
    "contract_other_large=contract_ent[\"other_namelarge\"]"
   ]
  },
  {
   "cell_type": "code",
   "execution_count": 64,
   "id": "deaf691a",
   "metadata": {
    "execution": {
     "iopub.execute_input": "2022-06-29T10:40:49.050995Z",
     "iopub.status.busy": "2022-06-29T10:40:49.050532Z",
     "iopub.status.idle": "2022-06-29T10:40:49.056764Z",
     "shell.execute_reply": "2022-06-29T10:40:49.055848Z"
    },
    "papermill": {
     "duration": 0.045936,
     "end_time": "2022-06-29T10:40:49.058994",
     "exception": false,
     "start_time": "2022-06-29T10:40:49.013058",
     "status": "completed"
    },
    "tags": []
   },
   "outputs": [
    {
     "data": {
      "text/plain": [
       "'North Carolina This indenture made entered This 5th day of November 1853 . By H.G . Cutler of County of Carteret of first part Thos R Underwood , Alfred A McKerhan , Wm H Washington , Geo . S Stevenson , John D Williams Nathan A Stedman of second part . Whereas parties of Second part divers others associates purchased of said H. G. Cutler , tract of land situated County of Carteret bounded described follows ; beginning Stake North side of Bogue Sound running thence westwardly various corners of sound , five hundred ten poles Straight . Thence N. 13.0 E. 203 poles , thence East 209 poles , south 4 poles , thence North 85 , E. 116 poles , thence W. 20.0 W. 96 poles , thence N 45.0 E. 21 12 poles thence E. 29 12 poles , thence S. 83.0 E. 220 poles , thence South 5.0 W. Shepperd Creek thence Westerly said Creek South West Corner of tract of land converged said Cutler John Sabuton Then S 50 West along Sabutons West line beginning , containing Estimation Nine hundred four acres survey of said land made William H Marshall hereunto attached Marked A. land said'"
      ]
     },
     "execution_count": 64,
     "metadata": {},
     "output_type": "execute_result"
    }
   ],
   "source": [
    "contract_text[0]"
   ]
  },
  {
   "cell_type": "code",
   "execution_count": 65,
   "id": "d0f9d55f",
   "metadata": {
    "execution": {
     "iopub.execute_input": "2022-06-29T10:40:49.132535Z",
     "iopub.status.busy": "2022-06-29T10:40:49.131809Z",
     "iopub.status.idle": "2022-06-29T10:40:49.138409Z",
     "shell.execute_reply": "2022-06-29T10:40:49.137359Z"
    },
    "papermill": {
     "duration": 0.046117,
     "end_time": "2022-06-29T10:40:49.140731",
     "exception": false,
     "start_time": "2022-06-29T10:40:49.094614",
     "status": "completed"
    },
    "tags": []
   },
   "outputs": [
    {
     "data": {
      "text/plain": [
       "\"['H.G . Cutler', 'Thos R Underwood', 'Alfred A McKerhan', 'Wm H Washington', 'Geo . S Stevenson', 'John D Williams', 'Nathan A Stedman', 'H . G. Cutler', 'Cutler John Sabuton', 'William H Marshall']\""
      ]
     },
     "execution_count": 65,
     "metadata": {},
     "output_type": "execute_result"
    }
   ],
   "source": [
    "contract_Per_large[0]"
   ]
  },
  {
   "cell_type": "code",
   "execution_count": 66,
   "id": "815256af",
   "metadata": {
    "execution": {
     "iopub.execute_input": "2022-06-29T10:40:49.214325Z",
     "iopub.status.busy": "2022-06-29T10:40:49.213813Z",
     "iopub.status.idle": "2022-06-29T10:40:49.221442Z",
     "shell.execute_reply": "2022-06-29T10:40:49.220247Z"
    },
    "papermill": {
     "duration": 0.047549,
     "end_time": "2022-06-29T10:40:49.223885",
     "exception": false,
     "start_time": "2022-06-29T10:40:49.176336",
     "status": "completed"
    },
    "tags": []
   },
   "outputs": [
    {
     "data": {
      "text/plain": [
       "\"['North Carolina', 'County of Carteret', 'Bogue Sound', 'Shepperd Creek', 'Westerly', 'Sabutons West']\""
      ]
     },
     "execution_count": 66,
     "metadata": {},
     "output_type": "execute_result"
    }
   ],
   "source": [
    "contract_loc_large[0]"
   ]
  },
  {
   "cell_type": "code",
   "execution_count": 67,
   "id": "a7ece102",
   "metadata": {
    "execution": {
     "iopub.execute_input": "2022-06-29T10:40:49.299866Z",
     "iopub.status.busy": "2022-06-29T10:40:49.298886Z",
     "iopub.status.idle": "2022-06-29T10:40:49.307077Z",
     "shell.execute_reply": "2022-06-29T10:40:49.305954Z"
    },
    "papermill": {
     "duration": 0.049122,
     "end_time": "2022-06-29T10:40:49.309301",
     "exception": false,
     "start_time": "2022-06-29T10:40:49.260179",
     "status": "completed"
    },
    "tags": []
   },
   "outputs": [
    {
     "data": {
      "text/plain": [
       "'[]'"
      ]
     },
     "execution_count": 67,
     "metadata": {},
     "output_type": "execute_result"
    }
   ],
   "source": [
    "contract_ORG_large[0]"
   ]
  },
  {
   "cell_type": "code",
   "execution_count": 68,
   "id": "2250f5f5",
   "metadata": {
    "execution": {
     "iopub.execute_input": "2022-06-29T10:40:49.380939Z",
     "iopub.status.busy": "2022-06-29T10:40:49.380496Z",
     "iopub.status.idle": "2022-06-29T10:40:49.388228Z",
     "shell.execute_reply": "2022-06-29T10:40:49.386952Z"
    },
    "papermill": {
     "duration": 0.047153,
     "end_time": "2022-06-29T10:40:49.390499",
     "exception": false,
     "start_time": "2022-06-29T10:40:49.343346",
     "status": "completed"
    },
    "tags": []
   },
   "outputs": [
    {
     "data": {
      "text/plain": [
       "'[]'"
      ]
     },
     "execution_count": 68,
     "metadata": {},
     "output_type": "execute_result"
    }
   ],
   "source": [
    "contract_other_large[0]"
   ]
  },
  {
   "cell_type": "code",
   "execution_count": 69,
   "id": "c109c39f",
   "metadata": {
    "execution": {
     "iopub.execute_input": "2022-06-29T10:40:49.461062Z",
     "iopub.status.busy": "2022-06-29T10:40:49.460372Z",
     "iopub.status.idle": "2022-06-29T10:40:49.694910Z",
     "shell.execute_reply": "2022-06-29T10:40:49.693677Z"
    },
    "papermill": {
     "duration": 0.272999,
     "end_time": "2022-06-29T10:40:49.697725",
     "exception": false,
     "start_time": "2022-06-29T10:40:49.424726",
     "status": "completed"
    },
    "tags": []
   },
   "outputs": [
    {
     "data": {
      "text/plain": [
       "(1717997, 3532)"
      ]
     },
     "execution_count": 69,
     "metadata": {},
     "output_type": "execute_result"
    }
   ],
   "source": [
    "PL=[]\n",
    "empty=0\n",
    "for i in contract_Per_large :\n",
    "    for j in i:\n",
    "        PL.append(j)\n",
    "for i in contract_Per_large:\n",
    "    if i=='[]':\n",
    "        empty=empty+1\n",
    "len(PL), empty"
   ]
  },
  {
   "cell_type": "markdown",
   "id": "7c47ea58",
   "metadata": {
    "papermill": {
     "duration": 0.034394,
     "end_time": "2022-06-29T10:40:49.768178",
     "exception": false,
     "start_time": "2022-06-29T10:40:49.733784",
     "status": "completed"
    },
    "tags": []
   },
   "source": [
    "# the better one as usuall "
   ]
  },
  {
   "cell_type": "markdown",
   "id": "2946e47a",
   "metadata": {
    "papermill": {
     "duration": 0.037174,
     "end_time": "2022-06-29T10:40:49.840057",
     "exception": false,
     "start_time": "2022-06-29T10:40:49.802883",
     "status": "completed"
    },
    "tags": []
   },
   "source": [
    "****"
   ]
  },
  {
   "cell_type": "markdown",
   "id": "db596c64",
   "metadata": {
    "papermill": {
     "duration": 0.03561,
     "end_time": "2022-06-29T10:40:49.911573",
     "exception": false,
     "start_time": "2022-06-29T10:40:49.875963",
     "status": "completed"
    },
    "tags": []
   },
   "source": [
    "# Records Financial"
   ]
  },
  {
   "cell_type": "code",
   "execution_count": 70,
   "id": "a9aaa413",
   "metadata": {
    "execution": {
     "iopub.execute_input": "2022-06-29T10:40:49.984489Z",
     "iopub.status.busy": "2022-06-29T10:40:49.984115Z",
     "iopub.status.idle": "2022-06-29T10:40:50.065338Z",
     "shell.execute_reply": "2022-06-29T10:40:50.064091Z"
    },
    "papermill": {
     "duration": 0.120404,
     "end_time": "2022-06-29T10:40:50.067993",
     "exception": false,
     "start_time": "2022-06-29T10:40:49.947589",
     "status": "completed"
    },
    "tags": []
   },
   "outputs": [],
   "source": [
    "recordF_ent=pd.read_csv(\"../input/all-csv/to_compare_result_recordF.csv\")"
   ]
  },
  {
   "cell_type": "code",
   "execution_count": 71,
   "id": "e2bf088f",
   "metadata": {
    "execution": {
     "iopub.execute_input": "2022-06-29T10:40:50.143752Z",
     "iopub.status.busy": "2022-06-29T10:40:50.142988Z",
     "iopub.status.idle": "2022-06-29T10:40:50.163555Z",
     "shell.execute_reply": "2022-06-29T10:40:50.162591Z"
    },
    "papermill": {
     "duration": 0.060646,
     "end_time": "2022-06-29T10:40:50.166124",
     "exception": false,
     "start_time": "2022-06-29T10:40:50.105478",
     "status": "completed"
    },
    "tags": []
   },
   "outputs": [
    {
     "data": {
      "text/html": [
       "<div>\n",
       "<style scoped>\n",
       "    .dataframe tbody tr th:only-of-type {\n",
       "        vertical-align: middle;\n",
       "    }\n",
       "\n",
       "    .dataframe tbody tr th {\n",
       "        vertical-align: top;\n",
       "    }\n",
       "\n",
       "    .dataframe thead th {\n",
       "        text-align: right;\n",
       "    }\n",
       "</style>\n",
       "<table border=\"1\" class=\"dataframe\">\n",
       "  <thead>\n",
       "    <tr style=\"text-align: right;\">\n",
       "      <th></th>\n",
       "      <th>recordF_text</th>\n",
       "      <th>Name-ontonotes</th>\n",
       "      <th>GPE-ontonotes</th>\n",
       "      <th>ORG-ontonotes</th>\n",
       "      <th>Date-ontonotes</th>\n",
       "      <th>LOC-ontonotes</th>\n",
       "      <th>Building-ontonotes</th>\n",
       "      <th>Cardinal-ontonotes</th>\n",
       "      <th>postDate-ontonotes</th>\n",
       "      <th>standard_date-ontonotes</th>\n",
       "      <th>Name-nerenglarge</th>\n",
       "      <th>LOC-nerenglarge</th>\n",
       "      <th>ORG-nerenglarge</th>\n",
       "      <th>other_namelarge</th>\n",
       "      <th>PERSON-nerenglish</th>\n",
       "      <th>LOC-nerenglish</th>\n",
       "      <th>ORG-nerenglish</th>\n",
       "      <th>Other_name-nerenglish</th>\n",
       "    </tr>\n",
       "  </thead>\n",
       "  <tbody>\n",
       "    <tr>\n",
       "      <th>0</th>\n",
       "      <td>Quarter ending March 31st 1866 Justin Hodge Ca...</td>\n",
       "      <td>['Justin Hodge', 'Henry Swim', 'JC Barnett', '...</td>\n",
       "      <td>['Nottsburg', 'Salisbury']</td>\n",
       "      <td>['US Treasury']</td>\n",
       "      <td>['Quarter ending March 31st 1866', 'Dec 18', '...</td>\n",
       "      <td>[]</td>\n",
       "      <td>[]</td>\n",
       "      <td>['One']</td>\n",
       "      <td>['31-Quarter ending March-1866', 'Quarter-Marc...</td>\n",
       "      <td>['Quarter-March-1866']</td>\n",
       "      <td>['Justin Hodge', 'Henry Swim', 'Wm B Meins', '...</td>\n",
       "      <td>['Dist West', 'N.Ca', 'Greensboro N.C', 'Notts...</td>\n",
       "      <td>['A.Q.M . Financial Agent Bureau', 'Fines', 'A...</td>\n",
       "      <td>[]</td>\n",
       "      <td>['Jacob Bodecker', 'Justin Hodge']</td>\n",
       "      <td>[]</td>\n",
       "      <td>[]</td>\n",
       "      <td>[]</td>\n",
       "    </tr>\n",
       "  </tbody>\n",
       "</table>\n",
       "</div>"
      ],
      "text/plain": [
       "                                        recordF_text  \\\n",
       "0  Quarter ending March 31st 1866 Justin Hodge Ca...   \n",
       "\n",
       "                                      Name-ontonotes  \\\n",
       "0  ['Justin Hodge', 'Henry Swim', 'JC Barnett', '...   \n",
       "\n",
       "                GPE-ontonotes    ORG-ontonotes  \\\n",
       "0  ['Nottsburg', 'Salisbury']  ['US Treasury']   \n",
       "\n",
       "                                      Date-ontonotes LOC-ontonotes  \\\n",
       "0  ['Quarter ending March 31st 1866', 'Dec 18', '...            []   \n",
       "\n",
       "  Building-ontonotes Cardinal-ontonotes  \\\n",
       "0                 []            ['One']   \n",
       "\n",
       "                                  postDate-ontonotes standard_date-ontonotes  \\\n",
       "0  ['31-Quarter ending March-1866', 'Quarter-Marc...  ['Quarter-March-1866']   \n",
       "\n",
       "                                    Name-nerenglarge  \\\n",
       "0  ['Justin Hodge', 'Henry Swim', 'Wm B Meins', '...   \n",
       "\n",
       "                                     LOC-nerenglarge  \\\n",
       "0  ['Dist West', 'N.Ca', 'Greensboro N.C', 'Notts...   \n",
       "\n",
       "                                     ORG-nerenglarge other_namelarge  \\\n",
       "0  ['A.Q.M . Financial Agent Bureau', 'Fines', 'A...              []   \n",
       "\n",
       "                    PERSON-nerenglish LOC-nerenglish ORG-nerenglish  \\\n",
       "0  ['Jacob Bodecker', 'Justin Hodge']             []             []   \n",
       "\n",
       "  Other_name-nerenglish  \n",
       "0                    []  "
      ]
     },
     "execution_count": 71,
     "metadata": {},
     "output_type": "execute_result"
    }
   ],
   "source": [
    "recordF_ent.head(1)"
   ]
  },
  {
   "cell_type": "code",
   "execution_count": 72,
   "id": "bd3fda73",
   "metadata": {
    "execution": {
     "iopub.execute_input": "2022-06-29T10:40:50.259271Z",
     "iopub.status.busy": "2022-06-29T10:40:50.258166Z",
     "iopub.status.idle": "2022-06-29T10:40:50.278744Z",
     "shell.execute_reply": "2022-06-29T10:40:50.277414Z"
    },
    "papermill": {
     "duration": 0.069611,
     "end_time": "2022-06-29T10:40:50.281746",
     "exception": false,
     "start_time": "2022-06-29T10:40:50.212135",
     "status": "completed"
    },
    "tags": []
   },
   "outputs": [],
   "source": [
    "recordF_text=recordF_ent[\"recordF_text\"]\n",
    "recordF_Per_onto=recordF_ent[\"Name-ontonotes\"]\n",
    "recordF_GPE_onto=recordF_ent[\"GPE-ontonotes\"]\n",
    "recordF_ORG_onto=recordF_ent[\"ORG-ontonotes\"]\n",
    "recordF_date_onto=recordF_ent[\"standard_date-ontonotes\"]\n",
    "recordF_loc_onto=recordF_ent[\"LOC-ontonotes\"]\n",
    "recordF_cardinal=recordF_ent[\"Cardinal-ontonotes\"]"
   ]
  },
  {
   "cell_type": "code",
   "execution_count": 73,
   "id": "a86e70a5",
   "metadata": {
    "execution": {
     "iopub.execute_input": "2022-06-29T10:40:50.366451Z",
     "iopub.status.busy": "2022-06-29T10:40:50.365173Z",
     "iopub.status.idle": "2022-06-29T10:40:50.374367Z",
     "shell.execute_reply": "2022-06-29T10:40:50.372806Z"
    },
    "papermill": {
     "duration": 0.052248,
     "end_time": "2022-06-29T10:40:50.376794",
     "exception": false,
     "start_time": "2022-06-29T10:40:50.324546",
     "status": "completed"
    },
    "tags": []
   },
   "outputs": [
    {
     "data": {
      "text/plain": [
       "'Hugh To amount brought forward 60.96 May 19 1 mug 25.2 mackerel 15 1 qt . Brandy 1.35 1.80 May 21 3 lbs Copperas 10 Box blacking 10 .40 May 22 1 Doz Herring 50 . 23rd . 1 12 qts . brandy 1.25 2.37 May 26 12 doz . Herring 50 Jun 23rd Brandy 1.3 .88 June 3 2 cotton Hdkfs .60 1.20 June 9 2 Home made Cotton Shirts 2.00 4.00 June 2 pr . Country made pants 2.50 5.00 June 1 12 doz . Buttons 10 1 qt Brandy 1.25 1.40 June 15 1 cups saucers 1.25 1.25 June 16 1 pr . Cotton Stockings 75 75 June 21 1 lb Sugar 18 2 lb Adam T. Candles 50 43 June 22 12 Gallon Brandy 5.00 2.50 June 1 Cotton Hdkfs 40 40 June 25 1 Pocket Knife 6 2 Spools thread 15 1.30 June 1 yd . Calico 25 25 June 29 1 quart Whiskey 1.25 1.25 July 7 12 Gallon Do 5.00 2.50 July 7 1 Pad Lock 37 2 1 lb . Sugar 18 55 July 13 12 lb . Adm. Candles 50 1 lb . Nails 10 35 July 1 Box Matches 5 25 lb . 2 qts . Whiskey 1.25 2.55 July 28 1 quart Brandy 1.25 1.25 Augt . 3 3¼ yds . Capeniars 1.50 4.87 Augt . 3 1 Bunch hemp Thread 10 1 doz P. Buttons 10 20 Augt . 6 part whiskey hands 63 Augt . 10 6 yds . Black Cloth 30 spool thread 15 1.95 Augt . Cash paid 2.00 11 lb . 12 Gal . Whiskey 5.00 4.50 Augt . 12 part whiskey hands 62 Augt . 14 5 yards Blchd Cotton Cloth 35 1.75 Augt . 17 12 lb Candles 50 Cravat 25 50 Augt . 19 2 qts . Whiskey 1.25 2.50 Augt . 27 2 116. qts Do 1.25 2.81 Augt . 31 5½ lb Sugar 18 99 Sept. 29 1 Quart Brandy 1.25 1.25 Oct. 24 1 Paper needles 25 25 Nov 3 1 lb Nails also 10 5½ Gal Molasses 1.00 60 Nov 6 20 yds . Alamanes sheeting 30 1 pr . boots 5.00 11.00 Nov 10 6 Linsey 60.17 lb , 1 thimble 10 1 spool thread 15 3.85 Nov 27 part expenses of corn shucking 1.25 Nov 29 part hire land , year 1.60 Nov part expenses curling tobacco 70 74.20 amount forward 135.16 To amount brought forward 135.16 4½ days lost time 50 2.25 Dec 19 2½ Bushels Corn 1.00 2.50 4.50 1866 Cr . 139.66 Dec 24 Buy 8½ Bbls . Long Corn part 5.00 42.50 Dec Buy 1½ Bbls . short corn part 2.00 3.00 Dec 24 Buy 2 Bushels wheat part 3.00 6.00 Dec 24 Buy ½ stack oats part 4.00 4.00 Dec 24 Buy 1 Bushel Rye part 1.00 1.00 Dec 24 Buy part loss time hands 1.20 Dec 24 Buy part proceeds tobacco 44.74 102.44 37.22 State of N C Caswell Co Feby 25 1868 This day came Mr. Stephen Neal Justice of Peace said County Fariss G J Farish made oath forgoing account Nelson Dortgito freedman true best of knowledge belief G. J. Farish Test Stephen Neal JP'"
      ]
     },
     "execution_count": 73,
     "metadata": {},
     "output_type": "execute_result"
    }
   ],
   "source": [
    "recordF_text[300]"
   ]
  },
  {
   "cell_type": "code",
   "execution_count": 74,
   "id": "30fdba9c",
   "metadata": {
    "execution": {
     "iopub.execute_input": "2022-06-29T10:40:50.452649Z",
     "iopub.status.busy": "2022-06-29T10:40:50.451654Z",
     "iopub.status.idle": "2022-06-29T10:40:50.460736Z",
     "shell.execute_reply": "2022-06-29T10:40:50.459747Z"
    },
    "papermill": {
     "duration": 0.050753,
     "end_time": "2022-06-29T10:40:50.464349",
     "exception": false,
     "start_time": "2022-06-29T10:40:50.413596",
     "status": "completed"
    },
    "tags": []
   },
   "outputs": [
    {
     "data": {
      "text/plain": [
       "\"['25-February-1868']\""
      ]
     },
     "execution_count": 74,
     "metadata": {},
     "output_type": "execute_result"
    }
   ],
   "source": [
    "recordF_date_onto[300]"
   ]
  },
  {
   "cell_type": "code",
   "execution_count": 75,
   "id": "a20c2602",
   "metadata": {
    "execution": {
     "iopub.execute_input": "2022-06-29T10:40:50.635390Z",
     "iopub.status.busy": "2022-06-29T10:40:50.634417Z",
     "iopub.status.idle": "2022-06-29T10:40:50.643216Z",
     "shell.execute_reply": "2022-06-29T10:40:50.641717Z"
    },
    "papermill": {
     "duration": 0.056024,
     "end_time": "2022-06-29T10:40:50.645853",
     "exception": false,
     "start_time": "2022-06-29T10:40:50.589829",
     "status": "completed"
    },
    "tags": []
   },
   "outputs": [
    {
     "data": {
      "text/plain": [
       "\"['Hugh', 'Stephen Neal', 'Fariss', 'G J Farish', 'Nelson Dortgito', 'G . J. Farish']\""
      ]
     },
     "execution_count": 75,
     "metadata": {},
     "output_type": "execute_result"
    }
   ],
   "source": [
    "recordF_Per_onto[300]"
   ]
  },
  {
   "cell_type": "code",
   "execution_count": 76,
   "id": "92c84f4e",
   "metadata": {
    "execution": {
     "iopub.execute_input": "2022-06-29T10:40:50.727908Z",
     "iopub.status.busy": "2022-06-29T10:40:50.726887Z",
     "iopub.status.idle": "2022-06-29T10:40:50.735082Z",
     "shell.execute_reply": "2022-06-29T10:40:50.733592Z"
    },
    "papermill": {
     "duration": 0.049226,
     "end_time": "2022-06-29T10:40:50.737485",
     "exception": false,
     "start_time": "2022-06-29T10:40:50.688259",
     "status": "completed"
    },
    "tags": []
   },
   "outputs": [
    {
     "data": {
      "text/plain": [
       "'[]'"
      ]
     },
     "execution_count": 76,
     "metadata": {},
     "output_type": "execute_result"
    }
   ],
   "source": [
    "recordF_GPE_onto[300]"
   ]
  },
  {
   "cell_type": "code",
   "execution_count": 77,
   "id": "aab01f22",
   "metadata": {
    "execution": {
     "iopub.execute_input": "2022-06-29T10:40:50.814730Z",
     "iopub.status.busy": "2022-06-29T10:40:50.813817Z",
     "iopub.status.idle": "2022-06-29T10:40:50.821554Z",
     "shell.execute_reply": "2022-06-29T10:40:50.820738Z"
    },
    "papermill": {
     "duration": 0.049012,
     "end_time": "2022-06-29T10:40:50.823756",
     "exception": false,
     "start_time": "2022-06-29T10:40:50.774744",
     "status": "completed"
    },
    "tags": []
   },
   "outputs": [
    {
     "data": {
      "text/plain": [
       "'[]'"
      ]
     },
     "execution_count": 77,
     "metadata": {},
     "output_type": "execute_result"
    }
   ],
   "source": [
    "recordF_ORG_onto[300]"
   ]
  },
  {
   "cell_type": "code",
   "execution_count": 78,
   "id": "c7d15459",
   "metadata": {
    "execution": {
     "iopub.execute_input": "2022-06-29T10:40:50.899411Z",
     "iopub.status.busy": "2022-06-29T10:40:50.898623Z",
     "iopub.status.idle": "2022-06-29T10:40:50.918651Z",
     "shell.execute_reply": "2022-06-29T10:40:50.917449Z"
    },
    "papermill": {
     "duration": 0.05964,
     "end_time": "2022-06-29T10:40:50.921340",
     "exception": false,
     "start_time": "2022-06-29T10:40:50.861700",
     "status": "completed"
    },
    "tags": []
   },
   "outputs": [
    {
     "data": {
      "text/plain": [
       "(50173, 1769)"
      ]
     },
     "execution_count": 78,
     "metadata": {},
     "output_type": "execute_result"
    }
   ],
   "source": [
    "PL=[]\n",
    "empty=0\n",
    "for i in recordF_date_onto :\n",
    "    for j in i:\n",
    "        PL.append(j)\n",
    "for i in recordF_date_onto:\n",
    "    if i=='[]':\n",
    "        empty=empty+1\n",
    "len(PL), empty"
   ]
  },
  {
   "cell_type": "code",
   "execution_count": 79,
   "id": "7a8cf9bd",
   "metadata": {
    "execution": {
     "iopub.execute_input": "2022-06-29T10:40:50.994482Z",
     "iopub.status.busy": "2022-06-29T10:40:50.993699Z",
     "iopub.status.idle": "2022-06-29T10:40:51.018199Z",
     "shell.execute_reply": "2022-06-29T10:40:51.017186Z"
    },
    "papermill": {
     "duration": 0.063518,
     "end_time": "2022-06-29T10:40:51.020530",
     "exception": false,
     "start_time": "2022-06-29T10:40:50.957012",
     "status": "completed"
    },
    "tags": []
   },
   "outputs": [
    {
     "data": {
      "text/plain": [
       "(115920, 925)"
      ]
     },
     "execution_count": 79,
     "metadata": {},
     "output_type": "execute_result"
    }
   ],
   "source": [
    "PL=[]\n",
    "empty=0\n",
    "for i in recordF_Per_onto :\n",
    "    for j in i:\n",
    "        PL.append(j)\n",
    "for i in recordF_Per_onto:\n",
    "    if i=='[]':\n",
    "        empty=empty+1\n",
    "len(PL), empty"
   ]
  },
  {
   "cell_type": "markdown",
   "id": "6c5cc820",
   "metadata": {
    "papermill": {
     "duration": 0.034952,
     "end_time": "2022-06-29T10:40:51.091017",
     "exception": false,
     "start_time": "2022-06-29T10:40:51.056065",
     "status": "completed"
    },
    "tags": []
   },
   "source": [
    "****"
   ]
  },
  {
   "cell_type": "code",
   "execution_count": 80,
   "id": "79693d43",
   "metadata": {
    "execution": {
     "iopub.execute_input": "2022-06-29T10:40:51.163519Z",
     "iopub.status.busy": "2022-06-29T10:40:51.162742Z",
     "iopub.status.idle": "2022-06-29T10:40:51.338645Z",
     "shell.execute_reply": "2022-06-29T10:40:51.337514Z"
    },
    "papermill": {
     "duration": 0.21517,
     "end_time": "2022-06-29T10:40:51.341472",
     "exception": false,
     "start_time": "2022-06-29T10:40:51.126302",
     "status": "completed"
    },
    "tags": []
   },
   "outputs": [],
   "source": [
    "recordE_ent=pd.read_csv(\"../input/all-csv/to_compare_result_recordE.csv\")\n",
    "recordE_text=recordE_ent[\"recordE_text\"]\n",
    "recordE_Per_onto=recordE_ent[\"Name-ontonotes\"]\n",
    "recordE_GPE_onto=recordE_ent[\"GPE-ontonotes\"]\n",
    "recordE_ORG_onto=recordE_ent[\"ORG-ontonotes\"]\n",
    "recordE_date_onto=recordE_ent[\"standard_date-ontonotes\"]\n",
    "recordE_loc_onto=recordE_ent[\"LOC-ontonotes\"]\n",
    "recordE_cardinal=recordE_ent[\"Cardinal-ontonotes\"]"
   ]
  },
  {
   "cell_type": "code",
   "execution_count": 81,
   "id": "433927cf",
   "metadata": {
    "execution": {
     "iopub.execute_input": "2022-06-29T10:40:51.423440Z",
     "iopub.status.busy": "2022-06-29T10:40:51.422817Z",
     "iopub.status.idle": "2022-06-29T10:40:51.428957Z",
     "shell.execute_reply": "2022-06-29T10:40:51.428063Z"
    },
    "papermill": {
     "duration": 0.053786,
     "end_time": "2022-06-29T10:40:51.431079",
     "exception": false,
     "start_time": "2022-06-29T10:40:51.377293",
     "status": "completed"
    },
    "tags": []
   },
   "outputs": [
    {
     "data": {
      "text/plain": [
       "'Office of Supt of Education B R. F A. L , State of Texas Lagrange March 18th 1867 Lieut J. T Kirkman Supt Schools B. R. F A.L . Sir , At Columbus I find difficulty freedmen teacher time , They claiming Bureau promised change made , seeing prospect , arrival determined close house . Meeting trustees promised nothing till April 1st , time would building ready teacher live , wanted change I met Miss Hartnett wisely decided resign , resignation would avoid much trouble I would respectfully recommend acceptance I arrived , Very Respectfully , Signed D F Allen'"
      ]
     },
     "execution_count": 81,
     "metadata": {},
     "output_type": "execute_result"
    }
   ],
   "source": [
    "recordE_text[1000]"
   ]
  },
  {
   "cell_type": "code",
   "execution_count": null,
   "id": "a504b460",
   "metadata": {
    "papermill": {
     "duration": 0.035315,
     "end_time": "2022-06-29T10:40:51.502097",
     "exception": false,
     "start_time": "2022-06-29T10:40:51.466782",
     "status": "completed"
    },
    "tags": []
   },
   "outputs": [],
   "source": []
  },
  {
   "cell_type": "code",
   "execution_count": null,
   "id": "eae9b279",
   "metadata": {
    "papermill": {
     "duration": 0.035011,
     "end_time": "2022-06-29T10:40:51.572303",
     "exception": false,
     "start_time": "2022-06-29T10:40:51.537292",
     "status": "completed"
    },
    "tags": []
   },
   "outputs": [],
   "source": []
  },
  {
   "cell_type": "code",
   "execution_count": null,
   "id": "8092eba3",
   "metadata": {
    "papermill": {
     "duration": 0.035097,
     "end_time": "2022-06-29T10:40:51.642715",
     "exception": false,
     "start_time": "2022-06-29T10:40:51.607618",
     "status": "completed"
    },
    "tags": []
   },
   "outputs": [],
   "source": []
  },
  {
   "cell_type": "code",
   "execution_count": null,
   "id": "b4dafa6d",
   "metadata": {
    "papermill": {
     "duration": 0.035324,
     "end_time": "2022-06-29T10:40:51.713732",
     "exception": false,
     "start_time": "2022-06-29T10:40:51.678408",
     "status": "completed"
    },
    "tags": []
   },
   "outputs": [],
   "source": []
  },
  {
   "cell_type": "code",
   "execution_count": null,
   "id": "49e30a4c",
   "metadata": {
    "papermill": {
     "duration": 0.035857,
     "end_time": "2022-06-29T10:40:51.785592",
     "exception": false,
     "start_time": "2022-06-29T10:40:51.749735",
     "status": "completed"
    },
    "tags": []
   },
   "outputs": [],
   "source": []
  },
  {
   "cell_type": "markdown",
   "id": "4d61c5ba",
   "metadata": {
    "papermill": {
     "duration": 0.042138,
     "end_time": "2022-06-29T10:40:51.865961",
     "exception": false,
     "start_time": "2022-06-29T10:40:51.823823",
     "status": "completed"
    },
    "tags": []
   },
   "source": [
    "****"
   ]
  },
  {
   "cell_type": "code",
   "execution_count": 82,
   "id": "7ac6de5e",
   "metadata": {
    "execution": {
     "iopub.execute_input": "2022-06-29T10:40:51.948823Z",
     "iopub.status.busy": "2022-06-29T10:40:51.948345Z",
     "iopub.status.idle": "2022-06-29T10:40:52.097014Z",
     "shell.execute_reply": "2022-06-29T10:40:52.096084Z"
    },
    "papermill": {
     "duration": 0.192301,
     "end_time": "2022-06-29T10:40:52.099922",
     "exception": false,
     "start_time": "2022-06-29T10:40:51.907621",
     "status": "completed"
    },
    "tags": []
   },
   "outputs": [],
   "source": [
    "recordC_ent=pd.read_csv(\"../input/all-csv/to_compare_result_recordC.csv\")\n",
    "recordC_text=recordC_ent[\"recordC_text\"]\n",
    "recordC_Per_onto=recordC_ent[\"Name-ontonotes\"]\n",
    "recordC_GPE_onto=recordC_ent[\"GPE-ontonotes\"]\n",
    "recordC_ORG_onto=recordC_ent[\"ORG-ontonotes\"]\n",
    "recordC_date_onto=recordC_ent[\"standard_date-ontonotes\"]\n",
    "recordC_loc_onto=recordC_ent[\"LOC-ontonotes\"]\n",
    "recordC_cardinal=recordC_ent[\"Cardinal-ontonotes\"]"
   ]
  },
  {
   "cell_type": "code",
   "execution_count": null,
   "id": "0efb5a48",
   "metadata": {
    "papermill": {
     "duration": 0.035644,
     "end_time": "2022-06-29T10:40:52.171845",
     "exception": false,
     "start_time": "2022-06-29T10:40:52.136201",
     "status": "completed"
    },
    "tags": []
   },
   "outputs": [],
   "source": []
  },
  {
   "cell_type": "code",
   "execution_count": null,
   "id": "cf852c83",
   "metadata": {
    "papermill": {
     "duration": 0.035291,
     "end_time": "2022-06-29T10:40:52.242684",
     "exception": false,
     "start_time": "2022-06-29T10:40:52.207393",
     "status": "completed"
    },
    "tags": []
   },
   "outputs": [],
   "source": []
  }
 ],
 "metadata": {
  "kernelspec": {
   "display_name": "Python 3",
   "language": "python",
   "name": "python3"
  },
  "language_info": {
   "codemirror_mode": {
    "name": "ipython",
    "version": 3
   },
   "file_extension": ".py",
   "mimetype": "text/x-python",
   "name": "python",
   "nbconvert_exporter": "python",
   "pygments_lexer": "ipython3",
   "version": "3.7.12"
  },
  "papermill": {
   "default_parameters": {},
   "duration": 35.696572,
   "end_time": "2022-06-29T10:40:55.319965",
   "environment_variables": {},
   "exception": null,
   "input_path": "__notebook__.ipynb",
   "output_path": "__notebook__.ipynb",
   "parameters": {},
   "start_time": "2022-06-29T10:40:19.623393",
   "version": "2.3.4"
  }
 },
 "nbformat": 4,
 "nbformat_minor": 5
}
