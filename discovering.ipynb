{
 "cells": [
  {
   "cell_type": "code",
   "execution_count": 1,
   "id": "61a41215",
   "metadata": {
    "_cell_guid": "b1076dfc-b9ad-4769-8c92-a6c4dae69d19",
    "_uuid": "8f2839f25d086af736a60e9eeb907d3b93b6e0e5",
    "execution": {
     "iopub.execute_input": "2022-06-29T11:29:02.547453Z",
     "iopub.status.busy": "2022-06-29T11:29:02.547041Z",
     "iopub.status.idle": "2022-06-29T11:29:14.473287Z",
     "shell.execute_reply": "2022-06-29T11:29:14.472149Z"
    },
    "papermill": {
     "duration": 11.966134,
     "end_time": "2022-06-29T11:29:14.476210",
     "exception": false,
     "start_time": "2022-06-29T11:29:02.510076",
     "status": "completed"
    },
    "tags": []
   },
   "outputs": [],
   "source": [
    "import numpy as np\n",
    "import pandas as pd \n",
    "import seaborn as sns\n",
    "import matplotlib.pyplot as plt \n",
    "import matplotlib.style as stl \n",
    "from tensorflow import keras \n",
    "from keras.preprocessing.text import Tokenizer\n",
    "from nltk.corpus import stopwords\n",
    "import string\n",
    "from tensorflow.keras.models import Sequential,Model\n",
    "from tensorflow.keras.layers import Dense, LSTM, Embedding,Dropout,SpatialDropout1D,Conv1D,MaxPooling1D,GRU,BatchNormalization\n",
    "import warnings\n",
    "warnings.filterwarnings('ignore')\n",
    "stl.use('ggplot')\n",
    "from tqdm import tqdm\n",
    "import string\n",
    "from nltk.corpus import stopwords\n",
    "from nltk.tokenize import word_tokenize\n",
    "from nltk.stem import WordNetLemmatizer\n",
    "from nltk.stem.snowball import SnowballStemmer\n",
    "import regex as re\n",
    "import time\n",
    "import pickle"
   ]
  },
  {
   "cell_type": "code",
   "execution_count": 2,
   "id": "861d0202",
   "metadata": {
    "execution": {
     "iopub.execute_input": "2022-06-29T11:29:14.548677Z",
     "iopub.status.busy": "2022-06-29T11:29:14.547735Z",
     "iopub.status.idle": "2022-06-29T11:29:14.921572Z",
     "shell.execute_reply": "2022-06-29T11:29:14.919613Z"
    },
    "papermill": {
     "duration": 0.41211,
     "end_time": "2022-06-29T11:29:14.923629",
     "exception": false,
     "start_time": "2022-06-29T11:29:14.511519",
     "status": "completed"
    },
    "tags": []
   },
   "outputs": [],
   "source": [
    "index_ent=pd.read_csv(\"../input/all-csv/index_df (1).csv\")"
   ]
  },
  {
   "cell_type": "code",
   "execution_count": 3,
   "id": "4c876056",
   "metadata": {
    "execution": {
     "iopub.execute_input": "2022-06-29T11:29:14.967210Z",
     "iopub.status.busy": "2022-06-29T11:29:14.966500Z",
     "iopub.status.idle": "2022-06-29T11:29:14.989699Z",
     "shell.execute_reply": "2022-06-29T11:29:14.988771Z"
    },
    "papermill": {
     "duration": 0.048206,
     "end_time": "2022-06-29T11:29:14.992207",
     "exception": false,
     "start_time": "2022-06-29T11:29:14.944001",
     "status": "completed"
    },
    "tags": []
   },
   "outputs": [
    {
     "data": {
      "text/html": [
       "<div>\n",
       "<style scoped>\n",
       "    .dataframe tbody tr th:only-of-type {\n",
       "        vertical-align: middle;\n",
       "    }\n",
       "\n",
       "    .dataframe tbody tr th {\n",
       "        vertical-align: top;\n",
       "    }\n",
       "\n",
       "    .dataframe thead th {\n",
       "        text-align: right;\n",
       "    }\n",
       "</style>\n",
       "<table border=\"1\" class=\"dataframe\">\n",
       "  <thead>\n",
       "    <tr style=\"text-align: right;\">\n",
       "      <th></th>\n",
       "      <th>index_text</th>\n",
       "      <th>PERSON-nerenglarge</th>\n",
       "      <th>LOC-nerenglarge</th>\n",
       "      <th>ORG-nerenglarge</th>\n",
       "      <th>text</th>\n",
       "    </tr>\n",
       "  </thead>\n",
       "  <tbody>\n",
       "    <tr>\n",
       "      <th>0</th>\n",
       "      <td>NAME INDEX TO VOLUME 7 OF LETTERS SENT , JULY ...</td>\n",
       "      <td>['Abbott', 'Lyman', 'Adams', 'John Q', 'Allen'...</td>\n",
       "      <td>[]</td>\n",
       "      <td>[]</td>\n",
       "      <td>NAME INDEX TO VOLUME 7 OF LETTERS SENT , JULY ...</td>\n",
       "    </tr>\n",
       "    <tr>\n",
       "      <th>1</th>\n",
       "      <td>Boyd , J. F. Col. 19 , 41 Boyden , James 116 B...</td>\n",
       "      <td>['Boyd', 'J. F. Col.', 'Boyden', 'James', 'Bra...</td>\n",
       "      <td>[]</td>\n",
       "      <td>['Henry Corp']</td>\n",
       "      <td>Boyd , J. F. Col. 19 , 41 Boyden , James 116 B...</td>\n",
       "    </tr>\n",
       "    <tr>\n",
       "      <th>2</th>\n",
       "      <td>Chur , J. F. Capt . 139 Cilley , Clinton A. Ma...</td>\n",
       "      <td>['Chur', 'J. F.', 'Cilley', 'Clinton A. Maj', ...</td>\n",
       "      <td>[]</td>\n",
       "      <td>['Citizens']</td>\n",
       "      <td>Chur , J. F. Capt . 139 Cilley , Clinton A. Ma...</td>\n",
       "    </tr>\n",
       "    <tr>\n",
       "      <th>3</th>\n",
       "      <td>Elijah 176 Eliza 172 Emery , Charles Capt . 3 ...</td>\n",
       "      <td>['Elijah', 'Eliza', 'Emery', 'Charles', 'Edwin...</td>\n",
       "      <td>[]</td>\n",
       "      <td>[]</td>\n",
       "      <td>Elijah 176 Eliza 172 Emery , Charles Capt . 3 ...</td>\n",
       "    </tr>\n",
       "    <tr>\n",
       "      <th>4</th>\n",
       "      <td>Hale , Capt . 51 Hambrich , P.R . Capt . 9 Han...</td>\n",
       "      <td>['Hale', 'Hambrich', 'Hand', 'Harkness', 'E.J'...</td>\n",
       "      <td>['N.C']</td>\n",
       "      <td>[]</td>\n",
       "      <td>Hale , Capt . 51 Hambrich , P.R . Capt . 9 Han...</td>\n",
       "    </tr>\n",
       "  </tbody>\n",
       "</table>\n",
       "</div>"
      ],
      "text/plain": [
       "                                          index_text  \\\n",
       "0  NAME INDEX TO VOLUME 7 OF LETTERS SENT , JULY ...   \n",
       "1  Boyd , J. F. Col. 19 , 41 Boyden , James 116 B...   \n",
       "2  Chur , J. F. Capt . 139 Cilley , Clinton A. Ma...   \n",
       "3  Elijah 176 Eliza 172 Emery , Charles Capt . 3 ...   \n",
       "4  Hale , Capt . 51 Hambrich , P.R . Capt . 9 Han...   \n",
       "\n",
       "                                  PERSON-nerenglarge LOC-nerenglarge  \\\n",
       "0  ['Abbott', 'Lyman', 'Adams', 'John Q', 'Allen'...              []   \n",
       "1  ['Boyd', 'J. F. Col.', 'Boyden', 'James', 'Bra...              []   \n",
       "2  ['Chur', 'J. F.', 'Cilley', 'Clinton A. Maj', ...              []   \n",
       "3  ['Elijah', 'Eliza', 'Emery', 'Charles', 'Edwin...              []   \n",
       "4  ['Hale', 'Hambrich', 'Hand', 'Harkness', 'E.J'...         ['N.C']   \n",
       "\n",
       "  ORG-nerenglarge                                               text  \n",
       "0              []  NAME INDEX TO VOLUME 7 OF LETTERS SENT , JULY ...  \n",
       "1  ['Henry Corp']  Boyd , J. F. Col. 19 , 41 Boyden , James 116 B...  \n",
       "2    ['Citizens']  Chur , J. F. Capt . 139 Cilley , Clinton A. Ma...  \n",
       "3              []  Elijah 176 Eliza 172 Emery , Charles Capt . 3 ...  \n",
       "4              []  Hale , Capt . 51 Hambrich , P.R . Capt . 9 Han...  "
      ]
     },
     "execution_count": 3,
     "metadata": {},
     "output_type": "execute_result"
    }
   ],
   "source": [
    "index_ent.head()"
   ]
  },
  {
   "cell_type": "code",
   "execution_count": 4,
   "id": "31224d09",
   "metadata": {
    "execution": {
     "iopub.execute_input": "2022-06-29T11:29:15.064237Z",
     "iopub.status.busy": "2022-06-29T11:29:15.063574Z",
     "iopub.status.idle": "2022-06-29T11:29:15.072837Z",
     "shell.execute_reply": "2022-06-29T11:29:15.072000Z"
    },
    "papermill": {
     "duration": 0.047859,
     "end_time": "2022-06-29T11:29:15.075310",
     "exception": false,
     "start_time": "2022-06-29T11:29:15.027451",
     "status": "completed"
    },
    "tags": []
   },
   "outputs": [],
   "source": [
    "index_text=index_ent[\"index_text\"]\n",
    "index_names=index_ent[\"PERSON-nerenglarge\"]\n",
    "index_loc=index_ent[\"LOC-nerenglarge\"]\n",
    "index_org=index_ent[\"ORG-nerenglarge\"]"
   ]
  },
  {
   "cell_type": "code",
   "execution_count": 5,
   "id": "91194037",
   "metadata": {
    "execution": {
     "iopub.execute_input": "2022-06-29T11:29:15.146432Z",
     "iopub.status.busy": "2022-06-29T11:29:15.146117Z",
     "iopub.status.idle": "2022-06-29T11:29:15.153385Z",
     "shell.execute_reply": "2022-06-29T11:29:15.152380Z"
    },
    "papermill": {
     "duration": 0.045405,
     "end_time": "2022-06-29T11:29:15.155532",
     "exception": false,
     "start_time": "2022-06-29T11:29:15.110127",
     "status": "completed"
    },
    "tags": []
   },
   "outputs": [
    {
     "data": {
      "text/plain": [
       "'1865 . London Manger 14 . London Sarah E 16 . Lippett John E 18 . Lippett W.H 18 . 23 . 33 . Laslo J.G 19 . Lehman R.F 20 . 44 . Lecraft Mary 21 . Lazarus Julia 22 . Lippett W. 23 . 33 . Lecraft Benjamin 36 . 59 . Lewis K.H 30 . Lewis W.F 30 . Levy T.J. 31 . Lane H.B 37 . Leach J A 40 . 45 . Leavy J.P 50 . Lord Fredk 52 . Littlejohn W.H 53 . Leigh J.W 66 . Low T.B 66 .'"
      ]
     },
     "execution_count": 5,
     "metadata": {},
     "output_type": "execute_result"
    }
   ],
   "source": [
    "index_text[150]"
   ]
  },
  {
   "cell_type": "code",
   "execution_count": 6,
   "id": "e6bc2991",
   "metadata": {
    "execution": {
     "iopub.execute_input": "2022-06-29T11:29:15.227306Z",
     "iopub.status.busy": "2022-06-29T11:29:15.226873Z",
     "iopub.status.idle": "2022-06-29T11:29:15.233396Z",
     "shell.execute_reply": "2022-06-29T11:29:15.232422Z"
    },
    "papermill": {
     "duration": 0.045685,
     "end_time": "2022-06-29T11:29:15.235585",
     "exception": false,
     "start_time": "2022-06-29T11:29:15.189900",
     "status": "completed"
    },
    "tags": []
   },
   "outputs": [
    {
     "data": {
      "text/plain": [
       "\"['London Sarah E', 'Lippett John E', 'Lippett W.H', 'Lehman R.F', 'Lazarus Julia', 'Lippett W', 'Lecraft Benjamin', 'Lewis K.H', 'Lewis W.F', 'Levy T.J', 'Lane H.B', 'Leach J A', 'Leavy J.P', 'Lord Fredk', 'Littlejohn W.H', 'Leigh J.W', 'Low T.B']\""
      ]
     },
     "execution_count": 6,
     "metadata": {},
     "output_type": "execute_result"
    }
   ],
   "source": [
    "index_names[150]"
   ]
  },
  {
   "cell_type": "code",
   "execution_count": 7,
   "id": "404ef81e",
   "metadata": {
    "execution": {
     "iopub.execute_input": "2022-06-29T11:29:15.306593Z",
     "iopub.status.busy": "2022-06-29T11:29:15.306228Z",
     "iopub.status.idle": "2022-06-29T11:29:15.312190Z",
     "shell.execute_reply": "2022-06-29T11:29:15.311476Z"
    },
    "papermill": {
     "duration": 0.043941,
     "end_time": "2022-06-29T11:29:15.314083",
     "exception": false,
     "start_time": "2022-06-29T11:29:15.270142",
     "status": "completed"
    },
    "tags": []
   },
   "outputs": [
    {
     "data": {
      "text/plain": [
       "'298 WHEN RECEIVED . NAME OF WRITER . DATE AND PURPORT OF LETTER . 299 WHEN RECEIVED . NAME OF WRITER . DATE AND PURPORT OF LETTER . 1.3.70 . 1 Missions , Presby Home . Rev . E. F. Hatfield Secretary per . W. T. M. New York City. , Dec. 30th 1869 . States reply , Mr. Swan , teacher due three months salary , 60 withheld case regard purchase of books investigated . 1.8.70 . 2 Moss , R. C. Teacher . Bladensburg , Md . Jany 6th 1870 . States 81 70100 still due School house lot : names of trustees Darius Bowman , Uriah Wallace , Davis Greenleaf , Cyrus Johnston . 1 , 13 , 70 3 Morris Susan , Teacher . Poolsville , Montgomery Co. Md . January 3 , 1870 . Requests check amount due sent Mr. Adams . 1 , 17 , 70 4 Miller Lewis E. Teacher Lewistown , Frederick Co. Md . Pock Mark Jany 15th 70 , States opening of school Lewistown , forwards compliance instructions Baltimore Association . Will report , instructed report made . 1 , 18 , 70 , 5 Moses Rebecca , Teacher Point of Rocks , Fdk . Co. Md . P. M. Jany 17 , 70 Desires sent six Primary Geographies bill . 1 , 21 , 70 6 Moss R. C. Teacher Bladensburg , Prince Georges Co. Md . Acknowledges receipt of check 15.00'"
      ]
     },
     "execution_count": 7,
     "metadata": {},
     "output_type": "execute_result"
    }
   ],
   "source": [
    "index_text[1500]"
   ]
  },
  {
   "cell_type": "code",
   "execution_count": 8,
   "id": "57108afa",
   "metadata": {
    "execution": {
     "iopub.execute_input": "2022-06-29T11:29:15.385614Z",
     "iopub.status.busy": "2022-06-29T11:29:15.384972Z",
     "iopub.status.idle": "2022-06-29T11:29:15.390712Z",
     "shell.execute_reply": "2022-06-29T11:29:15.389803Z"
    },
    "papermill": {
     "duration": 0.044144,
     "end_time": "2022-06-29T11:29:15.392749",
     "exception": false,
     "start_time": "2022-06-29T11:29:15.348605",
     "status": "completed"
    },
    "tags": []
   },
   "outputs": [
    {
     "data": {
      "text/plain": [
       "\"['E. F. Hatfield', 'Swan', 'Darius Bowman', 'Uriah Wallace', 'Davis Greenleaf', 'Cyrus Johnston', 'Morris Susan', 'Miller Lewis E.', 'Pock Mark', 'Moses Rebecca', 'Moss R', 'C.']\""
      ]
     },
     "execution_count": 8,
     "metadata": {},
     "output_type": "execute_result"
    }
   ],
   "source": [
    "index_names[1500]"
   ]
  },
  {
   "cell_type": "code",
   "execution_count": 9,
   "id": "6953e863",
   "metadata": {
    "execution": {
     "iopub.execute_input": "2022-06-29T11:29:15.464403Z",
     "iopub.status.busy": "2022-06-29T11:29:15.463959Z",
     "iopub.status.idle": "2022-06-29T11:29:15.469598Z",
     "shell.execute_reply": "2022-06-29T11:29:15.468903Z"
    },
    "papermill": {
     "duration": 0.043812,
     "end_time": "2022-06-29T11:29:15.471552",
     "exception": false,
     "start_time": "2022-06-29T11:29:15.427740",
     "status": "completed"
    },
    "tags": []
   },
   "outputs": [
    {
     "data": {
      "text/plain": [
       "'Jenny 90 . Johnson Richard 10 Jones Andrew 12 Johnston Thos . P. A.N.U . 16 , 20 , 75 Jordan Alice 37 , 53 Jordan Vina 51 , 54 , 55 Johnston Tho.P . A.N.U . 65 , 74 95 , 169 , 199 , 200 , 204 , 205 , 281 Johnston Hugh 107 , 146 Jane 129 Jennings Mr 184 , 185 Johnston David 219 Johnson Leah 228 Jeremia Parthe 253'"
      ]
     },
     "execution_count": 9,
     "metadata": {},
     "output_type": "execute_result"
    }
   ],
   "source": [
    "index_text[5000]"
   ]
  },
  {
   "cell_type": "code",
   "execution_count": 10,
   "id": "ded1ec9e",
   "metadata": {
    "execution": {
     "iopub.execute_input": "2022-06-29T11:29:15.543323Z",
     "iopub.status.busy": "2022-06-29T11:29:15.542655Z",
     "iopub.status.idle": "2022-06-29T11:29:15.549237Z",
     "shell.execute_reply": "2022-06-29T11:29:15.547958Z"
    },
    "papermill": {
     "duration": 0.045204,
     "end_time": "2022-06-29T11:29:15.551583",
     "exception": false,
     "start_time": "2022-06-29T11:29:15.506379",
     "status": "completed"
    },
    "tags": []
   },
   "outputs": [
    {
     "data": {
      "text/plain": [
       "\"['Johnson Richard', 'Jones Andrew', 'Johnston Thos', 'Jordan Alice', 'Jordan Vina', 'Johnston Hugh', 'Jane', 'Jennings Mr', 'Johnston David', 'Johnson Leah', 'Jeremia Parthe']\""
      ]
     },
     "execution_count": 10,
     "metadata": {},
     "output_type": "execute_result"
    }
   ],
   "source": [
    "index_names[5000]"
   ]
  },
  {
   "cell_type": "code",
   "execution_count": 11,
   "id": "4a49076b",
   "metadata": {
    "execution": {
     "iopub.execute_input": "2022-06-29T11:29:15.624321Z",
     "iopub.status.busy": "2022-06-29T11:29:15.623676Z",
     "iopub.status.idle": "2022-06-29T11:29:15.631232Z",
     "shell.execute_reply": "2022-06-29T11:29:15.630485Z"
    },
    "papermill": {
     "duration": 0.046915,
     "end_time": "2022-06-29T11:29:15.633179",
     "exception": false,
     "start_time": "2022-06-29T11:29:15.586264",
     "status": "completed"
    },
    "tags": []
   },
   "outputs": [
    {
     "data": {
      "text/plain": [
       "0       ['Abbott', 'Lyman', 'Adams', 'John Q', 'Allen'...\n",
       "1       ['Boyd', 'J. F. Col.', 'Boyden', 'James', 'Bra...\n",
       "2       ['Chur', 'J. F.', 'Cilley', 'Clinton A. Maj', ...\n",
       "3       ['Elijah', 'Eliza', 'Emery', 'Charles', 'Edwin...\n",
       "4       ['Hale', 'Hambrich', 'Hand', 'Harkness', 'E.J'...\n",
       "                              ...                        \n",
       "5417                                                   []\n",
       "5418    ['Wm . F. Richardson', 'Hattie M. Richardson',...\n",
       "5419    ['Hattie L. Newcomb', 'Mutch Opelika', 'Thomas...\n",
       "5420    ['Mutch Opelika', 'Thomas H. Whitly', 'Emma A ...\n",
       "5421    ['James Nichols Stevenson', 'O . M. Waring', '...\n",
       "Name: PERSON-nerenglarge, Length: 5422, dtype: object"
      ]
     },
     "execution_count": 11,
     "metadata": {},
     "output_type": "execute_result"
    }
   ],
   "source": [
    "index_names"
   ]
  },
  {
   "cell_type": "code",
   "execution_count": 12,
   "id": "1bce1334",
   "metadata": {
    "execution": {
     "iopub.execute_input": "2022-06-29T11:29:15.706643Z",
     "iopub.status.busy": "2022-06-29T11:29:15.706008Z",
     "iopub.status.idle": "2022-06-29T11:29:15.918517Z",
     "shell.execute_reply": "2022-06-29T11:29:15.917520Z"
    },
    "papermill": {
     "duration": 0.252465,
     "end_time": "2022-06-29T11:29:15.921435",
     "exception": false,
     "start_time": "2022-06-29T11:29:15.668970",
     "status": "completed"
    },
    "tags": []
   },
   "outputs": [
    {
     "data": {
      "text/plain": [
       "(1298703, 0)"
      ]
     },
     "execution_count": 12,
     "metadata": {},
     "output_type": "execute_result"
    }
   ],
   "source": [
    "PL=[]\n",
    "empty=0\n",
    "for i in index_names:\n",
    "    for j in i:\n",
    "        PL.append(j)\n",
    "for i in index_names:\n",
    "    if i==[]:\n",
    "        empty=empty+1\n",
    "len(PL), empty"
   ]
  },
  {
   "cell_type": "markdown",
   "id": "d3f7d1c2",
   "metadata": {
    "papermill": {
     "duration": 0.0349,
     "end_time": "2022-06-29T11:29:15.992131",
     "exception": false,
     "start_time": "2022-06-29T11:29:15.957231",
     "status": "completed"
    },
    "tags": []
   },
   "source": [
    "# Names from Index are Perfect "
   ]
  },
  {
   "cell_type": "markdown",
   "id": "d486c9a6",
   "metadata": {
    "papermill": {
     "duration": 0.036451,
     "end_time": "2022-06-29T11:29:16.066012",
     "exception": false,
     "start_time": "2022-06-29T11:29:16.029561",
     "status": "completed"
    },
    "tags": []
   },
   "source": [
    "****"
   ]
  },
  {
   "cell_type": "markdown",
   "id": "25979928",
   "metadata": {
    "papermill": {
     "duration": 0.03422,
     "end_time": "2022-06-29T11:29:16.136727",
     "exception": false,
     "start_time": "2022-06-29T11:29:16.102507",
     "status": "completed"
    },
    "tags": []
   },
   "source": [
    "# Order ontonotes"
   ]
  },
  {
   "cell_type": "code",
   "execution_count": 13,
   "id": "82dad087",
   "metadata": {
    "execution": {
     "iopub.execute_input": "2022-06-29T11:29:16.206466Z",
     "iopub.status.busy": "2022-06-29T11:29:16.205646Z",
     "iopub.status.idle": "2022-06-29T11:29:16.487101Z",
     "shell.execute_reply": "2022-06-29T11:29:16.486447Z"
    },
    "papermill": {
     "duration": 0.319229,
     "end_time": "2022-06-29T11:29:16.489518",
     "exception": false,
     "start_time": "2022-06-29T11:29:16.170289",
     "status": "completed"
    },
    "tags": []
   },
   "outputs": [],
   "source": [
    "order_ent=pd.read_csv(\"../input/all-csv/to_compare_result_order.csv\")"
   ]
  },
  {
   "cell_type": "code",
   "execution_count": 14,
   "id": "8ad25170",
   "metadata": {
    "execution": {
     "iopub.execute_input": "2022-06-29T11:29:16.562994Z",
     "iopub.status.busy": "2022-06-29T11:29:16.561677Z",
     "iopub.status.idle": "2022-06-29T11:29:16.583293Z",
     "shell.execute_reply": "2022-06-29T11:29:16.581695Z"
    },
    "papermill": {
     "duration": 0.060295,
     "end_time": "2022-06-29T11:29:16.585491",
     "exception": false,
     "start_time": "2022-06-29T11:29:16.525196",
     "status": "completed"
    },
    "tags": []
   },
   "outputs": [
    {
     "data": {
      "text/html": [
       "<div>\n",
       "<style scoped>\n",
       "    .dataframe tbody tr th:only-of-type {\n",
       "        vertical-align: middle;\n",
       "    }\n",
       "\n",
       "    .dataframe tbody tr th {\n",
       "        vertical-align: top;\n",
       "    }\n",
       "\n",
       "    .dataframe thead th {\n",
       "        text-align: right;\n",
       "    }\n",
       "</style>\n",
       "<table border=\"1\" class=\"dataframe\">\n",
       "  <thead>\n",
       "    <tr style=\"text-align: right;\">\n",
       "      <th></th>\n",
       "      <th>order_text</th>\n",
       "      <th>PERSON-ontonotes</th>\n",
       "      <th>GPE-ontonotes</th>\n",
       "      <th>ORG-ontonotes</th>\n",
       "      <th>Date-ontonotes</th>\n",
       "      <th>LOC-ontonotes</th>\n",
       "      <th>Building-ontonotes</th>\n",
       "      <th>postDate-ontonotes</th>\n",
       "      <th>standard_date-ontonotes</th>\n",
       "      <th>PERSON-nerenglarge</th>\n",
       "      <th>LOC-nerenglarge</th>\n",
       "      <th>ORG-nerenglarge</th>\n",
       "      <th>other_namelarge</th>\n",
       "      <th>PERSON-nerenglish</th>\n",
       "      <th>LOC-nerenglish</th>\n",
       "      <th>ORG-nerenglish</th>\n",
       "      <th>Other_name-nerenglish</th>\n",
       "    </tr>\n",
       "  </thead>\n",
       "  <tbody>\n",
       "    <tr>\n",
       "      <th>0</th>\n",
       "      <td>R G. R.R . THIS ORDER NOT TRANSFERABLE . U.S. ...</td>\n",
       "      <td>['E . Cranford', 'Lewis B. Parsons', 'Major Kn...</td>\n",
       "      <td>['Raleigh N.C', 'Warrenton N.C', 'New York']</td>\n",
       "      <td>['Samuel Gale Co .']</td>\n",
       "      <td>['Aug 6 1866', 'Aug 1866']</td>\n",
       "      <td>[]</td>\n",
       "      <td>['67487']</td>\n",
       "      <td>['6-Aug-1866']</td>\n",
       "      <td>['6-August-1866']</td>\n",
       "      <td>['Cranford', 'Lewis B. Parsons', 'Gaston R.R']</td>\n",
       "      <td>['U.S.', 'Raleigh N.C', 'Warrenton N.C', 'Rale...</td>\n",
       "      <td>['Samuel Gale Co', 'Regiment Freedman', 'Rail ...</td>\n",
       "      <td>[]</td>\n",
       "      <td>[]</td>\n",
       "      <td>['Ral', 'Gaston R.R', 'Raleigh N.C.', 'Broadwa...</td>\n",
       "      <td>['Cranford']</td>\n",
       "      <td>[]</td>\n",
       "    </tr>\n",
       "    <tr>\n",
       "      <th>1</th>\n",
       "      <td>Certified Copy of Order , Extract , within tra...</td>\n",
       "      <td>['E. Crawford']</td>\n",
       "      <td>['Raleigh N.C']</td>\n",
       "      <td>[]</td>\n",
       "      <td>['Aug 6 1866']</td>\n",
       "      <td>[]</td>\n",
       "      <td>[]</td>\n",
       "      <td>['6-Aug-1866']</td>\n",
       "      <td>['6-August-1866']</td>\n",
       "      <td>['Robinson Clinton', 'E. Crawford']</td>\n",
       "      <td>['Raleigh N.C']</td>\n",
       "      <td>[]</td>\n",
       "      <td>[]</td>\n",
       "      <td>[]</td>\n",
       "      <td>[]</td>\n",
       "      <td>[]</td>\n",
       "      <td>[]</td>\n",
       "    </tr>\n",
       "    <tr>\n",
       "      <th>2</th>\n",
       "      <td>Bureau of Refugees , Freedmen Abandoned Lands ...</td>\n",
       "      <td>['KELLEY', 'EDWARD McPHERSON', 'JONATHAN WORTH']</td>\n",
       "      <td>['Raleigh', 'N.C.', 'United States', 'Alabama'...</td>\n",
       "      <td>['Bureau of Refugees', 'House of Representativ...</td>\n",
       "      <td>['May 8th , 1866', 'May 1 , 1866', '1st']</td>\n",
       "      <td>[]</td>\n",
       "      <td>['2d', 'III']</td>\n",
       "      <td>['8-May-1866', '1-May-1866']</td>\n",
       "      <td>['8-May-1866', '1-May-1866']</td>\n",
       "      <td>['KELLEY', 'EDWARD McPHERSON', 'E. WHITTLESEY'...</td>\n",
       "      <td>['State of North Carolina', 'Raleigh', 'N.C.',...</td>\n",
       "      <td>['Bureau of Refugees , Freedmen Abandoned Land...</td>\n",
       "      <td>[]</td>\n",
       "      <td>['JONATHAN WORTH']</td>\n",
       "      <td>['Raleigh', 'N.C.', 'United States', 'Alabama'...</td>\n",
       "      <td>['Officers Agents of Bureau', 'House of Repres...</td>\n",
       "      <td>[]</td>\n",
       "    </tr>\n",
       "    <tr>\n",
       "      <th>3</th>\n",
       "      <td>HEADQUARTERS DEPARTMENT OF NORTH CAROLINA , Ra...</td>\n",
       "      <td>['Joseph E. Johnston']</td>\n",
       "      <td>['Raleigh', 'North Carolina']</td>\n",
       "      <td>['HEADQUARTERS DEPARTMENT OF NORTH CAROLINA', ...</td>\n",
       "      <td>['January 12th , 1866']</td>\n",
       "      <td>[]</td>\n",
       "      <td>['4', 'II', 'III']</td>\n",
       "      <td>['12-January-1866']</td>\n",
       "      <td>['12-January-1866']</td>\n",
       "      <td>['Joseph E. Johnston']</td>\n",
       "      <td>['NORTH CAROLINA', 'Raleigh', 'North Carolina'...</td>\n",
       "      <td>['Government']</td>\n",
       "      <td>[]</td>\n",
       "      <td>['Joseph E. Johnston']</td>\n",
       "      <td>['NORTH CAROLINA', 'Raleigh', 'North Carolina']</td>\n",
       "      <td>[]</td>\n",
       "      <td>[]</td>\n",
       "    </tr>\n",
       "    <tr>\n",
       "      <th>4</th>\n",
       "      <td>IV . Animals sold counties collected unless wo...</td>\n",
       "      <td>['J A . Campbell', 'James H Anderson']</td>\n",
       "      <td>['U.S.']</td>\n",
       "      <td>['Headquarters', 'Government']</td>\n",
       "      <td>['first day of February , proximo']</td>\n",
       "      <td>[]</td>\n",
       "      <td>['VI']</td>\n",
       "      <td>[]</td>\n",
       "      <td>[]</td>\n",
       "      <td>['J A . Campbell', 'James H Anderson']</td>\n",
       "      <td>['U.S.', 'U.S. C.S', 'C.S']</td>\n",
       "      <td>['Government']</td>\n",
       "      <td>[]</td>\n",
       "      <td>['James H Anderson']</td>\n",
       "      <td>['U.S.']</td>\n",
       "      <td>[]</td>\n",
       "      <td>['C.S']</td>\n",
       "    </tr>\n",
       "  </tbody>\n",
       "</table>\n",
       "</div>"
      ],
      "text/plain": [
       "                                          order_text  \\\n",
       "0  R G. R.R . THIS ORDER NOT TRANSFERABLE . U.S. ...   \n",
       "1  Certified Copy of Order , Extract , within tra...   \n",
       "2  Bureau of Refugees , Freedmen Abandoned Lands ...   \n",
       "3  HEADQUARTERS DEPARTMENT OF NORTH CAROLINA , Ra...   \n",
       "4  IV . Animals sold counties collected unless wo...   \n",
       "\n",
       "                                    PERSON-ontonotes  \\\n",
       "0  ['E . Cranford', 'Lewis B. Parsons', 'Major Kn...   \n",
       "1                                    ['E. Crawford']   \n",
       "2   ['KELLEY', 'EDWARD McPHERSON', 'JONATHAN WORTH']   \n",
       "3                             ['Joseph E. Johnston']   \n",
       "4             ['J A . Campbell', 'James H Anderson']   \n",
       "\n",
       "                                       GPE-ontonotes  \\\n",
       "0       ['Raleigh N.C', 'Warrenton N.C', 'New York']   \n",
       "1                                    ['Raleigh N.C']   \n",
       "2  ['Raleigh', 'N.C.', 'United States', 'Alabama'...   \n",
       "3                      ['Raleigh', 'North Carolina']   \n",
       "4                                           ['U.S.']   \n",
       "\n",
       "                                       ORG-ontonotes  \\\n",
       "0                               ['Samuel Gale Co .']   \n",
       "1                                                 []   \n",
       "2  ['Bureau of Refugees', 'House of Representativ...   \n",
       "3  ['HEADQUARTERS DEPARTMENT OF NORTH CAROLINA', ...   \n",
       "4                     ['Headquarters', 'Government']   \n",
       "\n",
       "                              Date-ontonotes LOC-ontonotes  \\\n",
       "0                 ['Aug 6 1866', 'Aug 1866']            []   \n",
       "1                             ['Aug 6 1866']            []   \n",
       "2  ['May 8th , 1866', 'May 1 , 1866', '1st']            []   \n",
       "3                    ['January 12th , 1866']            []   \n",
       "4        ['first day of February , proximo']            []   \n",
       "\n",
       "   Building-ontonotes            postDate-ontonotes  \\\n",
       "0           ['67487']                ['6-Aug-1866']   \n",
       "1                  []                ['6-Aug-1866']   \n",
       "2       ['2d', 'III']  ['8-May-1866', '1-May-1866']   \n",
       "3  ['4', 'II', 'III']           ['12-January-1866']   \n",
       "4              ['VI']                            []   \n",
       "\n",
       "        standard_date-ontonotes  \\\n",
       "0             ['6-August-1866']   \n",
       "1             ['6-August-1866']   \n",
       "2  ['8-May-1866', '1-May-1866']   \n",
       "3           ['12-January-1866']   \n",
       "4                            []   \n",
       "\n",
       "                                  PERSON-nerenglarge  \\\n",
       "0     ['Cranford', 'Lewis B. Parsons', 'Gaston R.R']   \n",
       "1                ['Robinson Clinton', 'E. Crawford']   \n",
       "2  ['KELLEY', 'EDWARD McPHERSON', 'E. WHITTLESEY'...   \n",
       "3                             ['Joseph E. Johnston']   \n",
       "4             ['J A . Campbell', 'James H Anderson']   \n",
       "\n",
       "                                     LOC-nerenglarge  \\\n",
       "0  ['U.S.', 'Raleigh N.C', 'Warrenton N.C', 'Rale...   \n",
       "1                                    ['Raleigh N.C']   \n",
       "2  ['State of North Carolina', 'Raleigh', 'N.C.',...   \n",
       "3  ['NORTH CAROLINA', 'Raleigh', 'North Carolina'...   \n",
       "4                        ['U.S.', 'U.S. C.S', 'C.S']   \n",
       "\n",
       "                                     ORG-nerenglarge other_namelarge  \\\n",
       "0  ['Samuel Gale Co', 'Regiment Freedman', 'Rail ...              []   \n",
       "1                                                 []              []   \n",
       "2  ['Bureau of Refugees , Freedmen Abandoned Land...              []   \n",
       "3                                     ['Government']              []   \n",
       "4                                     ['Government']              []   \n",
       "\n",
       "        PERSON-nerenglish                                     LOC-nerenglish  \\\n",
       "0                      []  ['Ral', 'Gaston R.R', 'Raleigh N.C.', 'Broadwa...   \n",
       "1                      []                                                 []   \n",
       "2      ['JONATHAN WORTH']  ['Raleigh', 'N.C.', 'United States', 'Alabama'...   \n",
       "3  ['Joseph E. Johnston']    ['NORTH CAROLINA', 'Raleigh', 'North Carolina']   \n",
       "4    ['James H Anderson']                                           ['U.S.']   \n",
       "\n",
       "                                      ORG-nerenglish Other_name-nerenglish  \n",
       "0                                       ['Cranford']                    []  \n",
       "1                                                 []                    []  \n",
       "2  ['Officers Agents of Bureau', 'House of Repres...                    []  \n",
       "3                                                 []                    []  \n",
       "4                                                 []               ['C.S']  "
      ]
     },
     "execution_count": 14,
     "metadata": {},
     "output_type": "execute_result"
    }
   ],
   "source": [
    "order_ent.head()"
   ]
  },
  {
   "cell_type": "code",
   "execution_count": 15,
   "id": "e8fa019b",
   "metadata": {
    "execution": {
     "iopub.execute_input": "2022-06-29T11:29:16.658966Z",
     "iopub.status.busy": "2022-06-29T11:29:16.658063Z",
     "iopub.status.idle": "2022-06-29T11:29:16.686070Z",
     "shell.execute_reply": "2022-06-29T11:29:16.685174Z"
    },
    "papermill": {
     "duration": 0.06801,
     "end_time": "2022-06-29T11:29:16.688800",
     "exception": false,
     "start_time": "2022-06-29T11:29:16.620790",
     "status": "completed"
    },
    "tags": []
   },
   "outputs": [],
   "source": [
    "order_text=order_ent[\"order_text\"]\n",
    "order_Per_onto=order_ent[\"PERSON-ontonotes\"]\n",
    "order_GPE_onto=order_ent[\"GPE-ontonotes\"]\n",
    "order_ORG_onto=order_ent[\"ORG-ontonotes\"]\n",
    "order_date_onto=order_ent[\"standard_date-ontonotes\"]\n",
    "order_loc_onto=order_ent[\"LOC-ontonotes\"]"
   ]
  },
  {
   "cell_type": "code",
   "execution_count": 16,
   "id": "79f46ecc",
   "metadata": {
    "execution": {
     "iopub.execute_input": "2022-06-29T11:29:16.762311Z",
     "iopub.status.busy": "2022-06-29T11:29:16.761934Z",
     "iopub.status.idle": "2022-06-29T11:29:16.768361Z",
     "shell.execute_reply": "2022-06-29T11:29:16.767671Z"
    },
    "papermill": {
     "duration": 0.045745,
     "end_time": "2022-06-29T11:29:16.770520",
     "exception": false,
     "start_time": "2022-06-29T11:29:16.724775",
     "status": "completed"
    },
    "tags": []
   },
   "outputs": [
    {
     "data": {
      "text/plain": [
       "'190 By Order of Col. James V. Bomford Jacob F. Chur . Bvt . Lt. Col. A.A.A.G . Bureau of Refugees Freedmen A.L . Head Qrs . Asst . Commissioner Raleigh N.C. Jan. 16th 1867 Special Order No . 8 Leave of absence twelve days hereby granted Lieut Edgar H. McQuigg V.R.C . Asst Supt Bureau R.F . A.L . Wilmington N.C. By Command of Col. J. V. Bomford Jacob F. Chur . Bvt . Lt. Col. A.A.A . Genl Bureau of Refugees Freedmen c Hd Qrs Asst Commissioner Raleigh N.C. Jan. 18th 1867 Special Order No . 9 In compliance instructions Maj Genl O.O . Howard Commissioner , Bvt . Maj. Thos P. Johnston Chf Qr Mr Bureau State pay trustees of Baptist Female Seminary following amounts rent of rooms used Bureau upon premises known Guion Hotel City of Raleigh recommended board of Officers appointed purpose . For three rooms main building occupied offices of Bureau of R.F . A.L . April 1st 1866 Aug 1st 1866 rate of Twelve dollars per month per room . For four rooms detatched building occupied offices of Bureau of R.F . A.L . April 2d 1866 , Dec 31st 1866 , rate of twelve dollars 12 per month per room . By Command of Col. J. V. Bomford Jacob F. Chur . Bvt . Lt. Col. A.A.A . Genl 191 Bureau of Refugees Freedmen c Hd Qrs Asst Commissioner Raleigh N.C. Jan. 19th 1867 Special Order No . 10 I. Manchester W. Weld appointed Agent of Bureau of R.F . A.L . hereby assigned duty Fayetteville N.C. relieve Justin Hodge Agent . II . The resignation of Justin Hodge Agent of Bureau of R.F . A.L . Fayetteville N.C. hereby accepted take effect relieved Mr. M. W. Weld By Command of Col. J. V. Bomford Jacob F. Chur . Bvt . Lt. Col. A.A.A.G . Bureau of Refugees Freedmen c Hd Qrs Asst Commissioner Raleigh N.C. Jan. 20th 1867 Special Order No . 11 During temporary absence of Bt Lt Col Jacob F. Chur Act Asst Adjt Genl , Bt Maj F. A. Seeley act Asst Adjt Genl . By Command of Col. J. V. Bomford Jacob F. Chur . Bvt . Lt. Col. A.A.A.G .'"
      ]
     },
     "execution_count": 16,
     "metadata": {},
     "output_type": "execute_result"
    }
   ],
   "source": [
    "order_text[1000]"
   ]
  },
  {
   "cell_type": "code",
   "execution_count": 17,
   "id": "ee50a1c2",
   "metadata": {
    "execution": {
     "iopub.execute_input": "2022-06-29T11:29:16.845109Z",
     "iopub.status.busy": "2022-06-29T11:29:16.844049Z",
     "iopub.status.idle": "2022-06-29T11:29:16.849966Z",
     "shell.execute_reply": "2022-06-29T11:29:16.849215Z"
    },
    "papermill": {
     "duration": 0.045417,
     "end_time": "2022-06-29T11:29:16.852123",
     "exception": false,
     "start_time": "2022-06-29T11:29:16.806706",
     "status": "completed"
    },
    "tags": []
   },
   "outputs": [
    {
     "data": {
      "text/plain": [
       "\"['James V. Bomford', 'J. V. Bomford', 'Manchester W. Weld', 'Justin Hodge', 'M. W. Weld', 'Jacob F. Chur', 'F . A. Seeley']\""
      ]
     },
     "execution_count": 17,
     "metadata": {},
     "output_type": "execute_result"
    }
   ],
   "source": [
    "order_Per_onto[1000]"
   ]
  },
  {
   "cell_type": "code",
   "execution_count": 18,
   "id": "266f66d9",
   "metadata": {
    "execution": {
     "iopub.execute_input": "2022-06-29T11:29:16.926573Z",
     "iopub.status.busy": "2022-06-29T11:29:16.925631Z",
     "iopub.status.idle": "2022-06-29T11:29:16.932954Z",
     "shell.execute_reply": "2022-06-29T11:29:16.931494Z"
    },
    "papermill": {
     "duration": 0.047066,
     "end_time": "2022-06-29T11:29:16.935065",
     "exception": false,
     "start_time": "2022-06-29T11:29:16.887999",
     "status": "completed"
    },
    "tags": []
   },
   "outputs": [
    {
     "data": {
      "text/plain": [
       "\"['Raleigh N.C', 'Raleigh', 'Fayetteville N.C.']\""
      ]
     },
     "execution_count": 18,
     "metadata": {},
     "output_type": "execute_result"
    }
   ],
   "source": [
    "order_GPE_onto[1000]"
   ]
  },
  {
   "cell_type": "code",
   "execution_count": 19,
   "id": "612eade2",
   "metadata": {
    "execution": {
     "iopub.execute_input": "2022-06-29T11:29:17.011325Z",
     "iopub.status.busy": "2022-06-29T11:29:17.010463Z",
     "iopub.status.idle": "2022-06-29T11:29:17.017386Z",
     "shell.execute_reply": "2022-06-29T11:29:17.016363Z"
    },
    "papermill": {
     "duration": 0.047926,
     "end_time": "2022-06-29T11:29:17.019579",
     "exception": false,
     "start_time": "2022-06-29T11:29:16.971653",
     "status": "completed"
    },
    "tags": []
   },
   "outputs": [
    {
     "data": {
      "text/plain": [
       "\"['Bureau of Refugees Freedmen A.L', 'Bureau of Refugees Freedmen', 'Baptist Female Seminary', 'Bureau of R.F . A.L']\""
      ]
     },
     "execution_count": 19,
     "metadata": {},
     "output_type": "execute_result"
    }
   ],
   "source": [
    "order_ORG_onto[1000]"
   ]
  },
  {
   "cell_type": "code",
   "execution_count": 20,
   "id": "b1c700db",
   "metadata": {
    "execution": {
     "iopub.execute_input": "2022-06-29T11:29:17.094857Z",
     "iopub.status.busy": "2022-06-29T11:29:17.094552Z",
     "iopub.status.idle": "2022-06-29T11:29:17.100359Z",
     "shell.execute_reply": "2022-06-29T11:29:17.099439Z"
    },
    "papermill": {
     "duration": 0.046219,
     "end_time": "2022-06-29T11:29:17.102618",
     "exception": false,
     "start_time": "2022-06-29T11:29:17.056399",
     "status": "completed"
    },
    "tags": []
   },
   "outputs": [
    {
     "data": {
      "text/plain": [
       "'[]'"
      ]
     },
     "execution_count": 20,
     "metadata": {},
     "output_type": "execute_result"
    }
   ],
   "source": [
    "order_loc_onto[1000]"
   ]
  },
  {
   "cell_type": "code",
   "execution_count": 21,
   "id": "f56ec888",
   "metadata": {
    "execution": {
     "iopub.execute_input": "2022-06-29T11:29:17.179081Z",
     "iopub.status.busy": "2022-06-29T11:29:17.178392Z",
     "iopub.status.idle": "2022-06-29T11:29:17.184712Z",
     "shell.execute_reply": "2022-06-29T11:29:17.183868Z"
    },
    "papermill": {
     "duration": 0.04742,
     "end_time": "2022-06-29T11:29:17.186984",
     "exception": false,
     "start_time": "2022-06-29T11:29:17.139564",
     "status": "completed"
    },
    "tags": []
   },
   "outputs": [
    {
     "data": {
      "text/plain": [
       "\"['16-Jan.-1867', '18-Jan.-1867', '1-April-1866', '1-August-1866', '2-April-1866', '31-December-1866', '19-Jan.-1867', '20-Jan.-1867']\""
      ]
     },
     "execution_count": 21,
     "metadata": {},
     "output_type": "execute_result"
    }
   ],
   "source": [
    "order_date_onto[1000]"
   ]
  },
  {
   "cell_type": "markdown",
   "id": "c8e68764",
   "metadata": {
    "papermill": {
     "duration": 0.039133,
     "end_time": "2022-06-29T11:29:17.263467",
     "exception": false,
     "start_time": "2022-06-29T11:29:17.224334",
     "status": "completed"
    },
    "tags": []
   },
   "source": [
    "**good**"
   ]
  },
  {
   "cell_type": "code",
   "execution_count": 22,
   "id": "1bef5177",
   "metadata": {
    "execution": {
     "iopub.execute_input": "2022-06-29T11:29:17.341692Z",
     "iopub.status.busy": "2022-06-29T11:29:17.341056Z",
     "iopub.status.idle": "2022-06-29T11:29:17.458695Z",
     "shell.execute_reply": "2022-06-29T11:29:17.457658Z"
    },
    "papermill": {
     "duration": 0.160211,
     "end_time": "2022-06-29T11:29:17.461212",
     "exception": false,
     "start_time": "2022-06-29T11:29:17.301001",
     "status": "completed"
    },
    "tags": []
   },
   "outputs": [
    {
     "data": {
      "text/plain": [
       "(453588, 0)"
      ]
     },
     "execution_count": 22,
     "metadata": {},
     "output_type": "execute_result"
    }
   ],
   "source": [
    "PL=[]\n",
    "empty=0\n",
    "for i in order_Per_onto :\n",
    "    for j in i:\n",
    "        PL.append(j)\n",
    "for i in order_Per_onto:\n",
    "    if i==[]:\n",
    "        empty=empty+1\n",
    "len(PL), empty"
   ]
  },
  {
   "cell_type": "markdown",
   "id": "afbf672d",
   "metadata": {
    "papermill": {
     "duration": 0.037706,
     "end_time": "2022-06-29T11:29:17.536065",
     "exception": false,
     "start_time": "2022-06-29T11:29:17.498359",
     "status": "completed"
    },
    "tags": []
   },
   "source": [
    "**very good**"
   ]
  },
  {
   "cell_type": "code",
   "execution_count": 23,
   "id": "0a53e7c4",
   "metadata": {
    "execution": {
     "iopub.execute_input": "2022-06-29T11:29:17.614085Z",
     "iopub.status.busy": "2022-06-29T11:29:17.613384Z",
     "iopub.status.idle": "2022-06-29T11:29:17.665981Z",
     "shell.execute_reply": "2022-06-29T11:29:17.664790Z"
    },
    "papermill": {
     "duration": 0.09478,
     "end_time": "2022-06-29T11:29:17.668363",
     "exception": false,
     "start_time": "2022-06-29T11:29:17.573583",
     "status": "completed"
    },
    "tags": []
   },
   "outputs": [
    {
     "data": {
      "text/plain": [
       "(167185, 2515)"
      ]
     },
     "execution_count": 23,
     "metadata": {},
     "output_type": "execute_result"
    }
   ],
   "source": [
    "PL=[]\n",
    "empty=0\n",
    "for i in order_date_onto :\n",
    "    for j in i:\n",
    "        PL.append(j)\n",
    "for i in order_date_onto:\n",
    "    if i==\"[]\":\n",
    "        empty=empty+1\n",
    "len(PL), empty"
   ]
  },
  {
   "cell_type": "markdown",
   "id": "856effa9",
   "metadata": {
    "papermill": {
     "duration": 0.03782,
     "end_time": "2022-06-29T11:29:17.745006",
     "exception": false,
     "start_time": "2022-06-29T11:29:17.707186",
     "status": "completed"
    },
    "tags": []
   },
   "source": [
    "**uii very good**"
   ]
  },
  {
   "cell_type": "code",
   "execution_count": 24,
   "id": "750385a1",
   "metadata": {
    "execution": {
     "iopub.execute_input": "2022-06-29T11:29:17.822521Z",
     "iopub.status.busy": "2022-06-29T11:29:17.821854Z",
     "iopub.status.idle": "2022-06-29T11:29:17.911369Z",
     "shell.execute_reply": "2022-06-29T11:29:17.910323Z"
    },
    "papermill": {
     "duration": 0.130929,
     "end_time": "2022-06-29T11:29:17.913549",
     "exception": false,
     "start_time": "2022-06-29T11:29:17.782620",
     "status": "completed"
    },
    "tags": []
   },
   "outputs": [
    {
     "data": {
      "text/plain": [
       "(343109, 1295)"
      ]
     },
     "execution_count": 24,
     "metadata": {},
     "output_type": "execute_result"
    }
   ],
   "source": [
    "PL=[]\n",
    "empty=0\n",
    "for i in order_GPE_onto :\n",
    "    for j in i:\n",
    "        PL.append(j)\n",
    "for i in order_GPE_onto:\n",
    "    if i==\"[]\":\n",
    "        empty=empty+1\n",
    "len(PL), empty"
   ]
  },
  {
   "cell_type": "markdown",
   "id": "c6fdb13f",
   "metadata": {
    "papermill": {
     "duration": 0.039155,
     "end_time": "2022-06-29T11:29:17.990285",
     "exception": false,
     "start_time": "2022-06-29T11:29:17.951130",
     "status": "completed"
    },
    "tags": []
   },
   "source": [
    "****"
   ]
  },
  {
   "cell_type": "markdown",
   "id": "5a7e17ed",
   "metadata": {
    "papermill": {
     "duration": 0.038225,
     "end_time": "2022-06-29T11:29:18.067209",
     "exception": false,
     "start_time": "2022-06-29T11:29:18.028984",
     "status": "completed"
    },
    "tags": []
   },
   "source": [
    "# Order Ner-english"
   ]
  },
  {
   "cell_type": "code",
   "execution_count": 25,
   "id": "f1ab9098",
   "metadata": {
    "execution": {
     "iopub.execute_input": "2022-06-29T11:29:18.147007Z",
     "iopub.status.busy": "2022-06-29T11:29:18.146397Z",
     "iopub.status.idle": "2022-06-29T11:29:18.170252Z",
     "shell.execute_reply": "2022-06-29T11:29:18.169187Z"
    },
    "papermill": {
     "duration": 0.067061,
     "end_time": "2022-06-29T11:29:18.172473",
     "exception": false,
     "start_time": "2022-06-29T11:29:18.105412",
     "status": "completed"
    },
    "tags": []
   },
   "outputs": [
    {
     "data": {
      "text/html": [
       "<div>\n",
       "<style scoped>\n",
       "    .dataframe tbody tr th:only-of-type {\n",
       "        vertical-align: middle;\n",
       "    }\n",
       "\n",
       "    .dataframe tbody tr th {\n",
       "        vertical-align: top;\n",
       "    }\n",
       "\n",
       "    .dataframe thead th {\n",
       "        text-align: right;\n",
       "    }\n",
       "</style>\n",
       "<table border=\"1\" class=\"dataframe\">\n",
       "  <thead>\n",
       "    <tr style=\"text-align: right;\">\n",
       "      <th></th>\n",
       "      <th>order_text</th>\n",
       "      <th>PERSON-ontonotes</th>\n",
       "      <th>GPE-ontonotes</th>\n",
       "      <th>ORG-ontonotes</th>\n",
       "      <th>Date-ontonotes</th>\n",
       "      <th>LOC-ontonotes</th>\n",
       "      <th>Building-ontonotes</th>\n",
       "      <th>postDate-ontonotes</th>\n",
       "      <th>standard_date-ontonotes</th>\n",
       "      <th>PERSON-nerenglarge</th>\n",
       "      <th>LOC-nerenglarge</th>\n",
       "      <th>ORG-nerenglarge</th>\n",
       "      <th>other_namelarge</th>\n",
       "      <th>PERSON-nerenglish</th>\n",
       "      <th>LOC-nerenglish</th>\n",
       "      <th>ORG-nerenglish</th>\n",
       "      <th>Other_name-nerenglish</th>\n",
       "    </tr>\n",
       "  </thead>\n",
       "  <tbody>\n",
       "    <tr>\n",
       "      <th>0</th>\n",
       "      <td>R G. R.R . THIS ORDER NOT TRANSFERABLE . U.S. ...</td>\n",
       "      <td>['E . Cranford', 'Lewis B. Parsons', 'Major Kn...</td>\n",
       "      <td>['Raleigh N.C', 'Warrenton N.C', 'New York']</td>\n",
       "      <td>['Samuel Gale Co .']</td>\n",
       "      <td>['Aug 6 1866', 'Aug 1866']</td>\n",
       "      <td>[]</td>\n",
       "      <td>['67487']</td>\n",
       "      <td>['6-Aug-1866']</td>\n",
       "      <td>['6-August-1866']</td>\n",
       "      <td>['Cranford', 'Lewis B. Parsons', 'Gaston R.R']</td>\n",
       "      <td>['U.S.', 'Raleigh N.C', 'Warrenton N.C', 'Rale...</td>\n",
       "      <td>['Samuel Gale Co', 'Regiment Freedman', 'Rail ...</td>\n",
       "      <td>[]</td>\n",
       "      <td>[]</td>\n",
       "      <td>['Ral', 'Gaston R.R', 'Raleigh N.C.', 'Broadwa...</td>\n",
       "      <td>['Cranford']</td>\n",
       "      <td>[]</td>\n",
       "    </tr>\n",
       "    <tr>\n",
       "      <th>1</th>\n",
       "      <td>Certified Copy of Order , Extract , within tra...</td>\n",
       "      <td>['E. Crawford']</td>\n",
       "      <td>['Raleigh N.C']</td>\n",
       "      <td>[]</td>\n",
       "      <td>['Aug 6 1866']</td>\n",
       "      <td>[]</td>\n",
       "      <td>[]</td>\n",
       "      <td>['6-Aug-1866']</td>\n",
       "      <td>['6-August-1866']</td>\n",
       "      <td>['Robinson Clinton', 'E. Crawford']</td>\n",
       "      <td>['Raleigh N.C']</td>\n",
       "      <td>[]</td>\n",
       "      <td>[]</td>\n",
       "      <td>[]</td>\n",
       "      <td>[]</td>\n",
       "      <td>[]</td>\n",
       "      <td>[]</td>\n",
       "    </tr>\n",
       "    <tr>\n",
       "      <th>2</th>\n",
       "      <td>Bureau of Refugees , Freedmen Abandoned Lands ...</td>\n",
       "      <td>['KELLEY', 'EDWARD McPHERSON', 'JONATHAN WORTH']</td>\n",
       "      <td>['Raleigh', 'N.C.', 'United States', 'Alabama'...</td>\n",
       "      <td>['Bureau of Refugees', 'House of Representativ...</td>\n",
       "      <td>['May 8th , 1866', 'May 1 , 1866', '1st']</td>\n",
       "      <td>[]</td>\n",
       "      <td>['2d', 'III']</td>\n",
       "      <td>['8-May-1866', '1-May-1866']</td>\n",
       "      <td>['8-May-1866', '1-May-1866']</td>\n",
       "      <td>['KELLEY', 'EDWARD McPHERSON', 'E. WHITTLESEY'...</td>\n",
       "      <td>['State of North Carolina', 'Raleigh', 'N.C.',...</td>\n",
       "      <td>['Bureau of Refugees , Freedmen Abandoned Land...</td>\n",
       "      <td>[]</td>\n",
       "      <td>['JONATHAN WORTH']</td>\n",
       "      <td>['Raleigh', 'N.C.', 'United States', 'Alabama'...</td>\n",
       "      <td>['Officers Agents of Bureau', 'House of Repres...</td>\n",
       "      <td>[]</td>\n",
       "    </tr>\n",
       "    <tr>\n",
       "      <th>3</th>\n",
       "      <td>HEADQUARTERS DEPARTMENT OF NORTH CAROLINA , Ra...</td>\n",
       "      <td>['Joseph E. Johnston']</td>\n",
       "      <td>['Raleigh', 'North Carolina']</td>\n",
       "      <td>['HEADQUARTERS DEPARTMENT OF NORTH CAROLINA', ...</td>\n",
       "      <td>['January 12th , 1866']</td>\n",
       "      <td>[]</td>\n",
       "      <td>['4', 'II', 'III']</td>\n",
       "      <td>['12-January-1866']</td>\n",
       "      <td>['12-January-1866']</td>\n",
       "      <td>['Joseph E. Johnston']</td>\n",
       "      <td>['NORTH CAROLINA', 'Raleigh', 'North Carolina'...</td>\n",
       "      <td>['Government']</td>\n",
       "      <td>[]</td>\n",
       "      <td>['Joseph E. Johnston']</td>\n",
       "      <td>['NORTH CAROLINA', 'Raleigh', 'North Carolina']</td>\n",
       "      <td>[]</td>\n",
       "      <td>[]</td>\n",
       "    </tr>\n",
       "    <tr>\n",
       "      <th>4</th>\n",
       "      <td>IV . Animals sold counties collected unless wo...</td>\n",
       "      <td>['J A . Campbell', 'James H Anderson']</td>\n",
       "      <td>['U.S.']</td>\n",
       "      <td>['Headquarters', 'Government']</td>\n",
       "      <td>['first day of February , proximo']</td>\n",
       "      <td>[]</td>\n",
       "      <td>['VI']</td>\n",
       "      <td>[]</td>\n",
       "      <td>[]</td>\n",
       "      <td>['J A . Campbell', 'James H Anderson']</td>\n",
       "      <td>['U.S.', 'U.S. C.S', 'C.S']</td>\n",
       "      <td>['Government']</td>\n",
       "      <td>[]</td>\n",
       "      <td>['James H Anderson']</td>\n",
       "      <td>['U.S.']</td>\n",
       "      <td>[]</td>\n",
       "      <td>['C.S']</td>\n",
       "    </tr>\n",
       "  </tbody>\n",
       "</table>\n",
       "</div>"
      ],
      "text/plain": [
       "                                          order_text  \\\n",
       "0  R G. R.R . THIS ORDER NOT TRANSFERABLE . U.S. ...   \n",
       "1  Certified Copy of Order , Extract , within tra...   \n",
       "2  Bureau of Refugees , Freedmen Abandoned Lands ...   \n",
       "3  HEADQUARTERS DEPARTMENT OF NORTH CAROLINA , Ra...   \n",
       "4  IV . Animals sold counties collected unless wo...   \n",
       "\n",
       "                                    PERSON-ontonotes  \\\n",
       "0  ['E . Cranford', 'Lewis B. Parsons', 'Major Kn...   \n",
       "1                                    ['E. Crawford']   \n",
       "2   ['KELLEY', 'EDWARD McPHERSON', 'JONATHAN WORTH']   \n",
       "3                             ['Joseph E. Johnston']   \n",
       "4             ['J A . Campbell', 'James H Anderson']   \n",
       "\n",
       "                                       GPE-ontonotes  \\\n",
       "0       ['Raleigh N.C', 'Warrenton N.C', 'New York']   \n",
       "1                                    ['Raleigh N.C']   \n",
       "2  ['Raleigh', 'N.C.', 'United States', 'Alabama'...   \n",
       "3                      ['Raleigh', 'North Carolina']   \n",
       "4                                           ['U.S.']   \n",
       "\n",
       "                                       ORG-ontonotes  \\\n",
       "0                               ['Samuel Gale Co .']   \n",
       "1                                                 []   \n",
       "2  ['Bureau of Refugees', 'House of Representativ...   \n",
       "3  ['HEADQUARTERS DEPARTMENT OF NORTH CAROLINA', ...   \n",
       "4                     ['Headquarters', 'Government']   \n",
       "\n",
       "                              Date-ontonotes LOC-ontonotes  \\\n",
       "0                 ['Aug 6 1866', 'Aug 1866']            []   \n",
       "1                             ['Aug 6 1866']            []   \n",
       "2  ['May 8th , 1866', 'May 1 , 1866', '1st']            []   \n",
       "3                    ['January 12th , 1866']            []   \n",
       "4        ['first day of February , proximo']            []   \n",
       "\n",
       "   Building-ontonotes            postDate-ontonotes  \\\n",
       "0           ['67487']                ['6-Aug-1866']   \n",
       "1                  []                ['6-Aug-1866']   \n",
       "2       ['2d', 'III']  ['8-May-1866', '1-May-1866']   \n",
       "3  ['4', 'II', 'III']           ['12-January-1866']   \n",
       "4              ['VI']                            []   \n",
       "\n",
       "        standard_date-ontonotes  \\\n",
       "0             ['6-August-1866']   \n",
       "1             ['6-August-1866']   \n",
       "2  ['8-May-1866', '1-May-1866']   \n",
       "3           ['12-January-1866']   \n",
       "4                            []   \n",
       "\n",
       "                                  PERSON-nerenglarge  \\\n",
       "0     ['Cranford', 'Lewis B. Parsons', 'Gaston R.R']   \n",
       "1                ['Robinson Clinton', 'E. Crawford']   \n",
       "2  ['KELLEY', 'EDWARD McPHERSON', 'E. WHITTLESEY'...   \n",
       "3                             ['Joseph E. Johnston']   \n",
       "4             ['J A . Campbell', 'James H Anderson']   \n",
       "\n",
       "                                     LOC-nerenglarge  \\\n",
       "0  ['U.S.', 'Raleigh N.C', 'Warrenton N.C', 'Rale...   \n",
       "1                                    ['Raleigh N.C']   \n",
       "2  ['State of North Carolina', 'Raleigh', 'N.C.',...   \n",
       "3  ['NORTH CAROLINA', 'Raleigh', 'North Carolina'...   \n",
       "4                        ['U.S.', 'U.S. C.S', 'C.S']   \n",
       "\n",
       "                                     ORG-nerenglarge other_namelarge  \\\n",
       "0  ['Samuel Gale Co', 'Regiment Freedman', 'Rail ...              []   \n",
       "1                                                 []              []   \n",
       "2  ['Bureau of Refugees , Freedmen Abandoned Land...              []   \n",
       "3                                     ['Government']              []   \n",
       "4                                     ['Government']              []   \n",
       "\n",
       "        PERSON-nerenglish                                     LOC-nerenglish  \\\n",
       "0                      []  ['Ral', 'Gaston R.R', 'Raleigh N.C.', 'Broadwa...   \n",
       "1                      []                                                 []   \n",
       "2      ['JONATHAN WORTH']  ['Raleigh', 'N.C.', 'United States', 'Alabama'...   \n",
       "3  ['Joseph E. Johnston']    ['NORTH CAROLINA', 'Raleigh', 'North Carolina']   \n",
       "4    ['James H Anderson']                                           ['U.S.']   \n",
       "\n",
       "                                      ORG-nerenglish Other_name-nerenglish  \n",
       "0                                       ['Cranford']                    []  \n",
       "1                                                 []                    []  \n",
       "2  ['Officers Agents of Bureau', 'House of Repres...                    []  \n",
       "3                                                 []                    []  \n",
       "4                                                 []               ['C.S']  "
      ]
     },
     "execution_count": 25,
     "metadata": {},
     "output_type": "execute_result"
    }
   ],
   "source": [
    "order_ent.head()"
   ]
  },
  {
   "cell_type": "code",
   "execution_count": 26,
   "id": "97edf32e",
   "metadata": {
    "execution": {
     "iopub.execute_input": "2022-06-29T11:29:18.253968Z",
     "iopub.status.busy": "2022-06-29T11:29:18.253232Z",
     "iopub.status.idle": "2022-06-29T11:29:18.260875Z",
     "shell.execute_reply": "2022-06-29T11:29:18.259198Z"
    },
    "papermill": {
     "duration": 0.053558,
     "end_time": "2022-06-29T11:29:18.264590",
     "exception": false,
     "start_time": "2022-06-29T11:29:18.211032",
     "status": "completed"
    },
    "tags": []
   },
   "outputs": [],
   "source": [
    "order_Per_ner=order_ent[\"PERSON-nerenglish\"]\n",
    "order_ORG_ner=order_ent[\"ORG-nerenglish\"]\n",
    "order_other_ner=order_ent[\"Other_name-nerenglish\"]\n",
    "order_loc_ner=order_ent[\"LOC-nerenglish\"]"
   ]
  },
  {
   "cell_type": "code",
   "execution_count": 27,
   "id": "a7fe44ad",
   "metadata": {
    "execution": {
     "iopub.execute_input": "2022-06-29T11:29:18.348612Z",
     "iopub.status.busy": "2022-06-29T11:29:18.347944Z",
     "iopub.status.idle": "2022-06-29T11:29:18.354384Z",
     "shell.execute_reply": "2022-06-29T11:29:18.353501Z"
    },
    "papermill": {
     "duration": 0.050933,
     "end_time": "2022-06-29T11:29:18.356513",
     "exception": false,
     "start_time": "2022-06-29T11:29:18.305580",
     "status": "completed"
    },
    "tags": []
   },
   "outputs": [
    {
     "data": {
      "text/plain": [
       "'Bureau of Refugees , Freedmen Abandoned Lands , Headquarters Assistant Commissioner , State of North Carolina , Raleigh , N.C. , May 8th , 1866 . Circular No . 4 The attention of Officers Agents of Bureau called following resolution of House of Representatives : THIRTYNINTH CONGRESSFIRST SESSION . Congress of United States . In House of Representatives , May 1 , 1866 . Mr. KELLEY submitted following , adopted : WHEREAS , It reported citizens of Alabama , formal memorial two Houses of Congress , many of people of mountain districts of State suffering want of adequate supplies of food , considerable numbers of died of actual starvation ; therefore , Be resolved , That President requested instruct proper officers of Bureau of Refugees Freedman enquire condition of said districts , districts of late insurgent States , suffering may said exist , relieve people thereof , provide corn seed planting crop sufficient annual supply of family requiring relief . ATTEST : Signed EDWARD McPHERSON , Clerk . II . In order carry purpose of resolution , reports forwarded without delay headquarters , specifying 1st . The number of persons county needing supplies of food prevent actual suffering , classifying accordance enclosed Form , No . 1 . 2d . The names of persons need corn , seed planting , according enclosed Form No . 2 . III . The season already far advanced , relief contemplated must furnished early possible . The information required therefore obtained forwarded , even exclusion of business . E. WHITTLESEY . Brevt . Brig . Genl . Assit Commr . OFFICIAL : Assistant Adjutant General . It hoped Sheriffs of every county State aid officers of Freedmens Bureau procuring information sought Circular . JONATHAN WORTH , Governor of North Carolina .'"
      ]
     },
     "execution_count": 27,
     "metadata": {},
     "output_type": "execute_result"
    }
   ],
   "source": [
    "order_text[2]"
   ]
  },
  {
   "cell_type": "code",
   "execution_count": 28,
   "id": "37e73d5c",
   "metadata": {
    "execution": {
     "iopub.execute_input": "2022-06-29T11:29:18.435663Z",
     "iopub.status.busy": "2022-06-29T11:29:18.434698Z",
     "iopub.status.idle": "2022-06-29T11:29:18.441032Z",
     "shell.execute_reply": "2022-06-29T11:29:18.440200Z"
    },
    "papermill": {
     "duration": 0.048407,
     "end_time": "2022-06-29T11:29:18.442861",
     "exception": false,
     "start_time": "2022-06-29T11:29:18.394454",
     "status": "completed"
    },
    "tags": []
   },
   "outputs": [
    {
     "data": {
      "text/plain": [
       "\"['JONATHAN WORTH']\""
      ]
     },
     "execution_count": 28,
     "metadata": {},
     "output_type": "execute_result"
    }
   ],
   "source": [
    "order_Per_ner[2]"
   ]
  },
  {
   "cell_type": "code",
   "execution_count": 29,
   "id": "5b444fe6",
   "metadata": {
    "execution": {
     "iopub.execute_input": "2022-06-29T11:29:18.491756Z",
     "iopub.status.busy": "2022-06-29T11:29:18.491128Z",
     "iopub.status.idle": "2022-06-29T11:29:18.497569Z",
     "shell.execute_reply": "2022-06-29T11:29:18.496671Z"
    },
    "papermill": {
     "duration": 0.03255,
     "end_time": "2022-06-29T11:29:18.499379",
     "exception": false,
     "start_time": "2022-06-29T11:29:18.466829",
     "status": "completed"
    },
    "tags": []
   },
   "outputs": [
    {
     "data": {
      "text/plain": [
       "\"['Officers Agents of Bureau', 'House of Representatives', 'Houses of Congress', 'Bureau of Refugees Freedman', 'Freedmens Bureau']\""
      ]
     },
     "execution_count": 29,
     "metadata": {},
     "output_type": "execute_result"
    }
   ],
   "source": [
    "order_ORG_ner[2]"
   ]
  },
  {
   "cell_type": "markdown",
   "id": "099ae025",
   "metadata": {
    "papermill": {
     "duration": 0.023064,
     "end_time": "2022-06-29T11:29:18.546027",
     "exception": false,
     "start_time": "2022-06-29T11:29:18.522963",
     "status": "completed"
    },
    "tags": []
   },
   "source": [
    "**names of ner english are catastrophic**"
   ]
  },
  {
   "cell_type": "markdown",
   "id": "ef7220d9",
   "metadata": {
    "papermill": {
     "duration": 0.023235,
     "end_time": "2022-06-29T11:29:18.593742",
     "exception": false,
     "start_time": "2022-06-29T11:29:18.570507",
     "status": "completed"
    },
    "tags": []
   },
   "source": [
    "****"
   ]
  },
  {
   "cell_type": "markdown",
   "id": "fb260c10",
   "metadata": {
    "papermill": {
     "duration": 0.02267,
     "end_time": "2022-06-29T11:29:18.639509",
     "exception": false,
     "start_time": "2022-06-29T11:29:18.616839",
     "status": "completed"
    },
    "tags": []
   },
   "source": [
    "# Order Ner english large "
   ]
  },
  {
   "cell_type": "code",
   "execution_count": 30,
   "id": "f4806d5a",
   "metadata": {
    "execution": {
     "iopub.execute_input": "2022-06-29T11:29:18.691412Z",
     "iopub.status.busy": "2022-06-29T11:29:18.690517Z",
     "iopub.status.idle": "2022-06-29T11:29:18.695817Z",
     "shell.execute_reply": "2022-06-29T11:29:18.695103Z"
    },
    "papermill": {
     "duration": 0.03454,
     "end_time": "2022-06-29T11:29:18.697943",
     "exception": false,
     "start_time": "2022-06-29T11:29:18.663403",
     "status": "completed"
    },
    "tags": []
   },
   "outputs": [],
   "source": [
    "order_Per_large=order_ent[\"PERSON-nerenglarge\"]\n",
    "order_ORG_large=order_ent[\"ORG-nerenglarge\"]\n",
    "order_other_large=order_ent[\"other_namelarge\"]\n",
    "order_loc_large=order_ent[\"LOC-nerenglarge\"]"
   ]
  },
  {
   "cell_type": "code",
   "execution_count": 31,
   "id": "f72db9c2",
   "metadata": {
    "execution": {
     "iopub.execute_input": "2022-06-29T11:29:18.748345Z",
     "iopub.status.busy": "2022-06-29T11:29:18.747725Z",
     "iopub.status.idle": "2022-06-29T11:29:18.755001Z",
     "shell.execute_reply": "2022-06-29T11:29:18.753381Z"
    },
    "papermill": {
     "duration": 0.036002,
     "end_time": "2022-06-29T11:29:18.757387",
     "exception": false,
     "start_time": "2022-06-29T11:29:18.721385",
     "status": "completed"
    },
    "tags": []
   },
   "outputs": [
    {
     "data": {
      "text/plain": [
       "'190 By Order of Col. James V. Bomford Jacob F. Chur . Bvt . Lt. Col. A.A.A.G . Bureau of Refugees Freedmen A.L . Head Qrs . Asst . Commissioner Raleigh N.C. Jan. 16th 1867 Special Order No . 8 Leave of absence twelve days hereby granted Lieut Edgar H. McQuigg V.R.C . Asst Supt Bureau R.F . A.L . Wilmington N.C. By Command of Col. J. V. Bomford Jacob F. Chur . Bvt . Lt. Col. A.A.A . Genl Bureau of Refugees Freedmen c Hd Qrs Asst Commissioner Raleigh N.C. Jan. 18th 1867 Special Order No . 9 In compliance instructions Maj Genl O.O . Howard Commissioner , Bvt . Maj. Thos P. Johnston Chf Qr Mr Bureau State pay trustees of Baptist Female Seminary following amounts rent of rooms used Bureau upon premises known Guion Hotel City of Raleigh recommended board of Officers appointed purpose . For three rooms main building occupied offices of Bureau of R.F . A.L . April 1st 1866 Aug 1st 1866 rate of Twelve dollars per month per room . For four rooms detatched building occupied offices of Bureau of R.F . A.L . April 2d 1866 , Dec 31st 1866 , rate of twelve dollars 12 per month per room . By Command of Col. J. V. Bomford Jacob F. Chur . Bvt . Lt. Col. A.A.A . Genl 191 Bureau of Refugees Freedmen c Hd Qrs Asst Commissioner Raleigh N.C. Jan. 19th 1867 Special Order No . 10 I. Manchester W. Weld appointed Agent of Bureau of R.F . A.L . hereby assigned duty Fayetteville N.C. relieve Justin Hodge Agent . II . The resignation of Justin Hodge Agent of Bureau of R.F . A.L . Fayetteville N.C. hereby accepted take effect relieved Mr. M. W. Weld By Command of Col. J. V. Bomford Jacob F. Chur . Bvt . Lt. Col. A.A.A.G . Bureau of Refugees Freedmen c Hd Qrs Asst Commissioner Raleigh N.C. Jan. 20th 1867 Special Order No . 11 During temporary absence of Bt Lt Col Jacob F. Chur Act Asst Adjt Genl , Bt Maj F. A. Seeley act Asst Adjt Genl . By Command of Col. J. V. Bomford Jacob F. Chur . Bvt . Lt. Col. A.A.A.G .'"
      ]
     },
     "execution_count": 31,
     "metadata": {},
     "output_type": "execute_result"
    }
   ],
   "source": [
    "order_text[1000]"
   ]
  },
  {
   "cell_type": "code",
   "execution_count": 32,
   "id": "5dafca22",
   "metadata": {
    "execution": {
     "iopub.execute_input": "2022-06-29T11:29:18.806626Z",
     "iopub.status.busy": "2022-06-29T11:29:18.806257Z",
     "iopub.status.idle": "2022-06-29T11:29:18.813235Z",
     "shell.execute_reply": "2022-06-29T11:29:18.812156Z"
    },
    "papermill": {
     "duration": 0.035051,
     "end_time": "2022-06-29T11:29:18.816043",
     "exception": false,
     "start_time": "2022-06-29T11:29:18.780992",
     "status": "completed"
    },
    "tags": []
   },
   "outputs": [
    {
     "data": {
      "text/plain": [
       "\"['James V. Bomford', 'Jacob F. Chur', 'Edgar H .', 'McQuigg', 'J. V. Bomford', 'Genl O.O . Howard', 'Thos P. Johnston', 'Manchester W. Weld', 'Justin Hodge', 'M. W. Weld', 'F . A. Seeley']\""
      ]
     },
     "execution_count": 32,
     "metadata": {},
     "output_type": "execute_result"
    }
   ],
   "source": [
    "order_Per_large[1000]"
   ]
  },
  {
   "cell_type": "code",
   "execution_count": 33,
   "id": "d2b42eca",
   "metadata": {
    "execution": {
     "iopub.execute_input": "2022-06-29T11:29:18.897159Z",
     "iopub.status.busy": "2022-06-29T11:29:18.896684Z",
     "iopub.status.idle": "2022-06-29T11:29:18.903621Z",
     "shell.execute_reply": "2022-06-29T11:29:18.902721Z"
    },
    "papermill": {
     "duration": 0.050324,
     "end_time": "2022-06-29T11:29:18.905937",
     "exception": false,
     "start_time": "2022-06-29T11:29:18.855613",
     "status": "completed"
    },
    "tags": []
   },
   "outputs": [
    {
     "data": {
      "text/plain": [
       "\"['Bureau of Refugees Freedmen A.L', 'Bureau R.F . A.L', 'Bureau of Refugees Freedmen', 'Baptist Female Seminary', 'Bureau', 'Guion Hotel', 'Bureau of R.F . A.L', 'Bureau of R.F . A.L .']\""
      ]
     },
     "execution_count": 33,
     "metadata": {},
     "output_type": "execute_result"
    }
   ],
   "source": [
    "order_ORG_large[1000]"
   ]
  },
  {
   "cell_type": "code",
   "execution_count": 34,
   "id": "eb32cb66",
   "metadata": {
    "execution": {
     "iopub.execute_input": "2022-06-29T11:29:18.989254Z",
     "iopub.status.busy": "2022-06-29T11:29:18.988899Z",
     "iopub.status.idle": "2022-06-29T11:29:18.996110Z",
     "shell.execute_reply": "2022-06-29T11:29:18.994746Z"
    },
    "papermill": {
     "duration": 0.052834,
     "end_time": "2022-06-29T11:29:18.998591",
     "exception": false,
     "start_time": "2022-06-29T11:29:18.945757",
     "status": "completed"
    },
    "tags": []
   },
   "outputs": [
    {
     "data": {
      "text/plain": [
       "\"['Raleigh N.C', 'Wilmington N.C', 'City of Raleigh', 'Fayetteville N.C.']\""
      ]
     },
     "execution_count": 34,
     "metadata": {},
     "output_type": "execute_result"
    }
   ],
   "source": [
    "order_loc_large[1000]"
   ]
  },
  {
   "cell_type": "code",
   "execution_count": 35,
   "id": "af69cccf",
   "metadata": {
    "execution": {
     "iopub.execute_input": "2022-06-29T11:29:19.088815Z",
     "iopub.status.busy": "2022-06-29T11:29:19.088458Z",
     "iopub.status.idle": "2022-06-29T11:29:19.094126Z",
     "shell.execute_reply": "2022-06-29T11:29:19.093349Z"
    },
    "papermill": {
     "duration": 0.049163,
     "end_time": "2022-06-29T11:29:19.096046",
     "exception": false,
     "start_time": "2022-06-29T11:29:19.046883",
     "status": "completed"
    },
    "tags": []
   },
   "outputs": [
    {
     "data": {
      "text/plain": [
       "\"['General Orders']\""
      ]
     },
     "execution_count": 35,
     "metadata": {},
     "output_type": "execute_result"
    }
   ],
   "source": [
    "order_other_large[102]"
   ]
  },
  {
   "cell_type": "markdown",
   "id": "12786c0a",
   "metadata": {
    "papermill": {
     "duration": 0.039081,
     "end_time": "2022-06-29T11:29:19.175068",
     "exception": false,
     "start_time": "2022-06-29T11:29:19.135987",
     "status": "completed"
    },
    "tags": []
   },
   "source": [
    "**veryy good**"
   ]
  },
  {
   "cell_type": "code",
   "execution_count": 36,
   "id": "ffc977fc",
   "metadata": {
    "execution": {
     "iopub.execute_input": "2022-06-29T11:29:19.256859Z",
     "iopub.status.busy": "2022-06-29T11:29:19.256242Z",
     "iopub.status.idle": "2022-06-29T11:29:19.398890Z",
     "shell.execute_reply": "2022-06-29T11:29:19.397564Z"
    },
    "papermill": {
     "duration": 0.187015,
     "end_time": "2022-06-29T11:29:19.401433",
     "exception": false,
     "start_time": "2022-06-29T11:29:19.214418",
     "status": "completed"
    },
    "tags": []
   },
   "outputs": [
    {
     "data": {
      "text/plain": [
       "(556132, 1438)"
      ]
     },
     "execution_count": 36,
     "metadata": {},
     "output_type": "execute_result"
    }
   ],
   "source": [
    "PL=[]\n",
    "empty=0\n",
    "for i in order_Per_large :\n",
    "    for j in i:\n",
    "        PL.append(j)\n",
    "for i in order_Per_large:\n",
    "    if i=='[]':\n",
    "        empty=empty+1\n",
    "len(PL), empty"
   ]
  },
  {
   "cell_type": "code",
   "execution_count": 37,
   "id": "d0f4753f",
   "metadata": {
    "execution": {
     "iopub.execute_input": "2022-06-29T11:29:19.483668Z",
     "iopub.status.busy": "2022-06-29T11:29:19.483246Z",
     "iopub.status.idle": "2022-06-29T11:29:19.623164Z",
     "shell.execute_reply": "2022-06-29T11:29:19.622462Z"
    },
    "papermill": {
     "duration": 0.184852,
     "end_time": "2022-06-29T11:29:19.625933",
     "exception": false,
     "start_time": "2022-06-29T11:29:19.441081",
     "status": "completed"
    },
    "tags": []
   },
   "outputs": [
    {
     "data": {
      "text/plain": [
       "(564296, 1382)"
      ]
     },
     "execution_count": 37,
     "metadata": {},
     "output_type": "execute_result"
    }
   ],
   "source": [
    "PL=[]\n",
    "empty=0\n",
    "for i in order_ORG_large :\n",
    "    for j in i:\n",
    "        PL.append(j)\n",
    "for i in order_ORG_large:\n",
    "    if i=='[]':\n",
    "        empty=empty+1\n",
    "len(PL), empty"
   ]
  },
  {
   "cell_type": "code",
   "execution_count": 38,
   "id": "24f3cec2",
   "metadata": {
    "execution": {
     "iopub.execute_input": "2022-06-29T11:29:19.706729Z",
     "iopub.status.busy": "2022-06-29T11:29:19.706359Z",
     "iopub.status.idle": "2022-06-29T11:29:19.842441Z",
     "shell.execute_reply": "2022-06-29T11:29:19.841334Z"
    },
    "papermill": {
     "duration": 0.178527,
     "end_time": "2022-06-29T11:29:19.844297",
     "exception": false,
     "start_time": "2022-06-29T11:29:19.665770",
     "status": "completed"
    },
    "tags": []
   },
   "outputs": [
    {
     "data": {
      "text/plain": [
       "(543223, 858)"
      ]
     },
     "execution_count": 38,
     "metadata": {},
     "output_type": "execute_result"
    }
   ],
   "source": [
    "PL=[]\n",
    "empty=0\n",
    "for i in order_loc_large :\n",
    "    for j in i:\n",
    "        PL.append(j)\n",
    "for i in order_loc_large:\n",
    "    if i=='[]':\n",
    "        empty=empty+1\n",
    "len(PL), empty"
   ]
  },
  {
   "cell_type": "markdown",
   "id": "9c86932e",
   "metadata": {
    "papermill": {
     "duration": 0.024882,
     "end_time": "2022-06-29T11:29:19.892832",
     "exception": false,
     "start_time": "2022-06-29T11:29:19.867950",
     "status": "completed"
    },
    "tags": []
   },
   "source": [
    "# Ner enlish large is better than ner english in extracted entities (as usuall i think)"
   ]
  },
  {
   "cell_type": "markdown",
   "id": "c0ba29b2",
   "metadata": {
    "papermill": {
     "duration": 0.024311,
     "end_time": "2022-06-29T11:29:19.940728",
     "exception": false,
     "start_time": "2022-06-29T11:29:19.916417",
     "status": "completed"
    },
    "tags": []
   },
   "source": [
    "****"
   ]
  },
  {
   "cell_type": "markdown",
   "id": "d49606b8",
   "metadata": {
    "papermill": {
     "duration": 0.024042,
     "end_time": "2022-06-29T11:29:19.988986",
     "exception": false,
     "start_time": "2022-06-29T11:29:19.964944",
     "status": "completed"
    },
    "tags": []
   },
   "source": [
    "# Contracts Ontonotes"
   ]
  },
  {
   "cell_type": "code",
   "execution_count": 39,
   "id": "d4277e7d",
   "metadata": {
    "execution": {
     "iopub.execute_input": "2022-06-29T11:29:20.039614Z",
     "iopub.status.busy": "2022-06-29T11:29:20.038878Z",
     "iopub.status.idle": "2022-06-29T11:29:21.237858Z",
     "shell.execute_reply": "2022-06-29T11:29:21.236901Z"
    },
    "papermill": {
     "duration": 1.226904,
     "end_time": "2022-06-29T11:29:21.240090",
     "exception": false,
     "start_time": "2022-06-29T11:29:20.013186",
     "status": "completed"
    },
    "tags": []
   },
   "outputs": [],
   "source": [
    "contract_ent=pd.read_csv(\"../input/all-csv/to_compare_result_contract_ner.csv\")\n",
    "contract_onto=pd.read_csv(\"../input/all-csv/contract_onto (1).csv\")"
   ]
  },
  {
   "cell_type": "code",
   "execution_count": 40,
   "id": "35ce35c9",
   "metadata": {
    "execution": {
     "iopub.execute_input": "2022-06-29T11:29:21.289943Z",
     "iopub.status.busy": "2022-06-29T11:29:21.289620Z",
     "iopub.status.idle": "2022-06-29T11:29:21.305675Z",
     "shell.execute_reply": "2022-06-29T11:29:21.304885Z"
    },
    "papermill": {
     "duration": 0.043887,
     "end_time": "2022-06-29T11:29:21.307731",
     "exception": false,
     "start_time": "2022-06-29T11:29:21.263844",
     "status": "completed"
    },
    "tags": []
   },
   "outputs": [
    {
     "data": {
      "text/html": [
       "<div>\n",
       "<style scoped>\n",
       "    .dataframe tbody tr th:only-of-type {\n",
       "        vertical-align: middle;\n",
       "    }\n",
       "\n",
       "    .dataframe tbody tr th {\n",
       "        vertical-align: top;\n",
       "    }\n",
       "\n",
       "    .dataframe thead th {\n",
       "        text-align: right;\n",
       "    }\n",
       "</style>\n",
       "<table border=\"1\" class=\"dataframe\">\n",
       "  <thead>\n",
       "    <tr style=\"text-align: right;\">\n",
       "      <th></th>\n",
       "      <th>contract_text</th>\n",
       "      <th>PERSON-nerenglish</th>\n",
       "      <th>LOC-nerenglish</th>\n",
       "      <th>ORG-nerenglish</th>\n",
       "      <th>Name-nerenglish</th>\n",
       "      <th>Other_name-nerenglish</th>\n",
       "      <th>Name-nerenglarge</th>\n",
       "      <th>LOC-nerenglarge</th>\n",
       "      <th>ORG-nerenglarge</th>\n",
       "      <th>other_namelarge</th>\n",
       "    </tr>\n",
       "  </thead>\n",
       "  <tbody>\n",
       "    <tr>\n",
       "      <th>0</th>\n",
       "      <td>North Carolina This indenture made entered Thi...</td>\n",
       "      <td>['Thos R Underwood', 'Alfred A McKerhan', 'Wm ...</td>\n",
       "      <td>['County of Carteret', 'Shepperd Creek', 'Cree...</td>\n",
       "      <td>[]</td>\n",
       "      <td>['Thos R Underwood', 'Alfred A McKerhan', 'Wm ...</td>\n",
       "      <td>[]</td>\n",
       "      <td>['H.G . Cutler', 'Thos R Underwood', 'Alfred A...</td>\n",
       "      <td>['North Carolina', 'County of Carteret', 'Bogu...</td>\n",
       "      <td>[]</td>\n",
       "      <td>[]</td>\n",
       "    </tr>\n",
       "    <tr>\n",
       "      <th>1</th>\n",
       "      <td>State of North Carolina Currituck County . Thi...</td>\n",
       "      <td>['John B. Etheridge']</td>\n",
       "      <td>['County State', 'Witnesseth', 'County of Curr...</td>\n",
       "      <td>[]</td>\n",
       "      <td>['John B. Etheridge']</td>\n",
       "      <td>[]</td>\n",
       "      <td>['John B. Etheridge', 'Little John Etheridge']</td>\n",
       "      <td>['State of North Carolina', 'Currituck County'...</td>\n",
       "      <td>[]</td>\n",
       "      <td>[]</td>\n",
       "    </tr>\n",
       "    <tr>\n",
       "      <th>2</th>\n",
       "      <td>near Lizzie Etheridges gate , thence South 56 ...</td>\n",
       "      <td>['John B Etheridge', 'Douglas Adam D. Etheridge']</td>\n",
       "      <td>['Red Hill', 'Croatan Sound']</td>\n",
       "      <td>[]</td>\n",
       "      <td>['John B Etheridge', 'Douglas Adam D. Etheridge']</td>\n",
       "      <td>[]</td>\n",
       "      <td>['Little John Etheridge', 'John B Etheridge', ...</td>\n",
       "      <td>['Lizzie Etheridges gate', 'Red Hill', 'Croata...</td>\n",
       "      <td>[]</td>\n",
       "      <td>[]</td>\n",
       "    </tr>\n",
       "    <tr>\n",
       "      <th>3</th>\n",
       "      <td>Copy Agreement of Apprenticeship Bu Mrs. Kate ...</td>\n",
       "      <td>['Kate V.Chamblin']</td>\n",
       "      <td>[]</td>\n",
       "      <td>[]</td>\n",
       "      <td>['Kate V.Chamblin']</td>\n",
       "      <td>[]</td>\n",
       "      <td>['Kate V.Chamblin', '1st', 'Geo . W. Rollins',...</td>\n",
       "      <td>['La', 'Lake Providence Carroll']</td>\n",
       "      <td>['U.S. Army']</td>\n",
       "      <td>[]</td>\n",
       "    </tr>\n",
       "    <tr>\n",
       "      <th>4</th>\n",
       "      <td>Copy Agreement of Apprenticeship . This agreem...</td>\n",
       "      <td>['Kate V. Chambliss', 'Betty Taylor Mary Taylo...</td>\n",
       "      <td>[]</td>\n",
       "      <td>[]</td>\n",
       "      <td>['Kate V. Chambliss', 'Betty Taylor Mary Taylo...</td>\n",
       "      <td>['African']</td>\n",
       "      <td>['Mrs', 'Kate V. Chambliss', 'James Samenett',...</td>\n",
       "      <td>['Carroll Parish', 'New Orleans', 'Louisiana',...</td>\n",
       "      <td>[]</td>\n",
       "      <td>['African']</td>\n",
       "    </tr>\n",
       "  </tbody>\n",
       "</table>\n",
       "</div>"
      ],
      "text/plain": [
       "                                       contract_text  \\\n",
       "0  North Carolina This indenture made entered Thi...   \n",
       "1  State of North Carolina Currituck County . Thi...   \n",
       "2  near Lizzie Etheridges gate , thence South 56 ...   \n",
       "3  Copy Agreement of Apprenticeship Bu Mrs. Kate ...   \n",
       "4  Copy Agreement of Apprenticeship . This agreem...   \n",
       "\n",
       "                                   PERSON-nerenglish  \\\n",
       "0  ['Thos R Underwood', 'Alfred A McKerhan', 'Wm ...   \n",
       "1                              ['John B. Etheridge']   \n",
       "2  ['John B Etheridge', 'Douglas Adam D. Etheridge']   \n",
       "3                                ['Kate V.Chamblin']   \n",
       "4  ['Kate V. Chambliss', 'Betty Taylor Mary Taylo...   \n",
       "\n",
       "                                      LOC-nerenglish ORG-nerenglish  \\\n",
       "0  ['County of Carteret', 'Shepperd Creek', 'Cree...             []   \n",
       "1  ['County State', 'Witnesseth', 'County of Curr...             []   \n",
       "2                      ['Red Hill', 'Croatan Sound']             []   \n",
       "3                                                 []             []   \n",
       "4                                                 []             []   \n",
       "\n",
       "                                     Name-nerenglish Other_name-nerenglish  \\\n",
       "0  ['Thos R Underwood', 'Alfred A McKerhan', 'Wm ...                    []   \n",
       "1                              ['John B. Etheridge']                    []   \n",
       "2  ['John B Etheridge', 'Douglas Adam D. Etheridge']                    []   \n",
       "3                                ['Kate V.Chamblin']                    []   \n",
       "4  ['Kate V. Chambliss', 'Betty Taylor Mary Taylo...           ['African']   \n",
       "\n",
       "                                    Name-nerenglarge  \\\n",
       "0  ['H.G . Cutler', 'Thos R Underwood', 'Alfred A...   \n",
       "1     ['John B. Etheridge', 'Little John Etheridge']   \n",
       "2  ['Little John Etheridge', 'John B Etheridge', ...   \n",
       "3  ['Kate V.Chamblin', '1st', 'Geo . W. Rollins',...   \n",
       "4  ['Mrs', 'Kate V. Chambliss', 'James Samenett',...   \n",
       "\n",
       "                                     LOC-nerenglarge ORG-nerenglarge  \\\n",
       "0  ['North Carolina', 'County of Carteret', 'Bogu...              []   \n",
       "1  ['State of North Carolina', 'Currituck County'...              []   \n",
       "2  ['Lizzie Etheridges gate', 'Red Hill', 'Croata...              []   \n",
       "3                  ['La', 'Lake Providence Carroll']   ['U.S. Army']   \n",
       "4  ['Carroll Parish', 'New Orleans', 'Louisiana',...              []   \n",
       "\n",
       "  other_namelarge  \n",
       "0              []  \n",
       "1              []  \n",
       "2              []  \n",
       "3              []  \n",
       "4     ['African']  "
      ]
     },
     "execution_count": 40,
     "metadata": {},
     "output_type": "execute_result"
    }
   ],
   "source": [
    "contract_ent.head()"
   ]
  },
  {
   "cell_type": "code",
   "execution_count": 41,
   "id": "58d686a2",
   "metadata": {
    "execution": {
     "iopub.execute_input": "2022-06-29T11:29:21.389975Z",
     "iopub.status.busy": "2022-06-29T11:29:21.389639Z",
     "iopub.status.idle": "2022-06-29T11:29:21.405708Z",
     "shell.execute_reply": "2022-06-29T11:29:21.404939Z"
    },
    "papermill": {
     "duration": 0.060029,
     "end_time": "2022-06-29T11:29:21.407694",
     "exception": false,
     "start_time": "2022-06-29T11:29:21.347665",
     "status": "completed"
    },
    "tags": []
   },
   "outputs": [
    {
     "data": {
      "text/html": [
       "<div>\n",
       "<style scoped>\n",
       "    .dataframe tbody tr th:only-of-type {\n",
       "        vertical-align: middle;\n",
       "    }\n",
       "\n",
       "    .dataframe tbody tr th {\n",
       "        vertical-align: top;\n",
       "    }\n",
       "\n",
       "    .dataframe thead th {\n",
       "        text-align: right;\n",
       "    }\n",
       "</style>\n",
       "<table border=\"1\" class=\"dataframe\">\n",
       "  <thead>\n",
       "    <tr style=\"text-align: right;\">\n",
       "      <th></th>\n",
       "      <th>contract_text</th>\n",
       "      <th>Name-ontonotes</th>\n",
       "      <th>GPE-ontonotes</th>\n",
       "      <th>ORG-ontonotes</th>\n",
       "      <th>Date-ontonotes</th>\n",
       "      <th>LOC-ontonotes</th>\n",
       "      <th>Building-ontonotes</th>\n",
       "      <th>Cardinal-ontonotes</th>\n",
       "      <th>postDate-ontonotes</th>\n",
       "      <th>standard_date-ontonotes</th>\n",
       "    </tr>\n",
       "  </thead>\n",
       "  <tbody>\n",
       "    <tr>\n",
       "      <th>0</th>\n",
       "      <td>North Carolina This indenture made entered Thi...</td>\n",
       "      <td>['H.G . Cutler', 'Thos R Underwood', 'Alfred A...</td>\n",
       "      <td>['North Carolina', 'County of Carteret']</td>\n",
       "      <td>[]</td>\n",
       "      <td>['This 5th day of November 1853']</td>\n",
       "      <td>['Stake North', 'Bogue Sound', 'Shepperd Creek']</td>\n",
       "      <td>[]</td>\n",
       "      <td>['five hundred ten', '13.0', '203', '209', '4'...</td>\n",
       "      <td>['This 5-November-1853', '5-This-1853', 'This-...</td>\n",
       "      <td>['5-November-1853', '5-This-1853', '7-November...</td>\n",
       "    </tr>\n",
       "    <tr>\n",
       "      <th>1</th>\n",
       "      <td>State of North Carolina Currituck County . Thi...</td>\n",
       "      <td>['John B. Etheridge', 'Little John Etheridge',...</td>\n",
       "      <td>['North Carolina', 'Currituck County', 'County...</td>\n",
       "      <td>[]</td>\n",
       "      <td>['fifth day of September , year', 'One Thousan...</td>\n",
       "      <td>['Roanoke Island', 'Croatain Sound']</td>\n",
       "      <td>[]</td>\n",
       "      <td>[]</td>\n",
       "      <td>[]</td>\n",
       "      <td>[]</td>\n",
       "    </tr>\n",
       "    <tr>\n",
       "      <th>2</th>\n",
       "      <td>near Lizzie Etheridges gate , thence South 56 ...</td>\n",
       "      <td>['Lizzie Etheridges', 'Little John Etheridge',...</td>\n",
       "      <td>[]</td>\n",
       "      <td>[]</td>\n",
       "      <td>[]</td>\n",
       "      <td>['Red Hill', 'Croatan Sound', 'Sound']</td>\n",
       "      <td>[]</td>\n",
       "      <td>[]</td>\n",
       "      <td>[]</td>\n",
       "      <td>[]</td>\n",
       "    </tr>\n",
       "    <tr>\n",
       "      <th>3</th>\n",
       "      <td>Copy Agreement of Apprenticeship Bu Mrs. Kate ...</td>\n",
       "      <td>['Kate V.Chamblin', 'James Samenett', 'Betty T...</td>\n",
       "      <td>['Carroll Parish La']</td>\n",
       "      <td>['U.S. Army']</td>\n",
       "      <td>['Oct. 1 1866', 'Nov. 3 1866']</td>\n",
       "      <td>[]</td>\n",
       "      <td>[]</td>\n",
       "      <td>[]</td>\n",
       "      <td>['1-Oct.-1866', '3-Nov.-1866']</td>\n",
       "      <td>['1-Oct.-1866', '3-Nov.-1866']</td>\n",
       "    </tr>\n",
       "    <tr>\n",
       "      <th>4</th>\n",
       "      <td>Copy Agreement of Apprenticeship . This agreem...</td>\n",
       "      <td>['Kate V. Chambliss', 'James Samenett', 'Betty...</td>\n",
       "      <td>['New Orleans Louisiana']</td>\n",
       "      <td>[]</td>\n",
       "      <td>['1 day of October A . D. 1866', 'Octr 31 1865...</td>\n",
       "      <td>[]</td>\n",
       "      <td>[]</td>\n",
       "      <td>['two']</td>\n",
       "      <td>['1-October-1866', '31-Octr-1865', '1-Oct.-186...</td>\n",
       "      <td>['1-October-1866', '31-Octr-1865', '1-Oct.-186...</td>\n",
       "    </tr>\n",
       "  </tbody>\n",
       "</table>\n",
       "</div>"
      ],
      "text/plain": [
       "                                       contract_text  \\\n",
       "0  North Carolina This indenture made entered Thi...   \n",
       "1  State of North Carolina Currituck County . Thi...   \n",
       "2  near Lizzie Etheridges gate , thence South 56 ...   \n",
       "3  Copy Agreement of Apprenticeship Bu Mrs. Kate ...   \n",
       "4  Copy Agreement of Apprenticeship . This agreem...   \n",
       "\n",
       "                                      Name-ontonotes  \\\n",
       "0  ['H.G . Cutler', 'Thos R Underwood', 'Alfred A...   \n",
       "1  ['John B. Etheridge', 'Little John Etheridge',...   \n",
       "2  ['Lizzie Etheridges', 'Little John Etheridge',...   \n",
       "3  ['Kate V.Chamblin', 'James Samenett', 'Betty T...   \n",
       "4  ['Kate V. Chambliss', 'James Samenett', 'Betty...   \n",
       "\n",
       "                                       GPE-ontonotes  ORG-ontonotes  \\\n",
       "0           ['North Carolina', 'County of Carteret']             []   \n",
       "1  ['North Carolina', 'Currituck County', 'County...             []   \n",
       "2                                                 []             []   \n",
       "3                              ['Carroll Parish La']  ['U.S. Army']   \n",
       "4                          ['New Orleans Louisiana']             []   \n",
       "\n",
       "                                      Date-ontonotes  \\\n",
       "0                  ['This 5th day of November 1853']   \n",
       "1  ['fifth day of September , year', 'One Thousan...   \n",
       "2                                                 []   \n",
       "3                     ['Oct. 1 1866', 'Nov. 3 1866']   \n",
       "4  ['1 day of October A . D. 1866', 'Octr 31 1865...   \n",
       "\n",
       "                                      LOC-ontonotes Building-ontonotes  \\\n",
       "0  ['Stake North', 'Bogue Sound', 'Shepperd Creek']                 []   \n",
       "1              ['Roanoke Island', 'Croatain Sound']                 []   \n",
       "2            ['Red Hill', 'Croatan Sound', 'Sound']                 []   \n",
       "3                                                []                 []   \n",
       "4                                                []                 []   \n",
       "\n",
       "                                  Cardinal-ontonotes  \\\n",
       "0  ['five hundred ten', '13.0', '203', '209', '4'...   \n",
       "1                                                 []   \n",
       "2                                                 []   \n",
       "3                                                 []   \n",
       "4                                            ['two']   \n",
       "\n",
       "                                  postDate-ontonotes  \\\n",
       "0  ['This 5-November-1853', '5-This-1853', 'This-...   \n",
       "1                                                 []   \n",
       "2                                                 []   \n",
       "3                     ['1-Oct.-1866', '3-Nov.-1866']   \n",
       "4  ['1-October-1866', '31-Octr-1865', '1-Oct.-186...   \n",
       "\n",
       "                             standard_date-ontonotes  \n",
       "0  ['5-November-1853', '5-This-1853', '7-November...  \n",
       "1                                                 []  \n",
       "2                                                 []  \n",
       "3                     ['1-Oct.-1866', '3-Nov.-1866']  \n",
       "4  ['1-October-1866', '31-Octr-1865', '1-Oct.-186...  "
      ]
     },
     "execution_count": 41,
     "metadata": {},
     "output_type": "execute_result"
    }
   ],
   "source": [
    "contract_onto.head()"
   ]
  },
  {
   "cell_type": "code",
   "execution_count": 42,
   "id": "40a48573",
   "metadata": {
    "execution": {
     "iopub.execute_input": "2022-06-29T11:29:21.459157Z",
     "iopub.status.busy": "2022-06-29T11:29:21.458502Z",
     "iopub.status.idle": "2022-06-29T11:29:21.465028Z",
     "shell.execute_reply": "2022-06-29T11:29:21.464236Z"
    },
    "papermill": {
     "duration": 0.034708,
     "end_time": "2022-06-29T11:29:21.467118",
     "exception": false,
     "start_time": "2022-06-29T11:29:21.432410",
     "status": "completed"
    },
    "tags": []
   },
   "outputs": [],
   "source": [
    "contract_text=contract_ent[\"contract_text\"]\n",
    "contract_Per_onto=contract_onto[\"Name-ontonotes\"]\n",
    "contract_GPE_onto=contract_onto[\"GPE-ontonotes\"]\n",
    "contract_ORG_onto=contract_onto[\"ORG-ontonotes\"]\n",
    "contract_date_onto=contract_onto[\"standard_date-ontonotes\"]\n",
    "contract_loc_onto=contract_onto[\"LOC-ontonotes\"]\n",
    "contract_cardinal=contract_onto[\"Cardinal-ontonotes\"]"
   ]
  },
  {
   "cell_type": "code",
   "execution_count": 43,
   "id": "1177ffd2",
   "metadata": {
    "execution": {
     "iopub.execute_input": "2022-06-29T11:29:21.519163Z",
     "iopub.status.busy": "2022-06-29T11:29:21.518785Z",
     "iopub.status.idle": "2022-06-29T11:29:21.525145Z",
     "shell.execute_reply": "2022-06-29T11:29:21.523979Z"
    },
    "papermill": {
     "duration": 0.035233,
     "end_time": "2022-06-29T11:29:21.527354",
     "exception": false,
     "start_time": "2022-06-29T11:29:21.492121",
     "status": "completed"
    },
    "tags": []
   },
   "outputs": [
    {
     "data": {
      "text/plain": [
       "'North Carolina This indenture made entered This 5th day of November 1853 . By H.G . Cutler of County of Carteret of first part Thos R Underwood , Alfred A McKerhan , Wm H Washington , Geo . S Stevenson , John D Williams Nathan A Stedman of second part . Whereas parties of Second part divers others associates purchased of said H. G. Cutler , tract of land situated County of Carteret bounded described follows ; beginning Stake North side of Bogue Sound running thence westwardly various corners of sound , five hundred ten poles Straight . Thence N. 13.0 E. 203 poles , thence East 209 poles , south 4 poles , thence North 85 , E. 116 poles , thence W. 20.0 W. 96 poles , thence N 45.0 E. 21 12 poles thence E. 29 12 poles , thence S. 83.0 E. 220 poles , thence South 5.0 W. Shepperd Creek thence Westerly said Creek South West Corner of tract of land converged said Cutler John Sabuton Then S 50 West along Sabutons West line beginning , containing Estimation Nine hundred four acres survey of said land made William H Marshall hereunto attached Marked A. land said'"
      ]
     },
     "execution_count": 43,
     "metadata": {},
     "output_type": "execute_result"
    }
   ],
   "source": [
    "contract_text[0]"
   ]
  },
  {
   "cell_type": "code",
   "execution_count": 44,
   "id": "8bc5bdaf",
   "metadata": {
    "execution": {
     "iopub.execute_input": "2022-06-29T11:29:21.610301Z",
     "iopub.status.busy": "2022-06-29T11:29:21.609998Z",
     "iopub.status.idle": "2022-06-29T11:29:21.616432Z",
     "shell.execute_reply": "2022-06-29T11:29:21.615616Z"
    },
    "papermill": {
     "duration": 0.050081,
     "end_time": "2022-06-29T11:29:21.618477",
     "exception": false,
     "start_time": "2022-06-29T11:29:21.568396",
     "status": "completed"
    },
    "tags": []
   },
   "outputs": [
    {
     "data": {
      "text/plain": [
       "'[]'"
      ]
     },
     "execution_count": 44,
     "metadata": {},
     "output_type": "execute_result"
    }
   ],
   "source": [
    "contract_date_onto[150]"
   ]
  },
  {
   "cell_type": "code",
   "execution_count": 45,
   "id": "bfd6dda8",
   "metadata": {
    "execution": {
     "iopub.execute_input": "2022-06-29T11:29:21.704447Z",
     "iopub.status.busy": "2022-06-29T11:29:21.703518Z",
     "iopub.status.idle": "2022-06-29T11:29:21.711071Z",
     "shell.execute_reply": "2022-06-29T11:29:21.709777Z"
    },
    "papermill": {
     "duration": 0.052922,
     "end_time": "2022-06-29T11:29:21.713580",
     "exception": false,
     "start_time": "2022-06-29T11:29:21.660658",
     "status": "completed"
    },
    "tags": []
   },
   "outputs": [
    {
     "data": {
      "text/plain": [
       "\"['H.G . Cutler', 'Thos R Underwood', 'Alfred A McKerhan', 'John D Williams', 'Nathan A Stedman', 'H . G. Cutler', 'Cutler', 'William H Marshall']\""
      ]
     },
     "execution_count": 45,
     "metadata": {},
     "output_type": "execute_result"
    }
   ],
   "source": [
    "contract_Per_onto[0]"
   ]
  },
  {
   "cell_type": "code",
   "execution_count": 46,
   "id": "af59a45f",
   "metadata": {
    "execution": {
     "iopub.execute_input": "2022-06-29T11:29:21.798200Z",
     "iopub.status.busy": "2022-06-29T11:29:21.797359Z",
     "iopub.status.idle": "2022-06-29T11:29:21.804470Z",
     "shell.execute_reply": "2022-06-29T11:29:21.803059Z"
    },
    "papermill": {
     "duration": 0.051535,
     "end_time": "2022-06-29T11:29:21.806646",
     "exception": false,
     "start_time": "2022-06-29T11:29:21.755111",
     "status": "completed"
    },
    "tags": []
   },
   "outputs": [
    {
     "data": {
      "text/plain": [
       "\"['North Carolina', 'County of Carteret']\""
      ]
     },
     "execution_count": 46,
     "metadata": {},
     "output_type": "execute_result"
    }
   ],
   "source": [
    "contract_GPE_onto[0]"
   ]
  },
  {
   "cell_type": "code",
   "execution_count": 47,
   "id": "3180fe28",
   "metadata": {
    "execution": {
     "iopub.execute_input": "2022-06-29T11:29:21.890546Z",
     "iopub.status.busy": "2022-06-29T11:29:21.890236Z",
     "iopub.status.idle": "2022-06-29T11:29:21.896141Z",
     "shell.execute_reply": "2022-06-29T11:29:21.895277Z"
    },
    "papermill": {
     "duration": 0.050078,
     "end_time": "2022-06-29T11:29:21.898088",
     "exception": false,
     "start_time": "2022-06-29T11:29:21.848010",
     "status": "completed"
    },
    "tags": []
   },
   "outputs": [
    {
     "data": {
      "text/plain": [
       "'[]'"
      ]
     },
     "execution_count": 47,
     "metadata": {},
     "output_type": "execute_result"
    }
   ],
   "source": [
    "contract_ORG_onto[0]"
   ]
  },
  {
   "cell_type": "code",
   "execution_count": 48,
   "id": "55f03153",
   "metadata": {
    "execution": {
     "iopub.execute_input": "2022-06-29T11:29:21.948665Z",
     "iopub.status.busy": "2022-06-29T11:29:21.948173Z",
     "iopub.status.idle": "2022-06-29T11:29:21.956774Z",
     "shell.execute_reply": "2022-06-29T11:29:21.955310Z"
    },
    "papermill": {
     "duration": 0.03633,
     "end_time": "2022-06-29T11:29:21.958941",
     "exception": false,
     "start_time": "2022-06-29T11:29:21.922611",
     "status": "completed"
    },
    "tags": []
   },
   "outputs": [
    {
     "data": {
      "text/plain": [
       "\"['Stake North', 'Bogue Sound', 'Shepperd Creek']\""
      ]
     },
     "execution_count": 48,
     "metadata": {},
     "output_type": "execute_result"
    }
   ],
   "source": [
    "contract_loc_onto[0]"
   ]
  },
  {
   "cell_type": "code",
   "execution_count": 49,
   "id": "d3f8ea96",
   "metadata": {
    "execution": {
     "iopub.execute_input": "2022-06-29T11:29:22.051944Z",
     "iopub.status.busy": "2022-06-29T11:29:22.051544Z",
     "iopub.status.idle": "2022-06-29T11:29:22.058659Z",
     "shell.execute_reply": "2022-06-29T11:29:22.057475Z"
    },
    "papermill": {
     "duration": 0.057817,
     "end_time": "2022-06-29T11:29:22.060755",
     "exception": false,
     "start_time": "2022-06-29T11:29:22.002938",
     "status": "completed"
    },
    "tags": []
   },
   "outputs": [
    {
     "data": {
      "text/plain": [
       "\"['five hundred ten', '13.0', '203', '209', '4', '85', '116', '20.0', '96', '45.0', '21 12', '29 12', '83.0', '220', '5.0', '50']\""
      ]
     },
     "execution_count": 49,
     "metadata": {},
     "output_type": "execute_result"
    }
   ],
   "source": [
    "contract_cardinal[0]"
   ]
  },
  {
   "cell_type": "code",
   "execution_count": 50,
   "id": "82822312",
   "metadata": {
    "execution": {
     "iopub.execute_input": "2022-06-29T11:29:22.148934Z",
     "iopub.status.busy": "2022-06-29T11:29:22.148549Z",
     "iopub.status.idle": "2022-06-29T11:29:22.269684Z",
     "shell.execute_reply": "2022-06-29T11:29:22.268530Z"
    },
    "papermill": {
     "duration": 0.168909,
     "end_time": "2022-06-29T11:29:22.272036",
     "exception": false,
     "start_time": "2022-06-29T11:29:22.103127",
     "status": "completed"
    },
    "tags": []
   },
   "outputs": [
    {
     "data": {
      "text/plain": [
       "(426318, 10160)"
      ]
     },
     "execution_count": 50,
     "metadata": {},
     "output_type": "execute_result"
    }
   ],
   "source": [
    "PL=[]\n",
    "empty=0\n",
    "for i in contract_date_onto :\n",
    "    for j in i:\n",
    "        PL.append(j)\n",
    "for i in contract_date_onto:\n",
    "    if i=='[]':\n",
    "        empty=empty+1\n",
    "len(PL), empty"
   ]
  },
  {
   "cell_type": "code",
   "execution_count": 51,
   "id": "4641802b",
   "metadata": {
    "execution": {
     "iopub.execute_input": "2022-06-29T11:29:22.325048Z",
     "iopub.status.busy": "2022-06-29T11:29:22.324645Z",
     "iopub.status.idle": "2022-06-29T11:29:22.677006Z",
     "shell.execute_reply": "2022-06-29T11:29:22.675518Z"
    },
    "papermill": {
     "duration": 0.3811,
     "end_time": "2022-06-29T11:29:22.679238",
     "exception": false,
     "start_time": "2022-06-29T11:29:22.298138",
     "status": "completed"
    },
    "tags": []
   },
   "outputs": [
    {
     "data": {
      "text/plain": [
       "(1525017, 3304)"
      ]
     },
     "execution_count": 51,
     "metadata": {},
     "output_type": "execute_result"
    }
   ],
   "source": [
    "PL=[]\n",
    "empty=0\n",
    "for i in contract_Per_onto :\n",
    "    for j in i:\n",
    "        PL.append(j)\n",
    "for i in contract_Per_onto:\n",
    "    if i=='[]':\n",
    "        empty=empty+1\n",
    "len(PL), empty"
   ]
  },
  {
   "cell_type": "code",
   "execution_count": 52,
   "id": "aba50d90",
   "metadata": {
    "execution": {
     "iopub.execute_input": "2022-06-29T11:29:22.765590Z",
     "iopub.status.busy": "2022-06-29T11:29:22.764877Z",
     "iopub.status.idle": "2022-06-29T11:29:22.843549Z",
     "shell.execute_reply": "2022-06-29T11:29:22.842048Z"
    },
    "papermill": {
     "duration": 0.125057,
     "end_time": "2022-06-29T11:29:22.846225",
     "exception": false,
     "start_time": "2022-06-29T11:29:22.721168",
     "status": "completed"
    },
    "tags": []
   },
   "outputs": [
    {
     "data": {
      "text/plain": [
       "(358023, 12932)"
      ]
     },
     "execution_count": 52,
     "metadata": {},
     "output_type": "execute_result"
    }
   ],
   "source": [
    "PL=[]\n",
    "empty=0\n",
    "for i in contract_GPE_onto :\n",
    "    for j in i:\n",
    "        PL.append(j)\n",
    "for i in contract_GPE_onto:\n",
    "    if i=='[]':\n",
    "        empty=empty+1\n",
    "len(PL), empty"
   ]
  },
  {
   "cell_type": "code",
   "execution_count": 53,
   "id": "8b663068",
   "metadata": {
    "execution": {
     "iopub.execute_input": "2022-06-29T11:29:22.899035Z",
     "iopub.status.busy": "2022-06-29T11:29:22.898660Z",
     "iopub.status.idle": "2022-06-29T11:29:22.940170Z",
     "shell.execute_reply": "2022-06-29T11:29:22.939235Z"
    },
    "papermill": {
     "duration": 0.070316,
     "end_time": "2022-06-29T11:29:22.942167",
     "exception": false,
     "start_time": "2022-06-29T11:29:22.871851",
     "status": "completed"
    },
    "tags": []
   },
   "outputs": [
    {
     "data": {
      "text/plain": [
       "(60156, 23015)"
      ]
     },
     "execution_count": 53,
     "metadata": {},
     "output_type": "execute_result"
    }
   ],
   "source": [
    "PL=[]\n",
    "empty=0\n",
    "for i in contract_loc_onto :\n",
    "    for j in i:\n",
    "        PL.append(j)\n",
    "for i in contract_loc_onto:\n",
    "    if i=='[]':\n",
    "        empty=empty+1\n",
    "len(PL), empty"
   ]
  },
  {
   "cell_type": "markdown",
   "id": "79c7d3cd",
   "metadata": {
    "papermill": {
     "duration": 0.043226,
     "end_time": "2022-06-29T11:29:23.027794",
     "exception": false,
     "start_time": "2022-06-29T11:29:22.984568",
     "status": "completed"
    },
    "tags": []
   },
   "source": [
    "****"
   ]
  },
  {
   "cell_type": "markdown",
   "id": "27217c71",
   "metadata": {
    "papermill": {
     "duration": 0.04309,
     "end_time": "2022-06-29T11:29:23.113669",
     "exception": false,
     "start_time": "2022-06-29T11:29:23.070579",
     "status": "completed"
    },
    "tags": []
   },
   "source": [
    "# Contracts Ner english"
   ]
  },
  {
   "cell_type": "code",
   "execution_count": 54,
   "id": "2a1ac1e8",
   "metadata": {
    "execution": {
     "iopub.execute_input": "2022-06-29T11:29:23.201826Z",
     "iopub.status.busy": "2022-06-29T11:29:23.201194Z",
     "iopub.status.idle": "2022-06-29T11:29:23.217659Z",
     "shell.execute_reply": "2022-06-29T11:29:23.216949Z"
    },
    "papermill": {
     "duration": 0.062374,
     "end_time": "2022-06-29T11:29:23.219699",
     "exception": false,
     "start_time": "2022-06-29T11:29:23.157325",
     "status": "completed"
    },
    "tags": []
   },
   "outputs": [
    {
     "data": {
      "text/html": [
       "<div>\n",
       "<style scoped>\n",
       "    .dataframe tbody tr th:only-of-type {\n",
       "        vertical-align: middle;\n",
       "    }\n",
       "\n",
       "    .dataframe tbody tr th {\n",
       "        vertical-align: top;\n",
       "    }\n",
       "\n",
       "    .dataframe thead th {\n",
       "        text-align: right;\n",
       "    }\n",
       "</style>\n",
       "<table border=\"1\" class=\"dataframe\">\n",
       "  <thead>\n",
       "    <tr style=\"text-align: right;\">\n",
       "      <th></th>\n",
       "      <th>contract_text</th>\n",
       "      <th>PERSON-nerenglish</th>\n",
       "      <th>LOC-nerenglish</th>\n",
       "      <th>ORG-nerenglish</th>\n",
       "      <th>Name-nerenglish</th>\n",
       "      <th>Other_name-nerenglish</th>\n",
       "      <th>Name-nerenglarge</th>\n",
       "      <th>LOC-nerenglarge</th>\n",
       "      <th>ORG-nerenglarge</th>\n",
       "      <th>other_namelarge</th>\n",
       "    </tr>\n",
       "  </thead>\n",
       "  <tbody>\n",
       "    <tr>\n",
       "      <th>0</th>\n",
       "      <td>North Carolina This indenture made entered Thi...</td>\n",
       "      <td>['Thos R Underwood', 'Alfred A McKerhan', 'Wm ...</td>\n",
       "      <td>['County of Carteret', 'Shepperd Creek', 'Cree...</td>\n",
       "      <td>[]</td>\n",
       "      <td>['Thos R Underwood', 'Alfred A McKerhan', 'Wm ...</td>\n",
       "      <td>[]</td>\n",
       "      <td>['H.G . Cutler', 'Thos R Underwood', 'Alfred A...</td>\n",
       "      <td>['North Carolina', 'County of Carteret', 'Bogu...</td>\n",
       "      <td>[]</td>\n",
       "      <td>[]</td>\n",
       "    </tr>\n",
       "    <tr>\n",
       "      <th>1</th>\n",
       "      <td>State of North Carolina Currituck County . Thi...</td>\n",
       "      <td>['John B. Etheridge']</td>\n",
       "      <td>['County State', 'Witnesseth', 'County of Curr...</td>\n",
       "      <td>[]</td>\n",
       "      <td>['John B. Etheridge']</td>\n",
       "      <td>[]</td>\n",
       "      <td>['John B. Etheridge', 'Little John Etheridge']</td>\n",
       "      <td>['State of North Carolina', 'Currituck County'...</td>\n",
       "      <td>[]</td>\n",
       "      <td>[]</td>\n",
       "    </tr>\n",
       "    <tr>\n",
       "      <th>2</th>\n",
       "      <td>near Lizzie Etheridges gate , thence South 56 ...</td>\n",
       "      <td>['John B Etheridge', 'Douglas Adam D. Etheridge']</td>\n",
       "      <td>['Red Hill', 'Croatan Sound']</td>\n",
       "      <td>[]</td>\n",
       "      <td>['John B Etheridge', 'Douglas Adam D. Etheridge']</td>\n",
       "      <td>[]</td>\n",
       "      <td>['Little John Etheridge', 'John B Etheridge', ...</td>\n",
       "      <td>['Lizzie Etheridges gate', 'Red Hill', 'Croata...</td>\n",
       "      <td>[]</td>\n",
       "      <td>[]</td>\n",
       "    </tr>\n",
       "    <tr>\n",
       "      <th>3</th>\n",
       "      <td>Copy Agreement of Apprenticeship Bu Mrs. Kate ...</td>\n",
       "      <td>['Kate V.Chamblin']</td>\n",
       "      <td>[]</td>\n",
       "      <td>[]</td>\n",
       "      <td>['Kate V.Chamblin']</td>\n",
       "      <td>[]</td>\n",
       "      <td>['Kate V.Chamblin', '1st', 'Geo . W. Rollins',...</td>\n",
       "      <td>['La', 'Lake Providence Carroll']</td>\n",
       "      <td>['U.S. Army']</td>\n",
       "      <td>[]</td>\n",
       "    </tr>\n",
       "    <tr>\n",
       "      <th>4</th>\n",
       "      <td>Copy Agreement of Apprenticeship . This agreem...</td>\n",
       "      <td>['Kate V. Chambliss', 'Betty Taylor Mary Taylo...</td>\n",
       "      <td>[]</td>\n",
       "      <td>[]</td>\n",
       "      <td>['Kate V. Chambliss', 'Betty Taylor Mary Taylo...</td>\n",
       "      <td>['African']</td>\n",
       "      <td>['Mrs', 'Kate V. Chambliss', 'James Samenett',...</td>\n",
       "      <td>['Carroll Parish', 'New Orleans', 'Louisiana',...</td>\n",
       "      <td>[]</td>\n",
       "      <td>['African']</td>\n",
       "    </tr>\n",
       "  </tbody>\n",
       "</table>\n",
       "</div>"
      ],
      "text/plain": [
       "                                       contract_text  \\\n",
       "0  North Carolina This indenture made entered Thi...   \n",
       "1  State of North Carolina Currituck County . Thi...   \n",
       "2  near Lizzie Etheridges gate , thence South 56 ...   \n",
       "3  Copy Agreement of Apprenticeship Bu Mrs. Kate ...   \n",
       "4  Copy Agreement of Apprenticeship . This agreem...   \n",
       "\n",
       "                                   PERSON-nerenglish  \\\n",
       "0  ['Thos R Underwood', 'Alfred A McKerhan', 'Wm ...   \n",
       "1                              ['John B. Etheridge']   \n",
       "2  ['John B Etheridge', 'Douglas Adam D. Etheridge']   \n",
       "3                                ['Kate V.Chamblin']   \n",
       "4  ['Kate V. Chambliss', 'Betty Taylor Mary Taylo...   \n",
       "\n",
       "                                      LOC-nerenglish ORG-nerenglish  \\\n",
       "0  ['County of Carteret', 'Shepperd Creek', 'Cree...             []   \n",
       "1  ['County State', 'Witnesseth', 'County of Curr...             []   \n",
       "2                      ['Red Hill', 'Croatan Sound']             []   \n",
       "3                                                 []             []   \n",
       "4                                                 []             []   \n",
       "\n",
       "                                     Name-nerenglish Other_name-nerenglish  \\\n",
       "0  ['Thos R Underwood', 'Alfred A McKerhan', 'Wm ...                    []   \n",
       "1                              ['John B. Etheridge']                    []   \n",
       "2  ['John B Etheridge', 'Douglas Adam D. Etheridge']                    []   \n",
       "3                                ['Kate V.Chamblin']                    []   \n",
       "4  ['Kate V. Chambliss', 'Betty Taylor Mary Taylo...           ['African']   \n",
       "\n",
       "                                    Name-nerenglarge  \\\n",
       "0  ['H.G . Cutler', 'Thos R Underwood', 'Alfred A...   \n",
       "1     ['John B. Etheridge', 'Little John Etheridge']   \n",
       "2  ['Little John Etheridge', 'John B Etheridge', ...   \n",
       "3  ['Kate V.Chamblin', '1st', 'Geo . W. Rollins',...   \n",
       "4  ['Mrs', 'Kate V. Chambliss', 'James Samenett',...   \n",
       "\n",
       "                                     LOC-nerenglarge ORG-nerenglarge  \\\n",
       "0  ['North Carolina', 'County of Carteret', 'Bogu...              []   \n",
       "1  ['State of North Carolina', 'Currituck County'...              []   \n",
       "2  ['Lizzie Etheridges gate', 'Red Hill', 'Croata...              []   \n",
       "3                  ['La', 'Lake Providence Carroll']   ['U.S. Army']   \n",
       "4  ['Carroll Parish', 'New Orleans', 'Louisiana',...              []   \n",
       "\n",
       "  other_namelarge  \n",
       "0              []  \n",
       "1              []  \n",
       "2              []  \n",
       "3              []  \n",
       "4     ['African']  "
      ]
     },
     "execution_count": 54,
     "metadata": {},
     "output_type": "execute_result"
    }
   ],
   "source": [
    "contract_ent.head()"
   ]
  },
  {
   "cell_type": "code",
   "execution_count": 55,
   "id": "f8b5eeb9",
   "metadata": {
    "execution": {
     "iopub.execute_input": "2022-06-29T11:29:23.307406Z",
     "iopub.status.busy": "2022-06-29T11:29:23.306566Z",
     "iopub.status.idle": "2022-06-29T11:29:23.312119Z",
     "shell.execute_reply": "2022-06-29T11:29:23.311219Z"
    },
    "papermill": {
     "duration": 0.05206,
     "end_time": "2022-06-29T11:29:23.314348",
     "exception": false,
     "start_time": "2022-06-29T11:29:23.262288",
     "status": "completed"
    },
    "tags": []
   },
   "outputs": [],
   "source": [
    "contract_Per_ner=contract_ent[\"PERSON-nerenglish\"]\n",
    "contract_loc_ner=contract_ent[\"LOC-nerenglish\"]\n",
    "contract_ORG_ner=contract_ent[\"ORG-nerenglish\"]\n",
    "contract_other_ner=contract_ent[\"Other_name-nerenglish\"]"
   ]
  },
  {
   "cell_type": "code",
   "execution_count": 56,
   "id": "7b8ecd89",
   "metadata": {
    "execution": {
     "iopub.execute_input": "2022-06-29T11:29:23.388263Z",
     "iopub.status.busy": "2022-06-29T11:29:23.387890Z",
     "iopub.status.idle": "2022-06-29T11:29:23.394797Z",
     "shell.execute_reply": "2022-06-29T11:29:23.393877Z"
    },
    "papermill": {
     "duration": 0.037455,
     "end_time": "2022-06-29T11:29:23.397317",
     "exception": false,
     "start_time": "2022-06-29T11:29:23.359862",
     "status": "completed"
    },
    "tags": []
   },
   "outputs": [
    {
     "data": {
      "text/plain": [
       "'AGREEMENT FOR LABOR . THIS INDENTURE , Made entered day of A.D , 186 , of County of State of North Carolina , of first part , undersigned , Free Laborer , of second part : WITNESSETH , That said Laborers agreed work said date day of 186 186 ; kinds of work common farms of country ; work faithfully , respectful deportment . And agree , receive every month , amount placed opposite names , rest end of year ; amount retained shall forfeited violation of contract clearly proven . And agree , time lost idleness absence without leave , shall paid . And said agreed furnish said laborers comfortable quarters , sufficient rations , amount of money per month , stands opposite respective names ; treat kindly , encourage establishment of schools children . Henry Pearce No . NAME . Age . Wages . DOLLS . CTS . Monthly Paymt . DOLLS . CTS . Henry Pearce Tho H Hay Assist . Supt . Bureau R. F. A. L. , SubDistrict of'"
      ]
     },
     "execution_count": 56,
     "metadata": {},
     "output_type": "execute_result"
    }
   ],
   "source": [
    "contract_text[1000]"
   ]
  },
  {
   "cell_type": "code",
   "execution_count": 57,
   "id": "8aaa3fc8",
   "metadata": {
    "execution": {
     "iopub.execute_input": "2022-06-29T11:29:23.491178Z",
     "iopub.status.busy": "2022-06-29T11:29:23.490039Z",
     "iopub.status.idle": "2022-06-29T11:29:23.499909Z",
     "shell.execute_reply": "2022-06-29T11:29:23.498773Z"
    },
    "papermill": {
     "duration": 0.061328,
     "end_time": "2022-06-29T11:29:23.502339",
     "exception": false,
     "start_time": "2022-06-29T11:29:23.441011",
     "status": "completed"
    },
    "tags": []
   },
   "outputs": [
    {
     "data": {
      "text/plain": [
       "\"['Henry Pearce']\""
      ]
     },
     "execution_count": 57,
     "metadata": {},
     "output_type": "execute_result"
    }
   ],
   "source": [
    "contract_Per_ner[1000]"
   ]
  },
  {
   "cell_type": "code",
   "execution_count": 58,
   "id": "fac418d7",
   "metadata": {
    "execution": {
     "iopub.execute_input": "2022-06-29T11:29:23.597717Z",
     "iopub.status.busy": "2022-06-29T11:29:23.597306Z",
     "iopub.status.idle": "2022-06-29T11:29:23.605070Z",
     "shell.execute_reply": "2022-06-29T11:29:23.604142Z"
    },
    "papermill": {
     "duration": 0.058787,
     "end_time": "2022-06-29T11:29:23.607029",
     "exception": false,
     "start_time": "2022-06-29T11:29:23.548242",
     "status": "completed"
    },
    "tags": []
   },
   "outputs": [
    {
     "data": {
      "text/plain": [
       "'[]'"
      ]
     },
     "execution_count": 58,
     "metadata": {},
     "output_type": "execute_result"
    }
   ],
   "source": [
    "contract_loc_ner[1000]"
   ]
  },
  {
   "cell_type": "code",
   "execution_count": 59,
   "id": "df4e478c",
   "metadata": {
    "execution": {
     "iopub.execute_input": "2022-06-29T11:29:23.697358Z",
     "iopub.status.busy": "2022-06-29T11:29:23.695748Z",
     "iopub.status.idle": "2022-06-29T11:29:23.702826Z",
     "shell.execute_reply": "2022-06-29T11:29:23.702068Z"
    },
    "papermill": {
     "duration": 0.054237,
     "end_time": "2022-06-29T11:29:23.704886",
     "exception": false,
     "start_time": "2022-06-29T11:29:23.650649",
     "status": "completed"
    },
    "tags": []
   },
   "outputs": [
    {
     "data": {
      "text/plain": [
       "\"['Henry Pearce Tho H Hay Assist']\""
      ]
     },
     "execution_count": 59,
     "metadata": {},
     "output_type": "execute_result"
    }
   ],
   "source": [
    "contract_ORG_ner[1000]"
   ]
  },
  {
   "cell_type": "code",
   "execution_count": 60,
   "id": "eeff809f",
   "metadata": {
    "execution": {
     "iopub.execute_input": "2022-06-29T11:29:23.758794Z",
     "iopub.status.busy": "2022-06-29T11:29:23.757792Z",
     "iopub.status.idle": "2022-06-29T11:29:23.763670Z",
     "shell.execute_reply": "2022-06-29T11:29:23.762970Z"
    },
    "papermill": {
     "duration": 0.034647,
     "end_time": "2022-06-29T11:29:23.765262",
     "exception": false,
     "start_time": "2022-06-29T11:29:23.730615",
     "status": "completed"
    },
    "tags": []
   },
   "outputs": [
    {
     "data": {
      "text/plain": [
       "'[]'"
      ]
     },
     "execution_count": 60,
     "metadata": {},
     "output_type": "execute_result"
    }
   ],
   "source": [
    "contract_other_ner[1000]"
   ]
  },
  {
   "cell_type": "markdown",
   "id": "a82b71ea",
   "metadata": {
    "papermill": {
     "duration": 0.025465,
     "end_time": "2022-06-29T11:29:23.816467",
     "exception": false,
     "start_time": "2022-06-29T11:29:23.791002",
     "status": "completed"
    },
    "tags": []
   },
   "source": [
    "**not bad but ontonotes still better**"
   ]
  },
  {
   "cell_type": "code",
   "execution_count": 61,
   "id": "6652c831",
   "metadata": {
    "execution": {
     "iopub.execute_input": "2022-06-29T11:29:23.874070Z",
     "iopub.status.busy": "2022-06-29T11:29:23.873417Z",
     "iopub.status.idle": "2022-06-29T11:29:24.071202Z",
     "shell.execute_reply": "2022-06-29T11:29:24.070214Z"
    },
    "papermill": {
     "duration": 0.229304,
     "end_time": "2022-06-29T11:29:24.074006",
     "exception": false,
     "start_time": "2022-06-29T11:29:23.844702",
     "status": "completed"
    },
    "tags": []
   },
   "outputs": [
    {
     "data": {
      "text/plain": [
       "(790998, 7423)"
      ]
     },
     "execution_count": 61,
     "metadata": {},
     "output_type": "execute_result"
    }
   ],
   "source": [
    "PL=[]\n",
    "empty=0\n",
    "for i in contract_Per_ner :\n",
    "    for j in i:\n",
    "        PL.append(j)\n",
    "for i in contract_Per_ner:\n",
    "    if i=='[]':\n",
    "        empty=empty+1\n",
    "len(PL), empty"
   ]
  },
  {
   "cell_type": "markdown",
   "id": "b88bd765",
   "metadata": {
    "papermill": {
     "duration": 0.046963,
     "end_time": "2022-06-29T11:29:24.167234",
     "exception": false,
     "start_time": "2022-06-29T11:29:24.120271",
     "status": "completed"
    },
    "tags": []
   },
   "source": [
    "****"
   ]
  },
  {
   "cell_type": "code",
   "execution_count": 62,
   "id": "b288b3ce",
   "metadata": {
    "execution": {
     "iopub.execute_input": "2022-06-29T11:29:24.258227Z",
     "iopub.status.busy": "2022-06-29T11:29:24.257791Z",
     "iopub.status.idle": "2022-06-29T11:29:24.277645Z",
     "shell.execute_reply": "2022-06-29T11:29:24.276612Z"
    },
    "papermill": {
     "duration": 0.067563,
     "end_time": "2022-06-29T11:29:24.280334",
     "exception": false,
     "start_time": "2022-06-29T11:29:24.212771",
     "status": "completed"
    },
    "tags": []
   },
   "outputs": [
    {
     "data": {
      "text/html": [
       "<div>\n",
       "<style scoped>\n",
       "    .dataframe tbody tr th:only-of-type {\n",
       "        vertical-align: middle;\n",
       "    }\n",
       "\n",
       "    .dataframe tbody tr th {\n",
       "        vertical-align: top;\n",
       "    }\n",
       "\n",
       "    .dataframe thead th {\n",
       "        text-align: right;\n",
       "    }\n",
       "</style>\n",
       "<table border=\"1\" class=\"dataframe\">\n",
       "  <thead>\n",
       "    <tr style=\"text-align: right;\">\n",
       "      <th></th>\n",
       "      <th>contract_text</th>\n",
       "      <th>PERSON-nerenglish</th>\n",
       "      <th>LOC-nerenglish</th>\n",
       "      <th>ORG-nerenglish</th>\n",
       "      <th>Name-nerenglish</th>\n",
       "      <th>Other_name-nerenglish</th>\n",
       "      <th>Name-nerenglarge</th>\n",
       "      <th>LOC-nerenglarge</th>\n",
       "      <th>ORG-nerenglarge</th>\n",
       "      <th>other_namelarge</th>\n",
       "    </tr>\n",
       "  </thead>\n",
       "  <tbody>\n",
       "    <tr>\n",
       "      <th>0</th>\n",
       "      <td>North Carolina This indenture made entered Thi...</td>\n",
       "      <td>['Thos R Underwood', 'Alfred A McKerhan', 'Wm ...</td>\n",
       "      <td>['County of Carteret', 'Shepperd Creek', 'Cree...</td>\n",
       "      <td>[]</td>\n",
       "      <td>['Thos R Underwood', 'Alfred A McKerhan', 'Wm ...</td>\n",
       "      <td>[]</td>\n",
       "      <td>['H.G . Cutler', 'Thos R Underwood', 'Alfred A...</td>\n",
       "      <td>['North Carolina', 'County of Carteret', 'Bogu...</td>\n",
       "      <td>[]</td>\n",
       "      <td>[]</td>\n",
       "    </tr>\n",
       "    <tr>\n",
       "      <th>1</th>\n",
       "      <td>State of North Carolina Currituck County . Thi...</td>\n",
       "      <td>['John B. Etheridge']</td>\n",
       "      <td>['County State', 'Witnesseth', 'County of Curr...</td>\n",
       "      <td>[]</td>\n",
       "      <td>['John B. Etheridge']</td>\n",
       "      <td>[]</td>\n",
       "      <td>['John B. Etheridge', 'Little John Etheridge']</td>\n",
       "      <td>['State of North Carolina', 'Currituck County'...</td>\n",
       "      <td>[]</td>\n",
       "      <td>[]</td>\n",
       "    </tr>\n",
       "    <tr>\n",
       "      <th>2</th>\n",
       "      <td>near Lizzie Etheridges gate , thence South 56 ...</td>\n",
       "      <td>['John B Etheridge', 'Douglas Adam D. Etheridge']</td>\n",
       "      <td>['Red Hill', 'Croatan Sound']</td>\n",
       "      <td>[]</td>\n",
       "      <td>['John B Etheridge', 'Douglas Adam D. Etheridge']</td>\n",
       "      <td>[]</td>\n",
       "      <td>['Little John Etheridge', 'John B Etheridge', ...</td>\n",
       "      <td>['Lizzie Etheridges gate', 'Red Hill', 'Croata...</td>\n",
       "      <td>[]</td>\n",
       "      <td>[]</td>\n",
       "    </tr>\n",
       "    <tr>\n",
       "      <th>3</th>\n",
       "      <td>Copy Agreement of Apprenticeship Bu Mrs. Kate ...</td>\n",
       "      <td>['Kate V.Chamblin']</td>\n",
       "      <td>[]</td>\n",
       "      <td>[]</td>\n",
       "      <td>['Kate V.Chamblin']</td>\n",
       "      <td>[]</td>\n",
       "      <td>['Kate V.Chamblin', '1st', 'Geo . W. Rollins',...</td>\n",
       "      <td>['La', 'Lake Providence Carroll']</td>\n",
       "      <td>['U.S. Army']</td>\n",
       "      <td>[]</td>\n",
       "    </tr>\n",
       "    <tr>\n",
       "      <th>4</th>\n",
       "      <td>Copy Agreement of Apprenticeship . This agreem...</td>\n",
       "      <td>['Kate V. Chambliss', 'Betty Taylor Mary Taylo...</td>\n",
       "      <td>[]</td>\n",
       "      <td>[]</td>\n",
       "      <td>['Kate V. Chambliss', 'Betty Taylor Mary Taylo...</td>\n",
       "      <td>['African']</td>\n",
       "      <td>['Mrs', 'Kate V. Chambliss', 'James Samenett',...</td>\n",
       "      <td>['Carroll Parish', 'New Orleans', 'Louisiana',...</td>\n",
       "      <td>[]</td>\n",
       "      <td>['African']</td>\n",
       "    </tr>\n",
       "  </tbody>\n",
       "</table>\n",
       "</div>"
      ],
      "text/plain": [
       "                                       contract_text  \\\n",
       "0  North Carolina This indenture made entered Thi...   \n",
       "1  State of North Carolina Currituck County . Thi...   \n",
       "2  near Lizzie Etheridges gate , thence South 56 ...   \n",
       "3  Copy Agreement of Apprenticeship Bu Mrs. Kate ...   \n",
       "4  Copy Agreement of Apprenticeship . This agreem...   \n",
       "\n",
       "                                   PERSON-nerenglish  \\\n",
       "0  ['Thos R Underwood', 'Alfred A McKerhan', 'Wm ...   \n",
       "1                              ['John B. Etheridge']   \n",
       "2  ['John B Etheridge', 'Douglas Adam D. Etheridge']   \n",
       "3                                ['Kate V.Chamblin']   \n",
       "4  ['Kate V. Chambliss', 'Betty Taylor Mary Taylo...   \n",
       "\n",
       "                                      LOC-nerenglish ORG-nerenglish  \\\n",
       "0  ['County of Carteret', 'Shepperd Creek', 'Cree...             []   \n",
       "1  ['County State', 'Witnesseth', 'County of Curr...             []   \n",
       "2                      ['Red Hill', 'Croatan Sound']             []   \n",
       "3                                                 []             []   \n",
       "4                                                 []             []   \n",
       "\n",
       "                                     Name-nerenglish Other_name-nerenglish  \\\n",
       "0  ['Thos R Underwood', 'Alfred A McKerhan', 'Wm ...                    []   \n",
       "1                              ['John B. Etheridge']                    []   \n",
       "2  ['John B Etheridge', 'Douglas Adam D. Etheridge']                    []   \n",
       "3                                ['Kate V.Chamblin']                    []   \n",
       "4  ['Kate V. Chambliss', 'Betty Taylor Mary Taylo...           ['African']   \n",
       "\n",
       "                                    Name-nerenglarge  \\\n",
       "0  ['H.G . Cutler', 'Thos R Underwood', 'Alfred A...   \n",
       "1     ['John B. Etheridge', 'Little John Etheridge']   \n",
       "2  ['Little John Etheridge', 'John B Etheridge', ...   \n",
       "3  ['Kate V.Chamblin', '1st', 'Geo . W. Rollins',...   \n",
       "4  ['Mrs', 'Kate V. Chambliss', 'James Samenett',...   \n",
       "\n",
       "                                     LOC-nerenglarge ORG-nerenglarge  \\\n",
       "0  ['North Carolina', 'County of Carteret', 'Bogu...              []   \n",
       "1  ['State of North Carolina', 'Currituck County'...              []   \n",
       "2  ['Lizzie Etheridges gate', 'Red Hill', 'Croata...              []   \n",
       "3                  ['La', 'Lake Providence Carroll']   ['U.S. Army']   \n",
       "4  ['Carroll Parish', 'New Orleans', 'Louisiana',...              []   \n",
       "\n",
       "  other_namelarge  \n",
       "0              []  \n",
       "1              []  \n",
       "2              []  \n",
       "3              []  \n",
       "4     ['African']  "
      ]
     },
     "execution_count": 62,
     "metadata": {},
     "output_type": "execute_result"
    }
   ],
   "source": [
    "contract_ent.head()"
   ]
  },
  {
   "cell_type": "code",
   "execution_count": 63,
   "id": "d0a74d7e",
   "metadata": {
    "execution": {
     "iopub.execute_input": "2022-06-29T11:29:24.374931Z",
     "iopub.status.busy": "2022-06-29T11:29:24.374241Z",
     "iopub.status.idle": "2022-06-29T11:29:24.381961Z",
     "shell.execute_reply": "2022-06-29T11:29:24.381078Z"
    },
    "papermill": {
     "duration": 0.058913,
     "end_time": "2022-06-29T11:29:24.383998",
     "exception": false,
     "start_time": "2022-06-29T11:29:24.325085",
     "status": "completed"
    },
    "tags": []
   },
   "outputs": [],
   "source": [
    "contract_Per_large=contract_ent[\"Name-nerenglarge\"]\n",
    "contract_loc_large=contract_ent[\"LOC-nerenglarge\"]\n",
    "contract_ORG_large=contract_ent[\"ORG-nerenglarge\"]\n",
    "contract_other_large=contract_ent[\"other_namelarge\"]"
   ]
  },
  {
   "cell_type": "code",
   "execution_count": 64,
   "id": "3321cd5e",
   "metadata": {
    "execution": {
     "iopub.execute_input": "2022-06-29T11:29:24.475764Z",
     "iopub.status.busy": "2022-06-29T11:29:24.475235Z",
     "iopub.status.idle": "2022-06-29T11:29:24.480011Z",
     "shell.execute_reply": "2022-06-29T11:29:24.479169Z"
    },
    "papermill": {
     "duration": 0.052396,
     "end_time": "2022-06-29T11:29:24.482215",
     "exception": false,
     "start_time": "2022-06-29T11:29:24.429819",
     "status": "completed"
    },
    "tags": []
   },
   "outputs": [
    {
     "data": {
      "text/plain": [
       "'North Carolina This indenture made entered This 5th day of November 1853 . By H.G . Cutler of County of Carteret of first part Thos R Underwood , Alfred A McKerhan , Wm H Washington , Geo . S Stevenson , John D Williams Nathan A Stedman of second part . Whereas parties of Second part divers others associates purchased of said H. G. Cutler , tract of land situated County of Carteret bounded described follows ; beginning Stake North side of Bogue Sound running thence westwardly various corners of sound , five hundred ten poles Straight . Thence N. 13.0 E. 203 poles , thence East 209 poles , south 4 poles , thence North 85 , E. 116 poles , thence W. 20.0 W. 96 poles , thence N 45.0 E. 21 12 poles thence E. 29 12 poles , thence S. 83.0 E. 220 poles , thence South 5.0 W. Shepperd Creek thence Westerly said Creek South West Corner of tract of land converged said Cutler John Sabuton Then S 50 West along Sabutons West line beginning , containing Estimation Nine hundred four acres survey of said land made William H Marshall hereunto attached Marked A. land said'"
      ]
     },
     "execution_count": 64,
     "metadata": {},
     "output_type": "execute_result"
    }
   ],
   "source": [
    "contract_text[0]"
   ]
  },
  {
   "cell_type": "code",
   "execution_count": 65,
   "id": "244b746c",
   "metadata": {
    "execution": {
     "iopub.execute_input": "2022-06-29T11:29:24.652949Z",
     "iopub.status.busy": "2022-06-29T11:29:24.652396Z",
     "iopub.status.idle": "2022-06-29T11:29:24.656841Z",
     "shell.execute_reply": "2022-06-29T11:29:24.656288Z"
    },
    "papermill": {
     "duration": 0.051923,
     "end_time": "2022-06-29T11:29:24.659273",
     "exception": false,
     "start_time": "2022-06-29T11:29:24.607350",
     "status": "completed"
    },
    "tags": []
   },
   "outputs": [
    {
     "data": {
      "text/plain": [
       "\"['H.G . Cutler', 'Thos R Underwood', 'Alfred A McKerhan', 'Wm H Washington', 'Geo . S Stevenson', 'John D Williams', 'Nathan A Stedman', 'H . G. Cutler', 'Cutler John Sabuton', 'William H Marshall']\""
      ]
     },
     "execution_count": 65,
     "metadata": {},
     "output_type": "execute_result"
    }
   ],
   "source": [
    "contract_Per_large[0]"
   ]
  },
  {
   "cell_type": "code",
   "execution_count": 66,
   "id": "66682955",
   "metadata": {
    "execution": {
     "iopub.execute_input": "2022-06-29T11:29:24.738309Z",
     "iopub.status.busy": "2022-06-29T11:29:24.738035Z",
     "iopub.status.idle": "2022-06-29T11:29:24.744393Z",
     "shell.execute_reply": "2022-06-29T11:29:24.743065Z"
    },
    "papermill": {
     "duration": 0.044205,
     "end_time": "2022-06-29T11:29:24.746941",
     "exception": false,
     "start_time": "2022-06-29T11:29:24.702736",
     "status": "completed"
    },
    "tags": []
   },
   "outputs": [
    {
     "data": {
      "text/plain": [
       "\"['North Carolina', 'County of Carteret', 'Bogue Sound', 'Shepperd Creek', 'Westerly', 'Sabutons West']\""
      ]
     },
     "execution_count": 66,
     "metadata": {},
     "output_type": "execute_result"
    }
   ],
   "source": [
    "contract_loc_large[0]"
   ]
  },
  {
   "cell_type": "code",
   "execution_count": 67,
   "id": "a62af5b0",
   "metadata": {
    "execution": {
     "iopub.execute_input": "2022-06-29T11:29:24.838507Z",
     "iopub.status.busy": "2022-06-29T11:29:24.837268Z",
     "iopub.status.idle": "2022-06-29T11:29:24.843604Z",
     "shell.execute_reply": "2022-06-29T11:29:24.842803Z"
    },
    "papermill": {
     "duration": 0.053977,
     "end_time": "2022-06-29T11:29:24.845571",
     "exception": false,
     "start_time": "2022-06-29T11:29:24.791594",
     "status": "completed"
    },
    "tags": []
   },
   "outputs": [
    {
     "data": {
      "text/plain": [
       "'[]'"
      ]
     },
     "execution_count": 67,
     "metadata": {},
     "output_type": "execute_result"
    }
   ],
   "source": [
    "contract_ORG_large[0]"
   ]
  },
  {
   "cell_type": "code",
   "execution_count": 68,
   "id": "95753473",
   "metadata": {
    "execution": {
     "iopub.execute_input": "2022-06-29T11:29:24.937227Z",
     "iopub.status.busy": "2022-06-29T11:29:24.936674Z",
     "iopub.status.idle": "2022-06-29T11:29:24.942557Z",
     "shell.execute_reply": "2022-06-29T11:29:24.941446Z"
    },
    "papermill": {
     "duration": 0.056032,
     "end_time": "2022-06-29T11:29:24.945393",
     "exception": false,
     "start_time": "2022-06-29T11:29:24.889361",
     "status": "completed"
    },
    "tags": []
   },
   "outputs": [
    {
     "data": {
      "text/plain": [
       "'[]'"
      ]
     },
     "execution_count": 68,
     "metadata": {},
     "output_type": "execute_result"
    }
   ],
   "source": [
    "contract_other_large[0]"
   ]
  },
  {
   "cell_type": "code",
   "execution_count": 69,
   "id": "49a0f7f4",
   "metadata": {
    "execution": {
     "iopub.execute_input": "2022-06-29T11:29:25.036394Z",
     "iopub.status.busy": "2022-06-29T11:29:25.036013Z",
     "iopub.status.idle": "2022-06-29T11:29:25.429418Z",
     "shell.execute_reply": "2022-06-29T11:29:25.428448Z"
    },
    "papermill": {
     "duration": 0.440856,
     "end_time": "2022-06-29T11:29:25.431359",
     "exception": false,
     "start_time": "2022-06-29T11:29:24.990503",
     "status": "completed"
    },
    "tags": []
   },
   "outputs": [
    {
     "data": {
      "text/plain": [
       "(1717997, 3532)"
      ]
     },
     "execution_count": 69,
     "metadata": {},
     "output_type": "execute_result"
    }
   ],
   "source": [
    "PL=[]\n",
    "empty=0\n",
    "for i in contract_Per_large :\n",
    "    for j in i:\n",
    "        PL.append(j)\n",
    "for i in contract_Per_large:\n",
    "    if i=='[]':\n",
    "        empty=empty+1\n",
    "len(PL), empty"
   ]
  },
  {
   "cell_type": "markdown",
   "id": "9f7716b0",
   "metadata": {
    "papermill": {
     "duration": 0.045218,
     "end_time": "2022-06-29T11:29:25.503426",
     "exception": false,
     "start_time": "2022-06-29T11:29:25.458208",
     "status": "completed"
    },
    "tags": []
   },
   "source": [
    "# the better one as usuall "
   ]
  },
  {
   "cell_type": "markdown",
   "id": "06809d99",
   "metadata": {
    "papermill": {
     "duration": 0.044627,
     "end_time": "2022-06-29T11:29:25.592833",
     "exception": false,
     "start_time": "2022-06-29T11:29:25.548206",
     "status": "completed"
    },
    "tags": []
   },
   "source": [
    "****"
   ]
  },
  {
   "cell_type": "markdown",
   "id": "8b267d67",
   "metadata": {
    "papermill": {
     "duration": 0.045125,
     "end_time": "2022-06-29T11:29:25.682428",
     "exception": false,
     "start_time": "2022-06-29T11:29:25.637303",
     "status": "completed"
    },
    "tags": []
   },
   "source": [
    "# Records Financial"
   ]
  },
  {
   "cell_type": "code",
   "execution_count": 70,
   "id": "5326d9ca",
   "metadata": {
    "execution": {
     "iopub.execute_input": "2022-06-29T11:29:25.773745Z",
     "iopub.status.busy": "2022-06-29T11:29:25.772881Z",
     "iopub.status.idle": "2022-06-29T11:29:25.860825Z",
     "shell.execute_reply": "2022-06-29T11:29:25.859698Z"
    },
    "papermill": {
     "duration": 0.13675,
     "end_time": "2022-06-29T11:29:25.863628",
     "exception": false,
     "start_time": "2022-06-29T11:29:25.726878",
     "status": "completed"
    },
    "tags": []
   },
   "outputs": [],
   "source": [
    "recordF_ent=pd.read_csv(\"../input/all-csv/to_compare_result_recordF.csv\")"
   ]
  },
  {
   "cell_type": "code",
   "execution_count": 71,
   "id": "aa1d20fc",
   "metadata": {
    "execution": {
     "iopub.execute_input": "2022-06-29T11:29:25.954398Z",
     "iopub.status.busy": "2022-06-29T11:29:25.954093Z",
     "iopub.status.idle": "2022-06-29T11:29:25.970198Z",
     "shell.execute_reply": "2022-06-29T11:29:25.969166Z"
    },
    "papermill": {
     "duration": 0.064223,
     "end_time": "2022-06-29T11:29:25.972177",
     "exception": false,
     "start_time": "2022-06-29T11:29:25.907954",
     "status": "completed"
    },
    "tags": []
   },
   "outputs": [
    {
     "data": {
      "text/html": [
       "<div>\n",
       "<style scoped>\n",
       "    .dataframe tbody tr th:only-of-type {\n",
       "        vertical-align: middle;\n",
       "    }\n",
       "\n",
       "    .dataframe tbody tr th {\n",
       "        vertical-align: top;\n",
       "    }\n",
       "\n",
       "    .dataframe thead th {\n",
       "        text-align: right;\n",
       "    }\n",
       "</style>\n",
       "<table border=\"1\" class=\"dataframe\">\n",
       "  <thead>\n",
       "    <tr style=\"text-align: right;\">\n",
       "      <th></th>\n",
       "      <th>recordF_text</th>\n",
       "      <th>Name-ontonotes</th>\n",
       "      <th>GPE-ontonotes</th>\n",
       "      <th>ORG-ontonotes</th>\n",
       "      <th>Date-ontonotes</th>\n",
       "      <th>LOC-ontonotes</th>\n",
       "      <th>Building-ontonotes</th>\n",
       "      <th>Cardinal-ontonotes</th>\n",
       "      <th>postDate-ontonotes</th>\n",
       "      <th>standard_date-ontonotes</th>\n",
       "      <th>Name-nerenglarge</th>\n",
       "      <th>LOC-nerenglarge</th>\n",
       "      <th>ORG-nerenglarge</th>\n",
       "      <th>other_namelarge</th>\n",
       "      <th>PERSON-nerenglish</th>\n",
       "      <th>LOC-nerenglish</th>\n",
       "      <th>ORG-nerenglish</th>\n",
       "      <th>Other_name-nerenglish</th>\n",
       "    </tr>\n",
       "  </thead>\n",
       "  <tbody>\n",
       "    <tr>\n",
       "      <th>0</th>\n",
       "      <td>Quarter ending March 31st 1866 Justin Hodge Ca...</td>\n",
       "      <td>['Justin Hodge', 'Henry Swim', 'JC Barnett', '...</td>\n",
       "      <td>['Nottsburg', 'Salisbury']</td>\n",
       "      <td>['US Treasury']</td>\n",
       "      <td>['Quarter ending March 31st 1866', 'Dec 18', '...</td>\n",
       "      <td>[]</td>\n",
       "      <td>[]</td>\n",
       "      <td>['One']</td>\n",
       "      <td>['31-Quarter ending March-1866', 'Quarter-Marc...</td>\n",
       "      <td>['Quarter-March-1866']</td>\n",
       "      <td>['Justin Hodge', 'Henry Swim', 'Wm B Meins', '...</td>\n",
       "      <td>['Dist West', 'N.Ca', 'Greensboro N.C', 'Notts...</td>\n",
       "      <td>['A.Q.M . Financial Agent Bureau', 'Fines', 'A...</td>\n",
       "      <td>[]</td>\n",
       "      <td>['Jacob Bodecker', 'Justin Hodge']</td>\n",
       "      <td>[]</td>\n",
       "      <td>[]</td>\n",
       "      <td>[]</td>\n",
       "    </tr>\n",
       "  </tbody>\n",
       "</table>\n",
       "</div>"
      ],
      "text/plain": [
       "                                        recordF_text  \\\n",
       "0  Quarter ending March 31st 1866 Justin Hodge Ca...   \n",
       "\n",
       "                                      Name-ontonotes  \\\n",
       "0  ['Justin Hodge', 'Henry Swim', 'JC Barnett', '...   \n",
       "\n",
       "                GPE-ontonotes    ORG-ontonotes  \\\n",
       "0  ['Nottsburg', 'Salisbury']  ['US Treasury']   \n",
       "\n",
       "                                      Date-ontonotes LOC-ontonotes  \\\n",
       "0  ['Quarter ending March 31st 1866', 'Dec 18', '...            []   \n",
       "\n",
       "  Building-ontonotes Cardinal-ontonotes  \\\n",
       "0                 []            ['One']   \n",
       "\n",
       "                                  postDate-ontonotes standard_date-ontonotes  \\\n",
       "0  ['31-Quarter ending March-1866', 'Quarter-Marc...  ['Quarter-March-1866']   \n",
       "\n",
       "                                    Name-nerenglarge  \\\n",
       "0  ['Justin Hodge', 'Henry Swim', 'Wm B Meins', '...   \n",
       "\n",
       "                                     LOC-nerenglarge  \\\n",
       "0  ['Dist West', 'N.Ca', 'Greensboro N.C', 'Notts...   \n",
       "\n",
       "                                     ORG-nerenglarge other_namelarge  \\\n",
       "0  ['A.Q.M . Financial Agent Bureau', 'Fines', 'A...              []   \n",
       "\n",
       "                    PERSON-nerenglish LOC-nerenglish ORG-nerenglish  \\\n",
       "0  ['Jacob Bodecker', 'Justin Hodge']             []             []   \n",
       "\n",
       "  Other_name-nerenglish  \n",
       "0                    []  "
      ]
     },
     "execution_count": 71,
     "metadata": {},
     "output_type": "execute_result"
    }
   ],
   "source": [
    "recordF_ent.head(1)"
   ]
  },
  {
   "cell_type": "code",
   "execution_count": 72,
   "id": "1dfb97bb",
   "metadata": {
    "execution": {
     "iopub.execute_input": "2022-06-29T11:29:26.063882Z",
     "iopub.status.busy": "2022-06-29T11:29:26.063520Z",
     "iopub.status.idle": "2022-06-29T11:29:26.099813Z",
     "shell.execute_reply": "2022-06-29T11:29:26.098751Z"
    },
    "papermill": {
     "duration": 0.084789,
     "end_time": "2022-06-29T11:29:26.101945",
     "exception": false,
     "start_time": "2022-06-29T11:29:26.017156",
     "status": "completed"
    },
    "tags": []
   },
   "outputs": [],
   "source": [
    "recordF_text=recordF_ent[\"recordF_text\"]\n",
    "recordF_Per_onto=recordF_ent[\"Name-ontonotes\"]\n",
    "recordF_GPE_onto=recordF_ent[\"GPE-ontonotes\"]\n",
    "recordF_ORG_onto=recordF_ent[\"ORG-ontonotes\"]\n",
    "recordF_date_onto=recordF_ent[\"standard_date-ontonotes\"]\n",
    "recordF_loc_onto=recordF_ent[\"LOC-ontonotes\"]\n",
    "recordF_cardinal=recordF_ent[\"Cardinal-ontonotes\"]"
   ]
  },
  {
   "cell_type": "code",
   "execution_count": 73,
   "id": "d6ba9e2e",
   "metadata": {
    "execution": {
     "iopub.execute_input": "2022-06-29T11:29:26.194889Z",
     "iopub.status.busy": "2022-06-29T11:29:26.194478Z",
     "iopub.status.idle": "2022-06-29T11:29:26.201621Z",
     "shell.execute_reply": "2022-06-29T11:29:26.200679Z"
    },
    "papermill": {
     "duration": 0.057416,
     "end_time": "2022-06-29T11:29:26.203959",
     "exception": false,
     "start_time": "2022-06-29T11:29:26.146543",
     "status": "completed"
    },
    "tags": []
   },
   "outputs": [
    {
     "data": {
      "text/plain": [
       "'Hugh To amount brought forward 60.96 May 19 1 mug 25.2 mackerel 15 1 qt . Brandy 1.35 1.80 May 21 3 lbs Copperas 10 Box blacking 10 .40 May 22 1 Doz Herring 50 . 23rd . 1 12 qts . brandy 1.25 2.37 May 26 12 doz . Herring 50 Jun 23rd Brandy 1.3 .88 June 3 2 cotton Hdkfs .60 1.20 June 9 2 Home made Cotton Shirts 2.00 4.00 June 2 pr . Country made pants 2.50 5.00 June 1 12 doz . Buttons 10 1 qt Brandy 1.25 1.40 June 15 1 cups saucers 1.25 1.25 June 16 1 pr . Cotton Stockings 75 75 June 21 1 lb Sugar 18 2 lb Adam T. Candles 50 43 June 22 12 Gallon Brandy 5.00 2.50 June 1 Cotton Hdkfs 40 40 June 25 1 Pocket Knife 6 2 Spools thread 15 1.30 June 1 yd . Calico 25 25 June 29 1 quart Whiskey 1.25 1.25 July 7 12 Gallon Do 5.00 2.50 July 7 1 Pad Lock 37 2 1 lb . Sugar 18 55 July 13 12 lb . Adm. Candles 50 1 lb . Nails 10 35 July 1 Box Matches 5 25 lb . 2 qts . Whiskey 1.25 2.55 July 28 1 quart Brandy 1.25 1.25 Augt . 3 3¼ yds . Capeniars 1.50 4.87 Augt . 3 1 Bunch hemp Thread 10 1 doz P. Buttons 10 20 Augt . 6 part whiskey hands 63 Augt . 10 6 yds . Black Cloth 30 spool thread 15 1.95 Augt . Cash paid 2.00 11 lb . 12 Gal . Whiskey 5.00 4.50 Augt . 12 part whiskey hands 62 Augt . 14 5 yards Blchd Cotton Cloth 35 1.75 Augt . 17 12 lb Candles 50 Cravat 25 50 Augt . 19 2 qts . Whiskey 1.25 2.50 Augt . 27 2 116. qts Do 1.25 2.81 Augt . 31 5½ lb Sugar 18 99 Sept. 29 1 Quart Brandy 1.25 1.25 Oct. 24 1 Paper needles 25 25 Nov 3 1 lb Nails also 10 5½ Gal Molasses 1.00 60 Nov 6 20 yds . Alamanes sheeting 30 1 pr . boots 5.00 11.00 Nov 10 6 Linsey 60.17 lb , 1 thimble 10 1 spool thread 15 3.85 Nov 27 part expenses of corn shucking 1.25 Nov 29 part hire land , year 1.60 Nov part expenses curling tobacco 70 74.20 amount forward 135.16 To amount brought forward 135.16 4½ days lost time 50 2.25 Dec 19 2½ Bushels Corn 1.00 2.50 4.50 1866 Cr . 139.66 Dec 24 Buy 8½ Bbls . Long Corn part 5.00 42.50 Dec Buy 1½ Bbls . short corn part 2.00 3.00 Dec 24 Buy 2 Bushels wheat part 3.00 6.00 Dec 24 Buy ½ stack oats part 4.00 4.00 Dec 24 Buy 1 Bushel Rye part 1.00 1.00 Dec 24 Buy part loss time hands 1.20 Dec 24 Buy part proceeds tobacco 44.74 102.44 37.22 State of N C Caswell Co Feby 25 1868 This day came Mr. Stephen Neal Justice of Peace said County Fariss G J Farish made oath forgoing account Nelson Dortgito freedman true best of knowledge belief G. J. Farish Test Stephen Neal JP'"
      ]
     },
     "execution_count": 73,
     "metadata": {},
     "output_type": "execute_result"
    }
   ],
   "source": [
    "recordF_text[300]"
   ]
  },
  {
   "cell_type": "code",
   "execution_count": 74,
   "id": "65fb09f1",
   "metadata": {
    "execution": {
     "iopub.execute_input": "2022-06-29T11:29:26.296672Z",
     "iopub.status.busy": "2022-06-29T11:29:26.296312Z",
     "iopub.status.idle": "2022-06-29T11:29:26.303878Z",
     "shell.execute_reply": "2022-06-29T11:29:26.302948Z"
    },
    "papermill": {
     "duration": 0.057171,
     "end_time": "2022-06-29T11:29:26.306460",
     "exception": false,
     "start_time": "2022-06-29T11:29:26.249289",
     "status": "completed"
    },
    "tags": []
   },
   "outputs": [
    {
     "data": {
      "text/plain": [
       "\"['60.96', '25.2', '15', '1.35', '10', '40', '50', '12', '1.25', '1.3', '88', '3', '2', '1.25 1.25', '18', '6', '1.30', '37', '35', '1', '5', '1.50', '20', '63', '30', '2.00', '4.50', '62', '14', '25', '2.81', '60', '11.00', '60.17', '3.85', '1.60', '70', '74.20', '135.16', '2.50', '42.50', '½', '1.20', '44.74', '102.44', '37.22']\""
      ]
     },
     "execution_count": 74,
     "metadata": {},
     "output_type": "execute_result"
    }
   ],
   "source": [
    "recordF_cardinal[300]"
   ]
  },
  {
   "cell_type": "code",
   "execution_count": 75,
   "id": "85767119",
   "metadata": {
    "execution": {
     "iopub.execute_input": "2022-06-29T11:29:26.398843Z",
     "iopub.status.busy": "2022-06-29T11:29:26.398472Z",
     "iopub.status.idle": "2022-06-29T11:29:26.406223Z",
     "shell.execute_reply": "2022-06-29T11:29:26.405132Z"
    },
    "papermill": {
     "duration": 0.056175,
     "end_time": "2022-06-29T11:29:26.408435",
     "exception": false,
     "start_time": "2022-06-29T11:29:26.352260",
     "status": "completed"
    },
    "tags": []
   },
   "outputs": [
    {
     "data": {
      "text/plain": [
       "\"['25-February-1868']\""
      ]
     },
     "execution_count": 75,
     "metadata": {},
     "output_type": "execute_result"
    }
   ],
   "source": [
    "recordF_date_onto[300]"
   ]
  },
  {
   "cell_type": "code",
   "execution_count": 76,
   "id": "59e1bb94",
   "metadata": {
    "execution": {
     "iopub.execute_input": "2022-06-29T11:29:26.502522Z",
     "iopub.status.busy": "2022-06-29T11:29:26.502141Z",
     "iopub.status.idle": "2022-06-29T11:29:26.509055Z",
     "shell.execute_reply": "2022-06-29T11:29:26.507992Z"
    },
    "papermill": {
     "duration": 0.057133,
     "end_time": "2022-06-29T11:29:26.511228",
     "exception": false,
     "start_time": "2022-06-29T11:29:26.454095",
     "status": "completed"
    },
    "tags": []
   },
   "outputs": [
    {
     "data": {
      "text/plain": [
       "\"['Hugh', 'Stephen Neal', 'Fariss', 'G J Farish', 'Nelson Dortgito', 'G . J. Farish']\""
      ]
     },
     "execution_count": 76,
     "metadata": {},
     "output_type": "execute_result"
    }
   ],
   "source": [
    "recordF_Per_onto[300]"
   ]
  },
  {
   "cell_type": "code",
   "execution_count": 77,
   "id": "98ecd50d",
   "metadata": {
    "execution": {
     "iopub.execute_input": "2022-06-29T11:29:26.603094Z",
     "iopub.status.busy": "2022-06-29T11:29:26.602732Z",
     "iopub.status.idle": "2022-06-29T11:29:26.608788Z",
     "shell.execute_reply": "2022-06-29T11:29:26.607808Z"
    },
    "papermill": {
     "duration": 0.054606,
     "end_time": "2022-06-29T11:29:26.611065",
     "exception": false,
     "start_time": "2022-06-29T11:29:26.556459",
     "status": "completed"
    },
    "tags": []
   },
   "outputs": [
    {
     "data": {
      "text/plain": [
       "'[]'"
      ]
     },
     "execution_count": 77,
     "metadata": {},
     "output_type": "execute_result"
    }
   ],
   "source": [
    "recordF_GPE_onto[300]"
   ]
  },
  {
   "cell_type": "code",
   "execution_count": 78,
   "id": "1cb05d0b",
   "metadata": {
    "execution": {
     "iopub.execute_input": "2022-06-29T11:29:26.705187Z",
     "iopub.status.busy": "2022-06-29T11:29:26.704808Z",
     "iopub.status.idle": "2022-06-29T11:29:26.711361Z",
     "shell.execute_reply": "2022-06-29T11:29:26.710392Z"
    },
    "papermill": {
     "duration": 0.056719,
     "end_time": "2022-06-29T11:29:26.713434",
     "exception": false,
     "start_time": "2022-06-29T11:29:26.656715",
     "status": "completed"
    },
    "tags": []
   },
   "outputs": [
    {
     "data": {
      "text/plain": [
       "'[]'"
      ]
     },
     "execution_count": 78,
     "metadata": {},
     "output_type": "execute_result"
    }
   ],
   "source": [
    "recordF_ORG_onto[300]"
   ]
  },
  {
   "cell_type": "code",
   "execution_count": 79,
   "id": "f97d3ea0",
   "metadata": {
    "execution": {
     "iopub.execute_input": "2022-06-29T11:29:26.806686Z",
     "iopub.status.busy": "2022-06-29T11:29:26.806232Z",
     "iopub.status.idle": "2022-06-29T11:29:26.836813Z",
     "shell.execute_reply": "2022-06-29T11:29:26.835720Z"
    },
    "papermill": {
     "duration": 0.079825,
     "end_time": "2022-06-29T11:29:26.839125",
     "exception": false,
     "start_time": "2022-06-29T11:29:26.759300",
     "status": "completed"
    },
    "tags": []
   },
   "outputs": [
    {
     "data": {
      "text/plain": [
       "(50173, 1769)"
      ]
     },
     "execution_count": 79,
     "metadata": {},
     "output_type": "execute_result"
    }
   ],
   "source": [
    "PL=[]\n",
    "empty=0\n",
    "for i in recordF_date_onto :\n",
    "    for j in i:\n",
    "        PL.append(j)\n",
    "for i in recordF_date_onto:\n",
    "    if i=='[]':\n",
    "        empty=empty+1\n",
    "len(PL), empty"
   ]
  },
  {
   "cell_type": "code",
   "execution_count": 80,
   "id": "5405a92f",
   "metadata": {
    "execution": {
     "iopub.execute_input": "2022-06-29T11:29:26.933491Z",
     "iopub.status.busy": "2022-06-29T11:29:26.933116Z",
     "iopub.status.idle": "2022-06-29T11:29:26.958297Z",
     "shell.execute_reply": "2022-06-29T11:29:26.957012Z"
    },
    "papermill": {
     "duration": 0.074834,
     "end_time": "2022-06-29T11:29:26.960274",
     "exception": false,
     "start_time": "2022-06-29T11:29:26.885440",
     "status": "completed"
    },
    "tags": []
   },
   "outputs": [
    {
     "data": {
      "text/plain": [
       "(115920, 925)"
      ]
     },
     "execution_count": 80,
     "metadata": {},
     "output_type": "execute_result"
    }
   ],
   "source": [
    "PL=[]\n",
    "empty=0\n",
    "for i in recordF_Per_onto :\n",
    "    for j in i:\n",
    "        PL.append(j)\n",
    "for i in recordF_Per_onto:\n",
    "    if i=='[]':\n",
    "        empty=empty+1\n",
    "len(PL), empty"
   ]
  },
  {
   "cell_type": "markdown",
   "id": "fc3e0e46",
   "metadata": {
    "papermill": {
     "duration": 0.045178,
     "end_time": "2022-06-29T11:29:27.051486",
     "exception": false,
     "start_time": "2022-06-29T11:29:27.006308",
     "status": "completed"
    },
    "tags": []
   },
   "source": [
    "****"
   ]
  },
  {
   "cell_type": "code",
   "execution_count": 81,
   "id": "eb39af8c",
   "metadata": {
    "execution": {
     "iopub.execute_input": "2022-06-29T11:29:27.145210Z",
     "iopub.status.busy": "2022-06-29T11:29:27.144865Z",
     "iopub.status.idle": "2022-06-29T11:29:27.314743Z",
     "shell.execute_reply": "2022-06-29T11:29:27.313331Z"
    },
    "papermill": {
     "duration": 0.219734,
     "end_time": "2022-06-29T11:29:27.317404",
     "exception": false,
     "start_time": "2022-06-29T11:29:27.097670",
     "status": "completed"
    },
    "tags": []
   },
   "outputs": [],
   "source": [
    "recordE_ent=pd.read_csv(\"../input/all-csv/to_compare_result_recordE.csv\")\n",
    "recordE_text=recordE_ent[\"recordE_text\"]\n",
    "recordE_Per_onto=recordE_ent[\"Name-ontonotes\"]\n",
    "recordE_GPE_onto=recordE_ent[\"GPE-ontonotes\"]\n",
    "recordE_ORG_onto=recordE_ent[\"ORG-ontonotes\"]\n",
    "recordE_date_onto=recordE_ent[\"standard_date-ontonotes\"]\n",
    "recordE_loc_onto=recordE_ent[\"LOC-ontonotes\"]\n",
    "recordE_cardinal=recordE_ent[\"Cardinal-ontonotes\"]"
   ]
  },
  {
   "cell_type": "code",
   "execution_count": 82,
   "id": "06b99dc9",
   "metadata": {
    "execution": {
     "iopub.execute_input": "2022-06-29T11:29:27.412999Z",
     "iopub.status.busy": "2022-06-29T11:29:27.412173Z",
     "iopub.status.idle": "2022-06-29T11:29:27.417840Z",
     "shell.execute_reply": "2022-06-29T11:29:27.417117Z"
    },
    "papermill": {
     "duration": 0.055512,
     "end_time": "2022-06-29T11:29:27.419805",
     "exception": false,
     "start_time": "2022-06-29T11:29:27.364293",
     "status": "completed"
    },
    "tags": []
   },
   "outputs": [
    {
     "data": {
      "text/plain": [
       "'28 Spanish Neck Co. Edesville Md . School House 1867 Mar . 1 From Barracks , Stables c. Balto Asson . 12,224 feet Lumber 11 Windows 3 Doors 15 Sec . of Roof 205.48 29 Talbot Co. Trappe Md . School House 1867 Mar . 1 From Barracks , Stables c. Balto Asson . 10,192 feet Lumber 10 Windows 2 Doors 12 Sec . of Roof 163.20'"
      ]
     },
     "execution_count": 82,
     "metadata": {},
     "output_type": "execute_result"
    }
   ],
   "source": [
    "recordE_text[45]"
   ]
  },
  {
   "cell_type": "code",
   "execution_count": 83,
   "id": "932452ef",
   "metadata": {
    "execution": {
     "iopub.execute_input": "2022-06-29T11:29:27.514365Z",
     "iopub.status.busy": "2022-06-29T11:29:27.513866Z",
     "iopub.status.idle": "2022-06-29T11:29:27.518632Z",
     "shell.execute_reply": "2022-06-29T11:29:27.517901Z"
    },
    "papermill": {
     "duration": 0.054166,
     "end_time": "2022-06-29T11:29:27.520578",
     "exception": false,
     "start_time": "2022-06-29T11:29:27.466412",
     "status": "completed"
    },
    "tags": []
   },
   "outputs": [
    {
     "data": {
      "text/plain": [
       "\"['Spanish Neck Co .', 'School House', 'Talbot Co .']\""
      ]
     },
     "execution_count": 83,
     "metadata": {},
     "output_type": "execute_result"
    }
   ],
   "source": [
    "recordE_ORG_onto[45]"
   ]
  },
  {
   "cell_type": "code",
   "execution_count": 84,
   "id": "9071d9e5",
   "metadata": {
    "execution": {
     "iopub.execute_input": "2022-06-29T11:29:27.616273Z",
     "iopub.status.busy": "2022-06-29T11:29:27.615413Z",
     "iopub.status.idle": "2022-06-29T11:29:27.621601Z",
     "shell.execute_reply": "2022-06-29T11:29:27.620412Z"
    },
    "papermill": {
     "duration": 0.057171,
     "end_time": "2022-06-29T11:29:27.623632",
     "exception": false,
     "start_time": "2022-06-29T11:29:27.566461",
     "status": "completed"
    },
    "tags": []
   },
   "outputs": [
    {
     "data": {
      "text/plain": [
       "'[]'"
      ]
     },
     "execution_count": 84,
     "metadata": {},
     "output_type": "execute_result"
    }
   ],
   "source": [
    "recordE_loc_onto[45]"
   ]
  },
  {
   "cell_type": "code",
   "execution_count": 85,
   "id": "b4cb3422",
   "metadata": {
    "execution": {
     "iopub.execute_input": "2022-06-29T11:29:27.718976Z",
     "iopub.status.busy": "2022-06-29T11:29:27.717955Z",
     "iopub.status.idle": "2022-06-29T11:29:27.724086Z",
     "shell.execute_reply": "2022-06-29T11:29:27.723179Z"
    },
    "papermill": {
     "duration": 0.056611,
     "end_time": "2022-06-29T11:29:27.726408",
     "exception": false,
     "start_time": "2022-06-29T11:29:27.669797",
     "status": "completed"
    },
    "tags": []
   },
   "outputs": [
    {
     "data": {
      "text/plain": [
       "'[]'"
      ]
     },
     "execution_count": 85,
     "metadata": {},
     "output_type": "execute_result"
    }
   ],
   "source": [
    "recordE_date_onto[45]"
   ]
  },
  {
   "cell_type": "code",
   "execution_count": 86,
   "id": "6e46e107",
   "metadata": {
    "execution": {
     "iopub.execute_input": "2022-06-29T11:29:27.821491Z",
     "iopub.status.busy": "2022-06-29T11:29:27.821150Z",
     "iopub.status.idle": "2022-06-29T11:29:27.828294Z",
     "shell.execute_reply": "2022-06-29T11:29:27.826998Z"
    },
    "papermill": {
     "duration": 0.057314,
     "end_time": "2022-06-29T11:29:27.830689",
     "exception": false,
     "start_time": "2022-06-29T11:29:27.773375",
     "status": "completed"
    },
    "tags": []
   },
   "outputs": [
    {
     "data": {
      "text/plain": [
       "\"['Edesville', 'Md', 'Trappe']\""
      ]
     },
     "execution_count": 86,
     "metadata": {},
     "output_type": "execute_result"
    }
   ],
   "source": [
    "recordE_GPE_onto[45]"
   ]
  },
  {
   "cell_type": "code",
   "execution_count": 87,
   "id": "16956a20",
   "metadata": {
    "execution": {
     "iopub.execute_input": "2022-06-29T11:29:27.929803Z",
     "iopub.status.busy": "2022-06-29T11:29:27.928276Z",
     "iopub.status.idle": "2022-06-29T11:29:27.935540Z",
     "shell.execute_reply": "2022-06-29T11:29:27.934793Z"
    },
    "papermill": {
     "duration": 0.059953,
     "end_time": "2022-06-29T11:29:27.937975",
     "exception": false,
     "start_time": "2022-06-29T11:29:27.878022",
     "status": "completed"
    },
    "tags": []
   },
   "outputs": [
    {
     "data": {
      "text/plain": [
       "\"['J . T Kirkman', 'Hartnett', 'D F Allen']\""
      ]
     },
     "execution_count": 87,
     "metadata": {},
     "output_type": "execute_result"
    }
   ],
   "source": [
    "recordE_Per_onto[1000]"
   ]
  },
  {
   "cell_type": "code",
   "execution_count": 88,
   "id": "484a8332",
   "metadata": {
    "execution": {
     "iopub.execute_input": "2022-06-29T11:29:28.038470Z",
     "iopub.status.busy": "2022-06-29T11:29:28.037803Z",
     "iopub.status.idle": "2022-06-29T11:29:28.083411Z",
     "shell.execute_reply": "2022-06-29T11:29:28.082343Z"
    },
    "papermill": {
     "duration": 0.097418,
     "end_time": "2022-06-29T11:29:28.085961",
     "exception": false,
     "start_time": "2022-06-29T11:29:27.988543",
     "status": "completed"
    },
    "tags": []
   },
   "outputs": [
    {
     "data": {
      "text/plain": [
       "(148161, 2868)"
      ]
     },
     "execution_count": 88,
     "metadata": {},
     "output_type": "execute_result"
    }
   ],
   "source": [
    "PL=[]\n",
    "empty=0\n",
    "for i in recordE_Per_onto :\n",
    "    for j in i:\n",
    "        PL.append(j)\n",
    "for i in recordE_Per_onto:\n",
    "    if i=='[]':\n",
    "        empty=empty+1\n",
    "len(PL), empty"
   ]
  },
  {
   "cell_type": "code",
   "execution_count": 89,
   "id": "b034109a",
   "metadata": {
    "execution": {
     "iopub.execute_input": "2022-06-29T11:29:28.184254Z",
     "iopub.status.busy": "2022-06-29T11:29:28.183029Z",
     "iopub.status.idle": "2022-06-29T11:29:28.214811Z",
     "shell.execute_reply": "2022-06-29T11:29:28.213264Z"
    },
    "papermill": {
     "duration": 0.083754,
     "end_time": "2022-06-29T11:29:28.217911",
     "exception": false,
     "start_time": "2022-06-29T11:29:28.134157",
     "status": "completed"
    },
    "tags": []
   },
   "outputs": [
    {
     "data": {
      "text/plain": [
       "(73441, 4916)"
      ]
     },
     "execution_count": 89,
     "metadata": {},
     "output_type": "execute_result"
    }
   ],
   "source": [
    "PL=[]\n",
    "empty=0\n",
    "for i in recordE_date_onto :\n",
    "    for j in i:\n",
    "        PL.append(j)\n",
    "for i in recordE_date_onto:\n",
    "    if i=='[]':\n",
    "        empty=empty+1\n",
    "len(PL), empty"
   ]
  },
  {
   "cell_type": "code",
   "execution_count": 90,
   "id": "76779428",
   "metadata": {
    "execution": {
     "iopub.execute_input": "2022-06-29T11:29:28.318487Z",
     "iopub.status.busy": "2022-06-29T11:29:28.318108Z",
     "iopub.status.idle": "2022-06-29T11:29:28.340880Z",
     "shell.execute_reply": "2022-06-29T11:29:28.340273Z"
    },
    "papermill": {
     "duration": 0.074065,
     "end_time": "2022-06-29T11:29:28.342870",
     "exception": false,
     "start_time": "2022-06-29T11:29:28.268805",
     "status": "completed"
    },
    "tags": []
   },
   "outputs": [
    {
     "data": {
      "text/plain": [
       "(95379, 5150)"
      ]
     },
     "execution_count": 90,
     "metadata": {},
     "output_type": "execute_result"
    }
   ],
   "source": [
    "PL=[]\n",
    "empty=0\n",
    "for i in recordE_ORG_onto :\n",
    "    for j in i:\n",
    "        PL.append(j)\n",
    "for i in recordE_ORG_onto :\n",
    "    if i=='[]':\n",
    "        empty=empty+1\n",
    "len(PL), empty"
   ]
  },
  {
   "cell_type": "markdown",
   "id": "ce26be1c",
   "metadata": {
    "papermill": {
     "duration": 0.047111,
     "end_time": "2022-06-29T11:29:28.438059",
     "exception": false,
     "start_time": "2022-06-29T11:29:28.390948",
     "status": "completed"
    },
    "tags": []
   },
   "source": [
    "****"
   ]
  },
  {
   "cell_type": "code",
   "execution_count": 91,
   "id": "9623cee1",
   "metadata": {
    "execution": {
     "iopub.execute_input": "2022-06-29T11:29:28.536020Z",
     "iopub.status.busy": "2022-06-29T11:29:28.535386Z",
     "iopub.status.idle": "2022-06-29T11:29:28.695591Z",
     "shell.execute_reply": "2022-06-29T11:29:28.694601Z"
    },
    "papermill": {
     "duration": 0.211434,
     "end_time": "2022-06-29T11:29:28.698016",
     "exception": false,
     "start_time": "2022-06-29T11:29:28.486582",
     "status": "completed"
    },
    "tags": []
   },
   "outputs": [],
   "source": [
    "recordC_ent=pd.read_csv(\"../input/all-csv/to_compare_result_recordC.csv\")\n",
    "recordC_text=recordC_ent[\"recordC_text\"]\n",
    "recordC_Per_onto=recordC_ent[\"Name-ontonotes\"]\n",
    "recordC_GPE_onto=recordC_ent[\"GPE-ontonotes\"]\n",
    "recordC_ORG_onto=recordC_ent[\"ORG-ontonotes\"]\n",
    "recordC_date_onto=recordC_ent[\"standard_date-ontonotes\"]\n",
    "recordC_loc_onto=recordC_ent[\"LOC-ontonotes\"]"
   ]
  },
  {
   "cell_type": "code",
   "execution_count": 92,
   "id": "3329f823",
   "metadata": {
    "execution": {
     "iopub.execute_input": "2022-06-29T11:29:28.792160Z",
     "iopub.status.busy": "2022-06-29T11:29:28.791786Z",
     "iopub.status.idle": "2022-06-29T11:29:28.797528Z",
     "shell.execute_reply": "2022-06-29T11:29:28.796702Z"
    },
    "papermill": {
     "duration": 0.055023,
     "end_time": "2022-06-29T11:29:28.800168",
     "exception": false,
     "start_time": "2022-06-29T11:29:28.745145",
     "status": "completed"
    },
    "tags": []
   },
   "outputs": [
    {
     "data": {
      "text/plain": [
       "'one hundred dollars . I never heard Bagby complain heard say dared Mr Richardson whip W.M . Henry Signed sealed sworn , March 19th 1866 . H.H . Holton J . Peace Edward Homer sworn saith never saw knew of Mr Richardsons whipping correcting said Bagby , good reason prudence demanded chastisement , proper manner , never bodily injured , caused ly stop labor , eating , correction Mr Edward Horner seal Sworn subscribed March 19 1866 H.H . Holton Examines Court Mathew Baldwin sworn saith heard Bagly speak of contract Mr Richardson expressed satisfied I advised good trade contract , never complained of treatment , said well treated When asked anything got , goes well dressed frequently comes perhaps goes anywhere else . I know of one better treated , Mathew x mark Baldwin H.H . Holton'"
      ]
     },
     "execution_count": 92,
     "metadata": {},
     "output_type": "execute_result"
    }
   ],
   "source": [
    "recordC_text[0]"
   ]
  },
  {
   "cell_type": "code",
   "execution_count": 93,
   "id": "298fa946",
   "metadata": {
    "execution": {
     "iopub.execute_input": "2022-06-29T11:29:28.898192Z",
     "iopub.status.busy": "2022-06-29T11:29:28.896717Z",
     "iopub.status.idle": "2022-06-29T11:29:28.903331Z",
     "shell.execute_reply": "2022-06-29T11:29:28.902380Z"
    },
    "papermill": {
     "duration": 0.057632,
     "end_time": "2022-06-29T11:29:28.905392",
     "exception": false,
     "start_time": "2022-06-29T11:29:28.847760",
     "status": "completed"
    },
    "tags": []
   },
   "outputs": [
    {
     "data": {
      "text/plain": [
       "'[]'"
      ]
     },
     "execution_count": 93,
     "metadata": {},
     "output_type": "execute_result"
    }
   ],
   "source": [
    "recordC_loc_onto[0]"
   ]
  },
  {
   "cell_type": "code",
   "execution_count": 94,
   "id": "c8080442",
   "metadata": {
    "execution": {
     "iopub.execute_input": "2022-06-29T11:29:28.999224Z",
     "iopub.status.busy": "2022-06-29T11:29:28.998870Z",
     "iopub.status.idle": "2022-06-29T11:29:29.005403Z",
     "shell.execute_reply": "2022-06-29T11:29:29.004464Z"
    },
    "papermill": {
     "duration": 0.052997,
     "end_time": "2022-06-29T11:29:29.007559",
     "exception": false,
     "start_time": "2022-06-29T11:29:28.954562",
     "status": "completed"
    },
    "tags": []
   },
   "outputs": [
    {
     "data": {
      "text/plain": [
       "\"['19-March-1866', '19-March-1866']\""
      ]
     },
     "execution_count": 94,
     "metadata": {},
     "output_type": "execute_result"
    }
   ],
   "source": [
    "recordC_date_onto[0]"
   ]
  },
  {
   "cell_type": "code",
   "execution_count": 95,
   "id": "364beda9",
   "metadata": {
    "execution": {
     "iopub.execute_input": "2022-06-29T11:29:29.105224Z",
     "iopub.status.busy": "2022-06-29T11:29:29.104788Z",
     "iopub.status.idle": "2022-06-29T11:29:29.110093Z",
     "shell.execute_reply": "2022-06-29T11:29:29.109285Z"
    },
    "papermill": {
     "duration": 0.056091,
     "end_time": "2022-06-29T11:29:29.112333",
     "exception": false,
     "start_time": "2022-06-29T11:29:29.056242",
     "status": "completed"
    },
    "tags": []
   },
   "outputs": [
    {
     "data": {
      "text/plain": [
       "'[]'"
      ]
     },
     "execution_count": 95,
     "metadata": {},
     "output_type": "execute_result"
    }
   ],
   "source": [
    "recordC_GPE_onto[0]"
   ]
  },
  {
   "cell_type": "code",
   "execution_count": 96,
   "id": "067bda60",
   "metadata": {
    "execution": {
     "iopub.execute_input": "2022-06-29T11:29:29.209420Z",
     "iopub.status.busy": "2022-06-29T11:29:29.208799Z",
     "iopub.status.idle": "2022-06-29T11:29:29.214074Z",
     "shell.execute_reply": "2022-06-29T11:29:29.213346Z"
    },
    "papermill": {
     "duration": 0.055843,
     "end_time": "2022-06-29T11:29:29.215741",
     "exception": false,
     "start_time": "2022-06-29T11:29:29.159898",
     "status": "completed"
    },
    "tags": []
   },
   "outputs": [
    {
     "data": {
      "text/plain": [
       "'[]'"
      ]
     },
     "execution_count": 96,
     "metadata": {},
     "output_type": "execute_result"
    }
   ],
   "source": [
    "recordC_ORG_onto[0]"
   ]
  },
  {
   "cell_type": "code",
   "execution_count": 97,
   "id": "fe273948",
   "metadata": {
    "execution": {
     "iopub.execute_input": "2022-06-29T11:29:29.277125Z",
     "iopub.status.busy": "2022-06-29T11:29:29.276725Z",
     "iopub.status.idle": "2022-06-29T11:29:29.282971Z",
     "shell.execute_reply": "2022-06-29T11:29:29.281440Z"
    },
    "papermill": {
     "duration": 0.039509,
     "end_time": "2022-06-29T11:29:29.284728",
     "exception": false,
     "start_time": "2022-06-29T11:29:29.245219",
     "status": "completed"
    },
    "tags": []
   },
   "outputs": [
    {
     "data": {
      "text/plain": [
       "\"['Bagby', 'Richardson', 'W.M . Henry', 'H.H . Holton', 'Edward Homer', 'Richardsons', 'Edward Horner', 'Mathew Baldwin', 'Bagly', 'Mathew']\""
      ]
     },
     "execution_count": 97,
     "metadata": {},
     "output_type": "execute_result"
    }
   ],
   "source": [
    "recordC_Per_onto[0]"
   ]
  },
  {
   "cell_type": "code",
   "execution_count": null,
   "id": "a299f881",
   "metadata": {
    "papermill": {
     "duration": 0.028935,
     "end_time": "2022-06-29T11:29:29.343078",
     "exception": false,
     "start_time": "2022-06-29T11:29:29.314143",
     "status": "completed"
    },
    "tags": []
   },
   "outputs": [],
   "source": []
  }
 ],
 "metadata": {
  "kernelspec": {
   "display_name": "Python 3",
   "language": "python",
   "name": "python3"
  },
  "language_info": {
   "codemirror_mode": {
    "name": "ipython",
    "version": 3
   },
   "file_extension": ".py",
   "mimetype": "text/x-python",
   "name": "python",
   "nbconvert_exporter": "python",
   "pygments_lexer": "ipython3",
   "version": "3.7.12"
  },
  "papermill": {
   "default_parameters": {},
   "duration": 40.851612,
   "end_time": "2022-06-29T11:29:32.360579",
   "environment_variables": {},
   "exception": null,
   "input_path": "__notebook__.ipynb",
   "output_path": "__notebook__.ipynb",
   "parameters": {},
   "start_time": "2022-06-29T11:28:51.508967",
   "version": "2.3.4"
  }
 },
 "nbformat": 4,
 "nbformat_minor": 5
}
