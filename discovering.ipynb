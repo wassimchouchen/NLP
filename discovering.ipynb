{
 "cells": [
  {
   "cell_type": "code",
   "execution_count": 1,
   "id": "59936b4e",
   "metadata": {
    "_cell_guid": "b1076dfc-b9ad-4769-8c92-a6c4dae69d19",
    "_uuid": "8f2839f25d086af736a60e9eeb907d3b93b6e0e5",
    "execution": {
     "iopub.execute_input": "2022-06-28T18:27:29.787446Z",
     "iopub.status.busy": "2022-06-28T18:27:29.786885Z",
     "iopub.status.idle": "2022-06-28T18:27:41.728575Z",
     "shell.execute_reply": "2022-06-28T18:27:41.727411Z"
    },
    "papermill": {
     "duration": 11.958875,
     "end_time": "2022-06-28T18:27:41.731308",
     "exception": false,
     "start_time": "2022-06-28T18:27:29.772433",
     "status": "completed"
    },
    "tags": []
   },
   "outputs": [],
   "source": [
    "import numpy as np\n",
    "import pandas as pd \n",
    "import seaborn as sns\n",
    "import matplotlib.pyplot as plt \n",
    "import matplotlib.style as stl \n",
    "from tensorflow import keras \n",
    "from keras.preprocessing.text import Tokenizer\n",
    "from nltk.corpus import stopwords\n",
    "import string\n",
    "from tensorflow.keras.models import Sequential,Model\n",
    "from tensorflow.keras.layers import Dense, LSTM, Embedding,Dropout,SpatialDropout1D,Conv1D,MaxPooling1D,GRU,BatchNormalization\n",
    "import warnings\n",
    "warnings.filterwarnings('ignore')\n",
    "stl.use('ggplot')\n",
    "from tqdm import tqdm\n",
    "import string\n",
    "from nltk.corpus import stopwords\n",
    "from nltk.tokenize import word_tokenize\n",
    "from nltk.stem import WordNetLemmatizer\n",
    "from nltk.stem.snowball import SnowballStemmer\n",
    "import regex as re\n",
    "import time\n",
    "import pickle"
   ]
  },
  {
   "cell_type": "code",
   "execution_count": 2,
   "id": "8139a108",
   "metadata": {
    "execution": {
     "iopub.execute_input": "2022-06-28T18:27:41.748266Z",
     "iopub.status.busy": "2022-06-28T18:27:41.747561Z",
     "iopub.status.idle": "2022-06-28T18:27:42.095001Z",
     "shell.execute_reply": "2022-06-28T18:27:42.093561Z"
    },
    "papermill": {
     "duration": 0.358881,
     "end_time": "2022-06-28T18:27:42.097785",
     "exception": false,
     "start_time": "2022-06-28T18:27:41.738904",
     "status": "completed"
    },
    "tags": []
   },
   "outputs": [],
   "source": [
    "index_ent=pd.read_csv(\"../input/all-csv/index_df (1).csv\")"
   ]
  },
  {
   "cell_type": "code",
   "execution_count": 3,
   "id": "32732740",
   "metadata": {
    "execution": {
     "iopub.execute_input": "2022-06-28T18:27:42.123580Z",
     "iopub.status.busy": "2022-06-28T18:27:42.123138Z",
     "iopub.status.idle": "2022-06-28T18:27:42.147228Z",
     "shell.execute_reply": "2022-06-28T18:27:42.146345Z"
    },
    "papermill": {
     "duration": 0.040969,
     "end_time": "2022-06-28T18:27:42.151006",
     "exception": false,
     "start_time": "2022-06-28T18:27:42.110037",
     "status": "completed"
    },
    "tags": []
   },
   "outputs": [
    {
     "data": {
      "text/html": [
       "<div>\n",
       "<style scoped>\n",
       "    .dataframe tbody tr th:only-of-type {\n",
       "        vertical-align: middle;\n",
       "    }\n",
       "\n",
       "    .dataframe tbody tr th {\n",
       "        vertical-align: top;\n",
       "    }\n",
       "\n",
       "    .dataframe thead th {\n",
       "        text-align: right;\n",
       "    }\n",
       "</style>\n",
       "<table border=\"1\" class=\"dataframe\">\n",
       "  <thead>\n",
       "    <tr style=\"text-align: right;\">\n",
       "      <th></th>\n",
       "      <th>index_text</th>\n",
       "      <th>PERSON-nerenglarge</th>\n",
       "      <th>LOC-nerenglarge</th>\n",
       "      <th>ORG-nerenglarge</th>\n",
       "      <th>text</th>\n",
       "    </tr>\n",
       "  </thead>\n",
       "  <tbody>\n",
       "    <tr>\n",
       "      <th>0</th>\n",
       "      <td>NAME INDEX TO VOLUME 7 OF LETTERS SENT , JULY ...</td>\n",
       "      <td>['Abbott', 'Lyman', 'Adams', 'John Q', 'Allen'...</td>\n",
       "      <td>[]</td>\n",
       "      <td>[]</td>\n",
       "      <td>NAME INDEX TO VOLUME 7 OF LETTERS SENT , JULY ...</td>\n",
       "    </tr>\n",
       "    <tr>\n",
       "      <th>1</th>\n",
       "      <td>Boyd , J. F. Col. 19 , 41 Boyden , James 116 B...</td>\n",
       "      <td>['Boyd', 'J. F. Col.', 'Boyden', 'James', 'Bra...</td>\n",
       "      <td>[]</td>\n",
       "      <td>['Henry Corp']</td>\n",
       "      <td>Boyd , J. F. Col. 19 , 41 Boyden , James 116 B...</td>\n",
       "    </tr>\n",
       "    <tr>\n",
       "      <th>2</th>\n",
       "      <td>Chur , J. F. Capt . 139 Cilley , Clinton A. Ma...</td>\n",
       "      <td>['Chur', 'J. F.', 'Cilley', 'Clinton A. Maj', ...</td>\n",
       "      <td>[]</td>\n",
       "      <td>['Citizens']</td>\n",
       "      <td>Chur , J. F. Capt . 139 Cilley , Clinton A. Ma...</td>\n",
       "    </tr>\n",
       "    <tr>\n",
       "      <th>3</th>\n",
       "      <td>Elijah 176 Eliza 172 Emery , Charles Capt . 3 ...</td>\n",
       "      <td>['Elijah', 'Eliza', 'Emery', 'Charles', 'Edwin...</td>\n",
       "      <td>[]</td>\n",
       "      <td>[]</td>\n",
       "      <td>Elijah 176 Eliza 172 Emery , Charles Capt . 3 ...</td>\n",
       "    </tr>\n",
       "    <tr>\n",
       "      <th>4</th>\n",
       "      <td>Hale , Capt . 51 Hambrich , P.R . Capt . 9 Han...</td>\n",
       "      <td>['Hale', 'Hambrich', 'Hand', 'Harkness', 'E.J'...</td>\n",
       "      <td>['N.C']</td>\n",
       "      <td>[]</td>\n",
       "      <td>Hale , Capt . 51 Hambrich , P.R . Capt . 9 Han...</td>\n",
       "    </tr>\n",
       "  </tbody>\n",
       "</table>\n",
       "</div>"
      ],
      "text/plain": [
       "                                          index_text  \\\n",
       "0  NAME INDEX TO VOLUME 7 OF LETTERS SENT , JULY ...   \n",
       "1  Boyd , J. F. Col. 19 , 41 Boyden , James 116 B...   \n",
       "2  Chur , J. F. Capt . 139 Cilley , Clinton A. Ma...   \n",
       "3  Elijah 176 Eliza 172 Emery , Charles Capt . 3 ...   \n",
       "4  Hale , Capt . 51 Hambrich , P.R . Capt . 9 Han...   \n",
       "\n",
       "                                  PERSON-nerenglarge LOC-nerenglarge  \\\n",
       "0  ['Abbott', 'Lyman', 'Adams', 'John Q', 'Allen'...              []   \n",
       "1  ['Boyd', 'J. F. Col.', 'Boyden', 'James', 'Bra...              []   \n",
       "2  ['Chur', 'J. F.', 'Cilley', 'Clinton A. Maj', ...              []   \n",
       "3  ['Elijah', 'Eliza', 'Emery', 'Charles', 'Edwin...              []   \n",
       "4  ['Hale', 'Hambrich', 'Hand', 'Harkness', 'E.J'...         ['N.C']   \n",
       "\n",
       "  ORG-nerenglarge                                               text  \n",
       "0              []  NAME INDEX TO VOLUME 7 OF LETTERS SENT , JULY ...  \n",
       "1  ['Henry Corp']  Boyd , J. F. Col. 19 , 41 Boyden , James 116 B...  \n",
       "2    ['Citizens']  Chur , J. F. Capt . 139 Cilley , Clinton A. Ma...  \n",
       "3              []  Elijah 176 Eliza 172 Emery , Charles Capt . 3 ...  \n",
       "4              []  Hale , Capt . 51 Hambrich , P.R . Capt . 9 Han...  "
      ]
     },
     "execution_count": 3,
     "metadata": {},
     "output_type": "execute_result"
    }
   ],
   "source": [
    "index_ent.head()"
   ]
  },
  {
   "cell_type": "code",
   "execution_count": 4,
   "id": "cd1c856b",
   "metadata": {
    "execution": {
     "iopub.execute_input": "2022-06-28T18:27:42.177880Z",
     "iopub.status.busy": "2022-06-28T18:27:42.176774Z",
     "iopub.status.idle": "2022-06-28T18:27:42.188464Z",
     "shell.execute_reply": "2022-06-28T18:27:42.186530Z"
    },
    "papermill": {
     "duration": 0.028492,
     "end_time": "2022-06-28T18:27:42.191538",
     "exception": false,
     "start_time": "2022-06-28T18:27:42.163046",
     "status": "completed"
    },
    "tags": []
   },
   "outputs": [],
   "source": [
    "index_text=index_ent[\"index_text\"]\n",
    "index_names=index_ent[\"PERSON-nerenglarge\"]\n",
    "index_loc=index_ent[\"LOC-nerenglarge\"]\n",
    "index_org=index_ent[\"ORG-nerenglarge\"]"
   ]
  },
  {
   "cell_type": "code",
   "execution_count": 5,
   "id": "c40fdb7a",
   "metadata": {
    "execution": {
     "iopub.execute_input": "2022-06-28T18:27:42.218144Z",
     "iopub.status.busy": "2022-06-28T18:27:42.217737Z",
     "iopub.status.idle": "2022-06-28T18:27:42.225523Z",
     "shell.execute_reply": "2022-06-28T18:27:42.224298Z"
    },
    "papermill": {
     "duration": 0.023673,
     "end_time": "2022-06-28T18:27:42.228062",
     "exception": false,
     "start_time": "2022-06-28T18:27:42.204389",
     "status": "completed"
    },
    "tags": []
   },
   "outputs": [
    {
     "data": {
      "text/plain": [
       "'1865 . London Manger 14 . London Sarah E 16 . Lippett John E 18 . Lippett W.H 18 . 23 . 33 . Laslo J.G 19 . Lehman R.F 20 . 44 . Lecraft Mary 21 . Lazarus Julia 22 . Lippett W. 23 . 33 . Lecraft Benjamin 36 . 59 . Lewis K.H 30 . Lewis W.F 30 . Levy T.J. 31 . Lane H.B 37 . Leach J A 40 . 45 . Leavy J.P 50 . Lord Fredk 52 . Littlejohn W.H 53 . Leigh J.W 66 . Low T.B 66 .'"
      ]
     },
     "execution_count": 5,
     "metadata": {},
     "output_type": "execute_result"
    }
   ],
   "source": [
    "index_text[150]"
   ]
  },
  {
   "cell_type": "code",
   "execution_count": 6,
   "id": "99e630ba",
   "metadata": {
    "execution": {
     "iopub.execute_input": "2022-06-28T18:27:42.255093Z",
     "iopub.status.busy": "2022-06-28T18:27:42.254708Z",
     "iopub.status.idle": "2022-06-28T18:27:42.262174Z",
     "shell.execute_reply": "2022-06-28T18:27:42.261114Z"
    },
    "papermill": {
     "duration": 0.024496,
     "end_time": "2022-06-28T18:27:42.265641",
     "exception": false,
     "start_time": "2022-06-28T18:27:42.241145",
     "status": "completed"
    },
    "tags": []
   },
   "outputs": [
    {
     "data": {
      "text/plain": [
       "\"['London Sarah E', 'Lippett John E', 'Lippett W.H', 'Lehman R.F', 'Lazarus Julia', 'Lippett W', 'Lecraft Benjamin', 'Lewis K.H', 'Lewis W.F', 'Levy T.J', 'Lane H.B', 'Leach J A', 'Leavy J.P', 'Lord Fredk', 'Littlejohn W.H', 'Leigh J.W', 'Low T.B']\""
      ]
     },
     "execution_count": 6,
     "metadata": {},
     "output_type": "execute_result"
    }
   ],
   "source": [
    "index_names[150]"
   ]
  },
  {
   "cell_type": "code",
   "execution_count": 7,
   "id": "bb030c80",
   "metadata": {
    "execution": {
     "iopub.execute_input": "2022-06-28T18:27:42.291901Z",
     "iopub.status.busy": "2022-06-28T18:27:42.291520Z",
     "iopub.status.idle": "2022-06-28T18:27:42.298601Z",
     "shell.execute_reply": "2022-06-28T18:27:42.297619Z"
    },
    "papermill": {
     "duration": 0.02299,
     "end_time": "2022-06-28T18:27:42.301107",
     "exception": false,
     "start_time": "2022-06-28T18:27:42.278117",
     "status": "completed"
    },
    "tags": []
   },
   "outputs": [
    {
     "data": {
      "text/plain": [
       "'298 WHEN RECEIVED . NAME OF WRITER . DATE AND PURPORT OF LETTER . 299 WHEN RECEIVED . NAME OF WRITER . DATE AND PURPORT OF LETTER . 1.3.70 . 1 Missions , Presby Home . Rev . E. F. Hatfield Secretary per . W. T. M. New York City. , Dec. 30th 1869 . States reply , Mr. Swan , teacher due three months salary , 60 withheld case regard purchase of books investigated . 1.8.70 . 2 Moss , R. C. Teacher . Bladensburg , Md . Jany 6th 1870 . States 81 70100 still due School house lot : names of trustees Darius Bowman , Uriah Wallace , Davis Greenleaf , Cyrus Johnston . 1 , 13 , 70 3 Morris Susan , Teacher . Poolsville , Montgomery Co. Md . January 3 , 1870 . Requests check amount due sent Mr. Adams . 1 , 17 , 70 4 Miller Lewis E. Teacher Lewistown , Frederick Co. Md . Pock Mark Jany 15th 70 , States opening of school Lewistown , forwards compliance instructions Baltimore Association . Will report , instructed report made . 1 , 18 , 70 , 5 Moses Rebecca , Teacher Point of Rocks , Fdk . Co. Md . P. M. Jany 17 , 70 Desires sent six Primary Geographies bill . 1 , 21 , 70 6 Moss R. C. Teacher Bladensburg , Prince Georges Co. Md . Acknowledges receipt of check 15.00'"
      ]
     },
     "execution_count": 7,
     "metadata": {},
     "output_type": "execute_result"
    }
   ],
   "source": [
    "index_text[1500]"
   ]
  },
  {
   "cell_type": "code",
   "execution_count": 8,
   "id": "9d9e0e8d",
   "metadata": {
    "execution": {
     "iopub.execute_input": "2022-06-28T18:27:42.328792Z",
     "iopub.status.busy": "2022-06-28T18:27:42.328174Z",
     "iopub.status.idle": "2022-06-28T18:27:42.334493Z",
     "shell.execute_reply": "2022-06-28T18:27:42.333471Z"
    },
    "papermill": {
     "duration": 0.022734,
     "end_time": "2022-06-28T18:27:42.336697",
     "exception": false,
     "start_time": "2022-06-28T18:27:42.313963",
     "status": "completed"
    },
    "tags": []
   },
   "outputs": [
    {
     "data": {
      "text/plain": [
       "\"['E. F. Hatfield', 'Swan', 'Darius Bowman', 'Uriah Wallace', 'Davis Greenleaf', 'Cyrus Johnston', 'Morris Susan', 'Miller Lewis E.', 'Pock Mark', 'Moses Rebecca', 'Moss R', 'C.']\""
      ]
     },
     "execution_count": 8,
     "metadata": {},
     "output_type": "execute_result"
    }
   ],
   "source": [
    "index_names[1500]"
   ]
  },
  {
   "cell_type": "code",
   "execution_count": 9,
   "id": "de1257dd",
   "metadata": {
    "execution": {
     "iopub.execute_input": "2022-06-28T18:27:42.365312Z",
     "iopub.status.busy": "2022-06-28T18:27:42.364916Z",
     "iopub.status.idle": "2022-06-28T18:27:42.371901Z",
     "shell.execute_reply": "2022-06-28T18:27:42.370910Z"
    },
    "papermill": {
     "duration": 0.023469,
     "end_time": "2022-06-28T18:27:42.374108",
     "exception": false,
     "start_time": "2022-06-28T18:27:42.350639",
     "status": "completed"
    },
    "tags": []
   },
   "outputs": [
    {
     "data": {
      "text/plain": [
       "'Jenny 90 . Johnson Richard 10 Jones Andrew 12 Johnston Thos . P. A.N.U . 16 , 20 , 75 Jordan Alice 37 , 53 Jordan Vina 51 , 54 , 55 Johnston Tho.P . A.N.U . 65 , 74 95 , 169 , 199 , 200 , 204 , 205 , 281 Johnston Hugh 107 , 146 Jane 129 Jennings Mr 184 , 185 Johnston David 219 Johnson Leah 228 Jeremia Parthe 253'"
      ]
     },
     "execution_count": 9,
     "metadata": {},
     "output_type": "execute_result"
    }
   ],
   "source": [
    "index_text[5000]"
   ]
  },
  {
   "cell_type": "code",
   "execution_count": 10,
   "id": "621054bc",
   "metadata": {
    "execution": {
     "iopub.execute_input": "2022-06-28T18:27:42.403309Z",
     "iopub.status.busy": "2022-06-28T18:27:42.402519Z",
     "iopub.status.idle": "2022-06-28T18:27:42.409992Z",
     "shell.execute_reply": "2022-06-28T18:27:42.408672Z"
    },
    "papermill": {
     "duration": 0.025076,
     "end_time": "2022-06-28T18:27:42.412751",
     "exception": false,
     "start_time": "2022-06-28T18:27:42.387675",
     "status": "completed"
    },
    "tags": []
   },
   "outputs": [
    {
     "data": {
      "text/plain": [
       "\"['Johnson Richard', 'Jones Andrew', 'Johnston Thos', 'Jordan Alice', 'Jordan Vina', 'Johnston Hugh', 'Jane', 'Jennings Mr', 'Johnston David', 'Johnson Leah', 'Jeremia Parthe']\""
      ]
     },
     "execution_count": 10,
     "metadata": {},
     "output_type": "execute_result"
    }
   ],
   "source": [
    "index_names[5000]"
   ]
  },
  {
   "cell_type": "code",
   "execution_count": 11,
   "id": "76596159",
   "metadata": {
    "execution": {
     "iopub.execute_input": "2022-06-28T18:27:42.441989Z",
     "iopub.status.busy": "2022-06-28T18:27:42.441588Z",
     "iopub.status.idle": "2022-06-28T18:27:42.451817Z",
     "shell.execute_reply": "2022-06-28T18:27:42.450805Z"
    },
    "papermill": {
     "duration": 0.027642,
     "end_time": "2022-06-28T18:27:42.453929",
     "exception": false,
     "start_time": "2022-06-28T18:27:42.426287",
     "status": "completed"
    },
    "tags": []
   },
   "outputs": [
    {
     "data": {
      "text/plain": [
       "0       ['Abbott', 'Lyman', 'Adams', 'John Q', 'Allen'...\n",
       "1       ['Boyd', 'J. F. Col.', 'Boyden', 'James', 'Bra...\n",
       "2       ['Chur', 'J. F.', 'Cilley', 'Clinton A. Maj', ...\n",
       "3       ['Elijah', 'Eliza', 'Emery', 'Charles', 'Edwin...\n",
       "4       ['Hale', 'Hambrich', 'Hand', 'Harkness', 'E.J'...\n",
       "                              ...                        \n",
       "5417                                                   []\n",
       "5418    ['Wm . F. Richardson', 'Hattie M. Richardson',...\n",
       "5419    ['Hattie L. Newcomb', 'Mutch Opelika', 'Thomas...\n",
       "5420    ['Mutch Opelika', 'Thomas H. Whitly', 'Emma A ...\n",
       "5421    ['James Nichols Stevenson', 'O . M. Waring', '...\n",
       "Name: PERSON-nerenglarge, Length: 5422, dtype: object"
      ]
     },
     "execution_count": 11,
     "metadata": {},
     "output_type": "execute_result"
    }
   ],
   "source": [
    "index_names"
   ]
  },
  {
   "cell_type": "code",
   "execution_count": 12,
   "id": "b6906b9a",
   "metadata": {
    "execution": {
     "iopub.execute_input": "2022-06-28T18:27:42.483465Z",
     "iopub.status.busy": "2022-06-28T18:27:42.483053Z",
     "iopub.status.idle": "2022-06-28T18:27:42.793418Z",
     "shell.execute_reply": "2022-06-28T18:27:42.792417Z"
    },
    "papermill": {
     "duration": 0.328783,
     "end_time": "2022-06-28T18:27:42.796481",
     "exception": false,
     "start_time": "2022-06-28T18:27:42.467698",
     "status": "completed"
    },
    "tags": []
   },
   "outputs": [
    {
     "data": {
      "text/plain": [
       "(1298703, 0)"
      ]
     },
     "execution_count": 12,
     "metadata": {},
     "output_type": "execute_result"
    }
   ],
   "source": [
    "PL=[]\n",
    "empty=0\n",
    "for i in index_names:\n",
    "    for j in i:\n",
    "        PL.append(j)\n",
    "for i in index_names:\n",
    "    if i==[]:\n",
    "        empty=empty+1\n",
    "len(PL), empty"
   ]
  },
  {
   "cell_type": "markdown",
   "id": "57ec3760",
   "metadata": {
    "papermill": {
     "duration": 0.013365,
     "end_time": "2022-06-28T18:27:42.823759",
     "exception": false,
     "start_time": "2022-06-28T18:27:42.810394",
     "status": "completed"
    },
    "tags": []
   },
   "source": [
    "# Names from Index are Perfect "
   ]
  },
  {
   "cell_type": "markdown",
   "id": "bd62927f",
   "metadata": {
    "papermill": {
     "duration": 0.014219,
     "end_time": "2022-06-28T18:27:42.851712",
     "exception": false,
     "start_time": "2022-06-28T18:27:42.837493",
     "status": "completed"
    },
    "tags": []
   },
   "source": [
    "****"
   ]
  },
  {
   "cell_type": "markdown",
   "id": "75becae2",
   "metadata": {
    "papermill": {
     "duration": 0.014611,
     "end_time": "2022-06-28T18:27:42.881032",
     "exception": false,
     "start_time": "2022-06-28T18:27:42.866421",
     "status": "completed"
    },
    "tags": []
   },
   "source": [
    "# Order ontonotes"
   ]
  },
  {
   "cell_type": "code",
   "execution_count": 13,
   "id": "242689ff",
   "metadata": {
    "execution": {
     "iopub.execute_input": "2022-06-28T18:27:42.913068Z",
     "iopub.status.busy": "2022-06-28T18:27:42.912599Z",
     "iopub.status.idle": "2022-06-28T18:27:43.245559Z",
     "shell.execute_reply": "2022-06-28T18:27:43.244188Z"
    },
    "papermill": {
     "duration": 0.352764,
     "end_time": "2022-06-28T18:27:43.248286",
     "exception": false,
     "start_time": "2022-06-28T18:27:42.895522",
     "status": "completed"
    },
    "tags": []
   },
   "outputs": [],
   "source": [
    "order_ent=pd.read_csv(\"../input/all-csv/to_compare_result_order.csv\")"
   ]
  },
  {
   "cell_type": "code",
   "execution_count": 14,
   "id": "8609c92a",
   "metadata": {
    "execution": {
     "iopub.execute_input": "2022-06-28T18:27:43.277477Z",
     "iopub.status.busy": "2022-06-28T18:27:43.277046Z",
     "iopub.status.idle": "2022-06-28T18:27:43.300946Z",
     "shell.execute_reply": "2022-06-28T18:27:43.299553Z"
    },
    "papermill": {
     "duration": 0.041677,
     "end_time": "2022-06-28T18:27:43.303657",
     "exception": false,
     "start_time": "2022-06-28T18:27:43.261980",
     "status": "completed"
    },
    "tags": []
   },
   "outputs": [
    {
     "data": {
      "text/html": [
       "<div>\n",
       "<style scoped>\n",
       "    .dataframe tbody tr th:only-of-type {\n",
       "        vertical-align: middle;\n",
       "    }\n",
       "\n",
       "    .dataframe tbody tr th {\n",
       "        vertical-align: top;\n",
       "    }\n",
       "\n",
       "    .dataframe thead th {\n",
       "        text-align: right;\n",
       "    }\n",
       "</style>\n",
       "<table border=\"1\" class=\"dataframe\">\n",
       "  <thead>\n",
       "    <tr style=\"text-align: right;\">\n",
       "      <th></th>\n",
       "      <th>order_text</th>\n",
       "      <th>PERSON-ontonotes</th>\n",
       "      <th>GPE-ontonotes</th>\n",
       "      <th>ORG-ontonotes</th>\n",
       "      <th>Date-ontonotes</th>\n",
       "      <th>LOC-ontonotes</th>\n",
       "      <th>Building-ontonotes</th>\n",
       "      <th>postDate-ontonotes</th>\n",
       "      <th>standard_date-ontonotes</th>\n",
       "      <th>PERSON-nerenglarge</th>\n",
       "      <th>LOC-nerenglarge</th>\n",
       "      <th>ORG-nerenglarge</th>\n",
       "      <th>other_namelarge</th>\n",
       "      <th>PERSON-nerenglish</th>\n",
       "      <th>LOC-nerenglish</th>\n",
       "      <th>ORG-nerenglish</th>\n",
       "      <th>Other_name-nerenglish</th>\n",
       "    </tr>\n",
       "  </thead>\n",
       "  <tbody>\n",
       "    <tr>\n",
       "      <th>0</th>\n",
       "      <td>R G. R.R . THIS ORDER NOT TRANSFERABLE . U.S. ...</td>\n",
       "      <td>['E . Cranford', 'Lewis B. Parsons', 'Major Kn...</td>\n",
       "      <td>['Raleigh N.C', 'Warrenton N.C', 'New York']</td>\n",
       "      <td>['Samuel Gale Co .']</td>\n",
       "      <td>['Aug 6 1866', 'Aug 1866']</td>\n",
       "      <td>[]</td>\n",
       "      <td>['67487']</td>\n",
       "      <td>['6-Aug-1866']</td>\n",
       "      <td>['6-August-1866']</td>\n",
       "      <td>['Cranford', 'Lewis B. Parsons', 'Gaston R.R']</td>\n",
       "      <td>['U.S.', 'Raleigh N.C', 'Warrenton N.C', 'Rale...</td>\n",
       "      <td>['Samuel Gale Co', 'Regiment Freedman', 'Rail ...</td>\n",
       "      <td>[]</td>\n",
       "      <td>[]</td>\n",
       "      <td>['Ral', 'Gaston R.R', 'Raleigh N.C.', 'Broadwa...</td>\n",
       "      <td>['Cranford']</td>\n",
       "      <td>[]</td>\n",
       "    </tr>\n",
       "    <tr>\n",
       "      <th>1</th>\n",
       "      <td>Certified Copy of Order , Extract , within tra...</td>\n",
       "      <td>['E. Crawford']</td>\n",
       "      <td>['Raleigh N.C']</td>\n",
       "      <td>[]</td>\n",
       "      <td>['Aug 6 1866']</td>\n",
       "      <td>[]</td>\n",
       "      <td>[]</td>\n",
       "      <td>['6-Aug-1866']</td>\n",
       "      <td>['6-August-1866']</td>\n",
       "      <td>['Robinson Clinton', 'E. Crawford']</td>\n",
       "      <td>['Raleigh N.C']</td>\n",
       "      <td>[]</td>\n",
       "      <td>[]</td>\n",
       "      <td>[]</td>\n",
       "      <td>[]</td>\n",
       "      <td>[]</td>\n",
       "      <td>[]</td>\n",
       "    </tr>\n",
       "    <tr>\n",
       "      <th>2</th>\n",
       "      <td>Bureau of Refugees , Freedmen Abandoned Lands ...</td>\n",
       "      <td>['KELLEY', 'EDWARD McPHERSON', 'JONATHAN WORTH']</td>\n",
       "      <td>['Raleigh', 'N.C.', 'United States', 'Alabama'...</td>\n",
       "      <td>['Bureau of Refugees', 'House of Representativ...</td>\n",
       "      <td>['May 8th , 1866', 'May 1 , 1866', '1st']</td>\n",
       "      <td>[]</td>\n",
       "      <td>['2d', 'III']</td>\n",
       "      <td>['8-May-1866', '1-May-1866']</td>\n",
       "      <td>['8-May-1866', '1-May-1866']</td>\n",
       "      <td>['KELLEY', 'EDWARD McPHERSON', 'E. WHITTLESEY'...</td>\n",
       "      <td>['State of North Carolina', 'Raleigh', 'N.C.',...</td>\n",
       "      <td>['Bureau of Refugees , Freedmen Abandoned Land...</td>\n",
       "      <td>[]</td>\n",
       "      <td>['JONATHAN WORTH']</td>\n",
       "      <td>['Raleigh', 'N.C.', 'United States', 'Alabama'...</td>\n",
       "      <td>['Officers Agents of Bureau', 'House of Repres...</td>\n",
       "      <td>[]</td>\n",
       "    </tr>\n",
       "    <tr>\n",
       "      <th>3</th>\n",
       "      <td>HEADQUARTERS DEPARTMENT OF NORTH CAROLINA , Ra...</td>\n",
       "      <td>['Joseph E. Johnston']</td>\n",
       "      <td>['Raleigh', 'North Carolina']</td>\n",
       "      <td>['HEADQUARTERS DEPARTMENT OF NORTH CAROLINA', ...</td>\n",
       "      <td>['January 12th , 1866']</td>\n",
       "      <td>[]</td>\n",
       "      <td>['4', 'II', 'III']</td>\n",
       "      <td>['12-January-1866']</td>\n",
       "      <td>['12-January-1866']</td>\n",
       "      <td>['Joseph E. Johnston']</td>\n",
       "      <td>['NORTH CAROLINA', 'Raleigh', 'North Carolina'...</td>\n",
       "      <td>['Government']</td>\n",
       "      <td>[]</td>\n",
       "      <td>['Joseph E. Johnston']</td>\n",
       "      <td>['NORTH CAROLINA', 'Raleigh', 'North Carolina']</td>\n",
       "      <td>[]</td>\n",
       "      <td>[]</td>\n",
       "    </tr>\n",
       "    <tr>\n",
       "      <th>4</th>\n",
       "      <td>IV . Animals sold counties collected unless wo...</td>\n",
       "      <td>['J A . Campbell', 'James H Anderson']</td>\n",
       "      <td>['U.S.']</td>\n",
       "      <td>['Headquarters', 'Government']</td>\n",
       "      <td>['first day of February , proximo']</td>\n",
       "      <td>[]</td>\n",
       "      <td>['VI']</td>\n",
       "      <td>[]</td>\n",
       "      <td>[]</td>\n",
       "      <td>['J A . Campbell', 'James H Anderson']</td>\n",
       "      <td>['U.S.', 'U.S. C.S', 'C.S']</td>\n",
       "      <td>['Government']</td>\n",
       "      <td>[]</td>\n",
       "      <td>['James H Anderson']</td>\n",
       "      <td>['U.S.']</td>\n",
       "      <td>[]</td>\n",
       "      <td>['C.S']</td>\n",
       "    </tr>\n",
       "  </tbody>\n",
       "</table>\n",
       "</div>"
      ],
      "text/plain": [
       "                                          order_text  \\\n",
       "0  R G. R.R . THIS ORDER NOT TRANSFERABLE . U.S. ...   \n",
       "1  Certified Copy of Order , Extract , within tra...   \n",
       "2  Bureau of Refugees , Freedmen Abandoned Lands ...   \n",
       "3  HEADQUARTERS DEPARTMENT OF NORTH CAROLINA , Ra...   \n",
       "4  IV . Animals sold counties collected unless wo...   \n",
       "\n",
       "                                    PERSON-ontonotes  \\\n",
       "0  ['E . Cranford', 'Lewis B. Parsons', 'Major Kn...   \n",
       "1                                    ['E. Crawford']   \n",
       "2   ['KELLEY', 'EDWARD McPHERSON', 'JONATHAN WORTH']   \n",
       "3                             ['Joseph E. Johnston']   \n",
       "4             ['J A . Campbell', 'James H Anderson']   \n",
       "\n",
       "                                       GPE-ontonotes  \\\n",
       "0       ['Raleigh N.C', 'Warrenton N.C', 'New York']   \n",
       "1                                    ['Raleigh N.C']   \n",
       "2  ['Raleigh', 'N.C.', 'United States', 'Alabama'...   \n",
       "3                      ['Raleigh', 'North Carolina']   \n",
       "4                                           ['U.S.']   \n",
       "\n",
       "                                       ORG-ontonotes  \\\n",
       "0                               ['Samuel Gale Co .']   \n",
       "1                                                 []   \n",
       "2  ['Bureau of Refugees', 'House of Representativ...   \n",
       "3  ['HEADQUARTERS DEPARTMENT OF NORTH CAROLINA', ...   \n",
       "4                     ['Headquarters', 'Government']   \n",
       "\n",
       "                              Date-ontonotes LOC-ontonotes  \\\n",
       "0                 ['Aug 6 1866', 'Aug 1866']            []   \n",
       "1                             ['Aug 6 1866']            []   \n",
       "2  ['May 8th , 1866', 'May 1 , 1866', '1st']            []   \n",
       "3                    ['January 12th , 1866']            []   \n",
       "4        ['first day of February , proximo']            []   \n",
       "\n",
       "   Building-ontonotes            postDate-ontonotes  \\\n",
       "0           ['67487']                ['6-Aug-1866']   \n",
       "1                  []                ['6-Aug-1866']   \n",
       "2       ['2d', 'III']  ['8-May-1866', '1-May-1866']   \n",
       "3  ['4', 'II', 'III']           ['12-January-1866']   \n",
       "4              ['VI']                            []   \n",
       "\n",
       "        standard_date-ontonotes  \\\n",
       "0             ['6-August-1866']   \n",
       "1             ['6-August-1866']   \n",
       "2  ['8-May-1866', '1-May-1866']   \n",
       "3           ['12-January-1866']   \n",
       "4                            []   \n",
       "\n",
       "                                  PERSON-nerenglarge  \\\n",
       "0     ['Cranford', 'Lewis B. Parsons', 'Gaston R.R']   \n",
       "1                ['Robinson Clinton', 'E. Crawford']   \n",
       "2  ['KELLEY', 'EDWARD McPHERSON', 'E. WHITTLESEY'...   \n",
       "3                             ['Joseph E. Johnston']   \n",
       "4             ['J A . Campbell', 'James H Anderson']   \n",
       "\n",
       "                                     LOC-nerenglarge  \\\n",
       "0  ['U.S.', 'Raleigh N.C', 'Warrenton N.C', 'Rale...   \n",
       "1                                    ['Raleigh N.C']   \n",
       "2  ['State of North Carolina', 'Raleigh', 'N.C.',...   \n",
       "3  ['NORTH CAROLINA', 'Raleigh', 'North Carolina'...   \n",
       "4                        ['U.S.', 'U.S. C.S', 'C.S']   \n",
       "\n",
       "                                     ORG-nerenglarge other_namelarge  \\\n",
       "0  ['Samuel Gale Co', 'Regiment Freedman', 'Rail ...              []   \n",
       "1                                                 []              []   \n",
       "2  ['Bureau of Refugees , Freedmen Abandoned Land...              []   \n",
       "3                                     ['Government']              []   \n",
       "4                                     ['Government']              []   \n",
       "\n",
       "        PERSON-nerenglish                                     LOC-nerenglish  \\\n",
       "0                      []  ['Ral', 'Gaston R.R', 'Raleigh N.C.', 'Broadwa...   \n",
       "1                      []                                                 []   \n",
       "2      ['JONATHAN WORTH']  ['Raleigh', 'N.C.', 'United States', 'Alabama'...   \n",
       "3  ['Joseph E. Johnston']    ['NORTH CAROLINA', 'Raleigh', 'North Carolina']   \n",
       "4    ['James H Anderson']                                           ['U.S.']   \n",
       "\n",
       "                                      ORG-nerenglish Other_name-nerenglish  \n",
       "0                                       ['Cranford']                    []  \n",
       "1                                                 []                    []  \n",
       "2  ['Officers Agents of Bureau', 'House of Repres...                    []  \n",
       "3                                                 []                    []  \n",
       "4                                                 []               ['C.S']  "
      ]
     },
     "execution_count": 14,
     "metadata": {},
     "output_type": "execute_result"
    }
   ],
   "source": [
    "order_ent.head()"
   ]
  },
  {
   "cell_type": "code",
   "execution_count": 15,
   "id": "0e82f69f",
   "metadata": {
    "execution": {
     "iopub.execute_input": "2022-06-28T18:27:43.333523Z",
     "iopub.status.busy": "2022-06-28T18:27:43.333094Z",
     "iopub.status.idle": "2022-06-28T18:27:43.364008Z",
     "shell.execute_reply": "2022-06-28T18:27:43.362855Z"
    },
    "papermill": {
     "duration": 0.048807,
     "end_time": "2022-06-28T18:27:43.366620",
     "exception": false,
     "start_time": "2022-06-28T18:27:43.317813",
     "status": "completed"
    },
    "tags": []
   },
   "outputs": [],
   "source": [
    "order_text=order_ent[\"order_text\"]\n",
    "order_Per_onto=order_ent[\"PERSON-ontonotes\"]\n",
    "order_GPE_onto=order_ent[\"GPE-ontonotes\"]\n",
    "order_ORG_onto=order_ent[\"ORG-ontonotes\"]\n",
    "order_date_onto=order_ent[\"standard_date-ontonotes\"]\n",
    "order_loc_onto=order_ent[\"LOC-ontonotes\"]"
   ]
  },
  {
   "cell_type": "code",
   "execution_count": 16,
   "id": "6d5203b7",
   "metadata": {
    "execution": {
     "iopub.execute_input": "2022-06-28T18:27:43.388480Z",
     "iopub.status.busy": "2022-06-28T18:27:43.386442Z",
     "iopub.status.idle": "2022-06-28T18:27:43.394517Z",
     "shell.execute_reply": "2022-06-28T18:27:43.393555Z"
    },
    "papermill": {
     "duration": 0.020637,
     "end_time": "2022-06-28T18:27:43.396414",
     "exception": false,
     "start_time": "2022-06-28T18:27:43.375777",
     "status": "completed"
    },
    "tags": []
   },
   "outputs": [
    {
     "data": {
      "text/plain": [
       "'190 By Order of Col. James V. Bomford Jacob F. Chur . Bvt . Lt. Col. A.A.A.G . Bureau of Refugees Freedmen A.L . Head Qrs . Asst . Commissioner Raleigh N.C. Jan. 16th 1867 Special Order No . 8 Leave of absence twelve days hereby granted Lieut Edgar H. McQuigg V.R.C . Asst Supt Bureau R.F . A.L . Wilmington N.C. By Command of Col. J. V. Bomford Jacob F. Chur . Bvt . Lt. Col. A.A.A . Genl Bureau of Refugees Freedmen c Hd Qrs Asst Commissioner Raleigh N.C. Jan. 18th 1867 Special Order No . 9 In compliance instructions Maj Genl O.O . Howard Commissioner , Bvt . Maj. Thos P. Johnston Chf Qr Mr Bureau State pay trustees of Baptist Female Seminary following amounts rent of rooms used Bureau upon premises known Guion Hotel City of Raleigh recommended board of Officers appointed purpose . For three rooms main building occupied offices of Bureau of R.F . A.L . April 1st 1866 Aug 1st 1866 rate of Twelve dollars per month per room . For four rooms detatched building occupied offices of Bureau of R.F . A.L . April 2d 1866 , Dec 31st 1866 , rate of twelve dollars 12 per month per room . By Command of Col. J. V. Bomford Jacob F. Chur . Bvt . Lt. Col. A.A.A . Genl 191 Bureau of Refugees Freedmen c Hd Qrs Asst Commissioner Raleigh N.C. Jan. 19th 1867 Special Order No . 10 I. Manchester W. Weld appointed Agent of Bureau of R.F . A.L . hereby assigned duty Fayetteville N.C. relieve Justin Hodge Agent . II . The resignation of Justin Hodge Agent of Bureau of R.F . A.L . Fayetteville N.C. hereby accepted take effect relieved Mr. M. W. Weld By Command of Col. J. V. Bomford Jacob F. Chur . Bvt . Lt. Col. A.A.A.G . Bureau of Refugees Freedmen c Hd Qrs Asst Commissioner Raleigh N.C. Jan. 20th 1867 Special Order No . 11 During temporary absence of Bt Lt Col Jacob F. Chur Act Asst Adjt Genl , Bt Maj F. A. Seeley act Asst Adjt Genl . By Command of Col. J. V. Bomford Jacob F. Chur . Bvt . Lt. Col. A.A.A.G .'"
      ]
     },
     "execution_count": 16,
     "metadata": {},
     "output_type": "execute_result"
    }
   ],
   "source": [
    "order_text[1000]"
   ]
  },
  {
   "cell_type": "code",
   "execution_count": 17,
   "id": "a540b24c",
   "metadata": {
    "execution": {
     "iopub.execute_input": "2022-06-28T18:27:43.416572Z",
     "iopub.status.busy": "2022-06-28T18:27:43.415586Z",
     "iopub.status.idle": "2022-06-28T18:27:43.422369Z",
     "shell.execute_reply": "2022-06-28T18:27:43.421552Z"
    },
    "papermill": {
     "duration": 0.018861,
     "end_time": "2022-06-28T18:27:43.424260",
     "exception": false,
     "start_time": "2022-06-28T18:27:43.405399",
     "status": "completed"
    },
    "tags": []
   },
   "outputs": [
    {
     "data": {
      "text/plain": [
       "\"['James V. Bomford', 'J. V. Bomford', 'Manchester W. Weld', 'Justin Hodge', 'M. W. Weld', 'Jacob F. Chur', 'F . A. Seeley']\""
      ]
     },
     "execution_count": 17,
     "metadata": {},
     "output_type": "execute_result"
    }
   ],
   "source": [
    "order_Per_onto[1000]"
   ]
  },
  {
   "cell_type": "code",
   "execution_count": 18,
   "id": "748ae0f7",
   "metadata": {
    "execution": {
     "iopub.execute_input": "2022-06-28T18:27:43.444913Z",
     "iopub.status.busy": "2022-06-28T18:27:43.444184Z",
     "iopub.status.idle": "2022-06-28T18:27:43.451021Z",
     "shell.execute_reply": "2022-06-28T18:27:43.450059Z"
    },
    "papermill": {
     "duration": 0.019646,
     "end_time": "2022-06-28T18:27:43.453317",
     "exception": false,
     "start_time": "2022-06-28T18:27:43.433671",
     "status": "completed"
    },
    "tags": []
   },
   "outputs": [
    {
     "data": {
      "text/plain": [
       "\"['Raleigh N.C', 'Raleigh', 'Fayetteville N.C.']\""
      ]
     },
     "execution_count": 18,
     "metadata": {},
     "output_type": "execute_result"
    }
   ],
   "source": [
    "order_GPE_onto[1000]"
   ]
  },
  {
   "cell_type": "code",
   "execution_count": 19,
   "id": "97aa4088",
   "metadata": {
    "execution": {
     "iopub.execute_input": "2022-06-28T18:27:43.485979Z",
     "iopub.status.busy": "2022-06-28T18:27:43.485168Z",
     "iopub.status.idle": "2022-06-28T18:27:43.491632Z",
     "shell.execute_reply": "2022-06-28T18:27:43.490516Z"
    },
    "papermill": {
     "duration": 0.025519,
     "end_time": "2022-06-28T18:27:43.493942",
     "exception": false,
     "start_time": "2022-06-28T18:27:43.468423",
     "status": "completed"
    },
    "tags": []
   },
   "outputs": [
    {
     "data": {
      "text/plain": [
       "'[]'"
      ]
     },
     "execution_count": 19,
     "metadata": {},
     "output_type": "execute_result"
    }
   ],
   "source": [
    "order_loc_onto[1000]"
   ]
  },
  {
   "cell_type": "code",
   "execution_count": 20,
   "id": "64d1e4d2",
   "metadata": {
    "execution": {
     "iopub.execute_input": "2022-06-28T18:27:43.525639Z",
     "iopub.status.busy": "2022-06-28T18:27:43.525022Z",
     "iopub.status.idle": "2022-06-28T18:27:43.530493Z",
     "shell.execute_reply": "2022-06-28T18:27:43.529637Z"
    },
    "papermill": {
     "duration": 0.023169,
     "end_time": "2022-06-28T18:27:43.532483",
     "exception": false,
     "start_time": "2022-06-28T18:27:43.509314",
     "status": "completed"
    },
    "tags": []
   },
   "outputs": [
    {
     "data": {
      "text/plain": [
       "\"['16-Jan.-1867', '18-Jan.-1867', '1-April-1866', '1-August-1866', '2-April-1866', '31-December-1866', '19-Jan.-1867', '20-Jan.-1867']\""
      ]
     },
     "execution_count": 20,
     "metadata": {},
     "output_type": "execute_result"
    }
   ],
   "source": [
    "order_date_onto[1000]"
   ]
  },
  {
   "cell_type": "markdown",
   "id": "2de5c101",
   "metadata": {
    "papermill": {
     "duration": 0.014435,
     "end_time": "2022-06-28T18:27:43.561587",
     "exception": false,
     "start_time": "2022-06-28T18:27:43.547152",
     "status": "completed"
    },
    "tags": []
   },
   "source": [
    "**good**"
   ]
  },
  {
   "cell_type": "code",
   "execution_count": 21,
   "id": "dd4fc206",
   "metadata": {
    "execution": {
     "iopub.execute_input": "2022-06-28T18:27:43.593137Z",
     "iopub.status.busy": "2022-06-28T18:27:43.592605Z",
     "iopub.status.idle": "2022-06-28T18:27:43.660549Z",
     "shell.execute_reply": "2022-06-28T18:27:43.659273Z"
    },
    "papermill": {
     "duration": 0.086488,
     "end_time": "2022-06-28T18:27:43.663030",
     "exception": false,
     "start_time": "2022-06-28T18:27:43.576542",
     "status": "completed"
    },
    "tags": []
   },
   "outputs": [
    {
     "data": {
      "text/plain": [
       "(453588, 0)"
      ]
     },
     "execution_count": 21,
     "metadata": {},
     "output_type": "execute_result"
    }
   ],
   "source": [
    "PL=[]\n",
    "empty=0\n",
    "for i in order_Per_onto :\n",
    "    for j in i:\n",
    "        PL.append(j)\n",
    "for i in order_Per_onto:\n",
    "    if i==[]:\n",
    "        empty=empty+1\n",
    "len(PL), empty"
   ]
  },
  {
   "cell_type": "markdown",
   "id": "ba267741",
   "metadata": {
    "papermill": {
     "duration": 0.014686,
     "end_time": "2022-06-28T18:27:43.693987",
     "exception": false,
     "start_time": "2022-06-28T18:27:43.679301",
     "status": "completed"
    },
    "tags": []
   },
   "source": [
    "**very good**"
   ]
  },
  {
   "cell_type": "code",
   "execution_count": 22,
   "id": "4ecfcec3",
   "metadata": {
    "execution": {
     "iopub.execute_input": "2022-06-28T18:27:43.726133Z",
     "iopub.status.busy": "2022-06-28T18:27:43.725564Z",
     "iopub.status.idle": "2022-06-28T18:27:43.755844Z",
     "shell.execute_reply": "2022-06-28T18:27:43.754983Z"
    },
    "papermill": {
     "duration": 0.04858,
     "end_time": "2022-06-28T18:27:43.757933",
     "exception": false,
     "start_time": "2022-06-28T18:27:43.709353",
     "status": "completed"
    },
    "tags": []
   },
   "outputs": [
    {
     "data": {
      "text/plain": [
       "(167185, 0)"
      ]
     },
     "execution_count": 22,
     "metadata": {},
     "output_type": "execute_result"
    }
   ],
   "source": [
    "PL=[]\n",
    "empty=0\n",
    "for i in order_date_onto :\n",
    "    for j in i:\n",
    "        PL.append(j)\n",
    "for i in order_date_onto:\n",
    "    if i==[]:\n",
    "        empty=empty+1\n",
    "len(PL), empty"
   ]
  },
  {
   "cell_type": "markdown",
   "id": "7cdea325",
   "metadata": {
    "papermill": {
     "duration": 0.014863,
     "end_time": "2022-06-28T18:27:43.788270",
     "exception": false,
     "start_time": "2022-06-28T18:27:43.773407",
     "status": "completed"
    },
    "tags": []
   },
   "source": [
    "**uii very good**"
   ]
  },
  {
   "cell_type": "code",
   "execution_count": 23,
   "id": "3b3273d8",
   "metadata": {
    "execution": {
     "iopub.execute_input": "2022-06-28T18:27:43.820750Z",
     "iopub.status.busy": "2022-06-28T18:27:43.820189Z",
     "iopub.status.idle": "2022-06-28T18:27:43.870243Z",
     "shell.execute_reply": "2022-06-28T18:27:43.869417Z"
    },
    "papermill": {
     "duration": 0.067983,
     "end_time": "2022-06-28T18:27:43.872101",
     "exception": false,
     "start_time": "2022-06-28T18:27:43.804118",
     "status": "completed"
    },
    "tags": []
   },
   "outputs": [
    {
     "data": {
      "text/plain": [
       "(343109, 0)"
      ]
     },
     "execution_count": 23,
     "metadata": {},
     "output_type": "execute_result"
    }
   ],
   "source": [
    "PL=[]\n",
    "empty=0\n",
    "for i in order_GPE_onto :\n",
    "    for j in i:\n",
    "        PL.append(j)\n",
    "for i in order_GPE_onto:\n",
    "    if i==[]:\n",
    "        empty=empty+1\n",
    "len(PL), empty"
   ]
  },
  {
   "cell_type": "markdown",
   "id": "02d7f4c3",
   "metadata": {
    "papermill": {
     "duration": 0.009983,
     "end_time": "2022-06-28T18:27:43.891648",
     "exception": false,
     "start_time": "2022-06-28T18:27:43.881665",
     "status": "completed"
    },
    "tags": []
   },
   "source": [
    "****"
   ]
  },
  {
   "cell_type": "markdown",
   "id": "ead5e95e",
   "metadata": {
    "papermill": {
     "duration": 0.009245,
     "end_time": "2022-06-28T18:27:43.910803",
     "exception": false,
     "start_time": "2022-06-28T18:27:43.901558",
     "status": "completed"
    },
    "tags": []
   },
   "source": [
    "# Order Ner-english"
   ]
  },
  {
   "cell_type": "code",
   "execution_count": 24,
   "id": "40f99409",
   "metadata": {
    "execution": {
     "iopub.execute_input": "2022-06-28T18:27:43.932524Z",
     "iopub.status.busy": "2022-06-28T18:27:43.931570Z",
     "iopub.status.idle": "2022-06-28T18:27:43.957941Z",
     "shell.execute_reply": "2022-06-28T18:27:43.956990Z"
    },
    "papermill": {
     "duration": 0.039758,
     "end_time": "2022-06-28T18:27:43.960268",
     "exception": false,
     "start_time": "2022-06-28T18:27:43.920510",
     "status": "completed"
    },
    "tags": []
   },
   "outputs": [
    {
     "data": {
      "text/html": [
       "<div>\n",
       "<style scoped>\n",
       "    .dataframe tbody tr th:only-of-type {\n",
       "        vertical-align: middle;\n",
       "    }\n",
       "\n",
       "    .dataframe tbody tr th {\n",
       "        vertical-align: top;\n",
       "    }\n",
       "\n",
       "    .dataframe thead th {\n",
       "        text-align: right;\n",
       "    }\n",
       "</style>\n",
       "<table border=\"1\" class=\"dataframe\">\n",
       "  <thead>\n",
       "    <tr style=\"text-align: right;\">\n",
       "      <th></th>\n",
       "      <th>order_text</th>\n",
       "      <th>PERSON-ontonotes</th>\n",
       "      <th>GPE-ontonotes</th>\n",
       "      <th>ORG-ontonotes</th>\n",
       "      <th>Date-ontonotes</th>\n",
       "      <th>LOC-ontonotes</th>\n",
       "      <th>Building-ontonotes</th>\n",
       "      <th>postDate-ontonotes</th>\n",
       "      <th>standard_date-ontonotes</th>\n",
       "      <th>PERSON-nerenglarge</th>\n",
       "      <th>LOC-nerenglarge</th>\n",
       "      <th>ORG-nerenglarge</th>\n",
       "      <th>other_namelarge</th>\n",
       "      <th>PERSON-nerenglish</th>\n",
       "      <th>LOC-nerenglish</th>\n",
       "      <th>ORG-nerenglish</th>\n",
       "      <th>Other_name-nerenglish</th>\n",
       "    </tr>\n",
       "  </thead>\n",
       "  <tbody>\n",
       "    <tr>\n",
       "      <th>0</th>\n",
       "      <td>R G. R.R . THIS ORDER NOT TRANSFERABLE . U.S. ...</td>\n",
       "      <td>['E . Cranford', 'Lewis B. Parsons', 'Major Kn...</td>\n",
       "      <td>['Raleigh N.C', 'Warrenton N.C', 'New York']</td>\n",
       "      <td>['Samuel Gale Co .']</td>\n",
       "      <td>['Aug 6 1866', 'Aug 1866']</td>\n",
       "      <td>[]</td>\n",
       "      <td>['67487']</td>\n",
       "      <td>['6-Aug-1866']</td>\n",
       "      <td>['6-August-1866']</td>\n",
       "      <td>['Cranford', 'Lewis B. Parsons', 'Gaston R.R']</td>\n",
       "      <td>['U.S.', 'Raleigh N.C', 'Warrenton N.C', 'Rale...</td>\n",
       "      <td>['Samuel Gale Co', 'Regiment Freedman', 'Rail ...</td>\n",
       "      <td>[]</td>\n",
       "      <td>[]</td>\n",
       "      <td>['Ral', 'Gaston R.R', 'Raleigh N.C.', 'Broadwa...</td>\n",
       "      <td>['Cranford']</td>\n",
       "      <td>[]</td>\n",
       "    </tr>\n",
       "    <tr>\n",
       "      <th>1</th>\n",
       "      <td>Certified Copy of Order , Extract , within tra...</td>\n",
       "      <td>['E. Crawford']</td>\n",
       "      <td>['Raleigh N.C']</td>\n",
       "      <td>[]</td>\n",
       "      <td>['Aug 6 1866']</td>\n",
       "      <td>[]</td>\n",
       "      <td>[]</td>\n",
       "      <td>['6-Aug-1866']</td>\n",
       "      <td>['6-August-1866']</td>\n",
       "      <td>['Robinson Clinton', 'E. Crawford']</td>\n",
       "      <td>['Raleigh N.C']</td>\n",
       "      <td>[]</td>\n",
       "      <td>[]</td>\n",
       "      <td>[]</td>\n",
       "      <td>[]</td>\n",
       "      <td>[]</td>\n",
       "      <td>[]</td>\n",
       "    </tr>\n",
       "    <tr>\n",
       "      <th>2</th>\n",
       "      <td>Bureau of Refugees , Freedmen Abandoned Lands ...</td>\n",
       "      <td>['KELLEY', 'EDWARD McPHERSON', 'JONATHAN WORTH']</td>\n",
       "      <td>['Raleigh', 'N.C.', 'United States', 'Alabama'...</td>\n",
       "      <td>['Bureau of Refugees', 'House of Representativ...</td>\n",
       "      <td>['May 8th , 1866', 'May 1 , 1866', '1st']</td>\n",
       "      <td>[]</td>\n",
       "      <td>['2d', 'III']</td>\n",
       "      <td>['8-May-1866', '1-May-1866']</td>\n",
       "      <td>['8-May-1866', '1-May-1866']</td>\n",
       "      <td>['KELLEY', 'EDWARD McPHERSON', 'E. WHITTLESEY'...</td>\n",
       "      <td>['State of North Carolina', 'Raleigh', 'N.C.',...</td>\n",
       "      <td>['Bureau of Refugees , Freedmen Abandoned Land...</td>\n",
       "      <td>[]</td>\n",
       "      <td>['JONATHAN WORTH']</td>\n",
       "      <td>['Raleigh', 'N.C.', 'United States', 'Alabama'...</td>\n",
       "      <td>['Officers Agents of Bureau', 'House of Repres...</td>\n",
       "      <td>[]</td>\n",
       "    </tr>\n",
       "    <tr>\n",
       "      <th>3</th>\n",
       "      <td>HEADQUARTERS DEPARTMENT OF NORTH CAROLINA , Ra...</td>\n",
       "      <td>['Joseph E. Johnston']</td>\n",
       "      <td>['Raleigh', 'North Carolina']</td>\n",
       "      <td>['HEADQUARTERS DEPARTMENT OF NORTH CAROLINA', ...</td>\n",
       "      <td>['January 12th , 1866']</td>\n",
       "      <td>[]</td>\n",
       "      <td>['4', 'II', 'III']</td>\n",
       "      <td>['12-January-1866']</td>\n",
       "      <td>['12-January-1866']</td>\n",
       "      <td>['Joseph E. Johnston']</td>\n",
       "      <td>['NORTH CAROLINA', 'Raleigh', 'North Carolina'...</td>\n",
       "      <td>['Government']</td>\n",
       "      <td>[]</td>\n",
       "      <td>['Joseph E. Johnston']</td>\n",
       "      <td>['NORTH CAROLINA', 'Raleigh', 'North Carolina']</td>\n",
       "      <td>[]</td>\n",
       "      <td>[]</td>\n",
       "    </tr>\n",
       "    <tr>\n",
       "      <th>4</th>\n",
       "      <td>IV . Animals sold counties collected unless wo...</td>\n",
       "      <td>['J A . Campbell', 'James H Anderson']</td>\n",
       "      <td>['U.S.']</td>\n",
       "      <td>['Headquarters', 'Government']</td>\n",
       "      <td>['first day of February , proximo']</td>\n",
       "      <td>[]</td>\n",
       "      <td>['VI']</td>\n",
       "      <td>[]</td>\n",
       "      <td>[]</td>\n",
       "      <td>['J A . Campbell', 'James H Anderson']</td>\n",
       "      <td>['U.S.', 'U.S. C.S', 'C.S']</td>\n",
       "      <td>['Government']</td>\n",
       "      <td>[]</td>\n",
       "      <td>['James H Anderson']</td>\n",
       "      <td>['U.S.']</td>\n",
       "      <td>[]</td>\n",
       "      <td>['C.S']</td>\n",
       "    </tr>\n",
       "  </tbody>\n",
       "</table>\n",
       "</div>"
      ],
      "text/plain": [
       "                                          order_text  \\\n",
       "0  R G. R.R . THIS ORDER NOT TRANSFERABLE . U.S. ...   \n",
       "1  Certified Copy of Order , Extract , within tra...   \n",
       "2  Bureau of Refugees , Freedmen Abandoned Lands ...   \n",
       "3  HEADQUARTERS DEPARTMENT OF NORTH CAROLINA , Ra...   \n",
       "4  IV . Animals sold counties collected unless wo...   \n",
       "\n",
       "                                    PERSON-ontonotes  \\\n",
       "0  ['E . Cranford', 'Lewis B. Parsons', 'Major Kn...   \n",
       "1                                    ['E. Crawford']   \n",
       "2   ['KELLEY', 'EDWARD McPHERSON', 'JONATHAN WORTH']   \n",
       "3                             ['Joseph E. Johnston']   \n",
       "4             ['J A . Campbell', 'James H Anderson']   \n",
       "\n",
       "                                       GPE-ontonotes  \\\n",
       "0       ['Raleigh N.C', 'Warrenton N.C', 'New York']   \n",
       "1                                    ['Raleigh N.C']   \n",
       "2  ['Raleigh', 'N.C.', 'United States', 'Alabama'...   \n",
       "3                      ['Raleigh', 'North Carolina']   \n",
       "4                                           ['U.S.']   \n",
       "\n",
       "                                       ORG-ontonotes  \\\n",
       "0                               ['Samuel Gale Co .']   \n",
       "1                                                 []   \n",
       "2  ['Bureau of Refugees', 'House of Representativ...   \n",
       "3  ['HEADQUARTERS DEPARTMENT OF NORTH CAROLINA', ...   \n",
       "4                     ['Headquarters', 'Government']   \n",
       "\n",
       "                              Date-ontonotes LOC-ontonotes  \\\n",
       "0                 ['Aug 6 1866', 'Aug 1866']            []   \n",
       "1                             ['Aug 6 1866']            []   \n",
       "2  ['May 8th , 1866', 'May 1 , 1866', '1st']            []   \n",
       "3                    ['January 12th , 1866']            []   \n",
       "4        ['first day of February , proximo']            []   \n",
       "\n",
       "   Building-ontonotes            postDate-ontonotes  \\\n",
       "0           ['67487']                ['6-Aug-1866']   \n",
       "1                  []                ['6-Aug-1866']   \n",
       "2       ['2d', 'III']  ['8-May-1866', '1-May-1866']   \n",
       "3  ['4', 'II', 'III']           ['12-January-1866']   \n",
       "4              ['VI']                            []   \n",
       "\n",
       "        standard_date-ontonotes  \\\n",
       "0             ['6-August-1866']   \n",
       "1             ['6-August-1866']   \n",
       "2  ['8-May-1866', '1-May-1866']   \n",
       "3           ['12-January-1866']   \n",
       "4                            []   \n",
       "\n",
       "                                  PERSON-nerenglarge  \\\n",
       "0     ['Cranford', 'Lewis B. Parsons', 'Gaston R.R']   \n",
       "1                ['Robinson Clinton', 'E. Crawford']   \n",
       "2  ['KELLEY', 'EDWARD McPHERSON', 'E. WHITTLESEY'...   \n",
       "3                             ['Joseph E. Johnston']   \n",
       "4             ['J A . Campbell', 'James H Anderson']   \n",
       "\n",
       "                                     LOC-nerenglarge  \\\n",
       "0  ['U.S.', 'Raleigh N.C', 'Warrenton N.C', 'Rale...   \n",
       "1                                    ['Raleigh N.C']   \n",
       "2  ['State of North Carolina', 'Raleigh', 'N.C.',...   \n",
       "3  ['NORTH CAROLINA', 'Raleigh', 'North Carolina'...   \n",
       "4                        ['U.S.', 'U.S. C.S', 'C.S']   \n",
       "\n",
       "                                     ORG-nerenglarge other_namelarge  \\\n",
       "0  ['Samuel Gale Co', 'Regiment Freedman', 'Rail ...              []   \n",
       "1                                                 []              []   \n",
       "2  ['Bureau of Refugees , Freedmen Abandoned Land...              []   \n",
       "3                                     ['Government']              []   \n",
       "4                                     ['Government']              []   \n",
       "\n",
       "        PERSON-nerenglish                                     LOC-nerenglish  \\\n",
       "0                      []  ['Ral', 'Gaston R.R', 'Raleigh N.C.', 'Broadwa...   \n",
       "1                      []                                                 []   \n",
       "2      ['JONATHAN WORTH']  ['Raleigh', 'N.C.', 'United States', 'Alabama'...   \n",
       "3  ['Joseph E. Johnston']    ['NORTH CAROLINA', 'Raleigh', 'North Carolina']   \n",
       "4    ['James H Anderson']                                           ['U.S.']   \n",
       "\n",
       "                                      ORG-nerenglish Other_name-nerenglish  \n",
       "0                                       ['Cranford']                    []  \n",
       "1                                                 []                    []  \n",
       "2  ['Officers Agents of Bureau', 'House of Repres...                    []  \n",
       "3                                                 []                    []  \n",
       "4                                                 []               ['C.S']  "
      ]
     },
     "execution_count": 24,
     "metadata": {},
     "output_type": "execute_result"
    }
   ],
   "source": [
    "order_ent.head()"
   ]
  },
  {
   "cell_type": "code",
   "execution_count": 25,
   "id": "74e58576",
   "metadata": {
    "execution": {
     "iopub.execute_input": "2022-06-28T18:27:43.984427Z",
     "iopub.status.busy": "2022-06-28T18:27:43.982876Z",
     "iopub.status.idle": "2022-06-28T18:27:43.989571Z",
     "shell.execute_reply": "2022-06-28T18:27:43.988866Z"
    },
    "papermill": {
     "duration": 0.019835,
     "end_time": "2022-06-28T18:27:43.991394",
     "exception": false,
     "start_time": "2022-06-28T18:27:43.971559",
     "status": "completed"
    },
    "tags": []
   },
   "outputs": [],
   "source": [
    "order_Per_ner=order_ent[\"PERSON-nerenglish\"]\n",
    "order_ORG_ner=order_ent[\"ORG-nerenglish\"]\n",
    "order_other_onto=order_ent[\"Other_name-nerenglish\"]\n",
    "order_loc_ner=order_ent[\"LOC-nerenglish\"]"
   ]
  },
  {
   "cell_type": "code",
   "execution_count": 26,
   "id": "e66432d1",
   "metadata": {
    "execution": {
     "iopub.execute_input": "2022-06-28T18:27:44.014761Z",
     "iopub.status.busy": "2022-06-28T18:27:44.013673Z",
     "iopub.status.idle": "2022-06-28T18:27:44.020680Z",
     "shell.execute_reply": "2022-06-28T18:27:44.019885Z"
    },
    "papermill": {
     "duration": 0.02014,
     "end_time": "2022-06-28T18:27:44.022523",
     "exception": false,
     "start_time": "2022-06-28T18:27:44.002383",
     "status": "completed"
    },
    "tags": []
   },
   "outputs": [
    {
     "data": {
      "text/plain": [
       "'Bureau of Refugees , Freedmen Abandoned Lands , Headquarters Assistant Commissioner , State of North Carolina , Raleigh , N.C. , May 8th , 1866 . Circular No . 4 The attention of Officers Agents of Bureau called following resolution of House of Representatives : THIRTYNINTH CONGRESSFIRST SESSION . Congress of United States . In House of Representatives , May 1 , 1866 . Mr. KELLEY submitted following , adopted : WHEREAS , It reported citizens of Alabama , formal memorial two Houses of Congress , many of people of mountain districts of State suffering want of adequate supplies of food , considerable numbers of died of actual starvation ; therefore , Be resolved , That President requested instruct proper officers of Bureau of Refugees Freedman enquire condition of said districts , districts of late insurgent States , suffering may said exist , relieve people thereof , provide corn seed planting crop sufficient annual supply of family requiring relief . ATTEST : Signed EDWARD McPHERSON , Clerk . II . In order carry purpose of resolution , reports forwarded without delay headquarters , specifying 1st . The number of persons county needing supplies of food prevent actual suffering , classifying accordance enclosed Form , No . 1 . 2d . The names of persons need corn , seed planting , according enclosed Form No . 2 . III . The season already far advanced , relief contemplated must furnished early possible . The information required therefore obtained forwarded , even exclusion of business . E. WHITTLESEY . Brevt . Brig . Genl . Assit Commr . OFFICIAL : Assistant Adjutant General . It hoped Sheriffs of every county State aid officers of Freedmens Bureau procuring information sought Circular . JONATHAN WORTH , Governor of North Carolina .'"
      ]
     },
     "execution_count": 26,
     "metadata": {},
     "output_type": "execute_result"
    }
   ],
   "source": [
    "order_text[2]"
   ]
  },
  {
   "cell_type": "code",
   "execution_count": 27,
   "id": "2ce43010",
   "metadata": {
    "execution": {
     "iopub.execute_input": "2022-06-28T18:27:44.046013Z",
     "iopub.status.busy": "2022-06-28T18:27:44.044889Z",
     "iopub.status.idle": "2022-06-28T18:27:44.053106Z",
     "shell.execute_reply": "2022-06-28T18:27:44.052281Z"
    },
    "papermill": {
     "duration": 0.021395,
     "end_time": "2022-06-28T18:27:44.055024",
     "exception": false,
     "start_time": "2022-06-28T18:27:44.033629",
     "status": "completed"
    },
    "tags": []
   },
   "outputs": [
    {
     "data": {
      "text/plain": [
       "\"['JONATHAN WORTH']\""
      ]
     },
     "execution_count": 27,
     "metadata": {},
     "output_type": "execute_result"
    }
   ],
   "source": [
    "order_Per_ner[2]"
   ]
  },
  {
   "cell_type": "code",
   "execution_count": 28,
   "id": "e8260369",
   "metadata": {
    "execution": {
     "iopub.execute_input": "2022-06-28T18:27:44.077912Z",
     "iopub.status.busy": "2022-06-28T18:27:44.077247Z",
     "iopub.status.idle": "2022-06-28T18:27:44.083753Z",
     "shell.execute_reply": "2022-06-28T18:27:44.082949Z"
    },
    "papermill": {
     "duration": 0.019867,
     "end_time": "2022-06-28T18:27:44.085573",
     "exception": false,
     "start_time": "2022-06-28T18:27:44.065706",
     "status": "completed"
    },
    "tags": []
   },
   "outputs": [
    {
     "data": {
      "text/plain": [
       "\"['Officers Agents of Bureau', 'House of Representatives', 'Houses of Congress', 'Bureau of Refugees Freedman', 'Freedmens Bureau']\""
      ]
     },
     "execution_count": 28,
     "metadata": {},
     "output_type": "execute_result"
    }
   ],
   "source": [
    "order_ORG_ner[2]"
   ]
  },
  {
   "cell_type": "markdown",
   "id": "8fe622b4",
   "metadata": {
    "papermill": {
     "duration": 0.009722,
     "end_time": "2022-06-28T18:27:44.105553",
     "exception": false,
     "start_time": "2022-06-28T18:27:44.095831",
     "status": "completed"
    },
    "tags": []
   },
   "source": [
    "**names of ner english are catastrophic**"
   ]
  },
  {
   "cell_type": "markdown",
   "id": "181fc00d",
   "metadata": {
    "papermill": {
     "duration": 0.010002,
     "end_time": "2022-06-28T18:27:44.125679",
     "exception": false,
     "start_time": "2022-06-28T18:27:44.115677",
     "status": "completed"
    },
    "tags": []
   },
   "source": [
    "****"
   ]
  },
  {
   "cell_type": "markdown",
   "id": "0b738cf7",
   "metadata": {
    "papermill": {
     "duration": 0.010527,
     "end_time": "2022-06-28T18:27:44.146477",
     "exception": false,
     "start_time": "2022-06-28T18:27:44.135950",
     "status": "completed"
    },
    "tags": []
   },
   "source": [
    "# Order Ner english large "
   ]
  },
  {
   "cell_type": "code",
   "execution_count": null,
   "id": "88ff41a3",
   "metadata": {
    "papermill": {
     "duration": 0.010223,
     "end_time": "2022-06-28T18:27:44.167139",
     "exception": false,
     "start_time": "2022-06-28T18:27:44.156916",
     "status": "completed"
    },
    "tags": []
   },
   "outputs": [],
   "source": []
  }
 ],
 "metadata": {
  "kernelspec": {
   "display_name": "Python 3",
   "language": "python",
   "name": "python3"
  },
  "language_info": {
   "codemirror_mode": {
    "name": "ipython",
    "version": 3
   },
   "file_extension": ".py",
   "mimetype": "text/x-python",
   "name": "python",
   "nbconvert_exporter": "python",
   "pygments_lexer": "ipython3",
   "version": "3.7.12"
  },
  "papermill": {
   "default_parameters": {},
   "duration": 28.719763,
   "end_time": "2022-06-28T18:27:47.207548",
   "environment_variables": {},
   "exception": null,
   "input_path": "__notebook__.ipynb",
   "output_path": "__notebook__.ipynb",
   "parameters": {},
   "start_time": "2022-06-28T18:27:18.487785",
   "version": "2.3.4"
  }
 },
 "nbformat": 4,
 "nbformat_minor": 5
}
