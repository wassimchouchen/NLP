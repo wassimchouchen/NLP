{
 "cells": [
  {
   "cell_type": "code",
   "execution_count": 1,
   "id": "e79cc65e",
   "metadata": {
    "_cell_guid": "b1076dfc-b9ad-4769-8c92-a6c4dae69d19",
    "_uuid": "8f2839f25d086af736a60e9eeb907d3b93b6e0e5",
    "execution": {
     "iopub.execute_input": "2022-06-28T19:49:12.621810Z",
     "iopub.status.busy": "2022-06-28T19:49:12.621345Z",
     "iopub.status.idle": "2022-06-28T19:49:24.311043Z",
     "shell.execute_reply": "2022-06-28T19:49:24.309912Z"
    },
    "papermill": {
     "duration": 11.712431,
     "end_time": "2022-06-28T19:49:24.313909",
     "exception": false,
     "start_time": "2022-06-28T19:49:12.601478",
     "status": "completed"
    },
    "tags": []
   },
   "outputs": [],
   "source": [
    "import numpy as np\n",
    "import pandas as pd \n",
    "import seaborn as sns\n",
    "import matplotlib.pyplot as plt \n",
    "import matplotlib.style as stl \n",
    "from tensorflow import keras \n",
    "from keras.preprocessing.text import Tokenizer\n",
    "from nltk.corpus import stopwords\n",
    "import string\n",
    "from tensorflow.keras.models import Sequential,Model\n",
    "from tensorflow.keras.layers import Dense, LSTM, Embedding,Dropout,SpatialDropout1D,Conv1D,MaxPooling1D,GRU,BatchNormalization\n",
    "import warnings\n",
    "warnings.filterwarnings('ignore')\n",
    "stl.use('ggplot')\n",
    "from tqdm import tqdm\n",
    "import string\n",
    "from nltk.corpus import stopwords\n",
    "from nltk.tokenize import word_tokenize\n",
    "from nltk.stem import WordNetLemmatizer\n",
    "from nltk.stem.snowball import SnowballStemmer\n",
    "import regex as re\n",
    "import time\n",
    "import pickle"
   ]
  },
  {
   "cell_type": "code",
   "execution_count": 2,
   "id": "75d9b2f8",
   "metadata": {
    "execution": {
     "iopub.execute_input": "2022-06-28T19:49:24.349871Z",
     "iopub.status.busy": "2022-06-28T19:49:24.349181Z",
     "iopub.status.idle": "2022-06-28T19:49:24.699598Z",
     "shell.execute_reply": "2022-06-28T19:49:24.698589Z"
    },
    "papermill": {
     "duration": 0.371512,
     "end_time": "2022-06-28T19:49:24.702326",
     "exception": false,
     "start_time": "2022-06-28T19:49:24.330814",
     "status": "completed"
    },
    "tags": []
   },
   "outputs": [],
   "source": [
    "index_ent=pd.read_csv(\"../input/all-csv/index_df (1).csv\")"
   ]
  },
  {
   "cell_type": "code",
   "execution_count": 3,
   "id": "3e442143",
   "metadata": {
    "execution": {
     "iopub.execute_input": "2022-06-28T19:49:24.740436Z",
     "iopub.status.busy": "2022-06-28T19:49:24.739478Z",
     "iopub.status.idle": "2022-06-28T19:49:24.762335Z",
     "shell.execute_reply": "2022-06-28T19:49:24.761305Z"
    },
    "papermill": {
     "duration": 0.043905,
     "end_time": "2022-06-28T19:49:24.764818",
     "exception": false,
     "start_time": "2022-06-28T19:49:24.720913",
     "status": "completed"
    },
    "tags": []
   },
   "outputs": [
    {
     "data": {
      "text/html": [
       "<div>\n",
       "<style scoped>\n",
       "    .dataframe tbody tr th:only-of-type {\n",
       "        vertical-align: middle;\n",
       "    }\n",
       "\n",
       "    .dataframe tbody tr th {\n",
       "        vertical-align: top;\n",
       "    }\n",
       "\n",
       "    .dataframe thead th {\n",
       "        text-align: right;\n",
       "    }\n",
       "</style>\n",
       "<table border=\"1\" class=\"dataframe\">\n",
       "  <thead>\n",
       "    <tr style=\"text-align: right;\">\n",
       "      <th></th>\n",
       "      <th>index_text</th>\n",
       "      <th>PERSON-nerenglarge</th>\n",
       "      <th>LOC-nerenglarge</th>\n",
       "      <th>ORG-nerenglarge</th>\n",
       "      <th>text</th>\n",
       "    </tr>\n",
       "  </thead>\n",
       "  <tbody>\n",
       "    <tr>\n",
       "      <th>0</th>\n",
       "      <td>NAME INDEX TO VOLUME 7 OF LETTERS SENT , JULY ...</td>\n",
       "      <td>['Abbott', 'Lyman', 'Adams', 'John Q', 'Allen'...</td>\n",
       "      <td>[]</td>\n",
       "      <td>[]</td>\n",
       "      <td>NAME INDEX TO VOLUME 7 OF LETTERS SENT , JULY ...</td>\n",
       "    </tr>\n",
       "    <tr>\n",
       "      <th>1</th>\n",
       "      <td>Boyd , J. F. Col. 19 , 41 Boyden , James 116 B...</td>\n",
       "      <td>['Boyd', 'J. F. Col.', 'Boyden', 'James', 'Bra...</td>\n",
       "      <td>[]</td>\n",
       "      <td>['Henry Corp']</td>\n",
       "      <td>Boyd , J. F. Col. 19 , 41 Boyden , James 116 B...</td>\n",
       "    </tr>\n",
       "    <tr>\n",
       "      <th>2</th>\n",
       "      <td>Chur , J. F. Capt . 139 Cilley , Clinton A. Ma...</td>\n",
       "      <td>['Chur', 'J. F.', 'Cilley', 'Clinton A. Maj', ...</td>\n",
       "      <td>[]</td>\n",
       "      <td>['Citizens']</td>\n",
       "      <td>Chur , J. F. Capt . 139 Cilley , Clinton A. Ma...</td>\n",
       "    </tr>\n",
       "    <tr>\n",
       "      <th>3</th>\n",
       "      <td>Elijah 176 Eliza 172 Emery , Charles Capt . 3 ...</td>\n",
       "      <td>['Elijah', 'Eliza', 'Emery', 'Charles', 'Edwin...</td>\n",
       "      <td>[]</td>\n",
       "      <td>[]</td>\n",
       "      <td>Elijah 176 Eliza 172 Emery , Charles Capt . 3 ...</td>\n",
       "    </tr>\n",
       "    <tr>\n",
       "      <th>4</th>\n",
       "      <td>Hale , Capt . 51 Hambrich , P.R . Capt . 9 Han...</td>\n",
       "      <td>['Hale', 'Hambrich', 'Hand', 'Harkness', 'E.J'...</td>\n",
       "      <td>['N.C']</td>\n",
       "      <td>[]</td>\n",
       "      <td>Hale , Capt . 51 Hambrich , P.R . Capt . 9 Han...</td>\n",
       "    </tr>\n",
       "  </tbody>\n",
       "</table>\n",
       "</div>"
      ],
      "text/plain": [
       "                                          index_text  \\\n",
       "0  NAME INDEX TO VOLUME 7 OF LETTERS SENT , JULY ...   \n",
       "1  Boyd , J. F. Col. 19 , 41 Boyden , James 116 B...   \n",
       "2  Chur , J. F. Capt . 139 Cilley , Clinton A. Ma...   \n",
       "3  Elijah 176 Eliza 172 Emery , Charles Capt . 3 ...   \n",
       "4  Hale , Capt . 51 Hambrich , P.R . Capt . 9 Han...   \n",
       "\n",
       "                                  PERSON-nerenglarge LOC-nerenglarge  \\\n",
       "0  ['Abbott', 'Lyman', 'Adams', 'John Q', 'Allen'...              []   \n",
       "1  ['Boyd', 'J. F. Col.', 'Boyden', 'James', 'Bra...              []   \n",
       "2  ['Chur', 'J. F.', 'Cilley', 'Clinton A. Maj', ...              []   \n",
       "3  ['Elijah', 'Eliza', 'Emery', 'Charles', 'Edwin...              []   \n",
       "4  ['Hale', 'Hambrich', 'Hand', 'Harkness', 'E.J'...         ['N.C']   \n",
       "\n",
       "  ORG-nerenglarge                                               text  \n",
       "0              []  NAME INDEX TO VOLUME 7 OF LETTERS SENT , JULY ...  \n",
       "1  ['Henry Corp']  Boyd , J. F. Col. 19 , 41 Boyden , James 116 B...  \n",
       "2    ['Citizens']  Chur , J. F. Capt . 139 Cilley , Clinton A. Ma...  \n",
       "3              []  Elijah 176 Eliza 172 Emery , Charles Capt . 3 ...  \n",
       "4              []  Hale , Capt . 51 Hambrich , P.R . Capt . 9 Han...  "
      ]
     },
     "execution_count": 3,
     "metadata": {},
     "output_type": "execute_result"
    }
   ],
   "source": [
    "index_ent.head()"
   ]
  },
  {
   "cell_type": "code",
   "execution_count": 4,
   "id": "7ff5438f",
   "metadata": {
    "execution": {
     "iopub.execute_input": "2022-06-28T19:49:24.801296Z",
     "iopub.status.busy": "2022-06-28T19:49:24.800545Z",
     "iopub.status.idle": "2022-06-28T19:49:24.809077Z",
     "shell.execute_reply": "2022-06-28T19:49:24.808261Z"
    },
    "papermill": {
     "duration": 0.029795,
     "end_time": "2022-06-28T19:49:24.811597",
     "exception": false,
     "start_time": "2022-06-28T19:49:24.781802",
     "status": "completed"
    },
    "tags": []
   },
   "outputs": [],
   "source": [
    "index_text=index_ent[\"index_text\"]\n",
    "index_names=index_ent[\"PERSON-nerenglarge\"]\n",
    "index_loc=index_ent[\"LOC-nerenglarge\"]\n",
    "index_org=index_ent[\"ORG-nerenglarge\"]"
   ]
  },
  {
   "cell_type": "code",
   "execution_count": 5,
   "id": "9e482e2e",
   "metadata": {
    "execution": {
     "iopub.execute_input": "2022-06-28T19:49:24.847864Z",
     "iopub.status.busy": "2022-06-28T19:49:24.847166Z",
     "iopub.status.idle": "2022-06-28T19:49:24.852996Z",
     "shell.execute_reply": "2022-06-28T19:49:24.852274Z"
    },
    "papermill": {
     "duration": 0.026586,
     "end_time": "2022-06-28T19:49:24.855150",
     "exception": false,
     "start_time": "2022-06-28T19:49:24.828564",
     "status": "completed"
    },
    "tags": []
   },
   "outputs": [
    {
     "data": {
      "text/plain": [
       "'1865 . London Manger 14 . London Sarah E 16 . Lippett John E 18 . Lippett W.H 18 . 23 . 33 . Laslo J.G 19 . Lehman R.F 20 . 44 . Lecraft Mary 21 . Lazarus Julia 22 . Lippett W. 23 . 33 . Lecraft Benjamin 36 . 59 . Lewis K.H 30 . Lewis W.F 30 . Levy T.J. 31 . Lane H.B 37 . Leach J A 40 . 45 . Leavy J.P 50 . Lord Fredk 52 . Littlejohn W.H 53 . Leigh J.W 66 . Low T.B 66 .'"
      ]
     },
     "execution_count": 5,
     "metadata": {},
     "output_type": "execute_result"
    }
   ],
   "source": [
    "index_text[150]"
   ]
  },
  {
   "cell_type": "code",
   "execution_count": 6,
   "id": "76a83d25",
   "metadata": {
    "execution": {
     "iopub.execute_input": "2022-06-28T19:49:24.890968Z",
     "iopub.status.busy": "2022-06-28T19:49:24.890312Z",
     "iopub.status.idle": "2022-06-28T19:49:24.897416Z",
     "shell.execute_reply": "2022-06-28T19:49:24.896406Z"
    },
    "papermill": {
     "duration": 0.027485,
     "end_time": "2022-06-28T19:49:24.899487",
     "exception": false,
     "start_time": "2022-06-28T19:49:24.872002",
     "status": "completed"
    },
    "tags": []
   },
   "outputs": [
    {
     "data": {
      "text/plain": [
       "\"['London Sarah E', 'Lippett John E', 'Lippett W.H', 'Lehman R.F', 'Lazarus Julia', 'Lippett W', 'Lecraft Benjamin', 'Lewis K.H', 'Lewis W.F', 'Levy T.J', 'Lane H.B', 'Leach J A', 'Leavy J.P', 'Lord Fredk', 'Littlejohn W.H', 'Leigh J.W', 'Low T.B']\""
      ]
     },
     "execution_count": 6,
     "metadata": {},
     "output_type": "execute_result"
    }
   ],
   "source": [
    "index_names[150]"
   ]
  },
  {
   "cell_type": "code",
   "execution_count": 7,
   "id": "0c290ff7",
   "metadata": {
    "execution": {
     "iopub.execute_input": "2022-06-28T19:49:24.935482Z",
     "iopub.status.busy": "2022-06-28T19:49:24.934838Z",
     "iopub.status.idle": "2022-06-28T19:49:24.941601Z",
     "shell.execute_reply": "2022-06-28T19:49:24.940472Z"
    },
    "papermill": {
     "duration": 0.027288,
     "end_time": "2022-06-28T19:49:24.943665",
     "exception": false,
     "start_time": "2022-06-28T19:49:24.916377",
     "status": "completed"
    },
    "tags": []
   },
   "outputs": [
    {
     "data": {
      "text/plain": [
       "'298 WHEN RECEIVED . NAME OF WRITER . DATE AND PURPORT OF LETTER . 299 WHEN RECEIVED . NAME OF WRITER . DATE AND PURPORT OF LETTER . 1.3.70 . 1 Missions , Presby Home . Rev . E. F. Hatfield Secretary per . W. T. M. New York City. , Dec. 30th 1869 . States reply , Mr. Swan , teacher due three months salary , 60 withheld case regard purchase of books investigated . 1.8.70 . 2 Moss , R. C. Teacher . Bladensburg , Md . Jany 6th 1870 . States 81 70100 still due School house lot : names of trustees Darius Bowman , Uriah Wallace , Davis Greenleaf , Cyrus Johnston . 1 , 13 , 70 3 Morris Susan , Teacher . Poolsville , Montgomery Co. Md . January 3 , 1870 . Requests check amount due sent Mr. Adams . 1 , 17 , 70 4 Miller Lewis E. Teacher Lewistown , Frederick Co. Md . Pock Mark Jany 15th 70 , States opening of school Lewistown , forwards compliance instructions Baltimore Association . Will report , instructed report made . 1 , 18 , 70 , 5 Moses Rebecca , Teacher Point of Rocks , Fdk . Co. Md . P. M. Jany 17 , 70 Desires sent six Primary Geographies bill . 1 , 21 , 70 6 Moss R. C. Teacher Bladensburg , Prince Georges Co. Md . Acknowledges receipt of check 15.00'"
      ]
     },
     "execution_count": 7,
     "metadata": {},
     "output_type": "execute_result"
    }
   ],
   "source": [
    "index_text[1500]"
   ]
  },
  {
   "cell_type": "code",
   "execution_count": 8,
   "id": "ab598595",
   "metadata": {
    "execution": {
     "iopub.execute_input": "2022-06-28T19:49:24.980131Z",
     "iopub.status.busy": "2022-06-28T19:49:24.979516Z",
     "iopub.status.idle": "2022-06-28T19:49:24.986232Z",
     "shell.execute_reply": "2022-06-28T19:49:24.985318Z"
    },
    "papermill": {
     "duration": 0.027563,
     "end_time": "2022-06-28T19:49:24.988344",
     "exception": false,
     "start_time": "2022-06-28T19:49:24.960781",
     "status": "completed"
    },
    "tags": []
   },
   "outputs": [
    {
     "data": {
      "text/plain": [
       "\"['E. F. Hatfield', 'Swan', 'Darius Bowman', 'Uriah Wallace', 'Davis Greenleaf', 'Cyrus Johnston', 'Morris Susan', 'Miller Lewis E.', 'Pock Mark', 'Moses Rebecca', 'Moss R', 'C.']\""
      ]
     },
     "execution_count": 8,
     "metadata": {},
     "output_type": "execute_result"
    }
   ],
   "source": [
    "index_names[1500]"
   ]
  },
  {
   "cell_type": "code",
   "execution_count": 9,
   "id": "6848f464",
   "metadata": {
    "execution": {
     "iopub.execute_input": "2022-06-28T19:49:25.025042Z",
     "iopub.status.busy": "2022-06-28T19:49:25.024389Z",
     "iopub.status.idle": "2022-06-28T19:49:25.031576Z",
     "shell.execute_reply": "2022-06-28T19:49:25.030256Z"
    },
    "papermill": {
     "duration": 0.02836,
     "end_time": "2022-06-28T19:49:25.033908",
     "exception": false,
     "start_time": "2022-06-28T19:49:25.005548",
     "status": "completed"
    },
    "tags": []
   },
   "outputs": [
    {
     "data": {
      "text/plain": [
       "'Jenny 90 . Johnson Richard 10 Jones Andrew 12 Johnston Thos . P. A.N.U . 16 , 20 , 75 Jordan Alice 37 , 53 Jordan Vina 51 , 54 , 55 Johnston Tho.P . A.N.U . 65 , 74 95 , 169 , 199 , 200 , 204 , 205 , 281 Johnston Hugh 107 , 146 Jane 129 Jennings Mr 184 , 185 Johnston David 219 Johnson Leah 228 Jeremia Parthe 253'"
      ]
     },
     "execution_count": 9,
     "metadata": {},
     "output_type": "execute_result"
    }
   ],
   "source": [
    "index_text[5000]"
   ]
  },
  {
   "cell_type": "code",
   "execution_count": 10,
   "id": "fb7f6a1e",
   "metadata": {
    "execution": {
     "iopub.execute_input": "2022-06-28T19:49:25.071088Z",
     "iopub.status.busy": "2022-06-28T19:49:25.070466Z",
     "iopub.status.idle": "2022-06-28T19:49:25.077331Z",
     "shell.execute_reply": "2022-06-28T19:49:25.076208Z"
    },
    "papermill": {
     "duration": 0.028571,
     "end_time": "2022-06-28T19:49:25.080057",
     "exception": false,
     "start_time": "2022-06-28T19:49:25.051486",
     "status": "completed"
    },
    "tags": []
   },
   "outputs": [
    {
     "data": {
      "text/plain": [
       "\"['Johnson Richard', 'Jones Andrew', 'Johnston Thos', 'Jordan Alice', 'Jordan Vina', 'Johnston Hugh', 'Jane', 'Jennings Mr', 'Johnston David', 'Johnson Leah', 'Jeremia Parthe']\""
      ]
     },
     "execution_count": 10,
     "metadata": {},
     "output_type": "execute_result"
    }
   ],
   "source": [
    "index_names[5000]"
   ]
  },
  {
   "cell_type": "code",
   "execution_count": 11,
   "id": "db17b340",
   "metadata": {
    "execution": {
     "iopub.execute_input": "2022-06-28T19:49:25.118001Z",
     "iopub.status.busy": "2022-06-28T19:49:25.116812Z",
     "iopub.status.idle": "2022-06-28T19:49:25.125073Z",
     "shell.execute_reply": "2022-06-28T19:49:25.124311Z"
    },
    "papermill": {
     "duration": 0.029839,
     "end_time": "2022-06-28T19:49:25.127686",
     "exception": false,
     "start_time": "2022-06-28T19:49:25.097847",
     "status": "completed"
    },
    "tags": []
   },
   "outputs": [
    {
     "data": {
      "text/plain": [
       "0       ['Abbott', 'Lyman', 'Adams', 'John Q', 'Allen'...\n",
       "1       ['Boyd', 'J. F. Col.', 'Boyden', 'James', 'Bra...\n",
       "2       ['Chur', 'J. F.', 'Cilley', 'Clinton A. Maj', ...\n",
       "3       ['Elijah', 'Eliza', 'Emery', 'Charles', 'Edwin...\n",
       "4       ['Hale', 'Hambrich', 'Hand', 'Harkness', 'E.J'...\n",
       "                              ...                        \n",
       "5417                                                   []\n",
       "5418    ['Wm . F. Richardson', 'Hattie M. Richardson',...\n",
       "5419    ['Hattie L. Newcomb', 'Mutch Opelika', 'Thomas...\n",
       "5420    ['Mutch Opelika', 'Thomas H. Whitly', 'Emma A ...\n",
       "5421    ['James Nichols Stevenson', 'O . M. Waring', '...\n",
       "Name: PERSON-nerenglarge, Length: 5422, dtype: object"
      ]
     },
     "execution_count": 11,
     "metadata": {},
     "output_type": "execute_result"
    }
   ],
   "source": [
    "index_names"
   ]
  },
  {
   "cell_type": "code",
   "execution_count": 12,
   "id": "fb81d2ba",
   "metadata": {
    "execution": {
     "iopub.execute_input": "2022-06-28T19:49:25.173192Z",
     "iopub.status.busy": "2022-06-28T19:49:25.172481Z",
     "iopub.status.idle": "2022-06-28T19:49:25.344472Z",
     "shell.execute_reply": "2022-06-28T19:49:25.343164Z"
    },
    "papermill": {
     "duration": 0.194402,
     "end_time": "2022-06-28T19:49:25.346957",
     "exception": false,
     "start_time": "2022-06-28T19:49:25.152555",
     "status": "completed"
    },
    "tags": []
   },
   "outputs": [
    {
     "data": {
      "text/plain": [
       "(1298703, 0)"
      ]
     },
     "execution_count": 12,
     "metadata": {},
     "output_type": "execute_result"
    }
   ],
   "source": [
    "PL=[]\n",
    "empty=0\n",
    "for i in index_names:\n",
    "    for j in i:\n",
    "        PL.append(j)\n",
    "for i in index_names:\n",
    "    if i==[]:\n",
    "        empty=empty+1\n",
    "len(PL), empty"
   ]
  },
  {
   "cell_type": "markdown",
   "id": "7557d12f",
   "metadata": {
    "papermill": {
     "duration": 0.017533,
     "end_time": "2022-06-28T19:49:25.382211",
     "exception": false,
     "start_time": "2022-06-28T19:49:25.364678",
     "status": "completed"
    },
    "tags": []
   },
   "source": [
    "# Names from Index are Perfect "
   ]
  },
  {
   "cell_type": "markdown",
   "id": "25748980",
   "metadata": {
    "papermill": {
     "duration": 0.017627,
     "end_time": "2022-06-28T19:49:25.417757",
     "exception": false,
     "start_time": "2022-06-28T19:49:25.400130",
     "status": "completed"
    },
    "tags": []
   },
   "source": [
    "****"
   ]
  },
  {
   "cell_type": "markdown",
   "id": "ac78c3cd",
   "metadata": {
    "papermill": {
     "duration": 0.017522,
     "end_time": "2022-06-28T19:49:25.453160",
     "exception": false,
     "start_time": "2022-06-28T19:49:25.435638",
     "status": "completed"
    },
    "tags": []
   },
   "source": [
    "# Order ontonotes"
   ]
  },
  {
   "cell_type": "code",
   "execution_count": 13,
   "id": "6b9507d7",
   "metadata": {
    "execution": {
     "iopub.execute_input": "2022-06-28T19:49:25.491006Z",
     "iopub.status.busy": "2022-06-28T19:49:25.490381Z",
     "iopub.status.idle": "2022-06-28T19:49:25.842129Z",
     "shell.execute_reply": "2022-06-28T19:49:25.841235Z"
    },
    "papermill": {
     "duration": 0.373679,
     "end_time": "2022-06-28T19:49:25.844621",
     "exception": false,
     "start_time": "2022-06-28T19:49:25.470942",
     "status": "completed"
    },
    "tags": []
   },
   "outputs": [],
   "source": [
    "order_ent=pd.read_csv(\"../input/all-csv/to_compare_result_order.csv\")"
   ]
  },
  {
   "cell_type": "code",
   "execution_count": 14,
   "id": "4a2799a5",
   "metadata": {
    "execution": {
     "iopub.execute_input": "2022-06-28T19:49:25.883032Z",
     "iopub.status.busy": "2022-06-28T19:49:25.882451Z",
     "iopub.status.idle": "2022-06-28T19:49:25.902144Z",
     "shell.execute_reply": "2022-06-28T19:49:25.901040Z"
    },
    "papermill": {
     "duration": 0.042029,
     "end_time": "2022-06-28T19:49:25.904835",
     "exception": false,
     "start_time": "2022-06-28T19:49:25.862806",
     "status": "completed"
    },
    "tags": []
   },
   "outputs": [
    {
     "data": {
      "text/html": [
       "<div>\n",
       "<style scoped>\n",
       "    .dataframe tbody tr th:only-of-type {\n",
       "        vertical-align: middle;\n",
       "    }\n",
       "\n",
       "    .dataframe tbody tr th {\n",
       "        vertical-align: top;\n",
       "    }\n",
       "\n",
       "    .dataframe thead th {\n",
       "        text-align: right;\n",
       "    }\n",
       "</style>\n",
       "<table border=\"1\" class=\"dataframe\">\n",
       "  <thead>\n",
       "    <tr style=\"text-align: right;\">\n",
       "      <th></th>\n",
       "      <th>order_text</th>\n",
       "      <th>PERSON-ontonotes</th>\n",
       "      <th>GPE-ontonotes</th>\n",
       "      <th>ORG-ontonotes</th>\n",
       "      <th>Date-ontonotes</th>\n",
       "      <th>LOC-ontonotes</th>\n",
       "      <th>Building-ontonotes</th>\n",
       "      <th>postDate-ontonotes</th>\n",
       "      <th>standard_date-ontonotes</th>\n",
       "      <th>PERSON-nerenglarge</th>\n",
       "      <th>LOC-nerenglarge</th>\n",
       "      <th>ORG-nerenglarge</th>\n",
       "      <th>other_namelarge</th>\n",
       "      <th>PERSON-nerenglish</th>\n",
       "      <th>LOC-nerenglish</th>\n",
       "      <th>ORG-nerenglish</th>\n",
       "      <th>Other_name-nerenglish</th>\n",
       "    </tr>\n",
       "  </thead>\n",
       "  <tbody>\n",
       "    <tr>\n",
       "      <th>0</th>\n",
       "      <td>R G. R.R . THIS ORDER NOT TRANSFERABLE . U.S. ...</td>\n",
       "      <td>['E . Cranford', 'Lewis B. Parsons', 'Major Kn...</td>\n",
       "      <td>['Raleigh N.C', 'Warrenton N.C', 'New York']</td>\n",
       "      <td>['Samuel Gale Co .']</td>\n",
       "      <td>['Aug 6 1866', 'Aug 1866']</td>\n",
       "      <td>[]</td>\n",
       "      <td>['67487']</td>\n",
       "      <td>['6-Aug-1866']</td>\n",
       "      <td>['6-August-1866']</td>\n",
       "      <td>['Cranford', 'Lewis B. Parsons', 'Gaston R.R']</td>\n",
       "      <td>['U.S.', 'Raleigh N.C', 'Warrenton N.C', 'Rale...</td>\n",
       "      <td>['Samuel Gale Co', 'Regiment Freedman', 'Rail ...</td>\n",
       "      <td>[]</td>\n",
       "      <td>[]</td>\n",
       "      <td>['Ral', 'Gaston R.R', 'Raleigh N.C.', 'Broadwa...</td>\n",
       "      <td>['Cranford']</td>\n",
       "      <td>[]</td>\n",
       "    </tr>\n",
       "    <tr>\n",
       "      <th>1</th>\n",
       "      <td>Certified Copy of Order , Extract , within tra...</td>\n",
       "      <td>['E. Crawford']</td>\n",
       "      <td>['Raleigh N.C']</td>\n",
       "      <td>[]</td>\n",
       "      <td>['Aug 6 1866']</td>\n",
       "      <td>[]</td>\n",
       "      <td>[]</td>\n",
       "      <td>['6-Aug-1866']</td>\n",
       "      <td>['6-August-1866']</td>\n",
       "      <td>['Robinson Clinton', 'E. Crawford']</td>\n",
       "      <td>['Raleigh N.C']</td>\n",
       "      <td>[]</td>\n",
       "      <td>[]</td>\n",
       "      <td>[]</td>\n",
       "      <td>[]</td>\n",
       "      <td>[]</td>\n",
       "      <td>[]</td>\n",
       "    </tr>\n",
       "    <tr>\n",
       "      <th>2</th>\n",
       "      <td>Bureau of Refugees , Freedmen Abandoned Lands ...</td>\n",
       "      <td>['KELLEY', 'EDWARD McPHERSON', 'JONATHAN WORTH']</td>\n",
       "      <td>['Raleigh', 'N.C.', 'United States', 'Alabama'...</td>\n",
       "      <td>['Bureau of Refugees', 'House of Representativ...</td>\n",
       "      <td>['May 8th , 1866', 'May 1 , 1866', '1st']</td>\n",
       "      <td>[]</td>\n",
       "      <td>['2d', 'III']</td>\n",
       "      <td>['8-May-1866', '1-May-1866']</td>\n",
       "      <td>['8-May-1866', '1-May-1866']</td>\n",
       "      <td>['KELLEY', 'EDWARD McPHERSON', 'E. WHITTLESEY'...</td>\n",
       "      <td>['State of North Carolina', 'Raleigh', 'N.C.',...</td>\n",
       "      <td>['Bureau of Refugees , Freedmen Abandoned Land...</td>\n",
       "      <td>[]</td>\n",
       "      <td>['JONATHAN WORTH']</td>\n",
       "      <td>['Raleigh', 'N.C.', 'United States', 'Alabama'...</td>\n",
       "      <td>['Officers Agents of Bureau', 'House of Repres...</td>\n",
       "      <td>[]</td>\n",
       "    </tr>\n",
       "    <tr>\n",
       "      <th>3</th>\n",
       "      <td>HEADQUARTERS DEPARTMENT OF NORTH CAROLINA , Ra...</td>\n",
       "      <td>['Joseph E. Johnston']</td>\n",
       "      <td>['Raleigh', 'North Carolina']</td>\n",
       "      <td>['HEADQUARTERS DEPARTMENT OF NORTH CAROLINA', ...</td>\n",
       "      <td>['January 12th , 1866']</td>\n",
       "      <td>[]</td>\n",
       "      <td>['4', 'II', 'III']</td>\n",
       "      <td>['12-January-1866']</td>\n",
       "      <td>['12-January-1866']</td>\n",
       "      <td>['Joseph E. Johnston']</td>\n",
       "      <td>['NORTH CAROLINA', 'Raleigh', 'North Carolina'...</td>\n",
       "      <td>['Government']</td>\n",
       "      <td>[]</td>\n",
       "      <td>['Joseph E. Johnston']</td>\n",
       "      <td>['NORTH CAROLINA', 'Raleigh', 'North Carolina']</td>\n",
       "      <td>[]</td>\n",
       "      <td>[]</td>\n",
       "    </tr>\n",
       "    <tr>\n",
       "      <th>4</th>\n",
       "      <td>IV . Animals sold counties collected unless wo...</td>\n",
       "      <td>['J A . Campbell', 'James H Anderson']</td>\n",
       "      <td>['U.S.']</td>\n",
       "      <td>['Headquarters', 'Government']</td>\n",
       "      <td>['first day of February , proximo']</td>\n",
       "      <td>[]</td>\n",
       "      <td>['VI']</td>\n",
       "      <td>[]</td>\n",
       "      <td>[]</td>\n",
       "      <td>['J A . Campbell', 'James H Anderson']</td>\n",
       "      <td>['U.S.', 'U.S. C.S', 'C.S']</td>\n",
       "      <td>['Government']</td>\n",
       "      <td>[]</td>\n",
       "      <td>['James H Anderson']</td>\n",
       "      <td>['U.S.']</td>\n",
       "      <td>[]</td>\n",
       "      <td>['C.S']</td>\n",
       "    </tr>\n",
       "  </tbody>\n",
       "</table>\n",
       "</div>"
      ],
      "text/plain": [
       "                                          order_text  \\\n",
       "0  R G. R.R . THIS ORDER NOT TRANSFERABLE . U.S. ...   \n",
       "1  Certified Copy of Order , Extract , within tra...   \n",
       "2  Bureau of Refugees , Freedmen Abandoned Lands ...   \n",
       "3  HEADQUARTERS DEPARTMENT OF NORTH CAROLINA , Ra...   \n",
       "4  IV . Animals sold counties collected unless wo...   \n",
       "\n",
       "                                    PERSON-ontonotes  \\\n",
       "0  ['E . Cranford', 'Lewis B. Parsons', 'Major Kn...   \n",
       "1                                    ['E. Crawford']   \n",
       "2   ['KELLEY', 'EDWARD McPHERSON', 'JONATHAN WORTH']   \n",
       "3                             ['Joseph E. Johnston']   \n",
       "4             ['J A . Campbell', 'James H Anderson']   \n",
       "\n",
       "                                       GPE-ontonotes  \\\n",
       "0       ['Raleigh N.C', 'Warrenton N.C', 'New York']   \n",
       "1                                    ['Raleigh N.C']   \n",
       "2  ['Raleigh', 'N.C.', 'United States', 'Alabama'...   \n",
       "3                      ['Raleigh', 'North Carolina']   \n",
       "4                                           ['U.S.']   \n",
       "\n",
       "                                       ORG-ontonotes  \\\n",
       "0                               ['Samuel Gale Co .']   \n",
       "1                                                 []   \n",
       "2  ['Bureau of Refugees', 'House of Representativ...   \n",
       "3  ['HEADQUARTERS DEPARTMENT OF NORTH CAROLINA', ...   \n",
       "4                     ['Headquarters', 'Government']   \n",
       "\n",
       "                              Date-ontonotes LOC-ontonotes  \\\n",
       "0                 ['Aug 6 1866', 'Aug 1866']            []   \n",
       "1                             ['Aug 6 1866']            []   \n",
       "2  ['May 8th , 1866', 'May 1 , 1866', '1st']            []   \n",
       "3                    ['January 12th , 1866']            []   \n",
       "4        ['first day of February , proximo']            []   \n",
       "\n",
       "   Building-ontonotes            postDate-ontonotes  \\\n",
       "0           ['67487']                ['6-Aug-1866']   \n",
       "1                  []                ['6-Aug-1866']   \n",
       "2       ['2d', 'III']  ['8-May-1866', '1-May-1866']   \n",
       "3  ['4', 'II', 'III']           ['12-January-1866']   \n",
       "4              ['VI']                            []   \n",
       "\n",
       "        standard_date-ontonotes  \\\n",
       "0             ['6-August-1866']   \n",
       "1             ['6-August-1866']   \n",
       "2  ['8-May-1866', '1-May-1866']   \n",
       "3           ['12-January-1866']   \n",
       "4                            []   \n",
       "\n",
       "                                  PERSON-nerenglarge  \\\n",
       "0     ['Cranford', 'Lewis B. Parsons', 'Gaston R.R']   \n",
       "1                ['Robinson Clinton', 'E. Crawford']   \n",
       "2  ['KELLEY', 'EDWARD McPHERSON', 'E. WHITTLESEY'...   \n",
       "3                             ['Joseph E. Johnston']   \n",
       "4             ['J A . Campbell', 'James H Anderson']   \n",
       "\n",
       "                                     LOC-nerenglarge  \\\n",
       "0  ['U.S.', 'Raleigh N.C', 'Warrenton N.C', 'Rale...   \n",
       "1                                    ['Raleigh N.C']   \n",
       "2  ['State of North Carolina', 'Raleigh', 'N.C.',...   \n",
       "3  ['NORTH CAROLINA', 'Raleigh', 'North Carolina'...   \n",
       "4                        ['U.S.', 'U.S. C.S', 'C.S']   \n",
       "\n",
       "                                     ORG-nerenglarge other_namelarge  \\\n",
       "0  ['Samuel Gale Co', 'Regiment Freedman', 'Rail ...              []   \n",
       "1                                                 []              []   \n",
       "2  ['Bureau of Refugees , Freedmen Abandoned Land...              []   \n",
       "3                                     ['Government']              []   \n",
       "4                                     ['Government']              []   \n",
       "\n",
       "        PERSON-nerenglish                                     LOC-nerenglish  \\\n",
       "0                      []  ['Ral', 'Gaston R.R', 'Raleigh N.C.', 'Broadwa...   \n",
       "1                      []                                                 []   \n",
       "2      ['JONATHAN WORTH']  ['Raleigh', 'N.C.', 'United States', 'Alabama'...   \n",
       "3  ['Joseph E. Johnston']    ['NORTH CAROLINA', 'Raleigh', 'North Carolina']   \n",
       "4    ['James H Anderson']                                           ['U.S.']   \n",
       "\n",
       "                                      ORG-nerenglish Other_name-nerenglish  \n",
       "0                                       ['Cranford']                    []  \n",
       "1                                                 []                    []  \n",
       "2  ['Officers Agents of Bureau', 'House of Repres...                    []  \n",
       "3                                                 []                    []  \n",
       "4                                                 []               ['C.S']  "
      ]
     },
     "execution_count": 14,
     "metadata": {},
     "output_type": "execute_result"
    }
   ],
   "source": [
    "order_ent.head()"
   ]
  },
  {
   "cell_type": "code",
   "execution_count": 15,
   "id": "a4f99e25",
   "metadata": {
    "execution": {
     "iopub.execute_input": "2022-06-28T19:49:25.944230Z",
     "iopub.status.busy": "2022-06-28T19:49:25.943127Z",
     "iopub.status.idle": "2022-06-28T19:49:25.949495Z",
     "shell.execute_reply": "2022-06-28T19:49:25.948555Z"
    },
    "papermill": {
     "duration": 0.028417,
     "end_time": "2022-06-28T19:49:25.951629",
     "exception": false,
     "start_time": "2022-06-28T19:49:25.923212",
     "status": "completed"
    },
    "tags": []
   },
   "outputs": [],
   "source": [
    "order_text=order_ent[\"order_text\"]\n",
    "order_Per_onto=order_ent[\"PERSON-ontonotes\"]\n",
    "order_GPE_onto=order_ent[\"GPE-ontonotes\"]\n",
    "order_ORG_onto=order_ent[\"ORG-ontonotes\"]\n",
    "order_date_onto=order_ent[\"standard_date-ontonotes\"]\n",
    "order_loc_onto=order_ent[\"LOC-ontonotes\"]"
   ]
  },
  {
   "cell_type": "code",
   "execution_count": 16,
   "id": "e6f3bef9",
   "metadata": {
    "execution": {
     "iopub.execute_input": "2022-06-28T19:49:25.990565Z",
     "iopub.status.busy": "2022-06-28T19:49:25.990132Z",
     "iopub.status.idle": "2022-06-28T19:49:25.997643Z",
     "shell.execute_reply": "2022-06-28T19:49:25.996313Z"
    },
    "papermill": {
     "duration": 0.029957,
     "end_time": "2022-06-28T19:49:26.000016",
     "exception": false,
     "start_time": "2022-06-28T19:49:25.970059",
     "status": "completed"
    },
    "tags": []
   },
   "outputs": [
    {
     "data": {
      "text/plain": [
       "'190 By Order of Col. James V. Bomford Jacob F. Chur . Bvt . Lt. Col. A.A.A.G . Bureau of Refugees Freedmen A.L . Head Qrs . Asst . Commissioner Raleigh N.C. Jan. 16th 1867 Special Order No . 8 Leave of absence twelve days hereby granted Lieut Edgar H. McQuigg V.R.C . Asst Supt Bureau R.F . A.L . Wilmington N.C. By Command of Col. J. V. Bomford Jacob F. Chur . Bvt . Lt. Col. A.A.A . Genl Bureau of Refugees Freedmen c Hd Qrs Asst Commissioner Raleigh N.C. Jan. 18th 1867 Special Order No . 9 In compliance instructions Maj Genl O.O . Howard Commissioner , Bvt . Maj. Thos P. Johnston Chf Qr Mr Bureau State pay trustees of Baptist Female Seminary following amounts rent of rooms used Bureau upon premises known Guion Hotel City of Raleigh recommended board of Officers appointed purpose . For three rooms main building occupied offices of Bureau of R.F . A.L . April 1st 1866 Aug 1st 1866 rate of Twelve dollars per month per room . For four rooms detatched building occupied offices of Bureau of R.F . A.L . April 2d 1866 , Dec 31st 1866 , rate of twelve dollars 12 per month per room . By Command of Col. J. V. Bomford Jacob F. Chur . Bvt . Lt. Col. A.A.A . Genl 191 Bureau of Refugees Freedmen c Hd Qrs Asst Commissioner Raleigh N.C. Jan. 19th 1867 Special Order No . 10 I. Manchester W. Weld appointed Agent of Bureau of R.F . A.L . hereby assigned duty Fayetteville N.C. relieve Justin Hodge Agent . II . The resignation of Justin Hodge Agent of Bureau of R.F . A.L . Fayetteville N.C. hereby accepted take effect relieved Mr. M. W. Weld By Command of Col. J. V. Bomford Jacob F. Chur . Bvt . Lt. Col. A.A.A.G . Bureau of Refugees Freedmen c Hd Qrs Asst Commissioner Raleigh N.C. Jan. 20th 1867 Special Order No . 11 During temporary absence of Bt Lt Col Jacob F. Chur Act Asst Adjt Genl , Bt Maj F. A. Seeley act Asst Adjt Genl . By Command of Col. J. V. Bomford Jacob F. Chur . Bvt . Lt. Col. A.A.A.G .'"
      ]
     },
     "execution_count": 16,
     "metadata": {},
     "output_type": "execute_result"
    }
   ],
   "source": [
    "order_text[1000]"
   ]
  },
  {
   "cell_type": "code",
   "execution_count": 17,
   "id": "bcca50f1",
   "metadata": {
    "execution": {
     "iopub.execute_input": "2022-06-28T19:49:26.039714Z",
     "iopub.status.busy": "2022-06-28T19:49:26.039327Z",
     "iopub.status.idle": "2022-06-28T19:49:26.053294Z",
     "shell.execute_reply": "2022-06-28T19:49:26.052167Z"
    },
    "papermill": {
     "duration": 0.037203,
     "end_time": "2022-06-28T19:49:26.055870",
     "exception": false,
     "start_time": "2022-06-28T19:49:26.018667",
     "status": "completed"
    },
    "tags": []
   },
   "outputs": [
    {
     "data": {
      "text/plain": [
       "\"['James V. Bomford', 'J. V. Bomford', 'Manchester W. Weld', 'Justin Hodge', 'M. W. Weld', 'Jacob F. Chur', 'F . A. Seeley']\""
      ]
     },
     "execution_count": 17,
     "metadata": {},
     "output_type": "execute_result"
    }
   ],
   "source": [
    "order_Per_onto[1000]"
   ]
  },
  {
   "cell_type": "code",
   "execution_count": 18,
   "id": "3fdcfd15",
   "metadata": {
    "execution": {
     "iopub.execute_input": "2022-06-28T19:49:26.096506Z",
     "iopub.status.busy": "2022-06-28T19:49:26.096066Z",
     "iopub.status.idle": "2022-06-28T19:49:26.103566Z",
     "shell.execute_reply": "2022-06-28T19:49:26.102406Z"
    },
    "papermill": {
     "duration": 0.031174,
     "end_time": "2022-06-28T19:49:26.105810",
     "exception": false,
     "start_time": "2022-06-28T19:49:26.074636",
     "status": "completed"
    },
    "tags": []
   },
   "outputs": [
    {
     "data": {
      "text/plain": [
       "\"['Raleigh N.C', 'Raleigh', 'Fayetteville N.C.']\""
      ]
     },
     "execution_count": 18,
     "metadata": {},
     "output_type": "execute_result"
    }
   ],
   "source": [
    "order_GPE_onto[1000]"
   ]
  },
  {
   "cell_type": "code",
   "execution_count": 19,
   "id": "8d3548d5",
   "metadata": {
    "execution": {
     "iopub.execute_input": "2022-06-28T19:49:26.146836Z",
     "iopub.status.busy": "2022-06-28T19:49:26.146475Z",
     "iopub.status.idle": "2022-06-28T19:49:26.151961Z",
     "shell.execute_reply": "2022-06-28T19:49:26.151168Z"
    },
    "papermill": {
     "duration": 0.028176,
     "end_time": "2022-06-28T19:49:26.153964",
     "exception": false,
     "start_time": "2022-06-28T19:49:26.125788",
     "status": "completed"
    },
    "tags": []
   },
   "outputs": [
    {
     "data": {
      "text/plain": [
       "\"['Bureau of Refugees Freedmen A.L', 'Bureau of Refugees Freedmen', 'Baptist Female Seminary', 'Bureau of R.F . A.L']\""
      ]
     },
     "execution_count": 19,
     "metadata": {},
     "output_type": "execute_result"
    }
   ],
   "source": [
    "order_ORG_onto[1000]"
   ]
  },
  {
   "cell_type": "code",
   "execution_count": 20,
   "id": "1665fca9",
   "metadata": {
    "execution": {
     "iopub.execute_input": "2022-06-28T19:49:26.194321Z",
     "iopub.status.busy": "2022-06-28T19:49:26.193909Z",
     "iopub.status.idle": "2022-06-28T19:49:26.199153Z",
     "shell.execute_reply": "2022-06-28T19:49:26.198411Z"
    },
    "papermill": {
     "duration": 0.028063,
     "end_time": "2022-06-28T19:49:26.201221",
     "exception": false,
     "start_time": "2022-06-28T19:49:26.173158",
     "status": "completed"
    },
    "tags": []
   },
   "outputs": [
    {
     "data": {
      "text/plain": [
       "'[]'"
      ]
     },
     "execution_count": 20,
     "metadata": {},
     "output_type": "execute_result"
    }
   ],
   "source": [
    "order_loc_onto[1000]"
   ]
  },
  {
   "cell_type": "code",
   "execution_count": 21,
   "id": "1de5c4b9",
   "metadata": {
    "execution": {
     "iopub.execute_input": "2022-06-28T19:49:26.240904Z",
     "iopub.status.busy": "2022-06-28T19:49:26.240530Z",
     "iopub.status.idle": "2022-06-28T19:49:26.246319Z",
     "shell.execute_reply": "2022-06-28T19:49:26.245449Z"
    },
    "papermill": {
     "duration": 0.028044,
     "end_time": "2022-06-28T19:49:26.248275",
     "exception": false,
     "start_time": "2022-06-28T19:49:26.220231",
     "status": "completed"
    },
    "tags": []
   },
   "outputs": [
    {
     "data": {
      "text/plain": [
       "\"['16-Jan.-1867', '18-Jan.-1867', '1-April-1866', '1-August-1866', '2-April-1866', '31-December-1866', '19-Jan.-1867', '20-Jan.-1867']\""
      ]
     },
     "execution_count": 21,
     "metadata": {},
     "output_type": "execute_result"
    }
   ],
   "source": [
    "order_date_onto[1000]"
   ]
  },
  {
   "cell_type": "markdown",
   "id": "ec126bbb",
   "metadata": {
    "papermill": {
     "duration": 0.018645,
     "end_time": "2022-06-28T19:49:26.285967",
     "exception": false,
     "start_time": "2022-06-28T19:49:26.267322",
     "status": "completed"
    },
    "tags": []
   },
   "source": [
    "**good**"
   ]
  },
  {
   "cell_type": "code",
   "execution_count": 22,
   "id": "09983354",
   "metadata": {
    "execution": {
     "iopub.execute_input": "2022-06-28T19:49:26.327079Z",
     "iopub.status.busy": "2022-06-28T19:49:26.326511Z",
     "iopub.status.idle": "2022-06-28T19:49:26.394200Z",
     "shell.execute_reply": "2022-06-28T19:49:26.393039Z"
    },
    "papermill": {
     "duration": 0.091361,
     "end_time": "2022-06-28T19:49:26.396404",
     "exception": false,
     "start_time": "2022-06-28T19:49:26.305043",
     "status": "completed"
    },
    "tags": []
   },
   "outputs": [
    {
     "data": {
      "text/plain": [
       "(453588, 0)"
      ]
     },
     "execution_count": 22,
     "metadata": {},
     "output_type": "execute_result"
    }
   ],
   "source": [
    "PL=[]\n",
    "empty=0\n",
    "for i in order_Per_onto :\n",
    "    for j in i:\n",
    "        PL.append(j)\n",
    "for i in order_Per_onto:\n",
    "    if i==[]:\n",
    "        empty=empty+1\n",
    "len(PL), empty"
   ]
  },
  {
   "cell_type": "markdown",
   "id": "52328e7b",
   "metadata": {
    "papermill": {
     "duration": 0.01896,
     "end_time": "2022-06-28T19:49:26.434753",
     "exception": false,
     "start_time": "2022-06-28T19:49:26.415793",
     "status": "completed"
    },
    "tags": []
   },
   "source": [
    "**very good**"
   ]
  },
  {
   "cell_type": "code",
   "execution_count": 23,
   "id": "d9c9dcb1",
   "metadata": {
    "execution": {
     "iopub.execute_input": "2022-06-28T19:49:26.475420Z",
     "iopub.status.busy": "2022-06-28T19:49:26.475008Z",
     "iopub.status.idle": "2022-06-28T19:49:26.508412Z",
     "shell.execute_reply": "2022-06-28T19:49:26.507164Z"
    },
    "papermill": {
     "duration": 0.056792,
     "end_time": "2022-06-28T19:49:26.510721",
     "exception": false,
     "start_time": "2022-06-28T19:49:26.453929",
     "status": "completed"
    },
    "tags": []
   },
   "outputs": [
    {
     "data": {
      "text/plain": [
       "(167185, 2515)"
      ]
     },
     "execution_count": 23,
     "metadata": {},
     "output_type": "execute_result"
    }
   ],
   "source": [
    "PL=[]\n",
    "empty=0\n",
    "for i in order_date_onto :\n",
    "    for j in i:\n",
    "        PL.append(j)\n",
    "for i in order_date_onto:\n",
    "    if i==\"[]\":\n",
    "        empty=empty+1\n",
    "len(PL), empty"
   ]
  },
  {
   "cell_type": "markdown",
   "id": "7906939c",
   "metadata": {
    "papermill": {
     "duration": 0.019168,
     "end_time": "2022-06-28T19:49:26.549341",
     "exception": false,
     "start_time": "2022-06-28T19:49:26.530173",
     "status": "completed"
    },
    "tags": []
   },
   "source": [
    "**uii very good**"
   ]
  },
  {
   "cell_type": "code",
   "execution_count": 24,
   "id": "6e0ac4a3",
   "metadata": {
    "execution": {
     "iopub.execute_input": "2022-06-28T19:49:26.589888Z",
     "iopub.status.busy": "2022-06-28T19:49:26.589496Z",
     "iopub.status.idle": "2022-06-28T19:49:26.642882Z",
     "shell.execute_reply": "2022-06-28T19:49:26.641648Z"
    },
    "papermill": {
     "duration": 0.076399,
     "end_time": "2022-06-28T19:49:26.645176",
     "exception": false,
     "start_time": "2022-06-28T19:49:26.568777",
     "status": "completed"
    },
    "tags": []
   },
   "outputs": [
    {
     "data": {
      "text/plain": [
       "(343109, 1295)"
      ]
     },
     "execution_count": 24,
     "metadata": {},
     "output_type": "execute_result"
    }
   ],
   "source": [
    "PL=[]\n",
    "empty=0\n",
    "for i in order_GPE_onto :\n",
    "    for j in i:\n",
    "        PL.append(j)\n",
    "for i in order_GPE_onto:\n",
    "    if i==\"[]\":\n",
    "        empty=empty+1\n",
    "len(PL), empty"
   ]
  },
  {
   "cell_type": "markdown",
   "id": "e1870f8a",
   "metadata": {
    "papermill": {
     "duration": 0.018969,
     "end_time": "2022-06-28T19:49:26.683683",
     "exception": false,
     "start_time": "2022-06-28T19:49:26.664714",
     "status": "completed"
    },
    "tags": []
   },
   "source": [
    "****"
   ]
  },
  {
   "cell_type": "markdown",
   "id": "2e614697",
   "metadata": {
    "papermill": {
     "duration": 0.019223,
     "end_time": "2022-06-28T19:49:26.722157",
     "exception": false,
     "start_time": "2022-06-28T19:49:26.702934",
     "status": "completed"
    },
    "tags": []
   },
   "source": [
    "# Order Ner-english"
   ]
  },
  {
   "cell_type": "code",
   "execution_count": 25,
   "id": "08365220",
   "metadata": {
    "execution": {
     "iopub.execute_input": "2022-06-28T19:49:26.762965Z",
     "iopub.status.busy": "2022-06-28T19:49:26.761976Z",
     "iopub.status.idle": "2022-06-28T19:49:26.781804Z",
     "shell.execute_reply": "2022-06-28T19:49:26.780893Z"
    },
    "papermill": {
     "duration": 0.042876,
     "end_time": "2022-06-28T19:49:26.784333",
     "exception": false,
     "start_time": "2022-06-28T19:49:26.741457",
     "status": "completed"
    },
    "tags": []
   },
   "outputs": [
    {
     "data": {
      "text/html": [
       "<div>\n",
       "<style scoped>\n",
       "    .dataframe tbody tr th:only-of-type {\n",
       "        vertical-align: middle;\n",
       "    }\n",
       "\n",
       "    .dataframe tbody tr th {\n",
       "        vertical-align: top;\n",
       "    }\n",
       "\n",
       "    .dataframe thead th {\n",
       "        text-align: right;\n",
       "    }\n",
       "</style>\n",
       "<table border=\"1\" class=\"dataframe\">\n",
       "  <thead>\n",
       "    <tr style=\"text-align: right;\">\n",
       "      <th></th>\n",
       "      <th>order_text</th>\n",
       "      <th>PERSON-ontonotes</th>\n",
       "      <th>GPE-ontonotes</th>\n",
       "      <th>ORG-ontonotes</th>\n",
       "      <th>Date-ontonotes</th>\n",
       "      <th>LOC-ontonotes</th>\n",
       "      <th>Building-ontonotes</th>\n",
       "      <th>postDate-ontonotes</th>\n",
       "      <th>standard_date-ontonotes</th>\n",
       "      <th>PERSON-nerenglarge</th>\n",
       "      <th>LOC-nerenglarge</th>\n",
       "      <th>ORG-nerenglarge</th>\n",
       "      <th>other_namelarge</th>\n",
       "      <th>PERSON-nerenglish</th>\n",
       "      <th>LOC-nerenglish</th>\n",
       "      <th>ORG-nerenglish</th>\n",
       "      <th>Other_name-nerenglish</th>\n",
       "    </tr>\n",
       "  </thead>\n",
       "  <tbody>\n",
       "    <tr>\n",
       "      <th>0</th>\n",
       "      <td>R G. R.R . THIS ORDER NOT TRANSFERABLE . U.S. ...</td>\n",
       "      <td>['E . Cranford', 'Lewis B. Parsons', 'Major Kn...</td>\n",
       "      <td>['Raleigh N.C', 'Warrenton N.C', 'New York']</td>\n",
       "      <td>['Samuel Gale Co .']</td>\n",
       "      <td>['Aug 6 1866', 'Aug 1866']</td>\n",
       "      <td>[]</td>\n",
       "      <td>['67487']</td>\n",
       "      <td>['6-Aug-1866']</td>\n",
       "      <td>['6-August-1866']</td>\n",
       "      <td>['Cranford', 'Lewis B. Parsons', 'Gaston R.R']</td>\n",
       "      <td>['U.S.', 'Raleigh N.C', 'Warrenton N.C', 'Rale...</td>\n",
       "      <td>['Samuel Gale Co', 'Regiment Freedman', 'Rail ...</td>\n",
       "      <td>[]</td>\n",
       "      <td>[]</td>\n",
       "      <td>['Ral', 'Gaston R.R', 'Raleigh N.C.', 'Broadwa...</td>\n",
       "      <td>['Cranford']</td>\n",
       "      <td>[]</td>\n",
       "    </tr>\n",
       "    <tr>\n",
       "      <th>1</th>\n",
       "      <td>Certified Copy of Order , Extract , within tra...</td>\n",
       "      <td>['E. Crawford']</td>\n",
       "      <td>['Raleigh N.C']</td>\n",
       "      <td>[]</td>\n",
       "      <td>['Aug 6 1866']</td>\n",
       "      <td>[]</td>\n",
       "      <td>[]</td>\n",
       "      <td>['6-Aug-1866']</td>\n",
       "      <td>['6-August-1866']</td>\n",
       "      <td>['Robinson Clinton', 'E. Crawford']</td>\n",
       "      <td>['Raleigh N.C']</td>\n",
       "      <td>[]</td>\n",
       "      <td>[]</td>\n",
       "      <td>[]</td>\n",
       "      <td>[]</td>\n",
       "      <td>[]</td>\n",
       "      <td>[]</td>\n",
       "    </tr>\n",
       "    <tr>\n",
       "      <th>2</th>\n",
       "      <td>Bureau of Refugees , Freedmen Abandoned Lands ...</td>\n",
       "      <td>['KELLEY', 'EDWARD McPHERSON', 'JONATHAN WORTH']</td>\n",
       "      <td>['Raleigh', 'N.C.', 'United States', 'Alabama'...</td>\n",
       "      <td>['Bureau of Refugees', 'House of Representativ...</td>\n",
       "      <td>['May 8th , 1866', 'May 1 , 1866', '1st']</td>\n",
       "      <td>[]</td>\n",
       "      <td>['2d', 'III']</td>\n",
       "      <td>['8-May-1866', '1-May-1866']</td>\n",
       "      <td>['8-May-1866', '1-May-1866']</td>\n",
       "      <td>['KELLEY', 'EDWARD McPHERSON', 'E. WHITTLESEY'...</td>\n",
       "      <td>['State of North Carolina', 'Raleigh', 'N.C.',...</td>\n",
       "      <td>['Bureau of Refugees , Freedmen Abandoned Land...</td>\n",
       "      <td>[]</td>\n",
       "      <td>['JONATHAN WORTH']</td>\n",
       "      <td>['Raleigh', 'N.C.', 'United States', 'Alabama'...</td>\n",
       "      <td>['Officers Agents of Bureau', 'House of Repres...</td>\n",
       "      <td>[]</td>\n",
       "    </tr>\n",
       "    <tr>\n",
       "      <th>3</th>\n",
       "      <td>HEADQUARTERS DEPARTMENT OF NORTH CAROLINA , Ra...</td>\n",
       "      <td>['Joseph E. Johnston']</td>\n",
       "      <td>['Raleigh', 'North Carolina']</td>\n",
       "      <td>['HEADQUARTERS DEPARTMENT OF NORTH CAROLINA', ...</td>\n",
       "      <td>['January 12th , 1866']</td>\n",
       "      <td>[]</td>\n",
       "      <td>['4', 'II', 'III']</td>\n",
       "      <td>['12-January-1866']</td>\n",
       "      <td>['12-January-1866']</td>\n",
       "      <td>['Joseph E. Johnston']</td>\n",
       "      <td>['NORTH CAROLINA', 'Raleigh', 'North Carolina'...</td>\n",
       "      <td>['Government']</td>\n",
       "      <td>[]</td>\n",
       "      <td>['Joseph E. Johnston']</td>\n",
       "      <td>['NORTH CAROLINA', 'Raleigh', 'North Carolina']</td>\n",
       "      <td>[]</td>\n",
       "      <td>[]</td>\n",
       "    </tr>\n",
       "    <tr>\n",
       "      <th>4</th>\n",
       "      <td>IV . Animals sold counties collected unless wo...</td>\n",
       "      <td>['J A . Campbell', 'James H Anderson']</td>\n",
       "      <td>['U.S.']</td>\n",
       "      <td>['Headquarters', 'Government']</td>\n",
       "      <td>['first day of February , proximo']</td>\n",
       "      <td>[]</td>\n",
       "      <td>['VI']</td>\n",
       "      <td>[]</td>\n",
       "      <td>[]</td>\n",
       "      <td>['J A . Campbell', 'James H Anderson']</td>\n",
       "      <td>['U.S.', 'U.S. C.S', 'C.S']</td>\n",
       "      <td>['Government']</td>\n",
       "      <td>[]</td>\n",
       "      <td>['James H Anderson']</td>\n",
       "      <td>['U.S.']</td>\n",
       "      <td>[]</td>\n",
       "      <td>['C.S']</td>\n",
       "    </tr>\n",
       "  </tbody>\n",
       "</table>\n",
       "</div>"
      ],
      "text/plain": [
       "                                          order_text  \\\n",
       "0  R G. R.R . THIS ORDER NOT TRANSFERABLE . U.S. ...   \n",
       "1  Certified Copy of Order , Extract , within tra...   \n",
       "2  Bureau of Refugees , Freedmen Abandoned Lands ...   \n",
       "3  HEADQUARTERS DEPARTMENT OF NORTH CAROLINA , Ra...   \n",
       "4  IV . Animals sold counties collected unless wo...   \n",
       "\n",
       "                                    PERSON-ontonotes  \\\n",
       "0  ['E . Cranford', 'Lewis B. Parsons', 'Major Kn...   \n",
       "1                                    ['E. Crawford']   \n",
       "2   ['KELLEY', 'EDWARD McPHERSON', 'JONATHAN WORTH']   \n",
       "3                             ['Joseph E. Johnston']   \n",
       "4             ['J A . Campbell', 'James H Anderson']   \n",
       "\n",
       "                                       GPE-ontonotes  \\\n",
       "0       ['Raleigh N.C', 'Warrenton N.C', 'New York']   \n",
       "1                                    ['Raleigh N.C']   \n",
       "2  ['Raleigh', 'N.C.', 'United States', 'Alabama'...   \n",
       "3                      ['Raleigh', 'North Carolina']   \n",
       "4                                           ['U.S.']   \n",
       "\n",
       "                                       ORG-ontonotes  \\\n",
       "0                               ['Samuel Gale Co .']   \n",
       "1                                                 []   \n",
       "2  ['Bureau of Refugees', 'House of Representativ...   \n",
       "3  ['HEADQUARTERS DEPARTMENT OF NORTH CAROLINA', ...   \n",
       "4                     ['Headquarters', 'Government']   \n",
       "\n",
       "                              Date-ontonotes LOC-ontonotes  \\\n",
       "0                 ['Aug 6 1866', 'Aug 1866']            []   \n",
       "1                             ['Aug 6 1866']            []   \n",
       "2  ['May 8th , 1866', 'May 1 , 1866', '1st']            []   \n",
       "3                    ['January 12th , 1866']            []   \n",
       "4        ['first day of February , proximo']            []   \n",
       "\n",
       "   Building-ontonotes            postDate-ontonotes  \\\n",
       "0           ['67487']                ['6-Aug-1866']   \n",
       "1                  []                ['6-Aug-1866']   \n",
       "2       ['2d', 'III']  ['8-May-1866', '1-May-1866']   \n",
       "3  ['4', 'II', 'III']           ['12-January-1866']   \n",
       "4              ['VI']                            []   \n",
       "\n",
       "        standard_date-ontonotes  \\\n",
       "0             ['6-August-1866']   \n",
       "1             ['6-August-1866']   \n",
       "2  ['8-May-1866', '1-May-1866']   \n",
       "3           ['12-January-1866']   \n",
       "4                            []   \n",
       "\n",
       "                                  PERSON-nerenglarge  \\\n",
       "0     ['Cranford', 'Lewis B. Parsons', 'Gaston R.R']   \n",
       "1                ['Robinson Clinton', 'E. Crawford']   \n",
       "2  ['KELLEY', 'EDWARD McPHERSON', 'E. WHITTLESEY'...   \n",
       "3                             ['Joseph E. Johnston']   \n",
       "4             ['J A . Campbell', 'James H Anderson']   \n",
       "\n",
       "                                     LOC-nerenglarge  \\\n",
       "0  ['U.S.', 'Raleigh N.C', 'Warrenton N.C', 'Rale...   \n",
       "1                                    ['Raleigh N.C']   \n",
       "2  ['State of North Carolina', 'Raleigh', 'N.C.',...   \n",
       "3  ['NORTH CAROLINA', 'Raleigh', 'North Carolina'...   \n",
       "4                        ['U.S.', 'U.S. C.S', 'C.S']   \n",
       "\n",
       "                                     ORG-nerenglarge other_namelarge  \\\n",
       "0  ['Samuel Gale Co', 'Regiment Freedman', 'Rail ...              []   \n",
       "1                                                 []              []   \n",
       "2  ['Bureau of Refugees , Freedmen Abandoned Land...              []   \n",
       "3                                     ['Government']              []   \n",
       "4                                     ['Government']              []   \n",
       "\n",
       "        PERSON-nerenglish                                     LOC-nerenglish  \\\n",
       "0                      []  ['Ral', 'Gaston R.R', 'Raleigh N.C.', 'Broadwa...   \n",
       "1                      []                                                 []   \n",
       "2      ['JONATHAN WORTH']  ['Raleigh', 'N.C.', 'United States', 'Alabama'...   \n",
       "3  ['Joseph E. Johnston']    ['NORTH CAROLINA', 'Raleigh', 'North Carolina']   \n",
       "4    ['James H Anderson']                                           ['U.S.']   \n",
       "\n",
       "                                      ORG-nerenglish Other_name-nerenglish  \n",
       "0                                       ['Cranford']                    []  \n",
       "1                                                 []                    []  \n",
       "2  ['Officers Agents of Bureau', 'House of Repres...                    []  \n",
       "3                                                 []                    []  \n",
       "4                                                 []               ['C.S']  "
      ]
     },
     "execution_count": 25,
     "metadata": {},
     "output_type": "execute_result"
    }
   ],
   "source": [
    "order_ent.head()"
   ]
  },
  {
   "cell_type": "code",
   "execution_count": 26,
   "id": "64e342e1",
   "metadata": {
    "execution": {
     "iopub.execute_input": "2022-06-28T19:49:26.827168Z",
     "iopub.status.busy": "2022-06-28T19:49:26.826460Z",
     "iopub.status.idle": "2022-06-28T19:49:26.831733Z",
     "shell.execute_reply": "2022-06-28T19:49:26.830808Z"
    },
    "papermill": {
     "duration": 0.029292,
     "end_time": "2022-06-28T19:49:26.833844",
     "exception": false,
     "start_time": "2022-06-28T19:49:26.804552",
     "status": "completed"
    },
    "tags": []
   },
   "outputs": [],
   "source": [
    "order_Per_ner=order_ent[\"PERSON-nerenglish\"]\n",
    "order_ORG_ner=order_ent[\"ORG-nerenglish\"]\n",
    "order_other_ner=order_ent[\"Other_name-nerenglish\"]\n",
    "order_loc_ner=order_ent[\"LOC-nerenglish\"]"
   ]
  },
  {
   "cell_type": "code",
   "execution_count": 27,
   "id": "25db8982",
   "metadata": {
    "execution": {
     "iopub.execute_input": "2022-06-28T19:49:26.876230Z",
     "iopub.status.busy": "2022-06-28T19:49:26.875540Z",
     "iopub.status.idle": "2022-06-28T19:49:26.881034Z",
     "shell.execute_reply": "2022-06-28T19:49:26.880294Z"
    },
    "papermill": {
     "duration": 0.029052,
     "end_time": "2022-06-28T19:49:26.883038",
     "exception": false,
     "start_time": "2022-06-28T19:49:26.853986",
     "status": "completed"
    },
    "tags": []
   },
   "outputs": [
    {
     "data": {
      "text/plain": [
       "'Bureau of Refugees , Freedmen Abandoned Lands , Headquarters Assistant Commissioner , State of North Carolina , Raleigh , N.C. , May 8th , 1866 . Circular No . 4 The attention of Officers Agents of Bureau called following resolution of House of Representatives : THIRTYNINTH CONGRESSFIRST SESSION . Congress of United States . In House of Representatives , May 1 , 1866 . Mr. KELLEY submitted following , adopted : WHEREAS , It reported citizens of Alabama , formal memorial two Houses of Congress , many of people of mountain districts of State suffering want of adequate supplies of food , considerable numbers of died of actual starvation ; therefore , Be resolved , That President requested instruct proper officers of Bureau of Refugees Freedman enquire condition of said districts , districts of late insurgent States , suffering may said exist , relieve people thereof , provide corn seed planting crop sufficient annual supply of family requiring relief . ATTEST : Signed EDWARD McPHERSON , Clerk . II . In order carry purpose of resolution , reports forwarded without delay headquarters , specifying 1st . The number of persons county needing supplies of food prevent actual suffering , classifying accordance enclosed Form , No . 1 . 2d . The names of persons need corn , seed planting , according enclosed Form No . 2 . III . The season already far advanced , relief contemplated must furnished early possible . The information required therefore obtained forwarded , even exclusion of business . E. WHITTLESEY . Brevt . Brig . Genl . Assit Commr . OFFICIAL : Assistant Adjutant General . It hoped Sheriffs of every county State aid officers of Freedmens Bureau procuring information sought Circular . JONATHAN WORTH , Governor of North Carolina .'"
      ]
     },
     "execution_count": 27,
     "metadata": {},
     "output_type": "execute_result"
    }
   ],
   "source": [
    "order_text[2]"
   ]
  },
  {
   "cell_type": "code",
   "execution_count": 28,
   "id": "06eceb87",
   "metadata": {
    "execution": {
     "iopub.execute_input": "2022-06-28T19:49:26.926923Z",
     "iopub.status.busy": "2022-06-28T19:49:26.926236Z",
     "iopub.status.idle": "2022-06-28T19:49:26.931711Z",
     "shell.execute_reply": "2022-06-28T19:49:26.930988Z"
    },
    "papermill": {
     "duration": 0.029432,
     "end_time": "2022-06-28T19:49:26.933624",
     "exception": false,
     "start_time": "2022-06-28T19:49:26.904192",
     "status": "completed"
    },
    "tags": []
   },
   "outputs": [
    {
     "data": {
      "text/plain": [
       "\"['JONATHAN WORTH']\""
      ]
     },
     "execution_count": 28,
     "metadata": {},
     "output_type": "execute_result"
    }
   ],
   "source": [
    "order_Per_ner[2]"
   ]
  },
  {
   "cell_type": "code",
   "execution_count": 29,
   "id": "e44349ae",
   "metadata": {
    "execution": {
     "iopub.execute_input": "2022-06-28T19:49:26.976462Z",
     "iopub.status.busy": "2022-06-28T19:49:26.975769Z",
     "iopub.status.idle": "2022-06-28T19:49:26.981424Z",
     "shell.execute_reply": "2022-06-28T19:49:26.980607Z"
    },
    "papermill": {
     "duration": 0.029519,
     "end_time": "2022-06-28T19:49:26.983386",
     "exception": false,
     "start_time": "2022-06-28T19:49:26.953867",
     "status": "completed"
    },
    "tags": []
   },
   "outputs": [
    {
     "data": {
      "text/plain": [
       "\"['Officers Agents of Bureau', 'House of Representatives', 'Houses of Congress', 'Bureau of Refugees Freedman', 'Freedmens Bureau']\""
      ]
     },
     "execution_count": 29,
     "metadata": {},
     "output_type": "execute_result"
    }
   ],
   "source": [
    "order_ORG_ner[2]"
   ]
  },
  {
   "cell_type": "markdown",
   "id": "066921a5",
   "metadata": {
    "papermill": {
     "duration": 0.020174,
     "end_time": "2022-06-28T19:49:27.023987",
     "exception": false,
     "start_time": "2022-06-28T19:49:27.003813",
     "status": "completed"
    },
    "tags": []
   },
   "source": [
    "**names of ner english are catastrophic**"
   ]
  },
  {
   "cell_type": "markdown",
   "id": "6785dd9d",
   "metadata": {
    "papermill": {
     "duration": 0.020274,
     "end_time": "2022-06-28T19:49:27.064886",
     "exception": false,
     "start_time": "2022-06-28T19:49:27.044612",
     "status": "completed"
    },
    "tags": []
   },
   "source": [
    "****"
   ]
  },
  {
   "cell_type": "markdown",
   "id": "ce0101fe",
   "metadata": {
    "papermill": {
     "duration": 0.019958,
     "end_time": "2022-06-28T19:49:27.105384",
     "exception": false,
     "start_time": "2022-06-28T19:49:27.085426",
     "status": "completed"
    },
    "tags": []
   },
   "source": [
    "# Order Ner english large "
   ]
  },
  {
   "cell_type": "code",
   "execution_count": 30,
   "id": "fa13a6a9",
   "metadata": {
    "execution": {
     "iopub.execute_input": "2022-06-28T19:49:27.148523Z",
     "iopub.status.busy": "2022-06-28T19:49:27.147820Z",
     "iopub.status.idle": "2022-06-28T19:49:27.153148Z",
     "shell.execute_reply": "2022-06-28T19:49:27.152331Z"
    },
    "papermill": {
     "duration": 0.029608,
     "end_time": "2022-06-28T19:49:27.155388",
     "exception": false,
     "start_time": "2022-06-28T19:49:27.125780",
     "status": "completed"
    },
    "tags": []
   },
   "outputs": [],
   "source": [
    "order_Per_large=order_ent[\"PERSON-nerenglarge\"]\n",
    "order_ORG_large=order_ent[\"ORG-nerenglarge\"]\n",
    "order_other_large=order_ent[\"other_namelarge\"]\n",
    "order_loc_large=order_ent[\"LOC-nerenglarge\"]"
   ]
  },
  {
   "cell_type": "code",
   "execution_count": 31,
   "id": "cd3e3db3",
   "metadata": {
    "execution": {
     "iopub.execute_input": "2022-06-28T19:49:27.199114Z",
     "iopub.status.busy": "2022-06-28T19:49:27.198403Z",
     "iopub.status.idle": "2022-06-28T19:49:27.204308Z",
     "shell.execute_reply": "2022-06-28T19:49:27.203528Z"
    },
    "papermill": {
     "duration": 0.030084,
     "end_time": "2022-06-28T19:49:27.206369",
     "exception": false,
     "start_time": "2022-06-28T19:49:27.176285",
     "status": "completed"
    },
    "tags": []
   },
   "outputs": [
    {
     "data": {
      "text/plain": [
       "'190 By Order of Col. James V. Bomford Jacob F. Chur . Bvt . Lt. Col. A.A.A.G . Bureau of Refugees Freedmen A.L . Head Qrs . Asst . Commissioner Raleigh N.C. Jan. 16th 1867 Special Order No . 8 Leave of absence twelve days hereby granted Lieut Edgar H. McQuigg V.R.C . Asst Supt Bureau R.F . A.L . Wilmington N.C. By Command of Col. J. V. Bomford Jacob F. Chur . Bvt . Lt. Col. A.A.A . Genl Bureau of Refugees Freedmen c Hd Qrs Asst Commissioner Raleigh N.C. Jan. 18th 1867 Special Order No . 9 In compliance instructions Maj Genl O.O . Howard Commissioner , Bvt . Maj. Thos P. Johnston Chf Qr Mr Bureau State pay trustees of Baptist Female Seminary following amounts rent of rooms used Bureau upon premises known Guion Hotel City of Raleigh recommended board of Officers appointed purpose . For three rooms main building occupied offices of Bureau of R.F . A.L . April 1st 1866 Aug 1st 1866 rate of Twelve dollars per month per room . For four rooms detatched building occupied offices of Bureau of R.F . A.L . April 2d 1866 , Dec 31st 1866 , rate of twelve dollars 12 per month per room . By Command of Col. J. V. Bomford Jacob F. Chur . Bvt . Lt. Col. A.A.A . Genl 191 Bureau of Refugees Freedmen c Hd Qrs Asst Commissioner Raleigh N.C. Jan. 19th 1867 Special Order No . 10 I. Manchester W. Weld appointed Agent of Bureau of R.F . A.L . hereby assigned duty Fayetteville N.C. relieve Justin Hodge Agent . II . The resignation of Justin Hodge Agent of Bureau of R.F . A.L . Fayetteville N.C. hereby accepted take effect relieved Mr. M. W. Weld By Command of Col. J. V. Bomford Jacob F. Chur . Bvt . Lt. Col. A.A.A.G . Bureau of Refugees Freedmen c Hd Qrs Asst Commissioner Raleigh N.C. Jan. 20th 1867 Special Order No . 11 During temporary absence of Bt Lt Col Jacob F. Chur Act Asst Adjt Genl , Bt Maj F. A. Seeley act Asst Adjt Genl . By Command of Col. J. V. Bomford Jacob F. Chur . Bvt . Lt. Col. A.A.A.G .'"
      ]
     },
     "execution_count": 31,
     "metadata": {},
     "output_type": "execute_result"
    }
   ],
   "source": [
    "order_text[1000]"
   ]
  },
  {
   "cell_type": "code",
   "execution_count": 32,
   "id": "8a13214a",
   "metadata": {
    "execution": {
     "iopub.execute_input": "2022-06-28T19:49:27.249718Z",
     "iopub.status.busy": "2022-06-28T19:49:27.249177Z",
     "iopub.status.idle": "2022-06-28T19:49:27.255466Z",
     "shell.execute_reply": "2022-06-28T19:49:27.254615Z"
    },
    "papermill": {
     "duration": 0.030565,
     "end_time": "2022-06-28T19:49:27.257524",
     "exception": false,
     "start_time": "2022-06-28T19:49:27.226959",
     "status": "completed"
    },
    "tags": []
   },
   "outputs": [
    {
     "data": {
      "text/plain": [
       "\"['James V. Bomford', 'Jacob F. Chur', 'Edgar H .', 'McQuigg', 'J. V. Bomford', 'Genl O.O . Howard', 'Thos P. Johnston', 'Manchester W. Weld', 'Justin Hodge', 'M. W. Weld', 'F . A. Seeley']\""
      ]
     },
     "execution_count": 32,
     "metadata": {},
     "output_type": "execute_result"
    }
   ],
   "source": [
    "order_Per_large[1000]"
   ]
  },
  {
   "cell_type": "code",
   "execution_count": 33,
   "id": "3e15d871",
   "metadata": {
    "execution": {
     "iopub.execute_input": "2022-06-28T19:49:27.301065Z",
     "iopub.status.busy": "2022-06-28T19:49:27.300384Z",
     "iopub.status.idle": "2022-06-28T19:49:27.306331Z",
     "shell.execute_reply": "2022-06-28T19:49:27.305516Z"
    },
    "papermill": {
     "duration": 0.030138,
     "end_time": "2022-06-28T19:49:27.308336",
     "exception": false,
     "start_time": "2022-06-28T19:49:27.278198",
     "status": "completed"
    },
    "tags": []
   },
   "outputs": [
    {
     "data": {
      "text/plain": [
       "\"['Bureau of Refugees Freedmen A.L', 'Bureau R.F . A.L', 'Bureau of Refugees Freedmen', 'Baptist Female Seminary', 'Bureau', 'Guion Hotel', 'Bureau of R.F . A.L', 'Bureau of R.F . A.L .']\""
      ]
     },
     "execution_count": 33,
     "metadata": {},
     "output_type": "execute_result"
    }
   ],
   "source": [
    "order_ORG_large[1000]"
   ]
  },
  {
   "cell_type": "code",
   "execution_count": 34,
   "id": "5e5c990c",
   "metadata": {
    "execution": {
     "iopub.execute_input": "2022-06-28T19:49:27.351774Z",
     "iopub.status.busy": "2022-06-28T19:49:27.351365Z",
     "iopub.status.idle": "2022-06-28T19:49:27.357385Z",
     "shell.execute_reply": "2022-06-28T19:49:27.356605Z"
    },
    "papermill": {
     "duration": 0.029945,
     "end_time": "2022-06-28T19:49:27.359292",
     "exception": false,
     "start_time": "2022-06-28T19:49:27.329347",
     "status": "completed"
    },
    "tags": []
   },
   "outputs": [
    {
     "data": {
      "text/plain": [
       "\"['Raleigh N.C', 'Wilmington N.C', 'City of Raleigh', 'Fayetteville N.C.']\""
      ]
     },
     "execution_count": 34,
     "metadata": {},
     "output_type": "execute_result"
    }
   ],
   "source": [
    "order_loc_large[1000]"
   ]
  },
  {
   "cell_type": "code",
   "execution_count": 35,
   "id": "4e7dace8",
   "metadata": {
    "execution": {
     "iopub.execute_input": "2022-06-28T19:49:27.403308Z",
     "iopub.status.busy": "2022-06-28T19:49:27.402590Z",
     "iopub.status.idle": "2022-06-28T19:49:27.408165Z",
     "shell.execute_reply": "2022-06-28T19:49:27.407374Z"
    },
    "papermill": {
     "duration": 0.029988,
     "end_time": "2022-06-28T19:49:27.410290",
     "exception": false,
     "start_time": "2022-06-28T19:49:27.380302",
     "status": "completed"
    },
    "tags": []
   },
   "outputs": [
    {
     "data": {
      "text/plain": [
       "\"['General Orders']\""
      ]
     },
     "execution_count": 35,
     "metadata": {},
     "output_type": "execute_result"
    }
   ],
   "source": [
    "order_other_large[102]"
   ]
  },
  {
   "cell_type": "markdown",
   "id": "05cd2d0a",
   "metadata": {
    "papermill": {
     "duration": 0.020754,
     "end_time": "2022-06-28T19:49:27.452236",
     "exception": false,
     "start_time": "2022-06-28T19:49:27.431482",
     "status": "completed"
    },
    "tags": []
   },
   "source": [
    "**veryy good**"
   ]
  },
  {
   "cell_type": "code",
   "execution_count": 36,
   "id": "a9a55c29",
   "metadata": {
    "execution": {
     "iopub.execute_input": "2022-06-28T19:49:27.496345Z",
     "iopub.status.busy": "2022-06-28T19:49:27.495593Z",
     "iopub.status.idle": "2022-06-28T19:49:27.574823Z",
     "shell.execute_reply": "2022-06-28T19:49:27.573935Z"
    },
    "papermill": {
     "duration": 0.103913,
     "end_time": "2022-06-28T19:49:27.577220",
     "exception": false,
     "start_time": "2022-06-28T19:49:27.473307",
     "status": "completed"
    },
    "tags": []
   },
   "outputs": [
    {
     "data": {
      "text/plain": [
       "(556132, 1438)"
      ]
     },
     "execution_count": 36,
     "metadata": {},
     "output_type": "execute_result"
    }
   ],
   "source": [
    "PL=[]\n",
    "empty=0\n",
    "for i in order_Per_large :\n",
    "    for j in i:\n",
    "        PL.append(j)\n",
    "for i in order_Per_large:\n",
    "    if i=='[]':\n",
    "        empty=empty+1\n",
    "len(PL), empty"
   ]
  },
  {
   "cell_type": "code",
   "execution_count": 37,
   "id": "2df5134e",
   "metadata": {
    "execution": {
     "iopub.execute_input": "2022-06-28T19:49:27.622070Z",
     "iopub.status.busy": "2022-06-28T19:49:27.621421Z",
     "iopub.status.idle": "2022-06-28T19:49:27.698073Z",
     "shell.execute_reply": "2022-06-28T19:49:27.697027Z"
    },
    "papermill": {
     "duration": 0.101518,
     "end_time": "2022-06-28T19:49:27.700357",
     "exception": false,
     "start_time": "2022-06-28T19:49:27.598839",
     "status": "completed"
    },
    "tags": []
   },
   "outputs": [
    {
     "data": {
      "text/plain": [
       "(564296, 1382)"
      ]
     },
     "execution_count": 37,
     "metadata": {},
     "output_type": "execute_result"
    }
   ],
   "source": [
    "PL=[]\n",
    "empty=0\n",
    "for i in order_ORG_large :\n",
    "    for j in i:\n",
    "        PL.append(j)\n",
    "for i in order_ORG_large:\n",
    "    if i=='[]':\n",
    "        empty=empty+1\n",
    "len(PL), empty"
   ]
  },
  {
   "cell_type": "code",
   "execution_count": 38,
   "id": "900e446a",
   "metadata": {
    "execution": {
     "iopub.execute_input": "2022-06-28T19:49:27.744870Z",
     "iopub.status.busy": "2022-06-28T19:49:27.744435Z",
     "iopub.status.idle": "2022-06-28T19:49:27.821583Z",
     "shell.execute_reply": "2022-06-28T19:49:27.820332Z"
    },
    "papermill": {
     "duration": 0.102483,
     "end_time": "2022-06-28T19:49:27.824076",
     "exception": false,
     "start_time": "2022-06-28T19:49:27.721593",
     "status": "completed"
    },
    "tags": []
   },
   "outputs": [
    {
     "data": {
      "text/plain": [
       "(543223, 858)"
      ]
     },
     "execution_count": 38,
     "metadata": {},
     "output_type": "execute_result"
    }
   ],
   "source": [
    "PL=[]\n",
    "empty=0\n",
    "for i in order_loc_large :\n",
    "    for j in i:\n",
    "        PL.append(j)\n",
    "for i in order_loc_large:\n",
    "    if i=='[]':\n",
    "        empty=empty+1\n",
    "len(PL), empty"
   ]
  },
  {
   "cell_type": "markdown",
   "id": "36271402",
   "metadata": {
    "papermill": {
     "duration": 0.020663,
     "end_time": "2022-06-28T19:49:27.865827",
     "exception": false,
     "start_time": "2022-06-28T19:49:27.845164",
     "status": "completed"
    },
    "tags": []
   },
   "source": [
    "# Ner enlish large is better than ner english in extracted entities (as usuall i think)"
   ]
  },
  {
   "cell_type": "markdown",
   "id": "c81db286",
   "metadata": {
    "papermill": {
     "duration": 0.020584,
     "end_time": "2022-06-28T19:49:27.907407",
     "exception": false,
     "start_time": "2022-06-28T19:49:27.886823",
     "status": "completed"
    },
    "tags": []
   },
   "source": [
    "****"
   ]
  },
  {
   "cell_type": "markdown",
   "id": "9d0e46b6",
   "metadata": {
    "papermill": {
     "duration": 0.020807,
     "end_time": "2022-06-28T19:49:27.950461",
     "exception": false,
     "start_time": "2022-06-28T19:49:27.929654",
     "status": "completed"
    },
    "tags": []
   },
   "source": [
    "# Contracts Ontonotes"
   ]
  },
  {
   "cell_type": "code",
   "execution_count": 39,
   "id": "b840bb6f",
   "metadata": {
    "execution": {
     "iopub.execute_input": "2022-06-28T19:49:27.994833Z",
     "iopub.status.busy": "2022-06-28T19:49:27.994154Z",
     "iopub.status.idle": "2022-06-28T19:49:29.021792Z",
     "shell.execute_reply": "2022-06-28T19:49:29.020604Z"
    },
    "papermill": {
     "duration": 1.052836,
     "end_time": "2022-06-28T19:49:29.024568",
     "exception": false,
     "start_time": "2022-06-28T19:49:27.971732",
     "status": "completed"
    },
    "tags": []
   },
   "outputs": [],
   "source": [
    "contract_ent=pd.read_csv(\"../input/all-csv/to_compare_result_contract_ner.csv\")\n",
    "contract_onto=pd.read_csv(\"../input/all-csv/contract_onto (1).csv\")"
   ]
  },
  {
   "cell_type": "code",
   "execution_count": 40,
   "id": "4307692b",
   "metadata": {
    "execution": {
     "iopub.execute_input": "2022-06-28T19:49:29.068337Z",
     "iopub.status.busy": "2022-06-28T19:49:29.067906Z",
     "iopub.status.idle": "2022-06-28T19:49:29.084276Z",
     "shell.execute_reply": "2022-06-28T19:49:29.083299Z"
    },
    "papermill": {
     "duration": 0.04089,
     "end_time": "2022-06-28T19:49:29.086540",
     "exception": false,
     "start_time": "2022-06-28T19:49:29.045650",
     "status": "completed"
    },
    "tags": []
   },
   "outputs": [
    {
     "data": {
      "text/html": [
       "<div>\n",
       "<style scoped>\n",
       "    .dataframe tbody tr th:only-of-type {\n",
       "        vertical-align: middle;\n",
       "    }\n",
       "\n",
       "    .dataframe tbody tr th {\n",
       "        vertical-align: top;\n",
       "    }\n",
       "\n",
       "    .dataframe thead th {\n",
       "        text-align: right;\n",
       "    }\n",
       "</style>\n",
       "<table border=\"1\" class=\"dataframe\">\n",
       "  <thead>\n",
       "    <tr style=\"text-align: right;\">\n",
       "      <th></th>\n",
       "      <th>contract_text</th>\n",
       "      <th>PERSON-nerenglish</th>\n",
       "      <th>LOC-nerenglish</th>\n",
       "      <th>ORG-nerenglish</th>\n",
       "      <th>Name-nerenglish</th>\n",
       "      <th>Other_name-nerenglish</th>\n",
       "      <th>Name-nerenglarge</th>\n",
       "      <th>LOC-nerenglarge</th>\n",
       "      <th>ORG-nerenglarge</th>\n",
       "      <th>other_namelarge</th>\n",
       "    </tr>\n",
       "  </thead>\n",
       "  <tbody>\n",
       "    <tr>\n",
       "      <th>0</th>\n",
       "      <td>North Carolina This indenture made entered Thi...</td>\n",
       "      <td>['Thos R Underwood', 'Alfred A McKerhan', 'Wm ...</td>\n",
       "      <td>['County of Carteret', 'Shepperd Creek', 'Cree...</td>\n",
       "      <td>[]</td>\n",
       "      <td>['Thos R Underwood', 'Alfred A McKerhan', 'Wm ...</td>\n",
       "      <td>[]</td>\n",
       "      <td>['H.G . Cutler', 'Thos R Underwood', 'Alfred A...</td>\n",
       "      <td>['North Carolina', 'County of Carteret', 'Bogu...</td>\n",
       "      <td>[]</td>\n",
       "      <td>[]</td>\n",
       "    </tr>\n",
       "    <tr>\n",
       "      <th>1</th>\n",
       "      <td>State of North Carolina Currituck County . Thi...</td>\n",
       "      <td>['John B. Etheridge']</td>\n",
       "      <td>['County State', 'Witnesseth', 'County of Curr...</td>\n",
       "      <td>[]</td>\n",
       "      <td>['John B. Etheridge']</td>\n",
       "      <td>[]</td>\n",
       "      <td>['John B. Etheridge', 'Little John Etheridge']</td>\n",
       "      <td>['State of North Carolina', 'Currituck County'...</td>\n",
       "      <td>[]</td>\n",
       "      <td>[]</td>\n",
       "    </tr>\n",
       "    <tr>\n",
       "      <th>2</th>\n",
       "      <td>near Lizzie Etheridges gate , thence South 56 ...</td>\n",
       "      <td>['John B Etheridge', 'Douglas Adam D. Etheridge']</td>\n",
       "      <td>['Red Hill', 'Croatan Sound']</td>\n",
       "      <td>[]</td>\n",
       "      <td>['John B Etheridge', 'Douglas Adam D. Etheridge']</td>\n",
       "      <td>[]</td>\n",
       "      <td>['Little John Etheridge', 'John B Etheridge', ...</td>\n",
       "      <td>['Lizzie Etheridges gate', 'Red Hill', 'Croata...</td>\n",
       "      <td>[]</td>\n",
       "      <td>[]</td>\n",
       "    </tr>\n",
       "    <tr>\n",
       "      <th>3</th>\n",
       "      <td>Copy Agreement of Apprenticeship Bu Mrs. Kate ...</td>\n",
       "      <td>['Kate V.Chamblin']</td>\n",
       "      <td>[]</td>\n",
       "      <td>[]</td>\n",
       "      <td>['Kate V.Chamblin']</td>\n",
       "      <td>[]</td>\n",
       "      <td>['Kate V.Chamblin', '1st', 'Geo . W. Rollins',...</td>\n",
       "      <td>['La', 'Lake Providence Carroll']</td>\n",
       "      <td>['U.S. Army']</td>\n",
       "      <td>[]</td>\n",
       "    </tr>\n",
       "    <tr>\n",
       "      <th>4</th>\n",
       "      <td>Copy Agreement of Apprenticeship . This agreem...</td>\n",
       "      <td>['Kate V. Chambliss', 'Betty Taylor Mary Taylo...</td>\n",
       "      <td>[]</td>\n",
       "      <td>[]</td>\n",
       "      <td>['Kate V. Chambliss', 'Betty Taylor Mary Taylo...</td>\n",
       "      <td>['African']</td>\n",
       "      <td>['Mrs', 'Kate V. Chambliss', 'James Samenett',...</td>\n",
       "      <td>['Carroll Parish', 'New Orleans', 'Louisiana',...</td>\n",
       "      <td>[]</td>\n",
       "      <td>['African']</td>\n",
       "    </tr>\n",
       "  </tbody>\n",
       "</table>\n",
       "</div>"
      ],
      "text/plain": [
       "                                       contract_text  \\\n",
       "0  North Carolina This indenture made entered Thi...   \n",
       "1  State of North Carolina Currituck County . Thi...   \n",
       "2  near Lizzie Etheridges gate , thence South 56 ...   \n",
       "3  Copy Agreement of Apprenticeship Bu Mrs. Kate ...   \n",
       "4  Copy Agreement of Apprenticeship . This agreem...   \n",
       "\n",
       "                                   PERSON-nerenglish  \\\n",
       "0  ['Thos R Underwood', 'Alfred A McKerhan', 'Wm ...   \n",
       "1                              ['John B. Etheridge']   \n",
       "2  ['John B Etheridge', 'Douglas Adam D. Etheridge']   \n",
       "3                                ['Kate V.Chamblin']   \n",
       "4  ['Kate V. Chambliss', 'Betty Taylor Mary Taylo...   \n",
       "\n",
       "                                      LOC-nerenglish ORG-nerenglish  \\\n",
       "0  ['County of Carteret', 'Shepperd Creek', 'Cree...             []   \n",
       "1  ['County State', 'Witnesseth', 'County of Curr...             []   \n",
       "2                      ['Red Hill', 'Croatan Sound']             []   \n",
       "3                                                 []             []   \n",
       "4                                                 []             []   \n",
       "\n",
       "                                     Name-nerenglish Other_name-nerenglish  \\\n",
       "0  ['Thos R Underwood', 'Alfred A McKerhan', 'Wm ...                    []   \n",
       "1                              ['John B. Etheridge']                    []   \n",
       "2  ['John B Etheridge', 'Douglas Adam D. Etheridge']                    []   \n",
       "3                                ['Kate V.Chamblin']                    []   \n",
       "4  ['Kate V. Chambliss', 'Betty Taylor Mary Taylo...           ['African']   \n",
       "\n",
       "                                    Name-nerenglarge  \\\n",
       "0  ['H.G . Cutler', 'Thos R Underwood', 'Alfred A...   \n",
       "1     ['John B. Etheridge', 'Little John Etheridge']   \n",
       "2  ['Little John Etheridge', 'John B Etheridge', ...   \n",
       "3  ['Kate V.Chamblin', '1st', 'Geo . W. Rollins',...   \n",
       "4  ['Mrs', 'Kate V. Chambliss', 'James Samenett',...   \n",
       "\n",
       "                                     LOC-nerenglarge ORG-nerenglarge  \\\n",
       "0  ['North Carolina', 'County of Carteret', 'Bogu...              []   \n",
       "1  ['State of North Carolina', 'Currituck County'...              []   \n",
       "2  ['Lizzie Etheridges gate', 'Red Hill', 'Croata...              []   \n",
       "3                  ['La', 'Lake Providence Carroll']   ['U.S. Army']   \n",
       "4  ['Carroll Parish', 'New Orleans', 'Louisiana',...              []   \n",
       "\n",
       "  other_namelarge  \n",
       "0              []  \n",
       "1              []  \n",
       "2              []  \n",
       "3              []  \n",
       "4     ['African']  "
      ]
     },
     "execution_count": 40,
     "metadata": {},
     "output_type": "execute_result"
    }
   ],
   "source": [
    "contract_ent.head()"
   ]
  },
  {
   "cell_type": "code",
   "execution_count": 41,
   "id": "537d2c0a",
   "metadata": {
    "execution": {
     "iopub.execute_input": "2022-06-28T19:49:29.130833Z",
     "iopub.status.busy": "2022-06-28T19:49:29.130061Z",
     "iopub.status.idle": "2022-06-28T19:49:29.147168Z",
     "shell.execute_reply": "2022-06-28T19:49:29.146040Z"
    },
    "papermill": {
     "duration": 0.04163,
     "end_time": "2022-06-28T19:49:29.149531",
     "exception": false,
     "start_time": "2022-06-28T19:49:29.107901",
     "status": "completed"
    },
    "tags": []
   },
   "outputs": [
    {
     "data": {
      "text/html": [
       "<div>\n",
       "<style scoped>\n",
       "    .dataframe tbody tr th:only-of-type {\n",
       "        vertical-align: middle;\n",
       "    }\n",
       "\n",
       "    .dataframe tbody tr th {\n",
       "        vertical-align: top;\n",
       "    }\n",
       "\n",
       "    .dataframe thead th {\n",
       "        text-align: right;\n",
       "    }\n",
       "</style>\n",
       "<table border=\"1\" class=\"dataframe\">\n",
       "  <thead>\n",
       "    <tr style=\"text-align: right;\">\n",
       "      <th></th>\n",
       "      <th>contract_text</th>\n",
       "      <th>Name-ontonotes</th>\n",
       "      <th>GPE-ontonotes</th>\n",
       "      <th>ORG-ontonotes</th>\n",
       "      <th>Date-ontonotes</th>\n",
       "      <th>LOC-ontonotes</th>\n",
       "      <th>Building-ontonotes</th>\n",
       "      <th>Cardinal-ontonotes</th>\n",
       "      <th>postDate-ontonotes</th>\n",
       "      <th>standard_date-ontonotes</th>\n",
       "    </tr>\n",
       "  </thead>\n",
       "  <tbody>\n",
       "    <tr>\n",
       "      <th>0</th>\n",
       "      <td>North Carolina This indenture made entered Thi...</td>\n",
       "      <td>['H.G . Cutler', 'Thos R Underwood', 'Alfred A...</td>\n",
       "      <td>['North Carolina', 'County of Carteret']</td>\n",
       "      <td>[]</td>\n",
       "      <td>['This 5th day of November 1853']</td>\n",
       "      <td>['Stake North', 'Bogue Sound', 'Shepperd Creek']</td>\n",
       "      <td>[]</td>\n",
       "      <td>['five hundred ten', '13.0', '203', '209', '4'...</td>\n",
       "      <td>['This 5-November-1853', '5-This-1853', 'This-...</td>\n",
       "      <td>['5-November-1853', '5-This-1853', '7-November...</td>\n",
       "    </tr>\n",
       "    <tr>\n",
       "      <th>1</th>\n",
       "      <td>State of North Carolina Currituck County . Thi...</td>\n",
       "      <td>['John B. Etheridge', 'Little John Etheridge',...</td>\n",
       "      <td>['North Carolina', 'Currituck County', 'County...</td>\n",
       "      <td>[]</td>\n",
       "      <td>['fifth day of September , year', 'One Thousan...</td>\n",
       "      <td>['Roanoke Island', 'Croatain Sound']</td>\n",
       "      <td>[]</td>\n",
       "      <td>[]</td>\n",
       "      <td>[]</td>\n",
       "      <td>[]</td>\n",
       "    </tr>\n",
       "    <tr>\n",
       "      <th>2</th>\n",
       "      <td>near Lizzie Etheridges gate , thence South 56 ...</td>\n",
       "      <td>['Lizzie Etheridges', 'Little John Etheridge',...</td>\n",
       "      <td>[]</td>\n",
       "      <td>[]</td>\n",
       "      <td>[]</td>\n",
       "      <td>['Red Hill', 'Croatan Sound', 'Sound']</td>\n",
       "      <td>[]</td>\n",
       "      <td>[]</td>\n",
       "      <td>[]</td>\n",
       "      <td>[]</td>\n",
       "    </tr>\n",
       "    <tr>\n",
       "      <th>3</th>\n",
       "      <td>Copy Agreement of Apprenticeship Bu Mrs. Kate ...</td>\n",
       "      <td>['Kate V.Chamblin', 'James Samenett', 'Betty T...</td>\n",
       "      <td>['Carroll Parish La']</td>\n",
       "      <td>['U.S. Army']</td>\n",
       "      <td>['Oct. 1 1866', 'Nov. 3 1866']</td>\n",
       "      <td>[]</td>\n",
       "      <td>[]</td>\n",
       "      <td>[]</td>\n",
       "      <td>['1-Oct.-1866', '3-Nov.-1866']</td>\n",
       "      <td>['1-Oct.-1866', '3-Nov.-1866']</td>\n",
       "    </tr>\n",
       "    <tr>\n",
       "      <th>4</th>\n",
       "      <td>Copy Agreement of Apprenticeship . This agreem...</td>\n",
       "      <td>['Kate V. Chambliss', 'James Samenett', 'Betty...</td>\n",
       "      <td>['New Orleans Louisiana']</td>\n",
       "      <td>[]</td>\n",
       "      <td>['1 day of October A . D. 1866', 'Octr 31 1865...</td>\n",
       "      <td>[]</td>\n",
       "      <td>[]</td>\n",
       "      <td>['two']</td>\n",
       "      <td>['1-October-1866', '31-Octr-1865', '1-Oct.-186...</td>\n",
       "      <td>['1-October-1866', '31-Octr-1865', '1-Oct.-186...</td>\n",
       "    </tr>\n",
       "  </tbody>\n",
       "</table>\n",
       "</div>"
      ],
      "text/plain": [
       "                                       contract_text  \\\n",
       "0  North Carolina This indenture made entered Thi...   \n",
       "1  State of North Carolina Currituck County . Thi...   \n",
       "2  near Lizzie Etheridges gate , thence South 56 ...   \n",
       "3  Copy Agreement of Apprenticeship Bu Mrs. Kate ...   \n",
       "4  Copy Agreement of Apprenticeship . This agreem...   \n",
       "\n",
       "                                      Name-ontonotes  \\\n",
       "0  ['H.G . Cutler', 'Thos R Underwood', 'Alfred A...   \n",
       "1  ['John B. Etheridge', 'Little John Etheridge',...   \n",
       "2  ['Lizzie Etheridges', 'Little John Etheridge',...   \n",
       "3  ['Kate V.Chamblin', 'James Samenett', 'Betty T...   \n",
       "4  ['Kate V. Chambliss', 'James Samenett', 'Betty...   \n",
       "\n",
       "                                       GPE-ontonotes  ORG-ontonotes  \\\n",
       "0           ['North Carolina', 'County of Carteret']             []   \n",
       "1  ['North Carolina', 'Currituck County', 'County...             []   \n",
       "2                                                 []             []   \n",
       "3                              ['Carroll Parish La']  ['U.S. Army']   \n",
       "4                          ['New Orleans Louisiana']             []   \n",
       "\n",
       "                                      Date-ontonotes  \\\n",
       "0                  ['This 5th day of November 1853']   \n",
       "1  ['fifth day of September , year', 'One Thousan...   \n",
       "2                                                 []   \n",
       "3                     ['Oct. 1 1866', 'Nov. 3 1866']   \n",
       "4  ['1 day of October A . D. 1866', 'Octr 31 1865...   \n",
       "\n",
       "                                      LOC-ontonotes Building-ontonotes  \\\n",
       "0  ['Stake North', 'Bogue Sound', 'Shepperd Creek']                 []   \n",
       "1              ['Roanoke Island', 'Croatain Sound']                 []   \n",
       "2            ['Red Hill', 'Croatan Sound', 'Sound']                 []   \n",
       "3                                                []                 []   \n",
       "4                                                []                 []   \n",
       "\n",
       "                                  Cardinal-ontonotes  \\\n",
       "0  ['five hundred ten', '13.0', '203', '209', '4'...   \n",
       "1                                                 []   \n",
       "2                                                 []   \n",
       "3                                                 []   \n",
       "4                                            ['two']   \n",
       "\n",
       "                                  postDate-ontonotes  \\\n",
       "0  ['This 5-November-1853', '5-This-1853', 'This-...   \n",
       "1                                                 []   \n",
       "2                                                 []   \n",
       "3                     ['1-Oct.-1866', '3-Nov.-1866']   \n",
       "4  ['1-October-1866', '31-Octr-1865', '1-Oct.-186...   \n",
       "\n",
       "                             standard_date-ontonotes  \n",
       "0  ['5-November-1853', '5-This-1853', '7-November...  \n",
       "1                                                 []  \n",
       "2                                                 []  \n",
       "3                     ['1-Oct.-1866', '3-Nov.-1866']  \n",
       "4  ['1-October-1866', '31-Octr-1865', '1-Oct.-186...  "
      ]
     },
     "execution_count": 41,
     "metadata": {},
     "output_type": "execute_result"
    }
   ],
   "source": [
    "contract_onto.head()"
   ]
  },
  {
   "cell_type": "code",
   "execution_count": 42,
   "id": "94808519",
   "metadata": {
    "execution": {
     "iopub.execute_input": "2022-06-28T19:49:29.195519Z",
     "iopub.status.busy": "2022-06-28T19:49:29.194739Z",
     "iopub.status.idle": "2022-06-28T19:49:29.202409Z",
     "shell.execute_reply": "2022-06-28T19:49:29.201233Z"
    },
    "papermill": {
     "duration": 0.03304,
     "end_time": "2022-06-28T19:49:29.204492",
     "exception": false,
     "start_time": "2022-06-28T19:49:29.171452",
     "status": "completed"
    },
    "tags": []
   },
   "outputs": [],
   "source": [
    "contract_text=contract_ent[\"contract_text\"]\n",
    "contract_Per_onto=contract_onto[\"Name-ontonotes\"]\n",
    "contract_GPE_onto=contract_onto[\"GPE-ontonotes\"]\n",
    "contract_ORG_onto=contract_onto[\"ORG-ontonotes\"]\n",
    "contract_date_onto=contract_onto[\"standard_date-ontonotes\"]\n",
    "contract_loc_onto=contract_onto[\"LOC-ontonotes\"]\n",
    "contract_cardinal=contract_onto[\"Cardinal-ontonotes\"]"
   ]
  },
  {
   "cell_type": "code",
   "execution_count": 43,
   "id": "1d441de8",
   "metadata": {
    "execution": {
     "iopub.execute_input": "2022-06-28T19:49:29.250875Z",
     "iopub.status.busy": "2022-06-28T19:49:29.249899Z",
     "iopub.status.idle": "2022-06-28T19:49:29.257207Z",
     "shell.execute_reply": "2022-06-28T19:49:29.256068Z"
    },
    "papermill": {
     "duration": 0.032877,
     "end_time": "2022-06-28T19:49:29.259393",
     "exception": false,
     "start_time": "2022-06-28T19:49:29.226516",
     "status": "completed"
    },
    "tags": []
   },
   "outputs": [
    {
     "data": {
      "text/plain": [
       "'North Carolina This indenture made entered This 5th day of November 1853 . By H.G . Cutler of County of Carteret of first part Thos R Underwood , Alfred A McKerhan , Wm H Washington , Geo . S Stevenson , John D Williams Nathan A Stedman of second part . Whereas parties of Second part divers others associates purchased of said H. G. Cutler , tract of land situated County of Carteret bounded described follows ; beginning Stake North side of Bogue Sound running thence westwardly various corners of sound , five hundred ten poles Straight . Thence N. 13.0 E. 203 poles , thence East 209 poles , south 4 poles , thence North 85 , E. 116 poles , thence W. 20.0 W. 96 poles , thence N 45.0 E. 21 12 poles thence E. 29 12 poles , thence S. 83.0 E. 220 poles , thence South 5.0 W. Shepperd Creek thence Westerly said Creek South West Corner of tract of land converged said Cutler John Sabuton Then S 50 West along Sabutons West line beginning , containing Estimation Nine hundred four acres survey of said land made William H Marshall hereunto attached Marked A. land said'"
      ]
     },
     "execution_count": 43,
     "metadata": {},
     "output_type": "execute_result"
    }
   ],
   "source": [
    "contract_text[0]"
   ]
  },
  {
   "cell_type": "code",
   "execution_count": 44,
   "id": "caa8a394",
   "metadata": {
    "execution": {
     "iopub.execute_input": "2022-06-28T19:49:29.305115Z",
     "iopub.status.busy": "2022-06-28T19:49:29.304736Z",
     "iopub.status.idle": "2022-06-28T19:49:29.311179Z",
     "shell.execute_reply": "2022-06-28T19:49:29.310107Z"
    },
    "papermill": {
     "duration": 0.032105,
     "end_time": "2022-06-28T19:49:29.313474",
     "exception": false,
     "start_time": "2022-06-28T19:49:29.281369",
     "status": "completed"
    },
    "tags": []
   },
   "outputs": [
    {
     "data": {
      "text/plain": [
       "'[]'"
      ]
     },
     "execution_count": 44,
     "metadata": {},
     "output_type": "execute_result"
    }
   ],
   "source": [
    "contract_date_onto[150]"
   ]
  },
  {
   "cell_type": "code",
   "execution_count": 45,
   "id": "90cd64ab",
   "metadata": {
    "execution": {
     "iopub.execute_input": "2022-06-28T19:49:29.369263Z",
     "iopub.status.busy": "2022-06-28T19:49:29.368424Z",
     "iopub.status.idle": "2022-06-28T19:49:29.374367Z",
     "shell.execute_reply": "2022-06-28T19:49:29.373591Z"
    },
    "papermill": {
     "duration": 0.040465,
     "end_time": "2022-06-28T19:49:29.376287",
     "exception": false,
     "start_time": "2022-06-28T19:49:29.335822",
     "status": "completed"
    },
    "tags": []
   },
   "outputs": [
    {
     "data": {
      "text/plain": [
       "\"['H.G . Cutler', 'Thos R Underwood', 'Alfred A McKerhan', 'John D Williams', 'Nathan A Stedman', 'H . G. Cutler', 'Cutler', 'William H Marshall']\""
      ]
     },
     "execution_count": 45,
     "metadata": {},
     "output_type": "execute_result"
    }
   ],
   "source": [
    "contract_Per_onto[0]"
   ]
  },
  {
   "cell_type": "code",
   "execution_count": 46,
   "id": "620fc74e",
   "metadata": {
    "execution": {
     "iopub.execute_input": "2022-06-28T19:49:29.423108Z",
     "iopub.status.busy": "2022-06-28T19:49:29.422046Z",
     "iopub.status.idle": "2022-06-28T19:49:29.428107Z",
     "shell.execute_reply": "2022-06-28T19:49:29.427160Z"
    },
    "papermill": {
     "duration": 0.031794,
     "end_time": "2022-06-28T19:49:29.430157",
     "exception": false,
     "start_time": "2022-06-28T19:49:29.398363",
     "status": "completed"
    },
    "tags": []
   },
   "outputs": [
    {
     "data": {
      "text/plain": [
       "\"['North Carolina', 'County of Carteret']\""
      ]
     },
     "execution_count": 46,
     "metadata": {},
     "output_type": "execute_result"
    }
   ],
   "source": [
    "contract_GPE_onto[0]"
   ]
  },
  {
   "cell_type": "code",
   "execution_count": 47,
   "id": "a5f0149a",
   "metadata": {
    "execution": {
     "iopub.execute_input": "2022-06-28T19:49:29.477279Z",
     "iopub.status.busy": "2022-06-28T19:49:29.476176Z",
     "iopub.status.idle": "2022-06-28T19:49:29.482032Z",
     "shell.execute_reply": "2022-06-28T19:49:29.481293Z"
    },
    "papermill": {
     "duration": 0.031505,
     "end_time": "2022-06-28T19:49:29.484016",
     "exception": false,
     "start_time": "2022-06-28T19:49:29.452511",
     "status": "completed"
    },
    "tags": []
   },
   "outputs": [
    {
     "data": {
      "text/plain": [
       "'[]'"
      ]
     },
     "execution_count": 47,
     "metadata": {},
     "output_type": "execute_result"
    }
   ],
   "source": [
    "contract_ORG_onto[0]"
   ]
  },
  {
   "cell_type": "code",
   "execution_count": 48,
   "id": "45694f77",
   "metadata": {
    "execution": {
     "iopub.execute_input": "2022-06-28T19:49:29.531599Z",
     "iopub.status.busy": "2022-06-28T19:49:29.530411Z",
     "iopub.status.idle": "2022-06-28T19:49:29.536483Z",
     "shell.execute_reply": "2022-06-28T19:49:29.535688Z"
    },
    "papermill": {
     "duration": 0.031665,
     "end_time": "2022-06-28T19:49:29.538458",
     "exception": false,
     "start_time": "2022-06-28T19:49:29.506793",
     "status": "completed"
    },
    "tags": []
   },
   "outputs": [
    {
     "data": {
      "text/plain": [
       "\"['Stake North', 'Bogue Sound', 'Shepperd Creek']\""
      ]
     },
     "execution_count": 48,
     "metadata": {},
     "output_type": "execute_result"
    }
   ],
   "source": [
    "contract_loc_onto[0]"
   ]
  },
  {
   "cell_type": "code",
   "execution_count": 49,
   "id": "0e8b2662",
   "metadata": {
    "execution": {
     "iopub.execute_input": "2022-06-28T19:49:29.585353Z",
     "iopub.status.busy": "2022-06-28T19:49:29.584923Z",
     "iopub.status.idle": "2022-06-28T19:49:29.590474Z",
     "shell.execute_reply": "2022-06-28T19:49:29.589713Z"
    },
    "papermill": {
     "duration": 0.031412,
     "end_time": "2022-06-28T19:49:29.592326",
     "exception": false,
     "start_time": "2022-06-28T19:49:29.560914",
     "status": "completed"
    },
    "tags": []
   },
   "outputs": [
    {
     "data": {
      "text/plain": [
       "\"['five hundred ten', '13.0', '203', '209', '4', '85', '116', '20.0', '96', '45.0', '21 12', '29 12', '83.0', '220', '5.0', '50']\""
      ]
     },
     "execution_count": 49,
     "metadata": {},
     "output_type": "execute_result"
    }
   ],
   "source": [
    "contract_cardinal[0]"
   ]
  },
  {
   "cell_type": "code",
   "execution_count": 50,
   "id": "c8ad5d05",
   "metadata": {
    "execution": {
     "iopub.execute_input": "2022-06-28T19:49:29.641944Z",
     "iopub.status.busy": "2022-06-28T19:49:29.640903Z",
     "iopub.status.idle": "2022-06-28T19:49:29.717110Z",
     "shell.execute_reply": "2022-06-28T19:49:29.715960Z"
    },
    "papermill": {
     "duration": 0.104776,
     "end_time": "2022-06-28T19:49:29.719570",
     "exception": false,
     "start_time": "2022-06-28T19:49:29.614794",
     "status": "completed"
    },
    "tags": []
   },
   "outputs": [
    {
     "data": {
      "text/plain": [
       "(426318, 10160)"
      ]
     },
     "execution_count": 50,
     "metadata": {},
     "output_type": "execute_result"
    }
   ],
   "source": [
    "PL=[]\n",
    "empty=0\n",
    "for i in contract_date_onto :\n",
    "    for j in i:\n",
    "        PL.append(j)\n",
    "for i in contract_date_onto:\n",
    "    if i=='[]':\n",
    "        empty=empty+1\n",
    "len(PL), empty"
   ]
  },
  {
   "cell_type": "code",
   "execution_count": 51,
   "id": "6defb3bf",
   "metadata": {
    "execution": {
     "iopub.execute_input": "2022-06-28T19:49:29.789795Z",
     "iopub.status.busy": "2022-06-28T19:49:29.788268Z",
     "iopub.status.idle": "2022-06-28T19:49:30.007437Z",
     "shell.execute_reply": "2022-06-28T19:49:30.006376Z"
    },
    "papermill": {
     "duration": 0.256518,
     "end_time": "2022-06-28T19:49:30.009733",
     "exception": false,
     "start_time": "2022-06-28T19:49:29.753215",
     "status": "completed"
    },
    "tags": []
   },
   "outputs": [
    {
     "data": {
      "text/plain": [
       "(1525017, 3304)"
      ]
     },
     "execution_count": 51,
     "metadata": {},
     "output_type": "execute_result"
    }
   ],
   "source": [
    "PL=[]\n",
    "empty=0\n",
    "for i in contract_Per_onto :\n",
    "    for j in i:\n",
    "        PL.append(j)\n",
    "for i in contract_Per_onto:\n",
    "    if i=='[]':\n",
    "        empty=empty+1\n",
    "len(PL), empty"
   ]
  },
  {
   "cell_type": "code",
   "execution_count": 52,
   "id": "e8565daf",
   "metadata": {
    "execution": {
     "iopub.execute_input": "2022-06-28T19:49:30.058986Z",
     "iopub.status.busy": "2022-06-28T19:49:30.057992Z",
     "iopub.status.idle": "2022-06-28T19:49:30.123512Z",
     "shell.execute_reply": "2022-06-28T19:49:30.122447Z"
    },
    "papermill": {
     "duration": 0.093072,
     "end_time": "2022-06-28T19:49:30.126106",
     "exception": false,
     "start_time": "2022-06-28T19:49:30.033034",
     "status": "completed"
    },
    "tags": []
   },
   "outputs": [
    {
     "data": {
      "text/plain": [
       "(358023, 12932)"
      ]
     },
     "execution_count": 52,
     "metadata": {},
     "output_type": "execute_result"
    }
   ],
   "source": [
    "PL=[]\n",
    "empty=0\n",
    "for i in contract_GPE_onto :\n",
    "    for j in i:\n",
    "        PL.append(j)\n",
    "for i in contract_GPE_onto:\n",
    "    if i=='[]':\n",
    "        empty=empty+1\n",
    "len(PL), empty"
   ]
  },
  {
   "cell_type": "code",
   "execution_count": 53,
   "id": "cea6ec20",
   "metadata": {
    "execution": {
     "iopub.execute_input": "2022-06-28T19:49:30.178464Z",
     "iopub.status.busy": "2022-06-28T19:49:30.178064Z",
     "iopub.status.idle": "2022-06-28T19:49:30.208048Z",
     "shell.execute_reply": "2022-06-28T19:49:30.206851Z"
    },
    "papermill": {
     "duration": 0.06046,
     "end_time": "2022-06-28T19:49:30.210493",
     "exception": false,
     "start_time": "2022-06-28T19:49:30.150033",
     "status": "completed"
    },
    "tags": []
   },
   "outputs": [
    {
     "data": {
      "text/plain": [
       "(60156, 23015)"
      ]
     },
     "execution_count": 53,
     "metadata": {},
     "output_type": "execute_result"
    }
   ],
   "source": [
    "PL=[]\n",
    "empty=0\n",
    "for i in contract_loc_onto :\n",
    "    for j in i:\n",
    "        PL.append(j)\n",
    "for i in contract_loc_onto:\n",
    "    if i=='[]':\n",
    "        empty=empty+1\n",
    "len(PL), empty"
   ]
  },
  {
   "cell_type": "markdown",
   "id": "91e80188",
   "metadata": {
    "papermill": {
     "duration": 0.02313,
     "end_time": "2022-06-28T19:49:30.256944",
     "exception": false,
     "start_time": "2022-06-28T19:49:30.233814",
     "status": "completed"
    },
    "tags": []
   },
   "source": [
    "****"
   ]
  },
  {
   "cell_type": "markdown",
   "id": "981d04e9",
   "metadata": {
    "papermill": {
     "duration": 0.022978,
     "end_time": "2022-06-28T19:49:30.303169",
     "exception": false,
     "start_time": "2022-06-28T19:49:30.280191",
     "status": "completed"
    },
    "tags": []
   },
   "source": [
    "# Contracts Ner english"
   ]
  },
  {
   "cell_type": "code",
   "execution_count": null,
   "id": "0560d68b",
   "metadata": {
    "papermill": {
     "duration": 0.023213,
     "end_time": "2022-06-28T19:49:30.349918",
     "exception": false,
     "start_time": "2022-06-28T19:49:30.326705",
     "status": "completed"
    },
    "tags": []
   },
   "outputs": [],
   "source": []
  }
 ],
 "metadata": {
  "kernelspec": {
   "display_name": "Python 3",
   "language": "python",
   "name": "python3"
  },
  "language_info": {
   "codemirror_mode": {
    "name": "ipython",
    "version": 3
   },
   "file_extension": ".py",
   "mimetype": "text/x-python",
   "name": "python",
   "nbconvert_exporter": "python",
   "pygments_lexer": "ipython3",
   "version": "3.7.12"
  },
  "papermill": {
   "default_parameters": {},
   "duration": 30.65394,
   "end_time": "2022-06-28T19:49:33.199471",
   "environment_variables": {},
   "exception": null,
   "input_path": "__notebook__.ipynb",
   "output_path": "__notebook__.ipynb",
   "parameters": {},
   "start_time": "2022-06-28T19:49:02.545531",
   "version": "2.3.4"
  }
 },
 "nbformat": 4,
 "nbformat_minor": 5
}
