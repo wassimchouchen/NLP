{
 "cells": [
  {
   "cell_type": "code",
   "execution_count": 1,
   "id": "ef922b50",
   "metadata": {
    "_cell_guid": "b1076dfc-b9ad-4769-8c92-a6c4dae69d19",
    "_uuid": "8f2839f25d086af736a60e9eeb907d3b93b6e0e5",
    "execution": {
     "iopub.execute_input": "2022-06-28T10:49:42.649023Z",
     "iopub.status.busy": "2022-06-28T10:49:42.648487Z",
     "iopub.status.idle": "2022-06-28T10:49:49.696863Z",
     "shell.execute_reply": "2022-06-28T10:49:49.695700Z"
    },
    "papermill": {
     "duration": 7.065754,
     "end_time": "2022-06-28T10:49:49.699688",
     "exception": false,
     "start_time": "2022-06-28T10:49:42.633934",
     "status": "completed"
    },
    "tags": []
   },
   "outputs": [],
   "source": [
    "import numpy as np\n",
    "import pandas as pd \n",
    "import seaborn as sns\n",
    "import matplotlib.pyplot as plt \n",
    "import matplotlib.style as stl \n",
    "from tensorflow import keras \n",
    "from keras.preprocessing.text import Tokenizer\n",
    "from nltk.corpus import stopwords\n",
    "import string\n",
    "from tensorflow.keras.models import Sequential,Model\n",
    "from tensorflow.keras.layers import Dense, LSTM, Embedding,Dropout,SpatialDropout1D,Conv1D,MaxPooling1D,GRU,BatchNormalization\n",
    "import warnings\n",
    "warnings.filterwarnings('ignore')\n",
    "stl.use('ggplot')\n",
    "from tqdm import tqdm\n",
    "import string\n",
    "from nltk.corpus import stopwords\n",
    "from nltk.tokenize import word_tokenize\n",
    "from nltk.stem import WordNetLemmatizer\n",
    "from nltk.stem.snowball import SnowballStemmer\n",
    "import regex as re\n",
    "import time\n",
    "import pickle"
   ]
  },
  {
   "cell_type": "code",
   "execution_count": 2,
   "id": "f54065bb",
   "metadata": {
    "execution": {
     "iopub.execute_input": "2022-06-28T10:49:49.725807Z",
     "iopub.status.busy": "2022-06-28T10:49:49.724453Z",
     "iopub.status.idle": "2022-06-28T10:49:50.327280Z",
     "shell.execute_reply": "2022-06-28T10:49:50.326142Z"
    },
    "papermill": {
     "duration": 0.618159,
     "end_time": "2022-06-28T10:49:50.329863",
     "exception": false,
     "start_time": "2022-06-28T10:49:49.711704",
     "status": "completed"
    },
    "tags": []
   },
   "outputs": [],
   "source": [
    "contract=pd.read_csv(\"../input/categories/contact.csv\")"
   ]
  },
  {
   "cell_type": "code",
   "execution_count": 3,
   "id": "296cdfd9",
   "metadata": {
    "execution": {
     "iopub.execute_input": "2022-06-28T10:49:50.354635Z",
     "iopub.status.busy": "2022-06-28T10:49:50.354305Z",
     "iopub.status.idle": "2022-06-28T10:49:50.381275Z",
     "shell.execute_reply": "2022-06-28T10:49:50.379949Z"
    },
    "papermill": {
     "duration": 0.043577,
     "end_time": "2022-06-28T10:49:50.385224",
     "exception": false,
     "start_time": "2022-06-28T10:49:50.341647",
     "status": "completed"
    },
    "tags": []
   },
   "outputs": [
    {
     "data": {
      "text/html": [
       "<div>\n",
       "<style scoped>\n",
       "    .dataframe tbody tr th:only-of-type {\n",
       "        vertical-align: middle;\n",
       "    }\n",
       "\n",
       "    .dataframe tbody tr th {\n",
       "        vertical-align: top;\n",
       "    }\n",
       "\n",
       "    .dataframe thead th {\n",
       "        text-align: right;\n",
       "    }\n",
       "</style>\n",
       "<table border=\"1\" class=\"dataframe\">\n",
       "  <thead>\n",
       "    <tr style=\"text-align: right;\">\n",
       "      <th></th>\n",
       "      <th>document_id</th>\n",
       "      <th>status</th>\n",
       "      <th>document_url</th>\n",
       "      <th>media_type</th>\n",
       "      <th>media_link</th>\n",
       "      <th>relative_media_path</th>\n",
       "      <th>is_media_downloaded</th>\n",
       "      <th>transcription_text</th>\n",
       "      <th>transcription_text_relative_path</th>\n",
       "      <th>from_time</th>\n",
       "      <th>to_time</th>\n",
       "      <th>project_id</th>\n",
       "      <th>Category</th>\n",
       "      <th>Unnamed: 13</th>\n",
       "      <th>Unnamed: 14</th>\n",
       "    </tr>\n",
       "  </thead>\n",
       "  <tbody>\n",
       "    <tr>\n",
       "      <th>0</th>\n",
       "      <td>NMAAHC-004567394_00861</td>\n",
       "      <td>Complete</td>\n",
       "      <td>https://transcription.si.edu/transcribe/11400/...</td>\n",
       "      <td>image</td>\n",
       "      <td>https://ids.si.edu/ids/deliveryService?max_w=&amp;...</td>\n",
       "      <td>/11400/image/NMAAHC-004567394_00861.jpg</td>\n",
       "      <td>1</td>\n",
       "      <td>[D104 ENCL]\\r\\nNorth Carolina\\r\\nThis indentur...</td>\n",
       "      <td>/11400/transcriptions/NMAAHC-004567394_00861.txt</td>\n",
       "      <td>\\N</td>\n",
       "      <td>\\N</td>\n",
       "      <td>11400</td>\n",
       "      <td>Contracts</td>\n",
       "      <td>NaN</td>\n",
       "      <td>NaN</td>\n",
       "    </tr>\n",
       "    <tr>\n",
       "      <th>1</th>\n",
       "      <td>NMAAHC-004567394_00957</td>\n",
       "      <td>Complete</td>\n",
       "      <td>https://transcription.si.edu/transcribe/11400/...</td>\n",
       "      <td>image</td>\n",
       "      <td>https://ids.si.edu/ids/deliveryService?max_w=&amp;...</td>\n",
       "      <td>/11400/image/NMAAHC-004567394_00957.jpg</td>\n",
       "      <td>1</td>\n",
       "      <td>[E 11 ENCL] \\r\\n\\r\\n\\r\\nState of North Carolin...</td>\n",
       "      <td>/11400/transcriptions/NMAAHC-004567394_00957.txt</td>\n",
       "      <td>\\N</td>\n",
       "      <td>\\N</td>\n",
       "      <td>11400</td>\n",
       "      <td>Contracts</td>\n",
       "      <td>NaN</td>\n",
       "      <td>NaN</td>\n",
       "    </tr>\n",
       "    <tr>\n",
       "      <th>2</th>\n",
       "      <td>NMAAHC-004567394_00958</td>\n",
       "      <td>Complete</td>\n",
       "      <td>https://transcription.si.edu/transcribe/11400/...</td>\n",
       "      <td>image</td>\n",
       "      <td>https://ids.si.edu/ids/deliveryService?max_w=&amp;...</td>\n",
       "      <td>/11400/image/NMAAHC-004567394_00958.jpg</td>\n",
       "      <td>1</td>\n",
       "      <td>near Lizzie Etheridge's gate, thence South 56 ...</td>\n",
       "      <td>/11400/transcriptions/NMAAHC-004567394_00958.txt</td>\n",
       "      <td>\\N</td>\n",
       "      <td>\\N</td>\n",
       "      <td>11400</td>\n",
       "      <td>Contracts</td>\n",
       "      <td>NaN</td>\n",
       "      <td>NaN</td>\n",
       "    </tr>\n",
       "    <tr>\n",
       "      <th>3</th>\n",
       "      <td>NMAAHC-004567395_00439</td>\n",
       "      <td>Complete</td>\n",
       "      <td>https://transcription.si.edu/transcribe/11406/...</td>\n",
       "      <td>image</td>\n",
       "      <td>https://ids.si.edu/ids/deliveryService?max_w=&amp;...</td>\n",
       "      <td>/11406/image/NMAAHC-004567395_00439.jpg</td>\n",
       "      <td>1</td>\n",
       "      <td>Copy\\r\\n\\r\\nAgreement of Apprenticeship\\r\\nBu ...</td>\n",
       "      <td>/11406/transcriptions/NMAAHC-004567395_00439.txt</td>\n",
       "      <td>\\N</td>\n",
       "      <td>\\N</td>\n",
       "      <td>11406</td>\n",
       "      <td>Contracts</td>\n",
       "      <td>NaN</td>\n",
       "      <td>NaN</td>\n",
       "    </tr>\n",
       "    <tr>\n",
       "      <th>4</th>\n",
       "      <td>NMAAHC-004567395_00440</td>\n",
       "      <td>Complete</td>\n",
       "      <td>https://transcription.si.edu/transcribe/11406/...</td>\n",
       "      <td>image</td>\n",
       "      <td>https://ids.si.edu/ids/deliveryService?max_w=&amp;...</td>\n",
       "      <td>/11406/image/NMAAHC-004567395_00440.jpg</td>\n",
       "      <td>1</td>\n",
       "      <td>[H 132 ENCL] \\r\\n\\r\\nCopy\\r\\n\\r\\nAgreement of ...</td>\n",
       "      <td>/11406/transcriptions/NMAAHC-004567395_00440.txt</td>\n",
       "      <td>\\N</td>\n",
       "      <td>\\N</td>\n",
       "      <td>11406</td>\n",
       "      <td>Contracts</td>\n",
       "      <td>NaN</td>\n",
       "      <td>NaN</td>\n",
       "    </tr>\n",
       "  </tbody>\n",
       "</table>\n",
       "</div>"
      ],
      "text/plain": [
       "              document_id    status  \\\n",
       "0  NMAAHC-004567394_00861  Complete   \n",
       "1  NMAAHC-004567394_00957  Complete   \n",
       "2  NMAAHC-004567394_00958  Complete   \n",
       "3  NMAAHC-004567395_00439  Complete   \n",
       "4  NMAAHC-004567395_00440  Complete   \n",
       "\n",
       "                                        document_url media_type  \\\n",
       "0  https://transcription.si.edu/transcribe/11400/...      image   \n",
       "1  https://transcription.si.edu/transcribe/11400/...      image   \n",
       "2  https://transcription.si.edu/transcribe/11400/...      image   \n",
       "3  https://transcription.si.edu/transcribe/11406/...      image   \n",
       "4  https://transcription.si.edu/transcribe/11406/...      image   \n",
       "\n",
       "                                          media_link  \\\n",
       "0  https://ids.si.edu/ids/deliveryService?max_w=&...   \n",
       "1  https://ids.si.edu/ids/deliveryService?max_w=&...   \n",
       "2  https://ids.si.edu/ids/deliveryService?max_w=&...   \n",
       "3  https://ids.si.edu/ids/deliveryService?max_w=&...   \n",
       "4  https://ids.si.edu/ids/deliveryService?max_w=&...   \n",
       "\n",
       "                       relative_media_path  is_media_downloaded  \\\n",
       "0  /11400/image/NMAAHC-004567394_00861.jpg                    1   \n",
       "1  /11400/image/NMAAHC-004567394_00957.jpg                    1   \n",
       "2  /11400/image/NMAAHC-004567394_00958.jpg                    1   \n",
       "3  /11406/image/NMAAHC-004567395_00439.jpg                    1   \n",
       "4  /11406/image/NMAAHC-004567395_00440.jpg                    1   \n",
       "\n",
       "                                  transcription_text  \\\n",
       "0  [D104 ENCL]\\r\\nNorth Carolina\\r\\nThis indentur...   \n",
       "1  [E 11 ENCL] \\r\\n\\r\\n\\r\\nState of North Carolin...   \n",
       "2  near Lizzie Etheridge's gate, thence South 56 ...   \n",
       "3  Copy\\r\\n\\r\\nAgreement of Apprenticeship\\r\\nBu ...   \n",
       "4  [H 132 ENCL] \\r\\n\\r\\nCopy\\r\\n\\r\\nAgreement of ...   \n",
       "\n",
       "                   transcription_text_relative_path from_time to_time  \\\n",
       "0  /11400/transcriptions/NMAAHC-004567394_00861.txt        \\N      \\N   \n",
       "1  /11400/transcriptions/NMAAHC-004567394_00957.txt        \\N      \\N   \n",
       "2  /11400/transcriptions/NMAAHC-004567394_00958.txt        \\N      \\N   \n",
       "3  /11406/transcriptions/NMAAHC-004567395_00439.txt        \\N      \\N   \n",
       "4  /11406/transcriptions/NMAAHC-004567395_00440.txt        \\N      \\N   \n",
       "\n",
       "   project_id   Category  Unnamed: 13  Unnamed: 14  \n",
       "0       11400  Contracts          NaN          NaN  \n",
       "1       11400  Contracts          NaN          NaN  \n",
       "2       11400  Contracts          NaN          NaN  \n",
       "3       11406  Contracts          NaN          NaN  \n",
       "4       11406  Contracts          NaN          NaN  "
      ]
     },
     "execution_count": 3,
     "metadata": {},
     "output_type": "execute_result"
    }
   ],
   "source": [
    "contract.head()"
   ]
  },
  {
   "cell_type": "code",
   "execution_count": 4,
   "id": "71919344",
   "metadata": {
    "execution": {
     "iopub.execute_input": "2022-06-28T10:49:50.411361Z",
     "iopub.status.busy": "2022-06-28T10:49:50.410704Z",
     "iopub.status.idle": "2022-06-28T10:49:50.418113Z",
     "shell.execute_reply": "2022-06-28T10:49:50.417030Z"
    },
    "papermill": {
     "duration": 0.022487,
     "end_time": "2022-06-28T10:49:50.420333",
     "exception": false,
     "start_time": "2022-06-28T10:49:50.397846",
     "status": "completed"
    },
    "tags": []
   },
   "outputs": [
    {
     "data": {
      "text/plain": [
       "(23731, 15)"
      ]
     },
     "execution_count": 4,
     "metadata": {},
     "output_type": "execute_result"
    }
   ],
   "source": [
    "contract.shape"
   ]
  },
  {
   "cell_type": "code",
   "execution_count": 5,
   "id": "966183c9",
   "metadata": {
    "execution": {
     "iopub.execute_input": "2022-06-28T10:49:50.446341Z",
     "iopub.status.busy": "2022-06-28T10:49:50.446040Z",
     "iopub.status.idle": "2022-06-28T10:49:50.470703Z",
     "shell.execute_reply": "2022-06-28T10:49:50.469715Z"
    },
    "papermill": {
     "duration": 0.040967,
     "end_time": "2022-06-28T10:49:50.473340",
     "exception": false,
     "start_time": "2022-06-28T10:49:50.432373",
     "status": "completed"
    },
    "tags": []
   },
   "outputs": [],
   "source": [
    "contract = contract[pd.notnull(contract['transcription_text'])]\n",
    "contract = contract.reset_index(drop=True)"
   ]
  },
  {
   "cell_type": "code",
   "execution_count": 6,
   "id": "4e128aca",
   "metadata": {
    "execution": {
     "iopub.execute_input": "2022-06-28T10:49:50.499521Z",
     "iopub.status.busy": "2022-06-28T10:49:50.498635Z",
     "iopub.status.idle": "2022-06-28T10:49:50.535551Z",
     "shell.execute_reply": "2022-06-28T10:49:50.534446Z"
    },
    "papermill": {
     "duration": 0.052541,
     "end_time": "2022-06-28T10:49:50.538091",
     "exception": false,
     "start_time": "2022-06-28T10:49:50.485550",
     "status": "completed"
    },
    "tags": []
   },
   "outputs": [
    {
     "data": {
      "text/plain": [
       "document_id                             0\n",
       "status                                  0\n",
       "document_url                            0\n",
       "media_type                              0\n",
       "media_link                              0\n",
       "relative_media_path                     0\n",
       "is_media_downloaded                     0\n",
       "transcription_text                      0\n",
       "transcription_text_relative_path        0\n",
       "from_time                               0\n",
       "to_time                                 0\n",
       "project_id                              0\n",
       "Category                                0\n",
       "Unnamed: 13                         23729\n",
       "Unnamed: 14                         23729\n",
       "dtype: int64"
      ]
     },
     "execution_count": 6,
     "metadata": {},
     "output_type": "execute_result"
    }
   ],
   "source": [
    "contract.isna().sum()"
   ]
  },
  {
   "cell_type": "code",
   "execution_count": 7,
   "id": "c8ec314c",
   "metadata": {
    "execution": {
     "iopub.execute_input": "2022-06-28T10:49:50.563554Z",
     "iopub.status.busy": "2022-06-28T10:49:50.563241Z",
     "iopub.status.idle": "2022-06-28T10:49:50.568270Z",
     "shell.execute_reply": "2022-06-28T10:49:50.567098Z"
    },
    "papermill": {
     "duration": 0.020823,
     "end_time": "2022-06-28T10:49:50.570958",
     "exception": false,
     "start_time": "2022-06-28T10:49:50.550135",
     "status": "completed"
    },
    "tags": []
   },
   "outputs": [],
   "source": [
    "contract_text=contract[\"transcription_text\"]"
   ]
  },
  {
   "cell_type": "code",
   "execution_count": 8,
   "id": "62533a81",
   "metadata": {
    "execution": {
     "iopub.execute_input": "2022-06-28T10:49:50.596244Z",
     "iopub.status.busy": "2022-06-28T10:49:50.595945Z",
     "iopub.status.idle": "2022-06-28T10:49:50.601889Z",
     "shell.execute_reply": "2022-06-28T10:49:50.600940Z"
    },
    "papermill": {
     "duration": 0.020751,
     "end_time": "2022-06-28T10:49:50.603887",
     "exception": false,
     "start_time": "2022-06-28T10:49:50.583136",
     "status": "completed"
    },
    "tags": []
   },
   "outputs": [
    {
     "data": {
      "text/plain": [
       "(23729,)"
      ]
     },
     "execution_count": 8,
     "metadata": {},
     "output_type": "execute_result"
    }
   ],
   "source": [
    "contract_text.shape"
   ]
  },
  {
   "cell_type": "code",
   "execution_count": 9,
   "id": "f9a5bc38",
   "metadata": {
    "_kg_hide-output": true,
    "execution": {
     "iopub.execute_input": "2022-06-28T10:49:50.629957Z",
     "iopub.status.busy": "2022-06-28T10:49:50.629122Z",
     "iopub.status.idle": "2022-06-28T10:49:50.636198Z",
     "shell.execute_reply": "2022-06-28T10:49:50.634178Z"
    },
    "papermill": {
     "duration": 0.023264,
     "end_time": "2022-06-28T10:49:50.639265",
     "exception": false,
     "start_time": "2022-06-28T10:49:50.616001",
     "status": "completed"
    },
    "tags": []
   },
   "outputs": [
    {
     "name": "stdout",
     "output_type": "stream",
     "text": [
      "Know all Men by These Presents, That I, M.C. Abbey of the County of Yellowbusha State of Mississippi held and firmly bound to the United States of America in the sum of Four hundred & thirty two Dollars, for the payment of which I bind myself heirs, executors and administrators, firmly by these presents, in this Contract: That I am to furnish the persons, whose names are subjoined, freed laborers, Quarters, Fuel, substantial and healthy Rations, [[strikethrough]] all necessary Medical Attendance and Supplies in case of sickness [[/strikethrough]], and the amount set opposite their respective names per year, during the continuation of this Contract—the laborers to be paid in full before the final disposal of the crop which is to be raised by them on my plantation, in the County of Yellowbusha State of Mississippi.\r\n",
      "\r\n",
      "[[8 column table]]\r\n",
      "| NO. | NAMES. | AGE. | Rate of pay per month | NO. | NAMES. | AGE. | Rate of pay per month |\r\n",
      "| --- | --- | --- | --- | --- | --- | --- | --- |\r\n",
      "\r\n",
      "| 1 | Green Session | 21 | $18.00 |   |   |   |   |\r\n",
      "\r\n",
      "[[image]] one U.S. postal stamp [[/image]]\r\n",
      "\r\n",
      "This Contract is to commence with this date and close with the year.\r\n",
      "Given in duplicate at Memphis Tenn. this 18th day of January 1866.\r\n",
      "M C Abbey\r\n",
      "\r\n",
      "WITNESS{ Wm Striblen\r\n",
      "\r\n",
      "Registered at ___ 1866. \r\n",
      "\r\n",
      "Approved\r\n",
      "Supt. of Dist.\r\n",
      "Jno. A. Staley\r\n",
      "Capt. 3rd U.S.C.A.Hy\r\n",
      "Supt. R.F.&A.L.\r\n",
      "\n"
     ]
    }
   ],
   "source": [
    "print(contract_text[12540])"
   ]
  },
  {
   "cell_type": "code",
   "execution_count": 10,
   "id": "1e505581",
   "metadata": {
    "_kg_hide-output": true,
    "execution": {
     "iopub.execute_input": "2022-06-28T10:49:50.665555Z",
     "iopub.status.busy": "2022-06-28T10:49:50.665269Z",
     "iopub.status.idle": "2022-06-28T10:49:50.670555Z",
     "shell.execute_reply": "2022-06-28T10:49:50.669538Z"
    },
    "papermill": {
     "duration": 0.022455,
     "end_time": "2022-06-28T10:49:50.674484",
     "exception": false,
     "start_time": "2022-06-28T10:49:50.652029",
     "status": "completed"
    },
    "tags": []
   },
   "outputs": [
    {
     "name": "stdout",
     "output_type": "stream",
     "text": [
      "Original \r\n",
      "\r\n",
      "AGREEMENT FOR LABOR.\r\n",
      "\r\n",
      "THIS INDENTURE, Made and entered into on the 1st day of January A. D, 1867, between Thomas D. Chunn of the County of Woodruff and State of [[strikethrough]] North Carolina [[/strikethrough]] Arkansas, of the first part, and the undersigned, Free Laborer, of the second part: \r\n",
      "\r\n",
      "WITNESSETH, That the said Laborers have agreed to work for the said Chunn 12 months from this date to the 31 day of December 1867; to do all kinds of work common to farms of the country; to do their work faithfully, and to be respectful in their deportment. And they further agree, that they only receive every month, the amount placed opposite their names, and the rest at the end of the year; and that the amount so retained shall be forfeited if a violation of this contract is clearly proven. And they further agree, that time lost by idleness or absence without leave, shall not be paid for. \r\n",
      "\r\n",
      "And the said Thomas D. Chunn has agreed that he will furnish the said laborers with comfortable quarters, sufficient rations, and the amount of money per month, which stands opposite their respective names; that he will treat them kindly, and encourage the establishment of schools for their children. Thos D. Chunn \r\n",
      "\r\n",
      "[[5 Columned Table]]\r\n",
      "| Name | Age | Sex | Per month payment | Total Amount 12 months |\r\n",
      "| --- | --- | --- | --- | --- |\r\n",
      "\r\n",
      "| Wm S Wood his X mark | 28 | Male | 3.00 | $180.00  |\r\n",
      "| Frances Freeman his X mark | 22 | Male | 3.00 | 180.00  |\r\n",
      "| Alfred Krinder his X mark | 20 | Male | 3.00 | 180.00  |\r\n",
      "| Jospeh Johnson his X mark | 20 | Male | 3.00 | 180.00  |\r\n",
      "| John Springs his X mark | 25 | Male | 3.00 | 180.00  |\r\n",
      "| Peter Lock his X mark | 30 | Male | 3.00 | 180.00 |\r\n",
      "| Jacob Lock his X mark | 30 | Male | 3.00 | 180.00 |\r\n",
      "| Peter Bast his X mark | 22 | Male | 3.00 | 180.00 |\r\n",
      "| Humphrey Lowery his X mark | 23 | Male | 3.00 | 180.00 |\r\n",
      "| Peter Lowery his X mark | 21 | Male | 3.00 | 180.00  |\r\n",
      "| Moses Todd his X mark | 20 | Male | 3.00 | 180.00 |\r\n",
      "| Alby Elliott his X mark | 25 | Male | 3.00 | 180.00 |\r\n",
      "| Henry Wood his X mark | 40 | Male | 3.00 | 180.00 |\r\n",
      "| Morris Nealy his X mark | 21 | Male | 3.00 | 180.00  |\r\n",
      "| Hope Nealy his X mark | 23 | Male | 3.00 | 180.00 |\r\n",
      "| Smith Fleming his X mark | 15 | Male | 2.00 | 72.00 |\r\n",
      "| Scott Wood his X mark | 13 | Male  | 1.50 | 60.00 |\r\n",
      "| Joseph Ellis his X mark | 20 | Male | 3.00 | 180.00  |\r\n",
      "| Elliott Torrens his X mark | 21 | Male | 3.00 | 180.00 |\r\n",
      "| Wilburn Gillespie his X mark | 25 | Male | 3.00 | 180.00 |\r\n",
      "| Edward Krinder his X mark | 20 | Male | 3.00 | 180.00 |\n"
     ]
    }
   ],
   "source": [
    "print(contract_text[15000])"
   ]
  },
  {
   "cell_type": "code",
   "execution_count": 11,
   "id": "37acc2fa",
   "metadata": {
    "_kg_hide-output": true,
    "execution": {
     "iopub.execute_input": "2022-06-28T10:49:50.702468Z",
     "iopub.status.busy": "2022-06-28T10:49:50.701561Z",
     "iopub.status.idle": "2022-06-28T10:49:50.708703Z",
     "shell.execute_reply": "2022-06-28T10:49:50.707529Z"
    },
    "papermill": {
     "duration": 0.023517,
     "end_time": "2022-06-28T10:49:50.711619",
     "exception": false,
     "start_time": "2022-06-28T10:49:50.688102",
     "status": "completed"
    },
    "tags": []
   },
   "outputs": [
    {
     "name": "stdout",
     "output_type": "stream",
     "text": [
      "Contract for labor\r\n",
      "indenture made and enterered into this the 22nd day of Sept 1865 between Duncan McNair of the County of Robeson and State of North Carolina of the one part and the undersigned freed laborers of the the second part. Witnesseth that the said laborers have agreed from this date to the first day of January 1866 to do all kinds of labour common to the farms of the County to work ten hours per day, to do their work faithfully, and to be respectful in their deportment, and they further agree that one half of their pay shall be retained by the said Duncan McNair till the end of the year, and the amt so retained shall be forfeited by a violation of this contract, & they further agree that the time lost by idleness or absence without leave, shall not be paid for, & the said Duncan McNair has agreed that he will furnish the said laborers with comfortable quarters, sufficient  rations and the amt of money per month, which hands affixed their respective names that he will treat them kindly & encourage the establishment of schools for their children\r\n",
      "[[signature]] Duncan McNair]]\r\n",
      "\r\n",
      "[[two columns]]\r\n",
      "|---| pay per year |\r\n",
      "|Sampson his X mark McNair | 15 bushels of corn |\r\n",
      "|Calvin his X mark McNair | 1 year ol Hog |\r\n",
      "\r\n",
      "Test | Robert Graham |\r\n",
      "\r\n",
      "Approved\r\n",
      "[[signature]] James Sinclair [[/signature]] Agt Bureau\r\n",
      "\n"
     ]
    }
   ],
   "source": [
    "print(contract_text[500])"
   ]
  },
  {
   "cell_type": "code",
   "execution_count": 12,
   "id": "f54bf228",
   "metadata": {
    "_kg_hide-output": true,
    "execution": {
     "iopub.execute_input": "2022-06-28T10:49:50.739740Z",
     "iopub.status.busy": "2022-06-28T10:49:50.738146Z",
     "iopub.status.idle": "2022-06-28T10:49:50.745310Z",
     "shell.execute_reply": "2022-06-28T10:49:50.743957Z"
    },
    "papermill": {
     "duration": 0.023718,
     "end_time": "2022-06-28T10:49:50.748114",
     "exception": false,
     "start_time": "2022-06-28T10:49:50.724396",
     "status": "completed"
    },
    "tags": []
   },
   "outputs": [
    {
     "name": "stdout",
     "output_type": "stream",
     "text": [
      "[[preprinted]]\r\n",
      "AGREEMENT FOR LABOR.\r\n",
      "\r\n",
      "THIS INDENTURE, Made and entered into on the ^[[12]] day of ^[[Feby]] A.D, 186^[[7]], between ^[[Henry Pearce]] of the County of ^[[Franklin]] and State of North Carolina, of the first part, and the under-signed, Free Laborer, of the second part: ^[[Kinchen Gupton]]\r\n",
      "\r\n",
      "WITNESSETH, That the said Laborers have agreed to work for the said ^[[Henry Pearce]] from this date to the ^[[1st]] day of ^[[August [[strikethrough]] 186 [[/strikethrough]]]] 186^[[7]]; to do all kinds of work common to farms of the country; to do their work faith-fully, and to be respectful in their deportment. And they further agree, that they only receive every month, the amount placed opposite their names, and the rest at the end of the year; and that the amount so retained shall be forfeited if a violation of this contract is clearly proven. And they further agree, that time lost by idleness or absence without leave, shall not be paid for.\r\n",
      "\r\n",
      "And the said ^[[Henry Pearce]] has agreed that he will furnish the said laborers with comfortable quarters, sufficient rations, and the amount of money per month, which stands opposite their respective names; that he will treat them kindly, and encourage the establishment of schools for their children.\r\n",
      "\r\n",
      "^[[signature]] Henry Pearce [[/signature]] ^[[(Seal)]]\r\n",
      "\r\n",
      "[[7 column table]]\r\n",
      "No. | NAME. | Age. | Wages. DOLLS. | CTS. | Monthly Paym't. DOLLS. | CTS.\r\n",
      "--- | ^[[[[strikethrough]] Henry Pearce [[/strikethrough]]]] | --- | --- | --- | --- | ---\r\n",
      "--- | ^[[Kinchin his X mark Gupton (Seal)]] | ^[[46]] | ^[[61]] | --- | ^[[5]] | ^[[50]]\r\n",
      "[[/table]]\r\n",
      "\r\n",
      "^[[witness]]\r\n",
      "^[[Granbey Winston]]\r\n",
      "\r\n",
      "^[[signature]] Tho H Hay [[/signature]]\r\n",
      "^[[1 Lt 42d Infty]]\r\n",
      "Assist. Supt. Bureau R. F. and A. L.,\r\n",
      "Sub-District of ^[[Warren N.C.]]\r\n",
      "[[/preprinted]]\n"
     ]
    }
   ],
   "source": [
    "print(contract_text[1000])"
   ]
  },
  {
   "cell_type": "code",
   "execution_count": 13,
   "id": "3daff3ed",
   "metadata": {
    "_kg_hide-output": true,
    "execution": {
     "iopub.execute_input": "2022-06-28T10:49:50.775146Z",
     "iopub.status.busy": "2022-06-28T10:49:50.774852Z",
     "iopub.status.idle": "2022-06-28T10:49:50.780097Z",
     "shell.execute_reply": "2022-06-28T10:49:50.779088Z"
    },
    "papermill": {
     "duration": 0.022116,
     "end_time": "2022-06-28T10:49:50.783259",
     "exception": false,
     "start_time": "2022-06-28T10:49:50.761143",
     "status": "completed"
    },
    "tags": []
   },
   "outputs": [
    {
     "name": "stdout",
     "output_type": "stream",
     "text": [
      "Brunswick Co NC May 13/65\r\n",
      "\r\n",
      "Wm Waters & Freedmen (24)\r\n",
      "\r\n",
      "Agreement to cultivate crops at Clarendon\r\n",
      "\r\n",
      "23 men — 10 women 23 children\n"
     ]
    }
   ],
   "source": [
    "print(contract_text[100])"
   ]
  },
  {
   "cell_type": "code",
   "execution_count": 14,
   "id": "3bc2c4c8",
   "metadata": {
    "_kg_hide-output": true,
    "execution": {
     "iopub.execute_input": "2022-06-28T10:49:50.811522Z",
     "iopub.status.busy": "2022-06-28T10:49:50.810658Z",
     "iopub.status.idle": "2022-06-28T10:49:50.817467Z",
     "shell.execute_reply": "2022-06-28T10:49:50.816420Z"
    },
    "papermill": {
     "duration": 0.022618,
     "end_time": "2022-06-28T10:49:50.819579",
     "exception": false,
     "start_time": "2022-06-28T10:49:50.796961",
     "status": "completed"
    },
    "tags": []
   },
   "outputs": [
    {
     "data": {
      "text/plain": [
       "'Joseph Parker\\r\\nJune 4th 1865\\r\\n\\r\\nJoseph Parker\\r\\nPaid'"
      ]
     },
     "execution_count": 14,
     "metadata": {},
     "output_type": "execute_result"
    }
   ],
   "source": [
    "contract_text[3511]"
   ]
  },
  {
   "cell_type": "code",
   "execution_count": 15,
   "id": "14f055be",
   "metadata": {
    "execution": {
     "iopub.execute_input": "2022-06-28T10:49:50.846718Z",
     "iopub.status.busy": "2022-06-28T10:49:50.845964Z",
     "iopub.status.idle": "2022-06-28T10:49:50.853134Z",
     "shell.execute_reply": "2022-06-28T10:49:50.852097Z"
    },
    "papermill": {
     "duration": 0.022914,
     "end_time": "2022-06-28T10:49:50.855210",
     "exception": false,
     "start_time": "2022-06-28T10:49:50.832296",
     "status": "completed"
    },
    "tags": []
   },
   "outputs": [
    {
     "data": {
      "text/plain": [
       "23729"
      ]
     },
     "execution_count": 15,
     "metadata": {},
     "output_type": "execute_result"
    }
   ],
   "source": [
    "len(contract_text)"
   ]
  },
  {
   "cell_type": "markdown",
   "id": "aafa12ff",
   "metadata": {
    "papermill": {
     "duration": 0.012938,
     "end_time": "2022-06-28T10:49:50.881119",
     "exception": false,
     "start_time": "2022-06-28T10:49:50.868181",
     "status": "completed"
    },
    "tags": []
   },
   "source": [
    "# Preprocessing"
   ]
  },
  {
   "cell_type": "code",
   "execution_count": 16,
   "id": "4aa8b508",
   "metadata": {
    "execution": {
     "iopub.execute_input": "2022-06-28T10:49:50.909275Z",
     "iopub.status.busy": "2022-06-28T10:49:50.908970Z",
     "iopub.status.idle": "2022-06-28T10:49:50.921436Z",
     "shell.execute_reply": "2022-06-28T10:49:50.920519Z"
    },
    "papermill": {
     "duration": 0.029394,
     "end_time": "2022-06-28T10:49:50.923583",
     "exception": false,
     "start_time": "2022-06-28T10:49:50.894189",
     "status": "completed"
    },
    "tags": []
   },
   "outputs": [],
   "source": [
    "stop_words = set(stopwords.words('english'))\n",
    "punctuation = string.punctuation\n",
    "stemmer = SnowballStemmer(language=\"english\")\n",
    "lemmatizer = WordNetLemmatizer()\n",
    "stop_words.remove(\"of\")\n",
    "punct='!\"#$%&\\'()*+-/<=>?@[\\\\]^_`{|}~'\n",
    "def process(s):\n",
    "    s= re.sub(\"([\\(\\[]).*?([\\)\\]])\",\" \",s)\n",
    "    for p in punct:\n",
    "        s = s.replace(p, '')\n",
    "    s = word_tokenize(s)\n",
    "    s = [w for w in s if not w in stop_words] #optional\n",
    "    return s\n"
   ]
  },
  {
   "cell_type": "code",
   "execution_count": 17,
   "id": "b6f5f3c0",
   "metadata": {
    "execution": {
     "iopub.execute_input": "2022-06-28T10:49:50.950631Z",
     "iopub.status.busy": "2022-06-28T10:49:50.950349Z",
     "iopub.status.idle": "2022-06-28T10:51:00.834391Z",
     "shell.execute_reply": "2022-06-28T10:51:00.830671Z"
    },
    "papermill": {
     "duration": 69.900107,
     "end_time": "2022-06-28T10:51:00.836639",
     "exception": false,
     "start_time": "2022-06-28T10:49:50.936532",
     "status": "completed"
    },
    "tags": []
   },
   "outputs": [
    {
     "name": "stderr",
     "output_type": "stream",
     "text": [
      "100%|██████████| 23729/23729 [00:57<00:00, 410.11it/s]\n",
      "100%|██████████| 23729/23729 [00:12<00:00, 1977.40it/s]"
     ]
    },
    {
     "name": "stdout",
     "output_type": "stream",
     "text": [
      "69.87494087219238\n"
     ]
    },
    {
     "name": "stderr",
     "output_type": "stream",
     "text": [
      "\n"
     ]
    }
   ],
   "source": [
    "start=time.time()\n",
    "for i in tqdm(range(len(contract_text))):\n",
    "    contract_text[i] = process(contract_text[i])\n",
    "for i in tqdm(range(len(contract_text))):\n",
    "    contract_text[i] = \" \".join(contract_text[i])\n",
    "end=time.time()\n",
    "print(end-start)"
   ]
  },
  {
   "cell_type": "code",
   "execution_count": 18,
   "id": "e1f70dc0",
   "metadata": {
    "_kg_hide-output": true,
    "collapsed": true,
    "execution": {
     "iopub.execute_input": "2022-06-28T10:51:00.948740Z",
     "iopub.status.busy": "2022-06-28T10:51:00.948090Z",
     "iopub.status.idle": "2022-06-28T10:52:09.793191Z",
     "shell.execute_reply": "2022-06-28T10:52:09.791930Z"
    },
    "jupyter": {
     "outputs_hidden": true
    },
    "papermill": {
     "duration": 68.904165,
     "end_time": "2022-06-28T10:52:09.796051",
     "exception": false,
     "start_time": "2022-06-28T10:51:00.891886",
     "status": "completed"
    },
    "tags": []
   },
   "outputs": [
    {
     "name": "stdout",
     "output_type": "stream",
     "text": [
      "Requirement already satisfied: Cython in /opt/conda/lib/python3.7/site-packages (0.29.30)\r\n",
      "\u001b[33mWARNING: Running pip as the 'root' user can result in broken permissions and conflicting behaviour with the system package manager. It is recommended to use a virtual environment instead: https://pip.pypa.io/warnings/venv\u001b[0m\u001b[33m\r\n",
      "\u001b[0mRequirement already satisfied: transformers in /opt/conda/lib/python3.7/site-packages (4.18.0)\r\n",
      "Requirement already satisfied: numpy>=1.17 in /opt/conda/lib/python3.7/site-packages (from transformers) (1.21.6)\r\n",
      "Requirement already satisfied: tokenizers!=0.11.3,<0.13,>=0.11.1 in /opt/conda/lib/python3.7/site-packages (from transformers) (0.12.1)\r\n",
      "Requirement already satisfied: sacremoses in /opt/conda/lib/python3.7/site-packages (from transformers) (0.0.53)\r\n",
      "Requirement already satisfied: tqdm>=4.27 in /opt/conda/lib/python3.7/site-packages (from transformers) (4.64.0)\r\n",
      "Requirement already satisfied: importlib-metadata in /opt/conda/lib/python3.7/site-packages (from transformers) (4.11.4)\r\n",
      "Requirement already satisfied: filelock in /opt/conda/lib/python3.7/site-packages (from transformers) (3.6.0)\r\n",
      "Requirement already satisfied: regex!=2019.12.17 in /opt/conda/lib/python3.7/site-packages (from transformers) (2021.11.10)\r\n",
      "Requirement already satisfied: pyyaml>=5.1 in /opt/conda/lib/python3.7/site-packages (from transformers) (6.0)\r\n",
      "Requirement already satisfied: packaging>=20.0 in /opt/conda/lib/python3.7/site-packages (from transformers) (21.3)\r\n",
      "Requirement already satisfied: requests in /opt/conda/lib/python3.7/site-packages (from transformers) (2.27.1)\r\n",
      "Requirement already satisfied: huggingface-hub<1.0,>=0.1.0 in /opt/conda/lib/python3.7/site-packages (from transformers) (0.7.0)\r\n",
      "Requirement already satisfied: typing-extensions>=3.7.4.3 in /opt/conda/lib/python3.7/site-packages (from huggingface-hub<1.0,>=0.1.0->transformers) (4.1.1)\r\n",
      "Requirement already satisfied: pyparsing!=3.0.5,>=2.0.2 in /opt/conda/lib/python3.7/site-packages (from packaging>=20.0->transformers) (3.0.9)\r\n",
      "Requirement already satisfied: zipp>=0.5 in /opt/conda/lib/python3.7/site-packages (from importlib-metadata->transformers) (3.8.0)\r\n",
      "Requirement already satisfied: urllib3<1.27,>=1.21.1 in /opt/conda/lib/python3.7/site-packages (from requests->transformers) (1.26.9)\r\n",
      "Requirement already satisfied: charset-normalizer~=2.0.0 in /opt/conda/lib/python3.7/site-packages (from requests->transformers) (2.0.12)\r\n",
      "Requirement already satisfied: certifi>=2017.4.17 in /opt/conda/lib/python3.7/site-packages (from requests->transformers) (2022.6.15)\r\n",
      "Requirement already satisfied: idna<4,>=2.5 in /opt/conda/lib/python3.7/site-packages (from requests->transformers) (3.3)\r\n",
      "Requirement already satisfied: six in /opt/conda/lib/python3.7/site-packages (from sacremoses->transformers) (1.16.0)\r\n",
      "Requirement already satisfied: click in /opt/conda/lib/python3.7/site-packages (from sacremoses->transformers) (8.0.4)\r\n",
      "Requirement already satisfied: joblib in /opt/conda/lib/python3.7/site-packages (from sacremoses->transformers) (1.1.0)\r\n",
      "\u001b[33mWARNING: Running pip as the 'root' user can result in broken permissions and conflicting behaviour with the system package manager. It is recommended to use a virtual environment instead: https://pip.pypa.io/warnings/venv\u001b[0m\u001b[33m\r\n",
      "\u001b[0mCollecting flair\r\n",
      "  Downloading flair-0.11.3-py3-none-any.whl (401 kB)\r\n",
      "\u001b[2K     \u001b[90m━━━━━━━━━━━━━━━━━━━━━━━━━━━━━━━━━━━━━━━\u001b[0m \u001b[32m401.9/401.9 kB\u001b[0m \u001b[31m2.0 MB/s\u001b[0m eta \u001b[36m0:00:00\u001b[0m\r\n",
      "\u001b[?25hCollecting conllu>=4.0\r\n",
      "  Downloading conllu-4.4.2-py2.py3-none-any.whl (15 kB)\r\n",
      "Requirement already satisfied: matplotlib>=2.2.3 in /opt/conda/lib/python3.7/site-packages (from flair) (3.5.2)\r\n",
      "Collecting konoha<5.0.0,>=4.0.0\r\n",
      "  Downloading konoha-4.6.5-py3-none-any.whl (20 kB)\r\n",
      "Collecting segtok>=1.5.7\r\n",
      "  Downloading segtok-1.5.11-py3-none-any.whl (24 kB)\r\n",
      "Collecting deprecated>=1.2.4\r\n",
      "  Downloading Deprecated-1.2.13-py2.py3-none-any.whl (9.6 kB)\r\n",
      "Collecting bpemb>=0.3.2\r\n",
      "  Downloading bpemb-0.3.3-py3-none-any.whl (19 kB)\r\n",
      "Collecting sentencepiece==0.1.95\r\n",
      "  Downloading sentencepiece-0.1.95-cp37-cp37m-manylinux2014_x86_64.whl (1.2 MB)\r\n",
      "\u001b[2K     \u001b[90m━━━━━━━━━━━━━━━━━━━━━━━━━━━━━━━━━━━━━━━━\u001b[0m \u001b[32m1.2/1.2 MB\u001b[0m \u001b[31m11.6 MB/s\u001b[0m eta \u001b[36m0:00:00\u001b[0m\r\n",
      "\u001b[?25hRequirement already satisfied: hyperopt>=0.2.7 in /opt/conda/lib/python3.7/site-packages (from flair) (0.2.7)\r\n",
      "Requirement already satisfied: transformers>=4.0.0 in /opt/conda/lib/python3.7/site-packages (from flair) (4.18.0)\r\n",
      "Collecting wikipedia-api\r\n",
      "  Downloading Wikipedia-API-0.5.4.tar.gz (18 kB)\r\n",
      "  Preparing metadata (setup.py) ... \u001b[?25l-\b \bdone\r\n",
      "\u001b[?25hRequirement already satisfied: tabulate in /opt/conda/lib/python3.7/site-packages (from flair) (0.8.9)\r\n",
      "Collecting sqlitedict>=1.6.0\r\n",
      "  Downloading sqlitedict-2.0.0.tar.gz (46 kB)\r\n",
      "\u001b[2K     \u001b[90m━━━━━━━━━━━━━━━━━━━━━━━━━━━━━━━━━━━━━━━━\u001b[0m \u001b[32m46.3/46.3 kB\u001b[0m \u001b[31m3.5 MB/s\u001b[0m eta \u001b[36m0:00:00\u001b[0m\r\n",
      "\u001b[?25h  Preparing metadata (setup.py) ... \u001b[?25l-\b \bdone\r\n",
      "\u001b[?25hRequirement already satisfied: gensim>=3.4.0 in /opt/conda/lib/python3.7/site-packages (from flair) (4.0.1)\r\n",
      "Requirement already satisfied: regex in /opt/conda/lib/python3.7/site-packages (from flair) (2021.11.10)\r\n",
      "Collecting langdetect\r\n",
      "  Downloading langdetect-1.0.9.tar.gz (981 kB)\r\n",
      "\u001b[2K     \u001b[90m━━━━━━━━━━━━━━━━━━━━━━━━━━━━━━━━━━━━━━\u001b[0m \u001b[32m981.5/981.5 kB\u001b[0m \u001b[31m33.6 MB/s\u001b[0m eta \u001b[36m0:00:00\u001b[0m\r\n",
      "\u001b[?25h  Preparing metadata (setup.py) ... \u001b[?25l-\b \bdone\r\n",
      "\u001b[?25hCollecting pptree\r\n",
      "  Downloading pptree-3.1.tar.gz (3.0 kB)\r\n",
      "  Preparing metadata (setup.py) ... \u001b[?25l-\b \bdone\r\n",
      "\u001b[?25hCollecting gdown==4.4.0\r\n",
      "  Downloading gdown-4.4.0.tar.gz (14 kB)\r\n",
      "  Installing build dependencies ... \u001b[?25l-\b \b\\\b \b|\b \b/\b \b-\b \b\\\b \bdone\r\n",
      "\u001b[?25h  Getting requirements to build wheel ... \u001b[?25l-\b \b\\\b \b|\b \b/\b \b-\b \bdone\r\n",
      "\u001b[?25h  Preparing metadata (pyproject.toml) ... \u001b[?25l-\b \b\\\b \b|\b \b/\b \b-\b \bdone\r\n",
      "\u001b[?25hRequirement already satisfied: tqdm>=4.26.0 in /opt/conda/lib/python3.7/site-packages (from flair) (4.64.0)\r\n",
      "Requirement already satisfied: janome in /opt/conda/lib/python3.7/site-packages (from flair) (0.4.2)\r\n",
      "Requirement already satisfied: more-itertools in /opt/conda/lib/python3.7/site-packages (from flair) (8.13.0)\r\n",
      "Requirement already satisfied: scikit-learn>=0.21.3 in /opt/conda/lib/python3.7/site-packages (from flair) (1.0.2)\r\n",
      "Collecting mpld3==0.3\r\n",
      "  Downloading mpld3-0.3.tar.gz (788 kB)\r\n",
      "\u001b[2K     \u001b[90m━━━━━━━━━━━━━━━━━━━━━━━━━━━━━━━━━━━━━━\u001b[0m \u001b[32m788.5/788.5 kB\u001b[0m \u001b[31m38.9 MB/s\u001b[0m eta \u001b[36m0:00:00\u001b[0m\r\n",
      "\u001b[?25h  Preparing metadata (setup.py) ... \u001b[?25l-\b \bdone\r\n",
      "\u001b[?25hRequirement already satisfied: huggingface-hub in /opt/conda/lib/python3.7/site-packages (from flair) (0.7.0)\r\n",
      "Requirement already satisfied: torch!=1.8,>=1.5.0 in /opt/conda/lib/python3.7/site-packages (from flair) (1.11.0)\r\n",
      "Collecting ftfy\r\n",
      "  Downloading ftfy-6.1.1-py3-none-any.whl (53 kB)\r\n",
      "\u001b[2K     \u001b[90m━━━━━━━━━━━━━━━━━━━━━━━━━━━━━━━━━━━━━━━━\u001b[0m \u001b[32m53.1/53.1 kB\u001b[0m \u001b[31m4.6 MB/s\u001b[0m eta \u001b[36m0:00:00\u001b[0m\r\n",
      "\u001b[?25hRequirement already satisfied: lxml in /opt/conda/lib/python3.7/site-packages (from flair) (4.9.0)\r\n",
      "Requirement already satisfied: python-dateutil>=2.6.1 in /opt/conda/lib/python3.7/site-packages (from flair) (2.8.2)\r\n",
      "Requirement already satisfied: requests[socks] in /opt/conda/lib/python3.7/site-packages (from gdown==4.4.0->flair) (2.27.1)\r\n",
      "Requirement already satisfied: beautifulsoup4 in /opt/conda/lib/python3.7/site-packages (from gdown==4.4.0->flair) (4.11.1)\r\n",
      "Requirement already satisfied: filelock in /opt/conda/lib/python3.7/site-packages (from gdown==4.4.0->flair) (3.6.0)\r\n",
      "Requirement already satisfied: six in /opt/conda/lib/python3.7/site-packages (from gdown==4.4.0->flair) (1.16.0)\r\n",
      "Requirement already satisfied: numpy in /opt/conda/lib/python3.7/site-packages (from bpemb>=0.3.2->flair) (1.21.6)\r\n",
      "Requirement already satisfied: wrapt<2,>=1.10 in /opt/conda/lib/python3.7/site-packages (from deprecated>=1.2.4->flair) (1.14.1)\r\n",
      "Requirement already satisfied: scipy>=0.18.1 in /opt/conda/lib/python3.7/site-packages (from gensim>=3.4.0->flair) (1.7.3)\r\n",
      "Requirement already satisfied: smart-open>=1.8.1 in /opt/conda/lib/python3.7/site-packages (from gensim>=3.4.0->flair) (5.2.1)\r\n",
      "Requirement already satisfied: future in /opt/conda/lib/python3.7/site-packages (from hyperopt>=0.2.7->flair) (0.18.2)\r\n",
      "Requirement already satisfied: py4j in /opt/conda/lib/python3.7/site-packages (from hyperopt>=0.2.7->flair) (0.10.9.5)\r\n",
      "Requirement already satisfied: cloudpickle in /opt/conda/lib/python3.7/site-packages (from hyperopt>=0.2.7->flair) (2.1.0)\r\n",
      "Requirement already satisfied: networkx>=2.2 in /opt/conda/lib/python3.7/site-packages (from hyperopt>=0.2.7->flair) (2.5)\r\n",
      "Collecting importlib-metadata<4.0.0,>=3.7.0\r\n",
      "  Downloading importlib_metadata-3.10.1-py3-none-any.whl (14 kB)\r\n",
      "Collecting overrides<4.0.0,>=3.0.0\r\n",
      "  Downloading overrides-3.1.0.tar.gz (11 kB)\r\n",
      "  Preparing metadata (setup.py) ... \u001b[?25l-\b \bdone\r\n",
      "\u001b[?25hRequirement already satisfied: cycler>=0.10 in /opt/conda/lib/python3.7/site-packages (from matplotlib>=2.2.3->flair) (0.11.0)\r\n",
      "Requirement already satisfied: kiwisolver>=1.0.1 in /opt/conda/lib/python3.7/site-packages (from matplotlib>=2.2.3->flair) (1.4.2)\r\n",
      "Requirement already satisfied: packaging>=20.0 in /opt/conda/lib/python3.7/site-packages (from matplotlib>=2.2.3->flair) (21.3)\r\n",
      "Requirement already satisfied: pyparsing>=2.2.1 in /opt/conda/lib/python3.7/site-packages (from matplotlib>=2.2.3->flair) (3.0.9)\r\n",
      "Requirement already satisfied: fonttools>=4.22.0 in /opt/conda/lib/python3.7/site-packages (from matplotlib>=2.2.3->flair) (4.33.3)\r\n",
      "Requirement already satisfied: pillow>=6.2.0 in /opt/conda/lib/python3.7/site-packages (from matplotlib>=2.2.3->flair) (9.1.1)\r\n",
      "Requirement already satisfied: threadpoolctl>=2.0.0 in /opt/conda/lib/python3.7/site-packages (from scikit-learn>=0.21.3->flair) (3.1.0)\r\n",
      "Requirement already satisfied: joblib>=0.11 in /opt/conda/lib/python3.7/site-packages (from scikit-learn>=0.21.3->flair) (1.1.0)\r\n",
      "Requirement already satisfied: typing-extensions in /opt/conda/lib/python3.7/site-packages (from torch!=1.8,>=1.5.0->flair) (4.1.1)\r\n",
      "Requirement already satisfied: pyyaml>=5.1 in /opt/conda/lib/python3.7/site-packages (from transformers>=4.0.0->flair) (6.0)\r\n",
      "Requirement already satisfied: sacremoses in /opt/conda/lib/python3.7/site-packages (from transformers>=4.0.0->flair) (0.0.53)\r\n",
      "Requirement already satisfied: tokenizers!=0.11.3,<0.13,>=0.11.1 in /opt/conda/lib/python3.7/site-packages (from transformers>=4.0.0->flair) (0.12.1)\r\n",
      "Requirement already satisfied: wcwidth>=0.2.5 in /opt/conda/lib/python3.7/site-packages (from ftfy->flair) (0.2.5)\r\n",
      "Requirement already satisfied: zipp>=0.5 in /opt/conda/lib/python3.7/site-packages (from importlib-metadata<4.0.0,>=3.7.0->konoha<5.0.0,>=4.0.0->flair) (3.8.0)\r\n",
      "Requirement already satisfied: decorator>=4.3.0 in /opt/conda/lib/python3.7/site-packages (from networkx>=2.2->hyperopt>=0.2.7->flair) (5.1.1)\r\n",
      "Requirement already satisfied: charset-normalizer~=2.0.0 in /opt/conda/lib/python3.7/site-packages (from requests[socks]->gdown==4.4.0->flair) (2.0.12)\r\n",
      "Requirement already satisfied: idna<4,>=2.5 in /opt/conda/lib/python3.7/site-packages (from requests[socks]->gdown==4.4.0->flair) (3.3)\r\n",
      "Requirement already satisfied: urllib3<1.27,>=1.21.1 in /opt/conda/lib/python3.7/site-packages (from requests[socks]->gdown==4.4.0->flair) (1.26.9)\r\n",
      "Requirement already satisfied: certifi>=2017.4.17 in /opt/conda/lib/python3.7/site-packages (from requests[socks]->gdown==4.4.0->flair) (2022.6.15)\r\n",
      "Requirement already satisfied: soupsieve>1.2 in /opt/conda/lib/python3.7/site-packages (from beautifulsoup4->gdown==4.4.0->flair) (2.3.1)\r\n",
      "Requirement already satisfied: PySocks!=1.5.7,>=1.5.6 in /opt/conda/lib/python3.7/site-packages (from requests[socks]->gdown==4.4.0->flair) (1.7.1)\r\n",
      "Requirement already satisfied: click in /opt/conda/lib/python3.7/site-packages (from sacremoses->transformers>=4.0.0->flair) (8.0.4)\r\n",
      "Building wheels for collected packages: gdown, mpld3, sqlitedict, langdetect, pptree, wikipedia-api, overrides\r\n",
      "  Building wheel for gdown (pyproject.toml) ... \u001b[?25l-\b \b\\\b \b|\b \b/\b \b-\b \b\\\b \b|\b \b/\b \bdone\r\n",
      "\u001b[?25h  Created wheel for gdown: filename=gdown-4.4.0-py3-none-any.whl size=14759 sha256=64824d142ac226d387432182ae7ccc5feba149e3eb7edbe8e2fbf4f1b2fba34c\r\n",
      "  Stored in directory: /root/.cache/pip/wheels/fb/c3/0e/c4d8ff8bfcb0461afff199471449f642179b74968c15b7a69c\r\n",
      "  Building wheel for mpld3 (setup.py) ... \u001b[?25l-\b \b\\\b \b|\b \bdone\r\n",
      "\u001b[?25h  Created wheel for mpld3: filename=mpld3-0.3-py3-none-any.whl size=116702 sha256=08e51a7a232ac43ce951c8befa1bd54023f0b61cf0be6f276613d7511216f02c\r\n",
      "  Stored in directory: /root/.cache/pip/wheels/26/70/6a/1c79e59951a41b4045497da187b2724f5659ca64033cf4548e\r\n",
      "  Building wheel for sqlitedict (setup.py) ... \u001b[?25l-\b \bdone\r\n",
      "\u001b[?25h  Created wheel for sqlitedict: filename=sqlitedict-2.0.0-py3-none-any.whl size=15736 sha256=a7b6e44c18648be59dd988f2633da993692498da3fdd57d412e64e3ab153046e\r\n",
      "  Stored in directory: /root/.cache/pip/wheels/96/dd/2e/0ed4a25cb73fc30c7ea8d10b50acb7226175736067e40a7ea3\r\n",
      "  Building wheel for langdetect (setup.py) ... \u001b[?25l-\b \b\\\b \b|\b \b/\b \bdone\r\n",
      "\u001b[?25h  Created wheel for langdetect: filename=langdetect-1.0.9-py3-none-any.whl size=993242 sha256=db78af980265f0a2726d063122f79215c67a32aa766f46047dfc7460801c0871\r\n",
      "  Stored in directory: /root/.cache/pip/wheels/c5/96/8a/f90c59ed25d75e50a8c10a1b1c2d4c402e4dacfa87f3aff36a\r\n",
      "  Building wheel for pptree (setup.py) ... \u001b[?25l-\b \b\\\b \bdone\r\n",
      "\u001b[?25h  Created wheel for pptree: filename=pptree-3.1-py3-none-any.whl size=4629 sha256=f0d00c028528f69a065be8356dfa73fae5a9248b0cac73ccac38a274080454a4\r\n",
      "  Stored in directory: /root/.cache/pip/wheels/9e/e8/7d/a9c3c19b4722608a0d8b05a38c36bc3f230c43becd2a46794b\r\n",
      "  Building wheel for wikipedia-api (setup.py) ... \u001b[?25l-\b \b\\\b \bdone\r\n",
      "\u001b[?25h  Created wheel for wikipedia-api: filename=Wikipedia_API-0.5.4-py3-none-any.whl size=13477 sha256=8c1b072bade3c12ec17480b6847d2525563688fd36e905ca5c259a27f84f279c\r\n",
      "  Stored in directory: /root/.cache/pip/wheels/d3/24/56/58ba93cf78be162451144e7a9889603f437976ef1ae7013d04\r\n",
      "  Building wheel for overrides (setup.py) ... \u001b[?25l-\b \b\\\b \bdone\r\n",
      "\u001b[?25h  Created wheel for overrides: filename=overrides-3.1.0-py3-none-any.whl size=10187 sha256=3ed2f20f08ece45d3eac2167de035a26981270db6fb0e07d16e032dbd5c2cb67\r\n",
      "  Stored in directory: /root/.cache/pip/wheels/3a/0d/38/01a9bc6e20dcfaf0a6a7b552d03137558ba1c38aea47644682\r\n",
      "Successfully built gdown mpld3 sqlitedict langdetect pptree wikipedia-api overrides\r\n",
      "Installing collected packages: sqlitedict, sentencepiece, pptree, overrides, mpld3, segtok, langdetect, importlib-metadata, ftfy, deprecated, conllu, wikipedia-api, konoha, gdown, bpemb, flair\r\n",
      "  Attempting uninstall: sentencepiece\r\n",
      "    Found existing installation: sentencepiece 0.1.96\r\n",
      "    Uninstalling sentencepiece-0.1.96:\r\n",
      "      Successfully uninstalled sentencepiece-0.1.96\r\n",
      "  Attempting uninstall: overrides\r\n",
      "    Found existing installation: overrides 6.1.0\r\n",
      "    Uninstalling overrides-6.1.0:\r\n",
      "      Successfully uninstalled overrides-6.1.0\r\n",
      "  Attempting uninstall: mpld3\r\n",
      "    Found existing installation: mpld3 0.5.8\r\n",
      "    Uninstalling mpld3-0.5.8:\r\n",
      "      Successfully uninstalled mpld3-0.5.8\r\n",
      "  Attempting uninstall: importlib-metadata\r\n",
      "    Found existing installation: importlib-metadata 4.11.4\r\n",
      "    Uninstalling importlib-metadata-4.11.4:\r\n",
      "      Successfully uninstalled importlib-metadata-4.11.4\r\n",
      "\u001b[31mERROR: pip's dependency resolver does not currently take into account all the packages that are installed. This behaviour is the source of the following dependency conflicts.\r\n",
      "markdown 3.3.7 requires importlib-metadata>=4.4; python_version < \"3.10\", but you have importlib-metadata 3.10.1 which is incompatible.\r\n",
      "ibis-framework 2.1.1 requires importlib-metadata<5,>=4; python_version < \"3.8\", but you have importlib-metadata 3.10.1 which is incompatible.\r\n",
      "gym 0.24.1 requires importlib-metadata>=4.8.0; python_version < \"3.10\", but you have importlib-metadata 3.10.1 which is incompatible.\r\n",
      "google-cloud-pubsublite 1.4.2 requires overrides<7.0.0,>=6.0.1, but you have overrides 3.1.0 which is incompatible.\u001b[0m\u001b[31m\r\n",
      "\u001b[0mSuccessfully installed bpemb-0.3.3 conllu-4.4.2 deprecated-1.2.13 flair-0.11.3 ftfy-6.1.1 gdown-4.4.0 importlib-metadata-3.10.1 konoha-4.6.5 langdetect-1.0.9 mpld3-0.3 overrides-3.1.0 pptree-3.1 segtok-1.5.11 sentencepiece-0.1.95 sqlitedict-2.0.0 wikipedia-api-0.5.4\r\n",
      "\u001b[33mWARNING: Running pip as the 'root' user can result in broken permissions and conflicting behaviour with the system package manager. It is recommended to use a virtual environment instead: https://pip.pypa.io/warnings/venv\u001b[0m\u001b[33m\r\n",
      "\u001b[0m"
     ]
    }
   ],
   "source": [
    "!pip3 install Cython\n",
    "!pip install transformers\n",
    "!pip install flair"
   ]
  },
  {
   "cell_type": "code",
   "execution_count": 19,
   "id": "d9117874",
   "metadata": {
    "_kg_hide-output": true,
    "execution": {
     "iopub.execute_input": "2022-06-28T10:52:09.919893Z",
     "iopub.status.busy": "2022-06-28T10:52:09.919476Z",
     "iopub.status.idle": "2022-06-28T10:53:39.927109Z",
     "shell.execute_reply": "2022-06-28T10:53:39.925937Z"
    },
    "papermill": {
     "duration": 90.072293,
     "end_time": "2022-06-28T10:53:39.929656",
     "exception": false,
     "start_time": "2022-06-28T10:52:09.857363",
     "status": "completed"
    },
    "tags": []
   },
   "outputs": [
    {
     "data": {
      "application/vnd.jupyter.widget-view+json": {
       "model_id": "2d5c6b425c0d430ea27de62a3ebbe12f",
       "version_major": 2,
       "version_minor": 0
      },
      "text/plain": [
       "Downloading:   0%|          | 0.00/2.24G [00:00<?, ?B/s]"
      ]
     },
     "metadata": {},
     "output_type": "display_data"
    },
    {
     "name": "stdout",
     "output_type": "stream",
     "text": [
      "2022-06-28 10:53:10,392 loading file /root/.flair/models/ner-english-ontonotes-large/2da6c2cdd76e59113033adf670340bfd820f0301ae2e39204d67ba2dc276cc28.ec1bdb304b6c66111532c3b1fc6e522460ae73f1901848a4d0362cdf9760edb1\n"
     ]
    },
    {
     "data": {
      "application/vnd.jupyter.widget-view+json": {
       "model_id": "6e37606ead0a4af880a445ce3a0b8942",
       "version_major": 2,
       "version_minor": 0
      },
      "text/plain": [
       "Downloading:   0%|          | 0.00/616 [00:00<?, ?B/s]"
      ]
     },
     "metadata": {},
     "output_type": "display_data"
    },
    {
     "data": {
      "application/vnd.jupyter.widget-view+json": {
       "model_id": "6addefeb47cf4a08b9dbd1a8b860a58c",
       "version_major": 2,
       "version_minor": 0
      },
      "text/plain": [
       "Downloading:   0%|          | 0.00/4.83M [00:00<?, ?B/s]"
      ]
     },
     "metadata": {},
     "output_type": "display_data"
    },
    {
     "data": {
      "application/vnd.jupyter.widget-view+json": {
       "model_id": "f0f1c26e87474c29aa2777930c4f4509",
       "version_major": 2,
       "version_minor": 0
      },
      "text/plain": [
       "Downloading:   0%|          | 0.00/8.68M [00:00<?, ?B/s]"
      ]
     },
     "metadata": {},
     "output_type": "display_data"
    },
    {
     "name": "stdout",
     "output_type": "stream",
     "text": [
      "2022-06-28 10:53:39,271 SequenceTagger predicts: Dictionary with 76 tags: <unk>, O, B-CARDINAL, E-CARDINAL, S-PERSON, S-CARDINAL, S-PRODUCT, B-PRODUCT, I-PRODUCT, E-PRODUCT, B-WORK_OF_ART, I-WORK_OF_ART, E-WORK_OF_ART, B-PERSON, E-PERSON, S-GPE, B-DATE, I-DATE, E-DATE, S-ORDINAL, S-LANGUAGE, I-PERSON, S-EVENT, S-DATE, B-QUANTITY, E-QUANTITY, S-TIME, B-TIME, I-TIME, E-TIME, B-GPE, E-GPE, S-ORG, I-GPE, S-NORP, B-FAC, I-FAC, E-FAC, B-NORP, E-NORP, S-PERCENT, B-ORG, E-ORG, B-LANGUAGE, E-LANGUAGE, I-CARDINAL, I-ORG, S-WORK_OF_ART, I-QUANTITY, B-MONEY\n"
     ]
    }
   ],
   "source": [
    "from flair.models import SequenceTagger\n",
    "\n",
    "tagger = SequenceTagger.load(\"flair/ner-english-ontonotes-large\")"
   ]
  },
  {
   "cell_type": "code",
   "execution_count": 20,
   "id": "7de7978e",
   "metadata": {
    "_kg_hide-output": true,
    "execution": {
     "iopub.execute_input": "2022-06-28T10:53:40.063536Z",
     "iopub.status.busy": "2022-06-28T10:53:40.062541Z",
     "iopub.status.idle": "2022-06-28T10:53:55.084405Z",
     "shell.execute_reply": "2022-06-28T10:53:55.083145Z"
    },
    "papermill": {
     "duration": 15.094774,
     "end_time": "2022-06-28T10:53:55.090313",
     "exception": false,
     "start_time": "2022-06-28T10:53:39.995539",
     "status": "completed"
    },
    "tags": []
   },
   "outputs": [
    {
     "data": {
      "application/vnd.jupyter.widget-view+json": {
       "model_id": "2ec78dae73d04ae1bf1d0099f1fbd11e",
       "version_major": 2,
       "version_minor": 0
      },
      "text/plain": [
       "Downloading:   0%|          | 0.00/432M [00:00<?, ?B/s]"
      ]
     },
     "metadata": {},
     "output_type": "display_data"
    },
    {
     "name": "stdout",
     "output_type": "stream",
     "text": [
      "2022-06-28 10:53:51,614 loading file /root/.flair/models/ner-english/4f4cdab26f24cb98b732b389e6cebc646c36f54cfd6e0b7d3b90b25656e4262f.8baa8ae8795f4df80b28e7f7b61d788ecbb057d1dc85aacb316f1bd02837a4a4\n",
      "2022-06-28 10:53:53,781 SequenceTagger predicts: Dictionary with 20 tags: <unk>, O, S-ORG, S-MISC, B-PER, E-PER, S-LOC, B-ORG, E-ORG, I-PER, S-PER, B-MISC, I-MISC, E-MISC, I-ORG, B-LOC, E-LOC, I-LOC, <START>, <STOP>\n"
     ]
    }
   ],
   "source": [
    "from flair.models import SequenceTagger\n",
    "\n",
    "tagger1 = SequenceTagger.load(\"flair/ner-english\")"
   ]
  },
  {
   "cell_type": "code",
   "execution_count": 21,
   "id": "8ad92fb2",
   "metadata": {
    "_kg_hide-output": true,
    "execution": {
     "iopub.execute_input": "2022-06-28T10:53:55.294204Z",
     "iopub.status.busy": "2022-06-28T10:53:55.293711Z",
     "iopub.status.idle": "2022-06-28T10:55:11.786844Z",
     "shell.execute_reply": "2022-06-28T10:55:11.785711Z"
    },
    "papermill": {
     "duration": 76.607681,
     "end_time": "2022-06-28T10:55:11.789267",
     "exception": false,
     "start_time": "2022-06-28T10:53:55.181586",
     "status": "completed"
    },
    "tags": []
   },
   "outputs": [
    {
     "data": {
      "application/vnd.jupyter.widget-view+json": {
       "model_id": "203263a7eb5b475eaf4ae255d14578c4",
       "version_major": 2,
       "version_minor": 0
      },
      "text/plain": [
       "Downloading:   0%|          | 0.00/2.24G [00:00<?, ?B/s]"
      ]
     },
     "metadata": {},
     "output_type": "display_data"
    },
    {
     "name": "stdout",
     "output_type": "stream",
     "text": [
      "2022-06-28 10:54:52,114 loading file /root/.flair/models/ner-english-large/07301f59bb8cb113803be316267f06ddf9243cdbba92a4c8067ef92442d2c574.554244d3476d97501a766a98078421817b14654496b86f2f7bd139dc502a4f29\n",
      "2022-06-28 10:55:11,086 SequenceTagger predicts: Dictionary with 20 tags: <unk>, O, S-ORG, S-MISC, B-PER, E-PER, S-LOC, B-ORG, E-ORG, I-PER, S-PER, B-MISC, I-MISC, E-MISC, I-ORG, B-LOC, E-LOC, I-LOC, <START>, <STOP>\n"
     ]
    }
   ],
   "source": [
    "from flair.models import SequenceTagger\n",
    "\n",
    "tagger2 = SequenceTagger.load(\"flair/ner-english-large\")"
   ]
  },
  {
   "cell_type": "markdown",
   "id": "c20a8dec",
   "metadata": {
    "papermill": {
     "duration": 0.057116,
     "end_time": "2022-06-28T10:55:11.904361",
     "exception": false,
     "start_time": "2022-06-28T10:55:11.847245",
     "status": "completed"
    },
    "tags": []
   },
   "source": [
    "# Ontonotes"
   ]
  },
  {
   "cell_type": "code",
   "execution_count": 22,
   "id": "38bd3606",
   "metadata": {
    "execution": {
     "iopub.execute_input": "2022-06-28T10:55:12.019342Z",
     "iopub.status.busy": "2022-06-28T10:55:12.019005Z",
     "iopub.status.idle": "2022-06-28T11:19:06.228057Z",
     "shell.execute_reply": "2022-06-28T11:19:06.227037Z"
    },
    "papermill": {
     "duration": 1434.269969,
     "end_time": "2022-06-28T11:19:06.230710",
     "exception": false,
     "start_time": "2022-06-28T10:55:11.960741",
     "status": "completed"
    },
    "tags": []
   },
   "outputs": [
    {
     "name": "stdout",
     "output_type": "stream",
     "text": [
      "2022-06-28 10:57:38,594 Warning: An empty Sentence was created! Are there empty strings in your dataset?\n",
      "2022-06-28 11:02:47,664 Warning: An empty Sentence was created! Are there empty strings in your dataset?\n",
      "2022-06-28 11:10:30,586 Warning: An empty Sentence was created! Are there empty strings in your dataset?\n",
      "2022-06-28 11:10:34,382 Warning: An empty Sentence was created! Are there empty strings in your dataset?\n",
      "2022-06-28 11:11:43,935 Warning: An empty Sentence was created! Are there empty strings in your dataset?\n",
      "2022-06-28 11:11:47,054 Warning: An empty Sentence was created! Are there empty strings in your dataset?\n"
     ]
    }
   ],
   "source": [
    "lst=[]\n",
    "label=[]\n",
    "Per=[]\n",
    "Date=[]\n",
    "GPE=[]\n",
    "ORG=[]\n",
    "LOC=[]\n",
    "Bulding=[]\n",
    "Cardinal=[]\n",
    "from flair.data import Sentence\n",
    "\n",
    "contract_onto=pd.DataFrame({\"contract_text\":\"\", \"Name-ontonotes\":[], \"GPE-ontonotes\":\"\",\"ORG-ontonotes\":\"\", \"Date-ontonotes\":\"\"})\n",
    "for i in range(23729):\n",
    "        sentencess =Sentence(contract_text[i])\n",
    "        contract_onto.loc[i,\"contract_text\"]=contract_text[i]\n",
    "        tagger.predict(sentencess)\n",
    "        dc={}\n",
    "        P=[]\n",
    "        D=[]\n",
    "        G=[]\n",
    "        L=[]\n",
    "        O=[]\n",
    "        B=[]\n",
    "        C=[]\n",
    "        for entity in sentencess.get_spans('ner'):\n",
    "                     \n",
    "                     if (entity.get_label(\"ner\").score > 0.97) & (entity.get_label(\"ner\").value != \"LAW\")& (entity.get_label(\"ner\").value != \"QUANTITY\") & (entity.get_label(\"ner\").value != \"WORK_OF_ART\") & (entity.get_label(\"ner\").value != \"LAW\")& (entity.get_label(\"ner\").value != \"QUANTITY\") & (entity.get_label(\"ner\").value != \"EVENT\")  :\n",
    "                        dc[entity.text]= entity.get_label(\"ner\").value \n",
    "        \n",
    "        \n",
    "        for j in dc :\n",
    "                if dc[j]==\"PERSON\":\n",
    "                      P.append(j)\n",
    "                elif dc[j]==\"ORG\":\n",
    "                      O.append(j)\n",
    "                elif dc[j]==\"DATE\":\n",
    "                      D.append(j)\n",
    "                elif dc[j]==\"GPE\":\n",
    "                      G.append(j)\n",
    "                elif dc[j]==\"LOC\":\n",
    "                      L.append(j)\n",
    "                elif dc[j]==\"FAC\":\n",
    "                      B.append(j)\n",
    "                elif dc[j]==\"CARDINAL\":\n",
    "                      C.append(j)\n",
    "        Per.append(P)\n",
    "        Date.append(D)\n",
    "        ORG.append(O)\n",
    "        GPE.append(G)\n",
    "        LOC.append(L)\n",
    "        Bulding.append(B)\n",
    "        Cardinal.append(C)\n",
    "        \n",
    "            \n",
    "contract_onto[\"Date-ontonotes\"]=Date\n",
    "contract_onto[\"Name-ontonotes\"]=Per\n",
    "contract_onto[\"GPE-ontonotes\"]=GPE\n",
    "contract_onto[\"ORG-ontonotes\"]=ORG \n",
    "contract_onto[\"LOC-ontonotes\"]=LOC \n",
    "contract_onto[\"Building-ontonotes\"]=Bulding\n",
    "contract_onto[\"Cardinal-ontonotes\"]=Cardinal"
   ]
  },
  {
   "cell_type": "code",
   "execution_count": 23,
   "id": "2fa952b1",
   "metadata": {
    "execution": {
     "iopub.execute_input": "2022-06-28T11:19:06.411245Z",
     "iopub.status.busy": "2022-06-28T11:19:06.410891Z",
     "iopub.status.idle": "2022-06-28T11:19:06.417846Z",
     "shell.execute_reply": "2022-06-28T11:19:06.416861Z"
    },
    "papermill": {
     "duration": 0.071969,
     "end_time": "2022-06-28T11:19:06.419951",
     "exception": false,
     "start_time": "2022-06-28T11:19:06.347982",
     "status": "completed"
    },
    "tags": []
   },
   "outputs": [],
   "source": [
    "contract_onto[\"contract_text\"]=contract_text"
   ]
  },
  {
   "cell_type": "code",
   "execution_count": 24,
   "id": "740eaa51",
   "metadata": {
    "execution": {
     "iopub.execute_input": "2022-06-28T11:19:06.545585Z",
     "iopub.status.busy": "2022-06-28T11:19:06.544617Z",
     "iopub.status.idle": "2022-06-28T11:19:06.573933Z",
     "shell.execute_reply": "2022-06-28T11:19:06.572843Z"
    },
    "papermill": {
     "duration": 0.094985,
     "end_time": "2022-06-28T11:19:06.576250",
     "exception": false,
     "start_time": "2022-06-28T11:19:06.481265",
     "status": "completed"
    },
    "tags": []
   },
   "outputs": [
    {
     "data": {
      "text/html": [
       "<div>\n",
       "<style scoped>\n",
       "    .dataframe tbody tr th:only-of-type {\n",
       "        vertical-align: middle;\n",
       "    }\n",
       "\n",
       "    .dataframe tbody tr th {\n",
       "        vertical-align: top;\n",
       "    }\n",
       "\n",
       "    .dataframe thead th {\n",
       "        text-align: right;\n",
       "    }\n",
       "</style>\n",
       "<table border=\"1\" class=\"dataframe\">\n",
       "  <thead>\n",
       "    <tr style=\"text-align: right;\">\n",
       "      <th></th>\n",
       "      <th>contract_text</th>\n",
       "      <th>Name-ontonotes</th>\n",
       "      <th>GPE-ontonotes</th>\n",
       "      <th>ORG-ontonotes</th>\n",
       "      <th>Date-ontonotes</th>\n",
       "      <th>LOC-ontonotes</th>\n",
       "      <th>Building-ontonotes</th>\n",
       "      <th>Cardinal-ontonotes</th>\n",
       "    </tr>\n",
       "  </thead>\n",
       "  <tbody>\n",
       "    <tr>\n",
       "      <th>0</th>\n",
       "      <td>North Carolina This indenture made entered Thi...</td>\n",
       "      <td>[H.G . Cutler, Thos R Underwood, Alfred A McKe...</td>\n",
       "      <td>[North Carolina, County of Carteret]</td>\n",
       "      <td>[]</td>\n",
       "      <td>[This 5th day of November 1853]</td>\n",
       "      <td>[Stake North, Bogue Sound, Shepperd Creek]</td>\n",
       "      <td>[]</td>\n",
       "      <td>[five hundred ten, 13.0, 203, 209, 4, 85, 116,...</td>\n",
       "    </tr>\n",
       "    <tr>\n",
       "      <th>1</th>\n",
       "      <td>State of North Carolina Currituck County . Thi...</td>\n",
       "      <td>[John B. Etheridge, Little John Etheridge, Joh...</td>\n",
       "      <td>[North Carolina, Currituck County, County of C...</td>\n",
       "      <td>[]</td>\n",
       "      <td>[fifth day of September , year, One Thousand e...</td>\n",
       "      <td>[Roanoke Island, Croatain Sound]</td>\n",
       "      <td>[]</td>\n",
       "      <td>[]</td>\n",
       "    </tr>\n",
       "    <tr>\n",
       "      <th>2</th>\n",
       "      <td>near Lizzie Etheridges gate , thence South 56 ...</td>\n",
       "      <td>[Lizzie Etheridges, Little John Etheridge, Joh...</td>\n",
       "      <td>[]</td>\n",
       "      <td>[]</td>\n",
       "      <td>[]</td>\n",
       "      <td>[Red Hill, Croatan Sound, Sound]</td>\n",
       "      <td>[]</td>\n",
       "      <td>[]</td>\n",
       "    </tr>\n",
       "    <tr>\n",
       "      <th>3</th>\n",
       "      <td>Copy Agreement of Apprenticeship Bu Mrs. Kate ...</td>\n",
       "      <td>[Kate V.Chamblin, James Samenett, Betty Taylor...</td>\n",
       "      <td>[Carroll Parish La]</td>\n",
       "      <td>[U.S. Army]</td>\n",
       "      <td>[Oct. 1 1866, Nov. 3 1866]</td>\n",
       "      <td>[]</td>\n",
       "      <td>[]</td>\n",
       "      <td>[]</td>\n",
       "    </tr>\n",
       "    <tr>\n",
       "      <th>4</th>\n",
       "      <td>Copy Agreement of Apprenticeship . This agreem...</td>\n",
       "      <td>[Kate V. Chambliss, James Samenett, Betty Tayl...</td>\n",
       "      <td>[New Orleans Louisiana]</td>\n",
       "      <td>[]</td>\n",
       "      <td>[1 day of October A . D. 1866, Octr 31 1865, 1...</td>\n",
       "      <td>[]</td>\n",
       "      <td>[]</td>\n",
       "      <td>[two]</td>\n",
       "    </tr>\n",
       "  </tbody>\n",
       "</table>\n",
       "</div>"
      ],
      "text/plain": [
       "                                       contract_text  \\\n",
       "0  North Carolina This indenture made entered Thi...   \n",
       "1  State of North Carolina Currituck County . Thi...   \n",
       "2  near Lizzie Etheridges gate , thence South 56 ...   \n",
       "3  Copy Agreement of Apprenticeship Bu Mrs. Kate ...   \n",
       "4  Copy Agreement of Apprenticeship . This agreem...   \n",
       "\n",
       "                                      Name-ontonotes  \\\n",
       "0  [H.G . Cutler, Thos R Underwood, Alfred A McKe...   \n",
       "1  [John B. Etheridge, Little John Etheridge, Joh...   \n",
       "2  [Lizzie Etheridges, Little John Etheridge, Joh...   \n",
       "3  [Kate V.Chamblin, James Samenett, Betty Taylor...   \n",
       "4  [Kate V. Chambliss, James Samenett, Betty Tayl...   \n",
       "\n",
       "                                       GPE-ontonotes ORG-ontonotes  \\\n",
       "0               [North Carolina, County of Carteret]            []   \n",
       "1  [North Carolina, Currituck County, County of C...            []   \n",
       "2                                                 []            []   \n",
       "3                                [Carroll Parish La]   [U.S. Army]   \n",
       "4                            [New Orleans Louisiana]            []   \n",
       "\n",
       "                                      Date-ontonotes  \\\n",
       "0                    [This 5th day of November 1853]   \n",
       "1  [fifth day of September , year, One Thousand e...   \n",
       "2                                                 []   \n",
       "3                         [Oct. 1 1866, Nov. 3 1866]   \n",
       "4  [1 day of October A . D. 1866, Octr 31 1865, 1...   \n",
       "\n",
       "                                LOC-ontonotes Building-ontonotes  \\\n",
       "0  [Stake North, Bogue Sound, Shepperd Creek]                 []   \n",
       "1            [Roanoke Island, Croatain Sound]                 []   \n",
       "2            [Red Hill, Croatan Sound, Sound]                 []   \n",
       "3                                          []                 []   \n",
       "4                                          []                 []   \n",
       "\n",
       "                                  Cardinal-ontonotes  \n",
       "0  [five hundred ten, 13.0, 203, 209, 4, 85, 116,...  \n",
       "1                                                 []  \n",
       "2                                                 []  \n",
       "3                                                 []  \n",
       "4                                              [two]  "
      ]
     },
     "execution_count": 24,
     "metadata": {},
     "output_type": "execute_result"
    }
   ],
   "source": [
    "contract_onto.head()"
   ]
  },
  {
   "cell_type": "code",
   "execution_count": 25,
   "id": "7e1c169d",
   "metadata": {
    "execution": {
     "iopub.execute_input": "2022-06-28T11:19:06.706583Z",
     "iopub.status.busy": "2022-06-28T11:19:06.705944Z",
     "iopub.status.idle": "2022-06-28T11:19:06.715821Z",
     "shell.execute_reply": "2022-06-28T11:19:06.714838Z"
    },
    "papermill": {
     "duration": 0.077072,
     "end_time": "2022-06-28T11:19:06.717968",
     "exception": false,
     "start_time": "2022-06-28T11:19:06.640896",
     "status": "completed"
    },
    "tags": []
   },
   "outputs": [
    {
     "data": {
      "text/plain": [
       "0                          [This 5th day of November 1853]\n",
       "1        [fifth day of September , year, One Thousand e...\n",
       "2                                                       []\n",
       "3                               [Oct. 1 1866, Nov. 3 1866]\n",
       "4        [1 day of October A . D. 1866, Octr 31 1865, 1...\n",
       "                               ...                        \n",
       "23724                                                   []\n",
       "23725                                                   []\n",
       "23726                                                   []\n",
       "23727                                                   []\n",
       "23728                                                   []\n",
       "Name: Date-ontonotes, Length: 23729, dtype: object"
      ]
     },
     "execution_count": 25,
     "metadata": {},
     "output_type": "execute_result"
    }
   ],
   "source": [
    "contract_onto[\"Date-ontonotes\"]"
   ]
  },
  {
   "cell_type": "code",
   "execution_count": 26,
   "id": "1b9d48e0",
   "metadata": {
    "execution": {
     "iopub.execute_input": "2022-06-28T11:19:06.845063Z",
     "iopub.status.busy": "2022-06-28T11:19:06.844375Z",
     "iopub.status.idle": "2022-06-28T11:19:07.443235Z",
     "shell.execute_reply": "2022-06-28T11:19:07.442222Z"
    },
    "papermill": {
     "duration": 0.666353,
     "end_time": "2022-06-28T11:19:07.445925",
     "exception": false,
     "start_time": "2022-06-28T11:19:06.779572",
     "status": "completed"
    },
    "tags": []
   },
   "outputs": [],
   "source": [
    "G=[]\n",
    "for i in contract_onto[\"Date-ontonotes\"]:\n",
    "    M=[]\n",
    "    for j in i:\n",
    "        date=re.search(r'^\\d\\.*.*\\d\\d$' ,j)\n",
    "        date2=re.search(r'^[A-Z]\\.*.*\\d\\.*.*\\d\\d$' ,j)\n",
    "        M.append(date)\n",
    "        M.append(date2)\n",
    "    G.append(M)\n",
    "    \n",
    "\n",
    "GF=[]\n",
    "for i in G:\n",
    "    Final_date=[]\n",
    "    for j in i:\n",
    "        if j!=None:\n",
    "            Final_date.append(j.group())\n",
    "    GF.append(Final_date)\n",
    "    \n",
    "            \n",
    "      "
   ]
  },
  {
   "cell_type": "code",
   "execution_count": 27,
   "id": "c6af7442",
   "metadata": {
    "execution": {
     "iopub.execute_input": "2022-06-28T11:19:07.578680Z",
     "iopub.status.busy": "2022-06-28T11:19:07.577637Z",
     "iopub.status.idle": "2022-06-28T11:19:07.585132Z",
     "shell.execute_reply": "2022-06-28T11:19:07.584090Z"
    },
    "papermill": {
     "duration": 0.07639,
     "end_time": "2022-06-28T11:19:07.587355",
     "exception": false,
     "start_time": "2022-06-28T11:19:07.510965",
     "status": "completed"
    },
    "tags": []
   },
   "outputs": [
    {
     "data": {
      "text/plain": [
       "23729"
      ]
     },
     "execution_count": 27,
     "metadata": {},
     "output_type": "execute_result"
    }
   ],
   "source": [
    "len(GF)"
   ]
  },
  {
   "cell_type": "code",
   "execution_count": 28,
   "id": "94429dbd",
   "metadata": {
    "execution": {
     "iopub.execute_input": "2022-06-28T11:19:07.716768Z",
     "iopub.status.busy": "2022-06-28T11:19:07.715749Z",
     "iopub.status.idle": "2022-06-28T11:19:07.733232Z",
     "shell.execute_reply": "2022-06-28T11:19:07.732152Z"
    },
    "papermill": {
     "duration": 0.083888,
     "end_time": "2022-06-28T11:19:07.735644",
     "exception": false,
     "start_time": "2022-06-28T11:19:07.651756",
     "status": "completed"
    },
    "tags": []
   },
   "outputs": [],
   "source": [
    "contract_onto[\"postDate-ontonotes\"]=GF"
   ]
  },
  {
   "cell_type": "code",
   "execution_count": 29,
   "id": "7ceca9f7",
   "metadata": {
    "execution": {
     "iopub.execute_input": "2022-06-28T11:19:07.867289Z",
     "iopub.status.busy": "2022-06-28T11:19:07.866931Z",
     "iopub.status.idle": "2022-06-28T11:19:08.928134Z",
     "shell.execute_reply": "2022-06-28T11:19:08.926942Z"
    },
    "papermill": {
     "duration": 1.131067,
     "end_time": "2022-06-28T11:19:08.931378",
     "exception": false,
     "start_time": "2022-06-28T11:19:07.800311",
     "status": "completed"
    },
    "tags": []
   },
   "outputs": [],
   "source": [
    "G=[]\n",
    "for i in contract_onto[\"postDate-ontonotes\"]:\n",
    "    M=[]\n",
    "    for j in i:\n",
    "        Final_date1=re.sub(r'([0-9]{1,2})\\.*.*\\s([A-Z][a-z]\\S*)\\.*.*\\s([0-9]{2,4})',r'\\1-\\2-\\3' ,j)\n",
    "        Final_date2=re.sub(r'([A-Z]\\.*.*)\\s([0-9]{1,2})\\.*.*\\s([0-9]{2,4})',r'\\2-\\1-\\3' ,j)\n",
    "        final_date3=re.sub(r'([A-Z][a-z]\\S*)\\.*.*\\s([A-Z][a-z]\\S*)\\.*.*\\s([0-9]{2,4})',r'\\1-\\2-\\3' ,j)\n",
    "        final_date4=re.sub(r'(^[A-Za-z]\\S*.*.)day\\.*.*\\s([A-Z][a-z]\\S*)\\.*.*\\s([0-9]{2,4})',r'\\1-\\2-\\3' ,j)\n",
    "        if Final_date1 != j:   \n",
    "            M.append(Final_date1)\n",
    "        if Final_date2 != j :\n",
    "            M.append(Final_date2)\n",
    "        if final_date3 != j :\n",
    "            M.append(final_date3)\n",
    "        if final_date4 != j :\n",
    "            M.append(final_date4)\n",
    "    G.append(M)\n",
    "    \n",
    "\n",
    "contract_onto[\"postDate-ontonotes\"]=G"
   ]
  },
  {
   "cell_type": "code",
   "execution_count": 30,
   "id": "76c2b6a4",
   "metadata": {
    "execution": {
     "iopub.execute_input": "2022-06-28T11:19:09.084186Z",
     "iopub.status.busy": "2022-06-28T11:19:09.083108Z",
     "iopub.status.idle": "2022-06-28T11:19:09.901950Z",
     "shell.execute_reply": "2022-06-28T11:19:09.900688Z"
    },
    "papermill": {
     "duration": 0.898774,
     "end_time": "2022-06-28T11:19:09.905369",
     "exception": false,
     "start_time": "2022-06-28T11:19:09.006595",
     "status": "completed"
    },
    "tags": []
   },
   "outputs": [],
   "source": [
    "NG=[]\n",
    "for i in G:\n",
    "    ng=[]\n",
    "    for j in i:\n",
    "        \n",
    "        date=re.findall(r'([0-9]{1,2})-([A-Z][a-z]\\S*)-([0-9]{2,4})',j)\n",
    "        if date !=[]:\n",
    "            dates=[]\n",
    "            for k in date:\n",
    "                for l in k:\n",
    "                    dates.append(l)\n",
    "                \n",
    "                \n",
    "                if dates[1] in [\"August\",\"Aug\",\"augt\",\"AUGUST\",\"Augst\",\"Augt\",\"AUG\",\"Augusta\"]:\n",
    "                    dates[1]= \"August\"\n",
    "                elif dates[1] in [\"September\",\"Sept\",\"SEP\",\"Sep\",\"Septr\",\"SEPTEMBER\",'Sepr','Septh']:\n",
    "                    dates[1]= \"Septembre\"\n",
    "                elif dates[1] in [\"October\",\"Oct\",\"OCT\",\"OCTOBER\"]:\n",
    "                    dates[1]= \"October\"\n",
    "                elif dates[1] in [\"November\",\"NOV\",\"Nov\",\"Novmbr\",\"Nvbr\",\"Novb\",\"NOVEMBER\", \"The\"]:\n",
    "                    dates[1]= \"November\"\n",
    "                elif dates[1] in [\"December\",\"Dec\",\"Decbr\",\"DEC\",\"DECEMBER\",\"Decber\"]:\n",
    "                    dates[1]= \"December\"\n",
    "                elif dates[1] in [\"January\",\"Janry\",\"Jan\",\"Jany\",\"JAN\",\"Janur\",\"JANUARY\"]:\n",
    "                    dates[1]= \"January\"\n",
    "                elif dates[1] in [\"February\",\"Feby\",\"Febry\",\"FEB\",\"FEBRUARY\"]:\n",
    "                    dates[1]= \"February\"\n",
    "                elif dates[1] in [\"March\",\"Mar\"]:\n",
    "                    dates[1]= \"March\"\n",
    "                elif dates[1] in [\"April\",\"Apl\",\"Aprl\",\"APRIL\",\"Apr\"]:\n",
    "                    dates[1]= \"April\"\n",
    "                elif dates[1] in [\"May\",\"MAY\"]:\n",
    "                    dates[1]= \"May\"\n",
    "                elif dates[1] in [\"JUN\",\"Jun\",\"June\"]:\n",
    "                    dates[1]= \"June\"\n",
    "                elif dates[1] in [\"JULY\",\"July\",\"JUL\"]:\n",
    "                    dates[1]= \"July\"\n",
    "                j = dates[0]+\"-\"+dates[1]+\"-\"+dates[2]\n",
    "                ng.append(j)\n",
    "        else :\n",
    "                date = re.findall(r'(^[A-Za-z]\\S*.*.)-([A-Z][a-z]\\S*)-([0-9]{2,4})',j ) \n",
    "                dates=[]\n",
    "                for k in date:\n",
    "                    for l in k:\n",
    "                        dates.append(l)\n",
    "                \n",
    "                \n",
    "                    if dates[1] in [\"August\",\"Aug\",\"augt\",\"AUGUST\",\"Augst\",'Augt',\"AUG\",\"Augusta\"]:\n",
    "                        dates[1]= \"August\"\n",
    "                    elif dates[1] in [\"September\",\"Sept\",\"SEP\",\"Sep\",\"Septr\",\"SEPTEMBER\",\"Sepr\",\"Septh\", \"This\", \"This \"]:\n",
    "                        dates[1]= \"Septembre\"\n",
    "                    elif dates[1] in [\"October\",\"Oct\",\"OCT\",\"OCTOBER\"]:\n",
    "                        dates[1]= \"October\"\n",
    "                    elif dates[1] in [\"November\",\"NOV\",\"Nov\",\"Novmbr\",\"Nvbr\",\"Novb\",\"NOVEMBER\"]:\n",
    "                        dates[1]= \"November\"\n",
    "                    elif dates[1] in [\"December\",\"Dec\",\"Decbr\",\"DEC\",\"DECEMBER\",\"Decber\"]:\n",
    "                        dates[1]= \"December\"\n",
    "                    elif dates[1] in [\"January\",\"Janry\",\"Jan\",\"Jany\",\"JAN\",\"Janur\",\"JANUARY\"]:\n",
    "                        dates[1]= \"January\"\n",
    "                    elif dates[1] in [\"February\",\"Feby\",\"Febry\",\"FEB\",\"FEBRUARY\"]:\n",
    "                        dates[1]= \"February\"\n",
    "                    elif dates[1] in [\"March\",\"Mar\"]:\n",
    "                        dates[1]= \"March\"\n",
    "                    elif dates[1] in [\"April\",\"Apl\",\"Aprl\",\"APRIL\",\"Apr\"]:\n",
    "                        dates[1]= \"April\"\n",
    "                    elif dates[1] in [\"May\",\"MAY\"]:\n",
    "                        dates[1]= \"May\"\n",
    "                    elif dates[1] in [\"JUN\",\"Jun\",\"June\"]:\n",
    "                        dates[1]= \"June\"\n",
    "                    elif dates[1] in [\"JULY\",\"July\",\"JUL\"]:\n",
    "                        dates[1]= \"July\"\n",
    "                    if dates[0]== \"fifteenth\" :\n",
    "                        dates[0]=\"15\"\n",
    "                    elif (dates[0]==\"sixteenth\") |(dates[0]==\"This 16 \"):\n",
    "                        dates[0]=\"16\"\n",
    "                    elif dates[0]==\"Twenty\":\n",
    "                        dates[0]=\"20\" \n",
    "                    elif dates[0]==\"Twentyseventh\":\n",
    "                        dates[0]=\"27\" \n",
    "                    elif (dates[0]==\"Twenty Eighth\") |(dates[0]==\"TwentyEight\") |(dates[0]==\"TwentyEight \") |(dates[0]==\"Twentyeight\"):\n",
    "                        dates[0]=\"28\"\n",
    "                    elif (dates[0]==\"Ninth\") |(dates[0]==\"Ninth \")|(dates[0]==\"Augusta 9th \") |(dates[0]==\"ninth\") |(dates[0]==\"ninth \")|(dates[0]==\"Augusta 9th\"):\n",
    "                        dates[0]=\"9\"\n",
    "                    \n",
    "                    elif dates[0]=='Seventh':\n",
    "                        dates[0]=\"7\" \n",
    "                    elif (dates[0]=='The') |(dates[0]==\"The 9th\") :\n",
    "                        dates[0]=\"9\"\n",
    "                    elif dates[0]==\"the 9\" :\n",
    "                        dates[0]=\"9\"\n",
    "                    elif (dates[0]==\"Eighth \") |(dates[0]==\"Eighth\") |(dates[0]==\"eighth\") |(dates[0]==\"eighth \"):\n",
    "                        dates[0]=\"8\"\n",
    "                    elif dates[0]==\"Seventh \":\n",
    "                        dates[0]=\"7\"\n",
    "                    elif (dates[0]==\"Twenty ninth \")| (dates[0]==\"Twenty ninth\") | (dates[0]==\"twenty ninth \")|(dates[0]==\"Twenty Ninth \")|(dates[0]==\"Twenty Ninth\") :\n",
    "                        dates[0]=\"29\"\n",
    "                    elif (dates[0]==\"Thirty\") |(dates[0]==\"Thirty \") | (dates[0]==\"thirtieth \"):\n",
    "                        dates[0]=\"30\"\n",
    "                    elif (dates[0]==\"Thirty first \") |(dates[0]==\"Thirty first\"):\n",
    "                        dates[0]=\"31\"\n",
    "                  \n",
    "                    \n",
    "                    elif dates[0]==\"first \":\n",
    "                        dates[0]=\"1\"\n",
    "                    elif (dates[0]==\"Second \") |(dates[0]==\"Second\") |(dates[0]==\"second\")|(dates[0]==\"second \"):\n",
    "                        dates[0]=\"2\"\n",
    "                    elif dates[0]==\"fourth \":\n",
    "                        dates[0]=\"4\"\n",
    "                    elif dates[0]==\"tenth \":\n",
    "                        dates[0]=\"10\"\n",
    "                    elif (dates[0]==\"Fifth \")|(dates[0]==\"Fifth\") |(dates[0]==\"fifth \")|(dates[0]==\"fifth\"):\n",
    "                        dates[0]=\"5\"\n",
    "                    elif (dates[0]==\"This\") | (dates[0]==\"This 7th \")|(dates[0]==\"seventh \") |(dates[0]==\"seventh\") |(dates[0]==\"Seventh \"):\n",
    "                        dates[0]=\"7\"\n",
    "                    elif (dates[0]==\"This 31st\") |(dates[0]==\"Thirty-first \"):\n",
    "                        dates[0]=\"31\"\n",
    "                    elif (dates[0]==\"Thirtieth\") |(dates[0]==\"Thirtieth \") |(dates[0]==\"Thirty\"):\n",
    "                        dates[0]=\"30\"\n",
    "                    elif dates[0]==\"twenty fifth \":\n",
    "                        dates[0]=\"25\"\n",
    "                    elif dates[0]==\"Twenty seventh \":\n",
    "                        dates[0]=\"27\"\n",
    "                    elif (dates[0]==\"Twenty sixth \") |(dates[0]==\"Twentysixth \")|(dates[0]==\"Twentysixth\") |(dates[0]==\"twentysixth \"):\n",
    "                        dates[0]=\"26\"\n",
    "                    elif dates[0]==\"third \":\n",
    "                        dates[0]=\"3\" \n",
    "                    elif dates[0]==\"third\":\n",
    "                        dates[0]=\"3\"\n",
    "                    elif dates[0]==\"Third \":\n",
    "                        dates[0]=\"3\"\n",
    "                    elif dates[0]==\"Third\":\n",
    "                        dates[0]=\"3\"\n",
    "                    \n",
    "                    elif dates[0]==\"Tenth\":\n",
    "                        dates[0]=\"10\" \n",
    "                    elif dates[0]==\"Augusta\":\n",
    "                        dates[0]=\"9\" \n",
    "                    elif (dates[0]==\"this_sixth \")|(dates[0]==\"sixth \")| (dates[0]==\"Sixth\") | (dates[0]==\"Sixth \") |(dates[0]==\"this sixth \"):\n",
    "                        dates[0]=\"6\" \n",
    "                        \n",
    "                    elif dates[0]==\"Tenth \":\n",
    "                        dates[0]=\"10\"\n",
    "                    elif (dates[0]==\"twentieth\")|(dates[0]==\"This 20th \"):\n",
    "                        dates[0]=\"20\"\n",
    "                    elif (dates[0]==\"twenty fourth \") |(dates[0]==\"twenty fourth\") |(dates[0]==\"Twenty fourth \") |(dates[0]==\"Twenty fourth\"):\n",
    "                        dates[0]=\"24\"\n",
    "                    elif (dates[0]==\"fifteenth \") |(dates[0]==\"Fifteenth \") |(dates[0]==\"Fifteenth\"):\n",
    "                        dates[0]=\"15\"\n",
    "                    elif dates[0]==\"twentieth \":\n",
    "                        dates[0]=\"20\"\n",
    "                    elif dates[0]==\"Eighteenth \":\n",
    "                        dates[0]=\"18\"\n",
    "                    elif dates[0]==\"Eighteenth\":\n",
    "                        dates[0]=\"18\"\n",
    "                    elif (dates[0]==\"Nineteenth \") |(dates[0]==\"Nineteenth\"):\n",
    "                        dates[0]=\"19\"\n",
    "                    elif dates[0]==\"First \":\n",
    "                        dates[0]=\"1\"\n",
    "                    elif dates[0]==\"First\":\n",
    "                        dates[0]=\"1\"\n",
    "                    elif (dates[0]==\"Sixteenth \")|(dates[0]==\"this 16\") |(dates[0]==\"Sixteenth\"):\n",
    "                        dates[0]=\"16\"\n",
    "                   \n",
    "                    elif dates[0]==\"twenty third \":\n",
    "                        dates[0]=\"23\"\n",
    "                    elif dates[0]==\"twenty third\":\n",
    "                        dates[0]=\"23\"\n",
    "                    elif dates[0]==\"Twenty third \":\n",
    "                        dates[0]=\"23\"\n",
    "                    elif dates[0]==\"Twenty Second \":\n",
    "                        dates[0]=\"22\"\n",
    "                    elif dates[0]==\"Twenty Second\":\n",
    "                        dates[0]=\"22\"\n",
    "                    elif dates[0]==\"Twenty Eighth \":\n",
    "                        dates[0]=\"28\"\n",
    "                    elif dates[0]==\"Twentysenventh \":\n",
    "                        dates[0]=\"27\"\n",
    "                    elif dates[0]==\"twenty third \":\n",
    "                        dates[0]=\"23\"\n",
    "                    elif (dates[0]==\"twenty third\") |(dates[0]==\"Twentythird\")|(dates[0]==\"Twentythird \"):\n",
    "                        dates[0]=\"23\"\n",
    "                    elif (dates[0]==\"fourteenth \") | (dates[0]==\"fourteenth\") | (dates[0]==\"Fourteenth\") | (dates[0]==\"Fourteenth \"):\n",
    "                        dates[0]=\"14\"\n",
    "                    elif (dates[0]==\"Eleventh \") | (dates[0]==\"Eleventh\") |(dates[0]==\"eleventh \") :\n",
    "                        dates[0]=\"11\"\n",
    "                    elif (dates[0]==\"Thirteenth\") | (dates[0]==\"Thirteenth \") :\n",
    "                        dates[0]=\"13\"\n",
    "                    elif (dates[0]==\"seventeenth \") |(dates[0]==\"seventeenth\") |(dates[0]==\"Seventeenth \") :\n",
    "                        dates[0]=\"17\"\n",
    "                     \n",
    "                     \n",
    "                     \n",
    "                    \n",
    "                        \n",
    "                    j = dates[0]+\"-\"+dates[1]+\"-\"+dates[2]\n",
    "                    ng.append(j)\n",
    "            \n",
    "            \n",
    "    NG.append(ng)   "
   ]
  },
  {
   "cell_type": "code",
   "execution_count": 31,
   "id": "de9cfa54",
   "metadata": {
    "execution": {
     "iopub.execute_input": "2022-06-28T11:19:10.058123Z",
     "iopub.status.busy": "2022-06-28T11:19:10.056936Z",
     "iopub.status.idle": "2022-06-28T11:19:10.081882Z",
     "shell.execute_reply": "2022-06-28T11:19:10.078869Z"
    },
    "papermill": {
     "duration": 0.107814,
     "end_time": "2022-06-28T11:19:10.088153",
     "exception": false,
     "start_time": "2022-06-28T11:19:09.980339",
     "status": "completed"
    },
    "tags": []
   },
   "outputs": [],
   "source": [
    "contract_onto[\"standard_date-ontonotes\"]=NG"
   ]
  },
  {
   "cell_type": "code",
   "execution_count": 32,
   "id": "5e168b03",
   "metadata": {
    "execution": {
     "iopub.execute_input": "2022-06-28T11:19:10.319825Z",
     "iopub.status.busy": "2022-06-28T11:19:10.319354Z",
     "iopub.status.idle": "2022-06-28T11:19:11.781542Z",
     "shell.execute_reply": "2022-06-28T11:19:11.780419Z"
    },
    "papermill": {
     "duration": 1.572218,
     "end_time": "2022-06-28T11:19:11.784382",
     "exception": false,
     "start_time": "2022-06-28T11:19:10.212164",
     "status": "completed"
    },
    "tags": []
   },
   "outputs": [],
   "source": [
    "contract_onto.to_csv(\"contract_onto.csv\",index=False)"
   ]
  },
  {
   "cell_type": "markdown",
   "id": "a78a1f41",
   "metadata": {
    "papermill": {
     "duration": 0.065187,
     "end_time": "2022-06-28T11:19:11.916290",
     "exception": false,
     "start_time": "2022-06-28T11:19:11.851103",
     "status": "completed"
    },
    "tags": []
   },
   "source": [
    "# Ner english large"
   ]
  },
  {
   "cell_type": "code",
   "execution_count": 33,
   "id": "3f1e643a",
   "metadata": {
    "execution": {
     "iopub.execute_input": "2022-06-28T11:19:12.050710Z",
     "iopub.status.busy": "2022-06-28T11:19:12.049722Z",
     "iopub.status.idle": "2022-06-28T11:42:58.749666Z",
     "shell.execute_reply": "2022-06-28T11:42:58.748548Z"
    },
    "papermill": {
     "duration": 1426.771404,
     "end_time": "2022-06-28T11:42:58.753286",
     "exception": false,
     "start_time": "2022-06-28T11:19:11.981882",
     "status": "completed"
    },
    "tags": []
   },
   "outputs": [
    {
     "name": "stdout",
     "output_type": "stream",
     "text": [
      "2022-06-28 11:21:37,750 Warning: An empty Sentence was created! Are there empty strings in your dataset?\n",
      "2022-06-28 11:26:46,208 Warning: An empty Sentence was created! Are there empty strings in your dataset?\n",
      "2022-06-28 11:34:28,843 Warning: An empty Sentence was created! Are there empty strings in your dataset?\n",
      "2022-06-28 11:34:32,463 Warning: An empty Sentence was created! Are there empty strings in your dataset?\n",
      "2022-06-28 11:35:40,924 Warning: An empty Sentence was created! Are there empty strings in your dataset?\n",
      "2022-06-28 11:35:44,034 Warning: An empty Sentence was created! Are there empty strings in your dataset?\n"
     ]
    }
   ],
   "source": [
    "lst=[]\n",
    "label=[]\n",
    "Per=[]\n",
    "ORG=[]\n",
    "LOC=[]\n",
    "Other_name=[]\n",
    "from flair.data import Sentence\n",
    "\n",
    "contract_large=pd.DataFrame({\"contract_text\":\"\", \"Name-nerenglarge\":[], \"LOC-nerenglarge\":\"\",\"ORG-nerenglarge\":\"\"})\n",
    "for i in range(23729):\n",
    "        sentencess =Sentence(contract_text[i])\n",
    "        contract_large.loc[i,\"contract_text\"]=contract_text[i]\n",
    "        tagger2.predict(sentencess)\n",
    "        dc={}\n",
    "        P=[]\n",
    "        L=[]\n",
    "        G=[]\n",
    "        O=[]\n",
    "        Other=[]\n",
    "        for entity in sentencess.get_spans('ner'):\n",
    "                     \n",
    "                     if (entity.get_label(\"ner\").score > 0.90) & (entity.get_label(\"ner\").value != \"CARDINAL\") & (entity.get_label(\"ner\").value != \"LAW\")& (entity.get_label(\"ner\").value != \"QUANTITY\") & (entity.get_label(\"ner\").value != \"WORK_OF_ART\") & (entity.get_label(\"ner\").value != \"LAW\")& (entity.get_label(\"ner\").value != \"QUANTITY\") & (entity.get_label(\"ner\").value != \"EVENT\")  :\n",
    "                        dc[entity.text]= entity.get_label(\"ner\").value \n",
    "        \n",
    "        \n",
    "        for j in dc :\n",
    "                if dc[j]==\"PER\":\n",
    "                      P.append(j)\n",
    "                elif (dc[j]==\"ORG\") :\n",
    "                      O.append(j)\n",
    "                elif  (dc[j]==\"MISC\") :\n",
    "                      Other.append(j)\n",
    "                elif dc[j]==\"LOC\":\n",
    "                      L.append(j)\n",
    "               \n",
    "        Per.append(P)\n",
    "        ORG.append(O)\n",
    "        LOC.append(L)\n",
    "        Other_name.append(Other)\n",
    "            \n",
    "\n",
    "contract_large[\"Name-nerenglarge\"]=Per\n",
    "contract_large[\"LOC-nerenglarge\"]=LOC\n",
    "contract_large[\"ORG-nerenglarge\"]=ORG    \n",
    "contract_large[\"other_namelarge\"] =Other_name "
   ]
  },
  {
   "cell_type": "code",
   "execution_count": 34,
   "id": "660af6b7",
   "metadata": {
    "execution": {
     "iopub.execute_input": "2022-06-28T11:42:58.966402Z",
     "iopub.status.busy": "2022-06-28T11:42:58.964845Z",
     "iopub.status.idle": "2022-06-28T11:42:59.004805Z",
     "shell.execute_reply": "2022-06-28T11:42:59.003848Z"
    },
    "papermill": {
     "duration": 0.146821,
     "end_time": "2022-06-28T11:42:59.007921",
     "exception": false,
     "start_time": "2022-06-28T11:42:58.861100",
     "status": "completed"
    },
    "tags": []
   },
   "outputs": [
    {
     "data": {
      "text/html": [
       "<div>\n",
       "<style scoped>\n",
       "    .dataframe tbody tr th:only-of-type {\n",
       "        vertical-align: middle;\n",
       "    }\n",
       "\n",
       "    .dataframe tbody tr th {\n",
       "        vertical-align: top;\n",
       "    }\n",
       "\n",
       "    .dataframe thead th {\n",
       "        text-align: right;\n",
       "    }\n",
       "</style>\n",
       "<table border=\"1\" class=\"dataframe\">\n",
       "  <thead>\n",
       "    <tr style=\"text-align: right;\">\n",
       "      <th></th>\n",
       "      <th>contract_text</th>\n",
       "      <th>Name-nerenglarge</th>\n",
       "      <th>LOC-nerenglarge</th>\n",
       "      <th>ORG-nerenglarge</th>\n",
       "      <th>other_namelarge</th>\n",
       "    </tr>\n",
       "  </thead>\n",
       "  <tbody>\n",
       "    <tr>\n",
       "      <th>0</th>\n",
       "      <td>North Carolina This indenture made entered Thi...</td>\n",
       "      <td>[H.G . Cutler, Thos R Underwood, Alfred A McKe...</td>\n",
       "      <td>[North Carolina, County of Carteret, Bogue Sou...</td>\n",
       "      <td>[]</td>\n",
       "      <td>[]</td>\n",
       "    </tr>\n",
       "    <tr>\n",
       "      <th>1</th>\n",
       "      <td>State of North Carolina Currituck County . Thi...</td>\n",
       "      <td>[John B. Etheridge, Little John Etheridge]</td>\n",
       "      <td>[State of North Carolina, Currituck County, Co...</td>\n",
       "      <td>[]</td>\n",
       "      <td>[]</td>\n",
       "    </tr>\n",
       "    <tr>\n",
       "      <th>2</th>\n",
       "      <td>near Lizzie Etheridges gate , thence South 56 ...</td>\n",
       "      <td>[Little John Etheridge, John B Etheridge, A Do...</td>\n",
       "      <td>[Lizzie Etheridges gate, Red Hill, Croatan Sou...</td>\n",
       "      <td>[]</td>\n",
       "      <td>[]</td>\n",
       "    </tr>\n",
       "    <tr>\n",
       "      <th>3</th>\n",
       "      <td>Copy Agreement of Apprenticeship Bu Mrs. Kate ...</td>\n",
       "      <td>[Kate V.Chamblin, 1st, Geo . W. Rollins, Mary ...</td>\n",
       "      <td>[La, Lake Providence Carroll]</td>\n",
       "      <td>[U.S. Army]</td>\n",
       "      <td>[]</td>\n",
       "    </tr>\n",
       "    <tr>\n",
       "      <th>4</th>\n",
       "      <td>Copy Agreement of Apprenticeship . This agreem...</td>\n",
       "      <td>[Mrs, Kate V. Chambliss, James Samenett, Betty...</td>\n",
       "      <td>[Carroll Parish, New Orleans, Louisiana, Freed...</td>\n",
       "      <td>[]</td>\n",
       "      <td>[African]</td>\n",
       "    </tr>\n",
       "  </tbody>\n",
       "</table>\n",
       "</div>"
      ],
      "text/plain": [
       "                                       contract_text  \\\n",
       "0  North Carolina This indenture made entered Thi...   \n",
       "1  State of North Carolina Currituck County . Thi...   \n",
       "2  near Lizzie Etheridges gate , thence South 56 ...   \n",
       "3  Copy Agreement of Apprenticeship Bu Mrs. Kate ...   \n",
       "4  Copy Agreement of Apprenticeship . This agreem...   \n",
       "\n",
       "                                    Name-nerenglarge  \\\n",
       "0  [H.G . Cutler, Thos R Underwood, Alfred A McKe...   \n",
       "1         [John B. Etheridge, Little John Etheridge]   \n",
       "2  [Little John Etheridge, John B Etheridge, A Do...   \n",
       "3  [Kate V.Chamblin, 1st, Geo . W. Rollins, Mary ...   \n",
       "4  [Mrs, Kate V. Chambliss, James Samenett, Betty...   \n",
       "\n",
       "                                     LOC-nerenglarge ORG-nerenglarge  \\\n",
       "0  [North Carolina, County of Carteret, Bogue Sou...              []   \n",
       "1  [State of North Carolina, Currituck County, Co...              []   \n",
       "2  [Lizzie Etheridges gate, Red Hill, Croatan Sou...              []   \n",
       "3                      [La, Lake Providence Carroll]     [U.S. Army]   \n",
       "4  [Carroll Parish, New Orleans, Louisiana, Freed...              []   \n",
       "\n",
       "  other_namelarge  \n",
       "0              []  \n",
       "1              []  \n",
       "2              []  \n",
       "3              []  \n",
       "4       [African]  "
      ]
     },
     "execution_count": 34,
     "metadata": {},
     "output_type": "execute_result"
    }
   ],
   "source": [
    "contract_large.head()"
   ]
  },
  {
   "cell_type": "code",
   "execution_count": 35,
   "id": "57870941",
   "metadata": {
    "execution": {
     "iopub.execute_input": "2022-06-28T11:42:59.231911Z",
     "iopub.status.busy": "2022-06-28T11:42:59.231453Z",
     "iopub.status.idle": "2022-06-28T11:43:00.282360Z",
     "shell.execute_reply": "2022-06-28T11:43:00.281247Z"
    },
    "papermill": {
     "duration": 1.165617,
     "end_time": "2022-06-28T11:43:00.284963",
     "exception": false,
     "start_time": "2022-06-28T11:42:59.119346",
     "status": "completed"
    },
    "tags": []
   },
   "outputs": [],
   "source": [
    "contract_large.to_csv(\"contract_large.csv\",index=False)"
   ]
  },
  {
   "cell_type": "markdown",
   "id": "b1f0f5b4",
   "metadata": {
    "papermill": {
     "duration": 0.065435,
     "end_time": "2022-06-28T11:43:00.422075",
     "exception": false,
     "start_time": "2022-06-28T11:43:00.356640",
     "status": "completed"
    },
    "tags": []
   },
   "source": [
    "# Ner english\n"
   ]
  },
  {
   "cell_type": "code",
   "execution_count": 36,
   "id": "133e94a5",
   "metadata": {
    "execution": {
     "iopub.execute_input": "2022-06-28T11:43:00.554401Z",
     "iopub.status.busy": "2022-06-28T11:43:00.554020Z",
     "iopub.status.idle": "2022-06-28T13:08:51.901186Z",
     "shell.execute_reply": "2022-06-28T13:08:51.900083Z"
    },
    "papermill": {
     "duration": 5151.416451,
     "end_time": "2022-06-28T13:08:51.904054",
     "exception": false,
     "start_time": "2022-06-28T11:43:00.487603",
     "status": "completed"
    },
    "tags": []
   },
   "outputs": [
    {
     "name": "stdout",
     "output_type": "stream",
     "text": [
      "2022-06-28 11:51:37,220 Warning: An empty Sentence was created! Are there empty strings in your dataset?\n",
      "2022-06-28 12:10:56,639 Warning: An empty Sentence was created! Are there empty strings in your dataset?\n",
      "2022-06-28 12:39:29,439 Warning: An empty Sentence was created! Are there empty strings in your dataset?\n",
      "2022-06-28 12:39:42,069 Warning: An empty Sentence was created! Are there empty strings in your dataset?\n",
      "2022-06-28 12:43:48,730 Warning: An empty Sentence was created! Are there empty strings in your dataset?\n",
      "2022-06-28 12:44:00,637 Warning: An empty Sentence was created! Are there empty strings in your dataset?\n"
     ]
    }
   ],
   "source": [
    "lst=[]\n",
    "label=[]\n",
    "Per=[]\n",
    "ORG=[]\n",
    "LOC=[]\n",
    "Other_name=[]\n",
    "from flair.data import Sentence\n",
    "\n",
    "contract_ner=pd.DataFrame({\"contract_text\":\"\", \"PERSON-nerenglish\":\"\",\"LOC-nerenglish\":\"\",\"ORG-nerenglish\":[]})\n",
    "for i in range(23729):\n",
    "        sentencess =Sentence(contract_text[i])\n",
    "        contract_ner.loc[i,\"contract_text\"]=contract_text[i]\n",
    "        tagger1.predict(sentencess)\n",
    "        dc={}\n",
    "        P=[]\n",
    "        L=[]\n",
    "        O=[]\n",
    "        Other=[]\n",
    "        for entity in sentencess.get_spans('ner'):\n",
    "                     \n",
    "                     if (entity.get_label(\"ner\").score > 0.90) & (entity.get_label(\"ner\").value != \"CARDINAL\") & (entity.get_label(\"ner\").value != \"LAW\")& (entity.get_label(\"ner\").value != \"QUANTITY\") & (entity.get_label(\"ner\").value != \"WORK_OF_ART\") & (entity.get_label(\"ner\").value != \"LAW\")& (entity.get_label(\"ner\").value != \"QUANTITY\") & (entity.get_label(\"ner\").value != \"EVENT\")  :\n",
    "                        dc[entity.text]= entity.get_label(\"ner\").value \n",
    "        \n",
    "        \n",
    "        for j in dc :\n",
    "                if dc[j]==\"PER\":\n",
    "                      P.append(j)\n",
    "                elif (dc[j]==\"ORG\")  :\n",
    "                      O.append(j)\n",
    "                elif  (dc[j]==\"MISC\") :\n",
    "                      Other.append(j)\n",
    "                elif dc[j]==\"LOC\":\n",
    "                      L.append(j)\n",
    "               \n",
    "        Per.append(P)\n",
    "        ORG.append(O)\n",
    "        LOC.append(L)\n",
    "        Other_name.append(Other)\n",
    "            \n",
    "\n",
    "contract_ner[\"Name-nerenglish\"]=Per\n",
    "contract_ner[\"LOC-nerenglish\"]=LOC\n",
    "contract_ner[\"ORG-nerenglish\"]=ORG \n",
    "contract_ner[\"Other_name-nerenglish\"]=Other_name "
   ]
  },
  {
   "cell_type": "code",
   "execution_count": 37,
   "id": "3718bcfe",
   "metadata": {
    "execution": {
     "iopub.execute_input": "2022-06-28T13:08:52.032771Z",
     "iopub.status.busy": "2022-06-28T13:08:52.032375Z",
     "iopub.status.idle": "2022-06-28T13:08:52.051372Z",
     "shell.execute_reply": "2022-06-28T13:08:52.050431Z"
    },
    "papermill": {
     "duration": 0.085748,
     "end_time": "2022-06-28T13:08:52.053650",
     "exception": false,
     "start_time": "2022-06-28T13:08:51.967902",
     "status": "completed"
    },
    "tags": []
   },
   "outputs": [
    {
     "data": {
      "text/html": [
       "<div>\n",
       "<style scoped>\n",
       "    .dataframe tbody tr th:only-of-type {\n",
       "        vertical-align: middle;\n",
       "    }\n",
       "\n",
       "    .dataframe tbody tr th {\n",
       "        vertical-align: top;\n",
       "    }\n",
       "\n",
       "    .dataframe thead th {\n",
       "        text-align: right;\n",
       "    }\n",
       "</style>\n",
       "<table border=\"1\" class=\"dataframe\">\n",
       "  <thead>\n",
       "    <tr style=\"text-align: right;\">\n",
       "      <th></th>\n",
       "      <th>contract_text</th>\n",
       "      <th>PERSON-nerenglish</th>\n",
       "      <th>LOC-nerenglish</th>\n",
       "      <th>ORG-nerenglish</th>\n",
       "      <th>Name-nerenglish</th>\n",
       "      <th>Other_name-nerenglish</th>\n",
       "    </tr>\n",
       "  </thead>\n",
       "  <tbody>\n",
       "    <tr>\n",
       "      <th>0</th>\n",
       "      <td>North Carolina This indenture made entered Thi...</td>\n",
       "      <td>NaN</td>\n",
       "      <td>[County of Carteret, Shepperd Creek, Creek Sou...</td>\n",
       "      <td>[]</td>\n",
       "      <td>[Thos R Underwood, Alfred A McKerhan, Wm H Was...</td>\n",
       "      <td>[]</td>\n",
       "    </tr>\n",
       "    <tr>\n",
       "      <th>1</th>\n",
       "      <td>State of North Carolina Currituck County . Thi...</td>\n",
       "      <td>NaN</td>\n",
       "      <td>[County State, Witnesseth, County of Currituck...</td>\n",
       "      <td>[]</td>\n",
       "      <td>[John B. Etheridge]</td>\n",
       "      <td>[]</td>\n",
       "    </tr>\n",
       "    <tr>\n",
       "      <th>2</th>\n",
       "      <td>near Lizzie Etheridges gate , thence South 56 ...</td>\n",
       "      <td>NaN</td>\n",
       "      <td>[Red Hill, Croatan Sound]</td>\n",
       "      <td>[]</td>\n",
       "      <td>[John B Etheridge, Douglas Adam D. Etheridge]</td>\n",
       "      <td>[]</td>\n",
       "    </tr>\n",
       "    <tr>\n",
       "      <th>3</th>\n",
       "      <td>Copy Agreement of Apprenticeship Bu Mrs. Kate ...</td>\n",
       "      <td>NaN</td>\n",
       "      <td>[]</td>\n",
       "      <td>[]</td>\n",
       "      <td>[Kate V.Chamblin]</td>\n",
       "      <td>[]</td>\n",
       "    </tr>\n",
       "    <tr>\n",
       "      <th>4</th>\n",
       "      <td>Copy Agreement of Apprenticeship . This agreem...</td>\n",
       "      <td>NaN</td>\n",
       "      <td>[]</td>\n",
       "      <td>[]</td>\n",
       "      <td>[Kate V. Chambliss, Betty Taylor Mary Taylor, ...</td>\n",
       "      <td>[African]</td>\n",
       "    </tr>\n",
       "  </tbody>\n",
       "</table>\n",
       "</div>"
      ],
      "text/plain": [
       "                                       contract_text PERSON-nerenglish  \\\n",
       "0  North Carolina This indenture made entered Thi...               NaN   \n",
       "1  State of North Carolina Currituck County . Thi...               NaN   \n",
       "2  near Lizzie Etheridges gate , thence South 56 ...               NaN   \n",
       "3  Copy Agreement of Apprenticeship Bu Mrs. Kate ...               NaN   \n",
       "4  Copy Agreement of Apprenticeship . This agreem...               NaN   \n",
       "\n",
       "                                      LOC-nerenglish ORG-nerenglish  \\\n",
       "0  [County of Carteret, Shepperd Creek, Creek Sou...             []   \n",
       "1  [County State, Witnesseth, County of Currituck...             []   \n",
       "2                          [Red Hill, Croatan Sound]             []   \n",
       "3                                                 []             []   \n",
       "4                                                 []             []   \n",
       "\n",
       "                                     Name-nerenglish Other_name-nerenglish  \n",
       "0  [Thos R Underwood, Alfred A McKerhan, Wm H Was...                    []  \n",
       "1                                [John B. Etheridge]                    []  \n",
       "2      [John B Etheridge, Douglas Adam D. Etheridge]                    []  \n",
       "3                                  [Kate V.Chamblin]                    []  \n",
       "4  [Kate V. Chambliss, Betty Taylor Mary Taylor, ...             [African]  "
      ]
     },
     "execution_count": 37,
     "metadata": {},
     "output_type": "execute_result"
    }
   ],
   "source": [
    "contract_ner.head()"
   ]
  },
  {
   "cell_type": "code",
   "execution_count": 38,
   "id": "7500b590",
   "metadata": {
    "execution": {
     "iopub.execute_input": "2022-06-28T13:08:52.182771Z",
     "iopub.status.busy": "2022-06-28T13:08:52.181911Z",
     "iopub.status.idle": "2022-06-28T13:08:53.110452Z",
     "shell.execute_reply": "2022-06-28T13:08:53.109452Z"
    },
    "papermill": {
     "duration": 0.997647,
     "end_time": "2022-06-28T13:08:53.113046",
     "exception": false,
     "start_time": "2022-06-28T13:08:52.115399",
     "status": "completed"
    },
    "tags": []
   },
   "outputs": [],
   "source": [
    "contract_ner.to_csv(\"contract_ner.csv\",index=False)"
   ]
  },
  {
   "cell_type": "code",
   "execution_count": 39,
   "id": "d757b017",
   "metadata": {
    "execution": {
     "iopub.execute_input": "2022-06-28T13:08:53.243319Z",
     "iopub.status.busy": "2022-06-28T13:08:53.242603Z",
     "iopub.status.idle": "2022-06-28T13:08:53.261711Z",
     "shell.execute_reply": "2022-06-28T13:08:53.260812Z"
    },
    "papermill": {
     "duration": 0.087308,
     "end_time": "2022-06-28T13:08:53.264332",
     "exception": false,
     "start_time": "2022-06-28T13:08:53.177024",
     "status": "completed"
    },
    "tags": []
   },
   "outputs": [],
   "source": [
    "contract_ner[\"Name-nerenglarge\"]=contract_large[\"Name-nerenglarge\"]\n",
    "contract_ner[\"LOC-nerenglarge\"]=contract_large[\"LOC-nerenglarge\"]\n",
    "contract_ner[\"ORG-nerenglarge\"]=contract_large[\"ORG-nerenglarge\"]\n",
    "contract_ner[\"other_namelarge\"]=contract_large[\"other_namelarge\"]\n",
    "contract_ner[\"PERSON-nerenglish\"]=contract_ner[\"Name-nerenglish\"]\n",
    "contract_ner[\"LOC-nerenglish\"]=contract_ner[\"LOC-nerenglish\"]\n",
    "contract_ner[\"ORG-nerenglish\"]=contract_ner[\"ORG-nerenglish\"]\n",
    "contract_ner[\"Other_name-nerenglish\"]=contract_ner[\"Other_name-nerenglish\"]"
   ]
  },
  {
   "cell_type": "code",
   "execution_count": 40,
   "id": "0819c96d",
   "metadata": {
    "execution": {
     "iopub.execute_input": "2022-06-28T13:08:53.395846Z",
     "iopub.status.busy": "2022-06-28T13:08:53.395440Z",
     "iopub.status.idle": "2022-06-28T13:08:53.400213Z",
     "shell.execute_reply": "2022-06-28T13:08:53.399171Z"
    },
    "papermill": {
     "duration": 0.072884,
     "end_time": "2022-06-28T13:08:53.402257",
     "exception": false,
     "start_time": "2022-06-28T13:08:53.329373",
     "status": "completed"
    },
    "tags": []
   },
   "outputs": [],
   "source": [
    "to_compare_result_contract_ner=contract_ner"
   ]
  },
  {
   "cell_type": "code",
   "execution_count": 41,
   "id": "f30d8bd3",
   "metadata": {
    "execution": {
     "iopub.execute_input": "2022-06-28T13:08:53.530986Z",
     "iopub.status.busy": "2022-06-28T13:08:53.530576Z",
     "iopub.status.idle": "2022-06-28T13:08:54.544732Z",
     "shell.execute_reply": "2022-06-28T13:08:54.543681Z"
    },
    "papermill": {
     "duration": 1.08127,
     "end_time": "2022-06-28T13:08:54.547247",
     "exception": false,
     "start_time": "2022-06-28T13:08:53.465977",
     "status": "completed"
    },
    "tags": []
   },
   "outputs": [],
   "source": [
    "to_compare_result_contract_ner.to_csv(\"to_compare_result_contract_ner.csv\", index=False)"
   ]
  },
  {
   "cell_type": "code",
   "execution_count": null,
   "id": "7a1fe10f",
   "metadata": {
    "papermill": {
     "duration": 0.065963,
     "end_time": "2022-06-28T13:08:54.680324",
     "exception": false,
     "start_time": "2022-06-28T13:08:54.614361",
     "status": "completed"
    },
    "tags": []
   },
   "outputs": [],
   "source": []
  }
 ],
 "metadata": {
  "kernelspec": {
   "display_name": "Python 3",
   "language": "python",
   "name": "python3"
  },
  "language_info": {
   "codemirror_mode": {
    "name": "ipython",
    "version": 3
   },
   "file_extension": ".py",
   "mimetype": "text/x-python",
   "name": "python",
   "nbconvert_exporter": "python",
   "pygments_lexer": "ipython3",
   "version": "3.7.12"
  },
  "papermill": {
   "default_parameters": {},
   "duration": 8364.5625,
   "end_time": "2022-06-28T13:08:58.219501",
   "environment_variables": {},
   "exception": null,
   "input_path": "__notebook__.ipynb",
   "output_path": "__notebook__.ipynb",
   "parameters": {},
   "start_time": "2022-06-28T10:49:33.657001",
   "version": "2.3.4"
  },
  "widgets": {
   "application/vnd.jupyter.widget-state+json": {
    "state": {
     "020db64ad3c4474c9ea830821517e1ad": {
      "model_module": "@jupyter-widgets/base",
      "model_module_version": "1.2.0",
      "model_name": "LayoutModel",
      "state": {
       "_model_module": "@jupyter-widgets/base",
       "_model_module_version": "1.2.0",
       "_model_name": "LayoutModel",
       "_view_count": null,
       "_view_module": "@jupyter-widgets/base",
       "_view_module_version": "1.2.0",
       "_view_name": "LayoutView",
       "align_content": null,
       "align_items": null,
       "align_self": null,
       "border": null,
       "bottom": null,
       "display": null,
       "flex": null,
       "flex_flow": null,
       "grid_area": null,
       "grid_auto_columns": null,
       "grid_auto_flow": null,
       "grid_auto_rows": null,
       "grid_column": null,
       "grid_gap": null,
       "grid_row": null,
       "grid_template_areas": null,
       "grid_template_columns": null,
       "grid_template_rows": null,
       "height": null,
       "justify_content": null,
       "justify_items": null,
       "left": null,
       "margin": null,
       "max_height": null,
       "max_width": null,
       "min_height": null,
       "min_width": null,
       "object_fit": null,
       "object_position": null,
       "order": null,
       "overflow": null,
       "overflow_x": null,
       "overflow_y": null,
       "padding": null,
       "right": null,
       "top": null,
       "visibility": null,
       "width": null
      }
     },
     "05254e9eee2e4b98bea95a80cc572c41": {
      "model_module": "@jupyter-widgets/controls",
      "model_module_version": "1.5.0",
      "model_name": "FloatProgressModel",
      "state": {
       "_dom_classes": [],
       "_model_module": "@jupyter-widgets/controls",
       "_model_module_version": "1.5.0",
       "_model_name": "FloatProgressModel",
       "_view_count": null,
       "_view_module": "@jupyter-widgets/controls",
       "_view_module_version": "1.5.0",
       "_view_name": "ProgressView",
       "bar_style": "success",
       "description": "",
       "description_tooltip": null,
       "layout": "IPY_MODEL_aa9b17edc2674df1a070fb4ab4f7003c",
       "max": 5069051.0,
       "min": 0.0,
       "orientation": "horizontal",
       "style": "IPY_MODEL_3eb3d43ed94e4fbea655870924b2b6cd",
       "value": 5069051.0
      }
     },
     "079fa09dff5e48a4a65869bce35c2def": {
      "model_module": "@jupyter-widgets/base",
      "model_module_version": "1.2.0",
      "model_name": "LayoutModel",
      "state": {
       "_model_module": "@jupyter-widgets/base",
       "_model_module_version": "1.2.0",
       "_model_name": "LayoutModel",
       "_view_count": null,
       "_view_module": "@jupyter-widgets/base",
       "_view_module_version": "1.2.0",
       "_view_name": "LayoutView",
       "align_content": null,
       "align_items": null,
       "align_self": null,
       "border": null,
       "bottom": null,
       "display": null,
       "flex": null,
       "flex_flow": null,
       "grid_area": null,
       "grid_auto_columns": null,
       "grid_auto_flow": null,
       "grid_auto_rows": null,
       "grid_column": null,
       "grid_gap": null,
       "grid_row": null,
       "grid_template_areas": null,
       "grid_template_columns": null,
       "grid_template_rows": null,
       "height": null,
       "justify_content": null,
       "justify_items": null,
       "left": null,
       "margin": null,
       "max_height": null,
       "max_width": null,
       "min_height": null,
       "min_width": null,
       "object_fit": null,
       "object_position": null,
       "order": null,
       "overflow": null,
       "overflow_x": null,
       "overflow_y": null,
       "padding": null,
       "right": null,
       "top": null,
       "visibility": null,
       "width": null
      }
     },
     "0c2500f96b2b49a79e5836912ec3726c": {
      "model_module": "@jupyter-widgets/base",
      "model_module_version": "1.2.0",
      "model_name": "LayoutModel",
      "state": {
       "_model_module": "@jupyter-widgets/base",
       "_model_module_version": "1.2.0",
       "_model_name": "LayoutModel",
       "_view_count": null,
       "_view_module": "@jupyter-widgets/base",
       "_view_module_version": "1.2.0",
       "_view_name": "LayoutView",
       "align_content": null,
       "align_items": null,
       "align_self": null,
       "border": null,
       "bottom": null,
       "display": null,
       "flex": null,
       "flex_flow": null,
       "grid_area": null,
       "grid_auto_columns": null,
       "grid_auto_flow": null,
       "grid_auto_rows": null,
       "grid_column": null,
       "grid_gap": null,
       "grid_row": null,
       "grid_template_areas": null,
       "grid_template_columns": null,
       "grid_template_rows": null,
       "height": null,
       "justify_content": null,
       "justify_items": null,
       "left": null,
       "margin": null,
       "max_height": null,
       "max_width": null,
       "min_height": null,
       "min_width": null,
       "object_fit": null,
       "object_position": null,
       "order": null,
       "overflow": null,
       "overflow_x": null,
       "overflow_y": null,
       "padding": null,
       "right": null,
       "top": null,
       "visibility": null,
       "width": null
      }
     },
     "0ee3e86d20a44a57825e5b599bb77371": {
      "model_module": "@jupyter-widgets/base",
      "model_module_version": "1.2.0",
      "model_name": "LayoutModel",
      "state": {
       "_model_module": "@jupyter-widgets/base",
       "_model_module_version": "1.2.0",
       "_model_name": "LayoutModel",
       "_view_count": null,
       "_view_module": "@jupyter-widgets/base",
       "_view_module_version": "1.2.0",
       "_view_name": "LayoutView",
       "align_content": null,
       "align_items": null,
       "align_self": null,
       "border": null,
       "bottom": null,
       "display": null,
       "flex": null,
       "flex_flow": null,
       "grid_area": null,
       "grid_auto_columns": null,
       "grid_auto_flow": null,
       "grid_auto_rows": null,
       "grid_column": null,
       "grid_gap": null,
       "grid_row": null,
       "grid_template_areas": null,
       "grid_template_columns": null,
       "grid_template_rows": null,
       "height": null,
       "justify_content": null,
       "justify_items": null,
       "left": null,
       "margin": null,
       "max_height": null,
       "max_width": null,
       "min_height": null,
       "min_width": null,
       "object_fit": null,
       "object_position": null,
       "order": null,
       "overflow": null,
       "overflow_x": null,
       "overflow_y": null,
       "padding": null,
       "right": null,
       "top": null,
       "visibility": null,
       "width": null
      }
     },
     "169a077a0e5f4b529443e6e4653361d9": {
      "model_module": "@jupyter-widgets/base",
      "model_module_version": "1.2.0",
      "model_name": "LayoutModel",
      "state": {
       "_model_module": "@jupyter-widgets/base",
       "_model_module_version": "1.2.0",
       "_model_name": "LayoutModel",
       "_view_count": null,
       "_view_module": "@jupyter-widgets/base",
       "_view_module_version": "1.2.0",
       "_view_name": "LayoutView",
       "align_content": null,
       "align_items": null,
       "align_self": null,
       "border": null,
       "bottom": null,
       "display": null,
       "flex": null,
       "flex_flow": null,
       "grid_area": null,
       "grid_auto_columns": null,
       "grid_auto_flow": null,
       "grid_auto_rows": null,
       "grid_column": null,
       "grid_gap": null,
       "grid_row": null,
       "grid_template_areas": null,
       "grid_template_columns": null,
       "grid_template_rows": null,
       "height": null,
       "justify_content": null,
       "justify_items": null,
       "left": null,
       "margin": null,
       "max_height": null,
       "max_width": null,
       "min_height": null,
       "min_width": null,
       "object_fit": null,
       "object_position": null,
       "order": null,
       "overflow": null,
       "overflow_x": null,
       "overflow_y": null,
       "padding": null,
       "right": null,
       "top": null,
       "visibility": null,
       "width": null
      }
     },
     "181691f86d854c49b388a33a59326386": {
      "model_module": "@jupyter-widgets/controls",
      "model_module_version": "1.5.0",
      "model_name": "FloatProgressModel",
      "state": {
       "_dom_classes": [],
       "_model_module": "@jupyter-widgets/controls",
       "_model_module_version": "1.5.0",
       "_model_name": "FloatProgressModel",
       "_view_count": null,
       "_view_module": "@jupyter-widgets/controls",
       "_view_module_version": "1.5.0",
       "_view_name": "ProgressView",
       "bar_style": "success",
       "description": "",
       "description_tooltip": null,
       "layout": "IPY_MODEL_079fa09dff5e48a4a65869bce35c2def",
       "max": 432176557.0,
       "min": 0.0,
       "orientation": "horizontal",
       "style": "IPY_MODEL_9db3a9ca9cec49c0bb04af774c2b6e0c",
       "value": 432176557.0
      }
     },
     "1d5ffe96445c47979231f3fd231d0f37": {
      "model_module": "@jupyter-widgets/controls",
      "model_module_version": "1.5.0",
      "model_name": "FloatProgressModel",
      "state": {
       "_dom_classes": [],
       "_model_module": "@jupyter-widgets/controls",
       "_model_module_version": "1.5.0",
       "_model_name": "FloatProgressModel",
       "_view_count": null,
       "_view_module": "@jupyter-widgets/controls",
       "_view_module_version": "1.5.0",
       "_view_name": "ProgressView",
       "bar_style": "success",
       "description": "",
       "description_tooltip": null,
       "layout": "IPY_MODEL_9bcfbda3d515434296dd1f87f414aff7",
       "max": 9096718.0,
       "min": 0.0,
       "orientation": "horizontal",
       "style": "IPY_MODEL_84214cc8ae8a48fdb2da228df744f44c",
       "value": 9096718.0
      }
     },
     "203263a7eb5b475eaf4ae255d14578c4": {
      "model_module": "@jupyter-widgets/controls",
      "model_module_version": "1.5.0",
      "model_name": "HBoxModel",
      "state": {
       "_dom_classes": [],
       "_model_module": "@jupyter-widgets/controls",
       "_model_module_version": "1.5.0",
       "_model_name": "HBoxModel",
       "_view_count": null,
       "_view_module": "@jupyter-widgets/controls",
       "_view_module_version": "1.5.0",
       "_view_name": "HBoxView",
       "box_style": "",
       "children": [
        "IPY_MODEL_3aff0f8e056d4d7589e25b0d3e1098b1",
        "IPY_MODEL_6d7224927fa14cc7a68fc3b11adec457",
        "IPY_MODEL_9e6882f1905b4bdf87bb7674d00ba42d"
       ],
       "layout": "IPY_MODEL_f40ac122eea3423a82e6dc89255c64f2"
      }
     },
     "25f4b1d1b7fc4a86947b54d642902cf3": {
      "model_module": "@jupyter-widgets/controls",
      "model_module_version": "1.5.0",
      "model_name": "DescriptionStyleModel",
      "state": {
       "_model_module": "@jupyter-widgets/controls",
       "_model_module_version": "1.5.0",
       "_model_name": "DescriptionStyleModel",
       "_view_count": null,
       "_view_module": "@jupyter-widgets/base",
       "_view_module_version": "1.2.0",
       "_view_name": "StyleView",
       "description_width": ""
      }
     },
     "273d612d82134e51873c96c300a363be": {
      "model_module": "@jupyter-widgets/base",
      "model_module_version": "1.2.0",
      "model_name": "LayoutModel",
      "state": {
       "_model_module": "@jupyter-widgets/base",
       "_model_module_version": "1.2.0",
       "_model_name": "LayoutModel",
       "_view_count": null,
       "_view_module": "@jupyter-widgets/base",
       "_view_module_version": "1.2.0",
       "_view_name": "LayoutView",
       "align_content": null,
       "align_items": null,
       "align_self": null,
       "border": null,
       "bottom": null,
       "display": null,
       "flex": null,
       "flex_flow": null,
       "grid_area": null,
       "grid_auto_columns": null,
       "grid_auto_flow": null,
       "grid_auto_rows": null,
       "grid_column": null,
       "grid_gap": null,
       "grid_row": null,
       "grid_template_areas": null,
       "grid_template_columns": null,
       "grid_template_rows": null,
       "height": null,
       "justify_content": null,
       "justify_items": null,
       "left": null,
       "margin": null,
       "max_height": null,
       "max_width": null,
       "min_height": null,
       "min_width": null,
       "object_fit": null,
       "object_position": null,
       "order": null,
       "overflow": null,
       "overflow_x": null,
       "overflow_y": null,
       "padding": null,
       "right": null,
       "top": null,
       "visibility": null,
       "width": null
      }
     },
     "28d3b98ab06247d29d962f1d9c27cb52": {
      "model_module": "@jupyter-widgets/base",
      "model_module_version": "1.2.0",
      "model_name": "LayoutModel",
      "state": {
       "_model_module": "@jupyter-widgets/base",
       "_model_module_version": "1.2.0",
       "_model_name": "LayoutModel",
       "_view_count": null,
       "_view_module": "@jupyter-widgets/base",
       "_view_module_version": "1.2.0",
       "_view_name": "LayoutView",
       "align_content": null,
       "align_items": null,
       "align_self": null,
       "border": null,
       "bottom": null,
       "display": null,
       "flex": null,
       "flex_flow": null,
       "grid_area": null,
       "grid_auto_columns": null,
       "grid_auto_flow": null,
       "grid_auto_rows": null,
       "grid_column": null,
       "grid_gap": null,
       "grid_row": null,
       "grid_template_areas": null,
       "grid_template_columns": null,
       "grid_template_rows": null,
       "height": null,
       "justify_content": null,
       "justify_items": null,
       "left": null,
       "margin": null,
       "max_height": null,
       "max_width": null,
       "min_height": null,
       "min_width": null,
       "object_fit": null,
       "object_position": null,
       "order": null,
       "overflow": null,
       "overflow_x": null,
       "overflow_y": null,
       "padding": null,
       "right": null,
       "top": null,
       "visibility": null,
       "width": null
      }
     },
     "2d5c6b425c0d430ea27de62a3ebbe12f": {
      "model_module": "@jupyter-widgets/controls",
      "model_module_version": "1.5.0",
      "model_name": "HBoxModel",
      "state": {
       "_dom_classes": [],
       "_model_module": "@jupyter-widgets/controls",
       "_model_module_version": "1.5.0",
       "_model_name": "HBoxModel",
       "_view_count": null,
       "_view_module": "@jupyter-widgets/controls",
       "_view_module_version": "1.5.0",
       "_view_name": "HBoxView",
       "box_style": "",
       "children": [
        "IPY_MODEL_8db93541961f498c823c0fc5e2c187dc",
        "IPY_MODEL_fe2b62923553400982229491a9d2f72a",
        "IPY_MODEL_aefef736e49b49e6a89899fe3d8f6394"
       ],
       "layout": "IPY_MODEL_e935b193ad304548bf41d7ca27e14f8b"
      }
     },
     "2e1ab115e0894f39a70d8cbf71e99e09": {
      "model_module": "@jupyter-widgets/controls",
      "model_module_version": "1.5.0",
      "model_name": "DescriptionStyleModel",
      "state": {
       "_model_module": "@jupyter-widgets/controls",
       "_model_module_version": "1.5.0",
       "_model_name": "DescriptionStyleModel",
       "_view_count": null,
       "_view_module": "@jupyter-widgets/base",
       "_view_module_version": "1.2.0",
       "_view_name": "StyleView",
       "description_width": ""
      }
     },
     "2ec78dae73d04ae1bf1d0099f1fbd11e": {
      "model_module": "@jupyter-widgets/controls",
      "model_module_version": "1.5.0",
      "model_name": "HBoxModel",
      "state": {
       "_dom_classes": [],
       "_model_module": "@jupyter-widgets/controls",
       "_model_module_version": "1.5.0",
       "_model_name": "HBoxModel",
       "_view_count": null,
       "_view_module": "@jupyter-widgets/controls",
       "_view_module_version": "1.5.0",
       "_view_name": "HBoxView",
       "box_style": "",
       "children": [
        "IPY_MODEL_8c22c3b509d84bc4a7497f5032e8a9e3",
        "IPY_MODEL_181691f86d854c49b388a33a59326386",
        "IPY_MODEL_624fda51a11b42ac9b6a90be2fa8bc54"
       ],
       "layout": "IPY_MODEL_71b93e8744cb4d8f98b2e2baead78614"
      }
     },
     "33f55db401104d70847263a9f6500483": {
      "model_module": "@jupyter-widgets/controls",
      "model_module_version": "1.5.0",
      "model_name": "DescriptionStyleModel",
      "state": {
       "_model_module": "@jupyter-widgets/controls",
       "_model_module_version": "1.5.0",
       "_model_name": "DescriptionStyleModel",
       "_view_count": null,
       "_view_module": "@jupyter-widgets/base",
       "_view_module_version": "1.2.0",
       "_view_name": "StyleView",
       "description_width": ""
      }
     },
     "3aff0f8e056d4d7589e25b0d3e1098b1": {
      "model_module": "@jupyter-widgets/controls",
      "model_module_version": "1.5.0",
      "model_name": "HTMLModel",
      "state": {
       "_dom_classes": [],
       "_model_module": "@jupyter-widgets/controls",
       "_model_module_version": "1.5.0",
       "_model_name": "HTMLModel",
       "_view_count": null,
       "_view_module": "@jupyter-widgets/controls",
       "_view_module_version": "1.5.0",
       "_view_name": "HTMLView",
       "description": "",
       "description_tooltip": null,
       "layout": "IPY_MODEL_96b4a6d05f5f4a18a67c4a044497235e",
       "placeholder": "​",
       "style": "IPY_MODEL_4aa6bcaceac5424eb276dc418c284e81",
       "value": "Downloading: 100%"
      }
     },
     "3b9b2ce3242d4bb6a65411dca4948dc4": {
      "model_module": "@jupyter-widgets/base",
      "model_module_version": "1.2.0",
      "model_name": "LayoutModel",
      "state": {
       "_model_module": "@jupyter-widgets/base",
       "_model_module_version": "1.2.0",
       "_model_name": "LayoutModel",
       "_view_count": null,
       "_view_module": "@jupyter-widgets/base",
       "_view_module_version": "1.2.0",
       "_view_name": "LayoutView",
       "align_content": null,
       "align_items": null,
       "align_self": null,
       "border": null,
       "bottom": null,
       "display": null,
       "flex": null,
       "flex_flow": null,
       "grid_area": null,
       "grid_auto_columns": null,
       "grid_auto_flow": null,
       "grid_auto_rows": null,
       "grid_column": null,
       "grid_gap": null,
       "grid_row": null,
       "grid_template_areas": null,
       "grid_template_columns": null,
       "grid_template_rows": null,
       "height": null,
       "justify_content": null,
       "justify_items": null,
       "left": null,
       "margin": null,
       "max_height": null,
       "max_width": null,
       "min_height": null,
       "min_width": null,
       "object_fit": null,
       "object_position": null,
       "order": null,
       "overflow": null,
       "overflow_x": null,
       "overflow_y": null,
       "padding": null,
       "right": null,
       "top": null,
       "visibility": null,
       "width": null
      }
     },
     "3eb3d43ed94e4fbea655870924b2b6cd": {
      "model_module": "@jupyter-widgets/controls",
      "model_module_version": "1.5.0",
      "model_name": "ProgressStyleModel",
      "state": {
       "_model_module": "@jupyter-widgets/controls",
       "_model_module_version": "1.5.0",
       "_model_name": "ProgressStyleModel",
       "_view_count": null,
       "_view_module": "@jupyter-widgets/base",
       "_view_module_version": "1.2.0",
       "_view_name": "StyleView",
       "bar_color": null,
       "description_width": ""
      }
     },
     "3f31b9c136c44a1c9fe57d4edfea0704": {
      "model_module": "@jupyter-widgets/base",
      "model_module_version": "1.2.0",
      "model_name": "LayoutModel",
      "state": {
       "_model_module": "@jupyter-widgets/base",
       "_model_module_version": "1.2.0",
       "_model_name": "LayoutModel",
       "_view_count": null,
       "_view_module": "@jupyter-widgets/base",
       "_view_module_version": "1.2.0",
       "_view_name": "LayoutView",
       "align_content": null,
       "align_items": null,
       "align_self": null,
       "border": null,
       "bottom": null,
       "display": null,
       "flex": null,
       "flex_flow": null,
       "grid_area": null,
       "grid_auto_columns": null,
       "grid_auto_flow": null,
       "grid_auto_rows": null,
       "grid_column": null,
       "grid_gap": null,
       "grid_row": null,
       "grid_template_areas": null,
       "grid_template_columns": null,
       "grid_template_rows": null,
       "height": null,
       "justify_content": null,
       "justify_items": null,
       "left": null,
       "margin": null,
       "max_height": null,
       "max_width": null,
       "min_height": null,
       "min_width": null,
       "object_fit": null,
       "object_position": null,
       "order": null,
       "overflow": null,
       "overflow_x": null,
       "overflow_y": null,
       "padding": null,
       "right": null,
       "top": null,
       "visibility": null,
       "width": null
      }
     },
     "412bf791ae8848dfa7833c35a56a1736": {
      "model_module": "@jupyter-widgets/base",
      "model_module_version": "1.2.0",
      "model_name": "LayoutModel",
      "state": {
       "_model_module": "@jupyter-widgets/base",
       "_model_module_version": "1.2.0",
       "_model_name": "LayoutModel",
       "_view_count": null,
       "_view_module": "@jupyter-widgets/base",
       "_view_module_version": "1.2.0",
       "_view_name": "LayoutView",
       "align_content": null,
       "align_items": null,
       "align_self": null,
       "border": null,
       "bottom": null,
       "display": null,
       "flex": null,
       "flex_flow": null,
       "grid_area": null,
       "grid_auto_columns": null,
       "grid_auto_flow": null,
       "grid_auto_rows": null,
       "grid_column": null,
       "grid_gap": null,
       "grid_row": null,
       "grid_template_areas": null,
       "grid_template_columns": null,
       "grid_template_rows": null,
       "height": null,
       "justify_content": null,
       "justify_items": null,
       "left": null,
       "margin": null,
       "max_height": null,
       "max_width": null,
       "min_height": null,
       "min_width": null,
       "object_fit": null,
       "object_position": null,
       "order": null,
       "overflow": null,
       "overflow_x": null,
       "overflow_y": null,
       "padding": null,
       "right": null,
       "top": null,
       "visibility": null,
       "width": null
      }
     },
     "472e9a26e4884989ab911112cfbffc58": {
      "model_module": "@jupyter-widgets/controls",
      "model_module_version": "1.5.0",
      "model_name": "HTMLModel",
      "state": {
       "_dom_classes": [],
       "_model_module": "@jupyter-widgets/controls",
       "_model_module_version": "1.5.0",
       "_model_name": "HTMLModel",
       "_view_count": null,
       "_view_module": "@jupyter-widgets/controls",
       "_view_module_version": "1.5.0",
       "_view_name": "HTMLView",
       "description": "",
       "description_tooltip": null,
       "layout": "IPY_MODEL_3b9b2ce3242d4bb6a65411dca4948dc4",
       "placeholder": "​",
       "style": "IPY_MODEL_e9feb98870f141faa60900584a6ec742",
       "value": " 4.83M/4.83M [00:00&lt;00:00, 15.3MB/s]"
      }
     },
     "4a805699996a48a59f1574eeea5dfb74": {
      "model_module": "@jupyter-widgets/base",
      "model_module_version": "1.2.0",
      "model_name": "LayoutModel",
      "state": {
       "_model_module": "@jupyter-widgets/base",
       "_model_module_version": "1.2.0",
       "_model_name": "LayoutModel",
       "_view_count": null,
       "_view_module": "@jupyter-widgets/base",
       "_view_module_version": "1.2.0",
       "_view_name": "LayoutView",
       "align_content": null,
       "align_items": null,
       "align_self": null,
       "border": null,
       "bottom": null,
       "display": null,
       "flex": null,
       "flex_flow": null,
       "grid_area": null,
       "grid_auto_columns": null,
       "grid_auto_flow": null,
       "grid_auto_rows": null,
       "grid_column": null,
       "grid_gap": null,
       "grid_row": null,
       "grid_template_areas": null,
       "grid_template_columns": null,
       "grid_template_rows": null,
       "height": null,
       "justify_content": null,
       "justify_items": null,
       "left": null,
       "margin": null,
       "max_height": null,
       "max_width": null,
       "min_height": null,
       "min_width": null,
       "object_fit": null,
       "object_position": null,
       "order": null,
       "overflow": null,
       "overflow_x": null,
       "overflow_y": null,
       "padding": null,
       "right": null,
       "top": null,
       "visibility": null,
       "width": null
      }
     },
     "4aa6bcaceac5424eb276dc418c284e81": {
      "model_module": "@jupyter-widgets/controls",
      "model_module_version": "1.5.0",
      "model_name": "DescriptionStyleModel",
      "state": {
       "_model_module": "@jupyter-widgets/controls",
       "_model_module_version": "1.5.0",
       "_model_name": "DescriptionStyleModel",
       "_view_count": null,
       "_view_module": "@jupyter-widgets/base",
       "_view_module_version": "1.2.0",
       "_view_name": "StyleView",
       "description_width": ""
      }
     },
     "51e74baa7b5e4e0f9c30001c694f2060": {
      "model_module": "@jupyter-widgets/controls",
      "model_module_version": "1.5.0",
      "model_name": "HTMLModel",
      "state": {
       "_dom_classes": [],
       "_model_module": "@jupyter-widgets/controls",
       "_model_module_version": "1.5.0",
       "_model_name": "HTMLModel",
       "_view_count": null,
       "_view_module": "@jupyter-widgets/controls",
       "_view_module_version": "1.5.0",
       "_view_name": "HTMLView",
       "description": "",
       "description_tooltip": null,
       "layout": "IPY_MODEL_7ac98bdb3c2d4d829e3695ff0ba816f4",
       "placeholder": "​",
       "style": "IPY_MODEL_d77d9212298c4f299cf5cef50b9ed76c",
       "value": "Downloading: 100%"
      }
     },
     "52ed2173f8394f81b9723b48526bc621": {
      "model_module": "@jupyter-widgets/controls",
      "model_module_version": "1.5.0",
      "model_name": "HTMLModel",
      "state": {
       "_dom_classes": [],
       "_model_module": "@jupyter-widgets/controls",
       "_model_module_version": "1.5.0",
       "_model_name": "HTMLModel",
       "_view_count": null,
       "_view_module": "@jupyter-widgets/controls",
       "_view_module_version": "1.5.0",
       "_view_name": "HTMLView",
       "description": "",
       "description_tooltip": null,
       "layout": "IPY_MODEL_020db64ad3c4474c9ea830821517e1ad",
       "placeholder": "​",
       "style": "IPY_MODEL_994e2abb0bb64db08aeacebd77966a66",
       "value": " 616/616 [00:00&lt;00:00, 22.8kB/s]"
      }
     },
     "57f2cc45b521408e96122c884eee7c86": {
      "model_module": "@jupyter-widgets/controls",
      "model_module_version": "1.5.0",
      "model_name": "DescriptionStyleModel",
      "state": {
       "_model_module": "@jupyter-widgets/controls",
       "_model_module_version": "1.5.0",
       "_model_name": "DescriptionStyleModel",
       "_view_count": null,
       "_view_module": "@jupyter-widgets/base",
       "_view_module_version": "1.2.0",
       "_view_name": "StyleView",
       "description_width": ""
      }
     },
     "5a772e163956482b9e5af5c24db8f8b1": {
      "model_module": "@jupyter-widgets/base",
      "model_module_version": "1.2.0",
      "model_name": "LayoutModel",
      "state": {
       "_model_module": "@jupyter-widgets/base",
       "_model_module_version": "1.2.0",
       "_model_name": "LayoutModel",
       "_view_count": null,
       "_view_module": "@jupyter-widgets/base",
       "_view_module_version": "1.2.0",
       "_view_name": "LayoutView",
       "align_content": null,
       "align_items": null,
       "align_self": null,
       "border": null,
       "bottom": null,
       "display": null,
       "flex": null,
       "flex_flow": null,
       "grid_area": null,
       "grid_auto_columns": null,
       "grid_auto_flow": null,
       "grid_auto_rows": null,
       "grid_column": null,
       "grid_gap": null,
       "grid_row": null,
       "grid_template_areas": null,
       "grid_template_columns": null,
       "grid_template_rows": null,
       "height": null,
       "justify_content": null,
       "justify_items": null,
       "left": null,
       "margin": null,
       "max_height": null,
       "max_width": null,
       "min_height": null,
       "min_width": null,
       "object_fit": null,
       "object_position": null,
       "order": null,
       "overflow": null,
       "overflow_x": null,
       "overflow_y": null,
       "padding": null,
       "right": null,
       "top": null,
       "visibility": null,
       "width": null
      }
     },
     "624fda51a11b42ac9b6a90be2fa8bc54": {
      "model_module": "@jupyter-widgets/controls",
      "model_module_version": "1.5.0",
      "model_name": "HTMLModel",
      "state": {
       "_dom_classes": [],
       "_model_module": "@jupyter-widgets/controls",
       "_model_module_version": "1.5.0",
       "_model_name": "HTMLModel",
       "_view_count": null,
       "_view_module": "@jupyter-widgets/controls",
       "_view_module_version": "1.5.0",
       "_view_name": "HTMLView",
       "description": "",
       "description_tooltip": null,
       "layout": "IPY_MODEL_6948e762811345ae893e76cbd8119fa6",
       "placeholder": "​",
       "style": "IPY_MODEL_af41c44b46924d8d82a31fee2e444034",
       "value": " 432M/432M [00:10&lt;00:00, 42.2MB/s]"
      }
     },
     "6948e762811345ae893e76cbd8119fa6": {
      "model_module": "@jupyter-widgets/base",
      "model_module_version": "1.2.0",
      "model_name": "LayoutModel",
      "state": {
       "_model_module": "@jupyter-widgets/base",
       "_model_module_version": "1.2.0",
       "_model_name": "LayoutModel",
       "_view_count": null,
       "_view_module": "@jupyter-widgets/base",
       "_view_module_version": "1.2.0",
       "_view_name": "LayoutView",
       "align_content": null,
       "align_items": null,
       "align_self": null,
       "border": null,
       "bottom": null,
       "display": null,
       "flex": null,
       "flex_flow": null,
       "grid_area": null,
       "grid_auto_columns": null,
       "grid_auto_flow": null,
       "grid_auto_rows": null,
       "grid_column": null,
       "grid_gap": null,
       "grid_row": null,
       "grid_template_areas": null,
       "grid_template_columns": null,
       "grid_template_rows": null,
       "height": null,
       "justify_content": null,
       "justify_items": null,
       "left": null,
       "margin": null,
       "max_height": null,
       "max_width": null,
       "min_height": null,
       "min_width": null,
       "object_fit": null,
       "object_position": null,
       "order": null,
       "overflow": null,
       "overflow_x": null,
       "overflow_y": null,
       "padding": null,
       "right": null,
       "top": null,
       "visibility": null,
       "width": null
      }
     },
     "6addefeb47cf4a08b9dbd1a8b860a58c": {
      "model_module": "@jupyter-widgets/controls",
      "model_module_version": "1.5.0",
      "model_name": "HBoxModel",
      "state": {
       "_dom_classes": [],
       "_model_module": "@jupyter-widgets/controls",
       "_model_module_version": "1.5.0",
       "_model_name": "HBoxModel",
       "_view_count": null,
       "_view_module": "@jupyter-widgets/controls",
       "_view_module_version": "1.5.0",
       "_view_name": "HBoxView",
       "box_style": "",
       "children": [
        "IPY_MODEL_51e74baa7b5e4e0f9c30001c694f2060",
        "IPY_MODEL_05254e9eee2e4b98bea95a80cc572c41",
        "IPY_MODEL_472e9a26e4884989ab911112cfbffc58"
       ],
       "layout": "IPY_MODEL_0ee3e86d20a44a57825e5b599bb77371"
      }
     },
     "6d7224927fa14cc7a68fc3b11adec457": {
      "model_module": "@jupyter-widgets/controls",
      "model_module_version": "1.5.0",
      "model_name": "FloatProgressModel",
      "state": {
       "_dom_classes": [],
       "_model_module": "@jupyter-widgets/controls",
       "_model_module_version": "1.5.0",
       "_model_name": "FloatProgressModel",
       "_view_count": null,
       "_view_module": "@jupyter-widgets/controls",
       "_view_module_version": "1.5.0",
       "_view_name": "ProgressView",
       "bar_style": "success",
       "description": "",
       "description_tooltip": null,
       "layout": "IPY_MODEL_ce591bd42b414b5fb44d12f197b04762",
       "max": 2239866761.0,
       "min": 0.0,
       "orientation": "horizontal",
       "style": "IPY_MODEL_7257eb26bcc34adb8309f0a1c5c7c828",
       "value": 2239866761.0
      }
     },
     "6e37606ead0a4af880a445ce3a0b8942": {
      "model_module": "@jupyter-widgets/controls",
      "model_module_version": "1.5.0",
      "model_name": "HBoxModel",
      "state": {
       "_dom_classes": [],
       "_model_module": "@jupyter-widgets/controls",
       "_model_module_version": "1.5.0",
       "_model_name": "HBoxModel",
       "_view_count": null,
       "_view_module": "@jupyter-widgets/controls",
       "_view_module_version": "1.5.0",
       "_view_name": "HBoxView",
       "box_style": "",
       "children": [
        "IPY_MODEL_d09ed86db3f74eb6af7cb7d9023451fa",
        "IPY_MODEL_95c8867821cd4b15a1ba38dd420963d9",
        "IPY_MODEL_52ed2173f8394f81b9723b48526bc621"
       ],
       "layout": "IPY_MODEL_0c2500f96b2b49a79e5836912ec3726c"
      }
     },
     "71b93e8744cb4d8f98b2e2baead78614": {
      "model_module": "@jupyter-widgets/base",
      "model_module_version": "1.2.0",
      "model_name": "LayoutModel",
      "state": {
       "_model_module": "@jupyter-widgets/base",
       "_model_module_version": "1.2.0",
       "_model_name": "LayoutModel",
       "_view_count": null,
       "_view_module": "@jupyter-widgets/base",
       "_view_module_version": "1.2.0",
       "_view_name": "LayoutView",
       "align_content": null,
       "align_items": null,
       "align_self": null,
       "border": null,
       "bottom": null,
       "display": null,
       "flex": null,
       "flex_flow": null,
       "grid_area": null,
       "grid_auto_columns": null,
       "grid_auto_flow": null,
       "grid_auto_rows": null,
       "grid_column": null,
       "grid_gap": null,
       "grid_row": null,
       "grid_template_areas": null,
       "grid_template_columns": null,
       "grid_template_rows": null,
       "height": null,
       "justify_content": null,
       "justify_items": null,
       "left": null,
       "margin": null,
       "max_height": null,
       "max_width": null,
       "min_height": null,
       "min_width": null,
       "object_fit": null,
       "object_position": null,
       "order": null,
       "overflow": null,
       "overflow_x": null,
       "overflow_y": null,
       "padding": null,
       "right": null,
       "top": null,
       "visibility": null,
       "width": null
      }
     },
     "7257eb26bcc34adb8309f0a1c5c7c828": {
      "model_module": "@jupyter-widgets/controls",
      "model_module_version": "1.5.0",
      "model_name": "ProgressStyleModel",
      "state": {
       "_model_module": "@jupyter-widgets/controls",
       "_model_module_version": "1.5.0",
       "_model_name": "ProgressStyleModel",
       "_view_count": null,
       "_view_module": "@jupyter-widgets/base",
       "_view_module_version": "1.2.0",
       "_view_name": "StyleView",
       "bar_color": null,
       "description_width": ""
      }
     },
     "7ac98bdb3c2d4d829e3695ff0ba816f4": {
      "model_module": "@jupyter-widgets/base",
      "model_module_version": "1.2.0",
      "model_name": "LayoutModel",
      "state": {
       "_model_module": "@jupyter-widgets/base",
       "_model_module_version": "1.2.0",
       "_model_name": "LayoutModel",
       "_view_count": null,
       "_view_module": "@jupyter-widgets/base",
       "_view_module_version": "1.2.0",
       "_view_name": "LayoutView",
       "align_content": null,
       "align_items": null,
       "align_self": null,
       "border": null,
       "bottom": null,
       "display": null,
       "flex": null,
       "flex_flow": null,
       "grid_area": null,
       "grid_auto_columns": null,
       "grid_auto_flow": null,
       "grid_auto_rows": null,
       "grid_column": null,
       "grid_gap": null,
       "grid_row": null,
       "grid_template_areas": null,
       "grid_template_columns": null,
       "grid_template_rows": null,
       "height": null,
       "justify_content": null,
       "justify_items": null,
       "left": null,
       "margin": null,
       "max_height": null,
       "max_width": null,
       "min_height": null,
       "min_width": null,
       "object_fit": null,
       "object_position": null,
       "order": null,
       "overflow": null,
       "overflow_x": null,
       "overflow_y": null,
       "padding": null,
       "right": null,
       "top": null,
       "visibility": null,
       "width": null
      }
     },
     "84214cc8ae8a48fdb2da228df744f44c": {
      "model_module": "@jupyter-widgets/controls",
      "model_module_version": "1.5.0",
      "model_name": "ProgressStyleModel",
      "state": {
       "_model_module": "@jupyter-widgets/controls",
       "_model_module_version": "1.5.0",
       "_model_name": "ProgressStyleModel",
       "_view_count": null,
       "_view_module": "@jupyter-widgets/base",
       "_view_module_version": "1.2.0",
       "_view_name": "StyleView",
       "bar_color": null,
       "description_width": ""
      }
     },
     "8c22c3b509d84bc4a7497f5032e8a9e3": {
      "model_module": "@jupyter-widgets/controls",
      "model_module_version": "1.5.0",
      "model_name": "HTMLModel",
      "state": {
       "_dom_classes": [],
       "_model_module": "@jupyter-widgets/controls",
       "_model_module_version": "1.5.0",
       "_model_name": "HTMLModel",
       "_view_count": null,
       "_view_module": "@jupyter-widgets/controls",
       "_view_module_version": "1.5.0",
       "_view_name": "HTMLView",
       "description": "",
       "description_tooltip": null,
       "layout": "IPY_MODEL_273d612d82134e51873c96c300a363be",
       "placeholder": "​",
       "style": "IPY_MODEL_25f4b1d1b7fc4a86947b54d642902cf3",
       "value": "Downloading: 100%"
      }
     },
     "8db93541961f498c823c0fc5e2c187dc": {
      "model_module": "@jupyter-widgets/controls",
      "model_module_version": "1.5.0",
      "model_name": "HTMLModel",
      "state": {
       "_dom_classes": [],
       "_model_module": "@jupyter-widgets/controls",
       "_model_module_version": "1.5.0",
       "_model_name": "HTMLModel",
       "_view_count": null,
       "_view_module": "@jupyter-widgets/controls",
       "_view_module_version": "1.5.0",
       "_view_name": "HTMLView",
       "description": "",
       "description_tooltip": null,
       "layout": "IPY_MODEL_28d3b98ab06247d29d962f1d9c27cb52",
       "placeholder": "​",
       "style": "IPY_MODEL_2e1ab115e0894f39a70d8cbf71e99e09",
       "value": "Downloading: 100%"
      }
     },
     "95c8867821cd4b15a1ba38dd420963d9": {
      "model_module": "@jupyter-widgets/controls",
      "model_module_version": "1.5.0",
      "model_name": "FloatProgressModel",
      "state": {
       "_dom_classes": [],
       "_model_module": "@jupyter-widgets/controls",
       "_model_module_version": "1.5.0",
       "_model_name": "FloatProgressModel",
       "_view_count": null,
       "_view_module": "@jupyter-widgets/controls",
       "_view_module_version": "1.5.0",
       "_view_name": "ProgressView",
       "bar_style": "success",
       "description": "",
       "description_tooltip": null,
       "layout": "IPY_MODEL_169a077a0e5f4b529443e6e4653361d9",
       "max": 616.0,
       "min": 0.0,
       "orientation": "horizontal",
       "style": "IPY_MODEL_bdc011d3ecd74c13b6c98948310682ac",
       "value": 616.0
      }
     },
     "96b4a6d05f5f4a18a67c4a044497235e": {
      "model_module": "@jupyter-widgets/base",
      "model_module_version": "1.2.0",
      "model_name": "LayoutModel",
      "state": {
       "_model_module": "@jupyter-widgets/base",
       "_model_module_version": "1.2.0",
       "_model_name": "LayoutModel",
       "_view_count": null,
       "_view_module": "@jupyter-widgets/base",
       "_view_module_version": "1.2.0",
       "_view_name": "LayoutView",
       "align_content": null,
       "align_items": null,
       "align_self": null,
       "border": null,
       "bottom": null,
       "display": null,
       "flex": null,
       "flex_flow": null,
       "grid_area": null,
       "grid_auto_columns": null,
       "grid_auto_flow": null,
       "grid_auto_rows": null,
       "grid_column": null,
       "grid_gap": null,
       "grid_row": null,
       "grid_template_areas": null,
       "grid_template_columns": null,
       "grid_template_rows": null,
       "height": null,
       "justify_content": null,
       "justify_items": null,
       "left": null,
       "margin": null,
       "max_height": null,
       "max_width": null,
       "min_height": null,
       "min_width": null,
       "object_fit": null,
       "object_position": null,
       "order": null,
       "overflow": null,
       "overflow_x": null,
       "overflow_y": null,
       "padding": null,
       "right": null,
       "top": null,
       "visibility": null,
       "width": null
      }
     },
     "994e2abb0bb64db08aeacebd77966a66": {
      "model_module": "@jupyter-widgets/controls",
      "model_module_version": "1.5.0",
      "model_name": "DescriptionStyleModel",
      "state": {
       "_model_module": "@jupyter-widgets/controls",
       "_model_module_version": "1.5.0",
       "_model_name": "DescriptionStyleModel",
       "_view_count": null,
       "_view_module": "@jupyter-widgets/base",
       "_view_module_version": "1.2.0",
       "_view_name": "StyleView",
       "description_width": ""
      }
     },
     "9bcfbda3d515434296dd1f87f414aff7": {
      "model_module": "@jupyter-widgets/base",
      "model_module_version": "1.2.0",
      "model_name": "LayoutModel",
      "state": {
       "_model_module": "@jupyter-widgets/base",
       "_model_module_version": "1.2.0",
       "_model_name": "LayoutModel",
       "_view_count": null,
       "_view_module": "@jupyter-widgets/base",
       "_view_module_version": "1.2.0",
       "_view_name": "LayoutView",
       "align_content": null,
       "align_items": null,
       "align_self": null,
       "border": null,
       "bottom": null,
       "display": null,
       "flex": null,
       "flex_flow": null,
       "grid_area": null,
       "grid_auto_columns": null,
       "grid_auto_flow": null,
       "grid_auto_rows": null,
       "grid_column": null,
       "grid_gap": null,
       "grid_row": null,
       "grid_template_areas": null,
       "grid_template_columns": null,
       "grid_template_rows": null,
       "height": null,
       "justify_content": null,
       "justify_items": null,
       "left": null,
       "margin": null,
       "max_height": null,
       "max_width": null,
       "min_height": null,
       "min_width": null,
       "object_fit": null,
       "object_position": null,
       "order": null,
       "overflow": null,
       "overflow_x": null,
       "overflow_y": null,
       "padding": null,
       "right": null,
       "top": null,
       "visibility": null,
       "width": null
      }
     },
     "9db3a9ca9cec49c0bb04af774c2b6e0c": {
      "model_module": "@jupyter-widgets/controls",
      "model_module_version": "1.5.0",
      "model_name": "ProgressStyleModel",
      "state": {
       "_model_module": "@jupyter-widgets/controls",
       "_model_module_version": "1.5.0",
       "_model_name": "ProgressStyleModel",
       "_view_count": null,
       "_view_module": "@jupyter-widgets/base",
       "_view_module_version": "1.2.0",
       "_view_name": "StyleView",
       "bar_color": null,
       "description_width": ""
      }
     },
     "9e6882f1905b4bdf87bb7674d00ba42d": {
      "model_module": "@jupyter-widgets/controls",
      "model_module_version": "1.5.0",
      "model_name": "HTMLModel",
      "state": {
       "_dom_classes": [],
       "_model_module": "@jupyter-widgets/controls",
       "_model_module_version": "1.5.0",
       "_model_name": "HTMLModel",
       "_view_count": null,
       "_view_module": "@jupyter-widgets/controls",
       "_view_module_version": "1.5.0",
       "_view_name": "HTMLView",
       "description": "",
       "description_tooltip": null,
       "layout": "IPY_MODEL_b3684c70852c4f568fff55a21d14fe4d",
       "placeholder": "​",
       "style": "IPY_MODEL_57f2cc45b521408e96122c884eee7c86",
       "value": " 2.24G/2.24G [00:56&lt;00:00, 30.7MB/s]"
      }
     },
     "a1c8f3cca1874e9eb66abc5df00afd18": {
      "model_module": "@jupyter-widgets/controls",
      "model_module_version": "1.5.0",
      "model_name": "HTMLModel",
      "state": {
       "_dom_classes": [],
       "_model_module": "@jupyter-widgets/controls",
       "_model_module_version": "1.5.0",
       "_model_name": "HTMLModel",
       "_view_count": null,
       "_view_module": "@jupyter-widgets/controls",
       "_view_module_version": "1.5.0",
       "_view_name": "HTMLView",
       "description": "",
       "description_tooltip": null,
       "layout": "IPY_MODEL_e4aef8ff533c41dab14f5ef7368872dc",
       "placeholder": "​",
       "style": "IPY_MODEL_bfc51c935762467fb40fa2e01e687b90",
       "value": " 8.68M/8.68M [00:00&lt;00:00, 19.6MB/s]"
      }
     },
     "aa9b17edc2674df1a070fb4ab4f7003c": {
      "model_module": "@jupyter-widgets/base",
      "model_module_version": "1.2.0",
      "model_name": "LayoutModel",
      "state": {
       "_model_module": "@jupyter-widgets/base",
       "_model_module_version": "1.2.0",
       "_model_name": "LayoutModel",
       "_view_count": null,
       "_view_module": "@jupyter-widgets/base",
       "_view_module_version": "1.2.0",
       "_view_name": "LayoutView",
       "align_content": null,
       "align_items": null,
       "align_self": null,
       "border": null,
       "bottom": null,
       "display": null,
       "flex": null,
       "flex_flow": null,
       "grid_area": null,
       "grid_auto_columns": null,
       "grid_auto_flow": null,
       "grid_auto_rows": null,
       "grid_column": null,
       "grid_gap": null,
       "grid_row": null,
       "grid_template_areas": null,
       "grid_template_columns": null,
       "grid_template_rows": null,
       "height": null,
       "justify_content": null,
       "justify_items": null,
       "left": null,
       "margin": null,
       "max_height": null,
       "max_width": null,
       "min_height": null,
       "min_width": null,
       "object_fit": null,
       "object_position": null,
       "order": null,
       "overflow": null,
       "overflow_x": null,
       "overflow_y": null,
       "padding": null,
       "right": null,
       "top": null,
       "visibility": null,
       "width": null
      }
     },
     "aefef736e49b49e6a89899fe3d8f6394": {
      "model_module": "@jupyter-widgets/controls",
      "model_module_version": "1.5.0",
      "model_name": "HTMLModel",
      "state": {
       "_dom_classes": [],
       "_model_module": "@jupyter-widgets/controls",
       "_model_module_version": "1.5.0",
       "_model_name": "HTMLModel",
       "_view_count": null,
       "_view_module": "@jupyter-widgets/controls",
       "_view_module_version": "1.5.0",
       "_view_name": "HTMLView",
       "description": "",
       "description_tooltip": null,
       "layout": "IPY_MODEL_e8a2f1ea43dd44139408a5e3bf7bb63e",
       "placeholder": "​",
       "style": "IPY_MODEL_c51ee7b44f0a418488bd99b0ba1b4b11",
       "value": " 2.24G/2.24G [00:56&lt;00:00, 43.9MB/s]"
      }
     },
     "af41c44b46924d8d82a31fee2e444034": {
      "model_module": "@jupyter-widgets/controls",
      "model_module_version": "1.5.0",
      "model_name": "DescriptionStyleModel",
      "state": {
       "_model_module": "@jupyter-widgets/controls",
       "_model_module_version": "1.5.0",
       "_model_name": "DescriptionStyleModel",
       "_view_count": null,
       "_view_module": "@jupyter-widgets/base",
       "_view_module_version": "1.2.0",
       "_view_name": "StyleView",
       "description_width": ""
      }
     },
     "b3684c70852c4f568fff55a21d14fe4d": {
      "model_module": "@jupyter-widgets/base",
      "model_module_version": "1.2.0",
      "model_name": "LayoutModel",
      "state": {
       "_model_module": "@jupyter-widgets/base",
       "_model_module_version": "1.2.0",
       "_model_name": "LayoutModel",
       "_view_count": null,
       "_view_module": "@jupyter-widgets/base",
       "_view_module_version": "1.2.0",
       "_view_name": "LayoutView",
       "align_content": null,
       "align_items": null,
       "align_self": null,
       "border": null,
       "bottom": null,
       "display": null,
       "flex": null,
       "flex_flow": null,
       "grid_area": null,
       "grid_auto_columns": null,
       "grid_auto_flow": null,
       "grid_auto_rows": null,
       "grid_column": null,
       "grid_gap": null,
       "grid_row": null,
       "grid_template_areas": null,
       "grid_template_columns": null,
       "grid_template_rows": null,
       "height": null,
       "justify_content": null,
       "justify_items": null,
       "left": null,
       "margin": null,
       "max_height": null,
       "max_width": null,
       "min_height": null,
       "min_width": null,
       "object_fit": null,
       "object_position": null,
       "order": null,
       "overflow": null,
       "overflow_x": null,
       "overflow_y": null,
       "padding": null,
       "right": null,
       "top": null,
       "visibility": null,
       "width": null
      }
     },
     "bdc011d3ecd74c13b6c98948310682ac": {
      "model_module": "@jupyter-widgets/controls",
      "model_module_version": "1.5.0",
      "model_name": "ProgressStyleModel",
      "state": {
       "_model_module": "@jupyter-widgets/controls",
       "_model_module_version": "1.5.0",
       "_model_name": "ProgressStyleModel",
       "_view_count": null,
       "_view_module": "@jupyter-widgets/base",
       "_view_module_version": "1.2.0",
       "_view_name": "StyleView",
       "bar_color": null,
       "description_width": ""
      }
     },
     "bfc51c935762467fb40fa2e01e687b90": {
      "model_module": "@jupyter-widgets/controls",
      "model_module_version": "1.5.0",
      "model_name": "DescriptionStyleModel",
      "state": {
       "_model_module": "@jupyter-widgets/controls",
       "_model_module_version": "1.5.0",
       "_model_name": "DescriptionStyleModel",
       "_view_count": null,
       "_view_module": "@jupyter-widgets/base",
       "_view_module_version": "1.2.0",
       "_view_name": "StyleView",
       "description_width": ""
      }
     },
     "c51ee7b44f0a418488bd99b0ba1b4b11": {
      "model_module": "@jupyter-widgets/controls",
      "model_module_version": "1.5.0",
      "model_name": "DescriptionStyleModel",
      "state": {
       "_model_module": "@jupyter-widgets/controls",
       "_model_module_version": "1.5.0",
       "_model_name": "DescriptionStyleModel",
       "_view_count": null,
       "_view_module": "@jupyter-widgets/base",
       "_view_module_version": "1.2.0",
       "_view_name": "StyleView",
       "description_width": ""
      }
     },
     "c9462e4a4a084573b127b6d07d98c871": {
      "model_module": "@jupyter-widgets/controls",
      "model_module_version": "1.5.0",
      "model_name": "DescriptionStyleModel",
      "state": {
       "_model_module": "@jupyter-widgets/controls",
       "_model_module_version": "1.5.0",
       "_model_name": "DescriptionStyleModel",
       "_view_count": null,
       "_view_module": "@jupyter-widgets/base",
       "_view_module_version": "1.2.0",
       "_view_name": "StyleView",
       "description_width": ""
      }
     },
     "ce591bd42b414b5fb44d12f197b04762": {
      "model_module": "@jupyter-widgets/base",
      "model_module_version": "1.2.0",
      "model_name": "LayoutModel",
      "state": {
       "_model_module": "@jupyter-widgets/base",
       "_model_module_version": "1.2.0",
       "_model_name": "LayoutModel",
       "_view_count": null,
       "_view_module": "@jupyter-widgets/base",
       "_view_module_version": "1.2.0",
       "_view_name": "LayoutView",
       "align_content": null,
       "align_items": null,
       "align_self": null,
       "border": null,
       "bottom": null,
       "display": null,
       "flex": null,
       "flex_flow": null,
       "grid_area": null,
       "grid_auto_columns": null,
       "grid_auto_flow": null,
       "grid_auto_rows": null,
       "grid_column": null,
       "grid_gap": null,
       "grid_row": null,
       "grid_template_areas": null,
       "grid_template_columns": null,
       "grid_template_rows": null,
       "height": null,
       "justify_content": null,
       "justify_items": null,
       "left": null,
       "margin": null,
       "max_height": null,
       "max_width": null,
       "min_height": null,
       "min_width": null,
       "object_fit": null,
       "object_position": null,
       "order": null,
       "overflow": null,
       "overflow_x": null,
       "overflow_y": null,
       "padding": null,
       "right": null,
       "top": null,
       "visibility": null,
       "width": null
      }
     },
     "d09ed86db3f74eb6af7cb7d9023451fa": {
      "model_module": "@jupyter-widgets/controls",
      "model_module_version": "1.5.0",
      "model_name": "HTMLModel",
      "state": {
       "_dom_classes": [],
       "_model_module": "@jupyter-widgets/controls",
       "_model_module_version": "1.5.0",
       "_model_name": "HTMLModel",
       "_view_count": null,
       "_view_module": "@jupyter-widgets/controls",
       "_view_module_version": "1.5.0",
       "_view_name": "HTMLView",
       "description": "",
       "description_tooltip": null,
       "layout": "IPY_MODEL_4a805699996a48a59f1574eeea5dfb74",
       "placeholder": "​",
       "style": "IPY_MODEL_33f55db401104d70847263a9f6500483",
       "value": "Downloading: 100%"
      }
     },
     "d77d9212298c4f299cf5cef50b9ed76c": {
      "model_module": "@jupyter-widgets/controls",
      "model_module_version": "1.5.0",
      "model_name": "DescriptionStyleModel",
      "state": {
       "_model_module": "@jupyter-widgets/controls",
       "_model_module_version": "1.5.0",
       "_model_name": "DescriptionStyleModel",
       "_view_count": null,
       "_view_module": "@jupyter-widgets/base",
       "_view_module_version": "1.2.0",
       "_view_name": "StyleView",
       "description_width": ""
      }
     },
     "e4aef8ff533c41dab14f5ef7368872dc": {
      "model_module": "@jupyter-widgets/base",
      "model_module_version": "1.2.0",
      "model_name": "LayoutModel",
      "state": {
       "_model_module": "@jupyter-widgets/base",
       "_model_module_version": "1.2.0",
       "_model_name": "LayoutModel",
       "_view_count": null,
       "_view_module": "@jupyter-widgets/base",
       "_view_module_version": "1.2.0",
       "_view_name": "LayoutView",
       "align_content": null,
       "align_items": null,
       "align_self": null,
       "border": null,
       "bottom": null,
       "display": null,
       "flex": null,
       "flex_flow": null,
       "grid_area": null,
       "grid_auto_columns": null,
       "grid_auto_flow": null,
       "grid_auto_rows": null,
       "grid_column": null,
       "grid_gap": null,
       "grid_row": null,
       "grid_template_areas": null,
       "grid_template_columns": null,
       "grid_template_rows": null,
       "height": null,
       "justify_content": null,
       "justify_items": null,
       "left": null,
       "margin": null,
       "max_height": null,
       "max_width": null,
       "min_height": null,
       "min_width": null,
       "object_fit": null,
       "object_position": null,
       "order": null,
       "overflow": null,
       "overflow_x": null,
       "overflow_y": null,
       "padding": null,
       "right": null,
       "top": null,
       "visibility": null,
       "width": null
      }
     },
     "e8a2f1ea43dd44139408a5e3bf7bb63e": {
      "model_module": "@jupyter-widgets/base",
      "model_module_version": "1.2.0",
      "model_name": "LayoutModel",
      "state": {
       "_model_module": "@jupyter-widgets/base",
       "_model_module_version": "1.2.0",
       "_model_name": "LayoutModel",
       "_view_count": null,
       "_view_module": "@jupyter-widgets/base",
       "_view_module_version": "1.2.0",
       "_view_name": "LayoutView",
       "align_content": null,
       "align_items": null,
       "align_self": null,
       "border": null,
       "bottom": null,
       "display": null,
       "flex": null,
       "flex_flow": null,
       "grid_area": null,
       "grid_auto_columns": null,
       "grid_auto_flow": null,
       "grid_auto_rows": null,
       "grid_column": null,
       "grid_gap": null,
       "grid_row": null,
       "grid_template_areas": null,
       "grid_template_columns": null,
       "grid_template_rows": null,
       "height": null,
       "justify_content": null,
       "justify_items": null,
       "left": null,
       "margin": null,
       "max_height": null,
       "max_width": null,
       "min_height": null,
       "min_width": null,
       "object_fit": null,
       "object_position": null,
       "order": null,
       "overflow": null,
       "overflow_x": null,
       "overflow_y": null,
       "padding": null,
       "right": null,
       "top": null,
       "visibility": null,
       "width": null
      }
     },
     "e935b193ad304548bf41d7ca27e14f8b": {
      "model_module": "@jupyter-widgets/base",
      "model_module_version": "1.2.0",
      "model_name": "LayoutModel",
      "state": {
       "_model_module": "@jupyter-widgets/base",
       "_model_module_version": "1.2.0",
       "_model_name": "LayoutModel",
       "_view_count": null,
       "_view_module": "@jupyter-widgets/base",
       "_view_module_version": "1.2.0",
       "_view_name": "LayoutView",
       "align_content": null,
       "align_items": null,
       "align_self": null,
       "border": null,
       "bottom": null,
       "display": null,
       "flex": null,
       "flex_flow": null,
       "grid_area": null,
       "grid_auto_columns": null,
       "grid_auto_flow": null,
       "grid_auto_rows": null,
       "grid_column": null,
       "grid_gap": null,
       "grid_row": null,
       "grid_template_areas": null,
       "grid_template_columns": null,
       "grid_template_rows": null,
       "height": null,
       "justify_content": null,
       "justify_items": null,
       "left": null,
       "margin": null,
       "max_height": null,
       "max_width": null,
       "min_height": null,
       "min_width": null,
       "object_fit": null,
       "object_position": null,
       "order": null,
       "overflow": null,
       "overflow_x": null,
       "overflow_y": null,
       "padding": null,
       "right": null,
       "top": null,
       "visibility": null,
       "width": null
      }
     },
     "e9feb98870f141faa60900584a6ec742": {
      "model_module": "@jupyter-widgets/controls",
      "model_module_version": "1.5.0",
      "model_name": "DescriptionStyleModel",
      "state": {
       "_model_module": "@jupyter-widgets/controls",
       "_model_module_version": "1.5.0",
       "_model_name": "DescriptionStyleModel",
       "_view_count": null,
       "_view_module": "@jupyter-widgets/base",
       "_view_module_version": "1.2.0",
       "_view_name": "StyleView",
       "description_width": ""
      }
     },
     "ee0f062a3e084887a360c314a070d1ce": {
      "model_module": "@jupyter-widgets/controls",
      "model_module_version": "1.5.0",
      "model_name": "ProgressStyleModel",
      "state": {
       "_model_module": "@jupyter-widgets/controls",
       "_model_module_version": "1.5.0",
       "_model_name": "ProgressStyleModel",
       "_view_count": null,
       "_view_module": "@jupyter-widgets/base",
       "_view_module_version": "1.2.0",
       "_view_name": "StyleView",
       "bar_color": null,
       "description_width": ""
      }
     },
     "ee952d2499d647f3b33c48ad10db977a": {
      "model_module": "@jupyter-widgets/controls",
      "model_module_version": "1.5.0",
      "model_name": "HTMLModel",
      "state": {
       "_dom_classes": [],
       "_model_module": "@jupyter-widgets/controls",
       "_model_module_version": "1.5.0",
       "_model_name": "HTMLModel",
       "_view_count": null,
       "_view_module": "@jupyter-widgets/controls",
       "_view_module_version": "1.5.0",
       "_view_name": "HTMLView",
       "description": "",
       "description_tooltip": null,
       "layout": "IPY_MODEL_412bf791ae8848dfa7833c35a56a1736",
       "placeholder": "​",
       "style": "IPY_MODEL_c9462e4a4a084573b127b6d07d98c871",
       "value": "Downloading: 100%"
      }
     },
     "f0f1c26e87474c29aa2777930c4f4509": {
      "model_module": "@jupyter-widgets/controls",
      "model_module_version": "1.5.0",
      "model_name": "HBoxModel",
      "state": {
       "_dom_classes": [],
       "_model_module": "@jupyter-widgets/controls",
       "_model_module_version": "1.5.0",
       "_model_name": "HBoxModel",
       "_view_count": null,
       "_view_module": "@jupyter-widgets/controls",
       "_view_module_version": "1.5.0",
       "_view_name": "HBoxView",
       "box_style": "",
       "children": [
        "IPY_MODEL_ee952d2499d647f3b33c48ad10db977a",
        "IPY_MODEL_1d5ffe96445c47979231f3fd231d0f37",
        "IPY_MODEL_a1c8f3cca1874e9eb66abc5df00afd18"
       ],
       "layout": "IPY_MODEL_5a772e163956482b9e5af5c24db8f8b1"
      }
     },
     "f40ac122eea3423a82e6dc89255c64f2": {
      "model_module": "@jupyter-widgets/base",
      "model_module_version": "1.2.0",
      "model_name": "LayoutModel",
      "state": {
       "_model_module": "@jupyter-widgets/base",
       "_model_module_version": "1.2.0",
       "_model_name": "LayoutModel",
       "_view_count": null,
       "_view_module": "@jupyter-widgets/base",
       "_view_module_version": "1.2.0",
       "_view_name": "LayoutView",
       "align_content": null,
       "align_items": null,
       "align_self": null,
       "border": null,
       "bottom": null,
       "display": null,
       "flex": null,
       "flex_flow": null,
       "grid_area": null,
       "grid_auto_columns": null,
       "grid_auto_flow": null,
       "grid_auto_rows": null,
       "grid_column": null,
       "grid_gap": null,
       "grid_row": null,
       "grid_template_areas": null,
       "grid_template_columns": null,
       "grid_template_rows": null,
       "height": null,
       "justify_content": null,
       "justify_items": null,
       "left": null,
       "margin": null,
       "max_height": null,
       "max_width": null,
       "min_height": null,
       "min_width": null,
       "object_fit": null,
       "object_position": null,
       "order": null,
       "overflow": null,
       "overflow_x": null,
       "overflow_y": null,
       "padding": null,
       "right": null,
       "top": null,
       "visibility": null,
       "width": null
      }
     },
     "fe2b62923553400982229491a9d2f72a": {
      "model_module": "@jupyter-widgets/controls",
      "model_module_version": "1.5.0",
      "model_name": "FloatProgressModel",
      "state": {
       "_dom_classes": [],
       "_model_module": "@jupyter-widgets/controls",
       "_model_module_version": "1.5.0",
       "_model_name": "FloatProgressModel",
       "_view_count": null,
       "_view_module": "@jupyter-widgets/controls",
       "_view_module_version": "1.5.0",
       "_view_name": "ProgressView",
       "bar_style": "success",
       "description": "",
       "description_tooltip": null,
       "layout": "IPY_MODEL_3f31b9c136c44a1c9fe57d4edfea0704",
       "max": 2240097289.0,
       "min": 0.0,
       "orientation": "horizontal",
       "style": "IPY_MODEL_ee0f062a3e084887a360c314a070d1ce",
       "value": 2240097289.0
      }
     }
    },
    "version_major": 2,
    "version_minor": 0
   }
  }
 },
 "nbformat": 4,
 "nbformat_minor": 5
}
