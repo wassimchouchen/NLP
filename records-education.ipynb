{
 "cells": [
  {
   "cell_type": "code",
   "execution_count": 1,
   "id": "010d9111",
   "metadata": {
    "_cell_guid": "b1076dfc-b9ad-4769-8c92-a6c4dae69d19",
    "_uuid": "8f2839f25d086af736a60e9eeb907d3b93b6e0e5",
    "execution": {
     "iopub.execute_input": "2022-06-27T19:21:29.127960Z",
     "iopub.status.busy": "2022-06-27T19:21:29.127593Z",
     "iopub.status.idle": "2022-06-27T19:21:35.690608Z",
     "shell.execute_reply": "2022-06-27T19:21:35.689625Z"
    },
    "papermill": {
     "duration": 6.577614,
     "end_time": "2022-06-27T19:21:35.693135",
     "exception": false,
     "start_time": "2022-06-27T19:21:29.115521",
     "status": "completed"
    },
    "tags": []
   },
   "outputs": [],
   "source": [
    "import numpy as np\n",
    "import pandas as pd \n",
    "import seaborn as sns\n",
    "import matplotlib.pyplot as plt \n",
    "import matplotlib.style as stl \n",
    "from tensorflow import keras \n",
    "from keras.preprocessing.text import Tokenizer\n",
    "from nltk.corpus import stopwords\n",
    "import string\n",
    "from tensorflow.keras.models import Sequential,Model\n",
    "from tensorflow.keras.layers import Dense, LSTM, Embedding,Dropout,SpatialDropout1D,Conv1D,MaxPooling1D,GRU,BatchNormalization\n",
    "import warnings\n",
    "warnings.filterwarnings('ignore')\n",
    "stl.use('ggplot')\n",
    "from tqdm import tqdm\n",
    "import string\n",
    "from nltk.corpus import stopwords\n",
    "from nltk.tokenize import word_tokenize\n",
    "from nltk.stem import WordNetLemmatizer\n",
    "from nltk.stem.snowball import SnowballStemmer\n",
    "import regex as re\n",
    "import time\n",
    "import pickle"
   ]
  },
  {
   "cell_type": "code",
   "execution_count": 2,
   "id": "c8652bfd",
   "metadata": {
    "execution": {
     "iopub.execute_input": "2022-06-27T19:21:35.715984Z",
     "iopub.status.busy": "2022-06-27T19:21:35.714821Z",
     "iopub.status.idle": "2022-06-27T19:21:36.172769Z",
     "shell.execute_reply": "2022-06-27T19:21:36.171700Z"
    },
    "papermill": {
     "duration": 0.471537,
     "end_time": "2022-06-27T19:21:36.175184",
     "exception": false,
     "start_time": "2022-06-27T19:21:35.703647",
     "status": "completed"
    },
    "tags": []
   },
   "outputs": [],
   "source": [
    "recordE=pd.read_csv(\"../input/categories/recordE.csv\")"
   ]
  },
  {
   "cell_type": "code",
   "execution_count": 3,
   "id": "7a40cd31",
   "metadata": {
    "execution": {
     "iopub.execute_input": "2022-06-27T19:21:36.196830Z",
     "iopub.status.busy": "2022-06-27T19:21:36.196451Z",
     "iopub.status.idle": "2022-06-27T19:21:36.219864Z",
     "shell.execute_reply": "2022-06-27T19:21:36.218878Z"
    },
    "papermill": {
     "duration": 0.037271,
     "end_time": "2022-06-27T19:21:36.222782",
     "exception": false,
     "start_time": "2022-06-27T19:21:36.185511",
     "status": "completed"
    },
    "tags": []
   },
   "outputs": [
    {
     "data": {
      "text/html": [
       "<div>\n",
       "<style scoped>\n",
       "    .dataframe tbody tr th:only-of-type {\n",
       "        vertical-align: middle;\n",
       "    }\n",
       "\n",
       "    .dataframe tbody tr th {\n",
       "        vertical-align: top;\n",
       "    }\n",
       "\n",
       "    .dataframe thead th {\n",
       "        text-align: right;\n",
       "    }\n",
       "</style>\n",
       "<table border=\"1\" class=\"dataframe\">\n",
       "  <thead>\n",
       "    <tr style=\"text-align: right;\">\n",
       "      <th></th>\n",
       "      <th>document_id</th>\n",
       "      <th>status</th>\n",
       "      <th>document_url</th>\n",
       "      <th>media_type</th>\n",
       "      <th>media_link</th>\n",
       "      <th>relative_media_path</th>\n",
       "      <th>is_media_downloaded</th>\n",
       "      <th>transcription_text</th>\n",
       "      <th>transcription_text_relative_path</th>\n",
       "      <th>from_time</th>\n",
       "      <th>to_time</th>\n",
       "      <th>project_id</th>\n",
       "      <th>Category</th>\n",
       "      <th>Unnamed: 13</th>\n",
       "      <th>Unnamed: 14</th>\n",
       "    </tr>\n",
       "  </thead>\n",
       "  <tbody>\n",
       "    <tr>\n",
       "      <th>0</th>\n",
       "      <td>NMAAHC-007675740_00017</td>\n",
       "      <td>Complete</td>\n",
       "      <td>https://transcription.si.edu/transcribe/15636/...</td>\n",
       "      <td>image</td>\n",
       "      <td>https://ids.si.edu/ids/deliveryService?max_w=&amp;...</td>\n",
       "      <td>/15636/image/NMAAHC-007675740_00017.jpg</td>\n",
       "      <td>1</td>\n",
       "      <td>Abstract of Disbursements on a/c of Schools.\\r...</td>\n",
       "      <td>/15636/transcriptions/NMAAHC-007675740_00017.txt</td>\n",
       "      <td>\\N</td>\n",
       "      <td>\\N</td>\n",
       "      <td>15636</td>\n",
       "      <td>Records - Education</td>\n",
       "      <td>NaN</td>\n",
       "      <td>NaN</td>\n",
       "    </tr>\n",
       "    <tr>\n",
       "      <th>1</th>\n",
       "      <td>NMAAHC-007675740_00018</td>\n",
       "      <td>Complete</td>\n",
       "      <td>https://transcription.si.edu/transcribe/15636/...</td>\n",
       "      <td>image</td>\n",
       "      <td>https://ids.si.edu/ids/deliveryService?max_w=&amp;...</td>\n",
       "      <td>/15636/image/NMAAHC-007675740_00018.jpg</td>\n",
       "      <td>1</td>\n",
       "      <td>Disbursments on account of Colored Schools for...</td>\n",
       "      <td>/15636/transcriptions/NMAAHC-007675740_00018.txt</td>\n",
       "      <td>\\N</td>\n",
       "      <td>\\N</td>\n",
       "      <td>15636</td>\n",
       "      <td>Records - Education</td>\n",
       "      <td>NaN</td>\n",
       "      <td>NaN</td>\n",
       "    </tr>\n",
       "    <tr>\n",
       "      <th>2</th>\n",
       "      <td>NMAAHC-007675740_00019</td>\n",
       "      <td>Complete</td>\n",
       "      <td>https://transcription.si.edu/transcribe/15636/...</td>\n",
       "      <td>image</td>\n",
       "      <td>https://ids.si.edu/ids/deliveryService?max_w=&amp;...</td>\n",
       "      <td>/15636/image/NMAAHC-007675740_00019.jpg</td>\n",
       "      <td>1</td>\n",
       "      <td>Disbursements on account of Colored Schools Ja...</td>\n",
       "      <td>/15636/transcriptions/NMAAHC-007675740_00019.txt</td>\n",
       "      <td>\\N</td>\n",
       "      <td>\\N</td>\n",
       "      <td>15636</td>\n",
       "      <td>Records - Education</td>\n",
       "      <td>NaN</td>\n",
       "      <td>NaN</td>\n",
       "    </tr>\n",
       "    <tr>\n",
       "      <th>3</th>\n",
       "      <td>NMAAHC-007675740_00020</td>\n",
       "      <td>Complete</td>\n",
       "      <td>https://transcription.si.edu/transcribe/15636/...</td>\n",
       "      <td>image</td>\n",
       "      <td>https://ids.si.edu/ids/deliveryService?max_w=&amp;...</td>\n",
       "      <td>/15636/image/NMAAHC-007675740_00020.jpg</td>\n",
       "      <td>1</td>\n",
       "      <td>School Expenses for Month of February /67</td>\n",
       "      <td>/15636/transcriptions/NMAAHC-007675740_00020.txt</td>\n",
       "      <td>\\N</td>\n",
       "      <td>\\N</td>\n",
       "      <td>15636</td>\n",
       "      <td>Records - Education</td>\n",
       "      <td>NaN</td>\n",
       "      <td>NaN</td>\n",
       "    </tr>\n",
       "    <tr>\n",
       "      <th>4</th>\n",
       "      <td>NMAAHC-007675740_00021</td>\n",
       "      <td>Complete</td>\n",
       "      <td>https://transcription.si.edu/transcribe/15636/...</td>\n",
       "      <td>image</td>\n",
       "      <td>https://ids.si.edu/ids/deliveryService?max_w=&amp;...</td>\n",
       "      <td>/15636/image/NMAAHC-007675740_00021.jpg</td>\n",
       "      <td>1</td>\n",
       "      <td>James F. Carlen &amp; Co. 5 keys, Nails, School Ho...</td>\n",
       "      <td>/15636/transcriptions/NMAAHC-007675740_00021.txt</td>\n",
       "      <td>\\N</td>\n",
       "      <td>\\N</td>\n",
       "      <td>15636</td>\n",
       "      <td>Records - Education</td>\n",
       "      <td>NaN</td>\n",
       "      <td>NaN</td>\n",
       "    </tr>\n",
       "  </tbody>\n",
       "</table>\n",
       "</div>"
      ],
      "text/plain": [
       "              document_id    status  \\\n",
       "0  NMAAHC-007675740_00017  Complete   \n",
       "1  NMAAHC-007675740_00018  Complete   \n",
       "2  NMAAHC-007675740_00019  Complete   \n",
       "3  NMAAHC-007675740_00020  Complete   \n",
       "4  NMAAHC-007675740_00021  Complete   \n",
       "\n",
       "                                        document_url media_type  \\\n",
       "0  https://transcription.si.edu/transcribe/15636/...      image   \n",
       "1  https://transcription.si.edu/transcribe/15636/...      image   \n",
       "2  https://transcription.si.edu/transcribe/15636/...      image   \n",
       "3  https://transcription.si.edu/transcribe/15636/...      image   \n",
       "4  https://transcription.si.edu/transcribe/15636/...      image   \n",
       "\n",
       "                                          media_link  \\\n",
       "0  https://ids.si.edu/ids/deliveryService?max_w=&...   \n",
       "1  https://ids.si.edu/ids/deliveryService?max_w=&...   \n",
       "2  https://ids.si.edu/ids/deliveryService?max_w=&...   \n",
       "3  https://ids.si.edu/ids/deliveryService?max_w=&...   \n",
       "4  https://ids.si.edu/ids/deliveryService?max_w=&...   \n",
       "\n",
       "                       relative_media_path  is_media_downloaded  \\\n",
       "0  /15636/image/NMAAHC-007675740_00017.jpg                    1   \n",
       "1  /15636/image/NMAAHC-007675740_00018.jpg                    1   \n",
       "2  /15636/image/NMAAHC-007675740_00019.jpg                    1   \n",
       "3  /15636/image/NMAAHC-007675740_00020.jpg                    1   \n",
       "4  /15636/image/NMAAHC-007675740_00021.jpg                    1   \n",
       "\n",
       "                                  transcription_text  \\\n",
       "0  Abstract of Disbursements on a/c of Schools.\\r...   \n",
       "1  Disbursments on account of Colored Schools for...   \n",
       "2  Disbursements on account of Colored Schools Ja...   \n",
       "3          School Expenses for Month of February /67   \n",
       "4  James F. Carlen & Co. 5 keys, Nails, School Ho...   \n",
       "\n",
       "                   transcription_text_relative_path from_time to_time  \\\n",
       "0  /15636/transcriptions/NMAAHC-007675740_00017.txt        \\N      \\N   \n",
       "1  /15636/transcriptions/NMAAHC-007675740_00018.txt        \\N      \\N   \n",
       "2  /15636/transcriptions/NMAAHC-007675740_00019.txt        \\N      \\N   \n",
       "3  /15636/transcriptions/NMAAHC-007675740_00020.txt        \\N      \\N   \n",
       "4  /15636/transcriptions/NMAAHC-007675740_00021.txt        \\N      \\N   \n",
       "\n",
       "   project_id             Category  Unnamed: 13  Unnamed: 14  \n",
       "0       15636  Records - Education          NaN          NaN  \n",
       "1       15636  Records - Education          NaN          NaN  \n",
       "2       15636  Records - Education          NaN          NaN  \n",
       "3       15636  Records - Education          NaN          NaN  \n",
       "4       15636  Records - Education          NaN          NaN  "
      ]
     },
     "execution_count": 3,
     "metadata": {},
     "output_type": "execute_result"
    }
   ],
   "source": [
    "recordE.head()"
   ]
  },
  {
   "cell_type": "code",
   "execution_count": 4,
   "id": "7b93e9e3",
   "metadata": {
    "execution": {
     "iopub.execute_input": "2022-06-27T19:21:36.244245Z",
     "iopub.status.busy": "2022-06-27T19:21:36.243985Z",
     "iopub.status.idle": "2022-06-27T19:21:36.250415Z",
     "shell.execute_reply": "2022-06-27T19:21:36.249486Z"
    },
    "papermill": {
     "duration": 0.019638,
     "end_time": "2022-06-27T19:21:36.252813",
     "exception": false,
     "start_time": "2022-06-27T19:21:36.233175",
     "status": "completed"
    },
    "tags": []
   },
   "outputs": [
    {
     "data": {
      "text/plain": [
       "(13487, 15)"
      ]
     },
     "execution_count": 4,
     "metadata": {},
     "output_type": "execute_result"
    }
   ],
   "source": [
    "recordE.shape"
   ]
  },
  {
   "cell_type": "code",
   "execution_count": 5,
   "id": "e8505d51",
   "metadata": {
    "execution": {
     "iopub.execute_input": "2022-06-27T19:21:36.274970Z",
     "iopub.status.busy": "2022-06-27T19:21:36.274395Z",
     "iopub.status.idle": "2022-06-27T19:21:36.281869Z",
     "shell.execute_reply": "2022-06-27T19:21:36.281070Z"
    },
    "papermill": {
     "duration": 0.02076,
     "end_time": "2022-06-27T19:21:36.283730",
     "exception": false,
     "start_time": "2022-06-27T19:21:36.262970",
     "status": "completed"
    },
    "tags": []
   },
   "outputs": [],
   "source": [
    "recordE_text=recordE[\"transcription_text\"]"
   ]
  },
  {
   "cell_type": "code",
   "execution_count": 6,
   "id": "24fd9f27",
   "metadata": {
    "_kg_hide-output": true,
    "execution": {
     "iopub.execute_input": "2022-06-27T19:21:36.305902Z",
     "iopub.status.busy": "2022-06-27T19:21:36.304843Z",
     "iopub.status.idle": "2022-06-27T19:21:36.310007Z",
     "shell.execute_reply": "2022-06-27T19:21:36.309017Z"
    },
    "papermill": {
     "duration": 0.019215,
     "end_time": "2022-06-27T19:21:36.313217",
     "exception": false,
     "start_time": "2022-06-27T19:21:36.294002",
     "status": "completed"
    },
    "tags": []
   },
   "outputs": [
    {
     "name": "stdout",
     "output_type": "stream",
     "text": [
      "Abstract of Disbursements on a/c of Schools.\r\n",
      "From Jany/67 to July, 1868.\n"
     ]
    }
   ],
   "source": [
    "print(recordE_text[0])"
   ]
  },
  {
   "cell_type": "code",
   "execution_count": 7,
   "id": "851d8f5e",
   "metadata": {
    "_kg_hide-output": true,
    "execution": {
     "iopub.execute_input": "2022-06-27T19:21:36.336839Z",
     "iopub.status.busy": "2022-06-27T19:21:36.336596Z",
     "iopub.status.idle": "2022-06-27T19:21:36.342698Z",
     "shell.execute_reply": "2022-06-27T19:21:36.341171Z"
    },
    "papermill": {
     "duration": 0.020081,
     "end_time": "2022-06-27T19:21:36.344679",
     "exception": false,
     "start_time": "2022-06-27T19:21:36.324598",
     "status": "completed"
    },
    "tags": []
   },
   "outputs": [
    {
     "name": "stdout",
     "output_type": "stream",
     "text": [
      "Paid in April on Acct of Schools.\r\n",
      "\r\n",
      "[[2 column table - No headings]]\r\n",
      "Thomas Evans 22nd and I Sts (repairs of Water Pipes) | 6?.05 |\r\n",
      "\r\n",
      "Philip Brown. 17the and I [[ditto for Sts (repairs]] do of Roofs | 5.00 |\r\n",
      "\r\n",
      "Uhlinger.(Phil.d) School Desks | 260.40 |\r\n",
      "\r\n",
      "A Bowen  Rent | 6.00 |\r\n",
      "\r\n",
      "School. Cambridge Park Map. | 180.64 |\r\n",
      "\r\n",
      "Fencing 7th ave Boundary | 13.38 |\r\n",
      "\r\n",
      "School Martinsburg Va. | 5.00 |\r\n",
      "\r\n",
      "[[ditto for School]] Shepherdstown Va. | 3.00 |\r\n",
      "[[ditto for School]] Charlestown Va. | 5.00|\r\n",
      "\r\n",
      "Wallace Building Boundary St | 60.00 |\r\n",
      "\r\n",
      "John Kimball Supt. Schools | 146.67 |\r\n",
      "\r\n",
      "R Young 17th and O | 15.00 |\r\n",
      "\r\n",
      "[[tally line]]\r\n",
      "[[underlined]] $769.14 [/underlined]]\r\n",
      "\r\n",
      "\r\n",
      "\r\n",
      "\n"
     ]
    }
   ],
   "source": [
    "print(recordE_text[10])"
   ]
  },
  {
   "cell_type": "code",
   "execution_count": 8,
   "id": "28fd8f31",
   "metadata": {
    "_kg_hide-output": true,
    "execution": {
     "iopub.execute_input": "2022-06-27T19:21:36.367094Z",
     "iopub.status.busy": "2022-06-27T19:21:36.365775Z",
     "iopub.status.idle": "2022-06-27T19:21:36.372669Z",
     "shell.execute_reply": "2022-06-27T19:21:36.370719Z"
    },
    "papermill": {
     "duration": 0.019989,
     "end_time": "2022-06-27T19:21:36.374740",
     "exception": false,
     "start_time": "2022-06-27T19:21:36.354751",
     "status": "completed"
    },
    "tags": []
   },
   "outputs": [
    {
     "name": "stdout",
     "output_type": "stream",
     "text": [
      "[[preprinted]] 138 [[/preprinted]]\r\n",
      "\r\n",
      "Denton Md. School House (continued from Page 74)\r\n",
      "\r\n",
      "[[table 4 columns]]\r\n",
      "[[Date | Item | Unit Price | Total]]\r\n",
      "\r\n",
      "1867 | Per amount bro't forward |  | 524.90\r\n",
      " \r\n",
      "  | Per bill of Chappell & Leary |  | \r\n",
      "Nov 27\" | For 35 Galls. Linseed Oil @ $1.25 | 43.75 | \r\n",
      "  | 1 Gall. Turpentine | 1.37 | \r\n",
      "  | 150 lbs Brandon Red @ .5 | 7.50 | \r\n",
      "  | 75 lbs Brandon Yellow @ .5 | 3.75 | \r\n",
      "  | 100 lbs N.Y. Lead | 12.00 | \r\n",
      "  | 15 lbs Chrome Green (oil) @ .30 | 4.50 | \r\n",
      "  | 8 lbs Litharge @ 18 | 1.44 | \r\n",
      "  | 1 lb Lampblack | .12 | \r\n",
      "  | 8 lbs Putty @ .7 | .56 | 74.99\r\n",
      " \r\n",
      "  | Per bill of Millard F. Baker |  | \r\n",
      "Oct 29\" | Services as Carpenter from Oct 1\" to 28\"/67 being 24 3/4 days @ $1.75 per day | 43.31 | 43.31\r\n",
      "\r\n",
      "  | Per bill of J. Smith |  | \r\n",
      "Oct 29 | Services as Laborer from Oct 1\" to 5\"/67 being 4 days @ $1.50 per day | 6.00 | 6.00\r\n",
      "\r\n",
      "  | Per bill of Wm. H. Baker |  | \r\n",
      "Oct 29\" | For services as Carpenter from Oct 1\" to 28\"/67 being 19 1/4 days @ $2.30 per day | 44.28 | 44.28\r\n",
      "\r\n",
      "  | Per bill of Robert Dill |  | \r\n",
      "Oct 29\" | Services as Carpenter from Oct 1\" to 10\"/67 being 7 days @ $2.50 per day | 17.50 | 17.50\r\n",
      "\r\n",
      "  | Per bill of Thomas White |  | \r\n",
      "Oct 29\" | For services rendered in hauling build'g materials Oct 5\" 67 being 20 loads @ 15¢ per load | 3.00 | 3.00\r\n",
      "\r\n",
      "  | Per bill of Nelson Allen |  | \r\n",
      "Oct 29\" | For services as Mason from Oct 1\" to 5\"/67 being 3 days @ 2.25 per day | 6.75 | 6.75\r\n",
      "\r\n",
      "  | Per bill of Thomas P. Davis |  | \r\n",
      "Oct 29\" | For services as Carpenter from Oct 1\" to 10\"/67 being 6 3/4 days @ 2.50 per day | 16.88 | 16.88\r\n",
      "\r\n",
      "  | Per bill of Millard F. Baker |  | \r\n",
      "Nov 30\" | For services as Carpenter from Nov. 1\" to 30\"/67 being 30 days @ $1.75 per day | 52.50 | 52.50\r\n",
      "\r\n",
      "  | Carried forward | 190.22 | $790.11\r\n",
      "\r\n",
      "[[end page]]\r\n",
      "[[start page]]\r\n",
      "\r\n",
      "[[preprinted]] 139 [[/preprinted]]\r\n",
      "\r\n",
      "Denton (cont'd)\r\n",
      "\r\n",
      "[[table 4 columns]]\r\n",
      "[[Date | Item | Unit Price | Total]]\r\n",
      "\r\n",
      "  | Bro't forward |  | 790.11\r\n",
      "\r\n",
      "[[strikethrough]]\r\n",
      "Nov 30\" | Per receipt Roll of Capt Wright Disb'g. Officer. |  | \r\n",
      "  | Thos. W. Handy services as Carpenter Nov 1\" to 30\" 1867 being 26 days @ 3.00 per day | 78.00 | \r\n",
      "  | Newton Andrew services as Carpenter Nov. 1\" to 30\" 67 being 21 days @ 2.00 per day | 42.00 | \r\n",
      "  | Robt. H. Hutchinson services as Carpenter Nov 1\" to 30\" 1867 being 26 days @ $1.50 per day | 39.00 | $159.00\r\n",
      "[[/strikethrough]]  See Page 98\r\n",
      "\r\n",
      "1867 | Per bill of French Madden |  |\r\n",
      "Dec 23\" | 1 Teachers Desk delivered | 5.00 | \r\n",
      "  | 40 School Desks delivered @ $3.78 1/8 | 151.25 |\r\n",
      "  | 4 Seats @ 2.00 | 8.00 | 164.25\r\n",
      "\r\n",
      "  |  |  | 954.36\r\n",
      "\r\n",
      "\n"
     ]
    }
   ],
   "source": [
    "print(recordE_text[100])"
   ]
  },
  {
   "cell_type": "code",
   "execution_count": 9,
   "id": "550bc4e1",
   "metadata": {
    "_kg_hide-output": true,
    "execution": {
     "iopub.execute_input": "2022-06-27T19:21:36.398090Z",
     "iopub.status.busy": "2022-06-27T19:21:36.396575Z",
     "iopub.status.idle": "2022-06-27T19:21:36.403738Z",
     "shell.execute_reply": "2022-06-27T19:21:36.402908Z"
    },
    "papermill": {
     "duration": 0.020512,
     "end_time": "2022-06-27T19:21:36.405672",
     "exception": false,
     "start_time": "2022-06-27T19:21:36.385160",
     "status": "completed"
    },
    "tags": []
   },
   "outputs": [
    {
     "name": "stdout",
     "output_type": "stream",
     "text": [
      "Feb 67\r\n",
      "School Report\r\n",
      "of James P. Butter L.A.C.\r\n",
      "\r\n",
      "County of Walker\r\n",
      "\r\n",
      "For the Month of November 1867\r\n",
      "\r\n",
      "Forwarded November 31st 1867\r\n",
      "Received O.S Dec 8th 1867\n"
     ]
    }
   ],
   "source": [
    "print(recordE_text[5000])"
   ]
  },
  {
   "cell_type": "code",
   "execution_count": 10,
   "id": "0ff6638b",
   "metadata": {
    "_kg_hide-output": true,
    "execution": {
     "iopub.execute_input": "2022-06-27T19:21:36.427594Z",
     "iopub.status.busy": "2022-06-27T19:21:36.427318Z",
     "iopub.status.idle": "2022-06-27T19:21:36.431778Z",
     "shell.execute_reply": "2022-06-27T19:21:36.430885Z"
    },
    "papermill": {
     "duration": 0.017971,
     "end_time": "2022-06-27T19:21:36.433950",
     "exception": false,
     "start_time": "2022-06-27T19:21:36.415979",
     "status": "completed"
    },
    "tags": []
   },
   "outputs": [
    {
     "name": "stdout",
     "output_type": "stream",
     "text": [
      "1. Amount of Tuition paid during the month, \r\n",
      "$3.50/100. d\r\n",
      "\r\n",
      "2. Remarks. Every thing in Our Schools, are progressive, and encourageing.\n"
     ]
    }
   ],
   "source": [
    "print(recordE_text[7000])"
   ]
  },
  {
   "cell_type": "code",
   "execution_count": 11,
   "id": "b12a5f56",
   "metadata": {
    "execution": {
     "iopub.execute_input": "2022-06-27T19:21:36.455866Z",
     "iopub.status.busy": "2022-06-27T19:21:36.455622Z",
     "iopub.status.idle": "2022-06-27T19:21:36.460111Z",
     "shell.execute_reply": "2022-06-27T19:21:36.459198Z"
    },
    "papermill": {
     "duration": 0.018411,
     "end_time": "2022-06-27T19:21:36.462701",
     "exception": false,
     "start_time": "2022-06-27T19:21:36.444290",
     "status": "completed"
    },
    "tags": []
   },
   "outputs": [
    {
     "name": "stdout",
     "output_type": "stream",
     "text": [
      "Parish of Assumptions\r\n",
      "This Parish is divided into 20 School districts one of which is deemed unworth of a school. There an therefore but 19.\r\n",
      "\r\n",
      "School No 1.\r\n",
      "Miss Mary Newman  Teacher\r\n",
      "This school is located on the plantation of Elie Landry in the neighborhood of Labadieville & near the lower side of the parish. on the Right Bank of Bay on Lafourche. In this district there are about 60 children between the age of 5 & 14 yrs. about 50 only attend the school.\r\n",
      "\r\n",
      "50 children\r\n",
      "\r\n",
      "Schools Nos 2 & 3 Have not as yet been opened. There are in the two districts between the age of 5 & 14\r\n",
      "\r\n",
      "120 Cold. children\r\n",
      "\r\n",
      "See Remarks acc Report.\r\n",
      "229-1000\n"
     ]
    }
   ],
   "source": [
    "print(recordE_text[10000])"
   ]
  },
  {
   "cell_type": "code",
   "execution_count": 12,
   "id": "02320a93",
   "metadata": {
    "execution": {
     "iopub.execute_input": "2022-06-27T19:21:36.484869Z",
     "iopub.status.busy": "2022-06-27T19:21:36.484632Z",
     "iopub.status.idle": "2022-06-27T19:21:36.489022Z",
     "shell.execute_reply": "2022-06-27T19:21:36.488142Z"
    },
    "papermill": {
     "duration": 0.018664,
     "end_time": "2022-06-27T19:21:36.491796",
     "exception": false,
     "start_time": "2022-06-27T19:21:36.473132",
     "status": "completed"
    },
    "tags": []
   },
   "outputs": [
    {
     "name": "stdout",
     "output_type": "stream",
     "text": [
      "April 2nd\r\n",
      "Mrs. Amelia Hirscheimer\r\n",
      "You are appointed Teacher in the School No [[1?]] Parish of Ascension.\r\n",
      "You will commence your duties immediately.\r\n",
      "E M Wheelock\r\n",
      "Lieut & Secty\r\n",
      "\r\n",
      "\r\n",
      "\r\n",
      "April 3rd\r\n",
      "Miss Mattie M. Fitts\r\n",
      "You are appointed assistant in School No [[12?]] City of New Orleans.\r\n",
      "You will commence your duties without delay.\r\n",
      "E M Wheelock\r\n",
      "Lieut & Secty.\r\n",
      "\r\n",
      "5\n"
     ]
    }
   ],
   "source": [
    "print(recordE_text[13000])"
   ]
  },
  {
   "cell_type": "code",
   "execution_count": 13,
   "id": "1a1b32ae",
   "metadata": {
    "execution": {
     "iopub.execute_input": "2022-06-27T19:21:36.514829Z",
     "iopub.status.busy": "2022-06-27T19:21:36.514589Z",
     "iopub.status.idle": "2022-06-27T19:22:24.828642Z",
     "shell.execute_reply": "2022-06-27T19:22:24.827431Z"
    },
    "papermill": {
     "duration": 48.327623,
     "end_time": "2022-06-27T19:22:24.830824",
     "exception": false,
     "start_time": "2022-06-27T19:21:36.503201",
     "status": "completed"
    },
    "tags": []
   },
   "outputs": [
    {
     "name": "stderr",
     "output_type": "stream",
     "text": [
      "100%|██████████| 13487/13487 [00:42<00:00, 314.67it/s]\n",
      "100%|██████████| 13487/13487 [00:05<00:00, 2484.59it/s]\n"
     ]
    }
   ],
   "source": [
    "stop_words = set(stopwords.words('english'))\n",
    "punctuation = string.punctuation\n",
    "stemmer = SnowballStemmer(language=\"english\")\n",
    "lemmatizer = WordNetLemmatizer()\n",
    "stop_words.remove(\"of\")\n",
    "punct='!\"#$%&\\'()*+-/<=>?@[\\\\]^_`{|}~'\n",
    "def process(s):\n",
    "    s= re.sub(\"([\\[]).*?([\\]])\",\" \",s)\n",
    "    for p in punct:\n",
    "        s = s.replace(p, '')\n",
    "    s = word_tokenize(s)\n",
    "    s = [w for w in s if not w in stop_words] #optional\n",
    "    return s\n",
    "for i in tqdm(range(len(recordE_text))):\n",
    "    recordE_text[i] = process(recordE_text[i])\n",
    "for i in tqdm(range(len(recordE_text))):\n",
    "    recordE_text[i] = \" \".join(recordE_text[i])"
   ]
  },
  {
   "cell_type": "code",
   "execution_count": 14,
   "id": "cb8264b7",
   "metadata": {
    "execution": {
     "iopub.execute_input": "2022-06-27T19:22:24.905250Z",
     "iopub.status.busy": "2022-06-27T19:22:24.904966Z",
     "iopub.status.idle": "2022-06-27T19:22:24.913577Z",
     "shell.execute_reply": "2022-06-27T19:22:24.911548Z"
    },
    "papermill": {
     "duration": 0.047918,
     "end_time": "2022-06-27T19:22:24.915450",
     "exception": false,
     "start_time": "2022-06-27T19:22:24.867532",
     "status": "completed"
    },
    "tags": []
   },
   "outputs": [
    {
     "data": {
      "text/plain": [
       "0        Abstract of Disbursements ac of Schools . From...\n",
       "1        Disbursments account of Colored Schools month ...\n",
       "2        Disbursements account of Colored Schools Jan. ...\n",
       "3                     School Expenses Month of February 67\n",
       "4        James F. Carlen Co. 5 keys , Nails , School Ho...\n",
       "                               ...                        \n",
       "13482    SubAssistant Commissioners Agents Monthly Repo...\n",
       "13483    Educational . WARRENTON FEMALE COLLEGE , WARRE...\n",
       "13484    G , JANUARY 29 , 186 Educational . WARRENTON F...\n",
       "13485    Painting water colors , 10.00 Drawing , Embroi...\n",
       "13486    THE NATIONAL ARCHIVES OF THE UNITED STATES War...\n",
       "Name: transcription_text, Length: 13487, dtype: object"
      ]
     },
     "execution_count": 14,
     "metadata": {},
     "output_type": "execute_result"
    }
   ],
   "source": [
    "recordE_text"
   ]
  },
  {
   "cell_type": "code",
   "execution_count": 15,
   "id": "19b14d2d",
   "metadata": {
    "_kg_hide-output": true,
    "execution": {
     "iopub.execute_input": "2022-06-27T19:22:24.988629Z",
     "iopub.status.busy": "2022-06-27T19:22:24.987989Z",
     "iopub.status.idle": "2022-06-27T19:22:24.993779Z",
     "shell.execute_reply": "2022-06-27T19:22:24.992861Z"
    },
    "papermill": {
     "duration": 0.044346,
     "end_time": "2022-06-27T19:22:24.995649",
     "exception": false,
     "start_time": "2022-06-27T19:22:24.951303",
     "status": "completed"
    },
    "tags": []
   },
   "outputs": [
    {
     "data": {
      "text/plain": [
       "'1 . Amount of Tuition paid month , 3.50100. 2 . Remarks . Every thing Our Schools , progressive , encourageing .'"
      ]
     },
     "execution_count": 15,
     "metadata": {},
     "output_type": "execute_result"
    }
   ],
   "source": [
    "recordE_text[7000]"
   ]
  },
  {
   "cell_type": "code",
   "execution_count": 16,
   "id": "2ca2cac8",
   "metadata": {
    "_kg_hide-output": true,
    "collapsed": true,
    "execution": {
     "iopub.execute_input": "2022-06-27T19:22:25.070798Z",
     "iopub.status.busy": "2022-06-27T19:22:25.069308Z",
     "iopub.status.idle": "2022-06-27T19:23:27.148036Z",
     "shell.execute_reply": "2022-06-27T19:23:27.146914Z"
    },
    "jupyter": {
     "outputs_hidden": true
    },
    "papermill": {
     "duration": 62.118729,
     "end_time": "2022-06-27T19:23:27.150576",
     "exception": false,
     "start_time": "2022-06-27T19:22:25.031847",
     "status": "completed"
    },
    "tags": []
   },
   "outputs": [
    {
     "name": "stdout",
     "output_type": "stream",
     "text": [
      "Requirement already satisfied: Cython in /opt/conda/lib/python3.7/site-packages (0.29.30)\r\n",
      "\u001b[33mWARNING: Running pip as the 'root' user can result in broken permissions and conflicting behaviour with the system package manager. It is recommended to use a virtual environment instead: https://pip.pypa.io/warnings/venv\u001b[0m\u001b[33m\r\n",
      "\u001b[0mRequirement already satisfied: transformers in /opt/conda/lib/python3.7/site-packages (4.18.0)\r\n",
      "Requirement already satisfied: pyyaml>=5.1 in /opt/conda/lib/python3.7/site-packages (from transformers) (6.0)\r\n",
      "Requirement already satisfied: tqdm>=4.27 in /opt/conda/lib/python3.7/site-packages (from transformers) (4.64.0)\r\n",
      "Requirement already satisfied: tokenizers!=0.11.3,<0.13,>=0.11.1 in /opt/conda/lib/python3.7/site-packages (from transformers) (0.12.1)\r\n",
      "Requirement already satisfied: huggingface-hub<1.0,>=0.1.0 in /opt/conda/lib/python3.7/site-packages (from transformers) (0.7.0)\r\n",
      "Requirement already satisfied: sacremoses in /opt/conda/lib/python3.7/site-packages (from transformers) (0.0.53)\r\n",
      "Requirement already satisfied: requests in /opt/conda/lib/python3.7/site-packages (from transformers) (2.27.1)\r\n",
      "Requirement already satisfied: filelock in /opt/conda/lib/python3.7/site-packages (from transformers) (3.6.0)\r\n",
      "Requirement already satisfied: regex!=2019.12.17 in /opt/conda/lib/python3.7/site-packages (from transformers) (2021.11.10)\r\n",
      "Requirement already satisfied: packaging>=20.0 in /opt/conda/lib/python3.7/site-packages (from transformers) (21.3)\r\n",
      "Requirement already satisfied: numpy>=1.17 in /opt/conda/lib/python3.7/site-packages (from transformers) (1.21.6)\r\n",
      "Requirement already satisfied: importlib-metadata in /opt/conda/lib/python3.7/site-packages (from transformers) (4.11.4)\r\n",
      "Requirement already satisfied: typing-extensions>=3.7.4.3 in /opt/conda/lib/python3.7/site-packages (from huggingface-hub<1.0,>=0.1.0->transformers) (4.1.1)\r\n",
      "Requirement already satisfied: pyparsing!=3.0.5,>=2.0.2 in /opt/conda/lib/python3.7/site-packages (from packaging>=20.0->transformers) (3.0.9)\r\n",
      "Requirement already satisfied: zipp>=0.5 in /opt/conda/lib/python3.7/site-packages (from importlib-metadata->transformers) (3.8.0)\r\n",
      "Requirement already satisfied: charset-normalizer~=2.0.0 in /opt/conda/lib/python3.7/site-packages (from requests->transformers) (2.0.12)\r\n",
      "Requirement already satisfied: idna<4,>=2.5 in /opt/conda/lib/python3.7/site-packages (from requests->transformers) (3.3)\r\n",
      "Requirement already satisfied: certifi>=2017.4.17 in /opt/conda/lib/python3.7/site-packages (from requests->transformers) (2022.6.15)\r\n",
      "Requirement already satisfied: urllib3<1.27,>=1.21.1 in /opt/conda/lib/python3.7/site-packages (from requests->transformers) (1.26.9)\r\n",
      "Requirement already satisfied: six in /opt/conda/lib/python3.7/site-packages (from sacremoses->transformers) (1.16.0)\r\n",
      "Requirement already satisfied: click in /opt/conda/lib/python3.7/site-packages (from sacremoses->transformers) (8.0.4)\r\n",
      "Requirement already satisfied: joblib in /opt/conda/lib/python3.7/site-packages (from sacremoses->transformers) (1.1.0)\r\n",
      "\u001b[33mWARNING: Running pip as the 'root' user can result in broken permissions and conflicting behaviour with the system package manager. It is recommended to use a virtual environment instead: https://pip.pypa.io/warnings/venv\u001b[0m\u001b[33m\r\n",
      "\u001b[0mCollecting flair\r\n",
      "  Downloading flair-0.11.3-py3-none-any.whl (401 kB)\r\n",
      "\u001b[2K     \u001b[90m━━━━━━━━━━━━━━━━━━━━━━━━━━━━━━━━━━━━━━━\u001b[0m \u001b[32m401.9/401.9 kB\u001b[0m \u001b[31m1.3 MB/s\u001b[0m eta \u001b[36m0:00:00\u001b[0m\r\n",
      "\u001b[?25hCollecting conllu>=4.0\r\n",
      "  Downloading conllu-4.4.2-py2.py3-none-any.whl (15 kB)\r\n",
      "Collecting konoha<5.0.0,>=4.0.0\r\n",
      "  Downloading konoha-4.6.5-py3-none-any.whl (20 kB)\r\n",
      "Collecting ftfy\r\n",
      "  Downloading ftfy-6.1.1-py3-none-any.whl (53 kB)\r\n",
      "\u001b[2K     \u001b[90m━━━━━━━━━━━━━━━━━━━━━━━━━━━━━━━━━━━━━━━━\u001b[0m \u001b[32m53.1/53.1 kB\u001b[0m \u001b[31m4.9 MB/s\u001b[0m eta \u001b[36m0:00:00\u001b[0m\r\n",
      "\u001b[?25hRequirement already satisfied: python-dateutil>=2.6.1 in /opt/conda/lib/python3.7/site-packages (from flair) (2.8.2)\r\n",
      "Requirement already satisfied: transformers>=4.0.0 in /opt/conda/lib/python3.7/site-packages (from flair) (4.18.0)\r\n",
      "Requirement already satisfied: torch!=1.8,>=1.5.0 in /opt/conda/lib/python3.7/site-packages (from flair) (1.11.0)\r\n",
      "Collecting deprecated>=1.2.4\r\n",
      "  Downloading Deprecated-1.2.13-py2.py3-none-any.whl (9.6 kB)\r\n",
      "Requirement already satisfied: tqdm>=4.26.0 in /opt/conda/lib/python3.7/site-packages (from flair) (4.64.0)\r\n",
      "Requirement already satisfied: gensim>=3.4.0 in /opt/conda/lib/python3.7/site-packages (from flair) (4.0.1)\r\n",
      "Collecting pptree\r\n",
      "  Downloading pptree-3.1.tar.gz (3.0 kB)\r\n",
      "  Preparing metadata (setup.py) ... \u001b[?25l-\b \bdone\r\n",
      "\u001b[?25hRequirement already satisfied: scikit-learn>=0.21.3 in /opt/conda/lib/python3.7/site-packages (from flair) (1.0.2)\r\n",
      "Collecting wikipedia-api\r\n",
      "  Downloading Wikipedia-API-0.5.4.tar.gz (18 kB)\r\n",
      "  Preparing metadata (setup.py) ... \u001b[?25l-\b \bdone\r\n",
      "\u001b[?25hCollecting sqlitedict>=1.6.0\r\n",
      "  Downloading sqlitedict-2.0.0.tar.gz (46 kB)\r\n",
      "\u001b[2K     \u001b[90m━━━━━━━━━━━━━━━━━━━━━━━━━━━━━━━━━━━━━━━━\u001b[0m \u001b[32m46.3/46.3 kB\u001b[0m \u001b[31m2.3 MB/s\u001b[0m eta \u001b[36m0:00:00\u001b[0m\r\n",
      "\u001b[?25h  Preparing metadata (setup.py) ... \u001b[?25l-\b \bdone\r\n",
      "\u001b[?25hCollecting bpemb>=0.3.2\r\n",
      "  Downloading bpemb-0.3.3-py3-none-any.whl (19 kB)\r\n",
      "Requirement already satisfied: huggingface-hub in /opt/conda/lib/python3.7/site-packages (from flair) (0.7.0)\r\n",
      "Requirement already satisfied: hyperopt>=0.2.7 in /opt/conda/lib/python3.7/site-packages (from flair) (0.2.7)\r\n",
      "Requirement already satisfied: tabulate in /opt/conda/lib/python3.7/site-packages (from flair) (0.8.9)\r\n",
      "Collecting segtok>=1.5.7\r\n",
      "  Downloading segtok-1.5.11-py3-none-any.whl (24 kB)\r\n",
      "Collecting sentencepiece==0.1.95\r\n",
      "  Downloading sentencepiece-0.1.95-cp37-cp37m-manylinux2014_x86_64.whl (1.2 MB)\r\n",
      "\u001b[2K     \u001b[90m━━━━━━━━━━━━━━━━━━━━━━━━━━━━━━━━━━━━━━━━\u001b[0m \u001b[32m1.2/1.2 MB\u001b[0m \u001b[31m8.3 MB/s\u001b[0m eta \u001b[36m0:00:00\u001b[0m\r\n",
      "\u001b[?25hRequirement already satisfied: janome in /opt/conda/lib/python3.7/site-packages (from flair) (0.4.2)\r\n",
      "Requirement already satisfied: matplotlib>=2.2.3 in /opt/conda/lib/python3.7/site-packages (from flair) (3.5.2)\r\n",
      "Requirement already satisfied: lxml in /opt/conda/lib/python3.7/site-packages (from flair) (4.9.0)\r\n",
      "Collecting langdetect\r\n",
      "  Downloading langdetect-1.0.9.tar.gz (981 kB)\r\n",
      "\u001b[2K     \u001b[90m━━━━━━━━━━━━━━━━━━━━━━━━━━━━━━━━━━━━━━\u001b[0m \u001b[32m981.5/981.5 kB\u001b[0m \u001b[31m26.3 MB/s\u001b[0m eta \u001b[36m0:00:00\u001b[0m\r\n",
      "\u001b[?25h  Preparing metadata (setup.py) ... \u001b[?25l-\b \bdone\r\n",
      "\u001b[?25hCollecting mpld3==0.3\r\n",
      "  Downloading mpld3-0.3.tar.gz (788 kB)\r\n",
      "\u001b[2K     \u001b[90m━━━━━━━━━━━━━━━━━━━━━━━━━━━━━━━━━━━━━━\u001b[0m \u001b[32m788.5/788.5 kB\u001b[0m \u001b[31m30.9 MB/s\u001b[0m eta \u001b[36m0:00:00\u001b[0m\r\n",
      "\u001b[?25h  Preparing metadata (setup.py) ... \u001b[?25l-\b \bdone\r\n",
      "\u001b[?25hCollecting gdown==4.4.0\r\n",
      "  Downloading gdown-4.4.0.tar.gz (14 kB)\r\n",
      "  Installing build dependencies ... \u001b[?25l-\b \b\\\b \b|\b \b/\b \b-\b \b\\\b \bdone\r\n",
      "\u001b[?25h  Getting requirements to build wheel ... \u001b[?25l-\b \b\\\b \b|\b \b/\b \b-\b \bdone\r\n",
      "\u001b[?25h  Preparing metadata (pyproject.toml) ... \u001b[?25l-\b \b\\\b \b|\b \b/\b \b-\b \bdone\r\n",
      "\u001b[?25hRequirement already satisfied: more-itertools in /opt/conda/lib/python3.7/site-packages (from flair) (8.13.0)\r\n",
      "Requirement already satisfied: regex in /opt/conda/lib/python3.7/site-packages (from flair) (2021.11.10)\r\n",
      "Requirement already satisfied: requests[socks] in /opt/conda/lib/python3.7/site-packages (from gdown==4.4.0->flair) (2.27.1)\r\n",
      "Requirement already satisfied: beautifulsoup4 in /opt/conda/lib/python3.7/site-packages (from gdown==4.4.0->flair) (4.11.1)\r\n",
      "Requirement already satisfied: filelock in /opt/conda/lib/python3.7/site-packages (from gdown==4.4.0->flair) (3.6.0)\r\n",
      "Requirement already satisfied: six in /opt/conda/lib/python3.7/site-packages (from gdown==4.4.0->flair) (1.16.0)\r\n",
      "Requirement already satisfied: numpy in /opt/conda/lib/python3.7/site-packages (from bpemb>=0.3.2->flair) (1.21.6)\r\n",
      "Requirement already satisfied: wrapt<2,>=1.10 in /opt/conda/lib/python3.7/site-packages (from deprecated>=1.2.4->flair) (1.14.1)\r\n",
      "Requirement already satisfied: scipy>=0.18.1 in /opt/conda/lib/python3.7/site-packages (from gensim>=3.4.0->flair) (1.7.3)\r\n",
      "Requirement already satisfied: smart-open>=1.8.1 in /opt/conda/lib/python3.7/site-packages (from gensim>=3.4.0->flair) (5.2.1)\r\n",
      "Requirement already satisfied: py4j in /opt/conda/lib/python3.7/site-packages (from hyperopt>=0.2.7->flair) (0.10.9.5)\r\n",
      "Requirement already satisfied: networkx>=2.2 in /opt/conda/lib/python3.7/site-packages (from hyperopt>=0.2.7->flair) (2.5)\r\n",
      "Requirement already satisfied: future in /opt/conda/lib/python3.7/site-packages (from hyperopt>=0.2.7->flair) (0.18.2)\r\n",
      "Requirement already satisfied: cloudpickle in /opt/conda/lib/python3.7/site-packages (from hyperopt>=0.2.7->flair) (2.1.0)\r\n",
      "Collecting overrides<4.0.0,>=3.0.0\r\n",
      "  Downloading overrides-3.1.0.tar.gz (11 kB)\r\n",
      "  Preparing metadata (setup.py) ... \u001b[?25l-\b \bdone\r\n",
      "\u001b[?25hCollecting importlib-metadata<4.0.0,>=3.7.0\r\n",
      "  Downloading importlib_metadata-3.10.1-py3-none-any.whl (14 kB)\r\n",
      "Requirement already satisfied: pyparsing>=2.2.1 in /opt/conda/lib/python3.7/site-packages (from matplotlib>=2.2.3->flair) (3.0.9)\r\n",
      "Requirement already satisfied: packaging>=20.0 in /opt/conda/lib/python3.7/site-packages (from matplotlib>=2.2.3->flair) (21.3)\r\n",
      "Requirement already satisfied: fonttools>=4.22.0 in /opt/conda/lib/python3.7/site-packages (from matplotlib>=2.2.3->flair) (4.33.3)\r\n",
      "Requirement already satisfied: cycler>=0.10 in /opt/conda/lib/python3.7/site-packages (from matplotlib>=2.2.3->flair) (0.11.0)\r\n",
      "Requirement already satisfied: kiwisolver>=1.0.1 in /opt/conda/lib/python3.7/site-packages (from matplotlib>=2.2.3->flair) (1.4.2)\r\n",
      "Requirement already satisfied: pillow>=6.2.0 in /opt/conda/lib/python3.7/site-packages (from matplotlib>=2.2.3->flair) (9.1.1)\r\n",
      "Requirement already satisfied: threadpoolctl>=2.0.0 in /opt/conda/lib/python3.7/site-packages (from scikit-learn>=0.21.3->flair) (3.1.0)\r\n",
      "Requirement already satisfied: joblib>=0.11 in /opt/conda/lib/python3.7/site-packages (from scikit-learn>=0.21.3->flair) (1.1.0)\r\n",
      "Requirement already satisfied: typing-extensions in /opt/conda/lib/python3.7/site-packages (from torch!=1.8,>=1.5.0->flair) (4.1.1)\r\n",
      "Requirement already satisfied: sacremoses in /opt/conda/lib/python3.7/site-packages (from transformers>=4.0.0->flair) (0.0.53)\r\n",
      "Requirement already satisfied: pyyaml>=5.1 in /opt/conda/lib/python3.7/site-packages (from transformers>=4.0.0->flair) (6.0)\r\n",
      "Requirement already satisfied: tokenizers!=0.11.3,<0.13,>=0.11.1 in /opt/conda/lib/python3.7/site-packages (from transformers>=4.0.0->flair) (0.12.1)\r\n",
      "Requirement already satisfied: wcwidth>=0.2.5 in /opt/conda/lib/python3.7/site-packages (from ftfy->flair) (0.2.5)\r\n",
      "Requirement already satisfied: zipp>=0.5 in /opt/conda/lib/python3.7/site-packages (from importlib-metadata<4.0.0,>=3.7.0->konoha<5.0.0,>=4.0.0->flair) (3.8.0)\r\n",
      "Requirement already satisfied: decorator>=4.3.0 in /opt/conda/lib/python3.7/site-packages (from networkx>=2.2->hyperopt>=0.2.7->flair) (5.1.1)\r\n",
      "Requirement already satisfied: urllib3<1.27,>=1.21.1 in /opt/conda/lib/python3.7/site-packages (from requests[socks]->gdown==4.4.0->flair) (1.26.9)\r\n",
      "Requirement already satisfied: idna<4,>=2.5 in /opt/conda/lib/python3.7/site-packages (from requests[socks]->gdown==4.4.0->flair) (3.3)\r\n",
      "Requirement already satisfied: certifi>=2017.4.17 in /opt/conda/lib/python3.7/site-packages (from requests[socks]->gdown==4.4.0->flair) (2022.6.15)\r\n",
      "Requirement already satisfied: charset-normalizer~=2.0.0 in /opt/conda/lib/python3.7/site-packages (from requests[socks]->gdown==4.4.0->flair) (2.0.12)\r\n",
      "Requirement already satisfied: soupsieve>1.2 in /opt/conda/lib/python3.7/site-packages (from beautifulsoup4->gdown==4.4.0->flair) (2.3.1)\r\n",
      "Requirement already satisfied: PySocks!=1.5.7,>=1.5.6 in /opt/conda/lib/python3.7/site-packages (from requests[socks]->gdown==4.4.0->flair) (1.7.1)\r\n",
      "Requirement already satisfied: click in /opt/conda/lib/python3.7/site-packages (from sacremoses->transformers>=4.0.0->flair) (8.0.4)\r\n",
      "Building wheels for collected packages: gdown, mpld3, sqlitedict, langdetect, pptree, wikipedia-api, overrides\r\n",
      "  Building wheel for gdown (pyproject.toml) ... \u001b[?25l-\b \b\\\b \b|\b \b/\b \b-\b \b\\\b \b|\b \bdone\r\n",
      "\u001b[?25h  Created wheel for gdown: filename=gdown-4.4.0-py3-none-any.whl size=14759 sha256=358be0e581a386291a181f1882c262618574649e26390ba294cb4323069292ed\r\n",
      "  Stored in directory: /root/.cache/pip/wheels/fb/c3/0e/c4d8ff8bfcb0461afff199471449f642179b74968c15b7a69c\r\n",
      "  Building wheel for mpld3 (setup.py) ... \u001b[?25l-\b \b\\\b \bdone\r\n",
      "\u001b[?25h  Created wheel for mpld3: filename=mpld3-0.3-py3-none-any.whl size=116702 sha256=970ab057d0ce7030f0d661af0fb2314f292fda784cd73111b9db49c871da19c7\r\n",
      "  Stored in directory: /root/.cache/pip/wheels/26/70/6a/1c79e59951a41b4045497da187b2724f5659ca64033cf4548e\r\n",
      "  Building wheel for sqlitedict (setup.py) ... \u001b[?25l-\b \bdone\r\n",
      "\u001b[?25h  Created wheel for sqlitedict: filename=sqlitedict-2.0.0-py3-none-any.whl size=15736 sha256=44841bfc1174ed3509c1dc8b2bac3906b643ac7b05267467c6db2a2a07b862cf\r\n",
      "  Stored in directory: /root/.cache/pip/wheels/96/dd/2e/0ed4a25cb73fc30c7ea8d10b50acb7226175736067e40a7ea3\r\n",
      "  Building wheel for langdetect (setup.py) ... \u001b[?25l-\b \b\\\b \b|\b \b/\b \bdone\r\n",
      "\u001b[?25h  Created wheel for langdetect: filename=langdetect-1.0.9-py3-none-any.whl size=993242 sha256=a0519a15460a857b20acf33cbf390cf221a6fd6120a640e61f4761c0a0a3ecfd\r\n",
      "  Stored in directory: /root/.cache/pip/wheels/c5/96/8a/f90c59ed25d75e50a8c10a1b1c2d4c402e4dacfa87f3aff36a\r\n",
      "  Building wheel for pptree (setup.py) ... \u001b[?25l-\b \bdone\r\n",
      "\u001b[?25h  Created wheel for pptree: filename=pptree-3.1-py3-none-any.whl size=4629 sha256=ff6f77f09cdc5dd12ac9d44467d7695f502598ec46903010aacf090efa6e0bd7\r\n",
      "  Stored in directory: /root/.cache/pip/wheels/9e/e8/7d/a9c3c19b4722608a0d8b05a38c36bc3f230c43becd2a46794b\r\n",
      "  Building wheel for wikipedia-api (setup.py) ... \u001b[?25l-\b \bdone\r\n",
      "\u001b[?25h  Created wheel for wikipedia-api: filename=Wikipedia_API-0.5.4-py3-none-any.whl size=13477 sha256=15383987f6051d733a0c549f6b2c7c04d997cae3e5ac1e0c96caf3e5ac82150b\r\n",
      "  Stored in directory: /root/.cache/pip/wheels/d3/24/56/58ba93cf78be162451144e7a9889603f437976ef1ae7013d04\r\n",
      "  Building wheel for overrides (setup.py) ... \u001b[?25l-\b \bdone\r\n",
      "\u001b[?25h  Created wheel for overrides: filename=overrides-3.1.0-py3-none-any.whl size=10187 sha256=2bac959152d59affca1c90f33202d33761e9ec202f9105455f7615df20e5f0c5\r\n",
      "  Stored in directory: /root/.cache/pip/wheels/3a/0d/38/01a9bc6e20dcfaf0a6a7b552d03137558ba1c38aea47644682\r\n",
      "Successfully built gdown mpld3 sqlitedict langdetect pptree wikipedia-api overrides\r\n",
      "Installing collected packages: sqlitedict, sentencepiece, pptree, overrides, mpld3, segtok, langdetect, importlib-metadata, ftfy, deprecated, conllu, wikipedia-api, konoha, gdown, bpemb, flair\r\n",
      "  Attempting uninstall: sentencepiece\r\n",
      "    Found existing installation: sentencepiece 0.1.96\r\n",
      "    Uninstalling sentencepiece-0.1.96:\r\n",
      "      Successfully uninstalled sentencepiece-0.1.96\r\n",
      "  Attempting uninstall: overrides\r\n",
      "    Found existing installation: overrides 6.1.0\r\n",
      "    Uninstalling overrides-6.1.0:\r\n",
      "      Successfully uninstalled overrides-6.1.0\r\n",
      "  Attempting uninstall: mpld3\r\n",
      "    Found existing installation: mpld3 0.5.8\r\n",
      "    Uninstalling mpld3-0.5.8:\r\n",
      "      Successfully uninstalled mpld3-0.5.8\r\n",
      "  Attempting uninstall: importlib-metadata\r\n",
      "    Found existing installation: importlib-metadata 4.11.4\r\n",
      "    Uninstalling importlib-metadata-4.11.4:\r\n",
      "      Successfully uninstalled importlib-metadata-4.11.4\r\n",
      "\u001b[31mERROR: pip's dependency resolver does not currently take into account all the packages that are installed. This behaviour is the source of the following dependency conflicts.\r\n",
      "markdown 3.3.7 requires importlib-metadata>=4.4; python_version < \"3.10\", but you have importlib-metadata 3.10.1 which is incompatible.\r\n",
      "ibis-framework 2.1.1 requires importlib-metadata<5,>=4; python_version < \"3.8\", but you have importlib-metadata 3.10.1 which is incompatible.\r\n",
      "gym 0.24.1 requires importlib-metadata>=4.8.0; python_version < \"3.10\", but you have importlib-metadata 3.10.1 which is incompatible.\r\n",
      "google-cloud-pubsublite 1.4.2 requires overrides<7.0.0,>=6.0.1, but you have overrides 3.1.0 which is incompatible.\u001b[0m\u001b[31m\r\n",
      "\u001b[0mSuccessfully installed bpemb-0.3.3 conllu-4.4.2 deprecated-1.2.13 flair-0.11.3 ftfy-6.1.1 gdown-4.4.0 importlib-metadata-3.10.1 konoha-4.6.5 langdetect-1.0.9 mpld3-0.3 overrides-3.1.0 pptree-3.1 segtok-1.5.11 sentencepiece-0.1.95 sqlitedict-2.0.0 wikipedia-api-0.5.4\r\n",
      "\u001b[33mWARNING: Running pip as the 'root' user can result in broken permissions and conflicting behaviour with the system package manager. It is recommended to use a virtual environment instead: https://pip.pypa.io/warnings/venv\u001b[0m\u001b[33m\r\n",
      "\u001b[0m"
     ]
    }
   ],
   "source": [
    "!pip3 install Cython\n",
    "!pip install transformers\n",
    "!pip install flair"
   ]
  },
  {
   "cell_type": "code",
   "execution_count": 17,
   "id": "536aaa38",
   "metadata": {
    "_kg_hide-output": true,
    "execution": {
     "iopub.execute_input": "2022-06-27T19:23:27.239294Z",
     "iopub.status.busy": "2022-06-27T19:23:27.238982Z",
     "iopub.status.idle": "2022-06-27T19:25:03.882954Z",
     "shell.execute_reply": "2022-06-27T19:25:03.881873Z"
    },
    "papermill": {
     "duration": 96.69097,
     "end_time": "2022-06-27T19:25:03.885695",
     "exception": false,
     "start_time": "2022-06-27T19:23:27.194725",
     "status": "completed"
    },
    "tags": []
   },
   "outputs": [
    {
     "data": {
      "application/vnd.jupyter.widget-view+json": {
       "model_id": "bd29883349cd484c95443352381e741e",
       "version_major": 2,
       "version_minor": 0
      },
      "text/plain": [
       "Downloading:   0%|          | 0.00/2.24G [00:00<?, ?B/s]"
      ]
     },
     "metadata": {},
     "output_type": "display_data"
    },
    {
     "name": "stdout",
     "output_type": "stream",
     "text": [
      "2022-06-27 19:24:35,885 loading file /root/.flair/models/ner-english-ontonotes-large/2da6c2cdd76e59113033adf670340bfd820f0301ae2e39204d67ba2dc276cc28.ec1bdb304b6c66111532c3b1fc6e522460ae73f1901848a4d0362cdf9760edb1\n"
     ]
    },
    {
     "data": {
      "application/vnd.jupyter.widget-view+json": {
       "model_id": "ac0ff0f7d4d543e8b83b85657149157f",
       "version_major": 2,
       "version_minor": 0
      },
      "text/plain": [
       "Downloading:   0%|          | 0.00/616 [00:00<?, ?B/s]"
      ]
     },
     "metadata": {},
     "output_type": "display_data"
    },
    {
     "data": {
      "application/vnd.jupyter.widget-view+json": {
       "model_id": "cbc3d8227c6a420394bec2b1337cccb9",
       "version_major": 2,
       "version_minor": 0
      },
      "text/plain": [
       "Downloading:   0%|          | 0.00/4.83M [00:00<?, ?B/s]"
      ]
     },
     "metadata": {},
     "output_type": "display_data"
    },
    {
     "data": {
      "application/vnd.jupyter.widget-view+json": {
       "model_id": "bc71790a2b6b44518b262ed5aa722007",
       "version_major": 2,
       "version_minor": 0
      },
      "text/plain": [
       "Downloading:   0%|          | 0.00/8.68M [00:00<?, ?B/s]"
      ]
     },
     "metadata": {},
     "output_type": "display_data"
    },
    {
     "name": "stdout",
     "output_type": "stream",
     "text": [
      "2022-06-27 19:25:03,256 SequenceTagger predicts: Dictionary with 76 tags: <unk>, O, B-CARDINAL, E-CARDINAL, S-PERSON, S-CARDINAL, S-PRODUCT, B-PRODUCT, I-PRODUCT, E-PRODUCT, B-WORK_OF_ART, I-WORK_OF_ART, E-WORK_OF_ART, B-PERSON, E-PERSON, S-GPE, B-DATE, I-DATE, E-DATE, S-ORDINAL, S-LANGUAGE, I-PERSON, S-EVENT, S-DATE, B-QUANTITY, E-QUANTITY, S-TIME, B-TIME, I-TIME, E-TIME, B-GPE, E-GPE, S-ORG, I-GPE, S-NORP, B-FAC, I-FAC, E-FAC, B-NORP, E-NORP, S-PERCENT, B-ORG, E-ORG, B-LANGUAGE, E-LANGUAGE, I-CARDINAL, I-ORG, S-WORK_OF_ART, I-QUANTITY, B-MONEY\n"
     ]
    }
   ],
   "source": [
    "from flair.models import SequenceTagger\n",
    "\n",
    "tagger = SequenceTagger.load(\"flair/ner-english-ontonotes-large\")"
   ]
  },
  {
   "cell_type": "code",
   "execution_count": 18,
   "id": "7eed91aa",
   "metadata": {
    "_kg_hide-output": true,
    "execution": {
     "iopub.execute_input": "2022-06-27T19:25:03.975815Z",
     "iopub.status.busy": "2022-06-27T19:25:03.975419Z",
     "iopub.status.idle": "2022-06-27T19:25:20.587863Z",
     "shell.execute_reply": "2022-06-27T19:25:20.586837Z"
    },
    "papermill": {
     "duration": 16.659972,
     "end_time": "2022-06-27T19:25:20.590230",
     "exception": false,
     "start_time": "2022-06-27T19:25:03.930258",
     "status": "completed"
    },
    "tags": []
   },
   "outputs": [
    {
     "data": {
      "application/vnd.jupyter.widget-view+json": {
       "model_id": "61874f53ae554470a7cd32d23b29bc91",
       "version_major": 2,
       "version_minor": 0
      },
      "text/plain": [
       "Downloading:   0%|          | 0.00/432M [00:00<?, ?B/s]"
      ]
     },
     "metadata": {},
     "output_type": "display_data"
    },
    {
     "name": "stdout",
     "output_type": "stream",
     "text": [
      "2022-06-27 19:25:17,734 loading file /root/.flair/models/ner-english/4f4cdab26f24cb98b732b389e6cebc646c36f54cfd6e0b7d3b90b25656e4262f.8baa8ae8795f4df80b28e7f7b61d788ecbb057d1dc85aacb316f1bd02837a4a4\n",
      "2022-06-27 19:25:19,582 SequenceTagger predicts: Dictionary with 20 tags: <unk>, O, S-ORG, S-MISC, B-PER, E-PER, S-LOC, B-ORG, E-ORG, I-PER, S-PER, B-MISC, I-MISC, E-MISC, I-ORG, B-LOC, E-LOC, I-LOC, <START>, <STOP>\n"
     ]
    }
   ],
   "source": [
    "from flair.models import SequenceTagger\n",
    "\n",
    "tagger1 = SequenceTagger.load(\"flair/ner-english\")"
   ]
  },
  {
   "cell_type": "code",
   "execution_count": 19,
   "id": "b292096f",
   "metadata": {
    "_kg_hide-output": true,
    "execution": {
     "iopub.execute_input": "2022-06-27T19:25:20.680420Z",
     "iopub.status.busy": "2022-06-27T19:25:20.680127Z",
     "iopub.status.idle": "2022-06-27T19:27:00.509441Z",
     "shell.execute_reply": "2022-06-27T19:27:00.508418Z"
    },
    "papermill": {
     "duration": 99.877066,
     "end_time": "2022-06-27T19:27:00.511939",
     "exception": false,
     "start_time": "2022-06-27T19:25:20.634873",
     "status": "completed"
    },
    "tags": []
   },
   "outputs": [
    {
     "data": {
      "application/vnd.jupyter.widget-view+json": {
       "model_id": "62f0c7174d804041bc32bea5afe3d05e",
       "version_major": 2,
       "version_minor": 0
      },
      "text/plain": [
       "Downloading:   0%|          | 0.00/2.24G [00:00<?, ?B/s]"
      ]
     },
     "metadata": {},
     "output_type": "display_data"
    },
    {
     "name": "stdout",
     "output_type": "stream",
     "text": [
      "2022-06-27 19:26:41,796 loading file /root/.flair/models/ner-english-large/07301f59bb8cb113803be316267f06ddf9243cdbba92a4c8067ef92442d2c574.554244d3476d97501a766a98078421817b14654496b86f2f7bd139dc502a4f29\n",
      "2022-06-27 19:26:59,880 SequenceTagger predicts: Dictionary with 20 tags: <unk>, O, S-ORG, S-MISC, B-PER, E-PER, S-LOC, B-ORG, E-ORG, I-PER, S-PER, B-MISC, I-MISC, E-MISC, I-ORG, B-LOC, E-LOC, I-LOC, <START>, <STOP>\n"
     ]
    }
   ],
   "source": [
    "from flair.models import SequenceTagger\n",
    "\n",
    "tagger2 = SequenceTagger.load(\"flair/ner-english-large\")"
   ]
  },
  {
   "cell_type": "markdown",
   "id": "4f410411",
   "metadata": {
    "papermill": {
     "duration": 0.048501,
     "end_time": "2022-06-27T19:27:00.623312",
     "exception": false,
     "start_time": "2022-06-27T19:27:00.574811",
     "status": "completed"
    },
    "tags": []
   },
   "source": [
    "# ontonotes"
   ]
  },
  {
   "cell_type": "code",
   "execution_count": 20,
   "id": "6f020f20",
   "metadata": {
    "execution": {
     "iopub.execute_input": "2022-06-27T19:27:00.712426Z",
     "iopub.status.busy": "2022-06-27T19:27:00.712093Z",
     "iopub.status.idle": "2022-06-27T19:34:31.418195Z",
     "shell.execute_reply": "2022-06-27T19:34:31.417238Z"
    },
    "papermill": {
     "duration": 450.753892,
     "end_time": "2022-06-27T19:34:31.420678",
     "exception": false,
     "start_time": "2022-06-27T19:27:00.666786",
     "status": "completed"
    },
    "tags": []
   },
   "outputs": [
    {
     "name": "stdout",
     "output_type": "stream",
     "text": [
      "2022-06-27 19:27:33,192 Warning: An empty Sentence was created! Are there empty strings in your dataset?\n",
      "2022-06-27 19:28:04,880 Warning: An empty Sentence was created! Are there empty strings in your dataset?\n"
     ]
    }
   ],
   "source": [
    "lst=[]\n",
    "label=[]\n",
    "Per=[]\n",
    "Date=[]\n",
    "GPE=[]\n",
    "ORG=[]\n",
    "LOC=[]\n",
    "Bulding=[]\n",
    "Cardinal=[]\n",
    "from flair.data import Sentence\n",
    "\n",
    "recordE_onto=pd.DataFrame({\"recordE_text\":\"\", \"PERSON-ontonotes\":[], \"GPE-ontonotes\":\"\",\"ORG-ontonotes\":\"\", \"Date-ontonotes\":\"\"})\n",
    "for i in range(7668):\n",
    "        sentencess =Sentence(recordE_text[i])\n",
    "        recordE_onto.loc[i,\"recordE_text\"]=recordE_text[i]\n",
    "        tagger.predict(sentencess)\n",
    "        dc={}\n",
    "        P=[]\n",
    "        D=[]\n",
    "        G=[]\n",
    "        L=[]\n",
    "        O=[]\n",
    "        B=[]\n",
    "        C=[]\n",
    "        for entity in sentencess.get_spans('ner'):\n",
    "                     \n",
    "                     if (entity.get_label(\"ner\").score > 0.97) & (entity.get_label(\"ner\").value != \"LAW\")& (entity.get_label(\"ner\").value != \"QUANTITY\") & (entity.get_label(\"ner\").value != \"WORK_OF_ART\") & (entity.get_label(\"ner\").value != \"LAW\")& (entity.get_label(\"ner\").value != \"QUANTITY\") & (entity.get_label(\"ner\").value != \"EVENT\")  :\n",
    "                        dc[entity.text]= entity.get_label(\"ner\").value \n",
    "        \n",
    "        \n",
    "        for j in dc :\n",
    "                if dc[j]==\"PERSON\":\n",
    "                      P.append(j)\n",
    "                elif dc[j]==\"ORG\":\n",
    "                      O.append(j)\n",
    "                elif dc[j]==\"DATE\":\n",
    "                      D.append(j)\n",
    "                elif dc[j]==\"GPE\":\n",
    "                      G.append(j)\n",
    "                elif dc[j]==\"LOC\":\n",
    "                      L.append(j)\n",
    "                elif dc[j]==\"FAC\":\n",
    "                      B.append(j)\n",
    "                elif dc[j]==\"CARDINAL\":\n",
    "                      C.append(j)\n",
    "        Per.append(P)\n",
    "        Date.append(D)\n",
    "        ORG.append(O)\n",
    "        GPE.append(G)\n",
    "        LOC.append(L)\n",
    "        Bulding.append(B)\n",
    "        Cardinal.append(C)\n",
    "        \n",
    "            \n",
    "recordE_onto[\"Date-ontonotes\"]=Date\n",
    "recordE_onto[\"PERSON-ontonotes\"]=Per\n",
    "recordE_onto[\"GPE-ontonotes\"]=GPE\n",
    "recordE_onto[\"ORG-ontonotes\"]=ORG \n",
    "recordE_onto[\"LOC-ontonotes\"]=LOC \n",
    "recordE_onto[\"Building-ontonotes\"]=Bulding\n",
    "recordE_onto[\"Cardinal-ontonotes\"]=Cardinal"
   ]
  },
  {
   "cell_type": "code",
   "execution_count": 21,
   "id": "f0be4942",
   "metadata": {
    "execution": {
     "iopub.execute_input": "2022-06-27T19:34:31.510558Z",
     "iopub.status.busy": "2022-06-27T19:34:31.510243Z",
     "iopub.status.idle": "2022-06-27T19:34:31.516024Z",
     "shell.execute_reply": "2022-06-27T19:34:31.515145Z"
    },
    "papermill": {
     "duration": 0.052239,
     "end_time": "2022-06-27T19:34:31.517975",
     "exception": false,
     "start_time": "2022-06-27T19:34:31.465736",
     "status": "completed"
    },
    "tags": []
   },
   "outputs": [],
   "source": [
    "recordE_onto[\"recordE_text\"]=recordE_text"
   ]
  },
  {
   "cell_type": "code",
   "execution_count": 22,
   "id": "156aec42",
   "metadata": {
    "execution": {
     "iopub.execute_input": "2022-06-27T19:34:31.607423Z",
     "iopub.status.busy": "2022-06-27T19:34:31.607168Z",
     "iopub.status.idle": "2022-06-27T19:34:31.630396Z",
     "shell.execute_reply": "2022-06-27T19:34:31.629562Z"
    },
    "papermill": {
     "duration": 0.069437,
     "end_time": "2022-06-27T19:34:31.632486",
     "exception": false,
     "start_time": "2022-06-27T19:34:31.563049",
     "status": "completed"
    },
    "tags": []
   },
   "outputs": [
    {
     "data": {
      "text/html": [
       "<div>\n",
       "<style scoped>\n",
       "    .dataframe tbody tr th:only-of-type {\n",
       "        vertical-align: middle;\n",
       "    }\n",
       "\n",
       "    .dataframe tbody tr th {\n",
       "        vertical-align: top;\n",
       "    }\n",
       "\n",
       "    .dataframe thead th {\n",
       "        text-align: right;\n",
       "    }\n",
       "</style>\n",
       "<table border=\"1\" class=\"dataframe\">\n",
       "  <thead>\n",
       "    <tr style=\"text-align: right;\">\n",
       "      <th></th>\n",
       "      <th>recordE_text</th>\n",
       "      <th>PERSON-ontonotes</th>\n",
       "      <th>GPE-ontonotes</th>\n",
       "      <th>ORG-ontonotes</th>\n",
       "      <th>Date-ontonotes</th>\n",
       "      <th>LOC-ontonotes</th>\n",
       "      <th>Building-ontonotes</th>\n",
       "      <th>Cardinal-ontonotes</th>\n",
       "    </tr>\n",
       "  </thead>\n",
       "  <tbody>\n",
       "    <tr>\n",
       "      <th>0</th>\n",
       "      <td>Abstract of Disbursements ac of Schools . From...</td>\n",
       "      <td>[]</td>\n",
       "      <td>[]</td>\n",
       "      <td>[]</td>\n",
       "      <td>[Jany67 July , 1868]</td>\n",
       "      <td>[]</td>\n",
       "      <td>[]</td>\n",
       "      <td>[]</td>\n",
       "    </tr>\n",
       "    <tr>\n",
       "      <th>1</th>\n",
       "      <td>Disbursments account of Colored Schools month ...</td>\n",
       "      <td>[]</td>\n",
       "      <td>[]</td>\n",
       "      <td>[Colored Schools]</td>\n",
       "      <td>[January 1867]</td>\n",
       "      <td>[]</td>\n",
       "      <td>[]</td>\n",
       "      <td>[]</td>\n",
       "    </tr>\n",
       "    <tr>\n",
       "      <th>2</th>\n",
       "      <td>Disbursements account of Colored Schools Jan. ...</td>\n",
       "      <td>[]</td>\n",
       "      <td>[]</td>\n",
       "      <td>[Colored Schools]</td>\n",
       "      <td>[Jan. 1867]</td>\n",
       "      <td>[]</td>\n",
       "      <td>[]</td>\n",
       "      <td>[]</td>\n",
       "    </tr>\n",
       "    <tr>\n",
       "      <th>3</th>\n",
       "      <td>School Expenses Month of February 67</td>\n",
       "      <td>[]</td>\n",
       "      <td>[]</td>\n",
       "      <td>[]</td>\n",
       "      <td>[Month of February 67]</td>\n",
       "      <td>[]</td>\n",
       "      <td>[]</td>\n",
       "      <td>[]</td>\n",
       "    </tr>\n",
       "    <tr>\n",
       "      <th>4</th>\n",
       "      <td>James F. Carlen Co. 5 keys , Nails , School Ho...</td>\n",
       "      <td>[JW Rumsey, Robert Young]</td>\n",
       "      <td>[]</td>\n",
       "      <td>[James F. Carlen Co .]</td>\n",
       "      <td>[]</td>\n",
       "      <td>[]</td>\n",
       "      <td>[Carrol Hall]</td>\n",
       "      <td>[5, 37.50, 20.00, 1, 8.71, 17th0, 15.00, 150.00]</td>\n",
       "    </tr>\n",
       "  </tbody>\n",
       "</table>\n",
       "</div>"
      ],
      "text/plain": [
       "                                        recordE_text  \\\n",
       "0  Abstract of Disbursements ac of Schools . From...   \n",
       "1  Disbursments account of Colored Schools month ...   \n",
       "2  Disbursements account of Colored Schools Jan. ...   \n",
       "3               School Expenses Month of February 67   \n",
       "4  James F. Carlen Co. 5 keys , Nails , School Ho...   \n",
       "\n",
       "            PERSON-ontonotes GPE-ontonotes           ORG-ontonotes  \\\n",
       "0                         []            []                      []   \n",
       "1                         []            []       [Colored Schools]   \n",
       "2                         []            []       [Colored Schools]   \n",
       "3                         []            []                      []   \n",
       "4  [JW Rumsey, Robert Young]            []  [James F. Carlen Co .]   \n",
       "\n",
       "           Date-ontonotes LOC-ontonotes Building-ontonotes  \\\n",
       "0    [Jany67 July , 1868]            []                 []   \n",
       "1          [January 1867]            []                 []   \n",
       "2             [Jan. 1867]            []                 []   \n",
       "3  [Month of February 67]            []                 []   \n",
       "4                      []            []      [Carrol Hall]   \n",
       "\n",
       "                                 Cardinal-ontonotes  \n",
       "0                                                []  \n",
       "1                                                []  \n",
       "2                                                []  \n",
       "3                                                []  \n",
       "4  [5, 37.50, 20.00, 1, 8.71, 17th0, 15.00, 150.00]  "
      ]
     },
     "execution_count": 22,
     "metadata": {},
     "output_type": "execute_result"
    }
   ],
   "source": [
    "recordE_onto.head()"
   ]
  },
  {
   "cell_type": "markdown",
   "id": "42cc075e",
   "metadata": {
    "papermill": {
     "duration": 0.043313,
     "end_time": "2022-06-27T19:34:31.720193",
     "exception": false,
     "start_time": "2022-06-27T19:34:31.676880",
     "status": "completed"
    },
    "tags": []
   },
   "source": [
    "# Post processing for dates"
   ]
  },
  {
   "cell_type": "code",
   "execution_count": 23,
   "id": "a5c4587b",
   "metadata": {
    "execution": {
     "iopub.execute_input": "2022-06-27T19:34:31.827139Z",
     "iopub.status.busy": "2022-06-27T19:34:31.826081Z",
     "iopub.status.idle": "2022-06-27T19:34:31.838520Z",
     "shell.execute_reply": "2022-06-27T19:34:31.837319Z"
    },
    "papermill": {
     "duration": 0.077168,
     "end_time": "2022-06-27T19:34:31.840835",
     "exception": false,
     "start_time": "2022-06-27T19:34:31.763667",
     "status": "completed"
    },
    "tags": []
   },
   "outputs": [
    {
     "data": {
      "text/plain": [
       "0                                    [Jany67 July , 1868]\n",
       "1                                          [January 1867]\n",
       "2                                             [Jan. 1867]\n",
       "3                                  [Month of February 67]\n",
       "4                                                      []\n",
       "                              ...                        \n",
       "7663                                 [month of July 1869]\n",
       "7664    [THE MONTH ENDING July 30th , 1869, 16 Years o...\n",
       "7665      [Sunday, Saturday, School month, 25th of month]\n",
       "7666    [month, Eighteen days, four days, two days, th...\n",
       "7667                           [THE MONTH OF August 1869]\n",
       "Name: Date-ontonotes, Length: 7668, dtype: object"
      ]
     },
     "execution_count": 23,
     "metadata": {},
     "output_type": "execute_result"
    }
   ],
   "source": [
    "recordE_onto[\"Date-ontonotes\"]"
   ]
  },
  {
   "cell_type": "code",
   "execution_count": 24,
   "id": "ed882c4b",
   "metadata": {
    "execution": {
     "iopub.execute_input": "2022-06-27T19:34:31.937906Z",
     "iopub.status.busy": "2022-06-27T19:34:31.937170Z",
     "iopub.status.idle": "2022-06-27T19:34:32.079846Z",
     "shell.execute_reply": "2022-06-27T19:34:32.079024Z"
    },
    "papermill": {
     "duration": 0.191102,
     "end_time": "2022-06-27T19:34:32.081843",
     "exception": false,
     "start_time": "2022-06-27T19:34:31.890741",
     "status": "completed"
    },
    "tags": []
   },
   "outputs": [],
   "source": [
    "G=[]\n",
    "for i in recordE_onto[\"Date-ontonotes\"]:\n",
    "    M=[]\n",
    "    for j in i:\n",
    "        date=re.search(r'^\\d\\.*.*\\d\\d$' ,j)\n",
    "        date2=re.search(r'^[A-Z]\\.*.*\\d\\.*.*\\d\\d$' ,j)\n",
    "        M.append(date)\n",
    "        M.append(date2)\n",
    "    G.append(M)\n",
    "    \n",
    "\n",
    "GF=[]\n",
    "for i in G:\n",
    "    Final_date=[]\n",
    "    for j in i:\n",
    "        if j!=None:\n",
    "            Final_date.append(j.group())\n",
    "    GF.append(Final_date)\n",
    "    \n",
    "            \n",
    "      "
   ]
  },
  {
   "cell_type": "code",
   "execution_count": 25,
   "id": "79e9f1cb",
   "metadata": {
    "execution": {
     "iopub.execute_input": "2022-06-27T19:34:32.170851Z",
     "iopub.status.busy": "2022-06-27T19:34:32.170388Z",
     "iopub.status.idle": "2022-06-27T19:34:32.176108Z",
     "shell.execute_reply": "2022-06-27T19:34:32.175214Z"
    },
    "papermill": {
     "duration": 0.052388,
     "end_time": "2022-06-27T19:34:32.177985",
     "exception": false,
     "start_time": "2022-06-27T19:34:32.125597",
     "status": "completed"
    },
    "tags": []
   },
   "outputs": [
    {
     "data": {
      "text/plain": [
       "7668"
      ]
     },
     "execution_count": 25,
     "metadata": {},
     "output_type": "execute_result"
    }
   ],
   "source": [
    "len(GF)"
   ]
  },
  {
   "cell_type": "code",
   "execution_count": 26,
   "id": "73ceaea5",
   "metadata": {
    "execution": {
     "iopub.execute_input": "2022-06-27T19:34:32.267814Z",
     "iopub.status.busy": "2022-06-27T19:34:32.267565Z",
     "iopub.status.idle": "2022-06-27T19:34:32.275480Z",
     "shell.execute_reply": "2022-06-27T19:34:32.274620Z"
    },
    "papermill": {
     "duration": 0.054776,
     "end_time": "2022-06-27T19:34:32.277382",
     "exception": false,
     "start_time": "2022-06-27T19:34:32.222606",
     "status": "completed"
    },
    "tags": []
   },
   "outputs": [],
   "source": [
    "recordE_onto[\"postDate-ontonotes\"]=GF"
   ]
  },
  {
   "cell_type": "code",
   "execution_count": 27,
   "id": "d072f0bd",
   "metadata": {
    "execution": {
     "iopub.execute_input": "2022-06-27T19:34:32.366977Z",
     "iopub.status.busy": "2022-06-27T19:34:32.366464Z",
     "iopub.status.idle": "2022-06-27T19:34:32.546174Z",
     "shell.execute_reply": "2022-06-27T19:34:32.545283Z"
    },
    "papermill": {
     "duration": 0.227221,
     "end_time": "2022-06-27T19:34:32.548349",
     "exception": false,
     "start_time": "2022-06-27T19:34:32.321128",
     "status": "completed"
    },
    "tags": []
   },
   "outputs": [],
   "source": [
    "G=[]\n",
    "for i in recordE_onto[\"postDate-ontonotes\"]:\n",
    "    M=[]\n",
    "    for j in i:\n",
    "        Final_date1=re.sub(r'([0-9]{1,2})\\.*.*\\s([A-Z][a-z]\\S*)\\.*.*\\s([0-9]{2,4})',r'\\1-\\2-\\3' ,j)\n",
    "        Final_date2=re.sub(r'([A-Z]\\.*.*)\\s([0-9]{1,2})\\.*.*\\s([0-9]{2,4})',r'\\2-\\1-\\3' ,j)\n",
    "        final_date3=re.sub(r'([A-Z][a-z]\\S*)\\.*.*\\s([A-Z][a-z]\\S*)\\.*.*\\s([0-9]{2,4})',r'\\1-\\2-\\3' ,j)\n",
    "        final_date4=re.sub(r'(^[A-Za-z]\\S*.*.)day\\.*.*\\s([A-Z][a-z]\\S*)\\.*.*\\s([0-9]{2,4})',r'\\1-\\2-\\3' ,j)\n",
    "        if Final_date1 != j:   \n",
    "            M.append(Final_date1)\n",
    "        if Final_date2 != j :\n",
    "            M.append(Final_date2)\n",
    "        if final_date3 != j :\n",
    "            M.append(final_date3)\n",
    "        if final_date4 != j :\n",
    "            M.append(final_date4)\n",
    "    G.append(M)\n",
    "    \n",
    "\n",
    "recordE_onto[\"postDate-ontonotes\"]=G"
   ]
  },
  {
   "cell_type": "markdown",
   "id": "d79db668",
   "metadata": {
    "papermill": {
     "duration": 0.044925,
     "end_time": "2022-06-27T19:34:32.638734",
     "exception": false,
     "start_time": "2022-06-27T19:34:32.593809",
     "status": "completed"
    },
    "tags": []
   },
   "source": [
    "# standardizing dates"
   ]
  },
  {
   "cell_type": "code",
   "execution_count": 28,
   "id": "b6e6c0bc",
   "metadata": {
    "execution": {
     "iopub.execute_input": "2022-06-27T19:34:32.728837Z",
     "iopub.status.busy": "2022-06-27T19:34:32.728558Z",
     "iopub.status.idle": "2022-06-27T19:34:32.845818Z",
     "shell.execute_reply": "2022-06-27T19:34:32.844985Z"
    },
    "papermill": {
     "duration": 0.164746,
     "end_time": "2022-06-27T19:34:32.847715",
     "exception": false,
     "start_time": "2022-06-27T19:34:32.682969",
     "status": "completed"
    },
    "tags": []
   },
   "outputs": [],
   "source": [
    "NG=[]\n",
    "for i in G:\n",
    "    ng=[]\n",
    "    for j in i:\n",
    "        \n",
    "        date=re.findall(r'([0-9]{1,2})-([A-Z][a-z]\\S*)-([0-9]{2,4})',j)\n",
    "        if date !=[]:\n",
    "            dates=[]\n",
    "            for k in date:\n",
    "                for l in k:\n",
    "                    dates.append(l)\n",
    "                \n",
    "                \n",
    "                if dates[1] in [\"August\",\"Aug\",\"augt\",\"AUGUST\",\"Augst\",\"Augt\",\"AUG\",\"Augusta\"]:\n",
    "                    dates[1]= \"August\"\n",
    "                elif dates[1] in [\"September\",\"Sept\",\"SEP\",\"Sep\",\"Septr\",\"SEPTEMBER\",'Sepr','Septh']:\n",
    "                    dates[1]= \"Septembre\"\n",
    "                elif dates[1] in [\"October\",\"Oct\",\"OCT\",\"OCTOBER\"]:\n",
    "                    dates[1]= \"October\"\n",
    "                elif dates[1] in [\"November\",\"NOV\",\"Nov\",\"Novmbr\",\"Nvbr\",\"Novb\",\"NOVEMBER\", \"The\"]:\n",
    "                    dates[1]= \"November\"\n",
    "                elif dates[1] in [\"December\",\"Dec\",\"Decbr\",\"DEC\",\"DECEMBER\",\"Decber\"]:\n",
    "                    dates[1]= \"December\"\n",
    "                elif dates[1] in [\"January\",\"Janry\",\"Jan\",\"Jany\",\"JAN\",\"Janur\",\"JANUARY\"]:\n",
    "                    dates[1]= \"January\"\n",
    "                elif dates[1] in [\"February\",\"Feby\",\"Febry\",\"FEB\",\"FEBRUARY\"]:\n",
    "                    dates[1]= \"February\"\n",
    "                elif dates[1] in [\"March\",\"Mar\"]:\n",
    "                    dates[1]= \"March\"\n",
    "                elif dates[1] in [\"April\",\"Apl\",\"Aprl\",\"APRIL\",\"Apr\"]:\n",
    "                    dates[1]= \"April\"\n",
    "                elif dates[1] in [\"May\",\"MAY\"]:\n",
    "                    dates[1]= \"May\"\n",
    "                elif dates[1] in [\"JUN\",\"Jun\",\"June\"]:\n",
    "                    dates[1]= \"June\"\n",
    "                elif dates[1] in [\"JULY\",\"July\",\"JUL\"]:\n",
    "                    dates[1]= \"July\"\n",
    "                j = dates[0]+\"-\"+dates[1]+\"-\"+dates[2]\n",
    "                ng.append(j)\n",
    "        else :\n",
    "                date = re.findall(r'(^[A-Za-z]\\S*.*.)-([A-Z][a-z]\\S*)-([0-9]{2,4})',j ) \n",
    "                dates=[]\n",
    "                for k in date:\n",
    "                    for l in k:\n",
    "                        dates.append(l)\n",
    "                \n",
    "                \n",
    "                    if dates[1] in [\"August\",\"Aug\",\"augt\",\"AUGUST\",\"Augst\",'Augt',\"AUG\",\"Augusta\"]:\n",
    "                        dates[1]= \"August\"\n",
    "                    elif dates[1] in [\"September\",\"Sept\",\"SEP\",\"Sep\",\"Septr\",\"SEPTEMBER\",\"Sepr\",\"Septh\", \"This\", \"This \"]:\n",
    "                        dates[1]= \"Septembre\"\n",
    "                    elif dates[1] in [\"October\",\"Oct\",\"OCT\",\"OCTOBER\"]:\n",
    "                        dates[1]= \"October\"\n",
    "                    elif dates[1] in [\"November\",\"NOV\",\"Nov\",\"Novmbr\",\"Nvbr\",\"Novb\",\"NOVEMBER\"]:\n",
    "                        dates[1]= \"November\"\n",
    "                    elif dates[1] in [\"December\",\"Dec\",\"Decbr\",\"DEC\",\"DECEMBER\",\"Decber\"]:\n",
    "                        dates[1]= \"December\"\n",
    "                    elif dates[1] in [\"January\",\"Janry\",\"Jan\",\"Jany\",\"JAN\",\"Janur\",\"JANUARY\"]:\n",
    "                        dates[1]= \"January\"\n",
    "                    elif dates[1] in [\"February\",\"Feby\",\"Febry\",\"FEB\",\"FEBRUARY\"]:\n",
    "                        dates[1]= \"February\"\n",
    "                    elif dates[1] in [\"March\",\"Mar\"]:\n",
    "                        dates[1]= \"March\"\n",
    "                    elif dates[1] in [\"April\",\"Apl\",\"Aprl\",\"APRIL\",\"Apr\"]:\n",
    "                        dates[1]= \"April\"\n",
    "                    elif dates[1] in [\"May\",\"MAY\"]:\n",
    "                        dates[1]= \"May\"\n",
    "                    elif dates[1] in [\"JUN\",\"Jun\",\"June\"]:\n",
    "                        dates[1]= \"June\"\n",
    "                    elif dates[1] in [\"JULY\",\"July\",\"JUL\"]:\n",
    "                        dates[1]= \"July\"\n",
    "                    if dates[0]== \"fifteenth\" :\n",
    "                        dates[0]=\"15\"\n",
    "                    elif (dates[0]==\"sixteenth\") |(dates[0]==\"This 16 \"):\n",
    "                        dates[0]=\"16\"\n",
    "                    elif dates[0]==\"Twenty\":\n",
    "                        dates[0]=\"20\" \n",
    "                    elif dates[0]==\"Twentyseventh\":\n",
    "                        dates[0]=\"27\" \n",
    "                    elif (dates[0]==\"Twenty Eighth\") |(dates[0]==\"TwentyEight\") |(dates[0]==\"TwentyEight \") |(dates[0]==\"Twentyeight\"):\n",
    "                        dates[0]=\"28\"\n",
    "                    elif (dates[0]==\"Ninth\") |(dates[0]==\"Ninth \")|(dates[0]==\"Augusta 9th \") |(dates[0]==\"ninth\") |(dates[0]==\"ninth \")|(dates[0]==\"Augusta 9th\"):\n",
    "                        dates[0]=\"9\"\n",
    "                    \n",
    "                    elif dates[0]=='Seventh':\n",
    "                        dates[0]=\"7\" \n",
    "                    elif (dates[0]=='The') |(dates[0]==\"The 9th\") :\n",
    "                        dates[0]=\"9\"\n",
    "                    elif dates[0]==\"the 9\" :\n",
    "                        dates[0]=\"9\"\n",
    "                    elif (dates[0]==\"Eighth \") |(dates[0]==\"Eighth\") |(dates[0]==\"eighth\") |(dates[0]==\"eighth \"):\n",
    "                        dates[0]=\"8\"\n",
    "                    elif dates[0]==\"Seventh \":\n",
    "                        dates[0]=\"7\"\n",
    "                    elif (dates[0]==\"Twenty ninth \")| (dates[0]==\"Twenty ninth\") | (dates[0]==\"twenty ninth \")|(dates[0]==\"Twenty Ninth \")|(dates[0]==\"Twenty Ninth\") :\n",
    "                        dates[0]=\"29\"\n",
    "                    elif (dates[0]==\"Thirty\") |(dates[0]==\"Thirty \") | (dates[0]==\"thirtieth \"):\n",
    "                        dates[0]=\"30\"\n",
    "                    elif (dates[0]==\"Thirty first \") |(dates[0]==\"Thirty first\"):\n",
    "                        dates[0]=\"31\"\n",
    "                  \n",
    "                    \n",
    "                    elif dates[0]==\"first \":\n",
    "                        dates[0]=\"1\"\n",
    "                    elif (dates[0]==\"Second \") |(dates[0]==\"Second\") |(dates[0]==\"second\")|(dates[0]==\"second \"):\n",
    "                        dates[0]=\"2\"\n",
    "                    elif dates[0]==\"fourth \":\n",
    "                        dates[0]=\"4\"\n",
    "                    elif dates[0]==\"tenth \":\n",
    "                        dates[0]=\"10\"\n",
    "                    elif (dates[0]==\"Fifth \")|(dates[0]==\"Fifth\") |(dates[0]==\"fifth \")|(dates[0]==\"fifth\"):\n",
    "                        dates[0]=\"5\"\n",
    "                    elif (dates[0]==\"This\") | (dates[0]==\"This 7th \")|(dates[0]==\"seventh \") |(dates[0]==\"seventh\") |(dates[0]==\"Seventh \"):\n",
    "                        dates[0]=\"7\"\n",
    "                    elif (dates[0]==\"This 31st\") |(dates[0]==\"Thirty-first \"):\n",
    "                        dates[0]=\"31\"\n",
    "                    elif (dates[0]==\"Thirtieth\") |(dates[0]==\"Thirtieth \") |(dates[0]==\"Thirty\"):\n",
    "                        dates[0]=\"30\"\n",
    "                    elif dates[0]==\"twenty fifth \":\n",
    "                        dates[0]=\"25\"\n",
    "                    elif dates[0]==\"Twenty seventh \":\n",
    "                        dates[0]=\"27\"\n",
    "                    elif (dates[0]==\"Twenty sixth \") |(dates[0]==\"Twentysixth \")|(dates[0]==\"Twentysixth\") |(dates[0]==\"twentysixth \"):\n",
    "                        dates[0]=\"26\"\n",
    "                    elif dates[0]==\"third \":\n",
    "                        dates[0]=\"3\" \n",
    "                    elif dates[0]==\"third\":\n",
    "                        dates[0]=\"3\"\n",
    "                    elif dates[0]==\"Third \":\n",
    "                        dates[0]=\"3\"\n",
    "                    elif dates[0]==\"Third\":\n",
    "                        dates[0]=\"3\"\n",
    "                    \n",
    "                    elif dates[0]==\"Tenth\":\n",
    "                        dates[0]=\"10\" \n",
    "                    elif dates[0]==\"Augusta\":\n",
    "                        dates[0]=\"9\" \n",
    "                    elif (dates[0]==\"this_sixth \")|(dates[0]==\"sixth \")| (dates[0]==\"Sixth\") | (dates[0]==\"Sixth \") |(dates[0]==\"this sixth \"):\n",
    "                        dates[0]=\"6\" \n",
    "                        \n",
    "                    elif dates[0]==\"Tenth \":\n",
    "                        dates[0]=\"10\"\n",
    "                    elif (dates[0]==\"twentieth\")|(dates[0]==\"This 20th \"):\n",
    "                        dates[0]=\"20\"\n",
    "                    elif (dates[0]==\"twenty fourth \") |(dates[0]==\"twenty fourth\") |(dates[0]==\"Twenty fourth \") |(dates[0]==\"Twenty fourth\"):\n",
    "                        dates[0]=\"24\"\n",
    "                    elif (dates[0]==\"fifteenth \") |(dates[0]==\"Fifteenth \") |(dates[0]==\"Fifteenth\"):\n",
    "                        dates[0]=\"15\"\n",
    "                    elif dates[0]==\"twentieth \":\n",
    "                        dates[0]=\"20\"\n",
    "                    elif dates[0]==\"Eighteenth \":\n",
    "                        dates[0]=\"18\"\n",
    "                    elif dates[0]==\"Eighteenth\":\n",
    "                        dates[0]=\"18\"\n",
    "                    elif (dates[0]==\"Nineteenth \") |(dates[0]==\"Nineteenth\"):\n",
    "                        dates[0]=\"19\"\n",
    "                    elif dates[0]==\"First \":\n",
    "                        dates[0]=\"1\"\n",
    "                    elif dates[0]==\"First\":\n",
    "                        dates[0]=\"1\"\n",
    "                    elif (dates[0]==\"Sixteenth \")|(dates[0]==\"this 16\") |(dates[0]==\"Sixteenth\"):\n",
    "                        dates[0]=\"16\"\n",
    "                   \n",
    "                    elif dates[0]==\"twenty third \":\n",
    "                        dates[0]=\"23\"\n",
    "                    elif dates[0]==\"twenty third\":\n",
    "                        dates[0]=\"23\"\n",
    "                    elif dates[0]==\"Twenty third \":\n",
    "                        dates[0]=\"23\"\n",
    "                    elif dates[0]==\"Twenty Second \":\n",
    "                        dates[0]=\"22\"\n",
    "                    elif dates[0]==\"Twenty Second\":\n",
    "                        dates[0]=\"22\"\n",
    "                    elif dates[0]==\"Twenty Eighth \":\n",
    "                        dates[0]=\"28\"\n",
    "                    elif dates[0]==\"Twentysenventh \":\n",
    "                        dates[0]=\"27\"\n",
    "                    elif dates[0]==\"twenty third \":\n",
    "                        dates[0]=\"23\"\n",
    "                    elif (dates[0]==\"twenty third\") |(dates[0]==\"Twentythird\")|(dates[0]==\"Twentythird \"):\n",
    "                        dates[0]=\"23\"\n",
    "                    elif (dates[0]==\"fourteenth \") | (dates[0]==\"fourteenth\") | (dates[0]==\"Fourteenth\") | (dates[0]==\"Fourteenth \"):\n",
    "                        dates[0]=\"14\"\n",
    "                    elif (dates[0]==\"Eleventh \") | (dates[0]==\"Eleventh\") |(dates[0]==\"eleventh \") :\n",
    "                        dates[0]=\"11\"\n",
    "                    elif (dates[0]==\"Thirteenth\") | (dates[0]==\"Thirteenth \") :\n",
    "                        dates[0]=\"13\"\n",
    "                    elif (dates[0]==\"seventeenth \") |(dates[0]==\"seventeenth\") |(dates[0]==\"Seventeenth \") :\n",
    "                        dates[0]=\"17\"\n",
    "                     \n",
    "                     \n",
    "                     \n",
    "                    \n",
    "                        \n",
    "                    j = dates[0]+\"-\"+dates[1]+\"-\"+dates[2]\n",
    "                    ng.append(j)\n",
    "            \n",
    "            \n",
    "    NG.append(ng)   "
   ]
  },
  {
   "cell_type": "code",
   "execution_count": 29,
   "id": "cb2115fb",
   "metadata": {
    "execution": {
     "iopub.execute_input": "2022-06-27T19:34:32.938622Z",
     "iopub.status.busy": "2022-06-27T19:34:32.937869Z",
     "iopub.status.idle": "2022-06-27T19:34:32.946415Z",
     "shell.execute_reply": "2022-06-27T19:34:32.945282Z"
    },
    "papermill": {
     "duration": 0.055953,
     "end_time": "2022-06-27T19:34:32.948322",
     "exception": false,
     "start_time": "2022-06-27T19:34:32.892369",
     "status": "completed"
    },
    "tags": []
   },
   "outputs": [],
   "source": [
    "recordE_onto[\"standard_date-ontonotes\"]=NG"
   ]
  },
  {
   "cell_type": "code",
   "execution_count": 30,
   "id": "c8d75f90",
   "metadata": {
    "execution": {
     "iopub.execute_input": "2022-06-27T19:34:33.038054Z",
     "iopub.status.busy": "2022-06-27T19:34:33.037796Z",
     "iopub.status.idle": "2022-06-27T19:34:33.310315Z",
     "shell.execute_reply": "2022-06-27T19:34:33.309397Z"
    },
    "papermill": {
     "duration": 0.320508,
     "end_time": "2022-06-27T19:34:33.312746",
     "exception": false,
     "start_time": "2022-06-27T19:34:32.992238",
     "status": "completed"
    },
    "tags": []
   },
   "outputs": [],
   "source": [
    "recordE_onto.to_csv(\"recordE_onto.csv\",index=False)"
   ]
  },
  {
   "cell_type": "markdown",
   "id": "3876a429",
   "metadata": {
    "papermill": {
     "duration": 0.044243,
     "end_time": "2022-06-27T19:34:33.401854",
     "exception": false,
     "start_time": "2022-06-27T19:34:33.357611",
     "status": "completed"
    },
    "tags": []
   },
   "source": [
    "# Ner english large "
   ]
  },
  {
   "cell_type": "code",
   "execution_count": 31,
   "id": "c72e972f",
   "metadata": {
    "execution": {
     "iopub.execute_input": "2022-06-27T19:34:33.492259Z",
     "iopub.status.busy": "2022-06-27T19:34:33.491599Z",
     "iopub.status.idle": "2022-06-27T19:41:59.971383Z",
     "shell.execute_reply": "2022-06-27T19:41:59.970448Z"
    },
    "papermill": {
     "duration": 446.527432,
     "end_time": "2022-06-27T19:41:59.973855",
     "exception": false,
     "start_time": "2022-06-27T19:34:33.446423",
     "status": "completed"
    },
    "tags": []
   },
   "outputs": [
    {
     "name": "stdout",
     "output_type": "stream",
     "text": [
      "2022-06-27 19:35:05,264 Warning: An empty Sentence was created! Are there empty strings in your dataset?\n",
      "2022-06-27 19:35:36,735 Warning: An empty Sentence was created! Are there empty strings in your dataset?\n"
     ]
    }
   ],
   "source": [
    "lst=[]\n",
    "label=[]\n",
    "Per=[]\n",
    "ORG=[]\n",
    "LOC=[]\n",
    "Other_name=[]\n",
    "from flair.data import Sentence\n",
    "\n",
    "recordE_large=pd.DataFrame({\"recordE_text\":\"\", \"PERSON-nerenglarge\":[], \"LOC-nerenglarge\":\"\",\"ORG-nerenglarge\":\"\"})\n",
    "for i in range(7668):\n",
    "        sentencess =Sentence(recordE_text[i])\n",
    "        recordE_large.loc[i,\"recordE_text\"]=recordE_text[i]\n",
    "        tagger2.predict(sentencess)\n",
    "        dc={}\n",
    "        P=[]\n",
    "        L=[]\n",
    "        G=[]\n",
    "        O=[]\n",
    "        Other=[]\n",
    "        for entity in sentencess.get_spans('ner'):\n",
    "                     \n",
    "                     if (entity.get_label(\"ner\").score > 0.90) & (entity.get_label(\"ner\").value != \"CARDINAL\") & (entity.get_label(\"ner\").value != \"LAW\")& (entity.get_label(\"ner\").value != \"QUANTITY\") & (entity.get_label(\"ner\").value != \"WORK_OF_ART\") & (entity.get_label(\"ner\").value != \"LAW\")& (entity.get_label(\"ner\").value != \"QUANTITY\") & (entity.get_label(\"ner\").value != \"EVENT\")  :\n",
    "                        dc[entity.text]= entity.get_label(\"ner\").value \n",
    "        \n",
    "        \n",
    "        for j in dc :\n",
    "                if dc[j]==\"PER\":\n",
    "                      P.append(j)\n",
    "                elif (dc[j]==\"ORG\") :\n",
    "                      O.append(j)\n",
    "                elif  (dc[j]==\"MISC\") :\n",
    "                      Other.append(j)\n",
    "                elif dc[j]==\"LOC\":\n",
    "                      L.append(j)\n",
    "               \n",
    "        Per.append(P)\n",
    "        ORG.append(O)\n",
    "        LOC.append(L)\n",
    "        Other_name.append(Other)\n",
    "            \n",
    "\n",
    "recordE_large[\"PERSON-nerenglarge\"]=Per\n",
    "recordE_large[\"LOC-nerenglarge\"]=LOC\n",
    "recordE_large[\"ORG-nerenglarge\"]=ORG    \n",
    "recordE_large[\"other_namelarge\"] =Other_name "
   ]
  },
  {
   "cell_type": "code",
   "execution_count": 32,
   "id": "8be5b5ce",
   "metadata": {
    "execution": {
     "iopub.execute_input": "2022-06-27T19:42:00.065671Z",
     "iopub.status.busy": "2022-06-27T19:42:00.064764Z",
     "iopub.status.idle": "2022-06-27T19:42:00.081828Z",
     "shell.execute_reply": "2022-06-27T19:42:00.080906Z"
    },
    "papermill": {
     "duration": 0.064397,
     "end_time": "2022-06-27T19:42:00.083759",
     "exception": false,
     "start_time": "2022-06-27T19:42:00.019362",
     "status": "completed"
    },
    "tags": []
   },
   "outputs": [
    {
     "data": {
      "text/html": [
       "<div>\n",
       "<style scoped>\n",
       "    .dataframe tbody tr th:only-of-type {\n",
       "        vertical-align: middle;\n",
       "    }\n",
       "\n",
       "    .dataframe tbody tr th {\n",
       "        vertical-align: top;\n",
       "    }\n",
       "\n",
       "    .dataframe thead th {\n",
       "        text-align: right;\n",
       "    }\n",
       "</style>\n",
       "<table border=\"1\" class=\"dataframe\">\n",
       "  <thead>\n",
       "    <tr style=\"text-align: right;\">\n",
       "      <th></th>\n",
       "      <th>recordE_text</th>\n",
       "      <th>PERSON-nerenglarge</th>\n",
       "      <th>LOC-nerenglarge</th>\n",
       "      <th>ORG-nerenglarge</th>\n",
       "      <th>other_namelarge</th>\n",
       "    </tr>\n",
       "  </thead>\n",
       "  <tbody>\n",
       "    <tr>\n",
       "      <th>0</th>\n",
       "      <td>Abstract of Disbursements ac of Schools . From...</td>\n",
       "      <td>[]</td>\n",
       "      <td>[]</td>\n",
       "      <td>[]</td>\n",
       "      <td>[]</td>\n",
       "    </tr>\n",
       "    <tr>\n",
       "      <th>1</th>\n",
       "      <td>Disbursments account of Colored Schools month ...</td>\n",
       "      <td>[]</td>\n",
       "      <td>[]</td>\n",
       "      <td>[Colored Schools]</td>\n",
       "      <td>[]</td>\n",
       "    </tr>\n",
       "    <tr>\n",
       "      <th>2</th>\n",
       "      <td>Disbursements account of Colored Schools Jan. ...</td>\n",
       "      <td>[A, James Morrison, John Kimball, R Young, Joh...</td>\n",
       "      <td>[Va]</td>\n",
       "      <td>[Colored Schools, Carpenters Work, Carroll Hal...</td>\n",
       "      <td>[]</td>\n",
       "    </tr>\n",
       "    <tr>\n",
       "      <th>3</th>\n",
       "      <td>School Expenses Month of February 67</td>\n",
       "      <td>[]</td>\n",
       "      <td>[]</td>\n",
       "      <td>[]</td>\n",
       "      <td>[]</td>\n",
       "    </tr>\n",
       "    <tr>\n",
       "      <th>4</th>\n",
       "      <td>James F. Carlen Co. 5 keys , Nails , School Ho...</td>\n",
       "      <td>[JW Rumsey, H.H . Tulley, J.S, Robert Young]</td>\n",
       "      <td>[Carrol Hall, Jno Bligh,40.00]</td>\n",
       "      <td>[James F. Carlen Co, School House]</td>\n",
       "      <td>[]</td>\n",
       "    </tr>\n",
       "  </tbody>\n",
       "</table>\n",
       "</div>"
      ],
      "text/plain": [
       "                                        recordE_text  \\\n",
       "0  Abstract of Disbursements ac of Schools . From...   \n",
       "1  Disbursments account of Colored Schools month ...   \n",
       "2  Disbursements account of Colored Schools Jan. ...   \n",
       "3               School Expenses Month of February 67   \n",
       "4  James F. Carlen Co. 5 keys , Nails , School Ho...   \n",
       "\n",
       "                                  PERSON-nerenglarge  \\\n",
       "0                                                 []   \n",
       "1                                                 []   \n",
       "2  [A, James Morrison, John Kimball, R Young, Joh...   \n",
       "3                                                 []   \n",
       "4       [JW Rumsey, H.H . Tulley, J.S, Robert Young]   \n",
       "\n",
       "                  LOC-nerenglarge  \\\n",
       "0                              []   \n",
       "1                              []   \n",
       "2                            [Va]   \n",
       "3                              []   \n",
       "4  [Carrol Hall, Jno Bligh,40.00]   \n",
       "\n",
       "                                     ORG-nerenglarge other_namelarge  \n",
       "0                                                 []              []  \n",
       "1                                  [Colored Schools]              []  \n",
       "2  [Colored Schools, Carpenters Work, Carroll Hal...              []  \n",
       "3                                                 []              []  \n",
       "4                 [James F. Carlen Co, School House]              []  "
      ]
     },
     "execution_count": 32,
     "metadata": {},
     "output_type": "execute_result"
    }
   ],
   "source": [
    "recordE_large.head()"
   ]
  },
  {
   "cell_type": "code",
   "execution_count": 33,
   "id": "175fa7d7",
   "metadata": {
    "execution": {
     "iopub.execute_input": "2022-06-27T19:42:00.175544Z",
     "iopub.status.busy": "2022-06-27T19:42:00.174676Z",
     "iopub.status.idle": "2022-06-27T19:42:00.407037Z",
     "shell.execute_reply": "2022-06-27T19:42:00.406177Z"
    },
    "papermill": {
     "duration": 0.280023,
     "end_time": "2022-06-27T19:42:00.409089",
     "exception": false,
     "start_time": "2022-06-27T19:42:00.129066",
     "status": "completed"
    },
    "tags": []
   },
   "outputs": [],
   "source": [
    "recordE_large.to_csv(\"recordE_large.csv\",index=False)"
   ]
  },
  {
   "cell_type": "markdown",
   "id": "a2cfad0b",
   "metadata": {
    "papermill": {
     "duration": 0.043902,
     "end_time": "2022-06-27T19:42:00.497990",
     "exception": false,
     "start_time": "2022-06-27T19:42:00.454088",
     "status": "completed"
    },
    "tags": []
   },
   "source": [
    "# Ner english"
   ]
  },
  {
   "cell_type": "code",
   "execution_count": 34,
   "id": "f5d190b6",
   "metadata": {
    "execution": {
     "iopub.execute_input": "2022-06-27T19:42:00.598147Z",
     "iopub.status.busy": "2022-06-27T19:42:00.597846Z",
     "iopub.status.idle": "2022-06-27T19:42:02.065467Z",
     "shell.execute_reply": "2022-06-27T19:42:02.064540Z"
    },
    "papermill": {
     "duration": 1.515755,
     "end_time": "2022-06-27T19:42:02.067778",
     "exception": false,
     "start_time": "2022-06-27T19:42:00.552023",
     "status": "completed"
    },
    "tags": []
   },
   "outputs": [],
   "source": [
    "lst=[]\n",
    "label=[]\n",
    "Per=[]\n",
    "ORG=[]\n",
    "LOC=[]\n",
    "Other_name=[]\n",
    "from flair.data import Sentence\n",
    "\n",
    "recordE_ner=pd.DataFrame({\"recordE_text\":\"\", \"PERSON-nerenglish\":\"\",\"LOC-nerenglish\":\"\",\"ORG-nerenglish\":[]})\n",
    "for i in range(20):\n",
    "        sentencess =Sentence(recordE_text[i])\n",
    "        recordE_ner.loc[i,\"recorde_text\"]=recordE_text[i]\n",
    "        tagger1.predict(sentencess)\n",
    "        dc={}\n",
    "        P=[]\n",
    "        L=[]\n",
    "        O=[]\n",
    "        Other=[]\n",
    "        for entity in sentencess.get_spans('ner'):\n",
    "                     \n",
    "                     if (entity.get_label(\"ner\").score > 0.90) & (entity.get_label(\"ner\").value != \"CARDINAL\") & (entity.get_label(\"ner\").value != \"LAW\")& (entity.get_label(\"ner\").value != \"QUANTITY\") & (entity.get_label(\"ner\").value != \"WORK_OF_ART\") & (entity.get_label(\"ner\").value != \"LAW\")& (entity.get_label(\"ner\").value != \"QUANTITY\") & (entity.get_label(\"ner\").value != \"EVENT\")  :\n",
    "                        dc[entity.text]= entity.get_label(\"ner\").value \n",
    "        \n",
    "        \n",
    "        for j in dc :\n",
    "                if dc[j]==\"PER\":\n",
    "                      P.append(j)\n",
    "                elif (dc[j]==\"ORG\")  :\n",
    "                      O.append(j)\n",
    "                elif  (dc[j]==\"MISC\") :\n",
    "                      Other.append(j)\n",
    "                elif dc[j]==\"LOC\":\n",
    "                      L.append(j)\n",
    "               \n",
    "        Per.append(P)\n",
    "        ORG.append(O)\n",
    "        LOC.append(L)\n",
    "        Other_name.append(Other)\n",
    "            \n",
    "\n",
    "recordE_ner[\"PERSON-nerenglish\"]=Per\n",
    "recordE_ner[\"LOC-nerenglish\"]=LOC\n",
    "recordE_ner[\"ORG-nerenglish\"]=ORG \n",
    "recordE_ner[\"Other_name-nerenglish\"]=Other_name "
   ]
  },
  {
   "cell_type": "code",
   "execution_count": 35,
   "id": "066ca3dd",
   "metadata": {
    "execution": {
     "iopub.execute_input": "2022-06-27T19:42:02.160727Z",
     "iopub.status.busy": "2022-06-27T19:42:02.159815Z",
     "iopub.status.idle": "2022-06-27T19:42:02.176136Z",
     "shell.execute_reply": "2022-06-27T19:42:02.175135Z"
    },
    "papermill": {
     "duration": 0.063947,
     "end_time": "2022-06-27T19:42:02.178016",
     "exception": false,
     "start_time": "2022-06-27T19:42:02.114069",
     "status": "completed"
    },
    "tags": []
   },
   "outputs": [
    {
     "data": {
      "text/html": [
       "<div>\n",
       "<style scoped>\n",
       "    .dataframe tbody tr th:only-of-type {\n",
       "        vertical-align: middle;\n",
       "    }\n",
       "\n",
       "    .dataframe tbody tr th {\n",
       "        vertical-align: top;\n",
       "    }\n",
       "\n",
       "    .dataframe thead th {\n",
       "        text-align: right;\n",
       "    }\n",
       "</style>\n",
       "<table border=\"1\" class=\"dataframe\">\n",
       "  <thead>\n",
       "    <tr style=\"text-align: right;\">\n",
       "      <th></th>\n",
       "      <th>recordE_text</th>\n",
       "      <th>PERSON-nerenglish</th>\n",
       "      <th>LOC-nerenglish</th>\n",
       "      <th>ORG-nerenglish</th>\n",
       "      <th>recorde_text</th>\n",
       "      <th>Other_name-nerenglish</th>\n",
       "    </tr>\n",
       "  </thead>\n",
       "  <tbody>\n",
       "    <tr>\n",
       "      <th>0</th>\n",
       "      <td>NaN</td>\n",
       "      <td>[]</td>\n",
       "      <td>[]</td>\n",
       "      <td>[]</td>\n",
       "      <td>Abstract of Disbursements ac of Schools . From...</td>\n",
       "      <td>[]</td>\n",
       "    </tr>\n",
       "    <tr>\n",
       "      <th>1</th>\n",
       "      <td>NaN</td>\n",
       "      <td>[]</td>\n",
       "      <td>[]</td>\n",
       "      <td>[]</td>\n",
       "      <td>Disbursments account of Colored Schools month ...</td>\n",
       "      <td>[]</td>\n",
       "    </tr>\n",
       "    <tr>\n",
       "      <th>2</th>\n",
       "      <td>NaN</td>\n",
       "      <td>[James Morrison, John Kimball, Mohun Son Lumber]</td>\n",
       "      <td>[]</td>\n",
       "      <td>[]</td>\n",
       "      <td>Disbursements account of Colored Schools Jan. ...</td>\n",
       "      <td>[]</td>\n",
       "    </tr>\n",
       "    <tr>\n",
       "      <th>3</th>\n",
       "      <td>NaN</td>\n",
       "      <td>[]</td>\n",
       "      <td>[]</td>\n",
       "      <td>[]</td>\n",
       "      <td>School Expenses Month of February 67</td>\n",
       "      <td>[]</td>\n",
       "    </tr>\n",
       "    <tr>\n",
       "      <th>4</th>\n",
       "      <td>NaN</td>\n",
       "      <td>[James F. Carlen Co]</td>\n",
       "      <td>[]</td>\n",
       "      <td>[]</td>\n",
       "      <td>James F. Carlen Co. 5 keys , Nails , School Ho...</td>\n",
       "      <td>[]</td>\n",
       "    </tr>\n",
       "  </tbody>\n",
       "</table>\n",
       "</div>"
      ],
      "text/plain": [
       "  recordE_text                                 PERSON-nerenglish  \\\n",
       "0          NaN                                                []   \n",
       "1          NaN                                                []   \n",
       "2          NaN  [James Morrison, John Kimball, Mohun Son Lumber]   \n",
       "3          NaN                                                []   \n",
       "4          NaN                              [James F. Carlen Co]   \n",
       "\n",
       "  LOC-nerenglish ORG-nerenglish  \\\n",
       "0             []             []   \n",
       "1             []             []   \n",
       "2             []             []   \n",
       "3             []             []   \n",
       "4             []             []   \n",
       "\n",
       "                                        recorde_text Other_name-nerenglish  \n",
       "0  Abstract of Disbursements ac of Schools . From...                    []  \n",
       "1  Disbursments account of Colored Schools month ...                    []  \n",
       "2  Disbursements account of Colored Schools Jan. ...                    []  \n",
       "3               School Expenses Month of February 67                    []  \n",
       "4  James F. Carlen Co. 5 keys , Nails , School Ho...                    []  "
      ]
     },
     "execution_count": 35,
     "metadata": {},
     "output_type": "execute_result"
    }
   ],
   "source": [
    "recordE_ner.head()"
   ]
  },
  {
   "cell_type": "code",
   "execution_count": 36,
   "id": "03026333",
   "metadata": {
    "execution": {
     "iopub.execute_input": "2022-06-27T19:42:02.269931Z",
     "iopub.status.busy": "2022-06-27T19:42:02.269674Z",
     "iopub.status.idle": "2022-06-27T19:42:02.274945Z",
     "shell.execute_reply": "2022-06-27T19:42:02.274034Z"
    },
    "papermill": {
     "duration": 0.054737,
     "end_time": "2022-06-27T19:42:02.276895",
     "exception": false,
     "start_time": "2022-06-27T19:42:02.222158",
     "status": "completed"
    },
    "tags": []
   },
   "outputs": [],
   "source": [
    "recordE_ner.to_csv(\"recordE_ner.csv\",index=False)"
   ]
  },
  {
   "cell_type": "code",
   "execution_count": 37,
   "id": "9731bf21",
   "metadata": {
    "execution": {
     "iopub.execute_input": "2022-06-27T19:42:02.367658Z",
     "iopub.status.busy": "2022-06-27T19:42:02.367273Z",
     "iopub.status.idle": "2022-06-27T19:42:02.380914Z",
     "shell.execute_reply": "2022-06-27T19:42:02.380105Z"
    },
    "papermill": {
     "duration": 0.060453,
     "end_time": "2022-06-27T19:42:02.382766",
     "exception": false,
     "start_time": "2022-06-27T19:42:02.322313",
     "status": "completed"
    },
    "tags": []
   },
   "outputs": [],
   "source": [
    "recordE_onto[\"PERSON-nerenglarge\"]=recordE_large[\"PERSON-nerenglarge\"]\n",
    "recordE_onto[\"LOC-nerenglarge\"]=recordE_large[\"LOC-nerenglarge\"]\n",
    "recordE_onto[\"ORG-nerenglarge\"]=recordE_large[\"ORG-nerenglarge\"]\n",
    "recordE_onto[\"other_namelarge\"]=recordE_large[\"other_namelarge\"]\n",
    "recordE_onto[\"PERSON-nerenglish\"]=recordE_ner[\"PERSON-nerenglish\"]\n",
    "recordE_onto[\"LOC-nerenglish\"]=recordE_ner[\"LOC-nerenglish\"]\n",
    "recordE_onto[\"ORG-nerenglish\"]=recordE_ner[\"ORG-nerenglish\"]\n",
    "recordE_onto[\"Other_name-nerenglish\"]=recordE_ner[\"Other_name-nerenglish\"]"
   ]
  },
  {
   "cell_type": "code",
   "execution_count": 38,
   "id": "92a931ba",
   "metadata": {
    "execution": {
     "iopub.execute_input": "2022-06-27T19:42:02.474141Z",
     "iopub.status.busy": "2022-06-27T19:42:02.473895Z",
     "iopub.status.idle": "2022-06-27T19:42:02.477786Z",
     "shell.execute_reply": "2022-06-27T19:42:02.476863Z"
    },
    "papermill": {
     "duration": 0.051968,
     "end_time": "2022-06-27T19:42:02.479743",
     "exception": false,
     "start_time": "2022-06-27T19:42:02.427775",
     "status": "completed"
    },
    "tags": []
   },
   "outputs": [],
   "source": [
    "to_compare_result_recordE=recordE_onto"
   ]
  },
  {
   "cell_type": "code",
   "execution_count": 39,
   "id": "8322449a",
   "metadata": {
    "execution": {
     "iopub.execute_input": "2022-06-27T19:42:02.569883Z",
     "iopub.status.busy": "2022-06-27T19:42:02.569600Z",
     "iopub.status.idle": "2022-06-27T19:42:02.887337Z",
     "shell.execute_reply": "2022-06-27T19:42:02.886455Z"
    },
    "papermill": {
     "duration": 0.365226,
     "end_time": "2022-06-27T19:42:02.889561",
     "exception": false,
     "start_time": "2022-06-27T19:42:02.524335",
     "status": "completed"
    },
    "tags": []
   },
   "outputs": [],
   "source": [
    "to_compare_result_recordE.to_csv(\"to_compare_result_recordE.csv\", index=False)"
   ]
  },
  {
   "cell_type": "code",
   "execution_count": null,
   "id": "b4e4f593",
   "metadata": {
    "papermill": {
     "duration": 0.044553,
     "end_time": "2022-06-27T19:42:02.978696",
     "exception": false,
     "start_time": "2022-06-27T19:42:02.934143",
     "status": "completed"
    },
    "tags": []
   },
   "outputs": [],
   "source": []
  }
 ],
 "metadata": {
  "kernelspec": {
   "display_name": "Python 3",
   "language": "python",
   "name": "python3"
  },
  "language_info": {
   "codemirror_mode": {
    "name": "ipython",
    "version": 3
   },
   "file_extension": ".py",
   "mimetype": "text/x-python",
   "name": "python",
   "nbconvert_exporter": "python",
   "pygments_lexer": "ipython3",
   "version": "3.7.12"
  },
  "papermill": {
   "default_parameters": {},
   "duration": 1244.948813,
   "end_time": "2022-06-27T19:42:06.440479",
   "environment_variables": {},
   "exception": null,
   "input_path": "__notebook__.ipynb",
   "output_path": "__notebook__.ipynb",
   "parameters": {},
   "start_time": "2022-06-27T19:21:21.491666",
   "version": "2.3.4"
  },
  "widgets": {
   "application/vnd.jupyter.widget-state+json": {
    "state": {
     "08584e557a3e4968b36a1058082422cc": {
      "model_module": "@jupyter-widgets/base",
      "model_module_version": "1.2.0",
      "model_name": "LayoutModel",
      "state": {
       "_model_module": "@jupyter-widgets/base",
       "_model_module_version": "1.2.0",
       "_model_name": "LayoutModel",
       "_view_count": null,
       "_view_module": "@jupyter-widgets/base",
       "_view_module_version": "1.2.0",
       "_view_name": "LayoutView",
       "align_content": null,
       "align_items": null,
       "align_self": null,
       "border": null,
       "bottom": null,
       "display": null,
       "flex": null,
       "flex_flow": null,
       "grid_area": null,
       "grid_auto_columns": null,
       "grid_auto_flow": null,
       "grid_auto_rows": null,
       "grid_column": null,
       "grid_gap": null,
       "grid_row": null,
       "grid_template_areas": null,
       "grid_template_columns": null,
       "grid_template_rows": null,
       "height": null,
       "justify_content": null,
       "justify_items": null,
       "left": null,
       "margin": null,
       "max_height": null,
       "max_width": null,
       "min_height": null,
       "min_width": null,
       "object_fit": null,
       "object_position": null,
       "order": null,
       "overflow": null,
       "overflow_x": null,
       "overflow_y": null,
       "padding": null,
       "right": null,
       "top": null,
       "visibility": null,
       "width": null
      }
     },
     "11e6af40d15c46b8a36f917f48fe318f": {
      "model_module": "@jupyter-widgets/controls",
      "model_module_version": "1.5.0",
      "model_name": "ProgressStyleModel",
      "state": {
       "_model_module": "@jupyter-widgets/controls",
       "_model_module_version": "1.5.0",
       "_model_name": "ProgressStyleModel",
       "_view_count": null,
       "_view_module": "@jupyter-widgets/base",
       "_view_module_version": "1.2.0",
       "_view_name": "StyleView",
       "bar_color": null,
       "description_width": ""
      }
     },
     "12c961b191ce4d0d9db6cd9e4780dd4f": {
      "model_module": "@jupyter-widgets/base",
      "model_module_version": "1.2.0",
      "model_name": "LayoutModel",
      "state": {
       "_model_module": "@jupyter-widgets/base",
       "_model_module_version": "1.2.0",
       "_model_name": "LayoutModel",
       "_view_count": null,
       "_view_module": "@jupyter-widgets/base",
       "_view_module_version": "1.2.0",
       "_view_name": "LayoutView",
       "align_content": null,
       "align_items": null,
       "align_self": null,
       "border": null,
       "bottom": null,
       "display": null,
       "flex": null,
       "flex_flow": null,
       "grid_area": null,
       "grid_auto_columns": null,
       "grid_auto_flow": null,
       "grid_auto_rows": null,
       "grid_column": null,
       "grid_gap": null,
       "grid_row": null,
       "grid_template_areas": null,
       "grid_template_columns": null,
       "grid_template_rows": null,
       "height": null,
       "justify_content": null,
       "justify_items": null,
       "left": null,
       "margin": null,
       "max_height": null,
       "max_width": null,
       "min_height": null,
       "min_width": null,
       "object_fit": null,
       "object_position": null,
       "order": null,
       "overflow": null,
       "overflow_x": null,
       "overflow_y": null,
       "padding": null,
       "right": null,
       "top": null,
       "visibility": null,
       "width": null
      }
     },
     "1616b5751efe4d65a3ec5289155d2040": {
      "model_module": "@jupyter-widgets/base",
      "model_module_version": "1.2.0",
      "model_name": "LayoutModel",
      "state": {
       "_model_module": "@jupyter-widgets/base",
       "_model_module_version": "1.2.0",
       "_model_name": "LayoutModel",
       "_view_count": null,
       "_view_module": "@jupyter-widgets/base",
       "_view_module_version": "1.2.0",
       "_view_name": "LayoutView",
       "align_content": null,
       "align_items": null,
       "align_self": null,
       "border": null,
       "bottom": null,
       "display": null,
       "flex": null,
       "flex_flow": null,
       "grid_area": null,
       "grid_auto_columns": null,
       "grid_auto_flow": null,
       "grid_auto_rows": null,
       "grid_column": null,
       "grid_gap": null,
       "grid_row": null,
       "grid_template_areas": null,
       "grid_template_columns": null,
       "grid_template_rows": null,
       "height": null,
       "justify_content": null,
       "justify_items": null,
       "left": null,
       "margin": null,
       "max_height": null,
       "max_width": null,
       "min_height": null,
       "min_width": null,
       "object_fit": null,
       "object_position": null,
       "order": null,
       "overflow": null,
       "overflow_x": null,
       "overflow_y": null,
       "padding": null,
       "right": null,
       "top": null,
       "visibility": null,
       "width": null
      }
     },
     "1ed0232b182f4c2094d3b739b04b4550": {
      "model_module": "@jupyter-widgets/base",
      "model_module_version": "1.2.0",
      "model_name": "LayoutModel",
      "state": {
       "_model_module": "@jupyter-widgets/base",
       "_model_module_version": "1.2.0",
       "_model_name": "LayoutModel",
       "_view_count": null,
       "_view_module": "@jupyter-widgets/base",
       "_view_module_version": "1.2.0",
       "_view_name": "LayoutView",
       "align_content": null,
       "align_items": null,
       "align_self": null,
       "border": null,
       "bottom": null,
       "display": null,
       "flex": null,
       "flex_flow": null,
       "grid_area": null,
       "grid_auto_columns": null,
       "grid_auto_flow": null,
       "grid_auto_rows": null,
       "grid_column": null,
       "grid_gap": null,
       "grid_row": null,
       "grid_template_areas": null,
       "grid_template_columns": null,
       "grid_template_rows": null,
       "height": null,
       "justify_content": null,
       "justify_items": null,
       "left": null,
       "margin": null,
       "max_height": null,
       "max_width": null,
       "min_height": null,
       "min_width": null,
       "object_fit": null,
       "object_position": null,
       "order": null,
       "overflow": null,
       "overflow_x": null,
       "overflow_y": null,
       "padding": null,
       "right": null,
       "top": null,
       "visibility": null,
       "width": null
      }
     },
     "20df9621e419425bac2e8b22cd0d2455": {
      "model_module": "@jupyter-widgets/base",
      "model_module_version": "1.2.0",
      "model_name": "LayoutModel",
      "state": {
       "_model_module": "@jupyter-widgets/base",
       "_model_module_version": "1.2.0",
       "_model_name": "LayoutModel",
       "_view_count": null,
       "_view_module": "@jupyter-widgets/base",
       "_view_module_version": "1.2.0",
       "_view_name": "LayoutView",
       "align_content": null,
       "align_items": null,
       "align_self": null,
       "border": null,
       "bottom": null,
       "display": null,
       "flex": null,
       "flex_flow": null,
       "grid_area": null,
       "grid_auto_columns": null,
       "grid_auto_flow": null,
       "grid_auto_rows": null,
       "grid_column": null,
       "grid_gap": null,
       "grid_row": null,
       "grid_template_areas": null,
       "grid_template_columns": null,
       "grid_template_rows": null,
       "height": null,
       "justify_content": null,
       "justify_items": null,
       "left": null,
       "margin": null,
       "max_height": null,
       "max_width": null,
       "min_height": null,
       "min_width": null,
       "object_fit": null,
       "object_position": null,
       "order": null,
       "overflow": null,
       "overflow_x": null,
       "overflow_y": null,
       "padding": null,
       "right": null,
       "top": null,
       "visibility": null,
       "width": null
      }
     },
     "248fabbaaf8b47848203a8830dbdcd31": {
      "model_module": "@jupyter-widgets/controls",
      "model_module_version": "1.5.0",
      "model_name": "HTMLModel",
      "state": {
       "_dom_classes": [],
       "_model_module": "@jupyter-widgets/controls",
       "_model_module_version": "1.5.0",
       "_model_name": "HTMLModel",
       "_view_count": null,
       "_view_module": "@jupyter-widgets/controls",
       "_view_module_version": "1.5.0",
       "_view_name": "HTMLView",
       "description": "",
       "description_tooltip": null,
       "layout": "IPY_MODEL_dc1bd90938d049258349cff643728ad2",
       "placeholder": "​",
       "style": "IPY_MODEL_c02d4371ae6340b7a3df378d6971a70c",
       "value": " 432M/432M [00:12&lt;00:00, 36.2MB/s]"
      }
     },
     "296cc2ccde4b4d1ea7a1b310c46cad49": {
      "model_module": "@jupyter-widgets/controls",
      "model_module_version": "1.5.0",
      "model_name": "DescriptionStyleModel",
      "state": {
       "_model_module": "@jupyter-widgets/controls",
       "_model_module_version": "1.5.0",
       "_model_name": "DescriptionStyleModel",
       "_view_count": null,
       "_view_module": "@jupyter-widgets/base",
       "_view_module_version": "1.2.0",
       "_view_name": "StyleView",
       "description_width": ""
      }
     },
     "2ec2d4bde8b54dc3b14df5fa7a94e33d": {
      "model_module": "@jupyter-widgets/base",
      "model_module_version": "1.2.0",
      "model_name": "LayoutModel",
      "state": {
       "_model_module": "@jupyter-widgets/base",
       "_model_module_version": "1.2.0",
       "_model_name": "LayoutModel",
       "_view_count": null,
       "_view_module": "@jupyter-widgets/base",
       "_view_module_version": "1.2.0",
       "_view_name": "LayoutView",
       "align_content": null,
       "align_items": null,
       "align_self": null,
       "border": null,
       "bottom": null,
       "display": null,
       "flex": null,
       "flex_flow": null,
       "grid_area": null,
       "grid_auto_columns": null,
       "grid_auto_flow": null,
       "grid_auto_rows": null,
       "grid_column": null,
       "grid_gap": null,
       "grid_row": null,
       "grid_template_areas": null,
       "grid_template_columns": null,
       "grid_template_rows": null,
       "height": null,
       "justify_content": null,
       "justify_items": null,
       "left": null,
       "margin": null,
       "max_height": null,
       "max_width": null,
       "min_height": null,
       "min_width": null,
       "object_fit": null,
       "object_position": null,
       "order": null,
       "overflow": null,
       "overflow_x": null,
       "overflow_y": null,
       "padding": null,
       "right": null,
       "top": null,
       "visibility": null,
       "width": null
      }
     },
     "2f4b88bef99348a4b40d57574dbf82f5": {
      "model_module": "@jupyter-widgets/base",
      "model_module_version": "1.2.0",
      "model_name": "LayoutModel",
      "state": {
       "_model_module": "@jupyter-widgets/base",
       "_model_module_version": "1.2.0",
       "_model_name": "LayoutModel",
       "_view_count": null,
       "_view_module": "@jupyter-widgets/base",
       "_view_module_version": "1.2.0",
       "_view_name": "LayoutView",
       "align_content": null,
       "align_items": null,
       "align_self": null,
       "border": null,
       "bottom": null,
       "display": null,
       "flex": null,
       "flex_flow": null,
       "grid_area": null,
       "grid_auto_columns": null,
       "grid_auto_flow": null,
       "grid_auto_rows": null,
       "grid_column": null,
       "grid_gap": null,
       "grid_row": null,
       "grid_template_areas": null,
       "grid_template_columns": null,
       "grid_template_rows": null,
       "height": null,
       "justify_content": null,
       "justify_items": null,
       "left": null,
       "margin": null,
       "max_height": null,
       "max_width": null,
       "min_height": null,
       "min_width": null,
       "object_fit": null,
       "object_position": null,
       "order": null,
       "overflow": null,
       "overflow_x": null,
       "overflow_y": null,
       "padding": null,
       "right": null,
       "top": null,
       "visibility": null,
       "width": null
      }
     },
     "309dde2c534b49b7a0e60624386d1fc1": {
      "model_module": "@jupyter-widgets/controls",
      "model_module_version": "1.5.0",
      "model_name": "ProgressStyleModel",
      "state": {
       "_model_module": "@jupyter-widgets/controls",
       "_model_module_version": "1.5.0",
       "_model_name": "ProgressStyleModel",
       "_view_count": null,
       "_view_module": "@jupyter-widgets/base",
       "_view_module_version": "1.2.0",
       "_view_name": "StyleView",
       "bar_color": null,
       "description_width": ""
      }
     },
     "3d5d0424091d4b5e8f5366054b8f6b42": {
      "model_module": "@jupyter-widgets/base",
      "model_module_version": "1.2.0",
      "model_name": "LayoutModel",
      "state": {
       "_model_module": "@jupyter-widgets/base",
       "_model_module_version": "1.2.0",
       "_model_name": "LayoutModel",
       "_view_count": null,
       "_view_module": "@jupyter-widgets/base",
       "_view_module_version": "1.2.0",
       "_view_name": "LayoutView",
       "align_content": null,
       "align_items": null,
       "align_self": null,
       "border": null,
       "bottom": null,
       "display": null,
       "flex": null,
       "flex_flow": null,
       "grid_area": null,
       "grid_auto_columns": null,
       "grid_auto_flow": null,
       "grid_auto_rows": null,
       "grid_column": null,
       "grid_gap": null,
       "grid_row": null,
       "grid_template_areas": null,
       "grid_template_columns": null,
       "grid_template_rows": null,
       "height": null,
       "justify_content": null,
       "justify_items": null,
       "left": null,
       "margin": null,
       "max_height": null,
       "max_width": null,
       "min_height": null,
       "min_width": null,
       "object_fit": null,
       "object_position": null,
       "order": null,
       "overflow": null,
       "overflow_x": null,
       "overflow_y": null,
       "padding": null,
       "right": null,
       "top": null,
       "visibility": null,
       "width": null
      }
     },
     "47698e0fa90545578b1588f685b47422": {
      "model_module": "@jupyter-widgets/controls",
      "model_module_version": "1.5.0",
      "model_name": "ProgressStyleModel",
      "state": {
       "_model_module": "@jupyter-widgets/controls",
       "_model_module_version": "1.5.0",
       "_model_name": "ProgressStyleModel",
       "_view_count": null,
       "_view_module": "@jupyter-widgets/base",
       "_view_module_version": "1.2.0",
       "_view_name": "StyleView",
       "bar_color": null,
       "description_width": ""
      }
     },
     "48e7a34b04ad427eb3501b4c5be207de": {
      "model_module": "@jupyter-widgets/controls",
      "model_module_version": "1.5.0",
      "model_name": "DescriptionStyleModel",
      "state": {
       "_model_module": "@jupyter-widgets/controls",
       "_model_module_version": "1.5.0",
       "_model_name": "DescriptionStyleModel",
       "_view_count": null,
       "_view_module": "@jupyter-widgets/base",
       "_view_module_version": "1.2.0",
       "_view_name": "StyleView",
       "description_width": ""
      }
     },
     "4d97f25ecf2f4c09a73e62ba1fb4e634": {
      "model_module": "@jupyter-widgets/controls",
      "model_module_version": "1.5.0",
      "model_name": "DescriptionStyleModel",
      "state": {
       "_model_module": "@jupyter-widgets/controls",
       "_model_module_version": "1.5.0",
       "_model_name": "DescriptionStyleModel",
       "_view_count": null,
       "_view_module": "@jupyter-widgets/base",
       "_view_module_version": "1.2.0",
       "_view_name": "StyleView",
       "description_width": ""
      }
     },
     "54a16672941b45a4b0840f16d38f6288": {
      "model_module": "@jupyter-widgets/base",
      "model_module_version": "1.2.0",
      "model_name": "LayoutModel",
      "state": {
       "_model_module": "@jupyter-widgets/base",
       "_model_module_version": "1.2.0",
       "_model_name": "LayoutModel",
       "_view_count": null,
       "_view_module": "@jupyter-widgets/base",
       "_view_module_version": "1.2.0",
       "_view_name": "LayoutView",
       "align_content": null,
       "align_items": null,
       "align_self": null,
       "border": null,
       "bottom": null,
       "display": null,
       "flex": null,
       "flex_flow": null,
       "grid_area": null,
       "grid_auto_columns": null,
       "grid_auto_flow": null,
       "grid_auto_rows": null,
       "grid_column": null,
       "grid_gap": null,
       "grid_row": null,
       "grid_template_areas": null,
       "grid_template_columns": null,
       "grid_template_rows": null,
       "height": null,
       "justify_content": null,
       "justify_items": null,
       "left": null,
       "margin": null,
       "max_height": null,
       "max_width": null,
       "min_height": null,
       "min_width": null,
       "object_fit": null,
       "object_position": null,
       "order": null,
       "overflow": null,
       "overflow_x": null,
       "overflow_y": null,
       "padding": null,
       "right": null,
       "top": null,
       "visibility": null,
       "width": null
      }
     },
     "5735bb5abc344db294c23556b8cf8c82": {
      "model_module": "@jupyter-widgets/controls",
      "model_module_version": "1.5.0",
      "model_name": "FloatProgressModel",
      "state": {
       "_dom_classes": [],
       "_model_module": "@jupyter-widgets/controls",
       "_model_module_version": "1.5.0",
       "_model_name": "FloatProgressModel",
       "_view_count": null,
       "_view_module": "@jupyter-widgets/controls",
       "_view_module_version": "1.5.0",
       "_view_name": "ProgressView",
       "bar_style": "success",
       "description": "",
       "description_tooltip": null,
       "layout": "IPY_MODEL_8ac43e4a80c946c0bf0753b44fe536e6",
       "max": 616.0,
       "min": 0.0,
       "orientation": "horizontal",
       "style": "IPY_MODEL_6d14742f5dba41738880759c7374fec1",
       "value": 616.0
      }
     },
     "575c2e52588644ee8aca640872804452": {
      "model_module": "@jupyter-widgets/controls",
      "model_module_version": "1.5.0",
      "model_name": "HTMLModel",
      "state": {
       "_dom_classes": [],
       "_model_module": "@jupyter-widgets/controls",
       "_model_module_version": "1.5.0",
       "_model_name": "HTMLModel",
       "_view_count": null,
       "_view_module": "@jupyter-widgets/controls",
       "_view_module_version": "1.5.0",
       "_view_name": "HTMLView",
       "description": "",
       "description_tooltip": null,
       "layout": "IPY_MODEL_6f8a0857f8d14553975960ddf0560fba",
       "placeholder": "​",
       "style": "IPY_MODEL_f53a152920624a4e9d25cc2770ccf061",
       "value": "Downloading: 100%"
      }
     },
     "5901df212da6470d9d73168439837e0e": {
      "model_module": "@jupyter-widgets/base",
      "model_module_version": "1.2.0",
      "model_name": "LayoutModel",
      "state": {
       "_model_module": "@jupyter-widgets/base",
       "_model_module_version": "1.2.0",
       "_model_name": "LayoutModel",
       "_view_count": null,
       "_view_module": "@jupyter-widgets/base",
       "_view_module_version": "1.2.0",
       "_view_name": "LayoutView",
       "align_content": null,
       "align_items": null,
       "align_self": null,
       "border": null,
       "bottom": null,
       "display": null,
       "flex": null,
       "flex_flow": null,
       "grid_area": null,
       "grid_auto_columns": null,
       "grid_auto_flow": null,
       "grid_auto_rows": null,
       "grid_column": null,
       "grid_gap": null,
       "grid_row": null,
       "grid_template_areas": null,
       "grid_template_columns": null,
       "grid_template_rows": null,
       "height": null,
       "justify_content": null,
       "justify_items": null,
       "left": null,
       "margin": null,
       "max_height": null,
       "max_width": null,
       "min_height": null,
       "min_width": null,
       "object_fit": null,
       "object_position": null,
       "order": null,
       "overflow": null,
       "overflow_x": null,
       "overflow_y": null,
       "padding": null,
       "right": null,
       "top": null,
       "visibility": null,
       "width": null
      }
     },
     "5972405b71a54b17baf1c02818328690": {
      "model_module": "@jupyter-widgets/controls",
      "model_module_version": "1.5.0",
      "model_name": "DescriptionStyleModel",
      "state": {
       "_model_module": "@jupyter-widgets/controls",
       "_model_module_version": "1.5.0",
       "_model_name": "DescriptionStyleModel",
       "_view_count": null,
       "_view_module": "@jupyter-widgets/base",
       "_view_module_version": "1.2.0",
       "_view_name": "StyleView",
       "description_width": ""
      }
     },
     "5c845cdc93854a7a9a824c65d137bad5": {
      "model_module": "@jupyter-widgets/base",
      "model_module_version": "1.2.0",
      "model_name": "LayoutModel",
      "state": {
       "_model_module": "@jupyter-widgets/base",
       "_model_module_version": "1.2.0",
       "_model_name": "LayoutModel",
       "_view_count": null,
       "_view_module": "@jupyter-widgets/base",
       "_view_module_version": "1.2.0",
       "_view_name": "LayoutView",
       "align_content": null,
       "align_items": null,
       "align_self": null,
       "border": null,
       "bottom": null,
       "display": null,
       "flex": null,
       "flex_flow": null,
       "grid_area": null,
       "grid_auto_columns": null,
       "grid_auto_flow": null,
       "grid_auto_rows": null,
       "grid_column": null,
       "grid_gap": null,
       "grid_row": null,
       "grid_template_areas": null,
       "grid_template_columns": null,
       "grid_template_rows": null,
       "height": null,
       "justify_content": null,
       "justify_items": null,
       "left": null,
       "margin": null,
       "max_height": null,
       "max_width": null,
       "min_height": null,
       "min_width": null,
       "object_fit": null,
       "object_position": null,
       "order": null,
       "overflow": null,
       "overflow_x": null,
       "overflow_y": null,
       "padding": null,
       "right": null,
       "top": null,
       "visibility": null,
       "width": null
      }
     },
     "5f94446e08e6412b826470db388ad2d0": {
      "model_module": "@jupyter-widgets/controls",
      "model_module_version": "1.5.0",
      "model_name": "ProgressStyleModel",
      "state": {
       "_model_module": "@jupyter-widgets/controls",
       "_model_module_version": "1.5.0",
       "_model_name": "ProgressStyleModel",
       "_view_count": null,
       "_view_module": "@jupyter-widgets/base",
       "_view_module_version": "1.2.0",
       "_view_name": "StyleView",
       "bar_color": null,
       "description_width": ""
      }
     },
     "60ad3216aa394ff3aedad8cefe83e8f6": {
      "model_module": "@jupyter-widgets/controls",
      "model_module_version": "1.5.0",
      "model_name": "HTMLModel",
      "state": {
       "_dom_classes": [],
       "_model_module": "@jupyter-widgets/controls",
       "_model_module_version": "1.5.0",
       "_model_name": "HTMLModel",
       "_view_count": null,
       "_view_module": "@jupyter-widgets/controls",
       "_view_module_version": "1.5.0",
       "_view_name": "HTMLView",
       "description": "",
       "description_tooltip": null,
       "layout": "IPY_MODEL_1616b5751efe4d65a3ec5289155d2040",
       "placeholder": "​",
       "style": "IPY_MODEL_b499008ad3e34d18bb0387a8390fda62",
       "value": " 8.68M/8.68M [00:00&lt;00:00, 14.2MB/s]"
      }
     },
     "61874f53ae554470a7cd32d23b29bc91": {
      "model_module": "@jupyter-widgets/controls",
      "model_module_version": "1.5.0",
      "model_name": "HBoxModel",
      "state": {
       "_dom_classes": [],
       "_model_module": "@jupyter-widgets/controls",
       "_model_module_version": "1.5.0",
       "_model_name": "HBoxModel",
       "_view_count": null,
       "_view_module": "@jupyter-widgets/controls",
       "_view_module_version": "1.5.0",
       "_view_name": "HBoxView",
       "box_style": "",
       "children": [
        "IPY_MODEL_83540c22b4ad4e3fad98f896c0de328b",
        "IPY_MODEL_f6c7983f648645d681d3904cf02f0e5b",
        "IPY_MODEL_248fabbaaf8b47848203a8830dbdcd31"
       ],
       "layout": "IPY_MODEL_d00a1b60eb4043c8954c83823624f225"
      }
     },
     "62e6393b4b974035ae754c725dfadb2b": {
      "model_module": "@jupyter-widgets/controls",
      "model_module_version": "1.5.0",
      "model_name": "DescriptionStyleModel",
      "state": {
       "_model_module": "@jupyter-widgets/controls",
       "_model_module_version": "1.5.0",
       "_model_name": "DescriptionStyleModel",
       "_view_count": null,
       "_view_module": "@jupyter-widgets/base",
       "_view_module_version": "1.2.0",
       "_view_name": "StyleView",
       "description_width": ""
      }
     },
     "62f0c7174d804041bc32bea5afe3d05e": {
      "model_module": "@jupyter-widgets/controls",
      "model_module_version": "1.5.0",
      "model_name": "HBoxModel",
      "state": {
       "_dom_classes": [],
       "_model_module": "@jupyter-widgets/controls",
       "_model_module_version": "1.5.0",
       "_model_name": "HBoxModel",
       "_view_count": null,
       "_view_module": "@jupyter-widgets/controls",
       "_view_module_version": "1.5.0",
       "_view_name": "HBoxView",
       "box_style": "",
       "children": [
        "IPY_MODEL_575c2e52588644ee8aca640872804452",
        "IPY_MODEL_75c3094d862442d5bd6e8c81af97a655",
        "IPY_MODEL_d9602be5dc40449d995258877dc4f128"
       ],
       "layout": "IPY_MODEL_5c845cdc93854a7a9a824c65d137bad5"
      }
     },
     "6d14742f5dba41738880759c7374fec1": {
      "model_module": "@jupyter-widgets/controls",
      "model_module_version": "1.5.0",
      "model_name": "ProgressStyleModel",
      "state": {
       "_model_module": "@jupyter-widgets/controls",
       "_model_module_version": "1.5.0",
       "_model_name": "ProgressStyleModel",
       "_view_count": null,
       "_view_module": "@jupyter-widgets/base",
       "_view_module_version": "1.2.0",
       "_view_name": "StyleView",
       "bar_color": null,
       "description_width": ""
      }
     },
     "6f8a0857f8d14553975960ddf0560fba": {
      "model_module": "@jupyter-widgets/base",
      "model_module_version": "1.2.0",
      "model_name": "LayoutModel",
      "state": {
       "_model_module": "@jupyter-widgets/base",
       "_model_module_version": "1.2.0",
       "_model_name": "LayoutModel",
       "_view_count": null,
       "_view_module": "@jupyter-widgets/base",
       "_view_module_version": "1.2.0",
       "_view_name": "LayoutView",
       "align_content": null,
       "align_items": null,
       "align_self": null,
       "border": null,
       "bottom": null,
       "display": null,
       "flex": null,
       "flex_flow": null,
       "grid_area": null,
       "grid_auto_columns": null,
       "grid_auto_flow": null,
       "grid_auto_rows": null,
       "grid_column": null,
       "grid_gap": null,
       "grid_row": null,
       "grid_template_areas": null,
       "grid_template_columns": null,
       "grid_template_rows": null,
       "height": null,
       "justify_content": null,
       "justify_items": null,
       "left": null,
       "margin": null,
       "max_height": null,
       "max_width": null,
       "min_height": null,
       "min_width": null,
       "object_fit": null,
       "object_position": null,
       "order": null,
       "overflow": null,
       "overflow_x": null,
       "overflow_y": null,
       "padding": null,
       "right": null,
       "top": null,
       "visibility": null,
       "width": null
      }
     },
     "74247155fce3485a919b03650e727089": {
      "model_module": "@jupyter-widgets/base",
      "model_module_version": "1.2.0",
      "model_name": "LayoutModel",
      "state": {
       "_model_module": "@jupyter-widgets/base",
       "_model_module_version": "1.2.0",
       "_model_name": "LayoutModel",
       "_view_count": null,
       "_view_module": "@jupyter-widgets/base",
       "_view_module_version": "1.2.0",
       "_view_name": "LayoutView",
       "align_content": null,
       "align_items": null,
       "align_self": null,
       "border": null,
       "bottom": null,
       "display": null,
       "flex": null,
       "flex_flow": null,
       "grid_area": null,
       "grid_auto_columns": null,
       "grid_auto_flow": null,
       "grid_auto_rows": null,
       "grid_column": null,
       "grid_gap": null,
       "grid_row": null,
       "grid_template_areas": null,
       "grid_template_columns": null,
       "grid_template_rows": null,
       "height": null,
       "justify_content": null,
       "justify_items": null,
       "left": null,
       "margin": null,
       "max_height": null,
       "max_width": null,
       "min_height": null,
       "min_width": null,
       "object_fit": null,
       "object_position": null,
       "order": null,
       "overflow": null,
       "overflow_x": null,
       "overflow_y": null,
       "padding": null,
       "right": null,
       "top": null,
       "visibility": null,
       "width": null
      }
     },
     "75c3094d862442d5bd6e8c81af97a655": {
      "model_module": "@jupyter-widgets/controls",
      "model_module_version": "1.5.0",
      "model_name": "FloatProgressModel",
      "state": {
       "_dom_classes": [],
       "_model_module": "@jupyter-widgets/controls",
       "_model_module_version": "1.5.0",
       "_model_name": "FloatProgressModel",
       "_view_count": null,
       "_view_module": "@jupyter-widgets/controls",
       "_view_module_version": "1.5.0",
       "_view_name": "ProgressView",
       "bar_style": "success",
       "description": "",
       "description_tooltip": null,
       "layout": "IPY_MODEL_bad1d909251f4b8f9d1ae46709e9f077",
       "max": 2239866761.0,
       "min": 0.0,
       "orientation": "horizontal",
       "style": "IPY_MODEL_f2e84b827c0c411b8011d201caeff079",
       "value": 2239866761.0
      }
     },
     "7d92b3a94b8d486b90a35b145f6f836f": {
      "model_module": "@jupyter-widgets/base",
      "model_module_version": "1.2.0",
      "model_name": "LayoutModel",
      "state": {
       "_model_module": "@jupyter-widgets/base",
       "_model_module_version": "1.2.0",
       "_model_name": "LayoutModel",
       "_view_count": null,
       "_view_module": "@jupyter-widgets/base",
       "_view_module_version": "1.2.0",
       "_view_name": "LayoutView",
       "align_content": null,
       "align_items": null,
       "align_self": null,
       "border": null,
       "bottom": null,
       "display": null,
       "flex": null,
       "flex_flow": null,
       "grid_area": null,
       "grid_auto_columns": null,
       "grid_auto_flow": null,
       "grid_auto_rows": null,
       "grid_column": null,
       "grid_gap": null,
       "grid_row": null,
       "grid_template_areas": null,
       "grid_template_columns": null,
       "grid_template_rows": null,
       "height": null,
       "justify_content": null,
       "justify_items": null,
       "left": null,
       "margin": null,
       "max_height": null,
       "max_width": null,
       "min_height": null,
       "min_width": null,
       "object_fit": null,
       "object_position": null,
       "order": null,
       "overflow": null,
       "overflow_x": null,
       "overflow_y": null,
       "padding": null,
       "right": null,
       "top": null,
       "visibility": null,
       "width": null
      }
     },
     "83540c22b4ad4e3fad98f896c0de328b": {
      "model_module": "@jupyter-widgets/controls",
      "model_module_version": "1.5.0",
      "model_name": "HTMLModel",
      "state": {
       "_dom_classes": [],
       "_model_module": "@jupyter-widgets/controls",
       "_model_module_version": "1.5.0",
       "_model_name": "HTMLModel",
       "_view_count": null,
       "_view_module": "@jupyter-widgets/controls",
       "_view_module_version": "1.5.0",
       "_view_name": "HTMLView",
       "description": "",
       "description_tooltip": null,
       "layout": "IPY_MODEL_2ec2d4bde8b54dc3b14df5fa7a94e33d",
       "placeholder": "​",
       "style": "IPY_MODEL_62e6393b4b974035ae754c725dfadb2b",
       "value": "Downloading: 100%"
      }
     },
     "862ac8124fe84dd2a2928b8dcf1d435b": {
      "model_module": "@jupyter-widgets/controls",
      "model_module_version": "1.5.0",
      "model_name": "HTMLModel",
      "state": {
       "_dom_classes": [],
       "_model_module": "@jupyter-widgets/controls",
       "_model_module_version": "1.5.0",
       "_model_name": "HTMLModel",
       "_view_count": null,
       "_view_module": "@jupyter-widgets/controls",
       "_view_module_version": "1.5.0",
       "_view_name": "HTMLView",
       "description": "",
       "description_tooltip": null,
       "layout": "IPY_MODEL_74247155fce3485a919b03650e727089",
       "placeholder": "​",
       "style": "IPY_MODEL_48e7a34b04ad427eb3501b4c5be207de",
       "value": "Downloading: 100%"
      }
     },
     "8ac43e4a80c946c0bf0753b44fe536e6": {
      "model_module": "@jupyter-widgets/base",
      "model_module_version": "1.2.0",
      "model_name": "LayoutModel",
      "state": {
       "_model_module": "@jupyter-widgets/base",
       "_model_module_version": "1.2.0",
       "_model_name": "LayoutModel",
       "_view_count": null,
       "_view_module": "@jupyter-widgets/base",
       "_view_module_version": "1.2.0",
       "_view_name": "LayoutView",
       "align_content": null,
       "align_items": null,
       "align_self": null,
       "border": null,
       "bottom": null,
       "display": null,
       "flex": null,
       "flex_flow": null,
       "grid_area": null,
       "grid_auto_columns": null,
       "grid_auto_flow": null,
       "grid_auto_rows": null,
       "grid_column": null,
       "grid_gap": null,
       "grid_row": null,
       "grid_template_areas": null,
       "grid_template_columns": null,
       "grid_template_rows": null,
       "height": null,
       "justify_content": null,
       "justify_items": null,
       "left": null,
       "margin": null,
       "max_height": null,
       "max_width": null,
       "min_height": null,
       "min_width": null,
       "object_fit": null,
       "object_position": null,
       "order": null,
       "overflow": null,
       "overflow_x": null,
       "overflow_y": null,
       "padding": null,
       "right": null,
       "top": null,
       "visibility": null,
       "width": null
      }
     },
     "9481d257838b46279d9c7c239134decb": {
      "model_module": "@jupyter-widgets/controls",
      "model_module_version": "1.5.0",
      "model_name": "FloatProgressModel",
      "state": {
       "_dom_classes": [],
       "_model_module": "@jupyter-widgets/controls",
       "_model_module_version": "1.5.0",
       "_model_name": "FloatProgressModel",
       "_view_count": null,
       "_view_module": "@jupyter-widgets/controls",
       "_view_module_version": "1.5.0",
       "_view_name": "ProgressView",
       "bar_style": "success",
       "description": "",
       "description_tooltip": null,
       "layout": "IPY_MODEL_20df9621e419425bac2e8b22cd0d2455",
       "max": 5069051.0,
       "min": 0.0,
       "orientation": "horizontal",
       "style": "IPY_MODEL_47698e0fa90545578b1588f685b47422",
       "value": 5069051.0
      }
     },
     "ac0ff0f7d4d543e8b83b85657149157f": {
      "model_module": "@jupyter-widgets/controls",
      "model_module_version": "1.5.0",
      "model_name": "HBoxModel",
      "state": {
       "_dom_classes": [],
       "_model_module": "@jupyter-widgets/controls",
       "_model_module_version": "1.5.0",
       "_model_name": "HBoxModel",
       "_view_count": null,
       "_view_module": "@jupyter-widgets/controls",
       "_view_module_version": "1.5.0",
       "_view_name": "HBoxView",
       "box_style": "",
       "children": [
        "IPY_MODEL_d4008b4c4081441b8c9706ab39accb31",
        "IPY_MODEL_5735bb5abc344db294c23556b8cf8c82",
        "IPY_MODEL_c2318cd15a7e4bfbb7bda4c2477e39c8"
       ],
       "layout": "IPY_MODEL_7d92b3a94b8d486b90a35b145f6f836f"
      }
     },
     "ad924a0422c045a9b9cc54dbf2567dd3": {
      "model_module": "@jupyter-widgets/controls",
      "model_module_version": "1.5.0",
      "model_name": "DescriptionStyleModel",
      "state": {
       "_model_module": "@jupyter-widgets/controls",
       "_model_module_version": "1.5.0",
       "_model_name": "DescriptionStyleModel",
       "_view_count": null,
       "_view_module": "@jupyter-widgets/base",
       "_view_module_version": "1.2.0",
       "_view_name": "StyleView",
       "description_width": ""
      }
     },
     "b24139e1cb384d3aa6498b8b6b8342be": {
      "model_module": "@jupyter-widgets/controls",
      "model_module_version": "1.5.0",
      "model_name": "HTMLModel",
      "state": {
       "_dom_classes": [],
       "_model_module": "@jupyter-widgets/controls",
       "_model_module_version": "1.5.0",
       "_model_name": "HTMLModel",
       "_view_count": null,
       "_view_module": "@jupyter-widgets/controls",
       "_view_module_version": "1.5.0",
       "_view_name": "HTMLView",
       "description": "",
       "description_tooltip": null,
       "layout": "IPY_MODEL_f992bbb9d676477892308d3b732ac2de",
       "placeholder": "​",
       "style": "IPY_MODEL_5972405b71a54b17baf1c02818328690",
       "value": " 2.24G/2.24G [01:05&lt;00:00, 36.2MB/s]"
      }
     },
     "b499008ad3e34d18bb0387a8390fda62": {
      "model_module": "@jupyter-widgets/controls",
      "model_module_version": "1.5.0",
      "model_name": "DescriptionStyleModel",
      "state": {
       "_model_module": "@jupyter-widgets/controls",
       "_model_module_version": "1.5.0",
       "_model_name": "DescriptionStyleModel",
       "_view_count": null,
       "_view_module": "@jupyter-widgets/base",
       "_view_module_version": "1.2.0",
       "_view_name": "StyleView",
       "description_width": ""
      }
     },
     "b5a1355dd5e642a996881dc6e3699e8c": {
      "model_module": "@jupyter-widgets/controls",
      "model_module_version": "1.5.0",
      "model_name": "FloatProgressModel",
      "state": {
       "_dom_classes": [],
       "_model_module": "@jupyter-widgets/controls",
       "_model_module_version": "1.5.0",
       "_model_name": "FloatProgressModel",
       "_view_count": null,
       "_view_module": "@jupyter-widgets/controls",
       "_view_module_version": "1.5.0",
       "_view_name": "ProgressView",
       "bar_style": "success",
       "description": "",
       "description_tooltip": null,
       "layout": "IPY_MODEL_d4ad978677024e9d93c27353c87d263f",
       "max": 2240097289.0,
       "min": 0.0,
       "orientation": "horizontal",
       "style": "IPY_MODEL_5f94446e08e6412b826470db388ad2d0",
       "value": 2240097289.0
      }
     },
     "bad1d909251f4b8f9d1ae46709e9f077": {
      "model_module": "@jupyter-widgets/base",
      "model_module_version": "1.2.0",
      "model_name": "LayoutModel",
      "state": {
       "_model_module": "@jupyter-widgets/base",
       "_model_module_version": "1.2.0",
       "_model_name": "LayoutModel",
       "_view_count": null,
       "_view_module": "@jupyter-widgets/base",
       "_view_module_version": "1.2.0",
       "_view_name": "LayoutView",
       "align_content": null,
       "align_items": null,
       "align_self": null,
       "border": null,
       "bottom": null,
       "display": null,
       "flex": null,
       "flex_flow": null,
       "grid_area": null,
       "grid_auto_columns": null,
       "grid_auto_flow": null,
       "grid_auto_rows": null,
       "grid_column": null,
       "grid_gap": null,
       "grid_row": null,
       "grid_template_areas": null,
       "grid_template_columns": null,
       "grid_template_rows": null,
       "height": null,
       "justify_content": null,
       "justify_items": null,
       "left": null,
       "margin": null,
       "max_height": null,
       "max_width": null,
       "min_height": null,
       "min_width": null,
       "object_fit": null,
       "object_position": null,
       "order": null,
       "overflow": null,
       "overflow_x": null,
       "overflow_y": null,
       "padding": null,
       "right": null,
       "top": null,
       "visibility": null,
       "width": null
      }
     },
     "bb71ae6eefa6448db92da32c06b701e9": {
      "model_module": "@jupyter-widgets/base",
      "model_module_version": "1.2.0",
      "model_name": "LayoutModel",
      "state": {
       "_model_module": "@jupyter-widgets/base",
       "_model_module_version": "1.2.0",
       "_model_name": "LayoutModel",
       "_view_count": null,
       "_view_module": "@jupyter-widgets/base",
       "_view_module_version": "1.2.0",
       "_view_name": "LayoutView",
       "align_content": null,
       "align_items": null,
       "align_self": null,
       "border": null,
       "bottom": null,
       "display": null,
       "flex": null,
       "flex_flow": null,
       "grid_area": null,
       "grid_auto_columns": null,
       "grid_auto_flow": null,
       "grid_auto_rows": null,
       "grid_column": null,
       "grid_gap": null,
       "grid_row": null,
       "grid_template_areas": null,
       "grid_template_columns": null,
       "grid_template_rows": null,
       "height": null,
       "justify_content": null,
       "justify_items": null,
       "left": null,
       "margin": null,
       "max_height": null,
       "max_width": null,
       "min_height": null,
       "min_width": null,
       "object_fit": null,
       "object_position": null,
       "order": null,
       "overflow": null,
       "overflow_x": null,
       "overflow_y": null,
       "padding": null,
       "right": null,
       "top": null,
       "visibility": null,
       "width": null
      }
     },
     "bc71790a2b6b44518b262ed5aa722007": {
      "model_module": "@jupyter-widgets/controls",
      "model_module_version": "1.5.0",
      "model_name": "HBoxModel",
      "state": {
       "_dom_classes": [],
       "_model_module": "@jupyter-widgets/controls",
       "_model_module_version": "1.5.0",
       "_model_name": "HBoxModel",
       "_view_count": null,
       "_view_module": "@jupyter-widgets/controls",
       "_view_module_version": "1.5.0",
       "_view_name": "HBoxView",
       "box_style": "",
       "children": [
        "IPY_MODEL_e455c1a5e5e04953a79a29869c9a0f8a",
        "IPY_MODEL_e0af9bf22a184942ad0c4e961bc17e3d",
        "IPY_MODEL_60ad3216aa394ff3aedad8cefe83e8f6"
       ],
       "layout": "IPY_MODEL_12c961b191ce4d0d9db6cd9e4780dd4f"
      }
     },
     "bd29883349cd484c95443352381e741e": {
      "model_module": "@jupyter-widgets/controls",
      "model_module_version": "1.5.0",
      "model_name": "HBoxModel",
      "state": {
       "_dom_classes": [],
       "_model_module": "@jupyter-widgets/controls",
       "_model_module_version": "1.5.0",
       "_model_name": "HBoxModel",
       "_view_count": null,
       "_view_module": "@jupyter-widgets/controls",
       "_view_module_version": "1.5.0",
       "_view_name": "HBoxView",
       "box_style": "",
       "children": [
        "IPY_MODEL_862ac8124fe84dd2a2928b8dcf1d435b",
        "IPY_MODEL_b5a1355dd5e642a996881dc6e3699e8c",
        "IPY_MODEL_b24139e1cb384d3aa6498b8b6b8342be"
       ],
       "layout": "IPY_MODEL_bb71ae6eefa6448db92da32c06b701e9"
      }
     },
     "bd490334a4974d9ea069b731f14228da": {
      "model_module": "@jupyter-widgets/controls",
      "model_module_version": "1.5.0",
      "model_name": "DescriptionStyleModel",
      "state": {
       "_model_module": "@jupyter-widgets/controls",
       "_model_module_version": "1.5.0",
       "_model_name": "DescriptionStyleModel",
       "_view_count": null,
       "_view_module": "@jupyter-widgets/base",
       "_view_module_version": "1.2.0",
       "_view_name": "StyleView",
       "description_width": ""
      }
     },
     "c02d4371ae6340b7a3df378d6971a70c": {
      "model_module": "@jupyter-widgets/controls",
      "model_module_version": "1.5.0",
      "model_name": "DescriptionStyleModel",
      "state": {
       "_model_module": "@jupyter-widgets/controls",
       "_model_module_version": "1.5.0",
       "_model_name": "DescriptionStyleModel",
       "_view_count": null,
       "_view_module": "@jupyter-widgets/base",
       "_view_module_version": "1.2.0",
       "_view_name": "StyleView",
       "description_width": ""
      }
     },
     "c2318cd15a7e4bfbb7bda4c2477e39c8": {
      "model_module": "@jupyter-widgets/controls",
      "model_module_version": "1.5.0",
      "model_name": "HTMLModel",
      "state": {
       "_dom_classes": [],
       "_model_module": "@jupyter-widgets/controls",
       "_model_module_version": "1.5.0",
       "_model_name": "HTMLModel",
       "_view_count": null,
       "_view_module": "@jupyter-widgets/controls",
       "_view_module_version": "1.5.0",
       "_view_name": "HTMLView",
       "description": "",
       "description_tooltip": null,
       "layout": "IPY_MODEL_dc16c5287085417ea442692e949414dc",
       "placeholder": "​",
       "style": "IPY_MODEL_f8715cf8f7564d93a9653b2b5ee8767e",
       "value": " 616/616 [00:00&lt;00:00, 22.8kB/s]"
      }
     },
     "c39c44e417ee45b6863003db539e6318": {
      "model_module": "@jupyter-widgets/controls",
      "model_module_version": "1.5.0",
      "model_name": "DescriptionStyleModel",
      "state": {
       "_model_module": "@jupyter-widgets/controls",
       "_model_module_version": "1.5.0",
       "_model_name": "DescriptionStyleModel",
       "_view_count": null,
       "_view_module": "@jupyter-widgets/base",
       "_view_module_version": "1.2.0",
       "_view_name": "StyleView",
       "description_width": ""
      }
     },
     "cbc3d8227c6a420394bec2b1337cccb9": {
      "model_module": "@jupyter-widgets/controls",
      "model_module_version": "1.5.0",
      "model_name": "HBoxModel",
      "state": {
       "_dom_classes": [],
       "_model_module": "@jupyter-widgets/controls",
       "_model_module_version": "1.5.0",
       "_model_name": "HBoxModel",
       "_view_count": null,
       "_view_module": "@jupyter-widgets/controls",
       "_view_module_version": "1.5.0",
       "_view_name": "HBoxView",
       "box_style": "",
       "children": [
        "IPY_MODEL_e738196567da47ccbca6aab9ea5172f9",
        "IPY_MODEL_9481d257838b46279d9c7c239134decb",
        "IPY_MODEL_ebfdd41d9a774e4e80357900886043ff"
       ],
       "layout": "IPY_MODEL_2f4b88bef99348a4b40d57574dbf82f5"
      }
     },
     "d00a1b60eb4043c8954c83823624f225": {
      "model_module": "@jupyter-widgets/base",
      "model_module_version": "1.2.0",
      "model_name": "LayoutModel",
      "state": {
       "_model_module": "@jupyter-widgets/base",
       "_model_module_version": "1.2.0",
       "_model_name": "LayoutModel",
       "_view_count": null,
       "_view_module": "@jupyter-widgets/base",
       "_view_module_version": "1.2.0",
       "_view_name": "LayoutView",
       "align_content": null,
       "align_items": null,
       "align_self": null,
       "border": null,
       "bottom": null,
       "display": null,
       "flex": null,
       "flex_flow": null,
       "grid_area": null,
       "grid_auto_columns": null,
       "grid_auto_flow": null,
       "grid_auto_rows": null,
       "grid_column": null,
       "grid_gap": null,
       "grid_row": null,
       "grid_template_areas": null,
       "grid_template_columns": null,
       "grid_template_rows": null,
       "height": null,
       "justify_content": null,
       "justify_items": null,
       "left": null,
       "margin": null,
       "max_height": null,
       "max_width": null,
       "min_height": null,
       "min_width": null,
       "object_fit": null,
       "object_position": null,
       "order": null,
       "overflow": null,
       "overflow_x": null,
       "overflow_y": null,
       "padding": null,
       "right": null,
       "top": null,
       "visibility": null,
       "width": null
      }
     },
     "d4008b4c4081441b8c9706ab39accb31": {
      "model_module": "@jupyter-widgets/controls",
      "model_module_version": "1.5.0",
      "model_name": "HTMLModel",
      "state": {
       "_dom_classes": [],
       "_model_module": "@jupyter-widgets/controls",
       "_model_module_version": "1.5.0",
       "_model_name": "HTMLModel",
       "_view_count": null,
       "_view_module": "@jupyter-widgets/controls",
       "_view_module_version": "1.5.0",
       "_view_name": "HTMLView",
       "description": "",
       "description_tooltip": null,
       "layout": "IPY_MODEL_1ed0232b182f4c2094d3b739b04b4550",
       "placeholder": "​",
       "style": "IPY_MODEL_c39c44e417ee45b6863003db539e6318",
       "value": "Downloading: 100%"
      }
     },
     "d4ad978677024e9d93c27353c87d263f": {
      "model_module": "@jupyter-widgets/base",
      "model_module_version": "1.2.0",
      "model_name": "LayoutModel",
      "state": {
       "_model_module": "@jupyter-widgets/base",
       "_model_module_version": "1.2.0",
       "_model_name": "LayoutModel",
       "_view_count": null,
       "_view_module": "@jupyter-widgets/base",
       "_view_module_version": "1.2.0",
       "_view_name": "LayoutView",
       "align_content": null,
       "align_items": null,
       "align_self": null,
       "border": null,
       "bottom": null,
       "display": null,
       "flex": null,
       "flex_flow": null,
       "grid_area": null,
       "grid_auto_columns": null,
       "grid_auto_flow": null,
       "grid_auto_rows": null,
       "grid_column": null,
       "grid_gap": null,
       "grid_row": null,
       "grid_template_areas": null,
       "grid_template_columns": null,
       "grid_template_rows": null,
       "height": null,
       "justify_content": null,
       "justify_items": null,
       "left": null,
       "margin": null,
       "max_height": null,
       "max_width": null,
       "min_height": null,
       "min_width": null,
       "object_fit": null,
       "object_position": null,
       "order": null,
       "overflow": null,
       "overflow_x": null,
       "overflow_y": null,
       "padding": null,
       "right": null,
       "top": null,
       "visibility": null,
       "width": null
      }
     },
     "d9602be5dc40449d995258877dc4f128": {
      "model_module": "@jupyter-widgets/controls",
      "model_module_version": "1.5.0",
      "model_name": "HTMLModel",
      "state": {
       "_dom_classes": [],
       "_model_module": "@jupyter-widgets/controls",
       "_model_module_version": "1.5.0",
       "_model_name": "HTMLModel",
       "_view_count": null,
       "_view_module": "@jupyter-widgets/controls",
       "_view_module_version": "1.5.0",
       "_view_name": "HTMLView",
       "description": "",
       "description_tooltip": null,
       "layout": "IPY_MODEL_5901df212da6470d9d73168439837e0e",
       "placeholder": "​",
       "style": "IPY_MODEL_bd490334a4974d9ea069b731f14228da",
       "value": " 2.24G/2.24G [01:20&lt;00:00, 31.9MB/s]"
      }
     },
     "dc16c5287085417ea442692e949414dc": {
      "model_module": "@jupyter-widgets/base",
      "model_module_version": "1.2.0",
      "model_name": "LayoutModel",
      "state": {
       "_model_module": "@jupyter-widgets/base",
       "_model_module_version": "1.2.0",
       "_model_name": "LayoutModel",
       "_view_count": null,
       "_view_module": "@jupyter-widgets/base",
       "_view_module_version": "1.2.0",
       "_view_name": "LayoutView",
       "align_content": null,
       "align_items": null,
       "align_self": null,
       "border": null,
       "bottom": null,
       "display": null,
       "flex": null,
       "flex_flow": null,
       "grid_area": null,
       "grid_auto_columns": null,
       "grid_auto_flow": null,
       "grid_auto_rows": null,
       "grid_column": null,
       "grid_gap": null,
       "grid_row": null,
       "grid_template_areas": null,
       "grid_template_columns": null,
       "grid_template_rows": null,
       "height": null,
       "justify_content": null,
       "justify_items": null,
       "left": null,
       "margin": null,
       "max_height": null,
       "max_width": null,
       "min_height": null,
       "min_width": null,
       "object_fit": null,
       "object_position": null,
       "order": null,
       "overflow": null,
       "overflow_x": null,
       "overflow_y": null,
       "padding": null,
       "right": null,
       "top": null,
       "visibility": null,
       "width": null
      }
     },
     "dc1bd90938d049258349cff643728ad2": {
      "model_module": "@jupyter-widgets/base",
      "model_module_version": "1.2.0",
      "model_name": "LayoutModel",
      "state": {
       "_model_module": "@jupyter-widgets/base",
       "_model_module_version": "1.2.0",
       "_model_name": "LayoutModel",
       "_view_count": null,
       "_view_module": "@jupyter-widgets/base",
       "_view_module_version": "1.2.0",
       "_view_name": "LayoutView",
       "align_content": null,
       "align_items": null,
       "align_self": null,
       "border": null,
       "bottom": null,
       "display": null,
       "flex": null,
       "flex_flow": null,
       "grid_area": null,
       "grid_auto_columns": null,
       "grid_auto_flow": null,
       "grid_auto_rows": null,
       "grid_column": null,
       "grid_gap": null,
       "grid_row": null,
       "grid_template_areas": null,
       "grid_template_columns": null,
       "grid_template_rows": null,
       "height": null,
       "justify_content": null,
       "justify_items": null,
       "left": null,
       "margin": null,
       "max_height": null,
       "max_width": null,
       "min_height": null,
       "min_width": null,
       "object_fit": null,
       "object_position": null,
       "order": null,
       "overflow": null,
       "overflow_x": null,
       "overflow_y": null,
       "padding": null,
       "right": null,
       "top": null,
       "visibility": null,
       "width": null
      }
     },
     "ddb4acfe7f744d59b44b5054af1c1318": {
      "model_module": "@jupyter-widgets/base",
      "model_module_version": "1.2.0",
      "model_name": "LayoutModel",
      "state": {
       "_model_module": "@jupyter-widgets/base",
       "_model_module_version": "1.2.0",
       "_model_name": "LayoutModel",
       "_view_count": null,
       "_view_module": "@jupyter-widgets/base",
       "_view_module_version": "1.2.0",
       "_view_name": "LayoutView",
       "align_content": null,
       "align_items": null,
       "align_self": null,
       "border": null,
       "bottom": null,
       "display": null,
       "flex": null,
       "flex_flow": null,
       "grid_area": null,
       "grid_auto_columns": null,
       "grid_auto_flow": null,
       "grid_auto_rows": null,
       "grid_column": null,
       "grid_gap": null,
       "grid_row": null,
       "grid_template_areas": null,
       "grid_template_columns": null,
       "grid_template_rows": null,
       "height": null,
       "justify_content": null,
       "justify_items": null,
       "left": null,
       "margin": null,
       "max_height": null,
       "max_width": null,
       "min_height": null,
       "min_width": null,
       "object_fit": null,
       "object_position": null,
       "order": null,
       "overflow": null,
       "overflow_x": null,
       "overflow_y": null,
       "padding": null,
       "right": null,
       "top": null,
       "visibility": null,
       "width": null
      }
     },
     "e0af9bf22a184942ad0c4e961bc17e3d": {
      "model_module": "@jupyter-widgets/controls",
      "model_module_version": "1.5.0",
      "model_name": "FloatProgressModel",
      "state": {
       "_dom_classes": [],
       "_model_module": "@jupyter-widgets/controls",
       "_model_module_version": "1.5.0",
       "_model_name": "FloatProgressModel",
       "_view_count": null,
       "_view_module": "@jupyter-widgets/controls",
       "_view_module_version": "1.5.0",
       "_view_name": "ProgressView",
       "bar_style": "success",
       "description": "",
       "description_tooltip": null,
       "layout": "IPY_MODEL_54a16672941b45a4b0840f16d38f6288",
       "max": 9096718.0,
       "min": 0.0,
       "orientation": "horizontal",
       "style": "IPY_MODEL_11e6af40d15c46b8a36f917f48fe318f",
       "value": 9096718.0
      }
     },
     "e455c1a5e5e04953a79a29869c9a0f8a": {
      "model_module": "@jupyter-widgets/controls",
      "model_module_version": "1.5.0",
      "model_name": "HTMLModel",
      "state": {
       "_dom_classes": [],
       "_model_module": "@jupyter-widgets/controls",
       "_model_module_version": "1.5.0",
       "_model_name": "HTMLModel",
       "_view_count": null,
       "_view_module": "@jupyter-widgets/controls",
       "_view_module_version": "1.5.0",
       "_view_name": "HTMLView",
       "description": "",
       "description_tooltip": null,
       "layout": "IPY_MODEL_ddb4acfe7f744d59b44b5054af1c1318",
       "placeholder": "​",
       "style": "IPY_MODEL_296cc2ccde4b4d1ea7a1b310c46cad49",
       "value": "Downloading: 100%"
      }
     },
     "e738196567da47ccbca6aab9ea5172f9": {
      "model_module": "@jupyter-widgets/controls",
      "model_module_version": "1.5.0",
      "model_name": "HTMLModel",
      "state": {
       "_dom_classes": [],
       "_model_module": "@jupyter-widgets/controls",
       "_model_module_version": "1.5.0",
       "_model_name": "HTMLModel",
       "_view_count": null,
       "_view_module": "@jupyter-widgets/controls",
       "_view_module_version": "1.5.0",
       "_view_name": "HTMLView",
       "description": "",
       "description_tooltip": null,
       "layout": "IPY_MODEL_fb00a59f464f4590b3b7b9161dc5476b",
       "placeholder": "​",
       "style": "IPY_MODEL_ad924a0422c045a9b9cc54dbf2567dd3",
       "value": "Downloading: 100%"
      }
     },
     "ebfdd41d9a774e4e80357900886043ff": {
      "model_module": "@jupyter-widgets/controls",
      "model_module_version": "1.5.0",
      "model_name": "HTMLModel",
      "state": {
       "_dom_classes": [],
       "_model_module": "@jupyter-widgets/controls",
       "_model_module_version": "1.5.0",
       "_model_name": "HTMLModel",
       "_view_count": null,
       "_view_module": "@jupyter-widgets/controls",
       "_view_module_version": "1.5.0",
       "_view_name": "HTMLView",
       "description": "",
       "description_tooltip": null,
       "layout": "IPY_MODEL_3d5d0424091d4b5e8f5366054b8f6b42",
       "placeholder": "​",
       "style": "IPY_MODEL_4d97f25ecf2f4c09a73e62ba1fb4e634",
       "value": " 4.83M/4.83M [00:00&lt;00:00, 6.53MB/s]"
      }
     },
     "f2e84b827c0c411b8011d201caeff079": {
      "model_module": "@jupyter-widgets/controls",
      "model_module_version": "1.5.0",
      "model_name": "ProgressStyleModel",
      "state": {
       "_model_module": "@jupyter-widgets/controls",
       "_model_module_version": "1.5.0",
       "_model_name": "ProgressStyleModel",
       "_view_count": null,
       "_view_module": "@jupyter-widgets/base",
       "_view_module_version": "1.2.0",
       "_view_name": "StyleView",
       "bar_color": null,
       "description_width": ""
      }
     },
     "f53a152920624a4e9d25cc2770ccf061": {
      "model_module": "@jupyter-widgets/controls",
      "model_module_version": "1.5.0",
      "model_name": "DescriptionStyleModel",
      "state": {
       "_model_module": "@jupyter-widgets/controls",
       "_model_module_version": "1.5.0",
       "_model_name": "DescriptionStyleModel",
       "_view_count": null,
       "_view_module": "@jupyter-widgets/base",
       "_view_module_version": "1.2.0",
       "_view_name": "StyleView",
       "description_width": ""
      }
     },
     "f6c7983f648645d681d3904cf02f0e5b": {
      "model_module": "@jupyter-widgets/controls",
      "model_module_version": "1.5.0",
      "model_name": "FloatProgressModel",
      "state": {
       "_dom_classes": [],
       "_model_module": "@jupyter-widgets/controls",
       "_model_module_version": "1.5.0",
       "_model_name": "FloatProgressModel",
       "_view_count": null,
       "_view_module": "@jupyter-widgets/controls",
       "_view_module_version": "1.5.0",
       "_view_name": "ProgressView",
       "bar_style": "success",
       "description": "",
       "description_tooltip": null,
       "layout": "IPY_MODEL_08584e557a3e4968b36a1058082422cc",
       "max": 432176557.0,
       "min": 0.0,
       "orientation": "horizontal",
       "style": "IPY_MODEL_309dde2c534b49b7a0e60624386d1fc1",
       "value": 432176557.0
      }
     },
     "f8715cf8f7564d93a9653b2b5ee8767e": {
      "model_module": "@jupyter-widgets/controls",
      "model_module_version": "1.5.0",
      "model_name": "DescriptionStyleModel",
      "state": {
       "_model_module": "@jupyter-widgets/controls",
       "_model_module_version": "1.5.0",
       "_model_name": "DescriptionStyleModel",
       "_view_count": null,
       "_view_module": "@jupyter-widgets/base",
       "_view_module_version": "1.2.0",
       "_view_name": "StyleView",
       "description_width": ""
      }
     },
     "f992bbb9d676477892308d3b732ac2de": {
      "model_module": "@jupyter-widgets/base",
      "model_module_version": "1.2.0",
      "model_name": "LayoutModel",
      "state": {
       "_model_module": "@jupyter-widgets/base",
       "_model_module_version": "1.2.0",
       "_model_name": "LayoutModel",
       "_view_count": null,
       "_view_module": "@jupyter-widgets/base",
       "_view_module_version": "1.2.0",
       "_view_name": "LayoutView",
       "align_content": null,
       "align_items": null,
       "align_self": null,
       "border": null,
       "bottom": null,
       "display": null,
       "flex": null,
       "flex_flow": null,
       "grid_area": null,
       "grid_auto_columns": null,
       "grid_auto_flow": null,
       "grid_auto_rows": null,
       "grid_column": null,
       "grid_gap": null,
       "grid_row": null,
       "grid_template_areas": null,
       "grid_template_columns": null,
       "grid_template_rows": null,
       "height": null,
       "justify_content": null,
       "justify_items": null,
       "left": null,
       "margin": null,
       "max_height": null,
       "max_width": null,
       "min_height": null,
       "min_width": null,
       "object_fit": null,
       "object_position": null,
       "order": null,
       "overflow": null,
       "overflow_x": null,
       "overflow_y": null,
       "padding": null,
       "right": null,
       "top": null,
       "visibility": null,
       "width": null
      }
     },
     "fb00a59f464f4590b3b7b9161dc5476b": {
      "model_module": "@jupyter-widgets/base",
      "model_module_version": "1.2.0",
      "model_name": "LayoutModel",
      "state": {
       "_model_module": "@jupyter-widgets/base",
       "_model_module_version": "1.2.0",
       "_model_name": "LayoutModel",
       "_view_count": null,
       "_view_module": "@jupyter-widgets/base",
       "_view_module_version": "1.2.0",
       "_view_name": "LayoutView",
       "align_content": null,
       "align_items": null,
       "align_self": null,
       "border": null,
       "bottom": null,
       "display": null,
       "flex": null,
       "flex_flow": null,
       "grid_area": null,
       "grid_auto_columns": null,
       "grid_auto_flow": null,
       "grid_auto_rows": null,
       "grid_column": null,
       "grid_gap": null,
       "grid_row": null,
       "grid_template_areas": null,
       "grid_template_columns": null,
       "grid_template_rows": null,
       "height": null,
       "justify_content": null,
       "justify_items": null,
       "left": null,
       "margin": null,
       "max_height": null,
       "max_width": null,
       "min_height": null,
       "min_width": null,
       "object_fit": null,
       "object_position": null,
       "order": null,
       "overflow": null,
       "overflow_x": null,
       "overflow_y": null,
       "padding": null,
       "right": null,
       "top": null,
       "visibility": null,
       "width": null
      }
     }
    },
    "version_major": 2,
    "version_minor": 0
   }
  }
 },
 "nbformat": 4,
 "nbformat_minor": 5
}
