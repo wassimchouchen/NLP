{
 "cells": [
  {
   "cell_type": "code",
   "execution_count": 1,
   "id": "94be9cf1",
   "metadata": {
    "_cell_guid": "b1076dfc-b9ad-4769-8c92-a6c4dae69d19",
    "_uuid": "8f2839f25d086af736a60e9eeb907d3b93b6e0e5",
    "execution": {
     "iopub.execute_input": "2022-07-05T12:31:32.621035Z",
     "iopub.status.busy": "2022-07-05T12:31:32.619839Z",
     "iopub.status.idle": "2022-07-05T12:31:42.330817Z",
     "shell.execute_reply": "2022-07-05T12:31:42.330050Z",
     "shell.execute_reply.started": "2022-07-05T12:01:36.103455Z"
    },
    "papermill": {
     "duration": 9.752159,
     "end_time": "2022-07-05T12:31:42.330991",
     "exception": false,
     "start_time": "2022-07-05T12:31:32.578832",
     "status": "completed"
    },
    "tags": []
   },
   "outputs": [],
   "source": [
    "import os\n",
    "\n",
    "import random\n",
    "import numpy as np\n",
    "\n",
    "import pandas as pd\n",
    "import torch\n",
    "from torch.utils.data import Dataset, random_split\n",
    "from sklearn.model_selection import train_test_split \n",
    "from transformers import (\n",
    "    AdamW,\n",
    "    Trainer,\n",
    "    TrainingArguments,\n",
    "    AutoTokenizer,\n",
    "    AutoModelForSequenceClassification,\n",
    "    get_cosine_schedule_with_warmup,\n",
    ")\n",
    "from sklearn.preprocessing import LabelEncoder\n",
    "from sklearn.metrics import accuracy_score\n",
    "from sklearn import preprocessing\n",
    "from sklearn.metrics import accuracy_score\n",
    "le = preprocessing.LabelEncoder()\n",
    "import warnings\n",
    "warnings.filterwarnings('ignore')"
   ]
  },
  {
   "cell_type": "code",
   "execution_count": 2,
   "id": "5c51ba76",
   "metadata": {
    "execution": {
     "iopub.execute_input": "2022-07-05T12:31:42.401647Z",
     "iopub.status.busy": "2022-07-05T12:31:42.400970Z",
     "iopub.status.idle": "2022-07-05T12:31:42.438328Z",
     "shell.execute_reply": "2022-07-05T12:31:42.437807Z",
     "shell.execute_reply.started": "2022-07-05T12:01:36.116266Z"
    },
    "papermill": {
     "duration": 0.073708,
     "end_time": "2022-07-05T12:31:42.438481",
     "exception": false,
     "start_time": "2022-07-05T12:31:42.364773",
     "status": "completed"
    },
    "tags": []
   },
   "outputs": [
    {
     "data": {
      "text/plain": [
       "(191, 3)"
      ]
     },
     "execution_count": 2,
     "metadata": {},
     "output_type": "execute_result"
    }
   ],
   "source": [
    "new_data=pd.read_csv(\"../input/csvvvv/Classeur 1 (5).csv\")\n",
    "new_data.drop([\"Y\",\"Word Count\",\"Language\",' '], axis=1, inplace=True)\n",
    "new_data.columns = [\"text\", \"CEFR Review\",\"CEFR Level_Samar\"]\n",
    "new_data.shape"
   ]
  },
  {
   "cell_type": "code",
   "execution_count": 3,
   "id": "4fe91117",
   "metadata": {
    "execution": {
     "iopub.execute_input": "2022-07-05T12:31:42.511791Z",
     "iopub.status.busy": "2022-07-05T12:31:42.511009Z",
     "iopub.status.idle": "2022-07-05T12:31:42.521854Z",
     "shell.execute_reply": "2022-07-05T12:31:42.522458Z",
     "shell.execute_reply.started": "2022-07-05T12:01:36.304265Z"
    },
    "papermill": {
     "duration": 0.049936,
     "end_time": "2022-07-05T12:31:42.522634",
     "exception": false,
     "start_time": "2022-07-05T12:31:42.472698",
     "status": "completed"
    },
    "tags": []
   },
   "outputs": [
    {
     "data": {
      "text/html": [
       "<div>\n",
       "<style scoped>\n",
       "    .dataframe tbody tr th:only-of-type {\n",
       "        vertical-align: middle;\n",
       "    }\n",
       "\n",
       "    .dataframe tbody tr th {\n",
       "        vertical-align: top;\n",
       "    }\n",
       "\n",
       "    .dataframe thead th {\n",
       "        text-align: right;\n",
       "    }\n",
       "</style>\n",
       "<table border=\"1\" class=\"dataframe\">\n",
       "  <thead>\n",
       "    <tr style=\"text-align: right;\">\n",
       "      <th></th>\n",
       "      <th>text</th>\n",
       "      <th>CEFR Review</th>\n",
       "      <th>CEFR Level_Samar</th>\n",
       "    </tr>\n",
       "  </thead>\n",
       "  <tbody>\n",
       "    <tr>\n",
       "      <th>0</th>\n",
       "      <td>En 1815, M. Charles-François-Bienvenu Myriel é...</td>\n",
       "      <td>A2</td>\n",
       "      <td>C1</td>\n",
       "    </tr>\n",
       "    <tr>\n",
       "      <th>1</th>\n",
       "      <td>Quoique ce détail ne touche en aucune manière ...</td>\n",
       "      <td>C1</td>\n",
       "      <td>C2</td>\n",
       "    </tr>\n",
       "  </tbody>\n",
       "</table>\n",
       "</div>"
      ],
      "text/plain": [
       "                                                text CEFR Review  \\\n",
       "0  En 1815, M. Charles-François-Bienvenu Myriel é...          A2   \n",
       "1  Quoique ce détail ne touche en aucune manière ...          C1   \n",
       "\n",
       "  CEFR Level_Samar  \n",
       "0               C1  \n",
       "1               C2  "
      ]
     },
     "execution_count": 3,
     "metadata": {},
     "output_type": "execute_result"
    }
   ],
   "source": [
    "new_data.head(2)"
   ]
  },
  {
   "cell_type": "markdown",
   "id": "151e7332",
   "metadata": {
    "papermill": {
     "duration": 0.033656,
     "end_time": "2022-07-05T12:31:42.591539",
     "exception": false,
     "start_time": "2022-07-05T12:31:42.557883",
     "status": "completed"
    },
    "tags": []
   },
   "source": [
    "**extract samar dataset**"
   ]
  },
  {
   "cell_type": "code",
   "execution_count": 4,
   "id": "e8b2dec9",
   "metadata": {
    "execution": {
     "iopub.execute_input": "2022-07-05T12:31:42.664137Z",
     "iopub.status.busy": "2022-07-05T12:31:42.663462Z",
     "iopub.status.idle": "2022-07-05T12:31:42.682811Z",
     "shell.execute_reply": "2022-07-05T12:31:42.683356Z",
     "shell.execute_reply.started": "2022-07-05T12:01:36.316933Z"
    },
    "papermill": {
     "duration": 0.05691,
     "end_time": "2022-07-05T12:31:42.683520",
     "exception": false,
     "start_time": "2022-07-05T12:31:42.626610",
     "status": "completed"
    },
    "tags": []
   },
   "outputs": [
    {
     "data": {
      "text/html": [
       "<div>\n",
       "<style scoped>\n",
       "    .dataframe tbody tr th:only-of-type {\n",
       "        vertical-align: middle;\n",
       "    }\n",
       "\n",
       "    .dataframe tbody tr th {\n",
       "        vertical-align: top;\n",
       "    }\n",
       "\n",
       "    .dataframe thead th {\n",
       "        text-align: right;\n",
       "    }\n",
       "</style>\n",
       "<table border=\"1\" class=\"dataframe\">\n",
       "  <thead>\n",
       "    <tr style=\"text-align: right;\">\n",
       "      <th></th>\n",
       "      <th>text</th>\n",
       "      <th>label</th>\n",
       "    </tr>\n",
       "  </thead>\n",
       "  <tbody>\n",
       "    <tr>\n",
       "      <th>0</th>\n",
       "      <td>En 1815, M. Charles-François-Bienvenu Myriel é...</td>\n",
       "      <td>C1</td>\n",
       "    </tr>\n",
       "    <tr>\n",
       "      <th>1</th>\n",
       "      <td>Quoique ce détail ne touche en aucune manière ...</td>\n",
       "      <td>C2</td>\n",
       "    </tr>\n",
       "    <tr>\n",
       "      <th>2</th>\n",
       "      <td>En 1804, M. Myriel était curé de Brignolles. I...</td>\n",
       "      <td>C1</td>\n",
       "    </tr>\n",
       "    <tr>\n",
       "      <th>3</th>\n",
       "      <td>Vers l'époque du couronnement, une petite affa...</td>\n",
       "      <td>C2</td>\n",
       "    </tr>\n",
       "    <tr>\n",
       "      <th>4</th>\n",
       "      <td>—Quel est ce bonhomme qui me regarde?</td>\n",
       "      <td>C1</td>\n",
       "    </tr>\n",
       "  </tbody>\n",
       "</table>\n",
       "</div>"
      ],
      "text/plain": [
       "                                                text label\n",
       "0  En 1815, M. Charles-François-Bienvenu Myriel é...    C1\n",
       "1  Quoique ce détail ne touche en aucune manière ...    C2\n",
       "2  En 1804, M. Myriel était curé de Brignolles. I...    C1\n",
       "3  Vers l'époque du couronnement, une petite affa...    C2\n",
       "4              —Quel est ce bonhomme qui me regarde?    C1"
      ]
     },
     "execution_count": 4,
     "metadata": {},
     "output_type": "execute_result"
    }
   ],
   "source": [
    "mike_20_june_samar=new_data[pd.notnull(new_data['CEFR Level_Samar'])]\n",
    "mike_20_june_samar.columns = [\"text\", \"CEFR Review\",\"label\"]\n",
    "mike_20_june_samar.drop([\"CEFR Review\"],axis=1, inplace=True)\n",
    "mike_20_june_samar.to_csv(\"mike_20_june_samar.csv\" , index=False)\n",
    "mike_20_june_samar.head()"
   ]
  },
  {
   "cell_type": "markdown",
   "id": "5bcae85f",
   "metadata": {
    "papermill": {
     "duration": 0.043037,
     "end_time": "2022-07-05T12:31:42.769189",
     "exception": false,
     "start_time": "2022-07-05T12:31:42.726152",
     "status": "completed"
    },
    "tags": []
   },
   "source": [
    "**extract mike_new dataset**"
   ]
  },
  {
   "cell_type": "code",
   "execution_count": 5,
   "id": "f5e41901",
   "metadata": {
    "execution": {
     "iopub.execute_input": "2022-07-05T12:31:42.855994Z",
     "iopub.status.busy": "2022-07-05T12:31:42.855328Z",
     "iopub.status.idle": "2022-07-05T12:31:42.866779Z",
     "shell.execute_reply": "2022-07-05T12:31:42.867381Z",
     "shell.execute_reply.started": "2022-07-05T12:01:36.335289Z"
    },
    "papermill": {
     "duration": 0.056292,
     "end_time": "2022-07-05T12:31:42.867553",
     "exception": false,
     "start_time": "2022-07-05T12:31:42.811261",
     "status": "completed"
    },
    "tags": []
   },
   "outputs": [
    {
     "data": {
      "text/html": [
       "<div>\n",
       "<style scoped>\n",
       "    .dataframe tbody tr th:only-of-type {\n",
       "        vertical-align: middle;\n",
       "    }\n",
       "\n",
       "    .dataframe tbody tr th {\n",
       "        vertical-align: top;\n",
       "    }\n",
       "\n",
       "    .dataframe thead th {\n",
       "        text-align: right;\n",
       "    }\n",
       "</style>\n",
       "<table border=\"1\" class=\"dataframe\">\n",
       "  <thead>\n",
       "    <tr style=\"text-align: right;\">\n",
       "      <th></th>\n",
       "      <th>text</th>\n",
       "      <th>label</th>\n",
       "    </tr>\n",
       "  </thead>\n",
       "  <tbody>\n",
       "    <tr>\n",
       "      <th>0</th>\n",
       "      <td>En 1815, M. Charles-François-Bienvenu Myriel é...</td>\n",
       "      <td>A2</td>\n",
       "    </tr>\n",
       "    <tr>\n",
       "      <th>1</th>\n",
       "      <td>Quoique ce détail ne touche en aucune manière ...</td>\n",
       "      <td>C1</td>\n",
       "    </tr>\n",
       "    <tr>\n",
       "      <th>2</th>\n",
       "      <td>En 1804, M. Myriel était curé de Brignolles. I...</td>\n",
       "      <td>A2</td>\n",
       "    </tr>\n",
       "    <tr>\n",
       "      <th>3</th>\n",
       "      <td>Vers l'époque du couronnement, une petite affa...</td>\n",
       "      <td>B2</td>\n",
       "    </tr>\n",
       "    <tr>\n",
       "      <th>4</th>\n",
       "      <td>—Quel est ce bonhomme qui me regarde?</td>\n",
       "      <td>A2</td>\n",
       "    </tr>\n",
       "  </tbody>\n",
       "</table>\n",
       "</div>"
      ],
      "text/plain": [
       "                                                text label\n",
       "0  En 1815, M. Charles-François-Bienvenu Myriel é...    A2\n",
       "1  Quoique ce détail ne touche en aucune manière ...    C1\n",
       "2  En 1804, M. Myriel était curé de Brignolles. I...    A2\n",
       "3  Vers l'époque du couronnement, une petite affa...    B2\n",
       "4              —Quel est ce bonhomme qui me regarde?    A2"
      ]
     },
     "execution_count": 5,
     "metadata": {},
     "output_type": "execute_result"
    }
   ],
   "source": [
    "mike_20_june_new=new_data[pd.notnull(new_data['CEFR Review'])]\n",
    "mike_20_june_new.columns = [\"text\", \"label\",\"CEFR Level_Samar\"]\n",
    "mike_20_june_new.drop([\"CEFR Level_Samar\"],axis=1, inplace=True)\n",
    "mike_20_june_new.to_csv(\"mike_20_june_new.csv\" , index=False)\n",
    "mike_20_june_new.head() "
   ]
  },
  {
   "cell_type": "markdown",
   "id": "a0bf353d",
   "metadata": {
    "papermill": {
     "duration": 0.034372,
     "end_time": "2022-07-05T12:31:42.937564",
     "exception": false,
     "start_time": "2022-07-05T12:31:42.903192",
     "status": "completed"
    },
    "tags": []
   },
   "source": [
    "**General insights about samar and mike_new datasets**"
   ]
  },
  {
   "cell_type": "code",
   "execution_count": 6,
   "id": "b3120633",
   "metadata": {
    "execution": {
     "iopub.execute_input": "2022-07-05T12:31:43.010851Z",
     "iopub.status.busy": "2022-07-05T12:31:43.010154Z",
     "iopub.status.idle": "2022-07-05T12:31:43.016006Z",
     "shell.execute_reply": "2022-07-05T12:31:43.016628Z",
     "shell.execute_reply.started": "2022-07-05T12:01:36.480956Z"
    },
    "papermill": {
     "duration": 0.044022,
     "end_time": "2022-07-05T12:31:43.016794",
     "exception": false,
     "start_time": "2022-07-05T12:31:42.972772",
     "status": "completed"
    },
    "tags": []
   },
   "outputs": [
    {
     "data": {
      "text/plain": [
       "(array(['C1', 'C2'], dtype=object),\n",
       " array(['A2', 'C1', 'B2', 'A1', 'B1', 'C2'], dtype=object))"
      ]
     },
     "execution_count": 6,
     "metadata": {},
     "output_type": "execute_result"
    }
   ],
   "source": [
    "mike_20_june_samar[\"label\"].unique(), mike_20_june_new[\"label\"].unique()"
   ]
  },
  {
   "cell_type": "markdown",
   "id": "8b890bf3",
   "metadata": {
    "papermill": {
     "duration": 0.035527,
     "end_time": "2022-07-05T12:31:43.088575",
     "exception": false,
     "start_time": "2022-07-05T12:31:43.053048",
     "status": "completed"
    },
    "tags": []
   },
   "source": [
    "****!!!! samar annotation seems to be weird because there is just C1 and C2****"
   ]
  },
  {
   "cell_type": "code",
   "execution_count": 7,
   "id": "d84eb49b",
   "metadata": {
    "execution": {
     "iopub.execute_input": "2022-07-05T12:31:43.163443Z",
     "iopub.status.busy": "2022-07-05T12:31:43.162436Z",
     "iopub.status.idle": "2022-07-05T12:31:43.171540Z",
     "shell.execute_reply": "2022-07-05T12:31:43.172025Z",
     "shell.execute_reply.started": "2022-07-05T12:01:36.493289Z"
    },
    "papermill": {
     "duration": 0.047875,
     "end_time": "2022-07-05T12:31:43.172223",
     "exception": false,
     "start_time": "2022-07-05T12:31:43.124348",
     "status": "completed"
    },
    "tags": []
   },
   "outputs": [
    {
     "data": {
      "text/plain": [
       "C1    58\n",
       "A1    41\n",
       "B2    33\n",
       "B1    29\n",
       "A2    24\n",
       "C2     6\n",
       "Name: label, dtype: int64"
      ]
     },
     "execution_count": 7,
     "metadata": {},
     "output_type": "execute_result"
    }
   ],
   "source": [
    "mike_20_june_new.label.value_counts()"
   ]
  },
  {
   "cell_type": "code",
   "execution_count": 8,
   "id": "39c107aa",
   "metadata": {
    "execution": {
     "iopub.execute_input": "2022-07-05T12:31:43.248493Z",
     "iopub.status.busy": "2022-07-05T12:31:43.247804Z",
     "iopub.status.idle": "2022-07-05T12:31:43.254331Z",
     "shell.execute_reply": "2022-07-05T12:31:43.253690Z",
     "shell.execute_reply.started": "2022-07-05T12:01:36.509942Z"
    },
    "papermill": {
     "duration": 0.045942,
     "end_time": "2022-07-05T12:31:43.254476",
     "exception": false,
     "start_time": "2022-07-05T12:31:43.208534",
     "status": "completed"
    },
    "tags": []
   },
   "outputs": [
    {
     "data": {
      "text/plain": [
       "((141, 2), (191, 2))"
      ]
     },
     "execution_count": 8,
     "metadata": {},
     "output_type": "execute_result"
    }
   ],
   "source": [
    "mike_20_june_samar.shape,mike_20_june_new.shape"
   ]
  },
  {
   "cell_type": "code",
   "execution_count": 9,
   "id": "95c87d26",
   "metadata": {
    "execution": {
     "iopub.execute_input": "2022-07-05T12:31:43.332060Z",
     "iopub.status.busy": "2022-07-05T12:31:43.331260Z",
     "iopub.status.idle": "2022-07-05T12:31:43.354107Z",
     "shell.execute_reply": "2022-07-05T12:31:43.354739Z",
     "shell.execute_reply.started": "2022-07-05T12:01:36.641863Z"
    },
    "papermill": {
     "duration": 0.064376,
     "end_time": "2022-07-05T12:31:43.354923",
     "exception": false,
     "start_time": "2022-07-05T12:31:43.290547",
     "status": "completed"
    },
    "tags": []
   },
   "outputs": [
    {
     "data": {
      "text/html": [
       "<div>\n",
       "<style scoped>\n",
       "    .dataframe tbody tr th:only-of-type {\n",
       "        vertical-align: middle;\n",
       "    }\n",
       "\n",
       "    .dataframe tbody tr th {\n",
       "        vertical-align: top;\n",
       "    }\n",
       "\n",
       "    .dataframe thead th {\n",
       "        text-align: right;\n",
       "    }\n",
       "</style>\n",
       "<table border=\"1\" class=\"dataframe\">\n",
       "  <thead>\n",
       "    <tr style=\"text-align: right;\">\n",
       "      <th></th>\n",
       "      <th>text</th>\n",
       "      <th>len</th>\n",
       "      <th>lang</th>\n",
       "      <th>label</th>\n",
       "    </tr>\n",
       "  </thead>\n",
       "  <tbody>\n",
       "    <tr>\n",
       "      <th>0</th>\n",
       "      <td>Il était une fois un prince qui voulait épouse...</td>\n",
       "      <td>15</td>\n",
       "      <td>FR</td>\n",
       "      <td>A2</td>\n",
       "    </tr>\n",
       "    <tr>\n",
       "      <th>1</th>\n",
       "      <td>Il fit le tour de la Terre pour en trouver une...</td>\n",
       "      <td>62</td>\n",
       "      <td>FR</td>\n",
       "      <td>B1</td>\n",
       "    </tr>\n",
       "    <tr>\n",
       "      <th>2</th>\n",
       "      <td>Un soir, par un temps affreux, éclairs et tonn...</td>\n",
       "      <td>31</td>\n",
       "      <td>FR</td>\n",
       "      <td>B1</td>\n",
       "    </tr>\n",
       "    <tr>\n",
       "      <th>3</th>\n",
       "      <td>C'était une princesse qui était là, dehors. M...</td>\n",
       "      <td>51</td>\n",
       "      <td>FR</td>\n",
       "      <td>A2</td>\n",
       "    </tr>\n",
       "    <tr>\n",
       "      <th>4</th>\n",
       "      <td>« Nous allons bien voir ça », pensait la vieil...</td>\n",
       "      <td>76</td>\n",
       "      <td>FR</td>\n",
       "      <td>B1</td>\n",
       "    </tr>\n",
       "  </tbody>\n",
       "</table>\n",
       "</div>"
      ],
      "text/plain": [
       "                                                text  len lang label\n",
       "0  Il était une fois un prince qui voulait épouse...   15   FR    A2\n",
       "1  Il fit le tour de la Terre pour en trouver une...   62   FR    B1\n",
       "2  Un soir, par un temps affreux, éclairs et tonn...   31   FR    B1\n",
       "3   C'était une princesse qui était là, dehors. M...   51   FR    A2\n",
       "4  « Nous allons bien voir ça », pensait la vieil...   76   FR    B1"
      ]
     },
     "execution_count": 9,
     "metadata": {},
     "output_type": "execute_result"
    }
   ],
   "source": [
    "trainn=pd.read_csv(\"../input/frenchcefr/french dataset.csv\")\n",
    "trainn = trainn[trainn.label != \"XX\"]\n",
    "trainn.head()"
   ]
  },
  {
   "cell_type": "code",
   "execution_count": 10,
   "id": "4deaef89",
   "metadata": {
    "execution": {
     "iopub.execute_input": "2022-07-05T12:31:43.433259Z",
     "iopub.status.busy": "2022-07-05T12:31:43.432546Z",
     "iopub.status.idle": "2022-07-05T12:31:43.447622Z",
     "shell.execute_reply": "2022-07-05T12:31:43.448159Z",
     "shell.execute_reply.started": "2022-07-05T12:01:36.661504Z"
    },
    "papermill": {
     "duration": 0.056518,
     "end_time": "2022-07-05T12:31:43.448360",
     "exception": false,
     "start_time": "2022-07-05T12:31:43.391842",
     "status": "completed"
    },
    "tags": []
   },
   "outputs": [],
   "source": [
    "lingua_fr=pd.read_csv(\"../input/lingua/fr_lingua.csv\")"
   ]
  },
  {
   "cell_type": "markdown",
   "id": "38e65c6b",
   "metadata": {
    "papermill": {
     "duration": 0.037844,
     "end_time": "2022-07-05T12:31:43.523573",
     "exception": false,
     "start_time": "2022-07-05T12:31:43.485729",
     "status": "completed"
    },
    "tags": []
   },
   "source": [
    "**tfidf of the train_data**"
   ]
  },
  {
   "cell_type": "code",
   "execution_count": 11,
   "id": "1d5212f2",
   "metadata": {
    "_kg_hide-output": true,
    "execution": {
     "iopub.execute_input": "2022-07-05T12:31:43.601091Z",
     "iopub.status.busy": "2022-07-05T12:31:43.600138Z",
     "iopub.status.idle": "2022-07-05T12:31:43.700431Z",
     "shell.execute_reply": "2022-07-05T12:31:43.699859Z",
     "shell.execute_reply.started": "2022-07-05T12:01:36.671877Z"
    },
    "papermill": {
     "duration": 0.13996,
     "end_time": "2022-07-05T12:31:43.700585",
     "exception": false,
     "start_time": "2022-07-05T12:31:43.560625",
     "status": "completed"
    },
    "tags": []
   },
   "outputs": [
    {
     "data": {
      "text/html": [
       "<div>\n",
       "<style scoped>\n",
       "    .dataframe tbody tr th:only-of-type {\n",
       "        vertical-align: middle;\n",
       "    }\n",
       "\n",
       "    .dataframe tbody tr th {\n",
       "        vertical-align: top;\n",
       "    }\n",
       "\n",
       "    .dataframe thead th {\n",
       "        text-align: right;\n",
       "    }\n",
       "</style>\n",
       "<table border=\"1\" class=\"dataframe\">\n",
       "  <thead>\n",
       "    <tr style=\"text-align: right;\">\n",
       "      <th></th>\n",
       "      <th>1859</th>\n",
       "      <th>1866</th>\n",
       "      <th>1868</th>\n",
       "      <th>1874</th>\n",
       "      <th>abandonna</th>\n",
       "      <th>abord</th>\n",
       "      <th>abordait</th>\n",
       "      <th>absence</th>\n",
       "      <th>accable</th>\n",
       "      <th>accepta</th>\n",
       "      <th>...</th>\n",
       "      <th>étuve</th>\n",
       "      <th>été</th>\n",
       "      <th>éveilla</th>\n",
       "      <th>éveiller</th>\n",
       "      <th>éveillèrent</th>\n",
       "      <th>événements</th>\n",
       "      <th>êtes</th>\n",
       "      <th>être</th>\n",
       "      <th>êtres</th>\n",
       "      <th>œil</th>\n",
       "    </tr>\n",
       "  </thead>\n",
       "  <tbody>\n",
       "    <tr>\n",
       "      <th>0</th>\n",
       "      <td>0.0</td>\n",
       "      <td>0.0</td>\n",
       "      <td>0.0</td>\n",
       "      <td>0.0</td>\n",
       "      <td>0.0</td>\n",
       "      <td>0.0</td>\n",
       "      <td>0.0</td>\n",
       "      <td>0.0</td>\n",
       "      <td>0.0</td>\n",
       "      <td>0.0</td>\n",
       "      <td>...</td>\n",
       "      <td>0.0</td>\n",
       "      <td>0.0</td>\n",
       "      <td>0.0</td>\n",
       "      <td>0.0</td>\n",
       "      <td>0.0</td>\n",
       "      <td>0.0</td>\n",
       "      <td>0.0</td>\n",
       "      <td>0.000000</td>\n",
       "      <td>0.0</td>\n",
       "      <td>0.0</td>\n",
       "    </tr>\n",
       "    <tr>\n",
       "      <th>1</th>\n",
       "      <td>0.0</td>\n",
       "      <td>0.0</td>\n",
       "      <td>0.0</td>\n",
       "      <td>0.0</td>\n",
       "      <td>0.0</td>\n",
       "      <td>0.0</td>\n",
       "      <td>0.0</td>\n",
       "      <td>0.0</td>\n",
       "      <td>0.0</td>\n",
       "      <td>0.0</td>\n",
       "      <td>...</td>\n",
       "      <td>0.0</td>\n",
       "      <td>0.0</td>\n",
       "      <td>0.0</td>\n",
       "      <td>0.0</td>\n",
       "      <td>0.0</td>\n",
       "      <td>0.0</td>\n",
       "      <td>0.0</td>\n",
       "      <td>0.000000</td>\n",
       "      <td>0.0</td>\n",
       "      <td>0.0</td>\n",
       "    </tr>\n",
       "    <tr>\n",
       "      <th>2</th>\n",
       "      <td>0.0</td>\n",
       "      <td>0.0</td>\n",
       "      <td>0.0</td>\n",
       "      <td>0.0</td>\n",
       "      <td>0.0</td>\n",
       "      <td>0.0</td>\n",
       "      <td>0.0</td>\n",
       "      <td>0.0</td>\n",
       "      <td>0.0</td>\n",
       "      <td>0.0</td>\n",
       "      <td>...</td>\n",
       "      <td>0.0</td>\n",
       "      <td>0.0</td>\n",
       "      <td>0.0</td>\n",
       "      <td>0.0</td>\n",
       "      <td>0.0</td>\n",
       "      <td>0.0</td>\n",
       "      <td>0.0</td>\n",
       "      <td>0.000000</td>\n",
       "      <td>0.0</td>\n",
       "      <td>0.0</td>\n",
       "    </tr>\n",
       "    <tr>\n",
       "      <th>3</th>\n",
       "      <td>0.0</td>\n",
       "      <td>0.0</td>\n",
       "      <td>0.0</td>\n",
       "      <td>0.0</td>\n",
       "      <td>0.0</td>\n",
       "      <td>0.0</td>\n",
       "      <td>0.0</td>\n",
       "      <td>0.0</td>\n",
       "      <td>0.0</td>\n",
       "      <td>0.0</td>\n",
       "      <td>...</td>\n",
       "      <td>0.0</td>\n",
       "      <td>0.0</td>\n",
       "      <td>0.0</td>\n",
       "      <td>0.0</td>\n",
       "      <td>0.0</td>\n",
       "      <td>0.0</td>\n",
       "      <td>0.0</td>\n",
       "      <td>0.116826</td>\n",
       "      <td>0.0</td>\n",
       "      <td>0.0</td>\n",
       "    </tr>\n",
       "    <tr>\n",
       "      <th>4</th>\n",
       "      <td>0.0</td>\n",
       "      <td>0.0</td>\n",
       "      <td>0.0</td>\n",
       "      <td>0.0</td>\n",
       "      <td>0.0</td>\n",
       "      <td>0.0</td>\n",
       "      <td>0.0</td>\n",
       "      <td>0.0</td>\n",
       "      <td>0.0</td>\n",
       "      <td>0.0</td>\n",
       "      <td>...</td>\n",
       "      <td>0.0</td>\n",
       "      <td>0.0</td>\n",
       "      <td>0.0</td>\n",
       "      <td>0.0</td>\n",
       "      <td>0.0</td>\n",
       "      <td>0.0</td>\n",
       "      <td>0.0</td>\n",
       "      <td>0.000000</td>\n",
       "      <td>0.0</td>\n",
       "      <td>0.0</td>\n",
       "    </tr>\n",
       "    <tr>\n",
       "      <th>...</th>\n",
       "      <td>...</td>\n",
       "      <td>...</td>\n",
       "      <td>...</td>\n",
       "      <td>...</td>\n",
       "      <td>...</td>\n",
       "      <td>...</td>\n",
       "      <td>...</td>\n",
       "      <td>...</td>\n",
       "      <td>...</td>\n",
       "      <td>...</td>\n",
       "      <td>...</td>\n",
       "      <td>...</td>\n",
       "      <td>...</td>\n",
       "      <td>...</td>\n",
       "      <td>...</td>\n",
       "      <td>...</td>\n",
       "      <td>...</td>\n",
       "      <td>...</td>\n",
       "      <td>...</td>\n",
       "      <td>...</td>\n",
       "      <td>...</td>\n",
       "    </tr>\n",
       "    <tr>\n",
       "      <th>309</th>\n",
       "      <td>0.0</td>\n",
       "      <td>0.0</td>\n",
       "      <td>0.0</td>\n",
       "      <td>0.0</td>\n",
       "      <td>0.0</td>\n",
       "      <td>0.0</td>\n",
       "      <td>0.0</td>\n",
       "      <td>0.0</td>\n",
       "      <td>0.0</td>\n",
       "      <td>0.0</td>\n",
       "      <td>...</td>\n",
       "      <td>0.0</td>\n",
       "      <td>0.0</td>\n",
       "      <td>0.0</td>\n",
       "      <td>0.0</td>\n",
       "      <td>0.0</td>\n",
       "      <td>0.0</td>\n",
       "      <td>0.0</td>\n",
       "      <td>0.000000</td>\n",
       "      <td>0.0</td>\n",
       "      <td>0.0</td>\n",
       "    </tr>\n",
       "    <tr>\n",
       "      <th>310</th>\n",
       "      <td>0.0</td>\n",
       "      <td>0.0</td>\n",
       "      <td>0.0</td>\n",
       "      <td>0.0</td>\n",
       "      <td>0.0</td>\n",
       "      <td>0.0</td>\n",
       "      <td>0.0</td>\n",
       "      <td>0.0</td>\n",
       "      <td>0.0</td>\n",
       "      <td>0.0</td>\n",
       "      <td>...</td>\n",
       "      <td>0.0</td>\n",
       "      <td>0.0</td>\n",
       "      <td>0.0</td>\n",
       "      <td>0.0</td>\n",
       "      <td>0.0</td>\n",
       "      <td>0.0</td>\n",
       "      <td>0.0</td>\n",
       "      <td>0.000000</td>\n",
       "      <td>0.0</td>\n",
       "      <td>0.0</td>\n",
       "    </tr>\n",
       "    <tr>\n",
       "      <th>311</th>\n",
       "      <td>0.0</td>\n",
       "      <td>0.0</td>\n",
       "      <td>0.0</td>\n",
       "      <td>0.0</td>\n",
       "      <td>0.0</td>\n",
       "      <td>0.0</td>\n",
       "      <td>0.0</td>\n",
       "      <td>0.0</td>\n",
       "      <td>0.0</td>\n",
       "      <td>0.0</td>\n",
       "      <td>...</td>\n",
       "      <td>0.0</td>\n",
       "      <td>0.0</td>\n",
       "      <td>0.0</td>\n",
       "      <td>0.0</td>\n",
       "      <td>0.0</td>\n",
       "      <td>0.0</td>\n",
       "      <td>0.0</td>\n",
       "      <td>0.000000</td>\n",
       "      <td>0.0</td>\n",
       "      <td>0.0</td>\n",
       "    </tr>\n",
       "    <tr>\n",
       "      <th>312</th>\n",
       "      <td>0.0</td>\n",
       "      <td>0.0</td>\n",
       "      <td>0.0</td>\n",
       "      <td>0.0</td>\n",
       "      <td>0.0</td>\n",
       "      <td>0.0</td>\n",
       "      <td>0.0</td>\n",
       "      <td>0.0</td>\n",
       "      <td>0.0</td>\n",
       "      <td>0.0</td>\n",
       "      <td>...</td>\n",
       "      <td>0.0</td>\n",
       "      <td>0.0</td>\n",
       "      <td>0.0</td>\n",
       "      <td>0.0</td>\n",
       "      <td>0.0</td>\n",
       "      <td>0.0</td>\n",
       "      <td>0.0</td>\n",
       "      <td>0.000000</td>\n",
       "      <td>0.0</td>\n",
       "      <td>0.0</td>\n",
       "    </tr>\n",
       "    <tr>\n",
       "      <th>313</th>\n",
       "      <td>0.0</td>\n",
       "      <td>0.0</td>\n",
       "      <td>0.0</td>\n",
       "      <td>0.0</td>\n",
       "      <td>0.0</td>\n",
       "      <td>0.0</td>\n",
       "      <td>0.0</td>\n",
       "      <td>0.0</td>\n",
       "      <td>0.0</td>\n",
       "      <td>0.0</td>\n",
       "      <td>...</td>\n",
       "      <td>0.0</td>\n",
       "      <td>0.0</td>\n",
       "      <td>0.0</td>\n",
       "      <td>0.0</td>\n",
       "      <td>0.0</td>\n",
       "      <td>0.0</td>\n",
       "      <td>0.0</td>\n",
       "      <td>0.000000</td>\n",
       "      <td>0.0</td>\n",
       "      <td>0.0</td>\n",
       "    </tr>\n",
       "  </tbody>\n",
       "</table>\n",
       "<p>314 rows × 2400 columns</p>\n",
       "</div>"
      ],
      "text/plain": [
       "     1859  1866  1868  1874  abandonna  abord  abordait  absence  accable  \\\n",
       "0     0.0   0.0   0.0   0.0        0.0    0.0       0.0      0.0      0.0   \n",
       "1     0.0   0.0   0.0   0.0        0.0    0.0       0.0      0.0      0.0   \n",
       "2     0.0   0.0   0.0   0.0        0.0    0.0       0.0      0.0      0.0   \n",
       "3     0.0   0.0   0.0   0.0        0.0    0.0       0.0      0.0      0.0   \n",
       "4     0.0   0.0   0.0   0.0        0.0    0.0       0.0      0.0      0.0   \n",
       "..    ...   ...   ...   ...        ...    ...       ...      ...      ...   \n",
       "309   0.0   0.0   0.0   0.0        0.0    0.0       0.0      0.0      0.0   \n",
       "310   0.0   0.0   0.0   0.0        0.0    0.0       0.0      0.0      0.0   \n",
       "311   0.0   0.0   0.0   0.0        0.0    0.0       0.0      0.0      0.0   \n",
       "312   0.0   0.0   0.0   0.0        0.0    0.0       0.0      0.0      0.0   \n",
       "313   0.0   0.0   0.0   0.0        0.0    0.0       0.0      0.0      0.0   \n",
       "\n",
       "     accepta  ...  étuve  été  éveilla  éveiller  éveillèrent  événements  \\\n",
       "0        0.0  ...    0.0  0.0      0.0       0.0          0.0         0.0   \n",
       "1        0.0  ...    0.0  0.0      0.0       0.0          0.0         0.0   \n",
       "2        0.0  ...    0.0  0.0      0.0       0.0          0.0         0.0   \n",
       "3        0.0  ...    0.0  0.0      0.0       0.0          0.0         0.0   \n",
       "4        0.0  ...    0.0  0.0      0.0       0.0          0.0         0.0   \n",
       "..       ...  ...    ...  ...      ...       ...          ...         ...   \n",
       "309      0.0  ...    0.0  0.0      0.0       0.0          0.0         0.0   \n",
       "310      0.0  ...    0.0  0.0      0.0       0.0          0.0         0.0   \n",
       "311      0.0  ...    0.0  0.0      0.0       0.0          0.0         0.0   \n",
       "312      0.0  ...    0.0  0.0      0.0       0.0          0.0         0.0   \n",
       "313      0.0  ...    0.0  0.0      0.0       0.0          0.0         0.0   \n",
       "\n",
       "     êtes      être  êtres  œil  \n",
       "0     0.0  0.000000    0.0  0.0  \n",
       "1     0.0  0.000000    0.0  0.0  \n",
       "2     0.0  0.000000    0.0  0.0  \n",
       "3     0.0  0.116826    0.0  0.0  \n",
       "4     0.0  0.000000    0.0  0.0  \n",
       "..    ...       ...    ...  ...  \n",
       "309   0.0  0.000000    0.0  0.0  \n",
       "310   0.0  0.000000    0.0  0.0  \n",
       "311   0.0  0.000000    0.0  0.0  \n",
       "312   0.0  0.000000    0.0  0.0  \n",
       "313   0.0  0.000000    0.0  0.0  \n",
       "\n",
       "[314 rows x 2400 columns]"
      ]
     },
     "execution_count": 11,
     "metadata": {},
     "output_type": "execute_result"
    }
   ],
   "source": [
    "from sklearn.feature_extraction.text import CountVectorizer, TfidfVectorizer\n",
    "vectorizer = TfidfVectorizer(max_features=2400)\n",
    "tfidf_data = vectorizer.fit_transform(trainn[\"text\"]).toarray()\n",
    "features = vectorizer.get_feature_names()\n",
    "tfidf_dataa = pd.DataFrame(tfidf_data, columns=features)\n",
    "tfidf_dataa"
   ]
  },
  {
   "cell_type": "markdown",
   "id": "530d7b50",
   "metadata": {
    "papermill": {
     "duration": 0.036896,
     "end_time": "2022-07-05T12:31:43.774572",
     "exception": false,
     "start_time": "2022-07-05T12:31:43.737676",
     "status": "completed"
    },
    "tags": []
   },
   "source": [
    "**tfidf of the test data**"
   ]
  },
  {
   "cell_type": "code",
   "execution_count": 12,
   "id": "798c9e1e",
   "metadata": {
    "execution": {
     "iopub.execute_input": "2022-07-05T12:31:43.910282Z",
     "iopub.status.busy": "2022-07-05T12:31:43.909253Z",
     "iopub.status.idle": "2022-07-05T12:31:43.950691Z",
     "shell.execute_reply": "2022-07-05T12:31:43.951260Z",
     "shell.execute_reply.started": "2022-07-05T12:01:36.737286Z"
    },
    "papermill": {
     "duration": 0.082503,
     "end_time": "2022-07-05T12:31:43.951454",
     "exception": false,
     "start_time": "2022-07-05T12:31:43.868951",
     "status": "completed"
    },
    "tags": []
   },
   "outputs": [],
   "source": [
    "from sklearn.feature_extraction.text import CountVectorizer, TfidfVectorizer\n",
    "vectorizer = TfidfVectorizer(max_features=2400)\n",
    "tfidf_data = vectorizer.fit_transform(lingua_fr[\"text\"]).toarray()\n",
    "features = vectorizer.get_feature_names()\n",
    "tfidf_lingua_fr = pd.DataFrame(tfidf_data, columns=features)"
   ]
  },
  {
   "cell_type": "code",
   "execution_count": 13,
   "id": "75cbe6c8",
   "metadata": {
    "execution": {
     "iopub.execute_input": "2022-07-05T12:31:44.031793Z",
     "iopub.status.busy": "2022-07-05T12:31:44.030806Z",
     "iopub.status.idle": "2022-07-05T12:31:44.036959Z",
     "shell.execute_reply": "2022-07-05T12:31:44.037579Z",
     "shell.execute_reply.started": "2022-07-05T12:01:36.772894Z"
    },
    "papermill": {
     "duration": 0.047965,
     "end_time": "2022-07-05T12:31:44.037744",
     "exception": false,
     "start_time": "2022-07-05T12:31:43.989779",
     "status": "completed"
    },
    "tags": []
   },
   "outputs": [
    {
     "data": {
      "text/plain": [
       "array(['A2', 'B1', 'A1', 'B2', 'C1', 'C2'], dtype=object)"
      ]
     },
     "execution_count": 13,
     "metadata": {},
     "output_type": "execute_result"
    }
   ],
   "source": [
    "y=trainn[\"label\"]\n",
    "y.unique()"
   ]
  },
  {
   "cell_type": "markdown",
   "id": "cbda15d7",
   "metadata": {
    "papermill": {
     "duration": 0.037216,
     "end_time": "2022-07-05T12:31:44.112551",
     "exception": false,
     "start_time": "2022-07-05T12:31:44.075335",
     "status": "completed"
    },
    "tags": []
   },
   "source": [
    "**encoding y**"
   ]
  },
  {
   "cell_type": "code",
   "execution_count": 14,
   "id": "f51db4d8",
   "metadata": {
    "execution": {
     "iopub.execute_input": "2022-07-05T12:31:44.194089Z",
     "iopub.status.busy": "2022-07-05T12:31:44.192998Z",
     "iopub.status.idle": "2022-07-05T12:31:44.195009Z",
     "shell.execute_reply": "2022-07-05T12:31:44.195635Z",
     "shell.execute_reply.started": "2022-07-05T12:01:36.854386Z"
    },
    "papermill": {
     "duration": 0.045391,
     "end_time": "2022-07-05T12:31:44.195798",
     "exception": false,
     "start_time": "2022-07-05T12:31:44.150407",
     "status": "completed"
    },
    "tags": []
   },
   "outputs": [],
   "source": [
    "y = le.fit_transform(y)"
   ]
  },
  {
   "cell_type": "code",
   "execution_count": 15,
   "id": "f291603c",
   "metadata": {
    "execution": {
     "iopub.execute_input": "2022-07-05T12:31:44.275770Z",
     "iopub.status.busy": "2022-07-05T12:31:44.274783Z",
     "iopub.status.idle": "2022-07-05T12:31:44.280454Z",
     "shell.execute_reply": "2022-07-05T12:31:44.280954Z",
     "shell.execute_reply.started": "2022-07-05T12:01:36.863919Z"
    },
    "papermill": {
     "duration": 0.046451,
     "end_time": "2022-07-05T12:31:44.281120",
     "exception": false,
     "start_time": "2022-07-05T12:31:44.234669",
     "status": "completed"
    },
    "tags": []
   },
   "outputs": [
    {
     "data": {
      "text/plain": [
       "array([0, 1, 2, 3, 4, 5])"
      ]
     },
     "execution_count": 15,
     "metadata": {},
     "output_type": "execute_result"
    }
   ],
   "source": [
    "np.unique(y)"
   ]
  },
  {
   "cell_type": "markdown",
   "id": "1228c9cd",
   "metadata": {
    "papermill": {
     "duration": 0.037515,
     "end_time": "2022-07-05T12:31:44.356660",
     "exception": false,
     "start_time": "2022-07-05T12:31:44.319145",
     "status": "completed"
    },
    "tags": []
   },
   "source": [
    "**split data**"
   ]
  },
  {
   "cell_type": "code",
   "execution_count": 16,
   "id": "29692385",
   "metadata": {
    "execution": {
     "iopub.execute_input": "2022-07-05T12:31:44.444766Z",
     "iopub.status.busy": "2022-07-05T12:31:44.444066Z",
     "iopub.status.idle": "2022-07-05T12:31:44.445734Z",
     "shell.execute_reply": "2022-07-05T12:31:44.446302Z",
     "shell.execute_reply.started": "2022-07-05T12:01:36.888480Z"
    },
    "papermill": {
     "duration": 0.051906,
     "end_time": "2022-07-05T12:31:44.446476",
     "exception": false,
     "start_time": "2022-07-05T12:31:44.394570",
     "status": "completed"
    },
    "tags": []
   },
   "outputs": [],
   "source": [
    "xtrain, xtest, ytrain, ytest = train_test_split(tfidf_dataa, y, test_size=0.2)"
   ]
  },
  {
   "cell_type": "markdown",
   "id": "bc0cb36b",
   "metadata": {
    "papermill": {
     "duration": 0.037779,
     "end_time": "2022-07-05T12:31:44.523470",
     "exception": false,
     "start_time": "2022-07-05T12:31:44.485691",
     "status": "completed"
    },
    "tags": []
   },
   "source": [
    "****"
   ]
  },
  {
   "cell_type": "markdown",
   "id": "ca967eb6",
   "metadata": {
    "papermill": {
     "duration": 0.037774,
     "end_time": "2022-07-05T12:31:44.599848",
     "exception": false,
     "start_time": "2022-07-05T12:31:44.562074",
     "status": "completed"
    },
    "tags": []
   },
   "source": [
    "# LGBMClassifier"
   ]
  },
  {
   "cell_type": "code",
   "execution_count": 17,
   "id": "95927e2d",
   "metadata": {
    "execution": {
     "iopub.execute_input": "2022-07-05T12:31:44.682704Z",
     "iopub.status.busy": "2022-07-05T12:31:44.681816Z",
     "iopub.status.idle": "2022-07-05T12:31:45.884487Z",
     "shell.execute_reply": "2022-07-05T12:31:45.885027Z",
     "shell.execute_reply.started": "2022-07-05T12:01:36.902559Z"
    },
    "papermill": {
     "duration": 1.246653,
     "end_time": "2022-07-05T12:31:45.885266",
     "exception": false,
     "start_time": "2022-07-05T12:31:44.638613",
     "status": "completed"
    },
    "tags": []
   },
   "outputs": [
    {
     "data": {
      "text/html": [
       "<style type='text/css'>\n",
       ".datatable table.frame { margin-bottom: 0; }\n",
       ".datatable table.frame thead { border-bottom: none; }\n",
       ".datatable table.frame tr.coltypes td {  color: #FFFFFF;  line-height: 6px;  padding: 0 0.5em;}\n",
       ".datatable .bool    { background: #DDDD99; }\n",
       ".datatable .object  { background: #565656; }\n",
       ".datatable .int     { background: #5D9E5D; }\n",
       ".datatable .float   { background: #4040CC; }\n",
       ".datatable .str     { background: #CC4040; }\n",
       ".datatable .time    { background: #40CC40; }\n",
       ".datatable .row_index {  background: var(--jp-border-color3);  border-right: 1px solid var(--jp-border-color0);  color: var(--jp-ui-font-color3);  font-size: 9px;}\n",
       ".datatable .frame tbody td { text-align: left; }\n",
       ".datatable .frame tr.coltypes .row_index {  background: var(--jp-border-color0);}\n",
       ".datatable th:nth-child(2) { padding-left: 12px; }\n",
       ".datatable .hellipsis {  color: var(--jp-cell-editor-border-color);}\n",
       ".datatable .vellipsis {  background: var(--jp-layout-color0);  color: var(--jp-cell-editor-border-color);}\n",
       ".datatable .na {  color: var(--jp-cell-editor-border-color);  font-size: 80%;}\n",
       ".datatable .sp {  opacity: 0.25;}\n",
       ".datatable .footer { font-size: 9px; }\n",
       ".datatable .frame_dimensions {  background: var(--jp-border-color3);  border-top: 1px solid var(--jp-border-color0);  color: var(--jp-ui-font-color3);  display: inline-block;  opacity: 0.6;  padding: 1px 10px 1px 5px;}\n",
       "</style>\n"
      ],
      "text/plain": [
       "<IPython.core.display.HTML object>"
      ]
     },
     "metadata": {},
     "output_type": "display_data"
    },
    {
     "name": "stdout",
     "output_type": "stream",
     "text": [
      "LightGBM Model accuracy score: 0.6667\n"
     ]
    }
   ],
   "source": [
    "import lightgbm as lgb\n",
    "clf = lgb.LGBMClassifier()\n",
    "clf.fit(xtrain, ytrain)\n",
    "y_pred=clf.predict(xtest)\n",
    "accuracy=accuracy_score(y_pred, ytest)\n",
    "print('LightGBM Model accuracy score: {0:0.4f}'.format(accuracy_score(ytest, y_pred)))"
   ]
  },
  {
   "cell_type": "code",
   "execution_count": 18,
   "id": "c373426f",
   "metadata": {
    "execution": {
     "iopub.execute_input": "2022-07-05T12:31:45.971255Z",
     "iopub.status.busy": "2022-07-05T12:31:45.968021Z",
     "iopub.status.idle": "2022-07-05T12:31:45.974072Z",
     "shell.execute_reply": "2022-07-05T12:31:45.974741Z",
     "shell.execute_reply.started": "2022-07-05T12:23:08.673654Z"
    },
    "papermill": {
     "duration": 0.04837,
     "end_time": "2022-07-05T12:31:45.974916",
     "exception": false,
     "start_time": "2022-07-05T12:31:45.926546",
     "status": "completed"
    },
    "tags": []
   },
   "outputs": [
    {
     "data": {
      "text/plain": [
       "array([0, 1, 2, 3, 4])"
      ]
     },
     "execution_count": 18,
     "metadata": {},
     "output_type": "execute_result"
    }
   ],
   "source": [
    "np.unique(y_pred)"
   ]
  },
  {
   "cell_type": "code",
   "execution_count": 19,
   "id": "72b52ad5",
   "metadata": {
    "execution": {
     "iopub.execute_input": "2022-07-05T12:31:46.058122Z",
     "iopub.status.busy": "2022-07-05T12:31:46.057156Z",
     "iopub.status.idle": "2022-07-05T12:31:46.066464Z",
     "shell.execute_reply": "2022-07-05T12:31:46.065847Z",
     "shell.execute_reply.started": "2022-07-05T12:23:32.564684Z"
    },
    "papermill": {
     "duration": 0.052564,
     "end_time": "2022-07-05T12:31:46.066605",
     "exception": false,
     "start_time": "2022-07-05T12:31:46.014041",
     "status": "completed"
    },
    "tags": []
   },
   "outputs": [
    {
     "name": "stdout",
     "output_type": "stream",
     "text": [
      "              precision    recall  f1-score   support\n",
      "\n",
      "           0       0.64      0.64      0.64        11\n",
      "           1       0.50      0.44      0.47         9\n",
      "           2       0.71      0.83      0.76        35\n",
      "           3       0.50      0.50      0.50         2\n",
      "           4       1.00      0.20      0.33         5\n",
      "           5       0.00      0.00      0.00         1\n",
      "\n",
      "    accuracy                           0.67        63\n",
      "   macro avg       0.56      0.43      0.45        63\n",
      "weighted avg       0.67      0.67      0.64        63\n",
      "\n"
     ]
    }
   ],
   "source": [
    "from sklearn.metrics import classification_report\n",
    "print(classification_report(ytest, y_pred))"
   ]
  },
  {
   "cell_type": "code",
   "execution_count": 20,
   "id": "7a2c4c19",
   "metadata": {
    "execution": {
     "iopub.execute_input": "2022-07-05T12:31:46.151258Z",
     "iopub.status.busy": "2022-07-05T12:31:46.150253Z",
     "iopub.status.idle": "2022-07-05T12:31:46.153073Z",
     "shell.execute_reply": "2022-07-05T12:31:46.152571Z",
     "shell.execute_reply.started": "2022-07-05T12:23:38.643384Z"
    },
    "papermill": {
     "duration": 0.046943,
     "end_time": "2022-07-05T12:31:46.153232",
     "exception": false,
     "start_time": "2022-07-05T12:31:46.106289",
     "status": "completed"
    },
    "tags": []
   },
   "outputs": [],
   "source": [
    "y_true=le.transform(lingua_fr[\"cefr\"])"
   ]
  },
  {
   "cell_type": "code",
   "execution_count": 21,
   "id": "801bb445",
   "metadata": {
    "execution": {
     "iopub.execute_input": "2022-07-05T12:31:46.238349Z",
     "iopub.status.busy": "2022-07-05T12:31:46.237662Z",
     "iopub.status.idle": "2022-07-05T12:31:46.240125Z",
     "shell.execute_reply": "2022-07-05T12:31:46.240637Z",
     "shell.execute_reply.started": "2022-07-05T12:23:39.353009Z"
    },
    "papermill": {
     "duration": 0.047778,
     "end_time": "2022-07-05T12:31:46.240800",
     "exception": false,
     "start_time": "2022-07-05T12:31:46.193022",
     "status": "completed"
    },
    "tags": []
   },
   "outputs": [
    {
     "data": {
      "text/plain": [
       "array([0, 1, 2, 3])"
      ]
     },
     "execution_count": 21,
     "metadata": {},
     "output_type": "execute_result"
    }
   ],
   "source": [
    "np.unique(y_true)"
   ]
  },
  {
   "cell_type": "markdown",
   "id": "cc1670df",
   "metadata": {
    "papermill": {
     "duration": 0.039584,
     "end_time": "2022-07-05T12:31:46.320703",
     "exception": false,
     "start_time": "2022-07-05T12:31:46.281119",
     "status": "completed"
    },
    "tags": []
   },
   "source": [
    "**concatenate x train and xtest , ytrain y test and fit the model the whole data**"
   ]
  },
  {
   "cell_type": "code",
   "execution_count": 22,
   "id": "4c8a6ece",
   "metadata": {
    "execution": {
     "iopub.execute_input": "2022-07-05T12:31:46.407120Z",
     "iopub.status.busy": "2022-07-05T12:31:46.406455Z",
     "iopub.status.idle": "2022-07-05T12:31:46.668166Z",
     "shell.execute_reply": "2022-07-05T12:31:46.667655Z",
     "shell.execute_reply.started": "2022-07-05T12:24:13.548880Z"
    },
    "papermill": {
     "duration": 0.307884,
     "end_time": "2022-07-05T12:31:46.668339",
     "exception": false,
     "start_time": "2022-07-05T12:31:46.360455",
     "status": "completed"
    },
    "tags": []
   },
   "outputs": [
    {
     "data": {
      "text/plain": [
       "LGBMClassifier()"
      ]
     },
     "execution_count": 22,
     "metadata": {},
     "output_type": "execute_result"
    }
   ],
   "source": [
    "x=pd.concat([xtrain, xtest])\n",
    "y_=np.concatenate([ytrain, ytest])\n",
    "clf.fit(x,y_)"
   ]
  },
  {
   "cell_type": "code",
   "execution_count": 23,
   "id": "137920d7",
   "metadata": {
    "execution": {
     "iopub.execute_input": "2022-07-05T12:31:46.753765Z",
     "iopub.status.busy": "2022-07-05T12:31:46.753045Z",
     "iopub.status.idle": "2022-07-05T12:31:46.776840Z",
     "shell.execute_reply": "2022-07-05T12:31:46.776125Z",
     "shell.execute_reply.started": "2022-07-05T12:24:19.639958Z"
    },
    "papermill": {
     "duration": 0.068625,
     "end_time": "2022-07-05T12:31:46.776995",
     "exception": false,
     "start_time": "2022-07-05T12:31:46.708370",
     "status": "completed"
    },
    "tags": []
   },
   "outputs": [],
   "source": [
    "y_pr=clf.predict(tfidf_lingua_fr)"
   ]
  },
  {
   "cell_type": "markdown",
   "id": "07651566",
   "metadata": {
    "papermill": {
     "duration": 0.039853,
     "end_time": "2022-07-05T12:31:46.859452",
     "exception": false,
     "start_time": "2022-07-05T12:31:46.819599",
     "status": "completed"
    },
    "tags": []
   },
   "source": [
    "**how many level the model could predict**"
   ]
  },
  {
   "cell_type": "code",
   "execution_count": 24,
   "id": "10dd8f30",
   "metadata": {
    "execution": {
     "iopub.execute_input": "2022-07-05T12:31:46.945704Z",
     "iopub.status.busy": "2022-07-05T12:31:46.944872Z",
     "iopub.status.idle": "2022-07-05T12:31:46.947973Z",
     "shell.execute_reply": "2022-07-05T12:31:46.948473Z",
     "shell.execute_reply.started": "2022-07-05T12:24:21.695483Z"
    },
    "papermill": {
     "duration": 0.049178,
     "end_time": "2022-07-05T12:31:46.948641",
     "exception": false,
     "start_time": "2022-07-05T12:31:46.899463",
     "status": "completed"
    },
    "tags": []
   },
   "outputs": [
    {
     "data": {
      "text/plain": [
       "array([0, 1, 2])"
      ]
     },
     "execution_count": 24,
     "metadata": {},
     "output_type": "execute_result"
    }
   ],
   "source": [
    "np.unique(y_pr)"
   ]
  },
  {
   "cell_type": "markdown",
   "id": "78aa4042",
   "metadata": {
    "papermill": {
     "duration": 0.041797,
     "end_time": "2022-07-05T12:31:47.030600",
     "exception": false,
     "start_time": "2022-07-05T12:31:46.988803",
     "status": "completed"
    },
    "tags": []
   },
   "source": [
    "**Classification report**"
   ]
  },
  {
   "cell_type": "code",
   "execution_count": 25,
   "id": "b126f408",
   "metadata": {
    "execution": {
     "iopub.execute_input": "2022-07-05T12:31:47.114815Z",
     "iopub.status.busy": "2022-07-05T12:31:47.114155Z",
     "iopub.status.idle": "2022-07-05T12:31:47.122898Z",
     "shell.execute_reply": "2022-07-05T12:31:47.123651Z",
     "shell.execute_reply.started": "2022-07-05T12:24:24.372957Z"
    },
    "papermill": {
     "duration": 0.052744,
     "end_time": "2022-07-05T12:31:47.123874",
     "exception": false,
     "start_time": "2022-07-05T12:31:47.071130",
     "status": "completed"
    },
    "tags": []
   },
   "outputs": [
    {
     "name": "stdout",
     "output_type": "stream",
     "text": [
      "              precision    recall  f1-score   support\n",
      "\n",
      "           0       0.12      0.85      0.22        13\n",
      "           1       1.00      0.04      0.07        26\n",
      "           2       0.64      0.23      0.34        60\n",
      "           3       0.00      0.00      0.00        12\n",
      "\n",
      "    accuracy                           0.23       111\n",
      "   macro avg       0.44      0.28      0.16       111\n",
      "weighted avg       0.59      0.23      0.23       111\n",
      "\n"
     ]
    }
   ],
   "source": [
    "print(classification_report(y_true, y_pr))"
   ]
  },
  {
   "cell_type": "markdown",
   "id": "71129349",
   "metadata": {
    "papermill": {
     "duration": 0.040781,
     "end_time": "2022-07-05T12:31:47.206185",
     "exception": false,
     "start_time": "2022-07-05T12:31:47.165404",
     "status": "completed"
    },
    "tags": []
   },
   "source": [
    "****"
   ]
  },
  {
   "cell_type": "markdown",
   "id": "d9b9aec7",
   "metadata": {
    "papermill": {
     "duration": 0.040472,
     "end_time": "2022-07-05T12:31:47.287529",
     "exception": false,
     "start_time": "2022-07-05T12:31:47.247057",
     "status": "completed"
    },
    "tags": []
   },
   "source": [
    "# LightGBM"
   ]
  },
  {
   "cell_type": "code",
   "execution_count": 26,
   "id": "d440d0cd",
   "metadata": {
    "execution": {
     "iopub.execute_input": "2022-07-05T12:31:47.373253Z",
     "iopub.status.busy": "2022-07-05T12:31:47.372543Z",
     "iopub.status.idle": "2022-07-05T12:31:47.379932Z",
     "shell.execute_reply": "2022-07-05T12:31:47.380586Z",
     "shell.execute_reply.started": "2022-07-05T12:27:31.569831Z"
    },
    "papermill": {
     "duration": 0.051693,
     "end_time": "2022-07-05T12:31:47.380807",
     "exception": false,
     "start_time": "2022-07-05T12:31:47.329114",
     "status": "completed"
    },
    "tags": []
   },
   "outputs": [],
   "source": [
    "def run_lgb(train_X, train_y, val_X, val_y,x_test):\n",
    "    params = {\n",
    "        \"objective\":\"multiclass\",\n",
    "        \"num_classes\":\"6\",\n",
    "        \"metric\" : \"multi_error\",\n",
    "        \"boosting_type\": \"gbdt\",\n",
    "        \"num_leaves\" : 10,\n",
    "        \"learning_rate\" : 0.004,\n",
    "        \"bagging_fraction\" : 0.6,\n",
    "        \"feature_fraction\" : 0.6,\n",
    "        \"bagging_frequency\" : 6,\n",
    "        \"bagging_seed\" : 42,\n",
    "        \"verbosity\" : -1,\n",
    "        \"seed\": 42\n",
    "    }\n",
    "    \n",
    "    lgtrain = lgb.Dataset(train_X, label=train_y)\n",
    "    lgval = lgb.Dataset(val_X, label=val_y)\n",
    "    evals_result = {}\n",
    "    model = lgb.train(params, lgtrain, 5000,\n",
    "                      valid_sets=[lgtrain, lgval], \n",
    "                      early_stopping_rounds=100, \n",
    "                      verbose_eval=150, \n",
    "                      evals_result=evals_result)\n",
    "    ypred=model.predict(x_test).argmax(axis=1)\n",
    "    accuracy=accuracy_score(ypred, val_y)\n",
    "    return  accuracy , model, evals_result"
   ]
  },
  {
   "cell_type": "code",
   "execution_count": 27,
   "id": "7505ab50",
   "metadata": {
    "execution": {
     "iopub.execute_input": "2022-07-05T12:31:47.467115Z",
     "iopub.status.busy": "2022-07-05T12:31:47.466453Z",
     "iopub.status.idle": "2022-07-05T12:31:47.699861Z",
     "shell.execute_reply": "2022-07-05T12:31:47.698973Z",
     "shell.execute_reply.started": "2022-07-05T12:27:32.389278Z"
    },
    "papermill": {
     "duration": 0.276871,
     "end_time": "2022-07-05T12:31:47.700057",
     "exception": false,
     "start_time": "2022-07-05T12:31:47.423186",
     "status": "completed"
    },
    "tags": []
   },
   "outputs": [
    {
     "name": "stdout",
     "output_type": "stream",
     "text": [
      "[LightGBM] [Warning] Unknown parameter: bagging_frequency\n",
      "Training until validation scores don't improve for 100 rounds\n",
      "Early stopping, best iteration is:\n",
      "[1]\ttraining's multi_error: 0.501992\tvalid_1's multi_error: 0.444444\n",
      "LightGBM Training Completed...\n",
      "\n",
      " LightGBM Model accuracy score: 0.5556\n"
     ]
    }
   ],
   "source": [
    "accuracy ,model, evals_result = run_lgb(xtrain, ytrain, xtest, ytest, xtest)\n",
    "print(\"LightGBM Training Completed...\\n\\n\",'LightGBM Model accuracy score: {0:0.4f}'.format(accuracy)  )"
   ]
  },
  {
   "cell_type": "markdown",
   "id": "35756ae9",
   "metadata": {
    "papermill": {
     "duration": 0.041966,
     "end_time": "2022-07-05T12:31:47.783762",
     "exception": false,
     "start_time": "2022-07-05T12:31:47.741796",
     "status": "completed"
    },
    "tags": []
   },
   "source": [
    "**how many level the model could predict**"
   ]
  },
  {
   "cell_type": "code",
   "execution_count": 28,
   "id": "257e9867",
   "metadata": {
    "execution": {
     "iopub.execute_input": "2022-07-05T12:31:47.872018Z",
     "iopub.status.busy": "2022-07-05T12:31:47.871128Z",
     "iopub.status.idle": "2022-07-05T12:31:47.895128Z",
     "shell.execute_reply": "2022-07-05T12:31:47.894480Z",
     "shell.execute_reply.started": "2022-07-05T12:27:33.565481Z"
    },
    "papermill": {
     "duration": 0.069337,
     "end_time": "2022-07-05T12:31:47.895284",
     "exception": false,
     "start_time": "2022-07-05T12:31:47.825947",
     "status": "completed"
    },
    "tags": []
   },
   "outputs": [
    {
     "data": {
      "text/plain": [
       "array([2])"
      ]
     },
     "execution_count": 28,
     "metadata": {},
     "output_type": "execute_result"
    }
   ],
   "source": [
    "ypred=model.predict(xtest).argmax(axis=1)\n",
    "np.unique(ypred)"
   ]
  },
  {
   "cell_type": "markdown",
   "id": "798b3f93",
   "metadata": {
    "papermill": {
     "duration": 0.042145,
     "end_time": "2022-07-05T12:31:47.979285",
     "exception": false,
     "start_time": "2022-07-05T12:31:47.937140",
     "status": "completed"
    },
    "tags": []
   },
   "source": [
    "****"
   ]
  },
  {
   "cell_type": "markdown",
   "id": "9e94bff2",
   "metadata": {
    "papermill": {
     "duration": 0.041928,
     "end_time": "2022-07-05T12:31:48.063877",
     "exception": false,
     "start_time": "2022-07-05T12:31:48.021949",
     "status": "completed"
    },
    "tags": []
   },
   "source": [
    "# Testing the model on lingua_fr datatset"
   ]
  },
  {
   "cell_type": "code",
   "execution_count": 29,
   "id": "245005dc",
   "metadata": {
    "execution": {
     "iopub.execute_input": "2022-07-05T12:31:48.153965Z",
     "iopub.status.busy": "2022-07-05T12:31:48.153269Z",
     "iopub.status.idle": "2022-07-05T12:31:48.177096Z",
     "shell.execute_reply": "2022-07-05T12:31:48.176583Z",
     "shell.execute_reply.started": "2022-07-05T12:27:34.731425Z"
    },
    "papermill": {
     "duration": 0.070479,
     "end_time": "2022-07-05T12:31:48.177265",
     "exception": false,
     "start_time": "2022-07-05T12:31:48.106786",
     "status": "completed"
    },
    "tags": []
   },
   "outputs": [
    {
     "data": {
      "text/plain": [
       "array([2])"
      ]
     },
     "execution_count": 29,
     "metadata": {},
     "output_type": "execute_result"
    }
   ],
   "source": [
    "ypr=model.predict(tfidf_lingua_fr).argmax(axis=1)\n",
    "np.unique(ypr)"
   ]
  },
  {
   "cell_type": "code",
   "execution_count": 30,
   "id": "5df01ed1",
   "metadata": {
    "execution": {
     "iopub.execute_input": "2022-07-05T12:31:48.267884Z",
     "iopub.status.busy": "2022-07-05T12:31:48.267099Z",
     "iopub.status.idle": "2022-07-05T12:31:48.273306Z",
     "shell.execute_reply": "2022-07-05T12:31:48.273884Z",
     "shell.execute_reply.started": "2022-07-05T12:27:35.239455Z"
    },
    "papermill": {
     "duration": 0.054699,
     "end_time": "2022-07-05T12:31:48.274078",
     "exception": false,
     "start_time": "2022-07-05T12:31:48.219379",
     "status": "completed"
    },
    "tags": []
   },
   "outputs": [
    {
     "name": "stdout",
     "output_type": "stream",
     "text": [
      "              precision    recall  f1-score   support\n",
      "\n",
      "           0       0.00      0.00      0.00        13\n",
      "           1       0.00      0.00      0.00        26\n",
      "           2       0.54      1.00      0.70        60\n",
      "           3       0.00      0.00      0.00        12\n",
      "\n",
      "    accuracy                           0.54       111\n",
      "   macro avg       0.14      0.25      0.18       111\n",
      "weighted avg       0.29      0.54      0.38       111\n",
      "\n"
     ]
    }
   ],
   "source": [
    "print(classification_report(y_true, ypr))"
   ]
  },
  {
   "cell_type": "code",
   "execution_count": null,
   "id": "fc2118e0",
   "metadata": {
    "papermill": {
     "duration": 0.042669,
     "end_time": "2022-07-05T12:31:48.360425",
     "exception": false,
     "start_time": "2022-07-05T12:31:48.317756",
     "status": "completed"
    },
    "tags": []
   },
   "outputs": [],
   "source": []
  }
 ],
 "metadata": {
  "kernelspec": {
   "display_name": "Python 3",
   "language": "python",
   "name": "python3"
  },
  "language_info": {
   "codemirror_mode": {
    "name": "ipython",
    "version": 3
   },
   "file_extension": ".py",
   "mimetype": "text/x-python",
   "name": "python",
   "nbconvert_exporter": "python",
   "pygments_lexer": "ipython3",
   "version": "3.7.10"
  },
  "papermill": {
   "default_parameters": {},
   "duration": 28.795226,
   "end_time": "2022-07-05T12:31:51.639652",
   "environment_variables": {},
   "exception": null,
   "input_path": "__notebook__.ipynb",
   "output_path": "__notebook__.ipynb",
   "parameters": {},
   "start_time": "2022-07-05T12:31:22.844426",
   "version": "2.3.3"
  }
 },
 "nbformat": 4,
 "nbformat_minor": 5
}
