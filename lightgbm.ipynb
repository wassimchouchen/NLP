{
 "cells": [
  {
   "cell_type": "code",
   "execution_count": 1,
   "id": "0afc983b",
   "metadata": {
    "_cell_guid": "b1076dfc-b9ad-4769-8c92-a6c4dae69d19",
    "_uuid": "8f2839f25d086af736a60e9eeb907d3b93b6e0e5",
    "execution": {
     "iopub.execute_input": "2022-07-05T12:29:10.451251Z",
     "iopub.status.busy": "2022-07-05T12:29:10.449764Z",
     "iopub.status.idle": "2022-07-05T12:29:17.856140Z",
     "shell.execute_reply": "2022-07-05T12:29:17.855463Z",
     "shell.execute_reply.started": "2022-07-05T12:01:36.103455Z"
    },
    "papermill": {
     "duration": 7.438386,
     "end_time": "2022-07-05T12:29:17.856304",
     "exception": false,
     "start_time": "2022-07-05T12:29:10.417918",
     "status": "completed"
    },
    "tags": []
   },
   "outputs": [],
   "source": [
    "import os\n",
    "\n",
    "import random\n",
    "import numpy as np\n",
    "\n",
    "import pandas as pd\n",
    "import torch\n",
    "from torch.utils.data import Dataset, random_split\n",
    "from sklearn.model_selection import train_test_split \n",
    "from transformers import (\n",
    "    AdamW,\n",
    "    Trainer,\n",
    "    TrainingArguments,\n",
    "    AutoTokenizer,\n",
    "    AutoModelForSequenceClassification,\n",
    "    get_cosine_schedule_with_warmup,\n",
    ")\n",
    "from sklearn.preprocessing import LabelEncoder\n",
    "from sklearn.metrics import accuracy_score\n",
    "from sklearn import preprocessing\n",
    "from sklearn.metrics import accuracy_score\n",
    "le = preprocessing.LabelEncoder()\n",
    "import warnings\n",
    "warnings.filterwarnings('ignore')"
   ]
  },
  {
   "cell_type": "code",
   "execution_count": 2,
   "id": "7e626875",
   "metadata": {
    "execution": {
     "iopub.execute_input": "2022-07-05T12:29:17.918144Z",
     "iopub.status.busy": "2022-07-05T12:29:17.917623Z",
     "iopub.status.idle": "2022-07-05T12:29:17.946642Z",
     "shell.execute_reply": "2022-07-05T12:29:17.947073Z",
     "shell.execute_reply.started": "2022-07-05T12:01:36.116266Z"
    },
    "papermill": {
     "duration": 0.061707,
     "end_time": "2022-07-05T12:29:17.947196",
     "exception": false,
     "start_time": "2022-07-05T12:29:17.885489",
     "status": "completed"
    },
    "tags": []
   },
   "outputs": [
    {
     "data": {
      "text/plain": [
       "(191, 3)"
      ]
     },
     "execution_count": 2,
     "metadata": {},
     "output_type": "execute_result"
    }
   ],
   "source": [
    "new_data=pd.read_csv(\"../input/csvvvv/Classeur 1 (5).csv\")\n",
    "new_data.drop([\"Y\",\"Word Count\",\"Language\",' '], axis=1, inplace=True)\n",
    "new_data.columns = [\"text\", \"CEFR Review\",\"CEFR Level_Samar\"]\n",
    "new_data.shape"
   ]
  },
  {
   "cell_type": "code",
   "execution_count": 3,
   "id": "521d92f5",
   "metadata": {
    "execution": {
     "iopub.execute_input": "2022-07-05T12:29:18.008485Z",
     "iopub.status.busy": "2022-07-05T12:29:18.007514Z",
     "iopub.status.idle": "2022-07-05T12:29:18.016709Z",
     "shell.execute_reply": "2022-07-05T12:29:18.017129Z",
     "shell.execute_reply.started": "2022-07-05T12:01:36.304265Z"
    },
    "papermill": {
     "duration": 0.041405,
     "end_time": "2022-07-05T12:29:18.017252",
     "exception": false,
     "start_time": "2022-07-05T12:29:17.975847",
     "status": "completed"
    },
    "tags": []
   },
   "outputs": [
    {
     "data": {
      "text/html": [
       "<div>\n",
       "<style scoped>\n",
       "    .dataframe tbody tr th:only-of-type {\n",
       "        vertical-align: middle;\n",
       "    }\n",
       "\n",
       "    .dataframe tbody tr th {\n",
       "        vertical-align: top;\n",
       "    }\n",
       "\n",
       "    .dataframe thead th {\n",
       "        text-align: right;\n",
       "    }\n",
       "</style>\n",
       "<table border=\"1\" class=\"dataframe\">\n",
       "  <thead>\n",
       "    <tr style=\"text-align: right;\">\n",
       "      <th></th>\n",
       "      <th>text</th>\n",
       "      <th>CEFR Review</th>\n",
       "      <th>CEFR Level_Samar</th>\n",
       "    </tr>\n",
       "  </thead>\n",
       "  <tbody>\n",
       "    <tr>\n",
       "      <th>0</th>\n",
       "      <td>En 1815, M. Charles-François-Bienvenu Myriel é...</td>\n",
       "      <td>A2</td>\n",
       "      <td>C1</td>\n",
       "    </tr>\n",
       "    <tr>\n",
       "      <th>1</th>\n",
       "      <td>Quoique ce détail ne touche en aucune manière ...</td>\n",
       "      <td>C1</td>\n",
       "      <td>C2</td>\n",
       "    </tr>\n",
       "  </tbody>\n",
       "</table>\n",
       "</div>"
      ],
      "text/plain": [
       "                                                text CEFR Review  \\\n",
       "0  En 1815, M. Charles-François-Bienvenu Myriel é...          A2   \n",
       "1  Quoique ce détail ne touche en aucune manière ...          C1   \n",
       "\n",
       "  CEFR Level_Samar  \n",
       "0               C1  \n",
       "1               C2  "
      ]
     },
     "execution_count": 3,
     "metadata": {},
     "output_type": "execute_result"
    }
   ],
   "source": [
    "new_data.head(2)"
   ]
  },
  {
   "cell_type": "markdown",
   "id": "c2f11f65",
   "metadata": {
    "papermill": {
     "duration": 0.027755,
     "end_time": "2022-07-05T12:29:18.073513",
     "exception": false,
     "start_time": "2022-07-05T12:29:18.045758",
     "status": "completed"
    },
    "tags": []
   },
   "source": [
    "**extract samar dataset**"
   ]
  },
  {
   "cell_type": "code",
   "execution_count": 4,
   "id": "51990f49",
   "metadata": {
    "execution": {
     "iopub.execute_input": "2022-07-05T12:29:18.139521Z",
     "iopub.status.busy": "2022-07-05T12:29:18.138708Z",
     "iopub.status.idle": "2022-07-05T12:29:18.149747Z",
     "shell.execute_reply": "2022-07-05T12:29:18.150291Z",
     "shell.execute_reply.started": "2022-07-05T12:01:36.316933Z"
    },
    "papermill": {
     "duration": 0.048711,
     "end_time": "2022-07-05T12:29:18.150429",
     "exception": false,
     "start_time": "2022-07-05T12:29:18.101718",
     "status": "completed"
    },
    "tags": []
   },
   "outputs": [
    {
     "data": {
      "text/html": [
       "<div>\n",
       "<style scoped>\n",
       "    .dataframe tbody tr th:only-of-type {\n",
       "        vertical-align: middle;\n",
       "    }\n",
       "\n",
       "    .dataframe tbody tr th {\n",
       "        vertical-align: top;\n",
       "    }\n",
       "\n",
       "    .dataframe thead th {\n",
       "        text-align: right;\n",
       "    }\n",
       "</style>\n",
       "<table border=\"1\" class=\"dataframe\">\n",
       "  <thead>\n",
       "    <tr style=\"text-align: right;\">\n",
       "      <th></th>\n",
       "      <th>text</th>\n",
       "      <th>label</th>\n",
       "    </tr>\n",
       "  </thead>\n",
       "  <tbody>\n",
       "    <tr>\n",
       "      <th>0</th>\n",
       "      <td>En 1815, M. Charles-François-Bienvenu Myriel é...</td>\n",
       "      <td>C1</td>\n",
       "    </tr>\n",
       "    <tr>\n",
       "      <th>1</th>\n",
       "      <td>Quoique ce détail ne touche en aucune manière ...</td>\n",
       "      <td>C2</td>\n",
       "    </tr>\n",
       "    <tr>\n",
       "      <th>2</th>\n",
       "      <td>En 1804, M. Myriel était curé de Brignolles. I...</td>\n",
       "      <td>C1</td>\n",
       "    </tr>\n",
       "    <tr>\n",
       "      <th>3</th>\n",
       "      <td>Vers l'époque du couronnement, une petite affa...</td>\n",
       "      <td>C2</td>\n",
       "    </tr>\n",
       "    <tr>\n",
       "      <th>4</th>\n",
       "      <td>—Quel est ce bonhomme qui me regarde?</td>\n",
       "      <td>C1</td>\n",
       "    </tr>\n",
       "  </tbody>\n",
       "</table>\n",
       "</div>"
      ],
      "text/plain": [
       "                                                text label\n",
       "0  En 1815, M. Charles-François-Bienvenu Myriel é...    C1\n",
       "1  Quoique ce détail ne touche en aucune manière ...    C2\n",
       "2  En 1804, M. Myriel était curé de Brignolles. I...    C1\n",
       "3  Vers l'époque du couronnement, une petite affa...    C2\n",
       "4              —Quel est ce bonhomme qui me regarde?    C1"
      ]
     },
     "execution_count": 4,
     "metadata": {},
     "output_type": "execute_result"
    }
   ],
   "source": [
    "mike_20_june_samar=new_data[pd.notnull(new_data['CEFR Level_Samar'])]\n",
    "mike_20_june_samar.columns = [\"text\", \"CEFR Review\",\"label\"]\n",
    "mike_20_june_samar.drop([\"CEFR Review\"],axis=1, inplace=True)\n",
    "mike_20_june_samar.to_csv(\"mike_20_june_samar.csv\" , index=False)\n",
    "mike_20_june_samar.head()"
   ]
  },
  {
   "cell_type": "markdown",
   "id": "fff1b43c",
   "metadata": {
    "papermill": {
     "duration": 0.028287,
     "end_time": "2022-07-05T12:29:18.207168",
     "exception": false,
     "start_time": "2022-07-05T12:29:18.178881",
     "status": "completed"
    },
    "tags": []
   },
   "source": [
    "**extract mike_new dataset**"
   ]
  },
  {
   "cell_type": "code",
   "execution_count": 5,
   "id": "199431f3",
   "metadata": {
    "execution": {
     "iopub.execute_input": "2022-07-05T12:29:18.271556Z",
     "iopub.status.busy": "2022-07-05T12:29:18.270625Z",
     "iopub.status.idle": "2022-07-05T12:29:18.281644Z",
     "shell.execute_reply": "2022-07-05T12:29:18.281197Z",
     "shell.execute_reply.started": "2022-07-05T12:01:36.335289Z"
    },
    "papermill": {
     "duration": 0.045451,
     "end_time": "2022-07-05T12:29:18.281756",
     "exception": false,
     "start_time": "2022-07-05T12:29:18.236305",
     "status": "completed"
    },
    "tags": []
   },
   "outputs": [
    {
     "data": {
      "text/html": [
       "<div>\n",
       "<style scoped>\n",
       "    .dataframe tbody tr th:only-of-type {\n",
       "        vertical-align: middle;\n",
       "    }\n",
       "\n",
       "    .dataframe tbody tr th {\n",
       "        vertical-align: top;\n",
       "    }\n",
       "\n",
       "    .dataframe thead th {\n",
       "        text-align: right;\n",
       "    }\n",
       "</style>\n",
       "<table border=\"1\" class=\"dataframe\">\n",
       "  <thead>\n",
       "    <tr style=\"text-align: right;\">\n",
       "      <th></th>\n",
       "      <th>text</th>\n",
       "      <th>label</th>\n",
       "    </tr>\n",
       "  </thead>\n",
       "  <tbody>\n",
       "    <tr>\n",
       "      <th>0</th>\n",
       "      <td>En 1815, M. Charles-François-Bienvenu Myriel é...</td>\n",
       "      <td>A2</td>\n",
       "    </tr>\n",
       "    <tr>\n",
       "      <th>1</th>\n",
       "      <td>Quoique ce détail ne touche en aucune manière ...</td>\n",
       "      <td>C1</td>\n",
       "    </tr>\n",
       "    <tr>\n",
       "      <th>2</th>\n",
       "      <td>En 1804, M. Myriel était curé de Brignolles. I...</td>\n",
       "      <td>A2</td>\n",
       "    </tr>\n",
       "    <tr>\n",
       "      <th>3</th>\n",
       "      <td>Vers l'époque du couronnement, une petite affa...</td>\n",
       "      <td>B2</td>\n",
       "    </tr>\n",
       "    <tr>\n",
       "      <th>4</th>\n",
       "      <td>—Quel est ce bonhomme qui me regarde?</td>\n",
       "      <td>A2</td>\n",
       "    </tr>\n",
       "  </tbody>\n",
       "</table>\n",
       "</div>"
      ],
      "text/plain": [
       "                                                text label\n",
       "0  En 1815, M. Charles-François-Bienvenu Myriel é...    A2\n",
       "1  Quoique ce détail ne touche en aucune manière ...    C1\n",
       "2  En 1804, M. Myriel était curé de Brignolles. I...    A2\n",
       "3  Vers l'époque du couronnement, une petite affa...    B2\n",
       "4              —Quel est ce bonhomme qui me regarde?    A2"
      ]
     },
     "execution_count": 5,
     "metadata": {},
     "output_type": "execute_result"
    }
   ],
   "source": [
    "mike_20_june_new=new_data[pd.notnull(new_data['CEFR Review'])]\n",
    "mike_20_june_new.columns = [\"text\", \"label\",\"CEFR Level_Samar\"]\n",
    "mike_20_june_new.drop([\"CEFR Level_Samar\"],axis=1, inplace=True)\n",
    "mike_20_june_new.to_csv(\"mike_20_june_new.csv\" , index=False)\n",
    "mike_20_june_new.head() "
   ]
  },
  {
   "cell_type": "markdown",
   "id": "32a62a11",
   "metadata": {
    "papermill": {
     "duration": 0.029197,
     "end_time": "2022-07-05T12:29:18.340212",
     "exception": false,
     "start_time": "2022-07-05T12:29:18.311015",
     "status": "completed"
    },
    "tags": []
   },
   "source": [
    "**General insights about samar and mike_new datasets**"
   ]
  },
  {
   "cell_type": "code",
   "execution_count": 6,
   "id": "9b88d154",
   "metadata": {
    "execution": {
     "iopub.execute_input": "2022-07-05T12:29:18.403472Z",
     "iopub.status.busy": "2022-07-05T12:29:18.402935Z",
     "iopub.status.idle": "2022-07-05T12:29:18.408405Z",
     "shell.execute_reply": "2022-07-05T12:29:18.407972Z",
     "shell.execute_reply.started": "2022-07-05T12:01:36.480956Z"
    },
    "papermill": {
     "duration": 0.03934,
     "end_time": "2022-07-05T12:29:18.408506",
     "exception": false,
     "start_time": "2022-07-05T12:29:18.369166",
     "status": "completed"
    },
    "tags": []
   },
   "outputs": [
    {
     "data": {
      "text/plain": [
       "(array(['C1', 'C2'], dtype=object),\n",
       " array(['A2', 'C1', 'B2', 'A1', 'B1', 'C2'], dtype=object))"
      ]
     },
     "execution_count": 6,
     "metadata": {},
     "output_type": "execute_result"
    }
   ],
   "source": [
    "mike_20_june_samar[\"label\"].unique(), mike_20_june_new[\"label\"].unique()"
   ]
  },
  {
   "cell_type": "markdown",
   "id": "95352711",
   "metadata": {
    "papermill": {
     "duration": 0.029142,
     "end_time": "2022-07-05T12:29:18.467284",
     "exception": false,
     "start_time": "2022-07-05T12:29:18.438142",
     "status": "completed"
    },
    "tags": []
   },
   "source": [
    "****!!!! samar annotation seems to be weird because there is just C1 and C2****"
   ]
  },
  {
   "cell_type": "code",
   "execution_count": 7,
   "id": "0bb09e6f",
   "metadata": {
    "execution": {
     "iopub.execute_input": "2022-07-05T12:29:18.531908Z",
     "iopub.status.busy": "2022-07-05T12:29:18.531121Z",
     "iopub.status.idle": "2022-07-05T12:29:18.536104Z",
     "shell.execute_reply": "2022-07-05T12:29:18.536517Z",
     "shell.execute_reply.started": "2022-07-05T12:01:36.493289Z"
    },
    "papermill": {
     "duration": 0.040137,
     "end_time": "2022-07-05T12:29:18.536647",
     "exception": false,
     "start_time": "2022-07-05T12:29:18.496510",
     "status": "completed"
    },
    "tags": []
   },
   "outputs": [
    {
     "data": {
      "text/plain": [
       "C1    58\n",
       "A1    41\n",
       "B2    33\n",
       "B1    29\n",
       "A2    24\n",
       "C2     6\n",
       "Name: label, dtype: int64"
      ]
     },
     "execution_count": 7,
     "metadata": {},
     "output_type": "execute_result"
    }
   ],
   "source": [
    "mike_20_june_new.label.value_counts()"
   ]
  },
  {
   "cell_type": "code",
   "execution_count": 8,
   "id": "22fe9b79",
   "metadata": {
    "execution": {
     "iopub.execute_input": "2022-07-05T12:29:18.600627Z",
     "iopub.status.busy": "2022-07-05T12:29:18.599888Z",
     "iopub.status.idle": "2022-07-05T12:29:18.603361Z",
     "shell.execute_reply": "2022-07-05T12:29:18.602946Z",
     "shell.execute_reply.started": "2022-07-05T12:01:36.509942Z"
    },
    "papermill": {
     "duration": 0.0376,
     "end_time": "2022-07-05T12:29:18.603463",
     "exception": false,
     "start_time": "2022-07-05T12:29:18.565863",
     "status": "completed"
    },
    "tags": []
   },
   "outputs": [
    {
     "data": {
      "text/plain": [
       "((141, 2), (191, 2))"
      ]
     },
     "execution_count": 8,
     "metadata": {},
     "output_type": "execute_result"
    }
   ],
   "source": [
    "mike_20_june_samar.shape,mike_20_june_new.shape"
   ]
  },
  {
   "cell_type": "code",
   "execution_count": 9,
   "id": "b7ec4599",
   "metadata": {
    "execution": {
     "iopub.execute_input": "2022-07-05T12:29:18.666892Z",
     "iopub.status.busy": "2022-07-05T12:29:18.666251Z",
     "iopub.status.idle": "2022-07-05T12:29:18.687221Z",
     "shell.execute_reply": "2022-07-05T12:29:18.687624Z",
     "shell.execute_reply.started": "2022-07-05T12:01:36.641863Z"
    },
    "papermill": {
     "duration": 0.054443,
     "end_time": "2022-07-05T12:29:18.687758",
     "exception": false,
     "start_time": "2022-07-05T12:29:18.633315",
     "status": "completed"
    },
    "tags": []
   },
   "outputs": [
    {
     "data": {
      "text/html": [
       "<div>\n",
       "<style scoped>\n",
       "    .dataframe tbody tr th:only-of-type {\n",
       "        vertical-align: middle;\n",
       "    }\n",
       "\n",
       "    .dataframe tbody tr th {\n",
       "        vertical-align: top;\n",
       "    }\n",
       "\n",
       "    .dataframe thead th {\n",
       "        text-align: right;\n",
       "    }\n",
       "</style>\n",
       "<table border=\"1\" class=\"dataframe\">\n",
       "  <thead>\n",
       "    <tr style=\"text-align: right;\">\n",
       "      <th></th>\n",
       "      <th>text</th>\n",
       "      <th>len</th>\n",
       "      <th>lang</th>\n",
       "      <th>label</th>\n",
       "    </tr>\n",
       "  </thead>\n",
       "  <tbody>\n",
       "    <tr>\n",
       "      <th>0</th>\n",
       "      <td>Il était une fois un prince qui voulait épouse...</td>\n",
       "      <td>15</td>\n",
       "      <td>FR</td>\n",
       "      <td>A2</td>\n",
       "    </tr>\n",
       "    <tr>\n",
       "      <th>1</th>\n",
       "      <td>Il fit le tour de la Terre pour en trouver une...</td>\n",
       "      <td>62</td>\n",
       "      <td>FR</td>\n",
       "      <td>B1</td>\n",
       "    </tr>\n",
       "    <tr>\n",
       "      <th>2</th>\n",
       "      <td>Un soir, par un temps affreux, éclairs et tonn...</td>\n",
       "      <td>31</td>\n",
       "      <td>FR</td>\n",
       "      <td>B1</td>\n",
       "    </tr>\n",
       "    <tr>\n",
       "      <th>3</th>\n",
       "      <td>C'était une princesse qui était là, dehors. M...</td>\n",
       "      <td>51</td>\n",
       "      <td>FR</td>\n",
       "      <td>A2</td>\n",
       "    </tr>\n",
       "    <tr>\n",
       "      <th>4</th>\n",
       "      <td>« Nous allons bien voir ça », pensait la vieil...</td>\n",
       "      <td>76</td>\n",
       "      <td>FR</td>\n",
       "      <td>B1</td>\n",
       "    </tr>\n",
       "  </tbody>\n",
       "</table>\n",
       "</div>"
      ],
      "text/plain": [
       "                                                text  len lang label\n",
       "0  Il était une fois un prince qui voulait épouse...   15   FR    A2\n",
       "1  Il fit le tour de la Terre pour en trouver une...   62   FR    B1\n",
       "2  Un soir, par un temps affreux, éclairs et tonn...   31   FR    B1\n",
       "3   C'était une princesse qui était là, dehors. M...   51   FR    A2\n",
       "4  « Nous allons bien voir ça », pensait la vieil...   76   FR    B1"
      ]
     },
     "execution_count": 9,
     "metadata": {},
     "output_type": "execute_result"
    }
   ],
   "source": [
    "trainn=pd.read_csv(\"../input/frenchcefr/french dataset.csv\")\n",
    "trainn = trainn[trainn.label != \"XX\"]\n",
    "trainn.head()"
   ]
  },
  {
   "cell_type": "code",
   "execution_count": 10,
   "id": "0aab8222",
   "metadata": {
    "execution": {
     "iopub.execute_input": "2022-07-05T12:29:18.753306Z",
     "iopub.status.busy": "2022-07-05T12:29:18.752794Z",
     "iopub.status.idle": "2022-07-05T12:29:18.763783Z",
     "shell.execute_reply": "2022-07-05T12:29:18.763345Z",
     "shell.execute_reply.started": "2022-07-05T12:01:36.661504Z"
    },
    "papermill": {
     "duration": 0.044442,
     "end_time": "2022-07-05T12:29:18.763892",
     "exception": false,
     "start_time": "2022-07-05T12:29:18.719450",
     "status": "completed"
    },
    "tags": []
   },
   "outputs": [],
   "source": [
    "lingua_fr=pd.read_csv(\"../input/lingua/fr_lingua.csv\")"
   ]
  },
  {
   "cell_type": "code",
   "execution_count": 11,
   "id": "b74f7693",
   "metadata": {
    "_kg_hide-output": true,
    "execution": {
     "iopub.execute_input": "2022-07-05T12:29:18.829440Z",
     "iopub.status.busy": "2022-07-05T12:29:18.828834Z",
     "iopub.status.idle": "2022-07-05T12:29:18.903141Z",
     "shell.execute_reply": "2022-07-05T12:29:18.903667Z",
     "shell.execute_reply.started": "2022-07-05T12:01:36.671877Z"
    },
    "papermill": {
     "duration": 0.108677,
     "end_time": "2022-07-05T12:29:18.903819",
     "exception": false,
     "start_time": "2022-07-05T12:29:18.795142",
     "status": "completed"
    },
    "tags": []
   },
   "outputs": [
    {
     "data": {
      "text/html": [
       "<div>\n",
       "<style scoped>\n",
       "    .dataframe tbody tr th:only-of-type {\n",
       "        vertical-align: middle;\n",
       "    }\n",
       "\n",
       "    .dataframe tbody tr th {\n",
       "        vertical-align: top;\n",
       "    }\n",
       "\n",
       "    .dataframe thead th {\n",
       "        text-align: right;\n",
       "    }\n",
       "</style>\n",
       "<table border=\"1\" class=\"dataframe\">\n",
       "  <thead>\n",
       "    <tr style=\"text-align: right;\">\n",
       "      <th></th>\n",
       "      <th>1859</th>\n",
       "      <th>1866</th>\n",
       "      <th>1868</th>\n",
       "      <th>1874</th>\n",
       "      <th>abandonna</th>\n",
       "      <th>abord</th>\n",
       "      <th>abordait</th>\n",
       "      <th>absence</th>\n",
       "      <th>accable</th>\n",
       "      <th>accepta</th>\n",
       "      <th>...</th>\n",
       "      <th>étuve</th>\n",
       "      <th>été</th>\n",
       "      <th>éveilla</th>\n",
       "      <th>éveiller</th>\n",
       "      <th>éveillèrent</th>\n",
       "      <th>événements</th>\n",
       "      <th>êtes</th>\n",
       "      <th>être</th>\n",
       "      <th>êtres</th>\n",
       "      <th>œil</th>\n",
       "    </tr>\n",
       "  </thead>\n",
       "  <tbody>\n",
       "    <tr>\n",
       "      <th>0</th>\n",
       "      <td>0.0</td>\n",
       "      <td>0.0</td>\n",
       "      <td>0.0</td>\n",
       "      <td>0.0</td>\n",
       "      <td>0.0</td>\n",
       "      <td>0.0</td>\n",
       "      <td>0.0</td>\n",
       "      <td>0.0</td>\n",
       "      <td>0.0</td>\n",
       "      <td>0.0</td>\n",
       "      <td>...</td>\n",
       "      <td>0.0</td>\n",
       "      <td>0.0</td>\n",
       "      <td>0.0</td>\n",
       "      <td>0.0</td>\n",
       "      <td>0.0</td>\n",
       "      <td>0.0</td>\n",
       "      <td>0.0</td>\n",
       "      <td>0.000000</td>\n",
       "      <td>0.0</td>\n",
       "      <td>0.0</td>\n",
       "    </tr>\n",
       "    <tr>\n",
       "      <th>1</th>\n",
       "      <td>0.0</td>\n",
       "      <td>0.0</td>\n",
       "      <td>0.0</td>\n",
       "      <td>0.0</td>\n",
       "      <td>0.0</td>\n",
       "      <td>0.0</td>\n",
       "      <td>0.0</td>\n",
       "      <td>0.0</td>\n",
       "      <td>0.0</td>\n",
       "      <td>0.0</td>\n",
       "      <td>...</td>\n",
       "      <td>0.0</td>\n",
       "      <td>0.0</td>\n",
       "      <td>0.0</td>\n",
       "      <td>0.0</td>\n",
       "      <td>0.0</td>\n",
       "      <td>0.0</td>\n",
       "      <td>0.0</td>\n",
       "      <td>0.000000</td>\n",
       "      <td>0.0</td>\n",
       "      <td>0.0</td>\n",
       "    </tr>\n",
       "    <tr>\n",
       "      <th>2</th>\n",
       "      <td>0.0</td>\n",
       "      <td>0.0</td>\n",
       "      <td>0.0</td>\n",
       "      <td>0.0</td>\n",
       "      <td>0.0</td>\n",
       "      <td>0.0</td>\n",
       "      <td>0.0</td>\n",
       "      <td>0.0</td>\n",
       "      <td>0.0</td>\n",
       "      <td>0.0</td>\n",
       "      <td>...</td>\n",
       "      <td>0.0</td>\n",
       "      <td>0.0</td>\n",
       "      <td>0.0</td>\n",
       "      <td>0.0</td>\n",
       "      <td>0.0</td>\n",
       "      <td>0.0</td>\n",
       "      <td>0.0</td>\n",
       "      <td>0.000000</td>\n",
       "      <td>0.0</td>\n",
       "      <td>0.0</td>\n",
       "    </tr>\n",
       "    <tr>\n",
       "      <th>3</th>\n",
       "      <td>0.0</td>\n",
       "      <td>0.0</td>\n",
       "      <td>0.0</td>\n",
       "      <td>0.0</td>\n",
       "      <td>0.0</td>\n",
       "      <td>0.0</td>\n",
       "      <td>0.0</td>\n",
       "      <td>0.0</td>\n",
       "      <td>0.0</td>\n",
       "      <td>0.0</td>\n",
       "      <td>...</td>\n",
       "      <td>0.0</td>\n",
       "      <td>0.0</td>\n",
       "      <td>0.0</td>\n",
       "      <td>0.0</td>\n",
       "      <td>0.0</td>\n",
       "      <td>0.0</td>\n",
       "      <td>0.0</td>\n",
       "      <td>0.116826</td>\n",
       "      <td>0.0</td>\n",
       "      <td>0.0</td>\n",
       "    </tr>\n",
       "    <tr>\n",
       "      <th>4</th>\n",
       "      <td>0.0</td>\n",
       "      <td>0.0</td>\n",
       "      <td>0.0</td>\n",
       "      <td>0.0</td>\n",
       "      <td>0.0</td>\n",
       "      <td>0.0</td>\n",
       "      <td>0.0</td>\n",
       "      <td>0.0</td>\n",
       "      <td>0.0</td>\n",
       "      <td>0.0</td>\n",
       "      <td>...</td>\n",
       "      <td>0.0</td>\n",
       "      <td>0.0</td>\n",
       "      <td>0.0</td>\n",
       "      <td>0.0</td>\n",
       "      <td>0.0</td>\n",
       "      <td>0.0</td>\n",
       "      <td>0.0</td>\n",
       "      <td>0.000000</td>\n",
       "      <td>0.0</td>\n",
       "      <td>0.0</td>\n",
       "    </tr>\n",
       "    <tr>\n",
       "      <th>...</th>\n",
       "      <td>...</td>\n",
       "      <td>...</td>\n",
       "      <td>...</td>\n",
       "      <td>...</td>\n",
       "      <td>...</td>\n",
       "      <td>...</td>\n",
       "      <td>...</td>\n",
       "      <td>...</td>\n",
       "      <td>...</td>\n",
       "      <td>...</td>\n",
       "      <td>...</td>\n",
       "      <td>...</td>\n",
       "      <td>...</td>\n",
       "      <td>...</td>\n",
       "      <td>...</td>\n",
       "      <td>...</td>\n",
       "      <td>...</td>\n",
       "      <td>...</td>\n",
       "      <td>...</td>\n",
       "      <td>...</td>\n",
       "      <td>...</td>\n",
       "    </tr>\n",
       "    <tr>\n",
       "      <th>309</th>\n",
       "      <td>0.0</td>\n",
       "      <td>0.0</td>\n",
       "      <td>0.0</td>\n",
       "      <td>0.0</td>\n",
       "      <td>0.0</td>\n",
       "      <td>0.0</td>\n",
       "      <td>0.0</td>\n",
       "      <td>0.0</td>\n",
       "      <td>0.0</td>\n",
       "      <td>0.0</td>\n",
       "      <td>...</td>\n",
       "      <td>0.0</td>\n",
       "      <td>0.0</td>\n",
       "      <td>0.0</td>\n",
       "      <td>0.0</td>\n",
       "      <td>0.0</td>\n",
       "      <td>0.0</td>\n",
       "      <td>0.0</td>\n",
       "      <td>0.000000</td>\n",
       "      <td>0.0</td>\n",
       "      <td>0.0</td>\n",
       "    </tr>\n",
       "    <tr>\n",
       "      <th>310</th>\n",
       "      <td>0.0</td>\n",
       "      <td>0.0</td>\n",
       "      <td>0.0</td>\n",
       "      <td>0.0</td>\n",
       "      <td>0.0</td>\n",
       "      <td>0.0</td>\n",
       "      <td>0.0</td>\n",
       "      <td>0.0</td>\n",
       "      <td>0.0</td>\n",
       "      <td>0.0</td>\n",
       "      <td>...</td>\n",
       "      <td>0.0</td>\n",
       "      <td>0.0</td>\n",
       "      <td>0.0</td>\n",
       "      <td>0.0</td>\n",
       "      <td>0.0</td>\n",
       "      <td>0.0</td>\n",
       "      <td>0.0</td>\n",
       "      <td>0.000000</td>\n",
       "      <td>0.0</td>\n",
       "      <td>0.0</td>\n",
       "    </tr>\n",
       "    <tr>\n",
       "      <th>311</th>\n",
       "      <td>0.0</td>\n",
       "      <td>0.0</td>\n",
       "      <td>0.0</td>\n",
       "      <td>0.0</td>\n",
       "      <td>0.0</td>\n",
       "      <td>0.0</td>\n",
       "      <td>0.0</td>\n",
       "      <td>0.0</td>\n",
       "      <td>0.0</td>\n",
       "      <td>0.0</td>\n",
       "      <td>...</td>\n",
       "      <td>0.0</td>\n",
       "      <td>0.0</td>\n",
       "      <td>0.0</td>\n",
       "      <td>0.0</td>\n",
       "      <td>0.0</td>\n",
       "      <td>0.0</td>\n",
       "      <td>0.0</td>\n",
       "      <td>0.000000</td>\n",
       "      <td>0.0</td>\n",
       "      <td>0.0</td>\n",
       "    </tr>\n",
       "    <tr>\n",
       "      <th>312</th>\n",
       "      <td>0.0</td>\n",
       "      <td>0.0</td>\n",
       "      <td>0.0</td>\n",
       "      <td>0.0</td>\n",
       "      <td>0.0</td>\n",
       "      <td>0.0</td>\n",
       "      <td>0.0</td>\n",
       "      <td>0.0</td>\n",
       "      <td>0.0</td>\n",
       "      <td>0.0</td>\n",
       "      <td>...</td>\n",
       "      <td>0.0</td>\n",
       "      <td>0.0</td>\n",
       "      <td>0.0</td>\n",
       "      <td>0.0</td>\n",
       "      <td>0.0</td>\n",
       "      <td>0.0</td>\n",
       "      <td>0.0</td>\n",
       "      <td>0.000000</td>\n",
       "      <td>0.0</td>\n",
       "      <td>0.0</td>\n",
       "    </tr>\n",
       "    <tr>\n",
       "      <th>313</th>\n",
       "      <td>0.0</td>\n",
       "      <td>0.0</td>\n",
       "      <td>0.0</td>\n",
       "      <td>0.0</td>\n",
       "      <td>0.0</td>\n",
       "      <td>0.0</td>\n",
       "      <td>0.0</td>\n",
       "      <td>0.0</td>\n",
       "      <td>0.0</td>\n",
       "      <td>0.0</td>\n",
       "      <td>...</td>\n",
       "      <td>0.0</td>\n",
       "      <td>0.0</td>\n",
       "      <td>0.0</td>\n",
       "      <td>0.0</td>\n",
       "      <td>0.0</td>\n",
       "      <td>0.0</td>\n",
       "      <td>0.0</td>\n",
       "      <td>0.000000</td>\n",
       "      <td>0.0</td>\n",
       "      <td>0.0</td>\n",
       "    </tr>\n",
       "  </tbody>\n",
       "</table>\n",
       "<p>314 rows × 2400 columns</p>\n",
       "</div>"
      ],
      "text/plain": [
       "     1859  1866  1868  1874  abandonna  abord  abordait  absence  accable  \\\n",
       "0     0.0   0.0   0.0   0.0        0.0    0.0       0.0      0.0      0.0   \n",
       "1     0.0   0.0   0.0   0.0        0.0    0.0       0.0      0.0      0.0   \n",
       "2     0.0   0.0   0.0   0.0        0.0    0.0       0.0      0.0      0.0   \n",
       "3     0.0   0.0   0.0   0.0        0.0    0.0       0.0      0.0      0.0   \n",
       "4     0.0   0.0   0.0   0.0        0.0    0.0       0.0      0.0      0.0   \n",
       "..    ...   ...   ...   ...        ...    ...       ...      ...      ...   \n",
       "309   0.0   0.0   0.0   0.0        0.0    0.0       0.0      0.0      0.0   \n",
       "310   0.0   0.0   0.0   0.0        0.0    0.0       0.0      0.0      0.0   \n",
       "311   0.0   0.0   0.0   0.0        0.0    0.0       0.0      0.0      0.0   \n",
       "312   0.0   0.0   0.0   0.0        0.0    0.0       0.0      0.0      0.0   \n",
       "313   0.0   0.0   0.0   0.0        0.0    0.0       0.0      0.0      0.0   \n",
       "\n",
       "     accepta  ...  étuve  été  éveilla  éveiller  éveillèrent  événements  \\\n",
       "0        0.0  ...    0.0  0.0      0.0       0.0          0.0         0.0   \n",
       "1        0.0  ...    0.0  0.0      0.0       0.0          0.0         0.0   \n",
       "2        0.0  ...    0.0  0.0      0.0       0.0          0.0         0.0   \n",
       "3        0.0  ...    0.0  0.0      0.0       0.0          0.0         0.0   \n",
       "4        0.0  ...    0.0  0.0      0.0       0.0          0.0         0.0   \n",
       "..       ...  ...    ...  ...      ...       ...          ...         ...   \n",
       "309      0.0  ...    0.0  0.0      0.0       0.0          0.0         0.0   \n",
       "310      0.0  ...    0.0  0.0      0.0       0.0          0.0         0.0   \n",
       "311      0.0  ...    0.0  0.0      0.0       0.0          0.0         0.0   \n",
       "312      0.0  ...    0.0  0.0      0.0       0.0          0.0         0.0   \n",
       "313      0.0  ...    0.0  0.0      0.0       0.0          0.0         0.0   \n",
       "\n",
       "     êtes      être  êtres  œil  \n",
       "0     0.0  0.000000    0.0  0.0  \n",
       "1     0.0  0.000000    0.0  0.0  \n",
       "2     0.0  0.000000    0.0  0.0  \n",
       "3     0.0  0.116826    0.0  0.0  \n",
       "4     0.0  0.000000    0.0  0.0  \n",
       "..    ...       ...    ...  ...  \n",
       "309   0.0  0.000000    0.0  0.0  \n",
       "310   0.0  0.000000    0.0  0.0  \n",
       "311   0.0  0.000000    0.0  0.0  \n",
       "312   0.0  0.000000    0.0  0.0  \n",
       "313   0.0  0.000000    0.0  0.0  \n",
       "\n",
       "[314 rows x 2400 columns]"
      ]
     },
     "execution_count": 11,
     "metadata": {},
     "output_type": "execute_result"
    }
   ],
   "source": [
    "from sklearn.feature_extraction.text import CountVectorizer, TfidfVectorizer\n",
    "vectorizer = TfidfVectorizer(max_features=2400)\n",
    "tfidf_data = vectorizer.fit_transform(trainn[\"text\"]).toarray()\n",
    "features = vectorizer.get_feature_names()\n",
    "tfidf_dataa = pd.DataFrame(tfidf_data, columns=features)\n",
    "tfidf_dataa"
   ]
  },
  {
   "cell_type": "markdown",
   "id": "5c6921d5",
   "metadata": {
    "papermill": {
     "duration": 0.030722,
     "end_time": "2022-07-05T12:29:18.965627",
     "exception": false,
     "start_time": "2022-07-05T12:29:18.934905",
     "status": "completed"
    },
    "tags": []
   },
   "source": [
    "**tfidf of the test data**"
   ]
  },
  {
   "cell_type": "code",
   "execution_count": 12,
   "id": "b110f169",
   "metadata": {
    "execution": {
     "iopub.execute_input": "2022-07-05T12:29:19.050156Z",
     "iopub.status.busy": "2022-07-05T12:29:19.049365Z",
     "iopub.status.idle": "2022-07-05T12:29:19.063107Z",
     "shell.execute_reply": "2022-07-05T12:29:19.063475Z",
     "shell.execute_reply.started": "2022-07-05T12:01:36.737286Z"
    },
    "papermill": {
     "duration": 0.066502,
     "end_time": "2022-07-05T12:29:19.063630",
     "exception": false,
     "start_time": "2022-07-05T12:29:18.997128",
     "status": "completed"
    },
    "tags": []
   },
   "outputs": [],
   "source": [
    "from sklearn.feature_extraction.text import CountVectorizer, TfidfVectorizer\n",
    "vectorizer = TfidfVectorizer(max_features=2400)\n",
    "tfidf_data = vectorizer.fit_transform(lingua_fr[\"text\"]).toarray()\n",
    "features = vectorizer.get_feature_names()\n",
    "tfidf_lingua_fr = pd.DataFrame(tfidf_data, columns=features)"
   ]
  },
  {
   "cell_type": "code",
   "execution_count": 13,
   "id": "871eaeed",
   "metadata": {
    "execution": {
     "iopub.execute_input": "2022-07-05T12:29:19.174284Z",
     "iopub.status.busy": "2022-07-05T12:29:19.173655Z",
     "iopub.status.idle": "2022-07-05T12:29:19.176216Z",
     "shell.execute_reply": "2022-07-05T12:29:19.176634Z",
     "shell.execute_reply.started": "2022-07-05T12:01:36.772894Z"
    },
    "papermill": {
     "duration": 0.082217,
     "end_time": "2022-07-05T12:29:19.176755",
     "exception": false,
     "start_time": "2022-07-05T12:29:19.094538",
     "status": "completed"
    },
    "tags": []
   },
   "outputs": [
    {
     "data": {
      "text/plain": [
       "array(['A2', 'B1', 'A1', 'B2', 'C1', 'C2'], dtype=object)"
      ]
     },
     "execution_count": 13,
     "metadata": {},
     "output_type": "execute_result"
    }
   ],
   "source": [
    "y=trainn[\"label\"]\n",
    "y.unique()"
   ]
  },
  {
   "cell_type": "markdown",
   "id": "73910ac4",
   "metadata": {
    "papermill": {
     "duration": 0.030721,
     "end_time": "2022-07-05T12:29:19.239184",
     "exception": false,
     "start_time": "2022-07-05T12:29:19.208463",
     "status": "completed"
    },
    "tags": []
   },
   "source": [
    "**encoding y**"
   ]
  },
  {
   "cell_type": "code",
   "execution_count": 14,
   "id": "b02d73a7",
   "metadata": {
    "execution": {
     "iopub.execute_input": "2022-07-05T12:29:19.304652Z",
     "iopub.status.busy": "2022-07-05T12:29:19.304005Z",
     "iopub.status.idle": "2022-07-05T12:29:19.306192Z",
     "shell.execute_reply": "2022-07-05T12:29:19.306637Z",
     "shell.execute_reply.started": "2022-07-05T12:01:36.854386Z"
    },
    "papermill": {
     "duration": 0.036887,
     "end_time": "2022-07-05T12:29:19.306758",
     "exception": false,
     "start_time": "2022-07-05T12:29:19.269871",
     "status": "completed"
    },
    "tags": []
   },
   "outputs": [],
   "source": [
    "y = le.fit_transform(y)"
   ]
  },
  {
   "cell_type": "code",
   "execution_count": 15,
   "id": "39613a7b",
   "metadata": {
    "execution": {
     "iopub.execute_input": "2022-07-05T12:29:19.373235Z",
     "iopub.status.busy": "2022-07-05T12:29:19.372599Z",
     "iopub.status.idle": "2022-07-05T12:29:19.375030Z",
     "shell.execute_reply": "2022-07-05T12:29:19.375533Z",
     "shell.execute_reply.started": "2022-07-05T12:01:36.863919Z"
    },
    "papermill": {
     "duration": 0.038247,
     "end_time": "2022-07-05T12:29:19.375676",
     "exception": false,
     "start_time": "2022-07-05T12:29:19.337429",
     "status": "completed"
    },
    "tags": []
   },
   "outputs": [
    {
     "data": {
      "text/plain": [
       "array([0, 1, 2, 3, 4, 5])"
      ]
     },
     "execution_count": 15,
     "metadata": {},
     "output_type": "execute_result"
    }
   ],
   "source": [
    "np.unique(y)"
   ]
  },
  {
   "cell_type": "markdown",
   "id": "abfba6a6",
   "metadata": {
    "papermill": {
     "duration": 0.030969,
     "end_time": "2022-07-05T12:29:19.438400",
     "exception": false,
     "start_time": "2022-07-05T12:29:19.407431",
     "status": "completed"
    },
    "tags": []
   },
   "source": [
    "**split data**"
   ]
  },
  {
   "cell_type": "code",
   "execution_count": 16,
   "id": "dc622a96",
   "metadata": {
    "execution": {
     "iopub.execute_input": "2022-07-05T12:29:19.510886Z",
     "iopub.status.busy": "2022-07-05T12:29:19.510129Z",
     "iopub.status.idle": "2022-07-05T12:29:19.512672Z",
     "shell.execute_reply": "2022-07-05T12:29:19.512190Z",
     "shell.execute_reply.started": "2022-07-05T12:01:36.888480Z"
    },
    "papermill": {
     "duration": 0.043122,
     "end_time": "2022-07-05T12:29:19.512776",
     "exception": false,
     "start_time": "2022-07-05T12:29:19.469654",
     "status": "completed"
    },
    "tags": []
   },
   "outputs": [],
   "source": [
    "xtrain, xtest, ytrain, ytest = train_test_split(tfidf_dataa, y, test_size=0.2)"
   ]
  },
  {
   "cell_type": "markdown",
   "id": "d9627dde",
   "metadata": {
    "papermill": {
     "duration": 0.031081,
     "end_time": "2022-07-05T12:29:19.575388",
     "exception": false,
     "start_time": "2022-07-05T12:29:19.544307",
     "status": "completed"
    },
    "tags": []
   },
   "source": [
    "****"
   ]
  },
  {
   "cell_type": "markdown",
   "id": "8bb36c6f",
   "metadata": {
    "papermill": {
     "duration": 0.030932,
     "end_time": "2022-07-05T12:29:19.637329",
     "exception": false,
     "start_time": "2022-07-05T12:29:19.606397",
     "status": "completed"
    },
    "tags": []
   },
   "source": [
    "# LGBMClassifier"
   ]
  },
  {
   "cell_type": "code",
   "execution_count": 17,
   "id": "ec42f356",
   "metadata": {
    "execution": {
     "iopub.execute_input": "2022-07-05T12:29:19.703613Z",
     "iopub.status.busy": "2022-07-05T12:29:19.702813Z",
     "iopub.status.idle": "2022-07-05T12:29:21.796224Z",
     "shell.execute_reply": "2022-07-05T12:29:21.795344Z",
     "shell.execute_reply.started": "2022-07-05T12:01:36.902559Z"
    },
    "papermill": {
     "duration": 2.127803,
     "end_time": "2022-07-05T12:29:21.796369",
     "exception": false,
     "start_time": "2022-07-05T12:29:19.668566",
     "status": "completed"
    },
    "tags": []
   },
   "outputs": [
    {
     "data": {
      "text/html": [
       "<style type='text/css'>\n",
       ".datatable table.frame { margin-bottom: 0; }\n",
       ".datatable table.frame thead { border-bottom: none; }\n",
       ".datatable table.frame tr.coltypes td {  color: #FFFFFF;  line-height: 6px;  padding: 0 0.5em;}\n",
       ".datatable .bool    { background: #DDDD99; }\n",
       ".datatable .object  { background: #565656; }\n",
       ".datatable .int     { background: #5D9E5D; }\n",
       ".datatable .float   { background: #4040CC; }\n",
       ".datatable .str     { background: #CC4040; }\n",
       ".datatable .time    { background: #40CC40; }\n",
       ".datatable .row_index {  background: var(--jp-border-color3);  border-right: 1px solid var(--jp-border-color0);  color: var(--jp-ui-font-color3);  font-size: 9px;}\n",
       ".datatable .frame tbody td { text-align: left; }\n",
       ".datatable .frame tr.coltypes .row_index {  background: var(--jp-border-color0);}\n",
       ".datatable th:nth-child(2) { padding-left: 12px; }\n",
       ".datatable .hellipsis {  color: var(--jp-cell-editor-border-color);}\n",
       ".datatable .vellipsis {  background: var(--jp-layout-color0);  color: var(--jp-cell-editor-border-color);}\n",
       ".datatable .na {  color: var(--jp-cell-editor-border-color);  font-size: 80%;}\n",
       ".datatable .sp {  opacity: 0.25;}\n",
       ".datatable .footer { font-size: 9px; }\n",
       ".datatable .frame_dimensions {  background: var(--jp-border-color3);  border-top: 1px solid var(--jp-border-color0);  color: var(--jp-ui-font-color3);  display: inline-block;  opacity: 0.6;  padding: 1px 10px 1px 5px;}\n",
       "</style>\n"
      ],
      "text/plain": [
       "<IPython.core.display.HTML object>"
      ]
     },
     "metadata": {},
     "output_type": "display_data"
    },
    {
     "name": "stdout",
     "output_type": "stream",
     "text": [
      "LightGBM Model accuracy score: 0.5556\n"
     ]
    }
   ],
   "source": [
    "import lightgbm as lgb\n",
    "clf = lgb.LGBMClassifier()\n",
    "clf.fit(xtrain, ytrain)\n",
    "y_pred=clf.predict(xtest)\n",
    "accuracy=accuracy_score(y_pred, ytest)\n",
    "print('LightGBM Model accuracy score: {0:0.4f}'.format(accuracy_score(ytest, y_pred)))"
   ]
  },
  {
   "cell_type": "code",
   "execution_count": 18,
   "id": "ce9c65dc",
   "metadata": {
    "execution": {
     "iopub.execute_input": "2022-07-05T12:29:21.867940Z",
     "iopub.status.busy": "2022-07-05T12:29:21.867263Z",
     "iopub.status.idle": "2022-07-05T12:29:21.869891Z",
     "shell.execute_reply": "2022-07-05T12:29:21.870308Z",
     "shell.execute_reply.started": "2022-07-05T12:23:08.673654Z"
    },
    "papermill": {
     "duration": 0.040615,
     "end_time": "2022-07-05T12:29:21.870438",
     "exception": false,
     "start_time": "2022-07-05T12:29:21.829823",
     "status": "completed"
    },
    "tags": []
   },
   "outputs": [
    {
     "data": {
      "text/plain": [
       "array([0, 1, 2, 4])"
      ]
     },
     "execution_count": 18,
     "metadata": {},
     "output_type": "execute_result"
    }
   ],
   "source": [
    "np.unique(y_pred)"
   ]
  },
  {
   "cell_type": "code",
   "execution_count": 19,
   "id": "41835d26",
   "metadata": {
    "execution": {
     "iopub.execute_input": "2022-07-05T12:29:21.938688Z",
     "iopub.status.busy": "2022-07-05T12:29:21.937888Z",
     "iopub.status.idle": "2022-07-05T12:29:21.946360Z",
     "shell.execute_reply": "2022-07-05T12:29:21.945914Z",
     "shell.execute_reply.started": "2022-07-05T12:23:32.564684Z"
    },
    "papermill": {
     "duration": 0.043198,
     "end_time": "2022-07-05T12:29:21.946465",
     "exception": false,
     "start_time": "2022-07-05T12:29:21.903267",
     "status": "completed"
    },
    "tags": []
   },
   "outputs": [
    {
     "name": "stdout",
     "output_type": "stream",
     "text": [
      "              precision    recall  f1-score   support\n",
      "\n",
      "           0       0.62      0.83      0.71         6\n",
      "           1       0.14      0.09      0.11        11\n",
      "           2       0.67      0.83      0.74        35\n",
      "           3       0.00      0.00      0.00         8\n",
      "           4       0.00      0.00      0.00         2\n",
      "           5       0.00      0.00      0.00         1\n",
      "\n",
      "    accuracy                           0.56        63\n",
      "   macro avg       0.24      0.29      0.26        63\n",
      "weighted avg       0.46      0.56      0.50        63\n",
      "\n"
     ]
    }
   ],
   "source": [
    "from sklearn.metrics import classification_report\n",
    "print(classification_report(ytest, y_pred))"
   ]
  },
  {
   "cell_type": "code",
   "execution_count": 20,
   "id": "53230768",
   "metadata": {
    "execution": {
     "iopub.execute_input": "2022-07-05T12:29:22.016969Z",
     "iopub.status.busy": "2022-07-05T12:29:22.016223Z",
     "iopub.status.idle": "2022-07-05T12:29:22.018719Z",
     "shell.execute_reply": "2022-07-05T12:29:22.018249Z",
     "shell.execute_reply.started": "2022-07-05T12:23:38.643384Z"
    },
    "papermill": {
     "duration": 0.039378,
     "end_time": "2022-07-05T12:29:22.018828",
     "exception": false,
     "start_time": "2022-07-05T12:29:21.979450",
     "status": "completed"
    },
    "tags": []
   },
   "outputs": [],
   "source": [
    "y_true=le.transform(lingua_fr[\"cefr\"])"
   ]
  },
  {
   "cell_type": "code",
   "execution_count": 21,
   "id": "66d4655a",
   "metadata": {
    "execution": {
     "iopub.execute_input": "2022-07-05T12:29:22.089247Z",
     "iopub.status.busy": "2022-07-05T12:29:22.088601Z",
     "iopub.status.idle": "2022-07-05T12:29:22.091216Z",
     "shell.execute_reply": "2022-07-05T12:29:22.091629Z",
     "shell.execute_reply.started": "2022-07-05T12:23:39.353009Z"
    },
    "papermill": {
     "duration": 0.040236,
     "end_time": "2022-07-05T12:29:22.091755",
     "exception": false,
     "start_time": "2022-07-05T12:29:22.051519",
     "status": "completed"
    },
    "tags": []
   },
   "outputs": [
    {
     "data": {
      "text/plain": [
       "array([0, 1, 2, 3])"
      ]
     },
     "execution_count": 21,
     "metadata": {},
     "output_type": "execute_result"
    }
   ],
   "source": [
    "np.unique(y_true)"
   ]
  },
  {
   "cell_type": "markdown",
   "id": "ea118721",
   "metadata": {
    "papermill": {
     "duration": 0.032976,
     "end_time": "2022-07-05T12:29:22.158236",
     "exception": false,
     "start_time": "2022-07-05T12:29:22.125260",
     "status": "completed"
    },
    "tags": []
   },
   "source": [
    "**concatenate x train and xtest , ytrain y test and fit the model the whole data**"
   ]
  },
  {
   "cell_type": "code",
   "execution_count": 22,
   "id": "3ae8f921",
   "metadata": {
    "execution": {
     "iopub.execute_input": "2022-07-05T12:29:22.230118Z",
     "iopub.status.busy": "2022-07-05T12:29:22.229333Z",
     "iopub.status.idle": "2022-07-05T12:29:22.471990Z",
     "shell.execute_reply": "2022-07-05T12:29:22.471454Z",
     "shell.execute_reply.started": "2022-07-05T12:24:13.548880Z"
    },
    "papermill": {
     "duration": 0.280789,
     "end_time": "2022-07-05T12:29:22.472125",
     "exception": false,
     "start_time": "2022-07-05T12:29:22.191336",
     "status": "completed"
    },
    "tags": []
   },
   "outputs": [
    {
     "data": {
      "text/plain": [
       "LGBMClassifier()"
      ]
     },
     "execution_count": 22,
     "metadata": {},
     "output_type": "execute_result"
    }
   ],
   "source": [
    "x=pd.concat([xtrain, xtest])\n",
    "y_=np.concatenate([ytrain, ytest])\n",
    "clf.fit(x,y_)"
   ]
  },
  {
   "cell_type": "code",
   "execution_count": 23,
   "id": "6a1d6ba9",
   "metadata": {
    "execution": {
     "iopub.execute_input": "2022-07-05T12:29:22.544115Z",
     "iopub.status.busy": "2022-07-05T12:29:22.543377Z",
     "iopub.status.idle": "2022-07-05T12:29:22.565635Z",
     "shell.execute_reply": "2022-07-05T12:29:22.565158Z",
     "shell.execute_reply.started": "2022-07-05T12:24:19.639958Z"
    },
    "papermill": {
     "duration": 0.05942,
     "end_time": "2022-07-05T12:29:22.565749",
     "exception": false,
     "start_time": "2022-07-05T12:29:22.506329",
     "status": "completed"
    },
    "tags": []
   },
   "outputs": [],
   "source": [
    "y_pr=clf.predict(tfidf_lingua_fr)"
   ]
  },
  {
   "cell_type": "markdown",
   "id": "74404d81",
   "metadata": {
    "papermill": {
     "duration": 0.037166,
     "end_time": "2022-07-05T12:29:22.636070",
     "exception": false,
     "start_time": "2022-07-05T12:29:22.598904",
     "status": "completed"
    },
    "tags": []
   },
   "source": [
    "**how many level the model could predict**"
   ]
  },
  {
   "cell_type": "code",
   "execution_count": 24,
   "id": "a5033d33",
   "metadata": {
    "execution": {
     "iopub.execute_input": "2022-07-05T12:29:22.707854Z",
     "iopub.status.busy": "2022-07-05T12:29:22.707155Z",
     "iopub.status.idle": "2022-07-05T12:29:22.710528Z",
     "shell.execute_reply": "2022-07-05T12:29:22.711054Z",
     "shell.execute_reply.started": "2022-07-05T12:24:21.695483Z"
    },
    "papermill": {
     "duration": 0.041926,
     "end_time": "2022-07-05T12:29:22.711222",
     "exception": false,
     "start_time": "2022-07-05T12:29:22.669296",
     "status": "completed"
    },
    "tags": []
   },
   "outputs": [
    {
     "data": {
      "text/plain": [
       "array([0, 1, 2])"
      ]
     },
     "execution_count": 24,
     "metadata": {},
     "output_type": "execute_result"
    }
   ],
   "source": [
    "np.unique(y_pr)"
   ]
  },
  {
   "cell_type": "markdown",
   "id": "c2a2d9c9",
   "metadata": {
    "papermill": {
     "duration": 0.033626,
     "end_time": "2022-07-05T12:29:22.778146",
     "exception": false,
     "start_time": "2022-07-05T12:29:22.744520",
     "status": "completed"
    },
    "tags": []
   },
   "source": [
    "**Classification report**"
   ]
  },
  {
   "cell_type": "code",
   "execution_count": 25,
   "id": "06774a04",
   "metadata": {
    "execution": {
     "iopub.execute_input": "2022-07-05T12:29:22.850615Z",
     "iopub.status.busy": "2022-07-05T12:29:22.849791Z",
     "iopub.status.idle": "2022-07-05T12:29:22.857407Z",
     "shell.execute_reply": "2022-07-05T12:29:22.856890Z",
     "shell.execute_reply.started": "2022-07-05T12:24:24.372957Z"
    },
    "papermill": {
     "duration": 0.045035,
     "end_time": "2022-07-05T12:29:22.857527",
     "exception": false,
     "start_time": "2022-07-05T12:29:22.812492",
     "status": "completed"
    },
    "tags": []
   },
   "outputs": [
    {
     "name": "stdout",
     "output_type": "stream",
     "text": [
      "              precision    recall  f1-score   support\n",
      "\n",
      "           0       0.12      0.85      0.22        13\n",
      "           1       1.00      0.04      0.07        26\n",
      "           2       0.64      0.23      0.34        60\n",
      "           3       0.00      0.00      0.00        12\n",
      "\n",
      "    accuracy                           0.23       111\n",
      "   macro avg       0.44      0.28      0.16       111\n",
      "weighted avg       0.59      0.23      0.23       111\n",
      "\n"
     ]
    }
   ],
   "source": [
    "print(classification_report(y_true, y_pr))"
   ]
  },
  {
   "cell_type": "markdown",
   "id": "8efaee73",
   "metadata": {
    "papermill": {
     "duration": 0.036022,
     "end_time": "2022-07-05T12:29:22.928685",
     "exception": false,
     "start_time": "2022-07-05T12:29:22.892663",
     "status": "completed"
    },
    "tags": []
   },
   "source": [
    "****"
   ]
  },
  {
   "cell_type": "markdown",
   "id": "2ac298fa",
   "metadata": {
    "papermill": {
     "duration": 0.033777,
     "end_time": "2022-07-05T12:29:22.996151",
     "exception": false,
     "start_time": "2022-07-05T12:29:22.962374",
     "status": "completed"
    },
    "tags": []
   },
   "source": [
    "# LightGBM"
   ]
  },
  {
   "cell_type": "code",
   "execution_count": 26,
   "id": "4e1de918",
   "metadata": {
    "execution": {
     "iopub.execute_input": "2022-07-05T12:29:23.072106Z",
     "iopub.status.busy": "2022-07-05T12:29:23.071328Z",
     "iopub.status.idle": "2022-07-05T12:29:23.073253Z",
     "shell.execute_reply": "2022-07-05T12:29:23.073733Z",
     "shell.execute_reply.started": "2022-07-05T12:27:31.569831Z"
    },
    "papermill": {
     "duration": 0.044062,
     "end_time": "2022-07-05T12:29:23.073858",
     "exception": false,
     "start_time": "2022-07-05T12:29:23.029796",
     "status": "completed"
    },
    "tags": []
   },
   "outputs": [],
   "source": [
    "def run_lgb(train_X, train_y, val_X, val_y,x_test):\n",
    "    params = {\n",
    "        \"objective\":\"multiclass\",\n",
    "        \"num_classes\":\"6\",\n",
    "        \"metric\" : \"multi_error\",\n",
    "        \"boosting_type\": \"gbdt\",\n",
    "        \"num_leaves\" : 10,\n",
    "        \"learning_rate\" : 0.004,\n",
    "        \"bagging_fraction\" : 0.6,\n",
    "        \"feature_fraction\" : 0.6,\n",
    "        \"bagging_frequency\" : 6,\n",
    "        \"bagging_seed\" : 42,\n",
    "        \"verbosity\" : -1,\n",
    "        \"seed\": 42\n",
    "    }\n",
    "    \n",
    "    lgtrain = lgb.Dataset(train_X, label=train_y)\n",
    "    lgval = lgb.Dataset(val_X, label=val_y)\n",
    "    evals_result = {}\n",
    "    model = lgb.train(params, lgtrain, 5000,\n",
    "                      valid_sets=[lgtrain, lgval], \n",
    "                      early_stopping_rounds=100, \n",
    "                      verbose_eval=150, \n",
    "                      evals_result=evals_result)\n",
    "    ypred=model.predict(x_test).argmax(axis=1)\n",
    "    accuracy=accuracy_score(ypred, val_y)\n",
    "    return  accuracy , model, evals_result"
   ]
  },
  {
   "cell_type": "code",
   "execution_count": 27,
   "id": "42518c35",
   "metadata": {
    "execution": {
     "iopub.execute_input": "2022-07-05T12:29:23.147202Z",
     "iopub.status.busy": "2022-07-05T12:29:23.146474Z",
     "iopub.status.idle": "2022-07-05T12:29:23.327213Z",
     "shell.execute_reply": "2022-07-05T12:29:23.327642Z",
     "shell.execute_reply.started": "2022-07-05T12:27:32.389278Z"
    },
    "papermill": {
     "duration": 0.220251,
     "end_time": "2022-07-05T12:29:23.327794",
     "exception": false,
     "start_time": "2022-07-05T12:29:23.107543",
     "status": "completed"
    },
    "tags": []
   },
   "outputs": [
    {
     "name": "stdout",
     "output_type": "stream",
     "text": [
      "[LightGBM] [Warning] Unknown parameter: bagging_frequency\n",
      "Training until validation scores don't improve for 100 rounds\n",
      "Early stopping, best iteration is:\n",
      "[1]\ttraining's multi_error: 0.501992\tvalid_1's multi_error: 0.444444\n",
      "LightGBM Training Completed...\n",
      "\n",
      " LightGBM Model accuracy score: 0.5556\n"
     ]
    }
   ],
   "source": [
    "accuracy ,model, evals_result = run_lgb(xtrain, ytrain, xtest, ytest, xtest)\n",
    "print(\"LightGBM Training Completed...\\n\\n\",'LightGBM Model accuracy score: {0:0.4f}'.format(accuracy)  )"
   ]
  },
  {
   "cell_type": "markdown",
   "id": "512d71f5",
   "metadata": {
    "papermill": {
     "duration": 0.034903,
     "end_time": "2022-07-05T12:29:23.397570",
     "exception": false,
     "start_time": "2022-07-05T12:29:23.362667",
     "status": "completed"
    },
    "tags": []
   },
   "source": [
    "**how many level the model could predict**"
   ]
  },
  {
   "cell_type": "code",
   "execution_count": 28,
   "id": "de5d7683",
   "metadata": {
    "execution": {
     "iopub.execute_input": "2022-07-05T12:29:23.473203Z",
     "iopub.status.busy": "2022-07-05T12:29:23.472391Z",
     "iopub.status.idle": "2022-07-05T12:29:23.489119Z",
     "shell.execute_reply": "2022-07-05T12:29:23.489559Z",
     "shell.execute_reply.started": "2022-07-05T12:27:33.565481Z"
    },
    "papermill": {
     "duration": 0.057804,
     "end_time": "2022-07-05T12:29:23.489719",
     "exception": false,
     "start_time": "2022-07-05T12:29:23.431915",
     "status": "completed"
    },
    "tags": []
   },
   "outputs": [
    {
     "data": {
      "text/plain": [
       "array([2])"
      ]
     },
     "execution_count": 28,
     "metadata": {},
     "output_type": "execute_result"
    }
   ],
   "source": [
    "ypred=model.predict(xtest).argmax(axis=1)\n",
    "np.unique(ypred)"
   ]
  },
  {
   "cell_type": "markdown",
   "id": "814d06b2",
   "metadata": {
    "papermill": {
     "duration": 0.034265,
     "end_time": "2022-07-05T12:29:23.559266",
     "exception": false,
     "start_time": "2022-07-05T12:29:23.525001",
     "status": "completed"
    },
    "tags": []
   },
   "source": [
    "****"
   ]
  },
  {
   "cell_type": "markdown",
   "id": "93ad50fd",
   "metadata": {
    "papermill": {
     "duration": 0.051516,
     "end_time": "2022-07-05T12:29:23.645646",
     "exception": false,
     "start_time": "2022-07-05T12:29:23.594130",
     "status": "completed"
    },
    "tags": []
   },
   "source": [
    "# Testing the model on lingua_fr datatset"
   ]
  },
  {
   "cell_type": "code",
   "execution_count": 29,
   "id": "8617d93d",
   "metadata": {
    "execution": {
     "iopub.execute_input": "2022-07-05T12:29:23.780314Z",
     "iopub.status.busy": "2022-07-05T12:29:23.779547Z",
     "iopub.status.idle": "2022-07-05T12:29:23.808616Z",
     "shell.execute_reply": "2022-07-05T12:29:23.809786Z",
     "shell.execute_reply.started": "2022-07-05T12:27:34.731425Z"
    },
    "papermill": {
     "duration": 0.102883,
     "end_time": "2022-07-05T12:29:23.809976",
     "exception": false,
     "start_time": "2022-07-05T12:29:23.707093",
     "status": "completed"
    },
    "tags": []
   },
   "outputs": [
    {
     "data": {
      "text/plain": [
       "array([2])"
      ]
     },
     "execution_count": 29,
     "metadata": {},
     "output_type": "execute_result"
    }
   ],
   "source": [
    "ypr=model.predict(tfidf_lingua_fr).argmax(axis=1)\n",
    "np.unique(ypr)"
   ]
  },
  {
   "cell_type": "code",
   "execution_count": 30,
   "id": "b5c4a715",
   "metadata": {
    "execution": {
     "iopub.execute_input": "2022-07-05T12:29:23.941679Z",
     "iopub.status.busy": "2022-07-05T12:29:23.940931Z",
     "iopub.status.idle": "2022-07-05T12:29:23.947981Z",
     "shell.execute_reply": "2022-07-05T12:29:23.949015Z",
     "shell.execute_reply.started": "2022-07-05T12:27:35.239455Z"
    },
    "papermill": {
     "duration": 0.073358,
     "end_time": "2022-07-05T12:29:23.949235",
     "exception": false,
     "start_time": "2022-07-05T12:29:23.875877",
     "status": "completed"
    },
    "tags": []
   },
   "outputs": [
    {
     "name": "stdout",
     "output_type": "stream",
     "text": [
      "              precision    recall  f1-score   support\n",
      "\n",
      "           0       0.00      0.00      0.00        13\n",
      "           1       0.00      0.00      0.00        26\n",
      "           2       0.54      1.00      0.70        60\n",
      "           3       0.00      0.00      0.00        12\n",
      "\n",
      "    accuracy                           0.54       111\n",
      "   macro avg       0.14      0.25      0.18       111\n",
      "weighted avg       0.29      0.54      0.38       111\n",
      "\n"
     ]
    }
   ],
   "source": [
    "print(classification_report(y_true, ypr))"
   ]
  },
  {
   "cell_type": "code",
   "execution_count": null,
   "id": "dfc3cb48",
   "metadata": {
    "papermill": {
     "duration": 0.056524,
     "end_time": "2022-07-05T12:29:24.062749",
     "exception": false,
     "start_time": "2022-07-05T12:29:24.006225",
     "status": "completed"
    },
    "tags": []
   },
   "outputs": [],
   "source": []
  }
 ],
 "metadata": {
  "kernelspec": {
   "display_name": "Python 3",
   "language": "python",
   "name": "python3"
  },
  "language_info": {
   "codemirror_mode": {
    "name": "ipython",
    "version": 3
   },
   "file_extension": ".py",
   "mimetype": "text/x-python",
   "name": "python",
   "nbconvert_exporter": "python",
   "pygments_lexer": "ipython3",
   "version": "3.7.10"
  },
  "papermill": {
   "default_parameters": {},
   "duration": 25.461569,
   "end_time": "2022-07-05T12:29:27.729415",
   "environment_variables": {},
   "exception": null,
   "input_path": "__notebook__.ipynb",
   "output_path": "__notebook__.ipynb",
   "parameters": {},
   "start_time": "2022-07-05T12:29:02.267846",
   "version": "2.3.3"
  }
 },
 "nbformat": 4,
 "nbformat_minor": 5
}
