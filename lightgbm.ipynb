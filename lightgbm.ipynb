{
 "cells": [
  {
   "cell_type": "code",
   "execution_count": 1,
   "id": "75dc5518",
   "metadata": {
    "_cell_guid": "b1076dfc-b9ad-4769-8c92-a6c4dae69d19",
    "_uuid": "8f2839f25d086af736a60e9eeb907d3b93b6e0e5",
    "execution": {
     "iopub.execute_input": "2022-07-05T12:09:07.953904Z",
     "iopub.status.busy": "2022-07-05T12:09:07.952353Z",
     "iopub.status.idle": "2022-07-05T12:09:15.377324Z",
     "shell.execute_reply": "2022-07-05T12:09:15.376326Z",
     "shell.execute_reply.started": "2022-07-05T12:01:36.103455Z"
    },
    "papermill": {
     "duration": 7.457146,
     "end_time": "2022-07-05T12:09:15.377496",
     "exception": false,
     "start_time": "2022-07-05T12:09:07.920350",
     "status": "completed"
    },
    "tags": []
   },
   "outputs": [],
   "source": [
    "import os\n",
    "\n",
    "import random\n",
    "import numpy as np\n",
    "\n",
    "import pandas as pd\n",
    "import torch\n",
    "from torch.utils.data import Dataset, random_split\n",
    "from sklearn.model_selection import train_test_split \n",
    "from transformers import (\n",
    "    AdamW,\n",
    "    Trainer,\n",
    "    TrainingArguments,\n",
    "    AutoTokenizer,\n",
    "    AutoModelForSequenceClassification,\n",
    "    get_cosine_schedule_with_warmup,\n",
    ")\n",
    "from sklearn.preprocessing import LabelEncoder\n",
    "from sklearn.metrics import accuracy_score\n",
    "from sklearn import preprocessing\n",
    "from sklearn.metrics import accuracy_score\n",
    "le = preprocessing.LabelEncoder()\n",
    "import warnings\n",
    "warnings.filterwarnings('ignore')"
   ]
  },
  {
   "cell_type": "code",
   "execution_count": 2,
   "id": "c605ac8e",
   "metadata": {
    "execution": {
     "iopub.execute_input": "2022-07-05T12:09:15.440568Z",
     "iopub.status.busy": "2022-07-05T12:09:15.439831Z",
     "iopub.status.idle": "2022-07-05T12:09:15.465748Z",
     "shell.execute_reply": "2022-07-05T12:09:15.466275Z",
     "shell.execute_reply.started": "2022-07-05T12:01:36.116266Z"
    },
    "papermill": {
     "duration": 0.059999,
     "end_time": "2022-07-05T12:09:15.466446",
     "exception": false,
     "start_time": "2022-07-05T12:09:15.406447",
     "status": "completed"
    },
    "tags": []
   },
   "outputs": [
    {
     "data": {
      "text/plain": [
       "(191, 3)"
      ]
     },
     "execution_count": 2,
     "metadata": {},
     "output_type": "execute_result"
    }
   ],
   "source": [
    "new_data=pd.read_csv(\"../input/csvvvv/Classeur 1 (5).csv\")\n",
    "new_data.drop([\"Y\",\"Word Count\",\"Language\",' '], axis=1, inplace=True)\n",
    "new_data.columns = [\"text\", \"CEFR Review\",\"CEFR Level_Samar\"]\n",
    "new_data.shape"
   ]
  },
  {
   "cell_type": "code",
   "execution_count": 3,
   "id": "38c38365",
   "metadata": {
    "execution": {
     "iopub.execute_input": "2022-07-05T12:09:15.528164Z",
     "iopub.status.busy": "2022-07-05T12:09:15.527192Z",
     "iopub.status.idle": "2022-07-05T12:09:15.537448Z",
     "shell.execute_reply": "2022-07-05T12:09:15.537883Z",
     "shell.execute_reply.started": "2022-07-05T12:01:36.304265Z"
    },
    "papermill": {
     "duration": 0.04383,
     "end_time": "2022-07-05T12:09:15.538057",
     "exception": false,
     "start_time": "2022-07-05T12:09:15.494227",
     "status": "completed"
    },
    "tags": []
   },
   "outputs": [
    {
     "data": {
      "text/html": [
       "<div>\n",
       "<style scoped>\n",
       "    .dataframe tbody tr th:only-of-type {\n",
       "        vertical-align: middle;\n",
       "    }\n",
       "\n",
       "    .dataframe tbody tr th {\n",
       "        vertical-align: top;\n",
       "    }\n",
       "\n",
       "    .dataframe thead th {\n",
       "        text-align: right;\n",
       "    }\n",
       "</style>\n",
       "<table border=\"1\" class=\"dataframe\">\n",
       "  <thead>\n",
       "    <tr style=\"text-align: right;\">\n",
       "      <th></th>\n",
       "      <th>text</th>\n",
       "      <th>CEFR Review</th>\n",
       "      <th>CEFR Level_Samar</th>\n",
       "    </tr>\n",
       "  </thead>\n",
       "  <tbody>\n",
       "    <tr>\n",
       "      <th>0</th>\n",
       "      <td>En 1815, M. Charles-François-Bienvenu Myriel é...</td>\n",
       "      <td>A2</td>\n",
       "      <td>C1</td>\n",
       "    </tr>\n",
       "    <tr>\n",
       "      <th>1</th>\n",
       "      <td>Quoique ce détail ne touche en aucune manière ...</td>\n",
       "      <td>C1</td>\n",
       "      <td>C2</td>\n",
       "    </tr>\n",
       "  </tbody>\n",
       "</table>\n",
       "</div>"
      ],
      "text/plain": [
       "                                                text CEFR Review  \\\n",
       "0  En 1815, M. Charles-François-Bienvenu Myriel é...          A2   \n",
       "1  Quoique ce détail ne touche en aucune manière ...          C1   \n",
       "\n",
       "  CEFR Level_Samar  \n",
       "0               C1  \n",
       "1               C2  "
      ]
     },
     "execution_count": 3,
     "metadata": {},
     "output_type": "execute_result"
    }
   ],
   "source": [
    "new_data.head(2)"
   ]
  },
  {
   "cell_type": "markdown",
   "id": "246b4a43",
   "metadata": {
    "papermill": {
     "duration": 0.027046,
     "end_time": "2022-07-05T12:09:15.592606",
     "exception": false,
     "start_time": "2022-07-05T12:09:15.565560",
     "status": "completed"
    },
    "tags": []
   },
   "source": [
    "**extract samar dataset**"
   ]
  },
  {
   "cell_type": "code",
   "execution_count": 4,
   "id": "357a18b0",
   "metadata": {
    "execution": {
     "iopub.execute_input": "2022-07-05T12:09:15.657211Z",
     "iopub.status.busy": "2022-07-05T12:09:15.656104Z",
     "iopub.status.idle": "2022-07-05T12:09:15.667784Z",
     "shell.execute_reply": "2022-07-05T12:09:15.667316Z",
     "shell.execute_reply.started": "2022-07-05T12:01:36.316933Z"
    },
    "papermill": {
     "duration": 0.047694,
     "end_time": "2022-07-05T12:09:15.667889",
     "exception": false,
     "start_time": "2022-07-05T12:09:15.620195",
     "status": "completed"
    },
    "tags": []
   },
   "outputs": [
    {
     "data": {
      "text/html": [
       "<div>\n",
       "<style scoped>\n",
       "    .dataframe tbody tr th:only-of-type {\n",
       "        vertical-align: middle;\n",
       "    }\n",
       "\n",
       "    .dataframe tbody tr th {\n",
       "        vertical-align: top;\n",
       "    }\n",
       "\n",
       "    .dataframe thead th {\n",
       "        text-align: right;\n",
       "    }\n",
       "</style>\n",
       "<table border=\"1\" class=\"dataframe\">\n",
       "  <thead>\n",
       "    <tr style=\"text-align: right;\">\n",
       "      <th></th>\n",
       "      <th>text</th>\n",
       "      <th>label</th>\n",
       "    </tr>\n",
       "  </thead>\n",
       "  <tbody>\n",
       "    <tr>\n",
       "      <th>0</th>\n",
       "      <td>En 1815, M. Charles-François-Bienvenu Myriel é...</td>\n",
       "      <td>C1</td>\n",
       "    </tr>\n",
       "    <tr>\n",
       "      <th>1</th>\n",
       "      <td>Quoique ce détail ne touche en aucune manière ...</td>\n",
       "      <td>C2</td>\n",
       "    </tr>\n",
       "    <tr>\n",
       "      <th>2</th>\n",
       "      <td>En 1804, M. Myriel était curé de Brignolles. I...</td>\n",
       "      <td>C1</td>\n",
       "    </tr>\n",
       "    <tr>\n",
       "      <th>3</th>\n",
       "      <td>Vers l'époque du couronnement, une petite affa...</td>\n",
       "      <td>C2</td>\n",
       "    </tr>\n",
       "    <tr>\n",
       "      <th>4</th>\n",
       "      <td>—Quel est ce bonhomme qui me regarde?</td>\n",
       "      <td>C1</td>\n",
       "    </tr>\n",
       "  </tbody>\n",
       "</table>\n",
       "</div>"
      ],
      "text/plain": [
       "                                                text label\n",
       "0  En 1815, M. Charles-François-Bienvenu Myriel é...    C1\n",
       "1  Quoique ce détail ne touche en aucune manière ...    C2\n",
       "2  En 1804, M. Myriel était curé de Brignolles. I...    C1\n",
       "3  Vers l'époque du couronnement, une petite affa...    C2\n",
       "4              —Quel est ce bonhomme qui me regarde?    C1"
      ]
     },
     "execution_count": 4,
     "metadata": {},
     "output_type": "execute_result"
    }
   ],
   "source": [
    "mike_20_june_samar=new_data[pd.notnull(new_data['CEFR Level_Samar'])]\n",
    "mike_20_june_samar.columns = [\"text\", \"CEFR Review\",\"label\"]\n",
    "mike_20_june_samar.drop([\"CEFR Review\"],axis=1, inplace=True)\n",
    "mike_20_june_samar.to_csv(\"mike_20_june_samar.csv\" , index=False)\n",
    "mike_20_june_samar.head()"
   ]
  },
  {
   "cell_type": "markdown",
   "id": "de4d7b00",
   "metadata": {
    "papermill": {
     "duration": 0.02645,
     "end_time": "2022-07-05T12:09:15.721839",
     "exception": false,
     "start_time": "2022-07-05T12:09:15.695389",
     "status": "completed"
    },
    "tags": []
   },
   "source": [
    "**extract mike_new dataset**"
   ]
  },
  {
   "cell_type": "code",
   "execution_count": 5,
   "id": "7e20b443",
   "metadata": {
    "execution": {
     "iopub.execute_input": "2022-07-05T12:09:15.783618Z",
     "iopub.status.busy": "2022-07-05T12:09:15.781280Z",
     "iopub.status.idle": "2022-07-05T12:09:15.792575Z",
     "shell.execute_reply": "2022-07-05T12:09:15.793239Z",
     "shell.execute_reply.started": "2022-07-05T12:01:36.335289Z"
    },
    "papermill": {
     "duration": 0.044152,
     "end_time": "2022-07-05T12:09:15.793359",
     "exception": false,
     "start_time": "2022-07-05T12:09:15.749207",
     "status": "completed"
    },
    "tags": []
   },
   "outputs": [
    {
     "data": {
      "text/html": [
       "<div>\n",
       "<style scoped>\n",
       "    .dataframe tbody tr th:only-of-type {\n",
       "        vertical-align: middle;\n",
       "    }\n",
       "\n",
       "    .dataframe tbody tr th {\n",
       "        vertical-align: top;\n",
       "    }\n",
       "\n",
       "    .dataframe thead th {\n",
       "        text-align: right;\n",
       "    }\n",
       "</style>\n",
       "<table border=\"1\" class=\"dataframe\">\n",
       "  <thead>\n",
       "    <tr style=\"text-align: right;\">\n",
       "      <th></th>\n",
       "      <th>text</th>\n",
       "      <th>label</th>\n",
       "    </tr>\n",
       "  </thead>\n",
       "  <tbody>\n",
       "    <tr>\n",
       "      <th>0</th>\n",
       "      <td>En 1815, M. Charles-François-Bienvenu Myriel é...</td>\n",
       "      <td>A2</td>\n",
       "    </tr>\n",
       "    <tr>\n",
       "      <th>1</th>\n",
       "      <td>Quoique ce détail ne touche en aucune manière ...</td>\n",
       "      <td>C1</td>\n",
       "    </tr>\n",
       "    <tr>\n",
       "      <th>2</th>\n",
       "      <td>En 1804, M. Myriel était curé de Brignolles. I...</td>\n",
       "      <td>A2</td>\n",
       "    </tr>\n",
       "    <tr>\n",
       "      <th>3</th>\n",
       "      <td>Vers l'époque du couronnement, une petite affa...</td>\n",
       "      <td>B2</td>\n",
       "    </tr>\n",
       "    <tr>\n",
       "      <th>4</th>\n",
       "      <td>—Quel est ce bonhomme qui me regarde?</td>\n",
       "      <td>A2</td>\n",
       "    </tr>\n",
       "  </tbody>\n",
       "</table>\n",
       "</div>"
      ],
      "text/plain": [
       "                                                text label\n",
       "0  En 1815, M. Charles-François-Bienvenu Myriel é...    A2\n",
       "1  Quoique ce détail ne touche en aucune manière ...    C1\n",
       "2  En 1804, M. Myriel était curé de Brignolles. I...    A2\n",
       "3  Vers l'époque du couronnement, une petite affa...    B2\n",
       "4              —Quel est ce bonhomme qui me regarde?    A2"
      ]
     },
     "execution_count": 5,
     "metadata": {},
     "output_type": "execute_result"
    }
   ],
   "source": [
    "mike_20_june_new=new_data[pd.notnull(new_data['CEFR Review'])]\n",
    "mike_20_june_new.columns = [\"text\", \"label\",\"CEFR Level_Samar\"]\n",
    "mike_20_june_new.drop([\"CEFR Level_Samar\"],axis=1, inplace=True)\n",
    "mike_20_june_new.to_csv(\"mike_20_june_new.csv\" , index=False)\n",
    "mike_20_june_new.head() "
   ]
  },
  {
   "cell_type": "markdown",
   "id": "b46cd9d0",
   "metadata": {
    "papermill": {
     "duration": 0.027381,
     "end_time": "2022-07-05T12:09:15.848111",
     "exception": false,
     "start_time": "2022-07-05T12:09:15.820730",
     "status": "completed"
    },
    "tags": []
   },
   "source": [
    "**General insights about samar and mike_new datasets**"
   ]
  },
  {
   "cell_type": "code",
   "execution_count": 6,
   "id": "d68871b1",
   "metadata": {
    "execution": {
     "iopub.execute_input": "2022-07-05T12:09:15.907097Z",
     "iopub.status.busy": "2022-07-05T12:09:15.906285Z",
     "iopub.status.idle": "2022-07-05T12:09:15.913063Z",
     "shell.execute_reply": "2022-07-05T12:09:15.912597Z",
     "shell.execute_reply.started": "2022-07-05T12:01:36.480956Z"
    },
    "papermill": {
     "duration": 0.037816,
     "end_time": "2022-07-05T12:09:15.913184",
     "exception": false,
     "start_time": "2022-07-05T12:09:15.875368",
     "status": "completed"
    },
    "tags": []
   },
   "outputs": [
    {
     "data": {
      "text/plain": [
       "(array(['C1', 'C2'], dtype=object),\n",
       " array(['A2', 'C1', 'B2', 'A1', 'B1', 'C2'], dtype=object))"
      ]
     },
     "execution_count": 6,
     "metadata": {},
     "output_type": "execute_result"
    }
   ],
   "source": [
    "mike_20_june_samar[\"label\"].unique(), mike_20_june_new[\"label\"].unique()"
   ]
  },
  {
   "cell_type": "markdown",
   "id": "1e286eec",
   "metadata": {
    "papermill": {
     "duration": 0.0326,
     "end_time": "2022-07-05T12:09:15.974155",
     "exception": false,
     "start_time": "2022-07-05T12:09:15.941555",
     "status": "completed"
    },
    "tags": []
   },
   "source": [
    "****!!!! samar annotation seems to be weird because there is just C1 and C2****"
   ]
  },
  {
   "cell_type": "code",
   "execution_count": 7,
   "id": "d9253393",
   "metadata": {
    "execution": {
     "iopub.execute_input": "2022-07-05T12:09:16.036946Z",
     "iopub.status.busy": "2022-07-05T12:09:16.036123Z",
     "iopub.status.idle": "2022-07-05T12:09:16.039001Z",
     "shell.execute_reply": "2022-07-05T12:09:16.039412Z",
     "shell.execute_reply.started": "2022-07-05T12:01:36.493289Z"
    },
    "papermill": {
     "duration": 0.037736,
     "end_time": "2022-07-05T12:09:16.039529",
     "exception": false,
     "start_time": "2022-07-05T12:09:16.001793",
     "status": "completed"
    },
    "tags": []
   },
   "outputs": [
    {
     "data": {
      "text/plain": [
       "C1    58\n",
       "A1    41\n",
       "B2    33\n",
       "B1    29\n",
       "A2    24\n",
       "C2     6\n",
       "Name: label, dtype: int64"
      ]
     },
     "execution_count": 7,
     "metadata": {},
     "output_type": "execute_result"
    }
   ],
   "source": [
    "mike_20_june_new.label.value_counts()"
   ]
  },
  {
   "cell_type": "code",
   "execution_count": 8,
   "id": "3a2ab79a",
   "metadata": {
    "execution": {
     "iopub.execute_input": "2022-07-05T12:09:16.100830Z",
     "iopub.status.busy": "2022-07-05T12:09:16.100191Z",
     "iopub.status.idle": "2022-07-05T12:09:16.102746Z",
     "shell.execute_reply": "2022-07-05T12:09:16.103159Z",
     "shell.execute_reply.started": "2022-07-05T12:01:36.509942Z"
    },
    "papermill": {
     "duration": 0.035321,
     "end_time": "2022-07-05T12:09:16.103273",
     "exception": false,
     "start_time": "2022-07-05T12:09:16.067952",
     "status": "completed"
    },
    "tags": []
   },
   "outputs": [
    {
     "data": {
      "text/plain": [
       "((141, 2), (191, 2))"
      ]
     },
     "execution_count": 8,
     "metadata": {},
     "output_type": "execute_result"
    }
   ],
   "source": [
    "mike_20_june_samar.shape,mike_20_june_new.shape"
   ]
  },
  {
   "cell_type": "code",
   "execution_count": 9,
   "id": "a0be1c49",
   "metadata": {
    "execution": {
     "iopub.execute_input": "2022-07-05T12:09:16.163296Z",
     "iopub.status.busy": "2022-07-05T12:09:16.162712Z",
     "iopub.status.idle": "2022-07-05T12:09:16.180673Z",
     "shell.execute_reply": "2022-07-05T12:09:16.181144Z",
     "shell.execute_reply.started": "2022-07-05T12:01:36.641863Z"
    },
    "papermill": {
     "duration": 0.049663,
     "end_time": "2022-07-05T12:09:16.181280",
     "exception": false,
     "start_time": "2022-07-05T12:09:16.131617",
     "status": "completed"
    },
    "tags": []
   },
   "outputs": [
    {
     "data": {
      "text/html": [
       "<div>\n",
       "<style scoped>\n",
       "    .dataframe tbody tr th:only-of-type {\n",
       "        vertical-align: middle;\n",
       "    }\n",
       "\n",
       "    .dataframe tbody tr th {\n",
       "        vertical-align: top;\n",
       "    }\n",
       "\n",
       "    .dataframe thead th {\n",
       "        text-align: right;\n",
       "    }\n",
       "</style>\n",
       "<table border=\"1\" class=\"dataframe\">\n",
       "  <thead>\n",
       "    <tr style=\"text-align: right;\">\n",
       "      <th></th>\n",
       "      <th>text</th>\n",
       "      <th>len</th>\n",
       "      <th>lang</th>\n",
       "      <th>label</th>\n",
       "    </tr>\n",
       "  </thead>\n",
       "  <tbody>\n",
       "    <tr>\n",
       "      <th>0</th>\n",
       "      <td>Il était une fois un prince qui voulait épouse...</td>\n",
       "      <td>15</td>\n",
       "      <td>FR</td>\n",
       "      <td>A2</td>\n",
       "    </tr>\n",
       "    <tr>\n",
       "      <th>1</th>\n",
       "      <td>Il fit le tour de la Terre pour en trouver une...</td>\n",
       "      <td>62</td>\n",
       "      <td>FR</td>\n",
       "      <td>B1</td>\n",
       "    </tr>\n",
       "    <tr>\n",
       "      <th>2</th>\n",
       "      <td>Un soir, par un temps affreux, éclairs et tonn...</td>\n",
       "      <td>31</td>\n",
       "      <td>FR</td>\n",
       "      <td>B1</td>\n",
       "    </tr>\n",
       "    <tr>\n",
       "      <th>3</th>\n",
       "      <td>C'était une princesse qui était là, dehors. M...</td>\n",
       "      <td>51</td>\n",
       "      <td>FR</td>\n",
       "      <td>A2</td>\n",
       "    </tr>\n",
       "    <tr>\n",
       "      <th>4</th>\n",
       "      <td>« Nous allons bien voir ça », pensait la vieil...</td>\n",
       "      <td>76</td>\n",
       "      <td>FR</td>\n",
       "      <td>B1</td>\n",
       "    </tr>\n",
       "  </tbody>\n",
       "</table>\n",
       "</div>"
      ],
      "text/plain": [
       "                                                text  len lang label\n",
       "0  Il était une fois un prince qui voulait épouse...   15   FR    A2\n",
       "1  Il fit le tour de la Terre pour en trouver une...   62   FR    B1\n",
       "2  Un soir, par un temps affreux, éclairs et tonn...   31   FR    B1\n",
       "3   C'était une princesse qui était là, dehors. M...   51   FR    A2\n",
       "4  « Nous allons bien voir ça », pensait la vieil...   76   FR    B1"
      ]
     },
     "execution_count": 9,
     "metadata": {},
     "output_type": "execute_result"
    }
   ],
   "source": [
    "trainn=pd.read_csv(\"../input/frenchcefr/french dataset.csv\")\n",
    "trainn = trainn[trainn.label != \"XX\"]\n",
    "trainn.head()"
   ]
  },
  {
   "cell_type": "code",
   "execution_count": 10,
   "id": "435a2c93",
   "metadata": {
    "execution": {
     "iopub.execute_input": "2022-07-05T12:09:16.242526Z",
     "iopub.status.busy": "2022-07-05T12:09:16.241975Z",
     "iopub.status.idle": "2022-07-05T12:09:16.253685Z",
     "shell.execute_reply": "2022-07-05T12:09:16.252797Z",
     "shell.execute_reply.started": "2022-07-05T12:01:36.661504Z"
    },
    "papermill": {
     "duration": 0.043827,
     "end_time": "2022-07-05T12:09:16.253786",
     "exception": false,
     "start_time": "2022-07-05T12:09:16.209959",
     "status": "completed"
    },
    "tags": []
   },
   "outputs": [],
   "source": [
    "lingua_fr=pd.read_csv(\"../input/lingua/fr_lingua.csv\")"
   ]
  },
  {
   "cell_type": "code",
   "execution_count": 11,
   "id": "58b0efe4",
   "metadata": {
    "_kg_hide-output": true,
    "execution": {
     "iopub.execute_input": "2022-07-05T12:09:16.316008Z",
     "iopub.status.busy": "2022-07-05T12:09:16.315395Z",
     "iopub.status.idle": "2022-07-05T12:09:16.391983Z",
     "shell.execute_reply": "2022-07-05T12:09:16.392415Z",
     "shell.execute_reply.started": "2022-07-05T12:01:36.671877Z"
    },
    "papermill": {
     "duration": 0.109615,
     "end_time": "2022-07-05T12:09:16.392563",
     "exception": false,
     "start_time": "2022-07-05T12:09:16.282948",
     "status": "completed"
    },
    "tags": []
   },
   "outputs": [
    {
     "data": {
      "text/html": [
       "<div>\n",
       "<style scoped>\n",
       "    .dataframe tbody tr th:only-of-type {\n",
       "        vertical-align: middle;\n",
       "    }\n",
       "\n",
       "    .dataframe tbody tr th {\n",
       "        vertical-align: top;\n",
       "    }\n",
       "\n",
       "    .dataframe thead th {\n",
       "        text-align: right;\n",
       "    }\n",
       "</style>\n",
       "<table border=\"1\" class=\"dataframe\">\n",
       "  <thead>\n",
       "    <tr style=\"text-align: right;\">\n",
       "      <th></th>\n",
       "      <th>1859</th>\n",
       "      <th>1866</th>\n",
       "      <th>1868</th>\n",
       "      <th>1874</th>\n",
       "      <th>abandonna</th>\n",
       "      <th>abord</th>\n",
       "      <th>abordait</th>\n",
       "      <th>absence</th>\n",
       "      <th>accable</th>\n",
       "      <th>accepta</th>\n",
       "      <th>...</th>\n",
       "      <th>étuve</th>\n",
       "      <th>été</th>\n",
       "      <th>éveilla</th>\n",
       "      <th>éveiller</th>\n",
       "      <th>éveillèrent</th>\n",
       "      <th>événements</th>\n",
       "      <th>êtes</th>\n",
       "      <th>être</th>\n",
       "      <th>êtres</th>\n",
       "      <th>œil</th>\n",
       "    </tr>\n",
       "  </thead>\n",
       "  <tbody>\n",
       "    <tr>\n",
       "      <th>0</th>\n",
       "      <td>0.0</td>\n",
       "      <td>0.0</td>\n",
       "      <td>0.0</td>\n",
       "      <td>0.0</td>\n",
       "      <td>0.0</td>\n",
       "      <td>0.0</td>\n",
       "      <td>0.0</td>\n",
       "      <td>0.0</td>\n",
       "      <td>0.0</td>\n",
       "      <td>0.0</td>\n",
       "      <td>...</td>\n",
       "      <td>0.0</td>\n",
       "      <td>0.0</td>\n",
       "      <td>0.0</td>\n",
       "      <td>0.0</td>\n",
       "      <td>0.0</td>\n",
       "      <td>0.0</td>\n",
       "      <td>0.0</td>\n",
       "      <td>0.000000</td>\n",
       "      <td>0.0</td>\n",
       "      <td>0.0</td>\n",
       "    </tr>\n",
       "    <tr>\n",
       "      <th>1</th>\n",
       "      <td>0.0</td>\n",
       "      <td>0.0</td>\n",
       "      <td>0.0</td>\n",
       "      <td>0.0</td>\n",
       "      <td>0.0</td>\n",
       "      <td>0.0</td>\n",
       "      <td>0.0</td>\n",
       "      <td>0.0</td>\n",
       "      <td>0.0</td>\n",
       "      <td>0.0</td>\n",
       "      <td>...</td>\n",
       "      <td>0.0</td>\n",
       "      <td>0.0</td>\n",
       "      <td>0.0</td>\n",
       "      <td>0.0</td>\n",
       "      <td>0.0</td>\n",
       "      <td>0.0</td>\n",
       "      <td>0.0</td>\n",
       "      <td>0.000000</td>\n",
       "      <td>0.0</td>\n",
       "      <td>0.0</td>\n",
       "    </tr>\n",
       "    <tr>\n",
       "      <th>2</th>\n",
       "      <td>0.0</td>\n",
       "      <td>0.0</td>\n",
       "      <td>0.0</td>\n",
       "      <td>0.0</td>\n",
       "      <td>0.0</td>\n",
       "      <td>0.0</td>\n",
       "      <td>0.0</td>\n",
       "      <td>0.0</td>\n",
       "      <td>0.0</td>\n",
       "      <td>0.0</td>\n",
       "      <td>...</td>\n",
       "      <td>0.0</td>\n",
       "      <td>0.0</td>\n",
       "      <td>0.0</td>\n",
       "      <td>0.0</td>\n",
       "      <td>0.0</td>\n",
       "      <td>0.0</td>\n",
       "      <td>0.0</td>\n",
       "      <td>0.000000</td>\n",
       "      <td>0.0</td>\n",
       "      <td>0.0</td>\n",
       "    </tr>\n",
       "    <tr>\n",
       "      <th>3</th>\n",
       "      <td>0.0</td>\n",
       "      <td>0.0</td>\n",
       "      <td>0.0</td>\n",
       "      <td>0.0</td>\n",
       "      <td>0.0</td>\n",
       "      <td>0.0</td>\n",
       "      <td>0.0</td>\n",
       "      <td>0.0</td>\n",
       "      <td>0.0</td>\n",
       "      <td>0.0</td>\n",
       "      <td>...</td>\n",
       "      <td>0.0</td>\n",
       "      <td>0.0</td>\n",
       "      <td>0.0</td>\n",
       "      <td>0.0</td>\n",
       "      <td>0.0</td>\n",
       "      <td>0.0</td>\n",
       "      <td>0.0</td>\n",
       "      <td>0.116826</td>\n",
       "      <td>0.0</td>\n",
       "      <td>0.0</td>\n",
       "    </tr>\n",
       "    <tr>\n",
       "      <th>4</th>\n",
       "      <td>0.0</td>\n",
       "      <td>0.0</td>\n",
       "      <td>0.0</td>\n",
       "      <td>0.0</td>\n",
       "      <td>0.0</td>\n",
       "      <td>0.0</td>\n",
       "      <td>0.0</td>\n",
       "      <td>0.0</td>\n",
       "      <td>0.0</td>\n",
       "      <td>0.0</td>\n",
       "      <td>...</td>\n",
       "      <td>0.0</td>\n",
       "      <td>0.0</td>\n",
       "      <td>0.0</td>\n",
       "      <td>0.0</td>\n",
       "      <td>0.0</td>\n",
       "      <td>0.0</td>\n",
       "      <td>0.0</td>\n",
       "      <td>0.000000</td>\n",
       "      <td>0.0</td>\n",
       "      <td>0.0</td>\n",
       "    </tr>\n",
       "    <tr>\n",
       "      <th>...</th>\n",
       "      <td>...</td>\n",
       "      <td>...</td>\n",
       "      <td>...</td>\n",
       "      <td>...</td>\n",
       "      <td>...</td>\n",
       "      <td>...</td>\n",
       "      <td>...</td>\n",
       "      <td>...</td>\n",
       "      <td>...</td>\n",
       "      <td>...</td>\n",
       "      <td>...</td>\n",
       "      <td>...</td>\n",
       "      <td>...</td>\n",
       "      <td>...</td>\n",
       "      <td>...</td>\n",
       "      <td>...</td>\n",
       "      <td>...</td>\n",
       "      <td>...</td>\n",
       "      <td>...</td>\n",
       "      <td>...</td>\n",
       "      <td>...</td>\n",
       "    </tr>\n",
       "    <tr>\n",
       "      <th>309</th>\n",
       "      <td>0.0</td>\n",
       "      <td>0.0</td>\n",
       "      <td>0.0</td>\n",
       "      <td>0.0</td>\n",
       "      <td>0.0</td>\n",
       "      <td>0.0</td>\n",
       "      <td>0.0</td>\n",
       "      <td>0.0</td>\n",
       "      <td>0.0</td>\n",
       "      <td>0.0</td>\n",
       "      <td>...</td>\n",
       "      <td>0.0</td>\n",
       "      <td>0.0</td>\n",
       "      <td>0.0</td>\n",
       "      <td>0.0</td>\n",
       "      <td>0.0</td>\n",
       "      <td>0.0</td>\n",
       "      <td>0.0</td>\n",
       "      <td>0.000000</td>\n",
       "      <td>0.0</td>\n",
       "      <td>0.0</td>\n",
       "    </tr>\n",
       "    <tr>\n",
       "      <th>310</th>\n",
       "      <td>0.0</td>\n",
       "      <td>0.0</td>\n",
       "      <td>0.0</td>\n",
       "      <td>0.0</td>\n",
       "      <td>0.0</td>\n",
       "      <td>0.0</td>\n",
       "      <td>0.0</td>\n",
       "      <td>0.0</td>\n",
       "      <td>0.0</td>\n",
       "      <td>0.0</td>\n",
       "      <td>...</td>\n",
       "      <td>0.0</td>\n",
       "      <td>0.0</td>\n",
       "      <td>0.0</td>\n",
       "      <td>0.0</td>\n",
       "      <td>0.0</td>\n",
       "      <td>0.0</td>\n",
       "      <td>0.0</td>\n",
       "      <td>0.000000</td>\n",
       "      <td>0.0</td>\n",
       "      <td>0.0</td>\n",
       "    </tr>\n",
       "    <tr>\n",
       "      <th>311</th>\n",
       "      <td>0.0</td>\n",
       "      <td>0.0</td>\n",
       "      <td>0.0</td>\n",
       "      <td>0.0</td>\n",
       "      <td>0.0</td>\n",
       "      <td>0.0</td>\n",
       "      <td>0.0</td>\n",
       "      <td>0.0</td>\n",
       "      <td>0.0</td>\n",
       "      <td>0.0</td>\n",
       "      <td>...</td>\n",
       "      <td>0.0</td>\n",
       "      <td>0.0</td>\n",
       "      <td>0.0</td>\n",
       "      <td>0.0</td>\n",
       "      <td>0.0</td>\n",
       "      <td>0.0</td>\n",
       "      <td>0.0</td>\n",
       "      <td>0.000000</td>\n",
       "      <td>0.0</td>\n",
       "      <td>0.0</td>\n",
       "    </tr>\n",
       "    <tr>\n",
       "      <th>312</th>\n",
       "      <td>0.0</td>\n",
       "      <td>0.0</td>\n",
       "      <td>0.0</td>\n",
       "      <td>0.0</td>\n",
       "      <td>0.0</td>\n",
       "      <td>0.0</td>\n",
       "      <td>0.0</td>\n",
       "      <td>0.0</td>\n",
       "      <td>0.0</td>\n",
       "      <td>0.0</td>\n",
       "      <td>...</td>\n",
       "      <td>0.0</td>\n",
       "      <td>0.0</td>\n",
       "      <td>0.0</td>\n",
       "      <td>0.0</td>\n",
       "      <td>0.0</td>\n",
       "      <td>0.0</td>\n",
       "      <td>0.0</td>\n",
       "      <td>0.000000</td>\n",
       "      <td>0.0</td>\n",
       "      <td>0.0</td>\n",
       "    </tr>\n",
       "    <tr>\n",
       "      <th>313</th>\n",
       "      <td>0.0</td>\n",
       "      <td>0.0</td>\n",
       "      <td>0.0</td>\n",
       "      <td>0.0</td>\n",
       "      <td>0.0</td>\n",
       "      <td>0.0</td>\n",
       "      <td>0.0</td>\n",
       "      <td>0.0</td>\n",
       "      <td>0.0</td>\n",
       "      <td>0.0</td>\n",
       "      <td>...</td>\n",
       "      <td>0.0</td>\n",
       "      <td>0.0</td>\n",
       "      <td>0.0</td>\n",
       "      <td>0.0</td>\n",
       "      <td>0.0</td>\n",
       "      <td>0.0</td>\n",
       "      <td>0.0</td>\n",
       "      <td>0.000000</td>\n",
       "      <td>0.0</td>\n",
       "      <td>0.0</td>\n",
       "    </tr>\n",
       "  </tbody>\n",
       "</table>\n",
       "<p>314 rows × 2400 columns</p>\n",
       "</div>"
      ],
      "text/plain": [
       "     1859  1866  1868  1874  abandonna  abord  abordait  absence  accable  \\\n",
       "0     0.0   0.0   0.0   0.0        0.0    0.0       0.0      0.0      0.0   \n",
       "1     0.0   0.0   0.0   0.0        0.0    0.0       0.0      0.0      0.0   \n",
       "2     0.0   0.0   0.0   0.0        0.0    0.0       0.0      0.0      0.0   \n",
       "3     0.0   0.0   0.0   0.0        0.0    0.0       0.0      0.0      0.0   \n",
       "4     0.0   0.0   0.0   0.0        0.0    0.0       0.0      0.0      0.0   \n",
       "..    ...   ...   ...   ...        ...    ...       ...      ...      ...   \n",
       "309   0.0   0.0   0.0   0.0        0.0    0.0       0.0      0.0      0.0   \n",
       "310   0.0   0.0   0.0   0.0        0.0    0.0       0.0      0.0      0.0   \n",
       "311   0.0   0.0   0.0   0.0        0.0    0.0       0.0      0.0      0.0   \n",
       "312   0.0   0.0   0.0   0.0        0.0    0.0       0.0      0.0      0.0   \n",
       "313   0.0   0.0   0.0   0.0        0.0    0.0       0.0      0.0      0.0   \n",
       "\n",
       "     accepta  ...  étuve  été  éveilla  éveiller  éveillèrent  événements  \\\n",
       "0        0.0  ...    0.0  0.0      0.0       0.0          0.0         0.0   \n",
       "1        0.0  ...    0.0  0.0      0.0       0.0          0.0         0.0   \n",
       "2        0.0  ...    0.0  0.0      0.0       0.0          0.0         0.0   \n",
       "3        0.0  ...    0.0  0.0      0.0       0.0          0.0         0.0   \n",
       "4        0.0  ...    0.0  0.0      0.0       0.0          0.0         0.0   \n",
       "..       ...  ...    ...  ...      ...       ...          ...         ...   \n",
       "309      0.0  ...    0.0  0.0      0.0       0.0          0.0         0.0   \n",
       "310      0.0  ...    0.0  0.0      0.0       0.0          0.0         0.0   \n",
       "311      0.0  ...    0.0  0.0      0.0       0.0          0.0         0.0   \n",
       "312      0.0  ...    0.0  0.0      0.0       0.0          0.0         0.0   \n",
       "313      0.0  ...    0.0  0.0      0.0       0.0          0.0         0.0   \n",
       "\n",
       "     êtes      être  êtres  œil  \n",
       "0     0.0  0.000000    0.0  0.0  \n",
       "1     0.0  0.000000    0.0  0.0  \n",
       "2     0.0  0.000000    0.0  0.0  \n",
       "3     0.0  0.116826    0.0  0.0  \n",
       "4     0.0  0.000000    0.0  0.0  \n",
       "..    ...       ...    ...  ...  \n",
       "309   0.0  0.000000    0.0  0.0  \n",
       "310   0.0  0.000000    0.0  0.0  \n",
       "311   0.0  0.000000    0.0  0.0  \n",
       "312   0.0  0.000000    0.0  0.0  \n",
       "313   0.0  0.000000    0.0  0.0  \n",
       "\n",
       "[314 rows x 2400 columns]"
      ]
     },
     "execution_count": 11,
     "metadata": {},
     "output_type": "execute_result"
    }
   ],
   "source": [
    "from sklearn.feature_extraction.text import CountVectorizer, TfidfVectorizer\n",
    "vectorizer = TfidfVectorizer(max_features=2400)\n",
    "tfidf_data = vectorizer.fit_transform(trainn[\"text\"]).toarray()\n",
    "features = vectorizer.get_feature_names()\n",
    "tfidf_dataa = pd.DataFrame(tfidf_data, columns=features)\n",
    "tfidf_dataa"
   ]
  },
  {
   "cell_type": "code",
   "execution_count": null,
   "id": "8c24389b",
   "metadata": {
    "papermill": {
     "duration": 0.030994,
     "end_time": "2022-07-05T12:09:16.456051",
     "exception": false,
     "start_time": "2022-07-05T12:09:16.425057",
     "status": "completed"
    },
    "tags": []
   },
   "outputs": [],
   "source": []
  },
  {
   "cell_type": "code",
   "execution_count": 12,
   "id": "0f530f54",
   "metadata": {
    "execution": {
     "iopub.execute_input": "2022-07-05T12:09:16.540881Z",
     "iopub.status.busy": "2022-07-05T12:09:16.540027Z",
     "iopub.status.idle": "2022-07-05T12:09:16.555149Z",
     "shell.execute_reply": "2022-07-05T12:09:16.554644Z",
     "shell.execute_reply.started": "2022-07-05T12:01:36.737286Z"
    },
    "papermill": {
     "duration": 0.068636,
     "end_time": "2022-07-05T12:09:16.555286",
     "exception": false,
     "start_time": "2022-07-05T12:09:16.486650",
     "status": "completed"
    },
    "tags": []
   },
   "outputs": [],
   "source": [
    "from sklearn.feature_extraction.text import CountVectorizer, TfidfVectorizer\n",
    "vectorizer = TfidfVectorizer(max_features=2400)\n",
    "tfidf_data = vectorizer.fit_transform(lingua_fr[\"text\"]).toarray()\n",
    "features = vectorizer.get_feature_names()\n",
    "tfidf_lingua_fr = pd.DataFrame(tfidf_data, columns=features)"
   ]
  },
  {
   "cell_type": "code",
   "execution_count": 13,
   "id": "af4ff0d3",
   "metadata": {
    "execution": {
     "iopub.execute_input": "2022-07-05T12:09:16.621648Z",
     "iopub.status.busy": "2022-07-05T12:09:16.621050Z",
     "iopub.status.idle": "2022-07-05T12:09:16.623842Z",
     "shell.execute_reply": "2022-07-05T12:09:16.624263Z",
     "shell.execute_reply.started": "2022-07-05T12:01:36.772894Z"
    },
    "papermill": {
     "duration": 0.038731,
     "end_time": "2022-07-05T12:09:16.624405",
     "exception": false,
     "start_time": "2022-07-05T12:09:16.585674",
     "status": "completed"
    },
    "tags": []
   },
   "outputs": [
    {
     "data": {
      "text/plain": [
       "array(['A2', 'B1', 'A1', 'B2', 'C1', 'C2'], dtype=object)"
      ]
     },
     "execution_count": 13,
     "metadata": {},
     "output_type": "execute_result"
    }
   ],
   "source": [
    "y=trainn[\"label\"]\n",
    "y.unique()"
   ]
  },
  {
   "cell_type": "markdown",
   "id": "928381fd",
   "metadata": {
    "papermill": {
     "duration": 0.030101,
     "end_time": "2022-07-05T12:09:16.684557",
     "exception": false,
     "start_time": "2022-07-05T12:09:16.654456",
     "status": "completed"
    },
    "tags": []
   },
   "source": [
    "**encoding y**"
   ]
  },
  {
   "cell_type": "code",
   "execution_count": 14,
   "id": "93ed11f4",
   "metadata": {
    "execution": {
     "iopub.execute_input": "2022-07-05T12:09:16.751202Z",
     "iopub.status.busy": "2022-07-05T12:09:16.750155Z",
     "iopub.status.idle": "2022-07-05T12:09:16.752843Z",
     "shell.execute_reply": "2022-07-05T12:09:16.752412Z",
     "shell.execute_reply.started": "2022-07-05T12:01:36.854386Z"
    },
    "papermill": {
     "duration": 0.037896,
     "end_time": "2022-07-05T12:09:16.752992",
     "exception": false,
     "start_time": "2022-07-05T12:09:16.715096",
     "status": "completed"
    },
    "tags": []
   },
   "outputs": [],
   "source": [
    "y = le.fit_transform(y)"
   ]
  },
  {
   "cell_type": "code",
   "execution_count": 15,
   "id": "4d2c0b91",
   "metadata": {
    "execution": {
     "iopub.execute_input": "2022-07-05T12:09:16.818702Z",
     "iopub.status.busy": "2022-07-05T12:09:16.818130Z",
     "iopub.status.idle": "2022-07-05T12:09:16.820806Z",
     "shell.execute_reply": "2022-07-05T12:09:16.821282Z",
     "shell.execute_reply.started": "2022-07-05T12:01:36.863919Z"
    },
    "papermill": {
     "duration": 0.03846,
     "end_time": "2022-07-05T12:09:16.821423",
     "exception": false,
     "start_time": "2022-07-05T12:09:16.782963",
     "status": "completed"
    },
    "tags": []
   },
   "outputs": [
    {
     "data": {
      "text/plain": [
       "array([0, 1, 2, 3, 4, 5])"
      ]
     },
     "execution_count": 15,
     "metadata": {},
     "output_type": "execute_result"
    }
   ],
   "source": [
    "np.unique(y)"
   ]
  },
  {
   "cell_type": "code",
   "execution_count": 16,
   "id": "51feda38",
   "metadata": {
    "execution": {
     "iopub.execute_input": "2022-07-05T12:09:16.886651Z",
     "iopub.status.busy": "2022-07-05T12:09:16.885945Z",
     "iopub.status.idle": "2022-07-05T12:09:16.888614Z",
     "shell.execute_reply": "2022-07-05T12:09:16.889058Z",
     "shell.execute_reply.started": "2022-07-05T12:01:36.881123Z"
    },
    "papermill": {
     "duration": 0.03755,
     "end_time": "2022-07-05T12:09:16.889197",
     "exception": false,
     "start_time": "2022-07-05T12:09:16.851647",
     "status": "completed"
    },
    "tags": []
   },
   "outputs": [
    {
     "data": {
      "text/plain": [
       "(111, 2400)"
      ]
     },
     "execution_count": 16,
     "metadata": {},
     "output_type": "execute_result"
    }
   ],
   "source": [
    "tfidf_data.shape"
   ]
  },
  {
   "cell_type": "code",
   "execution_count": 17,
   "id": "2011b433",
   "metadata": {
    "execution": {
     "iopub.execute_input": "2022-07-05T12:09:16.962337Z",
     "iopub.status.busy": "2022-07-05T12:09:16.961517Z",
     "iopub.status.idle": "2022-07-05T12:09:16.963550Z",
     "shell.execute_reply": "2022-07-05T12:09:16.963944Z",
     "shell.execute_reply.started": "2022-07-05T12:01:36.888480Z"
    },
    "papermill": {
     "duration": 0.043308,
     "end_time": "2022-07-05T12:09:16.964091",
     "exception": false,
     "start_time": "2022-07-05T12:09:16.920783",
     "status": "completed"
    },
    "tags": []
   },
   "outputs": [],
   "source": [
    "xtrain, xtest, ytrain, ytest = train_test_split(tfidf_dataa, y, test_size=0.2)"
   ]
  },
  {
   "cell_type": "markdown",
   "id": "1aec7640",
   "metadata": {
    "papermill": {
     "duration": 0.030548,
     "end_time": "2022-07-05T12:09:17.026384",
     "exception": false,
     "start_time": "2022-07-05T12:09:16.995836",
     "status": "completed"
    },
    "tags": []
   },
   "source": [
    "****"
   ]
  },
  {
   "cell_type": "code",
   "execution_count": 18,
   "id": "03a3816e",
   "metadata": {
    "execution": {
     "iopub.execute_input": "2022-07-05T12:09:17.092741Z",
     "iopub.status.busy": "2022-07-05T12:09:17.092199Z",
     "iopub.status.idle": "2022-07-05T12:09:19.511384Z",
     "shell.execute_reply": "2022-07-05T12:09:19.511869Z",
     "shell.execute_reply.started": "2022-07-05T12:01:36.902559Z"
    },
    "papermill": {
     "duration": 2.45539,
     "end_time": "2022-07-05T12:09:19.512088",
     "exception": false,
     "start_time": "2022-07-05T12:09:17.056698",
     "status": "completed"
    },
    "tags": []
   },
   "outputs": [
    {
     "data": {
      "text/html": [
       "<style type='text/css'>\n",
       ".datatable table.frame { margin-bottom: 0; }\n",
       ".datatable table.frame thead { border-bottom: none; }\n",
       ".datatable table.frame tr.coltypes td {  color: #FFFFFF;  line-height: 6px;  padding: 0 0.5em;}\n",
       ".datatable .bool    { background: #DDDD99; }\n",
       ".datatable .object  { background: #565656; }\n",
       ".datatable .int     { background: #5D9E5D; }\n",
       ".datatable .float   { background: #4040CC; }\n",
       ".datatable .str     { background: #CC4040; }\n",
       ".datatable .time    { background: #40CC40; }\n",
       ".datatable .row_index {  background: var(--jp-border-color3);  border-right: 1px solid var(--jp-border-color0);  color: var(--jp-ui-font-color3);  font-size: 9px;}\n",
       ".datatable .frame tbody td { text-align: left; }\n",
       ".datatable .frame tr.coltypes .row_index {  background: var(--jp-border-color0);}\n",
       ".datatable th:nth-child(2) { padding-left: 12px; }\n",
       ".datatable .hellipsis {  color: var(--jp-cell-editor-border-color);}\n",
       ".datatable .vellipsis {  background: var(--jp-layout-color0);  color: var(--jp-cell-editor-border-color);}\n",
       ".datatable .na {  color: var(--jp-cell-editor-border-color);  font-size: 80%;}\n",
       ".datatable .sp {  opacity: 0.25;}\n",
       ".datatable .footer { font-size: 9px; }\n",
       ".datatable .frame_dimensions {  background: var(--jp-border-color3);  border-top: 1px solid var(--jp-border-color0);  color: var(--jp-ui-font-color3);  display: inline-block;  opacity: 0.6;  padding: 1px 10px 1px 5px;}\n",
       "</style>\n"
      ],
      "text/plain": [
       "<IPython.core.display.HTML object>"
      ]
     },
     "metadata": {},
     "output_type": "display_data"
    },
    {
     "name": "stdout",
     "output_type": "stream",
     "text": [
      "LightGBM Model accuracy score: 0.6508\n"
     ]
    }
   ],
   "source": [
    "import lightgbm as lgb\n",
    "clf = lgb.LGBMClassifier()\n",
    "clf.fit(xtrain, ytrain)\n",
    "y_pred=clf.predict(xtest)\n",
    "accuracy=accuracy_score(y_pred, ytest)\n",
    "print('LightGBM Model accuracy score: {0:0.4f}'.format(accuracy_score(ytest, y_pred)))"
   ]
  },
  {
   "cell_type": "code",
   "execution_count": 19,
   "id": "16481daf",
   "metadata": {
    "execution": {
     "iopub.execute_input": "2022-07-05T12:09:19.640728Z",
     "iopub.status.busy": "2022-07-05T12:09:19.639755Z",
     "iopub.status.idle": "2022-07-05T12:09:19.647131Z",
     "shell.execute_reply": "2022-07-05T12:09:19.647757Z",
     "shell.execute_reply.started": "2022-07-05T12:01:37.111291Z"
    },
    "papermill": {
     "duration": 0.102529,
     "end_time": "2022-07-05T12:09:19.647956",
     "exception": false,
     "start_time": "2022-07-05T12:09:19.545427",
     "status": "completed"
    },
    "tags": []
   },
   "outputs": [
    {
     "name": "stdout",
     "output_type": "stream",
     "text": [
      "              precision    recall  f1-score   support\n",
      "\n",
      "           0       0.89      0.73      0.80        11\n",
      "           1       1.00      0.15      0.27        13\n",
      "           2       0.59      1.00      0.74        26\n",
      "           3       0.75      0.50      0.60         6\n",
      "           4       0.33      0.20      0.25         5\n",
      "           5       1.00      0.50      0.67         2\n",
      "\n",
      "    accuracy                           0.65        63\n",
      "   macro avg       0.76      0.51      0.55        63\n",
      "weighted avg       0.74      0.65      0.60        63\n",
      "\n"
     ]
    }
   ],
   "source": [
    "from sklearn.metrics import classification_report\n",
    "print(classification_report(ytest, y_pred))"
   ]
  },
  {
   "cell_type": "code",
   "execution_count": 20,
   "id": "27078b88",
   "metadata": {
    "execution": {
     "iopub.execute_input": "2022-07-05T12:09:19.719250Z",
     "iopub.status.busy": "2022-07-05T12:09:19.718392Z",
     "iopub.status.idle": "2022-07-05T12:09:19.720180Z",
     "shell.execute_reply": "2022-07-05T12:09:19.720625Z",
     "shell.execute_reply.started": "2022-07-05T12:01:37.123031Z"
    },
    "papermill": {
     "duration": 0.039691,
     "end_time": "2022-07-05T12:09:19.720758",
     "exception": false,
     "start_time": "2022-07-05T12:09:19.681067",
     "status": "completed"
    },
    "tags": []
   },
   "outputs": [],
   "source": [
    "y_true=le.transform(lingua_fr[\"cefr\"])"
   ]
  },
  {
   "cell_type": "code",
   "execution_count": 21,
   "id": "88b8b169",
   "metadata": {
    "execution": {
     "iopub.execute_input": "2022-07-05T12:09:19.792741Z",
     "iopub.status.busy": "2022-07-05T12:09:19.791862Z",
     "iopub.status.idle": "2022-07-05T12:09:19.794610Z",
     "shell.execute_reply": "2022-07-05T12:09:19.795040Z",
     "shell.execute_reply.started": "2022-07-05T12:01:37.129495Z"
    },
    "papermill": {
     "duration": 0.041806,
     "end_time": "2022-07-05T12:09:19.795189",
     "exception": false,
     "start_time": "2022-07-05T12:09:19.753383",
     "status": "completed"
    },
    "tags": []
   },
   "outputs": [
    {
     "data": {
      "text/plain": [
       "array([0, 1, 2, 3])"
      ]
     },
     "execution_count": 21,
     "metadata": {},
     "output_type": "execute_result"
    }
   ],
   "source": [
    "np.unique(y_true)"
   ]
  },
  {
   "cell_type": "code",
   "execution_count": 22,
   "id": "e457cd83",
   "metadata": {
    "execution": {
     "iopub.execute_input": "2022-07-05T12:09:19.865184Z",
     "iopub.status.busy": "2022-07-05T12:09:19.864181Z",
     "iopub.status.idle": "2022-07-05T12:09:20.119756Z",
     "shell.execute_reply": "2022-07-05T12:09:20.119303Z",
     "shell.execute_reply.started": "2022-07-05T12:01:37.141881Z"
    },
    "papermill": {
     "duration": 0.292925,
     "end_time": "2022-07-05T12:09:20.119879",
     "exception": false,
     "start_time": "2022-07-05T12:09:19.826954",
     "status": "completed"
    },
    "tags": []
   },
   "outputs": [
    {
     "data": {
      "text/plain": [
       "LGBMClassifier()"
      ]
     },
     "execution_count": 22,
     "metadata": {},
     "output_type": "execute_result"
    }
   ],
   "source": [
    "x=pd.concat([xtrain, xtest])\n",
    "y_=np.concatenate([ytrain, ytest])\n",
    "clf.fit(x,y_)"
   ]
  },
  {
   "cell_type": "code",
   "execution_count": 23,
   "id": "5d50f061",
   "metadata": {
    "execution": {
     "iopub.execute_input": "2022-07-05T12:09:20.188791Z",
     "iopub.status.busy": "2022-07-05T12:09:20.188002Z",
     "iopub.status.idle": "2022-07-05T12:09:20.209607Z",
     "shell.execute_reply": "2022-07-05T12:09:20.210030Z",
     "shell.execute_reply.started": "2022-07-05T12:01:37.369624Z"
    },
    "papermill": {
     "duration": 0.057893,
     "end_time": "2022-07-05T12:09:20.210166",
     "exception": false,
     "start_time": "2022-07-05T12:09:20.152273",
     "status": "completed"
    },
    "tags": []
   },
   "outputs": [],
   "source": [
    "y_pr=clf.predict(tfidf_lingua_fr)"
   ]
  },
  {
   "cell_type": "code",
   "execution_count": 24,
   "id": "c4fcd47f",
   "metadata": {
    "execution": {
     "iopub.execute_input": "2022-07-05T12:09:20.279315Z",
     "iopub.status.busy": "2022-07-05T12:09:20.278612Z",
     "iopub.status.idle": "2022-07-05T12:09:20.281314Z",
     "shell.execute_reply": "2022-07-05T12:09:20.281739Z",
     "shell.execute_reply.started": "2022-07-05T12:01:37.397056Z"
    },
    "papermill": {
     "duration": 0.039933,
     "end_time": "2022-07-05T12:09:20.281870",
     "exception": false,
     "start_time": "2022-07-05T12:09:20.241937",
     "status": "completed"
    },
    "tags": []
   },
   "outputs": [
    {
     "data": {
      "text/plain": [
       "array([0, 1, 2])"
      ]
     },
     "execution_count": 24,
     "metadata": {},
     "output_type": "execute_result"
    }
   ],
   "source": [
    "np.unique(y_pr)"
   ]
  },
  {
   "cell_type": "code",
   "execution_count": 25,
   "id": "c12b89b4",
   "metadata": {
    "execution": {
     "iopub.execute_input": "2022-07-05T12:09:20.349943Z",
     "iopub.status.busy": "2022-07-05T12:09:20.349169Z",
     "iopub.status.idle": "2022-07-05T12:09:20.355491Z",
     "shell.execute_reply": "2022-07-05T12:09:20.356076Z",
     "shell.execute_reply.started": "2022-07-05T12:01:37.404129Z"
    },
    "papermill": {
     "duration": 0.041951,
     "end_time": "2022-07-05T12:09:20.356206",
     "exception": false,
     "start_time": "2022-07-05T12:09:20.314255",
     "status": "completed"
    },
    "tags": []
   },
   "outputs": [
    {
     "name": "stdout",
     "output_type": "stream",
     "text": [
      "              precision    recall  f1-score   support\n",
      "\n",
      "           0       0.12      0.85      0.22        13\n",
      "           1       1.00      0.04      0.07        26\n",
      "           2       0.64      0.23      0.34        60\n",
      "           3       0.00      0.00      0.00        12\n",
      "\n",
      "    accuracy                           0.23       111\n",
      "   macro avg       0.44      0.28      0.16       111\n",
      "weighted avg       0.59      0.23      0.23       111\n",
      "\n"
     ]
    }
   ],
   "source": [
    "print(classification_report(y_true, y_pr))"
   ]
  },
  {
   "cell_type": "markdown",
   "id": "5b5f910e",
   "metadata": {
    "papermill": {
     "duration": 0.033911,
     "end_time": "2022-07-05T12:09:20.422943",
     "exception": false,
     "start_time": "2022-07-05T12:09:20.389032",
     "status": "completed"
    },
    "tags": []
   },
   "source": [
    "****"
   ]
  },
  {
   "cell_type": "code",
   "execution_count": 26,
   "id": "0813f79d",
   "metadata": {
    "execution": {
     "iopub.execute_input": "2022-07-05T12:09:20.495057Z",
     "iopub.status.busy": "2022-07-05T12:09:20.494310Z",
     "iopub.status.idle": "2022-07-05T12:09:20.496288Z",
     "shell.execute_reply": "2022-07-05T12:09:20.496771Z",
     "shell.execute_reply.started": "2022-07-05T12:01:37.418192Z"
    },
    "papermill": {
     "duration": 0.040873,
     "end_time": "2022-07-05T12:09:20.496913",
     "exception": false,
     "start_time": "2022-07-05T12:09:20.456040",
     "status": "completed"
    },
    "tags": []
   },
   "outputs": [],
   "source": [
    "def run_lgb(train_X, train_y, val_X, val_y):\n",
    "    params = {\n",
    "        \"objective\":\"multiclass\",\n",
    "        \"num_classes\":\"6\",\n",
    "        \"metric\" : \"multi_error\",\n",
    "        \"boosting_type\": \"gbdt\",\n",
    "        \"num_leaves\" : 10,\n",
    "        \"learning_rate\" : 0.004,\n",
    "        \"bagging_fraction\" : 0.6,\n",
    "        \"feature_fraction\" : 0.6,\n",
    "        \"bagging_frequency\" : 6,\n",
    "        \"bagging_seed\" : 42,\n",
    "        \"verbosity\" : -1,\n",
    "        \"seed\": 42\n",
    "    }\n",
    "    \n",
    "    lgtrain = lgb.Dataset(train_X, label=train_y)\n",
    "    lgval = lgb.Dataset(val_X, label=val_y)\n",
    "    evals_result = {}\n",
    "    model = lgb.train(params, lgtrain, 5000,\n",
    "                      valid_sets=[lgtrain, lgval], \n",
    "                      early_stopping_rounds=100, \n",
    "                      verbose_eval=150, \n",
    "                      evals_result=evals_result)\n",
    "    return  model, evals_result"
   ]
  },
  {
   "cell_type": "code",
   "execution_count": 27,
   "id": "8ca05215",
   "metadata": {
    "execution": {
     "iopub.execute_input": "2022-07-05T12:09:20.567778Z",
     "iopub.status.busy": "2022-07-05T12:09:20.567078Z",
     "iopub.status.idle": "2022-07-05T12:09:20.742787Z",
     "shell.execute_reply": "2022-07-05T12:09:20.742151Z",
     "shell.execute_reply.started": "2022-07-05T12:01:37.426589Z"
    },
    "papermill": {
     "duration": 0.212507,
     "end_time": "2022-07-05T12:09:20.742959",
     "exception": false,
     "start_time": "2022-07-05T12:09:20.530452",
     "status": "completed"
    },
    "tags": []
   },
   "outputs": [
    {
     "name": "stdout",
     "output_type": "stream",
     "text": [
      "[LightGBM] [Warning] Unknown parameter: bagging_frequency\n",
      "Training until validation scores don't improve for 100 rounds\n",
      "Early stopping, best iteration is:\n",
      "[1]\ttraining's multi_error: 0.466135\tvalid_1's multi_error: 0.587302\n",
      "LightGBM Training Completed...\n"
     ]
    }
   ],
   "source": [
    " model, evals_result = run_lgb(xtrain, ytrain, xtest, ytest)\n",
    "print(\"LightGBM Training Completed...\")"
   ]
  },
  {
   "cell_type": "code",
   "execution_count": 28,
   "id": "c39cbd35",
   "metadata": {
    "execution": {
     "iopub.execute_input": "2022-07-05T12:09:20.814472Z",
     "iopub.status.busy": "2022-07-05T12:09:20.813655Z",
     "iopub.status.idle": "2022-07-05T12:09:20.832016Z",
     "shell.execute_reply": "2022-07-05T12:09:20.831416Z",
     "shell.execute_reply.started": "2022-07-05T12:01:37.604785Z"
    },
    "papermill": {
     "duration": 0.054826,
     "end_time": "2022-07-05T12:09:20.832158",
     "exception": false,
     "start_time": "2022-07-05T12:09:20.777332",
     "status": "completed"
    },
    "tags": []
   },
   "outputs": [],
   "source": [
    "ypred=model.predict(xtest).argmax(axis=1)"
   ]
  },
  {
   "cell_type": "code",
   "execution_count": 29,
   "id": "e77f5bb2",
   "metadata": {
    "execution": {
     "iopub.execute_input": "2022-07-05T12:09:20.913239Z",
     "iopub.status.busy": "2022-07-05T12:09:20.911849Z",
     "iopub.status.idle": "2022-07-05T12:09:20.916158Z",
     "shell.execute_reply": "2022-07-05T12:09:20.916645Z",
     "shell.execute_reply.started": "2022-07-05T12:01:37.627729Z"
    },
    "papermill": {
     "duration": 0.049149,
     "end_time": "2022-07-05T12:09:20.916807",
     "exception": false,
     "start_time": "2022-07-05T12:09:20.867658",
     "status": "completed"
    },
    "tags": []
   },
   "outputs": [
    {
     "data": {
      "text/plain": [
       "array([2, 2, 2, 2, 2, 2, 2, 2, 2, 2, 2, 2, 2, 2, 2, 2, 2, 2, 2, 2, 2, 2,\n",
       "       2, 2, 2, 2, 2, 2, 2, 2, 2, 2, 2, 2, 2, 2, 2, 2, 2, 2, 2, 2, 2, 2,\n",
       "       2, 2, 2, 2, 2, 2, 2, 2, 2, 2, 2, 2, 2, 2, 2, 2, 2, 2, 2])"
      ]
     },
     "execution_count": 29,
     "metadata": {},
     "output_type": "execute_result"
    }
   ],
   "source": [
    "ypred"
   ]
  },
  {
   "cell_type": "code",
   "execution_count": 30,
   "id": "0d18770e",
   "metadata": {
    "execution": {
     "iopub.execute_input": "2022-07-05T12:09:20.998081Z",
     "iopub.status.busy": "2022-07-05T12:09:20.996318Z",
     "iopub.status.idle": "2022-07-05T12:09:21.000541Z",
     "shell.execute_reply": "2022-07-05T12:09:20.999890Z",
     "shell.execute_reply.started": "2022-07-05T12:01:37.638793Z"
    },
    "papermill": {
     "duration": 0.045428,
     "end_time": "2022-07-05T12:09:21.000702",
     "exception": false,
     "start_time": "2022-07-05T12:09:20.955274",
     "status": "completed"
    },
    "tags": []
   },
   "outputs": [
    {
     "name": "stdout",
     "output_type": "stream",
     "text": [
      "LightGBM Model accuracy score: 0.4127\n"
     ]
    }
   ],
   "source": [
    "accuracy=accuracy_score(ypred, ytest)\n",
    "print('LightGBM Model accuracy score: {0:0.4f}'.format(accuracy_score(ytest, ypred)))"
   ]
  },
  {
   "cell_type": "markdown",
   "id": "71c741dc",
   "metadata": {
    "papermill": {
     "duration": 0.034846,
     "end_time": "2022-07-05T12:09:21.072058",
     "exception": false,
     "start_time": "2022-07-05T12:09:21.037212",
     "status": "completed"
    },
    "tags": []
   },
   "source": [
    "****"
   ]
  },
  {
   "cell_type": "code",
   "execution_count": 31,
   "id": "e984d4ee",
   "metadata": {
    "execution": {
     "iopub.execute_input": "2022-07-05T12:09:21.145692Z",
     "iopub.status.busy": "2022-07-05T12:09:21.144884Z",
     "iopub.status.idle": "2022-07-05T12:09:21.165915Z",
     "shell.execute_reply": "2022-07-05T12:09:21.165371Z",
     "shell.execute_reply.started": "2022-07-05T12:07:49.068914Z"
    },
    "papermill": {
     "duration": 0.060154,
     "end_time": "2022-07-05T12:09:21.166061",
     "exception": false,
     "start_time": "2022-07-05T12:09:21.105907",
     "status": "completed"
    },
    "tags": []
   },
   "outputs": [
    {
     "data": {
      "text/plain": [
       "array([2])"
      ]
     },
     "execution_count": 31,
     "metadata": {},
     "output_type": "execute_result"
    }
   ],
   "source": [
    "ypr=model.predict(tfidf_lingua_fr).argmax(axis=1)\n",
    "np.unique(ypr)"
   ]
  },
  {
   "cell_type": "code",
   "execution_count": 32,
   "id": "ed1b01fa",
   "metadata": {
    "execution": {
     "iopub.execute_input": "2022-07-05T12:09:21.242502Z",
     "iopub.status.busy": "2022-07-05T12:09:21.241415Z",
     "iopub.status.idle": "2022-07-05T12:09:21.249568Z",
     "shell.execute_reply": "2022-07-05T12:09:21.250247Z",
     "shell.execute_reply.started": "2022-07-05T12:07:50.729542Z"
    },
    "papermill": {
     "duration": 0.048765,
     "end_time": "2022-07-05T12:09:21.250449",
     "exception": false,
     "start_time": "2022-07-05T12:09:21.201684",
     "status": "completed"
    },
    "tags": []
   },
   "outputs": [
    {
     "name": "stdout",
     "output_type": "stream",
     "text": [
      "              precision    recall  f1-score   support\n",
      "\n",
      "           0       0.12      0.85      0.22        13\n",
      "           1       1.00      0.04      0.07        26\n",
      "           2       0.64      0.23      0.34        60\n",
      "           3       0.00      0.00      0.00        12\n",
      "\n",
      "    accuracy                           0.23       111\n",
      "   macro avg       0.44      0.28      0.16       111\n",
      "weighted avg       0.59      0.23      0.23       111\n",
      "\n"
     ]
    }
   ],
   "source": [
    "print(classification_report(y_true, y_pr))"
   ]
  },
  {
   "cell_type": "code",
   "execution_count": null,
   "id": "af73b5eb",
   "metadata": {
    "papermill": {
     "duration": 0.035075,
     "end_time": "2022-07-05T12:09:21.320721",
     "exception": false,
     "start_time": "2022-07-05T12:09:21.285646",
     "status": "completed"
    },
    "tags": []
   },
   "outputs": [],
   "source": []
  }
 ],
 "metadata": {
  "kernelspec": {
   "display_name": "Python 3",
   "language": "python",
   "name": "python3"
  },
  "language_info": {
   "codemirror_mode": {
    "name": "ipython",
    "version": 3
   },
   "file_extension": ".py",
   "mimetype": "text/x-python",
   "name": "python",
   "nbconvert_exporter": "python",
   "pygments_lexer": "ipython3",
   "version": "3.7.10"
  },
  "papermill": {
   "default_parameters": {},
   "duration": 24.374742,
   "end_time": "2022-07-05T12:09:24.635639",
   "environment_variables": {},
   "exception": null,
   "input_path": "__notebook__.ipynb",
   "output_path": "__notebook__.ipynb",
   "parameters": {},
   "start_time": "2022-07-05T12:09:00.260897",
   "version": "2.3.3"
  }
 },
 "nbformat": 4,
 "nbformat_minor": 5
}
