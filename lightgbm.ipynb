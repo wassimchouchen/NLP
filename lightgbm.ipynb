{
 "cells": [
  {
   "cell_type": "code",
   "execution_count": 1,
   "id": "36293deb",
   "metadata": {
    "_cell_guid": "b1076dfc-b9ad-4769-8c92-a6c4dae69d19",
    "_uuid": "8f2839f25d086af736a60e9eeb907d3b93b6e0e5",
    "execution": {
     "iopub.execute_input": "2022-07-05T12:01:54.622994Z",
     "iopub.status.busy": "2022-07-05T12:01:54.621461Z",
     "iopub.status.idle": "2022-07-05T12:02:02.245388Z",
     "shell.execute_reply": "2022-07-05T12:02:02.245830Z",
     "shell.execute_reply.started": "2022-07-05T12:01:36.103455Z"
    },
    "papermill": {
     "duration": 7.653884,
     "end_time": "2022-07-05T12:02:02.246128",
     "exception": false,
     "start_time": "2022-07-05T12:01:54.592244",
     "status": "completed"
    },
    "tags": []
   },
   "outputs": [],
   "source": [
    "import os\n",
    "\n",
    "import random\n",
    "import numpy as np\n",
    "\n",
    "import pandas as pd\n",
    "import torch\n",
    "from torch.utils.data import Dataset, random_split\n",
    "from sklearn.model_selection import train_test_split \n",
    "from transformers import (\n",
    "    AdamW,\n",
    "    Trainer,\n",
    "    TrainingArguments,\n",
    "    AutoTokenizer,\n",
    "    AutoModelForSequenceClassification,\n",
    "    get_cosine_schedule_with_warmup,\n",
    ")\n",
    "from sklearn.preprocessing import LabelEncoder\n",
    "from sklearn.metrics import accuracy_score\n",
    "from sklearn import preprocessing\n",
    "from sklearn.metrics import accuracy_score\n",
    "le = preprocessing.LabelEncoder()\n",
    "import warnings\n",
    "warnings.filterwarnings('ignore')"
   ]
  },
  {
   "cell_type": "code",
   "execution_count": 2,
   "id": "82a35481",
   "metadata": {
    "execution": {
     "iopub.execute_input": "2022-07-05T12:02:02.300188Z",
     "iopub.status.busy": "2022-07-05T12:02:02.299614Z",
     "iopub.status.idle": "2022-07-05T12:02:02.326843Z",
     "shell.execute_reply": "2022-07-05T12:02:02.326403Z",
     "shell.execute_reply.started": "2022-07-05T12:01:36.116266Z"
    },
    "papermill": {
     "duration": 0.055996,
     "end_time": "2022-07-05T12:02:02.326971",
     "exception": false,
     "start_time": "2022-07-05T12:02:02.270975",
     "status": "completed"
    },
    "tags": []
   },
   "outputs": [
    {
     "data": {
      "text/plain": [
       "(191, 3)"
      ]
     },
     "execution_count": 2,
     "metadata": {},
     "output_type": "execute_result"
    }
   ],
   "source": [
    "new_data=pd.read_csv(\"../input/csvvvv/Classeur 1 (5).csv\")\n",
    "new_data.drop([\"Y\",\"Word Count\",\"Language\",' '], axis=1, inplace=True)\n",
    "new_data.columns = [\"text\", \"CEFR Review\",\"CEFR Level_Samar\"]\n",
    "new_data.shape"
   ]
  },
  {
   "cell_type": "code",
   "execution_count": 3,
   "id": "ecf8a96c",
   "metadata": {
    "execution": {
     "iopub.execute_input": "2022-07-05T12:02:02.382317Z",
     "iopub.status.busy": "2022-07-05T12:02:02.381454Z",
     "iopub.status.idle": "2022-07-05T12:02:02.390498Z",
     "shell.execute_reply": "2022-07-05T12:02:02.390904Z",
     "shell.execute_reply.started": "2022-07-05T12:01:36.304265Z"
    },
    "papermill": {
     "duration": 0.03842,
     "end_time": "2022-07-05T12:02:02.391042",
     "exception": false,
     "start_time": "2022-07-05T12:02:02.352622",
     "status": "completed"
    },
    "tags": []
   },
   "outputs": [
    {
     "data": {
      "text/html": [
       "<div>\n",
       "<style scoped>\n",
       "    .dataframe tbody tr th:only-of-type {\n",
       "        vertical-align: middle;\n",
       "    }\n",
       "\n",
       "    .dataframe tbody tr th {\n",
       "        vertical-align: top;\n",
       "    }\n",
       "\n",
       "    .dataframe thead th {\n",
       "        text-align: right;\n",
       "    }\n",
       "</style>\n",
       "<table border=\"1\" class=\"dataframe\">\n",
       "  <thead>\n",
       "    <tr style=\"text-align: right;\">\n",
       "      <th></th>\n",
       "      <th>text</th>\n",
       "      <th>CEFR Review</th>\n",
       "      <th>CEFR Level_Samar</th>\n",
       "    </tr>\n",
       "  </thead>\n",
       "  <tbody>\n",
       "    <tr>\n",
       "      <th>0</th>\n",
       "      <td>En 1815, M. Charles-François-Bienvenu Myriel é...</td>\n",
       "      <td>A2</td>\n",
       "      <td>C1</td>\n",
       "    </tr>\n",
       "    <tr>\n",
       "      <th>1</th>\n",
       "      <td>Quoique ce détail ne touche en aucune manière ...</td>\n",
       "      <td>C1</td>\n",
       "      <td>C2</td>\n",
       "    </tr>\n",
       "  </tbody>\n",
       "</table>\n",
       "</div>"
      ],
      "text/plain": [
       "                                                text CEFR Review  \\\n",
       "0  En 1815, M. Charles-François-Bienvenu Myriel é...          A2   \n",
       "1  Quoique ce détail ne touche en aucune manière ...          C1   \n",
       "\n",
       "  CEFR Level_Samar  \n",
       "0               C1  \n",
       "1               C2  "
      ]
     },
     "execution_count": 3,
     "metadata": {},
     "output_type": "execute_result"
    }
   ],
   "source": [
    "new_data.head(2)"
   ]
  },
  {
   "cell_type": "markdown",
   "id": "2f9ac63e",
   "metadata": {
    "papermill": {
     "duration": 0.025283,
     "end_time": "2022-07-05T12:02:02.441144",
     "exception": false,
     "start_time": "2022-07-05T12:02:02.415861",
     "status": "completed"
    },
    "tags": []
   },
   "source": [
    "**extract samar dataset**"
   ]
  },
  {
   "cell_type": "code",
   "execution_count": 4,
   "id": "3868afc0",
   "metadata": {
    "execution": {
     "iopub.execute_input": "2022-07-05T12:02:02.501498Z",
     "iopub.status.busy": "2022-07-05T12:02:02.500346Z",
     "iopub.status.idle": "2022-07-05T12:02:02.511503Z",
     "shell.execute_reply": "2022-07-05T12:02:02.511944Z",
     "shell.execute_reply.started": "2022-07-05T12:01:36.316933Z"
    },
    "papermill": {
     "duration": 0.045923,
     "end_time": "2022-07-05T12:02:02.512080",
     "exception": false,
     "start_time": "2022-07-05T12:02:02.466157",
     "status": "completed"
    },
    "tags": []
   },
   "outputs": [
    {
     "data": {
      "text/html": [
       "<div>\n",
       "<style scoped>\n",
       "    .dataframe tbody tr th:only-of-type {\n",
       "        vertical-align: middle;\n",
       "    }\n",
       "\n",
       "    .dataframe tbody tr th {\n",
       "        vertical-align: top;\n",
       "    }\n",
       "\n",
       "    .dataframe thead th {\n",
       "        text-align: right;\n",
       "    }\n",
       "</style>\n",
       "<table border=\"1\" class=\"dataframe\">\n",
       "  <thead>\n",
       "    <tr style=\"text-align: right;\">\n",
       "      <th></th>\n",
       "      <th>text</th>\n",
       "      <th>label</th>\n",
       "    </tr>\n",
       "  </thead>\n",
       "  <tbody>\n",
       "    <tr>\n",
       "      <th>0</th>\n",
       "      <td>En 1815, M. Charles-François-Bienvenu Myriel é...</td>\n",
       "      <td>C1</td>\n",
       "    </tr>\n",
       "    <tr>\n",
       "      <th>1</th>\n",
       "      <td>Quoique ce détail ne touche en aucune manière ...</td>\n",
       "      <td>C2</td>\n",
       "    </tr>\n",
       "    <tr>\n",
       "      <th>2</th>\n",
       "      <td>En 1804, M. Myriel était curé de Brignolles. I...</td>\n",
       "      <td>C1</td>\n",
       "    </tr>\n",
       "    <tr>\n",
       "      <th>3</th>\n",
       "      <td>Vers l'époque du couronnement, une petite affa...</td>\n",
       "      <td>C2</td>\n",
       "    </tr>\n",
       "    <tr>\n",
       "      <th>4</th>\n",
       "      <td>—Quel est ce bonhomme qui me regarde?</td>\n",
       "      <td>C1</td>\n",
       "    </tr>\n",
       "  </tbody>\n",
       "</table>\n",
       "</div>"
      ],
      "text/plain": [
       "                                                text label\n",
       "0  En 1815, M. Charles-François-Bienvenu Myriel é...    C1\n",
       "1  Quoique ce détail ne touche en aucune manière ...    C2\n",
       "2  En 1804, M. Myriel était curé de Brignolles. I...    C1\n",
       "3  Vers l'époque du couronnement, une petite affa...    C2\n",
       "4              —Quel est ce bonhomme qui me regarde?    C1"
      ]
     },
     "execution_count": 4,
     "metadata": {},
     "output_type": "execute_result"
    }
   ],
   "source": [
    "mike_20_june_samar=new_data[pd.notnull(new_data['CEFR Level_Samar'])]\n",
    "mike_20_june_samar.columns = [\"text\", \"CEFR Review\",\"label\"]\n",
    "mike_20_june_samar.drop([\"CEFR Review\"],axis=1, inplace=True)\n",
    "mike_20_june_samar.to_csv(\"mike_20_june_samar.csv\" , index=False)\n",
    "mike_20_june_samar.head()"
   ]
  },
  {
   "cell_type": "markdown",
   "id": "a04b0ac7",
   "metadata": {
    "papermill": {
     "duration": 0.026564,
     "end_time": "2022-07-05T12:02:02.563867",
     "exception": false,
     "start_time": "2022-07-05T12:02:02.537303",
     "status": "completed"
    },
    "tags": []
   },
   "source": [
    "**extract mike_new dataset**"
   ]
  },
  {
   "cell_type": "code",
   "execution_count": 5,
   "id": "08191d8c",
   "metadata": {
    "execution": {
     "iopub.execute_input": "2022-07-05T12:02:02.622672Z",
     "iopub.status.busy": "2022-07-05T12:02:02.620561Z",
     "iopub.status.idle": "2022-07-05T12:02:02.632468Z",
     "shell.execute_reply": "2022-07-05T12:02:02.632927Z",
     "shell.execute_reply.started": "2022-07-05T12:01:36.335289Z"
    },
    "papermill": {
     "duration": 0.044077,
     "end_time": "2022-07-05T12:02:02.633072",
     "exception": false,
     "start_time": "2022-07-05T12:02:02.588995",
     "status": "completed"
    },
    "tags": []
   },
   "outputs": [
    {
     "data": {
      "text/html": [
       "<div>\n",
       "<style scoped>\n",
       "    .dataframe tbody tr th:only-of-type {\n",
       "        vertical-align: middle;\n",
       "    }\n",
       "\n",
       "    .dataframe tbody tr th {\n",
       "        vertical-align: top;\n",
       "    }\n",
       "\n",
       "    .dataframe thead th {\n",
       "        text-align: right;\n",
       "    }\n",
       "</style>\n",
       "<table border=\"1\" class=\"dataframe\">\n",
       "  <thead>\n",
       "    <tr style=\"text-align: right;\">\n",
       "      <th></th>\n",
       "      <th>text</th>\n",
       "      <th>label</th>\n",
       "    </tr>\n",
       "  </thead>\n",
       "  <tbody>\n",
       "    <tr>\n",
       "      <th>0</th>\n",
       "      <td>En 1815, M. Charles-François-Bienvenu Myriel é...</td>\n",
       "      <td>A2</td>\n",
       "    </tr>\n",
       "    <tr>\n",
       "      <th>1</th>\n",
       "      <td>Quoique ce détail ne touche en aucune manière ...</td>\n",
       "      <td>C1</td>\n",
       "    </tr>\n",
       "    <tr>\n",
       "      <th>2</th>\n",
       "      <td>En 1804, M. Myriel était curé de Brignolles. I...</td>\n",
       "      <td>A2</td>\n",
       "    </tr>\n",
       "    <tr>\n",
       "      <th>3</th>\n",
       "      <td>Vers l'époque du couronnement, une petite affa...</td>\n",
       "      <td>B2</td>\n",
       "    </tr>\n",
       "    <tr>\n",
       "      <th>4</th>\n",
       "      <td>—Quel est ce bonhomme qui me regarde?</td>\n",
       "      <td>A2</td>\n",
       "    </tr>\n",
       "  </tbody>\n",
       "</table>\n",
       "</div>"
      ],
      "text/plain": [
       "                                                text label\n",
       "0  En 1815, M. Charles-François-Bienvenu Myriel é...    A2\n",
       "1  Quoique ce détail ne touche en aucune manière ...    C1\n",
       "2  En 1804, M. Myriel était curé de Brignolles. I...    A2\n",
       "3  Vers l'époque du couronnement, une petite affa...    B2\n",
       "4              —Quel est ce bonhomme qui me regarde?    A2"
      ]
     },
     "execution_count": 5,
     "metadata": {},
     "output_type": "execute_result"
    }
   ],
   "source": [
    "mike_20_june_new=new_data[pd.notnull(new_data['CEFR Review'])]\n",
    "mike_20_june_new.columns = [\"text\", \"label\",\"CEFR Level_Samar\"]\n",
    "mike_20_june_new.drop([\"CEFR Level_Samar\"],axis=1, inplace=True)\n",
    "mike_20_june_new.to_csv(\"mike_20_june_new.csv\" , index=False)\n",
    "mike_20_june_new.head() "
   ]
  },
  {
   "cell_type": "markdown",
   "id": "6a3caeeb",
   "metadata": {
    "papermill": {
     "duration": 0.025438,
     "end_time": "2022-07-05T12:02:02.684952",
     "exception": false,
     "start_time": "2022-07-05T12:02:02.659514",
     "status": "completed"
    },
    "tags": []
   },
   "source": [
    "**General insights about samar and mike_new datasets**"
   ]
  },
  {
   "cell_type": "code",
   "execution_count": 6,
   "id": "dd389c94",
   "metadata": {
    "execution": {
     "iopub.execute_input": "2022-07-05T12:02:02.741587Z",
     "iopub.status.busy": "2022-07-05T12:02:02.738797Z",
     "iopub.status.idle": "2022-07-05T12:02:02.746182Z",
     "shell.execute_reply": "2022-07-05T12:02:02.746558Z",
     "shell.execute_reply.started": "2022-07-05T12:01:36.480956Z"
    },
    "papermill": {
     "duration": 0.035944,
     "end_time": "2022-07-05T12:02:02.746689",
     "exception": false,
     "start_time": "2022-07-05T12:02:02.710745",
     "status": "completed"
    },
    "tags": []
   },
   "outputs": [
    {
     "data": {
      "text/plain": [
       "(array(['C1', 'C2'], dtype=object),\n",
       " array(['A2', 'C1', 'B2', 'A1', 'B1', 'C2'], dtype=object))"
      ]
     },
     "execution_count": 6,
     "metadata": {},
     "output_type": "execute_result"
    }
   ],
   "source": [
    "mike_20_june_samar[\"label\"].unique(), mike_20_june_new[\"label\"].unique()"
   ]
  },
  {
   "cell_type": "markdown",
   "id": "4fe4262d",
   "metadata": {
    "papermill": {
     "duration": 0.025834,
     "end_time": "2022-07-05T12:02:02.798417",
     "exception": false,
     "start_time": "2022-07-05T12:02:02.772583",
     "status": "completed"
    },
    "tags": []
   },
   "source": [
    "****!!!! samar annotation seems to be weird because there is just C1 and C2****"
   ]
  },
  {
   "cell_type": "code",
   "execution_count": 7,
   "id": "417bd8ff",
   "metadata": {
    "execution": {
     "iopub.execute_input": "2022-07-05T12:02:02.859865Z",
     "iopub.status.busy": "2022-07-05T12:02:02.858659Z",
     "iopub.status.idle": "2022-07-05T12:02:02.862335Z",
     "shell.execute_reply": "2022-07-05T12:02:02.861816Z",
     "shell.execute_reply.started": "2022-07-05T12:01:36.493289Z"
    },
    "papermill": {
     "duration": 0.037923,
     "end_time": "2022-07-05T12:02:02.862461",
     "exception": false,
     "start_time": "2022-07-05T12:02:02.824538",
     "status": "completed"
    },
    "tags": []
   },
   "outputs": [
    {
     "data": {
      "text/plain": [
       "C1    58\n",
       "A1    41\n",
       "B2    33\n",
       "B1    29\n",
       "A2    24\n",
       "C2     6\n",
       "Name: label, dtype: int64"
      ]
     },
     "execution_count": 7,
     "metadata": {},
     "output_type": "execute_result"
    }
   ],
   "source": [
    "mike_20_june_new.label.value_counts()"
   ]
  },
  {
   "cell_type": "code",
   "execution_count": 8,
   "id": "fa30b47d",
   "metadata": {
    "execution": {
     "iopub.execute_input": "2022-07-05T12:02:02.918938Z",
     "iopub.status.busy": "2022-07-05T12:02:02.918402Z",
     "iopub.status.idle": "2022-07-05T12:02:02.923652Z",
     "shell.execute_reply": "2022-07-05T12:02:02.923214Z",
     "shell.execute_reply.started": "2022-07-05T12:01:36.509942Z"
    },
    "papermill": {
     "duration": 0.03539,
     "end_time": "2022-07-05T12:02:02.923766",
     "exception": false,
     "start_time": "2022-07-05T12:02:02.888376",
     "status": "completed"
    },
    "tags": []
   },
   "outputs": [
    {
     "data": {
      "text/plain": [
       "((141, 2), (191, 2))"
      ]
     },
     "execution_count": 8,
     "metadata": {},
     "output_type": "execute_result"
    }
   ],
   "source": [
    "mike_20_june_samar.shape,mike_20_june_new.shape"
   ]
  },
  {
   "cell_type": "code",
   "execution_count": 9,
   "id": "f40d7a18",
   "metadata": {
    "execution": {
     "iopub.execute_input": "2022-07-05T12:02:02.981094Z",
     "iopub.status.busy": "2022-07-05T12:02:02.980556Z",
     "iopub.status.idle": "2022-07-05T12:02:03.002743Z",
     "shell.execute_reply": "2022-07-05T12:02:03.002265Z",
     "shell.execute_reply.started": "2022-07-05T12:01:36.641863Z"
    },
    "papermill": {
     "duration": 0.052734,
     "end_time": "2022-07-05T12:02:03.002869",
     "exception": false,
     "start_time": "2022-07-05T12:02:02.950135",
     "status": "completed"
    },
    "tags": []
   },
   "outputs": [
    {
     "data": {
      "text/html": [
       "<div>\n",
       "<style scoped>\n",
       "    .dataframe tbody tr th:only-of-type {\n",
       "        vertical-align: middle;\n",
       "    }\n",
       "\n",
       "    .dataframe tbody tr th {\n",
       "        vertical-align: top;\n",
       "    }\n",
       "\n",
       "    .dataframe thead th {\n",
       "        text-align: right;\n",
       "    }\n",
       "</style>\n",
       "<table border=\"1\" class=\"dataframe\">\n",
       "  <thead>\n",
       "    <tr style=\"text-align: right;\">\n",
       "      <th></th>\n",
       "      <th>text</th>\n",
       "      <th>len</th>\n",
       "      <th>lang</th>\n",
       "      <th>label</th>\n",
       "    </tr>\n",
       "  </thead>\n",
       "  <tbody>\n",
       "    <tr>\n",
       "      <th>0</th>\n",
       "      <td>Il était une fois un prince qui voulait épouse...</td>\n",
       "      <td>15</td>\n",
       "      <td>FR</td>\n",
       "      <td>A2</td>\n",
       "    </tr>\n",
       "    <tr>\n",
       "      <th>1</th>\n",
       "      <td>Il fit le tour de la Terre pour en trouver une...</td>\n",
       "      <td>62</td>\n",
       "      <td>FR</td>\n",
       "      <td>B1</td>\n",
       "    </tr>\n",
       "    <tr>\n",
       "      <th>2</th>\n",
       "      <td>Un soir, par un temps affreux, éclairs et tonn...</td>\n",
       "      <td>31</td>\n",
       "      <td>FR</td>\n",
       "      <td>B1</td>\n",
       "    </tr>\n",
       "    <tr>\n",
       "      <th>3</th>\n",
       "      <td>C'était une princesse qui était là, dehors. M...</td>\n",
       "      <td>51</td>\n",
       "      <td>FR</td>\n",
       "      <td>A2</td>\n",
       "    </tr>\n",
       "    <tr>\n",
       "      <th>4</th>\n",
       "      <td>« Nous allons bien voir ça », pensait la vieil...</td>\n",
       "      <td>76</td>\n",
       "      <td>FR</td>\n",
       "      <td>B1</td>\n",
       "    </tr>\n",
       "  </tbody>\n",
       "</table>\n",
       "</div>"
      ],
      "text/plain": [
       "                                                text  len lang label\n",
       "0  Il était une fois un prince qui voulait épouse...   15   FR    A2\n",
       "1  Il fit le tour de la Terre pour en trouver une...   62   FR    B1\n",
       "2  Un soir, par un temps affreux, éclairs et tonn...   31   FR    B1\n",
       "3   C'était une princesse qui était là, dehors. M...   51   FR    A2\n",
       "4  « Nous allons bien voir ça », pensait la vieil...   76   FR    B1"
      ]
     },
     "execution_count": 9,
     "metadata": {},
     "output_type": "execute_result"
    }
   ],
   "source": [
    "trainn=pd.read_csv(\"../input/frenchcefr/french dataset.csv\")\n",
    "trainn = trainn[trainn.label != \"XX\"]\n",
    "trainn.head()"
   ]
  },
  {
   "cell_type": "code",
   "execution_count": 10,
   "id": "09f30aad",
   "metadata": {
    "execution": {
     "iopub.execute_input": "2022-07-05T12:02:03.061100Z",
     "iopub.status.busy": "2022-07-05T12:02:03.059929Z",
     "iopub.status.idle": "2022-07-05T12:02:03.078634Z",
     "shell.execute_reply": "2022-07-05T12:02:03.079238Z",
     "shell.execute_reply.started": "2022-07-05T12:01:36.661504Z"
    },
    "papermill": {
     "duration": 0.049201,
     "end_time": "2022-07-05T12:02:03.079373",
     "exception": false,
     "start_time": "2022-07-05T12:02:03.030172",
     "status": "completed"
    },
    "tags": []
   },
   "outputs": [],
   "source": [
    "lingua_fr=pd.read_csv(\"../input/lingua/fr_lingua.csv\")"
   ]
  },
  {
   "cell_type": "code",
   "execution_count": 11,
   "id": "454ce32c",
   "metadata": {
    "_kg_hide-output": true,
    "execution": {
     "iopub.execute_input": "2022-07-05T12:02:03.139460Z",
     "iopub.status.busy": "2022-07-05T12:02:03.138817Z",
     "iopub.status.idle": "2022-07-05T12:02:03.219548Z",
     "shell.execute_reply": "2022-07-05T12:02:03.219998Z",
     "shell.execute_reply.started": "2022-07-05T12:01:36.671877Z"
    },
    "papermill": {
     "duration": 0.112486,
     "end_time": "2022-07-05T12:02:03.220149",
     "exception": false,
     "start_time": "2022-07-05T12:02:03.107663",
     "status": "completed"
    },
    "tags": []
   },
   "outputs": [
    {
     "data": {
      "text/html": [
       "<div>\n",
       "<style scoped>\n",
       "    .dataframe tbody tr th:only-of-type {\n",
       "        vertical-align: middle;\n",
       "    }\n",
       "\n",
       "    .dataframe tbody tr th {\n",
       "        vertical-align: top;\n",
       "    }\n",
       "\n",
       "    .dataframe thead th {\n",
       "        text-align: right;\n",
       "    }\n",
       "</style>\n",
       "<table border=\"1\" class=\"dataframe\">\n",
       "  <thead>\n",
       "    <tr style=\"text-align: right;\">\n",
       "      <th></th>\n",
       "      <th>1859</th>\n",
       "      <th>1866</th>\n",
       "      <th>1868</th>\n",
       "      <th>1874</th>\n",
       "      <th>abandonna</th>\n",
       "      <th>abord</th>\n",
       "      <th>abordait</th>\n",
       "      <th>absence</th>\n",
       "      <th>accable</th>\n",
       "      <th>accepta</th>\n",
       "      <th>...</th>\n",
       "      <th>étuve</th>\n",
       "      <th>été</th>\n",
       "      <th>éveilla</th>\n",
       "      <th>éveiller</th>\n",
       "      <th>éveillèrent</th>\n",
       "      <th>événements</th>\n",
       "      <th>êtes</th>\n",
       "      <th>être</th>\n",
       "      <th>êtres</th>\n",
       "      <th>œil</th>\n",
       "    </tr>\n",
       "  </thead>\n",
       "  <tbody>\n",
       "    <tr>\n",
       "      <th>0</th>\n",
       "      <td>0.0</td>\n",
       "      <td>0.0</td>\n",
       "      <td>0.0</td>\n",
       "      <td>0.0</td>\n",
       "      <td>0.0</td>\n",
       "      <td>0.0</td>\n",
       "      <td>0.0</td>\n",
       "      <td>0.0</td>\n",
       "      <td>0.0</td>\n",
       "      <td>0.0</td>\n",
       "      <td>...</td>\n",
       "      <td>0.0</td>\n",
       "      <td>0.0</td>\n",
       "      <td>0.0</td>\n",
       "      <td>0.0</td>\n",
       "      <td>0.0</td>\n",
       "      <td>0.0</td>\n",
       "      <td>0.0</td>\n",
       "      <td>0.000000</td>\n",
       "      <td>0.0</td>\n",
       "      <td>0.0</td>\n",
       "    </tr>\n",
       "    <tr>\n",
       "      <th>1</th>\n",
       "      <td>0.0</td>\n",
       "      <td>0.0</td>\n",
       "      <td>0.0</td>\n",
       "      <td>0.0</td>\n",
       "      <td>0.0</td>\n",
       "      <td>0.0</td>\n",
       "      <td>0.0</td>\n",
       "      <td>0.0</td>\n",
       "      <td>0.0</td>\n",
       "      <td>0.0</td>\n",
       "      <td>...</td>\n",
       "      <td>0.0</td>\n",
       "      <td>0.0</td>\n",
       "      <td>0.0</td>\n",
       "      <td>0.0</td>\n",
       "      <td>0.0</td>\n",
       "      <td>0.0</td>\n",
       "      <td>0.0</td>\n",
       "      <td>0.000000</td>\n",
       "      <td>0.0</td>\n",
       "      <td>0.0</td>\n",
       "    </tr>\n",
       "    <tr>\n",
       "      <th>2</th>\n",
       "      <td>0.0</td>\n",
       "      <td>0.0</td>\n",
       "      <td>0.0</td>\n",
       "      <td>0.0</td>\n",
       "      <td>0.0</td>\n",
       "      <td>0.0</td>\n",
       "      <td>0.0</td>\n",
       "      <td>0.0</td>\n",
       "      <td>0.0</td>\n",
       "      <td>0.0</td>\n",
       "      <td>...</td>\n",
       "      <td>0.0</td>\n",
       "      <td>0.0</td>\n",
       "      <td>0.0</td>\n",
       "      <td>0.0</td>\n",
       "      <td>0.0</td>\n",
       "      <td>0.0</td>\n",
       "      <td>0.0</td>\n",
       "      <td>0.000000</td>\n",
       "      <td>0.0</td>\n",
       "      <td>0.0</td>\n",
       "    </tr>\n",
       "    <tr>\n",
       "      <th>3</th>\n",
       "      <td>0.0</td>\n",
       "      <td>0.0</td>\n",
       "      <td>0.0</td>\n",
       "      <td>0.0</td>\n",
       "      <td>0.0</td>\n",
       "      <td>0.0</td>\n",
       "      <td>0.0</td>\n",
       "      <td>0.0</td>\n",
       "      <td>0.0</td>\n",
       "      <td>0.0</td>\n",
       "      <td>...</td>\n",
       "      <td>0.0</td>\n",
       "      <td>0.0</td>\n",
       "      <td>0.0</td>\n",
       "      <td>0.0</td>\n",
       "      <td>0.0</td>\n",
       "      <td>0.0</td>\n",
       "      <td>0.0</td>\n",
       "      <td>0.116826</td>\n",
       "      <td>0.0</td>\n",
       "      <td>0.0</td>\n",
       "    </tr>\n",
       "    <tr>\n",
       "      <th>4</th>\n",
       "      <td>0.0</td>\n",
       "      <td>0.0</td>\n",
       "      <td>0.0</td>\n",
       "      <td>0.0</td>\n",
       "      <td>0.0</td>\n",
       "      <td>0.0</td>\n",
       "      <td>0.0</td>\n",
       "      <td>0.0</td>\n",
       "      <td>0.0</td>\n",
       "      <td>0.0</td>\n",
       "      <td>...</td>\n",
       "      <td>0.0</td>\n",
       "      <td>0.0</td>\n",
       "      <td>0.0</td>\n",
       "      <td>0.0</td>\n",
       "      <td>0.0</td>\n",
       "      <td>0.0</td>\n",
       "      <td>0.0</td>\n",
       "      <td>0.000000</td>\n",
       "      <td>0.0</td>\n",
       "      <td>0.0</td>\n",
       "    </tr>\n",
       "    <tr>\n",
       "      <th>...</th>\n",
       "      <td>...</td>\n",
       "      <td>...</td>\n",
       "      <td>...</td>\n",
       "      <td>...</td>\n",
       "      <td>...</td>\n",
       "      <td>...</td>\n",
       "      <td>...</td>\n",
       "      <td>...</td>\n",
       "      <td>...</td>\n",
       "      <td>...</td>\n",
       "      <td>...</td>\n",
       "      <td>...</td>\n",
       "      <td>...</td>\n",
       "      <td>...</td>\n",
       "      <td>...</td>\n",
       "      <td>...</td>\n",
       "      <td>...</td>\n",
       "      <td>...</td>\n",
       "      <td>...</td>\n",
       "      <td>...</td>\n",
       "      <td>...</td>\n",
       "    </tr>\n",
       "    <tr>\n",
       "      <th>309</th>\n",
       "      <td>0.0</td>\n",
       "      <td>0.0</td>\n",
       "      <td>0.0</td>\n",
       "      <td>0.0</td>\n",
       "      <td>0.0</td>\n",
       "      <td>0.0</td>\n",
       "      <td>0.0</td>\n",
       "      <td>0.0</td>\n",
       "      <td>0.0</td>\n",
       "      <td>0.0</td>\n",
       "      <td>...</td>\n",
       "      <td>0.0</td>\n",
       "      <td>0.0</td>\n",
       "      <td>0.0</td>\n",
       "      <td>0.0</td>\n",
       "      <td>0.0</td>\n",
       "      <td>0.0</td>\n",
       "      <td>0.0</td>\n",
       "      <td>0.000000</td>\n",
       "      <td>0.0</td>\n",
       "      <td>0.0</td>\n",
       "    </tr>\n",
       "    <tr>\n",
       "      <th>310</th>\n",
       "      <td>0.0</td>\n",
       "      <td>0.0</td>\n",
       "      <td>0.0</td>\n",
       "      <td>0.0</td>\n",
       "      <td>0.0</td>\n",
       "      <td>0.0</td>\n",
       "      <td>0.0</td>\n",
       "      <td>0.0</td>\n",
       "      <td>0.0</td>\n",
       "      <td>0.0</td>\n",
       "      <td>...</td>\n",
       "      <td>0.0</td>\n",
       "      <td>0.0</td>\n",
       "      <td>0.0</td>\n",
       "      <td>0.0</td>\n",
       "      <td>0.0</td>\n",
       "      <td>0.0</td>\n",
       "      <td>0.0</td>\n",
       "      <td>0.000000</td>\n",
       "      <td>0.0</td>\n",
       "      <td>0.0</td>\n",
       "    </tr>\n",
       "    <tr>\n",
       "      <th>311</th>\n",
       "      <td>0.0</td>\n",
       "      <td>0.0</td>\n",
       "      <td>0.0</td>\n",
       "      <td>0.0</td>\n",
       "      <td>0.0</td>\n",
       "      <td>0.0</td>\n",
       "      <td>0.0</td>\n",
       "      <td>0.0</td>\n",
       "      <td>0.0</td>\n",
       "      <td>0.0</td>\n",
       "      <td>...</td>\n",
       "      <td>0.0</td>\n",
       "      <td>0.0</td>\n",
       "      <td>0.0</td>\n",
       "      <td>0.0</td>\n",
       "      <td>0.0</td>\n",
       "      <td>0.0</td>\n",
       "      <td>0.0</td>\n",
       "      <td>0.000000</td>\n",
       "      <td>0.0</td>\n",
       "      <td>0.0</td>\n",
       "    </tr>\n",
       "    <tr>\n",
       "      <th>312</th>\n",
       "      <td>0.0</td>\n",
       "      <td>0.0</td>\n",
       "      <td>0.0</td>\n",
       "      <td>0.0</td>\n",
       "      <td>0.0</td>\n",
       "      <td>0.0</td>\n",
       "      <td>0.0</td>\n",
       "      <td>0.0</td>\n",
       "      <td>0.0</td>\n",
       "      <td>0.0</td>\n",
       "      <td>...</td>\n",
       "      <td>0.0</td>\n",
       "      <td>0.0</td>\n",
       "      <td>0.0</td>\n",
       "      <td>0.0</td>\n",
       "      <td>0.0</td>\n",
       "      <td>0.0</td>\n",
       "      <td>0.0</td>\n",
       "      <td>0.000000</td>\n",
       "      <td>0.0</td>\n",
       "      <td>0.0</td>\n",
       "    </tr>\n",
       "    <tr>\n",
       "      <th>313</th>\n",
       "      <td>0.0</td>\n",
       "      <td>0.0</td>\n",
       "      <td>0.0</td>\n",
       "      <td>0.0</td>\n",
       "      <td>0.0</td>\n",
       "      <td>0.0</td>\n",
       "      <td>0.0</td>\n",
       "      <td>0.0</td>\n",
       "      <td>0.0</td>\n",
       "      <td>0.0</td>\n",
       "      <td>...</td>\n",
       "      <td>0.0</td>\n",
       "      <td>0.0</td>\n",
       "      <td>0.0</td>\n",
       "      <td>0.0</td>\n",
       "      <td>0.0</td>\n",
       "      <td>0.0</td>\n",
       "      <td>0.0</td>\n",
       "      <td>0.000000</td>\n",
       "      <td>0.0</td>\n",
       "      <td>0.0</td>\n",
       "    </tr>\n",
       "  </tbody>\n",
       "</table>\n",
       "<p>314 rows × 2400 columns</p>\n",
       "</div>"
      ],
      "text/plain": [
       "     1859  1866  1868  1874  abandonna  abord  abordait  absence  accable  \\\n",
       "0     0.0   0.0   0.0   0.0        0.0    0.0       0.0      0.0      0.0   \n",
       "1     0.0   0.0   0.0   0.0        0.0    0.0       0.0      0.0      0.0   \n",
       "2     0.0   0.0   0.0   0.0        0.0    0.0       0.0      0.0      0.0   \n",
       "3     0.0   0.0   0.0   0.0        0.0    0.0       0.0      0.0      0.0   \n",
       "4     0.0   0.0   0.0   0.0        0.0    0.0       0.0      0.0      0.0   \n",
       "..    ...   ...   ...   ...        ...    ...       ...      ...      ...   \n",
       "309   0.0   0.0   0.0   0.0        0.0    0.0       0.0      0.0      0.0   \n",
       "310   0.0   0.0   0.0   0.0        0.0    0.0       0.0      0.0      0.0   \n",
       "311   0.0   0.0   0.0   0.0        0.0    0.0       0.0      0.0      0.0   \n",
       "312   0.0   0.0   0.0   0.0        0.0    0.0       0.0      0.0      0.0   \n",
       "313   0.0   0.0   0.0   0.0        0.0    0.0       0.0      0.0      0.0   \n",
       "\n",
       "     accepta  ...  étuve  été  éveilla  éveiller  éveillèrent  événements  \\\n",
       "0        0.0  ...    0.0  0.0      0.0       0.0          0.0         0.0   \n",
       "1        0.0  ...    0.0  0.0      0.0       0.0          0.0         0.0   \n",
       "2        0.0  ...    0.0  0.0      0.0       0.0          0.0         0.0   \n",
       "3        0.0  ...    0.0  0.0      0.0       0.0          0.0         0.0   \n",
       "4        0.0  ...    0.0  0.0      0.0       0.0          0.0         0.0   \n",
       "..       ...  ...    ...  ...      ...       ...          ...         ...   \n",
       "309      0.0  ...    0.0  0.0      0.0       0.0          0.0         0.0   \n",
       "310      0.0  ...    0.0  0.0      0.0       0.0          0.0         0.0   \n",
       "311      0.0  ...    0.0  0.0      0.0       0.0          0.0         0.0   \n",
       "312      0.0  ...    0.0  0.0      0.0       0.0          0.0         0.0   \n",
       "313      0.0  ...    0.0  0.0      0.0       0.0          0.0         0.0   \n",
       "\n",
       "     êtes      être  êtres  œil  \n",
       "0     0.0  0.000000    0.0  0.0  \n",
       "1     0.0  0.000000    0.0  0.0  \n",
       "2     0.0  0.000000    0.0  0.0  \n",
       "3     0.0  0.116826    0.0  0.0  \n",
       "4     0.0  0.000000    0.0  0.0  \n",
       "..    ...       ...    ...  ...  \n",
       "309   0.0  0.000000    0.0  0.0  \n",
       "310   0.0  0.000000    0.0  0.0  \n",
       "311   0.0  0.000000    0.0  0.0  \n",
       "312   0.0  0.000000    0.0  0.0  \n",
       "313   0.0  0.000000    0.0  0.0  \n",
       "\n",
       "[314 rows x 2400 columns]"
      ]
     },
     "execution_count": 11,
     "metadata": {},
     "output_type": "execute_result"
    }
   ],
   "source": [
    "from sklearn.feature_extraction.text import CountVectorizer, TfidfVectorizer\n",
    "vectorizer = TfidfVectorizer(max_features=2400)\n",
    "tfidf_data = vectorizer.fit_transform(trainn[\"text\"]).toarray()\n",
    "features = vectorizer.get_feature_names()\n",
    "tfidf_dataa = pd.DataFrame(tfidf_data, columns=features)\n",
    "tfidf_dataa"
   ]
  },
  {
   "cell_type": "code",
   "execution_count": null,
   "id": "0f411fd8",
   "metadata": {
    "papermill": {
     "duration": 0.027282,
     "end_time": "2022-07-05T12:02:03.276366",
     "exception": false,
     "start_time": "2022-07-05T12:02:03.249084",
     "status": "completed"
    },
    "tags": []
   },
   "outputs": [],
   "source": []
  },
  {
   "cell_type": "code",
   "execution_count": 12,
   "id": "c8af958c",
   "metadata": {
    "execution": {
     "iopub.execute_input": "2022-07-05T12:02:03.355549Z",
     "iopub.status.busy": "2022-07-05T12:02:03.354700Z",
     "iopub.status.idle": "2022-07-05T12:02:03.370155Z",
     "shell.execute_reply": "2022-07-05T12:02:03.369696Z",
     "shell.execute_reply.started": "2022-07-05T12:01:36.737286Z"
    },
    "papermill": {
     "duration": 0.066,
     "end_time": "2022-07-05T12:02:03.370275",
     "exception": false,
     "start_time": "2022-07-05T12:02:03.304275",
     "status": "completed"
    },
    "tags": []
   },
   "outputs": [],
   "source": [
    "from sklearn.feature_extraction.text import CountVectorizer, TfidfVectorizer\n",
    "vectorizer = TfidfVectorizer(max_features=2400)\n",
    "tfidf_data = vectorizer.fit_transform(lingua_fr[\"text\"]).toarray()\n",
    "features = vectorizer.get_feature_names()\n",
    "tfidf_lingua_fr = pd.DataFrame(tfidf_data, columns=features)"
   ]
  },
  {
   "cell_type": "code",
   "execution_count": 13,
   "id": "c0ce0fb4",
   "metadata": {
    "execution": {
     "iopub.execute_input": "2022-07-05T12:02:03.430771Z",
     "iopub.status.busy": "2022-07-05T12:02:03.430147Z",
     "iopub.status.idle": "2022-07-05T12:02:03.432752Z",
     "shell.execute_reply": "2022-07-05T12:02:03.433181Z",
     "shell.execute_reply.started": "2022-07-05T12:01:36.772894Z"
    },
    "papermill": {
     "duration": 0.035441,
     "end_time": "2022-07-05T12:02:03.433310",
     "exception": false,
     "start_time": "2022-07-05T12:02:03.397869",
     "status": "completed"
    },
    "tags": []
   },
   "outputs": [
    {
     "data": {
      "text/plain": [
       "array(['A2', 'B1', 'A1', 'B2', 'C1', 'C2'], dtype=object)"
      ]
     },
     "execution_count": 13,
     "metadata": {},
     "output_type": "execute_result"
    }
   ],
   "source": [
    "y=trainn[\"label\"]\n",
    "y.unique()"
   ]
  },
  {
   "cell_type": "markdown",
   "id": "52526018",
   "metadata": {
    "papermill": {
     "duration": 0.028493,
     "end_time": "2022-07-05T12:02:03.489609",
     "exception": false,
     "start_time": "2022-07-05T12:02:03.461116",
     "status": "completed"
    },
    "tags": []
   },
   "source": [
    "**encoding y**"
   ]
  },
  {
   "cell_type": "code",
   "execution_count": 14,
   "id": "d3d6966c",
   "metadata": {
    "execution": {
     "iopub.execute_input": "2022-07-05T12:02:03.551572Z",
     "iopub.status.busy": "2022-07-05T12:02:03.550736Z",
     "iopub.status.idle": "2022-07-05T12:02:03.552860Z",
     "shell.execute_reply": "2022-07-05T12:02:03.553410Z",
     "shell.execute_reply.started": "2022-07-05T12:01:36.854386Z"
    },
    "papermill": {
     "duration": 0.035497,
     "end_time": "2022-07-05T12:02:03.553582",
     "exception": false,
     "start_time": "2022-07-05T12:02:03.518085",
     "status": "completed"
    },
    "tags": []
   },
   "outputs": [],
   "source": [
    "y = le.fit_transform(y)"
   ]
  },
  {
   "cell_type": "code",
   "execution_count": 15,
   "id": "224d70f7",
   "metadata": {
    "execution": {
     "iopub.execute_input": "2022-07-05T12:02:03.615561Z",
     "iopub.status.busy": "2022-07-05T12:02:03.614687Z",
     "iopub.status.idle": "2022-07-05T12:02:03.619417Z",
     "shell.execute_reply": "2022-07-05T12:02:03.618966Z",
     "shell.execute_reply.started": "2022-07-05T12:01:36.863919Z"
    },
    "papermill": {
     "duration": 0.037053,
     "end_time": "2022-07-05T12:02:03.619525",
     "exception": false,
     "start_time": "2022-07-05T12:02:03.582472",
     "status": "completed"
    },
    "tags": []
   },
   "outputs": [
    {
     "data": {
      "text/plain": [
       "array([0, 1, 2, 3, 4, 5])"
      ]
     },
     "execution_count": 15,
     "metadata": {},
     "output_type": "execute_result"
    }
   ],
   "source": [
    "np.unique(y)"
   ]
  },
  {
   "cell_type": "code",
   "execution_count": 16,
   "id": "23a009ec",
   "metadata": {
    "execution": {
     "iopub.execute_input": "2022-07-05T12:02:03.681623Z",
     "iopub.status.busy": "2022-07-05T12:02:03.680926Z",
     "iopub.status.idle": "2022-07-05T12:02:03.683739Z",
     "shell.execute_reply": "2022-07-05T12:02:03.684161Z",
     "shell.execute_reply.started": "2022-07-05T12:01:36.881123Z"
    },
    "papermill": {
     "duration": 0.036214,
     "end_time": "2022-07-05T12:02:03.684298",
     "exception": false,
     "start_time": "2022-07-05T12:02:03.648084",
     "status": "completed"
    },
    "tags": []
   },
   "outputs": [
    {
     "data": {
      "text/plain": [
       "(111, 2400)"
      ]
     },
     "execution_count": 16,
     "metadata": {},
     "output_type": "execute_result"
    }
   ],
   "source": [
    "tfidf_data.shape"
   ]
  },
  {
   "cell_type": "code",
   "execution_count": 17,
   "id": "3faa855c",
   "metadata": {
    "execution": {
     "iopub.execute_input": "2022-07-05T12:02:03.752595Z",
     "iopub.status.busy": "2022-07-05T12:02:03.751798Z",
     "iopub.status.idle": "2022-07-05T12:02:03.754333Z",
     "shell.execute_reply": "2022-07-05T12:02:03.753863Z",
     "shell.execute_reply.started": "2022-07-05T12:01:36.888480Z"
    },
    "papermill": {
     "duration": 0.041715,
     "end_time": "2022-07-05T12:02:03.754445",
     "exception": false,
     "start_time": "2022-07-05T12:02:03.712730",
     "status": "completed"
    },
    "tags": []
   },
   "outputs": [],
   "source": [
    "xtrain, xtest, ytrain, ytest = train_test_split(tfidf_dataa, y, test_size=0.2)"
   ]
  },
  {
   "cell_type": "markdown",
   "id": "1cba4ca4",
   "metadata": {
    "papermill": {
     "duration": 0.029231,
     "end_time": "2022-07-05T12:02:03.812404",
     "exception": false,
     "start_time": "2022-07-05T12:02:03.783173",
     "status": "completed"
    },
    "tags": []
   },
   "source": [
    "****"
   ]
  },
  {
   "cell_type": "code",
   "execution_count": 18,
   "id": "78e10e48",
   "metadata": {
    "execution": {
     "iopub.execute_input": "2022-07-05T12:02:03.875663Z",
     "iopub.status.busy": "2022-07-05T12:02:03.874966Z",
     "iopub.status.idle": "2022-07-05T12:02:06.117876Z",
     "shell.execute_reply": "2022-07-05T12:02:06.118685Z",
     "shell.execute_reply.started": "2022-07-05T12:01:36.902559Z"
    },
    "papermill": {
     "duration": 2.277889,
     "end_time": "2022-07-05T12:02:06.118901",
     "exception": false,
     "start_time": "2022-07-05T12:02:03.841012",
     "status": "completed"
    },
    "tags": []
   },
   "outputs": [
    {
     "data": {
      "text/html": [
       "<style type='text/css'>\n",
       ".datatable table.frame { margin-bottom: 0; }\n",
       ".datatable table.frame thead { border-bottom: none; }\n",
       ".datatable table.frame tr.coltypes td {  color: #FFFFFF;  line-height: 6px;  padding: 0 0.5em;}\n",
       ".datatable .bool    { background: #DDDD99; }\n",
       ".datatable .object  { background: #565656; }\n",
       ".datatable .int     { background: #5D9E5D; }\n",
       ".datatable .float   { background: #4040CC; }\n",
       ".datatable .str     { background: #CC4040; }\n",
       ".datatable .time    { background: #40CC40; }\n",
       ".datatable .row_index {  background: var(--jp-border-color3);  border-right: 1px solid var(--jp-border-color0);  color: var(--jp-ui-font-color3);  font-size: 9px;}\n",
       ".datatable .frame tbody td { text-align: left; }\n",
       ".datatable .frame tr.coltypes .row_index {  background: var(--jp-border-color0);}\n",
       ".datatable th:nth-child(2) { padding-left: 12px; }\n",
       ".datatable .hellipsis {  color: var(--jp-cell-editor-border-color);}\n",
       ".datatable .vellipsis {  background: var(--jp-layout-color0);  color: var(--jp-cell-editor-border-color);}\n",
       ".datatable .na {  color: var(--jp-cell-editor-border-color);  font-size: 80%;}\n",
       ".datatable .sp {  opacity: 0.25;}\n",
       ".datatable .footer { font-size: 9px; }\n",
       ".datatable .frame_dimensions {  background: var(--jp-border-color3);  border-top: 1px solid var(--jp-border-color0);  color: var(--jp-ui-font-color3);  display: inline-block;  opacity: 0.6;  padding: 1px 10px 1px 5px;}\n",
       "</style>\n"
      ],
      "text/plain": [
       "<IPython.core.display.HTML object>"
      ]
     },
     "metadata": {},
     "output_type": "display_data"
    },
    {
     "name": "stdout",
     "output_type": "stream",
     "text": [
      "LightGBM Model accuracy score: 0.4603\n"
     ]
    }
   ],
   "source": [
    "import lightgbm as lgb\n",
    "clf = lgb.LGBMClassifier()\n",
    "clf.fit(xtrain, ytrain)\n",
    "y_pred=clf.predict(xtest)\n",
    "accuracy=accuracy_score(y_pred, ytest)\n",
    "print('LightGBM Model accuracy score: {0:0.4f}'.format(accuracy_score(ytest, y_pred)))"
   ]
  },
  {
   "cell_type": "code",
   "execution_count": 19,
   "id": "77468c29",
   "metadata": {
    "execution": {
     "iopub.execute_input": "2022-07-05T12:02:06.185953Z",
     "iopub.status.busy": "2022-07-05T12:02:06.183584Z",
     "iopub.status.idle": "2022-07-05T12:02:06.191314Z",
     "shell.execute_reply": "2022-07-05T12:02:06.191920Z",
     "shell.execute_reply.started": "2022-07-05T12:01:37.111291Z"
    },
    "papermill": {
     "duration": 0.042565,
     "end_time": "2022-07-05T12:02:06.192099",
     "exception": false,
     "start_time": "2022-07-05T12:02:06.149534",
     "status": "completed"
    },
    "tags": []
   },
   "outputs": [
    {
     "name": "stdout",
     "output_type": "stream",
     "text": [
      "              precision    recall  f1-score   support\n",
      "\n",
      "           0       0.30      0.43      0.35         7\n",
      "           1       0.50      0.36      0.42        14\n",
      "           2       0.49      0.69      0.57        26\n",
      "           3       0.40      0.25      0.31         8\n",
      "           4       0.00      0.00      0.00         6\n",
      "           5       1.00      0.50      0.67         2\n",
      "\n",
      "    accuracy                           0.46        63\n",
      "   macro avg       0.45      0.37      0.39        63\n",
      "weighted avg       0.43      0.46      0.43        63\n",
      "\n"
     ]
    }
   ],
   "source": [
    "from sklearn.metrics import classification_report\n",
    "print(classification_report(ytest, y_pred))"
   ]
  },
  {
   "cell_type": "code",
   "execution_count": 20,
   "id": "d025720b",
   "metadata": {
    "execution": {
     "iopub.execute_input": "2022-07-05T12:02:06.259985Z",
     "iopub.status.busy": "2022-07-05T12:02:06.259048Z",
     "iopub.status.idle": "2022-07-05T12:02:06.261458Z",
     "shell.execute_reply": "2022-07-05T12:02:06.261925Z",
     "shell.execute_reply.started": "2022-07-05T12:01:37.123031Z"
    },
    "papermill": {
     "duration": 0.038748,
     "end_time": "2022-07-05T12:02:06.262082",
     "exception": false,
     "start_time": "2022-07-05T12:02:06.223334",
     "status": "completed"
    },
    "tags": []
   },
   "outputs": [],
   "source": [
    "y_true=le.transform(lingua_fr[\"cefr\"])"
   ]
  },
  {
   "cell_type": "code",
   "execution_count": 21,
   "id": "8ac8a70e",
   "metadata": {
    "execution": {
     "iopub.execute_input": "2022-07-05T12:02:06.375272Z",
     "iopub.status.busy": "2022-07-05T12:02:06.374559Z",
     "iopub.status.idle": "2022-07-05T12:02:06.377293Z",
     "shell.execute_reply": "2022-07-05T12:02:06.377700Z",
     "shell.execute_reply.started": "2022-07-05T12:01:37.129495Z"
    },
    "papermill": {
     "duration": 0.086362,
     "end_time": "2022-07-05T12:02:06.377823",
     "exception": false,
     "start_time": "2022-07-05T12:02:06.291461",
     "status": "completed"
    },
    "tags": []
   },
   "outputs": [
    {
     "data": {
      "text/plain": [
       "array([0, 1, 2, 3])"
      ]
     },
     "execution_count": 21,
     "metadata": {},
     "output_type": "execute_result"
    }
   ],
   "source": [
    "np.unique(y_true)"
   ]
  },
  {
   "cell_type": "code",
   "execution_count": 22,
   "id": "52e06e3b",
   "metadata": {
    "execution": {
     "iopub.execute_input": "2022-07-05T12:02:06.444438Z",
     "iopub.status.busy": "2022-07-05T12:02:06.441800Z",
     "iopub.status.idle": "2022-07-05T12:02:06.674706Z",
     "shell.execute_reply": "2022-07-05T12:02:06.674172Z",
     "shell.execute_reply.started": "2022-07-05T12:01:37.141881Z"
    },
    "papermill": {
     "duration": 0.266936,
     "end_time": "2022-07-05T12:02:06.674877",
     "exception": false,
     "start_time": "2022-07-05T12:02:06.407941",
     "status": "completed"
    },
    "tags": []
   },
   "outputs": [
    {
     "data": {
      "text/plain": [
       "LGBMClassifier()"
      ]
     },
     "execution_count": 22,
     "metadata": {},
     "output_type": "execute_result"
    }
   ],
   "source": [
    "x=pd.concat([xtrain, xtest])\n",
    "y_=np.concatenate([ytrain, ytest])\n",
    "clf.fit(x,y_)"
   ]
  },
  {
   "cell_type": "code",
   "execution_count": 23,
   "id": "11696f35",
   "metadata": {
    "execution": {
     "iopub.execute_input": "2022-07-05T12:02:06.744896Z",
     "iopub.status.busy": "2022-07-05T12:02:06.744121Z",
     "iopub.status.idle": "2022-07-05T12:02:06.765753Z",
     "shell.execute_reply": "2022-07-05T12:02:06.765338Z",
     "shell.execute_reply.started": "2022-07-05T12:01:37.369624Z"
    },
    "papermill": {
     "duration": 0.05723,
     "end_time": "2022-07-05T12:02:06.765898",
     "exception": false,
     "start_time": "2022-07-05T12:02:06.708668",
     "status": "completed"
    },
    "tags": []
   },
   "outputs": [],
   "source": [
    "y_pr=clf.predict(tfidf_lingua_fr)"
   ]
  },
  {
   "cell_type": "code",
   "execution_count": 24,
   "id": "320da29c",
   "metadata": {
    "execution": {
     "iopub.execute_input": "2022-07-05T12:02:06.832748Z",
     "iopub.status.busy": "2022-07-05T12:02:06.832137Z",
     "iopub.status.idle": "2022-07-05T12:02:06.834758Z",
     "shell.execute_reply": "2022-07-05T12:02:06.835185Z",
     "shell.execute_reply.started": "2022-07-05T12:01:37.397056Z"
    },
    "papermill": {
     "duration": 0.038426,
     "end_time": "2022-07-05T12:02:06.835326",
     "exception": false,
     "start_time": "2022-07-05T12:02:06.796900",
     "status": "completed"
    },
    "tags": []
   },
   "outputs": [
    {
     "data": {
      "text/plain": [
       "array([0, 1, 2])"
      ]
     },
     "execution_count": 24,
     "metadata": {},
     "output_type": "execute_result"
    }
   ],
   "source": [
    "np.unique(y_pr)"
   ]
  },
  {
   "cell_type": "code",
   "execution_count": 25,
   "id": "9ad73208",
   "metadata": {
    "execution": {
     "iopub.execute_input": "2022-07-05T12:02:06.901399Z",
     "iopub.status.busy": "2022-07-05T12:02:06.900498Z",
     "iopub.status.idle": "2022-07-05T12:02:06.908308Z",
     "shell.execute_reply": "2022-07-05T12:02:06.907836Z",
     "shell.execute_reply.started": "2022-07-05T12:01:37.404129Z"
    },
    "papermill": {
     "duration": 0.042044,
     "end_time": "2022-07-05T12:02:06.908432",
     "exception": false,
     "start_time": "2022-07-05T12:02:06.866388",
     "status": "completed"
    },
    "tags": []
   },
   "outputs": [
    {
     "name": "stdout",
     "output_type": "stream",
     "text": [
      "              precision    recall  f1-score   support\n",
      "\n",
      "           0       0.12      0.85      0.22        13\n",
      "           1       1.00      0.04      0.07        26\n",
      "           2       0.64      0.23      0.34        60\n",
      "           3       0.00      0.00      0.00        12\n",
      "\n",
      "    accuracy                           0.23       111\n",
      "   macro avg       0.44      0.28      0.16       111\n",
      "weighted avg       0.59      0.23      0.23       111\n",
      "\n"
     ]
    }
   ],
   "source": [
    "print(classification_report(y_true, y_pr))"
   ]
  },
  {
   "cell_type": "markdown",
   "id": "6e86d722",
   "metadata": {
    "papermill": {
     "duration": 0.030237,
     "end_time": "2022-07-05T12:02:06.975434",
     "exception": false,
     "start_time": "2022-07-05T12:02:06.945197",
     "status": "completed"
    },
    "tags": []
   },
   "source": [
    "****"
   ]
  },
  {
   "cell_type": "code",
   "execution_count": 26,
   "id": "24a6c77c",
   "metadata": {
    "execution": {
     "iopub.execute_input": "2022-07-05T12:02:07.045049Z",
     "iopub.status.busy": "2022-07-05T12:02:07.044093Z",
     "iopub.status.idle": "2022-07-05T12:02:07.045922Z",
     "shell.execute_reply": "2022-07-05T12:02:07.046345Z",
     "shell.execute_reply.started": "2022-07-05T12:01:37.418192Z"
    },
    "papermill": {
     "duration": 0.040316,
     "end_time": "2022-07-05T12:02:07.046479",
     "exception": false,
     "start_time": "2022-07-05T12:02:07.006163",
     "status": "completed"
    },
    "tags": []
   },
   "outputs": [],
   "source": [
    "def run_lgb(train_X, train_y, val_X, val_y):\n",
    "    params = {\n",
    "        \"objective\":\"multiclass\",\n",
    "        \"num_classes\":\"6\",\n",
    "        \"metric\" : \"multi_error\",\n",
    "        \"boosting_type\": \"gbdt\",\n",
    "        \"num_leaves\" : 10,\n",
    "        \"learning_rate\" : 0.004,\n",
    "        \"bagging_fraction\" : 0.6,\n",
    "        \"feature_fraction\" : 0.6,\n",
    "        \"bagging_frequency\" : 6,\n",
    "        \"bagging_seed\" : 42,\n",
    "        \"verbosity\" : -1,\n",
    "        \"seed\": 42\n",
    "    }\n",
    "    \n",
    "    lgtrain = lgb.Dataset(train_X, label=train_y)\n",
    "    lgval = lgb.Dataset(val_X, label=val_y)\n",
    "    evals_result = {}\n",
    "    model = lgb.train(params, lgtrain, 5000,\n",
    "                      valid_sets=[lgtrain, lgval], \n",
    "                      early_stopping_rounds=100, \n",
    "                      verbose_eval=150, \n",
    "                      evals_result=evals_result)\n",
    "    return  model, evals_result"
   ]
  },
  {
   "cell_type": "code",
   "execution_count": 27,
   "id": "3b041c4f",
   "metadata": {
    "execution": {
     "iopub.execute_input": "2022-07-05T12:02:07.112817Z",
     "iopub.status.busy": "2022-07-05T12:02:07.111984Z",
     "iopub.status.idle": "2022-07-05T12:02:07.318817Z",
     "shell.execute_reply": "2022-07-05T12:02:07.320702Z",
     "shell.execute_reply.started": "2022-07-05T12:01:37.426589Z"
    },
    "papermill": {
     "duration": 0.244369,
     "end_time": "2022-07-05T12:02:07.321100",
     "exception": false,
     "start_time": "2022-07-05T12:02:07.076731",
     "status": "completed"
    },
    "tags": []
   },
   "outputs": [
    {
     "name": "stdout",
     "output_type": "stream",
     "text": [
      "[LightGBM] [Warning] Unknown parameter: bagging_frequency\n",
      "Training until validation scores don't improve for 100 rounds\n",
      "Early stopping, best iteration is:\n",
      "[1]\ttraining's multi_error: 0.466135\tvalid_1's multi_error: 0.587302\n",
      "LightGBM Training Completed...\n"
     ]
    }
   ],
   "source": [
    " model, evals_result = run_lgb(xtrain, ytrain, xtest, ytest)\n",
    "print(\"LightGBM Training Completed...\")"
   ]
  },
  {
   "cell_type": "code",
   "execution_count": 28,
   "id": "73ba6d5c",
   "metadata": {
    "execution": {
     "iopub.execute_input": "2022-07-05T12:02:07.458867Z",
     "iopub.status.busy": "2022-07-05T12:02:07.456485Z",
     "iopub.status.idle": "2022-07-05T12:02:07.482285Z",
     "shell.execute_reply": "2022-07-05T12:02:07.483347Z",
     "shell.execute_reply.started": "2022-07-05T12:01:37.604785Z"
    },
    "papermill": {
     "duration": 0.097037,
     "end_time": "2022-07-05T12:02:07.483547",
     "exception": false,
     "start_time": "2022-07-05T12:02:07.386510",
     "status": "completed"
    },
    "tags": []
   },
   "outputs": [],
   "source": [
    "ypred=model.predict(xtest).argmax(axis=1)"
   ]
  },
  {
   "cell_type": "code",
   "execution_count": 29,
   "id": "d92e868c",
   "metadata": {
    "execution": {
     "iopub.execute_input": "2022-07-05T12:02:07.599114Z",
     "iopub.status.busy": "2022-07-05T12:02:07.596770Z",
     "iopub.status.idle": "2022-07-05T12:02:07.603414Z",
     "shell.execute_reply": "2022-07-05T12:02:07.602617Z",
     "shell.execute_reply.started": "2022-07-05T12:01:37.627729Z"
    },
    "papermill": {
     "duration": 0.066897,
     "end_time": "2022-07-05T12:02:07.603573",
     "exception": false,
     "start_time": "2022-07-05T12:02:07.536676",
     "status": "completed"
    },
    "tags": []
   },
   "outputs": [
    {
     "data": {
      "text/plain": [
       "array([2, 2, 2, 2, 2, 2, 2, 2, 2, 2, 2, 2, 2, 2, 2, 2, 2, 2, 2, 2, 2, 2,\n",
       "       2, 2, 2, 2, 2, 2, 2, 2, 2, 2, 2, 2, 2, 2, 2, 2, 2, 2, 2, 2, 2, 2,\n",
       "       2, 2, 2, 2, 2, 2, 2, 2, 2, 2, 2, 2, 2, 2, 2, 2, 2, 2, 2])"
      ]
     },
     "execution_count": 29,
     "metadata": {},
     "output_type": "execute_result"
    }
   ],
   "source": [
    "ypred"
   ]
  },
  {
   "cell_type": "code",
   "execution_count": 30,
   "id": "93512dd7",
   "metadata": {
    "execution": {
     "iopub.execute_input": "2022-07-05T12:02:07.718640Z",
     "iopub.status.busy": "2022-07-05T12:02:07.717682Z",
     "iopub.status.idle": "2022-07-05T12:02:07.721584Z",
     "shell.execute_reply": "2022-07-05T12:02:07.719384Z",
     "shell.execute_reply.started": "2022-07-05T12:01:37.638793Z"
    },
    "papermill": {
     "duration": 0.064964,
     "end_time": "2022-07-05T12:02:07.721769",
     "exception": false,
     "start_time": "2022-07-05T12:02:07.656805",
     "status": "completed"
    },
    "tags": []
   },
   "outputs": [
    {
     "name": "stdout",
     "output_type": "stream",
     "text": [
      "LightGBM Model accuracy score: 0.4127\n"
     ]
    }
   ],
   "source": [
    "accuracy=accuracy_score(ypred, ytest)\n",
    "print('LightGBM Model accuracy score: {0:0.4f}'.format(accuracy_score(ytest, ypred)))"
   ]
  },
  {
   "cell_type": "code",
   "execution_count": null,
   "id": "19e1a1c5",
   "metadata": {
    "papermill": {
     "duration": 0.052458,
     "end_time": "2022-07-05T12:02:07.826094",
     "exception": false,
     "start_time": "2022-07-05T12:02:07.773636",
     "status": "completed"
    },
    "tags": []
   },
   "outputs": [],
   "source": []
  }
 ],
 "metadata": {
  "kernelspec": {
   "display_name": "Python 3",
   "language": "python",
   "name": "python3"
  },
  "language_info": {
   "codemirror_mode": {
    "name": "ipython",
    "version": 3
   },
   "file_extension": ".py",
   "mimetype": "text/x-python",
   "name": "python",
   "nbconvert_exporter": "python",
   "pygments_lexer": "ipython3",
   "version": "3.7.10"
  },
  "papermill": {
   "default_parameters": {},
   "duration": 24.39307,
   "end_time": "2022-07-05T12:02:11.225472",
   "environment_variables": {},
   "exception": null,
   "input_path": "__notebook__.ipynb",
   "output_path": "__notebook__.ipynb",
   "parameters": {},
   "start_time": "2022-07-05T12:01:46.832402",
   "version": "2.3.3"
  }
 },
 "nbformat": 4,
 "nbformat_minor": 5
}
