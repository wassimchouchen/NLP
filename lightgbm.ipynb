{
 "cells": [
  {
   "cell_type": "code",
   "execution_count": 1,
   "id": "f4efb844",
   "metadata": {
    "_cell_guid": "b1076dfc-b9ad-4769-8c92-a6c4dae69d19",
    "_uuid": "8f2839f25d086af736a60e9eeb907d3b93b6e0e5",
    "execution": {
     "iopub.execute_input": "2022-07-05T17:28:03.877701Z",
     "iopub.status.busy": "2022-07-05T17:28:03.876168Z",
     "iopub.status.idle": "2022-07-05T17:28:11.538700Z",
     "shell.execute_reply": "2022-07-05T17:28:11.538099Z",
     "shell.execute_reply.started": "2022-07-05T17:27:10.700710Z"
    },
    "papermill": {
     "duration": 7.71654,
     "end_time": "2022-07-05T17:28:11.538876",
     "exception": false,
     "start_time": "2022-07-05T17:28:03.822336",
     "status": "completed"
    },
    "tags": []
   },
   "outputs": [],
   "source": [
    "import os\n",
    "\n",
    "import random\n",
    "import numpy as np\n",
    "\n",
    "import pandas as pd\n",
    "import torch\n",
    "from torch.utils.data import Dataset, random_split\n",
    "from sklearn.model_selection import train_test_split \n",
    "from transformers import (\n",
    "    AdamW,\n",
    "    Trainer,\n",
    "    TrainingArguments,\n",
    "    AutoTokenizer,\n",
    "    AutoModelForSequenceClassification,\n",
    "    get_cosine_schedule_with_warmup,\n",
    ")\n",
    "from sklearn.preprocessing import LabelEncoder\n",
    "from sklearn.metrics import accuracy_score\n",
    "from sklearn import preprocessing\n",
    "from sklearn.metrics import accuracy_score\n",
    "le = preprocessing.LabelEncoder()\n",
    "import warnings\n",
    "warnings.filterwarnings('ignore')"
   ]
  },
  {
   "cell_type": "code",
   "execution_count": 2,
   "id": "dc4ca7a2",
   "metadata": {
    "execution": {
     "iopub.execute_input": "2022-07-05T17:28:11.602309Z",
     "iopub.status.busy": "2022-07-05T17:28:11.601747Z",
     "iopub.status.idle": "2022-07-05T17:28:11.624282Z",
     "shell.execute_reply": "2022-07-05T17:28:11.624715Z",
     "shell.execute_reply.started": "2022-07-05T17:27:10.843591Z"
    },
    "papermill": {
     "duration": 0.056101,
     "end_time": "2022-07-05T17:28:11.624865",
     "exception": false,
     "start_time": "2022-07-05T17:28:11.568764",
     "status": "completed"
    },
    "tags": []
   },
   "outputs": [
    {
     "data": {
      "text/plain": [
       "(191, 3)"
      ]
     },
     "execution_count": 2,
     "metadata": {},
     "output_type": "execute_result"
    }
   ],
   "source": [
    "new_data=pd.read_csv(\"../input/csvvvv/Classeur 1 (5).csv\")\n",
    "new_data.drop([\"Y\",\"Word Count\",\"Language\",' '], axis=1, inplace=True)\n",
    "new_data.columns = [\"text\", \"CEFR Review\",\"CEFR Level_Samar\"]\n",
    "new_data.shape"
   ]
  },
  {
   "cell_type": "code",
   "execution_count": 3,
   "id": "bad5bef7",
   "metadata": {
    "execution": {
     "iopub.execute_input": "2022-07-05T17:28:11.688542Z",
     "iopub.status.busy": "2022-07-05T17:28:11.687754Z",
     "iopub.status.idle": "2022-07-05T17:28:11.696411Z",
     "shell.execute_reply": "2022-07-05T17:28:11.695992Z",
     "shell.execute_reply.started": "2022-07-05T17:27:10.991748Z"
    },
    "papermill": {
     "duration": 0.041672,
     "end_time": "2022-07-05T17:28:11.696521",
     "exception": false,
     "start_time": "2022-07-05T17:28:11.654849",
     "status": "completed"
    },
    "tags": []
   },
   "outputs": [
    {
     "data": {
      "text/html": [
       "<div>\n",
       "<style scoped>\n",
       "    .dataframe tbody tr th:only-of-type {\n",
       "        vertical-align: middle;\n",
       "    }\n",
       "\n",
       "    .dataframe tbody tr th {\n",
       "        vertical-align: top;\n",
       "    }\n",
       "\n",
       "    .dataframe thead th {\n",
       "        text-align: right;\n",
       "    }\n",
       "</style>\n",
       "<table border=\"1\" class=\"dataframe\">\n",
       "  <thead>\n",
       "    <tr style=\"text-align: right;\">\n",
       "      <th></th>\n",
       "      <th>text</th>\n",
       "      <th>CEFR Review</th>\n",
       "      <th>CEFR Level_Samar</th>\n",
       "    </tr>\n",
       "  </thead>\n",
       "  <tbody>\n",
       "    <tr>\n",
       "      <th>0</th>\n",
       "      <td>En 1815, M. Charles-François-Bienvenu Myriel é...</td>\n",
       "      <td>A2</td>\n",
       "      <td>C1</td>\n",
       "    </tr>\n",
       "    <tr>\n",
       "      <th>1</th>\n",
       "      <td>Quoique ce détail ne touche en aucune manière ...</td>\n",
       "      <td>C1</td>\n",
       "      <td>C2</td>\n",
       "    </tr>\n",
       "  </tbody>\n",
       "</table>\n",
       "</div>"
      ],
      "text/plain": [
       "                                                text CEFR Review  \\\n",
       "0  En 1815, M. Charles-François-Bienvenu Myriel é...          A2   \n",
       "1  Quoique ce détail ne touche en aucune manière ...          C1   \n",
       "\n",
       "  CEFR Level_Samar  \n",
       "0               C1  \n",
       "1               C2  "
      ]
     },
     "execution_count": 3,
     "metadata": {},
     "output_type": "execute_result"
    }
   ],
   "source": [
    "new_data.head(2)"
   ]
  },
  {
   "cell_type": "markdown",
   "id": "bf247e73",
   "metadata": {
    "papermill": {
     "duration": 0.029216,
     "end_time": "2022-07-05T17:28:11.754378",
     "exception": false,
     "start_time": "2022-07-05T17:28:11.725162",
     "status": "completed"
    },
    "tags": []
   },
   "source": [
    "**extract samar dataset**"
   ]
  },
  {
   "cell_type": "code",
   "execution_count": 4,
   "id": "6c9bd220",
   "metadata": {
    "execution": {
     "iopub.execute_input": "2022-07-05T17:28:11.825977Z",
     "iopub.status.busy": "2022-07-05T17:28:11.825080Z",
     "iopub.status.idle": "2022-07-05T17:28:11.835918Z",
     "shell.execute_reply": "2022-07-05T17:28:11.836406Z",
     "shell.execute_reply.started": "2022-07-05T17:27:11.137732Z"
    },
    "papermill": {
     "duration": 0.05253,
     "end_time": "2022-07-05T17:28:11.836577",
     "exception": false,
     "start_time": "2022-07-05T17:28:11.784047",
     "status": "completed"
    },
    "tags": []
   },
   "outputs": [
    {
     "data": {
      "text/html": [
       "<div>\n",
       "<style scoped>\n",
       "    .dataframe tbody tr th:only-of-type {\n",
       "        vertical-align: middle;\n",
       "    }\n",
       "\n",
       "    .dataframe tbody tr th {\n",
       "        vertical-align: top;\n",
       "    }\n",
       "\n",
       "    .dataframe thead th {\n",
       "        text-align: right;\n",
       "    }\n",
       "</style>\n",
       "<table border=\"1\" class=\"dataframe\">\n",
       "  <thead>\n",
       "    <tr style=\"text-align: right;\">\n",
       "      <th></th>\n",
       "      <th>text</th>\n",
       "      <th>label</th>\n",
       "    </tr>\n",
       "  </thead>\n",
       "  <tbody>\n",
       "    <tr>\n",
       "      <th>0</th>\n",
       "      <td>En 1815, M. Charles-François-Bienvenu Myriel é...</td>\n",
       "      <td>C1</td>\n",
       "    </tr>\n",
       "    <tr>\n",
       "      <th>1</th>\n",
       "      <td>Quoique ce détail ne touche en aucune manière ...</td>\n",
       "      <td>C2</td>\n",
       "    </tr>\n",
       "    <tr>\n",
       "      <th>2</th>\n",
       "      <td>En 1804, M. Myriel était curé de Brignolles. I...</td>\n",
       "      <td>C1</td>\n",
       "    </tr>\n",
       "    <tr>\n",
       "      <th>3</th>\n",
       "      <td>Vers l'époque du couronnement, une petite affa...</td>\n",
       "      <td>C2</td>\n",
       "    </tr>\n",
       "    <tr>\n",
       "      <th>4</th>\n",
       "      <td>—Quel est ce bonhomme qui me regarde?</td>\n",
       "      <td>C1</td>\n",
       "    </tr>\n",
       "  </tbody>\n",
       "</table>\n",
       "</div>"
      ],
      "text/plain": [
       "                                                text label\n",
       "0  En 1815, M. Charles-François-Bienvenu Myriel é...    C1\n",
       "1  Quoique ce détail ne touche en aucune manière ...    C2\n",
       "2  En 1804, M. Myriel était curé de Brignolles. I...    C1\n",
       "3  Vers l'époque du couronnement, une petite affa...    C2\n",
       "4              —Quel est ce bonhomme qui me regarde?    C1"
      ]
     },
     "execution_count": 4,
     "metadata": {},
     "output_type": "execute_result"
    }
   ],
   "source": [
    "mike_20_june_samar=new_data[pd.notnull(new_data['CEFR Level_Samar'])]\n",
    "mike_20_june_samar.columns = [\"text\", \"CEFR Review\",\"label\"]\n",
    "mike_20_june_samar.drop([\"CEFR Review\"],axis=1, inplace=True)\n",
    "mike_20_june_samar.to_csv(\"mike_20_june_samar.csv\" , index=False)\n",
    "mike_20_june_samar.head()"
   ]
  },
  {
   "cell_type": "markdown",
   "id": "b297a720",
   "metadata": {
    "papermill": {
     "duration": 0.029341,
     "end_time": "2022-07-05T17:28:11.895704",
     "exception": false,
     "start_time": "2022-07-05T17:28:11.866363",
     "status": "completed"
    },
    "tags": []
   },
   "source": [
    "**extract mike_new dataset**"
   ]
  },
  {
   "cell_type": "code",
   "execution_count": 5,
   "id": "987df0ad",
   "metadata": {
    "execution": {
     "iopub.execute_input": "2022-07-05T17:28:11.961661Z",
     "iopub.status.busy": "2022-07-05T17:28:11.960915Z",
     "iopub.status.idle": "2022-07-05T17:28:11.971355Z",
     "shell.execute_reply": "2022-07-05T17:28:11.970949Z",
     "shell.execute_reply.started": "2022-07-05T17:27:11.386150Z"
    },
    "papermill": {
     "duration": 0.046598,
     "end_time": "2022-07-05T17:28:11.971464",
     "exception": false,
     "start_time": "2022-07-05T17:28:11.924866",
     "status": "completed"
    },
    "tags": []
   },
   "outputs": [
    {
     "data": {
      "text/html": [
       "<div>\n",
       "<style scoped>\n",
       "    .dataframe tbody tr th:only-of-type {\n",
       "        vertical-align: middle;\n",
       "    }\n",
       "\n",
       "    .dataframe tbody tr th {\n",
       "        vertical-align: top;\n",
       "    }\n",
       "\n",
       "    .dataframe thead th {\n",
       "        text-align: right;\n",
       "    }\n",
       "</style>\n",
       "<table border=\"1\" class=\"dataframe\">\n",
       "  <thead>\n",
       "    <tr style=\"text-align: right;\">\n",
       "      <th></th>\n",
       "      <th>text</th>\n",
       "      <th>label</th>\n",
       "    </tr>\n",
       "  </thead>\n",
       "  <tbody>\n",
       "    <tr>\n",
       "      <th>0</th>\n",
       "      <td>En 1815, M. Charles-François-Bienvenu Myriel é...</td>\n",
       "      <td>A2</td>\n",
       "    </tr>\n",
       "    <tr>\n",
       "      <th>1</th>\n",
       "      <td>Quoique ce détail ne touche en aucune manière ...</td>\n",
       "      <td>C1</td>\n",
       "    </tr>\n",
       "    <tr>\n",
       "      <th>2</th>\n",
       "      <td>En 1804, M. Myriel était curé de Brignolles. I...</td>\n",
       "      <td>A2</td>\n",
       "    </tr>\n",
       "    <tr>\n",
       "      <th>3</th>\n",
       "      <td>Vers l'époque du couronnement, une petite affa...</td>\n",
       "      <td>B2</td>\n",
       "    </tr>\n",
       "    <tr>\n",
       "      <th>4</th>\n",
       "      <td>—Quel est ce bonhomme qui me regarde?</td>\n",
       "      <td>A2</td>\n",
       "    </tr>\n",
       "  </tbody>\n",
       "</table>\n",
       "</div>"
      ],
      "text/plain": [
       "                                                text label\n",
       "0  En 1815, M. Charles-François-Bienvenu Myriel é...    A2\n",
       "1  Quoique ce détail ne touche en aucune manière ...    C1\n",
       "2  En 1804, M. Myriel était curé de Brignolles. I...    A2\n",
       "3  Vers l'époque du couronnement, une petite affa...    B2\n",
       "4              —Quel est ce bonhomme qui me regarde?    A2"
      ]
     },
     "execution_count": 5,
     "metadata": {},
     "output_type": "execute_result"
    }
   ],
   "source": [
    "mike_20_june_new=new_data[pd.notnull(new_data['CEFR Review'])]\n",
    "mike_20_june_new.columns = [\"text\", \"label\",\"CEFR Level_Samar\"]\n",
    "mike_20_june_new.drop([\"CEFR Level_Samar\"],axis=1, inplace=True)\n",
    "mike_20_june_new.to_csv(\"mike_20_june_new.csv\" , index=False)\n",
    "mike_20_june_new.head() "
   ]
  },
  {
   "cell_type": "markdown",
   "id": "e89059bd",
   "metadata": {
    "papermill": {
     "duration": 0.029854,
     "end_time": "2022-07-05T17:28:12.032383",
     "exception": false,
     "start_time": "2022-07-05T17:28:12.002529",
     "status": "completed"
    },
    "tags": []
   },
   "source": [
    "**General insights about samar and mike_new datasets**"
   ]
  },
  {
   "cell_type": "code",
   "execution_count": 6,
   "id": "57c65598",
   "metadata": {
    "execution": {
     "iopub.execute_input": "2022-07-05T17:28:12.098890Z",
     "iopub.status.busy": "2022-07-05T17:28:12.098198Z",
     "iopub.status.idle": "2022-07-05T17:28:12.101054Z",
     "shell.execute_reply": "2022-07-05T17:28:12.101463Z",
     "shell.execute_reply.started": "2022-07-05T17:27:11.622694Z"
    },
    "papermill": {
     "duration": 0.03896,
     "end_time": "2022-07-05T17:28:12.101594",
     "exception": false,
     "start_time": "2022-07-05T17:28:12.062634",
     "status": "completed"
    },
    "tags": []
   },
   "outputs": [
    {
     "data": {
      "text/plain": [
       "(array(['C1', 'C2'], dtype=object),\n",
       " array(['A2', 'C1', 'B2', 'A1', 'B1', 'C2'], dtype=object))"
      ]
     },
     "execution_count": 6,
     "metadata": {},
     "output_type": "execute_result"
    }
   ],
   "source": [
    "mike_20_june_samar[\"label\"].unique(), mike_20_june_new[\"label\"].unique()"
   ]
  },
  {
   "cell_type": "markdown",
   "id": "e344e56d",
   "metadata": {
    "papermill": {
     "duration": 0.03019,
     "end_time": "2022-07-05T17:28:12.162380",
     "exception": false,
     "start_time": "2022-07-05T17:28:12.132190",
     "status": "completed"
    },
    "tags": []
   },
   "source": [
    "****!!!! samar annotation seems to be weird because there is just C1 and C2****"
   ]
  },
  {
   "cell_type": "code",
   "execution_count": 7,
   "id": "9805a9db",
   "metadata": {
    "execution": {
     "iopub.execute_input": "2022-07-05T17:28:12.284027Z",
     "iopub.status.busy": "2022-07-05T17:28:12.283374Z",
     "iopub.status.idle": "2022-07-05T17:28:12.285952Z",
     "shell.execute_reply": "2022-07-05T17:28:12.286372Z",
     "shell.execute_reply.started": "2022-07-05T17:27:11.772791Z"
    },
    "papermill": {
     "duration": 0.04159,
     "end_time": "2022-07-05T17:28:12.286501",
     "exception": false,
     "start_time": "2022-07-05T17:28:12.244911",
     "status": "completed"
    },
    "tags": []
   },
   "outputs": [
    {
     "data": {
      "text/plain": [
       "C1    58\n",
       "A1    41\n",
       "B2    33\n",
       "B1    29\n",
       "A2    24\n",
       "C2     6\n",
       "Name: label, dtype: int64"
      ]
     },
     "execution_count": 7,
     "metadata": {},
     "output_type": "execute_result"
    }
   ],
   "source": [
    "mike_20_june_new.label.value_counts()"
   ]
  },
  {
   "cell_type": "code",
   "execution_count": 8,
   "id": "418dfafa",
   "metadata": {
    "execution": {
     "iopub.execute_input": "2022-07-05T17:28:12.352067Z",
     "iopub.status.busy": "2022-07-05T17:28:12.351388Z",
     "iopub.status.idle": "2022-07-05T17:28:12.353864Z",
     "shell.execute_reply": "2022-07-05T17:28:12.354367Z",
     "shell.execute_reply.started": "2022-07-05T17:27:11.919596Z"
    },
    "papermill": {
     "duration": 0.037716,
     "end_time": "2022-07-05T17:28:12.354486",
     "exception": false,
     "start_time": "2022-07-05T17:28:12.316770",
     "status": "completed"
    },
    "tags": []
   },
   "outputs": [
    {
     "data": {
      "text/plain": [
       "((141, 2), (191, 2))"
      ]
     },
     "execution_count": 8,
     "metadata": {},
     "output_type": "execute_result"
    }
   ],
   "source": [
    "mike_20_june_samar.shape,mike_20_june_new.shape"
   ]
  },
  {
   "cell_type": "code",
   "execution_count": 9,
   "id": "61a0d283",
   "metadata": {
    "execution": {
     "iopub.execute_input": "2022-07-05T17:28:12.422054Z",
     "iopub.status.busy": "2022-07-05T17:28:12.421507Z",
     "iopub.status.idle": "2022-07-05T17:28:12.438667Z",
     "shell.execute_reply": "2022-07-05T17:28:12.439073Z",
     "shell.execute_reply.started": "2022-07-05T17:27:12.067822Z"
    },
    "papermill": {
     "duration": 0.053498,
     "end_time": "2022-07-05T17:28:12.439201",
     "exception": false,
     "start_time": "2022-07-05T17:28:12.385703",
     "status": "completed"
    },
    "tags": []
   },
   "outputs": [
    {
     "data": {
      "text/html": [
       "<div>\n",
       "<style scoped>\n",
       "    .dataframe tbody tr th:only-of-type {\n",
       "        vertical-align: middle;\n",
       "    }\n",
       "\n",
       "    .dataframe tbody tr th {\n",
       "        vertical-align: top;\n",
       "    }\n",
       "\n",
       "    .dataframe thead th {\n",
       "        text-align: right;\n",
       "    }\n",
       "</style>\n",
       "<table border=\"1\" class=\"dataframe\">\n",
       "  <thead>\n",
       "    <tr style=\"text-align: right;\">\n",
       "      <th></th>\n",
       "      <th>text</th>\n",
       "      <th>len</th>\n",
       "      <th>lang</th>\n",
       "      <th>label</th>\n",
       "    </tr>\n",
       "  </thead>\n",
       "  <tbody>\n",
       "    <tr>\n",
       "      <th>0</th>\n",
       "      <td>Il était une fois un prince qui voulait épouse...</td>\n",
       "      <td>15</td>\n",
       "      <td>FR</td>\n",
       "      <td>A2</td>\n",
       "    </tr>\n",
       "    <tr>\n",
       "      <th>1</th>\n",
       "      <td>Il fit le tour de la Terre pour en trouver une...</td>\n",
       "      <td>62</td>\n",
       "      <td>FR</td>\n",
       "      <td>B1</td>\n",
       "    </tr>\n",
       "    <tr>\n",
       "      <th>2</th>\n",
       "      <td>Un soir, par un temps affreux, éclairs et tonn...</td>\n",
       "      <td>31</td>\n",
       "      <td>FR</td>\n",
       "      <td>B1</td>\n",
       "    </tr>\n",
       "    <tr>\n",
       "      <th>3</th>\n",
       "      <td>C'était une princesse qui était là, dehors. M...</td>\n",
       "      <td>51</td>\n",
       "      <td>FR</td>\n",
       "      <td>A2</td>\n",
       "    </tr>\n",
       "    <tr>\n",
       "      <th>4</th>\n",
       "      <td>« Nous allons bien voir ça », pensait la vieil...</td>\n",
       "      <td>76</td>\n",
       "      <td>FR</td>\n",
       "      <td>B1</td>\n",
       "    </tr>\n",
       "  </tbody>\n",
       "</table>\n",
       "</div>"
      ],
      "text/plain": [
       "                                                text  len lang label\n",
       "0  Il était une fois un prince qui voulait épouse...   15   FR    A2\n",
       "1  Il fit le tour de la Terre pour en trouver une...   62   FR    B1\n",
       "2  Un soir, par un temps affreux, éclairs et tonn...   31   FR    B1\n",
       "3   C'était une princesse qui était là, dehors. M...   51   FR    A2\n",
       "4  « Nous allons bien voir ça », pensait la vieil...   76   FR    B1"
      ]
     },
     "execution_count": 9,
     "metadata": {},
     "output_type": "execute_result"
    }
   ],
   "source": [
    "trainn=pd.read_csv(\"../input/frenchcefr/french dataset.csv\")\n",
    "trainn = trainn[trainn.label != \"XX\"]\n",
    "trainn.head()"
   ]
  },
  {
   "cell_type": "code",
   "execution_count": 10,
   "id": "1e862799",
   "metadata": {
    "execution": {
     "iopub.execute_input": "2022-07-05T17:28:12.505245Z",
     "iopub.status.busy": "2022-07-05T17:28:12.504632Z",
     "iopub.status.idle": "2022-07-05T17:28:12.515106Z",
     "shell.execute_reply": "2022-07-05T17:28:12.515488Z",
     "shell.execute_reply.started": "2022-07-05T17:27:12.207865Z"
    },
    "papermill": {
     "duration": 0.04476,
     "end_time": "2022-07-05T17:28:12.515613",
     "exception": false,
     "start_time": "2022-07-05T17:28:12.470853",
     "status": "completed"
    },
    "tags": []
   },
   "outputs": [],
   "source": [
    "lingua_fr=pd.read_csv(\"../input/lingua/fr_lingua.csv\")"
   ]
  },
  {
   "cell_type": "markdown",
   "id": "6f56fa62",
   "metadata": {
    "papermill": {
     "duration": 0.032098,
     "end_time": "2022-07-05T17:28:12.579601",
     "exception": false,
     "start_time": "2022-07-05T17:28:12.547503",
     "status": "completed"
    },
    "tags": []
   },
   "source": [
    "**tfidf of the train_data**"
   ]
  },
  {
   "cell_type": "code",
   "execution_count": 11,
   "id": "1698de29",
   "metadata": {
    "execution": {
     "iopub.execute_input": "2022-07-05T17:28:12.651069Z",
     "iopub.status.busy": "2022-07-05T17:28:12.650328Z",
     "iopub.status.idle": "2022-07-05T17:28:12.653022Z",
     "shell.execute_reply": "2022-07-05T17:28:12.652569Z",
     "shell.execute_reply.started": "2022-07-05T17:27:12.289550Z"
    },
    "papermill": {
     "duration": 0.042172,
     "end_time": "2022-07-05T17:28:12.653145",
     "exception": false,
     "start_time": "2022-07-05T17:28:12.610973",
     "status": "completed"
    },
    "tags": []
   },
   "outputs": [],
   "source": [
    "train_set_df=pd.concat([trainn, mike_20_june_new], ignore_index=True)"
   ]
  },
  {
   "cell_type": "code",
   "execution_count": 12,
   "id": "1dc7ce8f",
   "metadata": {
    "_kg_hide-output": true,
    "execution": {
     "iopub.execute_input": "2022-07-05T17:28:12.737562Z",
     "iopub.status.busy": "2022-07-05T17:28:12.736679Z",
     "iopub.status.idle": "2022-07-05T17:28:12.892201Z",
     "shell.execute_reply": "2022-07-05T17:28:12.893185Z",
     "shell.execute_reply.started": "2022-07-05T17:27:12.388386Z"
    },
    "papermill": {
     "duration": 0.20843,
     "end_time": "2022-07-05T17:28:12.893389",
     "exception": false,
     "start_time": "2022-07-05T17:28:12.684959",
     "status": "completed"
    },
    "tags": []
   },
   "outputs": [
    {
     "data": {
      "text/html": [
       "<div>\n",
       "<style scoped>\n",
       "    .dataframe tbody tr th:only-of-type {\n",
       "        vertical-align: middle;\n",
       "    }\n",
       "\n",
       "    .dataframe tbody tr th {\n",
       "        vertical-align: top;\n",
       "    }\n",
       "\n",
       "    .dataframe thead th {\n",
       "        text-align: right;\n",
       "    }\n",
       "</style>\n",
       "<table border=\"1\" class=\"dataframe\">\n",
       "  <thead>\n",
       "    <tr style=\"text-align: right;\">\n",
       "      <th></th>\n",
       "      <th>1714</th>\n",
       "      <th>29</th>\n",
       "      <th>abbé</th>\n",
       "      <th>abord</th>\n",
       "      <th>accepta</th>\n",
       "      <th>accepté</th>\n",
       "      <th>accord</th>\n",
       "      <th>accrochée</th>\n",
       "      <th>accès</th>\n",
       "      <th>acheta</th>\n",
       "      <th>...</th>\n",
       "      <th>évincer</th>\n",
       "      <th>événements</th>\n",
       "      <th>évêché</th>\n",
       "      <th>évêque</th>\n",
       "      <th>évêques</th>\n",
       "      <th>êtes</th>\n",
       "      <th>être</th>\n",
       "      <th>êtres</th>\n",
       "      <th>œil</th>\n",
       "      <th>œuvre</th>\n",
       "    </tr>\n",
       "  </thead>\n",
       "  <tbody>\n",
       "    <tr>\n",
       "      <th>0</th>\n",
       "      <td>0.0</td>\n",
       "      <td>0.0</td>\n",
       "      <td>0.0</td>\n",
       "      <td>0.0</td>\n",
       "      <td>0.0</td>\n",
       "      <td>0.0</td>\n",
       "      <td>0.0</td>\n",
       "      <td>0.00000</td>\n",
       "      <td>0.0</td>\n",
       "      <td>0.0</td>\n",
       "      <td>...</td>\n",
       "      <td>0.0</td>\n",
       "      <td>0.0</td>\n",
       "      <td>0.0</td>\n",
       "      <td>0.0</td>\n",
       "      <td>0.0</td>\n",
       "      <td>0.0</td>\n",
       "      <td>0.000000</td>\n",
       "      <td>0.0</td>\n",
       "      <td>0.0</td>\n",
       "      <td>0.0</td>\n",
       "    </tr>\n",
       "    <tr>\n",
       "      <th>1</th>\n",
       "      <td>0.0</td>\n",
       "      <td>0.0</td>\n",
       "      <td>0.0</td>\n",
       "      <td>0.0</td>\n",
       "      <td>0.0</td>\n",
       "      <td>0.0</td>\n",
       "      <td>0.0</td>\n",
       "      <td>0.00000</td>\n",
       "      <td>0.0</td>\n",
       "      <td>0.0</td>\n",
       "      <td>...</td>\n",
       "      <td>0.0</td>\n",
       "      <td>0.0</td>\n",
       "      <td>0.0</td>\n",
       "      <td>0.0</td>\n",
       "      <td>0.0</td>\n",
       "      <td>0.0</td>\n",
       "      <td>0.000000</td>\n",
       "      <td>0.0</td>\n",
       "      <td>0.0</td>\n",
       "      <td>0.0</td>\n",
       "    </tr>\n",
       "    <tr>\n",
       "      <th>2</th>\n",
       "      <td>0.0</td>\n",
       "      <td>0.0</td>\n",
       "      <td>0.0</td>\n",
       "      <td>0.0</td>\n",
       "      <td>0.0</td>\n",
       "      <td>0.0</td>\n",
       "      <td>0.0</td>\n",
       "      <td>0.00000</td>\n",
       "      <td>0.0</td>\n",
       "      <td>0.0</td>\n",
       "      <td>...</td>\n",
       "      <td>0.0</td>\n",
       "      <td>0.0</td>\n",
       "      <td>0.0</td>\n",
       "      <td>0.0</td>\n",
       "      <td>0.0</td>\n",
       "      <td>0.0</td>\n",
       "      <td>0.000000</td>\n",
       "      <td>0.0</td>\n",
       "      <td>0.0</td>\n",
       "      <td>0.0</td>\n",
       "    </tr>\n",
       "    <tr>\n",
       "      <th>3</th>\n",
       "      <td>0.0</td>\n",
       "      <td>0.0</td>\n",
       "      <td>0.0</td>\n",
       "      <td>0.0</td>\n",
       "      <td>0.0</td>\n",
       "      <td>0.0</td>\n",
       "      <td>0.0</td>\n",
       "      <td>0.00000</td>\n",
       "      <td>0.0</td>\n",
       "      <td>0.0</td>\n",
       "      <td>...</td>\n",
       "      <td>0.0</td>\n",
       "      <td>0.0</td>\n",
       "      <td>0.0</td>\n",
       "      <td>0.0</td>\n",
       "      <td>0.0</td>\n",
       "      <td>0.0</td>\n",
       "      <td>0.130339</td>\n",
       "      <td>0.0</td>\n",
       "      <td>0.0</td>\n",
       "      <td>0.0</td>\n",
       "    </tr>\n",
       "    <tr>\n",
       "      <th>4</th>\n",
       "      <td>0.0</td>\n",
       "      <td>0.0</td>\n",
       "      <td>0.0</td>\n",
       "      <td>0.0</td>\n",
       "      <td>0.0</td>\n",
       "      <td>0.0</td>\n",
       "      <td>0.0</td>\n",
       "      <td>0.00000</td>\n",
       "      <td>0.0</td>\n",
       "      <td>0.0</td>\n",
       "      <td>...</td>\n",
       "      <td>0.0</td>\n",
       "      <td>0.0</td>\n",
       "      <td>0.0</td>\n",
       "      <td>0.0</td>\n",
       "      <td>0.0</td>\n",
       "      <td>0.0</td>\n",
       "      <td>0.000000</td>\n",
       "      <td>0.0</td>\n",
       "      <td>0.0</td>\n",
       "      <td>0.0</td>\n",
       "    </tr>\n",
       "    <tr>\n",
       "      <th>...</th>\n",
       "      <td>...</td>\n",
       "      <td>...</td>\n",
       "      <td>...</td>\n",
       "      <td>...</td>\n",
       "      <td>...</td>\n",
       "      <td>...</td>\n",
       "      <td>...</td>\n",
       "      <td>...</td>\n",
       "      <td>...</td>\n",
       "      <td>...</td>\n",
       "      <td>...</td>\n",
       "      <td>...</td>\n",
       "      <td>...</td>\n",
       "      <td>...</td>\n",
       "      <td>...</td>\n",
       "      <td>...</td>\n",
       "      <td>...</td>\n",
       "      <td>...</td>\n",
       "      <td>...</td>\n",
       "      <td>...</td>\n",
       "      <td>...</td>\n",
       "    </tr>\n",
       "    <tr>\n",
       "      <th>500</th>\n",
       "      <td>0.0</td>\n",
       "      <td>0.0</td>\n",
       "      <td>0.0</td>\n",
       "      <td>0.0</td>\n",
       "      <td>0.0</td>\n",
       "      <td>0.0</td>\n",
       "      <td>0.0</td>\n",
       "      <td>0.00000</td>\n",
       "      <td>0.0</td>\n",
       "      <td>0.0</td>\n",
       "      <td>...</td>\n",
       "      <td>0.0</td>\n",
       "      <td>0.0</td>\n",
       "      <td>0.0</td>\n",
       "      <td>0.0</td>\n",
       "      <td>0.0</td>\n",
       "      <td>0.0</td>\n",
       "      <td>0.000000</td>\n",
       "      <td>0.0</td>\n",
       "      <td>0.0</td>\n",
       "      <td>0.0</td>\n",
       "    </tr>\n",
       "    <tr>\n",
       "      <th>501</th>\n",
       "      <td>0.0</td>\n",
       "      <td>0.0</td>\n",
       "      <td>0.0</td>\n",
       "      <td>0.0</td>\n",
       "      <td>0.0</td>\n",
       "      <td>0.0</td>\n",
       "      <td>0.0</td>\n",
       "      <td>0.00000</td>\n",
       "      <td>0.0</td>\n",
       "      <td>0.0</td>\n",
       "      <td>...</td>\n",
       "      <td>0.0</td>\n",
       "      <td>0.0</td>\n",
       "      <td>0.0</td>\n",
       "      <td>0.0</td>\n",
       "      <td>0.0</td>\n",
       "      <td>0.0</td>\n",
       "      <td>0.000000</td>\n",
       "      <td>0.0</td>\n",
       "      <td>0.0</td>\n",
       "      <td>0.0</td>\n",
       "    </tr>\n",
       "    <tr>\n",
       "      <th>502</th>\n",
       "      <td>0.0</td>\n",
       "      <td>0.0</td>\n",
       "      <td>0.0</td>\n",
       "      <td>0.0</td>\n",
       "      <td>0.0</td>\n",
       "      <td>0.0</td>\n",
       "      <td>0.0</td>\n",
       "      <td>0.00000</td>\n",
       "      <td>0.0</td>\n",
       "      <td>0.0</td>\n",
       "      <td>...</td>\n",
       "      <td>0.0</td>\n",
       "      <td>0.0</td>\n",
       "      <td>0.0</td>\n",
       "      <td>0.0</td>\n",
       "      <td>0.0</td>\n",
       "      <td>0.0</td>\n",
       "      <td>0.000000</td>\n",
       "      <td>0.0</td>\n",
       "      <td>0.0</td>\n",
       "      <td>0.0</td>\n",
       "    </tr>\n",
       "    <tr>\n",
       "      <th>503</th>\n",
       "      <td>0.0</td>\n",
       "      <td>0.0</td>\n",
       "      <td>0.0</td>\n",
       "      <td>0.0</td>\n",
       "      <td>0.0</td>\n",
       "      <td>0.0</td>\n",
       "      <td>0.0</td>\n",
       "      <td>0.00000</td>\n",
       "      <td>0.0</td>\n",
       "      <td>0.0</td>\n",
       "      <td>...</td>\n",
       "      <td>0.0</td>\n",
       "      <td>0.0</td>\n",
       "      <td>0.0</td>\n",
       "      <td>0.0</td>\n",
       "      <td>0.0</td>\n",
       "      <td>0.0</td>\n",
       "      <td>0.000000</td>\n",
       "      <td>0.0</td>\n",
       "      <td>0.0</td>\n",
       "      <td>0.0</td>\n",
       "    </tr>\n",
       "    <tr>\n",
       "      <th>504</th>\n",
       "      <td>0.0</td>\n",
       "      <td>0.0</td>\n",
       "      <td>0.0</td>\n",
       "      <td>0.0</td>\n",
       "      <td>0.0</td>\n",
       "      <td>0.0</td>\n",
       "      <td>0.0</td>\n",
       "      <td>0.20143</td>\n",
       "      <td>0.0</td>\n",
       "      <td>0.0</td>\n",
       "      <td>...</td>\n",
       "      <td>0.0</td>\n",
       "      <td>0.0</td>\n",
       "      <td>0.0</td>\n",
       "      <td>0.0</td>\n",
       "      <td>0.0</td>\n",
       "      <td>0.0</td>\n",
       "      <td>0.000000</td>\n",
       "      <td>0.0</td>\n",
       "      <td>0.0</td>\n",
       "      <td>0.0</td>\n",
       "    </tr>\n",
       "  </tbody>\n",
       "</table>\n",
       "<p>505 rows × 2400 columns</p>\n",
       "</div>"
      ],
      "text/plain": [
       "     1714   29  abbé  abord  accepta  accepté  accord  accrochée  accès  \\\n",
       "0     0.0  0.0   0.0    0.0      0.0      0.0     0.0    0.00000    0.0   \n",
       "1     0.0  0.0   0.0    0.0      0.0      0.0     0.0    0.00000    0.0   \n",
       "2     0.0  0.0   0.0    0.0      0.0      0.0     0.0    0.00000    0.0   \n",
       "3     0.0  0.0   0.0    0.0      0.0      0.0     0.0    0.00000    0.0   \n",
       "4     0.0  0.0   0.0    0.0      0.0      0.0     0.0    0.00000    0.0   \n",
       "..    ...  ...   ...    ...      ...      ...     ...        ...    ...   \n",
       "500   0.0  0.0   0.0    0.0      0.0      0.0     0.0    0.00000    0.0   \n",
       "501   0.0  0.0   0.0    0.0      0.0      0.0     0.0    0.00000    0.0   \n",
       "502   0.0  0.0   0.0    0.0      0.0      0.0     0.0    0.00000    0.0   \n",
       "503   0.0  0.0   0.0    0.0      0.0      0.0     0.0    0.00000    0.0   \n",
       "504   0.0  0.0   0.0    0.0      0.0      0.0     0.0    0.20143    0.0   \n",
       "\n",
       "     acheta  ...  évincer  événements  évêché  évêque  évêques  êtes  \\\n",
       "0       0.0  ...      0.0         0.0     0.0     0.0      0.0   0.0   \n",
       "1       0.0  ...      0.0         0.0     0.0     0.0      0.0   0.0   \n",
       "2       0.0  ...      0.0         0.0     0.0     0.0      0.0   0.0   \n",
       "3       0.0  ...      0.0         0.0     0.0     0.0      0.0   0.0   \n",
       "4       0.0  ...      0.0         0.0     0.0     0.0      0.0   0.0   \n",
       "..      ...  ...      ...         ...     ...     ...      ...   ...   \n",
       "500     0.0  ...      0.0         0.0     0.0     0.0      0.0   0.0   \n",
       "501     0.0  ...      0.0         0.0     0.0     0.0      0.0   0.0   \n",
       "502     0.0  ...      0.0         0.0     0.0     0.0      0.0   0.0   \n",
       "503     0.0  ...      0.0         0.0     0.0     0.0      0.0   0.0   \n",
       "504     0.0  ...      0.0         0.0     0.0     0.0      0.0   0.0   \n",
       "\n",
       "         être  êtres  œil  œuvre  \n",
       "0    0.000000    0.0  0.0    0.0  \n",
       "1    0.000000    0.0  0.0    0.0  \n",
       "2    0.000000    0.0  0.0    0.0  \n",
       "3    0.130339    0.0  0.0    0.0  \n",
       "4    0.000000    0.0  0.0    0.0  \n",
       "..        ...    ...  ...    ...  \n",
       "500  0.000000    0.0  0.0    0.0  \n",
       "501  0.000000    0.0  0.0    0.0  \n",
       "502  0.000000    0.0  0.0    0.0  \n",
       "503  0.000000    0.0  0.0    0.0  \n",
       "504  0.000000    0.0  0.0    0.0  \n",
       "\n",
       "[505 rows x 2400 columns]"
      ]
     },
     "execution_count": 12,
     "metadata": {},
     "output_type": "execute_result"
    }
   ],
   "source": [
    "from sklearn.feature_extraction.text import CountVectorizer, TfidfVectorizer\n",
    "vectorizer = TfidfVectorizer(max_features=2400)\n",
    "tfidf_data = vectorizer.fit_transform(train_set_df[\"text\"]).toarray()\n",
    "features = vectorizer.get_feature_names()\n",
    "tfidf_dataa = pd.DataFrame(tfidf_data, columns=features)\n",
    "tfidf_dataa"
   ]
  },
  {
   "cell_type": "markdown",
   "id": "0b14e72f",
   "metadata": {
    "papermill": {
     "duration": 0.059025,
     "end_time": "2022-07-05T17:28:13.007123",
     "exception": false,
     "start_time": "2022-07-05T17:28:12.948098",
     "status": "completed"
    },
    "tags": []
   },
   "source": [
    "**tfidf of the test data**"
   ]
  },
  {
   "cell_type": "code",
   "execution_count": 13,
   "id": "1585b6db",
   "metadata": {
    "execution": {
     "iopub.execute_input": "2022-07-05T17:28:13.121767Z",
     "iopub.status.busy": "2022-07-05T17:28:13.120989Z",
     "iopub.status.idle": "2022-07-05T17:28:13.166740Z",
     "shell.execute_reply": "2022-07-05T17:28:13.167734Z",
     "shell.execute_reply.started": "2022-07-05T17:27:12.551496Z"
    },
    "papermill": {
     "duration": 0.110291,
     "end_time": "2022-07-05T17:28:13.167945",
     "exception": false,
     "start_time": "2022-07-05T17:28:13.057654",
     "status": "completed"
    },
    "tags": []
   },
   "outputs": [],
   "source": [
    "from sklearn.feature_extraction.text import CountVectorizer, TfidfVectorizer\n",
    "vectorizer = TfidfVectorizer(max_features=2400)\n",
    "tfidf_data = vectorizer.fit_transform(lingua_fr[\"text\"]).toarray()\n",
    "features = vectorizer.get_feature_names()\n",
    "tfidf_lingua_fr = pd.DataFrame(tfidf_data, columns=features)"
   ]
  },
  {
   "cell_type": "code",
   "execution_count": 14,
   "id": "5725f7e8",
   "metadata": {
    "execution": {
     "iopub.execute_input": "2022-07-05T17:28:13.293491Z",
     "iopub.status.busy": "2022-07-05T17:28:13.292563Z",
     "iopub.status.idle": "2022-07-05T17:28:13.299455Z",
     "shell.execute_reply": "2022-07-05T17:28:13.300183Z",
     "shell.execute_reply.started": "2022-07-05T17:27:12.651492Z"
    },
    "papermill": {
     "duration": 0.072517,
     "end_time": "2022-07-05T17:28:13.300381",
     "exception": false,
     "start_time": "2022-07-05T17:28:13.227864",
     "status": "completed"
    },
    "tags": []
   },
   "outputs": [
    {
     "data": {
      "text/plain": [
       "array(['A2', 'B1', 'A1', 'B2', 'C1', 'C2'], dtype=object)"
      ]
     },
     "execution_count": 14,
     "metadata": {},
     "output_type": "execute_result"
    }
   ],
   "source": [
    "y=train_set_df[\"label\"]\n",
    "y.unique()"
   ]
  },
  {
   "cell_type": "markdown",
   "id": "330d7877",
   "metadata": {
    "papermill": {
     "duration": 0.052683,
     "end_time": "2022-07-05T17:28:13.413354",
     "exception": false,
     "start_time": "2022-07-05T17:28:13.360671",
     "status": "completed"
    },
    "tags": []
   },
   "source": [
    "**encoding y**"
   ]
  },
  {
   "cell_type": "code",
   "execution_count": 15,
   "id": "3f96af36",
   "metadata": {
    "execution": {
     "iopub.execute_input": "2022-07-05T17:28:13.525572Z",
     "iopub.status.busy": "2022-07-05T17:28:13.524683Z",
     "iopub.status.idle": "2022-07-05T17:28:13.526933Z",
     "shell.execute_reply": "2022-07-05T17:28:13.526292Z",
     "shell.execute_reply.started": "2022-07-05T17:27:12.852339Z"
    },
    "papermill": {
     "duration": 0.061577,
     "end_time": "2022-07-05T17:28:13.527184",
     "exception": false,
     "start_time": "2022-07-05T17:28:13.465607",
     "status": "completed"
    },
    "tags": []
   },
   "outputs": [],
   "source": [
    "y = le.fit_transform(y)"
   ]
  },
  {
   "cell_type": "code",
   "execution_count": 16,
   "id": "8d432683",
   "metadata": {
    "execution": {
     "iopub.execute_input": "2022-07-05T17:28:13.641179Z",
     "iopub.status.busy": "2022-07-05T17:28:13.640315Z",
     "iopub.status.idle": "2022-07-05T17:28:13.643743Z",
     "shell.execute_reply": "2022-07-05T17:28:13.641899Z",
     "shell.execute_reply.started": "2022-07-05T17:27:13.077778Z"
    },
    "papermill": {
     "duration": 0.063791,
     "end_time": "2022-07-05T17:28:13.643950",
     "exception": false,
     "start_time": "2022-07-05T17:28:13.580159",
     "status": "completed"
    },
    "tags": []
   },
   "outputs": [
    {
     "data": {
      "text/plain": [
       "array([0, 1, 2, 3, 4, 5])"
      ]
     },
     "execution_count": 16,
     "metadata": {},
     "output_type": "execute_result"
    }
   ],
   "source": [
    "np.unique(y)"
   ]
  },
  {
   "cell_type": "markdown",
   "id": "580a286d",
   "metadata": {
    "papermill": {
     "duration": 0.051989,
     "end_time": "2022-07-05T17:28:13.747902",
     "exception": false,
     "start_time": "2022-07-05T17:28:13.695913",
     "status": "completed"
    },
    "tags": []
   },
   "source": [
    "**split data**"
   ]
  },
  {
   "cell_type": "code",
   "execution_count": 17,
   "id": "d25d5fc5",
   "metadata": {
    "execution": {
     "iopub.execute_input": "2022-07-05T17:28:13.883028Z",
     "iopub.status.busy": "2022-07-05T17:28:13.882149Z",
     "iopub.status.idle": "2022-07-05T17:28:13.885912Z",
     "shell.execute_reply": "2022-07-05T17:28:13.886914Z",
     "shell.execute_reply.started": "2022-07-05T17:27:13.212002Z"
    },
    "papermill": {
     "duration": 0.077962,
     "end_time": "2022-07-05T17:28:13.887115",
     "exception": false,
     "start_time": "2022-07-05T17:28:13.809153",
     "status": "completed"
    },
    "tags": []
   },
   "outputs": [],
   "source": [
    "xtrain, xtest, ytrain, ytest = train_test_split(tfidf_dataa, y, test_size=0.1, random_state=11)"
   ]
  },
  {
   "cell_type": "markdown",
   "id": "fe342027",
   "metadata": {
    "papermill": {
     "duration": 0.052532,
     "end_time": "2022-07-05T17:28:13.993449",
     "exception": false,
     "start_time": "2022-07-05T17:28:13.940917",
     "status": "completed"
    },
    "tags": []
   },
   "source": [
    "****"
   ]
  },
  {
   "cell_type": "markdown",
   "id": "df6bc6e3",
   "metadata": {
    "papermill": {
     "duration": 0.032272,
     "end_time": "2022-07-05T17:28:14.062199",
     "exception": false,
     "start_time": "2022-07-05T17:28:14.029927",
     "status": "completed"
    },
    "tags": []
   },
   "source": [
    "# LGBMClassifier"
   ]
  },
  {
   "cell_type": "code",
   "execution_count": 18,
   "id": "7ca562e0",
   "metadata": {
    "execution": {
     "iopub.execute_input": "2022-07-05T17:28:14.133675Z",
     "iopub.status.busy": "2022-07-05T17:28:14.133054Z",
     "iopub.status.idle": "2022-07-05T17:28:16.526353Z",
     "shell.execute_reply": "2022-07-05T17:28:16.527112Z",
     "shell.execute_reply.started": "2022-07-05T17:27:13.424387Z"
    },
    "papermill": {
     "duration": 2.431916,
     "end_time": "2022-07-05T17:28:16.527282",
     "exception": false,
     "start_time": "2022-07-05T17:28:14.095366",
     "status": "completed"
    },
    "tags": []
   },
   "outputs": [
    {
     "data": {
      "text/html": [
       "<style type='text/css'>\n",
       ".datatable table.frame { margin-bottom: 0; }\n",
       ".datatable table.frame thead { border-bottom: none; }\n",
       ".datatable table.frame tr.coltypes td {  color: #FFFFFF;  line-height: 6px;  padding: 0 0.5em;}\n",
       ".datatable .bool    { background: #DDDD99; }\n",
       ".datatable .object  { background: #565656; }\n",
       ".datatable .int     { background: #5D9E5D; }\n",
       ".datatable .float   { background: #4040CC; }\n",
       ".datatable .str     { background: #CC4040; }\n",
       ".datatable .time    { background: #40CC40; }\n",
       ".datatable .row_index {  background: var(--jp-border-color3);  border-right: 1px solid var(--jp-border-color0);  color: var(--jp-ui-font-color3);  font-size: 9px;}\n",
       ".datatable .frame tbody td { text-align: left; }\n",
       ".datatable .frame tr.coltypes .row_index {  background: var(--jp-border-color0);}\n",
       ".datatable th:nth-child(2) { padding-left: 12px; }\n",
       ".datatable .hellipsis {  color: var(--jp-cell-editor-border-color);}\n",
       ".datatable .vellipsis {  background: var(--jp-layout-color0);  color: var(--jp-cell-editor-border-color);}\n",
       ".datatable .na {  color: var(--jp-cell-editor-border-color);  font-size: 80%;}\n",
       ".datatable .sp {  opacity: 0.25;}\n",
       ".datatable .footer { font-size: 9px; }\n",
       ".datatable .frame_dimensions {  background: var(--jp-border-color3);  border-top: 1px solid var(--jp-border-color0);  color: var(--jp-ui-font-color3);  display: inline-block;  opacity: 0.6;  padding: 1px 10px 1px 5px;}\n",
       "</style>\n"
      ],
      "text/plain": [
       "<IPython.core.display.HTML object>"
      ]
     },
     "metadata": {},
     "output_type": "display_data"
    },
    {
     "name": "stdout",
     "output_type": "stream",
     "text": [
      "LightGBM Model accuracy score: 0.5686\n"
     ]
    }
   ],
   "source": [
    "import lightgbm as lgb\n",
    "clf = lgb.LGBMClassifier()\n",
    "clf.fit(xtrain, ytrain)\n",
    "y_pred=clf.predict(xtest)\n",
    "accuracy=accuracy_score(y_pred, ytest)\n",
    "print('LightGBM Model accuracy score: {0:0.4f}'.format(accuracy_score(ytest, y_pred)))"
   ]
  },
  {
   "cell_type": "code",
   "execution_count": 19,
   "id": "42a2456e",
   "metadata": {
    "execution": {
     "iopub.execute_input": "2022-07-05T17:28:16.600220Z",
     "iopub.status.busy": "2022-07-05T17:28:16.599276Z",
     "iopub.status.idle": "2022-07-05T17:28:16.605447Z",
     "shell.execute_reply": "2022-07-05T17:28:16.606030Z",
     "shell.execute_reply.started": "2022-07-05T17:27:13.922089Z"
    },
    "papermill": {
     "duration": 0.044676,
     "end_time": "2022-07-05T17:28:16.606165",
     "exception": false,
     "start_time": "2022-07-05T17:28:16.561489",
     "status": "completed"
    },
    "tags": []
   },
   "outputs": [
    {
     "data": {
      "text/plain": [
       "array([0, 1, 2, 3, 4, 5])"
      ]
     },
     "execution_count": 19,
     "metadata": {},
     "output_type": "execute_result"
    }
   ],
   "source": [
    "np.unique(y_pred)"
   ]
  },
  {
   "cell_type": "code",
   "execution_count": 20,
   "id": "e563828e",
   "metadata": {
    "execution": {
     "iopub.execute_input": "2022-07-05T17:28:16.678849Z",
     "iopub.status.busy": "2022-07-05T17:28:16.678029Z",
     "iopub.status.idle": "2022-07-05T17:28:16.686064Z",
     "shell.execute_reply": "2022-07-05T17:28:16.685605Z",
     "shell.execute_reply.started": "2022-07-05T17:27:13.932225Z"
    },
    "papermill": {
     "duration": 0.045993,
     "end_time": "2022-07-05T17:28:16.686192",
     "exception": false,
     "start_time": "2022-07-05T17:28:16.640199",
     "status": "completed"
    },
    "tags": []
   },
   "outputs": [
    {
     "name": "stdout",
     "output_type": "stream",
     "text": [
      "              precision    recall  f1-score   support\n",
      "\n",
      "           0       0.60      0.86      0.71         7\n",
      "           1       0.33      0.12      0.18         8\n",
      "           2       0.57      0.72      0.63        18\n",
      "           3       0.33      0.14      0.20         7\n",
      "           4       0.73      0.89      0.80         9\n",
      "           5       0.00      0.00      0.00         2\n",
      "\n",
      "    accuracy                           0.57        51\n",
      "   macro avg       0.43      0.46      0.42        51\n",
      "weighted avg       0.51      0.57      0.52        51\n",
      "\n"
     ]
    }
   ],
   "source": [
    "from sklearn.metrics import classification_report\n",
    "print(classification_report(ytest, y_pred))"
   ]
  },
  {
   "cell_type": "code",
   "execution_count": 21,
   "id": "bd1604e2",
   "metadata": {
    "execution": {
     "iopub.execute_input": "2022-07-05T17:28:16.759051Z",
     "iopub.status.busy": "2022-07-05T17:28:16.758296Z",
     "iopub.status.idle": "2022-07-05T17:28:16.760242Z",
     "shell.execute_reply": "2022-07-05T17:28:16.760740Z",
     "shell.execute_reply.started": "2022-07-05T17:27:13.949187Z"
    },
    "papermill": {
     "duration": 0.040144,
     "end_time": "2022-07-05T17:28:16.760899",
     "exception": false,
     "start_time": "2022-07-05T17:28:16.720755",
     "status": "completed"
    },
    "tags": []
   },
   "outputs": [],
   "source": [
    "y_true=le.transform(lingua_fr[\"cefr\"])"
   ]
  },
  {
   "cell_type": "code",
   "execution_count": 22,
   "id": "4494798f",
   "metadata": {
    "execution": {
     "iopub.execute_input": "2022-07-05T17:28:16.861127Z",
     "iopub.status.busy": "2022-07-05T17:28:16.860269Z",
     "iopub.status.idle": "2022-07-05T17:28:16.865131Z",
     "shell.execute_reply": "2022-07-05T17:28:16.865935Z",
     "shell.execute_reply.started": "2022-07-05T17:27:14.003860Z"
    },
    "papermill": {
     "duration": 0.070951,
     "end_time": "2022-07-05T17:28:16.866163",
     "exception": false,
     "start_time": "2022-07-05T17:28:16.795212",
     "status": "completed"
    },
    "tags": []
   },
   "outputs": [
    {
     "data": {
      "text/plain": [
       "array([0, 1, 2, 3])"
      ]
     },
     "execution_count": 22,
     "metadata": {},
     "output_type": "execute_result"
    }
   ],
   "source": [
    "np.unique(y_true)"
   ]
  },
  {
   "cell_type": "markdown",
   "id": "ae786583",
   "metadata": {
    "papermill": {
     "duration": 0.053296,
     "end_time": "2022-07-05T17:28:16.977361",
     "exception": false,
     "start_time": "2022-07-05T17:28:16.924065",
     "status": "completed"
    },
    "tags": []
   },
   "source": [
    "**concatenate x train and xtest , ytrain y test and fit the model the whole data**"
   ]
  },
  {
   "cell_type": "code",
   "execution_count": 23,
   "id": "567a2616",
   "metadata": {
    "execution": {
     "iopub.execute_input": "2022-07-05T17:28:17.096665Z",
     "iopub.status.busy": "2022-07-05T17:28:17.095452Z",
     "iopub.status.idle": "2022-07-05T17:28:17.674290Z",
     "shell.execute_reply": "2022-07-05T17:28:17.673607Z",
     "shell.execute_reply.started": "2022-07-05T17:27:14.154442Z"
    },
    "papermill": {
     "duration": 0.641599,
     "end_time": "2022-07-05T17:28:17.674420",
     "exception": false,
     "start_time": "2022-07-05T17:28:17.032821",
     "status": "completed"
    },
    "tags": []
   },
   "outputs": [
    {
     "data": {
      "text/plain": [
       "LGBMClassifier()"
      ]
     },
     "execution_count": 23,
     "metadata": {},
     "output_type": "execute_result"
    }
   ],
   "source": [
    "x=pd.concat([xtrain, xtest])\n",
    "y_=np.concatenate([ytrain, ytest])\n",
    "clf.fit(x,y_)"
   ]
  },
  {
   "cell_type": "code",
   "execution_count": 24,
   "id": "791a33d6",
   "metadata": {
    "execution": {
     "iopub.execute_input": "2022-07-05T17:28:17.752877Z",
     "iopub.status.busy": "2022-07-05T17:28:17.752044Z",
     "iopub.status.idle": "2022-07-05T17:28:17.777694Z",
     "shell.execute_reply": "2022-07-05T17:28:17.777259Z",
     "shell.execute_reply.started": "2022-07-05T17:27:14.678378Z"
    },
    "papermill": {
     "duration": 0.06778,
     "end_time": "2022-07-05T17:28:17.777823",
     "exception": false,
     "start_time": "2022-07-05T17:28:17.710043",
     "status": "completed"
    },
    "tags": []
   },
   "outputs": [],
   "source": [
    "y_pr=clf.predict(tfidf_lingua_fr)"
   ]
  },
  {
   "cell_type": "markdown",
   "id": "2f21cf59",
   "metadata": {
    "papermill": {
     "duration": 0.035042,
     "end_time": "2022-07-05T17:28:17.848037",
     "exception": false,
     "start_time": "2022-07-05T17:28:17.812995",
     "status": "completed"
    },
    "tags": []
   },
   "source": [
    "**how many level the model could predict**"
   ]
  },
  {
   "cell_type": "code",
   "execution_count": 25,
   "id": "b693e8a4",
   "metadata": {
    "execution": {
     "iopub.execute_input": "2022-07-05T17:28:17.923433Z",
     "iopub.status.busy": "2022-07-05T17:28:17.922782Z",
     "iopub.status.idle": "2022-07-05T17:28:17.925386Z",
     "shell.execute_reply": "2022-07-05T17:28:17.925786Z",
     "shell.execute_reply.started": "2022-07-05T17:27:14.709720Z"
    },
    "papermill": {
     "duration": 0.042533,
     "end_time": "2022-07-05T17:28:17.925935",
     "exception": false,
     "start_time": "2022-07-05T17:28:17.883402",
     "status": "completed"
    },
    "tags": []
   },
   "outputs": [
    {
     "data": {
      "text/plain": [
       "array([0, 1, 2])"
      ]
     },
     "execution_count": 25,
     "metadata": {},
     "output_type": "execute_result"
    }
   ],
   "source": [
    "np.unique(y_pr)"
   ]
  },
  {
   "cell_type": "markdown",
   "id": "f80ef919",
   "metadata": {
    "papermill": {
     "duration": 0.03463,
     "end_time": "2022-07-05T17:28:17.995139",
     "exception": false,
     "start_time": "2022-07-05T17:28:17.960509",
     "status": "completed"
    },
    "tags": []
   },
   "source": [
    "**Classification report**"
   ]
  },
  {
   "cell_type": "code",
   "execution_count": 26,
   "id": "73d16f13",
   "metadata": {
    "execution": {
     "iopub.execute_input": "2022-07-05T17:28:18.069605Z",
     "iopub.status.busy": "2022-07-05T17:28:18.068729Z",
     "iopub.status.idle": "2022-07-05T17:28:18.075430Z",
     "shell.execute_reply": "2022-07-05T17:28:18.076027Z",
     "shell.execute_reply.started": "2022-07-05T17:27:14.719957Z"
    },
    "papermill": {
     "duration": 0.045839,
     "end_time": "2022-07-05T17:28:18.076177",
     "exception": false,
     "start_time": "2022-07-05T17:28:18.030338",
     "status": "completed"
    },
    "tags": []
   },
   "outputs": [
    {
     "name": "stdout",
     "output_type": "stream",
     "text": [
      "              precision    recall  f1-score   support\n",
      "\n",
      "           0       0.11      0.69      0.19        13\n",
      "           1       0.50      0.04      0.07        26\n",
      "           2       0.64      0.30      0.41        60\n",
      "           3       0.00      0.00      0.00        12\n",
      "\n",
      "    accuracy                           0.25       111\n",
      "   macro avg       0.31      0.26      0.17       111\n",
      "weighted avg       0.48      0.25      0.26       111\n",
      "\n"
     ]
    }
   ],
   "source": [
    "print(classification_report(y_true, y_pr))"
   ]
  },
  {
   "cell_type": "markdown",
   "id": "9ce5f0ac",
   "metadata": {
    "papermill": {
     "duration": 0.034242,
     "end_time": "2022-07-05T17:28:18.145656",
     "exception": false,
     "start_time": "2022-07-05T17:28:18.111414",
     "status": "completed"
    },
    "tags": []
   },
   "source": [
    "****"
   ]
  },
  {
   "cell_type": "markdown",
   "id": "7b1cec6e",
   "metadata": {
    "papermill": {
     "duration": 0.034336,
     "end_time": "2022-07-05T17:28:18.215344",
     "exception": false,
     "start_time": "2022-07-05T17:28:18.181008",
     "status": "completed"
    },
    "tags": []
   },
   "source": [
    "# LightGBM"
   ]
  },
  {
   "cell_type": "code",
   "execution_count": 27,
   "id": "d1280acf",
   "metadata": {
    "execution": {
     "iopub.execute_input": "2022-07-05T17:28:18.294400Z",
     "iopub.status.busy": "2022-07-05T17:28:18.293504Z",
     "iopub.status.idle": "2022-07-05T17:28:18.295331Z",
     "shell.execute_reply": "2022-07-05T17:28:18.295791Z",
     "shell.execute_reply.started": "2022-07-05T17:27:14.747244Z"
    },
    "papermill": {
     "duration": 0.044725,
     "end_time": "2022-07-05T17:28:18.295955",
     "exception": false,
     "start_time": "2022-07-05T17:28:18.251230",
     "status": "completed"
    },
    "tags": []
   },
   "outputs": [],
   "source": [
    "def run_lgb(train_X, train_y, val_X, val_y,x_test) :\n",
    "    params = {\n",
    "        \"objective\":\"multiclass\",\n",
    "        \"num_classes\":\"6\",\n",
    "        \"metric\" : \"multi_error\",\n",
    "        \"boosting_type\": \"gbdt\",\n",
    "        \"num_leaves\" : 10,\n",
    "        \"learning_rate\" : 0.004,\n",
    "        \"bagging_fraction\" : 0.6,\n",
    "        \"feature_fraction\" : 0.6,\n",
    "        \"bagging_frequency\" : 6,\n",
    "        \"bagging_seed\" : 42,\n",
    "        \"verbosity\" : -1,\n",
    "        \"seed\": 42 }\n",
    "    \n",
    "    lgtrain = lgb.Dataset(train_X, label=train_y)\n",
    "    lgval = lgb.Dataset(val_X, label=val_y)\n",
    "    evals_result = {}\n",
    "    model = lgb.train(params, lgtrain, 5000,\n",
    "                      valid_sets=[lgtrain, lgval], \n",
    "                      early_stopping_rounds=100, \n",
    "                      verbose_eval=150, \n",
    "                      evals_result=evals_result)\n",
    "    ypred=model.predict(x_test).argmax(axis=1)\n",
    "    accuracy=accuracy_score(ypred, val_y)\n",
    "    return  accuracy , model, evals_result"
   ]
  },
  {
   "cell_type": "code",
   "execution_count": 28,
   "id": "c5344bbd",
   "metadata": {
    "execution": {
     "iopub.execute_input": "2022-07-05T17:28:18.374049Z",
     "iopub.status.busy": "2022-07-05T17:28:18.372939Z",
     "iopub.status.idle": "2022-07-05T17:28:19.097544Z",
     "shell.execute_reply": "2022-07-05T17:28:19.098160Z",
     "shell.execute_reply.started": "2022-07-05T17:27:14.871498Z"
    },
    "papermill": {
     "duration": 0.765813,
     "end_time": "2022-07-05T17:28:19.098354",
     "exception": false,
     "start_time": "2022-07-05T17:28:18.332541",
     "status": "completed"
    },
    "tags": []
   },
   "outputs": [
    {
     "name": "stdout",
     "output_type": "stream",
     "text": [
      "[LightGBM] [Warning] Unknown parameter: bagging_frequency\n",
      "Training until validation scores don't improve for 100 rounds\n",
      "[150]\ttraining's multi_error: 0.427313\tvalid_1's multi_error: 0.411765\n",
      "Early stopping, best iteration is:\n",
      "[171]\ttraining's multi_error: 0.361233\tvalid_1's multi_error: 0.392157\n",
      "LightGBM Training Completed...\n",
      "\n",
      " LightGBM Model accuracy score: 0.6078\n"
     ]
    }
   ],
   "source": [
    "accuracy ,model, evals_result = run_lgb(xtrain, ytrain, xtest, ytest, xtest)\n",
    "print(\"LightGBM Training Completed...\\n\\n\",'LightGBM Model accuracy score: {0:0.4f}'.format(accuracy) )"
   ]
  },
  {
   "cell_type": "markdown",
   "id": "37ca5af5",
   "metadata": {
    "papermill": {
     "duration": 0.03672,
     "end_time": "2022-07-05T17:28:19.173055",
     "exception": false,
     "start_time": "2022-07-05T17:28:19.136335",
     "status": "completed"
    },
    "tags": []
   },
   "source": [
    "**how many level the model could predict**"
   ]
  },
  {
   "cell_type": "code",
   "execution_count": 29,
   "id": "4658d0cf",
   "metadata": {
    "execution": {
     "iopub.execute_input": "2022-07-05T17:28:19.248981Z",
     "iopub.status.busy": "2022-07-05T17:28:19.248234Z",
     "iopub.status.idle": "2022-07-05T17:28:19.270847Z",
     "shell.execute_reply": "2022-07-05T17:28:19.270353Z",
     "shell.execute_reply.started": "2022-07-05T17:27:15.761516Z"
    },
    "papermill": {
     "duration": 0.062279,
     "end_time": "2022-07-05T17:28:19.270961",
     "exception": false,
     "start_time": "2022-07-05T17:28:19.208682",
     "status": "completed"
    },
    "tags": []
   },
   "outputs": [
    {
     "data": {
      "text/plain": [
       "array([0, 1, 2, 3, 4])"
      ]
     },
     "execution_count": 29,
     "metadata": {},
     "output_type": "execute_result"
    }
   ],
   "source": [
    "ypred=model.predict(xtest).argmax(axis=1)\n",
    "np.unique(ypred)"
   ]
  },
  {
   "cell_type": "markdown",
   "id": "462e1aab",
   "metadata": {
    "papermill": {
     "duration": 0.036172,
     "end_time": "2022-07-05T17:28:19.343904",
     "exception": false,
     "start_time": "2022-07-05T17:28:19.307732",
     "status": "completed"
    },
    "tags": []
   },
   "source": [
    "****"
   ]
  },
  {
   "cell_type": "markdown",
   "id": "56c37411",
   "metadata": {
    "papermill": {
     "duration": 0.036457,
     "end_time": "2022-07-05T17:28:19.416701",
     "exception": false,
     "start_time": "2022-07-05T17:28:19.380244",
     "status": "completed"
    },
    "tags": []
   },
   "source": [
    "# Testing the model on lingua_fr datatset"
   ]
  },
  {
   "cell_type": "code",
   "execution_count": 30,
   "id": "8af08c8f",
   "metadata": {
    "execution": {
     "iopub.execute_input": "2022-07-05T17:28:19.494894Z",
     "iopub.status.busy": "2022-07-05T17:28:19.493958Z",
     "iopub.status.idle": "2022-07-05T17:28:19.521863Z",
     "shell.execute_reply": "2022-07-05T17:28:19.521400Z",
     "shell.execute_reply.started": "2022-07-05T17:27:15.792935Z"
    },
    "papermill": {
     "duration": 0.068414,
     "end_time": "2022-07-05T17:28:19.521984",
     "exception": false,
     "start_time": "2022-07-05T17:28:19.453570",
     "status": "completed"
    },
    "tags": []
   },
   "outputs": [
    {
     "data": {
      "text/plain": [
       "array([0, 1, 2])"
      ]
     },
     "execution_count": 30,
     "metadata": {},
     "output_type": "execute_result"
    }
   ],
   "source": [
    "ypr=model.predict(tfidf_lingua_fr).argmax(axis=1)\n",
    "np.unique(ypr)"
   ]
  },
  {
   "cell_type": "code",
   "execution_count": 31,
   "id": "c7395b16",
   "metadata": {
    "execution": {
     "iopub.execute_input": "2022-07-05T17:28:19.600782Z",
     "iopub.status.busy": "2022-07-05T17:28:19.600007Z",
     "iopub.status.idle": "2022-07-05T17:28:19.606665Z",
     "shell.execute_reply": "2022-07-05T17:28:19.607255Z",
     "shell.execute_reply.started": "2022-07-05T17:27:15.829571Z"
    },
    "papermill": {
     "duration": 0.048217,
     "end_time": "2022-07-05T17:28:19.607420",
     "exception": false,
     "start_time": "2022-07-05T17:28:19.559203",
     "status": "completed"
    },
    "tags": []
   },
   "outputs": [
    {
     "name": "stdout",
     "output_type": "stream",
     "text": [
      "              precision    recall  f1-score   support\n",
      "\n",
      "           0       0.14      0.46      0.21        13\n",
      "           1       1.00      0.04      0.07        26\n",
      "           2       0.57      0.63      0.60        60\n",
      "           3       0.00      0.00      0.00        12\n",
      "\n",
      "    accuracy                           0.41       111\n",
      "   macro avg       0.43      0.28      0.22       111\n",
      "weighted avg       0.56      0.41      0.37       111\n",
      "\n"
     ]
    }
   ],
   "source": [
    "print(classification_report(y_true, ypr))"
   ]
  },
  {
   "cell_type": "code",
   "execution_count": null,
   "id": "e4e9dc66",
   "metadata": {
    "papermill": {
     "duration": 0.037121,
     "end_time": "2022-07-05T17:28:19.681620",
     "exception": false,
     "start_time": "2022-07-05T17:28:19.644499",
     "status": "completed"
    },
    "tags": []
   },
   "outputs": [],
   "source": []
  }
 ],
 "metadata": {
  "kernelspec": {
   "display_name": "Python 3",
   "language": "python",
   "name": "python3"
  },
  "language_info": {
   "codemirror_mode": {
    "name": "ipython",
    "version": 3
   },
   "file_extension": ".py",
   "mimetype": "text/x-python",
   "name": "python",
   "nbconvert_exporter": "python",
   "pygments_lexer": "ipython3",
   "version": "3.7.10"
  },
  "papermill": {
   "default_parameters": {},
   "duration": 26.390284,
   "end_time": "2022-07-05T17:28:22.598696",
   "environment_variables": {},
   "exception": null,
   "input_path": "__notebook__.ipynb",
   "output_path": "__notebook__.ipynb",
   "parameters": {},
   "start_time": "2022-07-05T17:27:56.208412",
   "version": "2.3.3"
  }
 },
 "nbformat": 4,
 "nbformat_minor": 5
}
