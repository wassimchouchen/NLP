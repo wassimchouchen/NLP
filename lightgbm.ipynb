{
 "cells": [
  {
   "cell_type": "code",
   "execution_count": 1,
   "id": "f701be99",
   "metadata": {
    "_cell_guid": "b1076dfc-b9ad-4769-8c92-a6c4dae69d19",
    "_uuid": "8f2839f25d086af736a60e9eeb907d3b93b6e0e5",
    "execution": {
     "iopub.execute_input": "2022-07-05T17:19:39.591452Z",
     "iopub.status.busy": "2022-07-05T17:19:39.589978Z",
     "iopub.status.idle": "2022-07-05T17:19:47.262280Z",
     "shell.execute_reply": "2022-07-05T17:19:47.261168Z"
    },
    "papermill": {
     "duration": 7.701674,
     "end_time": "2022-07-05T17:19:47.262437",
     "exception": false,
     "start_time": "2022-07-05T17:19:39.560763",
     "status": "completed"
    },
    "tags": []
   },
   "outputs": [],
   "source": [
    "import os\n",
    "\n",
    "import random\n",
    "import numpy as np\n",
    "\n",
    "import pandas as pd\n",
    "import torch\n",
    "from torch.utils.data import Dataset, random_split\n",
    "from sklearn.model_selection import train_test_split \n",
    "from transformers import (\n",
    "    AdamW,\n",
    "    Trainer,\n",
    "    TrainingArguments,\n",
    "    AutoTokenizer,\n",
    "    AutoModelForSequenceClassification,\n",
    "    get_cosine_schedule_with_warmup,\n",
    ")\n",
    "from sklearn.preprocessing import LabelEncoder\n",
    "from sklearn.metrics import accuracy_score\n",
    "from sklearn import preprocessing\n",
    "from sklearn.metrics import accuracy_score\n",
    "le = preprocessing.LabelEncoder()\n",
    "import warnings\n",
    "warnings.filterwarnings('ignore')"
   ]
  },
  {
   "cell_type": "code",
   "execution_count": 2,
   "id": "1df63ecc",
   "metadata": {
    "execution": {
     "iopub.execute_input": "2022-07-05T17:19:47.315985Z",
     "iopub.status.busy": "2022-07-05T17:19:47.315417Z",
     "iopub.status.idle": "2022-07-05T17:19:47.343534Z",
     "shell.execute_reply": "2022-07-05T17:19:47.343073Z"
    },
    "papermill": {
     "duration": 0.05659,
     "end_time": "2022-07-05T17:19:47.343663",
     "exception": false,
     "start_time": "2022-07-05T17:19:47.287073",
     "status": "completed"
    },
    "tags": []
   },
   "outputs": [
    {
     "data": {
      "text/plain": [
       "(191, 3)"
      ]
     },
     "execution_count": 2,
     "metadata": {},
     "output_type": "execute_result"
    }
   ],
   "source": [
    "new_data=pd.read_csv(\"../input/csvvvv/Classeur 1 (5).csv\")\n",
    "new_data.drop([\"Y\",\"Word Count\",\"Language\",' '], axis=1, inplace=True)\n",
    "new_data.columns = [\"text\", \"CEFR Review\",\"CEFR Level_Samar\"]\n",
    "new_data.shape"
   ]
  },
  {
   "cell_type": "code",
   "execution_count": 3,
   "id": "d9e02888",
   "metadata": {
    "execution": {
     "iopub.execute_input": "2022-07-05T17:19:47.398717Z",
     "iopub.status.busy": "2022-07-05T17:19:47.398125Z",
     "iopub.status.idle": "2022-07-05T17:19:47.407397Z",
     "shell.execute_reply": "2022-07-05T17:19:47.406993Z"
    },
    "papermill": {
     "duration": 0.03786,
     "end_time": "2022-07-05T17:19:47.407502",
     "exception": false,
     "start_time": "2022-07-05T17:19:47.369642",
     "status": "completed"
    },
    "tags": []
   },
   "outputs": [
    {
     "data": {
      "text/html": [
       "<div>\n",
       "<style scoped>\n",
       "    .dataframe tbody tr th:only-of-type {\n",
       "        vertical-align: middle;\n",
       "    }\n",
       "\n",
       "    .dataframe tbody tr th {\n",
       "        vertical-align: top;\n",
       "    }\n",
       "\n",
       "    .dataframe thead th {\n",
       "        text-align: right;\n",
       "    }\n",
       "</style>\n",
       "<table border=\"1\" class=\"dataframe\">\n",
       "  <thead>\n",
       "    <tr style=\"text-align: right;\">\n",
       "      <th></th>\n",
       "      <th>text</th>\n",
       "      <th>CEFR Review</th>\n",
       "      <th>CEFR Level_Samar</th>\n",
       "    </tr>\n",
       "  </thead>\n",
       "  <tbody>\n",
       "    <tr>\n",
       "      <th>0</th>\n",
       "      <td>En 1815, M. Charles-François-Bienvenu Myriel é...</td>\n",
       "      <td>A2</td>\n",
       "      <td>C1</td>\n",
       "    </tr>\n",
       "    <tr>\n",
       "      <th>1</th>\n",
       "      <td>Quoique ce détail ne touche en aucune manière ...</td>\n",
       "      <td>C1</td>\n",
       "      <td>C2</td>\n",
       "    </tr>\n",
       "  </tbody>\n",
       "</table>\n",
       "</div>"
      ],
      "text/plain": [
       "                                                text CEFR Review  \\\n",
       "0  En 1815, M. Charles-François-Bienvenu Myriel é...          A2   \n",
       "1  Quoique ce détail ne touche en aucune manière ...          C1   \n",
       "\n",
       "  CEFR Level_Samar  \n",
       "0               C1  \n",
       "1               C2  "
      ]
     },
     "execution_count": 3,
     "metadata": {},
     "output_type": "execute_result"
    }
   ],
   "source": [
    "new_data.head(2)"
   ]
  },
  {
   "cell_type": "markdown",
   "id": "28d09e0d",
   "metadata": {
    "papermill": {
     "duration": 0.024293,
     "end_time": "2022-07-05T17:19:47.457284",
     "exception": false,
     "start_time": "2022-07-05T17:19:47.432991",
     "status": "completed"
    },
    "tags": []
   },
   "source": [
    "**extract samar dataset**"
   ]
  },
  {
   "cell_type": "code",
   "execution_count": 4,
   "id": "395b2b95",
   "metadata": {
    "execution": {
     "iopub.execute_input": "2022-07-05T17:19:47.515438Z",
     "iopub.status.busy": "2022-07-05T17:19:47.514437Z",
     "iopub.status.idle": "2022-07-05T17:19:47.525587Z",
     "shell.execute_reply": "2022-07-05T17:19:47.526842Z"
    },
    "papermill": {
     "duration": 0.044919,
     "end_time": "2022-07-05T17:19:47.526968",
     "exception": false,
     "start_time": "2022-07-05T17:19:47.482049",
     "status": "completed"
    },
    "tags": []
   },
   "outputs": [
    {
     "data": {
      "text/html": [
       "<div>\n",
       "<style scoped>\n",
       "    .dataframe tbody tr th:only-of-type {\n",
       "        vertical-align: middle;\n",
       "    }\n",
       "\n",
       "    .dataframe tbody tr th {\n",
       "        vertical-align: top;\n",
       "    }\n",
       "\n",
       "    .dataframe thead th {\n",
       "        text-align: right;\n",
       "    }\n",
       "</style>\n",
       "<table border=\"1\" class=\"dataframe\">\n",
       "  <thead>\n",
       "    <tr style=\"text-align: right;\">\n",
       "      <th></th>\n",
       "      <th>text</th>\n",
       "      <th>label</th>\n",
       "    </tr>\n",
       "  </thead>\n",
       "  <tbody>\n",
       "    <tr>\n",
       "      <th>0</th>\n",
       "      <td>En 1815, M. Charles-François-Bienvenu Myriel é...</td>\n",
       "      <td>C1</td>\n",
       "    </tr>\n",
       "    <tr>\n",
       "      <th>1</th>\n",
       "      <td>Quoique ce détail ne touche en aucune manière ...</td>\n",
       "      <td>C2</td>\n",
       "    </tr>\n",
       "    <tr>\n",
       "      <th>2</th>\n",
       "      <td>En 1804, M. Myriel était curé de Brignolles. I...</td>\n",
       "      <td>C1</td>\n",
       "    </tr>\n",
       "    <tr>\n",
       "      <th>3</th>\n",
       "      <td>Vers l'époque du couronnement, une petite affa...</td>\n",
       "      <td>C2</td>\n",
       "    </tr>\n",
       "    <tr>\n",
       "      <th>4</th>\n",
       "      <td>—Quel est ce bonhomme qui me regarde?</td>\n",
       "      <td>C1</td>\n",
       "    </tr>\n",
       "  </tbody>\n",
       "</table>\n",
       "</div>"
      ],
      "text/plain": [
       "                                                text label\n",
       "0  En 1815, M. Charles-François-Bienvenu Myriel é...    C1\n",
       "1  Quoique ce détail ne touche en aucune manière ...    C2\n",
       "2  En 1804, M. Myriel était curé de Brignolles. I...    C1\n",
       "3  Vers l'époque du couronnement, une petite affa...    C2\n",
       "4              —Quel est ce bonhomme qui me regarde?    C1"
      ]
     },
     "execution_count": 4,
     "metadata": {},
     "output_type": "execute_result"
    }
   ],
   "source": [
    "mike_20_june_samar=new_data[pd.notnull(new_data['CEFR Level_Samar'])]\n",
    "mike_20_june_samar.columns = [\"text\", \"CEFR Review\",\"label\"]\n",
    "mike_20_june_samar.drop([\"CEFR Review\"],axis=1, inplace=True)\n",
    "mike_20_june_samar.to_csv(\"mike_20_june_samar.csv\" , index=False)\n",
    "mike_20_june_samar.head()"
   ]
  },
  {
   "cell_type": "markdown",
   "id": "56853f08",
   "metadata": {
    "papermill": {
     "duration": 0.024984,
     "end_time": "2022-07-05T17:19:47.577847",
     "exception": false,
     "start_time": "2022-07-05T17:19:47.552863",
     "status": "completed"
    },
    "tags": []
   },
   "source": [
    "**extract mike_new dataset**"
   ]
  },
  {
   "cell_type": "code",
   "execution_count": 5,
   "id": "46c96ba2",
   "metadata": {
    "execution": {
     "iopub.execute_input": "2022-07-05T17:19:47.639349Z",
     "iopub.status.busy": "2022-07-05T17:19:47.635762Z",
     "iopub.status.idle": "2022-07-05T17:19:47.648090Z",
     "shell.execute_reply": "2022-07-05T17:19:47.647568Z"
    },
    "papermill": {
     "duration": 0.044238,
     "end_time": "2022-07-05T17:19:47.648261",
     "exception": false,
     "start_time": "2022-07-05T17:19:47.604023",
     "status": "completed"
    },
    "tags": []
   },
   "outputs": [
    {
     "data": {
      "text/html": [
       "<div>\n",
       "<style scoped>\n",
       "    .dataframe tbody tr th:only-of-type {\n",
       "        vertical-align: middle;\n",
       "    }\n",
       "\n",
       "    .dataframe tbody tr th {\n",
       "        vertical-align: top;\n",
       "    }\n",
       "\n",
       "    .dataframe thead th {\n",
       "        text-align: right;\n",
       "    }\n",
       "</style>\n",
       "<table border=\"1\" class=\"dataframe\">\n",
       "  <thead>\n",
       "    <tr style=\"text-align: right;\">\n",
       "      <th></th>\n",
       "      <th>text</th>\n",
       "      <th>label</th>\n",
       "    </tr>\n",
       "  </thead>\n",
       "  <tbody>\n",
       "    <tr>\n",
       "      <th>0</th>\n",
       "      <td>En 1815, M. Charles-François-Bienvenu Myriel é...</td>\n",
       "      <td>A2</td>\n",
       "    </tr>\n",
       "    <tr>\n",
       "      <th>1</th>\n",
       "      <td>Quoique ce détail ne touche en aucune manière ...</td>\n",
       "      <td>C1</td>\n",
       "    </tr>\n",
       "    <tr>\n",
       "      <th>2</th>\n",
       "      <td>En 1804, M. Myriel était curé de Brignolles. I...</td>\n",
       "      <td>A2</td>\n",
       "    </tr>\n",
       "    <tr>\n",
       "      <th>3</th>\n",
       "      <td>Vers l'époque du couronnement, une petite affa...</td>\n",
       "      <td>B2</td>\n",
       "    </tr>\n",
       "    <tr>\n",
       "      <th>4</th>\n",
       "      <td>—Quel est ce bonhomme qui me regarde?</td>\n",
       "      <td>A2</td>\n",
       "    </tr>\n",
       "  </tbody>\n",
       "</table>\n",
       "</div>"
      ],
      "text/plain": [
       "                                                text label\n",
       "0  En 1815, M. Charles-François-Bienvenu Myriel é...    A2\n",
       "1  Quoique ce détail ne touche en aucune manière ...    C1\n",
       "2  En 1804, M. Myriel était curé de Brignolles. I...    A2\n",
       "3  Vers l'époque du couronnement, une petite affa...    B2\n",
       "4              —Quel est ce bonhomme qui me regarde?    A2"
      ]
     },
     "execution_count": 5,
     "metadata": {},
     "output_type": "execute_result"
    }
   ],
   "source": [
    "mike_20_june_new=new_data[pd.notnull(new_data['CEFR Review'])]\n",
    "mike_20_june_new.columns = [\"text\", \"label\",\"CEFR Level_Samar\"]\n",
    "mike_20_june_new.drop([\"CEFR Level_Samar\"],axis=1, inplace=True)\n",
    "mike_20_june_new.to_csv(\"mike_20_june_new.csv\" , index=False)\n",
    "mike_20_june_new.head() "
   ]
  },
  {
   "cell_type": "markdown",
   "id": "fe8e9cd6",
   "metadata": {
    "papermill": {
     "duration": 0.026652,
     "end_time": "2022-07-05T17:19:47.701386",
     "exception": false,
     "start_time": "2022-07-05T17:19:47.674734",
     "status": "completed"
    },
    "tags": []
   },
   "source": [
    "**General insights about samar and mike_new datasets**"
   ]
  },
  {
   "cell_type": "code",
   "execution_count": 6,
   "id": "204b2fa5",
   "metadata": {
    "execution": {
     "iopub.execute_input": "2022-07-05T17:19:47.761283Z",
     "iopub.status.busy": "2022-07-05T17:19:47.760421Z",
     "iopub.status.idle": "2022-07-05T17:19:47.764801Z",
     "shell.execute_reply": "2022-07-05T17:19:47.765226Z"
    },
    "papermill": {
     "duration": 0.036999,
     "end_time": "2022-07-05T17:19:47.765366",
     "exception": false,
     "start_time": "2022-07-05T17:19:47.728367",
     "status": "completed"
    },
    "tags": []
   },
   "outputs": [
    {
     "data": {
      "text/plain": [
       "(array(['C1', 'C2'], dtype=object),\n",
       " array(['A2', 'C1', 'B2', 'A1', 'B1', 'C2'], dtype=object))"
      ]
     },
     "execution_count": 6,
     "metadata": {},
     "output_type": "execute_result"
    }
   ],
   "source": [
    "mike_20_june_samar[\"label\"].unique(), mike_20_june_new[\"label\"].unique()"
   ]
  },
  {
   "cell_type": "markdown",
   "id": "7d4f667e",
   "metadata": {
    "papermill": {
     "duration": 0.026502,
     "end_time": "2022-07-05T17:19:47.819138",
     "exception": false,
     "start_time": "2022-07-05T17:19:47.792636",
     "status": "completed"
    },
    "tags": []
   },
   "source": [
    "****!!!! samar annotation seems to be weird because there is just C1 and C2****"
   ]
  },
  {
   "cell_type": "code",
   "execution_count": 7,
   "id": "958cb004",
   "metadata": {
    "execution": {
     "iopub.execute_input": "2022-07-05T17:19:47.880326Z",
     "iopub.status.busy": "2022-07-05T17:19:47.876581Z",
     "iopub.status.idle": "2022-07-05T17:19:47.884666Z",
     "shell.execute_reply": "2022-07-05T17:19:47.884171Z"
    },
    "papermill": {
     "duration": 0.038922,
     "end_time": "2022-07-05T17:19:47.884781",
     "exception": false,
     "start_time": "2022-07-05T17:19:47.845859",
     "status": "completed"
    },
    "tags": []
   },
   "outputs": [
    {
     "data": {
      "text/plain": [
       "C1    58\n",
       "A1    41\n",
       "B2    33\n",
       "B1    29\n",
       "A2    24\n",
       "C2     6\n",
       "Name: label, dtype: int64"
      ]
     },
     "execution_count": 7,
     "metadata": {},
     "output_type": "execute_result"
    }
   ],
   "source": [
    "mike_20_june_new.label.value_counts()"
   ]
  },
  {
   "cell_type": "code",
   "execution_count": 8,
   "id": "d3bbf797",
   "metadata": {
    "execution": {
     "iopub.execute_input": "2022-07-05T17:19:47.945441Z",
     "iopub.status.busy": "2022-07-05T17:19:47.944840Z",
     "iopub.status.idle": "2022-07-05T17:19:47.947421Z",
     "shell.execute_reply": "2022-07-05T17:19:47.947890Z"
    },
    "papermill": {
     "duration": 0.035816,
     "end_time": "2022-07-05T17:19:47.948059",
     "exception": false,
     "start_time": "2022-07-05T17:19:47.912243",
     "status": "completed"
    },
    "tags": []
   },
   "outputs": [
    {
     "data": {
      "text/plain": [
       "((141, 2), (191, 2))"
      ]
     },
     "execution_count": 8,
     "metadata": {},
     "output_type": "execute_result"
    }
   ],
   "source": [
    "mike_20_june_samar.shape,mike_20_june_new.shape"
   ]
  },
  {
   "cell_type": "code",
   "execution_count": 9,
   "id": "03a7afb1",
   "metadata": {
    "execution": {
     "iopub.execute_input": "2022-07-05T17:19:48.008296Z",
     "iopub.status.busy": "2022-07-05T17:19:48.007739Z",
     "iopub.status.idle": "2022-07-05T17:19:48.029452Z",
     "shell.execute_reply": "2022-07-05T17:19:48.028991Z"
    },
    "papermill": {
     "duration": 0.053943,
     "end_time": "2022-07-05T17:19:48.029582",
     "exception": false,
     "start_time": "2022-07-05T17:19:47.975639",
     "status": "completed"
    },
    "tags": []
   },
   "outputs": [
    {
     "data": {
      "text/html": [
       "<div>\n",
       "<style scoped>\n",
       "    .dataframe tbody tr th:only-of-type {\n",
       "        vertical-align: middle;\n",
       "    }\n",
       "\n",
       "    .dataframe tbody tr th {\n",
       "        vertical-align: top;\n",
       "    }\n",
       "\n",
       "    .dataframe thead th {\n",
       "        text-align: right;\n",
       "    }\n",
       "</style>\n",
       "<table border=\"1\" class=\"dataframe\">\n",
       "  <thead>\n",
       "    <tr style=\"text-align: right;\">\n",
       "      <th></th>\n",
       "      <th>text</th>\n",
       "      <th>len</th>\n",
       "      <th>lang</th>\n",
       "      <th>label</th>\n",
       "    </tr>\n",
       "  </thead>\n",
       "  <tbody>\n",
       "    <tr>\n",
       "      <th>0</th>\n",
       "      <td>Il était une fois un prince qui voulait épouse...</td>\n",
       "      <td>15</td>\n",
       "      <td>FR</td>\n",
       "      <td>A2</td>\n",
       "    </tr>\n",
       "    <tr>\n",
       "      <th>1</th>\n",
       "      <td>Il fit le tour de la Terre pour en trouver une...</td>\n",
       "      <td>62</td>\n",
       "      <td>FR</td>\n",
       "      <td>B1</td>\n",
       "    </tr>\n",
       "    <tr>\n",
       "      <th>2</th>\n",
       "      <td>Un soir, par un temps affreux, éclairs et tonn...</td>\n",
       "      <td>31</td>\n",
       "      <td>FR</td>\n",
       "      <td>B1</td>\n",
       "    </tr>\n",
       "    <tr>\n",
       "      <th>3</th>\n",
       "      <td>C'était une princesse qui était là, dehors. M...</td>\n",
       "      <td>51</td>\n",
       "      <td>FR</td>\n",
       "      <td>A2</td>\n",
       "    </tr>\n",
       "    <tr>\n",
       "      <th>4</th>\n",
       "      <td>« Nous allons bien voir ça », pensait la vieil...</td>\n",
       "      <td>76</td>\n",
       "      <td>FR</td>\n",
       "      <td>B1</td>\n",
       "    </tr>\n",
       "  </tbody>\n",
       "</table>\n",
       "</div>"
      ],
      "text/plain": [
       "                                                text  len lang label\n",
       "0  Il était une fois un prince qui voulait épouse...   15   FR    A2\n",
       "1  Il fit le tour de la Terre pour en trouver une...   62   FR    B1\n",
       "2  Un soir, par un temps affreux, éclairs et tonn...   31   FR    B1\n",
       "3   C'était une princesse qui était là, dehors. M...   51   FR    A2\n",
       "4  « Nous allons bien voir ça », pensait la vieil...   76   FR    B1"
      ]
     },
     "execution_count": 9,
     "metadata": {},
     "output_type": "execute_result"
    }
   ],
   "source": [
    "trainn=pd.read_csv(\"../input/frenchcefr/french dataset.csv\")\n",
    "trainn = trainn[trainn.label != \"XX\"]\n",
    "trainn.head()"
   ]
  },
  {
   "cell_type": "code",
   "execution_count": 10,
   "id": "160b68e6",
   "metadata": {
    "execution": {
     "iopub.execute_input": "2022-07-05T17:19:48.088970Z",
     "iopub.status.busy": "2022-07-05T17:19:48.088197Z",
     "iopub.status.idle": "2022-07-05T17:19:48.104768Z",
     "shell.execute_reply": "2022-07-05T17:19:48.104320Z"
    },
    "papermill": {
     "duration": 0.046554,
     "end_time": "2022-07-05T17:19:48.104880",
     "exception": false,
     "start_time": "2022-07-05T17:19:48.058326",
     "status": "completed"
    },
    "tags": []
   },
   "outputs": [],
   "source": [
    "lingua_fr=pd.read_csv(\"../input/lingua/fr_lingua.csv\")"
   ]
  },
  {
   "cell_type": "markdown",
   "id": "1381fe24",
   "metadata": {
    "papermill": {
     "duration": 0.027321,
     "end_time": "2022-07-05T17:19:48.160890",
     "exception": false,
     "start_time": "2022-07-05T17:19:48.133569",
     "status": "completed"
    },
    "tags": []
   },
   "source": [
    "**tfidf of the train_data**"
   ]
  },
  {
   "cell_type": "code",
   "execution_count": 11,
   "id": "b3b6a503",
   "metadata": {
    "_kg_hide-output": true,
    "execution": {
     "iopub.execute_input": "2022-07-05T17:19:48.222035Z",
     "iopub.status.busy": "2022-07-05T17:19:48.221405Z",
     "iopub.status.idle": "2022-07-05T17:19:48.291876Z",
     "shell.execute_reply": "2022-07-05T17:19:48.292296Z"
    },
    "papermill": {
     "duration": 0.103891,
     "end_time": "2022-07-05T17:19:48.292432",
     "exception": false,
     "start_time": "2022-07-05T17:19:48.188541",
     "status": "completed"
    },
    "tags": []
   },
   "outputs": [
    {
     "data": {
      "text/html": [
       "<div>\n",
       "<style scoped>\n",
       "    .dataframe tbody tr th:only-of-type {\n",
       "        vertical-align: middle;\n",
       "    }\n",
       "\n",
       "    .dataframe tbody tr th {\n",
       "        vertical-align: top;\n",
       "    }\n",
       "\n",
       "    .dataframe thead th {\n",
       "        text-align: right;\n",
       "    }\n",
       "</style>\n",
       "<table border=\"1\" class=\"dataframe\">\n",
       "  <thead>\n",
       "    <tr style=\"text-align: right;\">\n",
       "      <th></th>\n",
       "      <th>1712</th>\n",
       "      <th>1714</th>\n",
       "      <th>1804</th>\n",
       "      <th>1806</th>\n",
       "      <th>1812</th>\n",
       "      <th>1815</th>\n",
       "      <th>29</th>\n",
       "      <th>93</th>\n",
       "      <th>abandonné</th>\n",
       "      <th>abbé</th>\n",
       "      <th>...</th>\n",
       "      <th>évidemment</th>\n",
       "      <th>évincer</th>\n",
       "      <th>événements</th>\n",
       "      <th>évêché</th>\n",
       "      <th>évêque</th>\n",
       "      <th>évêques</th>\n",
       "      <th>êtes</th>\n",
       "      <th>être</th>\n",
       "      <th>œil</th>\n",
       "      <th>œuvre</th>\n",
       "    </tr>\n",
       "  </thead>\n",
       "  <tbody>\n",
       "    <tr>\n",
       "      <th>0</th>\n",
       "      <td>0.0</td>\n",
       "      <td>0.0</td>\n",
       "      <td>0.000000</td>\n",
       "      <td>0.27438</td>\n",
       "      <td>0.0</td>\n",
       "      <td>0.27438</td>\n",
       "      <td>0.0</td>\n",
       "      <td>0.00000</td>\n",
       "      <td>0.0</td>\n",
       "      <td>0.0</td>\n",
       "      <td>...</td>\n",
       "      <td>0.0</td>\n",
       "      <td>0.0</td>\n",
       "      <td>0.00000</td>\n",
       "      <td>0.0</td>\n",
       "      <td>0.151848</td>\n",
       "      <td>0.0</td>\n",
       "      <td>0.0</td>\n",
       "      <td>0.000000</td>\n",
       "      <td>0.0</td>\n",
       "      <td>0.0</td>\n",
       "    </tr>\n",
       "    <tr>\n",
       "      <th>1</th>\n",
       "      <td>0.0</td>\n",
       "      <td>0.0</td>\n",
       "      <td>0.000000</td>\n",
       "      <td>0.00000</td>\n",
       "      <td>0.0</td>\n",
       "      <td>0.00000</td>\n",
       "      <td>0.0</td>\n",
       "      <td>0.05761</td>\n",
       "      <td>0.0</td>\n",
       "      <td>0.0</td>\n",
       "      <td>...</td>\n",
       "      <td>0.0</td>\n",
       "      <td>0.0</td>\n",
       "      <td>0.05761</td>\n",
       "      <td>0.0</td>\n",
       "      <td>0.000000</td>\n",
       "      <td>0.0</td>\n",
       "      <td>0.0</td>\n",
       "      <td>0.117177</td>\n",
       "      <td>0.0</td>\n",
       "      <td>0.0</td>\n",
       "    </tr>\n",
       "    <tr>\n",
       "      <th>2</th>\n",
       "      <td>0.0</td>\n",
       "      <td>0.0</td>\n",
       "      <td>0.337499</td>\n",
       "      <td>0.00000</td>\n",
       "      <td>0.0</td>\n",
       "      <td>0.00000</td>\n",
       "      <td>0.0</td>\n",
       "      <td>0.00000</td>\n",
       "      <td>0.0</td>\n",
       "      <td>0.0</td>\n",
       "      <td>...</td>\n",
       "      <td>0.0</td>\n",
       "      <td>0.0</td>\n",
       "      <td>0.00000</td>\n",
       "      <td>0.0</td>\n",
       "      <td>0.000000</td>\n",
       "      <td>0.0</td>\n",
       "      <td>0.0</td>\n",
       "      <td>0.000000</td>\n",
       "      <td>0.0</td>\n",
       "      <td>0.0</td>\n",
       "    </tr>\n",
       "    <tr>\n",
       "      <th>3</th>\n",
       "      <td>0.0</td>\n",
       "      <td>0.0</td>\n",
       "      <td>0.000000</td>\n",
       "      <td>0.00000</td>\n",
       "      <td>0.0</td>\n",
       "      <td>0.00000</td>\n",
       "      <td>0.0</td>\n",
       "      <td>0.00000</td>\n",
       "      <td>0.0</td>\n",
       "      <td>0.0</td>\n",
       "      <td>...</td>\n",
       "      <td>0.0</td>\n",
       "      <td>0.0</td>\n",
       "      <td>0.00000</td>\n",
       "      <td>0.0</td>\n",
       "      <td>0.000000</td>\n",
       "      <td>0.0</td>\n",
       "      <td>0.0</td>\n",
       "      <td>0.000000</td>\n",
       "      <td>0.0</td>\n",
       "      <td>0.0</td>\n",
       "    </tr>\n",
       "    <tr>\n",
       "      <th>4</th>\n",
       "      <td>0.0</td>\n",
       "      <td>0.0</td>\n",
       "      <td>0.000000</td>\n",
       "      <td>0.00000</td>\n",
       "      <td>0.0</td>\n",
       "      <td>0.00000</td>\n",
       "      <td>0.0</td>\n",
       "      <td>0.00000</td>\n",
       "      <td>0.0</td>\n",
       "      <td>0.0</td>\n",
       "      <td>...</td>\n",
       "      <td>0.0</td>\n",
       "      <td>0.0</td>\n",
       "      <td>0.00000</td>\n",
       "      <td>0.0</td>\n",
       "      <td>0.000000</td>\n",
       "      <td>0.0</td>\n",
       "      <td>0.0</td>\n",
       "      <td>0.000000</td>\n",
       "      <td>0.0</td>\n",
       "      <td>0.0</td>\n",
       "    </tr>\n",
       "    <tr>\n",
       "      <th>...</th>\n",
       "      <td>...</td>\n",
       "      <td>...</td>\n",
       "      <td>...</td>\n",
       "      <td>...</td>\n",
       "      <td>...</td>\n",
       "      <td>...</td>\n",
       "      <td>...</td>\n",
       "      <td>...</td>\n",
       "      <td>...</td>\n",
       "      <td>...</td>\n",
       "      <td>...</td>\n",
       "      <td>...</td>\n",
       "      <td>...</td>\n",
       "      <td>...</td>\n",
       "      <td>...</td>\n",
       "      <td>...</td>\n",
       "      <td>...</td>\n",
       "      <td>...</td>\n",
       "      <td>...</td>\n",
       "      <td>...</td>\n",
       "      <td>...</td>\n",
       "    </tr>\n",
       "    <tr>\n",
       "      <th>186</th>\n",
       "      <td>0.0</td>\n",
       "      <td>0.0</td>\n",
       "      <td>0.000000</td>\n",
       "      <td>0.00000</td>\n",
       "      <td>0.0</td>\n",
       "      <td>0.00000</td>\n",
       "      <td>0.0</td>\n",
       "      <td>0.00000</td>\n",
       "      <td>0.0</td>\n",
       "      <td>0.0</td>\n",
       "      <td>...</td>\n",
       "      <td>0.0</td>\n",
       "      <td>0.0</td>\n",
       "      <td>0.00000</td>\n",
       "      <td>0.0</td>\n",
       "      <td>0.000000</td>\n",
       "      <td>0.0</td>\n",
       "      <td>0.0</td>\n",
       "      <td>0.000000</td>\n",
       "      <td>0.0</td>\n",
       "      <td>0.0</td>\n",
       "    </tr>\n",
       "    <tr>\n",
       "      <th>187</th>\n",
       "      <td>0.0</td>\n",
       "      <td>0.0</td>\n",
       "      <td>0.000000</td>\n",
       "      <td>0.00000</td>\n",
       "      <td>0.0</td>\n",
       "      <td>0.00000</td>\n",
       "      <td>0.0</td>\n",
       "      <td>0.00000</td>\n",
       "      <td>0.0</td>\n",
       "      <td>0.0</td>\n",
       "      <td>...</td>\n",
       "      <td>0.0</td>\n",
       "      <td>0.0</td>\n",
       "      <td>0.00000</td>\n",
       "      <td>0.0</td>\n",
       "      <td>0.000000</td>\n",
       "      <td>0.0</td>\n",
       "      <td>0.0</td>\n",
       "      <td>0.000000</td>\n",
       "      <td>0.0</td>\n",
       "      <td>0.0</td>\n",
       "    </tr>\n",
       "    <tr>\n",
       "      <th>188</th>\n",
       "      <td>0.0</td>\n",
       "      <td>0.0</td>\n",
       "      <td>0.000000</td>\n",
       "      <td>0.00000</td>\n",
       "      <td>0.0</td>\n",
       "      <td>0.00000</td>\n",
       "      <td>0.0</td>\n",
       "      <td>0.00000</td>\n",
       "      <td>0.0</td>\n",
       "      <td>0.0</td>\n",
       "      <td>...</td>\n",
       "      <td>0.0</td>\n",
       "      <td>0.0</td>\n",
       "      <td>0.00000</td>\n",
       "      <td>0.0</td>\n",
       "      <td>0.000000</td>\n",
       "      <td>0.0</td>\n",
       "      <td>0.0</td>\n",
       "      <td>0.000000</td>\n",
       "      <td>0.0</td>\n",
       "      <td>0.0</td>\n",
       "    </tr>\n",
       "    <tr>\n",
       "      <th>189</th>\n",
       "      <td>0.0</td>\n",
       "      <td>0.0</td>\n",
       "      <td>0.000000</td>\n",
       "      <td>0.00000</td>\n",
       "      <td>0.0</td>\n",
       "      <td>0.00000</td>\n",
       "      <td>0.0</td>\n",
       "      <td>0.00000</td>\n",
       "      <td>0.0</td>\n",
       "      <td>0.0</td>\n",
       "      <td>...</td>\n",
       "      <td>0.0</td>\n",
       "      <td>0.0</td>\n",
       "      <td>0.00000</td>\n",
       "      <td>0.0</td>\n",
       "      <td>0.000000</td>\n",
       "      <td>0.0</td>\n",
       "      <td>0.0</td>\n",
       "      <td>0.000000</td>\n",
       "      <td>0.0</td>\n",
       "      <td>0.0</td>\n",
       "    </tr>\n",
       "    <tr>\n",
       "      <th>190</th>\n",
       "      <td>0.0</td>\n",
       "      <td>0.0</td>\n",
       "      <td>0.000000</td>\n",
       "      <td>0.00000</td>\n",
       "      <td>0.0</td>\n",
       "      <td>0.00000</td>\n",
       "      <td>0.0</td>\n",
       "      <td>0.00000</td>\n",
       "      <td>0.0</td>\n",
       "      <td>0.0</td>\n",
       "      <td>...</td>\n",
       "      <td>0.0</td>\n",
       "      <td>0.0</td>\n",
       "      <td>0.00000</td>\n",
       "      <td>0.0</td>\n",
       "      <td>0.000000</td>\n",
       "      <td>0.0</td>\n",
       "      <td>0.0</td>\n",
       "      <td>0.000000</td>\n",
       "      <td>0.0</td>\n",
       "      <td>0.0</td>\n",
       "    </tr>\n",
       "  </tbody>\n",
       "</table>\n",
       "<p>191 rows × 2400 columns</p>\n",
       "</div>"
      ],
      "text/plain": [
       "     1712  1714      1804     1806  1812     1815   29       93  abandonné  \\\n",
       "0     0.0   0.0  0.000000  0.27438   0.0  0.27438  0.0  0.00000        0.0   \n",
       "1     0.0   0.0  0.000000  0.00000   0.0  0.00000  0.0  0.05761        0.0   \n",
       "2     0.0   0.0  0.337499  0.00000   0.0  0.00000  0.0  0.00000        0.0   \n",
       "3     0.0   0.0  0.000000  0.00000   0.0  0.00000  0.0  0.00000        0.0   \n",
       "4     0.0   0.0  0.000000  0.00000   0.0  0.00000  0.0  0.00000        0.0   \n",
       "..    ...   ...       ...      ...   ...      ...  ...      ...        ...   \n",
       "186   0.0   0.0  0.000000  0.00000   0.0  0.00000  0.0  0.00000        0.0   \n",
       "187   0.0   0.0  0.000000  0.00000   0.0  0.00000  0.0  0.00000        0.0   \n",
       "188   0.0   0.0  0.000000  0.00000   0.0  0.00000  0.0  0.00000        0.0   \n",
       "189   0.0   0.0  0.000000  0.00000   0.0  0.00000  0.0  0.00000        0.0   \n",
       "190   0.0   0.0  0.000000  0.00000   0.0  0.00000  0.0  0.00000        0.0   \n",
       "\n",
       "     abbé  ...  évidemment  évincer  événements  évêché    évêque  évêques  \\\n",
       "0     0.0  ...         0.0      0.0     0.00000     0.0  0.151848      0.0   \n",
       "1     0.0  ...         0.0      0.0     0.05761     0.0  0.000000      0.0   \n",
       "2     0.0  ...         0.0      0.0     0.00000     0.0  0.000000      0.0   \n",
       "3     0.0  ...         0.0      0.0     0.00000     0.0  0.000000      0.0   \n",
       "4     0.0  ...         0.0      0.0     0.00000     0.0  0.000000      0.0   \n",
       "..    ...  ...         ...      ...         ...     ...       ...      ...   \n",
       "186   0.0  ...         0.0      0.0     0.00000     0.0  0.000000      0.0   \n",
       "187   0.0  ...         0.0      0.0     0.00000     0.0  0.000000      0.0   \n",
       "188   0.0  ...         0.0      0.0     0.00000     0.0  0.000000      0.0   \n",
       "189   0.0  ...         0.0      0.0     0.00000     0.0  0.000000      0.0   \n",
       "190   0.0  ...         0.0      0.0     0.00000     0.0  0.000000      0.0   \n",
       "\n",
       "     êtes      être  œil  œuvre  \n",
       "0     0.0  0.000000  0.0    0.0  \n",
       "1     0.0  0.117177  0.0    0.0  \n",
       "2     0.0  0.000000  0.0    0.0  \n",
       "3     0.0  0.000000  0.0    0.0  \n",
       "4     0.0  0.000000  0.0    0.0  \n",
       "..    ...       ...  ...    ...  \n",
       "186   0.0  0.000000  0.0    0.0  \n",
       "187   0.0  0.000000  0.0    0.0  \n",
       "188   0.0  0.000000  0.0    0.0  \n",
       "189   0.0  0.000000  0.0    0.0  \n",
       "190   0.0  0.000000  0.0    0.0  \n",
       "\n",
       "[191 rows x 2400 columns]"
      ]
     },
     "execution_count": 11,
     "metadata": {},
     "output_type": "execute_result"
    }
   ],
   "source": [
    "from sklearn.feature_extraction.text import CountVectorizer, TfidfVectorizer\n",
    "vectorizer = TfidfVectorizer(max_features=2400)\n",
    "tfidf_data = vectorizer.fit_transform(mike_20_june_new[\"text\"]).toarray()\n",
    "features = vectorizer.get_feature_names()\n",
    "tfidf_dataa = pd.DataFrame(tfidf_data, columns=features)\n",
    "tfidf_dataa"
   ]
  },
  {
   "cell_type": "markdown",
   "id": "3c88b4a0",
   "metadata": {
    "papermill": {
     "duration": 0.028596,
     "end_time": "2022-07-05T17:19:48.350726",
     "exception": false,
     "start_time": "2022-07-05T17:19:48.322130",
     "status": "completed"
    },
    "tags": []
   },
   "source": [
    "**tfidf of the test data**"
   ]
  },
  {
   "cell_type": "code",
   "execution_count": 12,
   "id": "a8b82945",
   "metadata": {
    "execution": {
     "iopub.execute_input": "2022-07-05T17:19:48.420136Z",
     "iopub.status.busy": "2022-07-05T17:19:48.414568Z",
     "iopub.status.idle": "2022-07-05T17:19:48.444863Z",
     "shell.execute_reply": "2022-07-05T17:19:48.444346Z"
    },
    "papermill": {
     "duration": 0.066125,
     "end_time": "2022-07-05T17:19:48.444983",
     "exception": false,
     "start_time": "2022-07-05T17:19:48.378858",
     "status": "completed"
    },
    "tags": []
   },
   "outputs": [],
   "source": [
    "from sklearn.feature_extraction.text import CountVectorizer, TfidfVectorizer\n",
    "vectorizer = TfidfVectorizer(max_features=2400)\n",
    "tfidf_data = vectorizer.fit_transform(lingua_fr[\"text\"]).toarray()\n",
    "features = vectorizer.get_feature_names()\n",
    "tfidf_lingua_fr = pd.DataFrame(tfidf_data, columns=features)"
   ]
  },
  {
   "cell_type": "code",
   "execution_count": 13,
   "id": "edeaf65c",
   "metadata": {
    "execution": {
     "iopub.execute_input": "2022-07-05T17:19:48.507827Z",
     "iopub.status.busy": "2022-07-05T17:19:48.506994Z",
     "iopub.status.idle": "2022-07-05T17:19:48.511673Z",
     "shell.execute_reply": "2022-07-05T17:19:48.511213Z"
    },
    "papermill": {
     "duration": 0.037904,
     "end_time": "2022-07-05T17:19:48.511797",
     "exception": false,
     "start_time": "2022-07-05T17:19:48.473893",
     "status": "completed"
    },
    "tags": []
   },
   "outputs": [
    {
     "data": {
      "text/plain": [
       "array(['A2', 'C1', 'B2', 'A1', 'B1', 'C2'], dtype=object)"
      ]
     },
     "execution_count": 13,
     "metadata": {},
     "output_type": "execute_result"
    }
   ],
   "source": [
    "y=mike_20_june_new[\"label\"]\n",
    "y.unique()"
   ]
  },
  {
   "cell_type": "markdown",
   "id": "87f14ca0",
   "metadata": {
    "papermill": {
     "duration": 0.028872,
     "end_time": "2022-07-05T17:19:48.570171",
     "exception": false,
     "start_time": "2022-07-05T17:19:48.541299",
     "status": "completed"
    },
    "tags": []
   },
   "source": [
    "**encoding y**"
   ]
  },
  {
   "cell_type": "code",
   "execution_count": 14,
   "id": "f0f35cbf",
   "metadata": {
    "execution": {
     "iopub.execute_input": "2022-07-05T17:19:48.633967Z",
     "iopub.status.busy": "2022-07-05T17:19:48.633139Z",
     "iopub.status.idle": "2022-07-05T17:19:48.634970Z",
     "shell.execute_reply": "2022-07-05T17:19:48.635372Z"
    },
    "papermill": {
     "duration": 0.035552,
     "end_time": "2022-07-05T17:19:48.635495",
     "exception": false,
     "start_time": "2022-07-05T17:19:48.599943",
     "status": "completed"
    },
    "tags": []
   },
   "outputs": [],
   "source": [
    "y = le.fit_transform(y)"
   ]
  },
  {
   "cell_type": "code",
   "execution_count": 15,
   "id": "f5d3f7d9",
   "metadata": {
    "execution": {
     "iopub.execute_input": "2022-07-05T17:19:48.698030Z",
     "iopub.status.busy": "2022-07-05T17:19:48.697418Z",
     "iopub.status.idle": "2022-07-05T17:19:48.699930Z",
     "shell.execute_reply": "2022-07-05T17:19:48.700404Z"
    },
    "papermill": {
     "duration": 0.036227,
     "end_time": "2022-07-05T17:19:48.700558",
     "exception": false,
     "start_time": "2022-07-05T17:19:48.664331",
     "status": "completed"
    },
    "tags": []
   },
   "outputs": [
    {
     "data": {
      "text/plain": [
       "array([0, 1, 2, 3, 4, 5])"
      ]
     },
     "execution_count": 15,
     "metadata": {},
     "output_type": "execute_result"
    }
   ],
   "source": [
    "np.unique(y)"
   ]
  },
  {
   "cell_type": "markdown",
   "id": "d0eda6d7",
   "metadata": {
    "papermill": {
     "duration": 0.029939,
     "end_time": "2022-07-05T17:19:48.763444",
     "exception": false,
     "start_time": "2022-07-05T17:19:48.733505",
     "status": "completed"
    },
    "tags": []
   },
   "source": [
    "**split data**"
   ]
  },
  {
   "cell_type": "code",
   "execution_count": 16,
   "id": "be856a4a",
   "metadata": {
    "execution": {
     "iopub.execute_input": "2022-07-05T17:19:48.833305Z",
     "iopub.status.busy": "2022-07-05T17:19:48.832471Z",
     "iopub.status.idle": "2022-07-05T17:19:48.834182Z",
     "shell.execute_reply": "2022-07-05T17:19:48.834698Z"
    },
    "papermill": {
     "duration": 0.041356,
     "end_time": "2022-07-05T17:19:48.834822",
     "exception": false,
     "start_time": "2022-07-05T17:19:48.793466",
     "status": "completed"
    },
    "tags": []
   },
   "outputs": [],
   "source": [
    "xtrain, xtest, ytrain, ytest = train_test_split(tfidf_dataa, y, test_size=0.1, random_state=11)"
   ]
  },
  {
   "cell_type": "markdown",
   "id": "27b31cbc",
   "metadata": {
    "papermill": {
     "duration": 0.029274,
     "end_time": "2022-07-05T17:19:48.893773",
     "exception": false,
     "start_time": "2022-07-05T17:19:48.864499",
     "status": "completed"
    },
    "tags": []
   },
   "source": [
    "****"
   ]
  },
  {
   "cell_type": "markdown",
   "id": "16d40181",
   "metadata": {
    "papermill": {
     "duration": 0.030709,
     "end_time": "2022-07-05T17:19:48.997322",
     "exception": false,
     "start_time": "2022-07-05T17:19:48.966613",
     "status": "completed"
    },
    "tags": []
   },
   "source": [
    "# LGBMClassifier"
   ]
  },
  {
   "cell_type": "code",
   "execution_count": 17,
   "id": "09e43e45",
   "metadata": {
    "execution": {
     "iopub.execute_input": "2022-07-05T17:19:49.062973Z",
     "iopub.status.busy": "2022-07-05T17:19:49.062273Z",
     "iopub.status.idle": "2022-07-05T17:19:51.194929Z",
     "shell.execute_reply": "2022-07-05T17:19:51.194430Z"
    },
    "papermill": {
     "duration": 2.167906,
     "end_time": "2022-07-05T17:19:51.195060",
     "exception": false,
     "start_time": "2022-07-05T17:19:49.027154",
     "status": "completed"
    },
    "tags": []
   },
   "outputs": [
    {
     "data": {
      "text/html": [
       "<style type='text/css'>\n",
       ".datatable table.frame { margin-bottom: 0; }\n",
       ".datatable table.frame thead { border-bottom: none; }\n",
       ".datatable table.frame tr.coltypes td {  color: #FFFFFF;  line-height: 6px;  padding: 0 0.5em;}\n",
       ".datatable .bool    { background: #DDDD99; }\n",
       ".datatable .object  { background: #565656; }\n",
       ".datatable .int     { background: #5D9E5D; }\n",
       ".datatable .float   { background: #4040CC; }\n",
       ".datatable .str     { background: #CC4040; }\n",
       ".datatable .time    { background: #40CC40; }\n",
       ".datatable .row_index {  background: var(--jp-border-color3);  border-right: 1px solid var(--jp-border-color0);  color: var(--jp-ui-font-color3);  font-size: 9px;}\n",
       ".datatable .frame tbody td { text-align: left; }\n",
       ".datatable .frame tr.coltypes .row_index {  background: var(--jp-border-color0);}\n",
       ".datatable th:nth-child(2) { padding-left: 12px; }\n",
       ".datatable .hellipsis {  color: var(--jp-cell-editor-border-color);}\n",
       ".datatable .vellipsis {  background: var(--jp-layout-color0);  color: var(--jp-cell-editor-border-color);}\n",
       ".datatable .na {  color: var(--jp-cell-editor-border-color);  font-size: 80%;}\n",
       ".datatable .sp {  opacity: 0.25;}\n",
       ".datatable .footer { font-size: 9px; }\n",
       ".datatable .frame_dimensions {  background: var(--jp-border-color3);  border-top: 1px solid var(--jp-border-color0);  color: var(--jp-ui-font-color3);  display: inline-block;  opacity: 0.6;  padding: 1px 10px 1px 5px;}\n",
       "</style>\n"
      ],
      "text/plain": [
       "<IPython.core.display.HTML object>"
      ]
     },
     "metadata": {},
     "output_type": "display_data"
    },
    {
     "name": "stdout",
     "output_type": "stream",
     "text": [
      "LightGBM Model accuracy score: 0.5000\n"
     ]
    }
   ],
   "source": [
    "import lightgbm as lgb\n",
    "clf = lgb.LGBMClassifier()\n",
    "clf.fit(xtrain, ytrain)\n",
    "y_pred=clf.predict(xtest)\n",
    "accuracy=accuracy_score(y_pred, ytest)\n",
    "print('LightGBM Model accuracy score: {0:0.4f}'.format(accuracy_score(ytest, y_pred)))"
   ]
  },
  {
   "cell_type": "code",
   "execution_count": 18,
   "id": "f58cfdc2",
   "metadata": {
    "execution": {
     "iopub.execute_input": "2022-07-05T17:19:51.265607Z",
     "iopub.status.busy": "2022-07-05T17:19:51.264931Z",
     "iopub.status.idle": "2022-07-05T17:19:51.267589Z",
     "shell.execute_reply": "2022-07-05T17:19:51.268000Z"
    },
    "papermill": {
     "duration": 0.041537,
     "end_time": "2022-07-05T17:19:51.268125",
     "exception": false,
     "start_time": "2022-07-05T17:19:51.226588",
     "status": "completed"
    },
    "tags": []
   },
   "outputs": [
    {
     "data": {
      "text/plain": [
       "array([0, 1, 2, 3, 4])"
      ]
     },
     "execution_count": 18,
     "metadata": {},
     "output_type": "execute_result"
    }
   ],
   "source": [
    "np.unique(y_pred)"
   ]
  },
  {
   "cell_type": "code",
   "execution_count": 19,
   "id": "15f9362f",
   "metadata": {
    "execution": {
     "iopub.execute_input": "2022-07-05T17:19:51.335638Z",
     "iopub.status.busy": "2022-07-05T17:19:51.333295Z",
     "iopub.status.idle": "2022-07-05T17:19:51.340873Z",
     "shell.execute_reply": "2022-07-05T17:19:51.341290Z"
    },
    "papermill": {
     "duration": 0.042353,
     "end_time": "2022-07-05T17:19:51.341411",
     "exception": false,
     "start_time": "2022-07-05T17:19:51.299058",
     "status": "completed"
    },
    "tags": []
   },
   "outputs": [
    {
     "name": "stdout",
     "output_type": "stream",
     "text": [
      "              precision    recall  f1-score   support\n",
      "\n",
      "           0       0.75      0.60      0.67         5\n",
      "           1       0.40      0.67      0.50         3\n",
      "           2       0.43      0.60      0.50         5\n",
      "           3       0.50      0.25      0.33         4\n",
      "           4       0.50      0.33      0.40         3\n",
      "\n",
      "    accuracy                           0.50        20\n",
      "   macro avg       0.52      0.49      0.48        20\n",
      "weighted avg       0.53      0.50      0.49        20\n",
      "\n"
     ]
    }
   ],
   "source": [
    "from sklearn.metrics import classification_report\n",
    "print(classification_report(ytest, y_pred))"
   ]
  },
  {
   "cell_type": "code",
   "execution_count": 20,
   "id": "74993466",
   "metadata": {
    "execution": {
     "iopub.execute_input": "2022-07-05T17:19:51.408725Z",
     "iopub.status.busy": "2022-07-05T17:19:51.408001Z",
     "iopub.status.idle": "2022-07-05T17:19:51.410356Z",
     "shell.execute_reply": "2022-07-05T17:19:51.409956Z"
    },
    "papermill": {
     "duration": 0.038011,
     "end_time": "2022-07-05T17:19:51.410460",
     "exception": false,
     "start_time": "2022-07-05T17:19:51.372449",
     "status": "completed"
    },
    "tags": []
   },
   "outputs": [],
   "source": [
    "y_true=le.transform(lingua_fr[\"cefr\"])"
   ]
  },
  {
   "cell_type": "code",
   "execution_count": 21,
   "id": "1bb5515f",
   "metadata": {
    "execution": {
     "iopub.execute_input": "2022-07-05T17:19:51.478286Z",
     "iopub.status.busy": "2022-07-05T17:19:51.477628Z",
     "iopub.status.idle": "2022-07-05T17:19:51.480237Z",
     "shell.execute_reply": "2022-07-05T17:19:51.480653Z"
    },
    "papermill": {
     "duration": 0.039013,
     "end_time": "2022-07-05T17:19:51.480784",
     "exception": false,
     "start_time": "2022-07-05T17:19:51.441771",
     "status": "completed"
    },
    "tags": []
   },
   "outputs": [
    {
     "data": {
      "text/plain": [
       "array([0, 1, 2, 3])"
      ]
     },
     "execution_count": 21,
     "metadata": {},
     "output_type": "execute_result"
    }
   ],
   "source": [
    "np.unique(y_true)"
   ]
  },
  {
   "cell_type": "markdown",
   "id": "66e7a666",
   "metadata": {
    "papermill": {
     "duration": 0.031399,
     "end_time": "2022-07-05T17:19:51.544235",
     "exception": false,
     "start_time": "2022-07-05T17:19:51.512836",
     "status": "completed"
    },
    "tags": []
   },
   "source": [
    "**concatenate x train and xtest , ytrain y test and fit the model the whole data**"
   ]
  },
  {
   "cell_type": "code",
   "execution_count": 22,
   "id": "83adabf5",
   "metadata": {
    "execution": {
     "iopub.execute_input": "2022-07-05T17:19:51.613117Z",
     "iopub.status.busy": "2022-07-05T17:19:51.611497Z",
     "iopub.status.idle": "2022-07-05T17:19:51.784319Z",
     "shell.execute_reply": "2022-07-05T17:19:51.783839Z"
    },
    "papermill": {
     "duration": 0.208081,
     "end_time": "2022-07-05T17:19:51.784450",
     "exception": false,
     "start_time": "2022-07-05T17:19:51.576369",
     "status": "completed"
    },
    "tags": []
   },
   "outputs": [
    {
     "data": {
      "text/plain": [
       "LGBMClassifier()"
      ]
     },
     "execution_count": 22,
     "metadata": {},
     "output_type": "execute_result"
    }
   ],
   "source": [
    "x=pd.concat([xtrain, xtest])\n",
    "y_=np.concatenate([ytrain, ytest])\n",
    "clf.fit(x,y_)"
   ]
  },
  {
   "cell_type": "code",
   "execution_count": 23,
   "id": "43750f09",
   "metadata": {
    "execution": {
     "iopub.execute_input": "2022-07-05T17:19:51.859184Z",
     "iopub.status.busy": "2022-07-05T17:19:51.858414Z",
     "iopub.status.idle": "2022-07-05T17:19:51.876464Z",
     "shell.execute_reply": "2022-07-05T17:19:51.877161Z"
    },
    "papermill": {
     "duration": 0.059326,
     "end_time": "2022-07-05T17:19:51.877332",
     "exception": false,
     "start_time": "2022-07-05T17:19:51.818006",
     "status": "completed"
    },
    "tags": []
   },
   "outputs": [],
   "source": [
    "y_pr=clf.predict(tfidf_lingua_fr)"
   ]
  },
  {
   "cell_type": "markdown",
   "id": "ec8406c3",
   "metadata": {
    "papermill": {
     "duration": 0.032581,
     "end_time": "2022-07-05T17:19:51.942786",
     "exception": false,
     "start_time": "2022-07-05T17:19:51.910205",
     "status": "completed"
    },
    "tags": []
   },
   "source": [
    "**how many level the model could predict**"
   ]
  },
  {
   "cell_type": "code",
   "execution_count": 24,
   "id": "ca25e076",
   "metadata": {
    "execution": {
     "iopub.execute_input": "2022-07-05T17:19:52.011342Z",
     "iopub.status.busy": "2022-07-05T17:19:52.010574Z",
     "iopub.status.idle": "2022-07-05T17:19:52.016081Z",
     "shell.execute_reply": "2022-07-05T17:19:52.016662Z"
    },
    "papermill": {
     "duration": 0.041187,
     "end_time": "2022-07-05T17:19:52.016815",
     "exception": false,
     "start_time": "2022-07-05T17:19:51.975628",
     "status": "completed"
    },
    "tags": []
   },
   "outputs": [
    {
     "data": {
      "text/plain": [
       "array([0, 1, 2, 3])"
      ]
     },
     "execution_count": 24,
     "metadata": {},
     "output_type": "execute_result"
    }
   ],
   "source": [
    "np.unique(y_pr)"
   ]
  },
  {
   "cell_type": "markdown",
   "id": "f35f4e96",
   "metadata": {
    "papermill": {
     "duration": 0.032999,
     "end_time": "2022-07-05T17:19:52.082565",
     "exception": false,
     "start_time": "2022-07-05T17:19:52.049566",
     "status": "completed"
    },
    "tags": []
   },
   "source": [
    "**Classification report**"
   ]
  },
  {
   "cell_type": "code",
   "execution_count": 25,
   "id": "a51dfcd0",
   "metadata": {
    "execution": {
     "iopub.execute_input": "2022-07-05T17:19:52.152254Z",
     "iopub.status.busy": "2022-07-05T17:19:52.151422Z",
     "iopub.status.idle": "2022-07-05T17:19:52.158873Z",
     "shell.execute_reply": "2022-07-05T17:19:52.159463Z"
    },
    "papermill": {
     "duration": 0.04415,
     "end_time": "2022-07-05T17:19:52.159647",
     "exception": false,
     "start_time": "2022-07-05T17:19:52.115497",
     "status": "completed"
    },
    "tags": []
   },
   "outputs": [
    {
     "name": "stdout",
     "output_type": "stream",
     "text": [
      "              precision    recall  f1-score   support\n",
      "\n",
      "           0       0.11      0.85      0.20        13\n",
      "           1       0.25      0.04      0.07        26\n",
      "           2       0.67      0.10      0.17        60\n",
      "           3       0.00      0.00      0.00        12\n",
      "\n",
      "    accuracy                           0.16       111\n",
      "   macro avg       0.26      0.25      0.11       111\n",
      "weighted avg       0.43      0.16      0.13       111\n",
      "\n"
     ]
    }
   ],
   "source": [
    "print(classification_report(y_true, y_pr))"
   ]
  },
  {
   "cell_type": "markdown",
   "id": "a99e7792",
   "metadata": {
    "papermill": {
     "duration": 0.033555,
     "end_time": "2022-07-05T17:19:52.227613",
     "exception": false,
     "start_time": "2022-07-05T17:19:52.194058",
     "status": "completed"
    },
    "tags": []
   },
   "source": [
    "****"
   ]
  },
  {
   "cell_type": "markdown",
   "id": "b8757c84",
   "metadata": {
    "papermill": {
     "duration": 0.070889,
     "end_time": "2022-07-05T17:19:52.354141",
     "exception": false,
     "start_time": "2022-07-05T17:19:52.283252",
     "status": "completed"
    },
    "tags": []
   },
   "source": [
    "# LightGBM"
   ]
  },
  {
   "cell_type": "code",
   "execution_count": 26,
   "id": "920f2955",
   "metadata": {
    "execution": {
     "iopub.execute_input": "2022-07-05T17:19:52.488875Z",
     "iopub.status.busy": "2022-07-05T17:19:52.481639Z",
     "iopub.status.idle": "2022-07-05T17:19:52.493411Z",
     "shell.execute_reply": "2022-07-05T17:19:52.494358Z"
    },
    "papermill": {
     "duration": 0.085115,
     "end_time": "2022-07-05T17:19:52.494580",
     "exception": false,
     "start_time": "2022-07-05T17:19:52.409465",
     "status": "completed"
    },
    "tags": []
   },
   "outputs": [],
   "source": [
    "def run_lgb(train_X, train_y, val_X, val_y,x_test) :\n",
    "    params = {\n",
    "        \"objective\":\"multiclass\",\n",
    "        \"num_classes\":\"6\",\n",
    "        \"metric\" : \"multi_error\",\n",
    "        \"boosting_type\": \"gbdt\",\n",
    "        \"num_leaves\" : 10,\n",
    "        \"learning_rate\" : 0.004,\n",
    "        \"bagging_fraction\" : 0.6,\n",
    "        \"feature_fraction\" : 0.6,\n",
    "        \"bagging_frequency\" : 6,\n",
    "        \"bagging_seed\" : 42,\n",
    "        \"verbosity\" : -1,\n",
    "        \"seed\": 42 }\n",
    "    \n",
    "    lgtrain = lgb.Dataset(train_X, label=train_y)\n",
    "    lgval = lgb.Dataset(val_X, label=val_y)\n",
    "    evals_result = {}\n",
    "    model = lgb.train(params, lgtrain, 5000,\n",
    "                      valid_sets=[lgtrain, lgval], \n",
    "                      early_stopping_rounds=100, \n",
    "                      verbose_eval=150, \n",
    "                      evals_result=evals_result)\n",
    "    ypred=model.predict(x_test).argmax(axis=1)\n",
    "    accuracy=accuracy_score(ypred, val_y)\n",
    "    return  accuracy , model, evals_result"
   ]
  },
  {
   "cell_type": "code",
   "execution_count": 27,
   "id": "6363f001",
   "metadata": {
    "execution": {
     "iopub.execute_input": "2022-07-05T17:19:52.611124Z",
     "iopub.status.busy": "2022-07-05T17:19:52.610365Z",
     "iopub.status.idle": "2022-07-05T17:19:53.012484Z",
     "shell.execute_reply": "2022-07-05T17:19:53.013063Z"
    },
    "papermill": {
     "duration": 0.462574,
     "end_time": "2022-07-05T17:19:53.013255",
     "exception": false,
     "start_time": "2022-07-05T17:19:52.550681",
     "status": "completed"
    },
    "tags": []
   },
   "outputs": [
    {
     "name": "stdout",
     "output_type": "stream",
     "text": [
      "[LightGBM] [Warning] Unknown parameter: bagging_frequency\n",
      "Training until validation scores don't improve for 100 rounds\n",
      "[150]\ttraining's multi_error: 0.315789\tvalid_1's multi_error: 0.55\n",
      "Early stopping, best iteration is:\n",
      "[154]\ttraining's multi_error: 0.304094\tvalid_1's multi_error: 0.5\n",
      "LightGBM Training Completed...\n",
      "\n",
      " LightGBM Model accuracy score: 0.5000\n"
     ]
    }
   ],
   "source": [
    "accuracy ,model, evals_result = run_lgb(xtrain, ytrain, xtest, ytest, xtest)\n",
    "print(\"LightGBM Training Completed...\\n\\n\",'LightGBM Model accuracy score: {0:0.4f}'.format(accuracy) )"
   ]
  },
  {
   "cell_type": "markdown",
   "id": "2f102d89",
   "metadata": {
    "papermill": {
     "duration": 0.034204,
     "end_time": "2022-07-05T17:19:53.083267",
     "exception": false,
     "start_time": "2022-07-05T17:19:53.049063",
     "status": "completed"
    },
    "tags": []
   },
   "source": [
    "**how many level the model could predict**"
   ]
  },
  {
   "cell_type": "code",
   "execution_count": 28,
   "id": "504098a5",
   "metadata": {
    "execution": {
     "iopub.execute_input": "2022-07-05T17:19:53.156840Z",
     "iopub.status.busy": "2022-07-05T17:19:53.156050Z",
     "iopub.status.idle": "2022-07-05T17:19:53.174486Z",
     "shell.execute_reply": "2022-07-05T17:19:53.173983Z"
    },
    "papermill": {
     "duration": 0.057309,
     "end_time": "2022-07-05T17:19:53.174632",
     "exception": false,
     "start_time": "2022-07-05T17:19:53.117323",
     "status": "completed"
    },
    "tags": []
   },
   "outputs": [
    {
     "data": {
      "text/plain": [
       "array([0, 1, 2, 3, 4])"
      ]
     },
     "execution_count": 28,
     "metadata": {},
     "output_type": "execute_result"
    }
   ],
   "source": [
    "ypred=model.predict(xtest).argmax(axis=1)\n",
    "np.unique(ypred)"
   ]
  },
  {
   "cell_type": "markdown",
   "id": "aea32b2c",
   "metadata": {
    "papermill": {
     "duration": 0.034841,
     "end_time": "2022-07-05T17:19:53.244157",
     "exception": false,
     "start_time": "2022-07-05T17:19:53.209316",
     "status": "completed"
    },
    "tags": []
   },
   "source": [
    "****"
   ]
  },
  {
   "cell_type": "markdown",
   "id": "c702d256",
   "metadata": {
    "papermill": {
     "duration": 0.035536,
     "end_time": "2022-07-05T17:19:53.316015",
     "exception": false,
     "start_time": "2022-07-05T17:19:53.280479",
     "status": "completed"
    },
    "tags": []
   },
   "source": [
    "# Testing the model on lingua_fr datatset"
   ]
  },
  {
   "cell_type": "code",
   "execution_count": 29,
   "id": "e16d9592",
   "metadata": {
    "execution": {
     "iopub.execute_input": "2022-07-05T17:19:53.392944Z",
     "iopub.status.busy": "2022-07-05T17:19:53.392161Z",
     "iopub.status.idle": "2022-07-05T17:19:53.416041Z",
     "shell.execute_reply": "2022-07-05T17:19:53.415614Z"
    },
    "papermill": {
     "duration": 0.063544,
     "end_time": "2022-07-05T17:19:53.416164",
     "exception": false,
     "start_time": "2022-07-05T17:19:53.352620",
     "status": "completed"
    },
    "tags": []
   },
   "outputs": [
    {
     "data": {
      "text/plain": [
       "array([0, 4])"
      ]
     },
     "execution_count": 29,
     "metadata": {},
     "output_type": "execute_result"
    }
   ],
   "source": [
    "ypr=model.predict(tfidf_lingua_fr).argmax(axis=1)\n",
    "np.unique(ypr)"
   ]
  },
  {
   "cell_type": "code",
   "execution_count": 30,
   "id": "5dcb9e1f",
   "metadata": {
    "execution": {
     "iopub.execute_input": "2022-07-05T17:19:53.490827Z",
     "iopub.status.busy": "2022-07-05T17:19:53.488777Z",
     "iopub.status.idle": "2022-07-05T17:19:53.496367Z",
     "shell.execute_reply": "2022-07-05T17:19:53.497132Z"
    },
    "papermill": {
     "duration": 0.046581,
     "end_time": "2022-07-05T17:19:53.497299",
     "exception": false,
     "start_time": "2022-07-05T17:19:53.450718",
     "status": "completed"
    },
    "tags": []
   },
   "outputs": [
    {
     "name": "stdout",
     "output_type": "stream",
     "text": [
      "              precision    recall  f1-score   support\n",
      "\n",
      "           0       0.12      1.00      0.22        13\n",
      "           1       0.00      0.00      0.00        26\n",
      "           2       0.00      0.00      0.00        60\n",
      "           3       0.00      0.00      0.00        12\n",
      "           4       0.00      0.00      0.00         0\n",
      "\n",
      "    accuracy                           0.12       111\n",
      "   macro avg       0.02      0.20      0.04       111\n",
      "weighted avg       0.01      0.12      0.03       111\n",
      "\n"
     ]
    }
   ],
   "source": [
    "print(classification_report(y_true, ypr))"
   ]
  },
  {
   "cell_type": "code",
   "execution_count": null,
   "id": "8106ec2a",
   "metadata": {
    "papermill": {
     "duration": 0.035513,
     "end_time": "2022-07-05T17:19:53.568923",
     "exception": false,
     "start_time": "2022-07-05T17:19:53.533410",
     "status": "completed"
    },
    "tags": []
   },
   "outputs": [],
   "source": []
  }
 ],
 "metadata": {
  "kernelspec": {
   "display_name": "Python 3",
   "language": "python",
   "name": "python3"
  },
  "language_info": {
   "codemirror_mode": {
    "name": "ipython",
    "version": 3
   },
   "file_extension": ".py",
   "mimetype": "text/x-python",
   "name": "python",
   "nbconvert_exporter": "python",
   "pygments_lexer": "ipython3",
   "version": "3.7.10"
  },
  "papermill": {
   "default_parameters": {},
   "duration": 25.385445,
   "end_time": "2022-07-05T17:19:57.119381",
   "environment_variables": {},
   "exception": null,
   "input_path": "__notebook__.ipynb",
   "output_path": "__notebook__.ipynb",
   "parameters": {},
   "start_time": "2022-07-05T17:19:31.733936",
   "version": "2.3.3"
  }
 },
 "nbformat": 4,
 "nbformat_minor": 5
}
