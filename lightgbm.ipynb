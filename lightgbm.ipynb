{
 "cells": [
  {
   "cell_type": "code",
   "execution_count": 1,
   "id": "627b19ba",
   "metadata": {
    "_cell_guid": "b1076dfc-b9ad-4769-8c92-a6c4dae69d19",
    "_uuid": "8f2839f25d086af736a60e9eeb907d3b93b6e0e5",
    "execution": {
     "iopub.execute_input": "2022-07-05T12:31:15.491535Z",
     "iopub.status.busy": "2022-07-05T12:31:15.490030Z",
     "iopub.status.idle": "2022-07-05T12:31:23.128401Z",
     "shell.execute_reply": "2022-07-05T12:31:23.127374Z",
     "shell.execute_reply.started": "2022-07-05T12:01:36.103455Z"
    },
    "papermill": {
     "duration": 7.671749,
     "end_time": "2022-07-05T12:31:23.128570",
     "exception": false,
     "start_time": "2022-07-05T12:31:15.456821",
     "status": "completed"
    },
    "tags": []
   },
   "outputs": [],
   "source": [
    "import os\n",
    "\n",
    "import random\n",
    "import numpy as np\n",
    "\n",
    "import pandas as pd\n",
    "import torch\n",
    "from torch.utils.data import Dataset, random_split\n",
    "from sklearn.model_selection import train_test_split \n",
    "from transformers import (\n",
    "    AdamW,\n",
    "    Trainer,\n",
    "    TrainingArguments,\n",
    "    AutoTokenizer,\n",
    "    AutoModelForSequenceClassification,\n",
    "    get_cosine_schedule_with_warmup,\n",
    ")\n",
    "from sklearn.preprocessing import LabelEncoder\n",
    "from sklearn.metrics import accuracy_score\n",
    "from sklearn import preprocessing\n",
    "from sklearn.metrics import accuracy_score\n",
    "le = preprocessing.LabelEncoder()\n",
    "import warnings\n",
    "warnings.filterwarnings('ignore')"
   ]
  },
  {
   "cell_type": "code",
   "execution_count": 2,
   "id": "b1c1c717",
   "metadata": {
    "execution": {
     "iopub.execute_input": "2022-07-05T12:31:23.194647Z",
     "iopub.status.busy": "2022-07-05T12:31:23.193984Z",
     "iopub.status.idle": "2022-07-05T12:31:23.217289Z",
     "shell.execute_reply": "2022-07-05T12:31:23.217692Z",
     "shell.execute_reply.started": "2022-07-05T12:01:36.116266Z"
    },
    "papermill": {
     "duration": 0.05867,
     "end_time": "2022-07-05T12:31:23.217822",
     "exception": false,
     "start_time": "2022-07-05T12:31:23.159152",
     "status": "completed"
    },
    "tags": []
   },
   "outputs": [
    {
     "data": {
      "text/plain": [
       "(191, 3)"
      ]
     },
     "execution_count": 2,
     "metadata": {},
     "output_type": "execute_result"
    }
   ],
   "source": [
    "new_data=pd.read_csv(\"../input/csvvvv/Classeur 1 (5).csv\")\n",
    "new_data.drop([\"Y\",\"Word Count\",\"Language\",' '], axis=1, inplace=True)\n",
    "new_data.columns = [\"text\", \"CEFR Review\",\"CEFR Level_Samar\"]\n",
    "new_data.shape"
   ]
  },
  {
   "cell_type": "code",
   "execution_count": 3,
   "id": "e248314d",
   "metadata": {
    "execution": {
     "iopub.execute_input": "2022-07-05T12:31:23.279730Z",
     "iopub.status.busy": "2022-07-05T12:31:23.278927Z",
     "iopub.status.idle": "2022-07-05T12:31:23.288032Z",
     "shell.execute_reply": "2022-07-05T12:31:23.287606Z",
     "shell.execute_reply.started": "2022-07-05T12:01:36.304265Z"
    },
    "papermill": {
     "duration": 0.041796,
     "end_time": "2022-07-05T12:31:23.288150",
     "exception": false,
     "start_time": "2022-07-05T12:31:23.246354",
     "status": "completed"
    },
    "tags": []
   },
   "outputs": [
    {
     "data": {
      "text/html": [
       "<div>\n",
       "<style scoped>\n",
       "    .dataframe tbody tr th:only-of-type {\n",
       "        vertical-align: middle;\n",
       "    }\n",
       "\n",
       "    .dataframe tbody tr th {\n",
       "        vertical-align: top;\n",
       "    }\n",
       "\n",
       "    .dataframe thead th {\n",
       "        text-align: right;\n",
       "    }\n",
       "</style>\n",
       "<table border=\"1\" class=\"dataframe\">\n",
       "  <thead>\n",
       "    <tr style=\"text-align: right;\">\n",
       "      <th></th>\n",
       "      <th>text</th>\n",
       "      <th>CEFR Review</th>\n",
       "      <th>CEFR Level_Samar</th>\n",
       "    </tr>\n",
       "  </thead>\n",
       "  <tbody>\n",
       "    <tr>\n",
       "      <th>0</th>\n",
       "      <td>En 1815, M. Charles-François-Bienvenu Myriel é...</td>\n",
       "      <td>A2</td>\n",
       "      <td>C1</td>\n",
       "    </tr>\n",
       "    <tr>\n",
       "      <th>1</th>\n",
       "      <td>Quoique ce détail ne touche en aucune manière ...</td>\n",
       "      <td>C1</td>\n",
       "      <td>C2</td>\n",
       "    </tr>\n",
       "  </tbody>\n",
       "</table>\n",
       "</div>"
      ],
      "text/plain": [
       "                                                text CEFR Review  \\\n",
       "0  En 1815, M. Charles-François-Bienvenu Myriel é...          A2   \n",
       "1  Quoique ce détail ne touche en aucune manière ...          C1   \n",
       "\n",
       "  CEFR Level_Samar  \n",
       "0               C1  \n",
       "1               C2  "
      ]
     },
     "execution_count": 3,
     "metadata": {},
     "output_type": "execute_result"
    }
   ],
   "source": [
    "new_data.head(2)"
   ]
  },
  {
   "cell_type": "markdown",
   "id": "4d00b5a0",
   "metadata": {
    "papermill": {
     "duration": 0.028932,
     "end_time": "2022-07-05T12:31:23.346709",
     "exception": false,
     "start_time": "2022-07-05T12:31:23.317777",
     "status": "completed"
    },
    "tags": []
   },
   "source": [
    "**extract samar dataset**"
   ]
  },
  {
   "cell_type": "code",
   "execution_count": 4,
   "id": "82a443da",
   "metadata": {
    "execution": {
     "iopub.execute_input": "2022-07-05T12:31:23.413977Z",
     "iopub.status.busy": "2022-07-05T12:31:23.413326Z",
     "iopub.status.idle": "2022-07-05T12:31:23.423800Z",
     "shell.execute_reply": "2022-07-05T12:31:23.424248Z",
     "shell.execute_reply.started": "2022-07-05T12:01:36.316933Z"
    },
    "papermill": {
     "duration": 0.048455,
     "end_time": "2022-07-05T12:31:23.424373",
     "exception": false,
     "start_time": "2022-07-05T12:31:23.375918",
     "status": "completed"
    },
    "tags": []
   },
   "outputs": [
    {
     "data": {
      "text/html": [
       "<div>\n",
       "<style scoped>\n",
       "    .dataframe tbody tr th:only-of-type {\n",
       "        vertical-align: middle;\n",
       "    }\n",
       "\n",
       "    .dataframe tbody tr th {\n",
       "        vertical-align: top;\n",
       "    }\n",
       "\n",
       "    .dataframe thead th {\n",
       "        text-align: right;\n",
       "    }\n",
       "</style>\n",
       "<table border=\"1\" class=\"dataframe\">\n",
       "  <thead>\n",
       "    <tr style=\"text-align: right;\">\n",
       "      <th></th>\n",
       "      <th>text</th>\n",
       "      <th>label</th>\n",
       "    </tr>\n",
       "  </thead>\n",
       "  <tbody>\n",
       "    <tr>\n",
       "      <th>0</th>\n",
       "      <td>En 1815, M. Charles-François-Bienvenu Myriel é...</td>\n",
       "      <td>C1</td>\n",
       "    </tr>\n",
       "    <tr>\n",
       "      <th>1</th>\n",
       "      <td>Quoique ce détail ne touche en aucune manière ...</td>\n",
       "      <td>C2</td>\n",
       "    </tr>\n",
       "    <tr>\n",
       "      <th>2</th>\n",
       "      <td>En 1804, M. Myriel était curé de Brignolles. I...</td>\n",
       "      <td>C1</td>\n",
       "    </tr>\n",
       "    <tr>\n",
       "      <th>3</th>\n",
       "      <td>Vers l'époque du couronnement, une petite affa...</td>\n",
       "      <td>C2</td>\n",
       "    </tr>\n",
       "    <tr>\n",
       "      <th>4</th>\n",
       "      <td>—Quel est ce bonhomme qui me regarde?</td>\n",
       "      <td>C1</td>\n",
       "    </tr>\n",
       "  </tbody>\n",
       "</table>\n",
       "</div>"
      ],
      "text/plain": [
       "                                                text label\n",
       "0  En 1815, M. Charles-François-Bienvenu Myriel é...    C1\n",
       "1  Quoique ce détail ne touche en aucune manière ...    C2\n",
       "2  En 1804, M. Myriel était curé de Brignolles. I...    C1\n",
       "3  Vers l'époque du couronnement, une petite affa...    C2\n",
       "4              —Quel est ce bonhomme qui me regarde?    C1"
      ]
     },
     "execution_count": 4,
     "metadata": {},
     "output_type": "execute_result"
    }
   ],
   "source": [
    "mike_20_june_samar=new_data[pd.notnull(new_data['CEFR Level_Samar'])]\n",
    "mike_20_june_samar.columns = [\"text\", \"CEFR Review\",\"label\"]\n",
    "mike_20_june_samar.drop([\"CEFR Review\"],axis=1, inplace=True)\n",
    "mike_20_june_samar.to_csv(\"mike_20_june_samar.csv\" , index=False)\n",
    "mike_20_june_samar.head()"
   ]
  },
  {
   "cell_type": "markdown",
   "id": "56ab6069",
   "metadata": {
    "papermill": {
     "duration": 0.029659,
     "end_time": "2022-07-05T12:31:23.483769",
     "exception": false,
     "start_time": "2022-07-05T12:31:23.454110",
     "status": "completed"
    },
    "tags": []
   },
   "source": [
    "**extract mike_new dataset**"
   ]
  },
  {
   "cell_type": "code",
   "execution_count": 5,
   "id": "b0de7bf6",
   "metadata": {
    "execution": {
     "iopub.execute_input": "2022-07-05T12:31:23.549826Z",
     "iopub.status.busy": "2022-07-05T12:31:23.548157Z",
     "iopub.status.idle": "2022-07-05T12:31:23.559959Z",
     "shell.execute_reply": "2022-07-05T12:31:23.559565Z",
     "shell.execute_reply.started": "2022-07-05T12:01:36.335289Z"
    },
    "papermill": {
     "duration": 0.047277,
     "end_time": "2022-07-05T12:31:23.560095",
     "exception": false,
     "start_time": "2022-07-05T12:31:23.512818",
     "status": "completed"
    },
    "tags": []
   },
   "outputs": [
    {
     "data": {
      "text/html": [
       "<div>\n",
       "<style scoped>\n",
       "    .dataframe tbody tr th:only-of-type {\n",
       "        vertical-align: middle;\n",
       "    }\n",
       "\n",
       "    .dataframe tbody tr th {\n",
       "        vertical-align: top;\n",
       "    }\n",
       "\n",
       "    .dataframe thead th {\n",
       "        text-align: right;\n",
       "    }\n",
       "</style>\n",
       "<table border=\"1\" class=\"dataframe\">\n",
       "  <thead>\n",
       "    <tr style=\"text-align: right;\">\n",
       "      <th></th>\n",
       "      <th>text</th>\n",
       "      <th>label</th>\n",
       "    </tr>\n",
       "  </thead>\n",
       "  <tbody>\n",
       "    <tr>\n",
       "      <th>0</th>\n",
       "      <td>En 1815, M. Charles-François-Bienvenu Myriel é...</td>\n",
       "      <td>A2</td>\n",
       "    </tr>\n",
       "    <tr>\n",
       "      <th>1</th>\n",
       "      <td>Quoique ce détail ne touche en aucune manière ...</td>\n",
       "      <td>C1</td>\n",
       "    </tr>\n",
       "    <tr>\n",
       "      <th>2</th>\n",
       "      <td>En 1804, M. Myriel était curé de Brignolles. I...</td>\n",
       "      <td>A2</td>\n",
       "    </tr>\n",
       "    <tr>\n",
       "      <th>3</th>\n",
       "      <td>Vers l'époque du couronnement, une petite affa...</td>\n",
       "      <td>B2</td>\n",
       "    </tr>\n",
       "    <tr>\n",
       "      <th>4</th>\n",
       "      <td>—Quel est ce bonhomme qui me regarde?</td>\n",
       "      <td>A2</td>\n",
       "    </tr>\n",
       "  </tbody>\n",
       "</table>\n",
       "</div>"
      ],
      "text/plain": [
       "                                                text label\n",
       "0  En 1815, M. Charles-François-Bienvenu Myriel é...    A2\n",
       "1  Quoique ce détail ne touche en aucune manière ...    C1\n",
       "2  En 1804, M. Myriel était curé de Brignolles. I...    A2\n",
       "3  Vers l'époque du couronnement, une petite affa...    B2\n",
       "4              —Quel est ce bonhomme qui me regarde?    A2"
      ]
     },
     "execution_count": 5,
     "metadata": {},
     "output_type": "execute_result"
    }
   ],
   "source": [
    "mike_20_june_new=new_data[pd.notnull(new_data['CEFR Review'])]\n",
    "mike_20_june_new.columns = [\"text\", \"label\",\"CEFR Level_Samar\"]\n",
    "mike_20_june_new.drop([\"CEFR Level_Samar\"],axis=1, inplace=True)\n",
    "mike_20_june_new.to_csv(\"mike_20_june_new.csv\" , index=False)\n",
    "mike_20_june_new.head() "
   ]
  },
  {
   "cell_type": "markdown",
   "id": "298647ff",
   "metadata": {
    "papermill": {
     "duration": 0.030335,
     "end_time": "2022-07-05T12:31:23.620621",
     "exception": false,
     "start_time": "2022-07-05T12:31:23.590286",
     "status": "completed"
    },
    "tags": []
   },
   "source": [
    "**General insights about samar and mike_new datasets**"
   ]
  },
  {
   "cell_type": "code",
   "execution_count": 6,
   "id": "fd14597d",
   "metadata": {
    "execution": {
     "iopub.execute_input": "2022-07-05T12:31:23.687927Z",
     "iopub.status.busy": "2022-07-05T12:31:23.687421Z",
     "iopub.status.idle": "2022-07-05T12:31:23.693163Z",
     "shell.execute_reply": "2022-07-05T12:31:23.692704Z",
     "shell.execute_reply.started": "2022-07-05T12:01:36.480956Z"
    },
    "papermill": {
     "duration": 0.041846,
     "end_time": "2022-07-05T12:31:23.693270",
     "exception": false,
     "start_time": "2022-07-05T12:31:23.651424",
     "status": "completed"
    },
    "tags": []
   },
   "outputs": [
    {
     "data": {
      "text/plain": [
       "(array(['C1', 'C2'], dtype=object),\n",
       " array(['A2', 'C1', 'B2', 'A1', 'B1', 'C2'], dtype=object))"
      ]
     },
     "execution_count": 6,
     "metadata": {},
     "output_type": "execute_result"
    }
   ],
   "source": [
    "mike_20_june_samar[\"label\"].unique(), mike_20_june_new[\"label\"].unique()"
   ]
  },
  {
   "cell_type": "markdown",
   "id": "4e21663a",
   "metadata": {
    "papermill": {
     "duration": 0.029937,
     "end_time": "2022-07-05T12:31:23.752876",
     "exception": false,
     "start_time": "2022-07-05T12:31:23.722939",
     "status": "completed"
    },
    "tags": []
   },
   "source": [
    "****!!!! samar annotation seems to be weird because there is just C1 and C2****"
   ]
  },
  {
   "cell_type": "code",
   "execution_count": 7,
   "id": "566befdc",
   "metadata": {
    "execution": {
     "iopub.execute_input": "2022-07-05T12:31:23.823104Z",
     "iopub.status.busy": "2022-07-05T12:31:23.821953Z",
     "iopub.status.idle": "2022-07-05T12:31:23.824974Z",
     "shell.execute_reply": "2022-07-05T12:31:23.825418Z",
     "shell.execute_reply.started": "2022-07-05T12:01:36.493289Z"
    },
    "papermill": {
     "duration": 0.041799,
     "end_time": "2022-07-05T12:31:23.825569",
     "exception": false,
     "start_time": "2022-07-05T12:31:23.783770",
     "status": "completed"
    },
    "tags": []
   },
   "outputs": [
    {
     "data": {
      "text/plain": [
       "C1    58\n",
       "A1    41\n",
       "B2    33\n",
       "B1    29\n",
       "A2    24\n",
       "C2     6\n",
       "Name: label, dtype: int64"
      ]
     },
     "execution_count": 7,
     "metadata": {},
     "output_type": "execute_result"
    }
   ],
   "source": [
    "mike_20_june_new.label.value_counts()"
   ]
  },
  {
   "cell_type": "code",
   "execution_count": 8,
   "id": "51ba3d6f",
   "metadata": {
    "execution": {
     "iopub.execute_input": "2022-07-05T12:31:23.905112Z",
     "iopub.status.busy": "2022-07-05T12:31:23.904391Z",
     "iopub.status.idle": "2022-07-05T12:31:23.907160Z",
     "shell.execute_reply": "2022-07-05T12:31:23.907789Z",
     "shell.execute_reply.started": "2022-07-05T12:01:36.509942Z"
    },
    "papermill": {
     "duration": 0.052214,
     "end_time": "2022-07-05T12:31:23.907934",
     "exception": false,
     "start_time": "2022-07-05T12:31:23.855720",
     "status": "completed"
    },
    "tags": []
   },
   "outputs": [
    {
     "data": {
      "text/plain": [
       "((141, 2), (191, 2))"
      ]
     },
     "execution_count": 8,
     "metadata": {},
     "output_type": "execute_result"
    }
   ],
   "source": [
    "mike_20_june_samar.shape,mike_20_june_new.shape"
   ]
  },
  {
   "cell_type": "code",
   "execution_count": 9,
   "id": "2489e6c1",
   "metadata": {
    "execution": {
     "iopub.execute_input": "2022-07-05T12:31:24.020844Z",
     "iopub.status.busy": "2022-07-05T12:31:24.020034Z",
     "iopub.status.idle": "2022-07-05T12:31:24.054883Z",
     "shell.execute_reply": "2022-07-05T12:31:24.055904Z",
     "shell.execute_reply.started": "2022-07-05T12:01:36.641863Z"
    },
    "papermill": {
     "duration": 0.091441,
     "end_time": "2022-07-05T12:31:24.056124",
     "exception": false,
     "start_time": "2022-07-05T12:31:23.964683",
     "status": "completed"
    },
    "tags": []
   },
   "outputs": [
    {
     "data": {
      "text/html": [
       "<div>\n",
       "<style scoped>\n",
       "    .dataframe tbody tr th:only-of-type {\n",
       "        vertical-align: middle;\n",
       "    }\n",
       "\n",
       "    .dataframe tbody tr th {\n",
       "        vertical-align: top;\n",
       "    }\n",
       "\n",
       "    .dataframe thead th {\n",
       "        text-align: right;\n",
       "    }\n",
       "</style>\n",
       "<table border=\"1\" class=\"dataframe\">\n",
       "  <thead>\n",
       "    <tr style=\"text-align: right;\">\n",
       "      <th></th>\n",
       "      <th>text</th>\n",
       "      <th>len</th>\n",
       "      <th>lang</th>\n",
       "      <th>label</th>\n",
       "    </tr>\n",
       "  </thead>\n",
       "  <tbody>\n",
       "    <tr>\n",
       "      <th>0</th>\n",
       "      <td>Il était une fois un prince qui voulait épouse...</td>\n",
       "      <td>15</td>\n",
       "      <td>FR</td>\n",
       "      <td>A2</td>\n",
       "    </tr>\n",
       "    <tr>\n",
       "      <th>1</th>\n",
       "      <td>Il fit le tour de la Terre pour en trouver une...</td>\n",
       "      <td>62</td>\n",
       "      <td>FR</td>\n",
       "      <td>B1</td>\n",
       "    </tr>\n",
       "    <tr>\n",
       "      <th>2</th>\n",
       "      <td>Un soir, par un temps affreux, éclairs et tonn...</td>\n",
       "      <td>31</td>\n",
       "      <td>FR</td>\n",
       "      <td>B1</td>\n",
       "    </tr>\n",
       "    <tr>\n",
       "      <th>3</th>\n",
       "      <td>C'était une princesse qui était là, dehors. M...</td>\n",
       "      <td>51</td>\n",
       "      <td>FR</td>\n",
       "      <td>A2</td>\n",
       "    </tr>\n",
       "    <tr>\n",
       "      <th>4</th>\n",
       "      <td>« Nous allons bien voir ça », pensait la vieil...</td>\n",
       "      <td>76</td>\n",
       "      <td>FR</td>\n",
       "      <td>B1</td>\n",
       "    </tr>\n",
       "  </tbody>\n",
       "</table>\n",
       "</div>"
      ],
      "text/plain": [
       "                                                text  len lang label\n",
       "0  Il était une fois un prince qui voulait épouse...   15   FR    A2\n",
       "1  Il fit le tour de la Terre pour en trouver une...   62   FR    B1\n",
       "2  Un soir, par un temps affreux, éclairs et tonn...   31   FR    B1\n",
       "3   C'était une princesse qui était là, dehors. M...   51   FR    A2\n",
       "4  « Nous allons bien voir ça », pensait la vieil...   76   FR    B1"
      ]
     },
     "execution_count": 9,
     "metadata": {},
     "output_type": "execute_result"
    }
   ],
   "source": [
    "trainn=pd.read_csv(\"../input/frenchcefr/french dataset.csv\")\n",
    "trainn = trainn[trainn.label != \"XX\"]\n",
    "trainn.head()"
   ]
  },
  {
   "cell_type": "code",
   "execution_count": 10,
   "id": "0aa7bea4",
   "metadata": {
    "execution": {
     "iopub.execute_input": "2022-07-05T12:31:24.166895Z",
     "iopub.status.busy": "2022-07-05T12:31:24.165951Z",
     "iopub.status.idle": "2022-07-05T12:31:24.179059Z",
     "shell.execute_reply": "2022-07-05T12:31:24.180064Z",
     "shell.execute_reply.started": "2022-07-05T12:01:36.661504Z"
    },
    "papermill": {
     "duration": 0.070878,
     "end_time": "2022-07-05T12:31:24.180274",
     "exception": false,
     "start_time": "2022-07-05T12:31:24.109396",
     "status": "completed"
    },
    "tags": []
   },
   "outputs": [],
   "source": [
    "lingua_fr=pd.read_csv(\"../input/lingua/fr_lingua.csv\")"
   ]
  },
  {
   "cell_type": "markdown",
   "id": "75a4f251",
   "metadata": {
    "papermill": {
     "duration": 0.109593,
     "end_time": "2022-07-05T12:31:24.355043",
     "exception": false,
     "start_time": "2022-07-05T12:31:24.245450",
     "status": "completed"
    },
    "tags": []
   },
   "source": [
    "**tfidf of the train_data**"
   ]
  },
  {
   "cell_type": "code",
   "execution_count": 11,
   "id": "f65aa030",
   "metadata": {
    "_kg_hide-output": true,
    "execution": {
     "iopub.execute_input": "2022-07-05T12:31:24.461872Z",
     "iopub.status.busy": "2022-07-05T12:31:24.461026Z",
     "iopub.status.idle": "2022-07-05T12:31:24.574324Z",
     "shell.execute_reply": "2022-07-05T12:31:24.575828Z",
     "shell.execute_reply.started": "2022-07-05T12:01:36.671877Z"
    },
    "papermill": {
     "duration": 0.172746,
     "end_time": "2022-07-05T12:31:24.576067",
     "exception": false,
     "start_time": "2022-07-05T12:31:24.403321",
     "status": "completed"
    },
    "tags": []
   },
   "outputs": [
    {
     "data": {
      "text/html": [
       "<div>\n",
       "<style scoped>\n",
       "    .dataframe tbody tr th:only-of-type {\n",
       "        vertical-align: middle;\n",
       "    }\n",
       "\n",
       "    .dataframe tbody tr th {\n",
       "        vertical-align: top;\n",
       "    }\n",
       "\n",
       "    .dataframe thead th {\n",
       "        text-align: right;\n",
       "    }\n",
       "</style>\n",
       "<table border=\"1\" class=\"dataframe\">\n",
       "  <thead>\n",
       "    <tr style=\"text-align: right;\">\n",
       "      <th></th>\n",
       "      <th>1859</th>\n",
       "      <th>1866</th>\n",
       "      <th>1868</th>\n",
       "      <th>1874</th>\n",
       "      <th>abandonna</th>\n",
       "      <th>abord</th>\n",
       "      <th>abordait</th>\n",
       "      <th>absence</th>\n",
       "      <th>accable</th>\n",
       "      <th>accepta</th>\n",
       "      <th>...</th>\n",
       "      <th>étuve</th>\n",
       "      <th>été</th>\n",
       "      <th>éveilla</th>\n",
       "      <th>éveiller</th>\n",
       "      <th>éveillèrent</th>\n",
       "      <th>événements</th>\n",
       "      <th>êtes</th>\n",
       "      <th>être</th>\n",
       "      <th>êtres</th>\n",
       "      <th>œil</th>\n",
       "    </tr>\n",
       "  </thead>\n",
       "  <tbody>\n",
       "    <tr>\n",
       "      <th>0</th>\n",
       "      <td>0.0</td>\n",
       "      <td>0.0</td>\n",
       "      <td>0.0</td>\n",
       "      <td>0.0</td>\n",
       "      <td>0.0</td>\n",
       "      <td>0.0</td>\n",
       "      <td>0.0</td>\n",
       "      <td>0.0</td>\n",
       "      <td>0.0</td>\n",
       "      <td>0.0</td>\n",
       "      <td>...</td>\n",
       "      <td>0.0</td>\n",
       "      <td>0.0</td>\n",
       "      <td>0.0</td>\n",
       "      <td>0.0</td>\n",
       "      <td>0.0</td>\n",
       "      <td>0.0</td>\n",
       "      <td>0.0</td>\n",
       "      <td>0.000000</td>\n",
       "      <td>0.0</td>\n",
       "      <td>0.0</td>\n",
       "    </tr>\n",
       "    <tr>\n",
       "      <th>1</th>\n",
       "      <td>0.0</td>\n",
       "      <td>0.0</td>\n",
       "      <td>0.0</td>\n",
       "      <td>0.0</td>\n",
       "      <td>0.0</td>\n",
       "      <td>0.0</td>\n",
       "      <td>0.0</td>\n",
       "      <td>0.0</td>\n",
       "      <td>0.0</td>\n",
       "      <td>0.0</td>\n",
       "      <td>...</td>\n",
       "      <td>0.0</td>\n",
       "      <td>0.0</td>\n",
       "      <td>0.0</td>\n",
       "      <td>0.0</td>\n",
       "      <td>0.0</td>\n",
       "      <td>0.0</td>\n",
       "      <td>0.0</td>\n",
       "      <td>0.000000</td>\n",
       "      <td>0.0</td>\n",
       "      <td>0.0</td>\n",
       "    </tr>\n",
       "    <tr>\n",
       "      <th>2</th>\n",
       "      <td>0.0</td>\n",
       "      <td>0.0</td>\n",
       "      <td>0.0</td>\n",
       "      <td>0.0</td>\n",
       "      <td>0.0</td>\n",
       "      <td>0.0</td>\n",
       "      <td>0.0</td>\n",
       "      <td>0.0</td>\n",
       "      <td>0.0</td>\n",
       "      <td>0.0</td>\n",
       "      <td>...</td>\n",
       "      <td>0.0</td>\n",
       "      <td>0.0</td>\n",
       "      <td>0.0</td>\n",
       "      <td>0.0</td>\n",
       "      <td>0.0</td>\n",
       "      <td>0.0</td>\n",
       "      <td>0.0</td>\n",
       "      <td>0.000000</td>\n",
       "      <td>0.0</td>\n",
       "      <td>0.0</td>\n",
       "    </tr>\n",
       "    <tr>\n",
       "      <th>3</th>\n",
       "      <td>0.0</td>\n",
       "      <td>0.0</td>\n",
       "      <td>0.0</td>\n",
       "      <td>0.0</td>\n",
       "      <td>0.0</td>\n",
       "      <td>0.0</td>\n",
       "      <td>0.0</td>\n",
       "      <td>0.0</td>\n",
       "      <td>0.0</td>\n",
       "      <td>0.0</td>\n",
       "      <td>...</td>\n",
       "      <td>0.0</td>\n",
       "      <td>0.0</td>\n",
       "      <td>0.0</td>\n",
       "      <td>0.0</td>\n",
       "      <td>0.0</td>\n",
       "      <td>0.0</td>\n",
       "      <td>0.0</td>\n",
       "      <td>0.116826</td>\n",
       "      <td>0.0</td>\n",
       "      <td>0.0</td>\n",
       "    </tr>\n",
       "    <tr>\n",
       "      <th>4</th>\n",
       "      <td>0.0</td>\n",
       "      <td>0.0</td>\n",
       "      <td>0.0</td>\n",
       "      <td>0.0</td>\n",
       "      <td>0.0</td>\n",
       "      <td>0.0</td>\n",
       "      <td>0.0</td>\n",
       "      <td>0.0</td>\n",
       "      <td>0.0</td>\n",
       "      <td>0.0</td>\n",
       "      <td>...</td>\n",
       "      <td>0.0</td>\n",
       "      <td>0.0</td>\n",
       "      <td>0.0</td>\n",
       "      <td>0.0</td>\n",
       "      <td>0.0</td>\n",
       "      <td>0.0</td>\n",
       "      <td>0.0</td>\n",
       "      <td>0.000000</td>\n",
       "      <td>0.0</td>\n",
       "      <td>0.0</td>\n",
       "    </tr>\n",
       "    <tr>\n",
       "      <th>...</th>\n",
       "      <td>...</td>\n",
       "      <td>...</td>\n",
       "      <td>...</td>\n",
       "      <td>...</td>\n",
       "      <td>...</td>\n",
       "      <td>...</td>\n",
       "      <td>...</td>\n",
       "      <td>...</td>\n",
       "      <td>...</td>\n",
       "      <td>...</td>\n",
       "      <td>...</td>\n",
       "      <td>...</td>\n",
       "      <td>...</td>\n",
       "      <td>...</td>\n",
       "      <td>...</td>\n",
       "      <td>...</td>\n",
       "      <td>...</td>\n",
       "      <td>...</td>\n",
       "      <td>...</td>\n",
       "      <td>...</td>\n",
       "      <td>...</td>\n",
       "    </tr>\n",
       "    <tr>\n",
       "      <th>309</th>\n",
       "      <td>0.0</td>\n",
       "      <td>0.0</td>\n",
       "      <td>0.0</td>\n",
       "      <td>0.0</td>\n",
       "      <td>0.0</td>\n",
       "      <td>0.0</td>\n",
       "      <td>0.0</td>\n",
       "      <td>0.0</td>\n",
       "      <td>0.0</td>\n",
       "      <td>0.0</td>\n",
       "      <td>...</td>\n",
       "      <td>0.0</td>\n",
       "      <td>0.0</td>\n",
       "      <td>0.0</td>\n",
       "      <td>0.0</td>\n",
       "      <td>0.0</td>\n",
       "      <td>0.0</td>\n",
       "      <td>0.0</td>\n",
       "      <td>0.000000</td>\n",
       "      <td>0.0</td>\n",
       "      <td>0.0</td>\n",
       "    </tr>\n",
       "    <tr>\n",
       "      <th>310</th>\n",
       "      <td>0.0</td>\n",
       "      <td>0.0</td>\n",
       "      <td>0.0</td>\n",
       "      <td>0.0</td>\n",
       "      <td>0.0</td>\n",
       "      <td>0.0</td>\n",
       "      <td>0.0</td>\n",
       "      <td>0.0</td>\n",
       "      <td>0.0</td>\n",
       "      <td>0.0</td>\n",
       "      <td>...</td>\n",
       "      <td>0.0</td>\n",
       "      <td>0.0</td>\n",
       "      <td>0.0</td>\n",
       "      <td>0.0</td>\n",
       "      <td>0.0</td>\n",
       "      <td>0.0</td>\n",
       "      <td>0.0</td>\n",
       "      <td>0.000000</td>\n",
       "      <td>0.0</td>\n",
       "      <td>0.0</td>\n",
       "    </tr>\n",
       "    <tr>\n",
       "      <th>311</th>\n",
       "      <td>0.0</td>\n",
       "      <td>0.0</td>\n",
       "      <td>0.0</td>\n",
       "      <td>0.0</td>\n",
       "      <td>0.0</td>\n",
       "      <td>0.0</td>\n",
       "      <td>0.0</td>\n",
       "      <td>0.0</td>\n",
       "      <td>0.0</td>\n",
       "      <td>0.0</td>\n",
       "      <td>...</td>\n",
       "      <td>0.0</td>\n",
       "      <td>0.0</td>\n",
       "      <td>0.0</td>\n",
       "      <td>0.0</td>\n",
       "      <td>0.0</td>\n",
       "      <td>0.0</td>\n",
       "      <td>0.0</td>\n",
       "      <td>0.000000</td>\n",
       "      <td>0.0</td>\n",
       "      <td>0.0</td>\n",
       "    </tr>\n",
       "    <tr>\n",
       "      <th>312</th>\n",
       "      <td>0.0</td>\n",
       "      <td>0.0</td>\n",
       "      <td>0.0</td>\n",
       "      <td>0.0</td>\n",
       "      <td>0.0</td>\n",
       "      <td>0.0</td>\n",
       "      <td>0.0</td>\n",
       "      <td>0.0</td>\n",
       "      <td>0.0</td>\n",
       "      <td>0.0</td>\n",
       "      <td>...</td>\n",
       "      <td>0.0</td>\n",
       "      <td>0.0</td>\n",
       "      <td>0.0</td>\n",
       "      <td>0.0</td>\n",
       "      <td>0.0</td>\n",
       "      <td>0.0</td>\n",
       "      <td>0.0</td>\n",
       "      <td>0.000000</td>\n",
       "      <td>0.0</td>\n",
       "      <td>0.0</td>\n",
       "    </tr>\n",
       "    <tr>\n",
       "      <th>313</th>\n",
       "      <td>0.0</td>\n",
       "      <td>0.0</td>\n",
       "      <td>0.0</td>\n",
       "      <td>0.0</td>\n",
       "      <td>0.0</td>\n",
       "      <td>0.0</td>\n",
       "      <td>0.0</td>\n",
       "      <td>0.0</td>\n",
       "      <td>0.0</td>\n",
       "      <td>0.0</td>\n",
       "      <td>...</td>\n",
       "      <td>0.0</td>\n",
       "      <td>0.0</td>\n",
       "      <td>0.0</td>\n",
       "      <td>0.0</td>\n",
       "      <td>0.0</td>\n",
       "      <td>0.0</td>\n",
       "      <td>0.0</td>\n",
       "      <td>0.000000</td>\n",
       "      <td>0.0</td>\n",
       "      <td>0.0</td>\n",
       "    </tr>\n",
       "  </tbody>\n",
       "</table>\n",
       "<p>314 rows × 2400 columns</p>\n",
       "</div>"
      ],
      "text/plain": [
       "     1859  1866  1868  1874  abandonna  abord  abordait  absence  accable  \\\n",
       "0     0.0   0.0   0.0   0.0        0.0    0.0       0.0      0.0      0.0   \n",
       "1     0.0   0.0   0.0   0.0        0.0    0.0       0.0      0.0      0.0   \n",
       "2     0.0   0.0   0.0   0.0        0.0    0.0       0.0      0.0      0.0   \n",
       "3     0.0   0.0   0.0   0.0        0.0    0.0       0.0      0.0      0.0   \n",
       "4     0.0   0.0   0.0   0.0        0.0    0.0       0.0      0.0      0.0   \n",
       "..    ...   ...   ...   ...        ...    ...       ...      ...      ...   \n",
       "309   0.0   0.0   0.0   0.0        0.0    0.0       0.0      0.0      0.0   \n",
       "310   0.0   0.0   0.0   0.0        0.0    0.0       0.0      0.0      0.0   \n",
       "311   0.0   0.0   0.0   0.0        0.0    0.0       0.0      0.0      0.0   \n",
       "312   0.0   0.0   0.0   0.0        0.0    0.0       0.0      0.0      0.0   \n",
       "313   0.0   0.0   0.0   0.0        0.0    0.0       0.0      0.0      0.0   \n",
       "\n",
       "     accepta  ...  étuve  été  éveilla  éveiller  éveillèrent  événements  \\\n",
       "0        0.0  ...    0.0  0.0      0.0       0.0          0.0         0.0   \n",
       "1        0.0  ...    0.0  0.0      0.0       0.0          0.0         0.0   \n",
       "2        0.0  ...    0.0  0.0      0.0       0.0          0.0         0.0   \n",
       "3        0.0  ...    0.0  0.0      0.0       0.0          0.0         0.0   \n",
       "4        0.0  ...    0.0  0.0      0.0       0.0          0.0         0.0   \n",
       "..       ...  ...    ...  ...      ...       ...          ...         ...   \n",
       "309      0.0  ...    0.0  0.0      0.0       0.0          0.0         0.0   \n",
       "310      0.0  ...    0.0  0.0      0.0       0.0          0.0         0.0   \n",
       "311      0.0  ...    0.0  0.0      0.0       0.0          0.0         0.0   \n",
       "312      0.0  ...    0.0  0.0      0.0       0.0          0.0         0.0   \n",
       "313      0.0  ...    0.0  0.0      0.0       0.0          0.0         0.0   \n",
       "\n",
       "     êtes      être  êtres  œil  \n",
       "0     0.0  0.000000    0.0  0.0  \n",
       "1     0.0  0.000000    0.0  0.0  \n",
       "2     0.0  0.000000    0.0  0.0  \n",
       "3     0.0  0.116826    0.0  0.0  \n",
       "4     0.0  0.000000    0.0  0.0  \n",
       "..    ...       ...    ...  ...  \n",
       "309   0.0  0.000000    0.0  0.0  \n",
       "310   0.0  0.000000    0.0  0.0  \n",
       "311   0.0  0.000000    0.0  0.0  \n",
       "312   0.0  0.000000    0.0  0.0  \n",
       "313   0.0  0.000000    0.0  0.0  \n",
       "\n",
       "[314 rows x 2400 columns]"
      ]
     },
     "execution_count": 11,
     "metadata": {},
     "output_type": "execute_result"
    }
   ],
   "source": [
    "from sklearn.feature_extraction.text import CountVectorizer, TfidfVectorizer\n",
    "vectorizer = TfidfVectorizer(max_features=2400)\n",
    "tfidf_data = vectorizer.fit_transform(trainn[\"text\"]).toarray()\n",
    "features = vectorizer.get_feature_names()\n",
    "tfidf_dataa = pd.DataFrame(tfidf_data, columns=features)\n",
    "tfidf_dataa"
   ]
  },
  {
   "cell_type": "markdown",
   "id": "3894189d",
   "metadata": {
    "papermill": {
     "duration": 0.056535,
     "end_time": "2022-07-05T12:31:24.686993",
     "exception": false,
     "start_time": "2022-07-05T12:31:24.630458",
     "status": "completed"
    },
    "tags": []
   },
   "source": [
    "**tfidf of the test data**"
   ]
  },
  {
   "cell_type": "code",
   "execution_count": 12,
   "id": "36e5dbdb",
   "metadata": {
    "execution": {
     "iopub.execute_input": "2022-07-05T12:31:24.815966Z",
     "iopub.status.busy": "2022-07-05T12:31:24.815100Z",
     "iopub.status.idle": "2022-07-05T12:31:24.855283Z",
     "shell.execute_reply": "2022-07-05T12:31:24.856329Z",
     "shell.execute_reply.started": "2022-07-05T12:01:36.737286Z"
    },
    "papermill": {
     "duration": 0.112586,
     "end_time": "2022-07-05T12:31:24.856524",
     "exception": false,
     "start_time": "2022-07-05T12:31:24.743938",
     "status": "completed"
    },
    "tags": []
   },
   "outputs": [],
   "source": [
    "from sklearn.feature_extraction.text import CountVectorizer, TfidfVectorizer\n",
    "vectorizer = TfidfVectorizer(max_features=2400)\n",
    "tfidf_data = vectorizer.fit_transform(lingua_fr[\"text\"]).toarray()\n",
    "features = vectorizer.get_feature_names()\n",
    "tfidf_lingua_fr = pd.DataFrame(tfidf_data, columns=features)"
   ]
  },
  {
   "cell_type": "code",
   "execution_count": 13,
   "id": "0c3509cc",
   "metadata": {
    "execution": {
     "iopub.execute_input": "2022-07-05T12:31:24.970813Z",
     "iopub.status.busy": "2022-07-05T12:31:24.969954Z",
     "iopub.status.idle": "2022-07-05T12:31:24.973408Z",
     "shell.execute_reply": "2022-07-05T12:31:24.971533Z",
     "shell.execute_reply.started": "2022-07-05T12:01:36.772894Z"
    },
    "papermill": {
     "duration": 0.064595,
     "end_time": "2022-07-05T12:31:24.973574",
     "exception": false,
     "start_time": "2022-07-05T12:31:24.908979",
     "status": "completed"
    },
    "tags": []
   },
   "outputs": [
    {
     "data": {
      "text/plain": [
       "array(['A2', 'B1', 'A1', 'B2', 'C1', 'C2'], dtype=object)"
      ]
     },
     "execution_count": 13,
     "metadata": {},
     "output_type": "execute_result"
    }
   ],
   "source": [
    "y=trainn[\"label\"]\n",
    "y.unique()"
   ]
  },
  {
   "cell_type": "markdown",
   "id": "d8ac282e",
   "metadata": {
    "papermill": {
     "duration": 0.053074,
     "end_time": "2022-07-05T12:31:25.078759",
     "exception": false,
     "start_time": "2022-07-05T12:31:25.025685",
     "status": "completed"
    },
    "tags": []
   },
   "source": [
    "**encoding y**"
   ]
  },
  {
   "cell_type": "code",
   "execution_count": 14,
   "id": "d5c1cb7b",
   "metadata": {
    "execution": {
     "iopub.execute_input": "2022-07-05T12:31:25.182197Z",
     "iopub.status.busy": "2022-07-05T12:31:25.180462Z",
     "iopub.status.idle": "2022-07-05T12:31:25.182753Z",
     "shell.execute_reply": "2022-07-05T12:31:25.183188Z",
     "shell.execute_reply.started": "2022-07-05T12:01:36.854386Z"
    },
    "papermill": {
     "duration": 0.051631,
     "end_time": "2022-07-05T12:31:25.183323",
     "exception": false,
     "start_time": "2022-07-05T12:31:25.131692",
     "status": "completed"
    },
    "tags": []
   },
   "outputs": [],
   "source": [
    "y = le.fit_transform(y)"
   ]
  },
  {
   "cell_type": "code",
   "execution_count": 15,
   "id": "7520ab16",
   "metadata": {
    "execution": {
     "iopub.execute_input": "2022-07-05T12:31:25.253778Z",
     "iopub.status.busy": "2022-07-05T12:31:25.253201Z",
     "iopub.status.idle": "2022-07-05T12:31:25.255719Z",
     "shell.execute_reply": "2022-07-05T12:31:25.256161Z",
     "shell.execute_reply.started": "2022-07-05T12:01:36.863919Z"
    },
    "papermill": {
     "duration": 0.040367,
     "end_time": "2022-07-05T12:31:25.256290",
     "exception": false,
     "start_time": "2022-07-05T12:31:25.215923",
     "status": "completed"
    },
    "tags": []
   },
   "outputs": [
    {
     "data": {
      "text/plain": [
       "array([0, 1, 2, 3, 4, 5])"
      ]
     },
     "execution_count": 15,
     "metadata": {},
     "output_type": "execute_result"
    }
   ],
   "source": [
    "np.unique(y)"
   ]
  },
  {
   "cell_type": "markdown",
   "id": "203f0c8e",
   "metadata": {
    "papermill": {
     "duration": 0.032271,
     "end_time": "2022-07-05T12:31:25.321450",
     "exception": false,
     "start_time": "2022-07-05T12:31:25.289179",
     "status": "completed"
    },
    "tags": []
   },
   "source": [
    "**split data**"
   ]
  },
  {
   "cell_type": "code",
   "execution_count": 16,
   "id": "1efde4dc",
   "metadata": {
    "execution": {
     "iopub.execute_input": "2022-07-05T12:31:25.397618Z",
     "iopub.status.busy": "2022-07-05T12:31:25.396854Z",
     "iopub.status.idle": "2022-07-05T12:31:25.399144Z",
     "shell.execute_reply": "2022-07-05T12:31:25.399558Z",
     "shell.execute_reply.started": "2022-07-05T12:01:36.888480Z"
    },
    "papermill": {
     "duration": 0.044932,
     "end_time": "2022-07-05T12:31:25.399682",
     "exception": false,
     "start_time": "2022-07-05T12:31:25.354750",
     "status": "completed"
    },
    "tags": []
   },
   "outputs": [],
   "source": [
    "xtrain, xtest, ytrain, ytest = train_test_split(tfidf_dataa, y, test_size=0.2)"
   ]
  },
  {
   "cell_type": "markdown",
   "id": "39b4515d",
   "metadata": {
    "papermill": {
     "duration": 0.033214,
     "end_time": "2022-07-05T12:31:25.465949",
     "exception": false,
     "start_time": "2022-07-05T12:31:25.432735",
     "status": "completed"
    },
    "tags": []
   },
   "source": [
    "****"
   ]
  },
  {
   "cell_type": "markdown",
   "id": "5855b2b5",
   "metadata": {
    "papermill": {
     "duration": 0.031651,
     "end_time": "2022-07-05T12:31:25.530315",
     "exception": false,
     "start_time": "2022-07-05T12:31:25.498664",
     "status": "completed"
    },
    "tags": []
   },
   "source": [
    "# LGBMClassifier"
   ]
  },
  {
   "cell_type": "code",
   "execution_count": 17,
   "id": "c1dbcc2a",
   "metadata": {
    "execution": {
     "iopub.execute_input": "2022-07-05T12:31:25.601495Z",
     "iopub.status.busy": "2022-07-05T12:31:25.600805Z",
     "iopub.status.idle": "2022-07-05T12:31:27.778527Z",
     "shell.execute_reply": "2022-07-05T12:31:27.777981Z",
     "shell.execute_reply.started": "2022-07-05T12:01:36.902559Z"
    },
    "papermill": {
     "duration": 2.215272,
     "end_time": "2022-07-05T12:31:27.778661",
     "exception": false,
     "start_time": "2022-07-05T12:31:25.563389",
     "status": "completed"
    },
    "tags": []
   },
   "outputs": [
    {
     "data": {
      "text/html": [
       "<style type='text/css'>\n",
       ".datatable table.frame { margin-bottom: 0; }\n",
       ".datatable table.frame thead { border-bottom: none; }\n",
       ".datatable table.frame tr.coltypes td {  color: #FFFFFF;  line-height: 6px;  padding: 0 0.5em;}\n",
       ".datatable .bool    { background: #DDDD99; }\n",
       ".datatable .object  { background: #565656; }\n",
       ".datatable .int     { background: #5D9E5D; }\n",
       ".datatable .float   { background: #4040CC; }\n",
       ".datatable .str     { background: #CC4040; }\n",
       ".datatable .time    { background: #40CC40; }\n",
       ".datatable .row_index {  background: var(--jp-border-color3);  border-right: 1px solid var(--jp-border-color0);  color: var(--jp-ui-font-color3);  font-size: 9px;}\n",
       ".datatable .frame tbody td { text-align: left; }\n",
       ".datatable .frame tr.coltypes .row_index {  background: var(--jp-border-color0);}\n",
       ".datatable th:nth-child(2) { padding-left: 12px; }\n",
       ".datatable .hellipsis {  color: var(--jp-cell-editor-border-color);}\n",
       ".datatable .vellipsis {  background: var(--jp-layout-color0);  color: var(--jp-cell-editor-border-color);}\n",
       ".datatable .na {  color: var(--jp-cell-editor-border-color);  font-size: 80%;}\n",
       ".datatable .sp {  opacity: 0.25;}\n",
       ".datatable .footer { font-size: 9px; }\n",
       ".datatable .frame_dimensions {  background: var(--jp-border-color3);  border-top: 1px solid var(--jp-border-color0);  color: var(--jp-ui-font-color3);  display: inline-block;  opacity: 0.6;  padding: 1px 10px 1px 5px;}\n",
       "</style>\n"
      ],
      "text/plain": [
       "<IPython.core.display.HTML object>"
      ]
     },
     "metadata": {},
     "output_type": "display_data"
    },
    {
     "name": "stdout",
     "output_type": "stream",
     "text": [
      "LightGBM Model accuracy score: 0.5397\n"
     ]
    }
   ],
   "source": [
    "import lightgbm as lgb\n",
    "clf = lgb.LGBMClassifier()\n",
    "clf.fit(xtrain, ytrain)\n",
    "y_pred=clf.predict(xtest)\n",
    "accuracy=accuracy_score(y_pred, ytest)\n",
    "print('LightGBM Model accuracy score: {0:0.4f}'.format(accuracy_score(ytest, y_pred)))"
   ]
  },
  {
   "cell_type": "code",
   "execution_count": 18,
   "id": "b0908f07",
   "metadata": {
    "execution": {
     "iopub.execute_input": "2022-07-05T12:31:27.851889Z",
     "iopub.status.busy": "2022-07-05T12:31:27.851236Z",
     "iopub.status.idle": "2022-07-05T12:31:27.854188Z",
     "shell.execute_reply": "2022-07-05T12:31:27.854680Z",
     "shell.execute_reply.started": "2022-07-05T12:23:08.673654Z"
    },
    "papermill": {
     "duration": 0.041661,
     "end_time": "2022-07-05T12:31:27.854809",
     "exception": false,
     "start_time": "2022-07-05T12:31:27.813148",
     "status": "completed"
    },
    "tags": []
   },
   "outputs": [
    {
     "data": {
      "text/plain": [
       "array([0, 1, 2, 3, 4])"
      ]
     },
     "execution_count": 18,
     "metadata": {},
     "output_type": "execute_result"
    }
   ],
   "source": [
    "np.unique(y_pred)"
   ]
  },
  {
   "cell_type": "code",
   "execution_count": 19,
   "id": "d6b88361",
   "metadata": {
    "execution": {
     "iopub.execute_input": "2022-07-05T12:31:27.926902Z",
     "iopub.status.busy": "2022-07-05T12:31:27.926028Z",
     "iopub.status.idle": "2022-07-05T12:31:27.933765Z",
     "shell.execute_reply": "2022-07-05T12:31:27.934179Z",
     "shell.execute_reply.started": "2022-07-05T12:23:32.564684Z"
    },
    "papermill": {
     "duration": 0.045801,
     "end_time": "2022-07-05T12:31:27.934317",
     "exception": false,
     "start_time": "2022-07-05T12:31:27.888516",
     "status": "completed"
    },
    "tags": []
   },
   "outputs": [
    {
     "name": "stdout",
     "output_type": "stream",
     "text": [
      "              precision    recall  f1-score   support\n",
      "\n",
      "           0       0.56      0.62      0.59         8\n",
      "           1       0.25      0.14      0.18        14\n",
      "           2       0.64      0.77      0.70        35\n",
      "           3       0.00      0.00      0.00         2\n",
      "           4       0.00      0.00      0.00         3\n",
      "           5       0.00      0.00      0.00         1\n",
      "\n",
      "    accuracy                           0.54        63\n",
      "   macro avg       0.24      0.26      0.25        63\n",
      "weighted avg       0.48      0.54      0.50        63\n",
      "\n"
     ]
    }
   ],
   "source": [
    "from sklearn.metrics import classification_report\n",
    "print(classification_report(ytest, y_pred))"
   ]
  },
  {
   "cell_type": "code",
   "execution_count": 20,
   "id": "3253fc43",
   "metadata": {
    "execution": {
     "iopub.execute_input": "2022-07-05T12:31:28.006474Z",
     "iopub.status.busy": "2022-07-05T12:31:28.005690Z",
     "iopub.status.idle": "2022-07-05T12:31:28.008229Z",
     "shell.execute_reply": "2022-07-05T12:31:28.007749Z",
     "shell.execute_reply.started": "2022-07-05T12:23:38.643384Z"
    },
    "papermill": {
     "duration": 0.040326,
     "end_time": "2022-07-05T12:31:28.008339",
     "exception": false,
     "start_time": "2022-07-05T12:31:27.968013",
     "status": "completed"
    },
    "tags": []
   },
   "outputs": [],
   "source": [
    "y_true=le.transform(lingua_fr[\"cefr\"])"
   ]
  },
  {
   "cell_type": "code",
   "execution_count": 21,
   "id": "d720bc62",
   "metadata": {
    "execution": {
     "iopub.execute_input": "2022-07-05T12:31:28.083190Z",
     "iopub.status.busy": "2022-07-05T12:31:28.082547Z",
     "iopub.status.idle": "2022-07-05T12:31:28.085301Z",
     "shell.execute_reply": "2022-07-05T12:31:28.085751Z",
     "shell.execute_reply.started": "2022-07-05T12:23:39.353009Z"
    },
    "papermill": {
     "duration": 0.04325,
     "end_time": "2022-07-05T12:31:28.085888",
     "exception": false,
     "start_time": "2022-07-05T12:31:28.042638",
     "status": "completed"
    },
    "tags": []
   },
   "outputs": [
    {
     "data": {
      "text/plain": [
       "array([0, 1, 2, 3])"
      ]
     },
     "execution_count": 21,
     "metadata": {},
     "output_type": "execute_result"
    }
   ],
   "source": [
    "np.unique(y_true)"
   ]
  },
  {
   "cell_type": "markdown",
   "id": "aef41f1a",
   "metadata": {
    "papermill": {
     "duration": 0.034864,
     "end_time": "2022-07-05T12:31:28.155578",
     "exception": false,
     "start_time": "2022-07-05T12:31:28.120714",
     "status": "completed"
    },
    "tags": []
   },
   "source": [
    "**concatenate x train and xtest , ytrain y test and fit the model the whole data**"
   ]
  },
  {
   "cell_type": "code",
   "execution_count": 22,
   "id": "64233b85",
   "metadata": {
    "execution": {
     "iopub.execute_input": "2022-07-05T12:31:28.237743Z",
     "iopub.status.busy": "2022-07-05T12:31:28.236513Z",
     "iopub.status.idle": "2022-07-05T12:31:28.494907Z",
     "shell.execute_reply": "2022-07-05T12:31:28.495374Z",
     "shell.execute_reply.started": "2022-07-05T12:24:13.548880Z"
    },
    "papermill": {
     "duration": 0.301128,
     "end_time": "2022-07-05T12:31:28.495526",
     "exception": false,
     "start_time": "2022-07-05T12:31:28.194398",
     "status": "completed"
    },
    "tags": []
   },
   "outputs": [
    {
     "data": {
      "text/plain": [
       "LGBMClassifier()"
      ]
     },
     "execution_count": 22,
     "metadata": {},
     "output_type": "execute_result"
    }
   ],
   "source": [
    "x=pd.concat([xtrain, xtest])\n",
    "y_=np.concatenate([ytrain, ytest])\n",
    "clf.fit(x,y_)"
   ]
  },
  {
   "cell_type": "code",
   "execution_count": 23,
   "id": "d5583aaa",
   "metadata": {
    "execution": {
     "iopub.execute_input": "2022-07-05T12:31:28.569542Z",
     "iopub.status.busy": "2022-07-05T12:31:28.568798Z",
     "iopub.status.idle": "2022-07-05T12:31:28.591023Z",
     "shell.execute_reply": "2022-07-05T12:31:28.590516Z",
     "shell.execute_reply.started": "2022-07-05T12:24:19.639958Z"
    },
    "papermill": {
     "duration": 0.060543,
     "end_time": "2022-07-05T12:31:28.591181",
     "exception": false,
     "start_time": "2022-07-05T12:31:28.530638",
     "status": "completed"
    },
    "tags": []
   },
   "outputs": [],
   "source": [
    "y_pr=clf.predict(tfidf_lingua_fr)"
   ]
  },
  {
   "cell_type": "markdown",
   "id": "eef9cb7b",
   "metadata": {
    "papermill": {
     "duration": 0.034695,
     "end_time": "2022-07-05T12:31:28.661414",
     "exception": false,
     "start_time": "2022-07-05T12:31:28.626719",
     "status": "completed"
    },
    "tags": []
   },
   "source": [
    "**how many level the model could predict**"
   ]
  },
  {
   "cell_type": "code",
   "execution_count": 24,
   "id": "43daba0b",
   "metadata": {
    "execution": {
     "iopub.execute_input": "2022-07-05T12:31:28.738463Z",
     "iopub.status.busy": "2022-07-05T12:31:28.737692Z",
     "iopub.status.idle": "2022-07-05T12:31:28.740644Z",
     "shell.execute_reply": "2022-07-05T12:31:28.741070Z",
     "shell.execute_reply.started": "2022-07-05T12:24:21.695483Z"
    },
    "papermill": {
     "duration": 0.044093,
     "end_time": "2022-07-05T12:31:28.741204",
     "exception": false,
     "start_time": "2022-07-05T12:31:28.697111",
     "status": "completed"
    },
    "tags": []
   },
   "outputs": [
    {
     "data": {
      "text/plain": [
       "array([0, 1, 2])"
      ]
     },
     "execution_count": 24,
     "metadata": {},
     "output_type": "execute_result"
    }
   ],
   "source": [
    "np.unique(y_pr)"
   ]
  },
  {
   "cell_type": "markdown",
   "id": "8e20c091",
   "metadata": {
    "papermill": {
     "duration": 0.03632,
     "end_time": "2022-07-05T12:31:28.813540",
     "exception": false,
     "start_time": "2022-07-05T12:31:28.777220",
     "status": "completed"
    },
    "tags": []
   },
   "source": [
    "**Classification report**"
   ]
  },
  {
   "cell_type": "code",
   "execution_count": 25,
   "id": "16dac15e",
   "metadata": {
    "execution": {
     "iopub.execute_input": "2022-07-05T12:31:28.888823Z",
     "iopub.status.busy": "2022-07-05T12:31:28.887876Z",
     "iopub.status.idle": "2022-07-05T12:31:28.895828Z",
     "shell.execute_reply": "2022-07-05T12:31:28.895346Z",
     "shell.execute_reply.started": "2022-07-05T12:24:24.372957Z"
    },
    "papermill": {
     "duration": 0.047874,
     "end_time": "2022-07-05T12:31:28.895951",
     "exception": false,
     "start_time": "2022-07-05T12:31:28.848077",
     "status": "completed"
    },
    "tags": []
   },
   "outputs": [
    {
     "name": "stdout",
     "output_type": "stream",
     "text": [
      "              precision    recall  f1-score   support\n",
      "\n",
      "           0       0.12      0.85      0.22        13\n",
      "           1       1.00      0.04      0.07        26\n",
      "           2       0.64      0.23      0.34        60\n",
      "           3       0.00      0.00      0.00        12\n",
      "\n",
      "    accuracy                           0.23       111\n",
      "   macro avg       0.44      0.28      0.16       111\n",
      "weighted avg       0.59      0.23      0.23       111\n",
      "\n"
     ]
    }
   ],
   "source": [
    "print(classification_report(y_true, y_pr))"
   ]
  },
  {
   "cell_type": "markdown",
   "id": "b84cc976",
   "metadata": {
    "papermill": {
     "duration": 0.035934,
     "end_time": "2022-07-05T12:31:28.968312",
     "exception": false,
     "start_time": "2022-07-05T12:31:28.932378",
     "status": "completed"
    },
    "tags": []
   },
   "source": [
    "****"
   ]
  },
  {
   "cell_type": "markdown",
   "id": "29c9b439",
   "metadata": {
    "papermill": {
     "duration": 0.035745,
     "end_time": "2022-07-05T12:31:29.039120",
     "exception": false,
     "start_time": "2022-07-05T12:31:29.003375",
     "status": "completed"
    },
    "tags": []
   },
   "source": [
    "# LightGBM"
   ]
  },
  {
   "cell_type": "code",
   "execution_count": 26,
   "id": "629d8385",
   "metadata": {
    "execution": {
     "iopub.execute_input": "2022-07-05T12:31:29.119089Z",
     "iopub.status.busy": "2022-07-05T12:31:29.118220Z",
     "iopub.status.idle": "2022-07-05T12:31:29.120021Z",
     "shell.execute_reply": "2022-07-05T12:31:29.120470Z",
     "shell.execute_reply.started": "2022-07-05T12:27:31.569831Z"
    },
    "papermill": {
     "duration": 0.045474,
     "end_time": "2022-07-05T12:31:29.120597",
     "exception": false,
     "start_time": "2022-07-05T12:31:29.075123",
     "status": "completed"
    },
    "tags": []
   },
   "outputs": [],
   "source": [
    "def run_lgb(train_X, train_y, val_X, val_y,x_test):\n",
    "    params = {\n",
    "        \"objective\":\"multiclass\",\n",
    "        \"num_classes\":\"6\",\n",
    "        \"metric\" : \"multi_error\",\n",
    "        \"boosting_type\": \"gbdt\",\n",
    "        \"num_leaves\" : 10,\n",
    "        \"learning_rate\" : 0.004,\n",
    "        \"bagging_fraction\" : 0.6,\n",
    "        \"feature_fraction\" : 0.6,\n",
    "        \"bagging_frequency\" : 6,\n",
    "        \"bagging_seed\" : 42,\n",
    "        \"verbosity\" : -1,\n",
    "        \"seed\": 42\n",
    "    }\n",
    "    \n",
    "    lgtrain = lgb.Dataset(train_X, label=train_y)\n",
    "    lgval = lgb.Dataset(val_X, label=val_y)\n",
    "    evals_result = {}\n",
    "    model = lgb.train(params, lgtrain, 5000,\n",
    "                      valid_sets=[lgtrain, lgval], \n",
    "                      early_stopping_rounds=100, \n",
    "                      verbose_eval=150, \n",
    "                      evals_result=evals_result)\n",
    "    ypred=model.predict(x_test).argmax(axis=1)\n",
    "    accuracy=accuracy_score(ypred, val_y)\n",
    "    return  accuracy , model, evals_result"
   ]
  },
  {
   "cell_type": "code",
   "execution_count": 27,
   "id": "50423b89",
   "metadata": {
    "execution": {
     "iopub.execute_input": "2022-07-05T12:31:29.205952Z",
     "iopub.status.busy": "2022-07-05T12:31:29.200890Z",
     "iopub.status.idle": "2022-07-05T12:31:29.509284Z",
     "shell.execute_reply": "2022-07-05T12:31:29.510469Z",
     "shell.execute_reply.started": "2022-07-05T12:27:32.389278Z"
    },
    "papermill": {
     "duration": 0.354728,
     "end_time": "2022-07-05T12:31:29.510687",
     "exception": false,
     "start_time": "2022-07-05T12:31:29.155959",
     "status": "completed"
    },
    "tags": []
   },
   "outputs": [
    {
     "name": "stdout",
     "output_type": "stream",
     "text": [
      "[LightGBM] [Warning] Unknown parameter: bagging_frequency\n",
      "Training until validation scores don't improve for 100 rounds\n",
      "Early stopping, best iteration is:\n",
      "[1]\ttraining's multi_error: 0.501992\tvalid_1's multi_error: 0.444444\n",
      "LightGBM Training Completed...\n",
      "\n",
      " LightGBM Model accuracy score: 0.5556\n"
     ]
    }
   ],
   "source": [
    "accuracy ,model, evals_result = run_lgb(xtrain, ytrain, xtest, ytest, xtest)\n",
    "print(\"LightGBM Training Completed...\\n\\n\",'LightGBM Model accuracy score: {0:0.4f}'.format(accuracy)  )"
   ]
  },
  {
   "cell_type": "markdown",
   "id": "9772085e",
   "metadata": {
    "papermill": {
     "duration": 0.05748,
     "end_time": "2022-07-05T12:31:29.628093",
     "exception": false,
     "start_time": "2022-07-05T12:31:29.570613",
     "status": "completed"
    },
    "tags": []
   },
   "source": [
    "**how many level the model could predict**"
   ]
  },
  {
   "cell_type": "code",
   "execution_count": 28,
   "id": "d07a7ff2",
   "metadata": {
    "execution": {
     "iopub.execute_input": "2022-07-05T12:31:29.759773Z",
     "iopub.status.busy": "2022-07-05T12:31:29.759022Z",
     "iopub.status.idle": "2022-07-05T12:31:29.787075Z",
     "shell.execute_reply": "2022-07-05T12:31:29.787501Z",
     "shell.execute_reply.started": "2022-07-05T12:27:33.565481Z"
    },
    "papermill": {
     "duration": 0.100485,
     "end_time": "2022-07-05T12:31:29.787655",
     "exception": false,
     "start_time": "2022-07-05T12:31:29.687170",
     "status": "completed"
    },
    "tags": []
   },
   "outputs": [
    {
     "data": {
      "text/plain": [
       "array([2])"
      ]
     },
     "execution_count": 28,
     "metadata": {},
     "output_type": "execute_result"
    }
   ],
   "source": [
    "ypred=model.predict(xtest).argmax(axis=1)\n",
    "np.unique(ypred)"
   ]
  },
  {
   "cell_type": "markdown",
   "id": "090bd4d3",
   "metadata": {
    "papermill": {
     "duration": 0.036445,
     "end_time": "2022-07-05T12:31:29.860500",
     "exception": false,
     "start_time": "2022-07-05T12:31:29.824055",
     "status": "completed"
    },
    "tags": []
   },
   "source": [
    "****"
   ]
  },
  {
   "cell_type": "markdown",
   "id": "ad0acd63",
   "metadata": {
    "papermill": {
     "duration": 0.036192,
     "end_time": "2022-07-05T12:31:29.932567",
     "exception": false,
     "start_time": "2022-07-05T12:31:29.896375",
     "status": "completed"
    },
    "tags": []
   },
   "source": [
    "# Testing the model on lingua_fr datatset"
   ]
  },
  {
   "cell_type": "code",
   "execution_count": 29,
   "id": "a584161d",
   "metadata": {
    "execution": {
     "iopub.execute_input": "2022-07-05T12:31:30.010288Z",
     "iopub.status.busy": "2022-07-05T12:31:30.009549Z",
     "iopub.status.idle": "2022-07-05T12:31:30.030399Z",
     "shell.execute_reply": "2022-07-05T12:31:30.029913Z",
     "shell.execute_reply.started": "2022-07-05T12:27:34.731425Z"
    },
    "papermill": {
     "duration": 0.061324,
     "end_time": "2022-07-05T12:31:30.030516",
     "exception": false,
     "start_time": "2022-07-05T12:31:29.969192",
     "status": "completed"
    },
    "tags": []
   },
   "outputs": [
    {
     "data": {
      "text/plain": [
       "array([2])"
      ]
     },
     "execution_count": 29,
     "metadata": {},
     "output_type": "execute_result"
    }
   ],
   "source": [
    "ypr=model.predict(tfidf_lingua_fr).argmax(axis=1)\n",
    "np.unique(ypr)"
   ]
  },
  {
   "cell_type": "code",
   "execution_count": 30,
   "id": "e3969db1",
   "metadata": {
    "execution": {
     "iopub.execute_input": "2022-07-05T12:31:30.109035Z",
     "iopub.status.busy": "2022-07-05T12:31:30.108236Z",
     "iopub.status.idle": "2022-07-05T12:31:30.115391Z",
     "shell.execute_reply": "2022-07-05T12:31:30.115843Z",
     "shell.execute_reply.started": "2022-07-05T12:27:35.239455Z"
    },
    "papermill": {
     "duration": 0.048925,
     "end_time": "2022-07-05T12:31:30.115978",
     "exception": false,
     "start_time": "2022-07-05T12:31:30.067053",
     "status": "completed"
    },
    "tags": []
   },
   "outputs": [
    {
     "name": "stdout",
     "output_type": "stream",
     "text": [
      "              precision    recall  f1-score   support\n",
      "\n",
      "           0       0.00      0.00      0.00        13\n",
      "           1       0.00      0.00      0.00        26\n",
      "           2       0.54      1.00      0.70        60\n",
      "           3       0.00      0.00      0.00        12\n",
      "\n",
      "    accuracy                           0.54       111\n",
      "   macro avg       0.14      0.25      0.18       111\n",
      "weighted avg       0.29      0.54      0.38       111\n",
      "\n"
     ]
    }
   ],
   "source": [
    "print(classification_report(y_true, ypr))"
   ]
  },
  {
   "cell_type": "code",
   "execution_count": null,
   "id": "3fd3d0a3",
   "metadata": {
    "papermill": {
     "duration": 0.036193,
     "end_time": "2022-07-05T12:31:30.189379",
     "exception": false,
     "start_time": "2022-07-05T12:31:30.153186",
     "status": "completed"
    },
    "tags": []
   },
   "outputs": [],
   "source": []
  }
 ],
 "metadata": {
  "kernelspec": {
   "display_name": "Python 3",
   "language": "python",
   "name": "python3"
  },
  "language_info": {
   "codemirror_mode": {
    "name": "ipython",
    "version": 3
   },
   "file_extension": ".py",
   "mimetype": "text/x-python",
   "name": "python",
   "nbconvert_exporter": "python",
   "pygments_lexer": "ipython3",
   "version": "3.7.10"
  },
  "papermill": {
   "default_parameters": {},
   "duration": 25.392245,
   "end_time": "2022-07-05T12:31:33.227580",
   "environment_variables": {},
   "exception": null,
   "input_path": "__notebook__.ipynb",
   "output_path": "__notebook__.ipynb",
   "parameters": {},
   "start_time": "2022-07-05T12:31:07.835335",
   "version": "2.3.3"
  }
 },
 "nbformat": 4,
 "nbformat_minor": 5
}
