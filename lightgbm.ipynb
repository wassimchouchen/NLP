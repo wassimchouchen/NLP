{
 "cells": [
  {
   "cell_type": "code",
   "execution_count": 1,
   "id": "b12b298d",
   "metadata": {
    "_cell_guid": "b1076dfc-b9ad-4769-8c92-a6c4dae69d19",
    "_uuid": "8f2839f25d086af736a60e9eeb907d3b93b6e0e5",
    "execution": {
     "iopub.execute_input": "2022-07-05T17:33:54.157652Z",
     "iopub.status.busy": "2022-07-05T17:33:54.156145Z",
     "iopub.status.idle": "2022-07-05T17:34:01.541832Z",
     "shell.execute_reply": "2022-07-05T17:34:01.541214Z",
     "shell.execute_reply.started": "2022-07-05T17:28:20.294449Z"
    },
    "papermill": {
     "duration": 7.419827,
     "end_time": "2022-07-05T17:34:01.541991",
     "exception": false,
     "start_time": "2022-07-05T17:33:54.122164",
     "status": "completed"
    },
    "tags": []
   },
   "outputs": [],
   "source": [
    "import os\n",
    "\n",
    "import random\n",
    "import numpy as np\n",
    "\n",
    "import pandas as pd\n",
    "import torch\n",
    "from torch.utils.data import Dataset, random_split\n",
    "from sklearn.model_selection import train_test_split \n",
    "from transformers import (\n",
    "    AdamW,\n",
    "    Trainer,\n",
    "    TrainingArguments,\n",
    "    AutoTokenizer,\n",
    "    AutoModelForSequenceClassification,\n",
    "    get_cosine_schedule_with_warmup,\n",
    ")\n",
    "from sklearn.preprocessing import LabelEncoder\n",
    "from sklearn.metrics import accuracy_score\n",
    "from sklearn import preprocessing\n",
    "from sklearn.metrics import accuracy_score\n",
    "le = preprocessing.LabelEncoder()\n",
    "import warnings\n",
    "warnings.filterwarnings('ignore')"
   ]
  },
  {
   "cell_type": "code",
   "execution_count": 2,
   "id": "bd1c9442",
   "metadata": {
    "execution": {
     "iopub.execute_input": "2022-07-05T17:34:01.605739Z",
     "iopub.status.busy": "2022-07-05T17:34:01.605077Z",
     "iopub.status.idle": "2022-07-05T17:34:01.634342Z",
     "shell.execute_reply": "2022-07-05T17:34:01.634793Z",
     "shell.execute_reply.started": "2022-07-05T17:28:20.525469Z"
    },
    "papermill": {
     "duration": 0.063686,
     "end_time": "2022-07-05T17:34:01.634948",
     "exception": false,
     "start_time": "2022-07-05T17:34:01.571262",
     "status": "completed"
    },
    "tags": []
   },
   "outputs": [
    {
     "data": {
      "text/plain": [
       "(191, 3)"
      ]
     },
     "execution_count": 2,
     "metadata": {},
     "output_type": "execute_result"
    }
   ],
   "source": [
    "new_data=pd.read_csv(\"../input/csvvvv/Classeur 1 (5).csv\")\n",
    "new_data.drop([\"Y\",\"Word Count\",\"Language\",' '], axis=1, inplace=True)\n",
    "new_data.columns = [\"text\", \"CEFR Review\",\"CEFR Level_Samar\"]\n",
    "new_data.shape"
   ]
  },
  {
   "cell_type": "code",
   "execution_count": 3,
   "id": "6557bf46",
   "metadata": {
    "execution": {
     "iopub.execute_input": "2022-07-05T17:34:01.697712Z",
     "iopub.status.busy": "2022-07-05T17:34:01.697011Z",
     "iopub.status.idle": "2022-07-05T17:34:01.706373Z",
     "shell.execute_reply": "2022-07-05T17:34:01.705963Z",
     "shell.execute_reply.started": "2022-07-05T17:28:20.811340Z"
    },
    "papermill": {
     "duration": 0.042007,
     "end_time": "2022-07-05T17:34:01.706483",
     "exception": false,
     "start_time": "2022-07-05T17:34:01.664476",
     "status": "completed"
    },
    "tags": []
   },
   "outputs": [
    {
     "data": {
      "text/html": [
       "<div>\n",
       "<style scoped>\n",
       "    .dataframe tbody tr th:only-of-type {\n",
       "        vertical-align: middle;\n",
       "    }\n",
       "\n",
       "    .dataframe tbody tr th {\n",
       "        vertical-align: top;\n",
       "    }\n",
       "\n",
       "    .dataframe thead th {\n",
       "        text-align: right;\n",
       "    }\n",
       "</style>\n",
       "<table border=\"1\" class=\"dataframe\">\n",
       "  <thead>\n",
       "    <tr style=\"text-align: right;\">\n",
       "      <th></th>\n",
       "      <th>text</th>\n",
       "      <th>CEFR Review</th>\n",
       "      <th>CEFR Level_Samar</th>\n",
       "    </tr>\n",
       "  </thead>\n",
       "  <tbody>\n",
       "    <tr>\n",
       "      <th>0</th>\n",
       "      <td>En 1815, M. Charles-François-Bienvenu Myriel é...</td>\n",
       "      <td>A2</td>\n",
       "      <td>C1</td>\n",
       "    </tr>\n",
       "    <tr>\n",
       "      <th>1</th>\n",
       "      <td>Quoique ce détail ne touche en aucune manière ...</td>\n",
       "      <td>C1</td>\n",
       "      <td>C2</td>\n",
       "    </tr>\n",
       "  </tbody>\n",
       "</table>\n",
       "</div>"
      ],
      "text/plain": [
       "                                                text CEFR Review  \\\n",
       "0  En 1815, M. Charles-François-Bienvenu Myriel é...          A2   \n",
       "1  Quoique ce détail ne touche en aucune manière ...          C1   \n",
       "\n",
       "  CEFR Level_Samar  \n",
       "0               C1  \n",
       "1               C2  "
      ]
     },
     "execution_count": 3,
     "metadata": {},
     "output_type": "execute_result"
    }
   ],
   "source": [
    "new_data.head(2)"
   ]
  },
  {
   "cell_type": "markdown",
   "id": "8977702c",
   "metadata": {
    "papermill": {
     "duration": 0.028188,
     "end_time": "2022-07-05T17:34:01.764063",
     "exception": false,
     "start_time": "2022-07-05T17:34:01.735875",
     "status": "completed"
    },
    "tags": []
   },
   "source": [
    "**extract samar dataset**"
   ]
  },
  {
   "cell_type": "code",
   "execution_count": 4,
   "id": "1a9f04dc",
   "metadata": {
    "execution": {
     "iopub.execute_input": "2022-07-05T17:34:01.832984Z",
     "iopub.status.busy": "2022-07-05T17:34:01.832117Z",
     "iopub.status.idle": "2022-07-05T17:34:01.843031Z",
     "shell.execute_reply": "2022-07-05T17:34:01.842555Z",
     "shell.execute_reply.started": "2022-07-05T17:28:21.101174Z"
    },
    "papermill": {
     "duration": 0.049942,
     "end_time": "2022-07-05T17:34:01.843148",
     "exception": false,
     "start_time": "2022-07-05T17:34:01.793206",
     "status": "completed"
    },
    "tags": []
   },
   "outputs": [
    {
     "data": {
      "text/html": [
       "<div>\n",
       "<style scoped>\n",
       "    .dataframe tbody tr th:only-of-type {\n",
       "        vertical-align: middle;\n",
       "    }\n",
       "\n",
       "    .dataframe tbody tr th {\n",
       "        vertical-align: top;\n",
       "    }\n",
       "\n",
       "    .dataframe thead th {\n",
       "        text-align: right;\n",
       "    }\n",
       "</style>\n",
       "<table border=\"1\" class=\"dataframe\">\n",
       "  <thead>\n",
       "    <tr style=\"text-align: right;\">\n",
       "      <th></th>\n",
       "      <th>text</th>\n",
       "      <th>label</th>\n",
       "    </tr>\n",
       "  </thead>\n",
       "  <tbody>\n",
       "    <tr>\n",
       "      <th>0</th>\n",
       "      <td>En 1815, M. Charles-François-Bienvenu Myriel é...</td>\n",
       "      <td>C1</td>\n",
       "    </tr>\n",
       "    <tr>\n",
       "      <th>1</th>\n",
       "      <td>Quoique ce détail ne touche en aucune manière ...</td>\n",
       "      <td>C2</td>\n",
       "    </tr>\n",
       "    <tr>\n",
       "      <th>2</th>\n",
       "      <td>En 1804, M. Myriel était curé de Brignolles. I...</td>\n",
       "      <td>C1</td>\n",
       "    </tr>\n",
       "    <tr>\n",
       "      <th>3</th>\n",
       "      <td>Vers l'époque du couronnement, une petite affa...</td>\n",
       "      <td>C2</td>\n",
       "    </tr>\n",
       "    <tr>\n",
       "      <th>4</th>\n",
       "      <td>—Quel est ce bonhomme qui me regarde?</td>\n",
       "      <td>C1</td>\n",
       "    </tr>\n",
       "  </tbody>\n",
       "</table>\n",
       "</div>"
      ],
      "text/plain": [
       "                                                text label\n",
       "0  En 1815, M. Charles-François-Bienvenu Myriel é...    C1\n",
       "1  Quoique ce détail ne touche en aucune manière ...    C2\n",
       "2  En 1804, M. Myriel était curé de Brignolles. I...    C1\n",
       "3  Vers l'époque du couronnement, une petite affa...    C2\n",
       "4              —Quel est ce bonhomme qui me regarde?    C1"
      ]
     },
     "execution_count": 4,
     "metadata": {},
     "output_type": "execute_result"
    }
   ],
   "source": [
    "mike_20_june_samar=new_data[pd.notnull(new_data['CEFR Level_Samar'])]\n",
    "mike_20_june_samar.columns = [\"text\", \"CEFR Review\",\"label\"]\n",
    "mike_20_june_samar.drop([\"CEFR Review\"],axis=1, inplace=True)\n",
    "mike_20_june_samar.to_csv(\"mike_20_june_samar.csv\" , index=False)\n",
    "mike_20_june_samar.head()"
   ]
  },
  {
   "cell_type": "markdown",
   "id": "1d85b518",
   "metadata": {
    "papermill": {
     "duration": 0.030428,
     "end_time": "2022-07-05T17:34:01.902969",
     "exception": false,
     "start_time": "2022-07-05T17:34:01.872541",
     "status": "completed"
    },
    "tags": []
   },
   "source": [
    "**extract mike_new dataset**"
   ]
  },
  {
   "cell_type": "code",
   "execution_count": 5,
   "id": "9a52ea8a",
   "metadata": {
    "execution": {
     "iopub.execute_input": "2022-07-05T17:34:01.969178Z",
     "iopub.status.busy": "2022-07-05T17:34:01.968390Z",
     "iopub.status.idle": "2022-07-05T17:34:01.978948Z",
     "shell.execute_reply": "2022-07-05T17:34:01.979363Z",
     "shell.execute_reply.started": "2022-07-05T17:28:21.425471Z"
    },
    "papermill": {
     "duration": 0.047251,
     "end_time": "2022-07-05T17:34:01.979500",
     "exception": false,
     "start_time": "2022-07-05T17:34:01.932249",
     "status": "completed"
    },
    "tags": []
   },
   "outputs": [
    {
     "data": {
      "text/html": [
       "<div>\n",
       "<style scoped>\n",
       "    .dataframe tbody tr th:only-of-type {\n",
       "        vertical-align: middle;\n",
       "    }\n",
       "\n",
       "    .dataframe tbody tr th {\n",
       "        vertical-align: top;\n",
       "    }\n",
       "\n",
       "    .dataframe thead th {\n",
       "        text-align: right;\n",
       "    }\n",
       "</style>\n",
       "<table border=\"1\" class=\"dataframe\">\n",
       "  <thead>\n",
       "    <tr style=\"text-align: right;\">\n",
       "      <th></th>\n",
       "      <th>text</th>\n",
       "      <th>label</th>\n",
       "    </tr>\n",
       "  </thead>\n",
       "  <tbody>\n",
       "    <tr>\n",
       "      <th>0</th>\n",
       "      <td>En 1815, M. Charles-François-Bienvenu Myriel é...</td>\n",
       "      <td>A2</td>\n",
       "    </tr>\n",
       "    <tr>\n",
       "      <th>1</th>\n",
       "      <td>Quoique ce détail ne touche en aucune manière ...</td>\n",
       "      <td>C1</td>\n",
       "    </tr>\n",
       "    <tr>\n",
       "      <th>2</th>\n",
       "      <td>En 1804, M. Myriel était curé de Brignolles. I...</td>\n",
       "      <td>A2</td>\n",
       "    </tr>\n",
       "    <tr>\n",
       "      <th>3</th>\n",
       "      <td>Vers l'époque du couronnement, une petite affa...</td>\n",
       "      <td>B2</td>\n",
       "    </tr>\n",
       "    <tr>\n",
       "      <th>4</th>\n",
       "      <td>—Quel est ce bonhomme qui me regarde?</td>\n",
       "      <td>A2</td>\n",
       "    </tr>\n",
       "  </tbody>\n",
       "</table>\n",
       "</div>"
      ],
      "text/plain": [
       "                                                text label\n",
       "0  En 1815, M. Charles-François-Bienvenu Myriel é...    A2\n",
       "1  Quoique ce détail ne touche en aucune manière ...    C1\n",
       "2  En 1804, M. Myriel était curé de Brignolles. I...    A2\n",
       "3  Vers l'époque du couronnement, une petite affa...    B2\n",
       "4              —Quel est ce bonhomme qui me regarde?    A2"
      ]
     },
     "execution_count": 5,
     "metadata": {},
     "output_type": "execute_result"
    }
   ],
   "source": [
    "mike_20_june_new=new_data[pd.notnull(new_data['CEFR Review'])]\n",
    "mike_20_june_new.columns = [\"text\", \"label\",\"CEFR Level_Samar\"]\n",
    "mike_20_june_new.drop([\"CEFR Level_Samar\"],axis=1, inplace=True)\n",
    "mike_20_june_new.to_csv(\"mike_20_june_new.csv\" , index=False)\n",
    "mike_20_june_new.head() "
   ]
  },
  {
   "cell_type": "markdown",
   "id": "e4adaa2f",
   "metadata": {
    "papermill": {
     "duration": 0.030334,
     "end_time": "2022-07-05T17:34:02.040773",
     "exception": false,
     "start_time": "2022-07-05T17:34:02.010439",
     "status": "completed"
    },
    "tags": []
   },
   "source": [
    "**General insights about samar and mike_new datasets**"
   ]
  },
  {
   "cell_type": "code",
   "execution_count": 6,
   "id": "4fe5908a",
   "metadata": {
    "execution": {
     "iopub.execute_input": "2022-07-05T17:34:02.108609Z",
     "iopub.status.busy": "2022-07-05T17:34:02.107960Z",
     "iopub.status.idle": "2022-07-05T17:34:02.110525Z",
     "shell.execute_reply": "2022-07-05T17:34:02.110973Z",
     "shell.execute_reply.started": "2022-07-05T17:28:21.705671Z"
    },
    "papermill": {
     "duration": 0.040547,
     "end_time": "2022-07-05T17:34:02.111105",
     "exception": false,
     "start_time": "2022-07-05T17:34:02.070558",
     "status": "completed"
    },
    "tags": []
   },
   "outputs": [
    {
     "data": {
      "text/plain": [
       "(array(['C1', 'C2'], dtype=object),\n",
       " array(['A2', 'C1', 'B2', 'A1', 'B1', 'C2'], dtype=object))"
      ]
     },
     "execution_count": 6,
     "metadata": {},
     "output_type": "execute_result"
    }
   ],
   "source": [
    "mike_20_june_samar[\"label\"].unique(), mike_20_june_new[\"label\"].unique()"
   ]
  },
  {
   "cell_type": "markdown",
   "id": "2481192e",
   "metadata": {
    "papermill": {
     "duration": 0.030302,
     "end_time": "2022-07-05T17:34:02.171172",
     "exception": false,
     "start_time": "2022-07-05T17:34:02.140870",
     "status": "completed"
    },
    "tags": []
   },
   "source": [
    "****!!!! samar annotation seems to be weird because there is just C1 and C2****"
   ]
  },
  {
   "cell_type": "code",
   "execution_count": 7,
   "id": "385273e0",
   "metadata": {
    "execution": {
     "iopub.execute_input": "2022-07-05T17:34:02.290155Z",
     "iopub.status.busy": "2022-07-05T17:34:02.289450Z",
     "iopub.status.idle": "2022-07-05T17:34:02.292153Z",
     "shell.execute_reply": "2022-07-05T17:34:02.292557Z",
     "shell.execute_reply.started": "2022-07-05T17:28:21.891301Z"
    },
    "papermill": {
     "duration": 0.041751,
     "end_time": "2022-07-05T17:34:02.292727",
     "exception": false,
     "start_time": "2022-07-05T17:34:02.250976",
     "status": "completed"
    },
    "tags": []
   },
   "outputs": [
    {
     "data": {
      "text/plain": [
       "C1    58\n",
       "A1    41\n",
       "B2    33\n",
       "B1    29\n",
       "A2    24\n",
       "C2     6\n",
       "Name: label, dtype: int64"
      ]
     },
     "execution_count": 7,
     "metadata": {},
     "output_type": "execute_result"
    }
   ],
   "source": [
    "mike_20_june_new.label.value_counts()"
   ]
  },
  {
   "cell_type": "code",
   "execution_count": 8,
   "id": "8da89e9a",
   "metadata": {
    "execution": {
     "iopub.execute_input": "2022-07-05T17:34:02.361160Z",
     "iopub.status.busy": "2022-07-05T17:34:02.360556Z",
     "iopub.status.idle": "2022-07-05T17:34:02.363207Z",
     "shell.execute_reply": "2022-07-05T17:34:02.363622Z",
     "shell.execute_reply.started": "2022-07-05T17:28:22.041427Z"
    },
    "papermill": {
     "duration": 0.039852,
     "end_time": "2022-07-05T17:34:02.363758",
     "exception": false,
     "start_time": "2022-07-05T17:34:02.323906",
     "status": "completed"
    },
    "tags": []
   },
   "outputs": [
    {
     "data": {
      "text/plain": [
       "((141, 2), (191, 2))"
      ]
     },
     "execution_count": 8,
     "metadata": {},
     "output_type": "execute_result"
    }
   ],
   "source": [
    "mike_20_june_samar.shape,mike_20_june_new.shape"
   ]
  },
  {
   "cell_type": "code",
   "execution_count": 9,
   "id": "799ff042",
   "metadata": {
    "execution": {
     "iopub.execute_input": "2022-07-05T17:34:02.430900Z",
     "iopub.status.busy": "2022-07-05T17:34:02.430260Z",
     "iopub.status.idle": "2022-07-05T17:34:02.448803Z",
     "shell.execute_reply": "2022-07-05T17:34:02.449231Z",
     "shell.execute_reply.started": "2022-07-05T17:28:22.197026Z"
    },
    "papermill": {
     "duration": 0.054206,
     "end_time": "2022-07-05T17:34:02.449372",
     "exception": false,
     "start_time": "2022-07-05T17:34:02.395166",
     "status": "completed"
    },
    "tags": []
   },
   "outputs": [
    {
     "data": {
      "text/html": [
       "<div>\n",
       "<style scoped>\n",
       "    .dataframe tbody tr th:only-of-type {\n",
       "        vertical-align: middle;\n",
       "    }\n",
       "\n",
       "    .dataframe tbody tr th {\n",
       "        vertical-align: top;\n",
       "    }\n",
       "\n",
       "    .dataframe thead th {\n",
       "        text-align: right;\n",
       "    }\n",
       "</style>\n",
       "<table border=\"1\" class=\"dataframe\">\n",
       "  <thead>\n",
       "    <tr style=\"text-align: right;\">\n",
       "      <th></th>\n",
       "      <th>text</th>\n",
       "      <th>len</th>\n",
       "      <th>lang</th>\n",
       "      <th>label</th>\n",
       "    </tr>\n",
       "  </thead>\n",
       "  <tbody>\n",
       "    <tr>\n",
       "      <th>0</th>\n",
       "      <td>Il était une fois un prince qui voulait épouse...</td>\n",
       "      <td>15</td>\n",
       "      <td>FR</td>\n",
       "      <td>A2</td>\n",
       "    </tr>\n",
       "    <tr>\n",
       "      <th>1</th>\n",
       "      <td>Il fit le tour de la Terre pour en trouver une...</td>\n",
       "      <td>62</td>\n",
       "      <td>FR</td>\n",
       "      <td>B1</td>\n",
       "    </tr>\n",
       "    <tr>\n",
       "      <th>2</th>\n",
       "      <td>Un soir, par un temps affreux, éclairs et tonn...</td>\n",
       "      <td>31</td>\n",
       "      <td>FR</td>\n",
       "      <td>B1</td>\n",
       "    </tr>\n",
       "    <tr>\n",
       "      <th>3</th>\n",
       "      <td>C'était une princesse qui était là, dehors. M...</td>\n",
       "      <td>51</td>\n",
       "      <td>FR</td>\n",
       "      <td>A2</td>\n",
       "    </tr>\n",
       "    <tr>\n",
       "      <th>4</th>\n",
       "      <td>« Nous allons bien voir ça », pensait la vieil...</td>\n",
       "      <td>76</td>\n",
       "      <td>FR</td>\n",
       "      <td>B1</td>\n",
       "    </tr>\n",
       "  </tbody>\n",
       "</table>\n",
       "</div>"
      ],
      "text/plain": [
       "                                                text  len lang label\n",
       "0  Il était une fois un prince qui voulait épouse...   15   FR    A2\n",
       "1  Il fit le tour de la Terre pour en trouver une...   62   FR    B1\n",
       "2  Un soir, par un temps affreux, éclairs et tonn...   31   FR    B1\n",
       "3   C'était une princesse qui était là, dehors. M...   51   FR    A2\n",
       "4  « Nous allons bien voir ça », pensait la vieil...   76   FR    B1"
      ]
     },
     "execution_count": 9,
     "metadata": {},
     "output_type": "execute_result"
    }
   ],
   "source": [
    "trainn=pd.read_csv(\"../input/frenchcefr/french dataset.csv\")\n",
    "trainn = trainn[trainn.label != \"XX\"]\n",
    "trainn.head()"
   ]
  },
  {
   "cell_type": "code",
   "execution_count": 10,
   "id": "a83158fc",
   "metadata": {
    "execution": {
     "iopub.execute_input": "2022-07-05T17:34:02.516744Z",
     "iopub.status.busy": "2022-07-05T17:34:02.516090Z",
     "iopub.status.idle": "2022-07-05T17:34:02.530656Z",
     "shell.execute_reply": "2022-07-05T17:34:02.530157Z",
     "shell.execute_reply.started": "2022-07-05T17:28:22.345028Z"
    },
    "papermill": {
     "duration": 0.049842,
     "end_time": "2022-07-05T17:34:02.530777",
     "exception": false,
     "start_time": "2022-07-05T17:34:02.480935",
     "status": "completed"
    },
    "tags": []
   },
   "outputs": [],
   "source": [
    "lingua_fr=pd.read_csv(\"../input/lingua/fr_lingua.csv\")"
   ]
  },
  {
   "cell_type": "markdown",
   "id": "b9df5603",
   "metadata": {
    "papermill": {
     "duration": 0.031555,
     "end_time": "2022-07-05T17:34:02.593815",
     "exception": false,
     "start_time": "2022-07-05T17:34:02.562260",
     "status": "completed"
    },
    "tags": []
   },
   "source": [
    "**tfidf of the train_data**"
   ]
  },
  {
   "cell_type": "code",
   "execution_count": 11,
   "id": "3e15f124",
   "metadata": {
    "execution": {
     "iopub.execute_input": "2022-07-05T17:34:02.664862Z",
     "iopub.status.busy": "2022-07-05T17:34:02.663991Z",
     "iopub.status.idle": "2022-07-05T17:34:02.666973Z",
     "shell.execute_reply": "2022-07-05T17:34:02.667377Z",
     "shell.execute_reply.started": "2022-07-05T17:28:22.436019Z"
    },
    "papermill": {
     "duration": 0.041745,
     "end_time": "2022-07-05T17:34:02.667522",
     "exception": false,
     "start_time": "2022-07-05T17:34:02.625777",
     "status": "completed"
    },
    "tags": []
   },
   "outputs": [],
   "source": [
    "train_set_df=pd.concat([trainn, mike_20_june_new], ignore_index=True)"
   ]
  },
  {
   "cell_type": "code",
   "execution_count": 12,
   "id": "b7d59799",
   "metadata": {
    "_kg_hide-output": true,
    "execution": {
     "iopub.execute_input": "2022-07-05T17:34:02.736266Z",
     "iopub.status.busy": "2022-07-05T17:34:02.735639Z",
     "iopub.status.idle": "2022-07-05T17:34:02.831601Z",
     "shell.execute_reply": "2022-07-05T17:34:02.832065Z",
     "shell.execute_reply.started": "2022-07-05T17:28:22.534346Z"
    },
    "papermill": {
     "duration": 0.133267,
     "end_time": "2022-07-05T17:34:02.832218",
     "exception": false,
     "start_time": "2022-07-05T17:34:02.698951",
     "status": "completed"
    },
    "tags": []
   },
   "outputs": [
    {
     "data": {
      "text/html": [
       "<div>\n",
       "<style scoped>\n",
       "    .dataframe tbody tr th:only-of-type {\n",
       "        vertical-align: middle;\n",
       "    }\n",
       "\n",
       "    .dataframe tbody tr th {\n",
       "        vertical-align: top;\n",
       "    }\n",
       "\n",
       "    .dataframe thead th {\n",
       "        text-align: right;\n",
       "    }\n",
       "</style>\n",
       "<table border=\"1\" class=\"dataframe\">\n",
       "  <thead>\n",
       "    <tr style=\"text-align: right;\">\n",
       "      <th></th>\n",
       "      <th>1714</th>\n",
       "      <th>29</th>\n",
       "      <th>abbé</th>\n",
       "      <th>abord</th>\n",
       "      <th>accepta</th>\n",
       "      <th>accepté</th>\n",
       "      <th>accord</th>\n",
       "      <th>accrochée</th>\n",
       "      <th>accès</th>\n",
       "      <th>acheta</th>\n",
       "      <th>...</th>\n",
       "      <th>évincer</th>\n",
       "      <th>événements</th>\n",
       "      <th>évêché</th>\n",
       "      <th>évêque</th>\n",
       "      <th>évêques</th>\n",
       "      <th>êtes</th>\n",
       "      <th>être</th>\n",
       "      <th>êtres</th>\n",
       "      <th>œil</th>\n",
       "      <th>œuvre</th>\n",
       "    </tr>\n",
       "  </thead>\n",
       "  <tbody>\n",
       "    <tr>\n",
       "      <th>0</th>\n",
       "      <td>0.0</td>\n",
       "      <td>0.0</td>\n",
       "      <td>0.0</td>\n",
       "      <td>0.0</td>\n",
       "      <td>0.0</td>\n",
       "      <td>0.0</td>\n",
       "      <td>0.0</td>\n",
       "      <td>0.00000</td>\n",
       "      <td>0.0</td>\n",
       "      <td>0.0</td>\n",
       "      <td>...</td>\n",
       "      <td>0.0</td>\n",
       "      <td>0.0</td>\n",
       "      <td>0.0</td>\n",
       "      <td>0.0</td>\n",
       "      <td>0.0</td>\n",
       "      <td>0.0</td>\n",
       "      <td>0.000000</td>\n",
       "      <td>0.0</td>\n",
       "      <td>0.0</td>\n",
       "      <td>0.0</td>\n",
       "    </tr>\n",
       "    <tr>\n",
       "      <th>1</th>\n",
       "      <td>0.0</td>\n",
       "      <td>0.0</td>\n",
       "      <td>0.0</td>\n",
       "      <td>0.0</td>\n",
       "      <td>0.0</td>\n",
       "      <td>0.0</td>\n",
       "      <td>0.0</td>\n",
       "      <td>0.00000</td>\n",
       "      <td>0.0</td>\n",
       "      <td>0.0</td>\n",
       "      <td>...</td>\n",
       "      <td>0.0</td>\n",
       "      <td>0.0</td>\n",
       "      <td>0.0</td>\n",
       "      <td>0.0</td>\n",
       "      <td>0.0</td>\n",
       "      <td>0.0</td>\n",
       "      <td>0.000000</td>\n",
       "      <td>0.0</td>\n",
       "      <td>0.0</td>\n",
       "      <td>0.0</td>\n",
       "    </tr>\n",
       "    <tr>\n",
       "      <th>2</th>\n",
       "      <td>0.0</td>\n",
       "      <td>0.0</td>\n",
       "      <td>0.0</td>\n",
       "      <td>0.0</td>\n",
       "      <td>0.0</td>\n",
       "      <td>0.0</td>\n",
       "      <td>0.0</td>\n",
       "      <td>0.00000</td>\n",
       "      <td>0.0</td>\n",
       "      <td>0.0</td>\n",
       "      <td>...</td>\n",
       "      <td>0.0</td>\n",
       "      <td>0.0</td>\n",
       "      <td>0.0</td>\n",
       "      <td>0.0</td>\n",
       "      <td>0.0</td>\n",
       "      <td>0.0</td>\n",
       "      <td>0.000000</td>\n",
       "      <td>0.0</td>\n",
       "      <td>0.0</td>\n",
       "      <td>0.0</td>\n",
       "    </tr>\n",
       "    <tr>\n",
       "      <th>3</th>\n",
       "      <td>0.0</td>\n",
       "      <td>0.0</td>\n",
       "      <td>0.0</td>\n",
       "      <td>0.0</td>\n",
       "      <td>0.0</td>\n",
       "      <td>0.0</td>\n",
       "      <td>0.0</td>\n",
       "      <td>0.00000</td>\n",
       "      <td>0.0</td>\n",
       "      <td>0.0</td>\n",
       "      <td>...</td>\n",
       "      <td>0.0</td>\n",
       "      <td>0.0</td>\n",
       "      <td>0.0</td>\n",
       "      <td>0.0</td>\n",
       "      <td>0.0</td>\n",
       "      <td>0.0</td>\n",
       "      <td>0.130339</td>\n",
       "      <td>0.0</td>\n",
       "      <td>0.0</td>\n",
       "      <td>0.0</td>\n",
       "    </tr>\n",
       "    <tr>\n",
       "      <th>4</th>\n",
       "      <td>0.0</td>\n",
       "      <td>0.0</td>\n",
       "      <td>0.0</td>\n",
       "      <td>0.0</td>\n",
       "      <td>0.0</td>\n",
       "      <td>0.0</td>\n",
       "      <td>0.0</td>\n",
       "      <td>0.00000</td>\n",
       "      <td>0.0</td>\n",
       "      <td>0.0</td>\n",
       "      <td>...</td>\n",
       "      <td>0.0</td>\n",
       "      <td>0.0</td>\n",
       "      <td>0.0</td>\n",
       "      <td>0.0</td>\n",
       "      <td>0.0</td>\n",
       "      <td>0.0</td>\n",
       "      <td>0.000000</td>\n",
       "      <td>0.0</td>\n",
       "      <td>0.0</td>\n",
       "      <td>0.0</td>\n",
       "    </tr>\n",
       "    <tr>\n",
       "      <th>...</th>\n",
       "      <td>...</td>\n",
       "      <td>...</td>\n",
       "      <td>...</td>\n",
       "      <td>...</td>\n",
       "      <td>...</td>\n",
       "      <td>...</td>\n",
       "      <td>...</td>\n",
       "      <td>...</td>\n",
       "      <td>...</td>\n",
       "      <td>...</td>\n",
       "      <td>...</td>\n",
       "      <td>...</td>\n",
       "      <td>...</td>\n",
       "      <td>...</td>\n",
       "      <td>...</td>\n",
       "      <td>...</td>\n",
       "      <td>...</td>\n",
       "      <td>...</td>\n",
       "      <td>...</td>\n",
       "      <td>...</td>\n",
       "      <td>...</td>\n",
       "    </tr>\n",
       "    <tr>\n",
       "      <th>500</th>\n",
       "      <td>0.0</td>\n",
       "      <td>0.0</td>\n",
       "      <td>0.0</td>\n",
       "      <td>0.0</td>\n",
       "      <td>0.0</td>\n",
       "      <td>0.0</td>\n",
       "      <td>0.0</td>\n",
       "      <td>0.00000</td>\n",
       "      <td>0.0</td>\n",
       "      <td>0.0</td>\n",
       "      <td>...</td>\n",
       "      <td>0.0</td>\n",
       "      <td>0.0</td>\n",
       "      <td>0.0</td>\n",
       "      <td>0.0</td>\n",
       "      <td>0.0</td>\n",
       "      <td>0.0</td>\n",
       "      <td>0.000000</td>\n",
       "      <td>0.0</td>\n",
       "      <td>0.0</td>\n",
       "      <td>0.0</td>\n",
       "    </tr>\n",
       "    <tr>\n",
       "      <th>501</th>\n",
       "      <td>0.0</td>\n",
       "      <td>0.0</td>\n",
       "      <td>0.0</td>\n",
       "      <td>0.0</td>\n",
       "      <td>0.0</td>\n",
       "      <td>0.0</td>\n",
       "      <td>0.0</td>\n",
       "      <td>0.00000</td>\n",
       "      <td>0.0</td>\n",
       "      <td>0.0</td>\n",
       "      <td>...</td>\n",
       "      <td>0.0</td>\n",
       "      <td>0.0</td>\n",
       "      <td>0.0</td>\n",
       "      <td>0.0</td>\n",
       "      <td>0.0</td>\n",
       "      <td>0.0</td>\n",
       "      <td>0.000000</td>\n",
       "      <td>0.0</td>\n",
       "      <td>0.0</td>\n",
       "      <td>0.0</td>\n",
       "    </tr>\n",
       "    <tr>\n",
       "      <th>502</th>\n",
       "      <td>0.0</td>\n",
       "      <td>0.0</td>\n",
       "      <td>0.0</td>\n",
       "      <td>0.0</td>\n",
       "      <td>0.0</td>\n",
       "      <td>0.0</td>\n",
       "      <td>0.0</td>\n",
       "      <td>0.00000</td>\n",
       "      <td>0.0</td>\n",
       "      <td>0.0</td>\n",
       "      <td>...</td>\n",
       "      <td>0.0</td>\n",
       "      <td>0.0</td>\n",
       "      <td>0.0</td>\n",
       "      <td>0.0</td>\n",
       "      <td>0.0</td>\n",
       "      <td>0.0</td>\n",
       "      <td>0.000000</td>\n",
       "      <td>0.0</td>\n",
       "      <td>0.0</td>\n",
       "      <td>0.0</td>\n",
       "    </tr>\n",
       "    <tr>\n",
       "      <th>503</th>\n",
       "      <td>0.0</td>\n",
       "      <td>0.0</td>\n",
       "      <td>0.0</td>\n",
       "      <td>0.0</td>\n",
       "      <td>0.0</td>\n",
       "      <td>0.0</td>\n",
       "      <td>0.0</td>\n",
       "      <td>0.00000</td>\n",
       "      <td>0.0</td>\n",
       "      <td>0.0</td>\n",
       "      <td>...</td>\n",
       "      <td>0.0</td>\n",
       "      <td>0.0</td>\n",
       "      <td>0.0</td>\n",
       "      <td>0.0</td>\n",
       "      <td>0.0</td>\n",
       "      <td>0.0</td>\n",
       "      <td>0.000000</td>\n",
       "      <td>0.0</td>\n",
       "      <td>0.0</td>\n",
       "      <td>0.0</td>\n",
       "    </tr>\n",
       "    <tr>\n",
       "      <th>504</th>\n",
       "      <td>0.0</td>\n",
       "      <td>0.0</td>\n",
       "      <td>0.0</td>\n",
       "      <td>0.0</td>\n",
       "      <td>0.0</td>\n",
       "      <td>0.0</td>\n",
       "      <td>0.0</td>\n",
       "      <td>0.20143</td>\n",
       "      <td>0.0</td>\n",
       "      <td>0.0</td>\n",
       "      <td>...</td>\n",
       "      <td>0.0</td>\n",
       "      <td>0.0</td>\n",
       "      <td>0.0</td>\n",
       "      <td>0.0</td>\n",
       "      <td>0.0</td>\n",
       "      <td>0.0</td>\n",
       "      <td>0.000000</td>\n",
       "      <td>0.0</td>\n",
       "      <td>0.0</td>\n",
       "      <td>0.0</td>\n",
       "    </tr>\n",
       "  </tbody>\n",
       "</table>\n",
       "<p>505 rows × 2400 columns</p>\n",
       "</div>"
      ],
      "text/plain": [
       "     1714   29  abbé  abord  accepta  accepté  accord  accrochée  accès  \\\n",
       "0     0.0  0.0   0.0    0.0      0.0      0.0     0.0    0.00000    0.0   \n",
       "1     0.0  0.0   0.0    0.0      0.0      0.0     0.0    0.00000    0.0   \n",
       "2     0.0  0.0   0.0    0.0      0.0      0.0     0.0    0.00000    0.0   \n",
       "3     0.0  0.0   0.0    0.0      0.0      0.0     0.0    0.00000    0.0   \n",
       "4     0.0  0.0   0.0    0.0      0.0      0.0     0.0    0.00000    0.0   \n",
       "..    ...  ...   ...    ...      ...      ...     ...        ...    ...   \n",
       "500   0.0  0.0   0.0    0.0      0.0      0.0     0.0    0.00000    0.0   \n",
       "501   0.0  0.0   0.0    0.0      0.0      0.0     0.0    0.00000    0.0   \n",
       "502   0.0  0.0   0.0    0.0      0.0      0.0     0.0    0.00000    0.0   \n",
       "503   0.0  0.0   0.0    0.0      0.0      0.0     0.0    0.00000    0.0   \n",
       "504   0.0  0.0   0.0    0.0      0.0      0.0     0.0    0.20143    0.0   \n",
       "\n",
       "     acheta  ...  évincer  événements  évêché  évêque  évêques  êtes  \\\n",
       "0       0.0  ...      0.0         0.0     0.0     0.0      0.0   0.0   \n",
       "1       0.0  ...      0.0         0.0     0.0     0.0      0.0   0.0   \n",
       "2       0.0  ...      0.0         0.0     0.0     0.0      0.0   0.0   \n",
       "3       0.0  ...      0.0         0.0     0.0     0.0      0.0   0.0   \n",
       "4       0.0  ...      0.0         0.0     0.0     0.0      0.0   0.0   \n",
       "..      ...  ...      ...         ...     ...     ...      ...   ...   \n",
       "500     0.0  ...      0.0         0.0     0.0     0.0      0.0   0.0   \n",
       "501     0.0  ...      0.0         0.0     0.0     0.0      0.0   0.0   \n",
       "502     0.0  ...      0.0         0.0     0.0     0.0      0.0   0.0   \n",
       "503     0.0  ...      0.0         0.0     0.0     0.0      0.0   0.0   \n",
       "504     0.0  ...      0.0         0.0     0.0     0.0      0.0   0.0   \n",
       "\n",
       "         être  êtres  œil  œuvre  \n",
       "0    0.000000    0.0  0.0    0.0  \n",
       "1    0.000000    0.0  0.0    0.0  \n",
       "2    0.000000    0.0  0.0    0.0  \n",
       "3    0.130339    0.0  0.0    0.0  \n",
       "4    0.000000    0.0  0.0    0.0  \n",
       "..        ...    ...  ...    ...  \n",
       "500  0.000000    0.0  0.0    0.0  \n",
       "501  0.000000    0.0  0.0    0.0  \n",
       "502  0.000000    0.0  0.0    0.0  \n",
       "503  0.000000    0.0  0.0    0.0  \n",
       "504  0.000000    0.0  0.0    0.0  \n",
       "\n",
       "[505 rows x 2400 columns]"
      ]
     },
     "execution_count": 12,
     "metadata": {},
     "output_type": "execute_result"
    }
   ],
   "source": [
    "from sklearn.feature_extraction.text import CountVectorizer, TfidfVectorizer\n",
    "vectorizer = TfidfVectorizer(max_features=2400)\n",
    "tfidf_data = vectorizer.fit_transform(train_set_df[\"text\"]).toarray()\n",
    "features = vectorizer.get_feature_names()\n",
    "tfidf_dataa = pd.DataFrame(tfidf_data, columns=features)\n",
    "tfidf_dataa"
   ]
  },
  {
   "cell_type": "markdown",
   "id": "66143f97",
   "metadata": {
    "papermill": {
     "duration": 0.032364,
     "end_time": "2022-07-05T17:34:02.899222",
     "exception": false,
     "start_time": "2022-07-05T17:34:02.866858",
     "status": "completed"
    },
    "tags": []
   },
   "source": [
    "**tfidf of the test data**"
   ]
  },
  {
   "cell_type": "code",
   "execution_count": 13,
   "id": "4ab34ad0",
   "metadata": {
    "execution": {
     "iopub.execute_input": "2022-07-05T17:34:02.986737Z",
     "iopub.status.busy": "2022-07-05T17:34:02.985865Z",
     "iopub.status.idle": "2022-07-05T17:34:03.001450Z",
     "shell.execute_reply": "2022-07-05T17:34:03.000404Z",
     "shell.execute_reply.started": "2022-07-05T17:28:22.688849Z"
    },
    "papermill": {
     "duration": 0.070109,
     "end_time": "2022-07-05T17:34:03.001613",
     "exception": false,
     "start_time": "2022-07-05T17:34:02.931504",
     "status": "completed"
    },
    "tags": []
   },
   "outputs": [],
   "source": [
    "from sklearn.feature_extraction.text import CountVectorizer, TfidfVectorizer\n",
    "vectorizer = TfidfVectorizer(max_features=2400)\n",
    "tfidf_data = vectorizer.fit_transform(lingua_fr[\"text\"]).toarray()\n",
    "features = vectorizer.get_feature_names()\n",
    "tfidf_lingua_fr = pd.DataFrame(tfidf_data, columns=features)"
   ]
  },
  {
   "cell_type": "code",
   "execution_count": 14,
   "id": "9ff5dee8",
   "metadata": {
    "execution": {
     "iopub.execute_input": "2022-07-05T17:34:03.072184Z",
     "iopub.status.busy": "2022-07-05T17:34:03.071537Z",
     "iopub.status.idle": "2022-07-05T17:34:03.074157Z",
     "shell.execute_reply": "2022-07-05T17:34:03.074583Z",
     "shell.execute_reply.started": "2022-07-05T17:28:22.846501Z"
    },
    "papermill": {
     "duration": 0.040168,
     "end_time": "2022-07-05T17:34:03.074726",
     "exception": false,
     "start_time": "2022-07-05T17:34:03.034558",
     "status": "completed"
    },
    "tags": []
   },
   "outputs": [
    {
     "data": {
      "text/plain": [
       "array(['A2', 'B1', 'A1', 'B2', 'C1', 'C2'], dtype=object)"
      ]
     },
     "execution_count": 14,
     "metadata": {},
     "output_type": "execute_result"
    }
   ],
   "source": [
    "y=train_set_df[\"label\"]\n",
    "y.unique()"
   ]
  },
  {
   "cell_type": "markdown",
   "id": "37ef4de4",
   "metadata": {
    "papermill": {
     "duration": 0.032936,
     "end_time": "2022-07-05T17:34:03.139362",
     "exception": false,
     "start_time": "2022-07-05T17:34:03.106426",
     "status": "completed"
    },
    "tags": []
   },
   "source": [
    "**encoding y**"
   ]
  },
  {
   "cell_type": "code",
   "execution_count": 15,
   "id": "60fe3db4",
   "metadata": {
    "execution": {
     "iopub.execute_input": "2022-07-05T17:34:03.208507Z",
     "iopub.status.busy": "2022-07-05T17:34:03.207689Z",
     "iopub.status.idle": "2022-07-05T17:34:03.209745Z",
     "shell.execute_reply": "2022-07-05T17:34:03.210217Z",
     "shell.execute_reply.started": "2022-07-05T17:28:23.011294Z"
    },
    "papermill": {
     "duration": 0.039156,
     "end_time": "2022-07-05T17:34:03.210380",
     "exception": false,
     "start_time": "2022-07-05T17:34:03.171224",
     "status": "completed"
    },
    "tags": []
   },
   "outputs": [],
   "source": [
    "y = le.fit_transform(y)"
   ]
  },
  {
   "cell_type": "code",
   "execution_count": 16,
   "id": "c9f9a7d7",
   "metadata": {
    "execution": {
     "iopub.execute_input": "2022-07-05T17:34:03.282240Z",
     "iopub.status.busy": "2022-07-05T17:34:03.281551Z",
     "iopub.status.idle": "2022-07-05T17:34:03.284167Z",
     "shell.execute_reply": "2022-07-05T17:34:03.284627Z",
     "shell.execute_reply.started": "2022-07-05T17:28:23.249702Z"
    },
    "papermill": {
     "duration": 0.041908,
     "end_time": "2022-07-05T17:34:03.284757",
     "exception": false,
     "start_time": "2022-07-05T17:34:03.242849",
     "status": "completed"
    },
    "tags": []
   },
   "outputs": [
    {
     "data": {
      "text/plain": [
       "array([0, 1, 2, 3, 4, 5])"
      ]
     },
     "execution_count": 16,
     "metadata": {},
     "output_type": "execute_result"
    }
   ],
   "source": [
    "np.unique(y)"
   ]
  },
  {
   "cell_type": "markdown",
   "id": "b3b9af98",
   "metadata": {
    "papermill": {
     "duration": 0.033129,
     "end_time": "2022-07-05T17:34:03.351110",
     "exception": false,
     "start_time": "2022-07-05T17:34:03.317981",
     "status": "completed"
    },
    "tags": []
   },
   "source": [
    "**split data**"
   ]
  },
  {
   "cell_type": "code",
   "execution_count": 17,
   "id": "0c3cb711",
   "metadata": {
    "execution": {
     "iopub.execute_input": "2022-07-05T17:34:03.429960Z",
     "iopub.status.busy": "2022-07-05T17:34:03.429042Z",
     "iopub.status.idle": "2022-07-05T17:34:03.430786Z",
     "shell.execute_reply": "2022-07-05T17:34:03.431226Z",
     "shell.execute_reply.started": "2022-07-05T17:28:23.459151Z"
    },
    "papermill": {
     "duration": 0.047595,
     "end_time": "2022-07-05T17:34:03.431363",
     "exception": false,
     "start_time": "2022-07-05T17:34:03.383768",
     "status": "completed"
    },
    "tags": []
   },
   "outputs": [],
   "source": [
    "xtrain, xtest, ytrain, ytest = train_test_split(tfidf_dataa, y, test_size=0.1, random_state=11)"
   ]
  },
  {
   "cell_type": "markdown",
   "id": "37b5a516",
   "metadata": {
    "papermill": {
     "duration": 0.03184,
     "end_time": "2022-07-05T17:34:03.495530",
     "exception": false,
     "start_time": "2022-07-05T17:34:03.463690",
     "status": "completed"
    },
    "tags": []
   },
   "source": [
    "****"
   ]
  },
  {
   "cell_type": "markdown",
   "id": "3b767d1b",
   "metadata": {
    "papermill": {
     "duration": 0.031742,
     "end_time": "2022-07-05T17:34:03.560278",
     "exception": false,
     "start_time": "2022-07-05T17:34:03.528536",
     "status": "completed"
    },
    "tags": []
   },
   "source": [
    "# LGBMClassifier"
   ]
  },
  {
   "cell_type": "code",
   "execution_count": 18,
   "id": "59ea2fc1",
   "metadata": {
    "execution": {
     "iopub.execute_input": "2022-07-05T17:34:03.630905Z",
     "iopub.status.busy": "2022-07-05T17:34:03.630036Z",
     "iopub.status.idle": "2022-07-05T17:34:05.994821Z",
     "shell.execute_reply": "2022-07-05T17:34:05.994329Z",
     "shell.execute_reply.started": "2022-07-05T17:28:23.654480Z"
    },
    "papermill": {
     "duration": 2.402337,
     "end_time": "2022-07-05T17:34:05.994958",
     "exception": false,
     "start_time": "2022-07-05T17:34:03.592621",
     "status": "completed"
    },
    "tags": []
   },
   "outputs": [
    {
     "data": {
      "text/html": [
       "<style type='text/css'>\n",
       ".datatable table.frame { margin-bottom: 0; }\n",
       ".datatable table.frame thead { border-bottom: none; }\n",
       ".datatable table.frame tr.coltypes td {  color: #FFFFFF;  line-height: 6px;  padding: 0 0.5em;}\n",
       ".datatable .bool    { background: #DDDD99; }\n",
       ".datatable .object  { background: #565656; }\n",
       ".datatable .int     { background: #5D9E5D; }\n",
       ".datatable .float   { background: #4040CC; }\n",
       ".datatable .str     { background: #CC4040; }\n",
       ".datatable .time    { background: #40CC40; }\n",
       ".datatable .row_index {  background: var(--jp-border-color3);  border-right: 1px solid var(--jp-border-color0);  color: var(--jp-ui-font-color3);  font-size: 9px;}\n",
       ".datatable .frame tbody td { text-align: left; }\n",
       ".datatable .frame tr.coltypes .row_index {  background: var(--jp-border-color0);}\n",
       ".datatable th:nth-child(2) { padding-left: 12px; }\n",
       ".datatable .hellipsis {  color: var(--jp-cell-editor-border-color);}\n",
       ".datatable .vellipsis {  background: var(--jp-layout-color0);  color: var(--jp-cell-editor-border-color);}\n",
       ".datatable .na {  color: var(--jp-cell-editor-border-color);  font-size: 80%;}\n",
       ".datatable .sp {  opacity: 0.25;}\n",
       ".datatable .footer { font-size: 9px; }\n",
       ".datatable .frame_dimensions {  background: var(--jp-border-color3);  border-top: 1px solid var(--jp-border-color0);  color: var(--jp-ui-font-color3);  display: inline-block;  opacity: 0.6;  padding: 1px 10px 1px 5px;}\n",
       "</style>\n"
      ],
      "text/plain": [
       "<IPython.core.display.HTML object>"
      ]
     },
     "metadata": {},
     "output_type": "display_data"
    },
    {
     "name": "stdout",
     "output_type": "stream",
     "text": [
      "LightGBM Model accuracy score: 0.5686\n"
     ]
    }
   ],
   "source": [
    "import lightgbm as lgb\n",
    "clf = lgb.LGBMClassifier()\n",
    "clf.fit(xtrain, ytrain)\n",
    "y_pred=clf.predict(xtest)\n",
    "accuracy=accuracy_score(y_pred, ytest)\n",
    "print('LightGBM Model accuracy score: {0:0.4f}'.format(accuracy_score(ytest, y_pred)))"
   ]
  },
  {
   "cell_type": "code",
   "execution_count": 19,
   "id": "055227b4",
   "metadata": {
    "execution": {
     "iopub.execute_input": "2022-07-05T17:34:06.068460Z",
     "iopub.status.busy": "2022-07-05T17:34:06.067784Z",
     "iopub.status.idle": "2022-07-05T17:34:06.070517Z",
     "shell.execute_reply": "2022-07-05T17:34:06.070944Z",
     "shell.execute_reply.started": "2022-07-05T17:28:24.211358Z"
    },
    "papermill": {
     "duration": 0.041807,
     "end_time": "2022-07-05T17:34:06.071079",
     "exception": false,
     "start_time": "2022-07-05T17:34:06.029272",
     "status": "completed"
    },
    "tags": []
   },
   "outputs": [
    {
     "data": {
      "text/plain": [
       "array([0, 1, 2, 3, 4, 5])"
      ]
     },
     "execution_count": 19,
     "metadata": {},
     "output_type": "execute_result"
    }
   ],
   "source": [
    "np.unique(y_pred)"
   ]
  },
  {
   "cell_type": "code",
   "execution_count": 20,
   "id": "cbe4d8b7",
   "metadata": {
    "execution": {
     "iopub.execute_input": "2022-07-05T17:34:06.143996Z",
     "iopub.status.busy": "2022-07-05T17:34:06.143121Z",
     "iopub.status.idle": "2022-07-05T17:34:06.150384Z",
     "shell.execute_reply": "2022-07-05T17:34:06.150891Z",
     "shell.execute_reply.started": "2022-07-05T17:28:24.221239Z"
    },
    "papermill": {
     "duration": 0.046234,
     "end_time": "2022-07-05T17:34:06.151039",
     "exception": false,
     "start_time": "2022-07-05T17:34:06.104805",
     "status": "completed"
    },
    "tags": []
   },
   "outputs": [
    {
     "name": "stdout",
     "output_type": "stream",
     "text": [
      "              precision    recall  f1-score   support\n",
      "\n",
      "           0       0.60      0.86      0.71         7\n",
      "           1       0.33      0.12      0.18         8\n",
      "           2       0.57      0.72      0.63        18\n",
      "           3       0.33      0.14      0.20         7\n",
      "           4       0.73      0.89      0.80         9\n",
      "           5       0.00      0.00      0.00         2\n",
      "\n",
      "    accuracy                           0.57        51\n",
      "   macro avg       0.43      0.46      0.42        51\n",
      "weighted avg       0.51      0.57      0.52        51\n",
      "\n"
     ]
    }
   ],
   "source": [
    "from sklearn.metrics import classification_report\n",
    "print(classification_report(ytest, y_pred))"
   ]
  },
  {
   "cell_type": "code",
   "execution_count": 21,
   "id": "eddf19bc",
   "metadata": {
    "execution": {
     "iopub.execute_input": "2022-07-05T17:34:06.225952Z",
     "iopub.status.busy": "2022-07-05T17:34:06.225075Z",
     "iopub.status.idle": "2022-07-05T17:34:06.227828Z",
     "shell.execute_reply": "2022-07-05T17:34:06.227295Z",
     "shell.execute_reply.started": "2022-07-05T17:28:24.237338Z"
    },
    "papermill": {
     "duration": 0.042725,
     "end_time": "2022-07-05T17:34:06.227957",
     "exception": false,
     "start_time": "2022-07-05T17:34:06.185232",
     "status": "completed"
    },
    "tags": []
   },
   "outputs": [],
   "source": [
    "y_true=le.transform(lingua_fr[\"cefr\"])"
   ]
  },
  {
   "cell_type": "code",
   "execution_count": 22,
   "id": "a6e6e09d",
   "metadata": {
    "execution": {
     "iopub.execute_input": "2022-07-05T17:34:06.308820Z",
     "iopub.status.busy": "2022-07-05T17:34:06.308004Z",
     "iopub.status.idle": "2022-07-05T17:34:06.312591Z",
     "shell.execute_reply": "2022-07-05T17:34:06.313011Z",
     "shell.execute_reply.started": "2022-07-05T17:28:24.244698Z"
    },
    "papermill": {
     "duration": 0.050486,
     "end_time": "2022-07-05T17:34:06.313160",
     "exception": false,
     "start_time": "2022-07-05T17:34:06.262674",
     "status": "completed"
    },
    "tags": []
   },
   "outputs": [
    {
     "data": {
      "text/plain": [
       "array([0, 1, 2, 3])"
      ]
     },
     "execution_count": 22,
     "metadata": {},
     "output_type": "execute_result"
    }
   ],
   "source": [
    "np.unique(y_true)"
   ]
  },
  {
   "cell_type": "markdown",
   "id": "14ef2b32",
   "metadata": {
    "papermill": {
     "duration": 0.033954,
     "end_time": "2022-07-05T17:34:06.381952",
     "exception": false,
     "start_time": "2022-07-05T17:34:06.347998",
     "status": "completed"
    },
    "tags": []
   },
   "source": [
    "**concatenate x train and xtest , ytrain y test and fit the model the whole data**"
   ]
  },
  {
   "cell_type": "code",
   "execution_count": 23,
   "id": "e1187349",
   "metadata": {
    "execution": {
     "iopub.execute_input": "2022-07-05T17:34:06.456953Z",
     "iopub.status.busy": "2022-07-05T17:34:06.455727Z",
     "iopub.status.idle": "2022-07-05T17:34:06.946022Z",
     "shell.execute_reply": "2022-07-05T17:34:06.946740Z",
     "shell.execute_reply.started": "2022-07-05T17:28:24.358272Z"
    },
    "papermill": {
     "duration": 0.530383,
     "end_time": "2022-07-05T17:34:06.946899",
     "exception": false,
     "start_time": "2022-07-05T17:34:06.416516",
     "status": "completed"
    },
    "tags": []
   },
   "outputs": [
    {
     "data": {
      "text/plain": [
       "LGBMClassifier()"
      ]
     },
     "execution_count": 23,
     "metadata": {},
     "output_type": "execute_result"
    }
   ],
   "source": [
    "x=pd.concat([xtrain, xtest])\n",
    "y_=np.concatenate([ytrain, ytest])\n",
    "clf.fit(x,y_)"
   ]
  },
  {
   "cell_type": "code",
   "execution_count": 24,
   "id": "f7eac306",
   "metadata": {
    "execution": {
     "iopub.execute_input": "2022-07-05T17:34:07.022411Z",
     "iopub.status.busy": "2022-07-05T17:34:07.021619Z",
     "iopub.status.idle": "2022-07-05T17:34:07.045560Z",
     "shell.execute_reply": "2022-07-05T17:34:07.045116Z",
     "shell.execute_reply.started": "2022-07-05T17:28:24.899473Z"
    },
    "papermill": {
     "duration": 0.063122,
     "end_time": "2022-07-05T17:34:07.045700",
     "exception": false,
     "start_time": "2022-07-05T17:34:06.982578",
     "status": "completed"
    },
    "tags": []
   },
   "outputs": [],
   "source": [
    "y_pr=clf.predict(tfidf_lingua_fr)"
   ]
  },
  {
   "cell_type": "markdown",
   "id": "e4a5bd72",
   "metadata": {
    "papermill": {
     "duration": 0.034939,
     "end_time": "2022-07-05T17:34:07.114762",
     "exception": false,
     "start_time": "2022-07-05T17:34:07.079823",
     "status": "completed"
    },
    "tags": []
   },
   "source": [
    "**how many level the model could predict**"
   ]
  },
  {
   "cell_type": "code",
   "execution_count": 25,
   "id": "baca7f26",
   "metadata": {
    "execution": {
     "iopub.execute_input": "2022-07-05T17:34:07.189520Z",
     "iopub.status.busy": "2022-07-05T17:34:07.188480Z",
     "iopub.status.idle": "2022-07-05T17:34:07.192364Z",
     "shell.execute_reply": "2022-07-05T17:34:07.192846Z",
     "shell.execute_reply.started": "2022-07-05T17:28:24.931900Z"
    },
    "papermill": {
     "duration": 0.043558,
     "end_time": "2022-07-05T17:34:07.192988",
     "exception": false,
     "start_time": "2022-07-05T17:34:07.149430",
     "status": "completed"
    },
    "tags": []
   },
   "outputs": [
    {
     "data": {
      "text/plain": [
       "array([0, 1, 2])"
      ]
     },
     "execution_count": 25,
     "metadata": {},
     "output_type": "execute_result"
    }
   ],
   "source": [
    "np.unique(y_pr)"
   ]
  },
  {
   "cell_type": "markdown",
   "id": "6ab5b3e9",
   "metadata": {
    "papermill": {
     "duration": 0.035884,
     "end_time": "2022-07-05T17:34:07.263286",
     "exception": false,
     "start_time": "2022-07-05T17:34:07.227402",
     "status": "completed"
    },
    "tags": []
   },
   "source": [
    "**Classification report**"
   ]
  },
  {
   "cell_type": "code",
   "execution_count": 26,
   "id": "3a8c884d",
   "metadata": {
    "execution": {
     "iopub.execute_input": "2022-07-05T17:34:07.337806Z",
     "iopub.status.busy": "2022-07-05T17:34:07.336976Z",
     "iopub.status.idle": "2022-07-05T17:34:07.344495Z",
     "shell.execute_reply": "2022-07-05T17:34:07.343980Z",
     "shell.execute_reply.started": "2022-07-05T17:28:24.940536Z"
    },
    "papermill": {
     "duration": 0.046262,
     "end_time": "2022-07-05T17:34:07.344632",
     "exception": false,
     "start_time": "2022-07-05T17:34:07.298370",
     "status": "completed"
    },
    "tags": []
   },
   "outputs": [
    {
     "name": "stdout",
     "output_type": "stream",
     "text": [
      "              precision    recall  f1-score   support\n",
      "\n",
      "           0       0.11      0.69      0.19        13\n",
      "           1       0.50      0.04      0.07        26\n",
      "           2       0.64      0.30      0.41        60\n",
      "           3       0.00      0.00      0.00        12\n",
      "\n",
      "    accuracy                           0.25       111\n",
      "   macro avg       0.31      0.26      0.17       111\n",
      "weighted avg       0.48      0.25      0.26       111\n",
      "\n"
     ]
    }
   ],
   "source": [
    "print(classification_report(y_true, y_pr))"
   ]
  },
  {
   "cell_type": "markdown",
   "id": "3bc20094",
   "metadata": {
    "papermill": {
     "duration": 0.034944,
     "end_time": "2022-07-05T17:34:07.414769",
     "exception": false,
     "start_time": "2022-07-05T17:34:07.379825",
     "status": "completed"
    },
    "tags": []
   },
   "source": [
    "****"
   ]
  },
  {
   "cell_type": "markdown",
   "id": "a1a90944",
   "metadata": {
    "papermill": {
     "duration": 0.034406,
     "end_time": "2022-07-05T17:34:07.485328",
     "exception": false,
     "start_time": "2022-07-05T17:34:07.450922",
     "status": "completed"
    },
    "tags": []
   },
   "source": [
    "# LightGBM"
   ]
  },
  {
   "cell_type": "code",
   "execution_count": 27,
   "id": "4ec54922",
   "metadata": {
    "execution": {
     "iopub.execute_input": "2022-07-05T17:34:07.566170Z",
     "iopub.status.busy": "2022-07-05T17:34:07.565298Z",
     "iopub.status.idle": "2022-07-05T17:34:07.567090Z",
     "shell.execute_reply": "2022-07-05T17:34:07.567492Z",
     "shell.execute_reply.started": "2022-07-05T17:28:24.972203Z"
    },
    "papermill": {
     "duration": 0.046426,
     "end_time": "2022-07-05T17:34:07.567650",
     "exception": false,
     "start_time": "2022-07-05T17:34:07.521224",
     "status": "completed"
    },
    "tags": []
   },
   "outputs": [],
   "source": [
    "def run_lgb(train_X, train_y, val_X, val_y,x_test) :\n",
    "    params = {\n",
    "        \"objective\":\"multiclass\",\n",
    "        \"num_classes\":\"6\",\n",
    "        \"metric\" : \"multi_error\",\n",
    "        \"boosting_type\": \"gbdt\",\n",
    "        \"num_leaves\" : 10,\n",
    "        \"learning_rate\" : 0.004,\n",
    "        \"bagging_fraction\" : 0.6,\n",
    "        \"feature_fraction\" : 0.6,\n",
    "        \"bagging_frequency\" : 6,\n",
    "        \"bagging_seed\" : 42,\n",
    "        \"verbosity\" : -1,\n",
    "        \"seed\": 42 }\n",
    "    \n",
    "    lgtrain = lgb.Dataset(train_X, label=train_y)\n",
    "    lgval = lgb.Dataset(val_X, label=val_y)\n",
    "    evals_result = {}\n",
    "    model = lgb.train(params, lgtrain, 5000,\n",
    "                      valid_sets=[lgtrain, lgval], \n",
    "                      early_stopping_rounds=100, \n",
    "                      verbose_eval=150, \n",
    "                      evals_result=evals_result)\n",
    "    ypred=model.predict(x_test).argmax(axis=1)\n",
    "    accuracy=accuracy_score(ypred, val_y)\n",
    "    return  accuracy , model, evals_result"
   ]
  },
  {
   "cell_type": "code",
   "execution_count": 28,
   "id": "66d66fa8",
   "metadata": {
    "execution": {
     "iopub.execute_input": "2022-07-05T17:34:07.649530Z",
     "iopub.status.busy": "2022-07-05T17:34:07.648199Z",
     "iopub.status.idle": "2022-07-05T17:34:08.388728Z",
     "shell.execute_reply": "2022-07-05T17:34:08.389322Z",
     "shell.execute_reply.started": "2022-07-05T17:28:25.114550Z"
    },
    "papermill": {
     "duration": 0.785684,
     "end_time": "2022-07-05T17:34:08.389519",
     "exception": false,
     "start_time": "2022-07-05T17:34:07.603835",
     "status": "completed"
    },
    "tags": []
   },
   "outputs": [
    {
     "name": "stdout",
     "output_type": "stream",
     "text": [
      "[LightGBM] [Warning] Unknown parameter: bagging_frequency\n",
      "Training until validation scores don't improve for 100 rounds\n",
      "[150]\ttraining's multi_error: 0.427313\tvalid_1's multi_error: 0.411765\n",
      "Early stopping, best iteration is:\n",
      "[171]\ttraining's multi_error: 0.361233\tvalid_1's multi_error: 0.392157\n",
      "LightGBM Training Completed...\n",
      "\n",
      " LightGBM Model accuracy score: 0.6078\n"
     ]
    }
   ],
   "source": [
    "accuracy ,model, evals_result = run_lgb(xtrain, ytrain, xtest, ytest, xtest)\n",
    "print(\"LightGBM Training Completed...\\n\\n\",'LightGBM Model accuracy score: {0:0.4f}'.format(accuracy) )"
   ]
  },
  {
   "cell_type": "markdown",
   "id": "e97e0021",
   "metadata": {
    "papermill": {
     "duration": 0.036162,
     "end_time": "2022-07-05T17:34:08.462948",
     "exception": false,
     "start_time": "2022-07-05T17:34:08.426786",
     "status": "completed"
    },
    "tags": []
   },
   "source": [
    "**how many level the model could predict**"
   ]
  },
  {
   "cell_type": "code",
   "execution_count": 29,
   "id": "565e654c",
   "metadata": {
    "execution": {
     "iopub.execute_input": "2022-07-05T17:34:08.540494Z",
     "iopub.status.busy": "2022-07-05T17:34:08.539785Z",
     "iopub.status.idle": "2022-07-05T17:34:08.562553Z",
     "shell.execute_reply": "2022-07-05T17:34:08.562111Z",
     "shell.execute_reply.started": "2022-07-05T17:28:26.423183Z"
    },
    "papermill": {
     "duration": 0.063023,
     "end_time": "2022-07-05T17:34:08.562712",
     "exception": false,
     "start_time": "2022-07-05T17:34:08.499689",
     "status": "completed"
    },
    "tags": []
   },
   "outputs": [
    {
     "data": {
      "text/plain": [
       "array([0, 1, 2, 3, 4])"
      ]
     },
     "execution_count": 29,
     "metadata": {},
     "output_type": "execute_result"
    }
   ],
   "source": [
    "ypred=model.predict(xtest).argmax(axis=1)\n",
    "np.unique(ypred)"
   ]
  },
  {
   "cell_type": "markdown",
   "id": "8260accc",
   "metadata": {
    "papermill": {
     "duration": 0.036614,
     "end_time": "2022-07-05T17:34:08.636082",
     "exception": false,
     "start_time": "2022-07-05T17:34:08.599468",
     "status": "completed"
    },
    "tags": []
   },
   "source": [
    "****"
   ]
  },
  {
   "cell_type": "markdown",
   "id": "52548f09",
   "metadata": {
    "papermill": {
     "duration": 0.035606,
     "end_time": "2022-07-05T17:34:08.708269",
     "exception": false,
     "start_time": "2022-07-05T17:34:08.672663",
     "status": "completed"
    },
    "tags": []
   },
   "source": [
    "# Testing the model on lingua_fr datatset"
   ]
  },
  {
   "cell_type": "code",
   "execution_count": 30,
   "id": "2883b875",
   "metadata": {
    "execution": {
     "iopub.execute_input": "2022-07-05T17:34:08.784840Z",
     "iopub.status.busy": "2022-07-05T17:34:08.784107Z",
     "iopub.status.idle": "2022-07-05T17:34:08.810266Z",
     "shell.execute_reply": "2022-07-05T17:34:08.810707Z",
     "shell.execute_reply.started": "2022-07-05T17:28:26.454718Z"
    },
    "papermill": {
     "duration": 0.067127,
     "end_time": "2022-07-05T17:34:08.810853",
     "exception": false,
     "start_time": "2022-07-05T17:34:08.743726",
     "status": "completed"
    },
    "tags": []
   },
   "outputs": [
    {
     "data": {
      "text/plain": [
       "array([0, 1, 2])"
      ]
     },
     "execution_count": 30,
     "metadata": {},
     "output_type": "execute_result"
    }
   ],
   "source": [
    "ypr=model.predict(tfidf_lingua_fr).argmax(axis=1)\n",
    "np.unique(ypr)"
   ]
  },
  {
   "cell_type": "code",
   "execution_count": 31,
   "id": "9cc31b4d",
   "metadata": {
    "execution": {
     "iopub.execute_input": "2022-07-05T17:34:08.888088Z",
     "iopub.status.busy": "2022-07-05T17:34:08.887251Z",
     "iopub.status.idle": "2022-07-05T17:34:08.895405Z",
     "shell.execute_reply": "2022-07-05T17:34:08.894785Z",
     "shell.execute_reply.started": "2022-07-05T17:28:26.493118Z"
    },
    "papermill": {
     "duration": 0.048538,
     "end_time": "2022-07-05T17:34:08.895550",
     "exception": false,
     "start_time": "2022-07-05T17:34:08.847012",
     "status": "completed"
    },
    "tags": []
   },
   "outputs": [
    {
     "name": "stdout",
     "output_type": "stream",
     "text": [
      "              precision    recall  f1-score   support\n",
      "\n",
      "           0       0.14      0.46      0.21        13\n",
      "           1       1.00      0.04      0.07        26\n",
      "           2       0.57      0.63      0.60        60\n",
      "           3       0.00      0.00      0.00        12\n",
      "\n",
      "    accuracy                           0.41       111\n",
      "   macro avg       0.43      0.28      0.22       111\n",
      "weighted avg       0.56      0.41      0.37       111\n",
      "\n"
     ]
    }
   ],
   "source": [
    "print(classification_report(y_true, ypr))"
   ]
  },
  {
   "cell_type": "code",
   "execution_count": null,
   "id": "26d591e9",
   "metadata": {
    "papermill": {
     "duration": 0.037077,
     "end_time": "2022-07-05T17:34:08.969756",
     "exception": false,
     "start_time": "2022-07-05T17:34:08.932679",
     "status": "completed"
    },
    "tags": []
   },
   "outputs": [],
   "source": []
  }
 ],
 "metadata": {
  "kernelspec": {
   "display_name": "Python 3",
   "language": "python",
   "name": "python3"
  },
  "language_info": {
   "codemirror_mode": {
    "name": "ipython",
    "version": 3
   },
   "file_extension": ".py",
   "mimetype": "text/x-python",
   "name": "python",
   "nbconvert_exporter": "python",
   "pygments_lexer": "ipython3",
   "version": "3.7.10"
  },
  "papermill": {
   "default_parameters": {},
   "duration": 26.425578,
   "end_time": "2022-07-05T17:34:12.449276",
   "environment_variables": {},
   "exception": null,
   "input_path": "__notebook__.ipynb",
   "output_path": "__notebook__.ipynb",
   "parameters": {},
   "start_time": "2022-07-05T17:33:46.023698",
   "version": "2.3.3"
  }
 },
 "nbformat": 4,
 "nbformat_minor": 5
}
