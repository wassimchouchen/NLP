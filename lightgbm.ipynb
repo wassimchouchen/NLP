{
 "cells": [
  {
   "cell_type": "code",
   "execution_count": 1,
   "id": "9027cc2f",
   "metadata": {
    "_cell_guid": "b1076dfc-b9ad-4769-8c92-a6c4dae69d19",
    "_uuid": "8f2839f25d086af736a60e9eeb907d3b93b6e0e5",
    "execution": {
     "iopub.execute_input": "2022-07-05T12:17:30.859305Z",
     "iopub.status.busy": "2022-07-05T12:17:30.857304Z",
     "iopub.status.idle": "2022-07-05T12:17:40.121045Z",
     "shell.execute_reply": "2022-07-05T12:17:40.120325Z",
     "shell.execute_reply.started": "2022-07-05T12:01:36.103455Z"
    },
    "papermill": {
     "duration": 9.356654,
     "end_time": "2022-07-05T12:17:40.121217",
     "exception": false,
     "start_time": "2022-07-05T12:17:30.764563",
     "status": "completed"
    },
    "tags": []
   },
   "outputs": [],
   "source": [
    "import os\n",
    "\n",
    "import random\n",
    "import numpy as np\n",
    "\n",
    "import pandas as pd\n",
    "import torch\n",
    "from torch.utils.data import Dataset, random_split\n",
    "from sklearn.model_selection import train_test_split \n",
    "from transformers import (\n",
    "    AdamW,\n",
    "    Trainer,\n",
    "    TrainingArguments,\n",
    "    AutoTokenizer,\n",
    "    AutoModelForSequenceClassification,\n",
    "    get_cosine_schedule_with_warmup,\n",
    ")\n",
    "from sklearn.preprocessing import LabelEncoder\n",
    "from sklearn.metrics import accuracy_score\n",
    "from sklearn import preprocessing\n",
    "from sklearn.metrics import accuracy_score\n",
    "le = preprocessing.LabelEncoder()\n",
    "import warnings\n",
    "warnings.filterwarnings('ignore')"
   ]
  },
  {
   "cell_type": "code",
   "execution_count": 2,
   "id": "8117a3fb",
   "metadata": {
    "execution": {
     "iopub.execute_input": "2022-07-05T12:17:40.194165Z",
     "iopub.status.busy": "2022-07-05T12:17:40.193534Z",
     "iopub.status.idle": "2022-07-05T12:17:40.233907Z",
     "shell.execute_reply": "2022-07-05T12:17:40.234427Z",
     "shell.execute_reply.started": "2022-07-05T12:01:36.116266Z"
    },
    "papermill": {
     "duration": 0.078103,
     "end_time": "2022-07-05T12:17:40.234597",
     "exception": false,
     "start_time": "2022-07-05T12:17:40.156494",
     "status": "completed"
    },
    "tags": []
   },
   "outputs": [
    {
     "data": {
      "text/plain": [
       "(191, 3)"
      ]
     },
     "execution_count": 2,
     "metadata": {},
     "output_type": "execute_result"
    }
   ],
   "source": [
    "new_data=pd.read_csv(\"../input/csvvvv/Classeur 1 (5).csv\")\n",
    "new_data.drop([\"Y\",\"Word Count\",\"Language\",' '], axis=1, inplace=True)\n",
    "new_data.columns = [\"text\", \"CEFR Review\",\"CEFR Level_Samar\"]\n",
    "new_data.shape"
   ]
  },
  {
   "cell_type": "code",
   "execution_count": 3,
   "id": "e3d93cf1",
   "metadata": {
    "execution": {
     "iopub.execute_input": "2022-07-05T12:17:40.304268Z",
     "iopub.status.busy": "2022-07-05T12:17:40.302542Z",
     "iopub.status.idle": "2022-07-05T12:17:40.315471Z",
     "shell.execute_reply": "2022-07-05T12:17:40.314871Z",
     "shell.execute_reply.started": "2022-07-05T12:01:36.304265Z"
    },
    "papermill": {
     "duration": 0.048625,
     "end_time": "2022-07-05T12:17:40.315625",
     "exception": false,
     "start_time": "2022-07-05T12:17:40.267000",
     "status": "completed"
    },
    "tags": []
   },
   "outputs": [
    {
     "data": {
      "text/html": [
       "<div>\n",
       "<style scoped>\n",
       "    .dataframe tbody tr th:only-of-type {\n",
       "        vertical-align: middle;\n",
       "    }\n",
       "\n",
       "    .dataframe tbody tr th {\n",
       "        vertical-align: top;\n",
       "    }\n",
       "\n",
       "    .dataframe thead th {\n",
       "        text-align: right;\n",
       "    }\n",
       "</style>\n",
       "<table border=\"1\" class=\"dataframe\">\n",
       "  <thead>\n",
       "    <tr style=\"text-align: right;\">\n",
       "      <th></th>\n",
       "      <th>text</th>\n",
       "      <th>CEFR Review</th>\n",
       "      <th>CEFR Level_Samar</th>\n",
       "    </tr>\n",
       "  </thead>\n",
       "  <tbody>\n",
       "    <tr>\n",
       "      <th>0</th>\n",
       "      <td>En 1815, M. Charles-François-Bienvenu Myriel é...</td>\n",
       "      <td>A2</td>\n",
       "      <td>C1</td>\n",
       "    </tr>\n",
       "    <tr>\n",
       "      <th>1</th>\n",
       "      <td>Quoique ce détail ne touche en aucune manière ...</td>\n",
       "      <td>C1</td>\n",
       "      <td>C2</td>\n",
       "    </tr>\n",
       "  </tbody>\n",
       "</table>\n",
       "</div>"
      ],
      "text/plain": [
       "                                                text CEFR Review  \\\n",
       "0  En 1815, M. Charles-François-Bienvenu Myriel é...          A2   \n",
       "1  Quoique ce détail ne touche en aucune manière ...          C1   \n",
       "\n",
       "  CEFR Level_Samar  \n",
       "0               C1  \n",
       "1               C2  "
      ]
     },
     "execution_count": 3,
     "metadata": {},
     "output_type": "execute_result"
    }
   ],
   "source": [
    "new_data.head(2)"
   ]
  },
  {
   "cell_type": "markdown",
   "id": "7dfe44a9",
   "metadata": {
    "papermill": {
     "duration": 0.032389,
     "end_time": "2022-07-05T12:17:40.380567",
     "exception": false,
     "start_time": "2022-07-05T12:17:40.348178",
     "status": "completed"
    },
    "tags": []
   },
   "source": [
    "**extract samar dataset**"
   ]
  },
  {
   "cell_type": "code",
   "execution_count": 4,
   "id": "81d8b8d0",
   "metadata": {
    "execution": {
     "iopub.execute_input": "2022-07-05T12:17:40.453486Z",
     "iopub.status.busy": "2022-07-05T12:17:40.452364Z",
     "iopub.status.idle": "2022-07-05T12:17:40.468182Z",
     "shell.execute_reply": "2022-07-05T12:17:40.467584Z",
     "shell.execute_reply.started": "2022-07-05T12:01:36.316933Z"
    },
    "papermill": {
     "duration": 0.054815,
     "end_time": "2022-07-05T12:17:40.468310",
     "exception": false,
     "start_time": "2022-07-05T12:17:40.413495",
     "status": "completed"
    },
    "tags": []
   },
   "outputs": [
    {
     "data": {
      "text/html": [
       "<div>\n",
       "<style scoped>\n",
       "    .dataframe tbody tr th:only-of-type {\n",
       "        vertical-align: middle;\n",
       "    }\n",
       "\n",
       "    .dataframe tbody tr th {\n",
       "        vertical-align: top;\n",
       "    }\n",
       "\n",
       "    .dataframe thead th {\n",
       "        text-align: right;\n",
       "    }\n",
       "</style>\n",
       "<table border=\"1\" class=\"dataframe\">\n",
       "  <thead>\n",
       "    <tr style=\"text-align: right;\">\n",
       "      <th></th>\n",
       "      <th>text</th>\n",
       "      <th>label</th>\n",
       "    </tr>\n",
       "  </thead>\n",
       "  <tbody>\n",
       "    <tr>\n",
       "      <th>0</th>\n",
       "      <td>En 1815, M. Charles-François-Bienvenu Myriel é...</td>\n",
       "      <td>C1</td>\n",
       "    </tr>\n",
       "    <tr>\n",
       "      <th>1</th>\n",
       "      <td>Quoique ce détail ne touche en aucune manière ...</td>\n",
       "      <td>C2</td>\n",
       "    </tr>\n",
       "    <tr>\n",
       "      <th>2</th>\n",
       "      <td>En 1804, M. Myriel était curé de Brignolles. I...</td>\n",
       "      <td>C1</td>\n",
       "    </tr>\n",
       "    <tr>\n",
       "      <th>3</th>\n",
       "      <td>Vers l'époque du couronnement, une petite affa...</td>\n",
       "      <td>C2</td>\n",
       "    </tr>\n",
       "    <tr>\n",
       "      <th>4</th>\n",
       "      <td>—Quel est ce bonhomme qui me regarde?</td>\n",
       "      <td>C1</td>\n",
       "    </tr>\n",
       "  </tbody>\n",
       "</table>\n",
       "</div>"
      ],
      "text/plain": [
       "                                                text label\n",
       "0  En 1815, M. Charles-François-Bienvenu Myriel é...    C1\n",
       "1  Quoique ce détail ne touche en aucune manière ...    C2\n",
       "2  En 1804, M. Myriel était curé de Brignolles. I...    C1\n",
       "3  Vers l'époque du couronnement, une petite affa...    C2\n",
       "4              —Quel est ce bonhomme qui me regarde?    C1"
      ]
     },
     "execution_count": 4,
     "metadata": {},
     "output_type": "execute_result"
    }
   ],
   "source": [
    "mike_20_june_samar=new_data[pd.notnull(new_data['CEFR Level_Samar'])]\n",
    "mike_20_june_samar.columns = [\"text\", \"CEFR Review\",\"label\"]\n",
    "mike_20_june_samar.drop([\"CEFR Review\"],axis=1, inplace=True)\n",
    "mike_20_june_samar.to_csv(\"mike_20_june_samar.csv\" , index=False)\n",
    "mike_20_june_samar.head()"
   ]
  },
  {
   "cell_type": "markdown",
   "id": "d4f83b93",
   "metadata": {
    "papermill": {
     "duration": 0.03186,
     "end_time": "2022-07-05T12:17:40.532999",
     "exception": false,
     "start_time": "2022-07-05T12:17:40.501139",
     "status": "completed"
    },
    "tags": []
   },
   "source": [
    "**extract mike_new dataset**"
   ]
  },
  {
   "cell_type": "code",
   "execution_count": 5,
   "id": "28d0d798",
   "metadata": {
    "execution": {
     "iopub.execute_input": "2022-07-05T12:17:40.606871Z",
     "iopub.status.busy": "2022-07-05T12:17:40.605681Z",
     "iopub.status.idle": "2022-07-05T12:17:40.617719Z",
     "shell.execute_reply": "2022-07-05T12:17:40.618235Z",
     "shell.execute_reply.started": "2022-07-05T12:01:36.335289Z"
    },
    "papermill": {
     "duration": 0.053717,
     "end_time": "2022-07-05T12:17:40.618408",
     "exception": false,
     "start_time": "2022-07-05T12:17:40.564691",
     "status": "completed"
    },
    "tags": []
   },
   "outputs": [
    {
     "data": {
      "text/html": [
       "<div>\n",
       "<style scoped>\n",
       "    .dataframe tbody tr th:only-of-type {\n",
       "        vertical-align: middle;\n",
       "    }\n",
       "\n",
       "    .dataframe tbody tr th {\n",
       "        vertical-align: top;\n",
       "    }\n",
       "\n",
       "    .dataframe thead th {\n",
       "        text-align: right;\n",
       "    }\n",
       "</style>\n",
       "<table border=\"1\" class=\"dataframe\">\n",
       "  <thead>\n",
       "    <tr style=\"text-align: right;\">\n",
       "      <th></th>\n",
       "      <th>text</th>\n",
       "      <th>label</th>\n",
       "    </tr>\n",
       "  </thead>\n",
       "  <tbody>\n",
       "    <tr>\n",
       "      <th>0</th>\n",
       "      <td>En 1815, M. Charles-François-Bienvenu Myriel é...</td>\n",
       "      <td>A2</td>\n",
       "    </tr>\n",
       "    <tr>\n",
       "      <th>1</th>\n",
       "      <td>Quoique ce détail ne touche en aucune manière ...</td>\n",
       "      <td>C1</td>\n",
       "    </tr>\n",
       "    <tr>\n",
       "      <th>2</th>\n",
       "      <td>En 1804, M. Myriel était curé de Brignolles. I...</td>\n",
       "      <td>A2</td>\n",
       "    </tr>\n",
       "    <tr>\n",
       "      <th>3</th>\n",
       "      <td>Vers l'époque du couronnement, une petite affa...</td>\n",
       "      <td>B2</td>\n",
       "    </tr>\n",
       "    <tr>\n",
       "      <th>4</th>\n",
       "      <td>—Quel est ce bonhomme qui me regarde?</td>\n",
       "      <td>A2</td>\n",
       "    </tr>\n",
       "  </tbody>\n",
       "</table>\n",
       "</div>"
      ],
      "text/plain": [
       "                                                text label\n",
       "0  En 1815, M. Charles-François-Bienvenu Myriel é...    A2\n",
       "1  Quoique ce détail ne touche en aucune manière ...    C1\n",
       "2  En 1804, M. Myriel était curé de Brignolles. I...    A2\n",
       "3  Vers l'époque du couronnement, une petite affa...    B2\n",
       "4              —Quel est ce bonhomme qui me regarde?    A2"
      ]
     },
     "execution_count": 5,
     "metadata": {},
     "output_type": "execute_result"
    }
   ],
   "source": [
    "mike_20_june_new=new_data[pd.notnull(new_data['CEFR Review'])]\n",
    "mike_20_june_new.columns = [\"text\", \"label\",\"CEFR Level_Samar\"]\n",
    "mike_20_june_new.drop([\"CEFR Level_Samar\"],axis=1, inplace=True)\n",
    "mike_20_june_new.to_csv(\"mike_20_june_new.csv\" , index=False)\n",
    "mike_20_june_new.head() "
   ]
  },
  {
   "cell_type": "markdown",
   "id": "326d7375",
   "metadata": {
    "papermill": {
     "duration": 0.032763,
     "end_time": "2022-07-05T12:17:40.685307",
     "exception": false,
     "start_time": "2022-07-05T12:17:40.652544",
     "status": "completed"
    },
    "tags": []
   },
   "source": [
    "**General insights about samar and mike_new datasets**"
   ]
  },
  {
   "cell_type": "code",
   "execution_count": 6,
   "id": "92c25bd1",
   "metadata": {
    "execution": {
     "iopub.execute_input": "2022-07-05T12:17:40.761227Z",
     "iopub.status.busy": "2022-07-05T12:17:40.760379Z",
     "iopub.status.idle": "2022-07-05T12:17:40.763915Z",
     "shell.execute_reply": "2022-07-05T12:17:40.764494Z",
     "shell.execute_reply.started": "2022-07-05T12:01:36.480956Z"
    },
    "papermill": {
     "duration": 0.045279,
     "end_time": "2022-07-05T12:17:40.764727",
     "exception": false,
     "start_time": "2022-07-05T12:17:40.719448",
     "status": "completed"
    },
    "tags": []
   },
   "outputs": [
    {
     "data": {
      "text/plain": [
       "(array(['C1', 'C2'], dtype=object),\n",
       " array(['A2', 'C1', 'B2', 'A1', 'B1', 'C2'], dtype=object))"
      ]
     },
     "execution_count": 6,
     "metadata": {},
     "output_type": "execute_result"
    }
   ],
   "source": [
    "mike_20_june_samar[\"label\"].unique(), mike_20_june_new[\"label\"].unique()"
   ]
  },
  {
   "cell_type": "markdown",
   "id": "9668f9b3",
   "metadata": {
    "papermill": {
     "duration": 0.033071,
     "end_time": "2022-07-05T12:17:40.830885",
     "exception": false,
     "start_time": "2022-07-05T12:17:40.797814",
     "status": "completed"
    },
    "tags": []
   },
   "source": [
    "****!!!! samar annotation seems to be weird because there is just C1 and C2****"
   ]
  },
  {
   "cell_type": "code",
   "execution_count": 7,
   "id": "88a0616b",
   "metadata": {
    "execution": {
     "iopub.execute_input": "2022-07-05T12:17:40.908723Z",
     "iopub.status.busy": "2022-07-05T12:17:40.907884Z",
     "iopub.status.idle": "2022-07-05T12:17:40.911429Z",
     "shell.execute_reply": "2022-07-05T12:17:40.911996Z",
     "shell.execute_reply.started": "2022-07-05T12:01:36.493289Z"
    },
    "papermill": {
     "duration": 0.047456,
     "end_time": "2022-07-05T12:17:40.912196",
     "exception": false,
     "start_time": "2022-07-05T12:17:40.864740",
     "status": "completed"
    },
    "tags": []
   },
   "outputs": [
    {
     "data": {
      "text/plain": [
       "C1    58\n",
       "A1    41\n",
       "B2    33\n",
       "B1    29\n",
       "A2    24\n",
       "C2     6\n",
       "Name: label, dtype: int64"
      ]
     },
     "execution_count": 7,
     "metadata": {},
     "output_type": "execute_result"
    }
   ],
   "source": [
    "mike_20_june_new.label.value_counts()"
   ]
  },
  {
   "cell_type": "code",
   "execution_count": 8,
   "id": "a4c023c8",
   "metadata": {
    "execution": {
     "iopub.execute_input": "2022-07-05T12:17:40.984243Z",
     "iopub.status.busy": "2022-07-05T12:17:40.983132Z",
     "iopub.status.idle": "2022-07-05T12:17:40.990544Z",
     "shell.execute_reply": "2022-07-05T12:17:40.989993Z",
     "shell.execute_reply.started": "2022-07-05T12:01:36.509942Z"
    },
    "papermill": {
     "duration": 0.044329,
     "end_time": "2022-07-05T12:17:40.990681",
     "exception": false,
     "start_time": "2022-07-05T12:17:40.946352",
     "status": "completed"
    },
    "tags": []
   },
   "outputs": [
    {
     "data": {
      "text/plain": [
       "((141, 2), (191, 2))"
      ]
     },
     "execution_count": 8,
     "metadata": {},
     "output_type": "execute_result"
    }
   ],
   "source": [
    "mike_20_june_samar.shape,mike_20_june_new.shape"
   ]
  },
  {
   "cell_type": "code",
   "execution_count": 9,
   "id": "344216ef",
   "metadata": {
    "execution": {
     "iopub.execute_input": "2022-07-05T12:17:41.064332Z",
     "iopub.status.busy": "2022-07-05T12:17:41.063338Z",
     "iopub.status.idle": "2022-07-05T12:17:41.090000Z",
     "shell.execute_reply": "2022-07-05T12:17:41.090511Z",
     "shell.execute_reply.started": "2022-07-05T12:01:36.641863Z"
    },
    "papermill": {
     "duration": 0.064821,
     "end_time": "2022-07-05T12:17:41.090716",
     "exception": false,
     "start_time": "2022-07-05T12:17:41.025895",
     "status": "completed"
    },
    "tags": []
   },
   "outputs": [
    {
     "data": {
      "text/html": [
       "<div>\n",
       "<style scoped>\n",
       "    .dataframe tbody tr th:only-of-type {\n",
       "        vertical-align: middle;\n",
       "    }\n",
       "\n",
       "    .dataframe tbody tr th {\n",
       "        vertical-align: top;\n",
       "    }\n",
       "\n",
       "    .dataframe thead th {\n",
       "        text-align: right;\n",
       "    }\n",
       "</style>\n",
       "<table border=\"1\" class=\"dataframe\">\n",
       "  <thead>\n",
       "    <tr style=\"text-align: right;\">\n",
       "      <th></th>\n",
       "      <th>text</th>\n",
       "      <th>len</th>\n",
       "      <th>lang</th>\n",
       "      <th>label</th>\n",
       "    </tr>\n",
       "  </thead>\n",
       "  <tbody>\n",
       "    <tr>\n",
       "      <th>0</th>\n",
       "      <td>Il était une fois un prince qui voulait épouse...</td>\n",
       "      <td>15</td>\n",
       "      <td>FR</td>\n",
       "      <td>A2</td>\n",
       "    </tr>\n",
       "    <tr>\n",
       "      <th>1</th>\n",
       "      <td>Il fit le tour de la Terre pour en trouver une...</td>\n",
       "      <td>62</td>\n",
       "      <td>FR</td>\n",
       "      <td>B1</td>\n",
       "    </tr>\n",
       "    <tr>\n",
       "      <th>2</th>\n",
       "      <td>Un soir, par un temps affreux, éclairs et tonn...</td>\n",
       "      <td>31</td>\n",
       "      <td>FR</td>\n",
       "      <td>B1</td>\n",
       "    </tr>\n",
       "    <tr>\n",
       "      <th>3</th>\n",
       "      <td>C'était une princesse qui était là, dehors. M...</td>\n",
       "      <td>51</td>\n",
       "      <td>FR</td>\n",
       "      <td>A2</td>\n",
       "    </tr>\n",
       "    <tr>\n",
       "      <th>4</th>\n",
       "      <td>« Nous allons bien voir ça », pensait la vieil...</td>\n",
       "      <td>76</td>\n",
       "      <td>FR</td>\n",
       "      <td>B1</td>\n",
       "    </tr>\n",
       "  </tbody>\n",
       "</table>\n",
       "</div>"
      ],
      "text/plain": [
       "                                                text  len lang label\n",
       "0  Il était une fois un prince qui voulait épouse...   15   FR    A2\n",
       "1  Il fit le tour de la Terre pour en trouver une...   62   FR    B1\n",
       "2  Un soir, par un temps affreux, éclairs et tonn...   31   FR    B1\n",
       "3   C'était une princesse qui était là, dehors. M...   51   FR    A2\n",
       "4  « Nous allons bien voir ça », pensait la vieil...   76   FR    B1"
      ]
     },
     "execution_count": 9,
     "metadata": {},
     "output_type": "execute_result"
    }
   ],
   "source": [
    "trainn=pd.read_csv(\"../input/frenchcefr/french dataset.csv\")\n",
    "trainn = trainn[trainn.label != \"XX\"]\n",
    "trainn.head()"
   ]
  },
  {
   "cell_type": "code",
   "execution_count": 10,
   "id": "09509fcf",
   "metadata": {
    "execution": {
     "iopub.execute_input": "2022-07-05T12:17:41.165188Z",
     "iopub.status.busy": "2022-07-05T12:17:41.164543Z",
     "iopub.status.idle": "2022-07-05T12:17:41.183151Z",
     "shell.execute_reply": "2022-07-05T12:17:41.182313Z",
     "shell.execute_reply.started": "2022-07-05T12:01:36.661504Z"
    },
    "papermill": {
     "duration": 0.057806,
     "end_time": "2022-07-05T12:17:41.183305",
     "exception": false,
     "start_time": "2022-07-05T12:17:41.125499",
     "status": "completed"
    },
    "tags": []
   },
   "outputs": [],
   "source": [
    "lingua_fr=pd.read_csv(\"../input/lingua/fr_lingua.csv\")"
   ]
  },
  {
   "cell_type": "code",
   "execution_count": 11,
   "id": "afa98c11",
   "metadata": {
    "_kg_hide-output": true,
    "execution": {
     "iopub.execute_input": "2022-07-05T12:17:41.261087Z",
     "iopub.status.busy": "2022-07-05T12:17:41.260219Z",
     "iopub.status.idle": "2022-07-05T12:17:41.354132Z",
     "shell.execute_reply": "2022-07-05T12:17:41.354689Z",
     "shell.execute_reply.started": "2022-07-05T12:01:36.671877Z"
    },
    "papermill": {
     "duration": 0.135277,
     "end_time": "2022-07-05T12:17:41.354857",
     "exception": false,
     "start_time": "2022-07-05T12:17:41.219580",
     "status": "completed"
    },
    "tags": []
   },
   "outputs": [
    {
     "data": {
      "text/html": [
       "<div>\n",
       "<style scoped>\n",
       "    .dataframe tbody tr th:only-of-type {\n",
       "        vertical-align: middle;\n",
       "    }\n",
       "\n",
       "    .dataframe tbody tr th {\n",
       "        vertical-align: top;\n",
       "    }\n",
       "\n",
       "    .dataframe thead th {\n",
       "        text-align: right;\n",
       "    }\n",
       "</style>\n",
       "<table border=\"1\" class=\"dataframe\">\n",
       "  <thead>\n",
       "    <tr style=\"text-align: right;\">\n",
       "      <th></th>\n",
       "      <th>1859</th>\n",
       "      <th>1866</th>\n",
       "      <th>1868</th>\n",
       "      <th>1874</th>\n",
       "      <th>abandonna</th>\n",
       "      <th>abord</th>\n",
       "      <th>abordait</th>\n",
       "      <th>absence</th>\n",
       "      <th>accable</th>\n",
       "      <th>accepta</th>\n",
       "      <th>...</th>\n",
       "      <th>étuve</th>\n",
       "      <th>été</th>\n",
       "      <th>éveilla</th>\n",
       "      <th>éveiller</th>\n",
       "      <th>éveillèrent</th>\n",
       "      <th>événements</th>\n",
       "      <th>êtes</th>\n",
       "      <th>être</th>\n",
       "      <th>êtres</th>\n",
       "      <th>œil</th>\n",
       "    </tr>\n",
       "  </thead>\n",
       "  <tbody>\n",
       "    <tr>\n",
       "      <th>0</th>\n",
       "      <td>0.0</td>\n",
       "      <td>0.0</td>\n",
       "      <td>0.0</td>\n",
       "      <td>0.0</td>\n",
       "      <td>0.0</td>\n",
       "      <td>0.0</td>\n",
       "      <td>0.0</td>\n",
       "      <td>0.0</td>\n",
       "      <td>0.0</td>\n",
       "      <td>0.0</td>\n",
       "      <td>...</td>\n",
       "      <td>0.0</td>\n",
       "      <td>0.0</td>\n",
       "      <td>0.0</td>\n",
       "      <td>0.0</td>\n",
       "      <td>0.0</td>\n",
       "      <td>0.0</td>\n",
       "      <td>0.0</td>\n",
       "      <td>0.000000</td>\n",
       "      <td>0.0</td>\n",
       "      <td>0.0</td>\n",
       "    </tr>\n",
       "    <tr>\n",
       "      <th>1</th>\n",
       "      <td>0.0</td>\n",
       "      <td>0.0</td>\n",
       "      <td>0.0</td>\n",
       "      <td>0.0</td>\n",
       "      <td>0.0</td>\n",
       "      <td>0.0</td>\n",
       "      <td>0.0</td>\n",
       "      <td>0.0</td>\n",
       "      <td>0.0</td>\n",
       "      <td>0.0</td>\n",
       "      <td>...</td>\n",
       "      <td>0.0</td>\n",
       "      <td>0.0</td>\n",
       "      <td>0.0</td>\n",
       "      <td>0.0</td>\n",
       "      <td>0.0</td>\n",
       "      <td>0.0</td>\n",
       "      <td>0.0</td>\n",
       "      <td>0.000000</td>\n",
       "      <td>0.0</td>\n",
       "      <td>0.0</td>\n",
       "    </tr>\n",
       "    <tr>\n",
       "      <th>2</th>\n",
       "      <td>0.0</td>\n",
       "      <td>0.0</td>\n",
       "      <td>0.0</td>\n",
       "      <td>0.0</td>\n",
       "      <td>0.0</td>\n",
       "      <td>0.0</td>\n",
       "      <td>0.0</td>\n",
       "      <td>0.0</td>\n",
       "      <td>0.0</td>\n",
       "      <td>0.0</td>\n",
       "      <td>...</td>\n",
       "      <td>0.0</td>\n",
       "      <td>0.0</td>\n",
       "      <td>0.0</td>\n",
       "      <td>0.0</td>\n",
       "      <td>0.0</td>\n",
       "      <td>0.0</td>\n",
       "      <td>0.0</td>\n",
       "      <td>0.000000</td>\n",
       "      <td>0.0</td>\n",
       "      <td>0.0</td>\n",
       "    </tr>\n",
       "    <tr>\n",
       "      <th>3</th>\n",
       "      <td>0.0</td>\n",
       "      <td>0.0</td>\n",
       "      <td>0.0</td>\n",
       "      <td>0.0</td>\n",
       "      <td>0.0</td>\n",
       "      <td>0.0</td>\n",
       "      <td>0.0</td>\n",
       "      <td>0.0</td>\n",
       "      <td>0.0</td>\n",
       "      <td>0.0</td>\n",
       "      <td>...</td>\n",
       "      <td>0.0</td>\n",
       "      <td>0.0</td>\n",
       "      <td>0.0</td>\n",
       "      <td>0.0</td>\n",
       "      <td>0.0</td>\n",
       "      <td>0.0</td>\n",
       "      <td>0.0</td>\n",
       "      <td>0.116826</td>\n",
       "      <td>0.0</td>\n",
       "      <td>0.0</td>\n",
       "    </tr>\n",
       "    <tr>\n",
       "      <th>4</th>\n",
       "      <td>0.0</td>\n",
       "      <td>0.0</td>\n",
       "      <td>0.0</td>\n",
       "      <td>0.0</td>\n",
       "      <td>0.0</td>\n",
       "      <td>0.0</td>\n",
       "      <td>0.0</td>\n",
       "      <td>0.0</td>\n",
       "      <td>0.0</td>\n",
       "      <td>0.0</td>\n",
       "      <td>...</td>\n",
       "      <td>0.0</td>\n",
       "      <td>0.0</td>\n",
       "      <td>0.0</td>\n",
       "      <td>0.0</td>\n",
       "      <td>0.0</td>\n",
       "      <td>0.0</td>\n",
       "      <td>0.0</td>\n",
       "      <td>0.000000</td>\n",
       "      <td>0.0</td>\n",
       "      <td>0.0</td>\n",
       "    </tr>\n",
       "    <tr>\n",
       "      <th>...</th>\n",
       "      <td>...</td>\n",
       "      <td>...</td>\n",
       "      <td>...</td>\n",
       "      <td>...</td>\n",
       "      <td>...</td>\n",
       "      <td>...</td>\n",
       "      <td>...</td>\n",
       "      <td>...</td>\n",
       "      <td>...</td>\n",
       "      <td>...</td>\n",
       "      <td>...</td>\n",
       "      <td>...</td>\n",
       "      <td>...</td>\n",
       "      <td>...</td>\n",
       "      <td>...</td>\n",
       "      <td>...</td>\n",
       "      <td>...</td>\n",
       "      <td>...</td>\n",
       "      <td>...</td>\n",
       "      <td>...</td>\n",
       "      <td>...</td>\n",
       "    </tr>\n",
       "    <tr>\n",
       "      <th>309</th>\n",
       "      <td>0.0</td>\n",
       "      <td>0.0</td>\n",
       "      <td>0.0</td>\n",
       "      <td>0.0</td>\n",
       "      <td>0.0</td>\n",
       "      <td>0.0</td>\n",
       "      <td>0.0</td>\n",
       "      <td>0.0</td>\n",
       "      <td>0.0</td>\n",
       "      <td>0.0</td>\n",
       "      <td>...</td>\n",
       "      <td>0.0</td>\n",
       "      <td>0.0</td>\n",
       "      <td>0.0</td>\n",
       "      <td>0.0</td>\n",
       "      <td>0.0</td>\n",
       "      <td>0.0</td>\n",
       "      <td>0.0</td>\n",
       "      <td>0.000000</td>\n",
       "      <td>0.0</td>\n",
       "      <td>0.0</td>\n",
       "    </tr>\n",
       "    <tr>\n",
       "      <th>310</th>\n",
       "      <td>0.0</td>\n",
       "      <td>0.0</td>\n",
       "      <td>0.0</td>\n",
       "      <td>0.0</td>\n",
       "      <td>0.0</td>\n",
       "      <td>0.0</td>\n",
       "      <td>0.0</td>\n",
       "      <td>0.0</td>\n",
       "      <td>0.0</td>\n",
       "      <td>0.0</td>\n",
       "      <td>...</td>\n",
       "      <td>0.0</td>\n",
       "      <td>0.0</td>\n",
       "      <td>0.0</td>\n",
       "      <td>0.0</td>\n",
       "      <td>0.0</td>\n",
       "      <td>0.0</td>\n",
       "      <td>0.0</td>\n",
       "      <td>0.000000</td>\n",
       "      <td>0.0</td>\n",
       "      <td>0.0</td>\n",
       "    </tr>\n",
       "    <tr>\n",
       "      <th>311</th>\n",
       "      <td>0.0</td>\n",
       "      <td>0.0</td>\n",
       "      <td>0.0</td>\n",
       "      <td>0.0</td>\n",
       "      <td>0.0</td>\n",
       "      <td>0.0</td>\n",
       "      <td>0.0</td>\n",
       "      <td>0.0</td>\n",
       "      <td>0.0</td>\n",
       "      <td>0.0</td>\n",
       "      <td>...</td>\n",
       "      <td>0.0</td>\n",
       "      <td>0.0</td>\n",
       "      <td>0.0</td>\n",
       "      <td>0.0</td>\n",
       "      <td>0.0</td>\n",
       "      <td>0.0</td>\n",
       "      <td>0.0</td>\n",
       "      <td>0.000000</td>\n",
       "      <td>0.0</td>\n",
       "      <td>0.0</td>\n",
       "    </tr>\n",
       "    <tr>\n",
       "      <th>312</th>\n",
       "      <td>0.0</td>\n",
       "      <td>0.0</td>\n",
       "      <td>0.0</td>\n",
       "      <td>0.0</td>\n",
       "      <td>0.0</td>\n",
       "      <td>0.0</td>\n",
       "      <td>0.0</td>\n",
       "      <td>0.0</td>\n",
       "      <td>0.0</td>\n",
       "      <td>0.0</td>\n",
       "      <td>...</td>\n",
       "      <td>0.0</td>\n",
       "      <td>0.0</td>\n",
       "      <td>0.0</td>\n",
       "      <td>0.0</td>\n",
       "      <td>0.0</td>\n",
       "      <td>0.0</td>\n",
       "      <td>0.0</td>\n",
       "      <td>0.000000</td>\n",
       "      <td>0.0</td>\n",
       "      <td>0.0</td>\n",
       "    </tr>\n",
       "    <tr>\n",
       "      <th>313</th>\n",
       "      <td>0.0</td>\n",
       "      <td>0.0</td>\n",
       "      <td>0.0</td>\n",
       "      <td>0.0</td>\n",
       "      <td>0.0</td>\n",
       "      <td>0.0</td>\n",
       "      <td>0.0</td>\n",
       "      <td>0.0</td>\n",
       "      <td>0.0</td>\n",
       "      <td>0.0</td>\n",
       "      <td>...</td>\n",
       "      <td>0.0</td>\n",
       "      <td>0.0</td>\n",
       "      <td>0.0</td>\n",
       "      <td>0.0</td>\n",
       "      <td>0.0</td>\n",
       "      <td>0.0</td>\n",
       "      <td>0.0</td>\n",
       "      <td>0.000000</td>\n",
       "      <td>0.0</td>\n",
       "      <td>0.0</td>\n",
       "    </tr>\n",
       "  </tbody>\n",
       "</table>\n",
       "<p>314 rows × 2400 columns</p>\n",
       "</div>"
      ],
      "text/plain": [
       "     1859  1866  1868  1874  abandonna  abord  abordait  absence  accable  \\\n",
       "0     0.0   0.0   0.0   0.0        0.0    0.0       0.0      0.0      0.0   \n",
       "1     0.0   0.0   0.0   0.0        0.0    0.0       0.0      0.0      0.0   \n",
       "2     0.0   0.0   0.0   0.0        0.0    0.0       0.0      0.0      0.0   \n",
       "3     0.0   0.0   0.0   0.0        0.0    0.0       0.0      0.0      0.0   \n",
       "4     0.0   0.0   0.0   0.0        0.0    0.0       0.0      0.0      0.0   \n",
       "..    ...   ...   ...   ...        ...    ...       ...      ...      ...   \n",
       "309   0.0   0.0   0.0   0.0        0.0    0.0       0.0      0.0      0.0   \n",
       "310   0.0   0.0   0.0   0.0        0.0    0.0       0.0      0.0      0.0   \n",
       "311   0.0   0.0   0.0   0.0        0.0    0.0       0.0      0.0      0.0   \n",
       "312   0.0   0.0   0.0   0.0        0.0    0.0       0.0      0.0      0.0   \n",
       "313   0.0   0.0   0.0   0.0        0.0    0.0       0.0      0.0      0.0   \n",
       "\n",
       "     accepta  ...  étuve  été  éveilla  éveiller  éveillèrent  événements  \\\n",
       "0        0.0  ...    0.0  0.0      0.0       0.0          0.0         0.0   \n",
       "1        0.0  ...    0.0  0.0      0.0       0.0          0.0         0.0   \n",
       "2        0.0  ...    0.0  0.0      0.0       0.0          0.0         0.0   \n",
       "3        0.0  ...    0.0  0.0      0.0       0.0          0.0         0.0   \n",
       "4        0.0  ...    0.0  0.0      0.0       0.0          0.0         0.0   \n",
       "..       ...  ...    ...  ...      ...       ...          ...         ...   \n",
       "309      0.0  ...    0.0  0.0      0.0       0.0          0.0         0.0   \n",
       "310      0.0  ...    0.0  0.0      0.0       0.0          0.0         0.0   \n",
       "311      0.0  ...    0.0  0.0      0.0       0.0          0.0         0.0   \n",
       "312      0.0  ...    0.0  0.0      0.0       0.0          0.0         0.0   \n",
       "313      0.0  ...    0.0  0.0      0.0       0.0          0.0         0.0   \n",
       "\n",
       "     êtes      être  êtres  œil  \n",
       "0     0.0  0.000000    0.0  0.0  \n",
       "1     0.0  0.000000    0.0  0.0  \n",
       "2     0.0  0.000000    0.0  0.0  \n",
       "3     0.0  0.116826    0.0  0.0  \n",
       "4     0.0  0.000000    0.0  0.0  \n",
       "..    ...       ...    ...  ...  \n",
       "309   0.0  0.000000    0.0  0.0  \n",
       "310   0.0  0.000000    0.0  0.0  \n",
       "311   0.0  0.000000    0.0  0.0  \n",
       "312   0.0  0.000000    0.0  0.0  \n",
       "313   0.0  0.000000    0.0  0.0  \n",
       "\n",
       "[314 rows x 2400 columns]"
      ]
     },
     "execution_count": 11,
     "metadata": {},
     "output_type": "execute_result"
    }
   ],
   "source": [
    "from sklearn.feature_extraction.text import CountVectorizer, TfidfVectorizer\n",
    "vectorizer = TfidfVectorizer(max_features=2400)\n",
    "tfidf_data = vectorizer.fit_transform(trainn[\"text\"]).toarray()\n",
    "features = vectorizer.get_feature_names()\n",
    "tfidf_dataa = pd.DataFrame(tfidf_data, columns=features)\n",
    "tfidf_dataa"
   ]
  },
  {
   "cell_type": "code",
   "execution_count": null,
   "id": "5d14797f",
   "metadata": {
    "papermill": {
     "duration": 0.035542,
     "end_time": "2022-07-05T12:17:41.427347",
     "exception": false,
     "start_time": "2022-07-05T12:17:41.391805",
     "status": "completed"
    },
    "tags": []
   },
   "outputs": [],
   "source": []
  },
  {
   "cell_type": "code",
   "execution_count": 12,
   "id": "c1b756b6",
   "metadata": {
    "execution": {
     "iopub.execute_input": "2022-07-05T12:17:41.525755Z",
     "iopub.status.busy": "2022-07-05T12:17:41.524729Z",
     "iopub.status.idle": "2022-07-05T12:17:41.541838Z",
     "shell.execute_reply": "2022-07-05T12:17:41.541273Z",
     "shell.execute_reply.started": "2022-07-05T12:01:36.737286Z"
    },
    "papermill": {
     "duration": 0.079481,
     "end_time": "2022-07-05T12:17:41.541980",
     "exception": false,
     "start_time": "2022-07-05T12:17:41.462499",
     "status": "completed"
    },
    "tags": []
   },
   "outputs": [],
   "source": [
    "from sklearn.feature_extraction.text import CountVectorizer, TfidfVectorizer\n",
    "vectorizer = TfidfVectorizer(max_features=2400)\n",
    "tfidf_data = vectorizer.fit_transform(lingua_fr[\"text\"]).toarray()\n",
    "features = vectorizer.get_feature_names()\n",
    "tfidf_lingua_fr = pd.DataFrame(tfidf_data, columns=features)"
   ]
  },
  {
   "cell_type": "code",
   "execution_count": 13,
   "id": "6dd296e8",
   "metadata": {
    "execution": {
     "iopub.execute_input": "2022-07-05T12:17:41.617182Z",
     "iopub.status.busy": "2022-07-05T12:17:41.616310Z",
     "iopub.status.idle": "2022-07-05T12:17:41.619633Z",
     "shell.execute_reply": "2022-07-05T12:17:41.620240Z",
     "shell.execute_reply.started": "2022-07-05T12:01:36.772894Z"
    },
    "papermill": {
     "duration": 0.043955,
     "end_time": "2022-07-05T12:17:41.620419",
     "exception": false,
     "start_time": "2022-07-05T12:17:41.576464",
     "status": "completed"
    },
    "tags": []
   },
   "outputs": [
    {
     "data": {
      "text/plain": [
       "array(['A2', 'B1', 'A1', 'B2', 'C1', 'C2'], dtype=object)"
      ]
     },
     "execution_count": 13,
     "metadata": {},
     "output_type": "execute_result"
    }
   ],
   "source": [
    "y=trainn[\"label\"]\n",
    "y.unique()"
   ]
  },
  {
   "cell_type": "markdown",
   "id": "ff2849df",
   "metadata": {
    "papermill": {
     "duration": 0.036325,
     "end_time": "2022-07-05T12:17:41.693343",
     "exception": false,
     "start_time": "2022-07-05T12:17:41.657018",
     "status": "completed"
    },
    "tags": []
   },
   "source": [
    "**encoding y**"
   ]
  },
  {
   "cell_type": "code",
   "execution_count": 14,
   "id": "0268b22b",
   "metadata": {
    "execution": {
     "iopub.execute_input": "2022-07-05T12:17:41.769668Z",
     "iopub.status.busy": "2022-07-05T12:17:41.768697Z",
     "iopub.status.idle": "2022-07-05T12:17:41.772095Z",
     "shell.execute_reply": "2022-07-05T12:17:41.771496Z",
     "shell.execute_reply.started": "2022-07-05T12:01:36.854386Z"
    },
    "papermill": {
     "duration": 0.042799,
     "end_time": "2022-07-05T12:17:41.772239",
     "exception": false,
     "start_time": "2022-07-05T12:17:41.729440",
     "status": "completed"
    },
    "tags": []
   },
   "outputs": [],
   "source": [
    "y = le.fit_transform(y)"
   ]
  },
  {
   "cell_type": "code",
   "execution_count": 15,
   "id": "07804c24",
   "metadata": {
    "execution": {
     "iopub.execute_input": "2022-07-05T12:17:41.849339Z",
     "iopub.status.busy": "2022-07-05T12:17:41.848528Z",
     "iopub.status.idle": "2022-07-05T12:17:41.851806Z",
     "shell.execute_reply": "2022-07-05T12:17:41.852366Z",
     "shell.execute_reply.started": "2022-07-05T12:01:36.863919Z"
    },
    "papermill": {
     "duration": 0.045098,
     "end_time": "2022-07-05T12:17:41.852579",
     "exception": false,
     "start_time": "2022-07-05T12:17:41.807481",
     "status": "completed"
    },
    "tags": []
   },
   "outputs": [
    {
     "data": {
      "text/plain": [
       "array([0, 1, 2, 3, 4, 5])"
      ]
     },
     "execution_count": 15,
     "metadata": {},
     "output_type": "execute_result"
    }
   ],
   "source": [
    "np.unique(y)"
   ]
  },
  {
   "cell_type": "code",
   "execution_count": 16,
   "id": "c5dd2f44",
   "metadata": {
    "execution": {
     "iopub.execute_input": "2022-07-05T12:17:41.928265Z",
     "iopub.status.busy": "2022-07-05T12:17:41.927234Z",
     "iopub.status.idle": "2022-07-05T12:17:41.934009Z",
     "shell.execute_reply": "2022-07-05T12:17:41.933499Z",
     "shell.execute_reply.started": "2022-07-05T12:01:36.881123Z"
    },
    "papermill": {
     "duration": 0.04565,
     "end_time": "2022-07-05T12:17:41.934155",
     "exception": false,
     "start_time": "2022-07-05T12:17:41.888505",
     "status": "completed"
    },
    "tags": []
   },
   "outputs": [
    {
     "data": {
      "text/plain": [
       "(111, 2400)"
      ]
     },
     "execution_count": 16,
     "metadata": {},
     "output_type": "execute_result"
    }
   ],
   "source": [
    "tfidf_data.shape"
   ]
  },
  {
   "cell_type": "code",
   "execution_count": 17,
   "id": "c7ff07bc",
   "metadata": {
    "execution": {
     "iopub.execute_input": "2022-07-05T12:17:42.010317Z",
     "iopub.status.busy": "2022-07-05T12:17:42.009243Z",
     "iopub.status.idle": "2022-07-05T12:17:42.020263Z",
     "shell.execute_reply": "2022-07-05T12:17:42.019658Z",
     "shell.execute_reply.started": "2022-07-05T12:01:36.888480Z"
    },
    "papermill": {
     "duration": 0.049921,
     "end_time": "2022-07-05T12:17:42.020398",
     "exception": false,
     "start_time": "2022-07-05T12:17:41.970477",
     "status": "completed"
    },
    "tags": []
   },
   "outputs": [],
   "source": [
    "xtrain, xtest, ytrain, ytest = train_test_split(tfidf_dataa, y, test_size=0.2)"
   ]
  },
  {
   "cell_type": "markdown",
   "id": "6562e1c6",
   "metadata": {
    "papermill": {
     "duration": 0.034955,
     "end_time": "2022-07-05T12:17:42.091711",
     "exception": false,
     "start_time": "2022-07-05T12:17:42.056756",
     "status": "completed"
    },
    "tags": []
   },
   "source": [
    "****"
   ]
  },
  {
   "cell_type": "code",
   "execution_count": 18,
   "id": "29a6e2c2",
   "metadata": {
    "execution": {
     "iopub.execute_input": "2022-07-05T12:17:42.167251Z",
     "iopub.status.busy": "2022-07-05T12:17:42.166399Z",
     "iopub.status.idle": "2022-07-05T12:17:44.868955Z",
     "shell.execute_reply": "2022-07-05T12:17:44.867940Z",
     "shell.execute_reply.started": "2022-07-05T12:01:36.902559Z"
    },
    "papermill": {
     "duration": 2.742337,
     "end_time": "2022-07-05T12:17:44.869242",
     "exception": false,
     "start_time": "2022-07-05T12:17:42.126905",
     "status": "completed"
    },
    "tags": []
   },
   "outputs": [
    {
     "data": {
      "text/html": [
       "<style type='text/css'>\n",
       ".datatable table.frame { margin-bottom: 0; }\n",
       ".datatable table.frame thead { border-bottom: none; }\n",
       ".datatable table.frame tr.coltypes td {  color: #FFFFFF;  line-height: 6px;  padding: 0 0.5em;}\n",
       ".datatable .bool    { background: #DDDD99; }\n",
       ".datatable .object  { background: #565656; }\n",
       ".datatable .int     { background: #5D9E5D; }\n",
       ".datatable .float   { background: #4040CC; }\n",
       ".datatable .str     { background: #CC4040; }\n",
       ".datatable .time    { background: #40CC40; }\n",
       ".datatable .row_index {  background: var(--jp-border-color3);  border-right: 1px solid var(--jp-border-color0);  color: var(--jp-ui-font-color3);  font-size: 9px;}\n",
       ".datatable .frame tbody td { text-align: left; }\n",
       ".datatable .frame tr.coltypes .row_index {  background: var(--jp-border-color0);}\n",
       ".datatable th:nth-child(2) { padding-left: 12px; }\n",
       ".datatable .hellipsis {  color: var(--jp-cell-editor-border-color);}\n",
       ".datatable .vellipsis {  background: var(--jp-layout-color0);  color: var(--jp-cell-editor-border-color);}\n",
       ".datatable .na {  color: var(--jp-cell-editor-border-color);  font-size: 80%;}\n",
       ".datatable .sp {  opacity: 0.25;}\n",
       ".datatable .footer { font-size: 9px; }\n",
       ".datatable .frame_dimensions {  background: var(--jp-border-color3);  border-top: 1px solid var(--jp-border-color0);  color: var(--jp-ui-font-color3);  display: inline-block;  opacity: 0.6;  padding: 1px 10px 1px 5px;}\n",
       "</style>\n"
      ],
      "text/plain": [
       "<IPython.core.display.HTML object>"
      ]
     },
     "metadata": {},
     "output_type": "display_data"
    },
    {
     "name": "stdout",
     "output_type": "stream",
     "text": [
      "LightGBM Model accuracy score: 0.5873\n"
     ]
    }
   ],
   "source": [
    "import lightgbm as lgb\n",
    "clf = lgb.LGBMClassifier()\n",
    "clf.fit(xtrain, ytrain)\n",
    "y_pred=clf.predict(xtest)\n",
    "accuracy=accuracy_score(y_pred, ytest)\n",
    "print('LightGBM Model accuracy score: {0:0.4f}'.format(accuracy_score(ytest, y_pred)))"
   ]
  },
  {
   "cell_type": "code",
   "execution_count": 19,
   "id": "6e4ad830",
   "metadata": {
    "execution": {
     "iopub.execute_input": "2022-07-05T12:17:44.994347Z",
     "iopub.status.busy": "2022-07-05T12:17:44.993309Z",
     "iopub.status.idle": "2022-07-05T12:17:45.002859Z",
     "shell.execute_reply": "2022-07-05T12:17:45.003499Z",
     "shell.execute_reply.started": "2022-07-05T12:01:37.111291Z"
    },
    "papermill": {
     "duration": 0.09482,
     "end_time": "2022-07-05T12:17:45.003689",
     "exception": false,
     "start_time": "2022-07-05T12:17:44.908869",
     "status": "completed"
    },
    "tags": []
   },
   "outputs": [
    {
     "name": "stdout",
     "output_type": "stream",
     "text": [
      "              precision    recall  f1-score   support\n",
      "\n",
      "           0       0.73      0.57      0.64        14\n",
      "           1       0.29      0.29      0.29         7\n",
      "           2       0.61      0.83      0.70        30\n",
      "           3       0.33      0.20      0.25         5\n",
      "           4       0.00      0.00      0.00         4\n",
      "           5       1.00      0.33      0.50         3\n",
      "\n",
      "    accuracy                           0.59        63\n",
      "   macro avg       0.49      0.37      0.40        63\n",
      "weighted avg       0.56      0.59      0.55        63\n",
      "\n"
     ]
    }
   ],
   "source": [
    "from sklearn.metrics import classification_report\n",
    "print(classification_report(ytest, y_pred))"
   ]
  },
  {
   "cell_type": "code",
   "execution_count": 20,
   "id": "767bfd84",
   "metadata": {
    "execution": {
     "iopub.execute_input": "2022-07-05T12:17:45.085734Z",
     "iopub.status.busy": "2022-07-05T12:17:45.084632Z",
     "iopub.status.idle": "2022-07-05T12:17:45.090286Z",
     "shell.execute_reply": "2022-07-05T12:17:45.089791Z",
     "shell.execute_reply.started": "2022-07-05T12:01:37.123031Z"
    },
    "papermill": {
     "duration": 0.047422,
     "end_time": "2022-07-05T12:17:45.090430",
     "exception": false,
     "start_time": "2022-07-05T12:17:45.043008",
     "status": "completed"
    },
    "tags": []
   },
   "outputs": [],
   "source": [
    "y_true=le.transform(lingua_fr[\"cefr\"])"
   ]
  },
  {
   "cell_type": "code",
   "execution_count": 21,
   "id": "bd2d5a23",
   "metadata": {
    "execution": {
     "iopub.execute_input": "2022-07-05T12:17:45.174966Z",
     "iopub.status.busy": "2022-07-05T12:17:45.174029Z",
     "iopub.status.idle": "2022-07-05T12:17:45.178073Z",
     "shell.execute_reply": "2022-07-05T12:17:45.178872Z",
     "shell.execute_reply.started": "2022-07-05T12:01:37.129495Z"
    },
    "papermill": {
     "duration": 0.050195,
     "end_time": "2022-07-05T12:17:45.179048",
     "exception": false,
     "start_time": "2022-07-05T12:17:45.128853",
     "status": "completed"
    },
    "tags": []
   },
   "outputs": [
    {
     "data": {
      "text/plain": [
       "array([0, 1, 2, 3])"
      ]
     },
     "execution_count": 21,
     "metadata": {},
     "output_type": "execute_result"
    }
   ],
   "source": [
    "np.unique(y_true)"
   ]
  },
  {
   "cell_type": "code",
   "execution_count": 22,
   "id": "7c8c1d27",
   "metadata": {
    "execution": {
     "iopub.execute_input": "2022-07-05T12:17:45.265847Z",
     "iopub.status.busy": "2022-07-05T12:17:45.264619Z",
     "iopub.status.idle": "2022-07-05T12:17:45.524793Z",
     "shell.execute_reply": "2022-07-05T12:17:45.525284Z",
     "shell.execute_reply.started": "2022-07-05T12:01:37.141881Z"
    },
    "papermill": {
     "duration": 0.305807,
     "end_time": "2022-07-05T12:17:45.525490",
     "exception": false,
     "start_time": "2022-07-05T12:17:45.219683",
     "status": "completed"
    },
    "tags": []
   },
   "outputs": [
    {
     "data": {
      "text/plain": [
       "LGBMClassifier()"
      ]
     },
     "execution_count": 22,
     "metadata": {},
     "output_type": "execute_result"
    }
   ],
   "source": [
    "x=pd.concat([xtrain, xtest])\n",
    "y_=np.concatenate([ytrain, ytest])\n",
    "clf.fit(x,y_)"
   ]
  },
  {
   "cell_type": "code",
   "execution_count": 23,
   "id": "48e8aae3",
   "metadata": {
    "execution": {
     "iopub.execute_input": "2022-07-05T12:17:45.611794Z",
     "iopub.status.busy": "2022-07-05T12:17:45.610407Z",
     "iopub.status.idle": "2022-07-05T12:17:45.636194Z",
     "shell.execute_reply": "2022-07-05T12:17:45.635682Z",
     "shell.execute_reply.started": "2022-07-05T12:01:37.369624Z"
    },
    "papermill": {
     "duration": 0.070187,
     "end_time": "2022-07-05T12:17:45.636366",
     "exception": false,
     "start_time": "2022-07-05T12:17:45.566179",
     "status": "completed"
    },
    "tags": []
   },
   "outputs": [],
   "source": [
    "y_pr=clf.predict(tfidf_lingua_fr)"
   ]
  },
  {
   "cell_type": "code",
   "execution_count": 24,
   "id": "4c7b5e1a",
   "metadata": {
    "execution": {
     "iopub.execute_input": "2022-07-05T12:17:45.721070Z",
     "iopub.status.busy": "2022-07-05T12:17:45.716990Z",
     "iopub.status.idle": "2022-07-05T12:17:45.725314Z",
     "shell.execute_reply": "2022-07-05T12:17:45.724758Z",
     "shell.execute_reply.started": "2022-07-05T12:01:37.397056Z"
    },
    "papermill": {
     "duration": 0.049466,
     "end_time": "2022-07-05T12:17:45.725490",
     "exception": false,
     "start_time": "2022-07-05T12:17:45.676024",
     "status": "completed"
    },
    "tags": []
   },
   "outputs": [
    {
     "data": {
      "text/plain": [
       "array([0, 1, 2])"
      ]
     },
     "execution_count": 24,
     "metadata": {},
     "output_type": "execute_result"
    }
   ],
   "source": [
    "np.unique(y_pr)"
   ]
  },
  {
   "cell_type": "code",
   "execution_count": 25,
   "id": "fd0f1ca2",
   "metadata": {
    "execution": {
     "iopub.execute_input": "2022-07-05T12:17:45.808375Z",
     "iopub.status.busy": "2022-07-05T12:17:45.807221Z",
     "iopub.status.idle": "2022-07-05T12:17:45.818317Z",
     "shell.execute_reply": "2022-07-05T12:17:45.817421Z",
     "shell.execute_reply.started": "2022-07-05T12:01:37.404129Z"
    },
    "papermill": {
     "duration": 0.053859,
     "end_time": "2022-07-05T12:17:45.818547",
     "exception": false,
     "start_time": "2022-07-05T12:17:45.764688",
     "status": "completed"
    },
    "tags": []
   },
   "outputs": [
    {
     "name": "stdout",
     "output_type": "stream",
     "text": [
      "              precision    recall  f1-score   support\n",
      "\n",
      "           0       0.12      0.85      0.22        13\n",
      "           1       1.00      0.04      0.07        26\n",
      "           2       0.64      0.23      0.34        60\n",
      "           3       0.00      0.00      0.00        12\n",
      "\n",
      "    accuracy                           0.23       111\n",
      "   macro avg       0.44      0.28      0.16       111\n",
      "weighted avg       0.59      0.23      0.23       111\n",
      "\n"
     ]
    }
   ],
   "source": [
    "print(classification_report(y_true, y_pr))"
   ]
  },
  {
   "cell_type": "markdown",
   "id": "4fb07c45",
   "metadata": {
    "papermill": {
     "duration": 0.039643,
     "end_time": "2022-07-05T12:17:45.899366",
     "exception": false,
     "start_time": "2022-07-05T12:17:45.859723",
     "status": "completed"
    },
    "tags": []
   },
   "source": [
    "****"
   ]
  },
  {
   "cell_type": "code",
   "execution_count": 26,
   "id": "90295959",
   "metadata": {
    "execution": {
     "iopub.execute_input": "2022-07-05T12:17:45.988448Z",
     "iopub.status.busy": "2022-07-05T12:17:45.987439Z",
     "iopub.status.idle": "2022-07-05T12:17:45.991543Z",
     "shell.execute_reply": "2022-07-05T12:17:45.990932Z",
     "shell.execute_reply.started": "2022-07-05T12:13:44.723085Z"
    },
    "papermill": {
     "duration": 0.051999,
     "end_time": "2022-07-05T12:17:45.991691",
     "exception": false,
     "start_time": "2022-07-05T12:17:45.939692",
     "status": "completed"
    },
    "tags": []
   },
   "outputs": [],
   "source": [
    "def run_lgb(train_X, train_y, val_X, val_y,x_test):\n",
    "    params = {\n",
    "        \"objective\":\"multiclass\",\n",
    "        \"num_classes\":\"6\",\n",
    "        \"metric\" : \"multi_error\",\n",
    "        \"boosting_type\": \"gbdt\",\n",
    "        \"num_leaves\" : 10,\n",
    "        \"learning_rate\" : 0.004,\n",
    "        \"bagging_fraction\" : 0.6,\n",
    "        \"feature_fraction\" : 0.6,\n",
    "        \"bagging_frequency\" : 6,\n",
    "        \"bagging_seed\" : 42,\n",
    "        \"verbosity\" : -1,\n",
    "        \"seed\": 42\n",
    "    }\n",
    "    \n",
    "    lgtrain = lgb.Dataset(train_X, label=train_y)\n",
    "    lgval = lgb.Dataset(val_X, label=val_y)\n",
    "    evals_result = {}\n",
    "    model = lgb.train(params, lgtrain, 5000,\n",
    "                      valid_sets=[lgtrain, lgval], \n",
    "                      early_stopping_rounds=100, \n",
    "                      verbose_eval=150, \n",
    "                      evals_result=evals_result)\n",
    "    ypred=model.predict(x_test).argmax(axis=1)\n",
    "    accuracy=accuracy_score(ypred, val_y)\n",
    "    return  accuracy , model, evals_result"
   ]
  },
  {
   "cell_type": "code",
   "execution_count": 27,
   "id": "d19418fd",
   "metadata": {
    "execution": {
     "iopub.execute_input": "2022-07-05T12:17:46.077042Z",
     "iopub.status.busy": "2022-07-05T12:17:46.075929Z",
     "iopub.status.idle": "2022-07-05T12:17:46.292305Z",
     "shell.execute_reply": "2022-07-05T12:17:46.293097Z",
     "shell.execute_reply.started": "2022-07-05T12:16:29.556263Z"
    },
    "papermill": {
     "duration": 0.261978,
     "end_time": "2022-07-05T12:17:46.293351",
     "exception": false,
     "start_time": "2022-07-05T12:17:46.031373",
     "status": "completed"
    },
    "tags": []
   },
   "outputs": [
    {
     "name": "stdout",
     "output_type": "stream",
     "text": [
      "[LightGBM] [Warning] Unknown parameter: bagging_frequency\n",
      "Training until validation scores don't improve for 100 rounds\n",
      "Early stopping, best iteration is:\n",
      "[1]\ttraining's multi_error: 0.482072\tvalid_1's multi_error: 0.52381\n",
      "LightGBM Training Completed...\n",
      "\n",
      " LightGBM Model accuracy score: 0.4762\n"
     ]
    }
   ],
   "source": [
    "accuracy ,model, evals_result = run_lgb(xtrain, ytrain, xtest, ytest, xtest)\n",
    "print(\"LightGBM Training Completed...\\n\\n\",'LightGBM Model accuracy score: {0:0.4f}'.format(accuracy)  )"
   ]
  },
  {
   "cell_type": "code",
   "execution_count": 28,
   "id": "efacaca3",
   "metadata": {
    "execution": {
     "iopub.execute_input": "2022-07-05T12:17:46.383965Z",
     "iopub.status.busy": "2022-07-05T12:17:46.382816Z",
     "iopub.status.idle": "2022-07-05T12:17:46.405874Z",
     "shell.execute_reply": "2022-07-05T12:17:46.406519Z",
     "shell.execute_reply.started": "2022-07-05T12:16:37.897069Z"
    },
    "papermill": {
     "duration": 0.069985,
     "end_time": "2022-07-05T12:17:46.406717",
     "exception": false,
     "start_time": "2022-07-05T12:17:46.336732",
     "status": "completed"
    },
    "tags": []
   },
   "outputs": [
    {
     "data": {
      "text/plain": [
       "array([2])"
      ]
     },
     "execution_count": 28,
     "metadata": {},
     "output_type": "execute_result"
    }
   ],
   "source": [
    "ypred=model.predict(xtest).argmax(axis=1)\n",
    "np.unique(ypred)"
   ]
  },
  {
   "cell_type": "markdown",
   "id": "30aac4a8",
   "metadata": {
    "papermill": {
     "duration": 0.039659,
     "end_time": "2022-07-05T12:17:46.488564",
     "exception": false,
     "start_time": "2022-07-05T12:17:46.448905",
     "status": "completed"
    },
    "tags": []
   },
   "source": [
    "****"
   ]
  },
  {
   "cell_type": "code",
   "execution_count": 29,
   "id": "ad80bac2",
   "metadata": {
    "execution": {
     "iopub.execute_input": "2022-07-05T12:17:46.573483Z",
     "iopub.status.busy": "2022-07-05T12:17:46.572359Z",
     "iopub.status.idle": "2022-07-05T12:17:46.597355Z",
     "shell.execute_reply": "2022-07-05T12:17:46.598002Z",
     "shell.execute_reply.started": "2022-07-05T12:07:49.068914Z"
    },
    "papermill": {
     "duration": 0.069997,
     "end_time": "2022-07-05T12:17:46.598178",
     "exception": false,
     "start_time": "2022-07-05T12:17:46.528181",
     "status": "completed"
    },
    "tags": []
   },
   "outputs": [
    {
     "data": {
      "text/plain": [
       "array([2])"
      ]
     },
     "execution_count": 29,
     "metadata": {},
     "output_type": "execute_result"
    }
   ],
   "source": [
    "ypr=model.predict(tfidf_lingua_fr).argmax(axis=1)\n",
    "np.unique(ypr)"
   ]
  },
  {
   "cell_type": "code",
   "execution_count": 30,
   "id": "4fdd3da5",
   "metadata": {
    "execution": {
     "iopub.execute_input": "2022-07-05T12:17:46.683851Z",
     "iopub.status.busy": "2022-07-05T12:17:46.682863Z",
     "iopub.status.idle": "2022-07-05T12:17:46.694075Z",
     "shell.execute_reply": "2022-07-05T12:17:46.693576Z",
     "shell.execute_reply.started": "2022-07-05T12:09:48.702069Z"
    },
    "papermill": {
     "duration": 0.055339,
     "end_time": "2022-07-05T12:17:46.694213",
     "exception": false,
     "start_time": "2022-07-05T12:17:46.638874",
     "status": "completed"
    },
    "tags": []
   },
   "outputs": [
    {
     "name": "stdout",
     "output_type": "stream",
     "text": [
      "              precision    recall  f1-score   support\n",
      "\n",
      "           0       0.00      0.00      0.00        13\n",
      "           1       0.00      0.00      0.00        26\n",
      "           2       0.54      1.00      0.70        60\n",
      "           3       0.00      0.00      0.00        12\n",
      "\n",
      "    accuracy                           0.54       111\n",
      "   macro avg       0.14      0.25      0.18       111\n",
      "weighted avg       0.29      0.54      0.38       111\n",
      "\n"
     ]
    }
   ],
   "source": [
    "print(classification_report(y_true, ypr))"
   ]
  },
  {
   "cell_type": "code",
   "execution_count": null,
   "id": "c2c9ea8c",
   "metadata": {
    "papermill": {
     "duration": 0.041445,
     "end_time": "2022-07-05T12:17:46.777166",
     "exception": false,
     "start_time": "2022-07-05T12:17:46.735721",
     "status": "completed"
    },
    "tags": []
   },
   "outputs": [],
   "source": []
  }
 ],
 "metadata": {
  "kernelspec": {
   "display_name": "Python 3",
   "language": "python",
   "name": "python3"
  },
  "language_info": {
   "codemirror_mode": {
    "name": "ipython",
    "version": 3
   },
   "file_extension": ".py",
   "mimetype": "text/x-python",
   "name": "python",
   "nbconvert_exporter": "python",
   "pygments_lexer": "ipython3",
   "version": "3.7.10"
  },
  "papermill": {
   "default_parameters": {},
   "duration": 28.718064,
   "end_time": "2022-07-05T12:17:50.221024",
   "environment_variables": {},
   "exception": null,
   "input_path": "__notebook__.ipynb",
   "output_path": "__notebook__.ipynb",
   "parameters": {},
   "start_time": "2022-07-05T12:17:21.502960",
   "version": "2.3.3"
  }
 },
 "nbformat": 4,
 "nbformat_minor": 5
}
