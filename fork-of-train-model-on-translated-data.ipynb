{
 "cells": [
  {
   "cell_type": "code",
   "execution_count": 1,
   "id": "7d5fdf45",
   "metadata": {
    "execution": {
     "iopub.execute_input": "2022-07-20T09:42:54.583732Z",
     "iopub.status.busy": "2022-07-20T09:42:54.582240Z",
     "iopub.status.idle": "2022-07-20T09:43:02.452601Z",
     "shell.execute_reply": "2022-07-20T09:43:02.453101Z",
     "shell.execute_reply.started": "2022-07-20T09:13:21.830858Z"
    },
    "papermill": {
     "duration": 7.904148,
     "end_time": "2022-07-20T09:43:02.453424",
     "exception": false,
     "start_time": "2022-07-20T09:42:54.549276",
     "status": "completed"
    },
    "tags": []
   },
   "outputs": [],
   "source": [
    "import os\n",
    "\n",
    "import random\n",
    "import numpy as np\n",
    "\n",
    "import pandas as pd\n",
    "import torch\n",
    "from torch.utils.data import Dataset, random_split\n",
    "from transformers import (\n",
    "    AdamW,\n",
    "    Trainer,\n",
    "    TrainingArguments,\n",
    "    AutoTokenizer,\n",
    "    AutoModelForSequenceClassification,\n",
    "    get_cosine_schedule_with_warmup,\n",
    ")\n",
    "from sklearn.preprocessing import LabelEncoder\n",
    "from sklearn.metrics import accuracy_score\n",
    "import warnings\n",
    "warnings.filterwarnings('ignore')"
   ]
  },
  {
   "cell_type": "code",
   "execution_count": 2,
   "id": "25e9607e",
   "metadata": {
    "execution": {
     "iopub.execute_input": "2022-07-20T09:43:02.518542Z",
     "iopub.status.busy": "2022-07-20T09:43:02.517698Z",
     "iopub.status.idle": "2022-07-20T09:43:06.038240Z",
     "shell.execute_reply": "2022-07-20T09:43:06.037296Z",
     "shell.execute_reply.started": "2022-07-20T09:13:29.511971Z"
    },
    "papermill": {
     "duration": 3.555681,
     "end_time": "2022-07-20T09:43:06.038387",
     "exception": false,
     "start_time": "2022-07-20T09:43:02.482706",
     "status": "completed"
    },
    "tags": []
   },
   "outputs": [
    {
     "data": {
      "application/vnd.jupyter.widget-view+json": {
       "model_id": "50e4c43e5b864ad48b61a35e612a97a4",
       "version_major": 2,
       "version_minor": 0
      },
      "text/plain": [
       "Downloading:   0%|          | 0.00/420 [00:00<?, ?B/s]"
      ]
     },
     "metadata": {},
     "output_type": "display_data"
    },
    {
     "data": {
      "application/vnd.jupyter.widget-view+json": {
       "model_id": "db0f1816fe4844bf941fc29048ac26ee",
       "version_major": 2,
       "version_minor": 0
      },
      "text/plain": [
       "Downloading:   0%|          | 0.00/227k [00:00<?, ?B/s]"
      ]
     },
     "metadata": {},
     "output_type": "display_data"
    },
    {
     "data": {
      "application/vnd.jupyter.widget-view+json": {
       "model_id": "8b368eed35784f478dad585dd69026fa",
       "version_major": 2,
       "version_minor": 0
      },
      "text/plain": [
       "Downloading:   0%|          | 0.00/83.0 [00:00<?, ?B/s]"
      ]
     },
     "metadata": {},
     "output_type": "display_data"
    }
   ],
   "source": [
    "model_name = \"dbmdz/bert-base-french-europeana-cased\"\n",
    "\n",
    "tokenizer = AutoTokenizer.from_pretrained(model_name)\n",
    "\n",
    "device = torch.device(\"cuda\" if torch.cuda.is_available() else \"cpu\")"
   ]
  },
  {
   "cell_type": "code",
   "execution_count": 3,
   "id": "5d388e3f",
   "metadata": {
    "execution": {
     "iopub.execute_input": "2022-07-20T09:43:06.103052Z",
     "iopub.status.busy": "2022-07-20T09:43:06.102185Z",
     "iopub.status.idle": "2022-07-20T09:43:06.104531Z",
     "shell.execute_reply": "2022-07-20T09:43:06.104027Z",
     "shell.execute_reply.started": "2022-07-20T09:13:34.302670Z"
    },
    "papermill": {
     "duration": 0.036064,
     "end_time": "2022-07-20T09:43:06.104650",
     "exception": false,
     "start_time": "2022-07-20T09:43:06.068586",
     "status": "completed"
    },
    "tags": []
   },
   "outputs": [],
   "source": [
    "lr = 2e-5\n",
    "epochs =  6\n",
    "batch_size = 5\n",
    "max_seq_len = 75\n",
    "\n",
    "test_frac = 0.1"
   ]
  },
  {
   "cell_type": "code",
   "execution_count": 4,
   "id": "c8e5378a",
   "metadata": {
    "execution": {
     "iopub.execute_input": "2022-07-20T09:43:06.167860Z",
     "iopub.status.busy": "2022-07-20T09:43:06.167203Z",
     "iopub.status.idle": "2022-07-20T09:43:06.172333Z",
     "shell.execute_reply": "2022-07-20T09:43:06.171902Z",
     "shell.execute_reply.started": "2022-07-20T09:13:34.309076Z"
    },
    "papermill": {
     "duration": 0.038654,
     "end_time": "2022-07-20T09:43:06.172438",
     "exception": false,
     "start_time": "2022-07-20T09:43:06.133784",
     "status": "completed"
    },
    "tags": []
   },
   "outputs": [],
   "source": [
    "import os\n",
    "\n",
    "def set_seed(seed=106052):\n",
    "    \"\"\"Set seed for reproducibility.\n",
    "    \"\"\"\n",
    "    random.seed(seed)\n",
    "    np.random.seed(seed)\n",
    "    torch.manual_seed(seed)\n",
    "    torch.cuda.manual_seed_all(seed)\n",
    "    \n",
    "    os.environ['PYTHONHASHSEED'] = str(seed)\n",
    "    \n",
    "set_seed()"
   ]
  },
  {
   "cell_type": "code",
   "execution_count": 5,
   "id": "f5c15c5b",
   "metadata": {
    "execution": {
     "iopub.execute_input": "2022-07-20T09:43:06.238472Z",
     "iopub.status.busy": "2022-07-20T09:43:06.236696Z",
     "iopub.status.idle": "2022-07-20T09:43:06.240563Z",
     "shell.execute_reply": "2022-07-20T09:43:06.240998Z",
     "shell.execute_reply.started": "2022-07-20T09:13:34.321678Z"
    },
    "papermill": {
     "duration": 0.040016,
     "end_time": "2022-07-20T09:43:06.241150",
     "exception": false,
     "start_time": "2022-07-20T09:43:06.201134",
     "status": "completed"
    },
    "tags": []
   },
   "outputs": [],
   "source": [
    "class CEFRDataset(Dataset):\n",
    "    \"\"\"Classification dataset, built on top of pytorch dataset object\n",
    "    \"\"\"\n",
    "    \n",
    "    def __init__(self, texts, labels):\n",
    "        \n",
    "        self.encoder = LabelEncoder()\n",
    "        print(self.encoder.__dict__)\n",
    "        self.texts = texts\n",
    "        self.labels = self.encoder.fit_transform(labels)\n",
    "\n",
    "    def __len__(self):\n",
    "        return len(self.texts)\n",
    "\n",
    "    def __getitem__(self, index):\n",
    "        text = self.texts[index]\n",
    "        label = self.labels[index]\n",
    "        encoded_text = tokenizer(\n",
    "            text,\n",
    "            padding=\"max_length\",\n",
    "            max_length=max_seq_len,\n",
    "            truncation=True,\n",
    "            return_tensors=\"pt\",\n",
    "        )\n",
    "        encoded_text[\"input_ids\"] = encoded_text[\"input_ids\"].squeeze()\n",
    "        encoded_text[\"attention_mask\"] = encoded_text[\"attention_mask\"].squeeze()\n",
    "        label = torch.tensor(label)\n",
    "\n",
    "        return {\n",
    "            \"input_ids\": encoded_text[\"input_ids\"],\n",
    "            \"attention_mask\": encoded_text[\"attention_mask\"],\n",
    "            \"labels\": label,\n",
    "        }\n",
    "\n",
    "    def get_labels(self):\n",
    "        return self.labels"
   ]
  },
  {
   "cell_type": "code",
   "execution_count": 6,
   "id": "19ac4de2",
   "metadata": {
    "execution": {
     "iopub.execute_input": "2022-07-20T09:43:06.305939Z",
     "iopub.status.busy": "2022-07-20T09:43:06.305084Z",
     "iopub.status.idle": "2022-07-20T09:43:06.306971Z",
     "shell.execute_reply": "2022-07-20T09:43:06.307389Z",
     "shell.execute_reply.started": "2022-07-20T09:13:34.332216Z"
    },
    "papermill": {
     "duration": 0.037687,
     "end_time": "2022-07-20T09:43:06.307516",
     "exception": false,
     "start_time": "2022-07-20T09:43:06.269829",
     "status": "completed"
    },
    "tags": []
   },
   "outputs": [],
   "source": [
    "def train(train_set, valid_set, epochs=10, warmup_size=0.1, lr=1e-3, batch_size=16):\n",
    "    model = get_model(model_name)\n",
    "    optim = AdamW(model.parameters(), lr=lr)\n",
    "    scheduler = get_scheduler(\n",
    "        optim, warmup_size, round(len(train_set) / batch_size * epochs)\n",
    "    )\n",
    "    training_args = get_training_args(epochs, batch_size)\n",
    "    trainer = Trainer(\n",
    "        model=model,\n",
    "        args=training_args,\n",
    "        train_dataset=train_set,\n",
    "        eval_dataset=valid_set,\n",
    "        optimizers=[optim, scheduler],\n",
    "        compute_metrics=compute_accuracy,\n",
    "    )\n",
    "    trainer.train()\n",
    "    trainer.save_model()\n",
    "    return trainer"
   ]
  },
  {
   "cell_type": "code",
   "execution_count": 7,
   "id": "2667edae",
   "metadata": {
    "execution": {
     "iopub.execute_input": "2022-07-20T09:43:06.370240Z",
     "iopub.status.busy": "2022-07-20T09:43:06.369375Z",
     "iopub.status.idle": "2022-07-20T09:43:06.371206Z",
     "shell.execute_reply": "2022-07-20T09:43:06.371645Z",
     "shell.execute_reply.started": "2022-07-20T09:13:34.343857Z"
    },
    "papermill": {
     "duration": 0.035651,
     "end_time": "2022-07-20T09:43:06.371790",
     "exception": false,
     "start_time": "2022-07-20T09:43:06.336139",
     "status": "completed"
    },
    "tags": []
   },
   "outputs": [],
   "source": [
    "def get_model(pretrained_checkpoint):\n",
    "    model = AutoModelForSequenceClassification.from_pretrained(\n",
    "        pretrained_checkpoint, num_labels=6\n",
    "    )\n",
    "    return model.to(device)"
   ]
  },
  {
   "cell_type": "code",
   "execution_count": 8,
   "id": "4542e7ff",
   "metadata": {
    "execution": {
     "iopub.execute_input": "2022-07-20T09:43:06.436686Z",
     "iopub.status.busy": "2022-07-20T09:43:06.435976Z",
     "iopub.status.idle": "2022-07-20T09:43:06.438610Z",
     "shell.execute_reply": "2022-07-20T09:43:06.438184Z",
     "shell.execute_reply.started": "2022-07-20T09:13:34.352611Z"
    },
    "papermill": {
     "duration": 0.038424,
     "end_time": "2022-07-20T09:43:06.438717",
     "exception": false,
     "start_time": "2022-07-20T09:43:06.400293",
     "status": "completed"
    },
    "tags": []
   },
   "outputs": [],
   "source": [
    "os.environ[\"WANDB_DISABLED\"] = \"true\"\n",
    "\n",
    "\n",
    "def get_scheduler(optimizer, warmup_size, total_steps):\n",
    "    scheduler = get_cosine_schedule_with_warmup(\n",
    "        optimizer,\n",
    "        num_warmup_steps=round(total_steps * warmup_size),\n",
    "        num_training_steps=total_steps,\n",
    "    )\n",
    "    return scheduler\n",
    "\n",
    "\n",
    "def get_training_args(epochs, batch_size):\n",
    "    return TrainingArguments(\n",
    "        output_dir=\"./b\",\n",
    "        num_train_epochs=epochs,\n",
    "        per_device_train_batch_size=batch_size,\n",
    "        logging_steps=50,\n",
    "        fp16=False,\n",
    "        evaluation_strategy=\"epoch\",\n",
    "        eval_accumulation_steps=1,\n",
    "        report_to=None,\n",
    "        save_total_limit=1,\n",
    "        load_best_model_at_end=True\n",
    "    )\n",
    "\n",
    "\n",
    "def compute_accuracy(pred):\n",
    "    labels = pred.label_ids\n",
    "    preds = pred.predictions.argmax(-1)\n",
    "    acc = accuracy_score(labels, preds)\n",
    "    return {\"accuracy\": acc}\n",
    "\n"
   ]
  },
  {
   "cell_type": "code",
   "execution_count": 9,
   "id": "c4560b92",
   "metadata": {
    "execution": {
     "iopub.execute_input": "2022-07-20T09:43:06.500089Z",
     "iopub.status.busy": "2022-07-20T09:43:06.499307Z",
     "iopub.status.idle": "2022-07-20T09:43:06.501259Z",
     "shell.execute_reply": "2022-07-20T09:43:06.501658Z",
     "shell.execute_reply.started": "2022-07-20T09:13:34.363597Z"
    },
    "papermill": {
     "duration": 0.034628,
     "end_time": "2022-07-20T09:43:06.501800",
     "exception": false,
     "start_time": "2022-07-20T09:43:06.467172",
     "status": "completed"
    },
    "tags": []
   },
   "outputs": [],
   "source": [
    "lr = 2e-5\n",
    "epochs =  7\n",
    "batch_size = 8\n",
    "max_seq_len = 512"
   ]
  },
  {
   "cell_type": "code",
   "execution_count": 10,
   "id": "a3040def",
   "metadata": {
    "execution": {
     "iopub.execute_input": "2022-07-20T09:43:06.565268Z",
     "iopub.status.busy": "2022-07-20T09:43:06.564442Z",
     "iopub.status.idle": "2022-07-20T09:43:06.566265Z",
     "shell.execute_reply": "2022-07-20T09:43:06.566700Z",
     "shell.execute_reply.started": "2022-07-20T09:13:34.378629Z"
    },
    "papermill": {
     "duration": 0.036316,
     "end_time": "2022-07-20T09:43:06.566857",
     "exception": false,
     "start_time": "2022-07-20T09:43:06.530541",
     "status": "completed"
    },
    "tags": []
   },
   "outputs": [],
   "source": [
    "def split_valid(df, frac=0.2):\n",
    "    \n",
    "    val = pd.DataFrame()\n",
    "    val[\"text\"] = \"\"\n",
    "    val[\"label\"] = -1\n",
    "    \n",
    "    for i in df.label.unique():\n",
    "        val = pd.concat([val, df[df.label == i].sample(frac=frac)])\n",
    "        \n",
    "    return df[~df.index.isin(val.index)].reset_index(drop=True) , val.reset_index(drop=True)"
   ]
  },
  {
   "cell_type": "code",
   "execution_count": 11,
   "id": "101d2869",
   "metadata": {
    "execution": {
     "iopub.execute_input": "2022-07-20T09:43:06.627966Z",
     "iopub.status.busy": "2022-07-20T09:43:06.627229Z",
     "iopub.status.idle": "2022-07-20T09:43:06.629622Z",
     "shell.execute_reply": "2022-07-20T09:43:06.629200Z",
     "shell.execute_reply.started": "2022-07-20T09:41:51.109002Z"
    },
    "papermill": {
     "duration": 0.034269,
     "end_time": "2022-07-20T09:43:06.629727",
     "exception": false,
     "start_time": "2022-07-20T09:43:06.595458",
     "status": "completed"
    },
    "tags": []
   },
   "outputs": [],
   "source": [
    "# train_set_df = pd.read_csv(\"../input/newdatasets/mike_20_june_new (1).csv\")\n",
    "# new=pd.read_csv(\"../input/lingua/fr_lingua.csv\")\n",
    "# new.columns=[\"text\",\"label\"]"
   ]
  },
  {
   "cell_type": "code",
   "execution_count": 12,
   "id": "810a2b94",
   "metadata": {
    "execution": {
     "iopub.execute_input": "2022-07-20T09:43:06.691259Z",
     "iopub.status.busy": "2022-07-20T09:43:06.690711Z",
     "iopub.status.idle": "2022-07-20T09:43:06.722193Z",
     "shell.execute_reply": "2022-07-20T09:43:06.722607Z",
     "shell.execute_reply.started": "2022-07-20T09:13:34.414209Z"
    },
    "papermill": {
     "duration": 0.064108,
     "end_time": "2022-07-20T09:43:06.722743",
     "exception": false,
     "start_time": "2022-07-20T09:43:06.658635",
     "status": "completed"
    },
    "tags": []
   },
   "outputs": [
    {
     "data": {
      "text/plain": [
       "((315, 2),\n",
       "                                                 text label\n",
       " 0  Il était une fois un prince qui voulait épouse...    A2\n",
       " 1  Il fit le tour de la Terre pour en trouver une...    B1)"
      ]
     },
     "execution_count": 12,
     "metadata": {},
     "output_type": "execute_result"
    }
   ],
   "source": [
    "french=pd.read_csv(\"../input/frenchcefr/french dataset.csv\")\n",
    "french=french[[\"text\",\"label\"]]\n",
    "french.shape,french.head(2)\n"
   ]
  },
  {
   "cell_type": "code",
   "execution_count": 13,
   "id": "216fd96d",
   "metadata": {
    "execution": {
     "iopub.execute_input": "2022-07-20T09:43:06.785629Z",
     "iopub.status.busy": "2022-07-20T09:43:06.785117Z",
     "iopub.status.idle": "2022-07-20T09:43:07.030217Z",
     "shell.execute_reply": "2022-07-20T09:43:07.031202Z",
     "shell.execute_reply.started": "2022-07-20T09:13:34.446900Z"
    },
    "papermill": {
     "duration": 0.279565,
     "end_time": "2022-07-20T09:43:07.031415",
     "exception": false,
     "start_time": "2022-07-20T09:43:06.751850",
     "status": "completed"
    },
    "tags": []
   },
   "outputs": [],
   "source": [
    "train_set_d = pd.read_csv(\"../input/eng-data/translated.csv\")\n",
    "train_set_d = train_set_d[train_set_d.label != \"XX\"]\n",
    "train_set_d.columns=[\"txt\",\"label\",\"text\"]\n",
    "train_set_d = train_set_d[[\"text\", \"label\"]]"
   ]
  },
  {
   "cell_type": "code",
   "execution_count": 14,
   "id": "98f32638",
   "metadata": {
    "execution": {
     "iopub.execute_input": "2022-07-20T09:43:07.157807Z",
     "iopub.status.busy": "2022-07-20T09:43:07.157009Z",
     "iopub.status.idle": "2022-07-20T09:43:07.183746Z",
     "shell.execute_reply": "2022-07-20T09:43:07.182430Z",
     "shell.execute_reply.started": "2022-07-20T09:16:23.246641Z"
    },
    "papermill": {
     "duration": 0.092944,
     "end_time": "2022-07-20T09:43:07.183953",
     "exception": false,
     "start_time": "2022-07-20T09:43:07.091009",
     "status": "completed"
    },
    "tags": []
   },
   "outputs": [],
   "source": [
    "train_set_dff = pd.read_csv(\"../input/fr-cerfr/dataset_to_be_annotated_-_dataset_to_be_annotated.csv\")\n",
    "train_set_dff.drop(\"Unnamed: 3\", axis=1, inplace=True)\n",
    "train_set_dff = train_set_dff[pd.notnull(train_set_dff['cefr'])]\n",
    "train_set_dff = train_set_dff.reset_index(drop=True)\n",
    "train_set_dff.columns=[\"text\",\"lens\",\"label\"]\n",
    "train_set_dff = train_set_dff[train_set_dff.label != \"-\"]\n",
    "train_set_dff = train_set_dff.reset_index(drop=True)\n",
    "train_set_dff = train_set_dff[[\"text\", \"label\"]]\n",
    "for i in range(train_set_dff.shape[0]):\n",
    "    if train_set_dff.loc[i,\"label\"]==\"c1\":\n",
    "        train_set_dff.loc[i,\"label\"]=\"C1\""
   ]
  },
  {
   "cell_type": "code",
   "execution_count": 15,
   "id": "7726b648",
   "metadata": {
    "execution": {
     "iopub.execute_input": "2022-07-20T09:43:07.293449Z",
     "iopub.status.busy": "2022-07-20T09:43:07.292573Z",
     "iopub.status.idle": "2022-07-20T09:43:07.296268Z",
     "shell.execute_reply": "2022-07-20T09:43:07.297009Z",
     "shell.execute_reply.started": "2022-07-20T09:17:20.561894Z"
    },
    "papermill": {
     "duration": 0.061546,
     "end_time": "2022-07-20T09:43:07.297190",
     "exception": false,
     "start_time": "2022-07-20T09:43:07.235644",
     "status": "completed"
    },
    "tags": []
   },
   "outputs": [],
   "source": [
    "train_set_df=pd.concat([train_set_dff, train_set_d], ignore_index=True)"
   ]
  },
  {
   "cell_type": "code",
   "execution_count": 16,
   "id": "e9acae1a",
   "metadata": {
    "execution": {
     "iopub.execute_input": "2022-07-20T09:43:07.410557Z",
     "iopub.status.busy": "2022-07-20T09:43:07.409723Z",
     "iopub.status.idle": "2022-07-20T09:43:07.444227Z",
     "shell.execute_reply": "2022-07-20T09:43:07.443664Z",
     "shell.execute_reply.started": "2022-07-20T09:17:22.875285Z"
    },
    "papermill": {
     "duration": 0.097059,
     "end_time": "2022-07-20T09:43:07.444356",
     "exception": false,
     "start_time": "2022-07-20T09:43:07.347297",
     "status": "completed"
    },
    "tags": []
   },
   "outputs": [],
   "source": [
    "from sklearn import preprocessing\n",
    "le = preprocessing.LabelEncoder()\n",
    "\n",
    "\n",
    "\n",
    "train_set_df.text = train_set_df.text.apply(lambda x: x.replace(\"\\r\", \"\").replace(\"\\n\", \" \"))\n",
    "\n",
    "extra_df = pd.read_csv(\"../input/frenchcefr/french_mike_june.csv\")\n",
    "extra_df.columns = [\"text\", \"label\", \"label_\"]\n",
    "extra_df = extra_df[[\"text\", \"label\"]]\n",
    "extra_df.text = extra_df.text.astype(str)\n",
    "#train_set_df = pd.concat([train_set_df, extra_df]).reset_index(drop=True)\n",
    "\n",
    "train_set_df, valid_set_df = split_valid(train_set_df)"
   ]
  },
  {
   "cell_type": "code",
   "execution_count": 17,
   "id": "46f2fa45",
   "metadata": {
    "execution": {
     "iopub.execute_input": "2022-07-20T09:43:07.510431Z",
     "iopub.status.busy": "2022-07-20T09:43:07.509237Z",
     "iopub.status.idle": "2022-07-20T09:43:07.512341Z",
     "shell.execute_reply": "2022-07-20T09:43:07.512740Z",
     "shell.execute_reply.started": "2022-07-20T09:17:24.208634Z"
    },
    "papermill": {
     "duration": 0.039025,
     "end_time": "2022-07-20T09:43:07.512893",
     "exception": false,
     "start_time": "2022-07-20T09:43:07.473868",
     "status": "completed"
    },
    "tags": []
   },
   "outputs": [
    {
     "data": {
      "text/plain": [
       "array(['C1', 'B2', 'B1', 'C2', 'A2', 'A1'], dtype=object)"
      ]
     },
     "execution_count": 17,
     "metadata": {},
     "output_type": "execute_result"
    }
   ],
   "source": [
    "train_set_df.label.unique()"
   ]
  },
  {
   "cell_type": "code",
   "execution_count": 18,
   "id": "3108db26",
   "metadata": {
    "execution": {
     "iopub.execute_input": "2022-07-20T09:43:07.578337Z",
     "iopub.status.busy": "2022-07-20T09:43:07.576181Z",
     "iopub.status.idle": "2022-07-20T09:43:07.582621Z",
     "shell.execute_reply": "2022-07-20T09:43:07.583041Z",
     "shell.execute_reply.started": "2022-07-20T09:17:35.960773Z"
    },
    "papermill": {
     "duration": 0.040488,
     "end_time": "2022-07-20T09:43:07.583184",
     "exception": false,
     "start_time": "2022-07-20T09:43:07.542696",
     "status": "completed"
    },
    "tags": []
   },
   "outputs": [
    {
     "data": {
      "text/plain": [
       "B2    302\n",
       "A1    230\n",
       "C1    222\n",
       "A2    221\n",
       "B1    204\n",
       "C2    171\n",
       "Name: label, dtype: int64"
      ]
     },
     "execution_count": 18,
     "metadata": {},
     "output_type": "execute_result"
    }
   ],
   "source": [
    "train_set_df.label.value_counts()"
   ]
  },
  {
   "cell_type": "code",
   "execution_count": 19,
   "id": "7a403ff9",
   "metadata": {
    "execution": {
     "iopub.execute_input": "2022-07-20T09:43:07.648730Z",
     "iopub.status.busy": "2022-07-20T09:43:07.647196Z",
     "iopub.status.idle": "2022-07-20T09:43:07.649346Z",
     "shell.execute_reply": "2022-07-20T09:43:07.649748Z",
     "shell.execute_reply.started": "2022-07-20T09:17:43.749299Z"
    },
    "papermill": {
     "duration": 0.037431,
     "end_time": "2022-07-20T09:43:07.649915",
     "exception": false,
     "start_time": "2022-07-20T09:43:07.612484",
     "status": "completed"
    },
    "tags": []
   },
   "outputs": [],
   "source": [
    "train_set_df.label = le.fit_transform(train_set_df.label)\n",
    "valid_set_df.label = le.transform(valid_set_df.label)"
   ]
  },
  {
   "cell_type": "code",
   "execution_count": 20,
   "id": "c0e9450d",
   "metadata": {
    "execution": {
     "iopub.execute_input": "2022-07-20T09:43:07.716456Z",
     "iopub.status.busy": "2022-07-20T09:43:07.715815Z",
     "iopub.status.idle": "2022-07-20T09:43:07.718398Z",
     "shell.execute_reply": "2022-07-20T09:43:07.718809Z",
     "shell.execute_reply.started": "2022-07-20T09:17:43.901594Z"
    },
    "papermill": {
     "duration": 0.039033,
     "end_time": "2022-07-20T09:43:07.718938",
     "exception": false,
     "start_time": "2022-07-20T09:43:07.679905",
     "status": "completed"
    },
    "tags": []
   },
   "outputs": [
    {
     "data": {
      "text/plain": [
       "6"
      ]
     },
     "execution_count": 20,
     "metadata": {},
     "output_type": "execute_result"
    }
   ],
   "source": [
    "train_set_df.label.nunique()"
   ]
  },
  {
   "cell_type": "code",
   "execution_count": 21,
   "id": "65ad20ef",
   "metadata": {
    "execution": {
     "iopub.execute_input": "2022-07-20T09:43:07.781699Z",
     "iopub.status.busy": "2022-07-20T09:43:07.780911Z",
     "iopub.status.idle": "2022-07-20T09:43:07.788570Z",
     "shell.execute_reply": "2022-07-20T09:43:07.788145Z",
     "shell.execute_reply.started": "2022-07-20T09:17:46.373469Z"
    },
    "papermill": {
     "duration": 0.040391,
     "end_time": "2022-07-20T09:43:07.788676",
     "exception": false,
     "start_time": "2022-07-20T09:43:07.748285",
     "status": "completed"
    },
    "tags": []
   },
   "outputs": [
    {
     "data": {
      "text/plain": [
       "3    302\n",
       "0    230\n",
       "4    222\n",
       "1    221\n",
       "2    204\n",
       "5    171\n",
       "Name: label, dtype: int64"
      ]
     },
     "execution_count": 21,
     "metadata": {},
     "output_type": "execute_result"
    }
   ],
   "source": [
    "train_set_df.label.value_counts()"
   ]
  },
  {
   "cell_type": "code",
   "execution_count": 22,
   "id": "ca792503",
   "metadata": {
    "execution": {
     "iopub.execute_input": "2022-07-20T09:43:07.853681Z",
     "iopub.status.busy": "2022-07-20T09:43:07.853111Z",
     "iopub.status.idle": "2022-07-20T09:43:07.856424Z",
     "shell.execute_reply": "2022-07-20T09:43:07.856830Z",
     "shell.execute_reply.started": "2022-07-20T09:17:46.539837Z"
    },
    "papermill": {
     "duration": 0.038764,
     "end_time": "2022-07-20T09:43:07.856961",
     "exception": false,
     "start_time": "2022-07-20T09:43:07.818197",
     "status": "completed"
    },
    "tags": []
   },
   "outputs": [
    {
     "data": {
      "text/plain": [
       "6"
      ]
     },
     "execution_count": 22,
     "metadata": {},
     "output_type": "execute_result"
    }
   ],
   "source": [
    "valid_set_df.label.nunique()"
   ]
  },
  {
   "cell_type": "code",
   "execution_count": 23,
   "id": "8d16f307",
   "metadata": {
    "execution": {
     "iopub.execute_input": "2022-07-20T09:43:07.922485Z",
     "iopub.status.busy": "2022-07-20T09:43:07.921793Z",
     "iopub.status.idle": "2022-07-20T09:43:07.923851Z",
     "shell.execute_reply": "2022-07-20T09:43:07.924229Z",
     "shell.execute_reply.started": "2022-07-20T09:13:35.031774Z"
    },
    "papermill": {
     "duration": 0.036541,
     "end_time": "2022-07-20T09:43:07.924355",
     "exception": false,
     "start_time": "2022-07-20T09:43:07.887814",
     "status": "completed"
    },
    "tags": []
   },
   "outputs": [],
   "source": [
    "# train_set_df = train_set_df.sample(frac=1)"
   ]
  },
  {
   "cell_type": "code",
   "execution_count": 24,
   "id": "00a780a1",
   "metadata": {
    "execution": {
     "iopub.execute_input": "2022-07-20T09:43:07.991401Z",
     "iopub.status.busy": "2022-07-20T09:43:07.990701Z",
     "iopub.status.idle": "2022-07-20T09:43:07.992849Z",
     "shell.execute_reply": "2022-07-20T09:43:07.993247Z",
     "shell.execute_reply.started": "2022-07-20T09:17:51.216931Z"
    },
    "papermill": {
     "duration": 0.038275,
     "end_time": "2022-07-20T09:43:07.993366",
     "exception": false,
     "start_time": "2022-07-20T09:43:07.955091",
     "status": "completed"
    },
    "tags": []
   },
   "outputs": [],
   "source": [
    "from tqdm import tqdm \n",
    "\n",
    "def predict(model, text):\n",
    "    \n",
    "    preds = []\n",
    "    \n",
    "    for i in tqdm(range(len(text))):\n",
    "        tokenized = tokenizer(text[i:i+1], return_tensors=\"pt\", truncation=True, max_length=512).to(\"cuda\")\n",
    "        pred = model(**tokenized)\n",
    "        preds.append(pred.logits.argmax(-1).item())\n",
    "\n",
    "    return preds"
   ]
  },
  {
   "cell_type": "code",
   "execution_count": 25,
   "id": "e17f32e1",
   "metadata": {
    "execution": {
     "iopub.execute_input": "2022-07-20T09:43:08.060924Z",
     "iopub.status.busy": "2022-07-20T09:43:08.060136Z",
     "iopub.status.idle": "2022-07-20T09:55:55.377178Z",
     "shell.execute_reply": "2022-07-20T09:55:55.376599Z",
     "shell.execute_reply.started": "2022-07-20T09:17:51.400415Z"
    },
    "papermill": {
     "duration": 767.353819,
     "end_time": "2022-07-20T09:55:55.377321",
     "exception": false,
     "start_time": "2022-07-20T09:43:08.023502",
     "status": "completed"
    },
    "tags": []
   },
   "outputs": [
    {
     "name": "stdout",
     "output_type": "stream",
     "text": [
      "{}\n",
      "{}\n"
     ]
    },
    {
     "data": {
      "application/vnd.jupyter.widget-view+json": {
       "model_id": "04c0658ee0274a5cb8c7ca4aba31ae1d",
       "version_major": 2,
       "version_minor": 0
      },
      "text/plain": [
       "Downloading:   0%|          | 0.00/445M [00:00<?, ?B/s]"
      ]
     },
     "metadata": {},
     "output_type": "display_data"
    },
    {
     "name": "stderr",
     "output_type": "stream",
     "text": [
      "Some weights of the model checkpoint at dbmdz/bert-base-french-europeana-cased were not used when initializing BertForSequenceClassification: ['cls.predictions.bias', 'cls.predictions.transform.dense.weight', 'cls.predictions.transform.dense.bias', 'cls.predictions.transform.LayerNorm.weight', 'cls.predictions.transform.LayerNorm.bias', 'cls.predictions.decoder.weight', 'cls.predictions.decoder.bias', 'cls.seq_relationship.weight', 'cls.seq_relationship.bias']\n",
      "- This IS expected if you are initializing BertForSequenceClassification from the checkpoint of a model trained on another task or with another architecture (e.g. initializing a BertForSequenceClassification model from a BertForPreTraining model).\n",
      "- This IS NOT expected if you are initializing BertForSequenceClassification from the checkpoint of a model that you expect to be exactly identical (initializing a BertForSequenceClassification model from a BertForSequenceClassification model).\n",
      "Some weights of BertForSequenceClassification were not initialized from the model checkpoint at dbmdz/bert-base-french-europeana-cased and are newly initialized: ['classifier.weight', 'classifier.bias']\n",
      "You should probably TRAIN this model on a down-stream task to be able to use it for predictions and inference.\n",
      "Using the `WAND_DISABLED` environment variable is deprecated and will be removed in v5. Use the --report_to flag to control the integrations used for logging result (for instance --report_to none).\n"
     ]
    },
    {
     "data": {
      "text/html": [
       "\n",
       "    <div>\n",
       "        <style>\n",
       "            /* Turns off some styling */\n",
       "            progress {\n",
       "                /* gets rid of default border in Firefox and Opera. */\n",
       "                border: none;\n",
       "                /* Needs to be in here for Safari polyfill so background images work as expected. */\n",
       "                background-size: auto;\n",
       "            }\n",
       "        </style>\n",
       "      \n",
       "      <progress value='1183' max='1183' style='width:300px; height:20px; vertical-align: middle;'></progress>\n",
       "      [1183/1183 12:15, Epoch 7/7]\n",
       "    </div>\n",
       "    <table border=\"1\" class=\"dataframe\">\n",
       "  <thead>\n",
       "    <tr style=\"text-align: left;\">\n",
       "      <th>Epoch</th>\n",
       "      <th>Training Loss</th>\n",
       "      <th>Validation Loss</th>\n",
       "      <th>Accuracy</th>\n",
       "      <th>Runtime</th>\n",
       "      <th>Samples Per Second</th>\n",
       "    </tr>\n",
       "  </thead>\n",
       "  <tbody>\n",
       "    <tr>\n",
       "      <td>1</td>\n",
       "      <td>1.336400</td>\n",
       "      <td>1.182191</td>\n",
       "      <td>0.516224</td>\n",
       "      <td>7.385000</td>\n",
       "      <td>45.904000</td>\n",
       "    </tr>\n",
       "    <tr>\n",
       "      <td>2</td>\n",
       "      <td>0.932800</td>\n",
       "      <td>0.966581</td>\n",
       "      <td>0.581121</td>\n",
       "      <td>7.380200</td>\n",
       "      <td>45.933000</td>\n",
       "    </tr>\n",
       "    <tr>\n",
       "      <td>3</td>\n",
       "      <td>0.766000</td>\n",
       "      <td>1.008304</td>\n",
       "      <td>0.572271</td>\n",
       "      <td>7.323600</td>\n",
       "      <td>46.289000</td>\n",
       "    </tr>\n",
       "    <tr>\n",
       "      <td>4</td>\n",
       "      <td>0.528800</td>\n",
       "      <td>0.986942</td>\n",
       "      <td>0.619469</td>\n",
       "      <td>7.339900</td>\n",
       "      <td>46.186000</td>\n",
       "    </tr>\n",
       "    <tr>\n",
       "      <td>5</td>\n",
       "      <td>0.394500</td>\n",
       "      <td>1.173346</td>\n",
       "      <td>0.584071</td>\n",
       "      <td>7.322100</td>\n",
       "      <td>46.298000</td>\n",
       "    </tr>\n",
       "    <tr>\n",
       "      <td>6</td>\n",
       "      <td>0.188000</td>\n",
       "      <td>1.223565</td>\n",
       "      <td>0.604720</td>\n",
       "      <td>7.352600</td>\n",
       "      <td>46.106000</td>\n",
       "    </tr>\n",
       "    <tr>\n",
       "      <td>7</td>\n",
       "      <td>0.167500</td>\n",
       "      <td>1.242339</td>\n",
       "      <td>0.619469</td>\n",
       "      <td>7.256500</td>\n",
       "      <td>46.716000</td>\n",
       "    </tr>\n",
       "  </tbody>\n",
       "</table><p>"
      ],
      "text/plain": [
       "<IPython.core.display.HTML object>"
      ]
     },
     "metadata": {},
     "output_type": "display_data"
    }
   ],
   "source": [
    "train_set = CEFRDataset(train_set_df[\"text\"], train_set_df[\"label\"])\n",
    "valid_set = CEFRDataset(valid_set_df[\"text\"], valid_set_df[\"label\"])\n",
    "\n",
    "\n",
    "trainer_second = train(train_set, valid_set, epochs=epochs, warmup_size=0.2, lr=lr, batch_size=batch_size)\n",
    "model = trainer_second.model"
   ]
  },
  {
   "cell_type": "code",
   "execution_count": 26,
   "id": "6e1b5472",
   "metadata": {
    "execution": {
     "iopub.execute_input": "2022-07-20T09:55:55.447820Z",
     "iopub.status.busy": "2022-07-20T09:55:55.447233Z",
     "iopub.status.idle": "2022-07-20T09:56:01.615983Z",
     "shell.execute_reply": "2022-07-20T09:56:01.615532Z",
     "shell.execute_reply.started": "2022-07-20T09:41:38.917443Z"
    },
    "papermill": {
     "duration": 6.205832,
     "end_time": "2022-07-20T09:56:01.616122",
     "exception": false,
     "start_time": "2022-07-20T09:55:55.410290",
     "status": "completed"
    },
    "tags": []
   },
   "outputs": [
    {
     "name": "stderr",
     "output_type": "stream",
     "text": [
      "100%|██████████| 339/339 [00:06<00:00, 55.05it/s]\n"
     ]
    }
   ],
   "source": [
    "valid_set_df[\"preds\"] = train_set.encoder.inverse_transform(predict(model, valid_set_df.text.tolist()))\n",
    "valid_set_df.columns = [\"text\", \"cefr\", \"preds\"] "
   ]
  },
  {
   "cell_type": "code",
   "execution_count": 27,
   "id": "3a152a77",
   "metadata": {
    "execution": {
     "iopub.execute_input": "2022-07-20T09:56:01.715191Z",
     "iopub.status.busy": "2022-07-20T09:56:01.714669Z",
     "iopub.status.idle": "2022-07-20T09:56:03.030751Z",
     "shell.execute_reply": "2022-07-20T09:56:03.031209Z",
     "shell.execute_reply.started": "2022-07-20T09:42:09.658985Z"
    },
    "papermill": {
     "duration": 1.367225,
     "end_time": "2022-07-20T09:56:03.031361",
     "exception": false,
     "start_time": "2022-07-20T09:56:01.664136",
     "status": "completed"
    },
    "tags": []
   },
   "outputs": [
    {
     "name": "stderr",
     "output_type": "stream",
     "text": [
      "100%|██████████| 111/111 [00:01<00:00, 86.23it/s]\n"
     ]
    }
   ],
   "source": [
    "lingua = pd.read_csv(\"../input/lingua/fr_lingua.csv\")\n",
    "lingua[\"preds\"] = train_set.encoder.inverse_transform(predict(model, lingua.text.tolist()))"
   ]
  },
  {
   "cell_type": "code",
   "execution_count": 28,
   "id": "60ff5718",
   "metadata": {
    "execution": {
     "iopub.execute_input": "2022-07-20T09:56:03.141993Z",
     "iopub.status.busy": "2022-07-20T09:56:03.141332Z",
     "iopub.status.idle": "2022-07-20T09:56:03.144137Z",
     "shell.execute_reply": "2022-07-20T09:56:03.144538Z",
     "shell.execute_reply.started": "2022-07-20T09:42:12.354104Z"
    },
    "papermill": {
     "duration": 0.061008,
     "end_time": "2022-07-20T09:56:03.144663",
     "exception": false,
     "start_time": "2022-07-20T09:56:03.083655",
     "status": "completed"
    },
    "tags": []
   },
   "outputs": [
    {
     "data": {
      "text/plain": [
       "B1    60\n",
       "A2    26\n",
       "A1    13\n",
       "B2    12\n",
       "Name: cefr, dtype: int64"
      ]
     },
     "execution_count": 28,
     "metadata": {},
     "output_type": "execute_result"
    }
   ],
   "source": [
    "lingua.cefr.value_counts()"
   ]
  },
  {
   "cell_type": "code",
   "execution_count": 29,
   "id": "e91fc83a",
   "metadata": {
    "execution": {
     "iopub.execute_input": "2022-07-20T09:56:03.252695Z",
     "iopub.status.busy": "2022-07-20T09:56:03.252081Z",
     "iopub.status.idle": "2022-07-20T09:56:03.254633Z",
     "shell.execute_reply": "2022-07-20T09:56:03.255056Z",
     "shell.execute_reply.started": "2022-07-20T09:42:13.515800Z"
    },
    "papermill": {
     "duration": 0.059081,
     "end_time": "2022-07-20T09:56:03.255179",
     "exception": false,
     "start_time": "2022-07-20T09:56:03.196098",
     "status": "completed"
    },
    "tags": []
   },
   "outputs": [
    {
     "data": {
      "text/plain": [
       "array([0, 1, 2, 3, 5])"
      ]
     },
     "execution_count": 29,
     "metadata": {},
     "output_type": "execute_result"
    }
   ],
   "source": [
    "lingua.preds.unique()"
   ]
  },
  {
   "cell_type": "code",
   "execution_count": 30,
   "id": "11685c60",
   "metadata": {
    "execution": {
     "iopub.execute_input": "2022-07-20T09:56:03.364254Z",
     "iopub.status.busy": "2022-07-20T09:56:03.363518Z",
     "iopub.status.idle": "2022-07-20T09:56:03.365409Z",
     "shell.execute_reply": "2022-07-20T09:56:03.365791Z",
     "shell.execute_reply.started": "2022-07-20T09:42:16.582608Z"
    },
    "papermill": {
     "duration": 0.058413,
     "end_time": "2022-07-20T09:56:03.365916",
     "exception": false,
     "start_time": "2022-07-20T09:56:03.307503",
     "status": "completed"
    },
    "tags": []
   },
   "outputs": [],
   "source": [
    "def compute_average_distance(df, col_name=\"cefr\") :\n",
    "    \n",
    "    labels = [\"A1\", \"A2\", \"B1\", \"B2\", \"C1\", \"C2\"]\n",
    "    return (df[col_name].apply(lambda x: labels.index(x)) - df.preds.apply(lambda x: labels.index(x))).abs().mean()\n"
   ]
  },
  {
   "cell_type": "code",
   "execution_count": 31,
   "id": "620af1f3",
   "metadata": {
    "execution": {
     "iopub.execute_input": "2022-07-20T09:56:03.475191Z",
     "iopub.status.busy": "2022-07-20T09:56:03.474541Z",
     "iopub.status.idle": "2022-07-20T09:56:03.477128Z",
     "shell.execute_reply": "2022-07-20T09:56:03.477551Z",
     "shell.execute_reply.started": "2022-07-20T09:42:17.290189Z"
    },
    "papermill": {
     "duration": 0.060142,
     "end_time": "2022-07-20T09:56:03.477683",
     "exception": false,
     "start_time": "2022-07-20T09:56:03.417541",
     "status": "completed"
    },
    "tags": []
   },
   "outputs": [
    {
     "data": {
      "text/plain": [
       "1    57\n",
       "2    24\n",
       "3    20\n",
       "0     9\n",
       "5     1\n",
       "Name: preds, dtype: int64"
      ]
     },
     "execution_count": 31,
     "metadata": {},
     "output_type": "execute_result"
    }
   ],
   "source": [
    "lingua.preds.value_counts()"
   ]
  },
  {
   "cell_type": "code",
   "execution_count": 32,
   "id": "b26bef16",
   "metadata": {
    "execution": {
     "iopub.execute_input": "2022-07-20T09:56:03.587140Z",
     "iopub.status.busy": "2022-07-20T09:56:03.586337Z",
     "iopub.status.idle": "2022-07-20T09:56:03.588826Z",
     "shell.execute_reply": "2022-07-20T09:56:03.588366Z",
     "shell.execute_reply.started": "2022-07-20T09:42:18.703991Z"
    },
    "papermill": {
     "duration": 0.058763,
     "end_time": "2022-07-20T09:56:03.588938",
     "exception": false,
     "start_time": "2022-07-20T09:56:03.530175",
     "status": "completed"
    },
    "tags": []
   },
   "outputs": [],
   "source": [
    "lingua[\"preds\"] = le.inverse_transform(lingua.preds)"
   ]
  },
  {
   "cell_type": "code",
   "execution_count": 33,
   "id": "03836bbd",
   "metadata": {
    "execution": {
     "iopub.execute_input": "2022-07-20T09:56:03.699661Z",
     "iopub.status.busy": "2022-07-20T09:56:03.699059Z",
     "iopub.status.idle": "2022-07-20T09:56:03.701851Z",
     "shell.execute_reply": "2022-07-20T09:56:03.702274Z",
     "shell.execute_reply.started": "2022-07-20T09:42:19.417605Z"
    },
    "papermill": {
     "duration": 0.060795,
     "end_time": "2022-07-20T09:56:03.702394",
     "exception": false,
     "start_time": "2022-07-20T09:56:03.641599",
     "status": "completed"
    },
    "tags": []
   },
   "outputs": [
    {
     "data": {
      "text/plain": [
       "A2    57\n",
       "B1    24\n",
       "B2    20\n",
       "A1     9\n",
       "C2     1\n",
       "Name: preds, dtype: int64"
      ]
     },
     "execution_count": 33,
     "metadata": {},
     "output_type": "execute_result"
    }
   ],
   "source": [
    "lingua.preds.value_counts()"
   ]
  },
  {
   "cell_type": "code",
   "execution_count": 34,
   "id": "3b4f204f",
   "metadata": {
    "execution": {
     "iopub.execute_input": "2022-07-20T09:56:03.809312Z",
     "iopub.status.busy": "2022-07-20T09:56:03.808516Z",
     "iopub.status.idle": "2022-07-20T09:56:03.816097Z",
     "shell.execute_reply": "2022-07-20T09:56:03.815625Z",
     "shell.execute_reply.started": "2022-07-20T09:42:20.520696Z"
    },
    "papermill": {
     "duration": 0.062313,
     "end_time": "2022-07-20T09:56:03.816204",
     "exception": false,
     "start_time": "2022-07-20T09:56:03.753891",
     "status": "completed"
    },
    "tags": []
   },
   "outputs": [
    {
     "name": "stdout",
     "output_type": "stream",
     "text": [
      "Distance: \n",
      "0.7207207207207207\n",
      "Lingua accuracy: 0.35135135135135137\n"
     ]
    }
   ],
   "source": [
    "print(\"Distance: \")\n",
    "print(compute_average_distance(lingua, \"cefr\"))\n",
    "\n",
    "print(f\"Lingua accuracy: {(lingua['preds'] == lingua['cefr']).mean()}\")"
   ]
  },
  {
   "cell_type": "markdown",
   "id": "227719a4",
   "metadata": {
    "papermill": {
     "duration": 0.052234,
     "end_time": "2022-07-20T09:56:03.931703",
     "exception": false,
     "start_time": "2022-07-20T09:56:03.879469",
     "status": "completed"
    },
    "tags": []
   },
   "source": [
    "****"
   ]
  },
  {
   "cell_type": "markdown",
   "id": "8ab930fc",
   "metadata": {
    "papermill": {
     "duration": 0.053366,
     "end_time": "2022-07-20T09:56:04.039276",
     "exception": false,
     "start_time": "2022-07-20T09:56:03.985910",
     "status": "completed"
    },
    "tags": []
   },
   "source": [
    "****"
   ]
  },
  {
   "cell_type": "code",
   "execution_count": 35,
   "id": "c943f3d6",
   "metadata": {
    "execution": {
     "iopub.execute_input": "2022-07-20T09:56:04.189821Z",
     "iopub.status.busy": "2022-07-20T09:56:04.189269Z",
     "iopub.status.idle": "2022-07-20T09:56:04.194244Z",
     "shell.execute_reply": "2022-07-20T09:56:04.194924Z",
     "shell.execute_reply.started": "2022-07-20T09:13:35.053983Z"
    },
    "papermill": {
     "duration": 0.102194,
     "end_time": "2022-07-20T09:56:04.195063",
     "exception": false,
     "start_time": "2022-07-20T09:56:04.092869",
     "status": "completed"
    },
    "tags": []
   },
   "outputs": [
    {
     "data": {
      "text/plain": [
       "A2    57\n",
       "B1    24\n",
       "B2    21\n",
       "A1     9\n",
       "Name: Predss, dtype: int64"
      ]
     },
     "execution_count": 35,
     "metadata": {},
     "output_type": "execute_result"
    }
   ],
   "source": [
    "for i in range(lingua.shape[0]):\n",
    "    if (lingua.loc[i,\"preds\"]==\"C1\") | (lingua.loc[i,\"preds\"]==\"C2\") :\n",
    "        lingua.loc[i,\"Predss\"]=\"B2\"\n",
    "    else :\n",
    "        lingua.loc[i,\"Predss\"]= lingua.loc[i,\"preds\"]\n",
    "lingua[\"Predss\"].value_counts()"
   ]
  },
  {
   "cell_type": "code",
   "execution_count": 36,
   "id": "c94e5866",
   "metadata": {
    "execution": {
     "iopub.execute_input": "2022-07-20T09:56:04.307755Z",
     "iopub.status.busy": "2022-07-20T09:56:04.305759Z",
     "iopub.status.idle": "2022-07-20T09:56:04.310756Z",
     "shell.execute_reply": "2022-07-20T09:56:04.311219Z",
     "shell.execute_reply.started": "2022-07-20T09:13:35.055696Z"
    },
    "papermill": {
     "duration": 0.063005,
     "end_time": "2022-07-20T09:56:04.311351",
     "exception": false,
     "start_time": "2022-07-20T09:56:04.248346",
     "status": "completed"
    },
    "tags": []
   },
   "outputs": [
    {
     "name": "stdout",
     "output_type": "stream",
     "text": [
      "Distance: \n",
      "0.7207207207207207\n",
      "Lingua accuracy: 0.36036036036036034\n"
     ]
    }
   ],
   "source": [
    "print(\"Distance: \")\n",
    "print(compute_average_distance(lingua, \"cefr\"))\n",
    "\n",
    "print(f\"Lingua accuracy: {(lingua['Predss'] == lingua['cefr']).mean()}\")"
   ]
  },
  {
   "cell_type": "markdown",
   "id": "fa6ab8f0",
   "metadata": {
    "papermill": {
     "duration": 0.05349,
     "end_time": "2022-07-20T09:56:04.418816",
     "exception": false,
     "start_time": "2022-07-20T09:56:04.365326",
     "status": "completed"
    },
    "tags": []
   },
   "source": [
    "****"
   ]
  },
  {
   "cell_type": "code",
   "execution_count": null,
   "id": "7c600205",
   "metadata": {
    "papermill": {
     "duration": 0.053673,
     "end_time": "2022-07-20T09:56:04.525885",
     "exception": false,
     "start_time": "2022-07-20T09:56:04.472212",
     "status": "completed"
    },
    "tags": []
   },
   "outputs": [],
   "source": []
  },
  {
   "cell_type": "code",
   "execution_count": null,
   "id": "33c50b45",
   "metadata": {
    "papermill": {
     "duration": 0.05357,
     "end_time": "2022-07-20T09:56:04.633428",
     "exception": false,
     "start_time": "2022-07-20T09:56:04.579858",
     "status": "completed"
    },
    "tags": []
   },
   "outputs": [],
   "source": []
  },
  {
   "cell_type": "code",
   "execution_count": null,
   "id": "d6854a75",
   "metadata": {
    "papermill": {
     "duration": 0.052769,
     "end_time": "2022-07-20T09:56:04.739898",
     "exception": false,
     "start_time": "2022-07-20T09:56:04.687129",
     "status": "completed"
    },
    "tags": []
   },
   "outputs": [],
   "source": []
  },
  {
   "cell_type": "code",
   "execution_count": null,
   "id": "64843b6d",
   "metadata": {
    "papermill": {
     "duration": 0.053677,
     "end_time": "2022-07-20T09:56:04.846361",
     "exception": false,
     "start_time": "2022-07-20T09:56:04.792684",
     "status": "completed"
    },
    "tags": []
   },
   "outputs": [],
   "source": []
  }
 ],
 "metadata": {
  "kernelspec": {
   "display_name": "Python 3",
   "language": "python",
   "name": "python3"
  },
  "language_info": {
   "codemirror_mode": {
    "name": "ipython",
    "version": 3
   },
   "file_extension": ".py",
   "mimetype": "text/x-python",
   "name": "python",
   "nbconvert_exporter": "python",
   "pygments_lexer": "ipython3",
   "version": "3.7.10"
  },
  "papermill": {
   "default_parameters": {},
   "duration": 801.737908,
   "end_time": "2022-07-20T09:56:08.420462",
   "environment_variables": {},
   "exception": null,
   "input_path": "__notebook__.ipynb",
   "output_path": "__notebook__.ipynb",
   "parameters": {},
   "start_time": "2022-07-20T09:42:46.682554",
   "version": "2.3.3"
  },
  "widgets": {
   "application/vnd.jupyter.widget-state+json": {
    "state": {
     "0141fd9401ea4ba4bac360fe641e1ccd": {
      "model_module": "@jupyter-widgets/base",
      "model_module_version": "1.2.0",
      "model_name": "LayoutModel",
      "state": {
       "_model_module": "@jupyter-widgets/base",
       "_model_module_version": "1.2.0",
       "_model_name": "LayoutModel",
       "_view_count": null,
       "_view_module": "@jupyter-widgets/base",
       "_view_module_version": "1.2.0",
       "_view_name": "LayoutView",
       "align_content": null,
       "align_items": null,
       "align_self": null,
       "border": null,
       "bottom": null,
       "display": null,
       "flex": null,
       "flex_flow": null,
       "grid_area": null,
       "grid_auto_columns": null,
       "grid_auto_flow": null,
       "grid_auto_rows": null,
       "grid_column": null,
       "grid_gap": null,
       "grid_row": null,
       "grid_template_areas": null,
       "grid_template_columns": null,
       "grid_template_rows": null,
       "height": null,
       "justify_content": null,
       "justify_items": null,
       "left": null,
       "margin": null,
       "max_height": null,
       "max_width": null,
       "min_height": null,
       "min_width": null,
       "object_fit": null,
       "object_position": null,
       "order": null,
       "overflow": null,
       "overflow_x": null,
       "overflow_y": null,
       "padding": null,
       "right": null,
       "top": null,
       "visibility": null,
       "width": null
      }
     },
     "04c0658ee0274a5cb8c7ca4aba31ae1d": {
      "model_module": "@jupyter-widgets/controls",
      "model_module_version": "1.5.0",
      "model_name": "HBoxModel",
      "state": {
       "_dom_classes": [],
       "_model_module": "@jupyter-widgets/controls",
       "_model_module_version": "1.5.0",
       "_model_name": "HBoxModel",
       "_view_count": null,
       "_view_module": "@jupyter-widgets/controls",
       "_view_module_version": "1.5.0",
       "_view_name": "HBoxView",
       "box_style": "",
       "children": [
        "IPY_MODEL_5ab91e4c12a841e480ed73fd7704d3fd",
        "IPY_MODEL_2ef0567913ab44a9a747caf3593e4bdd",
        "IPY_MODEL_87000d5247f044158fd9d3f3caf92054"
       ],
       "layout": "IPY_MODEL_71523e4271324a9da96a3452f0079bba"
      }
     },
     "06929928645a49f183e0302f3cce5796": {
      "model_module": "@jupyter-widgets/base",
      "model_module_version": "1.2.0",
      "model_name": "LayoutModel",
      "state": {
       "_model_module": "@jupyter-widgets/base",
       "_model_module_version": "1.2.0",
       "_model_name": "LayoutModel",
       "_view_count": null,
       "_view_module": "@jupyter-widgets/base",
       "_view_module_version": "1.2.0",
       "_view_name": "LayoutView",
       "align_content": null,
       "align_items": null,
       "align_self": null,
       "border": null,
       "bottom": null,
       "display": null,
       "flex": null,
       "flex_flow": null,
       "grid_area": null,
       "grid_auto_columns": null,
       "grid_auto_flow": null,
       "grid_auto_rows": null,
       "grid_column": null,
       "grid_gap": null,
       "grid_row": null,
       "grid_template_areas": null,
       "grid_template_columns": null,
       "grid_template_rows": null,
       "height": null,
       "justify_content": null,
       "justify_items": null,
       "left": null,
       "margin": null,
       "max_height": null,
       "max_width": null,
       "min_height": null,
       "min_width": null,
       "object_fit": null,
       "object_position": null,
       "order": null,
       "overflow": null,
       "overflow_x": null,
       "overflow_y": null,
       "padding": null,
       "right": null,
       "top": null,
       "visibility": null,
       "width": null
      }
     },
     "08515266626a41adb4aee5b08cb97c31": {
      "model_module": "@jupyter-widgets/controls",
      "model_module_version": "1.5.0",
      "model_name": "DescriptionStyleModel",
      "state": {
       "_model_module": "@jupyter-widgets/controls",
       "_model_module_version": "1.5.0",
       "_model_name": "DescriptionStyleModel",
       "_view_count": null,
       "_view_module": "@jupyter-widgets/base",
       "_view_module_version": "1.2.0",
       "_view_name": "StyleView",
       "description_width": ""
      }
     },
     "18aad63ef4c2408ebe9c71678fe697bd": {
      "model_module": "@jupyter-widgets/controls",
      "model_module_version": "1.5.0",
      "model_name": "ProgressStyleModel",
      "state": {
       "_model_module": "@jupyter-widgets/controls",
       "_model_module_version": "1.5.0",
       "_model_name": "ProgressStyleModel",
       "_view_count": null,
       "_view_module": "@jupyter-widgets/base",
       "_view_module_version": "1.2.0",
       "_view_name": "StyleView",
       "bar_color": null,
       "description_width": ""
      }
     },
     "20ccc925013c46da9449e70678301910": {
      "model_module": "@jupyter-widgets/controls",
      "model_module_version": "1.5.0",
      "model_name": "HTMLModel",
      "state": {
       "_dom_classes": [],
       "_model_module": "@jupyter-widgets/controls",
       "_model_module_version": "1.5.0",
       "_model_name": "HTMLModel",
       "_view_count": null,
       "_view_module": "@jupyter-widgets/controls",
       "_view_module_version": "1.5.0",
       "_view_name": "HTMLView",
       "description": "",
       "description_tooltip": null,
       "layout": "IPY_MODEL_b0c69019b993461c9f865f69f255f1e1",
       "placeholder": "​",
       "style": "IPY_MODEL_95942b2317004223a0e070d5e25426c5",
       "value": "Downloading: 100%"
      }
     },
     "21748ddd1ba2444c8b8db7a6ed04d70e": {
      "model_module": "@jupyter-widgets/controls",
      "model_module_version": "1.5.0",
      "model_name": "FloatProgressModel",
      "state": {
       "_dom_classes": [],
       "_model_module": "@jupyter-widgets/controls",
       "_model_module_version": "1.5.0",
       "_model_name": "FloatProgressModel",
       "_view_count": null,
       "_view_module": "@jupyter-widgets/controls",
       "_view_module_version": "1.5.0",
       "_view_name": "ProgressView",
       "bar_style": "success",
       "description": "",
       "description_tooltip": null,
       "layout": "IPY_MODEL_21cef45896e5441281c7dc10da87556f",
       "max": 83.0,
       "min": 0.0,
       "orientation": "horizontal",
       "style": "IPY_MODEL_f519f3694f374c87a99d069433736a05",
       "value": 83.0
      }
     },
     "21cef45896e5441281c7dc10da87556f": {
      "model_module": "@jupyter-widgets/base",
      "model_module_version": "1.2.0",
      "model_name": "LayoutModel",
      "state": {
       "_model_module": "@jupyter-widgets/base",
       "_model_module_version": "1.2.0",
       "_model_name": "LayoutModel",
       "_view_count": null,
       "_view_module": "@jupyter-widgets/base",
       "_view_module_version": "1.2.0",
       "_view_name": "LayoutView",
       "align_content": null,
       "align_items": null,
       "align_self": null,
       "border": null,
       "bottom": null,
       "display": null,
       "flex": null,
       "flex_flow": null,
       "grid_area": null,
       "grid_auto_columns": null,
       "grid_auto_flow": null,
       "grid_auto_rows": null,
       "grid_column": null,
       "grid_gap": null,
       "grid_row": null,
       "grid_template_areas": null,
       "grid_template_columns": null,
       "grid_template_rows": null,
       "height": null,
       "justify_content": null,
       "justify_items": null,
       "left": null,
       "margin": null,
       "max_height": null,
       "max_width": null,
       "min_height": null,
       "min_width": null,
       "object_fit": null,
       "object_position": null,
       "order": null,
       "overflow": null,
       "overflow_x": null,
       "overflow_y": null,
       "padding": null,
       "right": null,
       "top": null,
       "visibility": null,
       "width": null
      }
     },
     "2ef0567913ab44a9a747caf3593e4bdd": {
      "model_module": "@jupyter-widgets/controls",
      "model_module_version": "1.5.0",
      "model_name": "FloatProgressModel",
      "state": {
       "_dom_classes": [],
       "_model_module": "@jupyter-widgets/controls",
       "_model_module_version": "1.5.0",
       "_model_name": "FloatProgressModel",
       "_view_count": null,
       "_view_module": "@jupyter-widgets/controls",
       "_view_module_version": "1.5.0",
       "_view_name": "ProgressView",
       "bar_style": "success",
       "description": "",
       "description_tooltip": null,
       "layout": "IPY_MODEL_ca63a6cdb4bd403a9824f9a602914e02",
       "max": 445018784.0,
       "min": 0.0,
       "orientation": "horizontal",
       "style": "IPY_MODEL_f98f103a7af54044850fae19bd683b36",
       "value": 445018784.0
      }
     },
     "4e82625eae6648d283c1175b8886adc6": {
      "model_module": "@jupyter-widgets/controls",
      "model_module_version": "1.5.0",
      "model_name": "FloatProgressModel",
      "state": {
       "_dom_classes": [],
       "_model_module": "@jupyter-widgets/controls",
       "_model_module_version": "1.5.0",
       "_model_name": "FloatProgressModel",
       "_view_count": null,
       "_view_module": "@jupyter-widgets/controls",
       "_view_module_version": "1.5.0",
       "_view_name": "ProgressView",
       "bar_style": "success",
       "description": "",
       "description_tooltip": null,
       "layout": "IPY_MODEL_c24c7cf569cd468fb9606a67de22c892",
       "max": 227141.0,
       "min": 0.0,
       "orientation": "horizontal",
       "style": "IPY_MODEL_18aad63ef4c2408ebe9c71678fe697bd",
       "value": 227141.0
      }
     },
     "50a6f8ee85b941b2b36cfb6f025ddaf1": {
      "model_module": "@jupyter-widgets/base",
      "model_module_version": "1.2.0",
      "model_name": "LayoutModel",
      "state": {
       "_model_module": "@jupyter-widgets/base",
       "_model_module_version": "1.2.0",
       "_model_name": "LayoutModel",
       "_view_count": null,
       "_view_module": "@jupyter-widgets/base",
       "_view_module_version": "1.2.0",
       "_view_name": "LayoutView",
       "align_content": null,
       "align_items": null,
       "align_self": null,
       "border": null,
       "bottom": null,
       "display": null,
       "flex": null,
       "flex_flow": null,
       "grid_area": null,
       "grid_auto_columns": null,
       "grid_auto_flow": null,
       "grid_auto_rows": null,
       "grid_column": null,
       "grid_gap": null,
       "grid_row": null,
       "grid_template_areas": null,
       "grid_template_columns": null,
       "grid_template_rows": null,
       "height": null,
       "justify_content": null,
       "justify_items": null,
       "left": null,
       "margin": null,
       "max_height": null,
       "max_width": null,
       "min_height": null,
       "min_width": null,
       "object_fit": null,
       "object_position": null,
       "order": null,
       "overflow": null,
       "overflow_x": null,
       "overflow_y": null,
       "padding": null,
       "right": null,
       "top": null,
       "visibility": null,
       "width": null
      }
     },
     "50e4c43e5b864ad48b61a35e612a97a4": {
      "model_module": "@jupyter-widgets/controls",
      "model_module_version": "1.5.0",
      "model_name": "HBoxModel",
      "state": {
       "_dom_classes": [],
       "_model_module": "@jupyter-widgets/controls",
       "_model_module_version": "1.5.0",
       "_model_name": "HBoxModel",
       "_view_count": null,
       "_view_module": "@jupyter-widgets/controls",
       "_view_module_version": "1.5.0",
       "_view_name": "HBoxView",
       "box_style": "",
       "children": [
        "IPY_MODEL_20ccc925013c46da9449e70678301910",
        "IPY_MODEL_72c5c8ffc1ff45618b63104d1bad50ab",
        "IPY_MODEL_923b303a74b84de38203aac86a39e228"
       ],
       "layout": "IPY_MODEL_06929928645a49f183e0302f3cce5796"
      }
     },
     "5ab91e4c12a841e480ed73fd7704d3fd": {
      "model_module": "@jupyter-widgets/controls",
      "model_module_version": "1.5.0",
      "model_name": "HTMLModel",
      "state": {
       "_dom_classes": [],
       "_model_module": "@jupyter-widgets/controls",
       "_model_module_version": "1.5.0",
       "_model_name": "HTMLModel",
       "_view_count": null,
       "_view_module": "@jupyter-widgets/controls",
       "_view_module_version": "1.5.0",
       "_view_name": "HTMLView",
       "description": "",
       "description_tooltip": null,
       "layout": "IPY_MODEL_6d8c981e08ba49e6828c041f0ba393e8",
       "placeholder": "​",
       "style": "IPY_MODEL_a2b47d4a0a3f478895e327f040a9608a",
       "value": "Downloading: 100%"
      }
     },
     "5ff2c86dbc7a473b8cf9c46d72ffa30f": {
      "model_module": "@jupyter-widgets/base",
      "model_module_version": "1.2.0",
      "model_name": "LayoutModel",
      "state": {
       "_model_module": "@jupyter-widgets/base",
       "_model_module_version": "1.2.0",
       "_model_name": "LayoutModel",
       "_view_count": null,
       "_view_module": "@jupyter-widgets/base",
       "_view_module_version": "1.2.0",
       "_view_name": "LayoutView",
       "align_content": null,
       "align_items": null,
       "align_self": null,
       "border": null,
       "bottom": null,
       "display": null,
       "flex": null,
       "flex_flow": null,
       "grid_area": null,
       "grid_auto_columns": null,
       "grid_auto_flow": null,
       "grid_auto_rows": null,
       "grid_column": null,
       "grid_gap": null,
       "grid_row": null,
       "grid_template_areas": null,
       "grid_template_columns": null,
       "grid_template_rows": null,
       "height": null,
       "justify_content": null,
       "justify_items": null,
       "left": null,
       "margin": null,
       "max_height": null,
       "max_width": null,
       "min_height": null,
       "min_width": null,
       "object_fit": null,
       "object_position": null,
       "order": null,
       "overflow": null,
       "overflow_x": null,
       "overflow_y": null,
       "padding": null,
       "right": null,
       "top": null,
       "visibility": null,
       "width": null
      }
     },
     "6d8c981e08ba49e6828c041f0ba393e8": {
      "model_module": "@jupyter-widgets/base",
      "model_module_version": "1.2.0",
      "model_name": "LayoutModel",
      "state": {
       "_model_module": "@jupyter-widgets/base",
       "_model_module_version": "1.2.0",
       "_model_name": "LayoutModel",
       "_view_count": null,
       "_view_module": "@jupyter-widgets/base",
       "_view_module_version": "1.2.0",
       "_view_name": "LayoutView",
       "align_content": null,
       "align_items": null,
       "align_self": null,
       "border": null,
       "bottom": null,
       "display": null,
       "flex": null,
       "flex_flow": null,
       "grid_area": null,
       "grid_auto_columns": null,
       "grid_auto_flow": null,
       "grid_auto_rows": null,
       "grid_column": null,
       "grid_gap": null,
       "grid_row": null,
       "grid_template_areas": null,
       "grid_template_columns": null,
       "grid_template_rows": null,
       "height": null,
       "justify_content": null,
       "justify_items": null,
       "left": null,
       "margin": null,
       "max_height": null,
       "max_width": null,
       "min_height": null,
       "min_width": null,
       "object_fit": null,
       "object_position": null,
       "order": null,
       "overflow": null,
       "overflow_x": null,
       "overflow_y": null,
       "padding": null,
       "right": null,
       "top": null,
       "visibility": null,
       "width": null
      }
     },
     "71523e4271324a9da96a3452f0079bba": {
      "model_module": "@jupyter-widgets/base",
      "model_module_version": "1.2.0",
      "model_name": "LayoutModel",
      "state": {
       "_model_module": "@jupyter-widgets/base",
       "_model_module_version": "1.2.0",
       "_model_name": "LayoutModel",
       "_view_count": null,
       "_view_module": "@jupyter-widgets/base",
       "_view_module_version": "1.2.0",
       "_view_name": "LayoutView",
       "align_content": null,
       "align_items": null,
       "align_self": null,
       "border": null,
       "bottom": null,
       "display": null,
       "flex": null,
       "flex_flow": null,
       "grid_area": null,
       "grid_auto_columns": null,
       "grid_auto_flow": null,
       "grid_auto_rows": null,
       "grid_column": null,
       "grid_gap": null,
       "grid_row": null,
       "grid_template_areas": null,
       "grid_template_columns": null,
       "grid_template_rows": null,
       "height": null,
       "justify_content": null,
       "justify_items": null,
       "left": null,
       "margin": null,
       "max_height": null,
       "max_width": null,
       "min_height": null,
       "min_width": null,
       "object_fit": null,
       "object_position": null,
       "order": null,
       "overflow": null,
       "overflow_x": null,
       "overflow_y": null,
       "padding": null,
       "right": null,
       "top": null,
       "visibility": null,
       "width": null
      }
     },
     "72c5c8ffc1ff45618b63104d1bad50ab": {
      "model_module": "@jupyter-widgets/controls",
      "model_module_version": "1.5.0",
      "model_name": "FloatProgressModel",
      "state": {
       "_dom_classes": [],
       "_model_module": "@jupyter-widgets/controls",
       "_model_module_version": "1.5.0",
       "_model_name": "FloatProgressModel",
       "_view_count": null,
       "_view_module": "@jupyter-widgets/controls",
       "_view_module_version": "1.5.0",
       "_view_name": "ProgressView",
       "bar_style": "success",
       "description": "",
       "description_tooltip": null,
       "layout": "IPY_MODEL_b805194ed83d46a6812a86f198a4c8f8",
       "max": 420.0,
       "min": 0.0,
       "orientation": "horizontal",
       "style": "IPY_MODEL_884f289a56694fb8bc8ca825547703e7",
       "value": 420.0
      }
     },
     "7a7b0b07e7c94e4494878050beb084f8": {
      "model_module": "@jupyter-widgets/controls",
      "model_module_version": "1.5.0",
      "model_name": "HTMLModel",
      "state": {
       "_dom_classes": [],
       "_model_module": "@jupyter-widgets/controls",
       "_model_module_version": "1.5.0",
       "_model_name": "HTMLModel",
       "_view_count": null,
       "_view_module": "@jupyter-widgets/controls",
       "_view_module_version": "1.5.0",
       "_view_name": "HTMLView",
       "description": "",
       "description_tooltip": null,
       "layout": "IPY_MODEL_5ff2c86dbc7a473b8cf9c46d72ffa30f",
       "placeholder": "​",
       "style": "IPY_MODEL_c404eb5b41d8416b8834d89ceec38111",
       "value": " 83.0/83.0 [00:00&lt;00:00, 3.24kB/s]"
      }
     },
     "84e738f570cd42f1b1ce41101378c6db": {
      "model_module": "@jupyter-widgets/base",
      "model_module_version": "1.2.0",
      "model_name": "LayoutModel",
      "state": {
       "_model_module": "@jupyter-widgets/base",
       "_model_module_version": "1.2.0",
       "_model_name": "LayoutModel",
       "_view_count": null,
       "_view_module": "@jupyter-widgets/base",
       "_view_module_version": "1.2.0",
       "_view_name": "LayoutView",
       "align_content": null,
       "align_items": null,
       "align_self": null,
       "border": null,
       "bottom": null,
       "display": null,
       "flex": null,
       "flex_flow": null,
       "grid_area": null,
       "grid_auto_columns": null,
       "grid_auto_flow": null,
       "grid_auto_rows": null,
       "grid_column": null,
       "grid_gap": null,
       "grid_row": null,
       "grid_template_areas": null,
       "grid_template_columns": null,
       "grid_template_rows": null,
       "height": null,
       "justify_content": null,
       "justify_items": null,
       "left": null,
       "margin": null,
       "max_height": null,
       "max_width": null,
       "min_height": null,
       "min_width": null,
       "object_fit": null,
       "object_position": null,
       "order": null,
       "overflow": null,
       "overflow_x": null,
       "overflow_y": null,
       "padding": null,
       "right": null,
       "top": null,
       "visibility": null,
       "width": null
      }
     },
     "87000d5247f044158fd9d3f3caf92054": {
      "model_module": "@jupyter-widgets/controls",
      "model_module_version": "1.5.0",
      "model_name": "HTMLModel",
      "state": {
       "_dom_classes": [],
       "_model_module": "@jupyter-widgets/controls",
       "_model_module_version": "1.5.0",
       "_model_name": "HTMLModel",
       "_view_count": null,
       "_view_module": "@jupyter-widgets/controls",
       "_view_module_version": "1.5.0",
       "_view_name": "HTMLView",
       "description": "",
       "description_tooltip": null,
       "layout": "IPY_MODEL_88b2c8d9c0604974a69a5fa8b6110f86",
       "placeholder": "​",
       "style": "IPY_MODEL_c77089505bd4471299d23f179dad82ae",
       "value": " 445M/445M [00:18&lt;00:00, 25.5MB/s]"
      }
     },
     "884f289a56694fb8bc8ca825547703e7": {
      "model_module": "@jupyter-widgets/controls",
      "model_module_version": "1.5.0",
      "model_name": "ProgressStyleModel",
      "state": {
       "_model_module": "@jupyter-widgets/controls",
       "_model_module_version": "1.5.0",
       "_model_name": "ProgressStyleModel",
       "_view_count": null,
       "_view_module": "@jupyter-widgets/base",
       "_view_module_version": "1.2.0",
       "_view_name": "StyleView",
       "bar_color": null,
       "description_width": ""
      }
     },
     "88b2c8d9c0604974a69a5fa8b6110f86": {
      "model_module": "@jupyter-widgets/base",
      "model_module_version": "1.2.0",
      "model_name": "LayoutModel",
      "state": {
       "_model_module": "@jupyter-widgets/base",
       "_model_module_version": "1.2.0",
       "_model_name": "LayoutModel",
       "_view_count": null,
       "_view_module": "@jupyter-widgets/base",
       "_view_module_version": "1.2.0",
       "_view_name": "LayoutView",
       "align_content": null,
       "align_items": null,
       "align_self": null,
       "border": null,
       "bottom": null,
       "display": null,
       "flex": null,
       "flex_flow": null,
       "grid_area": null,
       "grid_auto_columns": null,
       "grid_auto_flow": null,
       "grid_auto_rows": null,
       "grid_column": null,
       "grid_gap": null,
       "grid_row": null,
       "grid_template_areas": null,
       "grid_template_columns": null,
       "grid_template_rows": null,
       "height": null,
       "justify_content": null,
       "justify_items": null,
       "left": null,
       "margin": null,
       "max_height": null,
       "max_width": null,
       "min_height": null,
       "min_width": null,
       "object_fit": null,
       "object_position": null,
       "order": null,
       "overflow": null,
       "overflow_x": null,
       "overflow_y": null,
       "padding": null,
       "right": null,
       "top": null,
       "visibility": null,
       "width": null
      }
     },
     "8b368eed35784f478dad585dd69026fa": {
      "model_module": "@jupyter-widgets/controls",
      "model_module_version": "1.5.0",
      "model_name": "HBoxModel",
      "state": {
       "_dom_classes": [],
       "_model_module": "@jupyter-widgets/controls",
       "_model_module_version": "1.5.0",
       "_model_name": "HBoxModel",
       "_view_count": null,
       "_view_module": "@jupyter-widgets/controls",
       "_view_module_version": "1.5.0",
       "_view_name": "HBoxView",
       "box_style": "",
       "children": [
        "IPY_MODEL_d33bd4cd2ef044a485a63b7309dd4562",
        "IPY_MODEL_21748ddd1ba2444c8b8db7a6ed04d70e",
        "IPY_MODEL_7a7b0b07e7c94e4494878050beb084f8"
       ],
       "layout": "IPY_MODEL_50a6f8ee85b941b2b36cfb6f025ddaf1"
      }
     },
     "8d7325dcd62f4db595eafe33250d5557": {
      "model_module": "@jupyter-widgets/base",
      "model_module_version": "1.2.0",
      "model_name": "LayoutModel",
      "state": {
       "_model_module": "@jupyter-widgets/base",
       "_model_module_version": "1.2.0",
       "_model_name": "LayoutModel",
       "_view_count": null,
       "_view_module": "@jupyter-widgets/base",
       "_view_module_version": "1.2.0",
       "_view_name": "LayoutView",
       "align_content": null,
       "align_items": null,
       "align_self": null,
       "border": null,
       "bottom": null,
       "display": null,
       "flex": null,
       "flex_flow": null,
       "grid_area": null,
       "grid_auto_columns": null,
       "grid_auto_flow": null,
       "grid_auto_rows": null,
       "grid_column": null,
       "grid_gap": null,
       "grid_row": null,
       "grid_template_areas": null,
       "grid_template_columns": null,
       "grid_template_rows": null,
       "height": null,
       "justify_content": null,
       "justify_items": null,
       "left": null,
       "margin": null,
       "max_height": null,
       "max_width": null,
       "min_height": null,
       "min_width": null,
       "object_fit": null,
       "object_position": null,
       "order": null,
       "overflow": null,
       "overflow_x": null,
       "overflow_y": null,
       "padding": null,
       "right": null,
       "top": null,
       "visibility": null,
       "width": null
      }
     },
     "8e43f02f5ab941d1aface85cc8d6c54c": {
      "model_module": "@jupyter-widgets/base",
      "model_module_version": "1.2.0",
      "model_name": "LayoutModel",
      "state": {
       "_model_module": "@jupyter-widgets/base",
       "_model_module_version": "1.2.0",
       "_model_name": "LayoutModel",
       "_view_count": null,
       "_view_module": "@jupyter-widgets/base",
       "_view_module_version": "1.2.0",
       "_view_name": "LayoutView",
       "align_content": null,
       "align_items": null,
       "align_self": null,
       "border": null,
       "bottom": null,
       "display": null,
       "flex": null,
       "flex_flow": null,
       "grid_area": null,
       "grid_auto_columns": null,
       "grid_auto_flow": null,
       "grid_auto_rows": null,
       "grid_column": null,
       "grid_gap": null,
       "grid_row": null,
       "grid_template_areas": null,
       "grid_template_columns": null,
       "grid_template_rows": null,
       "height": null,
       "justify_content": null,
       "justify_items": null,
       "left": null,
       "margin": null,
       "max_height": null,
       "max_width": null,
       "min_height": null,
       "min_width": null,
       "object_fit": null,
       "object_position": null,
       "order": null,
       "overflow": null,
       "overflow_x": null,
       "overflow_y": null,
       "padding": null,
       "right": null,
       "top": null,
       "visibility": null,
       "width": null
      }
     },
     "923b303a74b84de38203aac86a39e228": {
      "model_module": "@jupyter-widgets/controls",
      "model_module_version": "1.5.0",
      "model_name": "HTMLModel",
      "state": {
       "_dom_classes": [],
       "_model_module": "@jupyter-widgets/controls",
       "_model_module_version": "1.5.0",
       "_model_name": "HTMLModel",
       "_view_count": null,
       "_view_module": "@jupyter-widgets/controls",
       "_view_module_version": "1.5.0",
       "_view_name": "HTMLView",
       "description": "",
       "description_tooltip": null,
       "layout": "IPY_MODEL_84e738f570cd42f1b1ce41101378c6db",
       "placeholder": "​",
       "style": "IPY_MODEL_e07cbeab89ba4431835efd7bf55e85ca",
       "value": " 420/420 [00:00&lt;00:00, 15.2kB/s]"
      }
     },
     "95942b2317004223a0e070d5e25426c5": {
      "model_module": "@jupyter-widgets/controls",
      "model_module_version": "1.5.0",
      "model_name": "DescriptionStyleModel",
      "state": {
       "_model_module": "@jupyter-widgets/controls",
       "_model_module_version": "1.5.0",
       "_model_name": "DescriptionStyleModel",
       "_view_count": null,
       "_view_module": "@jupyter-widgets/base",
       "_view_module_version": "1.2.0",
       "_view_name": "StyleView",
       "description_width": ""
      }
     },
     "9c5bfb56e13343708a0e7a78648057ac": {
      "model_module": "@jupyter-widgets/controls",
      "model_module_version": "1.5.0",
      "model_name": "DescriptionStyleModel",
      "state": {
       "_model_module": "@jupyter-widgets/controls",
       "_model_module_version": "1.5.0",
       "_model_name": "DescriptionStyleModel",
       "_view_count": null,
       "_view_module": "@jupyter-widgets/base",
       "_view_module_version": "1.2.0",
       "_view_name": "StyleView",
       "description_width": ""
      }
     },
     "a2b47d4a0a3f478895e327f040a9608a": {
      "model_module": "@jupyter-widgets/controls",
      "model_module_version": "1.5.0",
      "model_name": "DescriptionStyleModel",
      "state": {
       "_model_module": "@jupyter-widgets/controls",
       "_model_module_version": "1.5.0",
       "_model_name": "DescriptionStyleModel",
       "_view_count": null,
       "_view_module": "@jupyter-widgets/base",
       "_view_module_version": "1.2.0",
       "_view_name": "StyleView",
       "description_width": ""
      }
     },
     "b0c69019b993461c9f865f69f255f1e1": {
      "model_module": "@jupyter-widgets/base",
      "model_module_version": "1.2.0",
      "model_name": "LayoutModel",
      "state": {
       "_model_module": "@jupyter-widgets/base",
       "_model_module_version": "1.2.0",
       "_model_name": "LayoutModel",
       "_view_count": null,
       "_view_module": "@jupyter-widgets/base",
       "_view_module_version": "1.2.0",
       "_view_name": "LayoutView",
       "align_content": null,
       "align_items": null,
       "align_self": null,
       "border": null,
       "bottom": null,
       "display": null,
       "flex": null,
       "flex_flow": null,
       "grid_area": null,
       "grid_auto_columns": null,
       "grid_auto_flow": null,
       "grid_auto_rows": null,
       "grid_column": null,
       "grid_gap": null,
       "grid_row": null,
       "grid_template_areas": null,
       "grid_template_columns": null,
       "grid_template_rows": null,
       "height": null,
       "justify_content": null,
       "justify_items": null,
       "left": null,
       "margin": null,
       "max_height": null,
       "max_width": null,
       "min_height": null,
       "min_width": null,
       "object_fit": null,
       "object_position": null,
       "order": null,
       "overflow": null,
       "overflow_x": null,
       "overflow_y": null,
       "padding": null,
       "right": null,
       "top": null,
       "visibility": null,
       "width": null
      }
     },
     "b805194ed83d46a6812a86f198a4c8f8": {
      "model_module": "@jupyter-widgets/base",
      "model_module_version": "1.2.0",
      "model_name": "LayoutModel",
      "state": {
       "_model_module": "@jupyter-widgets/base",
       "_model_module_version": "1.2.0",
       "_model_name": "LayoutModel",
       "_view_count": null,
       "_view_module": "@jupyter-widgets/base",
       "_view_module_version": "1.2.0",
       "_view_name": "LayoutView",
       "align_content": null,
       "align_items": null,
       "align_self": null,
       "border": null,
       "bottom": null,
       "display": null,
       "flex": null,
       "flex_flow": null,
       "grid_area": null,
       "grid_auto_columns": null,
       "grid_auto_flow": null,
       "grid_auto_rows": null,
       "grid_column": null,
       "grid_gap": null,
       "grid_row": null,
       "grid_template_areas": null,
       "grid_template_columns": null,
       "grid_template_rows": null,
       "height": null,
       "justify_content": null,
       "justify_items": null,
       "left": null,
       "margin": null,
       "max_height": null,
       "max_width": null,
       "min_height": null,
       "min_width": null,
       "object_fit": null,
       "object_position": null,
       "order": null,
       "overflow": null,
       "overflow_x": null,
       "overflow_y": null,
       "padding": null,
       "right": null,
       "top": null,
       "visibility": null,
       "width": null
      }
     },
     "c1d218913e3549cfb426fa150a94a0bf": {
      "model_module": "@jupyter-widgets/base",
      "model_module_version": "1.2.0",
      "model_name": "LayoutModel",
      "state": {
       "_model_module": "@jupyter-widgets/base",
       "_model_module_version": "1.2.0",
       "_model_name": "LayoutModel",
       "_view_count": null,
       "_view_module": "@jupyter-widgets/base",
       "_view_module_version": "1.2.0",
       "_view_name": "LayoutView",
       "align_content": null,
       "align_items": null,
       "align_self": null,
       "border": null,
       "bottom": null,
       "display": null,
       "flex": null,
       "flex_flow": null,
       "grid_area": null,
       "grid_auto_columns": null,
       "grid_auto_flow": null,
       "grid_auto_rows": null,
       "grid_column": null,
       "grid_gap": null,
       "grid_row": null,
       "grid_template_areas": null,
       "grid_template_columns": null,
       "grid_template_rows": null,
       "height": null,
       "justify_content": null,
       "justify_items": null,
       "left": null,
       "margin": null,
       "max_height": null,
       "max_width": null,
       "min_height": null,
       "min_width": null,
       "object_fit": null,
       "object_position": null,
       "order": null,
       "overflow": null,
       "overflow_x": null,
       "overflow_y": null,
       "padding": null,
       "right": null,
       "top": null,
       "visibility": null,
       "width": null
      }
     },
     "c24c7cf569cd468fb9606a67de22c892": {
      "model_module": "@jupyter-widgets/base",
      "model_module_version": "1.2.0",
      "model_name": "LayoutModel",
      "state": {
       "_model_module": "@jupyter-widgets/base",
       "_model_module_version": "1.2.0",
       "_model_name": "LayoutModel",
       "_view_count": null,
       "_view_module": "@jupyter-widgets/base",
       "_view_module_version": "1.2.0",
       "_view_name": "LayoutView",
       "align_content": null,
       "align_items": null,
       "align_self": null,
       "border": null,
       "bottom": null,
       "display": null,
       "flex": null,
       "flex_flow": null,
       "grid_area": null,
       "grid_auto_columns": null,
       "grid_auto_flow": null,
       "grid_auto_rows": null,
       "grid_column": null,
       "grid_gap": null,
       "grid_row": null,
       "grid_template_areas": null,
       "grid_template_columns": null,
       "grid_template_rows": null,
       "height": null,
       "justify_content": null,
       "justify_items": null,
       "left": null,
       "margin": null,
       "max_height": null,
       "max_width": null,
       "min_height": null,
       "min_width": null,
       "object_fit": null,
       "object_position": null,
       "order": null,
       "overflow": null,
       "overflow_x": null,
       "overflow_y": null,
       "padding": null,
       "right": null,
       "top": null,
       "visibility": null,
       "width": null
      }
     },
     "c404eb5b41d8416b8834d89ceec38111": {
      "model_module": "@jupyter-widgets/controls",
      "model_module_version": "1.5.0",
      "model_name": "DescriptionStyleModel",
      "state": {
       "_model_module": "@jupyter-widgets/controls",
       "_model_module_version": "1.5.0",
       "_model_name": "DescriptionStyleModel",
       "_view_count": null,
       "_view_module": "@jupyter-widgets/base",
       "_view_module_version": "1.2.0",
       "_view_name": "StyleView",
       "description_width": ""
      }
     },
     "c77089505bd4471299d23f179dad82ae": {
      "model_module": "@jupyter-widgets/controls",
      "model_module_version": "1.5.0",
      "model_name": "DescriptionStyleModel",
      "state": {
       "_model_module": "@jupyter-widgets/controls",
       "_model_module_version": "1.5.0",
       "_model_name": "DescriptionStyleModel",
       "_view_count": null,
       "_view_module": "@jupyter-widgets/base",
       "_view_module_version": "1.2.0",
       "_view_name": "StyleView",
       "description_width": ""
      }
     },
     "ca63a6cdb4bd403a9824f9a602914e02": {
      "model_module": "@jupyter-widgets/base",
      "model_module_version": "1.2.0",
      "model_name": "LayoutModel",
      "state": {
       "_model_module": "@jupyter-widgets/base",
       "_model_module_version": "1.2.0",
       "_model_name": "LayoutModel",
       "_view_count": null,
       "_view_module": "@jupyter-widgets/base",
       "_view_module_version": "1.2.0",
       "_view_name": "LayoutView",
       "align_content": null,
       "align_items": null,
       "align_self": null,
       "border": null,
       "bottom": null,
       "display": null,
       "flex": null,
       "flex_flow": null,
       "grid_area": null,
       "grid_auto_columns": null,
       "grid_auto_flow": null,
       "grid_auto_rows": null,
       "grid_column": null,
       "grid_gap": null,
       "grid_row": null,
       "grid_template_areas": null,
       "grid_template_columns": null,
       "grid_template_rows": null,
       "height": null,
       "justify_content": null,
       "justify_items": null,
       "left": null,
       "margin": null,
       "max_height": null,
       "max_width": null,
       "min_height": null,
       "min_width": null,
       "object_fit": null,
       "object_position": null,
       "order": null,
       "overflow": null,
       "overflow_x": null,
       "overflow_y": null,
       "padding": null,
       "right": null,
       "top": null,
       "visibility": null,
       "width": null
      }
     },
     "d33bd4cd2ef044a485a63b7309dd4562": {
      "model_module": "@jupyter-widgets/controls",
      "model_module_version": "1.5.0",
      "model_name": "HTMLModel",
      "state": {
       "_dom_classes": [],
       "_model_module": "@jupyter-widgets/controls",
       "_model_module_version": "1.5.0",
       "_model_name": "HTMLModel",
       "_view_count": null,
       "_view_module": "@jupyter-widgets/controls",
       "_view_module_version": "1.5.0",
       "_view_name": "HTMLView",
       "description": "",
       "description_tooltip": null,
       "layout": "IPY_MODEL_c1d218913e3549cfb426fa150a94a0bf",
       "placeholder": "​",
       "style": "IPY_MODEL_f9249fe47faa495ea04d6dffa53fce24",
       "value": "Downloading: 100%"
      }
     },
     "d85c1910837e40faac1f9746df2a72ed": {
      "model_module": "@jupyter-widgets/controls",
      "model_module_version": "1.5.0",
      "model_name": "HTMLModel",
      "state": {
       "_dom_classes": [],
       "_model_module": "@jupyter-widgets/controls",
       "_model_module_version": "1.5.0",
       "_model_name": "HTMLModel",
       "_view_count": null,
       "_view_module": "@jupyter-widgets/controls",
       "_view_module_version": "1.5.0",
       "_view_name": "HTMLView",
       "description": "",
       "description_tooltip": null,
       "layout": "IPY_MODEL_8e43f02f5ab941d1aface85cc8d6c54c",
       "placeholder": "​",
       "style": "IPY_MODEL_08515266626a41adb4aee5b08cb97c31",
       "value": " 227k/227k [00:00&lt;00:00, 845kB/s]"
      }
     },
     "db0f1816fe4844bf941fc29048ac26ee": {
      "model_module": "@jupyter-widgets/controls",
      "model_module_version": "1.5.0",
      "model_name": "HBoxModel",
      "state": {
       "_dom_classes": [],
       "_model_module": "@jupyter-widgets/controls",
       "_model_module_version": "1.5.0",
       "_model_name": "HBoxModel",
       "_view_count": null,
       "_view_module": "@jupyter-widgets/controls",
       "_view_module_version": "1.5.0",
       "_view_name": "HBoxView",
       "box_style": "",
       "children": [
        "IPY_MODEL_fdefd11cfe4e49cb9e5657346c2af198",
        "IPY_MODEL_4e82625eae6648d283c1175b8886adc6",
        "IPY_MODEL_d85c1910837e40faac1f9746df2a72ed"
       ],
       "layout": "IPY_MODEL_0141fd9401ea4ba4bac360fe641e1ccd"
      }
     },
     "e07cbeab89ba4431835efd7bf55e85ca": {
      "model_module": "@jupyter-widgets/controls",
      "model_module_version": "1.5.0",
      "model_name": "DescriptionStyleModel",
      "state": {
       "_model_module": "@jupyter-widgets/controls",
       "_model_module_version": "1.5.0",
       "_model_name": "DescriptionStyleModel",
       "_view_count": null,
       "_view_module": "@jupyter-widgets/base",
       "_view_module_version": "1.2.0",
       "_view_name": "StyleView",
       "description_width": ""
      }
     },
     "f519f3694f374c87a99d069433736a05": {
      "model_module": "@jupyter-widgets/controls",
      "model_module_version": "1.5.0",
      "model_name": "ProgressStyleModel",
      "state": {
       "_model_module": "@jupyter-widgets/controls",
       "_model_module_version": "1.5.0",
       "_model_name": "ProgressStyleModel",
       "_view_count": null,
       "_view_module": "@jupyter-widgets/base",
       "_view_module_version": "1.2.0",
       "_view_name": "StyleView",
       "bar_color": null,
       "description_width": ""
      }
     },
     "f9249fe47faa495ea04d6dffa53fce24": {
      "model_module": "@jupyter-widgets/controls",
      "model_module_version": "1.5.0",
      "model_name": "DescriptionStyleModel",
      "state": {
       "_model_module": "@jupyter-widgets/controls",
       "_model_module_version": "1.5.0",
       "_model_name": "DescriptionStyleModel",
       "_view_count": null,
       "_view_module": "@jupyter-widgets/base",
       "_view_module_version": "1.2.0",
       "_view_name": "StyleView",
       "description_width": ""
      }
     },
     "f98f103a7af54044850fae19bd683b36": {
      "model_module": "@jupyter-widgets/controls",
      "model_module_version": "1.5.0",
      "model_name": "ProgressStyleModel",
      "state": {
       "_model_module": "@jupyter-widgets/controls",
       "_model_module_version": "1.5.0",
       "_model_name": "ProgressStyleModel",
       "_view_count": null,
       "_view_module": "@jupyter-widgets/base",
       "_view_module_version": "1.2.0",
       "_view_name": "StyleView",
       "bar_color": null,
       "description_width": ""
      }
     },
     "fdefd11cfe4e49cb9e5657346c2af198": {
      "model_module": "@jupyter-widgets/controls",
      "model_module_version": "1.5.0",
      "model_name": "HTMLModel",
      "state": {
       "_dom_classes": [],
       "_model_module": "@jupyter-widgets/controls",
       "_model_module_version": "1.5.0",
       "_model_name": "HTMLModel",
       "_view_count": null,
       "_view_module": "@jupyter-widgets/controls",
       "_view_module_version": "1.5.0",
       "_view_name": "HTMLView",
       "description": "",
       "description_tooltip": null,
       "layout": "IPY_MODEL_8d7325dcd62f4db595eafe33250d5557",
       "placeholder": "​",
       "style": "IPY_MODEL_9c5bfb56e13343708a0e7a78648057ac",
       "value": "Downloading: 100%"
      }
     }
    },
    "version_major": 2,
    "version_minor": 0
   }
  }
 },
 "nbformat": 4,
 "nbformat_minor": 5
}
