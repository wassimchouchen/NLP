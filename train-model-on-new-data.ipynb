{
 "cells": [
  {
   "cell_type": "code",
   "execution_count": 1,
   "id": "8007a7ee",
   "metadata": {
    "execution": {
     "iopub.execute_input": "2022-07-06T16:41:00.516578Z",
     "iopub.status.busy": "2022-07-06T16:41:00.513836Z",
     "iopub.status.idle": "2022-07-06T16:41:08.029989Z",
     "shell.execute_reply": "2022-07-06T16:41:08.029400Z",
     "shell.execute_reply.started": "2022-07-06T16:21:54.270544Z"
    },
    "papermill": {
     "duration": 7.575664,
     "end_time": "2022-07-06T16:41:08.030161",
     "exception": false,
     "start_time": "2022-07-06T16:41:00.454497",
     "status": "completed"
    },
    "tags": []
   },
   "outputs": [],
   "source": [
    "import os\n",
    "\n",
    "import random\n",
    "import numpy as np\n",
    "\n",
    "import pandas as pd\n",
    "import torch\n",
    "from torch.utils.data import Dataset, random_split\n",
    "from transformers import (\n",
    "    AdamW,\n",
    "    Trainer,\n",
    "    TrainingArguments,\n",
    "    AutoTokenizer,\n",
    "    AutoModelForSequenceClassification,\n",
    "    get_cosine_schedule_with_warmup,\n",
    ")\n",
    "from sklearn.preprocessing import LabelEncoder\n",
    "from sklearn.metrics import accuracy_score\n",
    "import warnings\n",
    "warnings.filterwarnings('ignore')"
   ]
  },
  {
   "cell_type": "code",
   "execution_count": 2,
   "id": "5cda0d3d",
   "metadata": {
    "execution": {
     "iopub.execute_input": "2022-07-06T16:41:08.088467Z",
     "iopub.status.busy": "2022-07-06T16:41:08.086953Z",
     "iopub.status.idle": "2022-07-06T16:41:13.153922Z",
     "shell.execute_reply": "2022-07-06T16:41:13.153443Z",
     "shell.execute_reply.started": "2022-07-06T16:21:54.355723Z"
    },
    "papermill": {
     "duration": 5.096128,
     "end_time": "2022-07-06T16:41:13.154052",
     "exception": false,
     "start_time": "2022-07-06T16:41:08.057924",
     "status": "completed"
    },
    "tags": []
   },
   "outputs": [
    {
     "data": {
      "application/vnd.jupyter.widget-view+json": {
       "model_id": "503acaad913d4e26a8dbf4eea67feaab",
       "version_major": 2,
       "version_minor": 0
      },
      "text/plain": [
       "Downloading:   0%|          | 0.00/1.59k [00:00<?, ?B/s]"
      ]
     },
     "metadata": {},
     "output_type": "display_data"
    },
    {
     "data": {
      "application/vnd.jupyter.widget-view+json": {
       "model_id": "7e07a9bb6f9d4d6e838b8b071b74a940",
       "version_major": 2,
       "version_minor": 0
      },
      "text/plain": [
       "Downloading:   0%|          | 0.00/1.32M [00:00<?, ?B/s]"
      ]
     },
     "metadata": {},
     "output_type": "display_data"
    },
    {
     "data": {
      "application/vnd.jupyter.widget-view+json": {
       "model_id": "4ce24b8a3fe64c18b5a8054f14d40174",
       "version_major": 2,
       "version_minor": 0
      },
      "text/plain": [
       "Downloading:   0%|          | 0.00/598k [00:00<?, ?B/s]"
      ]
     },
     "metadata": {},
     "output_type": "display_data"
    },
    {
     "data": {
      "application/vnd.jupyter.widget-view+json": {
       "model_id": "7a950c6dda754b4fa679c88d49a97542",
       "version_major": 2,
       "version_minor": 0
      },
      "text/plain": [
       "Downloading:   0%|          | 0.00/305 [00:00<?, ?B/s]"
      ]
     },
     "metadata": {},
     "output_type": "display_data"
    },
    {
     "data": {
      "application/vnd.jupyter.widget-view+json": {
       "model_id": "7d428da98ecb4a80903776bfda76112b",
       "version_major": 2,
       "version_minor": 0
      },
      "text/plain": [
       "Downloading:   0%|          | 0.00/582 [00:00<?, ?B/s]"
      ]
     },
     "metadata": {},
     "output_type": "display_data"
    }
   ],
   "source": [
    "model_name = \"inokufu/flaubert-base-uncased-xnli-sts-finetuned-education\"\n",
    "\n",
    "tokenizer = AutoTokenizer.from_pretrained(model_name)\n",
    "\n",
    "device = torch.device(\"cuda\" if torch.cuda.is_available() else \"cpu\")"
   ]
  },
  {
   "cell_type": "code",
   "execution_count": 3,
   "id": "64de4c5c",
   "metadata": {
    "execution": {
     "iopub.execute_input": "2022-07-06T16:41:13.217420Z",
     "iopub.status.busy": "2022-07-06T16:41:13.216651Z",
     "iopub.status.idle": "2022-07-06T16:41:13.219163Z",
     "shell.execute_reply": "2022-07-06T16:41:13.218713Z",
     "shell.execute_reply.started": "2022-07-06T16:21:59.604946Z"
    },
    "papermill": {
     "duration": 0.03545,
     "end_time": "2022-07-06T16:41:13.219292",
     "exception": false,
     "start_time": "2022-07-06T16:41:13.183842",
     "status": "completed"
    },
    "tags": []
   },
   "outputs": [],
   "source": [
    "lr = 2e-5\n",
    "epochs =  6\n",
    "batch_size = 5\n",
    "max_seq_len = 75\n",
    "\n",
    "test_frac = 0.1"
   ]
  },
  {
   "cell_type": "code",
   "execution_count": 4,
   "id": "6925ac0e",
   "metadata": {
    "execution": {
     "iopub.execute_input": "2022-07-06T16:41:13.299408Z",
     "iopub.status.busy": "2022-07-06T16:41:13.298430Z",
     "iopub.status.idle": "2022-07-06T16:41:13.302190Z",
     "shell.execute_reply": "2022-07-06T16:41:13.303387Z",
     "shell.execute_reply.started": "2022-07-06T16:21:59.614231Z"
    },
    "papermill": {
     "duration": 0.055527,
     "end_time": "2022-07-06T16:41:13.303620",
     "exception": false,
     "start_time": "2022-07-06T16:41:13.248093",
     "status": "completed"
    },
    "tags": []
   },
   "outputs": [],
   "source": [
    "import os\n",
    "\n",
    "def set_seed(seed=106052):\n",
    "    \"\"\"Set seed for reproducibility.\n",
    "    \"\"\"\n",
    "    random.seed(seed)\n",
    "    np.random.seed(seed)\n",
    "    torch.manual_seed(seed)\n",
    "    torch.cuda.manual_seed_all(seed)\n",
    "    \n",
    "    os.environ['PYTHONHASHSEED'] = str(seed)\n",
    "    \n",
    "set_seed()"
   ]
  },
  {
   "cell_type": "code",
   "execution_count": 5,
   "id": "7e588ae0",
   "metadata": {
    "execution": {
     "iopub.execute_input": "2022-07-06T16:41:13.433056Z",
     "iopub.status.busy": "2022-07-06T16:41:13.432100Z",
     "iopub.status.idle": "2022-07-06T16:41:13.440503Z",
     "shell.execute_reply": "2022-07-06T16:41:13.441345Z",
     "shell.execute_reply.started": "2022-07-06T16:21:59.630059Z"
    },
    "papermill": {
     "duration": 0.077065,
     "end_time": "2022-07-06T16:41:13.441526",
     "exception": false,
     "start_time": "2022-07-06T16:41:13.364461",
     "status": "completed"
    },
    "tags": []
   },
   "outputs": [],
   "source": [
    "class CEFRDataset(Dataset):\n",
    "    \"\"\"Classification dataset, built on top of pytorch dataset object\n",
    "    \"\"\"\n",
    "    \n",
    "    def __init__(self, texts, labels):\n",
    "        \n",
    "        self.encoder = LabelEncoder()\n",
    "        print(self.encoder.__dict__)\n",
    "        self.texts = texts\n",
    "        self.labels = self.encoder.fit_transform(labels)\n",
    "\n",
    "    def __len__(self):\n",
    "        return len(self.texts)\n",
    "\n",
    "    def __getitem__(self, index):\n",
    "        text = self.texts[index]\n",
    "        label = self.labels[index]\n",
    "        encoded_text = tokenizer(\n",
    "            text,\n",
    "            padding=\"max_length\",\n",
    "            max_length=max_seq_len,\n",
    "            truncation=True,\n",
    "            return_tensors=\"pt\",\n",
    "        )\n",
    "        encoded_text[\"input_ids\"] = encoded_text[\"input_ids\"].squeeze()\n",
    "        encoded_text[\"attention_mask\"] = encoded_text[\"attention_mask\"].squeeze()\n",
    "        label = torch.tensor(label)\n",
    "\n",
    "        return {\n",
    "            \"input_ids\": encoded_text[\"input_ids\"],\n",
    "            \"attention_mask\": encoded_text[\"attention_mask\"],\n",
    "            \"labels\": label,\n",
    "        }\n",
    "\n",
    "    def get_labels(self):\n",
    "        return self.labels"
   ]
  },
  {
   "cell_type": "code",
   "execution_count": 6,
   "id": "503b5d30",
   "metadata": {
    "execution": {
     "iopub.execute_input": "2022-07-06T16:41:13.543552Z",
     "iopub.status.busy": "2022-07-06T16:41:13.542774Z",
     "iopub.status.idle": "2022-07-06T16:41:13.545678Z",
     "shell.execute_reply": "2022-07-06T16:41:13.546284Z",
     "shell.execute_reply.started": "2022-07-06T16:21:59.644056Z"
    },
    "papermill": {
     "duration": 0.058321,
     "end_time": "2022-07-06T16:41:13.546459",
     "exception": false,
     "start_time": "2022-07-06T16:41:13.488138",
     "status": "completed"
    },
    "tags": []
   },
   "outputs": [],
   "source": [
    "def train(train_set, valid_set, epochs=10, warmup_size=0.1, lr=1e-3, batch_size=16):\n",
    "    model = get_model(model_name)\n",
    "    optim = AdamW(model.parameters(), lr=lr)\n",
    "    scheduler = get_scheduler(\n",
    "        optim, warmup_size, round(len(train_set) / batch_size * epochs)\n",
    "    )\n",
    "    training_args = get_training_args(epochs, batch_size)\n",
    "    trainer = Trainer(\n",
    "        model=model,\n",
    "        args=training_args,\n",
    "        train_dataset=train_set,\n",
    "        eval_dataset=valid_set,\n",
    "        optimizers=[optim, scheduler],\n",
    "        compute_metrics=compute_accuracy,\n",
    "    )\n",
    "    trainer.train()\n",
    "    trainer.save_model()\n",
    "    return trainer"
   ]
  },
  {
   "cell_type": "code",
   "execution_count": 7,
   "id": "4360fe9b",
   "metadata": {
    "execution": {
     "iopub.execute_input": "2022-07-06T16:41:13.645988Z",
     "iopub.status.busy": "2022-07-06T16:41:13.645160Z",
     "iopub.status.idle": "2022-07-06T16:41:13.647341Z",
     "shell.execute_reply": "2022-07-06T16:41:13.646689Z",
     "shell.execute_reply.started": "2022-07-06T16:21:59.659915Z"
    },
    "papermill": {
     "duration": 0.054171,
     "end_time": "2022-07-06T16:41:13.647487",
     "exception": false,
     "start_time": "2022-07-06T16:41:13.593316",
     "status": "completed"
    },
    "tags": []
   },
   "outputs": [],
   "source": [
    "def get_model(pretrained_checkpoint):\n",
    "    model = AutoModelForSequenceClassification.from_pretrained(\n",
    "        pretrained_checkpoint, num_labels=6\n",
    "    )\n",
    "    return model.to(device)"
   ]
  },
  {
   "cell_type": "code",
   "execution_count": 8,
   "id": "72c499c4",
   "metadata": {
    "execution": {
     "iopub.execute_input": "2022-07-06T16:41:13.750265Z",
     "iopub.status.busy": "2022-07-06T16:41:13.749495Z",
     "iopub.status.idle": "2022-07-06T16:41:13.753268Z",
     "shell.execute_reply": "2022-07-06T16:41:13.753828Z",
     "shell.execute_reply.started": "2022-07-06T16:21:59.669703Z"
    },
    "papermill": {
     "duration": 0.060549,
     "end_time": "2022-07-06T16:41:13.753997",
     "exception": false,
     "start_time": "2022-07-06T16:41:13.693448",
     "status": "completed"
    },
    "tags": []
   },
   "outputs": [],
   "source": [
    "os.environ[\"WANDB_DISABLED\"] = \"true\"\n",
    "\n",
    "\n",
    "def get_scheduler(optimizer, warmup_size, total_steps):\n",
    "    scheduler = get_cosine_schedule_with_warmup(\n",
    "        optimizer,\n",
    "        num_warmup_steps=round(total_steps * warmup_size),\n",
    "        num_training_steps=total_steps,\n",
    "    )\n",
    "    return scheduler\n",
    "\n",
    "\n",
    "def get_training_args(epochs, batch_size):\n",
    "    return TrainingArguments(\n",
    "        output_dir=\"./b\",\n",
    "        num_train_epochs=epochs,\n",
    "        per_device_train_batch_size=batch_size,\n",
    "        logging_steps=50,\n",
    "        fp16=False,\n",
    "        evaluation_strategy=\"epoch\",\n",
    "        eval_accumulation_steps=1,\n",
    "        report_to=None,\n",
    "        save_total_limit=1,\n",
    "        load_best_model_at_end=True\n",
    "    )\n",
    "\n",
    "\n",
    "def compute_accuracy(pred):\n",
    "    labels = pred.label_ids\n",
    "    preds = pred.predictions.argmax(-1)\n",
    "    acc = accuracy_score(labels, preds)\n",
    "    return {\"accuracy\": acc}\n",
    "\n"
   ]
  },
  {
   "cell_type": "code",
   "execution_count": 9,
   "id": "c547126c",
   "metadata": {
    "execution": {
     "iopub.execute_input": "2022-07-06T16:41:13.852335Z",
     "iopub.status.busy": "2022-07-06T16:41:13.851587Z",
     "iopub.status.idle": "2022-07-06T16:41:13.857420Z",
     "shell.execute_reply": "2022-07-06T16:41:13.854655Z",
     "shell.execute_reply.started": "2022-07-06T16:21:59.691543Z"
    },
    "papermill": {
     "duration": 0.057638,
     "end_time": "2022-07-06T16:41:13.857693",
     "exception": false,
     "start_time": "2022-07-06T16:41:13.800055",
     "status": "completed"
    },
    "tags": []
   },
   "outputs": [],
   "source": [
    "lr = 2e-5\n",
    "epochs =  7\n",
    "batch_size = 8\n",
    "max_seq_len = 512"
   ]
  },
  {
   "cell_type": "code",
   "execution_count": 10,
   "id": "2b938c4b",
   "metadata": {
    "execution": {
     "iopub.execute_input": "2022-07-06T16:41:13.922774Z",
     "iopub.status.busy": "2022-07-06T16:41:13.921984Z",
     "iopub.status.idle": "2022-07-06T16:41:13.924412Z",
     "shell.execute_reply": "2022-07-06T16:41:13.923928Z",
     "shell.execute_reply.started": "2022-07-06T16:21:59.700272Z"
    },
    "papermill": {
     "duration": 0.035999,
     "end_time": "2022-07-06T16:41:13.924529",
     "exception": false,
     "start_time": "2022-07-06T16:41:13.888530",
     "status": "completed"
    },
    "tags": []
   },
   "outputs": [],
   "source": [
    "def split_valid(df, frac=0.01):\n",
    "    \n",
    "    val = pd.DataFrame()\n",
    "    val[\"text\"] = \"\"\n",
    "    val[\"label\"] = -1\n",
    "    \n",
    "    for i in df.label.unique():\n",
    "        val = pd.concat([val, df[df.label == i].sample(frac=frac)])\n",
    "        \n",
    "    return df[~df.index.isin(val.index)].reset_index(drop=True) , val.reset_index(drop=True)"
   ]
  },
  {
   "cell_type": "code",
   "execution_count": 11,
   "id": "36b2e6be",
   "metadata": {
    "execution": {
     "iopub.execute_input": "2022-07-06T16:41:13.985774Z",
     "iopub.status.busy": "2022-07-06T16:41:13.984264Z",
     "iopub.status.idle": "2022-07-06T16:41:13.986413Z",
     "shell.execute_reply": "2022-07-06T16:41:13.986815Z",
     "shell.execute_reply.started": "2022-07-06T16:21:59.714142Z"
    },
    "papermill": {
     "duration": 0.034419,
     "end_time": "2022-07-06T16:41:13.986929",
     "exception": false,
     "start_time": "2022-07-06T16:41:13.952510",
     "status": "completed"
    },
    "tags": []
   },
   "outputs": [],
   "source": [
    "# train_set_df = pd.read_csv(\"../input/newdatasets/mike_20_june_new (1).csv\")\n",
    "# train_set_df"
   ]
  },
  {
   "cell_type": "code",
   "execution_count": 12,
   "id": "54d83af2",
   "metadata": {
    "execution": {
     "iopub.execute_input": "2022-07-06T16:41:14.048164Z",
     "iopub.status.busy": "2022-07-06T16:41:14.047664Z",
     "iopub.status.idle": "2022-07-06T16:41:14.093363Z",
     "shell.execute_reply": "2022-07-06T16:41:14.092882Z",
     "shell.execute_reply.started": "2022-07-06T16:21:59.725892Z"
    },
    "papermill": {
     "duration": 0.077941,
     "end_time": "2022-07-06T16:41:14.093470",
     "exception": false,
     "start_time": "2022-07-06T16:41:14.015529",
     "status": "completed"
    },
    "tags": []
   },
   "outputs": [],
   "source": [
    "new=pd.read_csv(\"../input/lingua/fr_lingua.csv\")"
   ]
  },
  {
   "cell_type": "code",
   "execution_count": 13,
   "id": "ab3bba11",
   "metadata": {
    "execution": {
     "iopub.execute_input": "2022-07-06T16:41:14.155085Z",
     "iopub.status.busy": "2022-07-06T16:41:14.154501Z",
     "iopub.status.idle": "2022-07-06T16:41:14.157098Z",
     "shell.execute_reply": "2022-07-06T16:41:14.156684Z",
     "shell.execute_reply.started": "2022-07-06T16:21:59.744059Z"
    },
    "papermill": {
     "duration": 0.035504,
     "end_time": "2022-07-06T16:41:14.157227",
     "exception": false,
     "start_time": "2022-07-06T16:41:14.121723",
     "status": "completed"
    },
    "tags": []
   },
   "outputs": [],
   "source": [
    "new.columns=[\"text\",\"label\"]"
   ]
  },
  {
   "cell_type": "code",
   "execution_count": 14,
   "id": "a5573799",
   "metadata": {
    "execution": {
     "iopub.execute_input": "2022-07-06T16:41:14.218477Z",
     "iopub.status.busy": "2022-07-06T16:41:14.217912Z",
     "iopub.status.idle": "2022-07-06T16:41:14.242626Z",
     "shell.execute_reply": "2022-07-06T16:41:14.243306Z",
     "shell.execute_reply.started": "2022-07-06T16:21:59.752910Z"
    },
    "papermill": {
     "duration": 0.057411,
     "end_time": "2022-07-06T16:41:14.243428",
     "exception": false,
     "start_time": "2022-07-06T16:41:14.186017",
     "status": "completed"
    },
    "tags": []
   },
   "outputs": [
    {
     "data": {
      "text/plain": [
       "((315, 2),\n",
       "                                                 text label\n",
       " 0  Il était une fois un prince qui voulait épouse...    A2\n",
       " 1  Il fit le tour de la Terre pour en trouver une...    B1)"
      ]
     },
     "execution_count": 14,
     "metadata": {},
     "output_type": "execute_result"
    }
   ],
   "source": [
    "french=pd.read_csv(\"../input/frenchcefr/french dataset.csv\")\n",
    "french=french[[\"text\",\"label\"]]\n",
    "french.shape,french.head(2)\n"
   ]
  },
  {
   "cell_type": "code",
   "execution_count": 15,
   "id": "fc29ca68",
   "metadata": {
    "execution": {
     "iopub.execute_input": "2022-07-06T16:41:14.304669Z",
     "iopub.status.busy": "2022-07-06T16:41:14.303906Z",
     "iopub.status.idle": "2022-07-06T16:41:14.305867Z",
     "shell.execute_reply": "2022-07-06T16:41:14.306300Z",
     "shell.execute_reply.started": "2022-07-06T16:21:59.773825Z"
    },
    "papermill": {
     "duration": 0.034355,
     "end_time": "2022-07-06T16:41:14.306417",
     "exception": false,
     "start_time": "2022-07-06T16:41:14.272062",
     "status": "completed"
    },
    "tags": []
   },
   "outputs": [],
   "source": [
    "# train_set_df=pd.concat([french, mike_20_june_new,new], ignore_index=True)"
   ]
  },
  {
   "cell_type": "code",
   "execution_count": 16,
   "id": "2219f327",
   "metadata": {
    "execution": {
     "iopub.execute_input": "2022-07-06T16:41:14.370419Z",
     "iopub.status.busy": "2022-07-06T16:41:14.369862Z",
     "iopub.status.idle": "2022-07-06T16:41:14.569223Z",
     "shell.execute_reply": "2022-07-06T16:41:14.568391Z",
     "shell.execute_reply.started": "2022-07-06T16:21:59.781736Z"
    },
    "papermill": {
     "duration": 0.234163,
     "end_time": "2022-07-06T16:41:14.569357",
     "exception": false,
     "start_time": "2022-07-06T16:41:14.335194",
     "status": "completed"
    },
    "tags": []
   },
   "outputs": [],
   "source": [
    "from sklearn import preprocessing\n",
    "le = preprocessing.LabelEncoder()\n",
    "\n",
    "train_set_df = pd.read_csv(\"../input/eng-data/translated.csv\")\n",
    "train_set_df = train_set_df[train_set_df.label != \"XX\"]\n",
    "train_set_df.columns=[\"txt\",\"label\",\"text\"]\n",
    "train_set_df = train_set_df[[\"text\", \"label\"]]\n",
    "\n",
    "train_set_df.text = train_set_df.text.apply(lambda x: x.replace(\"\\r\", \"\").replace(\"\\n\", \" \"))\n",
    "\n",
    "extra_df = pd.read_csv(\"../input/frenchcefr/french_mike_june.csv\")\n",
    "extra_df.columns = [\"text\", \"label\", \"label_\"]\n",
    "extra_df = extra_df[[\"text\", \"label\"]]\n",
    "extra_df.text = extra_df.text.astype(str)\n",
    "#train_set_df = pd.concat([train_set_df, extra_df]).reset_index(drop=True)\n",
    "\n",
    "train_set_df, valid_set_df = split_valid(train_set_df)"
   ]
  },
  {
   "cell_type": "code",
   "execution_count": 17,
   "id": "ba3b30d1",
   "metadata": {
    "execution": {
     "iopub.execute_input": "2022-07-06T16:41:14.679727Z",
     "iopub.status.busy": "2022-07-06T16:41:14.679207Z",
     "iopub.status.idle": "2022-07-06T16:41:14.684148Z",
     "shell.execute_reply": "2022-07-06T16:41:14.683695Z",
     "shell.execute_reply.started": "2022-07-06T16:21:59.917590Z"
    },
    "papermill": {
     "duration": 0.084752,
     "end_time": "2022-07-06T16:41:14.684260",
     "exception": false,
     "start_time": "2022-07-06T16:41:14.599508",
     "status": "completed"
    },
    "tags": []
   },
   "outputs": [
    {
     "data": {
      "text/plain": [
       "array(['B2', 'A2', 'C1', 'B1', 'A1', 'C2'], dtype=object)"
      ]
     },
     "execution_count": 17,
     "metadata": {},
     "output_type": "execute_result"
    }
   ],
   "source": [
    "train_set_df.label.unique()"
   ]
  },
  {
   "cell_type": "code",
   "execution_count": 18,
   "id": "094af46c",
   "metadata": {
    "execution": {
     "iopub.execute_input": "2022-07-06T16:41:14.748971Z",
     "iopub.status.busy": "2022-07-06T16:41:14.748461Z",
     "iopub.status.idle": "2022-07-06T16:41:14.751854Z",
     "shell.execute_reply": "2022-07-06T16:41:14.751407Z",
     "shell.execute_reply.started": "2022-07-06T16:21:59.928207Z"
    },
    "papermill": {
     "duration": 0.038853,
     "end_time": "2022-07-06T16:41:14.751975",
     "exception": false,
     "start_time": "2022-07-06T16:41:14.713122",
     "status": "completed"
    },
    "tags": []
   },
   "outputs": [],
   "source": [
    "train_set_df.label = le.fit_transform(train_set_df.label)\n",
    "valid_set_df.label = le.transform(valid_set_df.label)"
   ]
  },
  {
   "cell_type": "code",
   "execution_count": 19,
   "id": "d10c53a3",
   "metadata": {
    "execution": {
     "iopub.execute_input": "2022-07-06T16:41:14.817222Z",
     "iopub.status.busy": "2022-07-06T16:41:14.816584Z",
     "iopub.status.idle": "2022-07-06T16:41:14.819728Z",
     "shell.execute_reply": "2022-07-06T16:41:14.820211Z",
     "shell.execute_reply.started": "2022-07-06T16:21:59.942549Z"
    },
    "papermill": {
     "duration": 0.039316,
     "end_time": "2022-07-06T16:41:14.820339",
     "exception": false,
     "start_time": "2022-07-06T16:41:14.781023",
     "status": "completed"
    },
    "tags": []
   },
   "outputs": [
    {
     "data": {
      "text/plain": [
       "6"
      ]
     },
     "execution_count": 19,
     "metadata": {},
     "output_type": "execute_result"
    }
   ],
   "source": [
    "train_set_df.label.nunique()"
   ]
  },
  {
   "cell_type": "code",
   "execution_count": 20,
   "id": "1e86386c",
   "metadata": {
    "execution": {
     "iopub.execute_input": "2022-07-06T16:41:14.884625Z",
     "iopub.status.busy": "2022-07-06T16:41:14.883740Z",
     "iopub.status.idle": "2022-07-06T16:41:14.889071Z",
     "shell.execute_reply": "2022-07-06T16:41:14.889515Z",
     "shell.execute_reply.started": "2022-07-06T16:21:59.953852Z"
    },
    "papermill": {
     "duration": 0.039869,
     "end_time": "2022-07-06T16:41:14.889632",
     "exception": false,
     "start_time": "2022-07-06T16:41:14.849763",
     "status": "completed"
    },
    "tags": []
   },
   "outputs": [
    {
     "data": {
      "text/plain": [
       "0    285\n",
       "3    283\n",
       "1    269\n",
       "4    239\n",
       "2    203\n",
       "5    200\n",
       "Name: label, dtype: int64"
      ]
     },
     "execution_count": 20,
     "metadata": {},
     "output_type": "execute_result"
    }
   ],
   "source": [
    "train_set_df.label.value_counts()"
   ]
  },
  {
   "cell_type": "code",
   "execution_count": 21,
   "id": "fd3a8b51",
   "metadata": {
    "execution": {
     "iopub.execute_input": "2022-07-06T16:41:14.954302Z",
     "iopub.status.busy": "2022-07-06T16:41:14.953735Z",
     "iopub.status.idle": "2022-07-06T16:41:14.958784Z",
     "shell.execute_reply": "2022-07-06T16:41:14.958273Z",
     "shell.execute_reply.started": "2022-07-06T16:21:59.969477Z"
    },
    "papermill": {
     "duration": 0.038508,
     "end_time": "2022-07-06T16:41:14.958901",
     "exception": false,
     "start_time": "2022-07-06T16:41:14.920393",
     "status": "completed"
    },
    "tags": []
   },
   "outputs": [
    {
     "data": {
      "text/plain": [
       "6"
      ]
     },
     "execution_count": 21,
     "metadata": {},
     "output_type": "execute_result"
    }
   ],
   "source": [
    "valid_set_df.label.nunique()"
   ]
  },
  {
   "cell_type": "code",
   "execution_count": 22,
   "id": "4486deb0",
   "metadata": {
    "execution": {
     "iopub.execute_input": "2022-07-06T16:41:15.024888Z",
     "iopub.status.busy": "2022-07-06T16:41:15.023299Z",
     "iopub.status.idle": "2022-07-06T16:41:15.025495Z",
     "shell.execute_reply": "2022-07-06T16:41:15.025900Z",
     "shell.execute_reply.started": "2022-07-06T16:21:59.979243Z"
    },
    "papermill": {
     "duration": 0.036878,
     "end_time": "2022-07-06T16:41:15.026021",
     "exception": false,
     "start_time": "2022-07-06T16:41:14.989143",
     "status": "completed"
    },
    "tags": []
   },
   "outputs": [],
   "source": [
    "# train_set_df = train_set_df.sample(frac=1)"
   ]
  },
  {
   "cell_type": "code",
   "execution_count": 23,
   "id": "b2be4394",
   "metadata": {
    "execution": {
     "iopub.execute_input": "2022-07-06T16:41:15.092624Z",
     "iopub.status.busy": "2022-07-06T16:41:15.091880Z",
     "iopub.status.idle": "2022-07-06T16:41:15.093857Z",
     "shell.execute_reply": "2022-07-06T16:41:15.094260Z",
     "shell.execute_reply.started": "2022-07-06T16:21:59.994051Z"
    },
    "papermill": {
     "duration": 0.037494,
     "end_time": "2022-07-06T16:41:15.094387",
     "exception": false,
     "start_time": "2022-07-06T16:41:15.056893",
     "status": "completed"
    },
    "tags": []
   },
   "outputs": [],
   "source": [
    "from tqdm import tqdm \n",
    "\n",
    "def predict(model, text):\n",
    "    \n",
    "    preds = []\n",
    "    \n",
    "    for i in tqdm(range(len(text))):\n",
    "        tokenized = tokenizer(text[i:i+1], return_tensors=\"pt\", truncation=True, max_length=512).to(\"cuda\")\n",
    "        pred = model(**tokenized)\n",
    "        preds.append(pred.logits.argmax(-1).item())\n",
    "\n",
    "    return preds"
   ]
  },
  {
   "cell_type": "code",
   "execution_count": 24,
   "id": "ac7fd6dd",
   "metadata": {
    "execution": {
     "iopub.execute_input": "2022-07-06T16:41:15.162243Z",
     "iopub.status.busy": "2022-07-06T16:41:15.161503Z",
     "iopub.status.idle": "2022-07-06T16:57:00.791684Z",
     "shell.execute_reply": "2022-07-06T16:57:00.791187Z",
     "shell.execute_reply.started": "2022-07-06T16:22:00.005074Z"
    },
    "papermill": {
     "duration": 945.667153,
     "end_time": "2022-07-06T16:57:00.791823",
     "exception": false,
     "start_time": "2022-07-06T16:41:15.124670",
     "status": "completed"
    },
    "tags": []
   },
   "outputs": [
    {
     "name": "stdout",
     "output_type": "stream",
     "text": [
      "{}\n",
      "{}\n"
     ]
    },
    {
     "data": {
      "application/vnd.jupyter.widget-view+json": {
       "model_id": "d1569cbf6b16436bad54faa1990065fd",
       "version_major": 2,
       "version_minor": 0
      },
      "text/plain": [
       "Downloading:   0%|          | 0.00/549M [00:00<?, ?B/s]"
      ]
     },
     "metadata": {},
     "output_type": "display_data"
    },
    {
     "name": "stderr",
     "output_type": "stream",
     "text": [
      "Some weights of FlaubertForSequenceClassification were not initialized from the model checkpoint at inokufu/flaubert-base-uncased-xnli-sts-finetuned-education and are newly initialized: ['position_ids', 'sequence_summary.summary.bias', 'sequence_summary.summary.weight']\n",
      "You should probably TRAIN this model on a down-stream task to be able to use it for predictions and inference.\n",
      "Using the `WAND_DISABLED` environment variable is deprecated and will be removed in v5. Use the --report_to flag to control the integrations used for logging result (for instance --report_to none).\n"
     ]
    },
    {
     "data": {
      "text/html": [
       "\n",
       "    <div>\n",
       "        <style>\n",
       "            /* Turns off some styling */\n",
       "            progress {\n",
       "                /* gets rid of default border in Firefox and Opera. */\n",
       "                border: none;\n",
       "                /* Needs to be in here for Safari polyfill so background images work as expected. */\n",
       "                background-size: auto;\n",
       "            }\n",
       "        </style>\n",
       "      \n",
       "      <progress value='1295' max='1295' style='width:300px; height:20px; vertical-align: middle;'></progress>\n",
       "      [1295/1295 15:04, Epoch 7/7]\n",
       "    </div>\n",
       "    <table border=\"1\" class=\"dataframe\">\n",
       "  <thead>\n",
       "    <tr style=\"text-align: left;\">\n",
       "      <th>Epoch</th>\n",
       "      <th>Training Loss</th>\n",
       "      <th>Validation Loss</th>\n",
       "      <th>Accuracy</th>\n",
       "      <th>Runtime</th>\n",
       "      <th>Samples Per Second</th>\n",
       "    </tr>\n",
       "  </thead>\n",
       "  <tbody>\n",
       "    <tr>\n",
       "      <td>1</td>\n",
       "      <td>1.190300</td>\n",
       "      <td>0.803575</td>\n",
       "      <td>0.600000</td>\n",
       "      <td>0.665100</td>\n",
       "      <td>22.553000</td>\n",
       "    </tr>\n",
       "    <tr>\n",
       "      <td>2</td>\n",
       "      <td>0.922200</td>\n",
       "      <td>0.923881</td>\n",
       "      <td>0.733333</td>\n",
       "      <td>0.486000</td>\n",
       "      <td>30.866000</td>\n",
       "    </tr>\n",
       "    <tr>\n",
       "      <td>3</td>\n",
       "      <td>0.777000</td>\n",
       "      <td>0.880882</td>\n",
       "      <td>0.733333</td>\n",
       "      <td>0.488000</td>\n",
       "      <td>30.735000</td>\n",
       "    </tr>\n",
       "    <tr>\n",
       "      <td>4</td>\n",
       "      <td>0.613200</td>\n",
       "      <td>0.890636</td>\n",
       "      <td>0.733333</td>\n",
       "      <td>0.504600</td>\n",
       "      <td>29.726000</td>\n",
       "    </tr>\n",
       "    <tr>\n",
       "      <td>5</td>\n",
       "      <td>0.477600</td>\n",
       "      <td>0.972684</td>\n",
       "      <td>0.733333</td>\n",
       "      <td>0.487800</td>\n",
       "      <td>30.752000</td>\n",
       "    </tr>\n",
       "    <tr>\n",
       "      <td>6</td>\n",
       "      <td>0.248900</td>\n",
       "      <td>1.192148</td>\n",
       "      <td>0.733333</td>\n",
       "      <td>0.486800</td>\n",
       "      <td>30.812000</td>\n",
       "    </tr>\n",
       "    <tr>\n",
       "      <td>7</td>\n",
       "      <td>0.136000</td>\n",
       "      <td>1.305242</td>\n",
       "      <td>0.733333</td>\n",
       "      <td>0.487300</td>\n",
       "      <td>30.785000</td>\n",
       "    </tr>\n",
       "  </tbody>\n",
       "</table><p>"
      ],
      "text/plain": [
       "<IPython.core.display.HTML object>"
      ]
     },
     "metadata": {},
     "output_type": "display_data"
    }
   ],
   "source": [
    "train_set = CEFRDataset(train_set_df[\"text\"], train_set_df[\"label\"])\n",
    "valid_set = CEFRDataset(valid_set_df[\"text\"], valid_set_df[\"label\"])\n",
    "\n",
    "\n",
    "trainer_second = train(train_set, valid_set, epochs=epochs, warmup_size=0.2, lr=lr, batch_size=batch_size)\n",
    "model = trainer_second.model"
   ]
  },
  {
   "cell_type": "code",
   "execution_count": 25,
   "id": "1bae99b9",
   "metadata": {
    "execution": {
     "iopub.execute_input": "2022-07-06T16:57:00.863228Z",
     "iopub.status.busy": "2022-07-06T16:57:00.862465Z",
     "iopub.status.idle": "2022-07-06T16:57:01.359786Z",
     "shell.execute_reply": "2022-07-06T16:57:01.360429Z",
     "shell.execute_reply.started": "2022-07-06T16:38:57.118223Z"
    },
    "papermill": {
     "duration": 0.535671,
     "end_time": "2022-07-06T16:57:01.360621",
     "exception": false,
     "start_time": "2022-07-06T16:57:00.824950",
     "status": "completed"
    },
    "tags": []
   },
   "outputs": [
    {
     "name": "stderr",
     "output_type": "stream",
     "text": [
      "100%|██████████| 15/15 [00:00<00:00, 30.57it/s]\n"
     ]
    }
   ],
   "source": [
    "valid_set_df[\"preds\"] = train_set.encoder.inverse_transform(predict(model, valid_set_df.text.tolist()))\n",
    "valid_set_df.columns = [\"text\", \"cefr\", \"preds\",] "
   ]
  },
  {
   "cell_type": "code",
   "execution_count": 26,
   "id": "8cf6aed6",
   "metadata": {
    "execution": {
     "iopub.execute_input": "2022-07-06T16:57:01.433519Z",
     "iopub.status.busy": "2022-07-06T16:57:01.432945Z",
     "iopub.status.idle": "2022-07-06T16:57:03.256029Z",
     "shell.execute_reply": "2022-07-06T16:57:03.256584Z",
     "shell.execute_reply.started": "2022-07-06T16:38:57.961293Z"
    },
    "papermill": {
     "duration": 1.861112,
     "end_time": "2022-07-06T16:57:03.256778",
     "exception": false,
     "start_time": "2022-07-06T16:57:01.395666",
     "status": "completed"
    },
    "tags": []
   },
   "outputs": [
    {
     "name": "stderr",
     "output_type": "stream",
     "text": [
      "100%|██████████| 111/111 [00:01<00:00, 61.78it/s]\n"
     ]
    }
   ],
   "source": [
    "lingua = pd.read_csv(\"../input/lingua/fr_lingua.csv\")\n",
    "lingua[\"preds\"] = train_set.encoder.inverse_transform(predict(model, lingua.text.tolist()))"
   ]
  },
  {
   "cell_type": "code",
   "execution_count": 27,
   "id": "5e890f7f",
   "metadata": {
    "execution": {
     "iopub.execute_input": "2022-07-06T16:57:03.340820Z",
     "iopub.status.busy": "2022-07-06T16:57:03.340150Z",
     "iopub.status.idle": "2022-07-06T16:57:03.342876Z",
     "shell.execute_reply": "2022-07-06T16:57:03.343346Z",
     "shell.execute_reply.started": "2022-07-06T16:39:01.796947Z"
    },
    "papermill": {
     "duration": 0.046836,
     "end_time": "2022-07-06T16:57:03.343486",
     "exception": false,
     "start_time": "2022-07-06T16:57:03.296650",
     "status": "completed"
    },
    "tags": []
   },
   "outputs": [
    {
     "data": {
      "text/plain": [
       "B1    60\n",
       "A2    26\n",
       "A1    13\n",
       "B2    12\n",
       "Name: cefr, dtype: int64"
      ]
     },
     "execution_count": 27,
     "metadata": {},
     "output_type": "execute_result"
    }
   ],
   "source": [
    "lingua.cefr.value_counts()"
   ]
  },
  {
   "cell_type": "code",
   "execution_count": 28,
   "id": "e150bc6a",
   "metadata": {
    "execution": {
     "iopub.execute_input": "2022-07-06T16:57:03.425366Z",
     "iopub.status.busy": "2022-07-06T16:57:03.424722Z",
     "iopub.status.idle": "2022-07-06T16:57:03.429052Z",
     "shell.execute_reply": "2022-07-06T16:57:03.428624Z",
     "shell.execute_reply.started": "2022-07-06T16:39:01.811860Z"
    },
    "papermill": {
     "duration": 0.047555,
     "end_time": "2022-07-06T16:57:03.429183",
     "exception": false,
     "start_time": "2022-07-06T16:57:03.381628",
     "status": "completed"
    },
    "tags": []
   },
   "outputs": [
    {
     "data": {
      "text/plain": [
       "array([0, 1, 5, 3, 2])"
      ]
     },
     "execution_count": 28,
     "metadata": {},
     "output_type": "execute_result"
    }
   ],
   "source": [
    "lingua.preds.unique()"
   ]
  },
  {
   "cell_type": "code",
   "execution_count": 29,
   "id": "8810c24d",
   "metadata": {
    "execution": {
     "iopub.execute_input": "2022-07-06T16:57:03.511377Z",
     "iopub.status.busy": "2022-07-06T16:57:03.510627Z",
     "iopub.status.idle": "2022-07-06T16:57:03.513060Z",
     "shell.execute_reply": "2022-07-06T16:57:03.512630Z",
     "shell.execute_reply.started": "2022-07-06T16:39:01.823624Z"
    },
    "papermill": {
     "duration": 0.045328,
     "end_time": "2022-07-06T16:57:03.513189",
     "exception": false,
     "start_time": "2022-07-06T16:57:03.467861",
     "status": "completed"
    },
    "tags": []
   },
   "outputs": [],
   "source": [
    "def compute_average_distance(df, col_name=\"cefr\") :\n",
    "    \n",
    "    labels = [\"A1\", \"A2\", \"B1\", \"B2\", \"C1\", \"C2\"]\n",
    "    return (df[col_name].apply(lambda x: labels.index(x)) - df.preds.apply(lambda x: labels.index(x))).abs().mean()\n"
   ]
  },
  {
   "cell_type": "code",
   "execution_count": 30,
   "id": "92e6a2f5",
   "metadata": {
    "execution": {
     "iopub.execute_input": "2022-07-06T16:57:03.596785Z",
     "iopub.status.busy": "2022-07-06T16:57:03.596151Z",
     "iopub.status.idle": "2022-07-06T16:57:03.598634Z",
     "shell.execute_reply": "2022-07-06T16:57:03.599216Z",
     "shell.execute_reply.started": "2022-07-06T16:39:01.837449Z"
    },
    "papermill": {
     "duration": 0.047564,
     "end_time": "2022-07-06T16:57:03.599341",
     "exception": false,
     "start_time": "2022-07-06T16:57:03.551777",
     "status": "completed"
    },
    "tags": []
   },
   "outputs": [
    {
     "data": {
      "text/plain": [
       "0    59\n",
       "1    32\n",
       "3    15\n",
       "2     3\n",
       "5     2\n",
       "Name: preds, dtype: int64"
      ]
     },
     "execution_count": 30,
     "metadata": {},
     "output_type": "execute_result"
    }
   ],
   "source": [
    "lingua.preds.value_counts()"
   ]
  },
  {
   "cell_type": "code",
   "execution_count": 31,
   "id": "3edc1c90",
   "metadata": {
    "execution": {
     "iopub.execute_input": "2022-07-06T16:57:03.683083Z",
     "iopub.status.busy": "2022-07-06T16:57:03.681541Z",
     "iopub.status.idle": "2022-07-06T16:57:03.683690Z",
     "shell.execute_reply": "2022-07-06T16:57:03.684091Z",
     "shell.execute_reply.started": "2022-07-06T16:39:01.856698Z"
    },
    "papermill": {
     "duration": 0.046223,
     "end_time": "2022-07-06T16:57:03.684234",
     "exception": false,
     "start_time": "2022-07-06T16:57:03.638011",
     "status": "completed"
    },
    "tags": []
   },
   "outputs": [],
   "source": [
    "lingua[\"preds\"] = le.inverse_transform(lingua.preds)"
   ]
  },
  {
   "cell_type": "code",
   "execution_count": 32,
   "id": "7f979fcf",
   "metadata": {
    "execution": {
     "iopub.execute_input": "2022-07-06T16:57:03.768127Z",
     "iopub.status.busy": "2022-07-06T16:57:03.767077Z",
     "iopub.status.idle": "2022-07-06T16:57:03.770814Z",
     "shell.execute_reply": "2022-07-06T16:57:03.771213Z",
     "shell.execute_reply.started": "2022-07-06T16:39:01.866125Z"
    },
    "papermill": {
     "duration": 0.048266,
     "end_time": "2022-07-06T16:57:03.771337",
     "exception": false,
     "start_time": "2022-07-06T16:57:03.723071",
     "status": "completed"
    },
    "tags": []
   },
   "outputs": [
    {
     "data": {
      "text/plain": [
       "A1    59\n",
       "A2    32\n",
       "B2    15\n",
       "B1     3\n",
       "C2     2\n",
       "Name: preds, dtype: int64"
      ]
     },
     "execution_count": 32,
     "metadata": {},
     "output_type": "execute_result"
    }
   ],
   "source": [
    "lingua.preds.value_counts()"
   ]
  },
  {
   "cell_type": "code",
   "execution_count": 33,
   "id": "0911ec9c",
   "metadata": {
    "execution": {
     "iopub.execute_input": "2022-07-06T16:57:03.961034Z",
     "iopub.status.busy": "2022-07-06T16:57:03.960090Z",
     "iopub.status.idle": "2022-07-06T16:57:03.979452Z",
     "shell.execute_reply": "2022-07-06T16:57:03.980050Z",
     "shell.execute_reply.started": "2022-07-06T16:39:01.880100Z"
    },
    "papermill": {
     "duration": 0.153082,
     "end_time": "2022-07-06T16:57:03.980311",
     "exception": false,
     "start_time": "2022-07-06T16:57:03.827229",
     "status": "completed"
    },
    "tags": []
   },
   "outputs": [
    {
     "name": "stdout",
     "output_type": "stream",
     "text": [
      "Distance: \n",
      "1.2342342342342343\n",
      "Lingua accuracy: 0.23423423423423423\n"
     ]
    }
   ],
   "source": [
    "print(\"Distance: \")\n",
    "print(compute_average_distance(lingua, \"cefr\"))\n",
    "\n",
    "print(f\"Lingua accuracy: {(lingua['preds'] == lingua['cefr']).mean()}\")"
   ]
  },
  {
   "cell_type": "markdown",
   "id": "8c1b8a5b",
   "metadata": {
    "papermill": {
     "duration": 0.039919,
     "end_time": "2022-07-06T16:57:04.087231",
     "exception": false,
     "start_time": "2022-07-06T16:57:04.047312",
     "status": "completed"
    },
    "tags": []
   },
   "source": [
    "****"
   ]
  },
  {
   "cell_type": "markdown",
   "id": "2032c81a",
   "metadata": {
    "papermill": {
     "duration": 0.039417,
     "end_time": "2022-07-06T16:57:04.165886",
     "exception": false,
     "start_time": "2022-07-06T16:57:04.126469",
     "status": "completed"
    },
    "tags": []
   },
   "source": [
    "****"
   ]
  },
  {
   "cell_type": "code",
   "execution_count": 34,
   "id": "059c9cdf",
   "metadata": {
    "execution": {
     "iopub.execute_input": "2022-07-06T16:57:04.266735Z",
     "iopub.status.busy": "2022-07-06T16:57:04.262646Z",
     "iopub.status.idle": "2022-07-06T16:57:04.290173Z",
     "shell.execute_reply": "2022-07-06T16:57:04.289712Z",
     "shell.execute_reply.started": "2022-07-06T16:39:01.898301Z"
    },
    "papermill": {
     "duration": 0.083982,
     "end_time": "2022-07-06T16:57:04.290287",
     "exception": false,
     "start_time": "2022-07-06T16:57:04.206305",
     "status": "completed"
    },
    "tags": []
   },
   "outputs": [
    {
     "data": {
      "text/plain": [
       "A1    59\n",
       "A2    32\n",
       "B2    17\n",
       "B1     3\n",
       "Name: Predss, dtype: int64"
      ]
     },
     "execution_count": 34,
     "metadata": {},
     "output_type": "execute_result"
    }
   ],
   "source": [
    "for i in range(lingua.shape[0]):\n",
    "    if (lingua.loc[i,\"preds\"]==\"C1\") | (lingua.loc[i,\"preds\"]==\"C2\") :\n",
    "        lingua.loc[i,\"Predss\"]=\"B2\"\n",
    "    else :\n",
    "        lingua.loc[i,\"Predss\"]= lingua.loc[i,\"preds\"]\n",
    "lingua[\"Predss\"].value_counts()"
   ]
  },
  {
   "cell_type": "code",
   "execution_count": 35,
   "id": "da393010",
   "metadata": {
    "execution": {
     "iopub.execute_input": "2022-07-06T16:57:04.376507Z",
     "iopub.status.busy": "2022-07-06T16:57:04.375888Z",
     "iopub.status.idle": "2022-07-06T16:57:04.378598Z",
     "shell.execute_reply": "2022-07-06T16:57:04.379166Z",
     "shell.execute_reply.started": "2022-07-06T16:39:01.951069Z"
    },
    "papermill": {
     "duration": 0.049297,
     "end_time": "2022-07-06T16:57:04.379296",
     "exception": false,
     "start_time": "2022-07-06T16:57:04.329999",
     "status": "completed"
    },
    "tags": []
   },
   "outputs": [
    {
     "name": "stdout",
     "output_type": "stream",
     "text": [
      "Distance: \n",
      "1.2342342342342343\n",
      "Lingua accuracy: 0.24324324324324326\n"
     ]
    }
   ],
   "source": [
    "print(\"Distance: \")\n",
    "print(compute_average_distance(lingua, \"cefr\"))\n",
    "\n",
    "print(f\"Lingua accuracy: {(lingua['Predss'] == lingua['cefr']).mean()}\")"
   ]
  },
  {
   "cell_type": "markdown",
   "id": "9abbd365",
   "metadata": {
    "papermill": {
     "duration": 0.040202,
     "end_time": "2022-07-06T16:57:04.459543",
     "exception": false,
     "start_time": "2022-07-06T16:57:04.419341",
     "status": "completed"
    },
    "tags": []
   },
   "source": [
    "****"
   ]
  },
  {
   "cell_type": "code",
   "execution_count": null,
   "id": "ab5ec45f",
   "metadata": {
    "papermill": {
     "duration": 0.039623,
     "end_time": "2022-07-06T16:57:04.539722",
     "exception": false,
     "start_time": "2022-07-06T16:57:04.500099",
     "status": "completed"
    },
    "tags": []
   },
   "outputs": [],
   "source": []
  },
  {
   "cell_type": "code",
   "execution_count": null,
   "id": "2eeb606b",
   "metadata": {
    "papermill": {
     "duration": 0.040771,
     "end_time": "2022-07-06T16:57:04.621876",
     "exception": false,
     "start_time": "2022-07-06T16:57:04.581105",
     "status": "completed"
    },
    "tags": []
   },
   "outputs": [],
   "source": []
  },
  {
   "cell_type": "code",
   "execution_count": null,
   "id": "9bbd7fd5",
   "metadata": {
    "papermill": {
     "duration": 0.040528,
     "end_time": "2022-07-06T16:57:04.702718",
     "exception": false,
     "start_time": "2022-07-06T16:57:04.662190",
     "status": "completed"
    },
    "tags": []
   },
   "outputs": [],
   "source": []
  },
  {
   "cell_type": "code",
   "execution_count": null,
   "id": "9b1b3fe9",
   "metadata": {
    "papermill": {
     "duration": 0.040505,
     "end_time": "2022-07-06T16:57:04.783736",
     "exception": false,
     "start_time": "2022-07-06T16:57:04.743231",
     "status": "completed"
    },
    "tags": []
   },
   "outputs": [],
   "source": []
  }
 ],
 "metadata": {
  "kernelspec": {
   "display_name": "Python 3",
   "language": "python",
   "name": "python3"
  },
  "language_info": {
   "codemirror_mode": {
    "name": "ipython",
    "version": 3
   },
   "file_extension": ".py",
   "mimetype": "text/x-python",
   "name": "python",
   "nbconvert_exporter": "python",
   "pygments_lexer": "ipython3",
   "version": "3.7.10"
  },
  "papermill": {
   "default_parameters": {},
   "duration": 974.906863,
   "end_time": "2022-07-06T16:57:07.663685",
   "environment_variables": {},
   "exception": null,
   "input_path": "__notebook__.ipynb",
   "output_path": "__notebook__.ipynb",
   "parameters": {},
   "start_time": "2022-07-06T16:40:52.756822",
   "version": "2.3.3"
  },
  "widgets": {
   "application/vnd.jupyter.widget-state+json": {
    "state": {
     "044b8a00261d42c29523cc7c42195580": {
      "model_module": "@jupyter-widgets/controls",
      "model_module_version": "1.5.0",
      "model_name": "HTMLModel",
      "state": {
       "_dom_classes": [],
       "_model_module": "@jupyter-widgets/controls",
       "_model_module_version": "1.5.0",
       "_model_name": "HTMLModel",
       "_view_count": null,
       "_view_module": "@jupyter-widgets/controls",
       "_view_module_version": "1.5.0",
       "_view_name": "HTMLView",
       "description": "",
       "description_tooltip": null,
       "layout": "IPY_MODEL_3d56e56fee6542bfb75666eebfba178d",
       "placeholder": "​",
       "style": "IPY_MODEL_5044322d970347fd9362ecda85d4c194",
       "value": "Downloading: 100%"
      }
     },
     "06809d6b97ed4f0f98ac3da81efabe18": {
      "model_module": "@jupyter-widgets/controls",
      "model_module_version": "1.5.0",
      "model_name": "DescriptionStyleModel",
      "state": {
       "_model_module": "@jupyter-widgets/controls",
       "_model_module_version": "1.5.0",
       "_model_name": "DescriptionStyleModel",
       "_view_count": null,
       "_view_module": "@jupyter-widgets/base",
       "_view_module_version": "1.2.0",
       "_view_name": "StyleView",
       "description_width": ""
      }
     },
     "07512020cbe34d76a49a82e92fed388a": {
      "model_module": "@jupyter-widgets/base",
      "model_module_version": "1.2.0",
      "model_name": "LayoutModel",
      "state": {
       "_model_module": "@jupyter-widgets/base",
       "_model_module_version": "1.2.0",
       "_model_name": "LayoutModel",
       "_view_count": null,
       "_view_module": "@jupyter-widgets/base",
       "_view_module_version": "1.2.0",
       "_view_name": "LayoutView",
       "align_content": null,
       "align_items": null,
       "align_self": null,
       "border": null,
       "bottom": null,
       "display": null,
       "flex": null,
       "flex_flow": null,
       "grid_area": null,
       "grid_auto_columns": null,
       "grid_auto_flow": null,
       "grid_auto_rows": null,
       "grid_column": null,
       "grid_gap": null,
       "grid_row": null,
       "grid_template_areas": null,
       "grid_template_columns": null,
       "grid_template_rows": null,
       "height": null,
       "justify_content": null,
       "justify_items": null,
       "left": null,
       "margin": null,
       "max_height": null,
       "max_width": null,
       "min_height": null,
       "min_width": null,
       "object_fit": null,
       "object_position": null,
       "order": null,
       "overflow": null,
       "overflow_x": null,
       "overflow_y": null,
       "padding": null,
       "right": null,
       "top": null,
       "visibility": null,
       "width": null
      }
     },
     "0d4c0bc401b742ceadf1a8b585b125d2": {
      "model_module": "@jupyter-widgets/base",
      "model_module_version": "1.2.0",
      "model_name": "LayoutModel",
      "state": {
       "_model_module": "@jupyter-widgets/base",
       "_model_module_version": "1.2.0",
       "_model_name": "LayoutModel",
       "_view_count": null,
       "_view_module": "@jupyter-widgets/base",
       "_view_module_version": "1.2.0",
       "_view_name": "LayoutView",
       "align_content": null,
       "align_items": null,
       "align_self": null,
       "border": null,
       "bottom": null,
       "display": null,
       "flex": null,
       "flex_flow": null,
       "grid_area": null,
       "grid_auto_columns": null,
       "grid_auto_flow": null,
       "grid_auto_rows": null,
       "grid_column": null,
       "grid_gap": null,
       "grid_row": null,
       "grid_template_areas": null,
       "grid_template_columns": null,
       "grid_template_rows": null,
       "height": null,
       "justify_content": null,
       "justify_items": null,
       "left": null,
       "margin": null,
       "max_height": null,
       "max_width": null,
       "min_height": null,
       "min_width": null,
       "object_fit": null,
       "object_position": null,
       "order": null,
       "overflow": null,
       "overflow_x": null,
       "overflow_y": null,
       "padding": null,
       "right": null,
       "top": null,
       "visibility": null,
       "width": null
      }
     },
     "11e071179d41433fb0277faa73cdecfd": {
      "model_module": "@jupyter-widgets/base",
      "model_module_version": "1.2.0",
      "model_name": "LayoutModel",
      "state": {
       "_model_module": "@jupyter-widgets/base",
       "_model_module_version": "1.2.0",
       "_model_name": "LayoutModel",
       "_view_count": null,
       "_view_module": "@jupyter-widgets/base",
       "_view_module_version": "1.2.0",
       "_view_name": "LayoutView",
       "align_content": null,
       "align_items": null,
       "align_self": null,
       "border": null,
       "bottom": null,
       "display": null,
       "flex": null,
       "flex_flow": null,
       "grid_area": null,
       "grid_auto_columns": null,
       "grid_auto_flow": null,
       "grid_auto_rows": null,
       "grid_column": null,
       "grid_gap": null,
       "grid_row": null,
       "grid_template_areas": null,
       "grid_template_columns": null,
       "grid_template_rows": null,
       "height": null,
       "justify_content": null,
       "justify_items": null,
       "left": null,
       "margin": null,
       "max_height": null,
       "max_width": null,
       "min_height": null,
       "min_width": null,
       "object_fit": null,
       "object_position": null,
       "order": null,
       "overflow": null,
       "overflow_x": null,
       "overflow_y": null,
       "padding": null,
       "right": null,
       "top": null,
       "visibility": null,
       "width": null
      }
     },
     "17dfee1b7b754bd39b6fe9d2c23e53c1": {
      "model_module": "@jupyter-widgets/base",
      "model_module_version": "1.2.0",
      "model_name": "LayoutModel",
      "state": {
       "_model_module": "@jupyter-widgets/base",
       "_model_module_version": "1.2.0",
       "_model_name": "LayoutModel",
       "_view_count": null,
       "_view_module": "@jupyter-widgets/base",
       "_view_module_version": "1.2.0",
       "_view_name": "LayoutView",
       "align_content": null,
       "align_items": null,
       "align_self": null,
       "border": null,
       "bottom": null,
       "display": null,
       "flex": null,
       "flex_flow": null,
       "grid_area": null,
       "grid_auto_columns": null,
       "grid_auto_flow": null,
       "grid_auto_rows": null,
       "grid_column": null,
       "grid_gap": null,
       "grid_row": null,
       "grid_template_areas": null,
       "grid_template_columns": null,
       "grid_template_rows": null,
       "height": null,
       "justify_content": null,
       "justify_items": null,
       "left": null,
       "margin": null,
       "max_height": null,
       "max_width": null,
       "min_height": null,
       "min_width": null,
       "object_fit": null,
       "object_position": null,
       "order": null,
       "overflow": null,
       "overflow_x": null,
       "overflow_y": null,
       "padding": null,
       "right": null,
       "top": null,
       "visibility": null,
       "width": null
      }
     },
     "18cc19c6bc084a739dc6de9cf61c58fa": {
      "model_module": "@jupyter-widgets/controls",
      "model_module_version": "1.5.0",
      "model_name": "FloatProgressModel",
      "state": {
       "_dom_classes": [],
       "_model_module": "@jupyter-widgets/controls",
       "_model_module_version": "1.5.0",
       "_model_name": "FloatProgressModel",
       "_view_count": null,
       "_view_module": "@jupyter-widgets/controls",
       "_view_module_version": "1.5.0",
       "_view_name": "ProgressView",
       "bar_style": "success",
       "description": "",
       "description_tooltip": null,
       "layout": "IPY_MODEL_7fa46a7c30d44207a077906543ed78dd",
       "max": 597509.0,
       "min": 0.0,
       "orientation": "horizontal",
       "style": "IPY_MODEL_4dcb60fbe1954cc18224ade7c309583b",
       "value": 597509.0
      }
     },
     "196736de9c2c401f996229dc30912c52": {
      "model_module": "@jupyter-widgets/controls",
      "model_module_version": "1.5.0",
      "model_name": "FloatProgressModel",
      "state": {
       "_dom_classes": [],
       "_model_module": "@jupyter-widgets/controls",
       "_model_module_version": "1.5.0",
       "_model_name": "FloatProgressModel",
       "_view_count": null,
       "_view_module": "@jupyter-widgets/controls",
       "_view_module_version": "1.5.0",
       "_view_name": "ProgressView",
       "bar_style": "success",
       "description": "",
       "description_tooltip": null,
       "layout": "IPY_MODEL_d310f8a43daa47dbb1b2752c2bdabfa4",
       "max": 1317096.0,
       "min": 0.0,
       "orientation": "horizontal",
       "style": "IPY_MODEL_77735aa97aaf4951843c51a731a43f56",
       "value": 1317096.0
      }
     },
     "1dfed5ae9ca1407fbeb91cb2930adb3b": {
      "model_module": "@jupyter-widgets/controls",
      "model_module_version": "1.5.0",
      "model_name": "HTMLModel",
      "state": {
       "_dom_classes": [],
       "_model_module": "@jupyter-widgets/controls",
       "_model_module_version": "1.5.0",
       "_model_name": "HTMLModel",
       "_view_count": null,
       "_view_module": "@jupyter-widgets/controls",
       "_view_module_version": "1.5.0",
       "_view_name": "HTMLView",
       "description": "",
       "description_tooltip": null,
       "layout": "IPY_MODEL_c77e969d77c5459cb3a4dc36c19c5083",
       "placeholder": "​",
       "style": "IPY_MODEL_4a11804830d74dc2b4937fee9eb171bd",
       "value": " 598k/598k [00:00&lt;00:00, 873kB/s]"
      }
     },
     "223af4d1a7a541458da6a0be8f8b74ae": {
      "model_module": "@jupyter-widgets/controls",
      "model_module_version": "1.5.0",
      "model_name": "HTMLModel",
      "state": {
       "_dom_classes": [],
       "_model_module": "@jupyter-widgets/controls",
       "_model_module_version": "1.5.0",
       "_model_name": "HTMLModel",
       "_view_count": null,
       "_view_module": "@jupyter-widgets/controls",
       "_view_module_version": "1.5.0",
       "_view_name": "HTMLView",
       "description": "",
       "description_tooltip": null,
       "layout": "IPY_MODEL_a7452fdf9aca469a8e8f0eb2c13d9e89",
       "placeholder": "​",
       "style": "IPY_MODEL_cb314cfe58704fec847e6bcdcba20774",
       "value": " 549M/549M [00:24&lt;00:00, 23.0MB/s]"
      }
     },
     "247d93e526a54f9eaf911575f5d1ec77": {
      "model_module": "@jupyter-widgets/controls",
      "model_module_version": "1.5.0",
      "model_name": "HTMLModel",
      "state": {
       "_dom_classes": [],
       "_model_module": "@jupyter-widgets/controls",
       "_model_module_version": "1.5.0",
       "_model_name": "HTMLModel",
       "_view_count": null,
       "_view_module": "@jupyter-widgets/controls",
       "_view_module_version": "1.5.0",
       "_view_name": "HTMLView",
       "description": "",
       "description_tooltip": null,
       "layout": "IPY_MODEL_939c8854e2344dc2a95290695cb76f91",
       "placeholder": "​",
       "style": "IPY_MODEL_fdad754877aa45c092304f0abca7f2dc",
       "value": " 582/582 [00:00&lt;00:00, 23.6kB/s]"
      }
     },
     "27d6dbf0546a419da0cc24eba3665db3": {
      "model_module": "@jupyter-widgets/base",
      "model_module_version": "1.2.0",
      "model_name": "LayoutModel",
      "state": {
       "_model_module": "@jupyter-widgets/base",
       "_model_module_version": "1.2.0",
       "_model_name": "LayoutModel",
       "_view_count": null,
       "_view_module": "@jupyter-widgets/base",
       "_view_module_version": "1.2.0",
       "_view_name": "LayoutView",
       "align_content": null,
       "align_items": null,
       "align_self": null,
       "border": null,
       "bottom": null,
       "display": null,
       "flex": null,
       "flex_flow": null,
       "grid_area": null,
       "grid_auto_columns": null,
       "grid_auto_flow": null,
       "grid_auto_rows": null,
       "grid_column": null,
       "grid_gap": null,
       "grid_row": null,
       "grid_template_areas": null,
       "grid_template_columns": null,
       "grid_template_rows": null,
       "height": null,
       "justify_content": null,
       "justify_items": null,
       "left": null,
       "margin": null,
       "max_height": null,
       "max_width": null,
       "min_height": null,
       "min_width": null,
       "object_fit": null,
       "object_position": null,
       "order": null,
       "overflow": null,
       "overflow_x": null,
       "overflow_y": null,
       "padding": null,
       "right": null,
       "top": null,
       "visibility": null,
       "width": null
      }
     },
     "2c502e1db6bf424c88fca109f9719e17": {
      "model_module": "@jupyter-widgets/controls",
      "model_module_version": "1.5.0",
      "model_name": "HTMLModel",
      "state": {
       "_dom_classes": [],
       "_model_module": "@jupyter-widgets/controls",
       "_model_module_version": "1.5.0",
       "_model_name": "HTMLModel",
       "_view_count": null,
       "_view_module": "@jupyter-widgets/controls",
       "_view_module_version": "1.5.0",
       "_view_name": "HTMLView",
       "description": "",
       "description_tooltip": null,
       "layout": "IPY_MODEL_9a9dc47978864ce6b7206e976973158d",
       "placeholder": "​",
       "style": "IPY_MODEL_ee42833e661e430fbb9ec28b5a72350d",
       "value": "Downloading: 100%"
      }
     },
     "3b959c50ce044cfd9f544c3af247aa37": {
      "model_module": "@jupyter-widgets/controls",
      "model_module_version": "1.5.0",
      "model_name": "ProgressStyleModel",
      "state": {
       "_model_module": "@jupyter-widgets/controls",
       "_model_module_version": "1.5.0",
       "_model_name": "ProgressStyleModel",
       "_view_count": null,
       "_view_module": "@jupyter-widgets/base",
       "_view_module_version": "1.2.0",
       "_view_name": "StyleView",
       "bar_color": null,
       "description_width": ""
      }
     },
     "3c599307ce0c49909b836bce00733bca": {
      "model_module": "@jupyter-widgets/base",
      "model_module_version": "1.2.0",
      "model_name": "LayoutModel",
      "state": {
       "_model_module": "@jupyter-widgets/base",
       "_model_module_version": "1.2.0",
       "_model_name": "LayoutModel",
       "_view_count": null,
       "_view_module": "@jupyter-widgets/base",
       "_view_module_version": "1.2.0",
       "_view_name": "LayoutView",
       "align_content": null,
       "align_items": null,
       "align_self": null,
       "border": null,
       "bottom": null,
       "display": null,
       "flex": null,
       "flex_flow": null,
       "grid_area": null,
       "grid_auto_columns": null,
       "grid_auto_flow": null,
       "grid_auto_rows": null,
       "grid_column": null,
       "grid_gap": null,
       "grid_row": null,
       "grid_template_areas": null,
       "grid_template_columns": null,
       "grid_template_rows": null,
       "height": null,
       "justify_content": null,
       "justify_items": null,
       "left": null,
       "margin": null,
       "max_height": null,
       "max_width": null,
       "min_height": null,
       "min_width": null,
       "object_fit": null,
       "object_position": null,
       "order": null,
       "overflow": null,
       "overflow_x": null,
       "overflow_y": null,
       "padding": null,
       "right": null,
       "top": null,
       "visibility": null,
       "width": null
      }
     },
     "3d56e56fee6542bfb75666eebfba178d": {
      "model_module": "@jupyter-widgets/base",
      "model_module_version": "1.2.0",
      "model_name": "LayoutModel",
      "state": {
       "_model_module": "@jupyter-widgets/base",
       "_model_module_version": "1.2.0",
       "_model_name": "LayoutModel",
       "_view_count": null,
       "_view_module": "@jupyter-widgets/base",
       "_view_module_version": "1.2.0",
       "_view_name": "LayoutView",
       "align_content": null,
       "align_items": null,
       "align_self": null,
       "border": null,
       "bottom": null,
       "display": null,
       "flex": null,
       "flex_flow": null,
       "grid_area": null,
       "grid_auto_columns": null,
       "grid_auto_flow": null,
       "grid_auto_rows": null,
       "grid_column": null,
       "grid_gap": null,
       "grid_row": null,
       "grid_template_areas": null,
       "grid_template_columns": null,
       "grid_template_rows": null,
       "height": null,
       "justify_content": null,
       "justify_items": null,
       "left": null,
       "margin": null,
       "max_height": null,
       "max_width": null,
       "min_height": null,
       "min_width": null,
       "object_fit": null,
       "object_position": null,
       "order": null,
       "overflow": null,
       "overflow_x": null,
       "overflow_y": null,
       "padding": null,
       "right": null,
       "top": null,
       "visibility": null,
       "width": null
      }
     },
     "405ae0ecace949b69dc76ab141161121": {
      "model_module": "@jupyter-widgets/controls",
      "model_module_version": "1.5.0",
      "model_name": "DescriptionStyleModel",
      "state": {
       "_model_module": "@jupyter-widgets/controls",
       "_model_module_version": "1.5.0",
       "_model_name": "DescriptionStyleModel",
       "_view_count": null,
       "_view_module": "@jupyter-widgets/base",
       "_view_module_version": "1.2.0",
       "_view_name": "StyleView",
       "description_width": ""
      }
     },
     "410e134d36ba47fc9acd189092a8a136": {
      "model_module": "@jupyter-widgets/controls",
      "model_module_version": "1.5.0",
      "model_name": "HTMLModel",
      "state": {
       "_dom_classes": [],
       "_model_module": "@jupyter-widgets/controls",
       "_model_module_version": "1.5.0",
       "_model_name": "HTMLModel",
       "_view_count": null,
       "_view_module": "@jupyter-widgets/controls",
       "_view_module_version": "1.5.0",
       "_view_name": "HTMLView",
       "description": "",
       "description_tooltip": null,
       "layout": "IPY_MODEL_27d6dbf0546a419da0cc24eba3665db3",
       "placeholder": "​",
       "style": "IPY_MODEL_537a7ff9f85145fab6e7324928eb825e",
       "value": " 1.59k/1.59k [00:00&lt;00:00, 62.1kB/s]"
      }
     },
     "42400d0c3e3e4b34add78c5678213a6e": {
      "model_module": "@jupyter-widgets/controls",
      "model_module_version": "1.5.0",
      "model_name": "DescriptionStyleModel",
      "state": {
       "_model_module": "@jupyter-widgets/controls",
       "_model_module_version": "1.5.0",
       "_model_name": "DescriptionStyleModel",
       "_view_count": null,
       "_view_module": "@jupyter-widgets/base",
       "_view_module_version": "1.2.0",
       "_view_name": "StyleView",
       "description_width": ""
      }
     },
     "43438026ec2c4b15a58960ab254f6d2c": {
      "model_module": "@jupyter-widgets/controls",
      "model_module_version": "1.5.0",
      "model_name": "DescriptionStyleModel",
      "state": {
       "_model_module": "@jupyter-widgets/controls",
       "_model_module_version": "1.5.0",
       "_model_name": "DescriptionStyleModel",
       "_view_count": null,
       "_view_module": "@jupyter-widgets/base",
       "_view_module_version": "1.2.0",
       "_view_name": "StyleView",
       "description_width": ""
      }
     },
     "44e560b1acab45cf8fc0505d265a22fc": {
      "model_module": "@jupyter-widgets/base",
      "model_module_version": "1.2.0",
      "model_name": "LayoutModel",
      "state": {
       "_model_module": "@jupyter-widgets/base",
       "_model_module_version": "1.2.0",
       "_model_name": "LayoutModel",
       "_view_count": null,
       "_view_module": "@jupyter-widgets/base",
       "_view_module_version": "1.2.0",
       "_view_name": "LayoutView",
       "align_content": null,
       "align_items": null,
       "align_self": null,
       "border": null,
       "bottom": null,
       "display": null,
       "flex": null,
       "flex_flow": null,
       "grid_area": null,
       "grid_auto_columns": null,
       "grid_auto_flow": null,
       "grid_auto_rows": null,
       "grid_column": null,
       "grid_gap": null,
       "grid_row": null,
       "grid_template_areas": null,
       "grid_template_columns": null,
       "grid_template_rows": null,
       "height": null,
       "justify_content": null,
       "justify_items": null,
       "left": null,
       "margin": null,
       "max_height": null,
       "max_width": null,
       "min_height": null,
       "min_width": null,
       "object_fit": null,
       "object_position": null,
       "order": null,
       "overflow": null,
       "overflow_x": null,
       "overflow_y": null,
       "padding": null,
       "right": null,
       "top": null,
       "visibility": null,
       "width": null
      }
     },
     "451b84ca91874edf989dba780033eac8": {
      "model_module": "@jupyter-widgets/base",
      "model_module_version": "1.2.0",
      "model_name": "LayoutModel",
      "state": {
       "_model_module": "@jupyter-widgets/base",
       "_model_module_version": "1.2.0",
       "_model_name": "LayoutModel",
       "_view_count": null,
       "_view_module": "@jupyter-widgets/base",
       "_view_module_version": "1.2.0",
       "_view_name": "LayoutView",
       "align_content": null,
       "align_items": null,
       "align_self": null,
       "border": null,
       "bottom": null,
       "display": null,
       "flex": null,
       "flex_flow": null,
       "grid_area": null,
       "grid_auto_columns": null,
       "grid_auto_flow": null,
       "grid_auto_rows": null,
       "grid_column": null,
       "grid_gap": null,
       "grid_row": null,
       "grid_template_areas": null,
       "grid_template_columns": null,
       "grid_template_rows": null,
       "height": null,
       "justify_content": null,
       "justify_items": null,
       "left": null,
       "margin": null,
       "max_height": null,
       "max_width": null,
       "min_height": null,
       "min_width": null,
       "object_fit": null,
       "object_position": null,
       "order": null,
       "overflow": null,
       "overflow_x": null,
       "overflow_y": null,
       "padding": null,
       "right": null,
       "top": null,
       "visibility": null,
       "width": null
      }
     },
     "4a11804830d74dc2b4937fee9eb171bd": {
      "model_module": "@jupyter-widgets/controls",
      "model_module_version": "1.5.0",
      "model_name": "DescriptionStyleModel",
      "state": {
       "_model_module": "@jupyter-widgets/controls",
       "_model_module_version": "1.5.0",
       "_model_name": "DescriptionStyleModel",
       "_view_count": null,
       "_view_module": "@jupyter-widgets/base",
       "_view_module_version": "1.2.0",
       "_view_name": "StyleView",
       "description_width": ""
      }
     },
     "4ce24b8a3fe64c18b5a8054f14d40174": {
      "model_module": "@jupyter-widgets/controls",
      "model_module_version": "1.5.0",
      "model_name": "HBoxModel",
      "state": {
       "_dom_classes": [],
       "_model_module": "@jupyter-widgets/controls",
       "_model_module_version": "1.5.0",
       "_model_name": "HBoxModel",
       "_view_count": null,
       "_view_module": "@jupyter-widgets/controls",
       "_view_module_version": "1.5.0",
       "_view_name": "HBoxView",
       "box_style": "",
       "children": [
        "IPY_MODEL_2c502e1db6bf424c88fca109f9719e17",
        "IPY_MODEL_18cc19c6bc084a739dc6de9cf61c58fa",
        "IPY_MODEL_1dfed5ae9ca1407fbeb91cb2930adb3b"
       ],
       "layout": "IPY_MODEL_11e071179d41433fb0277faa73cdecfd"
      }
     },
     "4dcb60fbe1954cc18224ade7c309583b": {
      "model_module": "@jupyter-widgets/controls",
      "model_module_version": "1.5.0",
      "model_name": "ProgressStyleModel",
      "state": {
       "_model_module": "@jupyter-widgets/controls",
       "_model_module_version": "1.5.0",
       "_model_name": "ProgressStyleModel",
       "_view_count": null,
       "_view_module": "@jupyter-widgets/base",
       "_view_module_version": "1.2.0",
       "_view_name": "StyleView",
       "bar_color": null,
       "description_width": ""
      }
     },
     "503acaad913d4e26a8dbf4eea67feaab": {
      "model_module": "@jupyter-widgets/controls",
      "model_module_version": "1.5.0",
      "model_name": "HBoxModel",
      "state": {
       "_dom_classes": [],
       "_model_module": "@jupyter-widgets/controls",
       "_model_module_version": "1.5.0",
       "_model_name": "HBoxModel",
       "_view_count": null,
       "_view_module": "@jupyter-widgets/controls",
       "_view_module_version": "1.5.0",
       "_view_name": "HBoxView",
       "box_style": "",
       "children": [
        "IPY_MODEL_b34822a6e9084eaa828ba273392dfb77",
        "IPY_MODEL_70877b0d922c46b9aa4f95f86f7feb05",
        "IPY_MODEL_410e134d36ba47fc9acd189092a8a136"
       ],
       "layout": "IPY_MODEL_7d7f5f07ecf14b75a0d53aa6e21fe758"
      }
     },
     "5044322d970347fd9362ecda85d4c194": {
      "model_module": "@jupyter-widgets/controls",
      "model_module_version": "1.5.0",
      "model_name": "DescriptionStyleModel",
      "state": {
       "_model_module": "@jupyter-widgets/controls",
       "_model_module_version": "1.5.0",
       "_model_name": "DescriptionStyleModel",
       "_view_count": null,
       "_view_module": "@jupyter-widgets/base",
       "_view_module_version": "1.2.0",
       "_view_name": "StyleView",
       "description_width": ""
      }
     },
     "537a7ff9f85145fab6e7324928eb825e": {
      "model_module": "@jupyter-widgets/controls",
      "model_module_version": "1.5.0",
      "model_name": "DescriptionStyleModel",
      "state": {
       "_model_module": "@jupyter-widgets/controls",
       "_model_module_version": "1.5.0",
       "_model_name": "DescriptionStyleModel",
       "_view_count": null,
       "_view_module": "@jupyter-widgets/base",
       "_view_module_version": "1.2.0",
       "_view_name": "StyleView",
       "description_width": ""
      }
     },
     "5c17258931bf4235845da1c21c8a0c6d": {
      "model_module": "@jupyter-widgets/controls",
      "model_module_version": "1.5.0",
      "model_name": "FloatProgressModel",
      "state": {
       "_dom_classes": [],
       "_model_module": "@jupyter-widgets/controls",
       "_model_module_version": "1.5.0",
       "_model_name": "FloatProgressModel",
       "_view_count": null,
       "_view_module": "@jupyter-widgets/controls",
       "_view_module_version": "1.5.0",
       "_view_name": "ProgressView",
       "bar_style": "success",
       "description": "",
       "description_tooltip": null,
       "layout": "IPY_MODEL_bbda5390a0d348ceb160dfe943a448c5",
       "max": 305.0,
       "min": 0.0,
       "orientation": "horizontal",
       "style": "IPY_MODEL_71738aa6cf6e48b3989cc83ed2ba13a4",
       "value": 305.0
      }
     },
     "67020928c6ae4eeea8fa581778311fc1": {
      "model_module": "@jupyter-widgets/base",
      "model_module_version": "1.2.0",
      "model_name": "LayoutModel",
      "state": {
       "_model_module": "@jupyter-widgets/base",
       "_model_module_version": "1.2.0",
       "_model_name": "LayoutModel",
       "_view_count": null,
       "_view_module": "@jupyter-widgets/base",
       "_view_module_version": "1.2.0",
       "_view_name": "LayoutView",
       "align_content": null,
       "align_items": null,
       "align_self": null,
       "border": null,
       "bottom": null,
       "display": null,
       "flex": null,
       "flex_flow": null,
       "grid_area": null,
       "grid_auto_columns": null,
       "grid_auto_flow": null,
       "grid_auto_rows": null,
       "grid_column": null,
       "grid_gap": null,
       "grid_row": null,
       "grid_template_areas": null,
       "grid_template_columns": null,
       "grid_template_rows": null,
       "height": null,
       "justify_content": null,
       "justify_items": null,
       "left": null,
       "margin": null,
       "max_height": null,
       "max_width": null,
       "min_height": null,
       "min_width": null,
       "object_fit": null,
       "object_position": null,
       "order": null,
       "overflow": null,
       "overflow_x": null,
       "overflow_y": null,
       "padding": null,
       "right": null,
       "top": null,
       "visibility": null,
       "width": null
      }
     },
     "70877b0d922c46b9aa4f95f86f7feb05": {
      "model_module": "@jupyter-widgets/controls",
      "model_module_version": "1.5.0",
      "model_name": "FloatProgressModel",
      "state": {
       "_dom_classes": [],
       "_model_module": "@jupyter-widgets/controls",
       "_model_module_version": "1.5.0",
       "_model_name": "FloatProgressModel",
       "_view_count": null,
       "_view_module": "@jupyter-widgets/controls",
       "_view_module_version": "1.5.0",
       "_view_name": "ProgressView",
       "bar_style": "success",
       "description": "",
       "description_tooltip": null,
       "layout": "IPY_MODEL_758f10d42d9443e7a9448acb7c7f4907",
       "max": 1588.0,
       "min": 0.0,
       "orientation": "horizontal",
       "style": "IPY_MODEL_f6bd70ffe39d49aba0d535fd2412f296",
       "value": 1588.0
      }
     },
     "71738aa6cf6e48b3989cc83ed2ba13a4": {
      "model_module": "@jupyter-widgets/controls",
      "model_module_version": "1.5.0",
      "model_name": "ProgressStyleModel",
      "state": {
       "_model_module": "@jupyter-widgets/controls",
       "_model_module_version": "1.5.0",
       "_model_name": "ProgressStyleModel",
       "_view_count": null,
       "_view_module": "@jupyter-widgets/base",
       "_view_module_version": "1.2.0",
       "_view_name": "StyleView",
       "bar_color": null,
       "description_width": ""
      }
     },
     "758f10d42d9443e7a9448acb7c7f4907": {
      "model_module": "@jupyter-widgets/base",
      "model_module_version": "1.2.0",
      "model_name": "LayoutModel",
      "state": {
       "_model_module": "@jupyter-widgets/base",
       "_model_module_version": "1.2.0",
       "_model_name": "LayoutModel",
       "_view_count": null,
       "_view_module": "@jupyter-widgets/base",
       "_view_module_version": "1.2.0",
       "_view_name": "LayoutView",
       "align_content": null,
       "align_items": null,
       "align_self": null,
       "border": null,
       "bottom": null,
       "display": null,
       "flex": null,
       "flex_flow": null,
       "grid_area": null,
       "grid_auto_columns": null,
       "grid_auto_flow": null,
       "grid_auto_rows": null,
       "grid_column": null,
       "grid_gap": null,
       "grid_row": null,
       "grid_template_areas": null,
       "grid_template_columns": null,
       "grid_template_rows": null,
       "height": null,
       "justify_content": null,
       "justify_items": null,
       "left": null,
       "margin": null,
       "max_height": null,
       "max_width": null,
       "min_height": null,
       "min_width": null,
       "object_fit": null,
       "object_position": null,
       "order": null,
       "overflow": null,
       "overflow_x": null,
       "overflow_y": null,
       "padding": null,
       "right": null,
       "top": null,
       "visibility": null,
       "width": null
      }
     },
     "77735aa97aaf4951843c51a731a43f56": {
      "model_module": "@jupyter-widgets/controls",
      "model_module_version": "1.5.0",
      "model_name": "ProgressStyleModel",
      "state": {
       "_model_module": "@jupyter-widgets/controls",
       "_model_module_version": "1.5.0",
       "_model_name": "ProgressStyleModel",
       "_view_count": null,
       "_view_module": "@jupyter-widgets/base",
       "_view_module_version": "1.2.0",
       "_view_name": "StyleView",
       "bar_color": null,
       "description_width": ""
      }
     },
     "795aef9866344d94ac6f37a999d3dec3": {
      "model_module": "@jupyter-widgets/controls",
      "model_module_version": "1.5.0",
      "model_name": "FloatProgressModel",
      "state": {
       "_dom_classes": [],
       "_model_module": "@jupyter-widgets/controls",
       "_model_module_version": "1.5.0",
       "_model_name": "FloatProgressModel",
       "_view_count": null,
       "_view_module": "@jupyter-widgets/controls",
       "_view_module_version": "1.5.0",
       "_view_name": "ProgressView",
       "bar_style": "success",
       "description": "",
       "description_tooltip": null,
       "layout": "IPY_MODEL_88314a36adb7401fabf41cf0e10d2b51",
       "max": 582.0,
       "min": 0.0,
       "orientation": "horizontal",
       "style": "IPY_MODEL_a20f53724cba439abbeb367efbb193bc",
       "value": 582.0
      }
     },
     "7a950c6dda754b4fa679c88d49a97542": {
      "model_module": "@jupyter-widgets/controls",
      "model_module_version": "1.5.0",
      "model_name": "HBoxModel",
      "state": {
       "_dom_classes": [],
       "_model_module": "@jupyter-widgets/controls",
       "_model_module_version": "1.5.0",
       "_model_name": "HBoxModel",
       "_view_count": null,
       "_view_module": "@jupyter-widgets/controls",
       "_view_module_version": "1.5.0",
       "_view_name": "HBoxView",
       "box_style": "",
       "children": [
        "IPY_MODEL_f43d6d51cc8c46e6b3e3cb7b33f100fc",
        "IPY_MODEL_5c17258931bf4235845da1c21c8a0c6d",
        "IPY_MODEL_e804815a432a428f807ba8a95e99f844"
       ],
       "layout": "IPY_MODEL_0d4c0bc401b742ceadf1a8b585b125d2"
      }
     },
     "7d428da98ecb4a80903776bfda76112b": {
      "model_module": "@jupyter-widgets/controls",
      "model_module_version": "1.5.0",
      "model_name": "HBoxModel",
      "state": {
       "_dom_classes": [],
       "_model_module": "@jupyter-widgets/controls",
       "_model_module_version": "1.5.0",
       "_model_name": "HBoxModel",
       "_view_count": null,
       "_view_module": "@jupyter-widgets/controls",
       "_view_module_version": "1.5.0",
       "_view_name": "HBoxView",
       "box_style": "",
       "children": [
        "IPY_MODEL_c6ccdbc9dc334232a85a29afe358eea1",
        "IPY_MODEL_795aef9866344d94ac6f37a999d3dec3",
        "IPY_MODEL_247d93e526a54f9eaf911575f5d1ec77"
       ],
       "layout": "IPY_MODEL_17dfee1b7b754bd39b6fe9d2c23e53c1"
      }
     },
     "7d7f5f07ecf14b75a0d53aa6e21fe758": {
      "model_module": "@jupyter-widgets/base",
      "model_module_version": "1.2.0",
      "model_name": "LayoutModel",
      "state": {
       "_model_module": "@jupyter-widgets/base",
       "_model_module_version": "1.2.0",
       "_model_name": "LayoutModel",
       "_view_count": null,
       "_view_module": "@jupyter-widgets/base",
       "_view_module_version": "1.2.0",
       "_view_name": "LayoutView",
       "align_content": null,
       "align_items": null,
       "align_self": null,
       "border": null,
       "bottom": null,
       "display": null,
       "flex": null,
       "flex_flow": null,
       "grid_area": null,
       "grid_auto_columns": null,
       "grid_auto_flow": null,
       "grid_auto_rows": null,
       "grid_column": null,
       "grid_gap": null,
       "grid_row": null,
       "grid_template_areas": null,
       "grid_template_columns": null,
       "grid_template_rows": null,
       "height": null,
       "justify_content": null,
       "justify_items": null,
       "left": null,
       "margin": null,
       "max_height": null,
       "max_width": null,
       "min_height": null,
       "min_width": null,
       "object_fit": null,
       "object_position": null,
       "order": null,
       "overflow": null,
       "overflow_x": null,
       "overflow_y": null,
       "padding": null,
       "right": null,
       "top": null,
       "visibility": null,
       "width": null
      }
     },
     "7e07a9bb6f9d4d6e838b8b071b74a940": {
      "model_module": "@jupyter-widgets/controls",
      "model_module_version": "1.5.0",
      "model_name": "HBoxModel",
      "state": {
       "_dom_classes": [],
       "_model_module": "@jupyter-widgets/controls",
       "_model_module_version": "1.5.0",
       "_model_name": "HBoxModel",
       "_view_count": null,
       "_view_module": "@jupyter-widgets/controls",
       "_view_module_version": "1.5.0",
       "_view_name": "HBoxView",
       "box_style": "",
       "children": [
        "IPY_MODEL_044b8a00261d42c29523cc7c42195580",
        "IPY_MODEL_196736de9c2c401f996229dc30912c52",
        "IPY_MODEL_9255e8fa9ffb402ba52fa2d28745e5cd"
       ],
       "layout": "IPY_MODEL_7ff5438e16ed42ab8006aef3b1ed4b50"
      }
     },
     "7fa46a7c30d44207a077906543ed78dd": {
      "model_module": "@jupyter-widgets/base",
      "model_module_version": "1.2.0",
      "model_name": "LayoutModel",
      "state": {
       "_model_module": "@jupyter-widgets/base",
       "_model_module_version": "1.2.0",
       "_model_name": "LayoutModel",
       "_view_count": null,
       "_view_module": "@jupyter-widgets/base",
       "_view_module_version": "1.2.0",
       "_view_name": "LayoutView",
       "align_content": null,
       "align_items": null,
       "align_self": null,
       "border": null,
       "bottom": null,
       "display": null,
       "flex": null,
       "flex_flow": null,
       "grid_area": null,
       "grid_auto_columns": null,
       "grid_auto_flow": null,
       "grid_auto_rows": null,
       "grid_column": null,
       "grid_gap": null,
       "grid_row": null,
       "grid_template_areas": null,
       "grid_template_columns": null,
       "grid_template_rows": null,
       "height": null,
       "justify_content": null,
       "justify_items": null,
       "left": null,
       "margin": null,
       "max_height": null,
       "max_width": null,
       "min_height": null,
       "min_width": null,
       "object_fit": null,
       "object_position": null,
       "order": null,
       "overflow": null,
       "overflow_x": null,
       "overflow_y": null,
       "padding": null,
       "right": null,
       "top": null,
       "visibility": null,
       "width": null
      }
     },
     "7ff5438e16ed42ab8006aef3b1ed4b50": {
      "model_module": "@jupyter-widgets/base",
      "model_module_version": "1.2.0",
      "model_name": "LayoutModel",
      "state": {
       "_model_module": "@jupyter-widgets/base",
       "_model_module_version": "1.2.0",
       "_model_name": "LayoutModel",
       "_view_count": null,
       "_view_module": "@jupyter-widgets/base",
       "_view_module_version": "1.2.0",
       "_view_name": "LayoutView",
       "align_content": null,
       "align_items": null,
       "align_self": null,
       "border": null,
       "bottom": null,
       "display": null,
       "flex": null,
       "flex_flow": null,
       "grid_area": null,
       "grid_auto_columns": null,
       "grid_auto_flow": null,
       "grid_auto_rows": null,
       "grid_column": null,
       "grid_gap": null,
       "grid_row": null,
       "grid_template_areas": null,
       "grid_template_columns": null,
       "grid_template_rows": null,
       "height": null,
       "justify_content": null,
       "justify_items": null,
       "left": null,
       "margin": null,
       "max_height": null,
       "max_width": null,
       "min_height": null,
       "min_width": null,
       "object_fit": null,
       "object_position": null,
       "order": null,
       "overflow": null,
       "overflow_x": null,
       "overflow_y": null,
       "padding": null,
       "right": null,
       "top": null,
       "visibility": null,
       "width": null
      }
     },
     "88314a36adb7401fabf41cf0e10d2b51": {
      "model_module": "@jupyter-widgets/base",
      "model_module_version": "1.2.0",
      "model_name": "LayoutModel",
      "state": {
       "_model_module": "@jupyter-widgets/base",
       "_model_module_version": "1.2.0",
       "_model_name": "LayoutModel",
       "_view_count": null,
       "_view_module": "@jupyter-widgets/base",
       "_view_module_version": "1.2.0",
       "_view_name": "LayoutView",
       "align_content": null,
       "align_items": null,
       "align_self": null,
       "border": null,
       "bottom": null,
       "display": null,
       "flex": null,
       "flex_flow": null,
       "grid_area": null,
       "grid_auto_columns": null,
       "grid_auto_flow": null,
       "grid_auto_rows": null,
       "grid_column": null,
       "grid_gap": null,
       "grid_row": null,
       "grid_template_areas": null,
       "grid_template_columns": null,
       "grid_template_rows": null,
       "height": null,
       "justify_content": null,
       "justify_items": null,
       "left": null,
       "margin": null,
       "max_height": null,
       "max_width": null,
       "min_height": null,
       "min_width": null,
       "object_fit": null,
       "object_position": null,
       "order": null,
       "overflow": null,
       "overflow_x": null,
       "overflow_y": null,
       "padding": null,
       "right": null,
       "top": null,
       "visibility": null,
       "width": null
      }
     },
     "8bbda8c844fc46c4abbd85fcbd707a1f": {
      "model_module": "@jupyter-widgets/controls",
      "model_module_version": "1.5.0",
      "model_name": "HTMLModel",
      "state": {
       "_dom_classes": [],
       "_model_module": "@jupyter-widgets/controls",
       "_model_module_version": "1.5.0",
       "_model_name": "HTMLModel",
       "_view_count": null,
       "_view_module": "@jupyter-widgets/controls",
       "_view_module_version": "1.5.0",
       "_view_name": "HTMLView",
       "description": "",
       "description_tooltip": null,
       "layout": "IPY_MODEL_44e560b1acab45cf8fc0505d265a22fc",
       "placeholder": "​",
       "style": "IPY_MODEL_cad54527d6f9414ba20948041fdea2b0",
       "value": "Downloading: 100%"
      }
     },
     "9255e8fa9ffb402ba52fa2d28745e5cd": {
      "model_module": "@jupyter-widgets/controls",
      "model_module_version": "1.5.0",
      "model_name": "HTMLModel",
      "state": {
       "_dom_classes": [],
       "_model_module": "@jupyter-widgets/controls",
       "_model_module_version": "1.5.0",
       "_model_name": "HTMLModel",
       "_view_count": null,
       "_view_module": "@jupyter-widgets/controls",
       "_view_module_version": "1.5.0",
       "_view_name": "HTMLView",
       "description": "",
       "description_tooltip": null,
       "layout": "IPY_MODEL_c1095edab47c48899a6886b5d687f30b",
       "placeholder": "​",
       "style": "IPY_MODEL_405ae0ecace949b69dc76ab141161121",
       "value": " 1.32M/1.32M [00:00&lt;00:00, 3.04MB/s]"
      }
     },
     "939c8854e2344dc2a95290695cb76f91": {
      "model_module": "@jupyter-widgets/base",
      "model_module_version": "1.2.0",
      "model_name": "LayoutModel",
      "state": {
       "_model_module": "@jupyter-widgets/base",
       "_model_module_version": "1.2.0",
       "_model_name": "LayoutModel",
       "_view_count": null,
       "_view_module": "@jupyter-widgets/base",
       "_view_module_version": "1.2.0",
       "_view_name": "LayoutView",
       "align_content": null,
       "align_items": null,
       "align_self": null,
       "border": null,
       "bottom": null,
       "display": null,
       "flex": null,
       "flex_flow": null,
       "grid_area": null,
       "grid_auto_columns": null,
       "grid_auto_flow": null,
       "grid_auto_rows": null,
       "grid_column": null,
       "grid_gap": null,
       "grid_row": null,
       "grid_template_areas": null,
       "grid_template_columns": null,
       "grid_template_rows": null,
       "height": null,
       "justify_content": null,
       "justify_items": null,
       "left": null,
       "margin": null,
       "max_height": null,
       "max_width": null,
       "min_height": null,
       "min_width": null,
       "object_fit": null,
       "object_position": null,
       "order": null,
       "overflow": null,
       "overflow_x": null,
       "overflow_y": null,
       "padding": null,
       "right": null,
       "top": null,
       "visibility": null,
       "width": null
      }
     },
     "9a9dc47978864ce6b7206e976973158d": {
      "model_module": "@jupyter-widgets/base",
      "model_module_version": "1.2.0",
      "model_name": "LayoutModel",
      "state": {
       "_model_module": "@jupyter-widgets/base",
       "_model_module_version": "1.2.0",
       "_model_name": "LayoutModel",
       "_view_count": null,
       "_view_module": "@jupyter-widgets/base",
       "_view_module_version": "1.2.0",
       "_view_name": "LayoutView",
       "align_content": null,
       "align_items": null,
       "align_self": null,
       "border": null,
       "bottom": null,
       "display": null,
       "flex": null,
       "flex_flow": null,
       "grid_area": null,
       "grid_auto_columns": null,
       "grid_auto_flow": null,
       "grid_auto_rows": null,
       "grid_column": null,
       "grid_gap": null,
       "grid_row": null,
       "grid_template_areas": null,
       "grid_template_columns": null,
       "grid_template_rows": null,
       "height": null,
       "justify_content": null,
       "justify_items": null,
       "left": null,
       "margin": null,
       "max_height": null,
       "max_width": null,
       "min_height": null,
       "min_width": null,
       "object_fit": null,
       "object_position": null,
       "order": null,
       "overflow": null,
       "overflow_x": null,
       "overflow_y": null,
       "padding": null,
       "right": null,
       "top": null,
       "visibility": null,
       "width": null
      }
     },
     "a20f53724cba439abbeb367efbb193bc": {
      "model_module": "@jupyter-widgets/controls",
      "model_module_version": "1.5.0",
      "model_name": "ProgressStyleModel",
      "state": {
       "_model_module": "@jupyter-widgets/controls",
       "_model_module_version": "1.5.0",
       "_model_name": "ProgressStyleModel",
       "_view_count": null,
       "_view_module": "@jupyter-widgets/base",
       "_view_module_version": "1.2.0",
       "_view_name": "StyleView",
       "bar_color": null,
       "description_width": ""
      }
     },
     "a7452fdf9aca469a8e8f0eb2c13d9e89": {
      "model_module": "@jupyter-widgets/base",
      "model_module_version": "1.2.0",
      "model_name": "LayoutModel",
      "state": {
       "_model_module": "@jupyter-widgets/base",
       "_model_module_version": "1.2.0",
       "_model_name": "LayoutModel",
       "_view_count": null,
       "_view_module": "@jupyter-widgets/base",
       "_view_module_version": "1.2.0",
       "_view_name": "LayoutView",
       "align_content": null,
       "align_items": null,
       "align_self": null,
       "border": null,
       "bottom": null,
       "display": null,
       "flex": null,
       "flex_flow": null,
       "grid_area": null,
       "grid_auto_columns": null,
       "grid_auto_flow": null,
       "grid_auto_rows": null,
       "grid_column": null,
       "grid_gap": null,
       "grid_row": null,
       "grid_template_areas": null,
       "grid_template_columns": null,
       "grid_template_rows": null,
       "height": null,
       "justify_content": null,
       "justify_items": null,
       "left": null,
       "margin": null,
       "max_height": null,
       "max_width": null,
       "min_height": null,
       "min_width": null,
       "object_fit": null,
       "object_position": null,
       "order": null,
       "overflow": null,
       "overflow_x": null,
       "overflow_y": null,
       "padding": null,
       "right": null,
       "top": null,
       "visibility": null,
       "width": null
      }
     },
     "a8382594615f4118a981985022a55e59": {
      "model_module": "@jupyter-widgets/controls",
      "model_module_version": "1.5.0",
      "model_name": "FloatProgressModel",
      "state": {
       "_dom_classes": [],
       "_model_module": "@jupyter-widgets/controls",
       "_model_module_version": "1.5.0",
       "_model_name": "FloatProgressModel",
       "_view_count": null,
       "_view_module": "@jupyter-widgets/controls",
       "_view_module_version": "1.5.0",
       "_view_name": "ProgressView",
       "bar_style": "success",
       "description": "",
       "description_tooltip": null,
       "layout": "IPY_MODEL_451b84ca91874edf989dba780033eac8",
       "max": 549350969.0,
       "min": 0.0,
       "orientation": "horizontal",
       "style": "IPY_MODEL_3b959c50ce044cfd9f544c3af247aa37",
       "value": 549350969.0
      }
     },
     "a99dd4d6606441e58237af521abba245": {
      "model_module": "@jupyter-widgets/controls",
      "model_module_version": "1.5.0",
      "model_name": "DescriptionStyleModel",
      "state": {
       "_model_module": "@jupyter-widgets/controls",
       "_model_module_version": "1.5.0",
       "_model_name": "DescriptionStyleModel",
       "_view_count": null,
       "_view_module": "@jupyter-widgets/base",
       "_view_module_version": "1.2.0",
       "_view_name": "StyleView",
       "description_width": ""
      }
     },
     "ac252b1bb19d46cbad11446a678ec61c": {
      "model_module": "@jupyter-widgets/base",
      "model_module_version": "1.2.0",
      "model_name": "LayoutModel",
      "state": {
       "_model_module": "@jupyter-widgets/base",
       "_model_module_version": "1.2.0",
       "_model_name": "LayoutModel",
       "_view_count": null,
       "_view_module": "@jupyter-widgets/base",
       "_view_module_version": "1.2.0",
       "_view_name": "LayoutView",
       "align_content": null,
       "align_items": null,
       "align_self": null,
       "border": null,
       "bottom": null,
       "display": null,
       "flex": null,
       "flex_flow": null,
       "grid_area": null,
       "grid_auto_columns": null,
       "grid_auto_flow": null,
       "grid_auto_rows": null,
       "grid_column": null,
       "grid_gap": null,
       "grid_row": null,
       "grid_template_areas": null,
       "grid_template_columns": null,
       "grid_template_rows": null,
       "height": null,
       "justify_content": null,
       "justify_items": null,
       "left": null,
       "margin": null,
       "max_height": null,
       "max_width": null,
       "min_height": null,
       "min_width": null,
       "object_fit": null,
       "object_position": null,
       "order": null,
       "overflow": null,
       "overflow_x": null,
       "overflow_y": null,
       "padding": null,
       "right": null,
       "top": null,
       "visibility": null,
       "width": null
      }
     },
     "b34822a6e9084eaa828ba273392dfb77": {
      "model_module": "@jupyter-widgets/controls",
      "model_module_version": "1.5.0",
      "model_name": "HTMLModel",
      "state": {
       "_dom_classes": [],
       "_model_module": "@jupyter-widgets/controls",
       "_model_module_version": "1.5.0",
       "_model_name": "HTMLModel",
       "_view_count": null,
       "_view_module": "@jupyter-widgets/controls",
       "_view_module_version": "1.5.0",
       "_view_name": "HTMLView",
       "description": "",
       "description_tooltip": null,
       "layout": "IPY_MODEL_ec70e4e6597a4af29230af6e26b37ee4",
       "placeholder": "​",
       "style": "IPY_MODEL_42400d0c3e3e4b34add78c5678213a6e",
       "value": "Downloading: 100%"
      }
     },
     "bbda5390a0d348ceb160dfe943a448c5": {
      "model_module": "@jupyter-widgets/base",
      "model_module_version": "1.2.0",
      "model_name": "LayoutModel",
      "state": {
       "_model_module": "@jupyter-widgets/base",
       "_model_module_version": "1.2.0",
       "_model_name": "LayoutModel",
       "_view_count": null,
       "_view_module": "@jupyter-widgets/base",
       "_view_module_version": "1.2.0",
       "_view_name": "LayoutView",
       "align_content": null,
       "align_items": null,
       "align_self": null,
       "border": null,
       "bottom": null,
       "display": null,
       "flex": null,
       "flex_flow": null,
       "grid_area": null,
       "grid_auto_columns": null,
       "grid_auto_flow": null,
       "grid_auto_rows": null,
       "grid_column": null,
       "grid_gap": null,
       "grid_row": null,
       "grid_template_areas": null,
       "grid_template_columns": null,
       "grid_template_rows": null,
       "height": null,
       "justify_content": null,
       "justify_items": null,
       "left": null,
       "margin": null,
       "max_height": null,
       "max_width": null,
       "min_height": null,
       "min_width": null,
       "object_fit": null,
       "object_position": null,
       "order": null,
       "overflow": null,
       "overflow_x": null,
       "overflow_y": null,
       "padding": null,
       "right": null,
       "top": null,
       "visibility": null,
       "width": null
      }
     },
     "c1095edab47c48899a6886b5d687f30b": {
      "model_module": "@jupyter-widgets/base",
      "model_module_version": "1.2.0",
      "model_name": "LayoutModel",
      "state": {
       "_model_module": "@jupyter-widgets/base",
       "_model_module_version": "1.2.0",
       "_model_name": "LayoutModel",
       "_view_count": null,
       "_view_module": "@jupyter-widgets/base",
       "_view_module_version": "1.2.0",
       "_view_name": "LayoutView",
       "align_content": null,
       "align_items": null,
       "align_self": null,
       "border": null,
       "bottom": null,
       "display": null,
       "flex": null,
       "flex_flow": null,
       "grid_area": null,
       "grid_auto_columns": null,
       "grid_auto_flow": null,
       "grid_auto_rows": null,
       "grid_column": null,
       "grid_gap": null,
       "grid_row": null,
       "grid_template_areas": null,
       "grid_template_columns": null,
       "grid_template_rows": null,
       "height": null,
       "justify_content": null,
       "justify_items": null,
       "left": null,
       "margin": null,
       "max_height": null,
       "max_width": null,
       "min_height": null,
       "min_width": null,
       "object_fit": null,
       "object_position": null,
       "order": null,
       "overflow": null,
       "overflow_x": null,
       "overflow_y": null,
       "padding": null,
       "right": null,
       "top": null,
       "visibility": null,
       "width": null
      }
     },
     "c6ccdbc9dc334232a85a29afe358eea1": {
      "model_module": "@jupyter-widgets/controls",
      "model_module_version": "1.5.0",
      "model_name": "HTMLModel",
      "state": {
       "_dom_classes": [],
       "_model_module": "@jupyter-widgets/controls",
       "_model_module_version": "1.5.0",
       "_model_name": "HTMLModel",
       "_view_count": null,
       "_view_module": "@jupyter-widgets/controls",
       "_view_module_version": "1.5.0",
       "_view_name": "HTMLView",
       "description": "",
       "description_tooltip": null,
       "layout": "IPY_MODEL_67020928c6ae4eeea8fa581778311fc1",
       "placeholder": "​",
       "style": "IPY_MODEL_43438026ec2c4b15a58960ab254f6d2c",
       "value": "Downloading: 100%"
      }
     },
     "c77e969d77c5459cb3a4dc36c19c5083": {
      "model_module": "@jupyter-widgets/base",
      "model_module_version": "1.2.0",
      "model_name": "LayoutModel",
      "state": {
       "_model_module": "@jupyter-widgets/base",
       "_model_module_version": "1.2.0",
       "_model_name": "LayoutModel",
       "_view_count": null,
       "_view_module": "@jupyter-widgets/base",
       "_view_module_version": "1.2.0",
       "_view_name": "LayoutView",
       "align_content": null,
       "align_items": null,
       "align_self": null,
       "border": null,
       "bottom": null,
       "display": null,
       "flex": null,
       "flex_flow": null,
       "grid_area": null,
       "grid_auto_columns": null,
       "grid_auto_flow": null,
       "grid_auto_rows": null,
       "grid_column": null,
       "grid_gap": null,
       "grid_row": null,
       "grid_template_areas": null,
       "grid_template_columns": null,
       "grid_template_rows": null,
       "height": null,
       "justify_content": null,
       "justify_items": null,
       "left": null,
       "margin": null,
       "max_height": null,
       "max_width": null,
       "min_height": null,
       "min_width": null,
       "object_fit": null,
       "object_position": null,
       "order": null,
       "overflow": null,
       "overflow_x": null,
       "overflow_y": null,
       "padding": null,
       "right": null,
       "top": null,
       "visibility": null,
       "width": null
      }
     },
     "cad54527d6f9414ba20948041fdea2b0": {
      "model_module": "@jupyter-widgets/controls",
      "model_module_version": "1.5.0",
      "model_name": "DescriptionStyleModel",
      "state": {
       "_model_module": "@jupyter-widgets/controls",
       "_model_module_version": "1.5.0",
       "_model_name": "DescriptionStyleModel",
       "_view_count": null,
       "_view_module": "@jupyter-widgets/base",
       "_view_module_version": "1.2.0",
       "_view_name": "StyleView",
       "description_width": ""
      }
     },
     "cb314cfe58704fec847e6bcdcba20774": {
      "model_module": "@jupyter-widgets/controls",
      "model_module_version": "1.5.0",
      "model_name": "DescriptionStyleModel",
      "state": {
       "_model_module": "@jupyter-widgets/controls",
       "_model_module_version": "1.5.0",
       "_model_name": "DescriptionStyleModel",
       "_view_count": null,
       "_view_module": "@jupyter-widgets/base",
       "_view_module_version": "1.2.0",
       "_view_name": "StyleView",
       "description_width": ""
      }
     },
     "d1569cbf6b16436bad54faa1990065fd": {
      "model_module": "@jupyter-widgets/controls",
      "model_module_version": "1.5.0",
      "model_name": "HBoxModel",
      "state": {
       "_dom_classes": [],
       "_model_module": "@jupyter-widgets/controls",
       "_model_module_version": "1.5.0",
       "_model_name": "HBoxModel",
       "_view_count": null,
       "_view_module": "@jupyter-widgets/controls",
       "_view_module_version": "1.5.0",
       "_view_name": "HBoxView",
       "box_style": "",
       "children": [
        "IPY_MODEL_8bbda8c844fc46c4abbd85fcbd707a1f",
        "IPY_MODEL_a8382594615f4118a981985022a55e59",
        "IPY_MODEL_223af4d1a7a541458da6a0be8f8b74ae"
       ],
       "layout": "IPY_MODEL_ac252b1bb19d46cbad11446a678ec61c"
      }
     },
     "d310f8a43daa47dbb1b2752c2bdabfa4": {
      "model_module": "@jupyter-widgets/base",
      "model_module_version": "1.2.0",
      "model_name": "LayoutModel",
      "state": {
       "_model_module": "@jupyter-widgets/base",
       "_model_module_version": "1.2.0",
       "_model_name": "LayoutModel",
       "_view_count": null,
       "_view_module": "@jupyter-widgets/base",
       "_view_module_version": "1.2.0",
       "_view_name": "LayoutView",
       "align_content": null,
       "align_items": null,
       "align_self": null,
       "border": null,
       "bottom": null,
       "display": null,
       "flex": null,
       "flex_flow": null,
       "grid_area": null,
       "grid_auto_columns": null,
       "grid_auto_flow": null,
       "grid_auto_rows": null,
       "grid_column": null,
       "grid_gap": null,
       "grid_row": null,
       "grid_template_areas": null,
       "grid_template_columns": null,
       "grid_template_rows": null,
       "height": null,
       "justify_content": null,
       "justify_items": null,
       "left": null,
       "margin": null,
       "max_height": null,
       "max_width": null,
       "min_height": null,
       "min_width": null,
       "object_fit": null,
       "object_position": null,
       "order": null,
       "overflow": null,
       "overflow_x": null,
       "overflow_y": null,
       "padding": null,
       "right": null,
       "top": null,
       "visibility": null,
       "width": null
      }
     },
     "e804815a432a428f807ba8a95e99f844": {
      "model_module": "@jupyter-widgets/controls",
      "model_module_version": "1.5.0",
      "model_name": "HTMLModel",
      "state": {
       "_dom_classes": [],
       "_model_module": "@jupyter-widgets/controls",
       "_model_module_version": "1.5.0",
       "_model_name": "HTMLModel",
       "_view_count": null,
       "_view_module": "@jupyter-widgets/controls",
       "_view_module_version": "1.5.0",
       "_view_name": "HTMLView",
       "description": "",
       "description_tooltip": null,
       "layout": "IPY_MODEL_07512020cbe34d76a49a82e92fed388a",
       "placeholder": "​",
       "style": "IPY_MODEL_a99dd4d6606441e58237af521abba245",
       "value": " 305/305 [00:00&lt;00:00, 12.2kB/s]"
      }
     },
     "ec70e4e6597a4af29230af6e26b37ee4": {
      "model_module": "@jupyter-widgets/base",
      "model_module_version": "1.2.0",
      "model_name": "LayoutModel",
      "state": {
       "_model_module": "@jupyter-widgets/base",
       "_model_module_version": "1.2.0",
       "_model_name": "LayoutModel",
       "_view_count": null,
       "_view_module": "@jupyter-widgets/base",
       "_view_module_version": "1.2.0",
       "_view_name": "LayoutView",
       "align_content": null,
       "align_items": null,
       "align_self": null,
       "border": null,
       "bottom": null,
       "display": null,
       "flex": null,
       "flex_flow": null,
       "grid_area": null,
       "grid_auto_columns": null,
       "grid_auto_flow": null,
       "grid_auto_rows": null,
       "grid_column": null,
       "grid_gap": null,
       "grid_row": null,
       "grid_template_areas": null,
       "grid_template_columns": null,
       "grid_template_rows": null,
       "height": null,
       "justify_content": null,
       "justify_items": null,
       "left": null,
       "margin": null,
       "max_height": null,
       "max_width": null,
       "min_height": null,
       "min_width": null,
       "object_fit": null,
       "object_position": null,
       "order": null,
       "overflow": null,
       "overflow_x": null,
       "overflow_y": null,
       "padding": null,
       "right": null,
       "top": null,
       "visibility": null,
       "width": null
      }
     },
     "ee42833e661e430fbb9ec28b5a72350d": {
      "model_module": "@jupyter-widgets/controls",
      "model_module_version": "1.5.0",
      "model_name": "DescriptionStyleModel",
      "state": {
       "_model_module": "@jupyter-widgets/controls",
       "_model_module_version": "1.5.0",
       "_model_name": "DescriptionStyleModel",
       "_view_count": null,
       "_view_module": "@jupyter-widgets/base",
       "_view_module_version": "1.2.0",
       "_view_name": "StyleView",
       "description_width": ""
      }
     },
     "f43d6d51cc8c46e6b3e3cb7b33f100fc": {
      "model_module": "@jupyter-widgets/controls",
      "model_module_version": "1.5.0",
      "model_name": "HTMLModel",
      "state": {
       "_dom_classes": [],
       "_model_module": "@jupyter-widgets/controls",
       "_model_module_version": "1.5.0",
       "_model_name": "HTMLModel",
       "_view_count": null,
       "_view_module": "@jupyter-widgets/controls",
       "_view_module_version": "1.5.0",
       "_view_name": "HTMLView",
       "description": "",
       "description_tooltip": null,
       "layout": "IPY_MODEL_3c599307ce0c49909b836bce00733bca",
       "placeholder": "​",
       "style": "IPY_MODEL_06809d6b97ed4f0f98ac3da81efabe18",
       "value": "Downloading: 100%"
      }
     },
     "f6bd70ffe39d49aba0d535fd2412f296": {
      "model_module": "@jupyter-widgets/controls",
      "model_module_version": "1.5.0",
      "model_name": "ProgressStyleModel",
      "state": {
       "_model_module": "@jupyter-widgets/controls",
       "_model_module_version": "1.5.0",
       "_model_name": "ProgressStyleModel",
       "_view_count": null,
       "_view_module": "@jupyter-widgets/base",
       "_view_module_version": "1.2.0",
       "_view_name": "StyleView",
       "bar_color": null,
       "description_width": ""
      }
     },
     "fdad754877aa45c092304f0abca7f2dc": {
      "model_module": "@jupyter-widgets/controls",
      "model_module_version": "1.5.0",
      "model_name": "DescriptionStyleModel",
      "state": {
       "_model_module": "@jupyter-widgets/controls",
       "_model_module_version": "1.5.0",
       "_model_name": "DescriptionStyleModel",
       "_view_count": null,
       "_view_module": "@jupyter-widgets/base",
       "_view_module_version": "1.2.0",
       "_view_name": "StyleView",
       "description_width": ""
      }
     }
    },
    "version_major": 2,
    "version_minor": 0
   }
  }
 },
 "nbformat": 4,
 "nbformat_minor": 5
}
