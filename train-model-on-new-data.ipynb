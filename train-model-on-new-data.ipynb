{
 "cells": [
  {
   "cell_type": "code",
   "execution_count": 1,
   "id": "7587cc42",
   "metadata": {
    "execution": {
     "iopub.execute_input": "2022-07-07T08:04:44.528051Z",
     "iopub.status.busy": "2022-07-07T08:04:44.526551Z",
     "iopub.status.idle": "2022-07-07T08:04:52.376798Z",
     "shell.execute_reply": "2022-07-07T08:04:52.376185Z",
     "shell.execute_reply.started": "2022-07-07T07:45:06.094003Z"
    },
    "papermill": {
     "duration": 7.88388,
     "end_time": "2022-07-07T08:04:52.376959",
     "exception": false,
     "start_time": "2022-07-07T08:04:44.493079",
     "status": "completed"
    },
    "tags": []
   },
   "outputs": [],
   "source": [
    "import os\n",
    "\n",
    "import random\n",
    "import numpy as np\n",
    "\n",
    "import pandas as pd\n",
    "import torch\n",
    "from torch.utils.data import Dataset, random_split\n",
    "from transformers import (\n",
    "    AdamW,\n",
    "    Trainer,\n",
    "    TrainingArguments,\n",
    "    AutoTokenizer,\n",
    "    AutoModelForSequenceClassification,\n",
    "    get_cosine_schedule_with_warmup,\n",
    ")\n",
    "from sklearn.preprocessing import LabelEncoder\n",
    "from sklearn.metrics import accuracy_score\n",
    "import warnings\n",
    "warnings.filterwarnings('ignore')"
   ]
  },
  {
   "cell_type": "code",
   "execution_count": 2,
   "id": "e7882aa3",
   "metadata": {
    "execution": {
     "iopub.execute_input": "2022-07-07T08:04:52.438606Z",
     "iopub.status.busy": "2022-07-07T08:04:52.437924Z",
     "iopub.status.idle": "2022-07-07T08:04:57.078925Z",
     "shell.execute_reply": "2022-07-07T08:04:57.078414Z",
     "shell.execute_reply.started": "2022-07-07T07:45:13.460507Z"
    },
    "papermill": {
     "duration": 4.672355,
     "end_time": "2022-07-07T08:04:57.079066",
     "exception": false,
     "start_time": "2022-07-07T08:04:52.406711",
     "status": "completed"
    },
    "tags": []
   },
   "outputs": [
    {
     "data": {
      "application/vnd.jupyter.widget-view+json": {
       "model_id": "00cf05c3150948f4afec79cc303c080b",
       "version_major": 2,
       "version_minor": 0
      },
      "text/plain": [
       "Downloading:   0%|          | 0.00/420 [00:00<?, ?B/s]"
      ]
     },
     "metadata": {},
     "output_type": "display_data"
    },
    {
     "data": {
      "application/vnd.jupyter.widget-view+json": {
       "model_id": "a79d67ab71144fb38f592ef60e2f59e1",
       "version_major": 2,
       "version_minor": 0
      },
      "text/plain": [
       "Downloading:   0%|          | 0.00/227k [00:00<?, ?B/s]"
      ]
     },
     "metadata": {},
     "output_type": "display_data"
    },
    {
     "data": {
      "application/vnd.jupyter.widget-view+json": {
       "model_id": "b01d119800ac4088a0abb2b9598ff55a",
       "version_major": 2,
       "version_minor": 0
      },
      "text/plain": [
       "Downloading:   0%|          | 0.00/83.0 [00:00<?, ?B/s]"
      ]
     },
     "metadata": {},
     "output_type": "display_data"
    }
   ],
   "source": [
    "model_name = \"dbmdz/bert-base-french-europeana-cased\"\n",
    "\n",
    "tokenizer = AutoTokenizer.from_pretrained(model_name)\n",
    "\n",
    "device = torch.device(\"cuda\" if torch.cuda.is_available() else \"cpu\")"
   ]
  },
  {
   "cell_type": "code",
   "execution_count": 3,
   "id": "57801ceb",
   "metadata": {
    "execution": {
     "iopub.execute_input": "2022-07-07T08:04:57.140807Z",
     "iopub.status.busy": "2022-07-07T08:04:57.139987Z",
     "iopub.status.idle": "2022-07-07T08:04:57.141805Z",
     "shell.execute_reply": "2022-07-07T08:04:57.142291Z",
     "shell.execute_reply.started": "2022-07-07T07:45:17.016591Z"
    },
    "papermill": {
     "duration": 0.033942,
     "end_time": "2022-07-07T08:04:57.142411",
     "exception": false,
     "start_time": "2022-07-07T08:04:57.108469",
     "status": "completed"
    },
    "tags": []
   },
   "outputs": [],
   "source": [
    "lr = 2e-5\n",
    "epochs =  6\n",
    "batch_size = 5\n",
    "max_seq_len = 75\n",
    "\n",
    "test_frac = 0.1"
   ]
  },
  {
   "cell_type": "code",
   "execution_count": 4,
   "id": "03f50b4f",
   "metadata": {
    "execution": {
     "iopub.execute_input": "2022-07-07T08:04:57.203188Z",
     "iopub.status.busy": "2022-07-07T08:04:57.202638Z",
     "iopub.status.idle": "2022-07-07T08:04:57.208565Z",
     "shell.execute_reply": "2022-07-07T08:04:57.208969Z",
     "shell.execute_reply.started": "2022-07-07T07:45:17.023509Z"
    },
    "papermill": {
     "duration": 0.038958,
     "end_time": "2022-07-07T08:04:57.209093",
     "exception": false,
     "start_time": "2022-07-07T08:04:57.170135",
     "status": "completed"
    },
    "tags": []
   },
   "outputs": [],
   "source": [
    "import os\n",
    "\n",
    "def set_seed(seed=106052):\n",
    "    \"\"\"Set seed for reproducibility.\n",
    "    \"\"\"\n",
    "    random.seed(seed)\n",
    "    np.random.seed(seed)\n",
    "    torch.manual_seed(seed)\n",
    "    torch.cuda.manual_seed_all(seed)\n",
    "    \n",
    "    os.environ['PYTHONHASHSEED'] = str(seed)\n",
    "    \n",
    "set_seed()"
   ]
  },
  {
   "cell_type": "code",
   "execution_count": 5,
   "id": "ecb6d056",
   "metadata": {
    "execution": {
     "iopub.execute_input": "2022-07-07T08:04:57.272708Z",
     "iopub.status.busy": "2022-07-07T08:04:57.271948Z",
     "iopub.status.idle": "2022-07-07T08:04:57.274369Z",
     "shell.execute_reply": "2022-07-07T08:04:57.273961Z",
     "shell.execute_reply.started": "2022-07-07T07:45:17.040422Z"
    },
    "papermill": {
     "duration": 0.037304,
     "end_time": "2022-07-07T08:04:57.274473",
     "exception": false,
     "start_time": "2022-07-07T08:04:57.237169",
     "status": "completed"
    },
    "tags": []
   },
   "outputs": [],
   "source": [
    "class CEFRDataset(Dataset):\n",
    "    \"\"\"Classification dataset, built on top of pytorch dataset object\n",
    "    \"\"\"\n",
    "    \n",
    "    def __init__(self, texts, labels):\n",
    "        \n",
    "        self.encoder = LabelEncoder()\n",
    "        print(self.encoder.__dict__)\n",
    "        self.texts = texts\n",
    "        self.labels = self.encoder.fit_transform(labels)\n",
    "\n",
    "    def __len__(self):\n",
    "        return len(self.texts)\n",
    "\n",
    "    def __getitem__(self, index):\n",
    "        text = self.texts[index]\n",
    "        label = self.labels[index]\n",
    "        encoded_text = tokenizer(\n",
    "            text,\n",
    "            padding=\"max_length\",\n",
    "            max_length=max_seq_len,\n",
    "            truncation=True,\n",
    "            return_tensors=\"pt\",\n",
    "        )\n",
    "        encoded_text[\"input_ids\"] = encoded_text[\"input_ids\"].squeeze()\n",
    "        encoded_text[\"attention_mask\"] = encoded_text[\"attention_mask\"].squeeze()\n",
    "        label = torch.tensor(label)\n",
    "\n",
    "        return {\n",
    "            \"input_ids\": encoded_text[\"input_ids\"],\n",
    "            \"attention_mask\": encoded_text[\"attention_mask\"],\n",
    "            \"labels\": label,\n",
    "        }\n",
    "\n",
    "    def get_labels(self):\n",
    "        return self.labels"
   ]
  },
  {
   "cell_type": "code",
   "execution_count": 6,
   "id": "d253921c",
   "metadata": {
    "execution": {
     "iopub.execute_input": "2022-07-07T08:04:57.333672Z",
     "iopub.status.busy": "2022-07-07T08:04:57.332904Z",
     "iopub.status.idle": "2022-07-07T08:04:57.339308Z",
     "shell.execute_reply": "2022-07-07T08:04:57.338880Z",
     "shell.execute_reply.started": "2022-07-07T07:45:17.051120Z"
    },
    "papermill": {
     "duration": 0.037115,
     "end_time": "2022-07-07T08:04:57.339408",
     "exception": false,
     "start_time": "2022-07-07T08:04:57.302293",
     "status": "completed"
    },
    "tags": []
   },
   "outputs": [],
   "source": [
    "def train(train_set, valid_set, epochs=10, warmup_size=0.1, lr=1e-3, batch_size=16):\n",
    "    model = get_model(model_name)\n",
    "    optim = AdamW(model.parameters(), lr=lr)\n",
    "    scheduler = get_scheduler(\n",
    "        optim, warmup_size, round(len(train_set) / batch_size * epochs)\n",
    "    )\n",
    "    training_args = get_training_args(epochs, batch_size)\n",
    "    trainer = Trainer(\n",
    "        model=model,\n",
    "        args=training_args,\n",
    "        train_dataset=train_set,\n",
    "        eval_dataset=valid_set,\n",
    "        optimizers=[optim, scheduler],\n",
    "        compute_metrics=compute_accuracy,\n",
    "    )\n",
    "    trainer.train()\n",
    "    trainer.save_model()\n",
    "    return trainer"
   ]
  },
  {
   "cell_type": "code",
   "execution_count": 7,
   "id": "3e068198",
   "metadata": {
    "execution": {
     "iopub.execute_input": "2022-07-07T08:04:57.400398Z",
     "iopub.status.busy": "2022-07-07T08:04:57.399614Z",
     "iopub.status.idle": "2022-07-07T08:04:57.401521Z",
     "shell.execute_reply": "2022-07-07T08:04:57.401925Z",
     "shell.execute_reply.started": "2022-07-07T07:45:17.066453Z"
    },
    "papermill": {
     "duration": 0.03389,
     "end_time": "2022-07-07T08:04:57.402053",
     "exception": false,
     "start_time": "2022-07-07T08:04:57.368163",
     "status": "completed"
    },
    "tags": []
   },
   "outputs": [],
   "source": [
    "def get_model(pretrained_checkpoint):\n",
    "    model = AutoModelForSequenceClassification.from_pretrained(\n",
    "        pretrained_checkpoint, num_labels=6\n",
    "    )\n",
    "    return model.to(device)"
   ]
  },
  {
   "cell_type": "code",
   "execution_count": 8,
   "id": "fd586528",
   "metadata": {
    "execution": {
     "iopub.execute_input": "2022-07-07T08:04:57.466580Z",
     "iopub.status.busy": "2022-07-07T08:04:57.465750Z",
     "iopub.status.idle": "2022-07-07T08:04:57.467608Z",
     "shell.execute_reply": "2022-07-07T08:04:57.468171Z",
     "shell.execute_reply.started": "2022-07-07T07:45:17.080270Z"
    },
    "papermill": {
     "duration": 0.037643,
     "end_time": "2022-07-07T08:04:57.468297",
     "exception": false,
     "start_time": "2022-07-07T08:04:57.430654",
     "status": "completed"
    },
    "tags": []
   },
   "outputs": [],
   "source": [
    "os.environ[\"WANDB_DISABLED\"] = \"true\"\n",
    "\n",
    "\n",
    "def get_scheduler(optimizer, warmup_size, total_steps):\n",
    "    scheduler = get_cosine_schedule_with_warmup(\n",
    "        optimizer,\n",
    "        num_warmup_steps=round(total_steps * warmup_size),\n",
    "        num_training_steps=total_steps,\n",
    "    )\n",
    "    return scheduler\n",
    "\n",
    "\n",
    "def get_training_args(epochs, batch_size):\n",
    "    return TrainingArguments(\n",
    "        output_dir=\"./b\",\n",
    "        num_train_epochs=epochs,\n",
    "        per_device_train_batch_size=batch_size,\n",
    "        logging_steps=50,\n",
    "        fp16=False,\n",
    "        evaluation_strategy=\"epoch\",\n",
    "        eval_accumulation_steps=1,\n",
    "        report_to=None,\n",
    "        save_total_limit=1,\n",
    "        load_best_model_at_end=True\n",
    "    )\n",
    "\n",
    "\n",
    "def compute_accuracy(pred):\n",
    "    labels = pred.label_ids\n",
    "    preds = pred.predictions.argmax(-1)\n",
    "    acc = accuracy_score(labels, preds)\n",
    "    return {\"accuracy\": acc}\n",
    "\n"
   ]
  },
  {
   "cell_type": "code",
   "execution_count": 9,
   "id": "0dc80017",
   "metadata": {
    "execution": {
     "iopub.execute_input": "2022-07-07T08:04:57.528107Z",
     "iopub.status.busy": "2022-07-07T08:04:57.526653Z",
     "iopub.status.idle": "2022-07-07T08:04:57.530536Z",
     "shell.execute_reply": "2022-07-07T08:04:57.530029Z",
     "shell.execute_reply.started": "2022-07-07T07:45:17.090282Z"
    },
    "papermill": {
     "duration": 0.034719,
     "end_time": "2022-07-07T08:04:57.530660",
     "exception": false,
     "start_time": "2022-07-07T08:04:57.495941",
     "status": "completed"
    },
    "tags": []
   },
   "outputs": [],
   "source": [
    "lr = 2e-5\n",
    "epochs =  7\n",
    "batch_size = 8\n",
    "max_seq_len = 512"
   ]
  },
  {
   "cell_type": "code",
   "execution_count": 10,
   "id": "5161fc86",
   "metadata": {
    "execution": {
     "iopub.execute_input": "2022-07-07T08:04:57.594890Z",
     "iopub.status.busy": "2022-07-07T08:04:57.593929Z",
     "iopub.status.idle": "2022-07-07T08:04:57.596157Z",
     "shell.execute_reply": "2022-07-07T08:04:57.596529Z",
     "shell.execute_reply.started": "2022-07-07T07:45:17.107950Z"
    },
    "papermill": {
     "duration": 0.037163,
     "end_time": "2022-07-07T08:04:57.596663",
     "exception": false,
     "start_time": "2022-07-07T08:04:57.559500",
     "status": "completed"
    },
    "tags": []
   },
   "outputs": [],
   "source": [
    "def split_valid(df, frac=0.2):\n",
    "    \n",
    "    val = pd.DataFrame()\n",
    "    val[\"text\"] = \"\"\n",
    "    val[\"label\"] = -1\n",
    "    \n",
    "    for i in df.label.unique():\n",
    "        val = pd.concat([val, df[df.label == i].sample(frac=frac)])\n",
    "        \n",
    "    return df[~df.index.isin(val.index)].reset_index(drop=True) , val.reset_index(drop=True)"
   ]
  },
  {
   "cell_type": "code",
   "execution_count": 11,
   "id": "8749a2d9",
   "metadata": {
    "execution": {
     "iopub.execute_input": "2022-07-07T08:04:57.657186Z",
     "iopub.status.busy": "2022-07-07T08:04:57.656506Z",
     "iopub.status.idle": "2022-07-07T08:04:57.658996Z",
     "shell.execute_reply": "2022-07-07T08:04:57.658561Z",
     "shell.execute_reply.started": "2022-07-07T07:45:17.116801Z"
    },
    "papermill": {
     "duration": 0.034022,
     "end_time": "2022-07-07T08:04:57.659111",
     "exception": false,
     "start_time": "2022-07-07T08:04:57.625089",
     "status": "completed"
    },
    "tags": []
   },
   "outputs": [],
   "source": [
    "# train_set_df = pd.read_csv(\"../input/newdatasets/mike_20_june_new (1).csv\")\n",
    "# train_set_df"
   ]
  },
  {
   "cell_type": "code",
   "execution_count": 12,
   "id": "1c00ac33",
   "metadata": {
    "execution": {
     "iopub.execute_input": "2022-07-07T08:04:57.719165Z",
     "iopub.status.busy": "2022-07-07T08:04:57.718634Z",
     "iopub.status.idle": "2022-07-07T08:04:57.740293Z",
     "shell.execute_reply": "2022-07-07T08:04:57.739885Z",
     "shell.execute_reply.started": "2022-07-07T07:45:17.126530Z"
    },
    "papermill": {
     "duration": 0.05346,
     "end_time": "2022-07-07T08:04:57.740410",
     "exception": false,
     "start_time": "2022-07-07T08:04:57.686950",
     "status": "completed"
    },
    "tags": []
   },
   "outputs": [],
   "source": [
    "new=pd.read_csv(\"../input/lingua/fr_lingua.csv\")"
   ]
  },
  {
   "cell_type": "code",
   "execution_count": 13,
   "id": "3fe2472d",
   "metadata": {
    "execution": {
     "iopub.execute_input": "2022-07-07T08:04:57.802099Z",
     "iopub.status.busy": "2022-07-07T08:04:57.801430Z",
     "iopub.status.idle": "2022-07-07T08:04:57.803939Z",
     "shell.execute_reply": "2022-07-07T08:04:57.803481Z",
     "shell.execute_reply.started": "2022-07-07T07:45:17.154260Z"
    },
    "papermill": {
     "duration": 0.0347,
     "end_time": "2022-07-07T08:04:57.804047",
     "exception": false,
     "start_time": "2022-07-07T08:04:57.769347",
     "status": "completed"
    },
    "tags": []
   },
   "outputs": [],
   "source": [
    "new.columns=[\"text\",\"label\"]"
   ]
  },
  {
   "cell_type": "code",
   "execution_count": 14,
   "id": "8af60fd1",
   "metadata": {
    "execution": {
     "iopub.execute_input": "2022-07-07T08:04:57.892731Z",
     "iopub.status.busy": "2022-07-07T08:04:57.891577Z",
     "iopub.status.idle": "2022-07-07T08:04:57.930126Z",
     "shell.execute_reply": "2022-07-07T08:04:57.931891Z",
     "shell.execute_reply.started": "2022-07-07T07:45:17.160152Z"
    },
    "papermill": {
     "duration": 0.099675,
     "end_time": "2022-07-07T08:04:57.933530",
     "exception": false,
     "start_time": "2022-07-07T08:04:57.833855",
     "status": "completed"
    },
    "tags": []
   },
   "outputs": [
    {
     "data": {
      "text/plain": [
       "((315, 2),\n",
       "                                                 text label\n",
       " 0  Il était une fois un prince qui voulait épouse...    A2\n",
       " 1  Il fit le tour de la Terre pour en trouver une...    B1)"
      ]
     },
     "execution_count": 14,
     "metadata": {},
     "output_type": "execute_result"
    }
   ],
   "source": [
    "french=pd.read_csv(\"../input/frenchcefr/french dataset.csv\")\n",
    "french=french[[\"text\",\"label\"]]\n",
    "french.shape,french.head(2)\n"
   ]
  },
  {
   "cell_type": "code",
   "execution_count": 15,
   "id": "b61ebb67",
   "metadata": {
    "execution": {
     "iopub.execute_input": "2022-07-07T08:04:58.039900Z",
     "iopub.status.busy": "2022-07-07T08:04:58.039153Z",
     "iopub.status.idle": "2022-07-07T08:04:58.042885Z",
     "shell.execute_reply": "2022-07-07T08:04:58.043508Z",
     "shell.execute_reply.started": "2022-07-07T07:45:17.195124Z"
    },
    "papermill": {
     "duration": 0.061949,
     "end_time": "2022-07-07T08:04:58.043694",
     "exception": false,
     "start_time": "2022-07-07T08:04:57.981745",
     "status": "completed"
    },
    "tags": []
   },
   "outputs": [],
   "source": [
    "# train_set_df=pd.concat([french, mike_20_june_new,new], ignore_index=True)"
   ]
  },
  {
   "cell_type": "code",
   "execution_count": 16,
   "id": "6caf7189",
   "metadata": {
    "execution": {
     "iopub.execute_input": "2022-07-07T08:04:58.144092Z",
     "iopub.status.busy": "2022-07-07T08:04:58.143310Z",
     "iopub.status.idle": "2022-07-07T08:04:58.438501Z",
     "shell.execute_reply": "2022-07-07T08:04:58.438021Z",
     "shell.execute_reply.started": "2022-07-07T07:45:17.200988Z"
    },
    "papermill": {
     "duration": 0.348509,
     "end_time": "2022-07-07T08:04:58.438636",
     "exception": false,
     "start_time": "2022-07-07T08:04:58.090127",
     "status": "completed"
    },
    "tags": []
   },
   "outputs": [],
   "source": [
    "from sklearn import preprocessing\n",
    "le = preprocessing.LabelEncoder()\n",
    "\n",
    "train_set_df = pd.read_csv(\"../input/eng-data/translated.csv\")\n",
    "train_set_df = train_set_df[train_set_df.label != \"XX\"]\n",
    "train_set_df.columns=[\"txt\",\"label\",\"text\"]\n",
    "train_set_df = train_set_df[[\"text\", \"label\"]]\n",
    "\n",
    "train_set_df.text = train_set_df.text.apply(lambda x: x.replace(\"\\r\", \"\").replace(\"\\n\", \" \"))\n",
    "\n",
    "extra_df = pd.read_csv(\"../input/frenchcefr/french_mike_june.csv\")\n",
    "extra_df.columns = [\"text\", \"label\", \"label_\"]\n",
    "extra_df = extra_df[[\"text\", \"label\"]]\n",
    "extra_df.text = extra_df.text.astype(str)\n",
    "#train_set_df = pd.concat([train_set_df, extra_df]).reset_index(drop=True)\n",
    "\n",
    "train_set_df, valid_set_df = split_valid(train_set_df)"
   ]
  },
  {
   "cell_type": "code",
   "execution_count": 17,
   "id": "ee8a22c0",
   "metadata": {
    "execution": {
     "iopub.execute_input": "2022-07-07T08:04:58.500978Z",
     "iopub.status.busy": "2022-07-07T08:04:58.500434Z",
     "iopub.status.idle": "2022-07-07T08:04:58.505565Z",
     "shell.execute_reply": "2022-07-07T08:04:58.505159Z",
     "shell.execute_reply.started": "2022-07-07T07:45:17.431792Z"
    },
    "papermill": {
     "duration": 0.038664,
     "end_time": "2022-07-07T08:04:58.505676",
     "exception": false,
     "start_time": "2022-07-07T08:04:58.467012",
     "status": "completed"
    },
    "tags": []
   },
   "outputs": [
    {
     "data": {
      "text/plain": [
       "array(['B2', 'A2', 'C1', 'B1', 'A1', 'C2'], dtype=object)"
      ]
     },
     "execution_count": 17,
     "metadata": {},
     "output_type": "execute_result"
    }
   ],
   "source": [
    "train_set_df.label.unique()"
   ]
  },
  {
   "cell_type": "code",
   "execution_count": 18,
   "id": "5739640f",
   "metadata": {
    "execution": {
     "iopub.execute_input": "2022-07-07T08:04:58.569370Z",
     "iopub.status.busy": "2022-07-07T08:04:58.568576Z",
     "iopub.status.idle": "2022-07-07T08:04:58.570316Z",
     "shell.execute_reply": "2022-07-07T08:04:58.570724Z",
     "shell.execute_reply.started": "2022-07-07T07:45:17.440907Z"
    },
    "papermill": {
     "duration": 0.035864,
     "end_time": "2022-07-07T08:04:58.570868",
     "exception": false,
     "start_time": "2022-07-07T08:04:58.535004",
     "status": "completed"
    },
    "tags": []
   },
   "outputs": [],
   "source": [
    "train_set_df.label = le.fit_transform(train_set_df.label)\n",
    "valid_set_df.label = le.transform(valid_set_df.label)"
   ]
  },
  {
   "cell_type": "code",
   "execution_count": 19,
   "id": "99d0396c",
   "metadata": {
    "execution": {
     "iopub.execute_input": "2022-07-07T08:04:58.633559Z",
     "iopub.status.busy": "2022-07-07T08:04:58.633059Z",
     "iopub.status.idle": "2022-07-07T08:04:58.636247Z",
     "shell.execute_reply": "2022-07-07T08:04:58.636607Z",
     "shell.execute_reply.started": "2022-07-07T07:45:17.450456Z"
    },
    "papermill": {
     "duration": 0.037169,
     "end_time": "2022-07-07T08:04:58.636724",
     "exception": false,
     "start_time": "2022-07-07T08:04:58.599555",
     "status": "completed"
    },
    "tags": []
   },
   "outputs": [
    {
     "data": {
      "text/plain": [
       "6"
      ]
     },
     "execution_count": 19,
     "metadata": {},
     "output_type": "execute_result"
    }
   ],
   "source": [
    "train_set_df.label.nunique()"
   ]
  },
  {
   "cell_type": "code",
   "execution_count": 20,
   "id": "80f67a41",
   "metadata": {
    "execution": {
     "iopub.execute_input": "2022-07-07T08:04:58.701807Z",
     "iopub.status.busy": "2022-07-07T08:04:58.701173Z",
     "iopub.status.idle": "2022-07-07T08:04:58.704082Z",
     "shell.execute_reply": "2022-07-07T08:04:58.704483Z",
     "shell.execute_reply.started": "2022-07-07T07:45:17.463607Z"
    },
    "papermill": {
     "duration": 0.038416,
     "end_time": "2022-07-07T08:04:58.704597",
     "exception": false,
     "start_time": "2022-07-07T08:04:58.666181",
     "status": "completed"
    },
    "tags": []
   },
   "outputs": [
    {
     "data": {
      "text/plain": [
       "0    230\n",
       "3    229\n",
       "1    218\n",
       "4    193\n",
       "2    164\n",
       "5    162\n",
       "Name: label, dtype: int64"
      ]
     },
     "execution_count": 20,
     "metadata": {},
     "output_type": "execute_result"
    }
   ],
   "source": [
    "train_set_df.label.value_counts()"
   ]
  },
  {
   "cell_type": "code",
   "execution_count": 21,
   "id": "c864f361",
   "metadata": {
    "execution": {
     "iopub.execute_input": "2022-07-07T08:04:58.768548Z",
     "iopub.status.busy": "2022-07-07T08:04:58.767710Z",
     "iopub.status.idle": "2022-07-07T08:04:58.770776Z",
     "shell.execute_reply": "2022-07-07T08:04:58.771181Z",
     "shell.execute_reply.started": "2022-07-07T07:45:17.474455Z"
    },
    "papermill": {
     "duration": 0.037964,
     "end_time": "2022-07-07T08:04:58.771296",
     "exception": false,
     "start_time": "2022-07-07T08:04:58.733332",
     "status": "completed"
    },
    "tags": []
   },
   "outputs": [
    {
     "data": {
      "text/plain": [
       "6"
      ]
     },
     "execution_count": 21,
     "metadata": {},
     "output_type": "execute_result"
    }
   ],
   "source": [
    "valid_set_df.label.nunique()"
   ]
  },
  {
   "cell_type": "code",
   "execution_count": 22,
   "id": "5879f375",
   "metadata": {
    "execution": {
     "iopub.execute_input": "2022-07-07T08:04:58.834074Z",
     "iopub.status.busy": "2022-07-07T08:04:58.833260Z",
     "iopub.status.idle": "2022-07-07T08:04:58.835814Z",
     "shell.execute_reply": "2022-07-07T08:04:58.835395Z",
     "shell.execute_reply.started": "2022-07-07T07:45:17.486709Z"
    },
    "papermill": {
     "duration": 0.035522,
     "end_time": "2022-07-07T08:04:58.835932",
     "exception": false,
     "start_time": "2022-07-07T08:04:58.800410",
     "status": "completed"
    },
    "tags": []
   },
   "outputs": [],
   "source": [
    "# train_set_df = train_set_df.sample(frac=1)"
   ]
  },
  {
   "cell_type": "code",
   "execution_count": 23,
   "id": "bac7213a",
   "metadata": {
    "execution": {
     "iopub.execute_input": "2022-07-07T08:04:58.900471Z",
     "iopub.status.busy": "2022-07-07T08:04:58.899659Z",
     "iopub.status.idle": "2022-07-07T08:04:58.901651Z",
     "shell.execute_reply": "2022-07-07T08:04:58.902037Z",
     "shell.execute_reply.started": "2022-07-07T07:45:17.493298Z"
    },
    "papermill": {
     "duration": 0.036927,
     "end_time": "2022-07-07T08:04:58.902157",
     "exception": false,
     "start_time": "2022-07-07T08:04:58.865230",
     "status": "completed"
    },
    "tags": []
   },
   "outputs": [],
   "source": [
    "from tqdm import tqdm \n",
    "\n",
    "def predict(model, text):\n",
    "    \n",
    "    preds = []\n",
    "    \n",
    "    for i in tqdm(range(len(text))):\n",
    "        tokenized = tokenizer(text[i:i+1], return_tensors=\"pt\", truncation=True, max_length=512).to(\"cuda\")\n",
    "        pred = model(**tokenized)\n",
    "        preds.append(pred.logits.argmax(-1).item())\n",
    "\n",
    "    return preds"
   ]
  },
  {
   "cell_type": "code",
   "execution_count": 24,
   "id": "e176f39f",
   "metadata": {
    "execution": {
     "iopub.execute_input": "2022-07-07T08:04:58.966927Z",
     "iopub.status.busy": "2022-07-07T08:04:58.966144Z",
     "iopub.status.idle": "2022-07-07T08:16:22.253379Z",
     "shell.execute_reply": "2022-07-07T08:16:22.252440Z",
     "shell.execute_reply.started": "2022-07-07T07:45:17.502947Z"
    },
    "papermill": {
     "duration": 683.322206,
     "end_time": "2022-07-07T08:16:22.253535",
     "exception": false,
     "start_time": "2022-07-07T08:04:58.931329",
     "status": "completed"
    },
    "tags": []
   },
   "outputs": [
    {
     "name": "stdout",
     "output_type": "stream",
     "text": [
      "{}\n",
      "{}\n"
     ]
    },
    {
     "data": {
      "application/vnd.jupyter.widget-view+json": {
       "model_id": "26392c7febfd46f4b2a9d1ba31d23370",
       "version_major": 2,
       "version_minor": 0
      },
      "text/plain": [
       "Downloading:   0%|          | 0.00/445M [00:00<?, ?B/s]"
      ]
     },
     "metadata": {},
     "output_type": "display_data"
    },
    {
     "name": "stderr",
     "output_type": "stream",
     "text": [
      "Some weights of the model checkpoint at dbmdz/bert-base-french-europeana-cased were not used when initializing BertForSequenceClassification: ['cls.predictions.bias', 'cls.predictions.transform.dense.weight', 'cls.predictions.transform.dense.bias', 'cls.predictions.transform.LayerNorm.weight', 'cls.predictions.transform.LayerNorm.bias', 'cls.predictions.decoder.weight', 'cls.predictions.decoder.bias', 'cls.seq_relationship.weight', 'cls.seq_relationship.bias']\n",
      "- This IS expected if you are initializing BertForSequenceClassification from the checkpoint of a model trained on another task or with another architecture (e.g. initializing a BertForSequenceClassification model from a BertForPreTraining model).\n",
      "- This IS NOT expected if you are initializing BertForSequenceClassification from the checkpoint of a model that you expect to be exactly identical (initializing a BertForSequenceClassification model from a BertForSequenceClassification model).\n",
      "Some weights of BertForSequenceClassification were not initialized from the model checkpoint at dbmdz/bert-base-french-europeana-cased and are newly initialized: ['classifier.weight', 'classifier.bias']\n",
      "You should probably TRAIN this model on a down-stream task to be able to use it for predictions and inference.\n",
      "Using the `WAND_DISABLED` environment variable is deprecated and will be removed in v5. Use the --report_to flag to control the integrations used for logging result (for instance --report_to none).\n"
     ]
    },
    {
     "data": {
      "text/html": [
       "\n",
       "    <div>\n",
       "        <style>\n",
       "            /* Turns off some styling */\n",
       "            progress {\n",
       "                /* gets rid of default border in Firefox and Opera. */\n",
       "                border: none;\n",
       "                /* Needs to be in here for Safari polyfill so background images work as expected. */\n",
       "                background-size: auto;\n",
       "            }\n",
       "        </style>\n",
       "      \n",
       "      <progress value='1050' max='1050' style='width:300px; height:20px; vertical-align: middle;'></progress>\n",
       "      [1050/1050 11:00, Epoch 7/7]\n",
       "    </div>\n",
       "    <table border=\"1\" class=\"dataframe\">\n",
       "  <thead>\n",
       "    <tr style=\"text-align: left;\">\n",
       "      <th>Epoch</th>\n",
       "      <th>Training Loss</th>\n",
       "      <th>Validation Loss</th>\n",
       "      <th>Accuracy</th>\n",
       "      <th>Runtime</th>\n",
       "      <th>Samples Per Second</th>\n",
       "    </tr>\n",
       "  </thead>\n",
       "  <tbody>\n",
       "    <tr>\n",
       "      <td>1</td>\n",
       "      <td>1.246900</td>\n",
       "      <td>1.128191</td>\n",
       "      <td>0.583893</td>\n",
       "      <td>6.584500</td>\n",
       "      <td>45.258000</td>\n",
       "    </tr>\n",
       "    <tr>\n",
       "      <td>2</td>\n",
       "      <td>0.866600</td>\n",
       "      <td>0.871783</td>\n",
       "      <td>0.614094</td>\n",
       "      <td>6.501600</td>\n",
       "      <td>45.835000</td>\n",
       "    </tr>\n",
       "    <tr>\n",
       "      <td>3</td>\n",
       "      <td>0.683800</td>\n",
       "      <td>0.839449</td>\n",
       "      <td>0.630872</td>\n",
       "      <td>6.580400</td>\n",
       "      <td>45.286000</td>\n",
       "    </tr>\n",
       "    <tr>\n",
       "      <td>4</td>\n",
       "      <td>0.599500</td>\n",
       "      <td>0.902905</td>\n",
       "      <td>0.640940</td>\n",
       "      <td>6.501900</td>\n",
       "      <td>45.833000</td>\n",
       "    </tr>\n",
       "    <tr>\n",
       "      <td>5</td>\n",
       "      <td>0.326600</td>\n",
       "      <td>0.974299</td>\n",
       "      <td>0.647651</td>\n",
       "      <td>6.627600</td>\n",
       "      <td>44.964000</td>\n",
       "    </tr>\n",
       "    <tr>\n",
       "      <td>6</td>\n",
       "      <td>0.196700</td>\n",
       "      <td>1.051897</td>\n",
       "      <td>0.634228</td>\n",
       "      <td>6.612400</td>\n",
       "      <td>45.067000</td>\n",
       "    </tr>\n",
       "    <tr>\n",
       "      <td>7</td>\n",
       "      <td>0.152000</td>\n",
       "      <td>1.067637</td>\n",
       "      <td>0.630872</td>\n",
       "      <td>6.611900</td>\n",
       "      <td>45.070000</td>\n",
       "    </tr>\n",
       "  </tbody>\n",
       "</table><p>"
      ],
      "text/plain": [
       "<IPython.core.display.HTML object>"
      ]
     },
     "metadata": {},
     "output_type": "display_data"
    }
   ],
   "source": [
    "train_set = CEFRDataset(train_set_df[\"text\"], train_set_df[\"label\"])\n",
    "valid_set = CEFRDataset(valid_set_df[\"text\"], valid_set_df[\"label\"])\n",
    "\n",
    "\n",
    "trainer_second = train(train_set, valid_set, epochs=epochs, warmup_size=0.2, lr=lr, batch_size=batch_size)\n",
    "model = trainer_second.model"
   ]
  },
  {
   "cell_type": "code",
   "execution_count": 25,
   "id": "841be05a",
   "metadata": {
    "execution": {
     "iopub.execute_input": "2022-07-07T08:16:22.324333Z",
     "iopub.status.busy": "2022-07-07T08:16:22.323742Z",
     "iopub.status.idle": "2022-07-07T08:16:28.067555Z",
     "shell.execute_reply": "2022-07-07T08:16:28.068009Z",
     "shell.execute_reply.started": "2022-07-07T07:56:54.364677Z"
    },
    "papermill": {
     "duration": 5.781051,
     "end_time": "2022-07-07T08:16:28.068168",
     "exception": false,
     "start_time": "2022-07-07T08:16:22.287117",
     "status": "completed"
    },
    "tags": []
   },
   "outputs": [
    {
     "name": "stderr",
     "output_type": "stream",
     "text": [
      "100%|██████████| 298/298 [00:05<00:00, 51.98it/s]\n"
     ]
    }
   ],
   "source": [
    "valid_set_df[\"preds\"] = train_set.encoder.inverse_transform(predict(model, valid_set_df.text.tolist()))\n",
    "valid_set_df.columns = [\"text\", \"cefr\", \"preds\",] "
   ]
  },
  {
   "cell_type": "code",
   "execution_count": 26,
   "id": "c94562fd",
   "metadata": {
    "execution": {
     "iopub.execute_input": "2022-07-07T08:16:28.162159Z",
     "iopub.status.busy": "2022-07-07T08:16:28.161606Z",
     "iopub.status.idle": "2022-07-07T08:16:29.437005Z",
     "shell.execute_reply": "2022-07-07T08:16:29.437540Z",
     "shell.execute_reply.started": "2022-07-07T07:57:00.226639Z"
    },
    "papermill": {
     "duration": 1.323995,
     "end_time": "2022-07-07T08:16:29.437732",
     "exception": false,
     "start_time": "2022-07-07T08:16:28.113737",
     "status": "completed"
    },
    "tags": []
   },
   "outputs": [
    {
     "name": "stderr",
     "output_type": "stream",
     "text": [
      "100%|██████████| 111/111 [00:01<00:00, 88.24it/s]\n"
     ]
    }
   ],
   "source": [
    "lingua = pd.read_csv(\"../input/lingua/fr_lingua.csv\")\n",
    "lingua[\"preds\"] = train_set.encoder.inverse_transform(predict(model, lingua.text.tolist()))"
   ]
  },
  {
   "cell_type": "code",
   "execution_count": 27,
   "id": "76841cde",
   "metadata": {
    "execution": {
     "iopub.execute_input": "2022-07-07T08:16:29.544028Z",
     "iopub.status.busy": "2022-07-07T08:16:29.543359Z",
     "iopub.status.idle": "2022-07-07T08:16:29.546190Z",
     "shell.execute_reply": "2022-07-07T08:16:29.546605Z",
     "shell.execute_reply.started": "2022-07-07T07:57:01.695594Z"
    },
    "papermill": {
     "duration": 0.059005,
     "end_time": "2022-07-07T08:16:29.546740",
     "exception": false,
     "start_time": "2022-07-07T08:16:29.487735",
     "status": "completed"
    },
    "tags": []
   },
   "outputs": [
    {
     "data": {
      "text/plain": [
       "B1    60\n",
       "A2    26\n",
       "A1    13\n",
       "B2    12\n",
       "Name: cefr, dtype: int64"
      ]
     },
     "execution_count": 27,
     "metadata": {},
     "output_type": "execute_result"
    }
   ],
   "source": [
    "lingua.cefr.value_counts()"
   ]
  },
  {
   "cell_type": "code",
   "execution_count": 28,
   "id": "07156067",
   "metadata": {
    "execution": {
     "iopub.execute_input": "2022-07-07T08:16:29.650024Z",
     "iopub.status.busy": "2022-07-07T08:16:29.649329Z",
     "iopub.status.idle": "2022-07-07T08:16:29.651971Z",
     "shell.execute_reply": "2022-07-07T08:16:29.652380Z",
     "shell.execute_reply.started": "2022-07-07T07:57:01.715600Z"
    },
    "papermill": {
     "duration": 0.056269,
     "end_time": "2022-07-07T08:16:29.652499",
     "exception": false,
     "start_time": "2022-07-07T08:16:29.596230",
     "status": "completed"
    },
    "tags": []
   },
   "outputs": [
    {
     "data": {
      "text/plain": [
       "array([0, 1, 2, 5, 3])"
      ]
     },
     "execution_count": 28,
     "metadata": {},
     "output_type": "execute_result"
    }
   ],
   "source": [
    "lingua.preds.unique()"
   ]
  },
  {
   "cell_type": "code",
   "execution_count": 29,
   "id": "90291468",
   "metadata": {
    "execution": {
     "iopub.execute_input": "2022-07-07T08:16:29.754668Z",
     "iopub.status.busy": "2022-07-07T08:16:29.753875Z",
     "iopub.status.idle": "2022-07-07T08:16:29.755899Z",
     "shell.execute_reply": "2022-07-07T08:16:29.756306Z",
     "shell.execute_reply.started": "2022-07-07T07:57:02.293280Z"
    },
    "papermill": {
     "duration": 0.055596,
     "end_time": "2022-07-07T08:16:29.756431",
     "exception": false,
     "start_time": "2022-07-07T08:16:29.700835",
     "status": "completed"
    },
    "tags": []
   },
   "outputs": [],
   "source": [
    "def compute_average_distance(df, col_name=\"cefr\") :\n",
    "    \n",
    "    labels = [\"A1\", \"A2\", \"B1\", \"B2\", \"C1\", \"C2\"]\n",
    "    return (df[col_name].apply(lambda x: labels.index(x)) - df.preds.apply(lambda x: labels.index(x))).abs().mean()\n"
   ]
  },
  {
   "cell_type": "code",
   "execution_count": 30,
   "id": "d862886c",
   "metadata": {
    "execution": {
     "iopub.execute_input": "2022-07-07T08:16:29.862009Z",
     "iopub.status.busy": "2022-07-07T08:16:29.861344Z",
     "iopub.status.idle": "2022-07-07T08:16:29.863790Z",
     "shell.execute_reply": "2022-07-07T08:16:29.864277Z",
     "shell.execute_reply.started": "2022-07-07T07:57:02.302078Z"
    },
    "papermill": {
     "duration": 0.059742,
     "end_time": "2022-07-07T08:16:29.864425",
     "exception": false,
     "start_time": "2022-07-07T08:16:29.804683",
     "status": "completed"
    },
    "tags": []
   },
   "outputs": [
    {
     "data": {
      "text/plain": [
       "1    55\n",
       "2    35\n",
       "3     9\n",
       "0     8\n",
       "5     4\n",
       "Name: preds, dtype: int64"
      ]
     },
     "execution_count": 30,
     "metadata": {},
     "output_type": "execute_result"
    }
   ],
   "source": [
    "lingua.preds.value_counts()"
   ]
  },
  {
   "cell_type": "code",
   "execution_count": 31,
   "id": "ab78bafb",
   "metadata": {
    "execution": {
     "iopub.execute_input": "2022-07-07T08:16:29.968927Z",
     "iopub.status.busy": "2022-07-07T08:16:29.968182Z",
     "iopub.status.idle": "2022-07-07T08:16:29.970255Z",
     "shell.execute_reply": "2022-07-07T08:16:29.970636Z",
     "shell.execute_reply.started": "2022-07-07T07:57:02.319082Z"
    },
    "papermill": {
     "duration": 0.056665,
     "end_time": "2022-07-07T08:16:29.970777",
     "exception": false,
     "start_time": "2022-07-07T08:16:29.914112",
     "status": "completed"
    },
    "tags": []
   },
   "outputs": [],
   "source": [
    "lingua[\"preds\"] = le.inverse_transform(lingua.preds)"
   ]
  },
  {
   "cell_type": "code",
   "execution_count": 32,
   "id": "9b849e91",
   "metadata": {
    "execution": {
     "iopub.execute_input": "2022-07-07T08:16:30.074895Z",
     "iopub.status.busy": "2022-07-07T08:16:30.074220Z",
     "iopub.status.idle": "2022-07-07T08:16:30.076867Z",
     "shell.execute_reply": "2022-07-07T08:16:30.077277Z",
     "shell.execute_reply.started": "2022-07-07T07:57:02.329894Z"
    },
    "papermill": {
     "duration": 0.057503,
     "end_time": "2022-07-07T08:16:30.077406",
     "exception": false,
     "start_time": "2022-07-07T08:16:30.019903",
     "status": "completed"
    },
    "tags": []
   },
   "outputs": [
    {
     "data": {
      "text/plain": [
       "A2    55\n",
       "B1    35\n",
       "B2     9\n",
       "A1     8\n",
       "C2     4\n",
       "Name: preds, dtype: int64"
      ]
     },
     "execution_count": 32,
     "metadata": {},
     "output_type": "execute_result"
    }
   ],
   "source": [
    "lingua.preds.value_counts()"
   ]
  },
  {
   "cell_type": "code",
   "execution_count": 33,
   "id": "b02f8c22",
   "metadata": {
    "execution": {
     "iopub.execute_input": "2022-07-07T08:16:30.180461Z",
     "iopub.status.busy": "2022-07-07T08:16:30.179668Z",
     "iopub.status.idle": "2022-07-07T08:16:30.189135Z",
     "shell.execute_reply": "2022-07-07T08:16:30.188549Z",
     "shell.execute_reply.started": "2022-07-07T07:57:02.343426Z"
    },
    "papermill": {
     "duration": 0.061812,
     "end_time": "2022-07-07T08:16:30.189281",
     "exception": false,
     "start_time": "2022-07-07T08:16:30.127469",
     "status": "completed"
    },
    "tags": []
   },
   "outputs": [
    {
     "name": "stdout",
     "output_type": "stream",
     "text": [
      "Distance: \n",
      "0.6666666666666666\n",
      "Lingua accuracy: 0.46846846846846846\n"
     ]
    }
   ],
   "source": [
    "print(\"Distance: \")\n",
    "print(compute_average_distance(lingua, \"cefr\"))\n",
    "\n",
    "print(f\"Lingua accuracy: {(lingua['preds'] == lingua['cefr']).mean()}\")"
   ]
  },
  {
   "cell_type": "markdown",
   "id": "ef7ce1c0",
   "metadata": {
    "papermill": {
     "duration": 0.049725,
     "end_time": "2022-07-07T08:16:30.289649",
     "exception": false,
     "start_time": "2022-07-07T08:16:30.239924",
     "status": "completed"
    },
    "tags": []
   },
   "source": [
    "****"
   ]
  },
  {
   "cell_type": "markdown",
   "id": "53169dc6",
   "metadata": {
    "papermill": {
     "duration": 0.04926,
     "end_time": "2022-07-07T08:16:30.389588",
     "exception": false,
     "start_time": "2022-07-07T08:16:30.340328",
     "status": "completed"
    },
    "tags": []
   },
   "source": [
    "****"
   ]
  },
  {
   "cell_type": "code",
   "execution_count": 34,
   "id": "8c984178",
   "metadata": {
    "execution": {
     "iopub.execute_input": "2022-07-07T08:16:30.533607Z",
     "iopub.status.busy": "2022-07-07T08:16:30.532722Z",
     "iopub.status.idle": "2022-07-07T08:16:30.536888Z",
     "shell.execute_reply": "2022-07-07T08:16:30.536425Z",
     "shell.execute_reply.started": "2022-07-07T07:57:02.354219Z"
    },
    "papermill": {
     "duration": 0.097231,
     "end_time": "2022-07-07T08:16:30.537016",
     "exception": false,
     "start_time": "2022-07-07T08:16:30.439785",
     "status": "completed"
    },
    "tags": []
   },
   "outputs": [
    {
     "data": {
      "text/plain": [
       "A2    55\n",
       "B1    35\n",
       "B2    13\n",
       "A1     8\n",
       "Name: Predss, dtype: int64"
      ]
     },
     "execution_count": 34,
     "metadata": {},
     "output_type": "execute_result"
    }
   ],
   "source": [
    "for i in range(lingua.shape[0]):\n",
    "    if (lingua.loc[i,\"preds\"]==\"C1\") | (lingua.loc[i,\"preds\"]==\"C2\") :\n",
    "        lingua.loc[i,\"Predss\"]=\"B2\"\n",
    "    else :\n",
    "        lingua.loc[i,\"Predss\"]= lingua.loc[i,\"preds\"]\n",
    "lingua[\"Predss\"].value_counts()"
   ]
  },
  {
   "cell_type": "code",
   "execution_count": 35,
   "id": "c4a82c75",
   "metadata": {
    "execution": {
     "iopub.execute_input": "2022-07-07T08:16:30.643612Z",
     "iopub.status.busy": "2022-07-07T08:16:30.640735Z",
     "iopub.status.idle": "2022-07-07T08:16:30.646802Z",
     "shell.execute_reply": "2022-07-07T08:16:30.647193Z",
     "shell.execute_reply.started": "2022-07-07T07:57:02.403522Z"
    },
    "papermill": {
     "duration": 0.059777,
     "end_time": "2022-07-07T08:16:30.647318",
     "exception": false,
     "start_time": "2022-07-07T08:16:30.587541",
     "status": "completed"
    },
    "tags": []
   },
   "outputs": [
    {
     "name": "stdout",
     "output_type": "stream",
     "text": [
      "Distance: \n",
      "0.6666666666666666\n",
      "Lingua accuracy: 0.4774774774774775\n"
     ]
    }
   ],
   "source": [
    "print(\"Distance: \")\n",
    "print(compute_average_distance(lingua, \"cefr\"))\n",
    "\n",
    "print(f\"Lingua accuracy: {(lingua['Predss'] == lingua['cefr']).mean()}\")"
   ]
  },
  {
   "cell_type": "markdown",
   "id": "b53e4670",
   "metadata": {
    "papermill": {
     "duration": 0.050459,
     "end_time": "2022-07-07T08:16:30.747583",
     "exception": false,
     "start_time": "2022-07-07T08:16:30.697124",
     "status": "completed"
    },
    "tags": []
   },
   "source": [
    "****"
   ]
  },
  {
   "cell_type": "code",
   "execution_count": null,
   "id": "4d0a0ba9",
   "metadata": {
    "papermill": {
     "duration": 0.070057,
     "end_time": "2022-07-07T08:16:30.868239",
     "exception": false,
     "start_time": "2022-07-07T08:16:30.798182",
     "status": "completed"
    },
    "tags": []
   },
   "outputs": [],
   "source": []
  },
  {
   "cell_type": "code",
   "execution_count": null,
   "id": "f161e68f",
   "metadata": {
    "papermill": {
     "duration": 0.08662,
     "end_time": "2022-07-07T08:16:31.055517",
     "exception": false,
     "start_time": "2022-07-07T08:16:30.968897",
     "status": "completed"
    },
    "tags": []
   },
   "outputs": [],
   "source": []
  },
  {
   "cell_type": "code",
   "execution_count": null,
   "id": "76136fb6",
   "metadata": {
    "papermill": {
     "duration": 0.081225,
     "end_time": "2022-07-07T08:16:31.220416",
     "exception": false,
     "start_time": "2022-07-07T08:16:31.139191",
     "status": "completed"
    },
    "tags": []
   },
   "outputs": [],
   "source": []
  },
  {
   "cell_type": "code",
   "execution_count": null,
   "id": "2683e2b9",
   "metadata": {
    "papermill": {
     "duration": 0.080727,
     "end_time": "2022-07-07T08:16:31.383173",
     "exception": false,
     "start_time": "2022-07-07T08:16:31.302446",
     "status": "completed"
    },
    "tags": []
   },
   "outputs": [],
   "source": []
  }
 ],
 "metadata": {
  "kernelspec": {
   "display_name": "Python 3",
   "language": "python",
   "name": "python3"
  },
  "language_info": {
   "codemirror_mode": {
    "name": "ipython",
    "version": 3
   },
   "file_extension": ".py",
   "mimetype": "text/x-python",
   "name": "python",
   "nbconvert_exporter": "python",
   "pygments_lexer": "ipython3",
   "version": "3.7.10"
  },
  "papermill": {
   "default_parameters": {},
   "duration": 718.697053,
   "end_time": "2022-07-07T08:16:35.070706",
   "environment_variables": {},
   "exception": null,
   "input_path": "__notebook__.ipynb",
   "output_path": "__notebook__.ipynb",
   "parameters": {},
   "start_time": "2022-07-07T08:04:36.373653",
   "version": "2.3.3"
  },
  "widgets": {
   "application/vnd.jupyter.widget-state+json": {
    "state": {
     "00cf05c3150948f4afec79cc303c080b": {
      "model_module": "@jupyter-widgets/controls",
      "model_module_version": "1.5.0",
      "model_name": "HBoxModel",
      "state": {
       "_dom_classes": [],
       "_model_module": "@jupyter-widgets/controls",
       "_model_module_version": "1.5.0",
       "_model_name": "HBoxModel",
       "_view_count": null,
       "_view_module": "@jupyter-widgets/controls",
       "_view_module_version": "1.5.0",
       "_view_name": "HBoxView",
       "box_style": "",
       "children": [
        "IPY_MODEL_ce17cf4cf81d4a80b9c462812d470454",
        "IPY_MODEL_9f099390d4a740968025ee9bf75c0e11",
        "IPY_MODEL_75d4cf3658ad47cb9c2471c6ce819b2a"
       ],
       "layout": "IPY_MODEL_5db5d30d8c6d46f197d93e2069f2596c"
      }
     },
     "052da700d951400dac965f31f721bc17": {
      "model_module": "@jupyter-widgets/controls",
      "model_module_version": "1.5.0",
      "model_name": "ProgressStyleModel",
      "state": {
       "_model_module": "@jupyter-widgets/controls",
       "_model_module_version": "1.5.0",
       "_model_name": "ProgressStyleModel",
       "_view_count": null,
       "_view_module": "@jupyter-widgets/base",
       "_view_module_version": "1.2.0",
       "_view_name": "StyleView",
       "bar_color": null,
       "description_width": ""
      }
     },
     "1c181922db1145648cc598d304eea54d": {
      "model_module": "@jupyter-widgets/base",
      "model_module_version": "1.2.0",
      "model_name": "LayoutModel",
      "state": {
       "_model_module": "@jupyter-widgets/base",
       "_model_module_version": "1.2.0",
       "_model_name": "LayoutModel",
       "_view_count": null,
       "_view_module": "@jupyter-widgets/base",
       "_view_module_version": "1.2.0",
       "_view_name": "LayoutView",
       "align_content": null,
       "align_items": null,
       "align_self": null,
       "border": null,
       "bottom": null,
       "display": null,
       "flex": null,
       "flex_flow": null,
       "grid_area": null,
       "grid_auto_columns": null,
       "grid_auto_flow": null,
       "grid_auto_rows": null,
       "grid_column": null,
       "grid_gap": null,
       "grid_row": null,
       "grid_template_areas": null,
       "grid_template_columns": null,
       "grid_template_rows": null,
       "height": null,
       "justify_content": null,
       "justify_items": null,
       "left": null,
       "margin": null,
       "max_height": null,
       "max_width": null,
       "min_height": null,
       "min_width": null,
       "object_fit": null,
       "object_position": null,
       "order": null,
       "overflow": null,
       "overflow_x": null,
       "overflow_y": null,
       "padding": null,
       "right": null,
       "top": null,
       "visibility": null,
       "width": null
      }
     },
     "26392c7febfd46f4b2a9d1ba31d23370": {
      "model_module": "@jupyter-widgets/controls",
      "model_module_version": "1.5.0",
      "model_name": "HBoxModel",
      "state": {
       "_dom_classes": [],
       "_model_module": "@jupyter-widgets/controls",
       "_model_module_version": "1.5.0",
       "_model_name": "HBoxModel",
       "_view_count": null,
       "_view_module": "@jupyter-widgets/controls",
       "_view_module_version": "1.5.0",
       "_view_name": "HBoxView",
       "box_style": "",
       "children": [
        "IPY_MODEL_4b74d8ce542d49bfac0ef97da481fbee",
        "IPY_MODEL_7710527719854a8c8a56e65281a21460",
        "IPY_MODEL_4b8ed25eb5604adcadad777b875e3210"
       ],
       "layout": "IPY_MODEL_39ac03a9a006474e98157126c98bf2a4"
      }
     },
     "28a1a4bf23c34d9788467b177f3e4080": {
      "model_module": "@jupyter-widgets/controls",
      "model_module_version": "1.5.0",
      "model_name": "ProgressStyleModel",
      "state": {
       "_model_module": "@jupyter-widgets/controls",
       "_model_module_version": "1.5.0",
       "_model_name": "ProgressStyleModel",
       "_view_count": null,
       "_view_module": "@jupyter-widgets/base",
       "_view_module_version": "1.2.0",
       "_view_name": "StyleView",
       "bar_color": null,
       "description_width": ""
      }
     },
     "2e262ae9c04047519202bb64161a3c4d": {
      "model_module": "@jupyter-widgets/base",
      "model_module_version": "1.2.0",
      "model_name": "LayoutModel",
      "state": {
       "_model_module": "@jupyter-widgets/base",
       "_model_module_version": "1.2.0",
       "_model_name": "LayoutModel",
       "_view_count": null,
       "_view_module": "@jupyter-widgets/base",
       "_view_module_version": "1.2.0",
       "_view_name": "LayoutView",
       "align_content": null,
       "align_items": null,
       "align_self": null,
       "border": null,
       "bottom": null,
       "display": null,
       "flex": null,
       "flex_flow": null,
       "grid_area": null,
       "grid_auto_columns": null,
       "grid_auto_flow": null,
       "grid_auto_rows": null,
       "grid_column": null,
       "grid_gap": null,
       "grid_row": null,
       "grid_template_areas": null,
       "grid_template_columns": null,
       "grid_template_rows": null,
       "height": null,
       "justify_content": null,
       "justify_items": null,
       "left": null,
       "margin": null,
       "max_height": null,
       "max_width": null,
       "min_height": null,
       "min_width": null,
       "object_fit": null,
       "object_position": null,
       "order": null,
       "overflow": null,
       "overflow_x": null,
       "overflow_y": null,
       "padding": null,
       "right": null,
       "top": null,
       "visibility": null,
       "width": null
      }
     },
     "3778c418620e4cf38a19577c54d30e4d": {
      "model_module": "@jupyter-widgets/base",
      "model_module_version": "1.2.0",
      "model_name": "LayoutModel",
      "state": {
       "_model_module": "@jupyter-widgets/base",
       "_model_module_version": "1.2.0",
       "_model_name": "LayoutModel",
       "_view_count": null,
       "_view_module": "@jupyter-widgets/base",
       "_view_module_version": "1.2.0",
       "_view_name": "LayoutView",
       "align_content": null,
       "align_items": null,
       "align_self": null,
       "border": null,
       "bottom": null,
       "display": null,
       "flex": null,
       "flex_flow": null,
       "grid_area": null,
       "grid_auto_columns": null,
       "grid_auto_flow": null,
       "grid_auto_rows": null,
       "grid_column": null,
       "grid_gap": null,
       "grid_row": null,
       "grid_template_areas": null,
       "grid_template_columns": null,
       "grid_template_rows": null,
       "height": null,
       "justify_content": null,
       "justify_items": null,
       "left": null,
       "margin": null,
       "max_height": null,
       "max_width": null,
       "min_height": null,
       "min_width": null,
       "object_fit": null,
       "object_position": null,
       "order": null,
       "overflow": null,
       "overflow_x": null,
       "overflow_y": null,
       "padding": null,
       "right": null,
       "top": null,
       "visibility": null,
       "width": null
      }
     },
     "39ac03a9a006474e98157126c98bf2a4": {
      "model_module": "@jupyter-widgets/base",
      "model_module_version": "1.2.0",
      "model_name": "LayoutModel",
      "state": {
       "_model_module": "@jupyter-widgets/base",
       "_model_module_version": "1.2.0",
       "_model_name": "LayoutModel",
       "_view_count": null,
       "_view_module": "@jupyter-widgets/base",
       "_view_module_version": "1.2.0",
       "_view_name": "LayoutView",
       "align_content": null,
       "align_items": null,
       "align_self": null,
       "border": null,
       "bottom": null,
       "display": null,
       "flex": null,
       "flex_flow": null,
       "grid_area": null,
       "grid_auto_columns": null,
       "grid_auto_flow": null,
       "grid_auto_rows": null,
       "grid_column": null,
       "grid_gap": null,
       "grid_row": null,
       "grid_template_areas": null,
       "grid_template_columns": null,
       "grid_template_rows": null,
       "height": null,
       "justify_content": null,
       "justify_items": null,
       "left": null,
       "margin": null,
       "max_height": null,
       "max_width": null,
       "min_height": null,
       "min_width": null,
       "object_fit": null,
       "object_position": null,
       "order": null,
       "overflow": null,
       "overflow_x": null,
       "overflow_y": null,
       "padding": null,
       "right": null,
       "top": null,
       "visibility": null,
       "width": null
      }
     },
     "4a5c7917e93c46e58870721a607da33c": {
      "model_module": "@jupyter-widgets/controls",
      "model_module_version": "1.5.0",
      "model_name": "HTMLModel",
      "state": {
       "_dom_classes": [],
       "_model_module": "@jupyter-widgets/controls",
       "_model_module_version": "1.5.0",
       "_model_name": "HTMLModel",
       "_view_count": null,
       "_view_module": "@jupyter-widgets/controls",
       "_view_module_version": "1.5.0",
       "_view_name": "HTMLView",
       "description": "",
       "description_tooltip": null,
       "layout": "IPY_MODEL_efd107cae28c4245acd74ef48a106e88",
       "placeholder": "​",
       "style": "IPY_MODEL_8f547319de7649d4abcd392bd0a6275e",
       "value": "Downloading: 100%"
      }
     },
     "4b74d8ce542d49bfac0ef97da481fbee": {
      "model_module": "@jupyter-widgets/controls",
      "model_module_version": "1.5.0",
      "model_name": "HTMLModel",
      "state": {
       "_dom_classes": [],
       "_model_module": "@jupyter-widgets/controls",
       "_model_module_version": "1.5.0",
       "_model_name": "HTMLModel",
       "_view_count": null,
       "_view_module": "@jupyter-widgets/controls",
       "_view_module_version": "1.5.0",
       "_view_name": "HTMLView",
       "description": "",
       "description_tooltip": null,
       "layout": "IPY_MODEL_1c181922db1145648cc598d304eea54d",
       "placeholder": "​",
       "style": "IPY_MODEL_8af120541aea4302b63b921a943b9ae3",
       "value": "Downloading: 100%"
      }
     },
     "4b8ed25eb5604adcadad777b875e3210": {
      "model_module": "@jupyter-widgets/controls",
      "model_module_version": "1.5.0",
      "model_name": "HTMLModel",
      "state": {
       "_dom_classes": [],
       "_model_module": "@jupyter-widgets/controls",
       "_model_module_version": "1.5.0",
       "_model_name": "HTMLModel",
       "_view_count": null,
       "_view_module": "@jupyter-widgets/controls",
       "_view_module_version": "1.5.0",
       "_view_name": "HTMLView",
       "description": "",
       "description_tooltip": null,
       "layout": "IPY_MODEL_a51174fe72214e188d1857f0b86dab97",
       "placeholder": "​",
       "style": "IPY_MODEL_c165e9a0ddbd4cc3a0a3ae9faee07dc9",
       "value": " 445M/445M [00:09&lt;00:00, 41.2MB/s]"
      }
     },
     "5d56c47df0d54257982e61cef4490925": {
      "model_module": "@jupyter-widgets/controls",
      "model_module_version": "1.5.0",
      "model_name": "FloatProgressModel",
      "state": {
       "_dom_classes": [],
       "_model_module": "@jupyter-widgets/controls",
       "_model_module_version": "1.5.0",
       "_model_name": "FloatProgressModel",
       "_view_count": null,
       "_view_module": "@jupyter-widgets/controls",
       "_view_module_version": "1.5.0",
       "_view_name": "ProgressView",
       "bar_style": "success",
       "description": "",
       "description_tooltip": null,
       "layout": "IPY_MODEL_d608840def504086a52ea1b7197e1529",
       "max": 83.0,
       "min": 0.0,
       "orientation": "horizontal",
       "style": "IPY_MODEL_93d8874f2ac144a7b3da94babcc680a7",
       "value": 83.0
      }
     },
     "5db5d30d8c6d46f197d93e2069f2596c": {
      "model_module": "@jupyter-widgets/base",
      "model_module_version": "1.2.0",
      "model_name": "LayoutModel",
      "state": {
       "_model_module": "@jupyter-widgets/base",
       "_model_module_version": "1.2.0",
       "_model_name": "LayoutModel",
       "_view_count": null,
       "_view_module": "@jupyter-widgets/base",
       "_view_module_version": "1.2.0",
       "_view_name": "LayoutView",
       "align_content": null,
       "align_items": null,
       "align_self": null,
       "border": null,
       "bottom": null,
       "display": null,
       "flex": null,
       "flex_flow": null,
       "grid_area": null,
       "grid_auto_columns": null,
       "grid_auto_flow": null,
       "grid_auto_rows": null,
       "grid_column": null,
       "grid_gap": null,
       "grid_row": null,
       "grid_template_areas": null,
       "grid_template_columns": null,
       "grid_template_rows": null,
       "height": null,
       "justify_content": null,
       "justify_items": null,
       "left": null,
       "margin": null,
       "max_height": null,
       "max_width": null,
       "min_height": null,
       "min_width": null,
       "object_fit": null,
       "object_position": null,
       "order": null,
       "overflow": null,
       "overflow_x": null,
       "overflow_y": null,
       "padding": null,
       "right": null,
       "top": null,
       "visibility": null,
       "width": null
      }
     },
     "616b87e94c5741e783e2774f643b8eef": {
      "model_module": "@jupyter-widgets/base",
      "model_module_version": "1.2.0",
      "model_name": "LayoutModel",
      "state": {
       "_model_module": "@jupyter-widgets/base",
       "_model_module_version": "1.2.0",
       "_model_name": "LayoutModel",
       "_view_count": null,
       "_view_module": "@jupyter-widgets/base",
       "_view_module_version": "1.2.0",
       "_view_name": "LayoutView",
       "align_content": null,
       "align_items": null,
       "align_self": null,
       "border": null,
       "bottom": null,
       "display": null,
       "flex": null,
       "flex_flow": null,
       "grid_area": null,
       "grid_auto_columns": null,
       "grid_auto_flow": null,
       "grid_auto_rows": null,
       "grid_column": null,
       "grid_gap": null,
       "grid_row": null,
       "grid_template_areas": null,
       "grid_template_columns": null,
       "grid_template_rows": null,
       "height": null,
       "justify_content": null,
       "justify_items": null,
       "left": null,
       "margin": null,
       "max_height": null,
       "max_width": null,
       "min_height": null,
       "min_width": null,
       "object_fit": null,
       "object_position": null,
       "order": null,
       "overflow": null,
       "overflow_x": null,
       "overflow_y": null,
       "padding": null,
       "right": null,
       "top": null,
       "visibility": null,
       "width": null
      }
     },
     "667735372fe14cafab6854902c9fad41": {
      "model_module": "@jupyter-widgets/controls",
      "model_module_version": "1.5.0",
      "model_name": "HTMLModel",
      "state": {
       "_dom_classes": [],
       "_model_module": "@jupyter-widgets/controls",
       "_model_module_version": "1.5.0",
       "_model_name": "HTMLModel",
       "_view_count": null,
       "_view_module": "@jupyter-widgets/controls",
       "_view_module_version": "1.5.0",
       "_view_name": "HTMLView",
       "description": "",
       "description_tooltip": null,
       "layout": "IPY_MODEL_3778c418620e4cf38a19577c54d30e4d",
       "placeholder": "​",
       "style": "IPY_MODEL_8b2b7dd574b6453686a719bf97768d26",
       "value": " 83.0/83.0 [00:00&lt;00:00, 3.05kB/s]"
      }
     },
     "75d4cf3658ad47cb9c2471c6ce819b2a": {
      "model_module": "@jupyter-widgets/controls",
      "model_module_version": "1.5.0",
      "model_name": "HTMLModel",
      "state": {
       "_dom_classes": [],
       "_model_module": "@jupyter-widgets/controls",
       "_model_module_version": "1.5.0",
       "_model_name": "HTMLModel",
       "_view_count": null,
       "_view_module": "@jupyter-widgets/controls",
       "_view_module_version": "1.5.0",
       "_view_name": "HTMLView",
       "description": "",
       "description_tooltip": null,
       "layout": "IPY_MODEL_2e262ae9c04047519202bb64161a3c4d",
       "placeholder": "​",
       "style": "IPY_MODEL_a85562ffbdaa4e51a745b4e324e19fa0",
       "value": " 420/420 [00:00&lt;00:00, 16.2kB/s]"
      }
     },
     "7710527719854a8c8a56e65281a21460": {
      "model_module": "@jupyter-widgets/controls",
      "model_module_version": "1.5.0",
      "model_name": "FloatProgressModel",
      "state": {
       "_dom_classes": [],
       "_model_module": "@jupyter-widgets/controls",
       "_model_module_version": "1.5.0",
       "_model_name": "FloatProgressModel",
       "_view_count": null,
       "_view_module": "@jupyter-widgets/controls",
       "_view_module_version": "1.5.0",
       "_view_name": "ProgressView",
       "bar_style": "success",
       "description": "",
       "description_tooltip": null,
       "layout": "IPY_MODEL_616b87e94c5741e783e2774f643b8eef",
       "max": 445018784.0,
       "min": 0.0,
       "orientation": "horizontal",
       "style": "IPY_MODEL_28a1a4bf23c34d9788467b177f3e4080",
       "value": 445018784.0
      }
     },
     "8af120541aea4302b63b921a943b9ae3": {
      "model_module": "@jupyter-widgets/controls",
      "model_module_version": "1.5.0",
      "model_name": "DescriptionStyleModel",
      "state": {
       "_model_module": "@jupyter-widgets/controls",
       "_model_module_version": "1.5.0",
       "_model_name": "DescriptionStyleModel",
       "_view_count": null,
       "_view_module": "@jupyter-widgets/base",
       "_view_module_version": "1.2.0",
       "_view_name": "StyleView",
       "description_width": ""
      }
     },
     "8b2b7dd574b6453686a719bf97768d26": {
      "model_module": "@jupyter-widgets/controls",
      "model_module_version": "1.5.0",
      "model_name": "DescriptionStyleModel",
      "state": {
       "_model_module": "@jupyter-widgets/controls",
       "_model_module_version": "1.5.0",
       "_model_name": "DescriptionStyleModel",
       "_view_count": null,
       "_view_module": "@jupyter-widgets/base",
       "_view_module_version": "1.2.0",
       "_view_name": "StyleView",
       "description_width": ""
      }
     },
     "8f547319de7649d4abcd392bd0a6275e": {
      "model_module": "@jupyter-widgets/controls",
      "model_module_version": "1.5.0",
      "model_name": "DescriptionStyleModel",
      "state": {
       "_model_module": "@jupyter-widgets/controls",
       "_model_module_version": "1.5.0",
       "_model_name": "DescriptionStyleModel",
       "_view_count": null,
       "_view_module": "@jupyter-widgets/base",
       "_view_module_version": "1.2.0",
       "_view_name": "StyleView",
       "description_width": ""
      }
     },
     "91aae25498474d589cd3402c4574834f": {
      "model_module": "@jupyter-widgets/controls",
      "model_module_version": "1.5.0",
      "model_name": "DescriptionStyleModel",
      "state": {
       "_model_module": "@jupyter-widgets/controls",
       "_model_module_version": "1.5.0",
       "_model_name": "DescriptionStyleModel",
       "_view_count": null,
       "_view_module": "@jupyter-widgets/base",
       "_view_module_version": "1.2.0",
       "_view_name": "StyleView",
       "description_width": ""
      }
     },
     "93d8874f2ac144a7b3da94babcc680a7": {
      "model_module": "@jupyter-widgets/controls",
      "model_module_version": "1.5.0",
      "model_name": "ProgressStyleModel",
      "state": {
       "_model_module": "@jupyter-widgets/controls",
       "_model_module_version": "1.5.0",
       "_model_name": "ProgressStyleModel",
       "_view_count": null,
       "_view_module": "@jupyter-widgets/base",
       "_view_module_version": "1.2.0",
       "_view_name": "StyleView",
       "bar_color": null,
       "description_width": ""
      }
     },
     "94decec68c7d404ab0c57d9e2d308b80": {
      "model_module": "@jupyter-widgets/controls",
      "model_module_version": "1.5.0",
      "model_name": "HTMLModel",
      "state": {
       "_dom_classes": [],
       "_model_module": "@jupyter-widgets/controls",
       "_model_module_version": "1.5.0",
       "_model_name": "HTMLModel",
       "_view_count": null,
       "_view_module": "@jupyter-widgets/controls",
       "_view_module_version": "1.5.0",
       "_view_name": "HTMLView",
       "description": "",
       "description_tooltip": null,
       "layout": "IPY_MODEL_a067b46ca1e04fd3aa0210f65accfcbd",
       "placeholder": "​",
       "style": "IPY_MODEL_997f3a22a85b40098eba2614cf138abf",
       "value": " 227k/227k [00:00&lt;00:00, 546kB/s]"
      }
     },
     "997f3a22a85b40098eba2614cf138abf": {
      "model_module": "@jupyter-widgets/controls",
      "model_module_version": "1.5.0",
      "model_name": "DescriptionStyleModel",
      "state": {
       "_model_module": "@jupyter-widgets/controls",
       "_model_module_version": "1.5.0",
       "_model_name": "DescriptionStyleModel",
       "_view_count": null,
       "_view_module": "@jupyter-widgets/base",
       "_view_module_version": "1.2.0",
       "_view_name": "StyleView",
       "description_width": ""
      }
     },
     "9f099390d4a740968025ee9bf75c0e11": {
      "model_module": "@jupyter-widgets/controls",
      "model_module_version": "1.5.0",
      "model_name": "FloatProgressModel",
      "state": {
       "_dom_classes": [],
       "_model_module": "@jupyter-widgets/controls",
       "_model_module_version": "1.5.0",
       "_model_name": "FloatProgressModel",
       "_view_count": null,
       "_view_module": "@jupyter-widgets/controls",
       "_view_module_version": "1.5.0",
       "_view_name": "ProgressView",
       "bar_style": "success",
       "description": "",
       "description_tooltip": null,
       "layout": "IPY_MODEL_d926722cb74240b4a6eaadfc4ff04580",
       "max": 420.0,
       "min": 0.0,
       "orientation": "horizontal",
       "style": "IPY_MODEL_ccc0d35063094cda9dc2ebfdbe9e77b6",
       "value": 420.0
      }
     },
     "a067b46ca1e04fd3aa0210f65accfcbd": {
      "model_module": "@jupyter-widgets/base",
      "model_module_version": "1.2.0",
      "model_name": "LayoutModel",
      "state": {
       "_model_module": "@jupyter-widgets/base",
       "_model_module_version": "1.2.0",
       "_model_name": "LayoutModel",
       "_view_count": null,
       "_view_module": "@jupyter-widgets/base",
       "_view_module_version": "1.2.0",
       "_view_name": "LayoutView",
       "align_content": null,
       "align_items": null,
       "align_self": null,
       "border": null,
       "bottom": null,
       "display": null,
       "flex": null,
       "flex_flow": null,
       "grid_area": null,
       "grid_auto_columns": null,
       "grid_auto_flow": null,
       "grid_auto_rows": null,
       "grid_column": null,
       "grid_gap": null,
       "grid_row": null,
       "grid_template_areas": null,
       "grid_template_columns": null,
       "grid_template_rows": null,
       "height": null,
       "justify_content": null,
       "justify_items": null,
       "left": null,
       "margin": null,
       "max_height": null,
       "max_width": null,
       "min_height": null,
       "min_width": null,
       "object_fit": null,
       "object_position": null,
       "order": null,
       "overflow": null,
       "overflow_x": null,
       "overflow_y": null,
       "padding": null,
       "right": null,
       "top": null,
       "visibility": null,
       "width": null
      }
     },
     "a51174fe72214e188d1857f0b86dab97": {
      "model_module": "@jupyter-widgets/base",
      "model_module_version": "1.2.0",
      "model_name": "LayoutModel",
      "state": {
       "_model_module": "@jupyter-widgets/base",
       "_model_module_version": "1.2.0",
       "_model_name": "LayoutModel",
       "_view_count": null,
       "_view_module": "@jupyter-widgets/base",
       "_view_module_version": "1.2.0",
       "_view_name": "LayoutView",
       "align_content": null,
       "align_items": null,
       "align_self": null,
       "border": null,
       "bottom": null,
       "display": null,
       "flex": null,
       "flex_flow": null,
       "grid_area": null,
       "grid_auto_columns": null,
       "grid_auto_flow": null,
       "grid_auto_rows": null,
       "grid_column": null,
       "grid_gap": null,
       "grid_row": null,
       "grid_template_areas": null,
       "grid_template_columns": null,
       "grid_template_rows": null,
       "height": null,
       "justify_content": null,
       "justify_items": null,
       "left": null,
       "margin": null,
       "max_height": null,
       "max_width": null,
       "min_height": null,
       "min_width": null,
       "object_fit": null,
       "object_position": null,
       "order": null,
       "overflow": null,
       "overflow_x": null,
       "overflow_y": null,
       "padding": null,
       "right": null,
       "top": null,
       "visibility": null,
       "width": null
      }
     },
     "a79d67ab71144fb38f592ef60e2f59e1": {
      "model_module": "@jupyter-widgets/controls",
      "model_module_version": "1.5.0",
      "model_name": "HBoxModel",
      "state": {
       "_dom_classes": [],
       "_model_module": "@jupyter-widgets/controls",
       "_model_module_version": "1.5.0",
       "_model_name": "HBoxModel",
       "_view_count": null,
       "_view_module": "@jupyter-widgets/controls",
       "_view_module_version": "1.5.0",
       "_view_name": "HBoxView",
       "box_style": "",
       "children": [
        "IPY_MODEL_d7cf983331004cbd8c08c5e9039d9fa7",
        "IPY_MODEL_cfa352963fbc484ea98f2da1c47fde45",
        "IPY_MODEL_94decec68c7d404ab0c57d9e2d308b80"
       ],
       "layout": "IPY_MODEL_be77291471ac46df950b940b91c57e3f"
      }
     },
     "a85562ffbdaa4e51a745b4e324e19fa0": {
      "model_module": "@jupyter-widgets/controls",
      "model_module_version": "1.5.0",
      "model_name": "DescriptionStyleModel",
      "state": {
       "_model_module": "@jupyter-widgets/controls",
       "_model_module_version": "1.5.0",
       "_model_name": "DescriptionStyleModel",
       "_view_count": null,
       "_view_module": "@jupyter-widgets/base",
       "_view_module_version": "1.2.0",
       "_view_name": "StyleView",
       "description_width": ""
      }
     },
     "b01d119800ac4088a0abb2b9598ff55a": {
      "model_module": "@jupyter-widgets/controls",
      "model_module_version": "1.5.0",
      "model_name": "HBoxModel",
      "state": {
       "_dom_classes": [],
       "_model_module": "@jupyter-widgets/controls",
       "_model_module_version": "1.5.0",
       "_model_name": "HBoxModel",
       "_view_count": null,
       "_view_module": "@jupyter-widgets/controls",
       "_view_module_version": "1.5.0",
       "_view_name": "HBoxView",
       "box_style": "",
       "children": [
        "IPY_MODEL_4a5c7917e93c46e58870721a607da33c",
        "IPY_MODEL_5d56c47df0d54257982e61cef4490925",
        "IPY_MODEL_667735372fe14cafab6854902c9fad41"
       ],
       "layout": "IPY_MODEL_b48bccb609794039add88e6c916c43d7"
      }
     },
     "b48bccb609794039add88e6c916c43d7": {
      "model_module": "@jupyter-widgets/base",
      "model_module_version": "1.2.0",
      "model_name": "LayoutModel",
      "state": {
       "_model_module": "@jupyter-widgets/base",
       "_model_module_version": "1.2.0",
       "_model_name": "LayoutModel",
       "_view_count": null,
       "_view_module": "@jupyter-widgets/base",
       "_view_module_version": "1.2.0",
       "_view_name": "LayoutView",
       "align_content": null,
       "align_items": null,
       "align_self": null,
       "border": null,
       "bottom": null,
       "display": null,
       "flex": null,
       "flex_flow": null,
       "grid_area": null,
       "grid_auto_columns": null,
       "grid_auto_flow": null,
       "grid_auto_rows": null,
       "grid_column": null,
       "grid_gap": null,
       "grid_row": null,
       "grid_template_areas": null,
       "grid_template_columns": null,
       "grid_template_rows": null,
       "height": null,
       "justify_content": null,
       "justify_items": null,
       "left": null,
       "margin": null,
       "max_height": null,
       "max_width": null,
       "min_height": null,
       "min_width": null,
       "object_fit": null,
       "object_position": null,
       "order": null,
       "overflow": null,
       "overflow_x": null,
       "overflow_y": null,
       "padding": null,
       "right": null,
       "top": null,
       "visibility": null,
       "width": null
      }
     },
     "b4e762c9035c4759999ebb3ee941fdee": {
      "model_module": "@jupyter-widgets/base",
      "model_module_version": "1.2.0",
      "model_name": "LayoutModel",
      "state": {
       "_model_module": "@jupyter-widgets/base",
       "_model_module_version": "1.2.0",
       "_model_name": "LayoutModel",
       "_view_count": null,
       "_view_module": "@jupyter-widgets/base",
       "_view_module_version": "1.2.0",
       "_view_name": "LayoutView",
       "align_content": null,
       "align_items": null,
       "align_self": null,
       "border": null,
       "bottom": null,
       "display": null,
       "flex": null,
       "flex_flow": null,
       "grid_area": null,
       "grid_auto_columns": null,
       "grid_auto_flow": null,
       "grid_auto_rows": null,
       "grid_column": null,
       "grid_gap": null,
       "grid_row": null,
       "grid_template_areas": null,
       "grid_template_columns": null,
       "grid_template_rows": null,
       "height": null,
       "justify_content": null,
       "justify_items": null,
       "left": null,
       "margin": null,
       "max_height": null,
       "max_width": null,
       "min_height": null,
       "min_width": null,
       "object_fit": null,
       "object_position": null,
       "order": null,
       "overflow": null,
       "overflow_x": null,
       "overflow_y": null,
       "padding": null,
       "right": null,
       "top": null,
       "visibility": null,
       "width": null
      }
     },
     "b7ab0d1cc5014664a348dca4f1b9af9f": {
      "model_module": "@jupyter-widgets/controls",
      "model_module_version": "1.5.0",
      "model_name": "DescriptionStyleModel",
      "state": {
       "_model_module": "@jupyter-widgets/controls",
       "_model_module_version": "1.5.0",
       "_model_name": "DescriptionStyleModel",
       "_view_count": null,
       "_view_module": "@jupyter-widgets/base",
       "_view_module_version": "1.2.0",
       "_view_name": "StyleView",
       "description_width": ""
      }
     },
     "b80e2a67c3ab4b3fa2a5738097a0a455": {
      "model_module": "@jupyter-widgets/base",
      "model_module_version": "1.2.0",
      "model_name": "LayoutModel",
      "state": {
       "_model_module": "@jupyter-widgets/base",
       "_model_module_version": "1.2.0",
       "_model_name": "LayoutModel",
       "_view_count": null,
       "_view_module": "@jupyter-widgets/base",
       "_view_module_version": "1.2.0",
       "_view_name": "LayoutView",
       "align_content": null,
       "align_items": null,
       "align_self": null,
       "border": null,
       "bottom": null,
       "display": null,
       "flex": null,
       "flex_flow": null,
       "grid_area": null,
       "grid_auto_columns": null,
       "grid_auto_flow": null,
       "grid_auto_rows": null,
       "grid_column": null,
       "grid_gap": null,
       "grid_row": null,
       "grid_template_areas": null,
       "grid_template_columns": null,
       "grid_template_rows": null,
       "height": null,
       "justify_content": null,
       "justify_items": null,
       "left": null,
       "margin": null,
       "max_height": null,
       "max_width": null,
       "min_height": null,
       "min_width": null,
       "object_fit": null,
       "object_position": null,
       "order": null,
       "overflow": null,
       "overflow_x": null,
       "overflow_y": null,
       "padding": null,
       "right": null,
       "top": null,
       "visibility": null,
       "width": null
      }
     },
     "be77291471ac46df950b940b91c57e3f": {
      "model_module": "@jupyter-widgets/base",
      "model_module_version": "1.2.0",
      "model_name": "LayoutModel",
      "state": {
       "_model_module": "@jupyter-widgets/base",
       "_model_module_version": "1.2.0",
       "_model_name": "LayoutModel",
       "_view_count": null,
       "_view_module": "@jupyter-widgets/base",
       "_view_module_version": "1.2.0",
       "_view_name": "LayoutView",
       "align_content": null,
       "align_items": null,
       "align_self": null,
       "border": null,
       "bottom": null,
       "display": null,
       "flex": null,
       "flex_flow": null,
       "grid_area": null,
       "grid_auto_columns": null,
       "grid_auto_flow": null,
       "grid_auto_rows": null,
       "grid_column": null,
       "grid_gap": null,
       "grid_row": null,
       "grid_template_areas": null,
       "grid_template_columns": null,
       "grid_template_rows": null,
       "height": null,
       "justify_content": null,
       "justify_items": null,
       "left": null,
       "margin": null,
       "max_height": null,
       "max_width": null,
       "min_height": null,
       "min_width": null,
       "object_fit": null,
       "object_position": null,
       "order": null,
       "overflow": null,
       "overflow_x": null,
       "overflow_y": null,
       "padding": null,
       "right": null,
       "top": null,
       "visibility": null,
       "width": null
      }
     },
     "c165e9a0ddbd4cc3a0a3ae9faee07dc9": {
      "model_module": "@jupyter-widgets/controls",
      "model_module_version": "1.5.0",
      "model_name": "DescriptionStyleModel",
      "state": {
       "_model_module": "@jupyter-widgets/controls",
       "_model_module_version": "1.5.0",
       "_model_name": "DescriptionStyleModel",
       "_view_count": null,
       "_view_module": "@jupyter-widgets/base",
       "_view_module_version": "1.2.0",
       "_view_name": "StyleView",
       "description_width": ""
      }
     },
     "c33b3b39252e499ba18e7e9fb904e153": {
      "model_module": "@jupyter-widgets/base",
      "model_module_version": "1.2.0",
      "model_name": "LayoutModel",
      "state": {
       "_model_module": "@jupyter-widgets/base",
       "_model_module_version": "1.2.0",
       "_model_name": "LayoutModel",
       "_view_count": null,
       "_view_module": "@jupyter-widgets/base",
       "_view_module_version": "1.2.0",
       "_view_name": "LayoutView",
       "align_content": null,
       "align_items": null,
       "align_self": null,
       "border": null,
       "bottom": null,
       "display": null,
       "flex": null,
       "flex_flow": null,
       "grid_area": null,
       "grid_auto_columns": null,
       "grid_auto_flow": null,
       "grid_auto_rows": null,
       "grid_column": null,
       "grid_gap": null,
       "grid_row": null,
       "grid_template_areas": null,
       "grid_template_columns": null,
       "grid_template_rows": null,
       "height": null,
       "justify_content": null,
       "justify_items": null,
       "left": null,
       "margin": null,
       "max_height": null,
       "max_width": null,
       "min_height": null,
       "min_width": null,
       "object_fit": null,
       "object_position": null,
       "order": null,
       "overflow": null,
       "overflow_x": null,
       "overflow_y": null,
       "padding": null,
       "right": null,
       "top": null,
       "visibility": null,
       "width": null
      }
     },
     "ccc0d35063094cda9dc2ebfdbe9e77b6": {
      "model_module": "@jupyter-widgets/controls",
      "model_module_version": "1.5.0",
      "model_name": "ProgressStyleModel",
      "state": {
       "_model_module": "@jupyter-widgets/controls",
       "_model_module_version": "1.5.0",
       "_model_name": "ProgressStyleModel",
       "_view_count": null,
       "_view_module": "@jupyter-widgets/base",
       "_view_module_version": "1.2.0",
       "_view_name": "StyleView",
       "bar_color": null,
       "description_width": ""
      }
     },
     "ce17cf4cf81d4a80b9c462812d470454": {
      "model_module": "@jupyter-widgets/controls",
      "model_module_version": "1.5.0",
      "model_name": "HTMLModel",
      "state": {
       "_dom_classes": [],
       "_model_module": "@jupyter-widgets/controls",
       "_model_module_version": "1.5.0",
       "_model_name": "HTMLModel",
       "_view_count": null,
       "_view_module": "@jupyter-widgets/controls",
       "_view_module_version": "1.5.0",
       "_view_name": "HTMLView",
       "description": "",
       "description_tooltip": null,
       "layout": "IPY_MODEL_b80e2a67c3ab4b3fa2a5738097a0a455",
       "placeholder": "​",
       "style": "IPY_MODEL_91aae25498474d589cd3402c4574834f",
       "value": "Downloading: 100%"
      }
     },
     "cfa352963fbc484ea98f2da1c47fde45": {
      "model_module": "@jupyter-widgets/controls",
      "model_module_version": "1.5.0",
      "model_name": "FloatProgressModel",
      "state": {
       "_dom_classes": [],
       "_model_module": "@jupyter-widgets/controls",
       "_model_module_version": "1.5.0",
       "_model_name": "FloatProgressModel",
       "_view_count": null,
       "_view_module": "@jupyter-widgets/controls",
       "_view_module_version": "1.5.0",
       "_view_name": "ProgressView",
       "bar_style": "success",
       "description": "",
       "description_tooltip": null,
       "layout": "IPY_MODEL_c33b3b39252e499ba18e7e9fb904e153",
       "max": 227141.0,
       "min": 0.0,
       "orientation": "horizontal",
       "style": "IPY_MODEL_052da700d951400dac965f31f721bc17",
       "value": 227141.0
      }
     },
     "d608840def504086a52ea1b7197e1529": {
      "model_module": "@jupyter-widgets/base",
      "model_module_version": "1.2.0",
      "model_name": "LayoutModel",
      "state": {
       "_model_module": "@jupyter-widgets/base",
       "_model_module_version": "1.2.0",
       "_model_name": "LayoutModel",
       "_view_count": null,
       "_view_module": "@jupyter-widgets/base",
       "_view_module_version": "1.2.0",
       "_view_name": "LayoutView",
       "align_content": null,
       "align_items": null,
       "align_self": null,
       "border": null,
       "bottom": null,
       "display": null,
       "flex": null,
       "flex_flow": null,
       "grid_area": null,
       "grid_auto_columns": null,
       "grid_auto_flow": null,
       "grid_auto_rows": null,
       "grid_column": null,
       "grid_gap": null,
       "grid_row": null,
       "grid_template_areas": null,
       "grid_template_columns": null,
       "grid_template_rows": null,
       "height": null,
       "justify_content": null,
       "justify_items": null,
       "left": null,
       "margin": null,
       "max_height": null,
       "max_width": null,
       "min_height": null,
       "min_width": null,
       "object_fit": null,
       "object_position": null,
       "order": null,
       "overflow": null,
       "overflow_x": null,
       "overflow_y": null,
       "padding": null,
       "right": null,
       "top": null,
       "visibility": null,
       "width": null
      }
     },
     "d7cf983331004cbd8c08c5e9039d9fa7": {
      "model_module": "@jupyter-widgets/controls",
      "model_module_version": "1.5.0",
      "model_name": "HTMLModel",
      "state": {
       "_dom_classes": [],
       "_model_module": "@jupyter-widgets/controls",
       "_model_module_version": "1.5.0",
       "_model_name": "HTMLModel",
       "_view_count": null,
       "_view_module": "@jupyter-widgets/controls",
       "_view_module_version": "1.5.0",
       "_view_name": "HTMLView",
       "description": "",
       "description_tooltip": null,
       "layout": "IPY_MODEL_b4e762c9035c4759999ebb3ee941fdee",
       "placeholder": "​",
       "style": "IPY_MODEL_b7ab0d1cc5014664a348dca4f1b9af9f",
       "value": "Downloading: 100%"
      }
     },
     "d926722cb74240b4a6eaadfc4ff04580": {
      "model_module": "@jupyter-widgets/base",
      "model_module_version": "1.2.0",
      "model_name": "LayoutModel",
      "state": {
       "_model_module": "@jupyter-widgets/base",
       "_model_module_version": "1.2.0",
       "_model_name": "LayoutModel",
       "_view_count": null,
       "_view_module": "@jupyter-widgets/base",
       "_view_module_version": "1.2.0",
       "_view_name": "LayoutView",
       "align_content": null,
       "align_items": null,
       "align_self": null,
       "border": null,
       "bottom": null,
       "display": null,
       "flex": null,
       "flex_flow": null,
       "grid_area": null,
       "grid_auto_columns": null,
       "grid_auto_flow": null,
       "grid_auto_rows": null,
       "grid_column": null,
       "grid_gap": null,
       "grid_row": null,
       "grid_template_areas": null,
       "grid_template_columns": null,
       "grid_template_rows": null,
       "height": null,
       "justify_content": null,
       "justify_items": null,
       "left": null,
       "margin": null,
       "max_height": null,
       "max_width": null,
       "min_height": null,
       "min_width": null,
       "object_fit": null,
       "object_position": null,
       "order": null,
       "overflow": null,
       "overflow_x": null,
       "overflow_y": null,
       "padding": null,
       "right": null,
       "top": null,
       "visibility": null,
       "width": null
      }
     },
     "efd107cae28c4245acd74ef48a106e88": {
      "model_module": "@jupyter-widgets/base",
      "model_module_version": "1.2.0",
      "model_name": "LayoutModel",
      "state": {
       "_model_module": "@jupyter-widgets/base",
       "_model_module_version": "1.2.0",
       "_model_name": "LayoutModel",
       "_view_count": null,
       "_view_module": "@jupyter-widgets/base",
       "_view_module_version": "1.2.0",
       "_view_name": "LayoutView",
       "align_content": null,
       "align_items": null,
       "align_self": null,
       "border": null,
       "bottom": null,
       "display": null,
       "flex": null,
       "flex_flow": null,
       "grid_area": null,
       "grid_auto_columns": null,
       "grid_auto_flow": null,
       "grid_auto_rows": null,
       "grid_column": null,
       "grid_gap": null,
       "grid_row": null,
       "grid_template_areas": null,
       "grid_template_columns": null,
       "grid_template_rows": null,
       "height": null,
       "justify_content": null,
       "justify_items": null,
       "left": null,
       "margin": null,
       "max_height": null,
       "max_width": null,
       "min_height": null,
       "min_width": null,
       "object_fit": null,
       "object_position": null,
       "order": null,
       "overflow": null,
       "overflow_x": null,
       "overflow_y": null,
       "padding": null,
       "right": null,
       "top": null,
       "visibility": null,
       "width": null
      }
     }
    },
    "version_major": 2,
    "version_minor": 0
   }
  }
 },
 "nbformat": 4,
 "nbformat_minor": 5
}
