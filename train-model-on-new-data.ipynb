{
 "cells": [
  {
   "cell_type": "code",
   "execution_count": 1,
   "id": "cdcaf92f",
   "metadata": {
    "execution": {
     "iopub.execute_input": "2022-07-06T12:33:02.554106Z",
     "iopub.status.busy": "2022-07-06T12:33:02.552579Z",
     "iopub.status.idle": "2022-07-06T12:33:10.294839Z",
     "shell.execute_reply": "2022-07-06T12:33:10.293916Z",
     "shell.execute_reply.started": "2022-07-06T12:28:16.960734Z"
    },
    "papermill": {
     "duration": 7.774546,
     "end_time": "2022-07-06T12:33:10.295041",
     "exception": false,
     "start_time": "2022-07-06T12:33:02.520495",
     "status": "completed"
    },
    "tags": []
   },
   "outputs": [],
   "source": [
    "import os\n",
    "\n",
    "import random\n",
    "import numpy as np\n",
    "\n",
    "import pandas as pd\n",
    "import torch\n",
    "from torch.utils.data import Dataset, random_split\n",
    "from transformers import (\n",
    "    AdamW,\n",
    "    Trainer,\n",
    "    TrainingArguments,\n",
    "    AutoTokenizer,\n",
    "    AutoModelForSequenceClassification,\n",
    "    get_cosine_schedule_with_warmup,\n",
    ")\n",
    "from sklearn.preprocessing import LabelEncoder\n",
    "from sklearn.metrics import accuracy_score\n",
    "import warnings\n",
    "warnings.filterwarnings('ignore')"
   ]
  },
  {
   "cell_type": "code",
   "execution_count": 2,
   "id": "7ef1aec8",
   "metadata": {
    "execution": {
     "iopub.execute_input": "2022-07-06T12:33:10.354334Z",
     "iopub.status.busy": "2022-07-06T12:33:10.353492Z",
     "iopub.status.idle": "2022-07-06T12:33:15.021111Z",
     "shell.execute_reply": "2022-07-06T12:33:15.019923Z",
     "shell.execute_reply.started": "2022-07-06T12:28:16.976836Z"
    },
    "papermill": {
     "duration": 4.698587,
     "end_time": "2022-07-06T12:33:15.021273",
     "exception": false,
     "start_time": "2022-07-06T12:33:10.322686",
     "status": "completed"
    },
    "tags": []
   },
   "outputs": [
    {
     "data": {
      "application/vnd.jupyter.widget-view+json": {
       "model_id": "d5ebbe194e2b4c159840eda4a0c12179",
       "version_major": 2,
       "version_minor": 0
      },
      "text/plain": [
       "Downloading:   0%|          | 0.00/420 [00:00<?, ?B/s]"
      ]
     },
     "metadata": {},
     "output_type": "display_data"
    },
    {
     "data": {
      "application/vnd.jupyter.widget-view+json": {
       "model_id": "0dde61183d8d4e03a1368551dedcbfd2",
       "version_major": 2,
       "version_minor": 0
      },
      "text/plain": [
       "Downloading:   0%|          | 0.00/227k [00:00<?, ?B/s]"
      ]
     },
     "metadata": {},
     "output_type": "display_data"
    },
    {
     "data": {
      "application/vnd.jupyter.widget-view+json": {
       "model_id": "7c9659a0bbb34b3680ed0f7b1a80d1e3",
       "version_major": 2,
       "version_minor": 0
      },
      "text/plain": [
       "Downloading:   0%|          | 0.00/83.0 [00:00<?, ?B/s]"
      ]
     },
     "metadata": {},
     "output_type": "display_data"
    }
   ],
   "source": [
    "model_name = \"dbmdz/bert-base-french-europeana-cased\"\n",
    "\n",
    "tokenizer = AutoTokenizer.from_pretrained(model_name)\n",
    "\n",
    "device = torch.device(\"cuda\" if torch.cuda.is_available() else \"cpu\")"
   ]
  },
  {
   "cell_type": "code",
   "execution_count": 3,
   "id": "73b8a573",
   "metadata": {
    "execution": {
     "iopub.execute_input": "2022-07-06T12:33:15.082573Z",
     "iopub.status.busy": "2022-07-06T12:33:15.081592Z",
     "iopub.status.idle": "2022-07-06T12:33:15.084178Z",
     "shell.execute_reply": "2022-07-06T12:33:15.083617Z",
     "shell.execute_reply.started": "2022-07-06T12:28:19.846563Z"
    },
    "papermill": {
     "duration": 0.034714,
     "end_time": "2022-07-06T12:33:15.084298",
     "exception": false,
     "start_time": "2022-07-06T12:33:15.049584",
     "status": "completed"
    },
    "tags": []
   },
   "outputs": [],
   "source": [
    "lr = 2e-5\n",
    "epochs =  6\n",
    "batch_size = 5\n",
    "max_seq_len = 75\n",
    "\n",
    "test_frac = 0.1"
   ]
  },
  {
   "cell_type": "code",
   "execution_count": 4,
   "id": "4e776689",
   "metadata": {
    "execution": {
     "iopub.execute_input": "2022-07-06T12:33:15.146349Z",
     "iopub.status.busy": "2022-07-06T12:33:15.145576Z",
     "iopub.status.idle": "2022-07-06T12:33:15.150557Z",
     "shell.execute_reply": "2022-07-06T12:33:15.150936Z",
     "shell.execute_reply.started": "2022-07-06T12:28:19.859034Z"
    },
    "papermill": {
     "duration": 0.038293,
     "end_time": "2022-07-06T12:33:15.151106",
     "exception": false,
     "start_time": "2022-07-06T12:33:15.112813",
     "status": "completed"
    },
    "tags": []
   },
   "outputs": [],
   "source": [
    "import os\n",
    "\n",
    "def set_seed(seed=106052):\n",
    "    \"\"\"Set seed for reproducibility.\n",
    "    \"\"\"\n",
    "    random.seed(seed)\n",
    "    np.random.seed(seed)\n",
    "    torch.manual_seed(seed)\n",
    "    torch.cuda.manual_seed_all(seed)\n",
    "    \n",
    "    os.environ['PYTHONHASHSEED'] = str(seed)\n",
    "    \n",
    "set_seed()"
   ]
  },
  {
   "cell_type": "code",
   "execution_count": 5,
   "id": "76ab7a6f",
   "metadata": {
    "execution": {
     "iopub.execute_input": "2022-07-06T12:33:15.214413Z",
     "iopub.status.busy": "2022-07-06T12:33:15.213440Z",
     "iopub.status.idle": "2022-07-06T12:33:15.215195Z",
     "shell.execute_reply": "2022-07-06T12:33:15.215713Z",
     "shell.execute_reply.started": "2022-07-06T12:28:19.874418Z"
    },
    "papermill": {
     "duration": 0.037775,
     "end_time": "2022-07-06T12:33:15.215853",
     "exception": false,
     "start_time": "2022-07-06T12:33:15.178078",
     "status": "completed"
    },
    "tags": []
   },
   "outputs": [],
   "source": [
    "class CEFRDataset(Dataset):\n",
    "    \"\"\"Classification dataset, built on top of pytorch dataset object\n",
    "    \"\"\"\n",
    "    \n",
    "    def __init__(self, texts, labels):\n",
    "        \n",
    "        self.encoder = LabelEncoder()\n",
    "        print(self.encoder.__dict__)\n",
    "        self.texts = texts\n",
    "        self.labels = self.encoder.fit_transform(labels)\n",
    "\n",
    "    def __len__(self):\n",
    "        return len(self.texts)\n",
    "\n",
    "    def __getitem__(self, index):\n",
    "        text = self.texts[index]\n",
    "        label = self.labels[index]\n",
    "        encoded_text = tokenizer(\n",
    "            text,\n",
    "            padding=\"max_length\",\n",
    "            max_length=max_seq_len,\n",
    "            truncation=True,\n",
    "            return_tensors=\"pt\",\n",
    "        )\n",
    "        encoded_text[\"input_ids\"] = encoded_text[\"input_ids\"].squeeze()\n",
    "        encoded_text[\"attention_mask\"] = encoded_text[\"attention_mask\"].squeeze()\n",
    "        label = torch.tensor(label)\n",
    "\n",
    "        return {\n",
    "            \"input_ids\": encoded_text[\"input_ids\"],\n",
    "            \"attention_mask\": encoded_text[\"attention_mask\"],\n",
    "            \"labels\": label,\n",
    "        }\n",
    "\n",
    "    def get_labels(self):\n",
    "        return self.labels"
   ]
  },
  {
   "cell_type": "code",
   "execution_count": 6,
   "id": "caf0e303",
   "metadata": {
    "execution": {
     "iopub.execute_input": "2022-07-06T12:33:15.277437Z",
     "iopub.status.busy": "2022-07-06T12:33:15.276544Z",
     "iopub.status.idle": "2022-07-06T12:33:15.278401Z",
     "shell.execute_reply": "2022-07-06T12:33:15.278835Z",
     "shell.execute_reply.started": "2022-07-06T12:28:19.894586Z"
    },
    "papermill": {
     "duration": 0.035957,
     "end_time": "2022-07-06T12:33:15.278977",
     "exception": false,
     "start_time": "2022-07-06T12:33:15.243020",
     "status": "completed"
    },
    "tags": []
   },
   "outputs": [],
   "source": [
    "def train(train_set, valid_set, epochs=10, warmup_size=0.1, lr=1e-3, batch_size=16):\n",
    "    model = get_model(model_name)\n",
    "    optim = AdamW(model.parameters(), lr=lr)\n",
    "    scheduler = get_scheduler(\n",
    "        optim, warmup_size, round(len(train_set) / batch_size * epochs)\n",
    "    )\n",
    "    training_args = get_training_args(epochs, batch_size)\n",
    "    trainer = Trainer(\n",
    "        model=model,\n",
    "        args=training_args,\n",
    "        train_dataset=train_set,\n",
    "        eval_dataset=valid_set,\n",
    "        optimizers=[optim, scheduler],\n",
    "        compute_metrics=compute_accuracy,\n",
    "    )\n",
    "    trainer.train()\n",
    "    trainer.save_model()\n",
    "    return trainer"
   ]
  },
  {
   "cell_type": "code",
   "execution_count": 7,
   "id": "71a65ff2",
   "metadata": {
    "execution": {
     "iopub.execute_input": "2022-07-06T12:33:15.340611Z",
     "iopub.status.busy": "2022-07-06T12:33:15.339683Z",
     "iopub.status.idle": "2022-07-06T12:33:15.341647Z",
     "shell.execute_reply": "2022-07-06T12:33:15.342087Z",
     "shell.execute_reply.started": "2022-07-06T12:28:19.914154Z"
    },
    "papermill": {
     "duration": 0.035988,
     "end_time": "2022-07-06T12:33:15.342229",
     "exception": false,
     "start_time": "2022-07-06T12:33:15.306241",
     "status": "completed"
    },
    "tags": []
   },
   "outputs": [],
   "source": [
    "def get_model(pretrained_checkpoint):\n",
    "    model = AutoModelForSequenceClassification.from_pretrained(\n",
    "        pretrained_checkpoint, num_labels=6\n",
    "    )\n",
    "    return model.to(device)"
   ]
  },
  {
   "cell_type": "code",
   "execution_count": 8,
   "id": "36e25a55",
   "metadata": {
    "execution": {
     "iopub.execute_input": "2022-07-06T12:33:15.408314Z",
     "iopub.status.busy": "2022-07-06T12:33:15.407313Z",
     "iopub.status.idle": "2022-07-06T12:33:15.409085Z",
     "shell.execute_reply": "2022-07-06T12:33:15.409494Z",
     "shell.execute_reply.started": "2022-07-06T12:28:19.923597Z"
    },
    "papermill": {
     "duration": 0.038911,
     "end_time": "2022-07-06T12:33:15.409632",
     "exception": false,
     "start_time": "2022-07-06T12:33:15.370721",
     "status": "completed"
    },
    "tags": []
   },
   "outputs": [],
   "source": [
    "os.environ[\"WANDB_DISABLED\"] = \"true\"\n",
    "\n",
    "\n",
    "def get_scheduler(optimizer, warmup_size, total_steps):\n",
    "    scheduler = get_cosine_schedule_with_warmup(\n",
    "        optimizer,\n",
    "        num_warmup_steps=round(total_steps * warmup_size),\n",
    "        num_training_steps=total_steps,\n",
    "    )\n",
    "    return scheduler\n",
    "\n",
    "\n",
    "def get_training_args(epochs, batch_size):\n",
    "    return TrainingArguments(\n",
    "        output_dir=\"./b\",\n",
    "        num_train_epochs=epochs,\n",
    "        per_device_train_batch_size=batch_size,\n",
    "        logging_steps=50,\n",
    "        fp16=False,\n",
    "        evaluation_strategy=\"epoch\",\n",
    "        eval_accumulation_steps=1,\n",
    "        report_to=None,\n",
    "        save_total_limit=1,\n",
    "        load_best_model_at_end=True\n",
    "    )\n",
    "\n",
    "\n",
    "def compute_accuracy(pred):\n",
    "    labels = pred.label_ids\n",
    "    preds = pred.predictions.argmax(-1)\n",
    "    acc = accuracy_score(labels, preds)\n",
    "    return {\"accuracy\": acc}\n",
    "\n"
   ]
  },
  {
   "cell_type": "code",
   "execution_count": 9,
   "id": "13fde30c",
   "metadata": {
    "execution": {
     "iopub.execute_input": "2022-07-06T12:33:15.466558Z",
     "iopub.status.busy": "2022-07-06T12:33:15.465734Z",
     "iopub.status.idle": "2022-07-06T12:33:15.469626Z",
     "shell.execute_reply": "2022-07-06T12:33:15.470074Z",
     "shell.execute_reply.started": "2022-07-06T12:28:19.945650Z"
    },
    "papermill": {
     "duration": 0.033746,
     "end_time": "2022-07-06T12:33:15.470215",
     "exception": false,
     "start_time": "2022-07-06T12:33:15.436469",
     "status": "completed"
    },
    "tags": []
   },
   "outputs": [],
   "source": [
    "lr = 2e-5\n",
    "epochs =  7\n",
    "batch_size = 8\n",
    "max_seq_len = 512"
   ]
  },
  {
   "cell_type": "code",
   "execution_count": 10,
   "id": "243be245",
   "metadata": {
    "execution": {
     "iopub.execute_input": "2022-07-06T12:33:15.531092Z",
     "iopub.status.busy": "2022-07-06T12:33:15.530173Z",
     "iopub.status.idle": "2022-07-06T12:33:15.531837Z",
     "shell.execute_reply": "2022-07-06T12:33:15.532368Z",
     "shell.execute_reply.started": "2022-07-06T12:28:19.957415Z"
    },
    "papermill": {
     "duration": 0.035497,
     "end_time": "2022-07-06T12:33:15.532505",
     "exception": false,
     "start_time": "2022-07-06T12:33:15.497008",
     "status": "completed"
    },
    "tags": []
   },
   "outputs": [],
   "source": [
    "def split_valid(df, frac=0.02):\n",
    "    \n",
    "    val = pd.DataFrame()\n",
    "    val[\"text\"] = \"\"\n",
    "    val[\"label\"] = -1\n",
    "    \n",
    "    for i in df.label.unique():\n",
    "        val = pd.concat([val, df[df.label == i].sample(frac=frac)])\n",
    "        \n",
    "    return df[~df.index.isin(val.index)].reset_index(drop=True) , val.reset_index(drop=True)"
   ]
  },
  {
   "cell_type": "code",
   "execution_count": 11,
   "id": "2fcbd064",
   "metadata": {
    "execution": {
     "iopub.execute_input": "2022-07-06T12:33:15.590400Z",
     "iopub.status.busy": "2022-07-06T12:33:15.589542Z",
     "iopub.status.idle": "2022-07-06T12:33:15.591374Z",
     "shell.execute_reply": "2022-07-06T12:33:15.591820Z",
     "shell.execute_reply.started": "2022-07-06T12:28:19.972356Z"
    },
    "papermill": {
     "duration": 0.032723,
     "end_time": "2022-07-06T12:33:15.591978",
     "exception": false,
     "start_time": "2022-07-06T12:33:15.559255",
     "status": "completed"
    },
    "tags": []
   },
   "outputs": [],
   "source": [
    "# train_set_df = pd.read_csv(\"../input/newdatasets/mike_20_june_new (1).csv\")\n",
    "# train_set_df"
   ]
  },
  {
   "cell_type": "code",
   "execution_count": 12,
   "id": "c696b56f",
   "metadata": {
    "execution": {
     "iopub.execute_input": "2022-07-06T12:33:15.650128Z",
     "iopub.status.busy": "2022-07-06T12:33:15.649590Z",
     "iopub.status.idle": "2022-07-06T12:33:15.667950Z",
     "shell.execute_reply": "2022-07-06T12:33:15.667512Z",
     "shell.execute_reply.started": "2022-07-06T12:28:19.981324Z"
    },
    "papermill": {
     "duration": 0.049623,
     "end_time": "2022-07-06T12:33:15.668135",
     "exception": false,
     "start_time": "2022-07-06T12:33:15.618512",
     "status": "completed"
    },
    "tags": []
   },
   "outputs": [],
   "source": [
    "new=pd.read_csv(\"../input/lingua/fr_lingua.csv\")"
   ]
  },
  {
   "cell_type": "code",
   "execution_count": 13,
   "id": "8990f3af",
   "metadata": {
    "execution": {
     "iopub.execute_input": "2022-07-06T12:33:15.727000Z",
     "iopub.status.busy": "2022-07-06T12:33:15.726166Z",
     "iopub.status.idle": "2022-07-06T12:33:15.728007Z",
     "shell.execute_reply": "2022-07-06T12:33:15.728413Z",
     "shell.execute_reply.started": "2022-07-06T12:28:20.004954Z"
    },
    "papermill": {
     "duration": 0.032477,
     "end_time": "2022-07-06T12:33:15.728548",
     "exception": false,
     "start_time": "2022-07-06T12:33:15.696071",
     "status": "completed"
    },
    "tags": []
   },
   "outputs": [],
   "source": [
    "new.columns=[\"text\",\"label\"]"
   ]
  },
  {
   "cell_type": "code",
   "execution_count": 14,
   "id": "43995c8e",
   "metadata": {
    "execution": {
     "iopub.execute_input": "2022-07-06T12:33:15.787099Z",
     "iopub.status.busy": "2022-07-06T12:33:15.786418Z",
     "iopub.status.idle": "2022-07-06T12:33:15.809276Z",
     "shell.execute_reply": "2022-07-06T12:33:15.808785Z",
     "shell.execute_reply.started": "2022-07-06T12:28:20.018636Z"
    },
    "papermill": {
     "duration": 0.054253,
     "end_time": "2022-07-06T12:33:15.809398",
     "exception": false,
     "start_time": "2022-07-06T12:33:15.755145",
     "status": "completed"
    },
    "tags": []
   },
   "outputs": [
    {
     "data": {
      "text/plain": [
       "((315, 2),\n",
       "                                                 text label\n",
       " 0  Il était une fois un prince qui voulait épouse...    A2\n",
       " 1  Il fit le tour de la Terre pour en trouver une...    B1)"
      ]
     },
     "execution_count": 14,
     "metadata": {},
     "output_type": "execute_result"
    }
   ],
   "source": [
    "french=pd.read_csv(\"../input/frenchcefr/french dataset.csv\")\n",
    "french=french[[\"text\",\"label\"]]\n",
    "french.shape,french.head(2)\n"
   ]
  },
  {
   "cell_type": "code",
   "execution_count": 15,
   "id": "047e82a8",
   "metadata": {
    "execution": {
     "iopub.execute_input": "2022-07-06T12:33:15.869590Z",
     "iopub.status.busy": "2022-07-06T12:33:15.868766Z",
     "iopub.status.idle": "2022-07-06T12:33:15.871341Z",
     "shell.execute_reply": "2022-07-06T12:33:15.870849Z",
     "shell.execute_reply.started": "2022-07-06T12:28:20.042703Z"
    },
    "papermill": {
     "duration": 0.033526,
     "end_time": "2022-07-06T12:33:15.871458",
     "exception": false,
     "start_time": "2022-07-06T12:33:15.837932",
     "status": "completed"
    },
    "tags": []
   },
   "outputs": [],
   "source": [
    "# train_set_df=pd.concat([french, mike_20_june_new,new], ignore_index=True)"
   ]
  },
  {
   "cell_type": "code",
   "execution_count": 16,
   "id": "36fa41d3",
   "metadata": {
    "execution": {
     "iopub.execute_input": "2022-07-06T12:33:15.932658Z",
     "iopub.status.busy": "2022-07-06T12:33:15.932121Z",
     "iopub.status.idle": "2022-07-06T12:33:16.153221Z",
     "shell.execute_reply": "2022-07-06T12:33:16.152649Z",
     "shell.execute_reply.started": "2022-07-06T12:28:20.059676Z"
    },
    "papermill": {
     "duration": 0.254801,
     "end_time": "2022-07-06T12:33:16.153388",
     "exception": false,
     "start_time": "2022-07-06T12:33:15.898587",
     "status": "completed"
    },
    "tags": []
   },
   "outputs": [],
   "source": [
    "from sklearn import preprocessing\n",
    "le = preprocessing.LabelEncoder()\n",
    "\n",
    "train_set_df = pd.read_csv(\"../input/eng-data/translated.csv\")\n",
    "train_set_df = train_set_df[train_set_df.label != \"XX\"]\n",
    "train_set_df.columns=[\"txt\",\"label\",\"text\"]\n",
    "train_set_df = train_set_df[[\"text\", \"label\"]]\n",
    "\n",
    "train_set_df.text = train_set_df.text.apply(lambda x: x.replace(\"\\r\", \"\").replace(\"\\n\", \" \"))\n",
    "\n",
    "extra_df = pd.read_csv(\"../input/frenchcefr/french_mike_june.csv\")\n",
    "extra_df.columns = [\"text\", \"label\", \"label_\"]\n",
    "extra_df = extra_df[[\"text\", \"label\"]]\n",
    "extra_df.text = extra_df.text.astype(str)\n",
    "#train_set_df = pd.concat([train_set_df, extra_df]).reset_index(drop=True)\n",
    "\n",
    "train_set_df, valid_set_df = split_valid(train_set_df)"
   ]
  },
  {
   "cell_type": "code",
   "execution_count": 17,
   "id": "104e0449",
   "metadata": {
    "execution": {
     "iopub.execute_input": "2022-07-06T12:33:16.213959Z",
     "iopub.status.busy": "2022-07-06T12:33:16.213365Z",
     "iopub.status.idle": "2022-07-06T12:33:16.216010Z",
     "shell.execute_reply": "2022-07-06T12:33:16.216420Z",
     "shell.execute_reply.started": "2022-07-06T12:28:20.214138Z"
    },
    "papermill": {
     "duration": 0.034918,
     "end_time": "2022-07-06T12:33:16.216547",
     "exception": false,
     "start_time": "2022-07-06T12:33:16.181629",
     "status": "completed"
    },
    "tags": []
   },
   "outputs": [
    {
     "data": {
      "text/plain": [
       "array(['B2', 'A2', 'C1', 'B1', 'A1', 'C2'], dtype=object)"
      ]
     },
     "execution_count": 17,
     "metadata": {},
     "output_type": "execute_result"
    }
   ],
   "source": [
    "train_set_df.label.unique()"
   ]
  },
  {
   "cell_type": "code",
   "execution_count": 18,
   "id": "fe4c3ecb",
   "metadata": {
    "execution": {
     "iopub.execute_input": "2022-07-06T12:33:16.275838Z",
     "iopub.status.busy": "2022-07-06T12:33:16.275068Z",
     "iopub.status.idle": "2022-07-06T12:33:16.277020Z",
     "shell.execute_reply": "2022-07-06T12:33:16.277442Z",
     "shell.execute_reply.started": "2022-07-06T12:28:20.226637Z"
    },
    "papermill": {
     "duration": 0.034297,
     "end_time": "2022-07-06T12:33:16.277560",
     "exception": false,
     "start_time": "2022-07-06T12:33:16.243263",
     "status": "completed"
    },
    "tags": []
   },
   "outputs": [],
   "source": [
    "train_set_df.label = le.fit_transform(train_set_df.label)\n",
    "valid_set_df.label = le.transform(valid_set_df.label)"
   ]
  },
  {
   "cell_type": "code",
   "execution_count": 19,
   "id": "ed08678a",
   "metadata": {
    "execution": {
     "iopub.execute_input": "2022-07-06T12:33:16.337940Z",
     "iopub.status.busy": "2022-07-06T12:33:16.337308Z",
     "iopub.status.idle": "2022-07-06T12:33:16.339844Z",
     "shell.execute_reply": "2022-07-06T12:33:16.340296Z",
     "shell.execute_reply.started": "2022-07-06T12:28:20.243161Z"
    },
    "papermill": {
     "duration": 0.035915,
     "end_time": "2022-07-06T12:33:16.340425",
     "exception": false,
     "start_time": "2022-07-06T12:33:16.304510",
     "status": "completed"
    },
    "tags": []
   },
   "outputs": [
    {
     "data": {
      "text/plain": [
       "6"
      ]
     },
     "execution_count": 19,
     "metadata": {},
     "output_type": "execute_result"
    }
   ],
   "source": [
    "train_set_df.label.nunique()"
   ]
  },
  {
   "cell_type": "code",
   "execution_count": 20,
   "id": "421b48aa",
   "metadata": {
    "execution": {
     "iopub.execute_input": "2022-07-06T12:33:16.410906Z",
     "iopub.status.busy": "2022-07-06T12:33:16.409765Z",
     "iopub.status.idle": "2022-07-06T12:33:16.420407Z",
     "shell.execute_reply": "2022-07-06T12:33:16.421446Z",
     "shell.execute_reply.started": "2022-07-06T12:28:20.267715Z"
    },
    "papermill": {
     "duration": 0.053582,
     "end_time": "2022-07-06T12:33:16.421729",
     "exception": false,
     "start_time": "2022-07-06T12:33:16.368147",
     "status": "completed"
    },
    "tags": []
   },
   "outputs": [
    {
     "data": {
      "text/plain": [
       "0    282\n",
       "3    280\n",
       "1    267\n",
       "4    236\n",
       "2    201\n",
       "5    198\n",
       "Name: label, dtype: int64"
      ]
     },
     "execution_count": 20,
     "metadata": {},
     "output_type": "execute_result"
    }
   ],
   "source": [
    "train_set_df.label.value_counts()"
   ]
  },
  {
   "cell_type": "code",
   "execution_count": 21,
   "id": "1a69420b",
   "metadata": {
    "execution": {
     "iopub.execute_input": "2022-07-06T12:33:16.532620Z",
     "iopub.status.busy": "2022-07-06T12:33:16.531713Z",
     "iopub.status.idle": "2022-07-06T12:33:16.535862Z",
     "shell.execute_reply": "2022-07-06T12:33:16.536625Z",
     "shell.execute_reply.started": "2022-07-06T12:28:20.284488Z"
    },
    "papermill": {
     "duration": 0.062927,
     "end_time": "2022-07-06T12:33:16.536773",
     "exception": false,
     "start_time": "2022-07-06T12:33:16.473846",
     "status": "completed"
    },
    "tags": []
   },
   "outputs": [
    {
     "data": {
      "text/plain": [
       "6"
      ]
     },
     "execution_count": 21,
     "metadata": {},
     "output_type": "execute_result"
    }
   ],
   "source": [
    "valid_set_df.label.nunique()"
   ]
  },
  {
   "cell_type": "code",
   "execution_count": 22,
   "id": "9a1abad8",
   "metadata": {
    "execution": {
     "iopub.execute_input": "2022-07-06T12:33:16.660736Z",
     "iopub.status.busy": "2022-07-06T12:33:16.659752Z",
     "iopub.status.idle": "2022-07-06T12:33:16.661595Z",
     "shell.execute_reply": "2022-07-06T12:33:16.662234Z",
     "shell.execute_reply.started": "2022-07-06T12:28:20.304782Z"
    },
    "papermill": {
     "duration": 0.063229,
     "end_time": "2022-07-06T12:33:16.662422",
     "exception": false,
     "start_time": "2022-07-06T12:33:16.599193",
     "status": "completed"
    },
    "tags": []
   },
   "outputs": [],
   "source": [
    "# train_set_df = train_set_df.sample(frac=1)"
   ]
  },
  {
   "cell_type": "code",
   "execution_count": 23,
   "id": "79d6e374",
   "metadata": {
    "execution": {
     "iopub.execute_input": "2022-07-06T12:33:16.762256Z",
     "iopub.status.busy": "2022-07-06T12:33:16.761297Z",
     "iopub.status.idle": "2022-07-06T12:33:16.763437Z",
     "shell.execute_reply": "2022-07-06T12:33:16.764354Z",
     "shell.execute_reply.started": "2022-07-06T12:28:20.313412Z"
    },
    "papermill": {
     "duration": 0.056373,
     "end_time": "2022-07-06T12:33:16.764542",
     "exception": false,
     "start_time": "2022-07-06T12:33:16.708169",
     "status": "completed"
    },
    "tags": []
   },
   "outputs": [],
   "source": [
    "from tqdm import tqdm \n",
    "\n",
    "def predict(model, text):\n",
    "    \n",
    "    preds = []\n",
    "    \n",
    "    for i in tqdm(range(len(text))):\n",
    "        tokenized = tokenizer(text[i:i+1], return_tensors=\"pt\", truncation=True, max_length=512).to(\"cuda\")\n",
    "        pred = model(**tokenized)\n",
    "        preds.append(pred.logits.argmax(-1).item())\n",
    "\n",
    "    return preds"
   ]
  },
  {
   "cell_type": "code",
   "execution_count": 24,
   "id": "06fd6244",
   "metadata": {
    "execution": {
     "iopub.execute_input": "2022-07-06T12:33:16.864380Z",
     "iopub.status.busy": "2022-07-06T12:33:16.863529Z",
     "iopub.status.idle": "2022-07-06T12:46:13.107059Z",
     "shell.execute_reply": "2022-07-06T12:46:13.106357Z"
    },
    "papermill": {
     "duration": 776.29609,
     "end_time": "2022-07-06T12:46:13.107252",
     "exception": false,
     "start_time": "2022-07-06T12:33:16.811162",
     "status": "completed"
    },
    "tags": []
   },
   "outputs": [
    {
     "name": "stdout",
     "output_type": "stream",
     "text": [
      "{}\n",
      "{}\n"
     ]
    },
    {
     "data": {
      "application/vnd.jupyter.widget-view+json": {
       "model_id": "001c709ee7e84d5ab26d30184eab4216",
       "version_major": 2,
       "version_minor": 0
      },
      "text/plain": [
       "Downloading:   0%|          | 0.00/445M [00:00<?, ?B/s]"
      ]
     },
     "metadata": {},
     "output_type": "display_data"
    },
    {
     "name": "stderr",
     "output_type": "stream",
     "text": [
      "Some weights of the model checkpoint at dbmdz/bert-base-french-europeana-cased were not used when initializing BertForSequenceClassification: ['cls.predictions.bias', 'cls.predictions.transform.dense.weight', 'cls.predictions.transform.dense.bias', 'cls.predictions.transform.LayerNorm.weight', 'cls.predictions.transform.LayerNorm.bias', 'cls.predictions.decoder.weight', 'cls.predictions.decoder.bias', 'cls.seq_relationship.weight', 'cls.seq_relationship.bias']\n",
      "- This IS expected if you are initializing BertForSequenceClassification from the checkpoint of a model trained on another task or with another architecture (e.g. initializing a BertForSequenceClassification model from a BertForPreTraining model).\n",
      "- This IS NOT expected if you are initializing BertForSequenceClassification from the checkpoint of a model that you expect to be exactly identical (initializing a BertForSequenceClassification model from a BertForSequenceClassification model).\n",
      "Some weights of BertForSequenceClassification were not initialized from the model checkpoint at dbmdz/bert-base-french-europeana-cased and are newly initialized: ['classifier.weight', 'classifier.bias']\n",
      "You should probably TRAIN this model on a down-stream task to be able to use it for predictions and inference.\n",
      "Using the `WAND_DISABLED` environment variable is deprecated and will be removed in v5. Use the --report_to flag to control the integrations used for logging result (for instance --report_to none).\n"
     ]
    },
    {
     "data": {
      "text/html": [
       "\n",
       "    <div>\n",
       "        <style>\n",
       "            /* Turns off some styling */\n",
       "            progress {\n",
       "                /* gets rid of default border in Firefox and Opera. */\n",
       "                border: none;\n",
       "                /* Needs to be in here for Safari polyfill so background images work as expected. */\n",
       "                background-size: auto;\n",
       "            }\n",
       "        </style>\n",
       "      \n",
       "      <progress value='1281' max='1281' style='width:300px; height:20px; vertical-align: middle;'></progress>\n",
       "      [1281/1281 12:34, Epoch 7/7]\n",
       "    </div>\n",
       "    <table border=\"1\" class=\"dataframe\">\n",
       "  <thead>\n",
       "    <tr style=\"text-align: left;\">\n",
       "      <th>Epoch</th>\n",
       "      <th>Training Loss</th>\n",
       "      <th>Validation Loss</th>\n",
       "      <th>Accuracy</th>\n",
       "      <th>Runtime</th>\n",
       "      <th>Samples Per Second</th>\n",
       "    </tr>\n",
       "  </thead>\n",
       "  <tbody>\n",
       "    <tr>\n",
       "      <td>1</td>\n",
       "      <td>1.334200</td>\n",
       "      <td>1.003190</td>\n",
       "      <td>0.566667</td>\n",
       "      <td>0.686500</td>\n",
       "      <td>43.701000</td>\n",
       "    </tr>\n",
       "    <tr>\n",
       "      <td>2</td>\n",
       "      <td>0.899800</td>\n",
       "      <td>0.850856</td>\n",
       "      <td>0.500000</td>\n",
       "      <td>0.768600</td>\n",
       "      <td>39.032000</td>\n",
       "    </tr>\n",
       "    <tr>\n",
       "      <td>3</td>\n",
       "      <td>0.765800</td>\n",
       "      <td>0.852130</td>\n",
       "      <td>0.566667</td>\n",
       "      <td>0.776200</td>\n",
       "      <td>38.650000</td>\n",
       "    </tr>\n",
       "    <tr>\n",
       "      <td>4</td>\n",
       "      <td>0.548600</td>\n",
       "      <td>0.921078</td>\n",
       "      <td>0.666667</td>\n",
       "      <td>0.680400</td>\n",
       "      <td>44.093000</td>\n",
       "    </tr>\n",
       "    <tr>\n",
       "      <td>5</td>\n",
       "      <td>0.337700</td>\n",
       "      <td>1.219767</td>\n",
       "      <td>0.600000</td>\n",
       "      <td>0.692700</td>\n",
       "      <td>43.310000</td>\n",
       "    </tr>\n",
       "    <tr>\n",
       "      <td>6</td>\n",
       "      <td>0.186600</td>\n",
       "      <td>1.314126</td>\n",
       "      <td>0.566667</td>\n",
       "      <td>0.822400</td>\n",
       "      <td>36.477000</td>\n",
       "    </tr>\n",
       "    <tr>\n",
       "      <td>7</td>\n",
       "      <td>0.112000</td>\n",
       "      <td>1.328014</td>\n",
       "      <td>0.600000</td>\n",
       "      <td>0.681600</td>\n",
       "      <td>44.017000</td>\n",
       "    </tr>\n",
       "  </tbody>\n",
       "</table><p>"
      ],
      "text/plain": [
       "<IPython.core.display.HTML object>"
      ]
     },
     "metadata": {},
     "output_type": "display_data"
    }
   ],
   "source": [
    "train_set = CEFRDataset(train_set_df[\"text\"], train_set_df[\"label\"])\n",
    "valid_set = CEFRDataset(valid_set_df[\"text\"], valid_set_df[\"label\"])\n",
    "\n",
    "\n",
    "trainer_second = train(train_set, valid_set, epochs=epochs, warmup_size=0.2, lr=lr, batch_size=batch_size)\n",
    "model = trainer_second.model"
   ]
  },
  {
   "cell_type": "code",
   "execution_count": 25,
   "id": "20dca131",
   "metadata": {
    "execution": {
     "iopub.execute_input": "2022-07-06T12:46:13.182800Z",
     "iopub.status.busy": "2022-07-06T12:46:13.182205Z",
     "iopub.status.idle": "2022-07-06T12:46:13.869047Z",
     "shell.execute_reply": "2022-07-06T12:46:13.869509Z"
    },
    "papermill": {
     "duration": 0.726364,
     "end_time": "2022-07-06T12:46:13.869658",
     "exception": false,
     "start_time": "2022-07-06T12:46:13.143294",
     "status": "completed"
    },
    "tags": []
   },
   "outputs": [
    {
     "name": "stderr",
     "output_type": "stream",
     "text": [
      "100%|██████████| 30/30 [00:00<00:00, 44.32it/s]\n"
     ]
    }
   ],
   "source": [
    "valid_set_df[\"preds\"] = train_set.encoder.inverse_transform(predict(model, valid_set_df.text.tolist()))\n",
    "valid_set_df.columns = [\"text\", \"cefr\", \"preds\",] "
   ]
  },
  {
   "cell_type": "code",
   "execution_count": 26,
   "id": "ed56d4cc",
   "metadata": {
    "execution": {
     "iopub.execute_input": "2022-07-06T12:46:13.949299Z",
     "iopub.status.busy": "2022-07-06T12:46:13.948388Z",
     "iopub.status.idle": "2022-07-06T12:46:15.701956Z",
     "shell.execute_reply": "2022-07-06T12:46:15.701426Z"
    },
    "papermill": {
     "duration": 1.793847,
     "end_time": "2022-07-06T12:46:15.702089",
     "exception": false,
     "start_time": "2022-07-06T12:46:13.908242",
     "status": "completed"
    },
    "tags": []
   },
   "outputs": [
    {
     "name": "stderr",
     "output_type": "stream",
     "text": [
      "100%|██████████| 111/111 [00:01<00:00, 64.14it/s]\n"
     ]
    }
   ],
   "source": [
    "lingua = pd.read_csv(\"../input/lingua/fr_lingua.csv\")\n",
    "lingua[\"preds\"] = train_set.encoder.inverse_transform(predict(model, lingua.text.tolist()))"
   ]
  },
  {
   "cell_type": "code",
   "execution_count": 27,
   "id": "ec55f75e",
   "metadata": {
    "execution": {
     "iopub.execute_input": "2022-07-06T12:46:15.785668Z",
     "iopub.status.busy": "2022-07-06T12:46:15.785122Z",
     "iopub.status.idle": "2022-07-06T12:46:15.790378Z",
     "shell.execute_reply": "2022-07-06T12:46:15.789649Z"
    },
    "papermill": {
     "duration": 0.050343,
     "end_time": "2022-07-06T12:46:15.790502",
     "exception": false,
     "start_time": "2022-07-06T12:46:15.740159",
     "status": "completed"
    },
    "tags": []
   },
   "outputs": [
    {
     "data": {
      "text/plain": [
       "B1    60\n",
       "A2    26\n",
       "A1    13\n",
       "B2    12\n",
       "Name: cefr, dtype: int64"
      ]
     },
     "execution_count": 27,
     "metadata": {},
     "output_type": "execute_result"
    }
   ],
   "source": [
    "lingua.cefr.value_counts()"
   ]
  },
  {
   "cell_type": "code",
   "execution_count": 28,
   "id": "51361cba",
   "metadata": {
    "execution": {
     "iopub.execute_input": "2022-07-06T12:46:15.872381Z",
     "iopub.status.busy": "2022-07-06T12:46:15.871404Z",
     "iopub.status.idle": "2022-07-06T12:46:15.874605Z",
     "shell.execute_reply": "2022-07-06T12:46:15.875414Z"
    },
    "papermill": {
     "duration": 0.046781,
     "end_time": "2022-07-06T12:46:15.875545",
     "exception": false,
     "start_time": "2022-07-06T12:46:15.828764",
     "status": "completed"
    },
    "tags": []
   },
   "outputs": [
    {
     "data": {
      "text/plain": [
       "array([0, 1, 2, 3, 4, 5])"
      ]
     },
     "execution_count": 28,
     "metadata": {},
     "output_type": "execute_result"
    }
   ],
   "source": [
    "lingua.preds.unique()"
   ]
  },
  {
   "cell_type": "code",
   "execution_count": 29,
   "id": "2300c050",
   "metadata": {
    "execution": {
     "iopub.execute_input": "2022-07-06T12:46:15.959765Z",
     "iopub.status.busy": "2022-07-06T12:46:15.958026Z",
     "iopub.status.idle": "2022-07-06T12:46:15.960362Z",
     "shell.execute_reply": "2022-07-06T12:46:15.960848Z"
    },
    "papermill": {
     "duration": 0.046886,
     "end_time": "2022-07-06T12:46:15.960988",
     "exception": false,
     "start_time": "2022-07-06T12:46:15.914102",
     "status": "completed"
    },
    "tags": []
   },
   "outputs": [],
   "source": [
    "def compute_average_distance(df, col_name=\"cefr\") :\n",
    "    \n",
    "    labels = [\"A1\", \"A2\", \"B1\", \"B2\", \"C1\", \"C2\"]\n",
    "    return (df[col_name].apply(lambda x: labels.index(x)) - df.preds.apply(lambda x: labels.index(x))).abs().mean()\n"
   ]
  },
  {
   "cell_type": "code",
   "execution_count": 30,
   "id": "7d3d768c",
   "metadata": {
    "execution": {
     "iopub.execute_input": "2022-07-06T12:46:16.047270Z",
     "iopub.status.busy": "2022-07-06T12:46:16.046615Z",
     "iopub.status.idle": "2022-07-06T12:46:16.049444Z",
     "shell.execute_reply": "2022-07-06T12:46:16.049918Z"
    },
    "papermill": {
     "duration": 0.049607,
     "end_time": "2022-07-06T12:46:16.050098",
     "exception": false,
     "start_time": "2022-07-06T12:46:16.000491",
     "status": "completed"
    },
    "tags": []
   },
   "outputs": [
    {
     "data": {
      "text/plain": [
       "1    74\n",
       "2    23\n",
       "0     5\n",
       "3     5\n",
       "4     3\n",
       "5     1\n",
       "Name: preds, dtype: int64"
      ]
     },
     "execution_count": 30,
     "metadata": {},
     "output_type": "execute_result"
    }
   ],
   "source": [
    "lingua.preds.value_counts()"
   ]
  },
  {
   "cell_type": "code",
   "execution_count": 31,
   "id": "23d1f78c",
   "metadata": {
    "execution": {
     "iopub.execute_input": "2022-07-06T12:46:16.134891Z",
     "iopub.status.busy": "2022-07-06T12:46:16.133906Z",
     "iopub.status.idle": "2022-07-06T12:46:16.136028Z",
     "shell.execute_reply": "2022-07-06T12:46:16.136448Z"
    },
    "papermill": {
     "duration": 0.045916,
     "end_time": "2022-07-06T12:46:16.136581",
     "exception": false,
     "start_time": "2022-07-06T12:46:16.090665",
     "status": "completed"
    },
    "tags": []
   },
   "outputs": [],
   "source": [
    "lingua[\"preds\"] = le.inverse_transform(lingua.preds)"
   ]
  },
  {
   "cell_type": "code",
   "execution_count": 32,
   "id": "cb4d5bd6",
   "metadata": {
    "execution": {
     "iopub.execute_input": "2022-07-06T12:46:16.222560Z",
     "iopub.status.busy": "2022-07-06T12:46:16.221909Z",
     "iopub.status.idle": "2022-07-06T12:46:16.224644Z",
     "shell.execute_reply": "2022-07-06T12:46:16.225068Z"
    },
    "papermill": {
     "duration": 0.048521,
     "end_time": "2022-07-06T12:46:16.225208",
     "exception": false,
     "start_time": "2022-07-06T12:46:16.176687",
     "status": "completed"
    },
    "tags": []
   },
   "outputs": [
    {
     "data": {
      "text/plain": [
       "A2    74\n",
       "B1    23\n",
       "A1     5\n",
       "B2     5\n",
       "C1     3\n",
       "C2     1\n",
       "Name: preds, dtype: int64"
      ]
     },
     "execution_count": 32,
     "metadata": {},
     "output_type": "execute_result"
    }
   ],
   "source": [
    "lingua.preds.value_counts()"
   ]
  },
  {
   "cell_type": "code",
   "execution_count": 33,
   "id": "93acb127",
   "metadata": {
    "execution": {
     "iopub.execute_input": "2022-07-06T12:46:16.312414Z",
     "iopub.status.busy": "2022-07-06T12:46:16.311707Z",
     "iopub.status.idle": "2022-07-06T12:46:16.314965Z",
     "shell.execute_reply": "2022-07-06T12:46:16.315563Z"
    },
    "papermill": {
     "duration": 0.051273,
     "end_time": "2022-07-06T12:46:16.315741",
     "exception": false,
     "start_time": "2022-07-06T12:46:16.264468",
     "status": "completed"
    },
    "tags": []
   },
   "outputs": [
    {
     "name": "stdout",
     "output_type": "stream",
     "text": [
      "Distance: \n",
      "0.7027027027027027\n",
      "Lingua accuracy: 0.3783783783783784\n"
     ]
    }
   ],
   "source": [
    "print(\"Distance: \")\n",
    "print(compute_average_distance(lingua, \"cefr\"))\n",
    "\n",
    "print(f\"Lingua accuracy: {(lingua['preds'] == lingua['cefr']).mean()}\")"
   ]
  },
  {
   "cell_type": "markdown",
   "id": "0b317212",
   "metadata": {
    "papermill": {
     "duration": 0.043521,
     "end_time": "2022-07-06T12:46:16.400685",
     "exception": false,
     "start_time": "2022-07-06T12:46:16.357164",
     "status": "completed"
    },
    "tags": []
   },
   "source": [
    "****"
   ]
  },
  {
   "cell_type": "markdown",
   "id": "7eacb14c",
   "metadata": {
    "papermill": {
     "duration": 0.040041,
     "end_time": "2022-07-06T12:46:16.481108",
     "exception": false,
     "start_time": "2022-07-06T12:46:16.441067",
     "status": "completed"
    },
    "tags": []
   },
   "source": [
    "****"
   ]
  },
  {
   "cell_type": "code",
   "execution_count": 34,
   "id": "ac8bdc25",
   "metadata": {
    "execution": {
     "iopub.execute_input": "2022-07-06T12:46:16.606330Z",
     "iopub.status.busy": "2022-07-06T12:46:16.605617Z",
     "iopub.status.idle": "2022-07-06T12:46:16.608449Z",
     "shell.execute_reply": "2022-07-06T12:46:16.608872Z"
    },
    "papermill": {
     "duration": 0.087688,
     "end_time": "2022-07-06T12:46:16.609041",
     "exception": false,
     "start_time": "2022-07-06T12:46:16.521353",
     "status": "completed"
    },
    "tags": []
   },
   "outputs": [
    {
     "data": {
      "text/plain": [
       "A2    74\n",
       "B1    23\n",
       "B2     9\n",
       "A1     5\n",
       "Name: Predss, dtype: int64"
      ]
     },
     "execution_count": 34,
     "metadata": {},
     "output_type": "execute_result"
    }
   ],
   "source": [
    "for i in range(lingua.shape[0]):\n",
    "    if (lingua.loc[i,\"preds\"]==\"C1\") | (lingua.loc[i,\"preds\"]==\"C2\") :\n",
    "        lingua.loc[i,\"Predss\"]=\"B2\"\n",
    "    else :\n",
    "        lingua.loc[i,\"Predss\"]= lingua.loc[i,\"preds\"]\n",
    "lingua[\"Predss\"].value_counts()"
   ]
  },
  {
   "cell_type": "code",
   "execution_count": 35,
   "id": "90f317ba",
   "metadata": {
    "execution": {
     "iopub.execute_input": "2022-07-06T12:46:16.697004Z",
     "iopub.status.busy": "2022-07-06T12:46:16.696419Z",
     "iopub.status.idle": "2022-07-06T12:46:16.700307Z",
     "shell.execute_reply": "2022-07-06T12:46:16.700720Z"
    },
    "papermill": {
     "duration": 0.050469,
     "end_time": "2022-07-06T12:46:16.700865",
     "exception": false,
     "start_time": "2022-07-06T12:46:16.650396",
     "status": "completed"
    },
    "tags": []
   },
   "outputs": [
    {
     "name": "stdout",
     "output_type": "stream",
     "text": [
      "Distance: \n",
      "0.7027027027027027\n",
      "Lingua accuracy: 0.3963963963963964\n"
     ]
    }
   ],
   "source": [
    "print(\"Distance: \")\n",
    "print(compute_average_distance(lingua, \"cefr\"))\n",
    "\n",
    "print(f\"Lingua accuracy: {(lingua['Predss'] == lingua['cefr']).mean()}\")"
   ]
  },
  {
   "cell_type": "markdown",
   "id": "6016c54d",
   "metadata": {
    "papermill": {
     "duration": 0.040806,
     "end_time": "2022-07-06T12:46:16.782492",
     "exception": false,
     "start_time": "2022-07-06T12:46:16.741686",
     "status": "completed"
    },
    "tags": []
   },
   "source": [
    "****"
   ]
  },
  {
   "cell_type": "code",
   "execution_count": null,
   "id": "54f1b13a",
   "metadata": {
    "papermill": {
     "duration": 0.040545,
     "end_time": "2022-07-06T12:46:16.863965",
     "exception": false,
     "start_time": "2022-07-06T12:46:16.823420",
     "status": "completed"
    },
    "tags": []
   },
   "outputs": [],
   "source": []
  },
  {
   "cell_type": "code",
   "execution_count": null,
   "id": "ee5d2ae8",
   "metadata": {
    "papermill": {
     "duration": 0.040826,
     "end_time": "2022-07-06T12:46:16.945615",
     "exception": false,
     "start_time": "2022-07-06T12:46:16.904789",
     "status": "completed"
    },
    "tags": []
   },
   "outputs": [],
   "source": []
  },
  {
   "cell_type": "code",
   "execution_count": null,
   "id": "d6724777",
   "metadata": {
    "papermill": {
     "duration": 0.041149,
     "end_time": "2022-07-06T12:46:17.027757",
     "exception": false,
     "start_time": "2022-07-06T12:46:16.986608",
     "status": "completed"
    },
    "tags": []
   },
   "outputs": [],
   "source": []
  },
  {
   "cell_type": "code",
   "execution_count": null,
   "id": "f48e8d03",
   "metadata": {
    "papermill": {
     "duration": 0.041273,
     "end_time": "2022-07-06T12:46:17.109083",
     "exception": false,
     "start_time": "2022-07-06T12:46:17.067810",
     "status": "completed"
    },
    "tags": []
   },
   "outputs": [],
   "source": []
  }
 ],
 "metadata": {
  "kernelspec": {
   "display_name": "Python 3",
   "language": "python",
   "name": "python3"
  },
  "language_info": {
   "codemirror_mode": {
    "name": "ipython",
    "version": 3
   },
   "file_extension": ".py",
   "mimetype": "text/x-python",
   "name": "python",
   "nbconvert_exporter": "python",
   "pygments_lexer": "ipython3",
   "version": "3.7.10"
  },
  "papermill": {
   "default_parameters": {},
   "duration": 805.691229,
   "end_time": "2022-07-06T12:46:20.693067",
   "environment_variables": {},
   "exception": null,
   "input_path": "__notebook__.ipynb",
   "output_path": "__notebook__.ipynb",
   "parameters": {},
   "start_time": "2022-07-06T12:32:55.001838",
   "version": "2.3.3"
  },
  "widgets": {
   "application/vnd.jupyter.widget-state+json": {
    "state": {
     "001c709ee7e84d5ab26d30184eab4216": {
      "model_module": "@jupyter-widgets/controls",
      "model_module_version": "1.5.0",
      "model_name": "HBoxModel",
      "state": {
       "_dom_classes": [],
       "_model_module": "@jupyter-widgets/controls",
       "_model_module_version": "1.5.0",
       "_model_name": "HBoxModel",
       "_view_count": null,
       "_view_module": "@jupyter-widgets/controls",
       "_view_module_version": "1.5.0",
       "_view_name": "HBoxView",
       "box_style": "",
       "children": [
        "IPY_MODEL_08b0d7d2a2c44f8ca02e95c6160fdf50",
        "IPY_MODEL_74639466a64f45188d340c071316f6da",
        "IPY_MODEL_b0ee070263ad4b6fba94990273116c78"
       ],
       "layout": "IPY_MODEL_da42847b0f174b94a4e18554a56c3ce5"
      }
     },
     "01b4e2fbcf4f4a48af997fb32642c8da": {
      "model_module": "@jupyter-widgets/controls",
      "model_module_version": "1.5.0",
      "model_name": "HTMLModel",
      "state": {
       "_dom_classes": [],
       "_model_module": "@jupyter-widgets/controls",
       "_model_module_version": "1.5.0",
       "_model_name": "HTMLModel",
       "_view_count": null,
       "_view_module": "@jupyter-widgets/controls",
       "_view_module_version": "1.5.0",
       "_view_name": "HTMLView",
       "description": "",
       "description_tooltip": null,
       "layout": "IPY_MODEL_02c7be3f0c6349048f6ecadd44e73444",
       "placeholder": "​",
       "style": "IPY_MODEL_86aef8bc9f8444498c4cb041f0ccb725",
       "value": " 420/420 [00:00&lt;00:00, 16.1kB/s]"
      }
     },
     "02c7be3f0c6349048f6ecadd44e73444": {
      "model_module": "@jupyter-widgets/base",
      "model_module_version": "1.2.0",
      "model_name": "LayoutModel",
      "state": {
       "_model_module": "@jupyter-widgets/base",
       "_model_module_version": "1.2.0",
       "_model_name": "LayoutModel",
       "_view_count": null,
       "_view_module": "@jupyter-widgets/base",
       "_view_module_version": "1.2.0",
       "_view_name": "LayoutView",
       "align_content": null,
       "align_items": null,
       "align_self": null,
       "border": null,
       "bottom": null,
       "display": null,
       "flex": null,
       "flex_flow": null,
       "grid_area": null,
       "grid_auto_columns": null,
       "grid_auto_flow": null,
       "grid_auto_rows": null,
       "grid_column": null,
       "grid_gap": null,
       "grid_row": null,
       "grid_template_areas": null,
       "grid_template_columns": null,
       "grid_template_rows": null,
       "height": null,
       "justify_content": null,
       "justify_items": null,
       "left": null,
       "margin": null,
       "max_height": null,
       "max_width": null,
       "min_height": null,
       "min_width": null,
       "object_fit": null,
       "object_position": null,
       "order": null,
       "overflow": null,
       "overflow_x": null,
       "overflow_y": null,
       "padding": null,
       "right": null,
       "top": null,
       "visibility": null,
       "width": null
      }
     },
     "058b54960dd24a3d9740e41a773ba133": {
      "model_module": "@jupyter-widgets/base",
      "model_module_version": "1.2.0",
      "model_name": "LayoutModel",
      "state": {
       "_model_module": "@jupyter-widgets/base",
       "_model_module_version": "1.2.0",
       "_model_name": "LayoutModel",
       "_view_count": null,
       "_view_module": "@jupyter-widgets/base",
       "_view_module_version": "1.2.0",
       "_view_name": "LayoutView",
       "align_content": null,
       "align_items": null,
       "align_self": null,
       "border": null,
       "bottom": null,
       "display": null,
       "flex": null,
       "flex_flow": null,
       "grid_area": null,
       "grid_auto_columns": null,
       "grid_auto_flow": null,
       "grid_auto_rows": null,
       "grid_column": null,
       "grid_gap": null,
       "grid_row": null,
       "grid_template_areas": null,
       "grid_template_columns": null,
       "grid_template_rows": null,
       "height": null,
       "justify_content": null,
       "justify_items": null,
       "left": null,
       "margin": null,
       "max_height": null,
       "max_width": null,
       "min_height": null,
       "min_width": null,
       "object_fit": null,
       "object_position": null,
       "order": null,
       "overflow": null,
       "overflow_x": null,
       "overflow_y": null,
       "padding": null,
       "right": null,
       "top": null,
       "visibility": null,
       "width": null
      }
     },
     "08b0d7d2a2c44f8ca02e95c6160fdf50": {
      "model_module": "@jupyter-widgets/controls",
      "model_module_version": "1.5.0",
      "model_name": "HTMLModel",
      "state": {
       "_dom_classes": [],
       "_model_module": "@jupyter-widgets/controls",
       "_model_module_version": "1.5.0",
       "_model_name": "HTMLModel",
       "_view_count": null,
       "_view_module": "@jupyter-widgets/controls",
       "_view_module_version": "1.5.0",
       "_view_name": "HTMLView",
       "description": "",
       "description_tooltip": null,
       "layout": "IPY_MODEL_b97abd2b4fac4a708a8b4edc823e6b95",
       "placeholder": "​",
       "style": "IPY_MODEL_9ee9c09d5e274e65ba9aa774b0a2e3bd",
       "value": "Downloading: 100%"
      }
     },
     "0ae5f6d2a3314b309385b64c3f226419": {
      "model_module": "@jupyter-widgets/base",
      "model_module_version": "1.2.0",
      "model_name": "LayoutModel",
      "state": {
       "_model_module": "@jupyter-widgets/base",
       "_model_module_version": "1.2.0",
       "_model_name": "LayoutModel",
       "_view_count": null,
       "_view_module": "@jupyter-widgets/base",
       "_view_module_version": "1.2.0",
       "_view_name": "LayoutView",
       "align_content": null,
       "align_items": null,
       "align_self": null,
       "border": null,
       "bottom": null,
       "display": null,
       "flex": null,
       "flex_flow": null,
       "grid_area": null,
       "grid_auto_columns": null,
       "grid_auto_flow": null,
       "grid_auto_rows": null,
       "grid_column": null,
       "grid_gap": null,
       "grid_row": null,
       "grid_template_areas": null,
       "grid_template_columns": null,
       "grid_template_rows": null,
       "height": null,
       "justify_content": null,
       "justify_items": null,
       "left": null,
       "margin": null,
       "max_height": null,
       "max_width": null,
       "min_height": null,
       "min_width": null,
       "object_fit": null,
       "object_position": null,
       "order": null,
       "overflow": null,
       "overflow_x": null,
       "overflow_y": null,
       "padding": null,
       "right": null,
       "top": null,
       "visibility": null,
       "width": null
      }
     },
     "0dde61183d8d4e03a1368551dedcbfd2": {
      "model_module": "@jupyter-widgets/controls",
      "model_module_version": "1.5.0",
      "model_name": "HBoxModel",
      "state": {
       "_dom_classes": [],
       "_model_module": "@jupyter-widgets/controls",
       "_model_module_version": "1.5.0",
       "_model_name": "HBoxModel",
       "_view_count": null,
       "_view_module": "@jupyter-widgets/controls",
       "_view_module_version": "1.5.0",
       "_view_name": "HBoxView",
       "box_style": "",
       "children": [
        "IPY_MODEL_46aaf8e002f745ea8c8e95a160da170a",
        "IPY_MODEL_52dcf2577dce4fb2a7549fbf949caad2",
        "IPY_MODEL_829b70b32f5c43089a8b2d5b4a8ea8cc"
       ],
       "layout": "IPY_MODEL_1cc703adeafc4cf099c5180951070eea"
      }
     },
     "1088b6306de34dc5ada6ea0e52275e1b": {
      "model_module": "@jupyter-widgets/controls",
      "model_module_version": "1.5.0",
      "model_name": "ProgressStyleModel",
      "state": {
       "_model_module": "@jupyter-widgets/controls",
       "_model_module_version": "1.5.0",
       "_model_name": "ProgressStyleModel",
       "_view_count": null,
       "_view_module": "@jupyter-widgets/base",
       "_view_module_version": "1.2.0",
       "_view_name": "StyleView",
       "bar_color": null,
       "description_width": ""
      }
     },
     "1220f29b5e5a4a05ad4bf3d6e76ffa43": {
      "model_module": "@jupyter-widgets/base",
      "model_module_version": "1.2.0",
      "model_name": "LayoutModel",
      "state": {
       "_model_module": "@jupyter-widgets/base",
       "_model_module_version": "1.2.0",
       "_model_name": "LayoutModel",
       "_view_count": null,
       "_view_module": "@jupyter-widgets/base",
       "_view_module_version": "1.2.0",
       "_view_name": "LayoutView",
       "align_content": null,
       "align_items": null,
       "align_self": null,
       "border": null,
       "bottom": null,
       "display": null,
       "flex": null,
       "flex_flow": null,
       "grid_area": null,
       "grid_auto_columns": null,
       "grid_auto_flow": null,
       "grid_auto_rows": null,
       "grid_column": null,
       "grid_gap": null,
       "grid_row": null,
       "grid_template_areas": null,
       "grid_template_columns": null,
       "grid_template_rows": null,
       "height": null,
       "justify_content": null,
       "justify_items": null,
       "left": null,
       "margin": null,
       "max_height": null,
       "max_width": null,
       "min_height": null,
       "min_width": null,
       "object_fit": null,
       "object_position": null,
       "order": null,
       "overflow": null,
       "overflow_x": null,
       "overflow_y": null,
       "padding": null,
       "right": null,
       "top": null,
       "visibility": null,
       "width": null
      }
     },
     "1cc703adeafc4cf099c5180951070eea": {
      "model_module": "@jupyter-widgets/base",
      "model_module_version": "1.2.0",
      "model_name": "LayoutModel",
      "state": {
       "_model_module": "@jupyter-widgets/base",
       "_model_module_version": "1.2.0",
       "_model_name": "LayoutModel",
       "_view_count": null,
       "_view_module": "@jupyter-widgets/base",
       "_view_module_version": "1.2.0",
       "_view_name": "LayoutView",
       "align_content": null,
       "align_items": null,
       "align_self": null,
       "border": null,
       "bottom": null,
       "display": null,
       "flex": null,
       "flex_flow": null,
       "grid_area": null,
       "grid_auto_columns": null,
       "grid_auto_flow": null,
       "grid_auto_rows": null,
       "grid_column": null,
       "grid_gap": null,
       "grid_row": null,
       "grid_template_areas": null,
       "grid_template_columns": null,
       "grid_template_rows": null,
       "height": null,
       "justify_content": null,
       "justify_items": null,
       "left": null,
       "margin": null,
       "max_height": null,
       "max_width": null,
       "min_height": null,
       "min_width": null,
       "object_fit": null,
       "object_position": null,
       "order": null,
       "overflow": null,
       "overflow_x": null,
       "overflow_y": null,
       "padding": null,
       "right": null,
       "top": null,
       "visibility": null,
       "width": null
      }
     },
     "3ffcd96f0cc34a409763a9b736fdf501": {
      "model_module": "@jupyter-widgets/base",
      "model_module_version": "1.2.0",
      "model_name": "LayoutModel",
      "state": {
       "_model_module": "@jupyter-widgets/base",
       "_model_module_version": "1.2.0",
       "_model_name": "LayoutModel",
       "_view_count": null,
       "_view_module": "@jupyter-widgets/base",
       "_view_module_version": "1.2.0",
       "_view_name": "LayoutView",
       "align_content": null,
       "align_items": null,
       "align_self": null,
       "border": null,
       "bottom": null,
       "display": null,
       "flex": null,
       "flex_flow": null,
       "grid_area": null,
       "grid_auto_columns": null,
       "grid_auto_flow": null,
       "grid_auto_rows": null,
       "grid_column": null,
       "grid_gap": null,
       "grid_row": null,
       "grid_template_areas": null,
       "grid_template_columns": null,
       "grid_template_rows": null,
       "height": null,
       "justify_content": null,
       "justify_items": null,
       "left": null,
       "margin": null,
       "max_height": null,
       "max_width": null,
       "min_height": null,
       "min_width": null,
       "object_fit": null,
       "object_position": null,
       "order": null,
       "overflow": null,
       "overflow_x": null,
       "overflow_y": null,
       "padding": null,
       "right": null,
       "top": null,
       "visibility": null,
       "width": null
      }
     },
     "4294439b3b09450e94447b5d4204fc43": {
      "model_module": "@jupyter-widgets/base",
      "model_module_version": "1.2.0",
      "model_name": "LayoutModel",
      "state": {
       "_model_module": "@jupyter-widgets/base",
       "_model_module_version": "1.2.0",
       "_model_name": "LayoutModel",
       "_view_count": null,
       "_view_module": "@jupyter-widgets/base",
       "_view_module_version": "1.2.0",
       "_view_name": "LayoutView",
       "align_content": null,
       "align_items": null,
       "align_self": null,
       "border": null,
       "bottom": null,
       "display": null,
       "flex": null,
       "flex_flow": null,
       "grid_area": null,
       "grid_auto_columns": null,
       "grid_auto_flow": null,
       "grid_auto_rows": null,
       "grid_column": null,
       "grid_gap": null,
       "grid_row": null,
       "grid_template_areas": null,
       "grid_template_columns": null,
       "grid_template_rows": null,
       "height": null,
       "justify_content": null,
       "justify_items": null,
       "left": null,
       "margin": null,
       "max_height": null,
       "max_width": null,
       "min_height": null,
       "min_width": null,
       "object_fit": null,
       "object_position": null,
       "order": null,
       "overflow": null,
       "overflow_x": null,
       "overflow_y": null,
       "padding": null,
       "right": null,
       "top": null,
       "visibility": null,
       "width": null
      }
     },
     "42c706aabece45859ec439dd394904c4": {
      "model_module": "@jupyter-widgets/controls",
      "model_module_version": "1.5.0",
      "model_name": "HTMLModel",
      "state": {
       "_dom_classes": [],
       "_model_module": "@jupyter-widgets/controls",
       "_model_module_version": "1.5.0",
       "_model_name": "HTMLModel",
       "_view_count": null,
       "_view_module": "@jupyter-widgets/controls",
       "_view_module_version": "1.5.0",
       "_view_name": "HTMLView",
       "description": "",
       "description_tooltip": null,
       "layout": "IPY_MODEL_5f2cb05b853b49d88063edfd2f89c3c7",
       "placeholder": "​",
       "style": "IPY_MODEL_dd9b425e34c04875a4e9a90ec56ae257",
       "value": "Downloading: 100%"
      }
     },
     "46aaf8e002f745ea8c8e95a160da170a": {
      "model_module": "@jupyter-widgets/controls",
      "model_module_version": "1.5.0",
      "model_name": "HTMLModel",
      "state": {
       "_dom_classes": [],
       "_model_module": "@jupyter-widgets/controls",
       "_model_module_version": "1.5.0",
       "_model_name": "HTMLModel",
       "_view_count": null,
       "_view_module": "@jupyter-widgets/controls",
       "_view_module_version": "1.5.0",
       "_view_name": "HTMLView",
       "description": "",
       "description_tooltip": null,
       "layout": "IPY_MODEL_0ae5f6d2a3314b309385b64c3f226419",
       "placeholder": "​",
       "style": "IPY_MODEL_bc9df0f6acf145bba6d6d0f1673dd3df",
       "value": "Downloading: 100%"
      }
     },
     "51a40cca186f4110b2c6b8ed5443faa8": {
      "model_module": "@jupyter-widgets/controls",
      "model_module_version": "1.5.0",
      "model_name": "FloatProgressModel",
      "state": {
       "_dom_classes": [],
       "_model_module": "@jupyter-widgets/controls",
       "_model_module_version": "1.5.0",
       "_model_name": "FloatProgressModel",
       "_view_count": null,
       "_view_module": "@jupyter-widgets/controls",
       "_view_module_version": "1.5.0",
       "_view_name": "ProgressView",
       "bar_style": "success",
       "description": "",
       "description_tooltip": null,
       "layout": "IPY_MODEL_4294439b3b09450e94447b5d4204fc43",
       "max": 420.0,
       "min": 0.0,
       "orientation": "horizontal",
       "style": "IPY_MODEL_6171b8df2ca944e8ae2124073d61f839",
       "value": 420.0
      }
     },
     "52dcf2577dce4fb2a7549fbf949caad2": {
      "model_module": "@jupyter-widgets/controls",
      "model_module_version": "1.5.0",
      "model_name": "FloatProgressModel",
      "state": {
       "_dom_classes": [],
       "_model_module": "@jupyter-widgets/controls",
       "_model_module_version": "1.5.0",
       "_model_name": "FloatProgressModel",
       "_view_count": null,
       "_view_module": "@jupyter-widgets/controls",
       "_view_module_version": "1.5.0",
       "_view_name": "ProgressView",
       "bar_style": "success",
       "description": "",
       "description_tooltip": null,
       "layout": "IPY_MODEL_d7a0c546070c4d79a5383d6475d7493c",
       "max": 227141.0,
       "min": 0.0,
       "orientation": "horizontal",
       "style": "IPY_MODEL_8e8869f9914148db85a51e85b0af111e",
       "value": 227141.0
      }
     },
     "5f2cb05b853b49d88063edfd2f89c3c7": {
      "model_module": "@jupyter-widgets/base",
      "model_module_version": "1.2.0",
      "model_name": "LayoutModel",
      "state": {
       "_model_module": "@jupyter-widgets/base",
       "_model_module_version": "1.2.0",
       "_model_name": "LayoutModel",
       "_view_count": null,
       "_view_module": "@jupyter-widgets/base",
       "_view_module_version": "1.2.0",
       "_view_name": "LayoutView",
       "align_content": null,
       "align_items": null,
       "align_self": null,
       "border": null,
       "bottom": null,
       "display": null,
       "flex": null,
       "flex_flow": null,
       "grid_area": null,
       "grid_auto_columns": null,
       "grid_auto_flow": null,
       "grid_auto_rows": null,
       "grid_column": null,
       "grid_gap": null,
       "grid_row": null,
       "grid_template_areas": null,
       "grid_template_columns": null,
       "grid_template_rows": null,
       "height": null,
       "justify_content": null,
       "justify_items": null,
       "left": null,
       "margin": null,
       "max_height": null,
       "max_width": null,
       "min_height": null,
       "min_width": null,
       "object_fit": null,
       "object_position": null,
       "order": null,
       "overflow": null,
       "overflow_x": null,
       "overflow_y": null,
       "padding": null,
       "right": null,
       "top": null,
       "visibility": null,
       "width": null
      }
     },
     "6171b8df2ca944e8ae2124073d61f839": {
      "model_module": "@jupyter-widgets/controls",
      "model_module_version": "1.5.0",
      "model_name": "ProgressStyleModel",
      "state": {
       "_model_module": "@jupyter-widgets/controls",
       "_model_module_version": "1.5.0",
       "_model_name": "ProgressStyleModel",
       "_view_count": null,
       "_view_module": "@jupyter-widgets/base",
       "_view_module_version": "1.2.0",
       "_view_name": "StyleView",
       "bar_color": null,
       "description_width": ""
      }
     },
     "6b42343e85654180a0145c3f7872fd7f": {
      "model_module": "@jupyter-widgets/base",
      "model_module_version": "1.2.0",
      "model_name": "LayoutModel",
      "state": {
       "_model_module": "@jupyter-widgets/base",
       "_model_module_version": "1.2.0",
       "_model_name": "LayoutModel",
       "_view_count": null,
       "_view_module": "@jupyter-widgets/base",
       "_view_module_version": "1.2.0",
       "_view_name": "LayoutView",
       "align_content": null,
       "align_items": null,
       "align_self": null,
       "border": null,
       "bottom": null,
       "display": null,
       "flex": null,
       "flex_flow": null,
       "grid_area": null,
       "grid_auto_columns": null,
       "grid_auto_flow": null,
       "grid_auto_rows": null,
       "grid_column": null,
       "grid_gap": null,
       "grid_row": null,
       "grid_template_areas": null,
       "grid_template_columns": null,
       "grid_template_rows": null,
       "height": null,
       "justify_content": null,
       "justify_items": null,
       "left": null,
       "margin": null,
       "max_height": null,
       "max_width": null,
       "min_height": null,
       "min_width": null,
       "object_fit": null,
       "object_position": null,
       "order": null,
       "overflow": null,
       "overflow_x": null,
       "overflow_y": null,
       "padding": null,
       "right": null,
       "top": null,
       "visibility": null,
       "width": null
      }
     },
     "74639466a64f45188d340c071316f6da": {
      "model_module": "@jupyter-widgets/controls",
      "model_module_version": "1.5.0",
      "model_name": "FloatProgressModel",
      "state": {
       "_dom_classes": [],
       "_model_module": "@jupyter-widgets/controls",
       "_model_module_version": "1.5.0",
       "_model_name": "FloatProgressModel",
       "_view_count": null,
       "_view_module": "@jupyter-widgets/controls",
       "_view_module_version": "1.5.0",
       "_view_name": "ProgressView",
       "bar_style": "success",
       "description": "",
       "description_tooltip": null,
       "layout": "IPY_MODEL_9f92614994894f2dbe2e71ec7c302626",
       "max": 445018784.0,
       "min": 0.0,
       "orientation": "horizontal",
       "style": "IPY_MODEL_1088b6306de34dc5ada6ea0e52275e1b",
       "value": 445018784.0
      }
     },
     "7c9659a0bbb34b3680ed0f7b1a80d1e3": {
      "model_module": "@jupyter-widgets/controls",
      "model_module_version": "1.5.0",
      "model_name": "HBoxModel",
      "state": {
       "_dom_classes": [],
       "_model_module": "@jupyter-widgets/controls",
       "_model_module_version": "1.5.0",
       "_model_name": "HBoxModel",
       "_view_count": null,
       "_view_module": "@jupyter-widgets/controls",
       "_view_module_version": "1.5.0",
       "_view_name": "HBoxView",
       "box_style": "",
       "children": [
        "IPY_MODEL_ec389d4946614445bf62d2e0f0bb8a49",
        "IPY_MODEL_a5dafd2680214e158822a5cd21635375",
        "IPY_MODEL_cc6e5d53f9174f0b8ca5ddc3219d71d2"
       ],
       "layout": "IPY_MODEL_3ffcd96f0cc34a409763a9b736fdf501"
      }
     },
     "8086089096f34bc7b3270e0a61088231": {
      "model_module": "@jupyter-widgets/controls",
      "model_module_version": "1.5.0",
      "model_name": "DescriptionStyleModel",
      "state": {
       "_model_module": "@jupyter-widgets/controls",
       "_model_module_version": "1.5.0",
       "_model_name": "DescriptionStyleModel",
       "_view_count": null,
       "_view_module": "@jupyter-widgets/base",
       "_view_module_version": "1.2.0",
       "_view_name": "StyleView",
       "description_width": ""
      }
     },
     "829b70b32f5c43089a8b2d5b4a8ea8cc": {
      "model_module": "@jupyter-widgets/controls",
      "model_module_version": "1.5.0",
      "model_name": "HTMLModel",
      "state": {
       "_dom_classes": [],
       "_model_module": "@jupyter-widgets/controls",
       "_model_module_version": "1.5.0",
       "_model_name": "HTMLModel",
       "_view_count": null,
       "_view_module": "@jupyter-widgets/controls",
       "_view_module_version": "1.5.0",
       "_view_name": "HTMLView",
       "description": "",
       "description_tooltip": null,
       "layout": "IPY_MODEL_c8945a5789fd4152816a19d8b799fa67",
       "placeholder": "​",
       "style": "IPY_MODEL_8086089096f34bc7b3270e0a61088231",
       "value": " 227k/227k [00:00&lt;00:00, 620kB/s]"
      }
     },
     "86aef8bc9f8444498c4cb041f0ccb725": {
      "model_module": "@jupyter-widgets/controls",
      "model_module_version": "1.5.0",
      "model_name": "DescriptionStyleModel",
      "state": {
       "_model_module": "@jupyter-widgets/controls",
       "_model_module_version": "1.5.0",
       "_model_name": "DescriptionStyleModel",
       "_view_count": null,
       "_view_module": "@jupyter-widgets/base",
       "_view_module_version": "1.2.0",
       "_view_name": "StyleView",
       "description_width": ""
      }
     },
     "8e8869f9914148db85a51e85b0af111e": {
      "model_module": "@jupyter-widgets/controls",
      "model_module_version": "1.5.0",
      "model_name": "ProgressStyleModel",
      "state": {
       "_model_module": "@jupyter-widgets/controls",
       "_model_module_version": "1.5.0",
       "_model_name": "ProgressStyleModel",
       "_view_count": null,
       "_view_module": "@jupyter-widgets/base",
       "_view_module_version": "1.2.0",
       "_view_name": "StyleView",
       "bar_color": null,
       "description_width": ""
      }
     },
     "99a78656fd654ea2b983093505d6a0b5": {
      "model_module": "@jupyter-widgets/base",
      "model_module_version": "1.2.0",
      "model_name": "LayoutModel",
      "state": {
       "_model_module": "@jupyter-widgets/base",
       "_model_module_version": "1.2.0",
       "_model_name": "LayoutModel",
       "_view_count": null,
       "_view_module": "@jupyter-widgets/base",
       "_view_module_version": "1.2.0",
       "_view_name": "LayoutView",
       "align_content": null,
       "align_items": null,
       "align_self": null,
       "border": null,
       "bottom": null,
       "display": null,
       "flex": null,
       "flex_flow": null,
       "grid_area": null,
       "grid_auto_columns": null,
       "grid_auto_flow": null,
       "grid_auto_rows": null,
       "grid_column": null,
       "grid_gap": null,
       "grid_row": null,
       "grid_template_areas": null,
       "grid_template_columns": null,
       "grid_template_rows": null,
       "height": null,
       "justify_content": null,
       "justify_items": null,
       "left": null,
       "margin": null,
       "max_height": null,
       "max_width": null,
       "min_height": null,
       "min_width": null,
       "object_fit": null,
       "object_position": null,
       "order": null,
       "overflow": null,
       "overflow_x": null,
       "overflow_y": null,
       "padding": null,
       "right": null,
       "top": null,
       "visibility": null,
       "width": null
      }
     },
     "9b3d84dbb60644f1b1a409edc73989d2": {
      "model_module": "@jupyter-widgets/controls",
      "model_module_version": "1.5.0",
      "model_name": "ProgressStyleModel",
      "state": {
       "_model_module": "@jupyter-widgets/controls",
       "_model_module_version": "1.5.0",
       "_model_name": "ProgressStyleModel",
       "_view_count": null,
       "_view_module": "@jupyter-widgets/base",
       "_view_module_version": "1.2.0",
       "_view_name": "StyleView",
       "bar_color": null,
       "description_width": ""
      }
     },
     "9ee9c09d5e274e65ba9aa774b0a2e3bd": {
      "model_module": "@jupyter-widgets/controls",
      "model_module_version": "1.5.0",
      "model_name": "DescriptionStyleModel",
      "state": {
       "_model_module": "@jupyter-widgets/controls",
       "_model_module_version": "1.5.0",
       "_model_name": "DescriptionStyleModel",
       "_view_count": null,
       "_view_module": "@jupyter-widgets/base",
       "_view_module_version": "1.2.0",
       "_view_name": "StyleView",
       "description_width": ""
      }
     },
     "9f92614994894f2dbe2e71ec7c302626": {
      "model_module": "@jupyter-widgets/base",
      "model_module_version": "1.2.0",
      "model_name": "LayoutModel",
      "state": {
       "_model_module": "@jupyter-widgets/base",
       "_model_module_version": "1.2.0",
       "_model_name": "LayoutModel",
       "_view_count": null,
       "_view_module": "@jupyter-widgets/base",
       "_view_module_version": "1.2.0",
       "_view_name": "LayoutView",
       "align_content": null,
       "align_items": null,
       "align_self": null,
       "border": null,
       "bottom": null,
       "display": null,
       "flex": null,
       "flex_flow": null,
       "grid_area": null,
       "grid_auto_columns": null,
       "grid_auto_flow": null,
       "grid_auto_rows": null,
       "grid_column": null,
       "grid_gap": null,
       "grid_row": null,
       "grid_template_areas": null,
       "grid_template_columns": null,
       "grid_template_rows": null,
       "height": null,
       "justify_content": null,
       "justify_items": null,
       "left": null,
       "margin": null,
       "max_height": null,
       "max_width": null,
       "min_height": null,
       "min_width": null,
       "object_fit": null,
       "object_position": null,
       "order": null,
       "overflow": null,
       "overflow_x": null,
       "overflow_y": null,
       "padding": null,
       "right": null,
       "top": null,
       "visibility": null,
       "width": null
      }
     },
     "a5dafd2680214e158822a5cd21635375": {
      "model_module": "@jupyter-widgets/controls",
      "model_module_version": "1.5.0",
      "model_name": "FloatProgressModel",
      "state": {
       "_dom_classes": [],
       "_model_module": "@jupyter-widgets/controls",
       "_model_module_version": "1.5.0",
       "_model_name": "FloatProgressModel",
       "_view_count": null,
       "_view_module": "@jupyter-widgets/controls",
       "_view_module_version": "1.5.0",
       "_view_name": "ProgressView",
       "bar_style": "success",
       "description": "",
       "description_tooltip": null,
       "layout": "IPY_MODEL_1220f29b5e5a4a05ad4bf3d6e76ffa43",
       "max": 83.0,
       "min": 0.0,
       "orientation": "horizontal",
       "style": "IPY_MODEL_9b3d84dbb60644f1b1a409edc73989d2",
       "value": 83.0
      }
     },
     "a7c701f07091402fbce29658a02d0f6c": {
      "model_module": "@jupyter-widgets/base",
      "model_module_version": "1.2.0",
      "model_name": "LayoutModel",
      "state": {
       "_model_module": "@jupyter-widgets/base",
       "_model_module_version": "1.2.0",
       "_model_name": "LayoutModel",
       "_view_count": null,
       "_view_module": "@jupyter-widgets/base",
       "_view_module_version": "1.2.0",
       "_view_name": "LayoutView",
       "align_content": null,
       "align_items": null,
       "align_self": null,
       "border": null,
       "bottom": null,
       "display": null,
       "flex": null,
       "flex_flow": null,
       "grid_area": null,
       "grid_auto_columns": null,
       "grid_auto_flow": null,
       "grid_auto_rows": null,
       "grid_column": null,
       "grid_gap": null,
       "grid_row": null,
       "grid_template_areas": null,
       "grid_template_columns": null,
       "grid_template_rows": null,
       "height": null,
       "justify_content": null,
       "justify_items": null,
       "left": null,
       "margin": null,
       "max_height": null,
       "max_width": null,
       "min_height": null,
       "min_width": null,
       "object_fit": null,
       "object_position": null,
       "order": null,
       "overflow": null,
       "overflow_x": null,
       "overflow_y": null,
       "padding": null,
       "right": null,
       "top": null,
       "visibility": null,
       "width": null
      }
     },
     "b0ee070263ad4b6fba94990273116c78": {
      "model_module": "@jupyter-widgets/controls",
      "model_module_version": "1.5.0",
      "model_name": "HTMLModel",
      "state": {
       "_dom_classes": [],
       "_model_module": "@jupyter-widgets/controls",
       "_model_module_version": "1.5.0",
       "_model_name": "HTMLModel",
       "_view_count": null,
       "_view_module": "@jupyter-widgets/controls",
       "_view_module_version": "1.5.0",
       "_view_name": "HTMLView",
       "description": "",
       "description_tooltip": null,
       "layout": "IPY_MODEL_a7c701f07091402fbce29658a02d0f6c",
       "placeholder": "​",
       "style": "IPY_MODEL_e28382d22c8f4741b3e64f5b3aa67c4c",
       "value": " 445M/445M [00:09&lt;00:00, 49.2MB/s]"
      }
     },
     "b97abd2b4fac4a708a8b4edc823e6b95": {
      "model_module": "@jupyter-widgets/base",
      "model_module_version": "1.2.0",
      "model_name": "LayoutModel",
      "state": {
       "_model_module": "@jupyter-widgets/base",
       "_model_module_version": "1.2.0",
       "_model_name": "LayoutModel",
       "_view_count": null,
       "_view_module": "@jupyter-widgets/base",
       "_view_module_version": "1.2.0",
       "_view_name": "LayoutView",
       "align_content": null,
       "align_items": null,
       "align_self": null,
       "border": null,
       "bottom": null,
       "display": null,
       "flex": null,
       "flex_flow": null,
       "grid_area": null,
       "grid_auto_columns": null,
       "grid_auto_flow": null,
       "grid_auto_rows": null,
       "grid_column": null,
       "grid_gap": null,
       "grid_row": null,
       "grid_template_areas": null,
       "grid_template_columns": null,
       "grid_template_rows": null,
       "height": null,
       "justify_content": null,
       "justify_items": null,
       "left": null,
       "margin": null,
       "max_height": null,
       "max_width": null,
       "min_height": null,
       "min_width": null,
       "object_fit": null,
       "object_position": null,
       "order": null,
       "overflow": null,
       "overflow_x": null,
       "overflow_y": null,
       "padding": null,
       "right": null,
       "top": null,
       "visibility": null,
       "width": null
      }
     },
     "bc9df0f6acf145bba6d6d0f1673dd3df": {
      "model_module": "@jupyter-widgets/controls",
      "model_module_version": "1.5.0",
      "model_name": "DescriptionStyleModel",
      "state": {
       "_model_module": "@jupyter-widgets/controls",
       "_model_module_version": "1.5.0",
       "_model_name": "DescriptionStyleModel",
       "_view_count": null,
       "_view_module": "@jupyter-widgets/base",
       "_view_module_version": "1.2.0",
       "_view_name": "StyleView",
       "description_width": ""
      }
     },
     "c8945a5789fd4152816a19d8b799fa67": {
      "model_module": "@jupyter-widgets/base",
      "model_module_version": "1.2.0",
      "model_name": "LayoutModel",
      "state": {
       "_model_module": "@jupyter-widgets/base",
       "_model_module_version": "1.2.0",
       "_model_name": "LayoutModel",
       "_view_count": null,
       "_view_module": "@jupyter-widgets/base",
       "_view_module_version": "1.2.0",
       "_view_name": "LayoutView",
       "align_content": null,
       "align_items": null,
       "align_self": null,
       "border": null,
       "bottom": null,
       "display": null,
       "flex": null,
       "flex_flow": null,
       "grid_area": null,
       "grid_auto_columns": null,
       "grid_auto_flow": null,
       "grid_auto_rows": null,
       "grid_column": null,
       "grid_gap": null,
       "grid_row": null,
       "grid_template_areas": null,
       "grid_template_columns": null,
       "grid_template_rows": null,
       "height": null,
       "justify_content": null,
       "justify_items": null,
       "left": null,
       "margin": null,
       "max_height": null,
       "max_width": null,
       "min_height": null,
       "min_width": null,
       "object_fit": null,
       "object_position": null,
       "order": null,
       "overflow": null,
       "overflow_x": null,
       "overflow_y": null,
       "padding": null,
       "right": null,
       "top": null,
       "visibility": null,
       "width": null
      }
     },
     "cc6e5d53f9174f0b8ca5ddc3219d71d2": {
      "model_module": "@jupyter-widgets/controls",
      "model_module_version": "1.5.0",
      "model_name": "HTMLModel",
      "state": {
       "_dom_classes": [],
       "_model_module": "@jupyter-widgets/controls",
       "_model_module_version": "1.5.0",
       "_model_name": "HTMLModel",
       "_view_count": null,
       "_view_module": "@jupyter-widgets/controls",
       "_view_module_version": "1.5.0",
       "_view_name": "HTMLView",
       "description": "",
       "description_tooltip": null,
       "layout": "IPY_MODEL_6b42343e85654180a0145c3f7872fd7f",
       "placeholder": "​",
       "style": "IPY_MODEL_ec59e6544b17466786d3a7d9c12b19c0",
       "value": " 83.0/83.0 [00:00&lt;00:00, 3.16kB/s]"
      }
     },
     "d5ebbe194e2b4c159840eda4a0c12179": {
      "model_module": "@jupyter-widgets/controls",
      "model_module_version": "1.5.0",
      "model_name": "HBoxModel",
      "state": {
       "_dom_classes": [],
       "_model_module": "@jupyter-widgets/controls",
       "_model_module_version": "1.5.0",
       "_model_name": "HBoxModel",
       "_view_count": null,
       "_view_module": "@jupyter-widgets/controls",
       "_view_module_version": "1.5.0",
       "_view_name": "HBoxView",
       "box_style": "",
       "children": [
        "IPY_MODEL_42c706aabece45859ec439dd394904c4",
        "IPY_MODEL_51a40cca186f4110b2c6b8ed5443faa8",
        "IPY_MODEL_01b4e2fbcf4f4a48af997fb32642c8da"
       ],
       "layout": "IPY_MODEL_058b54960dd24a3d9740e41a773ba133"
      }
     },
     "d7a0c546070c4d79a5383d6475d7493c": {
      "model_module": "@jupyter-widgets/base",
      "model_module_version": "1.2.0",
      "model_name": "LayoutModel",
      "state": {
       "_model_module": "@jupyter-widgets/base",
       "_model_module_version": "1.2.0",
       "_model_name": "LayoutModel",
       "_view_count": null,
       "_view_module": "@jupyter-widgets/base",
       "_view_module_version": "1.2.0",
       "_view_name": "LayoutView",
       "align_content": null,
       "align_items": null,
       "align_self": null,
       "border": null,
       "bottom": null,
       "display": null,
       "flex": null,
       "flex_flow": null,
       "grid_area": null,
       "grid_auto_columns": null,
       "grid_auto_flow": null,
       "grid_auto_rows": null,
       "grid_column": null,
       "grid_gap": null,
       "grid_row": null,
       "grid_template_areas": null,
       "grid_template_columns": null,
       "grid_template_rows": null,
       "height": null,
       "justify_content": null,
       "justify_items": null,
       "left": null,
       "margin": null,
       "max_height": null,
       "max_width": null,
       "min_height": null,
       "min_width": null,
       "object_fit": null,
       "object_position": null,
       "order": null,
       "overflow": null,
       "overflow_x": null,
       "overflow_y": null,
       "padding": null,
       "right": null,
       "top": null,
       "visibility": null,
       "width": null
      }
     },
     "da42847b0f174b94a4e18554a56c3ce5": {
      "model_module": "@jupyter-widgets/base",
      "model_module_version": "1.2.0",
      "model_name": "LayoutModel",
      "state": {
       "_model_module": "@jupyter-widgets/base",
       "_model_module_version": "1.2.0",
       "_model_name": "LayoutModel",
       "_view_count": null,
       "_view_module": "@jupyter-widgets/base",
       "_view_module_version": "1.2.0",
       "_view_name": "LayoutView",
       "align_content": null,
       "align_items": null,
       "align_self": null,
       "border": null,
       "bottom": null,
       "display": null,
       "flex": null,
       "flex_flow": null,
       "grid_area": null,
       "grid_auto_columns": null,
       "grid_auto_flow": null,
       "grid_auto_rows": null,
       "grid_column": null,
       "grid_gap": null,
       "grid_row": null,
       "grid_template_areas": null,
       "grid_template_columns": null,
       "grid_template_rows": null,
       "height": null,
       "justify_content": null,
       "justify_items": null,
       "left": null,
       "margin": null,
       "max_height": null,
       "max_width": null,
       "min_height": null,
       "min_width": null,
       "object_fit": null,
       "object_position": null,
       "order": null,
       "overflow": null,
       "overflow_x": null,
       "overflow_y": null,
       "padding": null,
       "right": null,
       "top": null,
       "visibility": null,
       "width": null
      }
     },
     "dd9b425e34c04875a4e9a90ec56ae257": {
      "model_module": "@jupyter-widgets/controls",
      "model_module_version": "1.5.0",
      "model_name": "DescriptionStyleModel",
      "state": {
       "_model_module": "@jupyter-widgets/controls",
       "_model_module_version": "1.5.0",
       "_model_name": "DescriptionStyleModel",
       "_view_count": null,
       "_view_module": "@jupyter-widgets/base",
       "_view_module_version": "1.2.0",
       "_view_name": "StyleView",
       "description_width": ""
      }
     },
     "e28382d22c8f4741b3e64f5b3aa67c4c": {
      "model_module": "@jupyter-widgets/controls",
      "model_module_version": "1.5.0",
      "model_name": "DescriptionStyleModel",
      "state": {
       "_model_module": "@jupyter-widgets/controls",
       "_model_module_version": "1.5.0",
       "_model_name": "DescriptionStyleModel",
       "_view_count": null,
       "_view_module": "@jupyter-widgets/base",
       "_view_module_version": "1.2.0",
       "_view_name": "StyleView",
       "description_width": ""
      }
     },
     "e66c1ee25a8d4a4bafea416246da29b5": {
      "model_module": "@jupyter-widgets/controls",
      "model_module_version": "1.5.0",
      "model_name": "DescriptionStyleModel",
      "state": {
       "_model_module": "@jupyter-widgets/controls",
       "_model_module_version": "1.5.0",
       "_model_name": "DescriptionStyleModel",
       "_view_count": null,
       "_view_module": "@jupyter-widgets/base",
       "_view_module_version": "1.2.0",
       "_view_name": "StyleView",
       "description_width": ""
      }
     },
     "ec389d4946614445bf62d2e0f0bb8a49": {
      "model_module": "@jupyter-widgets/controls",
      "model_module_version": "1.5.0",
      "model_name": "HTMLModel",
      "state": {
       "_dom_classes": [],
       "_model_module": "@jupyter-widgets/controls",
       "_model_module_version": "1.5.0",
       "_model_name": "HTMLModel",
       "_view_count": null,
       "_view_module": "@jupyter-widgets/controls",
       "_view_module_version": "1.5.0",
       "_view_name": "HTMLView",
       "description": "",
       "description_tooltip": null,
       "layout": "IPY_MODEL_99a78656fd654ea2b983093505d6a0b5",
       "placeholder": "​",
       "style": "IPY_MODEL_e66c1ee25a8d4a4bafea416246da29b5",
       "value": "Downloading: 100%"
      }
     },
     "ec59e6544b17466786d3a7d9c12b19c0": {
      "model_module": "@jupyter-widgets/controls",
      "model_module_version": "1.5.0",
      "model_name": "DescriptionStyleModel",
      "state": {
       "_model_module": "@jupyter-widgets/controls",
       "_model_module_version": "1.5.0",
       "_model_name": "DescriptionStyleModel",
       "_view_count": null,
       "_view_module": "@jupyter-widgets/base",
       "_view_module_version": "1.2.0",
       "_view_name": "StyleView",
       "description_width": ""
      }
     }
    },
    "version_major": 2,
    "version_minor": 0
   }
  }
 },
 "nbformat": 4,
 "nbformat_minor": 5
}
