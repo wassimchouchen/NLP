{
 "cells": [
  {
   "cell_type": "code",
   "execution_count": 1,
   "id": "43afc26a",
   "metadata": {
    "execution": {
     "iopub.execute_input": "2022-07-11T07:09:33.294726Z",
     "iopub.status.busy": "2022-07-11T07:09:33.293200Z",
     "iopub.status.idle": "2022-07-11T07:09:41.090970Z",
     "shell.execute_reply": "2022-07-11T07:09:41.090332Z",
     "shell.execute_reply.started": "2022-07-07T07:45:06.094003Z"
    },
    "papermill": {
     "duration": 7.831603,
     "end_time": "2022-07-11T07:09:41.091133",
     "exception": false,
     "start_time": "2022-07-11T07:09:33.259530",
     "status": "completed"
    },
    "tags": []
   },
   "outputs": [],
   "source": [
    "import os\n",
    "\n",
    "import random\n",
    "import numpy as np\n",
    "\n",
    "import pandas as pd\n",
    "import torch\n",
    "from torch.utils.data import Dataset, random_split\n",
    "from transformers import (\n",
    "    AdamW,\n",
    "    Trainer,\n",
    "    TrainingArguments,\n",
    "    AutoTokenizer,\n",
    "    AutoModelForSequenceClassification,\n",
    "    get_cosine_schedule_with_warmup,\n",
    ")\n",
    "from sklearn.preprocessing import LabelEncoder\n",
    "from sklearn.metrics import accuracy_score\n",
    "import warnings\n",
    "warnings.filterwarnings('ignore')"
   ]
  },
  {
   "cell_type": "code",
   "execution_count": 2,
   "id": "1d14fc30",
   "metadata": {
    "execution": {
     "iopub.execute_input": "2022-07-11T07:09:41.156681Z",
     "iopub.status.busy": "2022-07-11T07:09:41.155774Z",
     "iopub.status.idle": "2022-07-11T07:09:45.846708Z",
     "shell.execute_reply": "2022-07-11T07:09:45.846090Z",
     "shell.execute_reply.started": "2022-07-07T07:45:13.460507Z"
    },
    "papermill": {
     "duration": 4.724461,
     "end_time": "2022-07-11T07:09:45.846863",
     "exception": false,
     "start_time": "2022-07-11T07:09:41.122402",
     "status": "completed"
    },
    "tags": []
   },
   "outputs": [
    {
     "data": {
      "application/vnd.jupyter.widget-view+json": {
       "model_id": "76e8774432734227afa470211908330d",
       "version_major": 2,
       "version_minor": 0
      },
      "text/plain": [
       "Downloading:   0%|          | 0.00/420 [00:00<?, ?B/s]"
      ]
     },
     "metadata": {},
     "output_type": "display_data"
    },
    {
     "data": {
      "application/vnd.jupyter.widget-view+json": {
       "model_id": "0203103495034c419da3c6ce09ecdba5",
       "version_major": 2,
       "version_minor": 0
      },
      "text/plain": [
       "Downloading:   0%|          | 0.00/227k [00:00<?, ?B/s]"
      ]
     },
     "metadata": {},
     "output_type": "display_data"
    },
    {
     "data": {
      "application/vnd.jupyter.widget-view+json": {
       "model_id": "a67746c31eca44a6a895be7e5f2008c0",
       "version_major": 2,
       "version_minor": 0
      },
      "text/plain": [
       "Downloading:   0%|          | 0.00/83.0 [00:00<?, ?B/s]"
      ]
     },
     "metadata": {},
     "output_type": "display_data"
    }
   ],
   "source": [
    "model_name = \"dbmdz/bert-base-french-europeana-cased\"\n",
    "\n",
    "tokenizer = AutoTokenizer.from_pretrained(model_name)\n",
    "\n",
    "device = torch.device(\"cuda\" if torch.cuda.is_available() else \"cpu\")"
   ]
  },
  {
   "cell_type": "code",
   "execution_count": 3,
   "id": "73e14acb",
   "metadata": {
    "execution": {
     "iopub.execute_input": "2022-07-11T07:09:45.913411Z",
     "iopub.status.busy": "2022-07-11T07:09:45.912520Z",
     "iopub.status.idle": "2022-07-11T07:09:45.914432Z",
     "shell.execute_reply": "2022-07-11T07:09:45.914863Z",
     "shell.execute_reply.started": "2022-07-07T07:45:17.016591Z"
    },
    "papermill": {
     "duration": 0.036316,
     "end_time": "2022-07-11T07:09:45.915006",
     "exception": false,
     "start_time": "2022-07-11T07:09:45.878690",
     "status": "completed"
    },
    "tags": []
   },
   "outputs": [],
   "source": [
    "lr = 2e-5\n",
    "epochs =  6\n",
    "batch_size = 5\n",
    "max_seq_len = 75\n",
    "\n",
    "test_frac = 0.1"
   ]
  },
  {
   "cell_type": "code",
   "execution_count": 4,
   "id": "3abe9822",
   "metadata": {
    "execution": {
     "iopub.execute_input": "2022-07-11T07:09:45.980080Z",
     "iopub.status.busy": "2022-07-11T07:09:45.979304Z",
     "iopub.status.idle": "2022-07-11T07:09:45.984305Z",
     "shell.execute_reply": "2022-07-11T07:09:45.983808Z",
     "shell.execute_reply.started": "2022-07-07T07:45:17.023509Z"
    },
    "papermill": {
     "duration": 0.039777,
     "end_time": "2022-07-11T07:09:45.984424",
     "exception": false,
     "start_time": "2022-07-11T07:09:45.944647",
     "status": "completed"
    },
    "tags": []
   },
   "outputs": [],
   "source": [
    "import os\n",
    "\n",
    "def set_seed(seed=106052):\n",
    "    \"\"\"Set seed for reproducibility.\n",
    "    \"\"\"\n",
    "    random.seed(seed)\n",
    "    np.random.seed(seed)\n",
    "    torch.manual_seed(seed)\n",
    "    torch.cuda.manual_seed_all(seed)\n",
    "    \n",
    "    os.environ['PYTHONHASHSEED'] = str(seed)\n",
    "    \n",
    "set_seed()"
   ]
  },
  {
   "cell_type": "code",
   "execution_count": 5,
   "id": "82bc8902",
   "metadata": {
    "execution": {
     "iopub.execute_input": "2022-07-11T07:09:46.053491Z",
     "iopub.status.busy": "2022-07-11T07:09:46.052552Z",
     "iopub.status.idle": "2022-07-11T07:09:46.054556Z",
     "shell.execute_reply": "2022-07-11T07:09:46.055029Z",
     "shell.execute_reply.started": "2022-07-07T07:45:17.040422Z"
    },
    "papermill": {
     "duration": 0.041115,
     "end_time": "2022-07-11T07:09:46.055211",
     "exception": false,
     "start_time": "2022-07-11T07:09:46.014096",
     "status": "completed"
    },
    "tags": []
   },
   "outputs": [],
   "source": [
    "class CEFRDataset(Dataset):\n",
    "    \"\"\"Classification dataset, built on top of pytorch dataset object\n",
    "    \"\"\"\n",
    "    \n",
    "    def __init__(self, texts, labels):\n",
    "        \n",
    "        self.encoder = LabelEncoder()\n",
    "        print(self.encoder.__dict__)\n",
    "        self.texts = texts\n",
    "        self.labels = self.encoder.fit_transform(labels)\n",
    "\n",
    "    def __len__(self):\n",
    "        return len(self.texts)\n",
    "\n",
    "    def __getitem__(self, index):\n",
    "        text = self.texts[index]\n",
    "        label = self.labels[index]\n",
    "        encoded_text = tokenizer(\n",
    "            text,\n",
    "            padding=\"max_length\",\n",
    "            max_length=max_seq_len,\n",
    "            truncation=True,\n",
    "            return_tensors=\"pt\",\n",
    "        )\n",
    "        encoded_text[\"input_ids\"] = encoded_text[\"input_ids\"].squeeze()\n",
    "        encoded_text[\"attention_mask\"] = encoded_text[\"attention_mask\"].squeeze()\n",
    "        label = torch.tensor(label)\n",
    "\n",
    "        return {\n",
    "            \"input_ids\": encoded_text[\"input_ids\"],\n",
    "            \"attention_mask\": encoded_text[\"attention_mask\"],\n",
    "            \"labels\": label,\n",
    "        }\n",
    "\n",
    "    def get_labels(self):\n",
    "        return self.labels"
   ]
  },
  {
   "cell_type": "code",
   "execution_count": 6,
   "id": "ce8e1f61",
   "metadata": {
    "execution": {
     "iopub.execute_input": "2022-07-11T07:09:46.122203Z",
     "iopub.status.busy": "2022-07-11T07:09:46.121270Z",
     "iopub.status.idle": "2022-07-11T07:09:46.123102Z",
     "shell.execute_reply": "2022-07-11T07:09:46.123542Z",
     "shell.execute_reply.started": "2022-07-07T07:45:17.05112Z"
    },
    "papermill": {
     "duration": 0.03851,
     "end_time": "2022-07-11T07:09:46.123688",
     "exception": false,
     "start_time": "2022-07-11T07:09:46.085178",
     "status": "completed"
    },
    "tags": []
   },
   "outputs": [],
   "source": [
    "def train(train_set, valid_set, epochs=10, warmup_size=0.1, lr=1e-3, batch_size=16):\n",
    "    model = get_model(model_name)\n",
    "    optim = AdamW(model.parameters(), lr=lr)\n",
    "    scheduler = get_scheduler(\n",
    "        optim, warmup_size, round(len(train_set) / batch_size * epochs)\n",
    "    )\n",
    "    training_args = get_training_args(epochs, batch_size)\n",
    "    trainer = Trainer(\n",
    "        model=model,\n",
    "        args=training_args,\n",
    "        train_dataset=train_set,\n",
    "        eval_dataset=valid_set,\n",
    "        optimizers=[optim, scheduler],\n",
    "        compute_metrics=compute_accuracy,\n",
    "    )\n",
    "    trainer.train()\n",
    "    trainer.save_model()\n",
    "    return trainer"
   ]
  },
  {
   "cell_type": "code",
   "execution_count": 7,
   "id": "264e4dd0",
   "metadata": {
    "execution": {
     "iopub.execute_input": "2022-07-11T07:09:46.187938Z",
     "iopub.status.busy": "2022-07-11T07:09:46.186979Z",
     "iopub.status.idle": "2022-07-11T07:09:46.191305Z",
     "shell.execute_reply": "2022-07-11T07:09:46.191675Z",
     "shell.execute_reply.started": "2022-07-07T07:45:17.066453Z"
    },
    "papermill": {
     "duration": 0.038026,
     "end_time": "2022-07-11T07:09:46.191809",
     "exception": false,
     "start_time": "2022-07-11T07:09:46.153783",
     "status": "completed"
    },
    "tags": []
   },
   "outputs": [],
   "source": [
    "def get_model(pretrained_checkpoint):\n",
    "    model = AutoModelForSequenceClassification.from_pretrained(\n",
    "        pretrained_checkpoint, num_labels=6\n",
    "    )\n",
    "    return model.to(device)"
   ]
  },
  {
   "cell_type": "code",
   "execution_count": 8,
   "id": "e61ac75c",
   "metadata": {
    "execution": {
     "iopub.execute_input": "2022-07-11T07:09:46.258081Z",
     "iopub.status.busy": "2022-07-11T07:09:46.257086Z",
     "iopub.status.idle": "2022-07-11T07:09:46.259480Z",
     "shell.execute_reply": "2022-07-11T07:09:46.259933Z",
     "shell.execute_reply.started": "2022-07-07T07:45:17.08027Z"
    },
    "papermill": {
     "duration": 0.039293,
     "end_time": "2022-07-11T07:09:46.260090",
     "exception": false,
     "start_time": "2022-07-11T07:09:46.220797",
     "status": "completed"
    },
    "tags": []
   },
   "outputs": [],
   "source": [
    "os.environ[\"WANDB_DISABLED\"] = \"true\"\n",
    "\n",
    "\n",
    "def get_scheduler(optimizer, warmup_size, total_steps):\n",
    "    scheduler = get_cosine_schedule_with_warmup(\n",
    "        optimizer,\n",
    "        num_warmup_steps=round(total_steps * warmup_size),\n",
    "        num_training_steps=total_steps,\n",
    "    )\n",
    "    return scheduler\n",
    "\n",
    "\n",
    "def get_training_args(epochs, batch_size):\n",
    "    return TrainingArguments(\n",
    "        output_dir=\"./b\",\n",
    "        num_train_epochs=epochs,\n",
    "        per_device_train_batch_size=batch_size,\n",
    "        logging_steps=50,\n",
    "        fp16=False,\n",
    "        evaluation_strategy=\"epoch\",\n",
    "        eval_accumulation_steps=1,\n",
    "        report_to=None,\n",
    "        save_total_limit=1,\n",
    "        load_best_model_at_end=True\n",
    "    )\n",
    "\n",
    "\n",
    "def compute_accuracy(pred):\n",
    "    labels = pred.label_ids\n",
    "    preds = pred.predictions.argmax(-1)\n",
    "    acc = accuracy_score(labels, preds)\n",
    "    return {\"accuracy\": acc}\n",
    "\n"
   ]
  },
  {
   "cell_type": "code",
   "execution_count": 9,
   "id": "e7242a50",
   "metadata": {
    "execution": {
     "iopub.execute_input": "2022-07-11T07:09:46.323305Z",
     "iopub.status.busy": "2022-07-11T07:09:46.322428Z",
     "iopub.status.idle": "2022-07-11T07:09:46.324200Z",
     "shell.execute_reply": "2022-07-11T07:09:46.324643Z",
     "shell.execute_reply.started": "2022-07-07T07:45:17.090282Z"
    },
    "papermill": {
     "duration": 0.035987,
     "end_time": "2022-07-11T07:09:46.324772",
     "exception": false,
     "start_time": "2022-07-11T07:09:46.288785",
     "status": "completed"
    },
    "tags": []
   },
   "outputs": [],
   "source": [
    "lr = 2e-5\n",
    "epochs =  7\n",
    "batch_size = 8\n",
    "max_seq_len = 512"
   ]
  },
  {
   "cell_type": "code",
   "execution_count": 10,
   "id": "42342f4a",
   "metadata": {
    "execution": {
     "iopub.execute_input": "2022-07-11T07:09:46.391099Z",
     "iopub.status.busy": "2022-07-11T07:09:46.390143Z",
     "iopub.status.idle": "2022-07-11T07:09:46.393124Z",
     "shell.execute_reply": "2022-07-11T07:09:46.392568Z",
     "shell.execute_reply.started": "2022-07-07T07:45:17.10795Z"
    },
    "papermill": {
     "duration": 0.038567,
     "end_time": "2022-07-11T07:09:46.393273",
     "exception": false,
     "start_time": "2022-07-11T07:09:46.354706",
     "status": "completed"
    },
    "tags": []
   },
   "outputs": [],
   "source": [
    "def split_valid(df, frac=0.2):\n",
    "    \n",
    "    val = pd.DataFrame()\n",
    "    val[\"text\"] = \"\"\n",
    "    val[\"label\"] = -1\n",
    "    \n",
    "    for i in df.label.unique():\n",
    "        val = pd.concat([val, df[df.label == i].sample(frac=frac)])\n",
    "        \n",
    "    return df[~df.index.isin(val.index)].reset_index(drop=True) , val.reset_index(drop=True)"
   ]
  },
  {
   "cell_type": "code",
   "execution_count": 11,
   "id": "1435d917",
   "metadata": {
    "execution": {
     "iopub.execute_input": "2022-07-11T07:09:46.456795Z",
     "iopub.status.busy": "2022-07-11T07:09:46.455944Z",
     "iopub.status.idle": "2022-07-11T07:09:46.457687Z",
     "shell.execute_reply": "2022-07-11T07:09:46.458151Z",
     "shell.execute_reply.started": "2022-07-07T07:45:17.116801Z"
    },
    "papermill": {
     "duration": 0.035358,
     "end_time": "2022-07-11T07:09:46.458285",
     "exception": false,
     "start_time": "2022-07-11T07:09:46.422927",
     "status": "completed"
    },
    "tags": []
   },
   "outputs": [],
   "source": [
    "# train_set_df = pd.read_csv(\"../input/newdatasets/mike_20_june_new (1).csv\")\n",
    "# train_set_df"
   ]
  },
  {
   "cell_type": "code",
   "execution_count": 12,
   "id": "5b874916",
   "metadata": {
    "execution": {
     "iopub.execute_input": "2022-07-11T07:09:46.521782Z",
     "iopub.status.busy": "2022-07-11T07:09:46.521256Z",
     "iopub.status.idle": "2022-07-11T07:09:46.542075Z",
     "shell.execute_reply": "2022-07-11T07:09:46.541568Z",
     "shell.execute_reply.started": "2022-07-07T07:45:17.12653Z"
    },
    "papermill": {
     "duration": 0.054711,
     "end_time": "2022-07-11T07:09:46.542212",
     "exception": false,
     "start_time": "2022-07-11T07:09:46.487501",
     "status": "completed"
    },
    "tags": []
   },
   "outputs": [],
   "source": [
    "new=pd.read_csv(\"../input/lingua/fr_lingua.csv\")"
   ]
  },
  {
   "cell_type": "code",
   "execution_count": 13,
   "id": "3458efd7",
   "metadata": {
    "execution": {
     "iopub.execute_input": "2022-07-11T07:09:46.607345Z",
     "iopub.status.busy": "2022-07-11T07:09:46.606618Z",
     "iopub.status.idle": "2022-07-11T07:09:46.610328Z",
     "shell.execute_reply": "2022-07-11T07:09:46.609789Z",
     "shell.execute_reply.started": "2022-07-07T07:45:17.15426Z"
    },
    "papermill": {
     "duration": 0.038489,
     "end_time": "2022-07-11T07:09:46.610467",
     "exception": false,
     "start_time": "2022-07-11T07:09:46.571978",
     "status": "completed"
    },
    "tags": []
   },
   "outputs": [],
   "source": [
    "new.columns=[\"text\",\"label\"]"
   ]
  },
  {
   "cell_type": "code",
   "execution_count": 14,
   "id": "88dc00d9",
   "metadata": {
    "execution": {
     "iopub.execute_input": "2022-07-11T07:09:46.674230Z",
     "iopub.status.busy": "2022-07-11T07:09:46.673606Z",
     "iopub.status.idle": "2022-07-11T07:09:46.698828Z",
     "shell.execute_reply": "2022-07-11T07:09:46.699624Z",
     "shell.execute_reply.started": "2022-07-07T07:45:17.160152Z"
    },
    "papermill": {
     "duration": 0.059946,
     "end_time": "2022-07-11T07:09:46.699782",
     "exception": false,
     "start_time": "2022-07-11T07:09:46.639836",
     "status": "completed"
    },
    "tags": []
   },
   "outputs": [
    {
     "data": {
      "text/plain": [
       "((315, 2),\n",
       "                                                 text label\n",
       " 0  Il était une fois un prince qui voulait épouse...    A2\n",
       " 1  Il fit le tour de la Terre pour en trouver une...    B1)"
      ]
     },
     "execution_count": 14,
     "metadata": {},
     "output_type": "execute_result"
    }
   ],
   "source": [
    "french=pd.read_csv(\"../input/frenchcefr/french dataset.csv\")\n",
    "french=french[[\"text\",\"label\"]]\n",
    "french.shape,french.head(2)\n"
   ]
  },
  {
   "cell_type": "code",
   "execution_count": 15,
   "id": "80846e0a",
   "metadata": {
    "execution": {
     "iopub.execute_input": "2022-07-11T07:09:46.764049Z",
     "iopub.status.busy": "2022-07-11T07:09:46.763468Z",
     "iopub.status.idle": "2022-07-11T07:09:46.767814Z",
     "shell.execute_reply": "2022-07-11T07:09:46.767396Z",
     "shell.execute_reply.started": "2022-07-07T07:45:17.195124Z"
    },
    "papermill": {
     "duration": 0.038087,
     "end_time": "2022-07-11T07:09:46.767948",
     "exception": false,
     "start_time": "2022-07-11T07:09:46.729861",
     "status": "completed"
    },
    "tags": []
   },
   "outputs": [],
   "source": [
    "# train_set_df=pd.concat([french, mike_20_june_new,new], ignore_index=True)"
   ]
  },
  {
   "cell_type": "code",
   "execution_count": 16,
   "id": "f95e7bc8",
   "metadata": {
    "execution": {
     "iopub.execute_input": "2022-07-11T07:09:46.865673Z",
     "iopub.status.busy": "2022-07-11T07:09:46.864696Z",
     "iopub.status.idle": "2022-07-11T07:09:47.206430Z",
     "shell.execute_reply": "2022-07-11T07:09:47.205687Z",
     "shell.execute_reply.started": "2022-07-07T07:45:17.200988Z"
    },
    "papermill": {
     "duration": 0.408838,
     "end_time": "2022-07-11T07:09:47.206622",
     "exception": false,
     "start_time": "2022-07-11T07:09:46.797784",
     "status": "completed"
    },
    "tags": []
   },
   "outputs": [],
   "source": [
    "from sklearn import preprocessing\n",
    "le = preprocessing.LabelEncoder()\n",
    "\n",
    "train_set_df = pd.read_csv(\"../input/eng-data/translated.csv\")\n",
    "train_set_df = train_set_df[train_set_df.label != \"XX\"]\n",
    "train_set_df.columns=[\"txt\",\"label\",\"text\"]\n",
    "train_set_df = train_set_df[[\"text\", \"label\"]]\n",
    "\n",
    "train_set_df.text = train_set_df.text.apply(lambda x: x.replace(\"\\r\", \"\").replace(\"\\n\", \" \"))\n",
    "\n",
    "extra_df = pd.read_csv(\"../input/frenchcefr/french_mike_june.csv\")\n",
    "extra_df.columns = [\"text\", \"label\", \"label_\"]\n",
    "extra_df = extra_df[[\"text\", \"label\"]]\n",
    "extra_df.text = extra_df.text.astype(str)\n",
    "#train_set_df = pd.concat([train_set_df, extra_df]).reset_index(drop=True)\n",
    "\n",
    "train_set_df, valid_set_df = split_valid(train_set_df)"
   ]
  },
  {
   "cell_type": "code",
   "execution_count": 17,
   "id": "b543c3cd",
   "metadata": {
    "execution": {
     "iopub.execute_input": "2022-07-11T07:09:47.317762Z",
     "iopub.status.busy": "2022-07-11T07:09:47.316901Z",
     "iopub.status.idle": "2022-07-11T07:09:47.323106Z",
     "shell.execute_reply": "2022-07-11T07:09:47.323696Z",
     "shell.execute_reply.started": "2022-07-07T07:45:17.431792Z"
    },
    "papermill": {
     "duration": 0.064603,
     "end_time": "2022-07-11T07:09:47.323911",
     "exception": false,
     "start_time": "2022-07-11T07:09:47.259308",
     "status": "completed"
    },
    "tags": []
   },
   "outputs": [
    {
     "data": {
      "text/plain": [
       "array(['B2', 'A2', 'C1', 'B1', 'A1', 'C2'], dtype=object)"
      ]
     },
     "execution_count": 17,
     "metadata": {},
     "output_type": "execute_result"
    }
   ],
   "source": [
    "train_set_df.label.unique()"
   ]
  },
  {
   "cell_type": "code",
   "execution_count": 18,
   "id": "a579922e",
   "metadata": {
    "execution": {
     "iopub.execute_input": "2022-07-11T07:09:47.409010Z",
     "iopub.status.busy": "2022-07-11T07:09:47.408339Z",
     "iopub.status.idle": "2022-07-11T07:09:47.411695Z",
     "shell.execute_reply": "2022-07-11T07:09:47.412093Z",
     "shell.execute_reply.started": "2022-07-07T07:45:17.440907Z"
    },
    "papermill": {
     "duration": 0.040359,
     "end_time": "2022-07-11T07:09:47.412244",
     "exception": false,
     "start_time": "2022-07-11T07:09:47.371885",
     "status": "completed"
    },
    "tags": []
   },
   "outputs": [],
   "source": [
    "train_set_df.label = le.fit_transform(train_set_df.label)\n",
    "valid_set_df.label = le.transform(valid_set_df.label)"
   ]
  },
  {
   "cell_type": "code",
   "execution_count": 19,
   "id": "e3908c98",
   "metadata": {
    "execution": {
     "iopub.execute_input": "2022-07-11T07:09:47.481029Z",
     "iopub.status.busy": "2022-07-11T07:09:47.479546Z",
     "iopub.status.idle": "2022-07-11T07:09:47.483223Z",
     "shell.execute_reply": "2022-07-11T07:09:47.482737Z",
     "shell.execute_reply.started": "2022-07-07T07:45:17.450456Z"
    },
    "papermill": {
     "duration": 0.040662,
     "end_time": "2022-07-11T07:09:47.483346",
     "exception": false,
     "start_time": "2022-07-11T07:09:47.442684",
     "status": "completed"
    },
    "tags": []
   },
   "outputs": [
    {
     "data": {
      "text/plain": [
       "6"
      ]
     },
     "execution_count": 19,
     "metadata": {},
     "output_type": "execute_result"
    }
   ],
   "source": [
    "train_set_df.label.nunique()"
   ]
  },
  {
   "cell_type": "code",
   "execution_count": 20,
   "id": "b60176e6",
   "metadata": {
    "execution": {
     "iopub.execute_input": "2022-07-11T07:09:47.553580Z",
     "iopub.status.busy": "2022-07-11T07:09:47.552921Z",
     "iopub.status.idle": "2022-07-11T07:09:47.555718Z",
     "shell.execute_reply": "2022-07-11T07:09:47.556146Z",
     "shell.execute_reply.started": "2022-07-07T07:45:17.463607Z"
    },
    "papermill": {
     "duration": 0.042283,
     "end_time": "2022-07-11T07:09:47.556290",
     "exception": false,
     "start_time": "2022-07-11T07:09:47.514007",
     "status": "completed"
    },
    "tags": []
   },
   "outputs": [
    {
     "data": {
      "text/plain": [
       "0    230\n",
       "3    229\n",
       "1    218\n",
       "4    193\n",
       "2    164\n",
       "5    162\n",
       "Name: label, dtype: int64"
      ]
     },
     "execution_count": 20,
     "metadata": {},
     "output_type": "execute_result"
    }
   ],
   "source": [
    "train_set_df.label.value_counts()"
   ]
  },
  {
   "cell_type": "code",
   "execution_count": 21,
   "id": "e8072874",
   "metadata": {
    "execution": {
     "iopub.execute_input": "2022-07-11T07:09:47.623953Z",
     "iopub.status.busy": "2022-07-11T07:09:47.623280Z",
     "iopub.status.idle": "2022-07-11T07:09:47.626027Z",
     "shell.execute_reply": "2022-07-11T07:09:47.626436Z",
     "shell.execute_reply.started": "2022-07-07T07:45:17.474455Z"
    },
    "papermill": {
     "duration": 0.039548,
     "end_time": "2022-07-11T07:09:47.626575",
     "exception": false,
     "start_time": "2022-07-11T07:09:47.587027",
     "status": "completed"
    },
    "tags": []
   },
   "outputs": [
    {
     "data": {
      "text/plain": [
       "6"
      ]
     },
     "execution_count": 21,
     "metadata": {},
     "output_type": "execute_result"
    }
   ],
   "source": [
    "valid_set_df.label.nunique()"
   ]
  },
  {
   "cell_type": "code",
   "execution_count": 22,
   "id": "5e33d443",
   "metadata": {
    "execution": {
     "iopub.execute_input": "2022-07-11T07:09:47.692667Z",
     "iopub.status.busy": "2022-07-11T07:09:47.691959Z",
     "iopub.status.idle": "2022-07-11T07:09:47.694385Z",
     "shell.execute_reply": "2022-07-11T07:09:47.694756Z",
     "shell.execute_reply.started": "2022-07-07T07:45:17.486709Z"
    },
    "papermill": {
     "duration": 0.037245,
     "end_time": "2022-07-11T07:09:47.694931",
     "exception": false,
     "start_time": "2022-07-11T07:09:47.657686",
     "status": "completed"
    },
    "tags": []
   },
   "outputs": [],
   "source": [
    "# train_set_df = train_set_df.sample(frac=1)"
   ]
  },
  {
   "cell_type": "code",
   "execution_count": 23,
   "id": "770d18ef",
   "metadata": {
    "execution": {
     "iopub.execute_input": "2022-07-11T07:09:47.764966Z",
     "iopub.status.busy": "2022-07-11T07:09:47.763300Z",
     "iopub.status.idle": "2022-07-11T07:09:47.765536Z",
     "shell.execute_reply": "2022-07-11T07:09:47.765962Z",
     "shell.execute_reply.started": "2022-07-07T07:45:17.493298Z"
    },
    "papermill": {
     "duration": 0.04021,
     "end_time": "2022-07-11T07:09:47.766100",
     "exception": false,
     "start_time": "2022-07-11T07:09:47.725890",
     "status": "completed"
    },
    "tags": []
   },
   "outputs": [],
   "source": [
    "from tqdm import tqdm \n",
    "\n",
    "def predict(model, text):\n",
    "    \n",
    "    preds = []\n",
    "    \n",
    "    for i in tqdm(range(len(text))):\n",
    "        tokenized = tokenizer(text[i:i+1], return_tensors=\"pt\", truncation=True, max_length=512).to(\"cuda\")\n",
    "        pred = model(**tokenized)\n",
    "        preds.append(pred.logits.argmax(-1).item())\n",
    "\n",
    "    return preds"
   ]
  },
  {
   "cell_type": "code",
   "execution_count": 24,
   "id": "55eb64d7",
   "metadata": {
    "execution": {
     "iopub.execute_input": "2022-07-11T07:09:47.835335Z",
     "iopub.status.busy": "2022-07-11T07:09:47.834563Z",
     "iopub.status.idle": "2022-07-11T07:21:28.433537Z",
     "shell.execute_reply": "2022-07-11T07:21:28.432584Z",
     "shell.execute_reply.started": "2022-07-07T07:45:17.502947Z"
    },
    "papermill": {
     "duration": 700.636149,
     "end_time": "2022-07-11T07:21:28.433699",
     "exception": false,
     "start_time": "2022-07-11T07:09:47.797550",
     "status": "completed"
    },
    "tags": []
   },
   "outputs": [
    {
     "name": "stdout",
     "output_type": "stream",
     "text": [
      "{}\n",
      "{}\n"
     ]
    },
    {
     "data": {
      "application/vnd.jupyter.widget-view+json": {
       "model_id": "ce03d60ddd984e27919122134247faf2",
       "version_major": 2,
       "version_minor": 0
      },
      "text/plain": [
       "Downloading:   0%|          | 0.00/445M [00:00<?, ?B/s]"
      ]
     },
     "metadata": {},
     "output_type": "display_data"
    },
    {
     "name": "stderr",
     "output_type": "stream",
     "text": [
      "Some weights of the model checkpoint at dbmdz/bert-base-french-europeana-cased were not used when initializing BertForSequenceClassification: ['cls.predictions.bias', 'cls.predictions.transform.dense.weight', 'cls.predictions.transform.dense.bias', 'cls.predictions.transform.LayerNorm.weight', 'cls.predictions.transform.LayerNorm.bias', 'cls.predictions.decoder.weight', 'cls.predictions.decoder.bias', 'cls.seq_relationship.weight', 'cls.seq_relationship.bias']\n",
      "- This IS expected if you are initializing BertForSequenceClassification from the checkpoint of a model trained on another task or with another architecture (e.g. initializing a BertForSequenceClassification model from a BertForPreTraining model).\n",
      "- This IS NOT expected if you are initializing BertForSequenceClassification from the checkpoint of a model that you expect to be exactly identical (initializing a BertForSequenceClassification model from a BertForSequenceClassification model).\n",
      "Some weights of BertForSequenceClassification were not initialized from the model checkpoint at dbmdz/bert-base-french-europeana-cased and are newly initialized: ['classifier.weight', 'classifier.bias']\n",
      "You should probably TRAIN this model on a down-stream task to be able to use it for predictions and inference.\n",
      "Using the `WAND_DISABLED` environment variable is deprecated and will be removed in v5. Use the --report_to flag to control the integrations used for logging result (for instance --report_to none).\n"
     ]
    },
    {
     "data": {
      "text/html": [
       "\n",
       "    <div>\n",
       "        <style>\n",
       "            /* Turns off some styling */\n",
       "            progress {\n",
       "                /* gets rid of default border in Firefox and Opera. */\n",
       "                border: none;\n",
       "                /* Needs to be in here for Safari polyfill so background images work as expected. */\n",
       "                background-size: auto;\n",
       "            }\n",
       "        </style>\n",
       "      \n",
       "      <progress value='1050' max='1050' style='width:300px; height:20px; vertical-align: middle;'></progress>\n",
       "      [1050/1050 11:11, Epoch 7/7]\n",
       "    </div>\n",
       "    <table border=\"1\" class=\"dataframe\">\n",
       "  <thead>\n",
       "    <tr style=\"text-align: left;\">\n",
       "      <th>Epoch</th>\n",
       "      <th>Training Loss</th>\n",
       "      <th>Validation Loss</th>\n",
       "      <th>Accuracy</th>\n",
       "      <th>Runtime</th>\n",
       "      <th>Samples Per Second</th>\n",
       "    </tr>\n",
       "  </thead>\n",
       "  <tbody>\n",
       "    <tr>\n",
       "      <td>1</td>\n",
       "      <td>1.246900</td>\n",
       "      <td>1.128191</td>\n",
       "      <td>0.583893</td>\n",
       "      <td>6.663100</td>\n",
       "      <td>44.724000</td>\n",
       "    </tr>\n",
       "    <tr>\n",
       "      <td>2</td>\n",
       "      <td>0.866600</td>\n",
       "      <td>0.871783</td>\n",
       "      <td>0.614094</td>\n",
       "      <td>6.927100</td>\n",
       "      <td>43.020000</td>\n",
       "    </tr>\n",
       "    <tr>\n",
       "      <td>3</td>\n",
       "      <td>0.683800</td>\n",
       "      <td>0.839449</td>\n",
       "      <td>0.630872</td>\n",
       "      <td>7.020200</td>\n",
       "      <td>42.449000</td>\n",
       "    </tr>\n",
       "    <tr>\n",
       "      <td>4</td>\n",
       "      <td>0.599500</td>\n",
       "      <td>0.902905</td>\n",
       "      <td>0.640940</td>\n",
       "      <td>6.826500</td>\n",
       "      <td>43.654000</td>\n",
       "    </tr>\n",
       "    <tr>\n",
       "      <td>5</td>\n",
       "      <td>0.326600</td>\n",
       "      <td>0.974299</td>\n",
       "      <td>0.647651</td>\n",
       "      <td>6.768200</td>\n",
       "      <td>44.029000</td>\n",
       "    </tr>\n",
       "    <tr>\n",
       "      <td>6</td>\n",
       "      <td>0.196700</td>\n",
       "      <td>1.051897</td>\n",
       "      <td>0.634228</td>\n",
       "      <td>6.753000</td>\n",
       "      <td>44.129000</td>\n",
       "    </tr>\n",
       "    <tr>\n",
       "      <td>7</td>\n",
       "      <td>0.152000</td>\n",
       "      <td>1.067637</td>\n",
       "      <td>0.630872</td>\n",
       "      <td>6.654300</td>\n",
       "      <td>44.783000</td>\n",
       "    </tr>\n",
       "  </tbody>\n",
       "</table><p>"
      ],
      "text/plain": [
       "<IPython.core.display.HTML object>"
      ]
     },
     "metadata": {},
     "output_type": "display_data"
    }
   ],
   "source": [
    "train_set = CEFRDataset(train_set_df[\"text\"], train_set_df[\"label\"])\n",
    "valid_set = CEFRDataset(valid_set_df[\"text\"], valid_set_df[\"label\"])\n",
    "\n",
    "\n",
    "trainer_second = train(train_set, valid_set, epochs=epochs, warmup_size=0.2, lr=lr, batch_size=batch_size)\n",
    "model = trainer_second.model"
   ]
  },
  {
   "cell_type": "code",
   "execution_count": 25,
   "id": "1e145a41",
   "metadata": {
    "execution": {
     "iopub.execute_input": "2022-07-11T07:21:28.509192Z",
     "iopub.status.busy": "2022-07-11T07:21:28.508581Z",
     "iopub.status.idle": "2022-07-11T07:21:34.799062Z",
     "shell.execute_reply": "2022-07-11T07:21:34.799561Z",
     "shell.execute_reply.started": "2022-07-07T07:56:54.364677Z"
    },
    "papermill": {
     "duration": 6.332671,
     "end_time": "2022-07-11T07:21:34.799734",
     "exception": false,
     "start_time": "2022-07-11T07:21:28.467063",
     "status": "completed"
    },
    "tags": []
   },
   "outputs": [
    {
     "name": "stderr",
     "output_type": "stream",
     "text": [
      "100%|██████████| 298/298 [00:06<00:00, 47.45it/s]\n"
     ]
    }
   ],
   "source": [
    "valid_set_df[\"preds\"] = train_set.encoder.inverse_transform(predict(model, valid_set_df.text.tolist()))\n",
    "valid_set_df.columns = [\"text\", \"cefr\", \"preds\",] "
   ]
  },
  {
   "cell_type": "code",
   "execution_count": 26,
   "id": "e8ab3e49",
   "metadata": {
    "execution": {
     "iopub.execute_input": "2022-07-11T07:21:34.901707Z",
     "iopub.status.busy": "2022-07-11T07:21:34.901045Z",
     "iopub.status.idle": "2022-07-11T07:21:36.324619Z",
     "shell.execute_reply": "2022-07-11T07:21:36.325064Z",
     "shell.execute_reply.started": "2022-07-07T07:57:00.226639Z"
    },
    "papermill": {
     "duration": 1.477032,
     "end_time": "2022-07-11T07:21:36.325239",
     "exception": false,
     "start_time": "2022-07-11T07:21:34.848207",
     "status": "completed"
    },
    "tags": []
   },
   "outputs": [
    {
     "name": "stderr",
     "output_type": "stream",
     "text": [
      "100%|██████████| 111/111 [00:01<00:00, 79.08it/s]\n"
     ]
    }
   ],
   "source": [
    "lingua = pd.read_csv(\"../input/lingua/fr_lingua.csv\")\n",
    "lingua[\"preds\"] = train_set.encoder.inverse_transform(predict(model, lingua.text.tolist()))"
   ]
  },
  {
   "cell_type": "code",
   "execution_count": 27,
   "id": "168f4efd",
   "metadata": {
    "execution": {
     "iopub.execute_input": "2022-07-11T07:21:36.437208Z",
     "iopub.status.busy": "2022-07-11T07:21:36.436525Z",
     "iopub.status.idle": "2022-07-11T07:21:36.439309Z",
     "shell.execute_reply": "2022-07-11T07:21:36.439715Z",
     "shell.execute_reply.started": "2022-07-07T07:57:01.695594Z"
    },
    "papermill": {
     "duration": 0.062072,
     "end_time": "2022-07-11T07:21:36.439865",
     "exception": false,
     "start_time": "2022-07-11T07:21:36.377793",
     "status": "completed"
    },
    "tags": []
   },
   "outputs": [
    {
     "data": {
      "text/plain": [
       "B1    60\n",
       "A2    26\n",
       "A1    13\n",
       "B2    12\n",
       "Name: cefr, dtype: int64"
      ]
     },
     "execution_count": 27,
     "metadata": {},
     "output_type": "execute_result"
    }
   ],
   "source": [
    "lingua.cefr.value_counts()"
   ]
  },
  {
   "cell_type": "code",
   "execution_count": 28,
   "id": "8332f625",
   "metadata": {
    "execution": {
     "iopub.execute_input": "2022-07-11T07:21:36.550763Z",
     "iopub.status.busy": "2022-07-11T07:21:36.550147Z",
     "iopub.status.idle": "2022-07-11T07:21:36.552875Z",
     "shell.execute_reply": "2022-07-11T07:21:36.553300Z",
     "shell.execute_reply.started": "2022-07-07T07:57:01.7156Z"
    },
    "papermill": {
     "duration": 0.061726,
     "end_time": "2022-07-11T07:21:36.553443",
     "exception": false,
     "start_time": "2022-07-11T07:21:36.491717",
     "status": "completed"
    },
    "tags": []
   },
   "outputs": [
    {
     "data": {
      "text/plain": [
       "array([0, 1, 2, 5, 3])"
      ]
     },
     "execution_count": 28,
     "metadata": {},
     "output_type": "execute_result"
    }
   ],
   "source": [
    "lingua.preds.unique()"
   ]
  },
  {
   "cell_type": "code",
   "execution_count": 29,
   "id": "a15bc122",
   "metadata": {
    "execution": {
     "iopub.execute_input": "2022-07-11T07:21:36.664467Z",
     "iopub.status.busy": "2022-07-11T07:21:36.661807Z",
     "iopub.status.idle": "2022-07-11T07:21:36.666866Z",
     "shell.execute_reply": "2022-07-11T07:21:36.666412Z",
     "shell.execute_reply.started": "2022-07-07T07:57:02.29328Z"
    },
    "papermill": {
     "duration": 0.061195,
     "end_time": "2022-07-11T07:21:36.666987",
     "exception": false,
     "start_time": "2022-07-11T07:21:36.605792",
     "status": "completed"
    },
    "tags": []
   },
   "outputs": [],
   "source": [
    "def compute_average_distance(df, col_name=\"cefr\") :\n",
    "    \n",
    "    labels = [\"A1\", \"A2\", \"B1\", \"B2\", \"C1\", \"C2\"]\n",
    "    return (df[col_name].apply(lambda x: labels.index(x)) - df.preds.apply(lambda x: labels.index(x))).abs().mean()\n"
   ]
  },
  {
   "cell_type": "code",
   "execution_count": 30,
   "id": "d6f579f6",
   "metadata": {
    "execution": {
     "iopub.execute_input": "2022-07-11T07:21:36.778544Z",
     "iopub.status.busy": "2022-07-11T07:21:36.777935Z",
     "iopub.status.idle": "2022-07-11T07:21:36.780508Z",
     "shell.execute_reply": "2022-07-11T07:21:36.780954Z",
     "shell.execute_reply.started": "2022-07-07T07:57:02.302078Z"
    },
    "papermill": {
     "duration": 0.061198,
     "end_time": "2022-07-11T07:21:36.781094",
     "exception": false,
     "start_time": "2022-07-11T07:21:36.719896",
     "status": "completed"
    },
    "tags": []
   },
   "outputs": [
    {
     "data": {
      "text/plain": [
       "1    55\n",
       "2    35\n",
       "3     9\n",
       "0     8\n",
       "5     4\n",
       "Name: preds, dtype: int64"
      ]
     },
     "execution_count": 30,
     "metadata": {},
     "output_type": "execute_result"
    }
   ],
   "source": [
    "lingua.preds.value_counts()"
   ]
  },
  {
   "cell_type": "code",
   "execution_count": 31,
   "id": "b0e18ff9",
   "metadata": {
    "execution": {
     "iopub.execute_input": "2022-07-11T07:21:36.892621Z",
     "iopub.status.busy": "2022-07-11T07:21:36.891812Z",
     "iopub.status.idle": "2022-07-11T07:21:36.895255Z",
     "shell.execute_reply": "2022-07-11T07:21:36.894741Z",
     "shell.execute_reply.started": "2022-07-07T07:57:02.319082Z"
    },
    "papermill": {
     "duration": 0.061231,
     "end_time": "2022-07-11T07:21:36.895390",
     "exception": false,
     "start_time": "2022-07-11T07:21:36.834159",
     "status": "completed"
    },
    "tags": []
   },
   "outputs": [],
   "source": [
    "lingua[\"preds\"] = le.inverse_transform(lingua.preds)"
   ]
  },
  {
   "cell_type": "code",
   "execution_count": 32,
   "id": "60824831",
   "metadata": {
    "execution": {
     "iopub.execute_input": "2022-07-11T07:21:37.007540Z",
     "iopub.status.busy": "2022-07-11T07:21:37.006945Z",
     "iopub.status.idle": "2022-07-11T07:21:37.009619Z",
     "shell.execute_reply": "2022-07-11T07:21:37.010064Z",
     "shell.execute_reply.started": "2022-07-07T07:57:02.329894Z"
    },
    "papermill": {
     "duration": 0.062474,
     "end_time": "2022-07-11T07:21:37.010211",
     "exception": false,
     "start_time": "2022-07-11T07:21:36.947737",
     "status": "completed"
    },
    "tags": []
   },
   "outputs": [
    {
     "data": {
      "text/plain": [
       "A2    55\n",
       "B1    35\n",
       "B2     9\n",
       "A1     8\n",
       "C2     4\n",
       "Name: preds, dtype: int64"
      ]
     },
     "execution_count": 32,
     "metadata": {},
     "output_type": "execute_result"
    }
   ],
   "source": [
    "lingua.preds.value_counts()"
   ]
  },
  {
   "cell_type": "code",
   "execution_count": 33,
   "id": "fc93d9d0",
   "metadata": {
    "execution": {
     "iopub.execute_input": "2022-07-11T07:21:37.125868Z",
     "iopub.status.busy": "2022-07-11T07:21:37.125193Z",
     "iopub.status.idle": "2022-07-11T07:21:37.128088Z",
     "shell.execute_reply": "2022-07-11T07:21:37.128688Z",
     "shell.execute_reply.started": "2022-07-07T07:57:02.343426Z"
    },
    "papermill": {
     "duration": 0.064946,
     "end_time": "2022-07-11T07:21:37.128887",
     "exception": false,
     "start_time": "2022-07-11T07:21:37.063941",
     "status": "completed"
    },
    "tags": []
   },
   "outputs": [
    {
     "name": "stdout",
     "output_type": "stream",
     "text": [
      "Distance: \n",
      "0.6666666666666666\n",
      "Lingua accuracy: 0.46846846846846846\n"
     ]
    }
   ],
   "source": [
    "print(\"Distance: \")\n",
    "print(compute_average_distance(lingua, \"cefr\"))\n",
    "\n",
    "print(f\"Lingua accuracy: {(lingua['preds'] == lingua['cefr']).mean()}\")"
   ]
  },
  {
   "cell_type": "markdown",
   "id": "7c2f9114",
   "metadata": {
    "papermill": {
     "duration": 0.052381,
     "end_time": "2022-07-11T07:21:37.235013",
     "exception": false,
     "start_time": "2022-07-11T07:21:37.182632",
     "status": "completed"
    },
    "tags": []
   },
   "source": [
    "****"
   ]
  },
  {
   "cell_type": "markdown",
   "id": "603d5b01",
   "metadata": {
    "papermill": {
     "duration": 0.052065,
     "end_time": "2022-07-11T07:21:37.339340",
     "exception": false,
     "start_time": "2022-07-11T07:21:37.287275",
     "status": "completed"
    },
    "tags": []
   },
   "source": [
    "****"
   ]
  },
  {
   "cell_type": "code",
   "execution_count": 34,
   "id": "a3a8cc3e",
   "metadata": {
    "execution": {
     "iopub.execute_input": "2022-07-11T07:21:37.490350Z",
     "iopub.status.busy": "2022-07-11T07:21:37.489495Z",
     "iopub.status.idle": "2022-07-11T07:21:37.492725Z",
     "shell.execute_reply": "2022-07-11T07:21:37.493147Z",
     "shell.execute_reply.started": "2022-07-07T07:57:02.354219Z"
    },
    "papermill": {
     "duration": 0.101337,
     "end_time": "2022-07-11T07:21:37.493312",
     "exception": false,
     "start_time": "2022-07-11T07:21:37.391975",
     "status": "completed"
    },
    "tags": []
   },
   "outputs": [
    {
     "data": {
      "text/plain": [
       "A2    55\n",
       "B1    35\n",
       "B2    13\n",
       "A1     8\n",
       "Name: Predss, dtype: int64"
      ]
     },
     "execution_count": 34,
     "metadata": {},
     "output_type": "execute_result"
    }
   ],
   "source": [
    "for i in range(lingua.shape[0]):\n",
    "    if (lingua.loc[i,\"preds\"]==\"C1\") | (lingua.loc[i,\"preds\"]==\"C2\") :\n",
    "        lingua.loc[i,\"Predss\"]=\"B2\"\n",
    "    else :\n",
    "        lingua.loc[i,\"Predss\"]= lingua.loc[i,\"preds\"]\n",
    "lingua[\"Predss\"].value_counts()"
   ]
  },
  {
   "cell_type": "code",
   "execution_count": 35,
   "id": "91518160",
   "metadata": {
    "execution": {
     "iopub.execute_input": "2022-07-11T07:21:37.608109Z",
     "iopub.status.busy": "2022-07-11T07:21:37.607497Z",
     "iopub.status.idle": "2022-07-11T07:21:37.610683Z",
     "shell.execute_reply": "2022-07-11T07:21:37.611370Z",
     "shell.execute_reply.started": "2022-07-07T07:57:02.403522Z"
    },
    "papermill": {
     "duration": 0.065409,
     "end_time": "2022-07-11T07:21:37.611558",
     "exception": false,
     "start_time": "2022-07-11T07:21:37.546149",
     "status": "completed"
    },
    "tags": []
   },
   "outputs": [
    {
     "name": "stdout",
     "output_type": "stream",
     "text": [
      "Distance: \n",
      "0.6666666666666666\n",
      "Lingua accuracy: 0.4774774774774775\n"
     ]
    }
   ],
   "source": [
    "print(\"Distance: \")\n",
    "print(compute_average_distance(lingua, \"cefr\"))\n",
    "\n",
    "print(f\"Lingua accuracy: {(lingua['Predss'] == lingua['cefr']).mean()}\")"
   ]
  },
  {
   "cell_type": "markdown",
   "id": "82c4e1f4",
   "metadata": {
    "papermill": {
     "duration": 0.055166,
     "end_time": "2022-07-11T07:21:38.192313",
     "exception": false,
     "start_time": "2022-07-11T07:21:38.137147",
     "status": "completed"
    },
    "tags": []
   },
   "source": [
    "****"
   ]
  },
  {
   "cell_type": "code",
   "execution_count": null,
   "id": "098a4bf1",
   "metadata": {
    "papermill": {
     "duration": 0.132469,
     "end_time": "2022-07-11T07:21:38.411190",
     "exception": false,
     "start_time": "2022-07-11T07:21:38.278721",
     "status": "completed"
    },
    "tags": []
   },
   "outputs": [],
   "source": []
  },
  {
   "cell_type": "code",
   "execution_count": null,
   "id": "8942231b",
   "metadata": {
    "papermill": {
     "duration": 0.058126,
     "end_time": "2022-07-11T07:21:38.554064",
     "exception": false,
     "start_time": "2022-07-11T07:21:38.495938",
     "status": "completed"
    },
    "tags": []
   },
   "outputs": [],
   "source": []
  },
  {
   "cell_type": "code",
   "execution_count": null,
   "id": "20ecb426",
   "metadata": {
    "papermill": {
     "duration": 0.056167,
     "end_time": "2022-07-11T07:21:38.666787",
     "exception": false,
     "start_time": "2022-07-11T07:21:38.610620",
     "status": "completed"
    },
    "tags": []
   },
   "outputs": [],
   "source": []
  },
  {
   "cell_type": "code",
   "execution_count": null,
   "id": "c08ab146",
   "metadata": {
    "papermill": {
     "duration": 0.052571,
     "end_time": "2022-07-11T07:21:38.772279",
     "exception": false,
     "start_time": "2022-07-11T07:21:38.719708",
     "status": "completed"
    },
    "tags": []
   },
   "outputs": [],
   "source": []
  }
 ],
 "metadata": {
  "kernelspec": {
   "display_name": "Python 3",
   "language": "python",
   "name": "python3"
  },
  "language_info": {
   "codemirror_mode": {
    "name": "ipython",
    "version": 3
   },
   "file_extension": ".py",
   "mimetype": "text/x-python",
   "name": "python",
   "nbconvert_exporter": "python",
   "pygments_lexer": "ipython3",
   "version": "3.7.10"
  },
  "papermill": {
   "default_parameters": {},
   "duration": 736.722563,
   "end_time": "2022-07-11T07:21:42.195750",
   "environment_variables": {},
   "exception": null,
   "input_path": "__notebook__.ipynb",
   "output_path": "__notebook__.ipynb",
   "parameters": {},
   "start_time": "2022-07-11T07:09:25.473187",
   "version": "2.3.3"
  },
  "widgets": {
   "application/vnd.jupyter.widget-state+json": {
    "state": {
     "0203103495034c419da3c6ce09ecdba5": {
      "model_module": "@jupyter-widgets/controls",
      "model_module_version": "1.5.0",
      "model_name": "HBoxModel",
      "state": {
       "_dom_classes": [],
       "_model_module": "@jupyter-widgets/controls",
       "_model_module_version": "1.5.0",
       "_model_name": "HBoxModel",
       "_view_count": null,
       "_view_module": "@jupyter-widgets/controls",
       "_view_module_version": "1.5.0",
       "_view_name": "HBoxView",
       "box_style": "",
       "children": [
        "IPY_MODEL_28f1f67f003a4725856b50abc006c7cf",
        "IPY_MODEL_2209288a859740b6af00982503b53286",
        "IPY_MODEL_82da951c4bb44f798c874432ae013c85"
       ],
       "layout": "IPY_MODEL_217ee870f0964c55bf4d76909c1b21e8"
      }
     },
     "027971c7b6db46ebb9d1b7ee7dda384e": {
      "model_module": "@jupyter-widgets/controls",
      "model_module_version": "1.5.0",
      "model_name": "HTMLModel",
      "state": {
       "_dom_classes": [],
       "_model_module": "@jupyter-widgets/controls",
       "_model_module_version": "1.5.0",
       "_model_name": "HTMLModel",
       "_view_count": null,
       "_view_module": "@jupyter-widgets/controls",
       "_view_module_version": "1.5.0",
       "_view_name": "HTMLView",
       "description": "",
       "description_tooltip": null,
       "layout": "IPY_MODEL_889d823b7fe24200b1d6c64fcf2703ce",
       "placeholder": "​",
       "style": "IPY_MODEL_a5d2e39576564e79bd98e767e23ac0e3",
       "value": "Downloading: 100%"
      }
     },
     "03aaabaaaca44e3892adf9bcb755f2d2": {
      "model_module": "@jupyter-widgets/base",
      "model_module_version": "1.2.0",
      "model_name": "LayoutModel",
      "state": {
       "_model_module": "@jupyter-widgets/base",
       "_model_module_version": "1.2.0",
       "_model_name": "LayoutModel",
       "_view_count": null,
       "_view_module": "@jupyter-widgets/base",
       "_view_module_version": "1.2.0",
       "_view_name": "LayoutView",
       "align_content": null,
       "align_items": null,
       "align_self": null,
       "border": null,
       "bottom": null,
       "display": null,
       "flex": null,
       "flex_flow": null,
       "grid_area": null,
       "grid_auto_columns": null,
       "grid_auto_flow": null,
       "grid_auto_rows": null,
       "grid_column": null,
       "grid_gap": null,
       "grid_row": null,
       "grid_template_areas": null,
       "grid_template_columns": null,
       "grid_template_rows": null,
       "height": null,
       "justify_content": null,
       "justify_items": null,
       "left": null,
       "margin": null,
       "max_height": null,
       "max_width": null,
       "min_height": null,
       "min_width": null,
       "object_fit": null,
       "object_position": null,
       "order": null,
       "overflow": null,
       "overflow_x": null,
       "overflow_y": null,
       "padding": null,
       "right": null,
       "top": null,
       "visibility": null,
       "width": null
      }
     },
     "1b2fa391c05247d5921ac88975fb990e": {
      "model_module": "@jupyter-widgets/controls",
      "model_module_version": "1.5.0",
      "model_name": "DescriptionStyleModel",
      "state": {
       "_model_module": "@jupyter-widgets/controls",
       "_model_module_version": "1.5.0",
       "_model_name": "DescriptionStyleModel",
       "_view_count": null,
       "_view_module": "@jupyter-widgets/base",
       "_view_module_version": "1.2.0",
       "_view_name": "StyleView",
       "description_width": ""
      }
     },
     "217ee870f0964c55bf4d76909c1b21e8": {
      "model_module": "@jupyter-widgets/base",
      "model_module_version": "1.2.0",
      "model_name": "LayoutModel",
      "state": {
       "_model_module": "@jupyter-widgets/base",
       "_model_module_version": "1.2.0",
       "_model_name": "LayoutModel",
       "_view_count": null,
       "_view_module": "@jupyter-widgets/base",
       "_view_module_version": "1.2.0",
       "_view_name": "LayoutView",
       "align_content": null,
       "align_items": null,
       "align_self": null,
       "border": null,
       "bottom": null,
       "display": null,
       "flex": null,
       "flex_flow": null,
       "grid_area": null,
       "grid_auto_columns": null,
       "grid_auto_flow": null,
       "grid_auto_rows": null,
       "grid_column": null,
       "grid_gap": null,
       "grid_row": null,
       "grid_template_areas": null,
       "grid_template_columns": null,
       "grid_template_rows": null,
       "height": null,
       "justify_content": null,
       "justify_items": null,
       "left": null,
       "margin": null,
       "max_height": null,
       "max_width": null,
       "min_height": null,
       "min_width": null,
       "object_fit": null,
       "object_position": null,
       "order": null,
       "overflow": null,
       "overflow_x": null,
       "overflow_y": null,
       "padding": null,
       "right": null,
       "top": null,
       "visibility": null,
       "width": null
      }
     },
     "2209288a859740b6af00982503b53286": {
      "model_module": "@jupyter-widgets/controls",
      "model_module_version": "1.5.0",
      "model_name": "FloatProgressModel",
      "state": {
       "_dom_classes": [],
       "_model_module": "@jupyter-widgets/controls",
       "_model_module_version": "1.5.0",
       "_model_name": "FloatProgressModel",
       "_view_count": null,
       "_view_module": "@jupyter-widgets/controls",
       "_view_module_version": "1.5.0",
       "_view_name": "ProgressView",
       "bar_style": "success",
       "description": "",
       "description_tooltip": null,
       "layout": "IPY_MODEL_3661c8b0a92b4ad882c88607913b8f4d",
       "max": 227141.0,
       "min": 0.0,
       "orientation": "horizontal",
       "style": "IPY_MODEL_825746bfc8e2414d81db159f3fc16e65",
       "value": 227141.0
      }
     },
     "28f1f67f003a4725856b50abc006c7cf": {
      "model_module": "@jupyter-widgets/controls",
      "model_module_version": "1.5.0",
      "model_name": "HTMLModel",
      "state": {
       "_dom_classes": [],
       "_model_module": "@jupyter-widgets/controls",
       "_model_module_version": "1.5.0",
       "_model_name": "HTMLModel",
       "_view_count": null,
       "_view_module": "@jupyter-widgets/controls",
       "_view_module_version": "1.5.0",
       "_view_name": "HTMLView",
       "description": "",
       "description_tooltip": null,
       "layout": "IPY_MODEL_b69ba19824594168a69e39867988e674",
       "placeholder": "​",
       "style": "IPY_MODEL_613750c48cd04639823e14117cc1411d",
       "value": "Downloading: 100%"
      }
     },
     "320c81a024f648509af65507945d6ad8": {
      "model_module": "@jupyter-widgets/controls",
      "model_module_version": "1.5.0",
      "model_name": "HTMLModel",
      "state": {
       "_dom_classes": [],
       "_model_module": "@jupyter-widgets/controls",
       "_model_module_version": "1.5.0",
       "_model_name": "HTMLModel",
       "_view_count": null,
       "_view_module": "@jupyter-widgets/controls",
       "_view_module_version": "1.5.0",
       "_view_name": "HTMLView",
       "description": "",
       "description_tooltip": null,
       "layout": "IPY_MODEL_98ef59640b7e4d818cf1502615ec6c2b",
       "placeholder": "​",
       "style": "IPY_MODEL_1b2fa391c05247d5921ac88975fb990e",
       "value": " 445M/445M [00:15&lt;00:00, 31.4MB/s]"
      }
     },
     "3661c8b0a92b4ad882c88607913b8f4d": {
      "model_module": "@jupyter-widgets/base",
      "model_module_version": "1.2.0",
      "model_name": "LayoutModel",
      "state": {
       "_model_module": "@jupyter-widgets/base",
       "_model_module_version": "1.2.0",
       "_model_name": "LayoutModel",
       "_view_count": null,
       "_view_module": "@jupyter-widgets/base",
       "_view_module_version": "1.2.0",
       "_view_name": "LayoutView",
       "align_content": null,
       "align_items": null,
       "align_self": null,
       "border": null,
       "bottom": null,
       "display": null,
       "flex": null,
       "flex_flow": null,
       "grid_area": null,
       "grid_auto_columns": null,
       "grid_auto_flow": null,
       "grid_auto_rows": null,
       "grid_column": null,
       "grid_gap": null,
       "grid_row": null,
       "grid_template_areas": null,
       "grid_template_columns": null,
       "grid_template_rows": null,
       "height": null,
       "justify_content": null,
       "justify_items": null,
       "left": null,
       "margin": null,
       "max_height": null,
       "max_width": null,
       "min_height": null,
       "min_width": null,
       "object_fit": null,
       "object_position": null,
       "order": null,
       "overflow": null,
       "overflow_x": null,
       "overflow_y": null,
       "padding": null,
       "right": null,
       "top": null,
       "visibility": null,
       "width": null
      }
     },
     "366382ac2ee84ebd8ddba11ad7a51a63": {
      "model_module": "@jupyter-widgets/controls",
      "model_module_version": "1.5.0",
      "model_name": "HTMLModel",
      "state": {
       "_dom_classes": [],
       "_model_module": "@jupyter-widgets/controls",
       "_model_module_version": "1.5.0",
       "_model_name": "HTMLModel",
       "_view_count": null,
       "_view_module": "@jupyter-widgets/controls",
       "_view_module_version": "1.5.0",
       "_view_name": "HTMLView",
       "description": "",
       "description_tooltip": null,
       "layout": "IPY_MODEL_fb06fbc7dbc44942ba6d79e49c7c4acb",
       "placeholder": "​",
       "style": "IPY_MODEL_683977645c1a45edb2bd200e4314ef7b",
       "value": "Downloading: 100%"
      }
     },
     "495d1b3c815749409c2de850756b8f0b": {
      "model_module": "@jupyter-widgets/base",
      "model_module_version": "1.2.0",
      "model_name": "LayoutModel",
      "state": {
       "_model_module": "@jupyter-widgets/base",
       "_model_module_version": "1.2.0",
       "_model_name": "LayoutModel",
       "_view_count": null,
       "_view_module": "@jupyter-widgets/base",
       "_view_module_version": "1.2.0",
       "_view_name": "LayoutView",
       "align_content": null,
       "align_items": null,
       "align_self": null,
       "border": null,
       "bottom": null,
       "display": null,
       "flex": null,
       "flex_flow": null,
       "grid_area": null,
       "grid_auto_columns": null,
       "grid_auto_flow": null,
       "grid_auto_rows": null,
       "grid_column": null,
       "grid_gap": null,
       "grid_row": null,
       "grid_template_areas": null,
       "grid_template_columns": null,
       "grid_template_rows": null,
       "height": null,
       "justify_content": null,
       "justify_items": null,
       "left": null,
       "margin": null,
       "max_height": null,
       "max_width": null,
       "min_height": null,
       "min_width": null,
       "object_fit": null,
       "object_position": null,
       "order": null,
       "overflow": null,
       "overflow_x": null,
       "overflow_y": null,
       "padding": null,
       "right": null,
       "top": null,
       "visibility": null,
       "width": null
      }
     },
     "4f8229efbc21440b987bb2fd87d6ce75": {
      "model_module": "@jupyter-widgets/controls",
      "model_module_version": "1.5.0",
      "model_name": "ProgressStyleModel",
      "state": {
       "_model_module": "@jupyter-widgets/controls",
       "_model_module_version": "1.5.0",
       "_model_name": "ProgressStyleModel",
       "_view_count": null,
       "_view_module": "@jupyter-widgets/base",
       "_view_module_version": "1.2.0",
       "_view_name": "StyleView",
       "bar_color": null,
       "description_width": ""
      }
     },
     "557c253bff0440acbceb7d07e828c3e2": {
      "model_module": "@jupyter-widgets/base",
      "model_module_version": "1.2.0",
      "model_name": "LayoutModel",
      "state": {
       "_model_module": "@jupyter-widgets/base",
       "_model_module_version": "1.2.0",
       "_model_name": "LayoutModel",
       "_view_count": null,
       "_view_module": "@jupyter-widgets/base",
       "_view_module_version": "1.2.0",
       "_view_name": "LayoutView",
       "align_content": null,
       "align_items": null,
       "align_self": null,
       "border": null,
       "bottom": null,
       "display": null,
       "flex": null,
       "flex_flow": null,
       "grid_area": null,
       "grid_auto_columns": null,
       "grid_auto_flow": null,
       "grid_auto_rows": null,
       "grid_column": null,
       "grid_gap": null,
       "grid_row": null,
       "grid_template_areas": null,
       "grid_template_columns": null,
       "grid_template_rows": null,
       "height": null,
       "justify_content": null,
       "justify_items": null,
       "left": null,
       "margin": null,
       "max_height": null,
       "max_width": null,
       "min_height": null,
       "min_width": null,
       "object_fit": null,
       "object_position": null,
       "order": null,
       "overflow": null,
       "overflow_x": null,
       "overflow_y": null,
       "padding": null,
       "right": null,
       "top": null,
       "visibility": null,
       "width": null
      }
     },
     "60be9ef8543c4168b8778bc1f9a6169a": {
      "model_module": "@jupyter-widgets/controls",
      "model_module_version": "1.5.0",
      "model_name": "DescriptionStyleModel",
      "state": {
       "_model_module": "@jupyter-widgets/controls",
       "_model_module_version": "1.5.0",
       "_model_name": "DescriptionStyleModel",
       "_view_count": null,
       "_view_module": "@jupyter-widgets/base",
       "_view_module_version": "1.2.0",
       "_view_name": "StyleView",
       "description_width": ""
      }
     },
     "613750c48cd04639823e14117cc1411d": {
      "model_module": "@jupyter-widgets/controls",
      "model_module_version": "1.5.0",
      "model_name": "DescriptionStyleModel",
      "state": {
       "_model_module": "@jupyter-widgets/controls",
       "_model_module_version": "1.5.0",
       "_model_name": "DescriptionStyleModel",
       "_view_count": null,
       "_view_module": "@jupyter-widgets/base",
       "_view_module_version": "1.2.0",
       "_view_name": "StyleView",
       "description_width": ""
      }
     },
     "683977645c1a45edb2bd200e4314ef7b": {
      "model_module": "@jupyter-widgets/controls",
      "model_module_version": "1.5.0",
      "model_name": "DescriptionStyleModel",
      "state": {
       "_model_module": "@jupyter-widgets/controls",
       "_model_module_version": "1.5.0",
       "_model_name": "DescriptionStyleModel",
       "_view_count": null,
       "_view_module": "@jupyter-widgets/base",
       "_view_module_version": "1.2.0",
       "_view_name": "StyleView",
       "description_width": ""
      }
     },
     "6aa0be35f17a44f4a9e355fb1a481ceb": {
      "model_module": "@jupyter-widgets/base",
      "model_module_version": "1.2.0",
      "model_name": "LayoutModel",
      "state": {
       "_model_module": "@jupyter-widgets/base",
       "_model_module_version": "1.2.0",
       "_model_name": "LayoutModel",
       "_view_count": null,
       "_view_module": "@jupyter-widgets/base",
       "_view_module_version": "1.2.0",
       "_view_name": "LayoutView",
       "align_content": null,
       "align_items": null,
       "align_self": null,
       "border": null,
       "bottom": null,
       "display": null,
       "flex": null,
       "flex_flow": null,
       "grid_area": null,
       "grid_auto_columns": null,
       "grid_auto_flow": null,
       "grid_auto_rows": null,
       "grid_column": null,
       "grid_gap": null,
       "grid_row": null,
       "grid_template_areas": null,
       "grid_template_columns": null,
       "grid_template_rows": null,
       "height": null,
       "justify_content": null,
       "justify_items": null,
       "left": null,
       "margin": null,
       "max_height": null,
       "max_width": null,
       "min_height": null,
       "min_width": null,
       "object_fit": null,
       "object_position": null,
       "order": null,
       "overflow": null,
       "overflow_x": null,
       "overflow_y": null,
       "padding": null,
       "right": null,
       "top": null,
       "visibility": null,
       "width": null
      }
     },
     "7088e1723a394e6cb8a445dec7de9c96": {
      "model_module": "@jupyter-widgets/controls",
      "model_module_version": "1.5.0",
      "model_name": "FloatProgressModel",
      "state": {
       "_dom_classes": [],
       "_model_module": "@jupyter-widgets/controls",
       "_model_module_version": "1.5.0",
       "_model_name": "FloatProgressModel",
       "_view_count": null,
       "_view_module": "@jupyter-widgets/controls",
       "_view_module_version": "1.5.0",
       "_view_name": "ProgressView",
       "bar_style": "success",
       "description": "",
       "description_tooltip": null,
       "layout": "IPY_MODEL_495d1b3c815749409c2de850756b8f0b",
       "max": 420.0,
       "min": 0.0,
       "orientation": "horizontal",
       "style": "IPY_MODEL_4f8229efbc21440b987bb2fd87d6ce75",
       "value": 420.0
      }
     },
     "76e8774432734227afa470211908330d": {
      "model_module": "@jupyter-widgets/controls",
      "model_module_version": "1.5.0",
      "model_name": "HBoxModel",
      "state": {
       "_dom_classes": [],
       "_model_module": "@jupyter-widgets/controls",
       "_model_module_version": "1.5.0",
       "_model_name": "HBoxModel",
       "_view_count": null,
       "_view_module": "@jupyter-widgets/controls",
       "_view_module_version": "1.5.0",
       "_view_name": "HBoxView",
       "box_style": "",
       "children": [
        "IPY_MODEL_c5d9c0e7253a4ad2a90c60242d6b985e",
        "IPY_MODEL_7088e1723a394e6cb8a445dec7de9c96",
        "IPY_MODEL_a6832cdbbc4a48629d4a922d6aada3ec"
       ],
       "layout": "IPY_MODEL_bbc85af5bd9c4c69b4575138e50277fe"
      }
     },
     "79600ccfe9214509b94cc2ff3f64afbc": {
      "model_module": "@jupyter-widgets/controls",
      "model_module_version": "1.5.0",
      "model_name": "DescriptionStyleModel",
      "state": {
       "_model_module": "@jupyter-widgets/controls",
       "_model_module_version": "1.5.0",
       "_model_name": "DescriptionStyleModel",
       "_view_count": null,
       "_view_module": "@jupyter-widgets/base",
       "_view_module_version": "1.2.0",
       "_view_name": "StyleView",
       "description_width": ""
      }
     },
     "7b68fd00898449919e8ea79a837458fb": {
      "model_module": "@jupyter-widgets/controls",
      "model_module_version": "1.5.0",
      "model_name": "DescriptionStyleModel",
      "state": {
       "_model_module": "@jupyter-widgets/controls",
       "_model_module_version": "1.5.0",
       "_model_name": "DescriptionStyleModel",
       "_view_count": null,
       "_view_module": "@jupyter-widgets/base",
       "_view_module_version": "1.2.0",
       "_view_name": "StyleView",
       "description_width": ""
      }
     },
     "825746bfc8e2414d81db159f3fc16e65": {
      "model_module": "@jupyter-widgets/controls",
      "model_module_version": "1.5.0",
      "model_name": "ProgressStyleModel",
      "state": {
       "_model_module": "@jupyter-widgets/controls",
       "_model_module_version": "1.5.0",
       "_model_name": "ProgressStyleModel",
       "_view_count": null,
       "_view_module": "@jupyter-widgets/base",
       "_view_module_version": "1.2.0",
       "_view_name": "StyleView",
       "bar_color": null,
       "description_width": ""
      }
     },
     "82da951c4bb44f798c874432ae013c85": {
      "model_module": "@jupyter-widgets/controls",
      "model_module_version": "1.5.0",
      "model_name": "HTMLModel",
      "state": {
       "_dom_classes": [],
       "_model_module": "@jupyter-widgets/controls",
       "_model_module_version": "1.5.0",
       "_model_name": "HTMLModel",
       "_view_count": null,
       "_view_module": "@jupyter-widgets/controls",
       "_view_module_version": "1.5.0",
       "_view_name": "HTMLView",
       "description": "",
       "description_tooltip": null,
       "layout": "IPY_MODEL_03aaabaaaca44e3892adf9bcb755f2d2",
       "placeholder": "​",
       "style": "IPY_MODEL_79600ccfe9214509b94cc2ff3f64afbc",
       "value": " 227k/227k [00:00&lt;00:00, 465kB/s]"
      }
     },
     "889d823b7fe24200b1d6c64fcf2703ce": {
      "model_module": "@jupyter-widgets/base",
      "model_module_version": "1.2.0",
      "model_name": "LayoutModel",
      "state": {
       "_model_module": "@jupyter-widgets/base",
       "_model_module_version": "1.2.0",
       "_model_name": "LayoutModel",
       "_view_count": null,
       "_view_module": "@jupyter-widgets/base",
       "_view_module_version": "1.2.0",
       "_view_name": "LayoutView",
       "align_content": null,
       "align_items": null,
       "align_self": null,
       "border": null,
       "bottom": null,
       "display": null,
       "flex": null,
       "flex_flow": null,
       "grid_area": null,
       "grid_auto_columns": null,
       "grid_auto_flow": null,
       "grid_auto_rows": null,
       "grid_column": null,
       "grid_gap": null,
       "grid_row": null,
       "grid_template_areas": null,
       "grid_template_columns": null,
       "grid_template_rows": null,
       "height": null,
       "justify_content": null,
       "justify_items": null,
       "left": null,
       "margin": null,
       "max_height": null,
       "max_width": null,
       "min_height": null,
       "min_width": null,
       "object_fit": null,
       "object_position": null,
       "order": null,
       "overflow": null,
       "overflow_x": null,
       "overflow_y": null,
       "padding": null,
       "right": null,
       "top": null,
       "visibility": null,
       "width": null
      }
     },
     "8c13f943faa443c6bae135adf3764212": {
      "model_module": "@jupyter-widgets/base",
      "model_module_version": "1.2.0",
      "model_name": "LayoutModel",
      "state": {
       "_model_module": "@jupyter-widgets/base",
       "_model_module_version": "1.2.0",
       "_model_name": "LayoutModel",
       "_view_count": null,
       "_view_module": "@jupyter-widgets/base",
       "_view_module_version": "1.2.0",
       "_view_name": "LayoutView",
       "align_content": null,
       "align_items": null,
       "align_self": null,
       "border": null,
       "bottom": null,
       "display": null,
       "flex": null,
       "flex_flow": null,
       "grid_area": null,
       "grid_auto_columns": null,
       "grid_auto_flow": null,
       "grid_auto_rows": null,
       "grid_column": null,
       "grid_gap": null,
       "grid_row": null,
       "grid_template_areas": null,
       "grid_template_columns": null,
       "grid_template_rows": null,
       "height": null,
       "justify_content": null,
       "justify_items": null,
       "left": null,
       "margin": null,
       "max_height": null,
       "max_width": null,
       "min_height": null,
       "min_width": null,
       "object_fit": null,
       "object_position": null,
       "order": null,
       "overflow": null,
       "overflow_x": null,
       "overflow_y": null,
       "padding": null,
       "right": null,
       "top": null,
       "visibility": null,
       "width": null
      }
     },
     "93687e25036f430cb53e946ac533784b": {
      "model_module": "@jupyter-widgets/controls",
      "model_module_version": "1.5.0",
      "model_name": "DescriptionStyleModel",
      "state": {
       "_model_module": "@jupyter-widgets/controls",
       "_model_module_version": "1.5.0",
       "_model_name": "DescriptionStyleModel",
       "_view_count": null,
       "_view_module": "@jupyter-widgets/base",
       "_view_module_version": "1.2.0",
       "_view_name": "StyleView",
       "description_width": ""
      }
     },
     "95f838ef431d4363b2e11b0d60989f40": {
      "model_module": "@jupyter-widgets/controls",
      "model_module_version": "1.5.0",
      "model_name": "FloatProgressModel",
      "state": {
       "_dom_classes": [],
       "_model_module": "@jupyter-widgets/controls",
       "_model_module_version": "1.5.0",
       "_model_name": "FloatProgressModel",
       "_view_count": null,
       "_view_module": "@jupyter-widgets/controls",
       "_view_module_version": "1.5.0",
       "_view_name": "ProgressView",
       "bar_style": "success",
       "description": "",
       "description_tooltip": null,
       "layout": "IPY_MODEL_ef370bb223a84647a79d521d26b1680a",
       "max": 445018784.0,
       "min": 0.0,
       "orientation": "horizontal",
       "style": "IPY_MODEL_f9cc4576ef384f17aceaf42270082fb4",
       "value": 445018784.0
      }
     },
     "98ef59640b7e4d818cf1502615ec6c2b": {
      "model_module": "@jupyter-widgets/base",
      "model_module_version": "1.2.0",
      "model_name": "LayoutModel",
      "state": {
       "_model_module": "@jupyter-widgets/base",
       "_model_module_version": "1.2.0",
       "_model_name": "LayoutModel",
       "_view_count": null,
       "_view_module": "@jupyter-widgets/base",
       "_view_module_version": "1.2.0",
       "_view_name": "LayoutView",
       "align_content": null,
       "align_items": null,
       "align_self": null,
       "border": null,
       "bottom": null,
       "display": null,
       "flex": null,
       "flex_flow": null,
       "grid_area": null,
       "grid_auto_columns": null,
       "grid_auto_flow": null,
       "grid_auto_rows": null,
       "grid_column": null,
       "grid_gap": null,
       "grid_row": null,
       "grid_template_areas": null,
       "grid_template_columns": null,
       "grid_template_rows": null,
       "height": null,
       "justify_content": null,
       "justify_items": null,
       "left": null,
       "margin": null,
       "max_height": null,
       "max_width": null,
       "min_height": null,
       "min_width": null,
       "object_fit": null,
       "object_position": null,
       "order": null,
       "overflow": null,
       "overflow_x": null,
       "overflow_y": null,
       "padding": null,
       "right": null,
       "top": null,
       "visibility": null,
       "width": null
      }
     },
     "a20c72f342c044e9a31db06758818573": {
      "model_module": "@jupyter-widgets/base",
      "model_module_version": "1.2.0",
      "model_name": "LayoutModel",
      "state": {
       "_model_module": "@jupyter-widgets/base",
       "_model_module_version": "1.2.0",
       "_model_name": "LayoutModel",
       "_view_count": null,
       "_view_module": "@jupyter-widgets/base",
       "_view_module_version": "1.2.0",
       "_view_name": "LayoutView",
       "align_content": null,
       "align_items": null,
       "align_self": null,
       "border": null,
       "bottom": null,
       "display": null,
       "flex": null,
       "flex_flow": null,
       "grid_area": null,
       "grid_auto_columns": null,
       "grid_auto_flow": null,
       "grid_auto_rows": null,
       "grid_column": null,
       "grid_gap": null,
       "grid_row": null,
       "grid_template_areas": null,
       "grid_template_columns": null,
       "grid_template_rows": null,
       "height": null,
       "justify_content": null,
       "justify_items": null,
       "left": null,
       "margin": null,
       "max_height": null,
       "max_width": null,
       "min_height": null,
       "min_width": null,
       "object_fit": null,
       "object_position": null,
       "order": null,
       "overflow": null,
       "overflow_x": null,
       "overflow_y": null,
       "padding": null,
       "right": null,
       "top": null,
       "visibility": null,
       "width": null
      }
     },
     "a5d2e39576564e79bd98e767e23ac0e3": {
      "model_module": "@jupyter-widgets/controls",
      "model_module_version": "1.5.0",
      "model_name": "DescriptionStyleModel",
      "state": {
       "_model_module": "@jupyter-widgets/controls",
       "_model_module_version": "1.5.0",
       "_model_name": "DescriptionStyleModel",
       "_view_count": null,
       "_view_module": "@jupyter-widgets/base",
       "_view_module_version": "1.2.0",
       "_view_name": "StyleView",
       "description_width": ""
      }
     },
     "a67746c31eca44a6a895be7e5f2008c0": {
      "model_module": "@jupyter-widgets/controls",
      "model_module_version": "1.5.0",
      "model_name": "HBoxModel",
      "state": {
       "_dom_classes": [],
       "_model_module": "@jupyter-widgets/controls",
       "_model_module_version": "1.5.0",
       "_model_name": "HBoxModel",
       "_view_count": null,
       "_view_module": "@jupyter-widgets/controls",
       "_view_module_version": "1.5.0",
       "_view_name": "HBoxView",
       "box_style": "",
       "children": [
        "IPY_MODEL_366382ac2ee84ebd8ddba11ad7a51a63",
        "IPY_MODEL_e62f8d2bf2a0454cb1dd34392c14024d",
        "IPY_MODEL_eaf09264143b4fbcbb5cc6e2df2b9604"
       ],
       "layout": "IPY_MODEL_fdb583c9cbfe44cfb80c32f363238fcc"
      }
     },
     "a6832cdbbc4a48629d4a922d6aada3ec": {
      "model_module": "@jupyter-widgets/controls",
      "model_module_version": "1.5.0",
      "model_name": "HTMLModel",
      "state": {
       "_dom_classes": [],
       "_model_module": "@jupyter-widgets/controls",
       "_model_module_version": "1.5.0",
       "_model_name": "HTMLModel",
       "_view_count": null,
       "_view_module": "@jupyter-widgets/controls",
       "_view_module_version": "1.5.0",
       "_view_name": "HTMLView",
       "description": "",
       "description_tooltip": null,
       "layout": "IPY_MODEL_6aa0be35f17a44f4a9e355fb1a481ceb",
       "placeholder": "​",
       "style": "IPY_MODEL_93687e25036f430cb53e946ac533784b",
       "value": " 420/420 [00:00&lt;00:00, 14.9kB/s]"
      }
     },
     "b69ba19824594168a69e39867988e674": {
      "model_module": "@jupyter-widgets/base",
      "model_module_version": "1.2.0",
      "model_name": "LayoutModel",
      "state": {
       "_model_module": "@jupyter-widgets/base",
       "_model_module_version": "1.2.0",
       "_model_name": "LayoutModel",
       "_view_count": null,
       "_view_module": "@jupyter-widgets/base",
       "_view_module_version": "1.2.0",
       "_view_name": "LayoutView",
       "align_content": null,
       "align_items": null,
       "align_self": null,
       "border": null,
       "bottom": null,
       "display": null,
       "flex": null,
       "flex_flow": null,
       "grid_area": null,
       "grid_auto_columns": null,
       "grid_auto_flow": null,
       "grid_auto_rows": null,
       "grid_column": null,
       "grid_gap": null,
       "grid_row": null,
       "grid_template_areas": null,
       "grid_template_columns": null,
       "grid_template_rows": null,
       "height": null,
       "justify_content": null,
       "justify_items": null,
       "left": null,
       "margin": null,
       "max_height": null,
       "max_width": null,
       "min_height": null,
       "min_width": null,
       "object_fit": null,
       "object_position": null,
       "order": null,
       "overflow": null,
       "overflow_x": null,
       "overflow_y": null,
       "padding": null,
       "right": null,
       "top": null,
       "visibility": null,
       "width": null
      }
     },
     "b94e2435732b4e578a335d8c974ca7e2": {
      "model_module": "@jupyter-widgets/controls",
      "model_module_version": "1.5.0",
      "model_name": "ProgressStyleModel",
      "state": {
       "_model_module": "@jupyter-widgets/controls",
       "_model_module_version": "1.5.0",
       "_model_name": "ProgressStyleModel",
       "_view_count": null,
       "_view_module": "@jupyter-widgets/base",
       "_view_module_version": "1.2.0",
       "_view_name": "StyleView",
       "bar_color": null,
       "description_width": ""
      }
     },
     "bbc85af5bd9c4c69b4575138e50277fe": {
      "model_module": "@jupyter-widgets/base",
      "model_module_version": "1.2.0",
      "model_name": "LayoutModel",
      "state": {
       "_model_module": "@jupyter-widgets/base",
       "_model_module_version": "1.2.0",
       "_model_name": "LayoutModel",
       "_view_count": null,
       "_view_module": "@jupyter-widgets/base",
       "_view_module_version": "1.2.0",
       "_view_name": "LayoutView",
       "align_content": null,
       "align_items": null,
       "align_self": null,
       "border": null,
       "bottom": null,
       "display": null,
       "flex": null,
       "flex_flow": null,
       "grid_area": null,
       "grid_auto_columns": null,
       "grid_auto_flow": null,
       "grid_auto_rows": null,
       "grid_column": null,
       "grid_gap": null,
       "grid_row": null,
       "grid_template_areas": null,
       "grid_template_columns": null,
       "grid_template_rows": null,
       "height": null,
       "justify_content": null,
       "justify_items": null,
       "left": null,
       "margin": null,
       "max_height": null,
       "max_width": null,
       "min_height": null,
       "min_width": null,
       "object_fit": null,
       "object_position": null,
       "order": null,
       "overflow": null,
       "overflow_x": null,
       "overflow_y": null,
       "padding": null,
       "right": null,
       "top": null,
       "visibility": null,
       "width": null
      }
     },
     "c5d9c0e7253a4ad2a90c60242d6b985e": {
      "model_module": "@jupyter-widgets/controls",
      "model_module_version": "1.5.0",
      "model_name": "HTMLModel",
      "state": {
       "_dom_classes": [],
       "_model_module": "@jupyter-widgets/controls",
       "_model_module_version": "1.5.0",
       "_model_name": "HTMLModel",
       "_view_count": null,
       "_view_module": "@jupyter-widgets/controls",
       "_view_module_version": "1.5.0",
       "_view_name": "HTMLView",
       "description": "",
       "description_tooltip": null,
       "layout": "IPY_MODEL_a20c72f342c044e9a31db06758818573",
       "placeholder": "​",
       "style": "IPY_MODEL_60be9ef8543c4168b8778bc1f9a6169a",
       "value": "Downloading: 100%"
      }
     },
     "ce03d60ddd984e27919122134247faf2": {
      "model_module": "@jupyter-widgets/controls",
      "model_module_version": "1.5.0",
      "model_name": "HBoxModel",
      "state": {
       "_dom_classes": [],
       "_model_module": "@jupyter-widgets/controls",
       "_model_module_version": "1.5.0",
       "_model_name": "HBoxModel",
       "_view_count": null,
       "_view_module": "@jupyter-widgets/controls",
       "_view_module_version": "1.5.0",
       "_view_name": "HBoxView",
       "box_style": "",
       "children": [
        "IPY_MODEL_027971c7b6db46ebb9d1b7ee7dda384e",
        "IPY_MODEL_95f838ef431d4363b2e11b0d60989f40",
        "IPY_MODEL_320c81a024f648509af65507945d6ad8"
       ],
       "layout": "IPY_MODEL_8c13f943faa443c6bae135adf3764212"
      }
     },
     "e62f8d2bf2a0454cb1dd34392c14024d": {
      "model_module": "@jupyter-widgets/controls",
      "model_module_version": "1.5.0",
      "model_name": "FloatProgressModel",
      "state": {
       "_dom_classes": [],
       "_model_module": "@jupyter-widgets/controls",
       "_model_module_version": "1.5.0",
       "_model_name": "FloatProgressModel",
       "_view_count": null,
       "_view_module": "@jupyter-widgets/controls",
       "_view_module_version": "1.5.0",
       "_view_name": "ProgressView",
       "bar_style": "success",
       "description": "",
       "description_tooltip": null,
       "layout": "IPY_MODEL_557c253bff0440acbceb7d07e828c3e2",
       "max": 83.0,
       "min": 0.0,
       "orientation": "horizontal",
       "style": "IPY_MODEL_b94e2435732b4e578a335d8c974ca7e2",
       "value": 83.0
      }
     },
     "eaf09264143b4fbcbb5cc6e2df2b9604": {
      "model_module": "@jupyter-widgets/controls",
      "model_module_version": "1.5.0",
      "model_name": "HTMLModel",
      "state": {
       "_dom_classes": [],
       "_model_module": "@jupyter-widgets/controls",
       "_model_module_version": "1.5.0",
       "_model_name": "HTMLModel",
       "_view_count": null,
       "_view_module": "@jupyter-widgets/controls",
       "_view_module_version": "1.5.0",
       "_view_name": "HTMLView",
       "description": "",
       "description_tooltip": null,
       "layout": "IPY_MODEL_f8d4f04c2e0042f59eff9d7b445aac3a",
       "placeholder": "​",
       "style": "IPY_MODEL_7b68fd00898449919e8ea79a837458fb",
       "value": " 83.0/83.0 [00:00&lt;00:00, 3.15kB/s]"
      }
     },
     "ef370bb223a84647a79d521d26b1680a": {
      "model_module": "@jupyter-widgets/base",
      "model_module_version": "1.2.0",
      "model_name": "LayoutModel",
      "state": {
       "_model_module": "@jupyter-widgets/base",
       "_model_module_version": "1.2.0",
       "_model_name": "LayoutModel",
       "_view_count": null,
       "_view_module": "@jupyter-widgets/base",
       "_view_module_version": "1.2.0",
       "_view_name": "LayoutView",
       "align_content": null,
       "align_items": null,
       "align_self": null,
       "border": null,
       "bottom": null,
       "display": null,
       "flex": null,
       "flex_flow": null,
       "grid_area": null,
       "grid_auto_columns": null,
       "grid_auto_flow": null,
       "grid_auto_rows": null,
       "grid_column": null,
       "grid_gap": null,
       "grid_row": null,
       "grid_template_areas": null,
       "grid_template_columns": null,
       "grid_template_rows": null,
       "height": null,
       "justify_content": null,
       "justify_items": null,
       "left": null,
       "margin": null,
       "max_height": null,
       "max_width": null,
       "min_height": null,
       "min_width": null,
       "object_fit": null,
       "object_position": null,
       "order": null,
       "overflow": null,
       "overflow_x": null,
       "overflow_y": null,
       "padding": null,
       "right": null,
       "top": null,
       "visibility": null,
       "width": null
      }
     },
     "f8d4f04c2e0042f59eff9d7b445aac3a": {
      "model_module": "@jupyter-widgets/base",
      "model_module_version": "1.2.0",
      "model_name": "LayoutModel",
      "state": {
       "_model_module": "@jupyter-widgets/base",
       "_model_module_version": "1.2.0",
       "_model_name": "LayoutModel",
       "_view_count": null,
       "_view_module": "@jupyter-widgets/base",
       "_view_module_version": "1.2.0",
       "_view_name": "LayoutView",
       "align_content": null,
       "align_items": null,
       "align_self": null,
       "border": null,
       "bottom": null,
       "display": null,
       "flex": null,
       "flex_flow": null,
       "grid_area": null,
       "grid_auto_columns": null,
       "grid_auto_flow": null,
       "grid_auto_rows": null,
       "grid_column": null,
       "grid_gap": null,
       "grid_row": null,
       "grid_template_areas": null,
       "grid_template_columns": null,
       "grid_template_rows": null,
       "height": null,
       "justify_content": null,
       "justify_items": null,
       "left": null,
       "margin": null,
       "max_height": null,
       "max_width": null,
       "min_height": null,
       "min_width": null,
       "object_fit": null,
       "object_position": null,
       "order": null,
       "overflow": null,
       "overflow_x": null,
       "overflow_y": null,
       "padding": null,
       "right": null,
       "top": null,
       "visibility": null,
       "width": null
      }
     },
     "f9cc4576ef384f17aceaf42270082fb4": {
      "model_module": "@jupyter-widgets/controls",
      "model_module_version": "1.5.0",
      "model_name": "ProgressStyleModel",
      "state": {
       "_model_module": "@jupyter-widgets/controls",
       "_model_module_version": "1.5.0",
       "_model_name": "ProgressStyleModel",
       "_view_count": null,
       "_view_module": "@jupyter-widgets/base",
       "_view_module_version": "1.2.0",
       "_view_name": "StyleView",
       "bar_color": null,
       "description_width": ""
      }
     },
     "fb06fbc7dbc44942ba6d79e49c7c4acb": {
      "model_module": "@jupyter-widgets/base",
      "model_module_version": "1.2.0",
      "model_name": "LayoutModel",
      "state": {
       "_model_module": "@jupyter-widgets/base",
       "_model_module_version": "1.2.0",
       "_model_name": "LayoutModel",
       "_view_count": null,
       "_view_module": "@jupyter-widgets/base",
       "_view_module_version": "1.2.0",
       "_view_name": "LayoutView",
       "align_content": null,
       "align_items": null,
       "align_self": null,
       "border": null,
       "bottom": null,
       "display": null,
       "flex": null,
       "flex_flow": null,
       "grid_area": null,
       "grid_auto_columns": null,
       "grid_auto_flow": null,
       "grid_auto_rows": null,
       "grid_column": null,
       "grid_gap": null,
       "grid_row": null,
       "grid_template_areas": null,
       "grid_template_columns": null,
       "grid_template_rows": null,
       "height": null,
       "justify_content": null,
       "justify_items": null,
       "left": null,
       "margin": null,
       "max_height": null,
       "max_width": null,
       "min_height": null,
       "min_width": null,
       "object_fit": null,
       "object_position": null,
       "order": null,
       "overflow": null,
       "overflow_x": null,
       "overflow_y": null,
       "padding": null,
       "right": null,
       "top": null,
       "visibility": null,
       "width": null
      }
     },
     "fdb583c9cbfe44cfb80c32f363238fcc": {
      "model_module": "@jupyter-widgets/base",
      "model_module_version": "1.2.0",
      "model_name": "LayoutModel",
      "state": {
       "_model_module": "@jupyter-widgets/base",
       "_model_module_version": "1.2.0",
       "_model_name": "LayoutModel",
       "_view_count": null,
       "_view_module": "@jupyter-widgets/base",
       "_view_module_version": "1.2.0",
       "_view_name": "LayoutView",
       "align_content": null,
       "align_items": null,
       "align_self": null,
       "border": null,
       "bottom": null,
       "display": null,
       "flex": null,
       "flex_flow": null,
       "grid_area": null,
       "grid_auto_columns": null,
       "grid_auto_flow": null,
       "grid_auto_rows": null,
       "grid_column": null,
       "grid_gap": null,
       "grid_row": null,
       "grid_template_areas": null,
       "grid_template_columns": null,
       "grid_template_rows": null,
       "height": null,
       "justify_content": null,
       "justify_items": null,
       "left": null,
       "margin": null,
       "max_height": null,
       "max_width": null,
       "min_height": null,
       "min_width": null,
       "object_fit": null,
       "object_position": null,
       "order": null,
       "overflow": null,
       "overflow_x": null,
       "overflow_y": null,
       "padding": null,
       "right": null,
       "top": null,
       "visibility": null,
       "width": null
      }
     }
    },
    "version_major": 2,
    "version_minor": 0
   }
  }
 },
 "nbformat": 4,
 "nbformat_minor": 5
}
