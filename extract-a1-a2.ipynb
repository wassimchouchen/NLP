{
 "cells": [
  {
   "cell_type": "code",
   "execution_count": 1,
   "id": "11ab4309",
   "metadata": {
    "_cell_guid": "b1076dfc-b9ad-4769-8c92-a6c4dae69d19",
    "_uuid": "8f2839f25d086af736a60e9eeb907d3b93b6e0e5",
    "execution": {
     "iopub.execute_input": "2022-07-20T11:33:08.197617Z",
     "iopub.status.busy": "2022-07-20T11:33:08.196300Z",
     "iopub.status.idle": "2022-07-20T11:33:19.092632Z",
     "shell.execute_reply": "2022-07-20T11:33:19.091057Z",
     "shell.execute_reply.started": "2022-07-20T09:23:57.547481Z"
    },
    "papermill": {
     "duration": 10.924437,
     "end_time": "2022-07-20T11:33:19.092975",
     "exception": false,
     "start_time": "2022-07-20T11:33:08.168538",
     "status": "completed"
    },
    "tags": []
   },
   "outputs": [],
   "source": [
    "import os\n",
    "\n",
    "import random\n",
    "import numpy as np\n",
    "\n",
    "import pandas as pd\n",
    "import torch\n",
    "from torch.utils.data import Dataset, random_split\n",
    "from transformers import (\n",
    "    AdamW,\n",
    "    Trainer,\n",
    "    TrainingArguments,\n",
    "    AutoTokenizer,\n",
    "    AutoModelForSequenceClassification,\n",
    "    get_cosine_schedule_with_warmup,\n",
    ")\n",
    "from sklearn.preprocessing import LabelEncoder\n",
    "from sklearn.metrics import accuracy_score\n",
    "import warnings\n",
    "warnings.filterwarnings('ignore')"
   ]
  },
  {
   "cell_type": "code",
   "execution_count": 2,
   "id": "4f6932a8",
   "metadata": {
    "execution": {
     "iopub.execute_input": "2022-07-20T11:33:19.145961Z",
     "iopub.status.busy": "2022-07-20T11:33:19.145132Z",
     "iopub.status.idle": "2022-07-20T11:33:19.175891Z",
     "shell.execute_reply": "2022-07-20T11:33:19.176479Z",
     "shell.execute_reply.started": "2022-07-20T09:23:57.565484Z"
    },
    "papermill": {
     "duration": 0.056085,
     "end_time": "2022-07-20T11:33:19.176709",
     "exception": false,
     "start_time": "2022-07-20T11:33:19.120624",
     "status": "completed"
    },
    "tags": []
   },
   "outputs": [],
   "source": [
    "new_data=pd.read_csv(\"../input/csvvvv/Classeur 1 (5).csv\")"
   ]
  },
  {
   "cell_type": "code",
   "execution_count": 3,
   "id": "c81b6a93",
   "metadata": {
    "execution": {
     "iopub.execute_input": "2022-07-20T11:33:19.221641Z",
     "iopub.status.busy": "2022-07-20T11:33:19.220933Z",
     "iopub.status.idle": "2022-07-20T11:33:19.236482Z",
     "shell.execute_reply": "2022-07-20T11:33:19.237143Z",
     "shell.execute_reply.started": "2022-07-20T09:23:57.590522Z"
    },
    "papermill": {
     "duration": 0.039957,
     "end_time": "2022-07-20T11:33:19.237391",
     "exception": false,
     "start_time": "2022-07-20T11:33:19.197434",
     "status": "completed"
    },
    "tags": []
   },
   "outputs": [],
   "source": [
    "new_data.drop([\"Y\",\"Word Count\",\"Language\",' '], axis=1, inplace=True)\n",
    "new_data.columns = [\"text\", \"CEFR Review\",\"CEFR Level_Samar\"]"
   ]
  },
  {
   "cell_type": "code",
   "execution_count": 4,
   "id": "5b157e48",
   "metadata": {
    "execution": {
     "iopub.execute_input": "2022-07-20T11:33:19.288414Z",
     "iopub.status.busy": "2022-07-20T11:33:19.282211Z",
     "iopub.status.idle": "2022-07-20T11:33:19.292019Z",
     "shell.execute_reply": "2022-07-20T11:33:19.292518Z",
     "shell.execute_reply.started": "2022-07-20T09:23:57.602908Z"
    },
    "papermill": {
     "duration": 0.034664,
     "end_time": "2022-07-20T11:33:19.292742",
     "exception": false,
     "start_time": "2022-07-20T11:33:19.258078",
     "status": "completed"
    },
    "tags": []
   },
   "outputs": [
    {
     "data": {
      "text/plain": [
       "(191, 3)"
      ]
     },
     "execution_count": 4,
     "metadata": {},
     "output_type": "execute_result"
    }
   ],
   "source": [
    "new_data.shape"
   ]
  },
  {
   "cell_type": "code",
   "execution_count": 5,
   "id": "ede48f10",
   "metadata": {
    "execution": {
     "iopub.execute_input": "2022-07-20T11:33:19.339020Z",
     "iopub.status.busy": "2022-07-20T11:33:19.337957Z",
     "iopub.status.idle": "2022-07-20T11:33:19.354881Z",
     "shell.execute_reply": "2022-07-20T11:33:19.355567Z",
     "shell.execute_reply.started": "2022-07-20T09:23:57.614333Z"
    },
    "papermill": {
     "duration": 0.042847,
     "end_time": "2022-07-20T11:33:19.355807",
     "exception": false,
     "start_time": "2022-07-20T11:33:19.312960",
     "status": "completed"
    },
    "tags": []
   },
   "outputs": [
    {
     "data": {
      "text/html": [
       "<div>\n",
       "<style scoped>\n",
       "    .dataframe tbody tr th:only-of-type {\n",
       "        vertical-align: middle;\n",
       "    }\n",
       "\n",
       "    .dataframe tbody tr th {\n",
       "        vertical-align: top;\n",
       "    }\n",
       "\n",
       "    .dataframe thead th {\n",
       "        text-align: right;\n",
       "    }\n",
       "</style>\n",
       "<table border=\"1\" class=\"dataframe\">\n",
       "  <thead>\n",
       "    <tr style=\"text-align: right;\">\n",
       "      <th></th>\n",
       "      <th>text</th>\n",
       "      <th>CEFR Review</th>\n",
       "      <th>CEFR Level_Samar</th>\n",
       "    </tr>\n",
       "  </thead>\n",
       "  <tbody>\n",
       "    <tr>\n",
       "      <th>0</th>\n",
       "      <td>En 1815, M. Charles-François-Bienvenu Myriel é...</td>\n",
       "      <td>A2</td>\n",
       "      <td>C1</td>\n",
       "    </tr>\n",
       "    <tr>\n",
       "      <th>1</th>\n",
       "      <td>Quoique ce détail ne touche en aucune manière ...</td>\n",
       "      <td>C1</td>\n",
       "      <td>C2</td>\n",
       "    </tr>\n",
       "  </tbody>\n",
       "</table>\n",
       "</div>"
      ],
      "text/plain": [
       "                                                text CEFR Review  \\\n",
       "0  En 1815, M. Charles-François-Bienvenu Myriel é...          A2   \n",
       "1  Quoique ce détail ne touche en aucune manière ...          C1   \n",
       "\n",
       "  CEFR Level_Samar  \n",
       "0               C1  \n",
       "1               C2  "
      ]
     },
     "execution_count": 5,
     "metadata": {},
     "output_type": "execute_result"
    }
   ],
   "source": [
    "new_data.head(2)"
   ]
  },
  {
   "cell_type": "code",
   "execution_count": 6,
   "id": "ac7b1b35",
   "metadata": {
    "execution": {
     "iopub.execute_input": "2022-07-20T11:33:19.412063Z",
     "iopub.status.busy": "2022-07-20T11:33:19.411105Z",
     "iopub.status.idle": "2022-07-20T11:33:19.424223Z",
     "shell.execute_reply": "2022-07-20T11:33:19.423607Z",
     "shell.execute_reply.started": "2022-07-20T09:23:57.636026Z"
    },
    "papermill": {
     "duration": 0.045101,
     "end_time": "2022-07-20T11:33:19.424410",
     "exception": false,
     "start_time": "2022-07-20T11:33:19.379309",
     "status": "completed"
    },
    "tags": []
   },
   "outputs": [
    {
     "data": {
      "text/html": [
       "<div>\n",
       "<style scoped>\n",
       "    .dataframe tbody tr th:only-of-type {\n",
       "        vertical-align: middle;\n",
       "    }\n",
       "\n",
       "    .dataframe tbody tr th {\n",
       "        vertical-align: top;\n",
       "    }\n",
       "\n",
       "    .dataframe thead th {\n",
       "        text-align: right;\n",
       "    }\n",
       "</style>\n",
       "<table border=\"1\" class=\"dataframe\">\n",
       "  <thead>\n",
       "    <tr style=\"text-align: right;\">\n",
       "      <th></th>\n",
       "      <th>text</th>\n",
       "      <th>label</th>\n",
       "    </tr>\n",
       "  </thead>\n",
       "  <tbody>\n",
       "    <tr>\n",
       "      <th>0</th>\n",
       "      <td>En 1815, M. Charles-François-Bienvenu Myriel é...</td>\n",
       "      <td>C1</td>\n",
       "    </tr>\n",
       "    <tr>\n",
       "      <th>1</th>\n",
       "      <td>Quoique ce détail ne touche en aucune manière ...</td>\n",
       "      <td>C2</td>\n",
       "    </tr>\n",
       "    <tr>\n",
       "      <th>2</th>\n",
       "      <td>En 1804, M. Myriel était curé de Brignolles. I...</td>\n",
       "      <td>C1</td>\n",
       "    </tr>\n",
       "    <tr>\n",
       "      <th>3</th>\n",
       "      <td>Vers l'époque du couronnement, une petite affa...</td>\n",
       "      <td>C2</td>\n",
       "    </tr>\n",
       "    <tr>\n",
       "      <th>4</th>\n",
       "      <td>—Quel est ce bonhomme qui me regarde?</td>\n",
       "      <td>C1</td>\n",
       "    </tr>\n",
       "  </tbody>\n",
       "</table>\n",
       "</div>"
      ],
      "text/plain": [
       "                                                text label\n",
       "0  En 1815, M. Charles-François-Bienvenu Myriel é...    C1\n",
       "1  Quoique ce détail ne touche en aucune manière ...    C2\n",
       "2  En 1804, M. Myriel était curé de Brignolles. I...    C1\n",
       "3  Vers l'époque du couronnement, une petite affa...    C2\n",
       "4              —Quel est ce bonhomme qui me regarde?    C1"
      ]
     },
     "execution_count": 6,
     "metadata": {},
     "output_type": "execute_result"
    }
   ],
   "source": [
    "mike_20_june_samar=new_data[pd.notnull(new_data['CEFR Level_Samar'])]\n",
    "mike_20_june_samar.columns = [\"text\", \"CEFR Review\",\"label\"]\n",
    "mike_20_june_samar.drop([\"CEFR Review\"],axis=1, inplace=True)\n",
    "mike_20_june_samar.to_csv(\"mike_20_june_samar.csv\" , index=False)\n",
    "mike_20_june_samar.head()"
   ]
  },
  {
   "cell_type": "code",
   "execution_count": 7,
   "id": "34a0b897",
   "metadata": {
    "execution": {
     "iopub.execute_input": "2022-07-20T11:33:19.474832Z",
     "iopub.status.busy": "2022-07-20T11:33:19.474103Z",
     "iopub.status.idle": "2022-07-20T11:33:19.492013Z",
     "shell.execute_reply": "2022-07-20T11:33:19.491304Z",
     "shell.execute_reply.started": "2022-07-20T09:23:57.661766Z"
    },
    "papermill": {
     "duration": 0.04478,
     "end_time": "2022-07-20T11:33:19.492195",
     "exception": false,
     "start_time": "2022-07-20T11:33:19.447415",
     "status": "completed"
    },
    "tags": []
   },
   "outputs": [
    {
     "data": {
      "text/html": [
       "<div>\n",
       "<style scoped>\n",
       "    .dataframe tbody tr th:only-of-type {\n",
       "        vertical-align: middle;\n",
       "    }\n",
       "\n",
       "    .dataframe tbody tr th {\n",
       "        vertical-align: top;\n",
       "    }\n",
       "\n",
       "    .dataframe thead th {\n",
       "        text-align: right;\n",
       "    }\n",
       "</style>\n",
       "<table border=\"1\" class=\"dataframe\">\n",
       "  <thead>\n",
       "    <tr style=\"text-align: right;\">\n",
       "      <th></th>\n",
       "      <th>text</th>\n",
       "      <th>label</th>\n",
       "    </tr>\n",
       "  </thead>\n",
       "  <tbody>\n",
       "    <tr>\n",
       "      <th>0</th>\n",
       "      <td>En 1815, M. Charles-François-Bienvenu Myriel é...</td>\n",
       "      <td>A2</td>\n",
       "    </tr>\n",
       "    <tr>\n",
       "      <th>1</th>\n",
       "      <td>Quoique ce détail ne touche en aucune manière ...</td>\n",
       "      <td>C1</td>\n",
       "    </tr>\n",
       "    <tr>\n",
       "      <th>2</th>\n",
       "      <td>En 1804, M. Myriel était curé de Brignolles. I...</td>\n",
       "      <td>A2</td>\n",
       "    </tr>\n",
       "    <tr>\n",
       "      <th>3</th>\n",
       "      <td>Vers l'époque du couronnement, une petite affa...</td>\n",
       "      <td>B2</td>\n",
       "    </tr>\n",
       "    <tr>\n",
       "      <th>4</th>\n",
       "      <td>—Quel est ce bonhomme qui me regarde?</td>\n",
       "      <td>A2</td>\n",
       "    </tr>\n",
       "  </tbody>\n",
       "</table>\n",
       "</div>"
      ],
      "text/plain": [
       "                                                text label\n",
       "0  En 1815, M. Charles-François-Bienvenu Myriel é...    A2\n",
       "1  Quoique ce détail ne touche en aucune manière ...    C1\n",
       "2  En 1804, M. Myriel était curé de Brignolles. I...    A2\n",
       "3  Vers l'époque du couronnement, une petite affa...    B2\n",
       "4              —Quel est ce bonhomme qui me regarde?    A2"
      ]
     },
     "execution_count": 7,
     "metadata": {},
     "output_type": "execute_result"
    }
   ],
   "source": [
    "mike_20_june_new=new_data[pd.notnull(new_data['CEFR Review'])]\n",
    "mike_20_june_new.columns = [\"text\", \"label\",\"CEFR Level_Samar\"]\n",
    "mike_20_june_new.drop([\"CEFR Level_Samar\"],axis=1, inplace=True)\n",
    "mike_20_june_new.to_csv(\"mike_20_june_new.csv\" , index=False)\n",
    "mike_20_june_new.head() "
   ]
  },
  {
   "cell_type": "markdown",
   "id": "e05a9d96",
   "metadata": {
    "papermill": {
     "duration": 0.021284,
     "end_time": "2022-07-20T11:33:19.535035",
     "exception": false,
     "start_time": "2022-07-20T11:33:19.513751",
     "status": "completed"
    },
    "tags": []
   },
   "source": [
    "**!!!! samar annotation seems to be weird because there is just C1 and C2**"
   ]
  },
  {
   "cell_type": "code",
   "execution_count": 8,
   "id": "1dc7162c",
   "metadata": {
    "execution": {
     "iopub.execute_input": "2022-07-20T11:33:19.586052Z",
     "iopub.status.busy": "2022-07-20T11:33:19.585338Z",
     "iopub.status.idle": "2022-07-20T11:33:19.588123Z",
     "shell.execute_reply": "2022-07-20T11:33:19.588622Z",
     "shell.execute_reply.started": "2022-07-20T09:23:57.683980Z"
    },
    "papermill": {
     "duration": 0.031601,
     "end_time": "2022-07-20T11:33:19.588855",
     "exception": false,
     "start_time": "2022-07-20T11:33:19.557254",
     "status": "completed"
    },
    "tags": []
   },
   "outputs": [
    {
     "data": {
      "text/plain": [
       "(array(['C1', 'C2'], dtype=object),\n",
       " array(['A2', 'C1', 'B2', 'A1', 'B1', 'C2'], dtype=object))"
      ]
     },
     "execution_count": 8,
     "metadata": {},
     "output_type": "execute_result"
    }
   ],
   "source": [
    "mike_20_june_samar[\"label\"].unique(), mike_20_june_new[\"label\"].unique()"
   ]
  },
  {
   "cell_type": "code",
   "execution_count": 9,
   "id": "2fbf0d13",
   "metadata": {
    "execution": {
     "iopub.execute_input": "2022-07-20T11:33:19.637358Z",
     "iopub.status.busy": "2022-07-20T11:33:19.636656Z",
     "iopub.status.idle": "2022-07-20T11:33:19.645836Z",
     "shell.execute_reply": "2022-07-20T11:33:19.646402Z",
     "shell.execute_reply.started": "2022-07-20T09:23:57.693129Z"
    },
    "papermill": {
     "duration": 0.036731,
     "end_time": "2022-07-20T11:33:19.646633",
     "exception": false,
     "start_time": "2022-07-20T11:33:19.609902",
     "status": "completed"
    },
    "tags": []
   },
   "outputs": [
    {
     "data": {
      "text/plain": [
       "C1    58\n",
       "A1    41\n",
       "B2    33\n",
       "B1    29\n",
       "A2    24\n",
       "C2     6\n",
       "Name: label, dtype: int64"
      ]
     },
     "execution_count": 9,
     "metadata": {},
     "output_type": "execute_result"
    }
   ],
   "source": [
    "mike_20_june_new.label.value_counts()"
   ]
  },
  {
   "cell_type": "code",
   "execution_count": 10,
   "id": "838ec02e",
   "metadata": {
    "execution": {
     "iopub.execute_input": "2022-07-20T11:33:19.700258Z",
     "iopub.status.busy": "2022-07-20T11:33:19.699502Z",
     "iopub.status.idle": "2022-07-20T11:33:19.702383Z",
     "shell.execute_reply": "2022-07-20T11:33:19.702967Z",
     "shell.execute_reply.started": "2022-07-20T09:23:57.715501Z"
    },
    "papermill": {
     "duration": 0.03298,
     "end_time": "2022-07-20T11:33:19.703170",
     "exception": false,
     "start_time": "2022-07-20T11:33:19.670190",
     "status": "completed"
    },
    "tags": []
   },
   "outputs": [
    {
     "data": {
      "text/plain": [
       "((141, 2), (191, 2))"
      ]
     },
     "execution_count": 10,
     "metadata": {},
     "output_type": "execute_result"
    }
   ],
   "source": [
    "mike_20_june_samar.shape,mike_20_june_new.shape"
   ]
  },
  {
   "cell_type": "code",
   "execution_count": 11,
   "id": "7a7de0f8",
   "metadata": {
    "execution": {
     "iopub.execute_input": "2022-07-20T11:33:19.750610Z",
     "iopub.status.busy": "2022-07-20T11:33:19.749740Z",
     "iopub.status.idle": "2022-07-20T11:33:19.768643Z",
     "shell.execute_reply": "2022-07-20T11:33:19.769206Z",
     "shell.execute_reply.started": "2022-07-20T09:23:57.722781Z"
    },
    "papermill": {
     "duration": 0.044287,
     "end_time": "2022-07-20T11:33:19.769402",
     "exception": false,
     "start_time": "2022-07-20T11:33:19.725115",
     "status": "completed"
    },
    "tags": []
   },
   "outputs": [
    {
     "data": {
      "text/plain": [
       "(315, 4)"
      ]
     },
     "execution_count": 11,
     "metadata": {},
     "output_type": "execute_result"
    }
   ],
   "source": [
    "trainn=pd.read_csv(\"../input/frenchcefr/french dataset.csv\")\n",
    "trainn.shape"
   ]
  },
  {
   "cell_type": "code",
   "execution_count": 12,
   "id": "fbe875a0",
   "metadata": {
    "execution": {
     "iopub.execute_input": "2022-07-20T11:33:19.817886Z",
     "iopub.status.busy": "2022-07-20T11:33:19.817208Z",
     "iopub.status.idle": "2022-07-20T11:33:19.831338Z",
     "shell.execute_reply": "2022-07-20T11:33:19.831924Z",
     "shell.execute_reply.started": "2022-07-20T09:26:21.367356Z"
    },
    "papermill": {
     "duration": 0.039708,
     "end_time": "2022-07-20T11:33:19.832154",
     "exception": false,
     "start_time": "2022-07-20T11:33:19.792446",
     "status": "completed"
    },
    "tags": []
   },
   "outputs": [],
   "source": [
    "text=[]\n",
    "label=[]\n",
    "for i in range(trainn.shape[0]):\n",
    "    if (trainn.loc[i,\"label\"]==\"A1\") | (trainn.loc[i,\"label\"]==\"A2\"):\n",
    "        text.append(trainn.loc[i,\"text\"])\n",
    "        label.append(trainn.loc[i,\"label\"])\n",
    "\n",
    "        "
   ]
  },
  {
   "cell_type": "code",
   "execution_count": 13,
   "id": "3a290383",
   "metadata": {
    "execution": {
     "iopub.execute_input": "2022-07-20T11:33:19.880011Z",
     "iopub.status.busy": "2022-07-20T11:33:19.879316Z",
     "iopub.status.idle": "2022-07-20T11:33:19.889759Z",
     "shell.execute_reply": "2022-07-20T11:33:19.890302Z",
     "shell.execute_reply.started": "2022-07-20T09:26:37.806091Z"
    },
    "papermill": {
     "duration": 0.036328,
     "end_time": "2022-07-20T11:33:19.890506",
     "exception": false,
     "start_time": "2022-07-20T11:33:19.854178",
     "status": "completed"
    },
    "tags": []
   },
   "outputs": [
    {
     "data": {
      "text/html": [
       "<div>\n",
       "<style scoped>\n",
       "    .dataframe tbody tr th:only-of-type {\n",
       "        vertical-align: middle;\n",
       "    }\n",
       "\n",
       "    .dataframe tbody tr th {\n",
       "        vertical-align: top;\n",
       "    }\n",
       "\n",
       "    .dataframe thead th {\n",
       "        text-align: right;\n",
       "    }\n",
       "</style>\n",
       "<table border=\"1\" class=\"dataframe\">\n",
       "  <thead>\n",
       "    <tr style=\"text-align: right;\">\n",
       "      <th></th>\n",
       "      <th>text</th>\n",
       "      <th>len</th>\n",
       "      <th>lang</th>\n",
       "      <th>label</th>\n",
       "    </tr>\n",
       "  </thead>\n",
       "  <tbody>\n",
       "    <tr>\n",
       "      <th>0</th>\n",
       "      <td>Il était une fois un prince qui voulait épouse...</td>\n",
       "      <td>15</td>\n",
       "      <td>FR</td>\n",
       "      <td>A2</td>\n",
       "    </tr>\n",
       "  </tbody>\n",
       "</table>\n",
       "</div>"
      ],
      "text/plain": [
       "                                                text  len lang label\n",
       "0  Il était une fois un prince qui voulait épouse...   15   FR    A2"
      ]
     },
     "execution_count": 13,
     "metadata": {},
     "output_type": "execute_result"
    }
   ],
   "source": [
    "trainn.head(1)"
   ]
  },
  {
   "cell_type": "code",
   "execution_count": 14,
   "id": "900fdd83",
   "metadata": {
    "execution": {
     "iopub.execute_input": "2022-07-20T11:33:19.944354Z",
     "iopub.status.busy": "2022-07-20T11:33:19.943619Z",
     "iopub.status.idle": "2022-07-20T11:33:19.950516Z",
     "shell.execute_reply": "2022-07-20T11:33:19.951099Z",
     "shell.execute_reply.started": "2022-07-20T09:26:48.483815Z"
    },
    "papermill": {
     "duration": 0.036323,
     "end_time": "2022-07-20T11:33:19.951324",
     "exception": false,
     "start_time": "2022-07-20T11:33:19.915001",
     "status": "completed"
    },
    "tags": []
   },
   "outputs": [
    {
     "data": {
      "text/plain": [
       "(96, 96)"
      ]
     },
     "execution_count": 14,
     "metadata": {},
     "output_type": "execute_result"
    }
   ],
   "source": [
    "len(text), len(label)"
   ]
  },
  {
   "cell_type": "code",
   "execution_count": 15,
   "id": "9236225f",
   "metadata": {
    "execution": {
     "iopub.execute_input": "2022-07-20T11:33:20.000938Z",
     "iopub.status.busy": "2022-07-20T11:33:20.000247Z",
     "iopub.status.idle": "2022-07-20T11:33:20.005586Z",
     "shell.execute_reply": "2022-07-20T11:33:20.006228Z",
     "shell.execute_reply.started": "2022-07-20T09:26:58.115230Z"
    },
    "papermill": {
     "duration": 0.031403,
     "end_time": "2022-07-20T11:33:20.006428",
     "exception": false,
     "start_time": "2022-07-20T11:33:19.975025",
     "status": "completed"
    },
    "tags": []
   },
   "outputs": [
    {
     "data": {
      "text/plain": [
       "('Il était une fois un prince qui voulait épouser une princesse, mais une vraie princesse.',\n",
       " 'A2')"
      ]
     },
     "execution_count": 15,
     "metadata": {},
     "output_type": "execute_result"
    }
   ],
   "source": [
    "text[0], label[0]"
   ]
  },
  {
   "cell_type": "markdown",
   "id": "2c5f6209",
   "metadata": {
    "papermill": {
     "duration": 0.024294,
     "end_time": "2022-07-20T11:33:20.055743",
     "exception": false,
     "start_time": "2022-07-20T11:33:20.031449",
     "status": "completed"
    },
    "tags": []
   },
   "source": [
    "****"
   ]
  },
  {
   "cell_type": "code",
   "execution_count": 16,
   "id": "99f6390d",
   "metadata": {
    "execution": {
     "iopub.execute_input": "2022-07-20T11:33:20.109575Z",
     "iopub.status.busy": "2022-07-20T11:33:20.108901Z",
     "iopub.status.idle": "2022-07-20T11:33:20.113948Z",
     "shell.execute_reply": "2022-07-20T11:33:20.114434Z",
     "shell.execute_reply.started": "2022-07-20T09:28:47.833150Z"
    },
    "papermill": {
     "duration": 0.0361,
     "end_time": "2022-07-20T11:33:20.114711",
     "exception": false,
     "start_time": "2022-07-20T11:33:20.078611",
     "status": "completed"
    },
    "tags": []
   },
   "outputs": [],
   "source": [
    "A1_A2=pd.DataFrame({\"text\":text,\"label\":label})"
   ]
  },
  {
   "cell_type": "code",
   "execution_count": 17,
   "id": "c683a07f",
   "metadata": {
    "execution": {
     "iopub.execute_input": "2022-07-20T11:33:20.171008Z",
     "iopub.status.busy": "2022-07-20T11:33:20.169783Z",
     "iopub.status.idle": "2022-07-20T11:33:20.174388Z",
     "shell.execute_reply": "2022-07-20T11:33:20.173623Z",
     "shell.execute_reply.started": "2022-07-20T09:29:27.623479Z"
    },
    "papermill": {
     "duration": 0.037224,
     "end_time": "2022-07-20T11:33:20.174552",
     "exception": false,
     "start_time": "2022-07-20T11:33:20.137328",
     "status": "completed"
    },
    "tags": []
   },
   "outputs": [],
   "source": [
    "A1_A2.to_csv(\"A1_A2.csv\", index=False)"
   ]
  },
  {
   "cell_type": "markdown",
   "id": "55fff021",
   "metadata": {
    "papermill": {
     "duration": 0.02236,
     "end_time": "2022-07-20T11:33:20.220660",
     "exception": false,
     "start_time": "2022-07-20T11:33:20.198300",
     "status": "completed"
    },
    "tags": []
   },
   "source": [
    "****"
   ]
  },
  {
   "cell_type": "code",
   "execution_count": 18,
   "id": "6b3b2f29",
   "metadata": {
    "execution": {
     "iopub.execute_input": "2022-07-20T11:33:20.277341Z",
     "iopub.status.busy": "2022-07-20T11:33:20.276539Z",
     "iopub.status.idle": "2022-07-20T11:33:20.519304Z",
     "shell.execute_reply": "2022-07-20T11:33:20.518565Z",
     "shell.execute_reply.started": "2022-07-20T09:37:35.331290Z"
    },
    "papermill": {
     "duration": 0.275718,
     "end_time": "2022-07-20T11:33:20.519472",
     "exception": false,
     "start_time": "2022-07-20T11:33:20.243754",
     "status": "completed"
    },
    "tags": []
   },
   "outputs": [],
   "source": [
    "data=pd.read_csv(\"../input/eng-data/translated.csv\")"
   ]
  },
  {
   "cell_type": "code",
   "execution_count": 19,
   "id": "d600015a",
   "metadata": {
    "execution": {
     "iopub.execute_input": "2022-07-20T11:33:20.570710Z",
     "iopub.status.busy": "2022-07-20T11:33:20.569985Z",
     "iopub.status.idle": "2022-07-20T11:33:20.738043Z",
     "shell.execute_reply": "2022-07-20T11:33:20.737494Z",
     "shell.execute_reply.started": "2022-07-20T10:35:31.915079Z"
    },
    "papermill": {
     "duration": 0.195811,
     "end_time": "2022-07-20T11:33:20.738208",
     "exception": false,
     "start_time": "2022-07-20T11:33:20.542397",
     "status": "completed"
    },
    "tags": []
   },
   "outputs": [],
   "source": [
    "data=pd.read_csv(\"../input/eng-data/translated.csv\")\n",
    "textt=[]\n",
    "labell=[]\n",
    "for i in range(data.shape[0]):\n",
    "    if (data.loc[i,\"label\"]==\"A1\") | (data.loc[i,\"label\"]==\"A2\"):\n",
    "        textt.append(data.loc[i,\"text\"])\n",
    "        labell.append(data.loc[i,\"label\"])\n",
    "A1_A2_tran=pd.DataFrame({\"text\":textt,\"label\":labell})\n"
   ]
  },
  {
   "cell_type": "code",
   "execution_count": 20,
   "id": "459da097",
   "metadata": {
    "execution": {
     "iopub.execute_input": "2022-07-20T11:33:20.798392Z",
     "iopub.status.busy": "2022-07-20T11:33:20.793407Z",
     "iopub.status.idle": "2022-07-20T11:33:20.800819Z",
     "shell.execute_reply": "2022-07-20T11:33:20.801276Z",
     "shell.execute_reply.started": "2022-07-20T10:49:34.435445Z"
    },
    "papermill": {
     "duration": 0.039423,
     "end_time": "2022-07-20T11:33:20.801493",
     "exception": false,
     "start_time": "2022-07-20T11:33:20.762070",
     "status": "completed"
    },
    "tags": []
   },
   "outputs": [],
   "source": [
    "txt=[]\n",
    "label=[]\n",
    "nb=0\n",
    "nbb=0\n",
    "for i in range(A1_A2_tran.shape[0]):\n",
    "    if A1_A2_tran.loc[i,\"label\"]==\"A2\":\n",
    "        if nb> 30 :\n",
    "            continue\n",
    "        txt.append(A1_A2_tran.loc[i,\"text\"])\n",
    "        label.append(A1_A2_tran.loc[i,\"label\"])\n",
    "        nb+=1\n",
    "       \n",
    "    elif  A1_A2_tran.loc[i,\"label\"]==\"A1\": \n",
    "            if nbb> 30 :\n",
    "                continue\n",
    "    \n",
    "            txt.append(A1_A2_tran.loc[i,\"text\"])\n",
    "            label.append(A1_A2_tran.loc[i,\"label\"])\n",
    "            nbb+=1\n",
    "        \n",
    "    if nbb> 30 and nb> 30:\n",
    "        break"
   ]
  },
  {
   "cell_type": "code",
   "execution_count": 21,
   "id": "9dbe6b18",
   "metadata": {
    "execution": {
     "iopub.execute_input": "2022-07-20T11:33:20.852416Z",
     "iopub.status.busy": "2022-07-20T11:33:20.851670Z",
     "iopub.status.idle": "2022-07-20T11:33:20.856117Z",
     "shell.execute_reply": "2022-07-20T11:33:20.856604Z",
     "shell.execute_reply.started": "2022-07-20T10:49:37.033745Z"
    },
    "papermill": {
     "duration": 0.032577,
     "end_time": "2022-07-20T11:33:20.856845",
     "exception": false,
     "start_time": "2022-07-20T11:33:20.824268",
     "status": "completed"
    },
    "tags": []
   },
   "outputs": [],
   "source": [
    "A1_A2_30=pd.DataFrame({\"text\":txt,\"label\":label})"
   ]
  },
  {
   "cell_type": "code",
   "execution_count": 22,
   "id": "83158b09",
   "metadata": {
    "execution": {
     "iopub.execute_input": "2022-07-20T11:33:20.910012Z",
     "iopub.status.busy": "2022-07-20T11:33:20.909254Z",
     "iopub.status.idle": "2022-07-20T11:33:20.914790Z",
     "shell.execute_reply": "2022-07-20T11:33:20.915305Z",
     "shell.execute_reply.started": "2022-07-20T10:49:59.903561Z"
    },
    "papermill": {
     "duration": 0.034415,
     "end_time": "2022-07-20T11:33:20.915510",
     "exception": false,
     "start_time": "2022-07-20T11:33:20.881095",
     "status": "completed"
    },
    "tags": []
   },
   "outputs": [],
   "source": [
    "A1_A2_30.to_csv(\"A1_A2_30.csv\", index=False)"
   ]
  },
  {
   "cell_type": "code",
   "execution_count": 23,
   "id": "f0462206",
   "metadata": {
    "execution": {
     "iopub.execute_input": "2022-07-20T11:33:20.969155Z",
     "iopub.status.busy": "2022-07-20T11:33:20.966635Z",
     "iopub.status.idle": "2022-07-20T11:33:20.984621Z",
     "shell.execute_reply": "2022-07-20T11:33:20.984043Z",
     "shell.execute_reply.started": "2022-07-20T09:55:49.828351Z"
    },
    "papermill": {
     "duration": 0.045448,
     "end_time": "2022-07-20T11:33:20.984830",
     "exception": false,
     "start_time": "2022-07-20T11:33:20.939382",
     "status": "completed"
    },
    "tags": []
   },
   "outputs": [],
   "source": [
    "A1_A2_tran.to_csv(\"A1_A2_tran.csv\", index=False)"
   ]
  },
  {
   "cell_type": "markdown",
   "id": "b8bfe5b6",
   "metadata": {
    "papermill": {
     "duration": 0.02384,
     "end_time": "2022-07-20T11:33:21.033568",
     "exception": false,
     "start_time": "2022-07-20T11:33:21.009728",
     "status": "completed"
    },
    "tags": []
   },
   "source": [
    "****"
   ]
  },
  {
   "cell_type": "code",
   "execution_count": 24,
   "id": "be7444f9",
   "metadata": {
    "execution": {
     "iopub.execute_input": "2022-07-20T11:33:21.090256Z",
     "iopub.status.busy": "2022-07-20T11:33:21.089517Z",
     "iopub.status.idle": "2022-07-20T11:33:21.109222Z",
     "shell.execute_reply": "2022-07-20T11:33:21.109895Z",
     "shell.execute_reply.started": "2022-07-20T10:21:39.421238Z"
    },
    "papermill": {
     "duration": 0.052948,
     "end_time": "2022-07-20T11:33:21.110114",
     "exception": false,
     "start_time": "2022-07-20T11:33:21.057166",
     "status": "completed"
    },
    "tags": []
   },
   "outputs": [],
   "source": [
    "dataa=pd.read_csv(\"../input/lingua/fr_lingua.csv\")\n",
    "textt=[]\n",
    "labell=[]\n",
    "for i in range(dataa.shape[0]):\n",
    "    if (dataa.loc[i,\"cefr\"]==\"A1\") | (dataa.loc[i,\"cefr\"]==\"A2\"):\n",
    "        textt.append(dataa.loc[i,\"text\"])\n",
    "        labell.append(dataa.loc[i,\"cefr\"])\n",
    "A1_A2_tran=pd.DataFrame({\"text\":textt,\"label\":labell})"
   ]
  },
  {
   "cell_type": "code",
   "execution_count": 25,
   "id": "8d9ca2d3",
   "metadata": {
    "execution": {
     "iopub.execute_input": "2022-07-20T11:33:21.162404Z",
     "iopub.status.busy": "2022-07-20T11:33:21.161377Z",
     "iopub.status.idle": "2022-07-20T11:33:21.168439Z",
     "shell.execute_reply": "2022-07-20T11:33:21.168963Z",
     "shell.execute_reply.started": "2022-07-20T10:27:13.133693Z"
    },
    "papermill": {
     "duration": 0.035594,
     "end_time": "2022-07-20T11:33:21.169173",
     "exception": false,
     "start_time": "2022-07-20T11:33:21.133579",
     "status": "completed"
    },
    "tags": []
   },
   "outputs": [],
   "source": [
    "A1_A2_tran.to_csv(\"A1_A2_lingua.csv\", index=False)"
   ]
  },
  {
   "cell_type": "code",
   "execution_count": null,
   "id": "e2871979",
   "metadata": {
    "papermill": {
     "duration": 0.025029,
     "end_time": "2022-07-20T11:33:21.218928",
     "exception": false,
     "start_time": "2022-07-20T11:33:21.193899",
     "status": "completed"
    },
    "tags": []
   },
   "outputs": [],
   "source": []
  },
  {
   "cell_type": "markdown",
   "id": "2409bb84",
   "metadata": {
    "papermill": {
     "duration": 0.023295,
     "end_time": "2022-07-20T11:33:21.267925",
     "exception": false,
     "start_time": "2022-07-20T11:33:21.244630",
     "status": "completed"
    },
    "tags": []
   },
   "source": [
    "****"
   ]
  },
  {
   "cell_type": "code",
   "execution_count": 26,
   "id": "9d29e884",
   "metadata": {
    "execution": {
     "iopub.execute_input": "2022-07-20T11:33:21.321525Z",
     "iopub.status.busy": "2022-07-20T11:33:21.320783Z",
     "iopub.status.idle": "2022-07-20T11:33:21.341776Z",
     "shell.execute_reply": "2022-07-20T11:33:21.342295Z",
     "shell.execute_reply.started": "2022-07-20T11:00:20.364122Z"
    },
    "papermill": {
     "duration": 0.050608,
     "end_time": "2022-07-20T11:33:21.342516",
     "exception": false,
     "start_time": "2022-07-20T11:33:21.291908",
     "status": "completed"
    },
    "tags": []
   },
   "outputs": [],
   "source": [
    "dataa=pd.read_csv(\"../input/newdatasets/mike_20_june_new (1).csv\")\n",
    "textt=[]\n",
    "labell=[]\n",
    "for i in range(dataa.shape[0]):\n",
    "    if (dataa.loc[i,\"label\"]==\"A1\") | (dataa.loc[i,\"label\"]==\"A2\"):\n",
    "        textt.append(dataa.loc[i,\"text\"])\n",
    "        labell.append(dataa.loc[i,\"label\"])\n",
    "A1_A2_tran=pd.DataFrame({\"text\":textt,\"label\":labell})"
   ]
  },
  {
   "cell_type": "code",
   "execution_count": 27,
   "id": "09ea72eb",
   "metadata": {
    "execution": {
     "iopub.execute_input": "2022-07-20T11:33:21.395540Z",
     "iopub.status.busy": "2022-07-20T11:33:21.394839Z",
     "iopub.status.idle": "2022-07-20T11:33:21.398903Z",
     "shell.execute_reply": "2022-07-20T11:33:21.399418Z",
     "shell.execute_reply.started": "2022-07-20T11:05:49.437151Z"
    },
    "papermill": {
     "duration": 0.032067,
     "end_time": "2022-07-20T11:33:21.399627",
     "exception": false,
     "start_time": "2022-07-20T11:33:21.367560",
     "status": "completed"
    },
    "tags": []
   },
   "outputs": [],
   "source": [
    "A1_A2_tran.to_csv(\"A1_A2_mike_new.csv\", index=False)"
   ]
  },
  {
   "cell_type": "code",
   "execution_count": null,
   "id": "5e6e33da",
   "metadata": {
    "papermill": {
     "duration": 0.023837,
     "end_time": "2022-07-20T11:33:21.446190",
     "exception": false,
     "start_time": "2022-07-20T11:33:21.422353",
     "status": "completed"
    },
    "tags": []
   },
   "outputs": [],
   "source": []
  }
 ],
 "metadata": {
  "kernelspec": {
   "display_name": "Python 3",
   "language": "python",
   "name": "python3"
  },
  "language_info": {
   "codemirror_mode": {
    "name": "ipython",
    "version": 3
   },
   "file_extension": ".py",
   "mimetype": "text/x-python",
   "name": "python",
   "nbconvert_exporter": "python",
   "pygments_lexer": "ipython3",
   "version": "3.7.10"
  },
  "papermill": {
   "default_parameters": {},
   "duration": 27.9371,
   "end_time": "2022-07-20T11:33:25.035272",
   "environment_variables": {},
   "exception": null,
   "input_path": "__notebook__.ipynb",
   "output_path": "__notebook__.ipynb",
   "parameters": {},
   "start_time": "2022-07-20T11:32:57.098172",
   "version": "2.3.3"
  }
 },
 "nbformat": 4,
 "nbformat_minor": 5
}
