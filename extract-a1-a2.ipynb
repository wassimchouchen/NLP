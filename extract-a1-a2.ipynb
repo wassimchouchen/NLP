{
 "cells": [
  {
   "cell_type": "code",
   "execution_count": 1,
   "id": "c336a768",
   "metadata": {
    "_cell_guid": "b1076dfc-b9ad-4769-8c92-a6c4dae69d19",
    "_uuid": "8f2839f25d086af736a60e9eeb907d3b93b6e0e5",
    "execution": {
     "iopub.execute_input": "2022-07-20T09:37:45.105516Z",
     "iopub.status.busy": "2022-07-20T09:37:45.104370Z",
     "iopub.status.idle": "2022-07-20T09:37:54.274034Z",
     "shell.execute_reply": "2022-07-20T09:37:54.272950Z",
     "shell.execute_reply.started": "2022-07-20T09:23:57.547481Z"
    },
    "papermill": {
     "duration": 9.188057,
     "end_time": "2022-07-20T09:37:54.274213",
     "exception": false,
     "start_time": "2022-07-20T09:37:45.086156",
     "status": "completed"
    },
    "tags": []
   },
   "outputs": [],
   "source": [
    "import os\n",
    "\n",
    "import random\n",
    "import numpy as np\n",
    "\n",
    "import pandas as pd\n",
    "import torch\n",
    "from torch.utils.data import Dataset, random_split\n",
    "from transformers import (\n",
    "    AdamW,\n",
    "    Trainer,\n",
    "    TrainingArguments,\n",
    "    AutoTokenizer,\n",
    "    AutoModelForSequenceClassification,\n",
    "    get_cosine_schedule_with_warmup,\n",
    ")\n",
    "from sklearn.preprocessing import LabelEncoder\n",
    "from sklearn.metrics import accuracy_score\n",
    "import warnings\n",
    "warnings.filterwarnings('ignore')"
   ]
  },
  {
   "cell_type": "code",
   "execution_count": 2,
   "id": "03f19d5a",
   "metadata": {
    "execution": {
     "iopub.execute_input": "2022-07-20T09:37:54.309570Z",
     "iopub.status.busy": "2022-07-20T09:37:54.308867Z",
     "iopub.status.idle": "2022-07-20T09:37:54.335384Z",
     "shell.execute_reply": "2022-07-20T09:37:54.335904Z",
     "shell.execute_reply.started": "2022-07-20T09:23:57.565484Z"
    },
    "papermill": {
     "duration": 0.045772,
     "end_time": "2022-07-20T09:37:54.336089",
     "exception": false,
     "start_time": "2022-07-20T09:37:54.290317",
     "status": "completed"
    },
    "tags": []
   },
   "outputs": [],
   "source": [
    "new_data=pd.read_csv(\"../input/csvvvv/Classeur 1 (5).csv\")"
   ]
  },
  {
   "cell_type": "code",
   "execution_count": 3,
   "id": "a7b97ed8",
   "metadata": {
    "execution": {
     "iopub.execute_input": "2022-07-20T09:37:54.366407Z",
     "iopub.status.busy": "2022-07-20T09:37:54.365769Z",
     "iopub.status.idle": "2022-07-20T09:37:54.380206Z",
     "shell.execute_reply": "2022-07-20T09:37:54.380819Z",
     "shell.execute_reply.started": "2022-07-20T09:23:57.590522Z"
    },
    "papermill": {
     "duration": 0.031217,
     "end_time": "2022-07-20T09:37:54.381009",
     "exception": false,
     "start_time": "2022-07-20T09:37:54.349792",
     "status": "completed"
    },
    "tags": []
   },
   "outputs": [],
   "source": [
    "new_data.drop([\"Y\",\"Word Count\",\"Language\",' '], axis=1, inplace=True)\n",
    "new_data.columns = [\"text\", \"CEFR Review\",\"CEFR Level_Samar\"]"
   ]
  },
  {
   "cell_type": "code",
   "execution_count": 4,
   "id": "ebeedbbb",
   "metadata": {
    "execution": {
     "iopub.execute_input": "2022-07-20T09:37:54.410160Z",
     "iopub.status.busy": "2022-07-20T09:37:54.409323Z",
     "iopub.status.idle": "2022-07-20T09:37:54.415709Z",
     "shell.execute_reply": "2022-07-20T09:37:54.416252Z",
     "shell.execute_reply.started": "2022-07-20T09:23:57.602908Z"
    },
    "papermill": {
     "duration": 0.022495,
     "end_time": "2022-07-20T09:37:54.416435",
     "exception": false,
     "start_time": "2022-07-20T09:37:54.393940",
     "status": "completed"
    },
    "tags": []
   },
   "outputs": [
    {
     "data": {
      "text/plain": [
       "(191, 3)"
      ]
     },
     "execution_count": 4,
     "metadata": {},
     "output_type": "execute_result"
    }
   ],
   "source": [
    "new_data.shape"
   ]
  },
  {
   "cell_type": "code",
   "execution_count": 5,
   "id": "ba8c88e8",
   "metadata": {
    "execution": {
     "iopub.execute_input": "2022-07-20T09:37:54.446687Z",
     "iopub.status.busy": "2022-07-20T09:37:54.446074Z",
     "iopub.status.idle": "2022-07-20T09:37:54.458517Z",
     "shell.execute_reply": "2022-07-20T09:37:54.459009Z",
     "shell.execute_reply.started": "2022-07-20T09:23:57.614333Z"
    },
    "papermill": {
     "duration": 0.029257,
     "end_time": "2022-07-20T09:37:54.459174",
     "exception": false,
     "start_time": "2022-07-20T09:37:54.429917",
     "status": "completed"
    },
    "tags": []
   },
   "outputs": [
    {
     "data": {
      "text/html": [
       "<div>\n",
       "<style scoped>\n",
       "    .dataframe tbody tr th:only-of-type {\n",
       "        vertical-align: middle;\n",
       "    }\n",
       "\n",
       "    .dataframe tbody tr th {\n",
       "        vertical-align: top;\n",
       "    }\n",
       "\n",
       "    .dataframe thead th {\n",
       "        text-align: right;\n",
       "    }\n",
       "</style>\n",
       "<table border=\"1\" class=\"dataframe\">\n",
       "  <thead>\n",
       "    <tr style=\"text-align: right;\">\n",
       "      <th></th>\n",
       "      <th>text</th>\n",
       "      <th>CEFR Review</th>\n",
       "      <th>CEFR Level_Samar</th>\n",
       "    </tr>\n",
       "  </thead>\n",
       "  <tbody>\n",
       "    <tr>\n",
       "      <th>0</th>\n",
       "      <td>En 1815, M. Charles-François-Bienvenu Myriel é...</td>\n",
       "      <td>A2</td>\n",
       "      <td>C1</td>\n",
       "    </tr>\n",
       "    <tr>\n",
       "      <th>1</th>\n",
       "      <td>Quoique ce détail ne touche en aucune manière ...</td>\n",
       "      <td>C1</td>\n",
       "      <td>C2</td>\n",
       "    </tr>\n",
       "  </tbody>\n",
       "</table>\n",
       "</div>"
      ],
      "text/plain": [
       "                                                text CEFR Review  \\\n",
       "0  En 1815, M. Charles-François-Bienvenu Myriel é...          A2   \n",
       "1  Quoique ce détail ne touche en aucune manière ...          C1   \n",
       "\n",
       "  CEFR Level_Samar  \n",
       "0               C1  \n",
       "1               C2  "
      ]
     },
     "execution_count": 5,
     "metadata": {},
     "output_type": "execute_result"
    }
   ],
   "source": [
    "new_data.head(2)"
   ]
  },
  {
   "cell_type": "code",
   "execution_count": 6,
   "id": "e6a51e8f",
   "metadata": {
    "execution": {
     "iopub.execute_input": "2022-07-20T09:37:54.489686Z",
     "iopub.status.busy": "2022-07-20T09:37:54.489031Z",
     "iopub.status.idle": "2022-07-20T09:37:54.506316Z",
     "shell.execute_reply": "2022-07-20T09:37:54.506862Z",
     "shell.execute_reply.started": "2022-07-20T09:23:57.636026Z"
    },
    "papermill": {
     "duration": 0.034154,
     "end_time": "2022-07-20T09:37:54.507038",
     "exception": false,
     "start_time": "2022-07-20T09:37:54.472884",
     "status": "completed"
    },
    "tags": []
   },
   "outputs": [
    {
     "data": {
      "text/html": [
       "<div>\n",
       "<style scoped>\n",
       "    .dataframe tbody tr th:only-of-type {\n",
       "        vertical-align: middle;\n",
       "    }\n",
       "\n",
       "    .dataframe tbody tr th {\n",
       "        vertical-align: top;\n",
       "    }\n",
       "\n",
       "    .dataframe thead th {\n",
       "        text-align: right;\n",
       "    }\n",
       "</style>\n",
       "<table border=\"1\" class=\"dataframe\">\n",
       "  <thead>\n",
       "    <tr style=\"text-align: right;\">\n",
       "      <th></th>\n",
       "      <th>text</th>\n",
       "      <th>label</th>\n",
       "    </tr>\n",
       "  </thead>\n",
       "  <tbody>\n",
       "    <tr>\n",
       "      <th>0</th>\n",
       "      <td>En 1815, M. Charles-François-Bienvenu Myriel é...</td>\n",
       "      <td>C1</td>\n",
       "    </tr>\n",
       "    <tr>\n",
       "      <th>1</th>\n",
       "      <td>Quoique ce détail ne touche en aucune manière ...</td>\n",
       "      <td>C2</td>\n",
       "    </tr>\n",
       "    <tr>\n",
       "      <th>2</th>\n",
       "      <td>En 1804, M. Myriel était curé de Brignolles. I...</td>\n",
       "      <td>C1</td>\n",
       "    </tr>\n",
       "    <tr>\n",
       "      <th>3</th>\n",
       "      <td>Vers l'époque du couronnement, une petite affa...</td>\n",
       "      <td>C2</td>\n",
       "    </tr>\n",
       "    <tr>\n",
       "      <th>4</th>\n",
       "      <td>—Quel est ce bonhomme qui me regarde?</td>\n",
       "      <td>C1</td>\n",
       "    </tr>\n",
       "  </tbody>\n",
       "</table>\n",
       "</div>"
      ],
      "text/plain": [
       "                                                text label\n",
       "0  En 1815, M. Charles-François-Bienvenu Myriel é...    C1\n",
       "1  Quoique ce détail ne touche en aucune manière ...    C2\n",
       "2  En 1804, M. Myriel était curé de Brignolles. I...    C1\n",
       "3  Vers l'époque du couronnement, une petite affa...    C2\n",
       "4              —Quel est ce bonhomme qui me regarde?    C1"
      ]
     },
     "execution_count": 6,
     "metadata": {},
     "output_type": "execute_result"
    }
   ],
   "source": [
    "mike_20_june_samar=new_data[pd.notnull(new_data['CEFR Level_Samar'])]\n",
    "mike_20_june_samar.columns = [\"text\", \"CEFR Review\",\"label\"]\n",
    "mike_20_june_samar.drop([\"CEFR Review\"],axis=1, inplace=True)\n",
    "mike_20_june_samar.to_csv(\"mike_20_june_samar.csv\" , index=False)\n",
    "mike_20_june_samar.head()"
   ]
  },
  {
   "cell_type": "code",
   "execution_count": 7,
   "id": "4514bd91",
   "metadata": {
    "execution": {
     "iopub.execute_input": "2022-07-20T09:37:54.538234Z",
     "iopub.status.busy": "2022-07-20T09:37:54.537637Z",
     "iopub.status.idle": "2022-07-20T09:37:54.551455Z",
     "shell.execute_reply": "2022-07-20T09:37:54.551957Z",
     "shell.execute_reply.started": "2022-07-20T09:23:57.661766Z"
    },
    "papermill": {
     "duration": 0.030927,
     "end_time": "2022-07-20T09:37:54.552129",
     "exception": false,
     "start_time": "2022-07-20T09:37:54.521202",
     "status": "completed"
    },
    "tags": []
   },
   "outputs": [
    {
     "data": {
      "text/html": [
       "<div>\n",
       "<style scoped>\n",
       "    .dataframe tbody tr th:only-of-type {\n",
       "        vertical-align: middle;\n",
       "    }\n",
       "\n",
       "    .dataframe tbody tr th {\n",
       "        vertical-align: top;\n",
       "    }\n",
       "\n",
       "    .dataframe thead th {\n",
       "        text-align: right;\n",
       "    }\n",
       "</style>\n",
       "<table border=\"1\" class=\"dataframe\">\n",
       "  <thead>\n",
       "    <tr style=\"text-align: right;\">\n",
       "      <th></th>\n",
       "      <th>text</th>\n",
       "      <th>label</th>\n",
       "    </tr>\n",
       "  </thead>\n",
       "  <tbody>\n",
       "    <tr>\n",
       "      <th>0</th>\n",
       "      <td>En 1815, M. Charles-François-Bienvenu Myriel é...</td>\n",
       "      <td>A2</td>\n",
       "    </tr>\n",
       "    <tr>\n",
       "      <th>1</th>\n",
       "      <td>Quoique ce détail ne touche en aucune manière ...</td>\n",
       "      <td>C1</td>\n",
       "    </tr>\n",
       "    <tr>\n",
       "      <th>2</th>\n",
       "      <td>En 1804, M. Myriel était curé de Brignolles. I...</td>\n",
       "      <td>A2</td>\n",
       "    </tr>\n",
       "    <tr>\n",
       "      <th>3</th>\n",
       "      <td>Vers l'époque du couronnement, une petite affa...</td>\n",
       "      <td>B2</td>\n",
       "    </tr>\n",
       "    <tr>\n",
       "      <th>4</th>\n",
       "      <td>—Quel est ce bonhomme qui me regarde?</td>\n",
       "      <td>A2</td>\n",
       "    </tr>\n",
       "  </tbody>\n",
       "</table>\n",
       "</div>"
      ],
      "text/plain": [
       "                                                text label\n",
       "0  En 1815, M. Charles-François-Bienvenu Myriel é...    A2\n",
       "1  Quoique ce détail ne touche en aucune manière ...    C1\n",
       "2  En 1804, M. Myriel était curé de Brignolles. I...    A2\n",
       "3  Vers l'époque du couronnement, une petite affa...    B2\n",
       "4              —Quel est ce bonhomme qui me regarde?    A2"
      ]
     },
     "execution_count": 7,
     "metadata": {},
     "output_type": "execute_result"
    }
   ],
   "source": [
    "mike_20_june_new=new_data[pd.notnull(new_data['CEFR Review'])]\n",
    "mike_20_june_new.columns = [\"text\", \"label\",\"CEFR Level_Samar\"]\n",
    "mike_20_june_new.drop([\"CEFR Level_Samar\"],axis=1, inplace=True)\n",
    "mike_20_june_new.to_csv(\"mike_20_june_new.csv\" , index=False)\n",
    "mike_20_june_new.head() "
   ]
  },
  {
   "cell_type": "markdown",
   "id": "c048b414",
   "metadata": {
    "papermill": {
     "duration": 0.013964,
     "end_time": "2022-07-20T09:37:54.580510",
     "exception": false,
     "start_time": "2022-07-20T09:37:54.566546",
     "status": "completed"
    },
    "tags": []
   },
   "source": [
    "**!!!! samar annotation seems to be weird because there is just C1 and C2**"
   ]
  },
  {
   "cell_type": "code",
   "execution_count": 8,
   "id": "77e21c8c",
   "metadata": {
    "execution": {
     "iopub.execute_input": "2022-07-20T09:37:54.612442Z",
     "iopub.status.busy": "2022-07-20T09:37:54.611791Z",
     "iopub.status.idle": "2022-07-20T09:37:54.617246Z",
     "shell.execute_reply": "2022-07-20T09:37:54.617804Z",
     "shell.execute_reply.started": "2022-07-20T09:23:57.683980Z"
    },
    "papermill": {
     "duration": 0.023152,
     "end_time": "2022-07-20T09:37:54.617973",
     "exception": false,
     "start_time": "2022-07-20T09:37:54.594821",
     "status": "completed"
    },
    "tags": []
   },
   "outputs": [
    {
     "data": {
      "text/plain": [
       "(array(['C1', 'C2'], dtype=object),\n",
       " array(['A2', 'C1', 'B2', 'A1', 'B1', 'C2'], dtype=object))"
      ]
     },
     "execution_count": 8,
     "metadata": {},
     "output_type": "execute_result"
    }
   ],
   "source": [
    "mike_20_june_samar[\"label\"].unique(), mike_20_june_new[\"label\"].unique()"
   ]
  },
  {
   "cell_type": "code",
   "execution_count": 9,
   "id": "8971f5d7",
   "metadata": {
    "execution": {
     "iopub.execute_input": "2022-07-20T09:37:54.650502Z",
     "iopub.status.busy": "2022-07-20T09:37:54.649851Z",
     "iopub.status.idle": "2022-07-20T09:37:54.658284Z",
     "shell.execute_reply": "2022-07-20T09:37:54.658924Z",
     "shell.execute_reply.started": "2022-07-20T09:23:57.693129Z"
    },
    "papermill": {
     "duration": 0.026389,
     "end_time": "2022-07-20T09:37:54.659098",
     "exception": false,
     "start_time": "2022-07-20T09:37:54.632709",
     "status": "completed"
    },
    "tags": []
   },
   "outputs": [
    {
     "data": {
      "text/plain": [
       "C1    58\n",
       "A1    41\n",
       "B2    33\n",
       "B1    29\n",
       "A2    24\n",
       "C2     6\n",
       "Name: label, dtype: int64"
      ]
     },
     "execution_count": 9,
     "metadata": {},
     "output_type": "execute_result"
    }
   ],
   "source": [
    "mike_20_june_new.label.value_counts()"
   ]
  },
  {
   "cell_type": "code",
   "execution_count": 10,
   "id": "5e09271a",
   "metadata": {
    "execution": {
     "iopub.execute_input": "2022-07-20T09:37:54.692875Z",
     "iopub.status.busy": "2022-07-20T09:37:54.692240Z",
     "iopub.status.idle": "2022-07-20T09:37:54.696784Z",
     "shell.execute_reply": "2022-07-20T09:37:54.697318Z",
     "shell.execute_reply.started": "2022-07-20T09:23:57.715501Z"
    },
    "papermill": {
     "duration": 0.0231,
     "end_time": "2022-07-20T09:37:54.697528",
     "exception": false,
     "start_time": "2022-07-20T09:37:54.674428",
     "status": "completed"
    },
    "tags": []
   },
   "outputs": [
    {
     "data": {
      "text/plain": [
       "((141, 2), (191, 2))"
      ]
     },
     "execution_count": 10,
     "metadata": {},
     "output_type": "execute_result"
    }
   ],
   "source": [
    "mike_20_june_samar.shape,mike_20_june_new.shape"
   ]
  },
  {
   "cell_type": "code",
   "execution_count": 11,
   "id": "b5ed8694",
   "metadata": {
    "execution": {
     "iopub.execute_input": "2022-07-20T09:37:54.731733Z",
     "iopub.status.busy": "2022-07-20T09:37:54.731060Z",
     "iopub.status.idle": "2022-07-20T09:37:54.748864Z",
     "shell.execute_reply": "2022-07-20T09:37:54.749461Z",
     "shell.execute_reply.started": "2022-07-20T09:23:57.722781Z"
    },
    "papermill": {
     "duration": 0.036248,
     "end_time": "2022-07-20T09:37:54.749648",
     "exception": false,
     "start_time": "2022-07-20T09:37:54.713400",
     "status": "completed"
    },
    "tags": []
   },
   "outputs": [
    {
     "data": {
      "text/plain": [
       "(315, 4)"
      ]
     },
     "execution_count": 11,
     "metadata": {},
     "output_type": "execute_result"
    }
   ],
   "source": [
    "trainn=pd.read_csv(\"../input/frenchcefr/french dataset.csv\")\n",
    "trainn.shape"
   ]
  },
  {
   "cell_type": "code",
   "execution_count": 12,
   "id": "0a8e687e",
   "metadata": {
    "execution": {
     "iopub.execute_input": "2022-07-20T09:37:54.785308Z",
     "iopub.status.busy": "2022-07-20T09:37:54.784655Z",
     "iopub.status.idle": "2022-07-20T09:37:54.797138Z",
     "shell.execute_reply": "2022-07-20T09:37:54.797666Z",
     "shell.execute_reply.started": "2022-07-20T09:26:21.367356Z"
    },
    "papermill": {
     "duration": 0.032016,
     "end_time": "2022-07-20T09:37:54.797845",
     "exception": false,
     "start_time": "2022-07-20T09:37:54.765829",
     "status": "completed"
    },
    "tags": []
   },
   "outputs": [],
   "source": [
    "text=[]\n",
    "label=[]\n",
    "for i in range(trainn.shape[0]):\n",
    "    if (trainn.loc[i,\"label\"]==\"A1\") | (trainn.loc[i,\"label\"]==\"A2\"):\n",
    "        text.append(trainn.loc[i,\"text\"])\n",
    "        label.append(trainn.loc[i,\"label\"])\n",
    "\n",
    "        "
   ]
  },
  {
   "cell_type": "code",
   "execution_count": 13,
   "id": "3ec5656c",
   "metadata": {
    "execution": {
     "iopub.execute_input": "2022-07-20T09:37:54.834880Z",
     "iopub.status.busy": "2022-07-20T09:37:54.834263Z",
     "iopub.status.idle": "2022-07-20T09:37:54.839498Z",
     "shell.execute_reply": "2022-07-20T09:37:54.839979Z",
     "shell.execute_reply.started": "2022-07-20T09:26:37.806091Z"
    },
    "papermill": {
     "duration": 0.027039,
     "end_time": "2022-07-20T09:37:54.840143",
     "exception": false,
     "start_time": "2022-07-20T09:37:54.813104",
     "status": "completed"
    },
    "tags": []
   },
   "outputs": [
    {
     "data": {
      "text/html": [
       "<div>\n",
       "<style scoped>\n",
       "    .dataframe tbody tr th:only-of-type {\n",
       "        vertical-align: middle;\n",
       "    }\n",
       "\n",
       "    .dataframe tbody tr th {\n",
       "        vertical-align: top;\n",
       "    }\n",
       "\n",
       "    .dataframe thead th {\n",
       "        text-align: right;\n",
       "    }\n",
       "</style>\n",
       "<table border=\"1\" class=\"dataframe\">\n",
       "  <thead>\n",
       "    <tr style=\"text-align: right;\">\n",
       "      <th></th>\n",
       "      <th>text</th>\n",
       "      <th>len</th>\n",
       "      <th>lang</th>\n",
       "      <th>label</th>\n",
       "    </tr>\n",
       "  </thead>\n",
       "  <tbody>\n",
       "    <tr>\n",
       "      <th>0</th>\n",
       "      <td>Il était une fois un prince qui voulait épouse...</td>\n",
       "      <td>15</td>\n",
       "      <td>FR</td>\n",
       "      <td>A2</td>\n",
       "    </tr>\n",
       "  </tbody>\n",
       "</table>\n",
       "</div>"
      ],
      "text/plain": [
       "                                                text  len lang label\n",
       "0  Il était une fois un prince qui voulait épouse...   15   FR    A2"
      ]
     },
     "execution_count": 13,
     "metadata": {},
     "output_type": "execute_result"
    }
   ],
   "source": [
    "trainn.head(1)"
   ]
  },
  {
   "cell_type": "code",
   "execution_count": 14,
   "id": "7b13e963",
   "metadata": {
    "execution": {
     "iopub.execute_input": "2022-07-20T09:37:54.874572Z",
     "iopub.status.busy": "2022-07-20T09:37:54.873957Z",
     "iopub.status.idle": "2022-07-20T09:37:54.878241Z",
     "shell.execute_reply": "2022-07-20T09:37:54.878746Z",
     "shell.execute_reply.started": "2022-07-20T09:26:48.483815Z"
    },
    "papermill": {
     "duration": 0.023197,
     "end_time": "2022-07-20T09:37:54.878909",
     "exception": false,
     "start_time": "2022-07-20T09:37:54.855712",
     "status": "completed"
    },
    "tags": []
   },
   "outputs": [
    {
     "data": {
      "text/plain": [
       "(96, 96)"
      ]
     },
     "execution_count": 14,
     "metadata": {},
     "output_type": "execute_result"
    }
   ],
   "source": [
    "len(text), len(label)"
   ]
  },
  {
   "cell_type": "code",
   "execution_count": 15,
   "id": "a0b2b3ec",
   "metadata": {
    "execution": {
     "iopub.execute_input": "2022-07-20T09:37:54.914333Z",
     "iopub.status.busy": "2022-07-20T09:37:54.913719Z",
     "iopub.status.idle": "2022-07-20T09:37:54.917979Z",
     "shell.execute_reply": "2022-07-20T09:37:54.918515Z",
     "shell.execute_reply.started": "2022-07-20T09:26:58.115230Z"
    },
    "papermill": {
     "duration": 0.023471,
     "end_time": "2022-07-20T09:37:54.918691",
     "exception": false,
     "start_time": "2022-07-20T09:37:54.895220",
     "status": "completed"
    },
    "tags": []
   },
   "outputs": [
    {
     "data": {
      "text/plain": [
       "('Il était une fois un prince qui voulait épouser une princesse, mais une vraie princesse.',\n",
       " 'A2')"
      ]
     },
     "execution_count": 15,
     "metadata": {},
     "output_type": "execute_result"
    }
   ],
   "source": [
    "text[0], label[0]"
   ]
  },
  {
   "cell_type": "markdown",
   "id": "e362a600",
   "metadata": {
    "papermill": {
     "duration": 0.016053,
     "end_time": "2022-07-20T09:37:54.951094",
     "exception": false,
     "start_time": "2022-07-20T09:37:54.935041",
     "status": "completed"
    },
    "tags": []
   },
   "source": [
    "****"
   ]
  },
  {
   "cell_type": "code",
   "execution_count": 16,
   "id": "2fb68273",
   "metadata": {
    "execution": {
     "iopub.execute_input": "2022-07-20T09:37:54.987137Z",
     "iopub.status.busy": "2022-07-20T09:37:54.986526Z",
     "iopub.status.idle": "2022-07-20T09:37:54.990721Z",
     "shell.execute_reply": "2022-07-20T09:37:54.991183Z",
     "shell.execute_reply.started": "2022-07-20T09:28:47.833150Z"
    },
    "papermill": {
     "duration": 0.023916,
     "end_time": "2022-07-20T09:37:54.991377",
     "exception": false,
     "start_time": "2022-07-20T09:37:54.967461",
     "status": "completed"
    },
    "tags": []
   },
   "outputs": [],
   "source": [
    "A1_A2=pd.DataFrame({\"text\":text,\"label\":label})"
   ]
  },
  {
   "cell_type": "code",
   "execution_count": 17,
   "id": "3a5ff29d",
   "metadata": {
    "execution": {
     "iopub.execute_input": "2022-07-20T09:37:55.026803Z",
     "iopub.status.busy": "2022-07-20T09:37:55.026153Z",
     "iopub.status.idle": "2022-07-20T09:37:55.031309Z",
     "shell.execute_reply": "2022-07-20T09:37:55.031784Z",
     "shell.execute_reply.started": "2022-07-20T09:29:27.623479Z"
    },
    "papermill": {
     "duration": 0.024359,
     "end_time": "2022-07-20T09:37:55.031965",
     "exception": false,
     "start_time": "2022-07-20T09:37:55.007606",
     "status": "completed"
    },
    "tags": []
   },
   "outputs": [],
   "source": [
    "A1_A2.to_csv(\"A1_A2.csv\", index=False)"
   ]
  },
  {
   "cell_type": "markdown",
   "id": "aa688ab4",
   "metadata": {
    "papermill": {
     "duration": 0.016249,
     "end_time": "2022-07-20T09:37:55.064728",
     "exception": false,
     "start_time": "2022-07-20T09:37:55.048479",
     "status": "completed"
    },
    "tags": []
   },
   "source": [
    "****"
   ]
  },
  {
   "cell_type": "code",
   "execution_count": 18,
   "id": "732c24e7",
   "metadata": {
    "execution": {
     "iopub.execute_input": "2022-07-20T09:37:55.101184Z",
     "iopub.status.busy": "2022-07-20T09:37:55.100468Z",
     "iopub.status.idle": "2022-07-20T09:37:55.330633Z",
     "shell.execute_reply": "2022-07-20T09:37:55.330023Z"
    },
    "papermill": {
     "duration": 0.249979,
     "end_time": "2022-07-20T09:37:55.330793",
     "exception": false,
     "start_time": "2022-07-20T09:37:55.080814",
     "status": "completed"
    },
    "tags": []
   },
   "outputs": [],
   "source": [
    "data=pd.read_csv(\"../input/eng-data/translated.csv\")"
   ]
  },
  {
   "cell_type": "code",
   "execution_count": 19,
   "id": "43ab0e43",
   "metadata": {
    "execution": {
     "iopub.execute_input": "2022-07-20T09:37:55.378085Z",
     "iopub.status.busy": "2022-07-20T09:37:55.377403Z",
     "iopub.status.idle": "2022-07-20T09:37:55.379255Z",
     "shell.execute_reply": "2022-07-20T09:37:55.379800Z"
    },
    "papermill": {
     "duration": 0.032866,
     "end_time": "2022-07-20T09:37:55.379973",
     "exception": false,
     "start_time": "2022-07-20T09:37:55.347107",
     "status": "completed"
    },
    "tags": []
   },
   "outputs": [],
   "source": [
    "text=[]\n",
    "label=[]\n",
    "for i in range(trainn.shape[0]):\n",
    "    if (trainn.loc[i,\"label\"]==\"A1\") | (trainn.loc[i,\"label\"]==\"A2\"):\n",
    "        text.append(trainn.loc[i,\"text\"])\n",
    "        label.append(trainn.loc[i,\"label\"])\n"
   ]
  }
 ],
 "metadata": {
  "kernelspec": {
   "display_name": "Python 3",
   "language": "python",
   "name": "python3"
  },
  "language_info": {
   "codemirror_mode": {
    "name": "ipython",
    "version": 3
   },
   "file_extension": ".py",
   "mimetype": "text/x-python",
   "name": "python",
   "nbconvert_exporter": "python",
   "pygments_lexer": "ipython3",
   "version": "3.7.10"
  },
  "papermill": {
   "default_parameters": {},
   "duration": 21.669042,
   "end_time": "2022-07-20T09:37:58.031702",
   "environment_variables": {},
   "exception": null,
   "input_path": "__notebook__.ipynb",
   "output_path": "__notebook__.ipynb",
   "parameters": {},
   "start_time": "2022-07-20T09:37:36.362660",
   "version": "2.3.3"
  }
 },
 "nbformat": 4,
 "nbformat_minor": 5
}
