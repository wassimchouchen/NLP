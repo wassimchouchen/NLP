{
 "cells": [
  {
   "cell_type": "code",
   "execution_count": 1,
   "id": "5f4a9468",
   "metadata": {
    "_cell_guid": "b1076dfc-b9ad-4769-8c92-a6c4dae69d19",
    "_uuid": "8f2839f25d086af736a60e9eeb907d3b93b6e0e5",
    "execution": {
     "iopub.execute_input": "2022-06-27T11:20:22.292539Z",
     "iopub.status.busy": "2022-06-27T11:20:22.291503Z",
     "iopub.status.idle": "2022-06-27T11:20:28.954037Z",
     "shell.execute_reply": "2022-06-27T11:20:28.952898Z"
    },
    "papermill": {
     "duration": 6.670304,
     "end_time": "2022-06-27T11:20:28.956791",
     "exception": false,
     "start_time": "2022-06-27T11:20:22.286487",
     "status": "completed"
    },
    "tags": []
   },
   "outputs": [],
   "source": [
    "import numpy as np\n",
    "import pandas as pd \n",
    "import seaborn as sns\n",
    "import matplotlib.pyplot as plt \n",
    "import matplotlib.style as stl \n",
    "from tensorflow import keras \n",
    "from keras.preprocessing.text import Tokenizer\n",
    "from nltk.corpus import stopwords\n",
    "import string\n",
    "from tensorflow.keras.models import Sequential,Model\n",
    "from tensorflow.keras.layers import Dense, LSTM, Embedding,Dropout,SpatialDropout1D,Conv1D,MaxPooling1D,GRU,BatchNormalization\n",
    "import warnings\n",
    "warnings.filterwarnings('ignore')\n",
    "stl.use('ggplot')\n",
    "from tqdm import tqdm\n",
    "import string\n",
    "from nltk.corpus import stopwords\n",
    "from nltk.tokenize import word_tokenize\n",
    "from nltk.stem import WordNetLemmatizer\n",
    "from nltk.stem.snowball import SnowballStemmer\n",
    "import regex as re\n",
    "import time\n",
    "import pickle"
   ]
  },
  {
   "cell_type": "code",
   "execution_count": 2,
   "id": "abdcc38f",
   "metadata": {
    "execution": {
     "iopub.execute_input": "2022-06-27T11:20:28.965364Z",
     "iopub.status.busy": "2022-06-27T11:20:28.963915Z",
     "iopub.status.idle": "2022-06-27T11:20:42.671375Z",
     "shell.execute_reply": "2022-06-27T11:20:42.670393Z"
    },
    "papermill": {
     "duration": 13.714032,
     "end_time": "2022-06-27T11:20:42.674016",
     "exception": false,
     "start_time": "2022-06-27T11:20:28.959984",
     "status": "completed"
    },
    "tags": []
   },
   "outputs": [],
   "source": [
    "data=pd.read_csv(\"../input/skylarfreedman/Documents-Table 1.csv\" ,sep=';' , engine='python')"
   ]
  },
  {
   "cell_type": "code",
   "execution_count": 3,
   "id": "f4eedb91",
   "metadata": {
    "execution": {
     "iopub.execute_input": "2022-06-27T11:20:42.681902Z",
     "iopub.status.busy": "2022-06-27T11:20:42.681151Z",
     "iopub.status.idle": "2022-06-27T11:20:42.704243Z",
     "shell.execute_reply": "2022-06-27T11:20:42.703385Z"
    },
    "papermill": {
     "duration": 0.02911,
     "end_time": "2022-06-27T11:20:42.706605",
     "exception": false,
     "start_time": "2022-06-27T11:20:42.677495",
     "status": "completed"
    },
    "tags": []
   },
   "outputs": [
    {
     "data": {
      "text/html": [
       "<div>\n",
       "<style scoped>\n",
       "    .dataframe tbody tr th:only-of-type {\n",
       "        vertical-align: middle;\n",
       "    }\n",
       "\n",
       "    .dataframe tbody tr th {\n",
       "        vertical-align: top;\n",
       "    }\n",
       "\n",
       "    .dataframe thead th {\n",
       "        text-align: right;\n",
       "    }\n",
       "</style>\n",
       "<table border=\"1\" class=\"dataframe\">\n",
       "  <thead>\n",
       "    <tr style=\"text-align: right;\">\n",
       "      <th></th>\n",
       "      <th>document_id</th>\n",
       "      <th>status</th>\n",
       "      <th>document_url</th>\n",
       "      <th>media_type</th>\n",
       "      <th>media_link</th>\n",
       "      <th>relative_media_path</th>\n",
       "      <th>is_media_downloaded</th>\n",
       "      <th>transcription_text</th>\n",
       "      <th>transcription_text_relative_path</th>\n",
       "      <th>from_time</th>\n",
       "      <th>to_time</th>\n",
       "      <th>project_id</th>\n",
       "      <th>Category</th>\n",
       "      <th>Unnamed: 13</th>\n",
       "      <th>Unnamed: 14</th>\n",
       "    </tr>\n",
       "  </thead>\n",
       "  <tbody>\n",
       "    <tr>\n",
       "      <th>0</th>\n",
       "      <td>NMAAHC-004567394_00861</td>\n",
       "      <td>Complete</td>\n",
       "      <td>https://transcription.si.edu/transcribe/11400/...</td>\n",
       "      <td>image</td>\n",
       "      <td>https://ids.si.edu/ids/deliveryService?max_w=&amp;...</td>\n",
       "      <td>/11400/image/NMAAHC-004567394_00861.jpg</td>\n",
       "      <td>1</td>\n",
       "      <td>[D104 ENCL]\\r\\nNorth Carolina\\r\\nThis indentur...</td>\n",
       "      <td>/11400/transcriptions/NMAAHC-004567394_00861.txt</td>\n",
       "      <td>\\N</td>\n",
       "      <td>\\N</td>\n",
       "      <td>11400</td>\n",
       "      <td>Contracts</td>\n",
       "      <td>NaN</td>\n",
       "      <td>NaN</td>\n",
       "    </tr>\n",
       "    <tr>\n",
       "      <th>1</th>\n",
       "      <td>NMAAHC-004567394_00957</td>\n",
       "      <td>Complete</td>\n",
       "      <td>https://transcription.si.edu/transcribe/11400/...</td>\n",
       "      <td>image</td>\n",
       "      <td>https://ids.si.edu/ids/deliveryService?max_w=&amp;...</td>\n",
       "      <td>/11400/image/NMAAHC-004567394_00957.jpg</td>\n",
       "      <td>1</td>\n",
       "      <td>[E 11 ENCL] \\r\\n\\r\\n\\r\\nState of North Carolin...</td>\n",
       "      <td>/11400/transcriptions/NMAAHC-004567394_00957.txt</td>\n",
       "      <td>\\N</td>\n",
       "      <td>\\N</td>\n",
       "      <td>11400</td>\n",
       "      <td>Contracts</td>\n",
       "      <td>NaN</td>\n",
       "      <td>NaN</td>\n",
       "    </tr>\n",
       "    <tr>\n",
       "      <th>2</th>\n",
       "      <td>NMAAHC-004567394_00958</td>\n",
       "      <td>Complete</td>\n",
       "      <td>https://transcription.si.edu/transcribe/11400/...</td>\n",
       "      <td>image</td>\n",
       "      <td>https://ids.si.edu/ids/deliveryService?max_w=&amp;...</td>\n",
       "      <td>/11400/image/NMAAHC-004567394_00958.jpg</td>\n",
       "      <td>1</td>\n",
       "      <td>near Lizzie Etheridge's gate, thence South 56 ...</td>\n",
       "      <td>/11400/transcriptions/NMAAHC-004567394_00958.txt</td>\n",
       "      <td>\\N</td>\n",
       "      <td>\\N</td>\n",
       "      <td>11400</td>\n",
       "      <td>Contracts</td>\n",
       "      <td>NaN</td>\n",
       "      <td>NaN</td>\n",
       "    </tr>\n",
       "    <tr>\n",
       "      <th>3</th>\n",
       "      <td>NMAAHC-004567395_00439</td>\n",
       "      <td>Complete</td>\n",
       "      <td>https://transcription.si.edu/transcribe/11406/...</td>\n",
       "      <td>image</td>\n",
       "      <td>https://ids.si.edu/ids/deliveryService?max_w=&amp;...</td>\n",
       "      <td>/11406/image/NMAAHC-004567395_00439.jpg</td>\n",
       "      <td>1</td>\n",
       "      <td>Copy\\r\\n\\r\\nAgreement of Apprenticeship\\r\\nBu ...</td>\n",
       "      <td>/11406/transcriptions/NMAAHC-004567395_00439.txt</td>\n",
       "      <td>\\N</td>\n",
       "      <td>\\N</td>\n",
       "      <td>11406</td>\n",
       "      <td>Contracts</td>\n",
       "      <td>NaN</td>\n",
       "      <td>NaN</td>\n",
       "    </tr>\n",
       "    <tr>\n",
       "      <th>4</th>\n",
       "      <td>NMAAHC-004567395_00440</td>\n",
       "      <td>Complete</td>\n",
       "      <td>https://transcription.si.edu/transcribe/11406/...</td>\n",
       "      <td>image</td>\n",
       "      <td>https://ids.si.edu/ids/deliveryService?max_w=&amp;...</td>\n",
       "      <td>/11406/image/NMAAHC-004567395_00440.jpg</td>\n",
       "      <td>1</td>\n",
       "      <td>[H 132 ENCL] \\r\\n\\r\\nCopy\\r\\n\\r\\nAgreement of ...</td>\n",
       "      <td>/11406/transcriptions/NMAAHC-004567395_00440.txt</td>\n",
       "      <td>\\N</td>\n",
       "      <td>\\N</td>\n",
       "      <td>11406</td>\n",
       "      <td>Contracts</td>\n",
       "      <td>NaN</td>\n",
       "      <td>NaN</td>\n",
       "    </tr>\n",
       "  </tbody>\n",
       "</table>\n",
       "</div>"
      ],
      "text/plain": [
       "              document_id    status  \\\n",
       "0  NMAAHC-004567394_00861  Complete   \n",
       "1  NMAAHC-004567394_00957  Complete   \n",
       "2  NMAAHC-004567394_00958  Complete   \n",
       "3  NMAAHC-004567395_00439  Complete   \n",
       "4  NMAAHC-004567395_00440  Complete   \n",
       "\n",
       "                                        document_url media_type  \\\n",
       "0  https://transcription.si.edu/transcribe/11400/...      image   \n",
       "1  https://transcription.si.edu/transcribe/11400/...      image   \n",
       "2  https://transcription.si.edu/transcribe/11400/...      image   \n",
       "3  https://transcription.si.edu/transcribe/11406/...      image   \n",
       "4  https://transcription.si.edu/transcribe/11406/...      image   \n",
       "\n",
       "                                          media_link  \\\n",
       "0  https://ids.si.edu/ids/deliveryService?max_w=&...   \n",
       "1  https://ids.si.edu/ids/deliveryService?max_w=&...   \n",
       "2  https://ids.si.edu/ids/deliveryService?max_w=&...   \n",
       "3  https://ids.si.edu/ids/deliveryService?max_w=&...   \n",
       "4  https://ids.si.edu/ids/deliveryService?max_w=&...   \n",
       "\n",
       "                       relative_media_path  is_media_downloaded  \\\n",
       "0  /11400/image/NMAAHC-004567394_00861.jpg                    1   \n",
       "1  /11400/image/NMAAHC-004567394_00957.jpg                    1   \n",
       "2  /11400/image/NMAAHC-004567394_00958.jpg                    1   \n",
       "3  /11406/image/NMAAHC-004567395_00439.jpg                    1   \n",
       "4  /11406/image/NMAAHC-004567395_00440.jpg                    1   \n",
       "\n",
       "                                  transcription_text  \\\n",
       "0  [D104 ENCL]\\r\\nNorth Carolina\\r\\nThis indentur...   \n",
       "1  [E 11 ENCL] \\r\\n\\r\\n\\r\\nState of North Carolin...   \n",
       "2  near Lizzie Etheridge's gate, thence South 56 ...   \n",
       "3  Copy\\r\\n\\r\\nAgreement of Apprenticeship\\r\\nBu ...   \n",
       "4  [H 132 ENCL] \\r\\n\\r\\nCopy\\r\\n\\r\\nAgreement of ...   \n",
       "\n",
       "                   transcription_text_relative_path from_time to_time  \\\n",
       "0  /11400/transcriptions/NMAAHC-004567394_00861.txt        \\N      \\N   \n",
       "1  /11400/transcriptions/NMAAHC-004567394_00957.txt        \\N      \\N   \n",
       "2  /11400/transcriptions/NMAAHC-004567394_00958.txt        \\N      \\N   \n",
       "3  /11406/transcriptions/NMAAHC-004567395_00439.txt        \\N      \\N   \n",
       "4  /11406/transcriptions/NMAAHC-004567395_00440.txt        \\N      \\N   \n",
       "\n",
       "   project_id   Category  Unnamed: 13  Unnamed: 14  \n",
       "0       11400  Contracts          NaN          NaN  \n",
       "1       11400  Contracts          NaN          NaN  \n",
       "2       11400  Contracts          NaN          NaN  \n",
       "3       11406  Contracts          NaN          NaN  \n",
       "4       11406  Contracts          NaN          NaN  "
      ]
     },
     "execution_count": 3,
     "metadata": {},
     "output_type": "execute_result"
    }
   ],
   "source": [
    "data.head()"
   ]
  },
  {
   "cell_type": "code",
   "execution_count": 4,
   "id": "b723d730",
   "metadata": {
    "execution": {
     "iopub.execute_input": "2022-06-27T11:20:42.715903Z",
     "iopub.status.busy": "2022-06-27T11:20:42.714416Z",
     "iopub.status.idle": "2022-06-27T11:20:42.722094Z",
     "shell.execute_reply": "2022-06-27T11:20:42.721298Z"
    },
    "papermill": {
     "duration": 0.0134,
     "end_time": "2022-06-27T11:20:42.723867",
     "exception": false,
     "start_time": "2022-06-27T11:20:42.710467",
     "status": "completed"
    },
    "tags": []
   },
   "outputs": [
    {
     "data": {
      "text/plain": [
       "(278926, 15)"
      ]
     },
     "execution_count": 4,
     "metadata": {},
     "output_type": "execute_result"
    }
   ],
   "source": [
    "data.shape"
   ]
  },
  {
   "cell_type": "code",
   "execution_count": 5,
   "id": "6968fffb",
   "metadata": {
    "execution": {
     "iopub.execute_input": "2022-06-27T11:20:42.731872Z",
     "iopub.status.busy": "2022-06-27T11:20:42.731191Z",
     "iopub.status.idle": "2022-06-27T11:20:42.760190Z",
     "shell.execute_reply": "2022-06-27T11:20:42.759318Z"
    },
    "papermill": {
     "duration": 0.035074,
     "end_time": "2022-06-27T11:20:42.762302",
     "exception": false,
     "start_time": "2022-06-27T11:20:42.727228",
     "status": "completed"
    },
    "tags": []
   },
   "outputs": [
    {
     "data": {
      "text/plain": [
       "array(['Contracts', 'Duplicate Scan', 'Index', 'Letters/Reports',\n",
       "       'Letters/Reports ', 'Miscellaneous', 'Oaths/Pardons',\n",
       "       'Orders/Circulars', 'Records - Court', 'Records - Courts',\n",
       "       'Records - Education', 'Records - Financial', 'Records - Military',\n",
       "       'Records - Personnel', 'Records - Property', 'Records - Rations',\n",
       "       'Records - Transportation', 'Records - Vital', 'Records -Court',\n",
       "       'Reports', 'XX - Blank page', 'XX - Blank Page',\n",
       "       'XX - Duplicate Scab', 'XX - Duplicate Scan', 'XX - Metadata',\n",
       "       'XX - Title page', 'XX - Title Page', 'XX- Duplicate Scan'],\n",
       "      dtype=object)"
      ]
     },
     "execution_count": 5,
     "metadata": {},
     "output_type": "execute_result"
    }
   ],
   "source": [
    "data[\"Category\"].unique()"
   ]
  },
  {
   "cell_type": "code",
   "execution_count": 6,
   "id": "7ffe0243",
   "metadata": {
    "execution": {
     "iopub.execute_input": "2022-06-27T11:20:42.770637Z",
     "iopub.status.busy": "2022-06-27T11:20:42.770366Z",
     "iopub.status.idle": "2022-06-27T11:20:43.001437Z",
     "shell.execute_reply": "2022-06-27T11:20:43.000378Z"
    },
    "papermill": {
     "duration": 0.237943,
     "end_time": "2022-06-27T11:20:43.004021",
     "exception": false,
     "start_time": "2022-06-27T11:20:42.766078",
     "status": "completed"
    },
    "tags": []
   },
   "outputs": [],
   "source": [
    "contact=data[data[\"Category\"]==\"Contracts\"]\n",
    "order=data[data[\"Category\"]==\"Orders/Circulars\"]\n",
    "index=data[data[\"Category\"]==\"Index\"]\n",
    "recordE=data[data[\"Category\"]==\"Records - Education\"]\n",
    "recordF=data[data[\"Category\"]==\"Records - Financial\"]\n",
    "recordC=data[data[\"Category\"]==\"Records - Court\"]"
   ]
  },
  {
   "cell_type": "code",
   "execution_count": 7,
   "id": "0c95bc48",
   "metadata": {
    "execution": {
     "iopub.execute_input": "2022-06-27T11:20:43.012407Z",
     "iopub.status.busy": "2022-06-27T11:20:43.012099Z",
     "iopub.status.idle": "2022-06-27T11:20:43.028066Z",
     "shell.execute_reply": "2022-06-27T11:20:43.027069Z"
    },
    "papermill": {
     "duration": 0.023392,
     "end_time": "2022-06-27T11:20:43.031040",
     "exception": false,
     "start_time": "2022-06-27T11:20:43.007648",
     "status": "completed"
    },
    "tags": []
   },
   "outputs": [
    {
     "data": {
      "text/html": [
       "<div>\n",
       "<style scoped>\n",
       "    .dataframe tbody tr th:only-of-type {\n",
       "        vertical-align: middle;\n",
       "    }\n",
       "\n",
       "    .dataframe tbody tr th {\n",
       "        vertical-align: top;\n",
       "    }\n",
       "\n",
       "    .dataframe thead th {\n",
       "        text-align: right;\n",
       "    }\n",
       "</style>\n",
       "<table border=\"1\" class=\"dataframe\">\n",
       "  <thead>\n",
       "    <tr style=\"text-align: right;\">\n",
       "      <th></th>\n",
       "      <th>document_id</th>\n",
       "      <th>status</th>\n",
       "      <th>document_url</th>\n",
       "      <th>media_type</th>\n",
       "      <th>media_link</th>\n",
       "      <th>relative_media_path</th>\n",
       "      <th>is_media_downloaded</th>\n",
       "      <th>transcription_text</th>\n",
       "      <th>transcription_text_relative_path</th>\n",
       "      <th>from_time</th>\n",
       "      <th>to_time</th>\n",
       "      <th>project_id</th>\n",
       "      <th>Category</th>\n",
       "      <th>Unnamed: 13</th>\n",
       "      <th>Unnamed: 14</th>\n",
       "    </tr>\n",
       "  </thead>\n",
       "  <tbody>\n",
       "    <tr>\n",
       "      <th>0</th>\n",
       "      <td>NMAAHC-004567394_00861</td>\n",
       "      <td>Complete</td>\n",
       "      <td>https://transcription.si.edu/transcribe/11400/...</td>\n",
       "      <td>image</td>\n",
       "      <td>https://ids.si.edu/ids/deliveryService?max_w=&amp;...</td>\n",
       "      <td>/11400/image/NMAAHC-004567394_00861.jpg</td>\n",
       "      <td>1</td>\n",
       "      <td>[D104 ENCL]\\r\\nNorth Carolina\\r\\nThis indentur...</td>\n",
       "      <td>/11400/transcriptions/NMAAHC-004567394_00861.txt</td>\n",
       "      <td>\\N</td>\n",
       "      <td>\\N</td>\n",
       "      <td>11400</td>\n",
       "      <td>Contracts</td>\n",
       "      <td>NaN</td>\n",
       "      <td>NaN</td>\n",
       "    </tr>\n",
       "    <tr>\n",
       "      <th>1</th>\n",
       "      <td>NMAAHC-004567394_00957</td>\n",
       "      <td>Complete</td>\n",
       "      <td>https://transcription.si.edu/transcribe/11400/...</td>\n",
       "      <td>image</td>\n",
       "      <td>https://ids.si.edu/ids/deliveryService?max_w=&amp;...</td>\n",
       "      <td>/11400/image/NMAAHC-004567394_00957.jpg</td>\n",
       "      <td>1</td>\n",
       "      <td>[E 11 ENCL] \\r\\n\\r\\n\\r\\nState of North Carolin...</td>\n",
       "      <td>/11400/transcriptions/NMAAHC-004567394_00957.txt</td>\n",
       "      <td>\\N</td>\n",
       "      <td>\\N</td>\n",
       "      <td>11400</td>\n",
       "      <td>Contracts</td>\n",
       "      <td>NaN</td>\n",
       "      <td>NaN</td>\n",
       "    </tr>\n",
       "  </tbody>\n",
       "</table>\n",
       "</div>"
      ],
      "text/plain": [
       "              document_id    status  \\\n",
       "0  NMAAHC-004567394_00861  Complete   \n",
       "1  NMAAHC-004567394_00957  Complete   \n",
       "\n",
       "                                        document_url media_type  \\\n",
       "0  https://transcription.si.edu/transcribe/11400/...      image   \n",
       "1  https://transcription.si.edu/transcribe/11400/...      image   \n",
       "\n",
       "                                          media_link  \\\n",
       "0  https://ids.si.edu/ids/deliveryService?max_w=&...   \n",
       "1  https://ids.si.edu/ids/deliveryService?max_w=&...   \n",
       "\n",
       "                       relative_media_path  is_media_downloaded  \\\n",
       "0  /11400/image/NMAAHC-004567394_00861.jpg                    1   \n",
       "1  /11400/image/NMAAHC-004567394_00957.jpg                    1   \n",
       "\n",
       "                                  transcription_text  \\\n",
       "0  [D104 ENCL]\\r\\nNorth Carolina\\r\\nThis indentur...   \n",
       "1  [E 11 ENCL] \\r\\n\\r\\n\\r\\nState of North Carolin...   \n",
       "\n",
       "                   transcription_text_relative_path from_time to_time  \\\n",
       "0  /11400/transcriptions/NMAAHC-004567394_00861.txt        \\N      \\N   \n",
       "1  /11400/transcriptions/NMAAHC-004567394_00957.txt        \\N      \\N   \n",
       "\n",
       "   project_id   Category  Unnamed: 13  Unnamed: 14  \n",
       "0       11400  Contracts          NaN          NaN  \n",
       "1       11400  Contracts          NaN          NaN  "
      ]
     },
     "execution_count": 7,
     "metadata": {},
     "output_type": "execute_result"
    }
   ],
   "source": [
    "contact.head(2)"
   ]
  },
  {
   "cell_type": "code",
   "execution_count": 8,
   "id": "36069729",
   "metadata": {
    "execution": {
     "iopub.execute_input": "2022-06-27T11:20:43.041304Z",
     "iopub.status.busy": "2022-06-27T11:20:43.039485Z",
     "iopub.status.idle": "2022-06-27T11:20:43.047598Z",
     "shell.execute_reply": "2022-06-27T11:20:43.046618Z"
    },
    "papermill": {
     "duration": 0.014924,
     "end_time": "2022-06-27T11:20:43.049874",
     "exception": false,
     "start_time": "2022-06-27T11:20:43.034950",
     "status": "completed"
    },
    "tags": []
   },
   "outputs": [
    {
     "data": {
      "text/plain": [
       "((23731, 15), (5422, 15), (3599, 15), (13487, 15), (6117, 15), (7668, 15))"
      ]
     },
     "execution_count": 8,
     "metadata": {},
     "output_type": "execute_result"
    }
   ],
   "source": [
    "contact.shape , index.shape,recordF.shape, recordE.shape, recordC.shape, order.shape"
   ]
  },
  {
   "cell_type": "code",
   "execution_count": 9,
   "id": "a765c86d",
   "metadata": {
    "execution": {
     "iopub.execute_input": "2022-06-27T11:20:43.058184Z",
     "iopub.status.busy": "2022-06-27T11:20:43.057935Z",
     "iopub.status.idle": "2022-06-27T11:20:45.954571Z",
     "shell.execute_reply": "2022-06-27T11:20:45.953587Z"
    },
    "papermill": {
     "duration": 2.903725,
     "end_time": "2022-06-27T11:20:45.957237",
     "exception": false,
     "start_time": "2022-06-27T11:20:43.053512",
     "status": "completed"
    },
    "tags": []
   },
   "outputs": [],
   "source": [
    "contact.to_csv(\"contact.csv\",index=False)\n",
    "index.to_csv(\"index.csv\",index=False)\n",
    "recordF.to_csv(\"recordF.csv\",index=False)\n",
    "recordE.to_csv(\"recordE.csv\",index=False)\n",
    "recordC.to_csv(\"recordC.csv\",index=False)\n",
    "order.to_csv(\"order.csv\",index=False)"
   ]
  },
  {
   "cell_type": "code",
   "execution_count": null,
   "id": "5e585314",
   "metadata": {
    "papermill": {
     "duration": 0.003746,
     "end_time": "2022-06-27T11:20:45.965021",
     "exception": false,
     "start_time": "2022-06-27T11:20:45.961275",
     "status": "completed"
    },
    "tags": []
   },
   "outputs": [],
   "source": []
  }
 ],
 "metadata": {
  "kernelspec": {
   "display_name": "Python 3",
   "language": "python",
   "name": "python3"
  },
  "language_info": {
   "codemirror_mode": {
    "name": "ipython",
    "version": 3
   },
   "file_extension": ".py",
   "mimetype": "text/x-python",
   "name": "python",
   "nbconvert_exporter": "python",
   "pygments_lexer": "ipython3",
   "version": "3.7.12"
  },
  "papermill": {
   "default_parameters": {},
   "duration": 34.301949,
   "end_time": "2022-06-27T11:20:48.768597",
   "environment_variables": {},
   "exception": null,
   "input_path": "__notebook__.ipynb",
   "output_path": "__notebook__.ipynb",
   "parameters": {},
   "start_time": "2022-06-27T11:20:14.466648",
   "version": "2.3.4"
  }
 },
 "nbformat": 4,
 "nbformat_minor": 5
}
