{
 "cells": [
  {
   "cell_type": "code",
   "execution_count": 1,
   "id": "aed6c0df",
   "metadata": {
    "_cell_guid": "b1076dfc-b9ad-4769-8c92-a6c4dae69d19",
    "_uuid": "8f2839f25d086af736a60e9eeb907d3b93b6e0e5",
    "execution": {
     "iopub.execute_input": "2022-06-30T12:23:38.731677Z",
     "iopub.status.busy": "2022-06-30T12:23:38.730971Z",
     "iopub.status.idle": "2022-06-30T12:23:47.593757Z",
     "shell.execute_reply": "2022-06-30T12:23:47.593108Z",
     "shell.execute_reply.started": "2022-06-30T12:02:14.072080Z"
    },
    "papermill": {
     "duration": 8.900317,
     "end_time": "2022-06-30T12:23:47.593908",
     "exception": false,
     "start_time": "2022-06-30T12:23:38.693591",
     "status": "completed"
    },
    "tags": []
   },
   "outputs": [],
   "source": [
    "import os\n",
    "\n",
    "import random\n",
    "import numpy as np\n",
    "\n",
    "import pandas as pd\n",
    "import torch\n",
    "from torch.utils.data import Dataset, random_split\n",
    "from transformers import (\n",
    "    AdamW,\n",
    "    Trainer,\n",
    "    TrainingArguments,\n",
    "    AutoTokenizer,\n",
    "    AutoModelForSequenceClassification,\n",
    "    get_cosine_schedule_with_warmup,\n",
    ")\n",
    "from sklearn.preprocessing import LabelEncoder\n",
    "from sklearn.metrics import accuracy_score"
   ]
  },
  {
   "cell_type": "code",
   "execution_count": 2,
   "id": "0755e274",
   "metadata": {
    "execution": {
     "iopub.execute_input": "2022-06-30T12:23:47.654983Z",
     "iopub.status.busy": "2022-06-30T12:23:47.654448Z",
     "iopub.status.idle": "2022-06-30T12:23:48.847299Z",
     "shell.execute_reply": "2022-06-30T12:23:48.846814Z",
     "shell.execute_reply.started": "2022-06-30T12:02:14.121114Z"
    },
    "papermill": {
     "duration": 1.225225,
     "end_time": "2022-06-30T12:23:48.847432",
     "exception": false,
     "start_time": "2022-06-30T12:23:47.622207",
     "status": "completed"
    },
    "tags": []
   },
   "outputs": [
    {
     "data": {
      "application/vnd.jupyter.widget-view+json": {
       "model_id": "a48c30db499c4a27a789ce198ed03df3",
       "version_major": 2,
       "version_minor": 0
      },
      "text/plain": [
       "Downloading:   0%|          | 0.00/420 [00:00<?, ?B/s]"
      ]
     },
     "metadata": {},
     "output_type": "display_data"
    },
    {
     "data": {
      "application/vnd.jupyter.widget-view+json": {
       "model_id": "1377f3bb52f14e8e93fadfdc4316c21f",
       "version_major": 2,
       "version_minor": 0
      },
      "text/plain": [
       "Downloading:   0%|          | 0.00/227k [00:00<?, ?B/s]"
      ]
     },
     "metadata": {},
     "output_type": "display_data"
    },
    {
     "data": {
      "application/vnd.jupyter.widget-view+json": {
       "model_id": "01b33faa78dc4174b7892a865861a3ef",
       "version_major": 2,
       "version_minor": 0
      },
      "text/plain": [
       "Downloading:   0%|          | 0.00/83.0 [00:00<?, ?B/s]"
      ]
     },
     "metadata": {},
     "output_type": "display_data"
    }
   ],
   "source": [
    "model_name = \"dbmdz/bert-base-french-europeana-cased\"\n",
    "\n",
    "tokenizer = AutoTokenizer.from_pretrained(model_name, ignore_mismatched_sizes=True)\n",
    "\n",
    "device = torch.device(\"cuda\" if torch.cuda.is_available() else \"cpu\")"
   ]
  },
  {
   "cell_type": "code",
   "execution_count": 3,
   "id": "6561e076",
   "metadata": {
    "execution": {
     "iopub.execute_input": "2022-06-30T12:23:48.907187Z",
     "iopub.status.busy": "2022-06-30T12:23:48.905901Z",
     "iopub.status.idle": "2022-06-30T12:23:48.909492Z",
     "shell.execute_reply": "2022-06-30T12:23:48.909028Z",
     "shell.execute_reply.started": "2022-06-30T12:02:17.085677Z"
    },
    "papermill": {
     "duration": 0.03412,
     "end_time": "2022-06-30T12:23:48.909603",
     "exception": false,
     "start_time": "2022-06-30T12:23:48.875483",
     "status": "completed"
    },
    "tags": []
   },
   "outputs": [],
   "source": [
    "lr = 2e-5\n",
    "epochs =  6\n",
    "batch_size = 5\n",
    "max_seq_len = 75\n",
    "\n",
    "test_frac = 0.1"
   ]
  },
  {
   "cell_type": "code",
   "execution_count": 4,
   "id": "2000ce8e",
   "metadata": {
    "execution": {
     "iopub.execute_input": "2022-06-30T12:23:48.969919Z",
     "iopub.status.busy": "2022-06-30T12:23:48.969263Z",
     "iopub.status.idle": "2022-06-30T12:23:48.974500Z",
     "shell.execute_reply": "2022-06-30T12:23:48.974017Z",
     "shell.execute_reply.started": "2022-06-30T12:02:17.104114Z"
    },
    "papermill": {
     "duration": 0.037921,
     "end_time": "2022-06-30T12:23:48.974607",
     "exception": false,
     "start_time": "2022-06-30T12:23:48.936686",
     "status": "completed"
    },
    "tags": []
   },
   "outputs": [],
   "source": [
    "import os\n",
    "\n",
    "def set_seed(seed=106052):\n",
    "    \"\"\"Set seed for reproducibility.\n",
    "    \"\"\"\n",
    "    random.seed(seed)\n",
    "    np.random.seed(seed)\n",
    "    torch.manual_seed(seed)\n",
    "    torch.cuda.manual_seed_all(seed)\n",
    "    \n",
    "    os.environ['PYTHONHASHSEED'] = str(seed)\n",
    "    \n",
    "set_seed()"
   ]
  },
  {
   "cell_type": "code",
   "execution_count": 5,
   "id": "2ebda3a7",
   "metadata": {
    "execution": {
     "iopub.execute_input": "2022-06-30T12:23:49.037284Z",
     "iopub.status.busy": "2022-06-30T12:23:49.036495Z",
     "iopub.status.idle": "2022-06-30T12:23:49.038937Z",
     "shell.execute_reply": "2022-06-30T12:23:49.038499Z",
     "shell.execute_reply.started": "2022-06-30T12:02:17.121496Z"
    },
    "papermill": {
     "duration": 0.037086,
     "end_time": "2022-06-30T12:23:49.039040",
     "exception": false,
     "start_time": "2022-06-30T12:23:49.001954",
     "status": "completed"
    },
    "tags": []
   },
   "outputs": [],
   "source": [
    "class CEFRDataset(Dataset):\n",
    "    \"\"\"Classification dataset, built on top of pytorch dataset object\n",
    "    \"\"\"\n",
    "    \n",
    "    def __init__(self, texts, labels):\n",
    "        \n",
    "        self.encoder = LabelEncoder()\n",
    "        print(self.encoder.__dict__)\n",
    "        self.texts = texts\n",
    "        self.labels = self.encoder.fit_transform(labels)\n",
    "\n",
    "    def __len__(self):\n",
    "        return len(self.texts)\n",
    "\n",
    "    def __getitem__(self, index):\n",
    "        text = self.texts[index]\n",
    "        label = self.labels[index]\n",
    "        encoded_text = tokenizer(\n",
    "            text,\n",
    "            padding=\"max_length\",\n",
    "            max_length=max_seq_len,\n",
    "            truncation=True,\n",
    "            return_tensors=\"pt\",\n",
    "        )\n",
    "        encoded_text[\"input_ids\"] = encoded_text[\"input_ids\"].squeeze()\n",
    "        encoded_text[\"attention_mask\"] = encoded_text[\"attention_mask\"].squeeze()\n",
    "        label = torch.tensor(label)\n",
    "\n",
    "        return {\n",
    "            \"input_ids\": encoded_text[\"input_ids\"],\n",
    "            \"attention_mask\": encoded_text[\"attention_mask\"],\n",
    "            \"labels\": label,\n",
    "        }\n",
    "\n",
    "    def get_labels(self):\n",
    "        return self.labels"
   ]
  },
  {
   "cell_type": "code",
   "execution_count": 6,
   "id": "c0ab2670",
   "metadata": {
    "execution": {
     "iopub.execute_input": "2022-06-30T12:23:49.100255Z",
     "iopub.status.busy": "2022-06-30T12:23:49.099330Z",
     "iopub.status.idle": "2022-06-30T12:23:49.101677Z",
     "shell.execute_reply": "2022-06-30T12:23:49.102165Z",
     "shell.execute_reply.started": "2022-06-30T12:02:17.169537Z"
    },
    "papermill": {
     "duration": 0.034657,
     "end_time": "2022-06-30T12:23:49.102306",
     "exception": false,
     "start_time": "2022-06-30T12:23:49.067649",
     "status": "completed"
    },
    "tags": []
   },
   "outputs": [],
   "source": [
    "def get_model(pretrained_checkpoint):\n",
    "    model = AutoModelForSequenceClassification.from_pretrained(\n",
    "        pretrained_checkpoint, num_labels=6\n",
    "    )\n",
    "    return model.to(device)"
   ]
  },
  {
   "cell_type": "code",
   "execution_count": 7,
   "id": "35cc697b",
   "metadata": {
    "execution": {
     "iopub.execute_input": "2022-06-30T12:23:49.163255Z",
     "iopub.status.busy": "2022-06-30T12:23:49.162490Z",
     "iopub.status.idle": "2022-06-30T12:23:49.164489Z",
     "shell.execute_reply": "2022-06-30T12:23:49.164903Z",
     "shell.execute_reply.started": "2022-06-30T12:02:17.195733Z"
    },
    "papermill": {
     "duration": 0.035383,
     "end_time": "2022-06-30T12:23:49.165018",
     "exception": false,
     "start_time": "2022-06-30T12:23:49.129635",
     "status": "completed"
    },
    "tags": []
   },
   "outputs": [],
   "source": [
    "def train(train_set, valid_set, epochs=10, warmup_size=0.1, lr=1e-3, batch_size=16):\n",
    "    model = get_model(model_name)\n",
    "    optim = AdamW(model.parameters(), lr=lr)\n",
    "    scheduler = get_scheduler(\n",
    "        optim, warmup_size, round(len(train_set) / batch_size * epochs)\n",
    "    )\n",
    "    training_args = get_training_args(epochs, batch_size)\n",
    "    trainer = Trainer(\n",
    "        model=model,\n",
    "        args=training_args,\n",
    "        train_dataset=train_set,\n",
    "        eval_dataset=valid_set,\n",
    "        optimizers=[optim, scheduler],\n",
    "        compute_metrics=compute_accuracy,\n",
    "    )\n",
    "    trainer.train()\n",
    "    trainer.save_model()\n",
    "    return trainer"
   ]
  },
  {
   "cell_type": "code",
   "execution_count": 8,
   "id": "4c11d20a",
   "metadata": {
    "execution": {
     "iopub.execute_input": "2022-06-30T12:23:49.222257Z",
     "iopub.status.busy": "2022-06-30T12:23:49.221454Z",
     "iopub.status.idle": "2022-06-30T12:23:49.224693Z",
     "shell.execute_reply": "2022-06-30T12:23:49.225222Z",
     "shell.execute_reply.started": "2022-06-30T12:02:17.219683Z"
    },
    "papermill": {
     "duration": 0.032891,
     "end_time": "2022-06-30T12:23:49.225360",
     "exception": false,
     "start_time": "2022-06-30T12:23:49.192469",
     "status": "completed"
    },
    "tags": []
   },
   "outputs": [],
   "source": [
    "# def get_model(pretrained_checkpoint):\n",
    "#     model = AutoModelForSequenceClassification.from_pretrained(\n",
    "#         pretrained_checkpoint, num_labels=6\n",
    "#     )\n",
    "#     return model.to(device)"
   ]
  },
  {
   "cell_type": "code",
   "execution_count": 9,
   "id": "1d467862",
   "metadata": {
    "execution": {
     "iopub.execute_input": "2022-06-30T12:23:49.282287Z",
     "iopub.status.busy": "2022-06-30T12:23:49.281499Z",
     "iopub.status.idle": "2022-06-30T12:23:49.288577Z",
     "shell.execute_reply": "2022-06-30T12:23:49.288146Z",
     "shell.execute_reply.started": "2022-06-30T12:02:17.232661Z"
    },
    "papermill": {
     "duration": 0.036475,
     "end_time": "2022-06-30T12:23:49.288682",
     "exception": false,
     "start_time": "2022-06-30T12:23:49.252207",
     "status": "completed"
    },
    "tags": []
   },
   "outputs": [],
   "source": [
    "os.environ[\"WANDB_DISABLED\"] = \"true\"\n",
    "\n",
    "\n",
    "def get_scheduler(optimizer, warmup_size, total_steps):\n",
    "    scheduler = get_cosine_schedule_with_warmup(\n",
    "        optimizer,\n",
    "        num_warmup_steps=round(total_steps * warmup_size),\n",
    "        num_training_steps=total_steps,\n",
    "    )\n",
    "    return scheduler\n",
    "\n",
    "\n",
    "def get_training_args(epochs, batch_size):\n",
    "    return TrainingArguments(\n",
    "        output_dir=\"./b\",\n",
    "        num_train_epochs=epochs,\n",
    "        per_device_train_batch_size=batch_size,\n",
    "        logging_steps=50,\n",
    "        fp16=False,\n",
    "        evaluation_strategy=\"epoch\",\n",
    "        eval_accumulation_steps=1,\n",
    "        report_to=None,\n",
    "        save_total_limit=1,\n",
    "        load_best_model_at_end=True\n",
    "    )\n",
    "\n",
    "\n",
    "def compute_accuracy(pred):\n",
    "    labels = pred.label_ids\n",
    "    preds = pred.predictions.argmax(-1)\n",
    "    acc = accuracy_score(labels, preds)\n",
    "    return {\"accuracy\": acc}\n",
    "\n"
   ]
  },
  {
   "cell_type": "code",
   "execution_count": 10,
   "id": "5a696d06",
   "metadata": {
    "execution": {
     "iopub.execute_input": "2022-06-30T12:23:49.347042Z",
     "iopub.status.busy": "2022-06-30T12:23:49.346373Z",
     "iopub.status.idle": "2022-06-30T12:23:49.348765Z",
     "shell.execute_reply": "2022-06-30T12:23:49.348366Z",
     "shell.execute_reply.started": "2022-06-30T12:02:17.260994Z"
    },
    "papermill": {
     "duration": 0.033077,
     "end_time": "2022-06-30T12:23:49.348867",
     "exception": false,
     "start_time": "2022-06-30T12:23:49.315790",
     "status": "completed"
    },
    "tags": []
   },
   "outputs": [],
   "source": [
    "lr = 2e-5\n",
    "epochs =  7\n",
    "batch_size = 8\n",
    "max_seq_len = 512"
   ]
  },
  {
   "cell_type": "code",
   "execution_count": 11,
   "id": "44fa40ff",
   "metadata": {
    "execution": {
     "iopub.execute_input": "2022-06-30T12:23:49.408936Z",
     "iopub.status.busy": "2022-06-30T12:23:49.406872Z",
     "iopub.status.idle": "2022-06-30T12:23:49.411299Z",
     "shell.execute_reply": "2022-06-30T12:23:49.410832Z",
     "shell.execute_reply.started": "2022-06-30T12:02:17.284489Z"
    },
    "papermill": {
     "duration": 0.035605,
     "end_time": "2022-06-30T12:23:49.411404",
     "exception": false,
     "start_time": "2022-06-30T12:23:49.375799",
     "status": "completed"
    },
    "tags": []
   },
   "outputs": [],
   "source": [
    "def split_valid(df, frac=0.9):\n",
    "    \n",
    "    val = pd.DataFrame()\n",
    "    val[\"text\"] = \"\"\n",
    "    val[\"label\"] = -1\n",
    "    \n",
    "    for i in df.label.unique():\n",
    "        val = pd.concat([val, df[df.label == i].sample(frac=frac)])\n",
    "        \n",
    "    return df[~df.index.isin(val.index)].sample(frac=1).reset_index(drop=True) , val.sample(frac=1).reset_index(drop=True)"
   ]
  },
  {
   "cell_type": "code",
   "execution_count": 12,
   "id": "e25db05a",
   "metadata": {
    "execution": {
     "iopub.execute_input": "2022-06-30T12:23:49.468763Z",
     "iopub.status.busy": "2022-06-30T12:23:49.467935Z",
     "iopub.status.idle": "2022-06-30T12:23:49.531723Z",
     "shell.execute_reply": "2022-06-30T12:23:49.531313Z",
     "shell.execute_reply.started": "2022-06-30T12:02:17.307493Z"
    },
    "papermill": {
     "duration": 0.093384,
     "end_time": "2022-06-30T12:23:49.531845",
     "exception": false,
     "start_time": "2022-06-30T12:23:49.438461",
     "status": "completed"
    },
    "tags": []
   },
   "outputs": [],
   "source": [
    "from sklearn import preprocessing\n",
    "le = preprocessing.LabelEncoder()\n",
    "\n",
    "\n",
    "train_set_df = pd.read_csv(\"../input/frenchcefr/french dataset.csv\")\n",
    "train_set_df = train_set_df[train_set_df.label != \"XX\"]\n",
    "train_set_df = train_set_df[[\"text\", \"label\"]]\n",
    "\n",
    "train_set_df.text = train_set_df.text.apply(lambda x: x.replace(\"\\r\", \"\").replace(\"\\n\", \" \"))\n",
    "\n",
    "extra_df = pd.read_csv(\"../input/frenchcefr/french_mike_june.csv\")\n",
    "extra_df.columns = [\"text\", \"label\", \"label_\"]\n",
    "extra_df = extra_df[[\"text\", \"label\"]]\n",
    "extra_df.text = extra_df.text.astype(str)\n",
    "#train_set_df = pd.concat([train_set_df, extra_df]).reset_index(drop=True)\n",
    "\n",
    "train_set_df, valid_set_df = split_valid(train_set_df)"
   ]
  },
  {
   "cell_type": "code",
   "execution_count": 13,
   "id": "77d5a53c",
   "metadata": {
    "execution": {
     "iopub.execute_input": "2022-06-30T12:23:49.592964Z",
     "iopub.status.busy": "2022-06-30T12:23:49.592234Z",
     "iopub.status.idle": "2022-06-30T12:23:49.594949Z",
     "shell.execute_reply": "2022-06-30T12:23:49.595370Z",
     "shell.execute_reply.started": "2022-06-30T12:02:17.374528Z"
    },
    "papermill": {
     "duration": 0.036019,
     "end_time": "2022-06-30T12:23:49.595492",
     "exception": false,
     "start_time": "2022-06-30T12:23:49.559473",
     "status": "completed"
    },
    "tags": []
   },
   "outputs": [
    {
     "data": {
      "text/plain": [
       "array(['B1', 'A1', 'B2', 'C1', 'A2', 'C2'], dtype=object)"
      ]
     },
     "execution_count": 13,
     "metadata": {},
     "output_type": "execute_result"
    }
   ],
   "source": [
    "train_set_df.label.unique()"
   ]
  },
  {
   "cell_type": "code",
   "execution_count": 14,
   "id": "3d9be2b7",
   "metadata": {
    "execution": {
     "iopub.execute_input": "2022-06-30T12:23:49.653741Z",
     "iopub.status.busy": "2022-06-30T12:23:49.652876Z",
     "iopub.status.idle": "2022-06-30T12:23:49.658529Z",
     "shell.execute_reply": "2022-06-30T12:23:49.657963Z",
     "shell.execute_reply.started": "2022-06-30T12:02:17.399738Z"
    },
    "papermill": {
     "duration": 0.036136,
     "end_time": "2022-06-30T12:23:49.658635",
     "exception": false,
     "start_time": "2022-06-30T12:23:49.622499",
     "status": "completed"
    },
    "tags": []
   },
   "outputs": [
    {
     "data": {
      "text/plain": [
       "array(['A2', 'C1', 'B2', 'A1', 'B1', 'C2'], dtype=object)"
      ]
     },
     "execution_count": 14,
     "metadata": {},
     "output_type": "execute_result"
    }
   ],
   "source": [
    "extra_df.label.unique()"
   ]
  },
  {
   "cell_type": "code",
   "execution_count": 15,
   "id": "6762928f",
   "metadata": {
    "execution": {
     "iopub.execute_input": "2022-06-30T12:23:49.721944Z",
     "iopub.status.busy": "2022-06-30T12:23:49.721087Z",
     "iopub.status.idle": "2022-06-30T12:23:49.724498Z",
     "shell.execute_reply": "2022-06-30T12:23:49.723977Z",
     "shell.execute_reply.started": "2022-06-30T12:02:17.419198Z"
    },
    "papermill": {
     "duration": 0.037507,
     "end_time": "2022-06-30T12:23:49.724607",
     "exception": false,
     "start_time": "2022-06-30T12:23:49.687100",
     "status": "completed"
    },
    "tags": []
   },
   "outputs": [],
   "source": [
    "train_set_df.label = le.fit_transform(train_set_df.label)\n",
    "valid_set_df.label = le.transform(valid_set_df.label)"
   ]
  },
  {
   "cell_type": "code",
   "execution_count": 16,
   "id": "abf06edf",
   "metadata": {
    "execution": {
     "iopub.execute_input": "2022-06-30T12:23:49.790031Z",
     "iopub.status.busy": "2022-06-30T12:23:49.789358Z",
     "iopub.status.idle": "2022-06-30T12:23:49.792208Z",
     "shell.execute_reply": "2022-06-30T12:23:49.792699Z",
     "shell.execute_reply.started": "2022-06-30T12:02:17.444856Z"
    },
    "papermill": {
     "duration": 0.03988,
     "end_time": "2022-06-30T12:23:49.792843",
     "exception": false,
     "start_time": "2022-06-30T12:23:49.752963",
     "status": "completed"
    },
    "tags": []
   },
   "outputs": [
    {
     "data": {
      "text/plain": [
       "array([2, 0, 3, 4, 1, 5])"
      ]
     },
     "execution_count": 16,
     "metadata": {},
     "output_type": "execute_result"
    }
   ],
   "source": [
    "train_set_df.label.unique()"
   ]
  },
  {
   "cell_type": "code",
   "execution_count": 17,
   "id": "b55f9904",
   "metadata": {
    "execution": {
     "iopub.execute_input": "2022-06-30T12:23:49.854760Z",
     "iopub.status.busy": "2022-06-30T12:23:49.853938Z",
     "iopub.status.idle": "2022-06-30T12:23:49.856927Z",
     "shell.execute_reply": "2022-06-30T12:23:49.857363Z",
     "shell.execute_reply.started": "2022-06-30T12:02:17.459863Z"
    },
    "papermill": {
     "duration": 0.036063,
     "end_time": "2022-06-30T12:23:49.857489",
     "exception": false,
     "start_time": "2022-06-30T12:23:49.821426",
     "status": "completed"
    },
    "tags": []
   },
   "outputs": [
    {
     "data": {
      "text/plain": [
       "array([2, 4, 1, 5, 0, 3])"
      ]
     },
     "execution_count": 17,
     "metadata": {},
     "output_type": "execute_result"
    }
   ],
   "source": [
    "valid_set_df.label.unique()"
   ]
  },
  {
   "cell_type": "code",
   "execution_count": 18,
   "id": "4f349f00",
   "metadata": {
    "execution": {
     "iopub.execute_input": "2022-06-30T12:23:49.920619Z",
     "iopub.status.busy": "2022-06-30T12:23:49.919873Z",
     "iopub.status.idle": "2022-06-30T12:23:49.923153Z",
     "shell.execute_reply": "2022-06-30T12:23:49.923579Z",
     "shell.execute_reply.started": "2022-06-30T12:02:17.487651Z"
    },
    "papermill": {
     "duration": 0.037143,
     "end_time": "2022-06-30T12:23:49.923701",
     "exception": false,
     "start_time": "2022-06-30T12:23:49.886558",
     "status": "completed"
    },
    "tags": []
   },
   "outputs": [
    {
     "data": {
      "text/plain": [
       "6"
      ]
     },
     "execution_count": 18,
     "metadata": {},
     "output_type": "execute_result"
    }
   ],
   "source": [
    "train_set_df.label.nunique()"
   ]
  },
  {
   "cell_type": "code",
   "execution_count": 19,
   "id": "73889bf1",
   "metadata": {
    "execution": {
     "iopub.execute_input": "2022-06-30T12:23:49.985809Z",
     "iopub.status.busy": "2022-06-30T12:23:49.984955Z",
     "iopub.status.idle": "2022-06-30T12:23:49.988929Z",
     "shell.execute_reply": "2022-06-30T12:23:49.988488Z",
     "shell.execute_reply.started": "2022-06-30T12:02:17.521424Z"
    },
    "papermill": {
     "duration": 0.03692,
     "end_time": "2022-06-30T12:23:49.989032",
     "exception": false,
     "start_time": "2022-06-30T12:23:49.952112",
     "status": "completed"
    },
    "tags": []
   },
   "outputs": [
    {
     "data": {
      "text/plain": [
       "6"
      ]
     },
     "execution_count": 19,
     "metadata": {},
     "output_type": "execute_result"
    }
   ],
   "source": [
    "valid_set_df.label.nunique()"
   ]
  },
  {
   "cell_type": "code",
   "execution_count": 20,
   "id": "1841ca78",
   "metadata": {
    "execution": {
     "iopub.execute_input": "2022-06-30T12:23:50.055891Z",
     "iopub.status.busy": "2022-06-30T12:23:50.054756Z",
     "iopub.status.idle": "2022-06-30T12:23:50.058421Z",
     "shell.execute_reply": "2022-06-30T12:23:50.057942Z",
     "shell.execute_reply.started": "2022-06-30T12:02:17.548678Z"
    },
    "papermill": {
     "duration": 0.040404,
     "end_time": "2022-06-30T12:23:50.058527",
     "exception": false,
     "start_time": "2022-06-30T12:23:50.018123",
     "status": "completed"
    },
    "tags": []
   },
   "outputs": [
    {
     "data": {
      "text/plain": [
       "2    16\n",
       "1     5\n",
       "0     4\n",
       "3     3\n",
       "4     2\n",
       "5     1\n",
       "Name: label, dtype: int64"
      ]
     },
     "execution_count": 20,
     "metadata": {},
     "output_type": "execute_result"
    }
   ],
   "source": [
    "train_set_df.label.value_counts()"
   ]
  },
  {
   "cell_type": "code",
   "execution_count": 21,
   "id": "4b53d752",
   "metadata": {
    "execution": {
     "iopub.execute_input": "2022-06-30T12:23:50.122260Z",
     "iopub.status.busy": "2022-06-30T12:23:50.121672Z",
     "iopub.status.idle": "2022-06-30T12:23:50.125852Z",
     "shell.execute_reply": "2022-06-30T12:23:50.125441Z",
     "shell.execute_reply.started": "2022-06-30T12:02:17.573687Z"
    },
    "papermill": {
     "duration": 0.037966,
     "end_time": "2022-06-30T12:23:50.125968",
     "exception": false,
     "start_time": "2022-06-30T12:23:50.088002",
     "status": "completed"
    },
    "tags": []
   },
   "outputs": [
    {
     "data": {
      "text/plain": [
       "2    144\n",
       "1     47\n",
       "0     40\n",
       "3     23\n",
       "4     22\n",
       "5      7\n",
       "Name: label, dtype: int64"
      ]
     },
     "execution_count": 21,
     "metadata": {},
     "output_type": "execute_result"
    }
   ],
   "source": [
    "valid_set_df.label.value_counts()"
   ]
  },
  {
   "cell_type": "code",
   "execution_count": 22,
   "id": "a3d7197e",
   "metadata": {
    "execution": {
     "iopub.execute_input": "2022-06-30T12:23:50.189010Z",
     "iopub.status.busy": "2022-06-30T12:23:50.188254Z",
     "iopub.status.idle": "2022-06-30T12:23:50.190730Z",
     "shell.execute_reply": "2022-06-30T12:23:50.190238Z",
     "shell.execute_reply.started": "2022-06-30T12:02:17.595742Z"
    },
    "papermill": {
     "duration": 0.035178,
     "end_time": "2022-06-30T12:23:50.190829",
     "exception": false,
     "start_time": "2022-06-30T12:23:50.155651",
     "status": "completed"
    },
    "tags": []
   },
   "outputs": [],
   "source": [
    "# train_set_df = train_set_df.sample(frac=1)"
   ]
  },
  {
   "cell_type": "code",
   "execution_count": 23,
   "id": "7509d9c7",
   "metadata": {
    "execution": {
     "iopub.execute_input": "2022-06-30T12:23:50.252017Z",
     "iopub.status.busy": "2022-06-30T12:23:50.251179Z",
     "iopub.status.idle": "2022-06-30T12:23:50.257118Z",
     "shell.execute_reply": "2022-06-30T12:23:50.256693Z",
     "shell.execute_reply.started": "2022-06-30T12:02:17.605212Z"
    },
    "papermill": {
     "duration": 0.037258,
     "end_time": "2022-06-30T12:23:50.257236",
     "exception": false,
     "start_time": "2022-06-30T12:23:50.219978",
     "status": "completed"
    },
    "tags": []
   },
   "outputs": [],
   "source": [
    "from tqdm import tqdm \n",
    "\n",
    "def predict(model, text):\n",
    "    \n",
    "    preds = []\n",
    "    \n",
    "    for i in tqdm(range(len(text))):\n",
    "        tokenized = tokenizer(text[i:i+1], return_tensors=\"pt\", truncation=True, max_length=512).to(\"cuda\")\n",
    "        pred = model(**tokenized)\n",
    "        preds.append(pred.logits.argmax(-1).item())\n",
    "\n",
    "    return preds"
   ]
  },
  {
   "cell_type": "code",
   "execution_count": null,
   "id": "4bc654a2",
   "metadata": {
    "papermill": {
     "duration": 0.02889,
     "end_time": "2022-06-30T12:23:50.316008",
     "exception": false,
     "start_time": "2022-06-30T12:23:50.287118",
     "status": "completed"
    },
    "tags": []
   },
   "outputs": [],
   "source": []
  },
  {
   "cell_type": "code",
   "execution_count": 24,
   "id": "5fe55da5",
   "metadata": {
    "execution": {
     "iopub.execute_input": "2022-06-30T12:23:50.380406Z",
     "iopub.status.busy": "2022-06-30T12:23:50.379609Z",
     "iopub.status.idle": "2022-06-30T12:25:36.514322Z",
     "shell.execute_reply": "2022-06-30T12:25:36.513808Z",
     "shell.execute_reply.started": "2022-06-30T12:02:17.633040Z"
    },
    "papermill": {
     "duration": 106.169206,
     "end_time": "2022-06-30T12:25:36.514477",
     "exception": false,
     "start_time": "2022-06-30T12:23:50.345271",
     "status": "completed"
    },
    "tags": []
   },
   "outputs": [
    {
     "name": "stdout",
     "output_type": "stream",
     "text": [
      "{}\n",
      "{}\n"
     ]
    },
    {
     "data": {
      "application/vnd.jupyter.widget-view+json": {
       "model_id": "e8f1a9a800b840e88db9050b655ad73c",
       "version_major": 2,
       "version_minor": 0
      },
      "text/plain": [
       "Downloading:   0%|          | 0.00/445M [00:00<?, ?B/s]"
      ]
     },
     "metadata": {},
     "output_type": "display_data"
    },
    {
     "name": "stderr",
     "output_type": "stream",
     "text": [
      "Some weights of the model checkpoint at dbmdz/bert-base-french-europeana-cased were not used when initializing BertForSequenceClassification: ['cls.predictions.bias', 'cls.predictions.transform.dense.weight', 'cls.predictions.transform.dense.bias', 'cls.predictions.transform.LayerNorm.weight', 'cls.predictions.transform.LayerNorm.bias', 'cls.predictions.decoder.weight', 'cls.predictions.decoder.bias', 'cls.seq_relationship.weight', 'cls.seq_relationship.bias']\n",
      "- This IS expected if you are initializing BertForSequenceClassification from the checkpoint of a model trained on another task or with another architecture (e.g. initializing a BertForSequenceClassification model from a BertForPreTraining model).\n",
      "- This IS NOT expected if you are initializing BertForSequenceClassification from the checkpoint of a model that you expect to be exactly identical (initializing a BertForSequenceClassification model from a BertForSequenceClassification model).\n",
      "Some weights of BertForSequenceClassification were not initialized from the model checkpoint at dbmdz/bert-base-french-europeana-cased and are newly initialized: ['classifier.weight', 'classifier.bias']\n",
      "You should probably TRAIN this model on a down-stream task to be able to use it for predictions and inference.\n",
      "Using the `WAND_DISABLED` environment variable is deprecated and will be removed in v5. Use the --report_to flag to control the integrations used for logging result (for instance --report_to none).\n"
     ]
    },
    {
     "data": {
      "text/html": [
       "\n",
       "    <div>\n",
       "        <style>\n",
       "            /* Turns off some styling */\n",
       "            progress {\n",
       "                /* gets rid of default border in Firefox and Opera. */\n",
       "                border: none;\n",
       "                /* Needs to be in here for Safari polyfill so background images work as expected. */\n",
       "                background-size: auto;\n",
       "            }\n",
       "        </style>\n",
       "      \n",
       "      <progress value='28' max='28' style='width:300px; height:20px; vertical-align: middle;'></progress>\n",
       "      [28/28 01:23, Epoch 7/7]\n",
       "    </div>\n",
       "    <table border=\"1\" class=\"dataframe\">\n",
       "  <thead>\n",
       "    <tr style=\"text-align: left;\">\n",
       "      <th>Epoch</th>\n",
       "      <th>Training Loss</th>\n",
       "      <th>Validation Loss</th>\n",
       "      <th>Accuracy</th>\n",
       "      <th>Runtime</th>\n",
       "      <th>Samples Per Second</th>\n",
       "    </tr>\n",
       "  </thead>\n",
       "  <tbody>\n",
       "    <tr>\n",
       "      <td>1</td>\n",
       "      <td>No log</td>\n",
       "      <td>1.725869</td>\n",
       "      <td>0.233216</td>\n",
       "      <td>5.622900</td>\n",
       "      <td>50.330000</td>\n",
       "    </tr>\n",
       "    <tr>\n",
       "      <td>2</td>\n",
       "      <td>No log</td>\n",
       "      <td>1.521377</td>\n",
       "      <td>0.515901</td>\n",
       "      <td>5.635700</td>\n",
       "      <td>50.215000</td>\n",
       "    </tr>\n",
       "    <tr>\n",
       "      <td>3</td>\n",
       "      <td>No log</td>\n",
       "      <td>1.405509</td>\n",
       "      <td>0.508834</td>\n",
       "      <td>5.570900</td>\n",
       "      <td>50.800000</td>\n",
       "    </tr>\n",
       "    <tr>\n",
       "      <td>4</td>\n",
       "      <td>No log</td>\n",
       "      <td>1.355008</td>\n",
       "      <td>0.508834</td>\n",
       "      <td>5.669600</td>\n",
       "      <td>49.916000</td>\n",
       "    </tr>\n",
       "    <tr>\n",
       "      <td>5</td>\n",
       "      <td>No log</td>\n",
       "      <td>1.329312</td>\n",
       "      <td>0.508834</td>\n",
       "      <td>5.634100</td>\n",
       "      <td>50.230000</td>\n",
       "    </tr>\n",
       "    <tr>\n",
       "      <td>6</td>\n",
       "      <td>No log</td>\n",
       "      <td>1.319142</td>\n",
       "      <td>0.508834</td>\n",
       "      <td>5.567700</td>\n",
       "      <td>50.829000</td>\n",
       "    </tr>\n",
       "    <tr>\n",
       "      <td>7</td>\n",
       "      <td>No log</td>\n",
       "      <td>1.318055</td>\n",
       "      <td>0.508834</td>\n",
       "      <td>5.768400</td>\n",
       "      <td>49.061000</td>\n",
       "    </tr>\n",
       "  </tbody>\n",
       "</table><p>"
      ],
      "text/plain": [
       "<IPython.core.display.HTML object>"
      ]
     },
     "metadata": {},
     "output_type": "display_data"
    }
   ],
   "source": [
    "train_set = CEFRDataset(train_set_df[\"text\"], train_set_df[\"label\"])\n",
    "valid_set = CEFRDataset(valid_set_df[\"text\"], valid_set_df[\"label\"])\n",
    "\n",
    "\n",
    "trainer_second = train(train_set, valid_set, epochs=epochs, warmup_size=0.2, lr=lr, batch_size=batch_size)\n",
    "model = trainer_second.model"
   ]
  },
  {
   "cell_type": "code",
   "execution_count": 25,
   "id": "048a3b27",
   "metadata": {
    "execution": {
     "iopub.execute_input": "2022-06-30T12:25:37.214942Z",
     "iopub.status.busy": "2022-06-30T12:25:37.213878Z",
     "iopub.status.idle": "2022-06-30T12:25:40.385613Z",
     "shell.execute_reply": "2022-06-30T12:25:40.386041Z",
     "shell.execute_reply.started": "2022-06-30T12:08:04.650679Z"
    },
    "papermill": {
     "duration": 3.649593,
     "end_time": "2022-06-30T12:25:40.386223",
     "exception": false,
     "start_time": "2022-06-30T12:25:36.736630",
     "status": "completed"
    },
    "tags": []
   },
   "outputs": [
    {
     "name": "stderr",
     "output_type": "stream",
     "text": [
      "100%|██████████| 283/283 [00:03<00:00, 89.73it/s]\n"
     ]
    }
   ],
   "source": [
    "valid_set_df[\"preds\"] = train_set.encoder.inverse_transform(predict(model, valid_set_df.text.tolist()))\n",
    "valid_set_df.columns = [\"text\", \"cefr\", \"preds\"] "
   ]
  },
  {
   "cell_type": "code",
   "execution_count": 26,
   "id": "e8b7f24a",
   "metadata": {
    "execution": {
     "iopub.execute_input": "2022-06-30T12:25:41.191489Z",
     "iopub.status.busy": "2022-06-30T12:25:41.190856Z",
     "iopub.status.idle": "2022-06-30T12:25:42.487721Z",
     "shell.execute_reply": "2022-06-30T12:25:42.487294Z",
     "shell.execute_reply.started": "2022-06-30T12:08:06.617922Z"
    },
    "papermill": {
     "duration": 2.060022,
     "end_time": "2022-06-30T12:25:42.487842",
     "exception": false,
     "start_time": "2022-06-30T12:25:40.427820",
     "status": "completed"
    },
    "tags": []
   },
   "outputs": [
    {
     "name": "stderr",
     "output_type": "stream",
     "text": [
      "100%|██████████| 111/111 [00:01<00:00, 87.19it/s]\n"
     ]
    }
   ],
   "source": [
    "lingua = pd.read_csv(\"../input/lingua/fr_lingua.csv\")\n",
    "lingua[\"preds\"] = train_set.encoder.inverse_transform(predict(model, lingua.text.tolist()))"
   ]
  },
  {
   "cell_type": "code",
   "execution_count": 27,
   "id": "3aab9dbd",
   "metadata": {
    "execution": {
     "iopub.execute_input": "2022-06-30T12:25:42.579984Z",
     "iopub.status.busy": "2022-06-30T12:25:42.579411Z",
     "iopub.status.idle": "2022-06-30T12:25:42.582408Z",
     "shell.execute_reply": "2022-06-30T12:25:42.581914Z",
     "shell.execute_reply.started": "2022-06-30T12:08:10.755708Z"
    },
    "papermill": {
     "duration": 0.05088,
     "end_time": "2022-06-30T12:25:42.582520",
     "exception": false,
     "start_time": "2022-06-30T12:25:42.531640",
     "status": "completed"
    },
    "tags": []
   },
   "outputs": [],
   "source": [
    "lingua[\"e_cefr\"] = le.transform(lingua.cefr)"
   ]
  },
  {
   "cell_type": "code",
   "execution_count": 28,
   "id": "c0ced14f",
   "metadata": {
    "execution": {
     "iopub.execute_input": "2022-06-30T12:25:42.672191Z",
     "iopub.status.busy": "2022-06-30T12:25:42.671445Z",
     "iopub.status.idle": "2022-06-30T12:25:42.681310Z",
     "shell.execute_reply": "2022-06-30T12:25:42.680818Z",
     "shell.execute_reply.started": "2022-06-30T12:08:10.766004Z"
    },
    "papermill": {
     "duration": 0.056206,
     "end_time": "2022-06-30T12:25:42.681424",
     "exception": false,
     "start_time": "2022-06-30T12:25:42.625218",
     "status": "completed"
    },
    "tags": []
   },
   "outputs": [
    {
     "data": {
      "text/html": [
       "<div>\n",
       "<style scoped>\n",
       "    .dataframe tbody tr th:only-of-type {\n",
       "        vertical-align: middle;\n",
       "    }\n",
       "\n",
       "    .dataframe tbody tr th {\n",
       "        vertical-align: top;\n",
       "    }\n",
       "\n",
       "    .dataframe thead th {\n",
       "        text-align: right;\n",
       "    }\n",
       "</style>\n",
       "<table border=\"1\" class=\"dataframe\">\n",
       "  <thead>\n",
       "    <tr style=\"text-align: right;\">\n",
       "      <th></th>\n",
       "      <th>text</th>\n",
       "      <th>cefr</th>\n",
       "      <th>preds</th>\n",
       "      <th>e_cefr</th>\n",
       "    </tr>\n",
       "  </thead>\n",
       "  <tbody>\n",
       "    <tr>\n",
       "      <th>0</th>\n",
       "      <td>Je m’appelle Jessica. Je suis une fille, je su...</td>\n",
       "      <td>A1</td>\n",
       "      <td>2</td>\n",
       "      <td>0</td>\n",
       "    </tr>\n",
       "    <tr>\n",
       "      <th>1</th>\n",
       "      <td>Je m'appelle Angélica Summer, j'ai 12 ans et j...</td>\n",
       "      <td>A1</td>\n",
       "      <td>2</td>\n",
       "      <td>0</td>\n",
       "    </tr>\n",
       "    <tr>\n",
       "      <th>2</th>\n",
       "      <td>Franck : Bonjour Nicolas ! Nicolas : Salut Fra...</td>\n",
       "      <td>A1</td>\n",
       "      <td>2</td>\n",
       "      <td>0</td>\n",
       "    </tr>\n",
       "    <tr>\n",
       "      <th>3</th>\n",
       "      <td>Pierre est un jeune garçon de 14 ans. Il vit à...</td>\n",
       "      <td>A1</td>\n",
       "      <td>2</td>\n",
       "      <td>0</td>\n",
       "    </tr>\n",
       "    <tr>\n",
       "      <th>4</th>\n",
       "      <td>Le jour de la rentrée au collège, Pierre fait ...</td>\n",
       "      <td>A1</td>\n",
       "      <td>2</td>\n",
       "      <td>0</td>\n",
       "    </tr>\n",
       "  </tbody>\n",
       "</table>\n",
       "</div>"
      ],
      "text/plain": [
       "                                                text cefr  preds  e_cefr\n",
       "0  Je m’appelle Jessica. Je suis une fille, je su...   A1      2       0\n",
       "1  Je m'appelle Angélica Summer, j'ai 12 ans et j...   A1      2       0\n",
       "2  Franck : Bonjour Nicolas ! Nicolas : Salut Fra...   A1      2       0\n",
       "3  Pierre est un jeune garçon de 14 ans. Il vit à...   A1      2       0\n",
       "4  Le jour de la rentrée au collège, Pierre fait ...   A1      2       0"
      ]
     },
     "execution_count": 28,
     "metadata": {},
     "output_type": "execute_result"
    }
   ],
   "source": [
    "lingua.head()"
   ]
  },
  {
   "cell_type": "code",
   "execution_count": 29,
   "id": "827a0dd2",
   "metadata": {
    "execution": {
     "iopub.execute_input": "2022-06-30T12:25:42.774314Z",
     "iopub.status.busy": "2022-06-30T12:25:42.773632Z",
     "iopub.status.idle": "2022-06-30T12:25:42.776300Z",
     "shell.execute_reply": "2022-06-30T12:25:42.776713Z",
     "shell.execute_reply.started": "2022-06-30T12:08:10.797732Z"
    },
    "papermill": {
     "duration": 0.051683,
     "end_time": "2022-06-30T12:25:42.776840",
     "exception": false,
     "start_time": "2022-06-30T12:25:42.725157",
     "status": "completed"
    },
    "tags": []
   },
   "outputs": [
    {
     "data": {
      "text/plain": [
       "1"
      ]
     },
     "execution_count": 29,
     "metadata": {},
     "output_type": "execute_result"
    }
   ],
   "source": [
    "lingua.preds.nunique()"
   ]
  },
  {
   "cell_type": "code",
   "execution_count": 30,
   "id": "18bceb40",
   "metadata": {
    "execution": {
     "iopub.execute_input": "2022-06-30T12:25:42.871101Z",
     "iopub.status.busy": "2022-06-30T12:25:42.870391Z",
     "iopub.status.idle": "2022-06-30T12:25:42.873019Z",
     "shell.execute_reply": "2022-06-30T12:25:42.873555Z",
     "shell.execute_reply.started": "2022-06-30T12:08:10.809798Z"
    },
    "papermill": {
     "duration": 0.053122,
     "end_time": "2022-06-30T12:25:42.873698",
     "exception": false,
     "start_time": "2022-06-30T12:25:42.820576",
     "status": "completed"
    },
    "tags": []
   },
   "outputs": [
    {
     "data": {
      "text/plain": [
       "B1    60\n",
       "A2    26\n",
       "A1    13\n",
       "B2    12\n",
       "Name: cefr, dtype: int64"
      ]
     },
     "execution_count": 30,
     "metadata": {},
     "output_type": "execute_result"
    }
   ],
   "source": [
    "lingua.cefr.value_counts()"
   ]
  },
  {
   "cell_type": "code",
   "execution_count": 31,
   "id": "994e84a0",
   "metadata": {
    "execution": {
     "iopub.execute_input": "2022-06-30T12:25:42.967324Z",
     "iopub.status.busy": "2022-06-30T12:25:42.966687Z",
     "iopub.status.idle": "2022-06-30T12:25:42.969331Z",
     "shell.execute_reply": "2022-06-30T12:25:42.969746Z",
     "shell.execute_reply.started": "2022-06-30T12:08:10.828085Z"
    },
    "papermill": {
     "duration": 0.052543,
     "end_time": "2022-06-30T12:25:42.969876",
     "exception": false,
     "start_time": "2022-06-30T12:25:42.917333",
     "status": "completed"
    },
    "tags": []
   },
   "outputs": [
    {
     "data": {
      "text/plain": [
       "4"
      ]
     },
     "execution_count": 31,
     "metadata": {},
     "output_type": "execute_result"
    }
   ],
   "source": [
    "lingua.cefr.nunique()"
   ]
  },
  {
   "cell_type": "code",
   "execution_count": 32,
   "id": "5f37f8db",
   "metadata": {
    "execution": {
     "iopub.execute_input": "2022-06-30T12:25:43.202323Z",
     "iopub.status.busy": "2022-06-30T12:25:43.201557Z",
     "iopub.status.idle": "2022-06-30T12:25:43.204359Z",
     "shell.execute_reply": "2022-06-30T12:25:43.204828Z",
     "shell.execute_reply.started": "2022-06-30T12:08:10.840870Z"
    },
    "papermill": {
     "duration": 0.116584,
     "end_time": "2022-06-30T12:25:43.204968",
     "exception": false,
     "start_time": "2022-06-30T12:25:43.088384",
     "status": "completed"
    },
    "tags": []
   },
   "outputs": [
    {
     "data": {
      "text/plain": [
       "2    111\n",
       "Name: preds, dtype: int64"
      ]
     },
     "execution_count": 32,
     "metadata": {},
     "output_type": "execute_result"
    }
   ],
   "source": [
    "lingua.preds.value_counts()"
   ]
  },
  {
   "cell_type": "code",
   "execution_count": 33,
   "id": "3bbb4d1a",
   "metadata": {
    "execution": {
     "iopub.execute_input": "2022-06-30T12:25:43.301090Z",
     "iopub.status.busy": "2022-06-30T12:25:43.300364Z",
     "iopub.status.idle": "2022-06-30T12:25:43.302878Z",
     "shell.execute_reply": "2022-06-30T12:25:43.302473Z",
     "shell.execute_reply.started": "2022-06-30T12:08:10.861011Z"
    },
    "papermill": {
     "duration": 0.051567,
     "end_time": "2022-06-30T12:25:43.302985",
     "exception": false,
     "start_time": "2022-06-30T12:25:43.251418",
     "status": "completed"
    },
    "tags": []
   },
   "outputs": [],
   "source": [
    "def compute_average_distance(df, col_name=\"cefr\"):\n",
    "    \n",
    "    labels = [\"A1\", \"A2\", \"B1\", \"B2\", \"C1\", \"C2\"]\n",
    "    return (df[col_name].apply(lambda x: labels.index(x)) - df.preds.apply(lambda x: labels.index(x))).abs().mean()\n"
   ]
  },
  {
   "cell_type": "code",
   "execution_count": 34,
   "id": "0e9227b4",
   "metadata": {
    "execution": {
     "iopub.execute_input": "2022-06-30T12:25:43.397261Z",
     "iopub.status.busy": "2022-06-30T12:25:43.396560Z",
     "iopub.status.idle": "2022-06-30T12:25:43.398698Z",
     "shell.execute_reply": "2022-06-30T12:25:43.399091Z",
     "shell.execute_reply.started": "2022-06-30T12:08:10.875634Z"
    },
    "papermill": {
     "duration": 0.051829,
     "end_time": "2022-06-30T12:25:43.399230",
     "exception": false,
     "start_time": "2022-06-30T12:25:43.347401",
     "status": "completed"
    },
    "tags": []
   },
   "outputs": [],
   "source": [
    "lingua[\"preds\"] = le.inverse_transform(lingua.preds)"
   ]
  },
  {
   "cell_type": "code",
   "execution_count": 35,
   "id": "4490dc36",
   "metadata": {
    "execution": {
     "iopub.execute_input": "2022-06-30T12:25:43.493679Z",
     "iopub.status.busy": "2022-06-30T12:25:43.492868Z",
     "iopub.status.idle": "2022-06-30T12:25:43.503428Z",
     "shell.execute_reply": "2022-06-30T12:25:43.502990Z",
     "shell.execute_reply.started": "2022-06-30T12:08:10.890676Z"
    },
    "papermill": {
     "duration": 0.059179,
     "end_time": "2022-06-30T12:25:43.503540",
     "exception": false,
     "start_time": "2022-06-30T12:25:43.444361",
     "status": "completed"
    },
    "tags": []
   },
   "outputs": [
    {
     "name": "stdout",
     "output_type": "stream",
     "text": [
      "Distance: \n",
      "0.5765765765765766\n",
      "Lingua accuracy: 0.5405405405405406\n"
     ]
    }
   ],
   "source": [
    "print(\"Distance: \")\n",
    "print(compute_average_distance(lingua, \"cefr\"))\n",
    "\n",
    "print(f\"Lingua accuracy: {(lingua['preds'] == lingua['cefr']).mean()}\")"
   ]
  },
  {
   "cell_type": "code",
   "execution_count": null,
   "id": "ed2ba819",
   "metadata": {
    "papermill": {
     "duration": 0.044366,
     "end_time": "2022-06-30T12:25:43.593209",
     "exception": false,
     "start_time": "2022-06-30T12:25:43.548843",
     "status": "completed"
    },
    "tags": []
   },
   "outputs": [],
   "source": []
  },
  {
   "cell_type": "code",
   "execution_count": null,
   "id": "6ab74fe1",
   "metadata": {
    "papermill": {
     "duration": 0.044073,
     "end_time": "2022-06-30T12:25:43.683170",
     "exception": false,
     "start_time": "2022-06-30T12:25:43.639097",
     "status": "completed"
    },
    "tags": []
   },
   "outputs": [],
   "source": []
  },
  {
   "cell_type": "code",
   "execution_count": null,
   "id": "d2fceb73",
   "metadata": {
    "papermill": {
     "duration": 0.044853,
     "end_time": "2022-06-30T12:25:43.773361",
     "exception": false,
     "start_time": "2022-06-30T12:25:43.728508",
     "status": "completed"
    },
    "tags": []
   },
   "outputs": [],
   "source": []
  }
 ],
 "metadata": {
  "kernelspec": {
   "display_name": "Python 3",
   "language": "python",
   "name": "python3"
  },
  "language_info": {
   "codemirror_mode": {
    "name": "ipython",
    "version": 3
   },
   "file_extension": ".py",
   "mimetype": "text/x-python",
   "name": "python",
   "nbconvert_exporter": "python",
   "pygments_lexer": "ipython3",
   "version": "3.7.10"
  },
  "papermill": {
   "default_parameters": {},
   "duration": 136.656151,
   "end_time": "2022-06-30T12:25:47.224592",
   "environment_variables": {},
   "exception": null,
   "input_path": "__notebook__.ipynb",
   "output_path": "__notebook__.ipynb",
   "parameters": {},
   "start_time": "2022-06-30T12:23:30.568441",
   "version": "2.3.3"
  },
  "widgets": {
   "application/vnd.jupyter.widget-state+json": {
    "state": {
     "01b33faa78dc4174b7892a865861a3ef": {
      "model_module": "@jupyter-widgets/controls",
      "model_module_version": "1.5.0",
      "model_name": "HBoxModel",
      "state": {
       "_dom_classes": [],
       "_model_module": "@jupyter-widgets/controls",
       "_model_module_version": "1.5.0",
       "_model_name": "HBoxModel",
       "_view_count": null,
       "_view_module": "@jupyter-widgets/controls",
       "_view_module_version": "1.5.0",
       "_view_name": "HBoxView",
       "box_style": "",
       "children": [
        "IPY_MODEL_1b283249be0f486abb05a7a6ef9dc724",
        "IPY_MODEL_8c764d4c88cb4263825807fd39765209",
        "IPY_MODEL_eb2abebca99e4aba8d167b6173ebcdcc"
       ],
       "layout": "IPY_MODEL_7db9d2e2a4a84286b49a0a268123faab"
      }
     },
     "02102c1301114a18bb6a01182c0229d3": {
      "model_module": "@jupyter-widgets/controls",
      "model_module_version": "1.5.0",
      "model_name": "HTMLModel",
      "state": {
       "_dom_classes": [],
       "_model_module": "@jupyter-widgets/controls",
       "_model_module_version": "1.5.0",
       "_model_name": "HTMLModel",
       "_view_count": null,
       "_view_module": "@jupyter-widgets/controls",
       "_view_module_version": "1.5.0",
       "_view_name": "HTMLView",
       "description": "",
       "description_tooltip": null,
       "layout": "IPY_MODEL_812c96867ac6405db39fc045fcbfaa50",
       "placeholder": "​",
       "style": "IPY_MODEL_7c5ddef222b04f9e8e5e833985abe6fb",
       "value": " 420/420 [00:00&lt;00:00, 15.6kB/s]"
      }
     },
     "04f656e869b5485e8f2289ce9bb9af26": {
      "model_module": "@jupyter-widgets/controls",
      "model_module_version": "1.5.0",
      "model_name": "ProgressStyleModel",
      "state": {
       "_model_module": "@jupyter-widgets/controls",
       "_model_module_version": "1.5.0",
       "_model_name": "ProgressStyleModel",
       "_view_count": null,
       "_view_module": "@jupyter-widgets/base",
       "_view_module_version": "1.2.0",
       "_view_name": "StyleView",
       "bar_color": null,
       "description_width": ""
      }
     },
     "0ece736d97f144fab5f8aa7241219069": {
      "model_module": "@jupyter-widgets/base",
      "model_module_version": "1.2.0",
      "model_name": "LayoutModel",
      "state": {
       "_model_module": "@jupyter-widgets/base",
       "_model_module_version": "1.2.0",
       "_model_name": "LayoutModel",
       "_view_count": null,
       "_view_module": "@jupyter-widgets/base",
       "_view_module_version": "1.2.0",
       "_view_name": "LayoutView",
       "align_content": null,
       "align_items": null,
       "align_self": null,
       "border": null,
       "bottom": null,
       "display": null,
       "flex": null,
       "flex_flow": null,
       "grid_area": null,
       "grid_auto_columns": null,
       "grid_auto_flow": null,
       "grid_auto_rows": null,
       "grid_column": null,
       "grid_gap": null,
       "grid_row": null,
       "grid_template_areas": null,
       "grid_template_columns": null,
       "grid_template_rows": null,
       "height": null,
       "justify_content": null,
       "justify_items": null,
       "left": null,
       "margin": null,
       "max_height": null,
       "max_width": null,
       "min_height": null,
       "min_width": null,
       "object_fit": null,
       "object_position": null,
       "order": null,
       "overflow": null,
       "overflow_x": null,
       "overflow_y": null,
       "padding": null,
       "right": null,
       "top": null,
       "visibility": null,
       "width": null
      }
     },
     "1377f3bb52f14e8e93fadfdc4316c21f": {
      "model_module": "@jupyter-widgets/controls",
      "model_module_version": "1.5.0",
      "model_name": "HBoxModel",
      "state": {
       "_dom_classes": [],
       "_model_module": "@jupyter-widgets/controls",
       "_model_module_version": "1.5.0",
       "_model_name": "HBoxModel",
       "_view_count": null,
       "_view_module": "@jupyter-widgets/controls",
       "_view_module_version": "1.5.0",
       "_view_name": "HBoxView",
       "box_style": "",
       "children": [
        "IPY_MODEL_3b59c9fe90074bc1868d38bf5c8d0771",
        "IPY_MODEL_b7afb584ff33485da6bb0c05106f689f",
        "IPY_MODEL_377a798183c14ce3a6b053991a24dabe"
       ],
       "layout": "IPY_MODEL_45e705d32c8a4c08adf97d83c8fde71d"
      }
     },
     "1b283249be0f486abb05a7a6ef9dc724": {
      "model_module": "@jupyter-widgets/controls",
      "model_module_version": "1.5.0",
      "model_name": "HTMLModel",
      "state": {
       "_dom_classes": [],
       "_model_module": "@jupyter-widgets/controls",
       "_model_module_version": "1.5.0",
       "_model_name": "HTMLModel",
       "_view_count": null,
       "_view_module": "@jupyter-widgets/controls",
       "_view_module_version": "1.5.0",
       "_view_name": "HTMLView",
       "description": "",
       "description_tooltip": null,
       "layout": "IPY_MODEL_24803802f5a54bd295ab12629fc2c1d2",
       "placeholder": "​",
       "style": "IPY_MODEL_acf5517e902a4f088fbac5ff11c69a5b",
       "value": "Downloading: 100%"
      }
     },
     "24803802f5a54bd295ab12629fc2c1d2": {
      "model_module": "@jupyter-widgets/base",
      "model_module_version": "1.2.0",
      "model_name": "LayoutModel",
      "state": {
       "_model_module": "@jupyter-widgets/base",
       "_model_module_version": "1.2.0",
       "_model_name": "LayoutModel",
       "_view_count": null,
       "_view_module": "@jupyter-widgets/base",
       "_view_module_version": "1.2.0",
       "_view_name": "LayoutView",
       "align_content": null,
       "align_items": null,
       "align_self": null,
       "border": null,
       "bottom": null,
       "display": null,
       "flex": null,
       "flex_flow": null,
       "grid_area": null,
       "grid_auto_columns": null,
       "grid_auto_flow": null,
       "grid_auto_rows": null,
       "grid_column": null,
       "grid_gap": null,
       "grid_row": null,
       "grid_template_areas": null,
       "grid_template_columns": null,
       "grid_template_rows": null,
       "height": null,
       "justify_content": null,
       "justify_items": null,
       "left": null,
       "margin": null,
       "max_height": null,
       "max_width": null,
       "min_height": null,
       "min_width": null,
       "object_fit": null,
       "object_position": null,
       "order": null,
       "overflow": null,
       "overflow_x": null,
       "overflow_y": null,
       "padding": null,
       "right": null,
       "top": null,
       "visibility": null,
       "width": null
      }
     },
     "2535b16086fe45faa7daeb82074295cd": {
      "model_module": "@jupyter-widgets/base",
      "model_module_version": "1.2.0",
      "model_name": "LayoutModel",
      "state": {
       "_model_module": "@jupyter-widgets/base",
       "_model_module_version": "1.2.0",
       "_model_name": "LayoutModel",
       "_view_count": null,
       "_view_module": "@jupyter-widgets/base",
       "_view_module_version": "1.2.0",
       "_view_name": "LayoutView",
       "align_content": null,
       "align_items": null,
       "align_self": null,
       "border": null,
       "bottom": null,
       "display": null,
       "flex": null,
       "flex_flow": null,
       "grid_area": null,
       "grid_auto_columns": null,
       "grid_auto_flow": null,
       "grid_auto_rows": null,
       "grid_column": null,
       "grid_gap": null,
       "grid_row": null,
       "grid_template_areas": null,
       "grid_template_columns": null,
       "grid_template_rows": null,
       "height": null,
       "justify_content": null,
       "justify_items": null,
       "left": null,
       "margin": null,
       "max_height": null,
       "max_width": null,
       "min_height": null,
       "min_width": null,
       "object_fit": null,
       "object_position": null,
       "order": null,
       "overflow": null,
       "overflow_x": null,
       "overflow_y": null,
       "padding": null,
       "right": null,
       "top": null,
       "visibility": null,
       "width": null
      }
     },
     "377a798183c14ce3a6b053991a24dabe": {
      "model_module": "@jupyter-widgets/controls",
      "model_module_version": "1.5.0",
      "model_name": "HTMLModel",
      "state": {
       "_dom_classes": [],
       "_model_module": "@jupyter-widgets/controls",
       "_model_module_version": "1.5.0",
       "_model_name": "HTMLModel",
       "_view_count": null,
       "_view_module": "@jupyter-widgets/controls",
       "_view_module_version": "1.5.0",
       "_view_name": "HTMLView",
       "description": "",
       "description_tooltip": null,
       "layout": "IPY_MODEL_c52f11691b78451fab29ed3ec575b7ba",
       "placeholder": "​",
       "style": "IPY_MODEL_41731cc0ba3a4fe698cb93b73b0abad6",
       "value": " 227k/227k [00:00&lt;00:00, 3.00MB/s]"
      }
     },
     "37f2e97a983e44f68419d3f285147e51": {
      "model_module": "@jupyter-widgets/base",
      "model_module_version": "1.2.0",
      "model_name": "LayoutModel",
      "state": {
       "_model_module": "@jupyter-widgets/base",
       "_model_module_version": "1.2.0",
       "_model_name": "LayoutModel",
       "_view_count": null,
       "_view_module": "@jupyter-widgets/base",
       "_view_module_version": "1.2.0",
       "_view_name": "LayoutView",
       "align_content": null,
       "align_items": null,
       "align_self": null,
       "border": null,
       "bottom": null,
       "display": null,
       "flex": null,
       "flex_flow": null,
       "grid_area": null,
       "grid_auto_columns": null,
       "grid_auto_flow": null,
       "grid_auto_rows": null,
       "grid_column": null,
       "grid_gap": null,
       "grid_row": null,
       "grid_template_areas": null,
       "grid_template_columns": null,
       "grid_template_rows": null,
       "height": null,
       "justify_content": null,
       "justify_items": null,
       "left": null,
       "margin": null,
       "max_height": null,
       "max_width": null,
       "min_height": null,
       "min_width": null,
       "object_fit": null,
       "object_position": null,
       "order": null,
       "overflow": null,
       "overflow_x": null,
       "overflow_y": null,
       "padding": null,
       "right": null,
       "top": null,
       "visibility": null,
       "width": null
      }
     },
     "3b59c9fe90074bc1868d38bf5c8d0771": {
      "model_module": "@jupyter-widgets/controls",
      "model_module_version": "1.5.0",
      "model_name": "HTMLModel",
      "state": {
       "_dom_classes": [],
       "_model_module": "@jupyter-widgets/controls",
       "_model_module_version": "1.5.0",
       "_model_name": "HTMLModel",
       "_view_count": null,
       "_view_module": "@jupyter-widgets/controls",
       "_view_module_version": "1.5.0",
       "_view_name": "HTMLView",
       "description": "",
       "description_tooltip": null,
       "layout": "IPY_MODEL_ebd977327d87449a9da845e4daa1e800",
       "placeholder": "​",
       "style": "IPY_MODEL_e6604c9d3b6c4f43a13bef0676d96bf9",
       "value": "Downloading: 100%"
      }
     },
     "41731cc0ba3a4fe698cb93b73b0abad6": {
      "model_module": "@jupyter-widgets/controls",
      "model_module_version": "1.5.0",
      "model_name": "DescriptionStyleModel",
      "state": {
       "_model_module": "@jupyter-widgets/controls",
       "_model_module_version": "1.5.0",
       "_model_name": "DescriptionStyleModel",
       "_view_count": null,
       "_view_module": "@jupyter-widgets/base",
       "_view_module_version": "1.2.0",
       "_view_name": "StyleView",
       "description_width": ""
      }
     },
     "4544f22c17ac40c9aec49eaa2b9867be": {
      "model_module": "@jupyter-widgets/controls",
      "model_module_version": "1.5.0",
      "model_name": "FloatProgressModel",
      "state": {
       "_dom_classes": [],
       "_model_module": "@jupyter-widgets/controls",
       "_model_module_version": "1.5.0",
       "_model_name": "FloatProgressModel",
       "_view_count": null,
       "_view_module": "@jupyter-widgets/controls",
       "_view_module_version": "1.5.0",
       "_view_name": "ProgressView",
       "bar_style": "success",
       "description": "",
       "description_tooltip": null,
       "layout": "IPY_MODEL_4ca8c11fe8b543008ed6f52594f88b25",
       "max": 420.0,
       "min": 0.0,
       "orientation": "horizontal",
       "style": "IPY_MODEL_74a74b52f41a471585e1e81cf067b16e",
       "value": 420.0
      }
     },
     "45e705d32c8a4c08adf97d83c8fde71d": {
      "model_module": "@jupyter-widgets/base",
      "model_module_version": "1.2.0",
      "model_name": "LayoutModel",
      "state": {
       "_model_module": "@jupyter-widgets/base",
       "_model_module_version": "1.2.0",
       "_model_name": "LayoutModel",
       "_view_count": null,
       "_view_module": "@jupyter-widgets/base",
       "_view_module_version": "1.2.0",
       "_view_name": "LayoutView",
       "align_content": null,
       "align_items": null,
       "align_self": null,
       "border": null,
       "bottom": null,
       "display": null,
       "flex": null,
       "flex_flow": null,
       "grid_area": null,
       "grid_auto_columns": null,
       "grid_auto_flow": null,
       "grid_auto_rows": null,
       "grid_column": null,
       "grid_gap": null,
       "grid_row": null,
       "grid_template_areas": null,
       "grid_template_columns": null,
       "grid_template_rows": null,
       "height": null,
       "justify_content": null,
       "justify_items": null,
       "left": null,
       "margin": null,
       "max_height": null,
       "max_width": null,
       "min_height": null,
       "min_width": null,
       "object_fit": null,
       "object_position": null,
       "order": null,
       "overflow": null,
       "overflow_x": null,
       "overflow_y": null,
       "padding": null,
       "right": null,
       "top": null,
       "visibility": null,
       "width": null
      }
     },
     "4ca8c11fe8b543008ed6f52594f88b25": {
      "model_module": "@jupyter-widgets/base",
      "model_module_version": "1.2.0",
      "model_name": "LayoutModel",
      "state": {
       "_model_module": "@jupyter-widgets/base",
       "_model_module_version": "1.2.0",
       "_model_name": "LayoutModel",
       "_view_count": null,
       "_view_module": "@jupyter-widgets/base",
       "_view_module_version": "1.2.0",
       "_view_name": "LayoutView",
       "align_content": null,
       "align_items": null,
       "align_self": null,
       "border": null,
       "bottom": null,
       "display": null,
       "flex": null,
       "flex_flow": null,
       "grid_area": null,
       "grid_auto_columns": null,
       "grid_auto_flow": null,
       "grid_auto_rows": null,
       "grid_column": null,
       "grid_gap": null,
       "grid_row": null,
       "grid_template_areas": null,
       "grid_template_columns": null,
       "grid_template_rows": null,
       "height": null,
       "justify_content": null,
       "justify_items": null,
       "left": null,
       "margin": null,
       "max_height": null,
       "max_width": null,
       "min_height": null,
       "min_width": null,
       "object_fit": null,
       "object_position": null,
       "order": null,
       "overflow": null,
       "overflow_x": null,
       "overflow_y": null,
       "padding": null,
       "right": null,
       "top": null,
       "visibility": null,
       "width": null
      }
     },
     "4fa98a41fd184a27a17882a10f54411e": {
      "model_module": "@jupyter-widgets/controls",
      "model_module_version": "1.5.0",
      "model_name": "FloatProgressModel",
      "state": {
       "_dom_classes": [],
       "_model_module": "@jupyter-widgets/controls",
       "_model_module_version": "1.5.0",
       "_model_name": "FloatProgressModel",
       "_view_count": null,
       "_view_module": "@jupyter-widgets/controls",
       "_view_module_version": "1.5.0",
       "_view_name": "ProgressView",
       "bar_style": "success",
       "description": "",
       "description_tooltip": null,
       "layout": "IPY_MODEL_dd4f97a6e3f14901a7c7c31a477a9965",
       "max": 445018784.0,
       "min": 0.0,
       "orientation": "horizontal",
       "style": "IPY_MODEL_04f656e869b5485e8f2289ce9bb9af26",
       "value": 445018784.0
      }
     },
     "4fc8826a6bf848e98d60d075eccddb21": {
      "model_module": "@jupyter-widgets/controls",
      "model_module_version": "1.5.0",
      "model_name": "HTMLModel",
      "state": {
       "_dom_classes": [],
       "_model_module": "@jupyter-widgets/controls",
       "_model_module_version": "1.5.0",
       "_model_name": "HTMLModel",
       "_view_count": null,
       "_view_module": "@jupyter-widgets/controls",
       "_view_module_version": "1.5.0",
       "_view_name": "HTMLView",
       "description": "",
       "description_tooltip": null,
       "layout": "IPY_MODEL_d2600bb5ae8646ae960456da7a52b95d",
       "placeholder": "​",
       "style": "IPY_MODEL_fa925bbc3e0d461ab51113e4dee439ba",
       "value": "Downloading: 100%"
      }
     },
     "5ce61c72631b4e9c8d64dd46d8c71c6e": {
      "model_module": "@jupyter-widgets/base",
      "model_module_version": "1.2.0",
      "model_name": "LayoutModel",
      "state": {
       "_model_module": "@jupyter-widgets/base",
       "_model_module_version": "1.2.0",
       "_model_name": "LayoutModel",
       "_view_count": null,
       "_view_module": "@jupyter-widgets/base",
       "_view_module_version": "1.2.0",
       "_view_name": "LayoutView",
       "align_content": null,
       "align_items": null,
       "align_self": null,
       "border": null,
       "bottom": null,
       "display": null,
       "flex": null,
       "flex_flow": null,
       "grid_area": null,
       "grid_auto_columns": null,
       "grid_auto_flow": null,
       "grid_auto_rows": null,
       "grid_column": null,
       "grid_gap": null,
       "grid_row": null,
       "grid_template_areas": null,
       "grid_template_columns": null,
       "grid_template_rows": null,
       "height": null,
       "justify_content": null,
       "justify_items": null,
       "left": null,
       "margin": null,
       "max_height": null,
       "max_width": null,
       "min_height": null,
       "min_width": null,
       "object_fit": null,
       "object_position": null,
       "order": null,
       "overflow": null,
       "overflow_x": null,
       "overflow_y": null,
       "padding": null,
       "right": null,
       "top": null,
       "visibility": null,
       "width": null
      }
     },
     "69af1e8ebecc4003b375624fc14b7cf1": {
      "model_module": "@jupyter-widgets/controls",
      "model_module_version": "1.5.0",
      "model_name": "ProgressStyleModel",
      "state": {
       "_model_module": "@jupyter-widgets/controls",
       "_model_module_version": "1.5.0",
       "_model_name": "ProgressStyleModel",
       "_view_count": null,
       "_view_module": "@jupyter-widgets/base",
       "_view_module_version": "1.2.0",
       "_view_name": "StyleView",
       "bar_color": null,
       "description_width": ""
      }
     },
     "6d881badb4434927a128099b25637049": {
      "model_module": "@jupyter-widgets/controls",
      "model_module_version": "1.5.0",
      "model_name": "DescriptionStyleModel",
      "state": {
       "_model_module": "@jupyter-widgets/controls",
       "_model_module_version": "1.5.0",
       "_model_name": "DescriptionStyleModel",
       "_view_count": null,
       "_view_module": "@jupyter-widgets/base",
       "_view_module_version": "1.2.0",
       "_view_name": "StyleView",
       "description_width": ""
      }
     },
     "74a74b52f41a471585e1e81cf067b16e": {
      "model_module": "@jupyter-widgets/controls",
      "model_module_version": "1.5.0",
      "model_name": "ProgressStyleModel",
      "state": {
       "_model_module": "@jupyter-widgets/controls",
       "_model_module_version": "1.5.0",
       "_model_name": "ProgressStyleModel",
       "_view_count": null,
       "_view_module": "@jupyter-widgets/base",
       "_view_module_version": "1.2.0",
       "_view_name": "StyleView",
       "bar_color": null,
       "description_width": ""
      }
     },
     "7c5ddef222b04f9e8e5e833985abe6fb": {
      "model_module": "@jupyter-widgets/controls",
      "model_module_version": "1.5.0",
      "model_name": "DescriptionStyleModel",
      "state": {
       "_model_module": "@jupyter-widgets/controls",
       "_model_module_version": "1.5.0",
       "_model_name": "DescriptionStyleModel",
       "_view_count": null,
       "_view_module": "@jupyter-widgets/base",
       "_view_module_version": "1.2.0",
       "_view_name": "StyleView",
       "description_width": ""
      }
     },
     "7db9d2e2a4a84286b49a0a268123faab": {
      "model_module": "@jupyter-widgets/base",
      "model_module_version": "1.2.0",
      "model_name": "LayoutModel",
      "state": {
       "_model_module": "@jupyter-widgets/base",
       "_model_module_version": "1.2.0",
       "_model_name": "LayoutModel",
       "_view_count": null,
       "_view_module": "@jupyter-widgets/base",
       "_view_module_version": "1.2.0",
       "_view_name": "LayoutView",
       "align_content": null,
       "align_items": null,
       "align_self": null,
       "border": null,
       "bottom": null,
       "display": null,
       "flex": null,
       "flex_flow": null,
       "grid_area": null,
       "grid_auto_columns": null,
       "grid_auto_flow": null,
       "grid_auto_rows": null,
       "grid_column": null,
       "grid_gap": null,
       "grid_row": null,
       "grid_template_areas": null,
       "grid_template_columns": null,
       "grid_template_rows": null,
       "height": null,
       "justify_content": null,
       "justify_items": null,
       "left": null,
       "margin": null,
       "max_height": null,
       "max_width": null,
       "min_height": null,
       "min_width": null,
       "object_fit": null,
       "object_position": null,
       "order": null,
       "overflow": null,
       "overflow_x": null,
       "overflow_y": null,
       "padding": null,
       "right": null,
       "top": null,
       "visibility": null,
       "width": null
      }
     },
     "812c96867ac6405db39fc045fcbfaa50": {
      "model_module": "@jupyter-widgets/base",
      "model_module_version": "1.2.0",
      "model_name": "LayoutModel",
      "state": {
       "_model_module": "@jupyter-widgets/base",
       "_model_module_version": "1.2.0",
       "_model_name": "LayoutModel",
       "_view_count": null,
       "_view_module": "@jupyter-widgets/base",
       "_view_module_version": "1.2.0",
       "_view_name": "LayoutView",
       "align_content": null,
       "align_items": null,
       "align_self": null,
       "border": null,
       "bottom": null,
       "display": null,
       "flex": null,
       "flex_flow": null,
       "grid_area": null,
       "grid_auto_columns": null,
       "grid_auto_flow": null,
       "grid_auto_rows": null,
       "grid_column": null,
       "grid_gap": null,
       "grid_row": null,
       "grid_template_areas": null,
       "grid_template_columns": null,
       "grid_template_rows": null,
       "height": null,
       "justify_content": null,
       "justify_items": null,
       "left": null,
       "margin": null,
       "max_height": null,
       "max_width": null,
       "min_height": null,
       "min_width": null,
       "object_fit": null,
       "object_position": null,
       "order": null,
       "overflow": null,
       "overflow_x": null,
       "overflow_y": null,
       "padding": null,
       "right": null,
       "top": null,
       "visibility": null,
       "width": null
      }
     },
     "8c764d4c88cb4263825807fd39765209": {
      "model_module": "@jupyter-widgets/controls",
      "model_module_version": "1.5.0",
      "model_name": "FloatProgressModel",
      "state": {
       "_dom_classes": [],
       "_model_module": "@jupyter-widgets/controls",
       "_model_module_version": "1.5.0",
       "_model_name": "FloatProgressModel",
       "_view_count": null,
       "_view_module": "@jupyter-widgets/controls",
       "_view_module_version": "1.5.0",
       "_view_name": "ProgressView",
       "bar_style": "success",
       "description": "",
       "description_tooltip": null,
       "layout": "IPY_MODEL_c62015582eac4fbe801fe684ba052154",
       "max": 83.0,
       "min": 0.0,
       "orientation": "horizontal",
       "style": "IPY_MODEL_bf4a0d8144754fff94384625f20941d6",
       "value": 83.0
      }
     },
     "a48c30db499c4a27a789ce198ed03df3": {
      "model_module": "@jupyter-widgets/controls",
      "model_module_version": "1.5.0",
      "model_name": "HBoxModel",
      "state": {
       "_dom_classes": [],
       "_model_module": "@jupyter-widgets/controls",
       "_model_module_version": "1.5.0",
       "_model_name": "HBoxModel",
       "_view_count": null,
       "_view_module": "@jupyter-widgets/controls",
       "_view_module_version": "1.5.0",
       "_view_name": "HBoxView",
       "box_style": "",
       "children": [
        "IPY_MODEL_4fc8826a6bf848e98d60d075eccddb21",
        "IPY_MODEL_4544f22c17ac40c9aec49eaa2b9867be",
        "IPY_MODEL_02102c1301114a18bb6a01182c0229d3"
       ],
       "layout": "IPY_MODEL_2535b16086fe45faa7daeb82074295cd"
      }
     },
     "a8be8e51f47d46be9b959421daac91e0": {
      "model_module": "@jupyter-widgets/base",
      "model_module_version": "1.2.0",
      "model_name": "LayoutModel",
      "state": {
       "_model_module": "@jupyter-widgets/base",
       "_model_module_version": "1.2.0",
       "_model_name": "LayoutModel",
       "_view_count": null,
       "_view_module": "@jupyter-widgets/base",
       "_view_module_version": "1.2.0",
       "_view_name": "LayoutView",
       "align_content": null,
       "align_items": null,
       "align_self": null,
       "border": null,
       "bottom": null,
       "display": null,
       "flex": null,
       "flex_flow": null,
       "grid_area": null,
       "grid_auto_columns": null,
       "grid_auto_flow": null,
       "grid_auto_rows": null,
       "grid_column": null,
       "grid_gap": null,
       "grid_row": null,
       "grid_template_areas": null,
       "grid_template_columns": null,
       "grid_template_rows": null,
       "height": null,
       "justify_content": null,
       "justify_items": null,
       "left": null,
       "margin": null,
       "max_height": null,
       "max_width": null,
       "min_height": null,
       "min_width": null,
       "object_fit": null,
       "object_position": null,
       "order": null,
       "overflow": null,
       "overflow_x": null,
       "overflow_y": null,
       "padding": null,
       "right": null,
       "top": null,
       "visibility": null,
       "width": null
      }
     },
     "acf5517e902a4f088fbac5ff11c69a5b": {
      "model_module": "@jupyter-widgets/controls",
      "model_module_version": "1.5.0",
      "model_name": "DescriptionStyleModel",
      "state": {
       "_model_module": "@jupyter-widgets/controls",
       "_model_module_version": "1.5.0",
       "_model_name": "DescriptionStyleModel",
       "_view_count": null,
       "_view_module": "@jupyter-widgets/base",
       "_view_module_version": "1.2.0",
       "_view_name": "StyleView",
       "description_width": ""
      }
     },
     "b7afb584ff33485da6bb0c05106f689f": {
      "model_module": "@jupyter-widgets/controls",
      "model_module_version": "1.5.0",
      "model_name": "FloatProgressModel",
      "state": {
       "_dom_classes": [],
       "_model_module": "@jupyter-widgets/controls",
       "_model_module_version": "1.5.0",
       "_model_name": "FloatProgressModel",
       "_view_count": null,
       "_view_module": "@jupyter-widgets/controls",
       "_view_module_version": "1.5.0",
       "_view_name": "ProgressView",
       "bar_style": "success",
       "description": "",
       "description_tooltip": null,
       "layout": "IPY_MODEL_0ece736d97f144fab5f8aa7241219069",
       "max": 227141.0,
       "min": 0.0,
       "orientation": "horizontal",
       "style": "IPY_MODEL_69af1e8ebecc4003b375624fc14b7cf1",
       "value": 227141.0
      }
     },
     "bf4a0d8144754fff94384625f20941d6": {
      "model_module": "@jupyter-widgets/controls",
      "model_module_version": "1.5.0",
      "model_name": "ProgressStyleModel",
      "state": {
       "_model_module": "@jupyter-widgets/controls",
       "_model_module_version": "1.5.0",
       "_model_name": "ProgressStyleModel",
       "_view_count": null,
       "_view_module": "@jupyter-widgets/base",
       "_view_module_version": "1.2.0",
       "_view_name": "StyleView",
       "bar_color": null,
       "description_width": ""
      }
     },
     "c52f11691b78451fab29ed3ec575b7ba": {
      "model_module": "@jupyter-widgets/base",
      "model_module_version": "1.2.0",
      "model_name": "LayoutModel",
      "state": {
       "_model_module": "@jupyter-widgets/base",
       "_model_module_version": "1.2.0",
       "_model_name": "LayoutModel",
       "_view_count": null,
       "_view_module": "@jupyter-widgets/base",
       "_view_module_version": "1.2.0",
       "_view_name": "LayoutView",
       "align_content": null,
       "align_items": null,
       "align_self": null,
       "border": null,
       "bottom": null,
       "display": null,
       "flex": null,
       "flex_flow": null,
       "grid_area": null,
       "grid_auto_columns": null,
       "grid_auto_flow": null,
       "grid_auto_rows": null,
       "grid_column": null,
       "grid_gap": null,
       "grid_row": null,
       "grid_template_areas": null,
       "grid_template_columns": null,
       "grid_template_rows": null,
       "height": null,
       "justify_content": null,
       "justify_items": null,
       "left": null,
       "margin": null,
       "max_height": null,
       "max_width": null,
       "min_height": null,
       "min_width": null,
       "object_fit": null,
       "object_position": null,
       "order": null,
       "overflow": null,
       "overflow_x": null,
       "overflow_y": null,
       "padding": null,
       "right": null,
       "top": null,
       "visibility": null,
       "width": null
      }
     },
     "c62015582eac4fbe801fe684ba052154": {
      "model_module": "@jupyter-widgets/base",
      "model_module_version": "1.2.0",
      "model_name": "LayoutModel",
      "state": {
       "_model_module": "@jupyter-widgets/base",
       "_model_module_version": "1.2.0",
       "_model_name": "LayoutModel",
       "_view_count": null,
       "_view_module": "@jupyter-widgets/base",
       "_view_module_version": "1.2.0",
       "_view_name": "LayoutView",
       "align_content": null,
       "align_items": null,
       "align_self": null,
       "border": null,
       "bottom": null,
       "display": null,
       "flex": null,
       "flex_flow": null,
       "grid_area": null,
       "grid_auto_columns": null,
       "grid_auto_flow": null,
       "grid_auto_rows": null,
       "grid_column": null,
       "grid_gap": null,
       "grid_row": null,
       "grid_template_areas": null,
       "grid_template_columns": null,
       "grid_template_rows": null,
       "height": null,
       "justify_content": null,
       "justify_items": null,
       "left": null,
       "margin": null,
       "max_height": null,
       "max_width": null,
       "min_height": null,
       "min_width": null,
       "object_fit": null,
       "object_position": null,
       "order": null,
       "overflow": null,
       "overflow_x": null,
       "overflow_y": null,
       "padding": null,
       "right": null,
       "top": null,
       "visibility": null,
       "width": null
      }
     },
     "d1014ae4d2d54870921a77aac8c0e806": {
      "model_module": "@jupyter-widgets/controls",
      "model_module_version": "1.5.0",
      "model_name": "HTMLModel",
      "state": {
       "_dom_classes": [],
       "_model_module": "@jupyter-widgets/controls",
       "_model_module_version": "1.5.0",
       "_model_name": "HTMLModel",
       "_view_count": null,
       "_view_module": "@jupyter-widgets/controls",
       "_view_module_version": "1.5.0",
       "_view_name": "HTMLView",
       "description": "",
       "description_tooltip": null,
       "layout": "IPY_MODEL_f8ca1d5a4e124f80858786acde7c5bbc",
       "placeholder": "​",
       "style": "IPY_MODEL_f7e7cbbdf28d4ccfa85c52827640fa9a",
       "value": "Downloading: 100%"
      }
     },
     "d2600bb5ae8646ae960456da7a52b95d": {
      "model_module": "@jupyter-widgets/base",
      "model_module_version": "1.2.0",
      "model_name": "LayoutModel",
      "state": {
       "_model_module": "@jupyter-widgets/base",
       "_model_module_version": "1.2.0",
       "_model_name": "LayoutModel",
       "_view_count": null,
       "_view_module": "@jupyter-widgets/base",
       "_view_module_version": "1.2.0",
       "_view_name": "LayoutView",
       "align_content": null,
       "align_items": null,
       "align_self": null,
       "border": null,
       "bottom": null,
       "display": null,
       "flex": null,
       "flex_flow": null,
       "grid_area": null,
       "grid_auto_columns": null,
       "grid_auto_flow": null,
       "grid_auto_rows": null,
       "grid_column": null,
       "grid_gap": null,
       "grid_row": null,
       "grid_template_areas": null,
       "grid_template_columns": null,
       "grid_template_rows": null,
       "height": null,
       "justify_content": null,
       "justify_items": null,
       "left": null,
       "margin": null,
       "max_height": null,
       "max_width": null,
       "min_height": null,
       "min_width": null,
       "object_fit": null,
       "object_position": null,
       "order": null,
       "overflow": null,
       "overflow_x": null,
       "overflow_y": null,
       "padding": null,
       "right": null,
       "top": null,
       "visibility": null,
       "width": null
      }
     },
     "dd4f97a6e3f14901a7c7c31a477a9965": {
      "model_module": "@jupyter-widgets/base",
      "model_module_version": "1.2.0",
      "model_name": "LayoutModel",
      "state": {
       "_model_module": "@jupyter-widgets/base",
       "_model_module_version": "1.2.0",
       "_model_name": "LayoutModel",
       "_view_count": null,
       "_view_module": "@jupyter-widgets/base",
       "_view_module_version": "1.2.0",
       "_view_name": "LayoutView",
       "align_content": null,
       "align_items": null,
       "align_self": null,
       "border": null,
       "bottom": null,
       "display": null,
       "flex": null,
       "flex_flow": null,
       "grid_area": null,
       "grid_auto_columns": null,
       "grid_auto_flow": null,
       "grid_auto_rows": null,
       "grid_column": null,
       "grid_gap": null,
       "grid_row": null,
       "grid_template_areas": null,
       "grid_template_columns": null,
       "grid_template_rows": null,
       "height": null,
       "justify_content": null,
       "justify_items": null,
       "left": null,
       "margin": null,
       "max_height": null,
       "max_width": null,
       "min_height": null,
       "min_width": null,
       "object_fit": null,
       "object_position": null,
       "order": null,
       "overflow": null,
       "overflow_x": null,
       "overflow_y": null,
       "padding": null,
       "right": null,
       "top": null,
       "visibility": null,
       "width": null
      }
     },
     "e03027dc68744aae8b2e65ae44ee7623": {
      "model_module": "@jupyter-widgets/controls",
      "model_module_version": "1.5.0",
      "model_name": "HTMLModel",
      "state": {
       "_dom_classes": [],
       "_model_module": "@jupyter-widgets/controls",
       "_model_module_version": "1.5.0",
       "_model_name": "HTMLModel",
       "_view_count": null,
       "_view_module": "@jupyter-widgets/controls",
       "_view_module_version": "1.5.0",
       "_view_name": "HTMLView",
       "description": "",
       "description_tooltip": null,
       "layout": "IPY_MODEL_37f2e97a983e44f68419d3f285147e51",
       "placeholder": "​",
       "style": "IPY_MODEL_6d881badb4434927a128099b25637049",
       "value": " 445M/445M [00:10&lt;00:00, 31.6MB/s]"
      }
     },
     "e6604c9d3b6c4f43a13bef0676d96bf9": {
      "model_module": "@jupyter-widgets/controls",
      "model_module_version": "1.5.0",
      "model_name": "DescriptionStyleModel",
      "state": {
       "_model_module": "@jupyter-widgets/controls",
       "_model_module_version": "1.5.0",
       "_model_name": "DescriptionStyleModel",
       "_view_count": null,
       "_view_module": "@jupyter-widgets/base",
       "_view_module_version": "1.2.0",
       "_view_name": "StyleView",
       "description_width": ""
      }
     },
     "e8f1a9a800b840e88db9050b655ad73c": {
      "model_module": "@jupyter-widgets/controls",
      "model_module_version": "1.5.0",
      "model_name": "HBoxModel",
      "state": {
       "_dom_classes": [],
       "_model_module": "@jupyter-widgets/controls",
       "_model_module_version": "1.5.0",
       "_model_name": "HBoxModel",
       "_view_count": null,
       "_view_module": "@jupyter-widgets/controls",
       "_view_module_version": "1.5.0",
       "_view_name": "HBoxView",
       "box_style": "",
       "children": [
        "IPY_MODEL_d1014ae4d2d54870921a77aac8c0e806",
        "IPY_MODEL_4fa98a41fd184a27a17882a10f54411e",
        "IPY_MODEL_e03027dc68744aae8b2e65ae44ee7623"
       ],
       "layout": "IPY_MODEL_5ce61c72631b4e9c8d64dd46d8c71c6e"
      }
     },
     "eafea43d813f4e6e977d2aad27761da5": {
      "model_module": "@jupyter-widgets/controls",
      "model_module_version": "1.5.0",
      "model_name": "DescriptionStyleModel",
      "state": {
       "_model_module": "@jupyter-widgets/controls",
       "_model_module_version": "1.5.0",
       "_model_name": "DescriptionStyleModel",
       "_view_count": null,
       "_view_module": "@jupyter-widgets/base",
       "_view_module_version": "1.2.0",
       "_view_name": "StyleView",
       "description_width": ""
      }
     },
     "eb2abebca99e4aba8d167b6173ebcdcc": {
      "model_module": "@jupyter-widgets/controls",
      "model_module_version": "1.5.0",
      "model_name": "HTMLModel",
      "state": {
       "_dom_classes": [],
       "_model_module": "@jupyter-widgets/controls",
       "_model_module_version": "1.5.0",
       "_model_name": "HTMLModel",
       "_view_count": null,
       "_view_module": "@jupyter-widgets/controls",
       "_view_module_version": "1.5.0",
       "_view_name": "HTMLView",
       "description": "",
       "description_tooltip": null,
       "layout": "IPY_MODEL_a8be8e51f47d46be9b959421daac91e0",
       "placeholder": "​",
       "style": "IPY_MODEL_eafea43d813f4e6e977d2aad27761da5",
       "value": " 83.0/83.0 [00:00&lt;00:00, 3.18kB/s]"
      }
     },
     "ebd977327d87449a9da845e4daa1e800": {
      "model_module": "@jupyter-widgets/base",
      "model_module_version": "1.2.0",
      "model_name": "LayoutModel",
      "state": {
       "_model_module": "@jupyter-widgets/base",
       "_model_module_version": "1.2.0",
       "_model_name": "LayoutModel",
       "_view_count": null,
       "_view_module": "@jupyter-widgets/base",
       "_view_module_version": "1.2.0",
       "_view_name": "LayoutView",
       "align_content": null,
       "align_items": null,
       "align_self": null,
       "border": null,
       "bottom": null,
       "display": null,
       "flex": null,
       "flex_flow": null,
       "grid_area": null,
       "grid_auto_columns": null,
       "grid_auto_flow": null,
       "grid_auto_rows": null,
       "grid_column": null,
       "grid_gap": null,
       "grid_row": null,
       "grid_template_areas": null,
       "grid_template_columns": null,
       "grid_template_rows": null,
       "height": null,
       "justify_content": null,
       "justify_items": null,
       "left": null,
       "margin": null,
       "max_height": null,
       "max_width": null,
       "min_height": null,
       "min_width": null,
       "object_fit": null,
       "object_position": null,
       "order": null,
       "overflow": null,
       "overflow_x": null,
       "overflow_y": null,
       "padding": null,
       "right": null,
       "top": null,
       "visibility": null,
       "width": null
      }
     },
     "f7e7cbbdf28d4ccfa85c52827640fa9a": {
      "model_module": "@jupyter-widgets/controls",
      "model_module_version": "1.5.0",
      "model_name": "DescriptionStyleModel",
      "state": {
       "_model_module": "@jupyter-widgets/controls",
       "_model_module_version": "1.5.0",
       "_model_name": "DescriptionStyleModel",
       "_view_count": null,
       "_view_module": "@jupyter-widgets/base",
       "_view_module_version": "1.2.0",
       "_view_name": "StyleView",
       "description_width": ""
      }
     },
     "f8ca1d5a4e124f80858786acde7c5bbc": {
      "model_module": "@jupyter-widgets/base",
      "model_module_version": "1.2.0",
      "model_name": "LayoutModel",
      "state": {
       "_model_module": "@jupyter-widgets/base",
       "_model_module_version": "1.2.0",
       "_model_name": "LayoutModel",
       "_view_count": null,
       "_view_module": "@jupyter-widgets/base",
       "_view_module_version": "1.2.0",
       "_view_name": "LayoutView",
       "align_content": null,
       "align_items": null,
       "align_self": null,
       "border": null,
       "bottom": null,
       "display": null,
       "flex": null,
       "flex_flow": null,
       "grid_area": null,
       "grid_auto_columns": null,
       "grid_auto_flow": null,
       "grid_auto_rows": null,
       "grid_column": null,
       "grid_gap": null,
       "grid_row": null,
       "grid_template_areas": null,
       "grid_template_columns": null,
       "grid_template_rows": null,
       "height": null,
       "justify_content": null,
       "justify_items": null,
       "left": null,
       "margin": null,
       "max_height": null,
       "max_width": null,
       "min_height": null,
       "min_width": null,
       "object_fit": null,
       "object_position": null,
       "order": null,
       "overflow": null,
       "overflow_x": null,
       "overflow_y": null,
       "padding": null,
       "right": null,
       "top": null,
       "visibility": null,
       "width": null
      }
     },
     "fa925bbc3e0d461ab51113e4dee439ba": {
      "model_module": "@jupyter-widgets/controls",
      "model_module_version": "1.5.0",
      "model_name": "DescriptionStyleModel",
      "state": {
       "_model_module": "@jupyter-widgets/controls",
       "_model_module_version": "1.5.0",
       "_model_name": "DescriptionStyleModel",
       "_view_count": null,
       "_view_module": "@jupyter-widgets/base",
       "_view_module_version": "1.2.0",
       "_view_name": "StyleView",
       "description_width": ""
      }
     }
    },
    "version_major": 2,
    "version_minor": 0
   }
  }
 },
 "nbformat": 4,
 "nbformat_minor": 5
}
