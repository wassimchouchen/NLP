{
 "cells": [
  {
   "cell_type": "code",
   "execution_count": 1,
   "id": "f74f343b",
   "metadata": {
    "_cell_guid": "b1076dfc-b9ad-4769-8c92-a6c4dae69d19",
    "_uuid": "8f2839f25d086af736a60e9eeb907d3b93b6e0e5",
    "execution": {
     "iopub.execute_input": "2022-07-20T10:36:03.162484Z",
     "iopub.status.busy": "2022-07-20T10:36:03.161636Z",
     "iopub.status.idle": "2022-07-20T10:36:11.086783Z",
     "shell.execute_reply": "2022-07-20T10:36:11.086175Z",
     "shell.execute_reply.started": "2022-07-20T10:26:12.669680Z"
    },
    "papermill": {
     "duration": 7.96861,
     "end_time": "2022-07-20T10:36:11.086955",
     "exception": false,
     "start_time": "2022-07-20T10:36:03.118345",
     "status": "completed"
    },
    "tags": []
   },
   "outputs": [],
   "source": [
    "import os\n",
    "\n",
    "import random\n",
    "import numpy as np\n",
    "\n",
    "import pandas as pd\n",
    "import torch\n",
    "from torch.utils.data import Dataset, random_split\n",
    "from transformers import (\n",
    "    AdamW,\n",
    "    Trainer,\n",
    "    TrainingArguments,\n",
    "    AutoTokenizer,\n",
    "    AutoModelForSequenceClassification,\n",
    "    get_cosine_schedule_with_warmup,\n",
    ")\n",
    "from sklearn.preprocessing import LabelEncoder\n",
    "from sklearn.metrics import accuracy_score"
   ]
  },
  {
   "cell_type": "code",
   "execution_count": 2,
   "id": "cac7872c",
   "metadata": {
    "execution": {
     "iopub.execute_input": "2022-07-20T10:36:11.155670Z",
     "iopub.status.busy": "2022-07-20T10:36:11.154939Z",
     "iopub.status.idle": "2022-07-20T10:36:16.266691Z",
     "shell.execute_reply": "2022-07-20T10:36:16.265776Z",
     "shell.execute_reply.started": "2022-07-20T10:26:12.906411Z"
    },
    "papermill": {
     "duration": 5.147079,
     "end_time": "2022-07-20T10:36:16.266855",
     "exception": false,
     "start_time": "2022-07-20T10:36:11.119776",
     "status": "completed"
    },
    "tags": []
   },
   "outputs": [
    {
     "data": {
      "application/vnd.jupyter.widget-view+json": {
       "model_id": "1e796e75137c49a982788a37de4fa0e4",
       "version_major": 2,
       "version_minor": 0
      },
      "text/plain": [
       "Downloading:   0%|          | 0.00/1.59k [00:00<?, ?B/s]"
      ]
     },
     "metadata": {},
     "output_type": "display_data"
    },
    {
     "data": {
      "application/vnd.jupyter.widget-view+json": {
       "model_id": "ca2a49d8df6942a8a145d055af3a96e2",
       "version_major": 2,
       "version_minor": 0
      },
      "text/plain": [
       "Downloading:   0%|          | 0.00/1.32M [00:00<?, ?B/s]"
      ]
     },
     "metadata": {},
     "output_type": "display_data"
    },
    {
     "data": {
      "application/vnd.jupyter.widget-view+json": {
       "model_id": "5dba192ef8034563a417928557df882f",
       "version_major": 2,
       "version_minor": 0
      },
      "text/plain": [
       "Downloading:   0%|          | 0.00/598k [00:00<?, ?B/s]"
      ]
     },
     "metadata": {},
     "output_type": "display_data"
    },
    {
     "data": {
      "application/vnd.jupyter.widget-view+json": {
       "model_id": "3fddde3500db4d8bb77feb59a13ed1da",
       "version_major": 2,
       "version_minor": 0
      },
      "text/plain": [
       "Downloading:   0%|          | 0.00/305 [00:00<?, ?B/s]"
      ]
     },
     "metadata": {},
     "output_type": "display_data"
    },
    {
     "data": {
      "application/vnd.jupyter.widget-view+json": {
       "model_id": "1543bbe992714c8cbe7ac279a1afee45",
       "version_major": 2,
       "version_minor": 0
      },
      "text/plain": [
       "Downloading:   0%|          | 0.00/582 [00:00<?, ?B/s]"
      ]
     },
     "metadata": {},
     "output_type": "display_data"
    }
   ],
   "source": [
    "model_name = \"inokufu/flaubert-base-uncased-xnli-sts-finetuned-education\"\n",
    "\n",
    "tokenizer = AutoTokenizer.from_pretrained(model_name)\n",
    "\n",
    "device = torch.device(\"cuda\" if torch.cuda.is_available() else \"cpu\")"
   ]
  },
  {
   "cell_type": "code",
   "execution_count": 3,
   "id": "b435a24b",
   "metadata": {
    "execution": {
     "iopub.execute_input": "2022-07-20T10:36:16.339062Z",
     "iopub.status.busy": "2022-07-20T10:36:16.337462Z",
     "iopub.status.idle": "2022-07-20T10:36:16.339632Z",
     "shell.execute_reply": "2022-07-20T10:36:16.340063Z",
     "shell.execute_reply.started": "2022-07-20T10:26:18.126017Z"
    },
    "papermill": {
     "duration": 0.039692,
     "end_time": "2022-07-20T10:36:16.340200",
     "exception": false,
     "start_time": "2022-07-20T10:36:16.300508",
     "status": "completed"
    },
    "tags": []
   },
   "outputs": [],
   "source": [
    "lr = 2e-5\n",
    "epochs =  6\n",
    "batch_size = 5\n",
    "max_seq_len = 75\n",
    "\n",
    "test_frac = 0.1"
   ]
  },
  {
   "cell_type": "code",
   "execution_count": 4,
   "id": "fe8285fc",
   "metadata": {
    "execution": {
     "iopub.execute_input": "2022-07-20T10:36:16.413084Z",
     "iopub.status.busy": "2022-07-20T10:36:16.412399Z",
     "iopub.status.idle": "2022-07-20T10:36:16.417535Z",
     "shell.execute_reply": "2022-07-20T10:36:16.417105Z",
     "shell.execute_reply.started": "2022-07-20T10:26:18.138438Z"
    },
    "papermill": {
     "duration": 0.044203,
     "end_time": "2022-07-20T10:36:16.417653",
     "exception": false,
     "start_time": "2022-07-20T10:36:16.373450",
     "status": "completed"
    },
    "tags": []
   },
   "outputs": [],
   "source": [
    "import os\n",
    "\n",
    "def set_seed(seed=106052):\n",
    "    \"\"\"Set seed for reproducibility.\n",
    "    \"\"\"\n",
    "    random.seed(seed)\n",
    "    np.random.seed(seed)\n",
    "    torch.manual_seed(seed)\n",
    "    torch.cuda.manual_seed_all(seed)\n",
    "    \n",
    "    os.environ['PYTHONHASHSEED'] = str(seed)\n",
    "    \n",
    "set_seed()"
   ]
  },
  {
   "cell_type": "code",
   "execution_count": 5,
   "id": "7d205745",
   "metadata": {
    "execution": {
     "iopub.execute_input": "2022-07-20T10:36:16.493308Z",
     "iopub.status.busy": "2022-07-20T10:36:16.492527Z",
     "iopub.status.idle": "2022-07-20T10:36:16.494267Z",
     "shell.execute_reply": "2022-07-20T10:36:16.493785Z",
     "shell.execute_reply.started": "2022-07-20T10:26:18.154558Z"
    },
    "papermill": {
     "duration": 0.044679,
     "end_time": "2022-07-20T10:36:16.494382",
     "exception": false,
     "start_time": "2022-07-20T10:36:16.449703",
     "status": "completed"
    },
    "tags": []
   },
   "outputs": [],
   "source": [
    "class CEFRDataset(Dataset):\n",
    "    \"\"\"Classification dataset, built on top of pytorch dataset object\n",
    "    \"\"\"\n",
    "    \n",
    "    def __init__(self, texts, labels):\n",
    "        \n",
    "        self.encoder = LabelEncoder()\n",
    "        print(self.encoder.__dict__)\n",
    "        self.texts = texts\n",
    "        self.labels = self.encoder.fit_transform(labels)\n",
    "\n",
    "    def __len__(self):\n",
    "        return len(self.texts)\n",
    "\n",
    "    def __getitem__(self, index):\n",
    "        text = self.texts[index]\n",
    "        label = self.labels[index]\n",
    "        encoded_text = tokenizer(\n",
    "            text,\n",
    "            padding=\"max_length\",\n",
    "            max_length=max_seq_len,\n",
    "            truncation=True,\n",
    "            return_tensors=\"pt\",\n",
    "        )\n",
    "        encoded_text[\"input_ids\"] = encoded_text[\"input_ids\"].squeeze()\n",
    "        encoded_text[\"attention_mask\"] = encoded_text[\"attention_mask\"].squeeze()\n",
    "        label = torch.tensor(label)\n",
    "\n",
    "        return {\n",
    "            \"input_ids\": encoded_text[\"input_ids\"],\n",
    "            \"attention_mask\": encoded_text[\"attention_mask\"],\n",
    "            \"labels\": label,\n",
    "        }\n",
    "\n",
    "    def get_labels(self):\n",
    "        return self.labels"
   ]
  },
  {
   "cell_type": "code",
   "execution_count": 6,
   "id": "72e692d0",
   "metadata": {
    "execution": {
     "iopub.execute_input": "2022-07-20T10:36:16.566767Z",
     "iopub.status.busy": "2022-07-20T10:36:16.565819Z",
     "iopub.status.idle": "2022-07-20T10:36:16.567753Z",
     "shell.execute_reply": "2022-07-20T10:36:16.568200Z",
     "shell.execute_reply.started": "2022-07-20T10:26:18.174282Z"
    },
    "papermill": {
     "duration": 0.041178,
     "end_time": "2022-07-20T10:36:16.568354",
     "exception": false,
     "start_time": "2022-07-20T10:36:16.527176",
     "status": "completed"
    },
    "tags": []
   },
   "outputs": [],
   "source": [
    "def train(train_set, valid_set, epochs=10, warmup_size=0.1, lr=1e-3, batch_size=16):\n",
    "    model = get_model(model_name)\n",
    "    optim = AdamW(model.parameters(), lr=lr)\n",
    "    scheduler = get_scheduler(\n",
    "        optim, warmup_size, round(len(train_set) / batch_size * epochs)\n",
    "    )\n",
    "    training_args = get_training_args(epochs, batch_size)\n",
    "    trainer = Trainer(\n",
    "        model=model,\n",
    "        args=training_args,\n",
    "        train_dataset=train_set,\n",
    "        eval_dataset=valid_set,\n",
    "        optimizers=[optim, scheduler],\n",
    "        compute_metrics=compute_accuracy,\n",
    "    )\n",
    "    trainer.train()\n",
    "    trainer.save_model()\n",
    "    return trainer"
   ]
  },
  {
   "cell_type": "code",
   "execution_count": 7,
   "id": "4c9063da",
   "metadata": {
    "execution": {
     "iopub.execute_input": "2022-07-20T10:36:16.639607Z",
     "iopub.status.busy": "2022-07-20T10:36:16.638697Z",
     "iopub.status.idle": "2022-07-20T10:36:16.640937Z",
     "shell.execute_reply": "2022-07-20T10:36:16.640490Z",
     "shell.execute_reply.started": "2022-07-20T10:26:18.190477Z"
    },
    "papermill": {
     "duration": 0.039598,
     "end_time": "2022-07-20T10:36:16.641052",
     "exception": false,
     "start_time": "2022-07-20T10:36:16.601454",
     "status": "completed"
    },
    "tags": []
   },
   "outputs": [],
   "source": [
    "def get_model(pretrained_checkpoint):\n",
    "    model = AutoModelForSequenceClassification.from_pretrained(\n",
    "        pretrained_checkpoint, num_labels=6\n",
    "    )\n",
    "    return model.to(device)"
   ]
  },
  {
   "cell_type": "code",
   "execution_count": 8,
   "id": "92adfed2",
   "metadata": {
    "execution": {
     "iopub.execute_input": "2022-07-20T10:36:16.762925Z",
     "iopub.status.busy": "2022-07-20T10:36:16.762082Z",
     "iopub.status.idle": "2022-07-20T10:36:16.764259Z",
     "shell.execute_reply": "2022-07-20T10:36:16.764645Z",
     "shell.execute_reply.started": "2022-07-20T10:26:18.217921Z"
    },
    "papermill": {
     "duration": 0.091063,
     "end_time": "2022-07-20T10:36:16.764811",
     "exception": false,
     "start_time": "2022-07-20T10:36:16.673748",
     "status": "completed"
    },
    "tags": []
   },
   "outputs": [],
   "source": [
    "os.environ[\"WANDB_DISABLED\"] = \"true\"\n",
    "\n",
    "\n",
    "def get_scheduler(optimizer, warmup_size, total_steps):\n",
    "    scheduler = get_cosine_schedule_with_warmup(\n",
    "        optimizer,\n",
    "        num_warmup_steps=round(total_steps * warmup_size),\n",
    "        num_training_steps=total_steps,\n",
    "    )\n",
    "    return scheduler\n",
    "\n",
    "\n",
    "def get_training_args(epochs, batch_size):\n",
    "    return TrainingArguments(\n",
    "        output_dir=\"./b\",\n",
    "        num_train_epochs=epochs,\n",
    "        per_device_train_batch_size=batch_size,\n",
    "        logging_steps=50,\n",
    "        fp16=False,\n",
    "        evaluation_strategy=\"epoch\",\n",
    "        eval_accumulation_steps=1,\n",
    "        report_to=None,\n",
    "        save_total_limit=1,\n",
    "        load_best_model_at_end=True\n",
    "    )\n",
    "\n",
    "\n",
    "def compute_accuracy(pred):\n",
    "    labels = pred.label_ids\n",
    "    preds = pred.predictions.argmax(-1)\n",
    "    acc = accuracy_score(labels, preds)\n",
    "    return {\"accuracy\": acc}\n",
    "\n"
   ]
  },
  {
   "cell_type": "code",
   "execution_count": 9,
   "id": "59ff15d4",
   "metadata": {
    "execution": {
     "iopub.execute_input": "2022-07-20T10:36:16.834995Z",
     "iopub.status.busy": "2022-07-20T10:36:16.834120Z",
     "iopub.status.idle": "2022-07-20T10:36:16.835869Z",
     "shell.execute_reply": "2022-07-20T10:36:16.836309Z",
     "shell.execute_reply.started": "2022-07-20T10:26:18.263666Z"
    },
    "papermill": {
     "duration": 0.038572,
     "end_time": "2022-07-20T10:36:16.836440",
     "exception": false,
     "start_time": "2022-07-20T10:36:16.797868",
     "status": "completed"
    },
    "tags": []
   },
   "outputs": [],
   "source": [
    "lr = 2e-5\n",
    "epochs =  7\n",
    "batch_size = 8\n",
    "max_seq_len = 512"
   ]
  },
  {
   "cell_type": "code",
   "execution_count": 10,
   "id": "88fe43d4",
   "metadata": {
    "execution": {
     "iopub.execute_input": "2022-07-20T10:36:16.907831Z",
     "iopub.status.busy": "2022-07-20T10:36:16.907029Z",
     "iopub.status.idle": "2022-07-20T10:36:16.909785Z",
     "shell.execute_reply": "2022-07-20T10:36:16.909224Z",
     "shell.execute_reply.started": "2022-07-20T10:26:18.289501Z"
    },
    "papermill": {
     "duration": 0.041561,
     "end_time": "2022-07-20T10:36:16.909945",
     "exception": false,
     "start_time": "2022-07-20T10:36:16.868384",
     "status": "completed"
    },
    "tags": []
   },
   "outputs": [],
   "source": [
    "def split_valid(df, frac=0.01):\n",
    "    \n",
    "    val = pd.DataFrame()\n",
    "    val[\"text\"] = \"\"\n",
    "    val[\"label\"] = -1\n",
    "    \n",
    "    for i in df.label.unique():\n",
    "        val = pd.concat([val, df[df.label == i].sample(frac=frac)])\n",
    "        \n",
    "    return df[~df.index.isin(val.index)].reset_index(drop=True) , val.reset_index(drop=True)"
   ]
  },
  {
   "cell_type": "code",
   "execution_count": 11,
   "id": "67981292",
   "metadata": {
    "execution": {
     "iopub.execute_input": "2022-07-20T10:36:16.980930Z",
     "iopub.status.busy": "2022-07-20T10:36:16.980360Z",
     "iopub.status.idle": "2022-07-20T10:36:16.997620Z",
     "shell.execute_reply": "2022-07-20T10:36:16.997156Z",
     "shell.execute_reply.started": "2022-07-20T10:26:18.319946Z"
    },
    "papermill": {
     "duration": 0.055139,
     "end_time": "2022-07-20T10:36:16.997732",
     "exception": false,
     "start_time": "2022-07-20T10:36:16.942593",
     "status": "completed"
    },
    "tags": []
   },
   "outputs": [],
   "source": [
    "data=pd.read_csv(\"../input/fr-cerfr/dataset_to_be_annotated_-_dataset_to_be_annotated.csv\")"
   ]
  },
  {
   "cell_type": "code",
   "execution_count": 12,
   "id": "7c155a79",
   "metadata": {
    "execution": {
     "iopub.execute_input": "2022-07-20T10:36:17.069151Z",
     "iopub.status.busy": "2022-07-20T10:36:17.068295Z",
     "iopub.status.idle": "2022-07-20T10:36:17.082541Z",
     "shell.execute_reply": "2022-07-20T10:36:17.082029Z",
     "shell.execute_reply.started": "2022-07-20T10:26:18.360369Z"
    },
    "papermill": {
     "duration": 0.052021,
     "end_time": "2022-07-20T10:36:17.082679",
     "exception": false,
     "start_time": "2022-07-20T10:36:17.030658",
     "status": "completed"
    },
    "tags": []
   },
   "outputs": [],
   "source": [
    "train_set_df = pd.read_csv(\"../input/fr-cerfr/dataset_to_be_annotated_-_dataset_to_be_annotated.csv\")\n",
    "train_set_df.drop(\"Unnamed: 3\", axis=1, inplace=True)"
   ]
  },
  {
   "cell_type": "code",
   "execution_count": 13,
   "id": "51d88303",
   "metadata": {
    "execution": {
     "iopub.execute_input": "2022-07-20T10:36:17.156199Z",
     "iopub.status.busy": "2022-07-20T10:36:17.155349Z",
     "iopub.status.idle": "2022-07-20T10:36:17.158002Z",
     "shell.execute_reply": "2022-07-20T10:36:17.157485Z",
     "shell.execute_reply.started": "2022-07-20T10:26:18.388049Z"
    },
    "papermill": {
     "duration": 0.042418,
     "end_time": "2022-07-20T10:36:17.158143",
     "exception": false,
     "start_time": "2022-07-20T10:36:17.115725",
     "status": "completed"
    },
    "tags": []
   },
   "outputs": [],
   "source": [
    "train_set_df = train_set_df[pd.notnull(train_set_df['cefr'])]\n",
    "train_set_df = train_set_df.reset_index(drop=True)"
   ]
  },
  {
   "cell_type": "code",
   "execution_count": 14,
   "id": "ab8e25f1",
   "metadata": {
    "execution": {
     "iopub.execute_input": "2022-07-20T10:36:17.230110Z",
     "iopub.status.busy": "2022-07-20T10:36:17.229531Z",
     "iopub.status.idle": "2022-07-20T10:36:17.233576Z",
     "shell.execute_reply": "2022-07-20T10:36:17.233049Z",
     "shell.execute_reply.started": "2022-07-20T10:26:18.420401Z"
    },
    "papermill": {
     "duration": 0.042943,
     "end_time": "2022-07-20T10:36:17.233701",
     "exception": false,
     "start_time": "2022-07-20T10:36:17.190758",
     "status": "completed"
    },
    "tags": []
   },
   "outputs": [],
   "source": [
    "train_set_df.columns=[\"text\",\"lens\",\"label\"]\n",
    "train_set_df = train_set_df[train_set_df.label != \"-\"]\n",
    "train_set_df = train_set_df[[\"text\", \"label\"]]"
   ]
  },
  {
   "cell_type": "code",
   "execution_count": 15,
   "id": "c5488c71",
   "metadata": {
    "execution": {
     "iopub.execute_input": "2022-07-20T10:36:17.302320Z",
     "iopub.status.busy": "2022-07-20T10:36:17.301554Z",
     "iopub.status.idle": "2022-07-20T10:36:17.319258Z",
     "shell.execute_reply": "2022-07-20T10:36:17.318790Z",
     "shell.execute_reply.started": "2022-07-20T10:26:18.451295Z"
    },
    "papermill": {
     "duration": 0.053598,
     "end_time": "2022-07-20T10:36:17.319375",
     "exception": false,
     "start_time": "2022-07-20T10:36:17.265777",
     "status": "completed"
    },
    "tags": []
   },
   "outputs": [],
   "source": [
    "A1_A2=pd.read_csv(\"../input/a1-a2-ex/A1_A2_tran.csv\")"
   ]
  },
  {
   "cell_type": "code",
   "execution_count": 16,
   "id": "4c2fc680",
   "metadata": {
    "execution": {
     "iopub.execute_input": "2022-07-20T10:36:17.390262Z",
     "iopub.status.busy": "2022-07-20T10:36:17.389528Z",
     "iopub.status.idle": "2022-07-20T10:36:17.393133Z",
     "shell.execute_reply": "2022-07-20T10:36:17.392653Z",
     "shell.execute_reply.started": "2022-07-20T10:26:18.489726Z"
    },
    "papermill": {
     "duration": 0.041526,
     "end_time": "2022-07-20T10:36:17.393250",
     "exception": false,
     "start_time": "2022-07-20T10:36:17.351724",
     "status": "completed"
    },
    "tags": []
   },
   "outputs": [],
   "source": [
    "train_set_df=pd.concat([train_set_df, A1_A2], ignore_index=True)"
   ]
  },
  {
   "cell_type": "code",
   "execution_count": 17,
   "id": "b99d049b",
   "metadata": {
    "execution": {
     "iopub.execute_input": "2022-07-20T10:36:17.480502Z",
     "iopub.status.busy": "2022-07-20T10:36:17.479833Z",
     "iopub.status.idle": "2022-07-20T10:36:17.483111Z",
     "shell.execute_reply": "2022-07-20T10:36:17.483562Z",
     "shell.execute_reply.started": "2022-07-20T10:26:18.507958Z"
    },
    "papermill": {
     "duration": 0.058081,
     "end_time": "2022-07-20T10:36:17.483706",
     "exception": false,
     "start_time": "2022-07-20T10:36:17.425625",
     "status": "completed"
    },
    "tags": []
   },
   "outputs": [],
   "source": [
    "from sklearn import preprocessing\n",
    "le = preprocessing.LabelEncoder()\n",
    "\n",
    "\n",
    "\n",
    "\n",
    "train_set_df.text = train_set_df.text.apply(lambda x: x.replace(\"\\r\", \"\").replace(\"\\n\", \" \"))\n",
    "\n",
    "# extra_df = pd.read_csv(\"../input/frenchcefr/french_mike_june.csv\")\n",
    "# extra_df.columns = [\"text\", \"label\", \"label_\"]\n",
    "# extra_df = extra_df[[\"text\", \"label\"]]\n",
    "# extra_df.text = extra_df.text.astype(str)\n",
    "#train_set_df = pd.concat([train_set_df, extra_df]).reset_index(drop=True)\n",
    "\n",
    "train_set_df, valid_set_df = split_valid(train_set_df)"
   ]
  },
  {
   "cell_type": "code",
   "execution_count": 18,
   "id": "76463361",
   "metadata": {
    "execution": {
     "iopub.execute_input": "2022-07-20T10:36:17.563351Z",
     "iopub.status.busy": "2022-07-20T10:36:17.562537Z",
     "iopub.status.idle": "2022-07-20T10:36:17.565104Z",
     "shell.execute_reply": "2022-07-20T10:36:17.564639Z",
     "shell.execute_reply.started": "2022-07-20T10:26:18.575372Z"
    },
    "papermill": {
     "duration": 0.049253,
     "end_time": "2022-07-20T10:36:17.565222",
     "exception": false,
     "start_time": "2022-07-20T10:36:17.515969",
     "status": "completed"
    },
    "tags": []
   },
   "outputs": [],
   "source": [
    "for i in range(train_set_df.shape[0]):\n",
    "    if train_set_df.loc[i,\"label\"]==\"c1\":\n",
    "        train_set_df.loc[i,\"label\"]=\"C1\""
   ]
  },
  {
   "cell_type": "code",
   "execution_count": 19,
   "id": "f34f5f47",
   "metadata": {
    "execution": {
     "iopub.execute_input": "2022-07-20T10:36:17.637274Z",
     "iopub.status.busy": "2022-07-20T10:36:17.636603Z",
     "iopub.status.idle": "2022-07-20T10:36:17.639338Z",
     "shell.execute_reply": "2022-07-20T10:36:17.639741Z",
     "shell.execute_reply.started": "2022-07-20T10:26:18.625971Z"
    },
    "papermill": {
     "duration": 0.042203,
     "end_time": "2022-07-20T10:36:17.639903",
     "exception": false,
     "start_time": "2022-07-20T10:36:17.597700",
     "status": "completed"
    },
    "tags": []
   },
   "outputs": [
    {
     "data": {
      "text/plain": [
       "array(['C1', 'B2', 'B1', 'A2', 'C2', 'A1'], dtype=object)"
      ]
     },
     "execution_count": 19,
     "metadata": {},
     "output_type": "execute_result"
    }
   ],
   "source": [
    "train_set_df.label.unique()"
   ]
  },
  {
   "cell_type": "code",
   "execution_count": 20,
   "id": "1a58ee18",
   "metadata": {
    "execution": {
     "iopub.execute_input": "2022-07-20T10:36:17.713535Z",
     "iopub.status.busy": "2022-07-20T10:36:17.712901Z",
     "iopub.status.idle": "2022-07-20T10:36:17.715543Z",
     "shell.execute_reply": "2022-07-20T10:36:17.715960Z",
     "shell.execute_reply.started": "2022-07-20T10:26:18.641898Z"
    },
    "papermill": {
     "duration": 0.043232,
     "end_time": "2022-07-20T10:36:17.716096",
     "exception": false,
     "start_time": "2022-07-20T10:36:17.672864",
     "status": "completed"
    },
    "tags": []
   },
   "outputs": [
    {
     "data": {
      "text/plain": [
       "A1    285\n",
       "A2    273\n",
       "B2     91\n",
       "B1     50\n",
       "C1     37\n",
       "C2     12\n",
       "Name: label, dtype: int64"
      ]
     },
     "execution_count": 20,
     "metadata": {},
     "output_type": "execute_result"
    }
   ],
   "source": [
    "train_set_df.label.value_counts()"
   ]
  },
  {
   "cell_type": "code",
   "execution_count": 21,
   "id": "29a2a539",
   "metadata": {
    "execution": {
     "iopub.execute_input": "2022-07-20T10:36:17.789763Z",
     "iopub.status.busy": "2022-07-20T10:36:17.788084Z",
     "iopub.status.idle": "2022-07-20T10:36:17.790397Z",
     "shell.execute_reply": "2022-07-20T10:36:17.790791Z",
     "shell.execute_reply.started": "2022-07-20T10:26:18.661822Z"
    },
    "papermill": {
     "duration": 0.042407,
     "end_time": "2022-07-20T10:36:17.790950",
     "exception": false,
     "start_time": "2022-07-20T10:36:17.748543",
     "status": "completed"
    },
    "tags": []
   },
   "outputs": [],
   "source": [
    "train_set_df.label = le.fit_transform(train_set_df.label)\n",
    "valid_set_df.label = le.transform(valid_set_df.label)"
   ]
  },
  {
   "cell_type": "code",
   "execution_count": 22,
   "id": "3bef2eca",
   "metadata": {
    "execution": {
     "iopub.execute_input": "2022-07-20T10:36:17.865076Z",
     "iopub.status.busy": "2022-07-20T10:36:17.864296Z",
     "iopub.status.idle": "2022-07-20T10:36:17.866955Z",
     "shell.execute_reply": "2022-07-20T10:36:17.867356Z",
     "shell.execute_reply.started": "2022-07-20T10:26:18.676902Z"
    },
    "papermill": {
     "duration": 0.043092,
     "end_time": "2022-07-20T10:36:17.867488",
     "exception": false,
     "start_time": "2022-07-20T10:36:17.824396",
     "status": "completed"
    },
    "tags": []
   },
   "outputs": [
    {
     "data": {
      "text/plain": [
       "array([4, 3, 2, 1, 5, 0])"
      ]
     },
     "execution_count": 22,
     "metadata": {},
     "output_type": "execute_result"
    }
   ],
   "source": [
    "train_set_df.label.unique()"
   ]
  },
  {
   "cell_type": "code",
   "execution_count": 23,
   "id": "f54f7a02",
   "metadata": {
    "execution": {
     "iopub.execute_input": "2022-07-20T10:36:17.939618Z",
     "iopub.status.busy": "2022-07-20T10:36:17.938679Z",
     "iopub.status.idle": "2022-07-20T10:36:17.943161Z",
     "shell.execute_reply": "2022-07-20T10:36:17.942677Z",
     "shell.execute_reply.started": "2022-07-20T10:26:18.694867Z"
    },
    "papermill": {
     "duration": 0.043053,
     "end_time": "2022-07-20T10:36:17.943283",
     "exception": false,
     "start_time": "2022-07-20T10:36:17.900230",
     "status": "completed"
    },
    "tags": []
   },
   "outputs": [
    {
     "data": {
      "text/plain": [
       "3"
      ]
     },
     "execution_count": 23,
     "metadata": {},
     "output_type": "execute_result"
    }
   ],
   "source": [
    "valid_set_df.label.nunique()"
   ]
  },
  {
   "cell_type": "code",
   "execution_count": 24,
   "id": "4bb16308",
   "metadata": {
    "execution": {
     "iopub.execute_input": "2022-07-20T10:36:18.015961Z",
     "iopub.status.busy": "2022-07-20T10:36:18.014343Z",
     "iopub.status.idle": "2022-07-20T10:36:18.016525Z",
     "shell.execute_reply": "2022-07-20T10:36:18.016968Z",
     "shell.execute_reply.started": "2022-07-20T10:26:18.709146Z"
    },
    "papermill": {
     "duration": 0.040616,
     "end_time": "2022-07-20T10:36:18.017110",
     "exception": false,
     "start_time": "2022-07-20T10:36:17.976494",
     "status": "completed"
    },
    "tags": []
   },
   "outputs": [],
   "source": [
    "# train_set_df = train_set_df.sample(frac=1)"
   ]
  },
  {
   "cell_type": "code",
   "execution_count": 25,
   "id": "2e254c65",
   "metadata": {
    "execution": {
     "iopub.execute_input": "2022-07-20T10:36:18.091248Z",
     "iopub.status.busy": "2022-07-20T10:36:18.090632Z",
     "iopub.status.idle": "2022-07-20T10:36:18.093781Z",
     "shell.execute_reply": "2022-07-20T10:36:18.093342Z",
     "shell.execute_reply.started": "2022-07-20T10:26:18.722692Z"
    },
    "papermill": {
     "duration": 0.043054,
     "end_time": "2022-07-20T10:36:18.093925",
     "exception": false,
     "start_time": "2022-07-20T10:36:18.050871",
     "status": "completed"
    },
    "tags": []
   },
   "outputs": [],
   "source": [
    "from tqdm import tqdm \n",
    "\n",
    "def predict(model, text):\n",
    "    \n",
    "    preds = []\n",
    "    \n",
    "    for i in tqdm(range(len(text))):\n",
    "        tokenized = tokenizer(text[i:i+1], return_tensors=\"pt\", truncation=True, max_length=512).to(\"cuda\")\n",
    "        pred = model(**tokenized)\n",
    "        preds.append(pred.logits.argmax(-1).item())\n",
    "\n",
    "    return preds"
   ]
  },
  {
   "cell_type": "code",
   "execution_count": null,
   "id": "24df1619",
   "metadata": {
    "papermill": {
     "duration": 0.033241,
     "end_time": "2022-07-20T10:36:18.161204",
     "exception": false,
     "start_time": "2022-07-20T10:36:18.127963",
     "status": "completed"
    },
    "tags": []
   },
   "outputs": [],
   "source": []
  },
  {
   "cell_type": "code",
   "execution_count": 26,
   "id": "8f3cb0c3",
   "metadata": {
    "execution": {
     "iopub.execute_input": "2022-07-20T10:36:18.234381Z",
     "iopub.status.busy": "2022-07-20T10:36:18.233541Z",
     "iopub.status.idle": "2022-07-20T10:44:10.913227Z",
     "shell.execute_reply": "2022-07-20T10:44:10.912682Z"
    },
    "papermill": {
     "duration": 472.718833,
     "end_time": "2022-07-20T10:44:10.913382",
     "exception": false,
     "start_time": "2022-07-20T10:36:18.194549",
     "status": "completed"
    },
    "tags": []
   },
   "outputs": [
    {
     "name": "stdout",
     "output_type": "stream",
     "text": [
      "{}\n",
      "{}\n"
     ]
    },
    {
     "data": {
      "application/vnd.jupyter.widget-view+json": {
       "model_id": "5b14866edf6e458983a6bd7a99bb24e8",
       "version_major": 2,
       "version_minor": 0
      },
      "text/plain": [
       "Downloading:   0%|          | 0.00/549M [00:00<?, ?B/s]"
      ]
     },
     "metadata": {},
     "output_type": "display_data"
    },
    {
     "name": "stderr",
     "output_type": "stream",
     "text": [
      "Some weights of FlaubertForSequenceClassification were not initialized from the model checkpoint at inokufu/flaubert-base-uncased-xnli-sts-finetuned-education and are newly initialized: ['position_ids', 'sequence_summary.summary.weight', 'sequence_summary.summary.bias']\n",
      "You should probably TRAIN this model on a down-stream task to be able to use it for predictions and inference.\n",
      "Using the `WAND_DISABLED` environment variable is deprecated and will be removed in v5. Use the --report_to flag to control the integrations used for logging result (for instance --report_to none).\n"
     ]
    },
    {
     "data": {
      "text/html": [
       "\n",
       "    <div>\n",
       "        <style>\n",
       "            /* Turns off some styling */\n",
       "            progress {\n",
       "                /* gets rid of default border in Firefox and Opera. */\n",
       "                border: none;\n",
       "                /* Needs to be in here for Safari polyfill so background images work as expected. */\n",
       "                background-size: auto;\n",
       "            }\n",
       "        </style>\n",
       "      \n",
       "      <progress value='658' max='658' style='width:300px; height:20px; vertical-align: middle;'></progress>\n",
       "      [658/658 07:13, Epoch 7/7]\n",
       "    </div>\n",
       "    <table border=\"1\" class=\"dataframe\">\n",
       "  <thead>\n",
       "    <tr style=\"text-align: left;\">\n",
       "      <th>Epoch</th>\n",
       "      <th>Training Loss</th>\n",
       "      <th>Validation Loss</th>\n",
       "      <th>Accuracy</th>\n",
       "      <th>Runtime</th>\n",
       "      <th>Samples Per Second</th>\n",
       "    </tr>\n",
       "  </thead>\n",
       "  <tbody>\n",
       "    <tr>\n",
       "      <td>1</td>\n",
       "      <td>1.396800</td>\n",
       "      <td>0.585634</td>\n",
       "      <td>0.714286</td>\n",
       "      <td>0.209700</td>\n",
       "      <td>33.384000</td>\n",
       "    </tr>\n",
       "    <tr>\n",
       "      <td>2</td>\n",
       "      <td>0.729700</td>\n",
       "      <td>0.626671</td>\n",
       "      <td>0.714286</td>\n",
       "      <td>0.201300</td>\n",
       "      <td>34.776000</td>\n",
       "    </tr>\n",
       "    <tr>\n",
       "      <td>3</td>\n",
       "      <td>0.508500</td>\n",
       "      <td>0.304570</td>\n",
       "      <td>0.714286</td>\n",
       "      <td>0.206500</td>\n",
       "      <td>33.893000</td>\n",
       "    </tr>\n",
       "    <tr>\n",
       "      <td>4</td>\n",
       "      <td>0.509200</td>\n",
       "      <td>0.366653</td>\n",
       "      <td>0.857143</td>\n",
       "      <td>0.322900</td>\n",
       "      <td>21.681000</td>\n",
       "    </tr>\n",
       "    <tr>\n",
       "      <td>5</td>\n",
       "      <td>0.229300</td>\n",
       "      <td>0.519231</td>\n",
       "      <td>0.857143</td>\n",
       "      <td>0.222500</td>\n",
       "      <td>31.463000</td>\n",
       "    </tr>\n",
       "    <tr>\n",
       "      <td>6</td>\n",
       "      <td>0.108700</td>\n",
       "      <td>0.500880</td>\n",
       "      <td>0.857143</td>\n",
       "      <td>0.203400</td>\n",
       "      <td>34.415000</td>\n",
       "    </tr>\n",
       "    <tr>\n",
       "      <td>7</td>\n",
       "      <td>0.055000</td>\n",
       "      <td>0.481383</td>\n",
       "      <td>0.857143</td>\n",
       "      <td>0.204400</td>\n",
       "      <td>34.255000</td>\n",
       "    </tr>\n",
       "  </tbody>\n",
       "</table><p>"
      ],
      "text/plain": [
       "<IPython.core.display.HTML object>"
      ]
     },
     "metadata": {},
     "output_type": "display_data"
    }
   ],
   "source": [
    "train_set = CEFRDataset(train_set_df[\"text\"], train_set_df[\"label\"])\n",
    "valid_set = CEFRDataset(valid_set_df[\"text\"], valid_set_df[\"label\"])\n",
    "\n",
    "\n",
    "trainer_second = train(train_set, valid_set, epochs=epochs, warmup_size=0.2, lr=lr, batch_size=batch_size)\n",
    "model = trainer_second.model"
   ]
  },
  {
   "cell_type": "code",
   "execution_count": 27,
   "id": "4a8ac741",
   "metadata": {
    "execution": {
     "iopub.execute_input": "2022-07-20T10:44:11.001317Z",
     "iopub.status.busy": "2022-07-20T10:44:11.000546Z",
     "iopub.status.idle": "2022-07-20T10:44:11.201315Z",
     "shell.execute_reply": "2022-07-20T10:44:11.200667Z"
    },
    "papermill": {
     "duration": 0.241576,
     "end_time": "2022-07-20T10:44:11.201473",
     "exception": false,
     "start_time": "2022-07-20T10:44:10.959897",
     "status": "completed"
    },
    "tags": []
   },
   "outputs": [
    {
     "name": "stderr",
     "output_type": "stream",
     "text": [
      "100%|██████████| 7/7 [00:00<00:00, 36.66it/s]\n"
     ]
    }
   ],
   "source": [
    "valid_set_df[\"preds\"] = train_set.encoder.inverse_transform(predict(model, valid_set_df.text.tolist()))\n",
    "valid_set_df.columns = [\"text\", \"cefr\", \"preds\",] "
   ]
  },
  {
   "cell_type": "code",
   "execution_count": 28,
   "id": "ce1d18d5",
   "metadata": {
    "execution": {
     "iopub.execute_input": "2022-07-20T10:44:11.281511Z",
     "iopub.status.busy": "2022-07-20T10:44:11.280739Z",
     "iopub.status.idle": "2022-07-20T10:44:13.373279Z",
     "shell.execute_reply": "2022-07-20T10:44:13.373700Z"
    },
    "papermill": {
     "duration": 2.134956,
     "end_time": "2022-07-20T10:44:13.373867",
     "exception": false,
     "start_time": "2022-07-20T10:44:11.238911",
     "status": "completed"
    },
    "tags": []
   },
   "outputs": [
    {
     "name": "stderr",
     "output_type": "stream",
     "text": [
      "100%|██████████| 111/111 [00:02<00:00, 53.53it/s]\n"
     ]
    }
   ],
   "source": [
    "lingua = pd.read_csv(\"../input/lingua/fr_lingua.csv\")\n",
    "lingua[\"preds\"] = train_set.encoder.inverse_transform(predict(model, lingua.text.tolist()))"
   ]
  },
  {
   "cell_type": "code",
   "execution_count": 29,
   "id": "fd2d823e",
   "metadata": {
    "execution": {
     "iopub.execute_input": "2022-07-20T10:44:14.581115Z",
     "iopub.status.busy": "2022-07-20T10:44:14.579746Z",
     "iopub.status.idle": "2022-07-20T10:44:14.584829Z",
     "shell.execute_reply": "2022-07-20T10:44:14.584402Z"
    },
    "papermill": {
     "duration": 1.16881,
     "end_time": "2022-07-20T10:44:14.584957",
     "exception": false,
     "start_time": "2022-07-20T10:44:13.416147",
     "status": "completed"
    },
    "tags": []
   },
   "outputs": [
    {
     "data": {
      "text/plain": [
       "(111, 3)"
      ]
     },
     "execution_count": 29,
     "metadata": {},
     "output_type": "execute_result"
    }
   ],
   "source": [
    "lingua.shape"
   ]
  },
  {
   "cell_type": "code",
   "execution_count": 30,
   "id": "6de9b285",
   "metadata": {
    "execution": {
     "iopub.execute_input": "2022-07-20T10:44:14.678426Z",
     "iopub.status.busy": "2022-07-20T10:44:14.677769Z",
     "iopub.status.idle": "2022-07-20T10:44:14.680374Z",
     "shell.execute_reply": "2022-07-20T10:44:14.680779Z"
    },
    "papermill": {
     "duration": 0.052078,
     "end_time": "2022-07-20T10:44:14.680938",
     "exception": false,
     "start_time": "2022-07-20T10:44:14.628860",
     "status": "completed"
    },
    "tags": []
   },
   "outputs": [
    {
     "data": {
      "text/plain": [
       "B1    60\n",
       "A2    26\n",
       "A1    13\n",
       "B2    12\n",
       "Name: cefr, dtype: int64"
      ]
     },
     "execution_count": 30,
     "metadata": {},
     "output_type": "execute_result"
    }
   ],
   "source": [
    "lingua.cefr.value_counts()"
   ]
  },
  {
   "cell_type": "code",
   "execution_count": 31,
   "id": "d772f578",
   "metadata": {
    "execution": {
     "iopub.execute_input": "2022-07-20T10:44:14.769905Z",
     "iopub.status.busy": "2022-07-20T10:44:14.769086Z",
     "iopub.status.idle": "2022-07-20T10:44:14.775180Z",
     "shell.execute_reply": "2022-07-20T10:44:14.774712Z"
    },
    "papermill": {
     "duration": 0.051321,
     "end_time": "2022-07-20T10:44:14.775305",
     "exception": false,
     "start_time": "2022-07-20T10:44:14.723984",
     "status": "completed"
    },
    "tags": []
   },
   "outputs": [
    {
     "data": {
      "text/plain": [
       "array([2, 0, 3, 1, 4])"
      ]
     },
     "execution_count": 31,
     "metadata": {},
     "output_type": "execute_result"
    }
   ],
   "source": [
    "lingua.preds.unique()"
   ]
  },
  {
   "cell_type": "code",
   "execution_count": 32,
   "id": "fdbcce65",
   "metadata": {
    "execution": {
     "iopub.execute_input": "2022-07-20T10:44:14.869210Z",
     "iopub.status.busy": "2022-07-20T10:44:14.868348Z",
     "iopub.status.idle": "2022-07-20T10:44:14.870162Z",
     "shell.execute_reply": "2022-07-20T10:44:14.870598Z"
    },
    "papermill": {
     "duration": 0.051462,
     "end_time": "2022-07-20T10:44:14.870727",
     "exception": false,
     "start_time": "2022-07-20T10:44:14.819265",
     "status": "completed"
    },
    "tags": []
   },
   "outputs": [],
   "source": [
    "def compute_average_distance(df, col_name=\"cefr\") :\n",
    "    \n",
    "    labels = [\"A1\", \"A2\", \"B1\", \"B2\", \"C1\", \"C2\"]\n",
    "    return (df[col_name].apply(lambda x: labels.index(x)) - df.preds.apply(lambda x: labels.index(x))).abs().mean()\n"
   ]
  },
  {
   "cell_type": "code",
   "execution_count": 33,
   "id": "def9436e",
   "metadata": {
    "execution": {
     "iopub.execute_input": "2022-07-20T10:44:14.960455Z",
     "iopub.status.busy": "2022-07-20T10:44:14.959641Z",
     "iopub.status.idle": "2022-07-20T10:44:14.966542Z",
     "shell.execute_reply": "2022-07-20T10:44:14.966131Z"
    },
    "papermill": {
     "duration": 0.052627,
     "end_time": "2022-07-20T10:44:14.966649",
     "exception": false,
     "start_time": "2022-07-20T10:44:14.914022",
     "status": "completed"
    },
    "tags": []
   },
   "outputs": [
    {
     "data": {
      "text/plain": [
       "2    70\n",
       "3    22\n",
       "0     9\n",
       "4     7\n",
       "1     3\n",
       "Name: preds, dtype: int64"
      ]
     },
     "execution_count": 33,
     "metadata": {},
     "output_type": "execute_result"
    }
   ],
   "source": [
    "lingua.preds.value_counts()"
   ]
  },
  {
   "cell_type": "code",
   "execution_count": 34,
   "id": "dc0d9eb3",
   "metadata": {
    "execution": {
     "iopub.execute_input": "2022-07-20T10:44:15.059681Z",
     "iopub.status.busy": "2022-07-20T10:44:15.058738Z",
     "iopub.status.idle": "2022-07-20T10:44:15.060684Z",
     "shell.execute_reply": "2022-07-20T10:44:15.061138Z"
    },
    "papermill": {
     "duration": 0.051699,
     "end_time": "2022-07-20T10:44:15.061295",
     "exception": false,
     "start_time": "2022-07-20T10:44:15.009596",
     "status": "completed"
    },
    "tags": []
   },
   "outputs": [],
   "source": [
    "lingua[\"preds\"] = le.inverse_transform(lingua.preds)"
   ]
  },
  {
   "cell_type": "code",
   "execution_count": 35,
   "id": "d4460223",
   "metadata": {
    "execution": {
     "iopub.execute_input": "2022-07-20T10:44:15.160717Z",
     "iopub.status.busy": "2022-07-20T10:44:15.160121Z",
     "iopub.status.idle": "2022-07-20T10:44:15.162671Z",
     "shell.execute_reply": "2022-07-20T10:44:15.163088Z"
    },
    "papermill": {
     "duration": 0.054581,
     "end_time": "2022-07-20T10:44:15.163226",
     "exception": false,
     "start_time": "2022-07-20T10:44:15.108645",
     "status": "completed"
    },
    "tags": []
   },
   "outputs": [
    {
     "data": {
      "text/plain": [
       "B1    60\n",
       "A2    26\n",
       "A1    13\n",
       "B2    12\n",
       "Name: cefr, dtype: int64"
      ]
     },
     "execution_count": 35,
     "metadata": {},
     "output_type": "execute_result"
    }
   ],
   "source": [
    "lingua.cefr.value_counts()"
   ]
  },
  {
   "cell_type": "code",
   "execution_count": 36,
   "id": "5450c024",
   "metadata": {
    "execution": {
     "iopub.execute_input": "2022-07-20T10:44:15.258916Z",
     "iopub.status.busy": "2022-07-20T10:44:15.258213Z",
     "iopub.status.idle": "2022-07-20T10:44:15.260900Z",
     "shell.execute_reply": "2022-07-20T10:44:15.261322Z"
    },
    "papermill": {
     "duration": 0.05372,
     "end_time": "2022-07-20T10:44:15.261453",
     "exception": false,
     "start_time": "2022-07-20T10:44:15.207733",
     "status": "completed"
    },
    "tags": []
   },
   "outputs": [
    {
     "data": {
      "text/plain": [
       "B1    70\n",
       "B2    22\n",
       "A1     9\n",
       "C1     7\n",
       "A2     3\n",
       "Name: preds, dtype: int64"
      ]
     },
     "execution_count": 36,
     "metadata": {},
     "output_type": "execute_result"
    }
   ],
   "source": [
    "lingua.preds.value_counts()"
   ]
  },
  {
   "cell_type": "code",
   "execution_count": 37,
   "id": "95819154",
   "metadata": {
    "execution": {
     "iopub.execute_input": "2022-07-20T10:44:15.359922Z",
     "iopub.status.busy": "2022-07-20T10:44:15.359310Z",
     "iopub.status.idle": "2022-07-20T10:44:15.361951Z",
     "shell.execute_reply": "2022-07-20T10:44:15.362384Z"
    },
    "papermill": {
     "duration": 0.056287,
     "end_time": "2022-07-20T10:44:15.362516",
     "exception": false,
     "start_time": "2022-07-20T10:44:15.306229",
     "status": "completed"
    },
    "tags": []
   },
   "outputs": [
    {
     "name": "stdout",
     "output_type": "stream",
     "text": [
      "Distance: \n",
      "0.7837837837837838\n",
      "Lingua accuracy: 0.40540540540540543\n"
     ]
    }
   ],
   "source": [
    "print(\"Distance: \")\n",
    "print(compute_average_distance(lingua, \"cefr\"))\n",
    "\n",
    "print(f\"Lingua accuracy: {(lingua['preds'] == lingua['cefr']).mean()}\")"
   ]
  },
  {
   "cell_type": "code",
   "execution_count": 38,
   "id": "a90db814",
   "metadata": {
    "execution": {
     "iopub.execute_input": "2022-07-20T10:44:15.457730Z",
     "iopub.status.busy": "2022-07-20T10:44:15.456759Z",
     "iopub.status.idle": "2022-07-20T10:44:15.458558Z",
     "shell.execute_reply": "2022-07-20T10:44:15.459057Z"
    },
    "papermill": {
     "duration": 0.05109,
     "end_time": "2022-07-20T10:44:15.459189",
     "exception": false,
     "start_time": "2022-07-20T10:44:15.408099",
     "status": "completed"
    },
    "tags": []
   },
   "outputs": [],
   "source": [
    "# for i in range(lingua.shape[0]):\n",
    "#     if (lingua.loc[i,\"preds\"]==\"C1\") | (lingua.loc[i,\"preds\"]==\"C2\") :\n",
    "#         lingua.loc[i,\"Predss\"]=\"B2\"\n",
    "#     else :\n",
    "#         lingua.loc[i,\"Predss\"]= lingua.loc[i,\"preds\"]\n",
    "# lingua[\"Predss\"].value_counts()"
   ]
  },
  {
   "cell_type": "code",
   "execution_count": 39,
   "id": "e6cc8c91",
   "metadata": {
    "execution": {
     "iopub.execute_input": "2022-07-20T10:44:15.554208Z",
     "iopub.status.busy": "2022-07-20T10:44:15.553344Z",
     "iopub.status.idle": "2022-07-20T10:44:15.555479Z",
     "shell.execute_reply": "2022-07-20T10:44:15.555918Z"
    },
    "papermill": {
     "duration": 0.051671,
     "end_time": "2022-07-20T10:44:15.556053",
     "exception": false,
     "start_time": "2022-07-20T10:44:15.504382",
     "status": "completed"
    },
    "tags": []
   },
   "outputs": [],
   "source": [
    "# print(\"Distance: \")\n",
    "# print(compute_average_distance(lingua, \"cefr\"))\n",
    "\n",
    "# print(f\"Lingua accuracy: {(lingua['Predss'] == lingua['cefr']).mean()}\")"
   ]
  },
  {
   "cell_type": "code",
   "execution_count": 40,
   "id": "2675b2c4",
   "metadata": {
    "execution": {
     "iopub.execute_input": "2022-07-20T10:44:15.653542Z",
     "iopub.status.busy": "2022-07-20T10:44:15.652934Z",
     "iopub.status.idle": "2022-07-20T10:44:15.655890Z",
     "shell.execute_reply": "2022-07-20T10:44:15.656385Z"
    },
    "papermill": {
     "duration": 0.054976,
     "end_time": "2022-07-20T10:44:15.656544",
     "exception": false,
     "start_time": "2022-07-20T10:44:15.601568",
     "status": "completed"
    },
    "tags": []
   },
   "outputs": [
    {
     "data": {
      "text/plain": [
       "Index(['text', 'cefr', 'preds'], dtype='object')"
      ]
     },
     "execution_count": 40,
     "metadata": {},
     "output_type": "execute_result"
    }
   ],
   "source": [
    "lingua.columns"
   ]
  },
  {
   "cell_type": "code",
   "execution_count": null,
   "id": "830c5f77",
   "metadata": {
    "papermill": {
     "duration": 0.045354,
     "end_time": "2022-07-20T10:44:15.747410",
     "exception": false,
     "start_time": "2022-07-20T10:44:15.702056",
     "status": "completed"
    },
    "tags": []
   },
   "outputs": [],
   "source": []
  },
  {
   "cell_type": "code",
   "execution_count": 41,
   "id": "8dcd5557",
   "metadata": {
    "execution": {
     "iopub.execute_input": "2022-07-20T10:44:15.843499Z",
     "iopub.status.busy": "2022-07-20T10:44:15.842660Z",
     "iopub.status.idle": "2022-07-20T10:44:15.844687Z",
     "shell.execute_reply": "2022-07-20T10:44:15.845079Z"
    },
    "papermill": {
     "duration": 0.051633,
     "end_time": "2022-07-20T10:44:15.845211",
     "exception": false,
     "start_time": "2022-07-20T10:44:15.793578",
     "status": "completed"
    },
    "tags": []
   },
   "outputs": [],
   "source": [
    "# lingua.columns=[\"text\",\"cefr\",\"preds:A1_A2_from_trans_data&new_data,acc:0.5\"]\n",
    "# lingua.to_csv(\"lingua1.csv\", index=False)"
   ]
  },
  {
   "cell_type": "markdown",
   "id": "d2aa9615",
   "metadata": {
    "papermill": {
     "duration": 0.045884,
     "end_time": "2022-07-20T10:44:15.937434",
     "exception": false,
     "start_time": "2022-07-20T10:44:15.891550",
     "status": "completed"
    },
    "tags": []
   },
   "source": [
    "****"
   ]
  },
  {
   "cell_type": "markdown",
   "id": "81d16c4e",
   "metadata": {
    "papermill": {
     "duration": 0.046409,
     "end_time": "2022-07-20T10:44:16.030611",
     "exception": false,
     "start_time": "2022-07-20T10:44:15.984202",
     "status": "completed"
    },
    "tags": []
   },
   "source": [
    "Distance: \n",
    "0.990990990990991\n",
    "Lingua accuracy: 0.40540540540540543 <br>\n",
    "2    82\n",
    "3    15\n",
    "5    10\n",
    "4     2\n",
    "0     1\n",
    "1     1 <br> \n",
    "inokufu/flaubert-base-uncased-xnli-sts-finetuned-education"
   ]
  },
  {
   "cell_type": "markdown",
   "id": "53399d80",
   "metadata": {
    "papermill": {
     "duration": 0.045725,
     "end_time": "2022-07-20T10:44:16.122332",
     "exception": false,
     "start_time": "2022-07-20T10:44:16.076607",
     "status": "completed"
    },
    "tags": []
   },
   "source": [
    "****"
   ]
  },
  {
   "cell_type": "markdown",
   "id": "6e81d508",
   "metadata": {
    "papermill": {
     "duration": 0.045818,
     "end_time": "2022-07-20T10:44:16.213658",
     "exception": false,
     "start_time": "2022-07-20T10:44:16.167840",
     "status": "completed"
    },
    "tags": []
   },
   "source": [
    "\n",
    "Distance: \n",
    "0.8648648648648649\n",
    "Lingua accuracy: 0.450450450450450462 <br>\n",
    "3     7\n",
    "1     5\n",
    "5     4\n",
    "4     4\n",
    "0     1 <br> inokufu/flaubert-base-uncased-xnli-sts-finetuned-education"
   ]
  },
  {
   "cell_type": "code",
   "execution_count": null,
   "id": "62b0be7c",
   "metadata": {
    "papermill": {
     "duration": 0.045496,
     "end_time": "2022-07-20T10:44:16.304964",
     "exception": false,
     "start_time": "2022-07-20T10:44:16.259468",
     "status": "completed"
    },
    "tags": []
   },
   "outputs": [],
   "source": []
  },
  {
   "cell_type": "code",
   "execution_count": null,
   "id": "c3e9d7ba",
   "metadata": {
    "papermill": {
     "duration": 0.045099,
     "end_time": "2022-07-20T10:44:16.395330",
     "exception": false,
     "start_time": "2022-07-20T10:44:16.350231",
     "status": "completed"
    },
    "tags": []
   },
   "outputs": [],
   "source": []
  },
  {
   "cell_type": "code",
   "execution_count": null,
   "id": "6da66c5f",
   "metadata": {
    "papermill": {
     "duration": 0.045218,
     "end_time": "2022-07-20T10:44:16.485644",
     "exception": false,
     "start_time": "2022-07-20T10:44:16.440426",
     "status": "completed"
    },
    "tags": []
   },
   "outputs": [],
   "source": []
  },
  {
   "cell_type": "code",
   "execution_count": null,
   "id": "04371e2b",
   "metadata": {
    "papermill": {
     "duration": 0.045576,
     "end_time": "2022-07-20T10:44:16.576716",
     "exception": false,
     "start_time": "2022-07-20T10:44:16.531140",
     "status": "completed"
    },
    "tags": []
   },
   "outputs": [],
   "source": []
  }
 ],
 "metadata": {
  "kernelspec": {
   "display_name": "Python 3",
   "language": "python",
   "name": "python3"
  },
  "language_info": {
   "codemirror_mode": {
    "name": "ipython",
    "version": 3
   },
   "file_extension": ".py",
   "mimetype": "text/x-python",
   "name": "python",
   "nbconvert_exporter": "python",
   "pygments_lexer": "ipython3",
   "version": "3.7.10"
  },
  "papermill": {
   "default_parameters": {},
   "duration": 504.731396,
   "end_time": "2022-07-20T10:44:19.879527",
   "environment_variables": {},
   "exception": null,
   "input_path": "__notebook__.ipynb",
   "output_path": "__notebook__.ipynb",
   "parameters": {},
   "start_time": "2022-07-20T10:35:55.148131",
   "version": "2.3.3"
  },
  "widgets": {
   "application/vnd.jupyter.widget-state+json": {
    "state": {
     "02bf17ea4bb24b87b6ce761e5ecef679": {
      "model_module": "@jupyter-widgets/controls",
      "model_module_version": "1.5.0",
      "model_name": "HTMLModel",
      "state": {
       "_dom_classes": [],
       "_model_module": "@jupyter-widgets/controls",
       "_model_module_version": "1.5.0",
       "_model_name": "HTMLModel",
       "_view_count": null,
       "_view_module": "@jupyter-widgets/controls",
       "_view_module_version": "1.5.0",
       "_view_name": "HTMLView",
       "description": "",
       "description_tooltip": null,
       "layout": "IPY_MODEL_162066c2bdfb4368872ef8ccd03e1865",
       "placeholder": "​",
       "style": "IPY_MODEL_0979c677e6c145468ca8c1148efafa49",
       "value": "Downloading: 100%"
      }
     },
     "0979c677e6c145468ca8c1148efafa49": {
      "model_module": "@jupyter-widgets/controls",
      "model_module_version": "1.5.0",
      "model_name": "DescriptionStyleModel",
      "state": {
       "_model_module": "@jupyter-widgets/controls",
       "_model_module_version": "1.5.0",
       "_model_name": "DescriptionStyleModel",
       "_view_count": null,
       "_view_module": "@jupyter-widgets/base",
       "_view_module_version": "1.2.0",
       "_view_name": "StyleView",
       "description_width": ""
      }
     },
     "10346273d1934aadbc1e8be411b33884": {
      "model_module": "@jupyter-widgets/controls",
      "model_module_version": "1.5.0",
      "model_name": "DescriptionStyleModel",
      "state": {
       "_model_module": "@jupyter-widgets/controls",
       "_model_module_version": "1.5.0",
       "_model_name": "DescriptionStyleModel",
       "_view_count": null,
       "_view_module": "@jupyter-widgets/base",
       "_view_module_version": "1.2.0",
       "_view_name": "StyleView",
       "description_width": ""
      }
     },
     "1499b71ab0884ea69e94c734f64ba61a": {
      "model_module": "@jupyter-widgets/controls",
      "model_module_version": "1.5.0",
      "model_name": "FloatProgressModel",
      "state": {
       "_dom_classes": [],
       "_model_module": "@jupyter-widgets/controls",
       "_model_module_version": "1.5.0",
       "_model_name": "FloatProgressModel",
       "_view_count": null,
       "_view_module": "@jupyter-widgets/controls",
       "_view_module_version": "1.5.0",
       "_view_name": "ProgressView",
       "bar_style": "success",
       "description": "",
       "description_tooltip": null,
       "layout": "IPY_MODEL_ad5024a4ca15478cb87b1060b6f47b37",
       "max": 582.0,
       "min": 0.0,
       "orientation": "horizontal",
       "style": "IPY_MODEL_e9e34bf5619d40d498e8592ac6be37e6",
       "value": 582.0
      }
     },
     "1543bbe992714c8cbe7ac279a1afee45": {
      "model_module": "@jupyter-widgets/controls",
      "model_module_version": "1.5.0",
      "model_name": "HBoxModel",
      "state": {
       "_dom_classes": [],
       "_model_module": "@jupyter-widgets/controls",
       "_model_module_version": "1.5.0",
       "_model_name": "HBoxModel",
       "_view_count": null,
       "_view_module": "@jupyter-widgets/controls",
       "_view_module_version": "1.5.0",
       "_view_name": "HBoxView",
       "box_style": "",
       "children": [
        "IPY_MODEL_3675d5cf8a594386a88fb79f37e8acf5",
        "IPY_MODEL_1499b71ab0884ea69e94c734f64ba61a",
        "IPY_MODEL_c94a9bf32c4a47e3b3a1afb3b7a086de"
       ],
       "layout": "IPY_MODEL_26144ab75ea84583bfdb59af0f6438a1"
      }
     },
     "162066c2bdfb4368872ef8ccd03e1865": {
      "model_module": "@jupyter-widgets/base",
      "model_module_version": "1.2.0",
      "model_name": "LayoutModel",
      "state": {
       "_model_module": "@jupyter-widgets/base",
       "_model_module_version": "1.2.0",
       "_model_name": "LayoutModel",
       "_view_count": null,
       "_view_module": "@jupyter-widgets/base",
       "_view_module_version": "1.2.0",
       "_view_name": "LayoutView",
       "align_content": null,
       "align_items": null,
       "align_self": null,
       "border": null,
       "bottom": null,
       "display": null,
       "flex": null,
       "flex_flow": null,
       "grid_area": null,
       "grid_auto_columns": null,
       "grid_auto_flow": null,
       "grid_auto_rows": null,
       "grid_column": null,
       "grid_gap": null,
       "grid_row": null,
       "grid_template_areas": null,
       "grid_template_columns": null,
       "grid_template_rows": null,
       "height": null,
       "justify_content": null,
       "justify_items": null,
       "left": null,
       "margin": null,
       "max_height": null,
       "max_width": null,
       "min_height": null,
       "min_width": null,
       "object_fit": null,
       "object_position": null,
       "order": null,
       "overflow": null,
       "overflow_x": null,
       "overflow_y": null,
       "padding": null,
       "right": null,
       "top": null,
       "visibility": null,
       "width": null
      }
     },
     "1e796e75137c49a982788a37de4fa0e4": {
      "model_module": "@jupyter-widgets/controls",
      "model_module_version": "1.5.0",
      "model_name": "HBoxModel",
      "state": {
       "_dom_classes": [],
       "_model_module": "@jupyter-widgets/controls",
       "_model_module_version": "1.5.0",
       "_model_name": "HBoxModel",
       "_view_count": null,
       "_view_module": "@jupyter-widgets/controls",
       "_view_module_version": "1.5.0",
       "_view_name": "HBoxView",
       "box_style": "",
       "children": [
        "IPY_MODEL_dad4c54082c745b49bd29026db9cbf88",
        "IPY_MODEL_685822c1c4d64995961dc6982beb4844",
        "IPY_MODEL_239137c73ec847c59ddbc5c2d66aa10e"
       ],
       "layout": "IPY_MODEL_3bb96572c2754b57aa45625296ef7520"
      }
     },
     "21470b527cf84683a03dd16d84cce65b": {
      "model_module": "@jupyter-widgets/controls",
      "model_module_version": "1.5.0",
      "model_name": "FloatProgressModel",
      "state": {
       "_dom_classes": [],
       "_model_module": "@jupyter-widgets/controls",
       "_model_module_version": "1.5.0",
       "_model_name": "FloatProgressModel",
       "_view_count": null,
       "_view_module": "@jupyter-widgets/controls",
       "_view_module_version": "1.5.0",
       "_view_name": "ProgressView",
       "bar_style": "success",
       "description": "",
       "description_tooltip": null,
       "layout": "IPY_MODEL_6f51495339d04a8994d67229687b1e87",
       "max": 597509.0,
       "min": 0.0,
       "orientation": "horizontal",
       "style": "IPY_MODEL_5f484fb62eba4d32b18fb8aa79ab8cc7",
       "value": 597509.0
      }
     },
     "239137c73ec847c59ddbc5c2d66aa10e": {
      "model_module": "@jupyter-widgets/controls",
      "model_module_version": "1.5.0",
      "model_name": "HTMLModel",
      "state": {
       "_dom_classes": [],
       "_model_module": "@jupyter-widgets/controls",
       "_model_module_version": "1.5.0",
       "_model_name": "HTMLModel",
       "_view_count": null,
       "_view_module": "@jupyter-widgets/controls",
       "_view_module_version": "1.5.0",
       "_view_name": "HTMLView",
       "description": "",
       "description_tooltip": null,
       "layout": "IPY_MODEL_35743dde4bfa4be39ba670668e76bcc8",
       "placeholder": "​",
       "style": "IPY_MODEL_87b54bc8e3564488998a61b4763c82c3",
       "value": " 1.59k/1.59k [00:00&lt;00:00, 61.0kB/s]"
      }
     },
     "26144ab75ea84583bfdb59af0f6438a1": {
      "model_module": "@jupyter-widgets/base",
      "model_module_version": "1.2.0",
      "model_name": "LayoutModel",
      "state": {
       "_model_module": "@jupyter-widgets/base",
       "_model_module_version": "1.2.0",
       "_model_name": "LayoutModel",
       "_view_count": null,
       "_view_module": "@jupyter-widgets/base",
       "_view_module_version": "1.2.0",
       "_view_name": "LayoutView",
       "align_content": null,
       "align_items": null,
       "align_self": null,
       "border": null,
       "bottom": null,
       "display": null,
       "flex": null,
       "flex_flow": null,
       "grid_area": null,
       "grid_auto_columns": null,
       "grid_auto_flow": null,
       "grid_auto_rows": null,
       "grid_column": null,
       "grid_gap": null,
       "grid_row": null,
       "grid_template_areas": null,
       "grid_template_columns": null,
       "grid_template_rows": null,
       "height": null,
       "justify_content": null,
       "justify_items": null,
       "left": null,
       "margin": null,
       "max_height": null,
       "max_width": null,
       "min_height": null,
       "min_width": null,
       "object_fit": null,
       "object_position": null,
       "order": null,
       "overflow": null,
       "overflow_x": null,
       "overflow_y": null,
       "padding": null,
       "right": null,
       "top": null,
       "visibility": null,
       "width": null
      }
     },
     "28a62ac470634d6d970e5ff8b49b1706": {
      "model_module": "@jupyter-widgets/controls",
      "model_module_version": "1.5.0",
      "model_name": "DescriptionStyleModel",
      "state": {
       "_model_module": "@jupyter-widgets/controls",
       "_model_module_version": "1.5.0",
       "_model_name": "DescriptionStyleModel",
       "_view_count": null,
       "_view_module": "@jupyter-widgets/base",
       "_view_module_version": "1.2.0",
       "_view_name": "StyleView",
       "description_width": ""
      }
     },
     "2b3f879077d04c57ba2600918c3f4880": {
      "model_module": "@jupyter-widgets/base",
      "model_module_version": "1.2.0",
      "model_name": "LayoutModel",
      "state": {
       "_model_module": "@jupyter-widgets/base",
       "_model_module_version": "1.2.0",
       "_model_name": "LayoutModel",
       "_view_count": null,
       "_view_module": "@jupyter-widgets/base",
       "_view_module_version": "1.2.0",
       "_view_name": "LayoutView",
       "align_content": null,
       "align_items": null,
       "align_self": null,
       "border": null,
       "bottom": null,
       "display": null,
       "flex": null,
       "flex_flow": null,
       "grid_area": null,
       "grid_auto_columns": null,
       "grid_auto_flow": null,
       "grid_auto_rows": null,
       "grid_column": null,
       "grid_gap": null,
       "grid_row": null,
       "grid_template_areas": null,
       "grid_template_columns": null,
       "grid_template_rows": null,
       "height": null,
       "justify_content": null,
       "justify_items": null,
       "left": null,
       "margin": null,
       "max_height": null,
       "max_width": null,
       "min_height": null,
       "min_width": null,
       "object_fit": null,
       "object_position": null,
       "order": null,
       "overflow": null,
       "overflow_x": null,
       "overflow_y": null,
       "padding": null,
       "right": null,
       "top": null,
       "visibility": null,
       "width": null
      }
     },
     "2eda4a299d194398b0529415fffe3231": {
      "model_module": "@jupyter-widgets/controls",
      "model_module_version": "1.5.0",
      "model_name": "DescriptionStyleModel",
      "state": {
       "_model_module": "@jupyter-widgets/controls",
       "_model_module_version": "1.5.0",
       "_model_name": "DescriptionStyleModel",
       "_view_count": null,
       "_view_module": "@jupyter-widgets/base",
       "_view_module_version": "1.2.0",
       "_view_name": "StyleView",
       "description_width": ""
      }
     },
     "35743dde4bfa4be39ba670668e76bcc8": {
      "model_module": "@jupyter-widgets/base",
      "model_module_version": "1.2.0",
      "model_name": "LayoutModel",
      "state": {
       "_model_module": "@jupyter-widgets/base",
       "_model_module_version": "1.2.0",
       "_model_name": "LayoutModel",
       "_view_count": null,
       "_view_module": "@jupyter-widgets/base",
       "_view_module_version": "1.2.0",
       "_view_name": "LayoutView",
       "align_content": null,
       "align_items": null,
       "align_self": null,
       "border": null,
       "bottom": null,
       "display": null,
       "flex": null,
       "flex_flow": null,
       "grid_area": null,
       "grid_auto_columns": null,
       "grid_auto_flow": null,
       "grid_auto_rows": null,
       "grid_column": null,
       "grid_gap": null,
       "grid_row": null,
       "grid_template_areas": null,
       "grid_template_columns": null,
       "grid_template_rows": null,
       "height": null,
       "justify_content": null,
       "justify_items": null,
       "left": null,
       "margin": null,
       "max_height": null,
       "max_width": null,
       "min_height": null,
       "min_width": null,
       "object_fit": null,
       "object_position": null,
       "order": null,
       "overflow": null,
       "overflow_x": null,
       "overflow_y": null,
       "padding": null,
       "right": null,
       "top": null,
       "visibility": null,
       "width": null
      }
     },
     "3675d5cf8a594386a88fb79f37e8acf5": {
      "model_module": "@jupyter-widgets/controls",
      "model_module_version": "1.5.0",
      "model_name": "HTMLModel",
      "state": {
       "_dom_classes": [],
       "_model_module": "@jupyter-widgets/controls",
       "_model_module_version": "1.5.0",
       "_model_name": "HTMLModel",
       "_view_count": null,
       "_view_module": "@jupyter-widgets/controls",
       "_view_module_version": "1.5.0",
       "_view_name": "HTMLView",
       "description": "",
       "description_tooltip": null,
       "layout": "IPY_MODEL_f1388c68577f454ab0a167b48e530b81",
       "placeholder": "​",
       "style": "IPY_MODEL_2eda4a299d194398b0529415fffe3231",
       "value": "Downloading: 100%"
      }
     },
     "36f49416e3aa4183be180c9bd9549eb4": {
      "model_module": "@jupyter-widgets/base",
      "model_module_version": "1.2.0",
      "model_name": "LayoutModel",
      "state": {
       "_model_module": "@jupyter-widgets/base",
       "_model_module_version": "1.2.0",
       "_model_name": "LayoutModel",
       "_view_count": null,
       "_view_module": "@jupyter-widgets/base",
       "_view_module_version": "1.2.0",
       "_view_name": "LayoutView",
       "align_content": null,
       "align_items": null,
       "align_self": null,
       "border": null,
       "bottom": null,
       "display": null,
       "flex": null,
       "flex_flow": null,
       "grid_area": null,
       "grid_auto_columns": null,
       "grid_auto_flow": null,
       "grid_auto_rows": null,
       "grid_column": null,
       "grid_gap": null,
       "grid_row": null,
       "grid_template_areas": null,
       "grid_template_columns": null,
       "grid_template_rows": null,
       "height": null,
       "justify_content": null,
       "justify_items": null,
       "left": null,
       "margin": null,
       "max_height": null,
       "max_width": null,
       "min_height": null,
       "min_width": null,
       "object_fit": null,
       "object_position": null,
       "order": null,
       "overflow": null,
       "overflow_x": null,
       "overflow_y": null,
       "padding": null,
       "right": null,
       "top": null,
       "visibility": null,
       "width": null
      }
     },
     "3a01ed63c2724a728b1997f079649f21": {
      "model_module": "@jupyter-widgets/base",
      "model_module_version": "1.2.0",
      "model_name": "LayoutModel",
      "state": {
       "_model_module": "@jupyter-widgets/base",
       "_model_module_version": "1.2.0",
       "_model_name": "LayoutModel",
       "_view_count": null,
       "_view_module": "@jupyter-widgets/base",
       "_view_module_version": "1.2.0",
       "_view_name": "LayoutView",
       "align_content": null,
       "align_items": null,
       "align_self": null,
       "border": null,
       "bottom": null,
       "display": null,
       "flex": null,
       "flex_flow": null,
       "grid_area": null,
       "grid_auto_columns": null,
       "grid_auto_flow": null,
       "grid_auto_rows": null,
       "grid_column": null,
       "grid_gap": null,
       "grid_row": null,
       "grid_template_areas": null,
       "grid_template_columns": null,
       "grid_template_rows": null,
       "height": null,
       "justify_content": null,
       "justify_items": null,
       "left": null,
       "margin": null,
       "max_height": null,
       "max_width": null,
       "min_height": null,
       "min_width": null,
       "object_fit": null,
       "object_position": null,
       "order": null,
       "overflow": null,
       "overflow_x": null,
       "overflow_y": null,
       "padding": null,
       "right": null,
       "top": null,
       "visibility": null,
       "width": null
      }
     },
     "3a280454e56f43ac9fc3bc2706ae4772": {
      "model_module": "@jupyter-widgets/base",
      "model_module_version": "1.2.0",
      "model_name": "LayoutModel",
      "state": {
       "_model_module": "@jupyter-widgets/base",
       "_model_module_version": "1.2.0",
       "_model_name": "LayoutModel",
       "_view_count": null,
       "_view_module": "@jupyter-widgets/base",
       "_view_module_version": "1.2.0",
       "_view_name": "LayoutView",
       "align_content": null,
       "align_items": null,
       "align_self": null,
       "border": null,
       "bottom": null,
       "display": null,
       "flex": null,
       "flex_flow": null,
       "grid_area": null,
       "grid_auto_columns": null,
       "grid_auto_flow": null,
       "grid_auto_rows": null,
       "grid_column": null,
       "grid_gap": null,
       "grid_row": null,
       "grid_template_areas": null,
       "grid_template_columns": null,
       "grid_template_rows": null,
       "height": null,
       "justify_content": null,
       "justify_items": null,
       "left": null,
       "margin": null,
       "max_height": null,
       "max_width": null,
       "min_height": null,
       "min_width": null,
       "object_fit": null,
       "object_position": null,
       "order": null,
       "overflow": null,
       "overflow_x": null,
       "overflow_y": null,
       "padding": null,
       "right": null,
       "top": null,
       "visibility": null,
       "width": null
      }
     },
     "3bb96572c2754b57aa45625296ef7520": {
      "model_module": "@jupyter-widgets/base",
      "model_module_version": "1.2.0",
      "model_name": "LayoutModel",
      "state": {
       "_model_module": "@jupyter-widgets/base",
       "_model_module_version": "1.2.0",
       "_model_name": "LayoutModel",
       "_view_count": null,
       "_view_module": "@jupyter-widgets/base",
       "_view_module_version": "1.2.0",
       "_view_name": "LayoutView",
       "align_content": null,
       "align_items": null,
       "align_self": null,
       "border": null,
       "bottom": null,
       "display": null,
       "flex": null,
       "flex_flow": null,
       "grid_area": null,
       "grid_auto_columns": null,
       "grid_auto_flow": null,
       "grid_auto_rows": null,
       "grid_column": null,
       "grid_gap": null,
       "grid_row": null,
       "grid_template_areas": null,
       "grid_template_columns": null,
       "grid_template_rows": null,
       "height": null,
       "justify_content": null,
       "justify_items": null,
       "left": null,
       "margin": null,
       "max_height": null,
       "max_width": null,
       "min_height": null,
       "min_width": null,
       "object_fit": null,
       "object_position": null,
       "order": null,
       "overflow": null,
       "overflow_x": null,
       "overflow_y": null,
       "padding": null,
       "right": null,
       "top": null,
       "visibility": null,
       "width": null
      }
     },
     "3d5586ed1fa34ae4b6ae97dee65b6d99": {
      "model_module": "@jupyter-widgets/base",
      "model_module_version": "1.2.0",
      "model_name": "LayoutModel",
      "state": {
       "_model_module": "@jupyter-widgets/base",
       "_model_module_version": "1.2.0",
       "_model_name": "LayoutModel",
       "_view_count": null,
       "_view_module": "@jupyter-widgets/base",
       "_view_module_version": "1.2.0",
       "_view_name": "LayoutView",
       "align_content": null,
       "align_items": null,
       "align_self": null,
       "border": null,
       "bottom": null,
       "display": null,
       "flex": null,
       "flex_flow": null,
       "grid_area": null,
       "grid_auto_columns": null,
       "grid_auto_flow": null,
       "grid_auto_rows": null,
       "grid_column": null,
       "grid_gap": null,
       "grid_row": null,
       "grid_template_areas": null,
       "grid_template_columns": null,
       "grid_template_rows": null,
       "height": null,
       "justify_content": null,
       "justify_items": null,
       "left": null,
       "margin": null,
       "max_height": null,
       "max_width": null,
       "min_height": null,
       "min_width": null,
       "object_fit": null,
       "object_position": null,
       "order": null,
       "overflow": null,
       "overflow_x": null,
       "overflow_y": null,
       "padding": null,
       "right": null,
       "top": null,
       "visibility": null,
       "width": null
      }
     },
     "3d94e9c9fdc04009a34e610d26ae4af4": {
      "model_module": "@jupyter-widgets/base",
      "model_module_version": "1.2.0",
      "model_name": "LayoutModel",
      "state": {
       "_model_module": "@jupyter-widgets/base",
       "_model_module_version": "1.2.0",
       "_model_name": "LayoutModel",
       "_view_count": null,
       "_view_module": "@jupyter-widgets/base",
       "_view_module_version": "1.2.0",
       "_view_name": "LayoutView",
       "align_content": null,
       "align_items": null,
       "align_self": null,
       "border": null,
       "bottom": null,
       "display": null,
       "flex": null,
       "flex_flow": null,
       "grid_area": null,
       "grid_auto_columns": null,
       "grid_auto_flow": null,
       "grid_auto_rows": null,
       "grid_column": null,
       "grid_gap": null,
       "grid_row": null,
       "grid_template_areas": null,
       "grid_template_columns": null,
       "grid_template_rows": null,
       "height": null,
       "justify_content": null,
       "justify_items": null,
       "left": null,
       "margin": null,
       "max_height": null,
       "max_width": null,
       "min_height": null,
       "min_width": null,
       "object_fit": null,
       "object_position": null,
       "order": null,
       "overflow": null,
       "overflow_x": null,
       "overflow_y": null,
       "padding": null,
       "right": null,
       "top": null,
       "visibility": null,
       "width": null
      }
     },
     "3e61071c11744a18a361b39cb34844b3": {
      "model_module": "@jupyter-widgets/controls",
      "model_module_version": "1.5.0",
      "model_name": "ProgressStyleModel",
      "state": {
       "_model_module": "@jupyter-widgets/controls",
       "_model_module_version": "1.5.0",
       "_model_name": "ProgressStyleModel",
       "_view_count": null,
       "_view_module": "@jupyter-widgets/base",
       "_view_module_version": "1.2.0",
       "_view_name": "StyleView",
       "bar_color": null,
       "description_width": ""
      }
     },
     "3fddde3500db4d8bb77feb59a13ed1da": {
      "model_module": "@jupyter-widgets/controls",
      "model_module_version": "1.5.0",
      "model_name": "HBoxModel",
      "state": {
       "_dom_classes": [],
       "_model_module": "@jupyter-widgets/controls",
       "_model_module_version": "1.5.0",
       "_model_name": "HBoxModel",
       "_view_count": null,
       "_view_module": "@jupyter-widgets/controls",
       "_view_module_version": "1.5.0",
       "_view_name": "HBoxView",
       "box_style": "",
       "children": [
        "IPY_MODEL_9e2f56d185a34caca3e133d1e07fea2c",
        "IPY_MODEL_fbb4bedb631f480bb560ea4939b78fbe",
        "IPY_MODEL_6c9c3279e60a4e0ba6c7231d106efe2a"
       ],
       "layout": "IPY_MODEL_e1b3deb6b70b441388cebe161b4aab2e"
      }
     },
     "572bf4fba9c54149bd8c990bf4fcc09e": {
      "model_module": "@jupyter-widgets/controls",
      "model_module_version": "1.5.0",
      "model_name": "DescriptionStyleModel",
      "state": {
       "_model_module": "@jupyter-widgets/controls",
       "_model_module_version": "1.5.0",
       "_model_name": "DescriptionStyleModel",
       "_view_count": null,
       "_view_module": "@jupyter-widgets/base",
       "_view_module_version": "1.2.0",
       "_view_name": "StyleView",
       "description_width": ""
      }
     },
     "5a01f29e13ab46209575d779dbedd720": {
      "model_module": "@jupyter-widgets/base",
      "model_module_version": "1.2.0",
      "model_name": "LayoutModel",
      "state": {
       "_model_module": "@jupyter-widgets/base",
       "_model_module_version": "1.2.0",
       "_model_name": "LayoutModel",
       "_view_count": null,
       "_view_module": "@jupyter-widgets/base",
       "_view_module_version": "1.2.0",
       "_view_name": "LayoutView",
       "align_content": null,
       "align_items": null,
       "align_self": null,
       "border": null,
       "bottom": null,
       "display": null,
       "flex": null,
       "flex_flow": null,
       "grid_area": null,
       "grid_auto_columns": null,
       "grid_auto_flow": null,
       "grid_auto_rows": null,
       "grid_column": null,
       "grid_gap": null,
       "grid_row": null,
       "grid_template_areas": null,
       "grid_template_columns": null,
       "grid_template_rows": null,
       "height": null,
       "justify_content": null,
       "justify_items": null,
       "left": null,
       "margin": null,
       "max_height": null,
       "max_width": null,
       "min_height": null,
       "min_width": null,
       "object_fit": null,
       "object_position": null,
       "order": null,
       "overflow": null,
       "overflow_x": null,
       "overflow_y": null,
       "padding": null,
       "right": null,
       "top": null,
       "visibility": null,
       "width": null
      }
     },
     "5b14866edf6e458983a6bd7a99bb24e8": {
      "model_module": "@jupyter-widgets/controls",
      "model_module_version": "1.5.0",
      "model_name": "HBoxModel",
      "state": {
       "_dom_classes": [],
       "_model_module": "@jupyter-widgets/controls",
       "_model_module_version": "1.5.0",
       "_model_name": "HBoxModel",
       "_view_count": null,
       "_view_module": "@jupyter-widgets/controls",
       "_view_module_version": "1.5.0",
       "_view_name": "HBoxView",
       "box_style": "",
       "children": [
        "IPY_MODEL_c72271d569b74a96affbb41e5319d151",
        "IPY_MODEL_74bac8f6b38f46d09152e2faf57ba3f5",
        "IPY_MODEL_9c28ad09188c4d79973e4f123a2aea5c"
       ],
       "layout": "IPY_MODEL_3d5586ed1fa34ae4b6ae97dee65b6d99"
      }
     },
     "5dba192ef8034563a417928557df882f": {
      "model_module": "@jupyter-widgets/controls",
      "model_module_version": "1.5.0",
      "model_name": "HBoxModel",
      "state": {
       "_dom_classes": [],
       "_model_module": "@jupyter-widgets/controls",
       "_model_module_version": "1.5.0",
       "_model_name": "HBoxModel",
       "_view_count": null,
       "_view_module": "@jupyter-widgets/controls",
       "_view_module_version": "1.5.0",
       "_view_name": "HBoxView",
       "box_style": "",
       "children": [
        "IPY_MODEL_02bf17ea4bb24b87b6ce761e5ecef679",
        "IPY_MODEL_21470b527cf84683a03dd16d84cce65b",
        "IPY_MODEL_e7d3e66c2db84b748b5a3431bd115763"
       ],
       "layout": "IPY_MODEL_3a01ed63c2724a728b1997f079649f21"
      }
     },
     "5eff2f3026fa4b82abbacc876344e7c8": {
      "model_module": "@jupyter-widgets/controls",
      "model_module_version": "1.5.0",
      "model_name": "HTMLModel",
      "state": {
       "_dom_classes": [],
       "_model_module": "@jupyter-widgets/controls",
       "_model_module_version": "1.5.0",
       "_model_name": "HTMLModel",
       "_view_count": null,
       "_view_module": "@jupyter-widgets/controls",
       "_view_module_version": "1.5.0",
       "_view_name": "HTMLView",
       "description": "",
       "description_tooltip": null,
       "layout": "IPY_MODEL_f7da5997bc0c42e98205124719d6d899",
       "placeholder": "​",
       "style": "IPY_MODEL_f9365f6a97174438b7449be4228fc976",
       "value": "Downloading: 100%"
      }
     },
     "5f484fb62eba4d32b18fb8aa79ab8cc7": {
      "model_module": "@jupyter-widgets/controls",
      "model_module_version": "1.5.0",
      "model_name": "ProgressStyleModel",
      "state": {
       "_model_module": "@jupyter-widgets/controls",
       "_model_module_version": "1.5.0",
       "_model_name": "ProgressStyleModel",
       "_view_count": null,
       "_view_module": "@jupyter-widgets/base",
       "_view_module_version": "1.2.0",
       "_view_name": "StyleView",
       "bar_color": null,
       "description_width": ""
      }
     },
     "63f1879718654777859760fda11dc719": {
      "model_module": "@jupyter-widgets/controls",
      "model_module_version": "1.5.0",
      "model_name": "DescriptionStyleModel",
      "state": {
       "_model_module": "@jupyter-widgets/controls",
       "_model_module_version": "1.5.0",
       "_model_name": "DescriptionStyleModel",
       "_view_count": null,
       "_view_module": "@jupyter-widgets/base",
       "_view_module_version": "1.2.0",
       "_view_name": "StyleView",
       "description_width": ""
      }
     },
     "685822c1c4d64995961dc6982beb4844": {
      "model_module": "@jupyter-widgets/controls",
      "model_module_version": "1.5.0",
      "model_name": "FloatProgressModel",
      "state": {
       "_dom_classes": [],
       "_model_module": "@jupyter-widgets/controls",
       "_model_module_version": "1.5.0",
       "_model_name": "FloatProgressModel",
       "_view_count": null,
       "_view_module": "@jupyter-widgets/controls",
       "_view_module_version": "1.5.0",
       "_view_name": "ProgressView",
       "bar_style": "success",
       "description": "",
       "description_tooltip": null,
       "layout": "IPY_MODEL_8c3ccb6e446b4de3aa1be0b95d5af558",
       "max": 1588.0,
       "min": 0.0,
       "orientation": "horizontal",
       "style": "IPY_MODEL_3e61071c11744a18a361b39cb34844b3",
       "value": 1588.0
      }
     },
     "6af47355f0a4427a8cca7e225eb82fb2": {
      "model_module": "@jupyter-widgets/controls",
      "model_module_version": "1.5.0",
      "model_name": "ProgressStyleModel",
      "state": {
       "_model_module": "@jupyter-widgets/controls",
       "_model_module_version": "1.5.0",
       "_model_name": "ProgressStyleModel",
       "_view_count": null,
       "_view_module": "@jupyter-widgets/base",
       "_view_module_version": "1.2.0",
       "_view_name": "StyleView",
       "bar_color": null,
       "description_width": ""
      }
     },
     "6c9c3279e60a4e0ba6c7231d106efe2a": {
      "model_module": "@jupyter-widgets/controls",
      "model_module_version": "1.5.0",
      "model_name": "HTMLModel",
      "state": {
       "_dom_classes": [],
       "_model_module": "@jupyter-widgets/controls",
       "_model_module_version": "1.5.0",
       "_model_name": "HTMLModel",
       "_view_count": null,
       "_view_module": "@jupyter-widgets/controls",
       "_view_module_version": "1.5.0",
       "_view_name": "HTMLView",
       "description": "",
       "description_tooltip": null,
       "layout": "IPY_MODEL_3a280454e56f43ac9fc3bc2706ae4772",
       "placeholder": "​",
       "style": "IPY_MODEL_10346273d1934aadbc1e8be411b33884",
       "value": " 305/305 [00:00&lt;00:00, 11.6kB/s]"
      }
     },
     "6f51495339d04a8994d67229687b1e87": {
      "model_module": "@jupyter-widgets/base",
      "model_module_version": "1.2.0",
      "model_name": "LayoutModel",
      "state": {
       "_model_module": "@jupyter-widgets/base",
       "_model_module_version": "1.2.0",
       "_model_name": "LayoutModel",
       "_view_count": null,
       "_view_module": "@jupyter-widgets/base",
       "_view_module_version": "1.2.0",
       "_view_name": "LayoutView",
       "align_content": null,
       "align_items": null,
       "align_self": null,
       "border": null,
       "bottom": null,
       "display": null,
       "flex": null,
       "flex_flow": null,
       "grid_area": null,
       "grid_auto_columns": null,
       "grid_auto_flow": null,
       "grid_auto_rows": null,
       "grid_column": null,
       "grid_gap": null,
       "grid_row": null,
       "grid_template_areas": null,
       "grid_template_columns": null,
       "grid_template_rows": null,
       "height": null,
       "justify_content": null,
       "justify_items": null,
       "left": null,
       "margin": null,
       "max_height": null,
       "max_width": null,
       "min_height": null,
       "min_width": null,
       "object_fit": null,
       "object_position": null,
       "order": null,
       "overflow": null,
       "overflow_x": null,
       "overflow_y": null,
       "padding": null,
       "right": null,
       "top": null,
       "visibility": null,
       "width": null
      }
     },
     "74bac8f6b38f46d09152e2faf57ba3f5": {
      "model_module": "@jupyter-widgets/controls",
      "model_module_version": "1.5.0",
      "model_name": "FloatProgressModel",
      "state": {
       "_dom_classes": [],
       "_model_module": "@jupyter-widgets/controls",
       "_model_module_version": "1.5.0",
       "_model_name": "FloatProgressModel",
       "_view_count": null,
       "_view_module": "@jupyter-widgets/controls",
       "_view_module_version": "1.5.0",
       "_view_name": "ProgressView",
       "bar_style": "success",
       "description": "",
       "description_tooltip": null,
       "layout": "IPY_MODEL_cffb71e3c40b40a2aad5c813d2f6f904",
       "max": 549350969.0,
       "min": 0.0,
       "orientation": "horizontal",
       "style": "IPY_MODEL_d42c93335497440685fb68d64c6c8160",
       "value": 549350969.0
      }
     },
     "806d778e45dd4db3906cd890668da614": {
      "model_module": "@jupyter-widgets/controls",
      "model_module_version": "1.5.0",
      "model_name": "ProgressStyleModel",
      "state": {
       "_model_module": "@jupyter-widgets/controls",
       "_model_module_version": "1.5.0",
       "_model_name": "ProgressStyleModel",
       "_view_count": null,
       "_view_module": "@jupyter-widgets/base",
       "_view_module_version": "1.2.0",
       "_view_name": "StyleView",
       "bar_color": null,
       "description_width": ""
      }
     },
     "83e1b86f60954fa98922a55914f5d185": {
      "model_module": "@jupyter-widgets/controls",
      "model_module_version": "1.5.0",
      "model_name": "HTMLModel",
      "state": {
       "_dom_classes": [],
       "_model_module": "@jupyter-widgets/controls",
       "_model_module_version": "1.5.0",
       "_model_name": "HTMLModel",
       "_view_count": null,
       "_view_module": "@jupyter-widgets/controls",
       "_view_module_version": "1.5.0",
       "_view_name": "HTMLView",
       "description": "",
       "description_tooltip": null,
       "layout": "IPY_MODEL_8dce7ae575b84f4fb5aa1426b419e4c5",
       "placeholder": "​",
       "style": "IPY_MODEL_572bf4fba9c54149bd8c990bf4fcc09e",
       "value": " 1.32M/1.32M [00:00&lt;00:00, 1.48MB/s]"
      }
     },
     "87b54bc8e3564488998a61b4763c82c3": {
      "model_module": "@jupyter-widgets/controls",
      "model_module_version": "1.5.0",
      "model_name": "DescriptionStyleModel",
      "state": {
       "_model_module": "@jupyter-widgets/controls",
       "_model_module_version": "1.5.0",
       "_model_name": "DescriptionStyleModel",
       "_view_count": null,
       "_view_module": "@jupyter-widgets/base",
       "_view_module_version": "1.2.0",
       "_view_name": "StyleView",
       "description_width": ""
      }
     },
     "8c3ccb6e446b4de3aa1be0b95d5af558": {
      "model_module": "@jupyter-widgets/base",
      "model_module_version": "1.2.0",
      "model_name": "LayoutModel",
      "state": {
       "_model_module": "@jupyter-widgets/base",
       "_model_module_version": "1.2.0",
       "_model_name": "LayoutModel",
       "_view_count": null,
       "_view_module": "@jupyter-widgets/base",
       "_view_module_version": "1.2.0",
       "_view_name": "LayoutView",
       "align_content": null,
       "align_items": null,
       "align_self": null,
       "border": null,
       "bottom": null,
       "display": null,
       "flex": null,
       "flex_flow": null,
       "grid_area": null,
       "grid_auto_columns": null,
       "grid_auto_flow": null,
       "grid_auto_rows": null,
       "grid_column": null,
       "grid_gap": null,
       "grid_row": null,
       "grid_template_areas": null,
       "grid_template_columns": null,
       "grid_template_rows": null,
       "height": null,
       "justify_content": null,
       "justify_items": null,
       "left": null,
       "margin": null,
       "max_height": null,
       "max_width": null,
       "min_height": null,
       "min_width": null,
       "object_fit": null,
       "object_position": null,
       "order": null,
       "overflow": null,
       "overflow_x": null,
       "overflow_y": null,
       "padding": null,
       "right": null,
       "top": null,
       "visibility": null,
       "width": null
      }
     },
     "8dce7ae575b84f4fb5aa1426b419e4c5": {
      "model_module": "@jupyter-widgets/base",
      "model_module_version": "1.2.0",
      "model_name": "LayoutModel",
      "state": {
       "_model_module": "@jupyter-widgets/base",
       "_model_module_version": "1.2.0",
       "_model_name": "LayoutModel",
       "_view_count": null,
       "_view_module": "@jupyter-widgets/base",
       "_view_module_version": "1.2.0",
       "_view_name": "LayoutView",
       "align_content": null,
       "align_items": null,
       "align_self": null,
       "border": null,
       "bottom": null,
       "display": null,
       "flex": null,
       "flex_flow": null,
       "grid_area": null,
       "grid_auto_columns": null,
       "grid_auto_flow": null,
       "grid_auto_rows": null,
       "grid_column": null,
       "grid_gap": null,
       "grid_row": null,
       "grid_template_areas": null,
       "grid_template_columns": null,
       "grid_template_rows": null,
       "height": null,
       "justify_content": null,
       "justify_items": null,
       "left": null,
       "margin": null,
       "max_height": null,
       "max_width": null,
       "min_height": null,
       "min_width": null,
       "object_fit": null,
       "object_position": null,
       "order": null,
       "overflow": null,
       "overflow_x": null,
       "overflow_y": null,
       "padding": null,
       "right": null,
       "top": null,
       "visibility": null,
       "width": null
      }
     },
     "9aaee020a5c948b0a91bc9983c18eda5": {
      "model_module": "@jupyter-widgets/base",
      "model_module_version": "1.2.0",
      "model_name": "LayoutModel",
      "state": {
       "_model_module": "@jupyter-widgets/base",
       "_model_module_version": "1.2.0",
       "_model_name": "LayoutModel",
       "_view_count": null,
       "_view_module": "@jupyter-widgets/base",
       "_view_module_version": "1.2.0",
       "_view_name": "LayoutView",
       "align_content": null,
       "align_items": null,
       "align_self": null,
       "border": null,
       "bottom": null,
       "display": null,
       "flex": null,
       "flex_flow": null,
       "grid_area": null,
       "grid_auto_columns": null,
       "grid_auto_flow": null,
       "grid_auto_rows": null,
       "grid_column": null,
       "grid_gap": null,
       "grid_row": null,
       "grid_template_areas": null,
       "grid_template_columns": null,
       "grid_template_rows": null,
       "height": null,
       "justify_content": null,
       "justify_items": null,
       "left": null,
       "margin": null,
       "max_height": null,
       "max_width": null,
       "min_height": null,
       "min_width": null,
       "object_fit": null,
       "object_position": null,
       "order": null,
       "overflow": null,
       "overflow_x": null,
       "overflow_y": null,
       "padding": null,
       "right": null,
       "top": null,
       "visibility": null,
       "width": null
      }
     },
     "9c28ad09188c4d79973e4f123a2aea5c": {
      "model_module": "@jupyter-widgets/controls",
      "model_module_version": "1.5.0",
      "model_name": "HTMLModel",
      "state": {
       "_dom_classes": [],
       "_model_module": "@jupyter-widgets/controls",
       "_model_module_version": "1.5.0",
       "_model_name": "HTMLModel",
       "_view_count": null,
       "_view_module": "@jupyter-widgets/controls",
       "_view_module_version": "1.5.0",
       "_view_name": "HTMLView",
       "description": "",
       "description_tooltip": null,
       "layout": "IPY_MODEL_c9dc7e062b1a4ed185dca6d9cae1eda7",
       "placeholder": "​",
       "style": "IPY_MODEL_d580162fb61249c9ae7c5fca61867025",
       "value": " 549M/549M [00:22&lt;00:00, 26.1MB/s]"
      }
     },
     "9e2f56d185a34caca3e133d1e07fea2c": {
      "model_module": "@jupyter-widgets/controls",
      "model_module_version": "1.5.0",
      "model_name": "HTMLModel",
      "state": {
       "_dom_classes": [],
       "_model_module": "@jupyter-widgets/controls",
       "_model_module_version": "1.5.0",
       "_model_name": "HTMLModel",
       "_view_count": null,
       "_view_module": "@jupyter-widgets/controls",
       "_view_module_version": "1.5.0",
       "_view_name": "HTMLView",
       "description": "",
       "description_tooltip": null,
       "layout": "IPY_MODEL_5a01f29e13ab46209575d779dbedd720",
       "placeholder": "​",
       "style": "IPY_MODEL_c07f436ee58c49e7aebadb4bd6042c0e",
       "value": "Downloading: 100%"
      }
     },
     "a0f6f094c8eb4126a4882494428ff22c": {
      "model_module": "@jupyter-widgets/controls",
      "model_module_version": "1.5.0",
      "model_name": "DescriptionStyleModel",
      "state": {
       "_model_module": "@jupyter-widgets/controls",
       "_model_module_version": "1.5.0",
       "_model_name": "DescriptionStyleModel",
       "_view_count": null,
       "_view_module": "@jupyter-widgets/base",
       "_view_module_version": "1.2.0",
       "_view_name": "StyleView",
       "description_width": ""
      }
     },
     "ad5024a4ca15478cb87b1060b6f47b37": {
      "model_module": "@jupyter-widgets/base",
      "model_module_version": "1.2.0",
      "model_name": "LayoutModel",
      "state": {
       "_model_module": "@jupyter-widgets/base",
       "_model_module_version": "1.2.0",
       "_model_name": "LayoutModel",
       "_view_count": null,
       "_view_module": "@jupyter-widgets/base",
       "_view_module_version": "1.2.0",
       "_view_name": "LayoutView",
       "align_content": null,
       "align_items": null,
       "align_self": null,
       "border": null,
       "bottom": null,
       "display": null,
       "flex": null,
       "flex_flow": null,
       "grid_area": null,
       "grid_auto_columns": null,
       "grid_auto_flow": null,
       "grid_auto_rows": null,
       "grid_column": null,
       "grid_gap": null,
       "grid_row": null,
       "grid_template_areas": null,
       "grid_template_columns": null,
       "grid_template_rows": null,
       "height": null,
       "justify_content": null,
       "justify_items": null,
       "left": null,
       "margin": null,
       "max_height": null,
       "max_width": null,
       "min_height": null,
       "min_width": null,
       "object_fit": null,
       "object_position": null,
       "order": null,
       "overflow": null,
       "overflow_x": null,
       "overflow_y": null,
       "padding": null,
       "right": null,
       "top": null,
       "visibility": null,
       "width": null
      }
     },
     "c07f436ee58c49e7aebadb4bd6042c0e": {
      "model_module": "@jupyter-widgets/controls",
      "model_module_version": "1.5.0",
      "model_name": "DescriptionStyleModel",
      "state": {
       "_model_module": "@jupyter-widgets/controls",
       "_model_module_version": "1.5.0",
       "_model_name": "DescriptionStyleModel",
       "_view_count": null,
       "_view_module": "@jupyter-widgets/base",
       "_view_module_version": "1.2.0",
       "_view_name": "StyleView",
       "description_width": ""
      }
     },
     "c72271d569b74a96affbb41e5319d151": {
      "model_module": "@jupyter-widgets/controls",
      "model_module_version": "1.5.0",
      "model_name": "HTMLModel",
      "state": {
       "_dom_classes": [],
       "_model_module": "@jupyter-widgets/controls",
       "_model_module_version": "1.5.0",
       "_model_name": "HTMLModel",
       "_view_count": null,
       "_view_module": "@jupyter-widgets/controls",
       "_view_module_version": "1.5.0",
       "_view_name": "HTMLView",
       "description": "",
       "description_tooltip": null,
       "layout": "IPY_MODEL_fce12d589e3c4f9e87dc7a4c29327bc8",
       "placeholder": "​",
       "style": "IPY_MODEL_a0f6f094c8eb4126a4882494428ff22c",
       "value": "Downloading: 100%"
      }
     },
     "c82d5614b9364a7eb1eb768fa7759460": {
      "model_module": "@jupyter-widgets/base",
      "model_module_version": "1.2.0",
      "model_name": "LayoutModel",
      "state": {
       "_model_module": "@jupyter-widgets/base",
       "_model_module_version": "1.2.0",
       "_model_name": "LayoutModel",
       "_view_count": null,
       "_view_module": "@jupyter-widgets/base",
       "_view_module_version": "1.2.0",
       "_view_name": "LayoutView",
       "align_content": null,
       "align_items": null,
       "align_self": null,
       "border": null,
       "bottom": null,
       "display": null,
       "flex": null,
       "flex_flow": null,
       "grid_area": null,
       "grid_auto_columns": null,
       "grid_auto_flow": null,
       "grid_auto_rows": null,
       "grid_column": null,
       "grid_gap": null,
       "grid_row": null,
       "grid_template_areas": null,
       "grid_template_columns": null,
       "grid_template_rows": null,
       "height": null,
       "justify_content": null,
       "justify_items": null,
       "left": null,
       "margin": null,
       "max_height": null,
       "max_width": null,
       "min_height": null,
       "min_width": null,
       "object_fit": null,
       "object_position": null,
       "order": null,
       "overflow": null,
       "overflow_x": null,
       "overflow_y": null,
       "padding": null,
       "right": null,
       "top": null,
       "visibility": null,
       "width": null
      }
     },
     "c94a9bf32c4a47e3b3a1afb3b7a086de": {
      "model_module": "@jupyter-widgets/controls",
      "model_module_version": "1.5.0",
      "model_name": "HTMLModel",
      "state": {
       "_dom_classes": [],
       "_model_module": "@jupyter-widgets/controls",
       "_model_module_version": "1.5.0",
       "_model_name": "HTMLModel",
       "_view_count": null,
       "_view_module": "@jupyter-widgets/controls",
       "_view_module_version": "1.5.0",
       "_view_name": "HTMLView",
       "description": "",
       "description_tooltip": null,
       "layout": "IPY_MODEL_2b3f879077d04c57ba2600918c3f4880",
       "placeholder": "​",
       "style": "IPY_MODEL_63f1879718654777859760fda11dc719",
       "value": " 582/582 [00:00&lt;00:00, 10.9kB/s]"
      }
     },
     "c9dc7e062b1a4ed185dca6d9cae1eda7": {
      "model_module": "@jupyter-widgets/base",
      "model_module_version": "1.2.0",
      "model_name": "LayoutModel",
      "state": {
       "_model_module": "@jupyter-widgets/base",
       "_model_module_version": "1.2.0",
       "_model_name": "LayoutModel",
       "_view_count": null,
       "_view_module": "@jupyter-widgets/base",
       "_view_module_version": "1.2.0",
       "_view_name": "LayoutView",
       "align_content": null,
       "align_items": null,
       "align_self": null,
       "border": null,
       "bottom": null,
       "display": null,
       "flex": null,
       "flex_flow": null,
       "grid_area": null,
       "grid_auto_columns": null,
       "grid_auto_flow": null,
       "grid_auto_rows": null,
       "grid_column": null,
       "grid_gap": null,
       "grid_row": null,
       "grid_template_areas": null,
       "grid_template_columns": null,
       "grid_template_rows": null,
       "height": null,
       "justify_content": null,
       "justify_items": null,
       "left": null,
       "margin": null,
       "max_height": null,
       "max_width": null,
       "min_height": null,
       "min_width": null,
       "object_fit": null,
       "object_position": null,
       "order": null,
       "overflow": null,
       "overflow_x": null,
       "overflow_y": null,
       "padding": null,
       "right": null,
       "top": null,
       "visibility": null,
       "width": null
      }
     },
     "ca2a49d8df6942a8a145d055af3a96e2": {
      "model_module": "@jupyter-widgets/controls",
      "model_module_version": "1.5.0",
      "model_name": "HBoxModel",
      "state": {
       "_dom_classes": [],
       "_model_module": "@jupyter-widgets/controls",
       "_model_module_version": "1.5.0",
       "_model_name": "HBoxModel",
       "_view_count": null,
       "_view_module": "@jupyter-widgets/controls",
       "_view_module_version": "1.5.0",
       "_view_name": "HBoxView",
       "box_style": "",
       "children": [
        "IPY_MODEL_5eff2f3026fa4b82abbacc876344e7c8",
        "IPY_MODEL_faa86bbe535f480ab6040e62768972cf",
        "IPY_MODEL_83e1b86f60954fa98922a55914f5d185"
       ],
       "layout": "IPY_MODEL_9aaee020a5c948b0a91bc9983c18eda5"
      }
     },
     "cffb71e3c40b40a2aad5c813d2f6f904": {
      "model_module": "@jupyter-widgets/base",
      "model_module_version": "1.2.0",
      "model_name": "LayoutModel",
      "state": {
       "_model_module": "@jupyter-widgets/base",
       "_model_module_version": "1.2.0",
       "_model_name": "LayoutModel",
       "_view_count": null,
       "_view_module": "@jupyter-widgets/base",
       "_view_module_version": "1.2.0",
       "_view_name": "LayoutView",
       "align_content": null,
       "align_items": null,
       "align_self": null,
       "border": null,
       "bottom": null,
       "display": null,
       "flex": null,
       "flex_flow": null,
       "grid_area": null,
       "grid_auto_columns": null,
       "grid_auto_flow": null,
       "grid_auto_rows": null,
       "grid_column": null,
       "grid_gap": null,
       "grid_row": null,
       "grid_template_areas": null,
       "grid_template_columns": null,
       "grid_template_rows": null,
       "height": null,
       "justify_content": null,
       "justify_items": null,
       "left": null,
       "margin": null,
       "max_height": null,
       "max_width": null,
       "min_height": null,
       "min_width": null,
       "object_fit": null,
       "object_position": null,
       "order": null,
       "overflow": null,
       "overflow_x": null,
       "overflow_y": null,
       "padding": null,
       "right": null,
       "top": null,
       "visibility": null,
       "width": null
      }
     },
     "d42c93335497440685fb68d64c6c8160": {
      "model_module": "@jupyter-widgets/controls",
      "model_module_version": "1.5.0",
      "model_name": "ProgressStyleModel",
      "state": {
       "_model_module": "@jupyter-widgets/controls",
       "_model_module_version": "1.5.0",
       "_model_name": "ProgressStyleModel",
       "_view_count": null,
       "_view_module": "@jupyter-widgets/base",
       "_view_module_version": "1.2.0",
       "_view_name": "StyleView",
       "bar_color": null,
       "description_width": ""
      }
     },
     "d580162fb61249c9ae7c5fca61867025": {
      "model_module": "@jupyter-widgets/controls",
      "model_module_version": "1.5.0",
      "model_name": "DescriptionStyleModel",
      "state": {
       "_model_module": "@jupyter-widgets/controls",
       "_model_module_version": "1.5.0",
       "_model_name": "DescriptionStyleModel",
       "_view_count": null,
       "_view_module": "@jupyter-widgets/base",
       "_view_module_version": "1.2.0",
       "_view_name": "StyleView",
       "description_width": ""
      }
     },
     "dad4c54082c745b49bd29026db9cbf88": {
      "model_module": "@jupyter-widgets/controls",
      "model_module_version": "1.5.0",
      "model_name": "HTMLModel",
      "state": {
       "_dom_classes": [],
       "_model_module": "@jupyter-widgets/controls",
       "_model_module_version": "1.5.0",
       "_model_name": "HTMLModel",
       "_view_count": null,
       "_view_module": "@jupyter-widgets/controls",
       "_view_module_version": "1.5.0",
       "_view_name": "HTMLView",
       "description": "",
       "description_tooltip": null,
       "layout": "IPY_MODEL_3d94e9c9fdc04009a34e610d26ae4af4",
       "placeholder": "​",
       "style": "IPY_MODEL_28a62ac470634d6d970e5ff8b49b1706",
       "value": "Downloading: 100%"
      }
     },
     "e1b3deb6b70b441388cebe161b4aab2e": {
      "model_module": "@jupyter-widgets/base",
      "model_module_version": "1.2.0",
      "model_name": "LayoutModel",
      "state": {
       "_model_module": "@jupyter-widgets/base",
       "_model_module_version": "1.2.0",
       "_model_name": "LayoutModel",
       "_view_count": null,
       "_view_module": "@jupyter-widgets/base",
       "_view_module_version": "1.2.0",
       "_view_name": "LayoutView",
       "align_content": null,
       "align_items": null,
       "align_self": null,
       "border": null,
       "bottom": null,
       "display": null,
       "flex": null,
       "flex_flow": null,
       "grid_area": null,
       "grid_auto_columns": null,
       "grid_auto_flow": null,
       "grid_auto_rows": null,
       "grid_column": null,
       "grid_gap": null,
       "grid_row": null,
       "grid_template_areas": null,
       "grid_template_columns": null,
       "grid_template_rows": null,
       "height": null,
       "justify_content": null,
       "justify_items": null,
       "left": null,
       "margin": null,
       "max_height": null,
       "max_width": null,
       "min_height": null,
       "min_width": null,
       "object_fit": null,
       "object_position": null,
       "order": null,
       "overflow": null,
       "overflow_x": null,
       "overflow_y": null,
       "padding": null,
       "right": null,
       "top": null,
       "visibility": null,
       "width": null
      }
     },
     "e7d3e66c2db84b748b5a3431bd115763": {
      "model_module": "@jupyter-widgets/controls",
      "model_module_version": "1.5.0",
      "model_name": "HTMLModel",
      "state": {
       "_dom_classes": [],
       "_model_module": "@jupyter-widgets/controls",
       "_model_module_version": "1.5.0",
       "_model_name": "HTMLModel",
       "_view_count": null,
       "_view_module": "@jupyter-widgets/controls",
       "_view_module_version": "1.5.0",
       "_view_name": "HTMLView",
       "description": "",
       "description_tooltip": null,
       "layout": "IPY_MODEL_ee9e08b452c6424d80a531e97b37fcf8",
       "placeholder": "​",
       "style": "IPY_MODEL_f0a8a9b756f64600bd5907e2ebe2e89f",
       "value": " 598k/598k [00:00&lt;00:00, 804kB/s]"
      }
     },
     "e9e34bf5619d40d498e8592ac6be37e6": {
      "model_module": "@jupyter-widgets/controls",
      "model_module_version": "1.5.0",
      "model_name": "ProgressStyleModel",
      "state": {
       "_model_module": "@jupyter-widgets/controls",
       "_model_module_version": "1.5.0",
       "_model_name": "ProgressStyleModel",
       "_view_count": null,
       "_view_module": "@jupyter-widgets/base",
       "_view_module_version": "1.2.0",
       "_view_name": "StyleView",
       "bar_color": null,
       "description_width": ""
      }
     },
     "ee9e08b452c6424d80a531e97b37fcf8": {
      "model_module": "@jupyter-widgets/base",
      "model_module_version": "1.2.0",
      "model_name": "LayoutModel",
      "state": {
       "_model_module": "@jupyter-widgets/base",
       "_model_module_version": "1.2.0",
       "_model_name": "LayoutModel",
       "_view_count": null,
       "_view_module": "@jupyter-widgets/base",
       "_view_module_version": "1.2.0",
       "_view_name": "LayoutView",
       "align_content": null,
       "align_items": null,
       "align_self": null,
       "border": null,
       "bottom": null,
       "display": null,
       "flex": null,
       "flex_flow": null,
       "grid_area": null,
       "grid_auto_columns": null,
       "grid_auto_flow": null,
       "grid_auto_rows": null,
       "grid_column": null,
       "grid_gap": null,
       "grid_row": null,
       "grid_template_areas": null,
       "grid_template_columns": null,
       "grid_template_rows": null,
       "height": null,
       "justify_content": null,
       "justify_items": null,
       "left": null,
       "margin": null,
       "max_height": null,
       "max_width": null,
       "min_height": null,
       "min_width": null,
       "object_fit": null,
       "object_position": null,
       "order": null,
       "overflow": null,
       "overflow_x": null,
       "overflow_y": null,
       "padding": null,
       "right": null,
       "top": null,
       "visibility": null,
       "width": null
      }
     },
     "f0a8a9b756f64600bd5907e2ebe2e89f": {
      "model_module": "@jupyter-widgets/controls",
      "model_module_version": "1.5.0",
      "model_name": "DescriptionStyleModel",
      "state": {
       "_model_module": "@jupyter-widgets/controls",
       "_model_module_version": "1.5.0",
       "_model_name": "DescriptionStyleModel",
       "_view_count": null,
       "_view_module": "@jupyter-widgets/base",
       "_view_module_version": "1.2.0",
       "_view_name": "StyleView",
       "description_width": ""
      }
     },
     "f1388c68577f454ab0a167b48e530b81": {
      "model_module": "@jupyter-widgets/base",
      "model_module_version": "1.2.0",
      "model_name": "LayoutModel",
      "state": {
       "_model_module": "@jupyter-widgets/base",
       "_model_module_version": "1.2.0",
       "_model_name": "LayoutModel",
       "_view_count": null,
       "_view_module": "@jupyter-widgets/base",
       "_view_module_version": "1.2.0",
       "_view_name": "LayoutView",
       "align_content": null,
       "align_items": null,
       "align_self": null,
       "border": null,
       "bottom": null,
       "display": null,
       "flex": null,
       "flex_flow": null,
       "grid_area": null,
       "grid_auto_columns": null,
       "grid_auto_flow": null,
       "grid_auto_rows": null,
       "grid_column": null,
       "grid_gap": null,
       "grid_row": null,
       "grid_template_areas": null,
       "grid_template_columns": null,
       "grid_template_rows": null,
       "height": null,
       "justify_content": null,
       "justify_items": null,
       "left": null,
       "margin": null,
       "max_height": null,
       "max_width": null,
       "min_height": null,
       "min_width": null,
       "object_fit": null,
       "object_position": null,
       "order": null,
       "overflow": null,
       "overflow_x": null,
       "overflow_y": null,
       "padding": null,
       "right": null,
       "top": null,
       "visibility": null,
       "width": null
      }
     },
     "f7da5997bc0c42e98205124719d6d899": {
      "model_module": "@jupyter-widgets/base",
      "model_module_version": "1.2.0",
      "model_name": "LayoutModel",
      "state": {
       "_model_module": "@jupyter-widgets/base",
       "_model_module_version": "1.2.0",
       "_model_name": "LayoutModel",
       "_view_count": null,
       "_view_module": "@jupyter-widgets/base",
       "_view_module_version": "1.2.0",
       "_view_name": "LayoutView",
       "align_content": null,
       "align_items": null,
       "align_self": null,
       "border": null,
       "bottom": null,
       "display": null,
       "flex": null,
       "flex_flow": null,
       "grid_area": null,
       "grid_auto_columns": null,
       "grid_auto_flow": null,
       "grid_auto_rows": null,
       "grid_column": null,
       "grid_gap": null,
       "grid_row": null,
       "grid_template_areas": null,
       "grid_template_columns": null,
       "grid_template_rows": null,
       "height": null,
       "justify_content": null,
       "justify_items": null,
       "left": null,
       "margin": null,
       "max_height": null,
       "max_width": null,
       "min_height": null,
       "min_width": null,
       "object_fit": null,
       "object_position": null,
       "order": null,
       "overflow": null,
       "overflow_x": null,
       "overflow_y": null,
       "padding": null,
       "right": null,
       "top": null,
       "visibility": null,
       "width": null
      }
     },
     "f9365f6a97174438b7449be4228fc976": {
      "model_module": "@jupyter-widgets/controls",
      "model_module_version": "1.5.0",
      "model_name": "DescriptionStyleModel",
      "state": {
       "_model_module": "@jupyter-widgets/controls",
       "_model_module_version": "1.5.0",
       "_model_name": "DescriptionStyleModel",
       "_view_count": null,
       "_view_module": "@jupyter-widgets/base",
       "_view_module_version": "1.2.0",
       "_view_name": "StyleView",
       "description_width": ""
      }
     },
     "faa86bbe535f480ab6040e62768972cf": {
      "model_module": "@jupyter-widgets/controls",
      "model_module_version": "1.5.0",
      "model_name": "FloatProgressModel",
      "state": {
       "_dom_classes": [],
       "_model_module": "@jupyter-widgets/controls",
       "_model_module_version": "1.5.0",
       "_model_name": "FloatProgressModel",
       "_view_count": null,
       "_view_module": "@jupyter-widgets/controls",
       "_view_module_version": "1.5.0",
       "_view_name": "ProgressView",
       "bar_style": "success",
       "description": "",
       "description_tooltip": null,
       "layout": "IPY_MODEL_c82d5614b9364a7eb1eb768fa7759460",
       "max": 1317096.0,
       "min": 0.0,
       "orientation": "horizontal",
       "style": "IPY_MODEL_6af47355f0a4427a8cca7e225eb82fb2",
       "value": 1317096.0
      }
     },
     "fbb4bedb631f480bb560ea4939b78fbe": {
      "model_module": "@jupyter-widgets/controls",
      "model_module_version": "1.5.0",
      "model_name": "FloatProgressModel",
      "state": {
       "_dom_classes": [],
       "_model_module": "@jupyter-widgets/controls",
       "_model_module_version": "1.5.0",
       "_model_name": "FloatProgressModel",
       "_view_count": null,
       "_view_module": "@jupyter-widgets/controls",
       "_view_module_version": "1.5.0",
       "_view_name": "ProgressView",
       "bar_style": "success",
       "description": "",
       "description_tooltip": null,
       "layout": "IPY_MODEL_36f49416e3aa4183be180c9bd9549eb4",
       "max": 305.0,
       "min": 0.0,
       "orientation": "horizontal",
       "style": "IPY_MODEL_806d778e45dd4db3906cd890668da614",
       "value": 305.0
      }
     },
     "fce12d589e3c4f9e87dc7a4c29327bc8": {
      "model_module": "@jupyter-widgets/base",
      "model_module_version": "1.2.0",
      "model_name": "LayoutModel",
      "state": {
       "_model_module": "@jupyter-widgets/base",
       "_model_module_version": "1.2.0",
       "_model_name": "LayoutModel",
       "_view_count": null,
       "_view_module": "@jupyter-widgets/base",
       "_view_module_version": "1.2.0",
       "_view_name": "LayoutView",
       "align_content": null,
       "align_items": null,
       "align_self": null,
       "border": null,
       "bottom": null,
       "display": null,
       "flex": null,
       "flex_flow": null,
       "grid_area": null,
       "grid_auto_columns": null,
       "grid_auto_flow": null,
       "grid_auto_rows": null,
       "grid_column": null,
       "grid_gap": null,
       "grid_row": null,
       "grid_template_areas": null,
       "grid_template_columns": null,
       "grid_template_rows": null,
       "height": null,
       "justify_content": null,
       "justify_items": null,
       "left": null,
       "margin": null,
       "max_height": null,
       "max_width": null,
       "min_height": null,
       "min_width": null,
       "object_fit": null,
       "object_position": null,
       "order": null,
       "overflow": null,
       "overflow_x": null,
       "overflow_y": null,
       "padding": null,
       "right": null,
       "top": null,
       "visibility": null,
       "width": null
      }
     }
    },
    "version_major": 2,
    "version_minor": 0
   }
  }
 },
 "nbformat": 4,
 "nbformat_minor": 5
}
