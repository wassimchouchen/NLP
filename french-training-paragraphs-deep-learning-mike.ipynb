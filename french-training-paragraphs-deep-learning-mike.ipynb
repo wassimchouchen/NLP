{
 "cells": [
  {
   "cell_type": "code",
   "execution_count": 1,
   "id": "6ec4b47e",
   "metadata": {
    "_cell_guid": "b1076dfc-b9ad-4769-8c92-a6c4dae69d19",
    "_uuid": "8f2839f25d086af736a60e9eeb907d3b93b6e0e5",
    "execution": {
     "iopub.execute_input": "2022-07-28T09:39:19.630153Z",
     "iopub.status.busy": "2022-07-28T09:39:19.629079Z",
     "iopub.status.idle": "2022-07-28T09:39:28.880274Z",
     "shell.execute_reply": "2022-07-28T09:39:28.879539Z",
     "shell.execute_reply.started": "2022-07-28T09:30:02.666920Z"
    },
    "papermill": {
     "duration": 9.294311,
     "end_time": "2022-07-28T09:39:28.880486",
     "exception": false,
     "start_time": "2022-07-28T09:39:19.586175",
     "status": "completed"
    },
    "tags": []
   },
   "outputs": [],
   "source": [
    "import os\n",
    "\n",
    "import random\n",
    "import numpy as np\n",
    "\n",
    "import pandas as pd\n",
    "import torch\n",
    "from torch.utils.data import Dataset, random_split\n",
    "from transformers import (\n",
    "    AdamW,\n",
    "    Trainer,\n",
    "    TrainingArguments,\n",
    "    AutoTokenizer,\n",
    "    AutoModelForSequenceClassification,\n",
    "    get_cosine_schedule_with_warmup,\n",
    ")\n",
    "from sklearn.preprocessing import LabelEncoder\n",
    "from sklearn.metrics import accuracy_score"
   ]
  },
  {
   "cell_type": "code",
   "execution_count": 2,
   "id": "ab349359",
   "metadata": {
    "execution": {
     "iopub.execute_input": "2022-07-28T09:39:28.949565Z",
     "iopub.status.busy": "2022-07-28T09:39:28.948584Z",
     "iopub.status.idle": "2022-07-28T09:39:33.498656Z",
     "shell.execute_reply": "2022-07-28T09:39:33.499175Z",
     "shell.execute_reply.started": "2022-07-28T09:30:10.768147Z"
    },
    "papermill": {
     "duration": 4.585084,
     "end_time": "2022-07-28T09:39:33.499345",
     "exception": false,
     "start_time": "2022-07-28T09:39:28.914261",
     "status": "completed"
    },
    "tags": []
   },
   "outputs": [
    {
     "data": {
      "application/vnd.jupyter.widget-view+json": {
       "model_id": "ea39cf24f6804435bf7c95685acac86a",
       "version_major": 2,
       "version_minor": 0
      },
      "text/plain": [
       "Downloading:   0%|          | 0.00/420 [00:00<?, ?B/s]"
      ]
     },
     "metadata": {},
     "output_type": "display_data"
    },
    {
     "data": {
      "application/vnd.jupyter.widget-view+json": {
       "model_id": "4db4b706dae3447799b1e61e26b4299b",
       "version_major": 2,
       "version_minor": 0
      },
      "text/plain": [
       "Downloading:   0%|          | 0.00/227k [00:00<?, ?B/s]"
      ]
     },
     "metadata": {},
     "output_type": "display_data"
    },
    {
     "data": {
      "application/vnd.jupyter.widget-view+json": {
       "model_id": "c4e43e5c1e1e4569a818cf675830d720",
       "version_major": 2,
       "version_minor": 0
      },
      "text/plain": [
       "Downloading:   0%|          | 0.00/83.0 [00:00<?, ?B/s]"
      ]
     },
     "metadata": {},
     "output_type": "display_data"
    }
   ],
   "source": [
    "model_name = \"dbmdz/bert-base-french-europeana-cased\"\n",
    "\n",
    "tokenizer = AutoTokenizer.from_pretrained(model_name)\n",
    "\n",
    "device = torch.device(\"cuda\" if torch.cuda.is_available() else \"cpu\")"
   ]
  },
  {
   "cell_type": "code",
   "execution_count": 3,
   "id": "61f8e5c2",
   "metadata": {
    "execution": {
     "iopub.execute_input": "2022-07-28T09:39:33.568794Z",
     "iopub.status.busy": "2022-07-28T09:39:33.567847Z",
     "iopub.status.idle": "2022-07-28T09:39:33.570398Z",
     "shell.execute_reply": "2022-07-28T09:39:33.570945Z",
     "shell.execute_reply.started": "2022-07-28T09:30:14.301011Z"
    },
    "papermill": {
     "duration": 0.039825,
     "end_time": "2022-07-28T09:39:33.571140",
     "exception": false,
     "start_time": "2022-07-28T09:39:33.531315",
     "status": "completed"
    },
    "tags": []
   },
   "outputs": [],
   "source": [
    "lr = 2e-5\n",
    "epochs =  6\n",
    "batch_size = 5\n",
    "max_seq_len = 75\n",
    "\n",
    "test_frac = 0.1"
   ]
  },
  {
   "cell_type": "code",
   "execution_count": 4,
   "id": "407c0dab",
   "metadata": {
    "execution": {
     "iopub.execute_input": "2022-07-28T09:39:33.637641Z",
     "iopub.status.busy": "2022-07-28T09:39:33.636547Z",
     "iopub.status.idle": "2022-07-28T09:39:33.646140Z",
     "shell.execute_reply": "2022-07-28T09:39:33.645524Z",
     "shell.execute_reply.started": "2022-07-28T09:30:14.308624Z"
    },
    "papermill": {
     "duration": 0.04352,
     "end_time": "2022-07-28T09:39:33.646285",
     "exception": false,
     "start_time": "2022-07-28T09:39:33.602765",
     "status": "completed"
    },
    "tags": []
   },
   "outputs": [],
   "source": [
    "import os\n",
    "\n",
    "def set_seed(seed=106052):\n",
    "    \"\"\"Set seed for reproducibility.\n",
    "    \"\"\"\n",
    "    random.seed(seed)\n",
    "    np.random.seed(seed)\n",
    "    torch.manual_seed(seed)\n",
    "    torch.cuda.manual_seed_all(seed)\n",
    "    \n",
    "    os.environ['PYTHONHASHSEED'] = str(seed)\n",
    "    \n",
    "set_seed()"
   ]
  },
  {
   "cell_type": "code",
   "execution_count": 5,
   "id": "6bad7592",
   "metadata": {
    "execution": {
     "iopub.execute_input": "2022-07-28T09:39:33.713963Z",
     "iopub.status.busy": "2022-07-28T09:39:33.712868Z",
     "iopub.status.idle": "2022-07-28T09:39:33.722950Z",
     "shell.execute_reply": "2022-07-28T09:39:33.722359Z",
     "shell.execute_reply.started": "2022-07-28T09:30:14.320153Z"
    },
    "papermill": {
     "duration": 0.045034,
     "end_time": "2022-07-28T09:39:33.723074",
     "exception": false,
     "start_time": "2022-07-28T09:39:33.678040",
     "status": "completed"
    },
    "tags": []
   },
   "outputs": [],
   "source": [
    "class CEFRDataset(Dataset):\n",
    "    \"\"\"Classification dataset, built on top of pytorch dataset object\n",
    "    \"\"\"\n",
    "    \n",
    "    def __init__(self, texts, labels):\n",
    "        \n",
    "        self.encoder = LabelEncoder()\n",
    "        print(self.encoder.__dict__)\n",
    "        self.texts = texts\n",
    "        self.labels = self.encoder.fit_transform(labels)\n",
    "\n",
    "    def __len__(self):\n",
    "        return len(self.texts)\n",
    "\n",
    "    def __getitem__(self, index):\n",
    "        text = self.texts[index]\n",
    "        label = self.labels[index]\n",
    "        encoded_text = tokenizer(\n",
    "            text,\n",
    "            padding=\"max_length\",\n",
    "            max_length=max_seq_len,\n",
    "            truncation=True,\n",
    "            return_tensors=\"pt\",\n",
    "        )\n",
    "        encoded_text[\"input_ids\"] = encoded_text[\"input_ids\"].squeeze()\n",
    "        encoded_text[\"attention_mask\"] = encoded_text[\"attention_mask\"].squeeze()\n",
    "        label = torch.tensor(label)\n",
    "\n",
    "        return {\n",
    "            \"input_ids\": encoded_text[\"input_ids\"],\n",
    "            \"attention_mask\": encoded_text[\"attention_mask\"],\n",
    "            \"labels\": label,\n",
    "        }\n",
    "\n",
    "    def get_labels(self):\n",
    "        return self.labels"
   ]
  },
  {
   "cell_type": "code",
   "execution_count": 6,
   "id": "ad2914a7",
   "metadata": {
    "execution": {
     "iopub.execute_input": "2022-07-28T09:39:33.795276Z",
     "iopub.status.busy": "2022-07-28T09:39:33.794399Z",
     "iopub.status.idle": "2022-07-28T09:39:33.797638Z",
     "shell.execute_reply": "2022-07-28T09:39:33.797137Z",
     "shell.execute_reply.started": "2022-07-28T09:30:14.332655Z"
    },
    "papermill": {
     "duration": 0.042071,
     "end_time": "2022-07-28T09:39:33.797775",
     "exception": false,
     "start_time": "2022-07-28T09:39:33.755704",
     "status": "completed"
    },
    "tags": []
   },
   "outputs": [],
   "source": [
    "def train(train_set, valid_set, epochs=10, warmup_size=0.1, lr=1e-3, batch_size=16):\n",
    "    model = get_model(model_name)\n",
    "    optim = AdamW(model.parameters(), lr=lr)\n",
    "    scheduler = get_scheduler(\n",
    "        optim, warmup_size, round(len(train_set) / batch_size * epochs)\n",
    "    )\n",
    "    training_args = get_training_args(epochs, batch_size)\n",
    "    trainer = Trainer(\n",
    "        model=model,\n",
    "        args=training_args,\n",
    "        train_dataset=train_set,\n",
    "        eval_dataset=valid_set,\n",
    "        optimizers=[optim, scheduler],\n",
    "        compute_metrics=compute_accuracy,\n",
    "    )\n",
    "    trainer.train()\n",
    "    trainer.save_model()\n",
    "    return trainer"
   ]
  },
  {
   "cell_type": "code",
   "execution_count": 7,
   "id": "1a50fc03",
   "metadata": {
    "execution": {
     "iopub.execute_input": "2022-07-28T09:39:33.866289Z",
     "iopub.status.busy": "2022-07-28T09:39:33.865352Z",
     "iopub.status.idle": "2022-07-28T09:39:33.868194Z",
     "shell.execute_reply": "2022-07-28T09:39:33.868743Z",
     "shell.execute_reply.started": "2022-07-28T09:30:14.343436Z"
    },
    "papermill": {
     "duration": 0.039334,
     "end_time": "2022-07-28T09:39:33.868874",
     "exception": false,
     "start_time": "2022-07-28T09:39:33.829540",
     "status": "completed"
    },
    "tags": []
   },
   "outputs": [],
   "source": [
    "def get_model(pretrained_checkpoint):\n",
    "    model = AutoModelForSequenceClassification.from_pretrained(\n",
    "        pretrained_checkpoint, num_labels=6\n",
    "    )\n",
    "    return model.to(device)"
   ]
  },
  {
   "cell_type": "code",
   "execution_count": 8,
   "id": "866c0a0b",
   "metadata": {
    "execution": {
     "iopub.execute_input": "2022-07-28T09:39:33.943686Z",
     "iopub.status.busy": "2022-07-28T09:39:33.942761Z",
     "iopub.status.idle": "2022-07-28T09:39:33.945490Z",
     "shell.execute_reply": "2022-07-28T09:39:33.946218Z",
     "shell.execute_reply.started": "2022-07-28T09:30:14.355571Z"
    },
    "papermill": {
     "duration": 0.044919,
     "end_time": "2022-07-28T09:39:33.946359",
     "exception": false,
     "start_time": "2022-07-28T09:39:33.901440",
     "status": "completed"
    },
    "tags": []
   },
   "outputs": [],
   "source": [
    "os.environ[\"WANDB_DISABLED\"] = \"true\"\n",
    "\n",
    "\n",
    "def get_scheduler(optimizer, warmup_size, total_steps):\n",
    "    scheduler = get_cosine_schedule_with_warmup(\n",
    "        optimizer,\n",
    "        num_warmup_steps=round(total_steps * warmup_size),\n",
    "        num_training_steps=total_steps,\n",
    "    )\n",
    "    return scheduler\n",
    "\n",
    "\n",
    "def get_training_args(epochs, batch_size):\n",
    "    return TrainingArguments(\n",
    "        output_dir=\"./b\",\n",
    "        num_train_epochs=epochs,\n",
    "        per_device_train_batch_size=batch_size,\n",
    "        logging_steps=50,\n",
    "        fp16=False,\n",
    "        evaluation_strategy=\"epoch\",\n",
    "        eval_accumulation_steps=1,\n",
    "        report_to=None,\n",
    "        save_total_limit=1,\n",
    "        load_best_model_at_end=True\n",
    "    )\n",
    "\n",
    "\n",
    "def compute_accuracy(pred):\n",
    "    labels = pred.label_ids\n",
    "    preds = pred.predictions.argmax(-1)\n",
    "    acc = accuracy_score(labels, preds)\n",
    "    return {\"accuracy\": acc}\n",
    "\n"
   ]
  },
  {
   "cell_type": "code",
   "execution_count": 9,
   "id": "b0e877d4",
   "metadata": {
    "execution": {
     "iopub.execute_input": "2022-07-28T09:39:34.015994Z",
     "iopub.status.busy": "2022-07-28T09:39:34.014929Z",
     "iopub.status.idle": "2022-07-28T09:39:34.017298Z",
     "shell.execute_reply": "2022-07-28T09:39:34.017862Z",
     "shell.execute_reply.started": "2022-07-28T09:30:14.366050Z"
    },
    "papermill": {
     "duration": 0.03962,
     "end_time": "2022-07-28T09:39:34.018030",
     "exception": false,
     "start_time": "2022-07-28T09:39:33.978410",
     "status": "completed"
    },
    "tags": []
   },
   "outputs": [],
   "source": [
    "lr = 2e-5\n",
    "epochs =  7\n",
    "batch_size = 8\n",
    "max_seq_len = 512"
   ]
  },
  {
   "cell_type": "code",
   "execution_count": 10,
   "id": "bb0876af",
   "metadata": {
    "execution": {
     "iopub.execute_input": "2022-07-28T09:39:34.084896Z",
     "iopub.status.busy": "2022-07-28T09:39:34.083908Z",
     "iopub.status.idle": "2022-07-28T09:39:34.091087Z",
     "shell.execute_reply": "2022-07-28T09:39:34.090515Z",
     "shell.execute_reply.started": "2022-07-28T09:30:14.378324Z"
    },
    "papermill": {
     "duration": 0.041039,
     "end_time": "2022-07-28T09:39:34.091208",
     "exception": false,
     "start_time": "2022-07-28T09:39:34.050169",
     "status": "completed"
    },
    "tags": []
   },
   "outputs": [],
   "source": [
    "def split_valid(df, frac=0.01):\n",
    "    \n",
    "    val = pd.DataFrame()\n",
    "    val[\"text\"] = \"\"\n",
    "    val[\"label\"] = -1\n",
    "    \n",
    "    for i in df.label.unique():\n",
    "        val = pd.concat([val, df[df.label == i].sample(frac=frac)])\n",
    "        \n",
    "    return df[~df.index.isin(val.index)].reset_index(drop=True) , val.reset_index(drop=True)"
   ]
  },
  {
   "cell_type": "code",
   "execution_count": 11,
   "id": "b68aa4a0",
   "metadata": {
    "execution": {
     "iopub.execute_input": "2022-07-28T09:39:34.163101Z",
     "iopub.status.busy": "2022-07-28T09:39:34.162340Z",
     "iopub.status.idle": "2022-07-28T09:39:34.196149Z",
     "shell.execute_reply": "2022-07-28T09:39:34.195239Z",
     "shell.execute_reply.started": "2022-07-28T09:30:14.387496Z"
    },
    "papermill": {
     "duration": 0.072494,
     "end_time": "2022-07-28T09:39:34.196271",
     "exception": false,
     "start_time": "2022-07-28T09:39:34.123777",
     "status": "completed"
    },
    "tags": []
   },
   "outputs": [],
   "source": [
    "train_set_df = pd.read_csv(\"../input/fr-cerfr/dataset_to_be_annotated_-_dataset_to_be_annotated.csv\")\n",
    "train_set_df.drop(\"Unnamed: 3\", axis=1, inplace=True)\n",
    "train_set_df = train_set_df[pd.notnull(train_set_df['cefr'])]\n",
    "train_set_df = train_set_df.reset_index(drop=True)\n",
    "train_set_df.columns=[\"text\",\"lens\",\"label\"]\n",
    "train_set_df = train_set_df[train_set_df.label != \"-\"]\n",
    "train_set_df = train_set_df[[\"text\", \"label\"]]"
   ]
  },
  {
   "cell_type": "code",
   "execution_count": 12,
   "id": "7adab5cf",
   "metadata": {
    "execution": {
     "iopub.execute_input": "2022-07-28T09:39:34.266410Z",
     "iopub.status.busy": "2022-07-28T09:39:34.265683Z",
     "iopub.status.idle": "2022-07-28T09:39:34.288916Z",
     "shell.execute_reply": "2022-07-28T09:39:34.288359Z",
     "shell.execute_reply.started": "2022-07-28T09:30:14.422334Z"
    },
    "papermill": {
     "duration": 0.059963,
     "end_time": "2022-07-28T09:39:34.289038",
     "exception": false,
     "start_time": "2022-07-28T09:39:34.229075",
     "status": "completed"
    },
    "tags": []
   },
   "outputs": [],
   "source": [
    "A1_A2=pd.read_csv(\"../input/a1-a2-ex/A1_A2_tran.csv\")"
   ]
  },
  {
   "cell_type": "code",
   "execution_count": 13,
   "id": "94bc157b",
   "metadata": {
    "execution": {
     "iopub.execute_input": "2022-07-28T09:39:34.359514Z",
     "iopub.status.busy": "2022-07-28T09:39:34.358717Z",
     "iopub.status.idle": "2022-07-28T09:39:34.362038Z",
     "shell.execute_reply": "2022-07-28T09:39:34.361479Z",
     "shell.execute_reply.started": "2022-07-28T09:30:14.444167Z"
    },
    "papermill": {
     "duration": 0.041919,
     "end_time": "2022-07-28T09:39:34.362163",
     "exception": false,
     "start_time": "2022-07-28T09:39:34.320244",
     "status": "completed"
    },
    "tags": []
   },
   "outputs": [],
   "source": [
    "train_set_df=pd.concat([train_set_df, A1_A2], ignore_index=True)"
   ]
  },
  {
   "cell_type": "code",
   "execution_count": 14,
   "id": "7f0f1d9c",
   "metadata": {
    "execution": {
     "iopub.execute_input": "2022-07-28T09:39:34.454973Z",
     "iopub.status.busy": "2022-07-28T09:39:34.454040Z",
     "iopub.status.idle": "2022-07-28T09:39:34.458166Z",
     "shell.execute_reply": "2022-07-28T09:39:34.457514Z",
     "shell.execute_reply.started": "2022-07-28T09:30:14.450831Z"
    },
    "papermill": {
     "duration": 0.062876,
     "end_time": "2022-07-28T09:39:34.458344",
     "exception": false,
     "start_time": "2022-07-28T09:39:34.395468",
     "status": "completed"
    },
    "tags": []
   },
   "outputs": [],
   "source": [
    "from sklearn import preprocessing\n",
    "le = preprocessing.LabelEncoder()\n",
    "\n",
    "train_set_df.text = train_set_df.text.apply(lambda x: x.replace(\"\\r\", \"\").replace(\"\\n\", \" \"))\n",
    "\n",
    "# extra_df = pd.read_csv(\"../input/frenchcefr/french_mike_june.csv\")\n",
    "# extra_df.columns = [\"text\", \"label\", \"label_\"]\n",
    "# extra_df = extra_df[[\"text\", \"label\"]]\n",
    "# extra_df.text = extra_df.text.astype(str)\n",
    "#train_set_df = pd.concat([train_set_df, extra_df]).reset_index(drop=True)\n",
    "\n",
    "train_set_df, valid_set_df = split_valid(train_set_df)"
   ]
  },
  {
   "cell_type": "code",
   "execution_count": 15,
   "id": "6f3d1cb2",
   "metadata": {
    "execution": {
     "iopub.execute_input": "2022-07-28T09:39:34.539251Z",
     "iopub.status.busy": "2022-07-28T09:39:34.526689Z",
     "iopub.status.idle": "2022-07-28T09:39:34.542373Z",
     "shell.execute_reply": "2022-07-28T09:39:34.541806Z",
     "shell.execute_reply.started": "2022-07-28T09:30:14.475705Z"
    },
    "papermill": {
     "duration": 0.051586,
     "end_time": "2022-07-28T09:39:34.542501",
     "exception": false,
     "start_time": "2022-07-28T09:39:34.490915",
     "status": "completed"
    },
    "tags": []
   },
   "outputs": [],
   "source": [
    "for i in range(train_set_df.shape[0]):\n",
    "    if train_set_df.loc[i,\"label\"]==\"c1\":\n",
    "        train_set_df.loc[i,\"label\"]=\"C1\""
   ]
  },
  {
   "cell_type": "code",
   "execution_count": 16,
   "id": "d8d0d697",
   "metadata": {
    "execution": {
     "iopub.execute_input": "2022-07-28T09:39:34.609862Z",
     "iopub.status.busy": "2022-07-28T09:39:34.608859Z",
     "iopub.status.idle": "2022-07-28T09:39:34.617007Z",
     "shell.execute_reply": "2022-07-28T09:39:34.616451Z",
     "shell.execute_reply.started": "2022-07-28T09:30:14.490891Z"
    },
    "papermill": {
     "duration": 0.043358,
     "end_time": "2022-07-28T09:39:34.617163",
     "exception": false,
     "start_time": "2022-07-28T09:39:34.573805",
     "status": "completed"
    },
    "tags": []
   },
   "outputs": [
    {
     "data": {
      "text/plain": [
       "array(['C1', 'B2', 'B1', 'A2', 'C2', 'A1'], dtype=object)"
      ]
     },
     "execution_count": 16,
     "metadata": {},
     "output_type": "execute_result"
    }
   ],
   "source": [
    "train_set_df.label.unique()"
   ]
  },
  {
   "cell_type": "code",
   "execution_count": 17,
   "id": "31ca58a3",
   "metadata": {
    "execution": {
     "iopub.execute_input": "2022-07-28T09:39:34.686905Z",
     "iopub.status.busy": "2022-07-28T09:39:34.685898Z",
     "iopub.status.idle": "2022-07-28T09:39:34.695313Z",
     "shell.execute_reply": "2022-07-28T09:39:34.694600Z",
     "shell.execute_reply.started": "2022-07-28T09:30:14.504639Z"
    },
    "papermill": {
     "duration": 0.045202,
     "end_time": "2022-07-28T09:39:34.695434",
     "exception": false,
     "start_time": "2022-07-28T09:39:34.650232",
     "status": "completed"
    },
    "tags": []
   },
   "outputs": [
    {
     "data": {
      "text/plain": [
       "A1    285\n",
       "A2    273\n",
       "B2     91\n",
       "B1     50\n",
       "C1     37\n",
       "C2     12\n",
       "Name: label, dtype: int64"
      ]
     },
     "execution_count": 17,
     "metadata": {},
     "output_type": "execute_result"
    }
   ],
   "source": [
    "train_set_df.label.value_counts()"
   ]
  },
  {
   "cell_type": "code",
   "execution_count": 18,
   "id": "2294aaef",
   "metadata": {
    "execution": {
     "iopub.execute_input": "2022-07-28T09:39:34.769094Z",
     "iopub.status.busy": "2022-07-28T09:39:34.767946Z",
     "iopub.status.idle": "2022-07-28T09:39:34.770459Z",
     "shell.execute_reply": "2022-07-28T09:39:34.771037Z",
     "shell.execute_reply.started": "2022-07-28T09:30:14.517718Z"
    },
    "papermill": {
     "duration": 0.042827,
     "end_time": "2022-07-28T09:39:34.771178",
     "exception": false,
     "start_time": "2022-07-28T09:39:34.728351",
     "status": "completed"
    },
    "tags": []
   },
   "outputs": [],
   "source": [
    "train_set_df.label = le.fit_transform(train_set_df.label)\n",
    "valid_set_df.label = le.transform(valid_set_df.label)"
   ]
  },
  {
   "cell_type": "code",
   "execution_count": 19,
   "id": "7b87a957",
   "metadata": {
    "execution": {
     "iopub.execute_input": "2022-07-28T09:39:34.843923Z",
     "iopub.status.busy": "2022-07-28T09:39:34.842925Z",
     "iopub.status.idle": "2022-07-28T09:39:34.846590Z",
     "shell.execute_reply": "2022-07-28T09:39:34.847106Z",
     "shell.execute_reply.started": "2022-07-28T09:30:14.529700Z"
    },
    "papermill": {
     "duration": 0.04349,
     "end_time": "2022-07-28T09:39:34.847248",
     "exception": false,
     "start_time": "2022-07-28T09:39:34.803758",
     "status": "completed"
    },
    "tags": []
   },
   "outputs": [
    {
     "data": {
      "text/plain": [
       "array([4, 3, 2, 1, 5, 0])"
      ]
     },
     "execution_count": 19,
     "metadata": {},
     "output_type": "execute_result"
    }
   ],
   "source": [
    "train_set_df.label.unique()"
   ]
  },
  {
   "cell_type": "code",
   "execution_count": 20,
   "id": "f96bcaa2",
   "metadata": {
    "execution": {
     "iopub.execute_input": "2022-07-28T09:39:34.917102Z",
     "iopub.status.busy": "2022-07-28T09:39:34.915955Z",
     "iopub.status.idle": "2022-07-28T09:39:34.922311Z",
     "shell.execute_reply": "2022-07-28T09:39:34.921631Z",
     "shell.execute_reply.started": "2022-07-28T09:30:14.542508Z"
    },
    "papermill": {
     "duration": 0.042523,
     "end_time": "2022-07-28T09:39:34.922434",
     "exception": false,
     "start_time": "2022-07-28T09:39:34.879911",
     "status": "completed"
    },
    "tags": []
   },
   "outputs": [
    {
     "data": {
      "text/plain": [
       "3"
      ]
     },
     "execution_count": 20,
     "metadata": {},
     "output_type": "execute_result"
    }
   ],
   "source": [
    "valid_set_df.label.nunique()"
   ]
  },
  {
   "cell_type": "code",
   "execution_count": 21,
   "id": "5d6078be",
   "metadata": {
    "execution": {
     "iopub.execute_input": "2022-07-28T09:39:34.994787Z",
     "iopub.status.busy": "2022-07-28T09:39:34.993736Z",
     "iopub.status.idle": "2022-07-28T09:39:34.996290Z",
     "shell.execute_reply": "2022-07-28T09:39:34.996843Z",
     "shell.execute_reply.started": "2022-07-28T09:30:14.554471Z"
    },
    "papermill": {
     "duration": 0.040874,
     "end_time": "2022-07-28T09:39:34.996985",
     "exception": false,
     "start_time": "2022-07-28T09:39:34.956111",
     "status": "completed"
    },
    "tags": []
   },
   "outputs": [],
   "source": [
    "# train_set_df = train_set_df.sample(frac=1)"
   ]
  },
  {
   "cell_type": "code",
   "execution_count": 22,
   "id": "a165bded",
   "metadata": {
    "execution": {
     "iopub.execute_input": "2022-07-28T09:39:35.066585Z",
     "iopub.status.busy": "2022-07-28T09:39:35.065546Z",
     "iopub.status.idle": "2022-07-28T09:39:35.072372Z",
     "shell.execute_reply": "2022-07-28T09:39:35.071840Z",
     "shell.execute_reply.started": "2022-07-28T09:30:14.563230Z"
    },
    "papermill": {
     "duration": 0.042854,
     "end_time": "2022-07-28T09:39:35.072523",
     "exception": false,
     "start_time": "2022-07-28T09:39:35.029669",
     "status": "completed"
    },
    "tags": []
   },
   "outputs": [],
   "source": [
    "from tqdm import tqdm \n",
    "\n",
    "def predict(model, text):\n",
    "    \n",
    "    preds = []\n",
    "    \n",
    "    for i in tqdm(range(len(text))):\n",
    "        tokenized = tokenizer(text[i:i+1], return_tensors=\"pt\", truncation=True, max_length=512).to(\"cuda\")\n",
    "        pred = model(**tokenized)\n",
    "        preds.append(pred.logits.argmax(-1).item())\n",
    "\n",
    "    return preds"
   ]
  },
  {
   "cell_type": "code",
   "execution_count": 23,
   "id": "7300e06a",
   "metadata": {
    "execution": {
     "iopub.execute_input": "2022-07-28T09:39:35.144276Z",
     "iopub.status.busy": "2022-07-28T09:39:35.143262Z",
     "iopub.status.idle": "2022-07-28T09:47:20.494458Z",
     "shell.execute_reply": "2022-07-28T09:47:20.495070Z",
     "shell.execute_reply.started": "2022-07-28T09:30:14.575153Z"
    },
    "papermill": {
     "duration": 465.390164,
     "end_time": "2022-07-28T09:47:20.495318",
     "exception": false,
     "start_time": "2022-07-28T09:39:35.105154",
     "status": "completed"
    },
    "tags": []
   },
   "outputs": [
    {
     "name": "stdout",
     "output_type": "stream",
     "text": [
      "{}\n",
      "{}\n"
     ]
    },
    {
     "data": {
      "application/vnd.jupyter.widget-view+json": {
       "model_id": "00233fc63c4641108add518e6156ed61",
       "version_major": 2,
       "version_minor": 0
      },
      "text/plain": [
       "Downloading:   0%|          | 0.00/445M [00:00<?, ?B/s]"
      ]
     },
     "metadata": {},
     "output_type": "display_data"
    },
    {
     "name": "stderr",
     "output_type": "stream",
     "text": [
      "Some weights of the model checkpoint at dbmdz/bert-base-french-europeana-cased were not used when initializing BertForSequenceClassification: ['cls.predictions.bias', 'cls.predictions.transform.dense.weight', 'cls.predictions.transform.dense.bias', 'cls.predictions.transform.LayerNorm.weight', 'cls.predictions.transform.LayerNorm.bias', 'cls.predictions.decoder.weight', 'cls.predictions.decoder.bias', 'cls.seq_relationship.weight', 'cls.seq_relationship.bias']\n",
      "- This IS expected if you are initializing BertForSequenceClassification from the checkpoint of a model trained on another task or with another architecture (e.g. initializing a BertForSequenceClassification model from a BertForPreTraining model).\n",
      "- This IS NOT expected if you are initializing BertForSequenceClassification from the checkpoint of a model that you expect to be exactly identical (initializing a BertForSequenceClassification model from a BertForSequenceClassification model).\n",
      "Some weights of BertForSequenceClassification were not initialized from the model checkpoint at dbmdz/bert-base-french-europeana-cased and are newly initialized: ['classifier.weight', 'classifier.bias']\n",
      "You should probably TRAIN this model on a down-stream task to be able to use it for predictions and inference.\n",
      "Using the `WAND_DISABLED` environment variable is deprecated and will be removed in v5. Use the --report_to flag to control the integrations used for logging result (for instance --report_to none).\n"
     ]
    },
    {
     "data": {
      "text/html": [
       "\n",
       "    <div>\n",
       "        <style>\n",
       "            /* Turns off some styling */\n",
       "            progress {\n",
       "                /* gets rid of default border in Firefox and Opera. */\n",
       "                border: none;\n",
       "                /* Needs to be in here for Safari polyfill so background images work as expected. */\n",
       "                background-size: auto;\n",
       "            }\n",
       "        </style>\n",
       "      \n",
       "      <progress value='658' max='658' style='width:300px; height:20px; vertical-align: middle;'></progress>\n",
       "      [658/658 07:07, Epoch 7/7]\n",
       "    </div>\n",
       "    <table border=\"1\" class=\"dataframe\">\n",
       "  <thead>\n",
       "    <tr style=\"text-align: left;\">\n",
       "      <th>Epoch</th>\n",
       "      <th>Training Loss</th>\n",
       "      <th>Validation Loss</th>\n",
       "      <th>Accuracy</th>\n",
       "      <th>Runtime</th>\n",
       "      <th>Samples Per Second</th>\n",
       "    </tr>\n",
       "  </thead>\n",
       "  <tbody>\n",
       "    <tr>\n",
       "      <td>1</td>\n",
       "      <td>1.452000</td>\n",
       "      <td>0.622849</td>\n",
       "      <td>0.714286</td>\n",
       "      <td>0.158000</td>\n",
       "      <td>44.305000</td>\n",
       "    </tr>\n",
       "    <tr>\n",
       "      <td>2</td>\n",
       "      <td>0.720900</td>\n",
       "      <td>0.594356</td>\n",
       "      <td>0.714286</td>\n",
       "      <td>0.157400</td>\n",
       "      <td>44.459000</td>\n",
       "    </tr>\n",
       "    <tr>\n",
       "      <td>3</td>\n",
       "      <td>0.596200</td>\n",
       "      <td>0.392262</td>\n",
       "      <td>0.857143</td>\n",
       "      <td>0.158000</td>\n",
       "      <td>44.313000</td>\n",
       "    </tr>\n",
       "    <tr>\n",
       "      <td>4</td>\n",
       "      <td>0.535100</td>\n",
       "      <td>0.574941</td>\n",
       "      <td>0.857143</td>\n",
       "      <td>0.157900</td>\n",
       "      <td>44.320000</td>\n",
       "    </tr>\n",
       "    <tr>\n",
       "      <td>5</td>\n",
       "      <td>0.368600</td>\n",
       "      <td>0.852394</td>\n",
       "      <td>0.714286</td>\n",
       "      <td>0.157500</td>\n",
       "      <td>44.452000</td>\n",
       "    </tr>\n",
       "    <tr>\n",
       "      <td>6</td>\n",
       "      <td>0.219100</td>\n",
       "      <td>0.823878</td>\n",
       "      <td>0.714286</td>\n",
       "      <td>0.157700</td>\n",
       "      <td>44.377000</td>\n",
       "    </tr>\n",
       "    <tr>\n",
       "      <td>7</td>\n",
       "      <td>0.202700</td>\n",
       "      <td>0.705518</td>\n",
       "      <td>0.714286</td>\n",
       "      <td>0.158100</td>\n",
       "      <td>44.290000</td>\n",
       "    </tr>\n",
       "  </tbody>\n",
       "</table><p>"
      ],
      "text/plain": [
       "<IPython.core.display.HTML object>"
      ]
     },
     "metadata": {},
     "output_type": "display_data"
    }
   ],
   "source": [
    "train_set = CEFRDataset(train_set_df[\"text\"], train_set_df[\"label\"])\n",
    "valid_set = CEFRDataset(valid_set_df[\"text\"], valid_set_df[\"label\"])\n",
    "\n",
    "\n",
    "trainer_second = train(train_set, valid_set, epochs=epochs, warmup_size=0.2, lr=lr, batch_size=batch_size)\n",
    "model = trainer_second.model"
   ]
  },
  {
   "cell_type": "code",
   "execution_count": 24,
   "id": "c6da1d5b",
   "metadata": {
    "execution": {
     "iopub.execute_input": "2022-07-28T09:47:20.573761Z",
     "iopub.status.busy": "2022-07-28T09:47:20.573088Z",
     "iopub.status.idle": "2022-07-28T09:47:20.746755Z",
     "shell.execute_reply": "2022-07-28T09:47:20.746129Z",
     "shell.execute_reply.started": "2022-07-28T09:37:01.416157Z"
    },
    "papermill": {
     "duration": 0.214956,
     "end_time": "2022-07-28T09:47:20.746904",
     "exception": false,
     "start_time": "2022-07-28T09:47:20.531948",
     "status": "completed"
    },
    "tags": []
   },
   "outputs": [
    {
     "name": "stderr",
     "output_type": "stream",
     "text": [
      "100%|██████████| 7/7 [00:00<00:00, 43.41it/s]\n"
     ]
    }
   ],
   "source": [
    "valid_set_df[\"preds\"] = train_set.encoder.inverse_transform(predict(model, valid_set_df.text.tolist()))\n",
    "valid_set_df.columns = [\"text\", \"cefr\", \"preds\",] "
   ]
  },
  {
   "cell_type": "code",
   "execution_count": 25,
   "id": "1be02047",
   "metadata": {
    "execution": {
     "iopub.execute_input": "2022-07-28T09:47:20.825961Z",
     "iopub.status.busy": "2022-07-28T09:47:20.824811Z",
     "iopub.status.idle": "2022-07-28T09:47:22.734731Z",
     "shell.execute_reply": "2022-07-28T09:47:22.734054Z",
     "shell.execute_reply.started": "2022-07-28T09:37:01.559429Z"
    },
    "papermill": {
     "duration": 1.950393,
     "end_time": "2022-07-28T09:47:22.734876",
     "exception": false,
     "start_time": "2022-07-28T09:47:20.784483",
     "status": "completed"
    },
    "tags": []
   },
   "outputs": [
    {
     "name": "stderr",
     "output_type": "stream",
     "text": [
      "100%|██████████| 111/111 [00:01<00:00, 59.27it/s]\n"
     ]
    }
   ],
   "source": [
    "lingua = pd.read_csv(\"../input/lingua/fr_lingua.csv\")\n",
    "lingua[\"preds\"] = train_set.encoder.inverse_transform(predict(model, lingua.text.tolist()))"
   ]
  },
  {
   "cell_type": "code",
   "execution_count": 26,
   "id": "98747841",
   "metadata": {
    "execution": {
     "iopub.execute_input": "2022-07-28T09:47:22.829880Z",
     "iopub.status.busy": "2022-07-28T09:47:22.826098Z",
     "iopub.status.idle": "2022-07-28T09:47:22.834265Z",
     "shell.execute_reply": "2022-07-28T09:47:22.833669Z",
     "shell.execute_reply.started": "2022-07-28T09:37:02.932378Z"
    },
    "papermill": {
     "duration": 0.055118,
     "end_time": "2022-07-28T09:47:22.834392",
     "exception": false,
     "start_time": "2022-07-28T09:47:22.779274",
     "status": "completed"
    },
    "tags": []
   },
   "outputs": [
    {
     "data": {
      "text/plain": [
       "(111, 3)"
      ]
     },
     "execution_count": 26,
     "metadata": {},
     "output_type": "execute_result"
    }
   ],
   "source": [
    "lingua.shape"
   ]
  },
  {
   "cell_type": "code",
   "execution_count": 27,
   "id": "615ded5b",
   "metadata": {
    "execution": {
     "iopub.execute_input": "2022-07-28T09:47:22.926830Z",
     "iopub.status.busy": "2022-07-28T09:47:22.925765Z",
     "iopub.status.idle": "2022-07-28T09:47:22.934727Z",
     "shell.execute_reply": "2022-07-28T09:47:22.934152Z",
     "shell.execute_reply.started": "2022-07-28T09:37:02.940858Z"
    },
    "papermill": {
     "duration": 0.055313,
     "end_time": "2022-07-28T09:47:22.934852",
     "exception": false,
     "start_time": "2022-07-28T09:47:22.879539",
     "status": "completed"
    },
    "tags": []
   },
   "outputs": [
    {
     "data": {
      "text/plain": [
       "B1    60\n",
       "A2    26\n",
       "A1    13\n",
       "B2    12\n",
       "Name: cefr, dtype: int64"
      ]
     },
     "execution_count": 27,
     "metadata": {},
     "output_type": "execute_result"
    }
   ],
   "source": [
    "lingua.cefr.value_counts()"
   ]
  },
  {
   "cell_type": "code",
   "execution_count": 28,
   "id": "c239df40",
   "metadata": {
    "execution": {
     "iopub.execute_input": "2022-07-28T09:47:23.029046Z",
     "iopub.status.busy": "2022-07-28T09:47:23.028223Z",
     "iopub.status.idle": "2022-07-28T09:47:23.031540Z",
     "shell.execute_reply": "2022-07-28T09:47:23.032137Z",
     "shell.execute_reply.started": "2022-07-28T09:37:02.956068Z"
    },
    "papermill": {
     "duration": 0.053354,
     "end_time": "2022-07-28T09:47:23.032306",
     "exception": false,
     "start_time": "2022-07-28T09:47:22.978952",
     "status": "completed"
    },
    "tags": []
   },
   "outputs": [
    {
     "data": {
      "text/plain": [
       "array([2, 0, 1, 3])"
      ]
     },
     "execution_count": 28,
     "metadata": {},
     "output_type": "execute_result"
    }
   ],
   "source": [
    "lingua.preds.unique()"
   ]
  },
  {
   "cell_type": "code",
   "execution_count": 29,
   "id": "aae18e89",
   "metadata": {
    "execution": {
     "iopub.execute_input": "2022-07-28T09:47:23.129256Z",
     "iopub.status.busy": "2022-07-28T09:47:23.128015Z",
     "iopub.status.idle": "2022-07-28T09:47:23.130847Z",
     "shell.execute_reply": "2022-07-28T09:47:23.131300Z",
     "shell.execute_reply.started": "2022-07-28T09:37:02.968841Z"
    },
    "papermill": {
     "duration": 0.053807,
     "end_time": "2022-07-28T09:47:23.131440",
     "exception": false,
     "start_time": "2022-07-28T09:47:23.077633",
     "status": "completed"
    },
    "tags": []
   },
   "outputs": [],
   "source": [
    "def compute_average_distance(df, col_name=\"cefr\") :\n",
    "    \n",
    "    labels = [\"A1\", \"A2\", \"B1\", \"B2\", \"C1\", \"C2\"]\n",
    "    return (df[col_name].apply(lambda x: labels.index(x)) - df.preds.apply(lambda x: labels.index(x))).abs().mean()\n"
   ]
  },
  {
   "cell_type": "code",
   "execution_count": 30,
   "id": "79dfba38",
   "metadata": {
    "execution": {
     "iopub.execute_input": "2022-07-28T09:47:23.228549Z",
     "iopub.status.busy": "2022-07-28T09:47:23.227634Z",
     "iopub.status.idle": "2022-07-28T09:47:23.231385Z",
     "shell.execute_reply": "2022-07-28T09:47:23.232005Z",
     "shell.execute_reply.started": "2022-07-28T09:37:02.977131Z"
    },
    "papermill": {
     "duration": 0.055534,
     "end_time": "2022-07-28T09:47:23.232181",
     "exception": false,
     "start_time": "2022-07-28T09:47:23.176647",
     "status": "completed"
    },
    "tags": []
   },
   "outputs": [
    {
     "data": {
      "text/plain": [
       "2    88\n",
       "3    13\n",
       "0     5\n",
       "1     5\n",
       "Name: preds, dtype: int64"
      ]
     },
     "execution_count": 30,
     "metadata": {},
     "output_type": "execute_result"
    }
   ],
   "source": [
    "lingua.preds.value_counts()"
   ]
  },
  {
   "cell_type": "code",
   "execution_count": 31,
   "id": "ef36536c",
   "metadata": {
    "execution": {
     "iopub.execute_input": "2022-07-28T09:47:23.327655Z",
     "iopub.status.busy": "2022-07-28T09:47:23.326994Z",
     "iopub.status.idle": "2022-07-28T09:47:23.331745Z",
     "shell.execute_reply": "2022-07-28T09:47:23.330954Z",
     "shell.execute_reply.started": "2022-07-28T09:37:02.992470Z"
    },
    "papermill": {
     "duration": 0.054395,
     "end_time": "2022-07-28T09:47:23.331873",
     "exception": false,
     "start_time": "2022-07-28T09:47:23.277478",
     "status": "completed"
    },
    "tags": []
   },
   "outputs": [],
   "source": [
    "lingua[\"preds\"] = le.inverse_transform(lingua.preds)"
   ]
  },
  {
   "cell_type": "code",
   "execution_count": 32,
   "id": "56b04283",
   "metadata": {
    "execution": {
     "iopub.execute_input": "2022-07-28T09:47:23.434151Z",
     "iopub.status.busy": "2022-07-28T09:47:23.432953Z",
     "iopub.status.idle": "2022-07-28T09:47:23.437737Z",
     "shell.execute_reply": "2022-07-28T09:47:23.437138Z",
     "shell.execute_reply.started": "2022-07-28T09:37:03.004311Z"
    },
    "papermill": {
     "duration": 0.060076,
     "end_time": "2022-07-28T09:47:23.437861",
     "exception": false,
     "start_time": "2022-07-28T09:47:23.377785",
     "status": "completed"
    },
    "tags": []
   },
   "outputs": [
    {
     "data": {
      "text/plain": [
       "B1    60\n",
       "A2    26\n",
       "A1    13\n",
       "B2    12\n",
       "Name: cefr, dtype: int64"
      ]
     },
     "execution_count": 32,
     "metadata": {},
     "output_type": "execute_result"
    }
   ],
   "source": [
    "lingua.cefr.value_counts()"
   ]
  },
  {
   "cell_type": "code",
   "execution_count": 33,
   "id": "cce7b8db",
   "metadata": {
    "execution": {
     "iopub.execute_input": "2022-07-28T09:47:23.532247Z",
     "iopub.status.busy": "2022-07-28T09:47:23.531088Z",
     "iopub.status.idle": "2022-07-28T09:47:23.539072Z",
     "shell.execute_reply": "2022-07-28T09:47:23.539659Z",
     "shell.execute_reply.started": "2022-07-28T09:37:03.020326Z"
    },
    "papermill": {
     "duration": 0.057225,
     "end_time": "2022-07-28T09:47:23.539829",
     "exception": false,
     "start_time": "2022-07-28T09:47:23.482604",
     "status": "completed"
    },
    "tags": []
   },
   "outputs": [
    {
     "data": {
      "text/plain": [
       "B1    88\n",
       "B2    13\n",
       "A1     5\n",
       "A2     5\n",
       "Name: preds, dtype: int64"
      ]
     },
     "execution_count": 33,
     "metadata": {},
     "output_type": "execute_result"
    }
   ],
   "source": [
    "lingua.preds.value_counts()"
   ]
  },
  {
   "cell_type": "code",
   "execution_count": 34,
   "id": "baa3bd9f",
   "metadata": {
    "execution": {
     "iopub.execute_input": "2022-07-28T09:47:24.215483Z",
     "iopub.status.busy": "2022-07-28T09:47:24.214587Z",
     "iopub.status.idle": "2022-07-28T09:47:24.218286Z",
     "shell.execute_reply": "2022-07-28T09:47:24.218893Z",
     "shell.execute_reply.started": "2022-07-28T09:37:03.034647Z"
    },
    "papermill": {
     "duration": 0.632891,
     "end_time": "2022-07-28T09:47:24.219034",
     "exception": false,
     "start_time": "2022-07-28T09:47:23.586143",
     "status": "completed"
    },
    "tags": []
   },
   "outputs": [
    {
     "name": "stdout",
     "output_type": "stream",
     "text": [
      "Distance: \n",
      "0.5945945945945946\n",
      "Lingua accuracy: 0.5045045045045045\n"
     ]
    }
   ],
   "source": [
    "print(\"Distance: \")\n",
    "print(compute_average_distance(lingua, \"cefr\"))\n",
    "\n",
    "print(f\"Lingua accuracy: {(lingua['preds'] == lingua['cefr']).mean()}\")"
   ]
  },
  {
   "cell_type": "code",
   "execution_count": 35,
   "id": "dc4fb638",
   "metadata": {
    "execution": {
     "iopub.execute_input": "2022-07-28T09:47:24.317238Z",
     "iopub.status.busy": "2022-07-28T09:47:24.316475Z",
     "iopub.status.idle": "2022-07-28T09:47:24.329433Z",
     "shell.execute_reply": "2022-07-28T09:47:24.328914Z",
     "shell.execute_reply.started": "2022-07-28T09:37:03.047836Z"
    },
    "papermill": {
     "duration": 0.063739,
     "end_time": "2022-07-28T09:47:24.329592",
     "exception": false,
     "start_time": "2022-07-28T09:47:24.265853",
     "status": "completed"
    },
    "tags": []
   },
   "outputs": [],
   "source": [
    "lingua.columns=[\"text\",\"cefr\",\"preds:A1_A2_from_trans_data&new_data,acc:0.5\"]\n",
    "lingua.to_csv(\"lingua1.csv\", index=False)"
   ]
  },
  {
   "cell_type": "markdown",
   "id": "f2ea7dc7",
   "metadata": {
    "papermill": {
     "duration": 0.068975,
     "end_time": "2022-07-28T09:47:24.445119",
     "exception": false,
     "start_time": "2022-07-28T09:47:24.376144",
     "status": "completed"
    },
    "tags": []
   },
   "source": [
    "****"
   ]
  },
  {
   "cell_type": "markdown",
   "id": "77ffdfb2",
   "metadata": {
    "papermill": {
     "duration": 0.093491,
     "end_time": "2022-07-28T09:47:24.637099",
     "exception": false,
     "start_time": "2022-07-28T09:47:24.543608",
     "status": "completed"
    },
    "tags": []
   },
   "source": [
    "****"
   ]
  }
 ],
 "metadata": {
  "kernelspec": {
   "display_name": "Python 3",
   "language": "python",
   "name": "python3"
  },
  "language_info": {
   "codemirror_mode": {
    "name": "ipython",
    "version": 3
   },
   "file_extension": ".py",
   "mimetype": "text/x-python",
   "name": "python",
   "nbconvert_exporter": "python",
   "pygments_lexer": "ipython3",
   "version": "3.7.10"
  },
  "papermill": {
   "default_parameters": {},
   "duration": 498.005697,
   "end_time": "2022-07-28T09:47:28.419502",
   "environment_variables": {},
   "exception": null,
   "input_path": "__notebook__.ipynb",
   "output_path": "__notebook__.ipynb",
   "parameters": {},
   "start_time": "2022-07-28T09:39:10.413805",
   "version": "2.3.3"
  },
  "widgets": {
   "application/vnd.jupyter.widget-state+json": {
    "state": {
     "00233fc63c4641108add518e6156ed61": {
      "model_module": "@jupyter-widgets/controls",
      "model_module_version": "1.5.0",
      "model_name": "HBoxModel",
      "state": {
       "_dom_classes": [],
       "_model_module": "@jupyter-widgets/controls",
       "_model_module_version": "1.5.0",
       "_model_name": "HBoxModel",
       "_view_count": null,
       "_view_module": "@jupyter-widgets/controls",
       "_view_module_version": "1.5.0",
       "_view_name": "HBoxView",
       "box_style": "",
       "children": [
        "IPY_MODEL_b454bb84be6b4dbb887c5d2ec7e5924f",
        "IPY_MODEL_102c17fe3a22467e91cbff64e7a706c7",
        "IPY_MODEL_b76e944970b548719f51c95e441b31fe"
       ],
       "layout": "IPY_MODEL_ee70d2ea464345bbba59502c519aee23"
      }
     },
     "102c17fe3a22467e91cbff64e7a706c7": {
      "model_module": "@jupyter-widgets/controls",
      "model_module_version": "1.5.0",
      "model_name": "FloatProgressModel",
      "state": {
       "_dom_classes": [],
       "_model_module": "@jupyter-widgets/controls",
       "_model_module_version": "1.5.0",
       "_model_name": "FloatProgressModel",
       "_view_count": null,
       "_view_module": "@jupyter-widgets/controls",
       "_view_module_version": "1.5.0",
       "_view_name": "ProgressView",
       "bar_style": "success",
       "description": "",
       "description_tooltip": null,
       "layout": "IPY_MODEL_28168bb9bfff4adb8bc58facad241aa2",
       "max": 445018784.0,
       "min": 0.0,
       "orientation": "horizontal",
       "style": "IPY_MODEL_3abef8c12b0f423783cf849073582bc5",
       "value": 445018784.0
      }
     },
     "109ec4673c9a41d78250e5533a93eb9a": {
      "model_module": "@jupyter-widgets/base",
      "model_module_version": "1.2.0",
      "model_name": "LayoutModel",
      "state": {
       "_model_module": "@jupyter-widgets/base",
       "_model_module_version": "1.2.0",
       "_model_name": "LayoutModel",
       "_view_count": null,
       "_view_module": "@jupyter-widgets/base",
       "_view_module_version": "1.2.0",
       "_view_name": "LayoutView",
       "align_content": null,
       "align_items": null,
       "align_self": null,
       "border": null,
       "bottom": null,
       "display": null,
       "flex": null,
       "flex_flow": null,
       "grid_area": null,
       "grid_auto_columns": null,
       "grid_auto_flow": null,
       "grid_auto_rows": null,
       "grid_column": null,
       "grid_gap": null,
       "grid_row": null,
       "grid_template_areas": null,
       "grid_template_columns": null,
       "grid_template_rows": null,
       "height": null,
       "justify_content": null,
       "justify_items": null,
       "left": null,
       "margin": null,
       "max_height": null,
       "max_width": null,
       "min_height": null,
       "min_width": null,
       "object_fit": null,
       "object_position": null,
       "order": null,
       "overflow": null,
       "overflow_x": null,
       "overflow_y": null,
       "padding": null,
       "right": null,
       "top": null,
       "visibility": null,
       "width": null
      }
     },
     "140ee8c092e248268d462eea77ff8fd8": {
      "model_module": "@jupyter-widgets/controls",
      "model_module_version": "1.5.0",
      "model_name": "DescriptionStyleModel",
      "state": {
       "_model_module": "@jupyter-widgets/controls",
       "_model_module_version": "1.5.0",
       "_model_name": "DescriptionStyleModel",
       "_view_count": null,
       "_view_module": "@jupyter-widgets/base",
       "_view_module_version": "1.2.0",
       "_view_name": "StyleView",
       "description_width": ""
      }
     },
     "17d49ca0d1ca4422bc2f3a048d22e1a5": {
      "model_module": "@jupyter-widgets/controls",
      "model_module_version": "1.5.0",
      "model_name": "HTMLModel",
      "state": {
       "_dom_classes": [],
       "_model_module": "@jupyter-widgets/controls",
       "_model_module_version": "1.5.0",
       "_model_name": "HTMLModel",
       "_view_count": null,
       "_view_module": "@jupyter-widgets/controls",
       "_view_module_version": "1.5.0",
       "_view_name": "HTMLView",
       "description": "",
       "description_tooltip": null,
       "layout": "IPY_MODEL_55ec17ede0b24f9193fc58258db69187",
       "placeholder": "​",
       "style": "IPY_MODEL_a0989f17371a460d88f83cd09dbd0224",
       "value": " 227k/227k [00:00&lt;00:00, 666kB/s]"
      }
     },
     "1d7ac4d3374c4db3b29903ebdc064373": {
      "model_module": "@jupyter-widgets/base",
      "model_module_version": "1.2.0",
      "model_name": "LayoutModel",
      "state": {
       "_model_module": "@jupyter-widgets/base",
       "_model_module_version": "1.2.0",
       "_model_name": "LayoutModel",
       "_view_count": null,
       "_view_module": "@jupyter-widgets/base",
       "_view_module_version": "1.2.0",
       "_view_name": "LayoutView",
       "align_content": null,
       "align_items": null,
       "align_self": null,
       "border": null,
       "bottom": null,
       "display": null,
       "flex": null,
       "flex_flow": null,
       "grid_area": null,
       "grid_auto_columns": null,
       "grid_auto_flow": null,
       "grid_auto_rows": null,
       "grid_column": null,
       "grid_gap": null,
       "grid_row": null,
       "grid_template_areas": null,
       "grid_template_columns": null,
       "grid_template_rows": null,
       "height": null,
       "justify_content": null,
       "justify_items": null,
       "left": null,
       "margin": null,
       "max_height": null,
       "max_width": null,
       "min_height": null,
       "min_width": null,
       "object_fit": null,
       "object_position": null,
       "order": null,
       "overflow": null,
       "overflow_x": null,
       "overflow_y": null,
       "padding": null,
       "right": null,
       "top": null,
       "visibility": null,
       "width": null
      }
     },
     "25be6bf15327427bb041f807f9dc8689": {
      "model_module": "@jupyter-widgets/controls",
      "model_module_version": "1.5.0",
      "model_name": "HTMLModel",
      "state": {
       "_dom_classes": [],
       "_model_module": "@jupyter-widgets/controls",
       "_model_module_version": "1.5.0",
       "_model_name": "HTMLModel",
       "_view_count": null,
       "_view_module": "@jupyter-widgets/controls",
       "_view_module_version": "1.5.0",
       "_view_name": "HTMLView",
       "description": "",
       "description_tooltip": null,
       "layout": "IPY_MODEL_1d7ac4d3374c4db3b29903ebdc064373",
       "placeholder": "​",
       "style": "IPY_MODEL_140ee8c092e248268d462eea77ff8fd8",
       "value": "Downloading: 100%"
      }
     },
     "28168bb9bfff4adb8bc58facad241aa2": {
      "model_module": "@jupyter-widgets/base",
      "model_module_version": "1.2.0",
      "model_name": "LayoutModel",
      "state": {
       "_model_module": "@jupyter-widgets/base",
       "_model_module_version": "1.2.0",
       "_model_name": "LayoutModel",
       "_view_count": null,
       "_view_module": "@jupyter-widgets/base",
       "_view_module_version": "1.2.0",
       "_view_name": "LayoutView",
       "align_content": null,
       "align_items": null,
       "align_self": null,
       "border": null,
       "bottom": null,
       "display": null,
       "flex": null,
       "flex_flow": null,
       "grid_area": null,
       "grid_auto_columns": null,
       "grid_auto_flow": null,
       "grid_auto_rows": null,
       "grid_column": null,
       "grid_gap": null,
       "grid_row": null,
       "grid_template_areas": null,
       "grid_template_columns": null,
       "grid_template_rows": null,
       "height": null,
       "justify_content": null,
       "justify_items": null,
       "left": null,
       "margin": null,
       "max_height": null,
       "max_width": null,
       "min_height": null,
       "min_width": null,
       "object_fit": null,
       "object_position": null,
       "order": null,
       "overflow": null,
       "overflow_x": null,
       "overflow_y": null,
       "padding": null,
       "right": null,
       "top": null,
       "visibility": null,
       "width": null
      }
     },
     "2f2fdc98b62f46ceb2f20d43a182490c": {
      "model_module": "@jupyter-widgets/controls",
      "model_module_version": "1.5.0",
      "model_name": "FloatProgressModel",
      "state": {
       "_dom_classes": [],
       "_model_module": "@jupyter-widgets/controls",
       "_model_module_version": "1.5.0",
       "_model_name": "FloatProgressModel",
       "_view_count": null,
       "_view_module": "@jupyter-widgets/controls",
       "_view_module_version": "1.5.0",
       "_view_name": "ProgressView",
       "bar_style": "success",
       "description": "",
       "description_tooltip": null,
       "layout": "IPY_MODEL_df2af9207e5e4eaaa509ded343c55d4b",
       "max": 83.0,
       "min": 0.0,
       "orientation": "horizontal",
       "style": "IPY_MODEL_d9d2ba99fb914068acadf37b3f620d10",
       "value": 83.0
      }
     },
     "3195388dd41b44f7a184a7bf3615a160": {
      "model_module": "@jupyter-widgets/base",
      "model_module_version": "1.2.0",
      "model_name": "LayoutModel",
      "state": {
       "_model_module": "@jupyter-widgets/base",
       "_model_module_version": "1.2.0",
       "_model_name": "LayoutModel",
       "_view_count": null,
       "_view_module": "@jupyter-widgets/base",
       "_view_module_version": "1.2.0",
       "_view_name": "LayoutView",
       "align_content": null,
       "align_items": null,
       "align_self": null,
       "border": null,
       "bottom": null,
       "display": null,
       "flex": null,
       "flex_flow": null,
       "grid_area": null,
       "grid_auto_columns": null,
       "grid_auto_flow": null,
       "grid_auto_rows": null,
       "grid_column": null,
       "grid_gap": null,
       "grid_row": null,
       "grid_template_areas": null,
       "grid_template_columns": null,
       "grid_template_rows": null,
       "height": null,
       "justify_content": null,
       "justify_items": null,
       "left": null,
       "margin": null,
       "max_height": null,
       "max_width": null,
       "min_height": null,
       "min_width": null,
       "object_fit": null,
       "object_position": null,
       "order": null,
       "overflow": null,
       "overflow_x": null,
       "overflow_y": null,
       "padding": null,
       "right": null,
       "top": null,
       "visibility": null,
       "width": null
      }
     },
     "3abef8c12b0f423783cf849073582bc5": {
      "model_module": "@jupyter-widgets/controls",
      "model_module_version": "1.5.0",
      "model_name": "ProgressStyleModel",
      "state": {
       "_model_module": "@jupyter-widgets/controls",
       "_model_module_version": "1.5.0",
       "_model_name": "ProgressStyleModel",
       "_view_count": null,
       "_view_module": "@jupyter-widgets/base",
       "_view_module_version": "1.2.0",
       "_view_name": "StyleView",
       "bar_color": null,
       "description_width": ""
      }
     },
     "3cf76f12daaf44e19ba2e62229c36df8": {
      "model_module": "@jupyter-widgets/controls",
      "model_module_version": "1.5.0",
      "model_name": "DescriptionStyleModel",
      "state": {
       "_model_module": "@jupyter-widgets/controls",
       "_model_module_version": "1.5.0",
       "_model_name": "DescriptionStyleModel",
       "_view_count": null,
       "_view_module": "@jupyter-widgets/base",
       "_view_module_version": "1.2.0",
       "_view_name": "StyleView",
       "description_width": ""
      }
     },
     "3e39668e357e4dde9e6db4266da6ceaa": {
      "model_module": "@jupyter-widgets/controls",
      "model_module_version": "1.5.0",
      "model_name": "HTMLModel",
      "state": {
       "_dom_classes": [],
       "_model_module": "@jupyter-widgets/controls",
       "_model_module_version": "1.5.0",
       "_model_name": "HTMLModel",
       "_view_count": null,
       "_view_module": "@jupyter-widgets/controls",
       "_view_module_version": "1.5.0",
       "_view_name": "HTMLView",
       "description": "",
       "description_tooltip": null,
       "layout": "IPY_MODEL_553b27469437451c9993b2e2c409b188",
       "placeholder": "​",
       "style": "IPY_MODEL_b18c831c5f2b4a109fe019954dfd1bc1",
       "value": " 83.0/83.0 [00:00&lt;00:00, 2.65kB/s]"
      }
     },
     "45b9307ca53f44618f7cdd33cfa1f0a8": {
      "model_module": "@jupyter-widgets/controls",
      "model_module_version": "1.5.0",
      "model_name": "ProgressStyleModel",
      "state": {
       "_model_module": "@jupyter-widgets/controls",
       "_model_module_version": "1.5.0",
       "_model_name": "ProgressStyleModel",
       "_view_count": null,
       "_view_module": "@jupyter-widgets/base",
       "_view_module_version": "1.2.0",
       "_view_name": "StyleView",
       "bar_color": null,
       "description_width": ""
      }
     },
     "4abec6abf1214d0f9876a4539f8fdb33": {
      "model_module": "@jupyter-widgets/controls",
      "model_module_version": "1.5.0",
      "model_name": "DescriptionStyleModel",
      "state": {
       "_model_module": "@jupyter-widgets/controls",
       "_model_module_version": "1.5.0",
       "_model_name": "DescriptionStyleModel",
       "_view_count": null,
       "_view_module": "@jupyter-widgets/base",
       "_view_module_version": "1.2.0",
       "_view_name": "StyleView",
       "description_width": ""
      }
     },
     "4d260cca9fae41d29dff93cd99e6937b": {
      "model_module": "@jupyter-widgets/base",
      "model_module_version": "1.2.0",
      "model_name": "LayoutModel",
      "state": {
       "_model_module": "@jupyter-widgets/base",
       "_model_module_version": "1.2.0",
       "_model_name": "LayoutModel",
       "_view_count": null,
       "_view_module": "@jupyter-widgets/base",
       "_view_module_version": "1.2.0",
       "_view_name": "LayoutView",
       "align_content": null,
       "align_items": null,
       "align_self": null,
       "border": null,
       "bottom": null,
       "display": null,
       "flex": null,
       "flex_flow": null,
       "grid_area": null,
       "grid_auto_columns": null,
       "grid_auto_flow": null,
       "grid_auto_rows": null,
       "grid_column": null,
       "grid_gap": null,
       "grid_row": null,
       "grid_template_areas": null,
       "grid_template_columns": null,
       "grid_template_rows": null,
       "height": null,
       "justify_content": null,
       "justify_items": null,
       "left": null,
       "margin": null,
       "max_height": null,
       "max_width": null,
       "min_height": null,
       "min_width": null,
       "object_fit": null,
       "object_position": null,
       "order": null,
       "overflow": null,
       "overflow_x": null,
       "overflow_y": null,
       "padding": null,
       "right": null,
       "top": null,
       "visibility": null,
       "width": null
      }
     },
     "4db4b706dae3447799b1e61e26b4299b": {
      "model_module": "@jupyter-widgets/controls",
      "model_module_version": "1.5.0",
      "model_name": "HBoxModel",
      "state": {
       "_dom_classes": [],
       "_model_module": "@jupyter-widgets/controls",
       "_model_module_version": "1.5.0",
       "_model_name": "HBoxModel",
       "_view_count": null,
       "_view_module": "@jupyter-widgets/controls",
       "_view_module_version": "1.5.0",
       "_view_name": "HBoxView",
       "box_style": "",
       "children": [
        "IPY_MODEL_25be6bf15327427bb041f807f9dc8689",
        "IPY_MODEL_ba4f7bcb6bac416589cd5fe3adbd1fb0",
        "IPY_MODEL_17d49ca0d1ca4422bc2f3a048d22e1a5"
       ],
       "layout": "IPY_MODEL_4d260cca9fae41d29dff93cd99e6937b"
      }
     },
     "4f8f47dbfb794c2cae600f259fca2a72": {
      "model_module": "@jupyter-widgets/controls",
      "model_module_version": "1.5.0",
      "model_name": "HTMLModel",
      "state": {
       "_dom_classes": [],
       "_model_module": "@jupyter-widgets/controls",
       "_model_module_version": "1.5.0",
       "_model_name": "HTMLModel",
       "_view_count": null,
       "_view_module": "@jupyter-widgets/controls",
       "_view_module_version": "1.5.0",
       "_view_name": "HTMLView",
       "description": "",
       "description_tooltip": null,
       "layout": "IPY_MODEL_87d7d32006f341e58ad91b6339cd092c",
       "placeholder": "​",
       "style": "IPY_MODEL_4abec6abf1214d0f9876a4539f8fdb33",
       "value": "Downloading: 100%"
      }
     },
     "553b27469437451c9993b2e2c409b188": {
      "model_module": "@jupyter-widgets/base",
      "model_module_version": "1.2.0",
      "model_name": "LayoutModel",
      "state": {
       "_model_module": "@jupyter-widgets/base",
       "_model_module_version": "1.2.0",
       "_model_name": "LayoutModel",
       "_view_count": null,
       "_view_module": "@jupyter-widgets/base",
       "_view_module_version": "1.2.0",
       "_view_name": "LayoutView",
       "align_content": null,
       "align_items": null,
       "align_self": null,
       "border": null,
       "bottom": null,
       "display": null,
       "flex": null,
       "flex_flow": null,
       "grid_area": null,
       "grid_auto_columns": null,
       "grid_auto_flow": null,
       "grid_auto_rows": null,
       "grid_column": null,
       "grid_gap": null,
       "grid_row": null,
       "grid_template_areas": null,
       "grid_template_columns": null,
       "grid_template_rows": null,
       "height": null,
       "justify_content": null,
       "justify_items": null,
       "left": null,
       "margin": null,
       "max_height": null,
       "max_width": null,
       "min_height": null,
       "min_width": null,
       "object_fit": null,
       "object_position": null,
       "order": null,
       "overflow": null,
       "overflow_x": null,
       "overflow_y": null,
       "padding": null,
       "right": null,
       "top": null,
       "visibility": null,
       "width": null
      }
     },
     "55ec17ede0b24f9193fc58258db69187": {
      "model_module": "@jupyter-widgets/base",
      "model_module_version": "1.2.0",
      "model_name": "LayoutModel",
      "state": {
       "_model_module": "@jupyter-widgets/base",
       "_model_module_version": "1.2.0",
       "_model_name": "LayoutModel",
       "_view_count": null,
       "_view_module": "@jupyter-widgets/base",
       "_view_module_version": "1.2.0",
       "_view_name": "LayoutView",
       "align_content": null,
       "align_items": null,
       "align_self": null,
       "border": null,
       "bottom": null,
       "display": null,
       "flex": null,
       "flex_flow": null,
       "grid_area": null,
       "grid_auto_columns": null,
       "grid_auto_flow": null,
       "grid_auto_rows": null,
       "grid_column": null,
       "grid_gap": null,
       "grid_row": null,
       "grid_template_areas": null,
       "grid_template_columns": null,
       "grid_template_rows": null,
       "height": null,
       "justify_content": null,
       "justify_items": null,
       "left": null,
       "margin": null,
       "max_height": null,
       "max_width": null,
       "min_height": null,
       "min_width": null,
       "object_fit": null,
       "object_position": null,
       "order": null,
       "overflow": null,
       "overflow_x": null,
       "overflow_y": null,
       "padding": null,
       "right": null,
       "top": null,
       "visibility": null,
       "width": null
      }
     },
     "5afbc1b3b8b8464ea4abb537fbe2fbda": {
      "model_module": "@jupyter-widgets/controls",
      "model_module_version": "1.5.0",
      "model_name": "DescriptionStyleModel",
      "state": {
       "_model_module": "@jupyter-widgets/controls",
       "_model_module_version": "1.5.0",
       "_model_name": "DescriptionStyleModel",
       "_view_count": null,
       "_view_module": "@jupyter-widgets/base",
       "_view_module_version": "1.2.0",
       "_view_name": "StyleView",
       "description_width": ""
      }
     },
     "5f1302ef01594c18b35cd254786ff870": {
      "model_module": "@jupyter-widgets/base",
      "model_module_version": "1.2.0",
      "model_name": "LayoutModel",
      "state": {
       "_model_module": "@jupyter-widgets/base",
       "_model_module_version": "1.2.0",
       "_model_name": "LayoutModel",
       "_view_count": null,
       "_view_module": "@jupyter-widgets/base",
       "_view_module_version": "1.2.0",
       "_view_name": "LayoutView",
       "align_content": null,
       "align_items": null,
       "align_self": null,
       "border": null,
       "bottom": null,
       "display": null,
       "flex": null,
       "flex_flow": null,
       "grid_area": null,
       "grid_auto_columns": null,
       "grid_auto_flow": null,
       "grid_auto_rows": null,
       "grid_column": null,
       "grid_gap": null,
       "grid_row": null,
       "grid_template_areas": null,
       "grid_template_columns": null,
       "grid_template_rows": null,
       "height": null,
       "justify_content": null,
       "justify_items": null,
       "left": null,
       "margin": null,
       "max_height": null,
       "max_width": null,
       "min_height": null,
       "min_width": null,
       "object_fit": null,
       "object_position": null,
       "order": null,
       "overflow": null,
       "overflow_x": null,
       "overflow_y": null,
       "padding": null,
       "right": null,
       "top": null,
       "visibility": null,
       "width": null
      }
     },
     "66bdec35f7e44249a646e6b2cc6e20d0": {
      "model_module": "@jupyter-widgets/controls",
      "model_module_version": "1.5.0",
      "model_name": "HTMLModel",
      "state": {
       "_dom_classes": [],
       "_model_module": "@jupyter-widgets/controls",
       "_model_module_version": "1.5.0",
       "_model_name": "HTMLModel",
       "_view_count": null,
       "_view_module": "@jupyter-widgets/controls",
       "_view_module_version": "1.5.0",
       "_view_name": "HTMLView",
       "description": "",
       "description_tooltip": null,
       "layout": "IPY_MODEL_df28e785a1dc493dbade61ada9a83892",
       "placeholder": "​",
       "style": "IPY_MODEL_5afbc1b3b8b8464ea4abb537fbe2fbda",
       "value": "Downloading: 100%"
      }
     },
     "6fa6b4c4258f49469fcd99c2a21edae2": {
      "model_module": "@jupyter-widgets/controls",
      "model_module_version": "1.5.0",
      "model_name": "DescriptionStyleModel",
      "state": {
       "_model_module": "@jupyter-widgets/controls",
       "_model_module_version": "1.5.0",
       "_model_name": "DescriptionStyleModel",
       "_view_count": null,
       "_view_module": "@jupyter-widgets/base",
       "_view_module_version": "1.2.0",
       "_view_name": "StyleView",
       "description_width": ""
      }
     },
     "75663f8ba8544a729bea8b731eb53006": {
      "model_module": "@jupyter-widgets/controls",
      "model_module_version": "1.5.0",
      "model_name": "DescriptionStyleModel",
      "state": {
       "_model_module": "@jupyter-widgets/controls",
       "_model_module_version": "1.5.0",
       "_model_name": "DescriptionStyleModel",
       "_view_count": null,
       "_view_module": "@jupyter-widgets/base",
       "_view_module_version": "1.2.0",
       "_view_name": "StyleView",
       "description_width": ""
      }
     },
     "799e76b2af65400fa9fb61b167d76765": {
      "model_module": "@jupyter-widgets/base",
      "model_module_version": "1.2.0",
      "model_name": "LayoutModel",
      "state": {
       "_model_module": "@jupyter-widgets/base",
       "_model_module_version": "1.2.0",
       "_model_name": "LayoutModel",
       "_view_count": null,
       "_view_module": "@jupyter-widgets/base",
       "_view_module_version": "1.2.0",
       "_view_name": "LayoutView",
       "align_content": null,
       "align_items": null,
       "align_self": null,
       "border": null,
       "bottom": null,
       "display": null,
       "flex": null,
       "flex_flow": null,
       "grid_area": null,
       "grid_auto_columns": null,
       "grid_auto_flow": null,
       "grid_auto_rows": null,
       "grid_column": null,
       "grid_gap": null,
       "grid_row": null,
       "grid_template_areas": null,
       "grid_template_columns": null,
       "grid_template_rows": null,
       "height": null,
       "justify_content": null,
       "justify_items": null,
       "left": null,
       "margin": null,
       "max_height": null,
       "max_width": null,
       "min_height": null,
       "min_width": null,
       "object_fit": null,
       "object_position": null,
       "order": null,
       "overflow": null,
       "overflow_x": null,
       "overflow_y": null,
       "padding": null,
       "right": null,
       "top": null,
       "visibility": null,
       "width": null
      }
     },
     "85ae49742a8745b6877953ef09bfbd61": {
      "model_module": "@jupyter-widgets/controls",
      "model_module_version": "1.5.0",
      "model_name": "HTMLModel",
      "state": {
       "_dom_classes": [],
       "_model_module": "@jupyter-widgets/controls",
       "_model_module_version": "1.5.0",
       "_model_name": "HTMLModel",
       "_view_count": null,
       "_view_module": "@jupyter-widgets/controls",
       "_view_module_version": "1.5.0",
       "_view_name": "HTMLView",
       "description": "",
       "description_tooltip": null,
       "layout": "IPY_MODEL_109ec4673c9a41d78250e5533a93eb9a",
       "placeholder": "​",
       "style": "IPY_MODEL_3cf76f12daaf44e19ba2e62229c36df8",
       "value": " 420/420 [00:00&lt;00:00, 13.6kB/s]"
      }
     },
     "87d7d32006f341e58ad91b6339cd092c": {
      "model_module": "@jupyter-widgets/base",
      "model_module_version": "1.2.0",
      "model_name": "LayoutModel",
      "state": {
       "_model_module": "@jupyter-widgets/base",
       "_model_module_version": "1.2.0",
       "_model_name": "LayoutModel",
       "_view_count": null,
       "_view_module": "@jupyter-widgets/base",
       "_view_module_version": "1.2.0",
       "_view_name": "LayoutView",
       "align_content": null,
       "align_items": null,
       "align_self": null,
       "border": null,
       "bottom": null,
       "display": null,
       "flex": null,
       "flex_flow": null,
       "grid_area": null,
       "grid_auto_columns": null,
       "grid_auto_flow": null,
       "grid_auto_rows": null,
       "grid_column": null,
       "grid_gap": null,
       "grid_row": null,
       "grid_template_areas": null,
       "grid_template_columns": null,
       "grid_template_rows": null,
       "height": null,
       "justify_content": null,
       "justify_items": null,
       "left": null,
       "margin": null,
       "max_height": null,
       "max_width": null,
       "min_height": null,
       "min_width": null,
       "object_fit": null,
       "object_position": null,
       "order": null,
       "overflow": null,
       "overflow_x": null,
       "overflow_y": null,
       "padding": null,
       "right": null,
       "top": null,
       "visibility": null,
       "width": null
      }
     },
     "9a69c8600d4c44d5a7e969d872798b02": {
      "model_module": "@jupyter-widgets/controls",
      "model_module_version": "1.5.0",
      "model_name": "FloatProgressModel",
      "state": {
       "_dom_classes": [],
       "_model_module": "@jupyter-widgets/controls",
       "_model_module_version": "1.5.0",
       "_model_name": "FloatProgressModel",
       "_view_count": null,
       "_view_module": "@jupyter-widgets/controls",
       "_view_module_version": "1.5.0",
       "_view_name": "ProgressView",
       "bar_style": "success",
       "description": "",
       "description_tooltip": null,
       "layout": "IPY_MODEL_9aee03f789774788b3d75d773050c36c",
       "max": 420.0,
       "min": 0.0,
       "orientation": "horizontal",
       "style": "IPY_MODEL_da89bec7821b46debaa5327d1342e49e",
       "value": 420.0
      }
     },
     "9aee03f789774788b3d75d773050c36c": {
      "model_module": "@jupyter-widgets/base",
      "model_module_version": "1.2.0",
      "model_name": "LayoutModel",
      "state": {
       "_model_module": "@jupyter-widgets/base",
       "_model_module_version": "1.2.0",
       "_model_name": "LayoutModel",
       "_view_count": null,
       "_view_module": "@jupyter-widgets/base",
       "_view_module_version": "1.2.0",
       "_view_name": "LayoutView",
       "align_content": null,
       "align_items": null,
       "align_self": null,
       "border": null,
       "bottom": null,
       "display": null,
       "flex": null,
       "flex_flow": null,
       "grid_area": null,
       "grid_auto_columns": null,
       "grid_auto_flow": null,
       "grid_auto_rows": null,
       "grid_column": null,
       "grid_gap": null,
       "grid_row": null,
       "grid_template_areas": null,
       "grid_template_columns": null,
       "grid_template_rows": null,
       "height": null,
       "justify_content": null,
       "justify_items": null,
       "left": null,
       "margin": null,
       "max_height": null,
       "max_width": null,
       "min_height": null,
       "min_width": null,
       "object_fit": null,
       "object_position": null,
       "order": null,
       "overflow": null,
       "overflow_x": null,
       "overflow_y": null,
       "padding": null,
       "right": null,
       "top": null,
       "visibility": null,
       "width": null
      }
     },
     "a0989f17371a460d88f83cd09dbd0224": {
      "model_module": "@jupyter-widgets/controls",
      "model_module_version": "1.5.0",
      "model_name": "DescriptionStyleModel",
      "state": {
       "_model_module": "@jupyter-widgets/controls",
       "_model_module_version": "1.5.0",
       "_model_name": "DescriptionStyleModel",
       "_view_count": null,
       "_view_module": "@jupyter-widgets/base",
       "_view_module_version": "1.2.0",
       "_view_name": "StyleView",
       "description_width": ""
      }
     },
     "b18c831c5f2b4a109fe019954dfd1bc1": {
      "model_module": "@jupyter-widgets/controls",
      "model_module_version": "1.5.0",
      "model_name": "DescriptionStyleModel",
      "state": {
       "_model_module": "@jupyter-widgets/controls",
       "_model_module_version": "1.5.0",
       "_model_name": "DescriptionStyleModel",
       "_view_count": null,
       "_view_module": "@jupyter-widgets/base",
       "_view_module_version": "1.2.0",
       "_view_name": "StyleView",
       "description_width": ""
      }
     },
     "b454bb84be6b4dbb887c5d2ec7e5924f": {
      "model_module": "@jupyter-widgets/controls",
      "model_module_version": "1.5.0",
      "model_name": "HTMLModel",
      "state": {
       "_dom_classes": [],
       "_model_module": "@jupyter-widgets/controls",
       "_model_module_version": "1.5.0",
       "_model_name": "HTMLModel",
       "_view_count": null,
       "_view_module": "@jupyter-widgets/controls",
       "_view_module_version": "1.5.0",
       "_view_name": "HTMLView",
       "description": "",
       "description_tooltip": null,
       "layout": "IPY_MODEL_d09fe7471481474c8e74a760df2be322",
       "placeholder": "​",
       "style": "IPY_MODEL_6fa6b4c4258f49469fcd99c2a21edae2",
       "value": "Downloading: 100%"
      }
     },
     "b76e944970b548719f51c95e441b31fe": {
      "model_module": "@jupyter-widgets/controls",
      "model_module_version": "1.5.0",
      "model_name": "HTMLModel",
      "state": {
       "_dom_classes": [],
       "_model_module": "@jupyter-widgets/controls",
       "_model_module_version": "1.5.0",
       "_model_name": "HTMLModel",
       "_view_count": null,
       "_view_module": "@jupyter-widgets/controls",
       "_view_module_version": "1.5.0",
       "_view_name": "HTMLView",
       "description": "",
       "description_tooltip": null,
       "layout": "IPY_MODEL_df919669d9104e56a3e0841be115d205",
       "placeholder": "​",
       "style": "IPY_MODEL_75663f8ba8544a729bea8b731eb53006",
       "value": " 445M/445M [00:21&lt;00:00, 21.8MB/s]"
      }
     },
     "ba4f7bcb6bac416589cd5fe3adbd1fb0": {
      "model_module": "@jupyter-widgets/controls",
      "model_module_version": "1.5.0",
      "model_name": "FloatProgressModel",
      "state": {
       "_dom_classes": [],
       "_model_module": "@jupyter-widgets/controls",
       "_model_module_version": "1.5.0",
       "_model_name": "FloatProgressModel",
       "_view_count": null,
       "_view_module": "@jupyter-widgets/controls",
       "_view_module_version": "1.5.0",
       "_view_name": "ProgressView",
       "bar_style": "success",
       "description": "",
       "description_tooltip": null,
       "layout": "IPY_MODEL_5f1302ef01594c18b35cd254786ff870",
       "max": 227141.0,
       "min": 0.0,
       "orientation": "horizontal",
       "style": "IPY_MODEL_45b9307ca53f44618f7cdd33cfa1f0a8",
       "value": 227141.0
      }
     },
     "c4e43e5c1e1e4569a818cf675830d720": {
      "model_module": "@jupyter-widgets/controls",
      "model_module_version": "1.5.0",
      "model_name": "HBoxModel",
      "state": {
       "_dom_classes": [],
       "_model_module": "@jupyter-widgets/controls",
       "_model_module_version": "1.5.0",
       "_model_name": "HBoxModel",
       "_view_count": null,
       "_view_module": "@jupyter-widgets/controls",
       "_view_module_version": "1.5.0",
       "_view_name": "HBoxView",
       "box_style": "",
       "children": [
        "IPY_MODEL_66bdec35f7e44249a646e6b2cc6e20d0",
        "IPY_MODEL_2f2fdc98b62f46ceb2f20d43a182490c",
        "IPY_MODEL_3e39668e357e4dde9e6db4266da6ceaa"
       ],
       "layout": "IPY_MODEL_799e76b2af65400fa9fb61b167d76765"
      }
     },
     "d09fe7471481474c8e74a760df2be322": {
      "model_module": "@jupyter-widgets/base",
      "model_module_version": "1.2.0",
      "model_name": "LayoutModel",
      "state": {
       "_model_module": "@jupyter-widgets/base",
       "_model_module_version": "1.2.0",
       "_model_name": "LayoutModel",
       "_view_count": null,
       "_view_module": "@jupyter-widgets/base",
       "_view_module_version": "1.2.0",
       "_view_name": "LayoutView",
       "align_content": null,
       "align_items": null,
       "align_self": null,
       "border": null,
       "bottom": null,
       "display": null,
       "flex": null,
       "flex_flow": null,
       "grid_area": null,
       "grid_auto_columns": null,
       "grid_auto_flow": null,
       "grid_auto_rows": null,
       "grid_column": null,
       "grid_gap": null,
       "grid_row": null,
       "grid_template_areas": null,
       "grid_template_columns": null,
       "grid_template_rows": null,
       "height": null,
       "justify_content": null,
       "justify_items": null,
       "left": null,
       "margin": null,
       "max_height": null,
       "max_width": null,
       "min_height": null,
       "min_width": null,
       "object_fit": null,
       "object_position": null,
       "order": null,
       "overflow": null,
       "overflow_x": null,
       "overflow_y": null,
       "padding": null,
       "right": null,
       "top": null,
       "visibility": null,
       "width": null
      }
     },
     "d9d2ba99fb914068acadf37b3f620d10": {
      "model_module": "@jupyter-widgets/controls",
      "model_module_version": "1.5.0",
      "model_name": "ProgressStyleModel",
      "state": {
       "_model_module": "@jupyter-widgets/controls",
       "_model_module_version": "1.5.0",
       "_model_name": "ProgressStyleModel",
       "_view_count": null,
       "_view_module": "@jupyter-widgets/base",
       "_view_module_version": "1.2.0",
       "_view_name": "StyleView",
       "bar_color": null,
       "description_width": ""
      }
     },
     "da89bec7821b46debaa5327d1342e49e": {
      "model_module": "@jupyter-widgets/controls",
      "model_module_version": "1.5.0",
      "model_name": "ProgressStyleModel",
      "state": {
       "_model_module": "@jupyter-widgets/controls",
       "_model_module_version": "1.5.0",
       "_model_name": "ProgressStyleModel",
       "_view_count": null,
       "_view_module": "@jupyter-widgets/base",
       "_view_module_version": "1.2.0",
       "_view_name": "StyleView",
       "bar_color": null,
       "description_width": ""
      }
     },
     "df28e785a1dc493dbade61ada9a83892": {
      "model_module": "@jupyter-widgets/base",
      "model_module_version": "1.2.0",
      "model_name": "LayoutModel",
      "state": {
       "_model_module": "@jupyter-widgets/base",
       "_model_module_version": "1.2.0",
       "_model_name": "LayoutModel",
       "_view_count": null,
       "_view_module": "@jupyter-widgets/base",
       "_view_module_version": "1.2.0",
       "_view_name": "LayoutView",
       "align_content": null,
       "align_items": null,
       "align_self": null,
       "border": null,
       "bottom": null,
       "display": null,
       "flex": null,
       "flex_flow": null,
       "grid_area": null,
       "grid_auto_columns": null,
       "grid_auto_flow": null,
       "grid_auto_rows": null,
       "grid_column": null,
       "grid_gap": null,
       "grid_row": null,
       "grid_template_areas": null,
       "grid_template_columns": null,
       "grid_template_rows": null,
       "height": null,
       "justify_content": null,
       "justify_items": null,
       "left": null,
       "margin": null,
       "max_height": null,
       "max_width": null,
       "min_height": null,
       "min_width": null,
       "object_fit": null,
       "object_position": null,
       "order": null,
       "overflow": null,
       "overflow_x": null,
       "overflow_y": null,
       "padding": null,
       "right": null,
       "top": null,
       "visibility": null,
       "width": null
      }
     },
     "df2af9207e5e4eaaa509ded343c55d4b": {
      "model_module": "@jupyter-widgets/base",
      "model_module_version": "1.2.0",
      "model_name": "LayoutModel",
      "state": {
       "_model_module": "@jupyter-widgets/base",
       "_model_module_version": "1.2.0",
       "_model_name": "LayoutModel",
       "_view_count": null,
       "_view_module": "@jupyter-widgets/base",
       "_view_module_version": "1.2.0",
       "_view_name": "LayoutView",
       "align_content": null,
       "align_items": null,
       "align_self": null,
       "border": null,
       "bottom": null,
       "display": null,
       "flex": null,
       "flex_flow": null,
       "grid_area": null,
       "grid_auto_columns": null,
       "grid_auto_flow": null,
       "grid_auto_rows": null,
       "grid_column": null,
       "grid_gap": null,
       "grid_row": null,
       "grid_template_areas": null,
       "grid_template_columns": null,
       "grid_template_rows": null,
       "height": null,
       "justify_content": null,
       "justify_items": null,
       "left": null,
       "margin": null,
       "max_height": null,
       "max_width": null,
       "min_height": null,
       "min_width": null,
       "object_fit": null,
       "object_position": null,
       "order": null,
       "overflow": null,
       "overflow_x": null,
       "overflow_y": null,
       "padding": null,
       "right": null,
       "top": null,
       "visibility": null,
       "width": null
      }
     },
     "df919669d9104e56a3e0841be115d205": {
      "model_module": "@jupyter-widgets/base",
      "model_module_version": "1.2.0",
      "model_name": "LayoutModel",
      "state": {
       "_model_module": "@jupyter-widgets/base",
       "_model_module_version": "1.2.0",
       "_model_name": "LayoutModel",
       "_view_count": null,
       "_view_module": "@jupyter-widgets/base",
       "_view_module_version": "1.2.0",
       "_view_name": "LayoutView",
       "align_content": null,
       "align_items": null,
       "align_self": null,
       "border": null,
       "bottom": null,
       "display": null,
       "flex": null,
       "flex_flow": null,
       "grid_area": null,
       "grid_auto_columns": null,
       "grid_auto_flow": null,
       "grid_auto_rows": null,
       "grid_column": null,
       "grid_gap": null,
       "grid_row": null,
       "grid_template_areas": null,
       "grid_template_columns": null,
       "grid_template_rows": null,
       "height": null,
       "justify_content": null,
       "justify_items": null,
       "left": null,
       "margin": null,
       "max_height": null,
       "max_width": null,
       "min_height": null,
       "min_width": null,
       "object_fit": null,
       "object_position": null,
       "order": null,
       "overflow": null,
       "overflow_x": null,
       "overflow_y": null,
       "padding": null,
       "right": null,
       "top": null,
       "visibility": null,
       "width": null
      }
     },
     "ea39cf24f6804435bf7c95685acac86a": {
      "model_module": "@jupyter-widgets/controls",
      "model_module_version": "1.5.0",
      "model_name": "HBoxModel",
      "state": {
       "_dom_classes": [],
       "_model_module": "@jupyter-widgets/controls",
       "_model_module_version": "1.5.0",
       "_model_name": "HBoxModel",
       "_view_count": null,
       "_view_module": "@jupyter-widgets/controls",
       "_view_module_version": "1.5.0",
       "_view_name": "HBoxView",
       "box_style": "",
       "children": [
        "IPY_MODEL_4f8f47dbfb794c2cae600f259fca2a72",
        "IPY_MODEL_9a69c8600d4c44d5a7e969d872798b02",
        "IPY_MODEL_85ae49742a8745b6877953ef09bfbd61"
       ],
       "layout": "IPY_MODEL_3195388dd41b44f7a184a7bf3615a160"
      }
     },
     "ee70d2ea464345bbba59502c519aee23": {
      "model_module": "@jupyter-widgets/base",
      "model_module_version": "1.2.0",
      "model_name": "LayoutModel",
      "state": {
       "_model_module": "@jupyter-widgets/base",
       "_model_module_version": "1.2.0",
       "_model_name": "LayoutModel",
       "_view_count": null,
       "_view_module": "@jupyter-widgets/base",
       "_view_module_version": "1.2.0",
       "_view_name": "LayoutView",
       "align_content": null,
       "align_items": null,
       "align_self": null,
       "border": null,
       "bottom": null,
       "display": null,
       "flex": null,
       "flex_flow": null,
       "grid_area": null,
       "grid_auto_columns": null,
       "grid_auto_flow": null,
       "grid_auto_rows": null,
       "grid_column": null,
       "grid_gap": null,
       "grid_row": null,
       "grid_template_areas": null,
       "grid_template_columns": null,
       "grid_template_rows": null,
       "height": null,
       "justify_content": null,
       "justify_items": null,
       "left": null,
       "margin": null,
       "max_height": null,
       "max_width": null,
       "min_height": null,
       "min_width": null,
       "object_fit": null,
       "object_position": null,
       "order": null,
       "overflow": null,
       "overflow_x": null,
       "overflow_y": null,
       "padding": null,
       "right": null,
       "top": null,
       "visibility": null,
       "width": null
      }
     }
    },
    "version_major": 2,
    "version_minor": 0
   }
  }
 },
 "nbformat": 4,
 "nbformat_minor": 5
}
