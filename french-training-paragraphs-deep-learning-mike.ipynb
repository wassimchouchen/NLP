{
 "cells": [
  {
   "cell_type": "code",
   "execution_count": 1,
   "id": "69ff1df1",
   "metadata": {
    "_cell_guid": "b1076dfc-b9ad-4769-8c92-a6c4dae69d19",
    "_uuid": "8f2839f25d086af736a60e9eeb907d3b93b6e0e5",
    "execution": {
     "iopub.execute_input": "2022-06-30T11:11:50.815371Z",
     "iopub.status.busy": "2022-06-30T11:11:50.807182Z",
     "iopub.status.idle": "2022-06-30T11:12:00.395898Z",
     "shell.execute_reply": "2022-06-30T11:12:00.394826Z",
     "shell.execute_reply.started": "2022-06-30T11:03:01.608051Z"
    },
    "papermill": {
     "duration": 9.678318,
     "end_time": "2022-06-30T11:12:00.396141",
     "exception": false,
     "start_time": "2022-06-30T11:11:50.717823",
     "status": "completed"
    },
    "tags": []
   },
   "outputs": [],
   "source": [
    "import os\n",
    "\n",
    "import random\n",
    "import numpy as np\n",
    "\n",
    "import pandas as pd\n",
    "import torch\n",
    "from torch.utils.data import Dataset, random_split\n",
    "from transformers import (\n",
    "    AdamW,\n",
    "    Trainer,\n",
    "    TrainingArguments,\n",
    "    AutoTokenizer,\n",
    "    AutoModelForSequenceClassification,\n",
    "    get_cosine_schedule_with_warmup,\n",
    ")\n",
    "from sklearn.preprocessing import LabelEncoder\n",
    "from sklearn.metrics import accuracy_score"
   ]
  },
  {
   "cell_type": "code",
   "execution_count": 2,
   "id": "f89c5833",
   "metadata": {
    "execution": {
     "iopub.execute_input": "2022-06-30T11:12:00.474357Z",
     "iopub.status.busy": "2022-06-30T11:12:00.473305Z",
     "iopub.status.idle": "2022-06-30T11:12:05.024603Z",
     "shell.execute_reply": "2022-06-30T11:12:05.024028Z",
     "shell.execute_reply.started": "2022-06-30T11:03:01.660155Z"
    },
    "papermill": {
     "duration": 4.591597,
     "end_time": "2022-06-30T11:12:05.024741",
     "exception": false,
     "start_time": "2022-06-30T11:12:00.433144",
     "status": "completed"
    },
    "tags": []
   },
   "outputs": [
    {
     "data": {
      "application/vnd.jupyter.widget-view+json": {
       "model_id": "613ddd4642a841088ee6e6206f6e2cb3",
       "version_major": 2,
       "version_minor": 0
      },
      "text/plain": [
       "Downloading:   0%|          | 0.00/420 [00:00<?, ?B/s]"
      ]
     },
     "metadata": {},
     "output_type": "display_data"
    },
    {
     "data": {
      "application/vnd.jupyter.widget-view+json": {
       "model_id": "3a94cd03ce4e4b0fbefe2fafa4f8d7b3",
       "version_major": 2,
       "version_minor": 0
      },
      "text/plain": [
       "Downloading:   0%|          | 0.00/227k [00:00<?, ?B/s]"
      ]
     },
     "metadata": {},
     "output_type": "display_data"
    },
    {
     "data": {
      "application/vnd.jupyter.widget-view+json": {
       "model_id": "26bf171aa3f048118671e5707d81d361",
       "version_major": 2,
       "version_minor": 0
      },
      "text/plain": [
       "Downloading:   0%|          | 0.00/83.0 [00:00<?, ?B/s]"
      ]
     },
     "metadata": {},
     "output_type": "display_data"
    }
   ],
   "source": [
    "model_name = \"dbmdz/bert-base-french-europeana-cased\"\n",
    "\n",
    "tokenizer = AutoTokenizer.from_pretrained(model_name, ignore_mismatched_sizes=True)\n",
    "\n",
    "device = torch.device(\"cuda\" if torch.cuda.is_available() else \"cpu\")"
   ]
  },
  {
   "cell_type": "code",
   "execution_count": 3,
   "id": "dd0de0ce",
   "metadata": {
    "execution": {
     "iopub.execute_input": "2022-06-30T11:12:05.102297Z",
     "iopub.status.busy": "2022-06-30T11:12:05.101103Z",
     "iopub.status.idle": "2022-06-30T11:12:05.104532Z",
     "shell.execute_reply": "2022-06-30T11:12:05.103920Z",
     "shell.execute_reply.started": "2022-06-30T11:03:04.514824Z"
    },
    "papermill": {
     "duration": 0.043088,
     "end_time": "2022-06-30T11:12:05.104654",
     "exception": false,
     "start_time": "2022-06-30T11:12:05.061566",
     "status": "completed"
    },
    "tags": []
   },
   "outputs": [],
   "source": [
    "lr = 2e-5\n",
    "epochs =  6\n",
    "batch_size = 5\n",
    "max_seq_len = 75\n",
    "\n",
    "test_frac = 0.1"
   ]
  },
  {
   "cell_type": "code",
   "execution_count": 4,
   "id": "fda5c24e",
   "metadata": {
    "execution": {
     "iopub.execute_input": "2022-06-30T11:12:05.180163Z",
     "iopub.status.busy": "2022-06-30T11:12:05.179400Z",
     "iopub.status.idle": "2022-06-30T11:12:05.187862Z",
     "shell.execute_reply": "2022-06-30T11:12:05.187175Z",
     "shell.execute_reply.started": "2022-06-30T11:03:04.524305Z"
    },
    "papermill": {
     "duration": 0.048932,
     "end_time": "2022-06-30T11:12:05.188045",
     "exception": false,
     "start_time": "2022-06-30T11:12:05.139113",
     "status": "completed"
    },
    "tags": []
   },
   "outputs": [],
   "source": [
    "import os\n",
    "\n",
    "def set_seed(seed=106052):\n",
    "    \"\"\"Set seed for reproducibility.\n",
    "    \"\"\"\n",
    "    random.seed(seed)\n",
    "    np.random.seed(seed)\n",
    "    torch.manual_seed(seed)\n",
    "    torch.cuda.manual_seed_all(seed)\n",
    "    \n",
    "    os.environ['PYTHONHASHSEED'] = str(seed)\n",
    "    \n",
    "set_seed()"
   ]
  },
  {
   "cell_type": "code",
   "execution_count": 5,
   "id": "91fbfe8d",
   "metadata": {
    "execution": {
     "iopub.execute_input": "2022-06-30T11:12:05.264826Z",
     "iopub.status.busy": "2022-06-30T11:12:05.263959Z",
     "iopub.status.idle": "2022-06-30T11:12:05.267345Z",
     "shell.execute_reply": "2022-06-30T11:12:05.267929Z",
     "shell.execute_reply.started": "2022-06-30T11:03:04.538726Z"
    },
    "papermill": {
     "duration": 0.045714,
     "end_time": "2022-06-30T11:12:05.268097",
     "exception": false,
     "start_time": "2022-06-30T11:12:05.222383",
     "status": "completed"
    },
    "tags": []
   },
   "outputs": [],
   "source": [
    "class CEFRDataset(Dataset):\n",
    "    \"\"\"Classification dataset, built on top of pytorch dataset object\n",
    "    \"\"\"\n",
    "    \n",
    "    def __init__(self, texts, labels):\n",
    "        \n",
    "        self.encoder = LabelEncoder()\n",
    "        print(self.encoder.__dict__)\n",
    "        self.texts = texts\n",
    "        self.labels = self.encoder.fit_transform(labels)\n",
    "\n",
    "    def __len__(self):\n",
    "        return len(self.texts)\n",
    "\n",
    "    def __getitem__(self, index):\n",
    "        text = self.texts[index]\n",
    "        label = self.labels[index]\n",
    "        encoded_text = tokenizer(\n",
    "            text,\n",
    "            padding=\"max_length\",\n",
    "            max_length=max_seq_len,\n",
    "            truncation=True,\n",
    "            return_tensors=\"pt\",\n",
    "        )\n",
    "        encoded_text[\"input_ids\"] = encoded_text[\"input_ids\"].squeeze()\n",
    "        encoded_text[\"attention_mask\"] = encoded_text[\"attention_mask\"].squeeze()\n",
    "        label = torch.tensor(label)\n",
    "\n",
    "        return {\n",
    "            \"input_ids\": encoded_text[\"input_ids\"],\n",
    "            \"attention_mask\": encoded_text[\"attention_mask\"],\n",
    "            \"labels\": label,\n",
    "        }\n",
    "\n",
    "    def get_labels(self):\n",
    "        return self.labels"
   ]
  },
  {
   "cell_type": "code",
   "execution_count": 6,
   "id": "d492ed7b",
   "metadata": {
    "execution": {
     "iopub.execute_input": "2022-06-30T11:12:05.342409Z",
     "iopub.status.busy": "2022-06-30T11:12:05.341352Z",
     "iopub.status.idle": "2022-06-30T11:12:05.344080Z",
     "shell.execute_reply": "2022-06-30T11:12:05.344600Z",
     "shell.execute_reply.started": "2022-06-30T11:03:04.554481Z"
    },
    "papermill": {
     "duration": 0.041765,
     "end_time": "2022-06-30T11:12:05.344772",
     "exception": false,
     "start_time": "2022-06-30T11:12:05.303007",
     "status": "completed"
    },
    "tags": []
   },
   "outputs": [],
   "source": [
    "def get_model(pretrained_checkpoint):\n",
    "    model = AutoModelForSequenceClassification.from_pretrained(\n",
    "        pretrained_checkpoint, num_labels=6\n",
    "    )\n",
    "    return model.to(device)"
   ]
  },
  {
   "cell_type": "code",
   "execution_count": 7,
   "id": "c8315880",
   "metadata": {
    "execution": {
     "iopub.execute_input": "2022-06-30T11:12:05.418354Z",
     "iopub.status.busy": "2022-06-30T11:12:05.417346Z",
     "iopub.status.idle": "2022-06-30T11:12:05.425068Z",
     "shell.execute_reply": "2022-06-30T11:12:05.424468Z",
     "shell.execute_reply.started": "2022-06-30T11:03:04.564204Z"
    },
    "papermill": {
     "duration": 0.045753,
     "end_time": "2022-06-30T11:12:05.425188",
     "exception": false,
     "start_time": "2022-06-30T11:12:05.379435",
     "status": "completed"
    },
    "tags": []
   },
   "outputs": [],
   "source": [
    "def train(train_set, valid_set, epochs=10, warmup_size=0.1, lr=1e-3, batch_size=16):\n",
    "    model = get_model(model_name)\n",
    "    optim = AdamW(model.parameters(), lr=lr)\n",
    "    scheduler = get_scheduler(\n",
    "        optim, warmup_size, round(len(train_set) / batch_size * epochs)\n",
    "    )\n",
    "    training_args = get_training_args(epochs, batch_size)\n",
    "    trainer = Trainer(\n",
    "        model=model,\n",
    "        args=training_args,\n",
    "        train_dataset=train_set,\n",
    "        eval_dataset=valid_set,\n",
    "        optimizers=[optim, scheduler],\n",
    "        compute_metrics=compute_accuracy,\n",
    "    )\n",
    "    trainer.train()\n",
    "    trainer.save_model()\n",
    "    return trainer"
   ]
  },
  {
   "cell_type": "code",
   "execution_count": 8,
   "id": "e1a01c1a",
   "metadata": {
    "execution": {
     "iopub.execute_input": "2022-06-30T11:12:05.498245Z",
     "iopub.status.busy": "2022-06-30T11:12:05.497162Z",
     "iopub.status.idle": "2022-06-30T11:12:05.501961Z",
     "shell.execute_reply": "2022-06-30T11:12:05.501380Z",
     "shell.execute_reply.started": "2022-06-30T11:03:04.579557Z"
    },
    "papermill": {
     "duration": 0.041745,
     "end_time": "2022-06-30T11:12:05.502082",
     "exception": false,
     "start_time": "2022-06-30T11:12:05.460337",
     "status": "completed"
    },
    "tags": []
   },
   "outputs": [],
   "source": [
    "# def get_model(pretrained_checkpoint):\n",
    "#     model = AutoModelForSequenceClassification.from_pretrained(\n",
    "#         pretrained_checkpoint, num_labels=6\n",
    "#     )\n",
    "#     return model.to(device)"
   ]
  },
  {
   "cell_type": "code",
   "execution_count": 9,
   "id": "5b7281dc",
   "metadata": {
    "execution": {
     "iopub.execute_input": "2022-06-30T11:12:05.580338Z",
     "iopub.status.busy": "2022-06-30T11:12:05.579175Z",
     "iopub.status.idle": "2022-06-30T11:12:05.582497Z",
     "shell.execute_reply": "2022-06-30T11:12:05.581962Z",
     "shell.execute_reply.started": "2022-06-30T11:03:04.591861Z"
    },
    "papermill": {
     "duration": 0.045983,
     "end_time": "2022-06-30T11:12:05.582650",
     "exception": false,
     "start_time": "2022-06-30T11:12:05.536667",
     "status": "completed"
    },
    "tags": []
   },
   "outputs": [],
   "source": [
    "os.environ[\"WANDB_DISABLED\"] = \"true\"\n",
    "\n",
    "\n",
    "def get_scheduler(optimizer, warmup_size, total_steps):\n",
    "    scheduler = get_cosine_schedule_with_warmup(\n",
    "        optimizer,\n",
    "        num_warmup_steps=round(total_steps * warmup_size),\n",
    "        num_training_steps=total_steps,\n",
    "    )\n",
    "    return scheduler\n",
    "\n",
    "\n",
    "def get_training_args(epochs, batch_size):\n",
    "    return TrainingArguments(\n",
    "        output_dir=\"./b\",\n",
    "        num_train_epochs=epochs,\n",
    "        per_device_train_batch_size=batch_size,\n",
    "        logging_steps=50,\n",
    "        fp16=False,\n",
    "        evaluation_strategy=\"epoch\",\n",
    "        eval_accumulation_steps=1,\n",
    "        report_to=None,\n",
    "        save_total_limit=1,\n",
    "        load_best_model_at_end=True\n",
    "    )\n",
    "\n",
    "\n",
    "def compute_accuracy(pred):\n",
    "    labels = pred.label_ids\n",
    "    preds = pred.predictions.argmax(-1)\n",
    "    acc = accuracy_score(labels, preds)\n",
    "    return {\"accuracy\": acc}\n",
    "\n"
   ]
  },
  {
   "cell_type": "code",
   "execution_count": 10,
   "id": "c4c2db75",
   "metadata": {
    "execution": {
     "iopub.execute_input": "2022-06-30T11:12:05.656013Z",
     "iopub.status.busy": "2022-06-30T11:12:05.654901Z",
     "iopub.status.idle": "2022-06-30T11:12:05.659345Z",
     "shell.execute_reply": "2022-06-30T11:12:05.658710Z",
     "shell.execute_reply.started": "2022-06-30T11:03:04.604915Z"
    },
    "papermill": {
     "duration": 0.042322,
     "end_time": "2022-06-30T11:12:05.659463",
     "exception": false,
     "start_time": "2022-06-30T11:12:05.617141",
     "status": "completed"
    },
    "tags": []
   },
   "outputs": [],
   "source": [
    "lr = 2e-5\n",
    "epochs =  7\n",
    "batch_size = 8\n",
    "max_seq_len = 512"
   ]
  },
  {
   "cell_type": "code",
   "execution_count": 11,
   "id": "b337e96e",
   "metadata": {
    "execution": {
     "iopub.execute_input": "2022-06-30T11:12:05.738993Z",
     "iopub.status.busy": "2022-06-30T11:12:05.737983Z",
     "iopub.status.idle": "2022-06-30T11:12:05.740585Z",
     "shell.execute_reply": "2022-06-30T11:12:05.741112Z",
     "shell.execute_reply.started": "2022-06-30T11:03:04.617759Z"
    },
    "papermill": {
     "duration": 0.046514,
     "end_time": "2022-06-30T11:12:05.741267",
     "exception": false,
     "start_time": "2022-06-30T11:12:05.694753",
     "status": "completed"
    },
    "tags": []
   },
   "outputs": [],
   "source": [
    "def split_valid(df, frac=0.1):\n",
    "    \n",
    "    val = pd.DataFrame()\n",
    "    val[\"text\"] = \"\"\n",
    "    val[\"label\"] = -1\n",
    "    \n",
    "    for i in df.label.unique():\n",
    "        val = pd.concat([val, df[df.label == i].sample(frac=frac)])\n",
    "        \n",
    "    return df[~df.index.isin(val.index)].sample(frac=1).reset_index(drop=True) , val.sample(frac=1).reset_index(drop=True)"
   ]
  },
  {
   "cell_type": "code",
   "execution_count": 12,
   "id": "4e39b193",
   "metadata": {
    "execution": {
     "iopub.execute_input": "2022-06-30T11:12:05.823578Z",
     "iopub.status.busy": "2022-06-30T11:12:05.822971Z",
     "iopub.status.idle": "2022-06-30T11:12:05.905054Z",
     "shell.execute_reply": "2022-06-30T11:12:05.904500Z",
     "shell.execute_reply.started": "2022-06-30T11:03:04.630261Z"
    },
    "papermill": {
     "duration": 0.126395,
     "end_time": "2022-06-30T11:12:05.905174",
     "exception": false,
     "start_time": "2022-06-30T11:12:05.778779",
     "status": "completed"
    },
    "tags": []
   },
   "outputs": [],
   "source": [
    "from sklearn import preprocessing\n",
    "le = preprocessing.LabelEncoder()\n",
    "\n",
    "\n",
    "train_set_df = pd.read_csv(\"../input/frenchcefr/french dataset.csv\")\n",
    "train_set_df = train_set_df[train_set_df.label != \"XX\"]\n",
    "train_set_df = train_set_df[[\"text\", \"label\"]]\n",
    "\n",
    "train_set_df.text = train_set_df.text.apply(lambda x: x.replace(\"\\r\", \"\").replace(\"\\n\", \" \"))\n",
    "\n",
    "extra_df = pd.read_csv(\"../input/frenchcefr/french_mike_june.csv\")\n",
    "extra_df.columns = [\"text\", \"label\", \"label_\"]\n",
    "extra_df = extra_df[[\"text\", \"label\"]]\n",
    "extra_df.text = extra_df.text.astype(str)\n",
    "train_set_df = pd.concat([train_set_df, extra_df]).reset_index(drop=True)\n",
    "\n",
    "train_set_df, valid_set_df = split_valid(train_set_df)"
   ]
  },
  {
   "cell_type": "code",
   "execution_count": 13,
   "id": "934baa29",
   "metadata": {
    "execution": {
     "iopub.execute_input": "2022-06-30T11:12:05.982299Z",
     "iopub.status.busy": "2022-06-30T11:12:05.981535Z",
     "iopub.status.idle": "2022-06-30T11:12:05.984861Z",
     "shell.execute_reply": "2022-06-30T11:12:05.985403Z",
     "shell.execute_reply.started": "2022-06-30T11:03:04.669705Z"
    },
    "papermill": {
     "duration": 0.045693,
     "end_time": "2022-06-30T11:12:05.985549",
     "exception": false,
     "start_time": "2022-06-30T11:12:05.939856",
     "status": "completed"
    },
    "tags": []
   },
   "outputs": [
    {
     "data": {
      "text/plain": [
       "array(['A2', 'B1', 'B2', 'A1', 'C1', 'C2'], dtype=object)"
      ]
     },
     "execution_count": 13,
     "metadata": {},
     "output_type": "execute_result"
    }
   ],
   "source": [
    "train_set_df.label.unique()"
   ]
  },
  {
   "cell_type": "code",
   "execution_count": 14,
   "id": "3e4defd1",
   "metadata": {
    "execution": {
     "iopub.execute_input": "2022-06-30T11:12:06.059939Z",
     "iopub.status.busy": "2022-06-30T11:12:06.058852Z",
     "iopub.status.idle": "2022-06-30T11:12:06.062626Z",
     "shell.execute_reply": "2022-06-30T11:12:06.063297Z",
     "shell.execute_reply.started": "2022-06-30T11:03:04.682500Z"
    },
    "papermill": {
     "duration": 0.044006,
     "end_time": "2022-06-30T11:12:06.063474",
     "exception": false,
     "start_time": "2022-06-30T11:12:06.019468",
     "status": "completed"
    },
    "tags": []
   },
   "outputs": [
    {
     "data": {
      "text/plain": [
       "array(['A2', 'C1', 'B2', 'A1', 'B1', 'C2'], dtype=object)"
      ]
     },
     "execution_count": 14,
     "metadata": {},
     "output_type": "execute_result"
    }
   ],
   "source": [
    "extra_df.label.unique()"
   ]
  },
  {
   "cell_type": "code",
   "execution_count": 15,
   "id": "3d1ad66a",
   "metadata": {
    "execution": {
     "iopub.execute_input": "2022-06-30T11:12:06.138912Z",
     "iopub.status.busy": "2022-06-30T11:12:06.138101Z",
     "iopub.status.idle": "2022-06-30T11:12:06.141113Z",
     "shell.execute_reply": "2022-06-30T11:12:06.141600Z",
     "shell.execute_reply.started": "2022-06-30T11:03:04.698665Z"
    },
    "papermill": {
     "duration": 0.0435,
     "end_time": "2022-06-30T11:12:06.141754",
     "exception": false,
     "start_time": "2022-06-30T11:12:06.098254",
     "status": "completed"
    },
    "tags": []
   },
   "outputs": [],
   "source": [
    "train_set_df.label = le.fit_transform(train_set_df.label)\n",
    "valid_set_df.label = le.transform(valid_set_df.label)"
   ]
  },
  {
   "cell_type": "code",
   "execution_count": 16,
   "id": "3efd3ed4",
   "metadata": {
    "execution": {
     "iopub.execute_input": "2022-06-30T11:12:06.219664Z",
     "iopub.status.busy": "2022-06-30T11:12:06.218590Z",
     "iopub.status.idle": "2022-06-30T11:12:06.222220Z",
     "shell.execute_reply": "2022-06-30T11:12:06.222702Z",
     "shell.execute_reply.started": "2022-06-30T11:03:04.706556Z"
    },
    "papermill": {
     "duration": 0.046377,
     "end_time": "2022-06-30T11:12:06.222845",
     "exception": false,
     "start_time": "2022-06-30T11:12:06.176468",
     "status": "completed"
    },
    "tags": []
   },
   "outputs": [
    {
     "data": {
      "text/plain": [
       "array([1, 2, 3, 0, 4, 5])"
      ]
     },
     "execution_count": 16,
     "metadata": {},
     "output_type": "execute_result"
    }
   ],
   "source": [
    "train_set_df.label.unique()"
   ]
  },
  {
   "cell_type": "code",
   "execution_count": 17,
   "id": "7c1edee9",
   "metadata": {
    "execution": {
     "iopub.execute_input": "2022-06-30T11:12:06.299211Z",
     "iopub.status.busy": "2022-06-30T11:12:06.298351Z",
     "iopub.status.idle": "2022-06-30T11:12:06.301613Z",
     "shell.execute_reply": "2022-06-30T11:12:06.302239Z",
     "shell.execute_reply.started": "2022-06-30T11:03:04.720359Z"
    },
    "papermill": {
     "duration": 0.044894,
     "end_time": "2022-06-30T11:12:06.302435",
     "exception": false,
     "start_time": "2022-06-30T11:12:06.257541",
     "status": "completed"
    },
    "tags": []
   },
   "outputs": [
    {
     "data": {
      "text/plain": [
       "array([2, 4, 0, 1, 3, 5])"
      ]
     },
     "execution_count": 17,
     "metadata": {},
     "output_type": "execute_result"
    }
   ],
   "source": [
    "valid_set_df.label.unique()"
   ]
  },
  {
   "cell_type": "code",
   "execution_count": 18,
   "id": "17451838",
   "metadata": {
    "execution": {
     "iopub.execute_input": "2022-06-30T11:12:06.378979Z",
     "iopub.status.busy": "2022-06-30T11:12:06.377953Z",
     "iopub.status.idle": "2022-06-30T11:12:06.385152Z",
     "shell.execute_reply": "2022-06-30T11:12:06.384484Z",
     "shell.execute_reply.started": "2022-06-30T11:03:04.735398Z"
    },
    "papermill": {
     "duration": 0.046824,
     "end_time": "2022-06-30T11:12:06.385295",
     "exception": false,
     "start_time": "2022-06-30T11:12:06.338471",
     "status": "completed"
    },
    "tags": []
   },
   "outputs": [
    {
     "data": {
      "text/plain": [
       "6"
      ]
     },
     "execution_count": 18,
     "metadata": {},
     "output_type": "execute_result"
    }
   ],
   "source": [
    "train_set_df.label.nunique()"
   ]
  },
  {
   "cell_type": "code",
   "execution_count": 19,
   "id": "6523f9af",
   "metadata": {
    "execution": {
     "iopub.execute_input": "2022-06-30T11:12:06.464121Z",
     "iopub.status.busy": "2022-06-30T11:12:06.463090Z",
     "iopub.status.idle": "2022-06-30T11:12:06.469496Z",
     "shell.execute_reply": "2022-06-30T11:12:06.468955Z",
     "shell.execute_reply.started": "2022-06-30T11:03:04.743255Z"
    },
    "papermill": {
     "duration": 0.04798,
     "end_time": "2022-06-30T11:12:06.469617",
     "exception": false,
     "start_time": "2022-06-30T11:12:06.421637",
     "status": "completed"
    },
    "tags": []
   },
   "outputs": [
    {
     "data": {
      "text/plain": [
       "6"
      ]
     },
     "execution_count": 19,
     "metadata": {},
     "output_type": "execute_result"
    }
   ],
   "source": [
    "valid_set_df.label.nunique()"
   ]
  },
  {
   "cell_type": "code",
   "execution_count": 20,
   "id": "c9a971c1",
   "metadata": {
    "execution": {
     "iopub.execute_input": "2022-06-30T11:12:06.553990Z",
     "iopub.status.busy": "2022-06-30T11:12:06.552983Z",
     "iopub.status.idle": "2022-06-30T11:12:06.556789Z",
     "shell.execute_reply": "2022-06-30T11:12:06.557305Z",
     "shell.execute_reply.started": "2022-06-30T11:03:04.758621Z"
    },
    "papermill": {
     "duration": 0.048998,
     "end_time": "2022-06-30T11:12:06.557462",
     "exception": false,
     "start_time": "2022-06-30T11:12:06.508464",
     "status": "completed"
    },
    "tags": []
   },
   "outputs": [
    {
     "data": {
      "text/plain": [
       "2    175\n",
       "0     93\n",
       "1     92\n",
       "4     74\n",
       "3     53\n",
       "5     13\n",
       "Name: label, dtype: int64"
      ]
     },
     "execution_count": 20,
     "metadata": {},
     "output_type": "execute_result"
    }
   ],
   "source": [
    "train_set_df.label.value_counts()"
   ]
  },
  {
   "cell_type": "code",
   "execution_count": 21,
   "id": "e2c27ae0",
   "metadata": {
    "execution": {
     "iopub.execute_input": "2022-06-30T11:12:06.638410Z",
     "iopub.status.busy": "2022-06-30T11:12:06.637366Z",
     "iopub.status.idle": "2022-06-30T11:12:06.641519Z",
     "shell.execute_reply": "2022-06-30T11:12:06.642212Z",
     "shell.execute_reply.started": "2022-06-30T11:03:04.775391Z"
    },
    "papermill": {
     "duration": 0.047513,
     "end_time": "2022-06-30T11:12:06.642366",
     "exception": false,
     "start_time": "2022-06-30T11:12:06.594853",
     "status": "completed"
    },
    "tags": []
   },
   "outputs": [
    {
     "data": {
      "text/plain": [
       "2    19\n",
       "0    10\n",
       "1    10\n",
       "4     8\n",
       "3     6\n",
       "5     1\n",
       "Name: label, dtype: int64"
      ]
     },
     "execution_count": 21,
     "metadata": {},
     "output_type": "execute_result"
    }
   ],
   "source": [
    "valid_set_df.label.value_counts()"
   ]
  },
  {
   "cell_type": "code",
   "execution_count": 22,
   "id": "f052bb4a",
   "metadata": {
    "execution": {
     "iopub.execute_input": "2022-06-30T11:12:06.720154Z",
     "iopub.status.busy": "2022-06-30T11:12:06.718945Z",
     "iopub.status.idle": "2022-06-30T11:12:06.723328Z",
     "shell.execute_reply": "2022-06-30T11:12:06.722679Z",
     "shell.execute_reply.started": "2022-06-30T11:03:04.789037Z"
    },
    "papermill": {
     "duration": 0.044455,
     "end_time": "2022-06-30T11:12:06.723456",
     "exception": false,
     "start_time": "2022-06-30T11:12:06.679001",
     "status": "completed"
    },
    "tags": []
   },
   "outputs": [],
   "source": [
    "# train_set_df = train_set_df.sample(frac=1)"
   ]
  },
  {
   "cell_type": "code",
   "execution_count": 23,
   "id": "24691c28",
   "metadata": {
    "execution": {
     "iopub.execute_input": "2022-06-30T11:12:06.806592Z",
     "iopub.status.busy": "2022-06-30T11:12:06.805628Z",
     "iopub.status.idle": "2022-06-30T11:12:06.808493Z",
     "shell.execute_reply": "2022-06-30T11:12:06.808984Z",
     "shell.execute_reply.started": "2022-06-30T11:03:04.796824Z"
    },
    "papermill": {
     "duration": 0.04804,
     "end_time": "2022-06-30T11:12:06.809152",
     "exception": false,
     "start_time": "2022-06-30T11:12:06.761112",
     "status": "completed"
    },
    "tags": []
   },
   "outputs": [],
   "source": [
    "from tqdm import tqdm \n",
    "\n",
    "def predict(model, text):\n",
    "    \n",
    "    preds = []\n",
    "    \n",
    "    for i in tqdm(range(len(text))):\n",
    "        tokenized = tokenizer(text[i:i+1], return_tensors=\"pt\", truncation=True, max_length=512).to(\"cuda\")\n",
    "        pred = model(**tokenized)\n",
    "        preds.append(pred.logits.argmax(-1).item())\n",
    "\n",
    "    return preds"
   ]
  },
  {
   "cell_type": "code",
   "execution_count": null,
   "id": "4f74c23f",
   "metadata": {
    "papermill": {
     "duration": 0.038463,
     "end_time": "2022-06-30T11:12:06.884448",
     "exception": false,
     "start_time": "2022-06-30T11:12:06.845985",
     "status": "completed"
    },
    "tags": []
   },
   "outputs": [],
   "source": []
  },
  {
   "cell_type": "code",
   "execution_count": 24,
   "id": "53445a6c",
   "metadata": {
    "execution": {
     "iopub.execute_input": "2022-06-30T11:12:06.969097Z",
     "iopub.status.busy": "2022-06-30T11:12:06.967794Z",
     "iopub.status.idle": "2022-06-30T11:17:47.568693Z",
     "shell.execute_reply": "2022-06-30T11:17:47.567697Z",
     "shell.execute_reply.started": "2022-06-30T11:03:04.809240Z"
    },
    "papermill": {
     "duration": 340.647176,
     "end_time": "2022-06-30T11:17:47.568869",
     "exception": false,
     "start_time": "2022-06-30T11:12:06.921693",
     "status": "completed"
    },
    "tags": []
   },
   "outputs": [
    {
     "name": "stdout",
     "output_type": "stream",
     "text": [
      "{}\n",
      "{}\n"
     ]
    },
    {
     "data": {
      "application/vnd.jupyter.widget-view+json": {
       "model_id": "3849565c5ffc49349edd79920bbf882a",
       "version_major": 2,
       "version_minor": 0
      },
      "text/plain": [
       "Downloading:   0%|          | 0.00/445M [00:00<?, ?B/s]"
      ]
     },
     "metadata": {},
     "output_type": "display_data"
    },
    {
     "name": "stderr",
     "output_type": "stream",
     "text": [
      "Some weights of the model checkpoint at dbmdz/bert-base-french-europeana-cased were not used when initializing BertForSequenceClassification: ['cls.predictions.bias', 'cls.predictions.transform.dense.weight', 'cls.predictions.transform.dense.bias', 'cls.predictions.transform.LayerNorm.weight', 'cls.predictions.transform.LayerNorm.bias', 'cls.predictions.decoder.weight', 'cls.predictions.decoder.bias', 'cls.seq_relationship.weight', 'cls.seq_relationship.bias']\n",
      "- This IS expected if you are initializing BertForSequenceClassification from the checkpoint of a model trained on another task or with another architecture (e.g. initializing a BertForSequenceClassification model from a BertForPreTraining model).\n",
      "- This IS NOT expected if you are initializing BertForSequenceClassification from the checkpoint of a model that you expect to be exactly identical (initializing a BertForSequenceClassification model from a BertForSequenceClassification model).\n",
      "Some weights of BertForSequenceClassification were not initialized from the model checkpoint at dbmdz/bert-base-french-europeana-cased and are newly initialized: ['classifier.weight', 'classifier.bias']\n",
      "You should probably TRAIN this model on a down-stream task to be able to use it for predictions and inference.\n",
      "Using the `WAND_DISABLED` environment variable is deprecated and will be removed in v5. Use the --report_to flag to control the integrations used for logging result (for instance --report_to none).\n"
     ]
    },
    {
     "data": {
      "text/html": [
       "\n",
       "    <div>\n",
       "        <style>\n",
       "            /* Turns off some styling */\n",
       "            progress {\n",
       "                /* gets rid of default border in Firefox and Opera. */\n",
       "                border: none;\n",
       "                /* Needs to be in here for Safari polyfill so background images work as expected. */\n",
       "                background-size: auto;\n",
       "            }\n",
       "        </style>\n",
       "      \n",
       "      <progress value='441' max='441' style='width:300px; height:20px; vertical-align: middle;'></progress>\n",
       "      [441/441 05:08, Epoch 7/7]\n",
       "    </div>\n",
       "    <table border=\"1\" class=\"dataframe\">\n",
       "  <thead>\n",
       "    <tr style=\"text-align: left;\">\n",
       "      <th>Epoch</th>\n",
       "      <th>Training Loss</th>\n",
       "      <th>Validation Loss</th>\n",
       "      <th>Accuracy</th>\n",
       "      <th>Runtime</th>\n",
       "      <th>Samples Per Second</th>\n",
       "    </tr>\n",
       "  </thead>\n",
       "  <tbody>\n",
       "    <tr>\n",
       "      <td>1</td>\n",
       "      <td>1.697300</td>\n",
       "      <td>1.437526</td>\n",
       "      <td>0.425926</td>\n",
       "      <td>1.081300</td>\n",
       "      <td>49.939000</td>\n",
       "    </tr>\n",
       "    <tr>\n",
       "      <td>2</td>\n",
       "      <td>1.345900</td>\n",
       "      <td>1.096065</td>\n",
       "      <td>0.648148</td>\n",
       "      <td>1.087100</td>\n",
       "      <td>49.675000</td>\n",
       "    </tr>\n",
       "    <tr>\n",
       "      <td>3</td>\n",
       "      <td>1.067900</td>\n",
       "      <td>0.927059</td>\n",
       "      <td>0.666667</td>\n",
       "      <td>1.090000</td>\n",
       "      <td>49.543000</td>\n",
       "    </tr>\n",
       "    <tr>\n",
       "      <td>4</td>\n",
       "      <td>0.595300</td>\n",
       "      <td>0.905393</td>\n",
       "      <td>0.648148</td>\n",
       "      <td>1.085900</td>\n",
       "      <td>49.727000</td>\n",
       "    </tr>\n",
       "    <tr>\n",
       "      <td>5</td>\n",
       "      <td>0.405400</td>\n",
       "      <td>0.892211</td>\n",
       "      <td>0.722222</td>\n",
       "      <td>1.097400</td>\n",
       "      <td>49.205000</td>\n",
       "    </tr>\n",
       "    <tr>\n",
       "      <td>6</td>\n",
       "      <td>0.354400</td>\n",
       "      <td>0.871526</td>\n",
       "      <td>0.740741</td>\n",
       "      <td>1.088900</td>\n",
       "      <td>49.589000</td>\n",
       "    </tr>\n",
       "    <tr>\n",
       "      <td>7</td>\n",
       "      <td>0.288400</td>\n",
       "      <td>0.864024</td>\n",
       "      <td>0.722222</td>\n",
       "      <td>1.083800</td>\n",
       "      <td>49.824000</td>\n",
       "    </tr>\n",
       "  </tbody>\n",
       "</table><p>"
      ],
      "text/plain": [
       "<IPython.core.display.HTML object>"
      ]
     },
     "metadata": {},
     "output_type": "display_data"
    }
   ],
   "source": [
    "train_set = CEFRDataset(train_set_df[\"text\"], train_set_df[\"label\"])\n",
    "valid_set = CEFRDataset(valid_set_df[\"text\"], valid_set_df[\"label\"])\n",
    "\n",
    "\n",
    "trainer_second = train(train_set, valid_set, epochs=epochs, warmup_size=0.2, lr=lr, batch_size=batch_size)\n",
    "model = trainer_second.model"
   ]
  },
  {
   "cell_type": "code",
   "execution_count": 25,
   "id": "19162d87",
   "metadata": {
    "execution": {
     "iopub.execute_input": "2022-06-30T11:17:47.665478Z",
     "iopub.status.busy": "2022-06-30T11:17:47.664707Z",
     "iopub.status.idle": "2022-06-30T11:17:48.623243Z",
     "shell.execute_reply": "2022-06-30T11:17:48.623825Z",
     "shell.execute_reply.started": "2022-06-30T11:08:16.525461Z"
    },
    "papermill": {
     "duration": 1.010271,
     "end_time": "2022-06-30T11:17:48.624023",
     "exception": false,
     "start_time": "2022-06-30T11:17:47.613752",
     "status": "completed"
    },
    "tags": []
   },
   "outputs": [
    {
     "name": "stderr",
     "output_type": "stream",
     "text": [
      "100%|██████████| 54/54 [00:00<00:00, 57.04it/s]\n"
     ]
    }
   ],
   "source": [
    "valid_set_df[\"preds\"] = train_set.encoder.inverse_transform(predict(model, valid_set_df.text.tolist()))\n",
    "valid_set_df.columns = [\"text\", \"cefr\", \"preds\"] "
   ]
  },
  {
   "cell_type": "code",
   "execution_count": 26,
   "id": "00916245",
   "metadata": {
    "execution": {
     "iopub.execute_input": "2022-06-30T11:17:50.917498Z",
     "iopub.status.busy": "2022-06-30T11:17:50.916390Z",
     "iopub.status.idle": "2022-06-30T11:17:52.969609Z",
     "shell.execute_reply": "2022-06-30T11:17:52.970236Z",
     "shell.execute_reply.started": "2022-06-30T11:08:18.175403Z"
    },
    "papermill": {
     "duration": 4.284861,
     "end_time": "2022-06-30T11:17:52.970403",
     "exception": false,
     "start_time": "2022-06-30T11:17:48.685542",
     "status": "completed"
    },
    "tags": []
   },
   "outputs": [
    {
     "name": "stderr",
     "output_type": "stream",
     "text": [
      "100%|██████████| 111/111 [00:02<00:00, 55.05it/s]\n"
     ]
    }
   ],
   "source": [
    "lingua = pd.read_csv(\"../input/lingua/fr_lingua.csv\")\n",
    "lingua[\"preds\"] = train_set.encoder.inverse_transform(predict(model, lingua.text.tolist()))"
   ]
  },
  {
   "cell_type": "code",
   "execution_count": 27,
   "id": "da678d9e",
   "metadata": {
    "execution": {
     "iopub.execute_input": "2022-06-30T11:17:53.075617Z",
     "iopub.status.busy": "2022-06-30T11:17:53.072858Z",
     "iopub.status.idle": "2022-06-30T11:17:53.078197Z",
     "shell.execute_reply": "2022-06-30T11:17:53.078666Z",
     "shell.execute_reply.started": "2022-06-30T11:08:21.404003Z"
    },
    "papermill": {
     "duration": 0.058215,
     "end_time": "2022-06-30T11:17:53.078832",
     "exception": false,
     "start_time": "2022-06-30T11:17:53.020617",
     "status": "completed"
    },
    "tags": []
   },
   "outputs": [],
   "source": [
    "lingua[\"e_cefr\"] = le.transform(lingua.cefr)"
   ]
  },
  {
   "cell_type": "code",
   "execution_count": 28,
   "id": "3d41ff93",
   "metadata": {
    "execution": {
     "iopub.execute_input": "2022-06-30T11:17:53.183781Z",
     "iopub.status.busy": "2022-06-30T11:17:53.183057Z",
     "iopub.status.idle": "2022-06-30T11:17:53.195999Z",
     "shell.execute_reply": "2022-06-30T11:17:53.195281Z",
     "shell.execute_reply.started": "2022-06-30T11:08:21.410538Z"
    },
    "papermill": {
     "duration": 0.067646,
     "end_time": "2022-06-30T11:17:53.196137",
     "exception": false,
     "start_time": "2022-06-30T11:17:53.128491",
     "status": "completed"
    },
    "tags": []
   },
   "outputs": [
    {
     "data": {
      "text/html": [
       "<div>\n",
       "<style scoped>\n",
       "    .dataframe tbody tr th:only-of-type {\n",
       "        vertical-align: middle;\n",
       "    }\n",
       "\n",
       "    .dataframe tbody tr th {\n",
       "        vertical-align: top;\n",
       "    }\n",
       "\n",
       "    .dataframe thead th {\n",
       "        text-align: right;\n",
       "    }\n",
       "</style>\n",
       "<table border=\"1\" class=\"dataframe\">\n",
       "  <thead>\n",
       "    <tr style=\"text-align: right;\">\n",
       "      <th></th>\n",
       "      <th>text</th>\n",
       "      <th>cefr</th>\n",
       "      <th>preds</th>\n",
       "      <th>e_cefr</th>\n",
       "    </tr>\n",
       "  </thead>\n",
       "  <tbody>\n",
       "    <tr>\n",
       "      <th>0</th>\n",
       "      <td>Je m’appelle Jessica. Je suis une fille, je su...</td>\n",
       "      <td>A1</td>\n",
       "      <td>5</td>\n",
       "      <td>0</td>\n",
       "    </tr>\n",
       "    <tr>\n",
       "      <th>1</th>\n",
       "      <td>Je m'appelle Angélica Summer, j'ai 12 ans et j...</td>\n",
       "      <td>A1</td>\n",
       "      <td>3</td>\n",
       "      <td>0</td>\n",
       "    </tr>\n",
       "    <tr>\n",
       "      <th>2</th>\n",
       "      <td>Franck : Bonjour Nicolas ! Nicolas : Salut Fra...</td>\n",
       "      <td>A1</td>\n",
       "      <td>5</td>\n",
       "      <td>0</td>\n",
       "    </tr>\n",
       "    <tr>\n",
       "      <th>3</th>\n",
       "      <td>Pierre est un jeune garçon de 14 ans. Il vit à...</td>\n",
       "      <td>A1</td>\n",
       "      <td>4</td>\n",
       "      <td>0</td>\n",
       "    </tr>\n",
       "    <tr>\n",
       "      <th>4</th>\n",
       "      <td>Le jour de la rentrée au collège, Pierre fait ...</td>\n",
       "      <td>A1</td>\n",
       "      <td>2</td>\n",
       "      <td>0</td>\n",
       "    </tr>\n",
       "  </tbody>\n",
       "</table>\n",
       "</div>"
      ],
      "text/plain": [
       "                                                text cefr  preds  e_cefr\n",
       "0  Je m’appelle Jessica. Je suis une fille, je su...   A1      5       0\n",
       "1  Je m'appelle Angélica Summer, j'ai 12 ans et j...   A1      3       0\n",
       "2  Franck : Bonjour Nicolas ! Nicolas : Salut Fra...   A1      5       0\n",
       "3  Pierre est un jeune garçon de 14 ans. Il vit à...   A1      4       0\n",
       "4  Le jour de la rentrée au collège, Pierre fait ...   A1      2       0"
      ]
     },
     "execution_count": 28,
     "metadata": {},
     "output_type": "execute_result"
    }
   ],
   "source": [
    "lingua.head()"
   ]
  },
  {
   "cell_type": "code",
   "execution_count": 29,
   "id": "b9c198ee",
   "metadata": {
    "execution": {
     "iopub.execute_input": "2022-06-30T11:17:53.303480Z",
     "iopub.status.busy": "2022-06-30T11:17:53.302388Z",
     "iopub.status.idle": "2022-06-30T11:17:53.307214Z",
     "shell.execute_reply": "2022-06-30T11:17:53.306452Z",
     "shell.execute_reply.started": "2022-06-30T11:08:21.434186Z"
    },
    "papermill": {
     "duration": 0.060489,
     "end_time": "2022-06-30T11:17:53.307385",
     "exception": false,
     "start_time": "2022-06-30T11:17:53.246896",
     "status": "completed"
    },
    "tags": []
   },
   "outputs": [
    {
     "data": {
      "text/plain": [
       "5"
      ]
     },
     "execution_count": 29,
     "metadata": {},
     "output_type": "execute_result"
    }
   ],
   "source": [
    "lingua.preds.nunique()"
   ]
  },
  {
   "cell_type": "code",
   "execution_count": 30,
   "id": "801d38ac",
   "metadata": {
    "execution": {
     "iopub.execute_input": "2022-06-30T11:17:53.414414Z",
     "iopub.status.busy": "2022-06-30T11:17:53.413398Z",
     "iopub.status.idle": "2022-06-30T11:17:53.421767Z",
     "shell.execute_reply": "2022-06-30T11:17:53.421221Z",
     "shell.execute_reply.started": "2022-06-30T11:08:21.446816Z"
    },
    "papermill": {
     "duration": 0.063212,
     "end_time": "2022-06-30T11:17:53.421951",
     "exception": false,
     "start_time": "2022-06-30T11:17:53.358739",
     "status": "completed"
    },
    "tags": []
   },
   "outputs": [
    {
     "data": {
      "text/plain": [
       "B1    60\n",
       "A2    26\n",
       "A1    13\n",
       "B2    12\n",
       "Name: cefr, dtype: int64"
      ]
     },
     "execution_count": 30,
     "metadata": {},
     "output_type": "execute_result"
    }
   ],
   "source": [
    "lingua.cefr.value_counts()"
   ]
  },
  {
   "cell_type": "code",
   "execution_count": 31,
   "id": "c8d72baa",
   "metadata": {
    "execution": {
     "iopub.execute_input": "2022-06-30T11:17:53.532145Z",
     "iopub.status.busy": "2022-06-30T11:17:53.531172Z",
     "iopub.status.idle": "2022-06-30T11:17:53.534613Z",
     "shell.execute_reply": "2022-06-30T11:17:53.535152Z",
     "shell.execute_reply.started": "2022-06-30T11:08:21.461162Z"
    },
    "papermill": {
     "duration": 0.060611,
     "end_time": "2022-06-30T11:17:53.535289",
     "exception": false,
     "start_time": "2022-06-30T11:17:53.474678",
     "status": "completed"
    },
    "tags": []
   },
   "outputs": [
    {
     "data": {
      "text/plain": [
       "4"
      ]
     },
     "execution_count": 31,
     "metadata": {},
     "output_type": "execute_result"
    }
   ],
   "source": [
    "lingua.cefr.nunique()"
   ]
  },
  {
   "cell_type": "code",
   "execution_count": 32,
   "id": "0c4e7e46",
   "metadata": {
    "execution": {
     "iopub.execute_input": "2022-06-30T11:17:53.643252Z",
     "iopub.status.busy": "2022-06-30T11:17:53.642167Z",
     "iopub.status.idle": "2022-06-30T11:17:53.650175Z",
     "shell.execute_reply": "2022-06-30T11:17:53.649476Z",
     "shell.execute_reply.started": "2022-06-30T11:08:21.469880Z"
    },
    "papermill": {
     "duration": 0.063545,
     "end_time": "2022-06-30T11:17:53.650311",
     "exception": false,
     "start_time": "2022-06-30T11:17:53.586766",
     "status": "completed"
    },
    "tags": []
   },
   "outputs": [
    {
     "data": {
      "text/plain": [
       "2    42\n",
       "4    37\n",
       "1    19\n",
       "3     8\n",
       "5     5\n",
       "Name: preds, dtype: int64"
      ]
     },
     "execution_count": 32,
     "metadata": {},
     "output_type": "execute_result"
    }
   ],
   "source": [
    "lingua.preds.value_counts()"
   ]
  },
  {
   "cell_type": "code",
   "execution_count": 33,
   "id": "3b79cc2b",
   "metadata": {
    "execution": {
     "iopub.execute_input": "2022-06-30T11:17:54.535400Z",
     "iopub.status.busy": "2022-06-30T11:17:54.534248Z",
     "iopub.status.idle": "2022-06-30T11:17:54.537628Z",
     "shell.execute_reply": "2022-06-30T11:17:54.537024Z",
     "shell.execute_reply.started": "2022-06-30T11:08:21.484304Z"
    },
    "papermill": {
     "duration": 0.788424,
     "end_time": "2022-06-30T11:17:54.537799",
     "exception": false,
     "start_time": "2022-06-30T11:17:53.749375",
     "status": "completed"
    },
    "tags": []
   },
   "outputs": [],
   "source": [
    "def compute_average_distance(df, col_name=\"cefr\"):\n",
    "    \n",
    "    labels = [\"A1\", \"A2\", \"B1\", \"B2\", \"C1\", \"C2\"]\n",
    "    return (df[col_name].apply(lambda x: labels.index(x)) - df.preds.apply(lambda x: labels.index(x))).abs().mean()\n"
   ]
  },
  {
   "cell_type": "code",
   "execution_count": 34,
   "id": "1aadea24",
   "metadata": {
    "execution": {
     "iopub.execute_input": "2022-06-30T11:17:54.650916Z",
     "iopub.status.busy": "2022-06-30T11:17:54.649931Z",
     "iopub.status.idle": "2022-06-30T11:17:54.652871Z",
     "shell.execute_reply": "2022-06-30T11:17:54.652388Z",
     "shell.execute_reply.started": "2022-06-30T11:08:21.501969Z"
    },
    "papermill": {
     "duration": 0.059569,
     "end_time": "2022-06-30T11:17:54.653048",
     "exception": false,
     "start_time": "2022-06-30T11:17:54.593479",
     "status": "completed"
    },
    "tags": []
   },
   "outputs": [],
   "source": [
    "lingua[\"preds\"] = le.inverse_transform(lingua.preds)"
   ]
  },
  {
   "cell_type": "code",
   "execution_count": 35,
   "id": "d7763e7a",
   "metadata": {
    "execution": {
     "iopub.execute_input": "2022-06-30T11:17:54.763301Z",
     "iopub.status.busy": "2022-06-30T11:17:54.762150Z",
     "iopub.status.idle": "2022-06-30T11:17:54.774172Z",
     "shell.execute_reply": "2022-06-30T11:17:54.774917Z",
     "shell.execute_reply.started": "2022-06-30T11:08:21.513048Z"
    },
    "papermill": {
     "duration": 0.069508,
     "end_time": "2022-06-30T11:17:54.775139",
     "exception": false,
     "start_time": "2022-06-30T11:17:54.705631",
     "status": "completed"
    },
    "tags": []
   },
   "outputs": [
    {
     "name": "stdout",
     "output_type": "stream",
     "text": [
      "Distance: \n",
      "1.4594594594594594\n",
      "Lingua accuracy: 0.23423423423423423\n"
     ]
    }
   ],
   "source": [
    "print(\"Distance: \")\n",
    "print(compute_average_distance(lingua, \"cefr\"))\n",
    "\n",
    "print(f\"Lingua accuracy: {(lingua['preds'] == lingua['cefr']).mean()}\")"
   ]
  },
  {
   "cell_type": "code",
   "execution_count": null,
   "id": "9024c90b",
   "metadata": {
    "papermill": {
     "duration": 0.053028,
     "end_time": "2022-06-30T11:17:54.881347",
     "exception": false,
     "start_time": "2022-06-30T11:17:54.828319",
     "status": "completed"
    },
    "tags": []
   },
   "outputs": [],
   "source": []
  },
  {
   "cell_type": "code",
   "execution_count": null,
   "id": "5d196b5b",
   "metadata": {
    "papermill": {
     "duration": 0.051751,
     "end_time": "2022-06-30T11:17:54.985256",
     "exception": false,
     "start_time": "2022-06-30T11:17:54.933505",
     "status": "completed"
    },
    "tags": []
   },
   "outputs": [],
   "source": []
  },
  {
   "cell_type": "code",
   "execution_count": null,
   "id": "ab67bdd1",
   "metadata": {
    "papermill": {
     "duration": 0.051885,
     "end_time": "2022-06-30T11:17:55.089359",
     "exception": false,
     "start_time": "2022-06-30T11:17:55.037474",
     "status": "completed"
    },
    "tags": []
   },
   "outputs": [],
   "source": []
  }
 ],
 "metadata": {
  "kernelspec": {
   "display_name": "Python 3",
   "language": "python",
   "name": "python3"
  },
  "language_info": {
   "codemirror_mode": {
    "name": "ipython",
    "version": 3
   },
   "file_extension": ".py",
   "mimetype": "text/x-python",
   "name": "python",
   "nbconvert_exporter": "python",
   "pygments_lexer": "ipython3",
   "version": "3.7.10"
  },
  "papermill": {
   "default_parameters": {},
   "duration": 377.085395,
   "end_time": "2022-06-30T11:17:58.446939",
   "environment_variables": {},
   "exception": null,
   "input_path": "__notebook__.ipynb",
   "output_path": "__notebook__.ipynb",
   "parameters": {},
   "start_time": "2022-06-30T11:11:41.361544",
   "version": "2.3.3"
  },
  "widgets": {
   "application/vnd.jupyter.widget-state+json": {
    "state": {
     "01b0704c427942039af2ee5d5f7debbe": {
      "model_module": "@jupyter-widgets/base",
      "model_module_version": "1.2.0",
      "model_name": "LayoutModel",
      "state": {
       "_model_module": "@jupyter-widgets/base",
       "_model_module_version": "1.2.0",
       "_model_name": "LayoutModel",
       "_view_count": null,
       "_view_module": "@jupyter-widgets/base",
       "_view_module_version": "1.2.0",
       "_view_name": "LayoutView",
       "align_content": null,
       "align_items": null,
       "align_self": null,
       "border": null,
       "bottom": null,
       "display": null,
       "flex": null,
       "flex_flow": null,
       "grid_area": null,
       "grid_auto_columns": null,
       "grid_auto_flow": null,
       "grid_auto_rows": null,
       "grid_column": null,
       "grid_gap": null,
       "grid_row": null,
       "grid_template_areas": null,
       "grid_template_columns": null,
       "grid_template_rows": null,
       "height": null,
       "justify_content": null,
       "justify_items": null,
       "left": null,
       "margin": null,
       "max_height": null,
       "max_width": null,
       "min_height": null,
       "min_width": null,
       "object_fit": null,
       "object_position": null,
       "order": null,
       "overflow": null,
       "overflow_x": null,
       "overflow_y": null,
       "padding": null,
       "right": null,
       "top": null,
       "visibility": null,
       "width": null
      }
     },
     "03cb1c152f294bfab41a36c674250de1": {
      "model_module": "@jupyter-widgets/controls",
      "model_module_version": "1.5.0",
      "model_name": "DescriptionStyleModel",
      "state": {
       "_model_module": "@jupyter-widgets/controls",
       "_model_module_version": "1.5.0",
       "_model_name": "DescriptionStyleModel",
       "_view_count": null,
       "_view_module": "@jupyter-widgets/base",
       "_view_module_version": "1.2.0",
       "_view_name": "StyleView",
       "description_width": ""
      }
     },
     "05c347284bfc4ec59bed71ee364d30b1": {
      "model_module": "@jupyter-widgets/base",
      "model_module_version": "1.2.0",
      "model_name": "LayoutModel",
      "state": {
       "_model_module": "@jupyter-widgets/base",
       "_model_module_version": "1.2.0",
       "_model_name": "LayoutModel",
       "_view_count": null,
       "_view_module": "@jupyter-widgets/base",
       "_view_module_version": "1.2.0",
       "_view_name": "LayoutView",
       "align_content": null,
       "align_items": null,
       "align_self": null,
       "border": null,
       "bottom": null,
       "display": null,
       "flex": null,
       "flex_flow": null,
       "grid_area": null,
       "grid_auto_columns": null,
       "grid_auto_flow": null,
       "grid_auto_rows": null,
       "grid_column": null,
       "grid_gap": null,
       "grid_row": null,
       "grid_template_areas": null,
       "grid_template_columns": null,
       "grid_template_rows": null,
       "height": null,
       "justify_content": null,
       "justify_items": null,
       "left": null,
       "margin": null,
       "max_height": null,
       "max_width": null,
       "min_height": null,
       "min_width": null,
       "object_fit": null,
       "object_position": null,
       "order": null,
       "overflow": null,
       "overflow_x": null,
       "overflow_y": null,
       "padding": null,
       "right": null,
       "top": null,
       "visibility": null,
       "width": null
      }
     },
     "0d6711113274482eb724b8f71cd4460e": {
      "model_module": "@jupyter-widgets/controls",
      "model_module_version": "1.5.0",
      "model_name": "DescriptionStyleModel",
      "state": {
       "_model_module": "@jupyter-widgets/controls",
       "_model_module_version": "1.5.0",
       "_model_name": "DescriptionStyleModel",
       "_view_count": null,
       "_view_module": "@jupyter-widgets/base",
       "_view_module_version": "1.2.0",
       "_view_name": "StyleView",
       "description_width": ""
      }
     },
     "11334ad9dfd44c8f87b0ca0c525078f6": {
      "model_module": "@jupyter-widgets/controls",
      "model_module_version": "1.5.0",
      "model_name": "DescriptionStyleModel",
      "state": {
       "_model_module": "@jupyter-widgets/controls",
       "_model_module_version": "1.5.0",
       "_model_name": "DescriptionStyleModel",
       "_view_count": null,
       "_view_module": "@jupyter-widgets/base",
       "_view_module_version": "1.2.0",
       "_view_name": "StyleView",
       "description_width": ""
      }
     },
     "26bf171aa3f048118671e5707d81d361": {
      "model_module": "@jupyter-widgets/controls",
      "model_module_version": "1.5.0",
      "model_name": "HBoxModel",
      "state": {
       "_dom_classes": [],
       "_model_module": "@jupyter-widgets/controls",
       "_model_module_version": "1.5.0",
       "_model_name": "HBoxModel",
       "_view_count": null,
       "_view_module": "@jupyter-widgets/controls",
       "_view_module_version": "1.5.0",
       "_view_name": "HBoxView",
       "box_style": "",
       "children": [
        "IPY_MODEL_4afbb27bb1494fb18349181941d5743a",
        "IPY_MODEL_4b384b96bae24217958cb9712abbfb0c",
        "IPY_MODEL_8f8e57d909f9457b9d584de77213191f"
       ],
       "layout": "IPY_MODEL_2ccfcd5b5b9344bc8e8319acf3c978b7"
      }
     },
     "2ccfcd5b5b9344bc8e8319acf3c978b7": {
      "model_module": "@jupyter-widgets/base",
      "model_module_version": "1.2.0",
      "model_name": "LayoutModel",
      "state": {
       "_model_module": "@jupyter-widgets/base",
       "_model_module_version": "1.2.0",
       "_model_name": "LayoutModel",
       "_view_count": null,
       "_view_module": "@jupyter-widgets/base",
       "_view_module_version": "1.2.0",
       "_view_name": "LayoutView",
       "align_content": null,
       "align_items": null,
       "align_self": null,
       "border": null,
       "bottom": null,
       "display": null,
       "flex": null,
       "flex_flow": null,
       "grid_area": null,
       "grid_auto_columns": null,
       "grid_auto_flow": null,
       "grid_auto_rows": null,
       "grid_column": null,
       "grid_gap": null,
       "grid_row": null,
       "grid_template_areas": null,
       "grid_template_columns": null,
       "grid_template_rows": null,
       "height": null,
       "justify_content": null,
       "justify_items": null,
       "left": null,
       "margin": null,
       "max_height": null,
       "max_width": null,
       "min_height": null,
       "min_width": null,
       "object_fit": null,
       "object_position": null,
       "order": null,
       "overflow": null,
       "overflow_x": null,
       "overflow_y": null,
       "padding": null,
       "right": null,
       "top": null,
       "visibility": null,
       "width": null
      }
     },
     "2dfc5c8515994ba88a609b27cc482af4": {
      "model_module": "@jupyter-widgets/controls",
      "model_module_version": "1.5.0",
      "model_name": "HTMLModel",
      "state": {
       "_dom_classes": [],
       "_model_module": "@jupyter-widgets/controls",
       "_model_module_version": "1.5.0",
       "_model_name": "HTMLModel",
       "_view_count": null,
       "_view_module": "@jupyter-widgets/controls",
       "_view_module_version": "1.5.0",
       "_view_name": "HTMLView",
       "description": "",
       "description_tooltip": null,
       "layout": "IPY_MODEL_61d1b7d4c88949c7b444b9b7c1d2c5db",
       "placeholder": "​",
       "style": "IPY_MODEL_ed31ca9d314b40a2929452a35503cce5",
       "value": " 445M/445M [00:16&lt;00:00, 30.6MB/s]"
      }
     },
     "32384523743449bea0ce23a525bad964": {
      "model_module": "@jupyter-widgets/base",
      "model_module_version": "1.2.0",
      "model_name": "LayoutModel",
      "state": {
       "_model_module": "@jupyter-widgets/base",
       "_model_module_version": "1.2.0",
       "_model_name": "LayoutModel",
       "_view_count": null,
       "_view_module": "@jupyter-widgets/base",
       "_view_module_version": "1.2.0",
       "_view_name": "LayoutView",
       "align_content": null,
       "align_items": null,
       "align_self": null,
       "border": null,
       "bottom": null,
       "display": null,
       "flex": null,
       "flex_flow": null,
       "grid_area": null,
       "grid_auto_columns": null,
       "grid_auto_flow": null,
       "grid_auto_rows": null,
       "grid_column": null,
       "grid_gap": null,
       "grid_row": null,
       "grid_template_areas": null,
       "grid_template_columns": null,
       "grid_template_rows": null,
       "height": null,
       "justify_content": null,
       "justify_items": null,
       "left": null,
       "margin": null,
       "max_height": null,
       "max_width": null,
       "min_height": null,
       "min_width": null,
       "object_fit": null,
       "object_position": null,
       "order": null,
       "overflow": null,
       "overflow_x": null,
       "overflow_y": null,
       "padding": null,
       "right": null,
       "top": null,
       "visibility": null,
       "width": null
      }
     },
     "37364f5fa7fd49b99c14c6b0b6098e32": {
      "model_module": "@jupyter-widgets/base",
      "model_module_version": "1.2.0",
      "model_name": "LayoutModel",
      "state": {
       "_model_module": "@jupyter-widgets/base",
       "_model_module_version": "1.2.0",
       "_model_name": "LayoutModel",
       "_view_count": null,
       "_view_module": "@jupyter-widgets/base",
       "_view_module_version": "1.2.0",
       "_view_name": "LayoutView",
       "align_content": null,
       "align_items": null,
       "align_self": null,
       "border": null,
       "bottom": null,
       "display": null,
       "flex": null,
       "flex_flow": null,
       "grid_area": null,
       "grid_auto_columns": null,
       "grid_auto_flow": null,
       "grid_auto_rows": null,
       "grid_column": null,
       "grid_gap": null,
       "grid_row": null,
       "grid_template_areas": null,
       "grid_template_columns": null,
       "grid_template_rows": null,
       "height": null,
       "justify_content": null,
       "justify_items": null,
       "left": null,
       "margin": null,
       "max_height": null,
       "max_width": null,
       "min_height": null,
       "min_width": null,
       "object_fit": null,
       "object_position": null,
       "order": null,
       "overflow": null,
       "overflow_x": null,
       "overflow_y": null,
       "padding": null,
       "right": null,
       "top": null,
       "visibility": null,
       "width": null
      }
     },
     "3849565c5ffc49349edd79920bbf882a": {
      "model_module": "@jupyter-widgets/controls",
      "model_module_version": "1.5.0",
      "model_name": "HBoxModel",
      "state": {
       "_dom_classes": [],
       "_model_module": "@jupyter-widgets/controls",
       "_model_module_version": "1.5.0",
       "_model_name": "HBoxModel",
       "_view_count": null,
       "_view_module": "@jupyter-widgets/controls",
       "_view_module_version": "1.5.0",
       "_view_name": "HBoxView",
       "box_style": "",
       "children": [
        "IPY_MODEL_ac5f0462115b4c6baea57956ecf8f99f",
        "IPY_MODEL_a2a206b66d2e4ee393f1e283438cffb6",
        "IPY_MODEL_2dfc5c8515994ba88a609b27cc482af4"
       ],
       "layout": "IPY_MODEL_648b336f28eb49578147a07859cb3ba3"
      }
     },
     "3a94cd03ce4e4b0fbefe2fafa4f8d7b3": {
      "model_module": "@jupyter-widgets/controls",
      "model_module_version": "1.5.0",
      "model_name": "HBoxModel",
      "state": {
       "_dom_classes": [],
       "_model_module": "@jupyter-widgets/controls",
       "_model_module_version": "1.5.0",
       "_model_name": "HBoxModel",
       "_view_count": null,
       "_view_module": "@jupyter-widgets/controls",
       "_view_module_version": "1.5.0",
       "_view_name": "HBoxView",
       "box_style": "",
       "children": [
        "IPY_MODEL_c93812b21c3a4784958c86ea103be0ca",
        "IPY_MODEL_de4c61e183c348e6a28715a668e61c1e",
        "IPY_MODEL_d050396b78704e9095fd680b9667c023"
       ],
       "layout": "IPY_MODEL_f821a508c0c94a15a30daad3996e2e30"
      }
     },
     "4162ef2f6b95475680493c5072e727ed": {
      "model_module": "@jupyter-widgets/base",
      "model_module_version": "1.2.0",
      "model_name": "LayoutModel",
      "state": {
       "_model_module": "@jupyter-widgets/base",
       "_model_module_version": "1.2.0",
       "_model_name": "LayoutModel",
       "_view_count": null,
       "_view_module": "@jupyter-widgets/base",
       "_view_module_version": "1.2.0",
       "_view_name": "LayoutView",
       "align_content": null,
       "align_items": null,
       "align_self": null,
       "border": null,
       "bottom": null,
       "display": null,
       "flex": null,
       "flex_flow": null,
       "grid_area": null,
       "grid_auto_columns": null,
       "grid_auto_flow": null,
       "grid_auto_rows": null,
       "grid_column": null,
       "grid_gap": null,
       "grid_row": null,
       "grid_template_areas": null,
       "grid_template_columns": null,
       "grid_template_rows": null,
       "height": null,
       "justify_content": null,
       "justify_items": null,
       "left": null,
       "margin": null,
       "max_height": null,
       "max_width": null,
       "min_height": null,
       "min_width": null,
       "object_fit": null,
       "object_position": null,
       "order": null,
       "overflow": null,
       "overflow_x": null,
       "overflow_y": null,
       "padding": null,
       "right": null,
       "top": null,
       "visibility": null,
       "width": null
      }
     },
     "4afbb27bb1494fb18349181941d5743a": {
      "model_module": "@jupyter-widgets/controls",
      "model_module_version": "1.5.0",
      "model_name": "HTMLModel",
      "state": {
       "_dom_classes": [],
       "_model_module": "@jupyter-widgets/controls",
       "_model_module_version": "1.5.0",
       "_model_name": "HTMLModel",
       "_view_count": null,
       "_view_module": "@jupyter-widgets/controls",
       "_view_module_version": "1.5.0",
       "_view_name": "HTMLView",
       "description": "",
       "description_tooltip": null,
       "layout": "IPY_MODEL_9f17cddeb10e480b9c3b35b70619e718",
       "placeholder": "​",
       "style": "IPY_MODEL_0d6711113274482eb724b8f71cd4460e",
       "value": "Downloading: 100%"
      }
     },
     "4b384b96bae24217958cb9712abbfb0c": {
      "model_module": "@jupyter-widgets/controls",
      "model_module_version": "1.5.0",
      "model_name": "FloatProgressModel",
      "state": {
       "_dom_classes": [],
       "_model_module": "@jupyter-widgets/controls",
       "_model_module_version": "1.5.0",
       "_model_name": "FloatProgressModel",
       "_view_count": null,
       "_view_module": "@jupyter-widgets/controls",
       "_view_module_version": "1.5.0",
       "_view_name": "ProgressView",
       "bar_style": "success",
       "description": "",
       "description_tooltip": null,
       "layout": "IPY_MODEL_05c347284bfc4ec59bed71ee364d30b1",
       "max": 83.0,
       "min": 0.0,
       "orientation": "horizontal",
       "style": "IPY_MODEL_70888dd81e934f229d8e8668ef7118b4",
       "value": 83.0
      }
     },
     "4d03e76ed7444db5bffd4b0d2d43695f": {
      "model_module": "@jupyter-widgets/controls",
      "model_module_version": "1.5.0",
      "model_name": "HTMLModel",
      "state": {
       "_dom_classes": [],
       "_model_module": "@jupyter-widgets/controls",
       "_model_module_version": "1.5.0",
       "_model_name": "HTMLModel",
       "_view_count": null,
       "_view_module": "@jupyter-widgets/controls",
       "_view_module_version": "1.5.0",
       "_view_name": "HTMLView",
       "description": "",
       "description_tooltip": null,
       "layout": "IPY_MODEL_890f3622148b442d82d139a25ac8680a",
       "placeholder": "​",
       "style": "IPY_MODEL_03cb1c152f294bfab41a36c674250de1",
       "value": "Downloading: 100%"
      }
     },
     "5a32a3c7acde4d06846962872ad1a1b7": {
      "model_module": "@jupyter-widgets/base",
      "model_module_version": "1.2.0",
      "model_name": "LayoutModel",
      "state": {
       "_model_module": "@jupyter-widgets/base",
       "_model_module_version": "1.2.0",
       "_model_name": "LayoutModel",
       "_view_count": null,
       "_view_module": "@jupyter-widgets/base",
       "_view_module_version": "1.2.0",
       "_view_name": "LayoutView",
       "align_content": null,
       "align_items": null,
       "align_self": null,
       "border": null,
       "bottom": null,
       "display": null,
       "flex": null,
       "flex_flow": null,
       "grid_area": null,
       "grid_auto_columns": null,
       "grid_auto_flow": null,
       "grid_auto_rows": null,
       "grid_column": null,
       "grid_gap": null,
       "grid_row": null,
       "grid_template_areas": null,
       "grid_template_columns": null,
       "grid_template_rows": null,
       "height": null,
       "justify_content": null,
       "justify_items": null,
       "left": null,
       "margin": null,
       "max_height": null,
       "max_width": null,
       "min_height": null,
       "min_width": null,
       "object_fit": null,
       "object_position": null,
       "order": null,
       "overflow": null,
       "overflow_x": null,
       "overflow_y": null,
       "padding": null,
       "right": null,
       "top": null,
       "visibility": null,
       "width": null
      }
     },
     "613ddd4642a841088ee6e6206f6e2cb3": {
      "model_module": "@jupyter-widgets/controls",
      "model_module_version": "1.5.0",
      "model_name": "HBoxModel",
      "state": {
       "_dom_classes": [],
       "_model_module": "@jupyter-widgets/controls",
       "_model_module_version": "1.5.0",
       "_model_name": "HBoxModel",
       "_view_count": null,
       "_view_module": "@jupyter-widgets/controls",
       "_view_module_version": "1.5.0",
       "_view_name": "HBoxView",
       "box_style": "",
       "children": [
        "IPY_MODEL_4d03e76ed7444db5bffd4b0d2d43695f",
        "IPY_MODEL_8f2a8cb14d9b4eebb74d7028ea3bfcc2",
        "IPY_MODEL_bc980176f5054bb4ab0786eadc0911f0"
       ],
       "layout": "IPY_MODEL_b5c66f9ba4f3406393d29a8ace1e027c"
      }
     },
     "61d1b7d4c88949c7b444b9b7c1d2c5db": {
      "model_module": "@jupyter-widgets/base",
      "model_module_version": "1.2.0",
      "model_name": "LayoutModel",
      "state": {
       "_model_module": "@jupyter-widgets/base",
       "_model_module_version": "1.2.0",
       "_model_name": "LayoutModel",
       "_view_count": null,
       "_view_module": "@jupyter-widgets/base",
       "_view_module_version": "1.2.0",
       "_view_name": "LayoutView",
       "align_content": null,
       "align_items": null,
       "align_self": null,
       "border": null,
       "bottom": null,
       "display": null,
       "flex": null,
       "flex_flow": null,
       "grid_area": null,
       "grid_auto_columns": null,
       "grid_auto_flow": null,
       "grid_auto_rows": null,
       "grid_column": null,
       "grid_gap": null,
       "grid_row": null,
       "grid_template_areas": null,
       "grid_template_columns": null,
       "grid_template_rows": null,
       "height": null,
       "justify_content": null,
       "justify_items": null,
       "left": null,
       "margin": null,
       "max_height": null,
       "max_width": null,
       "min_height": null,
       "min_width": null,
       "object_fit": null,
       "object_position": null,
       "order": null,
       "overflow": null,
       "overflow_x": null,
       "overflow_y": null,
       "padding": null,
       "right": null,
       "top": null,
       "visibility": null,
       "width": null
      }
     },
     "648b336f28eb49578147a07859cb3ba3": {
      "model_module": "@jupyter-widgets/base",
      "model_module_version": "1.2.0",
      "model_name": "LayoutModel",
      "state": {
       "_model_module": "@jupyter-widgets/base",
       "_model_module_version": "1.2.0",
       "_model_name": "LayoutModel",
       "_view_count": null,
       "_view_module": "@jupyter-widgets/base",
       "_view_module_version": "1.2.0",
       "_view_name": "LayoutView",
       "align_content": null,
       "align_items": null,
       "align_self": null,
       "border": null,
       "bottom": null,
       "display": null,
       "flex": null,
       "flex_flow": null,
       "grid_area": null,
       "grid_auto_columns": null,
       "grid_auto_flow": null,
       "grid_auto_rows": null,
       "grid_column": null,
       "grid_gap": null,
       "grid_row": null,
       "grid_template_areas": null,
       "grid_template_columns": null,
       "grid_template_rows": null,
       "height": null,
       "justify_content": null,
       "justify_items": null,
       "left": null,
       "margin": null,
       "max_height": null,
       "max_width": null,
       "min_height": null,
       "min_width": null,
       "object_fit": null,
       "object_position": null,
       "order": null,
       "overflow": null,
       "overflow_x": null,
       "overflow_y": null,
       "padding": null,
       "right": null,
       "top": null,
       "visibility": null,
       "width": null
      }
     },
     "70888dd81e934f229d8e8668ef7118b4": {
      "model_module": "@jupyter-widgets/controls",
      "model_module_version": "1.5.0",
      "model_name": "ProgressStyleModel",
      "state": {
       "_model_module": "@jupyter-widgets/controls",
       "_model_module_version": "1.5.0",
       "_model_name": "ProgressStyleModel",
       "_view_count": null,
       "_view_module": "@jupyter-widgets/base",
       "_view_module_version": "1.2.0",
       "_view_name": "StyleView",
       "bar_color": null,
       "description_width": ""
      }
     },
     "74750ff7f3ca431889ad549e5ffa09af": {
      "model_module": "@jupyter-widgets/controls",
      "model_module_version": "1.5.0",
      "model_name": "DescriptionStyleModel",
      "state": {
       "_model_module": "@jupyter-widgets/controls",
       "_model_module_version": "1.5.0",
       "_model_name": "DescriptionStyleModel",
       "_view_count": null,
       "_view_module": "@jupyter-widgets/base",
       "_view_module_version": "1.2.0",
       "_view_name": "StyleView",
       "description_width": ""
      }
     },
     "7f260031f4ec43f6b74e09ff69151d2b": {
      "model_module": "@jupyter-widgets/controls",
      "model_module_version": "1.5.0",
      "model_name": "DescriptionStyleModel",
      "state": {
       "_model_module": "@jupyter-widgets/controls",
       "_model_module_version": "1.5.0",
       "_model_name": "DescriptionStyleModel",
       "_view_count": null,
       "_view_module": "@jupyter-widgets/base",
       "_view_module_version": "1.2.0",
       "_view_name": "StyleView",
       "description_width": ""
      }
     },
     "86dd2ead0ed648f29251a6f4c2a9ec5e": {
      "model_module": "@jupyter-widgets/base",
      "model_module_version": "1.2.0",
      "model_name": "LayoutModel",
      "state": {
       "_model_module": "@jupyter-widgets/base",
       "_model_module_version": "1.2.0",
       "_model_name": "LayoutModel",
       "_view_count": null,
       "_view_module": "@jupyter-widgets/base",
       "_view_module_version": "1.2.0",
       "_view_name": "LayoutView",
       "align_content": null,
       "align_items": null,
       "align_self": null,
       "border": null,
       "bottom": null,
       "display": null,
       "flex": null,
       "flex_flow": null,
       "grid_area": null,
       "grid_auto_columns": null,
       "grid_auto_flow": null,
       "grid_auto_rows": null,
       "grid_column": null,
       "grid_gap": null,
       "grid_row": null,
       "grid_template_areas": null,
       "grid_template_columns": null,
       "grid_template_rows": null,
       "height": null,
       "justify_content": null,
       "justify_items": null,
       "left": null,
       "margin": null,
       "max_height": null,
       "max_width": null,
       "min_height": null,
       "min_width": null,
       "object_fit": null,
       "object_position": null,
       "order": null,
       "overflow": null,
       "overflow_x": null,
       "overflow_y": null,
       "padding": null,
       "right": null,
       "top": null,
       "visibility": null,
       "width": null
      }
     },
     "873bb253af8d4f6eb8ca68ecd6fd0d45": {
      "model_module": "@jupyter-widgets/controls",
      "model_module_version": "1.5.0",
      "model_name": "DescriptionStyleModel",
      "state": {
       "_model_module": "@jupyter-widgets/controls",
       "_model_module_version": "1.5.0",
       "_model_name": "DescriptionStyleModel",
       "_view_count": null,
       "_view_module": "@jupyter-widgets/base",
       "_view_module_version": "1.2.0",
       "_view_name": "StyleView",
       "description_width": ""
      }
     },
     "890f3622148b442d82d139a25ac8680a": {
      "model_module": "@jupyter-widgets/base",
      "model_module_version": "1.2.0",
      "model_name": "LayoutModel",
      "state": {
       "_model_module": "@jupyter-widgets/base",
       "_model_module_version": "1.2.0",
       "_model_name": "LayoutModel",
       "_view_count": null,
       "_view_module": "@jupyter-widgets/base",
       "_view_module_version": "1.2.0",
       "_view_name": "LayoutView",
       "align_content": null,
       "align_items": null,
       "align_self": null,
       "border": null,
       "bottom": null,
       "display": null,
       "flex": null,
       "flex_flow": null,
       "grid_area": null,
       "grid_auto_columns": null,
       "grid_auto_flow": null,
       "grid_auto_rows": null,
       "grid_column": null,
       "grid_gap": null,
       "grid_row": null,
       "grid_template_areas": null,
       "grid_template_columns": null,
       "grid_template_rows": null,
       "height": null,
       "justify_content": null,
       "justify_items": null,
       "left": null,
       "margin": null,
       "max_height": null,
       "max_width": null,
       "min_height": null,
       "min_width": null,
       "object_fit": null,
       "object_position": null,
       "order": null,
       "overflow": null,
       "overflow_x": null,
       "overflow_y": null,
       "padding": null,
       "right": null,
       "top": null,
       "visibility": null,
       "width": null
      }
     },
     "8f2a8cb14d9b4eebb74d7028ea3bfcc2": {
      "model_module": "@jupyter-widgets/controls",
      "model_module_version": "1.5.0",
      "model_name": "FloatProgressModel",
      "state": {
       "_dom_classes": [],
       "_model_module": "@jupyter-widgets/controls",
       "_model_module_version": "1.5.0",
       "_model_name": "FloatProgressModel",
       "_view_count": null,
       "_view_module": "@jupyter-widgets/controls",
       "_view_module_version": "1.5.0",
       "_view_name": "ProgressView",
       "bar_style": "success",
       "description": "",
       "description_tooltip": null,
       "layout": "IPY_MODEL_37364f5fa7fd49b99c14c6b0b6098e32",
       "max": 420.0,
       "min": 0.0,
       "orientation": "horizontal",
       "style": "IPY_MODEL_ea8493e63c01466ebcf1fdd256e5389a",
       "value": 420.0
      }
     },
     "8f8e57d909f9457b9d584de77213191f": {
      "model_module": "@jupyter-widgets/controls",
      "model_module_version": "1.5.0",
      "model_name": "HTMLModel",
      "state": {
       "_dom_classes": [],
       "_model_module": "@jupyter-widgets/controls",
       "_model_module_version": "1.5.0",
       "_model_name": "HTMLModel",
       "_view_count": null,
       "_view_module": "@jupyter-widgets/controls",
       "_view_module_version": "1.5.0",
       "_view_name": "HTMLView",
       "description": "",
       "description_tooltip": null,
       "layout": "IPY_MODEL_a5bf869671cf40209c79e9e7a918facd",
       "placeholder": "​",
       "style": "IPY_MODEL_873bb253af8d4f6eb8ca68ecd6fd0d45",
       "value": " 83.0/83.0 [00:00&lt;00:00, 2.58kB/s]"
      }
     },
     "9f17cddeb10e480b9c3b35b70619e718": {
      "model_module": "@jupyter-widgets/base",
      "model_module_version": "1.2.0",
      "model_name": "LayoutModel",
      "state": {
       "_model_module": "@jupyter-widgets/base",
       "_model_module_version": "1.2.0",
       "_model_name": "LayoutModel",
       "_view_count": null,
       "_view_module": "@jupyter-widgets/base",
       "_view_module_version": "1.2.0",
       "_view_name": "LayoutView",
       "align_content": null,
       "align_items": null,
       "align_self": null,
       "border": null,
       "bottom": null,
       "display": null,
       "flex": null,
       "flex_flow": null,
       "grid_area": null,
       "grid_auto_columns": null,
       "grid_auto_flow": null,
       "grid_auto_rows": null,
       "grid_column": null,
       "grid_gap": null,
       "grid_row": null,
       "grid_template_areas": null,
       "grid_template_columns": null,
       "grid_template_rows": null,
       "height": null,
       "justify_content": null,
       "justify_items": null,
       "left": null,
       "margin": null,
       "max_height": null,
       "max_width": null,
       "min_height": null,
       "min_width": null,
       "object_fit": null,
       "object_position": null,
       "order": null,
       "overflow": null,
       "overflow_x": null,
       "overflow_y": null,
       "padding": null,
       "right": null,
       "top": null,
       "visibility": null,
       "width": null
      }
     },
     "a2a206b66d2e4ee393f1e283438cffb6": {
      "model_module": "@jupyter-widgets/controls",
      "model_module_version": "1.5.0",
      "model_name": "FloatProgressModel",
      "state": {
       "_dom_classes": [],
       "_model_module": "@jupyter-widgets/controls",
       "_model_module_version": "1.5.0",
       "_model_name": "FloatProgressModel",
       "_view_count": null,
       "_view_module": "@jupyter-widgets/controls",
       "_view_module_version": "1.5.0",
       "_view_name": "ProgressView",
       "bar_style": "success",
       "description": "",
       "description_tooltip": null,
       "layout": "IPY_MODEL_cef67b6530d14d28b62fb53836a11d6d",
       "max": 445018784.0,
       "min": 0.0,
       "orientation": "horizontal",
       "style": "IPY_MODEL_b1787a44acfa4b3780bf47c220ee175d",
       "value": 445018784.0
      }
     },
     "a5bf869671cf40209c79e9e7a918facd": {
      "model_module": "@jupyter-widgets/base",
      "model_module_version": "1.2.0",
      "model_name": "LayoutModel",
      "state": {
       "_model_module": "@jupyter-widgets/base",
       "_model_module_version": "1.2.0",
       "_model_name": "LayoutModel",
       "_view_count": null,
       "_view_module": "@jupyter-widgets/base",
       "_view_module_version": "1.2.0",
       "_view_name": "LayoutView",
       "align_content": null,
       "align_items": null,
       "align_self": null,
       "border": null,
       "bottom": null,
       "display": null,
       "flex": null,
       "flex_flow": null,
       "grid_area": null,
       "grid_auto_columns": null,
       "grid_auto_flow": null,
       "grid_auto_rows": null,
       "grid_column": null,
       "grid_gap": null,
       "grid_row": null,
       "grid_template_areas": null,
       "grid_template_columns": null,
       "grid_template_rows": null,
       "height": null,
       "justify_content": null,
       "justify_items": null,
       "left": null,
       "margin": null,
       "max_height": null,
       "max_width": null,
       "min_height": null,
       "min_width": null,
       "object_fit": null,
       "object_position": null,
       "order": null,
       "overflow": null,
       "overflow_x": null,
       "overflow_y": null,
       "padding": null,
       "right": null,
       "top": null,
       "visibility": null,
       "width": null
      }
     },
     "a796c377e1bd465fa6e95f8ca75109f5": {
      "model_module": "@jupyter-widgets/controls",
      "model_module_version": "1.5.0",
      "model_name": "ProgressStyleModel",
      "state": {
       "_model_module": "@jupyter-widgets/controls",
       "_model_module_version": "1.5.0",
       "_model_name": "ProgressStyleModel",
       "_view_count": null,
       "_view_module": "@jupyter-widgets/base",
       "_view_module_version": "1.2.0",
       "_view_name": "StyleView",
       "bar_color": null,
       "description_width": ""
      }
     },
     "ac5f0462115b4c6baea57956ecf8f99f": {
      "model_module": "@jupyter-widgets/controls",
      "model_module_version": "1.5.0",
      "model_name": "HTMLModel",
      "state": {
       "_dom_classes": [],
       "_model_module": "@jupyter-widgets/controls",
       "_model_module_version": "1.5.0",
       "_model_name": "HTMLModel",
       "_view_count": null,
       "_view_module": "@jupyter-widgets/controls",
       "_view_module_version": "1.5.0",
       "_view_name": "HTMLView",
       "description": "",
       "description_tooltip": null,
       "layout": "IPY_MODEL_4162ef2f6b95475680493c5072e727ed",
       "placeholder": "​",
       "style": "IPY_MODEL_11334ad9dfd44c8f87b0ca0c525078f6",
       "value": "Downloading: 100%"
      }
     },
     "b1787a44acfa4b3780bf47c220ee175d": {
      "model_module": "@jupyter-widgets/controls",
      "model_module_version": "1.5.0",
      "model_name": "ProgressStyleModel",
      "state": {
       "_model_module": "@jupyter-widgets/controls",
       "_model_module_version": "1.5.0",
       "_model_name": "ProgressStyleModel",
       "_view_count": null,
       "_view_module": "@jupyter-widgets/base",
       "_view_module_version": "1.2.0",
       "_view_name": "StyleView",
       "bar_color": null,
       "description_width": ""
      }
     },
     "b5c66f9ba4f3406393d29a8ace1e027c": {
      "model_module": "@jupyter-widgets/base",
      "model_module_version": "1.2.0",
      "model_name": "LayoutModel",
      "state": {
       "_model_module": "@jupyter-widgets/base",
       "_model_module_version": "1.2.0",
       "_model_name": "LayoutModel",
       "_view_count": null,
       "_view_module": "@jupyter-widgets/base",
       "_view_module_version": "1.2.0",
       "_view_name": "LayoutView",
       "align_content": null,
       "align_items": null,
       "align_self": null,
       "border": null,
       "bottom": null,
       "display": null,
       "flex": null,
       "flex_flow": null,
       "grid_area": null,
       "grid_auto_columns": null,
       "grid_auto_flow": null,
       "grid_auto_rows": null,
       "grid_column": null,
       "grid_gap": null,
       "grid_row": null,
       "grid_template_areas": null,
       "grid_template_columns": null,
       "grid_template_rows": null,
       "height": null,
       "justify_content": null,
       "justify_items": null,
       "left": null,
       "margin": null,
       "max_height": null,
       "max_width": null,
       "min_height": null,
       "min_width": null,
       "object_fit": null,
       "object_position": null,
       "order": null,
       "overflow": null,
       "overflow_x": null,
       "overflow_y": null,
       "padding": null,
       "right": null,
       "top": null,
       "visibility": null,
       "width": null
      }
     },
     "bc980176f5054bb4ab0786eadc0911f0": {
      "model_module": "@jupyter-widgets/controls",
      "model_module_version": "1.5.0",
      "model_name": "HTMLModel",
      "state": {
       "_dom_classes": [],
       "_model_module": "@jupyter-widgets/controls",
       "_model_module_version": "1.5.0",
       "_model_name": "HTMLModel",
       "_view_count": null,
       "_view_module": "@jupyter-widgets/controls",
       "_view_module_version": "1.5.0",
       "_view_name": "HTMLView",
       "description": "",
       "description_tooltip": null,
       "layout": "IPY_MODEL_32384523743449bea0ce23a525bad964",
       "placeholder": "​",
       "style": "IPY_MODEL_fe88911fbf1347bb9e078a6d462d91f5",
       "value": " 420/420 [00:00&lt;00:00, 12.6kB/s]"
      }
     },
     "c93812b21c3a4784958c86ea103be0ca": {
      "model_module": "@jupyter-widgets/controls",
      "model_module_version": "1.5.0",
      "model_name": "HTMLModel",
      "state": {
       "_dom_classes": [],
       "_model_module": "@jupyter-widgets/controls",
       "_model_module_version": "1.5.0",
       "_model_name": "HTMLModel",
       "_view_count": null,
       "_view_module": "@jupyter-widgets/controls",
       "_view_module_version": "1.5.0",
       "_view_name": "HTMLView",
       "description": "",
       "description_tooltip": null,
       "layout": "IPY_MODEL_01b0704c427942039af2ee5d5f7debbe",
       "placeholder": "​",
       "style": "IPY_MODEL_7f260031f4ec43f6b74e09ff69151d2b",
       "value": "Downloading: 100%"
      }
     },
     "cef67b6530d14d28b62fb53836a11d6d": {
      "model_module": "@jupyter-widgets/base",
      "model_module_version": "1.2.0",
      "model_name": "LayoutModel",
      "state": {
       "_model_module": "@jupyter-widgets/base",
       "_model_module_version": "1.2.0",
       "_model_name": "LayoutModel",
       "_view_count": null,
       "_view_module": "@jupyter-widgets/base",
       "_view_module_version": "1.2.0",
       "_view_name": "LayoutView",
       "align_content": null,
       "align_items": null,
       "align_self": null,
       "border": null,
       "bottom": null,
       "display": null,
       "flex": null,
       "flex_flow": null,
       "grid_area": null,
       "grid_auto_columns": null,
       "grid_auto_flow": null,
       "grid_auto_rows": null,
       "grid_column": null,
       "grid_gap": null,
       "grid_row": null,
       "grid_template_areas": null,
       "grid_template_columns": null,
       "grid_template_rows": null,
       "height": null,
       "justify_content": null,
       "justify_items": null,
       "left": null,
       "margin": null,
       "max_height": null,
       "max_width": null,
       "min_height": null,
       "min_width": null,
       "object_fit": null,
       "object_position": null,
       "order": null,
       "overflow": null,
       "overflow_x": null,
       "overflow_y": null,
       "padding": null,
       "right": null,
       "top": null,
       "visibility": null,
       "width": null
      }
     },
     "d050396b78704e9095fd680b9667c023": {
      "model_module": "@jupyter-widgets/controls",
      "model_module_version": "1.5.0",
      "model_name": "HTMLModel",
      "state": {
       "_dom_classes": [],
       "_model_module": "@jupyter-widgets/controls",
       "_model_module_version": "1.5.0",
       "_model_name": "HTMLModel",
       "_view_count": null,
       "_view_module": "@jupyter-widgets/controls",
       "_view_module_version": "1.5.0",
       "_view_name": "HTMLView",
       "description": "",
       "description_tooltip": null,
       "layout": "IPY_MODEL_5a32a3c7acde4d06846962872ad1a1b7",
       "placeholder": "​",
       "style": "IPY_MODEL_74750ff7f3ca431889ad549e5ffa09af",
       "value": " 227k/227k [00:00&lt;00:00, 637kB/s]"
      }
     },
     "de4c61e183c348e6a28715a668e61c1e": {
      "model_module": "@jupyter-widgets/controls",
      "model_module_version": "1.5.0",
      "model_name": "FloatProgressModel",
      "state": {
       "_dom_classes": [],
       "_model_module": "@jupyter-widgets/controls",
       "_model_module_version": "1.5.0",
       "_model_name": "FloatProgressModel",
       "_view_count": null,
       "_view_module": "@jupyter-widgets/controls",
       "_view_module_version": "1.5.0",
       "_view_name": "ProgressView",
       "bar_style": "success",
       "description": "",
       "description_tooltip": null,
       "layout": "IPY_MODEL_86dd2ead0ed648f29251a6f4c2a9ec5e",
       "max": 227141.0,
       "min": 0.0,
       "orientation": "horizontal",
       "style": "IPY_MODEL_a796c377e1bd465fa6e95f8ca75109f5",
       "value": 227141.0
      }
     },
     "ea8493e63c01466ebcf1fdd256e5389a": {
      "model_module": "@jupyter-widgets/controls",
      "model_module_version": "1.5.0",
      "model_name": "ProgressStyleModel",
      "state": {
       "_model_module": "@jupyter-widgets/controls",
       "_model_module_version": "1.5.0",
       "_model_name": "ProgressStyleModel",
       "_view_count": null,
       "_view_module": "@jupyter-widgets/base",
       "_view_module_version": "1.2.0",
       "_view_name": "StyleView",
       "bar_color": null,
       "description_width": ""
      }
     },
     "ed31ca9d314b40a2929452a35503cce5": {
      "model_module": "@jupyter-widgets/controls",
      "model_module_version": "1.5.0",
      "model_name": "DescriptionStyleModel",
      "state": {
       "_model_module": "@jupyter-widgets/controls",
       "_model_module_version": "1.5.0",
       "_model_name": "DescriptionStyleModel",
       "_view_count": null,
       "_view_module": "@jupyter-widgets/base",
       "_view_module_version": "1.2.0",
       "_view_name": "StyleView",
       "description_width": ""
      }
     },
     "f821a508c0c94a15a30daad3996e2e30": {
      "model_module": "@jupyter-widgets/base",
      "model_module_version": "1.2.0",
      "model_name": "LayoutModel",
      "state": {
       "_model_module": "@jupyter-widgets/base",
       "_model_module_version": "1.2.0",
       "_model_name": "LayoutModel",
       "_view_count": null,
       "_view_module": "@jupyter-widgets/base",
       "_view_module_version": "1.2.0",
       "_view_name": "LayoutView",
       "align_content": null,
       "align_items": null,
       "align_self": null,
       "border": null,
       "bottom": null,
       "display": null,
       "flex": null,
       "flex_flow": null,
       "grid_area": null,
       "grid_auto_columns": null,
       "grid_auto_flow": null,
       "grid_auto_rows": null,
       "grid_column": null,
       "grid_gap": null,
       "grid_row": null,
       "grid_template_areas": null,
       "grid_template_columns": null,
       "grid_template_rows": null,
       "height": null,
       "justify_content": null,
       "justify_items": null,
       "left": null,
       "margin": null,
       "max_height": null,
       "max_width": null,
       "min_height": null,
       "min_width": null,
       "object_fit": null,
       "object_position": null,
       "order": null,
       "overflow": null,
       "overflow_x": null,
       "overflow_y": null,
       "padding": null,
       "right": null,
       "top": null,
       "visibility": null,
       "width": null
      }
     },
     "fe88911fbf1347bb9e078a6d462d91f5": {
      "model_module": "@jupyter-widgets/controls",
      "model_module_version": "1.5.0",
      "model_name": "DescriptionStyleModel",
      "state": {
       "_model_module": "@jupyter-widgets/controls",
       "_model_module_version": "1.5.0",
       "_model_name": "DescriptionStyleModel",
       "_view_count": null,
       "_view_module": "@jupyter-widgets/base",
       "_view_module_version": "1.2.0",
       "_view_name": "StyleView",
       "description_width": ""
      }
     }
    },
    "version_major": 2,
    "version_minor": 0
   }
  }
 },
 "nbformat": 4,
 "nbformat_minor": 5
}
