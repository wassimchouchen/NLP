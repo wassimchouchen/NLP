{
 "cells": [
  {
   "cell_type": "code",
   "execution_count": 1,
   "id": "a66317c7",
   "metadata": {
    "_cell_guid": "b1076dfc-b9ad-4769-8c92-a6c4dae69d19",
    "_uuid": "8f2839f25d086af736a60e9eeb907d3b93b6e0e5",
    "execution": {
     "iopub.execute_input": "2022-06-30T11:44:21.956745Z",
     "iopub.status.busy": "2022-06-30T11:44:21.955242Z",
     "iopub.status.idle": "2022-06-30T11:44:29.481877Z",
     "shell.execute_reply": "2022-06-30T11:44:29.480874Z",
     "shell.execute_reply.started": "2022-06-30T11:39:07.418436Z"
    },
    "papermill": {
     "duration": 7.553837,
     "end_time": "2022-06-30T11:44:29.482044",
     "exception": false,
     "start_time": "2022-06-30T11:44:21.928207",
     "status": "completed"
    },
    "tags": []
   },
   "outputs": [],
   "source": [
    "import os\n",
    "\n",
    "import random\n",
    "import numpy as np\n",
    "\n",
    "import pandas as pd\n",
    "import torch\n",
    "from torch.utils.data import Dataset, random_split\n",
    "from transformers import (\n",
    "    AdamW,\n",
    "    Trainer,\n",
    "    TrainingArguments,\n",
    "    AutoTokenizer,\n",
    "    AutoModelForSequenceClassification,\n",
    "    get_cosine_schedule_with_warmup,\n",
    ")\n",
    "from sklearn.preprocessing import LabelEncoder\n",
    "from sklearn.metrics import accuracy_score"
   ]
  },
  {
   "cell_type": "code",
   "execution_count": 2,
   "id": "997cbf02",
   "metadata": {
    "execution": {
     "iopub.execute_input": "2022-06-30T11:44:29.531063Z",
     "iopub.status.busy": "2022-06-30T11:44:29.530254Z",
     "iopub.status.idle": "2022-06-30T11:44:34.229960Z",
     "shell.execute_reply": "2022-06-30T11:44:34.229314Z",
     "shell.execute_reply.started": "2022-06-30T11:39:11.679379Z"
    },
    "papermill": {
     "duration": 4.725635,
     "end_time": "2022-06-30T11:44:34.230099",
     "exception": false,
     "start_time": "2022-06-30T11:44:29.504464",
     "status": "completed"
    },
    "tags": []
   },
   "outputs": [
    {
     "data": {
      "application/vnd.jupyter.widget-view+json": {
       "model_id": "7f40ccaaa7d049f9bf9b89cb32e0bc8c",
       "version_major": 2,
       "version_minor": 0
      },
      "text/plain": [
       "Downloading:   0%|          | 0.00/420 [00:00<?, ?B/s]"
      ]
     },
     "metadata": {},
     "output_type": "display_data"
    },
    {
     "data": {
      "application/vnd.jupyter.widget-view+json": {
       "model_id": "4a6e076e3e0c4e7ea225aba7dc1da311",
       "version_major": 2,
       "version_minor": 0
      },
      "text/plain": [
       "Downloading:   0%|          | 0.00/227k [00:00<?, ?B/s]"
      ]
     },
     "metadata": {},
     "output_type": "display_data"
    },
    {
     "data": {
      "application/vnd.jupyter.widget-view+json": {
       "model_id": "fee36931a94e403ead690024d45a0f67",
       "version_major": 2,
       "version_minor": 0
      },
      "text/plain": [
       "Downloading:   0%|          | 0.00/83.0 [00:00<?, ?B/s]"
      ]
     },
     "metadata": {},
     "output_type": "display_data"
    }
   ],
   "source": [
    "model_name = \"dbmdz/bert-base-french-europeana-cased\"\n",
    "\n",
    "tokenizer = AutoTokenizer.from_pretrained(model_name)\n",
    "\n",
    "device = torch.device(\"cuda\" if torch.cuda.is_available() else \"cpu\")"
   ]
  },
  {
   "cell_type": "code",
   "execution_count": 3,
   "id": "d7f0985a",
   "metadata": {
    "execution": {
     "iopub.execute_input": "2022-06-30T11:44:34.277495Z",
     "iopub.status.busy": "2022-06-30T11:44:34.276696Z",
     "iopub.status.idle": "2022-06-30T11:44:34.281197Z",
     "shell.execute_reply": "2022-06-30T11:44:34.280778Z",
     "shell.execute_reply.started": "2022-06-30T11:39:21.797048Z"
    },
    "papermill": {
     "duration": 0.028504,
     "end_time": "2022-06-30T11:44:34.281305",
     "exception": false,
     "start_time": "2022-06-30T11:44:34.252801",
     "status": "completed"
    },
    "tags": []
   },
   "outputs": [],
   "source": [
    "lr = 2e-5\n",
    "epochs =  6\n",
    "batch_size = 5\n",
    "max_seq_len = 75\n",
    "\n",
    "test_frac = 0.1"
   ]
  },
  {
   "cell_type": "code",
   "execution_count": 4,
   "id": "362d15e0",
   "metadata": {
    "execution": {
     "iopub.execute_input": "2022-06-30T11:44:34.329252Z",
     "iopub.status.busy": "2022-06-30T11:44:34.328726Z",
     "iopub.status.idle": "2022-06-30T11:44:34.334055Z",
     "shell.execute_reply": "2022-06-30T11:44:34.334501Z",
     "shell.execute_reply.started": "2022-06-30T11:39:21.804359Z"
    },
    "papermill": {
     "duration": 0.032357,
     "end_time": "2022-06-30T11:44:34.334633",
     "exception": false,
     "start_time": "2022-06-30T11:44:34.302276",
     "status": "completed"
    },
    "tags": []
   },
   "outputs": [],
   "source": [
    "import os\n",
    "\n",
    "def set_seed(seed=106052):\n",
    "    \"\"\"Set seed for reproducibility.\n",
    "    \"\"\"\n",
    "    random.seed(seed)\n",
    "    np.random.seed(seed)\n",
    "    torch.manual_seed(seed)\n",
    "    torch.cuda.manual_seed_all(seed)\n",
    "    \n",
    "    os.environ['PYTHONHASHSEED'] = str(seed)\n",
    "    \n",
    "set_seed()"
   ]
  },
  {
   "cell_type": "code",
   "execution_count": 5,
   "id": "db5b649a",
   "metadata": {
    "execution": {
     "iopub.execute_input": "2022-06-30T11:44:34.385579Z",
     "iopub.status.busy": "2022-06-30T11:44:34.384742Z",
     "iopub.status.idle": "2022-06-30T11:44:34.386770Z",
     "shell.execute_reply": "2022-06-30T11:44:34.387279Z",
     "shell.execute_reply.started": "2022-06-30T11:39:21.814991Z"
    },
    "papermill": {
     "duration": 0.031083,
     "end_time": "2022-06-30T11:44:34.387409",
     "exception": false,
     "start_time": "2022-06-30T11:44:34.356326",
     "status": "completed"
    },
    "tags": []
   },
   "outputs": [],
   "source": [
    "class CEFRDataset(Dataset):\n",
    "    \"\"\"Classification dataset, built on top of pytorch dataset object\n",
    "    \"\"\"\n",
    "    \n",
    "    def __init__(self, texts, labels):\n",
    "        \n",
    "        self.encoder = LabelEncoder()\n",
    "        print(self.encoder.__dict__)\n",
    "        self.texts = texts\n",
    "        self.labels = self.encoder.fit_transform(labels)\n",
    "\n",
    "    def __len__(self):\n",
    "        return len(self.texts)\n",
    "\n",
    "    def __getitem__(self, index):\n",
    "        text = self.texts[index]\n",
    "        label = self.labels[index]\n",
    "        encoded_text = tokenizer(\n",
    "            text,\n",
    "            padding=\"max_length\",\n",
    "            max_length=max_seq_len,\n",
    "            truncation=True,\n",
    "            return_tensors=\"pt\",\n",
    "        )\n",
    "        encoded_text[\"input_ids\"] = encoded_text[\"input_ids\"].squeeze()\n",
    "        encoded_text[\"attention_mask\"] = encoded_text[\"attention_mask\"].squeeze()\n",
    "        label = torch.tensor(label)\n",
    "\n",
    "        return {\n",
    "            \"input_ids\": encoded_text[\"input_ids\"],\n",
    "            \"attention_mask\": encoded_text[\"attention_mask\"],\n",
    "            \"labels\": label,\n",
    "        }\n",
    "\n",
    "    def get_labels(self):\n",
    "        return self.labels"
   ]
  },
  {
   "cell_type": "code",
   "execution_count": 6,
   "id": "8e954397",
   "metadata": {
    "execution": {
     "iopub.execute_input": "2022-06-30T11:44:34.436647Z",
     "iopub.status.busy": "2022-06-30T11:44:34.435933Z",
     "iopub.status.idle": "2022-06-30T11:44:34.438367Z",
     "shell.execute_reply": "2022-06-30T11:44:34.437938Z",
     "shell.execute_reply.started": "2022-06-30T11:39:21.825336Z"
    },
    "papermill": {
     "duration": 0.029924,
     "end_time": "2022-06-30T11:44:34.438495",
     "exception": false,
     "start_time": "2022-06-30T11:44:34.408571",
     "status": "completed"
    },
    "tags": []
   },
   "outputs": [],
   "source": [
    "def train(train_set, valid_set, epochs=10, warmup_size=0.1, lr=1e-3, batch_size=16):\n",
    "    model = get_model(model_name)\n",
    "    optim = AdamW(model.parameters(), lr=lr)\n",
    "    scheduler = get_scheduler(\n",
    "        optim, warmup_size, round(len(train_set) / batch_size * epochs)\n",
    "    )\n",
    "    training_args = get_training_args(epochs, batch_size)\n",
    "    trainer = Trainer(\n",
    "        model=model,\n",
    "        args=training_args,\n",
    "        train_dataset=train_set,\n",
    "        eval_dataset=valid_set,\n",
    "        optimizers=[optim, scheduler],\n",
    "        compute_metrics=compute_accuracy,\n",
    "    )\n",
    "    trainer.train()\n",
    "    trainer.save_model()\n",
    "    return trainer"
   ]
  },
  {
   "cell_type": "code",
   "execution_count": 7,
   "id": "41c585a9",
   "metadata": {
    "execution": {
     "iopub.execute_input": "2022-06-30T11:44:34.485776Z",
     "iopub.status.busy": "2022-06-30T11:44:34.485025Z",
     "iopub.status.idle": "2022-06-30T11:44:34.486964Z",
     "shell.execute_reply": "2022-06-30T11:44:34.487373Z",
     "shell.execute_reply.started": "2022-06-30T11:39:21.836873Z"
    },
    "papermill": {
     "duration": 0.027961,
     "end_time": "2022-06-30T11:44:34.487512",
     "exception": false,
     "start_time": "2022-06-30T11:44:34.459551",
     "status": "completed"
    },
    "tags": []
   },
   "outputs": [],
   "source": [
    "def get_model(pretrained_checkpoint):\n",
    "    model = AutoModelForSequenceClassification.from_pretrained(\n",
    "        pretrained_checkpoint, num_labels=6\n",
    "    )\n",
    "    return model.to(device)"
   ]
  },
  {
   "cell_type": "code",
   "execution_count": 8,
   "id": "4dde173b",
   "metadata": {
    "execution": {
     "iopub.execute_input": "2022-06-30T11:44:34.538594Z",
     "iopub.status.busy": "2022-06-30T11:44:34.537855Z",
     "iopub.status.idle": "2022-06-30T11:44:34.539885Z",
     "shell.execute_reply": "2022-06-30T11:44:34.540266Z",
     "shell.execute_reply.started": "2022-06-30T11:39:21.844127Z"
    },
    "papermill": {
     "duration": 0.030438,
     "end_time": "2022-06-30T11:44:34.540393",
     "exception": false,
     "start_time": "2022-06-30T11:44:34.509955",
     "status": "completed"
    },
    "tags": []
   },
   "outputs": [],
   "source": [
    "os.environ[\"WANDB_DISABLED\"] = \"true\"\n",
    "\n",
    "\n",
    "def get_scheduler(optimizer, warmup_size, total_steps):\n",
    "    scheduler = get_cosine_schedule_with_warmup(\n",
    "        optimizer,\n",
    "        num_warmup_steps=round(total_steps * warmup_size),\n",
    "        num_training_steps=total_steps,\n",
    "    )\n",
    "    return scheduler\n",
    "\n",
    "\n",
    "def get_training_args(epochs, batch_size):\n",
    "    return TrainingArguments(\n",
    "        output_dir=\"./b\",\n",
    "        num_train_epochs=epochs,\n",
    "        per_device_train_batch_size=batch_size,\n",
    "        logging_steps=50,\n",
    "        fp16=False,\n",
    "        evaluation_strategy=\"epoch\",\n",
    "        eval_accumulation_steps=1,\n",
    "        report_to=None,\n",
    "        save_total_limit=1,\n",
    "        load_best_model_at_end=True\n",
    "    )\n",
    "\n",
    "\n",
    "def compute_accuracy(pred):\n",
    "    labels = pred.label_ids\n",
    "    preds = pred.predictions.argmax(-1)\n",
    "    acc = accuracy_score(labels, preds)\n",
    "    return {\"accuracy\": acc}\n",
    "\n"
   ]
  },
  {
   "cell_type": "code",
   "execution_count": 9,
   "id": "3d4065e9",
   "metadata": {
    "execution": {
     "iopub.execute_input": "2022-06-30T11:44:34.587476Z",
     "iopub.status.busy": "2022-06-30T11:44:34.586655Z",
     "iopub.status.idle": "2022-06-30T11:44:34.588608Z",
     "shell.execute_reply": "2022-06-30T11:44:34.589009Z",
     "shell.execute_reply.started": "2022-06-30T11:39:21.854606Z"
    },
    "papermill": {
     "duration": 0.027029,
     "end_time": "2022-06-30T11:44:34.589134",
     "exception": false,
     "start_time": "2022-06-30T11:44:34.562105",
     "status": "completed"
    },
    "tags": []
   },
   "outputs": [],
   "source": [
    "lr = 2e-5\n",
    "epochs =  7\n",
    "batch_size = 8\n",
    "max_seq_len = 512"
   ]
  },
  {
   "cell_type": "code",
   "execution_count": 10,
   "id": "2857e811",
   "metadata": {
    "execution": {
     "iopub.execute_input": "2022-06-30T11:44:34.639213Z",
     "iopub.status.busy": "2022-06-30T11:44:34.638355Z",
     "iopub.status.idle": "2022-06-30T11:44:34.640109Z",
     "shell.execute_reply": "2022-06-30T11:44:34.640612Z",
     "shell.execute_reply.started": "2022-06-30T11:39:21.866912Z"
    },
    "papermill": {
     "duration": 0.029754,
     "end_time": "2022-06-30T11:44:34.640754",
     "exception": false,
     "start_time": "2022-06-30T11:44:34.611000",
     "status": "completed"
    },
    "tags": []
   },
   "outputs": [],
   "source": [
    "def split_valid(df, frac=0.09):\n",
    "    \n",
    "    val = pd.DataFrame()\n",
    "    val[\"text\"] = \"\"\n",
    "    val[\"label\"] = -1\n",
    "    \n",
    "    for i in df.label.unique():\n",
    "        val = pd.concat([val, df[df.label == i].sample(frac=frac)])\n",
    "        \n",
    "    return df[~df.index.isin(val.index)].reset_index(drop=True) , val.reset_index(drop=True)"
   ]
  },
  {
   "cell_type": "code",
   "execution_count": 11,
   "id": "d91854df",
   "metadata": {
    "execution": {
     "iopub.execute_input": "2022-06-30T11:44:34.689945Z",
     "iopub.status.busy": "2022-06-30T11:44:34.689336Z",
     "iopub.status.idle": "2022-06-30T11:44:34.738210Z",
     "shell.execute_reply": "2022-06-30T11:44:34.737297Z",
     "shell.execute_reply.started": "2022-06-30T11:39:21.878399Z"
    },
    "papermill": {
     "duration": 0.076111,
     "end_time": "2022-06-30T11:44:34.738324",
     "exception": false,
     "start_time": "2022-06-30T11:44:34.662213",
     "status": "completed"
    },
    "tags": []
   },
   "outputs": [],
   "source": [
    "from sklearn import preprocessing\n",
    "le = preprocessing.LabelEncoder()\n",
    "\n",
    "\n",
    "train_set_df = pd.read_csv(\"../input/frenchcefr/french dataset.csv\")\n",
    "train_set_df = train_set_df[train_set_df.label != \"XX\"]\n",
    "train_set_df = train_set_df[[\"text\", \"label\"]]\n",
    "\n",
    "train_set_df.text = train_set_df.text.apply(lambda x: x.replace(\"\\r\", \"\").replace(\"\\n\", \" \"))\n",
    "\n",
    "extra_df = pd.read_csv(\"../input/frenchcefr/french_mike_june.csv\")\n",
    "extra_df.columns = [\"text\", \"label\", \"label_\"]\n",
    "extra_df = extra_df[[\"text\", \"label\"]]\n",
    "extra_df.text = extra_df.text.astype(str)\n",
    "#train_set_df = pd.concat([train_set_df, extra_df]).reset_index(drop=True)\n",
    "\n",
    "train_set_df, valid_set_df = split_valid(train_set_df)"
   ]
  },
  {
   "cell_type": "code",
   "execution_count": 12,
   "id": "c01b5e1c",
   "metadata": {
    "execution": {
     "iopub.execute_input": "2022-06-30T11:44:34.786280Z",
     "iopub.status.busy": "2022-06-30T11:44:34.785564Z",
     "iopub.status.idle": "2022-06-30T11:44:34.787988Z",
     "shell.execute_reply": "2022-06-30T11:44:34.787560Z",
     "shell.execute_reply.started": "2022-06-30T11:39:21.932649Z"
    },
    "papermill": {
     "duration": 0.027692,
     "end_time": "2022-06-30T11:44:34.788088",
     "exception": false,
     "start_time": "2022-06-30T11:44:34.760396",
     "status": "completed"
    },
    "tags": []
   },
   "outputs": [],
   "source": [
    "train_set_df.label = le.fit_transform(train_set_df.label)\n",
    "valid_set_df.label = le.transform(valid_set_df.label)"
   ]
  },
  {
   "cell_type": "code",
   "execution_count": 13,
   "id": "c9dd180c",
   "metadata": {
    "execution": {
     "iopub.execute_input": "2022-06-30T11:44:34.839935Z",
     "iopub.status.busy": "2022-06-30T11:44:34.839257Z",
     "iopub.status.idle": "2022-06-30T11:44:34.847015Z",
     "shell.execute_reply": "2022-06-30T11:44:34.846576Z",
     "shell.execute_reply.started": "2022-06-30T11:39:21.941803Z"
    },
    "papermill": {
     "duration": 0.034086,
     "end_time": "2022-06-30T11:44:34.847115",
     "exception": false,
     "start_time": "2022-06-30T11:44:34.813029",
     "status": "completed"
    },
    "tags": []
   },
   "outputs": [
    {
     "data": {
      "text/plain": [
       "6"
      ]
     },
     "execution_count": 13,
     "metadata": {},
     "output_type": "execute_result"
    }
   ],
   "source": [
    "train_set_df.label.nunique()"
   ]
  },
  {
   "cell_type": "code",
   "execution_count": 14,
   "id": "1de53425",
   "metadata": {
    "execution": {
     "iopub.execute_input": "2022-06-30T11:44:34.899548Z",
     "iopub.status.busy": "2022-06-30T11:44:34.898892Z",
     "iopub.status.idle": "2022-06-30T11:44:34.901686Z",
     "shell.execute_reply": "2022-06-30T11:44:34.902223Z",
     "shell.execute_reply.started": "2022-06-30T11:39:21.953284Z"
    },
    "papermill": {
     "duration": 0.031534,
     "end_time": "2022-06-30T11:44:34.902358",
     "exception": false,
     "start_time": "2022-06-30T11:44:34.870824",
     "status": "completed"
    },
    "tags": []
   },
   "outputs": [
    {
     "data": {
      "text/plain": [
       "6"
      ]
     },
     "execution_count": 14,
     "metadata": {},
     "output_type": "execute_result"
    }
   ],
   "source": [
    "valid_set_df.label.nunique()"
   ]
  },
  {
   "cell_type": "code",
   "execution_count": 15,
   "id": "2673f6d9",
   "metadata": {
    "execution": {
     "iopub.execute_input": "2022-06-30T11:44:34.953328Z",
     "iopub.status.busy": "2022-06-30T11:44:34.952539Z",
     "iopub.status.idle": "2022-06-30T11:44:34.954956Z",
     "shell.execute_reply": "2022-06-30T11:44:34.954518Z",
     "shell.execute_reply.started": "2022-06-30T11:39:21.961884Z"
    },
    "papermill": {
     "duration": 0.028912,
     "end_time": "2022-06-30T11:44:34.955053",
     "exception": false,
     "start_time": "2022-06-30T11:44:34.926141",
     "status": "completed"
    },
    "tags": []
   },
   "outputs": [],
   "source": [
    "# train_set_df = train_set_df.sample(frac=1)"
   ]
  },
  {
   "cell_type": "code",
   "execution_count": 16,
   "id": "d5116c5d",
   "metadata": {
    "execution": {
     "iopub.execute_input": "2022-06-30T11:44:35.003962Z",
     "iopub.status.busy": "2022-06-30T11:44:35.003230Z",
     "iopub.status.idle": "2022-06-30T11:44:35.005204Z",
     "shell.execute_reply": "2022-06-30T11:44:35.005722Z",
     "shell.execute_reply.started": "2022-06-30T11:39:21.968854Z"
    },
    "papermill": {
     "duration": 0.029539,
     "end_time": "2022-06-30T11:44:35.005845",
     "exception": false,
     "start_time": "2022-06-30T11:44:34.976306",
     "status": "completed"
    },
    "tags": []
   },
   "outputs": [],
   "source": [
    "from tqdm import tqdm \n",
    "\n",
    "def predict(model, text):\n",
    "    \n",
    "    preds = []\n",
    "    \n",
    "    for i in tqdm(range(len(text))):\n",
    "        tokenized = tokenizer(text[i:i+1], return_tensors=\"pt\", truncation=True, max_length=512).to(\"cuda\")\n",
    "        pred = model(**tokenized)\n",
    "        preds.append(pred.logits.argmax(-1).item())\n",
    "\n",
    "    return preds"
   ]
  },
  {
   "cell_type": "code",
   "execution_count": null,
   "id": "e1c3d660",
   "metadata": {
    "papermill": {
     "duration": 0.022313,
     "end_time": "2022-06-30T11:44:35.050359",
     "exception": false,
     "start_time": "2022-06-30T11:44:35.028046",
     "status": "completed"
    },
    "tags": []
   },
   "outputs": [],
   "source": []
  },
  {
   "cell_type": "code",
   "execution_count": 17,
   "id": "5952b6d1",
   "metadata": {
    "execution": {
     "iopub.execute_input": "2022-06-30T11:44:35.099962Z",
     "iopub.status.busy": "2022-06-30T11:44:35.097311Z",
     "iopub.status.idle": "2022-06-30T11:47:49.440617Z",
     "shell.execute_reply": "2022-06-30T11:47:49.440086Z",
     "shell.execute_reply.started": "2022-06-30T11:39:21.978851Z"
    },
    "papermill": {
     "duration": 194.368727,
     "end_time": "2022-06-30T11:47:49.440765",
     "exception": false,
     "start_time": "2022-06-30T11:44:35.072038",
     "status": "completed"
    },
    "tags": []
   },
   "outputs": [
    {
     "name": "stdout",
     "output_type": "stream",
     "text": [
      "{}\n",
      "{}\n"
     ]
    },
    {
     "data": {
      "application/vnd.jupyter.widget-view+json": {
       "model_id": "8262ddd05a2c4d02b6528fb7d0413dae",
       "version_major": 2,
       "version_minor": 0
      },
      "text/plain": [
       "Downloading:   0%|          | 0.00/445M [00:00<?, ?B/s]"
      ]
     },
     "metadata": {},
     "output_type": "display_data"
    },
    {
     "name": "stderr",
     "output_type": "stream",
     "text": [
      "Some weights of the model checkpoint at dbmdz/bert-base-french-europeana-cased were not used when initializing BertForSequenceClassification: ['cls.predictions.bias', 'cls.predictions.transform.dense.weight', 'cls.predictions.transform.dense.bias', 'cls.predictions.transform.LayerNorm.weight', 'cls.predictions.transform.LayerNorm.bias', 'cls.predictions.decoder.weight', 'cls.predictions.decoder.bias', 'cls.seq_relationship.weight', 'cls.seq_relationship.bias']\n",
      "- This IS expected if you are initializing BertForSequenceClassification from the checkpoint of a model trained on another task or with another architecture (e.g. initializing a BertForSequenceClassification model from a BertForPreTraining model).\n",
      "- This IS NOT expected if you are initializing BertForSequenceClassification from the checkpoint of a model that you expect to be exactly identical (initializing a BertForSequenceClassification model from a BertForSequenceClassification model).\n",
      "Some weights of BertForSequenceClassification were not initialized from the model checkpoint at dbmdz/bert-base-french-europeana-cased and are newly initialized: ['classifier.weight', 'classifier.bias']\n",
      "You should probably TRAIN this model on a down-stream task to be able to use it for predictions and inference.\n",
      "Using the `WAND_DISABLED` environment variable is deprecated and will be removed in v5. Use the --report_to flag to control the integrations used for logging result (for instance --report_to none).\n"
     ]
    },
    {
     "data": {
      "text/html": [
       "\n",
       "    <div>\n",
       "        <style>\n",
       "            /* Turns off some styling */\n",
       "            progress {\n",
       "                /* gets rid of default border in Firefox and Opera. */\n",
       "                border: none;\n",
       "                /* Needs to be in here for Safari polyfill so background images work as expected. */\n",
       "                background-size: auto;\n",
       "            }\n",
       "        </style>\n",
       "      \n",
       "      <progress value='252' max='252' style='width:300px; height:20px; vertical-align: middle;'></progress>\n",
       "      [252/252 02:46, Epoch 7/7]\n",
       "    </div>\n",
       "    <table border=\"1\" class=\"dataframe\">\n",
       "  <thead>\n",
       "    <tr style=\"text-align: left;\">\n",
       "      <th>Epoch</th>\n",
       "      <th>Training Loss</th>\n",
       "      <th>Validation Loss</th>\n",
       "      <th>Accuracy</th>\n",
       "      <th>Runtime</th>\n",
       "      <th>Samples Per Second</th>\n",
       "    </tr>\n",
       "  </thead>\n",
       "  <tbody>\n",
       "    <tr>\n",
       "      <td>1</td>\n",
       "      <td>No log</td>\n",
       "      <td>1.291446</td>\n",
       "      <td>0.500000</td>\n",
       "      <td>0.590500</td>\n",
       "      <td>47.421000</td>\n",
       "    </tr>\n",
       "    <tr>\n",
       "      <td>2</td>\n",
       "      <td>1.557100</td>\n",
       "      <td>0.930164</td>\n",
       "      <td>0.607143</td>\n",
       "      <td>0.556700</td>\n",
       "      <td>50.299000</td>\n",
       "    </tr>\n",
       "    <tr>\n",
       "      <td>3</td>\n",
       "      <td>1.010200</td>\n",
       "      <td>0.753601</td>\n",
       "      <td>0.785714</td>\n",
       "      <td>0.556700</td>\n",
       "      <td>50.294000</td>\n",
       "    </tr>\n",
       "    <tr>\n",
       "      <td>4</td>\n",
       "      <td>1.010200</td>\n",
       "      <td>0.566994</td>\n",
       "      <td>0.857143</td>\n",
       "      <td>0.555800</td>\n",
       "      <td>50.377000</td>\n",
       "    </tr>\n",
       "    <tr>\n",
       "      <td>5</td>\n",
       "      <td>0.723500</td>\n",
       "      <td>0.503528</td>\n",
       "      <td>0.857143</td>\n",
       "      <td>0.554100</td>\n",
       "      <td>50.528000</td>\n",
       "    </tr>\n",
       "    <tr>\n",
       "      <td>6</td>\n",
       "      <td>0.507700</td>\n",
       "      <td>0.488127</td>\n",
       "      <td>0.857143</td>\n",
       "      <td>0.554200</td>\n",
       "      <td>50.520000</td>\n",
       "    </tr>\n",
       "    <tr>\n",
       "      <td>7</td>\n",
       "      <td>0.403700</td>\n",
       "      <td>0.481883</td>\n",
       "      <td>0.857143</td>\n",
       "      <td>0.555500</td>\n",
       "      <td>50.407000</td>\n",
       "    </tr>\n",
       "  </tbody>\n",
       "</table><p>"
      ],
      "text/plain": [
       "<IPython.core.display.HTML object>"
      ]
     },
     "metadata": {},
     "output_type": "display_data"
    }
   ],
   "source": [
    "train_set = CEFRDataset(train_set_df[\"text\"], train_set_df[\"label\"])\n",
    "valid_set = CEFRDataset(valid_set_df[\"text\"], valid_set_df[\"label\"])\n",
    "\n",
    "\n",
    "trainer_second = train(train_set, valid_set, epochs=epochs, warmup_size=0.2, lr=lr, batch_size=batch_size)\n",
    "model = trainer_second.model"
   ]
  },
  {
   "cell_type": "code",
   "execution_count": 18,
   "id": "41c9196a",
   "metadata": {
    "execution": {
     "iopub.execute_input": "2022-06-30T11:47:49.495212Z",
     "iopub.status.busy": "2022-06-30T11:47:49.494639Z",
     "iopub.status.idle": "2022-06-30T11:47:49.819857Z",
     "shell.execute_reply": "2022-06-30T11:47:49.820492Z",
     "shell.execute_reply.started": "2022-06-30T11:42:53.474136Z"
    },
    "papermill": {
     "duration": 0.35468,
     "end_time": "2022-06-30T11:47:49.820683",
     "exception": false,
     "start_time": "2022-06-30T11:47:49.466003",
     "status": "completed"
    },
    "tags": []
   },
   "outputs": [
    {
     "name": "stderr",
     "output_type": "stream",
     "text": [
      "100%|██████████| 28/28 [00:00<00:00, 88.67it/s]\n"
     ]
    }
   ],
   "source": [
    "valid_set_df[\"preds\"] = train_set.encoder.inverse_transform(predict(model, valid_set_df.text.tolist()))\n",
    "valid_set_df.columns = [\"text\", \"cefr\", \"preds\"] "
   ]
  },
  {
   "cell_type": "code",
   "execution_count": 19,
   "id": "6d195af7",
   "metadata": {
    "execution": {
     "iopub.execute_input": "2022-06-30T11:47:49.877465Z",
     "iopub.status.busy": "2022-06-30T11:47:49.874984Z",
     "iopub.status.idle": "2022-06-30T11:47:51.197794Z",
     "shell.execute_reply": "2022-06-30T11:47:51.197331Z",
     "shell.execute_reply.started": "2022-06-30T11:42:53.811195Z"
    },
    "papermill": {
     "duration": 1.34996,
     "end_time": "2022-06-30T11:47:51.197920",
     "exception": false,
     "start_time": "2022-06-30T11:47:49.847960",
     "status": "completed"
    },
    "tags": []
   },
   "outputs": [
    {
     "name": "stderr",
     "output_type": "stream",
     "text": [
      "100%|██████████| 111/111 [00:01<00:00, 85.34it/s]\n"
     ]
    }
   ],
   "source": [
    "lingua = pd.read_csv(\"../input/lingua/fr_lingua.csv\")\n",
    "lingua[\"preds\"] = train_set.encoder.inverse_transform(predict(model, lingua.text.tolist()))"
   ]
  },
  {
   "cell_type": "code",
   "execution_count": 20,
   "id": "cc4a0721",
   "metadata": {
    "execution": {
     "iopub.execute_input": "2022-06-30T11:47:51.260259Z",
     "iopub.status.busy": "2022-06-30T11:47:51.259655Z",
     "iopub.status.idle": "2022-06-30T11:47:51.262182Z",
     "shell.execute_reply": "2022-06-30T11:47:51.262631Z",
     "shell.execute_reply.started": "2022-06-30T11:42:55.117208Z"
    },
    "papermill": {
     "duration": 0.036135,
     "end_time": "2022-06-30T11:47:51.262764",
     "exception": false,
     "start_time": "2022-06-30T11:47:51.226629",
     "status": "completed"
    },
    "tags": []
   },
   "outputs": [
    {
     "data": {
      "text/plain": [
       "array(['A1', 'A2', 'B1', 'B2'], dtype=object)"
      ]
     },
     "execution_count": 20,
     "metadata": {},
     "output_type": "execute_result"
    }
   ],
   "source": [
    "lingua.cefr.unique()"
   ]
  },
  {
   "cell_type": "code",
   "execution_count": 21,
   "id": "6b208823",
   "metadata": {
    "execution": {
     "iopub.execute_input": "2022-06-30T11:47:51.325864Z",
     "iopub.status.busy": "2022-06-30T11:47:51.325189Z",
     "iopub.status.idle": "2022-06-30T11:47:51.327887Z",
     "shell.execute_reply": "2022-06-30T11:47:51.328280Z",
     "shell.execute_reply.started": "2022-06-30T11:42:55.125124Z"
    },
    "papermill": {
     "duration": 0.03593,
     "end_time": "2022-06-30T11:47:51.328395",
     "exception": false,
     "start_time": "2022-06-30T11:47:51.292465",
     "status": "completed"
    },
    "tags": []
   },
   "outputs": [
    {
     "data": {
      "text/plain": [
       "array([3, 2, 4, 5, 1])"
      ]
     },
     "execution_count": 21,
     "metadata": {},
     "output_type": "execute_result"
    }
   ],
   "source": [
    "lingua.preds.unique()"
   ]
  },
  {
   "cell_type": "code",
   "execution_count": 22,
   "id": "e910a681",
   "metadata": {
    "execution": {
     "iopub.execute_input": "2022-06-30T11:47:51.393777Z",
     "iopub.status.busy": "2022-06-30T11:47:51.391744Z",
     "iopub.status.idle": "2022-06-30T11:47:51.396919Z",
     "shell.execute_reply": "2022-06-30T11:47:51.396504Z",
     "shell.execute_reply.started": "2022-06-30T11:42:55.137496Z"
    },
    "papermill": {
     "duration": 0.039316,
     "end_time": "2022-06-30T11:47:51.397021",
     "exception": false,
     "start_time": "2022-06-30T11:47:51.357705",
     "status": "completed"
    },
    "tags": []
   },
   "outputs": [
    {
     "data": {
      "text/plain": [
       "2    68\n",
       "4    25\n",
       "3     9\n",
       "5     7\n",
       "1     2\n",
       "Name: preds, dtype: int64"
      ]
     },
     "execution_count": 22,
     "metadata": {},
     "output_type": "execute_result"
    }
   ],
   "source": [
    "lingua.preds.value_counts()"
   ]
  },
  {
   "cell_type": "code",
   "execution_count": 23,
   "id": "32e48605",
   "metadata": {
    "execution": {
     "iopub.execute_input": "2022-06-30T11:47:51.460889Z",
     "iopub.status.busy": "2022-06-30T11:47:51.460038Z",
     "iopub.status.idle": "2022-06-30T11:47:51.462278Z",
     "shell.execute_reply": "2022-06-30T11:47:51.462815Z",
     "shell.execute_reply.started": "2022-06-30T11:42:55.149512Z"
    },
    "papermill": {
     "duration": 0.036563,
     "end_time": "2022-06-30T11:47:51.462968",
     "exception": false,
     "start_time": "2022-06-30T11:47:51.426405",
     "status": "completed"
    },
    "tags": []
   },
   "outputs": [],
   "source": [
    "def compute_average_distance(df, col_name=\"cefr\"):\n",
    "    \n",
    "    labels = [\"A1\", \"A2\", \"B1\", \"B2\", \"C1\", \"C2\"]\n",
    "    return (df[col_name].apply(lambda x: labels.index(x)) - df.preds.apply(lambda x: labels.index(x))).abs().mean()\n"
   ]
  },
  {
   "cell_type": "code",
   "execution_count": 24,
   "id": "eb0b301d",
   "metadata": {
    "execution": {
     "iopub.execute_input": "2022-06-30T11:47:51.525685Z",
     "iopub.status.busy": "2022-06-30T11:47:51.525021Z",
     "iopub.status.idle": "2022-06-30T11:47:51.527104Z",
     "shell.execute_reply": "2022-06-30T11:47:51.527494Z",
     "shell.execute_reply.started": "2022-06-30T11:42:55.158705Z"
    },
    "papermill": {
     "duration": 0.035347,
     "end_time": "2022-06-30T11:47:51.527614",
     "exception": false,
     "start_time": "2022-06-30T11:47:51.492267",
     "status": "completed"
    },
    "tags": []
   },
   "outputs": [],
   "source": [
    "lingua[\"preds\"] = le.inverse_transform(lingua.preds)"
   ]
  },
  {
   "cell_type": "code",
   "execution_count": 25,
   "id": "4ada7f1a",
   "metadata": {
    "execution": {
     "iopub.execute_input": "2022-06-30T11:47:51.593063Z",
     "iopub.status.busy": "2022-06-30T11:47:51.592401Z",
     "iopub.status.idle": "2022-06-30T11:47:51.594961Z",
     "shell.execute_reply": "2022-06-30T11:47:51.595352Z",
     "shell.execute_reply.started": "2022-06-30T11:42:55.167870Z"
    },
    "papermill": {
     "duration": 0.037701,
     "end_time": "2022-06-30T11:47:51.595492",
     "exception": false,
     "start_time": "2022-06-30T11:47:51.557791",
     "status": "completed"
    },
    "tags": []
   },
   "outputs": [
    {
     "data": {
      "text/plain": [
       "0      B2\n",
       "1      B2\n",
       "2      B2\n",
       "3      B1\n",
       "4      B1\n",
       "       ..\n",
       "106    C2\n",
       "107    B1\n",
       "108    C1\n",
       "109    C1\n",
       "110    A2\n",
       "Name: preds, Length: 111, dtype: object"
      ]
     },
     "execution_count": 25,
     "metadata": {},
     "output_type": "execute_result"
    }
   ],
   "source": [
    "lingua[\"preds\"]"
   ]
  },
  {
   "cell_type": "code",
   "execution_count": 26,
   "id": "ae663a31",
   "metadata": {
    "execution": {
     "iopub.execute_input": "2022-06-30T11:47:51.714263Z",
     "iopub.status.busy": "2022-06-30T11:47:51.713678Z",
     "iopub.status.idle": "2022-06-30T11:47:51.716719Z",
     "shell.execute_reply": "2022-06-30T11:47:51.717301Z",
     "shell.execute_reply.started": "2022-06-30T11:42:55.181734Z"
    },
    "papermill": {
     "duration": 0.043685,
     "end_time": "2022-06-30T11:47:51.717484",
     "exception": false,
     "start_time": "2022-06-30T11:47:51.673799",
     "status": "completed"
    },
    "tags": []
   },
   "outputs": [
    {
     "name": "stdout",
     "output_type": "stream",
     "text": [
      "Distance: \n",
      "1.1531531531531531\n",
      "Lingua accuracy: 0.36036036036036034\n"
     ]
    }
   ],
   "source": [
    "print(\"Distance: \")\n",
    "print(compute_average_distance(lingua, \"cefr\"))\n",
    "\n",
    "print(f\"Lingua accuracy: {(lingua['preds'] == lingua['cefr']).mean()}\")"
   ]
  },
  {
   "cell_type": "code",
   "execution_count": null,
   "id": "fe249513",
   "metadata": {
    "papermill": {
     "duration": 0.029959,
     "end_time": "2022-06-30T11:47:51.778942",
     "exception": false,
     "start_time": "2022-06-30T11:47:51.748983",
     "status": "completed"
    },
    "tags": []
   },
   "outputs": [],
   "source": []
  },
  {
   "cell_type": "code",
   "execution_count": null,
   "id": "c98aecf3",
   "metadata": {
    "papermill": {
     "duration": 0.030372,
     "end_time": "2022-06-30T11:47:51.839956",
     "exception": false,
     "start_time": "2022-06-30T11:47:51.809584",
     "status": "completed"
    },
    "tags": []
   },
   "outputs": [],
   "source": []
  },
  {
   "cell_type": "code",
   "execution_count": null,
   "id": "84b240f6",
   "metadata": {
    "papermill": {
     "duration": 0.03003,
     "end_time": "2022-06-30T11:47:51.901356",
     "exception": false,
     "start_time": "2022-06-30T11:47:51.871326",
     "status": "completed"
    },
    "tags": []
   },
   "outputs": [],
   "source": []
  }
 ],
 "metadata": {
  "kernelspec": {
   "display_name": "Python 3",
   "language": "python",
   "name": "python3"
  },
  "language_info": {
   "codemirror_mode": {
    "name": "ipython",
    "version": 3
   },
   "file_extension": ".py",
   "mimetype": "text/x-python",
   "name": "python",
   "nbconvert_exporter": "python",
   "pygments_lexer": "ipython3",
   "version": "3.7.10"
  },
  "papermill": {
   "default_parameters": {},
   "duration": 220.492076,
   "end_time": "2022-06-30T11:47:54.875923",
   "environment_variables": {},
   "exception": null,
   "input_path": "__notebook__.ipynb",
   "output_path": "__notebook__.ipynb",
   "parameters": {},
   "start_time": "2022-06-30T11:44:14.383847",
   "version": "2.3.3"
  },
  "widgets": {
   "application/vnd.jupyter.widget-state+json": {
    "state": {
     "012abb60255840f2ad0dd662ffbe2cca": {
      "model_module": "@jupyter-widgets/base",
      "model_module_version": "1.2.0",
      "model_name": "LayoutModel",
      "state": {
       "_model_module": "@jupyter-widgets/base",
       "_model_module_version": "1.2.0",
       "_model_name": "LayoutModel",
       "_view_count": null,
       "_view_module": "@jupyter-widgets/base",
       "_view_module_version": "1.2.0",
       "_view_name": "LayoutView",
       "align_content": null,
       "align_items": null,
       "align_self": null,
       "border": null,
       "bottom": null,
       "display": null,
       "flex": null,
       "flex_flow": null,
       "grid_area": null,
       "grid_auto_columns": null,
       "grid_auto_flow": null,
       "grid_auto_rows": null,
       "grid_column": null,
       "grid_gap": null,
       "grid_row": null,
       "grid_template_areas": null,
       "grid_template_columns": null,
       "grid_template_rows": null,
       "height": null,
       "justify_content": null,
       "justify_items": null,
       "left": null,
       "margin": null,
       "max_height": null,
       "max_width": null,
       "min_height": null,
       "min_width": null,
       "object_fit": null,
       "object_position": null,
       "order": null,
       "overflow": null,
       "overflow_x": null,
       "overflow_y": null,
       "padding": null,
       "right": null,
       "top": null,
       "visibility": null,
       "width": null
      }
     },
     "0af439eb7b4547b3aaab0d5f408378a0": {
      "model_module": "@jupyter-widgets/controls",
      "model_module_version": "1.5.0",
      "model_name": "DescriptionStyleModel",
      "state": {
       "_model_module": "@jupyter-widgets/controls",
       "_model_module_version": "1.5.0",
       "_model_name": "DescriptionStyleModel",
       "_view_count": null,
       "_view_module": "@jupyter-widgets/base",
       "_view_module_version": "1.2.0",
       "_view_name": "StyleView",
       "description_width": ""
      }
     },
     "10f2990939894a0c9772ed1bee0e389e": {
      "model_module": "@jupyter-widgets/controls",
      "model_module_version": "1.5.0",
      "model_name": "HTMLModel",
      "state": {
       "_dom_classes": [],
       "_model_module": "@jupyter-widgets/controls",
       "_model_module_version": "1.5.0",
       "_model_name": "HTMLModel",
       "_view_count": null,
       "_view_module": "@jupyter-widgets/controls",
       "_view_module_version": "1.5.0",
       "_view_name": "HTMLView",
       "description": "",
       "description_tooltip": null,
       "layout": "IPY_MODEL_81f332a0e7fd42fdbdc1351b0248d1a6",
       "placeholder": "​",
       "style": "IPY_MODEL_e3785e82da924b92983d17b28babada1",
       "value": "Downloading: 100%"
      }
     },
     "16529775f74f4fa5800c491be12ff637": {
      "model_module": "@jupyter-widgets/controls",
      "model_module_version": "1.5.0",
      "model_name": "DescriptionStyleModel",
      "state": {
       "_model_module": "@jupyter-widgets/controls",
       "_model_module_version": "1.5.0",
       "_model_name": "DescriptionStyleModel",
       "_view_count": null,
       "_view_module": "@jupyter-widgets/base",
       "_view_module_version": "1.2.0",
       "_view_name": "StyleView",
       "description_width": ""
      }
     },
     "17a5fac04f4f4e4a89ae742ac10871f7": {
      "model_module": "@jupyter-widgets/controls",
      "model_module_version": "1.5.0",
      "model_name": "FloatProgressModel",
      "state": {
       "_dom_classes": [],
       "_model_module": "@jupyter-widgets/controls",
       "_model_module_version": "1.5.0",
       "_model_name": "FloatProgressModel",
       "_view_count": null,
       "_view_module": "@jupyter-widgets/controls",
       "_view_module_version": "1.5.0",
       "_view_name": "ProgressView",
       "bar_style": "success",
       "description": "",
       "description_tooltip": null,
       "layout": "IPY_MODEL_4c148f05e46e4da696c6e4ca973bf245",
       "max": 227141.0,
       "min": 0.0,
       "orientation": "horizontal",
       "style": "IPY_MODEL_711a57d099d84f26bc59feddffcbacb2",
       "value": 227141.0
      }
     },
     "1a40dd44e3cb42d3acdbbc08c01fb508": {
      "model_module": "@jupyter-widgets/controls",
      "model_module_version": "1.5.0",
      "model_name": "DescriptionStyleModel",
      "state": {
       "_model_module": "@jupyter-widgets/controls",
       "_model_module_version": "1.5.0",
       "_model_name": "DescriptionStyleModel",
       "_view_count": null,
       "_view_module": "@jupyter-widgets/base",
       "_view_module_version": "1.2.0",
       "_view_name": "StyleView",
       "description_width": ""
      }
     },
     "211ab0eea49b4c8d9d3a221eea63a3a3": {
      "model_module": "@jupyter-widgets/controls",
      "model_module_version": "1.5.0",
      "model_name": "HTMLModel",
      "state": {
       "_dom_classes": [],
       "_model_module": "@jupyter-widgets/controls",
       "_model_module_version": "1.5.0",
       "_model_name": "HTMLModel",
       "_view_count": null,
       "_view_module": "@jupyter-widgets/controls",
       "_view_module_version": "1.5.0",
       "_view_name": "HTMLView",
       "description": "",
       "description_tooltip": null,
       "layout": "IPY_MODEL_3fd4aeebfa314495907e098f0aa8a72c",
       "placeholder": "​",
       "style": "IPY_MODEL_0af439eb7b4547b3aaab0d5f408378a0",
       "value": " 445M/445M [00:15&lt;00:00, 31.4MB/s]"
      }
     },
     "3297c876591c4b5aa70faeefb6b5da03": {
      "model_module": "@jupyter-widgets/controls",
      "model_module_version": "1.5.0",
      "model_name": "FloatProgressModel",
      "state": {
       "_dom_classes": [],
       "_model_module": "@jupyter-widgets/controls",
       "_model_module_version": "1.5.0",
       "_model_name": "FloatProgressModel",
       "_view_count": null,
       "_view_module": "@jupyter-widgets/controls",
       "_view_module_version": "1.5.0",
       "_view_name": "ProgressView",
       "bar_style": "success",
       "description": "",
       "description_tooltip": null,
       "layout": "IPY_MODEL_ef35316fe69a46c2a030dd27c634bb8f",
       "max": 420.0,
       "min": 0.0,
       "orientation": "horizontal",
       "style": "IPY_MODEL_eeb54e1ca8104169847c06fa56ff7631",
       "value": 420.0
      }
     },
     "37611ad1335244a9a4d4e03a5aa98742": {
      "model_module": "@jupyter-widgets/controls",
      "model_module_version": "1.5.0",
      "model_name": "DescriptionStyleModel",
      "state": {
       "_model_module": "@jupyter-widgets/controls",
       "_model_module_version": "1.5.0",
       "_model_name": "DescriptionStyleModel",
       "_view_count": null,
       "_view_module": "@jupyter-widgets/base",
       "_view_module_version": "1.2.0",
       "_view_name": "StyleView",
       "description_width": ""
      }
     },
     "3fab0dab042e4871ab29b0bcef4875e1": {
      "model_module": "@jupyter-widgets/base",
      "model_module_version": "1.2.0",
      "model_name": "LayoutModel",
      "state": {
       "_model_module": "@jupyter-widgets/base",
       "_model_module_version": "1.2.0",
       "_model_name": "LayoutModel",
       "_view_count": null,
       "_view_module": "@jupyter-widgets/base",
       "_view_module_version": "1.2.0",
       "_view_name": "LayoutView",
       "align_content": null,
       "align_items": null,
       "align_self": null,
       "border": null,
       "bottom": null,
       "display": null,
       "flex": null,
       "flex_flow": null,
       "grid_area": null,
       "grid_auto_columns": null,
       "grid_auto_flow": null,
       "grid_auto_rows": null,
       "grid_column": null,
       "grid_gap": null,
       "grid_row": null,
       "grid_template_areas": null,
       "grid_template_columns": null,
       "grid_template_rows": null,
       "height": null,
       "justify_content": null,
       "justify_items": null,
       "left": null,
       "margin": null,
       "max_height": null,
       "max_width": null,
       "min_height": null,
       "min_width": null,
       "object_fit": null,
       "object_position": null,
       "order": null,
       "overflow": null,
       "overflow_x": null,
       "overflow_y": null,
       "padding": null,
       "right": null,
       "top": null,
       "visibility": null,
       "width": null
      }
     },
     "3fd4aeebfa314495907e098f0aa8a72c": {
      "model_module": "@jupyter-widgets/base",
      "model_module_version": "1.2.0",
      "model_name": "LayoutModel",
      "state": {
       "_model_module": "@jupyter-widgets/base",
       "_model_module_version": "1.2.0",
       "_model_name": "LayoutModel",
       "_view_count": null,
       "_view_module": "@jupyter-widgets/base",
       "_view_module_version": "1.2.0",
       "_view_name": "LayoutView",
       "align_content": null,
       "align_items": null,
       "align_self": null,
       "border": null,
       "bottom": null,
       "display": null,
       "flex": null,
       "flex_flow": null,
       "grid_area": null,
       "grid_auto_columns": null,
       "grid_auto_flow": null,
       "grid_auto_rows": null,
       "grid_column": null,
       "grid_gap": null,
       "grid_row": null,
       "grid_template_areas": null,
       "grid_template_columns": null,
       "grid_template_rows": null,
       "height": null,
       "justify_content": null,
       "justify_items": null,
       "left": null,
       "margin": null,
       "max_height": null,
       "max_width": null,
       "min_height": null,
       "min_width": null,
       "object_fit": null,
       "object_position": null,
       "order": null,
       "overflow": null,
       "overflow_x": null,
       "overflow_y": null,
       "padding": null,
       "right": null,
       "top": null,
       "visibility": null,
       "width": null
      }
     },
     "451edb4737df4cb3a37d0ed5334e4a52": {
      "model_module": "@jupyter-widgets/base",
      "model_module_version": "1.2.0",
      "model_name": "LayoutModel",
      "state": {
       "_model_module": "@jupyter-widgets/base",
       "_model_module_version": "1.2.0",
       "_model_name": "LayoutModel",
       "_view_count": null,
       "_view_module": "@jupyter-widgets/base",
       "_view_module_version": "1.2.0",
       "_view_name": "LayoutView",
       "align_content": null,
       "align_items": null,
       "align_self": null,
       "border": null,
       "bottom": null,
       "display": null,
       "flex": null,
       "flex_flow": null,
       "grid_area": null,
       "grid_auto_columns": null,
       "grid_auto_flow": null,
       "grid_auto_rows": null,
       "grid_column": null,
       "grid_gap": null,
       "grid_row": null,
       "grid_template_areas": null,
       "grid_template_columns": null,
       "grid_template_rows": null,
       "height": null,
       "justify_content": null,
       "justify_items": null,
       "left": null,
       "margin": null,
       "max_height": null,
       "max_width": null,
       "min_height": null,
       "min_width": null,
       "object_fit": null,
       "object_position": null,
       "order": null,
       "overflow": null,
       "overflow_x": null,
       "overflow_y": null,
       "padding": null,
       "right": null,
       "top": null,
       "visibility": null,
       "width": null
      }
     },
     "48f717dd760a4bb497be3c3983b801a7": {
      "model_module": "@jupyter-widgets/controls",
      "model_module_version": "1.5.0",
      "model_name": "HTMLModel",
      "state": {
       "_dom_classes": [],
       "_model_module": "@jupyter-widgets/controls",
       "_model_module_version": "1.5.0",
       "_model_name": "HTMLModel",
       "_view_count": null,
       "_view_module": "@jupyter-widgets/controls",
       "_view_module_version": "1.5.0",
       "_view_name": "HTMLView",
       "description": "",
       "description_tooltip": null,
       "layout": "IPY_MODEL_d0ef9ec5e3744bddab9c010d39c9dedc",
       "placeholder": "​",
       "style": "IPY_MODEL_16529775f74f4fa5800c491be12ff637",
       "value": "Downloading: 100%"
      }
     },
     "49edae0b426c4787bb5a91d40c132002": {
      "model_module": "@jupyter-widgets/base",
      "model_module_version": "1.2.0",
      "model_name": "LayoutModel",
      "state": {
       "_model_module": "@jupyter-widgets/base",
       "_model_module_version": "1.2.0",
       "_model_name": "LayoutModel",
       "_view_count": null,
       "_view_module": "@jupyter-widgets/base",
       "_view_module_version": "1.2.0",
       "_view_name": "LayoutView",
       "align_content": null,
       "align_items": null,
       "align_self": null,
       "border": null,
       "bottom": null,
       "display": null,
       "flex": null,
       "flex_flow": null,
       "grid_area": null,
       "grid_auto_columns": null,
       "grid_auto_flow": null,
       "grid_auto_rows": null,
       "grid_column": null,
       "grid_gap": null,
       "grid_row": null,
       "grid_template_areas": null,
       "grid_template_columns": null,
       "grid_template_rows": null,
       "height": null,
       "justify_content": null,
       "justify_items": null,
       "left": null,
       "margin": null,
       "max_height": null,
       "max_width": null,
       "min_height": null,
       "min_width": null,
       "object_fit": null,
       "object_position": null,
       "order": null,
       "overflow": null,
       "overflow_x": null,
       "overflow_y": null,
       "padding": null,
       "right": null,
       "top": null,
       "visibility": null,
       "width": null
      }
     },
     "4a6e076e3e0c4e7ea225aba7dc1da311": {
      "model_module": "@jupyter-widgets/controls",
      "model_module_version": "1.5.0",
      "model_name": "HBoxModel",
      "state": {
       "_dom_classes": [],
       "_model_module": "@jupyter-widgets/controls",
       "_model_module_version": "1.5.0",
       "_model_name": "HBoxModel",
       "_view_count": null,
       "_view_module": "@jupyter-widgets/controls",
       "_view_module_version": "1.5.0",
       "_view_name": "HBoxView",
       "box_style": "",
       "children": [
        "IPY_MODEL_48f717dd760a4bb497be3c3983b801a7",
        "IPY_MODEL_17a5fac04f4f4e4a89ae742ac10871f7",
        "IPY_MODEL_e4276bcca3424d1dbd0e9063ccc976e9"
       ],
       "layout": "IPY_MODEL_c2eaef00e19c461aa2cbc69155692dcb"
      }
     },
     "4c148f05e46e4da696c6e4ca973bf245": {
      "model_module": "@jupyter-widgets/base",
      "model_module_version": "1.2.0",
      "model_name": "LayoutModel",
      "state": {
       "_model_module": "@jupyter-widgets/base",
       "_model_module_version": "1.2.0",
       "_model_name": "LayoutModel",
       "_view_count": null,
       "_view_module": "@jupyter-widgets/base",
       "_view_module_version": "1.2.0",
       "_view_name": "LayoutView",
       "align_content": null,
       "align_items": null,
       "align_self": null,
       "border": null,
       "bottom": null,
       "display": null,
       "flex": null,
       "flex_flow": null,
       "grid_area": null,
       "grid_auto_columns": null,
       "grid_auto_flow": null,
       "grid_auto_rows": null,
       "grid_column": null,
       "grid_gap": null,
       "grid_row": null,
       "grid_template_areas": null,
       "grid_template_columns": null,
       "grid_template_rows": null,
       "height": null,
       "justify_content": null,
       "justify_items": null,
       "left": null,
       "margin": null,
       "max_height": null,
       "max_width": null,
       "min_height": null,
       "min_width": null,
       "object_fit": null,
       "object_position": null,
       "order": null,
       "overflow": null,
       "overflow_x": null,
       "overflow_y": null,
       "padding": null,
       "right": null,
       "top": null,
       "visibility": null,
       "width": null
      }
     },
     "4fe1a78fbd68428a8f173b57d38f8aca": {
      "model_module": "@jupyter-widgets/base",
      "model_module_version": "1.2.0",
      "model_name": "LayoutModel",
      "state": {
       "_model_module": "@jupyter-widgets/base",
       "_model_module_version": "1.2.0",
       "_model_name": "LayoutModel",
       "_view_count": null,
       "_view_module": "@jupyter-widgets/base",
       "_view_module_version": "1.2.0",
       "_view_name": "LayoutView",
       "align_content": null,
       "align_items": null,
       "align_self": null,
       "border": null,
       "bottom": null,
       "display": null,
       "flex": null,
       "flex_flow": null,
       "grid_area": null,
       "grid_auto_columns": null,
       "grid_auto_flow": null,
       "grid_auto_rows": null,
       "grid_column": null,
       "grid_gap": null,
       "grid_row": null,
       "grid_template_areas": null,
       "grid_template_columns": null,
       "grid_template_rows": null,
       "height": null,
       "justify_content": null,
       "justify_items": null,
       "left": null,
       "margin": null,
       "max_height": null,
       "max_width": null,
       "min_height": null,
       "min_width": null,
       "object_fit": null,
       "object_position": null,
       "order": null,
       "overflow": null,
       "overflow_x": null,
       "overflow_y": null,
       "padding": null,
       "right": null,
       "top": null,
       "visibility": null,
       "width": null
      }
     },
     "550b1dbf7e9d48beb8e71e8d02cbce69": {
      "model_module": "@jupyter-widgets/base",
      "model_module_version": "1.2.0",
      "model_name": "LayoutModel",
      "state": {
       "_model_module": "@jupyter-widgets/base",
       "_model_module_version": "1.2.0",
       "_model_name": "LayoutModel",
       "_view_count": null,
       "_view_module": "@jupyter-widgets/base",
       "_view_module_version": "1.2.0",
       "_view_name": "LayoutView",
       "align_content": null,
       "align_items": null,
       "align_self": null,
       "border": null,
       "bottom": null,
       "display": null,
       "flex": null,
       "flex_flow": null,
       "grid_area": null,
       "grid_auto_columns": null,
       "grid_auto_flow": null,
       "grid_auto_rows": null,
       "grid_column": null,
       "grid_gap": null,
       "grid_row": null,
       "grid_template_areas": null,
       "grid_template_columns": null,
       "grid_template_rows": null,
       "height": null,
       "justify_content": null,
       "justify_items": null,
       "left": null,
       "margin": null,
       "max_height": null,
       "max_width": null,
       "min_height": null,
       "min_width": null,
       "object_fit": null,
       "object_position": null,
       "order": null,
       "overflow": null,
       "overflow_x": null,
       "overflow_y": null,
       "padding": null,
       "right": null,
       "top": null,
       "visibility": null,
       "width": null
      }
     },
     "609fb61374404c9a8992989c71867753": {
      "model_module": "@jupyter-widgets/controls",
      "model_module_version": "1.5.0",
      "model_name": "HTMLModel",
      "state": {
       "_dom_classes": [],
       "_model_module": "@jupyter-widgets/controls",
       "_model_module_version": "1.5.0",
       "_model_name": "HTMLModel",
       "_view_count": null,
       "_view_module": "@jupyter-widgets/controls",
       "_view_module_version": "1.5.0",
       "_view_name": "HTMLView",
       "description": "",
       "description_tooltip": null,
       "layout": "IPY_MODEL_eba6df1c6b8f4a45a252a9988f8c6996",
       "placeholder": "​",
       "style": "IPY_MODEL_b5aa41a41f304bbba50bbec1f08337af",
       "value": " 83.0/83.0 [00:00&lt;00:00, 3.06kB/s]"
      }
     },
     "711a57d099d84f26bc59feddffcbacb2": {
      "model_module": "@jupyter-widgets/controls",
      "model_module_version": "1.5.0",
      "model_name": "ProgressStyleModel",
      "state": {
       "_model_module": "@jupyter-widgets/controls",
       "_model_module_version": "1.5.0",
       "_model_name": "ProgressStyleModel",
       "_view_count": null,
       "_view_module": "@jupyter-widgets/base",
       "_view_module_version": "1.2.0",
       "_view_name": "StyleView",
       "bar_color": null,
       "description_width": ""
      }
     },
     "7c7c9dd5e0fb4cf59781168fd16fb697": {
      "model_module": "@jupyter-widgets/controls",
      "model_module_version": "1.5.0",
      "model_name": "HTMLModel",
      "state": {
       "_dom_classes": [],
       "_model_module": "@jupyter-widgets/controls",
       "_model_module_version": "1.5.0",
       "_model_name": "HTMLModel",
       "_view_count": null,
       "_view_module": "@jupyter-widgets/controls",
       "_view_module_version": "1.5.0",
       "_view_name": "HTMLView",
       "description": "",
       "description_tooltip": null,
       "layout": "IPY_MODEL_da25fc15aea346bdb6335a67fd94c819",
       "placeholder": "​",
       "style": "IPY_MODEL_37611ad1335244a9a4d4e03a5aa98742",
       "value": " 420/420 [00:00&lt;00:00, 15.6kB/s]"
      }
     },
     "7f40ccaaa7d049f9bf9b89cb32e0bc8c": {
      "model_module": "@jupyter-widgets/controls",
      "model_module_version": "1.5.0",
      "model_name": "HBoxModel",
      "state": {
       "_dom_classes": [],
       "_model_module": "@jupyter-widgets/controls",
       "_model_module_version": "1.5.0",
       "_model_name": "HBoxModel",
       "_view_count": null,
       "_view_module": "@jupyter-widgets/controls",
       "_view_module_version": "1.5.0",
       "_view_name": "HBoxView",
       "box_style": "",
       "children": [
        "IPY_MODEL_10f2990939894a0c9772ed1bee0e389e",
        "IPY_MODEL_3297c876591c4b5aa70faeefb6b5da03",
        "IPY_MODEL_7c7c9dd5e0fb4cf59781168fd16fb697"
       ],
       "layout": "IPY_MODEL_dcd44208fc3349c7b5f44dd73cc9b652"
      }
     },
     "81f332a0e7fd42fdbdc1351b0248d1a6": {
      "model_module": "@jupyter-widgets/base",
      "model_module_version": "1.2.0",
      "model_name": "LayoutModel",
      "state": {
       "_model_module": "@jupyter-widgets/base",
       "_model_module_version": "1.2.0",
       "_model_name": "LayoutModel",
       "_view_count": null,
       "_view_module": "@jupyter-widgets/base",
       "_view_module_version": "1.2.0",
       "_view_name": "LayoutView",
       "align_content": null,
       "align_items": null,
       "align_self": null,
       "border": null,
       "bottom": null,
       "display": null,
       "flex": null,
       "flex_flow": null,
       "grid_area": null,
       "grid_auto_columns": null,
       "grid_auto_flow": null,
       "grid_auto_rows": null,
       "grid_column": null,
       "grid_gap": null,
       "grid_row": null,
       "grid_template_areas": null,
       "grid_template_columns": null,
       "grid_template_rows": null,
       "height": null,
       "justify_content": null,
       "justify_items": null,
       "left": null,
       "margin": null,
       "max_height": null,
       "max_width": null,
       "min_height": null,
       "min_width": null,
       "object_fit": null,
       "object_position": null,
       "order": null,
       "overflow": null,
       "overflow_x": null,
       "overflow_y": null,
       "padding": null,
       "right": null,
       "top": null,
       "visibility": null,
       "width": null
      }
     },
     "8262ddd05a2c4d02b6528fb7d0413dae": {
      "model_module": "@jupyter-widgets/controls",
      "model_module_version": "1.5.0",
      "model_name": "HBoxModel",
      "state": {
       "_dom_classes": [],
       "_model_module": "@jupyter-widgets/controls",
       "_model_module_version": "1.5.0",
       "_model_name": "HBoxModel",
       "_view_count": null,
       "_view_module": "@jupyter-widgets/controls",
       "_view_module_version": "1.5.0",
       "_view_name": "HBoxView",
       "box_style": "",
       "children": [
        "IPY_MODEL_8dc61f08e3434e1daf1ddfbf035758d7",
        "IPY_MODEL_f651e3a454b64d6c9b3c3a6e6851325c",
        "IPY_MODEL_211ab0eea49b4c8d9d3a221eea63a3a3"
       ],
       "layout": "IPY_MODEL_012abb60255840f2ad0dd662ffbe2cca"
      }
     },
     "8dc61f08e3434e1daf1ddfbf035758d7": {
      "model_module": "@jupyter-widgets/controls",
      "model_module_version": "1.5.0",
      "model_name": "HTMLModel",
      "state": {
       "_dom_classes": [],
       "_model_module": "@jupyter-widgets/controls",
       "_model_module_version": "1.5.0",
       "_model_name": "HTMLModel",
       "_view_count": null,
       "_view_module": "@jupyter-widgets/controls",
       "_view_module_version": "1.5.0",
       "_view_name": "HTMLView",
       "description": "",
       "description_tooltip": null,
       "layout": "IPY_MODEL_e90000177db440a998c67e384b33097e",
       "placeholder": "​",
       "style": "IPY_MODEL_1a40dd44e3cb42d3acdbbc08c01fb508",
       "value": "Downloading: 100%"
      }
     },
     "aa2ec585098145d09c3516f25391c9ae": {
      "model_module": "@jupyter-widgets/controls",
      "model_module_version": "1.5.0",
      "model_name": "ProgressStyleModel",
      "state": {
       "_model_module": "@jupyter-widgets/controls",
       "_model_module_version": "1.5.0",
       "_model_name": "ProgressStyleModel",
       "_view_count": null,
       "_view_module": "@jupyter-widgets/base",
       "_view_module_version": "1.2.0",
       "_view_name": "StyleView",
       "bar_color": null,
       "description_width": ""
      }
     },
     "b5aa41a41f304bbba50bbec1f08337af": {
      "model_module": "@jupyter-widgets/controls",
      "model_module_version": "1.5.0",
      "model_name": "DescriptionStyleModel",
      "state": {
       "_model_module": "@jupyter-widgets/controls",
       "_model_module_version": "1.5.0",
       "_model_name": "DescriptionStyleModel",
       "_view_count": null,
       "_view_module": "@jupyter-widgets/base",
       "_view_module_version": "1.2.0",
       "_view_name": "StyleView",
       "description_width": ""
      }
     },
     "c2eaef00e19c461aa2cbc69155692dcb": {
      "model_module": "@jupyter-widgets/base",
      "model_module_version": "1.2.0",
      "model_name": "LayoutModel",
      "state": {
       "_model_module": "@jupyter-widgets/base",
       "_model_module_version": "1.2.0",
       "_model_name": "LayoutModel",
       "_view_count": null,
       "_view_module": "@jupyter-widgets/base",
       "_view_module_version": "1.2.0",
       "_view_name": "LayoutView",
       "align_content": null,
       "align_items": null,
       "align_self": null,
       "border": null,
       "bottom": null,
       "display": null,
       "flex": null,
       "flex_flow": null,
       "grid_area": null,
       "grid_auto_columns": null,
       "grid_auto_flow": null,
       "grid_auto_rows": null,
       "grid_column": null,
       "grid_gap": null,
       "grid_row": null,
       "grid_template_areas": null,
       "grid_template_columns": null,
       "grid_template_rows": null,
       "height": null,
       "justify_content": null,
       "justify_items": null,
       "left": null,
       "margin": null,
       "max_height": null,
       "max_width": null,
       "min_height": null,
       "min_width": null,
       "object_fit": null,
       "object_position": null,
       "order": null,
       "overflow": null,
       "overflow_x": null,
       "overflow_y": null,
       "padding": null,
       "right": null,
       "top": null,
       "visibility": null,
       "width": null
      }
     },
     "c7f2586111bd4e9f8d0b50f057568541": {
      "model_module": "@jupyter-widgets/controls",
      "model_module_version": "1.5.0",
      "model_name": "HTMLModel",
      "state": {
       "_dom_classes": [],
       "_model_module": "@jupyter-widgets/controls",
       "_model_module_version": "1.5.0",
       "_model_name": "HTMLModel",
       "_view_count": null,
       "_view_module": "@jupyter-widgets/controls",
       "_view_module_version": "1.5.0",
       "_view_name": "HTMLView",
       "description": "",
       "description_tooltip": null,
       "layout": "IPY_MODEL_451edb4737df4cb3a37d0ed5334e4a52",
       "placeholder": "​",
       "style": "IPY_MODEL_f554b1897f5d4964b5ac5c784f939c95",
       "value": "Downloading: 100%"
      }
     },
     "d0ef9ec5e3744bddab9c010d39c9dedc": {
      "model_module": "@jupyter-widgets/base",
      "model_module_version": "1.2.0",
      "model_name": "LayoutModel",
      "state": {
       "_model_module": "@jupyter-widgets/base",
       "_model_module_version": "1.2.0",
       "_model_name": "LayoutModel",
       "_view_count": null,
       "_view_module": "@jupyter-widgets/base",
       "_view_module_version": "1.2.0",
       "_view_name": "LayoutView",
       "align_content": null,
       "align_items": null,
       "align_self": null,
       "border": null,
       "bottom": null,
       "display": null,
       "flex": null,
       "flex_flow": null,
       "grid_area": null,
       "grid_auto_columns": null,
       "grid_auto_flow": null,
       "grid_auto_rows": null,
       "grid_column": null,
       "grid_gap": null,
       "grid_row": null,
       "grid_template_areas": null,
       "grid_template_columns": null,
       "grid_template_rows": null,
       "height": null,
       "justify_content": null,
       "justify_items": null,
       "left": null,
       "margin": null,
       "max_height": null,
       "max_width": null,
       "min_height": null,
       "min_width": null,
       "object_fit": null,
       "object_position": null,
       "order": null,
       "overflow": null,
       "overflow_x": null,
       "overflow_y": null,
       "padding": null,
       "right": null,
       "top": null,
       "visibility": null,
       "width": null
      }
     },
     "d6cef7e3c0f94a68ac464e88da1e09f0": {
      "model_module": "@jupyter-widgets/controls",
      "model_module_version": "1.5.0",
      "model_name": "FloatProgressModel",
      "state": {
       "_dom_classes": [],
       "_model_module": "@jupyter-widgets/controls",
       "_model_module_version": "1.5.0",
       "_model_name": "FloatProgressModel",
       "_view_count": null,
       "_view_module": "@jupyter-widgets/controls",
       "_view_module_version": "1.5.0",
       "_view_name": "ProgressView",
       "bar_style": "success",
       "description": "",
       "description_tooltip": null,
       "layout": "IPY_MODEL_550b1dbf7e9d48beb8e71e8d02cbce69",
       "max": 83.0,
       "min": 0.0,
       "orientation": "horizontal",
       "style": "IPY_MODEL_aa2ec585098145d09c3516f25391c9ae",
       "value": 83.0
      }
     },
     "da25fc15aea346bdb6335a67fd94c819": {
      "model_module": "@jupyter-widgets/base",
      "model_module_version": "1.2.0",
      "model_name": "LayoutModel",
      "state": {
       "_model_module": "@jupyter-widgets/base",
       "_model_module_version": "1.2.0",
       "_model_name": "LayoutModel",
       "_view_count": null,
       "_view_module": "@jupyter-widgets/base",
       "_view_module_version": "1.2.0",
       "_view_name": "LayoutView",
       "align_content": null,
       "align_items": null,
       "align_self": null,
       "border": null,
       "bottom": null,
       "display": null,
       "flex": null,
       "flex_flow": null,
       "grid_area": null,
       "grid_auto_columns": null,
       "grid_auto_flow": null,
       "grid_auto_rows": null,
       "grid_column": null,
       "grid_gap": null,
       "grid_row": null,
       "grid_template_areas": null,
       "grid_template_columns": null,
       "grid_template_rows": null,
       "height": null,
       "justify_content": null,
       "justify_items": null,
       "left": null,
       "margin": null,
       "max_height": null,
       "max_width": null,
       "min_height": null,
       "min_width": null,
       "object_fit": null,
       "object_position": null,
       "order": null,
       "overflow": null,
       "overflow_x": null,
       "overflow_y": null,
       "padding": null,
       "right": null,
       "top": null,
       "visibility": null,
       "width": null
      }
     },
     "dcd44208fc3349c7b5f44dd73cc9b652": {
      "model_module": "@jupyter-widgets/base",
      "model_module_version": "1.2.0",
      "model_name": "LayoutModel",
      "state": {
       "_model_module": "@jupyter-widgets/base",
       "_model_module_version": "1.2.0",
       "_model_name": "LayoutModel",
       "_view_count": null,
       "_view_module": "@jupyter-widgets/base",
       "_view_module_version": "1.2.0",
       "_view_name": "LayoutView",
       "align_content": null,
       "align_items": null,
       "align_self": null,
       "border": null,
       "bottom": null,
       "display": null,
       "flex": null,
       "flex_flow": null,
       "grid_area": null,
       "grid_auto_columns": null,
       "grid_auto_flow": null,
       "grid_auto_rows": null,
       "grid_column": null,
       "grid_gap": null,
       "grid_row": null,
       "grid_template_areas": null,
       "grid_template_columns": null,
       "grid_template_rows": null,
       "height": null,
       "justify_content": null,
       "justify_items": null,
       "left": null,
       "margin": null,
       "max_height": null,
       "max_width": null,
       "min_height": null,
       "min_width": null,
       "object_fit": null,
       "object_position": null,
       "order": null,
       "overflow": null,
       "overflow_x": null,
       "overflow_y": null,
       "padding": null,
       "right": null,
       "top": null,
       "visibility": null,
       "width": null
      }
     },
     "def6bf7908d9475b8d288b22a5b1a031": {
      "model_module": "@jupyter-widgets/controls",
      "model_module_version": "1.5.0",
      "model_name": "DescriptionStyleModel",
      "state": {
       "_model_module": "@jupyter-widgets/controls",
       "_model_module_version": "1.5.0",
       "_model_name": "DescriptionStyleModel",
       "_view_count": null,
       "_view_module": "@jupyter-widgets/base",
       "_view_module_version": "1.2.0",
       "_view_name": "StyleView",
       "description_width": ""
      }
     },
     "e3785e82da924b92983d17b28babada1": {
      "model_module": "@jupyter-widgets/controls",
      "model_module_version": "1.5.0",
      "model_name": "DescriptionStyleModel",
      "state": {
       "_model_module": "@jupyter-widgets/controls",
       "_model_module_version": "1.5.0",
       "_model_name": "DescriptionStyleModel",
       "_view_count": null,
       "_view_module": "@jupyter-widgets/base",
       "_view_module_version": "1.2.0",
       "_view_name": "StyleView",
       "description_width": ""
      }
     },
     "e4276bcca3424d1dbd0e9063ccc976e9": {
      "model_module": "@jupyter-widgets/controls",
      "model_module_version": "1.5.0",
      "model_name": "HTMLModel",
      "state": {
       "_dom_classes": [],
       "_model_module": "@jupyter-widgets/controls",
       "_model_module_version": "1.5.0",
       "_model_name": "HTMLModel",
       "_view_count": null,
       "_view_module": "@jupyter-widgets/controls",
       "_view_module_version": "1.5.0",
       "_view_name": "HTMLView",
       "description": "",
       "description_tooltip": null,
       "layout": "IPY_MODEL_3fab0dab042e4871ab29b0bcef4875e1",
       "placeholder": "​",
       "style": "IPY_MODEL_def6bf7908d9475b8d288b22a5b1a031",
       "value": " 227k/227k [00:00&lt;00:00, 542kB/s]"
      }
     },
     "e90000177db440a998c67e384b33097e": {
      "model_module": "@jupyter-widgets/base",
      "model_module_version": "1.2.0",
      "model_name": "LayoutModel",
      "state": {
       "_model_module": "@jupyter-widgets/base",
       "_model_module_version": "1.2.0",
       "_model_name": "LayoutModel",
       "_view_count": null,
       "_view_module": "@jupyter-widgets/base",
       "_view_module_version": "1.2.0",
       "_view_name": "LayoutView",
       "align_content": null,
       "align_items": null,
       "align_self": null,
       "border": null,
       "bottom": null,
       "display": null,
       "flex": null,
       "flex_flow": null,
       "grid_area": null,
       "grid_auto_columns": null,
       "grid_auto_flow": null,
       "grid_auto_rows": null,
       "grid_column": null,
       "grid_gap": null,
       "grid_row": null,
       "grid_template_areas": null,
       "grid_template_columns": null,
       "grid_template_rows": null,
       "height": null,
       "justify_content": null,
       "justify_items": null,
       "left": null,
       "margin": null,
       "max_height": null,
       "max_width": null,
       "min_height": null,
       "min_width": null,
       "object_fit": null,
       "object_position": null,
       "order": null,
       "overflow": null,
       "overflow_x": null,
       "overflow_y": null,
       "padding": null,
       "right": null,
       "top": null,
       "visibility": null,
       "width": null
      }
     },
     "eba6df1c6b8f4a45a252a9988f8c6996": {
      "model_module": "@jupyter-widgets/base",
      "model_module_version": "1.2.0",
      "model_name": "LayoutModel",
      "state": {
       "_model_module": "@jupyter-widgets/base",
       "_model_module_version": "1.2.0",
       "_model_name": "LayoutModel",
       "_view_count": null,
       "_view_module": "@jupyter-widgets/base",
       "_view_module_version": "1.2.0",
       "_view_name": "LayoutView",
       "align_content": null,
       "align_items": null,
       "align_self": null,
       "border": null,
       "bottom": null,
       "display": null,
       "flex": null,
       "flex_flow": null,
       "grid_area": null,
       "grid_auto_columns": null,
       "grid_auto_flow": null,
       "grid_auto_rows": null,
       "grid_column": null,
       "grid_gap": null,
       "grid_row": null,
       "grid_template_areas": null,
       "grid_template_columns": null,
       "grid_template_rows": null,
       "height": null,
       "justify_content": null,
       "justify_items": null,
       "left": null,
       "margin": null,
       "max_height": null,
       "max_width": null,
       "min_height": null,
       "min_width": null,
       "object_fit": null,
       "object_position": null,
       "order": null,
       "overflow": null,
       "overflow_x": null,
       "overflow_y": null,
       "padding": null,
       "right": null,
       "top": null,
       "visibility": null,
       "width": null
      }
     },
     "eeb54e1ca8104169847c06fa56ff7631": {
      "model_module": "@jupyter-widgets/controls",
      "model_module_version": "1.5.0",
      "model_name": "ProgressStyleModel",
      "state": {
       "_model_module": "@jupyter-widgets/controls",
       "_model_module_version": "1.5.0",
       "_model_name": "ProgressStyleModel",
       "_view_count": null,
       "_view_module": "@jupyter-widgets/base",
       "_view_module_version": "1.2.0",
       "_view_name": "StyleView",
       "bar_color": null,
       "description_width": ""
      }
     },
     "ef35316fe69a46c2a030dd27c634bb8f": {
      "model_module": "@jupyter-widgets/base",
      "model_module_version": "1.2.0",
      "model_name": "LayoutModel",
      "state": {
       "_model_module": "@jupyter-widgets/base",
       "_model_module_version": "1.2.0",
       "_model_name": "LayoutModel",
       "_view_count": null,
       "_view_module": "@jupyter-widgets/base",
       "_view_module_version": "1.2.0",
       "_view_name": "LayoutView",
       "align_content": null,
       "align_items": null,
       "align_self": null,
       "border": null,
       "bottom": null,
       "display": null,
       "flex": null,
       "flex_flow": null,
       "grid_area": null,
       "grid_auto_columns": null,
       "grid_auto_flow": null,
       "grid_auto_rows": null,
       "grid_column": null,
       "grid_gap": null,
       "grid_row": null,
       "grid_template_areas": null,
       "grid_template_columns": null,
       "grid_template_rows": null,
       "height": null,
       "justify_content": null,
       "justify_items": null,
       "left": null,
       "margin": null,
       "max_height": null,
       "max_width": null,
       "min_height": null,
       "min_width": null,
       "object_fit": null,
       "object_position": null,
       "order": null,
       "overflow": null,
       "overflow_x": null,
       "overflow_y": null,
       "padding": null,
       "right": null,
       "top": null,
       "visibility": null,
       "width": null
      }
     },
     "f4f24e64081a4423b4addb5e9172174d": {
      "model_module": "@jupyter-widgets/controls",
      "model_module_version": "1.5.0",
      "model_name": "ProgressStyleModel",
      "state": {
       "_model_module": "@jupyter-widgets/controls",
       "_model_module_version": "1.5.0",
       "_model_name": "ProgressStyleModel",
       "_view_count": null,
       "_view_module": "@jupyter-widgets/base",
       "_view_module_version": "1.2.0",
       "_view_name": "StyleView",
       "bar_color": null,
       "description_width": ""
      }
     },
     "f554b1897f5d4964b5ac5c784f939c95": {
      "model_module": "@jupyter-widgets/controls",
      "model_module_version": "1.5.0",
      "model_name": "DescriptionStyleModel",
      "state": {
       "_model_module": "@jupyter-widgets/controls",
       "_model_module_version": "1.5.0",
       "_model_name": "DescriptionStyleModel",
       "_view_count": null,
       "_view_module": "@jupyter-widgets/base",
       "_view_module_version": "1.2.0",
       "_view_name": "StyleView",
       "description_width": ""
      }
     },
     "f651e3a454b64d6c9b3c3a6e6851325c": {
      "model_module": "@jupyter-widgets/controls",
      "model_module_version": "1.5.0",
      "model_name": "FloatProgressModel",
      "state": {
       "_dom_classes": [],
       "_model_module": "@jupyter-widgets/controls",
       "_model_module_version": "1.5.0",
       "_model_name": "FloatProgressModel",
       "_view_count": null,
       "_view_module": "@jupyter-widgets/controls",
       "_view_module_version": "1.5.0",
       "_view_name": "ProgressView",
       "bar_style": "success",
       "description": "",
       "description_tooltip": null,
       "layout": "IPY_MODEL_4fe1a78fbd68428a8f173b57d38f8aca",
       "max": 445018784.0,
       "min": 0.0,
       "orientation": "horizontal",
       "style": "IPY_MODEL_f4f24e64081a4423b4addb5e9172174d",
       "value": 445018784.0
      }
     },
     "fee36931a94e403ead690024d45a0f67": {
      "model_module": "@jupyter-widgets/controls",
      "model_module_version": "1.5.0",
      "model_name": "HBoxModel",
      "state": {
       "_dom_classes": [],
       "_model_module": "@jupyter-widgets/controls",
       "_model_module_version": "1.5.0",
       "_model_name": "HBoxModel",
       "_view_count": null,
       "_view_module": "@jupyter-widgets/controls",
       "_view_module_version": "1.5.0",
       "_view_name": "HBoxView",
       "box_style": "",
       "children": [
        "IPY_MODEL_c7f2586111bd4e9f8d0b50f057568541",
        "IPY_MODEL_d6cef7e3c0f94a68ac464e88da1e09f0",
        "IPY_MODEL_609fb61374404c9a8992989c71867753"
       ],
       "layout": "IPY_MODEL_49edae0b426c4787bb5a91d40c132002"
      }
     }
    },
    "version_major": 2,
    "version_minor": 0
   }
  }
 },
 "nbformat": 4,
 "nbformat_minor": 5
}
