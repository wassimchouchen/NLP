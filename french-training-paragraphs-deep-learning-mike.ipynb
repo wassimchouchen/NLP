{
 "cells": [
  {
   "cell_type": "code",
   "execution_count": 1,
   "id": "1625eaf1",
   "metadata": {
    "_cell_guid": "b1076dfc-b9ad-4769-8c92-a6c4dae69d19",
    "_uuid": "8f2839f25d086af736a60e9eeb907d3b93b6e0e5",
    "execution": {
     "iopub.execute_input": "2022-07-20T08:58:49.895999Z",
     "iopub.status.busy": "2022-07-20T08:58:49.894482Z",
     "iopub.status.idle": "2022-07-20T08:58:57.023092Z",
     "shell.execute_reply": "2022-07-20T08:58:57.022463Z",
     "shell.execute_reply.started": "2022-07-20T08:50:39.961464Z"
    },
    "papermill": {
     "duration": 7.164234,
     "end_time": "2022-07-20T08:58:57.023282",
     "exception": false,
     "start_time": "2022-07-20T08:58:49.859048",
     "status": "completed"
    },
    "tags": []
   },
   "outputs": [],
   "source": [
    "import os\n",
    "\n",
    "import random\n",
    "import numpy as np\n",
    "\n",
    "import pandas as pd\n",
    "import torch\n",
    "from torch.utils.data import Dataset, random_split\n",
    "from transformers import (\n",
    "    AdamW,\n",
    "    Trainer,\n",
    "    TrainingArguments,\n",
    "    AutoTokenizer,\n",
    "    AutoModelForSequenceClassification,\n",
    "    get_cosine_schedule_with_warmup,\n",
    ")\n",
    "from sklearn.preprocessing import LabelEncoder\n",
    "from sklearn.metrics import accuracy_score"
   ]
  },
  {
   "cell_type": "code",
   "execution_count": 2,
   "id": "7dd283a7",
   "metadata": {
    "execution": {
     "iopub.execute_input": "2022-07-20T08:58:57.089160Z",
     "iopub.status.busy": "2022-07-20T08:58:57.088352Z",
     "iopub.status.idle": "2022-07-20T08:59:07.257129Z",
     "shell.execute_reply": "2022-07-20T08:59:07.256308Z",
     "shell.execute_reply.started": "2022-07-20T08:50:40.052787Z"
    },
    "papermill": {
     "duration": 10.20358,
     "end_time": "2022-07-20T08:59:07.257296",
     "exception": false,
     "start_time": "2022-07-20T08:58:57.053716",
     "status": "completed"
    },
    "tags": []
   },
   "outputs": [
    {
     "data": {
      "application/vnd.jupyter.widget-view+json": {
       "model_id": "82fbdaa36bbb4ea69a8a801d198b8c47",
       "version_major": 2,
       "version_minor": 0
      },
      "text/plain": [
       "Downloading:   0%|          | 0.00/420 [00:00<?, ?B/s]"
      ]
     },
     "metadata": {},
     "output_type": "display_data"
    },
    {
     "data": {
      "application/vnd.jupyter.widget-view+json": {
       "model_id": "0183e090fd4043d9b6db734e7035598c",
       "version_major": 2,
       "version_minor": 0
      },
      "text/plain": [
       "Downloading:   0%|          | 0.00/227k [00:00<?, ?B/s]"
      ]
     },
     "metadata": {},
     "output_type": "display_data"
    },
    {
     "data": {
      "application/vnd.jupyter.widget-view+json": {
       "model_id": "cce141a3d34a46ad9d08b975c52bb019",
       "version_major": 2,
       "version_minor": 0
      },
      "text/plain": [
       "Downloading:   0%|          | 0.00/83.0 [00:00<?, ?B/s]"
      ]
     },
     "metadata": {},
     "output_type": "display_data"
    }
   ],
   "source": [
    "model_name = \"dbmdz/bert-base-french-europeana-cased\"\n",
    "\n",
    "tokenizer = AutoTokenizer.from_pretrained(model_name)\n",
    "\n",
    "device = torch.device(\"cuda\" if torch.cuda.is_available() else \"cpu\")"
   ]
  },
  {
   "cell_type": "code",
   "execution_count": 3,
   "id": "1d85935e",
   "metadata": {
    "execution": {
     "iopub.execute_input": "2022-07-20T08:59:07.324104Z",
     "iopub.status.busy": "2022-07-20T08:59:07.323333Z",
     "iopub.status.idle": "2022-07-20T08:59:07.325381Z",
     "shell.execute_reply": "2022-07-20T08:59:07.325774Z",
     "shell.execute_reply.started": "2022-07-20T08:50:42.136378Z"
    },
    "papermill": {
     "duration": 0.037237,
     "end_time": "2022-07-20T08:59:07.325908",
     "exception": false,
     "start_time": "2022-07-20T08:59:07.288671",
     "status": "completed"
    },
    "tags": []
   },
   "outputs": [],
   "source": [
    "lr = 2e-5\n",
    "epochs =  6\n",
    "batch_size = 5\n",
    "max_seq_len = 75\n",
    "\n",
    "test_frac = 0.1"
   ]
  },
  {
   "cell_type": "code",
   "execution_count": 4,
   "id": "290aa005",
   "metadata": {
    "execution": {
     "iopub.execute_input": "2022-07-20T08:59:07.392767Z",
     "iopub.status.busy": "2022-07-20T08:59:07.392102Z",
     "iopub.status.idle": "2022-07-20T08:59:07.397001Z",
     "shell.execute_reply": "2022-07-20T08:59:07.396567Z",
     "shell.execute_reply.started": "2022-07-20T08:50:42.144259Z"
    },
    "papermill": {
     "duration": 0.040692,
     "end_time": "2022-07-20T08:59:07.397106",
     "exception": false,
     "start_time": "2022-07-20T08:59:07.356414",
     "status": "completed"
    },
    "tags": []
   },
   "outputs": [],
   "source": [
    "import os\n",
    "\n",
    "def set_seed(seed=106052):\n",
    "    \"\"\"Set seed for reproducibility.\n",
    "    \"\"\"\n",
    "    random.seed(seed)\n",
    "    np.random.seed(seed)\n",
    "    torch.manual_seed(seed)\n",
    "    torch.cuda.manual_seed_all(seed)\n",
    "    \n",
    "    os.environ['PYTHONHASHSEED'] = str(seed)\n",
    "    \n",
    "set_seed()"
   ]
  },
  {
   "cell_type": "code",
   "execution_count": 5,
   "id": "e8c914f0",
   "metadata": {
    "execution": {
     "iopub.execute_input": "2022-07-20T08:59:07.467714Z",
     "iopub.status.busy": "2022-07-20T08:59:07.466985Z",
     "iopub.status.idle": "2022-07-20T08:59:07.469353Z",
     "shell.execute_reply": "2022-07-20T08:59:07.469732Z",
     "shell.execute_reply.started": "2022-07-20T08:50:42.156092Z"
    },
    "papermill": {
     "duration": 0.041029,
     "end_time": "2022-07-20T08:59:07.469863",
     "exception": false,
     "start_time": "2022-07-20T08:59:07.428834",
     "status": "completed"
    },
    "tags": []
   },
   "outputs": [],
   "source": [
    "class CEFRDataset(Dataset):\n",
    "    \"\"\"Classification dataset, built on top of pytorch dataset object\n",
    "    \"\"\"\n",
    "    \n",
    "    def __init__(self, texts, labels):\n",
    "        \n",
    "        self.encoder = LabelEncoder()\n",
    "        print(self.encoder.__dict__)\n",
    "        self.texts = texts\n",
    "        self.labels = self.encoder.fit_transform(labels)\n",
    "\n",
    "    def __len__(self):\n",
    "        return len(self.texts)\n",
    "\n",
    "    def __getitem__(self, index):\n",
    "        text = self.texts[index]\n",
    "        label = self.labels[index]\n",
    "        encoded_text = tokenizer(\n",
    "            text,\n",
    "            padding=\"max_length\",\n",
    "            max_length=max_seq_len,\n",
    "            truncation=True,\n",
    "            return_tensors=\"pt\",\n",
    "        )\n",
    "        encoded_text[\"input_ids\"] = encoded_text[\"input_ids\"].squeeze()\n",
    "        encoded_text[\"attention_mask\"] = encoded_text[\"attention_mask\"].squeeze()\n",
    "        label = torch.tensor(label)\n",
    "\n",
    "        return {\n",
    "            \"input_ids\": encoded_text[\"input_ids\"],\n",
    "            \"attention_mask\": encoded_text[\"attention_mask\"],\n",
    "            \"labels\": label,\n",
    "        }\n",
    "\n",
    "    def get_labels(self):\n",
    "        return self.labels"
   ]
  },
  {
   "cell_type": "code",
   "execution_count": 6,
   "id": "396e245c",
   "metadata": {
    "execution": {
     "iopub.execute_input": "2022-07-20T08:59:07.540216Z",
     "iopub.status.busy": "2022-07-20T08:59:07.537022Z",
     "iopub.status.idle": "2022-07-20T08:59:07.542526Z",
     "shell.execute_reply": "2022-07-20T08:59:07.542049Z",
     "shell.execute_reply.started": "2022-07-20T08:50:42.166556Z"
    },
    "papermill": {
     "duration": 0.040445,
     "end_time": "2022-07-20T08:59:07.542645",
     "exception": false,
     "start_time": "2022-07-20T08:59:07.502200",
     "status": "completed"
    },
    "tags": []
   },
   "outputs": [],
   "source": [
    "def train(train_set, valid_set, epochs=10, warmup_size=0.1, lr=1e-3, batch_size=16):\n",
    "    model = get_model(model_name)\n",
    "    optim = AdamW(model.parameters(), lr=lr)\n",
    "    scheduler = get_scheduler(\n",
    "        optim, warmup_size, round(len(train_set) / batch_size * epochs)\n",
    "    )\n",
    "    training_args = get_training_args(epochs, batch_size)\n",
    "    trainer = Trainer(\n",
    "        model=model,\n",
    "        args=training_args,\n",
    "        train_dataset=train_set,\n",
    "        eval_dataset=valid_set,\n",
    "        optimizers=[optim, scheduler],\n",
    "        compute_metrics=compute_accuracy,\n",
    "    )\n",
    "    trainer.train()\n",
    "    trainer.save_model()\n",
    "    return trainer"
   ]
  },
  {
   "cell_type": "code",
   "execution_count": 7,
   "id": "96d93cf7",
   "metadata": {
    "execution": {
     "iopub.execute_input": "2022-07-20T08:59:07.610775Z",
     "iopub.status.busy": "2022-07-20T08:59:07.609940Z",
     "iopub.status.idle": "2022-07-20T08:59:07.611808Z",
     "shell.execute_reply": "2022-07-20T08:59:07.612230Z",
     "shell.execute_reply.started": "2022-07-20T08:50:42.180252Z"
    },
    "papermill": {
     "duration": 0.0386,
     "end_time": "2022-07-20T08:59:07.612357",
     "exception": false,
     "start_time": "2022-07-20T08:59:07.573757",
     "status": "completed"
    },
    "tags": []
   },
   "outputs": [],
   "source": [
    "def get_model(pretrained_checkpoint):\n",
    "    model = AutoModelForSequenceClassification.from_pretrained(\n",
    "        pretrained_checkpoint, num_labels=6\n",
    "    )\n",
    "    return model.to(device)"
   ]
  },
  {
   "cell_type": "code",
   "execution_count": 8,
   "id": "83752a6d",
   "metadata": {
    "execution": {
     "iopub.execute_input": "2022-07-20T08:59:07.683116Z",
     "iopub.status.busy": "2022-07-20T08:59:07.682225Z",
     "iopub.status.idle": "2022-07-20T08:59:07.684873Z",
     "shell.execute_reply": "2022-07-20T08:59:07.684410Z",
     "shell.execute_reply.started": "2022-07-20T08:50:42.190429Z"
    },
    "papermill": {
     "duration": 0.040499,
     "end_time": "2022-07-20T08:59:07.684984",
     "exception": false,
     "start_time": "2022-07-20T08:59:07.644485",
     "status": "completed"
    },
    "tags": []
   },
   "outputs": [],
   "source": [
    "os.environ[\"WANDB_DISABLED\"] = \"true\"\n",
    "\n",
    "\n",
    "def get_scheduler(optimizer, warmup_size, total_steps):\n",
    "    scheduler = get_cosine_schedule_with_warmup(\n",
    "        optimizer,\n",
    "        num_warmup_steps=round(total_steps * warmup_size),\n",
    "        num_training_steps=total_steps,\n",
    "    )\n",
    "    return scheduler\n",
    "\n",
    "\n",
    "def get_training_args(epochs, batch_size):\n",
    "    return TrainingArguments(\n",
    "        output_dir=\"./b\",\n",
    "        num_train_epochs=epochs,\n",
    "        per_device_train_batch_size=batch_size,\n",
    "        logging_steps=50,\n",
    "        fp16=False,\n",
    "        evaluation_strategy=\"epoch\",\n",
    "        eval_accumulation_steps=1,\n",
    "        report_to=None,\n",
    "        save_total_limit=1,\n",
    "        load_best_model_at_end=True\n",
    "    )\n",
    "\n",
    "\n",
    "def compute_accuracy(pred):\n",
    "    labels = pred.label_ids\n",
    "    preds = pred.predictions.argmax(-1)\n",
    "    acc = accuracy_score(labels, preds)\n",
    "    return {\"accuracy\": acc}\n",
    "\n"
   ]
  },
  {
   "cell_type": "code",
   "execution_count": 9,
   "id": "0470bb5f",
   "metadata": {
    "execution": {
     "iopub.execute_input": "2022-07-20T08:59:07.752974Z",
     "iopub.status.busy": "2022-07-20T08:59:07.752111Z",
     "iopub.status.idle": "2022-07-20T08:59:07.754250Z",
     "shell.execute_reply": "2022-07-20T08:59:07.754653Z",
     "shell.execute_reply.started": "2022-07-20T08:50:42.200673Z"
    },
    "papermill": {
     "duration": 0.037883,
     "end_time": "2022-07-20T08:59:07.754786",
     "exception": false,
     "start_time": "2022-07-20T08:59:07.716903",
     "status": "completed"
    },
    "tags": []
   },
   "outputs": [],
   "source": [
    "lr = 2e-5\n",
    "epochs =  7\n",
    "batch_size = 8\n",
    "max_seq_len = 512"
   ]
  },
  {
   "cell_type": "code",
   "execution_count": 10,
   "id": "73a3f210",
   "metadata": {
    "execution": {
     "iopub.execute_input": "2022-07-20T08:59:07.822374Z",
     "iopub.status.busy": "2022-07-20T08:59:07.821497Z",
     "iopub.status.idle": "2022-07-20T08:59:07.823306Z",
     "shell.execute_reply": "2022-07-20T08:59:07.823762Z",
     "shell.execute_reply.started": "2022-07-20T08:50:42.214383Z"
    },
    "papermill": {
     "duration": 0.038589,
     "end_time": "2022-07-20T08:59:07.823894",
     "exception": false,
     "start_time": "2022-07-20T08:59:07.785305",
     "status": "completed"
    },
    "tags": []
   },
   "outputs": [],
   "source": [
    "def split_valid(df, frac=0.1):\n",
    "    \n",
    "    val = pd.DataFrame()\n",
    "    val[\"text\"] = \"\"\n",
    "    val[\"label\"] = -1\n",
    "    \n",
    "    for i in df.label.unique():\n",
    "        val = pd.concat([val, df[df.label == i].sample(frac=frac)])\n",
    "        \n",
    "    return df[~df.index.isin(val.index)].reset_index(drop=True) , val.reset_index(drop=True)"
   ]
  },
  {
   "cell_type": "code",
   "execution_count": 11,
   "id": "29201462",
   "metadata": {
    "execution": {
     "iopub.execute_input": "2022-07-20T08:59:07.942038Z",
     "iopub.status.busy": "2022-07-20T08:59:07.941369Z",
     "iopub.status.idle": "2022-07-20T08:59:07.956282Z",
     "shell.execute_reply": "2022-07-20T08:59:07.956736Z",
     "shell.execute_reply.started": "2022-07-20T08:50:42.226413Z"
    },
    "papermill": {
     "duration": 0.051574,
     "end_time": "2022-07-20T08:59:07.956879",
     "exception": false,
     "start_time": "2022-07-20T08:59:07.905305",
     "status": "completed"
    },
    "tags": []
   },
   "outputs": [],
   "source": [
    "data=pd.read_csv(\"../input/fr-cerfr/dataset_to_be_annotated_-_dataset_to_be_annotated.csv\")"
   ]
  },
  {
   "cell_type": "code",
   "execution_count": 12,
   "id": "0ce37483",
   "metadata": {
    "execution": {
     "iopub.execute_input": "2022-07-20T08:59:08.024584Z",
     "iopub.status.busy": "2022-07-20T08:59:08.023758Z",
     "iopub.status.idle": "2022-07-20T08:59:08.038993Z",
     "shell.execute_reply": "2022-07-20T08:59:08.038393Z",
     "shell.execute_reply.started": "2022-07-20T08:51:56.202801Z"
    },
    "papermill": {
     "duration": 0.049898,
     "end_time": "2022-07-20T08:59:08.039122",
     "exception": false,
     "start_time": "2022-07-20T08:59:07.989224",
     "status": "completed"
    },
    "tags": []
   },
   "outputs": [],
   "source": [
    "train_set_df = pd.read_csv(\"../input/fr-cerfr/dataset_to_be_annotated_-_dataset_to_be_annotated.csv\")\n",
    "train_set_df.drop(\"Unnamed: 3\", axis=1, inplace=True)"
   ]
  },
  {
   "cell_type": "code",
   "execution_count": 13,
   "id": "38f0b8c7",
   "metadata": {
    "execution": {
     "iopub.execute_input": "2022-07-20T08:59:08.109441Z",
     "iopub.status.busy": "2022-07-20T08:59:08.108401Z",
     "iopub.status.idle": "2022-07-20T08:59:08.120434Z",
     "shell.execute_reply": "2022-07-20T08:59:08.119896Z",
     "shell.execute_reply.started": "2022-07-20T08:51:57.135158Z"
    },
    "papermill": {
     "duration": 0.050527,
     "end_time": "2022-07-20T08:59:08.120582",
     "exception": false,
     "start_time": "2022-07-20T08:59:08.070055",
     "status": "completed"
    },
    "tags": []
   },
   "outputs": [
    {
     "data": {
      "text/html": [
       "<div>\n",
       "<style scoped>\n",
       "    .dataframe tbody tr th:only-of-type {\n",
       "        vertical-align: middle;\n",
       "    }\n",
       "\n",
       "    .dataframe tbody tr th {\n",
       "        vertical-align: top;\n",
       "    }\n",
       "\n",
       "    .dataframe thead th {\n",
       "        text-align: right;\n",
       "    }\n",
       "</style>\n",
       "<table border=\"1\" class=\"dataframe\">\n",
       "  <thead>\n",
       "    <tr style=\"text-align: right;\">\n",
       "      <th></th>\n",
       "      <th>text</th>\n",
       "      <th>lens</th>\n",
       "      <th>cefr</th>\n",
       "    </tr>\n",
       "  </thead>\n",
       "  <tbody>\n",
       "    <tr>\n",
       "      <th>0</th>\n",
       "      <td>Ces années d’exil sont ses plus fécondes: c’es...</td>\n",
       "      <td>28</td>\n",
       "      <td>C1</td>\n",
       "    </tr>\n",
       "    <tr>\n",
       "      <th>1</th>\n",
       "      <td>En 1966, le champ a été élargi pour inclure le...</td>\n",
       "      <td>35</td>\n",
       "      <td>C1</td>\n",
       "    </tr>\n",
       "    <tr>\n",
       "      <th>2</th>\n",
       "      <td>Le 6 avril 1896, les premiers Jeux Olympiques ...</td>\n",
       "      <td>35</td>\n",
       "      <td>B2</td>\n",
       "    </tr>\n",
       "    <tr>\n",
       "      <th>3</th>\n",
       "      <td>Mais il y a une semaine, ma copine Sarah, qui ...</td>\n",
       "      <td>35</td>\n",
       "      <td>B1</td>\n",
       "    </tr>\n",
       "    <tr>\n",
       "      <th>4</th>\n",
       "      <td>C'est-à-dire quand il se fait le cassoulet [si...</td>\n",
       "      <td>26</td>\n",
       "      <td>NaN</td>\n",
       "    </tr>\n",
       "    <tr>\n",
       "      <th>...</th>\n",
       "      <td>...</td>\n",
       "      <td>...</td>\n",
       "      <td>...</td>\n",
       "    </tr>\n",
       "    <tr>\n",
       "      <th>295</th>\n",
       "      <td>C'est-à-dire qu'il n'y a pas un détail sur leq...</td>\n",
       "      <td>29</td>\n",
       "      <td>NaN</td>\n",
       "    </tr>\n",
       "    <tr>\n",
       "      <th>296</th>\n",
       "      <td>Et le meilleur restait à venir... Lorsque Cyri...</td>\n",
       "      <td>26</td>\n",
       "      <td>NaN</td>\n",
       "    </tr>\n",
       "    <tr>\n",
       "      <th>297</th>\n",
       "      <td>Le Canada se met aussi à l'heure irlandaise le...</td>\n",
       "      <td>27</td>\n",
       "      <td>NaN</td>\n",
       "    </tr>\n",
       "    <tr>\n",
       "      <th>298</th>\n",
       "      <td>Pour le visage, prenez les ciseaux et coupez, ...</td>\n",
       "      <td>37</td>\n",
       "      <td>NaN</td>\n",
       "    </tr>\n",
       "    <tr>\n",
       "      <th>299</th>\n",
       "      <td>En Espagne, la situation est critique avec des...</td>\n",
       "      <td>27</td>\n",
       "      <td>NaN</td>\n",
       "    </tr>\n",
       "  </tbody>\n",
       "</table>\n",
       "<p>300 rows × 3 columns</p>\n",
       "</div>"
      ],
      "text/plain": [
       "                                                  text  lens cefr\n",
       "0    Ces années d’exil sont ses plus fécondes: c’es...    28   C1\n",
       "1    En 1966, le champ a été élargi pour inclure le...    35   C1\n",
       "2    Le 6 avril 1896, les premiers Jeux Olympiques ...    35   B2\n",
       "3    Mais il y a une semaine, ma copine Sarah, qui ...    35   B1\n",
       "4    C'est-à-dire quand il se fait le cassoulet [si...    26  NaN\n",
       "..                                                 ...   ...  ...\n",
       "295  C'est-à-dire qu'il n'y a pas un détail sur leq...    29  NaN\n",
       "296  Et le meilleur restait à venir... Lorsque Cyri...    26  NaN\n",
       "297  Le Canada se met aussi à l'heure irlandaise le...    27  NaN\n",
       "298  Pour le visage, prenez les ciseaux et coupez, ...    37  NaN\n",
       "299  En Espagne, la situation est critique avec des...    27  NaN\n",
       "\n",
       "[300 rows x 3 columns]"
      ]
     },
     "execution_count": 13,
     "metadata": {},
     "output_type": "execute_result"
    }
   ],
   "source": [
    "train_set_df"
   ]
  },
  {
   "cell_type": "code",
   "execution_count": 14,
   "id": "d0f813b6",
   "metadata": {
    "execution": {
     "iopub.execute_input": "2022-07-20T08:59:08.193452Z",
     "iopub.status.busy": "2022-07-20T08:59:08.191804Z",
     "iopub.status.idle": "2022-07-20T08:59:08.194032Z",
     "shell.execute_reply": "2022-07-20T08:59:08.194467Z",
     "shell.execute_reply.started": "2022-07-20T08:53:58.977742Z"
    },
    "papermill": {
     "duration": 0.042108,
     "end_time": "2022-07-20T08:59:08.194619",
     "exception": false,
     "start_time": "2022-07-20T08:59:08.152511",
     "status": "completed"
    },
    "tags": []
   },
   "outputs": [],
   "source": [
    "train_set_df = train_set_df[pd.notnull(train_set_df['cefr'])]\n",
    "train_set_df = train_set_df.reset_index(drop=True)"
   ]
  },
  {
   "cell_type": "code",
   "execution_count": 15,
   "id": "3f94bb81",
   "metadata": {
    "execution": {
     "iopub.execute_input": "2022-07-20T08:59:08.272404Z",
     "iopub.status.busy": "2022-07-20T08:59:08.271163Z",
     "iopub.status.idle": "2022-07-20T08:59:08.274945Z",
     "shell.execute_reply": "2022-07-20T08:59:08.274517Z",
     "shell.execute_reply.started": "2022-07-20T08:54:03.152324Z"
    },
    "papermill": {
     "duration": 0.047852,
     "end_time": "2022-07-20T08:59:08.275060",
     "exception": false,
     "start_time": "2022-07-20T08:59:08.227208",
     "status": "completed"
    },
    "tags": []
   },
   "outputs": [
    {
     "data": {
      "text/html": [
       "<div>\n",
       "<style scoped>\n",
       "    .dataframe tbody tr th:only-of-type {\n",
       "        vertical-align: middle;\n",
       "    }\n",
       "\n",
       "    .dataframe tbody tr th {\n",
       "        vertical-align: top;\n",
       "    }\n",
       "\n",
       "    .dataframe thead th {\n",
       "        text-align: right;\n",
       "    }\n",
       "</style>\n",
       "<table border=\"1\" class=\"dataframe\">\n",
       "  <thead>\n",
       "    <tr style=\"text-align: right;\">\n",
       "      <th></th>\n",
       "      <th>text</th>\n",
       "      <th>lens</th>\n",
       "      <th>cefr</th>\n",
       "    </tr>\n",
       "  </thead>\n",
       "  <tbody>\n",
       "    <tr>\n",
       "      <th>0</th>\n",
       "      <td>Ces années d’exil sont ses plus fécondes: c’es...</td>\n",
       "      <td>28</td>\n",
       "      <td>C1</td>\n",
       "    </tr>\n",
       "    <tr>\n",
       "      <th>1</th>\n",
       "      <td>En 1966, le champ a été élargi pour inclure le...</td>\n",
       "      <td>35</td>\n",
       "      <td>C1</td>\n",
       "    </tr>\n",
       "    <tr>\n",
       "      <th>2</th>\n",
       "      <td>Le 6 avril 1896, les premiers Jeux Olympiques ...</td>\n",
       "      <td>35</td>\n",
       "      <td>B2</td>\n",
       "    </tr>\n",
       "    <tr>\n",
       "      <th>3</th>\n",
       "      <td>Mais il y a une semaine, ma copine Sarah, qui ...</td>\n",
       "      <td>35</td>\n",
       "      <td>B1</td>\n",
       "    </tr>\n",
       "    <tr>\n",
       "      <th>4</th>\n",
       "      <td>Tablier, blouson en cuir ou jean, finalement, ...</td>\n",
       "      <td>26</td>\n",
       "      <td>B1</td>\n",
       "    </tr>\n",
       "    <tr>\n",
       "      <th>...</th>\n",
       "      <td>...</td>\n",
       "      <td>...</td>\n",
       "      <td>...</td>\n",
       "    </tr>\n",
       "    <tr>\n",
       "      <th>193</th>\n",
       "      <td>Je suis finalement tombée sur un site qui prop...</td>\n",
       "      <td>35</td>\n",
       "      <td>B1</td>\n",
       "    </tr>\n",
       "    <tr>\n",
       "      <th>194</th>\n",
       "      <td>Au-dessus de ton lit, un bordel de photos, de ...</td>\n",
       "      <td>26</td>\n",
       "      <td>B1</td>\n",
       "    </tr>\n",
       "    <tr>\n",
       "      <th>195</th>\n",
       "      <td>Voici donc, pour les inconditionnels du jeu Ni...</td>\n",
       "      <td>34</td>\n",
       "      <td>B2</td>\n",
       "    </tr>\n",
       "    <tr>\n",
       "      <th>196</th>\n",
       "      <td>Mais quand un climat se réchauffe, parce qu'on...</td>\n",
       "      <td>34</td>\n",
       "      <td>B2</td>\n",
       "    </tr>\n",
       "    <tr>\n",
       "      <th>197</th>\n",
       "      <td>Le Carnaval de Dunkerque est né au XVIIIe sièc...</td>\n",
       "      <td>26</td>\n",
       "      <td>B2</td>\n",
       "    </tr>\n",
       "  </tbody>\n",
       "</table>\n",
       "<p>198 rows × 3 columns</p>\n",
       "</div>"
      ],
      "text/plain": [
       "                                                  text  lens cefr\n",
       "0    Ces années d’exil sont ses plus fécondes: c’es...    28   C1\n",
       "1    En 1966, le champ a été élargi pour inclure le...    35   C1\n",
       "2    Le 6 avril 1896, les premiers Jeux Olympiques ...    35   B2\n",
       "3    Mais il y a une semaine, ma copine Sarah, qui ...    35   B1\n",
       "4    Tablier, blouson en cuir ou jean, finalement, ...    26   B1\n",
       "..                                                 ...   ...  ...\n",
       "193  Je suis finalement tombée sur un site qui prop...    35   B1\n",
       "194  Au-dessus de ton lit, un bordel de photos, de ...    26   B1\n",
       "195  Voici donc, pour les inconditionnels du jeu Ni...    34   B2\n",
       "196  Mais quand un climat se réchauffe, parce qu'on...    34   B2\n",
       "197  Le Carnaval de Dunkerque est né au XVIIIe sièc...    26   B2\n",
       "\n",
       "[198 rows x 3 columns]"
      ]
     },
     "execution_count": 15,
     "metadata": {},
     "output_type": "execute_result"
    }
   ],
   "source": [
    "train_set_df"
   ]
  },
  {
   "cell_type": "code",
   "execution_count": 16,
   "id": "ec20e995",
   "metadata": {
    "execution": {
     "iopub.execute_input": "2022-07-20T08:59:08.345093Z",
     "iopub.status.busy": "2022-07-20T08:59:08.344487Z",
     "iopub.status.idle": "2022-07-20T08:59:08.347024Z",
     "shell.execute_reply": "2022-07-20T08:59:08.347445Z",
     "shell.execute_reply.started": "2022-07-20T08:54:27.185826Z"
    },
    "papermill": {
     "duration": 0.040728,
     "end_time": "2022-07-20T08:59:08.347609",
     "exception": false,
     "start_time": "2022-07-20T08:59:08.306881",
     "status": "completed"
    },
    "tags": []
   },
   "outputs": [],
   "source": [
    "train_set_df.columns=[\"text\",\"lens\",\"label\"]\n",
    "train_set_df = train_set_df[train_set_df.label != \"-\"]\n",
    "train_set_df = train_set_df[[\"text\", \"label\"]]"
   ]
  },
  {
   "cell_type": "code",
   "execution_count": 17,
   "id": "2396ff64",
   "metadata": {
    "execution": {
     "iopub.execute_input": "2022-07-20T08:59:08.431682Z",
     "iopub.status.busy": "2022-07-20T08:59:08.430997Z",
     "iopub.status.idle": "2022-07-20T08:59:08.433910Z",
     "shell.execute_reply": "2022-07-20T08:59:08.433475Z",
     "shell.execute_reply.started": "2022-07-20T08:54:39.958464Z"
    },
    "papermill": {
     "duration": 0.05384,
     "end_time": "2022-07-20T08:59:08.434042",
     "exception": false,
     "start_time": "2022-07-20T08:59:08.380202",
     "status": "completed"
    },
    "tags": []
   },
   "outputs": [],
   "source": [
    "from sklearn import preprocessing\n",
    "le = preprocessing.LabelEncoder()\n",
    "\n",
    "\n",
    "\n",
    "\n",
    "train_set_df.text = train_set_df.text.apply(lambda x: x.replace(\"\\r\", \"\").replace(\"\\n\", \" \"))\n",
    "\n",
    "# extra_df = pd.read_csv(\"../input/frenchcefr/french_mike_june.csv\")\n",
    "# extra_df.columns = [\"text\", \"label\", \"label_\"]\n",
    "# extra_df = extra_df[[\"text\", \"label\"]]\n",
    "# extra_df.text = extra_df.text.astype(str)\n",
    "#train_set_df = pd.concat([train_set_df, extra_df]).reset_index(drop=True)\n",
    "\n",
    "train_set_df, valid_set_df = split_valid(train_set_df)"
   ]
  },
  {
   "cell_type": "code",
   "execution_count": 18,
   "id": "14430ad3",
   "metadata": {
    "execution": {
     "iopub.execute_input": "2022-07-20T08:59:08.506720Z",
     "iopub.status.busy": "2022-07-20T08:59:08.506015Z",
     "iopub.status.idle": "2022-07-20T08:59:08.509440Z",
     "shell.execute_reply": "2022-07-20T08:59:08.508963Z",
     "shell.execute_reply.started": "2022-07-20T08:56:04.955365Z"
    },
    "papermill": {
     "duration": 0.042927,
     "end_time": "2022-07-20T08:59:08.509555",
     "exception": false,
     "start_time": "2022-07-20T08:59:08.466628",
     "status": "completed"
    },
    "tags": []
   },
   "outputs": [],
   "source": [
    "for i in range(train_set_df.shape[0]):\n",
    "    if train_set_df.loc[i,\"label\"]==\"c1\":\n",
    "        train_set_df.loc[i,\"label\"]=\"C1\""
   ]
  },
  {
   "cell_type": "code",
   "execution_count": 19,
   "id": "a3d8d2a6",
   "metadata": {
    "execution": {
     "iopub.execute_input": "2022-07-20T08:59:08.578612Z",
     "iopub.status.busy": "2022-07-20T08:59:08.577942Z",
     "iopub.status.idle": "2022-07-20T08:59:08.580561Z",
     "shell.execute_reply": "2022-07-20T08:59:08.581002Z",
     "shell.execute_reply.started": "2022-07-20T08:56:43.672584Z"
    },
    "papermill": {
     "duration": 0.039947,
     "end_time": "2022-07-20T08:59:08.581157",
     "exception": false,
     "start_time": "2022-07-20T08:59:08.541210",
     "status": "completed"
    },
    "tags": []
   },
   "outputs": [
    {
     "data": {
      "text/plain": [
       "array(['C1', 'B2', 'B1', 'A2', 'C2'], dtype=object)"
      ]
     },
     "execution_count": 19,
     "metadata": {},
     "output_type": "execute_result"
    }
   ],
   "source": [
    "train_set_df.label.unique()"
   ]
  },
  {
   "cell_type": "code",
   "execution_count": 20,
   "id": "21339f0f",
   "metadata": {
    "execution": {
     "iopub.execute_input": "2022-07-20T08:59:08.652399Z",
     "iopub.status.busy": "2022-07-20T08:59:08.648786Z",
     "iopub.status.idle": "2022-07-20T08:59:08.655019Z",
     "shell.execute_reply": "2022-07-20T08:59:08.655427Z",
     "shell.execute_reply.started": "2022-07-20T08:56:22.896023Z"
    },
    "papermill": {
     "duration": 0.042234,
     "end_time": "2022-07-20T08:59:08.655567",
     "exception": false,
     "start_time": "2022-07-20T08:59:08.613333",
     "status": "completed"
    },
    "tags": []
   },
   "outputs": [
    {
     "data": {
      "text/plain": [
       "B2    83\n",
       "B1    45\n",
       "C1    33\n",
       "C2    11\n",
       "A2     4\n",
       "Name: label, dtype: int64"
      ]
     },
     "execution_count": 20,
     "metadata": {},
     "output_type": "execute_result"
    }
   ],
   "source": [
    "train_set_df.label.value_counts()"
   ]
  },
  {
   "cell_type": "code",
   "execution_count": 21,
   "id": "c46b1436",
   "metadata": {
    "execution": {
     "iopub.execute_input": "2022-07-20T08:59:08.727158Z",
     "iopub.status.busy": "2022-07-20T08:59:08.726321Z",
     "iopub.status.idle": "2022-07-20T08:59:08.728181Z",
     "shell.execute_reply": "2022-07-20T08:59:08.728610Z",
     "shell.execute_reply.started": "2022-07-20T08:56:47.414937Z"
    },
    "papermill": {
     "duration": 0.040717,
     "end_time": "2022-07-20T08:59:08.728737",
     "exception": false,
     "start_time": "2022-07-20T08:59:08.688020",
     "status": "completed"
    },
    "tags": []
   },
   "outputs": [],
   "source": [
    "train_set_df.label = le.fit_transform(train_set_df.label)\n",
    "valid_set_df.label = le.transform(valid_set_df.label)"
   ]
  },
  {
   "cell_type": "code",
   "execution_count": 22,
   "id": "4d98a87a",
   "metadata": {
    "execution": {
     "iopub.execute_input": "2022-07-20T08:59:08.800639Z",
     "iopub.status.busy": "2022-07-20T08:59:08.799960Z",
     "iopub.status.idle": "2022-07-20T08:59:08.802648Z",
     "shell.execute_reply": "2022-07-20T08:59:08.803162Z",
     "shell.execute_reply.started": "2022-07-20T08:56:47.551860Z"
    },
    "papermill": {
     "duration": 0.042318,
     "end_time": "2022-07-20T08:59:08.803308",
     "exception": false,
     "start_time": "2022-07-20T08:59:08.760990",
     "status": "completed"
    },
    "tags": []
   },
   "outputs": [
    {
     "data": {
      "text/plain": [
       "array([3, 2, 1, 0, 4])"
      ]
     },
     "execution_count": 22,
     "metadata": {},
     "output_type": "execute_result"
    }
   ],
   "source": [
    "train_set_df.label.unique()"
   ]
  },
  {
   "cell_type": "code",
   "execution_count": 23,
   "id": "af95b63a",
   "metadata": {
    "execution": {
     "iopub.execute_input": "2022-07-20T08:59:08.876761Z",
     "iopub.status.busy": "2022-07-20T08:59:08.876167Z",
     "iopub.status.idle": "2022-07-20T08:59:08.878821Z",
     "shell.execute_reply": "2022-07-20T08:59:08.879254Z",
     "shell.execute_reply.started": "2022-07-20T08:56:50.376779Z"
    },
    "papermill": {
     "duration": 0.041052,
     "end_time": "2022-07-20T08:59:08.879392",
     "exception": false,
     "start_time": "2022-07-20T08:59:08.838340",
     "status": "completed"
    },
    "tags": []
   },
   "outputs": [
    {
     "data": {
      "text/plain": [
       "4"
      ]
     },
     "execution_count": 23,
     "metadata": {},
     "output_type": "execute_result"
    }
   ],
   "source": [
    "valid_set_df.label.nunique()"
   ]
  },
  {
   "cell_type": "code",
   "execution_count": 24,
   "id": "b873a8bf",
   "metadata": {
    "execution": {
     "iopub.execute_input": "2022-07-20T08:59:08.951979Z",
     "iopub.status.busy": "2022-07-20T08:59:08.951065Z",
     "iopub.status.idle": "2022-07-20T08:59:08.953583Z",
     "shell.execute_reply": "2022-07-20T08:59:08.953023Z",
     "shell.execute_reply.started": "2022-07-20T08:50:42.327697Z"
    },
    "papermill": {
     "duration": 0.040323,
     "end_time": "2022-07-20T08:59:08.953701",
     "exception": false,
     "start_time": "2022-07-20T08:59:08.913378",
     "status": "completed"
    },
    "tags": []
   },
   "outputs": [],
   "source": [
    "# train_set_df = train_set_df.sample(frac=1)"
   ]
  },
  {
   "cell_type": "code",
   "execution_count": 25,
   "id": "d18ad771",
   "metadata": {
    "execution": {
     "iopub.execute_input": "2022-07-20T08:59:09.028009Z",
     "iopub.status.busy": "2022-07-20T08:59:09.027084Z",
     "iopub.status.idle": "2022-07-20T08:59:09.028933Z",
     "shell.execute_reply": "2022-07-20T08:59:09.029435Z",
     "shell.execute_reply.started": "2022-07-20T08:56:54.768710Z"
    },
    "papermill": {
     "duration": 0.041756,
     "end_time": "2022-07-20T08:59:09.029585",
     "exception": false,
     "start_time": "2022-07-20T08:59:08.987829",
     "status": "completed"
    },
    "tags": []
   },
   "outputs": [],
   "source": [
    "from tqdm import tqdm \n",
    "\n",
    "def predict(model, text):\n",
    "    \n",
    "    preds = []\n",
    "    \n",
    "    for i in tqdm(range(len(text))):\n",
    "        tokenized = tokenizer(text[i:i+1], return_tensors=\"pt\", truncation=True, max_length=512).to(\"cuda\")\n",
    "        pred = model(**tokenized)\n",
    "        preds.append(pred.logits.argmax(-1).item())\n",
    "\n",
    "    return preds"
   ]
  },
  {
   "cell_type": "code",
   "execution_count": null,
   "id": "af50fd78",
   "metadata": {
    "papermill": {
     "duration": 0.03413,
     "end_time": "2022-07-20T08:59:09.098123",
     "exception": false,
     "start_time": "2022-07-20T08:59:09.063993",
     "status": "completed"
    },
    "tags": []
   },
   "outputs": [],
   "source": []
  },
  {
   "cell_type": "code",
   "execution_count": 26,
   "id": "749b9942",
   "metadata": {
    "execution": {
     "iopub.execute_input": "2022-07-20T08:59:09.171941Z",
     "iopub.status.busy": "2022-07-20T08:59:09.171109Z",
     "iopub.status.idle": "2022-07-20T09:01:38.795503Z",
     "shell.execute_reply": "2022-07-20T09:01:38.794011Z"
    },
    "papermill": {
     "duration": 149.664087,
     "end_time": "2022-07-20T09:01:38.795811",
     "exception": false,
     "start_time": "2022-07-20T08:59:09.131724",
     "status": "completed"
    },
    "tags": []
   },
   "outputs": [
    {
     "name": "stdout",
     "output_type": "stream",
     "text": [
      "{}\n",
      "{}\n"
     ]
    },
    {
     "data": {
      "application/vnd.jupyter.widget-view+json": {
       "model_id": "6c868ed9d7f84b5a95a211bc662ca3ac",
       "version_major": 2,
       "version_minor": 0
      },
      "text/plain": [
       "Downloading:   0%|          | 0.00/445M [00:00<?, ?B/s]"
      ]
     },
     "metadata": {},
     "output_type": "display_data"
    },
    {
     "name": "stderr",
     "output_type": "stream",
     "text": [
      "Some weights of the model checkpoint at dbmdz/bert-base-french-europeana-cased were not used when initializing BertForSequenceClassification: ['cls.predictions.bias', 'cls.predictions.transform.dense.weight', 'cls.predictions.transform.dense.bias', 'cls.predictions.transform.LayerNorm.weight', 'cls.predictions.transform.LayerNorm.bias', 'cls.predictions.decoder.weight', 'cls.predictions.decoder.bias', 'cls.seq_relationship.weight', 'cls.seq_relationship.bias']\n",
      "- This IS expected if you are initializing BertForSequenceClassification from the checkpoint of a model trained on another task or with another architecture (e.g. initializing a BertForSequenceClassification model from a BertForPreTraining model).\n",
      "- This IS NOT expected if you are initializing BertForSequenceClassification from the checkpoint of a model that you expect to be exactly identical (initializing a BertForSequenceClassification model from a BertForSequenceClassification model).\n",
      "Some weights of BertForSequenceClassification were not initialized from the model checkpoint at dbmdz/bert-base-french-europeana-cased and are newly initialized: ['classifier.weight', 'classifier.bias']\n",
      "You should probably TRAIN this model on a down-stream task to be able to use it for predictions and inference.\n",
      "Using the `WAND_DISABLED` environment variable is deprecated and will be removed in v5. Use the --report_to flag to control the integrations used for logging result (for instance --report_to none).\n"
     ]
    },
    {
     "data": {
      "text/html": [
       "\n",
       "    <div>\n",
       "        <style>\n",
       "            /* Turns off some styling */\n",
       "            progress {\n",
       "                /* gets rid of default border in Firefox and Opera. */\n",
       "                border: none;\n",
       "                /* Needs to be in here for Safari polyfill so background images work as expected. */\n",
       "                background-size: auto;\n",
       "            }\n",
       "        </style>\n",
       "      \n",
       "      <progress value='154' max='154' style='width:300px; height:20px; vertical-align: middle;'></progress>\n",
       "      [154/154 01:53, Epoch 7/7]\n",
       "    </div>\n",
       "    <table border=\"1\" class=\"dataframe\">\n",
       "  <thead>\n",
       "    <tr style=\"text-align: left;\">\n",
       "      <th>Epoch</th>\n",
       "      <th>Training Loss</th>\n",
       "      <th>Validation Loss</th>\n",
       "      <th>Accuracy</th>\n",
       "      <th>Runtime</th>\n",
       "      <th>Samples Per Second</th>\n",
       "    </tr>\n",
       "  </thead>\n",
       "  <tbody>\n",
       "    <tr>\n",
       "      <td>1</td>\n",
       "      <td>No log</td>\n",
       "      <td>1.595974</td>\n",
       "      <td>0.315789</td>\n",
       "      <td>0.382900</td>\n",
       "      <td>49.623000</td>\n",
       "    </tr>\n",
       "    <tr>\n",
       "      <td>2</td>\n",
       "      <td>No log</td>\n",
       "      <td>1.898144</td>\n",
       "      <td>0.210526</td>\n",
       "      <td>0.396400</td>\n",
       "      <td>47.937000</td>\n",
       "    </tr>\n",
       "    <tr>\n",
       "      <td>3</td>\n",
       "      <td>1.509600</td>\n",
       "      <td>1.977077</td>\n",
       "      <td>0.210526</td>\n",
       "      <td>0.381700</td>\n",
       "      <td>49.777000</td>\n",
       "    </tr>\n",
       "    <tr>\n",
       "      <td>4</td>\n",
       "      <td>1.509600</td>\n",
       "      <td>1.688335</td>\n",
       "      <td>0.368421</td>\n",
       "      <td>0.393800</td>\n",
       "      <td>48.242000</td>\n",
       "    </tr>\n",
       "    <tr>\n",
       "      <td>5</td>\n",
       "      <td>1.034000</td>\n",
       "      <td>1.898020</td>\n",
       "      <td>0.315789</td>\n",
       "      <td>0.382200</td>\n",
       "      <td>49.706000</td>\n",
       "    </tr>\n",
       "    <tr>\n",
       "      <td>6</td>\n",
       "      <td>1.034000</td>\n",
       "      <td>1.767266</td>\n",
       "      <td>0.315789</td>\n",
       "      <td>0.381400</td>\n",
       "      <td>49.813000</td>\n",
       "    </tr>\n",
       "    <tr>\n",
       "      <td>7</td>\n",
       "      <td>0.818000</td>\n",
       "      <td>1.815601</td>\n",
       "      <td>0.315789</td>\n",
       "      <td>0.382200</td>\n",
       "      <td>49.708000</td>\n",
       "    </tr>\n",
       "  </tbody>\n",
       "</table><p>"
      ],
      "text/plain": [
       "<IPython.core.display.HTML object>"
      ]
     },
     "metadata": {},
     "output_type": "display_data"
    }
   ],
   "source": [
    "train_set = CEFRDataset(train_set_df[\"text\"], train_set_df[\"label\"])\n",
    "valid_set = CEFRDataset(valid_set_df[\"text\"], valid_set_df[\"label\"])\n",
    "\n",
    "\n",
    "trainer_second = train(train_set, valid_set, epochs=epochs, warmup_size=0.2, lr=lr, batch_size=batch_size)\n",
    "model = trainer_second.model"
   ]
  },
  {
   "cell_type": "code",
   "execution_count": 27,
   "id": "5b7b943c",
   "metadata": {
    "execution": {
     "iopub.execute_input": "2022-07-20T09:01:38.923720Z",
     "iopub.status.busy": "2022-07-20T09:01:38.922678Z",
     "iopub.status.idle": "2022-07-20T09:01:39.254272Z",
     "shell.execute_reply": "2022-07-20T09:01:39.253066Z",
     "shell.execute_reply.started": "2022-07-20T08:51:04.832470Z"
    },
    "papermill": {
     "duration": 0.399143,
     "end_time": "2022-07-20T09:01:39.254448",
     "exception": false,
     "start_time": "2022-07-20T09:01:38.855305",
     "status": "completed"
    },
    "tags": []
   },
   "outputs": [
    {
     "name": "stderr",
     "output_type": "stream",
     "text": [
      "100%|██████████| 19/19 [00:00<00:00, 60.95it/s]\n"
     ]
    }
   ],
   "source": [
    "valid_set_df[\"preds\"] = train_set.encoder.inverse_transform(predict(model, valid_set_df.text.tolist()))\n",
    "valid_set_df.columns = [\"text\", \"cefr\", \"preds\",] "
   ]
  },
  {
   "cell_type": "code",
   "execution_count": 28,
   "id": "faa2981f",
   "metadata": {
    "execution": {
     "iopub.execute_input": "2022-07-20T09:01:39.335081Z",
     "iopub.status.busy": "2022-07-20T09:01:39.334522Z",
     "iopub.status.idle": "2022-07-20T09:01:40.692033Z",
     "shell.execute_reply": "2022-07-20T09:01:40.692649Z",
     "shell.execute_reply.started": "2022-07-20T08:51:04.834442Z"
    },
    "papermill": {
     "duration": 1.40006,
     "end_time": "2022-07-20T09:01:40.692842",
     "exception": false,
     "start_time": "2022-07-20T09:01:39.292782",
     "status": "completed"
    },
    "tags": []
   },
   "outputs": [
    {
     "name": "stderr",
     "output_type": "stream",
     "text": [
      "100%|██████████| 111/111 [00:01<00:00, 82.72it/s]\n"
     ]
    }
   ],
   "source": [
    "lingua = pd.read_csv(\"../input/lingua/fr_lingua.csv\")\n",
    "lingua[\"preds\"] = train_set.encoder.inverse_transform(predict(model, lingua.text.tolist()))"
   ]
  },
  {
   "cell_type": "code",
   "execution_count": 29,
   "id": "8d81295d",
   "metadata": {
    "execution": {
     "iopub.execute_input": "2022-07-20T09:01:40.782047Z",
     "iopub.status.busy": "2022-07-20T09:01:40.781390Z",
     "iopub.status.idle": "2022-07-20T09:01:40.784034Z",
     "shell.execute_reply": "2022-07-20T09:01:40.784532Z",
     "shell.execute_reply.started": "2022-07-20T08:51:04.836644Z"
    },
    "papermill": {
     "duration": 0.04986,
     "end_time": "2022-07-20T09:01:40.784672",
     "exception": false,
     "start_time": "2022-07-20T09:01:40.734812",
     "status": "completed"
    },
    "tags": []
   },
   "outputs": [
    {
     "data": {
      "text/plain": [
       "(111, 3)"
      ]
     },
     "execution_count": 29,
     "metadata": {},
     "output_type": "execute_result"
    }
   ],
   "source": [
    "lingua.shape"
   ]
  },
  {
   "cell_type": "code",
   "execution_count": 30,
   "id": "524df7a3",
   "metadata": {
    "execution": {
     "iopub.execute_input": "2022-07-20T09:01:40.876536Z",
     "iopub.status.busy": "2022-07-20T09:01:40.875113Z",
     "iopub.status.idle": "2022-07-20T09:01:40.878786Z",
     "shell.execute_reply": "2022-07-20T09:01:40.878341Z",
     "shell.execute_reply.started": "2022-07-20T08:51:04.838356Z"
    },
    "papermill": {
     "duration": 0.053239,
     "end_time": "2022-07-20T09:01:40.878899",
     "exception": false,
     "start_time": "2022-07-20T09:01:40.825660",
     "status": "completed"
    },
    "tags": []
   },
   "outputs": [
    {
     "data": {
      "text/plain": [
       "B1    60\n",
       "A2    26\n",
       "A1    13\n",
       "B2    12\n",
       "Name: cefr, dtype: int64"
      ]
     },
     "execution_count": 30,
     "metadata": {},
     "output_type": "execute_result"
    }
   ],
   "source": [
    "lingua.cefr.value_counts()"
   ]
  },
  {
   "cell_type": "code",
   "execution_count": 31,
   "id": "d6533ec4",
   "metadata": {
    "execution": {
     "iopub.execute_input": "2022-07-20T09:01:40.969313Z",
     "iopub.status.busy": "2022-07-20T09:01:40.968692Z",
     "iopub.status.idle": "2022-07-20T09:01:40.972278Z",
     "shell.execute_reply": "2022-07-20T09:01:40.972734Z",
     "shell.execute_reply.started": "2022-07-20T08:51:04.840465Z"
    },
    "papermill": {
     "duration": 0.052054,
     "end_time": "2022-07-20T09:01:40.972903",
     "exception": false,
     "start_time": "2022-07-20T09:01:40.920849",
     "status": "completed"
    },
    "tags": []
   },
   "outputs": [
    {
     "data": {
      "text/plain": [
       "array([1, 2])"
      ]
     },
     "execution_count": 31,
     "metadata": {},
     "output_type": "execute_result"
    }
   ],
   "source": [
    "lingua.preds.unique()"
   ]
  },
  {
   "cell_type": "code",
   "execution_count": 32,
   "id": "7f8d1139",
   "metadata": {
    "execution": {
     "iopub.execute_input": "2022-07-20T09:01:41.061894Z",
     "iopub.status.busy": "2022-07-20T09:01:41.061342Z",
     "iopub.status.idle": "2022-07-20T09:01:41.065327Z",
     "shell.execute_reply": "2022-07-20T09:01:41.064763Z",
     "shell.execute_reply.started": "2022-07-20T08:51:04.842195Z"
    },
    "papermill": {
     "duration": 0.051234,
     "end_time": "2022-07-20T09:01:41.065452",
     "exception": false,
     "start_time": "2022-07-20T09:01:41.014218",
     "status": "completed"
    },
    "tags": []
   },
   "outputs": [],
   "source": [
    "def compute_average_distance(df, col_name=\"cefr\") :\n",
    "    \n",
    "    labels = [\"A1\", \"A2\", \"B1\", \"B2\", \"C1\", \"C2\"]\n",
    "    return (df[col_name].apply(lambda x: labels.index(x)) - df.preds.apply(lambda x: labels.index(x))).abs().mean()\n"
   ]
  },
  {
   "cell_type": "code",
   "execution_count": 33,
   "id": "f31545ee",
   "metadata": {
    "execution": {
     "iopub.execute_input": "2022-07-20T09:01:41.155205Z",
     "iopub.status.busy": "2022-07-20T09:01:41.154569Z",
     "iopub.status.idle": "2022-07-20T09:01:41.158131Z",
     "shell.execute_reply": "2022-07-20T09:01:41.158557Z",
     "shell.execute_reply.started": "2022-07-20T08:51:04.845318Z"
    },
    "papermill": {
     "duration": 0.05141,
     "end_time": "2022-07-20T09:01:41.158693",
     "exception": false,
     "start_time": "2022-07-20T09:01:41.107283",
     "status": "completed"
    },
    "tags": []
   },
   "outputs": [
    {
     "data": {
      "text/plain": [
       "2    79\n",
       "1    32\n",
       "Name: preds, dtype: int64"
      ]
     },
     "execution_count": 33,
     "metadata": {},
     "output_type": "execute_result"
    }
   ],
   "source": [
    "lingua.preds.value_counts()"
   ]
  },
  {
   "cell_type": "code",
   "execution_count": 34,
   "id": "5f8df7f1",
   "metadata": {
    "execution": {
     "iopub.execute_input": "2022-07-20T09:01:41.248022Z",
     "iopub.status.busy": "2022-07-20T09:01:41.247266Z",
     "iopub.status.idle": "2022-07-20T09:01:41.250052Z",
     "shell.execute_reply": "2022-07-20T09:01:41.250511Z",
     "shell.execute_reply.started": "2022-07-20T08:51:04.847240Z"
    },
    "papermill": {
     "duration": 0.049878,
     "end_time": "2022-07-20T09:01:41.250655",
     "exception": false,
     "start_time": "2022-07-20T09:01:41.200777",
     "status": "completed"
    },
    "tags": []
   },
   "outputs": [],
   "source": [
    "lingua[\"preds\"] = le.inverse_transform(lingua.preds)"
   ]
  },
  {
   "cell_type": "code",
   "execution_count": 35,
   "id": "015426b6",
   "metadata": {
    "execution": {
     "iopub.execute_input": "2022-07-20T09:01:41.344869Z",
     "iopub.status.busy": "2022-07-20T09:01:41.343970Z",
     "iopub.status.idle": "2022-07-20T09:01:41.348387Z",
     "shell.execute_reply": "2022-07-20T09:01:41.347879Z",
     "shell.execute_reply.started": "2022-07-20T08:51:04.849142Z"
    },
    "papermill": {
     "duration": 0.054745,
     "end_time": "2022-07-20T09:01:41.348514",
     "exception": false,
     "start_time": "2022-07-20T09:01:41.293769",
     "status": "completed"
    },
    "tags": []
   },
   "outputs": [
    {
     "data": {
      "text/plain": [
       "B2    79\n",
       "B1    32\n",
       "Name: preds, dtype: int64"
      ]
     },
     "execution_count": 35,
     "metadata": {},
     "output_type": "execute_result"
    }
   ],
   "source": [
    "lingua.preds.value_counts()"
   ]
  },
  {
   "cell_type": "code",
   "execution_count": 36,
   "id": "b66cb47b",
   "metadata": {
    "execution": {
     "iopub.execute_input": "2022-07-20T09:01:41.440411Z",
     "iopub.status.busy": "2022-07-20T09:01:41.439721Z",
     "iopub.status.idle": "2022-07-20T09:01:41.445403Z",
     "shell.execute_reply": "2022-07-20T09:01:41.444743Z",
     "shell.execute_reply.started": "2022-07-20T08:51:04.851201Z"
    },
    "papermill": {
     "duration": 0.054751,
     "end_time": "2022-07-20T09:01:41.445564",
     "exception": false,
     "start_time": "2022-07-20T09:01:41.390813",
     "status": "completed"
    },
    "tags": []
   },
   "outputs": [
    {
     "name": "stdout",
     "output_type": "stream",
     "text": [
      "Distance: \n",
      "1.09009009009009\n",
      "Lingua accuracy: 0.26126126126126126\n"
     ]
    }
   ],
   "source": [
    "print(\"Distance: \")\n",
    "print(compute_average_distance(lingua, \"cefr\"))\n",
    "\n",
    "print(f\"Lingua accuracy: {(lingua['preds'] == lingua['cefr']).mean()}\")"
   ]
  },
  {
   "cell_type": "code",
   "execution_count": 37,
   "id": "db65f461",
   "metadata": {
    "execution": {
     "iopub.execute_input": "2022-07-20T09:01:41.540841Z",
     "iopub.status.busy": "2022-07-20T09:01:41.539931Z",
     "iopub.status.idle": "2022-07-20T09:01:41.542436Z",
     "shell.execute_reply": "2022-07-20T09:01:41.541860Z",
     "shell.execute_reply.started": "2022-07-20T08:51:04.853297Z"
    },
    "papermill": {
     "duration": 0.052041,
     "end_time": "2022-07-20T09:01:41.542554",
     "exception": false,
     "start_time": "2022-07-20T09:01:41.490513",
     "status": "completed"
    },
    "tags": []
   },
   "outputs": [],
   "source": [
    "# for i in range(lingua.shape[0]):\n",
    "#     if (lingua.loc[i,\"preds\"]==\"C1\") | (lingua.loc[i,\"preds\"]==\"C2\") :\n",
    "#         lingua.loc[i,\"Predss\"]=\"B2\"\n",
    "#     else :\n",
    "#         lingua.loc[i,\"Predss\"]= lingua.loc[i,\"preds\"]\n",
    "# lingua[\"Predss\"].value_counts()"
   ]
  },
  {
   "cell_type": "code",
   "execution_count": 38,
   "id": "0888f2d6",
   "metadata": {
    "execution": {
     "iopub.execute_input": "2022-07-20T09:01:41.633535Z",
     "iopub.status.busy": "2022-07-20T09:01:41.632116Z",
     "iopub.status.idle": "2022-07-20T09:01:41.646122Z",
     "shell.execute_reply": "2022-07-20T09:01:41.645424Z",
     "shell.execute_reply.started": "2022-07-20T08:51:04.855477Z"
    },
    "papermill": {
     "duration": 0.060716,
     "end_time": "2022-07-20T09:01:41.646321",
     "exception": false,
     "start_time": "2022-07-20T09:01:41.585605",
     "status": "completed"
    },
    "tags": []
   },
   "outputs": [],
   "source": [
    "# print(\"Distance: \")\n",
    "# print(compute_average_distance(lingua, \"cefr\"))\n",
    "\n",
    "# print(f\"Lingua accuracy: {(lingua['Predss'] == lingua['cefr']).mean()}\")"
   ]
  },
  {
   "cell_type": "markdown",
   "id": "cd2b9a1a",
   "metadata": {
    "papermill": {
     "duration": 0.043498,
     "end_time": "2022-07-20T09:01:41.755103",
     "exception": false,
     "start_time": "2022-07-20T09:01:41.711605",
     "status": "completed"
    },
    "tags": []
   },
   "source": [
    "****"
   ]
  },
  {
   "cell_type": "markdown",
   "id": "8b40888a",
   "metadata": {
    "papermill": {
     "duration": 0.042398,
     "end_time": "2022-07-20T09:01:41.840571",
     "exception": false,
     "start_time": "2022-07-20T09:01:41.798173",
     "status": "completed"
    },
    "tags": []
   },
   "source": [
    "Distance: \n",
    "0.990990990990991\n",
    "Lingua accuracy: 0.40540540540540543 <br>\n",
    "2    82\n",
    "3    15\n",
    "5    10\n",
    "4     2\n",
    "0     1\n",
    "1     1 <br> \n",
    "inokufu/flaubert-base-uncased-xnli-sts-finetuned-education"
   ]
  },
  {
   "cell_type": "markdown",
   "id": "24faf334",
   "metadata": {
    "papermill": {
     "duration": 0.042931,
     "end_time": "2022-07-20T09:01:41.926034",
     "exception": false,
     "start_time": "2022-07-20T09:01:41.883103",
     "status": "completed"
    },
    "tags": []
   },
   "source": [
    "****"
   ]
  },
  {
   "cell_type": "markdown",
   "id": "f4cd82a7",
   "metadata": {
    "papermill": {
     "duration": 0.044281,
     "end_time": "2022-07-20T09:01:42.012956",
     "exception": false,
     "start_time": "2022-07-20T09:01:41.968675",
     "status": "completed"
    },
    "tags": []
   },
   "source": [
    "\n",
    "Distance: \n",
    "0.8648648648648649\n",
    "Lingua accuracy: 0.450450450450450462 <br>\n",
    "3     7\n",
    "1     5\n",
    "5     4\n",
    "4     4\n",
    "0     1 <br> inokufu/flaubert-base-uncased-xnli-sts-finetuned-education"
   ]
  },
  {
   "cell_type": "code",
   "execution_count": null,
   "id": "a8426d43",
   "metadata": {
    "papermill": {
     "duration": 0.042023,
     "end_time": "2022-07-20T09:01:42.097638",
     "exception": false,
     "start_time": "2022-07-20T09:01:42.055615",
     "status": "completed"
    },
    "tags": []
   },
   "outputs": [],
   "source": []
  },
  {
   "cell_type": "code",
   "execution_count": null,
   "id": "ed5d7d12",
   "metadata": {
    "papermill": {
     "duration": 0.042552,
     "end_time": "2022-07-20T09:01:42.182712",
     "exception": false,
     "start_time": "2022-07-20T09:01:42.140160",
     "status": "completed"
    },
    "tags": []
   },
   "outputs": [],
   "source": []
  },
  {
   "cell_type": "code",
   "execution_count": null,
   "id": "c7cba3e4",
   "metadata": {
    "papermill": {
     "duration": 0.042794,
     "end_time": "2022-07-20T09:01:42.268124",
     "exception": false,
     "start_time": "2022-07-20T09:01:42.225330",
     "status": "completed"
    },
    "tags": []
   },
   "outputs": [],
   "source": []
  },
  {
   "cell_type": "code",
   "execution_count": null,
   "id": "8cfce59c",
   "metadata": {
    "papermill": {
     "duration": 0.042218,
     "end_time": "2022-07-20T09:01:42.352594",
     "exception": false,
     "start_time": "2022-07-20T09:01:42.310376",
     "status": "completed"
    },
    "tags": []
   },
   "outputs": [],
   "source": []
  }
 ],
 "metadata": {
  "kernelspec": {
   "display_name": "Python 3",
   "language": "python",
   "name": "python3"
  },
  "language_info": {
   "codemirror_mode": {
    "name": "ipython",
    "version": 3
   },
   "file_extension": ".py",
   "mimetype": "text/x-python",
   "name": "python",
   "nbconvert_exporter": "python",
   "pygments_lexer": "ipython3",
   "version": "3.7.10"
  },
  "papermill": {
   "default_parameters": {},
   "duration": 183.661325,
   "end_time": "2022-07-20T09:01:45.774941",
   "environment_variables": {},
   "exception": null,
   "input_path": "__notebook__.ipynb",
   "output_path": "__notebook__.ipynb",
   "parameters": {},
   "start_time": "2022-07-20T08:58:42.113616",
   "version": "2.3.3"
  },
  "widgets": {
   "application/vnd.jupyter.widget-state+json": {
    "state": {
     "0183e090fd4043d9b6db734e7035598c": {
      "model_module": "@jupyter-widgets/controls",
      "model_module_version": "1.5.0",
      "model_name": "HBoxModel",
      "state": {
       "_dom_classes": [],
       "_model_module": "@jupyter-widgets/controls",
       "_model_module_version": "1.5.0",
       "_model_name": "HBoxModel",
       "_view_count": null,
       "_view_module": "@jupyter-widgets/controls",
       "_view_module_version": "1.5.0",
       "_view_name": "HBoxView",
       "box_style": "",
       "children": [
        "IPY_MODEL_5c863a7665494ac0aa2a222e2eb44541",
        "IPY_MODEL_7d769f46837443cfa782940eeb585362",
        "IPY_MODEL_be062e11b00b43f0a1bb0243655c8ff6"
       ],
       "layout": "IPY_MODEL_4922b3ce66ef4d3b9667d16895c8ac8c"
      }
     },
     "0a0faa14916b45029d8f4c1e30398dd3": {
      "model_module": "@jupyter-widgets/base",
      "model_module_version": "1.2.0",
      "model_name": "LayoutModel",
      "state": {
       "_model_module": "@jupyter-widgets/base",
       "_model_module_version": "1.2.0",
       "_model_name": "LayoutModel",
       "_view_count": null,
       "_view_module": "@jupyter-widgets/base",
       "_view_module_version": "1.2.0",
       "_view_name": "LayoutView",
       "align_content": null,
       "align_items": null,
       "align_self": null,
       "border": null,
       "bottom": null,
       "display": null,
       "flex": null,
       "flex_flow": null,
       "grid_area": null,
       "grid_auto_columns": null,
       "grid_auto_flow": null,
       "grid_auto_rows": null,
       "grid_column": null,
       "grid_gap": null,
       "grid_row": null,
       "grid_template_areas": null,
       "grid_template_columns": null,
       "grid_template_rows": null,
       "height": null,
       "justify_content": null,
       "justify_items": null,
       "left": null,
       "margin": null,
       "max_height": null,
       "max_width": null,
       "min_height": null,
       "min_width": null,
       "object_fit": null,
       "object_position": null,
       "order": null,
       "overflow": null,
       "overflow_x": null,
       "overflow_y": null,
       "padding": null,
       "right": null,
       "top": null,
       "visibility": null,
       "width": null
      }
     },
     "1a14e84676a94daa8fc183eadae85407": {
      "model_module": "@jupyter-widgets/base",
      "model_module_version": "1.2.0",
      "model_name": "LayoutModel",
      "state": {
       "_model_module": "@jupyter-widgets/base",
       "_model_module_version": "1.2.0",
       "_model_name": "LayoutModel",
       "_view_count": null,
       "_view_module": "@jupyter-widgets/base",
       "_view_module_version": "1.2.0",
       "_view_name": "LayoutView",
       "align_content": null,
       "align_items": null,
       "align_self": null,
       "border": null,
       "bottom": null,
       "display": null,
       "flex": null,
       "flex_flow": null,
       "grid_area": null,
       "grid_auto_columns": null,
       "grid_auto_flow": null,
       "grid_auto_rows": null,
       "grid_column": null,
       "grid_gap": null,
       "grid_row": null,
       "grid_template_areas": null,
       "grid_template_columns": null,
       "grid_template_rows": null,
       "height": null,
       "justify_content": null,
       "justify_items": null,
       "left": null,
       "margin": null,
       "max_height": null,
       "max_width": null,
       "min_height": null,
       "min_width": null,
       "object_fit": null,
       "object_position": null,
       "order": null,
       "overflow": null,
       "overflow_x": null,
       "overflow_y": null,
       "padding": null,
       "right": null,
       "top": null,
       "visibility": null,
       "width": null
      }
     },
     "1b99d98e56b14e74b60a12ab5abe9664": {
      "model_module": "@jupyter-widgets/base",
      "model_module_version": "1.2.0",
      "model_name": "LayoutModel",
      "state": {
       "_model_module": "@jupyter-widgets/base",
       "_model_module_version": "1.2.0",
       "_model_name": "LayoutModel",
       "_view_count": null,
       "_view_module": "@jupyter-widgets/base",
       "_view_module_version": "1.2.0",
       "_view_name": "LayoutView",
       "align_content": null,
       "align_items": null,
       "align_self": null,
       "border": null,
       "bottom": null,
       "display": null,
       "flex": null,
       "flex_flow": null,
       "grid_area": null,
       "grid_auto_columns": null,
       "grid_auto_flow": null,
       "grid_auto_rows": null,
       "grid_column": null,
       "grid_gap": null,
       "grid_row": null,
       "grid_template_areas": null,
       "grid_template_columns": null,
       "grid_template_rows": null,
       "height": null,
       "justify_content": null,
       "justify_items": null,
       "left": null,
       "margin": null,
       "max_height": null,
       "max_width": null,
       "min_height": null,
       "min_width": null,
       "object_fit": null,
       "object_position": null,
       "order": null,
       "overflow": null,
       "overflow_x": null,
       "overflow_y": null,
       "padding": null,
       "right": null,
       "top": null,
       "visibility": null,
       "width": null
      }
     },
     "2057fda2ec994308819d0947516164ce": {
      "model_module": "@jupyter-widgets/controls",
      "model_module_version": "1.5.0",
      "model_name": "ProgressStyleModel",
      "state": {
       "_model_module": "@jupyter-widgets/controls",
       "_model_module_version": "1.5.0",
       "_model_name": "ProgressStyleModel",
       "_view_count": null,
       "_view_module": "@jupyter-widgets/base",
       "_view_module_version": "1.2.0",
       "_view_name": "StyleView",
       "bar_color": null,
       "description_width": ""
      }
     },
     "20c8d28ec35e4550ba17622db3675533": {
      "model_module": "@jupyter-widgets/base",
      "model_module_version": "1.2.0",
      "model_name": "LayoutModel",
      "state": {
       "_model_module": "@jupyter-widgets/base",
       "_model_module_version": "1.2.0",
       "_model_name": "LayoutModel",
       "_view_count": null,
       "_view_module": "@jupyter-widgets/base",
       "_view_module_version": "1.2.0",
       "_view_name": "LayoutView",
       "align_content": null,
       "align_items": null,
       "align_self": null,
       "border": null,
       "bottom": null,
       "display": null,
       "flex": null,
       "flex_flow": null,
       "grid_area": null,
       "grid_auto_columns": null,
       "grid_auto_flow": null,
       "grid_auto_rows": null,
       "grid_column": null,
       "grid_gap": null,
       "grid_row": null,
       "grid_template_areas": null,
       "grid_template_columns": null,
       "grid_template_rows": null,
       "height": null,
       "justify_content": null,
       "justify_items": null,
       "left": null,
       "margin": null,
       "max_height": null,
       "max_width": null,
       "min_height": null,
       "min_width": null,
       "object_fit": null,
       "object_position": null,
       "order": null,
       "overflow": null,
       "overflow_x": null,
       "overflow_y": null,
       "padding": null,
       "right": null,
       "top": null,
       "visibility": null,
       "width": null
      }
     },
     "22a2c4f938704e58a0c1caabbd65ce70": {
      "model_module": "@jupyter-widgets/controls",
      "model_module_version": "1.5.0",
      "model_name": "HTMLModel",
      "state": {
       "_dom_classes": [],
       "_model_module": "@jupyter-widgets/controls",
       "_model_module_version": "1.5.0",
       "_model_name": "HTMLModel",
       "_view_count": null,
       "_view_module": "@jupyter-widgets/controls",
       "_view_module_version": "1.5.0",
       "_view_name": "HTMLView",
       "description": "",
       "description_tooltip": null,
       "layout": "IPY_MODEL_1b99d98e56b14e74b60a12ab5abe9664",
       "placeholder": "​",
       "style": "IPY_MODEL_9f8fdda411804a51bedcb7e96d99b063",
       "value": " 445M/445M [00:22&lt;00:00, 21.4MB/s]"
      }
     },
     "25b5b109cdce4ea88054668cd06f8396": {
      "model_module": "@jupyter-widgets/controls",
      "model_module_version": "1.5.0",
      "model_name": "DescriptionStyleModel",
      "state": {
       "_model_module": "@jupyter-widgets/controls",
       "_model_module_version": "1.5.0",
       "_model_name": "DescriptionStyleModel",
       "_view_count": null,
       "_view_module": "@jupyter-widgets/base",
       "_view_module_version": "1.2.0",
       "_view_name": "StyleView",
       "description_width": ""
      }
     },
     "3007d48917cd44e485ba84fa36f269d5": {
      "model_module": "@jupyter-widgets/base",
      "model_module_version": "1.2.0",
      "model_name": "LayoutModel",
      "state": {
       "_model_module": "@jupyter-widgets/base",
       "_model_module_version": "1.2.0",
       "_model_name": "LayoutModel",
       "_view_count": null,
       "_view_module": "@jupyter-widgets/base",
       "_view_module_version": "1.2.0",
       "_view_name": "LayoutView",
       "align_content": null,
       "align_items": null,
       "align_self": null,
       "border": null,
       "bottom": null,
       "display": null,
       "flex": null,
       "flex_flow": null,
       "grid_area": null,
       "grid_auto_columns": null,
       "grid_auto_flow": null,
       "grid_auto_rows": null,
       "grid_column": null,
       "grid_gap": null,
       "grid_row": null,
       "grid_template_areas": null,
       "grid_template_columns": null,
       "grid_template_rows": null,
       "height": null,
       "justify_content": null,
       "justify_items": null,
       "left": null,
       "margin": null,
       "max_height": null,
       "max_width": null,
       "min_height": null,
       "min_width": null,
       "object_fit": null,
       "object_position": null,
       "order": null,
       "overflow": null,
       "overflow_x": null,
       "overflow_y": null,
       "padding": null,
       "right": null,
       "top": null,
       "visibility": null,
       "width": null
      }
     },
     "3987681fa913460e9dd62af485836c13": {
      "model_module": "@jupyter-widgets/controls",
      "model_module_version": "1.5.0",
      "model_name": "HTMLModel",
      "state": {
       "_dom_classes": [],
       "_model_module": "@jupyter-widgets/controls",
       "_model_module_version": "1.5.0",
       "_model_name": "HTMLModel",
       "_view_count": null,
       "_view_module": "@jupyter-widgets/controls",
       "_view_module_version": "1.5.0",
       "_view_name": "HTMLView",
       "description": "",
       "description_tooltip": null,
       "layout": "IPY_MODEL_f38bc8630dc44c898547af329d2bb19b",
       "placeholder": "​",
       "style": "IPY_MODEL_7be82867130941ad93ece0d900f87b9a",
       "value": "Downloading: 100%"
      }
     },
     "3f8f32af0e9e44ca8d15cb8e7214299e": {
      "model_module": "@jupyter-widgets/controls",
      "model_module_version": "1.5.0",
      "model_name": "HTMLModel",
      "state": {
       "_dom_classes": [],
       "_model_module": "@jupyter-widgets/controls",
       "_model_module_version": "1.5.0",
       "_model_name": "HTMLModel",
       "_view_count": null,
       "_view_module": "@jupyter-widgets/controls",
       "_view_module_version": "1.5.0",
       "_view_name": "HTMLView",
       "description": "",
       "description_tooltip": null,
       "layout": "IPY_MODEL_a24d4d346ffb4bbbad6c1a8f8d60dd54",
       "placeholder": "​",
       "style": "IPY_MODEL_25b5b109cdce4ea88054668cd06f8396",
       "value": "Downloading: 100%"
      }
     },
     "4922b3ce66ef4d3b9667d16895c8ac8c": {
      "model_module": "@jupyter-widgets/base",
      "model_module_version": "1.2.0",
      "model_name": "LayoutModel",
      "state": {
       "_model_module": "@jupyter-widgets/base",
       "_model_module_version": "1.2.0",
       "_model_name": "LayoutModel",
       "_view_count": null,
       "_view_module": "@jupyter-widgets/base",
       "_view_module_version": "1.2.0",
       "_view_name": "LayoutView",
       "align_content": null,
       "align_items": null,
       "align_self": null,
       "border": null,
       "bottom": null,
       "display": null,
       "flex": null,
       "flex_flow": null,
       "grid_area": null,
       "grid_auto_columns": null,
       "grid_auto_flow": null,
       "grid_auto_rows": null,
       "grid_column": null,
       "grid_gap": null,
       "grid_row": null,
       "grid_template_areas": null,
       "grid_template_columns": null,
       "grid_template_rows": null,
       "height": null,
       "justify_content": null,
       "justify_items": null,
       "left": null,
       "margin": null,
       "max_height": null,
       "max_width": null,
       "min_height": null,
       "min_width": null,
       "object_fit": null,
       "object_position": null,
       "order": null,
       "overflow": null,
       "overflow_x": null,
       "overflow_y": null,
       "padding": null,
       "right": null,
       "top": null,
       "visibility": null,
       "width": null
      }
     },
     "4d158ded13a0411987eb0cbb8829990e": {
      "model_module": "@jupyter-widgets/controls",
      "model_module_version": "1.5.0",
      "model_name": "ProgressStyleModel",
      "state": {
       "_model_module": "@jupyter-widgets/controls",
       "_model_module_version": "1.5.0",
       "_model_name": "ProgressStyleModel",
       "_view_count": null,
       "_view_module": "@jupyter-widgets/base",
       "_view_module_version": "1.2.0",
       "_view_name": "StyleView",
       "bar_color": null,
       "description_width": ""
      }
     },
     "4d4052a3d18c4f35b05a1eedab6ac2a4": {
      "model_module": "@jupyter-widgets/base",
      "model_module_version": "1.2.0",
      "model_name": "LayoutModel",
      "state": {
       "_model_module": "@jupyter-widgets/base",
       "_model_module_version": "1.2.0",
       "_model_name": "LayoutModel",
       "_view_count": null,
       "_view_module": "@jupyter-widgets/base",
       "_view_module_version": "1.2.0",
       "_view_name": "LayoutView",
       "align_content": null,
       "align_items": null,
       "align_self": null,
       "border": null,
       "bottom": null,
       "display": null,
       "flex": null,
       "flex_flow": null,
       "grid_area": null,
       "grid_auto_columns": null,
       "grid_auto_flow": null,
       "grid_auto_rows": null,
       "grid_column": null,
       "grid_gap": null,
       "grid_row": null,
       "grid_template_areas": null,
       "grid_template_columns": null,
       "grid_template_rows": null,
       "height": null,
       "justify_content": null,
       "justify_items": null,
       "left": null,
       "margin": null,
       "max_height": null,
       "max_width": null,
       "min_height": null,
       "min_width": null,
       "object_fit": null,
       "object_position": null,
       "order": null,
       "overflow": null,
       "overflow_x": null,
       "overflow_y": null,
       "padding": null,
       "right": null,
       "top": null,
       "visibility": null,
       "width": null
      }
     },
     "55599592f5df47ee905b9171225a9aa3": {
      "model_module": "@jupyter-widgets/base",
      "model_module_version": "1.2.0",
      "model_name": "LayoutModel",
      "state": {
       "_model_module": "@jupyter-widgets/base",
       "_model_module_version": "1.2.0",
       "_model_name": "LayoutModel",
       "_view_count": null,
       "_view_module": "@jupyter-widgets/base",
       "_view_module_version": "1.2.0",
       "_view_name": "LayoutView",
       "align_content": null,
       "align_items": null,
       "align_self": null,
       "border": null,
       "bottom": null,
       "display": null,
       "flex": null,
       "flex_flow": null,
       "grid_area": null,
       "grid_auto_columns": null,
       "grid_auto_flow": null,
       "grid_auto_rows": null,
       "grid_column": null,
       "grid_gap": null,
       "grid_row": null,
       "grid_template_areas": null,
       "grid_template_columns": null,
       "grid_template_rows": null,
       "height": null,
       "justify_content": null,
       "justify_items": null,
       "left": null,
       "margin": null,
       "max_height": null,
       "max_width": null,
       "min_height": null,
       "min_width": null,
       "object_fit": null,
       "object_position": null,
       "order": null,
       "overflow": null,
       "overflow_x": null,
       "overflow_y": null,
       "padding": null,
       "right": null,
       "top": null,
       "visibility": null,
       "width": null
      }
     },
     "5c863a7665494ac0aa2a222e2eb44541": {
      "model_module": "@jupyter-widgets/controls",
      "model_module_version": "1.5.0",
      "model_name": "HTMLModel",
      "state": {
       "_dom_classes": [],
       "_model_module": "@jupyter-widgets/controls",
       "_model_module_version": "1.5.0",
       "_model_name": "HTMLModel",
       "_view_count": null,
       "_view_module": "@jupyter-widgets/controls",
       "_view_module_version": "1.5.0",
       "_view_name": "HTMLView",
       "description": "",
       "description_tooltip": null,
       "layout": "IPY_MODEL_55599592f5df47ee905b9171225a9aa3",
       "placeholder": "​",
       "style": "IPY_MODEL_71da8cfbdcb54a318f0b24f17a21f53d",
       "value": "Downloading: 100%"
      }
     },
     "6528e288cacf434aa3c0052c569e1103": {
      "model_module": "@jupyter-widgets/controls",
      "model_module_version": "1.5.0",
      "model_name": "DescriptionStyleModel",
      "state": {
       "_model_module": "@jupyter-widgets/controls",
       "_model_module_version": "1.5.0",
       "_model_name": "DescriptionStyleModel",
       "_view_count": null,
       "_view_module": "@jupyter-widgets/base",
       "_view_module_version": "1.2.0",
       "_view_name": "StyleView",
       "description_width": ""
      }
     },
     "69cf86d266fd49b5b2f0fb0306079743": {
      "model_module": "@jupyter-widgets/controls",
      "model_module_version": "1.5.0",
      "model_name": "ProgressStyleModel",
      "state": {
       "_model_module": "@jupyter-widgets/controls",
       "_model_module_version": "1.5.0",
       "_model_name": "ProgressStyleModel",
       "_view_count": null,
       "_view_module": "@jupyter-widgets/base",
       "_view_module_version": "1.2.0",
       "_view_name": "StyleView",
       "bar_color": null,
       "description_width": ""
      }
     },
     "6badfbf7736e481298e2e09ff0b3922f": {
      "model_module": "@jupyter-widgets/controls",
      "model_module_version": "1.5.0",
      "model_name": "FloatProgressModel",
      "state": {
       "_dom_classes": [],
       "_model_module": "@jupyter-widgets/controls",
       "_model_module_version": "1.5.0",
       "_model_name": "FloatProgressModel",
       "_view_count": null,
       "_view_module": "@jupyter-widgets/controls",
       "_view_module_version": "1.5.0",
       "_view_name": "ProgressView",
       "bar_style": "success",
       "description": "",
       "description_tooltip": null,
       "layout": "IPY_MODEL_f564e2ead8ba4668a530d9abb99db844",
       "max": 445018784.0,
       "min": 0.0,
       "orientation": "horizontal",
       "style": "IPY_MODEL_4d158ded13a0411987eb0cbb8829990e",
       "value": 445018784.0
      }
     },
     "6c868ed9d7f84b5a95a211bc662ca3ac": {
      "model_module": "@jupyter-widgets/controls",
      "model_module_version": "1.5.0",
      "model_name": "HBoxModel",
      "state": {
       "_dom_classes": [],
       "_model_module": "@jupyter-widgets/controls",
       "_model_module_version": "1.5.0",
       "_model_name": "HBoxModel",
       "_view_count": null,
       "_view_module": "@jupyter-widgets/controls",
       "_view_module_version": "1.5.0",
       "_view_name": "HBoxView",
       "box_style": "",
       "children": [
        "IPY_MODEL_3987681fa913460e9dd62af485836c13",
        "IPY_MODEL_6badfbf7736e481298e2e09ff0b3922f",
        "IPY_MODEL_22a2c4f938704e58a0c1caabbd65ce70"
       ],
       "layout": "IPY_MODEL_be38c952f23148128c0b0f51e4714f66"
      }
     },
     "71da8cfbdcb54a318f0b24f17a21f53d": {
      "model_module": "@jupyter-widgets/controls",
      "model_module_version": "1.5.0",
      "model_name": "DescriptionStyleModel",
      "state": {
       "_model_module": "@jupyter-widgets/controls",
       "_model_module_version": "1.5.0",
       "_model_name": "DescriptionStyleModel",
       "_view_count": null,
       "_view_module": "@jupyter-widgets/base",
       "_view_module_version": "1.2.0",
       "_view_name": "StyleView",
       "description_width": ""
      }
     },
     "7be82867130941ad93ece0d900f87b9a": {
      "model_module": "@jupyter-widgets/controls",
      "model_module_version": "1.5.0",
      "model_name": "DescriptionStyleModel",
      "state": {
       "_model_module": "@jupyter-widgets/controls",
       "_model_module_version": "1.5.0",
       "_model_name": "DescriptionStyleModel",
       "_view_count": null,
       "_view_module": "@jupyter-widgets/base",
       "_view_module_version": "1.2.0",
       "_view_name": "StyleView",
       "description_width": ""
      }
     },
     "7c9e525020324dad910f934c238663db": {
      "model_module": "@jupyter-widgets/controls",
      "model_module_version": "1.5.0",
      "model_name": "ProgressStyleModel",
      "state": {
       "_model_module": "@jupyter-widgets/controls",
       "_model_module_version": "1.5.0",
       "_model_name": "ProgressStyleModel",
       "_view_count": null,
       "_view_module": "@jupyter-widgets/base",
       "_view_module_version": "1.2.0",
       "_view_name": "StyleView",
       "bar_color": null,
       "description_width": ""
      }
     },
     "7d2438acc8c949458a486d46a10c37b3": {
      "model_module": "@jupyter-widgets/controls",
      "model_module_version": "1.5.0",
      "model_name": "FloatProgressModel",
      "state": {
       "_dom_classes": [],
       "_model_module": "@jupyter-widgets/controls",
       "_model_module_version": "1.5.0",
       "_model_name": "FloatProgressModel",
       "_view_count": null,
       "_view_module": "@jupyter-widgets/controls",
       "_view_module_version": "1.5.0",
       "_view_name": "ProgressView",
       "bar_style": "success",
       "description": "",
       "description_tooltip": null,
       "layout": "IPY_MODEL_20c8d28ec35e4550ba17622db3675533",
       "max": 420.0,
       "min": 0.0,
       "orientation": "horizontal",
       "style": "IPY_MODEL_2057fda2ec994308819d0947516164ce",
       "value": 420.0
      }
     },
     "7d769f46837443cfa782940eeb585362": {
      "model_module": "@jupyter-widgets/controls",
      "model_module_version": "1.5.0",
      "model_name": "FloatProgressModel",
      "state": {
       "_dom_classes": [],
       "_model_module": "@jupyter-widgets/controls",
       "_model_module_version": "1.5.0",
       "_model_name": "FloatProgressModel",
       "_view_count": null,
       "_view_module": "@jupyter-widgets/controls",
       "_view_module_version": "1.5.0",
       "_view_name": "ProgressView",
       "bar_style": "success",
       "description": "",
       "description_tooltip": null,
       "layout": "IPY_MODEL_a7be379334d9458a8cddb46508d21e6a",
       "max": 227141.0,
       "min": 0.0,
       "orientation": "horizontal",
       "style": "IPY_MODEL_7c9e525020324dad910f934c238663db",
       "value": 227141.0
      }
     },
     "82fbdaa36bbb4ea69a8a801d198b8c47": {
      "model_module": "@jupyter-widgets/controls",
      "model_module_version": "1.5.0",
      "model_name": "HBoxModel",
      "state": {
       "_dom_classes": [],
       "_model_module": "@jupyter-widgets/controls",
       "_model_module_version": "1.5.0",
       "_model_name": "HBoxModel",
       "_view_count": null,
       "_view_module": "@jupyter-widgets/controls",
       "_view_module_version": "1.5.0",
       "_view_name": "HBoxView",
       "box_style": "",
       "children": [
        "IPY_MODEL_9c6e758780c8422a8292c0a702d9ccc1",
        "IPY_MODEL_7d2438acc8c949458a486d46a10c37b3",
        "IPY_MODEL_f72c237b66cb437da432bfaa012ed4c7"
       ],
       "layout": "IPY_MODEL_843ec3a3581649039a9eac7c7cc99906"
      }
     },
     "843ec3a3581649039a9eac7c7cc99906": {
      "model_module": "@jupyter-widgets/base",
      "model_module_version": "1.2.0",
      "model_name": "LayoutModel",
      "state": {
       "_model_module": "@jupyter-widgets/base",
       "_model_module_version": "1.2.0",
       "_model_name": "LayoutModel",
       "_view_count": null,
       "_view_module": "@jupyter-widgets/base",
       "_view_module_version": "1.2.0",
       "_view_name": "LayoutView",
       "align_content": null,
       "align_items": null,
       "align_self": null,
       "border": null,
       "bottom": null,
       "display": null,
       "flex": null,
       "flex_flow": null,
       "grid_area": null,
       "grid_auto_columns": null,
       "grid_auto_flow": null,
       "grid_auto_rows": null,
       "grid_column": null,
       "grid_gap": null,
       "grid_row": null,
       "grid_template_areas": null,
       "grid_template_columns": null,
       "grid_template_rows": null,
       "height": null,
       "justify_content": null,
       "justify_items": null,
       "left": null,
       "margin": null,
       "max_height": null,
       "max_width": null,
       "min_height": null,
       "min_width": null,
       "object_fit": null,
       "object_position": null,
       "order": null,
       "overflow": null,
       "overflow_x": null,
       "overflow_y": null,
       "padding": null,
       "right": null,
       "top": null,
       "visibility": null,
       "width": null
      }
     },
     "8a6515536fb045f49c54d06e1d1782ca": {
      "model_module": "@jupyter-widgets/controls",
      "model_module_version": "1.5.0",
      "model_name": "DescriptionStyleModel",
      "state": {
       "_model_module": "@jupyter-widgets/controls",
       "_model_module_version": "1.5.0",
       "_model_name": "DescriptionStyleModel",
       "_view_count": null,
       "_view_module": "@jupyter-widgets/base",
       "_view_module_version": "1.2.0",
       "_view_name": "StyleView",
       "description_width": ""
      }
     },
     "9c6e758780c8422a8292c0a702d9ccc1": {
      "model_module": "@jupyter-widgets/controls",
      "model_module_version": "1.5.0",
      "model_name": "HTMLModel",
      "state": {
       "_dom_classes": [],
       "_model_module": "@jupyter-widgets/controls",
       "_model_module_version": "1.5.0",
       "_model_name": "HTMLModel",
       "_view_count": null,
       "_view_module": "@jupyter-widgets/controls",
       "_view_module_version": "1.5.0",
       "_view_name": "HTMLView",
       "description": "",
       "description_tooltip": null,
       "layout": "IPY_MODEL_f2d28cef482d456ea970ccf3aa353ad0",
       "placeholder": "​",
       "style": "IPY_MODEL_8a6515536fb045f49c54d06e1d1782ca",
       "value": "Downloading: 100%"
      }
     },
     "9f8fdda411804a51bedcb7e96d99b063": {
      "model_module": "@jupyter-widgets/controls",
      "model_module_version": "1.5.0",
      "model_name": "DescriptionStyleModel",
      "state": {
       "_model_module": "@jupyter-widgets/controls",
       "_model_module_version": "1.5.0",
       "_model_name": "DescriptionStyleModel",
       "_view_count": null,
       "_view_module": "@jupyter-widgets/base",
       "_view_module_version": "1.2.0",
       "_view_name": "StyleView",
       "description_width": ""
      }
     },
     "a24d4d346ffb4bbbad6c1a8f8d60dd54": {
      "model_module": "@jupyter-widgets/base",
      "model_module_version": "1.2.0",
      "model_name": "LayoutModel",
      "state": {
       "_model_module": "@jupyter-widgets/base",
       "_model_module_version": "1.2.0",
       "_model_name": "LayoutModel",
       "_view_count": null,
       "_view_module": "@jupyter-widgets/base",
       "_view_module_version": "1.2.0",
       "_view_name": "LayoutView",
       "align_content": null,
       "align_items": null,
       "align_self": null,
       "border": null,
       "bottom": null,
       "display": null,
       "flex": null,
       "flex_flow": null,
       "grid_area": null,
       "grid_auto_columns": null,
       "grid_auto_flow": null,
       "grid_auto_rows": null,
       "grid_column": null,
       "grid_gap": null,
       "grid_row": null,
       "grid_template_areas": null,
       "grid_template_columns": null,
       "grid_template_rows": null,
       "height": null,
       "justify_content": null,
       "justify_items": null,
       "left": null,
       "margin": null,
       "max_height": null,
       "max_width": null,
       "min_height": null,
       "min_width": null,
       "object_fit": null,
       "object_position": null,
       "order": null,
       "overflow": null,
       "overflow_x": null,
       "overflow_y": null,
       "padding": null,
       "right": null,
       "top": null,
       "visibility": null,
       "width": null
      }
     },
     "a7be379334d9458a8cddb46508d21e6a": {
      "model_module": "@jupyter-widgets/base",
      "model_module_version": "1.2.0",
      "model_name": "LayoutModel",
      "state": {
       "_model_module": "@jupyter-widgets/base",
       "_model_module_version": "1.2.0",
       "_model_name": "LayoutModel",
       "_view_count": null,
       "_view_module": "@jupyter-widgets/base",
       "_view_module_version": "1.2.0",
       "_view_name": "LayoutView",
       "align_content": null,
       "align_items": null,
       "align_self": null,
       "border": null,
       "bottom": null,
       "display": null,
       "flex": null,
       "flex_flow": null,
       "grid_area": null,
       "grid_auto_columns": null,
       "grid_auto_flow": null,
       "grid_auto_rows": null,
       "grid_column": null,
       "grid_gap": null,
       "grid_row": null,
       "grid_template_areas": null,
       "grid_template_columns": null,
       "grid_template_rows": null,
       "height": null,
       "justify_content": null,
       "justify_items": null,
       "left": null,
       "margin": null,
       "max_height": null,
       "max_width": null,
       "min_height": null,
       "min_width": null,
       "object_fit": null,
       "object_position": null,
       "order": null,
       "overflow": null,
       "overflow_x": null,
       "overflow_y": null,
       "padding": null,
       "right": null,
       "top": null,
       "visibility": null,
       "width": null
      }
     },
     "ace3d72493bd4d819732898b02ef5975": {
      "model_module": "@jupyter-widgets/base",
      "model_module_version": "1.2.0",
      "model_name": "LayoutModel",
      "state": {
       "_model_module": "@jupyter-widgets/base",
       "_model_module_version": "1.2.0",
       "_model_name": "LayoutModel",
       "_view_count": null,
       "_view_module": "@jupyter-widgets/base",
       "_view_module_version": "1.2.0",
       "_view_name": "LayoutView",
       "align_content": null,
       "align_items": null,
       "align_self": null,
       "border": null,
       "bottom": null,
       "display": null,
       "flex": null,
       "flex_flow": null,
       "grid_area": null,
       "grid_auto_columns": null,
       "grid_auto_flow": null,
       "grid_auto_rows": null,
       "grid_column": null,
       "grid_gap": null,
       "grid_row": null,
       "grid_template_areas": null,
       "grid_template_columns": null,
       "grid_template_rows": null,
       "height": null,
       "justify_content": null,
       "justify_items": null,
       "left": null,
       "margin": null,
       "max_height": null,
       "max_width": null,
       "min_height": null,
       "min_width": null,
       "object_fit": null,
       "object_position": null,
       "order": null,
       "overflow": null,
       "overflow_x": null,
       "overflow_y": null,
       "padding": null,
       "right": null,
       "top": null,
       "visibility": null,
       "width": null
      }
     },
     "be062e11b00b43f0a1bb0243655c8ff6": {
      "model_module": "@jupyter-widgets/controls",
      "model_module_version": "1.5.0",
      "model_name": "HTMLModel",
      "state": {
       "_dom_classes": [],
       "_model_module": "@jupyter-widgets/controls",
       "_model_module_version": "1.5.0",
       "_model_name": "HTMLModel",
       "_view_count": null,
       "_view_module": "@jupyter-widgets/controls",
       "_view_module_version": "1.5.0",
       "_view_name": "HTMLView",
       "description": "",
       "description_tooltip": null,
       "layout": "IPY_MODEL_1a14e84676a94daa8fc183eadae85407",
       "placeholder": "​",
       "style": "IPY_MODEL_c36978a48bd14806906fe547f05cd3b4",
       "value": " 227k/227k [00:00&lt;00:00, 207kB/s]"
      }
     },
     "be38c952f23148128c0b0f51e4714f66": {
      "model_module": "@jupyter-widgets/base",
      "model_module_version": "1.2.0",
      "model_name": "LayoutModel",
      "state": {
       "_model_module": "@jupyter-widgets/base",
       "_model_module_version": "1.2.0",
       "_model_name": "LayoutModel",
       "_view_count": null,
       "_view_module": "@jupyter-widgets/base",
       "_view_module_version": "1.2.0",
       "_view_name": "LayoutView",
       "align_content": null,
       "align_items": null,
       "align_self": null,
       "border": null,
       "bottom": null,
       "display": null,
       "flex": null,
       "flex_flow": null,
       "grid_area": null,
       "grid_auto_columns": null,
       "grid_auto_flow": null,
       "grid_auto_rows": null,
       "grid_column": null,
       "grid_gap": null,
       "grid_row": null,
       "grid_template_areas": null,
       "grid_template_columns": null,
       "grid_template_rows": null,
       "height": null,
       "justify_content": null,
       "justify_items": null,
       "left": null,
       "margin": null,
       "max_height": null,
       "max_width": null,
       "min_height": null,
       "min_width": null,
       "object_fit": null,
       "object_position": null,
       "order": null,
       "overflow": null,
       "overflow_x": null,
       "overflow_y": null,
       "padding": null,
       "right": null,
       "top": null,
       "visibility": null,
       "width": null
      }
     },
     "c36978a48bd14806906fe547f05cd3b4": {
      "model_module": "@jupyter-widgets/controls",
      "model_module_version": "1.5.0",
      "model_name": "DescriptionStyleModel",
      "state": {
       "_model_module": "@jupyter-widgets/controls",
       "_model_module_version": "1.5.0",
       "_model_name": "DescriptionStyleModel",
       "_view_count": null,
       "_view_module": "@jupyter-widgets/base",
       "_view_module_version": "1.2.0",
       "_view_name": "StyleView",
       "description_width": ""
      }
     },
     "c4239bb436414ecebf689ad80346aaa7": {
      "model_module": "@jupyter-widgets/controls",
      "model_module_version": "1.5.0",
      "model_name": "DescriptionStyleModel",
      "state": {
       "_model_module": "@jupyter-widgets/controls",
       "_model_module_version": "1.5.0",
       "_model_name": "DescriptionStyleModel",
       "_view_count": null,
       "_view_module": "@jupyter-widgets/base",
       "_view_module_version": "1.2.0",
       "_view_name": "StyleView",
       "description_width": ""
      }
     },
     "cce141a3d34a46ad9d08b975c52bb019": {
      "model_module": "@jupyter-widgets/controls",
      "model_module_version": "1.5.0",
      "model_name": "HBoxModel",
      "state": {
       "_dom_classes": [],
       "_model_module": "@jupyter-widgets/controls",
       "_model_module_version": "1.5.0",
       "_model_name": "HBoxModel",
       "_view_count": null,
       "_view_module": "@jupyter-widgets/controls",
       "_view_module_version": "1.5.0",
       "_view_name": "HBoxView",
       "box_style": "",
       "children": [
        "IPY_MODEL_3f8f32af0e9e44ca8d15cb8e7214299e",
        "IPY_MODEL_e0d3caa029ec4cdc8aa82c43cab4bc60",
        "IPY_MODEL_eac1166aedf54cc28110d0c07eb71611"
       ],
       "layout": "IPY_MODEL_3007d48917cd44e485ba84fa36f269d5"
      }
     },
     "e0d3caa029ec4cdc8aa82c43cab4bc60": {
      "model_module": "@jupyter-widgets/controls",
      "model_module_version": "1.5.0",
      "model_name": "FloatProgressModel",
      "state": {
       "_dom_classes": [],
       "_model_module": "@jupyter-widgets/controls",
       "_model_module_version": "1.5.0",
       "_model_name": "FloatProgressModel",
       "_view_count": null,
       "_view_module": "@jupyter-widgets/controls",
       "_view_module_version": "1.5.0",
       "_view_name": "ProgressView",
       "bar_style": "success",
       "description": "",
       "description_tooltip": null,
       "layout": "IPY_MODEL_0a0faa14916b45029d8f4c1e30398dd3",
       "max": 83.0,
       "min": 0.0,
       "orientation": "horizontal",
       "style": "IPY_MODEL_69cf86d266fd49b5b2f0fb0306079743",
       "value": 83.0
      }
     },
     "eac1166aedf54cc28110d0c07eb71611": {
      "model_module": "@jupyter-widgets/controls",
      "model_module_version": "1.5.0",
      "model_name": "HTMLModel",
      "state": {
       "_dom_classes": [],
       "_model_module": "@jupyter-widgets/controls",
       "_model_module_version": "1.5.0",
       "_model_name": "HTMLModel",
       "_view_count": null,
       "_view_module": "@jupyter-widgets/controls",
       "_view_module_version": "1.5.0",
       "_view_name": "HTMLView",
       "description": "",
       "description_tooltip": null,
       "layout": "IPY_MODEL_4d4052a3d18c4f35b05a1eedab6ac2a4",
       "placeholder": "​",
       "style": "IPY_MODEL_c4239bb436414ecebf689ad80346aaa7",
       "value": " 83.0/83.0 [00:00&lt;00:00, 3.13kB/s]"
      }
     },
     "f2d28cef482d456ea970ccf3aa353ad0": {
      "model_module": "@jupyter-widgets/base",
      "model_module_version": "1.2.0",
      "model_name": "LayoutModel",
      "state": {
       "_model_module": "@jupyter-widgets/base",
       "_model_module_version": "1.2.0",
       "_model_name": "LayoutModel",
       "_view_count": null,
       "_view_module": "@jupyter-widgets/base",
       "_view_module_version": "1.2.0",
       "_view_name": "LayoutView",
       "align_content": null,
       "align_items": null,
       "align_self": null,
       "border": null,
       "bottom": null,
       "display": null,
       "flex": null,
       "flex_flow": null,
       "grid_area": null,
       "grid_auto_columns": null,
       "grid_auto_flow": null,
       "grid_auto_rows": null,
       "grid_column": null,
       "grid_gap": null,
       "grid_row": null,
       "grid_template_areas": null,
       "grid_template_columns": null,
       "grid_template_rows": null,
       "height": null,
       "justify_content": null,
       "justify_items": null,
       "left": null,
       "margin": null,
       "max_height": null,
       "max_width": null,
       "min_height": null,
       "min_width": null,
       "object_fit": null,
       "object_position": null,
       "order": null,
       "overflow": null,
       "overflow_x": null,
       "overflow_y": null,
       "padding": null,
       "right": null,
       "top": null,
       "visibility": null,
       "width": null
      }
     },
     "f38bc8630dc44c898547af329d2bb19b": {
      "model_module": "@jupyter-widgets/base",
      "model_module_version": "1.2.0",
      "model_name": "LayoutModel",
      "state": {
       "_model_module": "@jupyter-widgets/base",
       "_model_module_version": "1.2.0",
       "_model_name": "LayoutModel",
       "_view_count": null,
       "_view_module": "@jupyter-widgets/base",
       "_view_module_version": "1.2.0",
       "_view_name": "LayoutView",
       "align_content": null,
       "align_items": null,
       "align_self": null,
       "border": null,
       "bottom": null,
       "display": null,
       "flex": null,
       "flex_flow": null,
       "grid_area": null,
       "grid_auto_columns": null,
       "grid_auto_flow": null,
       "grid_auto_rows": null,
       "grid_column": null,
       "grid_gap": null,
       "grid_row": null,
       "grid_template_areas": null,
       "grid_template_columns": null,
       "grid_template_rows": null,
       "height": null,
       "justify_content": null,
       "justify_items": null,
       "left": null,
       "margin": null,
       "max_height": null,
       "max_width": null,
       "min_height": null,
       "min_width": null,
       "object_fit": null,
       "object_position": null,
       "order": null,
       "overflow": null,
       "overflow_x": null,
       "overflow_y": null,
       "padding": null,
       "right": null,
       "top": null,
       "visibility": null,
       "width": null
      }
     },
     "f564e2ead8ba4668a530d9abb99db844": {
      "model_module": "@jupyter-widgets/base",
      "model_module_version": "1.2.0",
      "model_name": "LayoutModel",
      "state": {
       "_model_module": "@jupyter-widgets/base",
       "_model_module_version": "1.2.0",
       "_model_name": "LayoutModel",
       "_view_count": null,
       "_view_module": "@jupyter-widgets/base",
       "_view_module_version": "1.2.0",
       "_view_name": "LayoutView",
       "align_content": null,
       "align_items": null,
       "align_self": null,
       "border": null,
       "bottom": null,
       "display": null,
       "flex": null,
       "flex_flow": null,
       "grid_area": null,
       "grid_auto_columns": null,
       "grid_auto_flow": null,
       "grid_auto_rows": null,
       "grid_column": null,
       "grid_gap": null,
       "grid_row": null,
       "grid_template_areas": null,
       "grid_template_columns": null,
       "grid_template_rows": null,
       "height": null,
       "justify_content": null,
       "justify_items": null,
       "left": null,
       "margin": null,
       "max_height": null,
       "max_width": null,
       "min_height": null,
       "min_width": null,
       "object_fit": null,
       "object_position": null,
       "order": null,
       "overflow": null,
       "overflow_x": null,
       "overflow_y": null,
       "padding": null,
       "right": null,
       "top": null,
       "visibility": null,
       "width": null
      }
     },
     "f72c237b66cb437da432bfaa012ed4c7": {
      "model_module": "@jupyter-widgets/controls",
      "model_module_version": "1.5.0",
      "model_name": "HTMLModel",
      "state": {
       "_dom_classes": [],
       "_model_module": "@jupyter-widgets/controls",
       "_model_module_version": "1.5.0",
       "_model_name": "HTMLModel",
       "_view_count": null,
       "_view_module": "@jupyter-widgets/controls",
       "_view_module_version": "1.5.0",
       "_view_name": "HTMLView",
       "description": "",
       "description_tooltip": null,
       "layout": "IPY_MODEL_ace3d72493bd4d819732898b02ef5975",
       "placeholder": "​",
       "style": "IPY_MODEL_6528e288cacf434aa3c0052c569e1103",
       "value": " 420/420 [00:00&lt;00:00, 15.6kB/s]"
      }
     }
    },
    "version_major": 2,
    "version_minor": 0
   }
  }
 },
 "nbformat": 4,
 "nbformat_minor": 5
}
