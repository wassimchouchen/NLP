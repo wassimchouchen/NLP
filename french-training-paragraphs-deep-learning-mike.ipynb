{
 "cells": [
  {
   "cell_type": "code",
   "execution_count": 1,
   "id": "c13d0dff",
   "metadata": {
    "_cell_guid": "b1076dfc-b9ad-4769-8c92-a6c4dae69d19",
    "_uuid": "8f2839f25d086af736a60e9eeb907d3b93b6e0e5",
    "execution": {
     "iopub.execute_input": "2022-07-20T11:33:19.459787Z",
     "iopub.status.busy": "2022-07-20T11:33:19.458262Z",
     "iopub.status.idle": "2022-07-20T11:33:26.883533Z",
     "shell.execute_reply": "2022-07-20T11:33:26.882949Z",
     "shell.execute_reply.started": "2022-07-20T11:25:56.305474Z"
    },
    "papermill": {
     "duration": 7.460706,
     "end_time": "2022-07-20T11:33:26.883690",
     "exception": false,
     "start_time": "2022-07-20T11:33:19.422984",
     "status": "completed"
    },
    "tags": []
   },
   "outputs": [],
   "source": [
    "import os\n",
    "\n",
    "import random\n",
    "import numpy as np\n",
    "\n",
    "import pandas as pd\n",
    "import torch\n",
    "from torch.utils.data import Dataset, random_split\n",
    "from transformers import (\n",
    "    AdamW,\n",
    "    Trainer,\n",
    "    TrainingArguments,\n",
    "    AutoTokenizer,\n",
    "    AutoModelForSequenceClassification,\n",
    "    get_cosine_schedule_with_warmup,\n",
    ")\n",
    "from sklearn.preprocessing import LabelEncoder\n",
    "from sklearn.metrics import accuracy_score"
   ]
  },
  {
   "cell_type": "code",
   "execution_count": 2,
   "id": "4c3e3e18",
   "metadata": {
    "execution": {
     "iopub.execute_input": "2022-07-20T11:33:26.950048Z",
     "iopub.status.busy": "2022-07-20T11:33:26.949317Z",
     "iopub.status.idle": "2022-07-20T11:33:31.729151Z",
     "shell.execute_reply": "2022-07-20T11:33:31.728523Z",
     "shell.execute_reply.started": "2022-07-20T11:25:56.531838Z"
    },
    "papermill": {
     "duration": 4.813844,
     "end_time": "2022-07-20T11:33:31.729274",
     "exception": false,
     "start_time": "2022-07-20T11:33:26.915430",
     "status": "completed"
    },
    "tags": []
   },
   "outputs": [
    {
     "data": {
      "application/vnd.jupyter.widget-view+json": {
       "model_id": "0829d2abafbd45398d6ee682a6b58c33",
       "version_major": 2,
       "version_minor": 0
      },
      "text/plain": [
       "Downloading:   0%|          | 0.00/420 [00:00<?, ?B/s]"
      ]
     },
     "metadata": {},
     "output_type": "display_data"
    },
    {
     "data": {
      "application/vnd.jupyter.widget-view+json": {
       "model_id": "c10093200ff445768fc306d833e30566",
       "version_major": 2,
       "version_minor": 0
      },
      "text/plain": [
       "Downloading:   0%|          | 0.00/227k [00:00<?, ?B/s]"
      ]
     },
     "metadata": {},
     "output_type": "display_data"
    },
    {
     "data": {
      "application/vnd.jupyter.widget-view+json": {
       "model_id": "efcacf240a1f45b79f8c957d841b7e79",
       "version_major": 2,
       "version_minor": 0
      },
      "text/plain": [
       "Downloading:   0%|          | 0.00/83.0 [00:00<?, ?B/s]"
      ]
     },
     "metadata": {},
     "output_type": "display_data"
    }
   ],
   "source": [
    "model_name = \"dbmdz/bert-base-french-europeana-cased\"\n",
    "\n",
    "tokenizer = AutoTokenizer.from_pretrained(model_name)\n",
    "\n",
    "device = torch.device(\"cuda\" if torch.cuda.is_available() else \"cpu\")"
   ]
  },
  {
   "cell_type": "code",
   "execution_count": 3,
   "id": "87054bbf",
   "metadata": {
    "execution": {
     "iopub.execute_input": "2022-07-20T11:33:31.798208Z",
     "iopub.status.busy": "2022-07-20T11:33:31.796633Z",
     "iopub.status.idle": "2022-07-20T11:33:31.798809Z",
     "shell.execute_reply": "2022-07-20T11:33:31.799241Z",
     "shell.execute_reply.started": "2022-07-20T11:25:58.684595Z"
    },
    "papermill": {
     "duration": 0.038332,
     "end_time": "2022-07-20T11:33:31.799367",
     "exception": false,
     "start_time": "2022-07-20T11:33:31.761035",
     "status": "completed"
    },
    "tags": []
   },
   "outputs": [],
   "source": [
    "lr = 2e-5\n",
    "epochs =  6\n",
    "batch_size = 5\n",
    "max_seq_len = 75\n",
    "\n",
    "test_frac = 0.1"
   ]
  },
  {
   "cell_type": "code",
   "execution_count": 4,
   "id": "1569cbdf",
   "metadata": {
    "execution": {
     "iopub.execute_input": "2022-07-20T11:33:31.867079Z",
     "iopub.status.busy": "2022-07-20T11:33:31.866386Z",
     "iopub.status.idle": "2022-07-20T11:33:31.871216Z",
     "shell.execute_reply": "2022-07-20T11:33:31.870759Z",
     "shell.execute_reply.started": "2022-07-20T11:25:58.696750Z"
    },
    "papermill": {
     "duration": 0.040412,
     "end_time": "2022-07-20T11:33:31.871320",
     "exception": false,
     "start_time": "2022-07-20T11:33:31.830908",
     "status": "completed"
    },
    "tags": []
   },
   "outputs": [],
   "source": [
    "import os\n",
    "\n",
    "def set_seed(seed=106052):\n",
    "    \"\"\"Set seed for reproducibility.\n",
    "    \"\"\"\n",
    "    random.seed(seed)\n",
    "    np.random.seed(seed)\n",
    "    torch.manual_seed(seed)\n",
    "    torch.cuda.manual_seed_all(seed)\n",
    "    \n",
    "    os.environ['PYTHONHASHSEED'] = str(seed)\n",
    "    \n",
    "set_seed()"
   ]
  },
  {
   "cell_type": "code",
   "execution_count": 5,
   "id": "caaaea0b",
   "metadata": {
    "execution": {
     "iopub.execute_input": "2022-07-20T11:33:31.943409Z",
     "iopub.status.busy": "2022-07-20T11:33:31.942462Z",
     "iopub.status.idle": "2022-07-20T11:33:31.945254Z",
     "shell.execute_reply": "2022-07-20T11:33:31.944730Z",
     "shell.execute_reply.started": "2022-07-20T11:25:58.714855Z"
    },
    "papermill": {
     "duration": 0.042604,
     "end_time": "2022-07-20T11:33:31.945361",
     "exception": false,
     "start_time": "2022-07-20T11:33:31.902757",
     "status": "completed"
    },
    "tags": []
   },
   "outputs": [],
   "source": [
    "class CEFRDataset(Dataset):\n",
    "    \"\"\"Classification dataset, built on top of pytorch dataset object\n",
    "    \"\"\"\n",
    "    \n",
    "    def __init__(self, texts, labels):\n",
    "        \n",
    "        self.encoder = LabelEncoder()\n",
    "        print(self.encoder.__dict__)\n",
    "        self.texts = texts\n",
    "        self.labels = self.encoder.fit_transform(labels)\n",
    "\n",
    "    def __len__(self):\n",
    "        return len(self.texts)\n",
    "\n",
    "    def __getitem__(self, index):\n",
    "        text = self.texts[index]\n",
    "        label = self.labels[index]\n",
    "        encoded_text = tokenizer(\n",
    "            text,\n",
    "            padding=\"max_length\",\n",
    "            max_length=max_seq_len,\n",
    "            truncation=True,\n",
    "            return_tensors=\"pt\",\n",
    "        )\n",
    "        encoded_text[\"input_ids\"] = encoded_text[\"input_ids\"].squeeze()\n",
    "        encoded_text[\"attention_mask\"] = encoded_text[\"attention_mask\"].squeeze()\n",
    "        label = torch.tensor(label)\n",
    "\n",
    "        return {\n",
    "            \"input_ids\": encoded_text[\"input_ids\"],\n",
    "            \"attention_mask\": encoded_text[\"attention_mask\"],\n",
    "            \"labels\": label,\n",
    "        }\n",
    "\n",
    "    def get_labels(self):\n",
    "        return self.labels"
   ]
  },
  {
   "cell_type": "code",
   "execution_count": 6,
   "id": "c09f4042",
   "metadata": {
    "execution": {
     "iopub.execute_input": "2022-07-20T11:33:32.013200Z",
     "iopub.status.busy": "2022-07-20T11:33:32.012442Z",
     "iopub.status.idle": "2022-07-20T11:33:32.014375Z",
     "shell.execute_reply": "2022-07-20T11:33:32.014841Z",
     "shell.execute_reply.started": "2022-07-20T11:25:58.733763Z"
    },
    "papermill": {
     "duration": 0.03887,
     "end_time": "2022-07-20T11:33:32.014962",
     "exception": false,
     "start_time": "2022-07-20T11:33:31.976092",
     "status": "completed"
    },
    "tags": []
   },
   "outputs": [],
   "source": [
    "def train(train_set, valid_set, epochs=10, warmup_size=0.1, lr=1e-3, batch_size=16):\n",
    "    model = get_model(model_name)\n",
    "    optim = AdamW(model.parameters(), lr=lr)\n",
    "    scheduler = get_scheduler(\n",
    "        optim, warmup_size, round(len(train_set) / batch_size * epochs)\n",
    "    )\n",
    "    training_args = get_training_args(epochs, batch_size)\n",
    "    trainer = Trainer(\n",
    "        model=model,\n",
    "        args=training_args,\n",
    "        train_dataset=train_set,\n",
    "        eval_dataset=valid_set,\n",
    "        optimizers=[optim, scheduler],\n",
    "        compute_metrics=compute_accuracy,\n",
    "    )\n",
    "    trainer.train()\n",
    "    trainer.save_model()\n",
    "    return trainer"
   ]
  },
  {
   "cell_type": "code",
   "execution_count": 7,
   "id": "8aa9a97a",
   "metadata": {
    "execution": {
     "iopub.execute_input": "2022-07-20T11:33:32.081675Z",
     "iopub.status.busy": "2022-07-20T11:33:32.080117Z",
     "iopub.status.idle": "2022-07-20T11:33:32.082304Z",
     "shell.execute_reply": "2022-07-20T11:33:32.082708Z",
     "shell.execute_reply.started": "2022-07-20T11:25:58.750104Z"
    },
    "papermill": {
     "duration": 0.037316,
     "end_time": "2022-07-20T11:33:32.082852",
     "exception": false,
     "start_time": "2022-07-20T11:33:32.045536",
     "status": "completed"
    },
    "tags": []
   },
   "outputs": [],
   "source": [
    "def get_model(pretrained_checkpoint):\n",
    "    model = AutoModelForSequenceClassification.from_pretrained(\n",
    "        pretrained_checkpoint, num_labels=6\n",
    "    )\n",
    "    return model.to(device)"
   ]
  },
  {
   "cell_type": "code",
   "execution_count": 8,
   "id": "ece7a04d",
   "metadata": {
    "execution": {
     "iopub.execute_input": "2022-07-20T11:33:32.151345Z",
     "iopub.status.busy": "2022-07-20T11:33:32.150437Z",
     "iopub.status.idle": "2022-07-20T11:33:32.153166Z",
     "shell.execute_reply": "2022-07-20T11:33:32.152665Z",
     "shell.execute_reply.started": "2022-07-20T11:25:58.761018Z"
    },
    "papermill": {
     "duration": 0.039462,
     "end_time": "2022-07-20T11:33:32.153274",
     "exception": false,
     "start_time": "2022-07-20T11:33:32.113812",
     "status": "completed"
    },
    "tags": []
   },
   "outputs": [],
   "source": [
    "os.environ[\"WANDB_DISABLED\"] = \"true\"\n",
    "\n",
    "\n",
    "def get_scheduler(optimizer, warmup_size, total_steps):\n",
    "    scheduler = get_cosine_schedule_with_warmup(\n",
    "        optimizer,\n",
    "        num_warmup_steps=round(total_steps * warmup_size),\n",
    "        num_training_steps=total_steps,\n",
    "    )\n",
    "    return scheduler\n",
    "\n",
    "\n",
    "def get_training_args(epochs, batch_size):\n",
    "    return TrainingArguments(\n",
    "        output_dir=\"./b\",\n",
    "        num_train_epochs=epochs,\n",
    "        per_device_train_batch_size=batch_size,\n",
    "        logging_steps=50,\n",
    "        fp16=False,\n",
    "        evaluation_strategy=\"epoch\",\n",
    "        eval_accumulation_steps=1,\n",
    "        report_to=None,\n",
    "        save_total_limit=1,\n",
    "        load_best_model_at_end=True\n",
    "    )\n",
    "\n",
    "\n",
    "def compute_accuracy(pred):\n",
    "    labels = pred.label_ids\n",
    "    preds = pred.predictions.argmax(-1)\n",
    "    acc = accuracy_score(labels, preds)\n",
    "    return {\"accuracy\": acc}\n",
    "\n"
   ]
  },
  {
   "cell_type": "code",
   "execution_count": 9,
   "id": "c8e6669f",
   "metadata": {
    "execution": {
     "iopub.execute_input": "2022-07-20T11:33:32.219190Z",
     "iopub.status.busy": "2022-07-20T11:33:32.218439Z",
     "iopub.status.idle": "2022-07-20T11:33:32.220936Z",
     "shell.execute_reply": "2022-07-20T11:33:32.220497Z",
     "shell.execute_reply.started": "2022-07-20T11:25:58.778927Z"
    },
    "papermill": {
     "duration": 0.03651,
     "end_time": "2022-07-20T11:33:32.221044",
     "exception": false,
     "start_time": "2022-07-20T11:33:32.184534",
     "status": "completed"
    },
    "tags": []
   },
   "outputs": [],
   "source": [
    "lr = 2e-5\n",
    "epochs =  7\n",
    "batch_size = 8\n",
    "max_seq_len = 512"
   ]
  },
  {
   "cell_type": "code",
   "execution_count": 10,
   "id": "d72488b6",
   "metadata": {
    "execution": {
     "iopub.execute_input": "2022-07-20T11:33:32.289759Z",
     "iopub.status.busy": "2022-07-20T11:33:32.289086Z",
     "iopub.status.idle": "2022-07-20T11:33:32.291620Z",
     "shell.execute_reply": "2022-07-20T11:33:32.291186Z",
     "shell.execute_reply.started": "2022-07-20T11:25:58.794119Z"
    },
    "papermill": {
     "duration": 0.039893,
     "end_time": "2022-07-20T11:33:32.291722",
     "exception": false,
     "start_time": "2022-07-20T11:33:32.251829",
     "status": "completed"
    },
    "tags": []
   },
   "outputs": [],
   "source": [
    "def split_valid(df, frac=0.01):\n",
    "    \n",
    "    val = pd.DataFrame()\n",
    "    val[\"text\"] = \"\"\n",
    "    val[\"label\"] = -1\n",
    "    \n",
    "    for i in df.label.unique():\n",
    "        val = pd.concat([val, df[df.label == i].sample(frac=frac)])\n",
    "        \n",
    "    return df[~df.index.isin(val.index)].reset_index(drop=True) , val.reset_index(drop=True)"
   ]
  },
  {
   "cell_type": "code",
   "execution_count": 11,
   "id": "e9052e4a",
   "metadata": {
    "execution": {
     "iopub.execute_input": "2022-07-20T11:33:32.358234Z",
     "iopub.status.busy": "2022-07-20T11:33:32.357621Z",
     "iopub.status.idle": "2022-07-20T11:33:32.382349Z",
     "shell.execute_reply": "2022-07-20T11:33:32.381836Z",
     "shell.execute_reply.started": "2022-07-20T11:25:58.813480Z"
    },
    "papermill": {
     "duration": 0.060324,
     "end_time": "2022-07-20T11:33:32.382458",
     "exception": false,
     "start_time": "2022-07-20T11:33:32.322134",
     "status": "completed"
    },
    "tags": []
   },
   "outputs": [],
   "source": [
    "train_set_df = pd.read_csv(\"../input/fr-cerfr/dataset_to_be_annotated_-_dataset_to_be_annotated.csv\")\n",
    "train_set_df.drop(\"Unnamed: 3\", axis=1, inplace=True)"
   ]
  },
  {
   "cell_type": "code",
   "execution_count": 12,
   "id": "0f34096b",
   "metadata": {
    "execution": {
     "iopub.execute_input": "2022-07-20T11:33:32.451887Z",
     "iopub.status.busy": "2022-07-20T11:33:32.451108Z",
     "iopub.status.idle": "2022-07-20T11:33:32.453525Z",
     "shell.execute_reply": "2022-07-20T11:33:32.453098Z",
     "shell.execute_reply.started": "2022-07-20T11:25:58.838603Z"
    },
    "papermill": {
     "duration": 0.03962,
     "end_time": "2022-07-20T11:33:32.453634",
     "exception": false,
     "start_time": "2022-07-20T11:33:32.414014",
     "status": "completed"
    },
    "tags": []
   },
   "outputs": [],
   "source": [
    "train_set_df = train_set_df[pd.notnull(train_set_df['cefr'])]\n",
    "train_set_df = train_set_df.reset_index(drop=True)"
   ]
  },
  {
   "cell_type": "code",
   "execution_count": 13,
   "id": "6a7b4ed4",
   "metadata": {
    "execution": {
     "iopub.execute_input": "2022-07-20T11:33:32.567489Z",
     "iopub.status.busy": "2022-07-20T11:33:32.566656Z",
     "iopub.status.idle": "2022-07-20T11:33:32.568496Z",
     "shell.execute_reply": "2022-07-20T11:33:32.568935Z",
     "shell.execute_reply.started": "2022-07-20T11:25:58.854715Z"
    },
    "papermill": {
     "duration": 0.084056,
     "end_time": "2022-07-20T11:33:32.569059",
     "exception": false,
     "start_time": "2022-07-20T11:33:32.485003",
     "status": "completed"
    },
    "tags": []
   },
   "outputs": [],
   "source": [
    "train_set_df.columns=[\"text\",\"lens\",\"label\"]\n",
    "train_set_df = train_set_df[train_set_df.label != \"-\"]\n",
    "train_set_df = train_set_df[[\"text\", \"label\"]]"
   ]
  },
  {
   "cell_type": "code",
   "execution_count": 14,
   "id": "6c7628c9",
   "metadata": {
    "execution": {
     "iopub.execute_input": "2022-07-20T11:33:32.634129Z",
     "iopub.status.busy": "2022-07-20T11:33:32.633337Z",
     "iopub.status.idle": "2022-07-20T11:33:32.657780Z",
     "shell.execute_reply": "2022-07-20T11:33:32.656853Z",
     "shell.execute_reply.started": "2022-07-20T11:25:58.866464Z"
    },
    "papermill": {
     "duration": 0.057936,
     "end_time": "2022-07-20T11:33:32.657896",
     "exception": false,
     "start_time": "2022-07-20T11:33:32.599960",
     "status": "completed"
    },
    "tags": []
   },
   "outputs": [],
   "source": [
    "A1_A2=pd.read_csv(\"../input/a1-a2-ex/A1_A2_tran.csv\")"
   ]
  },
  {
   "cell_type": "code",
   "execution_count": 15,
   "id": "9e503cd2",
   "metadata": {
    "execution": {
     "iopub.execute_input": "2022-07-20T11:33:32.724745Z",
     "iopub.status.busy": "2022-07-20T11:33:32.724015Z",
     "iopub.status.idle": "2022-07-20T11:33:32.726031Z",
     "shell.execute_reply": "2022-07-20T11:33:32.726430Z",
     "shell.execute_reply.started": "2022-07-20T11:25:58.899073Z"
    },
    "papermill": {
     "duration": 0.036919,
     "end_time": "2022-07-20T11:33:32.726553",
     "exception": false,
     "start_time": "2022-07-20T11:33:32.689634",
     "status": "completed"
    },
    "tags": []
   },
   "outputs": [],
   "source": [
    "train_set_df=pd.concat([train_set_df, A1_A2], ignore_index=True)"
   ]
  },
  {
   "cell_type": "code",
   "execution_count": 16,
   "id": "65718b28",
   "metadata": {
    "execution": {
     "iopub.execute_input": "2022-07-20T11:33:32.809803Z",
     "iopub.status.busy": "2022-07-20T11:33:32.808982Z",
     "iopub.status.idle": "2022-07-20T11:33:32.812403Z",
     "shell.execute_reply": "2022-07-20T11:33:32.811986Z",
     "shell.execute_reply.started": "2022-07-20T11:25:58.910264Z"
    },
    "papermill": {
     "duration": 0.055082,
     "end_time": "2022-07-20T11:33:32.812513",
     "exception": false,
     "start_time": "2022-07-20T11:33:32.757431",
     "status": "completed"
    },
    "tags": []
   },
   "outputs": [],
   "source": [
    "from sklearn import preprocessing\n",
    "le = preprocessing.LabelEncoder()\n",
    "\n",
    "\n",
    "\n",
    "\n",
    "train_set_df.text = train_set_df.text.apply(lambda x: x.replace(\"\\r\", \"\").replace(\"\\n\", \" \"))\n",
    "\n",
    "# extra_df = pd.read_csv(\"../input/frenchcefr/french_mike_june.csv\")\n",
    "# extra_df.columns = [\"text\", \"label\", \"label_\"]\n",
    "# extra_df = extra_df[[\"text\", \"label\"]]\n",
    "# extra_df.text = extra_df.text.astype(str)\n",
    "#train_set_df = pd.concat([train_set_df, extra_df]).reset_index(drop=True)\n",
    "\n",
    "train_set_df, valid_set_df = split_valid(train_set_df)"
   ]
  },
  {
   "cell_type": "code",
   "execution_count": 17,
   "id": "3c99f25f",
   "metadata": {
    "execution": {
     "iopub.execute_input": "2022-07-20T11:33:32.888849Z",
     "iopub.status.busy": "2022-07-20T11:33:32.888014Z",
     "iopub.status.idle": "2022-07-20T11:33:32.889838Z",
     "shell.execute_reply": "2022-07-20T11:33:32.890363Z",
     "shell.execute_reply.started": "2022-07-20T11:25:58.945682Z"
    },
    "papermill": {
     "duration": 0.045953,
     "end_time": "2022-07-20T11:33:32.890488",
     "exception": false,
     "start_time": "2022-07-20T11:33:32.844535",
     "status": "completed"
    },
    "tags": []
   },
   "outputs": [],
   "source": [
    "for i in range(train_set_df.shape[0]):\n",
    "    if train_set_df.loc[i,\"label\"]==\"c1\":\n",
    "        train_set_df.loc[i,\"label\"]=\"C1\""
   ]
  },
  {
   "cell_type": "code",
   "execution_count": 18,
   "id": "53146550",
   "metadata": {
    "execution": {
     "iopub.execute_input": "2022-07-20T11:33:32.957258Z",
     "iopub.status.busy": "2022-07-20T11:33:32.956469Z",
     "iopub.status.idle": "2022-07-20T11:33:32.962357Z",
     "shell.execute_reply": "2022-07-20T11:33:32.961910Z",
     "shell.execute_reply.started": "2022-07-20T11:25:58.967197Z"
    },
    "papermill": {
     "duration": 0.041144,
     "end_time": "2022-07-20T11:33:32.962459",
     "exception": false,
     "start_time": "2022-07-20T11:33:32.921315",
     "status": "completed"
    },
    "tags": []
   },
   "outputs": [
    {
     "data": {
      "text/plain": [
       "array(['C1', 'B2', 'B1', 'A2', 'C2', 'A1'], dtype=object)"
      ]
     },
     "execution_count": 18,
     "metadata": {},
     "output_type": "execute_result"
    }
   ],
   "source": [
    "train_set_df.label.unique()"
   ]
  },
  {
   "cell_type": "code",
   "execution_count": 19,
   "id": "bcb8b8b3",
   "metadata": {
    "execution": {
     "iopub.execute_input": "2022-07-20T11:33:33.031670Z",
     "iopub.status.busy": "2022-07-20T11:33:33.031056Z",
     "iopub.status.idle": "2022-07-20T11:33:33.033669Z",
     "shell.execute_reply": "2022-07-20T11:33:33.034106Z",
     "shell.execute_reply.started": "2022-07-20T11:25:58.981542Z"
    },
    "papermill": {
     "duration": 0.040867,
     "end_time": "2022-07-20T11:33:33.034225",
     "exception": false,
     "start_time": "2022-07-20T11:33:32.993358",
     "status": "completed"
    },
    "tags": []
   },
   "outputs": [
    {
     "data": {
      "text/plain": [
       "A1    285\n",
       "A2    273\n",
       "B2     91\n",
       "B1     50\n",
       "C1     37\n",
       "C2     12\n",
       "Name: label, dtype: int64"
      ]
     },
     "execution_count": 19,
     "metadata": {},
     "output_type": "execute_result"
    }
   ],
   "source": [
    "train_set_df.label.value_counts()"
   ]
  },
  {
   "cell_type": "code",
   "execution_count": 20,
   "id": "afe1954c",
   "metadata": {
    "execution": {
     "iopub.execute_input": "2022-07-20T11:33:33.102010Z",
     "iopub.status.busy": "2022-07-20T11:33:33.101281Z",
     "iopub.status.idle": "2022-07-20T11:33:33.103184Z",
     "shell.execute_reply": "2022-07-20T11:33:33.103624Z",
     "shell.execute_reply.started": "2022-07-20T11:25:59.000198Z"
    },
    "papermill": {
     "duration": 0.038307,
     "end_time": "2022-07-20T11:33:33.103758",
     "exception": false,
     "start_time": "2022-07-20T11:33:33.065451",
     "status": "completed"
    },
    "tags": []
   },
   "outputs": [],
   "source": [
    "train_set_df.label = le.fit_transform(train_set_df.label)\n",
    "valid_set_df.label = le.transform(valid_set_df.label)"
   ]
  },
  {
   "cell_type": "code",
   "execution_count": 21,
   "id": "aac78f56",
   "metadata": {
    "execution": {
     "iopub.execute_input": "2022-07-20T11:33:33.173654Z",
     "iopub.status.busy": "2022-07-20T11:33:33.172975Z",
     "iopub.status.idle": "2022-07-20T11:33:33.175617Z",
     "shell.execute_reply": "2022-07-20T11:33:33.176054Z",
     "shell.execute_reply.started": "2022-07-20T11:25:59.014150Z"
    },
    "papermill": {
     "duration": 0.040842,
     "end_time": "2022-07-20T11:33:33.176175",
     "exception": false,
     "start_time": "2022-07-20T11:33:33.135333",
     "status": "completed"
    },
    "tags": []
   },
   "outputs": [
    {
     "data": {
      "text/plain": [
       "array([4, 3, 2, 1, 5, 0])"
      ]
     },
     "execution_count": 21,
     "metadata": {},
     "output_type": "execute_result"
    }
   ],
   "source": [
    "train_set_df.label.unique()"
   ]
  },
  {
   "cell_type": "code",
   "execution_count": 22,
   "id": "7ca6483a",
   "metadata": {
    "execution": {
     "iopub.execute_input": "2022-07-20T11:33:33.243913Z",
     "iopub.status.busy": "2022-07-20T11:33:33.243262Z",
     "iopub.status.idle": "2022-07-20T11:33:33.245777Z",
     "shell.execute_reply": "2022-07-20T11:33:33.246208Z",
     "shell.execute_reply.started": "2022-07-20T11:25:59.032235Z"
    },
    "papermill": {
     "duration": 0.038794,
     "end_time": "2022-07-20T11:33:33.246330",
     "exception": false,
     "start_time": "2022-07-20T11:33:33.207536",
     "status": "completed"
    },
    "tags": []
   },
   "outputs": [
    {
     "data": {
      "text/plain": [
       "3"
      ]
     },
     "execution_count": 22,
     "metadata": {},
     "output_type": "execute_result"
    }
   ],
   "source": [
    "valid_set_df.label.nunique()"
   ]
  },
  {
   "cell_type": "code",
   "execution_count": 23,
   "id": "246b5682",
   "metadata": {
    "execution": {
     "iopub.execute_input": "2022-07-20T11:33:33.315068Z",
     "iopub.status.busy": "2022-07-20T11:33:33.314327Z",
     "iopub.status.idle": "2022-07-20T11:33:33.316946Z",
     "shell.execute_reply": "2022-07-20T11:33:33.316407Z",
     "shell.execute_reply.started": "2022-07-20T11:25:59.050802Z"
    },
    "papermill": {
     "duration": 0.037785,
     "end_time": "2022-07-20T11:33:33.317067",
     "exception": false,
     "start_time": "2022-07-20T11:33:33.279282",
     "status": "completed"
    },
    "tags": []
   },
   "outputs": [],
   "source": [
    "# train_set_df = train_set_df.sample(frac=1)"
   ]
  },
  {
   "cell_type": "code",
   "execution_count": 24,
   "id": "9768ac4d",
   "metadata": {
    "execution": {
     "iopub.execute_input": "2022-07-20T11:33:33.413806Z",
     "iopub.status.busy": "2022-07-20T11:33:33.412946Z",
     "iopub.status.idle": "2022-07-20T11:33:33.415592Z",
     "shell.execute_reply": "2022-07-20T11:33:33.416721Z",
     "shell.execute_reply.started": "2022-07-20T11:25:59.105026Z"
    },
    "papermill": {
     "duration": 0.068376,
     "end_time": "2022-07-20T11:33:33.417214",
     "exception": false,
     "start_time": "2022-07-20T11:33:33.348838",
     "status": "completed"
    },
    "tags": []
   },
   "outputs": [],
   "source": [
    "from tqdm import tqdm \n",
    "\n",
    "def predict(model, text):\n",
    "    \n",
    "    preds = []\n",
    "    \n",
    "    for i in tqdm(range(len(text))):\n",
    "        tokenized = tokenizer(text[i:i+1], return_tensors=\"pt\", truncation=True, max_length=512).to(\"cuda\")\n",
    "        pred = model(**tokenized)\n",
    "        preds.append(pred.logits.argmax(-1).item())\n",
    "\n",
    "    return preds"
   ]
  },
  {
   "cell_type": "code",
   "execution_count": null,
   "id": "d4b9c069",
   "metadata": {
    "papermill": {
     "duration": 0.056336,
     "end_time": "2022-07-20T11:33:33.537783",
     "exception": false,
     "start_time": "2022-07-20T11:33:33.481447",
     "status": "completed"
    },
    "tags": []
   },
   "outputs": [],
   "source": []
  },
  {
   "cell_type": "code",
   "execution_count": 25,
   "id": "6234b779",
   "metadata": {
    "execution": {
     "iopub.execute_input": "2022-07-20T11:33:33.658746Z",
     "iopub.status.busy": "2022-07-20T11:33:33.657951Z",
     "iopub.status.idle": "2022-07-20T11:40:48.713399Z",
     "shell.execute_reply": "2022-07-20T11:40:48.712870Z"
    },
    "papermill": {
     "duration": 435.120384,
     "end_time": "2022-07-20T11:40:48.713539",
     "exception": false,
     "start_time": "2022-07-20T11:33:33.593155",
     "status": "completed"
    },
    "tags": []
   },
   "outputs": [
    {
     "name": "stdout",
     "output_type": "stream",
     "text": [
      "{}\n",
      "{}\n"
     ]
    },
    {
     "data": {
      "application/vnd.jupyter.widget-view+json": {
       "model_id": "b7f3eadc50b94fc0a19110af343ed20d",
       "version_major": 2,
       "version_minor": 0
      },
      "text/plain": [
       "Downloading:   0%|          | 0.00/445M [00:00<?, ?B/s]"
      ]
     },
     "metadata": {},
     "output_type": "display_data"
    },
    {
     "name": "stderr",
     "output_type": "stream",
     "text": [
      "Some weights of the model checkpoint at dbmdz/bert-base-french-europeana-cased were not used when initializing BertForSequenceClassification: ['cls.predictions.bias', 'cls.predictions.transform.dense.weight', 'cls.predictions.transform.dense.bias', 'cls.predictions.transform.LayerNorm.weight', 'cls.predictions.transform.LayerNorm.bias', 'cls.predictions.decoder.weight', 'cls.predictions.decoder.bias', 'cls.seq_relationship.weight', 'cls.seq_relationship.bias']\n",
      "- This IS expected if you are initializing BertForSequenceClassification from the checkpoint of a model trained on another task or with another architecture (e.g. initializing a BertForSequenceClassification model from a BertForPreTraining model).\n",
      "- This IS NOT expected if you are initializing BertForSequenceClassification from the checkpoint of a model that you expect to be exactly identical (initializing a BertForSequenceClassification model from a BertForSequenceClassification model).\n",
      "Some weights of BertForSequenceClassification were not initialized from the model checkpoint at dbmdz/bert-base-french-europeana-cased and are newly initialized: ['classifier.weight', 'classifier.bias']\n",
      "You should probably TRAIN this model on a down-stream task to be able to use it for predictions and inference.\n",
      "Using the `WAND_DISABLED` environment variable is deprecated and will be removed in v5. Use the --report_to flag to control the integrations used for logging result (for instance --report_to none).\n"
     ]
    },
    {
     "data": {
      "text/html": [
       "\n",
       "    <div>\n",
       "        <style>\n",
       "            /* Turns off some styling */\n",
       "            progress {\n",
       "                /* gets rid of default border in Firefox and Opera. */\n",
       "                border: none;\n",
       "                /* Needs to be in here for Safari polyfill so background images work as expected. */\n",
       "                background-size: auto;\n",
       "            }\n",
       "        </style>\n",
       "      \n",
       "      <progress value='658' max='658' style='width:300px; height:20px; vertical-align: middle;'></progress>\n",
       "      [658/658 06:22, Epoch 7/7]\n",
       "    </div>\n",
       "    <table border=\"1\" class=\"dataframe\">\n",
       "  <thead>\n",
       "    <tr style=\"text-align: left;\">\n",
       "      <th>Epoch</th>\n",
       "      <th>Training Loss</th>\n",
       "      <th>Validation Loss</th>\n",
       "      <th>Accuracy</th>\n",
       "      <th>Runtime</th>\n",
       "      <th>Samples Per Second</th>\n",
       "    </tr>\n",
       "  </thead>\n",
       "  <tbody>\n",
       "    <tr>\n",
       "      <td>1</td>\n",
       "      <td>1.452000</td>\n",
       "      <td>0.622849</td>\n",
       "      <td>0.714286</td>\n",
       "      <td>0.151900</td>\n",
       "      <td>46.068000</td>\n",
       "    </tr>\n",
       "    <tr>\n",
       "      <td>2</td>\n",
       "      <td>0.720900</td>\n",
       "      <td>0.594356</td>\n",
       "      <td>0.714286</td>\n",
       "      <td>0.152000</td>\n",
       "      <td>46.061000</td>\n",
       "    </tr>\n",
       "    <tr>\n",
       "      <td>3</td>\n",
       "      <td>0.596200</td>\n",
       "      <td>0.392262</td>\n",
       "      <td>0.857143</td>\n",
       "      <td>0.184400</td>\n",
       "      <td>37.953000</td>\n",
       "    </tr>\n",
       "    <tr>\n",
       "      <td>4</td>\n",
       "      <td>0.535100</td>\n",
       "      <td>0.574941</td>\n",
       "      <td>0.857143</td>\n",
       "      <td>0.153400</td>\n",
       "      <td>45.644000</td>\n",
       "    </tr>\n",
       "    <tr>\n",
       "      <td>5</td>\n",
       "      <td>0.368600</td>\n",
       "      <td>0.852394</td>\n",
       "      <td>0.714286</td>\n",
       "      <td>0.151400</td>\n",
       "      <td>46.243000</td>\n",
       "    </tr>\n",
       "    <tr>\n",
       "      <td>6</td>\n",
       "      <td>0.219100</td>\n",
       "      <td>0.823878</td>\n",
       "      <td>0.714286</td>\n",
       "      <td>0.152600</td>\n",
       "      <td>45.858000</td>\n",
       "    </tr>\n",
       "    <tr>\n",
       "      <td>7</td>\n",
       "      <td>0.202700</td>\n",
       "      <td>0.705518</td>\n",
       "      <td>0.714286</td>\n",
       "      <td>0.152900</td>\n",
       "      <td>45.790000</td>\n",
       "    </tr>\n",
       "  </tbody>\n",
       "</table><p>"
      ],
      "text/plain": [
       "<IPython.core.display.HTML object>"
      ]
     },
     "metadata": {},
     "output_type": "display_data"
    }
   ],
   "source": [
    "train_set = CEFRDataset(train_set_df[\"text\"], train_set_df[\"label\"])\n",
    "valid_set = CEFRDataset(valid_set_df[\"text\"], valid_set_df[\"label\"])\n",
    "\n",
    "\n",
    "trainer_second = train(train_set, valid_set, epochs=epochs, warmup_size=0.2, lr=lr, batch_size=batch_size)\n",
    "model = trainer_second.model"
   ]
  },
  {
   "cell_type": "code",
   "execution_count": 26,
   "id": "c390edb8",
   "metadata": {
    "execution": {
     "iopub.execute_input": "2022-07-20T11:40:48.788829Z",
     "iopub.status.busy": "2022-07-20T11:40:48.788186Z",
     "iopub.status.idle": "2022-07-20T11:40:48.925224Z",
     "shell.execute_reply": "2022-07-20T11:40:48.925637Z"
    },
    "papermill": {
     "duration": 0.176709,
     "end_time": "2022-07-20T11:40:48.925794",
     "exception": false,
     "start_time": "2022-07-20T11:40:48.749085",
     "status": "completed"
    },
    "tags": []
   },
   "outputs": [
    {
     "name": "stderr",
     "output_type": "stream",
     "text": [
      "100%|██████████| 7/7 [00:00<00:00, 54.72it/s]\n"
     ]
    }
   ],
   "source": [
    "valid_set_df[\"preds\"] = train_set.encoder.inverse_transform(predict(model, valid_set_df.text.tolist()))\n",
    "valid_set_df.columns = [\"text\", \"cefr\", \"preds\",] "
   ]
  },
  {
   "cell_type": "code",
   "execution_count": 27,
   "id": "54a16951",
   "metadata": {
    "execution": {
     "iopub.execute_input": "2022-07-20T11:40:49.001561Z",
     "iopub.status.busy": "2022-07-20T11:40:49.000993Z",
     "iopub.status.idle": "2022-07-20T11:40:50.292075Z",
     "shell.execute_reply": "2022-07-20T11:40:50.292660Z"
    },
    "papermill": {
     "duration": 1.331144,
     "end_time": "2022-07-20T11:40:50.292860",
     "exception": false,
     "start_time": "2022-07-20T11:40:48.961716",
     "status": "completed"
    },
    "tags": []
   },
   "outputs": [
    {
     "name": "stderr",
     "output_type": "stream",
     "text": [
      "100%|██████████| 111/111 [00:01<00:00, 87.55it/s]\n"
     ]
    }
   ],
   "source": [
    "lingua = pd.read_csv(\"../input/lingua/fr_lingua.csv\")\n",
    "lingua[\"preds\"] = train_set.encoder.inverse_transform(predict(model, lingua.text.tolist()))"
   ]
  },
  {
   "cell_type": "code",
   "execution_count": 28,
   "id": "819c45c2",
   "metadata": {
    "execution": {
     "iopub.execute_input": "2022-07-20T11:40:50.388780Z",
     "iopub.status.busy": "2022-07-20T11:40:50.388224Z",
     "iopub.status.idle": "2022-07-20T11:40:50.390707Z",
     "shell.execute_reply": "2022-07-20T11:40:50.391164Z"
    },
    "papermill": {
     "duration": 0.057075,
     "end_time": "2022-07-20T11:40:50.391298",
     "exception": false,
     "start_time": "2022-07-20T11:40:50.334223",
     "status": "completed"
    },
    "tags": []
   },
   "outputs": [
    {
     "data": {
      "text/plain": [
       "(111, 3)"
      ]
     },
     "execution_count": 28,
     "metadata": {},
     "output_type": "execute_result"
    }
   ],
   "source": [
    "lingua.shape"
   ]
  },
  {
   "cell_type": "code",
   "execution_count": 29,
   "id": "aeea9e88",
   "metadata": {
    "execution": {
     "iopub.execute_input": "2022-07-20T11:40:50.473897Z",
     "iopub.status.busy": "2022-07-20T11:40:50.472959Z",
     "iopub.status.idle": "2022-07-20T11:40:50.479992Z",
     "shell.execute_reply": "2022-07-20T11:40:50.480516Z"
    },
    "papermill": {
     "duration": 0.049847,
     "end_time": "2022-07-20T11:40:50.480641",
     "exception": false,
     "start_time": "2022-07-20T11:40:50.430794",
     "status": "completed"
    },
    "tags": []
   },
   "outputs": [
    {
     "data": {
      "text/plain": [
       "B1    60\n",
       "A2    26\n",
       "A1    13\n",
       "B2    12\n",
       "Name: cefr, dtype: int64"
      ]
     },
     "execution_count": 29,
     "metadata": {},
     "output_type": "execute_result"
    }
   ],
   "source": [
    "lingua.cefr.value_counts()"
   ]
  },
  {
   "cell_type": "code",
   "execution_count": 30,
   "id": "9d8fe98b",
   "metadata": {
    "execution": {
     "iopub.execute_input": "2022-07-20T11:40:50.567195Z",
     "iopub.status.busy": "2022-07-20T11:40:50.566574Z",
     "iopub.status.idle": "2022-07-20T11:40:50.569102Z",
     "shell.execute_reply": "2022-07-20T11:40:50.569501Z"
    },
    "papermill": {
     "duration": 0.047823,
     "end_time": "2022-07-20T11:40:50.569625",
     "exception": false,
     "start_time": "2022-07-20T11:40:50.521802",
     "status": "completed"
    },
    "tags": []
   },
   "outputs": [
    {
     "data": {
      "text/plain": [
       "array([2, 0, 1, 3])"
      ]
     },
     "execution_count": 30,
     "metadata": {},
     "output_type": "execute_result"
    }
   ],
   "source": [
    "lingua.preds.unique()"
   ]
  },
  {
   "cell_type": "code",
   "execution_count": 31,
   "id": "f622e46e",
   "metadata": {
    "execution": {
     "iopub.execute_input": "2022-07-20T11:40:50.655490Z",
     "iopub.status.busy": "2022-07-20T11:40:50.654718Z",
     "iopub.status.idle": "2022-07-20T11:40:50.656625Z",
     "shell.execute_reply": "2022-07-20T11:40:50.657051Z"
    },
    "papermill": {
     "duration": 0.047574,
     "end_time": "2022-07-20T11:40:50.657166",
     "exception": false,
     "start_time": "2022-07-20T11:40:50.609592",
     "status": "completed"
    },
    "tags": []
   },
   "outputs": [],
   "source": [
    "def compute_average_distance(df, col_name=\"cefr\") :\n",
    "    \n",
    "    labels = [\"A1\", \"A2\", \"B1\", \"B2\", \"C1\", \"C2\"]\n",
    "    return (df[col_name].apply(lambda x: labels.index(x)) - df.preds.apply(lambda x: labels.index(x))).abs().mean()\n"
   ]
  },
  {
   "cell_type": "code",
   "execution_count": 32,
   "id": "b4162651",
   "metadata": {
    "execution": {
     "iopub.execute_input": "2022-07-20T11:40:50.744369Z",
     "iopub.status.busy": "2022-07-20T11:40:50.743726Z",
     "iopub.status.idle": "2022-07-20T11:40:50.746268Z",
     "shell.execute_reply": "2022-07-20T11:40:50.746679Z"
    },
    "papermill": {
     "duration": 0.048704,
     "end_time": "2022-07-20T11:40:50.746809",
     "exception": false,
     "start_time": "2022-07-20T11:40:50.698105",
     "status": "completed"
    },
    "tags": []
   },
   "outputs": [
    {
     "data": {
      "text/plain": [
       "2    88\n",
       "3    13\n",
       "0     5\n",
       "1     5\n",
       "Name: preds, dtype: int64"
      ]
     },
     "execution_count": 32,
     "metadata": {},
     "output_type": "execute_result"
    }
   ],
   "source": [
    "lingua.preds.value_counts()"
   ]
  },
  {
   "cell_type": "code",
   "execution_count": 33,
   "id": "6882f5a4",
   "metadata": {
    "execution": {
     "iopub.execute_input": "2022-07-20T11:40:50.834041Z",
     "iopub.status.busy": "2022-07-20T11:40:50.832826Z",
     "iopub.status.idle": "2022-07-20T11:40:50.836263Z",
     "shell.execute_reply": "2022-07-20T11:40:50.835851Z"
    },
    "papermill": {
     "duration": 0.048414,
     "end_time": "2022-07-20T11:40:50.836366",
     "exception": false,
     "start_time": "2022-07-20T11:40:50.787952",
     "status": "completed"
    },
    "tags": []
   },
   "outputs": [],
   "source": [
    "lingua[\"preds\"] = le.inverse_transform(lingua.preds)"
   ]
  },
  {
   "cell_type": "code",
   "execution_count": 34,
   "id": "5b8aa2a1",
   "metadata": {
    "execution": {
     "iopub.execute_input": "2022-07-20T11:40:50.966393Z",
     "iopub.status.busy": "2022-07-20T11:40:50.964047Z",
     "iopub.status.idle": "2022-07-20T11:40:50.970407Z",
     "shell.execute_reply": "2022-07-20T11:40:50.971079Z"
    },
    "papermill": {
     "duration": 0.093513,
     "end_time": "2022-07-20T11:40:50.971293",
     "exception": false,
     "start_time": "2022-07-20T11:40:50.877780",
     "status": "completed"
    },
    "tags": []
   },
   "outputs": [
    {
     "data": {
      "text/plain": [
       "B1    60\n",
       "A2    26\n",
       "A1    13\n",
       "B2    12\n",
       "Name: cefr, dtype: int64"
      ]
     },
     "execution_count": 34,
     "metadata": {},
     "output_type": "execute_result"
    }
   ],
   "source": [
    "lingua.cefr.value_counts()"
   ]
  },
  {
   "cell_type": "code",
   "execution_count": 35,
   "id": "eaf8cacb",
   "metadata": {
    "execution": {
     "iopub.execute_input": "2022-07-20T11:40:51.093481Z",
     "iopub.status.busy": "2022-07-20T11:40:51.092637Z",
     "iopub.status.idle": "2022-07-20T11:40:51.097749Z",
     "shell.execute_reply": "2022-07-20T11:40:51.097288Z"
    },
    "papermill": {
     "duration": 0.051116,
     "end_time": "2022-07-20T11:40:51.097870",
     "exception": false,
     "start_time": "2022-07-20T11:40:51.046754",
     "status": "completed"
    },
    "tags": []
   },
   "outputs": [
    {
     "data": {
      "text/plain": [
       "B1    88\n",
       "B2    13\n",
       "A1     5\n",
       "A2     5\n",
       "Name: preds, dtype: int64"
      ]
     },
     "execution_count": 35,
     "metadata": {},
     "output_type": "execute_result"
    }
   ],
   "source": [
    "lingua.preds.value_counts()"
   ]
  },
  {
   "cell_type": "code",
   "execution_count": 36,
   "id": "2bc4d20d",
   "metadata": {
    "execution": {
     "iopub.execute_input": "2022-07-20T11:40:51.191681Z",
     "iopub.status.busy": "2022-07-20T11:40:51.191047Z",
     "iopub.status.idle": "2022-07-20T11:40:51.194312Z",
     "shell.execute_reply": "2022-07-20T11:40:51.194723Z"
    },
    "papermill": {
     "duration": 0.054925,
     "end_time": "2022-07-20T11:40:51.194872",
     "exception": false,
     "start_time": "2022-07-20T11:40:51.139947",
     "status": "completed"
    },
    "tags": []
   },
   "outputs": [
    {
     "name": "stdout",
     "output_type": "stream",
     "text": [
      "Distance: \n",
      "0.5945945945945946\n",
      "Lingua accuracy: 0.5045045045045045\n"
     ]
    }
   ],
   "source": [
    "print(\"Distance: \")\n",
    "print(compute_average_distance(lingua, \"cefr\"))\n",
    "\n",
    "print(f\"Lingua accuracy: {(lingua['preds'] == lingua['cefr']).mean()}\")"
   ]
  },
  {
   "cell_type": "code",
   "execution_count": 37,
   "id": "a1d70da0",
   "metadata": {
    "execution": {
     "iopub.execute_input": "2022-07-20T11:40:51.283676Z",
     "iopub.status.busy": "2022-07-20T11:40:51.282921Z",
     "iopub.status.idle": "2022-07-20T11:40:51.285340Z",
     "shell.execute_reply": "2022-07-20T11:40:51.284909Z"
    },
    "papermill": {
     "duration": 0.048303,
     "end_time": "2022-07-20T11:40:51.285440",
     "exception": false,
     "start_time": "2022-07-20T11:40:51.237137",
     "status": "completed"
    },
    "tags": []
   },
   "outputs": [],
   "source": [
    "# for i in range(lingua.shape[0]):\n",
    "#     if (lingua.loc[i,\"preds\"]==\"C1\") | (lingua.loc[i,\"preds\"]==\"C2\") :\n",
    "#         lingua.loc[i,\"Predss\"]=\"B2\"\n",
    "#     else :\n",
    "#         lingua.loc[i,\"Predss\"]= lingua.loc[i,\"preds\"]\n",
    "# lingua[\"Predss\"].value_counts()"
   ]
  },
  {
   "cell_type": "code",
   "execution_count": 38,
   "id": "3f2c48c9",
   "metadata": {
    "execution": {
     "iopub.execute_input": "2022-07-20T11:40:51.373637Z",
     "iopub.status.busy": "2022-07-20T11:40:51.372855Z",
     "iopub.status.idle": "2022-07-20T11:40:51.374944Z",
     "shell.execute_reply": "2022-07-20T11:40:51.375379Z"
    },
    "papermill": {
     "duration": 0.047789,
     "end_time": "2022-07-20T11:40:51.375490",
     "exception": false,
     "start_time": "2022-07-20T11:40:51.327701",
     "status": "completed"
    },
    "tags": []
   },
   "outputs": [],
   "source": [
    "# print(\"Distance: \")\n",
    "# print(compute_average_distance(lingua, \"cefr\"))\n",
    "\n",
    "# print(f\"Lingua accuracy: {(lingua['Predss'] == lingua['cefr']).mean()}\")"
   ]
  },
  {
   "cell_type": "code",
   "execution_count": 39,
   "id": "2c235778",
   "metadata": {
    "execution": {
     "iopub.execute_input": "2022-07-20T11:40:51.466006Z",
     "iopub.status.busy": "2022-07-20T11:40:51.465220Z",
     "iopub.status.idle": "2022-07-20T11:40:51.467935Z",
     "shell.execute_reply": "2022-07-20T11:40:51.468344Z"
    },
    "papermill": {
     "duration": 0.049937,
     "end_time": "2022-07-20T11:40:51.468458",
     "exception": false,
     "start_time": "2022-07-20T11:40:51.418521",
     "status": "completed"
    },
    "tags": []
   },
   "outputs": [
    {
     "data": {
      "text/plain": [
       "Index(['text', 'cefr', 'preds'], dtype='object')"
      ]
     },
     "execution_count": 39,
     "metadata": {},
     "output_type": "execute_result"
    }
   ],
   "source": [
    "lingua.columns"
   ]
  },
  {
   "cell_type": "code",
   "execution_count": null,
   "id": "6ca0e465",
   "metadata": {
    "papermill": {
     "duration": 0.044984,
     "end_time": "2022-07-20T11:40:51.557405",
     "exception": false,
     "start_time": "2022-07-20T11:40:51.512421",
     "status": "completed"
    },
    "tags": []
   },
   "outputs": [],
   "source": []
  },
  {
   "cell_type": "code",
   "execution_count": 40,
   "id": "7dea6ef9",
   "metadata": {
    "execution": {
     "iopub.execute_input": "2022-07-20T11:40:51.646195Z",
     "iopub.status.busy": "2022-07-20T11:40:51.645438Z",
     "iopub.status.idle": "2022-07-20T11:40:51.647353Z",
     "shell.execute_reply": "2022-07-20T11:40:51.647866Z"
    },
    "papermill": {
     "duration": 0.047707,
     "end_time": "2022-07-20T11:40:51.648005",
     "exception": false,
     "start_time": "2022-07-20T11:40:51.600298",
     "status": "completed"
    },
    "tags": []
   },
   "outputs": [],
   "source": [
    "# lingua.columns=[\"text\",\"cefr\",\"preds:A1_A2_from_trans_data&new_data,acc:0.5\"]\n",
    "# lingua.to_csv(\"lingua1.csv\", index=False)"
   ]
  },
  {
   "cell_type": "markdown",
   "id": "40e936c8",
   "metadata": {
    "papermill": {
     "duration": 0.04322,
     "end_time": "2022-07-20T11:40:51.734781",
     "exception": false,
     "start_time": "2022-07-20T11:40:51.691561",
     "status": "completed"
    },
    "tags": []
   },
   "source": [
    "****"
   ]
  },
  {
   "cell_type": "markdown",
   "id": "71e0bdb1",
   "metadata": {
    "papermill": {
     "duration": 0.043837,
     "end_time": "2022-07-20T11:40:51.821559",
     "exception": false,
     "start_time": "2022-07-20T11:40:51.777722",
     "status": "completed"
    },
    "tags": []
   },
   "source": [
    "Distance: \n",
    "0.990990990990991\n",
    "Lingua accuracy: 0.40540540540540543 <br>\n",
    "2    82\n",
    "3    15\n",
    "5    10\n",
    "4     2\n",
    "0     1\n",
    "1     1 <br> \n",
    "inokufu/flaubert-base-uncased-xnli-sts-finetuned-education"
   ]
  },
  {
   "cell_type": "markdown",
   "id": "1066106d",
   "metadata": {
    "papermill": {
     "duration": 0.042732,
     "end_time": "2022-07-20T11:40:51.907843",
     "exception": false,
     "start_time": "2022-07-20T11:40:51.865111",
     "status": "completed"
    },
    "tags": []
   },
   "source": [
    "****"
   ]
  },
  {
   "cell_type": "markdown",
   "id": "1a228e62",
   "metadata": {
    "papermill": {
     "duration": 0.043116,
     "end_time": "2022-07-20T11:40:51.995415",
     "exception": false,
     "start_time": "2022-07-20T11:40:51.952299",
     "status": "completed"
    },
    "tags": []
   },
   "source": [
    "\n",
    "Distance: \n",
    "0.8648648648648649\n",
    "Lingua accuracy: 0.450450450450450462 <br>\n",
    "3     7\n",
    "1     5\n",
    "5     4\n",
    "4     4\n",
    "0     1 <br> inokufu/flaubert-base-uncased-xnli-sts-finetuned-education"
   ]
  },
  {
   "cell_type": "code",
   "execution_count": null,
   "id": "f43882ef",
   "metadata": {
    "papermill": {
     "duration": 0.614654,
     "end_time": "2022-07-20T11:40:52.653688",
     "exception": false,
     "start_time": "2022-07-20T11:40:52.039034",
     "status": "completed"
    },
    "tags": []
   },
   "outputs": [],
   "source": []
  },
  {
   "cell_type": "code",
   "execution_count": null,
   "id": "f6959b4c",
   "metadata": {
    "papermill": {
     "duration": 0.043814,
     "end_time": "2022-07-20T11:40:52.743184",
     "exception": false,
     "start_time": "2022-07-20T11:40:52.699370",
     "status": "completed"
    },
    "tags": []
   },
   "outputs": [],
   "source": []
  },
  {
   "cell_type": "code",
   "execution_count": null,
   "id": "a1e42b5f",
   "metadata": {
    "papermill": {
     "duration": 0.043396,
     "end_time": "2022-07-20T11:40:52.830042",
     "exception": false,
     "start_time": "2022-07-20T11:40:52.786646",
     "status": "completed"
    },
    "tags": []
   },
   "outputs": [],
   "source": []
  },
  {
   "cell_type": "code",
   "execution_count": null,
   "id": "2ced9bb3",
   "metadata": {
    "papermill": {
     "duration": 0.042827,
     "end_time": "2022-07-20T11:40:52.916869",
     "exception": false,
     "start_time": "2022-07-20T11:40:52.874042",
     "status": "completed"
    },
    "tags": []
   },
   "outputs": [],
   "source": []
  }
 ],
 "metadata": {
  "kernelspec": {
   "display_name": "Python 3",
   "language": "python",
   "name": "python3"
  },
  "language_info": {
   "codemirror_mode": {
    "name": "ipython",
    "version": 3
   },
   "file_extension": ".py",
   "mimetype": "text/x-python",
   "name": "python",
   "nbconvert_exporter": "python",
   "pygments_lexer": "ipython3",
   "version": "3.7.10"
  },
  "papermill": {
   "default_parameters": {},
   "duration": 464.580031,
   "end_time": "2022-07-20T11:40:56.490214",
   "environment_variables": {},
   "exception": null,
   "input_path": "__notebook__.ipynb",
   "output_path": "__notebook__.ipynb",
   "parameters": {},
   "start_time": "2022-07-20T11:33:11.910183",
   "version": "2.3.3"
  },
  "widgets": {
   "application/vnd.jupyter.widget-state+json": {
    "state": {
     "07f2c30bb78f42febb63969215e5f239": {
      "model_module": "@jupyter-widgets/base",
      "model_module_version": "1.2.0",
      "model_name": "LayoutModel",
      "state": {
       "_model_module": "@jupyter-widgets/base",
       "_model_module_version": "1.2.0",
       "_model_name": "LayoutModel",
       "_view_count": null,
       "_view_module": "@jupyter-widgets/base",
       "_view_module_version": "1.2.0",
       "_view_name": "LayoutView",
       "align_content": null,
       "align_items": null,
       "align_self": null,
       "border": null,
       "bottom": null,
       "display": null,
       "flex": null,
       "flex_flow": null,
       "grid_area": null,
       "grid_auto_columns": null,
       "grid_auto_flow": null,
       "grid_auto_rows": null,
       "grid_column": null,
       "grid_gap": null,
       "grid_row": null,
       "grid_template_areas": null,
       "grid_template_columns": null,
       "grid_template_rows": null,
       "height": null,
       "justify_content": null,
       "justify_items": null,
       "left": null,
       "margin": null,
       "max_height": null,
       "max_width": null,
       "min_height": null,
       "min_width": null,
       "object_fit": null,
       "object_position": null,
       "order": null,
       "overflow": null,
       "overflow_x": null,
       "overflow_y": null,
       "padding": null,
       "right": null,
       "top": null,
       "visibility": null,
       "width": null
      }
     },
     "0829d2abafbd45398d6ee682a6b58c33": {
      "model_module": "@jupyter-widgets/controls",
      "model_module_version": "1.5.0",
      "model_name": "HBoxModel",
      "state": {
       "_dom_classes": [],
       "_model_module": "@jupyter-widgets/controls",
       "_model_module_version": "1.5.0",
       "_model_name": "HBoxModel",
       "_view_count": null,
       "_view_module": "@jupyter-widgets/controls",
       "_view_module_version": "1.5.0",
       "_view_name": "HBoxView",
       "box_style": "",
       "children": [
        "IPY_MODEL_7accb9098e514a4c96738d756e9af321",
        "IPY_MODEL_5bb431e111cb41b39286a573d1e735f6",
        "IPY_MODEL_0fe1742d4a854b84ace15550d25f3fd1"
       ],
       "layout": "IPY_MODEL_e3cc7ff6f027401b81d31ce10bf1f0c2"
      }
     },
     "095bc0b426564125957438c1b14d00d9": {
      "model_module": "@jupyter-widgets/base",
      "model_module_version": "1.2.0",
      "model_name": "LayoutModel",
      "state": {
       "_model_module": "@jupyter-widgets/base",
       "_model_module_version": "1.2.0",
       "_model_name": "LayoutModel",
       "_view_count": null,
       "_view_module": "@jupyter-widgets/base",
       "_view_module_version": "1.2.0",
       "_view_name": "LayoutView",
       "align_content": null,
       "align_items": null,
       "align_self": null,
       "border": null,
       "bottom": null,
       "display": null,
       "flex": null,
       "flex_flow": null,
       "grid_area": null,
       "grid_auto_columns": null,
       "grid_auto_flow": null,
       "grid_auto_rows": null,
       "grid_column": null,
       "grid_gap": null,
       "grid_row": null,
       "grid_template_areas": null,
       "grid_template_columns": null,
       "grid_template_rows": null,
       "height": null,
       "justify_content": null,
       "justify_items": null,
       "left": null,
       "margin": null,
       "max_height": null,
       "max_width": null,
       "min_height": null,
       "min_width": null,
       "object_fit": null,
       "object_position": null,
       "order": null,
       "overflow": null,
       "overflow_x": null,
       "overflow_y": null,
       "padding": null,
       "right": null,
       "top": null,
       "visibility": null,
       "width": null
      }
     },
     "0bb323e7bf064335ad3e751e76e74a94": {
      "model_module": "@jupyter-widgets/controls",
      "model_module_version": "1.5.0",
      "model_name": "ProgressStyleModel",
      "state": {
       "_model_module": "@jupyter-widgets/controls",
       "_model_module_version": "1.5.0",
       "_model_name": "ProgressStyleModel",
       "_view_count": null,
       "_view_module": "@jupyter-widgets/base",
       "_view_module_version": "1.2.0",
       "_view_name": "StyleView",
       "bar_color": null,
       "description_width": ""
      }
     },
     "0fe1742d4a854b84ace15550d25f3fd1": {
      "model_module": "@jupyter-widgets/controls",
      "model_module_version": "1.5.0",
      "model_name": "HTMLModel",
      "state": {
       "_dom_classes": [],
       "_model_module": "@jupyter-widgets/controls",
       "_model_module_version": "1.5.0",
       "_model_name": "HTMLModel",
       "_view_count": null,
       "_view_module": "@jupyter-widgets/controls",
       "_view_module_version": "1.5.0",
       "_view_name": "HTMLView",
       "description": "",
       "description_tooltip": null,
       "layout": "IPY_MODEL_940ddd1db9ab40d388d70b0255180b98",
       "placeholder": "​",
       "style": "IPY_MODEL_9d4f30b96a8749cd865947b798affc9e",
       "value": " 420/420 [00:00&lt;00:00, 16.6kB/s]"
      }
     },
     "11dbd2a6c3e041adb5402cefc889feab": {
      "model_module": "@jupyter-widgets/controls",
      "model_module_version": "1.5.0",
      "model_name": "HTMLModel",
      "state": {
       "_dom_classes": [],
       "_model_module": "@jupyter-widgets/controls",
       "_model_module_version": "1.5.0",
       "_model_name": "HTMLModel",
       "_view_count": null,
       "_view_module": "@jupyter-widgets/controls",
       "_view_module_version": "1.5.0",
       "_view_name": "HTMLView",
       "description": "",
       "description_tooltip": null,
       "layout": "IPY_MODEL_76b3ce5425934126bd5221c0c3a4b822",
       "placeholder": "​",
       "style": "IPY_MODEL_c9f439569ee14134b36e6518bcd3d423",
       "value": "Downloading: 100%"
      }
     },
     "1a3bbfe6b49340aaab867c67964efd52": {
      "model_module": "@jupyter-widgets/base",
      "model_module_version": "1.2.0",
      "model_name": "LayoutModel",
      "state": {
       "_model_module": "@jupyter-widgets/base",
       "_model_module_version": "1.2.0",
       "_model_name": "LayoutModel",
       "_view_count": null,
       "_view_module": "@jupyter-widgets/base",
       "_view_module_version": "1.2.0",
       "_view_name": "LayoutView",
       "align_content": null,
       "align_items": null,
       "align_self": null,
       "border": null,
       "bottom": null,
       "display": null,
       "flex": null,
       "flex_flow": null,
       "grid_area": null,
       "grid_auto_columns": null,
       "grid_auto_flow": null,
       "grid_auto_rows": null,
       "grid_column": null,
       "grid_gap": null,
       "grid_row": null,
       "grid_template_areas": null,
       "grid_template_columns": null,
       "grid_template_rows": null,
       "height": null,
       "justify_content": null,
       "justify_items": null,
       "left": null,
       "margin": null,
       "max_height": null,
       "max_width": null,
       "min_height": null,
       "min_width": null,
       "object_fit": null,
       "object_position": null,
       "order": null,
       "overflow": null,
       "overflow_x": null,
       "overflow_y": null,
       "padding": null,
       "right": null,
       "top": null,
       "visibility": null,
       "width": null
      }
     },
     "2bae60afbe3a4524afa9c9bd44e4f5d2": {
      "model_module": "@jupyter-widgets/controls",
      "model_module_version": "1.5.0",
      "model_name": "DescriptionStyleModel",
      "state": {
       "_model_module": "@jupyter-widgets/controls",
       "_model_module_version": "1.5.0",
       "_model_name": "DescriptionStyleModel",
       "_view_count": null,
       "_view_module": "@jupyter-widgets/base",
       "_view_module_version": "1.2.0",
       "_view_name": "StyleView",
       "description_width": ""
      }
     },
     "2e32f6c25e2f4cf4b1c6f7b9b968f41b": {
      "model_module": "@jupyter-widgets/controls",
      "model_module_version": "1.5.0",
      "model_name": "FloatProgressModel",
      "state": {
       "_dom_classes": [],
       "_model_module": "@jupyter-widgets/controls",
       "_model_module_version": "1.5.0",
       "_model_name": "FloatProgressModel",
       "_view_count": null,
       "_view_module": "@jupyter-widgets/controls",
       "_view_module_version": "1.5.0",
       "_view_name": "ProgressView",
       "bar_style": "success",
       "description": "",
       "description_tooltip": null,
       "layout": "IPY_MODEL_966cb6787c5949e5b7785616d116367a",
       "max": 83.0,
       "min": 0.0,
       "orientation": "horizontal",
       "style": "IPY_MODEL_cc055feab3d74f64a46ef4de94fd478e",
       "value": 83.0
      }
     },
     "379becf312c44639b6c87fb111f2384c": {
      "model_module": "@jupyter-widgets/controls",
      "model_module_version": "1.5.0",
      "model_name": "HTMLModel",
      "state": {
       "_dom_classes": [],
       "_model_module": "@jupyter-widgets/controls",
       "_model_module_version": "1.5.0",
       "_model_name": "HTMLModel",
       "_view_count": null,
       "_view_module": "@jupyter-widgets/controls",
       "_view_module_version": "1.5.0",
       "_view_name": "HTMLView",
       "description": "",
       "description_tooltip": null,
       "layout": "IPY_MODEL_095bc0b426564125957438c1b14d00d9",
       "placeholder": "​",
       "style": "IPY_MODEL_787b39d82e8d4978b45d751fc8224ab3",
       "value": "Downloading: 100%"
      }
     },
     "4a9a07971fbe437fb5fe5d7e693fe807": {
      "model_module": "@jupyter-widgets/controls",
      "model_module_version": "1.5.0",
      "model_name": "DescriptionStyleModel",
      "state": {
       "_model_module": "@jupyter-widgets/controls",
       "_model_module_version": "1.5.0",
       "_model_name": "DescriptionStyleModel",
       "_view_count": null,
       "_view_module": "@jupyter-widgets/base",
       "_view_module_version": "1.2.0",
       "_view_name": "StyleView",
       "description_width": ""
      }
     },
     "4e89dbcbbd5b467fbb9529b0a586fda0": {
      "model_module": "@jupyter-widgets/base",
      "model_module_version": "1.2.0",
      "model_name": "LayoutModel",
      "state": {
       "_model_module": "@jupyter-widgets/base",
       "_model_module_version": "1.2.0",
       "_model_name": "LayoutModel",
       "_view_count": null,
       "_view_module": "@jupyter-widgets/base",
       "_view_module_version": "1.2.0",
       "_view_name": "LayoutView",
       "align_content": null,
       "align_items": null,
       "align_self": null,
       "border": null,
       "bottom": null,
       "display": null,
       "flex": null,
       "flex_flow": null,
       "grid_area": null,
       "grid_auto_columns": null,
       "grid_auto_flow": null,
       "grid_auto_rows": null,
       "grid_column": null,
       "grid_gap": null,
       "grid_row": null,
       "grid_template_areas": null,
       "grid_template_columns": null,
       "grid_template_rows": null,
       "height": null,
       "justify_content": null,
       "justify_items": null,
       "left": null,
       "margin": null,
       "max_height": null,
       "max_width": null,
       "min_height": null,
       "min_width": null,
       "object_fit": null,
       "object_position": null,
       "order": null,
       "overflow": null,
       "overflow_x": null,
       "overflow_y": null,
       "padding": null,
       "right": null,
       "top": null,
       "visibility": null,
       "width": null
      }
     },
     "4fc818e28a6a45a8b381de119e1c5dc6": {
      "model_module": "@jupyter-widgets/base",
      "model_module_version": "1.2.0",
      "model_name": "LayoutModel",
      "state": {
       "_model_module": "@jupyter-widgets/base",
       "_model_module_version": "1.2.0",
       "_model_name": "LayoutModel",
       "_view_count": null,
       "_view_module": "@jupyter-widgets/base",
       "_view_module_version": "1.2.0",
       "_view_name": "LayoutView",
       "align_content": null,
       "align_items": null,
       "align_self": null,
       "border": null,
       "bottom": null,
       "display": null,
       "flex": null,
       "flex_flow": null,
       "grid_area": null,
       "grid_auto_columns": null,
       "grid_auto_flow": null,
       "grid_auto_rows": null,
       "grid_column": null,
       "grid_gap": null,
       "grid_row": null,
       "grid_template_areas": null,
       "grid_template_columns": null,
       "grid_template_rows": null,
       "height": null,
       "justify_content": null,
       "justify_items": null,
       "left": null,
       "margin": null,
       "max_height": null,
       "max_width": null,
       "min_height": null,
       "min_width": null,
       "object_fit": null,
       "object_position": null,
       "order": null,
       "overflow": null,
       "overflow_x": null,
       "overflow_y": null,
       "padding": null,
       "right": null,
       "top": null,
       "visibility": null,
       "width": null
      }
     },
     "5bb431e111cb41b39286a573d1e735f6": {
      "model_module": "@jupyter-widgets/controls",
      "model_module_version": "1.5.0",
      "model_name": "FloatProgressModel",
      "state": {
       "_dom_classes": [],
       "_model_module": "@jupyter-widgets/controls",
       "_model_module_version": "1.5.0",
       "_model_name": "FloatProgressModel",
       "_view_count": null,
       "_view_module": "@jupyter-widgets/controls",
       "_view_module_version": "1.5.0",
       "_view_name": "ProgressView",
       "bar_style": "success",
       "description": "",
       "description_tooltip": null,
       "layout": "IPY_MODEL_1a3bbfe6b49340aaab867c67964efd52",
       "max": 420.0,
       "min": 0.0,
       "orientation": "horizontal",
       "style": "IPY_MODEL_7bd0cec268de45d0ba66a8237bba70c6",
       "value": 420.0
      }
     },
     "5fe7a4e65a174e8f9ce0606ece03e0d9": {
      "model_module": "@jupyter-widgets/controls",
      "model_module_version": "1.5.0",
      "model_name": "HTMLModel",
      "state": {
       "_dom_classes": [],
       "_model_module": "@jupyter-widgets/controls",
       "_model_module_version": "1.5.0",
       "_model_name": "HTMLModel",
       "_view_count": null,
       "_view_module": "@jupyter-widgets/controls",
       "_view_module_version": "1.5.0",
       "_view_name": "HTMLView",
       "description": "",
       "description_tooltip": null,
       "layout": "IPY_MODEL_d6ca413bff264562a14b80336a115f76",
       "placeholder": "​",
       "style": "IPY_MODEL_2bae60afbe3a4524afa9c9bd44e4f5d2",
       "value": " 445M/445M [00:38&lt;00:00, 12.3MB/s]"
      }
     },
     "76b3ce5425934126bd5221c0c3a4b822": {
      "model_module": "@jupyter-widgets/base",
      "model_module_version": "1.2.0",
      "model_name": "LayoutModel",
      "state": {
       "_model_module": "@jupyter-widgets/base",
       "_model_module_version": "1.2.0",
       "_model_name": "LayoutModel",
       "_view_count": null,
       "_view_module": "@jupyter-widgets/base",
       "_view_module_version": "1.2.0",
       "_view_name": "LayoutView",
       "align_content": null,
       "align_items": null,
       "align_self": null,
       "border": null,
       "bottom": null,
       "display": null,
       "flex": null,
       "flex_flow": null,
       "grid_area": null,
       "grid_auto_columns": null,
       "grid_auto_flow": null,
       "grid_auto_rows": null,
       "grid_column": null,
       "grid_gap": null,
       "grid_row": null,
       "grid_template_areas": null,
       "grid_template_columns": null,
       "grid_template_rows": null,
       "height": null,
       "justify_content": null,
       "justify_items": null,
       "left": null,
       "margin": null,
       "max_height": null,
       "max_width": null,
       "min_height": null,
       "min_width": null,
       "object_fit": null,
       "object_position": null,
       "order": null,
       "overflow": null,
       "overflow_x": null,
       "overflow_y": null,
       "padding": null,
       "right": null,
       "top": null,
       "visibility": null,
       "width": null
      }
     },
     "787b39d82e8d4978b45d751fc8224ab3": {
      "model_module": "@jupyter-widgets/controls",
      "model_module_version": "1.5.0",
      "model_name": "DescriptionStyleModel",
      "state": {
       "_model_module": "@jupyter-widgets/controls",
       "_model_module_version": "1.5.0",
       "_model_name": "DescriptionStyleModel",
       "_view_count": null,
       "_view_module": "@jupyter-widgets/base",
       "_view_module_version": "1.2.0",
       "_view_name": "StyleView",
       "description_width": ""
      }
     },
     "7accb9098e514a4c96738d756e9af321": {
      "model_module": "@jupyter-widgets/controls",
      "model_module_version": "1.5.0",
      "model_name": "HTMLModel",
      "state": {
       "_dom_classes": [],
       "_model_module": "@jupyter-widgets/controls",
       "_model_module_version": "1.5.0",
       "_model_name": "HTMLModel",
       "_view_count": null,
       "_view_module": "@jupyter-widgets/controls",
       "_view_module_version": "1.5.0",
       "_view_name": "HTMLView",
       "description": "",
       "description_tooltip": null,
       "layout": "IPY_MODEL_d71a165f45a24713ab4fc34b2b7550d7",
       "placeholder": "​",
       "style": "IPY_MODEL_8ece57cf0ef14b3d8e96eec370d866d5",
       "value": "Downloading: 100%"
      }
     },
     "7afbbe785be24ce2ab2758415fc40dd5": {
      "model_module": "@jupyter-widgets/base",
      "model_module_version": "1.2.0",
      "model_name": "LayoutModel",
      "state": {
       "_model_module": "@jupyter-widgets/base",
       "_model_module_version": "1.2.0",
       "_model_name": "LayoutModel",
       "_view_count": null,
       "_view_module": "@jupyter-widgets/base",
       "_view_module_version": "1.2.0",
       "_view_name": "LayoutView",
       "align_content": null,
       "align_items": null,
       "align_self": null,
       "border": null,
       "bottom": null,
       "display": null,
       "flex": null,
       "flex_flow": null,
       "grid_area": null,
       "grid_auto_columns": null,
       "grid_auto_flow": null,
       "grid_auto_rows": null,
       "grid_column": null,
       "grid_gap": null,
       "grid_row": null,
       "grid_template_areas": null,
       "grid_template_columns": null,
       "grid_template_rows": null,
       "height": null,
       "justify_content": null,
       "justify_items": null,
       "left": null,
       "margin": null,
       "max_height": null,
       "max_width": null,
       "min_height": null,
       "min_width": null,
       "object_fit": null,
       "object_position": null,
       "order": null,
       "overflow": null,
       "overflow_x": null,
       "overflow_y": null,
       "padding": null,
       "right": null,
       "top": null,
       "visibility": null,
       "width": null
      }
     },
     "7bd0cec268de45d0ba66a8237bba70c6": {
      "model_module": "@jupyter-widgets/controls",
      "model_module_version": "1.5.0",
      "model_name": "ProgressStyleModel",
      "state": {
       "_model_module": "@jupyter-widgets/controls",
       "_model_module_version": "1.5.0",
       "_model_name": "ProgressStyleModel",
       "_view_count": null,
       "_view_module": "@jupyter-widgets/base",
       "_view_module_version": "1.2.0",
       "_view_name": "StyleView",
       "bar_color": null,
       "description_width": ""
      }
     },
     "7c5b224764a949a9a26434ba14bcfe27": {
      "model_module": "@jupyter-widgets/base",
      "model_module_version": "1.2.0",
      "model_name": "LayoutModel",
      "state": {
       "_model_module": "@jupyter-widgets/base",
       "_model_module_version": "1.2.0",
       "_model_name": "LayoutModel",
       "_view_count": null,
       "_view_module": "@jupyter-widgets/base",
       "_view_module_version": "1.2.0",
       "_view_name": "LayoutView",
       "align_content": null,
       "align_items": null,
       "align_self": null,
       "border": null,
       "bottom": null,
       "display": null,
       "flex": null,
       "flex_flow": null,
       "grid_area": null,
       "grid_auto_columns": null,
       "grid_auto_flow": null,
       "grid_auto_rows": null,
       "grid_column": null,
       "grid_gap": null,
       "grid_row": null,
       "grid_template_areas": null,
       "grid_template_columns": null,
       "grid_template_rows": null,
       "height": null,
       "justify_content": null,
       "justify_items": null,
       "left": null,
       "margin": null,
       "max_height": null,
       "max_width": null,
       "min_height": null,
       "min_width": null,
       "object_fit": null,
       "object_position": null,
       "order": null,
       "overflow": null,
       "overflow_x": null,
       "overflow_y": null,
       "padding": null,
       "right": null,
       "top": null,
       "visibility": null,
       "width": null
      }
     },
     "800619bd6a84462f8abf9c78e98a1c54": {
      "model_module": "@jupyter-widgets/base",
      "model_module_version": "1.2.0",
      "model_name": "LayoutModel",
      "state": {
       "_model_module": "@jupyter-widgets/base",
       "_model_module_version": "1.2.0",
       "_model_name": "LayoutModel",
       "_view_count": null,
       "_view_module": "@jupyter-widgets/base",
       "_view_module_version": "1.2.0",
       "_view_name": "LayoutView",
       "align_content": null,
       "align_items": null,
       "align_self": null,
       "border": null,
       "bottom": null,
       "display": null,
       "flex": null,
       "flex_flow": null,
       "grid_area": null,
       "grid_auto_columns": null,
       "grid_auto_flow": null,
       "grid_auto_rows": null,
       "grid_column": null,
       "grid_gap": null,
       "grid_row": null,
       "grid_template_areas": null,
       "grid_template_columns": null,
       "grid_template_rows": null,
       "height": null,
       "justify_content": null,
       "justify_items": null,
       "left": null,
       "margin": null,
       "max_height": null,
       "max_width": null,
       "min_height": null,
       "min_width": null,
       "object_fit": null,
       "object_position": null,
       "order": null,
       "overflow": null,
       "overflow_x": null,
       "overflow_y": null,
       "padding": null,
       "right": null,
       "top": null,
       "visibility": null,
       "width": null
      }
     },
     "8ece57cf0ef14b3d8e96eec370d866d5": {
      "model_module": "@jupyter-widgets/controls",
      "model_module_version": "1.5.0",
      "model_name": "DescriptionStyleModel",
      "state": {
       "_model_module": "@jupyter-widgets/controls",
       "_model_module_version": "1.5.0",
       "_model_name": "DescriptionStyleModel",
       "_view_count": null,
       "_view_module": "@jupyter-widgets/base",
       "_view_module_version": "1.2.0",
       "_view_name": "StyleView",
       "description_width": ""
      }
     },
     "940ddd1db9ab40d388d70b0255180b98": {
      "model_module": "@jupyter-widgets/base",
      "model_module_version": "1.2.0",
      "model_name": "LayoutModel",
      "state": {
       "_model_module": "@jupyter-widgets/base",
       "_model_module_version": "1.2.0",
       "_model_name": "LayoutModel",
       "_view_count": null,
       "_view_module": "@jupyter-widgets/base",
       "_view_module_version": "1.2.0",
       "_view_name": "LayoutView",
       "align_content": null,
       "align_items": null,
       "align_self": null,
       "border": null,
       "bottom": null,
       "display": null,
       "flex": null,
       "flex_flow": null,
       "grid_area": null,
       "grid_auto_columns": null,
       "grid_auto_flow": null,
       "grid_auto_rows": null,
       "grid_column": null,
       "grid_gap": null,
       "grid_row": null,
       "grid_template_areas": null,
       "grid_template_columns": null,
       "grid_template_rows": null,
       "height": null,
       "justify_content": null,
       "justify_items": null,
       "left": null,
       "margin": null,
       "max_height": null,
       "max_width": null,
       "min_height": null,
       "min_width": null,
       "object_fit": null,
       "object_position": null,
       "order": null,
       "overflow": null,
       "overflow_x": null,
       "overflow_y": null,
       "padding": null,
       "right": null,
       "top": null,
       "visibility": null,
       "width": null
      }
     },
     "966cb6787c5949e5b7785616d116367a": {
      "model_module": "@jupyter-widgets/base",
      "model_module_version": "1.2.0",
      "model_name": "LayoutModel",
      "state": {
       "_model_module": "@jupyter-widgets/base",
       "_model_module_version": "1.2.0",
       "_model_name": "LayoutModel",
       "_view_count": null,
       "_view_module": "@jupyter-widgets/base",
       "_view_module_version": "1.2.0",
       "_view_name": "LayoutView",
       "align_content": null,
       "align_items": null,
       "align_self": null,
       "border": null,
       "bottom": null,
       "display": null,
       "flex": null,
       "flex_flow": null,
       "grid_area": null,
       "grid_auto_columns": null,
       "grid_auto_flow": null,
       "grid_auto_rows": null,
       "grid_column": null,
       "grid_gap": null,
       "grid_row": null,
       "grid_template_areas": null,
       "grid_template_columns": null,
       "grid_template_rows": null,
       "height": null,
       "justify_content": null,
       "justify_items": null,
       "left": null,
       "margin": null,
       "max_height": null,
       "max_width": null,
       "min_height": null,
       "min_width": null,
       "object_fit": null,
       "object_position": null,
       "order": null,
       "overflow": null,
       "overflow_x": null,
       "overflow_y": null,
       "padding": null,
       "right": null,
       "top": null,
       "visibility": null,
       "width": null
      }
     },
     "9d4f30b96a8749cd865947b798affc9e": {
      "model_module": "@jupyter-widgets/controls",
      "model_module_version": "1.5.0",
      "model_name": "DescriptionStyleModel",
      "state": {
       "_model_module": "@jupyter-widgets/controls",
       "_model_module_version": "1.5.0",
       "_model_name": "DescriptionStyleModel",
       "_view_count": null,
       "_view_module": "@jupyter-widgets/base",
       "_view_module_version": "1.2.0",
       "_view_name": "StyleView",
       "description_width": ""
      }
     },
     "a45f33f89433498ba05e63dc9dca799e": {
      "model_module": "@jupyter-widgets/controls",
      "model_module_version": "1.5.0",
      "model_name": "DescriptionStyleModel",
      "state": {
       "_model_module": "@jupyter-widgets/controls",
       "_model_module_version": "1.5.0",
       "_model_name": "DescriptionStyleModel",
       "_view_count": null,
       "_view_module": "@jupyter-widgets/base",
       "_view_module_version": "1.2.0",
       "_view_name": "StyleView",
       "description_width": ""
      }
     },
     "b572eb2aaa05489ba0bfb2adbbbf467b": {
      "model_module": "@jupyter-widgets/base",
      "model_module_version": "1.2.0",
      "model_name": "LayoutModel",
      "state": {
       "_model_module": "@jupyter-widgets/base",
       "_model_module_version": "1.2.0",
       "_model_name": "LayoutModel",
       "_view_count": null,
       "_view_module": "@jupyter-widgets/base",
       "_view_module_version": "1.2.0",
       "_view_name": "LayoutView",
       "align_content": null,
       "align_items": null,
       "align_self": null,
       "border": null,
       "bottom": null,
       "display": null,
       "flex": null,
       "flex_flow": null,
       "grid_area": null,
       "grid_auto_columns": null,
       "grid_auto_flow": null,
       "grid_auto_rows": null,
       "grid_column": null,
       "grid_gap": null,
       "grid_row": null,
       "grid_template_areas": null,
       "grid_template_columns": null,
       "grid_template_rows": null,
       "height": null,
       "justify_content": null,
       "justify_items": null,
       "left": null,
       "margin": null,
       "max_height": null,
       "max_width": null,
       "min_height": null,
       "min_width": null,
       "object_fit": null,
       "object_position": null,
       "order": null,
       "overflow": null,
       "overflow_x": null,
       "overflow_y": null,
       "padding": null,
       "right": null,
       "top": null,
       "visibility": null,
       "width": null
      }
     },
     "b7f3eadc50b94fc0a19110af343ed20d": {
      "model_module": "@jupyter-widgets/controls",
      "model_module_version": "1.5.0",
      "model_name": "HBoxModel",
      "state": {
       "_dom_classes": [],
       "_model_module": "@jupyter-widgets/controls",
       "_model_module_version": "1.5.0",
       "_model_name": "HBoxModel",
       "_view_count": null,
       "_view_module": "@jupyter-widgets/controls",
       "_view_module_version": "1.5.0",
       "_view_name": "HBoxView",
       "box_style": "",
       "children": [
        "IPY_MODEL_11dbd2a6c3e041adb5402cefc889feab",
        "IPY_MODEL_ddd2a3c9f7c94962af90380a21c86ffd",
        "IPY_MODEL_5fe7a4e65a174e8f9ce0606ece03e0d9"
       ],
       "layout": "IPY_MODEL_b572eb2aaa05489ba0bfb2adbbbf467b"
      }
     },
     "c10093200ff445768fc306d833e30566": {
      "model_module": "@jupyter-widgets/controls",
      "model_module_version": "1.5.0",
      "model_name": "HBoxModel",
      "state": {
       "_dom_classes": [],
       "_model_module": "@jupyter-widgets/controls",
       "_model_module_version": "1.5.0",
       "_model_name": "HBoxModel",
       "_view_count": null,
       "_view_module": "@jupyter-widgets/controls",
       "_view_module_version": "1.5.0",
       "_view_name": "HBoxView",
       "box_style": "",
       "children": [
        "IPY_MODEL_379becf312c44639b6c87fb111f2384c",
        "IPY_MODEL_fe3988e6dc2743eab8b499f143f6c05d",
        "IPY_MODEL_f7411ea4ad4140a1a51203bcb1e4f3c8"
       ],
       "layout": "IPY_MODEL_7c5b224764a949a9a26434ba14bcfe27"
      }
     },
     "c72c4b14443643b4ab4a0f8d6f79231c": {
      "model_module": "@jupyter-widgets/base",
      "model_module_version": "1.2.0",
      "model_name": "LayoutModel",
      "state": {
       "_model_module": "@jupyter-widgets/base",
       "_model_module_version": "1.2.0",
       "_model_name": "LayoutModel",
       "_view_count": null,
       "_view_module": "@jupyter-widgets/base",
       "_view_module_version": "1.2.0",
       "_view_name": "LayoutView",
       "align_content": null,
       "align_items": null,
       "align_self": null,
       "border": null,
       "bottom": null,
       "display": null,
       "flex": null,
       "flex_flow": null,
       "grid_area": null,
       "grid_auto_columns": null,
       "grid_auto_flow": null,
       "grid_auto_rows": null,
       "grid_column": null,
       "grid_gap": null,
       "grid_row": null,
       "grid_template_areas": null,
       "grid_template_columns": null,
       "grid_template_rows": null,
       "height": null,
       "justify_content": null,
       "justify_items": null,
       "left": null,
       "margin": null,
       "max_height": null,
       "max_width": null,
       "min_height": null,
       "min_width": null,
       "object_fit": null,
       "object_position": null,
       "order": null,
       "overflow": null,
       "overflow_x": null,
       "overflow_y": null,
       "padding": null,
       "right": null,
       "top": null,
       "visibility": null,
       "width": null
      }
     },
     "c9f439569ee14134b36e6518bcd3d423": {
      "model_module": "@jupyter-widgets/controls",
      "model_module_version": "1.5.0",
      "model_name": "DescriptionStyleModel",
      "state": {
       "_model_module": "@jupyter-widgets/controls",
       "_model_module_version": "1.5.0",
       "_model_name": "DescriptionStyleModel",
       "_view_count": null,
       "_view_module": "@jupyter-widgets/base",
       "_view_module_version": "1.2.0",
       "_view_name": "StyleView",
       "description_width": ""
      }
     },
     "cc055feab3d74f64a46ef4de94fd478e": {
      "model_module": "@jupyter-widgets/controls",
      "model_module_version": "1.5.0",
      "model_name": "ProgressStyleModel",
      "state": {
       "_model_module": "@jupyter-widgets/controls",
       "_model_module_version": "1.5.0",
       "_model_name": "ProgressStyleModel",
       "_view_count": null,
       "_view_module": "@jupyter-widgets/base",
       "_view_module_version": "1.2.0",
       "_view_name": "StyleView",
       "bar_color": null,
       "description_width": ""
      }
     },
     "d18967a6895d4559bd1e895f99a66f17": {
      "model_module": "@jupyter-widgets/controls",
      "model_module_version": "1.5.0",
      "model_name": "ProgressStyleModel",
      "state": {
       "_model_module": "@jupyter-widgets/controls",
       "_model_module_version": "1.5.0",
       "_model_name": "ProgressStyleModel",
       "_view_count": null,
       "_view_module": "@jupyter-widgets/base",
       "_view_module_version": "1.2.0",
       "_view_name": "StyleView",
       "bar_color": null,
       "description_width": ""
      }
     },
     "d6ca413bff264562a14b80336a115f76": {
      "model_module": "@jupyter-widgets/base",
      "model_module_version": "1.2.0",
      "model_name": "LayoutModel",
      "state": {
       "_model_module": "@jupyter-widgets/base",
       "_model_module_version": "1.2.0",
       "_model_name": "LayoutModel",
       "_view_count": null,
       "_view_module": "@jupyter-widgets/base",
       "_view_module_version": "1.2.0",
       "_view_name": "LayoutView",
       "align_content": null,
       "align_items": null,
       "align_self": null,
       "border": null,
       "bottom": null,
       "display": null,
       "flex": null,
       "flex_flow": null,
       "grid_area": null,
       "grid_auto_columns": null,
       "grid_auto_flow": null,
       "grid_auto_rows": null,
       "grid_column": null,
       "grid_gap": null,
       "grid_row": null,
       "grid_template_areas": null,
       "grid_template_columns": null,
       "grid_template_rows": null,
       "height": null,
       "justify_content": null,
       "justify_items": null,
       "left": null,
       "margin": null,
       "max_height": null,
       "max_width": null,
       "min_height": null,
       "min_width": null,
       "object_fit": null,
       "object_position": null,
       "order": null,
       "overflow": null,
       "overflow_x": null,
       "overflow_y": null,
       "padding": null,
       "right": null,
       "top": null,
       "visibility": null,
       "width": null
      }
     },
     "d71a165f45a24713ab4fc34b2b7550d7": {
      "model_module": "@jupyter-widgets/base",
      "model_module_version": "1.2.0",
      "model_name": "LayoutModel",
      "state": {
       "_model_module": "@jupyter-widgets/base",
       "_model_module_version": "1.2.0",
       "_model_name": "LayoutModel",
       "_view_count": null,
       "_view_module": "@jupyter-widgets/base",
       "_view_module_version": "1.2.0",
       "_view_name": "LayoutView",
       "align_content": null,
       "align_items": null,
       "align_self": null,
       "border": null,
       "bottom": null,
       "display": null,
       "flex": null,
       "flex_flow": null,
       "grid_area": null,
       "grid_auto_columns": null,
       "grid_auto_flow": null,
       "grid_auto_rows": null,
       "grid_column": null,
       "grid_gap": null,
       "grid_row": null,
       "grid_template_areas": null,
       "grid_template_columns": null,
       "grid_template_rows": null,
       "height": null,
       "justify_content": null,
       "justify_items": null,
       "left": null,
       "margin": null,
       "max_height": null,
       "max_width": null,
       "min_height": null,
       "min_width": null,
       "object_fit": null,
       "object_position": null,
       "order": null,
       "overflow": null,
       "overflow_x": null,
       "overflow_y": null,
       "padding": null,
       "right": null,
       "top": null,
       "visibility": null,
       "width": null
      }
     },
     "ddd2a3c9f7c94962af90380a21c86ffd": {
      "model_module": "@jupyter-widgets/controls",
      "model_module_version": "1.5.0",
      "model_name": "FloatProgressModel",
      "state": {
       "_dom_classes": [],
       "_model_module": "@jupyter-widgets/controls",
       "_model_module_version": "1.5.0",
       "_model_name": "FloatProgressModel",
       "_view_count": null,
       "_view_module": "@jupyter-widgets/controls",
       "_view_module_version": "1.5.0",
       "_view_name": "ProgressView",
       "bar_style": "success",
       "description": "",
       "description_tooltip": null,
       "layout": "IPY_MODEL_7afbbe785be24ce2ab2758415fc40dd5",
       "max": 445018784.0,
       "min": 0.0,
       "orientation": "horizontal",
       "style": "IPY_MODEL_d18967a6895d4559bd1e895f99a66f17",
       "value": 445018784.0
      }
     },
     "e3cc7ff6f027401b81d31ce10bf1f0c2": {
      "model_module": "@jupyter-widgets/base",
      "model_module_version": "1.2.0",
      "model_name": "LayoutModel",
      "state": {
       "_model_module": "@jupyter-widgets/base",
       "_model_module_version": "1.2.0",
       "_model_name": "LayoutModel",
       "_view_count": null,
       "_view_module": "@jupyter-widgets/base",
       "_view_module_version": "1.2.0",
       "_view_name": "LayoutView",
       "align_content": null,
       "align_items": null,
       "align_self": null,
       "border": null,
       "bottom": null,
       "display": null,
       "flex": null,
       "flex_flow": null,
       "grid_area": null,
       "grid_auto_columns": null,
       "grid_auto_flow": null,
       "grid_auto_rows": null,
       "grid_column": null,
       "grid_gap": null,
       "grid_row": null,
       "grid_template_areas": null,
       "grid_template_columns": null,
       "grid_template_rows": null,
       "height": null,
       "justify_content": null,
       "justify_items": null,
       "left": null,
       "margin": null,
       "max_height": null,
       "max_width": null,
       "min_height": null,
       "min_width": null,
       "object_fit": null,
       "object_position": null,
       "order": null,
       "overflow": null,
       "overflow_x": null,
       "overflow_y": null,
       "padding": null,
       "right": null,
       "top": null,
       "visibility": null,
       "width": null
      }
     },
     "ec61eddbb64340fb9a5a20a9cc9ea1aa": {
      "model_module": "@jupyter-widgets/controls",
      "model_module_version": "1.5.0",
      "model_name": "HTMLModel",
      "state": {
       "_dom_classes": [],
       "_model_module": "@jupyter-widgets/controls",
       "_model_module_version": "1.5.0",
       "_model_name": "HTMLModel",
       "_view_count": null,
       "_view_module": "@jupyter-widgets/controls",
       "_view_module_version": "1.5.0",
       "_view_name": "HTMLView",
       "description": "",
       "description_tooltip": null,
       "layout": "IPY_MODEL_800619bd6a84462f8abf9c78e98a1c54",
       "placeholder": "​",
       "style": "IPY_MODEL_4a9a07971fbe437fb5fe5d7e693fe807",
       "value": "Downloading: 100%"
      }
     },
     "efcacf240a1f45b79f8c957d841b7e79": {
      "model_module": "@jupyter-widgets/controls",
      "model_module_version": "1.5.0",
      "model_name": "HBoxModel",
      "state": {
       "_dom_classes": [],
       "_model_module": "@jupyter-widgets/controls",
       "_model_module_version": "1.5.0",
       "_model_name": "HBoxModel",
       "_view_count": null,
       "_view_module": "@jupyter-widgets/controls",
       "_view_module_version": "1.5.0",
       "_view_name": "HBoxView",
       "box_style": "",
       "children": [
        "IPY_MODEL_ec61eddbb64340fb9a5a20a9cc9ea1aa",
        "IPY_MODEL_2e32f6c25e2f4cf4b1c6f7b9b968f41b",
        "IPY_MODEL_f8db344024f84ee39b2e8b8a341d7d21"
       ],
       "layout": "IPY_MODEL_4fc818e28a6a45a8b381de119e1c5dc6"
      }
     },
     "f7411ea4ad4140a1a51203bcb1e4f3c8": {
      "model_module": "@jupyter-widgets/controls",
      "model_module_version": "1.5.0",
      "model_name": "HTMLModel",
      "state": {
       "_dom_classes": [],
       "_model_module": "@jupyter-widgets/controls",
       "_model_module_version": "1.5.0",
       "_model_name": "HTMLModel",
       "_view_count": null,
       "_view_module": "@jupyter-widgets/controls",
       "_view_module_version": "1.5.0",
       "_view_name": "HTMLView",
       "description": "",
       "description_tooltip": null,
       "layout": "IPY_MODEL_07f2c30bb78f42febb63969215e5f239",
       "placeholder": "​",
       "style": "IPY_MODEL_a45f33f89433498ba05e63dc9dca799e",
       "value": " 227k/227k [00:00&lt;00:00, 631kB/s]"
      }
     },
     "f8db344024f84ee39b2e8b8a341d7d21": {
      "model_module": "@jupyter-widgets/controls",
      "model_module_version": "1.5.0",
      "model_name": "HTMLModel",
      "state": {
       "_dom_classes": [],
       "_model_module": "@jupyter-widgets/controls",
       "_model_module_version": "1.5.0",
       "_model_name": "HTMLModel",
       "_view_count": null,
       "_view_module": "@jupyter-widgets/controls",
       "_view_module_version": "1.5.0",
       "_view_name": "HTMLView",
       "description": "",
       "description_tooltip": null,
       "layout": "IPY_MODEL_4e89dbcbbd5b467fbb9529b0a586fda0",
       "placeholder": "​",
       "style": "IPY_MODEL_facc678b691a4e3382ef89623a849d5e",
       "value": " 83.0/83.0 [00:00&lt;00:00, 3.13kB/s]"
      }
     },
     "facc678b691a4e3382ef89623a849d5e": {
      "model_module": "@jupyter-widgets/controls",
      "model_module_version": "1.5.0",
      "model_name": "DescriptionStyleModel",
      "state": {
       "_model_module": "@jupyter-widgets/controls",
       "_model_module_version": "1.5.0",
       "_model_name": "DescriptionStyleModel",
       "_view_count": null,
       "_view_module": "@jupyter-widgets/base",
       "_view_module_version": "1.2.0",
       "_view_name": "StyleView",
       "description_width": ""
      }
     },
     "fe3988e6dc2743eab8b499f143f6c05d": {
      "model_module": "@jupyter-widgets/controls",
      "model_module_version": "1.5.0",
      "model_name": "FloatProgressModel",
      "state": {
       "_dom_classes": [],
       "_model_module": "@jupyter-widgets/controls",
       "_model_module_version": "1.5.0",
       "_model_name": "FloatProgressModel",
       "_view_count": null,
       "_view_module": "@jupyter-widgets/controls",
       "_view_module_version": "1.5.0",
       "_view_name": "ProgressView",
       "bar_style": "success",
       "description": "",
       "description_tooltip": null,
       "layout": "IPY_MODEL_c72c4b14443643b4ab4a0f8d6f79231c",
       "max": 227141.0,
       "min": 0.0,
       "orientation": "horizontal",
       "style": "IPY_MODEL_0bb323e7bf064335ad3e751e76e74a94",
       "value": 227141.0
      }
     }
    },
    "version_major": 2,
    "version_minor": 0
   }
  }
 },
 "nbformat": 4,
 "nbformat_minor": 5
}
