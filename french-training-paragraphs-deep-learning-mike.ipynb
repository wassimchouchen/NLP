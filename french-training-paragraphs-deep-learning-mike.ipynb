{
 "cells": [
  {
   "cell_type": "code",
   "execution_count": 1,
   "id": "c81ed62d",
   "metadata": {
    "_cell_guid": "b1076dfc-b9ad-4769-8c92-a6c4dae69d19",
    "_uuid": "8f2839f25d086af736a60e9eeb907d3b93b6e0e5",
    "execution": {
     "iopub.execute_input": "2022-07-20T13:36:35.732208Z",
     "iopub.status.busy": "2022-07-20T13:36:35.730666Z",
     "iopub.status.idle": "2022-07-20T13:36:43.667523Z",
     "shell.execute_reply": "2022-07-20T13:36:43.666898Z",
     "shell.execute_reply.started": "2022-07-20T11:25:56.305474Z"
    },
    "papermill": {
     "duration": 7.989726,
     "end_time": "2022-07-20T13:36:43.667687",
     "exception": false,
     "start_time": "2022-07-20T13:36:35.677961",
     "status": "completed"
    },
    "tags": []
   },
   "outputs": [],
   "source": [
    "import os\n",
    "\n",
    "import random\n",
    "import numpy as np\n",
    "\n",
    "import pandas as pd\n",
    "import torch\n",
    "from torch.utils.data import Dataset, random_split\n",
    "from transformers import (\n",
    "    AdamW,\n",
    "    Trainer,\n",
    "    TrainingArguments,\n",
    "    AutoTokenizer,\n",
    "    AutoModelForSequenceClassification,\n",
    "    get_cosine_schedule_with_warmup,\n",
    ")\n",
    "from sklearn.preprocessing import LabelEncoder\n",
    "from sklearn.metrics import accuracy_score"
   ]
  },
  {
   "cell_type": "code",
   "execution_count": 2,
   "id": "bcafcecc",
   "metadata": {
    "execution": {
     "iopub.execute_input": "2022-07-20T13:36:43.729551Z",
     "iopub.status.busy": "2022-07-20T13:36:43.728806Z",
     "iopub.status.idle": "2022-07-20T13:36:47.336061Z",
     "shell.execute_reply": "2022-07-20T13:36:47.335398Z",
     "shell.execute_reply.started": "2022-07-20T11:25:56.531838Z"
    },
    "papermill": {
     "duration": 3.638662,
     "end_time": "2022-07-20T13:36:47.336282",
     "exception": false,
     "start_time": "2022-07-20T13:36:43.697620",
     "status": "completed"
    },
    "tags": []
   },
   "outputs": [
    {
     "data": {
      "application/vnd.jupyter.widget-view+json": {
       "model_id": "0541f3e8f2a748c7b3b7ad010e4247b6",
       "version_major": 2,
       "version_minor": 0
      },
      "text/plain": [
       "Downloading:   0%|          | 0.00/420 [00:00<?, ?B/s]"
      ]
     },
     "metadata": {},
     "output_type": "display_data"
    },
    {
     "data": {
      "application/vnd.jupyter.widget-view+json": {
       "model_id": "9065c7bfa7404d75b378132f136fe61d",
       "version_major": 2,
       "version_minor": 0
      },
      "text/plain": [
       "Downloading:   0%|          | 0.00/227k [00:00<?, ?B/s]"
      ]
     },
     "metadata": {},
     "output_type": "display_data"
    },
    {
     "data": {
      "application/vnd.jupyter.widget-view+json": {
       "model_id": "35897229e427423984072b897abb1122",
       "version_major": 2,
       "version_minor": 0
      },
      "text/plain": [
       "Downloading:   0%|          | 0.00/83.0 [00:00<?, ?B/s]"
      ]
     },
     "metadata": {},
     "output_type": "display_data"
    }
   ],
   "source": [
    "model_name = \"dbmdz/bert-base-french-europeana-cased\"\n",
    "\n",
    "tokenizer = AutoTokenizer.from_pretrained(model_name)\n",
    "\n",
    "device = torch.device(\"cuda\" if torch.cuda.is_available() else \"cpu\")"
   ]
  },
  {
   "cell_type": "code",
   "execution_count": 3,
   "id": "1b56456e",
   "metadata": {
    "execution": {
     "iopub.execute_input": "2022-07-20T13:36:47.407196Z",
     "iopub.status.busy": "2022-07-20T13:36:47.406230Z",
     "iopub.status.idle": "2022-07-20T13:36:47.408101Z",
     "shell.execute_reply": "2022-07-20T13:36:47.408650Z",
     "shell.execute_reply.started": "2022-07-20T11:25:58.684595Z"
    },
    "papermill": {
     "duration": 0.03899,
     "end_time": "2022-07-20T13:36:47.408787",
     "exception": false,
     "start_time": "2022-07-20T13:36:47.369797",
     "status": "completed"
    },
    "tags": []
   },
   "outputs": [],
   "source": [
    "lr = 2e-5\n",
    "epochs =  6\n",
    "batch_size = 5\n",
    "max_seq_len = 75\n",
    "\n",
    "test_frac = 0.1"
   ]
  },
  {
   "cell_type": "code",
   "execution_count": 4,
   "id": "6e498a5c",
   "metadata": {
    "execution": {
     "iopub.execute_input": "2022-07-20T13:36:47.478197Z",
     "iopub.status.busy": "2022-07-20T13:36:47.477376Z",
     "iopub.status.idle": "2022-07-20T13:36:47.482549Z",
     "shell.execute_reply": "2022-07-20T13:36:47.481997Z",
     "shell.execute_reply.started": "2022-07-20T11:25:58.696750Z"
    },
    "papermill": {
     "duration": 0.042408,
     "end_time": "2022-07-20T13:36:47.482667",
     "exception": false,
     "start_time": "2022-07-20T13:36:47.440259",
     "status": "completed"
    },
    "tags": []
   },
   "outputs": [],
   "source": [
    "import os\n",
    "\n",
    "def set_seed(seed=106052):\n",
    "    \"\"\"Set seed for reproducibility.\n",
    "    \"\"\"\n",
    "    random.seed(seed)\n",
    "    np.random.seed(seed)\n",
    "    torch.manual_seed(seed)\n",
    "    torch.cuda.manual_seed_all(seed)\n",
    "    \n",
    "    os.environ['PYTHONHASHSEED'] = str(seed)\n",
    "    \n",
    "set_seed()"
   ]
  },
  {
   "cell_type": "code",
   "execution_count": 5,
   "id": "55f3cc9a",
   "metadata": {
    "execution": {
     "iopub.execute_input": "2022-07-20T13:36:47.556234Z",
     "iopub.status.busy": "2022-07-20T13:36:47.554493Z",
     "iopub.status.idle": "2022-07-20T13:36:47.556872Z",
     "shell.execute_reply": "2022-07-20T13:36:47.557365Z",
     "shell.execute_reply.started": "2022-07-20T11:25:58.714855Z"
    },
    "papermill": {
     "duration": 0.043328,
     "end_time": "2022-07-20T13:36:47.557531",
     "exception": false,
     "start_time": "2022-07-20T13:36:47.514203",
     "status": "completed"
    },
    "tags": []
   },
   "outputs": [],
   "source": [
    "class CEFRDataset(Dataset):\n",
    "    \"\"\"Classification dataset, built on top of pytorch dataset object\n",
    "    \"\"\"\n",
    "    \n",
    "    def __init__(self, texts, labels):\n",
    "        \n",
    "        self.encoder = LabelEncoder()\n",
    "        print(self.encoder.__dict__)\n",
    "        self.texts = texts\n",
    "        self.labels = self.encoder.fit_transform(labels)\n",
    "\n",
    "    def __len__(self):\n",
    "        return len(self.texts)\n",
    "\n",
    "    def __getitem__(self, index):\n",
    "        text = self.texts[index]\n",
    "        label = self.labels[index]\n",
    "        encoded_text = tokenizer(\n",
    "            text,\n",
    "            padding=\"max_length\",\n",
    "            max_length=max_seq_len,\n",
    "            truncation=True,\n",
    "            return_tensors=\"pt\",\n",
    "        )\n",
    "        encoded_text[\"input_ids\"] = encoded_text[\"input_ids\"].squeeze()\n",
    "        encoded_text[\"attention_mask\"] = encoded_text[\"attention_mask\"].squeeze()\n",
    "        label = torch.tensor(label)\n",
    "\n",
    "        return {\n",
    "            \"input_ids\": encoded_text[\"input_ids\"],\n",
    "            \"attention_mask\": encoded_text[\"attention_mask\"],\n",
    "            \"labels\": label,\n",
    "        }\n",
    "\n",
    "    def get_labels(self):\n",
    "        return self.labels"
   ]
  },
  {
   "cell_type": "code",
   "execution_count": 6,
   "id": "e7e9cd33",
   "metadata": {
    "execution": {
     "iopub.execute_input": "2022-07-20T13:36:47.628426Z",
     "iopub.status.busy": "2022-07-20T13:36:47.627581Z",
     "iopub.status.idle": "2022-07-20T13:36:47.629779Z",
     "shell.execute_reply": "2022-07-20T13:36:47.630292Z",
     "shell.execute_reply.started": "2022-07-20T11:25:58.733763Z"
    },
    "papermill": {
     "duration": 0.041549,
     "end_time": "2022-07-20T13:36:47.630445",
     "exception": false,
     "start_time": "2022-07-20T13:36:47.588896",
     "status": "completed"
    },
    "tags": []
   },
   "outputs": [],
   "source": [
    "def train(train_set, valid_set, epochs=10, warmup_size=0.1, lr=1e-3, batch_size=16):\n",
    "    model = get_model(model_name)\n",
    "    optim = AdamW(model.parameters(), lr=lr)\n",
    "    scheduler = get_scheduler(\n",
    "        optim, warmup_size, round(len(train_set) / batch_size * epochs)\n",
    "    )\n",
    "    training_args = get_training_args(epochs, batch_size)\n",
    "    trainer = Trainer(\n",
    "        model=model,\n",
    "        args=training_args,\n",
    "        train_dataset=train_set,\n",
    "        eval_dataset=valid_set,\n",
    "        optimizers=[optim, scheduler],\n",
    "        compute_metrics=compute_accuracy,\n",
    "    )\n",
    "    trainer.train()\n",
    "    trainer.save_model()\n",
    "    return trainer"
   ]
  },
  {
   "cell_type": "code",
   "execution_count": 7,
   "id": "eea32eff",
   "metadata": {
    "execution": {
     "iopub.execute_input": "2022-07-20T13:36:47.698750Z",
     "iopub.status.busy": "2022-07-20T13:36:47.697133Z",
     "iopub.status.idle": "2022-07-20T13:36:47.699394Z",
     "shell.execute_reply": "2022-07-20T13:36:47.699906Z",
     "shell.execute_reply.started": "2022-07-20T11:25:58.750104Z"
    },
    "papermill": {
     "duration": 0.038315,
     "end_time": "2022-07-20T13:36:47.700039",
     "exception": false,
     "start_time": "2022-07-20T13:36:47.661724",
     "status": "completed"
    },
    "tags": []
   },
   "outputs": [],
   "source": [
    "def get_model(pretrained_checkpoint):\n",
    "    model = AutoModelForSequenceClassification.from_pretrained(\n",
    "        pretrained_checkpoint, num_labels=6\n",
    "    )\n",
    "    return model.to(device)"
   ]
  },
  {
   "cell_type": "code",
   "execution_count": 8,
   "id": "9c06eb68",
   "metadata": {
    "execution": {
     "iopub.execute_input": "2022-07-20T13:36:47.771932Z",
     "iopub.status.busy": "2022-07-20T13:36:47.770991Z",
     "iopub.status.idle": "2022-07-20T13:36:47.772953Z",
     "shell.execute_reply": "2022-07-20T13:36:47.773561Z",
     "shell.execute_reply.started": "2022-07-20T11:25:58.761018Z"
    },
    "papermill": {
     "duration": 0.042487,
     "end_time": "2022-07-20T13:36:47.773701",
     "exception": false,
     "start_time": "2022-07-20T13:36:47.731214",
     "status": "completed"
    },
    "tags": []
   },
   "outputs": [],
   "source": [
    "os.environ[\"WANDB_DISABLED\"] = \"true\"\n",
    "\n",
    "\n",
    "def get_scheduler(optimizer, warmup_size, total_steps):\n",
    "    scheduler = get_cosine_schedule_with_warmup(\n",
    "        optimizer,\n",
    "        num_warmup_steps=round(total_steps * warmup_size),\n",
    "        num_training_steps=total_steps,\n",
    "    )\n",
    "    return scheduler\n",
    "\n",
    "\n",
    "def get_training_args(epochs, batch_size):\n",
    "    return TrainingArguments(\n",
    "        output_dir=\"./b\",\n",
    "        num_train_epochs=epochs,\n",
    "        per_device_train_batch_size=batch_size,\n",
    "        logging_steps=50,\n",
    "        fp16=False,\n",
    "        evaluation_strategy=\"epoch\",\n",
    "        eval_accumulation_steps=1,\n",
    "        report_to=None,\n",
    "        save_total_limit=1,\n",
    "        load_best_model_at_end=True\n",
    "    )\n",
    "\n",
    "\n",
    "def compute_accuracy(pred):\n",
    "    labels = pred.label_ids\n",
    "    preds = pred.predictions.argmax(-1)\n",
    "    acc = accuracy_score(labels, preds)\n",
    "    return {\"accuracy\": acc}\n",
    "\n"
   ]
  },
  {
   "cell_type": "code",
   "execution_count": 9,
   "id": "443a1a62",
   "metadata": {
    "execution": {
     "iopub.execute_input": "2022-07-20T13:36:47.841253Z",
     "iopub.status.busy": "2022-07-20T13:36:47.840684Z",
     "iopub.status.idle": "2022-07-20T13:36:47.845021Z",
     "shell.execute_reply": "2022-07-20T13:36:47.844448Z",
     "shell.execute_reply.started": "2022-07-20T11:25:58.778927Z"
    },
    "papermill": {
     "duration": 0.040005,
     "end_time": "2022-07-20T13:36:47.845137",
     "exception": false,
     "start_time": "2022-07-20T13:36:47.805132",
     "status": "completed"
    },
    "tags": []
   },
   "outputs": [],
   "source": [
    "lr = 2e-5\n",
    "epochs =  7\n",
    "batch_size = 8\n",
    "max_seq_len = 512"
   ]
  },
  {
   "cell_type": "code",
   "execution_count": 10,
   "id": "032605c3",
   "metadata": {
    "execution": {
     "iopub.execute_input": "2022-07-20T13:36:47.913742Z",
     "iopub.status.busy": "2022-07-20T13:36:47.913047Z",
     "iopub.status.idle": "2022-07-20T13:36:47.916574Z",
     "shell.execute_reply": "2022-07-20T13:36:47.917590Z",
     "shell.execute_reply.started": "2022-07-20T11:25:58.794119Z"
    },
    "papermill": {
     "duration": 0.041372,
     "end_time": "2022-07-20T13:36:47.917730",
     "exception": false,
     "start_time": "2022-07-20T13:36:47.876358",
     "status": "completed"
    },
    "tags": []
   },
   "outputs": [],
   "source": [
    "def split_valid(df, frac=0.01):\n",
    "    \n",
    "    val = pd.DataFrame()\n",
    "    val[\"text\"] = \"\"\n",
    "    val[\"label\"] = -1\n",
    "    \n",
    "    for i in df.label.unique():\n",
    "        val = pd.concat([val, df[df.label == i].sample(frac=frac)])\n",
    "        \n",
    "    return df[~df.index.isin(val.index)].reset_index(drop=True) , val.reset_index(drop=True)"
   ]
  },
  {
   "cell_type": "code",
   "execution_count": 11,
   "id": "0cdb39ea",
   "metadata": {
    "execution": {
     "iopub.execute_input": "2022-07-20T13:36:47.987169Z",
     "iopub.status.busy": "2022-07-20T13:36:47.986532Z",
     "iopub.status.idle": "2022-07-20T13:36:48.018318Z",
     "shell.execute_reply": "2022-07-20T13:36:48.017796Z",
     "shell.execute_reply.started": "2022-07-20T11:25:58.838603Z"
    },
    "papermill": {
     "duration": 0.068636,
     "end_time": "2022-07-20T13:36:48.018453",
     "exception": false,
     "start_time": "2022-07-20T13:36:47.949817",
     "status": "completed"
    },
    "tags": []
   },
   "outputs": [],
   "source": [
    "train_set_df = pd.read_csv(\"../input/fr-cerfr/dataset_to_be_annotated_-_dataset_to_be_annotated.csv\")\n",
    "train_set_df.drop(\"Unnamed: 3\", axis=1, inplace=True)\n",
    "train_set_df = train_set_df[pd.notnull(train_set_df['cefr'])]\n",
    "train_set_df = train_set_df.reset_index(drop=True)\n",
    "train_set_df.columns=[\"text\",\"lens\",\"label\"]\n",
    "train_set_df = train_set_df[train_set_df.label != \"-\"]\n",
    "train_set_df = train_set_df[[\"text\", \"label\"]]"
   ]
  },
  {
   "cell_type": "code",
   "execution_count": null,
   "id": "052040c5",
   "metadata": {
    "execution": {
     "iopub.execute_input": "2022-07-20T11:25:58.854744Z",
     "iopub.status.busy": "2022-07-20T11:25:58.850845Z",
     "iopub.status.idle": "2022-07-20T11:25:58.862403Z",
     "shell.execute_reply": "2022-07-20T11:25:58.861582Z",
     "shell.execute_reply.started": "2022-07-20T11:25:58.854715Z"
    },
    "papermill": {
     "duration": 0.031646,
     "end_time": "2022-07-20T13:36:48.081358",
     "exception": false,
     "start_time": "2022-07-20T13:36:48.049712",
     "status": "completed"
    },
    "tags": []
   },
   "outputs": [],
   "source": []
  },
  {
   "cell_type": "code",
   "execution_count": 12,
   "id": "6b3590d2",
   "metadata": {
    "execution": {
     "iopub.execute_input": "2022-07-20T13:36:48.148210Z",
     "iopub.status.busy": "2022-07-20T13:36:48.147572Z",
     "iopub.status.idle": "2022-07-20T13:36:48.174351Z",
     "shell.execute_reply": "2022-07-20T13:36:48.174946Z",
     "shell.execute_reply.started": "2022-07-20T11:25:58.866464Z"
    },
    "papermill": {
     "duration": 0.062574,
     "end_time": "2022-07-20T13:36:48.175109",
     "exception": false,
     "start_time": "2022-07-20T13:36:48.112535",
     "status": "completed"
    },
    "tags": []
   },
   "outputs": [],
   "source": [
    "A1_A2=pd.read_csv(\"../input/a1-a2-ex/A1_A2_tran.csv\")"
   ]
  },
  {
   "cell_type": "code",
   "execution_count": 13,
   "id": "d664cf33",
   "metadata": {
    "execution": {
     "iopub.execute_input": "2022-07-20T13:36:48.244590Z",
     "iopub.status.busy": "2022-07-20T13:36:48.243959Z",
     "iopub.status.idle": "2022-07-20T13:36:48.246870Z",
     "shell.execute_reply": "2022-07-20T13:36:48.246385Z",
     "shell.execute_reply.started": "2022-07-20T11:25:58.899073Z"
    },
    "papermill": {
     "duration": 0.039464,
     "end_time": "2022-07-20T13:36:48.246997",
     "exception": false,
     "start_time": "2022-07-20T13:36:48.207533",
     "status": "completed"
    },
    "tags": []
   },
   "outputs": [],
   "source": [
    "train_set_df=pd.concat([train_set_df, A1_A2], ignore_index=True)"
   ]
  },
  {
   "cell_type": "code",
   "execution_count": 14,
   "id": "aab2fe2d",
   "metadata": {
    "execution": {
     "iopub.execute_input": "2022-07-20T13:36:48.347832Z",
     "iopub.status.busy": "2022-07-20T13:36:48.346637Z",
     "iopub.status.idle": "2022-07-20T13:36:48.391276Z",
     "shell.execute_reply": "2022-07-20T13:36:48.395954Z",
     "shell.execute_reply.started": "2022-07-20T11:25:58.910264Z"
    },
    "papermill": {
     "duration": 0.118236,
     "end_time": "2022-07-20T13:36:48.396199",
     "exception": false,
     "start_time": "2022-07-20T13:36:48.277963",
     "status": "completed"
    },
    "tags": []
   },
   "outputs": [],
   "source": [
    "from sklearn import preprocessing\n",
    "le = preprocessing.LabelEncoder()\n",
    "\n",
    "train_set_df.text = train_set_df.text.apply(lambda x: x.replace(\"\\r\", \"\").replace(\"\\n\", \" \"))\n",
    "\n",
    "# extra_df = pd.read_csv(\"../input/frenchcefr/french_mike_june.csv\")\n",
    "# extra_df.columns = [\"text\", \"label\", \"label_\"]\n",
    "# extra_df = extra_df[[\"text\", \"label\"]]\n",
    "# extra_df.text = extra_df.text.astype(str)\n",
    "#train_set_df = pd.concat([train_set_df, extra_df]).reset_index(drop=True)\n",
    "\n",
    "train_set_df, valid_set_df = split_valid(train_set_df)"
   ]
  },
  {
   "cell_type": "code",
   "execution_count": 15,
   "id": "385784f7",
   "metadata": {
    "execution": {
     "iopub.execute_input": "2022-07-20T13:36:48.511650Z",
     "iopub.status.busy": "2022-07-20T13:36:48.510836Z",
     "iopub.status.idle": "2022-07-20T13:36:48.528246Z",
     "shell.execute_reply": "2022-07-20T13:36:48.529241Z",
     "shell.execute_reply.started": "2022-07-20T11:25:58.945682Z"
    },
    "papermill": {
     "duration": 0.075824,
     "end_time": "2022-07-20T13:36:48.529465",
     "exception": false,
     "start_time": "2022-07-20T13:36:48.453641",
     "status": "completed"
    },
    "tags": []
   },
   "outputs": [],
   "source": [
    "for i in range(train_set_df.shape[0]):\n",
    "    if train_set_df.loc[i,\"label\"]==\"c1\":\n",
    "        train_set_df.loc[i,\"label\"]=\"C1\""
   ]
  },
  {
   "cell_type": "code",
   "execution_count": 16,
   "id": "34410127",
   "metadata": {
    "execution": {
     "iopub.execute_input": "2022-07-20T13:36:48.627318Z",
     "iopub.status.busy": "2022-07-20T13:36:48.626518Z",
     "iopub.status.idle": "2022-07-20T13:36:48.633785Z",
     "shell.execute_reply": "2022-07-20T13:36:48.635134Z",
     "shell.execute_reply.started": "2022-07-20T11:25:58.967197Z"
    },
    "papermill": {
     "duration": 0.059267,
     "end_time": "2022-07-20T13:36:48.635332",
     "exception": false,
     "start_time": "2022-07-20T13:36:48.576065",
     "status": "completed"
    },
    "tags": []
   },
   "outputs": [
    {
     "data": {
      "text/plain": [
       "array(['C1', 'B2', 'B1', 'A2', 'C2', 'A1'], dtype=object)"
      ]
     },
     "execution_count": 16,
     "metadata": {},
     "output_type": "execute_result"
    }
   ],
   "source": [
    "train_set_df.label.unique()"
   ]
  },
  {
   "cell_type": "code",
   "execution_count": 17,
   "id": "31c8cf7c",
   "metadata": {
    "execution": {
     "iopub.execute_input": "2022-07-20T13:36:48.751581Z",
     "iopub.status.busy": "2022-07-20T13:36:48.749954Z",
     "iopub.status.idle": "2022-07-20T13:36:48.755329Z",
     "shell.execute_reply": "2022-07-20T13:36:48.756278Z",
     "shell.execute_reply.started": "2022-07-20T11:25:58.981542Z"
    },
    "papermill": {
     "duration": 0.067798,
     "end_time": "2022-07-20T13:36:48.756544",
     "exception": false,
     "start_time": "2022-07-20T13:36:48.688746",
     "status": "completed"
    },
    "tags": []
   },
   "outputs": [
    {
     "data": {
      "text/plain": [
       "A1    285\n",
       "A2    273\n",
       "B2     91\n",
       "B1     50\n",
       "C1     37\n",
       "C2     12\n",
       "Name: label, dtype: int64"
      ]
     },
     "execution_count": 17,
     "metadata": {},
     "output_type": "execute_result"
    }
   ],
   "source": [
    "train_set_df.label.value_counts()"
   ]
  },
  {
   "cell_type": "code",
   "execution_count": 18,
   "id": "b8d162c0",
   "metadata": {
    "execution": {
     "iopub.execute_input": "2022-07-20T13:36:48.864187Z",
     "iopub.status.busy": "2022-07-20T13:36:48.863468Z",
     "iopub.status.idle": "2022-07-20T13:36:48.866581Z",
     "shell.execute_reply": "2022-07-20T13:36:48.867430Z",
     "shell.execute_reply.started": "2022-07-20T11:25:59.000198Z"
    },
    "papermill": {
     "duration": 0.060899,
     "end_time": "2022-07-20T13:36:48.867649",
     "exception": false,
     "start_time": "2022-07-20T13:36:48.806750",
     "status": "completed"
    },
    "tags": []
   },
   "outputs": [],
   "source": [
    "train_set_df.label = le.fit_transform(train_set_df.label)\n",
    "valid_set_df.label = le.transform(valid_set_df.label)"
   ]
  },
  {
   "cell_type": "code",
   "execution_count": 19,
   "id": "9ad77729",
   "metadata": {
    "execution": {
     "iopub.execute_input": "2022-07-20T13:36:48.943718Z",
     "iopub.status.busy": "2022-07-20T13:36:48.943065Z",
     "iopub.status.idle": "2022-07-20T13:36:48.945767Z",
     "shell.execute_reply": "2022-07-20T13:36:48.946181Z",
     "shell.execute_reply.started": "2022-07-20T11:25:59.014150Z"
    },
    "papermill": {
     "duration": 0.038483,
     "end_time": "2022-07-20T13:36:48.946315",
     "exception": false,
     "start_time": "2022-07-20T13:36:48.907832",
     "status": "completed"
    },
    "tags": []
   },
   "outputs": [
    {
     "data": {
      "text/plain": [
       "array([4, 3, 2, 1, 5, 0])"
      ]
     },
     "execution_count": 19,
     "metadata": {},
     "output_type": "execute_result"
    }
   ],
   "source": [
    "train_set_df.label.unique()"
   ]
  },
  {
   "cell_type": "code",
   "execution_count": 20,
   "id": "133f3d77",
   "metadata": {
    "execution": {
     "iopub.execute_input": "2022-07-20T13:36:49.013204Z",
     "iopub.status.busy": "2022-07-20T13:36:49.011749Z",
     "iopub.status.idle": "2022-07-20T13:36:49.015679Z",
     "shell.execute_reply": "2022-07-20T13:36:49.015210Z",
     "shell.execute_reply.started": "2022-07-20T11:25:59.032235Z"
    },
    "papermill": {
     "duration": 0.039648,
     "end_time": "2022-07-20T13:36:49.015794",
     "exception": false,
     "start_time": "2022-07-20T13:36:48.976146",
     "status": "completed"
    },
    "tags": []
   },
   "outputs": [
    {
     "data": {
      "text/plain": [
       "3"
      ]
     },
     "execution_count": 20,
     "metadata": {},
     "output_type": "execute_result"
    }
   ],
   "source": [
    "valid_set_df.label.nunique()"
   ]
  },
  {
   "cell_type": "code",
   "execution_count": 21,
   "id": "8060494d",
   "metadata": {
    "execution": {
     "iopub.execute_input": "2022-07-20T13:36:49.080444Z",
     "iopub.status.busy": "2022-07-20T13:36:49.078866Z",
     "iopub.status.idle": "2022-07-20T13:36:49.081055Z",
     "shell.execute_reply": "2022-07-20T13:36:49.081452Z",
     "shell.execute_reply.started": "2022-07-20T11:25:59.050802Z"
    },
    "papermill": {
     "duration": 0.03609,
     "end_time": "2022-07-20T13:36:49.081612",
     "exception": false,
     "start_time": "2022-07-20T13:36:49.045522",
     "status": "completed"
    },
    "tags": []
   },
   "outputs": [],
   "source": [
    "# train_set_df = train_set_df.sample(frac=1)"
   ]
  },
  {
   "cell_type": "code",
   "execution_count": 22,
   "id": "f82a1aea",
   "metadata": {
    "execution": {
     "iopub.execute_input": "2022-07-20T13:36:49.147601Z",
     "iopub.status.busy": "2022-07-20T13:36:49.146707Z",
     "iopub.status.idle": "2022-07-20T13:36:49.148452Z",
     "shell.execute_reply": "2022-07-20T13:36:49.148920Z",
     "shell.execute_reply.started": "2022-07-20T11:25:59.105026Z"
    },
    "papermill": {
     "duration": 0.037161,
     "end_time": "2022-07-20T13:36:49.149048",
     "exception": false,
     "start_time": "2022-07-20T13:36:49.111887",
     "status": "completed"
    },
    "tags": []
   },
   "outputs": [],
   "source": [
    "from tqdm import tqdm \n",
    "\n",
    "def predict(model, text):\n",
    "    \n",
    "    preds = []\n",
    "    \n",
    "    for i in tqdm(range(len(text))):\n",
    "        tokenized = tokenizer(text[i:i+1], return_tensors=\"pt\", truncation=True, max_length=512).to(\"cuda\")\n",
    "        pred = model(**tokenized)\n",
    "        preds.append(pred.logits.argmax(-1).item())\n",
    "\n",
    "    return preds"
   ]
  },
  {
   "cell_type": "code",
   "execution_count": 23,
   "id": "ed8358cb",
   "metadata": {
    "execution": {
     "iopub.execute_input": "2022-07-20T13:36:49.217360Z",
     "iopub.status.busy": "2022-07-20T13:36:49.214585Z",
     "iopub.status.idle": "2022-07-20T13:43:49.652027Z",
     "shell.execute_reply": "2022-07-20T13:43:49.651476Z",
     "shell.execute_reply.started": "2022-07-20T11:25:59.244324Z"
    },
    "papermill": {
     "duration": 420.472773,
     "end_time": "2022-07-20T13:43:49.652171",
     "exception": false,
     "start_time": "2022-07-20T13:36:49.179398",
     "status": "completed"
    },
    "tags": []
   },
   "outputs": [
    {
     "name": "stdout",
     "output_type": "stream",
     "text": [
      "{}\n",
      "{}\n"
     ]
    },
    {
     "data": {
      "application/vnd.jupyter.widget-view+json": {
       "model_id": "955db742580e48248917ee29804d837a",
       "version_major": 2,
       "version_minor": 0
      },
      "text/plain": [
       "Downloading:   0%|          | 0.00/445M [00:00<?, ?B/s]"
      ]
     },
     "metadata": {},
     "output_type": "display_data"
    },
    {
     "name": "stderr",
     "output_type": "stream",
     "text": [
      "Some weights of the model checkpoint at dbmdz/bert-base-french-europeana-cased were not used when initializing BertForSequenceClassification: ['cls.predictions.bias', 'cls.predictions.transform.dense.weight', 'cls.predictions.transform.dense.bias', 'cls.predictions.transform.LayerNorm.weight', 'cls.predictions.transform.LayerNorm.bias', 'cls.predictions.decoder.weight', 'cls.predictions.decoder.bias', 'cls.seq_relationship.weight', 'cls.seq_relationship.bias']\n",
      "- This IS expected if you are initializing BertForSequenceClassification from the checkpoint of a model trained on another task or with another architecture (e.g. initializing a BertForSequenceClassification model from a BertForPreTraining model).\n",
      "- This IS NOT expected if you are initializing BertForSequenceClassification from the checkpoint of a model that you expect to be exactly identical (initializing a BertForSequenceClassification model from a BertForSequenceClassification model).\n",
      "Some weights of BertForSequenceClassification were not initialized from the model checkpoint at dbmdz/bert-base-french-europeana-cased and are newly initialized: ['classifier.weight', 'classifier.bias']\n",
      "You should probably TRAIN this model on a down-stream task to be able to use it for predictions and inference.\n",
      "Using the `WAND_DISABLED` environment variable is deprecated and will be removed in v5. Use the --report_to flag to control the integrations used for logging result (for instance --report_to none).\n"
     ]
    },
    {
     "data": {
      "text/html": [
       "\n",
       "    <div>\n",
       "        <style>\n",
       "            /* Turns off some styling */\n",
       "            progress {\n",
       "                /* gets rid of default border in Firefox and Opera. */\n",
       "                border: none;\n",
       "                /* Needs to be in here for Safari polyfill so background images work as expected. */\n",
       "                background-size: auto;\n",
       "            }\n",
       "        </style>\n",
       "      \n",
       "      <progress value='658' max='658' style='width:300px; height:20px; vertical-align: middle;'></progress>\n",
       "      [658/658 06:25, Epoch 7/7]\n",
       "    </div>\n",
       "    <table border=\"1\" class=\"dataframe\">\n",
       "  <thead>\n",
       "    <tr style=\"text-align: left;\">\n",
       "      <th>Epoch</th>\n",
       "      <th>Training Loss</th>\n",
       "      <th>Validation Loss</th>\n",
       "      <th>Accuracy</th>\n",
       "      <th>Runtime</th>\n",
       "      <th>Samples Per Second</th>\n",
       "    </tr>\n",
       "  </thead>\n",
       "  <tbody>\n",
       "    <tr>\n",
       "      <td>1</td>\n",
       "      <td>1.452000</td>\n",
       "      <td>0.622849</td>\n",
       "      <td>0.714286</td>\n",
       "      <td>0.154300</td>\n",
       "      <td>45.353000</td>\n",
       "    </tr>\n",
       "    <tr>\n",
       "      <td>2</td>\n",
       "      <td>0.720900</td>\n",
       "      <td>0.594356</td>\n",
       "      <td>0.714286</td>\n",
       "      <td>0.154000</td>\n",
       "      <td>45.457000</td>\n",
       "    </tr>\n",
       "    <tr>\n",
       "      <td>3</td>\n",
       "      <td>0.596200</td>\n",
       "      <td>0.392262</td>\n",
       "      <td>0.857143</td>\n",
       "      <td>0.155800</td>\n",
       "      <td>44.922000</td>\n",
       "    </tr>\n",
       "    <tr>\n",
       "      <td>4</td>\n",
       "      <td>0.535100</td>\n",
       "      <td>0.574941</td>\n",
       "      <td>0.857143</td>\n",
       "      <td>0.154800</td>\n",
       "      <td>45.220000</td>\n",
       "    </tr>\n",
       "    <tr>\n",
       "      <td>5</td>\n",
       "      <td>0.368600</td>\n",
       "      <td>0.852394</td>\n",
       "      <td>0.714286</td>\n",
       "      <td>0.153600</td>\n",
       "      <td>45.561000</td>\n",
       "    </tr>\n",
       "    <tr>\n",
       "      <td>6</td>\n",
       "      <td>0.219100</td>\n",
       "      <td>0.823878</td>\n",
       "      <td>0.714286</td>\n",
       "      <td>0.154800</td>\n",
       "      <td>45.213000</td>\n",
       "    </tr>\n",
       "    <tr>\n",
       "      <td>7</td>\n",
       "      <td>0.202700</td>\n",
       "      <td>0.705518</td>\n",
       "      <td>0.714286</td>\n",
       "      <td>0.155200</td>\n",
       "      <td>45.108000</td>\n",
       "    </tr>\n",
       "  </tbody>\n",
       "</table><p>"
      ],
      "text/plain": [
       "<IPython.core.display.HTML object>"
      ]
     },
     "metadata": {},
     "output_type": "display_data"
    }
   ],
   "source": [
    "train_set = CEFRDataset(train_set_df[\"text\"], train_set_df[\"label\"])\n",
    "valid_set = CEFRDataset(valid_set_df[\"text\"], valid_set_df[\"label\"])\n",
    "\n",
    "\n",
    "trainer_second = train(train_set, valid_set, epochs=epochs, warmup_size=0.2, lr=lr, batch_size=batch_size)\n",
    "model = trainer_second.model"
   ]
  },
  {
   "cell_type": "code",
   "execution_count": 24,
   "id": "c9aebd75",
   "metadata": {
    "execution": {
     "iopub.execute_input": "2022-07-20T13:43:49.722003Z",
     "iopub.status.busy": "2022-07-20T13:43:49.721404Z",
     "iopub.status.idle": "2022-07-20T13:43:49.857699Z",
     "shell.execute_reply": "2022-07-20T13:43:49.858171Z",
     "shell.execute_reply.started": "2022-07-20T11:34:25.787577Z"
    },
    "papermill": {
     "duration": 0.17396,
     "end_time": "2022-07-20T13:43:49.858317",
     "exception": false,
     "start_time": "2022-07-20T13:43:49.684357",
     "status": "completed"
    },
    "tags": []
   },
   "outputs": [
    {
     "name": "stderr",
     "output_type": "stream",
     "text": [
      "100%|██████████| 7/7 [00:00<00:00, 54.86it/s]\n"
     ]
    }
   ],
   "source": [
    "valid_set_df[\"preds\"] = train_set.encoder.inverse_transform(predict(model, valid_set_df.text.tolist()))\n",
    "valid_set_df.columns = [\"text\", \"cefr\", \"preds\",] "
   ]
  },
  {
   "cell_type": "code",
   "execution_count": 25,
   "id": "6142ca87",
   "metadata": {
    "execution": {
     "iopub.execute_input": "2022-07-20T13:43:49.929021Z",
     "iopub.status.busy": "2022-07-20T13:43:49.928389Z",
     "iopub.status.idle": "2022-07-20T13:43:51.266212Z",
     "shell.execute_reply": "2022-07-20T13:43:51.266664Z",
     "shell.execute_reply.started": "2022-07-20T11:34:26.163908Z"
    },
    "papermill": {
     "duration": 1.37509,
     "end_time": "2022-07-20T13:43:51.266823",
     "exception": false,
     "start_time": "2022-07-20T13:43:49.891733",
     "status": "completed"
    },
    "tags": []
   },
   "outputs": [
    {
     "name": "stderr",
     "output_type": "stream",
     "text": [
      "100%|██████████| 111/111 [00:01<00:00, 84.65it/s]\n"
     ]
    }
   ],
   "source": [
    "lingua = pd.read_csv(\"../input/lingua/fr_lingua.csv\")\n",
    "lingua[\"preds\"] = train_set.encoder.inverse_transform(predict(model, lingua.text.tolist()))"
   ]
  },
  {
   "cell_type": "code",
   "execution_count": 26,
   "id": "3d03bd09",
   "metadata": {
    "execution": {
     "iopub.execute_input": "2022-07-20T13:43:51.345684Z",
     "iopub.status.busy": "2022-07-20T13:43:51.344896Z",
     "iopub.status.idle": "2022-07-20T13:43:51.348194Z",
     "shell.execute_reply": "2022-07-20T13:43:51.348674Z",
     "shell.execute_reply.started": "2022-07-20T11:34:31.456300Z"
    },
    "papermill": {
     "duration": 0.045214,
     "end_time": "2022-07-20T13:43:51.348827",
     "exception": false,
     "start_time": "2022-07-20T13:43:51.303613",
     "status": "completed"
    },
    "tags": []
   },
   "outputs": [
    {
     "data": {
      "text/plain": [
       "(111, 3)"
      ]
     },
     "execution_count": 26,
     "metadata": {},
     "output_type": "execute_result"
    }
   ],
   "source": [
    "lingua.shape"
   ]
  },
  {
   "cell_type": "code",
   "execution_count": 27,
   "id": "02754b54",
   "metadata": {
    "execution": {
     "iopub.execute_input": "2022-07-20T13:43:51.432868Z",
     "iopub.status.busy": "2022-07-20T13:43:51.432208Z",
     "iopub.status.idle": "2022-07-20T13:43:51.434881Z",
     "shell.execute_reply": "2022-07-20T13:43:51.435292Z",
     "shell.execute_reply.started": "2022-07-20T11:34:31.470270Z"
    },
    "papermill": {
     "duration": 0.048579,
     "end_time": "2022-07-20T13:43:51.435427",
     "exception": false,
     "start_time": "2022-07-20T13:43:51.386848",
     "status": "completed"
    },
    "tags": []
   },
   "outputs": [
    {
     "data": {
      "text/plain": [
       "B1    60\n",
       "A2    26\n",
       "A1    13\n",
       "B2    12\n",
       "Name: cefr, dtype: int64"
      ]
     },
     "execution_count": 27,
     "metadata": {},
     "output_type": "execute_result"
    }
   ],
   "source": [
    "lingua.cefr.value_counts()"
   ]
  },
  {
   "cell_type": "code",
   "execution_count": 28,
   "id": "623a5583",
   "metadata": {
    "execution": {
     "iopub.execute_input": "2022-07-20T13:43:51.516408Z",
     "iopub.status.busy": "2022-07-20T13:43:51.515794Z",
     "iopub.status.idle": "2022-07-20T13:43:51.518409Z",
     "shell.execute_reply": "2022-07-20T13:43:51.518833Z",
     "shell.execute_reply.started": "2022-07-20T11:34:31.490692Z"
    },
    "papermill": {
     "duration": 0.045619,
     "end_time": "2022-07-20T13:43:51.518961",
     "exception": false,
     "start_time": "2022-07-20T13:43:51.473342",
     "status": "completed"
    },
    "tags": []
   },
   "outputs": [
    {
     "data": {
      "text/plain": [
       "array([2, 0, 1, 3])"
      ]
     },
     "execution_count": 28,
     "metadata": {},
     "output_type": "execute_result"
    }
   ],
   "source": [
    "lingua.preds.unique()"
   ]
  },
  {
   "cell_type": "code",
   "execution_count": 29,
   "id": "0ac716c2",
   "metadata": {
    "execution": {
     "iopub.execute_input": "2022-07-20T13:43:51.600434Z",
     "iopub.status.busy": "2022-07-20T13:43:51.599528Z",
     "iopub.status.idle": "2022-07-20T13:43:51.601449Z",
     "shell.execute_reply": "2022-07-20T13:43:51.601878Z",
     "shell.execute_reply.started": "2022-07-20T11:34:31.504569Z"
    },
    "papermill": {
     "duration": 0.046043,
     "end_time": "2022-07-20T13:43:51.602015",
     "exception": false,
     "start_time": "2022-07-20T13:43:51.555972",
     "status": "completed"
    },
    "tags": []
   },
   "outputs": [],
   "source": [
    "def compute_average_distance(df, col_name=\"cefr\") :\n",
    "    \n",
    "    labels = [\"A1\", \"A2\", \"B1\", \"B2\", \"C1\", \"C2\"]\n",
    "    return (df[col_name].apply(lambda x: labels.index(x)) - df.preds.apply(lambda x: labels.index(x))).abs().mean()\n"
   ]
  },
  {
   "cell_type": "code",
   "execution_count": 30,
   "id": "0448d2ad",
   "metadata": {
    "execution": {
     "iopub.execute_input": "2022-07-20T13:43:51.683801Z",
     "iopub.status.busy": "2022-07-20T13:43:51.683141Z",
     "iopub.status.idle": "2022-07-20T13:43:51.685759Z",
     "shell.execute_reply": "2022-07-20T13:43:51.686158Z",
     "shell.execute_reply.started": "2022-07-20T11:34:31.520911Z"
    },
    "papermill": {
     "duration": 0.046578,
     "end_time": "2022-07-20T13:43:51.686296",
     "exception": false,
     "start_time": "2022-07-20T13:43:51.639718",
     "status": "completed"
    },
    "tags": []
   },
   "outputs": [
    {
     "data": {
      "text/plain": [
       "2    88\n",
       "3    13\n",
       "0     5\n",
       "1     5\n",
       "Name: preds, dtype: int64"
      ]
     },
     "execution_count": 30,
     "metadata": {},
     "output_type": "execute_result"
    }
   ],
   "source": [
    "lingua.preds.value_counts()"
   ]
  },
  {
   "cell_type": "code",
   "execution_count": 31,
   "id": "b4c3c844",
   "metadata": {
    "execution": {
     "iopub.execute_input": "2022-07-20T13:43:51.790049Z",
     "iopub.status.busy": "2022-07-20T13:43:51.785067Z",
     "iopub.status.idle": "2022-07-20T13:43:51.793431Z",
     "shell.execute_reply": "2022-07-20T13:43:51.794660Z",
     "shell.execute_reply.started": "2022-07-20T11:34:31.534267Z"
    },
    "papermill": {
     "duration": 0.070218,
     "end_time": "2022-07-20T13:43:51.794909",
     "exception": false,
     "start_time": "2022-07-20T13:43:51.724691",
     "status": "completed"
    },
    "tags": []
   },
   "outputs": [],
   "source": [
    "lingua[\"preds\"] = le.inverse_transform(lingua.preds)"
   ]
  },
  {
   "cell_type": "code",
   "execution_count": 32,
   "id": "b98ffc56",
   "metadata": {
    "execution": {
     "iopub.execute_input": "2022-07-20T13:43:51.899739Z",
     "iopub.status.busy": "2022-07-20T13:43:51.898509Z",
     "iopub.status.idle": "2022-07-20T13:43:51.902158Z",
     "shell.execute_reply": "2022-07-20T13:43:51.901705Z",
     "shell.execute_reply.started": "2022-07-20T11:34:31.552038Z"
    },
    "papermill": {
     "duration": 0.048671,
     "end_time": "2022-07-20T13:43:51.902269",
     "exception": false,
     "start_time": "2022-07-20T13:43:51.853598",
     "status": "completed"
    },
    "tags": []
   },
   "outputs": [
    {
     "data": {
      "text/plain": [
       "B1    60\n",
       "A2    26\n",
       "A1    13\n",
       "B2    12\n",
       "Name: cefr, dtype: int64"
      ]
     },
     "execution_count": 32,
     "metadata": {},
     "output_type": "execute_result"
    }
   ],
   "source": [
    "lingua.cefr.value_counts()"
   ]
  },
  {
   "cell_type": "code",
   "execution_count": 33,
   "id": "754321d7",
   "metadata": {
    "execution": {
     "iopub.execute_input": "2022-07-20T13:43:51.986263Z",
     "iopub.status.busy": "2022-07-20T13:43:51.985600Z",
     "iopub.status.idle": "2022-07-20T13:43:51.988273Z",
     "shell.execute_reply": "2022-07-20T13:43:51.988700Z",
     "shell.execute_reply.started": "2022-07-20T11:34:31.569838Z"
    },
    "papermill": {
     "duration": 0.047895,
     "end_time": "2022-07-20T13:43:51.988845",
     "exception": false,
     "start_time": "2022-07-20T13:43:51.940950",
     "status": "completed"
    },
    "tags": []
   },
   "outputs": [
    {
     "data": {
      "text/plain": [
       "B1    88\n",
       "B2    13\n",
       "A1     5\n",
       "A2     5\n",
       "Name: preds, dtype: int64"
      ]
     },
     "execution_count": 33,
     "metadata": {},
     "output_type": "execute_result"
    }
   ],
   "source": [
    "lingua.preds.value_counts()"
   ]
  },
  {
   "cell_type": "code",
   "execution_count": 34,
   "id": "4e431bb1",
   "metadata": {
    "execution": {
     "iopub.execute_input": "2022-07-20T13:43:52.074847Z",
     "iopub.status.busy": "2022-07-20T13:43:52.074230Z",
     "iopub.status.idle": "2022-07-20T13:43:52.077458Z",
     "shell.execute_reply": "2022-07-20T13:43:52.078099Z",
     "shell.execute_reply.started": "2022-07-20T11:34:31.589807Z"
    },
    "papermill": {
     "duration": 0.050558,
     "end_time": "2022-07-20T13:43:52.078276",
     "exception": false,
     "start_time": "2022-07-20T13:43:52.027718",
     "status": "completed"
    },
    "tags": []
   },
   "outputs": [
    {
     "name": "stdout",
     "output_type": "stream",
     "text": [
      "Distance: \n",
      "0.5945945945945946\n",
      "Lingua accuracy: 0.5045045045045045\n"
     ]
    }
   ],
   "source": [
    "print(\"Distance: \")\n",
    "print(compute_average_distance(lingua, \"cefr\"))\n",
    "\n",
    "print(f\"Lingua accuracy: {(lingua['preds'] == lingua['cefr']).mean()}\")"
   ]
  },
  {
   "cell_type": "code",
   "execution_count": 35,
   "id": "83905b3a",
   "metadata": {
    "execution": {
     "iopub.execute_input": "2022-07-20T13:43:52.162591Z",
     "iopub.status.busy": "2022-07-20T13:43:52.161771Z",
     "iopub.status.idle": "2022-07-20T13:43:52.170891Z",
     "shell.execute_reply": "2022-07-20T13:43:52.170418Z",
     "shell.execute_reply.started": "2022-07-20T11:34:31.648669Z"
    },
    "papermill": {
     "duration": 0.052446,
     "end_time": "2022-07-20T13:43:52.171002",
     "exception": false,
     "start_time": "2022-07-20T13:43:52.118556",
     "status": "completed"
    },
    "tags": []
   },
   "outputs": [],
   "source": [
    "lingua.columns=[\"text\",\"cefr\",\"preds:A1_A2_from_trans_data&new_data,acc:0.5\"]\n",
    "lingua.to_csv(\"lingua1.csv\", index=False)"
   ]
  },
  {
   "cell_type": "markdown",
   "id": "2393c969",
   "metadata": {
    "papermill": {
     "duration": 0.038269,
     "end_time": "2022-07-20T13:43:52.248454",
     "exception": false,
     "start_time": "2022-07-20T13:43:52.210185",
     "status": "completed"
    },
    "tags": []
   },
   "source": [
    "****"
   ]
  },
  {
   "cell_type": "markdown",
   "id": "dacb9872",
   "metadata": {
    "papermill": {
     "duration": 0.039571,
     "end_time": "2022-07-20T13:43:52.326932",
     "exception": false,
     "start_time": "2022-07-20T13:43:52.287361",
     "status": "completed"
    },
    "tags": []
   },
   "source": [
    "****"
   ]
  },
  {
   "cell_type": "code",
   "execution_count": null,
   "id": "b8eda13f",
   "metadata": {
    "papermill": {
     "duration": 0.040234,
     "end_time": "2022-07-20T13:43:52.407343",
     "exception": false,
     "start_time": "2022-07-20T13:43:52.367109",
     "status": "completed"
    },
    "tags": []
   },
   "outputs": [],
   "source": []
  },
  {
   "cell_type": "code",
   "execution_count": null,
   "id": "f0d7a48a",
   "metadata": {
    "papermill": {
     "duration": 0.039422,
     "end_time": "2022-07-20T13:43:52.486066",
     "exception": false,
     "start_time": "2022-07-20T13:43:52.446644",
     "status": "completed"
    },
    "tags": []
   },
   "outputs": [],
   "source": []
  },
  {
   "cell_type": "code",
   "execution_count": null,
   "id": "925ed2f2",
   "metadata": {
    "papermill": {
     "duration": 0.039632,
     "end_time": "2022-07-20T13:43:52.564973",
     "exception": false,
     "start_time": "2022-07-20T13:43:52.525341",
     "status": "completed"
    },
    "tags": []
   },
   "outputs": [],
   "source": []
  },
  {
   "cell_type": "code",
   "execution_count": null,
   "id": "627ac458",
   "metadata": {
    "papermill": {
     "duration": 0.039872,
     "end_time": "2022-07-20T13:43:52.643808",
     "exception": false,
     "start_time": "2022-07-20T13:43:52.603936",
     "status": "completed"
    },
    "tags": []
   },
   "outputs": [],
   "source": []
  }
 ],
 "metadata": {
  "kernelspec": {
   "display_name": "Python 3",
   "language": "python",
   "name": "python3"
  },
  "language_info": {
   "codemirror_mode": {
    "name": "ipython",
    "version": 3
   },
   "file_extension": ".py",
   "mimetype": "text/x-python",
   "name": "python",
   "nbconvert_exporter": "python",
   "pygments_lexer": "ipython3",
   "version": "3.7.10"
  },
  "papermill": {
   "default_parameters": {},
   "duration": 447.665369,
   "end_time": "2022-07-20T13:43:55.403931",
   "environment_variables": {},
   "exception": null,
   "input_path": "__notebook__.ipynb",
   "output_path": "__notebook__.ipynb",
   "parameters": {},
   "start_time": "2022-07-20T13:36:27.738562",
   "version": "2.3.3"
  },
  "widgets": {
   "application/vnd.jupyter.widget-state+json": {
    "state": {
     "00fd7b9dc5c94c9db7e20af36787933d": {
      "model_module": "@jupyter-widgets/controls",
      "model_module_version": "1.5.0",
      "model_name": "HTMLModel",
      "state": {
       "_dom_classes": [],
       "_model_module": "@jupyter-widgets/controls",
       "_model_module_version": "1.5.0",
       "_model_name": "HTMLModel",
       "_view_count": null,
       "_view_module": "@jupyter-widgets/controls",
       "_view_module_version": "1.5.0",
       "_view_name": "HTMLView",
       "description": "",
       "description_tooltip": null,
       "layout": "IPY_MODEL_0a55fea46c614b8587f7b4cba2696e56",
       "placeholder": "​",
       "style": "IPY_MODEL_d2fef5a36247493cade128c1abb1da16",
       "value": " 227k/227k [00:00&lt;00:00, 663kB/s]"
      }
     },
     "0541f3e8f2a748c7b3b7ad010e4247b6": {
      "model_module": "@jupyter-widgets/controls",
      "model_module_version": "1.5.0",
      "model_name": "HBoxModel",
      "state": {
       "_dom_classes": [],
       "_model_module": "@jupyter-widgets/controls",
       "_model_module_version": "1.5.0",
       "_model_name": "HBoxModel",
       "_view_count": null,
       "_view_module": "@jupyter-widgets/controls",
       "_view_module_version": "1.5.0",
       "_view_name": "HBoxView",
       "box_style": "",
       "children": [
        "IPY_MODEL_4861449612a2411ea35076bda449438c",
        "IPY_MODEL_411da54c4f05471c80b3591f844fc5b3",
        "IPY_MODEL_b095e551f46b4ce8baf7da07c39d26be"
       ],
       "layout": "IPY_MODEL_4591bc5ffe9f486daca3cc5a248020d0"
      }
     },
     "0a55fea46c614b8587f7b4cba2696e56": {
      "model_module": "@jupyter-widgets/base",
      "model_module_version": "1.2.0",
      "model_name": "LayoutModel",
      "state": {
       "_model_module": "@jupyter-widgets/base",
       "_model_module_version": "1.2.0",
       "_model_name": "LayoutModel",
       "_view_count": null,
       "_view_module": "@jupyter-widgets/base",
       "_view_module_version": "1.2.0",
       "_view_name": "LayoutView",
       "align_content": null,
       "align_items": null,
       "align_self": null,
       "border": null,
       "bottom": null,
       "display": null,
       "flex": null,
       "flex_flow": null,
       "grid_area": null,
       "grid_auto_columns": null,
       "grid_auto_flow": null,
       "grid_auto_rows": null,
       "grid_column": null,
       "grid_gap": null,
       "grid_row": null,
       "grid_template_areas": null,
       "grid_template_columns": null,
       "grid_template_rows": null,
       "height": null,
       "justify_content": null,
       "justify_items": null,
       "left": null,
       "margin": null,
       "max_height": null,
       "max_width": null,
       "min_height": null,
       "min_width": null,
       "object_fit": null,
       "object_position": null,
       "order": null,
       "overflow": null,
       "overflow_x": null,
       "overflow_y": null,
       "padding": null,
       "right": null,
       "top": null,
       "visibility": null,
       "width": null
      }
     },
     "10b620c0a33349ad8630bc132f607b6b": {
      "model_module": "@jupyter-widgets/controls",
      "model_module_version": "1.5.0",
      "model_name": "FloatProgressModel",
      "state": {
       "_dom_classes": [],
       "_model_module": "@jupyter-widgets/controls",
       "_model_module_version": "1.5.0",
       "_model_name": "FloatProgressModel",
       "_view_count": null,
       "_view_module": "@jupyter-widgets/controls",
       "_view_module_version": "1.5.0",
       "_view_name": "ProgressView",
       "bar_style": "success",
       "description": "",
       "description_tooltip": null,
       "layout": "IPY_MODEL_e4ecc2264e4e4704acc80ed793390fd4",
       "max": 227141.0,
       "min": 0.0,
       "orientation": "horizontal",
       "style": "IPY_MODEL_18cbf5558f16413b8ad19b2184ac937e",
       "value": 227141.0
      }
     },
     "18cbf5558f16413b8ad19b2184ac937e": {
      "model_module": "@jupyter-widgets/controls",
      "model_module_version": "1.5.0",
      "model_name": "ProgressStyleModel",
      "state": {
       "_model_module": "@jupyter-widgets/controls",
       "_model_module_version": "1.5.0",
       "_model_name": "ProgressStyleModel",
       "_view_count": null,
       "_view_module": "@jupyter-widgets/base",
       "_view_module_version": "1.2.0",
       "_view_name": "StyleView",
       "bar_color": null,
       "description_width": ""
      }
     },
     "266613d743cc4e1a92518bffa223f04c": {
      "model_module": "@jupyter-widgets/base",
      "model_module_version": "1.2.0",
      "model_name": "LayoutModel",
      "state": {
       "_model_module": "@jupyter-widgets/base",
       "_model_module_version": "1.2.0",
       "_model_name": "LayoutModel",
       "_view_count": null,
       "_view_module": "@jupyter-widgets/base",
       "_view_module_version": "1.2.0",
       "_view_name": "LayoutView",
       "align_content": null,
       "align_items": null,
       "align_self": null,
       "border": null,
       "bottom": null,
       "display": null,
       "flex": null,
       "flex_flow": null,
       "grid_area": null,
       "grid_auto_columns": null,
       "grid_auto_flow": null,
       "grid_auto_rows": null,
       "grid_column": null,
       "grid_gap": null,
       "grid_row": null,
       "grid_template_areas": null,
       "grid_template_columns": null,
       "grid_template_rows": null,
       "height": null,
       "justify_content": null,
       "justify_items": null,
       "left": null,
       "margin": null,
       "max_height": null,
       "max_width": null,
       "min_height": null,
       "min_width": null,
       "object_fit": null,
       "object_position": null,
       "order": null,
       "overflow": null,
       "overflow_x": null,
       "overflow_y": null,
       "padding": null,
       "right": null,
       "top": null,
       "visibility": null,
       "width": null
      }
     },
     "35897229e427423984072b897abb1122": {
      "model_module": "@jupyter-widgets/controls",
      "model_module_version": "1.5.0",
      "model_name": "HBoxModel",
      "state": {
       "_dom_classes": [],
       "_model_module": "@jupyter-widgets/controls",
       "_model_module_version": "1.5.0",
       "_model_name": "HBoxModel",
       "_view_count": null,
       "_view_module": "@jupyter-widgets/controls",
       "_view_module_version": "1.5.0",
       "_view_name": "HBoxView",
       "box_style": "",
       "children": [
        "IPY_MODEL_3fff82ea3a014e4788b9aa73815b0cce",
        "IPY_MODEL_8c8b24b9a7fd4803aef50b07fe0f7b4a",
        "IPY_MODEL_5524c856d7fd447581a0c322da09a207"
       ],
       "layout": "IPY_MODEL_65bcc44f86454b789a04ce35ffa4e398"
      }
     },
     "38eef776d1324883945b102b04662278": {
      "model_module": "@jupyter-widgets/controls",
      "model_module_version": "1.5.0",
      "model_name": "ProgressStyleModel",
      "state": {
       "_model_module": "@jupyter-widgets/controls",
       "_model_module_version": "1.5.0",
       "_model_name": "ProgressStyleModel",
       "_view_count": null,
       "_view_module": "@jupyter-widgets/base",
       "_view_module_version": "1.2.0",
       "_view_name": "StyleView",
       "bar_color": null,
       "description_width": ""
      }
     },
     "3fff82ea3a014e4788b9aa73815b0cce": {
      "model_module": "@jupyter-widgets/controls",
      "model_module_version": "1.5.0",
      "model_name": "HTMLModel",
      "state": {
       "_dom_classes": [],
       "_model_module": "@jupyter-widgets/controls",
       "_model_module_version": "1.5.0",
       "_model_name": "HTMLModel",
       "_view_count": null,
       "_view_module": "@jupyter-widgets/controls",
       "_view_module_version": "1.5.0",
       "_view_name": "HTMLView",
       "description": "",
       "description_tooltip": null,
       "layout": "IPY_MODEL_444bbaf2a512415288956e123c056658",
       "placeholder": "​",
       "style": "IPY_MODEL_594130091f2149cdb4ae8e1148d37da9",
       "value": "Downloading: 100%"
      }
     },
     "411da54c4f05471c80b3591f844fc5b3": {
      "model_module": "@jupyter-widgets/controls",
      "model_module_version": "1.5.0",
      "model_name": "FloatProgressModel",
      "state": {
       "_dom_classes": [],
       "_model_module": "@jupyter-widgets/controls",
       "_model_module_version": "1.5.0",
       "_model_name": "FloatProgressModel",
       "_view_count": null,
       "_view_module": "@jupyter-widgets/controls",
       "_view_module_version": "1.5.0",
       "_view_name": "ProgressView",
       "bar_style": "success",
       "description": "",
       "description_tooltip": null,
       "layout": "IPY_MODEL_efe4488ee4cf40659d55fba430070f37",
       "max": 420.0,
       "min": 0.0,
       "orientation": "horizontal",
       "style": "IPY_MODEL_38eef776d1324883945b102b04662278",
       "value": 420.0
      }
     },
     "444bbaf2a512415288956e123c056658": {
      "model_module": "@jupyter-widgets/base",
      "model_module_version": "1.2.0",
      "model_name": "LayoutModel",
      "state": {
       "_model_module": "@jupyter-widgets/base",
       "_model_module_version": "1.2.0",
       "_model_name": "LayoutModel",
       "_view_count": null,
       "_view_module": "@jupyter-widgets/base",
       "_view_module_version": "1.2.0",
       "_view_name": "LayoutView",
       "align_content": null,
       "align_items": null,
       "align_self": null,
       "border": null,
       "bottom": null,
       "display": null,
       "flex": null,
       "flex_flow": null,
       "grid_area": null,
       "grid_auto_columns": null,
       "grid_auto_flow": null,
       "grid_auto_rows": null,
       "grid_column": null,
       "grid_gap": null,
       "grid_row": null,
       "grid_template_areas": null,
       "grid_template_columns": null,
       "grid_template_rows": null,
       "height": null,
       "justify_content": null,
       "justify_items": null,
       "left": null,
       "margin": null,
       "max_height": null,
       "max_width": null,
       "min_height": null,
       "min_width": null,
       "object_fit": null,
       "object_position": null,
       "order": null,
       "overflow": null,
       "overflow_x": null,
       "overflow_y": null,
       "padding": null,
       "right": null,
       "top": null,
       "visibility": null,
       "width": null
      }
     },
     "4591bc5ffe9f486daca3cc5a248020d0": {
      "model_module": "@jupyter-widgets/base",
      "model_module_version": "1.2.0",
      "model_name": "LayoutModel",
      "state": {
       "_model_module": "@jupyter-widgets/base",
       "_model_module_version": "1.2.0",
       "_model_name": "LayoutModel",
       "_view_count": null,
       "_view_module": "@jupyter-widgets/base",
       "_view_module_version": "1.2.0",
       "_view_name": "LayoutView",
       "align_content": null,
       "align_items": null,
       "align_self": null,
       "border": null,
       "bottom": null,
       "display": null,
       "flex": null,
       "flex_flow": null,
       "grid_area": null,
       "grid_auto_columns": null,
       "grid_auto_flow": null,
       "grid_auto_rows": null,
       "grid_column": null,
       "grid_gap": null,
       "grid_row": null,
       "grid_template_areas": null,
       "grid_template_columns": null,
       "grid_template_rows": null,
       "height": null,
       "justify_content": null,
       "justify_items": null,
       "left": null,
       "margin": null,
       "max_height": null,
       "max_width": null,
       "min_height": null,
       "min_width": null,
       "object_fit": null,
       "object_position": null,
       "order": null,
       "overflow": null,
       "overflow_x": null,
       "overflow_y": null,
       "padding": null,
       "right": null,
       "top": null,
       "visibility": null,
       "width": null
      }
     },
     "4861449612a2411ea35076bda449438c": {
      "model_module": "@jupyter-widgets/controls",
      "model_module_version": "1.5.0",
      "model_name": "HTMLModel",
      "state": {
       "_dom_classes": [],
       "_model_module": "@jupyter-widgets/controls",
       "_model_module_version": "1.5.0",
       "_model_name": "HTMLModel",
       "_view_count": null,
       "_view_module": "@jupyter-widgets/controls",
       "_view_module_version": "1.5.0",
       "_view_name": "HTMLView",
       "description": "",
       "description_tooltip": null,
       "layout": "IPY_MODEL_4f697f741e534effb3bf7673e0a19812",
       "placeholder": "​",
       "style": "IPY_MODEL_71d63763865141aebcba054002abf312",
       "value": "Downloading: 100%"
      }
     },
     "4f697f741e534effb3bf7673e0a19812": {
      "model_module": "@jupyter-widgets/base",
      "model_module_version": "1.2.0",
      "model_name": "LayoutModel",
      "state": {
       "_model_module": "@jupyter-widgets/base",
       "_model_module_version": "1.2.0",
       "_model_name": "LayoutModel",
       "_view_count": null,
       "_view_module": "@jupyter-widgets/base",
       "_view_module_version": "1.2.0",
       "_view_name": "LayoutView",
       "align_content": null,
       "align_items": null,
       "align_self": null,
       "border": null,
       "bottom": null,
       "display": null,
       "flex": null,
       "flex_flow": null,
       "grid_area": null,
       "grid_auto_columns": null,
       "grid_auto_flow": null,
       "grid_auto_rows": null,
       "grid_column": null,
       "grid_gap": null,
       "grid_row": null,
       "grid_template_areas": null,
       "grid_template_columns": null,
       "grid_template_rows": null,
       "height": null,
       "justify_content": null,
       "justify_items": null,
       "left": null,
       "margin": null,
       "max_height": null,
       "max_width": null,
       "min_height": null,
       "min_width": null,
       "object_fit": null,
       "object_position": null,
       "order": null,
       "overflow": null,
       "overflow_x": null,
       "overflow_y": null,
       "padding": null,
       "right": null,
       "top": null,
       "visibility": null,
       "width": null
      }
     },
     "52052d6028964c0b876b1392558fbad3": {
      "model_module": "@jupyter-widgets/controls",
      "model_module_version": "1.5.0",
      "model_name": "HTMLModel",
      "state": {
       "_dom_classes": [],
       "_model_module": "@jupyter-widgets/controls",
       "_model_module_version": "1.5.0",
       "_model_name": "HTMLModel",
       "_view_count": null,
       "_view_module": "@jupyter-widgets/controls",
       "_view_module_version": "1.5.0",
       "_view_name": "HTMLView",
       "description": "",
       "description_tooltip": null,
       "layout": "IPY_MODEL_b2dc15b5b4fd424692eec7145b42f808",
       "placeholder": "​",
       "style": "IPY_MODEL_5625a9ca3c7b4d3b8d847ec3c083cd35",
       "value": "Downloading: 100%"
      }
     },
     "5524c856d7fd447581a0c322da09a207": {
      "model_module": "@jupyter-widgets/controls",
      "model_module_version": "1.5.0",
      "model_name": "HTMLModel",
      "state": {
       "_dom_classes": [],
       "_model_module": "@jupyter-widgets/controls",
       "_model_module_version": "1.5.0",
       "_model_name": "HTMLModel",
       "_view_count": null,
       "_view_module": "@jupyter-widgets/controls",
       "_view_module_version": "1.5.0",
       "_view_name": "HTMLView",
       "description": "",
       "description_tooltip": null,
       "layout": "IPY_MODEL_8dc06c4a1a6e4ae3a2f8cfd3328e2f96",
       "placeholder": "​",
       "style": "IPY_MODEL_db24df191d12406faafe535c1f619878",
       "value": " 83.0/83.0 [00:00&lt;00:00, 1.88kB/s]"
      }
     },
     "5625a9ca3c7b4d3b8d847ec3c083cd35": {
      "model_module": "@jupyter-widgets/controls",
      "model_module_version": "1.5.0",
      "model_name": "DescriptionStyleModel",
      "state": {
       "_model_module": "@jupyter-widgets/controls",
       "_model_module_version": "1.5.0",
       "_model_name": "DescriptionStyleModel",
       "_view_count": null,
       "_view_module": "@jupyter-widgets/base",
       "_view_module_version": "1.2.0",
       "_view_name": "StyleView",
       "description_width": ""
      }
     },
     "594130091f2149cdb4ae8e1148d37da9": {
      "model_module": "@jupyter-widgets/controls",
      "model_module_version": "1.5.0",
      "model_name": "DescriptionStyleModel",
      "state": {
       "_model_module": "@jupyter-widgets/controls",
       "_model_module_version": "1.5.0",
       "_model_name": "DescriptionStyleModel",
       "_view_count": null,
       "_view_module": "@jupyter-widgets/base",
       "_view_module_version": "1.2.0",
       "_view_name": "StyleView",
       "description_width": ""
      }
     },
     "609761d13a3d417eb39f4a1838f86637": {
      "model_module": "@jupyter-widgets/base",
      "model_module_version": "1.2.0",
      "model_name": "LayoutModel",
      "state": {
       "_model_module": "@jupyter-widgets/base",
       "_model_module_version": "1.2.0",
       "_model_name": "LayoutModel",
       "_view_count": null,
       "_view_module": "@jupyter-widgets/base",
       "_view_module_version": "1.2.0",
       "_view_name": "LayoutView",
       "align_content": null,
       "align_items": null,
       "align_self": null,
       "border": null,
       "bottom": null,
       "display": null,
       "flex": null,
       "flex_flow": null,
       "grid_area": null,
       "grid_auto_columns": null,
       "grid_auto_flow": null,
       "grid_auto_rows": null,
       "grid_column": null,
       "grid_gap": null,
       "grid_row": null,
       "grid_template_areas": null,
       "grid_template_columns": null,
       "grid_template_rows": null,
       "height": null,
       "justify_content": null,
       "justify_items": null,
       "left": null,
       "margin": null,
       "max_height": null,
       "max_width": null,
       "min_height": null,
       "min_width": null,
       "object_fit": null,
       "object_position": null,
       "order": null,
       "overflow": null,
       "overflow_x": null,
       "overflow_y": null,
       "padding": null,
       "right": null,
       "top": null,
       "visibility": null,
       "width": null
      }
     },
     "65bcc44f86454b789a04ce35ffa4e398": {
      "model_module": "@jupyter-widgets/base",
      "model_module_version": "1.2.0",
      "model_name": "LayoutModel",
      "state": {
       "_model_module": "@jupyter-widgets/base",
       "_model_module_version": "1.2.0",
       "_model_name": "LayoutModel",
       "_view_count": null,
       "_view_module": "@jupyter-widgets/base",
       "_view_module_version": "1.2.0",
       "_view_name": "LayoutView",
       "align_content": null,
       "align_items": null,
       "align_self": null,
       "border": null,
       "bottom": null,
       "display": null,
       "flex": null,
       "flex_flow": null,
       "grid_area": null,
       "grid_auto_columns": null,
       "grid_auto_flow": null,
       "grid_auto_rows": null,
       "grid_column": null,
       "grid_gap": null,
       "grid_row": null,
       "grid_template_areas": null,
       "grid_template_columns": null,
       "grid_template_rows": null,
       "height": null,
       "justify_content": null,
       "justify_items": null,
       "left": null,
       "margin": null,
       "max_height": null,
       "max_width": null,
       "min_height": null,
       "min_width": null,
       "object_fit": null,
       "object_position": null,
       "order": null,
       "overflow": null,
       "overflow_x": null,
       "overflow_y": null,
       "padding": null,
       "right": null,
       "top": null,
       "visibility": null,
       "width": null
      }
     },
     "6ca16553627a4db786c896c130a5acf9": {
      "model_module": "@jupyter-widgets/controls",
      "model_module_version": "1.5.0",
      "model_name": "ProgressStyleModel",
      "state": {
       "_model_module": "@jupyter-widgets/controls",
       "_model_module_version": "1.5.0",
       "_model_name": "ProgressStyleModel",
       "_view_count": null,
       "_view_module": "@jupyter-widgets/base",
       "_view_module_version": "1.2.0",
       "_view_name": "StyleView",
       "bar_color": null,
       "description_width": ""
      }
     },
     "6fb3d417a0d2486ebee517f5c692b656": {
      "model_module": "@jupyter-widgets/base",
      "model_module_version": "1.2.0",
      "model_name": "LayoutModel",
      "state": {
       "_model_module": "@jupyter-widgets/base",
       "_model_module_version": "1.2.0",
       "_model_name": "LayoutModel",
       "_view_count": null,
       "_view_module": "@jupyter-widgets/base",
       "_view_module_version": "1.2.0",
       "_view_name": "LayoutView",
       "align_content": null,
       "align_items": null,
       "align_self": null,
       "border": null,
       "bottom": null,
       "display": null,
       "flex": null,
       "flex_flow": null,
       "grid_area": null,
       "grid_auto_columns": null,
       "grid_auto_flow": null,
       "grid_auto_rows": null,
       "grid_column": null,
       "grid_gap": null,
       "grid_row": null,
       "grid_template_areas": null,
       "grid_template_columns": null,
       "grid_template_rows": null,
       "height": null,
       "justify_content": null,
       "justify_items": null,
       "left": null,
       "margin": null,
       "max_height": null,
       "max_width": null,
       "min_height": null,
       "min_width": null,
       "object_fit": null,
       "object_position": null,
       "order": null,
       "overflow": null,
       "overflow_x": null,
       "overflow_y": null,
       "padding": null,
       "right": null,
       "top": null,
       "visibility": null,
       "width": null
      }
     },
     "71d63763865141aebcba054002abf312": {
      "model_module": "@jupyter-widgets/controls",
      "model_module_version": "1.5.0",
      "model_name": "DescriptionStyleModel",
      "state": {
       "_model_module": "@jupyter-widgets/controls",
       "_model_module_version": "1.5.0",
       "_model_name": "DescriptionStyleModel",
       "_view_count": null,
       "_view_module": "@jupyter-widgets/base",
       "_view_module_version": "1.2.0",
       "_view_name": "StyleView",
       "description_width": ""
      }
     },
     "7352b220c015483f8d8bb4efcc7de2d3": {
      "model_module": "@jupyter-widgets/base",
      "model_module_version": "1.2.0",
      "model_name": "LayoutModel",
      "state": {
       "_model_module": "@jupyter-widgets/base",
       "_model_module_version": "1.2.0",
       "_model_name": "LayoutModel",
       "_view_count": null,
       "_view_module": "@jupyter-widgets/base",
       "_view_module_version": "1.2.0",
       "_view_name": "LayoutView",
       "align_content": null,
       "align_items": null,
       "align_self": null,
       "border": null,
       "bottom": null,
       "display": null,
       "flex": null,
       "flex_flow": null,
       "grid_area": null,
       "grid_auto_columns": null,
       "grid_auto_flow": null,
       "grid_auto_rows": null,
       "grid_column": null,
       "grid_gap": null,
       "grid_row": null,
       "grid_template_areas": null,
       "grid_template_columns": null,
       "grid_template_rows": null,
       "height": null,
       "justify_content": null,
       "justify_items": null,
       "left": null,
       "margin": null,
       "max_height": null,
       "max_width": null,
       "min_height": null,
       "min_width": null,
       "object_fit": null,
       "object_position": null,
       "order": null,
       "overflow": null,
       "overflow_x": null,
       "overflow_y": null,
       "padding": null,
       "right": null,
       "top": null,
       "visibility": null,
       "width": null
      }
     },
     "8657e61ce5664ad4ab40970ea3956553": {
      "model_module": "@jupyter-widgets/controls",
      "model_module_version": "1.5.0",
      "model_name": "FloatProgressModel",
      "state": {
       "_dom_classes": [],
       "_model_module": "@jupyter-widgets/controls",
       "_model_module_version": "1.5.0",
       "_model_name": "FloatProgressModel",
       "_view_count": null,
       "_view_module": "@jupyter-widgets/controls",
       "_view_module_version": "1.5.0",
       "_view_name": "ProgressView",
       "bar_style": "success",
       "description": "",
       "description_tooltip": null,
       "layout": "IPY_MODEL_266613d743cc4e1a92518bffa223f04c",
       "max": 445018784.0,
       "min": 0.0,
       "orientation": "horizontal",
       "style": "IPY_MODEL_6ca16553627a4db786c896c130a5acf9",
       "value": 445018784.0
      }
     },
     "8c8b24b9a7fd4803aef50b07fe0f7b4a": {
      "model_module": "@jupyter-widgets/controls",
      "model_module_version": "1.5.0",
      "model_name": "FloatProgressModel",
      "state": {
       "_dom_classes": [],
       "_model_module": "@jupyter-widgets/controls",
       "_model_module_version": "1.5.0",
       "_model_name": "FloatProgressModel",
       "_view_count": null,
       "_view_module": "@jupyter-widgets/controls",
       "_view_module_version": "1.5.0",
       "_view_name": "ProgressView",
       "bar_style": "success",
       "description": "",
       "description_tooltip": null,
       "layout": "IPY_MODEL_ec84d017b5ef4467a3affa5b9cba720b",
       "max": 83.0,
       "min": 0.0,
       "orientation": "horizontal",
       "style": "IPY_MODEL_cc42146858d041c3b318ad69ba73e3ae",
       "value": 83.0
      }
     },
     "8d8b5c246d5d4fc4a1fc4d3200901f33": {
      "model_module": "@jupyter-widgets/controls",
      "model_module_version": "1.5.0",
      "model_name": "DescriptionStyleModel",
      "state": {
       "_model_module": "@jupyter-widgets/controls",
       "_model_module_version": "1.5.0",
       "_model_name": "DescriptionStyleModel",
       "_view_count": null,
       "_view_module": "@jupyter-widgets/base",
       "_view_module_version": "1.2.0",
       "_view_name": "StyleView",
       "description_width": ""
      }
     },
     "8dc06c4a1a6e4ae3a2f8cfd3328e2f96": {
      "model_module": "@jupyter-widgets/base",
      "model_module_version": "1.2.0",
      "model_name": "LayoutModel",
      "state": {
       "_model_module": "@jupyter-widgets/base",
       "_model_module_version": "1.2.0",
       "_model_name": "LayoutModel",
       "_view_count": null,
       "_view_module": "@jupyter-widgets/base",
       "_view_module_version": "1.2.0",
       "_view_name": "LayoutView",
       "align_content": null,
       "align_items": null,
       "align_self": null,
       "border": null,
       "bottom": null,
       "display": null,
       "flex": null,
       "flex_flow": null,
       "grid_area": null,
       "grid_auto_columns": null,
       "grid_auto_flow": null,
       "grid_auto_rows": null,
       "grid_column": null,
       "grid_gap": null,
       "grid_row": null,
       "grid_template_areas": null,
       "grid_template_columns": null,
       "grid_template_rows": null,
       "height": null,
       "justify_content": null,
       "justify_items": null,
       "left": null,
       "margin": null,
       "max_height": null,
       "max_width": null,
       "min_height": null,
       "min_width": null,
       "object_fit": null,
       "object_position": null,
       "order": null,
       "overflow": null,
       "overflow_x": null,
       "overflow_y": null,
       "padding": null,
       "right": null,
       "top": null,
       "visibility": null,
       "width": null
      }
     },
     "9065c7bfa7404d75b378132f136fe61d": {
      "model_module": "@jupyter-widgets/controls",
      "model_module_version": "1.5.0",
      "model_name": "HBoxModel",
      "state": {
       "_dom_classes": [],
       "_model_module": "@jupyter-widgets/controls",
       "_model_module_version": "1.5.0",
       "_model_name": "HBoxModel",
       "_view_count": null,
       "_view_module": "@jupyter-widgets/controls",
       "_view_module_version": "1.5.0",
       "_view_name": "HBoxView",
       "box_style": "",
       "children": [
        "IPY_MODEL_52052d6028964c0b876b1392558fbad3",
        "IPY_MODEL_10b620c0a33349ad8630bc132f607b6b",
        "IPY_MODEL_00fd7b9dc5c94c9db7e20af36787933d"
       ],
       "layout": "IPY_MODEL_609761d13a3d417eb39f4a1838f86637"
      }
     },
     "955db742580e48248917ee29804d837a": {
      "model_module": "@jupyter-widgets/controls",
      "model_module_version": "1.5.0",
      "model_name": "HBoxModel",
      "state": {
       "_dom_classes": [],
       "_model_module": "@jupyter-widgets/controls",
       "_model_module_version": "1.5.0",
       "_model_name": "HBoxModel",
       "_view_count": null,
       "_view_module": "@jupyter-widgets/controls",
       "_view_module_version": "1.5.0",
       "_view_name": "HBoxView",
       "box_style": "",
       "children": [
        "IPY_MODEL_d1311d976ae845f09d17a08bed85471a",
        "IPY_MODEL_8657e61ce5664ad4ab40970ea3956553",
        "IPY_MODEL_b39d9c3a752f4947b334d5848a964aca"
       ],
       "layout": "IPY_MODEL_6fb3d417a0d2486ebee517f5c692b656"
      }
     },
     "a13b4b502a9b47ecac9bbe23541ca9c8": {
      "model_module": "@jupyter-widgets/controls",
      "model_module_version": "1.5.0",
      "model_name": "DescriptionStyleModel",
      "state": {
       "_model_module": "@jupyter-widgets/controls",
       "_model_module_version": "1.5.0",
       "_model_name": "DescriptionStyleModel",
       "_view_count": null,
       "_view_module": "@jupyter-widgets/base",
       "_view_module_version": "1.2.0",
       "_view_name": "StyleView",
       "description_width": ""
      }
     },
     "b095e551f46b4ce8baf7da07c39d26be": {
      "model_module": "@jupyter-widgets/controls",
      "model_module_version": "1.5.0",
      "model_name": "HTMLModel",
      "state": {
       "_dom_classes": [],
       "_model_module": "@jupyter-widgets/controls",
       "_model_module_version": "1.5.0",
       "_model_name": "HTMLModel",
       "_view_count": null,
       "_view_module": "@jupyter-widgets/controls",
       "_view_module_version": "1.5.0",
       "_view_name": "HTMLView",
       "description": "",
       "description_tooltip": null,
       "layout": "IPY_MODEL_cb24c50554384279997ec9f40972803d",
       "placeholder": "​",
       "style": "IPY_MODEL_a13b4b502a9b47ecac9bbe23541ca9c8",
       "value": " 420/420 [00:00&lt;00:00, 15.6kB/s]"
      }
     },
     "b2dc15b5b4fd424692eec7145b42f808": {
      "model_module": "@jupyter-widgets/base",
      "model_module_version": "1.2.0",
      "model_name": "LayoutModel",
      "state": {
       "_model_module": "@jupyter-widgets/base",
       "_model_module_version": "1.2.0",
       "_model_name": "LayoutModel",
       "_view_count": null,
       "_view_module": "@jupyter-widgets/base",
       "_view_module_version": "1.2.0",
       "_view_name": "LayoutView",
       "align_content": null,
       "align_items": null,
       "align_self": null,
       "border": null,
       "bottom": null,
       "display": null,
       "flex": null,
       "flex_flow": null,
       "grid_area": null,
       "grid_auto_columns": null,
       "grid_auto_flow": null,
       "grid_auto_rows": null,
       "grid_column": null,
       "grid_gap": null,
       "grid_row": null,
       "grid_template_areas": null,
       "grid_template_columns": null,
       "grid_template_rows": null,
       "height": null,
       "justify_content": null,
       "justify_items": null,
       "left": null,
       "margin": null,
       "max_height": null,
       "max_width": null,
       "min_height": null,
       "min_width": null,
       "object_fit": null,
       "object_position": null,
       "order": null,
       "overflow": null,
       "overflow_x": null,
       "overflow_y": null,
       "padding": null,
       "right": null,
       "top": null,
       "visibility": null,
       "width": null
      }
     },
     "b39d9c3a752f4947b334d5848a964aca": {
      "model_module": "@jupyter-widgets/controls",
      "model_module_version": "1.5.0",
      "model_name": "HTMLModel",
      "state": {
       "_dom_classes": [],
       "_model_module": "@jupyter-widgets/controls",
       "_model_module_version": "1.5.0",
       "_model_name": "HTMLModel",
       "_view_count": null,
       "_view_module": "@jupyter-widgets/controls",
       "_view_module_version": "1.5.0",
       "_view_name": "HTMLView",
       "description": "",
       "description_tooltip": null,
       "layout": "IPY_MODEL_f0e73be4ba5c47a79766d650e7944eab",
       "placeholder": "​",
       "style": "IPY_MODEL_8d8b5c246d5d4fc4a1fc4d3200901f33",
       "value": " 445M/445M [00:21&lt;00:00, 13.6MB/s]"
      }
     },
     "bb862ff1ca30464f9399533e9886384a": {
      "model_module": "@jupyter-widgets/controls",
      "model_module_version": "1.5.0",
      "model_name": "DescriptionStyleModel",
      "state": {
       "_model_module": "@jupyter-widgets/controls",
       "_model_module_version": "1.5.0",
       "_model_name": "DescriptionStyleModel",
       "_view_count": null,
       "_view_module": "@jupyter-widgets/base",
       "_view_module_version": "1.2.0",
       "_view_name": "StyleView",
       "description_width": ""
      }
     },
     "cb24c50554384279997ec9f40972803d": {
      "model_module": "@jupyter-widgets/base",
      "model_module_version": "1.2.0",
      "model_name": "LayoutModel",
      "state": {
       "_model_module": "@jupyter-widgets/base",
       "_model_module_version": "1.2.0",
       "_model_name": "LayoutModel",
       "_view_count": null,
       "_view_module": "@jupyter-widgets/base",
       "_view_module_version": "1.2.0",
       "_view_name": "LayoutView",
       "align_content": null,
       "align_items": null,
       "align_self": null,
       "border": null,
       "bottom": null,
       "display": null,
       "flex": null,
       "flex_flow": null,
       "grid_area": null,
       "grid_auto_columns": null,
       "grid_auto_flow": null,
       "grid_auto_rows": null,
       "grid_column": null,
       "grid_gap": null,
       "grid_row": null,
       "grid_template_areas": null,
       "grid_template_columns": null,
       "grid_template_rows": null,
       "height": null,
       "justify_content": null,
       "justify_items": null,
       "left": null,
       "margin": null,
       "max_height": null,
       "max_width": null,
       "min_height": null,
       "min_width": null,
       "object_fit": null,
       "object_position": null,
       "order": null,
       "overflow": null,
       "overflow_x": null,
       "overflow_y": null,
       "padding": null,
       "right": null,
       "top": null,
       "visibility": null,
       "width": null
      }
     },
     "cc42146858d041c3b318ad69ba73e3ae": {
      "model_module": "@jupyter-widgets/controls",
      "model_module_version": "1.5.0",
      "model_name": "ProgressStyleModel",
      "state": {
       "_model_module": "@jupyter-widgets/controls",
       "_model_module_version": "1.5.0",
       "_model_name": "ProgressStyleModel",
       "_view_count": null,
       "_view_module": "@jupyter-widgets/base",
       "_view_module_version": "1.2.0",
       "_view_name": "StyleView",
       "bar_color": null,
       "description_width": ""
      }
     },
     "d1311d976ae845f09d17a08bed85471a": {
      "model_module": "@jupyter-widgets/controls",
      "model_module_version": "1.5.0",
      "model_name": "HTMLModel",
      "state": {
       "_dom_classes": [],
       "_model_module": "@jupyter-widgets/controls",
       "_model_module_version": "1.5.0",
       "_model_name": "HTMLModel",
       "_view_count": null,
       "_view_module": "@jupyter-widgets/controls",
       "_view_module_version": "1.5.0",
       "_view_name": "HTMLView",
       "description": "",
       "description_tooltip": null,
       "layout": "IPY_MODEL_7352b220c015483f8d8bb4efcc7de2d3",
       "placeholder": "​",
       "style": "IPY_MODEL_bb862ff1ca30464f9399533e9886384a",
       "value": "Downloading: 100%"
      }
     },
     "d2fef5a36247493cade128c1abb1da16": {
      "model_module": "@jupyter-widgets/controls",
      "model_module_version": "1.5.0",
      "model_name": "DescriptionStyleModel",
      "state": {
       "_model_module": "@jupyter-widgets/controls",
       "_model_module_version": "1.5.0",
       "_model_name": "DescriptionStyleModel",
       "_view_count": null,
       "_view_module": "@jupyter-widgets/base",
       "_view_module_version": "1.2.0",
       "_view_name": "StyleView",
       "description_width": ""
      }
     },
     "db24df191d12406faafe535c1f619878": {
      "model_module": "@jupyter-widgets/controls",
      "model_module_version": "1.5.0",
      "model_name": "DescriptionStyleModel",
      "state": {
       "_model_module": "@jupyter-widgets/controls",
       "_model_module_version": "1.5.0",
       "_model_name": "DescriptionStyleModel",
       "_view_count": null,
       "_view_module": "@jupyter-widgets/base",
       "_view_module_version": "1.2.0",
       "_view_name": "StyleView",
       "description_width": ""
      }
     },
     "e4ecc2264e4e4704acc80ed793390fd4": {
      "model_module": "@jupyter-widgets/base",
      "model_module_version": "1.2.0",
      "model_name": "LayoutModel",
      "state": {
       "_model_module": "@jupyter-widgets/base",
       "_model_module_version": "1.2.0",
       "_model_name": "LayoutModel",
       "_view_count": null,
       "_view_module": "@jupyter-widgets/base",
       "_view_module_version": "1.2.0",
       "_view_name": "LayoutView",
       "align_content": null,
       "align_items": null,
       "align_self": null,
       "border": null,
       "bottom": null,
       "display": null,
       "flex": null,
       "flex_flow": null,
       "grid_area": null,
       "grid_auto_columns": null,
       "grid_auto_flow": null,
       "grid_auto_rows": null,
       "grid_column": null,
       "grid_gap": null,
       "grid_row": null,
       "grid_template_areas": null,
       "grid_template_columns": null,
       "grid_template_rows": null,
       "height": null,
       "justify_content": null,
       "justify_items": null,
       "left": null,
       "margin": null,
       "max_height": null,
       "max_width": null,
       "min_height": null,
       "min_width": null,
       "object_fit": null,
       "object_position": null,
       "order": null,
       "overflow": null,
       "overflow_x": null,
       "overflow_y": null,
       "padding": null,
       "right": null,
       "top": null,
       "visibility": null,
       "width": null
      }
     },
     "ec84d017b5ef4467a3affa5b9cba720b": {
      "model_module": "@jupyter-widgets/base",
      "model_module_version": "1.2.0",
      "model_name": "LayoutModel",
      "state": {
       "_model_module": "@jupyter-widgets/base",
       "_model_module_version": "1.2.0",
       "_model_name": "LayoutModel",
       "_view_count": null,
       "_view_module": "@jupyter-widgets/base",
       "_view_module_version": "1.2.0",
       "_view_name": "LayoutView",
       "align_content": null,
       "align_items": null,
       "align_self": null,
       "border": null,
       "bottom": null,
       "display": null,
       "flex": null,
       "flex_flow": null,
       "grid_area": null,
       "grid_auto_columns": null,
       "grid_auto_flow": null,
       "grid_auto_rows": null,
       "grid_column": null,
       "grid_gap": null,
       "grid_row": null,
       "grid_template_areas": null,
       "grid_template_columns": null,
       "grid_template_rows": null,
       "height": null,
       "justify_content": null,
       "justify_items": null,
       "left": null,
       "margin": null,
       "max_height": null,
       "max_width": null,
       "min_height": null,
       "min_width": null,
       "object_fit": null,
       "object_position": null,
       "order": null,
       "overflow": null,
       "overflow_x": null,
       "overflow_y": null,
       "padding": null,
       "right": null,
       "top": null,
       "visibility": null,
       "width": null
      }
     },
     "efe4488ee4cf40659d55fba430070f37": {
      "model_module": "@jupyter-widgets/base",
      "model_module_version": "1.2.0",
      "model_name": "LayoutModel",
      "state": {
       "_model_module": "@jupyter-widgets/base",
       "_model_module_version": "1.2.0",
       "_model_name": "LayoutModel",
       "_view_count": null,
       "_view_module": "@jupyter-widgets/base",
       "_view_module_version": "1.2.0",
       "_view_name": "LayoutView",
       "align_content": null,
       "align_items": null,
       "align_self": null,
       "border": null,
       "bottom": null,
       "display": null,
       "flex": null,
       "flex_flow": null,
       "grid_area": null,
       "grid_auto_columns": null,
       "grid_auto_flow": null,
       "grid_auto_rows": null,
       "grid_column": null,
       "grid_gap": null,
       "grid_row": null,
       "grid_template_areas": null,
       "grid_template_columns": null,
       "grid_template_rows": null,
       "height": null,
       "justify_content": null,
       "justify_items": null,
       "left": null,
       "margin": null,
       "max_height": null,
       "max_width": null,
       "min_height": null,
       "min_width": null,
       "object_fit": null,
       "object_position": null,
       "order": null,
       "overflow": null,
       "overflow_x": null,
       "overflow_y": null,
       "padding": null,
       "right": null,
       "top": null,
       "visibility": null,
       "width": null
      }
     },
     "f0e73be4ba5c47a79766d650e7944eab": {
      "model_module": "@jupyter-widgets/base",
      "model_module_version": "1.2.0",
      "model_name": "LayoutModel",
      "state": {
       "_model_module": "@jupyter-widgets/base",
       "_model_module_version": "1.2.0",
       "_model_name": "LayoutModel",
       "_view_count": null,
       "_view_module": "@jupyter-widgets/base",
       "_view_module_version": "1.2.0",
       "_view_name": "LayoutView",
       "align_content": null,
       "align_items": null,
       "align_self": null,
       "border": null,
       "bottom": null,
       "display": null,
       "flex": null,
       "flex_flow": null,
       "grid_area": null,
       "grid_auto_columns": null,
       "grid_auto_flow": null,
       "grid_auto_rows": null,
       "grid_column": null,
       "grid_gap": null,
       "grid_row": null,
       "grid_template_areas": null,
       "grid_template_columns": null,
       "grid_template_rows": null,
       "height": null,
       "justify_content": null,
       "justify_items": null,
       "left": null,
       "margin": null,
       "max_height": null,
       "max_width": null,
       "min_height": null,
       "min_width": null,
       "object_fit": null,
       "object_position": null,
       "order": null,
       "overflow": null,
       "overflow_x": null,
       "overflow_y": null,
       "padding": null,
       "right": null,
       "top": null,
       "visibility": null,
       "width": null
      }
     }
    },
    "version_major": 2,
    "version_minor": 0
   }
  }
 },
 "nbformat": 4,
 "nbformat_minor": 5
}
