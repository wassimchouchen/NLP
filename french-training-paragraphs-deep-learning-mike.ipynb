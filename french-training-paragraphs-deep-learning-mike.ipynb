{
 "cells": [
  {
   "cell_type": "code",
   "execution_count": 1,
   "id": "3cbff971",
   "metadata": {
    "_cell_guid": "b1076dfc-b9ad-4769-8c92-a6c4dae69d19",
    "_uuid": "8f2839f25d086af736a60e9eeb907d3b93b6e0e5",
    "execution": {
     "iopub.execute_input": "2022-07-30T12:59:10.744534Z",
     "iopub.status.busy": "2022-07-30T12:59:10.743707Z",
     "iopub.status.idle": "2022-07-30T12:59:18.080267Z",
     "shell.execute_reply": "2022-07-30T12:59:18.079399Z",
     "shell.execute_reply.started": "2022-07-30T12:55:58.275164Z"
    },
    "papermill": {
     "duration": 7.380882,
     "end_time": "2022-07-30T12:59:18.080423",
     "exception": false,
     "start_time": "2022-07-30T12:59:10.699541",
     "status": "completed"
    },
    "tags": []
   },
   "outputs": [],
   "source": [
    "import os\n",
    "\n",
    "import random\n",
    "import numpy as np\n",
    "\n",
    "import pandas as pd\n",
    "import torch\n",
    "from torch.utils.data import Dataset, random_split\n",
    "from transformers import (\n",
    "    AdamW,\n",
    "    Trainer,\n",
    "    TrainingArguments,\n",
    "    AutoTokenizer,\n",
    "    AutoModelForSequenceClassification,\n",
    "    get_cosine_schedule_with_warmup,\n",
    ")\n",
    "from sklearn.preprocessing import LabelEncoder\n",
    "from sklearn.metrics import accuracy_score"
   ]
  },
  {
   "cell_type": "code",
   "execution_count": 2,
   "id": "15964dbe",
   "metadata": {
    "execution": {
     "iopub.execute_input": "2022-07-30T12:59:18.150778Z",
     "iopub.status.busy": "2022-07-30T12:59:18.149263Z",
     "iopub.status.idle": "2022-07-30T12:59:22.914327Z",
     "shell.execute_reply": "2022-07-30T12:59:22.913765Z",
     "shell.execute_reply.started": "2022-07-30T12:55:58.563921Z"
    },
    "papermill": {
     "duration": 4.800696,
     "end_time": "2022-07-30T12:59:22.914464",
     "exception": false,
     "start_time": "2022-07-30T12:59:18.113768",
     "status": "completed"
    },
    "tags": []
   },
   "outputs": [
    {
     "data": {
      "application/vnd.jupyter.widget-view+json": {
       "model_id": "a7ebcba7b6ae4ec2a8713842c8400901",
       "version_major": 2,
       "version_minor": 0
      },
      "text/plain": [
       "Downloading:   0%|          | 0.00/420 [00:00<?, ?B/s]"
      ]
     },
     "metadata": {},
     "output_type": "display_data"
    },
    {
     "data": {
      "application/vnd.jupyter.widget-view+json": {
       "model_id": "55a8c4c7d9fb4749a759f08a8fe6c15d",
       "version_major": 2,
       "version_minor": 0
      },
      "text/plain": [
       "Downloading:   0%|          | 0.00/227k [00:00<?, ?B/s]"
      ]
     },
     "metadata": {},
     "output_type": "display_data"
    },
    {
     "data": {
      "application/vnd.jupyter.widget-view+json": {
       "model_id": "8e5fede9226046498c20730edecc43da",
       "version_major": 2,
       "version_minor": 0
      },
      "text/plain": [
       "Downloading:   0%|          | 0.00/83.0 [00:00<?, ?B/s]"
      ]
     },
     "metadata": {},
     "output_type": "display_data"
    }
   ],
   "source": [
    "model_name = \"dbmdz/bert-base-french-europeana-cased\"\n",
    "\n",
    "tokenizer = AutoTokenizer.from_pretrained(model_name)\n",
    "\n",
    "device = torch.device(\"cuda\" if torch.cuda.is_available() else \"cpu\")"
   ]
  },
  {
   "cell_type": "code",
   "execution_count": 3,
   "id": "4546449f",
   "metadata": {
    "execution": {
     "iopub.execute_input": "2022-07-30T12:59:22.985661Z",
     "iopub.status.busy": "2022-07-30T12:59:22.984743Z",
     "iopub.status.idle": "2022-07-30T12:59:22.986440Z",
     "shell.execute_reply": "2022-07-30T12:59:22.986997Z",
     "shell.execute_reply.started": "2022-07-30T12:56:01.437824Z"
    },
    "papermill": {
     "duration": 0.039167,
     "end_time": "2022-07-30T12:59:22.987153",
     "exception": false,
     "start_time": "2022-07-30T12:59:22.947986",
     "status": "completed"
    },
    "tags": []
   },
   "outputs": [],
   "source": [
    "lr = 2e-5\n",
    "epochs =  6\n",
    "batch_size = 5\n",
    "max_seq_len = 75\n",
    "\n",
    "test_frac = 0.1"
   ]
  },
  {
   "cell_type": "code",
   "execution_count": 4,
   "id": "343645e2",
   "metadata": {
    "execution": {
     "iopub.execute_input": "2022-07-30T12:59:23.059716Z",
     "iopub.status.busy": "2022-07-30T12:59:23.058993Z",
     "iopub.status.idle": "2022-07-30T12:59:23.063989Z",
     "shell.execute_reply": "2022-07-30T12:59:23.063535Z",
     "shell.execute_reply.started": "2022-07-30T12:56:01.443663Z"
    },
    "papermill": {
     "duration": 0.043343,
     "end_time": "2022-07-30T12:59:23.064114",
     "exception": false,
     "start_time": "2022-07-30T12:59:23.020771",
     "status": "completed"
    },
    "tags": []
   },
   "outputs": [],
   "source": [
    "import os\n",
    "\n",
    "def set_seed(seed=106052):\n",
    "    \"\"\"Set seed for reproducibility.\n",
    "    \"\"\"\n",
    "    random.seed(seed)\n",
    "    np.random.seed(seed)\n",
    "    torch.manual_seed(seed)\n",
    "    torch.cuda.manual_seed_all(seed)\n",
    "    \n",
    "    os.environ['PYTHONHASHSEED'] = str(seed)\n",
    "    \n",
    "set_seed()"
   ]
  },
  {
   "cell_type": "code",
   "execution_count": 5,
   "id": "f29c551d",
   "metadata": {
    "execution": {
     "iopub.execute_input": "2022-07-30T12:59:23.141960Z",
     "iopub.status.busy": "2022-07-30T12:59:23.140968Z",
     "iopub.status.idle": "2022-07-30T12:59:23.142770Z",
     "shell.execute_reply": "2022-07-30T12:59:23.143303Z",
     "shell.execute_reply.started": "2022-07-30T12:56:01.456982Z"
    },
    "papermill": {
     "duration": 0.046655,
     "end_time": "2022-07-30T12:59:23.143454",
     "exception": false,
     "start_time": "2022-07-30T12:59:23.096799",
     "status": "completed"
    },
    "tags": []
   },
   "outputs": [],
   "source": [
    "class CEFRDataset(Dataset):\n",
    "    \"\"\"Classification dataset, built on top of pytorch dataset object\n",
    "    \"\"\"\n",
    "    \n",
    "    def __init__(self, texts, labels):\n",
    "        \n",
    "        self.encoder = LabelEncoder()\n",
    "        print(self.encoder.__dict__)\n",
    "        self.texts = texts\n",
    "        self.labels = self.encoder.fit_transform(labels)\n",
    "\n",
    "    def __len__(self):\n",
    "        return len(self.texts)\n",
    "\n",
    "    def __getitem__(self, index):\n",
    "        text = self.texts[index]\n",
    "        label = self.labels[index]\n",
    "        encoded_text = tokenizer(\n",
    "            text,\n",
    "            padding=\"max_length\",\n",
    "            max_length=max_seq_len,\n",
    "            truncation=True,\n",
    "            return_tensors=\"pt\",\n",
    "        )\n",
    "        encoded_text[\"input_ids\"] = encoded_text[\"input_ids\"].squeeze()\n",
    "        encoded_text[\"attention_mask\"] = encoded_text[\"attention_mask\"].squeeze()\n",
    "        label = torch.tensor(label)\n",
    "\n",
    "        return {\n",
    "            \"input_ids\": encoded_text[\"input_ids\"],\n",
    "            \"attention_mask\": encoded_text[\"attention_mask\"],\n",
    "            \"labels\": label,\n",
    "        }\n",
    "\n",
    "    def get_labels(self):\n",
    "        return self.labels"
   ]
  },
  {
   "cell_type": "code",
   "execution_count": 6,
   "id": "6b4d0ff8",
   "metadata": {
    "execution": {
     "iopub.execute_input": "2022-07-30T12:59:23.218631Z",
     "iopub.status.busy": "2022-07-30T12:59:23.217404Z",
     "iopub.status.idle": "2022-07-30T12:59:23.219763Z",
     "shell.execute_reply": "2022-07-30T12:59:23.220170Z",
     "shell.execute_reply.started": "2022-07-30T12:56:01.467178Z"
    },
    "papermill": {
     "duration": 0.042807,
     "end_time": "2022-07-30T12:59:23.220335",
     "exception": false,
     "start_time": "2022-07-30T12:59:23.177528",
     "status": "completed"
    },
    "tags": []
   },
   "outputs": [],
   "source": [
    "def train(train_set, valid_set, epochs=10, warmup_size=0.1, lr=1e-3, batch_size=16):\n",
    "    model = get_model(model_name)\n",
    "    optim = AdamW(model.parameters(), lr=lr)\n",
    "    scheduler = get_scheduler(\n",
    "        optim, warmup_size, round(len(train_set) / batch_size * epochs)\n",
    "    )\n",
    "    training_args = get_training_args(epochs, batch_size)\n",
    "    trainer = Trainer(\n",
    "        model=model,\n",
    "        args=training_args,\n",
    "        train_dataset=train_set,\n",
    "        eval_dataset=valid_set,\n",
    "        optimizers=[optim, scheduler],\n",
    "        compute_metrics=compute_accuracy,\n",
    "    )\n",
    "    trainer.train()\n",
    "    trainer.save_model()\n",
    "    return trainer"
   ]
  },
  {
   "cell_type": "code",
   "execution_count": 7,
   "id": "795b1ff2",
   "metadata": {
    "execution": {
     "iopub.execute_input": "2022-07-30T12:59:23.294387Z",
     "iopub.status.busy": "2022-07-30T12:59:23.293501Z",
     "iopub.status.idle": "2022-07-30T12:59:23.295128Z",
     "shell.execute_reply": "2022-07-30T12:59:23.295645Z",
     "shell.execute_reply.started": "2022-07-30T12:56:01.482275Z"
    },
    "papermill": {
     "duration": 0.040942,
     "end_time": "2022-07-30T12:59:23.295786",
     "exception": false,
     "start_time": "2022-07-30T12:59:23.254844",
     "status": "completed"
    },
    "tags": []
   },
   "outputs": [],
   "source": [
    "def get_model(pretrained_checkpoint):\n",
    "    model = AutoModelForSequenceClassification.from_pretrained(\n",
    "        pretrained_checkpoint, num_labels=6\n",
    "    )\n",
    "    return model.to(device)"
   ]
  },
  {
   "cell_type": "code",
   "execution_count": 8,
   "id": "b68e7e27",
   "metadata": {
    "execution": {
     "iopub.execute_input": "2022-07-30T12:59:23.370431Z",
     "iopub.status.busy": "2022-07-30T12:59:23.369425Z",
     "iopub.status.idle": "2022-07-30T12:59:23.371190Z",
     "shell.execute_reply": "2022-07-30T12:59:23.371619Z",
     "shell.execute_reply.started": "2022-07-30T12:56:01.491854Z"
    },
    "papermill": {
     "duration": 0.042803,
     "end_time": "2022-07-30T12:59:23.371761",
     "exception": false,
     "start_time": "2022-07-30T12:59:23.328958",
     "status": "completed"
    },
    "tags": []
   },
   "outputs": [],
   "source": [
    "os.environ[\"WANDB_DISABLED\"] = \"true\"\n",
    "\n",
    "\n",
    "def get_scheduler(optimizer, warmup_size, total_steps):\n",
    "    scheduler = get_cosine_schedule_with_warmup(\n",
    "        optimizer,\n",
    "        num_warmup_steps=round(total_steps * warmup_size),\n",
    "        num_training_steps=total_steps,\n",
    "    )\n",
    "    return scheduler\n",
    "\n",
    "\n",
    "def get_training_args(epochs, batch_size):\n",
    "    return TrainingArguments(\n",
    "        output_dir=\"./b\",\n",
    "        num_train_epochs=epochs,\n",
    "        per_device_train_batch_size=batch_size,\n",
    "        logging_steps=50,\n",
    "        fp16=False,\n",
    "        evaluation_strategy=\"epoch\",\n",
    "        eval_accumulation_steps=1,\n",
    "        report_to=None,\n",
    "        save_total_limit=1,\n",
    "        load_best_model_at_end=True\n",
    "    )\n",
    "\n",
    "\n",
    "def compute_accuracy(pred):\n",
    "    labels = pred.label_ids\n",
    "    preds = pred.predictions.argmax(-1)\n",
    "    acc = accuracy_score(labels, preds)\n",
    "    return {\"accuracy\": acc}\n",
    "\n"
   ]
  },
  {
   "cell_type": "code",
   "execution_count": 9,
   "id": "06f3aa94",
   "metadata": {
    "execution": {
     "iopub.execute_input": "2022-07-30T12:59:23.443105Z",
     "iopub.status.busy": "2022-07-30T12:59:23.442317Z",
     "iopub.status.idle": "2022-07-30T12:59:23.446692Z",
     "shell.execute_reply": "2022-07-30T12:59:23.446210Z",
     "shell.execute_reply.started": "2022-07-30T12:56:01.502028Z"
    },
    "papermill": {
     "duration": 0.041911,
     "end_time": "2022-07-30T12:59:23.446810",
     "exception": false,
     "start_time": "2022-07-30T12:59:23.404899",
     "status": "completed"
    },
    "tags": []
   },
   "outputs": [],
   "source": [
    "lr = 2e-5\n",
    "epochs =  7\n",
    "batch_size = 8\n",
    "max_seq_len = 512"
   ]
  },
  {
   "cell_type": "code",
   "execution_count": 10,
   "id": "06b5bc9c",
   "metadata": {
    "execution": {
     "iopub.execute_input": "2022-07-30T12:59:23.518926Z",
     "iopub.status.busy": "2022-07-30T12:59:23.518013Z",
     "iopub.status.idle": "2022-07-30T12:59:23.519821Z",
     "shell.execute_reply": "2022-07-30T12:59:23.520287Z",
     "shell.execute_reply.started": "2022-07-30T12:56:01.515702Z"
    },
    "papermill": {
     "duration": 0.041039,
     "end_time": "2022-07-30T12:59:23.520429",
     "exception": false,
     "start_time": "2022-07-30T12:59:23.479390",
     "status": "completed"
    },
    "tags": []
   },
   "outputs": [],
   "source": [
    "def split_valid(df, frac=0.01):\n",
    "    \n",
    "    val = pd.DataFrame()\n",
    "    val[\"text\"] = \"\"\n",
    "    val[\"label\"] = -1\n",
    "    \n",
    "    for i in df.label.unique():\n",
    "        val = pd.concat([val, df[df.label == i].sample(frac=frac)])\n",
    "        \n",
    "    return df[~df.index.isin(val.index)].reset_index(drop=True) , val.reset_index(drop=True)"
   ]
  },
  {
   "cell_type": "code",
   "execution_count": 11,
   "id": "02d224ef",
   "metadata": {
    "execution": {
     "iopub.execute_input": "2022-07-30T12:59:23.655321Z",
     "iopub.status.busy": "2022-07-30T12:59:23.654523Z",
     "iopub.status.idle": "2022-07-30T12:59:23.688051Z",
     "shell.execute_reply": "2022-07-30T12:59:23.687490Z",
     "shell.execute_reply.started": "2022-07-30T12:56:01.528056Z"
    },
    "papermill": {
     "duration": 0.077961,
     "end_time": "2022-07-30T12:59:23.688198",
     "exception": false,
     "start_time": "2022-07-30T12:59:23.610237",
     "status": "completed"
    },
    "tags": []
   },
   "outputs": [],
   "source": [
    "train_set_df = pd.read_csv(\"../input/fr-cerfr/dataset_to_be_annotated_-_dataset_to_be_annotated.csv\")\n",
    "train_set_df.drop(\"Unnamed: 3\", axis=1, inplace=True)\n",
    "train_set_df = train_set_df[pd.notnull(train_set_df['cefr'])]\n",
    "train_set_df = train_set_df.reset_index(drop=True)\n",
    "train_set_df.columns=[\"text\",\"lens\",\"label\"]\n",
    "train_set_df = train_set_df[train_set_df.label != \"-\"]\n",
    "train_set_df = train_set_df[[\"text\", \"label\"]]"
   ]
  },
  {
   "cell_type": "code",
   "execution_count": 12,
   "id": "96872e5c",
   "metadata": {
    "execution": {
     "iopub.execute_input": "2022-07-30T12:59:23.761608Z",
     "iopub.status.busy": "2022-07-30T12:59:23.760963Z",
     "iopub.status.idle": "2022-07-30T12:59:23.800217Z",
     "shell.execute_reply": "2022-07-30T12:59:23.799699Z",
     "shell.execute_reply.started": "2022-07-30T12:56:01.545080Z"
    },
    "papermill": {
     "duration": 0.077861,
     "end_time": "2022-07-30T12:59:23.800376",
     "exception": false,
     "start_time": "2022-07-30T12:59:23.722515",
     "status": "completed"
    },
    "tags": []
   },
   "outputs": [],
   "source": [
    "A1_A2=pd.read_csv(\"../input/collecteda1a2/frr.csv - Feuil1.csv\")\n",
    "A1_A2=A1_A2.dropna()\n",
    "A1_A2.columns=[\"text\",\"label\"]\n",
    "A1_A2 = A1_A2.reset_index(drop=True)\n",
    "A1A2=pd.read_csv(\"../input/collecteda1a2/complete.csv.csv\")\n",
    "A1__A2=pd.read_csv(\"../input/a1-a2-ex/A1_A2_tran.csv\")"
   ]
  },
  {
   "cell_type": "code",
   "execution_count": 13,
   "id": "685d0566",
   "metadata": {
    "execution": {
     "iopub.execute_input": "2022-07-30T12:59:23.878095Z",
     "iopub.status.busy": "2022-07-30T12:59:23.877426Z",
     "iopub.status.idle": "2022-07-30T12:59:23.880167Z",
     "shell.execute_reply": "2022-07-30T12:59:23.880612Z",
     "shell.execute_reply.started": "2022-07-30T12:56:01.615127Z"
    },
    "papermill": {
     "duration": 0.046875,
     "end_time": "2022-07-30T12:59:23.880762",
     "exception": false,
     "start_time": "2022-07-30T12:59:23.833887",
     "status": "completed"
    },
    "tags": []
   },
   "outputs": [
    {
     "data": {
      "text/plain": [
       "B1                        43\n",
       "A2                        24\n",
       "B2                        14\n",
       "A1                        13\n",
       " A2                        1\n",
       "texte language familer     1\n",
       "B1 (répétition 41)         1\n",
       "B25                        1\n",
       "Name: label, dtype: int64"
      ]
     },
     "execution_count": 13,
     "metadata": {},
     "output_type": "execute_result"
    }
   ],
   "source": [
    "A1_A2[\"label\"].value_counts()"
   ]
  },
  {
   "cell_type": "code",
   "execution_count": 14,
   "id": "c1a80d7c",
   "metadata": {
    "execution": {
     "iopub.execute_input": "2022-07-30T12:59:23.977383Z",
     "iopub.status.busy": "2022-07-30T12:59:23.967569Z",
     "iopub.status.idle": "2022-07-30T12:59:23.982231Z",
     "shell.execute_reply": "2022-07-30T12:59:23.982676Z",
     "shell.execute_reply.started": "2022-07-30T12:56:01.866171Z"
    },
    "papermill": {
     "duration": 0.068801,
     "end_time": "2022-07-30T12:59:23.982834",
     "exception": false,
     "start_time": "2022-07-30T12:59:23.914033",
     "status": "completed"
    },
    "tags": []
   },
   "outputs": [],
   "source": [
    "\"\"\"separating the new dataset into sentences with keeping the same labels\"\"\"\n",
    "df=pd.DataFrame({\"text\":[] , \"label\":[]})\n",
    "L=[]\n",
    "l=[]\n",
    "for i in range(A1__A2.shape[0]):\n",
    "    P=[]\n",
    "    nb=0\n",
    "    K=[]\n",
    "    label=A1__A2.loc[i,\"label\"]\n",
    "    P.append(A1__A2.loc[i,\"text\"].split(\".\"))\n",
    "    P=[i for p in P for i in p]\n",
    "    for i in P:\n",
    "        L.append(i)\n",
    "    nb=len(P)\n",
    "    for j in range(nb):\n",
    "        l.append(label)\n",
    "\n",
    "    \n",
    "\n",
    "df[\"text\"]=L\n",
    "df[\"label\"]=l"
   ]
  },
  {
   "cell_type": "code",
   "execution_count": 15,
   "id": "a80a6974",
   "metadata": {
    "execution": {
     "iopub.execute_input": "2022-07-30T12:59:24.058558Z",
     "iopub.status.busy": "2022-07-30T12:59:24.057833Z",
     "iopub.status.idle": "2022-07-30T12:59:24.060561Z",
     "shell.execute_reply": "2022-07-30T12:59:24.060967Z",
     "shell.execute_reply.started": "2022-07-30T12:56:01.966294Z"
    },
    "papermill": {
     "duration": 0.044209,
     "end_time": "2022-07-30T12:59:24.061107",
     "exception": false,
     "start_time": "2022-07-30T12:59:24.016898",
     "status": "completed"
    },
    "tags": []
   },
   "outputs": [
    {
     "data": {
      "text/plain": [
       "A2    5811\n",
       "A1    4236\n",
       "Name: label, dtype: int64"
      ]
     },
     "execution_count": 15,
     "metadata": {},
     "output_type": "execute_result"
    }
   ],
   "source": [
    "df.label.value_counts()"
   ]
  },
  {
   "cell_type": "code",
   "execution_count": 16,
   "id": "ca6c8d79",
   "metadata": {
    "execution": {
     "iopub.execute_input": "2022-07-30T12:59:24.140693Z",
     "iopub.status.busy": "2022-07-30T12:59:24.139809Z",
     "iopub.status.idle": "2022-07-30T12:59:24.141816Z",
     "shell.execute_reply": "2022-07-30T12:59:24.142238Z",
     "shell.execute_reply.started": "2022-07-30T12:56:02.168972Z"
    },
    "papermill": {
     "duration": 0.047328,
     "end_time": "2022-07-30T12:59:24.142413",
     "exception": false,
     "start_time": "2022-07-30T12:59:24.095085",
     "status": "completed"
    },
    "tags": []
   },
   "outputs": [],
   "source": [
    "\"\"\"new dataframe that contain only A1 , A2 , B1 , B2\"\"\"\n",
    "txt=[]\n",
    "label=[]\n",
    "nb=0\n",
    "nbb=0\n",
    "for i in range(A1_A2.shape[0]):\n",
    "    if A1_A2.loc[i,\"label\"]==\"A2\":\n",
    "        txt.append(A1_A2.loc[i,\"text\"])\n",
    "        label.append(A1_A2.loc[i,\"label\"])\n",
    "       \n",
    "    if  A1_A2.loc[i,\"label\"]==\"A1\": \n",
    "            txt.append(A1_A2.loc[i,\"text\"])\n",
    "            label.append(A1_A2.loc[i,\"label\"])\n",
    "#     elif  A1_A2.loc[i,\"label\"]==\"B1\": \n",
    "#             txt.append(A1_A2.loc[i,\"text\"])\n",
    "#             label.append(A1_A2.loc[i,\"label\"])\n",
    "#     elif  A1_A2.loc[i,\"label\"]==\"B2\": \n",
    "#             txt.append(A1_A2.loc[i,\"text\"])\n",
    "#             label.append(A1_A2.loc[i,\"label\"])\n",
    "A1_A2_=pd.DataFrame({\"text\":txt,\"label\":label})\n"
   ]
  },
  {
   "cell_type": "code",
   "execution_count": 17,
   "id": "1962205f",
   "metadata": {
    "execution": {
     "iopub.execute_input": "2022-07-30T12:59:24.212997Z",
     "iopub.status.busy": "2022-07-30T12:59:24.212185Z",
     "iopub.status.idle": "2022-07-30T12:59:24.219630Z",
     "shell.execute_reply": "2022-07-30T12:59:24.219139Z",
     "shell.execute_reply.started": "2022-07-30T12:56:02.510274Z"
    },
    "papermill": {
     "duration": 0.044221,
     "end_time": "2022-07-30T12:59:24.219747",
     "exception": false,
     "start_time": "2022-07-30T12:59:24.175526",
     "status": "completed"
    },
    "tags": []
   },
   "outputs": [
    {
     "data": {
      "text/plain": [
       "A2    24\n",
       "A1    13\n",
       "Name: label, dtype: int64"
      ]
     },
     "execution_count": 17,
     "metadata": {},
     "output_type": "execute_result"
    }
   ],
   "source": [
    "A1_A2_.label.value_counts()"
   ]
  },
  {
   "cell_type": "code",
   "execution_count": 18,
   "id": "5b8d6ed6",
   "metadata": {
    "execution": {
     "iopub.execute_input": "2022-07-30T12:59:24.291900Z",
     "iopub.status.busy": "2022-07-30T12:59:24.289351Z",
     "iopub.status.idle": "2022-07-30T12:59:24.293884Z",
     "shell.execute_reply": "2022-07-30T12:59:24.294331Z",
     "shell.execute_reply.started": "2022-07-30T12:56:02.805884Z"
    },
    "jupyter": {
     "source_hidden": true
    },
    "papermill": {
     "duration": 0.040889,
     "end_time": "2022-07-30T12:59:24.294481",
     "exception": false,
     "start_time": "2022-07-30T12:59:24.253592",
     "status": "completed"
    },
    "tags": []
   },
   "outputs": [],
   "source": [
    "# \"\"\"new dataframe that contain only A1 , A2 , B1 , B2\"\"\"\n",
    "# txt=[]\n",
    "# label=[]\n",
    "# nb=0\n",
    "# nbb=0\n",
    "# for i in range(A1_A2.shape[0]):\n",
    "# #     if A1_A2.loc[i,\"label\"]==\"A2\":\n",
    "# #         txt.append(A1_A2.loc[i,\"text\"])\n",
    "# #         label.append(A1_A2.loc[i,\"label\"])\n",
    "       \n",
    "#     if  A1_A2.loc[i,\"label\"]==\"A1\": \n",
    "#             txt.append(A1_A2.loc[i,\"text\"])\n",
    "#             label.append(A1_A2.loc[i,\"label\"])\n",
    "# #     elif  A1_A2.loc[i,\"label\"]==\"B1\": \n",
    "# #             txt.append(A1_A2.loc[i,\"text\"])\n",
    "# #             label.append(A1_A2.loc[i,\"label\"])\n",
    "# #     elif  A1_A2.loc[i,\"label\"]==\"B2\": \n",
    "# #             txt.append(A1_A2.loc[i,\"text\"])\n",
    "# #             label.append(A1_A2.loc[i,\"label\"])\n",
    "# A1_A2_=pd.DataFrame({\"text\":txt,\"label\":label})"
   ]
  },
  {
   "cell_type": "code",
   "execution_count": 19,
   "id": "5b54e57b",
   "metadata": {
    "execution": {
     "iopub.execute_input": "2022-07-30T12:59:24.367094Z",
     "iopub.status.busy": "2022-07-30T12:59:24.366299Z",
     "iopub.status.idle": "2022-07-30T12:59:24.368901Z",
     "shell.execute_reply": "2022-07-30T12:59:24.368422Z",
     "shell.execute_reply.started": "2022-07-30T12:56:02.839582Z"
    },
    "papermill": {
     "duration": 0.041093,
     "end_time": "2022-07-30T12:59:24.369018",
     "exception": false,
     "start_time": "2022-07-30T12:59:24.327925",
     "status": "completed"
    },
    "tags": []
   },
   "outputs": [],
   "source": [
    "# \"\"\"try to translate All A2 to A1 , because the model coundt catch A1 ,\"\"\" \"failed\"\n",
    "# for i in range(A1__A2.shape[0]):\n",
    "#     if A1__A2.loc[i,\"label\"]==\"A2\":\n",
    "#         A1__A2.loc[i,\"label\"]=\"A1\""
   ]
  },
  {
   "cell_type": "code",
   "execution_count": 20,
   "id": "4dd3b3f5",
   "metadata": {
    "execution": {
     "iopub.execute_input": "2022-07-30T12:59:24.468224Z",
     "iopub.status.busy": "2022-07-30T12:59:24.467399Z",
     "iopub.status.idle": "2022-07-30T12:59:24.485325Z",
     "shell.execute_reply": "2022-07-30T12:59:24.486333Z",
     "shell.execute_reply.started": "2022-07-30T12:56:02.966065Z"
    },
    "papermill": {
     "duration": 0.083339,
     "end_time": "2022-07-30T12:59:24.486647",
     "exception": false,
     "start_time": "2022-07-30T12:59:24.403308",
     "status": "completed"
    },
    "tags": []
   },
   "outputs": [
    {
     "data": {
      "text/plain": [
       "A2    24\n",
       "A1    13\n",
       "Name: label, dtype: int64"
      ]
     },
     "execution_count": 20,
     "metadata": {},
     "output_type": "execute_result"
    }
   ],
   "source": [
    "A1_A2_[\"label\"].value_counts()"
   ]
  },
  {
   "cell_type": "code",
   "execution_count": 21,
   "id": "605d244d",
   "metadata": {
    "execution": {
     "iopub.execute_input": "2022-07-30T12:59:24.611039Z",
     "iopub.status.busy": "2022-07-30T12:59:24.610197Z",
     "iopub.status.idle": "2022-07-30T12:59:24.616098Z",
     "shell.execute_reply": "2022-07-30T12:59:24.616703Z",
     "shell.execute_reply.started": "2022-07-30T12:56:03.222654Z"
    },
    "papermill": {
     "duration": 0.068811,
     "end_time": "2022-07-30T12:59:24.616905",
     "exception": false,
     "start_time": "2022-07-30T12:59:24.548094",
     "status": "completed"
    },
    "tags": []
   },
   "outputs": [
    {
     "data": {
      "text/plain": [
       "A2    5811\n",
       "A1    4236\n",
       "Name: label, dtype: int64"
      ]
     },
     "execution_count": 21,
     "metadata": {},
     "output_type": "execute_result"
    }
   ],
   "source": [
    "df[\"label\"].value_counts()"
   ]
  },
  {
   "cell_type": "code",
   "execution_count": 22,
   "id": "0c757fe7",
   "metadata": {
    "execution": {
     "iopub.execute_input": "2022-07-30T12:59:24.738213Z",
     "iopub.status.busy": "2022-07-30T12:59:24.737297Z",
     "iopub.status.idle": "2022-07-30T12:59:24.739655Z",
     "shell.execute_reply": "2022-07-30T12:59:24.738957Z",
     "shell.execute_reply.started": "2022-07-30T12:56:03.519831Z"
    },
    "papermill": {
     "duration": 0.067115,
     "end_time": "2022-07-30T12:59:24.739815",
     "exception": false,
     "start_time": "2022-07-30T12:59:24.672700",
     "status": "completed"
    },
    "tags": []
   },
   "outputs": [],
   "source": [
    "train_set_df=pd.concat([train_set_df , A1_A2_], ignore_index=True)"
   ]
  },
  {
   "cell_type": "code",
   "execution_count": 23,
   "id": "eb0f6fb4",
   "metadata": {
    "execution": {
     "iopub.execute_input": "2022-07-30T12:59:24.859627Z",
     "iopub.status.busy": "2022-07-30T12:59:24.858729Z",
     "iopub.status.idle": "2022-07-30T12:59:24.881057Z",
     "shell.execute_reply": "2022-07-30T12:59:24.881991Z",
     "shell.execute_reply.started": "2022-07-30T12:56:03.700807Z"
    },
    "papermill": {
     "duration": 0.086269,
     "end_time": "2022-07-30T12:59:24.882199",
     "exception": false,
     "start_time": "2022-07-30T12:59:24.795930",
     "status": "completed"
    },
    "tags": []
   },
   "outputs": [],
   "source": [
    "from sklearn import preprocessing\n",
    "le = preprocessing.LabelEncoder()\n",
    "\n",
    "train_set_df.text = train_set_df.text.apply(lambda x: x.replace(\"\\r\", \"\").replace(\"\\n\", \" \"))\n",
    "\n",
    "# extra_df = pd.read_csv(\"../input/frenchcefr/french_mike_june.csv\")\n",
    "# extra_df.columns = [\"text\", \"label\", \"label_\"]\n",
    "# extra_df = extra_df[[\"text\", \"label\"]]\n",
    "# extra_df.text = extra_df.text.astype(str)\n",
    "#train_set_df = pd.concat([train_set_df, extra_df]).reset_index(drop=True)\n",
    "\n",
    "train_set_df, valid_set_df = split_valid(train_set_df)"
   ]
  },
  {
   "cell_type": "code",
   "execution_count": 24,
   "id": "3fc109b7",
   "metadata": {
    "execution": {
     "iopub.execute_input": "2022-07-30T12:59:25.006901Z",
     "iopub.status.busy": "2022-07-30T12:59:25.005453Z",
     "iopub.status.idle": "2022-07-30T12:59:25.014477Z",
     "shell.execute_reply": "2022-07-30T12:59:25.013988Z",
     "shell.execute_reply.started": "2022-07-30T12:56:04.091209Z"
    },
    "papermill": {
     "duration": 0.076321,
     "end_time": "2022-07-30T12:59:25.014621",
     "exception": false,
     "start_time": "2022-07-30T12:59:24.938300",
     "status": "completed"
    },
    "tags": []
   },
   "outputs": [],
   "source": [
    "for i in range(train_set_df.shape[0]):\n",
    "    if train_set_df.loc[i,\"label\"]==\"c1\":\n",
    "        train_set_df.loc[i,\"label\"]=\"C1\""
   ]
  },
  {
   "cell_type": "code",
   "execution_count": 25,
   "id": "c6b828eb",
   "metadata": {
    "execution": {
     "iopub.execute_input": "2022-07-30T12:59:25.091008Z",
     "iopub.status.busy": "2022-07-30T12:59:25.090412Z",
     "iopub.status.idle": "2022-07-30T12:59:25.093127Z",
     "shell.execute_reply": "2022-07-30T12:59:25.093580Z",
     "shell.execute_reply.started": "2022-07-30T12:56:04.443963Z"
    },
    "papermill": {
     "duration": 0.04452,
     "end_time": "2022-07-30T12:59:25.093729",
     "exception": false,
     "start_time": "2022-07-30T12:59:25.049209",
     "status": "completed"
    },
    "tags": []
   },
   "outputs": [
    {
     "data": {
      "text/plain": [
       "array(['C1', 'B2', 'B1', 'A2', 'C2', 'A1'], dtype=object)"
      ]
     },
     "execution_count": 25,
     "metadata": {},
     "output_type": "execute_result"
    }
   ],
   "source": [
    "train_set_df.label.unique()"
   ]
  },
  {
   "cell_type": "code",
   "execution_count": 26,
   "id": "7513a6f1",
   "metadata": {
    "execution": {
     "iopub.execute_input": "2022-07-30T12:59:25.170797Z",
     "iopub.status.busy": "2022-07-30T12:59:25.170118Z",
     "iopub.status.idle": "2022-07-30T12:59:25.172860Z",
     "shell.execute_reply": "2022-07-30T12:59:25.173314Z",
     "shell.execute_reply.started": "2022-07-30T12:56:04.763081Z"
    },
    "papermill": {
     "duration": 0.044767,
     "end_time": "2022-07-30T12:59:25.173464",
     "exception": false,
     "start_time": "2022-07-30T12:59:25.128697",
     "status": "completed"
    },
    "tags": []
   },
   "outputs": [
    {
     "data": {
      "text/plain": [
       "B2    91\n",
       "B1    50\n",
       "C1    37\n",
       "A2    28\n",
       "A1    13\n",
       "C2    12\n",
       "Name: label, dtype: int64"
      ]
     },
     "execution_count": 26,
     "metadata": {},
     "output_type": "execute_result"
    }
   ],
   "source": [
    "train_set_df.label.value_counts()"
   ]
  },
  {
   "cell_type": "code",
   "execution_count": 27,
   "id": "8df6fb68",
   "metadata": {
    "execution": {
     "iopub.execute_input": "2022-07-30T12:59:25.247192Z",
     "iopub.status.busy": "2022-07-30T12:59:25.246392Z",
     "iopub.status.idle": "2022-07-30T12:59:25.251445Z",
     "shell.execute_reply": "2022-07-30T12:59:25.251878Z",
     "shell.execute_reply.started": "2022-07-30T12:56:05.078901Z"
    },
    "papermill": {
     "duration": 0.04334,
     "end_time": "2022-07-30T12:59:25.252022",
     "exception": false,
     "start_time": "2022-07-30T12:59:25.208682",
     "status": "completed"
    },
    "tags": []
   },
   "outputs": [],
   "source": [
    "train_set_df.label = le.fit_transform(train_set_df.label)\n",
    "valid_set_df.label = le.transform(valid_set_df.label)"
   ]
  },
  {
   "cell_type": "code",
   "execution_count": 28,
   "id": "4290b608",
   "metadata": {
    "execution": {
     "iopub.execute_input": "2022-07-30T12:59:25.326107Z",
     "iopub.status.busy": "2022-07-30T12:59:25.325326Z",
     "iopub.status.idle": "2022-07-30T12:59:25.332180Z",
     "shell.execute_reply": "2022-07-30T12:59:25.332635Z",
     "shell.execute_reply.started": "2022-07-30T12:56:05.266536Z"
    },
    "papermill": {
     "duration": 0.045005,
     "end_time": "2022-07-30T12:59:25.332781",
     "exception": false,
     "start_time": "2022-07-30T12:59:25.287776",
     "status": "completed"
    },
    "tags": []
   },
   "outputs": [
    {
     "data": {
      "text/plain": [
       "array([4, 3, 2, 1, 5, 0])"
      ]
     },
     "execution_count": 28,
     "metadata": {},
     "output_type": "execute_result"
    }
   ],
   "source": [
    "train_set_df.label.unique()"
   ]
  },
  {
   "cell_type": "code",
   "execution_count": 29,
   "id": "8451905c",
   "metadata": {
    "execution": {
     "iopub.execute_input": "2022-07-30T12:59:25.409603Z",
     "iopub.status.busy": "2022-07-30T12:59:25.408951Z",
     "iopub.status.idle": "2022-07-30T12:59:25.411617Z",
     "shell.execute_reply": "2022-07-30T12:59:25.412023Z",
     "shell.execute_reply.started": "2022-07-30T12:56:05.523488Z"
    },
    "papermill": {
     "duration": 0.044316,
     "end_time": "2022-07-30T12:59:25.412176",
     "exception": false,
     "start_time": "2022-07-30T12:59:25.367860",
     "status": "completed"
    },
    "tags": []
   },
   "outputs": [
    {
     "data": {
      "text/plain": [
       "1"
      ]
     },
     "execution_count": 29,
     "metadata": {},
     "output_type": "execute_result"
    }
   ],
   "source": [
    "valid_set_df.label.nunique()"
   ]
  },
  {
   "cell_type": "code",
   "execution_count": 30,
   "id": "995166a8",
   "metadata": {
    "execution": {
     "iopub.execute_input": "2022-07-30T12:59:25.487854Z",
     "iopub.status.busy": "2022-07-30T12:59:25.486997Z",
     "iopub.status.idle": "2022-07-30T12:59:25.489060Z",
     "shell.execute_reply": "2022-07-30T12:59:25.489457Z",
     "shell.execute_reply.started": "2022-07-30T12:56:05.769150Z"
    },
    "papermill": {
     "duration": 0.041926,
     "end_time": "2022-07-30T12:59:25.489603",
     "exception": false,
     "start_time": "2022-07-30T12:59:25.447677",
     "status": "completed"
    },
    "tags": []
   },
   "outputs": [],
   "source": [
    "# train_set_df = train_set_df.sample(frac=1)"
   ]
  },
  {
   "cell_type": "code",
   "execution_count": 31,
   "id": "b5ad498e",
   "metadata": {
    "execution": {
     "iopub.execute_input": "2022-07-30T12:59:25.567416Z",
     "iopub.status.busy": "2022-07-30T12:59:25.566532Z",
     "iopub.status.idle": "2022-07-30T12:59:25.568232Z",
     "shell.execute_reply": "2022-07-30T12:59:25.568778Z",
     "shell.execute_reply.started": "2022-07-30T12:56:05.996689Z"
    },
    "papermill": {
     "duration": 0.04352,
     "end_time": "2022-07-30T12:59:25.568923",
     "exception": false,
     "start_time": "2022-07-30T12:59:25.525403",
     "status": "completed"
    },
    "tags": []
   },
   "outputs": [],
   "source": [
    "from tqdm import tqdm \n",
    "\n",
    "def predict(model, text):\n",
    "    \n",
    "    preds = []\n",
    "    \n",
    "    for i in tqdm(range(len(text))):\n",
    "        tokenized = tokenizer(text[i:i+1], return_tensors=\"pt\", truncation=True, max_length=512).to(\"cuda\")\n",
    "        pred = model(**tokenized)\n",
    "        preds.append(pred.logits.argmax(-1).item())\n",
    "\n",
    "    return preds"
   ]
  },
  {
   "cell_type": "code",
   "execution_count": 32,
   "id": "ea686676",
   "metadata": {
    "execution": {
     "iopub.execute_input": "2022-07-30T12:59:25.645772Z",
     "iopub.status.busy": "2022-07-30T12:59:25.644671Z",
     "iopub.status.idle": "2022-07-30T13:02:16.890494Z",
     "shell.execute_reply": "2022-07-30T13:02:16.889912Z",
     "shell.execute_reply.started": "2022-07-30T12:56:06.136044Z"
    },
    "papermill": {
     "duration": 171.286758,
     "end_time": "2022-07-30T13:02:16.890647",
     "exception": false,
     "start_time": "2022-07-30T12:59:25.603889",
     "status": "completed"
    },
    "tags": []
   },
   "outputs": [
    {
     "name": "stdout",
     "output_type": "stream",
     "text": [
      "{}\n",
      "{}\n"
     ]
    },
    {
     "data": {
      "application/vnd.jupyter.widget-view+json": {
       "model_id": "78dc78bd9aac468fa1a01e6530d521bd",
       "version_major": 2,
       "version_minor": 0
      },
      "text/plain": [
       "Downloading:   0%|          | 0.00/445M [00:00<?, ?B/s]"
      ]
     },
     "metadata": {},
     "output_type": "display_data"
    },
    {
     "name": "stderr",
     "output_type": "stream",
     "text": [
      "Some weights of the model checkpoint at dbmdz/bert-base-french-europeana-cased were not used when initializing BertForSequenceClassification: ['cls.predictions.bias', 'cls.predictions.transform.dense.weight', 'cls.predictions.transform.dense.bias', 'cls.predictions.transform.LayerNorm.weight', 'cls.predictions.transform.LayerNorm.bias', 'cls.predictions.decoder.weight', 'cls.predictions.decoder.bias', 'cls.seq_relationship.weight', 'cls.seq_relationship.bias']\n",
      "- This IS expected if you are initializing BertForSequenceClassification from the checkpoint of a model trained on another task or with another architecture (e.g. initializing a BertForSequenceClassification model from a BertForPreTraining model).\n",
      "- This IS NOT expected if you are initializing BertForSequenceClassification from the checkpoint of a model that you expect to be exactly identical (initializing a BertForSequenceClassification model from a BertForSequenceClassification model).\n",
      "Some weights of BertForSequenceClassification were not initialized from the model checkpoint at dbmdz/bert-base-french-europeana-cased and are newly initialized: ['classifier.weight', 'classifier.bias']\n",
      "You should probably TRAIN this model on a down-stream task to be able to use it for predictions and inference.\n",
      "Using the `WAND_DISABLED` environment variable is deprecated and will be removed in v5. Use the --report_to flag to control the integrations used for logging result (for instance --report_to none).\n"
     ]
    },
    {
     "data": {
      "text/html": [
       "\n",
       "    <div>\n",
       "        <style>\n",
       "            /* Turns off some styling */\n",
       "            progress {\n",
       "                /* gets rid of default border in Firefox and Opera. */\n",
       "                border: none;\n",
       "                /* Needs to be in here for Safari polyfill so background images work as expected. */\n",
       "                background-size: auto;\n",
       "            }\n",
       "        </style>\n",
       "      \n",
       "      <progress value='203' max='203' style='width:300px; height:20px; vertical-align: middle;'></progress>\n",
       "      [203/203 02:17, Epoch 7/7]\n",
       "    </div>\n",
       "    <table border=\"1\" class=\"dataframe\">\n",
       "  <thead>\n",
       "    <tr style=\"text-align: left;\">\n",
       "      <th>Epoch</th>\n",
       "      <th>Training Loss</th>\n",
       "      <th>Validation Loss</th>\n",
       "      <th>Accuracy</th>\n",
       "      <th>Runtime</th>\n",
       "      <th>Samples Per Second</th>\n",
       "    </tr>\n",
       "  </thead>\n",
       "  <tbody>\n",
       "    <tr>\n",
       "      <td>1</td>\n",
       "      <td>No log</td>\n",
       "      <td>2.160720</td>\n",
       "      <td>0.000000</td>\n",
       "      <td>0.039800</td>\n",
       "      <td>25.107000</td>\n",
       "    </tr>\n",
       "    <tr>\n",
       "      <td>2</td>\n",
       "      <td>1.630900</td>\n",
       "      <td>3.411439</td>\n",
       "      <td>0.000000</td>\n",
       "      <td>0.030900</td>\n",
       "      <td>32.382000</td>\n",
       "    </tr>\n",
       "    <tr>\n",
       "      <td>3</td>\n",
       "      <td>1.630900</td>\n",
       "      <td>3.781452</td>\n",
       "      <td>0.000000</td>\n",
       "      <td>0.052400</td>\n",
       "      <td>19.068000</td>\n",
       "    </tr>\n",
       "    <tr>\n",
       "      <td>4</td>\n",
       "      <td>1.100500</td>\n",
       "      <td>4.148752</td>\n",
       "      <td>0.000000</td>\n",
       "      <td>0.031600</td>\n",
       "      <td>31.638000</td>\n",
       "    </tr>\n",
       "    <tr>\n",
       "      <td>5</td>\n",
       "      <td>1.100500</td>\n",
       "      <td>4.421740</td>\n",
       "      <td>0.000000</td>\n",
       "      <td>0.035200</td>\n",
       "      <td>28.430000</td>\n",
       "    </tr>\n",
       "    <tr>\n",
       "      <td>6</td>\n",
       "      <td>0.789200</td>\n",
       "      <td>4.594963</td>\n",
       "      <td>0.000000</td>\n",
       "      <td>0.032000</td>\n",
       "      <td>31.267000</td>\n",
       "    </tr>\n",
       "    <tr>\n",
       "      <td>7</td>\n",
       "      <td>0.602800</td>\n",
       "      <td>4.577701</td>\n",
       "      <td>0.000000</td>\n",
       "      <td>0.032400</td>\n",
       "      <td>30.910000</td>\n",
       "    </tr>\n",
       "  </tbody>\n",
       "</table><p>"
      ],
      "text/plain": [
       "<IPython.core.display.HTML object>"
      ]
     },
     "metadata": {},
     "output_type": "display_data"
    }
   ],
   "source": [
    "train_set = CEFRDataset(train_set_df[\"text\"], train_set_df[\"label\"])\n",
    "valid_set = CEFRDataset(valid_set_df[\"text\"], valid_set_df[\"label\"])\n",
    "\n",
    "\n",
    "trainer_second = train(train_set, valid_set, epochs=epochs, warmup_size=0.2, lr=lr, batch_size=batch_size)\n",
    "model = trainer_second.model"
   ]
  },
  {
   "cell_type": "code",
   "execution_count": 33,
   "id": "1cd8af18",
   "metadata": {
    "execution": {
     "iopub.execute_input": "2022-07-30T13:02:16.973107Z",
     "iopub.status.busy": "2022-07-30T13:02:16.972555Z",
     "iopub.status.idle": "2022-07-30T13:02:17.002340Z",
     "shell.execute_reply": "2022-07-30T13:02:17.001817Z",
     "shell.execute_reply.started": "2022-07-30T12:58:31.584247Z"
    },
    "papermill": {
     "duration": 0.072481,
     "end_time": "2022-07-30T13:02:17.002470",
     "exception": false,
     "start_time": "2022-07-30T13:02:16.929989",
     "status": "completed"
    },
    "tags": []
   },
   "outputs": [
    {
     "name": "stderr",
     "output_type": "stream",
     "text": [
      "100%|██████████| 1/1 [00:00<00:00, 51.13it/s]\n"
     ]
    }
   ],
   "source": [
    "valid_set_df[\"preds\"] = train_set.encoder.inverse_transform(predict(model, valid_set_df.text.tolist()))\n",
    "valid_set_df.columns = [\"text\", \"cefr\", \"preds\",] "
   ]
  },
  {
   "cell_type": "code",
   "execution_count": 34,
   "id": "56ce6b99",
   "metadata": {
    "execution": {
     "iopub.execute_input": "2022-07-30T13:02:17.084049Z",
     "iopub.status.busy": "2022-07-30T13:02:17.083230Z",
     "iopub.status.idle": "2022-07-30T13:02:18.486157Z",
     "shell.execute_reply": "2022-07-30T13:02:18.486593Z",
     "shell.execute_reply.started": "2022-07-30T12:58:31.617842Z"
    },
    "papermill": {
     "duration": 1.445304,
     "end_time": "2022-07-30T13:02:18.486745",
     "exception": false,
     "start_time": "2022-07-30T13:02:17.041441",
     "status": "completed"
    },
    "tags": []
   },
   "outputs": [
    {
     "name": "stderr",
     "output_type": "stream",
     "text": [
      "100%|██████████| 111/111 [00:01<00:00, 80.65it/s]\n"
     ]
    }
   ],
   "source": [
    "lingua = pd.read_csv(\"../input/lingua/fr_lingua.csv\")\n",
    "lingua[\"preds\"] = train_set.encoder.inverse_transform(predict(model, lingua.text.tolist()))"
   ]
  },
  {
   "cell_type": "code",
   "execution_count": 35,
   "id": "ccf56bb3",
   "metadata": {
    "execution": {
     "iopub.execute_input": "2022-07-30T13:02:18.577838Z",
     "iopub.status.busy": "2022-07-30T13:02:18.577171Z",
     "iopub.status.idle": "2022-07-30T13:02:18.580094Z",
     "shell.execute_reply": "2022-07-30T13:02:18.580536Z",
     "shell.execute_reply.started": "2022-07-30T12:58:32.990989Z"
    },
    "papermill": {
     "duration": 0.051487,
     "end_time": "2022-07-30T13:02:18.580683",
     "exception": false,
     "start_time": "2022-07-30T13:02:18.529196",
     "status": "completed"
    },
    "tags": []
   },
   "outputs": [
    {
     "data": {
      "text/plain": [
       "(111, 3)"
      ]
     },
     "execution_count": 35,
     "metadata": {},
     "output_type": "execute_result"
    }
   ],
   "source": [
    "lingua.shape"
   ]
  },
  {
   "cell_type": "code",
   "execution_count": 36,
   "id": "71bab90b",
   "metadata": {
    "execution": {
     "iopub.execute_input": "2022-07-30T13:02:18.673905Z",
     "iopub.status.busy": "2022-07-30T13:02:18.673078Z",
     "iopub.status.idle": "2022-07-30T13:02:18.675924Z",
     "shell.execute_reply": "2022-07-30T13:02:18.676463Z",
     "shell.execute_reply.started": "2022-07-30T12:58:32.999333Z"
    },
    "papermill": {
     "duration": 0.053082,
     "end_time": "2022-07-30T13:02:18.676617",
     "exception": false,
     "start_time": "2022-07-30T13:02:18.623535",
     "status": "completed"
    },
    "tags": []
   },
   "outputs": [
    {
     "data": {
      "text/plain": [
       "B1    60\n",
       "A2    26\n",
       "A1    13\n",
       "B2    12\n",
       "Name: cefr, dtype: int64"
      ]
     },
     "execution_count": 36,
     "metadata": {},
     "output_type": "execute_result"
    }
   ],
   "source": [
    "lingua.cefr.value_counts()"
   ]
  },
  {
   "cell_type": "code",
   "execution_count": 37,
   "id": "5cbd4f4d",
   "metadata": {
    "execution": {
     "iopub.execute_input": "2022-07-30T13:02:18.770962Z",
     "iopub.status.busy": "2022-07-30T13:02:18.770342Z",
     "iopub.status.idle": "2022-07-30T13:02:18.773081Z",
     "shell.execute_reply": "2022-07-30T13:02:18.773519Z",
     "shell.execute_reply.started": "2022-07-30T12:58:33.013430Z"
    },
    "papermill": {
     "duration": 0.052623,
     "end_time": "2022-07-30T13:02:18.773672",
     "exception": false,
     "start_time": "2022-07-30T13:02:18.721049",
     "status": "completed"
    },
    "tags": []
   },
   "outputs": [
    {
     "data": {
      "text/plain": [
       "array([1, 3])"
      ]
     },
     "execution_count": 37,
     "metadata": {},
     "output_type": "execute_result"
    }
   ],
   "source": [
    "lingua.preds.unique()"
   ]
  },
  {
   "cell_type": "code",
   "execution_count": 38,
   "id": "b4d431c7",
   "metadata": {
    "execution": {
     "iopub.execute_input": "2022-07-30T13:02:18.867558Z",
     "iopub.status.busy": "2022-07-30T13:02:18.866645Z",
     "iopub.status.idle": "2022-07-30T13:02:18.868488Z",
     "shell.execute_reply": "2022-07-30T13:02:18.868902Z",
     "shell.execute_reply.started": "2022-07-30T12:58:33.023841Z"
    },
    "papermill": {
     "duration": 0.051519,
     "end_time": "2022-07-30T13:02:18.869040",
     "exception": false,
     "start_time": "2022-07-30T13:02:18.817521",
     "status": "completed"
    },
    "tags": []
   },
   "outputs": [],
   "source": [
    "def compute_average_distance(df, col_name=\"cefr\") :\n",
    "    \n",
    "    labels = [\"A1\", \"A2\", \"B1\", \"B2\", \"C1\", \"C2\"]\n",
    "    return (df[col_name].apply(lambda x: labels.index(x)) - df.preds.apply(lambda x: labels.index(x))).abs().mean()\n"
   ]
  },
  {
   "cell_type": "code",
   "execution_count": 39,
   "id": "b8341ff4",
   "metadata": {
    "execution": {
     "iopub.execute_input": "2022-07-30T13:02:18.964113Z",
     "iopub.status.busy": "2022-07-30T13:02:18.963133Z",
     "iopub.status.idle": "2022-07-30T13:02:18.967560Z",
     "shell.execute_reply": "2022-07-30T13:02:18.967079Z",
     "shell.execute_reply.started": "2022-07-30T12:58:33.034894Z"
    },
    "papermill": {
     "duration": 0.054513,
     "end_time": "2022-07-30T13:02:18.967705",
     "exception": false,
     "start_time": "2022-07-30T13:02:18.913192",
     "status": "completed"
    },
    "tags": []
   },
   "outputs": [
    {
     "data": {
      "text/plain": [
       "1    68\n",
       "3    43\n",
       "Name: preds, dtype: int64"
      ]
     },
     "execution_count": 39,
     "metadata": {},
     "output_type": "execute_result"
    }
   ],
   "source": [
    "lingua.preds.value_counts()"
   ]
  },
  {
   "cell_type": "code",
   "execution_count": 40,
   "id": "9311e858",
   "metadata": {
    "execution": {
     "iopub.execute_input": "2022-07-30T13:02:19.062836Z",
     "iopub.status.busy": "2022-07-30T13:02:19.062218Z",
     "iopub.status.idle": "2022-07-30T13:02:19.066156Z",
     "shell.execute_reply": "2022-07-30T13:02:19.065739Z",
     "shell.execute_reply.started": "2022-07-30T12:58:33.046942Z"
    },
    "papermill": {
     "duration": 0.053454,
     "end_time": "2022-07-30T13:02:19.066296",
     "exception": false,
     "start_time": "2022-07-30T13:02:19.012842",
     "status": "completed"
    },
    "tags": []
   },
   "outputs": [],
   "source": [
    "lingua[\"preds\"] = le.inverse_transform(lingua.preds)"
   ]
  },
  {
   "cell_type": "code",
   "execution_count": 41,
   "id": "f6f55df5",
   "metadata": {
    "execution": {
     "iopub.execute_input": "2022-07-30T13:02:19.162603Z",
     "iopub.status.busy": "2022-07-30T13:02:19.159512Z",
     "iopub.status.idle": "2022-07-30T13:02:19.166308Z",
     "shell.execute_reply": "2022-07-30T13:02:19.165818Z",
     "shell.execute_reply.started": "2022-07-30T12:58:33.056691Z"
    },
    "papermill": {
     "duration": 0.056046,
     "end_time": "2022-07-30T13:02:19.166432",
     "exception": false,
     "start_time": "2022-07-30T13:02:19.110386",
     "status": "completed"
    },
    "tags": []
   },
   "outputs": [
    {
     "data": {
      "text/plain": [
       "B1    60\n",
       "A2    26\n",
       "A1    13\n",
       "B2    12\n",
       "Name: cefr, dtype: int64"
      ]
     },
     "execution_count": 41,
     "metadata": {},
     "output_type": "execute_result"
    }
   ],
   "source": [
    "lingua.cefr.value_counts()"
   ]
  },
  {
   "cell_type": "code",
   "execution_count": 42,
   "id": "28491eb4",
   "metadata": {
    "execution": {
     "iopub.execute_input": "2022-07-30T13:02:19.262197Z",
     "iopub.status.busy": "2022-07-30T13:02:19.261532Z",
     "iopub.status.idle": "2022-07-30T13:02:19.264328Z",
     "shell.execute_reply": "2022-07-30T13:02:19.264750Z",
     "shell.execute_reply.started": "2022-07-30T12:58:33.067979Z"
    },
    "papermill": {
     "duration": 0.053993,
     "end_time": "2022-07-30T13:02:19.264892",
     "exception": false,
     "start_time": "2022-07-30T13:02:19.210899",
     "status": "completed"
    },
    "tags": []
   },
   "outputs": [
    {
     "data": {
      "text/plain": [
       "A2    68\n",
       "B2    43\n",
       "Name: preds, dtype: int64"
      ]
     },
     "execution_count": 42,
     "metadata": {},
     "output_type": "execute_result"
    }
   ],
   "source": [
    "lingua.preds.value_counts()"
   ]
  },
  {
   "cell_type": "code",
   "execution_count": 43,
   "id": "08128ecb",
   "metadata": {
    "execution": {
     "iopub.execute_input": "2022-07-30T13:02:19.359564Z",
     "iopub.status.busy": "2022-07-30T13:02:19.358847Z",
     "iopub.status.idle": "2022-07-30T13:02:19.364642Z",
     "shell.execute_reply": "2022-07-30T13:02:19.364006Z",
     "shell.execute_reply.started": "2022-07-30T12:58:33.081102Z"
    },
    "papermill": {
     "duration": 0.055974,
     "end_time": "2022-07-30T13:02:19.364795",
     "exception": false,
     "start_time": "2022-07-30T13:02:19.308821",
     "status": "completed"
    },
    "tags": []
   },
   "outputs": [
    {
     "name": "stdout",
     "output_type": "stream",
     "text": [
      "Distance: \n",
      "0.8738738738738738\n",
      "Lingua accuracy: 0.2702702702702703\n"
     ]
    }
   ],
   "source": [
    "print(\"Distance: \")\n",
    "print(compute_average_distance(lingua, \"cefr\"))\n",
    "\n",
    "print(f\"Lingua accuracy: {(lingua['preds'] == lingua['cefr']).mean()}\")"
   ]
  },
  {
   "cell_type": "code",
   "execution_count": 44,
   "id": "3e12d0b9",
   "metadata": {
    "execution": {
     "iopub.execute_input": "2022-07-30T13:02:19.466299Z",
     "iopub.status.busy": "2022-07-30T13:02:19.465491Z",
     "iopub.status.idle": "2022-07-30T13:02:19.469011Z",
     "shell.execute_reply": "2022-07-30T13:02:19.468591Z",
     "shell.execute_reply.started": "2022-07-30T12:58:33.091091Z"
    },
    "papermill": {
     "duration": 0.056014,
     "end_time": "2022-07-30T13:02:19.469138",
     "exception": false,
     "start_time": "2022-07-30T13:02:19.413124",
     "status": "completed"
    },
    "tags": []
   },
   "outputs": [],
   "source": [
    "# lingua.columns=[\"text\",\"cefr\",\"preds:A1_A2_from_trans_data&new_data,acc:0.5\"]\n",
    "# lingua.to_csv(\"lingua1.csv\", index=False)"
   ]
  },
  {
   "cell_type": "markdown",
   "id": "fe28afe8",
   "metadata": {
    "papermill": {
     "duration": 0.044954,
     "end_time": "2022-07-30T13:02:19.559750",
     "exception": false,
     "start_time": "2022-07-30T13:02:19.514796",
     "status": "completed"
    },
    "tags": []
   },
   "source": [
    "****"
   ]
  },
  {
   "cell_type": "markdown",
   "id": "ab8748c8",
   "metadata": {
    "papermill": {
     "duration": 0.044041,
     "end_time": "2022-07-30T13:02:19.648313",
     "exception": false,
     "start_time": "2022-07-30T13:02:19.604272",
     "status": "completed"
    },
    "tags": []
   },
   "source": [
    "****"
   ]
  },
  {
   "cell_type": "code",
   "execution_count": null,
   "id": "8f12dc27",
   "metadata": {
    "papermill": {
     "duration": 0.045754,
     "end_time": "2022-07-30T13:02:19.739488",
     "exception": false,
     "start_time": "2022-07-30T13:02:19.693734",
     "status": "completed"
    },
    "tags": []
   },
   "outputs": [],
   "source": []
  }
 ],
 "metadata": {
  "kernelspec": {
   "display_name": "Python 3",
   "language": "python",
   "name": "python3"
  },
  "language_info": {
   "codemirror_mode": {
    "name": "ipython",
    "version": 3
   },
   "file_extension": ".py",
   "mimetype": "text/x-python",
   "name": "python",
   "nbconvert_exporter": "python",
   "pygments_lexer": "ipython3",
   "version": "3.7.10"
  },
  "papermill": {
   "default_parameters": {},
   "duration": 200.449815,
   "end_time": "2022-07-30T13:02:23.455431",
   "environment_variables": {},
   "exception": null,
   "input_path": "__notebook__.ipynb",
   "output_path": "__notebook__.ipynb",
   "parameters": {},
   "start_time": "2022-07-30T12:59:03.005616",
   "version": "2.3.3"
  },
  "widgets": {
   "application/vnd.jupyter.widget-state+json": {
    "state": {
     "01542ae38e044504b082bb3eed15a990": {
      "model_module": "@jupyter-widgets/controls",
      "model_module_version": "1.5.0",
      "model_name": "DescriptionStyleModel",
      "state": {
       "_model_module": "@jupyter-widgets/controls",
       "_model_module_version": "1.5.0",
       "_model_name": "DescriptionStyleModel",
       "_view_count": null,
       "_view_module": "@jupyter-widgets/base",
       "_view_module_version": "1.2.0",
       "_view_name": "StyleView",
       "description_width": ""
      }
     },
     "06a8c3bcff184746b817e52a9d755483": {
      "model_module": "@jupyter-widgets/base",
      "model_module_version": "1.2.0",
      "model_name": "LayoutModel",
      "state": {
       "_model_module": "@jupyter-widgets/base",
       "_model_module_version": "1.2.0",
       "_model_name": "LayoutModel",
       "_view_count": null,
       "_view_module": "@jupyter-widgets/base",
       "_view_module_version": "1.2.0",
       "_view_name": "LayoutView",
       "align_content": null,
       "align_items": null,
       "align_self": null,
       "border": null,
       "bottom": null,
       "display": null,
       "flex": null,
       "flex_flow": null,
       "grid_area": null,
       "grid_auto_columns": null,
       "grid_auto_flow": null,
       "grid_auto_rows": null,
       "grid_column": null,
       "grid_gap": null,
       "grid_row": null,
       "grid_template_areas": null,
       "grid_template_columns": null,
       "grid_template_rows": null,
       "height": null,
       "justify_content": null,
       "justify_items": null,
       "left": null,
       "margin": null,
       "max_height": null,
       "max_width": null,
       "min_height": null,
       "min_width": null,
       "object_fit": null,
       "object_position": null,
       "order": null,
       "overflow": null,
       "overflow_x": null,
       "overflow_y": null,
       "padding": null,
       "right": null,
       "top": null,
       "visibility": null,
       "width": null
      }
     },
     "1a8257a45d4b40a2800a881b72fe2242": {
      "model_module": "@jupyter-widgets/controls",
      "model_module_version": "1.5.0",
      "model_name": "HTMLModel",
      "state": {
       "_dom_classes": [],
       "_model_module": "@jupyter-widgets/controls",
       "_model_module_version": "1.5.0",
       "_model_name": "HTMLModel",
       "_view_count": null,
       "_view_module": "@jupyter-widgets/controls",
       "_view_module_version": "1.5.0",
       "_view_name": "HTMLView",
       "description": "",
       "description_tooltip": null,
       "layout": "IPY_MODEL_e72408be6f6d46e999d0e934e085d182",
       "placeholder": "​",
       "style": "IPY_MODEL_77fff542b12942fc876edea9eca59042",
       "value": "Downloading: 100%"
      }
     },
     "1ca566a06ca146668e862e847c7f3c3b": {
      "model_module": "@jupyter-widgets/controls",
      "model_module_version": "1.5.0",
      "model_name": "FloatProgressModel",
      "state": {
       "_dom_classes": [],
       "_model_module": "@jupyter-widgets/controls",
       "_model_module_version": "1.5.0",
       "_model_name": "FloatProgressModel",
       "_view_count": null,
       "_view_module": "@jupyter-widgets/controls",
       "_view_module_version": "1.5.0",
       "_view_name": "ProgressView",
       "bar_style": "success",
       "description": "",
       "description_tooltip": null,
       "layout": "IPY_MODEL_06a8c3bcff184746b817e52a9d755483",
       "max": 83.0,
       "min": 0.0,
       "orientation": "horizontal",
       "style": "IPY_MODEL_683c7fbc1a0e433798b45df76a01f9b5",
       "value": 83.0
      }
     },
     "227d9e132bc04e9c8d19d2f72964a15e": {
      "model_module": "@jupyter-widgets/controls",
      "model_module_version": "1.5.0",
      "model_name": "FloatProgressModel",
      "state": {
       "_dom_classes": [],
       "_model_module": "@jupyter-widgets/controls",
       "_model_module_version": "1.5.0",
       "_model_name": "FloatProgressModel",
       "_view_count": null,
       "_view_module": "@jupyter-widgets/controls",
       "_view_module_version": "1.5.0",
       "_view_name": "ProgressView",
       "bar_style": "success",
       "description": "",
       "description_tooltip": null,
       "layout": "IPY_MODEL_724577a24b4a45a79f82b5ef79b12e23",
       "max": 445018784.0,
       "min": 0.0,
       "orientation": "horizontal",
       "style": "IPY_MODEL_8efb54b13e01434bb181a4e4b6a7cee5",
       "value": 445018784.0
      }
     },
     "29a60a0a2cd94bca8aef7caf3fc73545": {
      "model_module": "@jupyter-widgets/base",
      "model_module_version": "1.2.0",
      "model_name": "LayoutModel",
      "state": {
       "_model_module": "@jupyter-widgets/base",
       "_model_module_version": "1.2.0",
       "_model_name": "LayoutModel",
       "_view_count": null,
       "_view_module": "@jupyter-widgets/base",
       "_view_module_version": "1.2.0",
       "_view_name": "LayoutView",
       "align_content": null,
       "align_items": null,
       "align_self": null,
       "border": null,
       "bottom": null,
       "display": null,
       "flex": null,
       "flex_flow": null,
       "grid_area": null,
       "grid_auto_columns": null,
       "grid_auto_flow": null,
       "grid_auto_rows": null,
       "grid_column": null,
       "grid_gap": null,
       "grid_row": null,
       "grid_template_areas": null,
       "grid_template_columns": null,
       "grid_template_rows": null,
       "height": null,
       "justify_content": null,
       "justify_items": null,
       "left": null,
       "margin": null,
       "max_height": null,
       "max_width": null,
       "min_height": null,
       "min_width": null,
       "object_fit": null,
       "object_position": null,
       "order": null,
       "overflow": null,
       "overflow_x": null,
       "overflow_y": null,
       "padding": null,
       "right": null,
       "top": null,
       "visibility": null,
       "width": null
      }
     },
     "2f8d0117d26f436dbea829aba8b0c3af": {
      "model_module": "@jupyter-widgets/base",
      "model_module_version": "1.2.0",
      "model_name": "LayoutModel",
      "state": {
       "_model_module": "@jupyter-widgets/base",
       "_model_module_version": "1.2.0",
       "_model_name": "LayoutModel",
       "_view_count": null,
       "_view_module": "@jupyter-widgets/base",
       "_view_module_version": "1.2.0",
       "_view_name": "LayoutView",
       "align_content": null,
       "align_items": null,
       "align_self": null,
       "border": null,
       "bottom": null,
       "display": null,
       "flex": null,
       "flex_flow": null,
       "grid_area": null,
       "grid_auto_columns": null,
       "grid_auto_flow": null,
       "grid_auto_rows": null,
       "grid_column": null,
       "grid_gap": null,
       "grid_row": null,
       "grid_template_areas": null,
       "grid_template_columns": null,
       "grid_template_rows": null,
       "height": null,
       "justify_content": null,
       "justify_items": null,
       "left": null,
       "margin": null,
       "max_height": null,
       "max_width": null,
       "min_height": null,
       "min_width": null,
       "object_fit": null,
       "object_position": null,
       "order": null,
       "overflow": null,
       "overflow_x": null,
       "overflow_y": null,
       "padding": null,
       "right": null,
       "top": null,
       "visibility": null,
       "width": null
      }
     },
     "305fb271cafc4ac099b775210655fab6": {
      "model_module": "@jupyter-widgets/controls",
      "model_module_version": "1.5.0",
      "model_name": "DescriptionStyleModel",
      "state": {
       "_model_module": "@jupyter-widgets/controls",
       "_model_module_version": "1.5.0",
       "_model_name": "DescriptionStyleModel",
       "_view_count": null,
       "_view_module": "@jupyter-widgets/base",
       "_view_module_version": "1.2.0",
       "_view_name": "StyleView",
       "description_width": ""
      }
     },
     "31be41cbbf894ef6ba821778616d109c": {
      "model_module": "@jupyter-widgets/controls",
      "model_module_version": "1.5.0",
      "model_name": "HTMLModel",
      "state": {
       "_dom_classes": [],
       "_model_module": "@jupyter-widgets/controls",
       "_model_module_version": "1.5.0",
       "_model_name": "HTMLModel",
       "_view_count": null,
       "_view_module": "@jupyter-widgets/controls",
       "_view_module_version": "1.5.0",
       "_view_name": "HTMLView",
       "description": "",
       "description_tooltip": null,
       "layout": "IPY_MODEL_35262fd490654bd1a6369965e4a2e3b1",
       "placeholder": "​",
       "style": "IPY_MODEL_01542ae38e044504b082bb3eed15a990",
       "value": " 420/420 [00:00&lt;00:00, 15.8kB/s]"
      }
     },
     "35262fd490654bd1a6369965e4a2e3b1": {
      "model_module": "@jupyter-widgets/base",
      "model_module_version": "1.2.0",
      "model_name": "LayoutModel",
      "state": {
       "_model_module": "@jupyter-widgets/base",
       "_model_module_version": "1.2.0",
       "_model_name": "LayoutModel",
       "_view_count": null,
       "_view_module": "@jupyter-widgets/base",
       "_view_module_version": "1.2.0",
       "_view_name": "LayoutView",
       "align_content": null,
       "align_items": null,
       "align_self": null,
       "border": null,
       "bottom": null,
       "display": null,
       "flex": null,
       "flex_flow": null,
       "grid_area": null,
       "grid_auto_columns": null,
       "grid_auto_flow": null,
       "grid_auto_rows": null,
       "grid_column": null,
       "grid_gap": null,
       "grid_row": null,
       "grid_template_areas": null,
       "grid_template_columns": null,
       "grid_template_rows": null,
       "height": null,
       "justify_content": null,
       "justify_items": null,
       "left": null,
       "margin": null,
       "max_height": null,
       "max_width": null,
       "min_height": null,
       "min_width": null,
       "object_fit": null,
       "object_position": null,
       "order": null,
       "overflow": null,
       "overflow_x": null,
       "overflow_y": null,
       "padding": null,
       "right": null,
       "top": null,
       "visibility": null,
       "width": null
      }
     },
     "355de6f030a74c36b5b3dfb4cefc11e1": {
      "model_module": "@jupyter-widgets/controls",
      "model_module_version": "1.5.0",
      "model_name": "HTMLModel",
      "state": {
       "_dom_classes": [],
       "_model_module": "@jupyter-widgets/controls",
       "_model_module_version": "1.5.0",
       "_model_name": "HTMLModel",
       "_view_count": null,
       "_view_module": "@jupyter-widgets/controls",
       "_view_module_version": "1.5.0",
       "_view_name": "HTMLView",
       "description": "",
       "description_tooltip": null,
       "layout": "IPY_MODEL_aae75e4bea5e40e78b02dd761c9af0b4",
       "placeholder": "​",
       "style": "IPY_MODEL_cd1f131da42147f0a5b8f3dc09674f33",
       "value": " 445M/445M [00:21&lt;00:00, 22.1MB/s]"
      }
     },
     "39365b5f49014ca5a027c370b1817559": {
      "model_module": "@jupyter-widgets/base",
      "model_module_version": "1.2.0",
      "model_name": "LayoutModel",
      "state": {
       "_model_module": "@jupyter-widgets/base",
       "_model_module_version": "1.2.0",
       "_model_name": "LayoutModel",
       "_view_count": null,
       "_view_module": "@jupyter-widgets/base",
       "_view_module_version": "1.2.0",
       "_view_name": "LayoutView",
       "align_content": null,
       "align_items": null,
       "align_self": null,
       "border": null,
       "bottom": null,
       "display": null,
       "flex": null,
       "flex_flow": null,
       "grid_area": null,
       "grid_auto_columns": null,
       "grid_auto_flow": null,
       "grid_auto_rows": null,
       "grid_column": null,
       "grid_gap": null,
       "grid_row": null,
       "grid_template_areas": null,
       "grid_template_columns": null,
       "grid_template_rows": null,
       "height": null,
       "justify_content": null,
       "justify_items": null,
       "left": null,
       "margin": null,
       "max_height": null,
       "max_width": null,
       "min_height": null,
       "min_width": null,
       "object_fit": null,
       "object_position": null,
       "order": null,
       "overflow": null,
       "overflow_x": null,
       "overflow_y": null,
       "padding": null,
       "right": null,
       "top": null,
       "visibility": null,
       "width": null
      }
     },
     "3ee3d00bab9346d38dc4637aa05ae5e0": {
      "model_module": "@jupyter-widgets/controls",
      "model_module_version": "1.5.0",
      "model_name": "ProgressStyleModel",
      "state": {
       "_model_module": "@jupyter-widgets/controls",
       "_model_module_version": "1.5.0",
       "_model_name": "ProgressStyleModel",
       "_view_count": null,
       "_view_module": "@jupyter-widgets/base",
       "_view_module_version": "1.2.0",
       "_view_name": "StyleView",
       "bar_color": null,
       "description_width": ""
      }
     },
     "44e276437ecc4f7e90417744dc61d618": {
      "model_module": "@jupyter-widgets/base",
      "model_module_version": "1.2.0",
      "model_name": "LayoutModel",
      "state": {
       "_model_module": "@jupyter-widgets/base",
       "_model_module_version": "1.2.0",
       "_model_name": "LayoutModel",
       "_view_count": null,
       "_view_module": "@jupyter-widgets/base",
       "_view_module_version": "1.2.0",
       "_view_name": "LayoutView",
       "align_content": null,
       "align_items": null,
       "align_self": null,
       "border": null,
       "bottom": null,
       "display": null,
       "flex": null,
       "flex_flow": null,
       "grid_area": null,
       "grid_auto_columns": null,
       "grid_auto_flow": null,
       "grid_auto_rows": null,
       "grid_column": null,
       "grid_gap": null,
       "grid_row": null,
       "grid_template_areas": null,
       "grid_template_columns": null,
       "grid_template_rows": null,
       "height": null,
       "justify_content": null,
       "justify_items": null,
       "left": null,
       "margin": null,
       "max_height": null,
       "max_width": null,
       "min_height": null,
       "min_width": null,
       "object_fit": null,
       "object_position": null,
       "order": null,
       "overflow": null,
       "overflow_x": null,
       "overflow_y": null,
       "padding": null,
       "right": null,
       "top": null,
       "visibility": null,
       "width": null
      }
     },
     "46c4a46c52d7446289761ba0572a091f": {
      "model_module": "@jupyter-widgets/base",
      "model_module_version": "1.2.0",
      "model_name": "LayoutModel",
      "state": {
       "_model_module": "@jupyter-widgets/base",
       "_model_module_version": "1.2.0",
       "_model_name": "LayoutModel",
       "_view_count": null,
       "_view_module": "@jupyter-widgets/base",
       "_view_module_version": "1.2.0",
       "_view_name": "LayoutView",
       "align_content": null,
       "align_items": null,
       "align_self": null,
       "border": null,
       "bottom": null,
       "display": null,
       "flex": null,
       "flex_flow": null,
       "grid_area": null,
       "grid_auto_columns": null,
       "grid_auto_flow": null,
       "grid_auto_rows": null,
       "grid_column": null,
       "grid_gap": null,
       "grid_row": null,
       "grid_template_areas": null,
       "grid_template_columns": null,
       "grid_template_rows": null,
       "height": null,
       "justify_content": null,
       "justify_items": null,
       "left": null,
       "margin": null,
       "max_height": null,
       "max_width": null,
       "min_height": null,
       "min_width": null,
       "object_fit": null,
       "object_position": null,
       "order": null,
       "overflow": null,
       "overflow_x": null,
       "overflow_y": null,
       "padding": null,
       "right": null,
       "top": null,
       "visibility": null,
       "width": null
      }
     },
     "4fdd478d3e3342e88729cab7a241ad08": {
      "model_module": "@jupyter-widgets/controls",
      "model_module_version": "1.5.0",
      "model_name": "HTMLModel",
      "state": {
       "_dom_classes": [],
       "_model_module": "@jupyter-widgets/controls",
       "_model_module_version": "1.5.0",
       "_model_name": "HTMLModel",
       "_view_count": null,
       "_view_module": "@jupyter-widgets/controls",
       "_view_module_version": "1.5.0",
       "_view_name": "HTMLView",
       "description": "",
       "description_tooltip": null,
       "layout": "IPY_MODEL_70a4f0df42834bc2a12821cd95f5e086",
       "placeholder": "​",
       "style": "IPY_MODEL_ae508d7652a84969a2bec88900c8ccbc",
       "value": "Downloading: 100%"
      }
     },
     "55a8c4c7d9fb4749a759f08a8fe6c15d": {
      "model_module": "@jupyter-widgets/controls",
      "model_module_version": "1.5.0",
      "model_name": "HBoxModel",
      "state": {
       "_dom_classes": [],
       "_model_module": "@jupyter-widgets/controls",
       "_model_module_version": "1.5.0",
       "_model_name": "HBoxModel",
       "_view_count": null,
       "_view_module": "@jupyter-widgets/controls",
       "_view_module_version": "1.5.0",
       "_view_name": "HBoxView",
       "box_style": "",
       "children": [
        "IPY_MODEL_ae1ccc63424d4d1f803d6504e2cc1f3d",
        "IPY_MODEL_8625cc880f5748d388239bfd5d912aaa",
        "IPY_MODEL_77bbe115250d48e78e62547e0edd991e"
       ],
       "layout": "IPY_MODEL_ccf0ebb87ee84220afac8bb1bda46215"
      }
     },
     "5f11179220b24efdb6bc827f573bd92f": {
      "model_module": "@jupyter-widgets/base",
      "model_module_version": "1.2.0",
      "model_name": "LayoutModel",
      "state": {
       "_model_module": "@jupyter-widgets/base",
       "_model_module_version": "1.2.0",
       "_model_name": "LayoutModel",
       "_view_count": null,
       "_view_module": "@jupyter-widgets/base",
       "_view_module_version": "1.2.0",
       "_view_name": "LayoutView",
       "align_content": null,
       "align_items": null,
       "align_self": null,
       "border": null,
       "bottom": null,
       "display": null,
       "flex": null,
       "flex_flow": null,
       "grid_area": null,
       "grid_auto_columns": null,
       "grid_auto_flow": null,
       "grid_auto_rows": null,
       "grid_column": null,
       "grid_gap": null,
       "grid_row": null,
       "grid_template_areas": null,
       "grid_template_columns": null,
       "grid_template_rows": null,
       "height": null,
       "justify_content": null,
       "justify_items": null,
       "left": null,
       "margin": null,
       "max_height": null,
       "max_width": null,
       "min_height": null,
       "min_width": null,
       "object_fit": null,
       "object_position": null,
       "order": null,
       "overflow": null,
       "overflow_x": null,
       "overflow_y": null,
       "padding": null,
       "right": null,
       "top": null,
       "visibility": null,
       "width": null
      }
     },
     "683c7fbc1a0e433798b45df76a01f9b5": {
      "model_module": "@jupyter-widgets/controls",
      "model_module_version": "1.5.0",
      "model_name": "ProgressStyleModel",
      "state": {
       "_model_module": "@jupyter-widgets/controls",
       "_model_module_version": "1.5.0",
       "_model_name": "ProgressStyleModel",
       "_view_count": null,
       "_view_module": "@jupyter-widgets/base",
       "_view_module_version": "1.2.0",
       "_view_name": "StyleView",
       "bar_color": null,
       "description_width": ""
      }
     },
     "6eed2573d58c46d190a66dc219a14124": {
      "model_module": "@jupyter-widgets/controls",
      "model_module_version": "1.5.0",
      "model_name": "DescriptionStyleModel",
      "state": {
       "_model_module": "@jupyter-widgets/controls",
       "_model_module_version": "1.5.0",
       "_model_name": "DescriptionStyleModel",
       "_view_count": null,
       "_view_module": "@jupyter-widgets/base",
       "_view_module_version": "1.2.0",
       "_view_name": "StyleView",
       "description_width": ""
      }
     },
     "70a4f0df42834bc2a12821cd95f5e086": {
      "model_module": "@jupyter-widgets/base",
      "model_module_version": "1.2.0",
      "model_name": "LayoutModel",
      "state": {
       "_model_module": "@jupyter-widgets/base",
       "_model_module_version": "1.2.0",
       "_model_name": "LayoutModel",
       "_view_count": null,
       "_view_module": "@jupyter-widgets/base",
       "_view_module_version": "1.2.0",
       "_view_name": "LayoutView",
       "align_content": null,
       "align_items": null,
       "align_self": null,
       "border": null,
       "bottom": null,
       "display": null,
       "flex": null,
       "flex_flow": null,
       "grid_area": null,
       "grid_auto_columns": null,
       "grid_auto_flow": null,
       "grid_auto_rows": null,
       "grid_column": null,
       "grid_gap": null,
       "grid_row": null,
       "grid_template_areas": null,
       "grid_template_columns": null,
       "grid_template_rows": null,
       "height": null,
       "justify_content": null,
       "justify_items": null,
       "left": null,
       "margin": null,
       "max_height": null,
       "max_width": null,
       "min_height": null,
       "min_width": null,
       "object_fit": null,
       "object_position": null,
       "order": null,
       "overflow": null,
       "overflow_x": null,
       "overflow_y": null,
       "padding": null,
       "right": null,
       "top": null,
       "visibility": null,
       "width": null
      }
     },
     "70fc6578cda747b0b97c90f48bc1b736": {
      "model_module": "@jupyter-widgets/controls",
      "model_module_version": "1.5.0",
      "model_name": "FloatProgressModel",
      "state": {
       "_dom_classes": [],
       "_model_module": "@jupyter-widgets/controls",
       "_model_module_version": "1.5.0",
       "_model_name": "FloatProgressModel",
       "_view_count": null,
       "_view_module": "@jupyter-widgets/controls",
       "_view_module_version": "1.5.0",
       "_view_name": "ProgressView",
       "bar_style": "success",
       "description": "",
       "description_tooltip": null,
       "layout": "IPY_MODEL_39365b5f49014ca5a027c370b1817559",
       "max": 420.0,
       "min": 0.0,
       "orientation": "horizontal",
       "style": "IPY_MODEL_3ee3d00bab9346d38dc4637aa05ae5e0",
       "value": 420.0
      }
     },
     "724577a24b4a45a79f82b5ef79b12e23": {
      "model_module": "@jupyter-widgets/base",
      "model_module_version": "1.2.0",
      "model_name": "LayoutModel",
      "state": {
       "_model_module": "@jupyter-widgets/base",
       "_model_module_version": "1.2.0",
       "_model_name": "LayoutModel",
       "_view_count": null,
       "_view_module": "@jupyter-widgets/base",
       "_view_module_version": "1.2.0",
       "_view_name": "LayoutView",
       "align_content": null,
       "align_items": null,
       "align_self": null,
       "border": null,
       "bottom": null,
       "display": null,
       "flex": null,
       "flex_flow": null,
       "grid_area": null,
       "grid_auto_columns": null,
       "grid_auto_flow": null,
       "grid_auto_rows": null,
       "grid_column": null,
       "grid_gap": null,
       "grid_row": null,
       "grid_template_areas": null,
       "grid_template_columns": null,
       "grid_template_rows": null,
       "height": null,
       "justify_content": null,
       "justify_items": null,
       "left": null,
       "margin": null,
       "max_height": null,
       "max_width": null,
       "min_height": null,
       "min_width": null,
       "object_fit": null,
       "object_position": null,
       "order": null,
       "overflow": null,
       "overflow_x": null,
       "overflow_y": null,
       "padding": null,
       "right": null,
       "top": null,
       "visibility": null,
       "width": null
      }
     },
     "73a0930f312645e18c222928454688e0": {
      "model_module": "@jupyter-widgets/controls",
      "model_module_version": "1.5.0",
      "model_name": "DescriptionStyleModel",
      "state": {
       "_model_module": "@jupyter-widgets/controls",
       "_model_module_version": "1.5.0",
       "_model_name": "DescriptionStyleModel",
       "_view_count": null,
       "_view_module": "@jupyter-widgets/base",
       "_view_module_version": "1.2.0",
       "_view_name": "StyleView",
       "description_width": ""
      }
     },
     "77bbe115250d48e78e62547e0edd991e": {
      "model_module": "@jupyter-widgets/controls",
      "model_module_version": "1.5.0",
      "model_name": "HTMLModel",
      "state": {
       "_dom_classes": [],
       "_model_module": "@jupyter-widgets/controls",
       "_model_module_version": "1.5.0",
       "_model_name": "HTMLModel",
       "_view_count": null,
       "_view_module": "@jupyter-widgets/controls",
       "_view_module_version": "1.5.0",
       "_view_name": "HTMLView",
       "description": "",
       "description_tooltip": null,
       "layout": "IPY_MODEL_5f11179220b24efdb6bc827f573bd92f",
       "placeholder": "​",
       "style": "IPY_MODEL_73a0930f312645e18c222928454688e0",
       "value": " 227k/227k [00:00&lt;00:00, 563kB/s]"
      }
     },
     "77fff542b12942fc876edea9eca59042": {
      "model_module": "@jupyter-widgets/controls",
      "model_module_version": "1.5.0",
      "model_name": "DescriptionStyleModel",
      "state": {
       "_model_module": "@jupyter-widgets/controls",
       "_model_module_version": "1.5.0",
       "_model_name": "DescriptionStyleModel",
       "_view_count": null,
       "_view_module": "@jupyter-widgets/base",
       "_view_module_version": "1.2.0",
       "_view_name": "StyleView",
       "description_width": ""
      }
     },
     "78dc78bd9aac468fa1a01e6530d521bd": {
      "model_module": "@jupyter-widgets/controls",
      "model_module_version": "1.5.0",
      "model_name": "HBoxModel",
      "state": {
       "_dom_classes": [],
       "_model_module": "@jupyter-widgets/controls",
       "_model_module_version": "1.5.0",
       "_model_name": "HBoxModel",
       "_view_count": null,
       "_view_module": "@jupyter-widgets/controls",
       "_view_module_version": "1.5.0",
       "_view_name": "HBoxView",
       "box_style": "",
       "children": [
        "IPY_MODEL_4fdd478d3e3342e88729cab7a241ad08",
        "IPY_MODEL_227d9e132bc04e9c8d19d2f72964a15e",
        "IPY_MODEL_355de6f030a74c36b5b3dfb4cefc11e1"
       ],
       "layout": "IPY_MODEL_f44be795c47844458ed728254ad52d6f"
      }
     },
     "7c109e4c415f4789a7fdb0d84c5ae273": {
      "model_module": "@jupyter-widgets/base",
      "model_module_version": "1.2.0",
      "model_name": "LayoutModel",
      "state": {
       "_model_module": "@jupyter-widgets/base",
       "_model_module_version": "1.2.0",
       "_model_name": "LayoutModel",
       "_view_count": null,
       "_view_module": "@jupyter-widgets/base",
       "_view_module_version": "1.2.0",
       "_view_name": "LayoutView",
       "align_content": null,
       "align_items": null,
       "align_self": null,
       "border": null,
       "bottom": null,
       "display": null,
       "flex": null,
       "flex_flow": null,
       "grid_area": null,
       "grid_auto_columns": null,
       "grid_auto_flow": null,
       "grid_auto_rows": null,
       "grid_column": null,
       "grid_gap": null,
       "grid_row": null,
       "grid_template_areas": null,
       "grid_template_columns": null,
       "grid_template_rows": null,
       "height": null,
       "justify_content": null,
       "justify_items": null,
       "left": null,
       "margin": null,
       "max_height": null,
       "max_width": null,
       "min_height": null,
       "min_width": null,
       "object_fit": null,
       "object_position": null,
       "order": null,
       "overflow": null,
       "overflow_x": null,
       "overflow_y": null,
       "padding": null,
       "right": null,
       "top": null,
       "visibility": null,
       "width": null
      }
     },
     "8625cc880f5748d388239bfd5d912aaa": {
      "model_module": "@jupyter-widgets/controls",
      "model_module_version": "1.5.0",
      "model_name": "FloatProgressModel",
      "state": {
       "_dom_classes": [],
       "_model_module": "@jupyter-widgets/controls",
       "_model_module_version": "1.5.0",
       "_model_name": "FloatProgressModel",
       "_view_count": null,
       "_view_module": "@jupyter-widgets/controls",
       "_view_module_version": "1.5.0",
       "_view_name": "ProgressView",
       "bar_style": "success",
       "description": "",
       "description_tooltip": null,
       "layout": "IPY_MODEL_f2385496a3344c02991a38a31b6f78a3",
       "max": 227141.0,
       "min": 0.0,
       "orientation": "horizontal",
       "style": "IPY_MODEL_df0cc7ae8d0a4e8883f1702389b4c8bf",
       "value": 227141.0
      }
     },
     "8e5fede9226046498c20730edecc43da": {
      "model_module": "@jupyter-widgets/controls",
      "model_module_version": "1.5.0",
      "model_name": "HBoxModel",
      "state": {
       "_dom_classes": [],
       "_model_module": "@jupyter-widgets/controls",
       "_model_module_version": "1.5.0",
       "_model_name": "HBoxModel",
       "_view_count": null,
       "_view_module": "@jupyter-widgets/controls",
       "_view_module_version": "1.5.0",
       "_view_name": "HBoxView",
       "box_style": "",
       "children": [
        "IPY_MODEL_b879a033644b4caabcdf06fc126899ac",
        "IPY_MODEL_1ca566a06ca146668e862e847c7f3c3b",
        "IPY_MODEL_d99ce496b5014fc7a4314ba08b477be9"
       ],
       "layout": "IPY_MODEL_7c109e4c415f4789a7fdb0d84c5ae273"
      }
     },
     "8efb54b13e01434bb181a4e4b6a7cee5": {
      "model_module": "@jupyter-widgets/controls",
      "model_module_version": "1.5.0",
      "model_name": "ProgressStyleModel",
      "state": {
       "_model_module": "@jupyter-widgets/controls",
       "_model_module_version": "1.5.0",
       "_model_name": "ProgressStyleModel",
       "_view_count": null,
       "_view_module": "@jupyter-widgets/base",
       "_view_module_version": "1.2.0",
       "_view_name": "StyleView",
       "bar_color": null,
       "description_width": ""
      }
     },
     "9ed77e0245704ca3a79375b37b01a2b4": {
      "model_module": "@jupyter-widgets/controls",
      "model_module_version": "1.5.0",
      "model_name": "DescriptionStyleModel",
      "state": {
       "_model_module": "@jupyter-widgets/controls",
       "_model_module_version": "1.5.0",
       "_model_name": "DescriptionStyleModel",
       "_view_count": null,
       "_view_module": "@jupyter-widgets/base",
       "_view_module_version": "1.2.0",
       "_view_name": "StyleView",
       "description_width": ""
      }
     },
     "a7ebcba7b6ae4ec2a8713842c8400901": {
      "model_module": "@jupyter-widgets/controls",
      "model_module_version": "1.5.0",
      "model_name": "HBoxModel",
      "state": {
       "_dom_classes": [],
       "_model_module": "@jupyter-widgets/controls",
       "_model_module_version": "1.5.0",
       "_model_name": "HBoxModel",
       "_view_count": null,
       "_view_module": "@jupyter-widgets/controls",
       "_view_module_version": "1.5.0",
       "_view_name": "HBoxView",
       "box_style": "",
       "children": [
        "IPY_MODEL_1a8257a45d4b40a2800a881b72fe2242",
        "IPY_MODEL_70fc6578cda747b0b97c90f48bc1b736",
        "IPY_MODEL_31be41cbbf894ef6ba821778616d109c"
       ],
       "layout": "IPY_MODEL_29a60a0a2cd94bca8aef7caf3fc73545"
      }
     },
     "aae75e4bea5e40e78b02dd761c9af0b4": {
      "model_module": "@jupyter-widgets/base",
      "model_module_version": "1.2.0",
      "model_name": "LayoutModel",
      "state": {
       "_model_module": "@jupyter-widgets/base",
       "_model_module_version": "1.2.0",
       "_model_name": "LayoutModel",
       "_view_count": null,
       "_view_module": "@jupyter-widgets/base",
       "_view_module_version": "1.2.0",
       "_view_name": "LayoutView",
       "align_content": null,
       "align_items": null,
       "align_self": null,
       "border": null,
       "bottom": null,
       "display": null,
       "flex": null,
       "flex_flow": null,
       "grid_area": null,
       "grid_auto_columns": null,
       "grid_auto_flow": null,
       "grid_auto_rows": null,
       "grid_column": null,
       "grid_gap": null,
       "grid_row": null,
       "grid_template_areas": null,
       "grid_template_columns": null,
       "grid_template_rows": null,
       "height": null,
       "justify_content": null,
       "justify_items": null,
       "left": null,
       "margin": null,
       "max_height": null,
       "max_width": null,
       "min_height": null,
       "min_width": null,
       "object_fit": null,
       "object_position": null,
       "order": null,
       "overflow": null,
       "overflow_x": null,
       "overflow_y": null,
       "padding": null,
       "right": null,
       "top": null,
       "visibility": null,
       "width": null
      }
     },
     "ae1ccc63424d4d1f803d6504e2cc1f3d": {
      "model_module": "@jupyter-widgets/controls",
      "model_module_version": "1.5.0",
      "model_name": "HTMLModel",
      "state": {
       "_dom_classes": [],
       "_model_module": "@jupyter-widgets/controls",
       "_model_module_version": "1.5.0",
       "_model_name": "HTMLModel",
       "_view_count": null,
       "_view_module": "@jupyter-widgets/controls",
       "_view_module_version": "1.5.0",
       "_view_name": "HTMLView",
       "description": "",
       "description_tooltip": null,
       "layout": "IPY_MODEL_44e276437ecc4f7e90417744dc61d618",
       "placeholder": "​",
       "style": "IPY_MODEL_9ed77e0245704ca3a79375b37b01a2b4",
       "value": "Downloading: 100%"
      }
     },
     "ae508d7652a84969a2bec88900c8ccbc": {
      "model_module": "@jupyter-widgets/controls",
      "model_module_version": "1.5.0",
      "model_name": "DescriptionStyleModel",
      "state": {
       "_model_module": "@jupyter-widgets/controls",
       "_model_module_version": "1.5.0",
       "_model_name": "DescriptionStyleModel",
       "_view_count": null,
       "_view_module": "@jupyter-widgets/base",
       "_view_module_version": "1.2.0",
       "_view_name": "StyleView",
       "description_width": ""
      }
     },
     "b879a033644b4caabcdf06fc126899ac": {
      "model_module": "@jupyter-widgets/controls",
      "model_module_version": "1.5.0",
      "model_name": "HTMLModel",
      "state": {
       "_dom_classes": [],
       "_model_module": "@jupyter-widgets/controls",
       "_model_module_version": "1.5.0",
       "_model_name": "HTMLModel",
       "_view_count": null,
       "_view_module": "@jupyter-widgets/controls",
       "_view_module_version": "1.5.0",
       "_view_name": "HTMLView",
       "description": "",
       "description_tooltip": null,
       "layout": "IPY_MODEL_2f8d0117d26f436dbea829aba8b0c3af",
       "placeholder": "​",
       "style": "IPY_MODEL_305fb271cafc4ac099b775210655fab6",
       "value": "Downloading: 100%"
      }
     },
     "ccf0ebb87ee84220afac8bb1bda46215": {
      "model_module": "@jupyter-widgets/base",
      "model_module_version": "1.2.0",
      "model_name": "LayoutModel",
      "state": {
       "_model_module": "@jupyter-widgets/base",
       "_model_module_version": "1.2.0",
       "_model_name": "LayoutModel",
       "_view_count": null,
       "_view_module": "@jupyter-widgets/base",
       "_view_module_version": "1.2.0",
       "_view_name": "LayoutView",
       "align_content": null,
       "align_items": null,
       "align_self": null,
       "border": null,
       "bottom": null,
       "display": null,
       "flex": null,
       "flex_flow": null,
       "grid_area": null,
       "grid_auto_columns": null,
       "grid_auto_flow": null,
       "grid_auto_rows": null,
       "grid_column": null,
       "grid_gap": null,
       "grid_row": null,
       "grid_template_areas": null,
       "grid_template_columns": null,
       "grid_template_rows": null,
       "height": null,
       "justify_content": null,
       "justify_items": null,
       "left": null,
       "margin": null,
       "max_height": null,
       "max_width": null,
       "min_height": null,
       "min_width": null,
       "object_fit": null,
       "object_position": null,
       "order": null,
       "overflow": null,
       "overflow_x": null,
       "overflow_y": null,
       "padding": null,
       "right": null,
       "top": null,
       "visibility": null,
       "width": null
      }
     },
     "cd1f131da42147f0a5b8f3dc09674f33": {
      "model_module": "@jupyter-widgets/controls",
      "model_module_version": "1.5.0",
      "model_name": "DescriptionStyleModel",
      "state": {
       "_model_module": "@jupyter-widgets/controls",
       "_model_module_version": "1.5.0",
       "_model_name": "DescriptionStyleModel",
       "_view_count": null,
       "_view_module": "@jupyter-widgets/base",
       "_view_module_version": "1.2.0",
       "_view_name": "StyleView",
       "description_width": ""
      }
     },
     "d99ce496b5014fc7a4314ba08b477be9": {
      "model_module": "@jupyter-widgets/controls",
      "model_module_version": "1.5.0",
      "model_name": "HTMLModel",
      "state": {
       "_dom_classes": [],
       "_model_module": "@jupyter-widgets/controls",
       "_model_module_version": "1.5.0",
       "_model_name": "HTMLModel",
       "_view_count": null,
       "_view_module": "@jupyter-widgets/controls",
       "_view_module_version": "1.5.0",
       "_view_name": "HTMLView",
       "description": "",
       "description_tooltip": null,
       "layout": "IPY_MODEL_46c4a46c52d7446289761ba0572a091f",
       "placeholder": "​",
       "style": "IPY_MODEL_6eed2573d58c46d190a66dc219a14124",
       "value": " 83.0/83.0 [00:00&lt;00:00, 3.13kB/s]"
      }
     },
     "df0cc7ae8d0a4e8883f1702389b4c8bf": {
      "model_module": "@jupyter-widgets/controls",
      "model_module_version": "1.5.0",
      "model_name": "ProgressStyleModel",
      "state": {
       "_model_module": "@jupyter-widgets/controls",
       "_model_module_version": "1.5.0",
       "_model_name": "ProgressStyleModel",
       "_view_count": null,
       "_view_module": "@jupyter-widgets/base",
       "_view_module_version": "1.2.0",
       "_view_name": "StyleView",
       "bar_color": null,
       "description_width": ""
      }
     },
     "e72408be6f6d46e999d0e934e085d182": {
      "model_module": "@jupyter-widgets/base",
      "model_module_version": "1.2.0",
      "model_name": "LayoutModel",
      "state": {
       "_model_module": "@jupyter-widgets/base",
       "_model_module_version": "1.2.0",
       "_model_name": "LayoutModel",
       "_view_count": null,
       "_view_module": "@jupyter-widgets/base",
       "_view_module_version": "1.2.0",
       "_view_name": "LayoutView",
       "align_content": null,
       "align_items": null,
       "align_self": null,
       "border": null,
       "bottom": null,
       "display": null,
       "flex": null,
       "flex_flow": null,
       "grid_area": null,
       "grid_auto_columns": null,
       "grid_auto_flow": null,
       "grid_auto_rows": null,
       "grid_column": null,
       "grid_gap": null,
       "grid_row": null,
       "grid_template_areas": null,
       "grid_template_columns": null,
       "grid_template_rows": null,
       "height": null,
       "justify_content": null,
       "justify_items": null,
       "left": null,
       "margin": null,
       "max_height": null,
       "max_width": null,
       "min_height": null,
       "min_width": null,
       "object_fit": null,
       "object_position": null,
       "order": null,
       "overflow": null,
       "overflow_x": null,
       "overflow_y": null,
       "padding": null,
       "right": null,
       "top": null,
       "visibility": null,
       "width": null
      }
     },
     "f2385496a3344c02991a38a31b6f78a3": {
      "model_module": "@jupyter-widgets/base",
      "model_module_version": "1.2.0",
      "model_name": "LayoutModel",
      "state": {
       "_model_module": "@jupyter-widgets/base",
       "_model_module_version": "1.2.0",
       "_model_name": "LayoutModel",
       "_view_count": null,
       "_view_module": "@jupyter-widgets/base",
       "_view_module_version": "1.2.0",
       "_view_name": "LayoutView",
       "align_content": null,
       "align_items": null,
       "align_self": null,
       "border": null,
       "bottom": null,
       "display": null,
       "flex": null,
       "flex_flow": null,
       "grid_area": null,
       "grid_auto_columns": null,
       "grid_auto_flow": null,
       "grid_auto_rows": null,
       "grid_column": null,
       "grid_gap": null,
       "grid_row": null,
       "grid_template_areas": null,
       "grid_template_columns": null,
       "grid_template_rows": null,
       "height": null,
       "justify_content": null,
       "justify_items": null,
       "left": null,
       "margin": null,
       "max_height": null,
       "max_width": null,
       "min_height": null,
       "min_width": null,
       "object_fit": null,
       "object_position": null,
       "order": null,
       "overflow": null,
       "overflow_x": null,
       "overflow_y": null,
       "padding": null,
       "right": null,
       "top": null,
       "visibility": null,
       "width": null
      }
     },
     "f44be795c47844458ed728254ad52d6f": {
      "model_module": "@jupyter-widgets/base",
      "model_module_version": "1.2.0",
      "model_name": "LayoutModel",
      "state": {
       "_model_module": "@jupyter-widgets/base",
       "_model_module_version": "1.2.0",
       "_model_name": "LayoutModel",
       "_view_count": null,
       "_view_module": "@jupyter-widgets/base",
       "_view_module_version": "1.2.0",
       "_view_name": "LayoutView",
       "align_content": null,
       "align_items": null,
       "align_self": null,
       "border": null,
       "bottom": null,
       "display": null,
       "flex": null,
       "flex_flow": null,
       "grid_area": null,
       "grid_auto_columns": null,
       "grid_auto_flow": null,
       "grid_auto_rows": null,
       "grid_column": null,
       "grid_gap": null,
       "grid_row": null,
       "grid_template_areas": null,
       "grid_template_columns": null,
       "grid_template_rows": null,
       "height": null,
       "justify_content": null,
       "justify_items": null,
       "left": null,
       "margin": null,
       "max_height": null,
       "max_width": null,
       "min_height": null,
       "min_width": null,
       "object_fit": null,
       "object_position": null,
       "order": null,
       "overflow": null,
       "overflow_x": null,
       "overflow_y": null,
       "padding": null,
       "right": null,
       "top": null,
       "visibility": null,
       "width": null
      }
     }
    },
    "version_major": 2,
    "version_minor": 0
   }
  }
 },
 "nbformat": 4,
 "nbformat_minor": 5
}
