{
 "cells": [
  {
   "cell_type": "code",
   "execution_count": 1,
   "id": "94df8d50",
   "metadata": {
    "_cell_guid": "b1076dfc-b9ad-4769-8c92-a6c4dae69d19",
    "_uuid": "8f2839f25d086af736a60e9eeb907d3b93b6e0e5",
    "execution": {
     "iopub.execute_input": "2022-07-29T00:52:29.024240Z",
     "iopub.status.busy": "2022-07-29T00:52:29.023344Z",
     "iopub.status.idle": "2022-07-29T00:52:37.401966Z",
     "shell.execute_reply": "2022-07-29T00:52:37.401332Z",
     "shell.execute_reply.started": "2022-07-28T23:29:11.301719Z"
    },
    "papermill": {
     "duration": 8.439892,
     "end_time": "2022-07-29T00:52:37.402127",
     "exception": false,
     "start_time": "2022-07-29T00:52:28.962235",
     "status": "completed"
    },
    "tags": []
   },
   "outputs": [],
   "source": [
    "import os\n",
    "\n",
    "import random\n",
    "import numpy as np\n",
    "\n",
    "import pandas as pd\n",
    "import torch\n",
    "from torch.utils.data import Dataset, random_split\n",
    "from transformers import (\n",
    "    AdamW,\n",
    "    Trainer,\n",
    "    TrainingArguments,\n",
    "    AutoTokenizer,\n",
    "    AutoModelForSequenceClassification,\n",
    "    get_cosine_schedule_with_warmup,\n",
    ")\n",
    "from sklearn.preprocessing import LabelEncoder\n",
    "from sklearn.metrics import accuracy_score"
   ]
  },
  {
   "cell_type": "code",
   "execution_count": 2,
   "id": "dfc02dcb",
   "metadata": {
    "execution": {
     "iopub.execute_input": "2022-07-29T00:52:37.460899Z",
     "iopub.status.busy": "2022-07-29T00:52:37.460190Z",
     "iopub.status.idle": "2022-07-29T00:52:41.018088Z",
     "shell.execute_reply": "2022-07-29T00:52:41.017533Z",
     "shell.execute_reply.started": "2022-07-28T23:29:11.428386Z"
    },
    "papermill": {
     "duration": 3.588324,
     "end_time": "2022-07-29T00:52:41.018245",
     "exception": false,
     "start_time": "2022-07-29T00:52:37.429921",
     "status": "completed"
    },
    "tags": []
   },
   "outputs": [
    {
     "data": {
      "application/vnd.jupyter.widget-view+json": {
       "model_id": "9e07de23fce14c7789c72d7c927889c7",
       "version_major": 2,
       "version_minor": 0
      },
      "text/plain": [
       "Downloading:   0%|          | 0.00/420 [00:00<?, ?B/s]"
      ]
     },
     "metadata": {},
     "output_type": "display_data"
    },
    {
     "data": {
      "application/vnd.jupyter.widget-view+json": {
       "model_id": "e9219c77f123443997d0c3beac9d7e4d",
       "version_major": 2,
       "version_minor": 0
      },
      "text/plain": [
       "Downloading:   0%|          | 0.00/227k [00:00<?, ?B/s]"
      ]
     },
     "metadata": {},
     "output_type": "display_data"
    },
    {
     "data": {
      "application/vnd.jupyter.widget-view+json": {
       "model_id": "fce7570f3a6a4d019b0c01bb3645cb7b",
       "version_major": 2,
       "version_minor": 0
      },
      "text/plain": [
       "Downloading:   0%|          | 0.00/83.0 [00:00<?, ?B/s]"
      ]
     },
     "metadata": {},
     "output_type": "display_data"
    }
   ],
   "source": [
    "model_name = \"dbmdz/bert-base-french-europeana-cased\"\n",
    "\n",
    "tokenizer = AutoTokenizer.from_pretrained(model_name)\n",
    "\n",
    "device = torch.device(\"cuda\" if torch.cuda.is_available() else \"cpu\")"
   ]
  },
  {
   "cell_type": "code",
   "execution_count": null,
   "id": "1742e114",
   "metadata": {
    "papermill": {
     "duration": 0.027766,
     "end_time": "2022-07-29T00:52:41.075227",
     "exception": false,
     "start_time": "2022-07-29T00:52:41.047461",
     "status": "completed"
    },
    "tags": []
   },
   "outputs": [],
   "source": []
  },
  {
   "cell_type": "code",
   "execution_count": 3,
   "id": "717313b9",
   "metadata": {
    "execution": {
     "iopub.execute_input": "2022-07-29T00:52:41.134302Z",
     "iopub.status.busy": "2022-07-29T00:52:41.133511Z",
     "iopub.status.idle": "2022-07-29T00:52:41.135593Z",
     "shell.execute_reply": "2022-07-29T00:52:41.136089Z",
     "shell.execute_reply.started": "2022-07-28T23:29:13.588366Z"
    },
    "papermill": {
     "duration": 0.03383,
     "end_time": "2022-07-29T00:52:41.136213",
     "exception": false,
     "start_time": "2022-07-29T00:52:41.102383",
     "status": "completed"
    },
    "tags": []
   },
   "outputs": [],
   "source": [
    "lr = 2e-5\n",
    "epochs =  6\n",
    "batch_size = 5\n",
    "max_seq_len = 75\n",
    "\n",
    "test_frac = 0.1"
   ]
  },
  {
   "cell_type": "code",
   "execution_count": 4,
   "id": "17d5f3c8",
   "metadata": {
    "execution": {
     "iopub.execute_input": "2022-07-29T00:52:41.196006Z",
     "iopub.status.busy": "2022-07-29T00:52:41.195329Z",
     "iopub.status.idle": "2022-07-29T00:52:41.200595Z",
     "shell.execute_reply": "2022-07-29T00:52:41.200120Z",
     "shell.execute_reply.started": "2022-07-28T23:29:13.595401Z"
    },
    "papermill": {
     "duration": 0.037418,
     "end_time": "2022-07-29T00:52:41.200731",
     "exception": false,
     "start_time": "2022-07-29T00:52:41.163313",
     "status": "completed"
    },
    "tags": []
   },
   "outputs": [],
   "source": [
    "import os\n",
    "\n",
    "def set_seed(seed=106052):\n",
    "    \"\"\"Set seed for reproducibility.\n",
    "    \"\"\"\n",
    "    random.seed(seed)\n",
    "    np.random.seed(seed)\n",
    "    torch.manual_seed(seed)\n",
    "    torch.cuda.manual_seed_all(seed)\n",
    "    \n",
    "    os.environ['PYTHONHASHSEED'] = str(seed)\n",
    "    \n",
    "set_seed()"
   ]
  },
  {
   "cell_type": "code",
   "execution_count": 5,
   "id": "fd0bcb41",
   "metadata": {
    "execution": {
     "iopub.execute_input": "2022-07-29T00:52:41.263078Z",
     "iopub.status.busy": "2022-07-29T00:52:41.262307Z",
     "iopub.status.idle": "2022-07-29T00:52:41.264251Z",
     "shell.execute_reply": "2022-07-29T00:52:41.264649Z",
     "shell.execute_reply.started": "2022-07-28T23:29:13.613566Z"
    },
    "papermill": {
     "duration": 0.036934,
     "end_time": "2022-07-29T00:52:41.264780",
     "exception": false,
     "start_time": "2022-07-29T00:52:41.227846",
     "status": "completed"
    },
    "tags": []
   },
   "outputs": [],
   "source": [
    "class CEFRDataset(Dataset):\n",
    "    \"\"\"Classification dataset, built on top of pytorch dataset object\n",
    "    \"\"\"\n",
    "    \n",
    "    def __init__(self, texts, labels):\n",
    "        \n",
    "        self.encoder = LabelEncoder()\n",
    "        print(self.encoder.__dict__)\n",
    "        self.texts = texts\n",
    "        self.labels = self.encoder.fit_transform(labels)\n",
    "\n",
    "    def __len__(self):\n",
    "        return len(self.texts)\n",
    "\n",
    "    def __getitem__(self, index):\n",
    "        text = self.texts[index]\n",
    "        label = self.labels[index]\n",
    "        encoded_text = tokenizer(\n",
    "            text,\n",
    "            padding=\"max_length\",\n",
    "            max_length=max_seq_len,\n",
    "            truncation=True,\n",
    "            return_tensors=\"pt\",\n",
    "        )\n",
    "        encoded_text[\"input_ids\"] = encoded_text[\"input_ids\"].squeeze()\n",
    "        encoded_text[\"attention_mask\"] = encoded_text[\"attention_mask\"].squeeze()\n",
    "        label = torch.tensor(label)\n",
    "\n",
    "        return {\n",
    "            \"input_ids\": encoded_text[\"input_ids\"],\n",
    "            \"attention_mask\": encoded_text[\"attention_mask\"],\n",
    "            \"labels\": label,\n",
    "        }\n",
    "\n",
    "    def get_labels(self):\n",
    "        return self.labels"
   ]
  },
  {
   "cell_type": "code",
   "execution_count": 6,
   "id": "9afa900a",
   "metadata": {
    "execution": {
     "iopub.execute_input": "2022-07-29T00:52:41.325174Z",
     "iopub.status.busy": "2022-07-29T00:52:41.324435Z",
     "iopub.status.idle": "2022-07-29T00:52:41.326820Z",
     "shell.execute_reply": "2022-07-29T00:52:41.326383Z",
     "shell.execute_reply.started": "2022-07-28T23:29:13.629971Z"
    },
    "papermill": {
     "duration": 0.034962,
     "end_time": "2022-07-29T00:52:41.326927",
     "exception": false,
     "start_time": "2022-07-29T00:52:41.291965",
     "status": "completed"
    },
    "tags": []
   },
   "outputs": [],
   "source": [
    "def train(train_set, valid_set, epochs=10, warmup_size=0.1, lr=1e-3, batch_size=16):\n",
    "    model = get_model(model_name)\n",
    "    optim = AdamW(model.parameters(), lr=lr)\n",
    "    scheduler = get_scheduler(\n",
    "        optim, warmup_size, round(len(train_set) / batch_size * epochs)\n",
    "    )\n",
    "    training_args = get_training_args(epochs, batch_size)\n",
    "    trainer = Trainer(\n",
    "        model=model,\n",
    "        args=training_args,\n",
    "        train_dataset=train_set,\n",
    "        eval_dataset=valid_set,\n",
    "        optimizers=[optim, scheduler],\n",
    "        compute_metrics=compute_accuracy,\n",
    "    )\n",
    "    trainer.train()\n",
    "    trainer.save_model()\n",
    "    return trainer"
   ]
  },
  {
   "cell_type": "code",
   "execution_count": 7,
   "id": "7bcc0b47",
   "metadata": {
    "execution": {
     "iopub.execute_input": "2022-07-29T00:52:41.386701Z",
     "iopub.status.busy": "2022-07-29T00:52:41.385902Z",
     "iopub.status.idle": "2022-07-29T00:52:41.388347Z",
     "shell.execute_reply": "2022-07-29T00:52:41.387928Z",
     "shell.execute_reply.started": "2022-07-28T23:29:13.645880Z"
    },
    "papermill": {
     "duration": 0.034172,
     "end_time": "2022-07-29T00:52:41.388450",
     "exception": false,
     "start_time": "2022-07-29T00:52:41.354278",
     "status": "completed"
    },
    "tags": []
   },
   "outputs": [],
   "source": [
    "def get_model(pretrained_checkpoint):\n",
    "    model = AutoModelForSequenceClassification.from_pretrained(\n",
    "        pretrained_checkpoint, num_labels=6\n",
    "    )\n",
    "    return model.to(device)"
   ]
  },
  {
   "cell_type": "code",
   "execution_count": 8,
   "id": "1d62997b",
   "metadata": {
    "execution": {
     "iopub.execute_input": "2022-07-29T00:52:41.449476Z",
     "iopub.status.busy": "2022-07-29T00:52:41.448682Z",
     "iopub.status.idle": "2022-07-29T00:52:41.450780Z",
     "shell.execute_reply": "2022-07-29T00:52:41.451201Z",
     "shell.execute_reply.started": "2022-07-28T23:29:13.661049Z"
    },
    "papermill": {
     "duration": 0.035745,
     "end_time": "2022-07-29T00:52:41.451317",
     "exception": false,
     "start_time": "2022-07-29T00:52:41.415572",
     "status": "completed"
    },
    "tags": []
   },
   "outputs": [],
   "source": [
    "os.environ[\"WANDB_DISABLED\"] = \"true\"\n",
    "\n",
    "\n",
    "def get_scheduler(optimizer, warmup_size, total_steps):\n",
    "    scheduler = get_cosine_schedule_with_warmup(\n",
    "        optimizer,\n",
    "        num_warmup_steps=round(total_steps * warmup_size),\n",
    "        num_training_steps=total_steps,\n",
    "    )\n",
    "    return scheduler\n",
    "\n",
    "\n",
    "def get_training_args(epochs, batch_size):\n",
    "    return TrainingArguments(\n",
    "        output_dir=\"./b\",\n",
    "        num_train_epochs=epochs,\n",
    "        per_device_train_batch_size=batch_size,\n",
    "        logging_steps=50,\n",
    "        fp16=False,\n",
    "        evaluation_strategy=\"epoch\",\n",
    "        eval_accumulation_steps=1,\n",
    "        report_to=None,\n",
    "        save_total_limit=1,\n",
    "        load_best_model_at_end=True\n",
    "    )\n",
    "\n",
    "\n",
    "def compute_accuracy(pred):\n",
    "    labels = pred.label_ids\n",
    "    preds = pred.predictions.argmax(-1)\n",
    "    acc = accuracy_score(labels, preds)\n",
    "    return {\"accuracy\": acc}\n",
    "\n"
   ]
  },
  {
   "cell_type": "code",
   "execution_count": 9,
   "id": "9a1aa4be",
   "metadata": {
    "execution": {
     "iopub.execute_input": "2022-07-29T00:52:41.510124Z",
     "iopub.status.busy": "2022-07-29T00:52:41.509412Z",
     "iopub.status.idle": "2022-07-29T00:52:41.511815Z",
     "shell.execute_reply": "2022-07-29T00:52:41.511355Z",
     "shell.execute_reply.started": "2022-07-28T23:29:13.677389Z"
    },
    "papermill": {
     "duration": 0.032746,
     "end_time": "2022-07-29T00:52:41.511919",
     "exception": false,
     "start_time": "2022-07-29T00:52:41.479173",
     "status": "completed"
    },
    "tags": []
   },
   "outputs": [],
   "source": [
    "lr = 2e-5\n",
    "epochs =  7\n",
    "batch_size = 8\n",
    "max_seq_len = 512"
   ]
  },
  {
   "cell_type": "code",
   "execution_count": 10,
   "id": "38c79f3a",
   "metadata": {
    "execution": {
     "iopub.execute_input": "2022-07-29T00:52:41.572439Z",
     "iopub.status.busy": "2022-07-29T00:52:41.571818Z",
     "iopub.status.idle": "2022-07-29T00:52:41.574002Z",
     "shell.execute_reply": "2022-07-29T00:52:41.574411Z",
     "shell.execute_reply.started": "2022-07-28T23:29:13.689671Z"
    },
    "papermill": {
     "duration": 0.035478,
     "end_time": "2022-07-29T00:52:41.574523",
     "exception": false,
     "start_time": "2022-07-29T00:52:41.539045",
     "status": "completed"
    },
    "tags": []
   },
   "outputs": [],
   "source": [
    "def split_valid(df, frac=0.01):\n",
    "    \n",
    "    val = pd.DataFrame()\n",
    "    val[\"text\"] = \"\"\n",
    "    val[\"label\"] = -1\n",
    "    \n",
    "    for i in df.label.unique():\n",
    "        val = pd.concat([val, df[df.label == i].sample(frac=frac)])\n",
    "        \n",
    "    return df[~df.index.isin(val.index)].reset_index(drop=True) , val.reset_index(drop=True)"
   ]
  },
  {
   "cell_type": "code",
   "execution_count": 11,
   "id": "f939b1fd",
   "metadata": {
    "execution": {
     "iopub.execute_input": "2022-07-29T00:52:41.632035Z",
     "iopub.status.busy": "2022-07-29T00:52:41.631198Z",
     "iopub.status.idle": "2022-07-29T00:52:41.661648Z",
     "shell.execute_reply": "2022-07-29T00:52:41.661214Z",
     "shell.execute_reply.started": "2022-07-29T00:39:41.205133Z"
    },
    "papermill": {
     "duration": 0.059731,
     "end_time": "2022-07-29T00:52:41.661785",
     "exception": false,
     "start_time": "2022-07-29T00:52:41.602054",
     "status": "completed"
    },
    "tags": []
   },
   "outputs": [],
   "source": [
    "train_set_df = pd.read_csv(\"../input/fr-cerfr/dataset_to_be_annotated_-_dataset_to_be_annotated.csv\")\n",
    "train_set_df.drop(\"Unnamed: 3\", axis=1, inplace=True)\n",
    "train_set_df = train_set_df[pd.notnull(train_set_df['cefr'])]\n",
    "train_set_df = train_set_df.reset_index(drop=True)\n",
    "train_set_df.columns=[\"text\",\"lens\",\"label\"]\n",
    "train_set_df = train_set_df[train_set_df.label != \"-\"]\n",
    "train_set_df = train_set_df[[\"text\", \"label\"]]"
   ]
  },
  {
   "cell_type": "code",
   "execution_count": 12,
   "id": "a23038c3",
   "metadata": {
    "execution": {
     "iopub.execute_input": "2022-07-29T00:52:41.719501Z",
     "iopub.status.busy": "2022-07-29T00:52:41.718704Z",
     "iopub.status.idle": "2022-07-29T00:52:41.748779Z",
     "shell.execute_reply": "2022-07-29T00:52:41.748326Z",
     "shell.execute_reply.started": "2022-07-29T00:39:41.655814Z"
    },
    "papermill": {
     "duration": 0.059697,
     "end_time": "2022-07-29T00:52:41.748896",
     "exception": false,
     "start_time": "2022-07-29T00:52:41.689199",
     "status": "completed"
    },
    "tags": []
   },
   "outputs": [],
   "source": [
    "A1_A2=pd.read_csv(\"../input/collecteda1a2/frr.csv - Feuil1.csv\")\n",
    "A1_A2=A1_A2.dropna()\n",
    "A1_A2.columns=[\"text\",\"label\"]\n",
    "A1_A2 = A1_A2.reset_index(drop=True)\n",
    "A1A2=pd.read_csv(\"../input/a1-a2-ex/A1_A2_tran.csv\")"
   ]
  },
  {
   "cell_type": "code",
   "execution_count": 13,
   "id": "7960bf17",
   "metadata": {
    "execution": {
     "iopub.execute_input": "2022-07-29T00:52:41.824275Z",
     "iopub.status.busy": "2022-07-29T00:52:41.823373Z",
     "iopub.status.idle": "2022-07-29T00:52:41.838223Z",
     "shell.execute_reply": "2022-07-29T00:52:41.835748Z",
     "shell.execute_reply.started": "2022-07-29T00:39:41.952124Z"
    },
    "papermill": {
     "duration": 0.062363,
     "end_time": "2022-07-29T00:52:41.838509",
     "exception": false,
     "start_time": "2022-07-29T00:52:41.776146",
     "status": "completed"
    },
    "tags": []
   },
   "outputs": [],
   "source": [
    "\"\"\"separating the new dataset into sentences with keeping the same labels\"\"\"\n",
    "df=pd.DataFrame({\"text\":[] , \"label\":[]})\n",
    "L=[]\n",
    "l=[]\n",
    "for i in range(A1_A2.shape[0]):\n",
    "    P=[]\n",
    "    nb=0\n",
    "    K=[]\n",
    "    label=A1_A2.loc[i,\"label\"]\n",
    "    P.append(A1_A2.loc[i,\"text\"].split(\".\"))\n",
    "    P=[i for p in P for i in p]\n",
    "    for i in P:\n",
    "        L.append(i)\n",
    "    nb=len(P)\n",
    "    for j in range(nb):\n",
    "        l.append(label)\n",
    "\n",
    "    \n",
    "\n",
    "df[\"text\"]=L\n",
    "df[\"label\"]=l"
   ]
  },
  {
   "cell_type": "code",
   "execution_count": 14,
   "id": "fb913b03",
   "metadata": {
    "execution": {
     "iopub.execute_input": "2022-07-29T00:52:41.949507Z",
     "iopub.status.busy": "2022-07-29T00:52:41.948682Z",
     "iopub.status.idle": "2022-07-29T00:52:41.966002Z",
     "shell.execute_reply": "2022-07-29T00:52:41.966860Z",
     "shell.execute_reply.started": "2022-07-29T00:39:42.110047Z"
    },
    "papermill": {
     "duration": 0.076182,
     "end_time": "2022-07-29T00:52:41.967048",
     "exception": false,
     "start_time": "2022-07-29T00:52:41.890866",
     "status": "completed"
    },
    "tags": []
   },
   "outputs": [
    {
     "data": {
      "text/html": [
       "<div>\n",
       "<style scoped>\n",
       "    .dataframe tbody tr th:only-of-type {\n",
       "        vertical-align: middle;\n",
       "    }\n",
       "\n",
       "    .dataframe tbody tr th {\n",
       "        vertical-align: top;\n",
       "    }\n",
       "\n",
       "    .dataframe thead th {\n",
       "        text-align: right;\n",
       "    }\n",
       "</style>\n",
       "<table border=\"1\" class=\"dataframe\">\n",
       "  <thead>\n",
       "    <tr style=\"text-align: right;\">\n",
       "      <th></th>\n",
       "      <th>text</th>\n",
       "      <th>label</th>\n",
       "    </tr>\n",
       "  </thead>\n",
       "  <tbody>\n",
       "    <tr>\n",
       "      <th>0</th>\n",
       "      <td>En France, il y a au total 11 fêtes pendant l’...</td>\n",
       "      <td>B2</td>\n",
       "    </tr>\n",
       "    <tr>\n",
       "      <th>1</th>\n",
       "      <td>Ce sont des jours fériés, c’est-à-dire des jo...</td>\n",
       "      <td>B2</td>\n",
       "    </tr>\n",
       "    <tr>\n",
       "      <th>2</th>\n",
       "      <td>Certaines fêtes sont civiles et d’autre sont ...</td>\n",
       "      <td>B2</td>\n",
       "    </tr>\n",
       "    <tr>\n",
       "      <th>3</th>\n",
       "      <td>Voici les principales</td>\n",
       "      <td>B2</td>\n",
       "    </tr>\n",
       "    <tr>\n",
       "      <th>4</th>\n",
       "      <td>Le jour de l’An correspond au 1 janvier</td>\n",
       "      <td>B2</td>\n",
       "    </tr>\n",
       "    <tr>\n",
       "      <th>...</th>\n",
       "      <td>...</td>\n",
       "      <td>...</td>\n",
       "    </tr>\n",
       "    <tr>\n",
       "      <th>209</th>\n",
       "      <td>\\nContrairement à la télévision, il trouve qu'...</td>\n",
       "      <td>A2</td>\n",
       "    </tr>\n",
       "    <tr>\n",
       "      <th>210</th>\n",
       "      <td>Le matin, par\\nexemple, il prépare son petit ...</td>\n",
       "      <td>A2</td>\n",
       "    </tr>\n",
       "    <tr>\n",
       "      <th>211</th>\n",
       "      <td></td>\n",
       "      <td>A2</td>\n",
       "    </tr>\n",
       "    <tr>\n",
       "      <th>212</th>\n",
       "      <td>Ce matin, à la radio, on a annoncé que le dépu...</td>\n",
       "      <td>B1</td>\n",
       "    </tr>\n",
       "    <tr>\n",
       "      <th>213</th>\n",
       "      <td></td>\n",
       "      <td>B1</td>\n",
       "    </tr>\n",
       "  </tbody>\n",
       "</table>\n",
       "<p>214 rows × 2 columns</p>\n",
       "</div>"
      ],
      "text/plain": [
       "                                                  text label\n",
       "0    En France, il y a au total 11 fêtes pendant l’...    B2\n",
       "1     Ce sont des jours fériés, c’est-à-dire des jo...    B2\n",
       "2     Certaines fêtes sont civiles et d’autre sont ...    B2\n",
       "3                                Voici les principales    B2\n",
       "4              Le jour de l’An correspond au 1 janvier    B2\n",
       "..                                                 ...   ...\n",
       "209  \\nContrairement à la télévision, il trouve qu'...    A2\n",
       "210   Le matin, par\\nexemple, il prépare son petit ...    A2\n",
       "211                                                       A2\n",
       "212  Ce matin, à la radio, on a annoncé que le dépu...    B1\n",
       "213                                                       B1\n",
       "\n",
       "[214 rows x 2 columns]"
      ]
     },
     "execution_count": 14,
     "metadata": {},
     "output_type": "execute_result"
    }
   ],
   "source": [
    "df"
   ]
  },
  {
   "cell_type": "code",
   "execution_count": 15,
   "id": "7842a26e",
   "metadata": {
    "execution": {
     "iopub.execute_input": "2022-07-29T00:52:42.084540Z",
     "iopub.status.busy": "2022-07-29T00:52:42.083955Z",
     "iopub.status.idle": "2022-07-29T00:52:42.087507Z",
     "shell.execute_reply": "2022-07-29T00:52:42.088252Z",
     "shell.execute_reply.started": "2022-07-29T00:39:43.216160Z"
    },
    "papermill": {
     "duration": 0.061693,
     "end_time": "2022-07-29T00:52:42.088438",
     "exception": false,
     "start_time": "2022-07-29T00:52:42.026745",
     "status": "completed"
    },
    "tags": []
   },
   "outputs": [],
   "source": [
    "train_set_df=pd.concat([train_set_df, df], ignore_index=True)"
   ]
  },
  {
   "cell_type": "code",
   "execution_count": 16,
   "id": "b0b1d9e8",
   "metadata": {
    "execution": {
     "iopub.execute_input": "2022-07-29T00:52:42.187488Z",
     "iopub.status.busy": "2022-07-29T00:52:42.186703Z",
     "iopub.status.idle": "2022-07-29T00:52:42.203837Z",
     "shell.execute_reply": "2022-07-29T00:52:42.204800Z",
     "shell.execute_reply.started": "2022-07-29T00:39:43.669856Z"
    },
    "papermill": {
     "duration": 0.0719,
     "end_time": "2022-07-29T00:52:42.204976",
     "exception": false,
     "start_time": "2022-07-29T00:52:42.133076",
     "status": "completed"
    },
    "tags": []
   },
   "outputs": [],
   "source": [
    "from sklearn import preprocessing\n",
    "le = preprocessing.LabelEncoder()\n",
    "\n",
    "train_set_df.text = train_set_df.text.apply(lambda x: x.replace(\"\\r\", \"\").replace(\"\\n\", \" \"))\n",
    "\n",
    "# extra_df = pd.read_csv(\"../input/frenchcefr/french_mike_june.csv\")\n",
    "# extra_df.columns = [\"text\", \"label\", \"label_\"]\n",
    "# extra_df = extra_df[[\"text\", \"label\"]]\n",
    "# extra_df.text = extra_df.text.astype(str)\n",
    "#train_set_df = pd.concat([train_set_df, extra_df]).reset_index(drop=True)\n",
    "\n",
    "train_set_df, valid_set_df = split_valid(train_set_df)"
   ]
  },
  {
   "cell_type": "code",
   "execution_count": 17,
   "id": "b4de415b",
   "metadata": {
    "execution": {
     "iopub.execute_input": "2022-07-29T00:52:42.316485Z",
     "iopub.status.busy": "2022-07-29T00:52:42.315731Z",
     "iopub.status.idle": "2022-07-29T00:52:42.320319Z",
     "shell.execute_reply": "2022-07-29T00:52:42.321346Z",
     "shell.execute_reply.started": "2022-07-29T00:39:43.975862Z"
    },
    "papermill": {
     "duration": 0.065652,
     "end_time": "2022-07-29T00:52:42.321528",
     "exception": false,
     "start_time": "2022-07-29T00:52:42.255876",
     "status": "completed"
    },
    "tags": []
   },
   "outputs": [],
   "source": [
    "for i in range(train_set_df.shape[0]):\n",
    "    if train_set_df.loc[i,\"label\"]==\"c1\":\n",
    "        train_set_df.loc[i,\"label\"]=\"C1\""
   ]
  },
  {
   "cell_type": "code",
   "execution_count": 18,
   "id": "a9d5e57f",
   "metadata": {
    "execution": {
     "iopub.execute_input": "2022-07-29T00:52:42.410619Z",
     "iopub.status.busy": "2022-07-29T00:52:42.409470Z",
     "iopub.status.idle": "2022-07-29T00:52:42.412793Z",
     "shell.execute_reply": "2022-07-29T00:52:42.413382Z",
     "shell.execute_reply.started": "2022-07-29T00:39:44.293960Z"
    },
    "papermill": {
     "duration": 0.047398,
     "end_time": "2022-07-29T00:52:42.413526",
     "exception": false,
     "start_time": "2022-07-29T00:52:42.366128",
     "status": "completed"
    },
    "tags": []
   },
   "outputs": [
    {
     "data": {
      "text/plain": [
       "array(['C1', 'B2', 'B1', 'A2', 'C2', 'A1'], dtype=object)"
      ]
     },
     "execution_count": 18,
     "metadata": {},
     "output_type": "execute_result"
    }
   ],
   "source": [
    "train_set_df.label.unique()"
   ]
  },
  {
   "cell_type": "code",
   "execution_count": 19,
   "id": "d97c93ca",
   "metadata": {
    "execution": {
     "iopub.execute_input": "2022-07-29T00:52:42.477390Z",
     "iopub.status.busy": "2022-07-29T00:52:42.476757Z",
     "iopub.status.idle": "2022-07-29T00:52:42.479312Z",
     "shell.execute_reply": "2022-07-29T00:52:42.479740Z",
     "shell.execute_reply.started": "2022-07-29T00:39:45.707411Z"
    },
    "papermill": {
     "duration": 0.037072,
     "end_time": "2022-07-29T00:52:42.479861",
     "exception": false,
     "start_time": "2022-07-29T00:52:42.442789",
     "status": "completed"
    },
    "tags": []
   },
   "outputs": [
    {
     "data": {
      "text/plain": [
       "B2    117\n",
       "B1    111\n",
       "A2     78\n",
       "A1     50\n",
       "C1     37\n",
       "C2     12\n",
       "Name: label, dtype: int64"
      ]
     },
     "execution_count": 19,
     "metadata": {},
     "output_type": "execute_result"
    }
   ],
   "source": [
    "train_set_df.label.value_counts()"
   ]
  },
  {
   "cell_type": "code",
   "execution_count": 20,
   "id": "f3e52c9b",
   "metadata": {
    "execution": {
     "iopub.execute_input": "2022-07-29T00:52:42.542252Z",
     "iopub.status.busy": "2022-07-29T00:52:42.540738Z",
     "iopub.status.idle": "2022-07-29T00:52:42.542871Z",
     "shell.execute_reply": "2022-07-29T00:52:42.543286Z",
     "shell.execute_reply.started": "2022-07-29T00:39:53.893997Z"
    },
    "papermill": {
     "duration": 0.035539,
     "end_time": "2022-07-29T00:52:42.543401",
     "exception": false,
     "start_time": "2022-07-29T00:52:42.507862",
     "status": "completed"
    },
    "tags": []
   },
   "outputs": [],
   "source": [
    "train_set_df.label = le.fit_transform(train_set_df.label)\n",
    "valid_set_df.label = le.transform(valid_set_df.label)"
   ]
  },
  {
   "cell_type": "code",
   "execution_count": 21,
   "id": "94814b62",
   "metadata": {
    "execution": {
     "iopub.execute_input": "2022-07-29T00:52:42.606793Z",
     "iopub.status.busy": "2022-07-29T00:52:42.606014Z",
     "iopub.status.idle": "2022-07-29T00:52:42.608697Z",
     "shell.execute_reply": "2022-07-29T00:52:42.609117Z",
     "shell.execute_reply.started": "2022-07-29T00:39:55.579938Z"
    },
    "papermill": {
     "duration": 0.036941,
     "end_time": "2022-07-29T00:52:42.609240",
     "exception": false,
     "start_time": "2022-07-29T00:52:42.572299",
     "status": "completed"
    },
    "tags": []
   },
   "outputs": [
    {
     "data": {
      "text/plain": [
       "array([4, 3, 2, 1, 5, 0])"
      ]
     },
     "execution_count": 21,
     "metadata": {},
     "output_type": "execute_result"
    }
   ],
   "source": [
    "train_set_df.label.unique()"
   ]
  },
  {
   "cell_type": "code",
   "execution_count": 22,
   "id": "6c62bd83",
   "metadata": {
    "execution": {
     "iopub.execute_input": "2022-07-29T00:52:42.670958Z",
     "iopub.status.busy": "2022-07-29T00:52:42.670151Z",
     "iopub.status.idle": "2022-07-29T00:52:42.673499Z",
     "shell.execute_reply": "2022-07-29T00:52:42.673101Z",
     "shell.execute_reply.started": "2022-07-29T00:39:57.021945Z"
    },
    "papermill": {
     "duration": 0.036091,
     "end_time": "2022-07-29T00:52:42.673601",
     "exception": false,
     "start_time": "2022-07-29T00:52:42.637510",
     "status": "completed"
    },
    "tags": []
   },
   "outputs": [
    {
     "data": {
      "text/plain": [
       "4"
      ]
     },
     "execution_count": 22,
     "metadata": {},
     "output_type": "execute_result"
    }
   ],
   "source": [
    "valid_set_df.label.nunique()"
   ]
  },
  {
   "cell_type": "code",
   "execution_count": 23,
   "id": "24a81f5c",
   "metadata": {
    "execution": {
     "iopub.execute_input": "2022-07-29T00:52:42.736212Z",
     "iopub.status.busy": "2022-07-29T00:52:42.734694Z",
     "iopub.status.idle": "2022-07-29T00:52:42.736842Z",
     "shell.execute_reply": "2022-07-29T00:52:42.737255Z",
     "shell.execute_reply.started": "2022-07-29T00:39:58.237892Z"
    },
    "papermill": {
     "duration": 0.034624,
     "end_time": "2022-07-29T00:52:42.737367",
     "exception": false,
     "start_time": "2022-07-29T00:52:42.702743",
     "status": "completed"
    },
    "tags": []
   },
   "outputs": [],
   "source": [
    "# train_set_df = train_set_df.sample(frac=1)"
   ]
  },
  {
   "cell_type": "code",
   "execution_count": 24,
   "id": "95910581",
   "metadata": {
    "execution": {
     "iopub.execute_input": "2022-07-29T00:52:42.800804Z",
     "iopub.status.busy": "2022-07-29T00:52:42.800113Z",
     "iopub.status.idle": "2022-07-29T00:52:42.802317Z",
     "shell.execute_reply": "2022-07-29T00:52:42.802712Z",
     "shell.execute_reply.started": "2022-07-29T00:39:59.077559Z"
    },
    "papermill": {
     "duration": 0.036788,
     "end_time": "2022-07-29T00:52:42.802833",
     "exception": false,
     "start_time": "2022-07-29T00:52:42.766045",
     "status": "completed"
    },
    "tags": []
   },
   "outputs": [],
   "source": [
    "from tqdm import tqdm \n",
    "\n",
    "def predict(model, text):\n",
    "    \n",
    "    preds = []\n",
    "    \n",
    "    for i in tqdm(range(len(text))):\n",
    "        tokenized = tokenizer(text[i:i+1], return_tensors=\"pt\", truncation=True, max_length=512).to(\"cuda\")\n",
    "        pred = model(**tokenized)\n",
    "        preds.append(pred.logits.argmax(-1).item())\n",
    "\n",
    "    return preds"
   ]
  },
  {
   "cell_type": "code",
   "execution_count": 25,
   "id": "454ece1b",
   "metadata": {
    "execution": {
     "iopub.execute_input": "2022-07-29T00:52:42.866417Z",
     "iopub.status.busy": "2022-07-29T00:52:42.865803Z",
     "iopub.status.idle": "2022-07-29T00:56:52.235994Z",
     "shell.execute_reply": "2022-07-29T00:56:52.235007Z",
     "shell.execute_reply.started": "2022-07-29T00:39:59.548168Z"
    },
    "papermill": {
     "duration": 249.403904,
     "end_time": "2022-07-29T00:56:52.236161",
     "exception": false,
     "start_time": "2022-07-29T00:52:42.832257",
     "status": "completed"
    },
    "tags": []
   },
   "outputs": [
    {
     "name": "stdout",
     "output_type": "stream",
     "text": [
      "{}\n",
      "{}\n"
     ]
    },
    {
     "data": {
      "application/vnd.jupyter.widget-view+json": {
       "model_id": "22434b76a9e142018e9f50dd22a4397b",
       "version_major": 2,
       "version_minor": 0
      },
      "text/plain": [
       "Downloading:   0%|          | 0.00/445M [00:00<?, ?B/s]"
      ]
     },
     "metadata": {},
     "output_type": "display_data"
    },
    {
     "name": "stderr",
     "output_type": "stream",
     "text": [
      "Some weights of the model checkpoint at dbmdz/bert-base-french-europeana-cased were not used when initializing BertForSequenceClassification: ['cls.predictions.bias', 'cls.predictions.transform.dense.weight', 'cls.predictions.transform.dense.bias', 'cls.predictions.transform.LayerNorm.weight', 'cls.predictions.transform.LayerNorm.bias', 'cls.predictions.decoder.weight', 'cls.predictions.decoder.bias', 'cls.seq_relationship.weight', 'cls.seq_relationship.bias']\n",
      "- This IS expected if you are initializing BertForSequenceClassification from the checkpoint of a model trained on another task or with another architecture (e.g. initializing a BertForSequenceClassification model from a BertForPreTraining model).\n",
      "- This IS NOT expected if you are initializing BertForSequenceClassification from the checkpoint of a model that you expect to be exactly identical (initializing a BertForSequenceClassification model from a BertForSequenceClassification model).\n",
      "Some weights of BertForSequenceClassification were not initialized from the model checkpoint at dbmdz/bert-base-french-europeana-cased and are newly initialized: ['classifier.weight', 'classifier.bias']\n",
      "You should probably TRAIN this model on a down-stream task to be able to use it for predictions and inference.\n",
      "Using the `WAND_DISABLED` environment variable is deprecated and will be removed in v5. Use the --report_to flag to control the integrations used for logging result (for instance --report_to none).\n"
     ]
    },
    {
     "data": {
      "text/html": [
       "\n",
       "    <div>\n",
       "        <style>\n",
       "            /* Turns off some styling */\n",
       "            progress {\n",
       "                /* gets rid of default border in Firefox and Opera. */\n",
       "                border: none;\n",
       "                /* Needs to be in here for Safari polyfill so background images work as expected. */\n",
       "                background-size: auto;\n",
       "            }\n",
       "        </style>\n",
       "      \n",
       "      <progress value='357' max='357' style='width:300px; height:20px; vertical-align: middle;'></progress>\n",
       "      [357/357 03:37, Epoch 7/7]\n",
       "    </div>\n",
       "    <table border=\"1\" class=\"dataframe\">\n",
       "  <thead>\n",
       "    <tr style=\"text-align: left;\">\n",
       "      <th>Epoch</th>\n",
       "      <th>Training Loss</th>\n",
       "      <th>Validation Loss</th>\n",
       "      <th>Accuracy</th>\n",
       "      <th>Runtime</th>\n",
       "      <th>Samples Per Second</th>\n",
       "    </tr>\n",
       "  </thead>\n",
       "  <tbody>\n",
       "    <tr>\n",
       "      <td>1</td>\n",
       "      <td>1.698200</td>\n",
       "      <td>1.340477</td>\n",
       "      <td>0.750000</td>\n",
       "      <td>0.084000</td>\n",
       "      <td>47.603000</td>\n",
       "    </tr>\n",
       "    <tr>\n",
       "      <td>2</td>\n",
       "      <td>1.383600</td>\n",
       "      <td>1.170510</td>\n",
       "      <td>0.500000</td>\n",
       "      <td>0.082400</td>\n",
       "      <td>48.530000</td>\n",
       "    </tr>\n",
       "    <tr>\n",
       "      <td>3</td>\n",
       "      <td>1.143500</td>\n",
       "      <td>1.175330</td>\n",
       "      <td>0.500000</td>\n",
       "      <td>0.083700</td>\n",
       "      <td>47.784000</td>\n",
       "    </tr>\n",
       "    <tr>\n",
       "      <td>4</td>\n",
       "      <td>0.926600</td>\n",
       "      <td>1.108649</td>\n",
       "      <td>0.500000</td>\n",
       "      <td>0.084700</td>\n",
       "      <td>47.242000</td>\n",
       "    </tr>\n",
       "    <tr>\n",
       "      <td>5</td>\n",
       "      <td>0.694200</td>\n",
       "      <td>1.121132</td>\n",
       "      <td>0.500000</td>\n",
       "      <td>0.083700</td>\n",
       "      <td>47.784000</td>\n",
       "    </tr>\n",
       "    <tr>\n",
       "      <td>6</td>\n",
       "      <td>0.575000</td>\n",
       "      <td>1.154476</td>\n",
       "      <td>0.500000</td>\n",
       "      <td>0.083900</td>\n",
       "      <td>47.653000</td>\n",
       "    </tr>\n",
       "    <tr>\n",
       "      <td>7</td>\n",
       "      <td>0.538100</td>\n",
       "      <td>1.125050</td>\n",
       "      <td>0.500000</td>\n",
       "      <td>0.084200</td>\n",
       "      <td>47.531000</td>\n",
       "    </tr>\n",
       "  </tbody>\n",
       "</table><p>"
      ],
      "text/plain": [
       "<IPython.core.display.HTML object>"
      ]
     },
     "metadata": {},
     "output_type": "display_data"
    }
   ],
   "source": [
    "train_set = CEFRDataset(train_set_df[\"text\"], train_set_df[\"label\"])\n",
    "valid_set = CEFRDataset(valid_set_df[\"text\"], valid_set_df[\"label\"])\n",
    "\n",
    "\n",
    "trainer_second = train(train_set, valid_set, epochs=epochs, warmup_size=0.2, lr=lr, batch_size=batch_size)\n",
    "model = trainer_second.model"
   ]
  },
  {
   "cell_type": "code",
   "execution_count": 26,
   "id": "f26efba3",
   "metadata": {
    "execution": {
     "iopub.execute_input": "2022-07-29T00:56:52.303653Z",
     "iopub.status.busy": "2022-07-29T00:56:52.302847Z",
     "iopub.status.idle": "2022-07-29T00:56:52.369813Z",
     "shell.execute_reply": "2022-07-29T00:56:52.369366Z",
     "shell.execute_reply.started": "2022-07-29T00:44:05.494847Z"
    },
    "papermill": {
     "duration": 0.10215,
     "end_time": "2022-07-29T00:56:52.369934",
     "exception": false,
     "start_time": "2022-07-29T00:56:52.267784",
     "status": "completed"
    },
    "tags": []
   },
   "outputs": [
    {
     "name": "stderr",
     "output_type": "stream",
     "text": [
      "100%|██████████| 4/4 [00:00<00:00, 68.97it/s]\n"
     ]
    }
   ],
   "source": [
    "valid_set_df[\"preds\"] = train_set.encoder.inverse_transform(predict(model, valid_set_df.text.tolist()))\n",
    "valid_set_df.columns = [\"text\", \"cefr\", \"preds\",] "
   ]
  },
  {
   "cell_type": "code",
   "execution_count": 27,
   "id": "c6ea5999",
   "metadata": {
    "execution": {
     "iopub.execute_input": "2022-07-29T00:56:52.437221Z",
     "iopub.status.busy": "2022-07-29T00:56:52.436709Z",
     "iopub.status.idle": "2022-07-29T00:56:53.729157Z",
     "shell.execute_reply": "2022-07-29T00:56:53.729555Z",
     "shell.execute_reply.started": "2022-07-29T00:44:05.611400Z"
    },
    "papermill": {
     "duration": 1.327793,
     "end_time": "2022-07-29T00:56:53.729733",
     "exception": false,
     "start_time": "2022-07-29T00:56:52.401940",
     "status": "completed"
    },
    "tags": []
   },
   "outputs": [
    {
     "name": "stderr",
     "output_type": "stream",
     "text": [
      "100%|██████████| 111/111 [00:01<00:00, 87.05it/s]\n"
     ]
    }
   ],
   "source": [
    "lingua = pd.read_csv(\"../input/lingua/fr_lingua.csv\")\n",
    "lingua[\"preds\"] = train_set.encoder.inverse_transform(predict(model, lingua.text.tolist()))"
   ]
  },
  {
   "cell_type": "code",
   "execution_count": 28,
   "id": "6f927627",
   "metadata": {
    "execution": {
     "iopub.execute_input": "2022-07-29T00:56:53.807532Z",
     "iopub.status.busy": "2022-07-29T00:56:53.807019Z",
     "iopub.status.idle": "2022-07-29T00:56:53.812550Z",
     "shell.execute_reply": "2022-07-29T00:56:53.812134Z",
     "shell.execute_reply.started": "2022-07-29T00:44:09.744253Z"
    },
    "papermill": {
     "duration": 0.047183,
     "end_time": "2022-07-29T00:56:53.812686",
     "exception": false,
     "start_time": "2022-07-29T00:56:53.765503",
     "status": "completed"
    },
    "tags": []
   },
   "outputs": [
    {
     "data": {
      "text/plain": [
       "(111, 3)"
      ]
     },
     "execution_count": 28,
     "metadata": {},
     "output_type": "execute_result"
    }
   ],
   "source": [
    "lingua.shape"
   ]
  },
  {
   "cell_type": "code",
   "execution_count": 29,
   "id": "5636c353",
   "metadata": {
    "execution": {
     "iopub.execute_input": "2022-07-29T00:56:53.889058Z",
     "iopub.status.busy": "2022-07-29T00:56:53.888264Z",
     "iopub.status.idle": "2022-07-29T00:56:53.893978Z",
     "shell.execute_reply": "2022-07-29T00:56:53.893510Z",
     "shell.execute_reply.started": "2022-07-29T00:44:09.757583Z"
    },
    "papermill": {
     "duration": 0.045144,
     "end_time": "2022-07-29T00:56:53.894088",
     "exception": false,
     "start_time": "2022-07-29T00:56:53.848944",
     "status": "completed"
    },
    "tags": []
   },
   "outputs": [
    {
     "data": {
      "text/plain": [
       "B1    60\n",
       "A2    26\n",
       "A1    13\n",
       "B2    12\n",
       "Name: cefr, dtype: int64"
      ]
     },
     "execution_count": 29,
     "metadata": {},
     "output_type": "execute_result"
    }
   ],
   "source": [
    "lingua.cefr.value_counts()"
   ]
  },
  {
   "cell_type": "code",
   "execution_count": 30,
   "id": "e88797dd",
   "metadata": {
    "execution": {
     "iopub.execute_input": "2022-07-29T00:56:53.970796Z",
     "iopub.status.busy": "2022-07-29T00:56:53.970230Z",
     "iopub.status.idle": "2022-07-29T00:56:53.974373Z",
     "shell.execute_reply": "2022-07-29T00:56:53.974785Z",
     "shell.execute_reply.started": "2022-07-29T00:44:09.787604Z"
    },
    "papermill": {
     "duration": 0.045036,
     "end_time": "2022-07-29T00:56:53.974912",
     "exception": false,
     "start_time": "2022-07-29T00:56:53.929876",
     "status": "completed"
    },
    "tags": []
   },
   "outputs": [
    {
     "data": {
      "text/plain": [
       "array([0, 2, 1, 3])"
      ]
     },
     "execution_count": 30,
     "metadata": {},
     "output_type": "execute_result"
    }
   ],
   "source": [
    "lingua.preds.unique()"
   ]
  },
  {
   "cell_type": "code",
   "execution_count": 31,
   "id": "5282ea6e",
   "metadata": {
    "execution": {
     "iopub.execute_input": "2022-07-29T00:56:54.053947Z",
     "iopub.status.busy": "2022-07-29T00:56:54.053131Z",
     "iopub.status.idle": "2022-07-29T00:56:54.055579Z",
     "shell.execute_reply": "2022-07-29T00:56:54.055146Z",
     "shell.execute_reply.started": "2022-07-29T00:44:09.801513Z"
    },
    "papermill": {
     "duration": 0.044299,
     "end_time": "2022-07-29T00:56:54.055708",
     "exception": false,
     "start_time": "2022-07-29T00:56:54.011409",
     "status": "completed"
    },
    "tags": []
   },
   "outputs": [],
   "source": [
    "def compute_average_distance(df, col_name=\"cefr\") :\n",
    "    \n",
    "    labels = [\"A1\", \"A2\", \"B1\", \"B2\", \"C1\", \"C2\"]\n",
    "    return (df[col_name].apply(lambda x: labels.index(x)) - df.preds.apply(lambda x: labels.index(x))).abs().mean()\n"
   ]
  },
  {
   "cell_type": "code",
   "execution_count": 32,
   "id": "e1cc977d",
   "metadata": {
    "execution": {
     "iopub.execute_input": "2022-07-29T00:56:54.131844Z",
     "iopub.status.busy": "2022-07-29T00:56:54.131057Z",
     "iopub.status.idle": "2022-07-29T00:56:54.136329Z",
     "shell.execute_reply": "2022-07-29T00:56:54.135897Z",
     "shell.execute_reply.started": "2022-07-29T00:44:09.814947Z"
    },
    "papermill": {
     "duration": 0.044581,
     "end_time": "2022-07-29T00:56:54.136429",
     "exception": false,
     "start_time": "2022-07-29T00:56:54.091848",
     "status": "completed"
    },
    "tags": []
   },
   "outputs": [
    {
     "data": {
      "text/plain": [
       "2    84\n",
       "3    18\n",
       "1     7\n",
       "0     2\n",
       "Name: preds, dtype: int64"
      ]
     },
     "execution_count": 32,
     "metadata": {},
     "output_type": "execute_result"
    }
   ],
   "source": [
    "lingua.preds.value_counts()"
   ]
  },
  {
   "cell_type": "code",
   "execution_count": 33,
   "id": "55aa977d",
   "metadata": {
    "execution": {
     "iopub.execute_input": "2022-07-29T00:56:54.213560Z",
     "iopub.status.busy": "2022-07-29T00:56:54.212846Z",
     "iopub.status.idle": "2022-07-29T00:56:54.216146Z",
     "shell.execute_reply": "2022-07-29T00:56:54.215704Z",
     "shell.execute_reply.started": "2022-07-29T00:44:09.829708Z"
    },
    "papermill": {
     "duration": 0.043369,
     "end_time": "2022-07-29T00:56:54.216247",
     "exception": false,
     "start_time": "2022-07-29T00:56:54.172878",
     "status": "completed"
    },
    "tags": []
   },
   "outputs": [],
   "source": [
    "lingua[\"preds\"] = le.inverse_transform(lingua.preds)"
   ]
  },
  {
   "cell_type": "code",
   "execution_count": 34,
   "id": "693ee615",
   "metadata": {
    "execution": {
     "iopub.execute_input": "2022-07-29T00:56:54.294454Z",
     "iopub.status.busy": "2022-07-29T00:56:54.293825Z",
     "iopub.status.idle": "2022-07-29T00:56:54.296394Z",
     "shell.execute_reply": "2022-07-29T00:56:54.296822Z",
     "shell.execute_reply.started": "2022-07-29T00:44:09.845411Z"
    },
    "papermill": {
     "duration": 0.044603,
     "end_time": "2022-07-29T00:56:54.296943",
     "exception": false,
     "start_time": "2022-07-29T00:56:54.252340",
     "status": "completed"
    },
    "tags": []
   },
   "outputs": [
    {
     "data": {
      "text/plain": [
       "B1    60\n",
       "A2    26\n",
       "A1    13\n",
       "B2    12\n",
       "Name: cefr, dtype: int64"
      ]
     },
     "execution_count": 34,
     "metadata": {},
     "output_type": "execute_result"
    }
   ],
   "source": [
    "lingua.cefr.value_counts()"
   ]
  },
  {
   "cell_type": "code",
   "execution_count": 35,
   "id": "de4f9482",
   "metadata": {
    "execution": {
     "iopub.execute_input": "2022-07-29T00:56:54.376571Z",
     "iopub.status.busy": "2022-07-29T00:56:54.375980Z",
     "iopub.status.idle": "2022-07-29T00:56:54.378374Z",
     "shell.execute_reply": "2022-07-29T00:56:54.378816Z",
     "shell.execute_reply.started": "2022-07-29T00:44:09.854853Z"
    },
    "papermill": {
     "duration": 0.045616,
     "end_time": "2022-07-29T00:56:54.378940",
     "exception": false,
     "start_time": "2022-07-29T00:56:54.333324",
     "status": "completed"
    },
    "tags": []
   },
   "outputs": [
    {
     "data": {
      "text/plain": [
       "B1    84\n",
       "B2    18\n",
       "A2     7\n",
       "A1     2\n",
       "Name: preds, dtype: int64"
      ]
     },
     "execution_count": 35,
     "metadata": {},
     "output_type": "execute_result"
    }
   ],
   "source": [
    "lingua.preds.value_counts()"
   ]
  },
  {
   "cell_type": "code",
   "execution_count": 36,
   "id": "f9e16ba0",
   "metadata": {
    "execution": {
     "iopub.execute_input": "2022-07-29T00:56:54.462632Z",
     "iopub.status.busy": "2022-07-29T00:56:54.462033Z",
     "iopub.status.idle": "2022-07-29T00:56:54.464924Z",
     "shell.execute_reply": "2022-07-29T00:56:54.465502Z",
     "shell.execute_reply.started": "2022-07-29T00:44:09.873039Z"
    },
    "papermill": {
     "duration": 0.049385,
     "end_time": "2022-07-29T00:56:54.465676",
     "exception": false,
     "start_time": "2022-07-29T00:56:54.416291",
     "status": "completed"
    },
    "tags": []
   },
   "outputs": [
    {
     "name": "stdout",
     "output_type": "stream",
     "text": [
      "Distance: \n",
      "0.5675675675675675\n",
      "Lingua accuracy: 0.5315315315315315\n"
     ]
    }
   ],
   "source": [
    "print(\"Distance: \")\n",
    "print(compute_average_distance(lingua, \"cefr\"))\n",
    "\n",
    "print(f\"Lingua accuracy: {(lingua['preds'] == lingua['cefr']).mean()}\")"
   ]
  },
  {
   "cell_type": "code",
   "execution_count": 37,
   "id": "e1ed69b9",
   "metadata": {
    "execution": {
     "iopub.execute_input": "2022-07-29T00:56:54.545074Z",
     "iopub.status.busy": "2022-07-29T00:56:54.544356Z",
     "iopub.status.idle": "2022-07-29T00:56:54.546812Z",
     "shell.execute_reply": "2022-07-29T00:56:54.546370Z",
     "shell.execute_reply.started": "2022-07-28T23:50:41.050541Z"
    },
    "papermill": {
     "duration": 0.042287,
     "end_time": "2022-07-29T00:56:54.546921",
     "exception": false,
     "start_time": "2022-07-29T00:56:54.504634",
     "status": "completed"
    },
    "tags": []
   },
   "outputs": [],
   "source": [
    "# lingua.columns=[\"text\",\"cefr\",\"preds:A1_A2_from_trans_data&new_data,acc:0.5\"]\n",
    "# lingua.to_csv(\"lingua1.csv\", index=False)"
   ]
  },
  {
   "cell_type": "markdown",
   "id": "ad77ac41",
   "metadata": {
    "papermill": {
     "duration": 0.036692,
     "end_time": "2022-07-29T00:56:54.620708",
     "exception": false,
     "start_time": "2022-07-29T00:56:54.584016",
     "status": "completed"
    },
    "tags": []
   },
   "source": [
    "****"
   ]
  },
  {
   "cell_type": "markdown",
   "id": "8017ef52",
   "metadata": {
    "papermill": {
     "duration": 0.037297,
     "end_time": "2022-07-29T00:56:54.695699",
     "exception": false,
     "start_time": "2022-07-29T00:56:54.658402",
     "status": "completed"
    },
    "tags": []
   },
   "source": [
    "****"
   ]
  }
 ],
 "metadata": {
  "kernelspec": {
   "display_name": "Python 3",
   "language": "python",
   "name": "python3"
  },
  "language_info": {
   "codemirror_mode": {
    "name": "ipython",
    "version": 3
   },
   "file_extension": ".py",
   "mimetype": "text/x-python",
   "name": "python",
   "nbconvert_exporter": "python",
   "pygments_lexer": "ipython3",
   "version": "3.7.10"
  },
  "papermill": {
   "default_parameters": {},
   "duration": 276.513956,
   "end_time": "2022-07-29T00:56:57.696739",
   "environment_variables": {},
   "exception": null,
   "input_path": "__notebook__.ipynb",
   "output_path": "__notebook__.ipynb",
   "parameters": {},
   "start_time": "2022-07-29T00:52:21.182783",
   "version": "2.3.3"
  },
  "widgets": {
   "application/vnd.jupyter.widget-state+json": {
    "state": {
     "02f93b2bcde649c0b3c78cc26b3b72df": {
      "model_module": "@jupyter-widgets/base",
      "model_module_version": "1.2.0",
      "model_name": "LayoutModel",
      "state": {
       "_model_module": "@jupyter-widgets/base",
       "_model_module_version": "1.2.0",
       "_model_name": "LayoutModel",
       "_view_count": null,
       "_view_module": "@jupyter-widgets/base",
       "_view_module_version": "1.2.0",
       "_view_name": "LayoutView",
       "align_content": null,
       "align_items": null,
       "align_self": null,
       "border": null,
       "bottom": null,
       "display": null,
       "flex": null,
       "flex_flow": null,
       "grid_area": null,
       "grid_auto_columns": null,
       "grid_auto_flow": null,
       "grid_auto_rows": null,
       "grid_column": null,
       "grid_gap": null,
       "grid_row": null,
       "grid_template_areas": null,
       "grid_template_columns": null,
       "grid_template_rows": null,
       "height": null,
       "justify_content": null,
       "justify_items": null,
       "left": null,
       "margin": null,
       "max_height": null,
       "max_width": null,
       "min_height": null,
       "min_width": null,
       "object_fit": null,
       "object_position": null,
       "order": null,
       "overflow": null,
       "overflow_x": null,
       "overflow_y": null,
       "padding": null,
       "right": null,
       "top": null,
       "visibility": null,
       "width": null
      }
     },
     "0998f0b49a704c4083ad67ca7efcf0b9": {
      "model_module": "@jupyter-widgets/controls",
      "model_module_version": "1.5.0",
      "model_name": "HTMLModel",
      "state": {
       "_dom_classes": [],
       "_model_module": "@jupyter-widgets/controls",
       "_model_module_version": "1.5.0",
       "_model_name": "HTMLModel",
       "_view_count": null,
       "_view_module": "@jupyter-widgets/controls",
       "_view_module_version": "1.5.0",
       "_view_name": "HTMLView",
       "description": "",
       "description_tooltip": null,
       "layout": "IPY_MODEL_a140e3bd148b4841ae342b089af7f3f5",
       "placeholder": "​",
       "style": "IPY_MODEL_ba1cbb9e814948aca1801d57d5b15d42",
       "value": "Downloading: 100%"
      }
     },
     "0cc2215d8d264b87a656f74ba780e1c5": {
      "model_module": "@jupyter-widgets/base",
      "model_module_version": "1.2.0",
      "model_name": "LayoutModel",
      "state": {
       "_model_module": "@jupyter-widgets/base",
       "_model_module_version": "1.2.0",
       "_model_name": "LayoutModel",
       "_view_count": null,
       "_view_module": "@jupyter-widgets/base",
       "_view_module_version": "1.2.0",
       "_view_name": "LayoutView",
       "align_content": null,
       "align_items": null,
       "align_self": null,
       "border": null,
       "bottom": null,
       "display": null,
       "flex": null,
       "flex_flow": null,
       "grid_area": null,
       "grid_auto_columns": null,
       "grid_auto_flow": null,
       "grid_auto_rows": null,
       "grid_column": null,
       "grid_gap": null,
       "grid_row": null,
       "grid_template_areas": null,
       "grid_template_columns": null,
       "grid_template_rows": null,
       "height": null,
       "justify_content": null,
       "justify_items": null,
       "left": null,
       "margin": null,
       "max_height": null,
       "max_width": null,
       "min_height": null,
       "min_width": null,
       "object_fit": null,
       "object_position": null,
       "order": null,
       "overflow": null,
       "overflow_x": null,
       "overflow_y": null,
       "padding": null,
       "right": null,
       "top": null,
       "visibility": null,
       "width": null
      }
     },
     "0ee018136f514a27812a60e5bd810728": {
      "model_module": "@jupyter-widgets/base",
      "model_module_version": "1.2.0",
      "model_name": "LayoutModel",
      "state": {
       "_model_module": "@jupyter-widgets/base",
       "_model_module_version": "1.2.0",
       "_model_name": "LayoutModel",
       "_view_count": null,
       "_view_module": "@jupyter-widgets/base",
       "_view_module_version": "1.2.0",
       "_view_name": "LayoutView",
       "align_content": null,
       "align_items": null,
       "align_self": null,
       "border": null,
       "bottom": null,
       "display": null,
       "flex": null,
       "flex_flow": null,
       "grid_area": null,
       "grid_auto_columns": null,
       "grid_auto_flow": null,
       "grid_auto_rows": null,
       "grid_column": null,
       "grid_gap": null,
       "grid_row": null,
       "grid_template_areas": null,
       "grid_template_columns": null,
       "grid_template_rows": null,
       "height": null,
       "justify_content": null,
       "justify_items": null,
       "left": null,
       "margin": null,
       "max_height": null,
       "max_width": null,
       "min_height": null,
       "min_width": null,
       "object_fit": null,
       "object_position": null,
       "order": null,
       "overflow": null,
       "overflow_x": null,
       "overflow_y": null,
       "padding": null,
       "right": null,
       "top": null,
       "visibility": null,
       "width": null
      }
     },
     "0f92ec308f1f44b1a2bf238af2f01f37": {
      "model_module": "@jupyter-widgets/controls",
      "model_module_version": "1.5.0",
      "model_name": "HTMLModel",
      "state": {
       "_dom_classes": [],
       "_model_module": "@jupyter-widgets/controls",
       "_model_module_version": "1.5.0",
       "_model_name": "HTMLModel",
       "_view_count": null,
       "_view_module": "@jupyter-widgets/controls",
       "_view_module_version": "1.5.0",
       "_view_name": "HTMLView",
       "description": "",
       "description_tooltip": null,
       "layout": "IPY_MODEL_e0c9ec4f40764aa8b6bf59db35327caa",
       "placeholder": "​",
       "style": "IPY_MODEL_5faf282de5ed4accb0497a9019609fe0",
       "value": " 227k/227k [00:00&lt;00:00, 860kB/s]"
      }
     },
     "0fac2efb52df42fca11727de570e34cd": {
      "model_module": "@jupyter-widgets/controls",
      "model_module_version": "1.5.0",
      "model_name": "FloatProgressModel",
      "state": {
       "_dom_classes": [],
       "_model_module": "@jupyter-widgets/controls",
       "_model_module_version": "1.5.0",
       "_model_name": "FloatProgressModel",
       "_view_count": null,
       "_view_module": "@jupyter-widgets/controls",
       "_view_module_version": "1.5.0",
       "_view_name": "ProgressView",
       "bar_style": "success",
       "description": "",
       "description_tooltip": null,
       "layout": "IPY_MODEL_2b6b79d6df6d47af845f62273f526403",
       "max": 83.0,
       "min": 0.0,
       "orientation": "horizontal",
       "style": "IPY_MODEL_7e4f5f6551e14f5a97bc5051f1a503ee",
       "value": 83.0
      }
     },
     "17f6a44f1b3d46f99c40d2f57df6c224": {
      "model_module": "@jupyter-widgets/controls",
      "model_module_version": "1.5.0",
      "model_name": "DescriptionStyleModel",
      "state": {
       "_model_module": "@jupyter-widgets/controls",
       "_model_module_version": "1.5.0",
       "_model_name": "DescriptionStyleModel",
       "_view_count": null,
       "_view_module": "@jupyter-widgets/base",
       "_view_module_version": "1.2.0",
       "_view_name": "StyleView",
       "description_width": ""
      }
     },
     "18de032d167640bc8433192f9ec17de6": {
      "model_module": "@jupyter-widgets/controls",
      "model_module_version": "1.5.0",
      "model_name": "FloatProgressModel",
      "state": {
       "_dom_classes": [],
       "_model_module": "@jupyter-widgets/controls",
       "_model_module_version": "1.5.0",
       "_model_name": "FloatProgressModel",
       "_view_count": null,
       "_view_module": "@jupyter-widgets/controls",
       "_view_module_version": "1.5.0",
       "_view_name": "ProgressView",
       "bar_style": "success",
       "description": "",
       "description_tooltip": null,
       "layout": "IPY_MODEL_0ee018136f514a27812a60e5bd810728",
       "max": 227141.0,
       "min": 0.0,
       "orientation": "horizontal",
       "style": "IPY_MODEL_836ef263833347cdb58e887c623330db",
       "value": 227141.0
      }
     },
     "20c4cd7c6ecc4ab191d93a5be47a2da2": {
      "model_module": "@jupyter-widgets/controls",
      "model_module_version": "1.5.0",
      "model_name": "HTMLModel",
      "state": {
       "_dom_classes": [],
       "_model_module": "@jupyter-widgets/controls",
       "_model_module_version": "1.5.0",
       "_model_name": "HTMLModel",
       "_view_count": null,
       "_view_module": "@jupyter-widgets/controls",
       "_view_module_version": "1.5.0",
       "_view_name": "HTMLView",
       "description": "",
       "description_tooltip": null,
       "layout": "IPY_MODEL_0cc2215d8d264b87a656f74ba780e1c5",
       "placeholder": "​",
       "style": "IPY_MODEL_3051f092f1d94541a2662e54d67a2c75",
       "value": " 83.0/83.0 [00:00&lt;00:00, 3.22kB/s]"
      }
     },
     "22434b76a9e142018e9f50dd22a4397b": {
      "model_module": "@jupyter-widgets/controls",
      "model_module_version": "1.5.0",
      "model_name": "HBoxModel",
      "state": {
       "_dom_classes": [],
       "_model_module": "@jupyter-widgets/controls",
       "_model_module_version": "1.5.0",
       "_model_name": "HBoxModel",
       "_view_count": null,
       "_view_module": "@jupyter-widgets/controls",
       "_view_module_version": "1.5.0",
       "_view_name": "HBoxView",
       "box_style": "",
       "children": [
        "IPY_MODEL_0998f0b49a704c4083ad67ca7efcf0b9",
        "IPY_MODEL_4154ce69850943d8a03da489afa2b4d2",
        "IPY_MODEL_43c408129a3a470c99f3e21fe9211766"
       ],
       "layout": "IPY_MODEL_a758a951b73f4dcf881b175c078d129c"
      }
     },
     "2b6b79d6df6d47af845f62273f526403": {
      "model_module": "@jupyter-widgets/base",
      "model_module_version": "1.2.0",
      "model_name": "LayoutModel",
      "state": {
       "_model_module": "@jupyter-widgets/base",
       "_model_module_version": "1.2.0",
       "_model_name": "LayoutModel",
       "_view_count": null,
       "_view_module": "@jupyter-widgets/base",
       "_view_module_version": "1.2.0",
       "_view_name": "LayoutView",
       "align_content": null,
       "align_items": null,
       "align_self": null,
       "border": null,
       "bottom": null,
       "display": null,
       "flex": null,
       "flex_flow": null,
       "grid_area": null,
       "grid_auto_columns": null,
       "grid_auto_flow": null,
       "grid_auto_rows": null,
       "grid_column": null,
       "grid_gap": null,
       "grid_row": null,
       "grid_template_areas": null,
       "grid_template_columns": null,
       "grid_template_rows": null,
       "height": null,
       "justify_content": null,
       "justify_items": null,
       "left": null,
       "margin": null,
       "max_height": null,
       "max_width": null,
       "min_height": null,
       "min_width": null,
       "object_fit": null,
       "object_position": null,
       "order": null,
       "overflow": null,
       "overflow_x": null,
       "overflow_y": null,
       "padding": null,
       "right": null,
       "top": null,
       "visibility": null,
       "width": null
      }
     },
     "3051f092f1d94541a2662e54d67a2c75": {
      "model_module": "@jupyter-widgets/controls",
      "model_module_version": "1.5.0",
      "model_name": "DescriptionStyleModel",
      "state": {
       "_model_module": "@jupyter-widgets/controls",
       "_model_module_version": "1.5.0",
       "_model_name": "DescriptionStyleModel",
       "_view_count": null,
       "_view_module": "@jupyter-widgets/base",
       "_view_module_version": "1.2.0",
       "_view_name": "StyleView",
       "description_width": ""
      }
     },
     "3541b2057275455cbd9a450ec0ff3ef5": {
      "model_module": "@jupyter-widgets/base",
      "model_module_version": "1.2.0",
      "model_name": "LayoutModel",
      "state": {
       "_model_module": "@jupyter-widgets/base",
       "_model_module_version": "1.2.0",
       "_model_name": "LayoutModel",
       "_view_count": null,
       "_view_module": "@jupyter-widgets/base",
       "_view_module_version": "1.2.0",
       "_view_name": "LayoutView",
       "align_content": null,
       "align_items": null,
       "align_self": null,
       "border": null,
       "bottom": null,
       "display": null,
       "flex": null,
       "flex_flow": null,
       "grid_area": null,
       "grid_auto_columns": null,
       "grid_auto_flow": null,
       "grid_auto_rows": null,
       "grid_column": null,
       "grid_gap": null,
       "grid_row": null,
       "grid_template_areas": null,
       "grid_template_columns": null,
       "grid_template_rows": null,
       "height": null,
       "justify_content": null,
       "justify_items": null,
       "left": null,
       "margin": null,
       "max_height": null,
       "max_width": null,
       "min_height": null,
       "min_width": null,
       "object_fit": null,
       "object_position": null,
       "order": null,
       "overflow": null,
       "overflow_x": null,
       "overflow_y": null,
       "padding": null,
       "right": null,
       "top": null,
       "visibility": null,
       "width": null
      }
     },
     "4154ce69850943d8a03da489afa2b4d2": {
      "model_module": "@jupyter-widgets/controls",
      "model_module_version": "1.5.0",
      "model_name": "FloatProgressModel",
      "state": {
       "_dom_classes": [],
       "_model_module": "@jupyter-widgets/controls",
       "_model_module_version": "1.5.0",
       "_model_name": "FloatProgressModel",
       "_view_count": null,
       "_view_module": "@jupyter-widgets/controls",
       "_view_module_version": "1.5.0",
       "_view_name": "ProgressView",
       "bar_style": "success",
       "description": "",
       "description_tooltip": null,
       "layout": "IPY_MODEL_626da4b7c6404298993f34a19a44ac63",
       "max": 445018784.0,
       "min": 0.0,
       "orientation": "horizontal",
       "style": "IPY_MODEL_a4d924fb28854a458ae1dde4d538a0cd",
       "value": 445018784.0
      }
     },
     "43c408129a3a470c99f3e21fe9211766": {
      "model_module": "@jupyter-widgets/controls",
      "model_module_version": "1.5.0",
      "model_name": "HTMLModel",
      "state": {
       "_dom_classes": [],
       "_model_module": "@jupyter-widgets/controls",
       "_model_module_version": "1.5.0",
       "_model_name": "HTMLModel",
       "_view_count": null,
       "_view_module": "@jupyter-widgets/controls",
       "_view_module_version": "1.5.0",
       "_view_name": "HTMLView",
       "description": "",
       "description_tooltip": null,
       "layout": "IPY_MODEL_02f93b2bcde649c0b3c78cc26b3b72df",
       "placeholder": "​",
       "style": "IPY_MODEL_17f6a44f1b3d46f99c40d2f57df6c224",
       "value": " 445M/445M [00:19&lt;00:00, 18.6MB/s]"
      }
     },
     "50d457f65eed4ffbb5d9e54d5b58a646": {
      "model_module": "@jupyter-widgets/controls",
      "model_module_version": "1.5.0",
      "model_name": "DescriptionStyleModel",
      "state": {
       "_model_module": "@jupyter-widgets/controls",
       "_model_module_version": "1.5.0",
       "_model_name": "DescriptionStyleModel",
       "_view_count": null,
       "_view_module": "@jupyter-widgets/base",
       "_view_module_version": "1.2.0",
       "_view_name": "StyleView",
       "description_width": ""
      }
     },
     "5489ffbbd8614246a447d75a5faf9a2d": {
      "model_module": "@jupyter-widgets/controls",
      "model_module_version": "1.5.0",
      "model_name": "DescriptionStyleModel",
      "state": {
       "_model_module": "@jupyter-widgets/controls",
       "_model_module_version": "1.5.0",
       "_model_name": "DescriptionStyleModel",
       "_view_count": null,
       "_view_module": "@jupyter-widgets/base",
       "_view_module_version": "1.2.0",
       "_view_name": "StyleView",
       "description_width": ""
      }
     },
     "5faf282de5ed4accb0497a9019609fe0": {
      "model_module": "@jupyter-widgets/controls",
      "model_module_version": "1.5.0",
      "model_name": "DescriptionStyleModel",
      "state": {
       "_model_module": "@jupyter-widgets/controls",
       "_model_module_version": "1.5.0",
       "_model_name": "DescriptionStyleModel",
       "_view_count": null,
       "_view_module": "@jupyter-widgets/base",
       "_view_module_version": "1.2.0",
       "_view_name": "StyleView",
       "description_width": ""
      }
     },
     "626da4b7c6404298993f34a19a44ac63": {
      "model_module": "@jupyter-widgets/base",
      "model_module_version": "1.2.0",
      "model_name": "LayoutModel",
      "state": {
       "_model_module": "@jupyter-widgets/base",
       "_model_module_version": "1.2.0",
       "_model_name": "LayoutModel",
       "_view_count": null,
       "_view_module": "@jupyter-widgets/base",
       "_view_module_version": "1.2.0",
       "_view_name": "LayoutView",
       "align_content": null,
       "align_items": null,
       "align_self": null,
       "border": null,
       "bottom": null,
       "display": null,
       "flex": null,
       "flex_flow": null,
       "grid_area": null,
       "grid_auto_columns": null,
       "grid_auto_flow": null,
       "grid_auto_rows": null,
       "grid_column": null,
       "grid_gap": null,
       "grid_row": null,
       "grid_template_areas": null,
       "grid_template_columns": null,
       "grid_template_rows": null,
       "height": null,
       "justify_content": null,
       "justify_items": null,
       "left": null,
       "margin": null,
       "max_height": null,
       "max_width": null,
       "min_height": null,
       "min_width": null,
       "object_fit": null,
       "object_position": null,
       "order": null,
       "overflow": null,
       "overflow_x": null,
       "overflow_y": null,
       "padding": null,
       "right": null,
       "top": null,
       "visibility": null,
       "width": null
      }
     },
     "6718a380f3ef40a4a814fb4850a4aaaa": {
      "model_module": "@jupyter-widgets/controls",
      "model_module_version": "1.5.0",
      "model_name": "DescriptionStyleModel",
      "state": {
       "_model_module": "@jupyter-widgets/controls",
       "_model_module_version": "1.5.0",
       "_model_name": "DescriptionStyleModel",
       "_view_count": null,
       "_view_module": "@jupyter-widgets/base",
       "_view_module_version": "1.2.0",
       "_view_name": "StyleView",
       "description_width": ""
      }
     },
     "6cf381dfcbf541408cf5004bc3e390ee": {
      "model_module": "@jupyter-widgets/controls",
      "model_module_version": "1.5.0",
      "model_name": "ProgressStyleModel",
      "state": {
       "_model_module": "@jupyter-widgets/controls",
       "_model_module_version": "1.5.0",
       "_model_name": "ProgressStyleModel",
       "_view_count": null,
       "_view_module": "@jupyter-widgets/base",
       "_view_module_version": "1.2.0",
       "_view_name": "StyleView",
       "bar_color": null,
       "description_width": ""
      }
     },
     "75432604512944eb80a551e1cf4ef671": {
      "model_module": "@jupyter-widgets/base",
      "model_module_version": "1.2.0",
      "model_name": "LayoutModel",
      "state": {
       "_model_module": "@jupyter-widgets/base",
       "_model_module_version": "1.2.0",
       "_model_name": "LayoutModel",
       "_view_count": null,
       "_view_module": "@jupyter-widgets/base",
       "_view_module_version": "1.2.0",
       "_view_name": "LayoutView",
       "align_content": null,
       "align_items": null,
       "align_self": null,
       "border": null,
       "bottom": null,
       "display": null,
       "flex": null,
       "flex_flow": null,
       "grid_area": null,
       "grid_auto_columns": null,
       "grid_auto_flow": null,
       "grid_auto_rows": null,
       "grid_column": null,
       "grid_gap": null,
       "grid_row": null,
       "grid_template_areas": null,
       "grid_template_columns": null,
       "grid_template_rows": null,
       "height": null,
       "justify_content": null,
       "justify_items": null,
       "left": null,
       "margin": null,
       "max_height": null,
       "max_width": null,
       "min_height": null,
       "min_width": null,
       "object_fit": null,
       "object_position": null,
       "order": null,
       "overflow": null,
       "overflow_x": null,
       "overflow_y": null,
       "padding": null,
       "right": null,
       "top": null,
       "visibility": null,
       "width": null
      }
     },
     "7e4f5f6551e14f5a97bc5051f1a503ee": {
      "model_module": "@jupyter-widgets/controls",
      "model_module_version": "1.5.0",
      "model_name": "ProgressStyleModel",
      "state": {
       "_model_module": "@jupyter-widgets/controls",
       "_model_module_version": "1.5.0",
       "_model_name": "ProgressStyleModel",
       "_view_count": null,
       "_view_module": "@jupyter-widgets/base",
       "_view_module_version": "1.2.0",
       "_view_name": "StyleView",
       "bar_color": null,
       "description_width": ""
      }
     },
     "7eeae44abb69415b90568bd046f1d22f": {
      "model_module": "@jupyter-widgets/controls",
      "model_module_version": "1.5.0",
      "model_name": "HTMLModel",
      "state": {
       "_dom_classes": [],
       "_model_module": "@jupyter-widgets/controls",
       "_model_module_version": "1.5.0",
       "_model_name": "HTMLModel",
       "_view_count": null,
       "_view_module": "@jupyter-widgets/controls",
       "_view_module_version": "1.5.0",
       "_view_name": "HTMLView",
       "description": "",
       "description_tooltip": null,
       "layout": "IPY_MODEL_3541b2057275455cbd9a450ec0ff3ef5",
       "placeholder": "​",
       "style": "IPY_MODEL_e46125b257ab449988dbcd64d6fb3dea",
       "value": "Downloading: 100%"
      }
     },
     "836ef263833347cdb58e887c623330db": {
      "model_module": "@jupyter-widgets/controls",
      "model_module_version": "1.5.0",
      "model_name": "ProgressStyleModel",
      "state": {
       "_model_module": "@jupyter-widgets/controls",
       "_model_module_version": "1.5.0",
       "_model_name": "ProgressStyleModel",
       "_view_count": null,
       "_view_module": "@jupyter-widgets/base",
       "_view_module_version": "1.2.0",
       "_view_name": "StyleView",
       "bar_color": null,
       "description_width": ""
      }
     },
     "880fe30a5bc3435caed56c6a57714bc9": {
      "model_module": "@jupyter-widgets/base",
      "model_module_version": "1.2.0",
      "model_name": "LayoutModel",
      "state": {
       "_model_module": "@jupyter-widgets/base",
       "_model_module_version": "1.2.0",
       "_model_name": "LayoutModel",
       "_view_count": null,
       "_view_module": "@jupyter-widgets/base",
       "_view_module_version": "1.2.0",
       "_view_name": "LayoutView",
       "align_content": null,
       "align_items": null,
       "align_self": null,
       "border": null,
       "bottom": null,
       "display": null,
       "flex": null,
       "flex_flow": null,
       "grid_area": null,
       "grid_auto_columns": null,
       "grid_auto_flow": null,
       "grid_auto_rows": null,
       "grid_column": null,
       "grid_gap": null,
       "grid_row": null,
       "grid_template_areas": null,
       "grid_template_columns": null,
       "grid_template_rows": null,
       "height": null,
       "justify_content": null,
       "justify_items": null,
       "left": null,
       "margin": null,
       "max_height": null,
       "max_width": null,
       "min_height": null,
       "min_width": null,
       "object_fit": null,
       "object_position": null,
       "order": null,
       "overflow": null,
       "overflow_x": null,
       "overflow_y": null,
       "padding": null,
       "right": null,
       "top": null,
       "visibility": null,
       "width": null
      }
     },
     "92a6ec1bdd55472697d9fbc8907718ec": {
      "model_module": "@jupyter-widgets/base",
      "model_module_version": "1.2.0",
      "model_name": "LayoutModel",
      "state": {
       "_model_module": "@jupyter-widgets/base",
       "_model_module_version": "1.2.0",
       "_model_name": "LayoutModel",
       "_view_count": null,
       "_view_module": "@jupyter-widgets/base",
       "_view_module_version": "1.2.0",
       "_view_name": "LayoutView",
       "align_content": null,
       "align_items": null,
       "align_self": null,
       "border": null,
       "bottom": null,
       "display": null,
       "flex": null,
       "flex_flow": null,
       "grid_area": null,
       "grid_auto_columns": null,
       "grid_auto_flow": null,
       "grid_auto_rows": null,
       "grid_column": null,
       "grid_gap": null,
       "grid_row": null,
       "grid_template_areas": null,
       "grid_template_columns": null,
       "grid_template_rows": null,
       "height": null,
       "justify_content": null,
       "justify_items": null,
       "left": null,
       "margin": null,
       "max_height": null,
       "max_width": null,
       "min_height": null,
       "min_width": null,
       "object_fit": null,
       "object_position": null,
       "order": null,
       "overflow": null,
       "overflow_x": null,
       "overflow_y": null,
       "padding": null,
       "right": null,
       "top": null,
       "visibility": null,
       "width": null
      }
     },
     "9d912736a0584f3b831a219b4f16ece5": {
      "model_module": "@jupyter-widgets/controls",
      "model_module_version": "1.5.0",
      "model_name": "HTMLModel",
      "state": {
       "_dom_classes": [],
       "_model_module": "@jupyter-widgets/controls",
       "_model_module_version": "1.5.0",
       "_model_name": "HTMLModel",
       "_view_count": null,
       "_view_module": "@jupyter-widgets/controls",
       "_view_module_version": "1.5.0",
       "_view_name": "HTMLView",
       "description": "",
       "description_tooltip": null,
       "layout": "IPY_MODEL_f7f630a702d54f2c9d9b6787466c47b0",
       "placeholder": "​",
       "style": "IPY_MODEL_50d457f65eed4ffbb5d9e54d5b58a646",
       "value": "Downloading: 100%"
      }
     },
     "9e07de23fce14c7789c72d7c927889c7": {
      "model_module": "@jupyter-widgets/controls",
      "model_module_version": "1.5.0",
      "model_name": "HBoxModel",
      "state": {
       "_dom_classes": [],
       "_model_module": "@jupyter-widgets/controls",
       "_model_module_version": "1.5.0",
       "_model_name": "HBoxModel",
       "_view_count": null,
       "_view_module": "@jupyter-widgets/controls",
       "_view_module_version": "1.5.0",
       "_view_name": "HBoxView",
       "box_style": "",
       "children": [
        "IPY_MODEL_7eeae44abb69415b90568bd046f1d22f",
        "IPY_MODEL_adf1505bf5b8402091ba6f34723dca18",
        "IPY_MODEL_b38da51707da43a0922f8c416ed91953"
       ],
       "layout": "IPY_MODEL_880fe30a5bc3435caed56c6a57714bc9"
      }
     },
     "a140e3bd148b4841ae342b089af7f3f5": {
      "model_module": "@jupyter-widgets/base",
      "model_module_version": "1.2.0",
      "model_name": "LayoutModel",
      "state": {
       "_model_module": "@jupyter-widgets/base",
       "_model_module_version": "1.2.0",
       "_model_name": "LayoutModel",
       "_view_count": null,
       "_view_module": "@jupyter-widgets/base",
       "_view_module_version": "1.2.0",
       "_view_name": "LayoutView",
       "align_content": null,
       "align_items": null,
       "align_self": null,
       "border": null,
       "bottom": null,
       "display": null,
       "flex": null,
       "flex_flow": null,
       "grid_area": null,
       "grid_auto_columns": null,
       "grid_auto_flow": null,
       "grid_auto_rows": null,
       "grid_column": null,
       "grid_gap": null,
       "grid_row": null,
       "grid_template_areas": null,
       "grid_template_columns": null,
       "grid_template_rows": null,
       "height": null,
       "justify_content": null,
       "justify_items": null,
       "left": null,
       "margin": null,
       "max_height": null,
       "max_width": null,
       "min_height": null,
       "min_width": null,
       "object_fit": null,
       "object_position": null,
       "order": null,
       "overflow": null,
       "overflow_x": null,
       "overflow_y": null,
       "padding": null,
       "right": null,
       "top": null,
       "visibility": null,
       "width": null
      }
     },
     "a4d924fb28854a458ae1dde4d538a0cd": {
      "model_module": "@jupyter-widgets/controls",
      "model_module_version": "1.5.0",
      "model_name": "ProgressStyleModel",
      "state": {
       "_model_module": "@jupyter-widgets/controls",
       "_model_module_version": "1.5.0",
       "_model_name": "ProgressStyleModel",
       "_view_count": null,
       "_view_module": "@jupyter-widgets/base",
       "_view_module_version": "1.2.0",
       "_view_name": "StyleView",
       "bar_color": null,
       "description_width": ""
      }
     },
     "a758a951b73f4dcf881b175c078d129c": {
      "model_module": "@jupyter-widgets/base",
      "model_module_version": "1.2.0",
      "model_name": "LayoutModel",
      "state": {
       "_model_module": "@jupyter-widgets/base",
       "_model_module_version": "1.2.0",
       "_model_name": "LayoutModel",
       "_view_count": null,
       "_view_module": "@jupyter-widgets/base",
       "_view_module_version": "1.2.0",
       "_view_name": "LayoutView",
       "align_content": null,
       "align_items": null,
       "align_self": null,
       "border": null,
       "bottom": null,
       "display": null,
       "flex": null,
       "flex_flow": null,
       "grid_area": null,
       "grid_auto_columns": null,
       "grid_auto_flow": null,
       "grid_auto_rows": null,
       "grid_column": null,
       "grid_gap": null,
       "grid_row": null,
       "grid_template_areas": null,
       "grid_template_columns": null,
       "grid_template_rows": null,
       "height": null,
       "justify_content": null,
       "justify_items": null,
       "left": null,
       "margin": null,
       "max_height": null,
       "max_width": null,
       "min_height": null,
       "min_width": null,
       "object_fit": null,
       "object_position": null,
       "order": null,
       "overflow": null,
       "overflow_x": null,
       "overflow_y": null,
       "padding": null,
       "right": null,
       "top": null,
       "visibility": null,
       "width": null
      }
     },
     "adf1505bf5b8402091ba6f34723dca18": {
      "model_module": "@jupyter-widgets/controls",
      "model_module_version": "1.5.0",
      "model_name": "FloatProgressModel",
      "state": {
       "_dom_classes": [],
       "_model_module": "@jupyter-widgets/controls",
       "_model_module_version": "1.5.0",
       "_model_name": "FloatProgressModel",
       "_view_count": null,
       "_view_module": "@jupyter-widgets/controls",
       "_view_module_version": "1.5.0",
       "_view_name": "ProgressView",
       "bar_style": "success",
       "description": "",
       "description_tooltip": null,
       "layout": "IPY_MODEL_75432604512944eb80a551e1cf4ef671",
       "max": 420.0,
       "min": 0.0,
       "orientation": "horizontal",
       "style": "IPY_MODEL_6cf381dfcbf541408cf5004bc3e390ee",
       "value": 420.0
      }
     },
     "b38da51707da43a0922f8c416ed91953": {
      "model_module": "@jupyter-widgets/controls",
      "model_module_version": "1.5.0",
      "model_name": "HTMLModel",
      "state": {
       "_dom_classes": [],
       "_model_module": "@jupyter-widgets/controls",
       "_model_module_version": "1.5.0",
       "_model_name": "HTMLModel",
       "_view_count": null,
       "_view_module": "@jupyter-widgets/controls",
       "_view_module_version": "1.5.0",
       "_view_name": "HTMLView",
       "description": "",
       "description_tooltip": null,
       "layout": "IPY_MODEL_ec3459b744a448299ea4e7d4d10d49f9",
       "placeholder": "​",
       "style": "IPY_MODEL_5489ffbbd8614246a447d75a5faf9a2d",
       "value": " 420/420 [00:00&lt;00:00, 16.2kB/s]"
      }
     },
     "ba1cbb9e814948aca1801d57d5b15d42": {
      "model_module": "@jupyter-widgets/controls",
      "model_module_version": "1.5.0",
      "model_name": "DescriptionStyleModel",
      "state": {
       "_model_module": "@jupyter-widgets/controls",
       "_model_module_version": "1.5.0",
       "_model_name": "DescriptionStyleModel",
       "_view_count": null,
       "_view_module": "@jupyter-widgets/base",
       "_view_module_version": "1.2.0",
       "_view_name": "StyleView",
       "description_width": ""
      }
     },
     "cc1f1eccafc44966a71dd6b61552cf8d": {
      "model_module": "@jupyter-widgets/controls",
      "model_module_version": "1.5.0",
      "model_name": "HTMLModel",
      "state": {
       "_dom_classes": [],
       "_model_module": "@jupyter-widgets/controls",
       "_model_module_version": "1.5.0",
       "_model_name": "HTMLModel",
       "_view_count": null,
       "_view_module": "@jupyter-widgets/controls",
       "_view_module_version": "1.5.0",
       "_view_name": "HTMLView",
       "description": "",
       "description_tooltip": null,
       "layout": "IPY_MODEL_92a6ec1bdd55472697d9fbc8907718ec",
       "placeholder": "​",
       "style": "IPY_MODEL_6718a380f3ef40a4a814fb4850a4aaaa",
       "value": "Downloading: 100%"
      }
     },
     "e0c9ec4f40764aa8b6bf59db35327caa": {
      "model_module": "@jupyter-widgets/base",
      "model_module_version": "1.2.0",
      "model_name": "LayoutModel",
      "state": {
       "_model_module": "@jupyter-widgets/base",
       "_model_module_version": "1.2.0",
       "_model_name": "LayoutModel",
       "_view_count": null,
       "_view_module": "@jupyter-widgets/base",
       "_view_module_version": "1.2.0",
       "_view_name": "LayoutView",
       "align_content": null,
       "align_items": null,
       "align_self": null,
       "border": null,
       "bottom": null,
       "display": null,
       "flex": null,
       "flex_flow": null,
       "grid_area": null,
       "grid_auto_columns": null,
       "grid_auto_flow": null,
       "grid_auto_rows": null,
       "grid_column": null,
       "grid_gap": null,
       "grid_row": null,
       "grid_template_areas": null,
       "grid_template_columns": null,
       "grid_template_rows": null,
       "height": null,
       "justify_content": null,
       "justify_items": null,
       "left": null,
       "margin": null,
       "max_height": null,
       "max_width": null,
       "min_height": null,
       "min_width": null,
       "object_fit": null,
       "object_position": null,
       "order": null,
       "overflow": null,
       "overflow_x": null,
       "overflow_y": null,
       "padding": null,
       "right": null,
       "top": null,
       "visibility": null,
       "width": null
      }
     },
     "e46125b257ab449988dbcd64d6fb3dea": {
      "model_module": "@jupyter-widgets/controls",
      "model_module_version": "1.5.0",
      "model_name": "DescriptionStyleModel",
      "state": {
       "_model_module": "@jupyter-widgets/controls",
       "_model_module_version": "1.5.0",
       "_model_name": "DescriptionStyleModel",
       "_view_count": null,
       "_view_module": "@jupyter-widgets/base",
       "_view_module_version": "1.2.0",
       "_view_name": "StyleView",
       "description_width": ""
      }
     },
     "e9219c77f123443997d0c3beac9d7e4d": {
      "model_module": "@jupyter-widgets/controls",
      "model_module_version": "1.5.0",
      "model_name": "HBoxModel",
      "state": {
       "_dom_classes": [],
       "_model_module": "@jupyter-widgets/controls",
       "_model_module_version": "1.5.0",
       "_model_name": "HBoxModel",
       "_view_count": null,
       "_view_module": "@jupyter-widgets/controls",
       "_view_module_version": "1.5.0",
       "_view_name": "HBoxView",
       "box_style": "",
       "children": [
        "IPY_MODEL_9d912736a0584f3b831a219b4f16ece5",
        "IPY_MODEL_18de032d167640bc8433192f9ec17de6",
        "IPY_MODEL_0f92ec308f1f44b1a2bf238af2f01f37"
       ],
       "layout": "IPY_MODEL_f142f0cec7d944298ad4028459c6becd"
      }
     },
     "ec3459b744a448299ea4e7d4d10d49f9": {
      "model_module": "@jupyter-widgets/base",
      "model_module_version": "1.2.0",
      "model_name": "LayoutModel",
      "state": {
       "_model_module": "@jupyter-widgets/base",
       "_model_module_version": "1.2.0",
       "_model_name": "LayoutModel",
       "_view_count": null,
       "_view_module": "@jupyter-widgets/base",
       "_view_module_version": "1.2.0",
       "_view_name": "LayoutView",
       "align_content": null,
       "align_items": null,
       "align_self": null,
       "border": null,
       "bottom": null,
       "display": null,
       "flex": null,
       "flex_flow": null,
       "grid_area": null,
       "grid_auto_columns": null,
       "grid_auto_flow": null,
       "grid_auto_rows": null,
       "grid_column": null,
       "grid_gap": null,
       "grid_row": null,
       "grid_template_areas": null,
       "grid_template_columns": null,
       "grid_template_rows": null,
       "height": null,
       "justify_content": null,
       "justify_items": null,
       "left": null,
       "margin": null,
       "max_height": null,
       "max_width": null,
       "min_height": null,
       "min_width": null,
       "object_fit": null,
       "object_position": null,
       "order": null,
       "overflow": null,
       "overflow_x": null,
       "overflow_y": null,
       "padding": null,
       "right": null,
       "top": null,
       "visibility": null,
       "width": null
      }
     },
     "f142f0cec7d944298ad4028459c6becd": {
      "model_module": "@jupyter-widgets/base",
      "model_module_version": "1.2.0",
      "model_name": "LayoutModel",
      "state": {
       "_model_module": "@jupyter-widgets/base",
       "_model_module_version": "1.2.0",
       "_model_name": "LayoutModel",
       "_view_count": null,
       "_view_module": "@jupyter-widgets/base",
       "_view_module_version": "1.2.0",
       "_view_name": "LayoutView",
       "align_content": null,
       "align_items": null,
       "align_self": null,
       "border": null,
       "bottom": null,
       "display": null,
       "flex": null,
       "flex_flow": null,
       "grid_area": null,
       "grid_auto_columns": null,
       "grid_auto_flow": null,
       "grid_auto_rows": null,
       "grid_column": null,
       "grid_gap": null,
       "grid_row": null,
       "grid_template_areas": null,
       "grid_template_columns": null,
       "grid_template_rows": null,
       "height": null,
       "justify_content": null,
       "justify_items": null,
       "left": null,
       "margin": null,
       "max_height": null,
       "max_width": null,
       "min_height": null,
       "min_width": null,
       "object_fit": null,
       "object_position": null,
       "order": null,
       "overflow": null,
       "overflow_x": null,
       "overflow_y": null,
       "padding": null,
       "right": null,
       "top": null,
       "visibility": null,
       "width": null
      }
     },
     "f76f175934014916a64e4861041ea199": {
      "model_module": "@jupyter-widgets/base",
      "model_module_version": "1.2.0",
      "model_name": "LayoutModel",
      "state": {
       "_model_module": "@jupyter-widgets/base",
       "_model_module_version": "1.2.0",
       "_model_name": "LayoutModel",
       "_view_count": null,
       "_view_module": "@jupyter-widgets/base",
       "_view_module_version": "1.2.0",
       "_view_name": "LayoutView",
       "align_content": null,
       "align_items": null,
       "align_self": null,
       "border": null,
       "bottom": null,
       "display": null,
       "flex": null,
       "flex_flow": null,
       "grid_area": null,
       "grid_auto_columns": null,
       "grid_auto_flow": null,
       "grid_auto_rows": null,
       "grid_column": null,
       "grid_gap": null,
       "grid_row": null,
       "grid_template_areas": null,
       "grid_template_columns": null,
       "grid_template_rows": null,
       "height": null,
       "justify_content": null,
       "justify_items": null,
       "left": null,
       "margin": null,
       "max_height": null,
       "max_width": null,
       "min_height": null,
       "min_width": null,
       "object_fit": null,
       "object_position": null,
       "order": null,
       "overflow": null,
       "overflow_x": null,
       "overflow_y": null,
       "padding": null,
       "right": null,
       "top": null,
       "visibility": null,
       "width": null
      }
     },
     "f7f630a702d54f2c9d9b6787466c47b0": {
      "model_module": "@jupyter-widgets/base",
      "model_module_version": "1.2.0",
      "model_name": "LayoutModel",
      "state": {
       "_model_module": "@jupyter-widgets/base",
       "_model_module_version": "1.2.0",
       "_model_name": "LayoutModel",
       "_view_count": null,
       "_view_module": "@jupyter-widgets/base",
       "_view_module_version": "1.2.0",
       "_view_name": "LayoutView",
       "align_content": null,
       "align_items": null,
       "align_self": null,
       "border": null,
       "bottom": null,
       "display": null,
       "flex": null,
       "flex_flow": null,
       "grid_area": null,
       "grid_auto_columns": null,
       "grid_auto_flow": null,
       "grid_auto_rows": null,
       "grid_column": null,
       "grid_gap": null,
       "grid_row": null,
       "grid_template_areas": null,
       "grid_template_columns": null,
       "grid_template_rows": null,
       "height": null,
       "justify_content": null,
       "justify_items": null,
       "left": null,
       "margin": null,
       "max_height": null,
       "max_width": null,
       "min_height": null,
       "min_width": null,
       "object_fit": null,
       "object_position": null,
       "order": null,
       "overflow": null,
       "overflow_x": null,
       "overflow_y": null,
       "padding": null,
       "right": null,
       "top": null,
       "visibility": null,
       "width": null
      }
     },
     "fce7570f3a6a4d019b0c01bb3645cb7b": {
      "model_module": "@jupyter-widgets/controls",
      "model_module_version": "1.5.0",
      "model_name": "HBoxModel",
      "state": {
       "_dom_classes": [],
       "_model_module": "@jupyter-widgets/controls",
       "_model_module_version": "1.5.0",
       "_model_name": "HBoxModel",
       "_view_count": null,
       "_view_module": "@jupyter-widgets/controls",
       "_view_module_version": "1.5.0",
       "_view_name": "HBoxView",
       "box_style": "",
       "children": [
        "IPY_MODEL_cc1f1eccafc44966a71dd6b61552cf8d",
        "IPY_MODEL_0fac2efb52df42fca11727de570e34cd",
        "IPY_MODEL_20c4cd7c6ecc4ab191d93a5be47a2da2"
       ],
       "layout": "IPY_MODEL_f76f175934014916a64e4861041ea199"
      }
     }
    },
    "version_major": 2,
    "version_minor": 0
   }
  }
 },
 "nbformat": 4,
 "nbformat_minor": 5
}
