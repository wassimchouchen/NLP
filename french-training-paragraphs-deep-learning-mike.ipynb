{
 "cells": [
  {
   "cell_type": "code",
   "execution_count": 1,
   "id": "263197b6",
   "metadata": {
    "_cell_guid": "b1076dfc-b9ad-4769-8c92-a6c4dae69d19",
    "_uuid": "8f2839f25d086af736a60e9eeb907d3b93b6e0e5",
    "execution": {
     "iopub.execute_input": "2022-07-01T09:53:01.040022Z",
     "iopub.status.busy": "2022-07-01T09:53:01.038448Z",
     "iopub.status.idle": "2022-07-01T09:53:08.246857Z",
     "shell.execute_reply": "2022-07-01T09:53:08.245801Z",
     "shell.execute_reply.started": "2022-07-01T08:43:15.493507Z"
    },
    "papermill": {
     "duration": 7.238898,
     "end_time": "2022-07-01T09:53:08.247040",
     "exception": false,
     "start_time": "2022-07-01T09:53:01.008142",
     "status": "completed"
    },
    "tags": []
   },
   "outputs": [],
   "source": [
    "import os\n",
    "\n",
    "import random\n",
    "import numpy as np\n",
    "\n",
    "import pandas as pd\n",
    "import torch\n",
    "from torch.utils.data import Dataset, random_split\n",
    "from transformers import (\n",
    "    AdamW,\n",
    "    Trainer,\n",
    "    TrainingArguments,\n",
    "    AutoTokenizer,\n",
    "    AutoModelForSequenceClassification,\n",
    "    get_cosine_schedule_with_warmup,\n",
    ")\n",
    "from sklearn.preprocessing import LabelEncoder\n",
    "from sklearn.metrics import accuracy_score"
   ]
  },
  {
   "cell_type": "code",
   "execution_count": 2,
   "id": "b84200ce",
   "metadata": {
    "execution": {
     "iopub.execute_input": "2022-07-01T09:53:08.298940Z",
     "iopub.status.busy": "2022-07-01T09:53:08.298197Z",
     "iopub.status.idle": "2022-07-01T09:53:11.887461Z",
     "shell.execute_reply": "2022-07-01T09:53:11.888582Z",
     "shell.execute_reply.started": "2022-07-01T08:43:15.604475Z"
    },
    "papermill": {
     "duration": 3.617303,
     "end_time": "2022-07-01T09:53:11.888787",
     "exception": false,
     "start_time": "2022-07-01T09:53:08.271484",
     "status": "completed"
    },
    "tags": []
   },
   "outputs": [
    {
     "data": {
      "application/vnd.jupyter.widget-view+json": {
       "model_id": "113f850e1c6f4019bcf6d391504ad1d9",
       "version_major": 2,
       "version_minor": 0
      },
      "text/plain": [
       "Downloading:   0%|          | 0.00/420 [00:00<?, ?B/s]"
      ]
     },
     "metadata": {},
     "output_type": "display_data"
    },
    {
     "data": {
      "application/vnd.jupyter.widget-view+json": {
       "model_id": "6753b881850141cc91e478c75b2f8f9f",
       "version_major": 2,
       "version_minor": 0
      },
      "text/plain": [
       "Downloading:   0%|          | 0.00/227k [00:00<?, ?B/s]"
      ]
     },
     "metadata": {},
     "output_type": "display_data"
    },
    {
     "data": {
      "application/vnd.jupyter.widget-view+json": {
       "model_id": "9d7548252be04c0fb1d8679370b43e0c",
       "version_major": 2,
       "version_minor": 0
      },
      "text/plain": [
       "Downloading:   0%|          | 0.00/83.0 [00:00<?, ?B/s]"
      ]
     },
     "metadata": {},
     "output_type": "display_data"
    }
   ],
   "source": [
    "model_name = \"dbmdz/bert-base-french-europeana-cased\"\n",
    "\n",
    "tokenizer = AutoTokenizer.from_pretrained(model_name)\n",
    "\n",
    "device = torch.device(\"cuda\" if torch.cuda.is_available() else \"cpu\")"
   ]
  },
  {
   "cell_type": "code",
   "execution_count": 3,
   "id": "e6803547",
   "metadata": {
    "execution": {
     "iopub.execute_input": "2022-07-01T09:53:11.973747Z",
     "iopub.status.busy": "2022-07-01T09:53:11.972161Z",
     "iopub.status.idle": "2022-07-01T09:53:11.975376Z",
     "shell.execute_reply": "2022-07-01T09:53:11.974594Z",
     "shell.execute_reply.started": "2022-07-01T08:43:20.231007Z"
    },
    "papermill": {
     "duration": 0.046244,
     "end_time": "2022-07-01T09:53:11.975525",
     "exception": false,
     "start_time": "2022-07-01T09:53:11.929281",
     "status": "completed"
    },
    "tags": []
   },
   "outputs": [],
   "source": [
    "lr = 2e-5\n",
    "epochs =  6\n",
    "batch_size = 5\n",
    "max_seq_len = 75\n",
    "\n",
    "test_frac = 0.1"
   ]
  },
  {
   "cell_type": "code",
   "execution_count": 4,
   "id": "c3268579",
   "metadata": {
    "execution": {
     "iopub.execute_input": "2022-07-01T09:53:12.061134Z",
     "iopub.status.busy": "2022-07-01T09:53:12.060333Z",
     "iopub.status.idle": "2022-07-01T09:53:12.065989Z",
     "shell.execute_reply": "2022-07-01T09:53:12.066569Z",
     "shell.execute_reply.started": "2022-07-01T08:43:20.23735Z"
    },
    "papermill": {
     "duration": 0.052471,
     "end_time": "2022-07-01T09:53:12.066760",
     "exception": false,
     "start_time": "2022-07-01T09:53:12.014289",
     "status": "completed"
    },
    "tags": []
   },
   "outputs": [],
   "source": [
    "import os\n",
    "\n",
    "def set_seed(seed=106052):\n",
    "    \"\"\"Set seed for reproducibility.\n",
    "    \"\"\"\n",
    "    random.seed(seed)\n",
    "    np.random.seed(seed)\n",
    "    torch.manual_seed(seed)\n",
    "    torch.cuda.manual_seed_all(seed)\n",
    "    \n",
    "    os.environ['PYTHONHASHSEED'] = str(seed)\n",
    "    \n",
    "set_seed()"
   ]
  },
  {
   "cell_type": "code",
   "execution_count": 5,
   "id": "6e7aba1d",
   "metadata": {
    "execution": {
     "iopub.execute_input": "2022-07-01T09:53:12.148262Z",
     "iopub.status.busy": "2022-07-01T09:53:12.147343Z",
     "iopub.status.idle": "2022-07-01T09:53:12.155808Z",
     "shell.execute_reply": "2022-07-01T09:53:12.156475Z",
     "shell.execute_reply.started": "2022-07-01T08:43:20.248758Z"
    },
    "papermill": {
     "duration": 0.053656,
     "end_time": "2022-07-01T09:53:12.156751",
     "exception": false,
     "start_time": "2022-07-01T09:53:12.103095",
     "status": "completed"
    },
    "tags": []
   },
   "outputs": [],
   "source": [
    "class CEFRDataset(Dataset):\n",
    "    \"\"\"Classification dataset, built on top of pytorch dataset object\n",
    "    \"\"\"\n",
    "    \n",
    "    def __init__(self, texts, labels):\n",
    "        \n",
    "        self.encoder = LabelEncoder()\n",
    "        print(self.encoder.__dict__)\n",
    "        self.texts = texts\n",
    "        self.labels = self.encoder.fit_transform(labels)\n",
    "\n",
    "    def __len__(self):\n",
    "        return len(self.texts)\n",
    "\n",
    "    def __getitem__(self, index):\n",
    "        text = self.texts[index]\n",
    "        label = self.labels[index]\n",
    "        encoded_text = tokenizer(\n",
    "            text,\n",
    "            padding=\"max_length\",\n",
    "            max_length=max_seq_len,\n",
    "            truncation=True,\n",
    "            return_tensors=\"pt\",\n",
    "        )\n",
    "        encoded_text[\"input_ids\"] = encoded_text[\"input_ids\"].squeeze()\n",
    "        encoded_text[\"attention_mask\"] = encoded_text[\"attention_mask\"].squeeze()\n",
    "        label = torch.tensor(label)\n",
    "\n",
    "        return {\n",
    "            \"input_ids\": encoded_text[\"input_ids\"],\n",
    "            \"attention_mask\": encoded_text[\"attention_mask\"],\n",
    "            \"labels\": label,\n",
    "        }\n",
    "\n",
    "    def get_labels(self):\n",
    "        return self.labels"
   ]
  },
  {
   "cell_type": "code",
   "execution_count": 6,
   "id": "45f754f0",
   "metadata": {
    "execution": {
     "iopub.execute_input": "2022-07-01T09:53:12.248897Z",
     "iopub.status.busy": "2022-07-01T09:53:12.247139Z",
     "iopub.status.idle": "2022-07-01T09:53:12.261649Z",
     "shell.execute_reply": "2022-07-01T09:53:12.262096Z",
     "shell.execute_reply.started": "2022-07-01T08:43:20.261562Z"
    },
    "papermill": {
     "duration": 0.060779,
     "end_time": "2022-07-01T09:53:12.262230",
     "exception": false,
     "start_time": "2022-07-01T09:53:12.201451",
     "status": "completed"
    },
    "tags": []
   },
   "outputs": [],
   "source": [
    "def train(train_set, valid_set, epochs=10, warmup_size=0.1, lr=1e-3, batch_size=16):\n",
    "    model = get_model(model_name)\n",
    "    optim = AdamW(model.parameters(), lr=lr)\n",
    "    scheduler = get_scheduler(\n",
    "        optim, warmup_size, round(len(train_set) / batch_size * epochs)\n",
    "    )\n",
    "    training_args = get_training_args(epochs, batch_size)\n",
    "    trainer = Trainer(\n",
    "        model=model,\n",
    "        args=training_args,\n",
    "        train_dataset=train_set,\n",
    "        eval_dataset=valid_set,\n",
    "        optimizers=[optim, scheduler],\n",
    "        compute_metrics=compute_accuracy,\n",
    "    )\n",
    "    trainer.train()\n",
    "    trainer.save_model()\n",
    "    return trainer"
   ]
  },
  {
   "cell_type": "code",
   "execution_count": 7,
   "id": "8b21b660",
   "metadata": {
    "execution": {
     "iopub.execute_input": "2022-07-01T09:53:12.341696Z",
     "iopub.status.busy": "2022-07-01T09:53:12.340810Z",
     "iopub.status.idle": "2022-07-01T09:53:12.347916Z",
     "shell.execute_reply": "2022-07-01T09:53:12.348688Z",
     "shell.execute_reply.started": "2022-07-01T08:43:20.274233Z"
    },
    "papermill": {
     "duration": 0.048909,
     "end_time": "2022-07-01T09:53:12.348971",
     "exception": false,
     "start_time": "2022-07-01T09:53:12.300062",
     "status": "completed"
    },
    "tags": []
   },
   "outputs": [],
   "source": [
    "def get_model(pretrained_checkpoint):\n",
    "    model = AutoModelForSequenceClassification.from_pretrained(\n",
    "        pretrained_checkpoint, num_labels=6\n",
    "    )\n",
    "    return model.to(device)"
   ]
  },
  {
   "cell_type": "code",
   "execution_count": 8,
   "id": "aa16636d",
   "metadata": {
    "execution": {
     "iopub.execute_input": "2022-07-01T09:53:12.460099Z",
     "iopub.status.busy": "2022-07-01T09:53:12.456825Z",
     "iopub.status.idle": "2022-07-01T09:53:12.463679Z",
     "shell.execute_reply": "2022-07-01T09:53:12.465156Z",
     "shell.execute_reply.started": "2022-07-01T08:43:20.283411Z"
    },
    "papermill": {
     "duration": 0.067723,
     "end_time": "2022-07-01T09:53:12.465353",
     "exception": false,
     "start_time": "2022-07-01T09:53:12.397630",
     "status": "completed"
    },
    "tags": []
   },
   "outputs": [],
   "source": [
    "os.environ[\"WANDB_DISABLED\"] = \"true\"\n",
    "\n",
    "\n",
    "def get_scheduler(optimizer, warmup_size, total_steps):\n",
    "    scheduler = get_cosine_schedule_with_warmup(\n",
    "        optimizer,\n",
    "        num_warmup_steps=round(total_steps * warmup_size),\n",
    "        num_training_steps=total_steps,\n",
    "    )\n",
    "    return scheduler\n",
    "\n",
    "\n",
    "def get_training_args(epochs, batch_size):\n",
    "    return TrainingArguments(\n",
    "        output_dir=\"./b\",\n",
    "        num_train_epochs=epochs,\n",
    "        per_device_train_batch_size=batch_size,\n",
    "        logging_steps=50,\n",
    "        fp16=False,\n",
    "        evaluation_strategy=\"epoch\",\n",
    "        eval_accumulation_steps=1,\n",
    "        report_to=None,\n",
    "        save_total_limit=1,\n",
    "        load_best_model_at_end=True\n",
    "    )\n",
    "\n",
    "\n",
    "def compute_accuracy(pred):\n",
    "    labels = pred.label_ids\n",
    "    preds = pred.predictions.argmax(-1)\n",
    "    acc = accuracy_score(labels, preds)\n",
    "    return {\"accuracy\": acc}\n",
    "\n"
   ]
  },
  {
   "cell_type": "code",
   "execution_count": 9,
   "id": "d27f010f",
   "metadata": {
    "execution": {
     "iopub.execute_input": "2022-07-01T09:53:12.584396Z",
     "iopub.status.busy": "2022-07-01T09:53:12.583224Z",
     "iopub.status.idle": "2022-07-01T09:53:12.586122Z",
     "shell.execute_reply": "2022-07-01T09:53:12.585279Z",
     "shell.execute_reply.started": "2022-07-01T08:43:20.29422Z"
    },
    "papermill": {
     "duration": 0.071613,
     "end_time": "2022-07-01T09:53:12.586280",
     "exception": false,
     "start_time": "2022-07-01T09:53:12.514667",
     "status": "completed"
    },
    "tags": []
   },
   "outputs": [],
   "source": [
    "lr = 2e-5\n",
    "epochs =  7\n",
    "batch_size = 8\n",
    "max_seq_len = 512"
   ]
  },
  {
   "cell_type": "code",
   "execution_count": 10,
   "id": "67c51901",
   "metadata": {
    "execution": {
     "iopub.execute_input": "2022-07-01T09:53:12.698294Z",
     "iopub.status.busy": "2022-07-01T09:53:12.696936Z",
     "iopub.status.idle": "2022-07-01T09:53:12.700343Z",
     "shell.execute_reply": "2022-07-01T09:53:12.699394Z",
     "shell.execute_reply.started": "2022-07-01T08:43:20.306638Z"
    },
    "papermill": {
     "duration": 0.064425,
     "end_time": "2022-07-01T09:53:12.700509",
     "exception": false,
     "start_time": "2022-07-01T09:53:12.636084",
     "status": "completed"
    },
    "tags": []
   },
   "outputs": [],
   "source": [
    "def split_valid(df, frac=0.1):\n",
    "    \n",
    "    val = pd.DataFrame()\n",
    "    val[\"text\"] = \"\"\n",
    "    val[\"label\"] = -1\n",
    "    \n",
    "    for i in df.label.unique():\n",
    "        val = pd.concat([val, df[df.label == i].sample(frac=frac)])\n",
    "        \n",
    "    return df[~df.index.isin(val.index)].reset_index(drop=True) , val.reset_index(drop=True)"
   ]
  },
  {
   "cell_type": "code",
   "execution_count": 11,
   "id": "e3c1b0c1",
   "metadata": {
    "execution": {
     "iopub.execute_input": "2022-07-01T09:53:12.810307Z",
     "iopub.status.busy": "2022-07-01T09:53:12.808368Z",
     "iopub.status.idle": "2022-07-01T09:53:12.873706Z",
     "shell.execute_reply": "2022-07-01T09:53:12.874815Z",
     "shell.execute_reply.started": "2022-07-01T08:43:20.319234Z"
    },
    "papermill": {
     "duration": 0.125501,
     "end_time": "2022-07-01T09:53:12.875020",
     "exception": false,
     "start_time": "2022-07-01T09:53:12.749519",
     "status": "completed"
    },
    "tags": []
   },
   "outputs": [],
   "source": [
    "from sklearn import preprocessing\n",
    "le = preprocessing.LabelEncoder()\n",
    "\n",
    "\n",
    "train_set_df = pd.read_csv(\"../input/frenchcefr/french dataset.csv\")\n",
    "train_set_df = train_set_df[train_set_df.label != \"XX\"]\n",
    "train_set_df = train_set_df[[\"text\", \"label\"]]\n",
    "\n",
    "train_set_df.text = train_set_df.text.apply(lambda x: x.replace(\"\\r\", \"\").replace(\"\\n\", \" \"))\n",
    "\n",
    "extra_df = pd.read_csv(\"../input/frenchcefr/french_mike_june.csv\")\n",
    "extra_df.columns = [\"text\", \"label\", \"label_\"]\n",
    "extra_df = extra_df[[\"text\", \"label\"]]\n",
    "extra_df.text = extra_df.text.astype(str)\n",
    "#train_set_df = pd.concat([train_set_df, extra_df]).reset_index(drop=True)\n",
    "\n",
    "train_set_df, valid_set_df = split_valid(train_set_df)"
   ]
  },
  {
   "cell_type": "code",
   "execution_count": 12,
   "id": "271aae1d",
   "metadata": {
    "execution": {
     "iopub.execute_input": "2022-07-01T09:53:12.938454Z",
     "iopub.status.busy": "2022-07-01T09:53:12.936859Z",
     "iopub.status.idle": "2022-07-01T09:53:12.939353Z",
     "shell.execute_reply": "2022-07-01T09:53:12.939850Z",
     "shell.execute_reply.started": "2022-07-01T08:43:20.358591Z"
    },
    "papermill": {
     "duration": 0.036442,
     "end_time": "2022-07-01T09:53:12.940023",
     "exception": false,
     "start_time": "2022-07-01T09:53:12.903581",
     "status": "completed"
    },
    "tags": []
   },
   "outputs": [],
   "source": [
    "train_set_df.label = le.fit_transform(train_set_df.label)\n",
    "valid_set_df.label = le.transform(valid_set_df.label)"
   ]
  },
  {
   "cell_type": "code",
   "execution_count": 13,
   "id": "fa19ed36",
   "metadata": {
    "execution": {
     "iopub.execute_input": "2022-07-01T09:53:13.001380Z",
     "iopub.status.busy": "2022-07-01T09:53:12.999896Z",
     "iopub.status.idle": "2022-07-01T09:53:13.003762Z",
     "shell.execute_reply": "2022-07-01T09:53:13.003267Z",
     "shell.execute_reply.started": "2022-07-01T08:43:20.366726Z"
    },
    "papermill": {
     "duration": 0.038045,
     "end_time": "2022-07-01T09:53:13.003873",
     "exception": false,
     "start_time": "2022-07-01T09:53:12.965828",
     "status": "completed"
    },
    "tags": []
   },
   "outputs": [
    {
     "data": {
      "text/plain": [
       "6"
      ]
     },
     "execution_count": 13,
     "metadata": {},
     "output_type": "execute_result"
    }
   ],
   "source": [
    "train_set_df.label.nunique()"
   ]
  },
  {
   "cell_type": "code",
   "execution_count": 14,
   "id": "460c142a",
   "metadata": {
    "execution": {
     "iopub.execute_input": "2022-07-01T09:53:13.062176Z",
     "iopub.status.busy": "2022-07-01T09:53:13.061256Z",
     "iopub.status.idle": "2022-07-01T09:53:13.065110Z",
     "shell.execute_reply": "2022-07-01T09:53:13.064574Z",
     "shell.execute_reply.started": "2022-07-01T08:43:20.377329Z"
    },
    "papermill": {
     "duration": 0.034945,
     "end_time": "2022-07-01T09:53:13.065224",
     "exception": false,
     "start_time": "2022-07-01T09:53:13.030279",
     "status": "completed"
    },
    "tags": []
   },
   "outputs": [
    {
     "data": {
      "text/plain": [
       "6"
      ]
     },
     "execution_count": 14,
     "metadata": {},
     "output_type": "execute_result"
    }
   ],
   "source": [
    "valid_set_df.label.nunique()"
   ]
  },
  {
   "cell_type": "code",
   "execution_count": 15,
   "id": "febac2fb",
   "metadata": {
    "execution": {
     "iopub.execute_input": "2022-07-01T09:53:13.122078Z",
     "iopub.status.busy": "2022-07-01T09:53:13.121335Z",
     "iopub.status.idle": "2022-07-01T09:53:13.123846Z",
     "shell.execute_reply": "2022-07-01T09:53:13.124327Z",
     "shell.execute_reply.started": "2022-07-01T08:43:20.390243Z"
    },
    "papermill": {
     "duration": 0.033009,
     "end_time": "2022-07-01T09:53:13.124471",
     "exception": false,
     "start_time": "2022-07-01T09:53:13.091462",
     "status": "completed"
    },
    "tags": []
   },
   "outputs": [],
   "source": [
    "# train_set_df = train_set_df.sample(frac=1)"
   ]
  },
  {
   "cell_type": "code",
   "execution_count": 16,
   "id": "3acabbdc",
   "metadata": {
    "execution": {
     "iopub.execute_input": "2022-07-01T09:53:13.184120Z",
     "iopub.status.busy": "2022-07-01T09:53:13.183181Z",
     "iopub.status.idle": "2022-07-01T09:53:13.185101Z",
     "shell.execute_reply": "2022-07-01T09:53:13.185744Z",
     "shell.execute_reply.started": "2022-07-01T08:43:20.397771Z"
    },
    "papermill": {
     "duration": 0.035142,
     "end_time": "2022-07-01T09:53:13.185866",
     "exception": false,
     "start_time": "2022-07-01T09:53:13.150724",
     "status": "completed"
    },
    "tags": []
   },
   "outputs": [],
   "source": [
    "from tqdm import tqdm \n",
    "\n",
    "def predict(model, text):\n",
    "    \n",
    "    preds = []\n",
    "    \n",
    "    for i in tqdm(range(len(text))):\n",
    "        tokenized = tokenizer(text[i:i+1], return_tensors=\"pt\", truncation=True, max_length=512).to(\"cuda\")\n",
    "        pred = model(**tokenized)\n",
    "        preds.append(pred.logits.argmax(-1).item())\n",
    "\n",
    "    return preds"
   ]
  },
  {
   "cell_type": "code",
   "execution_count": null,
   "id": "823d9690",
   "metadata": {
    "papermill": {
     "duration": 0.025994,
     "end_time": "2022-07-01T09:53:13.238747",
     "exception": false,
     "start_time": "2022-07-01T09:53:13.212753",
     "status": "completed"
    },
    "tags": []
   },
   "outputs": [],
   "source": []
  },
  {
   "cell_type": "code",
   "execution_count": 17,
   "id": "7a3dfce9",
   "metadata": {
    "execution": {
     "iopub.execute_input": "2022-07-01T09:53:13.299077Z",
     "iopub.status.busy": "2022-07-01T09:53:13.298022Z",
     "iopub.status.idle": "2022-07-01T09:56:21.602440Z",
     "shell.execute_reply": "2022-07-01T09:56:21.603448Z"
    },
    "papermill": {
     "duration": 188.338347,
     "end_time": "2022-07-01T09:56:21.603686",
     "exception": false,
     "start_time": "2022-07-01T09:53:13.265339",
     "status": "completed"
    },
    "tags": []
   },
   "outputs": [
    {
     "name": "stdout",
     "output_type": "stream",
     "text": [
      "{}\n",
      "{}\n"
     ]
    },
    {
     "data": {
      "application/vnd.jupyter.widget-view+json": {
       "model_id": "de64abf0929447b7a6ad1afd196378c5",
       "version_major": 2,
       "version_minor": 0
      },
      "text/plain": [
       "Downloading:   0%|          | 0.00/445M [00:00<?, ?B/s]"
      ]
     },
     "metadata": {},
     "output_type": "display_data"
    },
    {
     "name": "stderr",
     "output_type": "stream",
     "text": [
      "Some weights of the model checkpoint at dbmdz/bert-base-french-europeana-cased were not used when initializing BertForSequenceClassification: ['cls.predictions.bias', 'cls.predictions.transform.dense.weight', 'cls.predictions.transform.dense.bias', 'cls.predictions.transform.LayerNorm.weight', 'cls.predictions.transform.LayerNorm.bias', 'cls.predictions.decoder.weight', 'cls.predictions.decoder.bias', 'cls.seq_relationship.weight', 'cls.seq_relationship.bias']\n",
      "- This IS expected if you are initializing BertForSequenceClassification from the checkpoint of a model trained on another task or with another architecture (e.g. initializing a BertForSequenceClassification model from a BertForPreTraining model).\n",
      "- This IS NOT expected if you are initializing BertForSequenceClassification from the checkpoint of a model that you expect to be exactly identical (initializing a BertForSequenceClassification model from a BertForSequenceClassification model).\n",
      "Some weights of BertForSequenceClassification were not initialized from the model checkpoint at dbmdz/bert-base-french-europeana-cased and are newly initialized: ['classifier.weight', 'classifier.bias']\n",
      "You should probably TRAIN this model on a down-stream task to be able to use it for predictions and inference.\n",
      "Using the `WAND_DISABLED` environment variable is deprecated and will be removed in v5. Use the --report_to flag to control the integrations used for logging result (for instance --report_to none).\n"
     ]
    },
    {
     "data": {
      "text/html": [
       "\n",
       "    <div>\n",
       "        <style>\n",
       "            /* Turns off some styling */\n",
       "            progress {\n",
       "                /* gets rid of default border in Firefox and Opera. */\n",
       "                border: none;\n",
       "                /* Needs to be in here for Safari polyfill so background images work as expected. */\n",
       "                background-size: auto;\n",
       "            }\n",
       "        </style>\n",
       "      \n",
       "      <progress value='252' max='252' style='width:300px; height:20px; vertical-align: middle;'></progress>\n",
       "      [252/252 02:45, Epoch 7/7]\n",
       "    </div>\n",
       "    <table border=\"1\" class=\"dataframe\">\n",
       "  <thead>\n",
       "    <tr style=\"text-align: left;\">\n",
       "      <th>Epoch</th>\n",
       "      <th>Training Loss</th>\n",
       "      <th>Validation Loss</th>\n",
       "      <th>Accuracy</th>\n",
       "      <th>Runtime</th>\n",
       "      <th>Samples Per Second</th>\n",
       "    </tr>\n",
       "  </thead>\n",
       "  <tbody>\n",
       "    <tr>\n",
       "      <td>1</td>\n",
       "      <td>No log</td>\n",
       "      <td>1.286268</td>\n",
       "      <td>0.516129</td>\n",
       "      <td>0.611200</td>\n",
       "      <td>50.720000</td>\n",
       "    </tr>\n",
       "    <tr>\n",
       "      <td>2</td>\n",
       "      <td>1.501900</td>\n",
       "      <td>1.000063</td>\n",
       "      <td>0.612903</td>\n",
       "      <td>0.670100</td>\n",
       "      <td>46.265000</td>\n",
       "    </tr>\n",
       "    <tr>\n",
       "      <td>3</td>\n",
       "      <td>1.057100</td>\n",
       "      <td>0.787744</td>\n",
       "      <td>0.709677</td>\n",
       "      <td>0.610100</td>\n",
       "      <td>50.814000</td>\n",
       "    </tr>\n",
       "    <tr>\n",
       "      <td>4</td>\n",
       "      <td>1.057100</td>\n",
       "      <td>0.697483</td>\n",
       "      <td>0.774194</td>\n",
       "      <td>0.615400</td>\n",
       "      <td>50.373000</td>\n",
       "    </tr>\n",
       "    <tr>\n",
       "      <td>5</td>\n",
       "      <td>0.675800</td>\n",
       "      <td>0.638516</td>\n",
       "      <td>0.774194</td>\n",
       "      <td>0.610200</td>\n",
       "      <td>50.805000</td>\n",
       "    </tr>\n",
       "    <tr>\n",
       "      <td>6</td>\n",
       "      <td>0.446600</td>\n",
       "      <td>0.604709</td>\n",
       "      <td>0.774194</td>\n",
       "      <td>0.617300</td>\n",
       "      <td>50.218000</td>\n",
       "    </tr>\n",
       "    <tr>\n",
       "      <td>7</td>\n",
       "      <td>0.385700</td>\n",
       "      <td>0.608044</td>\n",
       "      <td>0.774194</td>\n",
       "      <td>0.612300</td>\n",
       "      <td>50.629000</td>\n",
       "    </tr>\n",
       "  </tbody>\n",
       "</table><p>"
      ],
      "text/plain": [
       "<IPython.core.display.HTML object>"
      ]
     },
     "metadata": {},
     "output_type": "display_data"
    }
   ],
   "source": [
    "train_set = CEFRDataset(train_set_df[\"text\"], train_set_df[\"label\"])\n",
    "valid_set = CEFRDataset(valid_set_df[\"text\"], valid_set_df[\"label\"])\n",
    "\n",
    "\n",
    "trainer_second = train(train_set, valid_set, epochs=epochs, warmup_size=0.2, lr=lr, batch_size=batch_size)\n",
    "model = trainer_second.model"
   ]
  },
  {
   "cell_type": "code",
   "execution_count": 18,
   "id": "9e0e73e3",
   "metadata": {
    "execution": {
     "iopub.execute_input": "2022-07-01T09:56:21.697546Z",
     "iopub.status.busy": "2022-07-01T09:56:21.696780Z",
     "iopub.status.idle": "2022-07-01T09:56:22.105466Z",
     "shell.execute_reply": "2022-07-01T09:56:22.104867Z"
    },
    "papermill": {
     "duration": 0.456337,
     "end_time": "2022-07-01T09:56:22.105632",
     "exception": false,
     "start_time": "2022-07-01T09:56:21.649295",
     "status": "completed"
    },
    "tags": []
   },
   "outputs": [
    {
     "name": "stderr",
     "output_type": "stream",
     "text": [
      "100%|██████████| 31/31 [00:00<00:00, 78.20it/s]\n"
     ]
    }
   ],
   "source": [
    "valid_set_df[\"preds\"] = train_set.encoder.inverse_transform(predict(model, valid_set_df.text.tolist()))\n",
    "valid_set_df.columns = [\"text\", \"cefr\", \"preds\",] "
   ]
  },
  {
   "cell_type": "code",
   "execution_count": 19,
   "id": "32a3e7e8",
   "metadata": {
    "execution": {
     "iopub.execute_input": "2022-07-01T09:56:22.167296Z",
     "iopub.status.busy": "2022-07-01T09:56:22.166744Z",
     "iopub.status.idle": "2022-07-01T09:56:23.579751Z",
     "shell.execute_reply": "2022-07-01T09:56:23.580326Z"
    },
    "papermill": {
     "duration": 1.445726,
     "end_time": "2022-07-01T09:56:23.580520",
     "exception": false,
     "start_time": "2022-07-01T09:56:22.134794",
     "status": "completed"
    },
    "tags": []
   },
   "outputs": [
    {
     "name": "stderr",
     "output_type": "stream",
     "text": [
      "100%|██████████| 111/111 [00:01<00:00, 80.36it/s]\n"
     ]
    }
   ],
   "source": [
    "lingua = pd.read_csv(\"../input/lingua/fr_lingua.csv\")\n",
    "lingua[\"preds\"] = train_set.encoder.inverse_transform(predict(model, lingua.text.tolist()))"
   ]
  },
  {
   "cell_type": "code",
   "execution_count": 20,
   "id": "9658eb21",
   "metadata": {
    "execution": {
     "iopub.execute_input": "2022-07-01T09:56:23.698865Z",
     "iopub.status.busy": "2022-07-01T09:56:23.696199Z",
     "iopub.status.idle": "2022-07-01T09:56:23.701618Z",
     "shell.execute_reply": "2022-07-01T09:56:23.702023Z"
    },
    "papermill": {
     "duration": 0.040361,
     "end_time": "2022-07-01T09:56:23.702166",
     "exception": false,
     "start_time": "2022-07-01T09:56:23.661805",
     "status": "completed"
    },
    "tags": []
   },
   "outputs": [
    {
     "data": {
      "text/plain": [
       "(111, 3)"
      ]
     },
     "execution_count": 20,
     "metadata": {},
     "output_type": "execute_result"
    }
   ],
   "source": [
    "lingua.shape"
   ]
  },
  {
   "cell_type": "code",
   "execution_count": 21,
   "id": "5e3f69dc",
   "metadata": {
    "execution": {
     "iopub.execute_input": "2022-07-01T09:56:23.779061Z",
     "iopub.status.busy": "2022-07-01T09:56:23.778134Z",
     "iopub.status.idle": "2022-07-01T09:56:23.782015Z",
     "shell.execute_reply": "2022-07-01T09:56:23.781567Z"
    },
    "papermill": {
     "duration": 0.044055,
     "end_time": "2022-07-01T09:56:23.782131",
     "exception": false,
     "start_time": "2022-07-01T09:56:23.738076",
     "status": "completed"
    },
    "tags": []
   },
   "outputs": [
    {
     "data": {
      "text/plain": [
       "B1    60\n",
       "A2    26\n",
       "A1    13\n",
       "B2    12\n",
       "Name: cefr, dtype: int64"
      ]
     },
     "execution_count": 21,
     "metadata": {},
     "output_type": "execute_result"
    }
   ],
   "source": [
    "lingua.cefr.value_counts()"
   ]
  },
  {
   "cell_type": "code",
   "execution_count": 22,
   "id": "db82d9aa",
   "metadata": {
    "execution": {
     "iopub.execute_input": "2022-07-01T09:56:23.852435Z",
     "iopub.status.busy": "2022-07-01T09:56:23.851814Z",
     "iopub.status.idle": "2022-07-01T09:56:23.854414Z",
     "shell.execute_reply": "2022-07-01T09:56:23.854834Z"
    },
    "papermill": {
     "duration": 0.040722,
     "end_time": "2022-07-01T09:56:23.854972",
     "exception": false,
     "start_time": "2022-07-01T09:56:23.814250",
     "status": "completed"
    },
    "tags": []
   },
   "outputs": [
    {
     "data": {
      "text/plain": [
       "array([3, 4, 2, 5, 1])"
      ]
     },
     "execution_count": 22,
     "metadata": {},
     "output_type": "execute_result"
    }
   ],
   "source": [
    "lingua.preds.unique()"
   ]
  },
  {
   "cell_type": "code",
   "execution_count": 23,
   "id": "78907bff",
   "metadata": {
    "execution": {
     "iopub.execute_input": "2022-07-01T09:56:23.926382Z",
     "iopub.status.busy": "2022-07-01T09:56:23.925717Z",
     "iopub.status.idle": "2022-07-01T09:56:23.928580Z",
     "shell.execute_reply": "2022-07-01T09:56:23.928997Z"
    },
    "papermill": {
     "duration": 0.04134,
     "end_time": "2022-07-01T09:56:23.929131",
     "exception": false,
     "start_time": "2022-07-01T09:56:23.887791",
     "status": "completed"
    },
    "tags": []
   },
   "outputs": [],
   "source": [
    "def compute_average_distance(df, col_name=\"cefr\") :\n",
    "    \n",
    "    labels = [\"A1\", \"A2\", \"B1\", \"B2\", \"C1\", \"C2\"]\n",
    "    return (df[col_name].apply(lambda x: labels.index(x)) - df.preds.apply(lambda x: labels.index(x))).abs().mean()\n"
   ]
  },
  {
   "cell_type": "code",
   "execution_count": 24,
   "id": "b5e76f95",
   "metadata": {
    "execution": {
     "iopub.execute_input": "2022-07-01T09:56:24.003601Z",
     "iopub.status.busy": "2022-07-01T09:56:24.002482Z",
     "iopub.status.idle": "2022-07-01T09:56:24.005580Z",
     "shell.execute_reply": "2022-07-01T09:56:24.006023Z"
    },
    "papermill": {
     "duration": 0.043777,
     "end_time": "2022-07-01T09:56:24.006153",
     "exception": false,
     "start_time": "2022-07-01T09:56:23.962376",
     "status": "completed"
    },
    "tags": []
   },
   "outputs": [
    {
     "data": {
      "text/plain": [
       "2    59\n",
       "4    29\n",
       "3    16\n",
       "5     5\n",
       "1     2\n",
       "Name: preds, dtype: int64"
      ]
     },
     "execution_count": 24,
     "metadata": {},
     "output_type": "execute_result"
    }
   ],
   "source": [
    "lingua.preds.value_counts()"
   ]
  },
  {
   "cell_type": "code",
   "execution_count": 25,
   "id": "9cc424b4",
   "metadata": {
    "execution": {
     "iopub.execute_input": "2022-07-01T09:56:24.079164Z",
     "iopub.status.busy": "2022-07-01T09:56:24.078561Z",
     "iopub.status.idle": "2022-07-01T09:56:24.081422Z",
     "shell.execute_reply": "2022-07-01T09:56:24.081794Z"
    },
    "papermill": {
     "duration": 0.041834,
     "end_time": "2022-07-01T09:56:24.081922",
     "exception": false,
     "start_time": "2022-07-01T09:56:24.040088",
     "status": "completed"
    },
    "tags": []
   },
   "outputs": [],
   "source": [
    "lingua[\"preds\"] = le.inverse_transform(lingua.preds)"
   ]
  },
  {
   "cell_type": "code",
   "execution_count": 26,
   "id": "3d28cab5",
   "metadata": {
    "execution": {
     "iopub.execute_input": "2022-07-01T09:56:24.155872Z",
     "iopub.status.busy": "2022-07-01T09:56:24.155281Z",
     "iopub.status.idle": "2022-07-01T09:56:24.157866Z",
     "shell.execute_reply": "2022-07-01T09:56:24.158310Z"
    },
    "papermill": {
     "duration": 0.042772,
     "end_time": "2022-07-01T09:56:24.158441",
     "exception": false,
     "start_time": "2022-07-01T09:56:24.115669",
     "status": "completed"
    },
    "tags": []
   },
   "outputs": [
    {
     "data": {
      "text/plain": [
       "B1    59\n",
       "C1    29\n",
       "B2    16\n",
       "C2     5\n",
       "A2     2\n",
       "Name: preds, dtype: int64"
      ]
     },
     "execution_count": 26,
     "metadata": {},
     "output_type": "execute_result"
    }
   ],
   "source": [
    "lingua.preds.value_counts()"
   ]
  },
  {
   "cell_type": "code",
   "execution_count": 27,
   "id": "72937475",
   "metadata": {
    "execution": {
     "iopub.execute_input": "2022-07-01T09:56:24.236403Z",
     "iopub.status.busy": "2022-07-01T09:56:24.235332Z",
     "iopub.status.idle": "2022-07-01T09:56:24.238455Z",
     "shell.execute_reply": "2022-07-01T09:56:24.239027Z"
    },
    "papermill": {
     "duration": 0.046748,
     "end_time": "2022-07-01T09:56:24.239161",
     "exception": false,
     "start_time": "2022-07-01T09:56:24.192413",
     "status": "completed"
    },
    "tags": []
   },
   "outputs": [
    {
     "name": "stdout",
     "output_type": "stream",
     "text": [
      "Distance: \n",
      "1.2342342342342343\n",
      "Lingua accuracy: 0.3063063063063063\n"
     ]
    }
   ],
   "source": [
    "print(\"Distance: \")\n",
    "print(compute_average_distance(lingua, \"cefr\"))\n",
    "\n",
    "print(f\"Lingua accuracy: {(lingua['preds'] == lingua['cefr']).mean()}\")"
   ]
  },
  {
   "cell_type": "code",
   "execution_count": 28,
   "id": "48507063",
   "metadata": {
    "execution": {
     "iopub.execute_input": "2022-07-01T09:56:24.337553Z",
     "iopub.status.busy": "2022-07-01T09:56:24.336655Z",
     "iopub.status.idle": "2022-07-01T09:56:24.354058Z",
     "shell.execute_reply": "2022-07-01T09:56:24.353515Z"
    },
    "papermill": {
     "duration": 0.080874,
     "end_time": "2022-07-01T09:56:24.354186",
     "exception": false,
     "start_time": "2022-07-01T09:56:24.273312",
     "status": "completed"
    },
    "tags": []
   },
   "outputs": [
    {
     "data": {
      "text/plain": [
       "B1    59\n",
       "B2    50\n",
       "A2     2\n",
       "Name: Predss, dtype: int64"
      ]
     },
     "execution_count": 28,
     "metadata": {},
     "output_type": "execute_result"
    }
   ],
   "source": [
    "for i in range(lingua.shape[0]):\n",
    "    if (lingua.loc[i,\"preds\"]==\"C1\") | (lingua.loc[i,\"preds\"]==\"C2\") :\n",
    "        lingua.loc[i,\"Predss\"]=\"B2\"\n",
    "    else :\n",
    "        lingua.loc[i,\"Predss\"]= lingua.loc[i,\"preds\"]\n",
    "lingua[\"Predss\"].value_counts()"
   ]
  },
  {
   "cell_type": "code",
   "execution_count": 29,
   "id": "87154107",
   "metadata": {
    "execution": {
     "iopub.execute_input": "2022-07-01T09:56:24.431930Z",
     "iopub.status.busy": "2022-07-01T09:56:24.428666Z",
     "iopub.status.idle": "2022-07-01T09:56:24.434826Z",
     "shell.execute_reply": "2022-07-01T09:56:24.435301Z"
    },
    "papermill": {
     "duration": 0.046378,
     "end_time": "2022-07-01T09:56:24.435445",
     "exception": false,
     "start_time": "2022-07-01T09:56:24.389067",
     "status": "completed"
    },
    "tags": []
   },
   "outputs": [
    {
     "name": "stdout",
     "output_type": "stream",
     "text": [
      "Distance: \n",
      "1.2342342342342343\n",
      "Lingua accuracy: 0.38738738738738737\n"
     ]
    }
   ],
   "source": [
    "print(\"Distance: \")\n",
    "print(compute_average_distance(lingua, \"cefr\"))\n",
    "\n",
    "print(f\"Lingua accuracy: {(lingua['Predss'] == lingua['cefr']).mean()}\")"
   ]
  },
  {
   "cell_type": "markdown",
   "id": "a026e328",
   "metadata": {
    "papermill": {
     "duration": 0.034583,
     "end_time": "2022-07-01T09:56:24.507029",
     "exception": false,
     "start_time": "2022-07-01T09:56:24.472446",
     "status": "completed"
    },
    "tags": []
   },
   "source": [
    "****"
   ]
  },
  {
   "cell_type": "markdown",
   "id": "125b91d1",
   "metadata": {
    "papermill": {
     "duration": 0.035655,
     "end_time": "2022-07-01T09:56:24.578824",
     "exception": false,
     "start_time": "2022-07-01T09:56:24.543169",
     "status": "completed"
    },
    "tags": []
   },
   "source": [
    "Distance: \n",
    "0.990990990990991\n",
    "Lingua accuracy: 0.40540540540540543 <br>\n",
    "2    82\n",
    "3    15\n",
    "5    10\n",
    "4     2\n",
    "0     1\n",
    "1     1 <br> \n",
    "inokufu/flaubert-base-uncased-xnli-sts-finetuned-education"
   ]
  },
  {
   "cell_type": "markdown",
   "id": "63e1e084",
   "metadata": {
    "papermill": {
     "duration": 0.034699,
     "end_time": "2022-07-01T09:56:24.649254",
     "exception": false,
     "start_time": "2022-07-01T09:56:24.614555",
     "status": "completed"
    },
    "tags": []
   },
   "source": [
    "****"
   ]
  },
  {
   "cell_type": "markdown",
   "id": "4d79274f",
   "metadata": {
    "papermill": {
     "duration": 0.035418,
     "end_time": "2022-07-01T09:56:24.719474",
     "exception": false,
     "start_time": "2022-07-01T09:56:24.684056",
     "status": "completed"
    },
    "tags": []
   },
   "source": [
    "\n",
    "Distance: \n",
    "0.8648648648648649\n",
    "Lingua accuracy: 0.450450450450450462 <br>\n",
    "3     7\n",
    "1     5\n",
    "5     4\n",
    "4     4\n",
    "0     1 <br> inokufu/flaubert-base-uncased-xnli-sts-finetuned-education"
   ]
  },
  {
   "cell_type": "code",
   "execution_count": null,
   "id": "6d1d208a",
   "metadata": {
    "papermill": {
     "duration": 0.034622,
     "end_time": "2022-07-01T09:56:24.788858",
     "exception": false,
     "start_time": "2022-07-01T09:56:24.754236",
     "status": "completed"
    },
    "tags": []
   },
   "outputs": [],
   "source": []
  },
  {
   "cell_type": "code",
   "execution_count": null,
   "id": "447b7c49",
   "metadata": {
    "papermill": {
     "duration": 0.828819,
     "end_time": "2022-07-01T09:56:25.653281",
     "exception": false,
     "start_time": "2022-07-01T09:56:24.824462",
     "status": "completed"
    },
    "tags": []
   },
   "outputs": [],
   "source": []
  },
  {
   "cell_type": "code",
   "execution_count": null,
   "id": "e1e5a64d",
   "metadata": {
    "papermill": {
     "duration": 0.060008,
     "end_time": "2022-07-01T09:56:25.794534",
     "exception": false,
     "start_time": "2022-07-01T09:56:25.734526",
     "status": "completed"
    },
    "tags": []
   },
   "outputs": [],
   "source": []
  },
  {
   "cell_type": "code",
   "execution_count": null,
   "id": "ce439b43",
   "metadata": {
    "papermill": {
     "duration": 0.056281,
     "end_time": "2022-07-01T09:56:25.912305",
     "exception": false,
     "start_time": "2022-07-01T09:56:25.856024",
     "status": "completed"
    },
    "tags": []
   },
   "outputs": [],
   "source": []
  }
 ],
 "metadata": {
  "kernelspec": {
   "display_name": "Python 3",
   "language": "python",
   "name": "python3"
  },
  "language_info": {
   "codemirror_mode": {
    "name": "ipython",
    "version": 3
   },
   "file_extension": ".py",
   "mimetype": "text/x-python",
   "name": "python",
   "nbconvert_exporter": "python",
   "pygments_lexer": "ipython3",
   "version": "3.7.10"
  },
  "papermill": {
   "default_parameters": {},
   "duration": 215.499925,
   "end_time": "2022-07-01T09:56:28.995498",
   "environment_variables": {},
   "exception": null,
   "input_path": "__notebook__.ipynb",
   "output_path": "__notebook__.ipynb",
   "parameters": {},
   "start_time": "2022-07-01T09:52:53.495573",
   "version": "2.3.3"
  },
  "widgets": {
   "application/vnd.jupyter.widget-state+json": {
    "state": {
     "06a577f1fb4645be8b06015ec3c7d811": {
      "model_module": "@jupyter-widgets/base",
      "model_module_version": "1.2.0",
      "model_name": "LayoutModel",
      "state": {
       "_model_module": "@jupyter-widgets/base",
       "_model_module_version": "1.2.0",
       "_model_name": "LayoutModel",
       "_view_count": null,
       "_view_module": "@jupyter-widgets/base",
       "_view_module_version": "1.2.0",
       "_view_name": "LayoutView",
       "align_content": null,
       "align_items": null,
       "align_self": null,
       "border": null,
       "bottom": null,
       "display": null,
       "flex": null,
       "flex_flow": null,
       "grid_area": null,
       "grid_auto_columns": null,
       "grid_auto_flow": null,
       "grid_auto_rows": null,
       "grid_column": null,
       "grid_gap": null,
       "grid_row": null,
       "grid_template_areas": null,
       "grid_template_columns": null,
       "grid_template_rows": null,
       "height": null,
       "justify_content": null,
       "justify_items": null,
       "left": null,
       "margin": null,
       "max_height": null,
       "max_width": null,
       "min_height": null,
       "min_width": null,
       "object_fit": null,
       "object_position": null,
       "order": null,
       "overflow": null,
       "overflow_x": null,
       "overflow_y": null,
       "padding": null,
       "right": null,
       "top": null,
       "visibility": null,
       "width": null
      }
     },
     "0a20fb7c35c54a719f92dcaac3551692": {
      "model_module": "@jupyter-widgets/controls",
      "model_module_version": "1.5.0",
      "model_name": "DescriptionStyleModel",
      "state": {
       "_model_module": "@jupyter-widgets/controls",
       "_model_module_version": "1.5.0",
       "_model_name": "DescriptionStyleModel",
       "_view_count": null,
       "_view_module": "@jupyter-widgets/base",
       "_view_module_version": "1.2.0",
       "_view_name": "StyleView",
       "description_width": ""
      }
     },
     "0b0f20a2fe6544f8b5ce7d7d95516ee7": {
      "model_module": "@jupyter-widgets/base",
      "model_module_version": "1.2.0",
      "model_name": "LayoutModel",
      "state": {
       "_model_module": "@jupyter-widgets/base",
       "_model_module_version": "1.2.0",
       "_model_name": "LayoutModel",
       "_view_count": null,
       "_view_module": "@jupyter-widgets/base",
       "_view_module_version": "1.2.0",
       "_view_name": "LayoutView",
       "align_content": null,
       "align_items": null,
       "align_self": null,
       "border": null,
       "bottom": null,
       "display": null,
       "flex": null,
       "flex_flow": null,
       "grid_area": null,
       "grid_auto_columns": null,
       "grid_auto_flow": null,
       "grid_auto_rows": null,
       "grid_column": null,
       "grid_gap": null,
       "grid_row": null,
       "grid_template_areas": null,
       "grid_template_columns": null,
       "grid_template_rows": null,
       "height": null,
       "justify_content": null,
       "justify_items": null,
       "left": null,
       "margin": null,
       "max_height": null,
       "max_width": null,
       "min_height": null,
       "min_width": null,
       "object_fit": null,
       "object_position": null,
       "order": null,
       "overflow": null,
       "overflow_x": null,
       "overflow_y": null,
       "padding": null,
       "right": null,
       "top": null,
       "visibility": null,
       "width": null
      }
     },
     "0d0b2b006def4daeae073fc2a84e8fb4": {
      "model_module": "@jupyter-widgets/base",
      "model_module_version": "1.2.0",
      "model_name": "LayoutModel",
      "state": {
       "_model_module": "@jupyter-widgets/base",
       "_model_module_version": "1.2.0",
       "_model_name": "LayoutModel",
       "_view_count": null,
       "_view_module": "@jupyter-widgets/base",
       "_view_module_version": "1.2.0",
       "_view_name": "LayoutView",
       "align_content": null,
       "align_items": null,
       "align_self": null,
       "border": null,
       "bottom": null,
       "display": null,
       "flex": null,
       "flex_flow": null,
       "grid_area": null,
       "grid_auto_columns": null,
       "grid_auto_flow": null,
       "grid_auto_rows": null,
       "grid_column": null,
       "grid_gap": null,
       "grid_row": null,
       "grid_template_areas": null,
       "grid_template_columns": null,
       "grid_template_rows": null,
       "height": null,
       "justify_content": null,
       "justify_items": null,
       "left": null,
       "margin": null,
       "max_height": null,
       "max_width": null,
       "min_height": null,
       "min_width": null,
       "object_fit": null,
       "object_position": null,
       "order": null,
       "overflow": null,
       "overflow_x": null,
       "overflow_y": null,
       "padding": null,
       "right": null,
       "top": null,
       "visibility": null,
       "width": null
      }
     },
     "0db676c756524373a9df95159362986c": {
      "model_module": "@jupyter-widgets/base",
      "model_module_version": "1.2.0",
      "model_name": "LayoutModel",
      "state": {
       "_model_module": "@jupyter-widgets/base",
       "_model_module_version": "1.2.0",
       "_model_name": "LayoutModel",
       "_view_count": null,
       "_view_module": "@jupyter-widgets/base",
       "_view_module_version": "1.2.0",
       "_view_name": "LayoutView",
       "align_content": null,
       "align_items": null,
       "align_self": null,
       "border": null,
       "bottom": null,
       "display": null,
       "flex": null,
       "flex_flow": null,
       "grid_area": null,
       "grid_auto_columns": null,
       "grid_auto_flow": null,
       "grid_auto_rows": null,
       "grid_column": null,
       "grid_gap": null,
       "grid_row": null,
       "grid_template_areas": null,
       "grid_template_columns": null,
       "grid_template_rows": null,
       "height": null,
       "justify_content": null,
       "justify_items": null,
       "left": null,
       "margin": null,
       "max_height": null,
       "max_width": null,
       "min_height": null,
       "min_width": null,
       "object_fit": null,
       "object_position": null,
       "order": null,
       "overflow": null,
       "overflow_x": null,
       "overflow_y": null,
       "padding": null,
       "right": null,
       "top": null,
       "visibility": null,
       "width": null
      }
     },
     "113f850e1c6f4019bcf6d391504ad1d9": {
      "model_module": "@jupyter-widgets/controls",
      "model_module_version": "1.5.0",
      "model_name": "HBoxModel",
      "state": {
       "_dom_classes": [],
       "_model_module": "@jupyter-widgets/controls",
       "_model_module_version": "1.5.0",
       "_model_name": "HBoxModel",
       "_view_count": null,
       "_view_module": "@jupyter-widgets/controls",
       "_view_module_version": "1.5.0",
       "_view_name": "HBoxView",
       "box_style": "",
       "children": [
        "IPY_MODEL_37f0dfc86da7480d984f2468e654decf",
        "IPY_MODEL_16b22ea4b63749eebb610bbbb5c802d8",
        "IPY_MODEL_bd6124d85566424d831447bb3e624d63"
       ],
       "layout": "IPY_MODEL_36d51fd55041499287528fdfba57886a"
      }
     },
     "16b22ea4b63749eebb610bbbb5c802d8": {
      "model_module": "@jupyter-widgets/controls",
      "model_module_version": "1.5.0",
      "model_name": "FloatProgressModel",
      "state": {
       "_dom_classes": [],
       "_model_module": "@jupyter-widgets/controls",
       "_model_module_version": "1.5.0",
       "_model_name": "FloatProgressModel",
       "_view_count": null,
       "_view_module": "@jupyter-widgets/controls",
       "_view_module_version": "1.5.0",
       "_view_name": "ProgressView",
       "bar_style": "success",
       "description": "",
       "description_tooltip": null,
       "layout": "IPY_MODEL_73f11e11ae6548bf83d6a1ab980ae77e",
       "max": 420.0,
       "min": 0.0,
       "orientation": "horizontal",
       "style": "IPY_MODEL_9603e4cfd1584202a9d1789cbc949813",
       "value": 420.0
      }
     },
     "16b445779dfd432b98cf6b6df6c650f5": {
      "model_module": "@jupyter-widgets/controls",
      "model_module_version": "1.5.0",
      "model_name": "FloatProgressModel",
      "state": {
       "_dom_classes": [],
       "_model_module": "@jupyter-widgets/controls",
       "_model_module_version": "1.5.0",
       "_model_name": "FloatProgressModel",
       "_view_count": null,
       "_view_module": "@jupyter-widgets/controls",
       "_view_module_version": "1.5.0",
       "_view_name": "ProgressView",
       "bar_style": "success",
       "description": "",
       "description_tooltip": null,
       "layout": "IPY_MODEL_8ad538f0153a4694ae16eb49427911e2",
       "max": 83.0,
       "min": 0.0,
       "orientation": "horizontal",
       "style": "IPY_MODEL_e585a72d130647bf83e84b7d7a0f2dec",
       "value": 83.0
      }
     },
     "1e170ee7633e44b7bf119241e26579e3": {
      "model_module": "@jupyter-widgets/base",
      "model_module_version": "1.2.0",
      "model_name": "LayoutModel",
      "state": {
       "_model_module": "@jupyter-widgets/base",
       "_model_module_version": "1.2.0",
       "_model_name": "LayoutModel",
       "_view_count": null,
       "_view_module": "@jupyter-widgets/base",
       "_view_module_version": "1.2.0",
       "_view_name": "LayoutView",
       "align_content": null,
       "align_items": null,
       "align_self": null,
       "border": null,
       "bottom": null,
       "display": null,
       "flex": null,
       "flex_flow": null,
       "grid_area": null,
       "grid_auto_columns": null,
       "grid_auto_flow": null,
       "grid_auto_rows": null,
       "grid_column": null,
       "grid_gap": null,
       "grid_row": null,
       "grid_template_areas": null,
       "grid_template_columns": null,
       "grid_template_rows": null,
       "height": null,
       "justify_content": null,
       "justify_items": null,
       "left": null,
       "margin": null,
       "max_height": null,
       "max_width": null,
       "min_height": null,
       "min_width": null,
       "object_fit": null,
       "object_position": null,
       "order": null,
       "overflow": null,
       "overflow_x": null,
       "overflow_y": null,
       "padding": null,
       "right": null,
       "top": null,
       "visibility": null,
       "width": null
      }
     },
     "31eaef3c9e7b42e2ac6214772337cf76": {
      "model_module": "@jupyter-widgets/base",
      "model_module_version": "1.2.0",
      "model_name": "LayoutModel",
      "state": {
       "_model_module": "@jupyter-widgets/base",
       "_model_module_version": "1.2.0",
       "_model_name": "LayoutModel",
       "_view_count": null,
       "_view_module": "@jupyter-widgets/base",
       "_view_module_version": "1.2.0",
       "_view_name": "LayoutView",
       "align_content": null,
       "align_items": null,
       "align_self": null,
       "border": null,
       "bottom": null,
       "display": null,
       "flex": null,
       "flex_flow": null,
       "grid_area": null,
       "grid_auto_columns": null,
       "grid_auto_flow": null,
       "grid_auto_rows": null,
       "grid_column": null,
       "grid_gap": null,
       "grid_row": null,
       "grid_template_areas": null,
       "grid_template_columns": null,
       "grid_template_rows": null,
       "height": null,
       "justify_content": null,
       "justify_items": null,
       "left": null,
       "margin": null,
       "max_height": null,
       "max_width": null,
       "min_height": null,
       "min_width": null,
       "object_fit": null,
       "object_position": null,
       "order": null,
       "overflow": null,
       "overflow_x": null,
       "overflow_y": null,
       "padding": null,
       "right": null,
       "top": null,
       "visibility": null,
       "width": null
      }
     },
     "36d51fd55041499287528fdfba57886a": {
      "model_module": "@jupyter-widgets/base",
      "model_module_version": "1.2.0",
      "model_name": "LayoutModel",
      "state": {
       "_model_module": "@jupyter-widgets/base",
       "_model_module_version": "1.2.0",
       "_model_name": "LayoutModel",
       "_view_count": null,
       "_view_module": "@jupyter-widgets/base",
       "_view_module_version": "1.2.0",
       "_view_name": "LayoutView",
       "align_content": null,
       "align_items": null,
       "align_self": null,
       "border": null,
       "bottom": null,
       "display": null,
       "flex": null,
       "flex_flow": null,
       "grid_area": null,
       "grid_auto_columns": null,
       "grid_auto_flow": null,
       "grid_auto_rows": null,
       "grid_column": null,
       "grid_gap": null,
       "grid_row": null,
       "grid_template_areas": null,
       "grid_template_columns": null,
       "grid_template_rows": null,
       "height": null,
       "justify_content": null,
       "justify_items": null,
       "left": null,
       "margin": null,
       "max_height": null,
       "max_width": null,
       "min_height": null,
       "min_width": null,
       "object_fit": null,
       "object_position": null,
       "order": null,
       "overflow": null,
       "overflow_x": null,
       "overflow_y": null,
       "padding": null,
       "right": null,
       "top": null,
       "visibility": null,
       "width": null
      }
     },
     "37f0dfc86da7480d984f2468e654decf": {
      "model_module": "@jupyter-widgets/controls",
      "model_module_version": "1.5.0",
      "model_name": "HTMLModel",
      "state": {
       "_dom_classes": [],
       "_model_module": "@jupyter-widgets/controls",
       "_model_module_version": "1.5.0",
       "_model_name": "HTMLModel",
       "_view_count": null,
       "_view_module": "@jupyter-widgets/controls",
       "_view_module_version": "1.5.0",
       "_view_name": "HTMLView",
       "description": "",
       "description_tooltip": null,
       "layout": "IPY_MODEL_f050db4d20f24e3e87beda337ccfdc08",
       "placeholder": "​",
       "style": "IPY_MODEL_982a2270153b439ebb1fb98d05231271",
       "value": "Downloading: 100%"
      }
     },
     "394c998ed5b84acd8b8a2d2ed0c3109b": {
      "model_module": "@jupyter-widgets/controls",
      "model_module_version": "1.5.0",
      "model_name": "DescriptionStyleModel",
      "state": {
       "_model_module": "@jupyter-widgets/controls",
       "_model_module_version": "1.5.0",
       "_model_name": "DescriptionStyleModel",
       "_view_count": null,
       "_view_module": "@jupyter-widgets/base",
       "_view_module_version": "1.2.0",
       "_view_name": "StyleView",
       "description_width": ""
      }
     },
     "5d49a1a20cb547e89ca57edca7d2596f": {
      "model_module": "@jupyter-widgets/controls",
      "model_module_version": "1.5.0",
      "model_name": "ProgressStyleModel",
      "state": {
       "_model_module": "@jupyter-widgets/controls",
       "_model_module_version": "1.5.0",
       "_model_name": "ProgressStyleModel",
       "_view_count": null,
       "_view_module": "@jupyter-widgets/base",
       "_view_module_version": "1.2.0",
       "_view_name": "StyleView",
       "bar_color": null,
       "description_width": ""
      }
     },
     "65485b62b3134e31a03939f3d6caaf35": {
      "model_module": "@jupyter-widgets/base",
      "model_module_version": "1.2.0",
      "model_name": "LayoutModel",
      "state": {
       "_model_module": "@jupyter-widgets/base",
       "_model_module_version": "1.2.0",
       "_model_name": "LayoutModel",
       "_view_count": null,
       "_view_module": "@jupyter-widgets/base",
       "_view_module_version": "1.2.0",
       "_view_name": "LayoutView",
       "align_content": null,
       "align_items": null,
       "align_self": null,
       "border": null,
       "bottom": null,
       "display": null,
       "flex": null,
       "flex_flow": null,
       "grid_area": null,
       "grid_auto_columns": null,
       "grid_auto_flow": null,
       "grid_auto_rows": null,
       "grid_column": null,
       "grid_gap": null,
       "grid_row": null,
       "grid_template_areas": null,
       "grid_template_columns": null,
       "grid_template_rows": null,
       "height": null,
       "justify_content": null,
       "justify_items": null,
       "left": null,
       "margin": null,
       "max_height": null,
       "max_width": null,
       "min_height": null,
       "min_width": null,
       "object_fit": null,
       "object_position": null,
       "order": null,
       "overflow": null,
       "overflow_x": null,
       "overflow_y": null,
       "padding": null,
       "right": null,
       "top": null,
       "visibility": null,
       "width": null
      }
     },
     "6753b881850141cc91e478c75b2f8f9f": {
      "model_module": "@jupyter-widgets/controls",
      "model_module_version": "1.5.0",
      "model_name": "HBoxModel",
      "state": {
       "_dom_classes": [],
       "_model_module": "@jupyter-widgets/controls",
       "_model_module_version": "1.5.0",
       "_model_name": "HBoxModel",
       "_view_count": null,
       "_view_module": "@jupyter-widgets/controls",
       "_view_module_version": "1.5.0",
       "_view_name": "HBoxView",
       "box_style": "",
       "children": [
        "IPY_MODEL_fa75c5f128514076835f93696878d34a",
        "IPY_MODEL_ac46c66cadbb495494caf64e8bdc8741",
        "IPY_MODEL_ee948daeb452430088d6df0201e58002"
       ],
       "layout": "IPY_MODEL_31eaef3c9e7b42e2ac6214772337cf76"
      }
     },
     "6b72365a5ad84defaca8d03dcb75ff89": {
      "model_module": "@jupyter-widgets/controls",
      "model_module_version": "1.5.0",
      "model_name": "DescriptionStyleModel",
      "state": {
       "_model_module": "@jupyter-widgets/controls",
       "_model_module_version": "1.5.0",
       "_model_name": "DescriptionStyleModel",
       "_view_count": null,
       "_view_module": "@jupyter-widgets/base",
       "_view_module_version": "1.2.0",
       "_view_name": "StyleView",
       "description_width": ""
      }
     },
     "73000afb22874a27b61324baaf603a07": {
      "model_module": "@jupyter-widgets/controls",
      "model_module_version": "1.5.0",
      "model_name": "DescriptionStyleModel",
      "state": {
       "_model_module": "@jupyter-widgets/controls",
       "_model_module_version": "1.5.0",
       "_model_name": "DescriptionStyleModel",
       "_view_count": null,
       "_view_module": "@jupyter-widgets/base",
       "_view_module_version": "1.2.0",
       "_view_name": "StyleView",
       "description_width": ""
      }
     },
     "733fa374750d48bb8412da7b889658ba": {
      "model_module": "@jupyter-widgets/controls",
      "model_module_version": "1.5.0",
      "model_name": "HTMLModel",
      "state": {
       "_dom_classes": [],
       "_model_module": "@jupyter-widgets/controls",
       "_model_module_version": "1.5.0",
       "_model_name": "HTMLModel",
       "_view_count": null,
       "_view_module": "@jupyter-widgets/controls",
       "_view_module_version": "1.5.0",
       "_view_name": "HTMLView",
       "description": "",
       "description_tooltip": null,
       "layout": "IPY_MODEL_fce5f4c048ad4e13a8b68422ef9f9890",
       "placeholder": "​",
       "style": "IPY_MODEL_73000afb22874a27b61324baaf603a07",
       "value": "Downloading: 100%"
      }
     },
     "73f11e11ae6548bf83d6a1ab980ae77e": {
      "model_module": "@jupyter-widgets/base",
      "model_module_version": "1.2.0",
      "model_name": "LayoutModel",
      "state": {
       "_model_module": "@jupyter-widgets/base",
       "_model_module_version": "1.2.0",
       "_model_name": "LayoutModel",
       "_view_count": null,
       "_view_module": "@jupyter-widgets/base",
       "_view_module_version": "1.2.0",
       "_view_name": "LayoutView",
       "align_content": null,
       "align_items": null,
       "align_self": null,
       "border": null,
       "bottom": null,
       "display": null,
       "flex": null,
       "flex_flow": null,
       "grid_area": null,
       "grid_auto_columns": null,
       "grid_auto_flow": null,
       "grid_auto_rows": null,
       "grid_column": null,
       "grid_gap": null,
       "grid_row": null,
       "grid_template_areas": null,
       "grid_template_columns": null,
       "grid_template_rows": null,
       "height": null,
       "justify_content": null,
       "justify_items": null,
       "left": null,
       "margin": null,
       "max_height": null,
       "max_width": null,
       "min_height": null,
       "min_width": null,
       "object_fit": null,
       "object_position": null,
       "order": null,
       "overflow": null,
       "overflow_x": null,
       "overflow_y": null,
       "padding": null,
       "right": null,
       "top": null,
       "visibility": null,
       "width": null
      }
     },
     "80343160a1f84e30bab96555334e9c92": {
      "model_module": "@jupyter-widgets/controls",
      "model_module_version": "1.5.0",
      "model_name": "HTMLModel",
      "state": {
       "_dom_classes": [],
       "_model_module": "@jupyter-widgets/controls",
       "_model_module_version": "1.5.0",
       "_model_name": "HTMLModel",
       "_view_count": null,
       "_view_module": "@jupyter-widgets/controls",
       "_view_module_version": "1.5.0",
       "_view_name": "HTMLView",
       "description": "",
       "description_tooltip": null,
       "layout": "IPY_MODEL_dfd026cb91554956bd3879bdb3e89f33",
       "placeholder": "​",
       "style": "IPY_MODEL_0a20fb7c35c54a719f92dcaac3551692",
       "value": " 83.0/83.0 [00:00&lt;00:00, 1.39kB/s]"
      }
     },
     "8ad538f0153a4694ae16eb49427911e2": {
      "model_module": "@jupyter-widgets/base",
      "model_module_version": "1.2.0",
      "model_name": "LayoutModel",
      "state": {
       "_model_module": "@jupyter-widgets/base",
       "_model_module_version": "1.2.0",
       "_model_name": "LayoutModel",
       "_view_count": null,
       "_view_module": "@jupyter-widgets/base",
       "_view_module_version": "1.2.0",
       "_view_name": "LayoutView",
       "align_content": null,
       "align_items": null,
       "align_self": null,
       "border": null,
       "bottom": null,
       "display": null,
       "flex": null,
       "flex_flow": null,
       "grid_area": null,
       "grid_auto_columns": null,
       "grid_auto_flow": null,
       "grid_auto_rows": null,
       "grid_column": null,
       "grid_gap": null,
       "grid_row": null,
       "grid_template_areas": null,
       "grid_template_columns": null,
       "grid_template_rows": null,
       "height": null,
       "justify_content": null,
       "justify_items": null,
       "left": null,
       "margin": null,
       "max_height": null,
       "max_width": null,
       "min_height": null,
       "min_width": null,
       "object_fit": null,
       "object_position": null,
       "order": null,
       "overflow": null,
       "overflow_x": null,
       "overflow_y": null,
       "padding": null,
       "right": null,
       "top": null,
       "visibility": null,
       "width": null
      }
     },
     "8b12b1d4adfd4cb3825f149e1f84d940": {
      "model_module": "@jupyter-widgets/controls",
      "model_module_version": "1.5.0",
      "model_name": "HTMLModel",
      "state": {
       "_dom_classes": [],
       "_model_module": "@jupyter-widgets/controls",
       "_model_module_version": "1.5.0",
       "_model_name": "HTMLModel",
       "_view_count": null,
       "_view_module": "@jupyter-widgets/controls",
       "_view_module_version": "1.5.0",
       "_view_name": "HTMLView",
       "description": "",
       "description_tooltip": null,
       "layout": "IPY_MODEL_06a577f1fb4645be8b06015ec3c7d811",
       "placeholder": "​",
       "style": "IPY_MODEL_f0c3e3970081498a9579a2609654c8fc",
       "value": "Downloading: 100%"
      }
     },
     "9603e4cfd1584202a9d1789cbc949813": {
      "model_module": "@jupyter-widgets/controls",
      "model_module_version": "1.5.0",
      "model_name": "ProgressStyleModel",
      "state": {
       "_model_module": "@jupyter-widgets/controls",
       "_model_module_version": "1.5.0",
       "_model_name": "ProgressStyleModel",
       "_view_count": null,
       "_view_module": "@jupyter-widgets/base",
       "_view_module_version": "1.2.0",
       "_view_name": "StyleView",
       "bar_color": null,
       "description_width": ""
      }
     },
     "982a2270153b439ebb1fb98d05231271": {
      "model_module": "@jupyter-widgets/controls",
      "model_module_version": "1.5.0",
      "model_name": "DescriptionStyleModel",
      "state": {
       "_model_module": "@jupyter-widgets/controls",
       "_model_module_version": "1.5.0",
       "_model_name": "DescriptionStyleModel",
       "_view_count": null,
       "_view_module": "@jupyter-widgets/base",
       "_view_module_version": "1.2.0",
       "_view_name": "StyleView",
       "description_width": ""
      }
     },
     "9bd5b33fcfcc4c3fa6ae48735aba5d23": {
      "model_module": "@jupyter-widgets/controls",
      "model_module_version": "1.5.0",
      "model_name": "ProgressStyleModel",
      "state": {
       "_model_module": "@jupyter-widgets/controls",
       "_model_module_version": "1.5.0",
       "_model_name": "ProgressStyleModel",
       "_view_count": null,
       "_view_module": "@jupyter-widgets/base",
       "_view_module_version": "1.2.0",
       "_view_name": "StyleView",
       "bar_color": null,
       "description_width": ""
      }
     },
     "9d7548252be04c0fb1d8679370b43e0c": {
      "model_module": "@jupyter-widgets/controls",
      "model_module_version": "1.5.0",
      "model_name": "HBoxModel",
      "state": {
       "_dom_classes": [],
       "_model_module": "@jupyter-widgets/controls",
       "_model_module_version": "1.5.0",
       "_model_name": "HBoxModel",
       "_view_count": null,
       "_view_module": "@jupyter-widgets/controls",
       "_view_module_version": "1.5.0",
       "_view_name": "HBoxView",
       "box_style": "",
       "children": [
        "IPY_MODEL_733fa374750d48bb8412da7b889658ba",
        "IPY_MODEL_16b445779dfd432b98cf6b6df6c650f5",
        "IPY_MODEL_80343160a1f84e30bab96555334e9c92"
       ],
       "layout": "IPY_MODEL_0d0b2b006def4daeae073fc2a84e8fb4"
      }
     },
     "9f9639e6107d4941a5e1f8e465c27e6b": {
      "model_module": "@jupyter-widgets/controls",
      "model_module_version": "1.5.0",
      "model_name": "HTMLModel",
      "state": {
       "_dom_classes": [],
       "_model_module": "@jupyter-widgets/controls",
       "_model_module_version": "1.5.0",
       "_model_name": "HTMLModel",
       "_view_count": null,
       "_view_module": "@jupyter-widgets/controls",
       "_view_module_version": "1.5.0",
       "_view_name": "HTMLView",
       "description": "",
       "description_tooltip": null,
       "layout": "IPY_MODEL_65485b62b3134e31a03939f3d6caaf35",
       "placeholder": "​",
       "style": "IPY_MODEL_6b72365a5ad84defaca8d03dcb75ff89",
       "value": " 445M/445M [00:10&lt;00:00, 48.0MB/s]"
      }
     },
     "ac46c66cadbb495494caf64e8bdc8741": {
      "model_module": "@jupyter-widgets/controls",
      "model_module_version": "1.5.0",
      "model_name": "FloatProgressModel",
      "state": {
       "_dom_classes": [],
       "_model_module": "@jupyter-widgets/controls",
       "_model_module_version": "1.5.0",
       "_model_name": "FloatProgressModel",
       "_view_count": null,
       "_view_module": "@jupyter-widgets/controls",
       "_view_module_version": "1.5.0",
       "_view_name": "ProgressView",
       "bar_style": "success",
       "description": "",
       "description_tooltip": null,
       "layout": "IPY_MODEL_efbceedf6ed54d3a84046844d6a0eaad",
       "max": 227141.0,
       "min": 0.0,
       "orientation": "horizontal",
       "style": "IPY_MODEL_9bd5b33fcfcc4c3fa6ae48735aba5d23",
       "value": 227141.0
      }
     },
     "bd6124d85566424d831447bb3e624d63": {
      "model_module": "@jupyter-widgets/controls",
      "model_module_version": "1.5.0",
      "model_name": "HTMLModel",
      "state": {
       "_dom_classes": [],
       "_model_module": "@jupyter-widgets/controls",
       "_model_module_version": "1.5.0",
       "_model_name": "HTMLModel",
       "_view_count": null,
       "_view_module": "@jupyter-widgets/controls",
       "_view_module_version": "1.5.0",
       "_view_name": "HTMLView",
       "description": "",
       "description_tooltip": null,
       "layout": "IPY_MODEL_0db676c756524373a9df95159362986c",
       "placeholder": "​",
       "style": "IPY_MODEL_394c998ed5b84acd8b8a2d2ed0c3109b",
       "value": " 420/420 [00:00&lt;00:00, 16.0kB/s]"
      }
     },
     "c90f42d8751542ddbdd61587c0b83a3b": {
      "model_module": "@jupyter-widgets/base",
      "model_module_version": "1.2.0",
      "model_name": "LayoutModel",
      "state": {
       "_model_module": "@jupyter-widgets/base",
       "_model_module_version": "1.2.0",
       "_model_name": "LayoutModel",
       "_view_count": null,
       "_view_module": "@jupyter-widgets/base",
       "_view_module_version": "1.2.0",
       "_view_name": "LayoutView",
       "align_content": null,
       "align_items": null,
       "align_self": null,
       "border": null,
       "bottom": null,
       "display": null,
       "flex": null,
       "flex_flow": null,
       "grid_area": null,
       "grid_auto_columns": null,
       "grid_auto_flow": null,
       "grid_auto_rows": null,
       "grid_column": null,
       "grid_gap": null,
       "grid_row": null,
       "grid_template_areas": null,
       "grid_template_columns": null,
       "grid_template_rows": null,
       "height": null,
       "justify_content": null,
       "justify_items": null,
       "left": null,
       "margin": null,
       "max_height": null,
       "max_width": null,
       "min_height": null,
       "min_width": null,
       "object_fit": null,
       "object_position": null,
       "order": null,
       "overflow": null,
       "overflow_x": null,
       "overflow_y": null,
       "padding": null,
       "right": null,
       "top": null,
       "visibility": null,
       "width": null
      }
     },
     "cdc2952e95154c9ca0de5ee7687ddd9b": {
      "model_module": "@jupyter-widgets/controls",
      "model_module_version": "1.5.0",
      "model_name": "FloatProgressModel",
      "state": {
       "_dom_classes": [],
       "_model_module": "@jupyter-widgets/controls",
       "_model_module_version": "1.5.0",
       "_model_name": "FloatProgressModel",
       "_view_count": null,
       "_view_module": "@jupyter-widgets/controls",
       "_view_module_version": "1.5.0",
       "_view_name": "ProgressView",
       "bar_style": "success",
       "description": "",
       "description_tooltip": null,
       "layout": "IPY_MODEL_c90f42d8751542ddbdd61587c0b83a3b",
       "max": 445018784.0,
       "min": 0.0,
       "orientation": "horizontal",
       "style": "IPY_MODEL_5d49a1a20cb547e89ca57edca7d2596f",
       "value": 445018784.0
      }
     },
     "de64abf0929447b7a6ad1afd196378c5": {
      "model_module": "@jupyter-widgets/controls",
      "model_module_version": "1.5.0",
      "model_name": "HBoxModel",
      "state": {
       "_dom_classes": [],
       "_model_module": "@jupyter-widgets/controls",
       "_model_module_version": "1.5.0",
       "_model_name": "HBoxModel",
       "_view_count": null,
       "_view_module": "@jupyter-widgets/controls",
       "_view_module_version": "1.5.0",
       "_view_name": "HBoxView",
       "box_style": "",
       "children": [
        "IPY_MODEL_8b12b1d4adfd4cb3825f149e1f84d940",
        "IPY_MODEL_cdc2952e95154c9ca0de5ee7687ddd9b",
        "IPY_MODEL_9f9639e6107d4941a5e1f8e465c27e6b"
       ],
       "layout": "IPY_MODEL_e9e841b6bd98466a8bcfc110ec50584c"
      }
     },
     "dfd026cb91554956bd3879bdb3e89f33": {
      "model_module": "@jupyter-widgets/base",
      "model_module_version": "1.2.0",
      "model_name": "LayoutModel",
      "state": {
       "_model_module": "@jupyter-widgets/base",
       "_model_module_version": "1.2.0",
       "_model_name": "LayoutModel",
       "_view_count": null,
       "_view_module": "@jupyter-widgets/base",
       "_view_module_version": "1.2.0",
       "_view_name": "LayoutView",
       "align_content": null,
       "align_items": null,
       "align_self": null,
       "border": null,
       "bottom": null,
       "display": null,
       "flex": null,
       "flex_flow": null,
       "grid_area": null,
       "grid_auto_columns": null,
       "grid_auto_flow": null,
       "grid_auto_rows": null,
       "grid_column": null,
       "grid_gap": null,
       "grid_row": null,
       "grid_template_areas": null,
       "grid_template_columns": null,
       "grid_template_rows": null,
       "height": null,
       "justify_content": null,
       "justify_items": null,
       "left": null,
       "margin": null,
       "max_height": null,
       "max_width": null,
       "min_height": null,
       "min_width": null,
       "object_fit": null,
       "object_position": null,
       "order": null,
       "overflow": null,
       "overflow_x": null,
       "overflow_y": null,
       "padding": null,
       "right": null,
       "top": null,
       "visibility": null,
       "width": null
      }
     },
     "e585a72d130647bf83e84b7d7a0f2dec": {
      "model_module": "@jupyter-widgets/controls",
      "model_module_version": "1.5.0",
      "model_name": "ProgressStyleModel",
      "state": {
       "_model_module": "@jupyter-widgets/controls",
       "_model_module_version": "1.5.0",
       "_model_name": "ProgressStyleModel",
       "_view_count": null,
       "_view_module": "@jupyter-widgets/base",
       "_view_module_version": "1.2.0",
       "_view_name": "StyleView",
       "bar_color": null,
       "description_width": ""
      }
     },
     "e9e841b6bd98466a8bcfc110ec50584c": {
      "model_module": "@jupyter-widgets/base",
      "model_module_version": "1.2.0",
      "model_name": "LayoutModel",
      "state": {
       "_model_module": "@jupyter-widgets/base",
       "_model_module_version": "1.2.0",
       "_model_name": "LayoutModel",
       "_view_count": null,
       "_view_module": "@jupyter-widgets/base",
       "_view_module_version": "1.2.0",
       "_view_name": "LayoutView",
       "align_content": null,
       "align_items": null,
       "align_self": null,
       "border": null,
       "bottom": null,
       "display": null,
       "flex": null,
       "flex_flow": null,
       "grid_area": null,
       "grid_auto_columns": null,
       "grid_auto_flow": null,
       "grid_auto_rows": null,
       "grid_column": null,
       "grid_gap": null,
       "grid_row": null,
       "grid_template_areas": null,
       "grid_template_columns": null,
       "grid_template_rows": null,
       "height": null,
       "justify_content": null,
       "justify_items": null,
       "left": null,
       "margin": null,
       "max_height": null,
       "max_width": null,
       "min_height": null,
       "min_width": null,
       "object_fit": null,
       "object_position": null,
       "order": null,
       "overflow": null,
       "overflow_x": null,
       "overflow_y": null,
       "padding": null,
       "right": null,
       "top": null,
       "visibility": null,
       "width": null
      }
     },
     "ea1deaba58fd4d6f868ac75eed484c2d": {
      "model_module": "@jupyter-widgets/controls",
      "model_module_version": "1.5.0",
      "model_name": "DescriptionStyleModel",
      "state": {
       "_model_module": "@jupyter-widgets/controls",
       "_model_module_version": "1.5.0",
       "_model_name": "DescriptionStyleModel",
       "_view_count": null,
       "_view_module": "@jupyter-widgets/base",
       "_view_module_version": "1.2.0",
       "_view_name": "StyleView",
       "description_width": ""
      }
     },
     "ea493c0292fc4423bfb48a79a7fef015": {
      "model_module": "@jupyter-widgets/controls",
      "model_module_version": "1.5.0",
      "model_name": "DescriptionStyleModel",
      "state": {
       "_model_module": "@jupyter-widgets/controls",
       "_model_module_version": "1.5.0",
       "_model_name": "DescriptionStyleModel",
       "_view_count": null,
       "_view_module": "@jupyter-widgets/base",
       "_view_module_version": "1.2.0",
       "_view_name": "StyleView",
       "description_width": ""
      }
     },
     "ee948daeb452430088d6df0201e58002": {
      "model_module": "@jupyter-widgets/controls",
      "model_module_version": "1.5.0",
      "model_name": "HTMLModel",
      "state": {
       "_dom_classes": [],
       "_model_module": "@jupyter-widgets/controls",
       "_model_module_version": "1.5.0",
       "_model_name": "HTMLModel",
       "_view_count": null,
       "_view_module": "@jupyter-widgets/controls",
       "_view_module_version": "1.5.0",
       "_view_name": "HTMLView",
       "description": "",
       "description_tooltip": null,
       "layout": "IPY_MODEL_0b0f20a2fe6544f8b5ce7d7d95516ee7",
       "placeholder": "​",
       "style": "IPY_MODEL_ea1deaba58fd4d6f868ac75eed484c2d",
       "value": " 227k/227k [00:00&lt;00:00, 809kB/s]"
      }
     },
     "efbceedf6ed54d3a84046844d6a0eaad": {
      "model_module": "@jupyter-widgets/base",
      "model_module_version": "1.2.0",
      "model_name": "LayoutModel",
      "state": {
       "_model_module": "@jupyter-widgets/base",
       "_model_module_version": "1.2.0",
       "_model_name": "LayoutModel",
       "_view_count": null,
       "_view_module": "@jupyter-widgets/base",
       "_view_module_version": "1.2.0",
       "_view_name": "LayoutView",
       "align_content": null,
       "align_items": null,
       "align_self": null,
       "border": null,
       "bottom": null,
       "display": null,
       "flex": null,
       "flex_flow": null,
       "grid_area": null,
       "grid_auto_columns": null,
       "grid_auto_flow": null,
       "grid_auto_rows": null,
       "grid_column": null,
       "grid_gap": null,
       "grid_row": null,
       "grid_template_areas": null,
       "grid_template_columns": null,
       "grid_template_rows": null,
       "height": null,
       "justify_content": null,
       "justify_items": null,
       "left": null,
       "margin": null,
       "max_height": null,
       "max_width": null,
       "min_height": null,
       "min_width": null,
       "object_fit": null,
       "object_position": null,
       "order": null,
       "overflow": null,
       "overflow_x": null,
       "overflow_y": null,
       "padding": null,
       "right": null,
       "top": null,
       "visibility": null,
       "width": null
      }
     },
     "f050db4d20f24e3e87beda337ccfdc08": {
      "model_module": "@jupyter-widgets/base",
      "model_module_version": "1.2.0",
      "model_name": "LayoutModel",
      "state": {
       "_model_module": "@jupyter-widgets/base",
       "_model_module_version": "1.2.0",
       "_model_name": "LayoutModel",
       "_view_count": null,
       "_view_module": "@jupyter-widgets/base",
       "_view_module_version": "1.2.0",
       "_view_name": "LayoutView",
       "align_content": null,
       "align_items": null,
       "align_self": null,
       "border": null,
       "bottom": null,
       "display": null,
       "flex": null,
       "flex_flow": null,
       "grid_area": null,
       "grid_auto_columns": null,
       "grid_auto_flow": null,
       "grid_auto_rows": null,
       "grid_column": null,
       "grid_gap": null,
       "grid_row": null,
       "grid_template_areas": null,
       "grid_template_columns": null,
       "grid_template_rows": null,
       "height": null,
       "justify_content": null,
       "justify_items": null,
       "left": null,
       "margin": null,
       "max_height": null,
       "max_width": null,
       "min_height": null,
       "min_width": null,
       "object_fit": null,
       "object_position": null,
       "order": null,
       "overflow": null,
       "overflow_x": null,
       "overflow_y": null,
       "padding": null,
       "right": null,
       "top": null,
       "visibility": null,
       "width": null
      }
     },
     "f0c3e3970081498a9579a2609654c8fc": {
      "model_module": "@jupyter-widgets/controls",
      "model_module_version": "1.5.0",
      "model_name": "DescriptionStyleModel",
      "state": {
       "_model_module": "@jupyter-widgets/controls",
       "_model_module_version": "1.5.0",
       "_model_name": "DescriptionStyleModel",
       "_view_count": null,
       "_view_module": "@jupyter-widgets/base",
       "_view_module_version": "1.2.0",
       "_view_name": "StyleView",
       "description_width": ""
      }
     },
     "fa75c5f128514076835f93696878d34a": {
      "model_module": "@jupyter-widgets/controls",
      "model_module_version": "1.5.0",
      "model_name": "HTMLModel",
      "state": {
       "_dom_classes": [],
       "_model_module": "@jupyter-widgets/controls",
       "_model_module_version": "1.5.0",
       "_model_name": "HTMLModel",
       "_view_count": null,
       "_view_module": "@jupyter-widgets/controls",
       "_view_module_version": "1.5.0",
       "_view_name": "HTMLView",
       "description": "",
       "description_tooltip": null,
       "layout": "IPY_MODEL_1e170ee7633e44b7bf119241e26579e3",
       "placeholder": "​",
       "style": "IPY_MODEL_ea493c0292fc4423bfb48a79a7fef015",
       "value": "Downloading: 100%"
      }
     },
     "fce5f4c048ad4e13a8b68422ef9f9890": {
      "model_module": "@jupyter-widgets/base",
      "model_module_version": "1.2.0",
      "model_name": "LayoutModel",
      "state": {
       "_model_module": "@jupyter-widgets/base",
       "_model_module_version": "1.2.0",
       "_model_name": "LayoutModel",
       "_view_count": null,
       "_view_module": "@jupyter-widgets/base",
       "_view_module_version": "1.2.0",
       "_view_name": "LayoutView",
       "align_content": null,
       "align_items": null,
       "align_self": null,
       "border": null,
       "bottom": null,
       "display": null,
       "flex": null,
       "flex_flow": null,
       "grid_area": null,
       "grid_auto_columns": null,
       "grid_auto_flow": null,
       "grid_auto_rows": null,
       "grid_column": null,
       "grid_gap": null,
       "grid_row": null,
       "grid_template_areas": null,
       "grid_template_columns": null,
       "grid_template_rows": null,
       "height": null,
       "justify_content": null,
       "justify_items": null,
       "left": null,
       "margin": null,
       "max_height": null,
       "max_width": null,
       "min_height": null,
       "min_width": null,
       "object_fit": null,
       "object_position": null,
       "order": null,
       "overflow": null,
       "overflow_x": null,
       "overflow_y": null,
       "padding": null,
       "right": null,
       "top": null,
       "visibility": null,
       "width": null
      }
     }
    },
    "version_major": 2,
    "version_minor": 0
   }
  }
 },
 "nbformat": 4,
 "nbformat_minor": 5
}
