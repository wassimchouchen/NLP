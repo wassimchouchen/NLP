{
 "cells": [
  {
   "cell_type": "code",
   "execution_count": 1,
   "id": "433ddfcc",
   "metadata": {
    "_cell_guid": "b1076dfc-b9ad-4769-8c92-a6c4dae69d19",
    "_uuid": "8f2839f25d086af736a60e9eeb907d3b93b6e0e5",
    "execution": {
     "iopub.execute_input": "2022-06-30T19:04:53.681668Z",
     "iopub.status.busy": "2022-06-30T19:04:53.680193Z",
     "iopub.status.idle": "2022-06-30T19:05:01.285689Z",
     "shell.execute_reply": "2022-06-30T19:05:01.285094Z",
     "shell.execute_reply.started": "2022-06-30T19:00:55.000653Z"
    },
    "papermill": {
     "duration": 7.63373,
     "end_time": "2022-06-30T19:05:01.285847",
     "exception": false,
     "start_time": "2022-06-30T19:04:53.652117",
     "status": "completed"
    },
    "tags": []
   },
   "outputs": [],
   "source": [
    "import os\n",
    "\n",
    "import random\n",
    "import numpy as np\n",
    "\n",
    "import pandas as pd\n",
    "import torch\n",
    "from torch.utils.data import Dataset, random_split\n",
    "from transformers import (\n",
    "    AdamW,\n",
    "    Trainer,\n",
    "    TrainingArguments,\n",
    "    AutoTokenizer,\n",
    "    AutoModelForSequenceClassification,\n",
    "    get_cosine_schedule_with_warmup,\n",
    ")\n",
    "from sklearn.preprocessing import LabelEncoder\n",
    "from sklearn.metrics import accuracy_score"
   ]
  },
  {
   "cell_type": "code",
   "execution_count": 2,
   "id": "9086f07f",
   "metadata": {
    "execution": {
     "iopub.execute_input": "2022-06-30T19:05:01.334498Z",
     "iopub.status.busy": "2022-06-30T19:05:01.333681Z",
     "iopub.status.idle": "2022-06-30T19:05:06.440645Z",
     "shell.execute_reply": "2022-06-30T19:05:06.439911Z",
     "shell.execute_reply.started": "2022-06-30T19:00:55.119469Z"
    },
    "papermill": {
     "duration": 5.132606,
     "end_time": "2022-06-30T19:05:06.440833",
     "exception": false,
     "start_time": "2022-06-30T19:05:01.308227",
     "status": "completed"
    },
    "tags": []
   },
   "outputs": [
    {
     "data": {
      "application/vnd.jupyter.widget-view+json": {
       "model_id": "8aff1485132e4f8095498ed3a6cdfff9",
       "version_major": 2,
       "version_minor": 0
      },
      "text/plain": [
       "Downloading:   0%|          | 0.00/1.59k [00:00<?, ?B/s]"
      ]
     },
     "metadata": {},
     "output_type": "display_data"
    },
    {
     "data": {
      "application/vnd.jupyter.widget-view+json": {
       "model_id": "c07afe3f5f1442a688bf1eb4e3f7b11d",
       "version_major": 2,
       "version_minor": 0
      },
      "text/plain": [
       "Downloading:   0%|          | 0.00/1.32M [00:00<?, ?B/s]"
      ]
     },
     "metadata": {},
     "output_type": "display_data"
    },
    {
     "data": {
      "application/vnd.jupyter.widget-view+json": {
       "model_id": "8706d27a9f184fcb90558696755bc0fb",
       "version_major": 2,
       "version_minor": 0
      },
      "text/plain": [
       "Downloading:   0%|          | 0.00/598k [00:00<?, ?B/s]"
      ]
     },
     "metadata": {},
     "output_type": "display_data"
    },
    {
     "data": {
      "application/vnd.jupyter.widget-view+json": {
       "model_id": "e52d5afe5bc141cc8759b310b37d0a57",
       "version_major": 2,
       "version_minor": 0
      },
      "text/plain": [
       "Downloading:   0%|          | 0.00/305 [00:00<?, ?B/s]"
      ]
     },
     "metadata": {},
     "output_type": "display_data"
    },
    {
     "data": {
      "application/vnd.jupyter.widget-view+json": {
       "model_id": "afa5f0e7876f4d70a8982939179efd02",
       "version_major": 2,
       "version_minor": 0
      },
      "text/plain": [
       "Downloading:   0%|          | 0.00/582 [00:00<?, ?B/s]"
      ]
     },
     "metadata": {},
     "output_type": "display_data"
    }
   ],
   "source": [
    "model_name = \"inokufu/flaubert-base-uncased-xnli-sts-finetuned-education\"\n",
    "\n",
    "tokenizer = AutoTokenizer.from_pretrained(model_name)\n",
    "\n",
    "device = torch.device(\"cuda\" if torch.cuda.is_available() else \"cpu\")"
   ]
  },
  {
   "cell_type": "code",
   "execution_count": 3,
   "id": "19d12f35",
   "metadata": {
    "execution": {
     "iopub.execute_input": "2022-06-30T19:05:06.531859Z",
     "iopub.status.busy": "2022-06-30T19:05:06.530497Z",
     "iopub.status.idle": "2022-06-30T19:05:06.533419Z",
     "shell.execute_reply": "2022-06-30T19:05:06.532741Z",
     "shell.execute_reply.started": "2022-06-30T19:00:57.695906Z"
    },
    "papermill": {
     "duration": 0.049316,
     "end_time": "2022-06-30T19:05:06.533563",
     "exception": false,
     "start_time": "2022-06-30T19:05:06.484247",
     "status": "completed"
    },
    "tags": []
   },
   "outputs": [],
   "source": [
    "lr = 2e-5\n",
    "epochs =  6\n",
    "batch_size = 5\n",
    "max_seq_len = 75\n",
    "\n",
    "test_frac = 0.1"
   ]
  },
  {
   "cell_type": "code",
   "execution_count": 4,
   "id": "b06a92ef",
   "metadata": {
    "execution": {
     "iopub.execute_input": "2022-06-30T19:05:06.624811Z",
     "iopub.status.busy": "2022-06-30T19:05:06.620684Z",
     "iopub.status.idle": "2022-06-30T19:05:06.629085Z",
     "shell.execute_reply": "2022-06-30T19:05:06.628401Z",
     "shell.execute_reply.started": "2022-06-30T19:00:57.705529Z"
    },
    "papermill": {
     "duration": 0.054823,
     "end_time": "2022-06-30T19:05:06.629219",
     "exception": false,
     "start_time": "2022-06-30T19:05:06.574396",
     "status": "completed"
    },
    "tags": []
   },
   "outputs": [],
   "source": [
    "import os\n",
    "\n",
    "def set_seed(seed=106052):\n",
    "    \"\"\"Set seed for reproducibility.\n",
    "    \"\"\"\n",
    "    random.seed(seed)\n",
    "    np.random.seed(seed)\n",
    "    torch.manual_seed(seed)\n",
    "    torch.cuda.manual_seed_all(seed)\n",
    "    \n",
    "    os.environ['PYTHONHASHSEED'] = str(seed)\n",
    "    \n",
    "set_seed()"
   ]
  },
  {
   "cell_type": "code",
   "execution_count": 5,
   "id": "2e5db785",
   "metadata": {
    "execution": {
     "iopub.execute_input": "2022-06-30T19:05:06.689728Z",
     "iopub.status.busy": "2022-06-30T19:05:06.689196Z",
     "iopub.status.idle": "2022-06-30T19:05:06.692291Z",
     "shell.execute_reply": "2022-06-30T19:05:06.692680Z",
     "shell.execute_reply.started": "2022-06-30T19:00:57.720043Z"
    },
    "papermill": {
     "duration": 0.034296,
     "end_time": "2022-06-30T19:05:06.692809",
     "exception": false,
     "start_time": "2022-06-30T19:05:06.658513",
     "status": "completed"
    },
    "tags": []
   },
   "outputs": [],
   "source": [
    "class CEFRDataset(Dataset):\n",
    "    \"\"\"Classification dataset, built on top of pytorch dataset object\n",
    "    \"\"\"\n",
    "    \n",
    "    def __init__(self, texts, labels):\n",
    "        \n",
    "        self.encoder = LabelEncoder()\n",
    "        print(self.encoder.__dict__)\n",
    "        self.texts = texts\n",
    "        self.labels = self.encoder.fit_transform(labels)\n",
    "\n",
    "    def __len__(self):\n",
    "        return len(self.texts)\n",
    "\n",
    "    def __getitem__(self, index):\n",
    "        text = self.texts[index]\n",
    "        label = self.labels[index]\n",
    "        encoded_text = tokenizer(\n",
    "            text,\n",
    "            padding=\"max_length\",\n",
    "            max_length=max_seq_len,\n",
    "            truncation=True,\n",
    "            return_tensors=\"pt\",\n",
    "        )\n",
    "        encoded_text[\"input_ids\"] = encoded_text[\"input_ids\"].squeeze()\n",
    "        encoded_text[\"attention_mask\"] = encoded_text[\"attention_mask\"].squeeze()\n",
    "        label = torch.tensor(label)\n",
    "\n",
    "        return {\n",
    "            \"input_ids\": encoded_text[\"input_ids\"],\n",
    "            \"attention_mask\": encoded_text[\"attention_mask\"],\n",
    "            \"labels\": label,\n",
    "        }\n",
    "\n",
    "    def get_labels(self):\n",
    "        return self.labels"
   ]
  },
  {
   "cell_type": "code",
   "execution_count": 6,
   "id": "fbfdf666",
   "metadata": {
    "execution": {
     "iopub.execute_input": "2022-06-30T19:05:06.746776Z",
     "iopub.status.busy": "2022-06-30T19:05:06.745178Z",
     "iopub.status.idle": "2022-06-30T19:05:06.747439Z",
     "shell.execute_reply": "2022-06-30T19:05:06.747863Z",
     "shell.execute_reply.started": "2022-06-30T19:00:57.733256Z"
    },
    "papermill": {
     "duration": 0.031812,
     "end_time": "2022-06-30T19:05:06.748009",
     "exception": false,
     "start_time": "2022-06-30T19:05:06.716197",
     "status": "completed"
    },
    "tags": []
   },
   "outputs": [],
   "source": [
    "def train(train_set, valid_set, epochs=10, warmup_size=0.1, lr=1e-3, batch_size=16):\n",
    "    model = get_model(model_name)\n",
    "    optim = AdamW(model.parameters(), lr=lr)\n",
    "    scheduler = get_scheduler(\n",
    "        optim, warmup_size, round(len(train_set) / batch_size * epochs)\n",
    "    )\n",
    "    training_args = get_training_args(epochs, batch_size)\n",
    "    trainer = Trainer(\n",
    "        model=model,\n",
    "        args=training_args,\n",
    "        train_dataset=train_set,\n",
    "        eval_dataset=valid_set,\n",
    "        optimizers=[optim, scheduler],\n",
    "        compute_metrics=compute_accuracy,\n",
    "    )\n",
    "    trainer.train()\n",
    "    trainer.save_model()\n",
    "    return trainer"
   ]
  },
  {
   "cell_type": "code",
   "execution_count": 7,
   "id": "389ac105",
   "metadata": {
    "execution": {
     "iopub.execute_input": "2022-06-30T19:05:06.799932Z",
     "iopub.status.busy": "2022-06-30T19:05:06.798380Z",
     "iopub.status.idle": "2022-06-30T19:05:06.800544Z",
     "shell.execute_reply": "2022-06-30T19:05:06.800967Z",
     "shell.execute_reply.started": "2022-06-30T19:00:57.750745Z"
    },
    "papermill": {
     "duration": 0.029971,
     "end_time": "2022-06-30T19:05:06.801097",
     "exception": false,
     "start_time": "2022-06-30T19:05:06.771126",
     "status": "completed"
    },
    "tags": []
   },
   "outputs": [],
   "source": [
    "def get_model(pretrained_checkpoint):\n",
    "    model = AutoModelForSequenceClassification.from_pretrained(\n",
    "        pretrained_checkpoint, num_labels=6\n",
    "    )\n",
    "    return model.to(device)"
   ]
  },
  {
   "cell_type": "code",
   "execution_count": 8,
   "id": "cf2d7cd4",
   "metadata": {
    "execution": {
     "iopub.execute_input": "2022-06-30T19:05:06.854742Z",
     "iopub.status.busy": "2022-06-30T19:05:06.854076Z",
     "iopub.status.idle": "2022-06-30T19:05:06.856701Z",
     "shell.execute_reply": "2022-06-30T19:05:06.856265Z",
     "shell.execute_reply.started": "2022-06-30T19:00:57.762131Z"
    },
    "papermill": {
     "duration": 0.032029,
     "end_time": "2022-06-30T19:05:06.856799",
     "exception": false,
     "start_time": "2022-06-30T19:05:06.824770",
     "status": "completed"
    },
    "tags": []
   },
   "outputs": [],
   "source": [
    "os.environ[\"WANDB_DISABLED\"] = \"true\"\n",
    "\n",
    "\n",
    "def get_scheduler(optimizer, warmup_size, total_steps):\n",
    "    scheduler = get_cosine_schedule_with_warmup(\n",
    "        optimizer,\n",
    "        num_warmup_steps=round(total_steps * warmup_size),\n",
    "        num_training_steps=total_steps,\n",
    "    )\n",
    "    return scheduler\n",
    "\n",
    "\n",
    "def get_training_args(epochs, batch_size):\n",
    "    return TrainingArguments(\n",
    "        output_dir=\"./b\",\n",
    "        num_train_epochs=epochs,\n",
    "        per_device_train_batch_size=batch_size,\n",
    "        logging_steps=50,\n",
    "        fp16=False,\n",
    "        evaluation_strategy=\"epoch\",\n",
    "        eval_accumulation_steps=1,\n",
    "        report_to=None,\n",
    "        save_total_limit=1,\n",
    "        load_best_model_at_end=True\n",
    "    )\n",
    "\n",
    "\n",
    "def compute_accuracy(pred):\n",
    "    labels = pred.label_ids\n",
    "    preds = pred.predictions.argmax(-1)\n",
    "    acc = accuracy_score(labels, preds)\n",
    "    return {\"accuracy\": acc}\n",
    "\n"
   ]
  },
  {
   "cell_type": "code",
   "execution_count": 9,
   "id": "a0274a8b",
   "metadata": {
    "execution": {
     "iopub.execute_input": "2022-06-30T19:05:06.907190Z",
     "iopub.status.busy": "2022-06-30T19:05:06.906504Z",
     "iopub.status.idle": "2022-06-30T19:05:06.909018Z",
     "shell.execute_reply": "2022-06-30T19:05:06.908596Z",
     "shell.execute_reply.started": "2022-06-30T19:00:57.778207Z"
    },
    "papermill": {
     "duration": 0.028936,
     "end_time": "2022-06-30T19:05:06.909120",
     "exception": false,
     "start_time": "2022-06-30T19:05:06.880184",
     "status": "completed"
    },
    "tags": []
   },
   "outputs": [],
   "source": [
    "lr = 2e-5\n",
    "epochs =  7\n",
    "batch_size = 8\n",
    "max_seq_len = 512"
   ]
  },
  {
   "cell_type": "code",
   "execution_count": 10,
   "id": "f53ce33e",
   "metadata": {
    "execution": {
     "iopub.execute_input": "2022-06-30T19:05:06.959543Z",
     "iopub.status.busy": "2022-06-30T19:05:06.958766Z",
     "iopub.status.idle": "2022-06-30T19:05:06.964273Z",
     "shell.execute_reply": "2022-06-30T19:05:06.964690Z",
     "shell.execute_reply.started": "2022-06-30T19:00:57.787363Z"
    },
    "papermill": {
     "duration": 0.031921,
     "end_time": "2022-06-30T19:05:06.964803",
     "exception": false,
     "start_time": "2022-06-30T19:05:06.932882",
     "status": "completed"
    },
    "tags": []
   },
   "outputs": [],
   "source": [
    "def split_valid(df, frac=0.15):\n",
    "    \n",
    "    val = pd.DataFrame()\n",
    "    val[\"text\"] = \"\"\n",
    "    val[\"label\"] = -1\n",
    "    \n",
    "    for i in df.label.unique():\n",
    "        val = pd.concat([val, df[df.label == i].sample(frac=frac)])\n",
    "        \n",
    "    return df[~df.index.isin(val.index)].reset_index(drop=True) , val.reset_index(drop=True)"
   ]
  },
  {
   "cell_type": "code",
   "execution_count": 11,
   "id": "4f6ddad3",
   "metadata": {
    "execution": {
     "iopub.execute_input": "2022-06-30T19:05:07.018168Z",
     "iopub.status.busy": "2022-06-30T19:05:07.017614Z",
     "iopub.status.idle": "2022-06-30T19:05:07.068611Z",
     "shell.execute_reply": "2022-06-30T19:05:07.068152Z",
     "shell.execute_reply.started": "2022-06-30T19:00:57.799172Z"
    },
    "papermill": {
     "duration": 0.080909,
     "end_time": "2022-06-30T19:05:07.068717",
     "exception": false,
     "start_time": "2022-06-30T19:05:06.987808",
     "status": "completed"
    },
    "tags": []
   },
   "outputs": [],
   "source": [
    "from sklearn import preprocessing\n",
    "le = preprocessing.LabelEncoder()\n",
    "\n",
    "\n",
    "train_set_df = pd.read_csv(\"../input/frenchcefr/french dataset.csv\")\n",
    "train_set_df = train_set_df[train_set_df.label != \"XX\"]\n",
    "train_set_df = train_set_df[[\"text\", \"label\"]]\n",
    "\n",
    "train_set_df.text = train_set_df.text.apply(lambda x: x.replace(\"\\r\", \"\").replace(\"\\n\", \" \"))\n",
    "\n",
    "extra_df = pd.read_csv(\"../input/frenchcefr/french_mike_june.csv\")\n",
    "extra_df.columns = [\"text\", \"label\", \"label_\"]\n",
    "extra_df = extra_df[[\"text\", \"label\"]]\n",
    "extra_df.text = extra_df.text.astype(str)\n",
    "#train_set_df = pd.concat([train_set_df, extra_df]).reset_index(drop=True)\n",
    "\n",
    "train_set_df, valid_set_df = split_valid(train_set_df)"
   ]
  },
  {
   "cell_type": "code",
   "execution_count": 12,
   "id": "21e877a3",
   "metadata": {
    "execution": {
     "iopub.execute_input": "2022-06-30T19:05:07.121019Z",
     "iopub.status.busy": "2022-06-30T19:05:07.120223Z",
     "iopub.status.idle": "2022-06-30T19:05:07.122608Z",
     "shell.execute_reply": "2022-06-30T19:05:07.122167Z",
     "shell.execute_reply.started": "2022-06-30T19:00:57.840504Z"
    },
    "papermill": {
     "duration": 0.030272,
     "end_time": "2022-06-30T19:05:07.122709",
     "exception": false,
     "start_time": "2022-06-30T19:05:07.092437",
     "status": "completed"
    },
    "tags": []
   },
   "outputs": [],
   "source": [
    "train_set_df.label = le.fit_transform(train_set_df.label)\n",
    "valid_set_df.label = le.transform(valid_set_df.label)"
   ]
  },
  {
   "cell_type": "code",
   "execution_count": 13,
   "id": "d275bc3f",
   "metadata": {
    "execution": {
     "iopub.execute_input": "2022-06-30T19:05:07.176291Z",
     "iopub.status.busy": "2022-06-30T19:05:07.175646Z",
     "iopub.status.idle": "2022-06-30T19:05:07.178167Z",
     "shell.execute_reply": "2022-06-30T19:05:07.178664Z",
     "shell.execute_reply.started": "2022-06-30T19:00:57.851554Z"
    },
    "papermill": {
     "duration": 0.032843,
     "end_time": "2022-06-30T19:05:07.178778",
     "exception": false,
     "start_time": "2022-06-30T19:05:07.145935",
     "status": "completed"
    },
    "tags": []
   },
   "outputs": [
    {
     "data": {
      "text/plain": [
       "6"
      ]
     },
     "execution_count": 13,
     "metadata": {},
     "output_type": "execute_result"
    }
   ],
   "source": [
    "train_set_df.label.nunique()"
   ]
  },
  {
   "cell_type": "code",
   "execution_count": 14,
   "id": "9b3bb9bb",
   "metadata": {
    "execution": {
     "iopub.execute_input": "2022-06-30T19:05:07.231303Z",
     "iopub.status.busy": "2022-06-30T19:05:07.230662Z",
     "iopub.status.idle": "2022-06-30T19:05:07.233167Z",
     "shell.execute_reply": "2022-06-30T19:05:07.233652Z",
     "shell.execute_reply.started": "2022-06-30T19:00:57.880824Z"
    },
    "papermill": {
     "duration": 0.031202,
     "end_time": "2022-06-30T19:05:07.233764",
     "exception": false,
     "start_time": "2022-06-30T19:05:07.202562",
     "status": "completed"
    },
    "tags": []
   },
   "outputs": [
    {
     "data": {
      "text/plain": [
       "6"
      ]
     },
     "execution_count": 14,
     "metadata": {},
     "output_type": "execute_result"
    }
   ],
   "source": [
    "valid_set_df.label.nunique()"
   ]
  },
  {
   "cell_type": "code",
   "execution_count": 15,
   "id": "c3aac457",
   "metadata": {
    "execution": {
     "iopub.execute_input": "2022-06-30T19:05:07.284222Z",
     "iopub.status.busy": "2022-06-30T19:05:07.283596Z",
     "iopub.status.idle": "2022-06-30T19:05:07.285780Z",
     "shell.execute_reply": "2022-06-30T19:05:07.286255Z",
     "shell.execute_reply.started": "2022-06-30T19:00:57.898672Z"
    },
    "papermill": {
     "duration": 0.029049,
     "end_time": "2022-06-30T19:05:07.286382",
     "exception": false,
     "start_time": "2022-06-30T19:05:07.257333",
     "status": "completed"
    },
    "tags": []
   },
   "outputs": [],
   "source": [
    "# train_set_df = train_set_df.sample(frac=1)"
   ]
  },
  {
   "cell_type": "code",
   "execution_count": 16,
   "id": "325d1456",
   "metadata": {
    "execution": {
     "iopub.execute_input": "2022-06-30T19:05:07.339203Z",
     "iopub.status.busy": "2022-06-30T19:05:07.338476Z",
     "iopub.status.idle": "2022-06-30T19:05:07.340811Z",
     "shell.execute_reply": "2022-06-30T19:05:07.340415Z",
     "shell.execute_reply.started": "2022-06-30T19:00:57.906768Z"
    },
    "papermill": {
     "duration": 0.030872,
     "end_time": "2022-06-30T19:05:07.340945",
     "exception": false,
     "start_time": "2022-06-30T19:05:07.310073",
     "status": "completed"
    },
    "tags": []
   },
   "outputs": [],
   "source": [
    "from tqdm import tqdm \n",
    "\n",
    "def predict(model, text):\n",
    "    \n",
    "    preds = []\n",
    "    \n",
    "    for i in tqdm(range(len(text))):\n",
    "        tokenized = tokenizer(text[i:i+1], return_tensors=\"pt\", truncation=True, max_length=512).to(\"cuda\")\n",
    "        pred = model(**tokenized)\n",
    "        preds.append(pred.logits.argmax(-1).item())\n",
    "\n",
    "    return preds"
   ]
  },
  {
   "cell_type": "code",
   "execution_count": null,
   "id": "92e92802",
   "metadata": {
    "papermill": {
     "duration": 0.023794,
     "end_time": "2022-06-30T19:05:07.389248",
     "exception": false,
     "start_time": "2022-06-30T19:05:07.365454",
     "status": "completed"
    },
    "tags": []
   },
   "outputs": [],
   "source": []
  },
  {
   "cell_type": "code",
   "execution_count": 17,
   "id": "dc960725",
   "metadata": {
    "execution": {
     "iopub.execute_input": "2022-06-30T19:05:07.444599Z",
     "iopub.status.busy": "2022-06-30T19:05:07.443542Z",
     "iopub.status.idle": "2022-06-30T19:08:37.066811Z",
     "shell.execute_reply": "2022-06-30T19:08:37.066322Z",
     "shell.execute_reply.started": "2022-06-30T19:00:57.929422Z"
    },
    "papermill": {
     "duration": 209.653628,
     "end_time": "2022-06-30T19:08:37.066974",
     "exception": false,
     "start_time": "2022-06-30T19:05:07.413346",
     "status": "completed"
    },
    "tags": []
   },
   "outputs": [
    {
     "name": "stdout",
     "output_type": "stream",
     "text": [
      "{}\n",
      "{}\n"
     ]
    },
    {
     "data": {
      "application/vnd.jupyter.widget-view+json": {
       "model_id": "954292e3cae74261949f6c6205df279d",
       "version_major": 2,
       "version_minor": 0
      },
      "text/plain": [
       "Downloading:   0%|          | 0.00/549M [00:00<?, ?B/s]"
      ]
     },
     "metadata": {},
     "output_type": "display_data"
    },
    {
     "name": "stderr",
     "output_type": "stream",
     "text": [
      "Some weights of FlaubertForSequenceClassification were not initialized from the model checkpoint at inokufu/flaubert-base-uncased-xnli-sts-finetuned-education and are newly initialized: ['position_ids', 'sequence_summary.summary.bias', 'sequence_summary.summary.weight']\n",
      "You should probably TRAIN this model on a down-stream task to be able to use it for predictions and inference.\n",
      "Using the `WAND_DISABLED` environment variable is deprecated and will be removed in v5. Use the --report_to flag to control the integrations used for logging result (for instance --report_to none).\n"
     ]
    },
    {
     "data": {
      "text/html": [
       "\n",
       "    <div>\n",
       "        <style>\n",
       "            /* Turns off some styling */\n",
       "            progress {\n",
       "                /* gets rid of default border in Firefox and Opera. */\n",
       "                border: none;\n",
       "                /* Needs to be in here for Safari polyfill so background images work as expected. */\n",
       "                background-size: auto;\n",
       "            }\n",
       "        </style>\n",
       "      \n",
       "      <progress value='238' max='238' style='width:300px; height:20px; vertical-align: middle;'></progress>\n",
       "      [238/238 02:57, Epoch 7/7]\n",
       "    </div>\n",
       "    <table border=\"1\" class=\"dataframe\">\n",
       "  <thead>\n",
       "    <tr style=\"text-align: left;\">\n",
       "      <th>Epoch</th>\n",
       "      <th>Training Loss</th>\n",
       "      <th>Validation Loss</th>\n",
       "      <th>Accuracy</th>\n",
       "      <th>Runtime</th>\n",
       "      <th>Samples Per Second</th>\n",
       "    </tr>\n",
       "  </thead>\n",
       "  <tbody>\n",
       "    <tr>\n",
       "      <td>1</td>\n",
       "      <td>No log</td>\n",
       "      <td>1.226549</td>\n",
       "      <td>0.583333</td>\n",
       "      <td>0.970200</td>\n",
       "      <td>49.472000</td>\n",
       "    </tr>\n",
       "    <tr>\n",
       "      <td>2</td>\n",
       "      <td>1.373800</td>\n",
       "      <td>0.994180</td>\n",
       "      <td>0.645833</td>\n",
       "      <td>0.955200</td>\n",
       "      <td>50.253000</td>\n",
       "    </tr>\n",
       "    <tr>\n",
       "      <td>3</td>\n",
       "      <td>0.823100</td>\n",
       "      <td>0.952385</td>\n",
       "      <td>0.666667</td>\n",
       "      <td>0.955400</td>\n",
       "      <td>50.242000</td>\n",
       "    </tr>\n",
       "    <tr>\n",
       "      <td>4</td>\n",
       "      <td>0.823100</td>\n",
       "      <td>1.065862</td>\n",
       "      <td>0.645833</td>\n",
       "      <td>0.953600</td>\n",
       "      <td>50.334000</td>\n",
       "    </tr>\n",
       "    <tr>\n",
       "      <td>5</td>\n",
       "      <td>0.311500</td>\n",
       "      <td>1.109568</td>\n",
       "      <td>0.666667</td>\n",
       "      <td>0.955700</td>\n",
       "      <td>50.222000</td>\n",
       "    </tr>\n",
       "    <tr>\n",
       "      <td>6</td>\n",
       "      <td>0.100400</td>\n",
       "      <td>1.176562</td>\n",
       "      <td>0.625000</td>\n",
       "      <td>0.955000</td>\n",
       "      <td>50.264000</td>\n",
       "    </tr>\n",
       "    <tr>\n",
       "      <td>7</td>\n",
       "      <td>0.100400</td>\n",
       "      <td>1.182543</td>\n",
       "      <td>0.645833</td>\n",
       "      <td>0.956300</td>\n",
       "      <td>50.191000</td>\n",
       "    </tr>\n",
       "  </tbody>\n",
       "</table><p>"
      ],
      "text/plain": [
       "<IPython.core.display.HTML object>"
      ]
     },
     "metadata": {},
     "output_type": "display_data"
    }
   ],
   "source": [
    "train_set = CEFRDataset(train_set_df[\"text\"], train_set_df[\"label\"])\n",
    "valid_set = CEFRDataset(valid_set_df[\"text\"], valid_set_df[\"label\"])\n",
    "\n",
    "\n",
    "trainer_second = train(train_set, valid_set, epochs=epochs, warmup_size=0.2, lr=lr, batch_size=batch_size)\n",
    "model = trainer_second.model"
   ]
  },
  {
   "cell_type": "code",
   "execution_count": 18,
   "id": "a72e1354",
   "metadata": {
    "execution": {
     "iopub.execute_input": "2022-06-30T19:08:37.127978Z",
     "iopub.status.busy": "2022-06-30T19:08:37.127089Z",
     "iopub.status.idle": "2022-06-30T19:08:37.711256Z",
     "shell.execute_reply": "2022-06-30T19:08:37.710806Z",
     "shell.execute_reply.started": "2022-06-30T19:04:32.087462Z"
    },
    "papermill": {
     "duration": 0.617406,
     "end_time": "2022-06-30T19:08:37.711391",
     "exception": false,
     "start_time": "2022-06-30T19:08:37.093985",
     "status": "completed"
    },
    "tags": []
   },
   "outputs": [
    {
     "name": "stderr",
     "output_type": "stream",
     "text": [
      "100%|██████████| 48/48 [00:00<00:00, 82.91it/s]\n"
     ]
    }
   ],
   "source": [
    "valid_set_df[\"preds\"] = train_set.encoder.inverse_transform(predict(model, valid_set_df.text.tolist()))\n",
    "valid_set_df.columns = [\"text\", \"cefr\", \"preds\"] "
   ]
  },
  {
   "cell_type": "code",
   "execution_count": 19,
   "id": "fd54b1e8",
   "metadata": {
    "execution": {
     "iopub.execute_input": "2022-06-30T19:08:37.771771Z",
     "iopub.status.busy": "2022-06-30T19:08:37.771275Z",
     "iopub.status.idle": "2022-06-30T19:08:39.713231Z",
     "shell.execute_reply": "2022-06-30T19:08:39.712731Z"
    },
    "papermill": {
     "duration": 1.973899,
     "end_time": "2022-06-30T19:08:39.713364",
     "exception": false,
     "start_time": "2022-06-30T19:08:37.739465",
     "status": "completed"
    },
    "tags": []
   },
   "outputs": [
    {
     "name": "stderr",
     "output_type": "stream",
     "text": [
      "100%|██████████| 111/111 [00:01<00:00, 57.73it/s]\n"
     ]
    }
   ],
   "source": [
    "lingua = pd.read_csv(\"../input/lingua/fr_lingua.csv\")\n",
    "lingua[\"preds\"] = train_set.encoder.inverse_transform(predict(model, lingua.text.tolist()))"
   ]
  },
  {
   "cell_type": "code",
   "execution_count": 20,
   "id": "20916ddd",
   "metadata": {
    "execution": {
     "iopub.execute_input": "2022-06-30T19:08:39.930563Z",
     "iopub.status.busy": "2022-06-30T19:08:39.928891Z",
     "iopub.status.idle": "2022-06-30T19:08:39.936673Z",
     "shell.execute_reply": "2022-06-30T19:08:39.929704Z"
    },
    "papermill": {
     "duration": 0.101893,
     "end_time": "2022-06-30T19:08:39.936873",
     "exception": false,
     "start_time": "2022-06-30T19:08:39.834980",
     "status": "completed"
    },
    "tags": []
   },
   "outputs": [
    {
     "data": {
      "text/plain": [
       "(111, 3)"
      ]
     },
     "execution_count": 20,
     "metadata": {},
     "output_type": "execute_result"
    }
   ],
   "source": [
    "lingua.shape"
   ]
  },
  {
   "cell_type": "code",
   "execution_count": 21,
   "id": "dd31d599",
   "metadata": {
    "execution": {
     "iopub.execute_input": "2022-06-30T19:08:40.081011Z",
     "iopub.status.busy": "2022-06-30T19:08:40.080349Z",
     "iopub.status.idle": "2022-06-30T19:08:40.083026Z",
     "shell.execute_reply": "2022-06-30T19:08:40.083442Z"
    },
    "papermill": {
     "duration": 0.047048,
     "end_time": "2022-06-30T19:08:40.083575",
     "exception": false,
     "start_time": "2022-06-30T19:08:40.036527",
     "status": "completed"
    },
    "tags": []
   },
   "outputs": [
    {
     "data": {
      "text/plain": [
       "B1    60\n",
       "A2    26\n",
       "A1    13\n",
       "B2    12\n",
       "Name: cefr, dtype: int64"
      ]
     },
     "execution_count": 21,
     "metadata": {},
     "output_type": "execute_result"
    }
   ],
   "source": [
    "lingua.cefr.value_counts()"
   ]
  },
  {
   "cell_type": "code",
   "execution_count": 22,
   "id": "1de80623",
   "metadata": {
    "execution": {
     "iopub.execute_input": "2022-06-30T19:08:40.155840Z",
     "iopub.status.busy": "2022-06-30T19:08:40.155343Z",
     "iopub.status.idle": "2022-06-30T19:08:40.160666Z",
     "shell.execute_reply": "2022-06-30T19:08:40.160235Z"
    },
    "papermill": {
     "duration": 0.043701,
     "end_time": "2022-06-30T19:08:40.160769",
     "exception": false,
     "start_time": "2022-06-30T19:08:40.117068",
     "status": "completed"
    },
    "tags": []
   },
   "outputs": [
    {
     "data": {
      "text/plain": [
       "array([2, 3, 5, 4, 1, 0])"
      ]
     },
     "execution_count": 22,
     "metadata": {},
     "output_type": "execute_result"
    }
   ],
   "source": [
    "lingua.preds.unique()"
   ]
  },
  {
   "cell_type": "code",
   "execution_count": 23,
   "id": "b1746ef0",
   "metadata": {
    "execution": {
     "iopub.execute_input": "2022-06-30T19:08:40.235720Z",
     "iopub.status.busy": "2022-06-30T19:08:40.235020Z",
     "iopub.status.idle": "2022-06-30T19:08:40.237988Z",
     "shell.execute_reply": "2022-06-30T19:08:40.238505Z"
    },
    "papermill": {
     "duration": 0.04358,
     "end_time": "2022-06-30T19:08:40.238631",
     "exception": false,
     "start_time": "2022-06-30T19:08:40.195051",
     "status": "completed"
    },
    "tags": []
   },
   "outputs": [
    {
     "data": {
      "text/plain": [
       "2    82\n",
       "3    13\n",
       "5    12\n",
       "4     2\n",
       "1     1\n",
       "0     1\n",
       "Name: preds, dtype: int64"
      ]
     },
     "execution_count": 23,
     "metadata": {},
     "output_type": "execute_result"
    }
   ],
   "source": [
    "lingua.preds.value_counts()"
   ]
  },
  {
   "cell_type": "code",
   "execution_count": 24,
   "id": "fd7891f6",
   "metadata": {
    "execution": {
     "iopub.execute_input": "2022-06-30T19:08:40.313099Z",
     "iopub.status.busy": "2022-06-30T19:08:40.312351Z",
     "iopub.status.idle": "2022-06-30T19:08:40.314893Z",
     "shell.execute_reply": "2022-06-30T19:08:40.314426Z"
    },
    "papermill": {
     "duration": 0.041408,
     "end_time": "2022-06-30T19:08:40.315016",
     "exception": false,
     "start_time": "2022-06-30T19:08:40.273608",
     "status": "completed"
    },
    "tags": []
   },
   "outputs": [],
   "source": [
    "def compute_average_distance(df, col_name=\"cefr\") :\n",
    "    \n",
    "    labels = [\"A1\", \"A2\", \"B1\", \"B2\", \"C1\", \"C2\"]\n",
    "    return (df[col_name].apply(lambda x: labels.index(x)) - df.preds.apply(lambda x: labels.index(x))).abs().mean()\n"
   ]
  },
  {
   "cell_type": "code",
   "execution_count": 25,
   "id": "fd443679",
   "metadata": {
    "execution": {
     "iopub.execute_input": "2022-06-30T19:08:40.387208Z",
     "iopub.status.busy": "2022-06-30T19:08:40.386428Z",
     "iopub.status.idle": "2022-06-30T19:08:40.392497Z",
     "shell.execute_reply": "2022-06-30T19:08:40.392052Z"
    },
    "papermill": {
     "duration": 0.043156,
     "end_time": "2022-06-30T19:08:40.392597",
     "exception": false,
     "start_time": "2022-06-30T19:08:40.349441",
     "status": "completed"
    },
    "tags": []
   },
   "outputs": [
    {
     "data": {
      "text/plain": [
       "2    82\n",
       "3    13\n",
       "5    12\n",
       "4     2\n",
       "1     1\n",
       "0     1\n",
       "Name: preds, dtype: int64"
      ]
     },
     "execution_count": 25,
     "metadata": {},
     "output_type": "execute_result"
    }
   ],
   "source": [
    "lingua.preds.value_counts()"
   ]
  },
  {
   "cell_type": "code",
   "execution_count": 26,
   "id": "b74aaf79",
   "metadata": {
    "execution": {
     "iopub.execute_input": "2022-06-30T19:08:40.466718Z",
     "iopub.status.busy": "2022-06-30T19:08:40.466126Z",
     "iopub.status.idle": "2022-06-30T19:08:40.468796Z",
     "shell.execute_reply": "2022-06-30T19:08:40.468404Z"
    },
    "papermill": {
     "duration": 0.04102,
     "end_time": "2022-06-30T19:08:40.468896",
     "exception": false,
     "start_time": "2022-06-30T19:08:40.427876",
     "status": "completed"
    },
    "tags": []
   },
   "outputs": [],
   "source": [
    "lingua[\"preds\"] = le.inverse_transform(lingua.preds)"
   ]
  },
  {
   "cell_type": "code",
   "execution_count": 27,
   "id": "05e1b3cd",
   "metadata": {
    "execution": {
     "iopub.execute_input": "2022-06-30T19:08:40.548538Z",
     "iopub.status.busy": "2022-06-30T19:08:40.547850Z",
     "iopub.status.idle": "2022-06-30T19:08:40.551106Z",
     "shell.execute_reply": "2022-06-30T19:08:40.551499Z"
    },
    "papermill": {
     "duration": 0.047695,
     "end_time": "2022-06-30T19:08:40.551625",
     "exception": false,
     "start_time": "2022-06-30T19:08:40.503930",
     "status": "completed"
    },
    "tags": []
   },
   "outputs": [
    {
     "name": "stdout",
     "output_type": "stream",
     "text": [
      "Distance: \n",
      "1.063063063063063\n",
      "Lingua accuracy: 0.38738738738738737\n"
     ]
    }
   ],
   "source": [
    "print(\"Distance: \")\n",
    "print(compute_average_distance(lingua, \"cefr\"))\n",
    "\n",
    "print(f\"Lingua accuracy: {(lingua['preds'] == lingua['cefr']).mean()}\")"
   ]
  },
  {
   "cell_type": "markdown",
   "id": "58f8c94f",
   "metadata": {
    "papermill": {
     "duration": 0.035354,
     "end_time": "2022-06-30T19:08:40.622704",
     "exception": false,
     "start_time": "2022-06-30T19:08:40.587350",
     "status": "completed"
    },
    "tags": []
   },
   "source": [
    "Distance: \n",
    "0.990990990990991\n",
    "Lingua accuracy: 0.40540540540540543 <br>\n",
    "2    82\n",
    "3    15\n",
    "5    10\n",
    "4     2\n",
    "0     1\n",
    "1     1 <br> \n",
    "inokufu/flaubert-base-uncased-xnli-sts-finetuned-education"
   ]
  },
  {
   "cell_type": "markdown",
   "id": "c9a3fe01",
   "metadata": {
    "papermill": {
     "duration": 0.034743,
     "end_time": "2022-06-30T19:08:40.692476",
     "exception": false,
     "start_time": "2022-06-30T19:08:40.657733",
     "status": "completed"
    },
    "tags": []
   },
   "source": [
    "****"
   ]
  },
  {
   "cell_type": "markdown",
   "id": "a545d79c",
   "metadata": {
    "papermill": {
     "duration": 0.035081,
     "end_time": "2022-06-30T19:08:40.763398",
     "exception": false,
     "start_time": "2022-06-30T19:08:40.728317",
     "status": "completed"
    },
    "tags": []
   },
   "source": [
    "\n",
    "Distance: \n",
    "0.8648648648648649\n",
    "Lingua accuracy: 0.450450450450450462 <br>\n",
    "3     7\n",
    "1     5\n",
    "5     4\n",
    "4     4\n",
    "0     1 <br> inokufu/flaubert-base-uncased-xnli-sts-finetuned-education"
   ]
  },
  {
   "cell_type": "code",
   "execution_count": null,
   "id": "2814e82e",
   "metadata": {
    "papermill": {
     "duration": 0.034859,
     "end_time": "2022-06-30T19:08:40.833888",
     "exception": false,
     "start_time": "2022-06-30T19:08:40.799029",
     "status": "completed"
    },
    "tags": []
   },
   "outputs": [],
   "source": []
  },
  {
   "cell_type": "code",
   "execution_count": null,
   "id": "088d5ae7",
   "metadata": {
    "papermill": {
     "duration": 0.034943,
     "end_time": "2022-06-30T19:08:40.904009",
     "exception": false,
     "start_time": "2022-06-30T19:08:40.869066",
     "status": "completed"
    },
    "tags": []
   },
   "outputs": [],
   "source": []
  },
  {
   "cell_type": "code",
   "execution_count": null,
   "id": "3f85a13c",
   "metadata": {
    "papermill": {
     "duration": 0.03567,
     "end_time": "2022-06-30T19:08:40.974517",
     "exception": false,
     "start_time": "2022-06-30T19:08:40.938847",
     "status": "completed"
    },
    "tags": []
   },
   "outputs": [],
   "source": []
  },
  {
   "cell_type": "code",
   "execution_count": null,
   "id": "1ed94eae",
   "metadata": {
    "papermill": {
     "duration": 0.034944,
     "end_time": "2022-06-30T19:08:41.044931",
     "exception": false,
     "start_time": "2022-06-30T19:08:41.009987",
     "status": "completed"
    },
    "tags": []
   },
   "outputs": [],
   "source": []
  }
 ],
 "metadata": {
  "kernelspec": {
   "display_name": "Python 3",
   "language": "python",
   "name": "python3"
  },
  "language_info": {
   "codemirror_mode": {
    "name": "ipython",
    "version": 3
   },
   "file_extension": ".py",
   "mimetype": "text/x-python",
   "name": "python",
   "nbconvert_exporter": "python",
   "pygments_lexer": "ipython3",
   "version": "3.7.10"
  },
  "papermill": {
   "default_parameters": {},
   "duration": 238.513313,
   "end_time": "2022-06-30T19:08:43.989757",
   "environment_variables": {},
   "exception": null,
   "input_path": "__notebook__.ipynb",
   "output_path": "__notebook__.ipynb",
   "parameters": {},
   "start_time": "2022-06-30T19:04:45.476444",
   "version": "2.3.3"
  },
  "widgets": {
   "application/vnd.jupyter.widget-state+json": {
    "state": {
     "03b89212ae894c33bdb6174fd2c17377": {
      "model_module": "@jupyter-widgets/base",
      "model_module_version": "1.2.0",
      "model_name": "LayoutModel",
      "state": {
       "_model_module": "@jupyter-widgets/base",
       "_model_module_version": "1.2.0",
       "_model_name": "LayoutModel",
       "_view_count": null,
       "_view_module": "@jupyter-widgets/base",
       "_view_module_version": "1.2.0",
       "_view_name": "LayoutView",
       "align_content": null,
       "align_items": null,
       "align_self": null,
       "border": null,
       "bottom": null,
       "display": null,
       "flex": null,
       "flex_flow": null,
       "grid_area": null,
       "grid_auto_columns": null,
       "grid_auto_flow": null,
       "grid_auto_rows": null,
       "grid_column": null,
       "grid_gap": null,
       "grid_row": null,
       "grid_template_areas": null,
       "grid_template_columns": null,
       "grid_template_rows": null,
       "height": null,
       "justify_content": null,
       "justify_items": null,
       "left": null,
       "margin": null,
       "max_height": null,
       "max_width": null,
       "min_height": null,
       "min_width": null,
       "object_fit": null,
       "object_position": null,
       "order": null,
       "overflow": null,
       "overflow_x": null,
       "overflow_y": null,
       "padding": null,
       "right": null,
       "top": null,
       "visibility": null,
       "width": null
      }
     },
     "07a91d1526684cf291fc2a9e6ee794a6": {
      "model_module": "@jupyter-widgets/controls",
      "model_module_version": "1.5.0",
      "model_name": "DescriptionStyleModel",
      "state": {
       "_model_module": "@jupyter-widgets/controls",
       "_model_module_version": "1.5.0",
       "_model_name": "DescriptionStyleModel",
       "_view_count": null,
       "_view_module": "@jupyter-widgets/base",
       "_view_module_version": "1.2.0",
       "_view_name": "StyleView",
       "description_width": ""
      }
     },
     "0c73853086934d86b56df31854b71e4a": {
      "model_module": "@jupyter-widgets/controls",
      "model_module_version": "1.5.0",
      "model_name": "ProgressStyleModel",
      "state": {
       "_model_module": "@jupyter-widgets/controls",
       "_model_module_version": "1.5.0",
       "_model_name": "ProgressStyleModel",
       "_view_count": null,
       "_view_module": "@jupyter-widgets/base",
       "_view_module_version": "1.2.0",
       "_view_name": "StyleView",
       "bar_color": null,
       "description_width": ""
      }
     },
     "117889dc340748898c58db346488b5d0": {
      "model_module": "@jupyter-widgets/base",
      "model_module_version": "1.2.0",
      "model_name": "LayoutModel",
      "state": {
       "_model_module": "@jupyter-widgets/base",
       "_model_module_version": "1.2.0",
       "_model_name": "LayoutModel",
       "_view_count": null,
       "_view_module": "@jupyter-widgets/base",
       "_view_module_version": "1.2.0",
       "_view_name": "LayoutView",
       "align_content": null,
       "align_items": null,
       "align_self": null,
       "border": null,
       "bottom": null,
       "display": null,
       "flex": null,
       "flex_flow": null,
       "grid_area": null,
       "grid_auto_columns": null,
       "grid_auto_flow": null,
       "grid_auto_rows": null,
       "grid_column": null,
       "grid_gap": null,
       "grid_row": null,
       "grid_template_areas": null,
       "grid_template_columns": null,
       "grid_template_rows": null,
       "height": null,
       "justify_content": null,
       "justify_items": null,
       "left": null,
       "margin": null,
       "max_height": null,
       "max_width": null,
       "min_height": null,
       "min_width": null,
       "object_fit": null,
       "object_position": null,
       "order": null,
       "overflow": null,
       "overflow_x": null,
       "overflow_y": null,
       "padding": null,
       "right": null,
       "top": null,
       "visibility": null,
       "width": null
      }
     },
     "13efc95f91724dc3a4dd05f865338aa2": {
      "model_module": "@jupyter-widgets/controls",
      "model_module_version": "1.5.0",
      "model_name": "DescriptionStyleModel",
      "state": {
       "_model_module": "@jupyter-widgets/controls",
       "_model_module_version": "1.5.0",
       "_model_name": "DescriptionStyleModel",
       "_view_count": null,
       "_view_module": "@jupyter-widgets/base",
       "_view_module_version": "1.2.0",
       "_view_name": "StyleView",
       "description_width": ""
      }
     },
     "1b99c6b5a138433d82073b2dd374914a": {
      "model_module": "@jupyter-widgets/controls",
      "model_module_version": "1.5.0",
      "model_name": "FloatProgressModel",
      "state": {
       "_dom_classes": [],
       "_model_module": "@jupyter-widgets/controls",
       "_model_module_version": "1.5.0",
       "_model_name": "FloatProgressModel",
       "_view_count": null,
       "_view_module": "@jupyter-widgets/controls",
       "_view_module_version": "1.5.0",
       "_view_name": "ProgressView",
       "bar_style": "success",
       "description": "",
       "description_tooltip": null,
       "layout": "IPY_MODEL_72a6a0a4364c42adb1f58296f0a1d0d1",
       "max": 597509.0,
       "min": 0.0,
       "orientation": "horizontal",
       "style": "IPY_MODEL_fa6329f66e13471eaea02ce0763be952",
       "value": 597509.0
      }
     },
     "229bfbffd76345409d79c8b23335471c": {
      "model_module": "@jupyter-widgets/controls",
      "model_module_version": "1.5.0",
      "model_name": "ProgressStyleModel",
      "state": {
       "_model_module": "@jupyter-widgets/controls",
       "_model_module_version": "1.5.0",
       "_model_name": "ProgressStyleModel",
       "_view_count": null,
       "_view_module": "@jupyter-widgets/base",
       "_view_module_version": "1.2.0",
       "_view_name": "StyleView",
       "bar_color": null,
       "description_width": ""
      }
     },
     "246990543a9e450588370d141007a32a": {
      "model_module": "@jupyter-widgets/controls",
      "model_module_version": "1.5.0",
      "model_name": "DescriptionStyleModel",
      "state": {
       "_model_module": "@jupyter-widgets/controls",
       "_model_module_version": "1.5.0",
       "_model_name": "DescriptionStyleModel",
       "_view_count": null,
       "_view_module": "@jupyter-widgets/base",
       "_view_module_version": "1.2.0",
       "_view_name": "StyleView",
       "description_width": ""
      }
     },
     "25e5c5f028614351b2994e5ea1e76927": {
      "model_module": "@jupyter-widgets/base",
      "model_module_version": "1.2.0",
      "model_name": "LayoutModel",
      "state": {
       "_model_module": "@jupyter-widgets/base",
       "_model_module_version": "1.2.0",
       "_model_name": "LayoutModel",
       "_view_count": null,
       "_view_module": "@jupyter-widgets/base",
       "_view_module_version": "1.2.0",
       "_view_name": "LayoutView",
       "align_content": null,
       "align_items": null,
       "align_self": null,
       "border": null,
       "bottom": null,
       "display": null,
       "flex": null,
       "flex_flow": null,
       "grid_area": null,
       "grid_auto_columns": null,
       "grid_auto_flow": null,
       "grid_auto_rows": null,
       "grid_column": null,
       "grid_gap": null,
       "grid_row": null,
       "grid_template_areas": null,
       "grid_template_columns": null,
       "grid_template_rows": null,
       "height": null,
       "justify_content": null,
       "justify_items": null,
       "left": null,
       "margin": null,
       "max_height": null,
       "max_width": null,
       "min_height": null,
       "min_width": null,
       "object_fit": null,
       "object_position": null,
       "order": null,
       "overflow": null,
       "overflow_x": null,
       "overflow_y": null,
       "padding": null,
       "right": null,
       "top": null,
       "visibility": null,
       "width": null
      }
     },
     "2ded635440d8436e8f0df013186547c9": {
      "model_module": "@jupyter-widgets/controls",
      "model_module_version": "1.5.0",
      "model_name": "DescriptionStyleModel",
      "state": {
       "_model_module": "@jupyter-widgets/controls",
       "_model_module_version": "1.5.0",
       "_model_name": "DescriptionStyleModel",
       "_view_count": null,
       "_view_module": "@jupyter-widgets/base",
       "_view_module_version": "1.2.0",
       "_view_name": "StyleView",
       "description_width": ""
      }
     },
     "39bcb2f614cd4b1c971a90b293b4a7db": {
      "model_module": "@jupyter-widgets/controls",
      "model_module_version": "1.5.0",
      "model_name": "FloatProgressModel",
      "state": {
       "_dom_classes": [],
       "_model_module": "@jupyter-widgets/controls",
       "_model_module_version": "1.5.0",
       "_model_name": "FloatProgressModel",
       "_view_count": null,
       "_view_module": "@jupyter-widgets/controls",
       "_view_module_version": "1.5.0",
       "_view_name": "ProgressView",
       "bar_style": "success",
       "description": "",
       "description_tooltip": null,
       "layout": "IPY_MODEL_860ac3bf66b74297abc425ff8f5d516d",
       "max": 549350969.0,
       "min": 0.0,
       "orientation": "horizontal",
       "style": "IPY_MODEL_e4d9c527bc104950b374964a7e1fc0e5",
       "value": 549350969.0
      }
     },
     "3b6530e1d8274d47ac30f5f8a3bde244": {
      "model_module": "@jupyter-widgets/controls",
      "model_module_version": "1.5.0",
      "model_name": "DescriptionStyleModel",
      "state": {
       "_model_module": "@jupyter-widgets/controls",
       "_model_module_version": "1.5.0",
       "_model_name": "DescriptionStyleModel",
       "_view_count": null,
       "_view_module": "@jupyter-widgets/base",
       "_view_module_version": "1.2.0",
       "_view_name": "StyleView",
       "description_width": ""
      }
     },
     "3daa761fc6d14b9db3f79e84f7f02c10": {
      "model_module": "@jupyter-widgets/controls",
      "model_module_version": "1.5.0",
      "model_name": "HTMLModel",
      "state": {
       "_dom_classes": [],
       "_model_module": "@jupyter-widgets/controls",
       "_model_module_version": "1.5.0",
       "_model_name": "HTMLModel",
       "_view_count": null,
       "_view_module": "@jupyter-widgets/controls",
       "_view_module_version": "1.5.0",
       "_view_name": "HTMLView",
       "description": "",
       "description_tooltip": null,
       "layout": "IPY_MODEL_5fbff77c75b24d6cb784f804735a76b7",
       "placeholder": "​",
       "style": "IPY_MODEL_c679aec0041d441989ff8479bc54ea9f",
       "value": "Downloading: 100%"
      }
     },
     "3dd0049c5c104960be813a31a8c508b0": {
      "model_module": "@jupyter-widgets/base",
      "model_module_version": "1.2.0",
      "model_name": "LayoutModel",
      "state": {
       "_model_module": "@jupyter-widgets/base",
       "_model_module_version": "1.2.0",
       "_model_name": "LayoutModel",
       "_view_count": null,
       "_view_module": "@jupyter-widgets/base",
       "_view_module_version": "1.2.0",
       "_view_name": "LayoutView",
       "align_content": null,
       "align_items": null,
       "align_self": null,
       "border": null,
       "bottom": null,
       "display": null,
       "flex": null,
       "flex_flow": null,
       "grid_area": null,
       "grid_auto_columns": null,
       "grid_auto_flow": null,
       "grid_auto_rows": null,
       "grid_column": null,
       "grid_gap": null,
       "grid_row": null,
       "grid_template_areas": null,
       "grid_template_columns": null,
       "grid_template_rows": null,
       "height": null,
       "justify_content": null,
       "justify_items": null,
       "left": null,
       "margin": null,
       "max_height": null,
       "max_width": null,
       "min_height": null,
       "min_width": null,
       "object_fit": null,
       "object_position": null,
       "order": null,
       "overflow": null,
       "overflow_x": null,
       "overflow_y": null,
       "padding": null,
       "right": null,
       "top": null,
       "visibility": null,
       "width": null
      }
     },
     "405d9e3ce45e4634b05e1cf8b2a34292": {
      "model_module": "@jupyter-widgets/controls",
      "model_module_version": "1.5.0",
      "model_name": "DescriptionStyleModel",
      "state": {
       "_model_module": "@jupyter-widgets/controls",
       "_model_module_version": "1.5.0",
       "_model_name": "DescriptionStyleModel",
       "_view_count": null,
       "_view_module": "@jupyter-widgets/base",
       "_view_module_version": "1.2.0",
       "_view_name": "StyleView",
       "description_width": ""
      }
     },
     "42baf25e388a45f4ae686a0e3aa17093": {
      "model_module": "@jupyter-widgets/controls",
      "model_module_version": "1.5.0",
      "model_name": "DescriptionStyleModel",
      "state": {
       "_model_module": "@jupyter-widgets/controls",
       "_model_module_version": "1.5.0",
       "_model_name": "DescriptionStyleModel",
       "_view_count": null,
       "_view_module": "@jupyter-widgets/base",
       "_view_module_version": "1.2.0",
       "_view_name": "StyleView",
       "description_width": ""
      }
     },
     "4519536726e9485cb15297340409da4e": {
      "model_module": "@jupyter-widgets/controls",
      "model_module_version": "1.5.0",
      "model_name": "HTMLModel",
      "state": {
       "_dom_classes": [],
       "_model_module": "@jupyter-widgets/controls",
       "_model_module_version": "1.5.0",
       "_model_name": "HTMLModel",
       "_view_count": null,
       "_view_module": "@jupyter-widgets/controls",
       "_view_module_version": "1.5.0",
       "_view_name": "HTMLView",
       "description": "",
       "description_tooltip": null,
       "layout": "IPY_MODEL_7feee9fd1edb4284bff4006038ab07fb",
       "placeholder": "​",
       "style": "IPY_MODEL_9f7de5c93785494e94739843e84342ce",
       "value": "Downloading: 100%"
      }
     },
     "495dd4873ddd49d69b02ac289bc3b5fa": {
      "model_module": "@jupyter-widgets/controls",
      "model_module_version": "1.5.0",
      "model_name": "HTMLModel",
      "state": {
       "_dom_classes": [],
       "_model_module": "@jupyter-widgets/controls",
       "_model_module_version": "1.5.0",
       "_model_name": "HTMLModel",
       "_view_count": null,
       "_view_module": "@jupyter-widgets/controls",
       "_view_module_version": "1.5.0",
       "_view_name": "HTMLView",
       "description": "",
       "description_tooltip": null,
       "layout": "IPY_MODEL_e0609b6d865c42399b57b546adf7bd0e",
       "placeholder": "​",
       "style": "IPY_MODEL_07a91d1526684cf291fc2a9e6ee794a6",
       "value": " 582/582 [00:00&lt;00:00, 23.5kB/s]"
      }
     },
     "4e8c1d0884f54619afc0d92331d65626": {
      "model_module": "@jupyter-widgets/controls",
      "model_module_version": "1.5.0",
      "model_name": "HTMLModel",
      "state": {
       "_dom_classes": [],
       "_model_module": "@jupyter-widgets/controls",
       "_model_module_version": "1.5.0",
       "_model_name": "HTMLModel",
       "_view_count": null,
       "_view_module": "@jupyter-widgets/controls",
       "_view_module_version": "1.5.0",
       "_view_name": "HTMLView",
       "description": "",
       "description_tooltip": null,
       "layout": "IPY_MODEL_f20798592a43409285b9ca7fc9ac06f3",
       "placeholder": "​",
       "style": "IPY_MODEL_246990543a9e450588370d141007a32a",
       "value": "Downloading: 100%"
      }
     },
     "52defab4d23e40f99c52bb129534191a": {
      "model_module": "@jupyter-widgets/controls",
      "model_module_version": "1.5.0",
      "model_name": "ProgressStyleModel",
      "state": {
       "_model_module": "@jupyter-widgets/controls",
       "_model_module_version": "1.5.0",
       "_model_name": "ProgressStyleModel",
       "_view_count": null,
       "_view_module": "@jupyter-widgets/base",
       "_view_module_version": "1.2.0",
       "_view_name": "StyleView",
       "bar_color": null,
       "description_width": ""
      }
     },
     "57b76faf6477448fa2f45e3187962613": {
      "model_module": "@jupyter-widgets/base",
      "model_module_version": "1.2.0",
      "model_name": "LayoutModel",
      "state": {
       "_model_module": "@jupyter-widgets/base",
       "_model_module_version": "1.2.0",
       "_model_name": "LayoutModel",
       "_view_count": null,
       "_view_module": "@jupyter-widgets/base",
       "_view_module_version": "1.2.0",
       "_view_name": "LayoutView",
       "align_content": null,
       "align_items": null,
       "align_self": null,
       "border": null,
       "bottom": null,
       "display": null,
       "flex": null,
       "flex_flow": null,
       "grid_area": null,
       "grid_auto_columns": null,
       "grid_auto_flow": null,
       "grid_auto_rows": null,
       "grid_column": null,
       "grid_gap": null,
       "grid_row": null,
       "grid_template_areas": null,
       "grid_template_columns": null,
       "grid_template_rows": null,
       "height": null,
       "justify_content": null,
       "justify_items": null,
       "left": null,
       "margin": null,
       "max_height": null,
       "max_width": null,
       "min_height": null,
       "min_width": null,
       "object_fit": null,
       "object_position": null,
       "order": null,
       "overflow": null,
       "overflow_x": null,
       "overflow_y": null,
       "padding": null,
       "right": null,
       "top": null,
       "visibility": null,
       "width": null
      }
     },
     "57c4b58bbd6a4301a8aefd84754055e8": {
      "model_module": "@jupyter-widgets/controls",
      "model_module_version": "1.5.0",
      "model_name": "HTMLModel",
      "state": {
       "_dom_classes": [],
       "_model_module": "@jupyter-widgets/controls",
       "_model_module_version": "1.5.0",
       "_model_name": "HTMLModel",
       "_view_count": null,
       "_view_module": "@jupyter-widgets/controls",
       "_view_module_version": "1.5.0",
       "_view_name": "HTMLView",
       "description": "",
       "description_tooltip": null,
       "layout": "IPY_MODEL_57b76faf6477448fa2f45e3187962613",
       "placeholder": "​",
       "style": "IPY_MODEL_f8841cfe0193460886947f225934d8f2",
       "value": "Downloading: 100%"
      }
     },
     "5baed2a9d66e496e85bd03b9fa540919": {
      "model_module": "@jupyter-widgets/base",
      "model_module_version": "1.2.0",
      "model_name": "LayoutModel",
      "state": {
       "_model_module": "@jupyter-widgets/base",
       "_model_module_version": "1.2.0",
       "_model_name": "LayoutModel",
       "_view_count": null,
       "_view_module": "@jupyter-widgets/base",
       "_view_module_version": "1.2.0",
       "_view_name": "LayoutView",
       "align_content": null,
       "align_items": null,
       "align_self": null,
       "border": null,
       "bottom": null,
       "display": null,
       "flex": null,
       "flex_flow": null,
       "grid_area": null,
       "grid_auto_columns": null,
       "grid_auto_flow": null,
       "grid_auto_rows": null,
       "grid_column": null,
       "grid_gap": null,
       "grid_row": null,
       "grid_template_areas": null,
       "grid_template_columns": null,
       "grid_template_rows": null,
       "height": null,
       "justify_content": null,
       "justify_items": null,
       "left": null,
       "margin": null,
       "max_height": null,
       "max_width": null,
       "min_height": null,
       "min_width": null,
       "object_fit": null,
       "object_position": null,
       "order": null,
       "overflow": null,
       "overflow_x": null,
       "overflow_y": null,
       "padding": null,
       "right": null,
       "top": null,
       "visibility": null,
       "width": null
      }
     },
     "5fbff77c75b24d6cb784f804735a76b7": {
      "model_module": "@jupyter-widgets/base",
      "model_module_version": "1.2.0",
      "model_name": "LayoutModel",
      "state": {
       "_model_module": "@jupyter-widgets/base",
       "_model_module_version": "1.2.0",
       "_model_name": "LayoutModel",
       "_view_count": null,
       "_view_module": "@jupyter-widgets/base",
       "_view_module_version": "1.2.0",
       "_view_name": "LayoutView",
       "align_content": null,
       "align_items": null,
       "align_self": null,
       "border": null,
       "bottom": null,
       "display": null,
       "flex": null,
       "flex_flow": null,
       "grid_area": null,
       "grid_auto_columns": null,
       "grid_auto_flow": null,
       "grid_auto_rows": null,
       "grid_column": null,
       "grid_gap": null,
       "grid_row": null,
       "grid_template_areas": null,
       "grid_template_columns": null,
       "grid_template_rows": null,
       "height": null,
       "justify_content": null,
       "justify_items": null,
       "left": null,
       "margin": null,
       "max_height": null,
       "max_width": null,
       "min_height": null,
       "min_width": null,
       "object_fit": null,
       "object_position": null,
       "order": null,
       "overflow": null,
       "overflow_x": null,
       "overflow_y": null,
       "padding": null,
       "right": null,
       "top": null,
       "visibility": null,
       "width": null
      }
     },
     "60d76c68030f41bfb99ac8d77ebec448": {
      "model_module": "@jupyter-widgets/base",
      "model_module_version": "1.2.0",
      "model_name": "LayoutModel",
      "state": {
       "_model_module": "@jupyter-widgets/base",
       "_model_module_version": "1.2.0",
       "_model_name": "LayoutModel",
       "_view_count": null,
       "_view_module": "@jupyter-widgets/base",
       "_view_module_version": "1.2.0",
       "_view_name": "LayoutView",
       "align_content": null,
       "align_items": null,
       "align_self": null,
       "border": null,
       "bottom": null,
       "display": null,
       "flex": null,
       "flex_flow": null,
       "grid_area": null,
       "grid_auto_columns": null,
       "grid_auto_flow": null,
       "grid_auto_rows": null,
       "grid_column": null,
       "grid_gap": null,
       "grid_row": null,
       "grid_template_areas": null,
       "grid_template_columns": null,
       "grid_template_rows": null,
       "height": null,
       "justify_content": null,
       "justify_items": null,
       "left": null,
       "margin": null,
       "max_height": null,
       "max_width": null,
       "min_height": null,
       "min_width": null,
       "object_fit": null,
       "object_position": null,
       "order": null,
       "overflow": null,
       "overflow_x": null,
       "overflow_y": null,
       "padding": null,
       "right": null,
       "top": null,
       "visibility": null,
       "width": null
      }
     },
     "621a52ed740c4fb6833177a505991247": {
      "model_module": "@jupyter-widgets/base",
      "model_module_version": "1.2.0",
      "model_name": "LayoutModel",
      "state": {
       "_model_module": "@jupyter-widgets/base",
       "_model_module_version": "1.2.0",
       "_model_name": "LayoutModel",
       "_view_count": null,
       "_view_module": "@jupyter-widgets/base",
       "_view_module_version": "1.2.0",
       "_view_name": "LayoutView",
       "align_content": null,
       "align_items": null,
       "align_self": null,
       "border": null,
       "bottom": null,
       "display": null,
       "flex": null,
       "flex_flow": null,
       "grid_area": null,
       "grid_auto_columns": null,
       "grid_auto_flow": null,
       "grid_auto_rows": null,
       "grid_column": null,
       "grid_gap": null,
       "grid_row": null,
       "grid_template_areas": null,
       "grid_template_columns": null,
       "grid_template_rows": null,
       "height": null,
       "justify_content": null,
       "justify_items": null,
       "left": null,
       "margin": null,
       "max_height": null,
       "max_width": null,
       "min_height": null,
       "min_width": null,
       "object_fit": null,
       "object_position": null,
       "order": null,
       "overflow": null,
       "overflow_x": null,
       "overflow_y": null,
       "padding": null,
       "right": null,
       "top": null,
       "visibility": null,
       "width": null
      }
     },
     "622199b4a792476e81d9f9dcc40398a3": {
      "model_module": "@jupyter-widgets/base",
      "model_module_version": "1.2.0",
      "model_name": "LayoutModel",
      "state": {
       "_model_module": "@jupyter-widgets/base",
       "_model_module_version": "1.2.0",
       "_model_name": "LayoutModel",
       "_view_count": null,
       "_view_module": "@jupyter-widgets/base",
       "_view_module_version": "1.2.0",
       "_view_name": "LayoutView",
       "align_content": null,
       "align_items": null,
       "align_self": null,
       "border": null,
       "bottom": null,
       "display": null,
       "flex": null,
       "flex_flow": null,
       "grid_area": null,
       "grid_auto_columns": null,
       "grid_auto_flow": null,
       "grid_auto_rows": null,
       "grid_column": null,
       "grid_gap": null,
       "grid_row": null,
       "grid_template_areas": null,
       "grid_template_columns": null,
       "grid_template_rows": null,
       "height": null,
       "justify_content": null,
       "justify_items": null,
       "left": null,
       "margin": null,
       "max_height": null,
       "max_width": null,
       "min_height": null,
       "min_width": null,
       "object_fit": null,
       "object_position": null,
       "order": null,
       "overflow": null,
       "overflow_x": null,
       "overflow_y": null,
       "padding": null,
       "right": null,
       "top": null,
       "visibility": null,
       "width": null
      }
     },
     "6ddcc45fc3d54b05b565531f93efb148": {
      "model_module": "@jupyter-widgets/controls",
      "model_module_version": "1.5.0",
      "model_name": "HTMLModel",
      "state": {
       "_dom_classes": [],
       "_model_module": "@jupyter-widgets/controls",
       "_model_module_version": "1.5.0",
       "_model_name": "HTMLModel",
       "_view_count": null,
       "_view_module": "@jupyter-widgets/controls",
       "_view_module_version": "1.5.0",
       "_view_name": "HTMLView",
       "description": "",
       "description_tooltip": null,
       "layout": "IPY_MODEL_a1e3679c58d142b29180b238a0ca3c1e",
       "placeholder": "​",
       "style": "IPY_MODEL_d81e185d329648a998797089d1055875",
       "value": " 1.32M/1.32M [00:00&lt;00:00, 1.77MB/s]"
      }
     },
     "6efbe3c0f41745148c724b67ee7588cc": {
      "model_module": "@jupyter-widgets/base",
      "model_module_version": "1.2.0",
      "model_name": "LayoutModel",
      "state": {
       "_model_module": "@jupyter-widgets/base",
       "_model_module_version": "1.2.0",
       "_model_name": "LayoutModel",
       "_view_count": null,
       "_view_module": "@jupyter-widgets/base",
       "_view_module_version": "1.2.0",
       "_view_name": "LayoutView",
       "align_content": null,
       "align_items": null,
       "align_self": null,
       "border": null,
       "bottom": null,
       "display": null,
       "flex": null,
       "flex_flow": null,
       "grid_area": null,
       "grid_auto_columns": null,
       "grid_auto_flow": null,
       "grid_auto_rows": null,
       "grid_column": null,
       "grid_gap": null,
       "grid_row": null,
       "grid_template_areas": null,
       "grid_template_columns": null,
       "grid_template_rows": null,
       "height": null,
       "justify_content": null,
       "justify_items": null,
       "left": null,
       "margin": null,
       "max_height": null,
       "max_width": null,
       "min_height": null,
       "min_width": null,
       "object_fit": null,
       "object_position": null,
       "order": null,
       "overflow": null,
       "overflow_x": null,
       "overflow_y": null,
       "padding": null,
       "right": null,
       "top": null,
       "visibility": null,
       "width": null
      }
     },
     "72a6a0a4364c42adb1f58296f0a1d0d1": {
      "model_module": "@jupyter-widgets/base",
      "model_module_version": "1.2.0",
      "model_name": "LayoutModel",
      "state": {
       "_model_module": "@jupyter-widgets/base",
       "_model_module_version": "1.2.0",
       "_model_name": "LayoutModel",
       "_view_count": null,
       "_view_module": "@jupyter-widgets/base",
       "_view_module_version": "1.2.0",
       "_view_name": "LayoutView",
       "align_content": null,
       "align_items": null,
       "align_self": null,
       "border": null,
       "bottom": null,
       "display": null,
       "flex": null,
       "flex_flow": null,
       "grid_area": null,
       "grid_auto_columns": null,
       "grid_auto_flow": null,
       "grid_auto_rows": null,
       "grid_column": null,
       "grid_gap": null,
       "grid_row": null,
       "grid_template_areas": null,
       "grid_template_columns": null,
       "grid_template_rows": null,
       "height": null,
       "justify_content": null,
       "justify_items": null,
       "left": null,
       "margin": null,
       "max_height": null,
       "max_width": null,
       "min_height": null,
       "min_width": null,
       "object_fit": null,
       "object_position": null,
       "order": null,
       "overflow": null,
       "overflow_x": null,
       "overflow_y": null,
       "padding": null,
       "right": null,
       "top": null,
       "visibility": null,
       "width": null
      }
     },
     "7b727c99ef614b6c8ed1b909c1de95fc": {
      "model_module": "@jupyter-widgets/controls",
      "model_module_version": "1.5.0",
      "model_name": "HTMLModel",
      "state": {
       "_dom_classes": [],
       "_model_module": "@jupyter-widgets/controls",
       "_model_module_version": "1.5.0",
       "_model_name": "HTMLModel",
       "_view_count": null,
       "_view_module": "@jupyter-widgets/controls",
       "_view_module_version": "1.5.0",
       "_view_name": "HTMLView",
       "description": "",
       "description_tooltip": null,
       "layout": "IPY_MODEL_b15fb57eca014e17a4077e12dbf3744b",
       "placeholder": "​",
       "style": "IPY_MODEL_42baf25e388a45f4ae686a0e3aa17093",
       "value": " 305/305 [00:00&lt;00:00, 12.7kB/s]"
      }
     },
     "7feee9fd1edb4284bff4006038ab07fb": {
      "model_module": "@jupyter-widgets/base",
      "model_module_version": "1.2.0",
      "model_name": "LayoutModel",
      "state": {
       "_model_module": "@jupyter-widgets/base",
       "_model_module_version": "1.2.0",
       "_model_name": "LayoutModel",
       "_view_count": null,
       "_view_module": "@jupyter-widgets/base",
       "_view_module_version": "1.2.0",
       "_view_name": "LayoutView",
       "align_content": null,
       "align_items": null,
       "align_self": null,
       "border": null,
       "bottom": null,
       "display": null,
       "flex": null,
       "flex_flow": null,
       "grid_area": null,
       "grid_auto_columns": null,
       "grid_auto_flow": null,
       "grid_auto_rows": null,
       "grid_column": null,
       "grid_gap": null,
       "grid_row": null,
       "grid_template_areas": null,
       "grid_template_columns": null,
       "grid_template_rows": null,
       "height": null,
       "justify_content": null,
       "justify_items": null,
       "left": null,
       "margin": null,
       "max_height": null,
       "max_width": null,
       "min_height": null,
       "min_width": null,
       "object_fit": null,
       "object_position": null,
       "order": null,
       "overflow": null,
       "overflow_x": null,
       "overflow_y": null,
       "padding": null,
       "right": null,
       "top": null,
       "visibility": null,
       "width": null
      }
     },
     "849a6823efee4112a20fb17d97fb00b9": {
      "model_module": "@jupyter-widgets/base",
      "model_module_version": "1.2.0",
      "model_name": "LayoutModel",
      "state": {
       "_model_module": "@jupyter-widgets/base",
       "_model_module_version": "1.2.0",
       "_model_name": "LayoutModel",
       "_view_count": null,
       "_view_module": "@jupyter-widgets/base",
       "_view_module_version": "1.2.0",
       "_view_name": "LayoutView",
       "align_content": null,
       "align_items": null,
       "align_self": null,
       "border": null,
       "bottom": null,
       "display": null,
       "flex": null,
       "flex_flow": null,
       "grid_area": null,
       "grid_auto_columns": null,
       "grid_auto_flow": null,
       "grid_auto_rows": null,
       "grid_column": null,
       "grid_gap": null,
       "grid_row": null,
       "grid_template_areas": null,
       "grid_template_columns": null,
       "grid_template_rows": null,
       "height": null,
       "justify_content": null,
       "justify_items": null,
       "left": null,
       "margin": null,
       "max_height": null,
       "max_width": null,
       "min_height": null,
       "min_width": null,
       "object_fit": null,
       "object_position": null,
       "order": null,
       "overflow": null,
       "overflow_x": null,
       "overflow_y": null,
       "padding": null,
       "right": null,
       "top": null,
       "visibility": null,
       "width": null
      }
     },
     "860ac3bf66b74297abc425ff8f5d516d": {
      "model_module": "@jupyter-widgets/base",
      "model_module_version": "1.2.0",
      "model_name": "LayoutModel",
      "state": {
       "_model_module": "@jupyter-widgets/base",
       "_model_module_version": "1.2.0",
       "_model_name": "LayoutModel",
       "_view_count": null,
       "_view_module": "@jupyter-widgets/base",
       "_view_module_version": "1.2.0",
       "_view_name": "LayoutView",
       "align_content": null,
       "align_items": null,
       "align_self": null,
       "border": null,
       "bottom": null,
       "display": null,
       "flex": null,
       "flex_flow": null,
       "grid_area": null,
       "grid_auto_columns": null,
       "grid_auto_flow": null,
       "grid_auto_rows": null,
       "grid_column": null,
       "grid_gap": null,
       "grid_row": null,
       "grid_template_areas": null,
       "grid_template_columns": null,
       "grid_template_rows": null,
       "height": null,
       "justify_content": null,
       "justify_items": null,
       "left": null,
       "margin": null,
       "max_height": null,
       "max_width": null,
       "min_height": null,
       "min_width": null,
       "object_fit": null,
       "object_position": null,
       "order": null,
       "overflow": null,
       "overflow_x": null,
       "overflow_y": null,
       "padding": null,
       "right": null,
       "top": null,
       "visibility": null,
       "width": null
      }
     },
     "8706d27a9f184fcb90558696755bc0fb": {
      "model_module": "@jupyter-widgets/controls",
      "model_module_version": "1.5.0",
      "model_name": "HBoxModel",
      "state": {
       "_dom_classes": [],
       "_model_module": "@jupyter-widgets/controls",
       "_model_module_version": "1.5.0",
       "_model_name": "HBoxModel",
       "_view_count": null,
       "_view_module": "@jupyter-widgets/controls",
       "_view_module_version": "1.5.0",
       "_view_name": "HBoxView",
       "box_style": "",
       "children": [
        "IPY_MODEL_4e8c1d0884f54619afc0d92331d65626",
        "IPY_MODEL_1b99c6b5a138433d82073b2dd374914a",
        "IPY_MODEL_a5dfe01f6932480484eaf85f49bd507d"
       ],
       "layout": "IPY_MODEL_25e5c5f028614351b2994e5ea1e76927"
      }
     },
     "87574531cbf14057b9b2ef869b801be8": {
      "model_module": "@jupyter-widgets/controls",
      "model_module_version": "1.5.0",
      "model_name": "DescriptionStyleModel",
      "state": {
       "_model_module": "@jupyter-widgets/controls",
       "_model_module_version": "1.5.0",
       "_model_name": "DescriptionStyleModel",
       "_view_count": null,
       "_view_module": "@jupyter-widgets/base",
       "_view_module_version": "1.2.0",
       "_view_name": "StyleView",
       "description_width": ""
      }
     },
     "8aff1485132e4f8095498ed3a6cdfff9": {
      "model_module": "@jupyter-widgets/controls",
      "model_module_version": "1.5.0",
      "model_name": "HBoxModel",
      "state": {
       "_dom_classes": [],
       "_model_module": "@jupyter-widgets/controls",
       "_model_module_version": "1.5.0",
       "_model_name": "HBoxModel",
       "_view_count": null,
       "_view_module": "@jupyter-widgets/controls",
       "_view_module_version": "1.5.0",
       "_view_name": "HBoxView",
       "box_style": "",
       "children": [
        "IPY_MODEL_d467206b9f004c54bb76707266ca1495",
        "IPY_MODEL_8b17eea69faa4fadaae4e167ea0a4527",
        "IPY_MODEL_a3da274718e245f5b5ac9f85120b9daa"
       ],
       "layout": "IPY_MODEL_6efbe3c0f41745148c724b67ee7588cc"
      }
     },
     "8b17eea69faa4fadaae4e167ea0a4527": {
      "model_module": "@jupyter-widgets/controls",
      "model_module_version": "1.5.0",
      "model_name": "FloatProgressModel",
      "state": {
       "_dom_classes": [],
       "_model_module": "@jupyter-widgets/controls",
       "_model_module_version": "1.5.0",
       "_model_name": "FloatProgressModel",
       "_view_count": null,
       "_view_module": "@jupyter-widgets/controls",
       "_view_module_version": "1.5.0",
       "_view_name": "ProgressView",
       "bar_style": "success",
       "description": "",
       "description_tooltip": null,
       "layout": "IPY_MODEL_cec7c656d29d4c659d7cb438501a5962",
       "max": 1588.0,
       "min": 0.0,
       "orientation": "horizontal",
       "style": "IPY_MODEL_dd7f043ea97943e997a38d717fd3d01b",
       "value": 1588.0
      }
     },
     "954292e3cae74261949f6c6205df279d": {
      "model_module": "@jupyter-widgets/controls",
      "model_module_version": "1.5.0",
      "model_name": "HBoxModel",
      "state": {
       "_dom_classes": [],
       "_model_module": "@jupyter-widgets/controls",
       "_model_module_version": "1.5.0",
       "_model_name": "HBoxModel",
       "_view_count": null,
       "_view_module": "@jupyter-widgets/controls",
       "_view_module_version": "1.5.0",
       "_view_name": "HBoxView",
       "box_style": "",
       "children": [
        "IPY_MODEL_af72673aed814e2690b2667360882468",
        "IPY_MODEL_39bcb2f614cd4b1c971a90b293b4a7db",
        "IPY_MODEL_c17a19eb83ea443c908860a000af8c31"
       ],
       "layout": "IPY_MODEL_f3607d862b2847a6aef79c9e73784694"
      }
     },
     "97aca57052fb4bdd8c153decbec51a73": {
      "model_module": "@jupyter-widgets/base",
      "model_module_version": "1.2.0",
      "model_name": "LayoutModel",
      "state": {
       "_model_module": "@jupyter-widgets/base",
       "_model_module_version": "1.2.0",
       "_model_name": "LayoutModel",
       "_view_count": null,
       "_view_module": "@jupyter-widgets/base",
       "_view_module_version": "1.2.0",
       "_view_name": "LayoutView",
       "align_content": null,
       "align_items": null,
       "align_self": null,
       "border": null,
       "bottom": null,
       "display": null,
       "flex": null,
       "flex_flow": null,
       "grid_area": null,
       "grid_auto_columns": null,
       "grid_auto_flow": null,
       "grid_auto_rows": null,
       "grid_column": null,
       "grid_gap": null,
       "grid_row": null,
       "grid_template_areas": null,
       "grid_template_columns": null,
       "grid_template_rows": null,
       "height": null,
       "justify_content": null,
       "justify_items": null,
       "left": null,
       "margin": null,
       "max_height": null,
       "max_width": null,
       "min_height": null,
       "min_width": null,
       "object_fit": null,
       "object_position": null,
       "order": null,
       "overflow": null,
       "overflow_x": null,
       "overflow_y": null,
       "padding": null,
       "right": null,
       "top": null,
       "visibility": null,
       "width": null
      }
     },
     "98fb74cc361f4b41915b08da5f74f83f": {
      "model_module": "@jupyter-widgets/controls",
      "model_module_version": "1.5.0",
      "model_name": "FloatProgressModel",
      "state": {
       "_dom_classes": [],
       "_model_module": "@jupyter-widgets/controls",
       "_model_module_version": "1.5.0",
       "_model_name": "FloatProgressModel",
       "_view_count": null,
       "_view_module": "@jupyter-widgets/controls",
       "_view_module_version": "1.5.0",
       "_view_name": "ProgressView",
       "bar_style": "success",
       "description": "",
       "description_tooltip": null,
       "layout": "IPY_MODEL_03b89212ae894c33bdb6174fd2c17377",
       "max": 582.0,
       "min": 0.0,
       "orientation": "horizontal",
       "style": "IPY_MODEL_0c73853086934d86b56df31854b71e4a",
       "value": 582.0
      }
     },
     "9f7de5c93785494e94739843e84342ce": {
      "model_module": "@jupyter-widgets/controls",
      "model_module_version": "1.5.0",
      "model_name": "DescriptionStyleModel",
      "state": {
       "_model_module": "@jupyter-widgets/controls",
       "_model_module_version": "1.5.0",
       "_model_name": "DescriptionStyleModel",
       "_view_count": null,
       "_view_module": "@jupyter-widgets/base",
       "_view_module_version": "1.2.0",
       "_view_name": "StyleView",
       "description_width": ""
      }
     },
     "a1e3679c58d142b29180b238a0ca3c1e": {
      "model_module": "@jupyter-widgets/base",
      "model_module_version": "1.2.0",
      "model_name": "LayoutModel",
      "state": {
       "_model_module": "@jupyter-widgets/base",
       "_model_module_version": "1.2.0",
       "_model_name": "LayoutModel",
       "_view_count": null,
       "_view_module": "@jupyter-widgets/base",
       "_view_module_version": "1.2.0",
       "_view_name": "LayoutView",
       "align_content": null,
       "align_items": null,
       "align_self": null,
       "border": null,
       "bottom": null,
       "display": null,
       "flex": null,
       "flex_flow": null,
       "grid_area": null,
       "grid_auto_columns": null,
       "grid_auto_flow": null,
       "grid_auto_rows": null,
       "grid_column": null,
       "grid_gap": null,
       "grid_row": null,
       "grid_template_areas": null,
       "grid_template_columns": null,
       "grid_template_rows": null,
       "height": null,
       "justify_content": null,
       "justify_items": null,
       "left": null,
       "margin": null,
       "max_height": null,
       "max_width": null,
       "min_height": null,
       "min_width": null,
       "object_fit": null,
       "object_position": null,
       "order": null,
       "overflow": null,
       "overflow_x": null,
       "overflow_y": null,
       "padding": null,
       "right": null,
       "top": null,
       "visibility": null,
       "width": null
      }
     },
     "a3da274718e245f5b5ac9f85120b9daa": {
      "model_module": "@jupyter-widgets/controls",
      "model_module_version": "1.5.0",
      "model_name": "HTMLModel",
      "state": {
       "_dom_classes": [],
       "_model_module": "@jupyter-widgets/controls",
       "_model_module_version": "1.5.0",
       "_model_name": "HTMLModel",
       "_view_count": null,
       "_view_module": "@jupyter-widgets/controls",
       "_view_module_version": "1.5.0",
       "_view_name": "HTMLView",
       "description": "",
       "description_tooltip": null,
       "layout": "IPY_MODEL_dda361f21e44489ebbfdf7faa4648fc0",
       "placeholder": "​",
       "style": "IPY_MODEL_3b6530e1d8274d47ac30f5f8a3bde244",
       "value": " 1.59k/1.59k [00:00&lt;00:00, 61.8kB/s]"
      }
     },
     "a5dfe01f6932480484eaf85f49bd507d": {
      "model_module": "@jupyter-widgets/controls",
      "model_module_version": "1.5.0",
      "model_name": "HTMLModel",
      "state": {
       "_dom_classes": [],
       "_model_module": "@jupyter-widgets/controls",
       "_model_module_version": "1.5.0",
       "_model_name": "HTMLModel",
       "_view_count": null,
       "_view_module": "@jupyter-widgets/controls",
       "_view_module_version": "1.5.0",
       "_view_name": "HTMLView",
       "description": "",
       "description_tooltip": null,
       "layout": "IPY_MODEL_117889dc340748898c58db346488b5d0",
       "placeholder": "​",
       "style": "IPY_MODEL_87574531cbf14057b9b2ef869b801be8",
       "value": " 598k/598k [00:00&lt;00:00, 848kB/s]"
      }
     },
     "abae6228f6854e2f9dab1c1754111cce": {
      "model_module": "@jupyter-widgets/controls",
      "model_module_version": "1.5.0",
      "model_name": "FloatProgressModel",
      "state": {
       "_dom_classes": [],
       "_model_module": "@jupyter-widgets/controls",
       "_model_module_version": "1.5.0",
       "_model_name": "FloatProgressModel",
       "_view_count": null,
       "_view_module": "@jupyter-widgets/controls",
       "_view_module_version": "1.5.0",
       "_view_name": "ProgressView",
       "bar_style": "success",
       "description": "",
       "description_tooltip": null,
       "layout": "IPY_MODEL_97aca57052fb4bdd8c153decbec51a73",
       "max": 305.0,
       "min": 0.0,
       "orientation": "horizontal",
       "style": "IPY_MODEL_229bfbffd76345409d79c8b23335471c",
       "value": 305.0
      }
     },
     "af72673aed814e2690b2667360882468": {
      "model_module": "@jupyter-widgets/controls",
      "model_module_version": "1.5.0",
      "model_name": "HTMLModel",
      "state": {
       "_dom_classes": [],
       "_model_module": "@jupyter-widgets/controls",
       "_model_module_version": "1.5.0",
       "_model_name": "HTMLModel",
       "_view_count": null,
       "_view_module": "@jupyter-widgets/controls",
       "_view_module_version": "1.5.0",
       "_view_name": "HTMLView",
       "description": "",
       "description_tooltip": null,
       "layout": "IPY_MODEL_622199b4a792476e81d9f9dcc40398a3",
       "placeholder": "​",
       "style": "IPY_MODEL_13efc95f91724dc3a4dd05f865338aa2",
       "value": "Downloading: 100%"
      }
     },
     "afa5f0e7876f4d70a8982939179efd02": {
      "model_module": "@jupyter-widgets/controls",
      "model_module_version": "1.5.0",
      "model_name": "HBoxModel",
      "state": {
       "_dom_classes": [],
       "_model_module": "@jupyter-widgets/controls",
       "_model_module_version": "1.5.0",
       "_model_name": "HBoxModel",
       "_view_count": null,
       "_view_module": "@jupyter-widgets/controls",
       "_view_module_version": "1.5.0",
       "_view_name": "HBoxView",
       "box_style": "",
       "children": [
        "IPY_MODEL_3daa761fc6d14b9db3f79e84f7f02c10",
        "IPY_MODEL_98fb74cc361f4b41915b08da5f74f83f",
        "IPY_MODEL_495dd4873ddd49d69b02ac289bc3b5fa"
       ],
       "layout": "IPY_MODEL_621a52ed740c4fb6833177a505991247"
      }
     },
     "b15fb57eca014e17a4077e12dbf3744b": {
      "model_module": "@jupyter-widgets/base",
      "model_module_version": "1.2.0",
      "model_name": "LayoutModel",
      "state": {
       "_model_module": "@jupyter-widgets/base",
       "_model_module_version": "1.2.0",
       "_model_name": "LayoutModel",
       "_view_count": null,
       "_view_module": "@jupyter-widgets/base",
       "_view_module_version": "1.2.0",
       "_view_name": "LayoutView",
       "align_content": null,
       "align_items": null,
       "align_self": null,
       "border": null,
       "bottom": null,
       "display": null,
       "flex": null,
       "flex_flow": null,
       "grid_area": null,
       "grid_auto_columns": null,
       "grid_auto_flow": null,
       "grid_auto_rows": null,
       "grid_column": null,
       "grid_gap": null,
       "grid_row": null,
       "grid_template_areas": null,
       "grid_template_columns": null,
       "grid_template_rows": null,
       "height": null,
       "justify_content": null,
       "justify_items": null,
       "left": null,
       "margin": null,
       "max_height": null,
       "max_width": null,
       "min_height": null,
       "min_width": null,
       "object_fit": null,
       "object_position": null,
       "order": null,
       "overflow": null,
       "overflow_x": null,
       "overflow_y": null,
       "padding": null,
       "right": null,
       "top": null,
       "visibility": null,
       "width": null
      }
     },
     "b381698aa59048bfb40d6a7bc6c4572c": {
      "model_module": "@jupyter-widgets/controls",
      "model_module_version": "1.5.0",
      "model_name": "FloatProgressModel",
      "state": {
       "_dom_classes": [],
       "_model_module": "@jupyter-widgets/controls",
       "_model_module_version": "1.5.0",
       "_model_name": "FloatProgressModel",
       "_view_count": null,
       "_view_module": "@jupyter-widgets/controls",
       "_view_module_version": "1.5.0",
       "_view_name": "ProgressView",
       "bar_style": "success",
       "description": "",
       "description_tooltip": null,
       "layout": "IPY_MODEL_5baed2a9d66e496e85bd03b9fa540919",
       "max": 1317096.0,
       "min": 0.0,
       "orientation": "horizontal",
       "style": "IPY_MODEL_52defab4d23e40f99c52bb129534191a",
       "value": 1317096.0
      }
     },
     "c07afe3f5f1442a688bf1eb4e3f7b11d": {
      "model_module": "@jupyter-widgets/controls",
      "model_module_version": "1.5.0",
      "model_name": "HBoxModel",
      "state": {
       "_dom_classes": [],
       "_model_module": "@jupyter-widgets/controls",
       "_model_module_version": "1.5.0",
       "_model_name": "HBoxModel",
       "_view_count": null,
       "_view_module": "@jupyter-widgets/controls",
       "_view_module_version": "1.5.0",
       "_view_name": "HBoxView",
       "box_style": "",
       "children": [
        "IPY_MODEL_4519536726e9485cb15297340409da4e",
        "IPY_MODEL_b381698aa59048bfb40d6a7bc6c4572c",
        "IPY_MODEL_6ddcc45fc3d54b05b565531f93efb148"
       ],
       "layout": "IPY_MODEL_849a6823efee4112a20fb17d97fb00b9"
      }
     },
     "c17a19eb83ea443c908860a000af8c31": {
      "model_module": "@jupyter-widgets/controls",
      "model_module_version": "1.5.0",
      "model_name": "HTMLModel",
      "state": {
       "_dom_classes": [],
       "_model_module": "@jupyter-widgets/controls",
       "_model_module_version": "1.5.0",
       "_model_name": "HTMLModel",
       "_view_count": null,
       "_view_module": "@jupyter-widgets/controls",
       "_view_module_version": "1.5.0",
       "_view_name": "HTMLView",
       "description": "",
       "description_tooltip": null,
       "layout": "IPY_MODEL_60d76c68030f41bfb99ac8d77ebec448",
       "placeholder": "​",
       "style": "IPY_MODEL_405d9e3ce45e4634b05e1cf8b2a34292",
       "value": " 549M/549M [00:15&lt;00:00, 38.4MB/s]"
      }
     },
     "c679aec0041d441989ff8479bc54ea9f": {
      "model_module": "@jupyter-widgets/controls",
      "model_module_version": "1.5.0",
      "model_name": "DescriptionStyleModel",
      "state": {
       "_model_module": "@jupyter-widgets/controls",
       "_model_module_version": "1.5.0",
       "_model_name": "DescriptionStyleModel",
       "_view_count": null,
       "_view_module": "@jupyter-widgets/base",
       "_view_module_version": "1.2.0",
       "_view_name": "StyleView",
       "description_width": ""
      }
     },
     "cadbe6f27fe04310959683d01532b3b1": {
      "model_module": "@jupyter-widgets/base",
      "model_module_version": "1.2.0",
      "model_name": "LayoutModel",
      "state": {
       "_model_module": "@jupyter-widgets/base",
       "_model_module_version": "1.2.0",
       "_model_name": "LayoutModel",
       "_view_count": null,
       "_view_module": "@jupyter-widgets/base",
       "_view_module_version": "1.2.0",
       "_view_name": "LayoutView",
       "align_content": null,
       "align_items": null,
       "align_self": null,
       "border": null,
       "bottom": null,
       "display": null,
       "flex": null,
       "flex_flow": null,
       "grid_area": null,
       "grid_auto_columns": null,
       "grid_auto_flow": null,
       "grid_auto_rows": null,
       "grid_column": null,
       "grid_gap": null,
       "grid_row": null,
       "grid_template_areas": null,
       "grid_template_columns": null,
       "grid_template_rows": null,
       "height": null,
       "justify_content": null,
       "justify_items": null,
       "left": null,
       "margin": null,
       "max_height": null,
       "max_width": null,
       "min_height": null,
       "min_width": null,
       "object_fit": null,
       "object_position": null,
       "order": null,
       "overflow": null,
       "overflow_x": null,
       "overflow_y": null,
       "padding": null,
       "right": null,
       "top": null,
       "visibility": null,
       "width": null
      }
     },
     "cec7c656d29d4c659d7cb438501a5962": {
      "model_module": "@jupyter-widgets/base",
      "model_module_version": "1.2.0",
      "model_name": "LayoutModel",
      "state": {
       "_model_module": "@jupyter-widgets/base",
       "_model_module_version": "1.2.0",
       "_model_name": "LayoutModel",
       "_view_count": null,
       "_view_module": "@jupyter-widgets/base",
       "_view_module_version": "1.2.0",
       "_view_name": "LayoutView",
       "align_content": null,
       "align_items": null,
       "align_self": null,
       "border": null,
       "bottom": null,
       "display": null,
       "flex": null,
       "flex_flow": null,
       "grid_area": null,
       "grid_auto_columns": null,
       "grid_auto_flow": null,
       "grid_auto_rows": null,
       "grid_column": null,
       "grid_gap": null,
       "grid_row": null,
       "grid_template_areas": null,
       "grid_template_columns": null,
       "grid_template_rows": null,
       "height": null,
       "justify_content": null,
       "justify_items": null,
       "left": null,
       "margin": null,
       "max_height": null,
       "max_width": null,
       "min_height": null,
       "min_width": null,
       "object_fit": null,
       "object_position": null,
       "order": null,
       "overflow": null,
       "overflow_x": null,
       "overflow_y": null,
       "padding": null,
       "right": null,
       "top": null,
       "visibility": null,
       "width": null
      }
     },
     "d467206b9f004c54bb76707266ca1495": {
      "model_module": "@jupyter-widgets/controls",
      "model_module_version": "1.5.0",
      "model_name": "HTMLModel",
      "state": {
       "_dom_classes": [],
       "_model_module": "@jupyter-widgets/controls",
       "_model_module_version": "1.5.0",
       "_model_name": "HTMLModel",
       "_view_count": null,
       "_view_module": "@jupyter-widgets/controls",
       "_view_module_version": "1.5.0",
       "_view_name": "HTMLView",
       "description": "",
       "description_tooltip": null,
       "layout": "IPY_MODEL_3dd0049c5c104960be813a31a8c508b0",
       "placeholder": "​",
       "style": "IPY_MODEL_2ded635440d8436e8f0df013186547c9",
       "value": "Downloading: 100%"
      }
     },
     "d81e185d329648a998797089d1055875": {
      "model_module": "@jupyter-widgets/controls",
      "model_module_version": "1.5.0",
      "model_name": "DescriptionStyleModel",
      "state": {
       "_model_module": "@jupyter-widgets/controls",
       "_model_module_version": "1.5.0",
       "_model_name": "DescriptionStyleModel",
       "_view_count": null,
       "_view_module": "@jupyter-widgets/base",
       "_view_module_version": "1.2.0",
       "_view_name": "StyleView",
       "description_width": ""
      }
     },
     "dd7f043ea97943e997a38d717fd3d01b": {
      "model_module": "@jupyter-widgets/controls",
      "model_module_version": "1.5.0",
      "model_name": "ProgressStyleModel",
      "state": {
       "_model_module": "@jupyter-widgets/controls",
       "_model_module_version": "1.5.0",
       "_model_name": "ProgressStyleModel",
       "_view_count": null,
       "_view_module": "@jupyter-widgets/base",
       "_view_module_version": "1.2.0",
       "_view_name": "StyleView",
       "bar_color": null,
       "description_width": ""
      }
     },
     "dda361f21e44489ebbfdf7faa4648fc0": {
      "model_module": "@jupyter-widgets/base",
      "model_module_version": "1.2.0",
      "model_name": "LayoutModel",
      "state": {
       "_model_module": "@jupyter-widgets/base",
       "_model_module_version": "1.2.0",
       "_model_name": "LayoutModel",
       "_view_count": null,
       "_view_module": "@jupyter-widgets/base",
       "_view_module_version": "1.2.0",
       "_view_name": "LayoutView",
       "align_content": null,
       "align_items": null,
       "align_self": null,
       "border": null,
       "bottom": null,
       "display": null,
       "flex": null,
       "flex_flow": null,
       "grid_area": null,
       "grid_auto_columns": null,
       "grid_auto_flow": null,
       "grid_auto_rows": null,
       "grid_column": null,
       "grid_gap": null,
       "grid_row": null,
       "grid_template_areas": null,
       "grid_template_columns": null,
       "grid_template_rows": null,
       "height": null,
       "justify_content": null,
       "justify_items": null,
       "left": null,
       "margin": null,
       "max_height": null,
       "max_width": null,
       "min_height": null,
       "min_width": null,
       "object_fit": null,
       "object_position": null,
       "order": null,
       "overflow": null,
       "overflow_x": null,
       "overflow_y": null,
       "padding": null,
       "right": null,
       "top": null,
       "visibility": null,
       "width": null
      }
     },
     "e0609b6d865c42399b57b546adf7bd0e": {
      "model_module": "@jupyter-widgets/base",
      "model_module_version": "1.2.0",
      "model_name": "LayoutModel",
      "state": {
       "_model_module": "@jupyter-widgets/base",
       "_model_module_version": "1.2.0",
       "_model_name": "LayoutModel",
       "_view_count": null,
       "_view_module": "@jupyter-widgets/base",
       "_view_module_version": "1.2.0",
       "_view_name": "LayoutView",
       "align_content": null,
       "align_items": null,
       "align_self": null,
       "border": null,
       "bottom": null,
       "display": null,
       "flex": null,
       "flex_flow": null,
       "grid_area": null,
       "grid_auto_columns": null,
       "grid_auto_flow": null,
       "grid_auto_rows": null,
       "grid_column": null,
       "grid_gap": null,
       "grid_row": null,
       "grid_template_areas": null,
       "grid_template_columns": null,
       "grid_template_rows": null,
       "height": null,
       "justify_content": null,
       "justify_items": null,
       "left": null,
       "margin": null,
       "max_height": null,
       "max_width": null,
       "min_height": null,
       "min_width": null,
       "object_fit": null,
       "object_position": null,
       "order": null,
       "overflow": null,
       "overflow_x": null,
       "overflow_y": null,
       "padding": null,
       "right": null,
       "top": null,
       "visibility": null,
       "width": null
      }
     },
     "e4d9c527bc104950b374964a7e1fc0e5": {
      "model_module": "@jupyter-widgets/controls",
      "model_module_version": "1.5.0",
      "model_name": "ProgressStyleModel",
      "state": {
       "_model_module": "@jupyter-widgets/controls",
       "_model_module_version": "1.5.0",
       "_model_name": "ProgressStyleModel",
       "_view_count": null,
       "_view_module": "@jupyter-widgets/base",
       "_view_module_version": "1.2.0",
       "_view_name": "StyleView",
       "bar_color": null,
       "description_width": ""
      }
     },
     "e52d5afe5bc141cc8759b310b37d0a57": {
      "model_module": "@jupyter-widgets/controls",
      "model_module_version": "1.5.0",
      "model_name": "HBoxModel",
      "state": {
       "_dom_classes": [],
       "_model_module": "@jupyter-widgets/controls",
       "_model_module_version": "1.5.0",
       "_model_name": "HBoxModel",
       "_view_count": null,
       "_view_module": "@jupyter-widgets/controls",
       "_view_module_version": "1.5.0",
       "_view_name": "HBoxView",
       "box_style": "",
       "children": [
        "IPY_MODEL_57c4b58bbd6a4301a8aefd84754055e8",
        "IPY_MODEL_abae6228f6854e2f9dab1c1754111cce",
        "IPY_MODEL_7b727c99ef614b6c8ed1b909c1de95fc"
       ],
       "layout": "IPY_MODEL_cadbe6f27fe04310959683d01532b3b1"
      }
     },
     "f20798592a43409285b9ca7fc9ac06f3": {
      "model_module": "@jupyter-widgets/base",
      "model_module_version": "1.2.0",
      "model_name": "LayoutModel",
      "state": {
       "_model_module": "@jupyter-widgets/base",
       "_model_module_version": "1.2.0",
       "_model_name": "LayoutModel",
       "_view_count": null,
       "_view_module": "@jupyter-widgets/base",
       "_view_module_version": "1.2.0",
       "_view_name": "LayoutView",
       "align_content": null,
       "align_items": null,
       "align_self": null,
       "border": null,
       "bottom": null,
       "display": null,
       "flex": null,
       "flex_flow": null,
       "grid_area": null,
       "grid_auto_columns": null,
       "grid_auto_flow": null,
       "grid_auto_rows": null,
       "grid_column": null,
       "grid_gap": null,
       "grid_row": null,
       "grid_template_areas": null,
       "grid_template_columns": null,
       "grid_template_rows": null,
       "height": null,
       "justify_content": null,
       "justify_items": null,
       "left": null,
       "margin": null,
       "max_height": null,
       "max_width": null,
       "min_height": null,
       "min_width": null,
       "object_fit": null,
       "object_position": null,
       "order": null,
       "overflow": null,
       "overflow_x": null,
       "overflow_y": null,
       "padding": null,
       "right": null,
       "top": null,
       "visibility": null,
       "width": null
      }
     },
     "f3607d862b2847a6aef79c9e73784694": {
      "model_module": "@jupyter-widgets/base",
      "model_module_version": "1.2.0",
      "model_name": "LayoutModel",
      "state": {
       "_model_module": "@jupyter-widgets/base",
       "_model_module_version": "1.2.0",
       "_model_name": "LayoutModel",
       "_view_count": null,
       "_view_module": "@jupyter-widgets/base",
       "_view_module_version": "1.2.0",
       "_view_name": "LayoutView",
       "align_content": null,
       "align_items": null,
       "align_self": null,
       "border": null,
       "bottom": null,
       "display": null,
       "flex": null,
       "flex_flow": null,
       "grid_area": null,
       "grid_auto_columns": null,
       "grid_auto_flow": null,
       "grid_auto_rows": null,
       "grid_column": null,
       "grid_gap": null,
       "grid_row": null,
       "grid_template_areas": null,
       "grid_template_columns": null,
       "grid_template_rows": null,
       "height": null,
       "justify_content": null,
       "justify_items": null,
       "left": null,
       "margin": null,
       "max_height": null,
       "max_width": null,
       "min_height": null,
       "min_width": null,
       "object_fit": null,
       "object_position": null,
       "order": null,
       "overflow": null,
       "overflow_x": null,
       "overflow_y": null,
       "padding": null,
       "right": null,
       "top": null,
       "visibility": null,
       "width": null
      }
     },
     "f8841cfe0193460886947f225934d8f2": {
      "model_module": "@jupyter-widgets/controls",
      "model_module_version": "1.5.0",
      "model_name": "DescriptionStyleModel",
      "state": {
       "_model_module": "@jupyter-widgets/controls",
       "_model_module_version": "1.5.0",
       "_model_name": "DescriptionStyleModel",
       "_view_count": null,
       "_view_module": "@jupyter-widgets/base",
       "_view_module_version": "1.2.0",
       "_view_name": "StyleView",
       "description_width": ""
      }
     },
     "fa6329f66e13471eaea02ce0763be952": {
      "model_module": "@jupyter-widgets/controls",
      "model_module_version": "1.5.0",
      "model_name": "ProgressStyleModel",
      "state": {
       "_model_module": "@jupyter-widgets/controls",
       "_model_module_version": "1.5.0",
       "_model_name": "ProgressStyleModel",
       "_view_count": null,
       "_view_module": "@jupyter-widgets/base",
       "_view_module_version": "1.2.0",
       "_view_name": "StyleView",
       "bar_color": null,
       "description_width": ""
      }
     }
    },
    "version_major": 2,
    "version_minor": 0
   }
  }
 },
 "nbformat": 4,
 "nbformat_minor": 5
}
