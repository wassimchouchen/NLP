{
 "cells": [
  {
   "cell_type": "code",
   "execution_count": 1,
   "id": "ced84944",
   "metadata": {
    "_cell_guid": "b1076dfc-b9ad-4769-8c92-a6c4dae69d19",
    "_uuid": "8f2839f25d086af736a60e9eeb907d3b93b6e0e5",
    "execution": {
     "iopub.execute_input": "2022-06-27T17:13:30.246647Z",
     "iopub.status.busy": "2022-06-27T17:13:30.245655Z",
     "iopub.status.idle": "2022-06-27T17:13:41.895187Z",
     "shell.execute_reply": "2022-06-27T17:13:41.893952Z"
    },
    "papermill": {
     "duration": 11.660864,
     "end_time": "2022-06-27T17:13:41.898582",
     "exception": false,
     "start_time": "2022-06-27T17:13:30.237718",
     "status": "completed"
    },
    "tags": []
   },
   "outputs": [],
   "source": [
    "import numpy as np\n",
    "import pandas as pd \n",
    "import seaborn as sns\n",
    "import matplotlib.pyplot as plt \n",
    "import matplotlib.style as stl \n",
    "from tensorflow import keras \n",
    "from keras.preprocessing.text import Tokenizer\n",
    "from nltk.corpus import stopwords\n",
    "import string\n",
    "from tensorflow.keras.models import Sequential,Model\n",
    "from tensorflow.keras.layers import Dense, LSTM, Embedding,Dropout,SpatialDropout1D,Conv1D,MaxPooling1D,GRU,BatchNormalization\n",
    "import warnings\n",
    "warnings.filterwarnings('ignore')\n",
    "stl.use('ggplot')\n",
    "from tqdm import tqdm\n",
    "import string\n",
    "from nltk.corpus import stopwords\n",
    "from nltk.tokenize import word_tokenize\n",
    "from nltk.stem import WordNetLemmatizer\n",
    "from nltk.stem.snowball import SnowballStemmer\n",
    "import regex as re\n",
    "import time\n",
    "import pickle"
   ]
  },
  {
   "cell_type": "code",
   "execution_count": 2,
   "id": "cf869e76",
   "metadata": {
    "execution": {
     "iopub.execute_input": "2022-06-27T17:13:41.910851Z",
     "iopub.status.busy": "2022-06-27T17:13:41.909595Z",
     "iopub.status.idle": "2022-06-27T17:13:42.202888Z",
     "shell.execute_reply": "2022-06-27T17:13:42.201626Z"
    },
    "papermill": {
     "duration": 0.30208,
     "end_time": "2022-06-27T17:13:42.205615",
     "exception": false,
     "start_time": "2022-06-27T17:13:41.903535",
     "status": "completed"
    },
    "tags": []
   },
   "outputs": [],
   "source": [
    "index=pd.read_csv(\"../input/categories/index.csv\")"
   ]
  },
  {
   "cell_type": "code",
   "execution_count": 3,
   "id": "68d0bc6a",
   "metadata": {
    "execution": {
     "iopub.execute_input": "2022-06-27T17:13:42.217056Z",
     "iopub.status.busy": "2022-06-27T17:13:42.216655Z",
     "iopub.status.idle": "2022-06-27T17:13:42.244825Z",
     "shell.execute_reply": "2022-06-27T17:13:42.243997Z"
    },
    "papermill": {
     "duration": 0.037449,
     "end_time": "2022-06-27T17:13:42.248069",
     "exception": false,
     "start_time": "2022-06-27T17:13:42.210620",
     "status": "completed"
    },
    "tags": []
   },
   "outputs": [
    {
     "data": {
      "text/html": [
       "<div>\n",
       "<style scoped>\n",
       "    .dataframe tbody tr th:only-of-type {\n",
       "        vertical-align: middle;\n",
       "    }\n",
       "\n",
       "    .dataframe tbody tr th {\n",
       "        vertical-align: top;\n",
       "    }\n",
       "\n",
       "    .dataframe thead th {\n",
       "        text-align: right;\n",
       "    }\n",
       "</style>\n",
       "<table border=\"1\" class=\"dataframe\">\n",
       "  <thead>\n",
       "    <tr style=\"text-align: right;\">\n",
       "      <th></th>\n",
       "      <th>document_id</th>\n",
       "      <th>status</th>\n",
       "      <th>document_url</th>\n",
       "      <th>media_type</th>\n",
       "      <th>media_link</th>\n",
       "      <th>relative_media_path</th>\n",
       "      <th>is_media_downloaded</th>\n",
       "      <th>transcription_text</th>\n",
       "      <th>transcription_text_relative_path</th>\n",
       "      <th>from_time</th>\n",
       "      <th>to_time</th>\n",
       "      <th>project_id</th>\n",
       "      <th>Category</th>\n",
       "      <th>Unnamed: 13</th>\n",
       "      <th>Unnamed: 14</th>\n",
       "    </tr>\n",
       "  </thead>\n",
       "  <tbody>\n",
       "    <tr>\n",
       "      <th>0</th>\n",
       "      <td>NMAAHC-004567385_00026</td>\n",
       "      <td>Complete</td>\n",
       "      <td>https://transcription.si.edu/transcribe/8489/N...</td>\n",
       "      <td>image</td>\n",
       "      <td>https://ids.si.edu/ids/deliveryService?max_w=&amp;...</td>\n",
       "      <td>/8489/image/NMAAHC-004567385_00026.jpg</td>\n",
       "      <td>1</td>\n",
       "      <td>NAME INDEX TO VOLUME 7 OF LETTERS SENT, JULY 1...</td>\n",
       "      <td>/8489/transcriptions/NMAAHC-004567385_00026.txt</td>\n",
       "      <td>\\N</td>\n",
       "      <td>\\N</td>\n",
       "      <td>8489</td>\n",
       "      <td>Index</td>\n",
       "      <td>NaN</td>\n",
       "      <td>NaN</td>\n",
       "    </tr>\n",
       "    <tr>\n",
       "      <th>1</th>\n",
       "      <td>NMAAHC-004567385_00027</td>\n",
       "      <td>Complete</td>\n",
       "      <td>https://transcription.si.edu/transcribe/8489/N...</td>\n",
       "      <td>image</td>\n",
       "      <td>https://ids.si.edu/ids/deliveryService?max_w=&amp;...</td>\n",
       "      <td>/8489/image/NMAAHC-004567385_00027.jpg</td>\n",
       "      <td>1</td>\n",
       "      <td>Boyd, J. F. (Col.)          19, 41\\r\\nBoyden, ...</td>\n",
       "      <td>/8489/transcriptions/NMAAHC-004567385_00027.txt</td>\n",
       "      <td>\\N</td>\n",
       "      <td>\\N</td>\n",
       "      <td>8489</td>\n",
       "      <td>Index</td>\n",
       "      <td>NaN</td>\n",
       "      <td>NaN</td>\n",
       "    </tr>\n",
       "    <tr>\n",
       "      <th>2</th>\n",
       "      <td>NMAAHC-004567385_00028</td>\n",
       "      <td>Complete</td>\n",
       "      <td>https://transcription.si.edu/transcribe/8489/N...</td>\n",
       "      <td>image</td>\n",
       "      <td>https://ids.si.edu/ids/deliveryService?max_w=&amp;...</td>\n",
       "      <td>/8489/image/NMAAHC-004567385_00028.jpg</td>\n",
       "      <td>1</td>\n",
       "      <td>Chur, J. F. (Capt.)         139\\r\\nCilley, Cli...</td>\n",
       "      <td>/8489/transcriptions/NMAAHC-004567385_00028.txt</td>\n",
       "      <td>\\N</td>\n",
       "      <td>\\N</td>\n",
       "      <td>8489</td>\n",
       "      <td>Index</td>\n",
       "      <td>NaN</td>\n",
       "      <td>NaN</td>\n",
       "    </tr>\n",
       "    <tr>\n",
       "      <th>3</th>\n",
       "      <td>NMAAHC-004567385_00029</td>\n",
       "      <td>Complete</td>\n",
       "      <td>https://transcription.si.edu/transcribe/8489/N...</td>\n",
       "      <td>image</td>\n",
       "      <td>https://ids.si.edu/ids/deliveryService?max_w=&amp;...</td>\n",
       "      <td>/8489/image/NMAAHC-004567385_00029.jpg</td>\n",
       "      <td>1</td>\n",
       "      <td>Elijah 176\\r\\nEliza 172\\r\\nEmery, Charles (Cap...</td>\n",
       "      <td>/8489/transcriptions/NMAAHC-004567385_00029.txt</td>\n",
       "      <td>\\N</td>\n",
       "      <td>\\N</td>\n",
       "      <td>8489</td>\n",
       "      <td>Index</td>\n",
       "      <td>NaN</td>\n",
       "      <td>NaN</td>\n",
       "    </tr>\n",
       "    <tr>\n",
       "      <th>4</th>\n",
       "      <td>NMAAHC-004567385_00030</td>\n",
       "      <td>Complete</td>\n",
       "      <td>https://transcription.si.edu/transcribe/8489/N...</td>\n",
       "      <td>image</td>\n",
       "      <td>https://ids.si.edu/ids/deliveryService?max_w=&amp;...</td>\n",
       "      <td>/8489/image/NMAAHC-004567385_00030.jpg</td>\n",
       "      <td>1</td>\n",
       "      <td>Hale, (Capt.) 51\\r\\nHambrich, P.R. (Capt.) 9\\r...</td>\n",
       "      <td>/8489/transcriptions/NMAAHC-004567385_00030.txt</td>\n",
       "      <td>\\N</td>\n",
       "      <td>\\N</td>\n",
       "      <td>8489</td>\n",
       "      <td>Index</td>\n",
       "      <td>NaN</td>\n",
       "      <td>NaN</td>\n",
       "    </tr>\n",
       "  </tbody>\n",
       "</table>\n",
       "</div>"
      ],
      "text/plain": [
       "              document_id    status  \\\n",
       "0  NMAAHC-004567385_00026  Complete   \n",
       "1  NMAAHC-004567385_00027  Complete   \n",
       "2  NMAAHC-004567385_00028  Complete   \n",
       "3  NMAAHC-004567385_00029  Complete   \n",
       "4  NMAAHC-004567385_00030  Complete   \n",
       "\n",
       "                                        document_url media_type  \\\n",
       "0  https://transcription.si.edu/transcribe/8489/N...      image   \n",
       "1  https://transcription.si.edu/transcribe/8489/N...      image   \n",
       "2  https://transcription.si.edu/transcribe/8489/N...      image   \n",
       "3  https://transcription.si.edu/transcribe/8489/N...      image   \n",
       "4  https://transcription.si.edu/transcribe/8489/N...      image   \n",
       "\n",
       "                                          media_link  \\\n",
       "0  https://ids.si.edu/ids/deliveryService?max_w=&...   \n",
       "1  https://ids.si.edu/ids/deliveryService?max_w=&...   \n",
       "2  https://ids.si.edu/ids/deliveryService?max_w=&...   \n",
       "3  https://ids.si.edu/ids/deliveryService?max_w=&...   \n",
       "4  https://ids.si.edu/ids/deliveryService?max_w=&...   \n",
       "\n",
       "                      relative_media_path  is_media_downloaded  \\\n",
       "0  /8489/image/NMAAHC-004567385_00026.jpg                    1   \n",
       "1  /8489/image/NMAAHC-004567385_00027.jpg                    1   \n",
       "2  /8489/image/NMAAHC-004567385_00028.jpg                    1   \n",
       "3  /8489/image/NMAAHC-004567385_00029.jpg                    1   \n",
       "4  /8489/image/NMAAHC-004567385_00030.jpg                    1   \n",
       "\n",
       "                                  transcription_text  \\\n",
       "0  NAME INDEX TO VOLUME 7 OF LETTERS SENT, JULY 1...   \n",
       "1  Boyd, J. F. (Col.)          19, 41\\r\\nBoyden, ...   \n",
       "2  Chur, J. F. (Capt.)         139\\r\\nCilley, Cli...   \n",
       "3  Elijah 176\\r\\nEliza 172\\r\\nEmery, Charles (Cap...   \n",
       "4  Hale, (Capt.) 51\\r\\nHambrich, P.R. (Capt.) 9\\r...   \n",
       "\n",
       "                  transcription_text_relative_path from_time to_time  \\\n",
       "0  /8489/transcriptions/NMAAHC-004567385_00026.txt        \\N      \\N   \n",
       "1  /8489/transcriptions/NMAAHC-004567385_00027.txt        \\N      \\N   \n",
       "2  /8489/transcriptions/NMAAHC-004567385_00028.txt        \\N      \\N   \n",
       "3  /8489/transcriptions/NMAAHC-004567385_00029.txt        \\N      \\N   \n",
       "4  /8489/transcriptions/NMAAHC-004567385_00030.txt        \\N      \\N   \n",
       "\n",
       "   project_id Category  Unnamed: 13  Unnamed: 14  \n",
       "0        8489    Index          NaN          NaN  \n",
       "1        8489    Index          NaN          NaN  \n",
       "2        8489    Index          NaN          NaN  \n",
       "3        8489    Index          NaN          NaN  \n",
       "4        8489    Index          NaN          NaN  "
      ]
     },
     "execution_count": 3,
     "metadata": {},
     "output_type": "execute_result"
    }
   ],
   "source": [
    "index.head()"
   ]
  },
  {
   "cell_type": "code",
   "execution_count": 4,
   "id": "66e1ec7d",
   "metadata": {
    "execution": {
     "iopub.execute_input": "2022-06-27T17:13:42.260376Z",
     "iopub.status.busy": "2022-06-27T17:13:42.259794Z",
     "iopub.status.idle": "2022-06-27T17:13:42.266141Z",
     "shell.execute_reply": "2022-06-27T17:13:42.265045Z"
    },
    "papermill": {
     "duration": 0.015215,
     "end_time": "2022-06-27T17:13:42.268477",
     "exception": false,
     "start_time": "2022-06-27T17:13:42.253262",
     "status": "completed"
    },
    "tags": []
   },
   "outputs": [
    {
     "data": {
      "text/plain": [
       "(5422, 15)"
      ]
     },
     "execution_count": 4,
     "metadata": {},
     "output_type": "execute_result"
    }
   ],
   "source": [
    "index.shape"
   ]
  },
  {
   "cell_type": "code",
   "execution_count": 5,
   "id": "a48f167b",
   "metadata": {
    "execution": {
     "iopub.execute_input": "2022-06-27T17:13:42.281186Z",
     "iopub.status.busy": "2022-06-27T17:13:42.280473Z",
     "iopub.status.idle": "2022-06-27T17:13:42.288906Z",
     "shell.execute_reply": "2022-06-27T17:13:42.287586Z"
    },
    "papermill": {
     "duration": 0.017653,
     "end_time": "2022-06-27T17:13:42.291465",
     "exception": false,
     "start_time": "2022-06-27T17:13:42.273812",
     "status": "completed"
    },
    "tags": []
   },
   "outputs": [],
   "source": [
    "index_text=index[\"transcription_text\"]"
   ]
  },
  {
   "cell_type": "code",
   "execution_count": 6,
   "id": "ef91e34e",
   "metadata": {
    "_kg_hide-output": true,
    "execution": {
     "iopub.execute_input": "2022-06-27T17:13:42.303712Z",
     "iopub.status.busy": "2022-06-27T17:13:42.303311Z",
     "iopub.status.idle": "2022-06-27T17:13:42.311254Z",
     "shell.execute_reply": "2022-06-27T17:13:42.309389Z"
    },
    "papermill": {
     "duration": 0.017244,
     "end_time": "2022-06-27T17:13:42.313968",
     "exception": false,
     "start_time": "2022-06-27T17:13:42.296724",
     "status": "completed"
    },
    "tags": []
   },
   "outputs": [
    {
     "name": "stdout",
     "output_type": "stream",
     "text": [
      "NAME INDEX TO VOLUME 7 OF LETTERS SENT, JULY 1865-JULY 1867. PAGES 1-179\r\n",
      "\r\n",
      "Abbott, Lyman (Rev.)        26\r\n",
      "Adams, John Q.              37\r\n",
      "Allen, Moses H.             5\r\n",
      "Almy, George C. (Capt.)     128\r\n",
      "Anderson, James H. (Lt.)    88, 91, 121\r\n",
      "Archy, Mose                 173\r\n",
      "Armsby, Lawrence (Chaplain) 4\r\n",
      "Armstrong, S. C.            112\r\n",
      "Bardham, H. A. (Atty.)      178\r\n",
      "Barnes, Haywood             93\r\n",
      "Barnes, William             39\r\n",
      "Barnitt, John C. (Capt.)    4, 8, 22, 36, 49, 50, 69, 74, 97\r\n",
      "Barringer, Victor C.        172\r\n",
      "Beadle, W. H. H. (Bvt. Lt. Col.) 90, 95\r\n",
      "Beal (Capt.)                     2\r\n",
      "Beal, James H.                   100\r\n",
      "Beath, Robert B. (Capt.)         14\r\n",
      "Beecher, Fred H. (Lt.)           92, 121\r\n",
      "Bell, S. A. (A. A. Surg.)        153\r\n",
      "Bellamy, John D.                 56\r\n",
      "Binning (Lt.)                    164\r\n",
      "Birdsall (Lt.)                   20, 21\r\n",
      "Blunt, Hargate and Blunt         42\r\n",
      "Bond, Henry A.                   175\r\n",
      "Bowen, John J. (Capt.)           1\n"
     ]
    }
   ],
   "source": [
    "print(index_text[0])"
   ]
  },
  {
   "cell_type": "code",
   "execution_count": 7,
   "id": "1b26d141",
   "metadata": {
    "_kg_hide-output": true,
    "execution": {
     "iopub.execute_input": "2022-06-27T17:13:42.327456Z",
     "iopub.status.busy": "2022-06-27T17:13:42.326626Z",
     "iopub.status.idle": "2022-06-27T17:13:42.332416Z",
     "shell.execute_reply": "2022-06-27T17:13:42.331610Z"
    },
    "papermill": {
     "duration": 0.016554,
     "end_time": "2022-06-27T17:13:42.335931",
     "exception": false,
     "start_time": "2022-06-27T17:13:42.319377",
     "status": "completed"
    },
    "tags": []
   },
   "outputs": [
    {
     "name": "stdout",
     "output_type": "stream",
     "text": [
      "[[on page underlying page with index entries]]\r\n",
      "\r\n",
      "[[underlined]] No. Ca. [[/underlined]]\r\n",
      "\r\n",
      "Name [[underlined]] index to No 7. [[/underlined]]\r\n",
      "\r\n",
      "(part of 1866 and to July 13/67)\r\n",
      "\r\n",
      "[[in the right margin]] (8)\r\n",
      "\r\n",
      "[[/underlying page]]\r\n",
      "\r\n",
      "Letters Sent\r\n",
      "\r\n",
      "Names | Index of Letters | Names | Index of Letters\r\n",
      "----- | ------- | ------- | ------ \r\n",
      "\"A\" | [[no head]] | \"B\" | [[no head]]\r\n",
      "Armsby. Lawrence Chaplain | P.4. No 8. | Bullock Jas. A. | P. 2-4\r\n",
      "Adams Jno. L. | P.37.88.- | Barnett John C Capt & Supt. | P. 4. No 7 - P. 8 No.16-36.86.-49.116.-50.118-69.158.-97.223.-\r\n",
      "Anderson Lt. Jas. H. | 88.198-91.207.-114.261.-121.277.- | Brown R.B. | P. [[3?]]: No. 9\r\n",
      "Almy Geo. C. | 102.232.-108.247.-128.291.- | Boyd. J.[[F.?]] Col. & Chf. Q.M.\r\n",
      "Armstrong S.C.  | 112.256.- | Blunt, Heargate + Blunt | P. 42. No. 102-\r\n",
      "[[strikethrough]] Aarons, W. [[/strikethrough]] |  [[blank]] | Buxton Ralph P. | 87.197.-\r\n",
      "[[blank]] | [[blank]] | Bryan Henry R. | 89.202-\r\n",
      "[[blank]] | [[blank]] | Beadle Lt. Col. W.H.H. | 90-204.-98.212.-95.216.-\r\n",
      "[[blank]] | [[blank]] | Brown John E. | 104.286.-\r\n",
      "[[blank]] | [[blank]] | Britt Chas. G. | 119.270-\r\n",
      "[[blank]] | [[blank]] | Brady A. G. | 119.271.-125.284.-[[strikethrough]]125.284.[[/strikerough]]-125.285.-128.292.-129.295.-181.8110.-135.312.-139.321.-145.336.-149.345.-[[smudged]]15[[11 or 0]].348.-189.397.\r\n",
      "[[blank]] | [[blank]] | Bell S.A. - A.A.Surg.U.S.A. | 153.354.-\r\n",
      "[[blank]] | [[blank]] | Brooks G.W. | 159.366.-\r\n",
      "\r\n",
      "[[written across 1st two blank columns]]\r\n",
      "Partial index to No 7, No. Ca. \r\n",
      "(1865 & part of 1866)\r\n",
      "\n"
     ]
    }
   ],
   "source": [
    "print(index_text[10])"
   ]
  },
  {
   "cell_type": "code",
   "execution_count": 8,
   "id": "7915d0db",
   "metadata": {
    "_kg_hide-output": true,
    "execution": {
     "iopub.execute_input": "2022-06-27T17:13:42.353250Z",
     "iopub.status.busy": "2022-06-27T17:13:42.352423Z",
     "iopub.status.idle": "2022-06-27T17:13:42.359224Z",
     "shell.execute_reply": "2022-06-27T17:13:42.357750Z"
    },
    "papermill": {
     "duration": 0.018598,
     "end_time": "2022-06-27T17:13:42.362473",
     "exception": false,
     "start_time": "2022-06-27T17:13:42.343875",
     "status": "completed"
    },
    "tags": []
   },
   "outputs": [
    {
     "name": "stdout",
     "output_type": "stream",
     "text": [
      "Greenlee. John a.  72.\r\n",
      "Goodding. Isaac    85.\r\n",
      "Green. Rosa   85.\r\n",
      "Green. Joseph 85.\n"
     ]
    }
   ],
   "source": [
    "print(index_text[100])"
   ]
  },
  {
   "cell_type": "code",
   "execution_count": 9,
   "id": "44e4258e",
   "metadata": {
    "_kg_hide-output": true,
    "execution": {
     "iopub.execute_input": "2022-06-27T17:13:42.378123Z",
     "iopub.status.busy": "2022-06-27T17:13:42.377197Z",
     "iopub.status.idle": "2022-06-27T17:13:42.383861Z",
     "shell.execute_reply": "2022-06-27T17:13:42.382645Z"
    },
    "papermill": {
     "duration": 0.018166,
     "end_time": "2022-06-27T17:13:42.387344",
     "exception": false,
     "start_time": "2022-06-27T17:13:42.369178",
     "status": "completed"
    },
    "tags": []
   },
   "outputs": [
    {
     "name": "stdout",
     "output_type": "stream",
     "text": [
      "[[start page]]\r\n",
      "1865.\r\n",
      "[[three column table]]\r\n",
      "\r\n",
      "London Manger | [[blank]] | 14.\r\n",
      "London Sarah E | [[blank]] | 16.\r\n",
      "Lippett John E | [[blank]] | 18.\r\n",
      "Lippett W.H | [[blank]] | 18. 23. 33.\r\n",
      "Laslo J.G | [[blank]] | 19.\r\n",
      "Lehman R.F | [[blank]] | 20. 44.\r\n",
      "Lecraft Mary | [[blank]] | 21.\r\n",
      "Lazarus Julia | [[blank]] | 22.\r\n",
      "Lippett W. | [[blank]] | 23. 33.\r\n",
      "Lecraft Benjamin | [[blank]] | 36. 59.\r\n",
      "Lewis K.H | [[blank]] | 30.\r\n",
      "Lewis W.F | [[blank]] | 30.\r\n",
      "Levy T.J. | [[blank]] | 31.\r\n",
      "Lane H.B | [[blank]] | 37.\r\n",
      "Leach J A | [[blank]] | 40. 45.\r\n",
      "Leavy J.P | [[blank]] | 50.\r\n",
      "Lord Fredk | [[blank]] | 52.\r\n",
      "Littlejohn W.H | [[blank]] | 53.\r\n",
      "Leigh J.W | [[blank]] | 66.\r\n",
      "Low T.B | [[blank]] | 66.\r\n",
      "[[end page]]\n"
     ]
    }
   ],
   "source": [
    "print(index_text[150])"
   ]
  },
  {
   "cell_type": "code",
   "execution_count": 10,
   "id": "2d187a6b",
   "metadata": {
    "_kg_hide-output": true,
    "execution": {
     "iopub.execute_input": "2022-06-27T17:13:42.402504Z",
     "iopub.status.busy": "2022-06-27T17:13:42.402031Z",
     "iopub.status.idle": "2022-06-27T17:13:42.408028Z",
     "shell.execute_reply": "2022-06-27T17:13:42.406931Z"
    },
    "papermill": {
     "duration": 0.01698,
     "end_time": "2022-06-27T17:13:42.410804",
     "exception": false,
     "start_time": "2022-06-27T17:13:42.393824",
     "status": "completed"
    },
    "tags": []
   },
   "outputs": [
    {
     "name": "stdout",
     "output_type": "stream",
     "text": [
      "[[Right Hand Page]]\r\n",
      "\r\n",
      "\r\n",
      "[[2 Columned Table]]\r\n",
      "--- | --- \r\n",
      "\"Jenny\" | 90. \r\n",
      "Johnson  Richard | 10\r\n",
      "Jones  Andrew  | 12\r\n",
      "Johnston  Thos. P. A.N.U. | 16, 20, 75\r\n",
      "Jordan  Alice |  37, 53\r\n",
      "Jordan  Vina |  51, 54, 55  \r\n",
      "Johnston  Tho.P. A.N.U. | 65, 74 95, 169, 199, 200, 204, 205, 281\r\n",
      "Johnston  Hugh | 107, 146 \r\n",
      "\"Jane\" | 129\r\n",
      "\"Jennings\"  Mr | 184, 185\r\n",
      "Johnston  David | 219\r\n",
      "Johnson  Leah | 228\r\n",
      "Jeremia & Parthe[[?]] | 253\n"
     ]
    }
   ],
   "source": [
    "print(index_text[5000])"
   ]
  },
  {
   "cell_type": "code",
   "execution_count": 11,
   "id": "77686296",
   "metadata": {
    "execution": {
     "iopub.execute_input": "2022-06-27T17:13:42.424996Z",
     "iopub.status.busy": "2022-06-27T17:13:42.424237Z",
     "iopub.status.idle": "2022-06-27T17:14:14.224517Z",
     "shell.execute_reply": "2022-06-27T17:14:14.223405Z"
    },
    "papermill": {
     "duration": 31.811147,
     "end_time": "2022-06-27T17:14:14.227772",
     "exception": false,
     "start_time": "2022-06-27T17:13:42.416625",
     "status": "completed"
    },
    "tags": []
   },
   "outputs": [
    {
     "name": "stderr",
     "output_type": "stream",
     "text": [
      "100%|██████████| 5422/5422 [00:31<00:00, 170.63it/s]\n"
     ]
    }
   ],
   "source": [
    "stop_words = set(stopwords.words('english'))\n",
    "punctuation = string.punctuation\n",
    "stemmer = SnowballStemmer(language=\"english\")\n",
    "lemmatizer = WordNetLemmatizer()\n",
    "stop_words.remove(\"of\")\n",
    "punct='!\"#$%&\\'()*+-/<=>?@[\\\\]^_`{|}~'\n",
    "def process(s):\n",
    "    s= re.sub(\"([\\[]).*?([\\]])\",\" \",s)\n",
    "    for p in punct:\n",
    "        s = s.replace(p, '')\n",
    "    s = word_tokenize(s)\n",
    "    s = [w for w in s if not w in stop_words] #optional\n",
    "    return s\n",
    "start=time.time()\n",
    "for i in tqdm(range(len(index_text))):\n",
    "    index_text[i] = process(index_text[i])\n",
    "\n"
   ]
  },
  {
   "cell_type": "code",
   "execution_count": 12,
   "id": "ce41ceaa",
   "metadata": {
    "execution": {
     "iopub.execute_input": "2022-06-27T17:14:14.281746Z",
     "iopub.status.busy": "2022-06-27T17:14:14.281254Z",
     "iopub.status.idle": "2022-06-27T17:14:16.309107Z",
     "shell.execute_reply": "2022-06-27T17:14:16.307814Z"
    },
    "papermill": {
     "duration": 2.057903,
     "end_time": "2022-06-27T17:14:16.313906",
     "exception": false,
     "start_time": "2022-06-27T17:14:14.256003",
     "status": "completed"
    },
    "tags": []
   },
   "outputs": [
    {
     "name": "stderr",
     "output_type": "stream",
     "text": [
      "100%|██████████| 5422/5422 [00:02<00:00, 2687.89it/s]"
     ]
    },
    {
     "name": "stdout",
     "output_type": "stream",
     "text": [
      "33.869304180145264\n"
     ]
    },
    {
     "name": "stderr",
     "output_type": "stream",
     "text": [
      "\n"
     ]
    }
   ],
   "source": [
    "for i in tqdm(range(len(index_text))):\n",
    "    index_text[i] = \" \".join(index_text[i])\n",
    "end=time.time()\n",
    "print(end-start)"
   ]
  },
  {
   "cell_type": "code",
   "execution_count": 13,
   "id": "33876551",
   "metadata": {
    "execution": {
     "iopub.execute_input": "2022-06-27T17:14:16.364550Z",
     "iopub.status.busy": "2022-06-27T17:14:16.364172Z",
     "iopub.status.idle": "2022-06-27T17:14:16.374236Z",
     "shell.execute_reply": "2022-06-27T17:14:16.372905Z"
    },
    "papermill": {
     "duration": 0.037723,
     "end_time": "2022-06-27T17:14:16.376651",
     "exception": false,
     "start_time": "2022-06-27T17:14:16.338928",
     "status": "completed"
    },
    "tags": []
   },
   "outputs": [
    {
     "data": {
      "text/plain": [
       "0       NAME INDEX TO VOLUME 7 OF LETTERS SENT , JULY ...\n",
       "1       Boyd , J. F. Col. 19 , 41 Boyden , James 116 B...\n",
       "2       Chur , J. F. Capt . 139 Cilley , Clinton A. Ma...\n",
       "3       Elijah 176 Eliza 172 Emery , Charles Capt . 3 ...\n",
       "4       Hale , Capt . 51 Hambrich , P.R . Capt . 9 Han...\n",
       "                              ...                        \n",
       "5417                    Names Locations of Teachers Ala .\n",
       "5418    THE NATIONAL ARCHIVES OF THE UNITED STATES Nam...\n",
       "5419    Continued . Hattie L. Newcomb Demopolis Maggie...\n",
       "5420    Continued . Hattie L. Newcomb Demopolis Maggie...\n",
       "5421    Continued W. W. Oslim Oak Bowery James Nichols...\n",
       "Name: transcription_text, Length: 5422, dtype: object"
      ]
     },
     "execution_count": 13,
     "metadata": {},
     "output_type": "execute_result"
    }
   ],
   "source": [
    "index_text"
   ]
  },
  {
   "cell_type": "code",
   "execution_count": 14,
   "id": "0ba5d863",
   "metadata": {
    "execution": {
     "iopub.execute_input": "2022-06-27T17:14:16.427219Z",
     "iopub.status.busy": "2022-06-27T17:14:16.426847Z",
     "iopub.status.idle": "2022-06-27T17:14:16.432815Z",
     "shell.execute_reply": "2022-06-27T17:14:16.431595Z"
    },
    "papermill": {
     "duration": 0.034075,
     "end_time": "2022-06-27T17:14:16.435180",
     "exception": false,
     "start_time": "2022-06-27T17:14:16.401105",
     "status": "completed"
    },
    "tags": []
   },
   "outputs": [
    {
     "name": "stdout",
     "output_type": "stream",
     "text": [
      "NAME INDEX TO VOLUME 7 OF LETTERS SENT , JULY 1865JULY 1867 . PAGES 1179 Abbott , Lyman Rev . 26 Adams , John Q . 37 Allen , Moses H. 5 Almy , George C. Capt . 128 Anderson , James H. Lt. 88 , 91 , 121 Archy , Mose 173 Armsby , Lawrence Chaplain 4 Armstrong , S. C. 112 Bardham , H. A. Atty . 178 Barnes , Haywood 93 Barnes , William 39 Barnitt , John C. Capt . 4 , 8 , 22 , 36 , 49 , 50 , 69 , 74 , 97 Barringer , Victor C. 172 Beadle , W. H. H. Bvt . Lt. Col. 90 , 95 Beal Capt . 2 Beal , James H. 100 Beath , Robert B. Capt . 14 Beecher , Fred H. Lt. 92 , 121 Bell , S. A . A . A. Surg . 153 Bellamy , John D. 56 Binning Lt. 164 Birdsall Lt. 20 , 21 Blunt , Hargate Blunt 42 Bond , Henry A . 175 Bowen , John J. Capt . 1\n"
     ]
    }
   ],
   "source": [
    "print(index_text[0])"
   ]
  },
  {
   "cell_type": "code",
   "execution_count": null,
   "id": "01d794fd",
   "metadata": {
    "papermill": {
     "duration": 0.023919,
     "end_time": "2022-06-27T17:14:16.483176",
     "exception": false,
     "start_time": "2022-06-27T17:14:16.459257",
     "status": "completed"
    },
    "tags": []
   },
   "outputs": [],
   "source": []
  }
 ],
 "metadata": {
  "kernelspec": {
   "display_name": "Python 3",
   "language": "python",
   "name": "python3"
  },
  "language_info": {
   "codemirror_mode": {
    "name": "ipython",
    "version": 3
   },
   "file_extension": ".py",
   "mimetype": "text/x-python",
   "name": "python",
   "nbconvert_exporter": "python",
   "pygments_lexer": "ipython3",
   "version": "3.7.12"
  },
  "papermill": {
   "default_parameters": {},
   "duration": 59.64849,
   "end_time": "2022-06-27T17:14:19.814367",
   "environment_variables": {},
   "exception": null,
   "input_path": "__notebook__.ipynb",
   "output_path": "__notebook__.ipynb",
   "parameters": {},
   "start_time": "2022-06-27T17:13:20.165877",
   "version": "2.3.4"
  }
 },
 "nbformat": 4,
 "nbformat_minor": 5
}
