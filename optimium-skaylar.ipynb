{
 "cells": [
  {
   "cell_type": "code",
   "execution_count": 1,
   "id": "8c3bb14a",
   "metadata": {
    "_cell_guid": "b1076dfc-b9ad-4769-8c92-a6c4dae69d19",
    "_kg_hide-output": true,
    "_uuid": "8f2839f25d086af736a60e9eeb907d3b93b6e0e5",
    "execution": {
     "iopub.execute_input": "2022-07-13T17:26:49.614016Z",
     "iopub.status.busy": "2022-07-13T17:26:49.613581Z",
     "iopub.status.idle": "2022-07-13T17:26:51.612506Z",
     "shell.execute_reply": "2022-07-13T17:26:51.611172Z"
    },
    "papermill": {
     "duration": 2.018929,
     "end_time": "2022-07-13T17:26:51.615569",
     "exception": false,
     "start_time": "2022-07-13T17:26:49.596640",
     "status": "completed"
    },
    "tags": []
   },
   "outputs": [],
   "source": [
    "# !pip install flair\n",
    "import time\n",
    "import string\n",
    "import warnings\n",
    "\n",
    "import regex as re\n",
    "from tqdm import tqdm\n",
    "\n",
    "\n",
    "import pickle\n",
    "import numpy as np\n",
    "import pandas as pd \n",
    "\n",
    "import seaborn as sns\n",
    "import matplotlib.pyplot as plt \n",
    "import matplotlib.style as stl \n",
    "\n",
    "\n",
    "\n",
    "from nltk.corpus import stopwords\n",
    "from nltk.corpus import stopwords\n",
    "from nltk.tokenize import word_tokenize\n",
    "from nltk.stem import WordNetLemmatizer\n",
    "from nltk.stem.snowball import SnowballStemmer\n",
    "\n",
    "\n",
    "warnings.filterwarnings(\"ignore\")"
   ]
  },
  {
   "cell_type": "code",
   "execution_count": 2,
   "id": "59fc559d",
   "metadata": {
    "execution": {
     "iopub.execute_input": "2022-07-13T17:26:51.645371Z",
     "iopub.status.busy": "2022-07-13T17:26:51.644931Z",
     "iopub.status.idle": "2022-07-13T17:26:59.825164Z",
     "shell.execute_reply": "2022-07-13T17:26:59.823929Z"
    },
    "papermill": {
     "duration": 8.198104,
     "end_time": "2022-07-13T17:26:59.828156",
     "exception": false,
     "start_time": "2022-07-13T17:26:51.630052",
     "status": "completed"
    },
    "tags": []
   },
   "outputs": [],
   "source": [
    "documents = pd.read_csv(\"../input/skylarfreedman/Documents-Table 1.csv\", on_bad_lines='skip', sep=\";\")"
   ]
  },
  {
   "cell_type": "code",
   "execution_count": 3,
   "id": "03b018a8",
   "metadata": {
    "execution": {
     "iopub.execute_input": "2022-07-13T17:26:59.856219Z",
     "iopub.status.busy": "2022-07-13T17:26:59.855825Z",
     "iopub.status.idle": "2022-07-13T17:26:59.921428Z",
     "shell.execute_reply": "2022-07-13T17:26:59.920457Z"
    },
    "papermill": {
     "duration": 0.082686,
     "end_time": "2022-07-13T17:26:59.924032",
     "exception": false,
     "start_time": "2022-07-13T17:26:59.841346",
     "status": "completed"
    },
    "tags": []
   },
   "outputs": [],
   "source": [
    "contract = documents[documents.Category == \"Contracts\"]\n",
    "contract = contract[[\"document_id\", \"project_id\", \"transcription_text\"]]"
   ]
  },
  {
   "cell_type": "code",
   "execution_count": 4,
   "id": "bab39d9a",
   "metadata": {
    "execution": {
     "iopub.execute_input": "2022-07-13T17:26:59.953450Z",
     "iopub.status.busy": "2022-07-13T17:26:59.953040Z",
     "iopub.status.idle": "2022-07-13T17:26:59.966304Z",
     "shell.execute_reply": "2022-07-13T17:26:59.965235Z"
    },
    "papermill": {
     "duration": 0.031309,
     "end_time": "2022-07-13T17:26:59.968931",
     "exception": false,
     "start_time": "2022-07-13T17:26:59.937622",
     "status": "completed"
    },
    "tags": []
   },
   "outputs": [],
   "source": [
    "contract = contract[pd.notnull(contract['transcription_text'])]\n",
    "contract = contract.reset_index(drop=True)"
   ]
  },
  {
   "cell_type": "markdown",
   "id": "072d131f",
   "metadata": {
    "papermill": {
     "duration": 0.013271,
     "end_time": "2022-07-13T17:26:59.995405",
     "exception": false,
     "start_time": "2022-07-13T17:26:59.982134",
     "status": "completed"
    },
    "tags": []
   },
   "source": [
    "# Preprocessing"
   ]
  },
  {
   "cell_type": "code",
   "execution_count": 5,
   "id": "5fe9523a",
   "metadata": {
    "execution": {
     "iopub.execute_input": "2022-07-13T17:27:00.024468Z",
     "iopub.status.busy": "2022-07-13T17:27:00.024060Z",
     "iopub.status.idle": "2022-07-13T17:27:00.037578Z",
     "shell.execute_reply": "2022-07-13T17:27:00.036718Z"
    },
    "papermill": {
     "duration": 0.031061,
     "end_time": "2022-07-13T17:27:00.039928",
     "exception": false,
     "start_time": "2022-07-13T17:27:00.008867",
     "status": "completed"
    },
    "tags": []
   },
   "outputs": [],
   "source": [
    "stop_words = set(stopwords.words('english'))\n",
    "punctuation = string.punctuation\n",
    "stemmer = SnowballStemmer(language=\"english\")\n",
    "lemmatizer = WordNetLemmatizer()\n",
    "stop_words.remove(\"of\")\n",
    "punct='!\"#$%&\\'()*+-/<=>?@[\\\\]^_`{|}~'\n",
    "\n",
    "def process(s):\n",
    "    \"\"\"Removes stop words, words in brackets\n",
    "    and parentheses, and special characters.\n",
    "    \"\"\"\n",
    "    \n",
    "    s= re.sub(\"([\\(\\[]).*?([\\)\\]])\",\" \",s)\n",
    "    for p in punct:\n",
    "        s = s.replace(p, '')\n",
    "    s = word_tokenize(s)\n",
    "    s = [w for w in s if not w in stop_words] #optional\n",
    "    return s"
   ]
  },
  {
   "cell_type": "code",
   "execution_count": 6,
   "id": "d836d9b6",
   "metadata": {
    "execution": {
     "iopub.execute_input": "2022-07-13T17:27:00.068452Z",
     "iopub.status.busy": "2022-07-13T17:27:00.067739Z",
     "iopub.status.idle": "2022-07-13T17:27:45.563444Z",
     "shell.execute_reply": "2022-07-13T17:27:45.562532Z"
    },
    "papermill": {
     "duration": 45.512847,
     "end_time": "2022-07-13T17:27:45.566023",
     "exception": false,
     "start_time": "2022-07-13T17:27:00.053176",
     "status": "completed"
    },
    "tags": []
   },
   "outputs": [],
   "source": [
    "contract[\"processed_text\"] = contract[\"transcription_text\"].apply(process)\n",
    "contract[\"processed_text\"] = contract[\"processed_text\"].apply(lambda x: \" \".join(x))"
   ]
  },
  {
   "cell_type": "code",
   "execution_count": 7,
   "id": "d21aec19",
   "metadata": {
    "execution": {
     "iopub.execute_input": "2022-07-13T17:27:45.594463Z",
     "iopub.status.busy": "2022-07-13T17:27:45.594065Z",
     "iopub.status.idle": "2022-07-13T17:27:45.609162Z",
     "shell.execute_reply": "2022-07-13T17:27:45.608081Z"
    },
    "papermill": {
     "duration": 0.032667,
     "end_time": "2022-07-13T17:27:45.612148",
     "exception": false,
     "start_time": "2022-07-13T17:27:45.579481",
     "status": "completed"
    },
    "tags": []
   },
   "outputs": [],
   "source": [
    "def parse_table_to_dict(example) :\n",
    "    \n",
    "    def clean_record(x) :\n",
    "        if x.strip() == \"\":\n",
    "            return \" \"\n",
    "        return x.strip().replace(\"{\", \"\").replace(\"}\", \"\")\n",
    "\n",
    "    table_dict = {}\n",
    "\n",
    "    if \"name\" in example[0].lower():\n",
    "\n",
    "        cols = []\n",
    "        for col in example[0].split(\"|\"):\n",
    "            if col.strip() == \"\":\n",
    "                cols.append(col)\n",
    "            else:\n",
    "                cols.append(col.strip().lower().replace(\" \", \"_\").replace(\".\", \"\"))\n",
    "\n",
    "        values = np.array([list(map(clean_record, i.split(\"|\"))) for i in example[1:]])\n",
    "\n",
    "    else:\n",
    "\n",
    "        n_cols = len(example[0].split(\"|\"))\n",
    "        cols = [f\"col_{i}\" for i in range(n_cols)]\n",
    "\n",
    "        values = np.array([list(map(clean_record, i.split(\"|\"))) for i in example])\n",
    "        \n",
    "    \n",
    "    #Remove empty rows ([\"----\", \"-----\", \"-----\"])\n",
    "    new_values = []\n",
    "    for line in values:\n",
    "        line_chars = list(set(\"\".join([i.strip() for i in line])))\n",
    "        \n",
    "        if len(line_chars) != 0 and (line_chars[0] != \"-\" or len(line_chars) != 0):\n",
    "            new_values.append(line.tolist())\n",
    "            \n",
    "    values = np.array(new_values)\n",
    "            \n",
    "    if values.reshape(-1).shape[0] != 0:\n",
    "        for i, col in enumerate(cols):\n",
    "            table_dict[col] = values[:, i].tolist()\n",
    "            \n",
    "        return table_dict\n",
    "    \n",
    "    else:\n",
    "        \n",
    "        return {} "
   ]
  },
  {
   "cell_type": "code",
   "execution_count": 8,
   "id": "64caf4d0",
   "metadata": {
    "execution": {
     "iopub.execute_input": "2022-07-13T17:27:45.640420Z",
     "iopub.status.busy": "2022-07-13T17:27:45.639444Z",
     "iopub.status.idle": "2022-07-13T17:27:45.661422Z",
     "shell.execute_reply": "2022-07-13T17:27:45.660345Z"
    },
    "papermill": {
     "duration": 0.039229,
     "end_time": "2022-07-13T17:27:45.664329",
     "exception": false,
     "start_time": "2022-07-13T17:27:45.625100",
     "status": "completed"
    },
    "tags": []
   },
   "outputs": [
    {
     "data": {
      "text/html": [
       "<div>\n",
       "<style scoped>\n",
       "    .dataframe tbody tr th:only-of-type {\n",
       "        vertical-align: middle;\n",
       "    }\n",
       "\n",
       "    .dataframe tbody tr th {\n",
       "        vertical-align: top;\n",
       "    }\n",
       "\n",
       "    .dataframe thead th {\n",
       "        text-align: right;\n",
       "    }\n",
       "</style>\n",
       "<table border=\"1\" class=\"dataframe\">\n",
       "  <thead>\n",
       "    <tr style=\"text-align: right;\">\n",
       "      <th></th>\n",
       "      <th>document_id</th>\n",
       "      <th>project_id</th>\n",
       "      <th>transcription_text</th>\n",
       "      <th>processed_text</th>\n",
       "    </tr>\n",
       "  </thead>\n",
       "  <tbody>\n",
       "    <tr>\n",
       "      <th>0</th>\n",
       "      <td>NMAAHC-004567394_00861</td>\n",
       "      <td>11400</td>\n",
       "      <td>[D104 ENCL]\\r\\nNorth Carolina\\r\\nThis indentur...</td>\n",
       "      <td>North Carolina This indenture made entered Thi...</td>\n",
       "    </tr>\n",
       "    <tr>\n",
       "      <th>1</th>\n",
       "      <td>NMAAHC-004567394_00957</td>\n",
       "      <td>11400</td>\n",
       "      <td>[E 11 ENCL] \\r\\n\\r\\n\\r\\nState of North Carolin...</td>\n",
       "      <td>State of North Carolina Currituck County . Thi...</td>\n",
       "    </tr>\n",
       "    <tr>\n",
       "      <th>2</th>\n",
       "      <td>NMAAHC-004567394_00958</td>\n",
       "      <td>11400</td>\n",
       "      <td>near Lizzie Etheridge's gate, thence South 56 ...</td>\n",
       "      <td>near Lizzie Etheridges gate , thence South 56 ...</td>\n",
       "    </tr>\n",
       "    <tr>\n",
       "      <th>3</th>\n",
       "      <td>NMAAHC-004567395_00439</td>\n",
       "      <td>11406</td>\n",
       "      <td>Copy\\r\\n\\r\\nAgreement of Apprenticeship\\r\\nBu ...</td>\n",
       "      <td>Copy Agreement of Apprenticeship Bu Mrs. Kate ...</td>\n",
       "    </tr>\n",
       "    <tr>\n",
       "      <th>4</th>\n",
       "      <td>NMAAHC-004567395_00440</td>\n",
       "      <td>11406</td>\n",
       "      <td>[H 132 ENCL] \\r\\n\\r\\nCopy\\r\\n\\r\\nAgreement of ...</td>\n",
       "      <td>Copy Agreement of Apprenticeship . This agreem...</td>\n",
       "    </tr>\n",
       "    <tr>\n",
       "      <th>...</th>\n",
       "      <td>...</td>\n",
       "      <td>...</td>\n",
       "      <td>...</td>\n",
       "      <td>...</td>\n",
       "    </tr>\n",
       "    <tr>\n",
       "      <th>23724</th>\n",
       "      <td>NMAAHC-007677332_01525</td>\n",
       "      <td>41539</td>\n",
       "      <td>\\N</td>\n",
       "      <td>N</td>\n",
       "    </tr>\n",
       "    <tr>\n",
       "      <th>23725</th>\n",
       "      <td>NMAAHC-007677332_01526</td>\n",
       "      <td>41539</td>\n",
       "      <td>\\N</td>\n",
       "      <td>N</td>\n",
       "    </tr>\n",
       "    <tr>\n",
       "      <th>23726</th>\n",
       "      <td>NMAAHC-007677332_01527</td>\n",
       "      <td>41539</td>\n",
       "      <td>\\N</td>\n",
       "      <td>N</td>\n",
       "    </tr>\n",
       "    <tr>\n",
       "      <th>23727</th>\n",
       "      <td>NMAAHC-007677332_01528</td>\n",
       "      <td>41539</td>\n",
       "      <td>Jo</td>\n",
       "      <td>Jo</td>\n",
       "    </tr>\n",
       "    <tr>\n",
       "      <th>23728</th>\n",
       "      <td>NMAAHC-007677332_01529</td>\n",
       "      <td>41539</td>\n",
       "      <td>\\N</td>\n",
       "      <td>N</td>\n",
       "    </tr>\n",
       "  </tbody>\n",
       "</table>\n",
       "<p>23729 rows × 4 columns</p>\n",
       "</div>"
      ],
      "text/plain": [
       "                  document_id  project_id  \\\n",
       "0      NMAAHC-004567394_00861       11400   \n",
       "1      NMAAHC-004567394_00957       11400   \n",
       "2      NMAAHC-004567394_00958       11400   \n",
       "3      NMAAHC-004567395_00439       11406   \n",
       "4      NMAAHC-004567395_00440       11406   \n",
       "...                       ...         ...   \n",
       "23724  NMAAHC-007677332_01525       41539   \n",
       "23725  NMAAHC-007677332_01526       41539   \n",
       "23726  NMAAHC-007677332_01527       41539   \n",
       "23727  NMAAHC-007677332_01528       41539   \n",
       "23728  NMAAHC-007677332_01529       41539   \n",
       "\n",
       "                                      transcription_text  \\\n",
       "0      [D104 ENCL]\\r\\nNorth Carolina\\r\\nThis indentur...   \n",
       "1      [E 11 ENCL] \\r\\n\\r\\n\\r\\nState of North Carolin...   \n",
       "2      near Lizzie Etheridge's gate, thence South 56 ...   \n",
       "3      Copy\\r\\n\\r\\nAgreement of Apprenticeship\\r\\nBu ...   \n",
       "4      [H 132 ENCL] \\r\\n\\r\\nCopy\\r\\n\\r\\nAgreement of ...   \n",
       "...                                                  ...   \n",
       "23724                                                 \\N   \n",
       "23725                                                 \\N   \n",
       "23726                                                 \\N   \n",
       "23727                                                 Jo   \n",
       "23728                                                 \\N   \n",
       "\n",
       "                                          processed_text  \n",
       "0      North Carolina This indenture made entered Thi...  \n",
       "1      State of North Carolina Currituck County . Thi...  \n",
       "2      near Lizzie Etheridges gate , thence South 56 ...  \n",
       "3      Copy Agreement of Apprenticeship Bu Mrs. Kate ...  \n",
       "4      Copy Agreement of Apprenticeship . This agreem...  \n",
       "...                                                  ...  \n",
       "23724                                                  N  \n",
       "23725                                                  N  \n",
       "23726                                                  N  \n",
       "23727                                                 Jo  \n",
       "23728                                                  N  \n",
       "\n",
       "[23729 rows x 4 columns]"
      ]
     },
     "execution_count": 8,
     "metadata": {},
     "output_type": "execute_result"
    }
   ],
   "source": [
    "contract"
   ]
  },
  {
   "cell_type": "code",
   "execution_count": 9,
   "id": "6f9cea56",
   "metadata": {
    "execution": {
     "iopub.execute_input": "2022-07-13T17:27:45.693471Z",
     "iopub.status.busy": "2022-07-13T17:27:45.692714Z",
     "iopub.status.idle": "2022-07-13T17:27:46.379384Z",
     "shell.execute_reply": "2022-07-13T17:27:46.377827Z"
    },
    "papermill": {
     "duration": 0.704649,
     "end_time": "2022-07-13T17:27:46.382390",
     "exception": false,
     "start_time": "2022-07-13T17:27:45.677741",
     "status": "completed"
    },
    "tags": []
   },
   "outputs": [],
   "source": [
    "contract_text = contract.transcription_text.tolist()\n",
    "\n",
    "lns = []\n",
    "tables_extracted = []\n",
    "all_table_pairs = []\n",
    "idx = 0\n",
    "\n",
    "for table_text in contract_text:\n",
    "\n",
    "    tmp_tables = []\n",
    "    table_text = table_text.replace(\"[\", \"\").replace(\"]\", \"\").replace(\"^\", \"\")\n",
    "    \n",
    "    lines = table_text.split(\"\\n\")\n",
    "    lines = [i for i in lines if len(i.strip()) != 0]\n",
    "    \n",
    "    separator_counts = []\n",
    "    table_pairs  = []\n",
    "    \n",
    "    start = 0\n",
    "    end = 0\n",
    "    streak = 0\n",
    "    \n",
    "    for line_n, line in enumerate(lines):\n",
    "        \n",
    "        separator_count = line.count(\"|\")   \n",
    "        \n",
    "        condition_1 = len(separator_counts) == 0 or separator_count == separator_counts[-1]\n",
    "        condition_2 = separator_count != 0\n",
    "            \n",
    "        #If you find the beginning of a table, take note\n",
    "        if condition_1 and condition_2:\n",
    "            if streak == 0:\n",
    "                start = line_n\n",
    "            streak += 1\n",
    "        else:\n",
    "            if streak != 0:\n",
    "                table_pairs.append((start, line_n))\n",
    "                all_table_pairs.append((start, line_n, idx))\n",
    "            streak = 0\n",
    "            start = 0\n",
    "    \n",
    "        separator_counts.append(separator_count)\n",
    "        \n",
    "    if streak > 0:\n",
    "        table_pairs.append((start, line_n))\n",
    "        all_table_pairs.append((start, line_n, idx))\n",
    "        \n",
    "    if len(table_pairs) > 0:\n",
    "        for i, pair in enumerate(table_pairs):\n",
    "            table = lines[pair[0]-1:pair[1]]\n",
    "            tmp_tables.append(table)\n",
    "            \n",
    "        tables_extracted.append(tmp_tables[0])\n",
    "        \n",
    "    else:\n",
    "        tables_extracted.append([])\n",
    "        \n",
    "        \n",
    "    idx += 1\n",
    "        "
   ]
  },
  {
   "cell_type": "code",
   "execution_count": 10,
   "id": "e55f18af",
   "metadata": {
    "execution": {
     "iopub.execute_input": "2022-07-13T17:27:46.411381Z",
     "iopub.status.busy": "2022-07-13T17:27:46.410619Z",
     "iopub.status.idle": "2022-07-13T17:27:46.422983Z",
     "shell.execute_reply": "2022-07-13T17:27:46.421705Z"
    },
    "papermill": {
     "duration": 0.030734,
     "end_time": "2022-07-13T17:27:46.426491",
     "exception": false,
     "start_time": "2022-07-13T17:27:46.395757",
     "status": "completed"
    },
    "tags": []
   },
   "outputs": [
    {
     "name": "stdout",
     "output_type": "stream",
     "text": [
      "4475\n"
     ]
    }
   ],
   "source": [
    "nb=0\n",
    "for example in (tables_extracted):\n",
    "    if len(example)> 0 :\n",
    "        nb=nb+1\n",
    "print(nb)"
   ]
  },
  {
   "cell_type": "code",
   "execution_count": 11,
   "id": "24f1bbf0",
   "metadata": {
    "execution": {
     "iopub.execute_input": "2022-07-13T17:27:46.456467Z",
     "iopub.status.busy": "2022-07-13T17:27:46.455673Z",
     "iopub.status.idle": "2022-07-13T17:27:47.748969Z",
     "shell.execute_reply": "2022-07-13T17:27:47.747802Z"
    },
    "papermill": {
     "duration": 1.311135,
     "end_time": "2022-07-13T17:27:47.751933",
     "exception": false,
     "start_time": "2022-07-13T17:27:46.440798",
     "status": "completed"
    },
    "tags": []
   },
   "outputs": [],
   "source": [
    "dcts = []\n",
    "L=[]\n",
    "nxt=[]\n",
    "for i, example in enumerate(tables_extracted):\n",
    "    if example != [] and len(example) > 0:\n",
    "        L.append(example)\n",
    "        dcts.append(parse_table_to_dict(example))\n",
    "        nxt.append(parse_table_to_dict(example))\n",
    "    else:\n",
    "        dcts.append({})"
   ]
  },
  {
   "cell_type": "code",
   "execution_count": 12,
   "id": "28be6d2d",
   "metadata": {
    "execution": {
     "iopub.execute_input": "2022-07-13T17:27:47.780097Z",
     "iopub.status.busy": "2022-07-13T17:27:47.779710Z",
     "iopub.status.idle": "2022-07-13T17:27:47.790428Z",
     "shell.execute_reply": "2022-07-13T17:27:47.789211Z"
    },
    "papermill": {
     "duration": 0.027501,
     "end_time": "2022-07-13T17:27:47.792707",
     "exception": false,
     "start_time": "2022-07-13T17:27:47.765206",
     "status": "completed"
    },
    "tags": []
   },
   "outputs": [],
   "source": [
    "l=[]\n",
    "for i in tables_extracted:\n",
    "    if len(i)>0:\n",
    "        l.append(i)"
   ]
  },
  {
   "cell_type": "code",
   "execution_count": 13,
   "id": "fa235a94",
   "metadata": {
    "execution": {
     "iopub.execute_input": "2022-07-13T17:27:47.822046Z",
     "iopub.status.busy": "2022-07-13T17:27:47.821245Z",
     "iopub.status.idle": "2022-07-13T17:27:47.827954Z",
     "shell.execute_reply": "2022-07-13T17:27:47.827030Z"
    },
    "papermill": {
     "duration": 0.023613,
     "end_time": "2022-07-13T17:27:47.830138",
     "exception": false,
     "start_time": "2022-07-13T17:27:47.806525",
     "status": "completed"
    },
    "tags": []
   },
   "outputs": [
    {
     "data": {
      "text/plain": [
       "4475"
      ]
     },
     "execution_count": 13,
     "metadata": {},
     "output_type": "execute_result"
    }
   ],
   "source": [
    "len(l)"
   ]
  },
  {
   "cell_type": "code",
   "execution_count": 14,
   "id": "228bd60e",
   "metadata": {
    "execution": {
     "iopub.execute_input": "2022-07-13T17:27:47.859011Z",
     "iopub.status.busy": "2022-07-13T17:27:47.858215Z",
     "iopub.status.idle": "2022-07-13T17:27:47.870893Z",
     "shell.execute_reply": "2022-07-13T17:27:47.869624Z"
    },
    "papermill": {
     "duration": 0.02989,
     "end_time": "2022-07-13T17:27:47.873359",
     "exception": false,
     "start_time": "2022-07-13T17:27:47.843469",
     "status": "completed"
    },
    "tags": []
   },
   "outputs": [
    {
     "name": "stdout",
     "output_type": "stream",
     "text": [
      "4446\n"
     ]
    }
   ],
   "source": [
    "nb=0\n",
    "for example in(dcts):\n",
    "    if len(example)  > 0 :\n",
    "        nb=nb+1\n",
    "print(nb)"
   ]
  },
  {
   "cell_type": "markdown",
   "id": "59798624",
   "metadata": {
    "papermill": {
     "duration": 0.013497,
     "end_time": "2022-07-13T17:27:47.900368",
     "exception": false,
     "start_time": "2022-07-13T17:27:47.886871",
     "status": "completed"
    },
    "tags": []
   },
   "source": [
    "## Getting tables"
   ]
  },
  {
   "cell_type": "code",
   "execution_count": 15,
   "id": "dcae63a6",
   "metadata": {
    "execution": {
     "iopub.execute_input": "2022-07-13T17:27:47.930214Z",
     "iopub.status.busy": "2022-07-13T17:27:47.929095Z",
     "iopub.status.idle": "2022-07-13T17:27:48.626773Z",
     "shell.execute_reply": "2022-07-13T17:27:48.625655Z"
    },
    "papermill": {
     "duration": 0.715641,
     "end_time": "2022-07-13T17:27:48.629662",
     "exception": false,
     "start_time": "2022-07-13T17:27:47.914021",
     "status": "completed"
    },
    "tags": []
   },
   "outputs": [],
   "source": [
    "contract_text = contract.transcription_text.tolist()\n",
    "\n",
    "lns = []\n",
    "tables_extracted = []\n",
    "all_table_pairs = []\n",
    "idx = 0\n",
    "\n",
    "for table_text in contract_text:\n",
    "\n",
    "    tmp_tables = []\n",
    "    table_text = table_text.replace(\"[\", \"\").replace(\"]\", \"\").replace(\"^\", \"\")\n",
    "    \n",
    "    lines = table_text.split(\"\\n\")\n",
    "    lines = [i for i in lines if len(i.strip()) != 0]\n",
    "    \n",
    "    separator_counts = []\n",
    "    table_pairs  = []\n",
    "    \n",
    "    start = 0\n",
    "    end = 0\n",
    "    streak = 0\n",
    "    \n",
    "    for line_n, line in enumerate(lines):\n",
    "        \n",
    "        separator_count = line.count(\"|\")   \n",
    "        \n",
    "        condition_1 = len(separator_counts) == 0 or separator_count == separator_counts[-1]\n",
    "        condition_2 = separator_count != 0\n",
    "            \n",
    "        #If you find the beginning of a table, take note ,condition_1 and\n",
    "        if condition_1 and condition_2:\n",
    "            if streak == 0:\n",
    "                start = line_n\n",
    "            streak += 1\n",
    "        else:\n",
    "            if streak != 0:\n",
    "                table_pairs.append((start, line_n))\n",
    "                all_table_pairs.append((start, line_n, idx))\n",
    "            streak = 0\n",
    "            start = 0\n",
    "    \n",
    "        separator_counts.append(separator_count)\n",
    "        \n",
    "    if streak > 0:\n",
    "        table_pairs.append((start, line_n))\n",
    "        all_table_pairs.append((start, line_n, idx))\n",
    "        \n",
    "    if len(table_pairs) > 0:\n",
    "        for i, pair in enumerate(table_pairs):\n",
    "            table = lines[pair[0]-1:pair[1]]\n",
    "            tmp_tables.append(table)\n",
    "            \n",
    "        tables_extracted.append(tmp_tables[0])\n",
    "        \n",
    "    else:\n",
    "        tables_extracted.append([])\n",
    "        \n",
    "        \n",
    "    idx += 1\n",
    "        "
   ]
  },
  {
   "cell_type": "code",
   "execution_count": 16,
   "id": "3e96378c",
   "metadata": {
    "execution": {
     "iopub.execute_input": "2022-07-13T17:27:48.659229Z",
     "iopub.status.busy": "2022-07-13T17:27:48.658839Z",
     "iopub.status.idle": "2022-07-13T17:27:48.665373Z",
     "shell.execute_reply": "2022-07-13T17:27:48.664253Z"
    },
    "papermill": {
     "duration": 0.024481,
     "end_time": "2022-07-13T17:27:48.667807",
     "exception": false,
     "start_time": "2022-07-13T17:27:48.643326",
     "status": "completed"
    },
    "tags": []
   },
   "outputs": [
    {
     "data": {
      "text/plain": [
       "23729"
      ]
     },
     "execution_count": 16,
     "metadata": {},
     "output_type": "execute_result"
    }
   ],
   "source": [
    "idx"
   ]
  },
  {
   "cell_type": "code",
   "execution_count": 17,
   "id": "daaf67bf",
   "metadata": {
    "execution": {
     "iopub.execute_input": "2022-07-13T17:27:48.696975Z",
     "iopub.status.busy": "2022-07-13T17:27:48.696616Z",
     "iopub.status.idle": "2022-07-13T17:27:48.711239Z",
     "shell.execute_reply": "2022-07-13T17:27:48.709632Z"
    },
    "papermill": {
     "duration": 0.032012,
     "end_time": "2022-07-13T17:27:48.713530",
     "exception": false,
     "start_time": "2022-07-13T17:27:48.681518",
     "status": "completed"
    },
    "tags": []
   },
   "outputs": [
    {
     "name": "stdout",
     "output_type": "stream",
     "text": [
      "4475\n"
     ]
    }
   ],
   "source": [
    "nb=0\n",
    "for i, example in enumerate(tables_extracted):\n",
    "    if len(example)!= 0 :\n",
    "        nb=nb+1\n",
    "print(nb)"
   ]
  },
  {
   "cell_type": "code",
   "execution_count": 18,
   "id": "dd53d7a1",
   "metadata": {
    "execution": {
     "iopub.execute_input": "2022-07-13T17:27:48.743275Z",
     "iopub.status.busy": "2022-07-13T17:27:48.742388Z",
     "iopub.status.idle": "2022-07-13T17:27:49.436808Z",
     "shell.execute_reply": "2022-07-13T17:27:49.435565Z"
    },
    "papermill": {
     "duration": 0.712244,
     "end_time": "2022-07-13T17:27:49.439633",
     "exception": false,
     "start_time": "2022-07-13T17:27:48.727389",
     "status": "completed"
    },
    "tags": []
   },
   "outputs": [],
   "source": [
    "dcts = []\n",
    "\n",
    "for i, example in enumerate(tables_extracted):\n",
    "    if example != [] and len(example) > 0:\n",
    "        dcts.append(parse_table_to_dict(example))\n",
    "    else:\n",
    "        dcts.append({})\n",
    "        "
   ]
  },
  {
   "cell_type": "code",
   "execution_count": 19,
   "id": "319df34c",
   "metadata": {
    "execution": {
     "iopub.execute_input": "2022-07-13T17:27:49.469161Z",
     "iopub.status.busy": "2022-07-13T17:27:49.468782Z",
     "iopub.status.idle": "2022-07-13T17:27:49.488454Z",
     "shell.execute_reply": "2022-07-13T17:27:49.487298Z"
    },
    "papermill": {
     "duration": 0.037535,
     "end_time": "2022-07-13T17:27:49.490971",
     "exception": false,
     "start_time": "2022-07-13T17:27:49.453436",
     "status": "completed"
    },
    "tags": []
   },
   "outputs": [],
   "source": [
    "contract[\"tables_parsed\"] = dcts"
   ]
  },
  {
   "cell_type": "code",
   "execution_count": 20,
   "id": "a917a0ed",
   "metadata": {
    "execution": {
     "iopub.execute_input": "2022-07-13T17:27:49.520650Z",
     "iopub.status.busy": "2022-07-13T17:27:49.520250Z",
     "iopub.status.idle": "2022-07-13T17:27:49.536109Z",
     "shell.execute_reply": "2022-07-13T17:27:49.534579Z"
    },
    "papermill": {
     "duration": 0.033913,
     "end_time": "2022-07-13T17:27:49.538712",
     "exception": false,
     "start_time": "2022-07-13T17:27:49.504799",
     "status": "completed"
    },
    "tags": []
   },
   "outputs": [
    {
     "name": "stdout",
     "output_type": "stream",
     "text": [
      "4446\n"
     ]
    }
   ],
   "source": [
    "nb=0\n",
    "for i, example in enumerate(dcts):\n",
    "    if len(example)!= 0 :\n",
    "        nb=nb+1\n",
    "print(nb)"
   ]
  },
  {
   "cell_type": "code",
   "execution_count": 21,
   "id": "3d6609ab",
   "metadata": {
    "execution": {
     "iopub.execute_input": "2022-07-13T17:27:49.568878Z",
     "iopub.status.busy": "2022-07-13T17:27:49.568500Z",
     "iopub.status.idle": "2022-07-13T17:27:49.587495Z",
     "shell.execute_reply": "2022-07-13T17:27:49.586676Z"
    },
    "papermill": {
     "duration": 0.037346,
     "end_time": "2022-07-13T17:27:49.590189",
     "exception": false,
     "start_time": "2022-07-13T17:27:49.552843",
     "status": "completed"
    },
    "tags": []
   },
   "outputs": [
    {
     "name": "stdout",
     "output_type": "stream",
     "text": [
      "182        183\r\n",
      "\r\n",
      "Contracts 1868\r\n",
      "[[6 column table across 2 pages]]\r\n",
      "\r\n",
      "| Date | Employer | Employee |  County | Terms of Contract | Remarks|\r\n",
      "|---|---|---|---|---|---|\r\n",
      "\r\n",
      "| Feby 8 |I D   Langford | Moris Vallandingham Berry Rodnele (F) |Waren | Each hand has 15 Bush corn 150 lbs meat & one fourth crop. pay each for grains not over $5.00 | Filed   copy furnished  Langford Mrch 12/68\r\n",
      "\r\n",
      "| Feby 8 | R.H Pynes | Sam Williams (F) Israel Williams (F) | Granville | One horse furnished by Pyne Pay is 1/2 expenses of the farm & divides the crop equally | Filed | \r\n",
      "\r\n",
      "| Feby 12 | James M. Vaughn | Warren Steed (F) | Waren | Warren furnishes himself & 2 others pays 1/2 [[?]] a/c. & 3 bbls corn & 800 lbs fodder to feeding horse  Crop divided equally. Fertilizers not to cost more that $10 | Filed | \r\n",
      "\r\n",
      "| Feby 13 | John J. Vaughn | Plummer Fritty (F) | Warner | Plummer furnishes himself & 1 other  has 1/2 the crop. pays 4 bbls corn 900 lbs fodder towards feeding horse Plummer has what he makes on a certain lot after paying 1/4 | Filed | \r\n",
      "\r\n",
      "| Feby 13 | James M Vaughn | Caroline Steed (F) | Warner | Vaughn pays $10. 1 pr shoes 10 lbs bush cotton. rations for self & children | Filed | \r\n",
      "\r\n",
      "| Feby 14 | W F. Rowland | E B H Beal (F) & Geo Kittrell (F) | Granville | 1/8 deducted for rent. bal divided equally. Geo furnishes 2 sons [[?]] & Hay and Rowland furnishes 2 horses & feed  Beal draws 1/8 & Kittrell 2/3 of their part of crop | Filed | \r\n",
      "\r\n",
      "| Feby 15 | Phillomen Fritty | Sanford Hawkins (F) | Waren | Sanford hires his son Lewis pays 4 1/2 bbls and 1 hat. 1 pr shoes. feeds & clothes the boy | Filed |\r\n",
      "\r\n",
      "| Feby 15 | Wm A. Cheatham | Charles Brame | Granville | Cheatham pays 1/3 as full for work (pays expenses) Hires wife for $3 pr month | Filed |\n",
      "\n",
      "==========\n",
      "\n"
     ]
    }
   ],
   "source": [
    "for i in (contract[contract.tables_parsed != {}].sample(n=1).transcription_text.tolist()):\n",
    "\n",
    "    print(i)\n",
    "    print(\"\\n==========\\n\")"
   ]
  },
  {
   "cell_type": "code",
   "execution_count": 22,
   "id": "e2747c6c",
   "metadata": {
    "execution": {
     "iopub.execute_input": "2022-07-13T17:27:49.620080Z",
     "iopub.status.busy": "2022-07-13T17:27:49.619688Z",
     "iopub.status.idle": "2022-07-13T17:27:49.624817Z",
     "shell.execute_reply": "2022-07-13T17:27:49.623835Z"
    },
    "papermill": {
     "duration": 0.022946,
     "end_time": "2022-07-13T17:27:49.627174",
     "exception": false,
     "start_time": "2022-07-13T17:27:49.604228",
     "status": "completed"
    },
    "tags": []
   },
   "outputs": [],
   "source": [
    "t=[]\n",
    "t.append(\"\"\"[[9 column table]]\n",
    "| Date of Contract. | Names. | Age. | No. of Classification. |  Names of Dependents. | Age. | Deduction for Depend'nts | Amount of Wages aftr deduction. | Remarks. |\n",
    "| --- | --- | --- | --- | --- | --- | --- | --- | --- |\n",
    "[[table is blank]]\"\"\")"
   ]
  },
  {
   "cell_type": "code",
   "execution_count": 23,
   "id": "5417c428",
   "metadata": {
    "execution": {
     "iopub.execute_input": "2022-07-13T17:27:49.657026Z",
     "iopub.status.busy": "2022-07-13T17:27:49.656651Z",
     "iopub.status.idle": "2022-07-13T17:27:49.661578Z",
     "shell.execute_reply": "2022-07-13T17:27:49.660490Z"
    },
    "papermill": {
     "duration": 0.022731,
     "end_time": "2022-07-13T17:27:49.663833",
     "exception": false,
     "start_time": "2022-07-13T17:27:49.641102",
     "status": "completed"
    },
    "tags": []
   },
   "outputs": [],
   "source": [
    "t.append(\"\"\"[[5 columned table]]\n",
    "| No. | NAMES. | AGE. | RATE of PAY per month. Dols. | RATE of PAY per month. Cents. |         \n",
    "| --- | --- | --- | --- | --- | \n",
    "| 1861 | Phillip Carr | 13 | 100 | 00 |\"\"\")"
   ]
  },
  {
   "cell_type": "code",
   "execution_count": 24,
   "id": "94d2b6ef",
   "metadata": {
    "execution": {
     "iopub.execute_input": "2022-07-13T17:27:49.693363Z",
     "iopub.status.busy": "2022-07-13T17:27:49.692963Z",
     "iopub.status.idle": "2022-07-13T17:27:49.697880Z",
     "shell.execute_reply": "2022-07-13T17:27:49.696777Z"
    },
    "papermill": {
     "duration": 0.022213,
     "end_time": "2022-07-13T17:27:49.699998",
     "exception": false,
     "start_time": "2022-07-13T17:27:49.677785",
     "status": "completed"
    },
    "tags": []
   },
   "outputs": [],
   "source": [
    "t.append(\"\"\"|NAMES.|AGE.|MONTHLY RATE OF WAGES.|INTEREST IN PROFITS.|\n",
    "|Frances her x mark|16|none|none.\n",
    "\n",
    "\n",
    "DEPENDENTS.\n",
    "|NAMES.|AGE.|NAMES.|AGE.|\"\"\")"
   ]
  },
  {
   "cell_type": "code",
   "execution_count": 25,
   "id": "96781b16",
   "metadata": {
    "execution": {
     "iopub.execute_input": "2022-07-13T17:27:49.729702Z",
     "iopub.status.busy": "2022-07-13T17:27:49.729350Z",
     "iopub.status.idle": "2022-07-13T17:27:49.735321Z",
     "shell.execute_reply": "2022-07-13T17:27:49.734467Z"
    },
    "papermill": {
     "duration": 0.023188,
     "end_time": "2022-07-13T17:27:49.737364",
     "exception": false,
     "start_time": "2022-07-13T17:27:49.714176",
     "status": "completed"
    },
    "tags": []
   },
   "outputs": [],
   "source": [
    "t.append(\"\"\"[[6 Columned Table]]\n",
    "| NAME | AGE | SEX | CLASS | MONTHLY RATE OF WAGES. | INTEREST IN PROFITS. |\n",
    "|---|---|---|---|---|---|\n",
    "| Franklin | 21 | Male | 1st | $8.00 |\n",
    "[[/6 columned table]]\n",
    "\"\"\")\n",
    "t.append(\"\"\"[[3 columned table]]\n",
    "| --- | --- | --- |\n",
    "| 1866 June 16th | Approved Contracted between John L. Banks and Merrit Sanders 'fm, for farming this year | J.L.B. is to furnish Lands, teams, Seed, and farming implements. Three (3) Bls of corn, Two Hundred and fifty (250) Lbs of Pork. Leather for two (2) pair of Shoes (Mens). Pay two thirds (2/3) of wages paid to hired hands and give sd. Merritt Sanders one third (1/3) of crops made. \n",
    "M.S. is to work on said Lands the whole year. pay one third (1/3) of the hire to hands and furnish some assistance on sd. Lands from his family. | [[note]]\n",
    "\n",
    "| June 18 | Approved Contract between W.H. Sanders and Thomas Campbell 'fm, for farming dated March 1st 1866- | W.H. Sanders is to furnish lands, one horse, seed and feed for horse and receive two thirds (2/3) of crops. Freedman Thomas Campbell is to furnish himself and produce crops on said Lands and retain one third (1/3) of crops, and to keep the ditches open on said lands, occupied by his crops |\n",
    "\n",
    "| June 18 | Approved Contract between David S. Henry and Freedmen Parson Avery, Jackson Sanders and Reuben Sanders for farming dated June 6th 1866. | David S. Avery to furnish Lands Seeds and Teams. Parson Avery Jackson Sanders and Reuben Sanders freedmen to perform the manual labor necessary to make crops with said teams & Seeds and Lands furnished to keep up the fences and care properly for the stock and implements, and receive one third (1/3) of the crops. \n",
    "Sd. David S. Avery to receive two thirds (2/3) of the crops, and afford each of said Freedman a garden for Corn, Potatoes &c, &c rent free. | \"\"\")"
   ]
  },
  {
   "cell_type": "code",
   "execution_count": 26,
   "id": "e7782e14",
   "metadata": {
    "execution": {
     "iopub.execute_input": "2022-07-13T17:27:49.767069Z",
     "iopub.status.busy": "2022-07-13T17:27:49.766687Z",
     "iopub.status.idle": "2022-07-13T17:27:49.771169Z",
     "shell.execute_reply": "2022-07-13T17:27:49.770341Z"
    },
    "papermill": {
     "duration": 0.022091,
     "end_time": "2022-07-13T17:27:49.773442",
     "exception": false,
     "start_time": "2022-07-13T17:27:49.751351",
     "status": "completed"
    },
    "tags": []
   },
   "outputs": [],
   "source": [
    "t.append(\"\"\"\n",
    "[[5 column table]]\n",
    "\n",
    "|NAMES.|AGE.|SEX.|MONTHLY RATE OF WAGES.|INTEREST IN PROFITS.|\n",
    "|Margery X (her mark) Russell|30|female|none|none|\n",
    "\n",
    "[[/5 column table]]\n",
    "\n",
    "DEPENDENTS.\n",
    "\n",
    "[[6 column table]]\n",
    "\n",
    "|NAMES.|AGE.|SEX.|NAMES.|AGE.|SEX.|\n",
    "|Phillis|9|female|   |   |   |\n",
    "|Emma|6|female|   |   |   |\n",
    "\n",
    "[[/6 column table]]\"\"\")\n",
    "L.append(\"\"\"[[4 Columned Table]]\n",
    "| Names. | Age. | No. of Dependents. | Remarks. |\n",
    "| --- |--- | --- | --- |\n",
    "[[/ 4 Colummed Table]]\"\"\")"
   ]
  },
  {
   "cell_type": "code",
   "execution_count": 27,
   "id": "3be7ae37",
   "metadata": {
    "execution": {
     "iopub.execute_input": "2022-07-13T17:27:49.803124Z",
     "iopub.status.busy": "2022-07-13T17:27:49.802550Z",
     "iopub.status.idle": "2022-07-13T17:27:49.806166Z",
     "shell.execute_reply": "2022-07-13T17:27:49.805450Z"
    },
    "papermill": {
     "duration": 0.02076,
     "end_time": "2022-07-13T17:27:49.808134",
     "exception": false,
     "start_time": "2022-07-13T17:27:49.787374",
     "status": "completed"
    },
    "tags": []
   },
   "outputs": [],
   "source": [
    "t2=t"
   ]
  },
  {
   "cell_type": "code",
   "execution_count": 28,
   "id": "8c80c6b0",
   "metadata": {
    "execution": {
     "iopub.execute_input": "2022-07-13T17:27:49.838324Z",
     "iopub.status.busy": "2022-07-13T17:27:49.837712Z",
     "iopub.status.idle": "2022-07-13T17:27:49.843004Z",
     "shell.execute_reply": "2022-07-13T17:27:49.842277Z"
    },
    "papermill": {
     "duration": 0.023224,
     "end_time": "2022-07-13T17:27:49.845133",
     "exception": false,
     "start_time": "2022-07-13T17:27:49.821909",
     "status": "completed"
    },
    "tags": []
   },
   "outputs": [
    {
     "data": {
      "text/plain": [
       "6"
      ]
     },
     "execution_count": 28,
     "metadata": {},
     "output_type": "execute_result"
    }
   ],
   "source": [
    "len(t2)"
   ]
  },
  {
   "cell_type": "code",
   "execution_count": 29,
   "id": "a5ffef50",
   "metadata": {
    "execution": {
     "iopub.execute_input": "2022-07-13T17:27:49.875462Z",
     "iopub.status.busy": "2022-07-13T17:27:49.874856Z",
     "iopub.status.idle": "2022-07-13T17:27:49.880102Z",
     "shell.execute_reply": "2022-07-13T17:27:49.879359Z"
    },
    "papermill": {
     "duration": 0.022747,
     "end_time": "2022-07-13T17:27:49.882155",
     "exception": false,
     "start_time": "2022-07-13T17:27:49.859408",
     "status": "completed"
    },
    "tags": []
   },
   "outputs": [
    {
     "data": {
      "text/plain": [
       "'\\n[[5 column table]]\\n\\n|NAMES.|AGE.|SEX.|MONTHLY RATE OF WAGES.|INTEREST IN PROFITS.|\\n|Margery X (her mark) Russell|30|female|none|none|\\n\\n[[/5 column table]]\\n\\nDEPENDENTS.\\n\\n[[6 column table]]\\n\\n|NAMES.|AGE.|SEX.|NAMES.|AGE.|SEX.|\\n|Phillis|9|female|   |   |   |\\n|Emma|6|female|   |   |   |\\n\\n[[/6 column table]]'"
      ]
     },
     "execution_count": 29,
     "metadata": {},
     "output_type": "execute_result"
    }
   ],
   "source": [
    "t2[5]"
   ]
  },
  {
   "cell_type": "markdown",
   "id": "6745c71f",
   "metadata": {
    "papermill": {
     "duration": 0.01396,
     "end_time": "2022-07-13T17:27:49.910550",
     "exception": false,
     "start_time": "2022-07-13T17:27:49.896590",
     "status": "completed"
    },
    "tags": []
   },
   "source": [
    "****"
   ]
  },
  {
   "cell_type": "markdown",
   "id": "6c5ddb11",
   "metadata": {
    "papermill": {
     "duration": 0.014471,
     "end_time": "2022-07-13T17:27:49.939461",
     "exception": false,
     "start_time": "2022-07-13T17:27:49.924990",
     "status": "completed"
    },
    "tags": []
   },
   "source": [
    "****"
   ]
  },
  {
   "cell_type": "code",
   "execution_count": 30,
   "id": "f71d1493",
   "metadata": {
    "execution": {
     "iopub.execute_input": "2022-07-13T17:27:49.969365Z",
     "iopub.status.busy": "2022-07-13T17:27:49.968788Z",
     "iopub.status.idle": "2022-07-13T17:27:49.984316Z",
     "shell.execute_reply": "2022-07-13T17:27:49.983445Z"
    },
    "papermill": {
     "duration": 0.033356,
     "end_time": "2022-07-13T17:27:49.986738",
     "exception": false,
     "start_time": "2022-07-13T17:27:49.953382",
     "status": "completed"
    },
    "tags": []
   },
   "outputs": [],
   "source": [
    "contract_text = contract.transcription_text.tolist()\n",
    "\n",
    "lns = []\n",
    "tables_extractedd = []\n",
    "all_table_pairs = []\n",
    "idx = 0\n",
    "\n",
    "for table_text in t2:\n",
    "\n",
    "    tmp_tables = []\n",
    "    table_text = table_text.replace(\"[\", \"\").replace(\"]\", \"\").replace(\"^\", \"\")\n",
    "    \n",
    "    lines = table_text.split(\"\\n\")\n",
    "    lines = [i for i in lines if len(i.strip()) != 0]\n",
    "    \n",
    "    separator_counts = []\n",
    "    table_pairs  = []\n",
    "    \n",
    "    start = 0\n",
    "    end = 0\n",
    "    streak = 0\n",
    "    \n",
    "    for line_n, line in enumerate(lines):\n",
    "        \n",
    "        separator_count = line.count(\"|\")   \n",
    "        \n",
    "        condition_1 = len(separator_counts) == 0 or separator_count == separator_counts[-1]\n",
    "        condition_2 = separator_count != 0\n",
    "            \n",
    "        #If you find the beginning of a table, take note ,condition_1 and\n",
    "        if condition_1 and condition_2:\n",
    "            if streak == 0:\n",
    "                start = line_n\n",
    "            streak += 1\n",
    "        else:\n",
    "            if streak != 0:\n",
    "                table_pairs.append((start, line_n))\n",
    "                all_table_pairs.append((start, line_n, idx))\n",
    "            streak = 0\n",
    "            start = 0\n",
    "    \n",
    "        separator_counts.append(separator_count)\n",
    "        \n",
    "    if streak > 0:\n",
    "        table_pairs.append((start, line_n))\n",
    "        all_table_pairs.append((start, line_n, idx))\n",
    "        \n",
    "    if len(table_pairs) > 0:\n",
    "        for i, pair in enumerate(table_pairs):\n",
    "            table = lines[pair[0]-1:pair[1]]\n",
    "            tmp_tables.append(table)\n",
    "            \n",
    "        tables_extractedd.append(tmp_tables[0])\n",
    "        \n",
    "    else:\n",
    "        tables_extractedd.append([])\n",
    "        \n",
    "        \n",
    "    idx += 1\n",
    "        "
   ]
  },
  {
   "cell_type": "code",
   "execution_count": 31,
   "id": "d0817f4b",
   "metadata": {
    "execution": {
     "iopub.execute_input": "2022-07-13T17:27:50.016918Z",
     "iopub.status.busy": "2022-07-13T17:27:50.016355Z",
     "iopub.status.idle": "2022-07-13T17:27:50.022610Z",
     "shell.execute_reply": "2022-07-13T17:27:50.021059Z"
    },
    "papermill": {
     "duration": 0.024697,
     "end_time": "2022-07-13T17:27:50.025560",
     "exception": false,
     "start_time": "2022-07-13T17:27:50.000863",
     "status": "completed"
    },
    "tags": []
   },
   "outputs": [
    {
     "name": "stdout",
     "output_type": "stream",
     "text": [
      "4\n"
     ]
    }
   ],
   "source": [
    "nb=0\n",
    "for i, example in enumerate(tables_extractedd):\n",
    "    if len(example) > 0 :\n",
    "        nb=nb+1\n",
    "print(nb)"
   ]
  },
  {
   "cell_type": "code",
   "execution_count": 32,
   "id": "163f9864",
   "metadata": {
    "execution": {
     "iopub.execute_input": "2022-07-13T17:27:50.057160Z",
     "iopub.status.busy": "2022-07-13T17:27:50.056572Z",
     "iopub.status.idle": "2022-07-13T17:27:50.061985Z",
     "shell.execute_reply": "2022-07-13T17:27:50.061269Z"
    },
    "papermill": {
     "duration": 0.023362,
     "end_time": "2022-07-13T17:27:50.064066",
     "exception": false,
     "start_time": "2022-07-13T17:27:50.040704",
     "status": "completed"
    },
    "tags": []
   },
   "outputs": [
    {
     "data": {
      "text/plain": [
       "'[[6 Columned Table]]\\n| NAME | AGE | SEX | CLASS | MONTHLY RATE OF WAGES. | INTEREST IN PROFITS. |\\n|---|---|---|---|---|---|\\n| Franklin | 21 | Male | 1st | $8.00 |\\n[[/6 columned table]]\\n'"
      ]
     },
     "execution_count": 32,
     "metadata": {},
     "output_type": "execute_result"
    }
   ],
   "source": [
    "t2[3]"
   ]
  },
  {
   "cell_type": "code",
   "execution_count": 33,
   "id": "d255fdd2",
   "metadata": {
    "execution": {
     "iopub.execute_input": "2022-07-13T17:27:50.094821Z",
     "iopub.status.busy": "2022-07-13T17:27:50.094245Z",
     "iopub.status.idle": "2022-07-13T17:27:50.098558Z",
     "shell.execute_reply": "2022-07-13T17:27:50.097814Z"
    },
    "papermill": {
     "duration": 0.023026,
     "end_time": "2022-07-13T17:27:50.101554",
     "exception": false,
     "start_time": "2022-07-13T17:27:50.078528",
     "status": "completed"
    },
    "tags": []
   },
   "outputs": [
    {
     "name": "stdout",
     "output_type": "stream",
     "text": [
      "[[9 column table]]\n",
      "| Date of Contract. | Names. | Age. | No. of Classification. |  Names of Dependents. | Age. | Deduction for Depend'nts | Amount of Wages aftr deduction. | Remarks. |\n",
      "| --- | --- | --- | --- | --- | --- | --- | --- | --- |\n",
      "[[table is blank]]\n"
     ]
    }
   ],
   "source": [
    "print(t2[0])"
   ]
  },
  {
   "cell_type": "code",
   "execution_count": 34,
   "id": "7bb8f2bb",
   "metadata": {
    "execution": {
     "iopub.execute_input": "2022-07-13T17:27:50.134025Z",
     "iopub.status.busy": "2022-07-13T17:27:50.132827Z",
     "iopub.status.idle": "2022-07-13T17:27:50.140027Z",
     "shell.execute_reply": "2022-07-13T17:27:50.139176Z"
    },
    "papermill": {
     "duration": 0.025268,
     "end_time": "2022-07-13T17:27:50.142308",
     "exception": false,
     "start_time": "2022-07-13T17:27:50.117040",
     "status": "completed"
    },
    "tags": []
   },
   "outputs": [
    {
     "data": {
      "text/plain": [
       "[\"| Date of Contract. | Names. | Age. | No. of Classification. |  Names of Dependents. | Age. | Deduction for Depend'nts | Amount of Wages aftr deduction. | Remarks. |\",\n",
       " '| --- | --- | --- | --- | --- | --- | --- | --- | --- |']"
      ]
     },
     "execution_count": 34,
     "metadata": {},
     "output_type": "execute_result"
    }
   ],
   "source": [
    "tables_extractedd[0]"
   ]
  },
  {
   "cell_type": "code",
   "execution_count": 35,
   "id": "6e1c8119",
   "metadata": {
    "execution": {
     "iopub.execute_input": "2022-07-13T17:27:50.173175Z",
     "iopub.status.busy": "2022-07-13T17:27:50.172275Z",
     "iopub.status.idle": "2022-07-13T17:27:50.178246Z",
     "shell.execute_reply": "2022-07-13T17:27:50.177379Z"
    },
    "papermill": {
     "duration": 0.023613,
     "end_time": "2022-07-13T17:27:50.180304",
     "exception": false,
     "start_time": "2022-07-13T17:27:50.156691",
     "status": "completed"
    },
    "tags": []
   },
   "outputs": [
    {
     "data": {
      "text/plain": [
       "[[\"| Date of Contract. | Names. | Age. | No. of Classification. |  Names of Dependents. | Age. | Deduction for Depend'nts | Amount of Wages aftr deduction. | Remarks. |\",\n",
       "  '| --- | --- | --- | --- | --- | --- | --- | --- | --- |'],\n",
       " ['| No. | NAMES. | AGE. | RATE of PAY per month. Dols. | RATE of PAY per month. Cents. |         ',\n",
       "  '| --- | --- | --- | --- | --- | '],\n",
       " [],\n",
       " ['| NAME | AGE | SEX | CLASS | MONTHLY RATE OF WAGES. | INTEREST IN PROFITS. |',\n",
       "  '|---|---|---|---|---|---|'],\n",
       " [],\n",
       " ['|NAMES.|AGE.|SEX.|MONTHLY RATE OF WAGES.|INTEREST IN PROFITS.|',\n",
       "  '|Margery X (her mark) Russell|30|female|none|none|']]"
      ]
     },
     "execution_count": 35,
     "metadata": {},
     "output_type": "execute_result"
    }
   ],
   "source": [
    "tables_extractedd"
   ]
  },
  {
   "cell_type": "code",
   "execution_count": 36,
   "id": "abdffcdd",
   "metadata": {
    "execution": {
     "iopub.execute_input": "2022-07-13T17:27:50.211642Z",
     "iopub.status.busy": "2022-07-13T17:27:50.211038Z",
     "iopub.status.idle": "2022-07-13T17:27:50.216686Z",
     "shell.execute_reply": "2022-07-13T17:27:50.215942Z"
    },
    "papermill": {
     "duration": 0.023778,
     "end_time": "2022-07-13T17:27:50.218732",
     "exception": false,
     "start_time": "2022-07-13T17:27:50.194954",
     "status": "completed"
    },
    "tags": []
   },
   "outputs": [],
   "source": [
    "dcts = []\n",
    "\n",
    "for i, example in enumerate(tables_extractedd):\n",
    "    if example != [] and len(example) > 1:\n",
    "        dcts.append(parse_table_to_dict(example))\n",
    "    else:\n",
    "        dcts.append({})\n",
    "        "
   ]
  },
  {
   "cell_type": "code",
   "execution_count": 37,
   "id": "71fd4f9f",
   "metadata": {
    "execution": {
     "iopub.execute_input": "2022-07-13T17:27:50.249941Z",
     "iopub.status.busy": "2022-07-13T17:27:50.249353Z",
     "iopub.status.idle": "2022-07-13T17:27:50.254340Z",
     "shell.execute_reply": "2022-07-13T17:27:50.253589Z"
    },
    "papermill": {
     "duration": 0.02357,
     "end_time": "2022-07-13T17:27:50.256910",
     "exception": false,
     "start_time": "2022-07-13T17:27:50.233340",
     "status": "completed"
    },
    "tags": []
   },
   "outputs": [
    {
     "name": "stdout",
     "output_type": "stream",
     "text": [
      "4\n"
     ]
    }
   ],
   "source": [
    "nb=0\n",
    "for i, example in enumerate(dcts):\n",
    "    if len(example) > 0 :\n",
    "        nb=nb+1\n",
    "print(nb)"
   ]
  },
  {
   "cell_type": "code",
   "execution_count": 38,
   "id": "ee26211d",
   "metadata": {
    "execution": {
     "iopub.execute_input": "2022-07-13T17:27:50.289134Z",
     "iopub.status.busy": "2022-07-13T17:27:50.288569Z",
     "iopub.status.idle": "2022-07-13T17:27:50.295851Z",
     "shell.execute_reply": "2022-07-13T17:27:50.294957Z"
    },
    "papermill": {
     "duration": 0.025354,
     "end_time": "2022-07-13T17:27:50.297860",
     "exception": false,
     "start_time": "2022-07-13T17:27:50.272506",
     "status": "completed"
    },
    "tags": []
   },
   "outputs": [
    {
     "data": {
      "text/plain": [
       "[{'': [' '],\n",
       "  'date_of_contract': ['---'],\n",
       "  'names': ['---'],\n",
       "  'age': ['---'],\n",
       "  'no_of_classification': ['---'],\n",
       "  'names_of_dependents': ['---'],\n",
       "  \"deduction_for_depend'nts\": ['---'],\n",
       "  'amount_of_wages_aftr_deduction': ['---'],\n",
       "  'remarks': ['---']},\n",
       " {'': [' '],\n",
       "  'no': ['---'],\n",
       "  'names': ['---'],\n",
       "  'age': ['---'],\n",
       "  'rate_of_pay_per_month_dols': ['---'],\n",
       "  'rate_of_pay_per_month_cents': ['---'],\n",
       "  '         ': [' ']},\n",
       " {},\n",
       " {'': [' '],\n",
       "  'name': ['---'],\n",
       "  'age': ['---'],\n",
       "  'sex': ['---'],\n",
       "  'class': ['---'],\n",
       "  'monthly_rate_of_wages': ['---'],\n",
       "  'interest_in_profits': ['---']},\n",
       " {},\n",
       " {'': [' '],\n",
       "  'names': ['Margery X (her mark) Russell'],\n",
       "  'age': ['30'],\n",
       "  'sex': ['female'],\n",
       "  'monthly_rate_of_wages': ['none'],\n",
       "  'interest_in_profits': ['none']}]"
      ]
     },
     "execution_count": 38,
     "metadata": {},
     "output_type": "execute_result"
    }
   ],
   "source": [
    "dcts"
   ]
  },
  {
   "cell_type": "code",
   "execution_count": 39,
   "id": "a2f4dc30",
   "metadata": {
    "execution": {
     "iopub.execute_input": "2022-07-13T17:27:50.329818Z",
     "iopub.status.busy": "2022-07-13T17:27:50.329225Z",
     "iopub.status.idle": "2022-07-13T17:27:50.333518Z",
     "shell.execute_reply": "2022-07-13T17:27:50.332751Z"
    },
    "papermill": {
     "duration": 0.023539,
     "end_time": "2022-07-13T17:27:50.336181",
     "exception": false,
     "start_time": "2022-07-13T17:27:50.312642",
     "status": "completed"
    },
    "tags": []
   },
   "outputs": [
    {
     "name": "stdout",
     "output_type": "stream",
     "text": [
      "\n",
      "[[5 column table]]\n",
      "\n",
      "|NAMES.|AGE.|SEX.|MONTHLY RATE OF WAGES.|INTEREST IN PROFITS.|\n",
      "|Margery X (her mark) Russell|30|female|none|none|\n",
      "\n",
      "[[/5 column table]]\n",
      "\n",
      "DEPENDENTS.\n",
      "\n",
      "[[6 column table]]\n",
      "\n",
      "|NAMES.|AGE.|SEX.|NAMES.|AGE.|SEX.|\n",
      "|Phillis|9|female|   |   |   |\n",
      "|Emma|6|female|   |   |   |\n",
      "\n",
      "[[/6 column table]]\n"
     ]
    }
   ],
   "source": [
    "print(t2[5])"
   ]
  },
  {
   "cell_type": "code",
   "execution_count": 40,
   "id": "2f4e10b0",
   "metadata": {
    "execution": {
     "iopub.execute_input": "2022-07-13T17:27:50.368918Z",
     "iopub.status.busy": "2022-07-13T17:27:50.368258Z",
     "iopub.status.idle": "2022-07-13T17:27:50.377885Z",
     "shell.execute_reply": "2022-07-13T17:27:50.376918Z"
    },
    "papermill": {
     "duration": 0.028893,
     "end_time": "2022-07-13T17:27:50.380209",
     "exception": false,
     "start_time": "2022-07-13T17:27:50.351316",
     "status": "completed"
    },
    "tags": []
   },
   "outputs": [],
   "source": [
    "for table_text in t2[:5]:\n",
    "\n",
    "    tmp_tables = []\n",
    "    table_text = table_text.replace(\"[\", \"\").replace(\"]\", \"\").replace(\"^\", \"\")\n",
    "    \n",
    "    liness = table_text.split(\"\\n\")\n",
    "    lines = [i for i in liness if len(i.strip()) != 0]\n",
    "    \n",
    "    separator_counts = []\n",
    "    table_pairs  = []\n",
    "    \n",
    "    start = 0\n",
    "    end = 0\n",
    "    streak = 0\n",
    "    \n",
    "    for line_n, line in enumerate(lines):\n",
    "        \n",
    "        separator_count = line.count(\"|\")   \n",
    "        \n",
    "        condition_1 = len(separator_counts) == 0 or separator_count == separator_counts[-1]\n",
    "        condition_2 = separator_count != 0\n",
    "        \n",
    "        if condition_1 and condition_2:\n",
    "            if streak == 0:\n",
    "                start = line_n\n",
    "            streak += 1\n",
    "        else:\n",
    "            if streak != 0:\n",
    "                table_pairs.append((start, line_n))\n",
    "                all_table_pairs.append((start, line_n, idx))\n",
    "            streak = 0\n",
    "            start = 0\n",
    "    \n",
    "        separator_counts.append(separator_count)"
   ]
  },
  {
   "cell_type": "code",
   "execution_count": 41,
   "id": "bcfb5ac8",
   "metadata": {
    "execution": {
     "iopub.execute_input": "2022-07-13T17:27:50.412457Z",
     "iopub.status.busy": "2022-07-13T17:27:50.411999Z",
     "iopub.status.idle": "2022-07-13T17:27:50.417676Z",
     "shell.execute_reply": "2022-07-13T17:27:50.416860Z"
    },
    "papermill": {
     "duration": 0.024301,
     "end_time": "2022-07-13T17:27:50.419636",
     "exception": false,
     "start_time": "2022-07-13T17:27:50.395335",
     "status": "completed"
    },
    "tags": []
   },
   "outputs": [
    {
     "data": {
      "text/plain": [
       "[0, 4, 3, 1, 4, 3, 1]"
      ]
     },
     "execution_count": 41,
     "metadata": {},
     "output_type": "execute_result"
    }
   ],
   "source": [
    "separator_counts"
   ]
  },
  {
   "cell_type": "code",
   "execution_count": 42,
   "id": "386601fd",
   "metadata": {
    "execution": {
     "iopub.execute_input": "2022-07-13T17:27:50.452144Z",
     "iopub.status.busy": "2022-07-13T17:27:50.451538Z",
     "iopub.status.idle": "2022-07-13T17:27:50.456951Z",
     "shell.execute_reply": "2022-07-13T17:27:50.456191Z"
    },
    "papermill": {
     "duration": 0.024013,
     "end_time": "2022-07-13T17:27:50.459013",
     "exception": false,
     "start_time": "2022-07-13T17:27:50.435000",
     "status": "completed"
    },
    "tags": []
   },
   "outputs": [
    {
     "data": {
      "text/plain": [
       "True"
      ]
     },
     "execution_count": 42,
     "metadata": {},
     "output_type": "execute_result"
    }
   ],
   "source": [
    "condition_2"
   ]
  },
  {
   "cell_type": "code",
   "execution_count": 43,
   "id": "6d9cf036",
   "metadata": {
    "execution": {
     "iopub.execute_input": "2022-07-13T17:27:50.491461Z",
     "iopub.status.busy": "2022-07-13T17:27:50.491047Z",
     "iopub.status.idle": "2022-07-13T17:27:50.496700Z",
     "shell.execute_reply": "2022-07-13T17:27:50.495752Z"
    },
    "papermill": {
     "duration": 0.024416,
     "end_time": "2022-07-13T17:27:50.498672",
     "exception": false,
     "start_time": "2022-07-13T17:27:50.474256",
     "status": "completed"
    },
    "tags": []
   },
   "outputs": [
    {
     "data": {
      "text/plain": [
       "\"3 columned table\\n| --- | --- | --- |\\n| 1866 June 16th | Approved Contracted between John L. Banks and Merrit Sanders 'fm, for farming this year | J.L.B. is to furnish Lands, teams, Seed, and farming implements. Three (3) Bls of corn, Two Hundred and fifty (250) Lbs of Pork. Leather for two (2) pair of Shoes (Mens). Pay two thirds (2/3) of wages paid to hired hands and give sd. Merritt Sanders one third (1/3) of crops made. \\nM.S. is to work on said Lands the whole year. pay one third (1/3) of the hire to hands and furnish some assistance on sd. Lands from his family. | note\\n\\n| June 18 | Approved Contract between W.H. Sanders and Thomas Campbell 'fm, for farming dated March 1st 1866- | W.H. Sanders is to furnish lands, one horse, seed and feed for horse and receive two thirds (2/3) of crops. Freedman Thomas Campbell is to furnish himself and produce crops on said Lands and retain one third (1/3) of crops, and to keep the ditches open on said lands, occupied by his crops |\\n\\n| June 18 | Approved Contract between David S. Henry and Freedmen Parson Avery, Jackson Sanders and Reuben Sanders for farming dated June 6th 1866. | David S. Avery to furnish Lands Seeds and Teams. Parson Avery Jackson Sanders and Reuben Sanders freedmen to perform the manual labor necessary to make crops with said teams & Seeds and Lands furnished to keep up the fences and care properly for the stock and implements, and receive one third (1/3) of the crops. \\nSd. David S. Avery to receive two thirds (2/3) of the crops, and afford each of said Freedman a garden for Corn, Potatoes &c, &c rent free. | \""
      ]
     },
     "execution_count": 43,
     "metadata": {},
     "output_type": "execute_result"
    }
   ],
   "source": [
    "table_text"
   ]
  },
  {
   "cell_type": "code",
   "execution_count": 44,
   "id": "98489dc7",
   "metadata": {
    "execution": {
     "iopub.execute_input": "2022-07-13T17:27:50.531648Z",
     "iopub.status.busy": "2022-07-13T17:27:50.531070Z",
     "iopub.status.idle": "2022-07-13T17:27:50.536710Z",
     "shell.execute_reply": "2022-07-13T17:27:50.535576Z"
    },
    "papermill": {
     "duration": 0.024536,
     "end_time": "2022-07-13T17:27:50.538820",
     "exception": false,
     "start_time": "2022-07-13T17:27:50.514284",
     "status": "completed"
    },
    "tags": []
   },
   "outputs": [
    {
     "data": {
      "text/plain": [
       "['3 columned table',\n",
       " '| --- | --- | --- |',\n",
       " \"| 1866 June 16th | Approved Contracted between John L. Banks and Merrit Sanders 'fm, for farming this year | J.L.B. is to furnish Lands, teams, Seed, and farming implements. Three (3) Bls of corn, Two Hundred and fifty (250) Lbs of Pork. Leather for two (2) pair of Shoes (Mens). Pay two thirds (2/3) of wages paid to hired hands and give sd. Merritt Sanders one third (1/3) of crops made. \",\n",
       " 'M.S. is to work on said Lands the whole year. pay one third (1/3) of the hire to hands and furnish some assistance on sd. Lands from his family. | note',\n",
       " '',\n",
       " \"| June 18 | Approved Contract between W.H. Sanders and Thomas Campbell 'fm, for farming dated March 1st 1866- | W.H. Sanders is to furnish lands, one horse, seed and feed for horse and receive two thirds (2/3) of crops. Freedman Thomas Campbell is to furnish himself and produce crops on said Lands and retain one third (1/3) of crops, and to keep the ditches open on said lands, occupied by his crops |\",\n",
       " '',\n",
       " '| June 18 | Approved Contract between David S. Henry and Freedmen Parson Avery, Jackson Sanders and Reuben Sanders for farming dated June 6th 1866. | David S. Avery to furnish Lands Seeds and Teams. Parson Avery Jackson Sanders and Reuben Sanders freedmen to perform the manual labor necessary to make crops with said teams & Seeds and Lands furnished to keep up the fences and care properly for the stock and implements, and receive one third (1/3) of the crops. ',\n",
       " 'Sd. David S. Avery to receive two thirds (2/3) of the crops, and afford each of said Freedman a garden for Corn, Potatoes &c, &c rent free. | ']"
      ]
     },
     "execution_count": 44,
     "metadata": {},
     "output_type": "execute_result"
    }
   ],
   "source": [
    "liness"
   ]
  },
  {
   "cell_type": "code",
   "execution_count": 45,
   "id": "6101a1b1",
   "metadata": {
    "execution": {
     "iopub.execute_input": "2022-07-13T17:27:50.571990Z",
     "iopub.status.busy": "2022-07-13T17:27:50.571397Z",
     "iopub.status.idle": "2022-07-13T17:27:50.577003Z",
     "shell.execute_reply": "2022-07-13T17:27:50.576121Z"
    },
    "papermill": {
     "duration": 0.024587,
     "end_time": "2022-07-13T17:27:50.579031",
     "exception": false,
     "start_time": "2022-07-13T17:27:50.554444",
     "status": "completed"
    },
    "tags": []
   },
   "outputs": [
    {
     "data": {
      "text/plain": [
       "['3 columned table',\n",
       " '| --- | --- | --- |',\n",
       " \"| 1866 June 16th | Approved Contracted between John L. Banks and Merrit Sanders 'fm, for farming this year | J.L.B. is to furnish Lands, teams, Seed, and farming implements. Three (3) Bls of corn, Two Hundred and fifty (250) Lbs of Pork. Leather for two (2) pair of Shoes (Mens). Pay two thirds (2/3) of wages paid to hired hands and give sd. Merritt Sanders one third (1/3) of crops made. \",\n",
       " 'M.S. is to work on said Lands the whole year. pay one third (1/3) of the hire to hands and furnish some assistance on sd. Lands from his family. | note',\n",
       " \"| June 18 | Approved Contract between W.H. Sanders and Thomas Campbell 'fm, for farming dated March 1st 1866- | W.H. Sanders is to furnish lands, one horse, seed and feed for horse and receive two thirds (2/3) of crops. Freedman Thomas Campbell is to furnish himself and produce crops on said Lands and retain one third (1/3) of crops, and to keep the ditches open on said lands, occupied by his crops |\",\n",
       " '| June 18 | Approved Contract between David S. Henry and Freedmen Parson Avery, Jackson Sanders and Reuben Sanders for farming dated June 6th 1866. | David S. Avery to furnish Lands Seeds and Teams. Parson Avery Jackson Sanders and Reuben Sanders freedmen to perform the manual labor necessary to make crops with said teams & Seeds and Lands furnished to keep up the fences and care properly for the stock and implements, and receive one third (1/3) of the crops. ',\n",
       " 'Sd. David S. Avery to receive two thirds (2/3) of the crops, and afford each of said Freedman a garden for Corn, Potatoes &c, &c rent free. | ']"
      ]
     },
     "execution_count": 45,
     "metadata": {},
     "output_type": "execute_result"
    }
   ],
   "source": [
    "lines"
   ]
  },
  {
   "cell_type": "code",
   "execution_count": null,
   "id": "aee5dcf5",
   "metadata": {
    "papermill": {
     "duration": 0.016004,
     "end_time": "2022-07-13T17:27:50.611426",
     "exception": false,
     "start_time": "2022-07-13T17:27:50.595422",
     "status": "completed"
    },
    "tags": []
   },
   "outputs": [],
   "source": []
  }
 ],
 "metadata": {
  "kernelspec": {
   "display_name": "Python 3",
   "language": "python",
   "name": "python3"
  },
  "language_info": {
   "codemirror_mode": {
    "name": "ipython",
    "version": 3
   },
   "file_extension": ".py",
   "mimetype": "text/x-python",
   "name": "python",
   "nbconvert_exporter": "python",
   "pygments_lexer": "ipython3",
   "version": "3.7.12"
  },
  "papermill": {
   "default_parameters": {},
   "duration": 72.208385,
   "end_time": "2022-07-13T17:27:51.549968",
   "environment_variables": {},
   "exception": null,
   "input_path": "__notebook__.ipynb",
   "output_path": "__notebook__.ipynb",
   "parameters": {},
   "start_time": "2022-07-13T17:26:39.341583",
   "version": "2.3.4"
  }
 },
 "nbformat": 4,
 "nbformat_minor": 5
}
