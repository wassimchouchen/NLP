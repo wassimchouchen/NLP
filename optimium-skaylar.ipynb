{
 "cells": [
  {
   "cell_type": "code",
   "execution_count": 1,
   "id": "9218f099",
   "metadata": {
    "_cell_guid": "b1076dfc-b9ad-4769-8c92-a6c4dae69d19",
    "_kg_hide-output": true,
    "_uuid": "8f2839f25d086af736a60e9eeb907d3b93b6e0e5",
    "execution": {
     "iopub.execute_input": "2022-07-15T09:46:52.899159Z",
     "iopub.status.busy": "2022-07-15T09:46:52.898712Z",
     "iopub.status.idle": "2022-07-15T09:46:55.019468Z",
     "shell.execute_reply": "2022-07-15T09:46:55.018289Z"
    },
    "papermill": {
     "duration": 2.13512,
     "end_time": "2022-07-15T09:46:55.022637",
     "exception": false,
     "start_time": "2022-07-15T09:46:52.887517",
     "status": "completed"
    },
    "tags": []
   },
   "outputs": [],
   "source": [
    "# !pip install flair\n",
    "import time\n",
    "import string\n",
    "import warnings\n",
    "\n",
    "import regex as re\n",
    "from tqdm import tqdm\n",
    "\n",
    "\n",
    "import pickle\n",
    "import numpy as np\n",
    "import pandas as pd \n",
    "\n",
    "import seaborn as sns\n",
    "import matplotlib.pyplot as plt \n",
    "import matplotlib.style as stl \n",
    "\n",
    "\n",
    "\n",
    "from nltk.corpus import stopwords\n",
    "from nltk.corpus import stopwords\n",
    "from nltk.tokenize import word_tokenize\n",
    "from nltk.stem import WordNetLemmatizer\n",
    "from nltk.stem.snowball import SnowballStemmer\n",
    "\n",
    "\n",
    "warnings.filterwarnings(\"ignore\")"
   ]
  },
  {
   "cell_type": "code",
   "execution_count": 2,
   "id": "3a523487",
   "metadata": {
    "execution": {
     "iopub.execute_input": "2022-07-15T09:46:55.041917Z",
     "iopub.status.busy": "2022-07-15T09:46:55.040721Z",
     "iopub.status.idle": "2022-07-15T09:47:03.189996Z",
     "shell.execute_reply": "2022-07-15T09:47:03.188692Z"
    },
    "papermill": {
     "duration": 8.161558,
     "end_time": "2022-07-15T09:47:03.192829",
     "exception": false,
     "start_time": "2022-07-15T09:46:55.031271",
     "status": "completed"
    },
    "tags": []
   },
   "outputs": [],
   "source": [
    "documents = pd.read_csv(\"../input/skylarfreedman/Documents-Table 1.csv\", on_bad_lines='skip', sep=\";\")"
   ]
  },
  {
   "cell_type": "code",
   "execution_count": 3,
   "id": "4c913dd2",
   "metadata": {
    "execution": {
     "iopub.execute_input": "2022-07-15T09:47:03.211207Z",
     "iopub.status.busy": "2022-07-15T09:47:03.210808Z",
     "iopub.status.idle": "2022-07-15T09:47:03.280161Z",
     "shell.execute_reply": "2022-07-15T09:47:03.278850Z"
    },
    "papermill": {
     "duration": 0.081796,
     "end_time": "2022-07-15T09:47:03.282899",
     "exception": false,
     "start_time": "2022-07-15T09:47:03.201103",
     "status": "completed"
    },
    "tags": []
   },
   "outputs": [],
   "source": [
    "contract = documents[documents.Category == \"Contracts\"]\n",
    "contract = contract[[\"document_id\", \"project_id\", \"transcription_text\"]]"
   ]
  },
  {
   "cell_type": "code",
   "execution_count": 4,
   "id": "b2ff7f41",
   "metadata": {
    "execution": {
     "iopub.execute_input": "2022-07-15T09:47:03.301479Z",
     "iopub.status.busy": "2022-07-15T09:47:03.300767Z",
     "iopub.status.idle": "2022-07-15T09:47:03.315904Z",
     "shell.execute_reply": "2022-07-15T09:47:03.314677Z"
    },
    "papermill": {
     "duration": 0.027394,
     "end_time": "2022-07-15T09:47:03.318605",
     "exception": false,
     "start_time": "2022-07-15T09:47:03.291211",
     "status": "completed"
    },
    "tags": []
   },
   "outputs": [],
   "source": [
    "contract = contract[pd.notnull(contract['transcription_text'])]\n",
    "contract = contract.reset_index(drop=True)"
   ]
  },
  {
   "cell_type": "markdown",
   "id": "24c3604d",
   "metadata": {
    "papermill": {
     "duration": 0.007996,
     "end_time": "2022-07-15T09:47:03.334805",
     "exception": false,
     "start_time": "2022-07-15T09:47:03.326809",
     "status": "completed"
    },
    "tags": []
   },
   "source": [
    "# Preprocessing"
   ]
  },
  {
   "cell_type": "code",
   "execution_count": 5,
   "id": "f09c8cfa",
   "metadata": {
    "execution": {
     "iopub.execute_input": "2022-07-15T09:47:03.353061Z",
     "iopub.status.busy": "2022-07-15T09:47:03.352648Z",
     "iopub.status.idle": "2022-07-15T09:47:03.367509Z",
     "shell.execute_reply": "2022-07-15T09:47:03.366333Z"
    },
    "papermill": {
     "duration": 0.027122,
     "end_time": "2022-07-15T09:47:03.370138",
     "exception": false,
     "start_time": "2022-07-15T09:47:03.343016",
     "status": "completed"
    },
    "tags": []
   },
   "outputs": [],
   "source": [
    "stop_words = set(stopwords.words('english'))\n",
    "punctuation = string.punctuation\n",
    "stemmer = SnowballStemmer(language=\"english\")\n",
    "lemmatizer = WordNetLemmatizer()\n",
    "stop_words.remove(\"of\")\n",
    "punct='!\"#$%&\\'()*+-/<=>?@[\\\\]^_`{|}~'\n",
    "\n",
    "def process(s):\n",
    "    \"\"\"Removes stop words, words in brackets\n",
    "    and parentheses, and special characters.\n",
    "    \"\"\"\n",
    "    \n",
    "    s= re.sub(\"([\\(\\[]).*?([\\)\\]])\",\" \",s)\n",
    "    for p in punct:\n",
    "        s = s.replace(p, '')\n",
    "    s = word_tokenize(s)\n",
    "    s = [w for w in s if not w in stop_words] #optional\n",
    "    return s"
   ]
  },
  {
   "cell_type": "code",
   "execution_count": 6,
   "id": "5a5d85c5",
   "metadata": {
    "execution": {
     "iopub.execute_input": "2022-07-15T09:47:03.388312Z",
     "iopub.status.busy": "2022-07-15T09:47:03.387914Z",
     "iopub.status.idle": "2022-07-15T09:47:49.064876Z",
     "shell.execute_reply": "2022-07-15T09:47:49.064003Z"
    },
    "papermill": {
     "duration": 45.689218,
     "end_time": "2022-07-15T09:47:49.067507",
     "exception": false,
     "start_time": "2022-07-15T09:47:03.378289",
     "status": "completed"
    },
    "tags": []
   },
   "outputs": [],
   "source": [
    "contract[\"processed_text\"] = contract[\"transcription_text\"].apply(process)\n",
    "contract[\"processed_text\"] = contract[\"processed_text\"].apply(lambda x: \" \".join(x))"
   ]
  },
  {
   "cell_type": "code",
   "execution_count": 7,
   "id": "93391af6",
   "metadata": {
    "execution": {
     "iopub.execute_input": "2022-07-15T09:47:49.086009Z",
     "iopub.status.busy": "2022-07-15T09:47:49.085386Z",
     "iopub.status.idle": "2022-07-15T09:47:49.099064Z",
     "shell.execute_reply": "2022-07-15T09:47:49.098114Z"
    },
    "papermill": {
     "duration": 0.0257,
     "end_time": "2022-07-15T09:47:49.101492",
     "exception": false,
     "start_time": "2022-07-15T09:47:49.075792",
     "status": "completed"
    },
    "tags": []
   },
   "outputs": [],
   "source": [
    "def parse_table_to_dict(example) :\n",
    "    \n",
    "    def clean_record(x) :\n",
    "        if x.strip() == \"\":\n",
    "            return \" \"\n",
    "        return x.strip().replace(\"{\", \"\").replace(\"}\", \"\")\n",
    "\n",
    "    table_dict = {}\n",
    "\n",
    "    if \"name\" in example[0].lower():\n",
    "\n",
    "        cols = []\n",
    "        for col in example[0].split(\"|\"):\n",
    "            if col.strip() == \"\":\n",
    "                cols.append(col)\n",
    "            else:\n",
    "                cols.append(col.strip().lower().replace(\" \", \"_\").replace(\".\", \"\"))\n",
    "\n",
    "        values = np.array([list(map(clean_record, i.split(\"|\"))) for i in example[1:]])\n",
    "\n",
    "    else:\n",
    "\n",
    "        n_cols = len(example[0].split(\"|\"))\n",
    "        cols = [f\"col_{i}\" for i in range(n_cols)]\n",
    "\n",
    "        values = np.array([list(map(clean_record, i.split(\"|\"))) for i in example])\n",
    "        \n",
    "    \n",
    "    #Remove empty rows ([\"----\", \"-----\", \"-----\"])\n",
    "    new_values = []\n",
    "    for line in values:\n",
    "        line_chars = list(set(\"\".join([i.strip() for i in line])))\n",
    "        \n",
    "        if len(line_chars) != 0 and (line_chars[0] != \"-\" or len(line_chars) != 0):\n",
    "            new_values.append(line.tolist())\n",
    "            \n",
    "    values = np.array(new_values)\n",
    "            \n",
    "    if values.reshape(-1).shape[0] != 0:\n",
    "        for i, col in enumerate(cols):\n",
    "            table_dict[col] = values[:, i].tolist()\n",
    "            \n",
    "        return table_dict\n",
    "    \n",
    "    else:\n",
    "        \n",
    "        return {} "
   ]
  },
  {
   "cell_type": "code",
   "execution_count": 8,
   "id": "fecbe025",
   "metadata": {
    "execution": {
     "iopub.execute_input": "2022-07-15T09:47:49.120850Z",
     "iopub.status.busy": "2022-07-15T09:47:49.120464Z",
     "iopub.status.idle": "2022-07-15T09:47:49.141920Z",
     "shell.execute_reply": "2022-07-15T09:47:49.140791Z"
    },
    "papermill": {
     "duration": 0.033495,
     "end_time": "2022-07-15T09:47:49.144100",
     "exception": false,
     "start_time": "2022-07-15T09:47:49.110605",
     "status": "completed"
    },
    "tags": []
   },
   "outputs": [
    {
     "data": {
      "text/html": [
       "<div>\n",
       "<style scoped>\n",
       "    .dataframe tbody tr th:only-of-type {\n",
       "        vertical-align: middle;\n",
       "    }\n",
       "\n",
       "    .dataframe tbody tr th {\n",
       "        vertical-align: top;\n",
       "    }\n",
       "\n",
       "    .dataframe thead th {\n",
       "        text-align: right;\n",
       "    }\n",
       "</style>\n",
       "<table border=\"1\" class=\"dataframe\">\n",
       "  <thead>\n",
       "    <tr style=\"text-align: right;\">\n",
       "      <th></th>\n",
       "      <th>document_id</th>\n",
       "      <th>project_id</th>\n",
       "      <th>transcription_text</th>\n",
       "      <th>processed_text</th>\n",
       "    </tr>\n",
       "  </thead>\n",
       "  <tbody>\n",
       "    <tr>\n",
       "      <th>0</th>\n",
       "      <td>NMAAHC-004567394_00861</td>\n",
       "      <td>11400</td>\n",
       "      <td>[D104 ENCL]\\r\\nNorth Carolina\\r\\nThis indentur...</td>\n",
       "      <td>North Carolina This indenture made entered Thi...</td>\n",
       "    </tr>\n",
       "    <tr>\n",
       "      <th>1</th>\n",
       "      <td>NMAAHC-004567394_00957</td>\n",
       "      <td>11400</td>\n",
       "      <td>[E 11 ENCL] \\r\\n\\r\\n\\r\\nState of North Carolin...</td>\n",
       "      <td>State of North Carolina Currituck County . Thi...</td>\n",
       "    </tr>\n",
       "    <tr>\n",
       "      <th>2</th>\n",
       "      <td>NMAAHC-004567394_00958</td>\n",
       "      <td>11400</td>\n",
       "      <td>near Lizzie Etheridge's gate, thence South 56 ...</td>\n",
       "      <td>near Lizzie Etheridges gate , thence South 56 ...</td>\n",
       "    </tr>\n",
       "    <tr>\n",
       "      <th>3</th>\n",
       "      <td>NMAAHC-004567395_00439</td>\n",
       "      <td>11406</td>\n",
       "      <td>Copy\\r\\n\\r\\nAgreement of Apprenticeship\\r\\nBu ...</td>\n",
       "      <td>Copy Agreement of Apprenticeship Bu Mrs. Kate ...</td>\n",
       "    </tr>\n",
       "    <tr>\n",
       "      <th>4</th>\n",
       "      <td>NMAAHC-004567395_00440</td>\n",
       "      <td>11406</td>\n",
       "      <td>[H 132 ENCL] \\r\\n\\r\\nCopy\\r\\n\\r\\nAgreement of ...</td>\n",
       "      <td>Copy Agreement of Apprenticeship . This agreem...</td>\n",
       "    </tr>\n",
       "    <tr>\n",
       "      <th>...</th>\n",
       "      <td>...</td>\n",
       "      <td>...</td>\n",
       "      <td>...</td>\n",
       "      <td>...</td>\n",
       "    </tr>\n",
       "    <tr>\n",
       "      <th>23724</th>\n",
       "      <td>NMAAHC-007677332_01525</td>\n",
       "      <td>41539</td>\n",
       "      <td>\\N</td>\n",
       "      <td>N</td>\n",
       "    </tr>\n",
       "    <tr>\n",
       "      <th>23725</th>\n",
       "      <td>NMAAHC-007677332_01526</td>\n",
       "      <td>41539</td>\n",
       "      <td>\\N</td>\n",
       "      <td>N</td>\n",
       "    </tr>\n",
       "    <tr>\n",
       "      <th>23726</th>\n",
       "      <td>NMAAHC-007677332_01527</td>\n",
       "      <td>41539</td>\n",
       "      <td>\\N</td>\n",
       "      <td>N</td>\n",
       "    </tr>\n",
       "    <tr>\n",
       "      <th>23727</th>\n",
       "      <td>NMAAHC-007677332_01528</td>\n",
       "      <td>41539</td>\n",
       "      <td>Jo</td>\n",
       "      <td>Jo</td>\n",
       "    </tr>\n",
       "    <tr>\n",
       "      <th>23728</th>\n",
       "      <td>NMAAHC-007677332_01529</td>\n",
       "      <td>41539</td>\n",
       "      <td>\\N</td>\n",
       "      <td>N</td>\n",
       "    </tr>\n",
       "  </tbody>\n",
       "</table>\n",
       "<p>23729 rows × 4 columns</p>\n",
       "</div>"
      ],
      "text/plain": [
       "                  document_id  project_id  \\\n",
       "0      NMAAHC-004567394_00861       11400   \n",
       "1      NMAAHC-004567394_00957       11400   \n",
       "2      NMAAHC-004567394_00958       11400   \n",
       "3      NMAAHC-004567395_00439       11406   \n",
       "4      NMAAHC-004567395_00440       11406   \n",
       "...                       ...         ...   \n",
       "23724  NMAAHC-007677332_01525       41539   \n",
       "23725  NMAAHC-007677332_01526       41539   \n",
       "23726  NMAAHC-007677332_01527       41539   \n",
       "23727  NMAAHC-007677332_01528       41539   \n",
       "23728  NMAAHC-007677332_01529       41539   \n",
       "\n",
       "                                      transcription_text  \\\n",
       "0      [D104 ENCL]\\r\\nNorth Carolina\\r\\nThis indentur...   \n",
       "1      [E 11 ENCL] \\r\\n\\r\\n\\r\\nState of North Carolin...   \n",
       "2      near Lizzie Etheridge's gate, thence South 56 ...   \n",
       "3      Copy\\r\\n\\r\\nAgreement of Apprenticeship\\r\\nBu ...   \n",
       "4      [H 132 ENCL] \\r\\n\\r\\nCopy\\r\\n\\r\\nAgreement of ...   \n",
       "...                                                  ...   \n",
       "23724                                                 \\N   \n",
       "23725                                                 \\N   \n",
       "23726                                                 \\N   \n",
       "23727                                                 Jo   \n",
       "23728                                                 \\N   \n",
       "\n",
       "                                          processed_text  \n",
       "0      North Carolina This indenture made entered Thi...  \n",
       "1      State of North Carolina Currituck County . Thi...  \n",
       "2      near Lizzie Etheridges gate , thence South 56 ...  \n",
       "3      Copy Agreement of Apprenticeship Bu Mrs. Kate ...  \n",
       "4      Copy Agreement of Apprenticeship . This agreem...  \n",
       "...                                                  ...  \n",
       "23724                                                  N  \n",
       "23725                                                  N  \n",
       "23726                                                  N  \n",
       "23727                                                 Jo  \n",
       "23728                                                  N  \n",
       "\n",
       "[23729 rows x 4 columns]"
      ]
     },
     "execution_count": 8,
     "metadata": {},
     "output_type": "execute_result"
    }
   ],
   "source": [
    "contract"
   ]
  },
  {
   "cell_type": "code",
   "execution_count": 9,
   "id": "04c44cf7",
   "metadata": {
    "execution": {
     "iopub.execute_input": "2022-07-15T09:47:49.163282Z",
     "iopub.status.busy": "2022-07-15T09:47:49.162835Z",
     "iopub.status.idle": "2022-07-15T09:47:49.172450Z",
     "shell.execute_reply": "2022-07-15T09:47:49.171327Z"
    },
    "papermill": {
     "duration": 0.021898,
     "end_time": "2022-07-15T09:47:49.174611",
     "exception": false,
     "start_time": "2022-07-15T09:47:49.152713",
     "status": "completed"
    },
    "tags": []
   },
   "outputs": [],
   "source": [
    "t=[]\n",
    "t.append(\"\"\"[[7 column table]]\n",
    "No. | NAME. | AGE. | WAGES. DOLLS. | [[WAGES.]] CTS. | MONTHLY PAYM'T. DOLLS. | [[MONTHLY PAYM'T.]] CTS.\n",
    "[[/preprinted]]\n",
    "\n",
    "1 | Sarah | 17 | 2 | 50 | 1 | 75 \"\"\")\n",
    "t.append(\"\"\"[[5 columned table]]\n",
    "| No. | NAMES. | AGE. | RATE of PAY per month. Dols. | RATE of PAY per month. Cents. |         \n",
    "| --- | --- | --- | --- | --- | \n",
    "| 1861 | Phillip Carr | 13 | 100 | 00 |\"\"\")\n",
    "t.append(\"\"\"|NAMES.|AGE.|MONTHLY RATE OF WAGES.|INTEREST IN PROFITS.|\n",
    "|Frances her x mark|16|none|none.\n",
    "\n",
    "\n",
    "DEPENDENTS.\n",
    "|NAMES.|AGE.|NAMES.|AGE.|\"\"\")\n",
    "t.append(\"\"\"[[6 Columned Table]]\n",
    "| NAME | AGE | SEX | CLASS | MONTHLY RATE OF WAGES. | INTEREST IN PROFITS. |\n",
    "|---|---|---|---|---|---|\n",
    "| Franklin | 21 | Male | 1st | $8.00 |\n",
    "[[/6 columned table]]\n",
    "\"\"\")\n",
    "t.append(\"\"\"[[3 columned table]]\n",
    "| --- | --- | --- |\n",
    "| 1866 June 16th | Approved Contracted between John L. Banks and Merrit Sanders 'fm, for farming this year | J.L.B. is to furnish Lands, teams, Seed, and farming implements. Three (3) Bls of corn, Two Hundred and fifty (250) Lbs of Pork. Leather for two (2) pair of Shoes (Mens). Pay two thirds (2/3) of wages paid to hired hands and give sd. Merritt Sanders one third (1/3) of crops made. \n",
    "M.S. is to work on said Lands the whole year. pay one third (1/3) of the hire to hands and furnish some assistance on sd. Lands from his family. | [[note]]\n",
    "\n",
    "| June 18 | Approved Contract between W.H. Sanders and Thomas Campbell 'fm, for farming dated March 1st 1866- | W.H. Sanders is to furnish lands, one horse, seed and feed for horse and receive two thirds (2/3) of crops. Freedman Thomas Campbell is to furnish himself and produce crops on said Lands and retain one third (1/3) of crops, and to keep the ditches open on said lands, occupied by his crops |\n",
    "\n",
    "| June 18 | Approved Contract between David S. Henry and Freedmen Parson Avery, Jackson Sanders and Reuben Sanders for farming dated June 6th 1866. | David S. Avery to furnish Lands Seeds and Teams. Parson Avery Jackson Sanders and Reuben Sanders freedmen to perform the manual labor necessary to make crops with said teams & Seeds and Lands furnished to keep up the fences and care properly for the stock and implements, and receive one third (1/3) of the crops. \n",
    "Sd. David S. Avery to receive two thirds (2/3) of the crops, and afford each of said Freedman a garden for Corn, Potatoes &c, &c rent free. | \"\"\")\n",
    "t.append(\"\"\"\n",
    "[[5 column table]]\n",
    "\n",
    "|NAMES.|AGE.|SEX.|MONTHLY RATE OF WAGES.|INTEREST IN PROFITS.|\n",
    "|Margery X (her mark) Russell|30|female|none|none|\n",
    "\n",
    "[[/5 column table]]\n",
    "\n",
    "DEPENDENTS.\n",
    "\n",
    "[[6 column table]]\n",
    "\n",
    "|NAMES.|AGE.|SEX.|NAMES.|AGE.|SEX.|\n",
    "|Phillis|9|female|   |   |   |\n",
    "|Emma|6|female|   |   |   |\n",
    "\n",
    "[[/6 column table]]\"\"\")\n",
    "t.append(\"\"\"|No.|Name|Age|Rate of pay per month. Dols Cts.\n",
    "|1|Martha Willis|21|   | \"\"\")\n",
    "notex=t"
   ]
  },
  {
   "cell_type": "code",
   "execution_count": 10,
   "id": "a5243844",
   "metadata": {
    "execution": {
     "iopub.execute_input": "2022-07-15T09:47:49.194509Z",
     "iopub.status.busy": "2022-07-15T09:47:49.193606Z",
     "iopub.status.idle": "2022-07-15T09:47:49.200136Z",
     "shell.execute_reply": "2022-07-15T09:47:49.199214Z"
    },
    "papermill": {
     "duration": 0.019034,
     "end_time": "2022-07-15T09:47:49.202378",
     "exception": false,
     "start_time": "2022-07-15T09:47:49.183344",
     "status": "completed"
    },
    "tags": []
   },
   "outputs": [],
   "source": [
    "ex=[\"\"\"[[table]]\n",
    "No. | NAME. | AGE. | ^[[Twelve months]] WAGES. DOLLS. CTS. | MONTHLY PAYM'T. DOLLS. CTS. [[/preprinted]]\n",
    "|Phil Shaver His x mark|33|$144|00|2|00\n",
    "|John Leo His x mark|16|72|00|1|50\n",
    "|Mumford Randleman His x mark|25|120|00|2|00\n",
    "|Adam Fisher His x mark|25|144|00|2|00\n",
    "|Emma Fisher Her x mark|19|72|00|2|00\n",
    "|Joseph Thompson His x mark|19|144|00|2|00\n",
    "|Henry Kelly Ale His mark x|20|144|00|2|00\n",
    "|Samuel Gillespie His x mark|22|120|00|2|00\n",
    "|Nathan Foard His x mark|40|144|00|2|00\n",
    "|Jordan Cox, His x mark|19|120|00|2|00\n",
    "|Ann Tyson Her x mark|18|84|00|2|00\n",
    "|Liza Dixon Her x mark|30|84|00|2|00\n",
    "|Ceily Auston Her x mark||25|00|84|00\n",
    "|Leon Foard His x mark|13|72|00|2|00\n",
    "|Silas Foard His x mark|10|60|00|2|00\n",
    "|Alfred P. Dixon His x mark|10|48|00|2|00\n",
    "|Mary Hall Her x mark|25|72|00|2|00\n",
    "|Hicksey Her x mark|25|72|00|2|00\n",
    "|Dennis His x mark|14|48|00|2|00\n",
    "|George Little & His x mark|31|120|00|2|00\n",
    "|Wife|23|96|00|1|00\n",
    "|Will Alfred & His x mark|28|120|00|2|00\n",
    "|Wife|19|96|00|2|00\n",
    "|Henry Myers His x mark|22|144|00|2|00\n",
    "|Thomas Granderson His x mark|24|120|00|2|00\n",
    "|Fred Deaton His x mark|23|120|00|2|00\n",
    "|[[Illegible - final line of page is cut off]]|14|72|00|2|00\n",
    "[[/Table]]\"\"\"]\n",
    "ex.append(\"\"\"[[3 column table - no headers]]\n",
    "|---|---|---|\n",
    "|Stephen Barni-|25|Male|\n",
    "|Eve. wife|22|F|\n",
    "|Martin Morrsham|18.|M.|\n",
    "|Wm Marshall|22|M.|\n",
    "|Oliver Hudgrim|19|M.|\n",
    "|John Lunford?|16|M.|\n",
    "|George Hargroves-|21|M.|\n",
    "|Richard Gibbs|15|M.|\n",
    "|& Babe Fannie Martin|19|F|\n",
    "|Senior Gates|33|M|\n",
    "|Bates Hiate|22|M|\n",
    "|John Hiate-|21|M|\n",
    "|Ned Sides-|22|M|\n",
    "|Lawson Patterson|22|M|\n",
    "|John Riverly|30|M|\n",
    "|Soleman Miller|28|M|\n",
    "|Moses Todd|23|M|\n",
    "|Peter Stubbs|33|M|\n",
    "|Sarah wife|28|F|\n",
    "|John Sim|12|M.|\n",
    "|Sam Jones|38|M|\n",
    "|Celia wife-|34|F|\n",
    "|Arter Son|16|M|\n",
    "|Sallie daughter|14|F|\n",
    "|Jim son|12|M|\n",
    "|Epraim Bennet|19|Male|\n",
    "|Sam Marsh|24|Male| \"\"\")"
   ]
  },
  {
   "cell_type": "code",
   "execution_count": 11,
   "id": "3250e65d",
   "metadata": {
    "execution": {
     "iopub.execute_input": "2022-07-15T09:47:49.222596Z",
     "iopub.status.busy": "2022-07-15T09:47:49.221872Z",
     "iopub.status.idle": "2022-07-15T09:47:49.227826Z",
     "shell.execute_reply": "2022-07-15T09:47:49.226166Z"
    },
    "papermill": {
     "duration": 0.018862,
     "end_time": "2022-07-15T09:47:49.230258",
     "exception": false,
     "start_time": "2022-07-15T09:47:49.211396",
     "status": "completed"
    },
    "tags": []
   },
   "outputs": [
    {
     "name": "stdout",
     "output_type": "stream",
     "text": [
      "[[3 column table - no headers]]\n",
      "|---|---|---|\n",
      "|Stephen Barni-|25|Male|\n",
      "|Eve. wife|22|F|\n",
      "|Martin Morrsham|18.|M.|\n",
      "|Wm Marshall|22|M.|\n",
      "|Oliver Hudgrim|19|M.|\n",
      "|John Lunford?|16|M.|\n",
      "|George Hargroves-|21|M.|\n",
      "|Richard Gibbs|15|M.|\n",
      "|& Babe Fannie Martin|19|F|\n",
      "|Senior Gates|33|M|\n",
      "|Bates Hiate|22|M|\n",
      "|John Hiate-|21|M|\n",
      "|Ned Sides-|22|M|\n",
      "|Lawson Patterson|22|M|\n",
      "|John Riverly|30|M|\n",
      "|Soleman Miller|28|M|\n",
      "|Moses Todd|23|M|\n",
      "|Peter Stubbs|33|M|\n",
      "|Sarah wife|28|F|\n",
      "|John Sim|12|M.|\n",
      "|Sam Jones|38|M|\n",
      "|Celia wife-|34|F|\n",
      "|Arter Son|16|M|\n",
      "|Sallie daughter|14|F|\n",
      "|Jim son|12|M|\n",
      "|Epraim Bennet|19|Male|\n",
      "|Sam Marsh|24|Male| \n"
     ]
    }
   ],
   "source": [
    "print(ex[1])"
   ]
  },
  {
   "cell_type": "code",
   "execution_count": 12,
   "id": "8307ad14",
   "metadata": {
    "execution": {
     "iopub.execute_input": "2022-07-15T09:47:49.252809Z",
     "iopub.status.busy": "2022-07-15T09:47:49.252090Z",
     "iopub.status.idle": "2022-07-15T09:47:49.258003Z",
     "shell.execute_reply": "2022-07-15T09:47:49.256346Z"
    },
    "papermill": {
     "duration": 0.019925,
     "end_time": "2022-07-15T09:47:49.260494",
     "exception": false,
     "start_time": "2022-07-15T09:47:49.240569",
     "status": "completed"
    },
    "tags": []
   },
   "outputs": [
    {
     "name": "stdout",
     "output_type": "stream",
     "text": [
      "[[3 columned table]]\n",
      "| --- | --- | --- |\n",
      "| 1866 June 16th | Approved Contracted between John L. Banks and Merrit Sanders 'fm, for farming this year | J.L.B. is to furnish Lands, teams, Seed, and farming implements. Three (3) Bls of corn, Two Hundred and fifty (250) Lbs of Pork. Leather for two (2) pair of Shoes (Mens). Pay two thirds (2/3) of wages paid to hired hands and give sd. Merritt Sanders one third (1/3) of crops made. \n",
      "M.S. is to work on said Lands the whole year. pay one third (1/3) of the hire to hands and furnish some assistance on sd. Lands from his family. | [[note]]\n",
      "\n",
      "| June 18 | Approved Contract between W.H. Sanders and Thomas Campbell 'fm, for farming dated March 1st 1866- | W.H. Sanders is to furnish lands, one horse, seed and feed for horse and receive two thirds (2/3) of crops. Freedman Thomas Campbell is to furnish himself and produce crops on said Lands and retain one third (1/3) of crops, and to keep the ditches open on said lands, occupied by his crops |\n",
      "\n",
      "| June 18 | Approved Contract between David S. Henry and Freedmen Parson Avery, Jackson Sanders and Reuben Sanders for farming dated June 6th 1866. | David S. Avery to furnish Lands Seeds and Teams. Parson Avery Jackson Sanders and Reuben Sanders freedmen to perform the manual labor necessary to make crops with said teams & Seeds and Lands furnished to keep up the fences and care properly for the stock and implements, and receive one third (1/3) of the crops. \n",
      "Sd. David S. Avery to receive two thirds (2/3) of the crops, and afford each of said Freedman a garden for Corn, Potatoes &c, &c rent free. | \n"
     ]
    }
   ],
   "source": [
    "print(notex[4])"
   ]
  },
  {
   "cell_type": "code",
   "execution_count": 13,
   "id": "c18500b5",
   "metadata": {
    "execution": {
     "iopub.execute_input": "2022-07-15T09:47:49.280482Z",
     "iopub.status.busy": "2022-07-15T09:47:49.279757Z",
     "iopub.status.idle": "2022-07-15T09:47:49.992762Z",
     "shell.execute_reply": "2022-07-15T09:47:49.991481Z"
    },
    "papermill": {
     "duration": 0.726079,
     "end_time": "2022-07-15T09:47:49.995589",
     "exception": false,
     "start_time": "2022-07-15T09:47:49.269510",
     "status": "completed"
    },
    "tags": []
   },
   "outputs": [],
   "source": [
    "contract_text = contract.transcription_text.tolist()\n",
    "\n",
    "lns = []\n",
    "tables_extracted = []\n",
    "all_table_pairs = []\n",
    "idx = 0\n",
    "\n",
    "for table_text in contract_text:\n",
    "\n",
    "    tmp_tables = []\n",
    "    table_text = table_text.replace(\"[\", \"\").replace(\"]\", \"\").replace(\"^\", \"\")\n",
    "    \n",
    "    lines = table_text.split(\"\\n\")\n",
    "    lines = [i for i in lines if len(i.strip()) != 0]\n",
    "    \n",
    "    separator_counts = []\n",
    "    table_pairs  = []\n",
    "    \n",
    "    start = 0\n",
    "    end = 0\n",
    "    streak = 0\n",
    "    \n",
    "    for line_n, line in enumerate(lines):\n",
    "        \n",
    "        separator_count = line.count(\"|\")   \n",
    "        \n",
    "        condition_1 = len(separator_counts) == 0 or separator_count == separator_counts[-1]\n",
    "        condition_2 = separator_count != 0\n",
    "            \n",
    "        #If you find the beginning of a table, take note\n",
    "        if condition_1 and condition_2:\n",
    "            if streak == 0:\n",
    "                start = line_n\n",
    "            streak += 1\n",
    "        else:\n",
    "            if streak != 0:\n",
    "                table_pairs.append((start, line_n))\n",
    "                all_table_pairs.append((start, line_n, idx))\n",
    "            streak = 0\n",
    "            start = 0\n",
    "    \n",
    "        separator_counts.append(separator_count)\n",
    "        \n",
    "    if streak > 0:\n",
    "        table_pairs.append((start, line_n))\n",
    "        all_table_pairs.append((start, line_n, idx))\n",
    "        \n",
    "    if len(table_pairs) > 0:\n",
    "        for i, pair in enumerate(table_pairs):\n",
    "            table = lines[pair[0]-1:pair[1]]\n",
    "            tmp_tables.append(table)\n",
    "            \n",
    "        tables_extracted.append(tmp_tables[0])\n",
    "        \n",
    "    else:\n",
    "        tables_extracted.append([])\n",
    "        \n",
    "        \n",
    "    idx += 1"
   ]
  },
  {
   "cell_type": "code",
   "execution_count": 14,
   "id": "41402303",
   "metadata": {
    "execution": {
     "iopub.execute_input": "2022-07-15T09:47:50.016399Z",
     "iopub.status.busy": "2022-07-15T09:47:50.016007Z",
     "iopub.status.idle": "2022-07-15T09:47:50.028513Z",
     "shell.execute_reply": "2022-07-15T09:47:50.027254Z"
    },
    "papermill": {
     "duration": 0.026436,
     "end_time": "2022-07-15T09:47:50.031643",
     "exception": false,
     "start_time": "2022-07-15T09:47:50.005207",
     "status": "completed"
    },
    "tags": []
   },
   "outputs": [
    {
     "name": "stdout",
     "output_type": "stream",
     "text": [
      "4475\n"
     ]
    }
   ],
   "source": [
    "nb=0\n",
    "for example in (tables_extracted):\n",
    "    if len(example)> 0 :\n",
    "        nb=nb+1\n",
    "print(nb)"
   ]
  },
  {
   "cell_type": "code",
   "execution_count": 15,
   "id": "32c8fe9f",
   "metadata": {
    "execution": {
     "iopub.execute_input": "2022-07-15T09:47:50.053722Z",
     "iopub.status.busy": "2022-07-15T09:47:50.053341Z",
     "iopub.status.idle": "2022-07-15T09:47:50.058297Z",
     "shell.execute_reply": "2022-07-15T09:47:50.057163Z"
    },
    "papermill": {
     "duration": 0.018229,
     "end_time": "2022-07-15T09:47:50.060510",
     "exception": false,
     "start_time": "2022-07-15T09:47:50.042281",
     "status": "completed"
    },
    "tags": []
   },
   "outputs": [],
   "source": [
    "# tables_extracted"
   ]
  },
  {
   "cell_type": "code",
   "execution_count": 16,
   "id": "e12ebe62",
   "metadata": {
    "execution": {
     "iopub.execute_input": "2022-07-15T09:47:50.080880Z",
     "iopub.status.busy": "2022-07-15T09:47:50.080267Z",
     "iopub.status.idle": "2022-07-15T09:47:50.759291Z",
     "shell.execute_reply": "2022-07-15T09:47:50.757659Z"
    },
    "papermill": {
     "duration": 0.692463,
     "end_time": "2022-07-15T09:47:50.762270",
     "exception": false,
     "start_time": "2022-07-15T09:47:50.069807",
     "status": "completed"
    },
    "tags": []
   },
   "outputs": [],
   "source": [
    "dcts = []\n",
    "\n",
    "for i, example in enumerate(tables_extracted):\n",
    "    if example != [] and len(example) > 2:\n",
    "        dcts.append(parse_table_to_dict(example))\n",
    "    else:\n",
    "        dcts.append({})"
   ]
  },
  {
   "cell_type": "code",
   "execution_count": 17,
   "id": "1f1c0056",
   "metadata": {
    "execution": {
     "iopub.execute_input": "2022-07-15T09:47:50.783389Z",
     "iopub.status.busy": "2022-07-15T09:47:50.782963Z",
     "iopub.status.idle": "2022-07-15T09:47:50.802602Z",
     "shell.execute_reply": "2022-07-15T09:47:50.801345Z"
    },
    "papermill": {
     "duration": 0.033449,
     "end_time": "2022-07-15T09:47:50.805444",
     "exception": false,
     "start_time": "2022-07-15T09:47:50.771995",
     "status": "completed"
    },
    "tags": []
   },
   "outputs": [],
   "source": [
    "contract[\"tables_parsed\"]=dcts"
   ]
  },
  {
   "cell_type": "code",
   "execution_count": 18,
   "id": "006ef2c0",
   "metadata": {
    "execution": {
     "iopub.execute_input": "2022-07-15T09:47:50.826389Z",
     "iopub.status.busy": "2022-07-15T09:47:50.825924Z",
     "iopub.status.idle": "2022-07-15T09:47:50.848121Z",
     "shell.execute_reply": "2022-07-15T09:47:50.846645Z"
    },
    "papermill": {
     "duration": 0.036068,
     "end_time": "2022-07-15T09:47:50.850736",
     "exception": false,
     "start_time": "2022-07-15T09:47:50.814668",
     "status": "completed"
    },
    "tags": []
   },
   "outputs": [],
   "source": [
    "contract_text = contract.transcription_text.tolist()\n",
    "\n",
    "lns = []\n",
    "tables_extracted = []\n",
    "all_table_pairs = []\n",
    "idx = 0\n",
    "\n",
    "for table_text in notex:\n",
    "\n",
    "    tmp_tables = []\n",
    "    table_text = table_text.replace(\"[\", \"\").replace(\"]\", \"\").replace(\"^\", \"\")\n",
    "    \n",
    "    lines = table_text.split(\"\\n\")\n",
    "    lines = [i for i in lines if len(i.strip()) != 0]\n",
    "    separator_counts = []\n",
    "    table_pairs  = []\n",
    "    \n",
    "    start = 0\n",
    "    end = 0\n",
    "    streak = 0\n",
    "    lns=[]\n",
    "#     \"\"\"i removed lines without separator \"\"\"\n",
    "#     for j in lines:\n",
    "#          if  j.count(\"|\") ==0:\n",
    "#                 lines.remove(j)\n",
    "    \n",
    "    #print(lines , \"\\n\\n\")\n",
    "    \n",
    "    for line_n, line in enumerate(lines):\n",
    "        \n",
    "        separator_count = line.count(\"|\")\n",
    "        \n",
    "        if separator_count == 0:\n",
    "            continue\n",
    "        \n",
    "        \n",
    "        \n",
    "        #print(line ,separator_count, \"\\n\\n\")\n",
    "        \n",
    "        \"\"\"i add the condition where the next line contain more and less separators than the previous line \"\"\"\n",
    "        \n",
    "        condition_1 = len(separator_counts) == 0  or separator_count == separator_counts[-1] or separator_count > separator_counts[-1] or separator_count < separator_counts[-1]\n",
    "        condition_2 = separator_count != 0\n",
    "        condition_3 = separator_count ==0 and streak ==0\n",
    "            \n",
    "         #If you find the beginning of a table, take note\n",
    "        if (condition_1 and condition_2)  :\n",
    "            if streak == 0 :\n",
    "                start = line_n\n",
    "            streak += 1\n",
    "        else:\n",
    "            if streak != 0  :\n",
    "                table_pairs.append((start, line_n))\n",
    "                all_table_pairs.append((start, line_n, idx))\n",
    "            streak = 0\n",
    "            start = 0\n",
    "    \n",
    "        separator_counts.append(separator_count)\n",
    "        \n",
    "    \n",
    "    if (streak > 0)  :\n",
    "        table_pairs.append((start, line_n))\n",
    "        all_table_pairs.append((start, line_n, idx))\n",
    "        \n",
    "    if len(table_pairs) > 0:\n",
    "        for i, pair in enumerate(table_pairs):\n",
    "            \n",
    "            \"remove(-1) : it extrcat more tables , and in the already exist table , there is difference just the description like <3 column table> ... \" \n",
    "            table = lines[pair[0]:pair[1]]\n",
    "            \n",
    "            tmp_tables.append(table)\n",
    "            \n",
    "        tables_extracted.append(tmp_tables[0])\n",
    "        \n",
    "    else:\n",
    "        tables_extracted.append([])\n",
    "     \n",
    "    \n",
    "    idx +=1"
   ]
  },
  {
   "cell_type": "code",
   "execution_count": 19,
   "id": "dc42c0dc",
   "metadata": {
    "execution": {
     "iopub.execute_input": "2022-07-15T09:47:50.871700Z",
     "iopub.status.busy": "2022-07-15T09:47:50.871002Z",
     "iopub.status.idle": "2022-07-15T09:47:50.877311Z",
     "shell.execute_reply": "2022-07-15T09:47:50.875945Z"
    },
    "papermill": {
     "duration": 0.01963,
     "end_time": "2022-07-15T09:47:50.879908",
     "exception": false,
     "start_time": "2022-07-15T09:47:50.860278",
     "status": "completed"
    },
    "tags": []
   },
   "outputs": [
    {
     "name": "stdout",
     "output_type": "stream",
     "text": [
      "7\n"
     ]
    }
   ],
   "source": [
    "nb=0\n",
    "for example in (tables_extracted):\n",
    "    if len(example)> 0 :\n",
    "        nb=nb+1\n",
    "print(nb)"
   ]
  },
  {
   "cell_type": "code",
   "execution_count": 20,
   "id": "99b51203",
   "metadata": {
    "execution": {
     "iopub.execute_input": "2022-07-15T09:47:50.900678Z",
     "iopub.status.busy": "2022-07-15T09:47:50.900288Z",
     "iopub.status.idle": "2022-07-15T09:47:50.905344Z",
     "shell.execute_reply": "2022-07-15T09:47:50.904256Z"
    },
    "papermill": {
     "duration": 0.020014,
     "end_time": "2022-07-15T09:47:50.909332",
     "exception": false,
     "start_time": "2022-07-15T09:47:50.889318",
     "status": "completed"
    },
    "tags": []
   },
   "outputs": [
    {
     "name": "stdout",
     "output_type": "stream",
     "text": [
      "|NAMES.|AGE.|MONTHLY RATE OF WAGES.|INTEREST IN PROFITS.|\n",
      "|Frances her x mark|16|none|none.\n",
      "\n",
      "\n",
      "DEPENDENTS.\n",
      "|NAMES.|AGE.|NAMES.|AGE.|\n"
     ]
    }
   ],
   "source": [
    "print(notex[2]) #separators less than the previous lines"
   ]
  },
  {
   "cell_type": "code",
   "execution_count": 21,
   "id": "ca0732e4",
   "metadata": {
    "execution": {
     "iopub.execute_input": "2022-07-15T09:47:50.929909Z",
     "iopub.status.busy": "2022-07-15T09:47:50.929364Z",
     "iopub.status.idle": "2022-07-15T09:47:50.937820Z",
     "shell.execute_reply": "2022-07-15T09:47:50.936747Z"
    },
    "papermill": {
     "duration": 0.02169,
     "end_time": "2022-07-15T09:47:50.940401",
     "exception": false,
     "start_time": "2022-07-15T09:47:50.918711",
     "status": "completed"
    },
    "tags": []
   },
   "outputs": [
    {
     "data": {
      "text/plain": [
       "[[\"No. | NAME. | AGE. | WAGES. DOLLS. | WAGES. CTS. | MONTHLY PAYM'T. DOLLS. | MONTHLY PAYM'T. CTS.\",\n",
       "  '/preprinted'],\n",
       " ['| No. | NAMES. | AGE. | RATE of PAY per month. Dols. | RATE of PAY per month. Cents. |         ',\n",
       "  '| --- | --- | --- | --- | --- | '],\n",
       " ['|NAMES.|AGE.|MONTHLY RATE OF WAGES.|INTEREST IN PROFITS.|',\n",
       "  '|Frances her x mark|16|none|none.',\n",
       "  'DEPENDENTS.'],\n",
       " ['| NAME | AGE | SEX | CLASS | MONTHLY RATE OF WAGES. | INTEREST IN PROFITS. |',\n",
       "  '|---|---|---|---|---|---|',\n",
       "  '| Franklin | 21 | Male | 1st | $8.00 |'],\n",
       " ['| --- | --- | --- |',\n",
       "  \"| 1866 June 16th | Approved Contracted between John L. Banks and Merrit Sanders 'fm, for farming this year | J.L.B. is to furnish Lands, teams, Seed, and farming implements. Three (3) Bls of corn, Two Hundred and fifty (250) Lbs of Pork. Leather for two (2) pair of Shoes (Mens). Pay two thirds (2/3) of wages paid to hired hands and give sd. Merritt Sanders one third (1/3) of crops made. \",\n",
       "  'M.S. is to work on said Lands the whole year. pay one third (1/3) of the hire to hands and furnish some assistance on sd. Lands from his family. | note',\n",
       "  \"| June 18 | Approved Contract between W.H. Sanders and Thomas Campbell 'fm, for farming dated March 1st 1866- | W.H. Sanders is to furnish lands, one horse, seed and feed for horse and receive two thirds (2/3) of crops. Freedman Thomas Campbell is to furnish himself and produce crops on said Lands and retain one third (1/3) of crops, and to keep the ditches open on said lands, occupied by his crops |\",\n",
       "  '| June 18 | Approved Contract between David S. Henry and Freedmen Parson Avery, Jackson Sanders and Reuben Sanders for farming dated June 6th 1866. | David S. Avery to furnish Lands Seeds and Teams. Parson Avery Jackson Sanders and Reuben Sanders freedmen to perform the manual labor necessary to make crops with said teams & Seeds and Lands furnished to keep up the fences and care properly for the stock and implements, and receive one third (1/3) of the crops. '],\n",
       " ['|NAMES.|AGE.|SEX.|MONTHLY RATE OF WAGES.|INTEREST IN PROFITS.|',\n",
       "  '|Margery X (her mark) Russell|30|female|none|none|',\n",
       "  '/5 column table',\n",
       "  'DEPENDENTS.',\n",
       "  '6 column table',\n",
       "  '|NAMES.|AGE.|SEX.|NAMES.|AGE.|SEX.|',\n",
       "  '|Phillis|9|female|   |   |   |',\n",
       "  '|Emma|6|female|   |   |   |'],\n",
       " ['|No.|Name|Age|Rate of pay per month. Dols Cts.']]"
      ]
     },
     "execution_count": 21,
     "metadata": {},
     "output_type": "execute_result"
    }
   ],
   "source": [
    "tables_extracted"
   ]
  },
  {
   "cell_type": "code",
   "execution_count": 22,
   "id": "4724ba87",
   "metadata": {
    "execution": {
     "iopub.execute_input": "2022-07-15T09:47:50.961499Z",
     "iopub.status.busy": "2022-07-15T09:47:50.960821Z",
     "iopub.status.idle": "2022-07-15T09:47:50.966982Z",
     "shell.execute_reply": "2022-07-15T09:47:50.965436Z"
    },
    "papermill": {
     "duration": 0.019542,
     "end_time": "2022-07-15T09:47:50.969438",
     "exception": false,
     "start_time": "2022-07-15T09:47:50.949896",
     "status": "completed"
    },
    "tags": []
   },
   "outputs": [
    {
     "name": "stdout",
     "output_type": "stream",
     "text": [
      "|NAMES.|AGE.|MONTHLY RATE OF WAGES.|INTEREST IN PROFITS.|\n",
      "|Frances her x mark|16|none|none.\n",
      "\n",
      "\n",
      "DEPENDENTS.\n",
      "|NAMES.|AGE.|NAMES.|AGE.|\n"
     ]
    }
   ],
   "source": [
    "print(notex[2])"
   ]
  },
  {
   "cell_type": "code",
   "execution_count": 23,
   "id": "3777f993",
   "metadata": {
    "execution": {
     "iopub.execute_input": "2022-07-15T09:47:50.990824Z",
     "iopub.status.busy": "2022-07-15T09:47:50.990075Z",
     "iopub.status.idle": "2022-07-15T09:47:50.996358Z",
     "shell.execute_reply": "2022-07-15T09:47:50.995306Z"
    },
    "papermill": {
     "duration": 0.019444,
     "end_time": "2022-07-15T09:47:50.998491",
     "exception": false,
     "start_time": "2022-07-15T09:47:50.979047",
     "status": "completed"
    },
    "tags": []
   },
   "outputs": [
    {
     "data": {
      "text/plain": [
       "\"[[table]]\\nNo. | NAME. | AGE. | ^[[Twelve months]] WAGES. DOLLS. CTS. | MONTHLY PAYM'T. DOLLS. CTS. [[/preprinted]]\\n|Phil Shaver His x mark|33|$144|00|2|00\\n|John Leo His x mark|16|72|00|1|50\\n|Mumford Randleman His x mark|25|120|00|2|00\\n|Adam Fisher His x mark|25|144|00|2|00\\n|Emma Fisher Her x mark|19|72|00|2|00\\n|Joseph Thompson His x mark|19|144|00|2|00\\n|Henry Kelly Ale His mark x|20|144|00|2|00\\n|Samuel Gillespie His x mark|22|120|00|2|00\\n|Nathan Foard His x mark|40|144|00|2|00\\n|Jordan Cox, His x mark|19|120|00|2|00\\n|Ann Tyson Her x mark|18|84|00|2|00\\n|Liza Dixon Her x mark|30|84|00|2|00\\n|Ceily Auston Her x mark||25|00|84|00\\n|Leon Foard His x mark|13|72|00|2|00\\n|Silas Foard His x mark|10|60|00|2|00\\n|Alfred P. Dixon His x mark|10|48|00|2|00\\n|Mary Hall Her x mark|25|72|00|2|00\\n|Hicksey Her x mark|25|72|00|2|00\\n|Dennis His x mark|14|48|00|2|00\\n|George Little & His x mark|31|120|00|2|00\\n|Wife|23|96|00|1|00\\n|Will Alfred & His x mark|28|120|00|2|00\\n|Wife|19|96|00|2|00\\n|Henry Myers His x mark|22|144|00|2|00\\n|Thomas Granderson His x mark|24|120|00|2|00\\n|Fred Deaton His x mark|23|120|00|2|00\\n|[[Illegible - final line of page is cut off]]|14|72|00|2|00\\n[[/Table]]\""
      ]
     },
     "execution_count": 23,
     "metadata": {},
     "output_type": "execute_result"
    }
   ],
   "source": [
    "ex[0]"
   ]
  },
  {
   "cell_type": "code",
   "execution_count": 24,
   "id": "9190ef99",
   "metadata": {
    "execution": {
     "iopub.execute_input": "2022-07-15T09:47:51.020706Z",
     "iopub.status.busy": "2022-07-15T09:47:51.020299Z",
     "iopub.status.idle": "2022-07-15T09:47:51.028912Z",
     "shell.execute_reply": "2022-07-15T09:47:51.027443Z"
    },
    "papermill": {
     "duration": 0.02316,
     "end_time": "2022-07-15T09:47:51.031571",
     "exception": false,
     "start_time": "2022-07-15T09:47:51.008411",
     "status": "completed"
    },
    "tags": []
   },
   "outputs": [
    {
     "data": {
      "text/plain": [
       "[[\"No. | NAME. | AGE. | WAGES. DOLLS. | WAGES. CTS. | MONTHLY PAYM'T. DOLLS. | MONTHLY PAYM'T. CTS.\",\n",
       "  '/preprinted'],\n",
       " ['| No. | NAMES. | AGE. | RATE of PAY per month. Dols. | RATE of PAY per month. Cents. |         ',\n",
       "  '| --- | --- | --- | --- | --- | '],\n",
       " ['|NAMES.|AGE.|MONTHLY RATE OF WAGES.|INTEREST IN PROFITS.|',\n",
       "  '|Frances her x mark|16|none|none.',\n",
       "  'DEPENDENTS.'],\n",
       " ['| NAME | AGE | SEX | CLASS | MONTHLY RATE OF WAGES. | INTEREST IN PROFITS. |',\n",
       "  '|---|---|---|---|---|---|',\n",
       "  '| Franklin | 21 | Male | 1st | $8.00 |'],\n",
       " ['| --- | --- | --- |',\n",
       "  \"| 1866 June 16th | Approved Contracted between John L. Banks and Merrit Sanders 'fm, for farming this year | J.L.B. is to furnish Lands, teams, Seed, and farming implements. Three (3) Bls of corn, Two Hundred and fifty (250) Lbs of Pork. Leather for two (2) pair of Shoes (Mens). Pay two thirds (2/3) of wages paid to hired hands and give sd. Merritt Sanders one third (1/3) of crops made. \",\n",
       "  'M.S. is to work on said Lands the whole year. pay one third (1/3) of the hire to hands and furnish some assistance on sd. Lands from his family. | note',\n",
       "  \"| June 18 | Approved Contract between W.H. Sanders and Thomas Campbell 'fm, for farming dated March 1st 1866- | W.H. Sanders is to furnish lands, one horse, seed and feed for horse and receive two thirds (2/3) of crops. Freedman Thomas Campbell is to furnish himself and produce crops on said Lands and retain one third (1/3) of crops, and to keep the ditches open on said lands, occupied by his crops |\",\n",
       "  '| June 18 | Approved Contract between David S. Henry and Freedmen Parson Avery, Jackson Sanders and Reuben Sanders for farming dated June 6th 1866. | David S. Avery to furnish Lands Seeds and Teams. Parson Avery Jackson Sanders and Reuben Sanders freedmen to perform the manual labor necessary to make crops with said teams & Seeds and Lands furnished to keep up the fences and care properly for the stock and implements, and receive one third (1/3) of the crops. '],\n",
       " ['|NAMES.|AGE.|SEX.|MONTHLY RATE OF WAGES.|INTEREST IN PROFITS.|',\n",
       "  '|Margery X (her mark) Russell|30|female|none|none|',\n",
       "  '/5 column table',\n",
       "  'DEPENDENTS.',\n",
       "  '6 column table',\n",
       "  '|NAMES.|AGE.|SEX.|NAMES.|AGE.|SEX.|',\n",
       "  '|Phillis|9|female|   |   |   |',\n",
       "  '|Emma|6|female|   |   |   |'],\n",
       " ['|No.|Name|Age|Rate of pay per month. Dols Cts.']]"
      ]
     },
     "execution_count": 24,
     "metadata": {},
     "output_type": "execute_result"
    }
   ],
   "source": [
    "tables_extracted"
   ]
  },
  {
   "cell_type": "code",
   "execution_count": 25,
   "id": "383955b9",
   "metadata": {
    "execution": {
     "iopub.execute_input": "2022-07-15T09:47:51.055734Z",
     "iopub.status.busy": "2022-07-15T09:47:51.054176Z",
     "iopub.status.idle": "2022-07-15T09:47:51.063570Z",
     "shell.execute_reply": "2022-07-15T09:47:51.061796Z"
    },
    "papermill": {
     "duration": 0.024124,
     "end_time": "2022-07-15T09:47:51.066266",
     "exception": false,
     "start_time": "2022-07-15T09:47:51.042142",
     "status": "completed"
    },
    "tags": []
   },
   "outputs": [
    {
     "name": "stdout",
     "output_type": "stream",
     "text": [
      "7\n"
     ]
    }
   ],
   "source": [
    "nb=0\n",
    "for example in (tables_extracted):\n",
    "    if len(example)> 0 :\n",
    "        nb=nb+1\n",
    "print(nb)"
   ]
  },
  {
   "cell_type": "code",
   "execution_count": 26,
   "id": "9d706dfd",
   "metadata": {
    "execution": {
     "iopub.execute_input": "2022-07-15T09:47:51.089352Z",
     "iopub.status.busy": "2022-07-15T09:47:51.088069Z",
     "iopub.status.idle": "2022-07-15T09:47:51.111204Z",
     "shell.execute_reply": "2022-07-15T09:47:51.110146Z"
    },
    "papermill": {
     "duration": 0.037953,
     "end_time": "2022-07-15T09:47:51.114387",
     "exception": false,
     "start_time": "2022-07-15T09:47:51.076434",
     "status": "completed"
    },
    "tags": []
   },
   "outputs": [
    {
     "name": "stdout",
     "output_type": "stream",
     "text": [
      "No. 71\r\n",
      "C R Montgomery\r\n",
      "Paid\r\n",
      "\r\n",
      "[[4 Columned Table no headings]]\r\n",
      "| Jerry X Omstead | 60 | King  James | 10  8 |\r\n",
      "| Henry X Omstead | 21 | Jabus  Sarah | 6  9 |\r\n",
      "| Isaac X Omstead | 18 | Elbert  Betsy | 7  5 |\r\n",
      "| David X Bardwell | 20 | Eliza  Jane | 3  8 |\r\n",
      "| George X Montgomery | 18 | Patsy  Mary | 6  3 |\r\n",
      "| Peter X Hall | 19 | Bert Jineson | 1  10 |\r\n",
      "| Alexander X Hall | 16 | Charles Emetrin | 8  6 |\r\n",
      "| Gracy X Billups | 49 | Mae  Alice | 5  4 |\r\n",
      "| Judy X Davis | 36 | Missouri  Nelly | 1  7 |\r\n",
      "| Martha X Oyster | 30 | Helen Price | 6  3 |\n",
      "\n",
      "==========\n",
      "\n",
      "AGREEMENT WITH FREEDMEN.\r\n",
      "\r\n",
      "This Agreement made this First day of August, A.D. 1865, by and between W.L.C. Gerdine of the County of Lowndes, and State of Mississippi, of the first part, and the person hereinafter named and undersigned, Freedmen of the same place, parties hereto of the second part as below\r\n",
      "\r\n",
      "WITNESSETH, That for the purpose of cultivating the Plantation known as the Farm of W.L.C Gerdine in the County & State aforesaid, during the year commencing on the First day of August, A.D. 1865, and terminating on the 1st day of January, 1866. The said W.L.C. Gerdine, party of the first part, in consideration of the promises and conditions hereinafter mentioned on the parties of the second part, agrees to furnish to the said laborers and those rightfully dependent on them, free of charge, clothing and food of good quality and sufficient quantity; good and sufficient quarters; medical attendance when necessary, and kind and humane treatment.\r\n",
      "\r\n",
      "Furthermore it is agreed and the parties of the second part are hereby promised \r\n",
      "and contracted with by W.L.C. Gerdine, for and in consideration of one tenth (1/10) of the crop produced, consisting of wheat, oats, fodder, molasses, corn, peas, ground peas, potatoes and cotton, which is to be justly distributed according to their respective merits and classification. On condition that loss of time from labor shall be proportionally deducted, and the abuse of stock, and breaking of farming tools charged.\r\n",
      "\r\n",
      "And it is Further Agreed, That in case the said W.L.C. Gerdine shall fail, neglect or refuse to fulfil any of the obligations assumed by him or shall furnish said parties of the second part with insufficient food or clothing, or be guilty of cruelty to them, he shall, besides the legal recourse left to the party or parties aggrieved, render this contract liable to annulment by the Provost Marshal of Freedmen.  And it is agreed on the part of the parties of the second part, that they will each well and faithfully perform such labor as the said W.L.C. Gerdine may require of them for the time aforesaid, not exceeding ten hours per day in the summer and nine hours in the winter; and in case any laborer shall absent him or herself from, or shall neglect or refuse to perform the labor herein promised, and the fact shall be proven to the satisfaction of the proper officer, the party so offending shall be punished in such manner as the Provost Marshal shall deem proper.\r\n",
      "\r\n",
      "In Testimony Whereof, The said parties have affixed their names to this AGREEMENT in Lowndes County, State of Missississippi, on the day and date aforesaid.\r\n",
      "\r\n",
      "[[4 columned table]]\r\n",
      "|NAMES.|Age.|No. of Dependents.|REMARKS.|\r\n",
      "|---|---|---|---|\r\n",
      "|Abram|36|2|   |\r\n",
      "|Albert|40|1|   |\r\n",
      "|Ambrose|30|   |   |\r\n",
      "|Arthur|42|   |   |\r\n",
      "|Benjamin|44|1|   |\r\n",
      "|Brandt|18|   |   |\r\n",
      "|Buck|27|   |   |\r\n",
      "\r\n",
      "[[note]]\r\n",
      "Approved L.C. Hubbard\r\n",
      "Capt. & Sub Comm\r\n",
      "Sub Dist Columbus\r\n",
      "[[/note]]\n",
      "\n",
      "==========\n",
      "\n"
     ]
    }
   ],
   "source": [
    "for i in (contract[contract.tables_parsed != {}].sample(n=2).transcription_text.tolist()):\n",
    "\n",
    "    print(i)\n",
    "    print(\"\\n==========\\n\")"
   ]
  },
  {
   "cell_type": "code",
   "execution_count": null,
   "id": "dc4caa82",
   "metadata": {
    "papermill": {
     "duration": 0.009537,
     "end_time": "2022-07-15T09:47:51.134322",
     "exception": false,
     "start_time": "2022-07-15T09:47:51.124785",
     "status": "completed"
    },
    "tags": []
   },
   "outputs": [],
   "source": []
  },
  {
   "cell_type": "code",
   "execution_count": null,
   "id": "edf54b96",
   "metadata": {
    "papermill": {
     "duration": 0.00961,
     "end_time": "2022-07-15T09:47:51.153787",
     "exception": false,
     "start_time": "2022-07-15T09:47:51.144177",
     "status": "completed"
    },
    "tags": []
   },
   "outputs": [],
   "source": []
  }
 ],
 "metadata": {
  "kernelspec": {
   "display_name": "Python 3",
   "language": "python",
   "name": "python3"
  },
  "language_info": {
   "codemirror_mode": {
    "name": "ipython",
    "version": 3
   },
   "file_extension": ".py",
   "mimetype": "text/x-python",
   "name": "python",
   "nbconvert_exporter": "python",
   "pygments_lexer": "ipython3",
   "version": "3.7.12"
  },
  "papermill": {
   "default_parameters": {},
   "duration": 69.784648,
   "end_time": "2022-07-15T09:47:52.087511",
   "environment_variables": {},
   "exception": null,
   "input_path": "__notebook__.ipynb",
   "output_path": "__notebook__.ipynb",
   "parameters": {},
   "start_time": "2022-07-15T09:46:42.302863",
   "version": "2.3.4"
  }
 },
 "nbformat": 4,
 "nbformat_minor": 5
}
