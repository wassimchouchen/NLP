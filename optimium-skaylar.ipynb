{
 "cells": [
  {
   "cell_type": "code",
   "execution_count": 1,
   "id": "4760d216",
   "metadata": {
    "_cell_guid": "b1076dfc-b9ad-4769-8c92-a6c4dae69d19",
    "_kg_hide-output": true,
    "_uuid": "8f2839f25d086af736a60e9eeb907d3b93b6e0e5",
    "execution": {
     "iopub.execute_input": "2022-07-13T17:51:12.626939Z",
     "iopub.status.busy": "2022-07-13T17:51:12.626207Z",
     "iopub.status.idle": "2022-07-13T17:51:14.462066Z",
     "shell.execute_reply": "2022-07-13T17:51:14.460958Z"
    },
    "papermill": {
     "duration": 1.854474,
     "end_time": "2022-07-13T17:51:14.464857",
     "exception": false,
     "start_time": "2022-07-13T17:51:12.610383",
     "status": "completed"
    },
    "tags": []
   },
   "outputs": [],
   "source": [
    "# !pip install flair\n",
    "import time\n",
    "import string\n",
    "import warnings\n",
    "\n",
    "import regex as re\n",
    "from tqdm import tqdm\n",
    "\n",
    "\n",
    "import pickle\n",
    "import numpy as np\n",
    "import pandas as pd \n",
    "\n",
    "import seaborn as sns\n",
    "import matplotlib.pyplot as plt \n",
    "import matplotlib.style as stl \n",
    "\n",
    "\n",
    "\n",
    "from nltk.corpus import stopwords\n",
    "from nltk.corpus import stopwords\n",
    "from nltk.tokenize import word_tokenize\n",
    "from nltk.stem import WordNetLemmatizer\n",
    "from nltk.stem.snowball import SnowballStemmer\n",
    "\n",
    "\n",
    "warnings.filterwarnings(\"ignore\")"
   ]
  },
  {
   "cell_type": "code",
   "execution_count": 2,
   "id": "aaa3f733",
   "metadata": {
    "execution": {
     "iopub.execute_input": "2022-07-13T17:51:14.492711Z",
     "iopub.status.busy": "2022-07-13T17:51:14.492075Z",
     "iopub.status.idle": "2022-07-13T17:51:22.338888Z",
     "shell.execute_reply": "2022-07-13T17:51:22.337870Z"
    },
    "papermill": {
     "duration": 7.863656,
     "end_time": "2022-07-13T17:51:22.341484",
     "exception": false,
     "start_time": "2022-07-13T17:51:14.477828",
     "status": "completed"
    },
    "tags": []
   },
   "outputs": [],
   "source": [
    "documents = pd.read_csv(\"../input/skylarfreedman/Documents-Table 1.csv\", on_bad_lines='skip', sep=\";\")"
   ]
  },
  {
   "cell_type": "code",
   "execution_count": 3,
   "id": "5c90cce2",
   "metadata": {
    "execution": {
     "iopub.execute_input": "2022-07-13T17:51:22.369553Z",
     "iopub.status.busy": "2022-07-13T17:51:22.369147Z",
     "iopub.status.idle": "2022-07-13T17:51:22.435606Z",
     "shell.execute_reply": "2022-07-13T17:51:22.434652Z"
    },
    "papermill": {
     "duration": 0.083931,
     "end_time": "2022-07-13T17:51:22.438280",
     "exception": false,
     "start_time": "2022-07-13T17:51:22.354349",
     "status": "completed"
    },
    "tags": []
   },
   "outputs": [],
   "source": [
    "contract = documents[documents.Category == \"Contracts\"]\n",
    "contract = contract[[\"document_id\", \"project_id\", \"transcription_text\"]]"
   ]
  },
  {
   "cell_type": "code",
   "execution_count": 4,
   "id": "39a59a65",
   "metadata": {
    "execution": {
     "iopub.execute_input": "2022-07-13T17:51:22.471179Z",
     "iopub.status.busy": "2022-07-13T17:51:22.470453Z",
     "iopub.status.idle": "2022-07-13T17:51:22.484403Z",
     "shell.execute_reply": "2022-07-13T17:51:22.483246Z"
    },
    "papermill": {
     "duration": 0.03269,
     "end_time": "2022-07-13T17:51:22.487033",
     "exception": false,
     "start_time": "2022-07-13T17:51:22.454343",
     "status": "completed"
    },
    "tags": []
   },
   "outputs": [],
   "source": [
    "contract = contract[pd.notnull(contract['transcription_text'])]\n",
    "contract = contract.reset_index(drop=True)"
   ]
  },
  {
   "cell_type": "markdown",
   "id": "e6e7a2d5",
   "metadata": {
    "papermill": {
     "duration": 0.012941,
     "end_time": "2022-07-13T17:51:22.513300",
     "exception": false,
     "start_time": "2022-07-13T17:51:22.500359",
     "status": "completed"
    },
    "tags": []
   },
   "source": [
    "# Preprocessing"
   ]
  },
  {
   "cell_type": "code",
   "execution_count": 5,
   "id": "bd844009",
   "metadata": {
    "execution": {
     "iopub.execute_input": "2022-07-13T17:51:22.541108Z",
     "iopub.status.busy": "2022-07-13T17:51:22.540698Z",
     "iopub.status.idle": "2022-07-13T17:51:22.553268Z",
     "shell.execute_reply": "2022-07-13T17:51:22.552076Z"
    },
    "papermill": {
     "duration": 0.029128,
     "end_time": "2022-07-13T17:51:22.555646",
     "exception": false,
     "start_time": "2022-07-13T17:51:22.526518",
     "status": "completed"
    },
    "tags": []
   },
   "outputs": [],
   "source": [
    "stop_words = set(stopwords.words('english'))\n",
    "punctuation = string.punctuation\n",
    "stemmer = SnowballStemmer(language=\"english\")\n",
    "lemmatizer = WordNetLemmatizer()\n",
    "stop_words.remove(\"of\")\n",
    "punct='!\"#$%&\\'()*+-/<=>?@[\\\\]^_`{|}~'\n",
    "\n",
    "def process(s):\n",
    "    \"\"\"Removes stop words, words in brackets\n",
    "    and parentheses, and special characters.\n",
    "    \"\"\"\n",
    "    \n",
    "    s= re.sub(\"([\\(\\[]).*?([\\)\\]])\",\" \",s)\n",
    "    for p in punct:\n",
    "        s = s.replace(p, '')\n",
    "    s = word_tokenize(s)\n",
    "    s = [w for w in s if not w in stop_words] #optional\n",
    "    return s"
   ]
  },
  {
   "cell_type": "code",
   "execution_count": 6,
   "id": "7a8b546c",
   "metadata": {
    "execution": {
     "iopub.execute_input": "2022-07-13T17:51:22.583118Z",
     "iopub.status.busy": "2022-07-13T17:51:22.582724Z",
     "iopub.status.idle": "2022-07-13T17:52:08.008182Z",
     "shell.execute_reply": "2022-07-13T17:52:08.007177Z"
    },
    "papermill": {
     "duration": 45.442517,
     "end_time": "2022-07-13T17:52:08.011077",
     "exception": false,
     "start_time": "2022-07-13T17:51:22.568560",
     "status": "completed"
    },
    "tags": []
   },
   "outputs": [],
   "source": [
    "contract[\"processed_text\"] = contract[\"transcription_text\"].apply(process)\n",
    "contract[\"processed_text\"] = contract[\"processed_text\"].apply(lambda x: \" \".join(x))"
   ]
  },
  {
   "cell_type": "code",
   "execution_count": 7,
   "id": "2d2e23d8",
   "metadata": {
    "execution": {
     "iopub.execute_input": "2022-07-13T17:52:08.039440Z",
     "iopub.status.busy": "2022-07-13T17:52:08.038664Z",
     "iopub.status.idle": "2022-07-13T17:52:08.052872Z",
     "shell.execute_reply": "2022-07-13T17:52:08.052015Z"
    },
    "papermill": {
     "duration": 0.031345,
     "end_time": "2022-07-13T17:52:08.055465",
     "exception": false,
     "start_time": "2022-07-13T17:52:08.024120",
     "status": "completed"
    },
    "tags": []
   },
   "outputs": [],
   "source": [
    "def parse_table_to_dict(example) :\n",
    "    \n",
    "    def clean_record(x) :\n",
    "        if x.strip() == \"\":\n",
    "            return \" \"\n",
    "        return x.strip().replace(\"{\", \"\").replace(\"}\", \"\")\n",
    "\n",
    "    table_dict = {}\n",
    "\n",
    "    if \"name\" in example[0].lower():\n",
    "\n",
    "        cols = []\n",
    "        for col in example[0].split(\"|\"):\n",
    "            if col.strip() == \"\":\n",
    "                cols.append(col)\n",
    "            else:\n",
    "                cols.append(col.strip().lower().replace(\" \", \"_\").replace(\".\", \"\"))\n",
    "\n",
    "        values = np.array([list(map(clean_record, i.split(\"|\"))) for i in example[1:]])\n",
    "\n",
    "    else:\n",
    "\n",
    "        n_cols = len(example[0].split(\"|\"))\n",
    "        cols = [f\"col_{i}\" for i in range(n_cols)]\n",
    "\n",
    "        values = np.array([list(map(clean_record, i.split(\"|\"))) for i in example])\n",
    "        \n",
    "    \n",
    "    #Remove empty rows ([\"----\", \"-----\", \"-----\"])\n",
    "    new_values = []\n",
    "    for line in values:\n",
    "        line_chars = list(set(\"\".join([i.strip() for i in line])))\n",
    "        \n",
    "        if len(line_chars) != 0 and (line_chars[0] != \"-\" or len(line_chars) != 0):\n",
    "            new_values.append(line.tolist())\n",
    "            \n",
    "    values = np.array(new_values)\n",
    "            \n",
    "    if values.reshape(-1).shape[0] != 0:\n",
    "        for i, col in enumerate(cols):\n",
    "            table_dict[col] = values[:, i].tolist()\n",
    "            \n",
    "        return table_dict\n",
    "    \n",
    "    else:\n",
    "        \n",
    "        return {} "
   ]
  },
  {
   "cell_type": "code",
   "execution_count": 8,
   "id": "68e773a2",
   "metadata": {
    "execution": {
     "iopub.execute_input": "2022-07-13T17:52:08.084096Z",
     "iopub.status.busy": "2022-07-13T17:52:08.083334Z",
     "iopub.status.idle": "2022-07-13T17:52:08.104827Z",
     "shell.execute_reply": "2022-07-13T17:52:08.103758Z"
    },
    "papermill": {
     "duration": 0.039189,
     "end_time": "2022-07-13T17:52:08.107975",
     "exception": false,
     "start_time": "2022-07-13T17:52:08.068786",
     "status": "completed"
    },
    "tags": []
   },
   "outputs": [
    {
     "data": {
      "text/html": [
       "<div>\n",
       "<style scoped>\n",
       "    .dataframe tbody tr th:only-of-type {\n",
       "        vertical-align: middle;\n",
       "    }\n",
       "\n",
       "    .dataframe tbody tr th {\n",
       "        vertical-align: top;\n",
       "    }\n",
       "\n",
       "    .dataframe thead th {\n",
       "        text-align: right;\n",
       "    }\n",
       "</style>\n",
       "<table border=\"1\" class=\"dataframe\">\n",
       "  <thead>\n",
       "    <tr style=\"text-align: right;\">\n",
       "      <th></th>\n",
       "      <th>document_id</th>\n",
       "      <th>project_id</th>\n",
       "      <th>transcription_text</th>\n",
       "      <th>processed_text</th>\n",
       "    </tr>\n",
       "  </thead>\n",
       "  <tbody>\n",
       "    <tr>\n",
       "      <th>0</th>\n",
       "      <td>NMAAHC-004567394_00861</td>\n",
       "      <td>11400</td>\n",
       "      <td>[D104 ENCL]\\r\\nNorth Carolina\\r\\nThis indentur...</td>\n",
       "      <td>North Carolina This indenture made entered Thi...</td>\n",
       "    </tr>\n",
       "    <tr>\n",
       "      <th>1</th>\n",
       "      <td>NMAAHC-004567394_00957</td>\n",
       "      <td>11400</td>\n",
       "      <td>[E 11 ENCL] \\r\\n\\r\\n\\r\\nState of North Carolin...</td>\n",
       "      <td>State of North Carolina Currituck County . Thi...</td>\n",
       "    </tr>\n",
       "    <tr>\n",
       "      <th>2</th>\n",
       "      <td>NMAAHC-004567394_00958</td>\n",
       "      <td>11400</td>\n",
       "      <td>near Lizzie Etheridge's gate, thence South 56 ...</td>\n",
       "      <td>near Lizzie Etheridges gate , thence South 56 ...</td>\n",
       "    </tr>\n",
       "    <tr>\n",
       "      <th>3</th>\n",
       "      <td>NMAAHC-004567395_00439</td>\n",
       "      <td>11406</td>\n",
       "      <td>Copy\\r\\n\\r\\nAgreement of Apprenticeship\\r\\nBu ...</td>\n",
       "      <td>Copy Agreement of Apprenticeship Bu Mrs. Kate ...</td>\n",
       "    </tr>\n",
       "    <tr>\n",
       "      <th>4</th>\n",
       "      <td>NMAAHC-004567395_00440</td>\n",
       "      <td>11406</td>\n",
       "      <td>[H 132 ENCL] \\r\\n\\r\\nCopy\\r\\n\\r\\nAgreement of ...</td>\n",
       "      <td>Copy Agreement of Apprenticeship . This agreem...</td>\n",
       "    </tr>\n",
       "    <tr>\n",
       "      <th>...</th>\n",
       "      <td>...</td>\n",
       "      <td>...</td>\n",
       "      <td>...</td>\n",
       "      <td>...</td>\n",
       "    </tr>\n",
       "    <tr>\n",
       "      <th>23724</th>\n",
       "      <td>NMAAHC-007677332_01525</td>\n",
       "      <td>41539</td>\n",
       "      <td>\\N</td>\n",
       "      <td>N</td>\n",
       "    </tr>\n",
       "    <tr>\n",
       "      <th>23725</th>\n",
       "      <td>NMAAHC-007677332_01526</td>\n",
       "      <td>41539</td>\n",
       "      <td>\\N</td>\n",
       "      <td>N</td>\n",
       "    </tr>\n",
       "    <tr>\n",
       "      <th>23726</th>\n",
       "      <td>NMAAHC-007677332_01527</td>\n",
       "      <td>41539</td>\n",
       "      <td>\\N</td>\n",
       "      <td>N</td>\n",
       "    </tr>\n",
       "    <tr>\n",
       "      <th>23727</th>\n",
       "      <td>NMAAHC-007677332_01528</td>\n",
       "      <td>41539</td>\n",
       "      <td>Jo</td>\n",
       "      <td>Jo</td>\n",
       "    </tr>\n",
       "    <tr>\n",
       "      <th>23728</th>\n",
       "      <td>NMAAHC-007677332_01529</td>\n",
       "      <td>41539</td>\n",
       "      <td>\\N</td>\n",
       "      <td>N</td>\n",
       "    </tr>\n",
       "  </tbody>\n",
       "</table>\n",
       "<p>23729 rows × 4 columns</p>\n",
       "</div>"
      ],
      "text/plain": [
       "                  document_id  project_id  \\\n",
       "0      NMAAHC-004567394_00861       11400   \n",
       "1      NMAAHC-004567394_00957       11400   \n",
       "2      NMAAHC-004567394_00958       11400   \n",
       "3      NMAAHC-004567395_00439       11406   \n",
       "4      NMAAHC-004567395_00440       11406   \n",
       "...                       ...         ...   \n",
       "23724  NMAAHC-007677332_01525       41539   \n",
       "23725  NMAAHC-007677332_01526       41539   \n",
       "23726  NMAAHC-007677332_01527       41539   \n",
       "23727  NMAAHC-007677332_01528       41539   \n",
       "23728  NMAAHC-007677332_01529       41539   \n",
       "\n",
       "                                      transcription_text  \\\n",
       "0      [D104 ENCL]\\r\\nNorth Carolina\\r\\nThis indentur...   \n",
       "1      [E 11 ENCL] \\r\\n\\r\\n\\r\\nState of North Carolin...   \n",
       "2      near Lizzie Etheridge's gate, thence South 56 ...   \n",
       "3      Copy\\r\\n\\r\\nAgreement of Apprenticeship\\r\\nBu ...   \n",
       "4      [H 132 ENCL] \\r\\n\\r\\nCopy\\r\\n\\r\\nAgreement of ...   \n",
       "...                                                  ...   \n",
       "23724                                                 \\N   \n",
       "23725                                                 \\N   \n",
       "23726                                                 \\N   \n",
       "23727                                                 Jo   \n",
       "23728                                                 \\N   \n",
       "\n",
       "                                          processed_text  \n",
       "0      North Carolina This indenture made entered Thi...  \n",
       "1      State of North Carolina Currituck County . Thi...  \n",
       "2      near Lizzie Etheridges gate , thence South 56 ...  \n",
       "3      Copy Agreement of Apprenticeship Bu Mrs. Kate ...  \n",
       "4      Copy Agreement of Apprenticeship . This agreem...  \n",
       "...                                                  ...  \n",
       "23724                                                  N  \n",
       "23725                                                  N  \n",
       "23726                                                  N  \n",
       "23727                                                 Jo  \n",
       "23728                                                  N  \n",
       "\n",
       "[23729 rows x 4 columns]"
      ]
     },
     "execution_count": 8,
     "metadata": {},
     "output_type": "execute_result"
    }
   ],
   "source": [
    "contract"
   ]
  },
  {
   "cell_type": "code",
   "execution_count": 9,
   "id": "d95555a7",
   "metadata": {
    "execution": {
     "iopub.execute_input": "2022-07-13T17:52:08.137390Z",
     "iopub.status.busy": "2022-07-13T17:52:08.136614Z",
     "iopub.status.idle": "2022-07-13T17:52:08.825256Z",
     "shell.execute_reply": "2022-07-13T17:52:08.824063Z"
    },
    "papermill": {
     "duration": 0.706256,
     "end_time": "2022-07-13T17:52:08.827823",
     "exception": false,
     "start_time": "2022-07-13T17:52:08.121567",
     "status": "completed"
    },
    "tags": []
   },
   "outputs": [],
   "source": [
    "contract_text = contract.transcription_text.tolist()\n",
    "\n",
    "lns = []\n",
    "tables_extracted = []\n",
    "all_table_pairs = []\n",
    "idx = 0\n",
    "\n",
    "for table_text in contract_text:\n",
    "\n",
    "    tmp_tables = []\n",
    "    table_text = table_text.replace(\"[\", \"\").replace(\"]\", \"\").replace(\"^\", \"\")\n",
    "    \n",
    "    lines = table_text.split(\"\\n\")\n",
    "    lines = [i for i in lines if len(i.strip()) != 0]\n",
    "    \n",
    "    separator_counts = []\n",
    "    table_pairs  = []\n",
    "    \n",
    "    start = 0\n",
    "    end = 0\n",
    "    streak = 0\n",
    "    \n",
    "    for line_n, line in enumerate(lines):\n",
    "        \n",
    "        separator_count = line.count(\"|\")   \n",
    "        \n",
    "        condition_1 = len(separator_counts) == 0 or separator_count == separator_counts[-1]\n",
    "        condition_2 = separator_count != 0\n",
    "            \n",
    "        #If you find the beginning of a table, take note\n",
    "        if condition_1 and condition_2:\n",
    "            if streak == 0:\n",
    "                start = line_n\n",
    "            streak += 1\n",
    "        else:\n",
    "            if streak != 0:\n",
    "                table_pairs.append((start, line_n))\n",
    "                all_table_pairs.append((start, line_n, idx))\n",
    "            streak = 0\n",
    "            start = 0\n",
    "    \n",
    "        separator_counts.append(separator_count)\n",
    "        \n",
    "    if streak > 0:\n",
    "        table_pairs.append((start, line_n))\n",
    "        all_table_pairs.append((start, line_n, idx))\n",
    "        \n",
    "    if len(table_pairs) > 0:\n",
    "        for i, pair in enumerate(table_pairs):\n",
    "            table = lines[pair[0]-1:pair[1]]\n",
    "            tmp_tables.append(table)\n",
    "            \n",
    "        tables_extracted.append(tmp_tables[0])\n",
    "        \n",
    "    else:\n",
    "        tables_extracted.append([])\n",
    "        \n",
    "        \n",
    "    idx += 1\n",
    "        "
   ]
  },
  {
   "cell_type": "code",
   "execution_count": 10,
   "id": "76ae7f24",
   "metadata": {
    "execution": {
     "iopub.execute_input": "2022-07-13T17:52:08.855524Z",
     "iopub.status.busy": "2022-07-13T17:52:08.855139Z",
     "iopub.status.idle": "2022-07-13T17:52:08.866404Z",
     "shell.execute_reply": "2022-07-13T17:52:08.865612Z"
    },
    "papermill": {
     "duration": 0.02813,
     "end_time": "2022-07-13T17:52:08.869131",
     "exception": false,
     "start_time": "2022-07-13T17:52:08.841001",
     "status": "completed"
    },
    "tags": []
   },
   "outputs": [
    {
     "name": "stdout",
     "output_type": "stream",
     "text": [
      "4475\n"
     ]
    }
   ],
   "source": [
    "nb=0\n",
    "for example in (tables_extracted):\n",
    "    if len(example)> 0 :\n",
    "        nb=nb+1\n",
    "print(nb)"
   ]
  },
  {
   "cell_type": "code",
   "execution_count": 11,
   "id": "c46c197e",
   "metadata": {
    "execution": {
     "iopub.execute_input": "2022-07-13T17:52:08.898416Z",
     "iopub.status.busy": "2022-07-13T17:52:08.898018Z",
     "iopub.status.idle": "2022-07-13T17:52:10.190124Z",
     "shell.execute_reply": "2022-07-13T17:52:10.189063Z"
    },
    "papermill": {
     "duration": 1.309052,
     "end_time": "2022-07-13T17:52:10.192595",
     "exception": false,
     "start_time": "2022-07-13T17:52:08.883543",
     "status": "completed"
    },
    "tags": []
   },
   "outputs": [],
   "source": [
    "dcts = []\n",
    "L=[]\n",
    "nxt=[]\n",
    "for i, example in enumerate(tables_extracted):\n",
    "    if example != [] and len(example) > 0:\n",
    "        L.append(example)\n",
    "        dcts.append(parse_table_to_dict(example))\n",
    "        nxt.append(parse_table_to_dict(example))\n",
    "    else:\n",
    "        dcts.append({})"
   ]
  },
  {
   "cell_type": "code",
   "execution_count": 12,
   "id": "87402df6",
   "metadata": {
    "execution": {
     "iopub.execute_input": "2022-07-13T17:52:10.221393Z",
     "iopub.status.busy": "2022-07-13T17:52:10.220659Z",
     "iopub.status.idle": "2022-07-13T17:52:10.230584Z",
     "shell.execute_reply": "2022-07-13T17:52:10.229810Z"
    },
    "papermill": {
     "duration": 0.026716,
     "end_time": "2022-07-13T17:52:10.232862",
     "exception": false,
     "start_time": "2022-07-13T17:52:10.206146",
     "status": "completed"
    },
    "tags": []
   },
   "outputs": [],
   "source": [
    "l=[]\n",
    "for i in tables_extracted:\n",
    "    if len(i)>0:\n",
    "        l.append(i)"
   ]
  },
  {
   "cell_type": "code",
   "execution_count": 13,
   "id": "00d706d6",
   "metadata": {
    "execution": {
     "iopub.execute_input": "2022-07-13T17:52:10.260924Z",
     "iopub.status.busy": "2022-07-13T17:52:10.260250Z",
     "iopub.status.idle": "2022-07-13T17:52:10.265405Z",
     "shell.execute_reply": "2022-07-13T17:52:10.264727Z"
    },
    "papermill": {
     "duration": 0.021461,
     "end_time": "2022-07-13T17:52:10.267359",
     "exception": false,
     "start_time": "2022-07-13T17:52:10.245898",
     "status": "completed"
    },
    "tags": []
   },
   "outputs": [
    {
     "data": {
      "text/plain": [
       "4475"
      ]
     },
     "execution_count": 13,
     "metadata": {},
     "output_type": "execute_result"
    }
   ],
   "source": [
    "len(l)"
   ]
  },
  {
   "cell_type": "code",
   "execution_count": 14,
   "id": "ca170009",
   "metadata": {
    "execution": {
     "iopub.execute_input": "2022-07-13T17:52:10.296563Z",
     "iopub.status.busy": "2022-07-13T17:52:10.295790Z",
     "iopub.status.idle": "2022-07-13T17:52:10.307697Z",
     "shell.execute_reply": "2022-07-13T17:52:10.306799Z"
    },
    "papermill": {
     "duration": 0.029571,
     "end_time": "2022-07-13T17:52:10.310384",
     "exception": false,
     "start_time": "2022-07-13T17:52:10.280813",
     "status": "completed"
    },
    "tags": []
   },
   "outputs": [
    {
     "name": "stdout",
     "output_type": "stream",
     "text": [
      "4446\n"
     ]
    }
   ],
   "source": [
    "nb=0\n",
    "for example in(dcts):\n",
    "    if len(example)  > 0 :\n",
    "        nb=nb+1\n",
    "print(nb)"
   ]
  },
  {
   "cell_type": "markdown",
   "id": "8505cead",
   "metadata": {
    "papermill": {
     "duration": 0.013416,
     "end_time": "2022-07-13T17:52:10.337321",
     "exception": false,
     "start_time": "2022-07-13T17:52:10.323905",
     "status": "completed"
    },
    "tags": []
   },
   "source": [
    "## Getting tables"
   ]
  },
  {
   "cell_type": "code",
   "execution_count": 15,
   "id": "16deed6b",
   "metadata": {
    "execution": {
     "iopub.execute_input": "2022-07-13T17:52:10.366133Z",
     "iopub.status.busy": "2022-07-13T17:52:10.365764Z",
     "iopub.status.idle": "2022-07-13T17:52:11.071402Z",
     "shell.execute_reply": "2022-07-13T17:52:11.070371Z"
    },
    "papermill": {
     "duration": 0.723476,
     "end_time": "2022-07-13T17:52:11.074386",
     "exception": false,
     "start_time": "2022-07-13T17:52:10.350910",
     "status": "completed"
    },
    "tags": []
   },
   "outputs": [],
   "source": [
    "contract_text = contract.transcription_text.tolist()\n",
    "\n",
    "lns = []\n",
    "tables_extracted = []\n",
    "all_table_pairs = []\n",
    "idx = 0\n",
    "\n",
    "for table_text in contract_text:\n",
    "\n",
    "    tmp_tables = []\n",
    "    table_text = table_text.replace(\"[\", \"\").replace(\"]\", \"\").replace(\"^\", \"\")\n",
    "    \n",
    "    lines = table_text.split(\"\\n\")\n",
    "    lines = [i for i in lines if len(i.strip()) != 0]\n",
    "    \n",
    "    separator_counts = []\n",
    "    table_pairs  = []\n",
    "    \n",
    "    start = 0\n",
    "    end = 0\n",
    "    streak = 0\n",
    "    \n",
    "    for line_n, line in enumerate(lines):\n",
    "        \n",
    "        separator_count = line.count(\"|\")   \n",
    "        \n",
    "        condition_1 = len(separator_counts) == 0 or separator_count == separator_counts[-1]\n",
    "        condition_2 = separator_count != 0\n",
    "            \n",
    "        #If you find the beginning of a table, take note ,condition_1 and\n",
    "        if condition_1 and condition_2:\n",
    "            if streak == 0:\n",
    "                start = line_n\n",
    "            streak += 1\n",
    "        else:\n",
    "            if streak != 0:\n",
    "                table_pairs.append((start, line_n))\n",
    "                all_table_pairs.append((start, line_n, idx))\n",
    "            streak = 0\n",
    "            start = 0\n",
    "    \n",
    "        separator_counts.append(separator_count)\n",
    "        \n",
    "    if streak > 0:\n",
    "        table_pairs.append((start, line_n))\n",
    "        all_table_pairs.append((start, line_n, idx))\n",
    "        \n",
    "    if len(table_pairs) > 0:\n",
    "        for i, pair in enumerate(table_pairs):\n",
    "            table = lines[pair[0]-1:pair[1]]\n",
    "            tmp_tables.append(table)\n",
    "            \n",
    "        tables_extracted.append(tmp_tables[0])\n",
    "        \n",
    "    else:\n",
    "        tables_extracted.append([])\n",
    "        \n",
    "        \n",
    "    idx += 1\n",
    "        "
   ]
  },
  {
   "cell_type": "code",
   "execution_count": 16,
   "id": "b34c1650",
   "metadata": {
    "execution": {
     "iopub.execute_input": "2022-07-13T17:52:11.103949Z",
     "iopub.status.busy": "2022-07-13T17:52:11.103525Z",
     "iopub.status.idle": "2022-07-13T17:52:11.110313Z",
     "shell.execute_reply": "2022-07-13T17:52:11.109102Z"
    },
    "papermill": {
     "duration": 0.024038,
     "end_time": "2022-07-13T17:52:11.112570",
     "exception": false,
     "start_time": "2022-07-13T17:52:11.088532",
     "status": "completed"
    },
    "tags": []
   },
   "outputs": [
    {
     "data": {
      "text/plain": [
       "23729"
      ]
     },
     "execution_count": 16,
     "metadata": {},
     "output_type": "execute_result"
    }
   ],
   "source": [
    "idx"
   ]
  },
  {
   "cell_type": "code",
   "execution_count": 17,
   "id": "02e091c6",
   "metadata": {
    "execution": {
     "iopub.execute_input": "2022-07-13T17:52:11.141266Z",
     "iopub.status.busy": "2022-07-13T17:52:11.140863Z",
     "iopub.status.idle": "2022-07-13T17:52:11.154692Z",
     "shell.execute_reply": "2022-07-13T17:52:11.153470Z"
    },
    "papermill": {
     "duration": 0.030687,
     "end_time": "2022-07-13T17:52:11.157112",
     "exception": false,
     "start_time": "2022-07-13T17:52:11.126425",
     "status": "completed"
    },
    "tags": []
   },
   "outputs": [
    {
     "name": "stdout",
     "output_type": "stream",
     "text": [
      "4475\n"
     ]
    }
   ],
   "source": [
    "nb=0\n",
    "for i, example in enumerate(tables_extracted):\n",
    "    if len(example)!= 0 :\n",
    "        nb=nb+1\n",
    "print(nb)"
   ]
  },
  {
   "cell_type": "code",
   "execution_count": 18,
   "id": "c8287c6c",
   "metadata": {
    "execution": {
     "iopub.execute_input": "2022-07-13T17:52:11.185464Z",
     "iopub.status.busy": "2022-07-13T17:52:11.185064Z",
     "iopub.status.idle": "2022-07-13T17:52:11.865233Z",
     "shell.execute_reply": "2022-07-13T17:52:11.864192Z"
    },
    "papermill": {
     "duration": 0.697682,
     "end_time": "2022-07-13T17:52:11.868170",
     "exception": false,
     "start_time": "2022-07-13T17:52:11.170488",
     "status": "completed"
    },
    "tags": []
   },
   "outputs": [],
   "source": [
    "dcts = []\n",
    "\n",
    "for i, example in enumerate(tables_extracted):\n",
    "    if example != [] and len(example) > 0:\n",
    "        dcts.append(parse_table_to_dict(example))\n",
    "    else:\n",
    "        dcts.append({})\n",
    "        "
   ]
  },
  {
   "cell_type": "code",
   "execution_count": 19,
   "id": "5acafab9",
   "metadata": {
    "execution": {
     "iopub.execute_input": "2022-07-13T17:52:11.896744Z",
     "iopub.status.busy": "2022-07-13T17:52:11.896336Z",
     "iopub.status.idle": "2022-07-13T17:52:11.916107Z",
     "shell.execute_reply": "2022-07-13T17:52:11.915191Z"
    },
    "papermill": {
     "duration": 0.036461,
     "end_time": "2022-07-13T17:52:11.918217",
     "exception": false,
     "start_time": "2022-07-13T17:52:11.881756",
     "status": "completed"
    },
    "tags": []
   },
   "outputs": [],
   "source": [
    "contract[\"tables_parsed\"] = dcts"
   ]
  },
  {
   "cell_type": "code",
   "execution_count": 20,
   "id": "19ddc9a4",
   "metadata": {
    "execution": {
     "iopub.execute_input": "2022-07-13T17:52:11.946508Z",
     "iopub.status.busy": "2022-07-13T17:52:11.946117Z",
     "iopub.status.idle": "2022-07-13T17:52:11.960216Z",
     "shell.execute_reply": "2022-07-13T17:52:11.959414Z"
    },
    "papermill": {
     "duration": 0.030976,
     "end_time": "2022-07-13T17:52:11.962544",
     "exception": false,
     "start_time": "2022-07-13T17:52:11.931568",
     "status": "completed"
    },
    "tags": []
   },
   "outputs": [
    {
     "name": "stdout",
     "output_type": "stream",
     "text": [
      "4446\n"
     ]
    }
   ],
   "source": [
    "nb=0\n",
    "for i, example in enumerate(dcts):\n",
    "    if len(example)!= 0 :\n",
    "        nb=nb+1\n",
    "print(nb)"
   ]
  },
  {
   "cell_type": "code",
   "execution_count": 21,
   "id": "b48bdf99",
   "metadata": {
    "execution": {
     "iopub.execute_input": "2022-07-13T17:52:11.991934Z",
     "iopub.status.busy": "2022-07-13T17:52:11.991502Z",
     "iopub.status.idle": "2022-07-13T17:52:12.012277Z",
     "shell.execute_reply": "2022-07-13T17:52:12.011061Z"
    },
    "papermill": {
     "duration": 0.038922,
     "end_time": "2022-07-13T17:52:12.015354",
     "exception": false,
     "start_time": "2022-07-13T17:52:11.976432",
     "status": "completed"
    },
    "tags": []
   },
   "outputs": [
    {
     "name": "stdout",
     "output_type": "stream",
     "text": [
      "Washington D.C.\r\n",
      "28th Feby. 1866\r\n",
      "\r\n",
      "Contract No 728\r\n",
      "\r\n",
      "Edward Osborn\r\n",
      "With\r\n",
      "(4) men (1) one woman\r\n",
      "\n",
      "\n",
      "==========\n",
      "\n",
      "July 6th\r\n",
      "J. G. Mackey\n",
      "\n",
      "==========\n",
      "\n"
     ]
    }
   ],
   "source": [
    "for i in (contract[contract.tables_parsed == {}].sample(n=2).transcription_text.tolist()):\n",
    "\n",
    "    print(i)\n",
    "    print(\"\\n==========\\n\")"
   ]
  },
  {
   "cell_type": "code",
   "execution_count": 22,
   "id": "1d40366c",
   "metadata": {
    "execution": {
     "iopub.execute_input": "2022-07-13T17:52:12.044763Z",
     "iopub.status.busy": "2022-07-13T17:52:12.044398Z",
     "iopub.status.idle": "2022-07-13T17:52:12.048612Z",
     "shell.execute_reply": "2022-07-13T17:52:12.047814Z"
    },
    "papermill": {
     "duration": 0.021118,
     "end_time": "2022-07-13T17:52:12.050562",
     "exception": false,
     "start_time": "2022-07-13T17:52:12.029444",
     "status": "completed"
    },
    "tags": []
   },
   "outputs": [],
   "source": [
    "t=[]\n",
    "t.append(\"\"\"[[7 column table]]\n",
    "No. | NAME. | AGE. | WAGES. DOLLS. | [[WAGES.]] CTS. | MONTHLY PAYM'T. DOLLS. | [[MONTHLY PAYM'T.]] CTS.\n",
    "[[/preprinted]]\n",
    "\n",
    "1 | Sarah | 17 | 2 | 50 | 1 | 75 \"\"\")"
   ]
  },
  {
   "cell_type": "code",
   "execution_count": 23,
   "id": "9c8a3b8a",
   "metadata": {
    "execution": {
     "iopub.execute_input": "2022-07-13T17:52:12.079784Z",
     "iopub.status.busy": "2022-07-13T17:52:12.079396Z",
     "iopub.status.idle": "2022-07-13T17:52:12.083472Z",
     "shell.execute_reply": "2022-07-13T17:52:12.082720Z"
    },
    "jupyter": {
     "source_hidden": true
    },
    "papermill": {
     "duration": 0.021463,
     "end_time": "2022-07-13T17:52:12.085495",
     "exception": false,
     "start_time": "2022-07-13T17:52:12.064032",
     "status": "completed"
    },
    "tags": []
   },
   "outputs": [],
   "source": [
    "t.append(\"\"\"[[5 columned table]]\n",
    "| No. | NAMES. | AGE. | RATE of PAY per month. Dols. | RATE of PAY per month. Cents. |         \n",
    "| --- | --- | --- | --- | --- | \n",
    "| 1861 | Phillip Carr | 13 | 100 | 00 |\"\"\")"
   ]
  },
  {
   "cell_type": "code",
   "execution_count": 24,
   "id": "3d2d95bb",
   "metadata": {
    "execution": {
     "iopub.execute_input": "2022-07-13T17:52:12.114112Z",
     "iopub.status.busy": "2022-07-13T17:52:12.113773Z",
     "iopub.status.idle": "2022-07-13T17:52:12.117346Z",
     "shell.execute_reply": "2022-07-13T17:52:12.116658Z"
    },
    "jupyter": {
     "source_hidden": true
    },
    "papermill": {
     "duration": 0.020351,
     "end_time": "2022-07-13T17:52:12.119283",
     "exception": false,
     "start_time": "2022-07-13T17:52:12.098932",
     "status": "completed"
    },
    "tags": []
   },
   "outputs": [],
   "source": [
    "t.append(\"\"\"|NAMES.|AGE.|MONTHLY RATE OF WAGES.|INTEREST IN PROFITS.|\n",
    "|Frances her x mark|16|none|none.\n",
    "\n",
    "\n",
    "DEPENDENTS.\n",
    "|NAMES.|AGE.|NAMES.|AGE.|\"\"\")"
   ]
  },
  {
   "cell_type": "code",
   "execution_count": 25,
   "id": "a4bb0564",
   "metadata": {
    "execution": {
     "iopub.execute_input": "2022-07-13T17:52:12.147981Z",
     "iopub.status.busy": "2022-07-13T17:52:12.147552Z",
     "iopub.status.idle": "2022-07-13T17:52:12.153527Z",
     "shell.execute_reply": "2022-07-13T17:52:12.152738Z"
    },
    "jupyter": {
     "source_hidden": true
    },
    "papermill": {
     "duration": 0.023004,
     "end_time": "2022-07-13T17:52:12.155598",
     "exception": false,
     "start_time": "2022-07-13T17:52:12.132594",
     "status": "completed"
    },
    "tags": []
   },
   "outputs": [],
   "source": [
    "t.append(\"\"\"[[6 Columned Table]]\n",
    "| NAME | AGE | SEX | CLASS | MONTHLY RATE OF WAGES. | INTEREST IN PROFITS. |\n",
    "|---|---|---|---|---|---|\n",
    "| Franklin | 21 | Male | 1st | $8.00 |\n",
    "[[/6 columned table]]\n",
    "\"\"\")\n",
    "t.append(\"\"\"[[3 columned table]]\n",
    "| --- | --- | --- |\n",
    "| 1866 June 16th | Approved Contracted between John L. Banks and Merrit Sanders 'fm, for farming this year | J.L.B. is to furnish Lands, teams, Seed, and farming implements. Three (3) Bls of corn, Two Hundred and fifty (250) Lbs of Pork. Leather for two (2) pair of Shoes (Mens). Pay two thirds (2/3) of wages paid to hired hands and give sd. Merritt Sanders one third (1/3) of crops made. \n",
    "M.S. is to work on said Lands the whole year. pay one third (1/3) of the hire to hands and furnish some assistance on sd. Lands from his family. | [[note]]\n",
    "\n",
    "| June 18 | Approved Contract between W.H. Sanders and Thomas Campbell 'fm, for farming dated March 1st 1866- | W.H. Sanders is to furnish lands, one horse, seed and feed for horse and receive two thirds (2/3) of crops. Freedman Thomas Campbell is to furnish himself and produce crops on said Lands and retain one third (1/3) of crops, and to keep the ditches open on said lands, occupied by his crops |\n",
    "\n",
    "| June 18 | Approved Contract between David S. Henry and Freedmen Parson Avery, Jackson Sanders and Reuben Sanders for farming dated June 6th 1866. | David S. Avery to furnish Lands Seeds and Teams. Parson Avery Jackson Sanders and Reuben Sanders freedmen to perform the manual labor necessary to make crops with said teams & Seeds and Lands furnished to keep up the fences and care properly for the stock and implements, and receive one third (1/3) of the crops. \n",
    "Sd. David S. Avery to receive two thirds (2/3) of the crops, and afford each of said Freedman a garden for Corn, Potatoes &c, &c rent free. | \"\"\")"
   ]
  },
  {
   "cell_type": "code",
   "execution_count": 26,
   "id": "c478bfe0",
   "metadata": {
    "execution": {
     "iopub.execute_input": "2022-07-13T17:52:12.184496Z",
     "iopub.status.busy": "2022-07-13T17:52:12.183914Z",
     "iopub.status.idle": "2022-07-13T17:52:12.188193Z",
     "shell.execute_reply": "2022-07-13T17:52:12.187434Z"
    },
    "jupyter": {
     "source_hidden": true
    },
    "papermill": {
     "duration": 0.021066,
     "end_time": "2022-07-13T17:52:12.190181",
     "exception": false,
     "start_time": "2022-07-13T17:52:12.169115",
     "status": "completed"
    },
    "tags": []
   },
   "outputs": [],
   "source": [
    "t.append(\"\"\"\n",
    "[[5 column table]]\n",
    "\n",
    "|NAMES.|AGE.|SEX.|MONTHLY RATE OF WAGES.|INTEREST IN PROFITS.|\n",
    "|Margery X (her mark) Russell|30|female|none|none|\n",
    "\n",
    "[[/5 column table]]\n",
    "\n",
    "DEPENDENTS.\n",
    "\n",
    "[[6 column table]]\n",
    "\n",
    "|NAMES.|AGE.|SEX.|NAMES.|AGE.|SEX.|\n",
    "|Phillis|9|female|   |   |   |\n",
    "|Emma|6|female|   |   |   |\n",
    "\n",
    "[[/6 column table]]\"\"\")\n",
    "t.append(\"\"\"|No.|Name|Age|Rate of pay per month. Dols Cts.\n",
    "|1|Martha Willis|21|   | \"\"\")"
   ]
  },
  {
   "cell_type": "code",
   "execution_count": 27,
   "id": "9f824321",
   "metadata": {
    "execution": {
     "iopub.execute_input": "2022-07-13T17:52:12.218914Z",
     "iopub.status.busy": "2022-07-13T17:52:12.218515Z",
     "iopub.status.idle": "2022-07-13T17:52:12.222151Z",
     "shell.execute_reply": "2022-07-13T17:52:12.221424Z"
    },
    "papermill": {
     "duration": 0.020536,
     "end_time": "2022-07-13T17:52:12.224193",
     "exception": false,
     "start_time": "2022-07-13T17:52:12.203657",
     "status": "completed"
    },
    "tags": []
   },
   "outputs": [],
   "source": [
    "t2=t"
   ]
  },
  {
   "cell_type": "code",
   "execution_count": 28,
   "id": "6a99fe0b",
   "metadata": {
    "execution": {
     "iopub.execute_input": "2022-07-13T17:52:12.252719Z",
     "iopub.status.busy": "2022-07-13T17:52:12.252304Z",
     "iopub.status.idle": "2022-07-13T17:52:12.257859Z",
     "shell.execute_reply": "2022-07-13T17:52:12.257106Z"
    },
    "papermill": {
     "duration": 0.022396,
     "end_time": "2022-07-13T17:52:12.260034",
     "exception": false,
     "start_time": "2022-07-13T17:52:12.237638",
     "status": "completed"
    },
    "tags": []
   },
   "outputs": [
    {
     "data": {
      "text/plain": [
       "7"
      ]
     },
     "execution_count": 28,
     "metadata": {},
     "output_type": "execute_result"
    }
   ],
   "source": [
    "len(t2)"
   ]
  },
  {
   "cell_type": "code",
   "execution_count": 29,
   "id": "0a45544b",
   "metadata": {
    "execution": {
     "iopub.execute_input": "2022-07-13T17:52:12.289938Z",
     "iopub.status.busy": "2022-07-13T17:52:12.289198Z",
     "iopub.status.idle": "2022-07-13T17:52:12.294740Z",
     "shell.execute_reply": "2022-07-13T17:52:12.293987Z"
    },
    "papermill": {
     "duration": 0.022965,
     "end_time": "2022-07-13T17:52:12.296886",
     "exception": false,
     "start_time": "2022-07-13T17:52:12.273921",
     "status": "completed"
    },
    "tags": []
   },
   "outputs": [
    {
     "data": {
      "text/plain": [
       "'\\n[[5 column table]]\\n\\n|NAMES.|AGE.|SEX.|MONTHLY RATE OF WAGES.|INTEREST IN PROFITS.|\\n|Margery X (her mark) Russell|30|female|none|none|\\n\\n[[/5 column table]]\\n\\nDEPENDENTS.\\n\\n[[6 column table]]\\n\\n|NAMES.|AGE.|SEX.|NAMES.|AGE.|SEX.|\\n|Phillis|9|female|   |   |   |\\n|Emma|6|female|   |   |   |\\n\\n[[/6 column table]]'"
      ]
     },
     "execution_count": 29,
     "metadata": {},
     "output_type": "execute_result"
    }
   ],
   "source": [
    "t2[5]"
   ]
  },
  {
   "cell_type": "markdown",
   "id": "464034f9",
   "metadata": {
    "papermill": {
     "duration": 0.013367,
     "end_time": "2022-07-13T17:52:12.324193",
     "exception": false,
     "start_time": "2022-07-13T17:52:12.310826",
     "status": "completed"
    },
    "tags": []
   },
   "source": [
    "****"
   ]
  },
  {
   "cell_type": "markdown",
   "id": "fa6c3f58",
   "metadata": {
    "papermill": {
     "duration": 0.013311,
     "end_time": "2022-07-13T17:52:12.351291",
     "exception": false,
     "start_time": "2022-07-13T17:52:12.337980",
     "status": "completed"
    },
    "tags": []
   },
   "source": [
    "****"
   ]
  },
  {
   "cell_type": "code",
   "execution_count": 30,
   "id": "41852f3f",
   "metadata": {
    "execution": {
     "iopub.execute_input": "2022-07-13T17:52:12.381064Z",
     "iopub.status.busy": "2022-07-13T17:52:12.380107Z",
     "iopub.status.idle": "2022-07-13T17:52:12.396290Z",
     "shell.execute_reply": "2022-07-13T17:52:12.395484Z"
    },
    "papermill": {
     "duration": 0.033595,
     "end_time": "2022-07-13T17:52:12.398766",
     "exception": false,
     "start_time": "2022-07-13T17:52:12.365171",
     "status": "completed"
    },
    "tags": []
   },
   "outputs": [],
   "source": [
    "contract_text = contract.transcription_text.tolist()\n",
    "\n",
    "lns = []\n",
    "tables_extractedd = []\n",
    "all_table_pairs = []\n",
    "idx = 0\n",
    "\n",
    "for table_text in t2:\n",
    "\n",
    "    tmp_tables = []\n",
    "    table_text = table_text.replace(\"[\", \"\").replace(\"]\", \"\").replace(\"^\", \"\")\n",
    "    \n",
    "    lines = table_text.split(\"\\n\")\n",
    "    lines = [i for i in lines if len(i.strip()) != 0]\n",
    "    \n",
    "    separator_counts = []\n",
    "    table_pairs  = []\n",
    "    \n",
    "    start = 0\n",
    "    end = 0\n",
    "    streak = 0\n",
    "    \n",
    "    for line_n, line in enumerate(lines):\n",
    "        \n",
    "        separator_count = line.count(\"|\")   \n",
    "        \n",
    "        condition_1 = len(separator_counts) == 0 or separator_count == separator_counts[len(separator_counts)-1]\n",
    "        condition_2 = separator_count != 0\n",
    "            \n",
    "        #If you find the beginning of a table, take note ,condition_1 and\n",
    "        if condition_1 and condition_2:\n",
    "            if streak == 0:\n",
    "                start = line_n\n",
    "            streak += 1\n",
    "        else:\n",
    "            if streak != 0:\n",
    "                table_pairs.append((start, line_n))\n",
    "                all_table_pairs.append((start, line_n, idx))\n",
    "            streak = 0\n",
    "            start = 0\n",
    "    \n",
    "        separator_counts.append(separator_count)\n",
    "        \n",
    "    if streak > 0:\n",
    "        table_pairs.append((start, line_n))\n",
    "        all_table_pairs.append((start, line_n, idx))\n",
    "        \n",
    "    if len(table_pairs) > 0:\n",
    "        for i, pair in enumerate(table_pairs):\n",
    "            table = lines[pair[0]-1:pair[1]]\n",
    "            tmp_tables.append(table)\n",
    "            \n",
    "        tables_extractedd.append(tmp_tables[0])\n",
    "        \n",
    "    else:\n",
    "        tables_extractedd.append([])\n",
    "        \n",
    "        \n",
    "    idx += 1\n",
    "        "
   ]
  },
  {
   "cell_type": "code",
   "execution_count": 31,
   "id": "8bd8bb39",
   "metadata": {
    "execution": {
     "iopub.execute_input": "2022-07-13T17:52:12.429267Z",
     "iopub.status.busy": "2022-07-13T17:52:12.428259Z",
     "iopub.status.idle": "2022-07-13T17:52:12.434557Z",
     "shell.execute_reply": "2022-07-13T17:52:12.433290Z"
    },
    "papermill": {
     "duration": 0.023572,
     "end_time": "2022-07-13T17:52:12.436788",
     "exception": false,
     "start_time": "2022-07-13T17:52:12.413216",
     "status": "completed"
    },
    "tags": []
   },
   "outputs": [
    {
     "name": "stdout",
     "output_type": "stream",
     "text": [
      "3\n"
     ]
    }
   ],
   "source": [
    "nb=0\n",
    "for i, example in enumerate(tables_extractedd):\n",
    "    if len(example) > 0 :\n",
    "        nb=nb+1\n",
    "print(nb)"
   ]
  },
  {
   "cell_type": "code",
   "execution_count": 32,
   "id": "c7b9c9d2",
   "metadata": {
    "execution": {
     "iopub.execute_input": "2022-07-13T17:52:12.466277Z",
     "iopub.status.busy": "2022-07-13T17:52:12.465498Z",
     "iopub.status.idle": "2022-07-13T17:52:12.471518Z",
     "shell.execute_reply": "2022-07-13T17:52:12.470174Z"
    },
    "papermill": {
     "duration": 0.023179,
     "end_time": "2022-07-13T17:52:12.473739",
     "exception": false,
     "start_time": "2022-07-13T17:52:12.450560",
     "status": "completed"
    },
    "tags": []
   },
   "outputs": [
    {
     "name": "stdout",
     "output_type": "stream",
     "text": [
      "[[7 column table]]\n",
      "No. | NAME. | AGE. | WAGES. DOLLS. | [[WAGES.]] CTS. | MONTHLY PAYM'T. DOLLS. | [[MONTHLY PAYM'T.]] CTS.\n",
      "[[/preprinted]]\n",
      "\n",
      "1 | Sarah | 17 | 2 | 50 | 1 | 75 \n"
     ]
    }
   ],
   "source": [
    "print(t2[0])"
   ]
  },
  {
   "cell_type": "code",
   "execution_count": 33,
   "id": "56e4da55",
   "metadata": {
    "execution": {
     "iopub.execute_input": "2022-07-13T17:52:12.504523Z",
     "iopub.status.busy": "2022-07-13T17:52:12.503812Z",
     "iopub.status.idle": "2022-07-13T17:52:12.510771Z",
     "shell.execute_reply": "2022-07-13T17:52:12.509744Z"
    },
    "papermill": {
     "duration": 0.024932,
     "end_time": "2022-07-13T17:52:12.512851",
     "exception": false,
     "start_time": "2022-07-13T17:52:12.487919",
     "status": "completed"
    },
    "tags": []
   },
   "outputs": [
    {
     "data": {
      "text/plain": [
       "[[],\n",
       " ['| No. | NAMES. | AGE. | RATE of PAY per month. Dols. | RATE of PAY per month. Cents. |         ',\n",
       "  '| --- | --- | --- | --- | --- | '],\n",
       " [],\n",
       " ['| NAME | AGE | SEX | CLASS | MONTHLY RATE OF WAGES. | INTEREST IN PROFITS. |',\n",
       "  '|---|---|---|---|---|---|'],\n",
       " [],\n",
       " ['|NAMES.|AGE.|SEX.|MONTHLY RATE OF WAGES.|INTEREST IN PROFITS.|',\n",
       "  '|Margery X (her mark) Russell|30|female|none|none|'],\n",
       " []]"
      ]
     },
     "execution_count": 33,
     "metadata": {},
     "output_type": "execute_result"
    }
   ],
   "source": [
    "tables_extractedd"
   ]
  },
  {
   "cell_type": "code",
   "execution_count": 34,
   "id": "0ff3224a",
   "metadata": {
    "execution": {
     "iopub.execute_input": "2022-07-13T17:52:12.543739Z",
     "iopub.status.busy": "2022-07-13T17:52:12.543046Z",
     "iopub.status.idle": "2022-07-13T17:52:12.548722Z",
     "shell.execute_reply": "2022-07-13T17:52:12.547948Z"
    },
    "papermill": {
     "duration": 0.02328,
     "end_time": "2022-07-13T17:52:12.550728",
     "exception": false,
     "start_time": "2022-07-13T17:52:12.527448",
     "status": "completed"
    },
    "tags": []
   },
   "outputs": [],
   "source": [
    "dcts = []\n",
    "\n",
    "for i, example in enumerate(tables_extractedd):\n",
    "    if example != [] and len(example) > 1:\n",
    "        dcts.append(parse_table_to_dict(example))\n",
    "    else:\n",
    "        dcts.append({})\n",
    "        "
   ]
  },
  {
   "cell_type": "code",
   "execution_count": 35,
   "id": "4376ac81",
   "metadata": {
    "execution": {
     "iopub.execute_input": "2022-07-13T17:52:12.580765Z",
     "iopub.status.busy": "2022-07-13T17:52:12.580367Z",
     "iopub.status.idle": "2022-07-13T17:52:12.585561Z",
     "shell.execute_reply": "2022-07-13T17:52:12.584727Z"
    },
    "papermill": {
     "duration": 0.023532,
     "end_time": "2022-07-13T17:52:12.588334",
     "exception": false,
     "start_time": "2022-07-13T17:52:12.564802",
     "status": "completed"
    },
    "tags": []
   },
   "outputs": [
    {
     "name": "stdout",
     "output_type": "stream",
     "text": [
      "3\n"
     ]
    }
   ],
   "source": [
    "nb=0\n",
    "for i, example in enumerate(dcts):\n",
    "    if len(example) > 0 :\n",
    "        nb=nb+1\n",
    "print(nb)"
   ]
  },
  {
   "cell_type": "code",
   "execution_count": 36,
   "id": "08ac9e12",
   "metadata": {
    "execution": {
     "iopub.execute_input": "2022-07-13T17:52:12.618481Z",
     "iopub.status.busy": "2022-07-13T17:52:12.617791Z",
     "iopub.status.idle": "2022-07-13T17:52:12.624731Z",
     "shell.execute_reply": "2022-07-13T17:52:12.623946Z"
    },
    "papermill": {
     "duration": 0.024391,
     "end_time": "2022-07-13T17:52:12.626804",
     "exception": false,
     "start_time": "2022-07-13T17:52:12.602413",
     "status": "completed"
    },
    "tags": []
   },
   "outputs": [
    {
     "data": {
      "text/plain": [
       "[{},\n",
       " {'': [' '],\n",
       "  'no': ['---'],\n",
       "  'names': ['---'],\n",
       "  'age': ['---'],\n",
       "  'rate_of_pay_per_month_dols': ['---'],\n",
       "  'rate_of_pay_per_month_cents': ['---'],\n",
       "  '         ': [' ']},\n",
       " {},\n",
       " {'': [' '],\n",
       "  'name': ['---'],\n",
       "  'age': ['---'],\n",
       "  'sex': ['---'],\n",
       "  'class': ['---'],\n",
       "  'monthly_rate_of_wages': ['---'],\n",
       "  'interest_in_profits': ['---']},\n",
       " {},\n",
       " {'': [' '],\n",
       "  'names': ['Margery X (her mark) Russell'],\n",
       "  'age': ['30'],\n",
       "  'sex': ['female'],\n",
       "  'monthly_rate_of_wages': ['none'],\n",
       "  'interest_in_profits': ['none']},\n",
       " {}]"
      ]
     },
     "execution_count": 36,
     "metadata": {},
     "output_type": "execute_result"
    }
   ],
   "source": [
    "dcts"
   ]
  },
  {
   "cell_type": "code",
   "execution_count": 37,
   "id": "6ebfaf8a",
   "metadata": {
    "execution": {
     "iopub.execute_input": "2022-07-13T17:52:12.657349Z",
     "iopub.status.busy": "2022-07-13T17:52:12.656650Z",
     "iopub.status.idle": "2022-07-13T17:52:12.662436Z",
     "shell.execute_reply": "2022-07-13T17:52:12.660715Z"
    },
    "papermill": {
     "duration": 0.024565,
     "end_time": "2022-07-13T17:52:12.665774",
     "exception": false,
     "start_time": "2022-07-13T17:52:12.641209",
     "status": "completed"
    },
    "tags": []
   },
   "outputs": [
    {
     "name": "stdout",
     "output_type": "stream",
     "text": [
      "\n",
      "[[5 column table]]\n",
      "\n",
      "|NAMES.|AGE.|SEX.|MONTHLY RATE OF WAGES.|INTEREST IN PROFITS.|\n",
      "|Margery X (her mark) Russell|30|female|none|none|\n",
      "\n",
      "[[/5 column table]]\n",
      "\n",
      "DEPENDENTS.\n",
      "\n",
      "[[6 column table]]\n",
      "\n",
      "|NAMES.|AGE.|SEX.|NAMES.|AGE.|SEX.|\n",
      "|Phillis|9|female|   |   |   |\n",
      "|Emma|6|female|   |   |   |\n",
      "\n",
      "[[/6 column table]]\n"
     ]
    }
   ],
   "source": [
    "print(t2[5])"
   ]
  },
  {
   "cell_type": "code",
   "execution_count": 38,
   "id": "e69008a5",
   "metadata": {
    "execution": {
     "iopub.execute_input": "2022-07-13T17:52:12.696667Z",
     "iopub.status.busy": "2022-07-13T17:52:12.695992Z",
     "iopub.status.idle": "2022-07-13T17:52:12.705620Z",
     "shell.execute_reply": "2022-07-13T17:52:12.704583Z"
    },
    "papermill": {
     "duration": 0.027761,
     "end_time": "2022-07-13T17:52:12.708077",
     "exception": false,
     "start_time": "2022-07-13T17:52:12.680316",
     "status": "completed"
    },
    "tags": []
   },
   "outputs": [],
   "source": [
    "for table_text in t2[:5]:\n",
    "\n",
    "    tmp_tables = []\n",
    "    table_text = table_text.replace(\"[\", \"\").replace(\"]\", \"\").replace(\"^\", \"\")\n",
    "    \n",
    "    liness = table_text.split(\"\\n\")\n",
    "    lines = [i for i in liness if len(i.strip()) != 0]\n",
    "    \n",
    "    separator_counts = []\n",
    "    table_pairs  = []\n",
    "    \n",
    "    start = 0\n",
    "    end = 0\n",
    "    streak = 0\n",
    "    \n",
    "    for line_n, line in enumerate(lines):\n",
    "        \n",
    "        separator_count = line.count(\"|\")   \n",
    "        \n",
    "        condition_1 = len(separator_counts) == 0 or separator_count == separator_counts[-1]\n",
    "        condition_2 = separator_count != 0\n",
    "        \n",
    "        if condition_1 and condition_2:\n",
    "            if streak == 0:\n",
    "                start = line_n\n",
    "            streak += 1\n",
    "        else:\n",
    "            if streak != 0:\n",
    "                table_pairs.append((start, line_n))\n",
    "                all_table_pairs.append((start, line_n, idx))\n",
    "            streak = 0\n",
    "            start = 0\n",
    "    \n",
    "        separator_counts.append(separator_count)"
   ]
  },
  {
   "cell_type": "code",
   "execution_count": 39,
   "id": "17bf896c",
   "metadata": {
    "execution": {
     "iopub.execute_input": "2022-07-13T17:52:12.738399Z",
     "iopub.status.busy": "2022-07-13T17:52:12.738015Z",
     "iopub.status.idle": "2022-07-13T17:52:12.744407Z",
     "shell.execute_reply": "2022-07-13T17:52:12.743291Z"
    },
    "papermill": {
     "duration": 0.02414,
     "end_time": "2022-07-13T17:52:12.746557",
     "exception": false,
     "start_time": "2022-07-13T17:52:12.722417",
     "status": "completed"
    },
    "tags": []
   },
   "outputs": [
    {
     "data": {
      "text/plain": [
       "[0, 4, 3, 1, 4, 3, 1]"
      ]
     },
     "execution_count": 39,
     "metadata": {},
     "output_type": "execute_result"
    }
   ],
   "source": [
    "separator_counts"
   ]
  },
  {
   "cell_type": "code",
   "execution_count": 40,
   "id": "e60f9ff4",
   "metadata": {
    "execution": {
     "iopub.execute_input": "2022-07-13T17:52:12.777638Z",
     "iopub.status.busy": "2022-07-13T17:52:12.776571Z",
     "iopub.status.idle": "2022-07-13T17:52:12.783929Z",
     "shell.execute_reply": "2022-07-13T17:52:12.782774Z"
    },
    "papermill": {
     "duration": 0.025124,
     "end_time": "2022-07-13T17:52:12.785993",
     "exception": false,
     "start_time": "2022-07-13T17:52:12.760869",
     "status": "completed"
    },
    "tags": []
   },
   "outputs": [
    {
     "data": {
      "text/plain": [
       "True"
      ]
     },
     "execution_count": 40,
     "metadata": {},
     "output_type": "execute_result"
    }
   ],
   "source": [
    "condition_2"
   ]
  },
  {
   "cell_type": "code",
   "execution_count": 41,
   "id": "bce8826a",
   "metadata": {
    "execution": {
     "iopub.execute_input": "2022-07-13T17:52:12.817337Z",
     "iopub.status.busy": "2022-07-13T17:52:12.816633Z",
     "iopub.status.idle": "2022-07-13T17:52:12.822355Z",
     "shell.execute_reply": "2022-07-13T17:52:12.821291Z"
    },
    "papermill": {
     "duration": 0.023787,
     "end_time": "2022-07-13T17:52:12.824354",
     "exception": false,
     "start_time": "2022-07-13T17:52:12.800567",
     "status": "completed"
    },
    "tags": []
   },
   "outputs": [
    {
     "data": {
      "text/plain": [
       "\"3 columned table\\n| --- | --- | --- |\\n| 1866 June 16th | Approved Contracted between John L. Banks and Merrit Sanders 'fm, for farming this year | J.L.B. is to furnish Lands, teams, Seed, and farming implements. Three (3) Bls of corn, Two Hundred and fifty (250) Lbs of Pork. Leather for two (2) pair of Shoes (Mens). Pay two thirds (2/3) of wages paid to hired hands and give sd. Merritt Sanders one third (1/3) of crops made. \\nM.S. is to work on said Lands the whole year. pay one third (1/3) of the hire to hands and furnish some assistance on sd. Lands from his family. | note\\n\\n| June 18 | Approved Contract between W.H. Sanders and Thomas Campbell 'fm, for farming dated March 1st 1866- | W.H. Sanders is to furnish lands, one horse, seed and feed for horse and receive two thirds (2/3) of crops. Freedman Thomas Campbell is to furnish himself and produce crops on said Lands and retain one third (1/3) of crops, and to keep the ditches open on said lands, occupied by his crops |\\n\\n| June 18 | Approved Contract between David S. Henry and Freedmen Parson Avery, Jackson Sanders and Reuben Sanders for farming dated June 6th 1866. | David S. Avery to furnish Lands Seeds and Teams. Parson Avery Jackson Sanders and Reuben Sanders freedmen to perform the manual labor necessary to make crops with said teams & Seeds and Lands furnished to keep up the fences and care properly for the stock and implements, and receive one third (1/3) of the crops. \\nSd. David S. Avery to receive two thirds (2/3) of the crops, and afford each of said Freedman a garden for Corn, Potatoes &c, &c rent free. | \""
      ]
     },
     "execution_count": 41,
     "metadata": {},
     "output_type": "execute_result"
    }
   ],
   "source": [
    "table_text"
   ]
  },
  {
   "cell_type": "code",
   "execution_count": 42,
   "id": "c12b2706",
   "metadata": {
    "execution": {
     "iopub.execute_input": "2022-07-13T17:52:12.855844Z",
     "iopub.status.busy": "2022-07-13T17:52:12.855412Z",
     "iopub.status.idle": "2022-07-13T17:52:12.861382Z",
     "shell.execute_reply": "2022-07-13T17:52:12.860555Z"
    },
    "papermill": {
     "duration": 0.024342,
     "end_time": "2022-07-13T17:52:12.863407",
     "exception": false,
     "start_time": "2022-07-13T17:52:12.839065",
     "status": "completed"
    },
    "tags": []
   },
   "outputs": [
    {
     "data": {
      "text/plain": [
       "['3 columned table',\n",
       " '| --- | --- | --- |',\n",
       " \"| 1866 June 16th | Approved Contracted between John L. Banks and Merrit Sanders 'fm, for farming this year | J.L.B. is to furnish Lands, teams, Seed, and farming implements. Three (3) Bls of corn, Two Hundred and fifty (250) Lbs of Pork. Leather for two (2) pair of Shoes (Mens). Pay two thirds (2/3) of wages paid to hired hands and give sd. Merritt Sanders one third (1/3) of crops made. \",\n",
       " 'M.S. is to work on said Lands the whole year. pay one third (1/3) of the hire to hands and furnish some assistance on sd. Lands from his family. | note',\n",
       " '',\n",
       " \"| June 18 | Approved Contract between W.H. Sanders and Thomas Campbell 'fm, for farming dated March 1st 1866- | W.H. Sanders is to furnish lands, one horse, seed and feed for horse and receive two thirds (2/3) of crops. Freedman Thomas Campbell is to furnish himself and produce crops on said Lands and retain one third (1/3) of crops, and to keep the ditches open on said lands, occupied by his crops |\",\n",
       " '',\n",
       " '| June 18 | Approved Contract between David S. Henry and Freedmen Parson Avery, Jackson Sanders and Reuben Sanders for farming dated June 6th 1866. | David S. Avery to furnish Lands Seeds and Teams. Parson Avery Jackson Sanders and Reuben Sanders freedmen to perform the manual labor necessary to make crops with said teams & Seeds and Lands furnished to keep up the fences and care properly for the stock and implements, and receive one third (1/3) of the crops. ',\n",
       " 'Sd. David S. Avery to receive two thirds (2/3) of the crops, and afford each of said Freedman a garden for Corn, Potatoes &c, &c rent free. | ']"
      ]
     },
     "execution_count": 42,
     "metadata": {},
     "output_type": "execute_result"
    }
   ],
   "source": [
    "liness"
   ]
  },
  {
   "cell_type": "code",
   "execution_count": 43,
   "id": "2034bbae",
   "metadata": {
    "execution": {
     "iopub.execute_input": "2022-07-13T17:52:12.895563Z",
     "iopub.status.busy": "2022-07-13T17:52:12.894732Z",
     "iopub.status.idle": "2022-07-13T17:52:12.900832Z",
     "shell.execute_reply": "2022-07-13T17:52:12.899938Z"
    },
    "papermill": {
     "duration": 0.024506,
     "end_time": "2022-07-13T17:52:12.902749",
     "exception": false,
     "start_time": "2022-07-13T17:52:12.878243",
     "status": "completed"
    },
    "tags": []
   },
   "outputs": [
    {
     "data": {
      "text/plain": [
       "['3 columned table',\n",
       " '| --- | --- | --- |',\n",
       " \"| 1866 June 16th | Approved Contracted between John L. Banks and Merrit Sanders 'fm, for farming this year | J.L.B. is to furnish Lands, teams, Seed, and farming implements. Three (3) Bls of corn, Two Hundred and fifty (250) Lbs of Pork. Leather for two (2) pair of Shoes (Mens). Pay two thirds (2/3) of wages paid to hired hands and give sd. Merritt Sanders one third (1/3) of crops made. \",\n",
       " 'M.S. is to work on said Lands the whole year. pay one third (1/3) of the hire to hands and furnish some assistance on sd. Lands from his family. | note',\n",
       " \"| June 18 | Approved Contract between W.H. Sanders and Thomas Campbell 'fm, for farming dated March 1st 1866- | W.H. Sanders is to furnish lands, one horse, seed and feed for horse and receive two thirds (2/3) of crops. Freedman Thomas Campbell is to furnish himself and produce crops on said Lands and retain one third (1/3) of crops, and to keep the ditches open on said lands, occupied by his crops |\",\n",
       " '| June 18 | Approved Contract between David S. Henry and Freedmen Parson Avery, Jackson Sanders and Reuben Sanders for farming dated June 6th 1866. | David S. Avery to furnish Lands Seeds and Teams. Parson Avery Jackson Sanders and Reuben Sanders freedmen to perform the manual labor necessary to make crops with said teams & Seeds and Lands furnished to keep up the fences and care properly for the stock and implements, and receive one third (1/3) of the crops. ',\n",
       " 'Sd. David S. Avery to receive two thirds (2/3) of the crops, and afford each of said Freedman a garden for Corn, Potatoes &c, &c rent free. | ']"
      ]
     },
     "execution_count": 43,
     "metadata": {},
     "output_type": "execute_result"
    }
   ],
   "source": [
    "lines"
   ]
  },
  {
   "cell_type": "code",
   "execution_count": null,
   "id": "b7130275",
   "metadata": {
    "papermill": {
     "duration": 0.014551,
     "end_time": "2022-07-13T17:52:12.932275",
     "exception": false,
     "start_time": "2022-07-13T17:52:12.917724",
     "status": "completed"
    },
    "tags": []
   },
   "outputs": [],
   "source": []
  }
 ],
 "metadata": {
  "kernelspec": {
   "display_name": "Python 3",
   "language": "python",
   "name": "python3"
  },
  "language_info": {
   "codemirror_mode": {
    "name": "ipython",
    "version": 3
   },
   "file_extension": ".py",
   "mimetype": "text/x-python",
   "name": "python",
   "nbconvert_exporter": "python",
   "pygments_lexer": "ipython3",
   "version": "3.7.12"
  },
  "papermill": {
   "default_parameters": {},
   "duration": 71.24953,
   "end_time": "2022-07-13T17:52:13.869001",
   "environment_variables": {},
   "exception": null,
   "input_path": "__notebook__.ipynb",
   "output_path": "__notebook__.ipynb",
   "parameters": {},
   "start_time": "2022-07-13T17:51:02.619471",
   "version": "2.3.4"
  }
 },
 "nbformat": 4,
 "nbformat_minor": 5
}
