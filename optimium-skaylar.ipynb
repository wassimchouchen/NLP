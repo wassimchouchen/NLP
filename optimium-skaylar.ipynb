{
 "cells": [
  {
   "cell_type": "code",
   "execution_count": 1,
   "id": "671b0ee4",
   "metadata": {
    "_cell_guid": "b1076dfc-b9ad-4769-8c92-a6c4dae69d19",
    "_kg_hide-output": true,
    "_uuid": "8f2839f25d086af736a60e9eeb907d3b93b6e0e5",
    "execution": {
     "iopub.execute_input": "2022-07-14T17:45:50.678764Z",
     "iopub.status.busy": "2022-07-14T17:45:50.677710Z",
     "iopub.status.idle": "2022-07-14T17:45:52.504613Z",
     "shell.execute_reply": "2022-07-14T17:45:52.503666Z"
    },
    "papermill": {
     "duration": 1.839563,
     "end_time": "2022-07-14T17:45:52.507282",
     "exception": false,
     "start_time": "2022-07-14T17:45:50.667719",
     "status": "completed"
    },
    "tags": []
   },
   "outputs": [],
   "source": [
    "# !pip install flair\n",
    "import time\n",
    "import string\n",
    "import warnings\n",
    "\n",
    "import regex as re\n",
    "from tqdm import tqdm\n",
    "\n",
    "\n",
    "import pickle\n",
    "import numpy as np\n",
    "import pandas as pd \n",
    "\n",
    "import seaborn as sns\n",
    "import matplotlib.pyplot as plt \n",
    "import matplotlib.style as stl \n",
    "\n",
    "\n",
    "\n",
    "from nltk.corpus import stopwords\n",
    "from nltk.corpus import stopwords\n",
    "from nltk.tokenize import word_tokenize\n",
    "from nltk.stem import WordNetLemmatizer\n",
    "from nltk.stem.snowball import SnowballStemmer\n",
    "\n",
    "\n",
    "warnings.filterwarnings(\"ignore\")"
   ]
  },
  {
   "cell_type": "code",
   "execution_count": 2,
   "id": "d1181a71",
   "metadata": {
    "execution": {
     "iopub.execute_input": "2022-07-14T17:45:52.523382Z",
     "iopub.status.busy": "2022-07-14T17:45:52.522847Z",
     "iopub.status.idle": "2022-07-14T17:46:01.123039Z",
     "shell.execute_reply": "2022-07-14T17:46:01.121937Z"
    },
    "papermill": {
     "duration": 8.610901,
     "end_time": "2022-07-14T17:46:01.125564",
     "exception": false,
     "start_time": "2022-07-14T17:45:52.514663",
     "status": "completed"
    },
    "tags": []
   },
   "outputs": [],
   "source": [
    "documents = pd.read_csv(\"../input/skylarfreedman/Documents-Table 1.csv\", on_bad_lines='skip', sep=\";\")"
   ]
  },
  {
   "cell_type": "code",
   "execution_count": 3,
   "id": "56662260",
   "metadata": {
    "execution": {
     "iopub.execute_input": "2022-07-14T17:46:01.141220Z",
     "iopub.status.busy": "2022-07-14T17:46:01.140832Z",
     "iopub.status.idle": "2022-07-14T17:46:01.183586Z",
     "shell.execute_reply": "2022-07-14T17:46:01.182605Z"
    },
    "papermill": {
     "duration": 0.053392,
     "end_time": "2022-07-14T17:46:01.185931",
     "exception": false,
     "start_time": "2022-07-14T17:46:01.132539",
     "status": "completed"
    },
    "tags": []
   },
   "outputs": [],
   "source": [
    "contract = documents[documents.Category == \"Contracts\"]\n",
    "contract = contract[[\"document_id\", \"project_id\", \"transcription_text\"]]"
   ]
  },
  {
   "cell_type": "code",
   "execution_count": 4,
   "id": "5da72331",
   "metadata": {
    "execution": {
     "iopub.execute_input": "2022-07-14T17:46:01.202377Z",
     "iopub.status.busy": "2022-07-14T17:46:01.201466Z",
     "iopub.status.idle": "2022-07-14T17:46:01.213626Z",
     "shell.execute_reply": "2022-07-14T17:46:01.212560Z"
    },
    "papermill": {
     "duration": 0.023033,
     "end_time": "2022-07-14T17:46:01.215939",
     "exception": false,
     "start_time": "2022-07-14T17:46:01.192906",
     "status": "completed"
    },
    "tags": []
   },
   "outputs": [],
   "source": [
    "contract = contract[pd.notnull(contract['transcription_text'])]\n",
    "contract = contract.reset_index(drop=True)"
   ]
  },
  {
   "cell_type": "markdown",
   "id": "d931b1e2",
   "metadata": {
    "papermill": {
     "duration": 0.00669,
     "end_time": "2022-07-14T17:46:01.229449",
     "exception": false,
     "start_time": "2022-07-14T17:46:01.222759",
     "status": "completed"
    },
    "tags": []
   },
   "source": [
    "# Preprocessing"
   ]
  },
  {
   "cell_type": "code",
   "execution_count": 5,
   "id": "59144471",
   "metadata": {
    "execution": {
     "iopub.execute_input": "2022-07-14T17:46:01.244798Z",
     "iopub.status.busy": "2022-07-14T17:46:01.244031Z",
     "iopub.status.idle": "2022-07-14T17:46:01.256521Z",
     "shell.execute_reply": "2022-07-14T17:46:01.255719Z"
    },
    "papermill": {
     "duration": 0.022659,
     "end_time": "2022-07-14T17:46:01.258935",
     "exception": false,
     "start_time": "2022-07-14T17:46:01.236276",
     "status": "completed"
    },
    "tags": []
   },
   "outputs": [],
   "source": [
    "stop_words = set(stopwords.words('english'))\n",
    "punctuation = string.punctuation\n",
    "stemmer = SnowballStemmer(language=\"english\")\n",
    "lemmatizer = WordNetLemmatizer()\n",
    "stop_words.remove(\"of\")\n",
    "punct='!\"#$%&\\'()*+-/<=>?@[\\\\]^_`{|}~'\n",
    "\n",
    "def process(s):\n",
    "    \"\"\"Removes stop words, words in brackets\n",
    "    and parentheses, and special characters.\n",
    "    \"\"\"\n",
    "    \n",
    "    s= re.sub(\"([\\(\\[]).*?([\\)\\]])\",\" \",s)\n",
    "    for p in punct:\n",
    "        s = s.replace(p, '')\n",
    "    s = word_tokenize(s)\n",
    "    s = [w for w in s if not w in stop_words] #optional\n",
    "    return s"
   ]
  },
  {
   "cell_type": "code",
   "execution_count": 6,
   "id": "4eddc702",
   "metadata": {
    "execution": {
     "iopub.execute_input": "2022-07-14T17:46:01.274272Z",
     "iopub.status.busy": "2022-07-14T17:46:01.273907Z",
     "iopub.status.idle": "2022-07-14T17:46:26.429686Z",
     "shell.execute_reply": "2022-07-14T17:46:26.428497Z"
    },
    "papermill": {
     "duration": 25.166606,
     "end_time": "2022-07-14T17:46:26.432418",
     "exception": false,
     "start_time": "2022-07-14T17:46:01.265812",
     "status": "completed"
    },
    "tags": []
   },
   "outputs": [],
   "source": [
    "contract[\"processed_text\"] = contract[\"transcription_text\"].apply(process)\n",
    "contract[\"processed_text\"] = contract[\"processed_text\"].apply(lambda x: \" \".join(x))"
   ]
  },
  {
   "cell_type": "code",
   "execution_count": 7,
   "id": "e22755d3",
   "metadata": {
    "execution": {
     "iopub.execute_input": "2022-07-14T17:46:26.448258Z",
     "iopub.status.busy": "2022-07-14T17:46:26.447507Z",
     "iopub.status.idle": "2022-07-14T17:46:26.461426Z",
     "shell.execute_reply": "2022-07-14T17:46:26.460225Z"
    },
    "papermill": {
     "duration": 0.024604,
     "end_time": "2022-07-14T17:46:26.463979",
     "exception": false,
     "start_time": "2022-07-14T17:46:26.439375",
     "status": "completed"
    },
    "tags": []
   },
   "outputs": [],
   "source": [
    "def parse_table_to_dict(example) :\n",
    "    \n",
    "    def clean_record(x) :\n",
    "        if x.strip() == \"\":\n",
    "            return \" \"\n",
    "        return x.strip().replace(\"{\", \"\").replace(\"}\", \"\")\n",
    "\n",
    "    table_dict = {}\n",
    "\n",
    "    if \"name\" in example[0].lower():\n",
    "\n",
    "        cols = []\n",
    "        for col in example[0].split(\"|\"):\n",
    "            if col.strip() == \"\":\n",
    "                cols.append(col)\n",
    "            else:\n",
    "                cols.append(col.strip().lower().replace(\" \", \"_\").replace(\".\", \"\"))\n",
    "\n",
    "        values = np.array([list(map(clean_record, i.split(\"|\"))) for i in example[1:]])\n",
    "\n",
    "    else:\n",
    "\n",
    "        n_cols = len(example[0].split(\"|\"))\n",
    "        cols = [f\"col_{i}\" for i in range(n_cols)]\n",
    "\n",
    "        values = np.array([list(map(clean_record, i.split(\"|\"))) for i in example])\n",
    "        \n",
    "    \n",
    "    #Remove empty rows ([\"----\", \"-----\", \"-----\"])\n",
    "    new_values = []\n",
    "    for line in values:\n",
    "        line_chars = list(set(\"\".join([i.strip() for i in line])))\n",
    "        \n",
    "        if len(line_chars) != 0 and (line_chars[0] != \"-\" or len(line_chars) != 0):\n",
    "            new_values.append(line.tolist())\n",
    "            \n",
    "    values = np.array(new_values)\n",
    "            \n",
    "    if values.reshape(-1).shape[0] != 0:\n",
    "        for i, col in enumerate(cols):\n",
    "            table_dict[col] = values[:, i].tolist()\n",
    "            \n",
    "        return table_dict\n",
    "    \n",
    "    else:\n",
    "        \n",
    "        return {} "
   ]
  },
  {
   "cell_type": "code",
   "execution_count": 8,
   "id": "93ddbfa2",
   "metadata": {
    "execution": {
     "iopub.execute_input": "2022-07-14T17:46:26.480469Z",
     "iopub.status.busy": "2022-07-14T17:46:26.479685Z",
     "iopub.status.idle": "2022-07-14T17:46:26.500546Z",
     "shell.execute_reply": "2022-07-14T17:46:26.499773Z"
    },
    "papermill": {
     "duration": 0.0328,
     "end_time": "2022-07-14T17:46:26.504065",
     "exception": false,
     "start_time": "2022-07-14T17:46:26.471265",
     "status": "completed"
    },
    "tags": []
   },
   "outputs": [
    {
     "data": {
      "text/html": [
       "<div>\n",
       "<style scoped>\n",
       "    .dataframe tbody tr th:only-of-type {\n",
       "        vertical-align: middle;\n",
       "    }\n",
       "\n",
       "    .dataframe tbody tr th {\n",
       "        vertical-align: top;\n",
       "    }\n",
       "\n",
       "    .dataframe thead th {\n",
       "        text-align: right;\n",
       "    }\n",
       "</style>\n",
       "<table border=\"1\" class=\"dataframe\">\n",
       "  <thead>\n",
       "    <tr style=\"text-align: right;\">\n",
       "      <th></th>\n",
       "      <th>document_id</th>\n",
       "      <th>project_id</th>\n",
       "      <th>transcription_text</th>\n",
       "      <th>processed_text</th>\n",
       "    </tr>\n",
       "  </thead>\n",
       "  <tbody>\n",
       "    <tr>\n",
       "      <th>0</th>\n",
       "      <td>NMAAHC-004567394_00861</td>\n",
       "      <td>11400</td>\n",
       "      <td>[D104 ENCL]\\r\\nNorth Carolina\\r\\nThis indentur...</td>\n",
       "      <td>North Carolina This indenture made entered Thi...</td>\n",
       "    </tr>\n",
       "    <tr>\n",
       "      <th>1</th>\n",
       "      <td>NMAAHC-004567394_00957</td>\n",
       "      <td>11400</td>\n",
       "      <td>[E 11 ENCL] \\r\\n\\r\\n\\r\\nState of North Carolin...</td>\n",
       "      <td>State of North Carolina Currituck County . Thi...</td>\n",
       "    </tr>\n",
       "    <tr>\n",
       "      <th>2</th>\n",
       "      <td>NMAAHC-004567394_00958</td>\n",
       "      <td>11400</td>\n",
       "      <td>near Lizzie Etheridge's gate, thence South 56 ...</td>\n",
       "      <td>near Lizzie Etheridges gate , thence South 56 ...</td>\n",
       "    </tr>\n",
       "    <tr>\n",
       "      <th>3</th>\n",
       "      <td>NMAAHC-004567395_00439</td>\n",
       "      <td>11406</td>\n",
       "      <td>Copy\\r\\n\\r\\nAgreement of Apprenticeship\\r\\nBu ...</td>\n",
       "      <td>Copy Agreement of Apprenticeship Bu Mrs. Kate ...</td>\n",
       "    </tr>\n",
       "    <tr>\n",
       "      <th>4</th>\n",
       "      <td>NMAAHC-004567395_00440</td>\n",
       "      <td>11406</td>\n",
       "      <td>[H 132 ENCL] \\r\\n\\r\\nCopy\\r\\n\\r\\nAgreement of ...</td>\n",
       "      <td>Copy Agreement of Apprenticeship . This agreem...</td>\n",
       "    </tr>\n",
       "    <tr>\n",
       "      <th>...</th>\n",
       "      <td>...</td>\n",
       "      <td>...</td>\n",
       "      <td>...</td>\n",
       "      <td>...</td>\n",
       "    </tr>\n",
       "    <tr>\n",
       "      <th>23724</th>\n",
       "      <td>NMAAHC-007677332_01525</td>\n",
       "      <td>41539</td>\n",
       "      <td>\\N</td>\n",
       "      <td>N</td>\n",
       "    </tr>\n",
       "    <tr>\n",
       "      <th>23725</th>\n",
       "      <td>NMAAHC-007677332_01526</td>\n",
       "      <td>41539</td>\n",
       "      <td>\\N</td>\n",
       "      <td>N</td>\n",
       "    </tr>\n",
       "    <tr>\n",
       "      <th>23726</th>\n",
       "      <td>NMAAHC-007677332_01527</td>\n",
       "      <td>41539</td>\n",
       "      <td>\\N</td>\n",
       "      <td>N</td>\n",
       "    </tr>\n",
       "    <tr>\n",
       "      <th>23727</th>\n",
       "      <td>NMAAHC-007677332_01528</td>\n",
       "      <td>41539</td>\n",
       "      <td>Jo</td>\n",
       "      <td>Jo</td>\n",
       "    </tr>\n",
       "    <tr>\n",
       "      <th>23728</th>\n",
       "      <td>NMAAHC-007677332_01529</td>\n",
       "      <td>41539</td>\n",
       "      <td>\\N</td>\n",
       "      <td>N</td>\n",
       "    </tr>\n",
       "  </tbody>\n",
       "</table>\n",
       "<p>23729 rows × 4 columns</p>\n",
       "</div>"
      ],
      "text/plain": [
       "                  document_id  project_id  \\\n",
       "0      NMAAHC-004567394_00861       11400   \n",
       "1      NMAAHC-004567394_00957       11400   \n",
       "2      NMAAHC-004567394_00958       11400   \n",
       "3      NMAAHC-004567395_00439       11406   \n",
       "4      NMAAHC-004567395_00440       11406   \n",
       "...                       ...         ...   \n",
       "23724  NMAAHC-007677332_01525       41539   \n",
       "23725  NMAAHC-007677332_01526       41539   \n",
       "23726  NMAAHC-007677332_01527       41539   \n",
       "23727  NMAAHC-007677332_01528       41539   \n",
       "23728  NMAAHC-007677332_01529       41539   \n",
       "\n",
       "                                      transcription_text  \\\n",
       "0      [D104 ENCL]\\r\\nNorth Carolina\\r\\nThis indentur...   \n",
       "1      [E 11 ENCL] \\r\\n\\r\\n\\r\\nState of North Carolin...   \n",
       "2      near Lizzie Etheridge's gate, thence South 56 ...   \n",
       "3      Copy\\r\\n\\r\\nAgreement of Apprenticeship\\r\\nBu ...   \n",
       "4      [H 132 ENCL] \\r\\n\\r\\nCopy\\r\\n\\r\\nAgreement of ...   \n",
       "...                                                  ...   \n",
       "23724                                                 \\N   \n",
       "23725                                                 \\N   \n",
       "23726                                                 \\N   \n",
       "23727                                                 Jo   \n",
       "23728                                                 \\N   \n",
       "\n",
       "                                          processed_text  \n",
       "0      North Carolina This indenture made entered Thi...  \n",
       "1      State of North Carolina Currituck County . Thi...  \n",
       "2      near Lizzie Etheridges gate , thence South 56 ...  \n",
       "3      Copy Agreement of Apprenticeship Bu Mrs. Kate ...  \n",
       "4      Copy Agreement of Apprenticeship . This agreem...  \n",
       "...                                                  ...  \n",
       "23724                                                  N  \n",
       "23725                                                  N  \n",
       "23726                                                  N  \n",
       "23727                                                 Jo  \n",
       "23728                                                  N  \n",
       "\n",
       "[23729 rows x 4 columns]"
      ]
     },
     "execution_count": 8,
     "metadata": {},
     "output_type": "execute_result"
    }
   ],
   "source": [
    "contract"
   ]
  },
  {
   "cell_type": "code",
   "execution_count": 9,
   "id": "08e5cce7",
   "metadata": {
    "execution": {
     "iopub.execute_input": "2022-07-14T17:46:26.521807Z",
     "iopub.status.busy": "2022-07-14T17:46:26.521177Z",
     "iopub.status.idle": "2022-07-14T17:46:26.527675Z",
     "shell.execute_reply": "2022-07-14T17:46:26.526870Z"
    },
    "papermill": {
     "duration": 0.018009,
     "end_time": "2022-07-14T17:46:26.529962",
     "exception": false,
     "start_time": "2022-07-14T17:46:26.511953",
     "status": "completed"
    },
    "tags": []
   },
   "outputs": [],
   "source": [
    "t=[]\n",
    "t.append(\"\"\"[[7 column table]]\n",
    "No. | NAME. | AGE. | WAGES. DOLLS. | [[WAGES.]] CTS. | MONTHLY PAYM'T. DOLLS. | [[MONTHLY PAYM'T.]] CTS.\n",
    "[[/preprinted]]\n",
    "\n",
    "1 | Sarah | 17 | 2 | 50 | 1 | 75 \"\"\")\n",
    "t.append(\"\"\"[[5 columned table]]\n",
    "| No. | NAMES. | AGE. | RATE of PAY per month. Dols. | RATE of PAY per month. Cents. |         \n",
    "| --- | --- | --- | --- | --- | \n",
    "| 1861 | Phillip Carr | 13 | 100 | 00 |\"\"\")\n",
    "t.append(\"\"\"|NAMES.|AGE.|MONTHLY RATE OF WAGES.|INTEREST IN PROFITS.|\n",
    "|Frances her x mark|16|none|none.\n",
    "\n",
    "\n",
    "DEPENDENTS.\n",
    "|NAMES.|AGE.|NAMES.|AGE.|\"\"\")\n",
    "t.append(\"\"\"[[6 Columned Table]]\n",
    "| NAME | AGE | SEX | CLASS | MONTHLY RATE OF WAGES. | INTEREST IN PROFITS. |\n",
    "|---|---|---|---|---|---|\n",
    "| Franklin | 21 | Male | 1st | $8.00 |\n",
    "[[/6 columned table]]\n",
    "\"\"\")\n",
    "t.append(\"\"\"[[3 columned table]]\n",
    "| --- | --- | --- |\n",
    "| 1866 June 16th | Approved Contracted between John L. Banks and Merrit Sanders 'fm, for farming this year | J.L.B. is to furnish Lands, teams, Seed, and farming implements. Three (3) Bls of corn, Two Hundred and fifty (250) Lbs of Pork. Leather for two (2) pair of Shoes (Mens). Pay two thirds (2/3) of wages paid to hired hands and give sd. Merritt Sanders one third (1/3) of crops made. \n",
    "M.S. is to work on said Lands the whole year. pay one third (1/3) of the hire to hands and furnish some assistance on sd. Lands from his family. | [[note]]\n",
    "\n",
    "| June 18 | Approved Contract between W.H. Sanders and Thomas Campbell 'fm, for farming dated March 1st 1866- | W.H. Sanders is to furnish lands, one horse, seed and feed for horse and receive two thirds (2/3) of crops. Freedman Thomas Campbell is to furnish himself and produce crops on said Lands and retain one third (1/3) of crops, and to keep the ditches open on said lands, occupied by his crops |\n",
    "\n",
    "| June 18 | Approved Contract between David S. Henry and Freedmen Parson Avery, Jackson Sanders and Reuben Sanders for farming dated June 6th 1866. | David S. Avery to furnish Lands Seeds and Teams. Parson Avery Jackson Sanders and Reuben Sanders freedmen to perform the manual labor necessary to make crops with said teams & Seeds and Lands furnished to keep up the fences and care properly for the stock and implements, and receive one third (1/3) of the crops. \n",
    "Sd. David S. Avery to receive two thirds (2/3) of the crops, and afford each of said Freedman a garden for Corn, Potatoes &c, &c rent free. | \"\"\")\n",
    "t.append(\"\"\"\n",
    "[[5 column table]]\n",
    "\n",
    "|NAMES.|AGE.|SEX.|MONTHLY RATE OF WAGES.|INTEREST IN PROFITS.|\n",
    "|Margery X (her mark) Russell|30|female|none|none|\n",
    "\n",
    "[[/5 column table]]\n",
    "\n",
    "DEPENDENTS.\n",
    "\n",
    "[[6 column table]]\n",
    "\n",
    "|NAMES.|AGE.|SEX.|NAMES.|AGE.|SEX.|\n",
    "|Phillis|9|female|   |   |   |\n",
    "|Emma|6|female|   |   |   |\n",
    "\n",
    "[[/6 column table]]\"\"\")\n",
    "t.append(\"\"\"|No.|Name|Age|Rate of pay per month. Dols Cts.\n",
    "|1|Martha Willis|21|   | \"\"\")\n",
    "t2=t"
   ]
  },
  {
   "cell_type": "code",
   "execution_count": 10,
   "id": "d0a11d0a",
   "metadata": {
    "execution": {
     "iopub.execute_input": "2022-07-14T17:46:26.548019Z",
     "iopub.status.busy": "2022-07-14T17:46:26.547407Z",
     "iopub.status.idle": "2022-07-14T17:46:26.553013Z",
     "shell.execute_reply": "2022-07-14T17:46:26.551760Z"
    },
    "papermill": {
     "duration": 0.017426,
     "end_time": "2022-07-14T17:46:26.555767",
     "exception": false,
     "start_time": "2022-07-14T17:46:26.538341",
     "status": "completed"
    },
    "tags": []
   },
   "outputs": [],
   "source": [
    "tb=[\"\"\"[[table]]\n",
    "No. | NAME. | AGE. | ^[[Twelve months]] WAGES. DOLLS. CTS. | MONTHLY PAYM'T. DOLLS. CTS. [[/preprinted]]\n",
    "|Phil Shaver His x mark|33|$144|00|2|00\n",
    "|John Leo His x mark|16|72|00|1|50\n",
    "|Mumford Randleman His x mark|25|120|00|2|00\n",
    "|Adam Fisher His x mark|25|144|00|2|00\n",
    "|Emma Fisher Her x mark|19|72|00|2|00\n",
    "|Joseph Thompson His x mark|19|144|00|2|00\n",
    "|Henry Kelly Ale His mark x|20|144|00|2|00\n",
    "|Samuel Gillespie His x mark|22|120|00|2|00\n",
    "|Nathan Foard His x mark|40|144|00|2|00\n",
    "|Jordan Cox, His x mark|19|120|00|2|00\n",
    "|Ann Tyson Her x mark|18|84|00|2|00\n",
    "|Liza Dixon Her x mark|30|84|00|2|00\n",
    "|Ceily Auston Her x mark||25|00|84|00\n",
    "|Leon Foard His x mark|13|72|00|2|00\n",
    "|Silas Foard His x mark|10|60|00|2|00\n",
    "|Alfred P. Dixon His x mark|10|48|00|2|00\n",
    "|Mary Hall Her x mark|25|72|00|2|00\n",
    "|Hicksey Her x mark|25|72|00|2|00\n",
    "|Dennis His x mark|14|48|00|2|00\n",
    "|George Little & His x mark|31|120|00|2|00\n",
    "|Wife|23|96|00|1|00\n",
    "|Will Alfred & His x mark|28|120|00|2|00\n",
    "|Wife|19|96|00|2|00\n",
    "|Henry Myers His x mark|22|144|00|2|00\n",
    "|Thomas Granderson His x mark|24|120|00|2|00\n",
    "|Fred Deaton His x mark|23|120|00|2|00\n",
    "|[[Illegible - final line of page is cut off]]|14|72|00|2|00\n",
    "[[/Table]]\"\"\"]\n",
    "tb.append(\"\"\"[[3 column table - no headers]]\n",
    "|---|---|---|\n",
    "|Stephen Barni-|25|Male|\n",
    "|Eve. wife|22|F|\n",
    "|Martin Morrsham|18.|M.|\n",
    "|Wm Marshall|22|M.|\n",
    "|Oliver Hudgrim|19|M.|\n",
    "|John Lunford?|16|M.|\n",
    "|George Hargroves-|21|M.|\n",
    "|Richard Gibbs|15|M.|\n",
    "|& Babe Fannie Martin|19|F|\n",
    "|Senior Gates|33|M|\n",
    "|Bates Hiate|22|M|\n",
    "|John Hiate-|21|M|\n",
    "|Ned Sides-|22|M|\n",
    "|Lawson Patterson|22|M|\n",
    "|John Riverly|30|M|\n",
    "|Soleman Miller|28|M|\n",
    "|Moses Todd|23|M|\n",
    "|Peter Stubbs|33|M|\n",
    "|Sarah wife|28|F|\n",
    "|John Sim|12|M.|\n",
    "|Sam Jones|38|M|\n",
    "|Celia wife-|34|F|\n",
    "|Arter Son|16|M|\n",
    "|Sallie daughter|14|F|\n",
    "|Jim son|12|M|\n",
    "|Epraim Bennet|19|Male|\n",
    "|Sam Marsh|24|Male| \"\"\")"
   ]
  },
  {
   "cell_type": "code",
   "execution_count": 11,
   "id": "a65233ae",
   "metadata": {
    "execution": {
     "iopub.execute_input": "2022-07-14T17:46:26.574185Z",
     "iopub.status.busy": "2022-07-14T17:46:26.573011Z",
     "iopub.status.idle": "2022-07-14T17:46:26.579073Z",
     "shell.execute_reply": "2022-07-14T17:46:26.578076Z"
    },
    "papermill": {
     "duration": 0.018259,
     "end_time": "2022-07-14T17:46:26.581974",
     "exception": false,
     "start_time": "2022-07-14T17:46:26.563715",
     "status": "completed"
    },
    "tags": []
   },
   "outputs": [
    {
     "name": "stdout",
     "output_type": "stream",
     "text": [
      "[[3 column table - no headers]]\n",
      "|---|---|---|\n",
      "|Stephen Barni-|25|Male|\n",
      "|Eve. wife|22|F|\n",
      "|Martin Morrsham|18.|M.|\n",
      "|Wm Marshall|22|M.|\n",
      "|Oliver Hudgrim|19|M.|\n",
      "|John Lunford?|16|M.|\n",
      "|George Hargroves-|21|M.|\n",
      "|Richard Gibbs|15|M.|\n",
      "|& Babe Fannie Martin|19|F|\n",
      "|Senior Gates|33|M|\n",
      "|Bates Hiate|22|M|\n",
      "|John Hiate-|21|M|\n",
      "|Ned Sides-|22|M|\n",
      "|Lawson Patterson|22|M|\n",
      "|John Riverly|30|M|\n",
      "|Soleman Miller|28|M|\n",
      "|Moses Todd|23|M|\n",
      "|Peter Stubbs|33|M|\n",
      "|Sarah wife|28|F|\n",
      "|John Sim|12|M.|\n",
      "|Sam Jones|38|M|\n",
      "|Celia wife-|34|F|\n",
      "|Arter Son|16|M|\n",
      "|Sallie daughter|14|F|\n",
      "|Jim son|12|M|\n",
      "|Epraim Bennet|19|Male|\n",
      "|Sam Marsh|24|Male| \n"
     ]
    }
   ],
   "source": [
    "print(tb[1])"
   ]
  },
  {
   "cell_type": "code",
   "execution_count": 12,
   "id": "80001cb4",
   "metadata": {
    "execution": {
     "iopub.execute_input": "2022-07-14T17:46:26.599719Z",
     "iopub.status.busy": "2022-07-14T17:46:26.599142Z",
     "iopub.status.idle": "2022-07-14T17:46:26.603869Z",
     "shell.execute_reply": "2022-07-14T17:46:26.602838Z"
    },
    "papermill": {
     "duration": 0.01688,
     "end_time": "2022-07-14T17:46:26.606951",
     "exception": false,
     "start_time": "2022-07-14T17:46:26.590071",
     "status": "completed"
    },
    "tags": []
   },
   "outputs": [
    {
     "name": "stdout",
     "output_type": "stream",
     "text": [
      "[[3 columned table]]\n",
      "| --- | --- | --- |\n",
      "| 1866 June 16th | Approved Contracted between John L. Banks and Merrit Sanders 'fm, for farming this year | J.L.B. is to furnish Lands, teams, Seed, and farming implements. Three (3) Bls of corn, Two Hundred and fifty (250) Lbs of Pork. Leather for two (2) pair of Shoes (Mens). Pay two thirds (2/3) of wages paid to hired hands and give sd. Merritt Sanders one third (1/3) of crops made. \n",
      "M.S. is to work on said Lands the whole year. pay one third (1/3) of the hire to hands and furnish some assistance on sd. Lands from his family. | [[note]]\n",
      "\n",
      "| June 18 | Approved Contract between W.H. Sanders and Thomas Campbell 'fm, for farming dated March 1st 1866- | W.H. Sanders is to furnish lands, one horse, seed and feed for horse and receive two thirds (2/3) of crops. Freedman Thomas Campbell is to furnish himself and produce crops on said Lands and retain one third (1/3) of crops, and to keep the ditches open on said lands, occupied by his crops |\n",
      "\n",
      "| June 18 | Approved Contract between David S. Henry and Freedmen Parson Avery, Jackson Sanders and Reuben Sanders for farming dated June 6th 1866. | David S. Avery to furnish Lands Seeds and Teams. Parson Avery Jackson Sanders and Reuben Sanders freedmen to perform the manual labor necessary to make crops with said teams & Seeds and Lands furnished to keep up the fences and care properly for the stock and implements, and receive one third (1/3) of the crops. \n",
      "Sd. David S. Avery to receive two thirds (2/3) of the crops, and afford each of said Freedman a garden for Corn, Potatoes &c, &c rent free. | \n"
     ]
    }
   ],
   "source": [
    "print(t2[4])"
   ]
  },
  {
   "cell_type": "code",
   "execution_count": 13,
   "id": "f6359c22",
   "metadata": {
    "execution": {
     "iopub.execute_input": "2022-07-14T17:46:26.624371Z",
     "iopub.status.busy": "2022-07-14T17:46:26.623397Z",
     "iopub.status.idle": "2022-07-14T17:46:26.628862Z",
     "shell.execute_reply": "2022-07-14T17:46:26.627985Z"
    },
    "papermill": {
     "duration": 0.01663,
     "end_time": "2022-07-14T17:46:26.631093",
     "exception": false,
     "start_time": "2022-07-14T17:46:26.614463",
     "status": "completed"
    },
    "tags": []
   },
   "outputs": [],
   "source": [
    "t1=t2"
   ]
  },
  {
   "cell_type": "code",
   "execution_count": 14,
   "id": "9680be7b",
   "metadata": {
    "execution": {
     "iopub.execute_input": "2022-07-14T17:46:26.649285Z",
     "iopub.status.busy": "2022-07-14T17:46:26.647890Z",
     "iopub.status.idle": "2022-07-14T17:46:26.661717Z",
     "shell.execute_reply": "2022-07-14T17:46:26.660477Z"
    },
    "papermill": {
     "duration": 0.025408,
     "end_time": "2022-07-14T17:46:26.664092",
     "exception": false,
     "start_time": "2022-07-14T17:46:26.638684",
     "status": "completed"
    },
    "tags": []
   },
   "outputs": [],
   "source": [
    "contract_text = contract.transcription_text.tolist()\n",
    "\n",
    "lns = []\n",
    "tables_extracted = []\n",
    "all_table_pairs = []\n",
    "idx = 0\n",
    "\n",
    "for table_text in t2:\n",
    "\n",
    "    tmp_tables = []\n",
    "    table_text = table_text.replace(\"[\", \"\").replace(\"]\", \"\").replace(\"^\", \"\")\n",
    "    \n",
    "    lines = table_text.split(\"\\n\")\n",
    "    lines = [i for i in lines if len(i.strip()) != 0]\n",
    "    \n",
    "    separator_counts = []\n",
    "    table_pairs  = []\n",
    "    \n",
    "    start = 0\n",
    "    end = 0\n",
    "    streak = 0\n",
    "    \n",
    "    for line_n, line in enumerate(lines):\n",
    "        \n",
    "        separator_count = line.count(\"|\")   \n",
    "        \n",
    "        condition_1 = len(separator_counts) == 0 or separator_count == separator_counts[-1]\n",
    "        condition_2 = separator_count != 0\n",
    "            \n",
    "        #If you find the beginning of a table, take note\n",
    "        if condition_1 and condition_2:\n",
    "            if streak == 0:\n",
    "                start = line_n\n",
    "            streak += 1\n",
    "        else:\n",
    "            if streak != 0:\n",
    "                table_pairs.append((start, line_n))\n",
    "                all_table_pairs.append((start, line_n, idx))\n",
    "            streak = 0\n",
    "            start = 0\n",
    "    \n",
    "        separator_counts.append(separator_count)\n",
    "        \n",
    "    if streak > 0:\n",
    "        table_pairs.append((start, line_n))\n",
    "        all_table_pairs.append((start, line_n, idx))\n",
    "        \n",
    "    if len(table_pairs) > 0:\n",
    "        for i, pair in enumerate(table_pairs):\n",
    "            table = lines[pair[0]-1:pair[1]]\n",
    "            tmp_tables.append(table)\n",
    "            \n",
    "        tables_extracted.append(tmp_tables[0])\n",
    "        \n",
    "    else:\n",
    "        tables_extracted.append([])\n",
    "        \n",
    "        \n",
    "    idx += 1"
   ]
  },
  {
   "cell_type": "code",
   "execution_count": 15,
   "id": "0713f94f",
   "metadata": {
    "execution": {
     "iopub.execute_input": "2022-07-14T17:46:26.680990Z",
     "iopub.status.busy": "2022-07-14T17:46:26.680246Z",
     "iopub.status.idle": "2022-07-14T17:46:26.686604Z",
     "shell.execute_reply": "2022-07-14T17:46:26.685769Z"
    },
    "papermill": {
     "duration": 0.016995,
     "end_time": "2022-07-14T17:46:26.688532",
     "exception": false,
     "start_time": "2022-07-14T17:46:26.671537",
     "status": "completed"
    },
    "tags": []
   },
   "outputs": [
    {
     "data": {
      "text/plain": [
       "[[],\n",
       " ['| No. | NAMES. | AGE. | RATE of PAY per month. Dols. | RATE of PAY per month. Cents. |         ',\n",
       "  '| --- | --- | --- | --- | --- | '],\n",
       " [],\n",
       " ['| NAME | AGE | SEX | CLASS | MONTHLY RATE OF WAGES. | INTEREST IN PROFITS. |',\n",
       "  '|---|---|---|---|---|---|'],\n",
       " [],\n",
       " ['|NAMES.|AGE.|SEX.|MONTHLY RATE OF WAGES.|INTEREST IN PROFITS.|',\n",
       "  '|Margery X (her mark) Russell|30|female|none|none|'],\n",
       " []]"
      ]
     },
     "execution_count": 15,
     "metadata": {},
     "output_type": "execute_result"
    }
   ],
   "source": [
    "tables_extracted"
   ]
  },
  {
   "cell_type": "code",
   "execution_count": 16,
   "id": "a510625f",
   "metadata": {
    "execution": {
     "iopub.execute_input": "2022-07-14T17:46:26.706326Z",
     "iopub.status.busy": "2022-07-14T17:46:26.705658Z",
     "iopub.status.idle": "2022-07-14T17:46:26.711436Z",
     "shell.execute_reply": "2022-07-14T17:46:26.710149Z"
    },
    "papermill": {
     "duration": 0.017089,
     "end_time": "2022-07-14T17:46:26.713646",
     "exception": false,
     "start_time": "2022-07-14T17:46:26.696557",
     "status": "completed"
    },
    "tags": []
   },
   "outputs": [],
   "source": [
    "dcts = []\n",
    "\n",
    "for i, example in enumerate(tables_extracted):\n",
    "    if example != [] and len(example) > 2:\n",
    "        dcts.append(parse_table_to_dict(example))\n",
    "    else:\n",
    "        dcts.append({})"
   ]
  },
  {
   "cell_type": "code",
   "execution_count": 17,
   "id": "52469e29",
   "metadata": {
    "execution": {
     "iopub.execute_input": "2022-07-14T17:46:26.730914Z",
     "iopub.status.busy": "2022-07-14T17:46:26.730241Z",
     "iopub.status.idle": "2022-07-14T17:46:26.736967Z",
     "shell.execute_reply": "2022-07-14T17:46:26.735879Z"
    },
    "papermill": {
     "duration": 0.01794,
     "end_time": "2022-07-14T17:46:26.739275",
     "exception": false,
     "start_time": "2022-07-14T17:46:26.721335",
     "status": "completed"
    },
    "tags": []
   },
   "outputs": [
    {
     "data": {
      "text/plain": [
       "[{}, {}, {}, {}, {}, {}, {}]"
      ]
     },
     "execution_count": 17,
     "metadata": {},
     "output_type": "execute_result"
    }
   ],
   "source": [
    "dcts"
   ]
  },
  {
   "cell_type": "code",
   "execution_count": 18,
   "id": "c40ae670",
   "metadata": {
    "execution": {
     "iopub.execute_input": "2022-07-14T17:46:26.757478Z",
     "iopub.status.busy": "2022-07-14T17:46:26.756720Z",
     "iopub.status.idle": "2022-07-14T17:46:26.773388Z",
     "shell.execute_reply": "2022-07-14T17:46:26.771994Z"
    },
    "papermill": {
     "duration": 0.028673,
     "end_time": "2022-07-14T17:46:26.776002",
     "exception": false,
     "start_time": "2022-07-14T17:46:26.747329",
     "status": "completed"
    },
    "tags": []
   },
   "outputs": [],
   "source": [
    "contract_text = contract.transcription_text.tolist()\n",
    "\n",
    "lns = []\n",
    "tables_extracted = []\n",
    "all_table_pairs = []\n",
    "idx = 0\n",
    "\n",
    "for table_text in t2:\n",
    "\n",
    "    tmp_tables = []\n",
    "    table_text = table_text.replace(\"[\", \"\").replace(\"]\", \"\").replace(\"^\", \"\")\n",
    "    \n",
    "    lines = table_text.split(\"\\n\")\n",
    "    lines = [i for i in lines if len(i.strip()) != 0]\n",
    "    separator_counts = []\n",
    "    table_pairs  = []\n",
    "    \n",
    "    start = 0\n",
    "    end = 0\n",
    "    streak = 0\n",
    "    lns=[]\n",
    "#     \"\"\"i removed lines without separator \"\"\"\n",
    "#     for j in lines:\n",
    "#          if  j.count(\"|\") ==0:\n",
    "#                 lines.remove(j)\n",
    "                \n",
    "        \n",
    "#    print(lines , \"\\n\\n\")\n",
    "    \n",
    "    for line_n, line in enumerate(lines):\n",
    "        \n",
    "        separator_count = line.count(\"|\")\n",
    "        \n",
    "        if separator_count==0:\n",
    "            continue\n",
    "            \n",
    "        \n",
    "        #print(line ,separator_count, \"\\n\\n\")\n",
    "        \n",
    "        \"\"\"i add the condition where the next line contain more and less separators than the previous line \"\"\"\n",
    "        \n",
    "        condition_1 = len(separator_counts) == 0  or separator_count == separator_counts[-1] or separator_count > separator_counts[-1] or separator_count < separator_counts[-1]\n",
    "        condition_2 = separator_count != 0\n",
    "            \n",
    "         #If you find the beginning of a table, take note\n",
    "        if (condition_1 and condition_2):\n",
    "            if streak == 0:\n",
    "                start = line_n\n",
    "            streak += 1\n",
    "        else:\n",
    "            if streak != 0 :\n",
    "                table_pairs.append((start, line_n))\n",
    "                all_table_pairs.append((start, line_n, idx))\n",
    "#             streak = 0\n",
    "#             start = 0\n",
    "    \n",
    "        separator_counts.append(separator_count)\n",
    "        \n",
    "    \n",
    "    if streak > 0:\n",
    "        table_pairs.append((start, line_n))\n",
    "        all_table_pairs.append((start, line_n, idx))\n",
    "        \n",
    "    if len(table_pairs) > 0:\n",
    "        for i, pair in enumerate(table_pairs):\n",
    "            table = lines[pair[0]-1:pair[1]]\n",
    "            tmp_tables.append(table)\n",
    "            \n",
    "        tables_extracted.append(tmp_tables[0])\n",
    "        \n",
    "    else:\n",
    "        tables_extracted.append([])\n",
    "     \n",
    "    \n",
    "    idx +=1\n",
    " \n",
    "\n",
    "    \n",
    "    \n",
    "    \n",
    "        "
   ]
  },
  {
   "cell_type": "code",
   "execution_count": 19,
   "id": "ec866b35",
   "metadata": {
    "execution": {
     "iopub.execute_input": "2022-07-14T17:46:26.792760Z",
     "iopub.status.busy": "2022-07-14T17:46:26.792018Z",
     "iopub.status.idle": "2022-07-14T17:46:26.797871Z",
     "shell.execute_reply": "2022-07-14T17:46:26.796627Z"
    },
    "papermill": {
     "duration": 0.016929,
     "end_time": "2022-07-14T17:46:26.800214",
     "exception": false,
     "start_time": "2022-07-14T17:46:26.783285",
     "status": "completed"
    },
    "tags": []
   },
   "outputs": [
    {
     "name": "stdout",
     "output_type": "stream",
     "text": [
      "5\n"
     ]
    }
   ],
   "source": [
    "nb=0\n",
    "for example in (tables_extracted):\n",
    "    if len(example)> 0 :\n",
    "        nb=nb+1\n",
    "print(nb)"
   ]
  },
  {
   "cell_type": "code",
   "execution_count": 20,
   "id": "a48c1a60",
   "metadata": {
    "execution": {
     "iopub.execute_input": "2022-07-14T17:46:26.818967Z",
     "iopub.status.busy": "2022-07-14T17:46:26.818298Z",
     "iopub.status.idle": "2022-07-14T17:46:26.823344Z",
     "shell.execute_reply": "2022-07-14T17:46:26.822171Z"
    },
    "papermill": {
     "duration": 0.017577,
     "end_time": "2022-07-14T17:46:26.825712",
     "exception": false,
     "start_time": "2022-07-14T17:46:26.808135",
     "status": "completed"
    },
    "tags": []
   },
   "outputs": [
    {
     "name": "stdout",
     "output_type": "stream",
     "text": [
      "|No.|Name|Age|Rate of pay per month. Dols Cts.\n",
      "|1|Martha Willis|21|   | \n"
     ]
    }
   ],
   "source": [
    "print(t2[6])"
   ]
  },
  {
   "cell_type": "code",
   "execution_count": 21,
   "id": "a73dec90",
   "metadata": {
    "execution": {
     "iopub.execute_input": "2022-07-14T17:46:26.842994Z",
     "iopub.status.busy": "2022-07-14T17:46:26.842633Z",
     "iopub.status.idle": "2022-07-14T17:46:26.849590Z",
     "shell.execute_reply": "2022-07-14T17:46:26.848685Z"
    },
    "papermill": {
     "duration": 0.018239,
     "end_time": "2022-07-14T17:46:26.851711",
     "exception": false,
     "start_time": "2022-07-14T17:46:26.833472",
     "status": "completed"
    },
    "tags": []
   },
   "outputs": [
    {
     "data": {
      "text/plain": [
       "[['7 column table',\n",
       "  \"No. | NAME. | AGE. | WAGES. DOLLS. | WAGES. CTS. | MONTHLY PAYM'T. DOLLS. | MONTHLY PAYM'T. CTS.\",\n",
       "  '/preprinted'],\n",
       " ['5 columned table',\n",
       "  '| No. | NAMES. | AGE. | RATE of PAY per month. Dols. | RATE of PAY per month. Cents. |         ',\n",
       "  '| --- | --- | --- | --- | --- | '],\n",
       " [],\n",
       " ['6 Columned Table',\n",
       "  '| NAME | AGE | SEX | CLASS | MONTHLY RATE OF WAGES. | INTEREST IN PROFITS. |',\n",
       "  '|---|---|---|---|---|---|',\n",
       "  '| Franklin | 21 | Male | 1st | $8.00 |'],\n",
       " ['3 columned table',\n",
       "  '| --- | --- | --- |',\n",
       "  \"| 1866 June 16th | Approved Contracted between John L. Banks and Merrit Sanders 'fm, for farming this year | J.L.B. is to furnish Lands, teams, Seed, and farming implements. Three (3) Bls of corn, Two Hundred and fifty (250) Lbs of Pork. Leather for two (2) pair of Shoes (Mens). Pay two thirds (2/3) of wages paid to hired hands and give sd. Merritt Sanders one third (1/3) of crops made. \",\n",
       "  'M.S. is to work on said Lands the whole year. pay one third (1/3) of the hire to hands and furnish some assistance on sd. Lands from his family. | note',\n",
       "  \"| June 18 | Approved Contract between W.H. Sanders and Thomas Campbell 'fm, for farming dated March 1st 1866- | W.H. Sanders is to furnish lands, one horse, seed and feed for horse and receive two thirds (2/3) of crops. Freedman Thomas Campbell is to furnish himself and produce crops on said Lands and retain one third (1/3) of crops, and to keep the ditches open on said lands, occupied by his crops |\",\n",
       "  '| June 18 | Approved Contract between David S. Henry and Freedmen Parson Avery, Jackson Sanders and Reuben Sanders for farming dated June 6th 1866. | David S. Avery to furnish Lands Seeds and Teams. Parson Avery Jackson Sanders and Reuben Sanders freedmen to perform the manual labor necessary to make crops with said teams & Seeds and Lands furnished to keep up the fences and care properly for the stock and implements, and receive one third (1/3) of the crops. '],\n",
       " ['5 column table',\n",
       "  '|NAMES.|AGE.|SEX.|MONTHLY RATE OF WAGES.|INTEREST IN PROFITS.|',\n",
       "  '|Margery X (her mark) Russell|30|female|none|none|',\n",
       "  '/5 column table',\n",
       "  'DEPENDENTS.',\n",
       "  '6 column table',\n",
       "  '|NAMES.|AGE.|SEX.|NAMES.|AGE.|SEX.|',\n",
       "  '|Phillis|9|female|   |   |   |',\n",
       "  '|Emma|6|female|   |   |   |'],\n",
       " []]"
      ]
     },
     "execution_count": 21,
     "metadata": {},
     "output_type": "execute_result"
    }
   ],
   "source": [
    "tables_extracted"
   ]
  },
  {
   "cell_type": "code",
   "execution_count": 22,
   "id": "0588d86f",
   "metadata": {
    "execution": {
     "iopub.execute_input": "2022-07-14T17:46:26.869493Z",
     "iopub.status.busy": "2022-07-14T17:46:26.868805Z",
     "iopub.status.idle": "2022-07-14T17:46:26.874248Z",
     "shell.execute_reply": "2022-07-14T17:46:26.873214Z"
    },
    "papermill": {
     "duration": 0.01717,
     "end_time": "2022-07-14T17:46:26.877062",
     "exception": false,
     "start_time": "2022-07-14T17:46:26.859892",
     "status": "completed"
    },
    "tags": []
   },
   "outputs": [
    {
     "name": "stdout",
     "output_type": "stream",
     "text": [
      "\n",
      "[[5 column table]]\n",
      "\n",
      "|NAMES.|AGE.|SEX.|MONTHLY RATE OF WAGES.|INTEREST IN PROFITS.|\n",
      "|Margery X (her mark) Russell|30|female|none|none|\n",
      "\n",
      "[[/5 column table]]\n",
      "\n",
      "DEPENDENTS.\n",
      "\n",
      "[[6 column table]]\n",
      "\n",
      "|NAMES.|AGE.|SEX.|NAMES.|AGE.|SEX.|\n",
      "|Phillis|9|female|   |   |   |\n",
      "|Emma|6|female|   |   |   |\n",
      "\n",
      "[[/6 column table]]\n"
     ]
    }
   ],
   "source": [
    "print(t2[5])"
   ]
  },
  {
   "cell_type": "code",
   "execution_count": 23,
   "id": "53847261",
   "metadata": {
    "execution": {
     "iopub.execute_input": "2022-07-14T17:46:26.896040Z",
     "iopub.status.busy": "2022-07-14T17:46:26.894914Z",
     "iopub.status.idle": "2022-07-14T17:46:26.900200Z",
     "shell.execute_reply": "2022-07-14T17:46:26.899389Z"
    },
    "papermill": {
     "duration": 0.017622,
     "end_time": "2022-07-14T17:46:26.903057",
     "exception": false,
     "start_time": "2022-07-14T17:46:26.885435",
     "status": "completed"
    },
    "tags": []
   },
   "outputs": [
    {
     "name": "stdout",
     "output_type": "stream",
     "text": [
      "|NAMES.|AGE.|MONTHLY RATE OF WAGES.|INTEREST IN PROFITS.|\n",
      "|Frances her x mark|16|none|none.\n",
      "\n",
      "\n",
      "DEPENDENTS.\n",
      "|NAMES.|AGE.|NAMES.|AGE.|\n"
     ]
    }
   ],
   "source": [
    "print(t2[2])"
   ]
  },
  {
   "cell_type": "code",
   "execution_count": 24,
   "id": "04e80d8c",
   "metadata": {
    "execution": {
     "iopub.execute_input": "2022-07-14T17:46:26.921099Z",
     "iopub.status.busy": "2022-07-14T17:46:26.920331Z",
     "iopub.status.idle": "2022-07-14T17:46:26.927382Z",
     "shell.execute_reply": "2022-07-14T17:46:26.925976Z"
    },
    "papermill": {
     "duration": 0.018493,
     "end_time": "2022-07-14T17:46:26.929646",
     "exception": false,
     "start_time": "2022-07-14T17:46:26.911153",
     "status": "completed"
    },
    "tags": []
   },
   "outputs": [
    {
     "data": {
      "text/plain": [
       "\"[[table]]\\nNo. | NAME. | AGE. | ^[[Twelve months]] WAGES. DOLLS. CTS. | MONTHLY PAYM'T. DOLLS. CTS. [[/preprinted]]\\n|Phil Shaver His x mark|33|$144|00|2|00\\n|John Leo His x mark|16|72|00|1|50\\n|Mumford Randleman His x mark|25|120|00|2|00\\n|Adam Fisher His x mark|25|144|00|2|00\\n|Emma Fisher Her x mark|19|72|00|2|00\\n|Joseph Thompson His x mark|19|144|00|2|00\\n|Henry Kelly Ale His mark x|20|144|00|2|00\\n|Samuel Gillespie His x mark|22|120|00|2|00\\n|Nathan Foard His x mark|40|144|00|2|00\\n|Jordan Cox, His x mark|19|120|00|2|00\\n|Ann Tyson Her x mark|18|84|00|2|00\\n|Liza Dixon Her x mark|30|84|00|2|00\\n|Ceily Auston Her x mark||25|00|84|00\\n|Leon Foard His x mark|13|72|00|2|00\\n|Silas Foard His x mark|10|60|00|2|00\\n|Alfred P. Dixon His x mark|10|48|00|2|00\\n|Mary Hall Her x mark|25|72|00|2|00\\n|Hicksey Her x mark|25|72|00|2|00\\n|Dennis His x mark|14|48|00|2|00\\n|George Little & His x mark|31|120|00|2|00\\n|Wife|23|96|00|1|00\\n|Will Alfred & His x mark|28|120|00|2|00\\n|Wife|19|96|00|2|00\\n|Henry Myers His x mark|22|144|00|2|00\\n|Thomas Granderson His x mark|24|120|00|2|00\\n|Fred Deaton His x mark|23|120|00|2|00\\n|[[Illegible - final line of page is cut off]]|14|72|00|2|00\\n[[/Table]]\""
      ]
     },
     "execution_count": 24,
     "metadata": {},
     "output_type": "execute_result"
    }
   ],
   "source": [
    "tb[0]"
   ]
  },
  {
   "cell_type": "code",
   "execution_count": 25,
   "id": "6577468d",
   "metadata": {
    "execution": {
     "iopub.execute_input": "2022-07-14T17:46:26.948563Z",
     "iopub.status.busy": "2022-07-14T17:46:26.947794Z",
     "iopub.status.idle": "2022-07-14T17:46:26.954725Z",
     "shell.execute_reply": "2022-07-14T17:46:26.953608Z"
    },
    "papermill": {
     "duration": 0.018874,
     "end_time": "2022-07-14T17:46:26.956885",
     "exception": false,
     "start_time": "2022-07-14T17:46:26.938011",
     "status": "completed"
    },
    "tags": []
   },
   "outputs": [
    {
     "data": {
      "text/plain": [
       "\"[[7 column table]]\\nNo. | NAME. | AGE. | WAGES. DOLLS. | [[WAGES.]] CTS. | MONTHLY PAYM'T. DOLLS. | [[MONTHLY PAYM'T.]] CTS.\\n[[/preprinted]]\\n\\n1 | Sarah | 17 | 2 | 50 | 1 | 75 \""
      ]
     },
     "execution_count": 25,
     "metadata": {},
     "output_type": "execute_result"
    }
   ],
   "source": [
    "t2[0]"
   ]
  },
  {
   "cell_type": "code",
   "execution_count": 26,
   "id": "edd90c33",
   "metadata": {
    "execution": {
     "iopub.execute_input": "2022-07-14T17:46:26.975029Z",
     "iopub.status.busy": "2022-07-14T17:46:26.974181Z",
     "iopub.status.idle": "2022-07-14T17:46:26.980836Z",
     "shell.execute_reply": "2022-07-14T17:46:26.979911Z"
    },
    "papermill": {
     "duration": 0.017684,
     "end_time": "2022-07-14T17:46:26.982761",
     "exception": false,
     "start_time": "2022-07-14T17:46:26.965077",
     "status": "completed"
    },
    "tags": []
   },
   "outputs": [
    {
     "data": {
      "text/plain": [
       "'|No.|Name|Age|Rate of pay per month. Dols Cts.\\n|1|Martha Willis|21|   | '"
      ]
     },
     "execution_count": 26,
     "metadata": {},
     "output_type": "execute_result"
    }
   ],
   "source": [
    "t2[-1]"
   ]
  },
  {
   "cell_type": "code",
   "execution_count": 27,
   "id": "b1a087d8",
   "metadata": {
    "collapsed": true,
    "execution": {
     "iopub.execute_input": "2022-07-14T17:46:27.001897Z",
     "iopub.status.busy": "2022-07-14T17:46:27.001031Z",
     "iopub.status.idle": "2022-07-14T17:46:27.008514Z",
     "shell.execute_reply": "2022-07-14T17:46:27.007447Z"
    },
    "jupyter": {
     "outputs_hidden": true
    },
    "papermill": {
     "duration": 0.019582,
     "end_time": "2022-07-14T17:46:27.010854",
     "exception": false,
     "start_time": "2022-07-14T17:46:26.991272",
     "status": "completed"
    },
    "tags": []
   },
   "outputs": [
    {
     "data": {
      "text/plain": [
       "[['7 column table',\n",
       "  \"No. | NAME. | AGE. | WAGES. DOLLS. | WAGES. CTS. | MONTHLY PAYM'T. DOLLS. | MONTHLY PAYM'T. CTS.\",\n",
       "  '/preprinted'],\n",
       " ['5 columned table',\n",
       "  '| No. | NAMES. | AGE. | RATE of PAY per month. Dols. | RATE of PAY per month. Cents. |         ',\n",
       "  '| --- | --- | --- | --- | --- | '],\n",
       " [],\n",
       " ['6 Columned Table',\n",
       "  '| NAME | AGE | SEX | CLASS | MONTHLY RATE OF WAGES. | INTEREST IN PROFITS. |',\n",
       "  '|---|---|---|---|---|---|',\n",
       "  '| Franklin | 21 | Male | 1st | $8.00 |'],\n",
       " ['3 columned table',\n",
       "  '| --- | --- | --- |',\n",
       "  \"| 1866 June 16th | Approved Contracted between John L. Banks and Merrit Sanders 'fm, for farming this year | J.L.B. is to furnish Lands, teams, Seed, and farming implements. Three (3) Bls of corn, Two Hundred and fifty (250) Lbs of Pork. Leather for two (2) pair of Shoes (Mens). Pay two thirds (2/3) of wages paid to hired hands and give sd. Merritt Sanders one third (1/3) of crops made. \",\n",
       "  'M.S. is to work on said Lands the whole year. pay one third (1/3) of the hire to hands and furnish some assistance on sd. Lands from his family. | note',\n",
       "  \"| June 18 | Approved Contract between W.H. Sanders and Thomas Campbell 'fm, for farming dated March 1st 1866- | W.H. Sanders is to furnish lands, one horse, seed and feed for horse and receive two thirds (2/3) of crops. Freedman Thomas Campbell is to furnish himself and produce crops on said Lands and retain one third (1/3) of crops, and to keep the ditches open on said lands, occupied by his crops |\",\n",
       "  '| June 18 | Approved Contract between David S. Henry and Freedmen Parson Avery, Jackson Sanders and Reuben Sanders for farming dated June 6th 1866. | David S. Avery to furnish Lands Seeds and Teams. Parson Avery Jackson Sanders and Reuben Sanders freedmen to perform the manual labor necessary to make crops with said teams & Seeds and Lands furnished to keep up the fences and care properly for the stock and implements, and receive one third (1/3) of the crops. '],\n",
       " ['5 column table',\n",
       "  '|NAMES.|AGE.|SEX.|MONTHLY RATE OF WAGES.|INTEREST IN PROFITS.|',\n",
       "  '|Margery X (her mark) Russell|30|female|none|none|',\n",
       "  '/5 column table',\n",
       "  'DEPENDENTS.',\n",
       "  '6 column table',\n",
       "  '|NAMES.|AGE.|SEX.|NAMES.|AGE.|SEX.|',\n",
       "  '|Phillis|9|female|   |   |   |',\n",
       "  '|Emma|6|female|   |   |   |'],\n",
       " []]"
      ]
     },
     "execution_count": 27,
     "metadata": {},
     "output_type": "execute_result"
    }
   ],
   "source": [
    "tables_extracted"
   ]
  },
  {
   "cell_type": "code",
   "execution_count": 28,
   "id": "b89502b4",
   "metadata": {
    "execution": {
     "iopub.execute_input": "2022-07-14T17:46:27.031359Z",
     "iopub.status.busy": "2022-07-14T17:46:27.029978Z",
     "iopub.status.idle": "2022-07-14T17:46:27.038420Z",
     "shell.execute_reply": "2022-07-14T17:46:27.037225Z"
    },
    "papermill": {
     "duration": 0.020822,
     "end_time": "2022-07-14T17:46:27.040687",
     "exception": false,
     "start_time": "2022-07-14T17:46:27.019865",
     "status": "completed"
    },
    "tags": []
   },
   "outputs": [
    {
     "data": {
      "text/plain": [
       "[['7 column table',\n",
       "  \"No. | NAME. | AGE. | WAGES. DOLLS. | WAGES. CTS. | MONTHLY PAYM'T. DOLLS. | MONTHLY PAYM'T. CTS.\",\n",
       "  '/preprinted'],\n",
       " ['5 columned table',\n",
       "  '| No. | NAMES. | AGE. | RATE of PAY per month. Dols. | RATE of PAY per month. Cents. |         ',\n",
       "  '| --- | --- | --- | --- | --- | '],\n",
       " [],\n",
       " ['6 Columned Table',\n",
       "  '| NAME | AGE | SEX | CLASS | MONTHLY RATE OF WAGES. | INTEREST IN PROFITS. |',\n",
       "  '|---|---|---|---|---|---|',\n",
       "  '| Franklin | 21 | Male | 1st | $8.00 |'],\n",
       " ['3 columned table',\n",
       "  '| --- | --- | --- |',\n",
       "  \"| 1866 June 16th | Approved Contracted between John L. Banks and Merrit Sanders 'fm, for farming this year | J.L.B. is to furnish Lands, teams, Seed, and farming implements. Three (3) Bls of corn, Two Hundred and fifty (250) Lbs of Pork. Leather for two (2) pair of Shoes (Mens). Pay two thirds (2/3) of wages paid to hired hands and give sd. Merritt Sanders one third (1/3) of crops made. \",\n",
       "  'M.S. is to work on said Lands the whole year. pay one third (1/3) of the hire to hands and furnish some assistance on sd. Lands from his family. | note',\n",
       "  \"| June 18 | Approved Contract between W.H. Sanders and Thomas Campbell 'fm, for farming dated March 1st 1866- | W.H. Sanders is to furnish lands, one horse, seed and feed for horse and receive two thirds (2/3) of crops. Freedman Thomas Campbell is to furnish himself and produce crops on said Lands and retain one third (1/3) of crops, and to keep the ditches open on said lands, occupied by his crops |\",\n",
       "  '| June 18 | Approved Contract between David S. Henry and Freedmen Parson Avery, Jackson Sanders and Reuben Sanders for farming dated June 6th 1866. | David S. Avery to furnish Lands Seeds and Teams. Parson Avery Jackson Sanders and Reuben Sanders freedmen to perform the manual labor necessary to make crops with said teams & Seeds and Lands furnished to keep up the fences and care properly for the stock and implements, and receive one third (1/3) of the crops. '],\n",
       " ['5 column table',\n",
       "  '|NAMES.|AGE.|SEX.|MONTHLY RATE OF WAGES.|INTEREST IN PROFITS.|',\n",
       "  '|Margery X (her mark) Russell|30|female|none|none|',\n",
       "  '/5 column table',\n",
       "  'DEPENDENTS.',\n",
       "  '6 column table',\n",
       "  '|NAMES.|AGE.|SEX.|NAMES.|AGE.|SEX.|',\n",
       "  '|Phillis|9|female|   |   |   |',\n",
       "  '|Emma|6|female|   |   |   |'],\n",
       " []]"
      ]
     },
     "execution_count": 28,
     "metadata": {},
     "output_type": "execute_result"
    }
   ],
   "source": [
    "tables_extracted"
   ]
  },
  {
   "cell_type": "code",
   "execution_count": 29,
   "id": "a85a2214",
   "metadata": {
    "execution": {
     "iopub.execute_input": "2022-07-14T17:46:27.060546Z",
     "iopub.status.busy": "2022-07-14T17:46:27.059854Z",
     "iopub.status.idle": "2022-07-14T17:46:27.066566Z",
     "shell.execute_reply": "2022-07-14T17:46:27.065676Z"
    },
    "papermill": {
     "duration": 0.018944,
     "end_time": "2022-07-14T17:46:27.068588",
     "exception": false,
     "start_time": "2022-07-14T17:46:27.049644",
     "status": "completed"
    },
    "tags": []
   },
   "outputs": [
    {
     "data": {
      "text/plain": [
       "[4, 5]"
      ]
     },
     "execution_count": 29,
     "metadata": {},
     "output_type": "execute_result"
    }
   ],
   "source": [
    "separator_counts"
   ]
  },
  {
   "cell_type": "code",
   "execution_count": 30,
   "id": "2a627378",
   "metadata": {
    "execution": {
     "iopub.execute_input": "2022-07-14T17:46:27.088231Z",
     "iopub.status.busy": "2022-07-14T17:46:27.087473Z",
     "iopub.status.idle": "2022-07-14T17:46:27.093428Z",
     "shell.execute_reply": "2022-07-14T17:46:27.092056Z"
    },
    "papermill": {
     "duration": 0.017867,
     "end_time": "2022-07-14T17:46:27.095545",
     "exception": false,
     "start_time": "2022-07-14T17:46:27.077678",
     "status": "completed"
    },
    "tags": []
   },
   "outputs": [
    {
     "name": "stdout",
     "output_type": "stream",
     "text": [
      "5\n"
     ]
    }
   ],
   "source": [
    "nb=0\n",
    "for example in (tables_extracted):\n",
    "    if len(example)> 0 :\n",
    "        nb=nb+1\n",
    "print(nb)"
   ]
  },
  {
   "cell_type": "code",
   "execution_count": 31,
   "id": "46abcaa4",
   "metadata": {
    "execution": {
     "iopub.execute_input": "2022-07-14T17:46:27.115514Z",
     "iopub.status.busy": "2022-07-14T17:46:27.114406Z",
     "iopub.status.idle": "2022-07-14T17:46:27.120015Z",
     "shell.execute_reply": "2022-07-14T17:46:27.118774Z"
    },
    "papermill": {
     "duration": 0.018174,
     "end_time": "2022-07-14T17:46:27.122262",
     "exception": false,
     "start_time": "2022-07-14T17:46:27.104088",
     "status": "completed"
    },
    "tags": []
   },
   "outputs": [],
   "source": [
    "# for i in (contract[contract.tables_parsed == {}].sample(n=2).transcription_text.tolist()):\n",
    "\n",
    "#     print(i)\n",
    "#     print(\"\\n==========\\n\")"
   ]
  },
  {
   "cell_type": "code",
   "execution_count": null,
   "id": "230d741a",
   "metadata": {
    "papermill": {
     "duration": 0.008109,
     "end_time": "2022-07-14T17:46:27.139132",
     "exception": false,
     "start_time": "2022-07-14T17:46:27.131023",
     "status": "completed"
    },
    "tags": []
   },
   "outputs": [],
   "source": []
  }
 ],
 "metadata": {
  "kernelspec": {
   "display_name": "Python 3",
   "language": "python",
   "name": "python3"
  },
  "language_info": {
   "codemirror_mode": {
    "name": "ipython",
    "version": 3
   },
   "file_extension": ".py",
   "mimetype": "text/x-python",
   "name": "python",
   "nbconvert_exporter": "python",
   "pygments_lexer": "ipython3",
   "version": "3.7.12"
  },
  "papermill": {
   "default_parameters": {},
   "duration": 46.461512,
   "end_time": "2022-07-14T17:46:28.071054",
   "environment_variables": {},
   "exception": null,
   "input_path": "__notebook__.ipynb",
   "output_path": "__notebook__.ipynb",
   "parameters": {},
   "start_time": "2022-07-14T17:45:41.609542",
   "version": "2.3.4"
  }
 },
 "nbformat": 4,
 "nbformat_minor": 5
}
