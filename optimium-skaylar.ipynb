{
 "cells": [
  {
   "cell_type": "code",
   "execution_count": 1,
   "id": "bd16f58e",
   "metadata": {
    "_cell_guid": "b1076dfc-b9ad-4769-8c92-a6c4dae69d19",
    "_kg_hide-output": true,
    "_uuid": "8f2839f25d086af736a60e9eeb907d3b93b6e0e5",
    "execution": {
     "iopub.execute_input": "2022-07-15T17:50:58.113850Z",
     "iopub.status.busy": "2022-07-15T17:50:58.113369Z",
     "iopub.status.idle": "2022-07-15T17:51:00.169890Z",
     "shell.execute_reply": "2022-07-15T17:51:00.168588Z"
    },
    "papermill": {
     "duration": 2.073753,
     "end_time": "2022-07-15T17:51:00.173119",
     "exception": false,
     "start_time": "2022-07-15T17:50:58.099366",
     "status": "completed"
    },
    "tags": []
   },
   "outputs": [],
   "source": [
    "# !pip install flair\n",
    "import time\n",
    "import string\n",
    "import warnings\n",
    "\n",
    "import regex as re\n",
    "from tqdm import tqdm\n",
    "\n",
    "\n",
    "import pickle\n",
    "import numpy as np\n",
    "import pandas as pd \n",
    "\n",
    "import seaborn as sns\n",
    "import matplotlib.pyplot as plt \n",
    "import matplotlib.style as stl \n",
    "\n",
    "\n",
    "\n",
    "from nltk.corpus import stopwords\n",
    "from nltk.corpus import stopwords\n",
    "from nltk.tokenize import word_tokenize\n",
    "from nltk.stem import WordNetLemmatizer\n",
    "from nltk.stem.snowball import SnowballStemmer\n",
    "\n",
    "\n",
    "warnings.filterwarnings(\"ignore\")"
   ]
  },
  {
   "cell_type": "code",
   "execution_count": 2,
   "id": "693d01c7",
   "metadata": {
    "execution": {
     "iopub.execute_input": "2022-07-15T17:51:00.198277Z",
     "iopub.status.busy": "2022-07-15T17:51:00.197334Z",
     "iopub.status.idle": "2022-07-15T17:51:07.763809Z",
     "shell.execute_reply": "2022-07-15T17:51:07.762406Z"
    },
    "papermill": {
     "duration": 7.582041,
     "end_time": "2022-07-15T17:51:07.766888",
     "exception": false,
     "start_time": "2022-07-15T17:51:00.184847",
     "status": "completed"
    },
    "tags": []
   },
   "outputs": [],
   "source": [
    "documents = pd.read_csv(\"../input/skylarfreedman/Documents-Table 1.csv\", on_bad_lines='skip', sep=\";\")"
   ]
  },
  {
   "cell_type": "code",
   "execution_count": 3,
   "id": "0ee13593",
   "metadata": {
    "execution": {
     "iopub.execute_input": "2022-07-15T17:51:07.790956Z",
     "iopub.status.busy": "2022-07-15T17:51:07.790209Z",
     "iopub.status.idle": "2022-07-15T17:51:07.849436Z",
     "shell.execute_reply": "2022-07-15T17:51:07.848089Z"
    },
    "papermill": {
     "duration": 0.074781,
     "end_time": "2022-07-15T17:51:07.852686",
     "exception": false,
     "start_time": "2022-07-15T17:51:07.777905",
     "status": "completed"
    },
    "tags": []
   },
   "outputs": [],
   "source": [
    "contract = documents[documents.Category == \"Contracts\"]\n",
    "contract = contract[[\"document_id\", \"project_id\", \"transcription_text\"]]"
   ]
  },
  {
   "cell_type": "code",
   "execution_count": 4,
   "id": "3ebd823b",
   "metadata": {
    "execution": {
     "iopub.execute_input": "2022-07-15T17:51:07.876865Z",
     "iopub.status.busy": "2022-07-15T17:51:07.876467Z",
     "iopub.status.idle": "2022-07-15T17:51:07.890186Z",
     "shell.execute_reply": "2022-07-15T17:51:07.888748Z"
    },
    "papermill": {
     "duration": 0.029146,
     "end_time": "2022-07-15T17:51:07.893130",
     "exception": false,
     "start_time": "2022-07-15T17:51:07.863984",
     "status": "completed"
    },
    "tags": []
   },
   "outputs": [],
   "source": [
    "contract = contract[pd.notnull(contract['transcription_text'])]\n",
    "contract = contract.reset_index(drop=True)"
   ]
  },
  {
   "cell_type": "markdown",
   "id": "22e3fbbf",
   "metadata": {
    "papermill": {
     "duration": 0.010955,
     "end_time": "2022-07-15T17:51:07.915182",
     "exception": false,
     "start_time": "2022-07-15T17:51:07.904227",
     "status": "completed"
    },
    "tags": []
   },
   "source": [
    "# Preprocessing"
   ]
  },
  {
   "cell_type": "code",
   "execution_count": 5,
   "id": "766d4d3f",
   "metadata": {
    "execution": {
     "iopub.execute_input": "2022-07-15T17:51:07.939263Z",
     "iopub.status.busy": "2022-07-15T17:51:07.938815Z",
     "iopub.status.idle": "2022-07-15T17:51:07.955927Z",
     "shell.execute_reply": "2022-07-15T17:51:07.954517Z"
    },
    "papermill": {
     "duration": 0.032673,
     "end_time": "2022-07-15T17:51:07.959025",
     "exception": false,
     "start_time": "2022-07-15T17:51:07.926352",
     "status": "completed"
    },
    "tags": []
   },
   "outputs": [],
   "source": [
    "stop_words = set(stopwords.words('english'))\n",
    "punctuation = string.punctuation\n",
    "stemmer = SnowballStemmer(language=\"english\")\n",
    "lemmatizer = WordNetLemmatizer()\n",
    "stop_words.remove(\"of\")\n",
    "punct='!\"#$%&\\'()*+-/<=>?@[\\\\]^_`{|}~'\n",
    "\n",
    "def process(s):\n",
    "    \"\"\"Removes stop words, words in brackets\n",
    "    and parentheses, and special characters.\n",
    "    \"\"\"\n",
    "    \n",
    "    s= re.sub(\"([\\(\\[]).*?([\\)\\]])\",\" \",s)\n",
    "    for p in punct:\n",
    "        s = s.replace(p, '')\n",
    "    s = word_tokenize(s)\n",
    "    s = [w for w in s if not w in stop_words] #optional\n",
    "    return s"
   ]
  },
  {
   "cell_type": "code",
   "execution_count": 6,
   "id": "a64ea425",
   "metadata": {
    "execution": {
     "iopub.execute_input": "2022-07-15T17:51:07.984088Z",
     "iopub.status.busy": "2022-07-15T17:51:07.983082Z",
     "iopub.status.idle": "2022-07-15T17:51:49.471321Z",
     "shell.execute_reply": "2022-07-15T17:51:49.469761Z"
    },
    "papermill": {
     "duration": 41.504061,
     "end_time": "2022-07-15T17:51:49.474370",
     "exception": false,
     "start_time": "2022-07-15T17:51:07.970309",
     "status": "completed"
    },
    "tags": []
   },
   "outputs": [],
   "source": [
    "contract[\"processed_text\"] = contract[\"transcription_text\"].apply(process)\n",
    "contract[\"processed_text\"] = contract[\"processed_text\"].apply(lambda x: \" \".join(x))"
   ]
  },
  {
   "cell_type": "code",
   "execution_count": 7,
   "id": "c0b3e8ef",
   "metadata": {
    "execution": {
     "iopub.execute_input": "2022-07-15T17:51:49.499157Z",
     "iopub.status.busy": "2022-07-15T17:51:49.498098Z",
     "iopub.status.idle": "2022-07-15T17:51:49.512393Z",
     "shell.execute_reply": "2022-07-15T17:51:49.511073Z"
    },
    "papermill": {
     "duration": 0.029542,
     "end_time": "2022-07-15T17:51:49.515247",
     "exception": false,
     "start_time": "2022-07-15T17:51:49.485705",
     "status": "completed"
    },
    "tags": []
   },
   "outputs": [],
   "source": [
    "def parse_table_to_dict(example) :\n",
    "    \n",
    "    def clean_record(x) :\n",
    "        if x.strip() == \"\":\n",
    "            return \" \"\n",
    "        return x.strip().replace(\"{\", \"\").replace(\"}\", \"\")\n",
    "\n",
    "    table_dict = {}\n",
    "\n",
    "    if \"name\" in example[0].lower():\n",
    "\n",
    "        cols = []\n",
    "        for col in example[0].split(\"|\"):\n",
    "            if col.strip() == \"\":\n",
    "                cols.append(col)\n",
    "            else:\n",
    "                cols.append(col.strip().lower().replace(\" \", \"_\").replace(\".\", \"\"))\n",
    "\n",
    "        values = np.array([list(map(clean_record, i.split(\"|\"))) for i in example[1:]])\n",
    "\n",
    "    else:\n",
    "\n",
    "        n_cols = len(example[0].split(\"|\"))\n",
    "        cols = [f\"col_{i}\" for i in range(n_cols)]\n",
    "\n",
    "        values = np.array([list(map(clean_record, i.split(\"|\"))) for i in example])\n",
    "        \n",
    "    \n",
    "    #Remove empty rows ([\"----\", \"-----\", \"-----\"])\n",
    "    new_values = []\n",
    "    for line in values:\n",
    "        line_chars = list(set(\"\".join([i.strip() for i in line])))\n",
    "        \n",
    "        if len(line_chars) != 0 and (line_chars[0] != \"-\" or len(line_chars) != 0):\n",
    "            new_values.append(line.tolist())\n",
    "            \n",
    "    values = np.array(new_values)\n",
    "            \n",
    "    if values.reshape(-1).shape[0] != 0:\n",
    "        for i, col in enumerate(cols):\n",
    "            table_dict[col] = values[:, i].tolist()\n",
    "            \n",
    "        return table_dict\n",
    "    \n",
    "    else:\n",
    "        \n",
    "        return {} "
   ]
  },
  {
   "cell_type": "code",
   "execution_count": 8,
   "id": "f07899c9",
   "metadata": {
    "execution": {
     "iopub.execute_input": "2022-07-15T17:51:49.541039Z",
     "iopub.status.busy": "2022-07-15T17:51:49.540312Z",
     "iopub.status.idle": "2022-07-15T17:51:49.564372Z",
     "shell.execute_reply": "2022-07-15T17:51:49.563153Z"
    },
    "papermill": {
     "duration": 0.040189,
     "end_time": "2022-07-15T17:51:49.567074",
     "exception": false,
     "start_time": "2022-07-15T17:51:49.526885",
     "status": "completed"
    },
    "tags": []
   },
   "outputs": [
    {
     "data": {
      "text/html": [
       "<div>\n",
       "<style scoped>\n",
       "    .dataframe tbody tr th:only-of-type {\n",
       "        vertical-align: middle;\n",
       "    }\n",
       "\n",
       "    .dataframe tbody tr th {\n",
       "        vertical-align: top;\n",
       "    }\n",
       "\n",
       "    .dataframe thead th {\n",
       "        text-align: right;\n",
       "    }\n",
       "</style>\n",
       "<table border=\"1\" class=\"dataframe\">\n",
       "  <thead>\n",
       "    <tr style=\"text-align: right;\">\n",
       "      <th></th>\n",
       "      <th>document_id</th>\n",
       "      <th>project_id</th>\n",
       "      <th>transcription_text</th>\n",
       "      <th>processed_text</th>\n",
       "    </tr>\n",
       "  </thead>\n",
       "  <tbody>\n",
       "    <tr>\n",
       "      <th>0</th>\n",
       "      <td>NMAAHC-004567394_00861</td>\n",
       "      <td>11400</td>\n",
       "      <td>[D104 ENCL]\\r\\nNorth Carolina\\r\\nThis indentur...</td>\n",
       "      <td>North Carolina This indenture made entered Thi...</td>\n",
       "    </tr>\n",
       "    <tr>\n",
       "      <th>1</th>\n",
       "      <td>NMAAHC-004567394_00957</td>\n",
       "      <td>11400</td>\n",
       "      <td>[E 11 ENCL] \\r\\n\\r\\n\\r\\nState of North Carolin...</td>\n",
       "      <td>State of North Carolina Currituck County . Thi...</td>\n",
       "    </tr>\n",
       "    <tr>\n",
       "      <th>2</th>\n",
       "      <td>NMAAHC-004567394_00958</td>\n",
       "      <td>11400</td>\n",
       "      <td>near Lizzie Etheridge's gate, thence South 56 ...</td>\n",
       "      <td>near Lizzie Etheridges gate , thence South 56 ...</td>\n",
       "    </tr>\n",
       "    <tr>\n",
       "      <th>3</th>\n",
       "      <td>NMAAHC-004567395_00439</td>\n",
       "      <td>11406</td>\n",
       "      <td>Copy\\r\\n\\r\\nAgreement of Apprenticeship\\r\\nBu ...</td>\n",
       "      <td>Copy Agreement of Apprenticeship Bu Mrs. Kate ...</td>\n",
       "    </tr>\n",
       "    <tr>\n",
       "      <th>4</th>\n",
       "      <td>NMAAHC-004567395_00440</td>\n",
       "      <td>11406</td>\n",
       "      <td>[H 132 ENCL] \\r\\n\\r\\nCopy\\r\\n\\r\\nAgreement of ...</td>\n",
       "      <td>Copy Agreement of Apprenticeship . This agreem...</td>\n",
       "    </tr>\n",
       "    <tr>\n",
       "      <th>...</th>\n",
       "      <td>...</td>\n",
       "      <td>...</td>\n",
       "      <td>...</td>\n",
       "      <td>...</td>\n",
       "    </tr>\n",
       "    <tr>\n",
       "      <th>23724</th>\n",
       "      <td>NMAAHC-007677332_01525</td>\n",
       "      <td>41539</td>\n",
       "      <td>\\N</td>\n",
       "      <td>N</td>\n",
       "    </tr>\n",
       "    <tr>\n",
       "      <th>23725</th>\n",
       "      <td>NMAAHC-007677332_01526</td>\n",
       "      <td>41539</td>\n",
       "      <td>\\N</td>\n",
       "      <td>N</td>\n",
       "    </tr>\n",
       "    <tr>\n",
       "      <th>23726</th>\n",
       "      <td>NMAAHC-007677332_01527</td>\n",
       "      <td>41539</td>\n",
       "      <td>\\N</td>\n",
       "      <td>N</td>\n",
       "    </tr>\n",
       "    <tr>\n",
       "      <th>23727</th>\n",
       "      <td>NMAAHC-007677332_01528</td>\n",
       "      <td>41539</td>\n",
       "      <td>Jo</td>\n",
       "      <td>Jo</td>\n",
       "    </tr>\n",
       "    <tr>\n",
       "      <th>23728</th>\n",
       "      <td>NMAAHC-007677332_01529</td>\n",
       "      <td>41539</td>\n",
       "      <td>\\N</td>\n",
       "      <td>N</td>\n",
       "    </tr>\n",
       "  </tbody>\n",
       "</table>\n",
       "<p>23729 rows × 4 columns</p>\n",
       "</div>"
      ],
      "text/plain": [
       "                  document_id  project_id  \\\n",
       "0      NMAAHC-004567394_00861       11400   \n",
       "1      NMAAHC-004567394_00957       11400   \n",
       "2      NMAAHC-004567394_00958       11400   \n",
       "3      NMAAHC-004567395_00439       11406   \n",
       "4      NMAAHC-004567395_00440       11406   \n",
       "...                       ...         ...   \n",
       "23724  NMAAHC-007677332_01525       41539   \n",
       "23725  NMAAHC-007677332_01526       41539   \n",
       "23726  NMAAHC-007677332_01527       41539   \n",
       "23727  NMAAHC-007677332_01528       41539   \n",
       "23728  NMAAHC-007677332_01529       41539   \n",
       "\n",
       "                                      transcription_text  \\\n",
       "0      [D104 ENCL]\\r\\nNorth Carolina\\r\\nThis indentur...   \n",
       "1      [E 11 ENCL] \\r\\n\\r\\n\\r\\nState of North Carolin...   \n",
       "2      near Lizzie Etheridge's gate, thence South 56 ...   \n",
       "3      Copy\\r\\n\\r\\nAgreement of Apprenticeship\\r\\nBu ...   \n",
       "4      [H 132 ENCL] \\r\\n\\r\\nCopy\\r\\n\\r\\nAgreement of ...   \n",
       "...                                                  ...   \n",
       "23724                                                 \\N   \n",
       "23725                                                 \\N   \n",
       "23726                                                 \\N   \n",
       "23727                                                 Jo   \n",
       "23728                                                 \\N   \n",
       "\n",
       "                                          processed_text  \n",
       "0      North Carolina This indenture made entered Thi...  \n",
       "1      State of North Carolina Currituck County . Thi...  \n",
       "2      near Lizzie Etheridges gate , thence South 56 ...  \n",
       "3      Copy Agreement of Apprenticeship Bu Mrs. Kate ...  \n",
       "4      Copy Agreement of Apprenticeship . This agreem...  \n",
       "...                                                  ...  \n",
       "23724                                                  N  \n",
       "23725                                                  N  \n",
       "23726                                                  N  \n",
       "23727                                                 Jo  \n",
       "23728                                                  N  \n",
       "\n",
       "[23729 rows x 4 columns]"
      ]
     },
     "execution_count": 8,
     "metadata": {},
     "output_type": "execute_result"
    }
   ],
   "source": [
    "contract"
   ]
  },
  {
   "cell_type": "code",
   "execution_count": 9,
   "id": "afcfc5a5",
   "metadata": {
    "_kg_hide-input": true,
    "execution": {
     "iopub.execute_input": "2022-07-15T17:51:49.593082Z",
     "iopub.status.busy": "2022-07-15T17:51:49.592327Z",
     "iopub.status.idle": "2022-07-15T17:51:49.606283Z",
     "shell.execute_reply": "2022-07-15T17:51:49.605214Z"
    },
    "jupyter": {
     "source_hidden": true
    },
    "papermill": {
     "duration": 0.0299,
     "end_time": "2022-07-15T17:51:49.608886",
     "exception": false,
     "start_time": "2022-07-15T17:51:49.578986",
     "status": "completed"
    },
    "tags": []
   },
   "outputs": [],
   "source": [
    "t=[]\n",
    "t.append(\"\"\"[[7 column table]]\n",
    "No. | NAME. | AGE. | WAGES. DOLLS. | [[WAGES.]] CTS. | MONTHLY PAYM'T. DOLLS. | [[MONTHLY PAYM'T.]] CTS.\n",
    "[[/preprinted]]\n",
    "\n",
    "1 | Sarah | 17 | 2 | 50 | 1 | 75 \"\"\")\n",
    "t.append(\"\"\"[[5 columned table]]\n",
    "| No. | NAMES. | AGE. | RATE of PAY per month. Dols. | RATE of PAY per month. Cents. |         \n",
    "| --- | --- | --- | --- | --- | \n",
    "| 1861 | Phillip Carr | 13 | 100 | 00 |\"\"\")\n",
    "t.append(\"\"\"|NAMES.|AGE.|MONTHLY RATE OF WAGES.|INTEREST IN PROFITS.|\n",
    "|Frances her x mark|16|none|none.\n",
    "\n",
    "\n",
    "DEPENDENTS.\n",
    "|NAMES.|AGE.|NAMES.|AGE.|\"\"\")\n",
    "t.append(\"\"\"[[6 Columned Table]]\n",
    "| NAME | AGE | SEX | CLASS | MONTHLY RATE OF WAGES. | INTEREST IN PROFITS. |\n",
    "|---|---|---|---|---|---|\n",
    "| Franklin | 21 | Male | 1st | $8.00 |\n",
    "[[/6 columned table]]\n",
    "\"\"\")\n",
    "t.append(\"\"\"[[3 columned table]]\n",
    "| --- | --- | --- |\n",
    "| 1866 June 16th | Approved Contracted between John L. Banks and Merrit Sanders 'fm, for farming this year | J.L.B. is to furnish Lands, teams, Seed, and farming implements. Three (3) Bls of corn, Two Hundred and fifty (250) Lbs of Pork. Leather for two (2) pair of Shoes (Mens). Pay two thirds (2/3) of wages paid to hired hands and give sd. Merritt Sanders one third (1/3) of crops made. \n",
    "M.S. is to work on said Lands the whole year. pay one third (1/3) of the hire to hands and furnish some assistance on sd. Lands from his family. | [[note]]\n",
    "\n",
    "| June 18 | Approved Contract between W.H. Sanders and Thomas Campbell 'fm, for farming dated March 1st 1866- | W.H. Sanders is to furnish lands, one horse, seed and feed for horse and receive two thirds (2/3) of crops. Freedman Thomas Campbell is to furnish himself and produce crops on said Lands and retain one third (1/3) of crops, and to keep the ditches open on said lands, occupied by his crops |\n",
    "\n",
    "| June 18 | Approved Contract between David S. Henry and Freedmen Parson Avery, Jackson Sanders and Reuben Sanders for farming dated June 6th 1866. | David S. Avery to furnish Lands Seeds and Teams. Parson Avery Jackson Sanders and Reuben Sanders freedmen to perform the manual labor necessary to make crops with said teams & Seeds and Lands furnished to keep up the fences and care properly for the stock and implements, and receive one third (1/3) of the crops. \n",
    "Sd. David S. Avery to receive two thirds (2/3) of the crops, and afford each of said Freedman a garden for Corn, Potatoes &c, &c rent free. | \"\"\")\n",
    "t.append(\"\"\"\n",
    "[[5 column table]]\n",
    "\n",
    "|NAMES.|AGE.|SEX.|MONTHLY RATE OF WAGES.|INTEREST IN PROFITS.|\n",
    "|Margery X (her mark) Russell|30|female|none|none|\n",
    "\n",
    "[[/5 column table]]\n",
    "\n",
    "DEPENDENTS.\n",
    "\n",
    "[[6 column table]]\n",
    "\n",
    "|NAMES.|AGE.|SEX.|NAMES.|AGE.|SEX.|\n",
    "|Phillis|9|female|   |   |   |\n",
    "|Emma|6|female|   |   |   |\n",
    "\n",
    "[[/6 column table]]\"\"\")\n",
    "t.append(\"\"\"|No.|Name|Age|Rate of pay per month. Dols Cts.\n",
    "|1|Martha Willis|21|   | \"\"\")\n",
    "notex=t\n",
    "notex.append(\"\"\"[[7 column table]]\n",
    "No. | NAME. | Age. | Wages. DOLLS. | CTS. | Monthly Paym't. DOLLS. | CTS.\n",
    "[[/preprinted]]\n",
    "\n",
    "- | Church Fisher further agrees to pay Said Laborer | 18 | $2 | 75 | - | -\n",
    "\n",
    "- | The Laborere to receive (1) one dollar per month each of the several months Specified the balance at expiration of this Contract the amount being $12 75/100 | - | - | - | $1 | 00.\n",
    "\n",
    "[[/table]]\"\"\")\n",
    "notex.append(\"\"\"shipment of products shall be made until the Provost Marshal of Freedmen shall certify that all dues to laborers are paid or satisfactorily arranged.\n",
    "IN TESTIMONY WHEREOF, The said parties have affixed their names to this arrangement, at Yazoo Go\n",
    "State of Mississippi, on the day and date aforesaid.\n",
    "[[6 Columned Table]]\n",
    "|NAMES|AGE|SEX|CLASS|MONTHLY RATE OF WAGES|INTEREST IN PROFITS|\n",
    "| --- | --- | --- | --- | --- | --- |\n",
    "|Richard Woodbury | 35 | Male | 1 |   |  \n",
    "|Dick Woodbury | 20 | Male | 1 |   |  \n",
    "|Daniel Woodbury | 36 | Male | 1 |  |   \n",
    "|William Woodbury | 20 | Male | 1 |  |  \n",
    "|March Woodbury | 60 | Male | 1 |   |\n",
    "|Rachel Simmons  |55 |   |   |   |\n",
    "Geo. W. Woodbury\n",
    "Witness - John. H. McCalister\n",
    "\"\"\")\n",
    "notex.append(\"\"\"And the said ^[[James Chadwick]] has agreed that he will furnish the said laborers with comfortable quarters, sufficient rations, and the amount of money per month, which stands opposite their respective names; that he will treat them kindly, and encourage the establishment of schools for their children.\n",
    "\n",
    "[[7 column table]]\n",
    "No. | NAME. | AGE. | WAGES. DOLLS. | [[WAGES.]] CTS. | MONTHLY PAYM'T. DOLLS. | [[MONTHLY PAYM'T]] CTS.\n",
    "[[/preprinted]]\n",
    "\n",
    "1 | Jerry Pigott | 17 | 8 | 00 | 4 | 00\n",
    "\n",
    "[[/7 column table]]\n",
    "\n",
    "[[signature]] Richard Dillon [[/signature]]\"\"\")\n",
    "notex.append(\"\"\"[[4 Columned Table]]\n",
    "| Name. | Age. | No. of Dependents. | Remarks. | \n",
    "| --- | --- | --- | --- |\n",
    "\n",
    "| Sally Brown His X Mark | 30 | 2 | under four years of age\n",
    "| Captain His X Mark | 51 |   |\n",
    "| Harrison His X Mark | 23 |   |\n",
    "| Taner His X Mark  57 |   |\n",
    "| Ida  Her X Mark | 19 |   |\n",
    "| Louisia Her X Mark | 40 | 4 under ten years of age |\n",
    "| Dallace His X Mark 20 |   |\n",
    "| Vick His X Mark | 14 |   |  \n",
    "| Minnie His X Mark | 55 |   | Rheumatism unable to support himself |\n",
    "| Mattie Her X Mark | 54 |   |\n",
    "| Hester Her X Mark | 28 | 6 | under ten years of age |   \n",
    "\n",
    "No 198.\n",
    "A. C. Jennings\"\"\")\n",
    "notex.append(\"\"\"In witness whereof the parties hereto affix their hands and seals on the day and year first above written Asher & Boyed {Seal}\n",
    "[[7 Columned Table]]\n",
    "|Names|age|Pay pr Mo-|Pay pr Year|Remarks|\n",
    "|---|---|---|---|---|---|---|\n",
    "|Frank his x mark Princeton|32|   |   |$150|00|Began 1st January 1866|\n",
    "|James his x mark Armstrong|61|   |   |$100|00|Began 30th day January 1866\n",
    "|Daniel x Johnston|36|   |   |$175|00|Began 5th day of February 1866|\"\"\")\n",
    "notex.append(\"\"\"[[5 columned table]]\n",
    "|NAMES.|AGE.|SEX.|MONTHLY RATE OF WAGES.|INTEREST IN PROFITS.|\n",
    "|---|---|---|---|---|\n",
    "|George X his mark|18|male|Food clothing medical attention|\n",
    "|Susannah X mark|15|Female|Food clothing medical attention|\n",
    "|Silva X mark|55|Female|Food clothing medical attention|\n",
    "|Beck X mark|24|Female|Food clothing medical attention|\n",
    "|Patiric X mark|55|male|Food clothing medical attention|\n",
    "\n",
    "[[left margin]]Paid[[/left margin]]\"\"\")\n",
    "notex.append(\"\"\"[[3 columned table]]\n",
    "DEPENDENTS\n",
    "|NAMES.|AGE.|SEX.|\n",
    "|---|---|---|\n",
    "|Westly|7|male|\n",
    "|Charley|3|male|\"\"\")\n",
    "notex.append(\"\"\"IN TESTIMONY WHEREOF, the said parties have affixed their names to this agreement, at Brookhaven State Mississippi of [[blank]] on the day and date aforesaid.\n",
    "\n",
    "[[6 columned table]]\n",
    "\n",
    "| NAMES. | AGE. | SEX. | CLASS. | MONTHLY RATE OF WAGES | INTEREST IN PROFITS. |\n",
    "|---|---|---|---|---|---|\n",
    "[[paired]]\n",
    "| Ellie, | 55, | Male, | 3 | 2 girls. | (4) Four acres of Land planted with corn, and (60) Sixty Bushels of Corn to be devided. |\n",
    "\n",
    "| Julia, Ann, - | 45, | Fem, | 3 | 2 Boys. | (4) Four acres of Land planted with corn, and (60) Sixty Bushels of Corn to be devided. |\n",
    "[[/paired]]\n",
    "\n",
    "| John, | 60, | Male, | 3 | Maintenance, | (4) Four acres of Land planted with corn, and (60) Sixty Bushels of Corn to be devided. |\n",
    "\n",
    "| Jim, | 27 ,| Male | 3 | (4) Four acres of Land planted with corn, and (60) Sixty Bushels of Corn to be devided. |\n",
    "\n",
    "| Emmanuel, | 18, | Male | 3 | (4) Four acres of Land planted with corn, and (60) Sixty Bushels of Corn to be devided. |\n",
    "\n",
    "| Arthur, | 17, | Male | 3 | (4) Four acres of Land planted with corn, and (60) Sixty Bushels of Corn to be devided. |\n",
    "\n",
    "| Andy, | 15, | Male | 3 | (4) Four acres of Land planted with corn, and (60) Sixty Bushels of Corn to be devided. |\n",
    "\n",
    "| Emoline, | 18, | Fem | 3 | $2.00. | (4) Four acres of Land planted with corn, and (60) Sixty Bushels of Corn to be devided. |\n",
    "\n",
    "| Ann, | 21, | Fem | 3 | $2.00. | (4) Four acres of Land planted with corn, and (60) Sixty Bushels of Corn to be devided. |\n",
    "\n",
    "Executed in presence of \n",
    "1st lieut. Pro. Mar. of Freedmen\"\"\")"
   ]
  },
  {
   "cell_type": "code",
   "execution_count": 10,
   "id": "54f07605",
   "metadata": {
    "execution": {
     "iopub.execute_input": "2022-07-15T17:51:49.634072Z",
     "iopub.status.busy": "2022-07-15T17:51:49.633339Z",
     "iopub.status.idle": "2022-07-15T17:51:49.639630Z",
     "shell.execute_reply": "2022-07-15T17:51:49.638636Z"
    },
    "papermill": {
     "duration": 0.021643,
     "end_time": "2022-07-15T17:51:49.642158",
     "exception": false,
     "start_time": "2022-07-15T17:51:49.620515",
     "status": "completed"
    },
    "tags": []
   },
   "outputs": [
    {
     "data": {
      "text/plain": [
       "15"
      ]
     },
     "execution_count": 10,
     "metadata": {},
     "output_type": "execute_result"
    }
   ],
   "source": [
    "len(notex)"
   ]
  },
  {
   "cell_type": "code",
   "execution_count": 11,
   "id": "70ff2b41",
   "metadata": {
    "execution": {
     "iopub.execute_input": "2022-07-15T17:51:49.667399Z",
     "iopub.status.busy": "2022-07-15T17:51:49.666676Z",
     "iopub.status.idle": "2022-07-15T17:51:49.681360Z",
     "shell.execute_reply": "2022-07-15T17:51:49.680332Z"
    },
    "papermill": {
     "duration": 0.03054,
     "end_time": "2022-07-15T17:51:49.684033",
     "exception": false,
     "start_time": "2022-07-15T17:51:49.653493",
     "status": "completed"
    },
    "tags": []
   },
   "outputs": [],
   "source": [
    "contract_text = contract.transcription_text.tolist()\n",
    "\n",
    "lns = []\n",
    "tables_extracted = []\n",
    "all_table_pairs = []\n",
    "idx = 0\n",
    "\n",
    "for table_text in notex:\n",
    "\n",
    "    tmp_tables = []\n",
    "    table_text = table_text.replace(\"[\", \"\").replace(\"]\", \"\").replace(\"^\", \"\")\n",
    "    \n",
    "    lines = table_text.split(\"\\n\")\n",
    "    lines = [i for i in lines if len(i.strip()) != 0]\n",
    "    \n",
    "    separator_counts = []\n",
    "    table_pairs  = []\n",
    "    \n",
    "    start = 0\n",
    "    end = 0\n",
    "    streak = 0\n",
    "    \n",
    "    for line_n, line in enumerate(lines):\n",
    "        \n",
    "        separator_count = line.count(\"|\")   \n",
    "        \n",
    "        condition_1 = len(separator_counts) == 0 or separator_count == separator_counts[-1]\n",
    "        condition_2 = separator_count != 0\n",
    "            \n",
    "        #If you find the beginning of a table, take note\n",
    "        if condition_1 and condition_2:\n",
    "            if streak == 0:\n",
    "                start = line_n\n",
    "            streak += 1\n",
    "        else:\n",
    "            if streak != 0:\n",
    "                table_pairs.append((start, line_n))\n",
    "                all_table_pairs.append((start, line_n, idx))\n",
    "            streak = 0\n",
    "            start = 0\n",
    "    \n",
    "        separator_counts.append(separator_count)\n",
    "        \n",
    "    if streak > 0:\n",
    "        table_pairs.append((start, line_n))\n",
    "        all_table_pairs.append((start, line_n, idx))\n",
    "        \n",
    "    if len(table_pairs) > 0:\n",
    "        for i, pair in enumerate(table_pairs):\n",
    "            table = lines[pair[0]-1:pair[1]]\n",
    "            tmp_tables.append(table)\n",
    "            \n",
    "        tables_extracted.append(tmp_tables[0])\n",
    "        \n",
    "    else:\n",
    "        tables_extracted.append([])\n",
    "        \n",
    "        \n",
    "    idx += 1"
   ]
  },
  {
   "cell_type": "code",
   "execution_count": 12,
   "id": "699111f2",
   "metadata": {
    "execution": {
     "iopub.execute_input": "2022-07-15T17:51:49.708947Z",
     "iopub.status.busy": "2022-07-15T17:51:49.708235Z",
     "iopub.status.idle": "2022-07-15T17:51:49.715132Z",
     "shell.execute_reply": "2022-07-15T17:51:49.713383Z"
    },
    "papermill": {
     "duration": 0.022535,
     "end_time": "2022-07-15T17:51:49.717819",
     "exception": false,
     "start_time": "2022-07-15T17:51:49.695284",
     "status": "completed"
    },
    "tags": []
   },
   "outputs": [
    {
     "name": "stdout",
     "output_type": "stream",
     "text": [
      "10\n"
     ]
    }
   ],
   "source": [
    "nb=0\n",
    "for example in (tables_extracted):\n",
    "    if len(example)> 0 :\n",
    "        nb=nb+1\n",
    "print(nb)"
   ]
  },
  {
   "cell_type": "code",
   "execution_count": 13,
   "id": "dd63d687",
   "metadata": {
    "execution": {
     "iopub.execute_input": "2022-07-15T17:51:49.742823Z",
     "iopub.status.busy": "2022-07-15T17:51:49.741879Z",
     "iopub.status.idle": "2022-07-15T17:51:49.750510Z",
     "shell.execute_reply": "2022-07-15T17:51:49.749082Z"
    },
    "papermill": {
     "duration": 0.024065,
     "end_time": "2022-07-15T17:51:49.753289",
     "exception": false,
     "start_time": "2022-07-15T17:51:49.729224",
     "status": "completed"
    },
    "tags": []
   },
   "outputs": [
    {
     "data": {
      "text/plain": [
       "[[],\n",
       " ['| No. | NAMES. | AGE. | RATE of PAY per month. Dols. | RATE of PAY per month. Cents. |         ',\n",
       "  '| --- | --- | --- | --- | --- | '],\n",
       " [],\n",
       " ['| NAME | AGE | SEX | CLASS | MONTHLY RATE OF WAGES. | INTEREST IN PROFITS. |',\n",
       "  '|---|---|---|---|---|---|'],\n",
       " [],\n",
       " ['|NAMES.|AGE.|SEX.|MONTHLY RATE OF WAGES.|INTEREST IN PROFITS.|',\n",
       "  '|Margery X (her mark) Russell|30|female|none|none|'],\n",
       " [],\n",
       " ['- | Church Fisher further agrees to pay Said Laborer | 18 | $2 | 75 | - | -',\n",
       "  '- | The Laborere to receive (1) one dollar per month each of the several months Specified the balance at expiration of this Contract the amount being $12 75/100 | - | - | - | $1 | 00.'],\n",
       " ['|NAMES|AGE|SEX|CLASS|MONTHLY RATE OF WAGES|INTEREST IN PROFITS|',\n",
       "  '| --- | --- | --- | --- | --- | --- |'],\n",
       " [],\n",
       " ['| Name. | Age. | No. of Dependents. | Remarks. | ',\n",
       "  '| --- | --- | --- | --- |'],\n",
       " ['|---|---|---|---|---|---|---|',\n",
       "  '|Frank his x mark Princeton|32|   |   |$150|00|Began 1st January 1866|'],\n",
       " ['|NAMES.|AGE.|SEX.|MONTHLY RATE OF WAGES.|INTEREST IN PROFITS.|',\n",
       "  '|---|---|---|---|---|'],\n",
       " ['|NAMES.|AGE.|SEX.|', '|---|---|---|', '|Westly|7|male|'],\n",
       " ['| NAMES. | AGE. | SEX. | CLASS. | MONTHLY RATE OF WAGES | INTEREST IN PROFITS. |',\n",
       "  '|---|---|---|---|---|---|']]"
      ]
     },
     "execution_count": 13,
     "metadata": {},
     "output_type": "execute_result"
    }
   ],
   "source": [
    "tables_extracted"
   ]
  },
  {
   "cell_type": "code",
   "execution_count": 14,
   "id": "73dc7fc7",
   "metadata": {
    "execution": {
     "iopub.execute_input": "2022-07-15T17:51:49.779029Z",
     "iopub.status.busy": "2022-07-15T17:51:49.778333Z",
     "iopub.status.idle": "2022-07-15T17:51:49.785544Z",
     "shell.execute_reply": "2022-07-15T17:51:49.784269Z"
    },
    "papermill": {
     "duration": 0.022739,
     "end_time": "2022-07-15T17:51:49.787982",
     "exception": false,
     "start_time": "2022-07-15T17:51:49.765243",
     "status": "completed"
    },
    "tags": []
   },
   "outputs": [],
   "source": [
    "dcts = []\n",
    "\n",
    "for i, example in enumerate(tables_extracted):\n",
    "    if example != [] and len(example) > 2:\n",
    "        dcts.append(parse_table_to_dict(example))\n",
    "    else:\n",
    "        dcts.append({})"
   ]
  },
  {
   "cell_type": "code",
   "execution_count": 15,
   "id": "0b68d082",
   "metadata": {
    "execution": {
     "iopub.execute_input": "2022-07-15T17:51:49.813168Z",
     "iopub.status.busy": "2022-07-15T17:51:49.812533Z",
     "iopub.status.idle": "2022-07-15T17:51:49.819958Z",
     "shell.execute_reply": "2022-07-15T17:51:49.818611Z"
    },
    "papermill": {
     "duration": 0.023037,
     "end_time": "2022-07-15T17:51:49.822526",
     "exception": false,
     "start_time": "2022-07-15T17:51:49.799489",
     "status": "completed"
    },
    "tags": []
   },
   "outputs": [
    {
     "data": {
      "text/plain": [
       "[{},\n",
       " {},\n",
       " {},\n",
       " {},\n",
       " {},\n",
       " {},\n",
       " {},\n",
       " {},\n",
       " {},\n",
       " {},\n",
       " {},\n",
       " {},\n",
       " {},\n",
       " {'': [' ', ' '],\n",
       "  'names': ['---', 'Westly'],\n",
       "  'age': ['---', '7'],\n",
       "  'sex': ['---', 'male']},\n",
       " {}]"
      ]
     },
     "execution_count": 15,
     "metadata": {},
     "output_type": "execute_result"
    }
   ],
   "source": [
    "dcts"
   ]
  },
  {
   "cell_type": "code",
   "execution_count": 16,
   "id": "0c7c1949",
   "metadata": {
    "execution": {
     "iopub.execute_input": "2022-07-15T17:51:49.847704Z",
     "iopub.status.busy": "2022-07-15T17:51:49.846989Z",
     "iopub.status.idle": "2022-07-15T17:51:49.851941Z",
     "shell.execute_reply": "2022-07-15T17:51:49.851081Z"
    },
    "papermill": {
     "duration": 0.020279,
     "end_time": "2022-07-15T17:51:49.854358",
     "exception": false,
     "start_time": "2022-07-15T17:51:49.834079",
     "status": "completed"
    },
    "tags": []
   },
   "outputs": [],
   "source": [
    "# contract[\"tables_parsed\"]=dcts"
   ]
  },
  {
   "cell_type": "code",
   "execution_count": 17,
   "id": "4cf1b873",
   "metadata": {
    "execution": {
     "iopub.execute_input": "2022-07-15T17:51:49.879841Z",
     "iopub.status.busy": "2022-07-15T17:51:49.879144Z",
     "iopub.status.idle": "2022-07-15T17:51:49.886894Z",
     "shell.execute_reply": "2022-07-15T17:51:49.884983Z"
    },
    "papermill": {
     "duration": 0.023626,
     "end_time": "2022-07-15T17:51:49.889579",
     "exception": false,
     "start_time": "2022-07-15T17:51:49.865953",
     "status": "completed"
    },
    "tags": []
   },
   "outputs": [
    {
     "name": "stdout",
     "output_type": "stream",
     "text": [
      "1\n"
     ]
    }
   ],
   "source": [
    "nb=0\n",
    "for example in (dcts):\n",
    "    if len(example)> 0 :\n",
    "        nb=nb+1\n",
    "print(nb)"
   ]
  },
  {
   "cell_type": "code",
   "execution_count": 18,
   "id": "6eb9b5de",
   "metadata": {
    "execution": {
     "iopub.execute_input": "2022-07-15T17:51:49.915343Z",
     "iopub.status.busy": "2022-07-15T17:51:49.914616Z",
     "iopub.status.idle": "2022-07-15T17:51:49.935306Z",
     "shell.execute_reply": "2022-07-15T17:51:49.934228Z"
    },
    "papermill": {
     "duration": 0.036716,
     "end_time": "2022-07-15T17:51:49.937950",
     "exception": false,
     "start_time": "2022-07-15T17:51:49.901234",
     "status": "completed"
    },
    "tags": []
   },
   "outputs": [],
   "source": [
    "contract_text = contract.transcription_text.tolist()\n",
    "\n",
    "lns = []\n",
    "tables_extracted = []\n",
    "all_table_pairs = []\n",
    "idx = 0\n",
    "sp=[]\n",
    "\n",
    "for table_text in notex:\n",
    "\n",
    "    tmp_tables = []\n",
    "    table_text = table_text.replace(\"[\", \"\").replace(\"]\", \"\").replace(\"^\", \"\")\n",
    "    \n",
    "    lines = table_text.split(\"\\n\")\n",
    "    lines = [i for i in lines if len(i.strip()) != 0]\n",
    "    separator_counts = []\n",
    "    table_pairs  = []\n",
    "    \n",
    "    start = 0\n",
    "    end = 0\n",
    "    streak = 0\n",
    "    lns=[]\n",
    "#     \"\"\"i removed lines without separator \"\"\"\n",
    "#     for j in lines:\n",
    "#          if  j.count(\"|\") ==0:\n",
    "#                 lines.remove(j)\n",
    "    \n",
    "    #print(lines , \"\\n\\n\")\n",
    "    \n",
    "    for line_n, line in enumerate(lines):\n",
    "        \n",
    "        separator_count = line.count(\"|\")\n",
    "        \n",
    "#         if separator_count == 0:\n",
    "#             continue\n",
    "        \n",
    "        \n",
    "        \n",
    "        #print(line ,separator_count, \"\\n\\n\")\n",
    "        \n",
    "        \"\"\"i add the condition where the next line contain more and less separators than the previous line \"\"\"\n",
    "        \n",
    "        condition_1 = len(separator_counts) == 0  or separator_count == separator_counts[-1] or separator_count > separator_counts[-1] or separator_count < separator_counts[-1]\n",
    "        condition_2 = separator_count != 0\n",
    "        condition_22= len(separator_counts) == 0 \n",
    "        condition_3 = len(separator_counts) !=0 and separator_count ==0\n",
    "            \n",
    "         #If you find the beginning of a table, take note\n",
    "        if (condition_1 and condition_2) or (condition_22 and condition_3)  :\n",
    "            if streak == 0 :\n",
    "                start = line_n\n",
    "            streak += 1\n",
    "        elif condition_1 or condition_3 :\n",
    "            if  streak ==0 :\n",
    "                \n",
    "                start = line_n\n",
    "            streak +=1\n",
    "        else:\n",
    "            if streak != 0  :\n",
    "                table_pairs.append((start, line_n))\n",
    "                all_table_pairs.append((start, line_n, idx))\n",
    "            streak = 0\n",
    "            start = 0\n",
    "    \n",
    "        separator_counts.append(separator_count)\n",
    "        a=separator_count\n",
    "        \n",
    "    sp.append(separator_counts)\n",
    "    \n",
    "    \n",
    "    if (streak > 0):\n",
    "        \n",
    "        table_pairs.append((start, line_n))\n",
    "        all_table_pairs.append((start, line_n, idx))\n",
    "       \n",
    "        \n",
    "    if len(table_pairs) > 0:\n",
    "        for i, pair in enumerate(table_pairs):\n",
    "            \n",
    "            \"remove(-1) : it extrcat more tables , and in the already exist table , there is difference just the description like <3 column table> ... \" \n",
    "            table = lines[pair[0]:pair[1]]\n",
    "            \n",
    "            tmp_tables.append(table)\n",
    "            \n",
    "        tables_extracted.append(tmp_tables[0])\n",
    "        \n",
    "    else:\n",
    "        tables_extracted.append([])\n",
    "     \n",
    "    \n",
    "    idx +=1"
   ]
  },
  {
   "cell_type": "code",
   "execution_count": 19,
   "id": "a9cf4366",
   "metadata": {
    "execution": {
     "iopub.execute_input": "2022-07-15T17:51:49.964283Z",
     "iopub.status.busy": "2022-07-15T17:51:49.963855Z",
     "iopub.status.idle": "2022-07-15T17:51:49.971165Z",
     "shell.execute_reply": "2022-07-15T17:51:49.969828Z"
    },
    "papermill": {
     "duration": 0.024102,
     "end_time": "2022-07-15T17:51:49.974286",
     "exception": false,
     "start_time": "2022-07-15T17:51:49.950184",
     "status": "completed"
    },
    "tags": []
   },
   "outputs": [
    {
     "name": "stdout",
     "output_type": "stream",
     "text": [
      "15\n"
     ]
    }
   ],
   "source": [
    "nb=0\n",
    "for example in (tables_extracted):\n",
    "    if len(example)> 0 :\n",
    "        nb=nb+1\n",
    "print(nb)"
   ]
  },
  {
   "cell_type": "code",
   "execution_count": 20,
   "id": "ac51646a",
   "metadata": {
    "execution": {
     "iopub.execute_input": "2022-07-15T17:51:50.000182Z",
     "iopub.status.busy": "2022-07-15T17:51:49.999760Z",
     "iopub.status.idle": "2022-07-15T17:51:50.004178Z",
     "shell.execute_reply": "2022-07-15T17:51:50.002957Z"
    },
    "papermill": {
     "duration": 0.020443,
     "end_time": "2022-07-15T17:51:50.006690",
     "exception": false,
     "start_time": "2022-07-15T17:51:49.986247",
     "status": "completed"
    },
    "tags": []
   },
   "outputs": [],
   "source": [
    "#  print(all_table_pairs) , len(all_table_pairs)"
   ]
  },
  {
   "cell_type": "code",
   "execution_count": 21,
   "id": "0563cb3c",
   "metadata": {
    "execution": {
     "iopub.execute_input": "2022-07-15T17:51:50.033207Z",
     "iopub.status.busy": "2022-07-15T17:51:50.031990Z",
     "iopub.status.idle": "2022-07-15T17:51:50.037100Z",
     "shell.execute_reply": "2022-07-15T17:51:50.036167Z"
    },
    "papermill": {
     "duration": 0.020927,
     "end_time": "2022-07-15T17:51:50.039419",
     "exception": false,
     "start_time": "2022-07-15T17:51:50.018492",
     "status": "completed"
    },
    "tags": []
   },
   "outputs": [],
   "source": [
    "# sp"
   ]
  },
  {
   "cell_type": "code",
   "execution_count": 22,
   "id": "0534293a",
   "metadata": {
    "execution": {
     "iopub.execute_input": "2022-07-15T17:51:50.065228Z",
     "iopub.status.busy": "2022-07-15T17:51:50.064485Z",
     "iopub.status.idle": "2022-07-15T17:51:50.072494Z",
     "shell.execute_reply": "2022-07-15T17:51:50.071218Z"
    },
    "papermill": {
     "duration": 0.02371,
     "end_time": "2022-07-15T17:51:50.075149",
     "exception": false,
     "start_time": "2022-07-15T17:51:50.051439",
     "status": "completed"
    },
    "tags": []
   },
   "outputs": [
    {
     "data": {
      "text/plain": [
       "['4 Columned Table',\n",
       " '| Name. | Age. | No. of Dependents. | Remarks. | ',\n",
       " '| --- | --- | --- | --- |',\n",
       " '| Sally Brown His X Mark | 30 | 2 | under four years of age',\n",
       " '| Captain His X Mark | 51 |   |',\n",
       " '| Harrison His X Mark | 23 |   |',\n",
       " '| Taner His X Mark  57 |   |',\n",
       " '| Ida  Her X Mark | 19 |   |',\n",
       " '| Louisia Her X Mark | 40 | 4 under ten years of age |',\n",
       " '| Dallace His X Mark 20 |   |',\n",
       " '| Vick His X Mark | 14 |   |  ',\n",
       " '| Minnie His X Mark | 55 |   | Rheumatism unable to support himself |',\n",
       " '| Mattie Her X Mark | 54 |   |',\n",
       " '| Hester Her X Mark | 28 | 6 | under ten years of age |   ',\n",
       " 'No 198.']"
      ]
     },
     "execution_count": 22,
     "metadata": {},
     "output_type": "execute_result"
    }
   ],
   "source": [
    "tables_extracted[10]"
   ]
  },
  {
   "cell_type": "code",
   "execution_count": 23,
   "id": "d0ed6f59",
   "metadata": {
    "execution": {
     "iopub.execute_input": "2022-07-15T17:51:50.110266Z",
     "iopub.status.busy": "2022-07-15T17:51:50.109614Z",
     "iopub.status.idle": "2022-07-15T17:51:50.122456Z",
     "shell.execute_reply": "2022-07-15T17:51:50.120090Z"
    },
    "papermill": {
     "duration": 0.034449,
     "end_time": "2022-07-15T17:51:50.126292",
     "exception": false,
     "start_time": "2022-07-15T17:51:50.091843",
     "status": "completed"
    },
    "tags": []
   },
   "outputs": [
    {
     "data": {
      "text/plain": [
       "[['7 column table',\n",
       "  \"No. | NAME. | AGE. | WAGES. DOLLS. | WAGES. CTS. | MONTHLY PAYM'T. DOLLS. | MONTHLY PAYM'T. CTS.\",\n",
       "  '/preprinted'],\n",
       " ['5 columned table',\n",
       "  '| No. | NAMES. | AGE. | RATE of PAY per month. Dols. | RATE of PAY per month. Cents. |         ',\n",
       "  '| --- | --- | --- | --- | --- | '],\n",
       " ['|NAMES.|AGE.|MONTHLY RATE OF WAGES.|INTEREST IN PROFITS.|',\n",
       "  '|Frances her x mark|16|none|none.',\n",
       "  'DEPENDENTS.'],\n",
       " ['6 Columned Table',\n",
       "  '| NAME | AGE | SEX | CLASS | MONTHLY RATE OF WAGES. | INTEREST IN PROFITS. |',\n",
       "  '|---|---|---|---|---|---|',\n",
       "  '| Franklin | 21 | Male | 1st | $8.00 |'],\n",
       " ['3 columned table',\n",
       "  '| --- | --- | --- |',\n",
       "  \"| 1866 June 16th | Approved Contracted between John L. Banks and Merrit Sanders 'fm, for farming this year | J.L.B. is to furnish Lands, teams, Seed, and farming implements. Three (3) Bls of corn, Two Hundred and fifty (250) Lbs of Pork. Leather for two (2) pair of Shoes (Mens). Pay two thirds (2/3) of wages paid to hired hands and give sd. Merritt Sanders one third (1/3) of crops made. \",\n",
       "  'M.S. is to work on said Lands the whole year. pay one third (1/3) of the hire to hands and furnish some assistance on sd. Lands from his family. | note',\n",
       "  \"| June 18 | Approved Contract between W.H. Sanders and Thomas Campbell 'fm, for farming dated March 1st 1866- | W.H. Sanders is to furnish lands, one horse, seed and feed for horse and receive two thirds (2/3) of crops. Freedman Thomas Campbell is to furnish himself and produce crops on said Lands and retain one third (1/3) of crops, and to keep the ditches open on said lands, occupied by his crops |\",\n",
       "  '| June 18 | Approved Contract between David S. Henry and Freedmen Parson Avery, Jackson Sanders and Reuben Sanders for farming dated June 6th 1866. | David S. Avery to furnish Lands Seeds and Teams. Parson Avery Jackson Sanders and Reuben Sanders freedmen to perform the manual labor necessary to make crops with said teams & Seeds and Lands furnished to keep up the fences and care properly for the stock and implements, and receive one third (1/3) of the crops. '],\n",
       " ['5 column table',\n",
       "  '|NAMES.|AGE.|SEX.|MONTHLY RATE OF WAGES.|INTEREST IN PROFITS.|',\n",
       "  '|Margery X (her mark) Russell|30|female|none|none|',\n",
       "  '/5 column table',\n",
       "  'DEPENDENTS.',\n",
       "  '6 column table',\n",
       "  '|NAMES.|AGE.|SEX.|NAMES.|AGE.|SEX.|',\n",
       "  '|Phillis|9|female|   |   |   |',\n",
       "  '|Emma|6|female|   |   |   |'],\n",
       " ['|No.|Name|Age|Rate of pay per month. Dols Cts.'],\n",
       " ['7 column table',\n",
       "  \"No. | NAME. | Age. | Wages. DOLLS. | CTS. | Monthly Paym't. DOLLS. | CTS.\",\n",
       "  '/preprinted',\n",
       "  '- | Church Fisher further agrees to pay Said Laborer | 18 | $2 | 75 | - | -',\n",
       "  '- | The Laborere to receive (1) one dollar per month each of the several months Specified the balance at expiration of this Contract the amount being $12 75/100 | - | - | - | $1 | 00.'],\n",
       " ['shipment of products shall be made until the Provost Marshal of Freedmen shall certify that all dues to laborers are paid or satisfactorily arranged.',\n",
       "  'IN TESTIMONY WHEREOF, The said parties have affixed their names to this arrangement, at Yazoo Go',\n",
       "  'State of Mississippi, on the day and date aforesaid.',\n",
       "  '6 Columned Table',\n",
       "  '|NAMES|AGE|SEX|CLASS|MONTHLY RATE OF WAGES|INTEREST IN PROFITS|',\n",
       "  '| --- | --- | --- | --- | --- | --- |',\n",
       "  '|Richard Woodbury | 35 | Male | 1 |   |  ',\n",
       "  '|Dick Woodbury | 20 | Male | 1 |   |  ',\n",
       "  '|Daniel Woodbury | 36 | Male | 1 |  |   ',\n",
       "  '|William Woodbury | 20 | Male | 1 |  |  ',\n",
       "  '|March Woodbury | 60 | Male | 1 |   |',\n",
       "  '|Rachel Simmons  |55 |   |   |   |',\n",
       "  'Geo. W. Woodbury'],\n",
       " ['And the said James Chadwick has agreed that he will furnish the said laborers with comfortable quarters, sufficient rations, and the amount of money per month, which stands opposite their respective names; that he will treat them kindly, and encourage the establishment of schools for their children.',\n",
       "  '7 column table',\n",
       "  \"No. | NAME. | AGE. | WAGES. DOLLS. | WAGES. CTS. | MONTHLY PAYM'T. DOLLS. | MONTHLY PAYM'T CTS.\",\n",
       "  '/preprinted',\n",
       "  '1 | Jerry Pigott | 17 | 8 | 00 | 4 | 00',\n",
       "  '/7 column table'],\n",
       " ['4 Columned Table',\n",
       "  '| Name. | Age. | No. of Dependents. | Remarks. | ',\n",
       "  '| --- | --- | --- | --- |',\n",
       "  '| Sally Brown His X Mark | 30 | 2 | under four years of age',\n",
       "  '| Captain His X Mark | 51 |   |',\n",
       "  '| Harrison His X Mark | 23 |   |',\n",
       "  '| Taner His X Mark  57 |   |',\n",
       "  '| Ida  Her X Mark | 19 |   |',\n",
       "  '| Louisia Her X Mark | 40 | 4 under ten years of age |',\n",
       "  '| Dallace His X Mark 20 |   |',\n",
       "  '| Vick His X Mark | 14 |   |  ',\n",
       "  '| Minnie His X Mark | 55 |   | Rheumatism unable to support himself |',\n",
       "  '| Mattie Her X Mark | 54 |   |',\n",
       "  '| Hester Her X Mark | 28 | 6 | under ten years of age |   ',\n",
       "  'No 198.'],\n",
       " ['In witness whereof the parties hereto affix their hands and seals on the day and year first above written Asher & Boyed {Seal}',\n",
       "  '7 Columned Table',\n",
       "  '|Names|age|Pay pr Mo-|Pay pr Year|Remarks|',\n",
       "  '|---|---|---|---|---|---|---|',\n",
       "  '|Frank his x mark Princeton|32|   |   |$150|00|Began 1st January 1866|',\n",
       "  '|James his x mark Armstrong|61|   |   |$100|00|Began 30th day January 1866'],\n",
       " ['5 columned table',\n",
       "  '|NAMES.|AGE.|SEX.|MONTHLY RATE OF WAGES.|INTEREST IN PROFITS.|',\n",
       "  '|---|---|---|---|---|',\n",
       "  '|George X his mark|18|male|Food clothing medical attention|',\n",
       "  '|Susannah X mark|15|Female|Food clothing medical attention|',\n",
       "  '|Silva X mark|55|Female|Food clothing medical attention|',\n",
       "  '|Beck X mark|24|Female|Food clothing medical attention|',\n",
       "  '|Patiric X mark|55|male|Food clothing medical attention|'],\n",
       " ['3 columned table',\n",
       "  'DEPENDENTS',\n",
       "  '|NAMES.|AGE.|SEX.|',\n",
       "  '|---|---|---|',\n",
       "  '|Westly|7|male|'],\n",
       " ['IN TESTIMONY WHEREOF, the said parties have affixed their names to this agreement, at Brookhaven State Mississippi of blank on the day and date aforesaid.',\n",
       "  '6 columned table',\n",
       "  '| NAMES. | AGE. | SEX. | CLASS. | MONTHLY RATE OF WAGES | INTEREST IN PROFITS. |',\n",
       "  '|---|---|---|---|---|---|',\n",
       "  'paired',\n",
       "  '| Ellie, | 55, | Male, | 3 | 2 girls. | (4) Four acres of Land planted with corn, and (60) Sixty Bushels of Corn to be devided. |',\n",
       "  '| Julia, Ann, - | 45, | Fem, | 3 | 2 Boys. | (4) Four acres of Land planted with corn, and (60) Sixty Bushels of Corn to be devided. |',\n",
       "  '/paired',\n",
       "  '| John, | 60, | Male, | 3 | Maintenance, | (4) Four acres of Land planted with corn, and (60) Sixty Bushels of Corn to be devided. |',\n",
       "  '| Jim, | 27 ,| Male | 3 | (4) Four acres of Land planted with corn, and (60) Sixty Bushels of Corn to be devided. |',\n",
       "  '| Emmanuel, | 18, | Male | 3 | (4) Four acres of Land planted with corn, and (60) Sixty Bushels of Corn to be devided. |',\n",
       "  '| Arthur, | 17, | Male | 3 | (4) Four acres of Land planted with corn, and (60) Sixty Bushels of Corn to be devided. |',\n",
       "  '| Andy, | 15, | Male | 3 | (4) Four acres of Land planted with corn, and (60) Sixty Bushels of Corn to be devided. |',\n",
       "  '| Emoline, | 18, | Fem | 3 | $2.00. | (4) Four acres of Land planted with corn, and (60) Sixty Bushels of Corn to be devided. |',\n",
       "  '| Ann, | 21, | Fem | 3 | $2.00. | (4) Four acres of Land planted with corn, and (60) Sixty Bushels of Corn to be devided. |',\n",
       "  'Executed in presence of ']]"
      ]
     },
     "execution_count": 23,
     "metadata": {},
     "output_type": "execute_result"
    }
   ],
   "source": [
    "tables_extracted"
   ]
  },
  {
   "cell_type": "code",
   "execution_count": 24,
   "id": "7991d1d6",
   "metadata": {
    "execution": {
     "iopub.execute_input": "2022-07-15T17:51:50.167043Z",
     "iopub.status.busy": "2022-07-15T17:51:50.165630Z",
     "iopub.status.idle": "2022-07-15T17:51:50.175031Z",
     "shell.execute_reply": "2022-07-15T17:51:50.172831Z"
    },
    "papermill": {
     "duration": 0.034004,
     "end_time": "2022-07-15T17:51:50.179824",
     "exception": false,
     "start_time": "2022-07-15T17:51:50.145820",
     "status": "completed"
    },
    "tags": []
   },
   "outputs": [
    {
     "name": "stdout",
     "output_type": "stream",
     "text": [
      "15\n"
     ]
    }
   ],
   "source": [
    "nb=0\n",
    "for example in (tables_extracted):\n",
    "    if len(example)> 0 :\n",
    "        nb=nb+1\n",
    "print(nb)"
   ]
  },
  {
   "cell_type": "code",
   "execution_count": 25,
   "id": "f61673fa",
   "metadata": {
    "execution": {
     "iopub.execute_input": "2022-07-15T17:51:50.219526Z",
     "iopub.status.busy": "2022-07-15T17:51:50.219143Z",
     "iopub.status.idle": "2022-07-15T17:51:50.223328Z",
     "shell.execute_reply": "2022-07-15T17:51:50.222347Z"
    },
    "papermill": {
     "duration": 0.023287,
     "end_time": "2022-07-15T17:51:50.225853",
     "exception": false,
     "start_time": "2022-07-15T17:51:50.202566",
     "status": "completed"
    },
    "tags": []
   },
   "outputs": [],
   "source": [
    "# print(notex[7]) #separators less than the previous lines\n"
   ]
  },
  {
   "cell_type": "code",
   "execution_count": 26,
   "id": "b461c8ad",
   "metadata": {
    "execution": {
     "iopub.execute_input": "2022-07-15T17:51:50.256322Z",
     "iopub.status.busy": "2022-07-15T17:51:50.255875Z",
     "iopub.status.idle": "2022-07-15T17:51:50.264455Z",
     "shell.execute_reply": "2022-07-15T17:51:50.262941Z"
    },
    "papermill": {
     "duration": 0.026862,
     "end_time": "2022-07-15T17:51:50.267811",
     "exception": false,
     "start_time": "2022-07-15T17:51:50.240949",
     "status": "completed"
    },
    "tags": []
   },
   "outputs": [
    {
     "data": {
      "text/plain": [
       "\"[[7 column table]]\\nNo. | NAME. | AGE. | WAGES. DOLLS. | [[WAGES.]] CTS. | MONTHLY PAYM'T. DOLLS. | [[MONTHLY PAYM'T.]] CTS.\\n[[/preprinted]]\\n\\n1 | Sarah | 17 | 2 | 50 | 1 | 75 \""
      ]
     },
     "execution_count": 26,
     "metadata": {},
     "output_type": "execute_result"
    }
   ],
   "source": [
    "notex[0]"
   ]
  },
  {
   "cell_type": "code",
   "execution_count": 27,
   "id": "3730acfd",
   "metadata": {
    "execution": {
     "iopub.execute_input": "2022-07-15T17:51:50.297326Z",
     "iopub.status.busy": "2022-07-15T17:51:50.296914Z",
     "iopub.status.idle": "2022-07-15T17:51:50.306715Z",
     "shell.execute_reply": "2022-07-15T17:51:50.305693Z"
    },
    "papermill": {
     "duration": 0.027427,
     "end_time": "2022-07-15T17:51:50.309171",
     "exception": false,
     "start_time": "2022-07-15T17:51:50.281744",
     "status": "completed"
    },
    "tags": []
   },
   "outputs": [
    {
     "data": {
      "text/plain": [
       "[['7 column table',\n",
       "  \"No. | NAME. | AGE. | WAGES. DOLLS. | WAGES. CTS. | MONTHLY PAYM'T. DOLLS. | MONTHLY PAYM'T. CTS.\",\n",
       "  '/preprinted'],\n",
       " ['5 columned table',\n",
       "  '| No. | NAMES. | AGE. | RATE of PAY per month. Dols. | RATE of PAY per month. Cents. |         ',\n",
       "  '| --- | --- | --- | --- | --- | '],\n",
       " ['|NAMES.|AGE.|MONTHLY RATE OF WAGES.|INTEREST IN PROFITS.|',\n",
       "  '|Frances her x mark|16|none|none.',\n",
       "  'DEPENDENTS.'],\n",
       " ['6 Columned Table',\n",
       "  '| NAME | AGE | SEX | CLASS | MONTHLY RATE OF WAGES. | INTEREST IN PROFITS. |',\n",
       "  '|---|---|---|---|---|---|',\n",
       "  '| Franklin | 21 | Male | 1st | $8.00 |'],\n",
       " ['3 columned table',\n",
       "  '| --- | --- | --- |',\n",
       "  \"| 1866 June 16th | Approved Contracted between John L. Banks and Merrit Sanders 'fm, for farming this year | J.L.B. is to furnish Lands, teams, Seed, and farming implements. Three (3) Bls of corn, Two Hundred and fifty (250) Lbs of Pork. Leather for two (2) pair of Shoes (Mens). Pay two thirds (2/3) of wages paid to hired hands and give sd. Merritt Sanders one third (1/3) of crops made. \",\n",
       "  'M.S. is to work on said Lands the whole year. pay one third (1/3) of the hire to hands and furnish some assistance on sd. Lands from his family. | note',\n",
       "  \"| June 18 | Approved Contract between W.H. Sanders and Thomas Campbell 'fm, for farming dated March 1st 1866- | W.H. Sanders is to furnish lands, one horse, seed and feed for horse and receive two thirds (2/3) of crops. Freedman Thomas Campbell is to furnish himself and produce crops on said Lands and retain one third (1/3) of crops, and to keep the ditches open on said lands, occupied by his crops |\",\n",
       "  '| June 18 | Approved Contract between David S. Henry and Freedmen Parson Avery, Jackson Sanders and Reuben Sanders for farming dated June 6th 1866. | David S. Avery to furnish Lands Seeds and Teams. Parson Avery Jackson Sanders and Reuben Sanders freedmen to perform the manual labor necessary to make crops with said teams & Seeds and Lands furnished to keep up the fences and care properly for the stock and implements, and receive one third (1/3) of the crops. '],\n",
       " ['5 column table',\n",
       "  '|NAMES.|AGE.|SEX.|MONTHLY RATE OF WAGES.|INTEREST IN PROFITS.|',\n",
       "  '|Margery X (her mark) Russell|30|female|none|none|',\n",
       "  '/5 column table',\n",
       "  'DEPENDENTS.',\n",
       "  '6 column table',\n",
       "  '|NAMES.|AGE.|SEX.|NAMES.|AGE.|SEX.|',\n",
       "  '|Phillis|9|female|   |   |   |',\n",
       "  '|Emma|6|female|   |   |   |'],\n",
       " ['|No.|Name|Age|Rate of pay per month. Dols Cts.'],\n",
       " ['7 column table',\n",
       "  \"No. | NAME. | Age. | Wages. DOLLS. | CTS. | Monthly Paym't. DOLLS. | CTS.\",\n",
       "  '/preprinted',\n",
       "  '- | Church Fisher further agrees to pay Said Laborer | 18 | $2 | 75 | - | -',\n",
       "  '- | The Laborere to receive (1) one dollar per month each of the several months Specified the balance at expiration of this Contract the amount being $12 75/100 | - | - | - | $1 | 00.'],\n",
       " ['shipment of products shall be made until the Provost Marshal of Freedmen shall certify that all dues to laborers are paid or satisfactorily arranged.',\n",
       "  'IN TESTIMONY WHEREOF, The said parties have affixed their names to this arrangement, at Yazoo Go',\n",
       "  'State of Mississippi, on the day and date aforesaid.',\n",
       "  '6 Columned Table',\n",
       "  '|NAMES|AGE|SEX|CLASS|MONTHLY RATE OF WAGES|INTEREST IN PROFITS|',\n",
       "  '| --- | --- | --- | --- | --- | --- |',\n",
       "  '|Richard Woodbury | 35 | Male | 1 |   |  ',\n",
       "  '|Dick Woodbury | 20 | Male | 1 |   |  ',\n",
       "  '|Daniel Woodbury | 36 | Male | 1 |  |   ',\n",
       "  '|William Woodbury | 20 | Male | 1 |  |  ',\n",
       "  '|March Woodbury | 60 | Male | 1 |   |',\n",
       "  '|Rachel Simmons  |55 |   |   |   |',\n",
       "  'Geo. W. Woodbury'],\n",
       " ['And the said James Chadwick has agreed that he will furnish the said laborers with comfortable quarters, sufficient rations, and the amount of money per month, which stands opposite their respective names; that he will treat them kindly, and encourage the establishment of schools for their children.',\n",
       "  '7 column table',\n",
       "  \"No. | NAME. | AGE. | WAGES. DOLLS. | WAGES. CTS. | MONTHLY PAYM'T. DOLLS. | MONTHLY PAYM'T CTS.\",\n",
       "  '/preprinted',\n",
       "  '1 | Jerry Pigott | 17 | 8 | 00 | 4 | 00',\n",
       "  '/7 column table'],\n",
       " ['4 Columned Table',\n",
       "  '| Name. | Age. | No. of Dependents. | Remarks. | ',\n",
       "  '| --- | --- | --- | --- |',\n",
       "  '| Sally Brown His X Mark | 30 | 2 | under four years of age',\n",
       "  '| Captain His X Mark | 51 |   |',\n",
       "  '| Harrison His X Mark | 23 |   |',\n",
       "  '| Taner His X Mark  57 |   |',\n",
       "  '| Ida  Her X Mark | 19 |   |',\n",
       "  '| Louisia Her X Mark | 40 | 4 under ten years of age |',\n",
       "  '| Dallace His X Mark 20 |   |',\n",
       "  '| Vick His X Mark | 14 |   |  ',\n",
       "  '| Minnie His X Mark | 55 |   | Rheumatism unable to support himself |',\n",
       "  '| Mattie Her X Mark | 54 |   |',\n",
       "  '| Hester Her X Mark | 28 | 6 | under ten years of age |   ',\n",
       "  'No 198.'],\n",
       " ['In witness whereof the parties hereto affix their hands and seals on the day and year first above written Asher & Boyed {Seal}',\n",
       "  '7 Columned Table',\n",
       "  '|Names|age|Pay pr Mo-|Pay pr Year|Remarks|',\n",
       "  '|---|---|---|---|---|---|---|',\n",
       "  '|Frank his x mark Princeton|32|   |   |$150|00|Began 1st January 1866|',\n",
       "  '|James his x mark Armstrong|61|   |   |$100|00|Began 30th day January 1866'],\n",
       " ['5 columned table',\n",
       "  '|NAMES.|AGE.|SEX.|MONTHLY RATE OF WAGES.|INTEREST IN PROFITS.|',\n",
       "  '|---|---|---|---|---|',\n",
       "  '|George X his mark|18|male|Food clothing medical attention|',\n",
       "  '|Susannah X mark|15|Female|Food clothing medical attention|',\n",
       "  '|Silva X mark|55|Female|Food clothing medical attention|',\n",
       "  '|Beck X mark|24|Female|Food clothing medical attention|',\n",
       "  '|Patiric X mark|55|male|Food clothing medical attention|'],\n",
       " ['3 columned table',\n",
       "  'DEPENDENTS',\n",
       "  '|NAMES.|AGE.|SEX.|',\n",
       "  '|---|---|---|',\n",
       "  '|Westly|7|male|'],\n",
       " ['IN TESTIMONY WHEREOF, the said parties have affixed their names to this agreement, at Brookhaven State Mississippi of blank on the day and date aforesaid.',\n",
       "  '6 columned table',\n",
       "  '| NAMES. | AGE. | SEX. | CLASS. | MONTHLY RATE OF WAGES | INTEREST IN PROFITS. |',\n",
       "  '|---|---|---|---|---|---|',\n",
       "  'paired',\n",
       "  '| Ellie, | 55, | Male, | 3 | 2 girls. | (4) Four acres of Land planted with corn, and (60) Sixty Bushels of Corn to be devided. |',\n",
       "  '| Julia, Ann, - | 45, | Fem, | 3 | 2 Boys. | (4) Four acres of Land planted with corn, and (60) Sixty Bushels of Corn to be devided. |',\n",
       "  '/paired',\n",
       "  '| John, | 60, | Male, | 3 | Maintenance, | (4) Four acres of Land planted with corn, and (60) Sixty Bushels of Corn to be devided. |',\n",
       "  '| Jim, | 27 ,| Male | 3 | (4) Four acres of Land planted with corn, and (60) Sixty Bushels of Corn to be devided. |',\n",
       "  '| Emmanuel, | 18, | Male | 3 | (4) Four acres of Land planted with corn, and (60) Sixty Bushels of Corn to be devided. |',\n",
       "  '| Arthur, | 17, | Male | 3 | (4) Four acres of Land planted with corn, and (60) Sixty Bushels of Corn to be devided. |',\n",
       "  '| Andy, | 15, | Male | 3 | (4) Four acres of Land planted with corn, and (60) Sixty Bushels of Corn to be devided. |',\n",
       "  '| Emoline, | 18, | Fem | 3 | $2.00. | (4) Four acres of Land planted with corn, and (60) Sixty Bushels of Corn to be devided. |',\n",
       "  '| Ann, | 21, | Fem | 3 | $2.00. | (4) Four acres of Land planted with corn, and (60) Sixty Bushels of Corn to be devided. |',\n",
       "  'Executed in presence of ']]"
      ]
     },
     "execution_count": 27,
     "metadata": {},
     "output_type": "execute_result"
    }
   ],
   "source": [
    "tables_extracted"
   ]
  },
  {
   "cell_type": "code",
   "execution_count": 28,
   "id": "0d6d94e7",
   "metadata": {
    "execution": {
     "iopub.execute_input": "2022-07-15T17:51:50.340151Z",
     "iopub.status.busy": "2022-07-15T17:51:50.339734Z",
     "iopub.status.idle": "2022-07-15T17:51:50.345518Z",
     "shell.execute_reply": "2022-07-15T17:51:50.344344Z"
    },
    "papermill": {
     "duration": 0.024795,
     "end_time": "2022-07-15T17:51:50.348277",
     "exception": false,
     "start_time": "2022-07-15T17:51:50.323482",
     "status": "completed"
    },
    "tags": []
   },
   "outputs": [
    {
     "name": "stdout",
     "output_type": "stream",
     "text": [
      "In witness whereof the parties hereto affix their hands and seals on the day and year first above written Asher & Boyed {Seal}\n",
      "[[7 Columned Table]]\n",
      "|Names|age|Pay pr Mo-|Pay pr Year|Remarks|\n",
      "|---|---|---|---|---|---|---|\n",
      "|Frank his x mark Princeton|32|   |   |$150|00|Began 1st January 1866|\n",
      "|James his x mark Armstrong|61|   |   |$100|00|Began 30th day January 1866\n",
      "|Daniel x Johnston|36|   |   |$175|00|Began 5th day of February 1866|\n"
     ]
    }
   ],
   "source": [
    "print(notex[11])"
   ]
  },
  {
   "cell_type": "code",
   "execution_count": 29,
   "id": "052a690e",
   "metadata": {
    "execution": {
     "iopub.execute_input": "2022-07-15T17:51:50.376486Z",
     "iopub.status.busy": "2022-07-15T17:51:50.376106Z",
     "iopub.status.idle": "2022-07-15T17:51:50.382901Z",
     "shell.execute_reply": "2022-07-15T17:51:50.381883Z"
    },
    "papermill": {
     "duration": 0.023943,
     "end_time": "2022-07-15T17:51:50.385324",
     "exception": false,
     "start_time": "2022-07-15T17:51:50.361381",
     "status": "completed"
    },
    "tags": []
   },
   "outputs": [
    {
     "data": {
      "text/plain": [
       "['In witness whereof the parties hereto affix their hands and seals on the day and year first above written Asher & Boyed {Seal}',\n",
       " '7 Columned Table',\n",
       " '|Names|age|Pay pr Mo-|Pay pr Year|Remarks|',\n",
       " '|---|---|---|---|---|---|---|',\n",
       " '|Frank his x mark Princeton|32|   |   |$150|00|Began 1st January 1866|',\n",
       " '|James his x mark Armstrong|61|   |   |$100|00|Began 30th day January 1866']"
      ]
     },
     "execution_count": 29,
     "metadata": {},
     "output_type": "execute_result"
    }
   ],
   "source": [
    "tables_extracted[11]"
   ]
  },
  {
   "cell_type": "code",
   "execution_count": 30,
   "id": "b964a0cf",
   "metadata": {
    "execution": {
     "iopub.execute_input": "2022-07-15T17:51:50.414720Z",
     "iopub.status.busy": "2022-07-15T17:51:50.414346Z",
     "iopub.status.idle": "2022-07-15T17:51:50.422387Z",
     "shell.execute_reply": "2022-07-15T17:51:50.420870Z"
    },
    "papermill": {
     "duration": 0.025619,
     "end_time": "2022-07-15T17:51:50.424878",
     "exception": false,
     "start_time": "2022-07-15T17:51:50.399259",
     "status": "completed"
    },
    "tags": []
   },
   "outputs": [
    {
     "data": {
      "text/plain": [
       "8"
      ]
     },
     "execution_count": 30,
     "metadata": {},
     "output_type": "execute_result"
    }
   ],
   "source": [
    "separator_count =\"|Frank his x mark Princeton|32|   |   |$150|00|Began 1st January 1866|\".count(\"|\")\n",
    "separator_count"
   ]
  },
  {
   "cell_type": "code",
   "execution_count": 31,
   "id": "909f9138",
   "metadata": {
    "execution": {
     "iopub.execute_input": "2022-07-15T17:51:50.453645Z",
     "iopub.status.busy": "2022-07-15T17:51:50.453257Z",
     "iopub.status.idle": "2022-07-15T17:51:50.462205Z",
     "shell.execute_reply": "2022-07-15T17:51:50.460816Z"
    },
    "papermill": {
     "duration": 0.026719,
     "end_time": "2022-07-15T17:51:50.464791",
     "exception": false,
     "start_time": "2022-07-15T17:51:50.438072",
     "status": "completed"
    },
    "tags": []
   },
   "outputs": [
    {
     "data": {
      "text/plain": [
       "['3 columned table',\n",
       " 'DEPENDENTS',\n",
       " '|NAMES.|AGE.|SEX.|',\n",
       " '|---|---|---|',\n",
       " '|Westly|7|male|']"
      ]
     },
     "execution_count": 31,
     "metadata": {},
     "output_type": "execute_result"
    }
   ],
   "source": [
    "tables_extracted[13]"
   ]
  },
  {
   "cell_type": "code",
   "execution_count": 32,
   "id": "9371b071",
   "metadata": {
    "execution": {
     "iopub.execute_input": "2022-07-15T17:51:50.494249Z",
     "iopub.status.busy": "2022-07-15T17:51:50.493816Z",
     "iopub.status.idle": "2022-07-15T17:51:50.500863Z",
     "shell.execute_reply": "2022-07-15T17:51:50.499455Z"
    },
    "papermill": {
     "duration": 0.025358,
     "end_time": "2022-07-15T17:51:50.503628",
     "exception": false,
     "start_time": "2022-07-15T17:51:50.478270",
     "status": "completed"
    },
    "tags": []
   },
   "outputs": [
    {
     "name": "stdout",
     "output_type": "stream",
     "text": [
      "15\n"
     ]
    }
   ],
   "source": [
    "nb=0\n",
    "for example in (tables_extracted):\n",
    "    if len(example)> 0 :\n",
    "        nb=nb+1\n",
    "print(nb)"
   ]
  },
  {
   "cell_type": "code",
   "execution_count": 33,
   "id": "53fce944",
   "metadata": {
    "execution": {
     "iopub.execute_input": "2022-07-15T17:51:50.532344Z",
     "iopub.status.busy": "2022-07-15T17:51:50.531913Z",
     "iopub.status.idle": "2022-07-15T17:51:50.536031Z",
     "shell.execute_reply": "2022-07-15T17:51:50.535099Z"
    },
    "papermill": {
     "duration": 0.021169,
     "end_time": "2022-07-15T17:51:50.538249",
     "exception": false,
     "start_time": "2022-07-15T17:51:50.517080",
     "status": "completed"
    },
    "tags": []
   },
   "outputs": [],
   "source": [
    "# for i in (contract[contract.tables_parsed == {}].sample(n=2).transcription_text.tolist()):\n",
    "\n",
    "#     print(i)\n",
    "#     print(\"==========\")"
   ]
  },
  {
   "cell_type": "code",
   "execution_count": 34,
   "id": "93aa9218",
   "metadata": {
    "execution": {
     "iopub.execute_input": "2022-07-15T17:51:50.567412Z",
     "iopub.status.busy": "2022-07-15T17:51:50.567024Z",
     "iopub.status.idle": "2022-07-15T17:51:50.589604Z",
     "shell.execute_reply": "2022-07-15T17:51:50.587990Z"
    },
    "papermill": {
     "duration": 0.040583,
     "end_time": "2022-07-15T17:51:50.592257",
     "exception": false,
     "start_time": "2022-07-15T17:51:50.551674",
     "status": "completed"
    },
    "tags": []
   },
   "outputs": [
    {
     "name": "stdout",
     "output_type": "stream",
     "text": [
      "0 milieu \n",
      "\n",
      "4 loota \n",
      "\n",
      "0 milieu \n",
      "\n",
      "4 loota \n",
      "\n",
      "4 loota \n",
      "\n",
      "0 milieu \n",
      "\n",
      "5 loota \n",
      "\n",
      "0 milieu \n",
      "\n",
      "7 loota \n",
      "\n",
      "0 milieu \n",
      "\n",
      "10 loota \n",
      "\n",
      "2 loota \n",
      "\n",
      "0 milieu \n",
      "\n",
      "6 loota \n",
      "\n",
      "0 milieu \n",
      "\n",
      "14 loota \n",
      "\n",
      "0 milieu \n",
      "\n",
      "7 loota \n",
      "\n",
      "0 milieu \n",
      "\n",
      "16 loota \n",
      "\n",
      "0 milieu \n",
      "\n",
      "7 loota \n",
      "\n",
      "0 milieu \n",
      "\n",
      "9 loota \n",
      "\n",
      "0 milieu \n",
      "\n",
      "6 loota \n",
      "\n",
      "0 milieu \n",
      "\n",
      "17 loota \n",
      "\n"
     ]
    }
   ],
   "source": [
    "contract_text = contract.transcription_text.tolist()\n",
    "\n",
    "lns = []\n",
    "tables_extracted = []\n",
    "all_table_pairs = []\n",
    "idx = 0\n",
    "sp=[]\n",
    "\n",
    "for table_text in notex:\n",
    "\n",
    "    tmp_tables = []\n",
    "    table_text = table_text.replace(\"[\", \"\").replace(\"]\", \"\").replace(\"^\", \"\")\n",
    "    \n",
    "    lines = table_text.split(\"\\n\")\n",
    "    lines = [i for i in lines if len(i.strip()) != 0]\n",
    "    separator_counts = []\n",
    "    table_pairs  = []\n",
    "    \n",
    "    start = 0\n",
    "    end = 0\n",
    "    streak = 0\n",
    "    lns=[]\n",
    "#     \"\"\"i removed lines without separator \"\"\"\n",
    "#     for j in lines:\n",
    "#          if  j.count(\"|\") ==0:\n",
    "#                 lines.remove(j)\n",
    "    \n",
    "    #print(lines , \"\\n\\n\")\n",
    "    \n",
    "    for line_n, line in enumerate(lines):\n",
    "        \n",
    "        separator_count = line.count(\"|\")\n",
    "        \n",
    "#         if separator_count == 0:\n",
    "#             continue\n",
    "        \n",
    "        \n",
    "        \n",
    "        #print(line ,separator_count, \"\\n\\n\")\n",
    "        \n",
    "        \"\"\"i add the condition where the next line contain more and less separators than the previous line \"\"\"\n",
    "        \n",
    "        condition_1 = len(separator_counts) == 0  or separator_count == separator_counts[-1] or separator_count > separator_counts[-1] or separator_count < separator_counts[-1]\n",
    "        condition_2 = separator_count != 0\n",
    "        condition_22= len(separator_counts) == 0 \n",
    "        condition_3 = len(separator_counts) !=0 and separator_count ==0\n",
    "            \n",
    "         #If you find the beginning of a table, take note\n",
    "        if (condition_1 and condition_2) or (condition_22 and condition_3)  :\n",
    "            if streak == 0 :\n",
    "                start = line_n\n",
    "            streak += 1\n",
    "        elif condition_1 or condition_3 :\n",
    "            if  streak ==0 :\n",
    "                print(streak , \"milieu \\n\")\n",
    "                start = line_n\n",
    "            streak +=1\n",
    "        else:\n",
    "            if streak != 0  :\n",
    "                table_pairs.append((start, line_n))\n",
    "                all_table_pairs.append((start, line_n, idx))\n",
    "            streak = 0\n",
    "            start = 0\n",
    "    \n",
    "        separator_counts.append(separator_count)\n",
    "        a=separator_count\n",
    "        \n",
    "    sp.append(separator_counts)\n",
    "    \n",
    "    \n",
    "    if (streak > 0):\n",
    "        print(streak , \"loota \\n\")\n",
    "        table_pairs.append((start, line_n))\n",
    "        all_table_pairs.append((start, line_n, idx))\n",
    "       \n",
    "        \n",
    "    if len(table_pairs) > 0:\n",
    "        for i, pair in enumerate(table_pairs):\n",
    "            \n",
    "            \"remove(-1) : it extrcat more tables , and in the already exist table , there is difference just the description like <3 column table> ... \" \n",
    "            table = lines[pair[0]:pair[1]]\n",
    "            \n",
    "            tmp_tables.append(table)\n",
    "            \n",
    "        tables_extracted.append(tmp_tables[0])\n",
    "        \n",
    "    else:\n",
    "        tables_extracted.append([])\n",
    "     \n",
    "    \n",
    "    idx +=1"
   ]
  },
  {
   "cell_type": "code",
   "execution_count": null,
   "id": "50af53af",
   "metadata": {
    "papermill": {
     "duration": 0.013371,
     "end_time": "2022-07-15T17:51:50.619863",
     "exception": false,
     "start_time": "2022-07-15T17:51:50.606492",
     "status": "completed"
    },
    "tags": []
   },
   "outputs": [],
   "source": []
  }
 ],
 "metadata": {
  "kernelspec": {
   "display_name": "Python 3",
   "language": "python",
   "name": "python3"
  },
  "language_info": {
   "codemirror_mode": {
    "name": "ipython",
    "version": 3
   },
   "file_extension": ".py",
   "mimetype": "text/x-python",
   "name": "python",
   "nbconvert_exporter": "python",
   "pygments_lexer": "ipython3",
   "version": "3.7.12"
  },
  "papermill": {
   "default_parameters": {},
   "duration": 64.345713,
   "end_time": "2022-07-15T17:51:51.556468",
   "environment_variables": {},
   "exception": null,
   "input_path": "__notebook__.ipynb",
   "output_path": "__notebook__.ipynb",
   "parameters": {},
   "start_time": "2022-07-15T17:50:47.210755",
   "version": "2.3.4"
  }
 },
 "nbformat": 4,
 "nbformat_minor": 5
}
