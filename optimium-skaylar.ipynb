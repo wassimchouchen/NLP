{
 "cells": [
  {
   "cell_type": "code",
   "execution_count": 1,
   "id": "dda289de",
   "metadata": {
    "_cell_guid": "b1076dfc-b9ad-4769-8c92-a6c4dae69d19",
    "_kg_hide-output": true,
    "_uuid": "8f2839f25d086af736a60e9eeb907d3b93b6e0e5",
    "execution": {
     "iopub.execute_input": "2022-07-15T09:43:06.722979Z",
     "iopub.status.busy": "2022-07-15T09:43:06.721987Z",
     "iopub.status.idle": "2022-07-15T09:43:08.565139Z",
     "shell.execute_reply": "2022-07-15T09:43:08.564041Z"
    },
    "papermill": {
     "duration": 1.858112,
     "end_time": "2022-07-15T09:43:08.568118",
     "exception": false,
     "start_time": "2022-07-15T09:43:06.710006",
     "status": "completed"
    },
    "tags": []
   },
   "outputs": [],
   "source": [
    "# !pip install flair\n",
    "import time\n",
    "import string\n",
    "import warnings\n",
    "\n",
    "import regex as re\n",
    "from tqdm import tqdm\n",
    "\n",
    "\n",
    "import pickle\n",
    "import numpy as np\n",
    "import pandas as pd \n",
    "\n",
    "import seaborn as sns\n",
    "import matplotlib.pyplot as plt \n",
    "import matplotlib.style as stl \n",
    "\n",
    "\n",
    "\n",
    "from nltk.corpus import stopwords\n",
    "from nltk.corpus import stopwords\n",
    "from nltk.tokenize import word_tokenize\n",
    "from nltk.stem import WordNetLemmatizer\n",
    "from nltk.stem.snowball import SnowballStemmer\n",
    "\n",
    "\n",
    "warnings.filterwarnings(\"ignore\")"
   ]
  },
  {
   "cell_type": "code",
   "execution_count": 2,
   "id": "71a667e6",
   "metadata": {
    "execution": {
     "iopub.execute_input": "2022-07-15T09:43:08.589002Z",
     "iopub.status.busy": "2022-07-15T09:43:08.588352Z",
     "iopub.status.idle": "2022-07-15T09:43:16.279261Z",
     "shell.execute_reply": "2022-07-15T09:43:16.278096Z"
    },
    "papermill": {
     "duration": 7.703887,
     "end_time": "2022-07-15T09:43:16.282137",
     "exception": false,
     "start_time": "2022-07-15T09:43:08.578250",
     "status": "completed"
    },
    "tags": []
   },
   "outputs": [],
   "source": [
    "documents = pd.read_csv(\"../input/skylarfreedman/Documents-Table 1.csv\", on_bad_lines='skip', sep=\";\")"
   ]
  },
  {
   "cell_type": "code",
   "execution_count": 3,
   "id": "b14d567b",
   "metadata": {
    "execution": {
     "iopub.execute_input": "2022-07-15T09:43:16.301488Z",
     "iopub.status.busy": "2022-07-15T09:43:16.301074Z",
     "iopub.status.idle": "2022-07-15T09:43:16.366593Z",
     "shell.execute_reply": "2022-07-15T09:43:16.365433Z"
    },
    "papermill": {
     "duration": 0.078263,
     "end_time": "2022-07-15T09:43:16.369159",
     "exception": false,
     "start_time": "2022-07-15T09:43:16.290896",
     "status": "completed"
    },
    "tags": []
   },
   "outputs": [],
   "source": [
    "contract = documents[documents.Category == \"Contracts\"]\n",
    "contract = contract[[\"document_id\", \"project_id\", \"transcription_text\"]]"
   ]
  },
  {
   "cell_type": "code",
   "execution_count": 4,
   "id": "0b282503",
   "metadata": {
    "execution": {
     "iopub.execute_input": "2022-07-15T09:43:16.388407Z",
     "iopub.status.busy": "2022-07-15T09:43:16.388003Z",
     "iopub.status.idle": "2022-07-15T09:43:16.401323Z",
     "shell.execute_reply": "2022-07-15T09:43:16.400416Z"
    },
    "papermill": {
     "duration": 0.026097,
     "end_time": "2022-07-15T09:43:16.404026",
     "exception": false,
     "start_time": "2022-07-15T09:43:16.377929",
     "status": "completed"
    },
    "tags": []
   },
   "outputs": [],
   "source": [
    "contract = contract[pd.notnull(contract['transcription_text'])]\n",
    "contract = contract.reset_index(drop=True)"
   ]
  },
  {
   "cell_type": "markdown",
   "id": "2f77364e",
   "metadata": {
    "papermill": {
     "duration": 0.008524,
     "end_time": "2022-07-15T09:43:16.421395",
     "exception": false,
     "start_time": "2022-07-15T09:43:16.412871",
     "status": "completed"
    },
    "tags": []
   },
   "source": [
    "# Preprocessing"
   ]
  },
  {
   "cell_type": "code",
   "execution_count": 5,
   "id": "af8c0a7c",
   "metadata": {
    "execution": {
     "iopub.execute_input": "2022-07-15T09:43:16.441776Z",
     "iopub.status.busy": "2022-07-15T09:43:16.440569Z",
     "iopub.status.idle": "2022-07-15T09:43:16.455224Z",
     "shell.execute_reply": "2022-07-15T09:43:16.454357Z"
    },
    "papermill": {
     "duration": 0.02761,
     "end_time": "2022-07-15T09:43:16.457752",
     "exception": false,
     "start_time": "2022-07-15T09:43:16.430142",
     "status": "completed"
    },
    "tags": []
   },
   "outputs": [],
   "source": [
    "stop_words = set(stopwords.words('english'))\n",
    "punctuation = string.punctuation\n",
    "stemmer = SnowballStemmer(language=\"english\")\n",
    "lemmatizer = WordNetLemmatizer()\n",
    "stop_words.remove(\"of\")\n",
    "punct='!\"#$%&\\'()*+-/<=>?@[\\\\]^_`{|}~'\n",
    "\n",
    "def process(s):\n",
    "    \"\"\"Removes stop words, words in brackets\n",
    "    and parentheses, and special characters.\n",
    "    \"\"\"\n",
    "    \n",
    "    s= re.sub(\"([\\(\\[]).*?([\\)\\]])\",\" \",s)\n",
    "    for p in punct:\n",
    "        s = s.replace(p, '')\n",
    "    s = word_tokenize(s)\n",
    "    s = [w for w in s if not w in stop_words] #optional\n",
    "    return s"
   ]
  },
  {
   "cell_type": "code",
   "execution_count": 6,
   "id": "a5a34395",
   "metadata": {
    "execution": {
     "iopub.execute_input": "2022-07-15T09:43:16.477776Z",
     "iopub.status.busy": "2022-07-15T09:43:16.477149Z",
     "iopub.status.idle": "2022-07-15T09:44:01.969309Z",
     "shell.execute_reply": "2022-07-15T09:44:01.968127Z"
    },
    "papermill": {
     "duration": 45.505446,
     "end_time": "2022-07-15T09:44:01.972013",
     "exception": false,
     "start_time": "2022-07-15T09:43:16.466567",
     "status": "completed"
    },
    "tags": []
   },
   "outputs": [],
   "source": [
    "contract[\"processed_text\"] = contract[\"transcription_text\"].apply(process)\n",
    "contract[\"processed_text\"] = contract[\"processed_text\"].apply(lambda x: \" \".join(x))"
   ]
  },
  {
   "cell_type": "code",
   "execution_count": 7,
   "id": "8e70598e",
   "metadata": {
    "execution": {
     "iopub.execute_input": "2022-07-15T09:44:01.991835Z",
     "iopub.status.busy": "2022-07-15T09:44:01.991128Z",
     "iopub.status.idle": "2022-07-15T09:44:02.005280Z",
     "shell.execute_reply": "2022-07-15T09:44:02.004104Z"
    },
    "papermill": {
     "duration": 0.026781,
     "end_time": "2022-07-15T09:44:02.007763",
     "exception": false,
     "start_time": "2022-07-15T09:44:01.980982",
     "status": "completed"
    },
    "tags": []
   },
   "outputs": [],
   "source": [
    "def parse_table_to_dict(example) :\n",
    "    \n",
    "    def clean_record(x) :\n",
    "        if x.strip() == \"\":\n",
    "            return \" \"\n",
    "        return x.strip().replace(\"{\", \"\").replace(\"}\", \"\")\n",
    "\n",
    "    table_dict = {}\n",
    "\n",
    "    if \"name\" in example[0].lower():\n",
    "\n",
    "        cols = []\n",
    "        for col in example[0].split(\"|\"):\n",
    "            if col.strip() == \"\":\n",
    "                cols.append(col)\n",
    "            else:\n",
    "                cols.append(col.strip().lower().replace(\" \", \"_\").replace(\".\", \"\"))\n",
    "\n",
    "        values = np.array([list(map(clean_record, i.split(\"|\"))) for i in example[1:]])\n",
    "\n",
    "    else:\n",
    "\n",
    "        n_cols = len(example[0].split(\"|\"))\n",
    "        cols = [f\"col_{i}\" for i in range(n_cols)]\n",
    "\n",
    "        values = np.array([list(map(clean_record, i.split(\"|\"))) for i in example])\n",
    "        \n",
    "    \n",
    "    #Remove empty rows ([\"----\", \"-----\", \"-----\"])\n",
    "    new_values = []\n",
    "    for line in values:\n",
    "        line_chars = list(set(\"\".join([i.strip() for i in line])))\n",
    "        \n",
    "        if len(line_chars) != 0 and (line_chars[0] != \"-\" or len(line_chars) != 0):\n",
    "            new_values.append(line.tolist())\n",
    "            \n",
    "    values = np.array(new_values)\n",
    "            \n",
    "    if values.reshape(-1).shape[0] != 0:\n",
    "        for i, col in enumerate(cols):\n",
    "            table_dict[col] = values[:, i].tolist()\n",
    "            \n",
    "        return table_dict\n",
    "    \n",
    "    else:\n",
    "        \n",
    "        return {} "
   ]
  },
  {
   "cell_type": "code",
   "execution_count": 8,
   "id": "640bf103",
   "metadata": {
    "execution": {
     "iopub.execute_input": "2022-07-15T09:44:02.028143Z",
     "iopub.status.busy": "2022-07-15T09:44:02.027097Z",
     "iopub.status.idle": "2022-07-15T09:44:02.049145Z",
     "shell.execute_reply": "2022-07-15T09:44:02.047964Z"
    },
    "papermill": {
     "duration": 0.035341,
     "end_time": "2022-07-15T09:44:02.052446",
     "exception": false,
     "start_time": "2022-07-15T09:44:02.017105",
     "status": "completed"
    },
    "tags": []
   },
   "outputs": [
    {
     "data": {
      "text/html": [
       "<div>\n",
       "<style scoped>\n",
       "    .dataframe tbody tr th:only-of-type {\n",
       "        vertical-align: middle;\n",
       "    }\n",
       "\n",
       "    .dataframe tbody tr th {\n",
       "        vertical-align: top;\n",
       "    }\n",
       "\n",
       "    .dataframe thead th {\n",
       "        text-align: right;\n",
       "    }\n",
       "</style>\n",
       "<table border=\"1\" class=\"dataframe\">\n",
       "  <thead>\n",
       "    <tr style=\"text-align: right;\">\n",
       "      <th></th>\n",
       "      <th>document_id</th>\n",
       "      <th>project_id</th>\n",
       "      <th>transcription_text</th>\n",
       "      <th>processed_text</th>\n",
       "    </tr>\n",
       "  </thead>\n",
       "  <tbody>\n",
       "    <tr>\n",
       "      <th>0</th>\n",
       "      <td>NMAAHC-004567394_00861</td>\n",
       "      <td>11400</td>\n",
       "      <td>[D104 ENCL]\\r\\nNorth Carolina\\r\\nThis indentur...</td>\n",
       "      <td>North Carolina This indenture made entered Thi...</td>\n",
       "    </tr>\n",
       "    <tr>\n",
       "      <th>1</th>\n",
       "      <td>NMAAHC-004567394_00957</td>\n",
       "      <td>11400</td>\n",
       "      <td>[E 11 ENCL] \\r\\n\\r\\n\\r\\nState of North Carolin...</td>\n",
       "      <td>State of North Carolina Currituck County . Thi...</td>\n",
       "    </tr>\n",
       "    <tr>\n",
       "      <th>2</th>\n",
       "      <td>NMAAHC-004567394_00958</td>\n",
       "      <td>11400</td>\n",
       "      <td>near Lizzie Etheridge's gate, thence South 56 ...</td>\n",
       "      <td>near Lizzie Etheridges gate , thence South 56 ...</td>\n",
       "    </tr>\n",
       "    <tr>\n",
       "      <th>3</th>\n",
       "      <td>NMAAHC-004567395_00439</td>\n",
       "      <td>11406</td>\n",
       "      <td>Copy\\r\\n\\r\\nAgreement of Apprenticeship\\r\\nBu ...</td>\n",
       "      <td>Copy Agreement of Apprenticeship Bu Mrs. Kate ...</td>\n",
       "    </tr>\n",
       "    <tr>\n",
       "      <th>4</th>\n",
       "      <td>NMAAHC-004567395_00440</td>\n",
       "      <td>11406</td>\n",
       "      <td>[H 132 ENCL] \\r\\n\\r\\nCopy\\r\\n\\r\\nAgreement of ...</td>\n",
       "      <td>Copy Agreement of Apprenticeship . This agreem...</td>\n",
       "    </tr>\n",
       "    <tr>\n",
       "      <th>...</th>\n",
       "      <td>...</td>\n",
       "      <td>...</td>\n",
       "      <td>...</td>\n",
       "      <td>...</td>\n",
       "    </tr>\n",
       "    <tr>\n",
       "      <th>23724</th>\n",
       "      <td>NMAAHC-007677332_01525</td>\n",
       "      <td>41539</td>\n",
       "      <td>\\N</td>\n",
       "      <td>N</td>\n",
       "    </tr>\n",
       "    <tr>\n",
       "      <th>23725</th>\n",
       "      <td>NMAAHC-007677332_01526</td>\n",
       "      <td>41539</td>\n",
       "      <td>\\N</td>\n",
       "      <td>N</td>\n",
       "    </tr>\n",
       "    <tr>\n",
       "      <th>23726</th>\n",
       "      <td>NMAAHC-007677332_01527</td>\n",
       "      <td>41539</td>\n",
       "      <td>\\N</td>\n",
       "      <td>N</td>\n",
       "    </tr>\n",
       "    <tr>\n",
       "      <th>23727</th>\n",
       "      <td>NMAAHC-007677332_01528</td>\n",
       "      <td>41539</td>\n",
       "      <td>Jo</td>\n",
       "      <td>Jo</td>\n",
       "    </tr>\n",
       "    <tr>\n",
       "      <th>23728</th>\n",
       "      <td>NMAAHC-007677332_01529</td>\n",
       "      <td>41539</td>\n",
       "      <td>\\N</td>\n",
       "      <td>N</td>\n",
       "    </tr>\n",
       "  </tbody>\n",
       "</table>\n",
       "<p>23729 rows × 4 columns</p>\n",
       "</div>"
      ],
      "text/plain": [
       "                  document_id  project_id  \\\n",
       "0      NMAAHC-004567394_00861       11400   \n",
       "1      NMAAHC-004567394_00957       11400   \n",
       "2      NMAAHC-004567394_00958       11400   \n",
       "3      NMAAHC-004567395_00439       11406   \n",
       "4      NMAAHC-004567395_00440       11406   \n",
       "...                       ...         ...   \n",
       "23724  NMAAHC-007677332_01525       41539   \n",
       "23725  NMAAHC-007677332_01526       41539   \n",
       "23726  NMAAHC-007677332_01527       41539   \n",
       "23727  NMAAHC-007677332_01528       41539   \n",
       "23728  NMAAHC-007677332_01529       41539   \n",
       "\n",
       "                                      transcription_text  \\\n",
       "0      [D104 ENCL]\\r\\nNorth Carolina\\r\\nThis indentur...   \n",
       "1      [E 11 ENCL] \\r\\n\\r\\n\\r\\nState of North Carolin...   \n",
       "2      near Lizzie Etheridge's gate, thence South 56 ...   \n",
       "3      Copy\\r\\n\\r\\nAgreement of Apprenticeship\\r\\nBu ...   \n",
       "4      [H 132 ENCL] \\r\\n\\r\\nCopy\\r\\n\\r\\nAgreement of ...   \n",
       "...                                                  ...   \n",
       "23724                                                 \\N   \n",
       "23725                                                 \\N   \n",
       "23726                                                 \\N   \n",
       "23727                                                 Jo   \n",
       "23728                                                 \\N   \n",
       "\n",
       "                                          processed_text  \n",
       "0      North Carolina This indenture made entered Thi...  \n",
       "1      State of North Carolina Currituck County . Thi...  \n",
       "2      near Lizzie Etheridges gate , thence South 56 ...  \n",
       "3      Copy Agreement of Apprenticeship Bu Mrs. Kate ...  \n",
       "4      Copy Agreement of Apprenticeship . This agreem...  \n",
       "...                                                  ...  \n",
       "23724                                                  N  \n",
       "23725                                                  N  \n",
       "23726                                                  N  \n",
       "23727                                                 Jo  \n",
       "23728                                                  N  \n",
       "\n",
       "[23729 rows x 4 columns]"
      ]
     },
     "execution_count": 8,
     "metadata": {},
     "output_type": "execute_result"
    }
   ],
   "source": [
    "contract"
   ]
  },
  {
   "cell_type": "code",
   "execution_count": 9,
   "id": "a0b9fb53",
   "metadata": {
    "execution": {
     "iopub.execute_input": "2022-07-15T09:44:02.073160Z",
     "iopub.status.busy": "2022-07-15T09:44:02.072500Z",
     "iopub.status.idle": "2022-07-15T09:44:02.081427Z",
     "shell.execute_reply": "2022-07-15T09:44:02.080394Z"
    },
    "jupyter": {
     "source_hidden": true
    },
    "papermill": {
     "duration": 0.022224,
     "end_time": "2022-07-15T09:44:02.083771",
     "exception": false,
     "start_time": "2022-07-15T09:44:02.061547",
     "status": "completed"
    },
    "tags": []
   },
   "outputs": [],
   "source": [
    "t=[]\n",
    "t.append(\"\"\"[[7 column table]]\n",
    "No. | NAME. | AGE. | WAGES. DOLLS. | [[WAGES.]] CTS. | MONTHLY PAYM'T. DOLLS. | [[MONTHLY PAYM'T.]] CTS.\n",
    "[[/preprinted]]\n",
    "\n",
    "1 | Sarah | 17 | 2 | 50 | 1 | 75 \"\"\")\n",
    "t.append(\"\"\"[[5 columned table]]\n",
    "| No. | NAMES. | AGE. | RATE of PAY per month. Dols. | RATE of PAY per month. Cents. |         \n",
    "| --- | --- | --- | --- | --- | \n",
    "| 1861 | Phillip Carr | 13 | 100 | 00 |\"\"\")\n",
    "t.append(\"\"\"|NAMES.|AGE.|MONTHLY RATE OF WAGES.|INTEREST IN PROFITS.|\n",
    "|Frances her x mark|16|none|none.\n",
    "\n",
    "\n",
    "DEPENDENTS.\n",
    "|NAMES.|AGE.|NAMES.|AGE.|\"\"\")\n",
    "t.append(\"\"\"[[6 Columned Table]]\n",
    "| NAME | AGE | SEX | CLASS | MONTHLY RATE OF WAGES. | INTEREST IN PROFITS. |\n",
    "|---|---|---|---|---|---|\n",
    "| Franklin | 21 | Male | 1st | $8.00 |\n",
    "[[/6 columned table]]\n",
    "\"\"\")\n",
    "t.append(\"\"\"[[3 columned table]]\n",
    "| --- | --- | --- |\n",
    "| 1866 June 16th | Approved Contracted between John L. Banks and Merrit Sanders 'fm, for farming this year | J.L.B. is to furnish Lands, teams, Seed, and farming implements. Three (3) Bls of corn, Two Hundred and fifty (250) Lbs of Pork. Leather for two (2) pair of Shoes (Mens). Pay two thirds (2/3) of wages paid to hired hands and give sd. Merritt Sanders one third (1/3) of crops made. \n",
    "M.S. is to work on said Lands the whole year. pay one third (1/3) of the hire to hands and furnish some assistance on sd. Lands from his family. | [[note]]\n",
    "\n",
    "| June 18 | Approved Contract between W.H. Sanders and Thomas Campbell 'fm, for farming dated March 1st 1866- | W.H. Sanders is to furnish lands, one horse, seed and feed for horse and receive two thirds (2/3) of crops. Freedman Thomas Campbell is to furnish himself and produce crops on said Lands and retain one third (1/3) of crops, and to keep the ditches open on said lands, occupied by his crops |\n",
    "\n",
    "| June 18 | Approved Contract between David S. Henry and Freedmen Parson Avery, Jackson Sanders and Reuben Sanders for farming dated June 6th 1866. | David S. Avery to furnish Lands Seeds and Teams. Parson Avery Jackson Sanders and Reuben Sanders freedmen to perform the manual labor necessary to make crops with said teams & Seeds and Lands furnished to keep up the fences and care properly for the stock and implements, and receive one third (1/3) of the crops. \n",
    "Sd. David S. Avery to receive two thirds (2/3) of the crops, and afford each of said Freedman a garden for Corn, Potatoes &c, &c rent free. | \"\"\")\n",
    "t.append(\"\"\"\n",
    "[[5 column table]]\n",
    "\n",
    "|NAMES.|AGE.|SEX.|MONTHLY RATE OF WAGES.|INTEREST IN PROFITS.|\n",
    "|Margery X (her mark) Russell|30|female|none|none|\n",
    "\n",
    "[[/5 column table]]\n",
    "\n",
    "DEPENDENTS.\n",
    "\n",
    "[[6 column table]]\n",
    "\n",
    "|NAMES.|AGE.|SEX.|NAMES.|AGE.|SEX.|\n",
    "|Phillis|9|female|   |   |   |\n",
    "|Emma|6|female|   |   |   |\n",
    "\n",
    "[[/6 column table]]\"\"\")\n",
    "t.append(\"\"\"|No.|Name|Age|Rate of pay per month. Dols Cts.\n",
    "|1|Martha Willis|21|   | \"\"\")\n",
    "notex=t"
   ]
  },
  {
   "cell_type": "code",
   "execution_count": 10,
   "id": "1941cf85",
   "metadata": {
    "execution": {
     "iopub.execute_input": "2022-07-15T09:44:02.104364Z",
     "iopub.status.busy": "2022-07-15T09:44:02.104012Z",
     "iopub.status.idle": "2022-07-15T09:44:02.110258Z",
     "shell.execute_reply": "2022-07-15T09:44:02.109555Z"
    },
    "jupyter": {
     "source_hidden": true
    },
    "papermill": {
     "duration": 0.019016,
     "end_time": "2022-07-15T09:44:02.112118",
     "exception": false,
     "start_time": "2022-07-15T09:44:02.093102",
     "status": "completed"
    },
    "tags": []
   },
   "outputs": [],
   "source": [
    "ex=[\"\"\"[[table]]\n",
    "No. | NAME. | AGE. | ^[[Twelve months]] WAGES. DOLLS. CTS. | MONTHLY PAYM'T. DOLLS. CTS. [[/preprinted]]\n",
    "|Phil Shaver His x mark|33|$144|00|2|00\n",
    "|John Leo His x mark|16|72|00|1|50\n",
    "|Mumford Randleman His x mark|25|120|00|2|00\n",
    "|Adam Fisher His x mark|25|144|00|2|00\n",
    "|Emma Fisher Her x mark|19|72|00|2|00\n",
    "|Joseph Thompson His x mark|19|144|00|2|00\n",
    "|Henry Kelly Ale His mark x|20|144|00|2|00\n",
    "|Samuel Gillespie His x mark|22|120|00|2|00\n",
    "|Nathan Foard His x mark|40|144|00|2|00\n",
    "|Jordan Cox, His x mark|19|120|00|2|00\n",
    "|Ann Tyson Her x mark|18|84|00|2|00\n",
    "|Liza Dixon Her x mark|30|84|00|2|00\n",
    "|Ceily Auston Her x mark||25|00|84|00\n",
    "|Leon Foard His x mark|13|72|00|2|00\n",
    "|Silas Foard His x mark|10|60|00|2|00\n",
    "|Alfred P. Dixon His x mark|10|48|00|2|00\n",
    "|Mary Hall Her x mark|25|72|00|2|00\n",
    "|Hicksey Her x mark|25|72|00|2|00\n",
    "|Dennis His x mark|14|48|00|2|00\n",
    "|George Little & His x mark|31|120|00|2|00\n",
    "|Wife|23|96|00|1|00\n",
    "|Will Alfred & His x mark|28|120|00|2|00\n",
    "|Wife|19|96|00|2|00\n",
    "|Henry Myers His x mark|22|144|00|2|00\n",
    "|Thomas Granderson His x mark|24|120|00|2|00\n",
    "|Fred Deaton His x mark|23|120|00|2|00\n",
    "|[[Illegible - final line of page is cut off]]|14|72|00|2|00\n",
    "[[/Table]]\"\"\"]\n",
    "ex.append(\"\"\"[[3 column table - no headers]]\n",
    "|---|---|---|\n",
    "|Stephen Barni-|25|Male|\n",
    "|Eve. wife|22|F|\n",
    "|Martin Morrsham|18.|M.|\n",
    "|Wm Marshall|22|M.|\n",
    "|Oliver Hudgrim|19|M.|\n",
    "|John Lunford?|16|M.|\n",
    "|George Hargroves-|21|M.|\n",
    "|Richard Gibbs|15|M.|\n",
    "|& Babe Fannie Martin|19|F|\n",
    "|Senior Gates|33|M|\n",
    "|Bates Hiate|22|M|\n",
    "|John Hiate-|21|M|\n",
    "|Ned Sides-|22|M|\n",
    "|Lawson Patterson|22|M|\n",
    "|John Riverly|30|M|\n",
    "|Soleman Miller|28|M|\n",
    "|Moses Todd|23|M|\n",
    "|Peter Stubbs|33|M|\n",
    "|Sarah wife|28|F|\n",
    "|John Sim|12|M.|\n",
    "|Sam Jones|38|M|\n",
    "|Celia wife-|34|F|\n",
    "|Arter Son|16|M|\n",
    "|Sallie daughter|14|F|\n",
    "|Jim son|12|M|\n",
    "|Epraim Bennet|19|Male|\n",
    "|Sam Marsh|24|Male| \"\"\")"
   ]
  },
  {
   "cell_type": "code",
   "execution_count": 11,
   "id": "3fe07dce",
   "metadata": {
    "collapsed": true,
    "execution": {
     "iopub.execute_input": "2022-07-15T09:44:02.131965Z",
     "iopub.status.busy": "2022-07-15T09:44:02.131299Z",
     "iopub.status.idle": "2022-07-15T09:44:02.135985Z",
     "shell.execute_reply": "2022-07-15T09:44:02.135201Z"
    },
    "jupyter": {
     "outputs_hidden": true
    },
    "papermill": {
     "duration": 0.01736,
     "end_time": "2022-07-15T09:44:02.138478",
     "exception": false,
     "start_time": "2022-07-15T09:44:02.121118",
     "status": "completed"
    },
    "tags": []
   },
   "outputs": [
    {
     "name": "stdout",
     "output_type": "stream",
     "text": [
      "[[3 column table - no headers]]\n",
      "|---|---|---|\n",
      "|Stephen Barni-|25|Male|\n",
      "|Eve. wife|22|F|\n",
      "|Martin Morrsham|18.|M.|\n",
      "|Wm Marshall|22|M.|\n",
      "|Oliver Hudgrim|19|M.|\n",
      "|John Lunford?|16|M.|\n",
      "|George Hargroves-|21|M.|\n",
      "|Richard Gibbs|15|M.|\n",
      "|& Babe Fannie Martin|19|F|\n",
      "|Senior Gates|33|M|\n",
      "|Bates Hiate|22|M|\n",
      "|John Hiate-|21|M|\n",
      "|Ned Sides-|22|M|\n",
      "|Lawson Patterson|22|M|\n",
      "|John Riverly|30|M|\n",
      "|Soleman Miller|28|M|\n",
      "|Moses Todd|23|M|\n",
      "|Peter Stubbs|33|M|\n",
      "|Sarah wife|28|F|\n",
      "|John Sim|12|M.|\n",
      "|Sam Jones|38|M|\n",
      "|Celia wife-|34|F|\n",
      "|Arter Son|16|M|\n",
      "|Sallie daughter|14|F|\n",
      "|Jim son|12|M|\n",
      "|Epraim Bennet|19|Male|\n",
      "|Sam Marsh|24|Male| \n"
     ]
    }
   ],
   "source": [
    "print(ex[1])"
   ]
  },
  {
   "cell_type": "code",
   "execution_count": 12,
   "id": "ba7d5430",
   "metadata": {
    "execution": {
     "iopub.execute_input": "2022-07-15T09:44:02.159604Z",
     "iopub.status.busy": "2022-07-15T09:44:02.158900Z",
     "iopub.status.idle": "2022-07-15T09:44:02.164813Z",
     "shell.execute_reply": "2022-07-15T09:44:02.163432Z"
    },
    "papermill": {
     "duration": 0.019075,
     "end_time": "2022-07-15T09:44:02.167412",
     "exception": false,
     "start_time": "2022-07-15T09:44:02.148337",
     "status": "completed"
    },
    "tags": []
   },
   "outputs": [
    {
     "name": "stdout",
     "output_type": "stream",
     "text": [
      "[[3 columned table]]\n",
      "| --- | --- | --- |\n",
      "| 1866 June 16th | Approved Contracted between John L. Banks and Merrit Sanders 'fm, for farming this year | J.L.B. is to furnish Lands, teams, Seed, and farming implements. Three (3) Bls of corn, Two Hundred and fifty (250) Lbs of Pork. Leather for two (2) pair of Shoes (Mens). Pay two thirds (2/3) of wages paid to hired hands and give sd. Merritt Sanders one third (1/3) of crops made. \n",
      "M.S. is to work on said Lands the whole year. pay one third (1/3) of the hire to hands and furnish some assistance on sd. Lands from his family. | [[note]]\n",
      "\n",
      "| June 18 | Approved Contract between W.H. Sanders and Thomas Campbell 'fm, for farming dated March 1st 1866- | W.H. Sanders is to furnish lands, one horse, seed and feed for horse and receive two thirds (2/3) of crops. Freedman Thomas Campbell is to furnish himself and produce crops on said Lands and retain one third (1/3) of crops, and to keep the ditches open on said lands, occupied by his crops |\n",
      "\n",
      "| June 18 | Approved Contract between David S. Henry and Freedmen Parson Avery, Jackson Sanders and Reuben Sanders for farming dated June 6th 1866. | David S. Avery to furnish Lands Seeds and Teams. Parson Avery Jackson Sanders and Reuben Sanders freedmen to perform the manual labor necessary to make crops with said teams & Seeds and Lands furnished to keep up the fences and care properly for the stock and implements, and receive one third (1/3) of the crops. \n",
      "Sd. David S. Avery to receive two thirds (2/3) of the crops, and afford each of said Freedman a garden for Corn, Potatoes &c, &c rent free. | \n"
     ]
    }
   ],
   "source": [
    "print(notex[4])"
   ]
  },
  {
   "cell_type": "code",
   "execution_count": 13,
   "id": "e67c6625",
   "metadata": {
    "execution": {
     "iopub.execute_input": "2022-07-15T09:44:02.188880Z",
     "iopub.status.busy": "2022-07-15T09:44:02.188468Z",
     "iopub.status.idle": "2022-07-15T09:44:02.859346Z",
     "shell.execute_reply": "2022-07-15T09:44:02.858419Z"
    },
    "papermill": {
     "duration": 0.684144,
     "end_time": "2022-07-15T09:44:02.861768",
     "exception": false,
     "start_time": "2022-07-15T09:44:02.177624",
     "status": "completed"
    },
    "tags": []
   },
   "outputs": [],
   "source": [
    "contract_text = contract.transcription_text.tolist()\n",
    "\n",
    "lns = []\n",
    "tables_extracted = []\n",
    "all_table_pairs = []\n",
    "idx = 0\n",
    "\n",
    "for table_text in contract_text:\n",
    "\n",
    "    tmp_tables = []\n",
    "    table_text = table_text.replace(\"[\", \"\").replace(\"]\", \"\").replace(\"^\", \"\")\n",
    "    \n",
    "    lines = table_text.split(\"\\n\")\n",
    "    lines = [i for i in lines if len(i.strip()) != 0]\n",
    "    \n",
    "    separator_counts = []\n",
    "    table_pairs  = []\n",
    "    \n",
    "    start = 0\n",
    "    end = 0\n",
    "    streak = 0\n",
    "    \n",
    "    for line_n, line in enumerate(lines):\n",
    "        \n",
    "        separator_count = line.count(\"|\")   \n",
    "        \n",
    "        condition_1 = len(separator_counts) == 0 or separator_count == separator_counts[-1]\n",
    "        condition_2 = separator_count != 0\n",
    "            \n",
    "        #If you find the beginning of a table, take note\n",
    "        if condition_1 and condition_2:\n",
    "            if streak == 0:\n",
    "                start = line_n\n",
    "            streak += 1\n",
    "        else:\n",
    "            if streak != 0:\n",
    "                table_pairs.append((start, line_n))\n",
    "                all_table_pairs.append((start, line_n, idx))\n",
    "            streak = 0\n",
    "            start = 0\n",
    "    \n",
    "        separator_counts.append(separator_count)\n",
    "        \n",
    "    if streak > 0:\n",
    "        table_pairs.append((start, line_n))\n",
    "        all_table_pairs.append((start, line_n, idx))\n",
    "        \n",
    "    if len(table_pairs) > 0:\n",
    "        for i, pair in enumerate(table_pairs):\n",
    "            table = lines[pair[0]-1:pair[1]]\n",
    "            tmp_tables.append(table)\n",
    "            \n",
    "        tables_extracted.append(tmp_tables[0])\n",
    "        \n",
    "    else:\n",
    "        tables_extracted.append([])\n",
    "        \n",
    "        \n",
    "    idx += 1"
   ]
  },
  {
   "cell_type": "code",
   "execution_count": null,
   "id": "0c895d7b",
   "metadata": {
    "papermill": {
     "duration": 0.008981,
     "end_time": "2022-07-15T09:44:02.880296",
     "exception": false,
     "start_time": "2022-07-15T09:44:02.871315",
     "status": "completed"
    },
    "tags": []
   },
   "outputs": [],
   "source": []
  },
  {
   "cell_type": "code",
   "execution_count": 14,
   "id": "80521943",
   "metadata": {
    "execution": {
     "iopub.execute_input": "2022-07-15T09:44:02.900884Z",
     "iopub.status.busy": "2022-07-15T09:44:02.900414Z",
     "iopub.status.idle": "2022-07-15T09:44:02.912182Z",
     "shell.execute_reply": "2022-07-15T09:44:02.910674Z"
    },
    "papermill": {
     "duration": 0.025186,
     "end_time": "2022-07-15T09:44:02.914672",
     "exception": false,
     "start_time": "2022-07-15T09:44:02.889486",
     "status": "completed"
    },
    "tags": []
   },
   "outputs": [
    {
     "name": "stdout",
     "output_type": "stream",
     "text": [
      "4475\n"
     ]
    }
   ],
   "source": [
    "nb=0\n",
    "for example in (tables_extracted):\n",
    "    if len(example)> 0 :\n",
    "        nb=nb+1\n",
    "print(nb)"
   ]
  },
  {
   "cell_type": "code",
   "execution_count": 15,
   "id": "f984987f",
   "metadata": {
    "execution": {
     "iopub.execute_input": "2022-07-15T09:44:02.935612Z",
     "iopub.status.busy": "2022-07-15T09:44:02.934925Z",
     "iopub.status.idle": "2022-07-15T09:44:02.938573Z",
     "shell.execute_reply": "2022-07-15T09:44:02.937834Z"
    },
    "papermill": {
     "duration": 0.016524,
     "end_time": "2022-07-15T09:44:02.940594",
     "exception": false,
     "start_time": "2022-07-15T09:44:02.924070",
     "status": "completed"
    },
    "tags": []
   },
   "outputs": [],
   "source": [
    "# tables_extracted"
   ]
  },
  {
   "cell_type": "code",
   "execution_count": 16,
   "id": "3345d43d",
   "metadata": {
    "execution": {
     "iopub.execute_input": "2022-07-15T09:44:02.961535Z",
     "iopub.status.busy": "2022-07-15T09:44:02.960983Z",
     "iopub.status.idle": "2022-07-15T09:44:03.601833Z",
     "shell.execute_reply": "2022-07-15T09:44:03.600770Z"
    },
    "papermill": {
     "duration": 0.654821,
     "end_time": "2022-07-15T09:44:03.605025",
     "exception": false,
     "start_time": "2022-07-15T09:44:02.950204",
     "status": "completed"
    },
    "tags": []
   },
   "outputs": [],
   "source": [
    "dcts = []\n",
    "\n",
    "for i, example in enumerate(tables_extracted):\n",
    "    if example != [] and len(example) > 2:\n",
    "        dcts.append(parse_table_to_dict(example))\n",
    "    else:\n",
    "        dcts.append({})"
   ]
  },
  {
   "cell_type": "code",
   "execution_count": 17,
   "id": "dddc314d",
   "metadata": {
    "execution": {
     "iopub.execute_input": "2022-07-15T09:44:03.625839Z",
     "iopub.status.busy": "2022-07-15T09:44:03.625473Z",
     "iopub.status.idle": "2022-07-15T09:44:03.644900Z",
     "shell.execute_reply": "2022-07-15T09:44:03.643992Z"
    },
    "papermill": {
     "duration": 0.032751,
     "end_time": "2022-07-15T09:44:03.647141",
     "exception": false,
     "start_time": "2022-07-15T09:44:03.614390",
     "status": "completed"
    },
    "tags": []
   },
   "outputs": [],
   "source": [
    "contract[\"tables_parsed\"]=dcts"
   ]
  },
  {
   "cell_type": "code",
   "execution_count": 18,
   "id": "4500055b",
   "metadata": {
    "execution": {
     "iopub.execute_input": "2022-07-15T09:44:03.667905Z",
     "iopub.status.busy": "2022-07-15T09:44:03.666860Z",
     "iopub.status.idle": "2022-07-15T09:44:03.672774Z",
     "shell.execute_reply": "2022-07-15T09:44:03.672069Z"
    },
    "papermill": {
     "duration": 0.018201,
     "end_time": "2022-07-15T09:44:03.674680",
     "exception": false,
     "start_time": "2022-07-15T09:44:03.656479",
     "status": "completed"
    },
    "tags": []
   },
   "outputs": [
    {
     "data": {
      "text/plain": [
       "'hh'"
      ]
     },
     "execution_count": 18,
     "metadata": {},
     "output_type": "execute_result"
    }
   ],
   "source": [
    "l=re.sub(r\"/.*\", \"hh\", \"/hello man :.\")\n",
    "l"
   ]
  },
  {
   "cell_type": "code",
   "execution_count": 19,
   "id": "7d7e8258",
   "metadata": {
    "execution": {
     "iopub.execute_input": "2022-07-15T09:44:03.695560Z",
     "iopub.status.busy": "2022-07-15T09:44:03.694870Z",
     "iopub.status.idle": "2022-07-15T09:44:03.713026Z",
     "shell.execute_reply": "2022-07-15T09:44:03.712219Z"
    },
    "papermill": {
     "duration": 0.03116,
     "end_time": "2022-07-15T09:44:03.715329",
     "exception": false,
     "start_time": "2022-07-15T09:44:03.684169",
     "status": "completed"
    },
    "tags": []
   },
   "outputs": [],
   "source": [
    "contract_text = contract.transcription_text.tolist()\n",
    "\n",
    "lns = []\n",
    "tables_extracted = []\n",
    "all_table_pairs = []\n",
    "idx = 0\n",
    "\n",
    "for table_text in notex:\n",
    "\n",
    "    tmp_tables = []\n",
    "    table_text = table_text.replace(\"[\", \"\").replace(\"]\", \"\").replace(\"^\", \"\")\n",
    "    \n",
    "    lines = table_text.split(\"\\n\")\n",
    "    lines = [i for i in lines if len(i.strip()) != 0]\n",
    "    separator_counts = []\n",
    "    table_pairs  = []\n",
    "    \n",
    "    start = 0\n",
    "    end = 0\n",
    "    streak = 0\n",
    "    lns=[]\n",
    "#     \"\"\"i removed lines without separator \"\"\"\n",
    "#     for j in lines:\n",
    "#          if  j.count(\"|\") ==0:\n",
    "#                 lines.remove(j)\n",
    "    \n",
    "    \n",
    "       \n",
    "    \n",
    "    \n",
    "    \n",
    "    \n",
    "    \n",
    "    #print(lines , \"\\n\\n\")\n",
    "    \n",
    "    for line_n, line in enumerate(lines):\n",
    "        \n",
    "        separator_count = line.count(\"|\")\n",
    "        \n",
    "        if separator_count == 0:\n",
    "            continue\n",
    "        \n",
    "        \n",
    "        \n",
    "        #print(line ,separator_count, \"\\n\\n\")\n",
    "        \n",
    "        \"\"\"i add the condition where the next line contain more and less separators than the previous line \"\"\"\n",
    "        \n",
    "        condition_1 = len(separator_counts) == 0  or separator_count == separator_counts[-1] or separator_count > separator_counts[-1] or separator_count < separator_counts[-1]\n",
    "        condition_2 = separator_count != 0\n",
    "        condition_3 = separator_count ==0 and streak ==0\n",
    "            \n",
    "         #If you find the beginning of a table, take note\n",
    "        if (condition_1 and condition_2)  :\n",
    "            if streak == 0 :\n",
    "                start = line_n\n",
    "            streak += 1\n",
    "        else:\n",
    "            if streak != 0  :\n",
    "                table_pairs.append((start, line_n))\n",
    "                all_table_pairs.append((start, line_n, idx))\n",
    "            streak = 0\n",
    "            start = 0\n",
    "    \n",
    "        separator_counts.append(separator_count)\n",
    "        \n",
    "    \n",
    "    if (streak > 0)  :\n",
    "        table_pairs.append((start, line_n))\n",
    "        all_table_pairs.append((start, line_n, idx))\n",
    "        \n",
    "    if len(table_pairs) > 0:\n",
    "        for i, pair in enumerate(table_pairs):\n",
    "            \n",
    "            \"remove(-1) : it extrcat more tables , and in the already exist table , there is difference just the description like <3 column table> ... \" \n",
    "            table = lines[pair[0]:pair[1]]\n",
    "            \n",
    "            tmp_tables.append(table)\n",
    "            \n",
    "        tables_extracted.append(tmp_tables[0])\n",
    "        \n",
    "    else:\n",
    "        tables_extracted.append([])\n",
    "     \n",
    "    \n",
    "    idx +=1"
   ]
  },
  {
   "cell_type": "code",
   "execution_count": 20,
   "id": "9cb49d6c",
   "metadata": {
    "execution": {
     "iopub.execute_input": "2022-07-15T09:44:03.736013Z",
     "iopub.status.busy": "2022-07-15T09:44:03.735351Z",
     "iopub.status.idle": "2022-07-15T09:44:03.741379Z",
     "shell.execute_reply": "2022-07-15T09:44:03.740013Z"
    },
    "papermill": {
     "duration": 0.019121,
     "end_time": "2022-07-15T09:44:03.743877",
     "exception": false,
     "start_time": "2022-07-15T09:44:03.724756",
     "status": "completed"
    },
    "tags": []
   },
   "outputs": [
    {
     "name": "stdout",
     "output_type": "stream",
     "text": [
      "7\n"
     ]
    }
   ],
   "source": [
    "nb=0\n",
    "for example in (tables_extracted):\n",
    "    if len(example)> 0 :\n",
    "        nb=nb+1\n",
    "print(nb)"
   ]
  },
  {
   "cell_type": "code",
   "execution_count": 21,
   "id": "abd2773e",
   "metadata": {
    "execution": {
     "iopub.execute_input": "2022-07-15T09:44:03.764500Z",
     "iopub.status.busy": "2022-07-15T09:44:03.764103Z",
     "iopub.status.idle": "2022-07-15T09:44:03.769403Z",
     "shell.execute_reply": "2022-07-15T09:44:03.768398Z"
    },
    "papermill": {
     "duration": 0.018347,
     "end_time": "2022-07-15T09:44:03.771731",
     "exception": false,
     "start_time": "2022-07-15T09:44:03.753384",
     "status": "completed"
    },
    "tags": []
   },
   "outputs": [
    {
     "name": "stdout",
     "output_type": "stream",
     "text": [
      "|NAMES.|AGE.|MONTHLY RATE OF WAGES.|INTEREST IN PROFITS.|\n",
      "|Frances her x mark|16|none|none.\n",
      "\n",
      "\n",
      "DEPENDENTS.\n",
      "|NAMES.|AGE.|NAMES.|AGE.|\n"
     ]
    }
   ],
   "source": [
    "print(notex[2]) #separators less than the previous lines"
   ]
  },
  {
   "cell_type": "code",
   "execution_count": 22,
   "id": "9168058c",
   "metadata": {
    "execution": {
     "iopub.execute_input": "2022-07-15T09:44:03.792746Z",
     "iopub.status.busy": "2022-07-15T09:44:03.792082Z",
     "iopub.status.idle": "2022-07-15T09:44:03.797859Z",
     "shell.execute_reply": "2022-07-15T09:44:03.797179Z"
    },
    "papermill": {
     "duration": 0.01859,
     "end_time": "2022-07-15T09:44:03.799914",
     "exception": false,
     "start_time": "2022-07-15T09:44:03.781324",
     "status": "completed"
    },
    "tags": []
   },
   "outputs": [
    {
     "data": {
      "text/plain": [
       "[[\"No. | NAME. | AGE. | WAGES. DOLLS. | WAGES. CTS. | MONTHLY PAYM'T. DOLLS. | MONTHLY PAYM'T. CTS.\",\n",
       "  '/preprinted'],\n",
       " ['| No. | NAMES. | AGE. | RATE of PAY per month. Dols. | RATE of PAY per month. Cents. |         ',\n",
       "  '| --- | --- | --- | --- | --- | '],\n",
       " ['|NAMES.|AGE.|MONTHLY RATE OF WAGES.|INTEREST IN PROFITS.|',\n",
       "  '|Frances her x mark|16|none|none.',\n",
       "  'DEPENDENTS.'],\n",
       " ['| NAME | AGE | SEX | CLASS | MONTHLY RATE OF WAGES. | INTEREST IN PROFITS. |',\n",
       "  '|---|---|---|---|---|---|',\n",
       "  '| Franklin | 21 | Male | 1st | $8.00 |'],\n",
       " ['| --- | --- | --- |',\n",
       "  \"| 1866 June 16th | Approved Contracted between John L. Banks and Merrit Sanders 'fm, for farming this year | J.L.B. is to furnish Lands, teams, Seed, and farming implements. Three (3) Bls of corn, Two Hundred and fifty (250) Lbs of Pork. Leather for two (2) pair of Shoes (Mens). Pay two thirds (2/3) of wages paid to hired hands and give sd. Merritt Sanders one third (1/3) of crops made. \",\n",
       "  'M.S. is to work on said Lands the whole year. pay one third (1/3) of the hire to hands and furnish some assistance on sd. Lands from his family. | note',\n",
       "  \"| June 18 | Approved Contract between W.H. Sanders and Thomas Campbell 'fm, for farming dated March 1st 1866- | W.H. Sanders is to furnish lands, one horse, seed and feed for horse and receive two thirds (2/3) of crops. Freedman Thomas Campbell is to furnish himself and produce crops on said Lands and retain one third (1/3) of crops, and to keep the ditches open on said lands, occupied by his crops |\",\n",
       "  '| June 18 | Approved Contract between David S. Henry and Freedmen Parson Avery, Jackson Sanders and Reuben Sanders for farming dated June 6th 1866. | David S. Avery to furnish Lands Seeds and Teams. Parson Avery Jackson Sanders and Reuben Sanders freedmen to perform the manual labor necessary to make crops with said teams & Seeds and Lands furnished to keep up the fences and care properly for the stock and implements, and receive one third (1/3) of the crops. '],\n",
       " ['|NAMES.|AGE.|SEX.|MONTHLY RATE OF WAGES.|INTEREST IN PROFITS.|',\n",
       "  '|Margery X (her mark) Russell|30|female|none|none|',\n",
       "  '/5 column table',\n",
       "  'DEPENDENTS.',\n",
       "  '6 column table',\n",
       "  '|NAMES.|AGE.|SEX.|NAMES.|AGE.|SEX.|',\n",
       "  '|Phillis|9|female|   |   |   |',\n",
       "  '|Emma|6|female|   |   |   |'],\n",
       " ['|No.|Name|Age|Rate of pay per month. Dols Cts.']]"
      ]
     },
     "execution_count": 22,
     "metadata": {},
     "output_type": "execute_result"
    }
   ],
   "source": [
    "tables_extracted"
   ]
  },
  {
   "cell_type": "code",
   "execution_count": 23,
   "id": "cadcfa95",
   "metadata": {
    "execution": {
     "iopub.execute_input": "2022-07-15T09:44:03.822078Z",
     "iopub.status.busy": "2022-07-15T09:44:03.821440Z",
     "iopub.status.idle": "2022-07-15T09:44:03.826893Z",
     "shell.execute_reply": "2022-07-15T09:44:03.825383Z"
    },
    "papermill": {
     "duration": 0.020528,
     "end_time": "2022-07-15T09:44:03.830491",
     "exception": false,
     "start_time": "2022-07-15T09:44:03.809963",
     "status": "completed"
    },
    "tags": []
   },
   "outputs": [
    {
     "name": "stdout",
     "output_type": "stream",
     "text": [
      "|NAMES.|AGE.|MONTHLY RATE OF WAGES.|INTEREST IN PROFITS.|\n",
      "|Frances her x mark|16|none|none.\n",
      "\n",
      "\n",
      "DEPENDENTS.\n",
      "|NAMES.|AGE.|NAMES.|AGE.|\n"
     ]
    }
   ],
   "source": [
    "print(notex[2])"
   ]
  },
  {
   "cell_type": "code",
   "execution_count": 24,
   "id": "1bb285c7",
   "metadata": {
    "execution": {
     "iopub.execute_input": "2022-07-15T09:44:03.853052Z",
     "iopub.status.busy": "2022-07-15T09:44:03.852137Z",
     "iopub.status.idle": "2022-07-15T09:44:03.859594Z",
     "shell.execute_reply": "2022-07-15T09:44:03.858897Z"
    },
    "papermill": {
     "duration": 0.020957,
     "end_time": "2022-07-15T09:44:03.861873",
     "exception": false,
     "start_time": "2022-07-15T09:44:03.840916",
     "status": "completed"
    },
    "tags": []
   },
   "outputs": [
    {
     "data": {
      "text/plain": [
       "\"[[table]]\\nNo. | NAME. | AGE. | ^[[Twelve months]] WAGES. DOLLS. CTS. | MONTHLY PAYM'T. DOLLS. CTS. [[/preprinted]]\\n|Phil Shaver His x mark|33|$144|00|2|00\\n|John Leo His x mark|16|72|00|1|50\\n|Mumford Randleman His x mark|25|120|00|2|00\\n|Adam Fisher His x mark|25|144|00|2|00\\n|Emma Fisher Her x mark|19|72|00|2|00\\n|Joseph Thompson His x mark|19|144|00|2|00\\n|Henry Kelly Ale His mark x|20|144|00|2|00\\n|Samuel Gillespie His x mark|22|120|00|2|00\\n|Nathan Foard His x mark|40|144|00|2|00\\n|Jordan Cox, His x mark|19|120|00|2|00\\n|Ann Tyson Her x mark|18|84|00|2|00\\n|Liza Dixon Her x mark|30|84|00|2|00\\n|Ceily Auston Her x mark||25|00|84|00\\n|Leon Foard His x mark|13|72|00|2|00\\n|Silas Foard His x mark|10|60|00|2|00\\n|Alfred P. Dixon His x mark|10|48|00|2|00\\n|Mary Hall Her x mark|25|72|00|2|00\\n|Hicksey Her x mark|25|72|00|2|00\\n|Dennis His x mark|14|48|00|2|00\\n|George Little & His x mark|31|120|00|2|00\\n|Wife|23|96|00|1|00\\n|Will Alfred & His x mark|28|120|00|2|00\\n|Wife|19|96|00|2|00\\n|Henry Myers His x mark|22|144|00|2|00\\n|Thomas Granderson His x mark|24|120|00|2|00\\n|Fred Deaton His x mark|23|120|00|2|00\\n|[[Illegible - final line of page is cut off]]|14|72|00|2|00\\n[[/Table]]\""
      ]
     },
     "execution_count": 24,
     "metadata": {},
     "output_type": "execute_result"
    }
   ],
   "source": [
    "ex[0]"
   ]
  },
  {
   "cell_type": "code",
   "execution_count": 25,
   "id": "db8cc870",
   "metadata": {
    "execution": {
     "iopub.execute_input": "2022-07-15T09:44:03.884250Z",
     "iopub.status.busy": "2022-07-15T09:44:03.883478Z",
     "iopub.status.idle": "2022-07-15T09:44:03.891036Z",
     "shell.execute_reply": "2022-07-15T09:44:03.890022Z"
    },
    "papermill": {
     "duration": 0.021211,
     "end_time": "2022-07-15T09:44:03.893229",
     "exception": false,
     "start_time": "2022-07-15T09:44:03.872018",
     "status": "completed"
    },
    "tags": []
   },
   "outputs": [
    {
     "data": {
      "text/plain": [
       "[[\"No. | NAME. | AGE. | WAGES. DOLLS. | WAGES. CTS. | MONTHLY PAYM'T. DOLLS. | MONTHLY PAYM'T. CTS.\",\n",
       "  '/preprinted'],\n",
       " ['| No. | NAMES. | AGE. | RATE of PAY per month. Dols. | RATE of PAY per month. Cents. |         ',\n",
       "  '| --- | --- | --- | --- | --- | '],\n",
       " ['|NAMES.|AGE.|MONTHLY RATE OF WAGES.|INTEREST IN PROFITS.|',\n",
       "  '|Frances her x mark|16|none|none.',\n",
       "  'DEPENDENTS.'],\n",
       " ['| NAME | AGE | SEX | CLASS | MONTHLY RATE OF WAGES. | INTEREST IN PROFITS. |',\n",
       "  '|---|---|---|---|---|---|',\n",
       "  '| Franklin | 21 | Male | 1st | $8.00 |'],\n",
       " ['| --- | --- | --- |',\n",
       "  \"| 1866 June 16th | Approved Contracted between John L. Banks and Merrit Sanders 'fm, for farming this year | J.L.B. is to furnish Lands, teams, Seed, and farming implements. Three (3) Bls of corn, Two Hundred and fifty (250) Lbs of Pork. Leather for two (2) pair of Shoes (Mens). Pay two thirds (2/3) of wages paid to hired hands and give sd. Merritt Sanders one third (1/3) of crops made. \",\n",
       "  'M.S. is to work on said Lands the whole year. pay one third (1/3) of the hire to hands and furnish some assistance on sd. Lands from his family. | note',\n",
       "  \"| June 18 | Approved Contract between W.H. Sanders and Thomas Campbell 'fm, for farming dated March 1st 1866- | W.H. Sanders is to furnish lands, one horse, seed and feed for horse and receive two thirds (2/3) of crops. Freedman Thomas Campbell is to furnish himself and produce crops on said Lands and retain one third (1/3) of crops, and to keep the ditches open on said lands, occupied by his crops |\",\n",
       "  '| June 18 | Approved Contract between David S. Henry and Freedmen Parson Avery, Jackson Sanders and Reuben Sanders for farming dated June 6th 1866. | David S. Avery to furnish Lands Seeds and Teams. Parson Avery Jackson Sanders and Reuben Sanders freedmen to perform the manual labor necessary to make crops with said teams & Seeds and Lands furnished to keep up the fences and care properly for the stock and implements, and receive one third (1/3) of the crops. '],\n",
       " ['|NAMES.|AGE.|SEX.|MONTHLY RATE OF WAGES.|INTEREST IN PROFITS.|',\n",
       "  '|Margery X (her mark) Russell|30|female|none|none|',\n",
       "  '/5 column table',\n",
       "  'DEPENDENTS.',\n",
       "  '6 column table',\n",
       "  '|NAMES.|AGE.|SEX.|NAMES.|AGE.|SEX.|',\n",
       "  '|Phillis|9|female|   |   |   |',\n",
       "  '|Emma|6|female|   |   |   |'],\n",
       " ['|No.|Name|Age|Rate of pay per month. Dols Cts.']]"
      ]
     },
     "execution_count": 25,
     "metadata": {},
     "output_type": "execute_result"
    }
   ],
   "source": [
    "tables_extracted"
   ]
  },
  {
   "cell_type": "code",
   "execution_count": 26,
   "id": "6e6fae4b",
   "metadata": {
    "execution": {
     "iopub.execute_input": "2022-07-15T09:44:03.915196Z",
     "iopub.status.busy": "2022-07-15T09:44:03.914830Z",
     "iopub.status.idle": "2022-07-15T09:44:03.921236Z",
     "shell.execute_reply": "2022-07-15T09:44:03.920118Z"
    },
    "papermill": {
     "duration": 0.021063,
     "end_time": "2022-07-15T09:44:03.924422",
     "exception": false,
     "start_time": "2022-07-15T09:44:03.903359",
     "status": "completed"
    },
    "tags": []
   },
   "outputs": [
    {
     "name": "stdout",
     "output_type": "stream",
     "text": [
      "7\n"
     ]
    }
   ],
   "source": [
    "nb=0\n",
    "for example in (tables_extracted):\n",
    "    if len(example)> 0 :\n",
    "        nb=nb+1\n",
    "print(nb)"
   ]
  },
  {
   "cell_type": "code",
   "execution_count": 27,
   "id": "7c22d4d2",
   "metadata": {
    "execution": {
     "iopub.execute_input": "2022-07-15T09:44:03.948605Z",
     "iopub.status.busy": "2022-07-15T09:44:03.947852Z",
     "iopub.status.idle": "2022-07-15T09:44:03.968294Z",
     "shell.execute_reply": "2022-07-15T09:44:03.966562Z"
    },
    "papermill": {
     "duration": 0.035736,
     "end_time": "2022-07-15T09:44:03.971032",
     "exception": false,
     "start_time": "2022-07-15T09:44:03.935296",
     "status": "completed"
    },
    "tags": []
   },
   "outputs": [
    {
     "name": "stdout",
     "output_type": "stream",
     "text": [
      "CONTRACT FOR LABOR.\r\n",
      "\r\n",
      "THIS INDENTURE, Made and entered into on the fourth day of January A.D, 1867, between James McNath of the County of Robeson and State of North Carolina, of the first part and the undersigned, freed laborers, of the second part;\r\n",
      "WITNESSETH, That the said laborers have agreed to work for the said James McNath\r\n",
      "from this date to the 8 day of January 1 1868, to do all kinds of labor common to the farms of the country, to work ten hours per day, to do their work faithfully, and to be respectful in their deportment. And they further agree, that one-half of their monthly pay shall be retained by the said James McNath\r\n",
      "till the end of each year, and that the amount so retained shall be forfeited by a violation of this contract. And they further agree, that time lost by idleness or absence without leave, shall not be paid for.\r\n",
      "And the said James McNath has agreed that he will furnish the said laborers with comfortable quarters, sufficient rations, and the amount of money per month, which stands opposite their respective names; that he will treat them kindly, and encourage the establishment of schools for their children,\r\n",
      "\r\n",
      "|No.|NAME.|AGE.|PAY PER MONTH 1866|PAY PER MONTH 1867|No.|NAME.|AGE.|PAY PER MONTH 1865.|PAY PER MONTH 1866.|\r\n",
      "|---|---|---|---|---|---|---|---|---|---|\r\n",
      "|3|Vilet her X mark McKinnon &|66| |2 per month| | | | | |\r\n",
      "| |son Alexander|14| |3 per month| | | | | |\r\n",
      "| |and Levy|12| |2 per month| | | | | |\r\n",
      "| | | | |7 the total| | | | | |\r\n",
      "| |Witness Peter Campbell| | | | | | | | |\r\n",
      "\r\n",
      "\r\n",
      "\n",
      "\n",
      "==========\n",
      "\n",
      "Know all Men by These Presents, That John Edwards, of the County of Robertson, State of Tennessee, is held and firmly bound to the United States of America in the sum of Five Hundred Dollars, for the payment of which I bind My Heirs, Executors, and Administrators, firmly, by these presents, in this Contract: That I am to furnish the persons whose names are subjoined, (freed laborers,) Quarters, Fuel, substantial and healthy Rations, all necessary Medical Attendance and Supplies in case of sickness, and the amount set opposite their respective names per month, during the continuation of this Contract - laborers to be paid in full before the final disposal of the crop which is to be raised by them on My plantation, in the County of Robertson State of Tennessee\r\n",
      "\r\n",
      "[[5 columned table]]\r\n",
      "| No. | NAMES. | AGE. | RATE of PAY [[strikethrough]] per month. [[/strikethrough]] year Dols. | RATE of PAY [[strikethrough]] per month. [[/strikethrough]] year Cents. |         \r\n",
      "| --- | --- | --- | --- | --- | \r\n",
      "\r\n",
      "|   | Sit Cashens | 80 | 40 | 00 |\r\n",
      "\r\n",
      "Edwards Feeds him he Clothes himself and pays his Dr Bills\r\n",
      "\r\n",
      "This Contract is to commence with this date and close with the year.\r\n",
      "Given, in duplicate, at My Office this 16 day of January 1866\r\n",
      "D. D. Holman\r\n",
      "Supt. of Dist.\r\n",
      "\r\n",
      "Witness. E. J. Featherston\r\n",
      "Registered at Springfield Jany 16, 1866\n",
      "\n",
      "==========\n",
      "\n"
     ]
    }
   ],
   "source": [
    "for i in (contract[contract.tables_parsed != {}].sample(n=2).transcription_text.tolist()):\n",
    "\n",
    "    print(i)\n",
    "    print(\"\\n==========\\n\")"
   ]
  },
  {
   "cell_type": "code",
   "execution_count": null,
   "id": "a8287585",
   "metadata": {
    "papermill": {
     "duration": 0.011568,
     "end_time": "2022-07-15T09:44:03.993081",
     "exception": false,
     "start_time": "2022-07-15T09:44:03.981513",
     "status": "completed"
    },
    "tags": []
   },
   "outputs": [],
   "source": []
  },
  {
   "cell_type": "code",
   "execution_count": null,
   "id": "f5f64b5c",
   "metadata": {
    "papermill": {
     "duration": 0.011346,
     "end_time": "2022-07-15T09:44:04.017410",
     "exception": false,
     "start_time": "2022-07-15T09:44:04.006064",
     "status": "completed"
    },
    "tags": []
   },
   "outputs": [],
   "source": []
  }
 ],
 "metadata": {
  "kernelspec": {
   "display_name": "Python 3",
   "language": "python",
   "name": "python3"
  },
  "language_info": {
   "codemirror_mode": {
    "name": "ipython",
    "version": 3
   },
   "file_extension": ".py",
   "mimetype": "text/x-python",
   "name": "python",
   "nbconvert_exporter": "python",
   "pygments_lexer": "ipython3",
   "version": "3.7.12"
  },
  "papermill": {
   "default_parameters": {},
   "duration": 68.132715,
   "end_time": "2022-07-15T09:44:04.950953",
   "environment_variables": {},
   "exception": null,
   "input_path": "__notebook__.ipynb",
   "output_path": "__notebook__.ipynb",
   "parameters": {},
   "start_time": "2022-07-15T09:42:56.818238",
   "version": "2.3.4"
  }
 },
 "nbformat": 4,
 "nbformat_minor": 5
}
