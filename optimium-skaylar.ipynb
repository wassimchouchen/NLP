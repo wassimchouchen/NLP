{
 "cells": [
  {
   "cell_type": "code",
   "execution_count": 1,
   "id": "25e54600",
   "metadata": {
    "_cell_guid": "b1076dfc-b9ad-4769-8c92-a6c4dae69d19",
    "_kg_hide-output": true,
    "_uuid": "8f2839f25d086af736a60e9eeb907d3b93b6e0e5",
    "execution": {
     "iopub.execute_input": "2022-07-14T18:37:18.339203Z",
     "iopub.status.busy": "2022-07-14T18:37:18.337856Z",
     "iopub.status.idle": "2022-07-14T18:37:20.497538Z",
     "shell.execute_reply": "2022-07-14T18:37:20.496183Z"
    },
    "papermill": {
     "duration": 2.176646,
     "end_time": "2022-07-14T18:37:20.500753",
     "exception": false,
     "start_time": "2022-07-14T18:37:18.324107",
     "status": "completed"
    },
    "tags": []
   },
   "outputs": [],
   "source": [
    "# !pip install flair\n",
    "import time\n",
    "import string\n",
    "import warnings\n",
    "\n",
    "import regex as re\n",
    "from tqdm import tqdm\n",
    "\n",
    "\n",
    "import pickle\n",
    "import numpy as np\n",
    "import pandas as pd \n",
    "\n",
    "import seaborn as sns\n",
    "import matplotlib.pyplot as plt \n",
    "import matplotlib.style as stl \n",
    "\n",
    "\n",
    "\n",
    "from nltk.corpus import stopwords\n",
    "from nltk.corpus import stopwords\n",
    "from nltk.tokenize import word_tokenize\n",
    "from nltk.stem import WordNetLemmatizer\n",
    "from nltk.stem.snowball import SnowballStemmer\n",
    "\n",
    "\n",
    "warnings.filterwarnings(\"ignore\")"
   ]
  },
  {
   "cell_type": "code",
   "execution_count": 2,
   "id": "9175373a",
   "metadata": {
    "execution": {
     "iopub.execute_input": "2022-07-14T18:37:20.523549Z",
     "iopub.status.busy": "2022-07-14T18:37:20.522493Z",
     "iopub.status.idle": "2022-07-14T18:37:29.410625Z",
     "shell.execute_reply": "2022-07-14T18:37:29.409356Z"
    },
    "papermill": {
     "duration": 8.902738,
     "end_time": "2022-07-14T18:37:29.413580",
     "exception": false,
     "start_time": "2022-07-14T18:37:20.510842",
     "status": "completed"
    },
    "tags": []
   },
   "outputs": [],
   "source": [
    "documents = pd.read_csv(\"../input/skylarfreedman/Documents-Table 1.csv\", on_bad_lines='skip', sep=\";\")"
   ]
  },
  {
   "cell_type": "code",
   "execution_count": 3,
   "id": "2d349a99",
   "metadata": {
    "execution": {
     "iopub.execute_input": "2022-07-14T18:37:29.435034Z",
     "iopub.status.busy": "2022-07-14T18:37:29.434613Z",
     "iopub.status.idle": "2022-07-14T18:37:29.503607Z",
     "shell.execute_reply": "2022-07-14T18:37:29.502428Z"
    },
    "papermill": {
     "duration": 0.083296,
     "end_time": "2022-07-14T18:37:29.506482",
     "exception": false,
     "start_time": "2022-07-14T18:37:29.423186",
     "status": "completed"
    },
    "tags": []
   },
   "outputs": [],
   "source": [
    "contract = documents[documents.Category == \"Contracts\"]\n",
    "contract = contract[[\"document_id\", \"project_id\", \"transcription_text\"]]"
   ]
  },
  {
   "cell_type": "code",
   "execution_count": 4,
   "id": "3328ff5d",
   "metadata": {
    "execution": {
     "iopub.execute_input": "2022-07-14T18:37:29.527498Z",
     "iopub.status.busy": "2022-07-14T18:37:29.526757Z",
     "iopub.status.idle": "2022-07-14T18:37:29.542359Z",
     "shell.execute_reply": "2022-07-14T18:37:29.541135Z"
    },
    "papermill": {
     "duration": 0.029258,
     "end_time": "2022-07-14T18:37:29.545260",
     "exception": false,
     "start_time": "2022-07-14T18:37:29.516002",
     "status": "completed"
    },
    "tags": []
   },
   "outputs": [],
   "source": [
    "contract = contract[pd.notnull(contract['transcription_text'])]\n",
    "contract = contract.reset_index(drop=True)"
   ]
  },
  {
   "cell_type": "markdown",
   "id": "fdad4537",
   "metadata": {
    "papermill": {
     "duration": 0.009144,
     "end_time": "2022-07-14T18:37:29.563838",
     "exception": false,
     "start_time": "2022-07-14T18:37:29.554694",
     "status": "completed"
    },
    "tags": []
   },
   "source": [
    "# Preprocessing"
   ]
  },
  {
   "cell_type": "code",
   "execution_count": 5,
   "id": "68fdb1bc",
   "metadata": {
    "execution": {
     "iopub.execute_input": "2022-07-14T18:37:29.585079Z",
     "iopub.status.busy": "2022-07-14T18:37:29.584149Z",
     "iopub.status.idle": "2022-07-14T18:37:29.599614Z",
     "shell.execute_reply": "2022-07-14T18:37:29.598377Z"
    },
    "papermill": {
     "duration": 0.029485,
     "end_time": "2022-07-14T18:37:29.602778",
     "exception": false,
     "start_time": "2022-07-14T18:37:29.573293",
     "status": "completed"
    },
    "tags": []
   },
   "outputs": [],
   "source": [
    "stop_words = set(stopwords.words('english'))\n",
    "punctuation = string.punctuation\n",
    "stemmer = SnowballStemmer(language=\"english\")\n",
    "lemmatizer = WordNetLemmatizer()\n",
    "stop_words.remove(\"of\")\n",
    "punct='!\"#$%&\\'()*+-/<=>?@[\\\\]^_`{|}~'\n",
    "\n",
    "def process(s):\n",
    "    \"\"\"Removes stop words, words in brackets\n",
    "    and parentheses, and special characters.\n",
    "    \"\"\"\n",
    "    \n",
    "    s= re.sub(\"([\\(\\[]).*?([\\)\\]])\",\" \",s)\n",
    "    for p in punct:\n",
    "        s = s.replace(p, '')\n",
    "    s = word_tokenize(s)\n",
    "    s = [w for w in s if not w in stop_words] #optional\n",
    "    return s"
   ]
  },
  {
   "cell_type": "code",
   "execution_count": 6,
   "id": "43191439",
   "metadata": {
    "execution": {
     "iopub.execute_input": "2022-07-14T18:37:29.623839Z",
     "iopub.status.busy": "2022-07-14T18:37:29.623438Z",
     "iopub.status.idle": "2022-07-14T18:38:16.542762Z",
     "shell.execute_reply": "2022-07-14T18:38:16.541305Z"
    },
    "papermill": {
     "duration": 46.933391,
     "end_time": "2022-07-14T18:38:16.546205",
     "exception": false,
     "start_time": "2022-07-14T18:37:29.612814",
     "status": "completed"
    },
    "tags": []
   },
   "outputs": [],
   "source": [
    "contract[\"processed_text\"] = contract[\"transcription_text\"].apply(process)\n",
    "contract[\"processed_text\"] = contract[\"processed_text\"].apply(lambda x: \" \".join(x))"
   ]
  },
  {
   "cell_type": "code",
   "execution_count": 7,
   "id": "b6126e93",
   "metadata": {
    "execution": {
     "iopub.execute_input": "2022-07-14T18:38:16.568185Z",
     "iopub.status.busy": "2022-07-14T18:38:16.567307Z",
     "iopub.status.idle": "2022-07-14T18:38:16.582410Z",
     "shell.execute_reply": "2022-07-14T18:38:16.581423Z"
    },
    "papermill": {
     "duration": 0.028936,
     "end_time": "2022-07-14T18:38:16.585032",
     "exception": false,
     "start_time": "2022-07-14T18:38:16.556096",
     "status": "completed"
    },
    "tags": []
   },
   "outputs": [],
   "source": [
    "def parse_table_to_dict(example) :\n",
    "    \n",
    "    def clean_record(x) :\n",
    "        if x.strip() == \"\":\n",
    "            return \" \"\n",
    "        return x.strip().replace(\"{\", \"\").replace(\"}\", \"\")\n",
    "\n",
    "    table_dict = {}\n",
    "\n",
    "    if \"name\" in example[0].lower():\n",
    "\n",
    "        cols = []\n",
    "        for col in example[0].split(\"|\"):\n",
    "            if col.strip() == \"\":\n",
    "                cols.append(col)\n",
    "            else:\n",
    "                cols.append(col.strip().lower().replace(\" \", \"_\").replace(\".\", \"\"))\n",
    "\n",
    "        values = np.array([list(map(clean_record, i.split(\"|\"))) for i in example[1:]])\n",
    "\n",
    "    else:\n",
    "\n",
    "        n_cols = len(example[0].split(\"|\"))\n",
    "        cols = [f\"col_{i}\" for i in range(n_cols)]\n",
    "\n",
    "        values = np.array([list(map(clean_record, i.split(\"|\"))) for i in example])\n",
    "        \n",
    "    \n",
    "    #Remove empty rows ([\"----\", \"-----\", \"-----\"])\n",
    "    new_values = []\n",
    "    for line in values:\n",
    "        line_chars = list(set(\"\".join([i.strip() for i in line])))\n",
    "        \n",
    "        if len(line_chars) != 0 and (line_chars[0] != \"-\" or len(line_chars) != 0):\n",
    "            new_values.append(line.tolist())\n",
    "            \n",
    "    values = np.array(new_values)\n",
    "            \n",
    "    if values.reshape(-1).shape[0] != 0:\n",
    "        for i, col in enumerate(cols):\n",
    "            table_dict[col] = values[:, i].tolist()\n",
    "            \n",
    "        return table_dict\n",
    "    \n",
    "    else:\n",
    "        \n",
    "        return {} "
   ]
  },
  {
   "cell_type": "code",
   "execution_count": 8,
   "id": "ca2de8fe",
   "metadata": {
    "execution": {
     "iopub.execute_input": "2022-07-14T18:38:16.606573Z",
     "iopub.status.busy": "2022-07-14T18:38:16.605410Z",
     "iopub.status.idle": "2022-07-14T18:38:16.627076Z",
     "shell.execute_reply": "2022-07-14T18:38:16.626196Z"
    },
    "papermill": {
     "duration": 0.035391,
     "end_time": "2022-07-14T18:38:16.629961",
     "exception": false,
     "start_time": "2022-07-14T18:38:16.594570",
     "status": "completed"
    },
    "tags": []
   },
   "outputs": [
    {
     "data": {
      "text/html": [
       "<div>\n",
       "<style scoped>\n",
       "    .dataframe tbody tr th:only-of-type {\n",
       "        vertical-align: middle;\n",
       "    }\n",
       "\n",
       "    .dataframe tbody tr th {\n",
       "        vertical-align: top;\n",
       "    }\n",
       "\n",
       "    .dataframe thead th {\n",
       "        text-align: right;\n",
       "    }\n",
       "</style>\n",
       "<table border=\"1\" class=\"dataframe\">\n",
       "  <thead>\n",
       "    <tr style=\"text-align: right;\">\n",
       "      <th></th>\n",
       "      <th>document_id</th>\n",
       "      <th>project_id</th>\n",
       "      <th>transcription_text</th>\n",
       "      <th>processed_text</th>\n",
       "    </tr>\n",
       "  </thead>\n",
       "  <tbody>\n",
       "    <tr>\n",
       "      <th>0</th>\n",
       "      <td>NMAAHC-004567394_00861</td>\n",
       "      <td>11400</td>\n",
       "      <td>[D104 ENCL]\\r\\nNorth Carolina\\r\\nThis indentur...</td>\n",
       "      <td>North Carolina This indenture made entered Thi...</td>\n",
       "    </tr>\n",
       "    <tr>\n",
       "      <th>1</th>\n",
       "      <td>NMAAHC-004567394_00957</td>\n",
       "      <td>11400</td>\n",
       "      <td>[E 11 ENCL] \\r\\n\\r\\n\\r\\nState of North Carolin...</td>\n",
       "      <td>State of North Carolina Currituck County . Thi...</td>\n",
       "    </tr>\n",
       "    <tr>\n",
       "      <th>2</th>\n",
       "      <td>NMAAHC-004567394_00958</td>\n",
       "      <td>11400</td>\n",
       "      <td>near Lizzie Etheridge's gate, thence South 56 ...</td>\n",
       "      <td>near Lizzie Etheridges gate , thence South 56 ...</td>\n",
       "    </tr>\n",
       "    <tr>\n",
       "      <th>3</th>\n",
       "      <td>NMAAHC-004567395_00439</td>\n",
       "      <td>11406</td>\n",
       "      <td>Copy\\r\\n\\r\\nAgreement of Apprenticeship\\r\\nBu ...</td>\n",
       "      <td>Copy Agreement of Apprenticeship Bu Mrs. Kate ...</td>\n",
       "    </tr>\n",
       "    <tr>\n",
       "      <th>4</th>\n",
       "      <td>NMAAHC-004567395_00440</td>\n",
       "      <td>11406</td>\n",
       "      <td>[H 132 ENCL] \\r\\n\\r\\nCopy\\r\\n\\r\\nAgreement of ...</td>\n",
       "      <td>Copy Agreement of Apprenticeship . This agreem...</td>\n",
       "    </tr>\n",
       "    <tr>\n",
       "      <th>...</th>\n",
       "      <td>...</td>\n",
       "      <td>...</td>\n",
       "      <td>...</td>\n",
       "      <td>...</td>\n",
       "    </tr>\n",
       "    <tr>\n",
       "      <th>23724</th>\n",
       "      <td>NMAAHC-007677332_01525</td>\n",
       "      <td>41539</td>\n",
       "      <td>\\N</td>\n",
       "      <td>N</td>\n",
       "    </tr>\n",
       "    <tr>\n",
       "      <th>23725</th>\n",
       "      <td>NMAAHC-007677332_01526</td>\n",
       "      <td>41539</td>\n",
       "      <td>\\N</td>\n",
       "      <td>N</td>\n",
       "    </tr>\n",
       "    <tr>\n",
       "      <th>23726</th>\n",
       "      <td>NMAAHC-007677332_01527</td>\n",
       "      <td>41539</td>\n",
       "      <td>\\N</td>\n",
       "      <td>N</td>\n",
       "    </tr>\n",
       "    <tr>\n",
       "      <th>23727</th>\n",
       "      <td>NMAAHC-007677332_01528</td>\n",
       "      <td>41539</td>\n",
       "      <td>Jo</td>\n",
       "      <td>Jo</td>\n",
       "    </tr>\n",
       "    <tr>\n",
       "      <th>23728</th>\n",
       "      <td>NMAAHC-007677332_01529</td>\n",
       "      <td>41539</td>\n",
       "      <td>\\N</td>\n",
       "      <td>N</td>\n",
       "    </tr>\n",
       "  </tbody>\n",
       "</table>\n",
       "<p>23729 rows × 4 columns</p>\n",
       "</div>"
      ],
      "text/plain": [
       "                  document_id  project_id  \\\n",
       "0      NMAAHC-004567394_00861       11400   \n",
       "1      NMAAHC-004567394_00957       11400   \n",
       "2      NMAAHC-004567394_00958       11400   \n",
       "3      NMAAHC-004567395_00439       11406   \n",
       "4      NMAAHC-004567395_00440       11406   \n",
       "...                       ...         ...   \n",
       "23724  NMAAHC-007677332_01525       41539   \n",
       "23725  NMAAHC-007677332_01526       41539   \n",
       "23726  NMAAHC-007677332_01527       41539   \n",
       "23727  NMAAHC-007677332_01528       41539   \n",
       "23728  NMAAHC-007677332_01529       41539   \n",
       "\n",
       "                                      transcription_text  \\\n",
       "0      [D104 ENCL]\\r\\nNorth Carolina\\r\\nThis indentur...   \n",
       "1      [E 11 ENCL] \\r\\n\\r\\n\\r\\nState of North Carolin...   \n",
       "2      near Lizzie Etheridge's gate, thence South 56 ...   \n",
       "3      Copy\\r\\n\\r\\nAgreement of Apprenticeship\\r\\nBu ...   \n",
       "4      [H 132 ENCL] \\r\\n\\r\\nCopy\\r\\n\\r\\nAgreement of ...   \n",
       "...                                                  ...   \n",
       "23724                                                 \\N   \n",
       "23725                                                 \\N   \n",
       "23726                                                 \\N   \n",
       "23727                                                 Jo   \n",
       "23728                                                 \\N   \n",
       "\n",
       "                                          processed_text  \n",
       "0      North Carolina This indenture made entered Thi...  \n",
       "1      State of North Carolina Currituck County . Thi...  \n",
       "2      near Lizzie Etheridges gate , thence South 56 ...  \n",
       "3      Copy Agreement of Apprenticeship Bu Mrs. Kate ...  \n",
       "4      Copy Agreement of Apprenticeship . This agreem...  \n",
       "...                                                  ...  \n",
       "23724                                                  N  \n",
       "23725                                                  N  \n",
       "23726                                                  N  \n",
       "23727                                                 Jo  \n",
       "23728                                                  N  \n",
       "\n",
       "[23729 rows x 4 columns]"
      ]
     },
     "execution_count": 8,
     "metadata": {},
     "output_type": "execute_result"
    }
   ],
   "source": [
    "contract"
   ]
  },
  {
   "cell_type": "code",
   "execution_count": 9,
   "id": "0d775785",
   "metadata": {
    "execution": {
     "iopub.execute_input": "2022-07-14T18:38:16.653211Z",
     "iopub.status.busy": "2022-07-14T18:38:16.652158Z",
     "iopub.status.idle": "2022-07-14T18:38:16.662281Z",
     "shell.execute_reply": "2022-07-14T18:38:16.661126Z"
    },
    "papermill": {
     "duration": 0.024728,
     "end_time": "2022-07-14T18:38:16.664831",
     "exception": false,
     "start_time": "2022-07-14T18:38:16.640103",
     "status": "completed"
    },
    "tags": []
   },
   "outputs": [],
   "source": [
    "t=[]\n",
    "t.append(\"\"\"[[7 column table]]\n",
    "No. | NAME. | AGE. | WAGES. DOLLS. | [[WAGES.]] CTS. | MONTHLY PAYM'T. DOLLS. | [[MONTHLY PAYM'T.]] CTS.\n",
    "[[/preprinted]]\n",
    "\n",
    "1 | Sarah | 17 | 2 | 50 | 1 | 75 \"\"\")\n",
    "t.append(\"\"\"[[5 columned table]]\n",
    "| No. | NAMES. | AGE. | RATE of PAY per month. Dols. | RATE of PAY per month. Cents. |         \n",
    "| --- | --- | --- | --- | --- | \n",
    "| 1861 | Phillip Carr | 13 | 100 | 00 |\"\"\")\n",
    "t.append(\"\"\"|NAMES.|AGE.|MONTHLY RATE OF WAGES.|INTEREST IN PROFITS.|\n",
    "|Frances her x mark|16|none|none.\n",
    "\n",
    "\n",
    "DEPENDENTS.\n",
    "|NAMES.|AGE.|NAMES.|AGE.|\"\"\")\n",
    "t.append(\"\"\"[[6 Columned Table]]\n",
    "| NAME | AGE | SEX | CLASS | MONTHLY RATE OF WAGES. | INTEREST IN PROFITS. |\n",
    "|---|---|---|---|---|---|\n",
    "| Franklin | 21 | Male | 1st | $8.00 |\n",
    "[[/6 columned table]]\n",
    "\"\"\")\n",
    "t.append(\"\"\"[[3 columned table]]\n",
    "| --- | --- | --- |\n",
    "| 1866 June 16th | Approved Contracted between John L. Banks and Merrit Sanders 'fm, for farming this year | J.L.B. is to furnish Lands, teams, Seed, and farming implements. Three (3) Bls of corn, Two Hundred and fifty (250) Lbs of Pork. Leather for two (2) pair of Shoes (Mens). Pay two thirds (2/3) of wages paid to hired hands and give sd. Merritt Sanders one third (1/3) of crops made. \n",
    "M.S. is to work on said Lands the whole year. pay one third (1/3) of the hire to hands and furnish some assistance on sd. Lands from his family. | [[note]]\n",
    "\n",
    "| June 18 | Approved Contract between W.H. Sanders and Thomas Campbell 'fm, for farming dated March 1st 1866- | W.H. Sanders is to furnish lands, one horse, seed and feed for horse and receive two thirds (2/3) of crops. Freedman Thomas Campbell is to furnish himself and produce crops on said Lands and retain one third (1/3) of crops, and to keep the ditches open on said lands, occupied by his crops |\n",
    "\n",
    "| June 18 | Approved Contract between David S. Henry and Freedmen Parson Avery, Jackson Sanders and Reuben Sanders for farming dated June 6th 1866. | David S. Avery to furnish Lands Seeds and Teams. Parson Avery Jackson Sanders and Reuben Sanders freedmen to perform the manual labor necessary to make crops with said teams & Seeds and Lands furnished to keep up the fences and care properly for the stock and implements, and receive one third (1/3) of the crops. \n",
    "Sd. David S. Avery to receive two thirds (2/3) of the crops, and afford each of said Freedman a garden for Corn, Potatoes &c, &c rent free. | \"\"\")\n",
    "t.append(\"\"\"\n",
    "[[5 column table]]\n",
    "\n",
    "|NAMES.|AGE.|SEX.|MONTHLY RATE OF WAGES.|INTEREST IN PROFITS.|\n",
    "|Margery X (her mark) Russell|30|female|none|none|\n",
    "\n",
    "[[/5 column table]]\n",
    "\n",
    "DEPENDENTS.\n",
    "\n",
    "[[6 column table]]\n",
    "\n",
    "|NAMES.|AGE.|SEX.|NAMES.|AGE.|SEX.|\n",
    "|Phillis|9|female|   |   |   |\n",
    "|Emma|6|female|   |   |   |\n",
    "\n",
    "[[/6 column table]]\"\"\")\n",
    "t.append(\"\"\"|No.|Name|Age|Rate of pay per month. Dols Cts.\n",
    "|1|Martha Willis|21|   | \"\"\")\n",
    "t2=t"
   ]
  },
  {
   "cell_type": "code",
   "execution_count": 10,
   "id": "db4c7ec2",
   "metadata": {
    "execution": {
     "iopub.execute_input": "2022-07-14T18:38:16.686008Z",
     "iopub.status.busy": "2022-07-14T18:38:16.685586Z",
     "iopub.status.idle": "2022-07-14T18:38:16.692663Z",
     "shell.execute_reply": "2022-07-14T18:38:16.691514Z"
    },
    "papermill": {
     "duration": 0.020661,
     "end_time": "2022-07-14T18:38:16.695034",
     "exception": false,
     "start_time": "2022-07-14T18:38:16.674373",
     "status": "completed"
    },
    "tags": []
   },
   "outputs": [],
   "source": [
    "tb=[\"\"\"[[table]]\n",
    "No. | NAME. | AGE. | ^[[Twelve months]] WAGES. DOLLS. CTS. | MONTHLY PAYM'T. DOLLS. CTS. [[/preprinted]]\n",
    "|Phil Shaver His x mark|33|$144|00|2|00\n",
    "|John Leo His x mark|16|72|00|1|50\n",
    "|Mumford Randleman His x mark|25|120|00|2|00\n",
    "|Adam Fisher His x mark|25|144|00|2|00\n",
    "|Emma Fisher Her x mark|19|72|00|2|00\n",
    "|Joseph Thompson His x mark|19|144|00|2|00\n",
    "|Henry Kelly Ale His mark x|20|144|00|2|00\n",
    "|Samuel Gillespie His x mark|22|120|00|2|00\n",
    "|Nathan Foard His x mark|40|144|00|2|00\n",
    "|Jordan Cox, His x mark|19|120|00|2|00\n",
    "|Ann Tyson Her x mark|18|84|00|2|00\n",
    "|Liza Dixon Her x mark|30|84|00|2|00\n",
    "|Ceily Auston Her x mark||25|00|84|00\n",
    "|Leon Foard His x mark|13|72|00|2|00\n",
    "|Silas Foard His x mark|10|60|00|2|00\n",
    "|Alfred P. Dixon His x mark|10|48|00|2|00\n",
    "|Mary Hall Her x mark|25|72|00|2|00\n",
    "|Hicksey Her x mark|25|72|00|2|00\n",
    "|Dennis His x mark|14|48|00|2|00\n",
    "|George Little & His x mark|31|120|00|2|00\n",
    "|Wife|23|96|00|1|00\n",
    "|Will Alfred & His x mark|28|120|00|2|00\n",
    "|Wife|19|96|00|2|00\n",
    "|Henry Myers His x mark|22|144|00|2|00\n",
    "|Thomas Granderson His x mark|24|120|00|2|00\n",
    "|Fred Deaton His x mark|23|120|00|2|00\n",
    "|[[Illegible - final line of page is cut off]]|14|72|00|2|00\n",
    "[[/Table]]\"\"\"]\n",
    "tb.append(\"\"\"[[3 column table - no headers]]\n",
    "|---|---|---|\n",
    "|Stephen Barni-|25|Male|\n",
    "|Eve. wife|22|F|\n",
    "|Martin Morrsham|18.|M.|\n",
    "|Wm Marshall|22|M.|\n",
    "|Oliver Hudgrim|19|M.|\n",
    "|John Lunford?|16|M.|\n",
    "|George Hargroves-|21|M.|\n",
    "|Richard Gibbs|15|M.|\n",
    "|& Babe Fannie Martin|19|F|\n",
    "|Senior Gates|33|M|\n",
    "|Bates Hiate|22|M|\n",
    "|John Hiate-|21|M|\n",
    "|Ned Sides-|22|M|\n",
    "|Lawson Patterson|22|M|\n",
    "|John Riverly|30|M|\n",
    "|Soleman Miller|28|M|\n",
    "|Moses Todd|23|M|\n",
    "|Peter Stubbs|33|M|\n",
    "|Sarah wife|28|F|\n",
    "|John Sim|12|M.|\n",
    "|Sam Jones|38|M|\n",
    "|Celia wife-|34|F|\n",
    "|Arter Son|16|M|\n",
    "|Sallie daughter|14|F|\n",
    "|Jim son|12|M|\n",
    "|Epraim Bennet|19|Male|\n",
    "|Sam Marsh|24|Male| \"\"\")"
   ]
  },
  {
   "cell_type": "code",
   "execution_count": 11,
   "id": "f9ed369b",
   "metadata": {
    "execution": {
     "iopub.execute_input": "2022-07-14T18:38:16.717674Z",
     "iopub.status.busy": "2022-07-14T18:38:16.716837Z",
     "iopub.status.idle": "2022-07-14T18:38:16.722554Z",
     "shell.execute_reply": "2022-07-14T18:38:16.721744Z"
    },
    "papermill": {
     "duration": 0.02103,
     "end_time": "2022-07-14T18:38:16.725927",
     "exception": false,
     "start_time": "2022-07-14T18:38:16.704897",
     "status": "completed"
    },
    "tags": []
   },
   "outputs": [
    {
     "name": "stdout",
     "output_type": "stream",
     "text": [
      "[[3 column table - no headers]]\n",
      "|---|---|---|\n",
      "|Stephen Barni-|25|Male|\n",
      "|Eve. wife|22|F|\n",
      "|Martin Morrsham|18.|M.|\n",
      "|Wm Marshall|22|M.|\n",
      "|Oliver Hudgrim|19|M.|\n",
      "|John Lunford?|16|M.|\n",
      "|George Hargroves-|21|M.|\n",
      "|Richard Gibbs|15|M.|\n",
      "|& Babe Fannie Martin|19|F|\n",
      "|Senior Gates|33|M|\n",
      "|Bates Hiate|22|M|\n",
      "|John Hiate-|21|M|\n",
      "|Ned Sides-|22|M|\n",
      "|Lawson Patterson|22|M|\n",
      "|John Riverly|30|M|\n",
      "|Soleman Miller|28|M|\n",
      "|Moses Todd|23|M|\n",
      "|Peter Stubbs|33|M|\n",
      "|Sarah wife|28|F|\n",
      "|John Sim|12|M.|\n",
      "|Sam Jones|38|M|\n",
      "|Celia wife-|34|F|\n",
      "|Arter Son|16|M|\n",
      "|Sallie daughter|14|F|\n",
      "|Jim son|12|M|\n",
      "|Epraim Bennet|19|Male|\n",
      "|Sam Marsh|24|Male| \n"
     ]
    }
   ],
   "source": [
    "print(tb[1])"
   ]
  },
  {
   "cell_type": "code",
   "execution_count": 12,
   "id": "5754301d",
   "metadata": {
    "execution": {
     "iopub.execute_input": "2022-07-14T18:38:16.748302Z",
     "iopub.status.busy": "2022-07-14T18:38:16.747854Z",
     "iopub.status.idle": "2022-07-14T18:38:16.753981Z",
     "shell.execute_reply": "2022-07-14T18:38:16.752796Z"
    },
    "papermill": {
     "duration": 0.020022,
     "end_time": "2022-07-14T18:38:16.756469",
     "exception": false,
     "start_time": "2022-07-14T18:38:16.736447",
     "status": "completed"
    },
    "tags": []
   },
   "outputs": [
    {
     "name": "stdout",
     "output_type": "stream",
     "text": [
      "[[3 columned table]]\n",
      "| --- | --- | --- |\n",
      "| 1866 June 16th | Approved Contracted between John L. Banks and Merrit Sanders 'fm, for farming this year | J.L.B. is to furnish Lands, teams, Seed, and farming implements. Three (3) Bls of corn, Two Hundred and fifty (250) Lbs of Pork. Leather for two (2) pair of Shoes (Mens). Pay two thirds (2/3) of wages paid to hired hands and give sd. Merritt Sanders one third (1/3) of crops made. \n",
      "M.S. is to work on said Lands the whole year. pay one third (1/3) of the hire to hands and furnish some assistance on sd. Lands from his family. | [[note]]\n",
      "\n",
      "| June 18 | Approved Contract between W.H. Sanders and Thomas Campbell 'fm, for farming dated March 1st 1866- | W.H. Sanders is to furnish lands, one horse, seed and feed for horse and receive two thirds (2/3) of crops. Freedman Thomas Campbell is to furnish himself and produce crops on said Lands and retain one third (1/3) of crops, and to keep the ditches open on said lands, occupied by his crops |\n",
      "\n",
      "| June 18 | Approved Contract between David S. Henry and Freedmen Parson Avery, Jackson Sanders and Reuben Sanders for farming dated June 6th 1866. | David S. Avery to furnish Lands Seeds and Teams. Parson Avery Jackson Sanders and Reuben Sanders freedmen to perform the manual labor necessary to make crops with said teams & Seeds and Lands furnished to keep up the fences and care properly for the stock and implements, and receive one third (1/3) of the crops. \n",
      "Sd. David S. Avery to receive two thirds (2/3) of the crops, and afford each of said Freedman a garden for Corn, Potatoes &c, &c rent free. | \n"
     ]
    }
   ],
   "source": [
    "print(t2[4])"
   ]
  },
  {
   "cell_type": "code",
   "execution_count": 13,
   "id": "d89c5482",
   "metadata": {
    "execution": {
     "iopub.execute_input": "2022-07-14T18:38:16.778921Z",
     "iopub.status.busy": "2022-07-14T18:38:16.778492Z",
     "iopub.status.idle": "2022-07-14T18:38:16.784621Z",
     "shell.execute_reply": "2022-07-14T18:38:16.783214Z"
    },
    "papermill": {
     "duration": 0.020792,
     "end_time": "2022-07-14T18:38:16.787556",
     "exception": false,
     "start_time": "2022-07-14T18:38:16.766764",
     "status": "completed"
    },
    "tags": []
   },
   "outputs": [],
   "source": [
    "t1=t2"
   ]
  },
  {
   "cell_type": "code",
   "execution_count": 14,
   "id": "56221c07",
   "metadata": {
    "execution": {
     "iopub.execute_input": "2022-07-14T18:38:16.810251Z",
     "iopub.status.busy": "2022-07-14T18:38:16.809837Z",
     "iopub.status.idle": "2022-07-14T18:38:16.825686Z",
     "shell.execute_reply": "2022-07-14T18:38:16.824428Z"
    },
    "papermill": {
     "duration": 0.030257,
     "end_time": "2022-07-14T18:38:16.828328",
     "exception": false,
     "start_time": "2022-07-14T18:38:16.798071",
     "status": "completed"
    },
    "tags": []
   },
   "outputs": [],
   "source": [
    "contract_text = contract.transcription_text.tolist()\n",
    "\n",
    "lns = []\n",
    "tables_extracted = []\n",
    "all_table_pairs = []\n",
    "idx = 0\n",
    "\n",
    "for table_text in t2:\n",
    "\n",
    "    tmp_tables = []\n",
    "    table_text = table_text.replace(\"[\", \"\").replace(\"]\", \"\").replace(\"^\", \"\")\n",
    "    \n",
    "    lines = table_text.split(\"\\n\")\n",
    "    lines = [i for i in lines if len(i.strip()) != 0]\n",
    "    \n",
    "    separator_counts = []\n",
    "    table_pairs  = []\n",
    "    \n",
    "    start = 0\n",
    "    end = 0\n",
    "    streak = 0\n",
    "    \n",
    "    for line_n, line in enumerate(lines):\n",
    "        \n",
    "        separator_count = line.count(\"|\")   \n",
    "        \n",
    "        condition_1 = len(separator_counts) == 0 or separator_count == separator_counts[-1]\n",
    "        condition_2 = separator_count != 0\n",
    "            \n",
    "        #If you find the beginning of a table, take note\n",
    "        if condition_1 and condition_2:\n",
    "            if streak == 0:\n",
    "                start = line_n\n",
    "            streak += 1\n",
    "        else:\n",
    "            if streak != 0:\n",
    "                table_pairs.append((start, line_n))\n",
    "                all_table_pairs.append((start, line_n, idx))\n",
    "            streak = 0\n",
    "            start = 0\n",
    "    \n",
    "        separator_counts.append(separator_count)\n",
    "        \n",
    "    if streak > 0:\n",
    "        table_pairs.append((start, line_n))\n",
    "        all_table_pairs.append((start, line_n, idx))\n",
    "        \n",
    "    if len(table_pairs) > 0:\n",
    "        for i, pair in enumerate(table_pairs):\n",
    "            table = lines[pair[0]-1:pair[1]]\n",
    "            tmp_tables.append(table)\n",
    "            \n",
    "        tables_extracted.append(tmp_tables[0])\n",
    "        \n",
    "    else:\n",
    "        tables_extracted.append([])\n",
    "        \n",
    "        \n",
    "    idx += 1"
   ]
  },
  {
   "cell_type": "code",
   "execution_count": 15,
   "id": "549d7572",
   "metadata": {
    "execution": {
     "iopub.execute_input": "2022-07-14T18:38:16.849921Z",
     "iopub.status.busy": "2022-07-14T18:38:16.849472Z",
     "iopub.status.idle": "2022-07-14T18:38:16.857118Z",
     "shell.execute_reply": "2022-07-14T18:38:16.855744Z"
    },
    "papermill": {
     "duration": 0.021247,
     "end_time": "2022-07-14T18:38:16.859487",
     "exception": false,
     "start_time": "2022-07-14T18:38:16.838240",
     "status": "completed"
    },
    "tags": []
   },
   "outputs": [
    {
     "data": {
      "text/plain": [
       "[[],\n",
       " ['| No. | NAMES. | AGE. | RATE of PAY per month. Dols. | RATE of PAY per month. Cents. |         ',\n",
       "  '| --- | --- | --- | --- | --- | '],\n",
       " [],\n",
       " ['| NAME | AGE | SEX | CLASS | MONTHLY RATE OF WAGES. | INTEREST IN PROFITS. |',\n",
       "  '|---|---|---|---|---|---|'],\n",
       " [],\n",
       " ['|NAMES.|AGE.|SEX.|MONTHLY RATE OF WAGES.|INTEREST IN PROFITS.|',\n",
       "  '|Margery X (her mark) Russell|30|female|none|none|'],\n",
       " []]"
      ]
     },
     "execution_count": 15,
     "metadata": {},
     "output_type": "execute_result"
    }
   ],
   "source": [
    "tables_extracted"
   ]
  },
  {
   "cell_type": "code",
   "execution_count": 16,
   "id": "f05f6018",
   "metadata": {
    "execution": {
     "iopub.execute_input": "2022-07-14T18:38:16.882128Z",
     "iopub.status.busy": "2022-07-14T18:38:16.881441Z",
     "iopub.status.idle": "2022-07-14T18:38:16.888327Z",
     "shell.execute_reply": "2022-07-14T18:38:16.886843Z"
    },
    "papermill": {
     "duration": 0.021525,
     "end_time": "2022-07-14T18:38:16.891127",
     "exception": false,
     "start_time": "2022-07-14T18:38:16.869602",
     "status": "completed"
    },
    "tags": []
   },
   "outputs": [],
   "source": [
    "dcts = []\n",
    "\n",
    "for i, example in enumerate(tables_extracted):\n",
    "    if example != [] and len(example) > 2:\n",
    "        dcts.append(parse_table_to_dict(example))\n",
    "    else:\n",
    "        dcts.append({})"
   ]
  },
  {
   "cell_type": "code",
   "execution_count": 17,
   "id": "9eee6b4d",
   "metadata": {
    "execution": {
     "iopub.execute_input": "2022-07-14T18:38:16.913644Z",
     "iopub.status.busy": "2022-07-14T18:38:16.913224Z",
     "iopub.status.idle": "2022-07-14T18:38:16.920189Z",
     "shell.execute_reply": "2022-07-14T18:38:16.919239Z"
    },
    "papermill": {
     "duration": 0.020879,
     "end_time": "2022-07-14T18:38:16.922504",
     "exception": false,
     "start_time": "2022-07-14T18:38:16.901625",
     "status": "completed"
    },
    "tags": []
   },
   "outputs": [
    {
     "data": {
      "text/plain": [
       "[{}, {}, {}, {}, {}, {}, {}]"
      ]
     },
     "execution_count": 17,
     "metadata": {},
     "output_type": "execute_result"
    }
   ],
   "source": [
    "dcts"
   ]
  },
  {
   "cell_type": "code",
   "execution_count": 18,
   "id": "d2264457",
   "metadata": {
    "execution": {
     "iopub.execute_input": "2022-07-14T18:38:16.946195Z",
     "iopub.status.busy": "2022-07-14T18:38:16.945763Z",
     "iopub.status.idle": "2022-07-14T18:38:16.962523Z",
     "shell.execute_reply": "2022-07-14T18:38:16.961632Z"
    },
    "papermill": {
     "duration": 0.031572,
     "end_time": "2022-07-14T18:38:16.964880",
     "exception": false,
     "start_time": "2022-07-14T18:38:16.933308",
     "status": "completed"
    },
    "tags": []
   },
   "outputs": [],
   "source": [
    "contract_text = contract.transcription_text.tolist()\n",
    "\n",
    "lns = []\n",
    "tables_extracted = []\n",
    "all_table_pairs = []\n",
    "idx = 0\n",
    "\n",
    "for table_text in t2:\n",
    "\n",
    "    tmp_tables = []\n",
    "    table_text = table_text.replace(\"[\", \"\").replace(\"]\", \"\").replace(\"^\", \"\")\n",
    "    \n",
    "    lines = table_text.split(\"\\n\")\n",
    "    lines = [i for i in lines if len(i.strip()) != 0]\n",
    "    separator_counts = []\n",
    "    table_pairs  = []\n",
    "    \n",
    "    start = 0\n",
    "    end = 0\n",
    "    streak = 0\n",
    "    lns=[]\n",
    "#     \"\"\"i removed lines without separator \"\"\"\n",
    "#     for j in lines:\n",
    "#          if  j.count(\"|\") ==0:\n",
    "#                 lines.remove(j)\n",
    "                \n",
    "        \n",
    "#    print(lines , \"\\n\\n\")\n",
    "    \n",
    "    for line_n, line in enumerate(lines):\n",
    "        \n",
    "        separator_count = line.count(\"|\")\n",
    "        \n",
    "#         if separator_count == 0:\n",
    "#             continue\n",
    "            \n",
    "        \n",
    "        #print(line ,separator_count, \"\\n\\n\")\n",
    "        \n",
    "        \"\"\"i add the condition where the next line contain more and less separators than the previous line \"\"\"\n",
    "        \n",
    "        condition_1 = len(separator_counts) == 0  or separator_count == separator_counts[-1] or separator_count > separator_counts[-1] or separator_count < separator_counts[-1]\n",
    "        condition_2 = separator_count != 0\n",
    "            \n",
    "         #If you find the beginning of a table, take note\n",
    "        if (condition_1 and condition_2) :\n",
    "            if streak == 0:\n",
    "                start = line_n\n",
    "            streak += 1\n",
    "        else:\n",
    "            if streak != 0  :\n",
    "                table_pairs.append((start, line_n))\n",
    "                all_table_pairs.append((start, line_n, idx))\n",
    "            streak = 0\n",
    "            start = 0\n",
    "    \n",
    "        separator_counts.append(separator_count)\n",
    "        \n",
    "    \n",
    "    if (streak >= 0):\n",
    "        table_pairs.append((start, line_n))\n",
    "        all_table_pairs.append((start, line_n, idx))\n",
    "        \n",
    "    if len(table_pairs) > 0:\n",
    "        for i, pair in enumerate(table_pairs):\n",
    "            table = lines[pair[0]-1:pair[1]]\n",
    "            tmp_tables.append(table)\n",
    "            \n",
    "        tables_extracted.append(tmp_tables[0])\n",
    "        \n",
    "    else:\n",
    "        tables_extracted.append([])\n",
    "     \n",
    "    \n",
    "    idx +=1"
   ]
  },
  {
   "cell_type": "code",
   "execution_count": 19,
   "id": "aacb84ba",
   "metadata": {
    "execution": {
     "iopub.execute_input": "2022-07-14T18:38:16.987186Z",
     "iopub.status.busy": "2022-07-14T18:38:16.986803Z",
     "iopub.status.idle": "2022-07-14T18:38:16.992987Z",
     "shell.execute_reply": "2022-07-14T18:38:16.991838Z"
    },
    "papermill": {
     "duration": 0.021411,
     "end_time": "2022-07-14T18:38:16.996422",
     "exception": false,
     "start_time": "2022-07-14T18:38:16.975011",
     "status": "completed"
    },
    "tags": []
   },
   "outputs": [
    {
     "name": "stdout",
     "output_type": "stream",
     "text": [
      "5\n"
     ]
    }
   ],
   "source": [
    "nb=0\n",
    "for example in (tables_extracted):\n",
    "    if len(example)> 0 :\n",
    "        nb=nb+1\n",
    "print(nb)"
   ]
  },
  {
   "cell_type": "code",
   "execution_count": 20,
   "id": "cae86dee",
   "metadata": {
    "execution": {
     "iopub.execute_input": "2022-07-14T18:38:17.020553Z",
     "iopub.status.busy": "2022-07-14T18:38:17.020183Z",
     "iopub.status.idle": "2022-07-14T18:38:17.025604Z",
     "shell.execute_reply": "2022-07-14T18:38:17.024369Z"
    },
    "papermill": {
     "duration": 0.021155,
     "end_time": "2022-07-14T18:38:17.028392",
     "exception": false,
     "start_time": "2022-07-14T18:38:17.007237",
     "status": "completed"
    },
    "tags": []
   },
   "outputs": [
    {
     "name": "stdout",
     "output_type": "stream",
     "text": [
      "[[5 columned table]]\n",
      "| No. | NAMES. | AGE. | RATE of PAY per month. Dols. | RATE of PAY per month. Cents. |         \n",
      "| --- | --- | --- | --- | --- | \n",
      "| 1861 | Phillip Carr | 13 | 100 | 00 |\n"
     ]
    }
   ],
   "source": [
    "print(t2[1]) #separators less than the previous lines"
   ]
  },
  {
   "cell_type": "code",
   "execution_count": 21,
   "id": "36f7cff2",
   "metadata": {
    "execution": {
     "iopub.execute_input": "2022-07-14T18:38:17.051451Z",
     "iopub.status.busy": "2022-07-14T18:38:17.051093Z",
     "iopub.status.idle": "2022-07-14T18:38:17.059193Z",
     "shell.execute_reply": "2022-07-14T18:38:17.057807Z"
    },
    "papermill": {
     "duration": 0.023077,
     "end_time": "2022-07-14T18:38:17.061721",
     "exception": false,
     "start_time": "2022-07-14T18:38:17.038644",
     "status": "completed"
    },
    "tags": []
   },
   "outputs": [
    {
     "data": {
      "text/plain": [
       "[['7 column table',\n",
       "  \"No. | NAME. | AGE. | WAGES. DOLLS. | WAGES. CTS. | MONTHLY PAYM'T. DOLLS. | MONTHLY PAYM'T. CTS.\"],\n",
       " ['5 columned table',\n",
       "  '| No. | NAMES. | AGE. | RATE of PAY per month. Dols. | RATE of PAY per month. Cents. |         ',\n",
       "  '| --- | --- | --- | --- | --- | '],\n",
       " [],\n",
       " ['6 Columned Table',\n",
       "  '| NAME | AGE | SEX | CLASS | MONTHLY RATE OF WAGES. | INTEREST IN PROFITS. |',\n",
       "  '|---|---|---|---|---|---|',\n",
       "  '| Franklin | 21 | Male | 1st | $8.00 |'],\n",
       " ['3 columned table',\n",
       "  '| --- | --- | --- |',\n",
       "  \"| 1866 June 16th | Approved Contracted between John L. Banks and Merrit Sanders 'fm, for farming this year | J.L.B. is to furnish Lands, teams, Seed, and farming implements. Three (3) Bls of corn, Two Hundred and fifty (250) Lbs of Pork. Leather for two (2) pair of Shoes (Mens). Pay two thirds (2/3) of wages paid to hired hands and give sd. Merritt Sanders one third (1/3) of crops made. \",\n",
       "  'M.S. is to work on said Lands the whole year. pay one third (1/3) of the hire to hands and furnish some assistance on sd. Lands from his family. | note',\n",
       "  \"| June 18 | Approved Contract between W.H. Sanders and Thomas Campbell 'fm, for farming dated March 1st 1866- | W.H. Sanders is to furnish lands, one horse, seed and feed for horse and receive two thirds (2/3) of crops. Freedman Thomas Campbell is to furnish himself and produce crops on said Lands and retain one third (1/3) of crops, and to keep the ditches open on said lands, occupied by his crops |\",\n",
       "  '| June 18 | Approved Contract between David S. Henry and Freedmen Parson Avery, Jackson Sanders and Reuben Sanders for farming dated June 6th 1866. | David S. Avery to furnish Lands Seeds and Teams. Parson Avery Jackson Sanders and Reuben Sanders freedmen to perform the manual labor necessary to make crops with said teams & Seeds and Lands furnished to keep up the fences and care properly for the stock and implements, and receive one third (1/3) of the crops. '],\n",
       " ['5 column table',\n",
       "  '|NAMES.|AGE.|SEX.|MONTHLY RATE OF WAGES.|INTEREST IN PROFITS.|',\n",
       "  '|Margery X (her mark) Russell|30|female|none|none|'],\n",
       " []]"
      ]
     },
     "execution_count": 21,
     "metadata": {},
     "output_type": "execute_result"
    }
   ],
   "source": [
    "tables_extracted"
   ]
  },
  {
   "cell_type": "code",
   "execution_count": 22,
   "id": "506b8228",
   "metadata": {
    "execution": {
     "iopub.execute_input": "2022-07-14T18:38:17.085961Z",
     "iopub.status.busy": "2022-07-14T18:38:17.085472Z",
     "iopub.status.idle": "2022-07-14T18:38:17.090803Z",
     "shell.execute_reply": "2022-07-14T18:38:17.089903Z"
    },
    "papermill": {
     "duration": 0.02011,
     "end_time": "2022-07-14T18:38:17.093289",
     "exception": false,
     "start_time": "2022-07-14T18:38:17.073179",
     "status": "completed"
    },
    "tags": []
   },
   "outputs": [
    {
     "name": "stdout",
     "output_type": "stream",
     "text": [
      "\n",
      "[[5 column table]]\n",
      "\n",
      "|NAMES.|AGE.|SEX.|MONTHLY RATE OF WAGES.|INTEREST IN PROFITS.|\n",
      "|Margery X (her mark) Russell|30|female|none|none|\n",
      "\n",
      "[[/5 column table]]\n",
      "\n",
      "DEPENDENTS.\n",
      "\n",
      "[[6 column table]]\n",
      "\n",
      "|NAMES.|AGE.|SEX.|NAMES.|AGE.|SEX.|\n",
      "|Phillis|9|female|   |   |   |\n",
      "|Emma|6|female|   |   |   |\n",
      "\n",
      "[[/6 column table]]\n"
     ]
    }
   ],
   "source": [
    "print(t2[5])"
   ]
  },
  {
   "cell_type": "code",
   "execution_count": 23,
   "id": "c569e4cf",
   "metadata": {
    "execution": {
     "iopub.execute_input": "2022-07-14T18:38:17.115880Z",
     "iopub.status.busy": "2022-07-14T18:38:17.115452Z",
     "iopub.status.idle": "2022-07-14T18:38:17.121806Z",
     "shell.execute_reply": "2022-07-14T18:38:17.120355Z"
    },
    "papermill": {
     "duration": 0.020939,
     "end_time": "2022-07-14T18:38:17.124836",
     "exception": false,
     "start_time": "2022-07-14T18:38:17.103897",
     "status": "completed"
    },
    "tags": []
   },
   "outputs": [
    {
     "name": "stdout",
     "output_type": "stream",
     "text": [
      "|NAMES.|AGE.|MONTHLY RATE OF WAGES.|INTEREST IN PROFITS.|\n",
      "|Frances her x mark|16|none|none.\n",
      "\n",
      "\n",
      "DEPENDENTS.\n",
      "|NAMES.|AGE.|NAMES.|AGE.|\n"
     ]
    }
   ],
   "source": [
    "print(t2[2])"
   ]
  },
  {
   "cell_type": "code",
   "execution_count": 24,
   "id": "edaa13e2",
   "metadata": {
    "execution": {
     "iopub.execute_input": "2022-07-14T18:38:17.150041Z",
     "iopub.status.busy": "2022-07-14T18:38:17.149659Z",
     "iopub.status.idle": "2022-07-14T18:38:17.155262Z",
     "shell.execute_reply": "2022-07-14T18:38:17.154382Z"
    },
    "papermill": {
     "duration": 0.021102,
     "end_time": "2022-07-14T18:38:17.157468",
     "exception": false,
     "start_time": "2022-07-14T18:38:17.136366",
     "status": "completed"
    },
    "tags": []
   },
   "outputs": [
    {
     "data": {
      "text/plain": [
       "\"[[table]]\\nNo. | NAME. | AGE. | ^[[Twelve months]] WAGES. DOLLS. CTS. | MONTHLY PAYM'T. DOLLS. CTS. [[/preprinted]]\\n|Phil Shaver His x mark|33|$144|00|2|00\\n|John Leo His x mark|16|72|00|1|50\\n|Mumford Randleman His x mark|25|120|00|2|00\\n|Adam Fisher His x mark|25|144|00|2|00\\n|Emma Fisher Her x mark|19|72|00|2|00\\n|Joseph Thompson His x mark|19|144|00|2|00\\n|Henry Kelly Ale His mark x|20|144|00|2|00\\n|Samuel Gillespie His x mark|22|120|00|2|00\\n|Nathan Foard His x mark|40|144|00|2|00\\n|Jordan Cox, His x mark|19|120|00|2|00\\n|Ann Tyson Her x mark|18|84|00|2|00\\n|Liza Dixon Her x mark|30|84|00|2|00\\n|Ceily Auston Her x mark||25|00|84|00\\n|Leon Foard His x mark|13|72|00|2|00\\n|Silas Foard His x mark|10|60|00|2|00\\n|Alfred P. Dixon His x mark|10|48|00|2|00\\n|Mary Hall Her x mark|25|72|00|2|00\\n|Hicksey Her x mark|25|72|00|2|00\\n|Dennis His x mark|14|48|00|2|00\\n|George Little & His x mark|31|120|00|2|00\\n|Wife|23|96|00|1|00\\n|Will Alfred & His x mark|28|120|00|2|00\\n|Wife|19|96|00|2|00\\n|Henry Myers His x mark|22|144|00|2|00\\n|Thomas Granderson His x mark|24|120|00|2|00\\n|Fred Deaton His x mark|23|120|00|2|00\\n|[[Illegible - final line of page is cut off]]|14|72|00|2|00\\n[[/Table]]\""
      ]
     },
     "execution_count": 24,
     "metadata": {},
     "output_type": "execute_result"
    }
   ],
   "source": [
    "tb[0]"
   ]
  },
  {
   "cell_type": "code",
   "execution_count": 25,
   "id": "b6b48372",
   "metadata": {
    "execution": {
     "iopub.execute_input": "2022-07-14T18:38:17.181383Z",
     "iopub.status.busy": "2022-07-14T18:38:17.180736Z",
     "iopub.status.idle": "2022-07-14T18:38:17.186725Z",
     "shell.execute_reply": "2022-07-14T18:38:17.185820Z"
    },
    "papermill": {
     "duration": 0.02098,
     "end_time": "2022-07-14T18:38:17.189132",
     "exception": false,
     "start_time": "2022-07-14T18:38:17.168152",
     "status": "completed"
    },
    "tags": []
   },
   "outputs": [
    {
     "data": {
      "text/plain": [
       "\"[[7 column table]]\\nNo. | NAME. | AGE. | WAGES. DOLLS. | [[WAGES.]] CTS. | MONTHLY PAYM'T. DOLLS. | [[MONTHLY PAYM'T.]] CTS.\\n[[/preprinted]]\\n\\n1 | Sarah | 17 | 2 | 50 | 1 | 75 \""
      ]
     },
     "execution_count": 25,
     "metadata": {},
     "output_type": "execute_result"
    }
   ],
   "source": [
    "t2[0]"
   ]
  },
  {
   "cell_type": "code",
   "execution_count": 26,
   "id": "8bc93ddd",
   "metadata": {
    "execution": {
     "iopub.execute_input": "2022-07-14T18:38:17.213560Z",
     "iopub.status.busy": "2022-07-14T18:38:17.212979Z",
     "iopub.status.idle": "2022-07-14T18:38:17.218492Z",
     "shell.execute_reply": "2022-07-14T18:38:17.217642Z"
    },
    "papermill": {
     "duration": 0.020387,
     "end_time": "2022-07-14T18:38:17.220650",
     "exception": false,
     "start_time": "2022-07-14T18:38:17.200263",
     "status": "completed"
    },
    "tags": []
   },
   "outputs": [
    {
     "data": {
      "text/plain": [
       "'|No.|Name|Age|Rate of pay per month. Dols Cts.\\n|1|Martha Willis|21|   | '"
      ]
     },
     "execution_count": 26,
     "metadata": {},
     "output_type": "execute_result"
    }
   ],
   "source": [
    "t2[-1]"
   ]
  },
  {
   "cell_type": "code",
   "execution_count": 27,
   "id": "f5f0294a",
   "metadata": {
    "collapsed": true,
    "execution": {
     "iopub.execute_input": "2022-07-14T18:38:17.244833Z",
     "iopub.status.busy": "2022-07-14T18:38:17.244236Z",
     "iopub.status.idle": "2022-07-14T18:38:17.250178Z",
     "shell.execute_reply": "2022-07-14T18:38:17.249320Z"
    },
    "jupyter": {
     "outputs_hidden": true
    },
    "papermill": {
     "duration": 0.020684,
     "end_time": "2022-07-14T18:38:17.252366",
     "exception": false,
     "start_time": "2022-07-14T18:38:17.231682",
     "status": "completed"
    },
    "tags": []
   },
   "outputs": [
    {
     "data": {
      "text/plain": [
       "[['7 column table',\n",
       "  \"No. | NAME. | AGE. | WAGES. DOLLS. | WAGES. CTS. | MONTHLY PAYM'T. DOLLS. | MONTHLY PAYM'T. CTS.\"],\n",
       " ['5 columned table',\n",
       "  '| No. | NAMES. | AGE. | RATE of PAY per month. Dols. | RATE of PAY per month. Cents. |         ',\n",
       "  '| --- | --- | --- | --- | --- | '],\n",
       " [],\n",
       " ['6 Columned Table',\n",
       "  '| NAME | AGE | SEX | CLASS | MONTHLY RATE OF WAGES. | INTEREST IN PROFITS. |',\n",
       "  '|---|---|---|---|---|---|',\n",
       "  '| Franklin | 21 | Male | 1st | $8.00 |'],\n",
       " ['3 columned table',\n",
       "  '| --- | --- | --- |',\n",
       "  \"| 1866 June 16th | Approved Contracted between John L. Banks and Merrit Sanders 'fm, for farming this year | J.L.B. is to furnish Lands, teams, Seed, and farming implements. Three (3) Bls of corn, Two Hundred and fifty (250) Lbs of Pork. Leather for two (2) pair of Shoes (Mens). Pay two thirds (2/3) of wages paid to hired hands and give sd. Merritt Sanders one third (1/3) of crops made. \",\n",
       "  'M.S. is to work on said Lands the whole year. pay one third (1/3) of the hire to hands and furnish some assistance on sd. Lands from his family. | note',\n",
       "  \"| June 18 | Approved Contract between W.H. Sanders and Thomas Campbell 'fm, for farming dated March 1st 1866- | W.H. Sanders is to furnish lands, one horse, seed and feed for horse and receive two thirds (2/3) of crops. Freedman Thomas Campbell is to furnish himself and produce crops on said Lands and retain one third (1/3) of crops, and to keep the ditches open on said lands, occupied by his crops |\",\n",
       "  '| June 18 | Approved Contract between David S. Henry and Freedmen Parson Avery, Jackson Sanders and Reuben Sanders for farming dated June 6th 1866. | David S. Avery to furnish Lands Seeds and Teams. Parson Avery Jackson Sanders and Reuben Sanders freedmen to perform the manual labor necessary to make crops with said teams & Seeds and Lands furnished to keep up the fences and care properly for the stock and implements, and receive one third (1/3) of the crops. '],\n",
       " ['5 column table',\n",
       "  '|NAMES.|AGE.|SEX.|MONTHLY RATE OF WAGES.|INTEREST IN PROFITS.|',\n",
       "  '|Margery X (her mark) Russell|30|female|none|none|'],\n",
       " []]"
      ]
     },
     "execution_count": 27,
     "metadata": {},
     "output_type": "execute_result"
    }
   ],
   "source": [
    "tables_extracted"
   ]
  },
  {
   "cell_type": "code",
   "execution_count": 28,
   "id": "5e627932",
   "metadata": {
    "execution": {
     "iopub.execute_input": "2022-07-14T18:38:17.277974Z",
     "iopub.status.busy": "2022-07-14T18:38:17.277212Z",
     "iopub.status.idle": "2022-07-14T18:38:17.283558Z",
     "shell.execute_reply": "2022-07-14T18:38:17.282805Z"
    },
    "papermill": {
     "duration": 0.02164,
     "end_time": "2022-07-14T18:38:17.285801",
     "exception": false,
     "start_time": "2022-07-14T18:38:17.264161",
     "status": "completed"
    },
    "tags": []
   },
   "outputs": [
    {
     "data": {
      "text/plain": [
       "[['7 column table',\n",
       "  \"No. | NAME. | AGE. | WAGES. DOLLS. | WAGES. CTS. | MONTHLY PAYM'T. DOLLS. | MONTHLY PAYM'T. CTS.\"],\n",
       " ['5 columned table',\n",
       "  '| No. | NAMES. | AGE. | RATE of PAY per month. Dols. | RATE of PAY per month. Cents. |         ',\n",
       "  '| --- | --- | --- | --- | --- | '],\n",
       " [],\n",
       " ['6 Columned Table',\n",
       "  '| NAME | AGE | SEX | CLASS | MONTHLY RATE OF WAGES. | INTEREST IN PROFITS. |',\n",
       "  '|---|---|---|---|---|---|',\n",
       "  '| Franklin | 21 | Male | 1st | $8.00 |'],\n",
       " ['3 columned table',\n",
       "  '| --- | --- | --- |',\n",
       "  \"| 1866 June 16th | Approved Contracted between John L. Banks and Merrit Sanders 'fm, for farming this year | J.L.B. is to furnish Lands, teams, Seed, and farming implements. Three (3) Bls of corn, Two Hundred and fifty (250) Lbs of Pork. Leather for two (2) pair of Shoes (Mens). Pay two thirds (2/3) of wages paid to hired hands and give sd. Merritt Sanders one third (1/3) of crops made. \",\n",
       "  'M.S. is to work on said Lands the whole year. pay one third (1/3) of the hire to hands and furnish some assistance on sd. Lands from his family. | note',\n",
       "  \"| June 18 | Approved Contract between W.H. Sanders and Thomas Campbell 'fm, for farming dated March 1st 1866- | W.H. Sanders is to furnish lands, one horse, seed and feed for horse and receive two thirds (2/3) of crops. Freedman Thomas Campbell is to furnish himself and produce crops on said Lands and retain one third (1/3) of crops, and to keep the ditches open on said lands, occupied by his crops |\",\n",
       "  '| June 18 | Approved Contract between David S. Henry and Freedmen Parson Avery, Jackson Sanders and Reuben Sanders for farming dated June 6th 1866. | David S. Avery to furnish Lands Seeds and Teams. Parson Avery Jackson Sanders and Reuben Sanders freedmen to perform the manual labor necessary to make crops with said teams & Seeds and Lands furnished to keep up the fences and care properly for the stock and implements, and receive one third (1/3) of the crops. '],\n",
       " ['5 column table',\n",
       "  '|NAMES.|AGE.|SEX.|MONTHLY RATE OF WAGES.|INTEREST IN PROFITS.|',\n",
       "  '|Margery X (her mark) Russell|30|female|none|none|'],\n",
       " []]"
      ]
     },
     "execution_count": 28,
     "metadata": {},
     "output_type": "execute_result"
    }
   ],
   "source": [
    "tables_extracted"
   ]
  },
  {
   "cell_type": "code",
   "execution_count": 29,
   "id": "67d6340c",
   "metadata": {
    "execution": {
     "iopub.execute_input": "2022-07-14T18:38:17.311448Z",
     "iopub.status.busy": "2022-07-14T18:38:17.310854Z",
     "iopub.status.idle": "2022-07-14T18:38:17.316574Z",
     "shell.execute_reply": "2022-07-14T18:38:17.315753Z"
    },
    "papermill": {
     "duration": 0.021432,
     "end_time": "2022-07-14T18:38:17.318977",
     "exception": false,
     "start_time": "2022-07-14T18:38:17.297545",
     "status": "completed"
    },
    "tags": []
   },
   "outputs": [
    {
     "data": {
      "text/plain": [
       "[4, 5]"
      ]
     },
     "execution_count": 29,
     "metadata": {},
     "output_type": "execute_result"
    }
   ],
   "source": [
    "separator_counts"
   ]
  },
  {
   "cell_type": "code",
   "execution_count": 30,
   "id": "a520b366",
   "metadata": {
    "execution": {
     "iopub.execute_input": "2022-07-14T18:38:17.343554Z",
     "iopub.status.busy": "2022-07-14T18:38:17.343168Z",
     "iopub.status.idle": "2022-07-14T18:38:17.349342Z",
     "shell.execute_reply": "2022-07-14T18:38:17.347963Z"
    },
    "papermill": {
     "duration": 0.021882,
     "end_time": "2022-07-14T18:38:17.352379",
     "exception": false,
     "start_time": "2022-07-14T18:38:17.330497",
     "status": "completed"
    },
    "tags": []
   },
   "outputs": [
    {
     "name": "stdout",
     "output_type": "stream",
     "text": [
      "5\n"
     ]
    }
   ],
   "source": [
    "nb=0\n",
    "for example in (tables_extracted):\n",
    "    if len(example)> 0 :\n",
    "        nb=nb+1\n",
    "print(nb)"
   ]
  },
  {
   "cell_type": "code",
   "execution_count": 31,
   "id": "8a595cae",
   "metadata": {
    "execution": {
     "iopub.execute_input": "2022-07-14T18:38:17.378743Z",
     "iopub.status.busy": "2022-07-14T18:38:17.377610Z",
     "iopub.status.idle": "2022-07-14T18:38:17.383255Z",
     "shell.execute_reply": "2022-07-14T18:38:17.382178Z"
    },
    "papermill": {
     "duration": 0.02095,
     "end_time": "2022-07-14T18:38:17.385671",
     "exception": false,
     "start_time": "2022-07-14T18:38:17.364721",
     "status": "completed"
    },
    "tags": []
   },
   "outputs": [],
   "source": [
    "# for i in (contract[contract.tables_parsed == {}].sample(n=2).transcription_text.tolist()):\n",
    "\n",
    "#     print(i)\n",
    "#     print(\"\\n==========\\n\")"
   ]
  },
  {
   "cell_type": "code",
   "execution_count": null,
   "id": "8b10c0d9",
   "metadata": {
    "papermill": {
     "duration": 0.011747,
     "end_time": "2022-07-14T18:38:17.408988",
     "exception": false,
     "start_time": "2022-07-14T18:38:17.397241",
     "status": "completed"
    },
    "tags": []
   },
   "outputs": [],
   "source": []
  }
 ],
 "metadata": {
  "kernelspec": {
   "display_name": "Python 3",
   "language": "python",
   "name": "python3"
  },
  "language_info": {
   "codemirror_mode": {
    "name": "ipython",
    "version": 3
   },
   "file_extension": ".py",
   "mimetype": "text/x-python",
   "name": "python",
   "nbconvert_exporter": "python",
   "pygments_lexer": "ipython3",
   "version": "3.7.12"
  },
  "papermill": {
   "default_parameters": {},
   "duration": 71.466174,
   "end_time": "2022-07-14T18:38:18.343990",
   "environment_variables": {},
   "exception": null,
   "input_path": "__notebook__.ipynb",
   "output_path": "__notebook__.ipynb",
   "parameters": {},
   "start_time": "2022-07-14T18:37:06.877816",
   "version": "2.3.4"
  }
 },
 "nbformat": 4,
 "nbformat_minor": 5
}
