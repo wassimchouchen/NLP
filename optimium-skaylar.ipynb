{
 "cells": [
  {
   "cell_type": "code",
   "execution_count": 1,
   "id": "816f566d",
   "metadata": {
    "_cell_guid": "b1076dfc-b9ad-4769-8c92-a6c4dae69d19",
    "_kg_hide-output": true,
    "_uuid": "8f2839f25d086af736a60e9eeb907d3b93b6e0e5",
    "execution": {
     "iopub.execute_input": "2022-07-14T17:47:06.116144Z",
     "iopub.status.busy": "2022-07-14T17:47:06.115301Z",
     "iopub.status.idle": "2022-07-14T17:47:08.007346Z",
     "shell.execute_reply": "2022-07-14T17:47:08.006131Z"
    },
    "papermill": {
     "duration": 1.907816,
     "end_time": "2022-07-14T17:47:08.010597",
     "exception": false,
     "start_time": "2022-07-14T17:47:06.102781",
     "status": "completed"
    },
    "tags": []
   },
   "outputs": [],
   "source": [
    "# !pip install flair\n",
    "import time\n",
    "import string\n",
    "import warnings\n",
    "\n",
    "import regex as re\n",
    "from tqdm import tqdm\n",
    "\n",
    "\n",
    "import pickle\n",
    "import numpy as np\n",
    "import pandas as pd \n",
    "\n",
    "import seaborn as sns\n",
    "import matplotlib.pyplot as plt \n",
    "import matplotlib.style as stl \n",
    "\n",
    "\n",
    "\n",
    "from nltk.corpus import stopwords\n",
    "from nltk.corpus import stopwords\n",
    "from nltk.tokenize import word_tokenize\n",
    "from nltk.stem import WordNetLemmatizer\n",
    "from nltk.stem.snowball import SnowballStemmer\n",
    "\n",
    "\n",
    "warnings.filterwarnings(\"ignore\")"
   ]
  },
  {
   "cell_type": "code",
   "execution_count": 2,
   "id": "d38b2708",
   "metadata": {
    "execution": {
     "iopub.execute_input": "2022-07-14T17:47:08.033581Z",
     "iopub.status.busy": "2022-07-14T17:47:08.033160Z",
     "iopub.status.idle": "2022-07-14T17:47:15.957974Z",
     "shell.execute_reply": "2022-07-14T17:47:15.956690Z"
    },
    "papermill": {
     "duration": 7.939597,
     "end_time": "2022-07-14T17:47:15.961279",
     "exception": false,
     "start_time": "2022-07-14T17:47:08.021682",
     "status": "completed"
    },
    "tags": []
   },
   "outputs": [],
   "source": [
    "documents = pd.read_csv(\"../input/skylarfreedman/Documents-Table 1.csv\", on_bad_lines='skip', sep=\";\")"
   ]
  },
  {
   "cell_type": "code",
   "execution_count": 3,
   "id": "4cd6f3d7",
   "metadata": {
    "execution": {
     "iopub.execute_input": "2022-07-14T17:47:15.982964Z",
     "iopub.status.busy": "2022-07-14T17:47:15.982563Z",
     "iopub.status.idle": "2022-07-14T17:47:16.048179Z",
     "shell.execute_reply": "2022-07-14T17:47:16.046988Z"
    },
    "papermill": {
     "duration": 0.079901,
     "end_time": "2022-07-14T17:47:16.050806",
     "exception": false,
     "start_time": "2022-07-14T17:47:15.970905",
     "status": "completed"
    },
    "tags": []
   },
   "outputs": [],
   "source": [
    "contract = documents[documents.Category == \"Contracts\"]\n",
    "contract = contract[[\"document_id\", \"project_id\", \"transcription_text\"]]"
   ]
  },
  {
   "cell_type": "code",
   "execution_count": 4,
   "id": "a5291f20",
   "metadata": {
    "execution": {
     "iopub.execute_input": "2022-07-14T17:47:16.072770Z",
     "iopub.status.busy": "2022-07-14T17:47:16.071870Z",
     "iopub.status.idle": "2022-07-14T17:47:16.085662Z",
     "shell.execute_reply": "2022-07-14T17:47:16.084437Z"
    },
    "papermill": {
     "duration": 0.027826,
     "end_time": "2022-07-14T17:47:16.088403",
     "exception": false,
     "start_time": "2022-07-14T17:47:16.060577",
     "status": "completed"
    },
    "tags": []
   },
   "outputs": [],
   "source": [
    "contract = contract[pd.notnull(contract['transcription_text'])]\n",
    "contract = contract.reset_index(drop=True)"
   ]
  },
  {
   "cell_type": "markdown",
   "id": "64bd7e81",
   "metadata": {
    "papermill": {
     "duration": 0.009708,
     "end_time": "2022-07-14T17:47:16.108552",
     "exception": false,
     "start_time": "2022-07-14T17:47:16.098844",
     "status": "completed"
    },
    "tags": []
   },
   "source": [
    "# Preprocessing"
   ]
  },
  {
   "cell_type": "code",
   "execution_count": 5,
   "id": "4b42af3a",
   "metadata": {
    "execution": {
     "iopub.execute_input": "2022-07-14T17:47:16.130403Z",
     "iopub.status.busy": "2022-07-14T17:47:16.129987Z",
     "iopub.status.idle": "2022-07-14T17:47:16.142608Z",
     "shell.execute_reply": "2022-07-14T17:47:16.141452Z"
    },
    "papermill": {
     "duration": 0.026915,
     "end_time": "2022-07-14T17:47:16.145274",
     "exception": false,
     "start_time": "2022-07-14T17:47:16.118359",
     "status": "completed"
    },
    "tags": []
   },
   "outputs": [],
   "source": [
    "stop_words = set(stopwords.words('english'))\n",
    "punctuation = string.punctuation\n",
    "stemmer = SnowballStemmer(language=\"english\")\n",
    "lemmatizer = WordNetLemmatizer()\n",
    "stop_words.remove(\"of\")\n",
    "punct='!\"#$%&\\'()*+-/<=>?@[\\\\]^_`{|}~'\n",
    "\n",
    "def process(s):\n",
    "    \"\"\"Removes stop words, words in brackets\n",
    "    and parentheses, and special characters.\n",
    "    \"\"\"\n",
    "    \n",
    "    s= re.sub(\"([\\(\\[]).*?([\\)\\]])\",\" \",s)\n",
    "    for p in punct:\n",
    "        s = s.replace(p, '')\n",
    "    s = word_tokenize(s)\n",
    "    s = [w for w in s if not w in stop_words] #optional\n",
    "    return s"
   ]
  },
  {
   "cell_type": "code",
   "execution_count": 6,
   "id": "1860ed11",
   "metadata": {
    "execution": {
     "iopub.execute_input": "2022-07-14T17:47:16.166460Z",
     "iopub.status.busy": "2022-07-14T17:47:16.165807Z",
     "iopub.status.idle": "2022-07-14T17:48:02.169402Z",
     "shell.execute_reply": "2022-07-14T17:48:02.168473Z"
    },
    "papermill": {
     "duration": 46.016971,
     "end_time": "2022-07-14T17:48:02.171930",
     "exception": false,
     "start_time": "2022-07-14T17:47:16.154959",
     "status": "completed"
    },
    "tags": []
   },
   "outputs": [],
   "source": [
    "contract[\"processed_text\"] = contract[\"transcription_text\"].apply(process)\n",
    "contract[\"processed_text\"] = contract[\"processed_text\"].apply(lambda x: \" \".join(x))"
   ]
  },
  {
   "cell_type": "code",
   "execution_count": 7,
   "id": "d7c97218",
   "metadata": {
    "execution": {
     "iopub.execute_input": "2022-07-14T17:48:02.193994Z",
     "iopub.status.busy": "2022-07-14T17:48:02.193273Z",
     "iopub.status.idle": "2022-07-14T17:48:02.208479Z",
     "shell.execute_reply": "2022-07-14T17:48:02.207561Z"
    },
    "papermill": {
     "duration": 0.028633,
     "end_time": "2022-07-14T17:48:02.210855",
     "exception": false,
     "start_time": "2022-07-14T17:48:02.182222",
     "status": "completed"
    },
    "tags": []
   },
   "outputs": [],
   "source": [
    "def parse_table_to_dict(example) :\n",
    "    \n",
    "    def clean_record(x) :\n",
    "        if x.strip() == \"\":\n",
    "            return \" \"\n",
    "        return x.strip().replace(\"{\", \"\").replace(\"}\", \"\")\n",
    "\n",
    "    table_dict = {}\n",
    "\n",
    "    if \"name\" in example[0].lower():\n",
    "\n",
    "        cols = []\n",
    "        for col in example[0].split(\"|\"):\n",
    "            if col.strip() == \"\":\n",
    "                cols.append(col)\n",
    "            else:\n",
    "                cols.append(col.strip().lower().replace(\" \", \"_\").replace(\".\", \"\"))\n",
    "\n",
    "        values = np.array([list(map(clean_record, i.split(\"|\"))) for i in example[1:]])\n",
    "\n",
    "    else:\n",
    "\n",
    "        n_cols = len(example[0].split(\"|\"))\n",
    "        cols = [f\"col_{i}\" for i in range(n_cols)]\n",
    "\n",
    "        values = np.array([list(map(clean_record, i.split(\"|\"))) for i in example])\n",
    "        \n",
    "    \n",
    "    #Remove empty rows ([\"----\", \"-----\", \"-----\"])\n",
    "    new_values = []\n",
    "    for line in values:\n",
    "        line_chars = list(set(\"\".join([i.strip() for i in line])))\n",
    "        \n",
    "        if len(line_chars) != 0 and (line_chars[0] != \"-\" or len(line_chars) != 0):\n",
    "            new_values.append(line.tolist())\n",
    "            \n",
    "    values = np.array(new_values)\n",
    "            \n",
    "    if values.reshape(-1).shape[0] != 0:\n",
    "        for i, col in enumerate(cols):\n",
    "            table_dict[col] = values[:, i].tolist()\n",
    "            \n",
    "        return table_dict\n",
    "    \n",
    "    else:\n",
    "        \n",
    "        return {} "
   ]
  },
  {
   "cell_type": "code",
   "execution_count": 8,
   "id": "bf8998f5",
   "metadata": {
    "execution": {
     "iopub.execute_input": "2022-07-14T17:48:02.233109Z",
     "iopub.status.busy": "2022-07-14T17:48:02.232273Z",
     "iopub.status.idle": "2022-07-14T17:48:02.254786Z",
     "shell.execute_reply": "2022-07-14T17:48:02.253866Z"
    },
    "papermill": {
     "duration": 0.036852,
     "end_time": "2022-07-14T17:48:02.257607",
     "exception": false,
     "start_time": "2022-07-14T17:48:02.220755",
     "status": "completed"
    },
    "tags": []
   },
   "outputs": [
    {
     "data": {
      "text/html": [
       "<div>\n",
       "<style scoped>\n",
       "    .dataframe tbody tr th:only-of-type {\n",
       "        vertical-align: middle;\n",
       "    }\n",
       "\n",
       "    .dataframe tbody tr th {\n",
       "        vertical-align: top;\n",
       "    }\n",
       "\n",
       "    .dataframe thead th {\n",
       "        text-align: right;\n",
       "    }\n",
       "</style>\n",
       "<table border=\"1\" class=\"dataframe\">\n",
       "  <thead>\n",
       "    <tr style=\"text-align: right;\">\n",
       "      <th></th>\n",
       "      <th>document_id</th>\n",
       "      <th>project_id</th>\n",
       "      <th>transcription_text</th>\n",
       "      <th>processed_text</th>\n",
       "    </tr>\n",
       "  </thead>\n",
       "  <tbody>\n",
       "    <tr>\n",
       "      <th>0</th>\n",
       "      <td>NMAAHC-004567394_00861</td>\n",
       "      <td>11400</td>\n",
       "      <td>[D104 ENCL]\\r\\nNorth Carolina\\r\\nThis indentur...</td>\n",
       "      <td>North Carolina This indenture made entered Thi...</td>\n",
       "    </tr>\n",
       "    <tr>\n",
       "      <th>1</th>\n",
       "      <td>NMAAHC-004567394_00957</td>\n",
       "      <td>11400</td>\n",
       "      <td>[E 11 ENCL] \\r\\n\\r\\n\\r\\nState of North Carolin...</td>\n",
       "      <td>State of North Carolina Currituck County . Thi...</td>\n",
       "    </tr>\n",
       "    <tr>\n",
       "      <th>2</th>\n",
       "      <td>NMAAHC-004567394_00958</td>\n",
       "      <td>11400</td>\n",
       "      <td>near Lizzie Etheridge's gate, thence South 56 ...</td>\n",
       "      <td>near Lizzie Etheridges gate , thence South 56 ...</td>\n",
       "    </tr>\n",
       "    <tr>\n",
       "      <th>3</th>\n",
       "      <td>NMAAHC-004567395_00439</td>\n",
       "      <td>11406</td>\n",
       "      <td>Copy\\r\\n\\r\\nAgreement of Apprenticeship\\r\\nBu ...</td>\n",
       "      <td>Copy Agreement of Apprenticeship Bu Mrs. Kate ...</td>\n",
       "    </tr>\n",
       "    <tr>\n",
       "      <th>4</th>\n",
       "      <td>NMAAHC-004567395_00440</td>\n",
       "      <td>11406</td>\n",
       "      <td>[H 132 ENCL] \\r\\n\\r\\nCopy\\r\\n\\r\\nAgreement of ...</td>\n",
       "      <td>Copy Agreement of Apprenticeship . This agreem...</td>\n",
       "    </tr>\n",
       "    <tr>\n",
       "      <th>...</th>\n",
       "      <td>...</td>\n",
       "      <td>...</td>\n",
       "      <td>...</td>\n",
       "      <td>...</td>\n",
       "    </tr>\n",
       "    <tr>\n",
       "      <th>23724</th>\n",
       "      <td>NMAAHC-007677332_01525</td>\n",
       "      <td>41539</td>\n",
       "      <td>\\N</td>\n",
       "      <td>N</td>\n",
       "    </tr>\n",
       "    <tr>\n",
       "      <th>23725</th>\n",
       "      <td>NMAAHC-007677332_01526</td>\n",
       "      <td>41539</td>\n",
       "      <td>\\N</td>\n",
       "      <td>N</td>\n",
       "    </tr>\n",
       "    <tr>\n",
       "      <th>23726</th>\n",
       "      <td>NMAAHC-007677332_01527</td>\n",
       "      <td>41539</td>\n",
       "      <td>\\N</td>\n",
       "      <td>N</td>\n",
       "    </tr>\n",
       "    <tr>\n",
       "      <th>23727</th>\n",
       "      <td>NMAAHC-007677332_01528</td>\n",
       "      <td>41539</td>\n",
       "      <td>Jo</td>\n",
       "      <td>Jo</td>\n",
       "    </tr>\n",
       "    <tr>\n",
       "      <th>23728</th>\n",
       "      <td>NMAAHC-007677332_01529</td>\n",
       "      <td>41539</td>\n",
       "      <td>\\N</td>\n",
       "      <td>N</td>\n",
       "    </tr>\n",
       "  </tbody>\n",
       "</table>\n",
       "<p>23729 rows × 4 columns</p>\n",
       "</div>"
      ],
      "text/plain": [
       "                  document_id  project_id  \\\n",
       "0      NMAAHC-004567394_00861       11400   \n",
       "1      NMAAHC-004567394_00957       11400   \n",
       "2      NMAAHC-004567394_00958       11400   \n",
       "3      NMAAHC-004567395_00439       11406   \n",
       "4      NMAAHC-004567395_00440       11406   \n",
       "...                       ...         ...   \n",
       "23724  NMAAHC-007677332_01525       41539   \n",
       "23725  NMAAHC-007677332_01526       41539   \n",
       "23726  NMAAHC-007677332_01527       41539   \n",
       "23727  NMAAHC-007677332_01528       41539   \n",
       "23728  NMAAHC-007677332_01529       41539   \n",
       "\n",
       "                                      transcription_text  \\\n",
       "0      [D104 ENCL]\\r\\nNorth Carolina\\r\\nThis indentur...   \n",
       "1      [E 11 ENCL] \\r\\n\\r\\n\\r\\nState of North Carolin...   \n",
       "2      near Lizzie Etheridge's gate, thence South 56 ...   \n",
       "3      Copy\\r\\n\\r\\nAgreement of Apprenticeship\\r\\nBu ...   \n",
       "4      [H 132 ENCL] \\r\\n\\r\\nCopy\\r\\n\\r\\nAgreement of ...   \n",
       "...                                                  ...   \n",
       "23724                                                 \\N   \n",
       "23725                                                 \\N   \n",
       "23726                                                 \\N   \n",
       "23727                                                 Jo   \n",
       "23728                                                 \\N   \n",
       "\n",
       "                                          processed_text  \n",
       "0      North Carolina This indenture made entered Thi...  \n",
       "1      State of North Carolina Currituck County . Thi...  \n",
       "2      near Lizzie Etheridges gate , thence South 56 ...  \n",
       "3      Copy Agreement of Apprenticeship Bu Mrs. Kate ...  \n",
       "4      Copy Agreement of Apprenticeship . This agreem...  \n",
       "...                                                  ...  \n",
       "23724                                                  N  \n",
       "23725                                                  N  \n",
       "23726                                                  N  \n",
       "23727                                                 Jo  \n",
       "23728                                                  N  \n",
       "\n",
       "[23729 rows x 4 columns]"
      ]
     },
     "execution_count": 8,
     "metadata": {},
     "output_type": "execute_result"
    }
   ],
   "source": [
    "contract"
   ]
  },
  {
   "cell_type": "code",
   "execution_count": 9,
   "id": "e1ac6e44",
   "metadata": {
    "execution": {
     "iopub.execute_input": "2022-07-14T17:48:02.281314Z",
     "iopub.status.busy": "2022-07-14T17:48:02.280207Z",
     "iopub.status.idle": "2022-07-14T17:48:02.290641Z",
     "shell.execute_reply": "2022-07-14T17:48:02.289413Z"
    },
    "papermill": {
     "duration": 0.025567,
     "end_time": "2022-07-14T17:48:02.293234",
     "exception": false,
     "start_time": "2022-07-14T17:48:02.267667",
     "status": "completed"
    },
    "tags": []
   },
   "outputs": [],
   "source": [
    "t=[]\n",
    "t.append(\"\"\"[[7 column table]]\n",
    "No. | NAME. | AGE. | WAGES. DOLLS. | [[WAGES.]] CTS. | MONTHLY PAYM'T. DOLLS. | [[MONTHLY PAYM'T.]] CTS.\n",
    "[[/preprinted]]\n",
    "\n",
    "1 | Sarah | 17 | 2 | 50 | 1 | 75 \"\"\")\n",
    "t.append(\"\"\"[[5 columned table]]\n",
    "| No. | NAMES. | AGE. | RATE of PAY per month. Dols. | RATE of PAY per month. Cents. |         \n",
    "| --- | --- | --- | --- | --- | \n",
    "| 1861 | Phillip Carr | 13 | 100 | 00 |\"\"\")\n",
    "t.append(\"\"\"|NAMES.|AGE.|MONTHLY RATE OF WAGES.|INTEREST IN PROFITS.|\n",
    "|Frances her x mark|16|none|none.\n",
    "\n",
    "\n",
    "DEPENDENTS.\n",
    "|NAMES.|AGE.|NAMES.|AGE.|\"\"\")\n",
    "t.append(\"\"\"[[6 Columned Table]]\n",
    "| NAME | AGE | SEX | CLASS | MONTHLY RATE OF WAGES. | INTEREST IN PROFITS. |\n",
    "|---|---|---|---|---|---|\n",
    "| Franklin | 21 | Male | 1st | $8.00 |\n",
    "[[/6 columned table]]\n",
    "\"\"\")\n",
    "t.append(\"\"\"[[3 columned table]]\n",
    "| --- | --- | --- |\n",
    "| 1866 June 16th | Approved Contracted between John L. Banks and Merrit Sanders 'fm, for farming this year | J.L.B. is to furnish Lands, teams, Seed, and farming implements. Three (3) Bls of corn, Two Hundred and fifty (250) Lbs of Pork. Leather for two (2) pair of Shoes (Mens). Pay two thirds (2/3) of wages paid to hired hands and give sd. Merritt Sanders one third (1/3) of crops made. \n",
    "M.S. is to work on said Lands the whole year. pay one third (1/3) of the hire to hands and furnish some assistance on sd. Lands from his family. | [[note]]\n",
    "\n",
    "| June 18 | Approved Contract between W.H. Sanders and Thomas Campbell 'fm, for farming dated March 1st 1866- | W.H. Sanders is to furnish lands, one horse, seed and feed for horse and receive two thirds (2/3) of crops. Freedman Thomas Campbell is to furnish himself and produce crops on said Lands and retain one third (1/3) of crops, and to keep the ditches open on said lands, occupied by his crops |\n",
    "\n",
    "| June 18 | Approved Contract between David S. Henry and Freedmen Parson Avery, Jackson Sanders and Reuben Sanders for farming dated June 6th 1866. | David S. Avery to furnish Lands Seeds and Teams. Parson Avery Jackson Sanders and Reuben Sanders freedmen to perform the manual labor necessary to make crops with said teams & Seeds and Lands furnished to keep up the fences and care properly for the stock and implements, and receive one third (1/3) of the crops. \n",
    "Sd. David S. Avery to receive two thirds (2/3) of the crops, and afford each of said Freedman a garden for Corn, Potatoes &c, &c rent free. | \"\"\")\n",
    "t.append(\"\"\"\n",
    "[[5 column table]]\n",
    "\n",
    "|NAMES.|AGE.|SEX.|MONTHLY RATE OF WAGES.|INTEREST IN PROFITS.|\n",
    "|Margery X (her mark) Russell|30|female|none|none|\n",
    "\n",
    "[[/5 column table]]\n",
    "\n",
    "DEPENDENTS.\n",
    "\n",
    "[[6 column table]]\n",
    "\n",
    "|NAMES.|AGE.|SEX.|NAMES.|AGE.|SEX.|\n",
    "|Phillis|9|female|   |   |   |\n",
    "|Emma|6|female|   |   |   |\n",
    "\n",
    "[[/6 column table]]\"\"\")\n",
    "t.append(\"\"\"|No.|Name|Age|Rate of pay per month. Dols Cts.\n",
    "|1|Martha Willis|21|   | \"\"\")\n",
    "t2=t"
   ]
  },
  {
   "cell_type": "code",
   "execution_count": 10,
   "id": "c8847312",
   "metadata": {
    "execution": {
     "iopub.execute_input": "2022-07-14T17:48:02.315773Z",
     "iopub.status.busy": "2022-07-14T17:48:02.315349Z",
     "iopub.status.idle": "2022-07-14T17:48:02.322590Z",
     "shell.execute_reply": "2022-07-14T17:48:02.321131Z"
    },
    "papermill": {
     "duration": 0.021141,
     "end_time": "2022-07-14T17:48:02.324957",
     "exception": false,
     "start_time": "2022-07-14T17:48:02.303816",
     "status": "completed"
    },
    "tags": []
   },
   "outputs": [],
   "source": [
    "tb=[\"\"\"[[table]]\n",
    "No. | NAME. | AGE. | ^[[Twelve months]] WAGES. DOLLS. CTS. | MONTHLY PAYM'T. DOLLS. CTS. [[/preprinted]]\n",
    "|Phil Shaver His x mark|33|$144|00|2|00\n",
    "|John Leo His x mark|16|72|00|1|50\n",
    "|Mumford Randleman His x mark|25|120|00|2|00\n",
    "|Adam Fisher His x mark|25|144|00|2|00\n",
    "|Emma Fisher Her x mark|19|72|00|2|00\n",
    "|Joseph Thompson His x mark|19|144|00|2|00\n",
    "|Henry Kelly Ale His mark x|20|144|00|2|00\n",
    "|Samuel Gillespie His x mark|22|120|00|2|00\n",
    "|Nathan Foard His x mark|40|144|00|2|00\n",
    "|Jordan Cox, His x mark|19|120|00|2|00\n",
    "|Ann Tyson Her x mark|18|84|00|2|00\n",
    "|Liza Dixon Her x mark|30|84|00|2|00\n",
    "|Ceily Auston Her x mark||25|00|84|00\n",
    "|Leon Foard His x mark|13|72|00|2|00\n",
    "|Silas Foard His x mark|10|60|00|2|00\n",
    "|Alfred P. Dixon His x mark|10|48|00|2|00\n",
    "|Mary Hall Her x mark|25|72|00|2|00\n",
    "|Hicksey Her x mark|25|72|00|2|00\n",
    "|Dennis His x mark|14|48|00|2|00\n",
    "|George Little & His x mark|31|120|00|2|00\n",
    "|Wife|23|96|00|1|00\n",
    "|Will Alfred & His x mark|28|120|00|2|00\n",
    "|Wife|19|96|00|2|00\n",
    "|Henry Myers His x mark|22|144|00|2|00\n",
    "|Thomas Granderson His x mark|24|120|00|2|00\n",
    "|Fred Deaton His x mark|23|120|00|2|00\n",
    "|[[Illegible - final line of page is cut off]]|14|72|00|2|00\n",
    "[[/Table]]\"\"\"]\n",
    "tb.append(\"\"\"[[3 column table - no headers]]\n",
    "|---|---|---|\n",
    "|Stephen Barni-|25|Male|\n",
    "|Eve. wife|22|F|\n",
    "|Martin Morrsham|18.|M.|\n",
    "|Wm Marshall|22|M.|\n",
    "|Oliver Hudgrim|19|M.|\n",
    "|John Lunford?|16|M.|\n",
    "|George Hargroves-|21|M.|\n",
    "|Richard Gibbs|15|M.|\n",
    "|& Babe Fannie Martin|19|F|\n",
    "|Senior Gates|33|M|\n",
    "|Bates Hiate|22|M|\n",
    "|John Hiate-|21|M|\n",
    "|Ned Sides-|22|M|\n",
    "|Lawson Patterson|22|M|\n",
    "|John Riverly|30|M|\n",
    "|Soleman Miller|28|M|\n",
    "|Moses Todd|23|M|\n",
    "|Peter Stubbs|33|M|\n",
    "|Sarah wife|28|F|\n",
    "|John Sim|12|M.|\n",
    "|Sam Jones|38|M|\n",
    "|Celia wife-|34|F|\n",
    "|Arter Son|16|M|\n",
    "|Sallie daughter|14|F|\n",
    "|Jim son|12|M|\n",
    "|Epraim Bennet|19|Male|\n",
    "|Sam Marsh|24|Male| \"\"\")"
   ]
  },
  {
   "cell_type": "code",
   "execution_count": 11,
   "id": "1be2f11c",
   "metadata": {
    "execution": {
     "iopub.execute_input": "2022-07-14T17:48:02.347353Z",
     "iopub.status.busy": "2022-07-14T17:48:02.346691Z",
     "iopub.status.idle": "2022-07-14T17:48:02.352923Z",
     "shell.execute_reply": "2022-07-14T17:48:02.351628Z"
    },
    "papermill": {
     "duration": 0.020599,
     "end_time": "2022-07-14T17:48:02.355553",
     "exception": false,
     "start_time": "2022-07-14T17:48:02.334954",
     "status": "completed"
    },
    "tags": []
   },
   "outputs": [
    {
     "name": "stdout",
     "output_type": "stream",
     "text": [
      "[[3 column table - no headers]]\n",
      "|---|---|---|\n",
      "|Stephen Barni-|25|Male|\n",
      "|Eve. wife|22|F|\n",
      "|Martin Morrsham|18.|M.|\n",
      "|Wm Marshall|22|M.|\n",
      "|Oliver Hudgrim|19|M.|\n",
      "|John Lunford?|16|M.|\n",
      "|George Hargroves-|21|M.|\n",
      "|Richard Gibbs|15|M.|\n",
      "|& Babe Fannie Martin|19|F|\n",
      "|Senior Gates|33|M|\n",
      "|Bates Hiate|22|M|\n",
      "|John Hiate-|21|M|\n",
      "|Ned Sides-|22|M|\n",
      "|Lawson Patterson|22|M|\n",
      "|John Riverly|30|M|\n",
      "|Soleman Miller|28|M|\n",
      "|Moses Todd|23|M|\n",
      "|Peter Stubbs|33|M|\n",
      "|Sarah wife|28|F|\n",
      "|John Sim|12|M.|\n",
      "|Sam Jones|38|M|\n",
      "|Celia wife-|34|F|\n",
      "|Arter Son|16|M|\n",
      "|Sallie daughter|14|F|\n",
      "|Jim son|12|M|\n",
      "|Epraim Bennet|19|Male|\n",
      "|Sam Marsh|24|Male| \n"
     ]
    }
   ],
   "source": [
    "print(tb[1])"
   ]
  },
  {
   "cell_type": "code",
   "execution_count": 12,
   "id": "04d08f55",
   "metadata": {
    "execution": {
     "iopub.execute_input": "2022-07-14T17:48:02.377544Z",
     "iopub.status.busy": "2022-07-14T17:48:02.377129Z",
     "iopub.status.idle": "2022-07-14T17:48:02.382971Z",
     "shell.execute_reply": "2022-07-14T17:48:02.381643Z"
    },
    "papermill": {
     "duration": 0.019909,
     "end_time": "2022-07-14T17:48:02.385533",
     "exception": false,
     "start_time": "2022-07-14T17:48:02.365624",
     "status": "completed"
    },
    "tags": []
   },
   "outputs": [
    {
     "name": "stdout",
     "output_type": "stream",
     "text": [
      "[[3 columned table]]\n",
      "| --- | --- | --- |\n",
      "| 1866 June 16th | Approved Contracted between John L. Banks and Merrit Sanders 'fm, for farming this year | J.L.B. is to furnish Lands, teams, Seed, and farming implements. Three (3) Bls of corn, Two Hundred and fifty (250) Lbs of Pork. Leather for two (2) pair of Shoes (Mens). Pay two thirds (2/3) of wages paid to hired hands and give sd. Merritt Sanders one third (1/3) of crops made. \n",
      "M.S. is to work on said Lands the whole year. pay one third (1/3) of the hire to hands and furnish some assistance on sd. Lands from his family. | [[note]]\n",
      "\n",
      "| June 18 | Approved Contract between W.H. Sanders and Thomas Campbell 'fm, for farming dated March 1st 1866- | W.H. Sanders is to furnish lands, one horse, seed and feed for horse and receive two thirds (2/3) of crops. Freedman Thomas Campbell is to furnish himself and produce crops on said Lands and retain one third (1/3) of crops, and to keep the ditches open on said lands, occupied by his crops |\n",
      "\n",
      "| June 18 | Approved Contract between David S. Henry and Freedmen Parson Avery, Jackson Sanders and Reuben Sanders for farming dated June 6th 1866. | David S. Avery to furnish Lands Seeds and Teams. Parson Avery Jackson Sanders and Reuben Sanders freedmen to perform the manual labor necessary to make crops with said teams & Seeds and Lands furnished to keep up the fences and care properly for the stock and implements, and receive one third (1/3) of the crops. \n",
      "Sd. David S. Avery to receive two thirds (2/3) of the crops, and afford each of said Freedman a garden for Corn, Potatoes &c, &c rent free. | \n"
     ]
    }
   ],
   "source": [
    "print(t2[4])"
   ]
  },
  {
   "cell_type": "code",
   "execution_count": 13,
   "id": "e795332b",
   "metadata": {
    "execution": {
     "iopub.execute_input": "2022-07-14T17:48:02.407825Z",
     "iopub.status.busy": "2022-07-14T17:48:02.407444Z",
     "iopub.status.idle": "2022-07-14T17:48:02.412232Z",
     "shell.execute_reply": "2022-07-14T17:48:02.411006Z"
    },
    "papermill": {
     "duration": 0.018698,
     "end_time": "2022-07-14T17:48:02.414703",
     "exception": false,
     "start_time": "2022-07-14T17:48:02.396005",
     "status": "completed"
    },
    "tags": []
   },
   "outputs": [],
   "source": [
    "t1=t2"
   ]
  },
  {
   "cell_type": "code",
   "execution_count": 14,
   "id": "df53490e",
   "metadata": {
    "execution": {
     "iopub.execute_input": "2022-07-14T17:48:02.437056Z",
     "iopub.status.busy": "2022-07-14T17:48:02.436678Z",
     "iopub.status.idle": "2022-07-14T17:48:02.453293Z",
     "shell.execute_reply": "2022-07-14T17:48:02.451660Z"
    },
    "papermill": {
     "duration": 0.032084,
     "end_time": "2022-07-14T17:48:02.456862",
     "exception": false,
     "start_time": "2022-07-14T17:48:02.424778",
     "status": "completed"
    },
    "tags": []
   },
   "outputs": [],
   "source": [
    "contract_text = contract.transcription_text.tolist()\n",
    "\n",
    "lns = []\n",
    "tables_extracted = []\n",
    "all_table_pairs = []\n",
    "idx = 0\n",
    "\n",
    "for table_text in t2:\n",
    "\n",
    "    tmp_tables = []\n",
    "    table_text = table_text.replace(\"[\", \"\").replace(\"]\", \"\").replace(\"^\", \"\")\n",
    "    \n",
    "    lines = table_text.split(\"\\n\")\n",
    "    lines = [i for i in lines if len(i.strip()) != 0]\n",
    "    \n",
    "    separator_counts = []\n",
    "    table_pairs  = []\n",
    "    \n",
    "    start = 0\n",
    "    end = 0\n",
    "    streak = 0\n",
    "    \n",
    "    for line_n, line in enumerate(lines):\n",
    "        \n",
    "        separator_count = line.count(\"|\")   \n",
    "        \n",
    "        condition_1 = len(separator_counts) == 0 or separator_count == separator_counts[-1]\n",
    "        condition_2 = separator_count != 0\n",
    "            \n",
    "        #If you find the beginning of a table, take note\n",
    "        if condition_1 and condition_2:\n",
    "            if streak == 0:\n",
    "                start = line_n\n",
    "            streak += 1\n",
    "        else:\n",
    "            if streak != 0:\n",
    "                table_pairs.append((start, line_n))\n",
    "                all_table_pairs.append((start, line_n, idx))\n",
    "            streak = 0\n",
    "            start = 0\n",
    "    \n",
    "        separator_counts.append(separator_count)\n",
    "        \n",
    "    if streak > 0:\n",
    "        table_pairs.append((start, line_n))\n",
    "        all_table_pairs.append((start, line_n, idx))\n",
    "        \n",
    "    if len(table_pairs) > 0:\n",
    "        for i, pair in enumerate(table_pairs):\n",
    "            table = lines[pair[0]-1:pair[1]]\n",
    "            tmp_tables.append(table)\n",
    "            \n",
    "        tables_extracted.append(tmp_tables[0])\n",
    "        \n",
    "    else:\n",
    "        tables_extracted.append([])\n",
    "        \n",
    "        \n",
    "    idx += 1"
   ]
  },
  {
   "cell_type": "code",
   "execution_count": 15,
   "id": "871ce56b",
   "metadata": {
    "execution": {
     "iopub.execute_input": "2022-07-14T17:48:02.479924Z",
     "iopub.status.busy": "2022-07-14T17:48:02.479458Z",
     "iopub.status.idle": "2022-07-14T17:48:02.489300Z",
     "shell.execute_reply": "2022-07-14T17:48:02.487752Z"
    },
    "papermill": {
     "duration": 0.024311,
     "end_time": "2022-07-14T17:48:02.491832",
     "exception": false,
     "start_time": "2022-07-14T17:48:02.467521",
     "status": "completed"
    },
    "tags": []
   },
   "outputs": [
    {
     "data": {
      "text/plain": [
       "[[],\n",
       " ['| No. | NAMES. | AGE. | RATE of PAY per month. Dols. | RATE of PAY per month. Cents. |         ',\n",
       "  '| --- | --- | --- | --- | --- | '],\n",
       " [],\n",
       " ['| NAME | AGE | SEX | CLASS | MONTHLY RATE OF WAGES. | INTEREST IN PROFITS. |',\n",
       "  '|---|---|---|---|---|---|'],\n",
       " [],\n",
       " ['|NAMES.|AGE.|SEX.|MONTHLY RATE OF WAGES.|INTEREST IN PROFITS.|',\n",
       "  '|Margery X (her mark) Russell|30|female|none|none|'],\n",
       " []]"
      ]
     },
     "execution_count": 15,
     "metadata": {},
     "output_type": "execute_result"
    }
   ],
   "source": [
    "tables_extracted"
   ]
  },
  {
   "cell_type": "code",
   "execution_count": 16,
   "id": "b0fdc575",
   "metadata": {
    "execution": {
     "iopub.execute_input": "2022-07-14T17:48:02.516598Z",
     "iopub.status.busy": "2022-07-14T17:48:02.515864Z",
     "iopub.status.idle": "2022-07-14T17:48:02.522096Z",
     "shell.execute_reply": "2022-07-14T17:48:02.520960Z"
    },
    "papermill": {
     "duration": 0.021732,
     "end_time": "2022-07-14T17:48:02.524469",
     "exception": false,
     "start_time": "2022-07-14T17:48:02.502737",
     "status": "completed"
    },
    "tags": []
   },
   "outputs": [],
   "source": [
    "dcts = []\n",
    "\n",
    "for i, example in enumerate(tables_extracted):\n",
    "    if example != [] and len(example) > 2:\n",
    "        dcts.append(parse_table_to_dict(example))\n",
    "    else:\n",
    "        dcts.append({})"
   ]
  },
  {
   "cell_type": "code",
   "execution_count": 17,
   "id": "e0647b7a",
   "metadata": {
    "execution": {
     "iopub.execute_input": "2022-07-14T17:48:02.546676Z",
     "iopub.status.busy": "2022-07-14T17:48:02.546269Z",
     "iopub.status.idle": "2022-07-14T17:48:02.553675Z",
     "shell.execute_reply": "2022-07-14T17:48:02.552279Z"
    },
    "papermill": {
     "duration": 0.021522,
     "end_time": "2022-07-14T17:48:02.556307",
     "exception": false,
     "start_time": "2022-07-14T17:48:02.534785",
     "status": "completed"
    },
    "tags": []
   },
   "outputs": [
    {
     "data": {
      "text/plain": [
       "[{}, {}, {}, {}, {}, {}, {}]"
      ]
     },
     "execution_count": 17,
     "metadata": {},
     "output_type": "execute_result"
    }
   ],
   "source": [
    "dcts"
   ]
  },
  {
   "cell_type": "code",
   "execution_count": 18,
   "id": "77ac120b",
   "metadata": {
    "execution": {
     "iopub.execute_input": "2022-07-14T17:48:02.579226Z",
     "iopub.status.busy": "2022-07-14T17:48:02.578782Z",
     "iopub.status.idle": "2022-07-14T17:48:02.594972Z",
     "shell.execute_reply": "2022-07-14T17:48:02.594151Z"
    },
    "papermill": {
     "duration": 0.030587,
     "end_time": "2022-07-14T17:48:02.597498",
     "exception": false,
     "start_time": "2022-07-14T17:48:02.566911",
     "status": "completed"
    },
    "tags": []
   },
   "outputs": [],
   "source": [
    "contract_text = contract.transcription_text.tolist()\n",
    "\n",
    "lns = []\n",
    "tables_extracted = []\n",
    "all_table_pairs = []\n",
    "idx = 0\n",
    "\n",
    "for table_text in t2:\n",
    "\n",
    "    tmp_tables = []\n",
    "    table_text = table_text.replace(\"[\", \"\").replace(\"]\", \"\").replace(\"^\", \"\")\n",
    "    \n",
    "    lines = table_text.split(\"\\n\")\n",
    "    lines = [i for i in lines if len(i.strip()) != 0]\n",
    "    separator_counts = []\n",
    "    table_pairs  = []\n",
    "    \n",
    "    start = 0\n",
    "    end = 0\n",
    "    streak = 0\n",
    "    lns=[]\n",
    "#     \"\"\"i removed lines without separator \"\"\"\n",
    "#     for j in lines:\n",
    "#          if  j.count(\"|\") ==0:\n",
    "#                 lines.remove(j)\n",
    "                \n",
    "        \n",
    "#    print(lines , \"\\n\\n\")\n",
    "    \n",
    "    for line_n, line in enumerate(lines):\n",
    "        \n",
    "        separator_count = line.count(\"|\")\n",
    "        \n",
    "        if separator_count !=0:\n",
    "            continue\n",
    "            \n",
    "        \n",
    "        #print(line ,separator_count, \"\\n\\n\")\n",
    "        \n",
    "        \"\"\"i add the condition where the next line contain more and less separators than the previous line \"\"\"\n",
    "        \n",
    "        condition_1 = len(separator_counts) == 0  or separator_count == separator_counts[-1] or separator_count > separator_counts[-1] or separator_count < separator_counts[-1]\n",
    "        condition_2 = separator_count != 0\n",
    "            \n",
    "         #If you find the beginning of a table, take note\n",
    "        if (condition_1 and condition_2):\n",
    "            if streak == 0:\n",
    "                start = line_n\n",
    "            streak += 1\n",
    "        else:\n",
    "            if streak != 0 :\n",
    "                table_pairs.append((start, line_n))\n",
    "                all_table_pairs.append((start, line_n, idx))\n",
    "#             streak = 0\n",
    "#             start = 0\n",
    "    \n",
    "        separator_counts.append(separator_count)\n",
    "        \n",
    "    \n",
    "    if streak > 0:\n",
    "        table_pairs.append((start, line_n))\n",
    "        all_table_pairs.append((start, line_n, idx))\n",
    "        \n",
    "    if len(table_pairs) > 0:\n",
    "        for i, pair in enumerate(table_pairs):\n",
    "            table = lines[pair[0]-1:pair[1]]\n",
    "            tmp_tables.append(table)\n",
    "            \n",
    "        tables_extracted.append(tmp_tables[0])\n",
    "        \n",
    "    else:\n",
    "        tables_extracted.append([])\n",
    "     \n",
    "    \n",
    "    idx +=1\n",
    " \n",
    "\n",
    "    \n",
    "    \n",
    "    \n",
    "        "
   ]
  },
  {
   "cell_type": "code",
   "execution_count": 19,
   "id": "bad6ab90",
   "metadata": {
    "execution": {
     "iopub.execute_input": "2022-07-14T17:48:02.619883Z",
     "iopub.status.busy": "2022-07-14T17:48:02.619475Z",
     "iopub.status.idle": "2022-07-14T17:48:02.624824Z",
     "shell.execute_reply": "2022-07-14T17:48:02.623930Z"
    },
    "papermill": {
     "duration": 0.019221,
     "end_time": "2022-07-14T17:48:02.626891",
     "exception": false,
     "start_time": "2022-07-14T17:48:02.607670",
     "status": "completed"
    },
    "tags": []
   },
   "outputs": [
    {
     "name": "stdout",
     "output_type": "stream",
     "text": [
      "0\n"
     ]
    }
   ],
   "source": [
    "nb=0\n",
    "for example in (tables_extracted):\n",
    "    if len(example)> 0 :\n",
    "        nb=nb+1\n",
    "print(nb)"
   ]
  },
  {
   "cell_type": "code",
   "execution_count": 20,
   "id": "f00c7c8f",
   "metadata": {
    "execution": {
     "iopub.execute_input": "2022-07-14T17:48:02.649945Z",
     "iopub.status.busy": "2022-07-14T17:48:02.649509Z",
     "iopub.status.idle": "2022-07-14T17:48:02.654618Z",
     "shell.execute_reply": "2022-07-14T17:48:02.653572Z"
    },
    "papermill": {
     "duration": 0.018991,
     "end_time": "2022-07-14T17:48:02.656827",
     "exception": false,
     "start_time": "2022-07-14T17:48:02.637836",
     "status": "completed"
    },
    "tags": []
   },
   "outputs": [
    {
     "name": "stdout",
     "output_type": "stream",
     "text": [
      "|No.|Name|Age|Rate of pay per month. Dols Cts.\n",
      "|1|Martha Willis|21|   | \n"
     ]
    }
   ],
   "source": [
    "print(t2[6])"
   ]
  },
  {
   "cell_type": "code",
   "execution_count": 21,
   "id": "6757030b",
   "metadata": {
    "execution": {
     "iopub.execute_input": "2022-07-14T17:48:02.680800Z",
     "iopub.status.busy": "2022-07-14T17:48:02.679873Z",
     "iopub.status.idle": "2022-07-14T17:48:02.686009Z",
     "shell.execute_reply": "2022-07-14T17:48:02.685171Z"
    },
    "papermill": {
     "duration": 0.021198,
     "end_time": "2022-07-14T17:48:02.688454",
     "exception": false,
     "start_time": "2022-07-14T17:48:02.667256",
     "status": "completed"
    },
    "tags": []
   },
   "outputs": [
    {
     "data": {
      "text/plain": [
       "[[], [], [], [], [], [], []]"
      ]
     },
     "execution_count": 21,
     "metadata": {},
     "output_type": "execute_result"
    }
   ],
   "source": [
    "tables_extracted"
   ]
  },
  {
   "cell_type": "code",
   "execution_count": 22,
   "id": "9bd8d43d",
   "metadata": {
    "execution": {
     "iopub.execute_input": "2022-07-14T17:48:02.712562Z",
     "iopub.status.busy": "2022-07-14T17:48:02.711259Z",
     "iopub.status.idle": "2022-07-14T17:48:02.718302Z",
     "shell.execute_reply": "2022-07-14T17:48:02.716637Z"
    },
    "papermill": {
     "duration": 0.021701,
     "end_time": "2022-07-14T17:48:02.720933",
     "exception": false,
     "start_time": "2022-07-14T17:48:02.699232",
     "status": "completed"
    },
    "tags": []
   },
   "outputs": [
    {
     "name": "stdout",
     "output_type": "stream",
     "text": [
      "\n",
      "[[5 column table]]\n",
      "\n",
      "|NAMES.|AGE.|SEX.|MONTHLY RATE OF WAGES.|INTEREST IN PROFITS.|\n",
      "|Margery X (her mark) Russell|30|female|none|none|\n",
      "\n",
      "[[/5 column table]]\n",
      "\n",
      "DEPENDENTS.\n",
      "\n",
      "[[6 column table]]\n",
      "\n",
      "|NAMES.|AGE.|SEX.|NAMES.|AGE.|SEX.|\n",
      "|Phillis|9|female|   |   |   |\n",
      "|Emma|6|female|   |   |   |\n",
      "\n",
      "[[/6 column table]]\n"
     ]
    }
   ],
   "source": [
    "print(t2[5])"
   ]
  },
  {
   "cell_type": "code",
   "execution_count": 23,
   "id": "effc4257",
   "metadata": {
    "execution": {
     "iopub.execute_input": "2022-07-14T17:48:02.744504Z",
     "iopub.status.busy": "2022-07-14T17:48:02.744073Z",
     "iopub.status.idle": "2022-07-14T17:48:02.749479Z",
     "shell.execute_reply": "2022-07-14T17:48:02.748339Z"
    },
    "papermill": {
     "duration": 0.020791,
     "end_time": "2022-07-14T17:48:02.752415",
     "exception": false,
     "start_time": "2022-07-14T17:48:02.731624",
     "status": "completed"
    },
    "tags": []
   },
   "outputs": [
    {
     "name": "stdout",
     "output_type": "stream",
     "text": [
      "|NAMES.|AGE.|MONTHLY RATE OF WAGES.|INTEREST IN PROFITS.|\n",
      "|Frances her x mark|16|none|none.\n",
      "\n",
      "\n",
      "DEPENDENTS.\n",
      "|NAMES.|AGE.|NAMES.|AGE.|\n"
     ]
    }
   ],
   "source": [
    "print(t2[2])"
   ]
  },
  {
   "cell_type": "code",
   "execution_count": 24,
   "id": "215d1046",
   "metadata": {
    "execution": {
     "iopub.execute_input": "2022-07-14T17:48:02.775430Z",
     "iopub.status.busy": "2022-07-14T17:48:02.775012Z",
     "iopub.status.idle": "2022-07-14T17:48:02.781454Z",
     "shell.execute_reply": "2022-07-14T17:48:02.780609Z"
    },
    "papermill": {
     "duration": 0.020443,
     "end_time": "2022-07-14T17:48:02.783587",
     "exception": false,
     "start_time": "2022-07-14T17:48:02.763144",
     "status": "completed"
    },
    "tags": []
   },
   "outputs": [
    {
     "data": {
      "text/plain": [
       "\"[[table]]\\nNo. | NAME. | AGE. | ^[[Twelve months]] WAGES. DOLLS. CTS. | MONTHLY PAYM'T. DOLLS. CTS. [[/preprinted]]\\n|Phil Shaver His x mark|33|$144|00|2|00\\n|John Leo His x mark|16|72|00|1|50\\n|Mumford Randleman His x mark|25|120|00|2|00\\n|Adam Fisher His x mark|25|144|00|2|00\\n|Emma Fisher Her x mark|19|72|00|2|00\\n|Joseph Thompson His x mark|19|144|00|2|00\\n|Henry Kelly Ale His mark x|20|144|00|2|00\\n|Samuel Gillespie His x mark|22|120|00|2|00\\n|Nathan Foard His x mark|40|144|00|2|00\\n|Jordan Cox, His x mark|19|120|00|2|00\\n|Ann Tyson Her x mark|18|84|00|2|00\\n|Liza Dixon Her x mark|30|84|00|2|00\\n|Ceily Auston Her x mark||25|00|84|00\\n|Leon Foard His x mark|13|72|00|2|00\\n|Silas Foard His x mark|10|60|00|2|00\\n|Alfred P. Dixon His x mark|10|48|00|2|00\\n|Mary Hall Her x mark|25|72|00|2|00\\n|Hicksey Her x mark|25|72|00|2|00\\n|Dennis His x mark|14|48|00|2|00\\n|George Little & His x mark|31|120|00|2|00\\n|Wife|23|96|00|1|00\\n|Will Alfred & His x mark|28|120|00|2|00\\n|Wife|19|96|00|2|00\\n|Henry Myers His x mark|22|144|00|2|00\\n|Thomas Granderson His x mark|24|120|00|2|00\\n|Fred Deaton His x mark|23|120|00|2|00\\n|[[Illegible - final line of page is cut off]]|14|72|00|2|00\\n[[/Table]]\""
      ]
     },
     "execution_count": 24,
     "metadata": {},
     "output_type": "execute_result"
    }
   ],
   "source": [
    "tb[0]"
   ]
  },
  {
   "cell_type": "code",
   "execution_count": 25,
   "id": "c032fe87",
   "metadata": {
    "execution": {
     "iopub.execute_input": "2022-07-14T17:48:02.806966Z",
     "iopub.status.busy": "2022-07-14T17:48:02.806340Z",
     "iopub.status.idle": "2022-07-14T17:48:02.812465Z",
     "shell.execute_reply": "2022-07-14T17:48:02.811390Z"
    },
    "papermill": {
     "duration": 0.020403,
     "end_time": "2022-07-14T17:48:02.814681",
     "exception": false,
     "start_time": "2022-07-14T17:48:02.794278",
     "status": "completed"
    },
    "tags": []
   },
   "outputs": [
    {
     "data": {
      "text/plain": [
       "\"[[7 column table]]\\nNo. | NAME. | AGE. | WAGES. DOLLS. | [[WAGES.]] CTS. | MONTHLY PAYM'T. DOLLS. | [[MONTHLY PAYM'T.]] CTS.\\n[[/preprinted]]\\n\\n1 | Sarah | 17 | 2 | 50 | 1 | 75 \""
      ]
     },
     "execution_count": 25,
     "metadata": {},
     "output_type": "execute_result"
    }
   ],
   "source": [
    "t2[0]"
   ]
  },
  {
   "cell_type": "code",
   "execution_count": 26,
   "id": "3ed94ea8",
   "metadata": {
    "execution": {
     "iopub.execute_input": "2022-07-14T17:48:02.839150Z",
     "iopub.status.busy": "2022-07-14T17:48:02.838729Z",
     "iopub.status.idle": "2022-07-14T17:48:02.845693Z",
     "shell.execute_reply": "2022-07-14T17:48:02.844524Z"
    },
    "papermill": {
     "duration": 0.021646,
     "end_time": "2022-07-14T17:48:02.847951",
     "exception": false,
     "start_time": "2022-07-14T17:48:02.826305",
     "status": "completed"
    },
    "tags": []
   },
   "outputs": [
    {
     "data": {
      "text/plain": [
       "'|No.|Name|Age|Rate of pay per month. Dols Cts.\\n|1|Martha Willis|21|   | '"
      ]
     },
     "execution_count": 26,
     "metadata": {},
     "output_type": "execute_result"
    }
   ],
   "source": [
    "t2[-1]"
   ]
  },
  {
   "cell_type": "code",
   "execution_count": 27,
   "id": "afd4366c",
   "metadata": {
    "collapsed": true,
    "execution": {
     "iopub.execute_input": "2022-07-14T17:48:02.872843Z",
     "iopub.status.busy": "2022-07-14T17:48:02.871919Z",
     "iopub.status.idle": "2022-07-14T17:48:02.879641Z",
     "shell.execute_reply": "2022-07-14T17:48:02.878500Z"
    },
    "jupyter": {
     "outputs_hidden": true
    },
    "papermill": {
     "duration": 0.02321,
     "end_time": "2022-07-14T17:48:02.882231",
     "exception": false,
     "start_time": "2022-07-14T17:48:02.859021",
     "status": "completed"
    },
    "tags": []
   },
   "outputs": [
    {
     "data": {
      "text/plain": [
       "[[], [], [], [], [], [], []]"
      ]
     },
     "execution_count": 27,
     "metadata": {},
     "output_type": "execute_result"
    }
   ],
   "source": [
    "tables_extracted"
   ]
  },
  {
   "cell_type": "code",
   "execution_count": 28,
   "id": "95575ab8",
   "metadata": {
    "execution": {
     "iopub.execute_input": "2022-07-14T17:48:02.907391Z",
     "iopub.status.busy": "2022-07-14T17:48:02.906702Z",
     "iopub.status.idle": "2022-07-14T17:48:02.914446Z",
     "shell.execute_reply": "2022-07-14T17:48:02.913169Z"
    },
    "papermill": {
     "duration": 0.023285,
     "end_time": "2022-07-14T17:48:02.917145",
     "exception": false,
     "start_time": "2022-07-14T17:48:02.893860",
     "status": "completed"
    },
    "tags": []
   },
   "outputs": [
    {
     "data": {
      "text/plain": [
       "[[], [], [], [], [], [], []]"
      ]
     },
     "execution_count": 28,
     "metadata": {},
     "output_type": "execute_result"
    }
   ],
   "source": [
    "tables_extracted"
   ]
  },
  {
   "cell_type": "code",
   "execution_count": 29,
   "id": "ab1d8c1e",
   "metadata": {
    "execution": {
     "iopub.execute_input": "2022-07-14T17:48:02.942955Z",
     "iopub.status.busy": "2022-07-14T17:48:02.941891Z",
     "iopub.status.idle": "2022-07-14T17:48:02.948560Z",
     "shell.execute_reply": "2022-07-14T17:48:02.947406Z"
    },
    "papermill": {
     "duration": 0.021811,
     "end_time": "2022-07-14T17:48:02.950886",
     "exception": false,
     "start_time": "2022-07-14T17:48:02.929075",
     "status": "completed"
    },
    "tags": []
   },
   "outputs": [
    {
     "data": {
      "text/plain": [
       "[]"
      ]
     },
     "execution_count": 29,
     "metadata": {},
     "output_type": "execute_result"
    }
   ],
   "source": [
    "separator_counts"
   ]
  },
  {
   "cell_type": "code",
   "execution_count": 30,
   "id": "55a89fbe",
   "metadata": {
    "execution": {
     "iopub.execute_input": "2022-07-14T17:48:02.976808Z",
     "iopub.status.busy": "2022-07-14T17:48:02.976429Z",
     "iopub.status.idle": "2022-07-14T17:48:02.981530Z",
     "shell.execute_reply": "2022-07-14T17:48:02.980567Z"
    },
    "papermill": {
     "duration": 0.021698,
     "end_time": "2022-07-14T17:48:02.984512",
     "exception": false,
     "start_time": "2022-07-14T17:48:02.962814",
     "status": "completed"
    },
    "tags": []
   },
   "outputs": [
    {
     "name": "stdout",
     "output_type": "stream",
     "text": [
      "0\n"
     ]
    }
   ],
   "source": [
    "nb=0\n",
    "for example in (tables_extracted):\n",
    "    if len(example)> 0 :\n",
    "        nb=nb+1\n",
    "print(nb)"
   ]
  },
  {
   "cell_type": "code",
   "execution_count": 31,
   "id": "d14de196",
   "metadata": {
    "execution": {
     "iopub.execute_input": "2022-07-14T17:48:03.010389Z",
     "iopub.status.busy": "2022-07-14T17:48:03.009808Z",
     "iopub.status.idle": "2022-07-14T17:48:03.014021Z",
     "shell.execute_reply": "2022-07-14T17:48:03.013040Z"
    },
    "papermill": {
     "duration": 0.019971,
     "end_time": "2022-07-14T17:48:03.016803",
     "exception": false,
     "start_time": "2022-07-14T17:48:02.996832",
     "status": "completed"
    },
    "tags": []
   },
   "outputs": [],
   "source": [
    "# for i in (contract[contract.tables_parsed == {}].sample(n=2).transcription_text.tolist()):\n",
    "\n",
    "#     print(i)\n",
    "#     print(\"\\n==========\\n\")"
   ]
  },
  {
   "cell_type": "code",
   "execution_count": null,
   "id": "26107a8f",
   "metadata": {
    "papermill": {
     "duration": 0.011273,
     "end_time": "2022-07-14T17:48:03.039877",
     "exception": false,
     "start_time": "2022-07-14T17:48:03.028604",
     "status": "completed"
    },
    "tags": []
   },
   "outputs": [],
   "source": []
  }
 ],
 "metadata": {
  "kernelspec": {
   "display_name": "Python 3",
   "language": "python",
   "name": "python3"
  },
  "language_info": {
   "codemirror_mode": {
    "name": "ipython",
    "version": 3
   },
   "file_extension": ".py",
   "mimetype": "text/x-python",
   "name": "python",
   "nbconvert_exporter": "python",
   "pygments_lexer": "ipython3",
   "version": "3.7.12"
  },
  "papermill": {
   "default_parameters": {},
   "duration": 67.981828,
   "end_time": "2022-07-14T17:48:03.975281",
   "environment_variables": {},
   "exception": null,
   "input_path": "__notebook__.ipynb",
   "output_path": "__notebook__.ipynb",
   "parameters": {},
   "start_time": "2022-07-14T17:46:55.993453",
   "version": "2.3.4"
  }
 },
 "nbformat": 4,
 "nbformat_minor": 5
}
