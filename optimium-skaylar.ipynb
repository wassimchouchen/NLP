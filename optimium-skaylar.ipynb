{
 "cells": [
  {
   "cell_type": "code",
   "execution_count": 1,
   "id": "51d07fc7",
   "metadata": {
    "_cell_guid": "b1076dfc-b9ad-4769-8c92-a6c4dae69d19",
    "_kg_hide-output": true,
    "_uuid": "8f2839f25d086af736a60e9eeb907d3b93b6e0e5",
    "execution": {
     "iopub.execute_input": "2022-07-18T08:50:04.770449Z",
     "iopub.status.busy": "2022-07-18T08:50:04.769821Z",
     "iopub.status.idle": "2022-07-18T08:50:06.980733Z",
     "shell.execute_reply": "2022-07-18T08:50:06.979439Z"
    },
    "papermill": {
     "duration": 2.227989,
     "end_time": "2022-07-18T08:50:06.983758",
     "exception": false,
     "start_time": "2022-07-18T08:50:04.755769",
     "status": "completed"
    },
    "tags": []
   },
   "outputs": [],
   "source": [
    "# !pip install flair\n",
    "import time\n",
    "import string\n",
    "import warnings\n",
    "\n",
    "import regex as re\n",
    "from tqdm import tqdm\n",
    "\n",
    "\n",
    "import pickle\n",
    "import numpy as np\n",
    "import pandas as pd \n",
    "\n",
    "import seaborn as sns\n",
    "import matplotlib.pyplot as plt \n",
    "import matplotlib.style as stl \n",
    "\n",
    "\n",
    "\n",
    "from nltk.corpus import stopwords\n",
    "from nltk.corpus import stopwords\n",
    "from nltk.tokenize import word_tokenize\n",
    "from nltk.stem import WordNetLemmatizer\n",
    "from nltk.stem.snowball import SnowballStemmer\n",
    "\n",
    "\n",
    "warnings.filterwarnings(\"ignore\")"
   ]
  },
  {
   "cell_type": "code",
   "execution_count": 2,
   "id": "c17c4319",
   "metadata": {
    "execution": {
     "iopub.execute_input": "2022-07-18T08:50:07.006900Z",
     "iopub.status.busy": "2022-07-18T08:50:07.006511Z",
     "iopub.status.idle": "2022-07-18T08:50:15.744704Z",
     "shell.execute_reply": "2022-07-18T08:50:15.743441Z"
    },
    "papermill": {
     "duration": 8.75284,
     "end_time": "2022-07-18T08:50:15.747391",
     "exception": false,
     "start_time": "2022-07-18T08:50:06.994551",
     "status": "completed"
    },
    "tags": []
   },
   "outputs": [],
   "source": [
    "documents = pd.read_csv(\"../input/skylarfreedman/Documents-Table 1.csv\", on_bad_lines='skip', sep=\";\")"
   ]
  },
  {
   "cell_type": "code",
   "execution_count": 3,
   "id": "70f3aa7c",
   "metadata": {
    "execution": {
     "iopub.execute_input": "2022-07-18T08:50:15.770160Z",
     "iopub.status.busy": "2022-07-18T08:50:15.769730Z",
     "iopub.status.idle": "2022-07-18T08:50:15.837587Z",
     "shell.execute_reply": "2022-07-18T08:50:15.836430Z"
    },
    "papermill": {
     "duration": 0.082655,
     "end_time": "2022-07-18T08:50:15.840393",
     "exception": false,
     "start_time": "2022-07-18T08:50:15.757738",
     "status": "completed"
    },
    "tags": []
   },
   "outputs": [],
   "source": [
    "contract = documents[documents.Category == \"Contracts\"]\n",
    "contract = contract[[\"document_id\", \"project_id\", \"transcription_text\"]]"
   ]
  },
  {
   "cell_type": "code",
   "execution_count": 4,
   "id": "c48b7dbd",
   "metadata": {
    "execution": {
     "iopub.execute_input": "2022-07-18T08:50:15.863136Z",
     "iopub.status.busy": "2022-07-18T08:50:15.862630Z",
     "iopub.status.idle": "2022-07-18T08:50:15.876941Z",
     "shell.execute_reply": "2022-07-18T08:50:15.875807Z"
    },
    "papermill": {
     "duration": 0.028906,
     "end_time": "2022-07-18T08:50:15.879783",
     "exception": false,
     "start_time": "2022-07-18T08:50:15.850877",
     "status": "completed"
    },
    "tags": []
   },
   "outputs": [],
   "source": [
    "contract = contract[pd.notnull(contract['transcription_text'])]\n",
    "contract = contract.reset_index(drop=True)"
   ]
  },
  {
   "cell_type": "markdown",
   "id": "478af051",
   "metadata": {
    "papermill": {
     "duration": 0.010238,
     "end_time": "2022-07-18T08:50:15.900480",
     "exception": false,
     "start_time": "2022-07-18T08:50:15.890242",
     "status": "completed"
    },
    "tags": []
   },
   "source": [
    "# Preprocessing"
   ]
  },
  {
   "cell_type": "code",
   "execution_count": 5,
   "id": "6f245bfb",
   "metadata": {
    "execution": {
     "iopub.execute_input": "2022-07-18T08:50:15.923260Z",
     "iopub.status.busy": "2022-07-18T08:50:15.922820Z",
     "iopub.status.idle": "2022-07-18T08:50:15.938217Z",
     "shell.execute_reply": "2022-07-18T08:50:15.936720Z"
    },
    "papermill": {
     "duration": 0.030203,
     "end_time": "2022-07-18T08:50:15.941249",
     "exception": false,
     "start_time": "2022-07-18T08:50:15.911046",
     "status": "completed"
    },
    "tags": []
   },
   "outputs": [],
   "source": [
    "stop_words = set(stopwords.words('english'))\n",
    "punctuation = string.punctuation\n",
    "stemmer = SnowballStemmer(language=\"english\")\n",
    "lemmatizer = WordNetLemmatizer()\n",
    "stop_words.remove(\"of\")\n",
    "punct='!\"#$%&\\'()*+-/<=>?@[\\\\]^_`{|}~'\n",
    "\n",
    "def process(s):\n",
    "    \"\"\"Removes stop words, words in brackets\n",
    "    and parentheses, and special characters.\n",
    "    \"\"\"\n",
    "    \n",
    "    s= re.sub(\"([\\(\\[]).*?([\\)\\]])\",\" \",s)\n",
    "    for p in punct:\n",
    "        s = s.replace(p, '')\n",
    "    s = word_tokenize(s)\n",
    "    s = [w for w in s if not w in stop_words] #optional\n",
    "    return s"
   ]
  },
  {
   "cell_type": "code",
   "execution_count": 6,
   "id": "77ff9f4c",
   "metadata": {
    "execution": {
     "iopub.execute_input": "2022-07-18T08:50:15.963810Z",
     "iopub.status.busy": "2022-07-18T08:50:15.963419Z",
     "iopub.status.idle": "2022-07-18T08:51:01.859130Z",
     "shell.execute_reply": "2022-07-18T08:51:01.858144Z"
    },
    "papermill": {
     "duration": 45.910307,
     "end_time": "2022-07-18T08:51:01.862068",
     "exception": false,
     "start_time": "2022-07-18T08:50:15.951761",
     "status": "completed"
    },
    "tags": []
   },
   "outputs": [],
   "source": [
    "contract[\"processed_text\"] = contract[\"transcription_text\"].apply(process)\n",
    "contract[\"processed_text\"] = contract[\"processed_text\"].apply(lambda x: \" \".join(x))"
   ]
  },
  {
   "cell_type": "code",
   "execution_count": 7,
   "id": "9bcb313d",
   "metadata": {
    "execution": {
     "iopub.execute_input": "2022-07-18T08:51:01.885162Z",
     "iopub.status.busy": "2022-07-18T08:51:01.884494Z",
     "iopub.status.idle": "2022-07-18T08:51:01.898419Z",
     "shell.execute_reply": "2022-07-18T08:51:01.897520Z"
    },
    "papermill": {
     "duration": 0.028273,
     "end_time": "2022-07-18T08:51:01.900872",
     "exception": false,
     "start_time": "2022-07-18T08:51:01.872599",
     "status": "completed"
    },
    "tags": []
   },
   "outputs": [],
   "source": [
    "def parse_table_to_dict(example) :\n",
    "    \n",
    "    def clean_record(x) :\n",
    "        if x.strip() == \"\":\n",
    "            return \" \"\n",
    "        return x.strip().replace(\"{\", \"\").replace(\"}\", \"\")\n",
    "\n",
    "    table_dict = {}\n",
    "\n",
    "    if \"name\" in example[0].lower():\n",
    "\n",
    "        cols = []\n",
    "        for col in example[0].split(\"|\"):\n",
    "            if col.strip() == \"\":\n",
    "                cols.append(col)\n",
    "            else:\n",
    "                cols.append(col.strip().lower().replace(\" \", \"_\").replace(\".\", \"\"))\n",
    "\n",
    "        values = np.array([list(map(clean_record, i.split(\"|\"))) for i in example[1:]])\n",
    "\n",
    "    else:\n",
    "\n",
    "        n_cols = len(example[0].split(\"|\"))\n",
    "        cols = [f\"col_{i}\" for i in range(n_cols)]\n",
    "\n",
    "        values = np.array([list(map(clean_record, i.split(\"|\"))) for i in example])\n",
    "        \n",
    "    \n",
    "    #Remove empty rows ([\"----\", \"-----\", \"-----\"])\n",
    "    new_values = []\n",
    "    for line in values:\n",
    "        line_chars = list(set(\"\".join([i.strip() for i in line])))\n",
    "        \n",
    "        if len(line_chars) != 0 and (line_chars[0] != \"-\" or len(line_chars) != 0):\n",
    "            new_values.append(line.tolist())\n",
    "            \n",
    "    values = np.array(new_values)\n",
    "            \n",
    "    if values.reshape(-1).shape[0] != 0:\n",
    "        for i, col in enumerate(cols):\n",
    "            table_dict[col] = values[:, i].tolist()\n",
    "            \n",
    "        return table_dict\n",
    "    \n",
    "    else:\n",
    "        \n",
    "        return {} "
   ]
  },
  {
   "cell_type": "code",
   "execution_count": 8,
   "id": "0dde033e",
   "metadata": {
    "execution": {
     "iopub.execute_input": "2022-07-18T08:51:01.924021Z",
     "iopub.status.busy": "2022-07-18T08:51:01.923425Z",
     "iopub.status.idle": "2022-07-18T08:51:01.945517Z",
     "shell.execute_reply": "2022-07-18T08:51:01.944413Z"
    },
    "papermill": {
     "duration": 0.037416,
     "end_time": "2022-07-18T08:51:01.948462",
     "exception": false,
     "start_time": "2022-07-18T08:51:01.911046",
     "status": "completed"
    },
    "tags": []
   },
   "outputs": [
    {
     "data": {
      "text/html": [
       "<div>\n",
       "<style scoped>\n",
       "    .dataframe tbody tr th:only-of-type {\n",
       "        vertical-align: middle;\n",
       "    }\n",
       "\n",
       "    .dataframe tbody tr th {\n",
       "        vertical-align: top;\n",
       "    }\n",
       "\n",
       "    .dataframe thead th {\n",
       "        text-align: right;\n",
       "    }\n",
       "</style>\n",
       "<table border=\"1\" class=\"dataframe\">\n",
       "  <thead>\n",
       "    <tr style=\"text-align: right;\">\n",
       "      <th></th>\n",
       "      <th>document_id</th>\n",
       "      <th>project_id</th>\n",
       "      <th>transcription_text</th>\n",
       "      <th>processed_text</th>\n",
       "    </tr>\n",
       "  </thead>\n",
       "  <tbody>\n",
       "    <tr>\n",
       "      <th>0</th>\n",
       "      <td>NMAAHC-004567394_00861</td>\n",
       "      <td>11400</td>\n",
       "      <td>[D104 ENCL]\\r\\nNorth Carolina\\r\\nThis indentur...</td>\n",
       "      <td>North Carolina This indenture made entered Thi...</td>\n",
       "    </tr>\n",
       "    <tr>\n",
       "      <th>1</th>\n",
       "      <td>NMAAHC-004567394_00957</td>\n",
       "      <td>11400</td>\n",
       "      <td>[E 11 ENCL] \\r\\n\\r\\n\\r\\nState of North Carolin...</td>\n",
       "      <td>State of North Carolina Currituck County . Thi...</td>\n",
       "    </tr>\n",
       "    <tr>\n",
       "      <th>2</th>\n",
       "      <td>NMAAHC-004567394_00958</td>\n",
       "      <td>11400</td>\n",
       "      <td>near Lizzie Etheridge's gate, thence South 56 ...</td>\n",
       "      <td>near Lizzie Etheridges gate , thence South 56 ...</td>\n",
       "    </tr>\n",
       "    <tr>\n",
       "      <th>3</th>\n",
       "      <td>NMAAHC-004567395_00439</td>\n",
       "      <td>11406</td>\n",
       "      <td>Copy\\r\\n\\r\\nAgreement of Apprenticeship\\r\\nBu ...</td>\n",
       "      <td>Copy Agreement of Apprenticeship Bu Mrs. Kate ...</td>\n",
       "    </tr>\n",
       "    <tr>\n",
       "      <th>4</th>\n",
       "      <td>NMAAHC-004567395_00440</td>\n",
       "      <td>11406</td>\n",
       "      <td>[H 132 ENCL] \\r\\n\\r\\nCopy\\r\\n\\r\\nAgreement of ...</td>\n",
       "      <td>Copy Agreement of Apprenticeship . This agreem...</td>\n",
       "    </tr>\n",
       "    <tr>\n",
       "      <th>...</th>\n",
       "      <td>...</td>\n",
       "      <td>...</td>\n",
       "      <td>...</td>\n",
       "      <td>...</td>\n",
       "    </tr>\n",
       "    <tr>\n",
       "      <th>23724</th>\n",
       "      <td>NMAAHC-007677332_01525</td>\n",
       "      <td>41539</td>\n",
       "      <td>\\N</td>\n",
       "      <td>N</td>\n",
       "    </tr>\n",
       "    <tr>\n",
       "      <th>23725</th>\n",
       "      <td>NMAAHC-007677332_01526</td>\n",
       "      <td>41539</td>\n",
       "      <td>\\N</td>\n",
       "      <td>N</td>\n",
       "    </tr>\n",
       "    <tr>\n",
       "      <th>23726</th>\n",
       "      <td>NMAAHC-007677332_01527</td>\n",
       "      <td>41539</td>\n",
       "      <td>\\N</td>\n",
       "      <td>N</td>\n",
       "    </tr>\n",
       "    <tr>\n",
       "      <th>23727</th>\n",
       "      <td>NMAAHC-007677332_01528</td>\n",
       "      <td>41539</td>\n",
       "      <td>Jo</td>\n",
       "      <td>Jo</td>\n",
       "    </tr>\n",
       "    <tr>\n",
       "      <th>23728</th>\n",
       "      <td>NMAAHC-007677332_01529</td>\n",
       "      <td>41539</td>\n",
       "      <td>\\N</td>\n",
       "      <td>N</td>\n",
       "    </tr>\n",
       "  </tbody>\n",
       "</table>\n",
       "<p>23729 rows × 4 columns</p>\n",
       "</div>"
      ],
      "text/plain": [
       "                  document_id  project_id  \\\n",
       "0      NMAAHC-004567394_00861       11400   \n",
       "1      NMAAHC-004567394_00957       11400   \n",
       "2      NMAAHC-004567394_00958       11400   \n",
       "3      NMAAHC-004567395_00439       11406   \n",
       "4      NMAAHC-004567395_00440       11406   \n",
       "...                       ...         ...   \n",
       "23724  NMAAHC-007677332_01525       41539   \n",
       "23725  NMAAHC-007677332_01526       41539   \n",
       "23726  NMAAHC-007677332_01527       41539   \n",
       "23727  NMAAHC-007677332_01528       41539   \n",
       "23728  NMAAHC-007677332_01529       41539   \n",
       "\n",
       "                                      transcription_text  \\\n",
       "0      [D104 ENCL]\\r\\nNorth Carolina\\r\\nThis indentur...   \n",
       "1      [E 11 ENCL] \\r\\n\\r\\n\\r\\nState of North Carolin...   \n",
       "2      near Lizzie Etheridge's gate, thence South 56 ...   \n",
       "3      Copy\\r\\n\\r\\nAgreement of Apprenticeship\\r\\nBu ...   \n",
       "4      [H 132 ENCL] \\r\\n\\r\\nCopy\\r\\n\\r\\nAgreement of ...   \n",
       "...                                                  ...   \n",
       "23724                                                 \\N   \n",
       "23725                                                 \\N   \n",
       "23726                                                 \\N   \n",
       "23727                                                 Jo   \n",
       "23728                                                 \\N   \n",
       "\n",
       "                                          processed_text  \n",
       "0      North Carolina This indenture made entered Thi...  \n",
       "1      State of North Carolina Currituck County . Thi...  \n",
       "2      near Lizzie Etheridges gate , thence South 56 ...  \n",
       "3      Copy Agreement of Apprenticeship Bu Mrs. Kate ...  \n",
       "4      Copy Agreement of Apprenticeship . This agreem...  \n",
       "...                                                  ...  \n",
       "23724                                                  N  \n",
       "23725                                                  N  \n",
       "23726                                                  N  \n",
       "23727                                                 Jo  \n",
       "23728                                                  N  \n",
       "\n",
       "[23729 rows x 4 columns]"
      ]
     },
     "execution_count": 8,
     "metadata": {},
     "output_type": "execute_result"
    }
   ],
   "source": [
    "contract"
   ]
  },
  {
   "cell_type": "code",
   "execution_count": 9,
   "id": "bed8c57a",
   "metadata": {
    "_kg_hide-input": true,
    "execution": {
     "iopub.execute_input": "2022-07-18T08:51:01.971915Z",
     "iopub.status.busy": "2022-07-18T08:51:01.971319Z",
     "iopub.status.idle": "2022-07-18T08:51:01.986656Z",
     "shell.execute_reply": "2022-07-18T08:51:01.985782Z"
    },
    "jupyter": {
     "source_hidden": true
    },
    "papermill": {
     "duration": 0.030065,
     "end_time": "2022-07-18T08:51:01.989148",
     "exception": false,
     "start_time": "2022-07-18T08:51:01.959083",
     "status": "completed"
    },
    "tags": []
   },
   "outputs": [],
   "source": [
    "t=[]\n",
    "t.append(\"\"\"[[7 column table]]\n",
    "No. | NAME. | AGE. | WAGES. DOLLS. | [[WAGES.]] CTS. | MONTHLY PAYM'T. DOLLS. | [[MONTHLY PAYM'T.]] CTS.\n",
    "[[/preprinted]]\n",
    "\n",
    "1 | Sarah | 17 | 2 | 50 | 1 | 75 \"\"\")\n",
    "t.append(\"\"\"[[5 columned table]]\n",
    "| No. | NAMES. | AGE. | RATE of PAY per month. Dols. | RATE of PAY per month. Cents. |         \n",
    "| --- | --- | --- | --- | --- | \n",
    "| 1861 | Phillip Carr | 13 | 100 | 00 |\"\"\")\n",
    "t.append(\"\"\"|NAMES.|AGE.|MONTHLY RATE OF WAGES.|INTEREST IN PROFITS.|\n",
    "|Frances her x mark|16|none|none.\n",
    "\n",
    "\n",
    "DEPENDENTS.\n",
    "|NAMES.|AGE.|NAMES.|AGE.|\"\"\")\n",
    "t.append(\"\"\"[[6 Columned Table]]\n",
    "| NAME | AGE | SEX | CLASS | MONTHLY RATE OF WAGES. | INTEREST IN PROFITS. |\n",
    "|---|---|---|---|---|---|\n",
    "| Franklin | 21 | Male | 1st | $8.00 |\n",
    "[[/6 columned table]]\n",
    "\"\"\")\n",
    "t.append(\"\"\"[[3 columned table]]\n",
    "| --- | --- | --- |\n",
    "| 1866 June 16th | Approved Contracted between John L. Banks and Merrit Sanders 'fm, for farming this year | J.L.B. is to furnish Lands, teams, Seed, and farming implements. Three (3) Bls of corn, Two Hundred and fifty (250) Lbs of Pork. Leather for two (2) pair of Shoes (Mens). Pay two thirds (2/3) of wages paid to hired hands and give sd. Merritt Sanders one third (1/3) of crops made. \n",
    "M.S. is to work on said Lands the whole year. pay one third (1/3) of the hire to hands and furnish some assistance on sd. Lands from his family. | [[note]]\n",
    "\n",
    "| June 18 | Approved Contract between W.H. Sanders and Thomas Campbell 'fm, for farming dated March 1st 1866- | W.H. Sanders is to furnish lands, one horse, seed and feed for horse and receive two thirds (2/3) of crops. Freedman Thomas Campbell is to furnish himself and produce crops on said Lands and retain one third (1/3) of crops, and to keep the ditches open on said lands, occupied by his crops |\n",
    "\n",
    "| June 18 | Approved Contract between David S. Henry and Freedmen Parson Avery, Jackson Sanders and Reuben Sanders for farming dated June 6th 1866. | David S. Avery to furnish Lands Seeds and Teams. Parson Avery Jackson Sanders and Reuben Sanders freedmen to perform the manual labor necessary to make crops with said teams & Seeds and Lands furnished to keep up the fences and care properly for the stock and implements, and receive one third (1/3) of the crops. \n",
    "Sd. David S. Avery to receive two thirds (2/3) of the crops, and afford each of said Freedman a garden for Corn, Potatoes &c, &c rent free. | \"\"\")\n",
    "t.append(\"\"\"\n",
    "[[5 column table]]\n",
    "\n",
    "|NAMES.|AGE.|SEX.|MONTHLY RATE OF WAGES.|INTEREST IN PROFITS.|\n",
    "|Margery X (her mark) Russell|30|female|none|none|\n",
    "\n",
    "[[/5 column table]]\n",
    "\n",
    "DEPENDENTS.\n",
    "\n",
    "[[6 column table]]\n",
    "\n",
    "|NAMES.|AGE.|SEX.|NAMES.|AGE.|SEX.|\n",
    "|Phillis|9|female|   |   |   |\n",
    "|Emma|6|female|   |   |   |\n",
    "\n",
    "[[/6 column table]]\"\"\")\n",
    "t.append(\"\"\"|No.|Name|Age|Rate of pay per month. Dols Cts.\n",
    "|1|Martha Willis|21|   | \"\"\")\n",
    "notex=t\n",
    "notex.append(\"\"\"[[7 column table]]\n",
    "No. | NAME. | Age. | Wages. DOLLS. | CTS. | Monthly Paym't. DOLLS. | CTS.\n",
    "[[/preprinted]]\n",
    "\n",
    "- | Church Fisher further agrees to pay Said Laborer | 18 | $2 | 75 | - | -\n",
    "\n",
    "- | The Laborere to receive (1) one dollar per month each of the several months Specified the balance at expiration of this Contract the amount being $12 75/100 | - | - | - | $1 | 00.\n",
    "\n",
    "[[/table]]\"\"\")\n",
    "notex.append(\"\"\"shipment of products shall be made until the Provost Marshal of Freedmen shall certify that all dues to laborers are paid or satisfactorily arranged.\n",
    "IN TESTIMONY WHEREOF, The said parties have affixed their names to this arrangement, at Yazoo Go\n",
    "State of Mississippi, on the day and date aforesaid.\n",
    "[[6 Columned Table]]\n",
    "|NAMES|AGE|SEX|CLASS|MONTHLY RATE OF WAGES|INTEREST IN PROFITS|\n",
    "| --- | --- | --- | --- | --- | --- |\n",
    "|Richard Woodbury | 35 | Male | 1 |   |  \n",
    "|Dick Woodbury | 20 | Male | 1 |   |  \n",
    "|Daniel Woodbury | 36 | Male | 1 |  |   \n",
    "|William Woodbury | 20 | Male | 1 |  |  \n",
    "|March Woodbury | 60 | Male | 1 |   |\n",
    "|Rachel Simmons  |55 |   |   |   |\n",
    "Geo. W. Woodbury\n",
    "Witness - John. H. McCalister\n",
    "\"\"\")\n",
    "notex.append(\"\"\"And the said ^[[James Chadwick]] has agreed that he will furnish the said laborers with comfortable quarters, sufficient rations, and the amount of money per month, which stands opposite their respective names; that he will treat them kindly, and encourage the establishment of schools for their children.\n",
    "\n",
    "[[7 column table]]\n",
    "No. | NAME. | AGE. | WAGES. DOLLS. | [[WAGES.]] CTS. | MONTHLY PAYM'T. DOLLS. | [[MONTHLY PAYM'T]] CTS.\n",
    "[[/preprinted]]\n",
    "\n",
    "1 | Jerry Pigott | 17 | 8 | 00 | 4 | 00\n",
    "\n",
    "[[/7 column table]]\n",
    "\n",
    "[[signature]] Richard Dillon [[/signature]]\"\"\")\n",
    "notex.append(\"\"\"[[4 Columned Table]]\n",
    "| Name. | Age. | No. of Dependents. | Remarks. | \n",
    "| --- | --- | --- | --- |\n",
    "\n",
    "| Sally Brown His X Mark | 30 | 2 | under four years of age\n",
    "| Captain His X Mark | 51 |   |\n",
    "| Harrison His X Mark | 23 |   |\n",
    "| Taner His X Mark  57 |   |\n",
    "| Ida  Her X Mark | 19 |   |\n",
    "| Louisia Her X Mark | 40 | 4 under ten years of age |\n",
    "| Dallace His X Mark 20 |   |\n",
    "| Vick His X Mark | 14 |   |  \n",
    "| Minnie His X Mark | 55 |   | Rheumatism unable to support himself |\n",
    "| Mattie Her X Mark | 54 |   |\n",
    "| Hester Her X Mark | 28 | 6 | under ten years of age |   \n",
    "\n",
    "No 198.\n",
    "A. C. Jennings\"\"\")\n",
    "notex.append(\"\"\"In witness whereof the parties hereto affix their hands and seals on the day and year first above written Asher & Boyed {Seal}\n",
    "[[7 Columned Table]]\n",
    "|Names|age|Pay pr Mo-|Pay pr Year|Remarks|\n",
    "|---|---|---|---|---|---|---|\n",
    "|Frank his x mark Princeton|32|   |   |$150|00|Began 1st January 1866|\n",
    "|James his x mark Armstrong|61|   |   |$100|00|Began 30th day January 1866\n",
    "|Daniel x Johnston|36|   |   |$175|00|Began 5th day of February 1866|\"\"\")\n",
    "notex.append(\"\"\"[[5 columned table]]\n",
    "|NAMES.|AGE.|SEX.|MONTHLY RATE OF WAGES.|INTEREST IN PROFITS.|\n",
    "|---|---|---|---|---|\n",
    "|George X his mark|18|male|Food clothing medical attention|\n",
    "|Susannah X mark|15|Female|Food clothing medical attention|\n",
    "|Silva X mark|55|Female|Food clothing medical attention|\n",
    "|Beck X mark|24|Female|Food clothing medical attention|\n",
    "|Patiric X mark|55|male|Food clothing medical attention|\n",
    "\n",
    "[[left margin]]Paid[[/left margin]]\"\"\")\n",
    "notex.append(\"\"\"[[3 columned table]]\n",
    "DEPENDENTS\n",
    "|NAMES.|AGE.|SEX.|\n",
    "|---|---|---|\n",
    "|Westly|7|male|\n",
    "|Charley|3|male|\"\"\")\n",
    "notex.append(\"\"\"IN TESTIMONY WHEREOF, the said parties have affixed their names to this agreement, at Brookhaven State Mississippi of [[blank]] on the day and date aforesaid.\n",
    "\n",
    "[[6 columned table]]\n",
    "\n",
    "| NAMES. | AGE. | SEX. | CLASS. | MONTHLY RATE OF WAGES | INTEREST IN PROFITS. |\n",
    "|---|---|---|---|---|---|\n",
    "[[paired]]\n",
    "| Ellie, | 55, | Male, | 3 | 2 girls. | (4) Four acres of Land planted with corn, and (60) Sixty Bushels of Corn to be devided. |\n",
    "\n",
    "| Julia, Ann, - | 45, | Fem, | 3 | 2 Boys. | (4) Four acres of Land planted with corn, and (60) Sixty Bushels of Corn to be devided. |\n",
    "[[/paired]]\n",
    "\n",
    "| John, | 60, | Male, | 3 | Maintenance, | (4) Four acres of Land planted with corn, and (60) Sixty Bushels of Corn to be devided. |\n",
    "\n",
    "| Jim, | 27 ,| Male | 3 | (4) Four acres of Land planted with corn, and (60) Sixty Bushels of Corn to be devided. |\n",
    "\n",
    "| Emmanuel, | 18, | Male | 3 | (4) Four acres of Land planted with corn, and (60) Sixty Bushels of Corn to be devided. |\n",
    "\n",
    "| Arthur, | 17, | Male | 3 | (4) Four acres of Land planted with corn, and (60) Sixty Bushels of Corn to be devided. |\n",
    "\n",
    "| Andy, | 15, | Male | 3 | (4) Four acres of Land planted with corn, and (60) Sixty Bushels of Corn to be devided. |\n",
    "\n",
    "| Emoline, | 18, | Fem | 3 | $2.00. | (4) Four acres of Land planted with corn, and (60) Sixty Bushels of Corn to be devided. |\n",
    "\n",
    "| Ann, | 21, | Fem | 3 | $2.00. | (4) Four acres of Land planted with corn, and (60) Sixty Bushels of Corn to be devided. |\n",
    "\n",
    "Executed in presence of \n",
    "1st lieut. Pro. Mar. of Freedmen\"\"\")"
   ]
  },
  {
   "cell_type": "code",
   "execution_count": 10,
   "id": "4cd5bcfd",
   "metadata": {
    "execution": {
     "iopub.execute_input": "2022-07-18T08:51:02.013002Z",
     "iopub.status.busy": "2022-07-18T08:51:02.012377Z",
     "iopub.status.idle": "2022-07-18T08:51:02.019139Z",
     "shell.execute_reply": "2022-07-18T08:51:02.018040Z"
    },
    "papermill": {
     "duration": 0.021709,
     "end_time": "2022-07-18T08:51:02.021293",
     "exception": false,
     "start_time": "2022-07-18T08:51:01.999584",
     "status": "completed"
    },
    "tags": []
   },
   "outputs": [
    {
     "data": {
      "text/plain": [
       "15"
      ]
     },
     "execution_count": 10,
     "metadata": {},
     "output_type": "execute_result"
    }
   ],
   "source": [
    "len(notex)"
   ]
  },
  {
   "cell_type": "code",
   "execution_count": 11,
   "id": "5acfb037",
   "metadata": {
    "execution": {
     "iopub.execute_input": "2022-07-18T08:51:02.044806Z",
     "iopub.status.busy": "2022-07-18T08:51:02.044188Z",
     "iopub.status.idle": "2022-07-18T08:51:02.059470Z",
     "shell.execute_reply": "2022-07-18T08:51:02.058422Z"
    },
    "papermill": {
     "duration": 0.029966,
     "end_time": "2022-07-18T08:51:02.062165",
     "exception": false,
     "start_time": "2022-07-18T08:51:02.032199",
     "status": "completed"
    },
    "tags": []
   },
   "outputs": [],
   "source": [
    "contract_text = contract.transcription_text.tolist()\n",
    "\n",
    "lns = []\n",
    "tables_extracted = []\n",
    "all_table_pairs = []\n",
    "idx = 0\n",
    "\n",
    "for table_text in notex:\n",
    "\n",
    "    tmp_tables = []\n",
    "    table_text = table_text.replace(\"[\", \"\").replace(\"]\", \"\").replace(\"^\", \"\")\n",
    "    \n",
    "    lines = table_text.split(\"\\n\")\n",
    "    lines = [i for i in lines if len(i.strip()) != 0]\n",
    "    \n",
    "    separator_counts = []\n",
    "    table_pairs  = []\n",
    "    \n",
    "    start = 0\n",
    "    end = 0\n",
    "    streak = 0\n",
    "    \n",
    "    for line_n, line in enumerate(lines):\n",
    "        \n",
    "        separator_count = line.count(\"|\")   \n",
    "        \n",
    "        condition_1 = len(separator_counts) == 0 or separator_count == separator_counts[-1]\n",
    "        condition_2 = separator_count != 0\n",
    "            \n",
    "        #If you find the beginning of a table, take note\n",
    "        if condition_1 and condition_2:\n",
    "            if streak == 0:\n",
    "                start = line_n\n",
    "            streak += 1\n",
    "        else:\n",
    "            if streak != 0:\n",
    "                table_pairs.append((start, line_n))\n",
    "                all_table_pairs.append((start, line_n, idx))\n",
    "            streak = 0\n",
    "            start = 0\n",
    "    \n",
    "        separator_counts.append(separator_count)\n",
    "        \n",
    "    if streak > 0:\n",
    "        table_pairs.append((start, line_n))\n",
    "        all_table_pairs.append((start, line_n, idx))\n",
    "        \n",
    "    if len(table_pairs) > 0:\n",
    "        for i, pair in enumerate(table_pairs):\n",
    "            table = lines[pair[0]-1:pair[1]]\n",
    "            tmp_tables.append(table)\n",
    "            \n",
    "        tables_extracted.append(tmp_tables[0])\n",
    "        \n",
    "    else:\n",
    "        tables_extracted.append([])\n",
    "        \n",
    "        \n",
    "    idx += 1"
   ]
  },
  {
   "cell_type": "code",
   "execution_count": 12,
   "id": "3f99e454",
   "metadata": {
    "execution": {
     "iopub.execute_input": "2022-07-18T08:51:02.085433Z",
     "iopub.status.busy": "2022-07-18T08:51:02.084724Z",
     "iopub.status.idle": "2022-07-18T08:51:02.091439Z",
     "shell.execute_reply": "2022-07-18T08:51:02.090188Z"
    },
    "papermill": {
     "duration": 0.021209,
     "end_time": "2022-07-18T08:51:02.093990",
     "exception": false,
     "start_time": "2022-07-18T08:51:02.072781",
     "status": "completed"
    },
    "tags": []
   },
   "outputs": [
    {
     "name": "stdout",
     "output_type": "stream",
     "text": [
      "10\n"
     ]
    }
   ],
   "source": [
    "nb=0\n",
    "for example in (tables_extracted):\n",
    "    if len(example)> 0 :\n",
    "        nb=nb+1\n",
    "print(nb)"
   ]
  },
  {
   "cell_type": "code",
   "execution_count": 13,
   "id": "07cf270b",
   "metadata": {
    "execution": {
     "iopub.execute_input": "2022-07-18T08:51:02.117225Z",
     "iopub.status.busy": "2022-07-18T08:51:02.116836Z",
     "iopub.status.idle": "2022-07-18T08:51:02.124178Z",
     "shell.execute_reply": "2022-07-18T08:51:02.123045Z"
    },
    "papermill": {
     "duration": 0.021868,
     "end_time": "2022-07-18T08:51:02.126487",
     "exception": false,
     "start_time": "2022-07-18T08:51:02.104619",
     "status": "completed"
    },
    "tags": []
   },
   "outputs": [
    {
     "data": {
      "text/plain": [
       "[[],\n",
       " ['| No. | NAMES. | AGE. | RATE of PAY per month. Dols. | RATE of PAY per month. Cents. |         ',\n",
       "  '| --- | --- | --- | --- | --- | '],\n",
       " [],\n",
       " ['| NAME | AGE | SEX | CLASS | MONTHLY RATE OF WAGES. | INTEREST IN PROFITS. |',\n",
       "  '|---|---|---|---|---|---|'],\n",
       " [],\n",
       " ['|NAMES.|AGE.|SEX.|MONTHLY RATE OF WAGES.|INTEREST IN PROFITS.|',\n",
       "  '|Margery X (her mark) Russell|30|female|none|none|'],\n",
       " [],\n",
       " ['- | Church Fisher further agrees to pay Said Laborer | 18 | $2 | 75 | - | -',\n",
       "  '- | The Laborere to receive (1) one dollar per month each of the several months Specified the balance at expiration of this Contract the amount being $12 75/100 | - | - | - | $1 | 00.'],\n",
       " ['|NAMES|AGE|SEX|CLASS|MONTHLY RATE OF WAGES|INTEREST IN PROFITS|',\n",
       "  '| --- | --- | --- | --- | --- | --- |'],\n",
       " [],\n",
       " ['| Name. | Age. | No. of Dependents. | Remarks. | ',\n",
       "  '| --- | --- | --- | --- |'],\n",
       " ['|---|---|---|---|---|---|---|',\n",
       "  '|Frank his x mark Princeton|32|   |   |$150|00|Began 1st January 1866|'],\n",
       " ['|NAMES.|AGE.|SEX.|MONTHLY RATE OF WAGES.|INTEREST IN PROFITS.|',\n",
       "  '|---|---|---|---|---|'],\n",
       " ['|NAMES.|AGE.|SEX.|', '|---|---|---|', '|Westly|7|male|'],\n",
       " ['| NAMES. | AGE. | SEX. | CLASS. | MONTHLY RATE OF WAGES | INTEREST IN PROFITS. |',\n",
       "  '|---|---|---|---|---|---|']]"
      ]
     },
     "execution_count": 13,
     "metadata": {},
     "output_type": "execute_result"
    }
   ],
   "source": [
    "tables_extracted"
   ]
  },
  {
   "cell_type": "code",
   "execution_count": 14,
   "id": "a760cdf4",
   "metadata": {
    "execution": {
     "iopub.execute_input": "2022-07-18T08:51:02.150328Z",
     "iopub.status.busy": "2022-07-18T08:51:02.149641Z",
     "iopub.status.idle": "2022-07-18T08:51:02.156801Z",
     "shell.execute_reply": "2022-07-18T08:51:02.155706Z"
    },
    "papermill": {
     "duration": 0.021617,
     "end_time": "2022-07-18T08:51:02.159098",
     "exception": false,
     "start_time": "2022-07-18T08:51:02.137481",
     "status": "completed"
    },
    "tags": []
   },
   "outputs": [],
   "source": [
    "dcts = []\n",
    "\n",
    "for i, example in enumerate(tables_extracted):\n",
    "    if example != [] and len(example) > 2:\n",
    "        dcts.append(parse_table_to_dict(example))\n",
    "    else:\n",
    "        dcts.append({})"
   ]
  },
  {
   "cell_type": "code",
   "execution_count": 15,
   "id": "27842dd2",
   "metadata": {
    "execution": {
     "iopub.execute_input": "2022-07-18T08:51:02.182773Z",
     "iopub.status.busy": "2022-07-18T08:51:02.182092Z",
     "iopub.status.idle": "2022-07-18T08:51:02.188543Z",
     "shell.execute_reply": "2022-07-18T08:51:02.187609Z"
    },
    "papermill": {
     "duration": 0.020524,
     "end_time": "2022-07-18T08:51:02.190514",
     "exception": false,
     "start_time": "2022-07-18T08:51:02.169990",
     "status": "completed"
    },
    "tags": []
   },
   "outputs": [
    {
     "data": {
      "text/plain": [
       "[{},\n",
       " {},\n",
       " {},\n",
       " {},\n",
       " {},\n",
       " {},\n",
       " {},\n",
       " {},\n",
       " {},\n",
       " {},\n",
       " {},\n",
       " {},\n",
       " {},\n",
       " {'': [' ', ' '],\n",
       "  'names': ['---', 'Westly'],\n",
       "  'age': ['---', '7'],\n",
       "  'sex': ['---', 'male']},\n",
       " {}]"
      ]
     },
     "execution_count": 15,
     "metadata": {},
     "output_type": "execute_result"
    }
   ],
   "source": [
    "dcts"
   ]
  },
  {
   "cell_type": "code",
   "execution_count": 16,
   "id": "069cf84a",
   "metadata": {
    "execution": {
     "iopub.execute_input": "2022-07-18T08:51:02.214775Z",
     "iopub.status.busy": "2022-07-18T08:51:02.214091Z",
     "iopub.status.idle": "2022-07-18T08:51:02.218474Z",
     "shell.execute_reply": "2022-07-18T08:51:02.217400Z"
    },
    "papermill": {
     "duration": 0.019523,
     "end_time": "2022-07-18T08:51:02.221057",
     "exception": false,
     "start_time": "2022-07-18T08:51:02.201534",
     "status": "completed"
    },
    "tags": []
   },
   "outputs": [],
   "source": [
    "# contract[\"tables_parsed\"]=dcts"
   ]
  },
  {
   "cell_type": "code",
   "execution_count": 17,
   "id": "ebbbda9c",
   "metadata": {
    "execution": {
     "iopub.execute_input": "2022-07-18T08:51:02.244762Z",
     "iopub.status.busy": "2022-07-18T08:51:02.244407Z",
     "iopub.status.idle": "2022-07-18T08:51:02.250302Z",
     "shell.execute_reply": "2022-07-18T08:51:02.249124Z"
    },
    "papermill": {
     "duration": 0.02074,
     "end_time": "2022-07-18T08:51:02.252928",
     "exception": false,
     "start_time": "2022-07-18T08:51:02.232188",
     "status": "completed"
    },
    "tags": []
   },
   "outputs": [
    {
     "name": "stdout",
     "output_type": "stream",
     "text": [
      "1\n"
     ]
    }
   ],
   "source": [
    "nb=0\n",
    "for example in (dcts):\n",
    "    if len(example)> 0 :\n",
    "        nb=nb+1\n",
    "print(nb)"
   ]
  },
  {
   "cell_type": "code",
   "execution_count": 18,
   "id": "3ba042a1",
   "metadata": {
    "execution": {
     "iopub.execute_input": "2022-07-18T08:51:02.277420Z",
     "iopub.status.busy": "2022-07-18T08:51:02.276366Z",
     "iopub.status.idle": "2022-07-18T08:51:02.296481Z",
     "shell.execute_reply": "2022-07-18T08:51:02.295346Z"
    },
    "papermill": {
     "duration": 0.035458,
     "end_time": "2022-07-18T08:51:02.299391",
     "exception": false,
     "start_time": "2022-07-18T08:51:02.263933",
     "status": "completed"
    },
    "tags": []
   },
   "outputs": [],
   "source": [
    "contract_text = contract.transcription_text.tolist()\n",
    "\n",
    "lns = []\n",
    "tables_extracted = []\n",
    "all_table_pairs = []\n",
    "idx = 0\n",
    "sp=[]\n",
    "\n",
    "for table_text in notex:\n",
    "\n",
    "    tmp_tables = []\n",
    "    table_text = table_text.replace(\"[\", \"\").replace(\"]\", \"\").replace(\"^\", \"\")\n",
    "    \n",
    "    lines = table_text.split(\"\\n\")\n",
    "    lines = [i for i in lines if len(i.strip()) != 0]\n",
    "    separator_counts = []\n",
    "    table_pairs  = []\n",
    "    \n",
    "    start = 0\n",
    "    end = 0\n",
    "    streak = 0\n",
    "    lns=[]\n",
    "#     \"\"\"i removed lines without separator \"\"\"\n",
    "#     for j in lines:\n",
    "#          if  j.count(\"|\") ==0:\n",
    "#                 lines.remove(j)\n",
    "    \n",
    "    #print(lines , \"\\n\\n\")\n",
    "    \n",
    "    for line_n, line in enumerate(lines):\n",
    "        \n",
    "        separator_count = line.count(\"|\")\n",
    "        \n",
    "#         if separator_count == 0:\n",
    "#             continue\n",
    "        \n",
    "        \n",
    "        \n",
    "        #print(line ,separator_count, \"\\n\\n\")\n",
    "        \n",
    "        \"\"\"i add the condition where the next line contain more and less separators than the previous line \"\"\"\n",
    "        \n",
    "        condition_1 = len(separator_counts) == 0  or separator_count == separator_counts[-1] or separator_count > separator_counts[-1] or separator_count < separator_counts[-1]\n",
    "        condition_2 = separator_count != 0\n",
    "        condition_22= len(separator_counts) == 0 \n",
    "        condition_3 = len(separator_counts) !=0 and separator_count ==0\n",
    "            \n",
    "         #If you find the beginning of a table, take note\n",
    "        if (condition_1 and condition_2) or (condition_22 and condition_3)  :\n",
    "            if streak == 0 :\n",
    "                start = line_n\n",
    "            streak += 1\n",
    "        elif condition_1 or condition_3 :\n",
    "            if  streak ==0 :\n",
    "                \n",
    "                start = line_n\n",
    "            streak +=1\n",
    "        else:\n",
    "            if streak != 0  :\n",
    "                table_pairs.append((start, line_n))\n",
    "                all_table_pairs.append((start, line_n, idx))\n",
    "            streak = 0\n",
    "            start = 0\n",
    "    \n",
    "        separator_counts.append(separator_count)\n",
    "        a=separator_count\n",
    "        \n",
    "    sp.append(separator_counts)\n",
    "    \n",
    "    \n",
    "    if (streak > 0):\n",
    "        \n",
    "        table_pairs.append((start, line_n))\n",
    "        all_table_pairs.append((start, line_n, idx))\n",
    "       \n",
    "        \n",
    "    if len(table_pairs) > 0:\n",
    "        for i, pair in enumerate(table_pairs):\n",
    "            \n",
    "            \"remove(-1) : it extrcat more tables , and in the already exist table , there is difference just the description like <3 column table> ... \" \n",
    "            table = lines[pair[0]:pair[1]]\n",
    "            \n",
    "            tmp_tables.append(table)\n",
    "            \n",
    "        tables_extracted.append(tmp_tables[0])\n",
    "        \n",
    "    else:\n",
    "        tables_extracted.append([])\n",
    "     \n",
    "    \n",
    "    idx +=1"
   ]
  },
  {
   "cell_type": "code",
   "execution_count": 19,
   "id": "d5bfdb57",
   "metadata": {
    "execution": {
     "iopub.execute_input": "2022-07-18T08:51:02.323727Z",
     "iopub.status.busy": "2022-07-18T08:51:02.323364Z",
     "iopub.status.idle": "2022-07-18T08:51:02.329526Z",
     "shell.execute_reply": "2022-07-18T08:51:02.328293Z"
    },
    "papermill": {
     "duration": 0.021353,
     "end_time": "2022-07-18T08:51:02.331930",
     "exception": false,
     "start_time": "2022-07-18T08:51:02.310577",
     "status": "completed"
    },
    "tags": []
   },
   "outputs": [
    {
     "name": "stdout",
     "output_type": "stream",
     "text": [
      "15\n"
     ]
    }
   ],
   "source": [
    "nb=0\n",
    "for example in (tables_extracted):\n",
    "    if len(example)> 0 :\n",
    "        nb=nb+1\n",
    "print(nb)"
   ]
  },
  {
   "cell_type": "code",
   "execution_count": 20,
   "id": "21c857be",
   "metadata": {
    "execution": {
     "iopub.execute_input": "2022-07-18T08:51:02.355854Z",
     "iopub.status.busy": "2022-07-18T08:51:02.355455Z",
     "iopub.status.idle": "2022-07-18T08:51:02.360153Z",
     "shell.execute_reply": "2022-07-18T08:51:02.359159Z"
    },
    "papermill": {
     "duration": 0.019217,
     "end_time": "2022-07-18T08:51:02.362218",
     "exception": false,
     "start_time": "2022-07-18T08:51:02.343001",
     "status": "completed"
    },
    "tags": []
   },
   "outputs": [],
   "source": [
    "#  print(all_table_pairs) , len(all_table_pairs)"
   ]
  },
  {
   "cell_type": "code",
   "execution_count": 21,
   "id": "5e759189",
   "metadata": {
    "execution": {
     "iopub.execute_input": "2022-07-18T08:51:02.386458Z",
     "iopub.status.busy": "2022-07-18T08:51:02.386106Z",
     "iopub.status.idle": "2022-07-18T08:51:02.389861Z",
     "shell.execute_reply": "2022-07-18T08:51:02.388977Z"
    },
    "papermill": {
     "duration": 0.018707,
     "end_time": "2022-07-18T08:51:02.392107",
     "exception": false,
     "start_time": "2022-07-18T08:51:02.373400",
     "status": "completed"
    },
    "tags": []
   },
   "outputs": [],
   "source": [
    "# sp"
   ]
  },
  {
   "cell_type": "code",
   "execution_count": 22,
   "id": "51e74127",
   "metadata": {
    "execution": {
     "iopub.execute_input": "2022-07-18T08:51:02.416527Z",
     "iopub.status.busy": "2022-07-18T08:51:02.415939Z",
     "iopub.status.idle": "2022-07-18T08:51:02.422518Z",
     "shell.execute_reply": "2022-07-18T08:51:02.421441Z"
    },
    "papermill": {
     "duration": 0.021082,
     "end_time": "2022-07-18T08:51:02.424511",
     "exception": false,
     "start_time": "2022-07-18T08:51:02.403429",
     "status": "completed"
    },
    "tags": []
   },
   "outputs": [
    {
     "data": {
      "text/plain": [
       "['4 Columned Table',\n",
       " '| Name. | Age. | No. of Dependents. | Remarks. | ',\n",
       " '| --- | --- | --- | --- |',\n",
       " '| Sally Brown His X Mark | 30 | 2 | under four years of age',\n",
       " '| Captain His X Mark | 51 |   |',\n",
       " '| Harrison His X Mark | 23 |   |',\n",
       " '| Taner His X Mark  57 |   |',\n",
       " '| Ida  Her X Mark | 19 |   |',\n",
       " '| Louisia Her X Mark | 40 | 4 under ten years of age |',\n",
       " '| Dallace His X Mark 20 |   |',\n",
       " '| Vick His X Mark | 14 |   |  ',\n",
       " '| Minnie His X Mark | 55 |   | Rheumatism unable to support himself |',\n",
       " '| Mattie Her X Mark | 54 |   |',\n",
       " '| Hester Her X Mark | 28 | 6 | under ten years of age |   ',\n",
       " 'No 198.']"
      ]
     },
     "execution_count": 22,
     "metadata": {},
     "output_type": "execute_result"
    }
   ],
   "source": [
    "tables_extracted[10]"
   ]
  },
  {
   "cell_type": "code",
   "execution_count": 23,
   "id": "b6ac024b",
   "metadata": {
    "execution": {
     "iopub.execute_input": "2022-07-18T08:51:02.449028Z",
     "iopub.status.busy": "2022-07-18T08:51:02.448312Z",
     "iopub.status.idle": "2022-07-18T08:51:02.456439Z",
     "shell.execute_reply": "2022-07-18T08:51:02.455385Z"
    },
    "papermill": {
     "duration": 0.022782,
     "end_time": "2022-07-18T08:51:02.458546",
     "exception": false,
     "start_time": "2022-07-18T08:51:02.435764",
     "status": "completed"
    },
    "tags": []
   },
   "outputs": [
    {
     "data": {
      "text/plain": [
       "[['7 column table',\n",
       "  \"No. | NAME. | AGE. | WAGES. DOLLS. | WAGES. CTS. | MONTHLY PAYM'T. DOLLS. | MONTHLY PAYM'T. CTS.\",\n",
       "  '/preprinted'],\n",
       " ['5 columned table',\n",
       "  '| No. | NAMES. | AGE. | RATE of PAY per month. Dols. | RATE of PAY per month. Cents. |         ',\n",
       "  '| --- | --- | --- | --- | --- | '],\n",
       " ['|NAMES.|AGE.|MONTHLY RATE OF WAGES.|INTEREST IN PROFITS.|',\n",
       "  '|Frances her x mark|16|none|none.',\n",
       "  'DEPENDENTS.'],\n",
       " ['6 Columned Table',\n",
       "  '| NAME | AGE | SEX | CLASS | MONTHLY RATE OF WAGES. | INTEREST IN PROFITS. |',\n",
       "  '|---|---|---|---|---|---|',\n",
       "  '| Franklin | 21 | Male | 1st | $8.00 |'],\n",
       " ['3 columned table',\n",
       "  '| --- | --- | --- |',\n",
       "  \"| 1866 June 16th | Approved Contracted between John L. Banks and Merrit Sanders 'fm, for farming this year | J.L.B. is to furnish Lands, teams, Seed, and farming implements. Three (3) Bls of corn, Two Hundred and fifty (250) Lbs of Pork. Leather for two (2) pair of Shoes (Mens). Pay two thirds (2/3) of wages paid to hired hands and give sd. Merritt Sanders one third (1/3) of crops made. \",\n",
       "  'M.S. is to work on said Lands the whole year. pay one third (1/3) of the hire to hands and furnish some assistance on sd. Lands from his family. | note',\n",
       "  \"| June 18 | Approved Contract between W.H. Sanders and Thomas Campbell 'fm, for farming dated March 1st 1866- | W.H. Sanders is to furnish lands, one horse, seed and feed for horse and receive two thirds (2/3) of crops. Freedman Thomas Campbell is to furnish himself and produce crops on said Lands and retain one third (1/3) of crops, and to keep the ditches open on said lands, occupied by his crops |\",\n",
       "  '| June 18 | Approved Contract between David S. Henry and Freedmen Parson Avery, Jackson Sanders and Reuben Sanders for farming dated June 6th 1866. | David S. Avery to furnish Lands Seeds and Teams. Parson Avery Jackson Sanders and Reuben Sanders freedmen to perform the manual labor necessary to make crops with said teams & Seeds and Lands furnished to keep up the fences and care properly for the stock and implements, and receive one third (1/3) of the crops. '],\n",
       " ['5 column table',\n",
       "  '|NAMES.|AGE.|SEX.|MONTHLY RATE OF WAGES.|INTEREST IN PROFITS.|',\n",
       "  '|Margery X (her mark) Russell|30|female|none|none|',\n",
       "  '/5 column table',\n",
       "  'DEPENDENTS.',\n",
       "  '6 column table',\n",
       "  '|NAMES.|AGE.|SEX.|NAMES.|AGE.|SEX.|',\n",
       "  '|Phillis|9|female|   |   |   |',\n",
       "  '|Emma|6|female|   |   |   |'],\n",
       " ['|No.|Name|Age|Rate of pay per month. Dols Cts.'],\n",
       " ['7 column table',\n",
       "  \"No. | NAME. | Age. | Wages. DOLLS. | CTS. | Monthly Paym't. DOLLS. | CTS.\",\n",
       "  '/preprinted',\n",
       "  '- | Church Fisher further agrees to pay Said Laborer | 18 | $2 | 75 | - | -',\n",
       "  '- | The Laborere to receive (1) one dollar per month each of the several months Specified the balance at expiration of this Contract the amount being $12 75/100 | - | - | - | $1 | 00.'],\n",
       " ['shipment of products shall be made until the Provost Marshal of Freedmen shall certify that all dues to laborers are paid or satisfactorily arranged.',\n",
       "  'IN TESTIMONY WHEREOF, The said parties have affixed their names to this arrangement, at Yazoo Go',\n",
       "  'State of Mississippi, on the day and date aforesaid.',\n",
       "  '6 Columned Table',\n",
       "  '|NAMES|AGE|SEX|CLASS|MONTHLY RATE OF WAGES|INTEREST IN PROFITS|',\n",
       "  '| --- | --- | --- | --- | --- | --- |',\n",
       "  '|Richard Woodbury | 35 | Male | 1 |   |  ',\n",
       "  '|Dick Woodbury | 20 | Male | 1 |   |  ',\n",
       "  '|Daniel Woodbury | 36 | Male | 1 |  |   ',\n",
       "  '|William Woodbury | 20 | Male | 1 |  |  ',\n",
       "  '|March Woodbury | 60 | Male | 1 |   |',\n",
       "  '|Rachel Simmons  |55 |   |   |   |',\n",
       "  'Geo. W. Woodbury'],\n",
       " ['And the said James Chadwick has agreed that he will furnish the said laborers with comfortable quarters, sufficient rations, and the amount of money per month, which stands opposite their respective names; that he will treat them kindly, and encourage the establishment of schools for their children.',\n",
       "  '7 column table',\n",
       "  \"No. | NAME. | AGE. | WAGES. DOLLS. | WAGES. CTS. | MONTHLY PAYM'T. DOLLS. | MONTHLY PAYM'T CTS.\",\n",
       "  '/preprinted',\n",
       "  '1 | Jerry Pigott | 17 | 8 | 00 | 4 | 00',\n",
       "  '/7 column table'],\n",
       " ['4 Columned Table',\n",
       "  '| Name. | Age. | No. of Dependents. | Remarks. | ',\n",
       "  '| --- | --- | --- | --- |',\n",
       "  '| Sally Brown His X Mark | 30 | 2 | under four years of age',\n",
       "  '| Captain His X Mark | 51 |   |',\n",
       "  '| Harrison His X Mark | 23 |   |',\n",
       "  '| Taner His X Mark  57 |   |',\n",
       "  '| Ida  Her X Mark | 19 |   |',\n",
       "  '| Louisia Her X Mark | 40 | 4 under ten years of age |',\n",
       "  '| Dallace His X Mark 20 |   |',\n",
       "  '| Vick His X Mark | 14 |   |  ',\n",
       "  '| Minnie His X Mark | 55 |   | Rheumatism unable to support himself |',\n",
       "  '| Mattie Her X Mark | 54 |   |',\n",
       "  '| Hester Her X Mark | 28 | 6 | under ten years of age |   ',\n",
       "  'No 198.'],\n",
       " ['In witness whereof the parties hereto affix their hands and seals on the day and year first above written Asher & Boyed {Seal}',\n",
       "  '7 Columned Table',\n",
       "  '|Names|age|Pay pr Mo-|Pay pr Year|Remarks|',\n",
       "  '|---|---|---|---|---|---|---|',\n",
       "  '|Frank his x mark Princeton|32|   |   |$150|00|Began 1st January 1866|',\n",
       "  '|James his x mark Armstrong|61|   |   |$100|00|Began 30th day January 1866'],\n",
       " ['5 columned table',\n",
       "  '|NAMES.|AGE.|SEX.|MONTHLY RATE OF WAGES.|INTEREST IN PROFITS.|',\n",
       "  '|---|---|---|---|---|',\n",
       "  '|George X his mark|18|male|Food clothing medical attention|',\n",
       "  '|Susannah X mark|15|Female|Food clothing medical attention|',\n",
       "  '|Silva X mark|55|Female|Food clothing medical attention|',\n",
       "  '|Beck X mark|24|Female|Food clothing medical attention|',\n",
       "  '|Patiric X mark|55|male|Food clothing medical attention|'],\n",
       " ['3 columned table',\n",
       "  'DEPENDENTS',\n",
       "  '|NAMES.|AGE.|SEX.|',\n",
       "  '|---|---|---|',\n",
       "  '|Westly|7|male|'],\n",
       " ['IN TESTIMONY WHEREOF, the said parties have affixed their names to this agreement, at Brookhaven State Mississippi of blank on the day and date aforesaid.',\n",
       "  '6 columned table',\n",
       "  '| NAMES. | AGE. | SEX. | CLASS. | MONTHLY RATE OF WAGES | INTEREST IN PROFITS. |',\n",
       "  '|---|---|---|---|---|---|',\n",
       "  'paired',\n",
       "  '| Ellie, | 55, | Male, | 3 | 2 girls. | (4) Four acres of Land planted with corn, and (60) Sixty Bushels of Corn to be devided. |',\n",
       "  '| Julia, Ann, - | 45, | Fem, | 3 | 2 Boys. | (4) Four acres of Land planted with corn, and (60) Sixty Bushels of Corn to be devided. |',\n",
       "  '/paired',\n",
       "  '| John, | 60, | Male, | 3 | Maintenance, | (4) Four acres of Land planted with corn, and (60) Sixty Bushels of Corn to be devided. |',\n",
       "  '| Jim, | 27 ,| Male | 3 | (4) Four acres of Land planted with corn, and (60) Sixty Bushels of Corn to be devided. |',\n",
       "  '| Emmanuel, | 18, | Male | 3 | (4) Four acres of Land planted with corn, and (60) Sixty Bushels of Corn to be devided. |',\n",
       "  '| Arthur, | 17, | Male | 3 | (4) Four acres of Land planted with corn, and (60) Sixty Bushels of Corn to be devided. |',\n",
       "  '| Andy, | 15, | Male | 3 | (4) Four acres of Land planted with corn, and (60) Sixty Bushels of Corn to be devided. |',\n",
       "  '| Emoline, | 18, | Fem | 3 | $2.00. | (4) Four acres of Land planted with corn, and (60) Sixty Bushels of Corn to be devided. |',\n",
       "  '| Ann, | 21, | Fem | 3 | $2.00. | (4) Four acres of Land planted with corn, and (60) Sixty Bushels of Corn to be devided. |',\n",
       "  'Executed in presence of ']]"
      ]
     },
     "execution_count": 23,
     "metadata": {},
     "output_type": "execute_result"
    }
   ],
   "source": [
    "tables_extracted"
   ]
  },
  {
   "cell_type": "code",
   "execution_count": 24,
   "id": "920f6d98",
   "metadata": {
    "execution": {
     "iopub.execute_input": "2022-07-18T08:51:02.484290Z",
     "iopub.status.busy": "2022-07-18T08:51:02.483213Z",
     "iopub.status.idle": "2022-07-18T08:51:02.490151Z",
     "shell.execute_reply": "2022-07-18T08:51:02.488988Z"
    },
    "papermill": {
     "duration": 0.022005,
     "end_time": "2022-07-18T08:51:02.492419",
     "exception": false,
     "start_time": "2022-07-18T08:51:02.470414",
     "status": "completed"
    },
    "tags": []
   },
   "outputs": [
    {
     "name": "stdout",
     "output_type": "stream",
     "text": [
      "15\n"
     ]
    }
   ],
   "source": [
    "nb=0\n",
    "for example in (tables_extracted):\n",
    "    if len(example)> 0 :\n",
    "        nb=nb+1\n",
    "print(nb)"
   ]
  },
  {
   "cell_type": "code",
   "execution_count": 25,
   "id": "42fff8e1",
   "metadata": {
    "execution": {
     "iopub.execute_input": "2022-07-18T08:51:02.517329Z",
     "iopub.status.busy": "2022-07-18T08:51:02.516941Z",
     "iopub.status.idle": "2022-07-18T08:51:02.521444Z",
     "shell.execute_reply": "2022-07-18T08:51:02.520520Z"
    },
    "papermill": {
     "duration": 0.019343,
     "end_time": "2022-07-18T08:51:02.523416",
     "exception": false,
     "start_time": "2022-07-18T08:51:02.504073",
     "status": "completed"
    },
    "tags": []
   },
   "outputs": [],
   "source": [
    "# print(notex[7]) #separators less than the previous lines\n"
   ]
  },
  {
   "cell_type": "code",
   "execution_count": 26,
   "id": "2f5a43a4",
   "metadata": {
    "execution": {
     "iopub.execute_input": "2022-07-18T08:51:02.549214Z",
     "iopub.status.busy": "2022-07-18T08:51:02.548431Z",
     "iopub.status.idle": "2022-07-18T08:51:02.554383Z",
     "shell.execute_reply": "2022-07-18T08:51:02.553505Z"
    },
    "papermill": {
     "duration": 0.021,
     "end_time": "2022-07-18T08:51:02.556317",
     "exception": false,
     "start_time": "2022-07-18T08:51:02.535317",
     "status": "completed"
    },
    "tags": []
   },
   "outputs": [
    {
     "data": {
      "text/plain": [
       "\"[[7 column table]]\\nNo. | NAME. | AGE. | WAGES. DOLLS. | [[WAGES.]] CTS. | MONTHLY PAYM'T. DOLLS. | [[MONTHLY PAYM'T.]] CTS.\\n[[/preprinted]]\\n\\n1 | Sarah | 17 | 2 | 50 | 1 | 75 \""
      ]
     },
     "execution_count": 26,
     "metadata": {},
     "output_type": "execute_result"
    }
   ],
   "source": [
    "notex[0]"
   ]
  },
  {
   "cell_type": "code",
   "execution_count": 27,
   "id": "9a490d50",
   "metadata": {
    "execution": {
     "iopub.execute_input": "2022-07-18T08:51:02.581786Z",
     "iopub.status.busy": "2022-07-18T08:51:02.581407Z",
     "iopub.status.idle": "2022-07-18T08:51:02.590100Z",
     "shell.execute_reply": "2022-07-18T08:51:02.589206Z"
    },
    "papermill": {
     "duration": 0.023981,
     "end_time": "2022-07-18T08:51:02.592118",
     "exception": false,
     "start_time": "2022-07-18T08:51:02.568137",
     "status": "completed"
    },
    "tags": []
   },
   "outputs": [
    {
     "data": {
      "text/plain": [
       "[['7 column table',\n",
       "  \"No. | NAME. | AGE. | WAGES. DOLLS. | WAGES. CTS. | MONTHLY PAYM'T. DOLLS. | MONTHLY PAYM'T. CTS.\",\n",
       "  '/preprinted'],\n",
       " ['5 columned table',\n",
       "  '| No. | NAMES. | AGE. | RATE of PAY per month. Dols. | RATE of PAY per month. Cents. |         ',\n",
       "  '| --- | --- | --- | --- | --- | '],\n",
       " ['|NAMES.|AGE.|MONTHLY RATE OF WAGES.|INTEREST IN PROFITS.|',\n",
       "  '|Frances her x mark|16|none|none.',\n",
       "  'DEPENDENTS.'],\n",
       " ['6 Columned Table',\n",
       "  '| NAME | AGE | SEX | CLASS | MONTHLY RATE OF WAGES. | INTEREST IN PROFITS. |',\n",
       "  '|---|---|---|---|---|---|',\n",
       "  '| Franklin | 21 | Male | 1st | $8.00 |'],\n",
       " ['3 columned table',\n",
       "  '| --- | --- | --- |',\n",
       "  \"| 1866 June 16th | Approved Contracted between John L. Banks and Merrit Sanders 'fm, for farming this year | J.L.B. is to furnish Lands, teams, Seed, and farming implements. Three (3) Bls of corn, Two Hundred and fifty (250) Lbs of Pork. Leather for two (2) pair of Shoes (Mens). Pay two thirds (2/3) of wages paid to hired hands and give sd. Merritt Sanders one third (1/3) of crops made. \",\n",
       "  'M.S. is to work on said Lands the whole year. pay one third (1/3) of the hire to hands and furnish some assistance on sd. Lands from his family. | note',\n",
       "  \"| June 18 | Approved Contract between W.H. Sanders and Thomas Campbell 'fm, for farming dated March 1st 1866- | W.H. Sanders is to furnish lands, one horse, seed and feed for horse and receive two thirds (2/3) of crops. Freedman Thomas Campbell is to furnish himself and produce crops on said Lands and retain one third (1/3) of crops, and to keep the ditches open on said lands, occupied by his crops |\",\n",
       "  '| June 18 | Approved Contract between David S. Henry and Freedmen Parson Avery, Jackson Sanders and Reuben Sanders for farming dated June 6th 1866. | David S. Avery to furnish Lands Seeds and Teams. Parson Avery Jackson Sanders and Reuben Sanders freedmen to perform the manual labor necessary to make crops with said teams & Seeds and Lands furnished to keep up the fences and care properly for the stock and implements, and receive one third (1/3) of the crops. '],\n",
       " ['5 column table',\n",
       "  '|NAMES.|AGE.|SEX.|MONTHLY RATE OF WAGES.|INTEREST IN PROFITS.|',\n",
       "  '|Margery X (her mark) Russell|30|female|none|none|',\n",
       "  '/5 column table',\n",
       "  'DEPENDENTS.',\n",
       "  '6 column table',\n",
       "  '|NAMES.|AGE.|SEX.|NAMES.|AGE.|SEX.|',\n",
       "  '|Phillis|9|female|   |   |   |',\n",
       "  '|Emma|6|female|   |   |   |'],\n",
       " ['|No.|Name|Age|Rate of pay per month. Dols Cts.'],\n",
       " ['7 column table',\n",
       "  \"No. | NAME. | Age. | Wages. DOLLS. | CTS. | Monthly Paym't. DOLLS. | CTS.\",\n",
       "  '/preprinted',\n",
       "  '- | Church Fisher further agrees to pay Said Laborer | 18 | $2 | 75 | - | -',\n",
       "  '- | The Laborere to receive (1) one dollar per month each of the several months Specified the balance at expiration of this Contract the amount being $12 75/100 | - | - | - | $1 | 00.'],\n",
       " ['shipment of products shall be made until the Provost Marshal of Freedmen shall certify that all dues to laborers are paid or satisfactorily arranged.',\n",
       "  'IN TESTIMONY WHEREOF, The said parties have affixed their names to this arrangement, at Yazoo Go',\n",
       "  'State of Mississippi, on the day and date aforesaid.',\n",
       "  '6 Columned Table',\n",
       "  '|NAMES|AGE|SEX|CLASS|MONTHLY RATE OF WAGES|INTEREST IN PROFITS|',\n",
       "  '| --- | --- | --- | --- | --- | --- |',\n",
       "  '|Richard Woodbury | 35 | Male | 1 |   |  ',\n",
       "  '|Dick Woodbury | 20 | Male | 1 |   |  ',\n",
       "  '|Daniel Woodbury | 36 | Male | 1 |  |   ',\n",
       "  '|William Woodbury | 20 | Male | 1 |  |  ',\n",
       "  '|March Woodbury | 60 | Male | 1 |   |',\n",
       "  '|Rachel Simmons  |55 |   |   |   |',\n",
       "  'Geo. W. Woodbury'],\n",
       " ['And the said James Chadwick has agreed that he will furnish the said laborers with comfortable quarters, sufficient rations, and the amount of money per month, which stands opposite their respective names; that he will treat them kindly, and encourage the establishment of schools for their children.',\n",
       "  '7 column table',\n",
       "  \"No. | NAME. | AGE. | WAGES. DOLLS. | WAGES. CTS. | MONTHLY PAYM'T. DOLLS. | MONTHLY PAYM'T CTS.\",\n",
       "  '/preprinted',\n",
       "  '1 | Jerry Pigott | 17 | 8 | 00 | 4 | 00',\n",
       "  '/7 column table'],\n",
       " ['4 Columned Table',\n",
       "  '| Name. | Age. | No. of Dependents. | Remarks. | ',\n",
       "  '| --- | --- | --- | --- |',\n",
       "  '| Sally Brown His X Mark | 30 | 2 | under four years of age',\n",
       "  '| Captain His X Mark | 51 |   |',\n",
       "  '| Harrison His X Mark | 23 |   |',\n",
       "  '| Taner His X Mark  57 |   |',\n",
       "  '| Ida  Her X Mark | 19 |   |',\n",
       "  '| Louisia Her X Mark | 40 | 4 under ten years of age |',\n",
       "  '| Dallace His X Mark 20 |   |',\n",
       "  '| Vick His X Mark | 14 |   |  ',\n",
       "  '| Minnie His X Mark | 55 |   | Rheumatism unable to support himself |',\n",
       "  '| Mattie Her X Mark | 54 |   |',\n",
       "  '| Hester Her X Mark | 28 | 6 | under ten years of age |   ',\n",
       "  'No 198.'],\n",
       " ['In witness whereof the parties hereto affix their hands and seals on the day and year first above written Asher & Boyed {Seal}',\n",
       "  '7 Columned Table',\n",
       "  '|Names|age|Pay pr Mo-|Pay pr Year|Remarks|',\n",
       "  '|---|---|---|---|---|---|---|',\n",
       "  '|Frank his x mark Princeton|32|   |   |$150|00|Began 1st January 1866|',\n",
       "  '|James his x mark Armstrong|61|   |   |$100|00|Began 30th day January 1866'],\n",
       " ['5 columned table',\n",
       "  '|NAMES.|AGE.|SEX.|MONTHLY RATE OF WAGES.|INTEREST IN PROFITS.|',\n",
       "  '|---|---|---|---|---|',\n",
       "  '|George X his mark|18|male|Food clothing medical attention|',\n",
       "  '|Susannah X mark|15|Female|Food clothing medical attention|',\n",
       "  '|Silva X mark|55|Female|Food clothing medical attention|',\n",
       "  '|Beck X mark|24|Female|Food clothing medical attention|',\n",
       "  '|Patiric X mark|55|male|Food clothing medical attention|'],\n",
       " ['3 columned table',\n",
       "  'DEPENDENTS',\n",
       "  '|NAMES.|AGE.|SEX.|',\n",
       "  '|---|---|---|',\n",
       "  '|Westly|7|male|'],\n",
       " ['IN TESTIMONY WHEREOF, the said parties have affixed their names to this agreement, at Brookhaven State Mississippi of blank on the day and date aforesaid.',\n",
       "  '6 columned table',\n",
       "  '| NAMES. | AGE. | SEX. | CLASS. | MONTHLY RATE OF WAGES | INTEREST IN PROFITS. |',\n",
       "  '|---|---|---|---|---|---|',\n",
       "  'paired',\n",
       "  '| Ellie, | 55, | Male, | 3 | 2 girls. | (4) Four acres of Land planted with corn, and (60) Sixty Bushels of Corn to be devided. |',\n",
       "  '| Julia, Ann, - | 45, | Fem, | 3 | 2 Boys. | (4) Four acres of Land planted with corn, and (60) Sixty Bushels of Corn to be devided. |',\n",
       "  '/paired',\n",
       "  '| John, | 60, | Male, | 3 | Maintenance, | (4) Four acres of Land planted with corn, and (60) Sixty Bushels of Corn to be devided. |',\n",
       "  '| Jim, | 27 ,| Male | 3 | (4) Four acres of Land planted with corn, and (60) Sixty Bushels of Corn to be devided. |',\n",
       "  '| Emmanuel, | 18, | Male | 3 | (4) Four acres of Land planted with corn, and (60) Sixty Bushels of Corn to be devided. |',\n",
       "  '| Arthur, | 17, | Male | 3 | (4) Four acres of Land planted with corn, and (60) Sixty Bushels of Corn to be devided. |',\n",
       "  '| Andy, | 15, | Male | 3 | (4) Four acres of Land planted with corn, and (60) Sixty Bushels of Corn to be devided. |',\n",
       "  '| Emoline, | 18, | Fem | 3 | $2.00. | (4) Four acres of Land planted with corn, and (60) Sixty Bushels of Corn to be devided. |',\n",
       "  '| Ann, | 21, | Fem | 3 | $2.00. | (4) Four acres of Land planted with corn, and (60) Sixty Bushels of Corn to be devided. |',\n",
       "  'Executed in presence of ']]"
      ]
     },
     "execution_count": 27,
     "metadata": {},
     "output_type": "execute_result"
    }
   ],
   "source": [
    "tables_extracted"
   ]
  },
  {
   "cell_type": "code",
   "execution_count": 28,
   "id": "ee1db454",
   "metadata": {
    "execution": {
     "iopub.execute_input": "2022-07-18T08:51:02.618798Z",
     "iopub.status.busy": "2022-07-18T08:51:02.618104Z",
     "iopub.status.idle": "2022-07-18T08:51:02.623470Z",
     "shell.execute_reply": "2022-07-18T08:51:02.622024Z"
    },
    "papermill": {
     "duration": 0.021361,
     "end_time": "2022-07-18T08:51:02.625810",
     "exception": false,
     "start_time": "2022-07-18T08:51:02.604449",
     "status": "completed"
    },
    "tags": []
   },
   "outputs": [
    {
     "name": "stdout",
     "output_type": "stream",
     "text": [
      "In witness whereof the parties hereto affix their hands and seals on the day and year first above written Asher & Boyed {Seal}\n",
      "[[7 Columned Table]]\n",
      "|Names|age|Pay pr Mo-|Pay pr Year|Remarks|\n",
      "|---|---|---|---|---|---|---|\n",
      "|Frank his x mark Princeton|32|   |   |$150|00|Began 1st January 1866|\n",
      "|James his x mark Armstrong|61|   |   |$100|00|Began 30th day January 1866\n",
      "|Daniel x Johnston|36|   |   |$175|00|Began 5th day of February 1866|\n"
     ]
    }
   ],
   "source": [
    "print(notex[11])"
   ]
  },
  {
   "cell_type": "code",
   "execution_count": 29,
   "id": "2f4320bb",
   "metadata": {
    "execution": {
     "iopub.execute_input": "2022-07-18T08:51:02.652644Z",
     "iopub.status.busy": "2022-07-18T08:51:02.651919Z",
     "iopub.status.idle": "2022-07-18T08:51:02.657911Z",
     "shell.execute_reply": "2022-07-18T08:51:02.657060Z"
    },
    "papermill": {
     "duration": 0.021818,
     "end_time": "2022-07-18T08:51:02.659997",
     "exception": false,
     "start_time": "2022-07-18T08:51:02.638179",
     "status": "completed"
    },
    "tags": []
   },
   "outputs": [
    {
     "data": {
      "text/plain": [
       "['In witness whereof the parties hereto affix their hands and seals on the day and year first above written Asher & Boyed {Seal}',\n",
       " '7 Columned Table',\n",
       " '|Names|age|Pay pr Mo-|Pay pr Year|Remarks|',\n",
       " '|---|---|---|---|---|---|---|',\n",
       " '|Frank his x mark Princeton|32|   |   |$150|00|Began 1st January 1866|',\n",
       " '|James his x mark Armstrong|61|   |   |$100|00|Began 30th day January 1866']"
      ]
     },
     "execution_count": 29,
     "metadata": {},
     "output_type": "execute_result"
    }
   ],
   "source": [
    "tables_extracted[11]"
   ]
  },
  {
   "cell_type": "code",
   "execution_count": 30,
   "id": "950bd0a9",
   "metadata": {
    "execution": {
     "iopub.execute_input": "2022-07-18T08:51:02.686811Z",
     "iopub.status.busy": "2022-07-18T08:51:02.686068Z",
     "iopub.status.idle": "2022-07-18T08:51:02.692088Z",
     "shell.execute_reply": "2022-07-18T08:51:02.691268Z"
    },
    "papermill": {
     "duration": 0.021927,
     "end_time": "2022-07-18T08:51:02.694244",
     "exception": false,
     "start_time": "2022-07-18T08:51:02.672317",
     "status": "completed"
    },
    "tags": []
   },
   "outputs": [
    {
     "data": {
      "text/plain": [
       "8"
      ]
     },
     "execution_count": 30,
     "metadata": {},
     "output_type": "execute_result"
    }
   ],
   "source": [
    "separator_count =\"|Frank his x mark Princeton|32|   |   |$150|00|Began 1st January 1866|\".count(\"|\")\n",
    "separator_count"
   ]
  },
  {
   "cell_type": "code",
   "execution_count": 31,
   "id": "dd2c7657",
   "metadata": {
    "execution": {
     "iopub.execute_input": "2022-07-18T08:51:02.721813Z",
     "iopub.status.busy": "2022-07-18T08:51:02.721136Z",
     "iopub.status.idle": "2022-07-18T08:51:02.726931Z",
     "shell.execute_reply": "2022-07-18T08:51:02.726144Z"
    },
    "papermill": {
     "duration": 0.022057,
     "end_time": "2022-07-18T08:51:02.729155",
     "exception": false,
     "start_time": "2022-07-18T08:51:02.707098",
     "status": "completed"
    },
    "tags": []
   },
   "outputs": [
    {
     "data": {
      "text/plain": [
       "['3 columned table',\n",
       " 'DEPENDENTS',\n",
       " '|NAMES.|AGE.|SEX.|',\n",
       " '|---|---|---|',\n",
       " '|Westly|7|male|']"
      ]
     },
     "execution_count": 31,
     "metadata": {},
     "output_type": "execute_result"
    }
   ],
   "source": [
    "tables_extracted[13]"
   ]
  },
  {
   "cell_type": "code",
   "execution_count": 32,
   "id": "01c2b4cf",
   "metadata": {
    "execution": {
     "iopub.execute_input": "2022-07-18T08:51:02.757155Z",
     "iopub.status.busy": "2022-07-18T08:51:02.756408Z",
     "iopub.status.idle": "2022-07-18T08:51:02.762989Z",
     "shell.execute_reply": "2022-07-18T08:51:02.761290Z"
    },
    "papermill": {
     "duration": 0.023081,
     "end_time": "2022-07-18T08:51:02.765381",
     "exception": false,
     "start_time": "2022-07-18T08:51:02.742300",
     "status": "completed"
    },
    "tags": []
   },
   "outputs": [
    {
     "name": "stdout",
     "output_type": "stream",
     "text": [
      "15\n"
     ]
    }
   ],
   "source": [
    "nb=0\n",
    "for example in (tables_extracted):\n",
    "    if len(example)> 0 :\n",
    "        nb=nb+1\n",
    "print(nb)"
   ]
  },
  {
   "cell_type": "code",
   "execution_count": 33,
   "id": "362baa8a",
   "metadata": {
    "execution": {
     "iopub.execute_input": "2022-07-18T08:51:02.794338Z",
     "iopub.status.busy": "2022-07-18T08:51:02.793628Z",
     "iopub.status.idle": "2022-07-18T08:51:02.797745Z",
     "shell.execute_reply": "2022-07-18T08:51:02.796862Z"
    },
    "papermill": {
     "duration": 0.021157,
     "end_time": "2022-07-18T08:51:02.799830",
     "exception": false,
     "start_time": "2022-07-18T08:51:02.778673",
     "status": "completed"
    },
    "tags": []
   },
   "outputs": [],
   "source": [
    "# for i in (contract[contract.tables_parsed == {}].sample(n=2).transcription_text.tolist()):\n",
    "\n",
    "#     print(i)\n",
    "#     print(\"==========\")"
   ]
  },
  {
   "cell_type": "code",
   "execution_count": 34,
   "id": "04fc248a",
   "metadata": {
    "execution": {
     "iopub.execute_input": "2022-07-18T08:51:02.828094Z",
     "iopub.status.busy": "2022-07-18T08:51:02.827372Z",
     "iopub.status.idle": "2022-07-18T08:51:02.848567Z",
     "shell.execute_reply": "2022-07-18T08:51:02.846644Z"
    },
    "papermill": {
     "duration": 0.038105,
     "end_time": "2022-07-18T08:51:02.851054",
     "exception": false,
     "start_time": "2022-07-18T08:51:02.812949",
     "status": "completed"
    },
    "tags": []
   },
   "outputs": [
    {
     "name": "stdout",
     "output_type": "stream",
     "text": [
      "0 milieu \n",
      "\n",
      "4 loota \n",
      "\n",
      "0 milieu \n",
      "\n",
      "4 loota \n",
      "\n",
      "4 loota \n",
      "\n",
      "0 milieu \n",
      "\n",
      "5 loota \n",
      "\n",
      "0 milieu \n",
      "\n",
      "7 loota \n",
      "\n",
      "0 milieu \n",
      "\n",
      "10 loota \n",
      "\n",
      "2 loota \n",
      "\n",
      "0 milieu \n",
      "\n",
      "6 loota \n",
      "\n",
      "0 milieu \n",
      "\n",
      "14 loota \n",
      "\n",
      "0 milieu \n",
      "\n",
      "7 loota \n",
      "\n",
      "0 milieu \n",
      "\n",
      "16 loota \n",
      "\n",
      "0 milieu \n",
      "\n",
      "7 loota \n",
      "\n",
      "0 milieu \n",
      "\n",
      "9 loota \n",
      "\n",
      "0 milieu \n",
      "\n",
      "6 loota \n",
      "\n",
      "0 milieu \n",
      "\n",
      "17 loota \n",
      "\n"
     ]
    }
   ],
   "source": [
    "contract_text = contract.transcription_text.tolist()\n",
    "\n",
    "lns = []\n",
    "tables_extracted = []\n",
    "all_table_pairs = []\n",
    "idx = 0\n",
    "sp=[]\n",
    "\n",
    "for table_text in notex:\n",
    "\n",
    "    tmp_tables = []\n",
    "    table_text = table_text.replace(\"[\", \"\").replace(\"]\", \"\").replace(\"^\", \"\")\n",
    "    \n",
    "    lines = table_text.split(\"\\n\")\n",
    "    lines = [i for i in lines if len(i.strip()) != 0]\n",
    "    separator_counts = []\n",
    "    table_pairs  = []\n",
    "    \n",
    "    start = 0\n",
    "    end = 0\n",
    "    streak = 0\n",
    "    lns=[]\n",
    "#     \"\"\"i removed lines without separator \"\"\"\n",
    "#     for j in lines:\n",
    "#          if  j.count(\"|\") ==0:\n",
    "#                 lines.remove(j)\n",
    "    \n",
    "    #print(lines , \"\\n\\n\")\n",
    "    \n",
    "    for line_n, line in enumerate(lines):\n",
    "        \n",
    "        separator_count = line.count(\"|\")\n",
    "        \n",
    "#         if separator_count == 0:\n",
    "#             continue\n",
    "        \n",
    "        \n",
    "        \n",
    "        #print(line ,separator_count, \"\\n\\n\")\n",
    "        \n",
    "        \"\"\"i add the condition where the next line contain more and less separators than the previous line \"\"\"\n",
    "        \n",
    "        condition_1 = len(separator_counts) == 0  or separator_count == separator_counts[-1] or separator_count > separator_counts[-1] or separator_count < separator_counts[-1]\n",
    "        condition_2 = separator_count != 0\n",
    "        condition_22= len(separator_counts) == 0 \n",
    "        condition_3 = len(separator_counts) !=0 and separator_count ==0\n",
    "            \n",
    "         #If you find the beginning of a table, take note\n",
    "        if (condition_1 and condition_2) or (condition_22 and condition_3)  :\n",
    "            if streak == 0 :\n",
    "                start = line_n\n",
    "            streak += 1\n",
    "        elif condition_1 or condition_3 :\n",
    "            if  streak ==0 :\n",
    "                print(streak , \"milieu \\n\")\n",
    "                start = line_n\n",
    "            streak +=1\n",
    "        else:\n",
    "            if streak != 0  :\n",
    "                table_pairs.append((start, line_n))\n",
    "                all_table_pairs.append((start, line_n, idx))\n",
    "            streak = 0\n",
    "            start = 0\n",
    "    \n",
    "        separator_counts.append(separator_count)\n",
    "        a=separator_count\n",
    "        \n",
    "    sp.append(separator_counts)\n",
    "    \n",
    "    \n",
    "    if (streak > 0):\n",
    "        print(streak , \"loota \\n\")\n",
    "        table_pairs.append((start, line_n))\n",
    "        all_table_pairs.append((start, line_n, idx))\n",
    "       \n",
    "        \n",
    "    if len(table_pairs) > 0:\n",
    "        for i, pair in enumerate(table_pairs):\n",
    "            \n",
    "            \"remove(-1) : it extrcat more tables , and in the already exist table , there is difference just the description like <3 column table> ... \" \n",
    "            table = lines[pair[0]:pair[1]]\n",
    "            \n",
    "            tmp_tables.append(table)\n",
    "            \n",
    "        tables_extracted.append(tmp_tables[0])\n",
    "        \n",
    "    else:\n",
    "        tables_extracted.append([])\n",
    "     \n",
    "    \n",
    "    idx +=1"
   ]
  },
  {
   "cell_type": "code",
   "execution_count": null,
   "id": "2998c80b",
   "metadata": {
    "papermill": {
     "duration": 0.012532,
     "end_time": "2022-07-18T08:51:02.876827",
     "exception": false,
     "start_time": "2022-07-18T08:51:02.864295",
     "status": "completed"
    },
    "tags": []
   },
   "outputs": [],
   "source": []
  }
 ],
 "metadata": {
  "kernelspec": {
   "display_name": "Python 3",
   "language": "python",
   "name": "python3"
  },
  "language_info": {
   "codemirror_mode": {
    "name": "ipython",
    "version": 3
   },
   "file_extension": ".py",
   "mimetype": "text/x-python",
   "name": "python",
   "nbconvert_exporter": "python",
   "pygments_lexer": "ipython3",
   "version": "3.7.12"
  },
  "papermill": {
   "default_parameters": {},
   "duration": 69.78318,
   "end_time": "2022-07-18T08:51:03.811922",
   "environment_variables": {},
   "exception": null,
   "input_path": "__notebook__.ipynb",
   "output_path": "__notebook__.ipynb",
   "parameters": {},
   "start_time": "2022-07-18T08:49:54.028742",
   "version": "2.3.4"
  }
 },
 "nbformat": 4,
 "nbformat_minor": 5
}
