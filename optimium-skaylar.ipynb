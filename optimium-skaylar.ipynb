{
 "cells": [
  {
   "cell_type": "code",
   "execution_count": 1,
   "id": "e7f3b173",
   "metadata": {
    "_cell_guid": "b1076dfc-b9ad-4769-8c92-a6c4dae69d19",
    "_kg_hide-output": true,
    "_uuid": "8f2839f25d086af736a60e9eeb907d3b93b6e0e5",
    "execution": {
     "iopub.execute_input": "2022-07-15T11:13:08.895401Z",
     "iopub.status.busy": "2022-07-15T11:13:08.894666Z",
     "iopub.status.idle": "2022-07-15T11:13:10.869036Z",
     "shell.execute_reply": "2022-07-15T11:13:10.867837Z"
    },
    "papermill": {
     "duration": 1.986443,
     "end_time": "2022-07-15T11:13:10.871851",
     "exception": false,
     "start_time": "2022-07-15T11:13:08.885408",
     "status": "completed"
    },
    "tags": []
   },
   "outputs": [],
   "source": [
    "# !pip install flair\n",
    "import time\n",
    "import string\n",
    "import warnings\n",
    "\n",
    "import regex as re\n",
    "from tqdm import tqdm\n",
    "\n",
    "\n",
    "import pickle\n",
    "import numpy as np\n",
    "import pandas as pd \n",
    "\n",
    "import seaborn as sns\n",
    "import matplotlib.pyplot as plt \n",
    "import matplotlib.style as stl \n",
    "\n",
    "\n",
    "\n",
    "from nltk.corpus import stopwords\n",
    "from nltk.corpus import stopwords\n",
    "from nltk.tokenize import word_tokenize\n",
    "from nltk.stem import WordNetLemmatizer\n",
    "from nltk.stem.snowball import SnowballStemmer\n",
    "\n",
    "\n",
    "warnings.filterwarnings(\"ignore\")"
   ]
  },
  {
   "cell_type": "code",
   "execution_count": 2,
   "id": "e90a9b9f",
   "metadata": {
    "execution": {
     "iopub.execute_input": "2022-07-15T11:13:10.886506Z",
     "iopub.status.busy": "2022-07-15T11:13:10.886115Z",
     "iopub.status.idle": "2022-07-15T11:13:18.765955Z",
     "shell.execute_reply": "2022-07-15T11:13:18.764955Z"
    },
    "papermill": {
     "duration": 7.89001,
     "end_time": "2022-07-15T11:13:18.768295",
     "exception": false,
     "start_time": "2022-07-15T11:13:10.878285",
     "status": "completed"
    },
    "tags": []
   },
   "outputs": [],
   "source": [
    "documents = pd.read_csv(\"../input/skylarfreedman/Documents-Table 1.csv\", on_bad_lines='skip', sep=\";\")"
   ]
  },
  {
   "cell_type": "code",
   "execution_count": 3,
   "id": "8a80b0ef",
   "metadata": {
    "execution": {
     "iopub.execute_input": "2022-07-15T11:13:18.782429Z",
     "iopub.status.busy": "2022-07-15T11:13:18.781692Z",
     "iopub.status.idle": "2022-07-15T11:13:18.824342Z",
     "shell.execute_reply": "2022-07-15T11:13:18.823047Z"
    },
    "papermill": {
     "duration": 0.052495,
     "end_time": "2022-07-15T11:13:18.826981",
     "exception": false,
     "start_time": "2022-07-15T11:13:18.774486",
     "status": "completed"
    },
    "tags": []
   },
   "outputs": [],
   "source": [
    "contract = documents[documents.Category == \"Contracts\"]\n",
    "contract = contract[[\"document_id\", \"project_id\", \"transcription_text\"]]"
   ]
  },
  {
   "cell_type": "code",
   "execution_count": 4,
   "id": "987dee1f",
   "metadata": {
    "execution": {
     "iopub.execute_input": "2022-07-15T11:13:18.841284Z",
     "iopub.status.busy": "2022-07-15T11:13:18.840542Z",
     "iopub.status.idle": "2022-07-15T11:13:18.853716Z",
     "shell.execute_reply": "2022-07-15T11:13:18.852496Z"
    },
    "papermill": {
     "duration": 0.022936,
     "end_time": "2022-07-15T11:13:18.856103",
     "exception": false,
     "start_time": "2022-07-15T11:13:18.833167",
     "status": "completed"
    },
    "tags": []
   },
   "outputs": [],
   "source": [
    "contract = contract[pd.notnull(contract['transcription_text'])]\n",
    "contract = contract.reset_index(drop=True)"
   ]
  },
  {
   "cell_type": "markdown",
   "id": "90dbd7d9",
   "metadata": {
    "papermill": {
     "duration": 0.00591,
     "end_time": "2022-07-15T11:13:18.868113",
     "exception": false,
     "start_time": "2022-07-15T11:13:18.862203",
     "status": "completed"
    },
    "tags": []
   },
   "source": [
    "# Preprocessing"
   ]
  },
  {
   "cell_type": "code",
   "execution_count": 5,
   "id": "d8317870",
   "metadata": {
    "execution": {
     "iopub.execute_input": "2022-07-15T11:13:18.881854Z",
     "iopub.status.busy": "2022-07-15T11:13:18.881464Z",
     "iopub.status.idle": "2022-07-15T11:13:18.893054Z",
     "shell.execute_reply": "2022-07-15T11:13:18.892213Z"
    },
    "papermill": {
     "duration": 0.020865,
     "end_time": "2022-07-15T11:13:18.895044",
     "exception": false,
     "start_time": "2022-07-15T11:13:18.874179",
     "status": "completed"
    },
    "tags": []
   },
   "outputs": [],
   "source": [
    "stop_words = set(stopwords.words('english'))\n",
    "punctuation = string.punctuation\n",
    "stemmer = SnowballStemmer(language=\"english\")\n",
    "lemmatizer = WordNetLemmatizer()\n",
    "stop_words.remove(\"of\")\n",
    "punct='!\"#$%&\\'()*+-/<=>?@[\\\\]^_`{|}~'\n",
    "\n",
    "def process(s):\n",
    "    \"\"\"Removes stop words, words in brackets\n",
    "    and parentheses, and special characters.\n",
    "    \"\"\"\n",
    "    \n",
    "    s= re.sub(\"([\\(\\[]).*?([\\)\\]])\",\" \",s)\n",
    "    for p in punct:\n",
    "        s = s.replace(p, '')\n",
    "    s = word_tokenize(s)\n",
    "    s = [w for w in s if not w in stop_words] #optional\n",
    "    return s"
   ]
  },
  {
   "cell_type": "code",
   "execution_count": 6,
   "id": "c12caff3",
   "metadata": {
    "execution": {
     "iopub.execute_input": "2022-07-15T11:13:18.909009Z",
     "iopub.status.busy": "2022-07-15T11:13:18.908651Z",
     "iopub.status.idle": "2022-07-15T11:13:43.452869Z",
     "shell.execute_reply": "2022-07-15T11:13:43.451777Z"
    },
    "papermill": {
     "duration": 24.554447,
     "end_time": "2022-07-15T11:13:43.455684",
     "exception": false,
     "start_time": "2022-07-15T11:13:18.901237",
     "status": "completed"
    },
    "tags": []
   },
   "outputs": [],
   "source": [
    "contract[\"processed_text\"] = contract[\"transcription_text\"].apply(process)\n",
    "contract[\"processed_text\"] = contract[\"processed_text\"].apply(lambda x: \" \".join(x))"
   ]
  },
  {
   "cell_type": "code",
   "execution_count": 7,
   "id": "719eab59",
   "metadata": {
    "execution": {
     "iopub.execute_input": "2022-07-15T11:13:43.470059Z",
     "iopub.status.busy": "2022-07-15T11:13:43.469700Z",
     "iopub.status.idle": "2022-07-15T11:13:43.481888Z",
     "shell.execute_reply": "2022-07-15T11:13:43.480819Z"
    },
    "papermill": {
     "duration": 0.021917,
     "end_time": "2022-07-15T11:13:43.483947",
     "exception": false,
     "start_time": "2022-07-15T11:13:43.462030",
     "status": "completed"
    },
    "tags": []
   },
   "outputs": [],
   "source": [
    "def parse_table_to_dict(example) :\n",
    "    \n",
    "    def clean_record(x) :\n",
    "        if x.strip() == \"\":\n",
    "            return \" \"\n",
    "        return x.strip().replace(\"{\", \"\").replace(\"}\", \"\")\n",
    "\n",
    "    table_dict = {}\n",
    "\n",
    "    if \"name\" in example[0].lower():\n",
    "\n",
    "        cols = []\n",
    "        for col in example[0].split(\"|\"):\n",
    "            if col.strip() == \"\":\n",
    "                cols.append(col)\n",
    "            else:\n",
    "                cols.append(col.strip().lower().replace(\" \", \"_\").replace(\".\", \"\"))\n",
    "\n",
    "        values = np.array([list(map(clean_record, i.split(\"|\"))) for i in example[1:]])\n",
    "\n",
    "    else:\n",
    "\n",
    "        n_cols = len(example[0].split(\"|\"))\n",
    "        cols = [f\"col_{i}\" for i in range(n_cols)]\n",
    "\n",
    "        values = np.array([list(map(clean_record, i.split(\"|\"))) for i in example])\n",
    "        \n",
    "    \n",
    "    #Remove empty rows ([\"----\", \"-----\", \"-----\"])\n",
    "    new_values = []\n",
    "    for line in values:\n",
    "        line_chars = list(set(\"\".join([i.strip() for i in line])))\n",
    "        \n",
    "        if len(line_chars) != 0 and (line_chars[0] != \"-\" or len(line_chars) != 0):\n",
    "            new_values.append(line.tolist())\n",
    "            \n",
    "    values = np.array(new_values)\n",
    "            \n",
    "    if values.reshape(-1).shape[0] != 0:\n",
    "        for i, col in enumerate(cols):\n",
    "            table_dict[col] = values[:, i].tolist()\n",
    "            \n",
    "        return table_dict\n",
    "    \n",
    "    else:\n",
    "        \n",
    "        return {} "
   ]
  },
  {
   "cell_type": "code",
   "execution_count": 8,
   "id": "7ad7b1d9",
   "metadata": {
    "execution": {
     "iopub.execute_input": "2022-07-15T11:13:43.497856Z",
     "iopub.status.busy": "2022-07-15T11:13:43.497469Z",
     "iopub.status.idle": "2022-07-15T11:13:43.517274Z",
     "shell.execute_reply": "2022-07-15T11:13:43.516144Z"
    },
    "papermill": {
     "duration": 0.029454,
     "end_time": "2022-07-15T11:13:43.519502",
     "exception": false,
     "start_time": "2022-07-15T11:13:43.490048",
     "status": "completed"
    },
    "tags": []
   },
   "outputs": [
    {
     "data": {
      "text/html": [
       "<div>\n",
       "<style scoped>\n",
       "    .dataframe tbody tr th:only-of-type {\n",
       "        vertical-align: middle;\n",
       "    }\n",
       "\n",
       "    .dataframe tbody tr th {\n",
       "        vertical-align: top;\n",
       "    }\n",
       "\n",
       "    .dataframe thead th {\n",
       "        text-align: right;\n",
       "    }\n",
       "</style>\n",
       "<table border=\"1\" class=\"dataframe\">\n",
       "  <thead>\n",
       "    <tr style=\"text-align: right;\">\n",
       "      <th></th>\n",
       "      <th>document_id</th>\n",
       "      <th>project_id</th>\n",
       "      <th>transcription_text</th>\n",
       "      <th>processed_text</th>\n",
       "    </tr>\n",
       "  </thead>\n",
       "  <tbody>\n",
       "    <tr>\n",
       "      <th>0</th>\n",
       "      <td>NMAAHC-004567394_00861</td>\n",
       "      <td>11400</td>\n",
       "      <td>[D104 ENCL]\\r\\nNorth Carolina\\r\\nThis indentur...</td>\n",
       "      <td>North Carolina This indenture made entered Thi...</td>\n",
       "    </tr>\n",
       "    <tr>\n",
       "      <th>1</th>\n",
       "      <td>NMAAHC-004567394_00957</td>\n",
       "      <td>11400</td>\n",
       "      <td>[E 11 ENCL] \\r\\n\\r\\n\\r\\nState of North Carolin...</td>\n",
       "      <td>State of North Carolina Currituck County . Thi...</td>\n",
       "    </tr>\n",
       "    <tr>\n",
       "      <th>2</th>\n",
       "      <td>NMAAHC-004567394_00958</td>\n",
       "      <td>11400</td>\n",
       "      <td>near Lizzie Etheridge's gate, thence South 56 ...</td>\n",
       "      <td>near Lizzie Etheridges gate , thence South 56 ...</td>\n",
       "    </tr>\n",
       "    <tr>\n",
       "      <th>3</th>\n",
       "      <td>NMAAHC-004567395_00439</td>\n",
       "      <td>11406</td>\n",
       "      <td>Copy\\r\\n\\r\\nAgreement of Apprenticeship\\r\\nBu ...</td>\n",
       "      <td>Copy Agreement of Apprenticeship Bu Mrs. Kate ...</td>\n",
       "    </tr>\n",
       "    <tr>\n",
       "      <th>4</th>\n",
       "      <td>NMAAHC-004567395_00440</td>\n",
       "      <td>11406</td>\n",
       "      <td>[H 132 ENCL] \\r\\n\\r\\nCopy\\r\\n\\r\\nAgreement of ...</td>\n",
       "      <td>Copy Agreement of Apprenticeship . This agreem...</td>\n",
       "    </tr>\n",
       "    <tr>\n",
       "      <th>...</th>\n",
       "      <td>...</td>\n",
       "      <td>...</td>\n",
       "      <td>...</td>\n",
       "      <td>...</td>\n",
       "    </tr>\n",
       "    <tr>\n",
       "      <th>23724</th>\n",
       "      <td>NMAAHC-007677332_01525</td>\n",
       "      <td>41539</td>\n",
       "      <td>\\N</td>\n",
       "      <td>N</td>\n",
       "    </tr>\n",
       "    <tr>\n",
       "      <th>23725</th>\n",
       "      <td>NMAAHC-007677332_01526</td>\n",
       "      <td>41539</td>\n",
       "      <td>\\N</td>\n",
       "      <td>N</td>\n",
       "    </tr>\n",
       "    <tr>\n",
       "      <th>23726</th>\n",
       "      <td>NMAAHC-007677332_01527</td>\n",
       "      <td>41539</td>\n",
       "      <td>\\N</td>\n",
       "      <td>N</td>\n",
       "    </tr>\n",
       "    <tr>\n",
       "      <th>23727</th>\n",
       "      <td>NMAAHC-007677332_01528</td>\n",
       "      <td>41539</td>\n",
       "      <td>Jo</td>\n",
       "      <td>Jo</td>\n",
       "    </tr>\n",
       "    <tr>\n",
       "      <th>23728</th>\n",
       "      <td>NMAAHC-007677332_01529</td>\n",
       "      <td>41539</td>\n",
       "      <td>\\N</td>\n",
       "      <td>N</td>\n",
       "    </tr>\n",
       "  </tbody>\n",
       "</table>\n",
       "<p>23729 rows × 4 columns</p>\n",
       "</div>"
      ],
      "text/plain": [
       "                  document_id  project_id  \\\n",
       "0      NMAAHC-004567394_00861       11400   \n",
       "1      NMAAHC-004567394_00957       11400   \n",
       "2      NMAAHC-004567394_00958       11400   \n",
       "3      NMAAHC-004567395_00439       11406   \n",
       "4      NMAAHC-004567395_00440       11406   \n",
       "...                       ...         ...   \n",
       "23724  NMAAHC-007677332_01525       41539   \n",
       "23725  NMAAHC-007677332_01526       41539   \n",
       "23726  NMAAHC-007677332_01527       41539   \n",
       "23727  NMAAHC-007677332_01528       41539   \n",
       "23728  NMAAHC-007677332_01529       41539   \n",
       "\n",
       "                                      transcription_text  \\\n",
       "0      [D104 ENCL]\\r\\nNorth Carolina\\r\\nThis indentur...   \n",
       "1      [E 11 ENCL] \\r\\n\\r\\n\\r\\nState of North Carolin...   \n",
       "2      near Lizzie Etheridge's gate, thence South 56 ...   \n",
       "3      Copy\\r\\n\\r\\nAgreement of Apprenticeship\\r\\nBu ...   \n",
       "4      [H 132 ENCL] \\r\\n\\r\\nCopy\\r\\n\\r\\nAgreement of ...   \n",
       "...                                                  ...   \n",
       "23724                                                 \\N   \n",
       "23725                                                 \\N   \n",
       "23726                                                 \\N   \n",
       "23727                                                 Jo   \n",
       "23728                                                 \\N   \n",
       "\n",
       "                                          processed_text  \n",
       "0      North Carolina This indenture made entered Thi...  \n",
       "1      State of North Carolina Currituck County . Thi...  \n",
       "2      near Lizzie Etheridges gate , thence South 56 ...  \n",
       "3      Copy Agreement of Apprenticeship Bu Mrs. Kate ...  \n",
       "4      Copy Agreement of Apprenticeship . This agreem...  \n",
       "...                                                  ...  \n",
       "23724                                                  N  \n",
       "23725                                                  N  \n",
       "23726                                                  N  \n",
       "23727                                                 Jo  \n",
       "23728                                                  N  \n",
       "\n",
       "[23729 rows x 4 columns]"
      ]
     },
     "execution_count": 8,
     "metadata": {},
     "output_type": "execute_result"
    }
   ],
   "source": [
    "contract"
   ]
  },
  {
   "cell_type": "code",
   "execution_count": 9,
   "id": "ac8feaea",
   "metadata": {
    "_kg_hide-input": true,
    "execution": {
     "iopub.execute_input": "2022-07-15T11:13:43.534337Z",
     "iopub.status.busy": "2022-07-15T11:13:43.533974Z",
     "iopub.status.idle": "2022-07-15T11:13:43.546018Z",
     "shell.execute_reply": "2022-07-15T11:13:43.544811Z"
    },
    "jupyter": {
     "source_hidden": true
    },
    "papermill": {
     "duration": 0.02248,
     "end_time": "2022-07-15T11:13:43.548443",
     "exception": false,
     "start_time": "2022-07-15T11:13:43.525963",
     "status": "completed"
    },
    "tags": []
   },
   "outputs": [],
   "source": [
    "t=[]\n",
    "t.append(\"\"\"[[7 column table]]\n",
    "No. | NAME. | AGE. | WAGES. DOLLS. | [[WAGES.]] CTS. | MONTHLY PAYM'T. DOLLS. | [[MONTHLY PAYM'T.]] CTS.\n",
    "[[/preprinted]]\n",
    "\n",
    "1 | Sarah | 17 | 2 | 50 | 1 | 75 \"\"\")\n",
    "t.append(\"\"\"[[5 columned table]]\n",
    "| No. | NAMES. | AGE. | RATE of PAY per month. Dols. | RATE of PAY per month. Cents. |         \n",
    "| --- | --- | --- | --- | --- | \n",
    "| 1861 | Phillip Carr | 13 | 100 | 00 |\"\"\")\n",
    "t.append(\"\"\"|NAMES.|AGE.|MONTHLY RATE OF WAGES.|INTEREST IN PROFITS.|\n",
    "|Frances her x mark|16|none|none.\n",
    "\n",
    "\n",
    "DEPENDENTS.\n",
    "|NAMES.|AGE.|NAMES.|AGE.|\"\"\")\n",
    "t.append(\"\"\"[[6 Columned Table]]\n",
    "| NAME | AGE | SEX | CLASS | MONTHLY RATE OF WAGES. | INTEREST IN PROFITS. |\n",
    "|---|---|---|---|---|---|\n",
    "| Franklin | 21 | Male | 1st | $8.00 |\n",
    "[[/6 columned table]]\n",
    "\"\"\")\n",
    "t.append(\"\"\"[[3 columned table]]\n",
    "| --- | --- | --- |\n",
    "| 1866 June 16th | Approved Contracted between John L. Banks and Merrit Sanders 'fm, for farming this year | J.L.B. is to furnish Lands, teams, Seed, and farming implements. Three (3) Bls of corn, Two Hundred and fifty (250) Lbs of Pork. Leather for two (2) pair of Shoes (Mens). Pay two thirds (2/3) of wages paid to hired hands and give sd. Merritt Sanders one third (1/3) of crops made. \n",
    "M.S. is to work on said Lands the whole year. pay one third (1/3) of the hire to hands and furnish some assistance on sd. Lands from his family. | [[note]]\n",
    "\n",
    "| June 18 | Approved Contract between W.H. Sanders and Thomas Campbell 'fm, for farming dated March 1st 1866- | W.H. Sanders is to furnish lands, one horse, seed and feed for horse and receive two thirds (2/3) of crops. Freedman Thomas Campbell is to furnish himself and produce crops on said Lands and retain one third (1/3) of crops, and to keep the ditches open on said lands, occupied by his crops |\n",
    "\n",
    "| June 18 | Approved Contract between David S. Henry and Freedmen Parson Avery, Jackson Sanders and Reuben Sanders for farming dated June 6th 1866. | David S. Avery to furnish Lands Seeds and Teams. Parson Avery Jackson Sanders and Reuben Sanders freedmen to perform the manual labor necessary to make crops with said teams & Seeds and Lands furnished to keep up the fences and care properly for the stock and implements, and receive one third (1/3) of the crops. \n",
    "Sd. David S. Avery to receive two thirds (2/3) of the crops, and afford each of said Freedman a garden for Corn, Potatoes &c, &c rent free. | \"\"\")\n",
    "t.append(\"\"\"\n",
    "[[5 column table]]\n",
    "\n",
    "|NAMES.|AGE.|SEX.|MONTHLY RATE OF WAGES.|INTEREST IN PROFITS.|\n",
    "|Margery X (her mark) Russell|30|female|none|none|\n",
    "\n",
    "[[/5 column table]]\n",
    "\n",
    "DEPENDENTS.\n",
    "\n",
    "[[6 column table]]\n",
    "\n",
    "|NAMES.|AGE.|SEX.|NAMES.|AGE.|SEX.|\n",
    "|Phillis|9|female|   |   |   |\n",
    "|Emma|6|female|   |   |   |\n",
    "\n",
    "[[/6 column table]]\"\"\")\n",
    "t.append(\"\"\"|No.|Name|Age|Rate of pay per month. Dols Cts.\n",
    "|1|Martha Willis|21|   | \"\"\")\n",
    "notex=t\n",
    "notex.append(\"\"\"[[7 column table]]\n",
    "No. | NAME. | Age. | Wages. DOLLS. | CTS. | Monthly Paym't. DOLLS. | CTS.\n",
    "[[/preprinted]]\n",
    "\n",
    "- | Church Fisher further agrees to pay Said Laborer | 18 | $2 | 75 | - | -\n",
    "\n",
    "- | The Laborere to receive (1) one dollar per month each of the several months Specified the balance at expiration of this Contract the amount being $12 75/100 | - | - | - | $1 | 00.\n",
    "\n",
    "[[/table]]\"\"\")\n",
    "notex.append(\"\"\"shipment of products shall be made until the Provost Marshal of Freedmen shall certify that all dues to laborers are paid or satisfactorily arranged.\n",
    "IN TESTIMONY WHEREOF, The said parties have affixed their names to this arrangement, at Yazoo Go\n",
    "State of Mississippi, on the day and date aforesaid.\n",
    "[[6 Columned Table]]\n",
    "|NAMES|AGE|SEX|CLASS|MONTHLY RATE OF WAGES|INTEREST IN PROFITS|\n",
    "| --- | --- | --- | --- | --- | --- |\n",
    "|Richard Woodbury | 35 | Male | 1 |   |  \n",
    "|Dick Woodbury | 20 | Male | 1 |   |  \n",
    "|Daniel Woodbury | 36 | Male | 1 |  |   \n",
    "|William Woodbury | 20 | Male | 1 |  |  \n",
    "|March Woodbury | 60 | Male | 1 |   |\n",
    "|Rachel Simmons  |55 |   |   |   |\n",
    "Geo. W. Woodbury\n",
    "Witness - John. H. McCalister\n",
    "\"\"\")\n",
    "notex.append(\"\"\"And the said ^[[James Chadwick]] has agreed that he will furnish the said laborers with comfortable quarters, sufficient rations, and the amount of money per month, which stands opposite their respective names; that he will treat them kindly, and encourage the establishment of schools for their children.\n",
    "\n",
    "[[7 column table]]\n",
    "No. | NAME. | AGE. | WAGES. DOLLS. | [[WAGES.]] CTS. | MONTHLY PAYM'T. DOLLS. | [[MONTHLY PAYM'T]] CTS.\n",
    "[[/preprinted]]\n",
    "\n",
    "1 | Jerry Pigott | 17 | 8 | 00 | 4 | 00\n",
    "\n",
    "[[/7 column table]]\n",
    "\n",
    "[[signature]] Richard Dillon [[/signature]]\"\"\")\n",
    "notex.append(\"\"\"[[4 Columned Table]]\n",
    "| Name. | Age. | No. of Dependents. | Remarks. | \n",
    "| --- | --- | --- | --- |\n",
    "\n",
    "| Sally Brown His X Mark | 30 | 2 | under four years of age\n",
    "| Captain His X Mark | 51 |   |\n",
    "| Harrison His X Mark | 23 |   |\n",
    "| Taner His X Mark  57 |   |\n",
    "| Ida  Her X Mark | 19 |   |\n",
    "| Louisia Her X Mark | 40 | 4 under ten years of age |\n",
    "| Dallace His X Mark 20 |   |\n",
    "| Vick His X Mark | 14 |   |  \n",
    "| Minnie His X Mark | 55 |   | Rheumatism unable to support himself |\n",
    "| Mattie Her X Mark | 54 |   |\n",
    "| Hester Her X Mark | 28 | 6 | under ten years of age |   \n",
    "\n",
    "No 198.\n",
    "A. C. Jennings\"\"\")\n",
    "notex.append(\"\"\"In witness whereof the parties hereto affix their hands and seals on the day and year first above written Asher & Boyed {Seal}\n",
    "[[7 Columned Table]]\n",
    "|Names|age|Pay pr Mo-|Pay pr Year|Remarks|\n",
    "|---|---|---|---|---|---|---|\n",
    "|Frank his x mark Princeton|32|   |   |$150|00|Began 1st January 1866|\n",
    "|James his x mark Armstrong|61|   |   |$100|00|Began 30th day January 1866\n",
    "|Daniel x Johnston|36|   |   |$175|00|Began 5th day of February 1866|\"\"\")\n",
    "notex.append(\"\"\"[[5 columned table]]\n",
    "|NAMES.|AGE.|SEX.|MONTHLY RATE OF WAGES.|INTEREST IN PROFITS.|\n",
    "|---|---|---|---|---|\n",
    "|George X his mark|18|male|Food clothing medical attention|\n",
    "|Susannah X mark|15|Female|Food clothing medical attention|\n",
    "|Silva X mark|55|Female|Food clothing medical attention|\n",
    "|Beck X mark|24|Female|Food clothing medical attention|\n",
    "|Patiric X mark|55|male|Food clothing medical attention|\n",
    "\n",
    "[[left margin]]Paid[[/left margin]]\"\"\")\n",
    "notex.append(\"\"\"[[3 columned table]]\n",
    "DEPENDENTS\n",
    "|NAMES.|AGE.|SEX.|\n",
    "|---|---|---|\n",
    "|Westly|7|male|\n",
    "|Charley|3|male|\"\"\")\n",
    "notex.append(\"\"\"IN TESTIMONY WHEREOF, the said parties have affixed their names to this agreement, at Brookhaven State Mississippi of [[blank]] on the day and date aforesaid.\n",
    "\n",
    "[[6 columned table]]\n",
    "\n",
    "| NAMES. | AGE. | SEX. | CLASS. | MONTHLY RATE OF WAGES | INTEREST IN PROFITS. |\n",
    "|---|---|---|---|---|---|\n",
    "[[paired]]\n",
    "| Ellie, | 55, | Male, | 3 | 2 girls. | (4) Four acres of Land planted with corn, and (60) Sixty Bushels of Corn to be devided. |\n",
    "\n",
    "| Julia, Ann, - | 45, | Fem, | 3 | 2 Boys. | (4) Four acres of Land planted with corn, and (60) Sixty Bushels of Corn to be devided. |\n",
    "[[/paired]]\n",
    "\n",
    "| John, | 60, | Male, | 3 | Maintenance, | (4) Four acres of Land planted with corn, and (60) Sixty Bushels of Corn to be devided. |\n",
    "\n",
    "| Jim, | 27 ,| Male | 3 | (4) Four acres of Land planted with corn, and (60) Sixty Bushels of Corn to be devided. |\n",
    "\n",
    "| Emmanuel, | 18, | Male | 3 | (4) Four acres of Land planted with corn, and (60) Sixty Bushels of Corn to be devided. |\n",
    "\n",
    "| Arthur, | 17, | Male | 3 | (4) Four acres of Land planted with corn, and (60) Sixty Bushels of Corn to be devided. |\n",
    "\n",
    "| Andy, | 15, | Male | 3 | (4) Four acres of Land planted with corn, and (60) Sixty Bushels of Corn to be devided. |\n",
    "\n",
    "| Emoline, | 18, | Fem | 3 | $2.00. | (4) Four acres of Land planted with corn, and (60) Sixty Bushels of Corn to be devided. |\n",
    "\n",
    "| Ann, | 21, | Fem | 3 | $2.00. | (4) Four acres of Land planted with corn, and (60) Sixty Bushels of Corn to be devided. |\n",
    "\n",
    "Executed in presence of \n",
    "1st lieut. Pro. Mar. of Freedmen\"\"\")"
   ]
  },
  {
   "cell_type": "code",
   "execution_count": 10,
   "id": "5c899082",
   "metadata": {
    "execution": {
     "iopub.execute_input": "2022-07-15T11:13:43.564235Z",
     "iopub.status.busy": "2022-07-15T11:13:43.563362Z",
     "iopub.status.idle": "2022-07-15T11:13:43.570278Z",
     "shell.execute_reply": "2022-07-15T11:13:43.569250Z"
    },
    "papermill": {
     "duration": 0.01673,
     "end_time": "2022-07-15T11:13:43.572239",
     "exception": false,
     "start_time": "2022-07-15T11:13:43.555509",
     "status": "completed"
    },
    "tags": []
   },
   "outputs": [
    {
     "data": {
      "text/plain": [
       "15"
      ]
     },
     "execution_count": 10,
     "metadata": {},
     "output_type": "execute_result"
    }
   ],
   "source": [
    "len(notex)"
   ]
  },
  {
   "cell_type": "code",
   "execution_count": 11,
   "id": "ab04124e",
   "metadata": {
    "execution": {
     "iopub.execute_input": "2022-07-15T11:13:43.587599Z",
     "iopub.status.busy": "2022-07-15T11:13:43.586895Z",
     "iopub.status.idle": "2022-07-15T11:13:43.598909Z",
     "shell.execute_reply": "2022-07-15T11:13:43.598106Z"
    },
    "papermill": {
     "duration": 0.022481,
     "end_time": "2022-07-15T11:13:43.601113",
     "exception": false,
     "start_time": "2022-07-15T11:13:43.578632",
     "status": "completed"
    },
    "tags": []
   },
   "outputs": [],
   "source": [
    "contract_text = contract.transcription_text.tolist()\n",
    "\n",
    "lns = []\n",
    "tables_extracted = []\n",
    "all_table_pairs = []\n",
    "idx = 0\n",
    "\n",
    "for table_text in notex:\n",
    "\n",
    "    tmp_tables = []\n",
    "    table_text = table_text.replace(\"[\", \"\").replace(\"]\", \"\").replace(\"^\", \"\")\n",
    "    \n",
    "    lines = table_text.split(\"\\n\")\n",
    "    lines = [i for i in lines if len(i.strip()) != 0]\n",
    "    \n",
    "    separator_counts = []\n",
    "    table_pairs  = []\n",
    "    \n",
    "    start = 0\n",
    "    end = 0\n",
    "    streak = 0\n",
    "    \n",
    "    for line_n, line in enumerate(lines):\n",
    "        \n",
    "        separator_count = line.count(\"|\")   \n",
    "        \n",
    "        condition_1 = len(separator_counts) == 0 or separator_count == separator_counts[-1]\n",
    "        condition_2 = separator_count != 0\n",
    "            \n",
    "        #If you find the beginning of a table, take note\n",
    "        if condition_1 and condition_2:\n",
    "            if streak == 0:\n",
    "                start = line_n\n",
    "            streak += 1\n",
    "        else:\n",
    "            if streak != 0:\n",
    "                table_pairs.append((start, line_n))\n",
    "                all_table_pairs.append((start, line_n, idx))\n",
    "            streak = 0\n",
    "            start = 0\n",
    "    \n",
    "        separator_counts.append(separator_count)\n",
    "        \n",
    "    if streak > 0:\n",
    "        table_pairs.append((start, line_n))\n",
    "        all_table_pairs.append((start, line_n, idx))\n",
    "        \n",
    "    if len(table_pairs) > 0:\n",
    "        for i, pair in enumerate(table_pairs):\n",
    "            table = lines[pair[0]-1:pair[1]]\n",
    "            tmp_tables.append(table)\n",
    "            \n",
    "        tables_extracted.append(tmp_tables[0])\n",
    "        \n",
    "    else:\n",
    "        tables_extracted.append([])\n",
    "        \n",
    "        \n",
    "    idx += 1"
   ]
  },
  {
   "cell_type": "code",
   "execution_count": 12,
   "id": "b91d35c1",
   "metadata": {
    "execution": {
     "iopub.execute_input": "2022-07-15T11:13:43.616311Z",
     "iopub.status.busy": "2022-07-15T11:13:43.615598Z",
     "iopub.status.idle": "2022-07-15T11:13:43.621968Z",
     "shell.execute_reply": "2022-07-15T11:13:43.620898Z"
    },
    "papermill": {
     "duration": 0.016318,
     "end_time": "2022-07-15T11:13:43.623956",
     "exception": false,
     "start_time": "2022-07-15T11:13:43.607638",
     "status": "completed"
    },
    "tags": []
   },
   "outputs": [
    {
     "name": "stdout",
     "output_type": "stream",
     "text": [
      "10\n"
     ]
    }
   ],
   "source": [
    "nb=0\n",
    "for example in (tables_extracted):\n",
    "    if len(example)> 0 :\n",
    "        nb=nb+1\n",
    "print(nb)"
   ]
  },
  {
   "cell_type": "code",
   "execution_count": 13,
   "id": "7b6b7dac",
   "metadata": {
    "execution": {
     "iopub.execute_input": "2022-07-15T11:13:43.638600Z",
     "iopub.status.busy": "2022-07-15T11:13:43.637788Z",
     "iopub.status.idle": "2022-07-15T11:13:43.644004Z",
     "shell.execute_reply": "2022-07-15T11:13:43.643225Z"
    },
    "papermill": {
     "duration": 0.015535,
     "end_time": "2022-07-15T11:13:43.645783",
     "exception": false,
     "start_time": "2022-07-15T11:13:43.630248",
     "status": "completed"
    },
    "tags": []
   },
   "outputs": [
    {
     "data": {
      "text/plain": [
       "[[],\n",
       " ['| No. | NAMES. | AGE. | RATE of PAY per month. Dols. | RATE of PAY per month. Cents. |         ',\n",
       "  '| --- | --- | --- | --- | --- | '],\n",
       " [],\n",
       " ['| NAME | AGE | SEX | CLASS | MONTHLY RATE OF WAGES. | INTEREST IN PROFITS. |',\n",
       "  '|---|---|---|---|---|---|'],\n",
       " [],\n",
       " ['|NAMES.|AGE.|SEX.|MONTHLY RATE OF WAGES.|INTEREST IN PROFITS.|',\n",
       "  '|Margery X (her mark) Russell|30|female|none|none|'],\n",
       " [],\n",
       " ['- | Church Fisher further agrees to pay Said Laborer | 18 | $2 | 75 | - | -',\n",
       "  '- | The Laborere to receive (1) one dollar per month each of the several months Specified the balance at expiration of this Contract the amount being $12 75/100 | - | - | - | $1 | 00.'],\n",
       " ['|NAMES|AGE|SEX|CLASS|MONTHLY RATE OF WAGES|INTEREST IN PROFITS|',\n",
       "  '| --- | --- | --- | --- | --- | --- |'],\n",
       " [],\n",
       " ['| Name. | Age. | No. of Dependents. | Remarks. | ',\n",
       "  '| --- | --- | --- | --- |'],\n",
       " ['|---|---|---|---|---|---|---|',\n",
       "  '|Frank his x mark Princeton|32|   |   |$150|00|Began 1st January 1866|'],\n",
       " ['|NAMES.|AGE.|SEX.|MONTHLY RATE OF WAGES.|INTEREST IN PROFITS.|',\n",
       "  '|---|---|---|---|---|'],\n",
       " ['|NAMES.|AGE.|SEX.|', '|---|---|---|', '|Westly|7|male|'],\n",
       " ['| NAMES. | AGE. | SEX. | CLASS. | MONTHLY RATE OF WAGES | INTEREST IN PROFITS. |',\n",
       "  '|---|---|---|---|---|---|']]"
      ]
     },
     "execution_count": 13,
     "metadata": {},
     "output_type": "execute_result"
    }
   ],
   "source": [
    "tables_extracted"
   ]
  },
  {
   "cell_type": "code",
   "execution_count": 14,
   "id": "51c1ca7a",
   "metadata": {
    "execution": {
     "iopub.execute_input": "2022-07-15T11:13:43.660859Z",
     "iopub.status.busy": "2022-07-15T11:13:43.660034Z",
     "iopub.status.idle": "2022-07-15T11:13:43.665414Z",
     "shell.execute_reply": "2022-07-15T11:13:43.664393Z"
    },
    "papermill": {
     "duration": 0.015038,
     "end_time": "2022-07-15T11:13:43.667381",
     "exception": false,
     "start_time": "2022-07-15T11:13:43.652343",
     "status": "completed"
    },
    "tags": []
   },
   "outputs": [],
   "source": [
    "dcts = []\n",
    "\n",
    "for i, example in enumerate(tables_extracted):\n",
    "    if example != [] and len(example) > 2:\n",
    "        dcts.append(parse_table_to_dict(example))\n",
    "    else:\n",
    "        dcts.append({})"
   ]
  },
  {
   "cell_type": "code",
   "execution_count": 15,
   "id": "234eb231",
   "metadata": {
    "execution": {
     "iopub.execute_input": "2022-07-15T11:13:43.682160Z",
     "iopub.status.busy": "2022-07-15T11:13:43.681243Z",
     "iopub.status.idle": "2022-07-15T11:13:43.688077Z",
     "shell.execute_reply": "2022-07-15T11:13:43.687069Z"
    },
    "papermill": {
     "duration": 0.016149,
     "end_time": "2022-07-15T11:13:43.689971",
     "exception": false,
     "start_time": "2022-07-15T11:13:43.673822",
     "status": "completed"
    },
    "tags": []
   },
   "outputs": [
    {
     "data": {
      "text/plain": [
       "[{},\n",
       " {},\n",
       " {},\n",
       " {},\n",
       " {},\n",
       " {},\n",
       " {},\n",
       " {},\n",
       " {},\n",
       " {},\n",
       " {},\n",
       " {},\n",
       " {},\n",
       " {'': [' ', ' '],\n",
       "  'names': ['---', 'Westly'],\n",
       "  'age': ['---', '7'],\n",
       "  'sex': ['---', 'male']},\n",
       " {}]"
      ]
     },
     "execution_count": 15,
     "metadata": {},
     "output_type": "execute_result"
    }
   ],
   "source": [
    "dcts"
   ]
  },
  {
   "cell_type": "code",
   "execution_count": 16,
   "id": "59399059",
   "metadata": {
    "execution": {
     "iopub.execute_input": "2022-07-15T11:13:43.705404Z",
     "iopub.status.busy": "2022-07-15T11:13:43.704838Z",
     "iopub.status.idle": "2022-07-15T11:13:43.709237Z",
     "shell.execute_reply": "2022-07-15T11:13:43.708357Z"
    },
    "papermill": {
     "duration": 0.014448,
     "end_time": "2022-07-15T11:13:43.711253",
     "exception": false,
     "start_time": "2022-07-15T11:13:43.696805",
     "status": "completed"
    },
    "tags": []
   },
   "outputs": [],
   "source": [
    "# contract[\"tables_parsed\"]=dcts"
   ]
  },
  {
   "cell_type": "code",
   "execution_count": 17,
   "id": "676b7b50",
   "metadata": {
    "execution": {
     "iopub.execute_input": "2022-07-15T11:13:43.726453Z",
     "iopub.status.busy": "2022-07-15T11:13:43.725877Z",
     "iopub.status.idle": "2022-07-15T11:13:43.732046Z",
     "shell.execute_reply": "2022-07-15T11:13:43.730696Z"
    },
    "papermill": {
     "duration": 0.016203,
     "end_time": "2022-07-15T11:13:43.734150",
     "exception": false,
     "start_time": "2022-07-15T11:13:43.717947",
     "status": "completed"
    },
    "tags": []
   },
   "outputs": [
    {
     "name": "stdout",
     "output_type": "stream",
     "text": [
      "1\n"
     ]
    }
   ],
   "source": [
    "nb=0\n",
    "for example in (dcts):\n",
    "    if len(example)> 0 :\n",
    "        nb=nb+1\n",
    "print(nb)"
   ]
  },
  {
   "cell_type": "code",
   "execution_count": 18,
   "id": "b6610e26",
   "metadata": {
    "execution": {
     "iopub.execute_input": "2022-07-15T11:13:43.749379Z",
     "iopub.status.busy": "2022-07-15T11:13:43.748642Z",
     "iopub.status.idle": "2022-07-15T11:13:43.754657Z",
     "shell.execute_reply": "2022-07-15T11:13:43.753954Z"
    },
    "papermill": {
     "duration": 0.015619,
     "end_time": "2022-07-15T11:13:43.756548",
     "exception": false,
     "start_time": "2022-07-15T11:13:43.740929",
     "status": "completed"
    },
    "tags": []
   },
   "outputs": [
    {
     "data": {
      "text/plain": [
       "[{},\n",
       " {},\n",
       " {},\n",
       " {},\n",
       " {},\n",
       " {},\n",
       " {},\n",
       " {},\n",
       " {},\n",
       " {},\n",
       " {},\n",
       " {},\n",
       " {},\n",
       " {'': [' ', ' '],\n",
       "  'names': ['---', 'Westly'],\n",
       "  'age': ['---', '7'],\n",
       "  'sex': ['---', 'male']},\n",
       " {}]"
      ]
     },
     "execution_count": 18,
     "metadata": {},
     "output_type": "execute_result"
    }
   ],
   "source": [
    "dcts"
   ]
  },
  {
   "cell_type": "code",
   "execution_count": 19,
   "id": "6f4a757f",
   "metadata": {
    "execution": {
     "iopub.execute_input": "2022-07-15T11:13:43.772230Z",
     "iopub.status.busy": "2022-07-15T11:13:43.771596Z",
     "iopub.status.idle": "2022-07-15T11:13:43.784768Z",
     "shell.execute_reply": "2022-07-15T11:13:43.783938Z"
    },
    "papermill": {
     "duration": 0.023792,
     "end_time": "2022-07-15T11:13:43.787063",
     "exception": false,
     "start_time": "2022-07-15T11:13:43.763271",
     "status": "completed"
    },
    "tags": []
   },
   "outputs": [],
   "source": [
    "contract_text = contract.transcription_text.tolist()\n",
    "\n",
    "lns = []\n",
    "tables_extracted = []\n",
    "all_table_pairs = []\n",
    "idx = 0\n",
    "\n",
    "for table_text in notex:\n",
    "\n",
    "    tmp_tables = []\n",
    "    table_text = table_text.replace(\"[\", \"\").replace(\"]\", \"\").replace(\"^\", \"\")\n",
    "    \n",
    "    lines = table_text.split(\"\\n\")\n",
    "    lines = [i for i in lines if len(i.strip()) != 0]\n",
    "    separator_counts = []\n",
    "    table_pairs  = []\n",
    "    \n",
    "    start = 0\n",
    "    end = 0\n",
    "    streak = 0\n",
    "    lns=[]\n",
    "#     \"\"\"i removed lines without separator \"\"\"\n",
    "#     for j in lines:\n",
    "#          if  j.count(\"|\") ==0:\n",
    "#                 lines.remove(j)\n",
    "    \n",
    "    #print(lines , \"\\n\\n\")\n",
    "    \n",
    "    for line_n, line in enumerate(lines):\n",
    "        \n",
    "        separator_count = line.count(\"|\")\n",
    "        \n",
    "        if separator_count == 0:\n",
    "            continue\n",
    "        \n",
    "        \n",
    "        \n",
    "        #print(line ,separator_count, \"\\n\\n\")\n",
    "        \n",
    "        \"\"\"i add the condition where the next line contain more and less separators than the previous line \"\"\"\n",
    "        \n",
    "        condition_1 = len(separator_counts) == 0  or separator_count == separator_counts[-1] or separator_count > separator_counts[-1] or separator_count < separator_counts[-1]\n",
    "        condition_2 = separator_count != 0\n",
    "        condition_3 = separator_count ==0 and streak ==0\n",
    "            \n",
    "         #If you find the beginning of a table, take note\n",
    "        if (condition_1 and condition_2)  :\n",
    "            if streak == 0 :\n",
    "                start = line_n\n",
    "            streak += 1\n",
    "        else:\n",
    "            if streak != 0  :\n",
    "                table_pairs.append((start, line_n))\n",
    "                all_table_pairs.append((start, line_n, idx))\n",
    "            streak = 0\n",
    "            start = 0\n",
    "    \n",
    "        separator_counts.append(separator_count)\n",
    "        \n",
    "    \n",
    "    if (streak > 0)  :\n",
    "        table_pairs.append((start, line_n))\n",
    "        all_table_pairs.append((start, line_n, idx))\n",
    "        \n",
    "    if len(table_pairs) > 0:\n",
    "        for i, pair in enumerate(table_pairs):\n",
    "            \n",
    "            \"remove(-1) : it extrcat more tables , and in the already exist table , there is difference just the description like <3 column table> ... \" \n",
    "            table = lines[pair[0]:pair[1]]\n",
    "            \n",
    "            tmp_tables.append(table)\n",
    "            \n",
    "        tables_extracted.append(tmp_tables[0])\n",
    "        \n",
    "    else:\n",
    "        tables_extracted.append([])\n",
    "     \n",
    "    \n",
    "    idx +=1"
   ]
  },
  {
   "cell_type": "code",
   "execution_count": 20,
   "id": "58e5669e",
   "metadata": {
    "execution": {
     "iopub.execute_input": "2022-07-15T11:13:43.802811Z",
     "iopub.status.busy": "2022-07-15T11:13:43.802423Z",
     "iopub.status.idle": "2022-07-15T11:13:43.807317Z",
     "shell.execute_reply": "2022-07-15T11:13:43.806476Z"
    },
    "papermill": {
     "duration": 0.01567,
     "end_time": "2022-07-15T11:13:43.809739",
     "exception": false,
     "start_time": "2022-07-15T11:13:43.794069",
     "status": "completed"
    },
    "tags": []
   },
   "outputs": [
    {
     "name": "stdout",
     "output_type": "stream",
     "text": [
      "15\n"
     ]
    }
   ],
   "source": [
    "nb=0\n",
    "for example in (tables_extracted):\n",
    "    if len(example)> 0 :\n",
    "        nb=nb+1\n",
    "print(nb)"
   ]
  },
  {
   "cell_type": "code",
   "execution_count": 21,
   "id": "d718477b",
   "metadata": {
    "execution": {
     "iopub.execute_input": "2022-07-15T11:13:43.825492Z",
     "iopub.status.busy": "2022-07-15T11:13:43.824842Z",
     "iopub.status.idle": "2022-07-15T11:13:43.830502Z",
     "shell.execute_reply": "2022-07-15T11:13:43.829228Z"
    },
    "papermill": {
     "duration": 0.01607,
     "end_time": "2022-07-15T11:13:43.832781",
     "exception": false,
     "start_time": "2022-07-15T11:13:43.816711",
     "status": "completed"
    },
    "tags": []
   },
   "outputs": [
    {
     "name": "stdout",
     "output_type": "stream",
     "text": [
      "[[7 column table]]\n",
      "No. | NAME. | Age. | Wages. DOLLS. | CTS. | Monthly Paym't. DOLLS. | CTS.\n",
      "[[/preprinted]]\n",
      "\n",
      "- | Church Fisher further agrees to pay Said Laborer | 18 | $2 | 75 | - | -\n",
      "\n",
      "- | The Laborere to receive (1) one dollar per month each of the several months Specified the balance at expiration of this Contract the amount being $12 75/100 | - | - | - | $1 | 00.\n",
      "\n",
      "[[/table]]\n"
     ]
    }
   ],
   "source": [
    "print(notex[7]) #separators less than the previous lines\n"
   ]
  },
  {
   "cell_type": "code",
   "execution_count": 22,
   "id": "ce801ec7",
   "metadata": {
    "execution": {
     "iopub.execute_input": "2022-07-15T11:13:43.848101Z",
     "iopub.status.busy": "2022-07-15T11:13:43.847717Z",
     "iopub.status.idle": "2022-07-15T11:13:43.854550Z",
     "shell.execute_reply": "2022-07-15T11:13:43.853804Z"
    },
    "papermill": {
     "duration": 0.016542,
     "end_time": "2022-07-15T11:13:43.856284",
     "exception": false,
     "start_time": "2022-07-15T11:13:43.839742",
     "status": "completed"
    },
    "tags": []
   },
   "outputs": [
    {
     "data": {
      "text/plain": [
       "[[\"No. | NAME. | AGE. | WAGES. DOLLS. | WAGES. CTS. | MONTHLY PAYM'T. DOLLS. | MONTHLY PAYM'T. CTS.\",\n",
       "  '/preprinted'],\n",
       " ['| No. | NAMES. | AGE. | RATE of PAY per month. Dols. | RATE of PAY per month. Cents. |         ',\n",
       "  '| --- | --- | --- | --- | --- | '],\n",
       " ['|NAMES.|AGE.|MONTHLY RATE OF WAGES.|INTEREST IN PROFITS.|',\n",
       "  '|Frances her x mark|16|none|none.',\n",
       "  'DEPENDENTS.'],\n",
       " ['| NAME | AGE | SEX | CLASS | MONTHLY RATE OF WAGES. | INTEREST IN PROFITS. |',\n",
       "  '|---|---|---|---|---|---|',\n",
       "  '| Franklin | 21 | Male | 1st | $8.00 |'],\n",
       " ['| --- | --- | --- |',\n",
       "  \"| 1866 June 16th | Approved Contracted between John L. Banks and Merrit Sanders 'fm, for farming this year | J.L.B. is to furnish Lands, teams, Seed, and farming implements. Three (3) Bls of corn, Two Hundred and fifty (250) Lbs of Pork. Leather for two (2) pair of Shoes (Mens). Pay two thirds (2/3) of wages paid to hired hands and give sd. Merritt Sanders one third (1/3) of crops made. \",\n",
       "  'M.S. is to work on said Lands the whole year. pay one third (1/3) of the hire to hands and furnish some assistance on sd. Lands from his family. | note',\n",
       "  \"| June 18 | Approved Contract between W.H. Sanders and Thomas Campbell 'fm, for farming dated March 1st 1866- | W.H. Sanders is to furnish lands, one horse, seed and feed for horse and receive two thirds (2/3) of crops. Freedman Thomas Campbell is to furnish himself and produce crops on said Lands and retain one third (1/3) of crops, and to keep the ditches open on said lands, occupied by his crops |\",\n",
       "  '| June 18 | Approved Contract between David S. Henry and Freedmen Parson Avery, Jackson Sanders and Reuben Sanders for farming dated June 6th 1866. | David S. Avery to furnish Lands Seeds and Teams. Parson Avery Jackson Sanders and Reuben Sanders freedmen to perform the manual labor necessary to make crops with said teams & Seeds and Lands furnished to keep up the fences and care properly for the stock and implements, and receive one third (1/3) of the crops. '],\n",
       " ['|NAMES.|AGE.|SEX.|MONTHLY RATE OF WAGES.|INTEREST IN PROFITS.|',\n",
       "  '|Margery X (her mark) Russell|30|female|none|none|',\n",
       "  '/5 column table',\n",
       "  'DEPENDENTS.',\n",
       "  '6 column table',\n",
       "  '|NAMES.|AGE.|SEX.|NAMES.|AGE.|SEX.|',\n",
       "  '|Phillis|9|female|   |   |   |',\n",
       "  '|Emma|6|female|   |   |   |'],\n",
       " ['|No.|Name|Age|Rate of pay per month. Dols Cts.'],\n",
       " [\"No. | NAME. | Age. | Wages. DOLLS. | CTS. | Monthly Paym't. DOLLS. | CTS.\",\n",
       "  '/preprinted',\n",
       "  '- | Church Fisher further agrees to pay Said Laborer | 18 | $2 | 75 | - | -',\n",
       "  '- | The Laborere to receive (1) one dollar per month each of the several months Specified the balance at expiration of this Contract the amount being $12 75/100 | - | - | - | $1 | 00.'],\n",
       " ['|NAMES|AGE|SEX|CLASS|MONTHLY RATE OF WAGES|INTEREST IN PROFITS|',\n",
       "  '| --- | --- | --- | --- | --- | --- |',\n",
       "  '|Richard Woodbury | 35 | Male | 1 |   |  ',\n",
       "  '|Dick Woodbury | 20 | Male | 1 |   |  ',\n",
       "  '|Daniel Woodbury | 36 | Male | 1 |  |   ',\n",
       "  '|William Woodbury | 20 | Male | 1 |  |  ',\n",
       "  '|March Woodbury | 60 | Male | 1 |   |',\n",
       "  '|Rachel Simmons  |55 |   |   |   |',\n",
       "  'Geo. W. Woodbury'],\n",
       " [\"No. | NAME. | AGE. | WAGES. DOLLS. | WAGES. CTS. | MONTHLY PAYM'T. DOLLS. | MONTHLY PAYM'T CTS.\",\n",
       "  '/preprinted',\n",
       "  '1 | Jerry Pigott | 17 | 8 | 00 | 4 | 00',\n",
       "  '/7 column table'],\n",
       " ['| Name. | Age. | No. of Dependents. | Remarks. | ',\n",
       "  '| --- | --- | --- | --- |',\n",
       "  '| Sally Brown His X Mark | 30 | 2 | under four years of age',\n",
       "  '| Captain His X Mark | 51 |   |',\n",
       "  '| Harrison His X Mark | 23 |   |',\n",
       "  '| Taner His X Mark  57 |   |',\n",
       "  '| Ida  Her X Mark | 19 |   |',\n",
       "  '| Louisia Her X Mark | 40 | 4 under ten years of age |',\n",
       "  '| Dallace His X Mark 20 |   |',\n",
       "  '| Vick His X Mark | 14 |   |  ',\n",
       "  '| Minnie His X Mark | 55 |   | Rheumatism unable to support himself |',\n",
       "  '| Mattie Her X Mark | 54 |   |',\n",
       "  '| Hester Her X Mark | 28 | 6 | under ten years of age |   ',\n",
       "  'No 198.'],\n",
       " ['|Names|age|Pay pr Mo-|Pay pr Year|Remarks|',\n",
       "  '|---|---|---|---|---|---|---|',\n",
       "  '|Frank his x mark Princeton|32|   |   |$150|00|Began 1st January 1866|',\n",
       "  '|James his x mark Armstrong|61|   |   |$100|00|Began 30th day January 1866'],\n",
       " ['|NAMES.|AGE.|SEX.|MONTHLY RATE OF WAGES.|INTEREST IN PROFITS.|',\n",
       "  '|---|---|---|---|---|',\n",
       "  '|George X his mark|18|male|Food clothing medical attention|',\n",
       "  '|Susannah X mark|15|Female|Food clothing medical attention|',\n",
       "  '|Silva X mark|55|Female|Food clothing medical attention|',\n",
       "  '|Beck X mark|24|Female|Food clothing medical attention|',\n",
       "  '|Patiric X mark|55|male|Food clothing medical attention|'],\n",
       " ['|NAMES.|AGE.|SEX.|', '|---|---|---|', '|Westly|7|male|'],\n",
       " ['| NAMES. | AGE. | SEX. | CLASS. | MONTHLY RATE OF WAGES | INTEREST IN PROFITS. |',\n",
       "  '|---|---|---|---|---|---|',\n",
       "  'paired',\n",
       "  '| Ellie, | 55, | Male, | 3 | 2 girls. | (4) Four acres of Land planted with corn, and (60) Sixty Bushels of Corn to be devided. |',\n",
       "  '| Julia, Ann, - | 45, | Fem, | 3 | 2 Boys. | (4) Four acres of Land planted with corn, and (60) Sixty Bushels of Corn to be devided. |',\n",
       "  '/paired',\n",
       "  '| John, | 60, | Male, | 3 | Maintenance, | (4) Four acres of Land planted with corn, and (60) Sixty Bushels of Corn to be devided. |',\n",
       "  '| Jim, | 27 ,| Male | 3 | (4) Four acres of Land planted with corn, and (60) Sixty Bushels of Corn to be devided. |',\n",
       "  '| Emmanuel, | 18, | Male | 3 | (4) Four acres of Land planted with corn, and (60) Sixty Bushels of Corn to be devided. |',\n",
       "  '| Arthur, | 17, | Male | 3 | (4) Four acres of Land planted with corn, and (60) Sixty Bushels of Corn to be devided. |',\n",
       "  '| Andy, | 15, | Male | 3 | (4) Four acres of Land planted with corn, and (60) Sixty Bushels of Corn to be devided. |',\n",
       "  '| Emoline, | 18, | Fem | 3 | $2.00. | (4) Four acres of Land planted with corn, and (60) Sixty Bushels of Corn to be devided. |',\n",
       "  '| Ann, | 21, | Fem | 3 | $2.00. | (4) Four acres of Land planted with corn, and (60) Sixty Bushels of Corn to be devided. |',\n",
       "  'Executed in presence of ']]"
      ]
     },
     "execution_count": 22,
     "metadata": {},
     "output_type": "execute_result"
    }
   ],
   "source": [
    "tables_extracted"
   ]
  },
  {
   "cell_type": "code",
   "execution_count": 23,
   "id": "84662f8a",
   "metadata": {
    "execution": {
     "iopub.execute_input": "2022-07-15T11:13:43.872859Z",
     "iopub.status.busy": "2022-07-15T11:13:43.872191Z",
     "iopub.status.idle": "2022-07-15T11:13:43.877356Z",
     "shell.execute_reply": "2022-07-15T11:13:43.875824Z"
    },
    "papermill": {
     "duration": 0.015778,
     "end_time": "2022-07-15T11:13:43.879602",
     "exception": false,
     "start_time": "2022-07-15T11:13:43.863824",
     "status": "completed"
    },
    "tags": []
   },
   "outputs": [
    {
     "name": "stdout",
     "output_type": "stream",
     "text": [
      "[[3 columned table]]\n",
      "DEPENDENTS\n",
      "|NAMES.|AGE.|SEX.|\n",
      "|---|---|---|\n",
      "|Westly|7|male|\n",
      "|Charley|3|male|\n"
     ]
    }
   ],
   "source": [
    "print(notex[13])"
   ]
  },
  {
   "cell_type": "code",
   "execution_count": 24,
   "id": "f187d132",
   "metadata": {
    "execution": {
     "iopub.execute_input": "2022-07-15T11:13:43.896163Z",
     "iopub.status.busy": "2022-07-15T11:13:43.895497Z",
     "iopub.status.idle": "2022-07-15T11:13:43.900607Z",
     "shell.execute_reply": "2022-07-15T11:13:43.899899Z"
    },
    "papermill": {
     "duration": 0.015388,
     "end_time": "2022-07-15T11:13:43.902467",
     "exception": false,
     "start_time": "2022-07-15T11:13:43.887079",
     "status": "completed"
    },
    "tags": []
   },
   "outputs": [
    {
     "data": {
      "text/plain": [
       "['|NAMES.|AGE.|SEX.|', '|---|---|---|', '|Westly|7|male|']"
      ]
     },
     "execution_count": 24,
     "metadata": {},
     "output_type": "execute_result"
    }
   ],
   "source": [
    "tables_extracted[13]"
   ]
  },
  {
   "cell_type": "code",
   "execution_count": 25,
   "id": "6ba05c14",
   "metadata": {
    "execution": {
     "iopub.execute_input": "2022-07-15T11:13:43.918827Z",
     "iopub.status.busy": "2022-07-15T11:13:43.918190Z",
     "iopub.status.idle": "2022-07-15T11:13:43.923489Z",
     "shell.execute_reply": "2022-07-15T11:13:43.922389Z"
    },
    "papermill": {
     "duration": 0.015919,
     "end_time": "2022-07-15T11:13:43.925630",
     "exception": false,
     "start_time": "2022-07-15T11:13:43.909711",
     "status": "completed"
    },
    "tags": []
   },
   "outputs": [
    {
     "name": "stdout",
     "output_type": "stream",
     "text": [
      "15\n"
     ]
    }
   ],
   "source": [
    "nb=0\n",
    "for example in (tables_extracted):\n",
    "    if len(example)> 0 :\n",
    "        nb=nb+1\n",
    "print(nb)"
   ]
  },
  {
   "cell_type": "code",
   "execution_count": 26,
   "id": "851c56f6",
   "metadata": {
    "execution": {
     "iopub.execute_input": "2022-07-15T11:13:43.942408Z",
     "iopub.status.busy": "2022-07-15T11:13:43.941473Z",
     "iopub.status.idle": "2022-07-15T11:13:43.945693Z",
     "shell.execute_reply": "2022-07-15T11:13:43.944841Z"
    },
    "papermill": {
     "duration": 0.014738,
     "end_time": "2022-07-15T11:13:43.947654",
     "exception": false,
     "start_time": "2022-07-15T11:13:43.932916",
     "status": "completed"
    },
    "tags": []
   },
   "outputs": [],
   "source": [
    "# for i in (contract[contract.tables_parsed == {}].sample(n=2).transcription_text.tolist()):\n",
    "\n",
    "#     print(i)\n",
    "#     print(\"==========\")"
   ]
  },
  {
   "cell_type": "code",
   "execution_count": null,
   "id": "333a3cdc",
   "metadata": {
    "execution": {
     "iopub.execute_input": "2022-07-15T10:44:51.642577Z",
     "iopub.status.busy": "2022-07-15T10:44:51.641872Z",
     "iopub.status.idle": "2022-07-15T10:44:51.654295Z",
     "shell.execute_reply": "2022-07-15T10:44:51.652952Z",
     "shell.execute_reply.started": "2022-07-15T10:44:51.642526Z"
    },
    "papermill": {
     "duration": 0.006994,
     "end_time": "2022-07-15T11:13:43.962215",
     "exception": false,
     "start_time": "2022-07-15T11:13:43.955221",
     "status": "completed"
    },
    "tags": []
   },
   "outputs": [],
   "source": []
  },
  {
   "cell_type": "code",
   "execution_count": null,
   "id": "140aeb7f",
   "metadata": {
    "papermill": {
     "duration": 0.007039,
     "end_time": "2022-07-15T11:13:43.976514",
     "exception": false,
     "start_time": "2022-07-15T11:13:43.969475",
     "status": "completed"
    },
    "tags": []
   },
   "outputs": [],
   "source": []
  }
 ],
 "metadata": {
  "kernelspec": {
   "display_name": "Python 3",
   "language": "python",
   "name": "python3"
  },
  "language_info": {
   "codemirror_mode": {
    "name": "ipython",
    "version": 3
   },
   "file_extension": ".py",
   "mimetype": "text/x-python",
   "name": "python",
   "nbconvert_exporter": "python",
   "pygments_lexer": "ipython3",
   "version": "3.7.12"
  },
  "papermill": {
   "default_parameters": {},
   "duration": 45.067776,
   "end_time": "2022-07-15T11:13:44.805218",
   "environment_variables": {},
   "exception": null,
   "input_path": "__notebook__.ipynb",
   "output_path": "__notebook__.ipynb",
   "parameters": {},
   "start_time": "2022-07-15T11:12:59.737442",
   "version": "2.3.4"
  }
 },
 "nbformat": 4,
 "nbformat_minor": 5
}
