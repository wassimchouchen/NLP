{
 "cells": [
  {
   "cell_type": "code",
   "execution_count": 1,
   "id": "f1db2377",
   "metadata": {
    "_cell_guid": "b1076dfc-b9ad-4769-8c92-a6c4dae69d19",
    "_kg_hide-output": true,
    "_uuid": "8f2839f25d086af736a60e9eeb907d3b93b6e0e5",
    "execution": {
     "iopub.execute_input": "2022-07-14T17:44:21.583647Z",
     "iopub.status.busy": "2022-07-14T17:44:21.583244Z",
     "iopub.status.idle": "2022-07-14T17:44:23.373526Z",
     "shell.execute_reply": "2022-07-14T17:44:23.372277Z"
    },
    "papermill": {
     "duration": 1.806122,
     "end_time": "2022-07-14T17:44:23.375871",
     "exception": false,
     "start_time": "2022-07-14T17:44:21.569749",
     "status": "completed"
    },
    "tags": []
   },
   "outputs": [],
   "source": [
    "# !pip install flair\n",
    "import time\n",
    "import string\n",
    "import warnings\n",
    "\n",
    "import regex as re\n",
    "from tqdm import tqdm\n",
    "\n",
    "\n",
    "import pickle\n",
    "import numpy as np\n",
    "import pandas as pd \n",
    "\n",
    "import seaborn as sns\n",
    "import matplotlib.pyplot as plt \n",
    "import matplotlib.style as stl \n",
    "\n",
    "\n",
    "\n",
    "from nltk.corpus import stopwords\n",
    "from nltk.corpus import stopwords\n",
    "from nltk.tokenize import word_tokenize\n",
    "from nltk.stem import WordNetLemmatizer\n",
    "from nltk.stem.snowball import SnowballStemmer\n",
    "\n",
    "\n",
    "warnings.filterwarnings(\"ignore\")"
   ]
  },
  {
   "cell_type": "code",
   "execution_count": 2,
   "id": "8a138a27",
   "metadata": {
    "execution": {
     "iopub.execute_input": "2022-07-14T17:44:23.391316Z",
     "iopub.status.busy": "2022-07-14T17:44:23.390683Z",
     "iopub.status.idle": "2022-07-14T17:44:32.163276Z",
     "shell.execute_reply": "2022-07-14T17:44:32.161864Z"
    },
    "papermill": {
     "duration": 8.783183,
     "end_time": "2022-07-14T17:44:32.166116",
     "exception": false,
     "start_time": "2022-07-14T17:44:23.382933",
     "status": "completed"
    },
    "tags": []
   },
   "outputs": [],
   "source": [
    "documents = pd.read_csv(\"../input/skylarfreedman/Documents-Table 1.csv\", on_bad_lines='skip', sep=\";\")"
   ]
  },
  {
   "cell_type": "code",
   "execution_count": 3,
   "id": "8e6fa7de",
   "metadata": {
    "execution": {
     "iopub.execute_input": "2022-07-14T17:44:32.189416Z",
     "iopub.status.busy": "2022-07-14T17:44:32.189038Z",
     "iopub.status.idle": "2022-07-14T17:44:32.252230Z",
     "shell.execute_reply": "2022-07-14T17:44:32.250903Z"
    },
    "papermill": {
     "duration": 0.077666,
     "end_time": "2022-07-14T17:44:32.254880",
     "exception": false,
     "start_time": "2022-07-14T17:44:32.177214",
     "status": "completed"
    },
    "tags": []
   },
   "outputs": [],
   "source": [
    "contract = documents[documents.Category == \"Contracts\"]\n",
    "contract = contract[[\"document_id\", \"project_id\", \"transcription_text\"]]"
   ]
  },
  {
   "cell_type": "code",
   "execution_count": 4,
   "id": "7e3e38b4",
   "metadata": {
    "execution": {
     "iopub.execute_input": "2022-07-14T17:44:32.278326Z",
     "iopub.status.busy": "2022-07-14T17:44:32.277970Z",
     "iopub.status.idle": "2022-07-14T17:44:32.291800Z",
     "shell.execute_reply": "2022-07-14T17:44:32.290638Z"
    },
    "papermill": {
     "duration": 0.027845,
     "end_time": "2022-07-14T17:44:32.293954",
     "exception": false,
     "start_time": "2022-07-14T17:44:32.266109",
     "status": "completed"
    },
    "tags": []
   },
   "outputs": [],
   "source": [
    "contract = contract[pd.notnull(contract['transcription_text'])]\n",
    "contract = contract.reset_index(drop=True)"
   ]
  },
  {
   "cell_type": "markdown",
   "id": "bdc2beeb",
   "metadata": {
    "papermill": {
     "duration": 0.006577,
     "end_time": "2022-07-14T17:44:32.307397",
     "exception": false,
     "start_time": "2022-07-14T17:44:32.300820",
     "status": "completed"
    },
    "tags": []
   },
   "source": [
    "# Preprocessing"
   ]
  },
  {
   "cell_type": "code",
   "execution_count": 5,
   "id": "7a4890d8",
   "metadata": {
    "execution": {
     "iopub.execute_input": "2022-07-14T17:44:32.322014Z",
     "iopub.status.busy": "2022-07-14T17:44:32.321653Z",
     "iopub.status.idle": "2022-07-14T17:44:32.336524Z",
     "shell.execute_reply": "2022-07-14T17:44:32.335105Z"
    },
    "papermill": {
     "duration": 0.024615,
     "end_time": "2022-07-14T17:44:32.338699",
     "exception": false,
     "start_time": "2022-07-14T17:44:32.314084",
     "status": "completed"
    },
    "tags": []
   },
   "outputs": [],
   "source": [
    "stop_words = set(stopwords.words('english'))\n",
    "punctuation = string.punctuation\n",
    "stemmer = SnowballStemmer(language=\"english\")\n",
    "lemmatizer = WordNetLemmatizer()\n",
    "stop_words.remove(\"of\")\n",
    "punct='!\"#$%&\\'()*+-/<=>?@[\\\\]^_`{|}~'\n",
    "\n",
    "def process(s):\n",
    "    \"\"\"Removes stop words, words in brackets\n",
    "    and parentheses, and special characters.\n",
    "    \"\"\"\n",
    "    \n",
    "    s= re.sub(\"([\\(\\[]).*?([\\)\\]])\",\" \",s)\n",
    "    for p in punct:\n",
    "        s = s.replace(p, '')\n",
    "    s = word_tokenize(s)\n",
    "    s = [w for w in s if not w in stop_words] #optional\n",
    "    return s"
   ]
  },
  {
   "cell_type": "code",
   "execution_count": 6,
   "id": "2c3097c0",
   "metadata": {
    "execution": {
     "iopub.execute_input": "2022-07-14T17:44:32.353301Z",
     "iopub.status.busy": "2022-07-14T17:44:32.352908Z",
     "iopub.status.idle": "2022-07-14T17:45:12.159154Z",
     "shell.execute_reply": "2022-07-14T17:45:12.157993Z"
    },
    "papermill": {
     "duration": 39.816134,
     "end_time": "2022-07-14T17:45:12.161520",
     "exception": false,
     "start_time": "2022-07-14T17:44:32.345386",
     "status": "completed"
    },
    "tags": []
   },
   "outputs": [],
   "source": [
    "contract[\"processed_text\"] = contract[\"transcription_text\"].apply(process)\n",
    "contract[\"processed_text\"] = contract[\"processed_text\"].apply(lambda x: \" \".join(x))"
   ]
  },
  {
   "cell_type": "code",
   "execution_count": 7,
   "id": "9a8310b1",
   "metadata": {
    "execution": {
     "iopub.execute_input": "2022-07-14T17:45:12.176868Z",
     "iopub.status.busy": "2022-07-14T17:45:12.176508Z",
     "iopub.status.idle": "2022-07-14T17:45:12.190192Z",
     "shell.execute_reply": "2022-07-14T17:45:12.189139Z"
    },
    "papermill": {
     "duration": 0.024274,
     "end_time": "2022-07-14T17:45:12.192793",
     "exception": false,
     "start_time": "2022-07-14T17:45:12.168519",
     "status": "completed"
    },
    "tags": []
   },
   "outputs": [],
   "source": [
    "def parse_table_to_dict(example) :\n",
    "    \n",
    "    def clean_record(x) :\n",
    "        if x.strip() == \"\":\n",
    "            return \" \"\n",
    "        return x.strip().replace(\"{\", \"\").replace(\"}\", \"\")\n",
    "\n",
    "    table_dict = {}\n",
    "\n",
    "    if \"name\" in example[0].lower():\n",
    "\n",
    "        cols = []\n",
    "        for col in example[0].split(\"|\"):\n",
    "            if col.strip() == \"\":\n",
    "                cols.append(col)\n",
    "            else:\n",
    "                cols.append(col.strip().lower().replace(\" \", \"_\").replace(\".\", \"\"))\n",
    "\n",
    "        values = np.array([list(map(clean_record, i.split(\"|\"))) for i in example[1:]])\n",
    "\n",
    "    else:\n",
    "\n",
    "        n_cols = len(example[0].split(\"|\"))\n",
    "        cols = [f\"col_{i}\" for i in range(n_cols)]\n",
    "\n",
    "        values = np.array([list(map(clean_record, i.split(\"|\"))) for i in example])\n",
    "        \n",
    "    \n",
    "    #Remove empty rows ([\"----\", \"-----\", \"-----\"])\n",
    "    new_values = []\n",
    "    for line in values:\n",
    "        line_chars = list(set(\"\".join([i.strip() for i in line])))\n",
    "        \n",
    "        if len(line_chars) != 0 and (line_chars[0] != \"-\" or len(line_chars) != 0):\n",
    "            new_values.append(line.tolist())\n",
    "            \n",
    "    values = np.array(new_values)\n",
    "            \n",
    "    if values.reshape(-1).shape[0] != 0:\n",
    "        for i, col in enumerate(cols):\n",
    "            table_dict[col] = values[:, i].tolist()\n",
    "            \n",
    "        return table_dict\n",
    "    \n",
    "    else:\n",
    "        \n",
    "        return {} "
   ]
  },
  {
   "cell_type": "code",
   "execution_count": 8,
   "id": "267abc7e",
   "metadata": {
    "execution": {
     "iopub.execute_input": "2022-07-14T17:45:12.208851Z",
     "iopub.status.busy": "2022-07-14T17:45:12.208491Z",
     "iopub.status.idle": "2022-07-14T17:45:12.231834Z",
     "shell.execute_reply": "2022-07-14T17:45:12.230766Z"
    },
    "papermill": {
     "duration": 0.033923,
     "end_time": "2022-07-14T17:45:12.233719",
     "exception": false,
     "start_time": "2022-07-14T17:45:12.199796",
     "status": "completed"
    },
    "tags": []
   },
   "outputs": [
    {
     "data": {
      "text/html": [
       "<div>\n",
       "<style scoped>\n",
       "    .dataframe tbody tr th:only-of-type {\n",
       "        vertical-align: middle;\n",
       "    }\n",
       "\n",
       "    .dataframe tbody tr th {\n",
       "        vertical-align: top;\n",
       "    }\n",
       "\n",
       "    .dataframe thead th {\n",
       "        text-align: right;\n",
       "    }\n",
       "</style>\n",
       "<table border=\"1\" class=\"dataframe\">\n",
       "  <thead>\n",
       "    <tr style=\"text-align: right;\">\n",
       "      <th></th>\n",
       "      <th>document_id</th>\n",
       "      <th>project_id</th>\n",
       "      <th>transcription_text</th>\n",
       "      <th>processed_text</th>\n",
       "    </tr>\n",
       "  </thead>\n",
       "  <tbody>\n",
       "    <tr>\n",
       "      <th>0</th>\n",
       "      <td>NMAAHC-004567394_00861</td>\n",
       "      <td>11400</td>\n",
       "      <td>[D104 ENCL]\\r\\nNorth Carolina\\r\\nThis indentur...</td>\n",
       "      <td>North Carolina This indenture made entered Thi...</td>\n",
       "    </tr>\n",
       "    <tr>\n",
       "      <th>1</th>\n",
       "      <td>NMAAHC-004567394_00957</td>\n",
       "      <td>11400</td>\n",
       "      <td>[E 11 ENCL] \\r\\n\\r\\n\\r\\nState of North Carolin...</td>\n",
       "      <td>State of North Carolina Currituck County . Thi...</td>\n",
       "    </tr>\n",
       "    <tr>\n",
       "      <th>2</th>\n",
       "      <td>NMAAHC-004567394_00958</td>\n",
       "      <td>11400</td>\n",
       "      <td>near Lizzie Etheridge's gate, thence South 56 ...</td>\n",
       "      <td>near Lizzie Etheridges gate , thence South 56 ...</td>\n",
       "    </tr>\n",
       "    <tr>\n",
       "      <th>3</th>\n",
       "      <td>NMAAHC-004567395_00439</td>\n",
       "      <td>11406</td>\n",
       "      <td>Copy\\r\\n\\r\\nAgreement of Apprenticeship\\r\\nBu ...</td>\n",
       "      <td>Copy Agreement of Apprenticeship Bu Mrs. Kate ...</td>\n",
       "    </tr>\n",
       "    <tr>\n",
       "      <th>4</th>\n",
       "      <td>NMAAHC-004567395_00440</td>\n",
       "      <td>11406</td>\n",
       "      <td>[H 132 ENCL] \\r\\n\\r\\nCopy\\r\\n\\r\\nAgreement of ...</td>\n",
       "      <td>Copy Agreement of Apprenticeship . This agreem...</td>\n",
       "    </tr>\n",
       "    <tr>\n",
       "      <th>...</th>\n",
       "      <td>...</td>\n",
       "      <td>...</td>\n",
       "      <td>...</td>\n",
       "      <td>...</td>\n",
       "    </tr>\n",
       "    <tr>\n",
       "      <th>23724</th>\n",
       "      <td>NMAAHC-007677332_01525</td>\n",
       "      <td>41539</td>\n",
       "      <td>\\N</td>\n",
       "      <td>N</td>\n",
       "    </tr>\n",
       "    <tr>\n",
       "      <th>23725</th>\n",
       "      <td>NMAAHC-007677332_01526</td>\n",
       "      <td>41539</td>\n",
       "      <td>\\N</td>\n",
       "      <td>N</td>\n",
       "    </tr>\n",
       "    <tr>\n",
       "      <th>23726</th>\n",
       "      <td>NMAAHC-007677332_01527</td>\n",
       "      <td>41539</td>\n",
       "      <td>\\N</td>\n",
       "      <td>N</td>\n",
       "    </tr>\n",
       "    <tr>\n",
       "      <th>23727</th>\n",
       "      <td>NMAAHC-007677332_01528</td>\n",
       "      <td>41539</td>\n",
       "      <td>Jo</td>\n",
       "      <td>Jo</td>\n",
       "    </tr>\n",
       "    <tr>\n",
       "      <th>23728</th>\n",
       "      <td>NMAAHC-007677332_01529</td>\n",
       "      <td>41539</td>\n",
       "      <td>\\N</td>\n",
       "      <td>N</td>\n",
       "    </tr>\n",
       "  </tbody>\n",
       "</table>\n",
       "<p>23729 rows × 4 columns</p>\n",
       "</div>"
      ],
      "text/plain": [
       "                  document_id  project_id  \\\n",
       "0      NMAAHC-004567394_00861       11400   \n",
       "1      NMAAHC-004567394_00957       11400   \n",
       "2      NMAAHC-004567394_00958       11400   \n",
       "3      NMAAHC-004567395_00439       11406   \n",
       "4      NMAAHC-004567395_00440       11406   \n",
       "...                       ...         ...   \n",
       "23724  NMAAHC-007677332_01525       41539   \n",
       "23725  NMAAHC-007677332_01526       41539   \n",
       "23726  NMAAHC-007677332_01527       41539   \n",
       "23727  NMAAHC-007677332_01528       41539   \n",
       "23728  NMAAHC-007677332_01529       41539   \n",
       "\n",
       "                                      transcription_text  \\\n",
       "0      [D104 ENCL]\\r\\nNorth Carolina\\r\\nThis indentur...   \n",
       "1      [E 11 ENCL] \\r\\n\\r\\n\\r\\nState of North Carolin...   \n",
       "2      near Lizzie Etheridge's gate, thence South 56 ...   \n",
       "3      Copy\\r\\n\\r\\nAgreement of Apprenticeship\\r\\nBu ...   \n",
       "4      [H 132 ENCL] \\r\\n\\r\\nCopy\\r\\n\\r\\nAgreement of ...   \n",
       "...                                                  ...   \n",
       "23724                                                 \\N   \n",
       "23725                                                 \\N   \n",
       "23726                                                 \\N   \n",
       "23727                                                 Jo   \n",
       "23728                                                 \\N   \n",
       "\n",
       "                                          processed_text  \n",
       "0      North Carolina This indenture made entered Thi...  \n",
       "1      State of North Carolina Currituck County . Thi...  \n",
       "2      near Lizzie Etheridges gate , thence South 56 ...  \n",
       "3      Copy Agreement of Apprenticeship Bu Mrs. Kate ...  \n",
       "4      Copy Agreement of Apprenticeship . This agreem...  \n",
       "...                                                  ...  \n",
       "23724                                                  N  \n",
       "23725                                                  N  \n",
       "23726                                                  N  \n",
       "23727                                                 Jo  \n",
       "23728                                                  N  \n",
       "\n",
       "[23729 rows x 4 columns]"
      ]
     },
     "execution_count": 8,
     "metadata": {},
     "output_type": "execute_result"
    }
   ],
   "source": [
    "contract"
   ]
  },
  {
   "cell_type": "code",
   "execution_count": 9,
   "id": "c07bfa88",
   "metadata": {
    "execution": {
     "iopub.execute_input": "2022-07-14T17:45:12.250850Z",
     "iopub.status.busy": "2022-07-14T17:45:12.250038Z",
     "iopub.status.idle": "2022-07-14T17:45:12.258713Z",
     "shell.execute_reply": "2022-07-14T17:45:12.258015Z"
    },
    "papermill": {
     "duration": 0.019343,
     "end_time": "2022-07-14T17:45:12.260393",
     "exception": false,
     "start_time": "2022-07-14T17:45:12.241050",
     "status": "completed"
    },
    "tags": []
   },
   "outputs": [],
   "source": [
    "t=[]\n",
    "t.append(\"\"\"[[7 column table]]\n",
    "No. | NAME. | AGE. | WAGES. DOLLS. | [[WAGES.]] CTS. | MONTHLY PAYM'T. DOLLS. | [[MONTHLY PAYM'T.]] CTS.\n",
    "[[/preprinted]]\n",
    "\n",
    "1 | Sarah | 17 | 2 | 50 | 1 | 75 \"\"\")\n",
    "t.append(\"\"\"[[5 columned table]]\n",
    "| No. | NAMES. | AGE. | RATE of PAY per month. Dols. | RATE of PAY per month. Cents. |         \n",
    "| --- | --- | --- | --- | --- | \n",
    "| 1861 | Phillip Carr | 13 | 100 | 00 |\"\"\")\n",
    "t.append(\"\"\"|NAMES.|AGE.|MONTHLY RATE OF WAGES.|INTEREST IN PROFITS.|\n",
    "|Frances her x mark|16|none|none.\n",
    "\n",
    "\n",
    "DEPENDENTS.\n",
    "|NAMES.|AGE.|NAMES.|AGE.|\"\"\")\n",
    "t.append(\"\"\"[[6 Columned Table]]\n",
    "| NAME | AGE | SEX | CLASS | MONTHLY RATE OF WAGES. | INTEREST IN PROFITS. |\n",
    "|---|---|---|---|---|---|\n",
    "| Franklin | 21 | Male | 1st | $8.00 |\n",
    "[[/6 columned table]]\n",
    "\"\"\")\n",
    "t.append(\"\"\"[[3 columned table]]\n",
    "| --- | --- | --- |\n",
    "| 1866 June 16th | Approved Contracted between John L. Banks and Merrit Sanders 'fm, for farming this year | J.L.B. is to furnish Lands, teams, Seed, and farming implements. Three (3) Bls of corn, Two Hundred and fifty (250) Lbs of Pork. Leather for two (2) pair of Shoes (Mens). Pay two thirds (2/3) of wages paid to hired hands and give sd. Merritt Sanders one third (1/3) of crops made. \n",
    "M.S. is to work on said Lands the whole year. pay one third (1/3) of the hire to hands and furnish some assistance on sd. Lands from his family. | [[note]]\n",
    "\n",
    "| June 18 | Approved Contract between W.H. Sanders and Thomas Campbell 'fm, for farming dated March 1st 1866- | W.H. Sanders is to furnish lands, one horse, seed and feed for horse and receive two thirds (2/3) of crops. Freedman Thomas Campbell is to furnish himself and produce crops on said Lands and retain one third (1/3) of crops, and to keep the ditches open on said lands, occupied by his crops |\n",
    "\n",
    "| June 18 | Approved Contract between David S. Henry and Freedmen Parson Avery, Jackson Sanders and Reuben Sanders for farming dated June 6th 1866. | David S. Avery to furnish Lands Seeds and Teams. Parson Avery Jackson Sanders and Reuben Sanders freedmen to perform the manual labor necessary to make crops with said teams & Seeds and Lands furnished to keep up the fences and care properly for the stock and implements, and receive one third (1/3) of the crops. \n",
    "Sd. David S. Avery to receive two thirds (2/3) of the crops, and afford each of said Freedman a garden for Corn, Potatoes &c, &c rent free. | \"\"\")\n",
    "t.append(\"\"\"\n",
    "[[5 column table]]\n",
    "\n",
    "|NAMES.|AGE.|SEX.|MONTHLY RATE OF WAGES.|INTEREST IN PROFITS.|\n",
    "|Margery X (her mark) Russell|30|female|none|none|\n",
    "\n",
    "[[/5 column table]]\n",
    "\n",
    "DEPENDENTS.\n",
    "\n",
    "[[6 column table]]\n",
    "\n",
    "|NAMES.|AGE.|SEX.|NAMES.|AGE.|SEX.|\n",
    "|Phillis|9|female|   |   |   |\n",
    "|Emma|6|female|   |   |   |\n",
    "\n",
    "[[/6 column table]]\"\"\")\n",
    "t.append(\"\"\"|No.|Name|Age|Rate of pay per month. Dols Cts.\n",
    "|1|Martha Willis|21|   | \"\"\")\n",
    "t2=t"
   ]
  },
  {
   "cell_type": "code",
   "execution_count": 10,
   "id": "524893ca",
   "metadata": {
    "execution": {
     "iopub.execute_input": "2022-07-14T17:45:12.276473Z",
     "iopub.status.busy": "2022-07-14T17:45:12.276023Z",
     "iopub.status.idle": "2022-07-14T17:45:12.282953Z",
     "shell.execute_reply": "2022-07-14T17:45:12.281853Z"
    },
    "papermill": {
     "duration": 0.01719,
     "end_time": "2022-07-14T17:45:12.284887",
     "exception": false,
     "start_time": "2022-07-14T17:45:12.267697",
     "status": "completed"
    },
    "tags": []
   },
   "outputs": [],
   "source": [
    "tb=[\"\"\"[[table]]\n",
    "No. | NAME. | AGE. | ^[[Twelve months]] WAGES. DOLLS. CTS. | MONTHLY PAYM'T. DOLLS. CTS. [[/preprinted]]\n",
    "|Phil Shaver His x mark|33|$144|00|2|00\n",
    "|John Leo His x mark|16|72|00|1|50\n",
    "|Mumford Randleman His x mark|25|120|00|2|00\n",
    "|Adam Fisher His x mark|25|144|00|2|00\n",
    "|Emma Fisher Her x mark|19|72|00|2|00\n",
    "|Joseph Thompson His x mark|19|144|00|2|00\n",
    "|Henry Kelly Ale His mark x|20|144|00|2|00\n",
    "|Samuel Gillespie His x mark|22|120|00|2|00\n",
    "|Nathan Foard His x mark|40|144|00|2|00\n",
    "|Jordan Cox, His x mark|19|120|00|2|00\n",
    "|Ann Tyson Her x mark|18|84|00|2|00\n",
    "|Liza Dixon Her x mark|30|84|00|2|00\n",
    "|Ceily Auston Her x mark||25|00|84|00\n",
    "|Leon Foard His x mark|13|72|00|2|00\n",
    "|Silas Foard His x mark|10|60|00|2|00\n",
    "|Alfred P. Dixon His x mark|10|48|00|2|00\n",
    "|Mary Hall Her x mark|25|72|00|2|00\n",
    "|Hicksey Her x mark|25|72|00|2|00\n",
    "|Dennis His x mark|14|48|00|2|00\n",
    "|George Little & His x mark|31|120|00|2|00\n",
    "|Wife|23|96|00|1|00\n",
    "|Will Alfred & His x mark|28|120|00|2|00\n",
    "|Wife|19|96|00|2|00\n",
    "|Henry Myers His x mark|22|144|00|2|00\n",
    "|Thomas Granderson His x mark|24|120|00|2|00\n",
    "|Fred Deaton His x mark|23|120|00|2|00\n",
    "|[[Illegible - final line of page is cut off]]|14|72|00|2|00\n",
    "[[/Table]]\"\"\"]\n",
    "tb.append(\"\"\"[[3 column table - no headers]]\n",
    "|---|---|---|\n",
    "|Stephen Barni-|25|Male|\n",
    "|Eve. wife|22|F|\n",
    "|Martin Morrsham|18.|M.|\n",
    "|Wm Marshall|22|M.|\n",
    "|Oliver Hudgrim|19|M.|\n",
    "|John Lunford?|16|M.|\n",
    "|George Hargroves-|21|M.|\n",
    "|Richard Gibbs|15|M.|\n",
    "|& Babe Fannie Martin|19|F|\n",
    "|Senior Gates|33|M|\n",
    "|Bates Hiate|22|M|\n",
    "|John Hiate-|21|M|\n",
    "|Ned Sides-|22|M|\n",
    "|Lawson Patterson|22|M|\n",
    "|John Riverly|30|M|\n",
    "|Soleman Miller|28|M|\n",
    "|Moses Todd|23|M|\n",
    "|Peter Stubbs|33|M|\n",
    "|Sarah wife|28|F|\n",
    "|John Sim|12|M.|\n",
    "|Sam Jones|38|M|\n",
    "|Celia wife-|34|F|\n",
    "|Arter Son|16|M|\n",
    "|Sallie daughter|14|F|\n",
    "|Jim son|12|M|\n",
    "|Epraim Bennet|19|Male|\n",
    "|Sam Marsh|24|Male| \"\"\")"
   ]
  },
  {
   "cell_type": "code",
   "execution_count": 11,
   "id": "1cf8671c",
   "metadata": {
    "execution": {
     "iopub.execute_input": "2022-07-14T17:45:12.300559Z",
     "iopub.status.busy": "2022-07-14T17:45:12.300182Z",
     "iopub.status.idle": "2022-07-14T17:45:12.305691Z",
     "shell.execute_reply": "2022-07-14T17:45:12.304300Z"
    },
    "papermill": {
     "duration": 0.016102,
     "end_time": "2022-07-14T17:45:12.308048",
     "exception": false,
     "start_time": "2022-07-14T17:45:12.291946",
     "status": "completed"
    },
    "tags": []
   },
   "outputs": [
    {
     "name": "stdout",
     "output_type": "stream",
     "text": [
      "[[3 column table - no headers]]\n",
      "|---|---|---|\n",
      "|Stephen Barni-|25|Male|\n",
      "|Eve. wife|22|F|\n",
      "|Martin Morrsham|18.|M.|\n",
      "|Wm Marshall|22|M.|\n",
      "|Oliver Hudgrim|19|M.|\n",
      "|John Lunford?|16|M.|\n",
      "|George Hargroves-|21|M.|\n",
      "|Richard Gibbs|15|M.|\n",
      "|& Babe Fannie Martin|19|F|\n",
      "|Senior Gates|33|M|\n",
      "|Bates Hiate|22|M|\n",
      "|John Hiate-|21|M|\n",
      "|Ned Sides-|22|M|\n",
      "|Lawson Patterson|22|M|\n",
      "|John Riverly|30|M|\n",
      "|Soleman Miller|28|M|\n",
      "|Moses Todd|23|M|\n",
      "|Peter Stubbs|33|M|\n",
      "|Sarah wife|28|F|\n",
      "|John Sim|12|M.|\n",
      "|Sam Jones|38|M|\n",
      "|Celia wife-|34|F|\n",
      "|Arter Son|16|M|\n",
      "|Sallie daughter|14|F|\n",
      "|Jim son|12|M|\n",
      "|Epraim Bennet|19|Male|\n",
      "|Sam Marsh|24|Male| \n"
     ]
    }
   ],
   "source": [
    "print(tb[1])"
   ]
  },
  {
   "cell_type": "code",
   "execution_count": 12,
   "id": "650fb03a",
   "metadata": {
    "execution": {
     "iopub.execute_input": "2022-07-14T17:45:12.323998Z",
     "iopub.status.busy": "2022-07-14T17:45:12.323593Z",
     "iopub.status.idle": "2022-07-14T17:45:12.329478Z",
     "shell.execute_reply": "2022-07-14T17:45:12.328049Z"
    },
    "papermill": {
     "duration": 0.016281,
     "end_time": "2022-07-14T17:45:12.331475",
     "exception": false,
     "start_time": "2022-07-14T17:45:12.315194",
     "status": "completed"
    },
    "tags": []
   },
   "outputs": [
    {
     "name": "stdout",
     "output_type": "stream",
     "text": [
      "[[3 columned table]]\n",
      "| --- | --- | --- |\n",
      "| 1866 June 16th | Approved Contracted between John L. Banks and Merrit Sanders 'fm, for farming this year | J.L.B. is to furnish Lands, teams, Seed, and farming implements. Three (3) Bls of corn, Two Hundred and fifty (250) Lbs of Pork. Leather for two (2) pair of Shoes (Mens). Pay two thirds (2/3) of wages paid to hired hands and give sd. Merritt Sanders one third (1/3) of crops made. \n",
      "M.S. is to work on said Lands the whole year. pay one third (1/3) of the hire to hands and furnish some assistance on sd. Lands from his family. | [[note]]\n",
      "\n",
      "| June 18 | Approved Contract between W.H. Sanders and Thomas Campbell 'fm, for farming dated March 1st 1866- | W.H. Sanders is to furnish lands, one horse, seed and feed for horse and receive two thirds (2/3) of crops. Freedman Thomas Campbell is to furnish himself and produce crops on said Lands and retain one third (1/3) of crops, and to keep the ditches open on said lands, occupied by his crops |\n",
      "\n",
      "| June 18 | Approved Contract between David S. Henry and Freedmen Parson Avery, Jackson Sanders and Reuben Sanders for farming dated June 6th 1866. | David S. Avery to furnish Lands Seeds and Teams. Parson Avery Jackson Sanders and Reuben Sanders freedmen to perform the manual labor necessary to make crops with said teams & Seeds and Lands furnished to keep up the fences and care properly for the stock and implements, and receive one third (1/3) of the crops. \n",
      "Sd. David S. Avery to receive two thirds (2/3) of the crops, and afford each of said Freedman a garden for Corn, Potatoes &c, &c rent free. | \n"
     ]
    }
   ],
   "source": [
    "print(t2[4])"
   ]
  },
  {
   "cell_type": "code",
   "execution_count": 13,
   "id": "62532c30",
   "metadata": {
    "execution": {
     "iopub.execute_input": "2022-07-14T17:45:12.348231Z",
     "iopub.status.busy": "2022-07-14T17:45:12.347195Z",
     "iopub.status.idle": "2022-07-14T17:45:12.352260Z",
     "shell.execute_reply": "2022-07-14T17:45:12.350910Z"
    },
    "papermill": {
     "duration": 0.015343,
     "end_time": "2022-07-14T17:45:12.354280",
     "exception": false,
     "start_time": "2022-07-14T17:45:12.338937",
     "status": "completed"
    },
    "tags": []
   },
   "outputs": [],
   "source": [
    "t1=t2"
   ]
  },
  {
   "cell_type": "code",
   "execution_count": 14,
   "id": "5b00cc86",
   "metadata": {
    "execution": {
     "iopub.execute_input": "2022-07-14T17:45:12.371232Z",
     "iopub.status.busy": "2022-07-14T17:45:12.370825Z",
     "iopub.status.idle": "2022-07-14T17:45:12.389226Z",
     "shell.execute_reply": "2022-07-14T17:45:12.388093Z"
    },
    "papermill": {
     "duration": 0.029087,
     "end_time": "2022-07-14T17:45:12.391369",
     "exception": false,
     "start_time": "2022-07-14T17:45:12.362282",
     "status": "completed"
    },
    "tags": []
   },
   "outputs": [],
   "source": [
    "contract_text = contract.transcription_text.tolist()\n",
    "\n",
    "lns = []\n",
    "tables_extracted = []\n",
    "all_table_pairs = []\n",
    "idx = 0\n",
    "\n",
    "for table_text in t2:\n",
    "\n",
    "    tmp_tables = []\n",
    "    table_text = table_text.replace(\"[\", \"\").replace(\"]\", \"\").replace(\"^\", \"\")\n",
    "    \n",
    "    lines = table_text.split(\"\\n\")\n",
    "    lines = [i for i in lines if len(i.strip()) != 0]\n",
    "    \n",
    "    separator_counts = []\n",
    "    table_pairs  = []\n",
    "    \n",
    "    start = 0\n",
    "    end = 0\n",
    "    streak = 0\n",
    "    \n",
    "    for line_n, line in enumerate(lines):\n",
    "        \n",
    "        separator_count = line.count(\"|\")   \n",
    "        \n",
    "        condition_1 = len(separator_counts) == 0 or separator_count == separator_counts[-1]\n",
    "        condition_2 = separator_count != 0\n",
    "            \n",
    "        #If you find the beginning of a table, take note\n",
    "        if condition_1 and condition_2:\n",
    "            if streak == 0:\n",
    "                start = line_n\n",
    "            streak += 1\n",
    "        else:\n",
    "            if streak != 0:\n",
    "                table_pairs.append((start, line_n))\n",
    "                all_table_pairs.append((start, line_n, idx))\n",
    "            streak = 0\n",
    "            start = 0\n",
    "    \n",
    "        separator_counts.append(separator_count)\n",
    "        \n",
    "    if streak > 0:\n",
    "        table_pairs.append((start, line_n))\n",
    "        all_table_pairs.append((start, line_n, idx))\n",
    "        \n",
    "    if len(table_pairs) > 0:\n",
    "        for i, pair in enumerate(table_pairs):\n",
    "            table = lines[pair[0]-1:pair[1]]\n",
    "            tmp_tables.append(table)\n",
    "            \n",
    "        tables_extracted.append(tmp_tables[0])\n",
    "        \n",
    "    else:\n",
    "        tables_extracted.append([])\n",
    "        \n",
    "        \n",
    "    idx += 1"
   ]
  },
  {
   "cell_type": "code",
   "execution_count": 15,
   "id": "c6f37dde",
   "metadata": {
    "execution": {
     "iopub.execute_input": "2022-07-14T17:45:12.407908Z",
     "iopub.status.busy": "2022-07-14T17:45:12.407291Z",
     "iopub.status.idle": "2022-07-14T17:45:12.413720Z",
     "shell.execute_reply": "2022-07-14T17:45:12.412558Z"
    },
    "papermill": {
     "duration": 0.017377,
     "end_time": "2022-07-14T17:45:12.416258",
     "exception": false,
     "start_time": "2022-07-14T17:45:12.398881",
     "status": "completed"
    },
    "tags": []
   },
   "outputs": [
    {
     "data": {
      "text/plain": [
       "[[],\n",
       " ['| No. | NAMES. | AGE. | RATE of PAY per month. Dols. | RATE of PAY per month. Cents. |         ',\n",
       "  '| --- | --- | --- | --- | --- | '],\n",
       " [],\n",
       " ['| NAME | AGE | SEX | CLASS | MONTHLY RATE OF WAGES. | INTEREST IN PROFITS. |',\n",
       "  '|---|---|---|---|---|---|'],\n",
       " [],\n",
       " ['|NAMES.|AGE.|SEX.|MONTHLY RATE OF WAGES.|INTEREST IN PROFITS.|',\n",
       "  '|Margery X (her mark) Russell|30|female|none|none|'],\n",
       " []]"
      ]
     },
     "execution_count": 15,
     "metadata": {},
     "output_type": "execute_result"
    }
   ],
   "source": [
    "tables_extracted"
   ]
  },
  {
   "cell_type": "code",
   "execution_count": 16,
   "id": "679eb920",
   "metadata": {
    "execution": {
     "iopub.execute_input": "2022-07-14T17:45:12.441344Z",
     "iopub.status.busy": "2022-07-14T17:45:12.440987Z",
     "iopub.status.idle": "2022-07-14T17:45:12.447036Z",
     "shell.execute_reply": "2022-07-14T17:45:12.446107Z"
    },
    "papermill": {
     "duration": 0.020897,
     "end_time": "2022-07-14T17:45:12.448920",
     "exception": false,
     "start_time": "2022-07-14T17:45:12.428023",
     "status": "completed"
    },
    "tags": []
   },
   "outputs": [],
   "source": [
    "dcts = []\n",
    "\n",
    "for i, example in enumerate(tables_extracted):\n",
    "    if example != [] and len(example) > 2:\n",
    "        dcts.append(parse_table_to_dict(example))\n",
    "    else:\n",
    "        dcts.append({})"
   ]
  },
  {
   "cell_type": "code",
   "execution_count": 17,
   "id": "8ecf91c5",
   "metadata": {
    "execution": {
     "iopub.execute_input": "2022-07-14T17:45:12.473925Z",
     "iopub.status.busy": "2022-07-14T17:45:12.473644Z",
     "iopub.status.idle": "2022-07-14T17:45:12.479766Z",
     "shell.execute_reply": "2022-07-14T17:45:12.478436Z"
    },
    "papermill": {
     "duration": 0.021652,
     "end_time": "2022-07-14T17:45:12.482348",
     "exception": false,
     "start_time": "2022-07-14T17:45:12.460696",
     "status": "completed"
    },
    "tags": []
   },
   "outputs": [
    {
     "data": {
      "text/plain": [
       "[{}, {}, {}, {}, {}, {}, {}]"
      ]
     },
     "execution_count": 17,
     "metadata": {},
     "output_type": "execute_result"
    }
   ],
   "source": [
    "dcts"
   ]
  },
  {
   "cell_type": "code",
   "execution_count": 18,
   "id": "4a0a6d64",
   "metadata": {
    "execution": {
     "iopub.execute_input": "2022-07-14T17:45:12.507926Z",
     "iopub.status.busy": "2022-07-14T17:45:12.507610Z",
     "iopub.status.idle": "2022-07-14T17:45:12.519433Z",
     "shell.execute_reply": "2022-07-14T17:45:12.518666Z"
    },
    "papermill": {
     "duration": 0.026979,
     "end_time": "2022-07-14T17:45:12.521154",
     "exception": false,
     "start_time": "2022-07-14T17:45:12.494175",
     "status": "completed"
    },
    "tags": []
   },
   "outputs": [],
   "source": [
    "contract_text = contract.transcription_text.tolist()\n",
    "\n",
    "lns = []\n",
    "tables_extracted = []\n",
    "all_table_pairs = []\n",
    "idx = 0\n",
    "\n",
    "for table_text in t2:\n",
    "\n",
    "    tmp_tables = []\n",
    "    table_text = table_text.replace(\"[\", \"\").replace(\"]\", \"\").replace(\"^\", \"\")\n",
    "    \n",
    "    lines = table_text.split(\"\\n\")\n",
    "    lines = [i for i in lines if len(i.strip()) != 0]\n",
    "    separator_counts = []\n",
    "    table_pairs  = []\n",
    "    \n",
    "    start = 0\n",
    "    end = 0\n",
    "    streak = 0\n",
    "    lns=[]\n",
    "#     \"\"\"i removed lines without separator \"\"\"\n",
    "#     for j in lines:\n",
    "#          if  j.count(\"|\") ==0:\n",
    "#                 lines.remove(j)\n",
    "                \n",
    "        \n",
    "#    print(lines , \"\\n\\n\")\n",
    "    \n",
    "    for line_n, line in enumerate(lines):\n",
    "        \n",
    "        separator_count = line.count(\"|\")\n",
    "        \n",
    "        if separator_count==0:\n",
    "            continue\n",
    "            \n",
    "        \n",
    "        #print(line ,separator_count, \"\\n\\n\")\n",
    "        \n",
    "        \"\"\"i add the condition where the next line contain more and less separators than the previous line \"\"\"\n",
    "        \n",
    "        condition_1 = len(separator_counts) == 0  or separator_count == separator_counts[-1] or separator_count > separator_counts[-1] or separator_count < separator_counts[-1]\n",
    "        condition_2 = separator_count != 0\n",
    "            \n",
    "         #If you find the beginning of a table, take note\n",
    "        if (condition_1 and condition_2):\n",
    "            if streak == 0:\n",
    "                start = line_n\n",
    "            streak += 1\n",
    "        else:\n",
    "            if streak != 0 :\n",
    "                table_pairs.append((start, line_n))\n",
    "                all_table_pairs.append((start, line_n, idx))\n",
    "#             streak = 0\n",
    "#             start = 0\n",
    "    \n",
    "        separator_counts.append(separator_count)\n",
    "        \n",
    "    \n",
    "    if streak > 0:\n",
    "        table_pairs.append((start, line_n))\n",
    "        all_table_pairs.append((start, line_n, idx))\n",
    "        \n",
    "    if len(table_pairs) > 0:\n",
    "        for i, pair in enumerate(table_pairs):\n",
    "            table = lines[pair[0]-1:pair[1]]\n",
    "            tmp_tables.append(table)\n",
    "            \n",
    "        tables_extracted.append(tmp_tables[0])\n",
    "        \n",
    "    else:\n",
    "        tables_extracted.append([])\n",
    "     \n",
    "    \n",
    "    idx +=1\n",
    " \n",
    "\n",
    "    \n",
    "    \n",
    "    \n",
    "        "
   ]
  },
  {
   "cell_type": "code",
   "execution_count": 19,
   "id": "006395fb",
   "metadata": {
    "execution": {
     "iopub.execute_input": "2022-07-14T17:45:12.537622Z",
     "iopub.status.busy": "2022-07-14T17:45:12.537281Z",
     "iopub.status.idle": "2022-07-14T17:45:12.543192Z",
     "shell.execute_reply": "2022-07-14T17:45:12.542100Z"
    },
    "papermill": {
     "duration": 0.01712,
     "end_time": "2022-07-14T17:45:12.545751",
     "exception": false,
     "start_time": "2022-07-14T17:45:12.528631",
     "status": "completed"
    },
    "tags": []
   },
   "outputs": [
    {
     "name": "stdout",
     "output_type": "stream",
     "text": [
      "5\n"
     ]
    }
   ],
   "source": [
    "nb=0\n",
    "for example in (tables_extracted):\n",
    "    if len(example)> 0 :\n",
    "        nb=nb+1\n",
    "print(nb)"
   ]
  },
  {
   "cell_type": "code",
   "execution_count": 20,
   "id": "1360674c",
   "metadata": {
    "execution": {
     "iopub.execute_input": "2022-07-14T17:45:12.562315Z",
     "iopub.status.busy": "2022-07-14T17:45:12.561906Z",
     "iopub.status.idle": "2022-07-14T17:45:12.568204Z",
     "shell.execute_reply": "2022-07-14T17:45:12.566890Z"
    },
    "papermill": {
     "duration": 0.017119,
     "end_time": "2022-07-14T17:45:12.570397",
     "exception": false,
     "start_time": "2022-07-14T17:45:12.553278",
     "status": "completed"
    },
    "tags": []
   },
   "outputs": [
    {
     "name": "stdout",
     "output_type": "stream",
     "text": [
      "|No.|Name|Age|Rate of pay per month. Dols Cts.\n",
      "|1|Martha Willis|21|   | \n"
     ]
    }
   ],
   "source": [
    "print(t2[6])"
   ]
  },
  {
   "cell_type": "code",
   "execution_count": 21,
   "id": "e63ffe49",
   "metadata": {
    "execution": {
     "iopub.execute_input": "2022-07-14T17:45:12.587528Z",
     "iopub.status.busy": "2022-07-14T17:45:12.586971Z",
     "iopub.status.idle": "2022-07-14T17:45:12.595036Z",
     "shell.execute_reply": "2022-07-14T17:45:12.594090Z"
    },
    "papermill": {
     "duration": 0.0187,
     "end_time": "2022-07-14T17:45:12.597118",
     "exception": false,
     "start_time": "2022-07-14T17:45:12.578418",
     "status": "completed"
    },
    "tags": []
   },
   "outputs": [
    {
     "data": {
      "text/plain": [
       "[['7 column table',\n",
       "  \"No. | NAME. | AGE. | WAGES. DOLLS. | WAGES. CTS. | MONTHLY PAYM'T. DOLLS. | MONTHLY PAYM'T. CTS.\",\n",
       "  '/preprinted'],\n",
       " ['5 columned table',\n",
       "  '| No. | NAMES. | AGE. | RATE of PAY per month. Dols. | RATE of PAY per month. Cents. |         ',\n",
       "  '| --- | --- | --- | --- | --- | '],\n",
       " [],\n",
       " ['6 Columned Table',\n",
       "  '| NAME | AGE | SEX | CLASS | MONTHLY RATE OF WAGES. | INTEREST IN PROFITS. |',\n",
       "  '|---|---|---|---|---|---|',\n",
       "  '| Franklin | 21 | Male | 1st | $8.00 |'],\n",
       " ['3 columned table',\n",
       "  '| --- | --- | --- |',\n",
       "  \"| 1866 June 16th | Approved Contracted between John L. Banks and Merrit Sanders 'fm, for farming this year | J.L.B. is to furnish Lands, teams, Seed, and farming implements. Three (3) Bls of corn, Two Hundred and fifty (250) Lbs of Pork. Leather for two (2) pair of Shoes (Mens). Pay two thirds (2/3) of wages paid to hired hands and give sd. Merritt Sanders one third (1/3) of crops made. \",\n",
       "  'M.S. is to work on said Lands the whole year. pay one third (1/3) of the hire to hands and furnish some assistance on sd. Lands from his family. | note',\n",
       "  \"| June 18 | Approved Contract between W.H. Sanders and Thomas Campbell 'fm, for farming dated March 1st 1866- | W.H. Sanders is to furnish lands, one horse, seed and feed for horse and receive two thirds (2/3) of crops. Freedman Thomas Campbell is to furnish himself and produce crops on said Lands and retain one third (1/3) of crops, and to keep the ditches open on said lands, occupied by his crops |\",\n",
       "  '| June 18 | Approved Contract between David S. Henry and Freedmen Parson Avery, Jackson Sanders and Reuben Sanders for farming dated June 6th 1866. | David S. Avery to furnish Lands Seeds and Teams. Parson Avery Jackson Sanders and Reuben Sanders freedmen to perform the manual labor necessary to make crops with said teams & Seeds and Lands furnished to keep up the fences and care properly for the stock and implements, and receive one third (1/3) of the crops. '],\n",
       " ['5 column table',\n",
       "  '|NAMES.|AGE.|SEX.|MONTHLY RATE OF WAGES.|INTEREST IN PROFITS.|',\n",
       "  '|Margery X (her mark) Russell|30|female|none|none|',\n",
       "  '/5 column table',\n",
       "  'DEPENDENTS.',\n",
       "  '6 column table',\n",
       "  '|NAMES.|AGE.|SEX.|NAMES.|AGE.|SEX.|',\n",
       "  '|Phillis|9|female|   |   |   |',\n",
       "  '|Emma|6|female|   |   |   |'],\n",
       " []]"
      ]
     },
     "execution_count": 21,
     "metadata": {},
     "output_type": "execute_result"
    }
   ],
   "source": [
    "tables_extracted"
   ]
  },
  {
   "cell_type": "code",
   "execution_count": 22,
   "id": "3f4a2806",
   "metadata": {
    "execution": {
     "iopub.execute_input": "2022-07-14T17:45:12.613645Z",
     "iopub.status.busy": "2022-07-14T17:45:12.613292Z",
     "iopub.status.idle": "2022-07-14T17:45:12.618702Z",
     "shell.execute_reply": "2022-07-14T17:45:12.617658Z"
    },
    "papermill": {
     "duration": 0.016313,
     "end_time": "2022-07-14T17:45:12.620939",
     "exception": false,
     "start_time": "2022-07-14T17:45:12.604626",
     "status": "completed"
    },
    "tags": []
   },
   "outputs": [
    {
     "name": "stdout",
     "output_type": "stream",
     "text": [
      "\n",
      "[[5 column table]]\n",
      "\n",
      "|NAMES.|AGE.|SEX.|MONTHLY RATE OF WAGES.|INTEREST IN PROFITS.|\n",
      "|Margery X (her mark) Russell|30|female|none|none|\n",
      "\n",
      "[[/5 column table]]\n",
      "\n",
      "DEPENDENTS.\n",
      "\n",
      "[[6 column table]]\n",
      "\n",
      "|NAMES.|AGE.|SEX.|NAMES.|AGE.|SEX.|\n",
      "|Phillis|9|female|   |   |   |\n",
      "|Emma|6|female|   |   |   |\n",
      "\n",
      "[[/6 column table]]\n"
     ]
    }
   ],
   "source": [
    "print(t2[5])"
   ]
  },
  {
   "cell_type": "code",
   "execution_count": 23,
   "id": "0c5b3cf1",
   "metadata": {
    "execution": {
     "iopub.execute_input": "2022-07-14T17:45:12.646192Z",
     "iopub.status.busy": "2022-07-14T17:45:12.645866Z",
     "iopub.status.idle": "2022-07-14T17:45:12.650172Z",
     "shell.execute_reply": "2022-07-14T17:45:12.649481Z"
    },
    "papermill": {
     "duration": 0.019598,
     "end_time": "2022-07-14T17:45:12.652685",
     "exception": false,
     "start_time": "2022-07-14T17:45:12.633087",
     "status": "completed"
    },
    "tags": []
   },
   "outputs": [
    {
     "name": "stdout",
     "output_type": "stream",
     "text": [
      "|NAMES.|AGE.|MONTHLY RATE OF WAGES.|INTEREST IN PROFITS.|\n",
      "|Frances her x mark|16|none|none.\n",
      "\n",
      "\n",
      "DEPENDENTS.\n",
      "|NAMES.|AGE.|NAMES.|AGE.|\n"
     ]
    }
   ],
   "source": [
    "print(t2[2])"
   ]
  },
  {
   "cell_type": "code",
   "execution_count": 24,
   "id": "f2a21e02",
   "metadata": {
    "execution": {
     "iopub.execute_input": "2022-07-14T17:45:12.679249Z",
     "iopub.status.busy": "2022-07-14T17:45:12.678875Z",
     "iopub.status.idle": "2022-07-14T17:45:12.684227Z",
     "shell.execute_reply": "2022-07-14T17:45:12.683671Z"
    },
    "papermill": {
     "duration": 0.02116,
     "end_time": "2022-07-14T17:45:12.686153",
     "exception": false,
     "start_time": "2022-07-14T17:45:12.664993",
     "status": "completed"
    },
    "tags": []
   },
   "outputs": [
    {
     "data": {
      "text/plain": [
       "\"[[table]]\\nNo. | NAME. | AGE. | ^[[Twelve months]] WAGES. DOLLS. CTS. | MONTHLY PAYM'T. DOLLS. CTS. [[/preprinted]]\\n|Phil Shaver His x mark|33|$144|00|2|00\\n|John Leo His x mark|16|72|00|1|50\\n|Mumford Randleman His x mark|25|120|00|2|00\\n|Adam Fisher His x mark|25|144|00|2|00\\n|Emma Fisher Her x mark|19|72|00|2|00\\n|Joseph Thompson His x mark|19|144|00|2|00\\n|Henry Kelly Ale His mark x|20|144|00|2|00\\n|Samuel Gillespie His x mark|22|120|00|2|00\\n|Nathan Foard His x mark|40|144|00|2|00\\n|Jordan Cox, His x mark|19|120|00|2|00\\n|Ann Tyson Her x mark|18|84|00|2|00\\n|Liza Dixon Her x mark|30|84|00|2|00\\n|Ceily Auston Her x mark||25|00|84|00\\n|Leon Foard His x mark|13|72|00|2|00\\n|Silas Foard His x mark|10|60|00|2|00\\n|Alfred P. Dixon His x mark|10|48|00|2|00\\n|Mary Hall Her x mark|25|72|00|2|00\\n|Hicksey Her x mark|25|72|00|2|00\\n|Dennis His x mark|14|48|00|2|00\\n|George Little & His x mark|31|120|00|2|00\\n|Wife|23|96|00|1|00\\n|Will Alfred & His x mark|28|120|00|2|00\\n|Wife|19|96|00|2|00\\n|Henry Myers His x mark|22|144|00|2|00\\n|Thomas Granderson His x mark|24|120|00|2|00\\n|Fred Deaton His x mark|23|120|00|2|00\\n|[[Illegible - final line of page is cut off]]|14|72|00|2|00\\n[[/Table]]\""
      ]
     },
     "execution_count": 24,
     "metadata": {},
     "output_type": "execute_result"
    }
   ],
   "source": [
    "tb[0]"
   ]
  },
  {
   "cell_type": "code",
   "execution_count": 25,
   "id": "5bd632cc",
   "metadata": {
    "execution": {
     "iopub.execute_input": "2022-07-14T17:45:12.712364Z",
     "iopub.status.busy": "2022-07-14T17:45:12.712019Z",
     "iopub.status.idle": "2022-07-14T17:45:12.718047Z",
     "shell.execute_reply": "2022-07-14T17:45:12.716992Z"
    },
    "papermill": {
     "duration": 0.021327,
     "end_time": "2022-07-14T17:45:12.720100",
     "exception": false,
     "start_time": "2022-07-14T17:45:12.698773",
     "status": "completed"
    },
    "tags": []
   },
   "outputs": [
    {
     "data": {
      "text/plain": [
       "\"[[7 column table]]\\nNo. | NAME. | AGE. | WAGES. DOLLS. | [[WAGES.]] CTS. | MONTHLY PAYM'T. DOLLS. | [[MONTHLY PAYM'T.]] CTS.\\n[[/preprinted]]\\n\\n1 | Sarah | 17 | 2 | 50 | 1 | 75 \""
      ]
     },
     "execution_count": 25,
     "metadata": {},
     "output_type": "execute_result"
    }
   ],
   "source": [
    "t2[0]"
   ]
  },
  {
   "cell_type": "code",
   "execution_count": 26,
   "id": "e6047e20",
   "metadata": {
    "execution": {
     "iopub.execute_input": "2022-07-14T17:45:12.746143Z",
     "iopub.status.busy": "2022-07-14T17:45:12.745765Z",
     "iopub.status.idle": "2022-07-14T17:45:12.751191Z",
     "shell.execute_reply": "2022-07-14T17:45:12.750520Z"
    },
    "papermill": {
     "duration": 0.020768,
     "end_time": "2022-07-14T17:45:12.753261",
     "exception": false,
     "start_time": "2022-07-14T17:45:12.732493",
     "status": "completed"
    },
    "tags": []
   },
   "outputs": [
    {
     "data": {
      "text/plain": [
       "'|No.|Name|Age|Rate of pay per month. Dols Cts.\\n|1|Martha Willis|21|   | '"
      ]
     },
     "execution_count": 26,
     "metadata": {},
     "output_type": "execute_result"
    }
   ],
   "source": [
    "t2[-1]"
   ]
  },
  {
   "cell_type": "code",
   "execution_count": 27,
   "id": "3b60dc98",
   "metadata": {
    "collapsed": true,
    "execution": {
     "iopub.execute_input": "2022-07-14T17:45:12.770709Z",
     "iopub.status.busy": "2022-07-14T17:45:12.770382Z",
     "iopub.status.idle": "2022-07-14T17:45:12.777164Z",
     "shell.execute_reply": "2022-07-14T17:45:12.776381Z"
    },
    "jupyter": {
     "outputs_hidden": true
    },
    "papermill": {
     "duration": 0.017772,
     "end_time": "2022-07-14T17:45:12.779114",
     "exception": false,
     "start_time": "2022-07-14T17:45:12.761342",
     "status": "completed"
    },
    "tags": []
   },
   "outputs": [
    {
     "data": {
      "text/plain": [
       "[['7 column table',\n",
       "  \"No. | NAME. | AGE. | WAGES. DOLLS. | WAGES. CTS. | MONTHLY PAYM'T. DOLLS. | MONTHLY PAYM'T. CTS.\",\n",
       "  '/preprinted'],\n",
       " ['5 columned table',\n",
       "  '| No. | NAMES. | AGE. | RATE of PAY per month. Dols. | RATE of PAY per month. Cents. |         ',\n",
       "  '| --- | --- | --- | --- | --- | '],\n",
       " [],\n",
       " ['6 Columned Table',\n",
       "  '| NAME | AGE | SEX | CLASS | MONTHLY RATE OF WAGES. | INTEREST IN PROFITS. |',\n",
       "  '|---|---|---|---|---|---|',\n",
       "  '| Franklin | 21 | Male | 1st | $8.00 |'],\n",
       " ['3 columned table',\n",
       "  '| --- | --- | --- |',\n",
       "  \"| 1866 June 16th | Approved Contracted between John L. Banks and Merrit Sanders 'fm, for farming this year | J.L.B. is to furnish Lands, teams, Seed, and farming implements. Three (3) Bls of corn, Two Hundred and fifty (250) Lbs of Pork. Leather for two (2) pair of Shoes (Mens). Pay two thirds (2/3) of wages paid to hired hands and give sd. Merritt Sanders one third (1/3) of crops made. \",\n",
       "  'M.S. is to work on said Lands the whole year. pay one third (1/3) of the hire to hands and furnish some assistance on sd. Lands from his family. | note',\n",
       "  \"| June 18 | Approved Contract between W.H. Sanders and Thomas Campbell 'fm, for farming dated March 1st 1866- | W.H. Sanders is to furnish lands, one horse, seed and feed for horse and receive two thirds (2/3) of crops. Freedman Thomas Campbell is to furnish himself and produce crops on said Lands and retain one third (1/3) of crops, and to keep the ditches open on said lands, occupied by his crops |\",\n",
       "  '| June 18 | Approved Contract between David S. Henry and Freedmen Parson Avery, Jackson Sanders and Reuben Sanders for farming dated June 6th 1866. | David S. Avery to furnish Lands Seeds and Teams. Parson Avery Jackson Sanders and Reuben Sanders freedmen to perform the manual labor necessary to make crops with said teams & Seeds and Lands furnished to keep up the fences and care properly for the stock and implements, and receive one third (1/3) of the crops. '],\n",
       " ['5 column table',\n",
       "  '|NAMES.|AGE.|SEX.|MONTHLY RATE OF WAGES.|INTEREST IN PROFITS.|',\n",
       "  '|Margery X (her mark) Russell|30|female|none|none|',\n",
       "  '/5 column table',\n",
       "  'DEPENDENTS.',\n",
       "  '6 column table',\n",
       "  '|NAMES.|AGE.|SEX.|NAMES.|AGE.|SEX.|',\n",
       "  '|Phillis|9|female|   |   |   |',\n",
       "  '|Emma|6|female|   |   |   |'],\n",
       " []]"
      ]
     },
     "execution_count": 27,
     "metadata": {},
     "output_type": "execute_result"
    }
   ],
   "source": [
    "tables_extracted"
   ]
  },
  {
   "cell_type": "code",
   "execution_count": 28,
   "id": "6a92b23f",
   "metadata": {
    "execution": {
     "iopub.execute_input": "2022-07-14T17:45:12.805378Z",
     "iopub.status.busy": "2022-07-14T17:45:12.805066Z",
     "iopub.status.idle": "2022-07-14T17:45:12.810197Z",
     "shell.execute_reply": "2022-07-14T17:45:12.809450Z"
    },
    "papermill": {
     "duration": 0.020953,
     "end_time": "2022-07-14T17:45:12.812600",
     "exception": false,
     "start_time": "2022-07-14T17:45:12.791647",
     "status": "completed"
    },
    "tags": []
   },
   "outputs": [
    {
     "data": {
      "text/plain": [
       "[['7 column table',\n",
       "  \"No. | NAME. | AGE. | WAGES. DOLLS. | WAGES. CTS. | MONTHLY PAYM'T. DOLLS. | MONTHLY PAYM'T. CTS.\",\n",
       "  '/preprinted'],\n",
       " ['5 columned table',\n",
       "  '| No. | NAMES. | AGE. | RATE of PAY per month. Dols. | RATE of PAY per month. Cents. |         ',\n",
       "  '| --- | --- | --- | --- | --- | '],\n",
       " [],\n",
       " ['6 Columned Table',\n",
       "  '| NAME | AGE | SEX | CLASS | MONTHLY RATE OF WAGES. | INTEREST IN PROFITS. |',\n",
       "  '|---|---|---|---|---|---|',\n",
       "  '| Franklin | 21 | Male | 1st | $8.00 |'],\n",
       " ['3 columned table',\n",
       "  '| --- | --- | --- |',\n",
       "  \"| 1866 June 16th | Approved Contracted between John L. Banks and Merrit Sanders 'fm, for farming this year | J.L.B. is to furnish Lands, teams, Seed, and farming implements. Three (3) Bls of corn, Two Hundred and fifty (250) Lbs of Pork. Leather for two (2) pair of Shoes (Mens). Pay two thirds (2/3) of wages paid to hired hands and give sd. Merritt Sanders one third (1/3) of crops made. \",\n",
       "  'M.S. is to work on said Lands the whole year. pay one third (1/3) of the hire to hands and furnish some assistance on sd. Lands from his family. | note',\n",
       "  \"| June 18 | Approved Contract between W.H. Sanders and Thomas Campbell 'fm, for farming dated March 1st 1866- | W.H. Sanders is to furnish lands, one horse, seed and feed for horse and receive two thirds (2/3) of crops. Freedman Thomas Campbell is to furnish himself and produce crops on said Lands and retain one third (1/3) of crops, and to keep the ditches open on said lands, occupied by his crops |\",\n",
       "  '| June 18 | Approved Contract between David S. Henry and Freedmen Parson Avery, Jackson Sanders and Reuben Sanders for farming dated June 6th 1866. | David S. Avery to furnish Lands Seeds and Teams. Parson Avery Jackson Sanders and Reuben Sanders freedmen to perform the manual labor necessary to make crops with said teams & Seeds and Lands furnished to keep up the fences and care properly for the stock and implements, and receive one third (1/3) of the crops. '],\n",
       " ['5 column table',\n",
       "  '|NAMES.|AGE.|SEX.|MONTHLY RATE OF WAGES.|INTEREST IN PROFITS.|',\n",
       "  '|Margery X (her mark) Russell|30|female|none|none|',\n",
       "  '/5 column table',\n",
       "  'DEPENDENTS.',\n",
       "  '6 column table',\n",
       "  '|NAMES.|AGE.|SEX.|NAMES.|AGE.|SEX.|',\n",
       "  '|Phillis|9|female|   |   |   |',\n",
       "  '|Emma|6|female|   |   |   |'],\n",
       " []]"
      ]
     },
     "execution_count": 28,
     "metadata": {},
     "output_type": "execute_result"
    }
   ],
   "source": [
    "tables_extracted"
   ]
  },
  {
   "cell_type": "code",
   "execution_count": 29,
   "id": "e35922a9",
   "metadata": {
    "execution": {
     "iopub.execute_input": "2022-07-14T17:45:12.839729Z",
     "iopub.status.busy": "2022-07-14T17:45:12.839471Z",
     "iopub.status.idle": "2022-07-14T17:45:12.843873Z",
     "shell.execute_reply": "2022-07-14T17:45:12.843174Z"
    },
    "papermill": {
     "duration": 0.021334,
     "end_time": "2022-07-14T17:45:12.846796",
     "exception": false,
     "start_time": "2022-07-14T17:45:12.825462",
     "status": "completed"
    },
    "tags": []
   },
   "outputs": [
    {
     "data": {
      "text/plain": [
       "[4, 5]"
      ]
     },
     "execution_count": 29,
     "metadata": {},
     "output_type": "execute_result"
    }
   ],
   "source": [
    "separator_counts"
   ]
  },
  {
   "cell_type": "code",
   "execution_count": 30,
   "id": "b1b0b3a4",
   "metadata": {
    "execution": {
     "iopub.execute_input": "2022-07-14T17:45:12.874975Z",
     "iopub.status.busy": "2022-07-14T17:45:12.874523Z",
     "iopub.status.idle": "2022-07-14T17:45:12.879793Z",
     "shell.execute_reply": "2022-07-14T17:45:12.878545Z"
    },
    "papermill": {
     "duration": 0.021859,
     "end_time": "2022-07-14T17:45:12.882299",
     "exception": false,
     "start_time": "2022-07-14T17:45:12.860440",
     "status": "completed"
    },
    "tags": []
   },
   "outputs": [
    {
     "name": "stdout",
     "output_type": "stream",
     "text": [
      "5\n"
     ]
    }
   ],
   "source": [
    "nb=0\n",
    "for example in (tables_extracted):\n",
    "    if len(example)> 0 :\n",
    "        nb=nb+1\n",
    "print(nb)"
   ]
  },
  {
   "cell_type": "code",
   "execution_count": 31,
   "id": "09dd4210",
   "metadata": {
    "execution": {
     "iopub.execute_input": "2022-07-14T17:45:12.910179Z",
     "iopub.status.busy": "2022-07-14T17:45:12.909814Z",
     "iopub.status.idle": "2022-07-14T17:45:12.913873Z",
     "shell.execute_reply": "2022-07-14T17:45:12.913024Z"
    },
    "papermill": {
     "duration": 0.020597,
     "end_time": "2022-07-14T17:45:12.915979",
     "exception": false,
     "start_time": "2022-07-14T17:45:12.895382",
     "status": "completed"
    },
    "tags": []
   },
   "outputs": [],
   "source": [
    "# for i in (contract[contract.tables_parsed == {}].sample(n=2).transcription_text.tolist()):\n",
    "\n",
    "#     print(i)\n",
    "#     print(\"\\n==========\\n\")"
   ]
  },
  {
   "cell_type": "code",
   "execution_count": null,
   "id": "fdf8d6a5",
   "metadata": {
    "papermill": {
     "duration": 0.012662,
     "end_time": "2022-07-14T17:45:12.942096",
     "exception": false,
     "start_time": "2022-07-14T17:45:12.929434",
     "status": "completed"
    },
    "tags": []
   },
   "outputs": [],
   "source": []
  }
 ],
 "metadata": {
  "kernelspec": {
   "display_name": "Python 3",
   "language": "python",
   "name": "python3"
  },
  "language_info": {
   "codemirror_mode": {
    "name": "ipython",
    "version": 3
   },
   "file_extension": ".py",
   "mimetype": "text/x-python",
   "name": "python",
   "nbconvert_exporter": "python",
   "pygments_lexer": "ipython3",
   "version": "3.7.12"
  },
  "papermill": {
   "default_parameters": {},
   "duration": 62.501889,
   "end_time": "2022-07-14T17:45:13.777029",
   "environment_variables": {},
   "exception": null,
   "input_path": "__notebook__.ipynb",
   "output_path": "__notebook__.ipynb",
   "parameters": {},
   "start_time": "2022-07-14T17:44:11.275140",
   "version": "2.3.4"
  }
 },
 "nbformat": 4,
 "nbformat_minor": 5
}
